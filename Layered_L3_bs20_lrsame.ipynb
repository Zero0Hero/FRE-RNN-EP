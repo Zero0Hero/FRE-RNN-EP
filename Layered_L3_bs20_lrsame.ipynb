{
 "cells": [
  {
   "cell_type": "code",
   "execution_count": null,
   "id": "b5198765",
   "metadata": {},
   "outputs": [
    {
     "name": "stdout",
     "output_type": "stream",
     "text": [
      "cuda:True\n",
      "GPU 0:NVIDIA RTX A5000:23.99GB\n"
     ]
    },
    {
     "data": {
      "text/plain": [
       "<torch.autograd.grad_mode.set_grad_enabled at 0x1b98c4c2d60>"
      ]
     },
     "execution_count": 1,
     "metadata": {},
     "output_type": "execute_result"
    }
   ],
   "source": [
    "import torch\n",
    "import numpy as np\n",
    "import random\n",
    "import time\n",
    "from tqdm import tqdm  # \n",
    "from pathlib import Path\n",
    "\n",
    "\n",
    "seed = 42\n",
    "random.seed(seed)\n",
    "np.random.seed(seed)\n",
    "torch.manual_seed(seed)\n",
    "if torch.cuda.is_available():\n",
    "    torch.cuda.manual_seed(seed)\n",
    "    torch.cuda.manual_seed_all(seed)\n",
    "# torch.backends.cudnn.deterministic = True\n",
    "# torch.backends.cudnn.benchmark = False\n",
    "torch.backends.cudnn.benchmark = True\n",
    "\n",
    "\n",
    "if torch.cuda.is_available():\n",
    "    print(f\"cuda:True\")\n",
    "    for i in range(torch.cuda.device_count()):\n",
    "        device = torch.device(f\"cuda:{i}\")\n",
    "        properties = torch.cuda.get_device_properties(device)\n",
    "        print(f\"GPU {i}:{properties.name}:{properties.total_memory/1024/1024/1024:.2f}GB\")\n",
    "else:\n",
    "    print(f\"cuda:False\")\n",
    "    device = torch.device(\"cpu\")\n",
    "\n",
    "\n",
    "from models_LN import FNN_LN, dataset, one_hot, cross_entropy_loss, linear, linear_d, tanh, tanh_d, sign, sign_d, sigmoid, sigmoid_d, relu, relu_d, relu6, relu6_d, softmax, softmax_d\n",
    "\n",
    "torch.set_grad_enabled(False)"
   ]
  },
  {
   "cell_type": "code",
   "execution_count": 2,
   "id": "1391941d",
   "metadata": {},
   "outputs": [],
   "source": [
    "\n",
    "class Config:\n",
    "    def __init__(self):\n",
    "        self.n_input = 28 * 28  # \n",
    "        self.n_hidd = 16     # \n",
    "        self.n_out = 10      # \n",
    "\n",
    "        self.nL_hidd = 2\n",
    "\n",
    "        self.sc_forward = 1\n",
    "        self.sc_bias = 0\n",
    "        self.sc_back = 1\n",
    "\n",
    "        self.f = tanh #  relu tanh\n",
    "        self.fd = 0 #tanh_d # relu_d tanh_d\n",
    "\n",
    "        self.train_eta_global = 1e-3  #\n",
    "        self.train_n_epochs = 100     # \n",
    "        self.train_batch_size = 20     # \n",
    "        self.train_task = \"MNIST\" #  \"MNIST\" \"FMNIST\" \"CIFAR10\"\n",
    "        self.train_tmethod = ''     # 'FA','PC','LRA','BP'\n",
    "\n",
    "        self.biasLearning = False\n",
    "        \n",
    "        self.EP_It2sta = 8\n",
    "        self.EP_nudge = 1\n",
    "        \n",
    "config = Config()"
   ]
  },
  {
   "cell_type": "code",
   "execution_count": 3,
   "id": "153561ab",
   "metadata": {},
   "outputs": [],
   "source": [
    "train_loader, valid_loader, test_loader, config = dataset(config)\n",
    "config.test_batch_size = 500\n",
    "train_loader_gpu = [(data.to(device), target.to(device)) for data, target in train_loader]\n",
    "valid_loader_gpu = [(data.to(device), target.to(device)) for data, target in valid_loader]\n",
    "test_loader_gpu = [(data.to(device), target.to(device)) for data, target in test_loader]"
   ]
  },
  {
   "cell_type": "code",
   "execution_count": 4,
   "id": "1044f066",
   "metadata": {},
   "outputs": [],
   "source": [
    "##\n",
    "ParaName = f'First_symm_LN_t2sta2_bs20_lrsame'\n",
    "Einfo = ''\n",
    "\n",
    "res_path = Path(f\"./Res/{ParaName}-{config.train_task}\")\n",
    "M_range = [0.01] # 0.001, 0.01, 0.1, 0.25, 1, 2, 4 fbsc  # 0.01, 0.1, 0.25, 0.5, 1, 2 SRsc\n",
    "ParaRange = [3] # 2,3,5,8\n",
    "multitest = 5 \n",
    "config.save = True\n",
    "config.ff = softmax\n",
    "config.ffd = 0 #softmax_d\n",
    "# -=--------------------------\n",
    "config.train_tmethod = 'EP'\n",
    "# config.nL_hidd = 2\n",
    "config.n_hidd = 512     # \n",
    "\n",
    "config.train_n_epochs = 100  # \n",
    "\n",
    "config.EP_symm_W = True\n",
    "config.adam = False\n",
    "config.EP_b_learn = False\n",
    "config.EP_f_sc = 1\n",
    "config.EP_nudge = 0.1\n",
    "# config.EP_b_sc = 0.25"
   ]
  },
  {
   "cell_type": "code",
   "execution_count": 5,
   "id": "70152331",
   "metadata": {},
   "outputs": [],
   "source": [
    "# -=--------------------------\n",
    "res_path.mkdir(parents=True, exist_ok=True)\n",
    "res = np.zeros((len(M_range),len(ParaRange),(multitest),6,config.train_n_epochs))\n",
    "\n",
    "zall_list = [[[] for _ in range(len(ParaRange))] for _ in range(len(M_range))]\n",
    "eall_list = [[[[] for _ in range((multitest))] for _ in range(len(ParaRange))] for _ in range(len(M_range))]"
   ]
  },
  {
   "cell_type": "code",
   "execution_count": 6,
   "id": "3d9cbabd",
   "metadata": {},
   "outputs": [
    {
     "name": "stdout",
     "output_type": "stream",
     "text": [
      "Current Time: 20250721-172600\n"
     ]
    }
   ],
   "source": [
    "current_time = time.strftime(\"%Y%m%d-%H%M%S\", time.localtime())\n",
    "print(f'Current Time: {current_time}')\n",
    "with open(res_path/\"res.txt\", \"a\") as f: \n",
    "    f.write(f\"===================================================================\")       \n",
    "    f.write(f\"Start Time: {current_time}\\r\\n\")"
   ]
  },
  {
   "cell_type": "code",
   "execution_count": 7,
   "id": "d43b289d",
   "metadata": {},
   "outputs": [
    {
     "name": "stdout",
     "output_type": "stream",
     "text": [
      "EP_L3_MNIST_First_symm_LN_t2sta2_bs20_lrsame-EP_b_sc0.01-EP_It2sta18-\n"
     ]
    },
    {
     "name": "stderr",
     "output_type": "stream",
     "text": [
      "Epoch 1/100:   0%|\u001b[34m                                            \u001b[0m| 0/3000 [00:00<?, ?batch/s]\u001b[0md:\\GPUS2share\\aEP\\models_LN.py:249: UserWarning: To copy construct from a tensor, it is recommended to use sourceTensor.clone().detach() or sourceTensor.clone().detach().requires_grad_(True), rather than torch.tensor(sourceTensor).\n",
      "  self.y = torch.tensor(self.z, device=self.device)\n",
      "Epoch 1/100: 100%|\u001b[34m██████████████████\u001b[0m| 3000/3000 [00:35<00:00, 84.13batch/s, loss=0.426320]\u001b[0m\n"
     ]
    },
    {
     "name": "stdout",
     "output_type": "stream",
     "text": [
      "\t Loss: 1270.498,\tTrain : 88.00%(88.00%),\tTest : 90.70%(90.70%),\tCurrent Time: 20250721-172636\n"
     ]
    },
    {
     "name": "stderr",
     "output_type": "stream",
     "text": [
      "Epoch 2/100: 100%|\u001b[34m██████████████████\u001b[0m| 3000/3000 [00:34<00:00, 86.72batch/s, loss=0.320436]\u001b[0m\n"
     ]
    },
    {
     "name": "stdout",
     "output_type": "stream",
     "text": [
      "\t Loss: 958.254,\tTrain : 90.88%(90.88%),\tTest : 91.45%(91.45%),\tCurrent Time: 20250721-172711\n"
     ]
    },
    {
     "name": "stderr",
     "output_type": "stream",
     "text": [
      "Epoch 3/100: 100%|\u001b[34m██████████████████\u001b[0m| 3000/3000 [00:35<00:00, 85.32batch/s, loss=0.297804]\u001b[0m\n"
     ]
    },
    {
     "name": "stdout",
     "output_type": "stream",
     "text": [
      "\t Loss: 891.213,\tTrain : 91.51%(91.51%),\tTest : 91.86%(91.86%),\tCurrent Time: 20250721-172747\n"
     ]
    },
    {
     "name": "stderr",
     "output_type": "stream",
     "text": [
      "Epoch 4/100: 100%|\u001b[34m██████████████████\u001b[0m| 3000/3000 [00:35<00:00, 85.28batch/s, loss=0.278892]\u001b[0m\n"
     ]
    },
    {
     "name": "stdout",
     "output_type": "stream",
     "text": [
      "\t Loss: 837.426,\tTrain : 92.02%(92.02%),\tTest : 92.44%(92.44%),\tCurrent Time: 20250721-172823\n"
     ]
    },
    {
     "name": "stderr",
     "output_type": "stream",
     "text": [
      "Epoch 5/100: 100%|\u001b[34m██████████████████\u001b[0m| 3000/3000 [00:34<00:00, 88.16batch/s, loss=0.261866]\u001b[0m\n"
     ]
    },
    {
     "name": "stdout",
     "output_type": "stream",
     "text": [
      "\t Loss: 785.636,\tTrain : 92.62%(92.62%),\tTest : 92.94%(92.94%),\tCurrent Time: 20250721-172857\n"
     ]
    },
    {
     "name": "stderr",
     "output_type": "stream",
     "text": [
      "Epoch 6/100: 100%|\u001b[34m██████████████████\u001b[0m| 3000/3000 [00:34<00:00, 87.47batch/s, loss=0.244096]\u001b[0m\n"
     ]
    },
    {
     "name": "stdout",
     "output_type": "stream",
     "text": [
      "\t Loss: 726.509,\tTrain : 93.12%(93.12%),\tTest : 93.23%(93.23%),\tCurrent Time: 20250721-172932\n"
     ]
    },
    {
     "name": "stderr",
     "output_type": "stream",
     "text": [
      "Epoch 7/100: 100%|\u001b[34m██████████████████\u001b[0m| 3000/3000 [00:33<00:00, 90.45batch/s, loss=0.222419]\u001b[0m\n"
     ]
    },
    {
     "name": "stdout",
     "output_type": "stream",
     "text": [
      "\t Loss: 667.111,\tTrain : 93.61%(93.61%),\tTest : 93.57%(93.57%),\tCurrent Time: 20250721-173006\n"
     ]
    },
    {
     "name": "stderr",
     "output_type": "stream",
     "text": [
      "Epoch 8/100: 100%|\u001b[34m██████████████████\u001b[0m| 3000/3000 [00:33<00:00, 89.98batch/s, loss=0.203793]\u001b[0m\n"
     ]
    },
    {
     "name": "stdout",
     "output_type": "stream",
     "text": [
      "\t Loss: 608.550,\tTrain : 94.16%(94.16%),\tTest : 94.49%(94.49%),\tCurrent Time: 20250721-173040\n"
     ]
    },
    {
     "name": "stderr",
     "output_type": "stream",
     "text": [
      "Epoch 9/100: 100%|\u001b[34m██████████████████\u001b[0m| 3000/3000 [00:33<00:00, 89.80batch/s, loss=0.187143]\u001b[0m\n"
     ]
    },
    {
     "name": "stdout",
     "output_type": "stream",
     "text": [
      "\t Loss: 560.482,\tTrain : 94.63%(94.63%),\tTest : 94.56%(94.56%),\tCurrent Time: 20250721-173114\n"
     ]
    },
    {
     "name": "stderr",
     "output_type": "stream",
     "text": [
      "Epoch 10/100: 100%|\u001b[34m█████████████████\u001b[0m| 3000/3000 [00:33<00:00, 90.38batch/s, loss=0.171693]\u001b[0m\n"
     ]
    },
    {
     "name": "stdout",
     "output_type": "stream",
     "text": [
      "\t Loss: 515.504,\tTrain : 95.05%(95.05%),\tTest : 94.84%(94.84%),\tCurrent Time: 20250721-173148\n"
     ]
    },
    {
     "name": "stderr",
     "output_type": "stream",
     "text": [
      "Epoch 11/100: 100%|\u001b[34m█████████████████\u001b[0m| 3000/3000 [00:33<00:00, 90.30batch/s, loss=0.158871]\u001b[0m\n"
     ]
    },
    {
     "name": "stdout",
     "output_type": "stream",
     "text": [
      "\t Loss: 475.049,\tTrain : 95.40%(95.40%),\tTest : 95.26%(95.26%),\tCurrent Time: 20250721-173221\n"
     ]
    },
    {
     "name": "stderr",
     "output_type": "stream",
     "text": [
      "Epoch 12/100: 100%|\u001b[34m█████████████████\u001b[0m| 3000/3000 [00:35<00:00, 85.06batch/s, loss=0.147475]\u001b[0m\n"
     ]
    },
    {
     "name": "stdout",
     "output_type": "stream",
     "text": [
      "\t Loss: 441.594,\tTrain : 95.69%(95.69%),\tTest : 95.55%(95.55%),\tCurrent Time: 20250721-173257\n"
     ]
    },
    {
     "name": "stderr",
     "output_type": "stream",
     "text": [
      "Epoch 13/100: 100%|\u001b[34m█████████████████\u001b[0m| 3000/3000 [00:34<00:00, 86.24batch/s, loss=0.137370]\u001b[0m\n"
     ]
    },
    {
     "name": "stdout",
     "output_type": "stream",
     "text": [
      "\t Loss: 413.819,\tTrain : 96.00%(96.00%),\tTest : 95.80%(95.80%),\tCurrent Time: 20250721-173333\n"
     ]
    },
    {
     "name": "stderr",
     "output_type": "stream",
     "text": [
      "Epoch 14/100: 100%|\u001b[34m█████████████████\u001b[0m| 3000/3000 [00:34<00:00, 86.76batch/s, loss=0.128087]\u001b[0m\n"
     ]
    },
    {
     "name": "stdout",
     "output_type": "stream",
     "text": [
      "\t Loss: 385.623,\tTrain : 96.27%(96.27%),\tTest : 95.89%(95.89%),\tCurrent Time: 20250721-173408\n"
     ]
    },
    {
     "name": "stderr",
     "output_type": "stream",
     "text": [
      "Epoch 15/100: 100%|\u001b[34m█████████████████\u001b[0m| 3000/3000 [00:34<00:00, 87.01batch/s, loss=0.122178]\u001b[0m\n"
     ]
    },
    {
     "name": "stdout",
     "output_type": "stream",
     "text": [
      "\t Loss: 365.258,\tTrain : 96.44%(96.44%),\tTest : 96.06%(96.06%),\tCurrent Time: 20250721-173443\n"
     ]
    },
    {
     "name": "stderr",
     "output_type": "stream",
     "text": [
      "Epoch 16/100: 100%|\u001b[34m█████████████████\u001b[0m| 3000/3000 [00:34<00:00, 86.29batch/s, loss=0.114135]\u001b[0m\n"
     ]
    },
    {
     "name": "stdout",
     "output_type": "stream",
     "text": [
      "\t Loss: 343.475,\tTrain : 96.65%(96.65%),\tTest : 96.06%(96.06%),\tCurrent Time: 20250721-173518\n"
     ]
    },
    {
     "name": "stderr",
     "output_type": "stream",
     "text": [
      "Epoch 17/100: 100%|\u001b[34m█████████████████\u001b[0m| 3000/3000 [00:35<00:00, 85.13batch/s, loss=0.108360]\u001b[0m\n"
     ]
    },
    {
     "name": "stdout",
     "output_type": "stream",
     "text": [
      "\t Loss: 324.060,\tTrain : 96.88%(96.88%),\tTest : 96.08%(96.08%),\tCurrent Time: 20250721-173554\n"
     ]
    },
    {
     "name": "stderr",
     "output_type": "stream",
     "text": [
      "Epoch 18/100: 100%|\u001b[34m█████████████████\u001b[0m| 3000/3000 [00:35<00:00, 85.33batch/s, loss=0.102450]\u001b[0m\n"
     ]
    },
    {
     "name": "stdout",
     "output_type": "stream",
     "text": [
      "\t Loss: 309.830,\tTrain : 96.98%(96.98%),\tTest : 96.57%(96.57%),\tCurrent Time: 20250721-173630\n"
     ]
    },
    {
     "name": "stderr",
     "output_type": "stream",
     "text": [
      "Epoch 19/100: 100%|\u001b[34m█████████████████\u001b[0m| 3000/3000 [00:34<00:00, 85.87batch/s, loss=0.097479]\u001b[0m\n"
     ]
    },
    {
     "name": "stdout",
     "output_type": "stream",
     "text": [
      "\t Loss: 292.669,\tTrain : 97.16%(97.16%),\tTest : 96.43%(96.57%),\tCurrent Time: 20250721-173705\n"
     ]
    },
    {
     "name": "stderr",
     "output_type": "stream",
     "text": [
      "Epoch 20/100: 100%|\u001b[34m█████████████████\u001b[0m| 3000/3000 [00:34<00:00, 87.18batch/s, loss=0.093066]\u001b[0m\n"
     ]
    },
    {
     "name": "stdout",
     "output_type": "stream",
     "text": [
      "\t Loss: 278.895,\tTrain : 97.35%(97.35%),\tTest : 96.67%(96.67%),\tCurrent Time: 20250721-173740\n"
     ]
    },
    {
     "name": "stderr",
     "output_type": "stream",
     "text": [
      "Epoch 21/100: 100%|\u001b[34m█████████████████\u001b[0m| 3000/3000 [00:34<00:00, 87.75batch/s, loss=0.088586]\u001b[0m\n"
     ]
    },
    {
     "name": "stdout",
     "output_type": "stream",
     "text": [
      "\t Loss: 266.054,\tTrain : 97.46%(97.46%),\tTest : 96.68%(96.68%),\tCurrent Time: 20250721-173815\n"
     ]
    },
    {
     "name": "stderr",
     "output_type": "stream",
     "text": [
      "Epoch 22/100: 100%|\u001b[34m█████████████████\u001b[0m| 3000/3000 [00:35<00:00, 85.09batch/s, loss=0.084835]\u001b[0m\n"
     ]
    },
    {
     "name": "stdout",
     "output_type": "stream",
     "text": [
      "\t Loss: 253.429,\tTrain : 97.52%(97.52%),\tTest : 96.74%(96.74%),\tCurrent Time: 20250721-173851\n"
     ]
    },
    {
     "name": "stderr",
     "output_type": "stream",
     "text": [
      "Epoch 23/100: 100%|\u001b[34m█████████████████\u001b[0m| 3000/3000 [00:35<00:00, 85.71batch/s, loss=0.080911]\u001b[0m\n"
     ]
    },
    {
     "name": "stdout",
     "output_type": "stream",
     "text": [
      "\t Loss: 242.663,\tTrain : 97.64%(97.64%),\tTest : 96.85%(96.85%),\tCurrent Time: 20250721-173927\n"
     ]
    },
    {
     "name": "stderr",
     "output_type": "stream",
     "text": [
      "Epoch 24/100: 100%|\u001b[34m█████████████████\u001b[0m| 3000/3000 [00:35<00:00, 84.53batch/s, loss=0.077572]\u001b[0m\n"
     ]
    },
    {
     "name": "stdout",
     "output_type": "stream",
     "text": [
      "\t Loss: 232.607,\tTrain : 97.82%(97.82%),\tTest : 97.03%(97.03%),\tCurrent Time: 20250721-174003\n"
     ]
    },
    {
     "name": "stderr",
     "output_type": "stream",
     "text": [
      "Epoch 25/100: 100%|\u001b[34m█████████████████\u001b[0m| 3000/3000 [00:33<00:00, 88.24batch/s, loss=0.074003]\u001b[0m\n"
     ]
    },
    {
     "name": "stdout",
     "output_type": "stream",
     "text": [
      "\t Loss: 223.590,\tTrain : 97.83%(97.83%),\tTest : 97.01%(97.03%),\tCurrent Time: 20250721-174037\n"
     ]
    },
    {
     "name": "stderr",
     "output_type": "stream",
     "text": [
      "Epoch 26/100: 100%|\u001b[34m█████████████████\u001b[0m| 3000/3000 [00:34<00:00, 87.44batch/s, loss=0.071526]\u001b[0m\n"
     ]
    },
    {
     "name": "stdout",
     "output_type": "stream",
     "text": [
      "\t Loss: 213.620,\tTrain : 97.99%(97.99%),\tTest : 96.74%(97.03%),\tCurrent Time: 20250721-174112\n"
     ]
    },
    {
     "name": "stderr",
     "output_type": "stream",
     "text": [
      "Epoch 27/100: 100%|\u001b[34m█████████████████\u001b[0m| 3000/3000 [00:34<00:00, 86.65batch/s, loss=0.068618]\u001b[0m\n"
     ]
    },
    {
     "name": "stdout",
     "output_type": "stream",
     "text": [
      "\t Loss: 206.122,\tTrain : 98.00%(98.00%),\tTest : 97.07%(97.07%),\tCurrent Time: 20250721-174148\n"
     ]
    },
    {
     "name": "stderr",
     "output_type": "stream",
     "text": [
      "Epoch 28/100: 100%|\u001b[34m█████████████████\u001b[0m| 3000/3000 [00:35<00:00, 84.97batch/s, loss=0.065947]\u001b[0m\n"
     ]
    },
    {
     "name": "stdout",
     "output_type": "stream",
     "text": [
      "\t Loss: 197.064,\tTrain : 98.10%(98.10%),\tTest : 97.30%(97.30%),\tCurrent Time: 20250721-174223\n"
     ]
    },
    {
     "name": "stderr",
     "output_type": "stream",
     "text": [
      "Epoch 29/100: 100%|\u001b[34m█████████████████\u001b[0m| 3000/3000 [00:35<00:00, 84.64batch/s, loss=0.062839]\u001b[0m\n"
     ]
    },
    {
     "name": "stdout",
     "output_type": "stream",
     "text": [
      "\t Loss: 189.123,\tTrain : 98.19%(98.19%),\tTest : 97.15%(97.30%),\tCurrent Time: 20250721-174259\n"
     ]
    },
    {
     "name": "stderr",
     "output_type": "stream",
     "text": [
      "Epoch 30/100: 100%|\u001b[34m█████████████████\u001b[0m| 3000/3000 [00:35<00:00, 84.93batch/s, loss=0.060233]\u001b[0m\n"
     ]
    },
    {
     "name": "stdout",
     "output_type": "stream",
     "text": [
      "\t Loss: 181.267,\tTrain : 98.24%(98.24%),\tTest : 97.05%(97.30%),\tCurrent Time: 20250721-174335\n"
     ]
    },
    {
     "name": "stderr",
     "output_type": "stream",
     "text": [
      "Epoch 31/100: 100%|\u001b[34m█████████████████\u001b[0m| 3000/3000 [00:34<00:00, 85.95batch/s, loss=0.058034]\u001b[0m\n"
     ]
    },
    {
     "name": "stdout",
     "output_type": "stream",
     "text": [
      "\t Loss: 174.135,\tTrain : 98.32%(98.32%),\tTest : 97.15%(97.30%),\tCurrent Time: 20250721-174411\n"
     ]
    },
    {
     "name": "stderr",
     "output_type": "stream",
     "text": [
      "Epoch 32/100: 100%|\u001b[34m█████████████████\u001b[0m| 3000/3000 [00:35<00:00, 84.92batch/s, loss=0.055994]\u001b[0m\n"
     ]
    },
    {
     "name": "stdout",
     "output_type": "stream",
     "text": [
      "\t Loss: 167.845,\tTrain : 98.41%(98.41%),\tTest : 97.28%(97.30%),\tCurrent Time: 20250721-174447\n"
     ]
    },
    {
     "name": "stderr",
     "output_type": "stream",
     "text": [
      "Epoch 33/100: 100%|\u001b[34m█████████████████\u001b[0m| 3000/3000 [00:35<00:00, 85.32batch/s, loss=0.054054]\u001b[0m\n"
     ]
    },
    {
     "name": "stdout",
     "output_type": "stream",
     "text": [
      "\t Loss: 162.187,\tTrain : 98.53%(98.53%),\tTest : 97.21%(97.30%),\tCurrent Time: 20250721-174523\n"
     ]
    },
    {
     "name": "stderr",
     "output_type": "stream",
     "text": [
      "Epoch 34/100: 100%|\u001b[34m█████████████████\u001b[0m| 3000/3000 [00:34<00:00, 85.78batch/s, loss=0.051659]\u001b[0m\n"
     ]
    },
    {
     "name": "stdout",
     "output_type": "stream",
     "text": [
      "\t Loss: 155.621,\tTrain : 98.54%(98.54%),\tTest : 97.33%(97.33%),\tCurrent Time: 20250721-174558\n"
     ]
    },
    {
     "name": "stderr",
     "output_type": "stream",
     "text": [
      "Epoch 35/100: 100%|\u001b[34m█████████████████\u001b[0m| 3000/3000 [00:35<00:00, 84.11batch/s, loss=0.050256]\u001b[0m\n"
     ]
    },
    {
     "name": "stdout",
     "output_type": "stream",
     "text": [
      "\t Loss: 149.800,\tTrain : 98.57%(98.57%),\tTest : 97.55%(97.55%),\tCurrent Time: 20250721-174634\n"
     ]
    },
    {
     "name": "stderr",
     "output_type": "stream",
     "text": [
      "Epoch 36/100: 100%|\u001b[34m█████████████████\u001b[0m| 3000/3000 [00:35<00:00, 85.07batch/s, loss=0.048058]\u001b[0m\n"
     ]
    },
    {
     "name": "stdout",
     "output_type": "stream",
     "text": [
      "\t Loss: 144.632,\tTrain : 98.66%(98.66%),\tTest : 97.42%(97.55%),\tCurrent Time: 20250721-174710\n"
     ]
    },
    {
     "name": "stderr",
     "output_type": "stream",
     "text": [
      "Epoch 37/100: 100%|\u001b[34m█████████████████\u001b[0m| 3000/3000 [00:37<00:00, 80.36batch/s, loss=0.046525]\u001b[0m\n"
     ]
    },
    {
     "name": "stdout",
     "output_type": "stream",
     "text": [
      "\t Loss: 140.160,\tTrain : 98.72%(98.72%),\tTest : 97.51%(97.55%),\tCurrent Time: 20250721-174748\n"
     ]
    },
    {
     "name": "stderr",
     "output_type": "stream",
     "text": [
      "Epoch 38/100: 100%|\u001b[34m█████████████████\u001b[0m| 3000/3000 [00:38<00:00, 77.46batch/s, loss=0.044824]\u001b[0m\n"
     ]
    },
    {
     "name": "stdout",
     "output_type": "stream",
     "text": [
      "\t Loss: 134.966,\tTrain : 98.76%(98.76%),\tTest : 97.43%(97.55%),\tCurrent Time: 20250721-174828\n"
     ]
    },
    {
     "name": "stderr",
     "output_type": "stream",
     "text": [
      "Epoch 39/100: 100%|\u001b[34m█████████████████\u001b[0m| 3000/3000 [00:36<00:00, 82.16batch/s, loss=0.042740]\u001b[0m\n"
     ]
    },
    {
     "name": "stdout",
     "output_type": "stream",
     "text": [
      "\t Loss: 128.307,\tTrain : 98.81%(98.81%),\tTest : 97.49%(97.55%),\tCurrent Time: 20250721-174905\n"
     ]
    },
    {
     "name": "stderr",
     "output_type": "stream",
     "text": [
      "Epoch 40/100: 100%|\u001b[34m█████████████████\u001b[0m| 3000/3000 [00:37<00:00, 80.14batch/s, loss=0.041009]\u001b[0m\n"
     ]
    },
    {
     "name": "stdout",
     "output_type": "stream",
     "text": [
      "\t Loss: 123.602,\tTrain : 98.84%(98.84%),\tTest : 97.20%(97.55%),\tCurrent Time: 20250721-174943\n"
     ]
    },
    {
     "name": "stderr",
     "output_type": "stream",
     "text": [
      "Epoch 41/100: 100%|\u001b[34m█████████████████\u001b[0m| 3000/3000 [00:37<00:00, 80.20batch/s, loss=0.039965]\u001b[0m\n"
     ]
    },
    {
     "name": "stdout",
     "output_type": "stream",
     "text": [
      "\t Loss: 119.608,\tTrain : 98.91%(98.91%),\tTest : 97.37%(97.55%),\tCurrent Time: 20250721-175021\n"
     ]
    },
    {
     "name": "stderr",
     "output_type": "stream",
     "text": [
      "Epoch 42/100: 100%|\u001b[34m█████████████████\u001b[0m| 3000/3000 [00:37<00:00, 80.82batch/s, loss=0.037974]\u001b[0m\n"
     ]
    },
    {
     "name": "stdout",
     "output_type": "stream",
     "text": [
      "\t Loss: 114.922,\tTrain : 98.94%(98.94%),\tTest : 97.40%(97.55%),\tCurrent Time: 20250721-175059\n"
     ]
    },
    {
     "name": "stderr",
     "output_type": "stream",
     "text": [
      "Epoch 43/100: 100%|\u001b[34m█████████████████\u001b[0m| 3000/3000 [00:36<00:00, 81.42batch/s, loss=0.036762]\u001b[0m\n"
     ]
    },
    {
     "name": "stdout",
     "output_type": "stream",
     "text": [
      "\t Loss: 110.085,\tTrain : 99.00%(99.00%),\tTest : 97.46%(97.55%),\tCurrent Time: 20250721-175136\n"
     ]
    },
    {
     "name": "stderr",
     "output_type": "stream",
     "text": [
      "Epoch 44/100: 100%|\u001b[34m█████████████████\u001b[0m| 3000/3000 [00:36<00:00, 82.79batch/s, loss=0.035358]\u001b[0m\n"
     ]
    },
    {
     "name": "stdout",
     "output_type": "stream",
     "text": [
      "\t Loss: 106.902,\tTrain : 99.05%(99.05%),\tTest : 97.52%(97.55%),\tCurrent Time: 20250721-175213\n"
     ]
    },
    {
     "name": "stderr",
     "output_type": "stream",
     "text": [
      "Epoch 45/100: 100%|\u001b[34m█████████████████\u001b[0m| 3000/3000 [00:36<00:00, 82.51batch/s, loss=0.034149]\u001b[0m\n"
     ]
    },
    {
     "name": "stdout",
     "output_type": "stream",
     "text": [
      "\t Loss: 102.978,\tTrain : 99.07%(99.07%),\tTest : 97.49%(97.55%),\tCurrent Time: 20250721-175250\n"
     ]
    },
    {
     "name": "stderr",
     "output_type": "stream",
     "text": [
      "Epoch 46/100: 100%|\u001b[34m█████████████████\u001b[0m| 3000/3000 [00:36<00:00, 82.61batch/s, loss=0.033147]\u001b[0m\n"
     ]
    },
    {
     "name": "stdout",
     "output_type": "stream",
     "text": [
      "\t Loss: 99.333,\tTrain : 99.11%(99.11%),\tTest : 97.66%(97.66%),\tCurrent Time: 20250721-175327\n"
     ]
    },
    {
     "name": "stderr",
     "output_type": "stream",
     "text": [
      "Epoch 47/100: 100%|\u001b[34m█████████████████\u001b[0m| 3000/3000 [00:36<00:00, 81.60batch/s, loss=0.031662]\u001b[0m\n"
     ]
    },
    {
     "name": "stdout",
     "output_type": "stream",
     "text": [
      "\t Loss: 95.415,\tTrain : 99.18%(99.18%),\tTest : 97.47%(97.66%),\tCurrent Time: 20250721-175404\n"
     ]
    },
    {
     "name": "stderr",
     "output_type": "stream",
     "text": [
      "Epoch 48/100: 100%|\u001b[34m█████████████████\u001b[0m| 3000/3000 [00:36<00:00, 83.13batch/s, loss=0.030682]\u001b[0m\n"
     ]
    },
    {
     "name": "stdout",
     "output_type": "stream",
     "text": [
      "\t Loss: 92.023,\tTrain : 99.24%(99.24%),\tTest : 97.65%(97.66%),\tCurrent Time: 20250721-175441\n"
     ]
    },
    {
     "name": "stderr",
     "output_type": "stream",
     "text": [
      "Epoch 49/100: 100%|\u001b[34m█████████████████\u001b[0m| 3000/3000 [00:35<00:00, 83.58batch/s, loss=0.029256]\u001b[0m\n"
     ]
    },
    {
     "name": "stdout",
     "output_type": "stream",
     "text": [
      "\t Loss: 88.436,\tTrain : 99.27%(99.27%),\tTest : 97.54%(97.66%),\tCurrent Time: 20250721-175517\n"
     ]
    },
    {
     "name": "stderr",
     "output_type": "stream",
     "text": [
      "Epoch 50/100: 100%|\u001b[34m█████████████████\u001b[0m| 3000/3000 [00:36<00:00, 81.43batch/s, loss=0.028408]\u001b[0m\n"
     ]
    },
    {
     "name": "stdout",
     "output_type": "stream",
     "text": [
      "\t Loss: 85.138,\tTrain : 99.26%(99.27%),\tTest : 97.55%(97.66%),\tCurrent Time: 20250721-175555\n"
     ]
    },
    {
     "name": "stderr",
     "output_type": "stream",
     "text": [
      "Epoch 51/100: 100%|\u001b[34m█████████████████\u001b[0m| 3000/3000 [00:36<00:00, 82.65batch/s, loss=0.027391]\u001b[0m\n"
     ]
    },
    {
     "name": "stdout",
     "output_type": "stream",
     "text": [
      "\t Loss: 82.049,\tTrain : 99.34%(99.34%),\tTest : 97.53%(97.66%),\tCurrent Time: 20250721-175632\n"
     ]
    },
    {
     "name": "stderr",
     "output_type": "stream",
     "text": [
      "Epoch 52/100: 100%|\u001b[34m█████████████████\u001b[0m| 3000/3000 [00:36<00:00, 82.19batch/s, loss=0.026214]\u001b[0m\n"
     ]
    },
    {
     "name": "stdout",
     "output_type": "stream",
     "text": [
      "\t Loss: 79.261,\tTrain : 99.35%(99.35%),\tTest : 97.66%(97.66%),\tCurrent Time: 20250721-175709\n"
     ]
    },
    {
     "name": "stderr",
     "output_type": "stream",
     "text": [
      "Epoch 53/100: 100%|\u001b[34m█████████████████\u001b[0m| 3000/3000 [00:35<00:00, 83.77batch/s, loss=0.024998]\u001b[0m\n"
     ]
    },
    {
     "name": "stdout",
     "output_type": "stream",
     "text": [
      "\t Loss: 75.568,\tTrain : 99.38%(99.38%),\tTest : 97.57%(97.66%),\tCurrent Time: 20250721-175745\n"
     ]
    },
    {
     "name": "stderr",
     "output_type": "stream",
     "text": [
      "Epoch 54/100: 100%|\u001b[34m█████████████████\u001b[0m| 3000/3000 [00:37<00:00, 80.20batch/s, loss=0.024524]\u001b[0m\n"
     ]
    },
    {
     "name": "stdout",
     "output_type": "stream",
     "text": [
      "\t Loss: 73.618,\tTrain : 99.42%(99.42%),\tTest : 97.77%(97.77%),\tCurrent Time: 20250721-175823\n"
     ]
    },
    {
     "name": "stderr",
     "output_type": "stream",
     "text": [
      "Epoch 55/100: 100%|\u001b[34m█████████████████\u001b[0m| 3000/3000 [00:36<00:00, 82.31batch/s, loss=0.023398]\u001b[0m\n"
     ]
    },
    {
     "name": "stdout",
     "output_type": "stream",
     "text": [
      "\t Loss: 70.488,\tTrain : 99.44%(99.44%),\tTest : 97.50%(97.77%),\tCurrent Time: 20250721-175900\n"
     ]
    },
    {
     "name": "stderr",
     "output_type": "stream",
     "text": [
      "Epoch 56/100: 100%|\u001b[34m█████████████████\u001b[0m| 3000/3000 [00:36<00:00, 81.21batch/s, loss=0.022167]\u001b[0m\n"
     ]
    },
    {
     "name": "stdout",
     "output_type": "stream",
     "text": [
      "\t Loss: 66.776,\tTrain : 99.51%(99.51%),\tTest : 97.65%(97.77%),\tCurrent Time: 20250721-175938\n"
     ]
    },
    {
     "name": "stderr",
     "output_type": "stream",
     "text": [
      "Epoch 57/100: 100%|\u001b[34m█████████████████\u001b[0m| 3000/3000 [00:37<00:00, 79.91batch/s, loss=0.021759]\u001b[0m\n"
     ]
    },
    {
     "name": "stdout",
     "output_type": "stream",
     "text": [
      "\t Loss: 65.368,\tTrain : 99.49%(99.51%),\tTest : 97.56%(97.77%),\tCurrent Time: 20250721-180016\n"
     ]
    },
    {
     "name": "stderr",
     "output_type": "stream",
     "text": [
      "Epoch 58/100: 100%|\u001b[34m█████████████████\u001b[0m| 3000/3000 [00:35<00:00, 84.35batch/s, loss=0.020699]\u001b[0m\n"
     ]
    },
    {
     "name": "stdout",
     "output_type": "stream",
     "text": [
      "\t Loss: 63.066,\tTrain : 99.55%(99.55%),\tTest : 97.66%(97.77%),\tCurrent Time: 20250721-180052\n"
     ]
    },
    {
     "name": "stderr",
     "output_type": "stream",
     "text": [
      "Epoch 59/100: 100%|\u001b[34m█████████████████\u001b[0m| 3000/3000 [00:35<00:00, 83.48batch/s, loss=0.020100]\u001b[0m\n"
     ]
    },
    {
     "name": "stdout",
     "output_type": "stream",
     "text": [
      "\t Loss: 60.305,\tTrain : 99.54%(99.55%),\tTest : 97.67%(97.77%),\tCurrent Time: 20250721-180129\n"
     ]
    },
    {
     "name": "stderr",
     "output_type": "stream",
     "text": [
      "Epoch 60/100: 100%|\u001b[34m█████████████████\u001b[0m| 3000/3000 [00:36<00:00, 81.56batch/s, loss=0.019553]\u001b[0m\n"
     ]
    },
    {
     "name": "stdout",
     "output_type": "stream",
     "text": [
      "\t Loss: 58.826,\tTrain : 99.59%(99.59%),\tTest : 97.65%(97.77%),\tCurrent Time: 20250721-180206\n"
     ]
    },
    {
     "name": "stderr",
     "output_type": "stream",
     "text": [
      "Epoch 61/100: 100%|\u001b[34m█████████████████\u001b[0m| 3000/3000 [00:37<00:00, 80.45batch/s, loss=0.018413]\u001b[0m\n"
     ]
    },
    {
     "name": "stdout",
     "output_type": "stream",
     "text": [
      "\t Loss: 55.008,\tTrain : 99.64%(99.64%),\tTest : 97.70%(97.77%),\tCurrent Time: 20250721-180244\n"
     ]
    },
    {
     "name": "stderr",
     "output_type": "stream",
     "text": [
      "Epoch 62/100: 100%|\u001b[34m█████████████████\u001b[0m| 3000/3000 [00:36<00:00, 82.90batch/s, loss=0.017980]\u001b[0m\n"
     ]
    },
    {
     "name": "stdout",
     "output_type": "stream",
     "text": [
      "\t Loss: 53.955,\tTrain : 99.65%(99.65%),\tTest : 97.63%(97.77%),\tCurrent Time: 20250721-180321\n"
     ]
    },
    {
     "name": "stderr",
     "output_type": "stream",
     "text": [
      "Epoch 63/100: 100%|\u001b[34m█████████████████\u001b[0m| 3000/3000 [00:37<00:00, 79.28batch/s, loss=0.017200]\u001b[0m\n"
     ]
    },
    {
     "name": "stdout",
     "output_type": "stream",
     "text": [
      "\t Loss: 51.886,\tTrain : 99.65%(99.65%),\tTest : 97.62%(97.77%),\tCurrent Time: 20250721-180359\n"
     ]
    },
    {
     "name": "stderr",
     "output_type": "stream",
     "text": [
      "Epoch 64/100: 100%|\u001b[34m█████████████████\u001b[0m| 3000/3000 [00:36<00:00, 82.26batch/s, loss=0.016464]\u001b[0m\n"
     ]
    },
    {
     "name": "stdout",
     "output_type": "stream",
     "text": [
      "\t Loss: 49.838,\tTrain : 99.72%(99.72%),\tTest : 97.81%(97.81%),\tCurrent Time: 20250721-180437\n"
     ]
    },
    {
     "name": "stderr",
     "output_type": "stream",
     "text": [
      "Epoch 65/100: 100%|\u001b[34m█████████████████\u001b[0m| 3000/3000 [00:36<00:00, 81.77batch/s, loss=0.016221]\u001b[0m\n"
     ]
    },
    {
     "name": "stdout",
     "output_type": "stream",
     "text": [
      "\t Loss: 48.464,\tTrain : 99.70%(99.72%),\tTest : 97.67%(97.81%),\tCurrent Time: 20250721-180514\n"
     ]
    },
    {
     "name": "stderr",
     "output_type": "stream",
     "text": [
      "Epoch 66/100: 100%|\u001b[34m█████████████████\u001b[0m| 3000/3000 [00:37<00:00, 80.57batch/s, loss=0.015264]\u001b[0m\n"
     ]
    },
    {
     "name": "stdout",
     "output_type": "stream",
     "text": [
      "\t Loss: 46.148,\tTrain : 99.73%(99.73%),\tTest : 97.72%(97.81%),\tCurrent Time: 20250721-180552\n"
     ]
    },
    {
     "name": "stderr",
     "output_type": "stream",
     "text": [
      "Epoch 67/100: 100%|\u001b[34m█████████████████\u001b[0m| 3000/3000 [00:36<00:00, 83.12batch/s, loss=0.014915]\u001b[0m\n"
     ]
    },
    {
     "name": "stdout",
     "output_type": "stream",
     "text": [
      "\t Loss: 44.637,\tTrain : 99.75%(99.75%),\tTest : 97.69%(97.81%),\tCurrent Time: 20250721-180628\n"
     ]
    },
    {
     "name": "stderr",
     "output_type": "stream",
     "text": [
      "Epoch 68/100: 100%|\u001b[34m█████████████████\u001b[0m| 3000/3000 [00:35<00:00, 83.52batch/s, loss=0.014450]\u001b[0m\n"
     ]
    },
    {
     "name": "stdout",
     "output_type": "stream",
     "text": [
      "\t Loss: 43.443,\tTrain : 99.78%(99.78%),\tTest : 97.65%(97.81%),\tCurrent Time: 20250721-180705\n"
     ]
    },
    {
     "name": "stderr",
     "output_type": "stream",
     "text": [
      "Epoch 69/100: 100%|\u001b[34m█████████████████\u001b[0m| 3000/3000 [00:37<00:00, 79.53batch/s, loss=0.013825]\u001b[0m\n"
     ]
    },
    {
     "name": "stdout",
     "output_type": "stream",
     "text": [
      "\t Loss: 41.649,\tTrain : 99.78%(99.78%),\tTest : 97.68%(97.81%),\tCurrent Time: 20250721-180743\n"
     ]
    },
    {
     "name": "stderr",
     "output_type": "stream",
     "text": [
      "Epoch 70/100: 100%|\u001b[34m█████████████████\u001b[0m| 3000/3000 [00:36<00:00, 82.66batch/s, loss=0.013344]\u001b[0m\n"
     ]
    },
    {
     "name": "stdout",
     "output_type": "stream",
     "text": [
      "\t Loss: 39.840,\tTrain : 99.80%(99.80%),\tTest : 97.76%(97.81%),\tCurrent Time: 20250721-180820\n"
     ]
    },
    {
     "name": "stderr",
     "output_type": "stream",
     "text": [
      "Epoch 71/100: 100%|\u001b[34m█████████████████\u001b[0m| 3000/3000 [00:36<00:00, 81.75batch/s, loss=0.012707]\u001b[0m\n"
     ]
    },
    {
     "name": "stdout",
     "output_type": "stream",
     "text": [
      "\t Loss: 38.486,\tTrain : 99.83%(99.83%),\tTest : 97.62%(97.81%),\tCurrent Time: 20250721-180857\n"
     ]
    },
    {
     "name": "stderr",
     "output_type": "stream",
     "text": [
      "Epoch 72/100: 100%|\u001b[34m█████████████████\u001b[0m| 3000/3000 [00:36<00:00, 81.16batch/s, loss=0.012495]\u001b[0m\n"
     ]
    },
    {
     "name": "stdout",
     "output_type": "stream",
     "text": [
      "\t Loss: 37.196,\tTrain : 99.82%(99.83%),\tTest : 97.67%(97.81%),\tCurrent Time: 20250721-180935\n"
     ]
    },
    {
     "name": "stderr",
     "output_type": "stream",
     "text": [
      "Epoch 73/100: 100%|\u001b[34m█████████████████\u001b[0m| 3000/3000 [00:36<00:00, 81.78batch/s, loss=0.011904]\u001b[0m\n"
     ]
    },
    {
     "name": "stdout",
     "output_type": "stream",
     "text": [
      "\t Loss: 36.113,\tTrain : 99.84%(99.84%),\tTest : 97.72%(97.81%),\tCurrent Time: 20250721-181012\n"
     ]
    },
    {
     "name": "stderr",
     "output_type": "stream",
     "text": [
      "Epoch 74/100: 100%|\u001b[34m█████████████████\u001b[0m| 3000/3000 [00:37<00:00, 80.02batch/s, loss=0.011578]\u001b[0m\n"
     ]
    },
    {
     "name": "stdout",
     "output_type": "stream",
     "text": [
      "\t Loss: 34.792,\tTrain : 99.86%(99.86%),\tTest : 97.69%(97.81%),\tCurrent Time: 20250721-181050\n"
     ]
    },
    {
     "name": "stderr",
     "output_type": "stream",
     "text": [
      "Epoch 75/100: 100%|\u001b[34m█████████████████\u001b[0m| 3000/3000 [00:36<00:00, 81.88batch/s, loss=0.011311]\u001b[0m\n"
     ]
    },
    {
     "name": "stdout",
     "output_type": "stream",
     "text": [
      "\t Loss: 33.662,\tTrain : 99.86%(99.86%),\tTest : 97.66%(97.81%),\tCurrent Time: 20250721-181128\n"
     ]
    },
    {
     "name": "stderr",
     "output_type": "stream",
     "text": [
      "Epoch 76/100: 100%|\u001b[34m█████████████████\u001b[0m| 3000/3000 [00:36<00:00, 81.77batch/s, loss=0.010611]\u001b[0m\n"
     ]
    },
    {
     "name": "stdout",
     "output_type": "stream",
     "text": [
      "\t Loss: 31.968,\tTrain : 99.87%(99.87%),\tTest : 97.71%(97.81%),\tCurrent Time: 20250721-181205\n"
     ]
    },
    {
     "name": "stderr",
     "output_type": "stream",
     "text": [
      "Epoch 77/100: 100%|\u001b[34m█████████████████\u001b[0m| 3000/3000 [00:37<00:00, 81.04batch/s, loss=0.010320]\u001b[0m\n"
     ]
    },
    {
     "name": "stdout",
     "output_type": "stream",
     "text": [
      "\t Loss: 30.815,\tTrain : 99.87%(99.87%),\tTest : 97.68%(97.81%),\tCurrent Time: 20250721-181243\n"
     ]
    },
    {
     "name": "stderr",
     "output_type": "stream",
     "text": [
      "Epoch 78/100: 100%|\u001b[34m█████████████████\u001b[0m| 3000/3000 [00:36<00:00, 82.82batch/s, loss=0.010070]\u001b[0m\n"
     ]
    },
    {
     "name": "stdout",
     "output_type": "stream",
     "text": [
      "\t Loss: 30.037,\tTrain : 99.90%(99.90%),\tTest : 97.76%(97.81%),\tCurrent Time: 20250721-181319\n"
     ]
    },
    {
     "name": "stderr",
     "output_type": "stream",
     "text": [
      "Epoch 79/100: 100%|\u001b[34m█████████████████\u001b[0m| 3000/3000 [00:36<00:00, 82.47batch/s, loss=0.009477]\u001b[0m\n"
     ]
    },
    {
     "name": "stdout",
     "output_type": "stream",
     "text": [
      "\t Loss: 28.716,\tTrain : 99.90%(99.90%),\tTest : 97.71%(97.81%),\tCurrent Time: 20250721-181356\n"
     ]
    },
    {
     "name": "stderr",
     "output_type": "stream",
     "text": [
      "Epoch 80/100: 100%|\u001b[34m█████████████████\u001b[0m| 3000/3000 [00:37<00:00, 80.54batch/s, loss=0.009309]\u001b[0m\n"
     ]
    },
    {
     "name": "stdout",
     "output_type": "stream",
     "text": [
      "\t Loss: 27.742,\tTrain : 99.91%(99.91%),\tTest : 97.79%(97.81%),\tCurrent Time: 20250721-181434\n"
     ]
    },
    {
     "name": "stderr",
     "output_type": "stream",
     "text": [
      "Epoch 81/100: 100%|\u001b[34m█████████████████\u001b[0m| 3000/3000 [00:35<00:00, 83.70batch/s, loss=0.009081]\u001b[0m\n"
     ]
    },
    {
     "name": "stdout",
     "output_type": "stream",
     "text": [
      "\t Loss: 26.947,\tTrain : 99.90%(99.91%),\tTest : 97.80%(97.81%),\tCurrent Time: 20250721-181511\n"
     ]
    },
    {
     "name": "stderr",
     "output_type": "stream",
     "text": [
      "Epoch 82/100: 100%|\u001b[34m█████████████████\u001b[0m| 3000/3000 [00:36<00:00, 82.73batch/s, loss=0.008741]\u001b[0m\n"
     ]
    },
    {
     "name": "stdout",
     "output_type": "stream",
     "text": [
      "\t Loss: 26.408,\tTrain : 99.91%(99.91%),\tTest : 97.73%(97.81%),\tCurrent Time: 20250721-181548\n"
     ]
    },
    {
     "name": "stderr",
     "output_type": "stream",
     "text": [
      "Epoch 83/100: 100%|\u001b[34m█████████████████\u001b[0m| 3000/3000 [00:35<00:00, 84.95batch/s, loss=0.008461]\u001b[0m\n"
     ]
    },
    {
     "name": "stdout",
     "output_type": "stream",
     "text": [
      "\t Loss: 25.400,\tTrain : 99.92%(99.92%),\tTest : 97.81%(97.81%),\tCurrent Time: 20250721-181623\n"
     ]
    },
    {
     "name": "stderr",
     "output_type": "stream",
     "text": [
      "Epoch 84/100: 100%|\u001b[34m█████████████████\u001b[0m| 3000/3000 [00:36<00:00, 82.80batch/s, loss=0.008362]\u001b[0m\n"
     ]
    },
    {
     "name": "stdout",
     "output_type": "stream",
     "text": [
      "\t Loss: 25.056,\tTrain : 99.93%(99.93%),\tTest : 97.79%(97.81%),\tCurrent Time: 20250721-181700\n"
     ]
    },
    {
     "name": "stderr",
     "output_type": "stream",
     "text": [
      "Epoch 85/100: 100%|\u001b[34m█████████████████\u001b[0m| 3000/3000 [00:35<00:00, 84.14batch/s, loss=0.007718]\u001b[0m\n"
     ]
    },
    {
     "name": "stdout",
     "output_type": "stream",
     "text": [
      "\t Loss: 23.708,\tTrain : 99.94%(99.94%),\tTest : 97.64%(97.81%),\tCurrent Time: 20250721-181737\n"
     ]
    },
    {
     "name": "stderr",
     "output_type": "stream",
     "text": [
      "Epoch 86/100: 100%|\u001b[34m█████████████████\u001b[0m| 3000/3000 [00:35<00:00, 84.64batch/s, loss=0.007753]\u001b[0m\n"
     ]
    },
    {
     "name": "stdout",
     "output_type": "stream",
     "text": [
      "\t Loss: 23.230,\tTrain : 99.94%(99.94%),\tTest : 97.80%(97.81%),\tCurrent Time: 20250721-181813\n"
     ]
    },
    {
     "name": "stderr",
     "output_type": "stream",
     "text": [
      "Epoch 87/100: 100%|\u001b[34m█████████████████\u001b[0m| 3000/3000 [00:36<00:00, 82.86batch/s, loss=0.007396]\u001b[0m\n"
     ]
    },
    {
     "name": "stdout",
     "output_type": "stream",
     "text": [
      "\t Loss: 22.419,\tTrain : 99.95%(99.95%),\tTest : 97.87%(97.87%),\tCurrent Time: 20250721-181849\n"
     ]
    },
    {
     "name": "stderr",
     "output_type": "stream",
     "text": [
      "Epoch 88/100: 100%|\u001b[34m█████████████████\u001b[0m| 3000/3000 [00:37<00:00, 79.99batch/s, loss=0.007296]\u001b[0m\n"
     ]
    },
    {
     "name": "stdout",
     "output_type": "stream",
     "text": [
      "\t Loss: 21.713,\tTrain : 99.96%(99.96%),\tTest : 97.72%(97.87%),\tCurrent Time: 20250721-181928\n"
     ]
    },
    {
     "name": "stderr",
     "output_type": "stream",
     "text": [
      "Epoch 89/100: 100%|\u001b[34m█████████████████\u001b[0m| 3000/3000 [00:38<00:00, 78.69batch/s, loss=0.006966]\u001b[0m\n"
     ]
    },
    {
     "name": "stdout",
     "output_type": "stream",
     "text": [
      "\t Loss: 20.990,\tTrain : 99.95%(99.96%),\tTest : 97.73%(97.87%),\tCurrent Time: 20250721-182006\n"
     ]
    },
    {
     "name": "stderr",
     "output_type": "stream",
     "text": [
      "Epoch 90/100: 100%|\u001b[34m█████████████████\u001b[0m| 3000/3000 [00:37<00:00, 79.38batch/s, loss=0.006840]\u001b[0m\n"
     ]
    },
    {
     "name": "stdout",
     "output_type": "stream",
     "text": [
      "\t Loss: 20.390,\tTrain : 99.97%(99.97%),\tTest : 97.76%(97.87%),\tCurrent Time: 20250721-182045\n"
     ]
    },
    {
     "name": "stderr",
     "output_type": "stream",
     "text": [
      "Epoch 91/100: 100%|\u001b[34m█████████████████\u001b[0m| 3000/3000 [00:36<00:00, 81.09batch/s, loss=0.006588]\u001b[0m\n"
     ]
    },
    {
     "name": "stdout",
     "output_type": "stream",
     "text": [
      "\t Loss: 19.700,\tTrain : 99.96%(99.97%),\tTest : 97.74%(97.87%),\tCurrent Time: 20250721-182122\n"
     ]
    },
    {
     "name": "stderr",
     "output_type": "stream",
     "text": [
      "Epoch 92/100: 100%|\u001b[34m█████████████████\u001b[0m| 3000/3000 [00:36<00:00, 83.28batch/s, loss=0.006443]\u001b[0m\n"
     ]
    },
    {
     "name": "stdout",
     "output_type": "stream",
     "text": [
      "\t Loss: 19.329,\tTrain : 99.97%(99.97%),\tTest : 97.80%(97.87%),\tCurrent Time: 20250721-182159\n"
     ]
    },
    {
     "name": "stderr",
     "output_type": "stream",
     "text": [
      "Epoch 93/100: 100%|\u001b[34m█████████████████\u001b[0m| 3000/3000 [00:35<00:00, 84.32batch/s, loss=0.006122]\u001b[0m\n"
     ]
    },
    {
     "name": "stdout",
     "output_type": "stream",
     "text": [
      "\t Loss: 18.386,\tTrain : 99.97%(99.97%),\tTest : 97.83%(97.87%),\tCurrent Time: 20250721-182235\n"
     ]
    },
    {
     "name": "stderr",
     "output_type": "stream",
     "text": [
      "Epoch 94/100: 100%|\u001b[34m█████████████████\u001b[0m| 3000/3000 [00:35<00:00, 85.16batch/s, loss=0.006101]\u001b[0m\n"
     ]
    },
    {
     "name": "stdout",
     "output_type": "stream",
     "text": [
      "\t Loss: 18.128,\tTrain : 99.97%(99.97%),\tTest : 97.76%(97.87%),\tCurrent Time: 20250721-182311\n"
     ]
    },
    {
     "name": "stderr",
     "output_type": "stream",
     "text": [
      "Epoch 95/100: 100%|\u001b[34m█████████████████\u001b[0m| 3000/3000 [00:37<00:00, 81.01batch/s, loss=0.005855]\u001b[0m\n"
     ]
    },
    {
     "name": "stdout",
     "output_type": "stream",
     "text": [
      "\t Loss: 17.533,\tTrain : 99.97%(99.97%),\tTest : 97.84%(97.87%),\tCurrent Time: 20250721-182349\n"
     ]
    },
    {
     "name": "stderr",
     "output_type": "stream",
     "text": [
      "Epoch 96/100: 100%|\u001b[34m█████████████████\u001b[0m| 3000/3000 [00:36<00:00, 81.47batch/s, loss=0.005690]\u001b[0m\n"
     ]
    },
    {
     "name": "stdout",
     "output_type": "stream",
     "text": [
      "\t Loss: 17.036,\tTrain : 99.98%(99.98%),\tTest : 97.80%(97.87%),\tCurrent Time: 20250721-182426\n"
     ]
    },
    {
     "name": "stderr",
     "output_type": "stream",
     "text": [
      "Epoch 97/100: 100%|\u001b[34m█████████████████\u001b[0m| 3000/3000 [00:35<00:00, 83.47batch/s, loss=0.005466]\u001b[0m\n"
     ]
    },
    {
     "name": "stdout",
     "output_type": "stream",
     "text": [
      "\t Loss: 16.591,\tTrain : 99.98%(99.98%),\tTest : 97.80%(97.87%),\tCurrent Time: 20250721-182503\n"
     ]
    },
    {
     "name": "stderr",
     "output_type": "stream",
     "text": [
      "Epoch 98/100: 100%|\u001b[34m█████████████████\u001b[0m| 3000/3000 [00:36<00:00, 81.55batch/s, loss=0.005283]\u001b[0m\n"
     ]
    },
    {
     "name": "stdout",
     "output_type": "stream",
     "text": [
      "\t Loss: 15.822,\tTrain : 99.98%(99.98%),\tTest : 97.87%(97.87%),\tCurrent Time: 20250721-182540\n"
     ]
    },
    {
     "name": "stderr",
     "output_type": "stream",
     "text": [
      "Epoch 99/100: 100%|\u001b[34m█████████████████\u001b[0m| 3000/3000 [00:35<00:00, 83.70batch/s, loss=0.005317]\u001b[0m\n"
     ]
    },
    {
     "name": "stdout",
     "output_type": "stream",
     "text": [
      "\t Loss: 15.903,\tTrain : 99.98%(99.98%),\tTest : 97.75%(97.87%),\tCurrent Time: 20250721-182616\n"
     ]
    },
    {
     "name": "stderr",
     "output_type": "stream",
     "text": [
      "Epoch 100/100: 100%|\u001b[34m████████████████\u001b[0m| 3000/3000 [00:37<00:00, 80.89batch/s, loss=0.005041]\u001b[0m\n"
     ]
    },
    {
     "name": "stdout",
     "output_type": "stream",
     "text": [
      "\t Loss: 15.207,\tTrain : 99.99%(99.99%),\tTest : 97.83%(97.87%),\tCurrent Time: 20250721-182654\n",
      "EP_L3_MNIST_First_symm_LN_t2sta2_bs20_lrsame-EP_b_sc0.01-EP_It2sta18- Time: 20250721-182654, Epochs: 100, Learning Rate: 0.001, Best: 99.99%  97.87%\n",
      "\n",
      "EP_L3_MNIST_First_symm_LN_t2sta2_bs20_lrsame-EP_b_sc0.01-EP_It2sta18-\n"
     ]
    },
    {
     "name": "stderr",
     "output_type": "stream",
     "text": [
      "Epoch 1/100: 100%|\u001b[34m██████████████████\u001b[0m| 3000/3000 [00:36<00:00, 81.99batch/s, loss=0.427043]\u001b[0m\n"
     ]
    },
    {
     "name": "stdout",
     "output_type": "stream",
     "text": [
      "\t Loss: 1274.048,\tTrain : 87.92%(87.92%),\tTest : 90.73%(90.73%),\tCurrent Time: 20250721-182731\n"
     ]
    },
    {
     "name": "stderr",
     "output_type": "stream",
     "text": [
      "Epoch 2/100: 100%|\u001b[34m██████████████████\u001b[0m| 3000/3000 [00:37<00:00, 80.39batch/s, loss=0.319409]\u001b[0m\n"
     ]
    },
    {
     "name": "stdout",
     "output_type": "stream",
     "text": [
      "\t Loss: 958.545,\tTrain : 90.72%(90.72%),\tTest : 91.65%(91.65%),\tCurrent Time: 20250721-182809\n"
     ]
    },
    {
     "name": "stderr",
     "output_type": "stream",
     "text": [
      "Epoch 3/100: 100%|\u001b[34m██████████████████\u001b[0m| 3000/3000 [00:37<00:00, 79.69batch/s, loss=0.297232]\u001b[0m\n"
     ]
    },
    {
     "name": "stdout",
     "output_type": "stream",
     "text": [
      "\t Loss: 890.773,\tTrain : 91.45%(91.45%),\tTest : 91.95%(91.95%),\tCurrent Time: 20250721-182848\n"
     ]
    },
    {
     "name": "stderr",
     "output_type": "stream",
     "text": [
      "Epoch 4/100: 100%|\u001b[34m██████████████████\u001b[0m| 3000/3000 [00:36<00:00, 82.99batch/s, loss=0.281112]\u001b[0m\n"
     ]
    },
    {
     "name": "stdout",
     "output_type": "stream",
     "text": [
      "\t Loss: 840.167,\tTrain : 91.98%(91.98%),\tTest : 92.58%(92.58%),\tCurrent Time: 20250721-182924\n"
     ]
    },
    {
     "name": "stderr",
     "output_type": "stream",
     "text": [
      "Epoch 5/100: 100%|\u001b[34m██████████████████\u001b[0m| 3000/3000 [00:37<00:00, 80.31batch/s, loss=0.264150]\u001b[0m\n"
     ]
    },
    {
     "name": "stdout",
     "output_type": "stream",
     "text": [
      "\t Loss: 789.034,\tTrain : 92.43%(92.43%),\tTest : 92.97%(92.97%),\tCurrent Time: 20250721-183002\n"
     ]
    },
    {
     "name": "stderr",
     "output_type": "stream",
     "text": [
      "Epoch 6/100: 100%|\u001b[34m██████████████████\u001b[0m| 3000/3000 [00:37<00:00, 79.86batch/s, loss=0.243858]\u001b[0m\n"
     ]
    },
    {
     "name": "stdout",
     "output_type": "stream",
     "text": [
      "\t Loss: 732.466,\tTrain : 93.04%(93.04%),\tTest : 92.94%(92.97%),\tCurrent Time: 20250721-183041\n"
     ]
    },
    {
     "name": "stderr",
     "output_type": "stream",
     "text": [
      "Epoch 7/100: 100%|\u001b[34m██████████████████\u001b[0m| 3000/3000 [00:37<00:00, 80.63batch/s, loss=0.223190]\u001b[0m\n"
     ]
    },
    {
     "name": "stdout",
     "output_type": "stream",
     "text": [
      "\t Loss: 671.757,\tTrain : 93.57%(93.57%),\tTest : 93.65%(93.65%),\tCurrent Time: 20250721-183118\n"
     ]
    },
    {
     "name": "stderr",
     "output_type": "stream",
     "text": [
      "Epoch 8/100: 100%|\u001b[34m██████████████████\u001b[0m| 3000/3000 [00:36<00:00, 81.65batch/s, loss=0.204997]\u001b[0m\n"
     ]
    },
    {
     "name": "stdout",
     "output_type": "stream",
     "text": [
      "\t Loss: 613.918,\tTrain : 94.17%(94.17%),\tTest : 93.94%(93.94%),\tCurrent Time: 20250721-183156\n"
     ]
    },
    {
     "name": "stderr",
     "output_type": "stream",
     "text": [
      "Epoch 9/100: 100%|\u001b[34m██████████████████\u001b[0m| 3000/3000 [00:36<00:00, 81.22batch/s, loss=0.188188]\u001b[0m\n"
     ]
    },
    {
     "name": "stdout",
     "output_type": "stream",
     "text": [
      "\t Loss: 563.924,\tTrain : 94.59%(94.59%),\tTest : 94.56%(94.56%),\tCurrent Time: 20250721-183233\n"
     ]
    },
    {
     "name": "stderr",
     "output_type": "stream",
     "text": [
      "Epoch 10/100: 100%|\u001b[34m█████████████████\u001b[0m| 3000/3000 [00:36<00:00, 81.64batch/s, loss=0.172958]\u001b[0m\n"
     ]
    },
    {
     "name": "stdout",
     "output_type": "stream",
     "text": [
      "\t Loss: 515.700,\tTrain : 94.99%(94.99%),\tTest : 95.26%(95.26%),\tCurrent Time: 20250721-183311\n"
     ]
    },
    {
     "name": "stderr",
     "output_type": "stream",
     "text": [
      "Epoch 11/100: 100%|\u001b[34m█████████████████\u001b[0m| 3000/3000 [00:36<00:00, 81.85batch/s, loss=0.159939]\u001b[0m\n"
     ]
    },
    {
     "name": "stdout",
     "output_type": "stream",
     "text": [
      "\t Loss: 476.781,\tTrain : 95.44%(95.44%),\tTest : 95.21%(95.26%),\tCurrent Time: 20250721-183348\n"
     ]
    },
    {
     "name": "stderr",
     "output_type": "stream",
     "text": [
      "Epoch 12/100: 100%|\u001b[34m█████████████████\u001b[0m| 3000/3000 [00:36<00:00, 81.98batch/s, loss=0.148382]\u001b[0m\n"
     ]
    },
    {
     "name": "stdout",
     "output_type": "stream",
     "text": [
      "\t Loss: 444.891,\tTrain : 95.63%(95.63%),\tTest : 95.36%(95.36%),\tCurrent Time: 20250721-183425\n"
     ]
    },
    {
     "name": "stderr",
     "output_type": "stream",
     "text": [
      "Epoch 13/100: 100%|\u001b[34m█████████████████\u001b[0m| 3000/3000 [00:35<00:00, 83.92batch/s, loss=0.138575]\u001b[0m\n"
     ]
    },
    {
     "name": "stdout",
     "output_type": "stream",
     "text": [
      "\t Loss: 416.327,\tTrain : 96.00%(96.00%),\tTest : 95.81%(95.81%),\tCurrent Time: 20250721-183501\n"
     ]
    },
    {
     "name": "stderr",
     "output_type": "stream",
     "text": [
      "Epoch 14/100: 100%|\u001b[34m█████████████████\u001b[0m| 3000/3000 [00:37<00:00, 79.02batch/s, loss=0.130546]\u001b[0m\n"
     ]
    },
    {
     "name": "stdout",
     "output_type": "stream",
     "text": [
      "\t Loss: 391.147,\tTrain : 96.13%(96.13%),\tTest : 95.76%(95.81%),\tCurrent Time: 20250721-183540\n"
     ]
    },
    {
     "name": "stderr",
     "output_type": "stream",
     "text": [
      "Epoch 15/100: 100%|\u001b[34m█████████████████\u001b[0m| 3000/3000 [00:37<00:00, 80.38batch/s, loss=0.123129]\u001b[0m\n"
     ]
    },
    {
     "name": "stdout",
     "output_type": "stream",
     "text": [
      "\t Loss: 369.354,\tTrain : 96.47%(96.47%),\tTest : 96.08%(96.08%),\tCurrent Time: 20250721-183618\n"
     ]
    },
    {
     "name": "stderr",
     "output_type": "stream",
     "text": [
      "Epoch 16/100: 100%|\u001b[34m█████████████████\u001b[0m| 3000/3000 [00:36<00:00, 81.45batch/s, loss=0.115713]\u001b[0m\n"
     ]
    },
    {
     "name": "stdout",
     "output_type": "stream",
     "text": [
      "\t Loss: 348.976,\tTrain : 96.59%(96.59%),\tTest : 95.90%(96.08%),\tCurrent Time: 20250721-183655\n"
     ]
    },
    {
     "name": "stderr",
     "output_type": "stream",
     "text": [
      "Epoch 17/100: 100%|\u001b[34m█████████████████\u001b[0m| 3000/3000 [00:37<00:00, 79.70batch/s, loss=0.109389]\u001b[0m\n"
     ]
    },
    {
     "name": "stdout",
     "output_type": "stream",
     "text": [
      "\t Loss: 328.025,\tTrain : 96.80%(96.80%),\tTest : 96.28%(96.28%),\tCurrent Time: 20250721-183734\n"
     ]
    },
    {
     "name": "stderr",
     "output_type": "stream",
     "text": [
      "Epoch 18/100: 100%|\u001b[34m█████████████████\u001b[0m| 3000/3000 [00:37<00:00, 79.16batch/s, loss=0.103533]\u001b[0m\n"
     ]
    },
    {
     "name": "stdout",
     "output_type": "stream",
     "text": [
      "\t Loss: 313.131,\tTrain : 96.97%(96.97%),\tTest : 95.99%(96.28%),\tCurrent Time: 20250721-183812\n"
     ]
    },
    {
     "name": "stderr",
     "output_type": "stream",
     "text": [
      "Epoch 19/100: 100%|\u001b[34m█████████████████\u001b[0m| 3000/3000 [00:35<00:00, 83.46batch/s, loss=0.098403]\u001b[0m\n"
     ]
    },
    {
     "name": "stdout",
     "output_type": "stream",
     "text": [
      "\t Loss: 296.908,\tTrain : 97.11%(97.11%),\tTest : 96.44%(96.44%),\tCurrent Time: 20250721-183849\n"
     ]
    },
    {
     "name": "stderr",
     "output_type": "stream",
     "text": [
      "Epoch 20/100: 100%|\u001b[34m█████████████████\u001b[0m| 3000/3000 [00:36<00:00, 82.12batch/s, loss=0.094255]\u001b[0m\n"
     ]
    },
    {
     "name": "stdout",
     "output_type": "stream",
     "text": [
      "\t Loss: 283.488,\tTrain : 97.21%(97.21%),\tTest : 96.40%(96.44%),\tCurrent Time: 20250721-183926\n"
     ]
    },
    {
     "name": "stderr",
     "output_type": "stream",
     "text": [
      "Epoch 21/100: 100%|\u001b[34m█████████████████\u001b[0m| 3000/3000 [00:36<00:00, 82.52batch/s, loss=0.090275]\u001b[0m\n"
     ]
    },
    {
     "name": "stdout",
     "output_type": "stream",
     "text": [
      "\t Loss: 270.705,\tTrain : 97.36%(97.36%),\tTest : 96.70%(96.70%),\tCurrent Time: 20250721-184003\n"
     ]
    },
    {
     "name": "stderr",
     "output_type": "stream",
     "text": [
      "Epoch 22/100: 100%|\u001b[34m█████████████████\u001b[0m| 3000/3000 [00:36<00:00, 81.99batch/s, loss=0.085621]\u001b[0m\n"
     ]
    },
    {
     "name": "stdout",
     "output_type": "stream",
     "text": [
      "\t Loss: 258.286,\tTrain : 97.51%(97.51%),\tTest : 96.72%(96.72%),\tCurrent Time: 20250721-184040\n"
     ]
    },
    {
     "name": "stderr",
     "output_type": "stream",
     "text": [
      "Epoch 23/100: 100%|\u001b[34m█████████████████\u001b[0m| 3000/3000 [00:38<00:00, 78.77batch/s, loss=0.081448]\u001b[0m\n"
     ]
    },
    {
     "name": "stdout",
     "output_type": "stream",
     "text": [
      "\t Loss: 246.634,\tTrain : 97.57%(97.57%),\tTest : 96.66%(96.72%),\tCurrent Time: 20250721-184119\n"
     ]
    },
    {
     "name": "stderr",
     "output_type": "stream",
     "text": [
      "Epoch 24/100: 100%|\u001b[34m█████████████████\u001b[0m| 3000/3000 [00:37<00:00, 81.00batch/s, loss=0.079097]\u001b[0m\n"
     ]
    },
    {
     "name": "stdout",
     "output_type": "stream",
     "text": [
      "\t Loss: 237.615,\tTrain : 97.68%(97.68%),\tTest : 96.64%(96.72%),\tCurrent Time: 20250721-184156\n"
     ]
    },
    {
     "name": "stderr",
     "output_type": "stream",
     "text": [
      "Epoch 25/100: 100%|\u001b[34m█████████████████\u001b[0m| 3000/3000 [00:37<00:00, 80.40batch/s, loss=0.074416]\u001b[0m\n"
     ]
    },
    {
     "name": "stdout",
     "output_type": "stream",
     "text": [
      "\t Loss: 224.950,\tTrain : 97.84%(97.84%),\tTest : 96.84%(96.84%),\tCurrent Time: 20250721-184234\n"
     ]
    },
    {
     "name": "stderr",
     "output_type": "stream",
     "text": [
      "Epoch 26/100: 100%|\u001b[34m█████████████████\u001b[0m| 3000/3000 [00:38<00:00, 78.90batch/s, loss=0.072049]\u001b[0m\n"
     ]
    },
    {
     "name": "stdout",
     "output_type": "stream",
     "text": [
      "\t Loss: 216.237,\tTrain : 97.88%(97.88%),\tTest : 96.78%(96.84%),\tCurrent Time: 20250721-184313\n"
     ]
    },
    {
     "name": "stderr",
     "output_type": "stream",
     "text": [
      "Epoch 27/100: 100%|\u001b[34m█████████████████\u001b[0m| 3000/3000 [00:36<00:00, 82.03batch/s, loss=0.069767]\u001b[0m\n"
     ]
    },
    {
     "name": "stdout",
     "output_type": "stream",
     "text": [
      "\t Loss: 210.003,\tTrain : 97.96%(97.96%),\tTest : 97.10%(97.10%),\tCurrent Time: 20250721-184350\n"
     ]
    },
    {
     "name": "stderr",
     "output_type": "stream",
     "text": [
      "Epoch 28/100: 100%|\u001b[34m█████████████████\u001b[0m| 3000/3000 [00:36<00:00, 81.45batch/s, loss=0.066602]\u001b[0m\n"
     ]
    },
    {
     "name": "stdout",
     "output_type": "stream",
     "text": [
      "\t Loss: 199.426,\tTrain : 98.10%(98.10%),\tTest : 96.68%(97.10%),\tCurrent Time: 20250721-184428\n"
     ]
    },
    {
     "name": "stderr",
     "output_type": "stream",
     "text": [
      "Epoch 29/100: 100%|\u001b[34m█████████████████\u001b[0m| 3000/3000 [00:37<00:00, 79.80batch/s, loss=0.064645]\u001b[0m\n"
     ]
    },
    {
     "name": "stdout",
     "output_type": "stream",
     "text": [
      "\t Loss: 192.272,\tTrain : 98.13%(98.13%),\tTest : 96.98%(97.10%),\tCurrent Time: 20250721-184506\n"
     ]
    },
    {
     "name": "stderr",
     "output_type": "stream",
     "text": [
      "Epoch 30/100: 100%|\u001b[34m█████████████████\u001b[0m| 3000/3000 [00:36<00:00, 81.08batch/s, loss=0.062370]\u001b[0m\n"
     ]
    },
    {
     "name": "stdout",
     "output_type": "stream",
     "text": [
      "\t Loss: 186.645,\tTrain : 98.17%(98.17%),\tTest : 97.00%(97.10%),\tCurrent Time: 20250721-184543\n"
     ]
    },
    {
     "name": "stderr",
     "output_type": "stream",
     "text": [
      "Epoch 31/100: 100%|\u001b[34m█████████████████\u001b[0m| 3000/3000 [00:36<00:00, 81.45batch/s, loss=0.059338]\u001b[0m\n"
     ]
    },
    {
     "name": "stdout",
     "output_type": "stream",
     "text": [
      "\t Loss: 178.285,\tTrain : 98.29%(98.29%),\tTest : 96.98%(97.10%),\tCurrent Time: 20250721-184621\n"
     ]
    },
    {
     "name": "stderr",
     "output_type": "stream",
     "text": [
      "Epoch 32/100: 100%|\u001b[34m█████████████████\u001b[0m| 3000/3000 [00:36<00:00, 81.19batch/s, loss=0.056709]\u001b[0m\n"
     ]
    },
    {
     "name": "stdout",
     "output_type": "stream",
     "text": [
      "\t Loss: 171.562,\tTrain : 98.29%(98.29%),\tTest : 97.01%(97.10%),\tCurrent Time: 20250721-184658\n"
     ]
    },
    {
     "name": "stderr",
     "output_type": "stream",
     "text": [
      "Epoch 33/100: 100%|\u001b[34m█████████████████\u001b[0m| 3000/3000 [00:37<00:00, 79.52batch/s, loss=0.055669]\u001b[0m\n"
     ]
    },
    {
     "name": "stdout",
     "output_type": "stream",
     "text": [
      "\t Loss: 166.609,\tTrain : 98.37%(98.37%),\tTest : 97.17%(97.17%),\tCurrent Time: 20250721-184737\n"
     ]
    },
    {
     "name": "stderr",
     "output_type": "stream",
     "text": [
      "Epoch 34/100: 100%|\u001b[34m█████████████████\u001b[0m| 3000/3000 [00:36<00:00, 81.82batch/s, loss=0.052394]\u001b[0m\n"
     ]
    },
    {
     "name": "stdout",
     "output_type": "stream",
     "text": [
      "\t Loss: 158.235,\tTrain : 98.49%(98.49%),\tTest : 97.07%(97.17%),\tCurrent Time: 20250721-184814\n"
     ]
    },
    {
     "name": "stderr",
     "output_type": "stream",
     "text": [
      "Epoch 35/100: 100%|\u001b[34m█████████████████\u001b[0m| 3000/3000 [00:36<00:00, 82.16batch/s, loss=0.051444]\u001b[0m\n"
     ]
    },
    {
     "name": "stdout",
     "output_type": "stream",
     "text": [
      "\t Loss: 153.684,\tTrain : 98.53%(98.53%),\tTest : 97.22%(97.22%),\tCurrent Time: 20250721-184851\n"
     ]
    },
    {
     "name": "stderr",
     "output_type": "stream",
     "text": [
      "Epoch 36/100: 100%|\u001b[34m█████████████████\u001b[0m| 3000/3000 [00:37<00:00, 80.69batch/s, loss=0.048359]\u001b[0m\n"
     ]
    },
    {
     "name": "stdout",
     "output_type": "stream",
     "text": [
      "\t Loss: 146.602,\tTrain : 98.61%(98.61%),\tTest : 97.25%(97.25%),\tCurrent Time: 20250721-184929\n"
     ]
    },
    {
     "name": "stderr",
     "output_type": "stream",
     "text": [
      "Epoch 37/100: 100%|\u001b[34m█████████████████\u001b[0m| 3000/3000 [00:37<00:00, 79.06batch/s, loss=0.047320]\u001b[0m\n"
     ]
    },
    {
     "name": "stdout",
     "output_type": "stream",
     "text": [
      "\t Loss: 142.248,\tTrain : 98.68%(98.68%),\tTest : 97.14%(97.25%),\tCurrent Time: 20250721-185008\n"
     ]
    },
    {
     "name": "stderr",
     "output_type": "stream",
     "text": [
      "Epoch 38/100: 100%|\u001b[34m█████████████████\u001b[0m| 3000/3000 [00:38<00:00, 78.61batch/s, loss=0.045840]\u001b[0m\n"
     ]
    },
    {
     "name": "stdout",
     "output_type": "stream",
     "text": [
      "\t Loss: 138.106,\tTrain : 98.71%(98.71%),\tTest : 97.42%(97.42%),\tCurrent Time: 20250721-185046\n"
     ]
    },
    {
     "name": "stderr",
     "output_type": "stream",
     "text": [
      "Epoch 39/100: 100%|\u001b[34m█████████████████\u001b[0m| 3000/3000 [00:37<00:00, 80.27batch/s, loss=0.043956]\u001b[0m\n"
     ]
    },
    {
     "name": "stdout",
     "output_type": "stream",
     "text": [
      "\t Loss: 131.883,\tTrain : 98.77%(98.77%),\tTest : 97.42%(97.42%),\tCurrent Time: 20250721-185124\n"
     ]
    },
    {
     "name": "stderr",
     "output_type": "stream",
     "text": [
      "Epoch 40/100: 100%|\u001b[34m█████████████████\u001b[0m| 3000/3000 [00:37<00:00, 80.99batch/s, loss=0.042452]\u001b[0m\n"
     ]
    },
    {
     "name": "stdout",
     "output_type": "stream",
     "text": [
      "\t Loss: 127.773,\tTrain : 98.79%(98.79%),\tTest : 97.36%(97.42%),\tCurrent Time: 20250721-185202\n"
     ]
    },
    {
     "name": "stderr",
     "output_type": "stream",
     "text": [
      "Epoch 41/100: 100%|\u001b[34m█████████████████\u001b[0m| 3000/3000 [00:37<00:00, 80.67batch/s, loss=0.041145]\u001b[0m\n"
     ]
    },
    {
     "name": "stdout",
     "output_type": "stream",
     "text": [
      "\t Loss: 124.094,\tTrain : 98.84%(98.84%),\tTest : 97.33%(97.42%),\tCurrent Time: 20250721-185240\n"
     ]
    },
    {
     "name": "stderr",
     "output_type": "stream",
     "text": [
      "Epoch 42/100: 100%|\u001b[34m█████████████████\u001b[0m| 3000/3000 [00:36<00:00, 82.52batch/s, loss=0.039530]\u001b[0m\n"
     ]
    },
    {
     "name": "stdout",
     "output_type": "stream",
     "text": [
      "\t Loss: 117.712,\tTrain : 98.93%(98.93%),\tTest : 97.22%(97.42%),\tCurrent Time: 20250721-185317\n"
     ]
    },
    {
     "name": "stderr",
     "output_type": "stream",
     "text": [
      "Epoch 43/100: 100%|\u001b[34m█████████████████\u001b[0m| 3000/3000 [00:36<00:00, 81.66batch/s, loss=0.038277]\u001b[0m\n"
     ]
    },
    {
     "name": "stdout",
     "output_type": "stream",
     "text": [
      "\t Loss: 115.583,\tTrain : 98.92%(98.93%),\tTest : 97.20%(97.42%),\tCurrent Time: 20250721-185354\n"
     ]
    },
    {
     "name": "stderr",
     "output_type": "stream",
     "text": [
      "Epoch 44/100: 100%|\u001b[34m█████████████████\u001b[0m| 3000/3000 [00:37<00:00, 80.54batch/s, loss=0.037064]\u001b[0m\n"
     ]
    },
    {
     "name": "stdout",
     "output_type": "stream",
     "text": [
      "\t Loss: 111.071,\tTrain : 99.00%(99.00%),\tTest : 97.35%(97.42%),\tCurrent Time: 20250721-185432\n"
     ]
    },
    {
     "name": "stderr",
     "output_type": "stream",
     "text": [
      "Epoch 45/100: 100%|\u001b[34m█████████████████\u001b[0m| 3000/3000 [00:37<00:00, 79.98batch/s, loss=0.036066]\u001b[0m\n"
     ]
    },
    {
     "name": "stdout",
     "output_type": "stream",
     "text": [
      "\t Loss: 107.597,\tTrain : 99.03%(99.03%),\tTest : 97.46%(97.46%),\tCurrent Time: 20250721-185510\n"
     ]
    },
    {
     "name": "stderr",
     "output_type": "stream",
     "text": [
      "Epoch 46/100: 100%|\u001b[34m█████████████████\u001b[0m| 3000/3000 [00:36<00:00, 81.11batch/s, loss=0.034192]\u001b[0m\n"
     ]
    },
    {
     "name": "stdout",
     "output_type": "stream",
     "text": [
      "\t Loss: 102.892,\tTrain : 99.08%(99.08%),\tTest : 97.45%(97.46%),\tCurrent Time: 20250721-185548\n"
     ]
    },
    {
     "name": "stderr",
     "output_type": "stream",
     "text": [
      "Epoch 47/100: 100%|\u001b[34m█████████████████\u001b[0m| 3000/3000 [00:36<00:00, 83.26batch/s, loss=0.033043]\u001b[0m\n"
     ]
    },
    {
     "name": "stdout",
     "output_type": "stream",
     "text": [
      "\t Loss: 99.002,\tTrain : 99.14%(99.14%),\tTest : 97.41%(97.46%),\tCurrent Time: 20250721-185624\n"
     ]
    },
    {
     "name": "stderr",
     "output_type": "stream",
     "text": [
      "Epoch 48/100: 100%|\u001b[34m█████████████████\u001b[0m| 3000/3000 [00:36<00:00, 81.64batch/s, loss=0.031362]\u001b[0m\n"
     ]
    },
    {
     "name": "stdout",
     "output_type": "stream",
     "text": [
      "\t Loss: 94.620,\tTrain : 99.17%(99.17%),\tTest : 97.62%(97.62%),\tCurrent Time: 20250721-185702\n"
     ]
    },
    {
     "name": "stderr",
     "output_type": "stream",
     "text": [
      "Epoch 49/100: 100%|\u001b[34m█████████████████\u001b[0m| 3000/3000 [00:36<00:00, 82.66batch/s, loss=0.031076]\u001b[0m\n"
     ]
    },
    {
     "name": "stdout",
     "output_type": "stream",
     "text": [
      "\t Loss: 93.358,\tTrain : 99.19%(99.19%),\tTest : 97.36%(97.62%),\tCurrent Time: 20250721-185739\n"
     ]
    },
    {
     "name": "stderr",
     "output_type": "stream",
     "text": [
      "Epoch 50/100: 100%|\u001b[34m█████████████████\u001b[0m| 3000/3000 [00:35<00:00, 85.48batch/s, loss=0.029644]\u001b[0m\n"
     ]
    },
    {
     "name": "stdout",
     "output_type": "stream",
     "text": [
      "\t Loss: 88.907,\tTrain : 99.25%(99.25%),\tTest : 97.54%(97.62%),\tCurrent Time: 20250721-185814\n"
     ]
    },
    {
     "name": "stderr",
     "output_type": "stream",
     "text": [
      "Epoch 51/100: 100%|\u001b[34m█████████████████\u001b[0m| 3000/3000 [00:35<00:00, 85.68batch/s, loss=0.028693]\u001b[0m\n"
     ]
    },
    {
     "name": "stdout",
     "output_type": "stream",
     "text": [
      "\t Loss: 85.985,\tTrain : 99.27%(99.27%),\tTest : 97.60%(97.62%),\tCurrent Time: 20250721-185850\n"
     ]
    },
    {
     "name": "stderr",
     "output_type": "stream",
     "text": [
      "Epoch 52/100: 100%|\u001b[34m█████████████████\u001b[0m| 3000/3000 [00:36<00:00, 82.89batch/s, loss=0.027915]\u001b[0m\n"
     ]
    },
    {
     "name": "stdout",
     "output_type": "stream",
     "text": [
      "\t Loss: 83.550,\tTrain : 99.34%(99.34%),\tTest : 97.24%(97.62%),\tCurrent Time: 20250721-185927\n"
     ]
    },
    {
     "name": "stderr",
     "output_type": "stream",
     "text": [
      "Epoch 53/100: 100%|\u001b[34m█████████████████\u001b[0m| 3000/3000 [00:37<00:00, 80.51batch/s, loss=0.026511]\u001b[0m\n"
     ]
    },
    {
     "name": "stdout",
     "output_type": "stream",
     "text": [
      "\t Loss: 80.591,\tTrain : 99.33%(99.34%),\tTest : 97.32%(97.62%),\tCurrent Time: 20250721-190005\n"
     ]
    },
    {
     "name": "stderr",
     "output_type": "stream",
     "text": [
      "Epoch 54/100: 100%|\u001b[34m█████████████████\u001b[0m| 3000/3000 [00:39<00:00, 76.86batch/s, loss=0.026089]\u001b[0m\n"
     ]
    },
    {
     "name": "stdout",
     "output_type": "stream",
     "text": [
      "\t Loss: 77.756,\tTrain : 99.33%(99.34%),\tTest : 97.37%(97.62%),\tCurrent Time: 20250721-190044\n"
     ]
    },
    {
     "name": "stderr",
     "output_type": "stream",
     "text": [
      "Epoch 55/100: 100%|\u001b[34m█████████████████\u001b[0m| 3000/3000 [00:37<00:00, 80.63batch/s, loss=0.024866]\u001b[0m\n"
     ]
    },
    {
     "name": "stdout",
     "output_type": "stream",
     "text": [
      "\t Loss: 74.865,\tTrain : 99.41%(99.41%),\tTest : 97.61%(97.62%),\tCurrent Time: 20250721-190122\n"
     ]
    },
    {
     "name": "stderr",
     "output_type": "stream",
     "text": [
      "Epoch 56/100: 100%|\u001b[34m█████████████████\u001b[0m| 3000/3000 [00:36<00:00, 81.52batch/s, loss=0.024090]\u001b[0m\n"
     ]
    },
    {
     "name": "stdout",
     "output_type": "stream",
     "text": [
      "\t Loss: 72.244,\tTrain : 99.41%(99.41%),\tTest : 97.46%(97.62%),\tCurrent Time: 20250721-190159\n"
     ]
    },
    {
     "name": "stderr",
     "output_type": "stream",
     "text": [
      "Epoch 57/100: 100%|\u001b[34m█████████████████\u001b[0m| 3000/3000 [00:36<00:00, 81.46batch/s, loss=0.023221]\u001b[0m\n"
     ]
    },
    {
     "name": "stdout",
     "output_type": "stream",
     "text": [
      "\t Loss: 69.427,\tTrain : 99.48%(99.48%),\tTest : 97.34%(97.62%),\tCurrent Time: 20250721-190237\n"
     ]
    },
    {
     "name": "stderr",
     "output_type": "stream",
     "text": [
      "Epoch 58/100: 100%|\u001b[34m█████████████████\u001b[0m| 3000/3000 [00:36<00:00, 82.75batch/s, loss=0.022202]\u001b[0m\n"
     ]
    },
    {
     "name": "stdout",
     "output_type": "stream",
     "text": [
      "\t Loss: 66.878,\tTrain : 99.52%(99.52%),\tTest : 97.61%(97.62%),\tCurrent Time: 20250721-190314\n"
     ]
    },
    {
     "name": "stderr",
     "output_type": "stream",
     "text": [
      "Epoch 59/100: 100%|\u001b[34m█████████████████\u001b[0m| 3000/3000 [00:36<00:00, 81.42batch/s, loss=0.021494]\u001b[0m\n"
     ]
    },
    {
     "name": "stdout",
     "output_type": "stream",
     "text": [
      "\t Loss: 64.706,\tTrain : 99.55%(99.55%),\tTest : 97.61%(97.62%),\tCurrent Time: 20250721-190351\n"
     ]
    },
    {
     "name": "stderr",
     "output_type": "stream",
     "text": [
      "Epoch 60/100: 100%|\u001b[34m█████████████████\u001b[0m| 3000/3000 [00:36<00:00, 81.56batch/s, loss=0.020673]\u001b[0m\n"
     ]
    },
    {
     "name": "stdout",
     "output_type": "stream",
     "text": [
      "\t Loss: 62.508,\tTrain : 99.53%(99.55%),\tTest : 97.45%(97.62%),\tCurrent Time: 20250721-190429\n"
     ]
    },
    {
     "name": "stderr",
     "output_type": "stream",
     "text": [
      "Epoch 61/100: 100%|\u001b[34m█████████████████\u001b[0m| 3000/3000 [00:36<00:00, 81.22batch/s, loss=0.020019]\u001b[0m\n"
     ]
    },
    {
     "name": "stdout",
     "output_type": "stream",
     "text": [
      "\t Loss: 59.707,\tTrain : 99.58%(99.58%),\tTest : 97.55%(97.62%),\tCurrent Time: 20250721-190506\n"
     ]
    },
    {
     "name": "stderr",
     "output_type": "stream",
     "text": [
      "Epoch 62/100: 100%|\u001b[34m█████████████████\u001b[0m| 3000/3000 [00:36<00:00, 81.75batch/s, loss=0.019213]\u001b[0m\n"
     ]
    },
    {
     "name": "stdout",
     "output_type": "stream",
     "text": [
      "\t Loss: 57.989,\tTrain : 99.58%(99.58%),\tTest : 97.58%(97.62%),\tCurrent Time: 20250721-190543\n"
     ]
    },
    {
     "name": "stderr",
     "output_type": "stream",
     "text": [
      "Epoch 63/100: 100%|\u001b[34m█████████████████\u001b[0m| 3000/3000 [00:36<00:00, 81.70batch/s, loss=0.018559]\u001b[0m\n"
     ]
    },
    {
     "name": "stdout",
     "output_type": "stream",
     "text": [
      "\t Loss: 56.022,\tTrain : 99.61%(99.61%),\tTest : 97.51%(97.62%),\tCurrent Time: 20250721-190621\n"
     ]
    },
    {
     "name": "stderr",
     "output_type": "stream",
     "text": [
      "Epoch 64/100: 100%|\u001b[34m█████████████████\u001b[0m| 3000/3000 [00:36<00:00, 83.03batch/s, loss=0.018067]\u001b[0m\n"
     ]
    },
    {
     "name": "stdout",
     "output_type": "stream",
     "text": [
      "\t Loss: 54.401,\tTrain : 99.64%(99.64%),\tTest : 97.47%(97.62%),\tCurrent Time: 20250721-190657\n"
     ]
    },
    {
     "name": "stderr",
     "output_type": "stream",
     "text": [
      "Epoch 65/100: 100%|\u001b[34m█████████████████\u001b[0m| 3000/3000 [00:38<00:00, 78.27batch/s, loss=0.017141]\u001b[0m\n"
     ]
    },
    {
     "name": "stdout",
     "output_type": "stream",
     "text": [
      "\t Loss: 52.308,\tTrain : 99.65%(99.65%),\tTest : 97.53%(97.62%),\tCurrent Time: 20250721-190736\n"
     ]
    },
    {
     "name": "stderr",
     "output_type": "stream",
     "text": [
      "Epoch 66/100: 100%|\u001b[34m█████████████████\u001b[0m| 3000/3000 [00:36<00:00, 81.16batch/s, loss=0.016476]\u001b[0m\n"
     ]
    },
    {
     "name": "stdout",
     "output_type": "stream",
     "text": [
      "\t Loss: 50.258,\tTrain : 99.67%(99.67%),\tTest : 97.58%(97.62%),\tCurrent Time: 20250721-190814\n"
     ]
    },
    {
     "name": "stderr",
     "output_type": "stream",
     "text": [
      "Epoch 67/100: 100%|\u001b[34m█████████████████\u001b[0m| 3000/3000 [00:36<00:00, 81.95batch/s, loss=0.015927]\u001b[0m\n"
     ]
    },
    {
     "name": "stdout",
     "output_type": "stream",
     "text": [
      "\t Loss: 48.242,\tTrain : 99.69%(99.69%),\tTest : 97.55%(97.62%),\tCurrent Time: 20250721-190851\n"
     ]
    },
    {
     "name": "stderr",
     "output_type": "stream",
     "text": [
      "Epoch 68/100: 100%|\u001b[34m█████████████████\u001b[0m| 3000/3000 [00:35<00:00, 83.70batch/s, loss=0.015396]\u001b[0m\n"
     ]
    },
    {
     "name": "stdout",
     "output_type": "stream",
     "text": [
      "\t Loss: 46.260,\tTrain : 99.71%(99.71%),\tTest : 97.40%(97.62%),\tCurrent Time: 20250721-190928\n"
     ]
    },
    {
     "name": "stderr",
     "output_type": "stream",
     "text": [
      "Epoch 69/100: 100%|\u001b[34m█████████████████\u001b[0m| 3000/3000 [00:38<00:00, 78.57batch/s, loss=0.015081]\u001b[0m\n"
     ]
    },
    {
     "name": "stdout",
     "output_type": "stream",
     "text": [
      "\t Loss: 45.438,\tTrain : 99.72%(99.72%),\tTest : 97.66%(97.66%),\tCurrent Time: 20250721-191006\n"
     ]
    },
    {
     "name": "stderr",
     "output_type": "stream",
     "text": [
      "Epoch 70/100: 100%|\u001b[34m█████████████████\u001b[0m| 3000/3000 [00:37<00:00, 79.99batch/s, loss=0.014388]\u001b[0m\n"
     ]
    },
    {
     "name": "stdout",
     "output_type": "stream",
     "text": [
      "\t Loss: 43.123,\tTrain : 99.77%(99.77%),\tTest : 97.57%(97.66%),\tCurrent Time: 20250721-191045\n"
     ]
    },
    {
     "name": "stderr",
     "output_type": "stream",
     "text": [
      "Epoch 71/100: 100%|\u001b[34m█████████████████\u001b[0m| 3000/3000 [00:36<00:00, 81.35batch/s, loss=0.013767]\u001b[0m\n"
     ]
    },
    {
     "name": "stdout",
     "output_type": "stream",
     "text": [
      "\t Loss: 41.644,\tTrain : 99.76%(99.77%),\tTest : 97.55%(97.66%),\tCurrent Time: 20250721-191122\n"
     ]
    },
    {
     "name": "stderr",
     "output_type": "stream",
     "text": [
      "Epoch 72/100: 100%|\u001b[34m█████████████████\u001b[0m| 3000/3000 [00:37<00:00, 79.59batch/s, loss=0.013379]\u001b[0m\n"
     ]
    },
    {
     "name": "stdout",
     "output_type": "stream",
     "text": [
      "\t Loss: 40.304,\tTrain : 99.79%(99.79%),\tTest : 97.49%(97.66%),\tCurrent Time: 20250721-191200\n"
     ]
    },
    {
     "name": "stderr",
     "output_type": "stream",
     "text": [
      "Epoch 73/100: 100%|\u001b[34m█████████████████\u001b[0m| 3000/3000 [00:36<00:00, 82.76batch/s, loss=0.013184]\u001b[0m\n"
     ]
    },
    {
     "name": "stdout",
     "output_type": "stream",
     "text": [
      "\t Loss: 39.381,\tTrain : 99.80%(99.80%),\tTest : 97.52%(97.66%),\tCurrent Time: 20250721-191237\n"
     ]
    },
    {
     "name": "stderr",
     "output_type": "stream",
     "text": [
      "Epoch 74/100: 100%|\u001b[34m█████████████████\u001b[0m| 3000/3000 [00:36<00:00, 81.86batch/s, loss=0.012675]\u001b[0m\n"
     ]
    },
    {
     "name": "stdout",
     "output_type": "stream",
     "text": [
      "\t Loss: 37.868,\tTrain : 99.79%(99.80%),\tTest : 97.59%(97.66%),\tCurrent Time: 20250721-191315\n"
     ]
    },
    {
     "name": "stderr",
     "output_type": "stream",
     "text": [
      "Epoch 75/100: 100%|\u001b[34m█████████████████\u001b[0m| 3000/3000 [00:37<00:00, 80.74batch/s, loss=0.012099]\u001b[0m\n"
     ]
    },
    {
     "name": "stdout",
     "output_type": "stream",
     "text": [
      "\t Loss: 36.568,\tTrain : 99.81%(99.81%),\tTest : 97.53%(97.66%),\tCurrent Time: 20250721-191352\n"
     ]
    },
    {
     "name": "stderr",
     "output_type": "stream",
     "text": [
      "Epoch 76/100: 100%|\u001b[34m█████████████████\u001b[0m| 3000/3000 [00:37<00:00, 80.59batch/s, loss=0.011651]\u001b[0m\n"
     ]
    },
    {
     "name": "stdout",
     "output_type": "stream",
     "text": [
      "\t Loss: 34.758,\tTrain : 99.84%(99.84%),\tTest : 97.72%(97.72%),\tCurrent Time: 20250721-191430\n"
     ]
    },
    {
     "name": "stderr",
     "output_type": "stream",
     "text": [
      "Epoch 77/100: 100%|\u001b[34m█████████████████\u001b[0m| 3000/3000 [00:37<00:00, 79.80batch/s, loss=0.011097]\u001b[0m\n"
     ]
    },
    {
     "name": "stdout",
     "output_type": "stream",
     "text": [
      "\t Loss: 33.559,\tTrain : 99.86%(99.86%),\tTest : 97.63%(97.72%),\tCurrent Time: 20250721-191509\n"
     ]
    },
    {
     "name": "stderr",
     "output_type": "stream",
     "text": [
      "Epoch 78/100: 100%|\u001b[34m█████████████████\u001b[0m| 3000/3000 [00:35<00:00, 84.70batch/s, loss=0.010901]\u001b[0m\n"
     ]
    },
    {
     "name": "stdout",
     "output_type": "stream",
     "text": [
      "\t Loss: 32.647,\tTrain : 99.84%(99.86%),\tTest : 97.62%(97.72%),\tCurrent Time: 20250721-191545\n"
     ]
    },
    {
     "name": "stderr",
     "output_type": "stream",
     "text": [
      "Epoch 79/100: 100%|\u001b[34m█████████████████\u001b[0m| 3000/3000 [00:36<00:00, 82.65batch/s, loss=0.010643]\u001b[0m\n"
     ]
    },
    {
     "name": "stdout",
     "output_type": "stream",
     "text": [
      "\t Loss: 31.849,\tTrain : 99.85%(99.86%),\tTest : 97.60%(97.72%),\tCurrent Time: 20250721-191621\n"
     ]
    },
    {
     "name": "stderr",
     "output_type": "stream",
     "text": [
      "Epoch 80/100: 100%|\u001b[34m█████████████████\u001b[0m| 3000/3000 [00:37<00:00, 80.92batch/s, loss=0.010103]\u001b[0m\n"
     ]
    },
    {
     "name": "stdout",
     "output_type": "stream",
     "text": [
      "\t Loss: 30.475,\tTrain : 99.88%(99.88%),\tTest : 97.69%(97.72%),\tCurrent Time: 20250721-191659\n"
     ]
    },
    {
     "name": "stderr",
     "output_type": "stream",
     "text": [
      "Epoch 81/100: 100%|\u001b[34m█████████████████\u001b[0m| 3000/3000 [00:37<00:00, 79.20batch/s, loss=0.009581]\u001b[0m\n"
     ]
    },
    {
     "name": "stdout",
     "output_type": "stream",
     "text": [
      "\t Loss: 29.134,\tTrain : 99.89%(99.89%),\tTest : 97.52%(97.72%),\tCurrent Time: 20250721-191738\n"
     ]
    },
    {
     "name": "stderr",
     "output_type": "stream",
     "text": [
      "Epoch 82/100: 100%|\u001b[34m█████████████████\u001b[0m| 3000/3000 [00:37<00:00, 80.20batch/s, loss=0.009479]\u001b[0m\n"
     ]
    },
    {
     "name": "stdout",
     "output_type": "stream",
     "text": [
      "\t Loss: 28.629,\tTrain : 99.87%(99.89%),\tTest : 97.62%(97.72%),\tCurrent Time: 20250721-191816\n"
     ]
    },
    {
     "name": "stderr",
     "output_type": "stream",
     "text": [
      "Epoch 83/100: 100%|\u001b[34m█████████████████\u001b[0m| 3000/3000 [00:36<00:00, 82.50batch/s, loss=0.009176]\u001b[0m\n"
     ]
    },
    {
     "name": "stdout",
     "output_type": "stream",
     "text": [
      "\t Loss: 27.380,\tTrain : 99.90%(99.90%),\tTest : 97.62%(97.72%),\tCurrent Time: 20250721-191853\n"
     ]
    },
    {
     "name": "stderr",
     "output_type": "stream",
     "text": [
      "Epoch 84/100: 100%|\u001b[34m█████████████████\u001b[0m| 3000/3000 [00:36<00:00, 82.72batch/s, loss=0.008829]\u001b[0m\n"
     ]
    },
    {
     "name": "stdout",
     "output_type": "stream",
     "text": [
      "\t Loss: 26.579,\tTrain : 99.92%(99.92%),\tTest : 97.69%(97.72%),\tCurrent Time: 20250721-191929\n"
     ]
    },
    {
     "name": "stderr",
     "output_type": "stream",
     "text": [
      "Epoch 85/100: 100%|\u001b[34m█████████████████\u001b[0m| 3000/3000 [00:36<00:00, 82.65batch/s, loss=0.008438]\u001b[0m\n"
     ]
    },
    {
     "name": "stdout",
     "output_type": "stream",
     "text": [
      "\t Loss: 25.491,\tTrain : 99.92%(99.92%),\tTest : 97.70%(97.72%),\tCurrent Time: 20250721-192006\n"
     ]
    },
    {
     "name": "stderr",
     "output_type": "stream",
     "text": [
      "Epoch 86/100: 100%|\u001b[34m█████████████████\u001b[0m| 3000/3000 [00:36<00:00, 81.32batch/s, loss=0.008155]\u001b[0m\n"
     ]
    },
    {
     "name": "stdout",
     "output_type": "stream",
     "text": [
      "\t Loss: 24.876,\tTrain : 99.92%(99.92%),\tTest : 97.67%(97.72%),\tCurrent Time: 20250721-192044\n"
     ]
    },
    {
     "name": "stderr",
     "output_type": "stream",
     "text": [
      "Epoch 87/100: 100%|\u001b[34m█████████████████\u001b[0m| 3000/3000 [00:35<00:00, 83.85batch/s, loss=0.008048]\u001b[0m\n"
     ]
    },
    {
     "name": "stdout",
     "output_type": "stream",
     "text": [
      "\t Loss: 24.100,\tTrain : 99.92%(99.92%),\tTest : 97.62%(97.72%),\tCurrent Time: 20250721-192120\n"
     ]
    },
    {
     "name": "stderr",
     "output_type": "stream",
     "text": [
      "Epoch 88/100: 100%|\u001b[34m█████████████████\u001b[0m| 3000/3000 [00:34<00:00, 86.99batch/s, loss=0.007755]\u001b[0m\n"
     ]
    },
    {
     "name": "stdout",
     "output_type": "stream",
     "text": [
      "\t Loss: 23.340,\tTrain : 99.93%(99.93%),\tTest : 97.71%(97.72%),\tCurrent Time: 20250721-192155\n"
     ]
    },
    {
     "name": "stderr",
     "output_type": "stream",
     "text": [
      "Epoch 89/100: 100%|\u001b[34m█████████████████\u001b[0m| 3000/3000 [00:34<00:00, 86.98batch/s, loss=0.007474]\u001b[0m\n"
     ]
    },
    {
     "name": "stdout",
     "output_type": "stream",
     "text": [
      "\t Loss: 22.394,\tTrain : 99.93%(99.93%),\tTest : 97.63%(97.72%),\tCurrent Time: 20250721-192230\n"
     ]
    },
    {
     "name": "stderr",
     "output_type": "stream",
     "text": [
      "Epoch 90/100: 100%|\u001b[34m█████████████████\u001b[0m| 3000/3000 [00:34<00:00, 85.84batch/s, loss=0.007253]\u001b[0m\n"
     ]
    },
    {
     "name": "stdout",
     "output_type": "stream",
     "text": [
      "\t Loss: 21.706,\tTrain : 99.94%(99.94%),\tTest : 97.77%(97.77%),\tCurrent Time: 20250721-192306\n"
     ]
    },
    {
     "name": "stderr",
     "output_type": "stream",
     "text": [
      "Epoch 91/100: 100%|\u001b[34m█████████████████\u001b[0m| 3000/3000 [00:36<00:00, 81.68batch/s, loss=0.007038]\u001b[0m\n"
     ]
    },
    {
     "name": "stdout",
     "output_type": "stream",
     "text": [
      "\t Loss: 21.183,\tTrain : 99.94%(99.94%),\tTest : 97.56%(97.77%),\tCurrent Time: 20250721-192343\n"
     ]
    },
    {
     "name": "stderr",
     "output_type": "stream",
     "text": [
      "Epoch 92/100: 100%|\u001b[34m█████████████████\u001b[0m| 3000/3000 [00:35<00:00, 83.41batch/s, loss=0.006678]\u001b[0m\n"
     ]
    },
    {
     "name": "stdout",
     "output_type": "stream",
     "text": [
      "\t Loss: 20.160,\tTrain : 99.95%(99.95%),\tTest : 97.71%(97.77%),\tCurrent Time: 20250721-192420\n"
     ]
    },
    {
     "name": "stderr",
     "output_type": "stream",
     "text": [
      "Epoch 93/100: 100%|\u001b[34m█████████████████\u001b[0m| 3000/3000 [00:36<00:00, 81.79batch/s, loss=0.006669]\u001b[0m\n"
     ]
    },
    {
     "name": "stdout",
     "output_type": "stream",
     "text": [
      "\t Loss: 20.063,\tTrain : 99.95%(99.95%),\tTest : 97.66%(97.77%),\tCurrent Time: 20250721-192457\n"
     ]
    },
    {
     "name": "stderr",
     "output_type": "stream",
     "text": [
      "Epoch 94/100: 100%|\u001b[34m█████████████████\u001b[0m| 3000/3000 [00:37<00:00, 80.33batch/s, loss=0.006419]\u001b[0m\n"
     ]
    },
    {
     "name": "stdout",
     "output_type": "stream",
     "text": [
      "\t Loss: 19.386,\tTrain : 99.96%(99.96%),\tTest : 97.73%(97.77%),\tCurrent Time: 20250721-192535\n"
     ]
    },
    {
     "name": "stderr",
     "output_type": "stream",
     "text": [
      "Epoch 95/100: 100%|\u001b[34m█████████████████\u001b[0m| 3000/3000 [00:37<00:00, 80.73batch/s, loss=0.006304]\u001b[0m\n"
     ]
    },
    {
     "name": "stdout",
     "output_type": "stream",
     "text": [
      "\t Loss: 18.918,\tTrain : 99.95%(99.96%),\tTest : 97.65%(97.77%),\tCurrent Time: 20250721-192613\n"
     ]
    },
    {
     "name": "stderr",
     "output_type": "stream",
     "text": [
      "Epoch 96/100: 100%|\u001b[34m█████████████████\u001b[0m| 3000/3000 [00:37<00:00, 79.00batch/s, loss=0.005992]\u001b[0m\n"
     ]
    },
    {
     "name": "stdout",
     "output_type": "stream",
     "text": [
      "\t Loss: 18.064,\tTrain : 99.96%(99.96%),\tTest : 97.64%(97.77%),\tCurrent Time: 20250721-192651\n"
     ]
    },
    {
     "name": "stderr",
     "output_type": "stream",
     "text": [
      "Epoch 97/100: 100%|\u001b[34m█████████████████\u001b[0m| 3000/3000 [00:38<00:00, 77.07batch/s, loss=0.005816]\u001b[0m\n"
     ]
    },
    {
     "name": "stdout",
     "output_type": "stream",
     "text": [
      "\t Loss: 17.542,\tTrain : 99.97%(99.97%),\tTest : 97.66%(97.77%),\tCurrent Time: 20250721-192731\n"
     ]
    },
    {
     "name": "stderr",
     "output_type": "stream",
     "text": [
      "Epoch 98/100: 100%|\u001b[34m█████████████████\u001b[0m| 3000/3000 [00:37<00:00, 79.45batch/s, loss=0.005688]\u001b[0m\n"
     ]
    },
    {
     "name": "stdout",
     "output_type": "stream",
     "text": [
      "\t Loss: 17.269,\tTrain : 99.96%(99.97%),\tTest : 97.70%(97.77%),\tCurrent Time: 20250721-192809\n"
     ]
    },
    {
     "name": "stderr",
     "output_type": "stream",
     "text": [
      "Epoch 99/100: 100%|\u001b[34m█████████████████\u001b[0m| 3000/3000 [00:37<00:00, 80.13batch/s, loss=0.005601]\u001b[0m\n"
     ]
    },
    {
     "name": "stdout",
     "output_type": "stream",
     "text": [
      "\t Loss: 16.786,\tTrain : 99.97%(99.97%),\tTest : 97.75%(97.77%),\tCurrent Time: 20250721-192847\n"
     ]
    },
    {
     "name": "stderr",
     "output_type": "stream",
     "text": [
      "Epoch 100/100: 100%|\u001b[34m████████████████\u001b[0m| 3000/3000 [00:38<00:00, 78.65batch/s, loss=0.005398]\u001b[0m\n"
     ]
    },
    {
     "name": "stdout",
     "output_type": "stream",
     "text": [
      "\t Loss: 16.146,\tTrain : 99.97%(99.97%),\tTest : 97.70%(97.77%),\tCurrent Time: 20250721-192926\n",
      "EP_L3_MNIST_First_symm_LN_t2sta2_bs20_lrsame-EP_b_sc0.01-EP_It2sta18- Time: 20250721-192926, Epochs: 100, Learning Rate: 0.001, Best: 99.97%  97.77%\n",
      "\n",
      "EP_L3_MNIST_First_symm_LN_t2sta2_bs20_lrsame-EP_b_sc0.01-EP_It2sta18-\n"
     ]
    },
    {
     "name": "stderr",
     "output_type": "stream",
     "text": [
      "Epoch 1/100: 100%|\u001b[34m██████████████████\u001b[0m| 3000/3000 [00:37<00:00, 79.19batch/s, loss=0.425016]\u001b[0m\n"
     ]
    },
    {
     "name": "stdout",
     "output_type": "stream",
     "text": [
      "\t Loss: 1268.503,\tTrain : 87.91%(87.91%),\tTest : 91.22%(91.22%),\tCurrent Time: 20250721-193005\n"
     ]
    },
    {
     "name": "stderr",
     "output_type": "stream",
     "text": [
      "Epoch 2/100: 100%|\u001b[34m██████████████████\u001b[0m| 3000/3000 [00:37<00:00, 79.36batch/s, loss=0.315134]\u001b[0m\n"
     ]
    },
    {
     "name": "stdout",
     "output_type": "stream",
     "text": [
      "\t Loss: 948.077,\tTrain : 90.89%(90.89%),\tTest : 91.48%(91.48%),\tCurrent Time: 20250721-193043\n"
     ]
    },
    {
     "name": "stderr",
     "output_type": "stream",
     "text": [
      "Epoch 3/100: 100%|\u001b[34m██████████████████\u001b[0m| 3000/3000 [00:38<00:00, 77.69batch/s, loss=0.294116]\u001b[0m\n"
     ]
    },
    {
     "name": "stdout",
     "output_type": "stream",
     "text": [
      "\t Loss: 886.075,\tTrain : 91.59%(91.59%),\tTest : 91.82%(91.82%),\tCurrent Time: 20250721-193122\n"
     ]
    },
    {
     "name": "stderr",
     "output_type": "stream",
     "text": [
      "Epoch 4/100: 100%|\u001b[34m██████████████████\u001b[0m| 3000/3000 [00:39<00:00, 76.07batch/s, loss=0.278532]\u001b[0m\n"
     ]
    },
    {
     "name": "stdout",
     "output_type": "stream",
     "text": [
      "\t Loss: 838.285,\tTrain : 92.03%(92.03%),\tTest : 92.07%(92.07%),\tCurrent Time: 20250721-193202\n"
     ]
    },
    {
     "name": "stderr",
     "output_type": "stream",
     "text": [
      "Epoch 5/100: 100%|\u001b[34m██████████████████\u001b[0m| 3000/3000 [00:38<00:00, 78.04batch/s, loss=0.263228]\u001b[0m\n"
     ]
    },
    {
     "name": "stdout",
     "output_type": "stream",
     "text": [
      "\t Loss: 788.315,\tTrain : 92.56%(92.56%),\tTest : 92.75%(92.75%),\tCurrent Time: 20250721-193241\n"
     ]
    },
    {
     "name": "stderr",
     "output_type": "stream",
     "text": [
      "Epoch 6/100: 100%|\u001b[34m██████████████████\u001b[0m| 3000/3000 [00:37<00:00, 80.27batch/s, loss=0.243406]\u001b[0m\n"
     ]
    },
    {
     "name": "stdout",
     "output_type": "stream",
     "text": [
      "\t Loss: 729.967,\tTrain : 93.12%(93.12%),\tTest : 93.27%(93.27%),\tCurrent Time: 20250721-193319\n"
     ]
    },
    {
     "name": "stderr",
     "output_type": "stream",
     "text": [
      "Epoch 7/100: 100%|\u001b[34m██████████████████\u001b[0m| 3000/3000 [00:38<00:00, 78.40batch/s, loss=0.224613]\u001b[0m\n"
     ]
    },
    {
     "name": "stdout",
     "output_type": "stream",
     "text": [
      "\t Loss: 673.224,\tTrain : 93.69%(93.69%),\tTest : 93.93%(93.93%),\tCurrent Time: 20250721-193358\n"
     ]
    },
    {
     "name": "stderr",
     "output_type": "stream",
     "text": [
      "Epoch 8/100: 100%|\u001b[34m██████████████████\u001b[0m| 3000/3000 [00:37<00:00, 80.80batch/s, loss=0.205866]\u001b[0m\n"
     ]
    },
    {
     "name": "stdout",
     "output_type": "stream",
     "text": [
      "\t Loss: 618.442,\tTrain : 94.21%(94.21%),\tTest : 94.31%(94.31%),\tCurrent Time: 20250721-193436\n"
     ]
    },
    {
     "name": "stderr",
     "output_type": "stream",
     "text": [
      "Epoch 9/100: 100%|\u001b[34m██████████████████\u001b[0m| 3000/3000 [00:38<00:00, 78.20batch/s, loss=0.190582]\u001b[0m\n"
     ]
    },
    {
     "name": "stdout",
     "output_type": "stream",
     "text": [
      "\t Loss: 570.717,\tTrain : 94.63%(94.63%),\tTest : 94.76%(94.76%),\tCurrent Time: 20250721-193515\n"
     ]
    },
    {
     "name": "stderr",
     "output_type": "stream",
     "text": [
      "Epoch 10/100: 100%|\u001b[34m█████████████████\u001b[0m| 3000/3000 [00:38<00:00, 78.30batch/s, loss=0.174524]\u001b[0m\n"
     ]
    },
    {
     "name": "stdout",
     "output_type": "stream",
     "text": [
      "\t Loss: 523.189,\tTrain : 95.01%(95.01%),\tTest : 95.10%(95.10%),\tCurrent Time: 20250721-193554\n"
     ]
    },
    {
     "name": "stderr",
     "output_type": "stream",
     "text": [
      "Epoch 11/100: 100%|\u001b[34m█████████████████\u001b[0m| 3000/3000 [00:38<00:00, 77.61batch/s, loss=0.162067]\u001b[0m\n"
     ]
    },
    {
     "name": "stdout",
     "output_type": "stream",
     "text": [
      "\t Loss: 485.171,\tTrain : 95.34%(95.34%),\tTest : 95.28%(95.28%),\tCurrent Time: 20250721-193633\n"
     ]
    },
    {
     "name": "stderr",
     "output_type": "stream",
     "text": [
      "Epoch 12/100: 100%|\u001b[34m█████████████████\u001b[0m| 3000/3000 [00:36<00:00, 82.88batch/s, loss=0.150877]\u001b[0m\n"
     ]
    },
    {
     "name": "stdout",
     "output_type": "stream",
     "text": [
      "\t Loss: 452.572,\tTrain : 95.76%(95.76%),\tTest : 95.50%(95.50%),\tCurrent Time: 20250721-193710\n"
     ]
    },
    {
     "name": "stderr",
     "output_type": "stream",
     "text": [
      "Epoch 13/100: 100%|\u001b[34m█████████████████\u001b[0m| 3000/3000 [00:36<00:00, 82.33batch/s, loss=0.140649]\u001b[0m\n"
     ]
    },
    {
     "name": "stdout",
     "output_type": "stream",
     "text": [
      "\t Loss: 421.040,\tTrain : 95.99%(95.99%),\tTest : 95.91%(95.91%),\tCurrent Time: 20250721-193747\n"
     ]
    },
    {
     "name": "stderr",
     "output_type": "stream",
     "text": [
      "Epoch 14/100: 100%|\u001b[34m█████████████████\u001b[0m| 3000/3000 [00:36<00:00, 82.05batch/s, loss=0.131766]\u001b[0m\n"
     ]
    },
    {
     "name": "stdout",
     "output_type": "stream",
     "text": [
      "\t Loss: 396.883,\tTrain : 96.21%(96.21%),\tTest : 96.16%(96.16%),\tCurrent Time: 20250721-193824\n"
     ]
    },
    {
     "name": "stderr",
     "output_type": "stream",
     "text": [
      "Epoch 15/100: 100%|\u001b[34m█████████████████\u001b[0m| 3000/3000 [00:36<00:00, 81.20batch/s, loss=0.124338]\u001b[0m\n"
     ]
    },
    {
     "name": "stdout",
     "output_type": "stream",
     "text": [
      "\t Loss: 374.420,\tTrain : 96.39%(96.39%),\tTest : 96.26%(96.26%),\tCurrent Time: 20250721-193902\n"
     ]
    },
    {
     "name": "stderr",
     "output_type": "stream",
     "text": [
      "Epoch 16/100: 100%|\u001b[34m█████████████████\u001b[0m| 3000/3000 [00:35<00:00, 84.15batch/s, loss=0.117587]\u001b[0m\n"
     ]
    },
    {
     "name": "stdout",
     "output_type": "stream",
     "text": [
      "\t Loss: 352.018,\tTrain : 96.64%(96.64%),\tTest : 96.36%(96.36%),\tCurrent Time: 20250721-193938\n"
     ]
    },
    {
     "name": "stderr",
     "output_type": "stream",
     "text": [
      "Epoch 17/100: 100%|\u001b[34m█████████████████\u001b[0m| 3000/3000 [00:34<00:00, 85.88batch/s, loss=0.111738]\u001b[0m\n"
     ]
    },
    {
     "name": "stdout",
     "output_type": "stream",
     "text": [
      "\t Loss: 334.465,\tTrain : 96.74%(96.74%),\tTest : 96.18%(96.36%),\tCurrent Time: 20250721-194014\n"
     ]
    },
    {
     "name": "stderr",
     "output_type": "stream",
     "text": [
      "Epoch 18/100: 100%|\u001b[34m█████████████████\u001b[0m| 3000/3000 [00:36<00:00, 81.56batch/s, loss=0.105712]\u001b[0m\n"
     ]
    },
    {
     "name": "stdout",
     "output_type": "stream",
     "text": [
      "\t Loss: 317.160,\tTrain : 96.95%(96.95%),\tTest : 96.65%(96.65%),\tCurrent Time: 20250721-194051\n"
     ]
    },
    {
     "name": "stderr",
     "output_type": "stream",
     "text": [
      "Epoch 19/100: 100%|\u001b[34m█████████████████\u001b[0m| 3000/3000 [00:35<00:00, 84.18batch/s, loss=0.100442]\u001b[0m\n"
     ]
    },
    {
     "name": "stdout",
     "output_type": "stream",
     "text": [
      "\t Loss: 302.485,\tTrain : 97.07%(97.07%),\tTest : 96.58%(96.65%),\tCurrent Time: 20250721-194127\n"
     ]
    },
    {
     "name": "stderr",
     "output_type": "stream",
     "text": [
      "Epoch 20/100: 100%|\u001b[34m█████████████████\u001b[0m| 3000/3000 [00:35<00:00, 85.31batch/s, loss=0.096712]\u001b[0m\n"
     ]
    },
    {
     "name": "stdout",
     "output_type": "stream",
     "text": [
      "\t Loss: 289.100,\tTrain : 97.21%(97.21%),\tTest : 96.73%(96.73%),\tCurrent Time: 20250721-194203\n"
     ]
    },
    {
     "name": "stderr",
     "output_type": "stream",
     "text": [
      "Epoch 21/100: 100%|\u001b[34m█████████████████\u001b[0m| 3000/3000 [00:36<00:00, 81.22batch/s, loss=0.091343]\u001b[0m\n"
     ]
    },
    {
     "name": "stdout",
     "output_type": "stream",
     "text": [
      "\t Loss: 274.311,\tTrain : 97.36%(97.36%),\tTest : 96.83%(96.83%),\tCurrent Time: 20250721-194241\n"
     ]
    },
    {
     "name": "stderr",
     "output_type": "stream",
     "text": [
      "Epoch 22/100: 100%|\u001b[34m█████████████████\u001b[0m| 3000/3000 [00:36<00:00, 81.64batch/s, loss=0.086673]\u001b[0m\n"
     ]
    },
    {
     "name": "stdout",
     "output_type": "stream",
     "text": [
      "\t Loss: 260.535,\tTrain : 97.52%(97.52%),\tTest : 97.01%(97.01%),\tCurrent Time: 20250721-194318\n"
     ]
    },
    {
     "name": "stderr",
     "output_type": "stream",
     "text": [
      "Epoch 23/100: 100%|\u001b[34m█████████████████\u001b[0m| 3000/3000 [00:37<00:00, 80.16batch/s, loss=0.083995]\u001b[0m\n"
     ]
    },
    {
     "name": "stdout",
     "output_type": "stream",
     "text": [
      "\t Loss: 251.401,\tTrain : 97.53%(97.53%),\tTest : 97.00%(97.01%),\tCurrent Time: 20250721-194356\n"
     ]
    },
    {
     "name": "stderr",
     "output_type": "stream",
     "text": [
      "Epoch 24/100: 100%|\u001b[34m█████████████████\u001b[0m| 3000/3000 [00:36<00:00, 82.27batch/s, loss=0.079741]\u001b[0m\n"
     ]
    },
    {
     "name": "stdout",
     "output_type": "stream",
     "text": [
      "\t Loss: 238.995,\tTrain : 97.65%(97.65%),\tTest : 97.06%(97.06%),\tCurrent Time: 20250721-194433\n"
     ]
    },
    {
     "name": "stderr",
     "output_type": "stream",
     "text": [
      "Epoch 25/100: 100%|\u001b[34m█████████████████\u001b[0m| 3000/3000 [00:36<00:00, 81.24batch/s, loss=0.075907]\u001b[0m\n"
     ]
    },
    {
     "name": "stdout",
     "output_type": "stream",
     "text": [
      "\t Loss: 228.983,\tTrain : 97.80%(97.80%),\tTest : 97.14%(97.14%),\tCurrent Time: 20250721-194511\n"
     ]
    },
    {
     "name": "stderr",
     "output_type": "stream",
     "text": [
      "Epoch 26/100: 100%|\u001b[34m█████████████████\u001b[0m| 3000/3000 [00:36<00:00, 81.46batch/s, loss=0.073137]\u001b[0m\n"
     ]
    },
    {
     "name": "stdout",
     "output_type": "stream",
     "text": [
      "\t Loss: 219.304,\tTrain : 97.86%(97.86%),\tTest : 97.22%(97.22%),\tCurrent Time: 20250721-194548\n"
     ]
    },
    {
     "name": "stderr",
     "output_type": "stream",
     "text": [
      "Epoch 27/100: 100%|\u001b[34m█████████████████\u001b[0m| 3000/3000 [00:36<00:00, 83.28batch/s, loss=0.069896]\u001b[0m\n"
     ]
    },
    {
     "name": "stdout",
     "output_type": "stream",
     "text": [
      "\t Loss: 209.974,\tTrain : 98.00%(98.00%),\tTest : 97.17%(97.22%),\tCurrent Time: 20250721-194625\n"
     ]
    },
    {
     "name": "stderr",
     "output_type": "stream",
     "text": [
      "Epoch 28/100: 100%|\u001b[34m█████████████████\u001b[0m| 3000/3000 [00:35<00:00, 84.33batch/s, loss=0.067785]\u001b[0m\n"
     ]
    },
    {
     "name": "stdout",
     "output_type": "stream",
     "text": [
      "\t Loss: 202.634,\tTrain : 98.02%(98.02%),\tTest : 97.23%(97.23%),\tCurrent Time: 20250721-194701\n"
     ]
    },
    {
     "name": "stderr",
     "output_type": "stream",
     "text": [
      "Epoch 29/100: 100%|\u001b[34m█████████████████\u001b[0m| 3000/3000 [00:35<00:00, 85.21batch/s, loss=0.064542]\u001b[0m\n"
     ]
    },
    {
     "name": "stdout",
     "output_type": "stream",
     "text": [
      "\t Loss: 193.342,\tTrain : 98.15%(98.15%),\tTest : 97.24%(97.24%),\tCurrent Time: 20250721-194736\n"
     ]
    },
    {
     "name": "stderr",
     "output_type": "stream",
     "text": [
      "Epoch 30/100: 100%|\u001b[34m█████████████████\u001b[0m| 3000/3000 [00:35<00:00, 83.92batch/s, loss=0.061614]\u001b[0m\n"
     ]
    },
    {
     "name": "stdout",
     "output_type": "stream",
     "text": [
      "\t Loss: 185.937,\tTrain : 98.18%(98.18%),\tTest : 97.38%(97.38%),\tCurrent Time: 20250721-194813\n"
     ]
    },
    {
     "name": "stderr",
     "output_type": "stream",
     "text": [
      "Epoch 31/100: 100%|\u001b[34m█████████████████\u001b[0m| 3000/3000 [00:36<00:00, 82.39batch/s, loss=0.058898]\u001b[0m\n"
     ]
    },
    {
     "name": "stdout",
     "output_type": "stream",
     "text": [
      "\t Loss: 177.854,\tTrain : 98.28%(98.28%),\tTest : 97.39%(97.39%),\tCurrent Time: 20250721-194850\n"
     ]
    },
    {
     "name": "stderr",
     "output_type": "stream",
     "text": [
      "Epoch 32/100: 100%|\u001b[34m█████████████████\u001b[0m| 3000/3000 [00:37<00:00, 79.62batch/s, loss=0.057170]\u001b[0m\n"
     ]
    },
    {
     "name": "stdout",
     "output_type": "stream",
     "text": [
      "\t Loss: 171.315,\tTrain : 98.36%(98.36%),\tTest : 97.27%(97.39%),\tCurrent Time: 20250721-194928\n"
     ]
    },
    {
     "name": "stderr",
     "output_type": "stream",
     "text": [
      "Epoch 33/100: 100%|\u001b[34m█████████████████\u001b[0m| 3000/3000 [00:35<00:00, 83.41batch/s, loss=0.055340]\u001b[0m\n"
     ]
    },
    {
     "name": "stdout",
     "output_type": "stream",
     "text": [
      "\t Loss: 165.780,\tTrain : 98.40%(98.40%),\tTest : 97.40%(97.40%),\tCurrent Time: 20250721-195005\n"
     ]
    },
    {
     "name": "stderr",
     "output_type": "stream",
     "text": [
      "Epoch 34/100: 100%|\u001b[34m█████████████████\u001b[0m| 3000/3000 [00:36<00:00, 82.25batch/s, loss=0.052705]\u001b[0m\n"
     ]
    },
    {
     "name": "stdout",
     "output_type": "stream",
     "text": [
      "\t Loss: 157.942,\tTrain : 98.53%(98.53%),\tTest : 97.54%(97.54%),\tCurrent Time: 20250721-195042\n"
     ]
    },
    {
     "name": "stderr",
     "output_type": "stream",
     "text": [
      "Epoch 35/100: 100%|\u001b[34m█████████████████\u001b[0m| 3000/3000 [00:36<00:00, 82.25batch/s, loss=0.051311]\u001b[0m\n"
     ]
    },
    {
     "name": "stdout",
     "output_type": "stream",
     "text": [
      "\t Loss: 152.902,\tTrain : 98.52%(98.53%),\tTest : 97.49%(97.54%),\tCurrent Time: 20250721-195119\n"
     ]
    },
    {
     "name": "stderr",
     "output_type": "stream",
     "text": [
      "Epoch 36/100: 100%|\u001b[34m█████████████████\u001b[0m| 3000/3000 [00:37<00:00, 79.68batch/s, loss=0.048380]\u001b[0m\n"
     ]
    },
    {
     "name": "stdout",
     "output_type": "stream",
     "text": [
      "\t Loss: 145.908,\tTrain : 98.67%(98.67%),\tTest : 97.44%(97.54%),\tCurrent Time: 20250721-195157\n"
     ]
    },
    {
     "name": "stderr",
     "output_type": "stream",
     "text": [
      "Epoch 37/100: 100%|\u001b[34m█████████████████\u001b[0m| 3000/3000 [00:36<00:00, 82.47batch/s, loss=0.047040]\u001b[0m\n"
     ]
    },
    {
     "name": "stdout",
     "output_type": "stream",
     "text": [
      "\t Loss: 141.913,\tTrain : 98.67%(98.67%),\tTest : 97.73%(97.73%),\tCurrent Time: 20250721-195234\n"
     ]
    },
    {
     "name": "stderr",
     "output_type": "stream",
     "text": [
      "Epoch 38/100: 100%|\u001b[34m█████████████████\u001b[0m| 3000/3000 [00:37<00:00, 79.86batch/s, loss=0.045458]\u001b[0m\n"
     ]
    },
    {
     "name": "stdout",
     "output_type": "stream",
     "text": [
      "\t Loss: 136.651,\tTrain : 98.73%(98.73%),\tTest : 97.41%(97.73%),\tCurrent Time: 20250721-195312\n"
     ]
    },
    {
     "name": "stderr",
     "output_type": "stream",
     "text": [
      "Epoch 39/100: 100%|\u001b[34m█████████████████\u001b[0m| 3000/3000 [00:39<00:00, 76.39batch/s, loss=0.042696]\u001b[0m\n"
     ]
    },
    {
     "name": "stdout",
     "output_type": "stream",
     "text": [
      "\t Loss: 130.325,\tTrain : 98.83%(98.83%),\tTest : 97.59%(97.73%),\tCurrent Time: 20250721-195352\n"
     ]
    },
    {
     "name": "stderr",
     "output_type": "stream",
     "text": [
      "Epoch 40/100: 100%|\u001b[34m█████████████████\u001b[0m| 3000/3000 [00:37<00:00, 79.73batch/s, loss=0.041800]\u001b[0m\n"
     ]
    },
    {
     "name": "stdout",
     "output_type": "stream",
     "text": [
      "\t Loss: 125.234,\tTrain : 98.88%(98.88%),\tTest : 97.72%(97.73%),\tCurrent Time: 20250721-195431\n"
     ]
    },
    {
     "name": "stderr",
     "output_type": "stream",
     "text": [
      "Epoch 41/100: 100%|\u001b[34m█████████████████\u001b[0m| 3000/3000 [00:37<00:00, 79.99batch/s, loss=0.040901]\u001b[0m\n"
     ]
    },
    {
     "name": "stdout",
     "output_type": "stream",
     "text": [
      "\t Loss: 122.323,\tTrain : 98.89%(98.89%),\tTest : 97.79%(97.79%),\tCurrent Time: 20250721-195509\n"
     ]
    },
    {
     "name": "stderr",
     "output_type": "stream",
     "text": [
      "Epoch 42/100: 100%|\u001b[34m█████████████████\u001b[0m| 3000/3000 [00:36<00:00, 81.54batch/s, loss=0.038872]\u001b[0m\n"
     ]
    },
    {
     "name": "stdout",
     "output_type": "stream",
     "text": [
      "\t Loss: 117.229,\tTrain : 98.92%(98.92%),\tTest : 97.65%(97.79%),\tCurrent Time: 20250721-195546\n"
     ]
    },
    {
     "name": "stderr",
     "output_type": "stream",
     "text": [
      "Epoch 43/100: 100%|\u001b[34m█████████████████\u001b[0m| 3000/3000 [00:36<00:00, 83.04batch/s, loss=0.037329]\u001b[0m\n"
     ]
    },
    {
     "name": "stdout",
     "output_type": "stream",
     "text": [
      "\t Loss: 112.316,\tTrain : 98.98%(98.98%),\tTest : 97.40%(97.79%),\tCurrent Time: 20250721-195623\n"
     ]
    },
    {
     "name": "stderr",
     "output_type": "stream",
     "text": [
      "Epoch 44/100: 100%|\u001b[34m█████████████████\u001b[0m| 3000/3000 [00:36<00:00, 81.61batch/s, loss=0.035806]\u001b[0m\n"
     ]
    },
    {
     "name": "stdout",
     "output_type": "stream",
     "text": [
      "\t Loss: 108.820,\tTrain : 99.01%(99.01%),\tTest : 97.47%(97.79%),\tCurrent Time: 20250721-195700\n"
     ]
    },
    {
     "name": "stderr",
     "output_type": "stream",
     "text": [
      "Epoch 45/100: 100%|\u001b[34m█████████████████\u001b[0m| 3000/3000 [00:36<00:00, 81.56batch/s, loss=0.034654]\u001b[0m\n"
     ]
    },
    {
     "name": "stdout",
     "output_type": "stream",
     "text": [
      "\t Loss: 104.951,\tTrain : 99.07%(99.07%),\tTest : 97.65%(97.79%),\tCurrent Time: 20250721-195738\n"
     ]
    },
    {
     "name": "stderr",
     "output_type": "stream",
     "text": [
      "Epoch 46/100: 100%|\u001b[34m█████████████████\u001b[0m| 3000/3000 [00:37<00:00, 80.31batch/s, loss=0.033300]\u001b[0m\n"
     ]
    },
    {
     "name": "stdout",
     "output_type": "stream",
     "text": [
      "\t Loss: 99.780,\tTrain : 99.14%(99.14%),\tTest : 97.57%(97.79%),\tCurrent Time: 20250721-195816\n"
     ]
    },
    {
     "name": "stderr",
     "output_type": "stream",
     "text": [
      "Epoch 47/100: 100%|\u001b[34m█████████████████\u001b[0m| 3000/3000 [00:36<00:00, 81.92batch/s, loss=0.032695]\u001b[0m\n"
     ]
    },
    {
     "name": "stdout",
     "output_type": "stream",
     "text": [
      "\t Loss: 97.681,\tTrain : 99.17%(99.17%),\tTest : 97.86%(97.86%),\tCurrent Time: 20250721-195853\n"
     ]
    },
    {
     "name": "stderr",
     "output_type": "stream",
     "text": [
      "Epoch 48/100: 100%|\u001b[34m█████████████████\u001b[0m| 3000/3000 [00:37<00:00, 80.48batch/s, loss=0.031384]\u001b[0m\n"
     ]
    },
    {
     "name": "stdout",
     "output_type": "stream",
     "text": [
      "\t Loss: 93.749,\tTrain : 99.20%(99.20%),\tTest : 97.74%(97.86%),\tCurrent Time: 20250721-195931\n"
     ]
    },
    {
     "name": "stderr",
     "output_type": "stream",
     "text": [
      "Epoch 49/100: 100%|\u001b[34m█████████████████\u001b[0m| 3000/3000 [00:37<00:00, 80.37batch/s, loss=0.030149]\u001b[0m\n"
     ]
    },
    {
     "name": "stdout",
     "output_type": "stream",
     "text": [
      "\t Loss: 89.732,\tTrain : 99.24%(99.24%),\tTest : 97.85%(97.86%),\tCurrent Time: 20250721-200009\n"
     ]
    },
    {
     "name": "stderr",
     "output_type": "stream",
     "text": [
      "Epoch 50/100: 100%|\u001b[34m█████████████████\u001b[0m| 3000/3000 [00:38<00:00, 78.68batch/s, loss=0.028838]\u001b[0m\n"
     ]
    },
    {
     "name": "stdout",
     "output_type": "stream",
     "text": [
      "\t Loss: 86.356,\tTrain : 99.31%(99.31%),\tTest : 97.79%(97.86%),\tCurrent Time: 20250721-200048\n"
     ]
    },
    {
     "name": "stderr",
     "output_type": "stream",
     "text": [
      "Epoch 51/100: 100%|\u001b[34m█████████████████\u001b[0m| 3000/3000 [00:37<00:00, 80.97batch/s, loss=0.027599]\u001b[0m\n"
     ]
    },
    {
     "name": "stdout",
     "output_type": "stream",
     "text": [
      "\t Loss: 82.893,\tTrain : 99.31%(99.31%),\tTest : 97.73%(97.86%),\tCurrent Time: 20250721-200126\n"
     ]
    },
    {
     "name": "stderr",
     "output_type": "stream",
     "text": [
      "Epoch 52/100: 100%|\u001b[34m█████████████████\u001b[0m| 3000/3000 [00:37<00:00, 80.04batch/s, loss=0.027122]\u001b[0m\n"
     ]
    },
    {
     "name": "stdout",
     "output_type": "stream",
     "text": [
      "\t Loss: 80.957,\tTrain : 99.34%(99.34%),\tTest : 97.89%(97.89%),\tCurrent Time: 20250721-200204\n"
     ]
    },
    {
     "name": "stderr",
     "output_type": "stream",
     "text": [
      "Epoch 53/100: 100%|\u001b[34m█████████████████\u001b[0m| 3000/3000 [00:37<00:00, 80.03batch/s, loss=0.025930]\u001b[0m\n"
     ]
    },
    {
     "name": "stdout",
     "output_type": "stream",
     "text": [
      "\t Loss: 78.335,\tTrain : 99.39%(99.39%),\tTest : 97.88%(97.89%),\tCurrent Time: 20250721-200242\n"
     ]
    },
    {
     "name": "stderr",
     "output_type": "stream",
     "text": [
      "Epoch 54/100: 100%|\u001b[34m█████████████████\u001b[0m| 3000/3000 [00:38<00:00, 77.95batch/s, loss=0.024879]\u001b[0m\n"
     ]
    },
    {
     "name": "stdout",
     "output_type": "stream",
     "text": [
      "\t Loss: 74.703,\tTrain : 99.40%(99.40%),\tTest : 97.81%(97.89%),\tCurrent Time: 20250721-200321\n"
     ]
    },
    {
     "name": "stderr",
     "output_type": "stream",
     "text": [
      "Epoch 55/100: 100%|\u001b[34m█████████████████\u001b[0m| 3000/3000 [00:38<00:00, 77.18batch/s, loss=0.023924]\u001b[0m\n"
     ]
    },
    {
     "name": "stdout",
     "output_type": "stream",
     "text": [
      "\t Loss: 71.841,\tTrain : 99.46%(99.46%),\tTest : 97.74%(97.89%),\tCurrent Time: 20250721-200400\n"
     ]
    },
    {
     "name": "stderr",
     "output_type": "stream",
     "text": [
      "Epoch 56/100: 100%|\u001b[34m█████████████████\u001b[0m| 3000/3000 [00:38<00:00, 77.02batch/s, loss=0.023091]\u001b[0m\n"
     ]
    },
    {
     "name": "stdout",
     "output_type": "stream",
     "text": [
      "\t Loss: 69.522,\tTrain : 99.48%(99.48%),\tTest : 97.84%(97.89%),\tCurrent Time: 20250721-200440\n"
     ]
    },
    {
     "name": "stderr",
     "output_type": "stream",
     "text": [
      "Epoch 57/100: 100%|\u001b[34m█████████████████\u001b[0m| 3000/3000 [00:37<00:00, 79.03batch/s, loss=0.022269]\u001b[0m\n"
     ]
    },
    {
     "name": "stdout",
     "output_type": "stream",
     "text": [
      "\t Loss: 67.053,\tTrain : 99.50%(99.50%),\tTest : 97.91%(97.91%),\tCurrent Time: 20250721-200519\n"
     ]
    },
    {
     "name": "stderr",
     "output_type": "stream",
     "text": [
      "Epoch 58/100: 100%|\u001b[34m█████████████████\u001b[0m| 3000/3000 [00:36<00:00, 81.36batch/s, loss=0.021184]\u001b[0m\n"
     ]
    },
    {
     "name": "stdout",
     "output_type": "stream",
     "text": [
      "\t Loss: 64.249,\tTrain : 99.55%(99.55%),\tTest : 97.91%(97.91%),\tCurrent Time: 20250721-200556\n"
     ]
    },
    {
     "name": "stderr",
     "output_type": "stream",
     "text": [
      "Epoch 59/100: 100%|\u001b[34m█████████████████\u001b[0m| 3000/3000 [00:38<00:00, 77.73batch/s, loss=0.020541]\u001b[0m\n"
     ]
    },
    {
     "name": "stdout",
     "output_type": "stream",
     "text": [
      "\t Loss: 62.292,\tTrain : 99.57%(99.57%),\tTest : 97.77%(97.91%),\tCurrent Time: 20250721-200635\n"
     ]
    },
    {
     "name": "stderr",
     "output_type": "stream",
     "text": [
      "Epoch 60/100: 100%|\u001b[34m█████████████████\u001b[0m| 3000/3000 [00:37<00:00, 80.28batch/s, loss=0.019954]\u001b[0m\n"
     ]
    },
    {
     "name": "stdout",
     "output_type": "stream",
     "text": [
      "\t Loss: 59.888,\tTrain : 99.58%(99.58%),\tTest : 97.76%(97.91%),\tCurrent Time: 20250721-200713\n"
     ]
    },
    {
     "name": "stderr",
     "output_type": "stream",
     "text": [
      "Epoch 61/100: 100%|\u001b[34m█████████████████\u001b[0m| 3000/3000 [00:39<00:00, 76.49batch/s, loss=0.019261]\u001b[0m\n"
     ]
    },
    {
     "name": "stdout",
     "output_type": "stream",
     "text": [
      "\t Loss: 58.238,\tTrain : 99.61%(99.61%),\tTest : 97.86%(97.91%),\tCurrent Time: 20250721-200753\n"
     ]
    },
    {
     "name": "stderr",
     "output_type": "stream",
     "text": [
      "Epoch 62/100: 100%|\u001b[34m█████████████████\u001b[0m| 3000/3000 [00:38<00:00, 78.45batch/s, loss=0.018718]\u001b[0m\n"
     ]
    },
    {
     "name": "stdout",
     "output_type": "stream",
     "text": [
      "\t Loss: 55.715,\tTrain : 99.64%(99.64%),\tTest : 97.82%(97.91%),\tCurrent Time: 20250721-200832\n"
     ]
    },
    {
     "name": "stderr",
     "output_type": "stream",
     "text": [
      "Epoch 63/100: 100%|\u001b[34m█████████████████\u001b[0m| 3000/3000 [00:38<00:00, 78.17batch/s, loss=0.017887]\u001b[0m\n"
     ]
    },
    {
     "name": "stdout",
     "output_type": "stream",
     "text": [
      "\t Loss: 53.801,\tTrain : 99.65%(99.65%),\tTest : 97.90%(97.91%),\tCurrent Time: 20250721-200911\n"
     ]
    },
    {
     "name": "stderr",
     "output_type": "stream",
     "text": [
      "Epoch 64/100: 100%|\u001b[34m█████████████████\u001b[0m| 3000/3000 [00:37<00:00, 80.62batch/s, loss=0.017410]\u001b[0m\n"
     ]
    },
    {
     "name": "stdout",
     "output_type": "stream",
     "text": [
      "\t Loss: 52.175,\tTrain : 99.68%(99.68%),\tTest : 97.84%(97.91%),\tCurrent Time: 20250721-200949\n"
     ]
    },
    {
     "name": "stderr",
     "output_type": "stream",
     "text": [
      "Epoch 65/100: 100%|\u001b[34m█████████████████\u001b[0m| 3000/3000 [00:37<00:00, 80.30batch/s, loss=0.017056]\u001b[0m\n"
     ]
    },
    {
     "name": "stdout",
     "output_type": "stream",
     "text": [
      "\t Loss: 51.004,\tTrain : 99.68%(99.68%),\tTest : 97.83%(97.91%),\tCurrent Time: 20250721-201027\n"
     ]
    },
    {
     "name": "stderr",
     "output_type": "stream",
     "text": [
      "Epoch 66/100: 100%|\u001b[34m█████████████████\u001b[0m| 3000/3000 [00:37<00:00, 78.98batch/s, loss=0.016163]\u001b[0m\n"
     ]
    },
    {
     "name": "stdout",
     "output_type": "stream",
     "text": [
      "\t Loss: 48.269,\tTrain : 99.73%(99.73%),\tTest : 97.88%(97.91%),\tCurrent Time: 20250721-201105\n"
     ]
    },
    {
     "name": "stderr",
     "output_type": "stream",
     "text": [
      "Epoch 67/100: 100%|\u001b[34m█████████████████\u001b[0m| 3000/3000 [00:38<00:00, 77.90batch/s, loss=0.015704]\u001b[0m\n"
     ]
    },
    {
     "name": "stdout",
     "output_type": "stream",
     "text": [
      "\t Loss: 47.129,\tTrain : 99.70%(99.73%),\tTest : 97.98%(97.98%),\tCurrent Time: 20250721-201145\n"
     ]
    },
    {
     "name": "stderr",
     "output_type": "stream",
     "text": [
      "Epoch 68/100: 100%|\u001b[34m█████████████████\u001b[0m| 3000/3000 [00:37<00:00, 80.48batch/s, loss=0.015207]\u001b[0m\n"
     ]
    },
    {
     "name": "stdout",
     "output_type": "stream",
     "text": [
      "\t Loss: 45.486,\tTrain : 99.77%(99.77%),\tTest : 97.88%(97.98%),\tCurrent Time: 20250721-201222\n"
     ]
    },
    {
     "name": "stderr",
     "output_type": "stream",
     "text": [
      "Epoch 69/100: 100%|\u001b[34m█████████████████\u001b[0m| 3000/3000 [00:37<00:00, 79.45batch/s, loss=0.014644]\u001b[0m\n"
     ]
    },
    {
     "name": "stdout",
     "output_type": "stream",
     "text": [
      "\t Loss: 43.898,\tTrain : 99.77%(99.77%),\tTest : 98.04%(98.04%),\tCurrent Time: 20250721-201301\n"
     ]
    },
    {
     "name": "stderr",
     "output_type": "stream",
     "text": [
      "Epoch 70/100: 100%|\u001b[34m█████████████████\u001b[0m| 3000/3000 [00:36<00:00, 82.47batch/s, loss=0.013999]\u001b[0m\n"
     ]
    },
    {
     "name": "stdout",
     "output_type": "stream",
     "text": [
      "\t Loss: 41.701,\tTrain : 99.79%(99.79%),\tTest : 97.95%(98.04%),\tCurrent Time: 20250721-201338\n"
     ]
    },
    {
     "name": "stderr",
     "output_type": "stream",
     "text": [
      "Epoch 71/100: 100%|\u001b[34m█████████████████\u001b[0m| 3000/3000 [00:37<00:00, 79.44batch/s, loss=0.013202]\u001b[0m\n"
     ]
    },
    {
     "name": "stdout",
     "output_type": "stream",
     "text": [
      "\t Loss: 39.807,\tTrain : 99.80%(99.80%),\tTest : 97.86%(98.04%),\tCurrent Time: 20250721-201416\n"
     ]
    },
    {
     "name": "stderr",
     "output_type": "stream",
     "text": [
      "Epoch 72/100: 100%|\u001b[34m█████████████████\u001b[0m| 3000/3000 [00:36<00:00, 81.31batch/s, loss=0.013302]\u001b[0m\n"
     ]
    },
    {
     "name": "stdout",
     "output_type": "stream",
     "text": [
      "\t Loss: 39.433,\tTrain : 99.82%(99.82%),\tTest : 97.90%(98.04%),\tCurrent Time: 20250721-201454\n"
     ]
    },
    {
     "name": "stderr",
     "output_type": "stream",
     "text": [
      "Epoch 73/100: 100%|\u001b[34m█████████████████\u001b[0m| 3000/3000 [00:37<00:00, 80.19batch/s, loss=0.012555]\u001b[0m\n"
     ]
    },
    {
     "name": "stdout",
     "output_type": "stream",
     "text": [
      "\t Loss: 37.640,\tTrain : 99.80%(99.82%),\tTest : 97.95%(98.04%),\tCurrent Time: 20250721-201532\n"
     ]
    },
    {
     "name": "stderr",
     "output_type": "stream",
     "text": [
      "Epoch 74/100: 100%|\u001b[34m█████████████████\u001b[0m| 3000/3000 [00:37<00:00, 80.47batch/s, loss=0.011776]\u001b[0m\n"
     ]
    },
    {
     "name": "stdout",
     "output_type": "stream",
     "text": [
      "\t Loss: 35.878,\tTrain : 99.86%(99.86%),\tTest : 97.93%(98.04%),\tCurrent Time: 20250721-201610\n"
     ]
    },
    {
     "name": "stderr",
     "output_type": "stream",
     "text": [
      "Epoch 75/100: 100%|\u001b[34m█████████████████\u001b[0m| 3000/3000 [00:35<00:00, 83.73batch/s, loss=0.011639]\u001b[0m\n"
     ]
    },
    {
     "name": "stdout",
     "output_type": "stream",
     "text": [
      "\t Loss: 34.990,\tTrain : 99.84%(99.86%),\tTest : 97.99%(98.04%),\tCurrent Time: 20250721-201646\n"
     ]
    },
    {
     "name": "stderr",
     "output_type": "stream",
     "text": [
      "Epoch 76/100: 100%|\u001b[34m█████████████████\u001b[0m| 3000/3000 [00:36<00:00, 81.77batch/s, loss=0.011316]\u001b[0m\n"
     ]
    },
    {
     "name": "stdout",
     "output_type": "stream",
     "text": [
      "\t Loss: 33.822,\tTrain : 99.85%(99.86%),\tTest : 97.85%(98.04%),\tCurrent Time: 20250721-201723\n"
     ]
    },
    {
     "name": "stderr",
     "output_type": "stream",
     "text": [
      "Epoch 77/100: 100%|\u001b[34m█████████████████\u001b[0m| 3000/3000 [00:36<00:00, 82.87batch/s, loss=0.010921]\u001b[0m\n"
     ]
    },
    {
     "name": "stdout",
     "output_type": "stream",
     "text": [
      "\t Loss: 33.118,\tTrain : 99.85%(99.86%),\tTest : 97.88%(98.04%),\tCurrent Time: 20250721-201800\n"
     ]
    },
    {
     "name": "stderr",
     "output_type": "stream",
     "text": [
      "Epoch 78/100: 100%|\u001b[34m█████████████████\u001b[0m| 3000/3000 [00:35<00:00, 84.43batch/s, loss=0.010440]\u001b[0m\n"
     ]
    },
    {
     "name": "stdout",
     "output_type": "stream",
     "text": [
      "\t Loss: 31.410,\tTrain : 99.87%(99.87%),\tTest : 97.84%(98.04%),\tCurrent Time: 20250721-201836\n"
     ]
    },
    {
     "name": "stderr",
     "output_type": "stream",
     "text": [
      "Epoch 79/100: 100%|\u001b[34m█████████████████\u001b[0m| 3000/3000 [00:35<00:00, 83.45batch/s, loss=0.010363]\u001b[0m\n"
     ]
    },
    {
     "name": "stdout",
     "output_type": "stream",
     "text": [
      "\t Loss: 30.974,\tTrain : 99.88%(99.88%),\tTest : 97.90%(98.04%),\tCurrent Time: 20250721-201913\n"
     ]
    },
    {
     "name": "stderr",
     "output_type": "stream",
     "text": [
      "Epoch 80/100: 100%|\u001b[34m█████████████████\u001b[0m| 3000/3000 [00:36<00:00, 81.87batch/s, loss=0.009805]\u001b[0m\n"
     ]
    },
    {
     "name": "stdout",
     "output_type": "stream",
     "text": [
      "\t Loss: 29.542,\tTrain : 99.88%(99.88%),\tTest : 97.89%(98.04%),\tCurrent Time: 20250721-201950\n"
     ]
    },
    {
     "name": "stderr",
     "output_type": "stream",
     "text": [
      "Epoch 81/100: 100%|\u001b[34m█████████████████\u001b[0m| 3000/3000 [00:37<00:00, 79.40batch/s, loss=0.009352]\u001b[0m\n"
     ]
    },
    {
     "name": "stdout",
     "output_type": "stream",
     "text": [
      "\t Loss: 28.444,\tTrain : 99.89%(99.89%),\tTest : 97.78%(98.04%),\tCurrent Time: 20250721-202029\n"
     ]
    },
    {
     "name": "stderr",
     "output_type": "stream",
     "text": [
      "Epoch 82/100: 100%|\u001b[34m█████████████████\u001b[0m| 3000/3000 [00:36<00:00, 81.63batch/s, loss=0.009238]\u001b[0m\n"
     ]
    },
    {
     "name": "stdout",
     "output_type": "stream",
     "text": [
      "\t Loss: 27.716,\tTrain : 99.89%(99.89%),\tTest : 97.91%(98.04%),\tCurrent Time: 20250721-202106\n"
     ]
    },
    {
     "name": "stderr",
     "output_type": "stream",
     "text": [
      "Epoch 83/100: 100%|\u001b[34m█████████████████\u001b[0m| 3000/3000 [00:36<00:00, 83.20batch/s, loss=0.009002]\u001b[0m\n"
     ]
    },
    {
     "name": "stdout",
     "output_type": "stream",
     "text": [
      "\t Loss: 26.911,\tTrain : 99.89%(99.89%),\tTest : 97.85%(98.04%),\tCurrent Time: 20250721-202143\n"
     ]
    },
    {
     "name": "stderr",
     "output_type": "stream",
     "text": [
      "Epoch 84/100: 100%|\u001b[34m█████████████████\u001b[0m| 3000/3000 [00:35<00:00, 84.80batch/s, loss=0.008560]\u001b[0m\n"
     ]
    },
    {
     "name": "stdout",
     "output_type": "stream",
     "text": [
      "\t Loss: 25.873,\tTrain : 99.90%(99.90%),\tTest : 97.81%(98.04%),\tCurrent Time: 20250721-202219\n"
     ]
    },
    {
     "name": "stderr",
     "output_type": "stream",
     "text": [
      "Epoch 85/100: 100%|\u001b[34m█████████████████\u001b[0m| 3000/3000 [00:34<00:00, 86.76batch/s, loss=0.008256]\u001b[0m\n"
     ]
    },
    {
     "name": "stdout",
     "output_type": "stream",
     "text": [
      "\t Loss: 24.645,\tTrain : 99.91%(99.91%),\tTest : 97.88%(98.04%),\tCurrent Time: 20250721-202254\n"
     ]
    },
    {
     "name": "stderr",
     "output_type": "stream",
     "text": [
      "Epoch 86/100: 100%|\u001b[34m█████████████████\u001b[0m| 3000/3000 [00:36<00:00, 82.32batch/s, loss=0.008006]\u001b[0m\n"
     ]
    },
    {
     "name": "stdout",
     "output_type": "stream",
     "text": [
      "\t Loss: 24.391,\tTrain : 99.92%(99.92%),\tTest : 97.81%(98.04%),\tCurrent Time: 20250721-202331\n"
     ]
    },
    {
     "name": "stderr",
     "output_type": "stream",
     "text": [
      "Epoch 87/100: 100%|\u001b[34m█████████████████\u001b[0m| 3000/3000 [00:37<00:00, 80.99batch/s, loss=0.007848]\u001b[0m\n"
     ]
    },
    {
     "name": "stdout",
     "output_type": "stream",
     "text": [
      "\t Loss: 23.476,\tTrain : 99.94%(99.94%),\tTest : 97.97%(98.04%),\tCurrent Time: 20250721-202408\n"
     ]
    },
    {
     "name": "stderr",
     "output_type": "stream",
     "text": [
      "Epoch 88/100: 100%|\u001b[34m█████████████████\u001b[0m| 3000/3000 [00:37<00:00, 80.96batch/s, loss=0.007685]\u001b[0m\n"
     ]
    },
    {
     "name": "stdout",
     "output_type": "stream",
     "text": [
      "\t Loss: 22.957,\tTrain : 99.94%(99.94%),\tTest : 97.92%(98.04%),\tCurrent Time: 20250721-202446\n"
     ]
    },
    {
     "name": "stderr",
     "output_type": "stream",
     "text": [
      "Epoch 89/100: 100%|\u001b[34m█████████████████\u001b[0m| 3000/3000 [00:36<00:00, 81.77batch/s, loss=0.007401]\u001b[0m\n"
     ]
    },
    {
     "name": "stdout",
     "output_type": "stream",
     "text": [
      "\t Loss: 22.064,\tTrain : 99.94%(99.94%),\tTest : 97.91%(98.04%),\tCurrent Time: 20250721-202523\n"
     ]
    },
    {
     "name": "stderr",
     "output_type": "stream",
     "text": [
      "Epoch 90/100: 100%|\u001b[34m█████████████████\u001b[0m| 3000/3000 [00:36<00:00, 81.79batch/s, loss=0.007018]\u001b[0m\n"
     ]
    },
    {
     "name": "stdout",
     "output_type": "stream",
     "text": [
      "\t Loss: 21.316,\tTrain : 99.93%(99.94%),\tTest : 97.99%(98.04%),\tCurrent Time: 20250721-202601\n"
     ]
    },
    {
     "name": "stderr",
     "output_type": "stream",
     "text": [
      "Epoch 91/100: 100%|\u001b[34m█████████████████\u001b[0m| 3000/3000 [00:37<00:00, 80.49batch/s, loss=0.006866]\u001b[0m\n"
     ]
    },
    {
     "name": "stdout",
     "output_type": "stream",
     "text": [
      "\t Loss: 20.696,\tTrain : 99.95%(99.95%),\tTest : 97.98%(98.04%),\tCurrent Time: 20250721-202639\n"
     ]
    },
    {
     "name": "stderr",
     "output_type": "stream",
     "text": [
      "Epoch 92/100: 100%|\u001b[34m█████████████████\u001b[0m| 3000/3000 [00:36<00:00, 82.22batch/s, loss=0.006690]\u001b[0m\n"
     ]
    },
    {
     "name": "stdout",
     "output_type": "stream",
     "text": [
      "\t Loss: 20.283,\tTrain : 99.94%(99.95%),\tTest : 97.96%(98.04%),\tCurrent Time: 20250721-202716\n"
     ]
    },
    {
     "name": "stderr",
     "output_type": "stream",
     "text": [
      "Epoch 93/100: 100%|\u001b[34m█████████████████\u001b[0m| 3000/3000 [00:36<00:00, 83.22batch/s, loss=0.006413]\u001b[0m\n"
     ]
    },
    {
     "name": "stdout",
     "output_type": "stream",
     "text": [
      "\t Loss: 19.306,\tTrain : 99.96%(99.96%),\tTest : 97.99%(98.04%),\tCurrent Time: 20250721-202752\n"
     ]
    },
    {
     "name": "stderr",
     "output_type": "stream",
     "text": [
      "Epoch 94/100: 100%|\u001b[34m█████████████████\u001b[0m| 3000/3000 [00:35<00:00, 84.43batch/s, loss=0.006300]\u001b[0m\n"
     ]
    },
    {
     "name": "stdout",
     "output_type": "stream",
     "text": [
      "\t Loss: 18.826,\tTrain : 99.96%(99.96%),\tTest : 97.94%(98.04%),\tCurrent Time: 20250721-202829\n"
     ]
    },
    {
     "name": "stderr",
     "output_type": "stream",
     "text": [
      "Epoch 95/100: 100%|\u001b[34m█████████████████\u001b[0m| 3000/3000 [00:36<00:00, 82.52batch/s, loss=0.006093]\u001b[0m\n"
     ]
    },
    {
     "name": "stdout",
     "output_type": "stream",
     "text": [
      "\t Loss: 18.317,\tTrain : 99.95%(99.96%),\tTest : 97.97%(98.04%),\tCurrent Time: 20250721-202906\n"
     ]
    },
    {
     "name": "stderr",
     "output_type": "stream",
     "text": [
      "Epoch 96/100: 100%|\u001b[34m█████████████████\u001b[0m| 3000/3000 [00:36<00:00, 82.95batch/s, loss=0.005846]\u001b[0m\n"
     ]
    },
    {
     "name": "stdout",
     "output_type": "stream",
     "text": [
      "\t Loss: 17.758,\tTrain : 99.96%(99.96%),\tTest : 97.89%(98.04%),\tCurrent Time: 20250721-202942\n"
     ]
    },
    {
     "name": "stderr",
     "output_type": "stream",
     "text": [
      "Epoch 97/100: 100%|\u001b[34m█████████████████\u001b[0m| 3000/3000 [00:37<00:00, 80.07batch/s, loss=0.005736]\u001b[0m\n"
     ]
    },
    {
     "name": "stdout",
     "output_type": "stream",
     "text": [
      "\t Loss: 17.390,\tTrain : 99.96%(99.96%),\tTest : 97.95%(98.04%),\tCurrent Time: 20250721-203020\n"
     ]
    },
    {
     "name": "stderr",
     "output_type": "stream",
     "text": [
      "Epoch 98/100: 100%|\u001b[34m█████████████████\u001b[0m| 3000/3000 [00:35<00:00, 83.59batch/s, loss=0.005485]\u001b[0m\n"
     ]
    },
    {
     "name": "stdout",
     "output_type": "stream",
     "text": [
      "\t Loss: 16.883,\tTrain : 99.97%(99.97%),\tTest : 97.91%(98.04%),\tCurrent Time: 20250721-203057\n"
     ]
    },
    {
     "name": "stderr",
     "output_type": "stream",
     "text": [
      "Epoch 99/100: 100%|\u001b[34m█████████████████\u001b[0m| 3000/3000 [00:34<00:00, 86.45batch/s, loss=0.005419]\u001b[0m\n"
     ]
    },
    {
     "name": "stdout",
     "output_type": "stream",
     "text": [
      "\t Loss: 16.328,\tTrain : 99.97%(99.97%),\tTest : 97.80%(98.04%),\tCurrent Time: 20250721-203132\n"
     ]
    },
    {
     "name": "stderr",
     "output_type": "stream",
     "text": [
      "Epoch 100/100: 100%|\u001b[34m████████████████\u001b[0m| 3000/3000 [00:37<00:00, 80.09batch/s, loss=0.005309]\u001b[0m\n"
     ]
    },
    {
     "name": "stdout",
     "output_type": "stream",
     "text": [
      "\t Loss: 15.882,\tTrain : 99.97%(99.97%),\tTest : 97.93%(98.04%),\tCurrent Time: 20250721-203210\n",
      "EP_L3_MNIST_First_symm_LN_t2sta2_bs20_lrsame-EP_b_sc0.01-EP_It2sta18- Time: 20250721-203210, Epochs: 100, Learning Rate: 0.001, Best: 99.97%  98.04%\n",
      "\n",
      "EP_L3_MNIST_First_symm_LN_t2sta2_bs20_lrsame-EP_b_sc0.01-EP_It2sta18-\n"
     ]
    },
    {
     "name": "stderr",
     "output_type": "stream",
     "text": [
      "Epoch 1/100: 100%|\u001b[34m██████████████████\u001b[0m| 3000/3000 [00:37<00:00, 80.41batch/s, loss=0.435105]\u001b[0m\n"
     ]
    },
    {
     "name": "stdout",
     "output_type": "stream",
     "text": [
      "\t Loss: 1297.318,\tTrain : 87.72%(87.72%),\tTest : 91.03%(91.03%),\tCurrent Time: 20250721-203248\n"
     ]
    },
    {
     "name": "stderr",
     "output_type": "stream",
     "text": [
      "Epoch 2/100: 100%|\u001b[34m██████████████████\u001b[0m| 3000/3000 [00:36<00:00, 82.73batch/s, loss=0.319792]\u001b[0m\n"
     ]
    },
    {
     "name": "stdout",
     "output_type": "stream",
     "text": [
      "\t Loss: 960.889,\tTrain : 90.88%(90.88%),\tTest : 91.64%(91.64%),\tCurrent Time: 20250721-203325\n"
     ]
    },
    {
     "name": "stderr",
     "output_type": "stream",
     "text": [
      "Epoch 3/100: 100%|\u001b[34m██████████████████\u001b[0m| 3000/3000 [00:37<00:00, 80.86batch/s, loss=0.298111]\u001b[0m\n"
     ]
    },
    {
     "name": "stdout",
     "output_type": "stream",
     "text": [
      "\t Loss: 890.149,\tTrain : 91.57%(91.57%),\tTest : 91.74%(91.74%),\tCurrent Time: 20250721-203403\n"
     ]
    },
    {
     "name": "stderr",
     "output_type": "stream",
     "text": [
      "Epoch 4/100: 100%|\u001b[34m██████████████████\u001b[0m| 3000/3000 [00:36<00:00, 81.23batch/s, loss=0.279781]\u001b[0m\n"
     ]
    },
    {
     "name": "stdout",
     "output_type": "stream",
     "text": [
      "\t Loss: 837.406,\tTrain : 92.09%(92.09%),\tTest : 92.23%(92.23%),\tCurrent Time: 20250721-203440\n"
     ]
    },
    {
     "name": "stderr",
     "output_type": "stream",
     "text": [
      "Epoch 5/100: 100%|\u001b[34m██████████████████\u001b[0m| 3000/3000 [00:36<00:00, 83.12batch/s, loss=0.261448]\u001b[0m\n"
     ]
    },
    {
     "name": "stdout",
     "output_type": "stream",
     "text": [
      "\t Loss: 785.376,\tTrain : 92.62%(92.62%),\tTest : 93.09%(93.09%),\tCurrent Time: 20250721-203517\n"
     ]
    },
    {
     "name": "stderr",
     "output_type": "stream",
     "text": [
      "Epoch 6/100: 100%|\u001b[34m██████████████████\u001b[0m| 3000/3000 [00:35<00:00, 83.43batch/s, loss=0.242397]\u001b[0m\n"
     ]
    },
    {
     "name": "stdout",
     "output_type": "stream",
     "text": [
      "\t Loss: 728.386,\tTrain : 93.13%(93.13%),\tTest : 93.15%(93.15%),\tCurrent Time: 20250721-203554\n"
     ]
    },
    {
     "name": "stderr",
     "output_type": "stream",
     "text": [
      "Epoch 7/100: 100%|\u001b[34m██████████████████\u001b[0m| 3000/3000 [00:37<00:00, 80.72batch/s, loss=0.224297]\u001b[0m\n"
     ]
    },
    {
     "name": "stdout",
     "output_type": "stream",
     "text": [
      "\t Loss: 672.497,\tTrain : 93.64%(93.64%),\tTest : 93.81%(93.81%),\tCurrent Time: 20250721-203631\n"
     ]
    },
    {
     "name": "stderr",
     "output_type": "stream",
     "text": [
      "Epoch 8/100: 100%|\u001b[34m██████████████████\u001b[0m| 3000/3000 [00:37<00:00, 80.67batch/s, loss=0.207041]\u001b[0m\n"
     ]
    },
    {
     "name": "stdout",
     "output_type": "stream",
     "text": [
      "\t Loss: 621.431,\tTrain : 94.10%(94.10%),\tTest : 94.20%(94.20%),\tCurrent Time: 20250721-203709\n"
     ]
    },
    {
     "name": "stderr",
     "output_type": "stream",
     "text": [
      "Epoch 9/100: 100%|\u001b[34m██████████████████\u001b[0m| 3000/3000 [00:37<00:00, 79.93batch/s, loss=0.190202]\u001b[0m\n"
     ]
    },
    {
     "name": "stdout",
     "output_type": "stream",
     "text": [
      "\t Loss: 572.211,\tTrain : 94.55%(94.55%),\tTest : 94.48%(94.48%),\tCurrent Time: 20250721-203747\n"
     ]
    },
    {
     "name": "stderr",
     "output_type": "stream",
     "text": [
      "Epoch 10/100: 100%|\u001b[34m█████████████████\u001b[0m| 3000/3000 [00:36<00:00, 83.02batch/s, loss=0.176403]\u001b[0m\n"
     ]
    },
    {
     "name": "stdout",
     "output_type": "stream",
     "text": [
      "\t Loss: 528.273,\tTrain : 94.96%(94.96%),\tTest : 94.86%(94.86%),\tCurrent Time: 20250721-203824\n"
     ]
    },
    {
     "name": "stderr",
     "output_type": "stream",
     "text": [
      "Epoch 11/100: 100%|\u001b[34m█████████████████\u001b[0m| 3000/3000 [00:37<00:00, 80.52batch/s, loss=0.163959]\u001b[0m\n"
     ]
    },
    {
     "name": "stdout",
     "output_type": "stream",
     "text": [
      "\t Loss: 490.954,\tTrain : 95.25%(95.25%),\tTest : 95.16%(95.16%),\tCurrent Time: 20250721-203902\n"
     ]
    },
    {
     "name": "stderr",
     "output_type": "stream",
     "text": [
      "Epoch 12/100: 100%|\u001b[34m█████████████████\u001b[0m| 3000/3000 [00:38<00:00, 78.43batch/s, loss=0.152604]\u001b[0m\n"
     ]
    },
    {
     "name": "stdout",
     "output_type": "stream",
     "text": [
      "\t Loss: 456.856,\tTrain : 95.62%(95.62%),\tTest : 95.35%(95.35%),\tCurrent Time: 20250721-203941\n"
     ]
    },
    {
     "name": "stderr",
     "output_type": "stream",
     "text": [
      "Epoch 13/100: 100%|\u001b[34m█████████████████\u001b[0m| 3000/3000 [00:36<00:00, 82.97batch/s, loss=0.142594]\u001b[0m\n"
     ]
    },
    {
     "name": "stdout",
     "output_type": "stream",
     "text": [
      "\t Loss: 427.632,\tTrain : 95.92%(95.92%),\tTest : 95.55%(95.55%),\tCurrent Time: 20250721-204017\n"
     ]
    },
    {
     "name": "stderr",
     "output_type": "stream",
     "text": [
      "Epoch 14/100: 100%|\u001b[34m█████████████████\u001b[0m| 3000/3000 [00:35<00:00, 83.66batch/s, loss=0.132337]\u001b[0m\n"
     ]
    },
    {
     "name": "stdout",
     "output_type": "stream",
     "text": [
      "\t Loss: 397.642,\tTrain : 96.14%(96.14%),\tTest : 95.95%(95.95%),\tCurrent Time: 20250721-204054\n"
     ]
    },
    {
     "name": "stderr",
     "output_type": "stream",
     "text": [
      "Epoch 15/100: 100%|\u001b[34m█████████████████\u001b[0m| 3000/3000 [00:35<00:00, 84.61batch/s, loss=0.125132]\u001b[0m\n"
     ]
    },
    {
     "name": "stdout",
     "output_type": "stream",
     "text": [
      "\t Loss: 374.717,\tTrain : 96.37%(96.37%),\tTest : 95.94%(95.95%),\tCurrent Time: 20250721-204130\n"
     ]
    },
    {
     "name": "stderr",
     "output_type": "stream",
     "text": [
      "Epoch 16/100: 100%|\u001b[34m█████████████████\u001b[0m| 3000/3000 [00:35<00:00, 84.21batch/s, loss=0.117218]\u001b[0m\n"
     ]
    },
    {
     "name": "stdout",
     "output_type": "stream",
     "text": [
      "\t Loss: 351.540,\tTrain : 96.62%(96.62%),\tTest : 96.11%(96.11%),\tCurrent Time: 20250721-204206\n"
     ]
    },
    {
     "name": "stderr",
     "output_type": "stream",
     "text": [
      "Epoch 17/100: 100%|\u001b[34m█████████████████\u001b[0m| 3000/3000 [00:37<00:00, 79.62batch/s, loss=0.111513]\u001b[0m\n"
     ]
    },
    {
     "name": "stdout",
     "output_type": "stream",
     "text": [
      "\t Loss: 332.672,\tTrain : 96.76%(96.76%),\tTest : 96.32%(96.32%),\tCurrent Time: 20250721-204245\n"
     ]
    },
    {
     "name": "stderr",
     "output_type": "stream",
     "text": [
      "Epoch 18/100: 100%|\u001b[34m█████████████████\u001b[0m| 3000/3000 [00:37<00:00, 79.20batch/s, loss=0.104712]\u001b[0m\n"
     ]
    },
    {
     "name": "stdout",
     "output_type": "stream",
     "text": [
      "\t Loss: 314.089,\tTrain : 96.93%(96.93%),\tTest : 96.35%(96.35%),\tCurrent Time: 20250721-204323\n"
     ]
    },
    {
     "name": "stderr",
     "output_type": "stream",
     "text": [
      "Epoch 19/100: 100%|\u001b[34m█████████████████\u001b[0m| 3000/3000 [00:37<00:00, 80.41batch/s, loss=0.099697]\u001b[0m\n"
     ]
    },
    {
     "name": "stdout",
     "output_type": "stream",
     "text": [
      "\t Loss: 298.687,\tTrain : 97.11%(97.11%),\tTest : 96.58%(96.58%),\tCurrent Time: 20250721-204401\n"
     ]
    },
    {
     "name": "stderr",
     "output_type": "stream",
     "text": [
      "Epoch 20/100: 100%|\u001b[34m█████████████████\u001b[0m| 3000/3000 [00:37<00:00, 80.76batch/s, loss=0.094088]\u001b[0m\n"
     ]
    },
    {
     "name": "stdout",
     "output_type": "stream",
     "text": [
      "\t Loss: 282.891,\tTrain : 97.28%(97.28%),\tTest : 96.41%(96.58%),\tCurrent Time: 20250721-204439\n"
     ]
    },
    {
     "name": "stderr",
     "output_type": "stream",
     "text": [
      "Epoch 21/100: 100%|\u001b[34m█████████████████\u001b[0m| 3000/3000 [00:37<00:00, 80.74batch/s, loss=0.089350]\u001b[0m\n"
     ]
    },
    {
     "name": "stdout",
     "output_type": "stream",
     "text": [
      "\t Loss: 269.029,\tTrain : 97.35%(97.35%),\tTest : 96.58%(96.58%),\tCurrent Time: 20250721-204517\n"
     ]
    },
    {
     "name": "stderr",
     "output_type": "stream",
     "text": [
      "Epoch 22/100: 100%|\u001b[34m█████████████████\u001b[0m| 3000/3000 [00:36<00:00, 82.36batch/s, loss=0.085501]\u001b[0m\n"
     ]
    },
    {
     "name": "stdout",
     "output_type": "stream",
     "text": [
      "\t Loss: 256.927,\tTrain : 97.49%(97.49%),\tTest : 96.54%(96.58%),\tCurrent Time: 20250721-204554\n"
     ]
    },
    {
     "name": "stderr",
     "output_type": "stream",
     "text": [
      "Epoch 23/100: 100%|\u001b[34m█████████████████\u001b[0m| 3000/3000 [00:35<00:00, 84.18batch/s, loss=0.081314]\u001b[0m\n"
     ]
    },
    {
     "name": "stdout",
     "output_type": "stream",
     "text": [
      "\t Loss: 243.389,\tTrain : 97.67%(97.67%),\tTest : 96.78%(96.78%),\tCurrent Time: 20250721-204630\n"
     ]
    },
    {
     "name": "stderr",
     "output_type": "stream",
     "text": [
      "Epoch 24/100: 100%|\u001b[34m█████████████████\u001b[0m| 3000/3000 [00:36<00:00, 82.69batch/s, loss=0.077842]\u001b[0m\n"
     ]
    },
    {
     "name": "stdout",
     "output_type": "stream",
     "text": [
      "\t Loss: 234.933,\tTrain : 97.72%(97.72%),\tTest : 96.73%(96.78%),\tCurrent Time: 20250721-204707\n"
     ]
    },
    {
     "name": "stderr",
     "output_type": "stream",
     "text": [
      "Epoch 25/100: 100%|\u001b[34m█████████████████\u001b[0m| 3000/3000 [00:37<00:00, 80.27batch/s, loss=0.075110]\u001b[0m\n"
     ]
    },
    {
     "name": "stdout",
     "output_type": "stream",
     "text": [
      "\t Loss: 223.986,\tTrain : 97.83%(97.83%),\tTest : 96.99%(96.99%),\tCurrent Time: 20250721-204745\n"
     ]
    },
    {
     "name": "stderr",
     "output_type": "stream",
     "text": [
      "Epoch 26/100: 100%|\u001b[34m█████████████████\u001b[0m| 3000/3000 [00:37<00:00, 80.94batch/s, loss=0.071836]\u001b[0m\n"
     ]
    },
    {
     "name": "stdout",
     "output_type": "stream",
     "text": [
      "\t Loss: 215.034,\tTrain : 97.90%(97.90%),\tTest : 97.05%(97.05%),\tCurrent Time: 20250721-204822\n"
     ]
    },
    {
     "name": "stderr",
     "output_type": "stream",
     "text": [
      "Epoch 27/100: 100%|\u001b[34m█████████████████\u001b[0m| 3000/3000 [00:35<00:00, 85.27batch/s, loss=0.068429]\u001b[0m\n"
     ]
    },
    {
     "name": "stdout",
     "output_type": "stream",
     "text": [
      "\t Loss: 204.685,\tTrain : 98.04%(98.04%),\tTest : 97.17%(97.17%),\tCurrent Time: 20250721-204858\n"
     ]
    },
    {
     "name": "stderr",
     "output_type": "stream",
     "text": [
      "Epoch 28/100: 100%|\u001b[34m█████████████████\u001b[0m| 3000/3000 [00:35<00:00, 84.25batch/s, loss=0.065394]\u001b[0m\n"
     ]
    },
    {
     "name": "stdout",
     "output_type": "stream",
     "text": [
      "\t Loss: 196.033,\tTrain : 98.16%(98.16%),\tTest : 96.88%(97.17%),\tCurrent Time: 20250721-204934\n"
     ]
    },
    {
     "name": "stderr",
     "output_type": "stream",
     "text": [
      "Epoch 29/100: 100%|\u001b[34m█████████████████\u001b[0m| 3000/3000 [00:34<00:00, 86.41batch/s, loss=0.063266]\u001b[0m\n"
     ]
    },
    {
     "name": "stdout",
     "output_type": "stream",
     "text": [
      "\t Loss: 189.939,\tTrain : 98.21%(98.21%),\tTest : 97.01%(97.17%),\tCurrent Time: 20250721-205010\n"
     ]
    },
    {
     "name": "stderr",
     "output_type": "stream",
     "text": [
      "Epoch 30/100: 100%|\u001b[34m█████████████████\u001b[0m| 3000/3000 [00:34<00:00, 86.05batch/s, loss=0.059935]\u001b[0m\n"
     ]
    },
    {
     "name": "stdout",
     "output_type": "stream",
     "text": [
      "\t Loss: 180.679,\tTrain : 98.31%(98.31%),\tTest : 97.00%(97.17%),\tCurrent Time: 20250721-205045\n"
     ]
    },
    {
     "name": "stderr",
     "output_type": "stream",
     "text": [
      "Epoch 31/100: 100%|\u001b[34m█████████████████\u001b[0m| 3000/3000 [00:35<00:00, 83.44batch/s, loss=0.058640]\u001b[0m\n"
     ]
    },
    {
     "name": "stdout",
     "output_type": "stream",
     "text": [
      "\t Loss: 175.719,\tTrain : 98.34%(98.34%),\tTest : 97.09%(97.17%),\tCurrent Time: 20250721-205122\n"
     ]
    },
    {
     "name": "stderr",
     "output_type": "stream",
     "text": [
      "Epoch 32/100: 100%|\u001b[34m█████████████████\u001b[0m| 3000/3000 [00:37<00:00, 80.51batch/s, loss=0.055756]\u001b[0m\n"
     ]
    },
    {
     "name": "stdout",
     "output_type": "stream",
     "text": [
      "\t Loss: 168.146,\tTrain : 98.41%(98.41%),\tTest : 97.09%(97.17%),\tCurrent Time: 20250721-205200\n"
     ]
    },
    {
     "name": "stderr",
     "output_type": "stream",
     "text": [
      "Epoch 33/100: 100%|\u001b[34m█████████████████\u001b[0m| 3000/3000 [00:37<00:00, 79.84batch/s, loss=0.054060]\u001b[0m\n"
     ]
    },
    {
     "name": "stdout",
     "output_type": "stream",
     "text": [
      "\t Loss: 161.371,\tTrain : 98.44%(98.44%),\tTest : 97.15%(97.17%),\tCurrent Time: 20250721-205238\n"
     ]
    },
    {
     "name": "stderr",
     "output_type": "stream",
     "text": [
      "Epoch 34/100: 100%|\u001b[34m█████████████████\u001b[0m| 3000/3000 [00:36<00:00, 82.15batch/s, loss=0.051038]\u001b[0m\n"
     ]
    },
    {
     "name": "stdout",
     "output_type": "stream",
     "text": [
      "\t Loss: 154.065,\tTrain : 98.58%(98.58%),\tTest : 97.29%(97.29%),\tCurrent Time: 20250721-205315\n"
     ]
    },
    {
     "name": "stderr",
     "output_type": "stream",
     "text": [
      "Epoch 35/100: 100%|\u001b[34m█████████████████\u001b[0m| 3000/3000 [00:35<00:00, 83.92batch/s, loss=0.049734]\u001b[0m\n"
     ]
    },
    {
     "name": "stdout",
     "output_type": "stream",
     "text": [
      "\t Loss: 149.934,\tTrain : 98.59%(98.59%),\tTest : 97.13%(97.29%),\tCurrent Time: 20250721-205351\n"
     ]
    },
    {
     "name": "stderr",
     "output_type": "stream",
     "text": [
      "Epoch 36/100: 100%|\u001b[34m█████████████████\u001b[0m| 3000/3000 [00:36<00:00, 81.90batch/s, loss=0.048069]\u001b[0m\n"
     ]
    },
    {
     "name": "stdout",
     "output_type": "stream",
     "text": [
      "\t Loss: 143.933,\tTrain : 98.67%(98.67%),\tTest : 97.21%(97.29%),\tCurrent Time: 20250721-205429\n"
     ]
    },
    {
     "name": "stderr",
     "output_type": "stream",
     "text": [
      "Epoch 37/100: 100%|\u001b[34m█████████████████\u001b[0m| 3000/3000 [00:36<00:00, 82.71batch/s, loss=0.046150]\u001b[0m\n"
     ]
    },
    {
     "name": "stdout",
     "output_type": "stream",
     "text": [
      "\t Loss: 137.998,\tTrain : 98.76%(98.76%),\tTest : 97.40%(97.40%),\tCurrent Time: 20250721-205505\n"
     ]
    },
    {
     "name": "stderr",
     "output_type": "stream",
     "text": [
      "Epoch 38/100: 100%|\u001b[34m█████████████████\u001b[0m| 3000/3000 [00:35<00:00, 85.20batch/s, loss=0.044810]\u001b[0m\n"
     ]
    },
    {
     "name": "stdout",
     "output_type": "stream",
     "text": [
      "\t Loss: 134.416,\tTrain : 98.75%(98.76%),\tTest : 97.34%(97.40%),\tCurrent Time: 20250721-205541\n"
     ]
    },
    {
     "name": "stderr",
     "output_type": "stream",
     "text": [
      "Epoch 39/100: 100%|\u001b[34m█████████████████\u001b[0m| 3000/3000 [00:36<00:00, 83.09batch/s, loss=0.043472]\u001b[0m\n"
     ]
    },
    {
     "name": "stdout",
     "output_type": "stream",
     "text": [
      "\t Loss: 129.508,\tTrain : 98.83%(98.83%),\tTest : 97.39%(97.40%),\tCurrent Time: 20250721-205618\n"
     ]
    },
    {
     "name": "stderr",
     "output_type": "stream",
     "text": [
      "Epoch 40/100: 100%|\u001b[34m█████████████████\u001b[0m| 3000/3000 [00:35<00:00, 84.17batch/s, loss=0.041115]\u001b[0m\n"
     ]
    },
    {
     "name": "stdout",
     "output_type": "stream",
     "text": [
      "\t Loss: 123.677,\tTrain : 98.88%(98.88%),\tTest : 97.19%(97.40%),\tCurrent Time: 20250721-205654\n"
     ]
    },
    {
     "name": "stderr",
     "output_type": "stream",
     "text": [
      "Epoch 41/100: 100%|\u001b[34m█████████████████\u001b[0m| 3000/3000 [00:37<00:00, 80.69batch/s, loss=0.040567]\u001b[0m\n"
     ]
    },
    {
     "name": "stdout",
     "output_type": "stream",
     "text": [
      "\t Loss: 120.833,\tTrain : 98.92%(98.92%),\tTest : 97.51%(97.51%),\tCurrent Time: 20250721-205732\n"
     ]
    },
    {
     "name": "stderr",
     "output_type": "stream",
     "text": [
      "Epoch 42/100: 100%|\u001b[34m█████████████████\u001b[0m| 3000/3000 [00:37<00:00, 79.58batch/s, loss=0.038513]\u001b[0m\n"
     ]
    },
    {
     "name": "stdout",
     "output_type": "stream",
     "text": [
      "\t Loss: 114.992,\tTrain : 98.97%(98.97%),\tTest : 97.45%(97.51%),\tCurrent Time: 20250721-205810\n"
     ]
    },
    {
     "name": "stderr",
     "output_type": "stream",
     "text": [
      "Epoch 43/100: 100%|\u001b[34m█████████████████\u001b[0m| 3000/3000 [00:35<00:00, 84.03batch/s, loss=0.037289]\u001b[0m\n"
     ]
    },
    {
     "name": "stdout",
     "output_type": "stream",
     "text": [
      "\t Loss: 111.288,\tTrain : 99.01%(99.01%),\tTest : 97.43%(97.51%),\tCurrent Time: 20250721-205846\n"
     ]
    },
    {
     "name": "stderr",
     "output_type": "stream",
     "text": [
      "Epoch 44/100: 100%|\u001b[34m█████████████████\u001b[0m| 3000/3000 [00:36<00:00, 82.83batch/s, loss=0.035842]\u001b[0m\n"
     ]
    },
    {
     "name": "stdout",
     "output_type": "stream",
     "text": [
      "\t Loss: 106.947,\tTrain : 99.06%(99.06%),\tTest : 97.51%(97.51%),\tCurrent Time: 20250721-205923\n"
     ]
    },
    {
     "name": "stderr",
     "output_type": "stream",
     "text": [
      "Epoch 45/100: 100%|\u001b[34m█████████████████\u001b[0m| 3000/3000 [00:36<00:00, 82.58batch/s, loss=0.034447]\u001b[0m\n"
     ]
    },
    {
     "name": "stdout",
     "output_type": "stream",
     "text": [
      "\t Loss: 102.865,\tTrain : 99.12%(99.12%),\tTest : 97.43%(97.51%),\tCurrent Time: 20250721-210000\n"
     ]
    },
    {
     "name": "stderr",
     "output_type": "stream",
     "text": [
      "Epoch 46/100: 100%|\u001b[34m█████████████████\u001b[0m| 3000/3000 [00:35<00:00, 83.38batch/s, loss=0.032791]\u001b[0m\n"
     ]
    },
    {
     "name": "stdout",
     "output_type": "stream",
     "text": [
      "\t Loss: 98.416,\tTrain : 99.17%(99.17%),\tTest : 97.41%(97.51%),\tCurrent Time: 20250721-210037\n"
     ]
    },
    {
     "name": "stderr",
     "output_type": "stream",
     "text": [
      "Epoch 47/100: 100%|\u001b[34m█████████████████\u001b[0m| 3000/3000 [00:36<00:00, 81.84batch/s, loss=0.031785]\u001b[0m\n"
     ]
    },
    {
     "name": "stdout",
     "output_type": "stream",
     "text": [
      "\t Loss: 95.378,\tTrain : 99.17%(99.17%),\tTest : 97.57%(97.57%),\tCurrent Time: 20250721-210114\n"
     ]
    },
    {
     "name": "stderr",
     "output_type": "stream",
     "text": [
      "Epoch 48/100: 100%|\u001b[34m█████████████████\u001b[0m| 3000/3000 [00:37<00:00, 80.17batch/s, loss=0.030375]\u001b[0m\n"
     ]
    },
    {
     "name": "stdout",
     "output_type": "stream",
     "text": [
      "\t Loss: 90.979,\tTrain : 99.24%(99.24%),\tTest : 97.57%(97.57%),\tCurrent Time: 20250721-210152\n"
     ]
    },
    {
     "name": "stderr",
     "output_type": "stream",
     "text": [
      "Epoch 49/100: 100%|\u001b[34m█████████████████\u001b[0m| 3000/3000 [00:37<00:00, 79.96batch/s, loss=0.029473]\u001b[0m\n"
     ]
    },
    {
     "name": "stdout",
     "output_type": "stream",
     "text": [
      "\t Loss: 88.389,\tTrain : 99.28%(99.28%),\tTest : 97.47%(97.57%),\tCurrent Time: 20250721-210230\n"
     ]
    },
    {
     "name": "stderr",
     "output_type": "stream",
     "text": [
      "Epoch 50/100: 100%|\u001b[34m█████████████████\u001b[0m| 3000/3000 [00:37<00:00, 80.96batch/s, loss=0.028384]\u001b[0m\n"
     ]
    },
    {
     "name": "stdout",
     "output_type": "stream",
     "text": [
      "\t Loss: 85.278,\tTrain : 99.31%(99.31%),\tTest : 97.49%(97.57%),\tCurrent Time: 20250721-210308\n"
     ]
    },
    {
     "name": "stderr",
     "output_type": "stream",
     "text": [
      "Epoch 51/100: 100%|\u001b[34m█████████████████\u001b[0m| 3000/3000 [00:37<00:00, 80.99batch/s, loss=0.026971]\u001b[0m\n"
     ]
    },
    {
     "name": "stdout",
     "output_type": "stream",
     "text": [
      "\t Loss: 81.440,\tTrain : 99.31%(99.31%),\tTest : 97.35%(97.57%),\tCurrent Time: 20250721-210345\n"
     ]
    },
    {
     "name": "stderr",
     "output_type": "stream",
     "text": [
      "Epoch 52/100: 100%|\u001b[34m█████████████████\u001b[0m| 3000/3000 [00:35<00:00, 84.11batch/s, loss=0.026344]\u001b[0m\n"
     ]
    },
    {
     "name": "stdout",
     "output_type": "stream",
     "text": [
      "\t Loss: 79.200,\tTrain : 99.34%(99.34%),\tTest : 97.40%(97.57%),\tCurrent Time: 20250721-210422\n"
     ]
    },
    {
     "name": "stderr",
     "output_type": "stream",
     "text": [
      "Epoch 53/100: 100%|\u001b[34m█████████████████\u001b[0m| 3000/3000 [00:36<00:00, 82.21batch/s, loss=0.025221]\u001b[0m\n"
     ]
    },
    {
     "name": "stdout",
     "output_type": "stream",
     "text": [
      "\t Loss: 76.076,\tTrain : 99.42%(99.42%),\tTest : 97.59%(97.59%),\tCurrent Time: 20250721-210459\n"
     ]
    },
    {
     "name": "stderr",
     "output_type": "stream",
     "text": [
      "Epoch 54/100: 100%|\u001b[34m█████████████████\u001b[0m| 3000/3000 [00:35<00:00, 84.06batch/s, loss=0.024556]\u001b[0m\n"
     ]
    },
    {
     "name": "stdout",
     "output_type": "stream",
     "text": [
      "\t Loss: 73.220,\tTrain : 99.42%(99.42%),\tTest : 97.46%(97.59%),\tCurrent Time: 20250721-210535\n"
     ]
    },
    {
     "name": "stderr",
     "output_type": "stream",
     "text": [
      "Epoch 55/100: 100%|\u001b[34m█████████████████\u001b[0m| 3000/3000 [00:36<00:00, 82.19batch/s, loss=0.023490]\u001b[0m\n"
     ]
    },
    {
     "name": "stdout",
     "output_type": "stream",
     "text": [
      "\t Loss: 70.777,\tTrain : 99.45%(99.45%),\tTest : 97.52%(97.59%),\tCurrent Time: 20250721-210612\n"
     ]
    },
    {
     "name": "stderr",
     "output_type": "stream",
     "text": [
      "Epoch 56/100: 100%|\u001b[34m█████████████████\u001b[0m| 3000/3000 [00:36<00:00, 82.95batch/s, loss=0.022715]\u001b[0m\n"
     ]
    },
    {
     "name": "stdout",
     "output_type": "stream",
     "text": [
      "\t Loss: 68.089,\tTrain : 99.48%(99.48%),\tTest : 97.41%(97.59%),\tCurrent Time: 20250721-210649\n"
     ]
    },
    {
     "name": "stderr",
     "output_type": "stream",
     "text": [
      "Epoch 57/100: 100%|\u001b[34m█████████████████\u001b[0m| 3000/3000 [00:35<00:00, 83.51batch/s, loss=0.021675]\u001b[0m\n"
     ]
    },
    {
     "name": "stdout",
     "output_type": "stream",
     "text": [
      "\t Loss: 65.714,\tTrain : 99.53%(99.53%),\tTest : 97.50%(97.59%),\tCurrent Time: 20250721-210726\n"
     ]
    },
    {
     "name": "stderr",
     "output_type": "stream",
     "text": [
      "Epoch 58/100: 100%|\u001b[34m█████████████████\u001b[0m| 3000/3000 [00:36<00:00, 81.63batch/s, loss=0.021008]\u001b[0m\n"
     ]
    },
    {
     "name": "stdout",
     "output_type": "stream",
     "text": [
      "\t Loss: 63.863,\tTrain : 99.53%(99.53%),\tTest : 97.40%(97.59%),\tCurrent Time: 20250721-210803\n"
     ]
    },
    {
     "name": "stderr",
     "output_type": "stream",
     "text": [
      "Epoch 59/100: 100%|\u001b[34m█████████████████\u001b[0m| 3000/3000 [00:36<00:00, 81.93batch/s, loss=0.019932]\u001b[0m\n"
     ]
    },
    {
     "name": "stdout",
     "output_type": "stream",
     "text": [
      "\t Loss: 59.947,\tTrain : 99.60%(99.60%),\tTest : 97.45%(97.59%),\tCurrent Time: 20250721-210840\n"
     ]
    },
    {
     "name": "stderr",
     "output_type": "stream",
     "text": [
      "Epoch 60/100: 100%|\u001b[34m█████████████████\u001b[0m| 3000/3000 [00:36<00:00, 82.90batch/s, loss=0.019693]\u001b[0m\n"
     ]
    },
    {
     "name": "stdout",
     "output_type": "stream",
     "text": [
      "\t Loss: 58.568,\tTrain : 99.63%(99.63%),\tTest : 97.58%(97.59%),\tCurrent Time: 20250721-210917\n"
     ]
    },
    {
     "name": "stderr",
     "output_type": "stream",
     "text": [
      "Epoch 61/100: 100%|\u001b[34m█████████████████\u001b[0m| 3000/3000 [00:37<00:00, 80.93batch/s, loss=0.018753]\u001b[0m\n"
     ]
    },
    {
     "name": "stdout",
     "output_type": "stream",
     "text": [
      "\t Loss: 55.838,\tTrain : 99.64%(99.64%),\tTest : 97.55%(97.59%),\tCurrent Time: 20250721-210955\n"
     ]
    },
    {
     "name": "stderr",
     "output_type": "stream",
     "text": [
      "Epoch 62/100: 100%|\u001b[34m█████████████████\u001b[0m| 3000/3000 [00:37<00:00, 79.80batch/s, loss=0.018182]\u001b[0m\n"
     ]
    },
    {
     "name": "stdout",
     "output_type": "stream",
     "text": [
      "\t Loss: 54.575,\tTrain : 99.64%(99.64%),\tTest : 97.57%(97.59%),\tCurrent Time: 20250721-211033\n"
     ]
    },
    {
     "name": "stderr",
     "output_type": "stream",
     "text": [
      "Epoch 63/100: 100%|\u001b[34m█████████████████\u001b[0m| 3000/3000 [00:36<00:00, 82.82batch/s, loss=0.017377]\u001b[0m\n"
     ]
    },
    {
     "name": "stdout",
     "output_type": "stream",
     "text": [
      "\t Loss: 52.331,\tTrain : 99.71%(99.71%),\tTest : 97.58%(97.59%),\tCurrent Time: 20250721-211110\n"
     ]
    },
    {
     "name": "stderr",
     "output_type": "stream",
     "text": [
      "Epoch 64/100: 100%|\u001b[34m█████████████████\u001b[0m| 3000/3000 [00:36<00:00, 81.29batch/s, loss=0.016750]\u001b[0m\n"
     ]
    },
    {
     "name": "stdout",
     "output_type": "stream",
     "text": [
      "\t Loss: 50.175,\tTrain : 99.71%(99.71%),\tTest : 97.60%(97.60%),\tCurrent Time: 20250721-211147\n"
     ]
    },
    {
     "name": "stderr",
     "output_type": "stream",
     "text": [
      "Epoch 65/100: 100%|\u001b[34m█████████████████\u001b[0m| 3000/3000 [00:35<00:00, 84.17batch/s, loss=0.016282]\u001b[0m\n"
     ]
    },
    {
     "name": "stdout",
     "output_type": "stream",
     "text": [
      "\t Loss: 48.779,\tTrain : 99.71%(99.71%),\tTest : 97.53%(97.60%),\tCurrent Time: 20250721-211223\n"
     ]
    },
    {
     "name": "stderr",
     "output_type": "stream",
     "text": [
      "Epoch 66/100: 100%|\u001b[34m█████████████████\u001b[0m| 3000/3000 [00:36<00:00, 82.92batch/s, loss=0.015605]\u001b[0m\n"
     ]
    },
    {
     "name": "stdout",
     "output_type": "stream",
     "text": [
      "\t Loss: 47.004,\tTrain : 99.73%(99.73%),\tTest : 97.49%(97.60%),\tCurrent Time: 20250721-211300\n"
     ]
    },
    {
     "name": "stderr",
     "output_type": "stream",
     "text": [
      "Epoch 67/100: 100%|\u001b[34m█████████████████\u001b[0m| 3000/3000 [00:36<00:00, 82.17batch/s, loss=0.014722]\u001b[0m\n"
     ]
    },
    {
     "name": "stdout",
     "output_type": "stream",
     "text": [
      "\t Loss: 45.030,\tTrain : 99.76%(99.76%),\tTest : 97.64%(97.64%),\tCurrent Time: 20250721-211337\n"
     ]
    },
    {
     "name": "stderr",
     "output_type": "stream",
     "text": [
      "Epoch 68/100: 100%|\u001b[34m█████████████████\u001b[0m| 3000/3000 [00:35<00:00, 83.98batch/s, loss=0.014286]\u001b[0m\n"
     ]
    },
    {
     "name": "stdout",
     "output_type": "stream",
     "text": [
      "\t Loss: 43.334,\tTrain : 99.77%(99.77%),\tTest : 97.68%(97.68%),\tCurrent Time: 20250721-211414\n"
     ]
    },
    {
     "name": "stderr",
     "output_type": "stream",
     "text": [
      "Epoch 69/100: 100%|\u001b[34m█████████████████\u001b[0m| 3000/3000 [00:36<00:00, 81.64batch/s, loss=0.014061]\u001b[0m\n"
     ]
    },
    {
     "name": "stdout",
     "output_type": "stream",
     "text": [
      "\t Loss: 42.293,\tTrain : 99.77%(99.77%),\tTest : 97.49%(97.68%),\tCurrent Time: 20250721-211451\n"
     ]
    },
    {
     "name": "stderr",
     "output_type": "stream",
     "text": [
      "Epoch 70/100: 100%|\u001b[34m█████████████████\u001b[0m| 3000/3000 [00:36<00:00, 82.44batch/s, loss=0.013623]\u001b[0m\n"
     ]
    },
    {
     "name": "stdout",
     "output_type": "stream",
     "text": [
      "\t Loss: 40.772,\tTrain : 99.80%(99.80%),\tTest : 97.61%(97.68%),\tCurrent Time: 20250721-211528\n"
     ]
    },
    {
     "name": "stderr",
     "output_type": "stream",
     "text": [
      "Epoch 71/100: 100%|\u001b[34m█████████████████\u001b[0m| 3000/3000 [00:36<00:00, 83.30batch/s, loss=0.013173]\u001b[0m\n"
     ]
    },
    {
     "name": "stdout",
     "output_type": "stream",
     "text": [
      "\t Loss: 39.475,\tTrain : 99.80%(99.80%),\tTest : 97.62%(97.68%),\tCurrent Time: 20250721-211605\n"
     ]
    },
    {
     "name": "stderr",
     "output_type": "stream",
     "text": [
      "Epoch 72/100: 100%|\u001b[34m█████████████████\u001b[0m| 3000/3000 [00:36<00:00, 82.01batch/s, loss=0.012410]\u001b[0m\n"
     ]
    },
    {
     "name": "stdout",
     "output_type": "stream",
     "text": [
      "\t Loss: 37.327,\tTrain : 99.85%(99.85%),\tTest : 97.52%(97.68%),\tCurrent Time: 20250721-211642\n"
     ]
    },
    {
     "name": "stderr",
     "output_type": "stream",
     "text": [
      "Epoch 73/100: 100%|\u001b[34m█████████████████\u001b[0m| 3000/3000 [00:36<00:00, 82.33batch/s, loss=0.012241]\u001b[0m\n"
     ]
    },
    {
     "name": "stdout",
     "output_type": "stream",
     "text": [
      "\t Loss: 36.523,\tTrain : 99.84%(99.85%),\tTest : 97.61%(97.68%),\tCurrent Time: 20250721-211719\n"
     ]
    },
    {
     "name": "stderr",
     "output_type": "stream",
     "text": [
      "Epoch 74/100: 100%|\u001b[34m█████████████████\u001b[0m| 3000/3000 [00:36<00:00, 82.59batch/s, loss=0.011601]\u001b[0m\n"
     ]
    },
    {
     "name": "stdout",
     "output_type": "stream",
     "text": [
      "\t Loss: 34.520,\tTrain : 99.87%(99.87%),\tTest : 97.54%(97.68%),\tCurrent Time: 20250721-211756\n"
     ]
    },
    {
     "name": "stderr",
     "output_type": "stream",
     "text": [
      "Epoch 75/100: 100%|\u001b[34m█████████████████\u001b[0m| 3000/3000 [00:35<00:00, 83.89batch/s, loss=0.011042]\u001b[0m\n"
     ]
    },
    {
     "name": "stdout",
     "output_type": "stream",
     "text": [
      "\t Loss: 33.300,\tTrain : 99.86%(99.87%),\tTest : 97.66%(97.68%),\tCurrent Time: 20250721-211832\n"
     ]
    },
    {
     "name": "stderr",
     "output_type": "stream",
     "text": [
      "Epoch 76/100: 100%|\u001b[34m█████████████████\u001b[0m| 3000/3000 [00:37<00:00, 80.46batch/s, loss=0.010746]\u001b[0m\n"
     ]
    },
    {
     "name": "stdout",
     "output_type": "stream",
     "text": [
      "\t Loss: 32.237,\tTrain : 99.87%(99.87%),\tTest : 97.48%(97.68%),\tCurrent Time: 20250721-211910\n"
     ]
    },
    {
     "name": "stderr",
     "output_type": "stream",
     "text": [
      "Epoch 77/100: 100%|\u001b[34m█████████████████\u001b[0m| 3000/3000 [00:35<00:00, 83.58batch/s, loss=0.010453]\u001b[0m\n"
     ]
    },
    {
     "name": "stdout",
     "output_type": "stream",
     "text": [
      "\t Loss: 31.426,\tTrain : 99.88%(99.88%),\tTest : 97.60%(97.68%),\tCurrent Time: 20250721-211947\n"
     ]
    },
    {
     "name": "stderr",
     "output_type": "stream",
     "text": [
      "Epoch 78/100: 100%|\u001b[34m█████████████████\u001b[0m| 3000/3000 [00:36<00:00, 81.81batch/s, loss=0.009875]\u001b[0m\n"
     ]
    },
    {
     "name": "stdout",
     "output_type": "stream",
     "text": [
      "\t Loss: 30.042,\tTrain : 99.89%(99.89%),\tTest : 97.59%(97.68%),\tCurrent Time: 20250721-212024\n"
     ]
    },
    {
     "name": "stderr",
     "output_type": "stream",
     "text": [
      "Epoch 79/100: 100%|\u001b[34m█████████████████\u001b[0m| 3000/3000 [00:35<00:00, 83.65batch/s, loss=0.009568]\u001b[0m\n"
     ]
    },
    {
     "name": "stdout",
     "output_type": "stream",
     "text": [
      "\t Loss: 28.859,\tTrain : 99.91%(99.91%),\tTest : 97.59%(97.68%),\tCurrent Time: 20250721-212100\n"
     ]
    },
    {
     "name": "stderr",
     "output_type": "stream",
     "text": [
      "Epoch 80/100: 100%|\u001b[34m█████████████████\u001b[0m| 3000/3000 [00:35<00:00, 84.28batch/s, loss=0.009279]\u001b[0m\n"
     ]
    },
    {
     "name": "stdout",
     "output_type": "stream",
     "text": [
      "\t Loss: 28.198,\tTrain : 99.90%(99.91%),\tTest : 97.64%(97.68%),\tCurrent Time: 20250721-212136\n"
     ]
    },
    {
     "name": "stderr",
     "output_type": "stream",
     "text": [
      "Epoch 81/100: 100%|\u001b[34m█████████████████\u001b[0m| 3000/3000 [00:35<00:00, 84.60batch/s, loss=0.009075]\u001b[0m\n"
     ]
    },
    {
     "name": "stdout",
     "output_type": "stream",
     "text": [
      "\t Loss: 27.208,\tTrain : 99.90%(99.91%),\tTest : 97.55%(97.68%),\tCurrent Time: 20250721-212213\n"
     ]
    },
    {
     "name": "stderr",
     "output_type": "stream",
     "text": [
      "Epoch 82/100: 100%|\u001b[34m█████████████████\u001b[0m| 3000/3000 [00:34<00:00, 86.49batch/s, loss=0.008747]\u001b[0m\n"
     ]
    },
    {
     "name": "stdout",
     "output_type": "stream",
     "text": [
      "\t Loss: 26.098,\tTrain : 99.93%(99.93%),\tTest : 97.64%(97.68%),\tCurrent Time: 20250721-212248\n"
     ]
    },
    {
     "name": "stderr",
     "output_type": "stream",
     "text": [
      "Epoch 83/100: 100%|\u001b[34m█████████████████\u001b[0m| 3000/3000 [00:36<00:00, 82.83batch/s, loss=0.008521]\u001b[0m\n"
     ]
    },
    {
     "name": "stdout",
     "output_type": "stream",
     "text": [
      "\t Loss: 25.444,\tTrain : 99.92%(99.93%),\tTest : 97.64%(97.68%),\tCurrent Time: 20250721-212325\n"
     ]
    },
    {
     "name": "stderr",
     "output_type": "stream",
     "text": [
      "Epoch 84/100: 100%|\u001b[34m█████████████████\u001b[0m| 3000/3000 [00:36<00:00, 83.21batch/s, loss=0.007870]\u001b[0m\n"
     ]
    },
    {
     "name": "stdout",
     "output_type": "stream",
     "text": [
      "\t Loss: 24.044,\tTrain : 99.94%(99.94%),\tTest : 97.63%(97.68%),\tCurrent Time: 20250721-212401\n"
     ]
    },
    {
     "name": "stderr",
     "output_type": "stream",
     "text": [
      "Epoch 85/100: 100%|\u001b[34m█████████████████\u001b[0m| 3000/3000 [00:34<00:00, 87.15batch/s, loss=0.007903]\u001b[0m\n"
     ]
    },
    {
     "name": "stdout",
     "output_type": "stream",
     "text": [
      "\t Loss: 23.783,\tTrain : 99.93%(99.94%),\tTest : 97.67%(97.68%),\tCurrent Time: 20250721-212436\n"
     ]
    },
    {
     "name": "stderr",
     "output_type": "stream",
     "text": [
      "Epoch 86/100: 100%|\u001b[34m█████████████████\u001b[0m| 3000/3000 [00:35<00:00, 85.17batch/s, loss=0.007708]\u001b[0m\n"
     ]
    },
    {
     "name": "stdout",
     "output_type": "stream",
     "text": [
      "\t Loss: 23.150,\tTrain : 99.93%(99.94%),\tTest : 97.68%(97.68%),\tCurrent Time: 20250721-212512\n"
     ]
    },
    {
     "name": "stderr",
     "output_type": "stream",
     "text": [
      "Epoch 87/100: 100%|\u001b[34m█████████████████\u001b[0m| 3000/3000 [00:35<00:00, 84.43batch/s, loss=0.007383]\u001b[0m\n"
     ]
    },
    {
     "name": "stdout",
     "output_type": "stream",
     "text": [
      "\t Loss: 22.152,\tTrain : 99.95%(99.95%),\tTest : 97.51%(97.68%),\tCurrent Time: 20250721-212548\n"
     ]
    },
    {
     "name": "stderr",
     "output_type": "stream",
     "text": [
      "Epoch 88/100: 100%|\u001b[34m█████████████████\u001b[0m| 3000/3000 [00:36<00:00, 81.78batch/s, loss=0.007067]\u001b[0m\n"
     ]
    },
    {
     "name": "stdout",
     "output_type": "stream",
     "text": [
      "\t Loss: 21.241,\tTrain : 99.97%(99.97%),\tTest : 97.62%(97.68%),\tCurrent Time: 20250721-212626\n"
     ]
    },
    {
     "name": "stderr",
     "output_type": "stream",
     "text": [
      "Epoch 89/100: 100%|\u001b[34m█████████████████\u001b[0m| 3000/3000 [00:36<00:00, 81.08batch/s, loss=0.006943]\u001b[0m\n"
     ]
    },
    {
     "name": "stdout",
     "output_type": "stream",
     "text": [
      "\t Loss: 20.871,\tTrain : 99.95%(99.97%),\tTest : 97.62%(97.68%),\tCurrent Time: 20250721-212703\n"
     ]
    },
    {
     "name": "stderr",
     "output_type": "stream",
     "text": [
      "Epoch 90/100: 100%|\u001b[34m█████████████████\u001b[0m| 3000/3000 [00:35<00:00, 85.33batch/s, loss=0.006706]\u001b[0m\n"
     ]
    },
    {
     "name": "stdout",
     "output_type": "stream",
     "text": [
      "\t Loss: 20.224,\tTrain : 99.96%(99.97%),\tTest : 97.57%(97.68%),\tCurrent Time: 20250721-212739\n"
     ]
    },
    {
     "name": "stderr",
     "output_type": "stream",
     "text": [
      "Epoch 91/100: 100%|\u001b[34m█████████████████\u001b[0m| 3000/3000 [00:36<00:00, 81.15batch/s, loss=0.006396]\u001b[0m\n"
     ]
    },
    {
     "name": "stdout",
     "output_type": "stream",
     "text": [
      "\t Loss: 19.313,\tTrain : 99.97%(99.97%),\tTest : 97.65%(97.68%),\tCurrent Time: 20250721-212817\n"
     ]
    },
    {
     "name": "stderr",
     "output_type": "stream",
     "text": [
      "Epoch 92/100: 100%|\u001b[34m█████████████████\u001b[0m| 3000/3000 [00:35<00:00, 83.96batch/s, loss=0.006222]\u001b[0m\n"
     ]
    },
    {
     "name": "stdout",
     "output_type": "stream",
     "text": [
      "\t Loss: 18.767,\tTrain : 99.97%(99.97%),\tTest : 97.66%(97.68%),\tCurrent Time: 20250721-212853\n"
     ]
    },
    {
     "name": "stderr",
     "output_type": "stream",
     "text": [
      "Epoch 93/100: 100%|\u001b[34m█████████████████\u001b[0m| 3000/3000 [00:35<00:00, 84.13batch/s, loss=0.006085]\u001b[0m\n"
     ]
    },
    {
     "name": "stdout",
     "output_type": "stream",
     "text": [
      "\t Loss: 18.443,\tTrain : 99.97%(99.97%),\tTest : 97.57%(97.68%),\tCurrent Time: 20250721-212929\n"
     ]
    },
    {
     "name": "stderr",
     "output_type": "stream",
     "text": [
      "Epoch 94/100: 100%|\u001b[34m█████████████████\u001b[0m| 3000/3000 [00:35<00:00, 84.44batch/s, loss=0.005869]\u001b[0m\n"
     ]
    },
    {
     "name": "stdout",
     "output_type": "stream",
     "text": [
      "\t Loss: 17.637,\tTrain : 99.98%(99.98%),\tTest : 97.67%(97.68%),\tCurrent Time: 20250721-213005\n"
     ]
    },
    {
     "name": "stderr",
     "output_type": "stream",
     "text": [
      "Epoch 95/100: 100%|\u001b[34m█████████████████\u001b[0m| 3000/3000 [00:35<00:00, 83.55batch/s, loss=0.005673]\u001b[0m\n"
     ]
    },
    {
     "name": "stdout",
     "output_type": "stream",
     "text": [
      "\t Loss: 17.214,\tTrain : 99.98%(99.98%),\tTest : 97.66%(97.68%),\tCurrent Time: 20250721-213042\n"
     ]
    },
    {
     "name": "stderr",
     "output_type": "stream",
     "text": [
      "Epoch 96/100: 100%|\u001b[34m█████████████████\u001b[0m| 3000/3000 [00:37<00:00, 80.26batch/s, loss=0.005575]\u001b[0m\n"
     ]
    },
    {
     "name": "stdout",
     "output_type": "stream",
     "text": [
      "\t Loss: 16.744,\tTrain : 99.98%(99.98%),\tTest : 97.60%(97.68%),\tCurrent Time: 20250721-213120\n"
     ]
    },
    {
     "name": "stderr",
     "output_type": "stream",
     "text": [
      "Epoch 97/100: 100%|\u001b[34m█████████████████\u001b[0m| 3000/3000 [00:35<00:00, 84.02batch/s, loss=0.005439]\u001b[0m\n"
     ]
    },
    {
     "name": "stdout",
     "output_type": "stream",
     "text": [
      "\t Loss: 16.258,\tTrain : 99.98%(99.98%),\tTest : 97.68%(97.68%),\tCurrent Time: 20250721-213156\n"
     ]
    },
    {
     "name": "stderr",
     "output_type": "stream",
     "text": [
      "Epoch 98/100: 100%|\u001b[34m█████████████████\u001b[0m| 3000/3000 [00:36<00:00, 82.68batch/s, loss=0.005289]\u001b[0m\n"
     ]
    },
    {
     "name": "stdout",
     "output_type": "stream",
     "text": [
      "\t Loss: 15.890,\tTrain : 99.98%(99.98%),\tTest : 97.58%(97.68%),\tCurrent Time: 20250721-213233\n"
     ]
    },
    {
     "name": "stderr",
     "output_type": "stream",
     "text": [
      "Epoch 99/100: 100%|\u001b[34m█████████████████\u001b[0m| 3000/3000 [00:36<00:00, 81.89batch/s, loss=0.005098]\u001b[0m\n"
     ]
    },
    {
     "name": "stdout",
     "output_type": "stream",
     "text": [
      "\t Loss: 15.359,\tTrain : 99.98%(99.98%),\tTest : 97.65%(97.68%),\tCurrent Time: 20250721-213310\n"
     ]
    },
    {
     "name": "stderr",
     "output_type": "stream",
     "text": [
      "Epoch 100/100: 100%|\u001b[34m████████████████\u001b[0m| 3000/3000 [00:36<00:00, 83.22batch/s, loss=0.004993]\u001b[0m\n"
     ]
    },
    {
     "name": "stdout",
     "output_type": "stream",
     "text": [
      "\t Loss: 14.975,\tTrain : 99.98%(99.98%),\tTest : 97.65%(97.68%),\tCurrent Time: 20250721-213347\n",
      "EP_L3_MNIST_First_symm_LN_t2sta2_bs20_lrsame-EP_b_sc0.01-EP_It2sta18- Time: 20250721-213347, Epochs: 100, Learning Rate: 0.001, Best: 99.98%  97.68%\n",
      "\n",
      "EP_L3_MNIST_First_symm_LN_t2sta2_bs20_lrsame-EP_b_sc0.01-EP_It2sta18-\n"
     ]
    },
    {
     "name": "stderr",
     "output_type": "stream",
     "text": [
      "Epoch 1/100: 100%|\u001b[34m██████████████████\u001b[0m| 3000/3000 [00:36<00:00, 81.69batch/s, loss=0.430143]\u001b[0m\n"
     ]
    },
    {
     "name": "stdout",
     "output_type": "stream",
     "text": [
      "\t Loss: 1280.425,\tTrain : 87.74%(87.74%),\tTest : 90.75%(90.75%),\tCurrent Time: 20250721-213424\n"
     ]
    },
    {
     "name": "stderr",
     "output_type": "stream",
     "text": [
      "Epoch 2/100: 100%|\u001b[34m██████████████████\u001b[0m| 3000/3000 [00:35<00:00, 84.66batch/s, loss=0.322142]\u001b[0m\n"
     ]
    },
    {
     "name": "stdout",
     "output_type": "stream",
     "text": [
      "\t Loss: 963.837,\tTrain : 90.71%(90.71%),\tTest : 91.31%(91.31%),\tCurrent Time: 20250721-213500\n"
     ]
    },
    {
     "name": "stderr",
     "output_type": "stream",
     "text": [
      "Epoch 3/100: 100%|\u001b[34m██████████████████\u001b[0m| 3000/3000 [00:36<00:00, 81.92batch/s, loss=0.297765]\u001b[0m\n"
     ]
    },
    {
     "name": "stdout",
     "output_type": "stream",
     "text": [
      "\t Loss: 891.567,\tTrain : 91.38%(91.38%),\tTest : 91.72%(91.72%),\tCurrent Time: 20250721-213538\n"
     ]
    },
    {
     "name": "stderr",
     "output_type": "stream",
     "text": [
      "Epoch 4/100: 100%|\u001b[34m██████████████████\u001b[0m| 3000/3000 [00:36<00:00, 81.90batch/s, loss=0.279865]\u001b[0m\n"
     ]
    },
    {
     "name": "stdout",
     "output_type": "stream",
     "text": [
      "\t Loss: 836.908,\tTrain : 91.96%(91.96%),\tTest : 92.08%(92.08%),\tCurrent Time: 20250721-213615\n"
     ]
    },
    {
     "name": "stderr",
     "output_type": "stream",
     "text": [
      "Epoch 5/100: 100%|\u001b[34m██████████████████\u001b[0m| 3000/3000 [00:35<00:00, 84.63batch/s, loss=0.259743]\u001b[0m\n"
     ]
    },
    {
     "name": "stdout",
     "output_type": "stream",
     "text": [
      "\t Loss: 777.787,\tTrain : 92.67%(92.67%),\tTest : 92.97%(92.97%),\tCurrent Time: 20250721-213651\n"
     ]
    },
    {
     "name": "stderr",
     "output_type": "stream",
     "text": [
      "Epoch 6/100: 100%|\u001b[34m██████████████████\u001b[0m| 3000/3000 [00:36<00:00, 82.87batch/s, loss=0.238267]\u001b[0m\n"
     ]
    },
    {
     "name": "stdout",
     "output_type": "stream",
     "text": [
      "\t Loss: 712.217,\tTrain : 93.26%(93.26%),\tTest : 93.32%(93.32%),\tCurrent Time: 20250721-213728\n"
     ]
    },
    {
     "name": "stderr",
     "output_type": "stream",
     "text": [
      "Epoch 7/100: 100%|\u001b[34m██████████████████\u001b[0m| 3000/3000 [00:36<00:00, 82.29batch/s, loss=0.217635]\u001b[0m\n"
     ]
    },
    {
     "name": "stdout",
     "output_type": "stream",
     "text": [
      "\t Loss: 651.210,\tTrain : 93.83%(93.83%),\tTest : 93.45%(93.45%),\tCurrent Time: 20250721-213805\n"
     ]
    },
    {
     "name": "stderr",
     "output_type": "stream",
     "text": [
      "Epoch 8/100: 100%|\u001b[34m██████████████████\u001b[0m| 3000/3000 [00:37<00:00, 80.54batch/s, loss=0.198356]\u001b[0m\n"
     ]
    },
    {
     "name": "stdout",
     "output_type": "stream",
     "text": [
      "\t Loss: 594.051,\tTrain : 94.37%(94.37%),\tTest : 94.43%(94.43%),\tCurrent Time: 20250721-213843\n"
     ]
    },
    {
     "name": "stderr",
     "output_type": "stream",
     "text": [
      "Epoch 9/100: 100%|\u001b[34m██████████████████\u001b[0m| 3000/3000 [00:36<00:00, 82.60batch/s, loss=0.182166]\u001b[0m\n"
     ]
    },
    {
     "name": "stdout",
     "output_type": "stream",
     "text": [
      "\t Loss: 544.344,\tTrain : 94.92%(94.92%),\tTest : 94.79%(94.79%),\tCurrent Time: 20250721-213920\n"
     ]
    },
    {
     "name": "stderr",
     "output_type": "stream",
     "text": [
      "Epoch 10/100: 100%|\u001b[34m█████████████████\u001b[0m| 3000/3000 [00:37<00:00, 80.84batch/s, loss=0.166751]\u001b[0m\n"
     ]
    },
    {
     "name": "stdout",
     "output_type": "stream",
     "text": [
      "\t Loss: 500.791,\tTrain : 95.20%(95.20%),\tTest : 95.01%(95.01%),\tCurrent Time: 20250721-213957\n"
     ]
    },
    {
     "name": "stderr",
     "output_type": "stream",
     "text": [
      "Epoch 11/100: 100%|\u001b[34m█████████████████\u001b[0m| 3000/3000 [00:36<00:00, 82.23batch/s, loss=0.154478]\u001b[0m\n"
     ]
    },
    {
     "name": "stdout",
     "output_type": "stream",
     "text": [
      "\t Loss: 463.232,\tTrain : 95.64%(95.64%),\tTest : 95.27%(95.27%),\tCurrent Time: 20250721-214034\n"
     ]
    },
    {
     "name": "stderr",
     "output_type": "stream",
     "text": [
      "Epoch 12/100: 100%|\u001b[34m█████████████████\u001b[0m| 3000/3000 [00:34<00:00, 85.72batch/s, loss=0.143941]\u001b[0m\n"
     ]
    },
    {
     "name": "stdout",
     "output_type": "stream",
     "text": [
      "\t Loss: 431.960,\tTrain : 95.84%(95.84%),\tTest : 95.66%(95.66%),\tCurrent Time: 20250721-214110\n"
     ]
    },
    {
     "name": "stderr",
     "output_type": "stream",
     "text": [
      "Epoch 13/100: 100%|\u001b[34m█████████████████\u001b[0m| 3000/3000 [00:37<00:00, 80.02batch/s, loss=0.133597]\u001b[0m\n"
     ]
    },
    {
     "name": "stdout",
     "output_type": "stream",
     "text": [
      "\t Loss: 401.125,\tTrain : 96.10%(96.10%),\tTest : 95.76%(95.76%),\tCurrent Time: 20250721-214148\n"
     ]
    },
    {
     "name": "stderr",
     "output_type": "stream",
     "text": [
      "Epoch 14/100: 100%|\u001b[34m█████████████████\u001b[0m| 3000/3000 [00:37<00:00, 80.51batch/s, loss=0.125506]\u001b[0m\n"
     ]
    },
    {
     "name": "stdout",
     "output_type": "stream",
     "text": [
      "\t Loss: 375.291,\tTrain : 96.40%(96.40%),\tTest : 95.81%(95.81%),\tCurrent Time: 20250721-214226\n"
     ]
    },
    {
     "name": "stderr",
     "output_type": "stream",
     "text": [
      "Epoch 15/100: 100%|\u001b[34m█████████████████\u001b[0m| 3000/3000 [00:36<00:00, 82.97batch/s, loss=0.118345]\u001b[0m\n"
     ]
    },
    {
     "name": "stdout",
     "output_type": "stream",
     "text": [
      "\t Loss: 354.056,\tTrain : 96.60%(96.60%),\tTest : 95.91%(95.91%),\tCurrent Time: 20250721-214303\n"
     ]
    },
    {
     "name": "stderr",
     "output_type": "stream",
     "text": [
      "Epoch 16/100: 100%|\u001b[34m█████████████████\u001b[0m| 3000/3000 [00:36<00:00, 82.01batch/s, loss=0.110143]\u001b[0m\n"
     ]
    },
    {
     "name": "stdout",
     "output_type": "stream",
     "text": [
      "\t Loss: 332.614,\tTrain : 96.78%(96.78%),\tTest : 96.19%(96.19%),\tCurrent Time: 20250721-214340\n"
     ]
    },
    {
     "name": "stderr",
     "output_type": "stream",
     "text": [
      "Epoch 17/100: 100%|\u001b[34m█████████████████\u001b[0m| 3000/3000 [00:36<00:00, 81.85batch/s, loss=0.103829]\u001b[0m\n"
     ]
    },
    {
     "name": "stdout",
     "output_type": "stream",
     "text": [
      "\t Loss: 312.474,\tTrain : 97.00%(97.00%),\tTest : 96.20%(96.20%),\tCurrent Time: 20250721-214417\n"
     ]
    },
    {
     "name": "stderr",
     "output_type": "stream",
     "text": [
      "Epoch 18/100: 100%|\u001b[34m█████████████████\u001b[0m| 3000/3000 [00:36<00:00, 82.48batch/s, loss=0.098713]\u001b[0m\n"
     ]
    },
    {
     "name": "stdout",
     "output_type": "stream",
     "text": [
      "\t Loss: 295.399,\tTrain : 97.19%(97.19%),\tTest : 96.55%(96.55%),\tCurrent Time: 20250721-214454\n"
     ]
    },
    {
     "name": "stderr",
     "output_type": "stream",
     "text": [
      "Epoch 19/100: 100%|\u001b[34m█████████████████\u001b[0m| 3000/3000 [00:37<00:00, 80.38batch/s, loss=0.093181]\u001b[0m\n"
     ]
    },
    {
     "name": "stdout",
     "output_type": "stream",
     "text": [
      "\t Loss: 280.873,\tTrain : 97.24%(97.24%),\tTest : 96.45%(96.55%),\tCurrent Time: 20250721-214532\n"
     ]
    },
    {
     "name": "stderr",
     "output_type": "stream",
     "text": [
      "Epoch 20/100: 100%|\u001b[34m█████████████████\u001b[0m| 3000/3000 [00:37<00:00, 80.07batch/s, loss=0.089687]\u001b[0m\n"
     ]
    },
    {
     "name": "stdout",
     "output_type": "stream",
     "text": [
      "\t Loss: 268.615,\tTrain : 97.38%(97.38%),\tTest : 96.55%(96.55%),\tCurrent Time: 20250721-214610\n"
     ]
    },
    {
     "name": "stderr",
     "output_type": "stream",
     "text": [
      "Epoch 21/100: 100%|\u001b[34m█████████████████\u001b[0m| 3000/3000 [00:36<00:00, 81.32batch/s, loss=0.084336]\u001b[0m\n"
     ]
    },
    {
     "name": "stdout",
     "output_type": "stream",
     "text": [
      "\t Loss: 253.917,\tTrain : 97.51%(97.51%),\tTest : 96.81%(96.81%),\tCurrent Time: 20250721-214648\n"
     ]
    },
    {
     "name": "stderr",
     "output_type": "stream",
     "text": [
      "Epoch 22/100: 100%|\u001b[34m█████████████████\u001b[0m| 3000/3000 [00:37<00:00, 79.92batch/s, loss=0.079985]\u001b[0m\n"
     ]
    },
    {
     "name": "stdout",
     "output_type": "stream",
     "text": [
      "\t Loss: 240.825,\tTrain : 97.73%(97.73%),\tTest : 96.77%(96.81%),\tCurrent Time: 20250721-214726\n"
     ]
    },
    {
     "name": "stderr",
     "output_type": "stream",
     "text": [
      "Epoch 23/100: 100%|\u001b[34m█████████████████\u001b[0m| 3000/3000 [00:37<00:00, 80.28batch/s, loss=0.077095]\u001b[0m\n"
     ]
    },
    {
     "name": "stdout",
     "output_type": "stream",
     "text": [
      "\t Loss: 231.781,\tTrain : 97.78%(97.78%),\tTest : 96.65%(96.81%),\tCurrent Time: 20250721-214804\n"
     ]
    },
    {
     "name": "stderr",
     "output_type": "stream",
     "text": [
      "Epoch 24/100: 100%|\u001b[34m█████████████████\u001b[0m| 3000/3000 [00:37<00:00, 79.93batch/s, loss=0.073603]\u001b[0m\n"
     ]
    },
    {
     "name": "stdout",
     "output_type": "stream",
     "text": [
      "\t Loss: 221.349,\tTrain : 97.84%(97.84%),\tTest : 96.38%(96.81%),\tCurrent Time: 20250721-214842\n"
     ]
    },
    {
     "name": "stderr",
     "output_type": "stream",
     "text": [
      "Epoch 25/100: 100%|\u001b[34m█████████████████\u001b[0m| 3000/3000 [00:37<00:00, 80.47batch/s, loss=0.070165]\u001b[0m\n"
     ]
    },
    {
     "name": "stdout",
     "output_type": "stream",
     "text": [
      "\t Loss: 211.575,\tTrain : 97.99%(97.99%),\tTest : 96.94%(96.94%),\tCurrent Time: 20250721-214920\n"
     ]
    },
    {
     "name": "stderr",
     "output_type": "stream",
     "text": [
      "Epoch 26/100: 100%|\u001b[34m█████████████████\u001b[0m| 3000/3000 [00:36<00:00, 81.21batch/s, loss=0.067271]\u001b[0m\n"
     ]
    },
    {
     "name": "stdout",
     "output_type": "stream",
     "text": [
      "\t Loss: 201.848,\tTrain : 98.04%(98.04%),\tTest : 96.99%(96.99%),\tCurrent Time: 20250721-214958\n"
     ]
    },
    {
     "name": "stderr",
     "output_type": "stream",
     "text": [
      "Epoch 27/100: 100%|\u001b[34m█████████████████\u001b[0m| 3000/3000 [00:35<00:00, 84.11batch/s, loss=0.064114]\u001b[0m\n"
     ]
    },
    {
     "name": "stdout",
     "output_type": "stream",
     "text": [
      "\t Loss: 193.542,\tTrain : 98.15%(98.15%),\tTest : 96.96%(96.99%),\tCurrent Time: 20250721-215034\n"
     ]
    },
    {
     "name": "stderr",
     "output_type": "stream",
     "text": [
      "Epoch 28/100: 100%|\u001b[34m█████████████████\u001b[0m| 3000/3000 [00:35<00:00, 83.74batch/s, loss=0.061881]\u001b[0m\n"
     ]
    },
    {
     "name": "stdout",
     "output_type": "stream",
     "text": [
      "\t Loss: 185.823,\tTrain : 98.20%(98.20%),\tTest : 97.06%(97.06%),\tCurrent Time: 20250721-215110\n"
     ]
    },
    {
     "name": "stderr",
     "output_type": "stream",
     "text": [
      "Epoch 29/100: 100%|\u001b[34m█████████████████\u001b[0m| 3000/3000 [00:37<00:00, 80.41batch/s, loss=0.059167]\u001b[0m\n"
     ]
    },
    {
     "name": "stdout",
     "output_type": "stream",
     "text": [
      "\t Loss: 177.129,\tTrain : 98.34%(98.34%),\tTest : 96.46%(97.06%),\tCurrent Time: 20250721-215148\n"
     ]
    },
    {
     "name": "stderr",
     "output_type": "stream",
     "text": [
      "Epoch 30/100: 100%|\u001b[34m█████████████████\u001b[0m| 3000/3000 [00:36<00:00, 82.11batch/s, loss=0.057156]\u001b[0m\n"
     ]
    },
    {
     "name": "stdout",
     "output_type": "stream",
     "text": [
      "\t Loss: 170.736,\tTrain : 98.32%(98.34%),\tTest : 97.25%(97.25%),\tCurrent Time: 20250721-215225\n"
     ]
    },
    {
     "name": "stderr",
     "output_type": "stream",
     "text": [
      "Epoch 31/100: 100%|\u001b[34m█████████████████\u001b[0m| 3000/3000 [00:36<00:00, 81.71batch/s, loss=0.054926]\u001b[0m\n"
     ]
    },
    {
     "name": "stdout",
     "output_type": "stream",
     "text": [
      "\t Loss: 163.550,\tTrain : 98.41%(98.41%),\tTest : 97.04%(97.25%),\tCurrent Time: 20250721-215303\n"
     ]
    },
    {
     "name": "stderr",
     "output_type": "stream",
     "text": [
      "Epoch 32/100: 100%|\u001b[34m█████████████████\u001b[0m| 3000/3000 [00:36<00:00, 82.26batch/s, loss=0.052505]\u001b[0m\n"
     ]
    },
    {
     "name": "stdout",
     "output_type": "stream",
     "text": [
      "\t Loss: 158.060,\tTrain : 98.50%(98.50%),\tTest : 97.04%(97.25%),\tCurrent Time: 20250721-215340\n"
     ]
    },
    {
     "name": "stderr",
     "output_type": "stream",
     "text": [
      "Epoch 33/100: 100%|\u001b[34m█████████████████\u001b[0m| 3000/3000 [00:35<00:00, 83.65batch/s, loss=0.050720]\u001b[0m\n"
     ]
    },
    {
     "name": "stdout",
     "output_type": "stream",
     "text": [
      "\t Loss: 151.487,\tTrain : 98.60%(98.60%),\tTest : 97.04%(97.25%),\tCurrent Time: 20250721-215416\n"
     ]
    },
    {
     "name": "stderr",
     "output_type": "stream",
     "text": [
      "Epoch 34/100: 100%|\u001b[34m█████████████████\u001b[0m| 3000/3000 [00:36<00:00, 82.41batch/s, loss=0.048217]\u001b[0m\n"
     ]
    },
    {
     "name": "stdout",
     "output_type": "stream",
     "text": [
      "\t Loss: 144.788,\tTrain : 98.68%(98.68%),\tTest : 97.25%(97.25%),\tCurrent Time: 20250721-215453\n"
     ]
    },
    {
     "name": "stderr",
     "output_type": "stream",
     "text": [
      "Epoch 35/100: 100%|\u001b[34m█████████████████\u001b[0m| 3000/3000 [00:36<00:00, 81.81batch/s, loss=0.046447]\u001b[0m\n"
     ]
    },
    {
     "name": "stdout",
     "output_type": "stream",
     "text": [
      "\t Loss: 139.562,\tTrain : 98.75%(98.75%),\tTest : 97.05%(97.25%),\tCurrent Time: 20250721-215530\n"
     ]
    },
    {
     "name": "stderr",
     "output_type": "stream",
     "text": [
      "Epoch 36/100: 100%|\u001b[34m█████████████████\u001b[0m| 3000/3000 [00:36<00:00, 83.01batch/s, loss=0.044783]\u001b[0m\n"
     ]
    },
    {
     "name": "stdout",
     "output_type": "stream",
     "text": [
      "\t Loss: 134.689,\tTrain : 98.72%(98.75%),\tTest : 97.25%(97.25%),\tCurrent Time: 20250721-215607\n"
     ]
    },
    {
     "name": "stderr",
     "output_type": "stream",
     "text": [
      "Epoch 37/100: 100%|\u001b[34m█████████████████\u001b[0m| 3000/3000 [00:36<00:00, 81.94batch/s, loss=0.043371]\u001b[0m\n"
     ]
    },
    {
     "name": "stdout",
     "output_type": "stream",
     "text": [
      "\t Loss: 128.840,\tTrain : 98.81%(98.81%),\tTest : 97.22%(97.25%),\tCurrent Time: 20250721-215644\n"
     ]
    },
    {
     "name": "stderr",
     "output_type": "stream",
     "text": [
      "Epoch 38/100: 100%|\u001b[34m█████████████████\u001b[0m| 3000/3000 [00:35<00:00, 83.48batch/s, loss=0.041335]\u001b[0m\n"
     ]
    },
    {
     "name": "stdout",
     "output_type": "stream",
     "text": [
      "\t Loss: 123.952,\tTrain : 98.87%(98.87%),\tTest : 97.17%(97.25%),\tCurrent Time: 20250721-215721\n"
     ]
    },
    {
     "name": "stderr",
     "output_type": "stream",
     "text": [
      "Epoch 39/100: 100%|\u001b[34m█████████████████\u001b[0m| 3000/3000 [00:36<00:00, 82.62batch/s, loss=0.039743]\u001b[0m\n"
     ]
    },
    {
     "name": "stdout",
     "output_type": "stream",
     "text": [
      "\t Loss: 118.859,\tTrain : 98.93%(98.93%),\tTest : 97.34%(97.34%),\tCurrent Time: 20250721-215758\n"
     ]
    },
    {
     "name": "stderr",
     "output_type": "stream",
     "text": [
      "Epoch 40/100: 100%|\u001b[34m█████████████████\u001b[0m| 3000/3000 [00:36<00:00, 81.50batch/s, loss=0.038115]\u001b[0m\n"
     ]
    },
    {
     "name": "stdout",
     "output_type": "stream",
     "text": [
      "\t Loss: 114.874,\tTrain : 98.97%(98.97%),\tTest : 97.39%(97.39%),\tCurrent Time: 20250721-215835\n"
     ]
    },
    {
     "name": "stderr",
     "output_type": "stream",
     "text": [
      "Epoch 41/100: 100%|\u001b[34m█████████████████\u001b[0m| 3000/3000 [00:37<00:00, 80.09batch/s, loss=0.036698]\u001b[0m\n"
     ]
    },
    {
     "name": "stdout",
     "output_type": "stream",
     "text": [
      "\t Loss: 110.214,\tTrain : 99.00%(99.00%),\tTest : 97.37%(97.39%),\tCurrent Time: 20250721-215913\n"
     ]
    },
    {
     "name": "stderr",
     "output_type": "stream",
     "text": [
      "Epoch 42/100: 100%|\u001b[34m█████████████████\u001b[0m| 3000/3000 [00:36<00:00, 81.50batch/s, loss=0.035396]\u001b[0m\n"
     ]
    },
    {
     "name": "stdout",
     "output_type": "stream",
     "text": [
      "\t Loss: 106.365,\tTrain : 99.01%(99.01%),\tTest : 97.39%(97.39%),\tCurrent Time: 20250721-215951\n"
     ]
    },
    {
     "name": "stderr",
     "output_type": "stream",
     "text": [
      "Epoch 43/100: 100%|\u001b[34m█████████████████\u001b[0m| 3000/3000 [00:36<00:00, 82.83batch/s, loss=0.033956]\u001b[0m\n"
     ]
    },
    {
     "name": "stdout",
     "output_type": "stream",
     "text": [
      "\t Loss: 101.104,\tTrain : 99.11%(99.11%),\tTest : 97.42%(97.42%),\tCurrent Time: 20250721-220028\n"
     ]
    },
    {
     "name": "stderr",
     "output_type": "stream",
     "text": [
      "Epoch 44/100: 100%|\u001b[34m█████████████████\u001b[0m| 3000/3000 [00:36<00:00, 81.27batch/s, loss=0.032991]\u001b[0m\n"
     ]
    },
    {
     "name": "stdout",
     "output_type": "stream",
     "text": [
      "\t Loss: 99.036,\tTrain : 99.13%(99.13%),\tTest : 97.36%(97.42%),\tCurrent Time: 20250721-220105\n"
     ]
    },
    {
     "name": "stderr",
     "output_type": "stream",
     "text": [
      "Epoch 45/100: 100%|\u001b[34m█████████████████\u001b[0m| 3000/3000 [00:37<00:00, 80.89batch/s, loss=0.031094]\u001b[0m\n"
     ]
    },
    {
     "name": "stdout",
     "output_type": "stream",
     "text": [
      "\t Loss: 93.798,\tTrain : 99.20%(99.20%),\tTest : 97.50%(97.50%),\tCurrent Time: 20250721-220143\n"
     ]
    },
    {
     "name": "stderr",
     "output_type": "stream",
     "text": [
      "Epoch 46/100: 100%|\u001b[34m█████████████████\u001b[0m| 3000/3000 [00:36<00:00, 82.11batch/s, loss=0.030376]\u001b[0m\n"
     ]
    },
    {
     "name": "stdout",
     "output_type": "stream",
     "text": [
      "\t Loss: 91.479,\tTrain : 99.23%(99.23%),\tTest : 97.53%(97.53%),\tCurrent Time: 20250721-220220\n"
     ]
    },
    {
     "name": "stderr",
     "output_type": "stream",
     "text": [
      "Epoch 47/100: 100%|\u001b[34m█████████████████\u001b[0m| 3000/3000 [00:36<00:00, 82.09batch/s, loss=0.028609]\u001b[0m\n"
     ]
    },
    {
     "name": "stdout",
     "output_type": "stream",
     "text": [
      "\t Loss: 86.851,\tTrain : 99.29%(99.29%),\tTest : 97.51%(97.53%),\tCurrent Time: 20250721-220257\n"
     ]
    },
    {
     "name": "stderr",
     "output_type": "stream",
     "text": [
      "Epoch 48/100: 100%|\u001b[34m█████████████████\u001b[0m| 3000/3000 [00:36<00:00, 82.20batch/s, loss=0.027636]\u001b[0m\n"
     ]
    },
    {
     "name": "stdout",
     "output_type": "stream",
     "text": [
      "\t Loss: 84.063,\tTrain : 99.33%(99.33%),\tTest : 97.49%(97.53%),\tCurrent Time: 20250721-220334\n"
     ]
    },
    {
     "name": "stderr",
     "output_type": "stream",
     "text": [
      "Epoch 49/100: 100%|\u001b[34m█████████████████\u001b[0m| 3000/3000 [00:36<00:00, 82.76batch/s, loss=0.026986]\u001b[0m\n"
     ]
    },
    {
     "name": "stdout",
     "output_type": "stream",
     "text": [
      "\t Loss: 81.261,\tTrain : 99.34%(99.34%),\tTest : 97.33%(97.53%),\tCurrent Time: 20250721-220411\n"
     ]
    },
    {
     "name": "stderr",
     "output_type": "stream",
     "text": [
      "Epoch 50/100: 100%|\u001b[34m█████████████████\u001b[0m| 3000/3000 [00:37<00:00, 79.10batch/s, loss=0.026127]\u001b[0m\n"
     ]
    },
    {
     "name": "stdout",
     "output_type": "stream",
     "text": [
      "\t Loss: 78.126,\tTrain : 99.38%(99.38%),\tTest : 97.55%(97.55%),\tCurrent Time: 20250721-220450\n"
     ]
    },
    {
     "name": "stderr",
     "output_type": "stream",
     "text": [
      "Epoch 51/100: 100%|\u001b[34m█████████████████\u001b[0m| 3000/3000 [00:35<00:00, 83.75batch/s, loss=0.024477]\u001b[0m\n"
     ]
    },
    {
     "name": "stdout",
     "output_type": "stream",
     "text": [
      "\t Loss: 74.333,\tTrain : 99.39%(99.39%),\tTest : 97.41%(97.55%),\tCurrent Time: 20250721-220526\n"
     ]
    },
    {
     "name": "stderr",
     "output_type": "stream",
     "text": [
      "Epoch 52/100: 100%|\u001b[34m█████████████████\u001b[0m| 3000/3000 [00:37<00:00, 81.07batch/s, loss=0.024143]\u001b[0m\n"
     ]
    },
    {
     "name": "stdout",
     "output_type": "stream",
     "text": [
      "\t Loss: 72.837,\tTrain : 99.43%(99.43%),\tTest : 97.38%(97.55%),\tCurrent Time: 20250721-220604\n"
     ]
    },
    {
     "name": "stderr",
     "output_type": "stream",
     "text": [
      "Epoch 53/100: 100%|\u001b[34m█████████████████\u001b[0m| 3000/3000 [00:37<00:00, 80.65batch/s, loss=0.022945]\u001b[0m\n"
     ]
    },
    {
     "name": "stdout",
     "output_type": "stream",
     "text": [
      "\t Loss: 68.904,\tTrain : 99.47%(99.47%),\tTest : 97.34%(97.55%),\tCurrent Time: 20250721-220642\n"
     ]
    },
    {
     "name": "stderr",
     "output_type": "stream",
     "text": [
      "Epoch 54/100: 100%|\u001b[34m█████████████████\u001b[0m| 3000/3000 [00:35<00:00, 83.61batch/s, loss=0.022104]\u001b[0m\n"
     ]
    },
    {
     "name": "stdout",
     "output_type": "stream",
     "text": [
      "\t Loss: 67.178,\tTrain : 99.48%(99.48%),\tTest : 97.49%(97.55%),\tCurrent Time: 20250721-220718\n"
     ]
    },
    {
     "name": "stderr",
     "output_type": "stream",
     "text": [
      "Epoch 55/100: 100%|\u001b[34m█████████████████\u001b[0m| 3000/3000 [00:35<00:00, 84.03batch/s, loss=0.021531]\u001b[0m\n"
     ]
    },
    {
     "name": "stdout",
     "output_type": "stream",
     "text": [
      "\t Loss: 64.034,\tTrain : 99.55%(99.55%),\tTest : 97.58%(97.58%),\tCurrent Time: 20250721-220755\n"
     ]
    },
    {
     "name": "stderr",
     "output_type": "stream",
     "text": [
      "Epoch 56/100: 100%|\u001b[34m█████████████████\u001b[0m| 3000/3000 [00:36<00:00, 81.98batch/s, loss=0.020343]\u001b[0m\n"
     ]
    },
    {
     "name": "stdout",
     "output_type": "stream",
     "text": [
      "\t Loss: 61.962,\tTrain : 99.56%(99.56%),\tTest : 97.44%(97.58%),\tCurrent Time: 20250721-220832\n"
     ]
    },
    {
     "name": "stderr",
     "output_type": "stream",
     "text": [
      "Epoch 57/100: 100%|\u001b[34m█████████████████\u001b[0m| 3000/3000 [00:36<00:00, 82.53batch/s, loss=0.019640]\u001b[0m\n"
     ]
    },
    {
     "name": "stdout",
     "output_type": "stream",
     "text": [
      "\t Loss: 59.366,\tTrain : 99.60%(99.60%),\tTest : 97.63%(97.63%),\tCurrent Time: 20250721-220909\n"
     ]
    },
    {
     "name": "stderr",
     "output_type": "stream",
     "text": [
      "Epoch 58/100: 100%|\u001b[34m█████████████████\u001b[0m| 3000/3000 [00:37<00:00, 80.10batch/s, loss=0.019324]\u001b[0m\n"
     ]
    },
    {
     "name": "stdout",
     "output_type": "stream",
     "text": [
      "\t Loss: 57.384,\tTrain : 99.60%(99.60%),\tTest : 97.56%(97.63%),\tCurrent Time: 20250721-220947\n"
     ]
    },
    {
     "name": "stderr",
     "output_type": "stream",
     "text": [
      "Epoch 59/100: 100%|\u001b[34m█████████████████\u001b[0m| 3000/3000 [00:36<00:00, 81.79batch/s, loss=0.018452]\u001b[0m\n"
     ]
    },
    {
     "name": "stdout",
     "output_type": "stream",
     "text": [
      "\t Loss: 55.072,\tTrain : 99.64%(99.64%),\tTest : 97.52%(97.63%),\tCurrent Time: 20250721-221024\n"
     ]
    },
    {
     "name": "stderr",
     "output_type": "stream",
     "text": [
      "Epoch 60/100: 100%|\u001b[34m█████████████████\u001b[0m| 3000/3000 [00:37<00:00, 79.49batch/s, loss=0.017541]\u001b[0m\n"
     ]
    },
    {
     "name": "stdout",
     "output_type": "stream",
     "text": [
      "\t Loss: 52.968,\tTrain : 99.67%(99.67%),\tTest : 97.46%(97.63%),\tCurrent Time: 20250721-221102\n"
     ]
    },
    {
     "name": "stderr",
     "output_type": "stream",
     "text": [
      "Epoch 61/100: 100%|\u001b[34m█████████████████\u001b[0m| 3000/3000 [00:36<00:00, 82.22batch/s, loss=0.016822]\u001b[0m\n"
     ]
    },
    {
     "name": "stdout",
     "output_type": "stream",
     "text": [
      "\t Loss: 50.884,\tTrain : 99.68%(99.68%),\tTest : 97.58%(97.63%),\tCurrent Time: 20250721-221139\n"
     ]
    },
    {
     "name": "stderr",
     "output_type": "stream",
     "text": [
      "Epoch 62/100: 100%|\u001b[34m█████████████████\u001b[0m| 3000/3000 [00:35<00:00, 84.49batch/s, loss=0.016226]\u001b[0m\n"
     ]
    },
    {
     "name": "stdout",
     "output_type": "stream",
     "text": [
      "\t Loss: 48.665,\tTrain : 99.72%(99.72%),\tTest : 97.69%(97.69%),\tCurrent Time: 20250721-221216\n"
     ]
    },
    {
     "name": "stderr",
     "output_type": "stream",
     "text": [
      "Epoch 63/100: 100%|\u001b[34m█████████████████\u001b[0m| 3000/3000 [00:36<00:00, 81.71batch/s, loss=0.015522]\u001b[0m\n"
     ]
    },
    {
     "name": "stdout",
     "output_type": "stream",
     "text": [
      "\t Loss: 47.072,\tTrain : 99.72%(99.72%),\tTest : 97.54%(97.69%),\tCurrent Time: 20250721-221253\n"
     ]
    },
    {
     "name": "stderr",
     "output_type": "stream",
     "text": [
      "Epoch 64/100: 100%|\u001b[34m█████████████████\u001b[0m| 3000/3000 [00:37<00:00, 80.81batch/s, loss=0.014981]\u001b[0m\n"
     ]
    },
    {
     "name": "stdout",
     "output_type": "stream",
     "text": [
      "\t Loss: 45.289,\tTrain : 99.71%(99.72%),\tTest : 97.58%(97.69%),\tCurrent Time: 20250721-221331\n"
     ]
    },
    {
     "name": "stderr",
     "output_type": "stream",
     "text": [
      "Epoch 65/100: 100%|\u001b[34m█████████████████\u001b[0m| 3000/3000 [00:36<00:00, 83.04batch/s, loss=0.014532]\u001b[0m\n"
     ]
    },
    {
     "name": "stdout",
     "output_type": "stream",
     "text": [
      "\t Loss: 43.655,\tTrain : 99.74%(99.74%),\tTest : 97.60%(97.69%),\tCurrent Time: 20250721-221407\n"
     ]
    },
    {
     "name": "stderr",
     "output_type": "stream",
     "text": [
      "Epoch 66/100: 100%|\u001b[34m█████████████████\u001b[0m| 3000/3000 [00:36<00:00, 83.30batch/s, loss=0.014236]\u001b[0m\n"
     ]
    },
    {
     "name": "stdout",
     "output_type": "stream",
     "text": [
      "\t Loss: 42.576,\tTrain : 99.76%(99.76%),\tTest : 97.66%(97.69%),\tCurrent Time: 20250721-221444\n"
     ]
    },
    {
     "name": "stderr",
     "output_type": "stream",
     "text": [
      "Epoch 67/100: 100%|\u001b[34m█████████████████\u001b[0m| 3000/3000 [00:36<00:00, 82.59batch/s, loss=0.013576]\u001b[0m\n"
     ]
    },
    {
     "name": "stdout",
     "output_type": "stream",
     "text": [
      "\t Loss: 40.330,\tTrain : 99.79%(99.79%),\tTest : 97.70%(97.70%),\tCurrent Time: 20250721-221521\n"
     ]
    },
    {
     "name": "stderr",
     "output_type": "stream",
     "text": [
      "Epoch 68/100: 100%|\u001b[34m█████████████████\u001b[0m| 3000/3000 [00:36<00:00, 81.70batch/s, loss=0.012871]\u001b[0m\n"
     ]
    },
    {
     "name": "stdout",
     "output_type": "stream",
     "text": [
      "\t Loss: 38.681,\tTrain : 99.80%(99.80%),\tTest : 97.63%(97.70%),\tCurrent Time: 20250721-221558\n"
     ]
    },
    {
     "name": "stderr",
     "output_type": "stream",
     "text": [
      "Epoch 69/100: 100%|\u001b[34m█████████████████\u001b[0m| 3000/3000 [00:37<00:00, 80.99batch/s, loss=0.012220]\u001b[0m\n"
     ]
    },
    {
     "name": "stdout",
     "output_type": "stream",
     "text": [
      "\t Loss: 37.195,\tTrain : 99.83%(99.83%),\tTest : 97.50%(97.70%),\tCurrent Time: 20250721-221636\n"
     ]
    },
    {
     "name": "stderr",
     "output_type": "stream",
     "text": [
      "Epoch 70/100: 100%|\u001b[34m█████████████████\u001b[0m| 3000/3000 [00:36<00:00, 81.59batch/s, loss=0.011961]\u001b[0m\n"
     ]
    },
    {
     "name": "stdout",
     "output_type": "stream",
     "text": [
      "\t Loss: 36.128,\tTrain : 99.84%(99.84%),\tTest : 97.79%(97.79%),\tCurrent Time: 20250721-221713\n"
     ]
    },
    {
     "name": "stderr",
     "output_type": "stream",
     "text": [
      "Epoch 71/100: 100%|\u001b[34m█████████████████\u001b[0m| 3000/3000 [00:36<00:00, 82.54batch/s, loss=0.011439]\u001b[0m\n"
     ]
    },
    {
     "name": "stdout",
     "output_type": "stream",
     "text": [
      "\t Loss: 34.373,\tTrain : 99.84%(99.84%),\tTest : 97.66%(97.79%),\tCurrent Time: 20250721-221750\n"
     ]
    },
    {
     "name": "stderr",
     "output_type": "stream",
     "text": [
      "Epoch 72/100: 100%|\u001b[34m█████████████████\u001b[0m| 3000/3000 [00:36<00:00, 81.62batch/s, loss=0.011088]\u001b[0m\n"
     ]
    },
    {
     "name": "stdout",
     "output_type": "stream",
     "text": [
      "\t Loss: 33.325,\tTrain : 99.87%(99.87%),\tTest : 97.70%(97.79%),\tCurrent Time: 20250721-221828\n"
     ]
    },
    {
     "name": "stderr",
     "output_type": "stream",
     "text": [
      "Epoch 73/100: 100%|\u001b[34m█████████████████\u001b[0m| 3000/3000 [00:36<00:00, 82.34batch/s, loss=0.010577]\u001b[0m\n"
     ]
    },
    {
     "name": "stdout",
     "output_type": "stream",
     "text": [
      "\t Loss: 32.293,\tTrain : 99.87%(99.87%),\tTest : 97.62%(97.79%),\tCurrent Time: 20250721-221905\n"
     ]
    },
    {
     "name": "stderr",
     "output_type": "stream",
     "text": [
      "Epoch 74/100: 100%|\u001b[34m█████████████████\u001b[0m| 3000/3000 [00:37<00:00, 80.67batch/s, loss=0.010183]\u001b[0m\n"
     ]
    },
    {
     "name": "stdout",
     "output_type": "stream",
     "text": [
      "\t Loss: 31.061,\tTrain : 99.89%(99.89%),\tTest : 97.66%(97.79%),\tCurrent Time: 20250721-221943\n"
     ]
    },
    {
     "name": "stderr",
     "output_type": "stream",
     "text": [
      "Epoch 75/100: 100%|\u001b[34m█████████████████\u001b[0m| 3000/3000 [00:36<00:00, 82.14batch/s, loss=0.010200]\u001b[0m\n"
     ]
    },
    {
     "name": "stdout",
     "output_type": "stream",
     "text": [
      "\t Loss: 30.418,\tTrain : 99.88%(99.89%),\tTest : 97.75%(97.79%),\tCurrent Time: 20250721-222020\n"
     ]
    },
    {
     "name": "stderr",
     "output_type": "stream",
     "text": [
      "Epoch 76/100: 100%|\u001b[34m█████████████████\u001b[0m| 3000/3000 [00:37<00:00, 80.47batch/s, loss=0.009842]\u001b[0m\n"
     ]
    },
    {
     "name": "stdout",
     "output_type": "stream",
     "text": [
      "\t Loss: 29.455,\tTrain : 99.88%(99.89%),\tTest : 97.68%(97.79%),\tCurrent Time: 20250721-222058\n"
     ]
    },
    {
     "name": "stderr",
     "output_type": "stream",
     "text": [
      "Epoch 77/100: 100%|\u001b[34m█████████████████\u001b[0m| 3000/3000 [00:34<00:00, 86.64batch/s, loss=0.009456]\u001b[0m\n"
     ]
    },
    {
     "name": "stdout",
     "output_type": "stream",
     "text": [
      "\t Loss: 28.459,\tTrain : 99.89%(99.89%),\tTest : 97.70%(97.79%),\tCurrent Time: 20250721-222133\n"
     ]
    },
    {
     "name": "stderr",
     "output_type": "stream",
     "text": [
      "Epoch 78/100: 100%|\u001b[34m█████████████████\u001b[0m| 3000/3000 [00:33<00:00, 89.28batch/s, loss=0.009122]\u001b[0m\n"
     ]
    },
    {
     "name": "stdout",
     "output_type": "stream",
     "text": [
      "\t Loss: 27.384,\tTrain : 99.92%(99.92%),\tTest : 97.69%(97.79%),\tCurrent Time: 20250721-222207\n"
     ]
    },
    {
     "name": "stderr",
     "output_type": "stream",
     "text": [
      "Epoch 79/100: 100%|\u001b[34m█████████████████\u001b[0m| 3000/3000 [00:34<00:00, 87.37batch/s, loss=0.008670]\u001b[0m\n"
     ]
    },
    {
     "name": "stdout",
     "output_type": "stream",
     "text": [
      "\t Loss: 25.932,\tTrain : 99.92%(99.92%),\tTest : 97.77%(97.79%),\tCurrent Time: 20250721-222242\n"
     ]
    },
    {
     "name": "stderr",
     "output_type": "stream",
     "text": [
      "Epoch 80/100: 100%|\u001b[34m█████████████████\u001b[0m| 3000/3000 [00:34<00:00, 86.96batch/s, loss=0.008422]\u001b[0m\n"
     ]
    },
    {
     "name": "stdout",
     "output_type": "stream",
     "text": [
      "\t Loss: 25.168,\tTrain : 99.92%(99.92%),\tTest : 97.76%(97.79%),\tCurrent Time: 20250721-222317\n"
     ]
    },
    {
     "name": "stderr",
     "output_type": "stream",
     "text": [
      "Epoch 81/100: 100%|\u001b[34m█████████████████\u001b[0m| 3000/3000 [00:35<00:00, 85.05batch/s, loss=0.008102]\u001b[0m\n"
     ]
    },
    {
     "name": "stdout",
     "output_type": "stream",
     "text": [
      "\t Loss: 24.494,\tTrain : 99.92%(99.92%),\tTest : 97.75%(97.79%),\tCurrent Time: 20250721-222353\n"
     ]
    },
    {
     "name": "stderr",
     "output_type": "stream",
     "text": [
      "Epoch 82/100: 100%|\u001b[34m█████████████████\u001b[0m| 3000/3000 [00:36<00:00, 81.64batch/s, loss=0.007849]\u001b[0m\n"
     ]
    },
    {
     "name": "stdout",
     "output_type": "stream",
     "text": [
      "\t Loss: 23.627,\tTrain : 99.94%(99.94%),\tTest : 97.69%(97.79%),\tCurrent Time: 20250721-222430\n"
     ]
    },
    {
     "name": "stderr",
     "output_type": "stream",
     "text": [
      "Epoch 83/100: 100%|\u001b[34m█████████████████\u001b[0m| 3000/3000 [00:36<00:00, 82.05batch/s, loss=0.007623]\u001b[0m\n"
     ]
    },
    {
     "name": "stdout",
     "output_type": "stream",
     "text": [
      "\t Loss: 22.853,\tTrain : 99.94%(99.94%),\tTest : 97.77%(97.79%),\tCurrent Time: 20250721-222507\n"
     ]
    },
    {
     "name": "stderr",
     "output_type": "stream",
     "text": [
      "Epoch 84/100: 100%|\u001b[34m█████████████████\u001b[0m| 3000/3000 [00:37<00:00, 80.65batch/s, loss=0.007296]\u001b[0m\n"
     ]
    },
    {
     "name": "stdout",
     "output_type": "stream",
     "text": [
      "\t Loss: 21.968,\tTrain : 99.94%(99.94%),\tTest : 97.60%(97.79%),\tCurrent Time: 20250721-222545\n"
     ]
    },
    {
     "name": "stderr",
     "output_type": "stream",
     "text": [
      "Epoch 85/100: 100%|\u001b[34m█████████████████\u001b[0m| 3000/3000 [00:37<00:00, 80.81batch/s, loss=0.007200]\u001b[0m\n"
     ]
    },
    {
     "name": "stdout",
     "output_type": "stream",
     "text": [
      "\t Loss: 21.414,\tTrain : 99.97%(99.97%),\tTest : 97.72%(97.79%),\tCurrent Time: 20250721-222623\n"
     ]
    },
    {
     "name": "stderr",
     "output_type": "stream",
     "text": [
      "Epoch 86/100: 100%|\u001b[34m█████████████████\u001b[0m| 3000/3000 [00:36<00:00, 81.77batch/s, loss=0.006878]\u001b[0m\n"
     ]
    },
    {
     "name": "stdout",
     "output_type": "stream",
     "text": [
      "\t Loss: 20.680,\tTrain : 99.94%(99.97%),\tTest : 97.67%(97.79%),\tCurrent Time: 20250721-222700\n"
     ]
    },
    {
     "name": "stderr",
     "output_type": "stream",
     "text": [
      "Epoch 87/100: 100%|\u001b[34m█████████████████\u001b[0m| 3000/3000 [00:37<00:00, 79.12batch/s, loss=0.006695]\u001b[0m\n"
     ]
    },
    {
     "name": "stdout",
     "output_type": "stream",
     "text": [
      "\t Loss: 20.159,\tTrain : 99.95%(99.97%),\tTest : 97.74%(97.79%),\tCurrent Time: 20250721-222739\n"
     ]
    },
    {
     "name": "stderr",
     "output_type": "stream",
     "text": [
      "Epoch 88/100: 100%|\u001b[34m█████████████████\u001b[0m| 3000/3000 [00:37<00:00, 80.16batch/s, loss=0.006500]\u001b[0m\n"
     ]
    },
    {
     "name": "stdout",
     "output_type": "stream",
     "text": [
      "\t Loss: 19.581,\tTrain : 99.95%(99.97%),\tTest : 97.67%(97.79%),\tCurrent Time: 20250721-222817\n"
     ]
    },
    {
     "name": "stderr",
     "output_type": "stream",
     "text": [
      "Epoch 89/100: 100%|\u001b[34m█████████████████\u001b[0m| 3000/3000 [00:36<00:00, 82.11batch/s, loss=0.006301]\u001b[0m\n"
     ]
    },
    {
     "name": "stdout",
     "output_type": "stream",
     "text": [
      "\t Loss: 18.807,\tTrain : 99.96%(99.97%),\tTest : 97.73%(97.79%),\tCurrent Time: 20250721-222854\n"
     ]
    },
    {
     "name": "stderr",
     "output_type": "stream",
     "text": [
      "Epoch 90/100: 100%|\u001b[34m█████████████████\u001b[0m| 3000/3000 [00:36<00:00, 82.35batch/s, loss=0.006005]\u001b[0m\n"
     ]
    },
    {
     "name": "stdout",
     "output_type": "stream",
     "text": [
      "\t Loss: 18.120,\tTrain : 99.97%(99.97%),\tTest : 97.77%(97.79%),\tCurrent Time: 20250721-222931\n"
     ]
    },
    {
     "name": "stderr",
     "output_type": "stream",
     "text": [
      "Epoch 91/100: 100%|\u001b[34m█████████████████\u001b[0m| 3000/3000 [00:36<00:00, 81.43batch/s, loss=0.005851]\u001b[0m\n"
     ]
    },
    {
     "name": "stdout",
     "output_type": "stream",
     "text": [
      "\t Loss: 17.516,\tTrain : 99.98%(99.98%),\tTest : 97.76%(97.79%),\tCurrent Time: 20250721-223008\n"
     ]
    },
    {
     "name": "stderr",
     "output_type": "stream",
     "text": [
      "Epoch 92/100: 100%|\u001b[34m█████████████████\u001b[0m| 3000/3000 [00:37<00:00, 80.34batch/s, loss=0.005723]\u001b[0m\n"
     ]
    },
    {
     "name": "stdout",
     "output_type": "stream",
     "text": [
      "\t Loss: 17.090,\tTrain : 99.97%(99.98%),\tTest : 97.74%(97.79%),\tCurrent Time: 20250721-223046\n"
     ]
    },
    {
     "name": "stderr",
     "output_type": "stream",
     "text": [
      "Epoch 93/100: 100%|\u001b[34m█████████████████\u001b[0m| 3000/3000 [00:36<00:00, 81.86batch/s, loss=0.005492]\u001b[0m\n"
     ]
    },
    {
     "name": "stdout",
     "output_type": "stream",
     "text": [
      "\t Loss: 16.553,\tTrain : 99.97%(99.98%),\tTest : 97.70%(97.79%),\tCurrent Time: 20250721-223124\n"
     ]
    },
    {
     "name": "stderr",
     "output_type": "stream",
     "text": [
      "Epoch 94/100: 100%|\u001b[34m█████████████████\u001b[0m| 3000/3000 [00:36<00:00, 83.24batch/s, loss=0.005373]\u001b[0m\n"
     ]
    },
    {
     "name": "stdout",
     "output_type": "stream",
     "text": [
      "\t Loss: 16.234,\tTrain : 99.98%(99.98%),\tTest : 97.64%(97.79%),\tCurrent Time: 20250721-223200\n"
     ]
    },
    {
     "name": "stderr",
     "output_type": "stream",
     "text": [
      "Epoch 95/100: 100%|\u001b[34m█████████████████\u001b[0m| 3000/3000 [00:35<00:00, 85.70batch/s, loss=0.005180]\u001b[0m\n"
     ]
    },
    {
     "name": "stdout",
     "output_type": "stream",
     "text": [
      "\t Loss: 15.615,\tTrain : 99.98%(99.98%),\tTest : 97.73%(97.79%),\tCurrent Time: 20250721-223236\n"
     ]
    },
    {
     "name": "stderr",
     "output_type": "stream",
     "text": [
      "Epoch 96/100: 100%|\u001b[34m█████████████████\u001b[0m| 3000/3000 [00:34<00:00, 88.11batch/s, loss=0.005115]\u001b[0m\n"
     ]
    },
    {
     "name": "stdout",
     "output_type": "stream",
     "text": [
      "\t Loss: 15.309,\tTrain : 99.98%(99.98%),\tTest : 97.81%(97.81%),\tCurrent Time: 20250721-223311\n"
     ]
    },
    {
     "name": "stderr",
     "output_type": "stream",
     "text": [
      "Epoch 97/100: 100%|\u001b[34m█████████████████\u001b[0m| 3000/3000 [00:33<00:00, 88.60batch/s, loss=0.005021]\u001b[0m\n"
     ]
    },
    {
     "name": "stdout",
     "output_type": "stream",
     "text": [
      "\t Loss: 15.025,\tTrain : 99.99%(99.99%),\tTest : 97.75%(97.81%),\tCurrent Time: 20250721-223345\n"
     ]
    },
    {
     "name": "stderr",
     "output_type": "stream",
     "text": [
      "Epoch 98/100: 100%|\u001b[34m█████████████████\u001b[0m| 3000/3000 [00:34<00:00, 86.25batch/s, loss=0.004748]\u001b[0m\n"
     ]
    },
    {
     "name": "stdout",
     "output_type": "stream",
     "text": [
      "\t Loss: 14.375,\tTrain : 99.98%(99.99%),\tTest : 97.66%(97.81%),\tCurrent Time: 20250721-223420\n"
     ]
    },
    {
     "name": "stderr",
     "output_type": "stream",
     "text": [
      "Epoch 99/100: 100%|\u001b[34m█████████████████\u001b[0m| 3000/3000 [00:34<00:00, 86.09batch/s, loss=0.004708]\u001b[0m\n"
     ]
    },
    {
     "name": "stdout",
     "output_type": "stream",
     "text": [
      "\t Loss: 14.214,\tTrain : 99.99%(99.99%),\tTest : 97.75%(97.81%),\tCurrent Time: 20250721-223456\n"
     ]
    },
    {
     "name": "stderr",
     "output_type": "stream",
     "text": [
      "Epoch 100/100: 100%|\u001b[34m████████████████\u001b[0m| 3000/3000 [00:34<00:00, 87.23batch/s, loss=0.004553]\u001b[0m\n"
     ]
    },
    {
     "name": "stdout",
     "output_type": "stream",
     "text": [
      "\t Loss: 13.697,\tTrain : 99.98%(99.99%),\tTest : 97.80%(97.81%),\tCurrent Time: 20250721-223531\n",
      "EP_L3_MNIST_First_symm_LN_t2sta2_bs20_lrsame-EP_b_sc0.01-EP_It2sta18- Time: 20250721-223531, Epochs: 100, Learning Rate: 0.001, Best: 99.99%  97.81%\n",
      "\n"
     ]
    }
   ],
   "source": [
    "for iPara in range( len(ParaRange) ):\n",
    "    for iM in range( len(M_range) ):\n",
    "        for  imultitest in range((multitest)):\n",
    "            config.EP_b_sc = M_range[iM]\n",
    "            config.nL_hidd = ParaRange[iPara]\n",
    "\n",
    "            #-----------------\n",
    "            config.EP_It2sta = 10 if config.nL_hidd==2 else 18\n",
    "            config.EP_It2sta2 = 5 if config.nL_hidd==2 else 10\n",
    "            # ---------------------------------\n",
    "            model = FNN_LN(config).to(device)\n",
    "\n",
    "            taskinfo = f'EP_L{config.nL_hidd}_{config.train_task}_{ParaName}-EP_b_sc{M_range[iM]}-EP_It2sta{config.EP_It2sta}-{Einfo}'\n",
    "            print(taskinfo)\n",
    "\n",
    "            ## Train\n",
    "\n",
    "            for epoch in range(config.train_n_epochs):\n",
    "                losssum = 0\n",
    "                train_correct = 0\n",
    "                train_total = 0\n",
    "                random.shuffle(train_loader_gpu)\n",
    "                with tqdm(total=len(train_loader_gpu), desc=f'Epoch {epoch + 1}/{config.train_n_epochs}: ', unit='batch', ncols=90, mininterval=1, colour='blue') as pbar:\n",
    "                    for i, (images, labels) in enumerate(train_loader_gpu):\n",
    "                        # \n",
    "                        images = images.view(-1, config.n_input)\n",
    "                        labels_one_hot = one_hot(labels, config.n_out, device=device)\n",
    "                        # \n",
    "                        outputs = model.forward(images)\n",
    "                        _, predicted = torch.max(outputs, 1)\n",
    "                        # \n",
    "                        loss = cross_entropy_loss(outputs, labels_one_hot.to(device))\n",
    "                        losssum += loss.item()\n",
    "                        #\n",
    "                        outputs = model.backward(images, labels_one_hot, outputs)\n",
    "                        # \n",
    "                        model.update_weights_adam() if config.adam else model.update_weights(lr=[0.1,0.1,0.1,0.1]) #model.update_weights_adam() model.update_weights()\n",
    "                        # \n",
    "                        if i % 100 == 0: \n",
    "                            pbar.set_postfix({'loss': f'{losssum/(i+1):.6f}'})  \n",
    "                            pbar.update(100)\n",
    "\n",
    "                # SR, ftmle, mle, zall = model.Lyapunov_EP(images[-1:,:], y=None, t_e=500, ret_zall=True)\n",
    "                # if imultitest==0: zall_list[iM][iPara].append(zall)\n",
    "\n",
    "                # terr = model.ret_error()\n",
    "                # eall_list[iM][iPara][imultitest].append(terr)\n",
    "\n",
    "                # # train set ------------------------------------------------------------\n",
    "                # losssum = 0\n",
    "                # for images, labels in valid_loader_gpu:\n",
    "                #     images = images.view(-1, config.n_input)\n",
    "                #     labels_one_hot = one_hot(labels, config.n_out, device=device)\n",
    "                #     # \n",
    "                #     outputs = model.forward(images)\n",
    "\n",
    "                    # loss = cross_entropy_loss(outputs, labels_one_hot.to(device))\n",
    "                        # losssum += loss.item()\n",
    "                        train_total += labels.size(0)\n",
    "                        train_correct += (predicted == labels).sum().item()\n",
    "\n",
    "                train_accuracy = train_correct / train_total\n",
    "\n",
    "                # test set -------------------------------------------------------------\n",
    "                test_correct = 0\n",
    "                test_total = 0\n",
    "                # ---------\n",
    "                for images, labels in test_loader_gpu:\n",
    "                    images = images.view(-1, config.n_input)\n",
    "                    # \n",
    "                    outputs = model.forward(images)\n",
    "\n",
    "                    _, predicted = torch.max(outputs, 1)\n",
    "                    test_total += labels.size(0)\n",
    "                    test_correct += (predicted == labels).sum().item()\n",
    "\n",
    "                test_accuracy = test_correct / test_total\n",
    "\n",
    "                res[iM][iPara][imultitest][0][epoch] = losssum\n",
    "                res[iM][iPara][imultitest][1][epoch] = train_accuracy\n",
    "                res[iM][iPara][imultitest][2][epoch] = test_accuracy\n",
    "                # res[iM][iPara][imultitest][3][epoch] = ftmle\n",
    "                # res[iM][iPara][imultitest][4][epoch] = mle\n",
    "                # res[iM][iPara][imultitest][5][epoch] = SR\n",
    "\n",
    "                current_time = time.strftime(\"%Y%m%d-%H%M%S\", time.localtime())\n",
    "                print(f'\\t Loss: {res[iM][iPara][imultitest][0][epoch] :.3f},\\t'\n",
    "                    f'Train : {res[iM][iPara][imultitest][1][epoch] * 100:.2f}%({np.max(res[iM][iPara][imultitest][1]) * 100:.2f}%),\\t'\n",
    "                    f'Test : {res[iM][iPara][imultitest][2][epoch] * 100:.2f}%({np.max(res[iM][iPara][imultitest][2]) * 100:.2f}%),\\t'\n",
    "                    f'Current Time: {current_time}')\n",
    "                \n",
    "                # if 1-train_accuracy <1e-4:\n",
    "                #     break\n",
    "            \n",
    "            # best result\n",
    "            print(f\"{taskinfo} Time: {current_time}, Epochs: {config.train_n_epochs}, Learning Rate: {config.train_eta_global}, \"\n",
    "                f\"Best: {max(res[iM][iPara][imultitest][1]) * 100:.2f}%  {max(res[iM][iPara][imultitest][2]) * 100:.2f}%\\n\")\n",
    "            \n",
    "        for attempt in range(5):\n",
    "            try:\n",
    "                with open(res_path/\"res.txt\", \"a\") as f:\n",
    "                    trainacct = np.max(res[iM][iPara][:,1,:], axis=-1)\n",
    "                    testacct = np.max(res[iM][iPara][:,2,:], axis=-1)\n",
    "                    f.write(f\"{taskinfo} Time: {current_time}: \"\n",
    "                            f\"train: {np.mean(trainacct) * 100:.2f}%+-{np.std(trainacct, ddof=1)*100:.2f}% ({np.min(trainacct) * 100:.2f}% {np.max(trainacct) * 100:.2f}%)\"\n",
    "                            f\"\\t test: {np.mean(testacct) * 100:.2f}%+-{np.std(testacct, ddof=1)*100:.2f}% ({np.min(testacct) * 100:.2f}% {np.max(testacct) * 100:.2f}%)\\n\")\n",
    "\n",
    "                    for attr_name in dir(config):\n",
    "                        if not attr_name.startswith('__') and not callable(getattr(config, attr_name)):  \n",
    "                            attr_value = getattr(config, attr_name)\n",
    "                            f.write(f'{attr_name}: {attr_value}  ')  \n",
    "                    f.write(f'\\n\\n')  \n",
    "\n",
    "                break  # \n",
    "            except PermissionError:\n",
    "                if attempt < 5 - 1:\n",
    "                    print(f\"Permission denied, retrying in {5} seconds...\")\n",
    "                    time.sleep(5)\n",
    "                else:\n",
    "                    raise  # \n",
    "                        \n",
    "                "
   ]
  },
  {
   "cell_type": "code",
   "execution_count": 8,
   "id": "38bb47c8",
   "metadata": {},
   "outputs": [],
   "source": [
    "# ---------------------------\n",
    "current_time = time.strftime(\"%Y%m%d-%H%M%S\", time.localtime())\n",
    "if config.save: \n",
    "    save_dict = {\n",
    "        \"M_range\": M_range,\n",
    "        \"ParaRange\": ParaRange,\n",
    "        \"multitest\": multitest,\n",
    "        \"train_task\": config.train_task,\n",
    "        \"res\": res,\n",
    "    }\n",
    "    np.savez_compressed(res_path / f\"{taskinfo}_{current_time}_res\",  **save_dict)\n",
    "\n",
    "    # save_dict = {\n",
    "    #     f\"eall_{i}_{j}_{k}\": np.array(eall_list[i][j][k])  # \n",
    "    #     for i in range(len(M_range))\n",
    "    #     for j in range(len(ParaRange))\n",
    "    #     for k in range(multitest)\n",
    "    # }\n",
    "    # np.savez_compressed(res_path / f\"{taskinfo}_{current_time}_E\", **save_dict)\n",
    "\n",
    "    # save_dict = {\n",
    "    #     f\"zall_{i}_{j}\": np.array(zall_list[i][j])  # \n",
    "    #     for i in range(len(M_range))\n",
    "    #     for j in range(len(ParaRange))\n",
    "    # }\n",
    "    # np.savez_compressed(res_path / f\"{taskinfo}_{current_time}_dyn\", **save_dict)\n",
    "\n",
    "\n"
   ]
  },
  {
   "cell_type": "code",
   "execution_count": 9,
   "id": "37e2b4ac",
   "metadata": {},
   "outputs": [
    {
     "name": "stdout",
     "output_type": "stream",
     "text": [
      "EP_L3_MNIST_First_symm_LN_t2sta2_bs20_lrsame-EP_b_sc0.01-EP_It2sta18- Time: 20250721-223531: train: 99.98%+-0.01% (99.97% 99.99%)\t test: 97.83%+-0.13% (97.68% 98.04%)\n",
      "\n"
     ]
    }
   ],
   "source": [
    "\n",
    "for iM in range( len(M_range) ):\n",
    "    for iPara in range( len(ParaRange) ):        \n",
    "        tt = res[iM][iPara]\n",
    "        tt = np.max(tt[:,2,:], axis= -1)\n",
    "        testacctt = np.mean(tt, axis=0)\n",
    "\n",
    "        tt = res[iM][iPara]\n",
    "        tt = np.max(tt[:,1,:], axis= -1)\n",
    "        trainacctt = np.mean(tt, axis=0)\n",
    "\n",
    "        print(f\"{taskinfo} Time: {current_time}: \"\n",
    "            f\"train: {np.mean(trainacct) * 100:.2f}%+-{np.std(trainacct, ddof=1)*100:.2f}% ({np.min(trainacct) * 100:.2f}% {np.max(trainacct) * 100:.2f}%)\"\n",
    "            f\"\\t test: {np.mean(testacct) * 100:.2f}%+-{np.std(testacct, ddof=1)*100:.2f}% ({np.min(testacct) * 100:.2f}% {np.max(testacct) * 100:.2f}%)\\n\")"
   ]
  }
 ],
 "metadata": {
  "kernelspec": {
   "display_name": "Python 3",
   "language": "python",
   "name": "python3"
  },
  "language_info": {
   "codemirror_mode": {
    "name": "ipython",
    "version": 3
   },
   "file_extension": ".py",
   "mimetype": "text/x-python",
   "name": "python",
   "nbconvert_exporter": "python",
   "pygments_lexer": "ipython3",
   "version": "3.9.20"
  }
 },
 "nbformat": 4,
 "nbformat_minor": 5
}
