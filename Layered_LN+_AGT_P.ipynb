{
 "cells": [
  {
   "cell_type": "code",
   "execution_count": 1,
   "id": "f9d11af5",
   "metadata": {},
   "outputs": [
    {
     "data": {
      "text/plain": [
       "<torch.autograd.grad_mode.set_grad_enabled at 0x2099f464fd0>"
      ]
     },
     "execution_count": 1,
     "metadata": {},
     "output_type": "execute_result"
    }
   ],
   "source": [
    "import torch\n",
    "import torchvision.transforms as transforms\n",
    "from torch.utils.data import DataLoader, Subset\n",
    "import numpy as np\n",
    "import matplotlib.pyplot as plt\n",
    "import random\n",
    "import time\n",
    "from tqdm import tqdm  # \n",
    "from pathlib import Path\n",
    "\n",
    "\n",
    "from models_LN_G import EPNN_LN, dataset, one_hot, cross_entropy_loss, linear, linear_d, tanh, tanh_d, sign, sign_d, sigmoid, sigmoid_d, relu, relu_d, relu6, relu6_d, softmax, softmax_d\n",
    "\n",
    "torch.set_grad_enabled(False)\n"
   ]
  },
  {
   "cell_type": "code",
   "execution_count": 2,
   "id": "7053ee30",
   "metadata": {},
   "outputs": [
    {
     "name": "stdout",
     "output_type": "stream",
     "text": [
      "cuda:True\n",
      "GPU 0:NVIDIA GeForce RTX 4070:11.99GB\n"
     ]
    }
   ],
   "source": [
    "\n",
    "seed = 42\n",
    "random.seed(seed)\n",
    "np.random.seed(seed)\n",
    "torch.manual_seed(seed)\n",
    "if torch.cuda.is_available():\n",
    "    torch.cuda.manual_seed(seed)\n",
    "    torch.cuda.manual_seed_all(seed)\n",
    "# torch.backends.cudnn.deterministic = True\n",
    "# torch.backends.cudnn.benchmark = False\n",
    "torch.backends.cudnn.benchmark = True\n",
    "\n",
    "\n",
    "if torch.cuda.is_available():\n",
    "    print(f\"cuda:True\")\n",
    "    for i in range(torch.cuda.device_count()):\n",
    "        device = torch.device(f\"cuda:{i}\")\n",
    "        properties = torch.cuda.get_device_properties(device)\n",
    "        print(f\"GPU {i}:{properties.name}:{properties.total_memory/1024/1024/1024:.2f}GB\")\n",
    "else:\n",
    "    print(f\"cuda:False\")\n",
    "    device = torch.device(\"cpu\")"
   ]
  },
  {
   "cell_type": "code",
   "execution_count": 3,
   "id": "e0032328",
   "metadata": {},
   "outputs": [],
   "source": [
    "\n",
    "#========================================================\n",
    "# W_conn = [wij]\n",
    "# i row: input \n",
    "# j col: output\n",
    "# 0:input layer     ...:hidden layer    -1:output layer\n",
    "#--------------------------------------------------------\n",
    "def make_W_conn(n_hidden, startres=-1, block_size=2):\n",
    "    \"\"\"\n",
    "    Generate the connectivity matrix W_conn:\n",
    "      - Total nodes N = 1 (input) + n_hidden + 1 (output)\n",
    "      - Bidirectional connections between adjacent layers (i <-> i+1)\n",
    "      - Residual connections: from the start of each block, skip one block and connect forward\n",
    "        (for block_size=2, startres=1, that is i -> i+3, e.g. 2->5, 4->7, 6->9…)\n",
    "    \"\"\"\n",
    "    N = n_hidden + 2\n",
    "    W = np.zeros((N, N), dtype=int)\n",
    "\n",
    "    # connect each layer to the next (both directions)\n",
    "    for i in range(N - 1):\n",
    "        W[i, i + 1] = 1\n",
    "        W[i + 1, i] = 1\n",
    "\n",
    "    W[1, 0]=0\n",
    "    # add residual (skip) connections\n",
    "    if startres>0:\n",
    "        for start in range(startres, N, block_size):\n",
    "            target = start + block_size \n",
    "            if target < N:\n",
    "                W[start, target] = 1\n",
    "                W[target, start] = 1\n",
    "\n",
    "    return W\n",
    "import numpy as np\n",
    "\n",
    "def make_W_conn_random(n_hidden, a=0.5, input_to_output=False, seed=None):\n",
    "    \"\"\"\n",
    "    Generate a random connectivity matrix W_conn with connection probability 'a'.\n",
    "    \n",
    "    Parameters:\n",
    "    - n_hidden: Number of hidden layers (total nodes = 1 input + n_hidden + 1 output = N)\n",
    "    - a: Connection probability (0 ≤ a ≤ 1)\n",
    "    - input_to_output: If True, allows direct input->output connection\n",
    "    - seed: Random seed for reproducibility\n",
    "    \n",
    "    Returns:\n",
    "    - W: N x N binary connectivity matrix (1 = connection exists, 0 = no connection)\n",
    "    \"\"\"\n",
    "    if seed is not None:\n",
    "        np.random.seed(seed)\n",
    "    \n",
    "    N = n_hidden + 2  # Total nodes: input (0), hidden (1..n_hidden), output (N-1)\n",
    "    W = np.zeros((N, N), dtype=int)\n",
    "\n",
    "    for i in range(N - 1):\n",
    "        W[i, i + 1] = 1\n",
    "        W[i + 1, i] = 1\n",
    "    W[1, 0]=0\n",
    "    # Random connections (excluding self-loops)\n",
    "    for i in range(1,N-1):\n",
    "        for j in range(1,N-1):\n",
    "            if i != j:  # No self-connections\n",
    "                if np.random.rand() < a:\n",
    "                    W[i, j] = 1\n",
    "    \n",
    "    # Ensure input (0) and output (N-1) are not disconnected\n",
    "    if not input_to_output:\n",
    "        # Ensure input is connected to at least one hidden node\n",
    "        if np.sum(W[0, 1:-1]) == 0:\n",
    "            j = np.random.randint(1, N-1)\n",
    "            W[0, j] = 1\n",
    "        \n",
    "        # Ensure output is connected to at least one hidden node\n",
    "        if np.sum(W[1:-1, -1]) == 0:\n",
    "            i = np.random.randint(1, N-1)\n",
    "            W[i, -1] = 1\n",
    "    \n",
    "    return W"
   ]
  },
  {
   "cell_type": "code",
   "execution_count": 4,
   "id": "752c0143",
   "metadata": {},
   "outputs": [],
   "source": [
    "\n",
    "NL = 10\n",
    "nodes = [28*28] + [64]*NL + [10]\n",
    "# -------------------\n",
    "Para_EP = {\n",
    "     'EP_symm_W': False,\n",
    "     'fsc': 1,\n",
    "     'bsc': 0.1,\n",
    "     'nudge': 0.1,\n",
    "     'It2sta': (len(nodes)-2)*5,\n",
    "     'It2sta2': (len(nodes)-2)*2,\n",
    "     }\n",
    "\n",
    "# training:\n",
    "Para_t = {\n",
    "     'f': tanh,\n",
    "     'fd': tanh_d,\n",
    "     'ff': softmax,\n",
    "     'ffd': softmax_d,\n",
    "\n",
    "     'adam': True,\n",
    "     'eta': 1e-3,\n",
    "     'epoch': 50,\n",
    "     'batchsize': 500,\n",
    "     'task': \"MNIST\",\n",
    "     'method': 'EP' ,\n",
    "     \n",
    "     'bias_learn': False,\n",
    "     'bias_init_sc':0,\n",
    "     }"
   ]
  },
  {
   "cell_type": "code",
   "execution_count": 5,
   "id": "9d1fe607",
   "metadata": {},
   "outputs": [],
   "source": [
    "# \n",
    "fsave = True\n",
    "\n",
    "##\n",
    "Task_info = f\"First_asymm_AG_N-HL_resP\"\n",
    "# Task_info = f\"Test\"\n",
    "Einfo = ''\n",
    "\n",
    "res_path = Path(f\"./Res/{Task_info}\")\n",
    "M_range = [0, 0.02, 0.1, 0.2, 0.5, 1] # 0, 0.02, 0.1, 0.2, 0.5, 1\n",
    "ParaRange = [10] # 10, 20, 40\n",
    "multitest = 5"
   ]
  },
  {
   "cell_type": "code",
   "execution_count": 6,
   "id": "4b1c0ad2",
   "metadata": {},
   "outputs": [],
   "source": [
    "res_path.mkdir(parents=True, exist_ok=True)\n",
    "res = np.zeros((len(M_range),len(ParaRange),(multitest),6,Para_t['epoch']))\n",
    "\n",
    "zall_list = [[[] for _ in range(len(ParaRange))] for _ in range(len(M_range))]\n",
    "eall_list = [[[[] for _ in range((multitest))] for _ in range(len(ParaRange))] for _ in range(len(M_range))]\n"
   ]
  },
  {
   "cell_type": "code",
   "execution_count": 7,
   "id": "d92d1556",
   "metadata": {},
   "outputs": [
    {
     "name": "stdout",
     "output_type": "stream",
     "text": [
      "[[0 1 0 0 0 0 0 0 0 0 0 0]\n",
      " [0 0 1 0 0 0 0 0 0 0 0 0]\n",
      " [0 1 0 1 0 0 0 0 0 0 0 0]\n",
      " [0 0 1 0 1 0 0 0 0 0 0 0]\n",
      " [0 0 0 1 0 1 0 0 0 0 0 0]\n",
      " [0 0 0 0 1 0 1 0 0 0 0 0]\n",
      " [0 0 0 0 0 1 0 1 0 0 0 0]\n",
      " [0 0 0 0 0 0 1 0 1 0 0 0]\n",
      " [0 0 0 0 0 0 0 1 0 1 0 0]\n",
      " [0 0 0 0 0 0 0 0 1 0 1 0]\n",
      " [0 0 0 0 0 0 0 0 0 1 0 1]\n",
      " [0 0 0 0 0 0 0 0 0 0 1 0]]\n",
      "First_asymm_AG_N-HL_resP-EP_L10-P0-MNIST_EP_b_sc0.1-\n"
     ]
    },
    {
     "name": "stderr",
     "output_type": "stream",
     "text": [
      "Epoch 1/50:: 100%|\u001b[34m████████████████████\u001b[0m| 120/120 [00:02<00:00, 47.24batch/s, loss=2.144362]\u001b[0m\n"
     ]
    },
    {
     "name": "stdout",
     "output_type": "stream",
     "text": [
      "\t Loss: 257.323,\tTrain : 23.43%(23.43%),\tTest : 38.66%(38.66%),\tCurrent Time: 20250917-190344\n"
     ]
    },
    {
     "name": "stderr",
     "output_type": "stream",
     "text": [
      "Epoch 2/50:: 100%|\u001b[34m████████████████████\u001b[0m| 120/120 [00:02<00:00, 49.40batch/s, loss=1.625113]\u001b[0m\n"
     ]
    },
    {
     "name": "stdout",
     "output_type": "stream",
     "text": [
      "\t Loss: 195.014,\tTrain : 46.11%(46.11%),\tTest : 54.22%(54.22%),\tCurrent Time: 20250917-190346\n"
     ]
    },
    {
     "name": "stderr",
     "output_type": "stream",
     "text": [
      "Epoch 3/50:: 100%|\u001b[34m████████████████████\u001b[0m| 120/120 [00:02<00:00, 49.46batch/s, loss=1.351501]\u001b[0m\n"
     ]
    },
    {
     "name": "stdout",
     "output_type": "stream",
     "text": [
      "\t Loss: 162.180,\tTrain : 56.16%(56.16%),\tTest : 61.01%(61.01%),\tCurrent Time: 20250917-190349\n"
     ]
    },
    {
     "name": "stderr",
     "output_type": "stream",
     "text": [
      "Epoch 4/50:: 100%|\u001b[34m████████████████████\u001b[0m| 120/120 [00:02<00:00, 49.84batch/s, loss=1.141058]\u001b[0m\n"
     ]
    },
    {
     "name": "stdout",
     "output_type": "stream",
     "text": [
      "\t Loss: 136.927,\tTrain : 64.86%(64.86%),\tTest : 68.61%(68.61%),\tCurrent Time: 20250917-190351\n"
     ]
    },
    {
     "name": "stderr",
     "output_type": "stream",
     "text": [
      "Epoch 5/50:: 100%|\u001b[34m████████████████████\u001b[0m| 120/120 [00:02<00:00, 49.68batch/s, loss=1.001972]\u001b[0m\n"
     ]
    },
    {
     "name": "stdout",
     "output_type": "stream",
     "text": [
      "\t Loss: 120.237,\tTrain : 70.13%(70.13%),\tTest : 72.87%(72.87%),\tCurrent Time: 20250917-190354\n"
     ]
    },
    {
     "name": "stderr",
     "output_type": "stream",
     "text": [
      "Epoch 6/50:: 100%|\u001b[34m████████████████████\u001b[0m| 120/120 [00:02<00:00, 49.80batch/s, loss=0.904929]\u001b[0m\n"
     ]
    },
    {
     "name": "stdout",
     "output_type": "stream",
     "text": [
      "\t Loss: 108.591,\tTrain : 73.04%(73.04%),\tTest : 74.83%(74.83%),\tCurrent Time: 20250917-190356\n"
     ]
    },
    {
     "name": "stderr",
     "output_type": "stream",
     "text": [
      "Epoch 7/50:: 100%|\u001b[34m████████████████████\u001b[0m| 120/120 [00:02<00:00, 49.89batch/s, loss=0.837366]\u001b[0m\n"
     ]
    },
    {
     "name": "stdout",
     "output_type": "stream",
     "text": [
      "\t Loss: 100.484,\tTrain : 74.65%(74.65%),\tTest : 76.54%(76.54%),\tCurrent Time: 20250917-190359\n"
     ]
    },
    {
     "name": "stderr",
     "output_type": "stream",
     "text": [
      "Epoch 8/50:: 100%|\u001b[34m████████████████████\u001b[0m| 120/120 [00:02<00:00, 49.87batch/s, loss=0.788309]\u001b[0m\n"
     ]
    },
    {
     "name": "stdout",
     "output_type": "stream",
     "text": [
      "\t Loss: 94.597,\tTrain : 76.01%(76.01%),\tTest : 77.11%(77.11%),\tCurrent Time: 20250917-190401\n"
     ]
    },
    {
     "name": "stderr",
     "output_type": "stream",
     "text": [
      "Epoch 9/50:: 100%|\u001b[34m████████████████████\u001b[0m| 120/120 [00:02<00:00, 49.65batch/s, loss=0.751061]\u001b[0m\n"
     ]
    },
    {
     "name": "stdout",
     "output_type": "stream",
     "text": [
      "\t Loss: 90.127,\tTrain : 76.93%(76.93%),\tTest : 78.57%(78.57%),\tCurrent Time: 20250917-190404\n"
     ]
    },
    {
     "name": "stderr",
     "output_type": "stream",
     "text": [
      "Epoch 10/50:: 100%|\u001b[34m███████████████████\u001b[0m| 120/120 [00:02<00:00, 49.66batch/s, loss=0.718717]\u001b[0m\n"
     ]
    },
    {
     "name": "stdout",
     "output_type": "stream",
     "text": [
      "\t Loss: 86.246,\tTrain : 77.72%(77.72%),\tTest : 79.49%(79.49%),\tCurrent Time: 20250917-190406\n"
     ]
    },
    {
     "name": "stderr",
     "output_type": "stream",
     "text": [
      "Epoch 11/50:: 100%|\u001b[34m███████████████████\u001b[0m| 120/120 [00:02<00:00, 49.63batch/s, loss=0.691941]\u001b[0m\n"
     ]
    },
    {
     "name": "stdout",
     "output_type": "stream",
     "text": [
      "\t Loss: 83.033,\tTrain : 78.51%(78.51%),\tTest : 79.94%(79.94%),\tCurrent Time: 20250917-190409\n"
     ]
    },
    {
     "name": "stderr",
     "output_type": "stream",
     "text": [
      "Epoch 12/50:: 100%|\u001b[34m███████████████████\u001b[0m| 120/120 [00:02<00:00, 49.82batch/s, loss=0.667625]\u001b[0m\n"
     ]
    },
    {
     "name": "stdout",
     "output_type": "stream",
     "text": [
      "\t Loss: 80.115,\tTrain : 79.27%(79.27%),\tTest : 80.43%(80.43%),\tCurrent Time: 20250917-190411\n"
     ]
    },
    {
     "name": "stderr",
     "output_type": "stream",
     "text": [
      "Epoch 13/50:: 100%|\u001b[34m███████████████████\u001b[0m| 120/120 [00:02<00:00, 49.87batch/s, loss=0.646926]\u001b[0m\n"
     ]
    },
    {
     "name": "stdout",
     "output_type": "stream",
     "text": [
      "\t Loss: 77.631,\tTrain : 79.93%(79.93%),\tTest : 81.04%(81.04%),\tCurrent Time: 20250917-190414\n"
     ]
    },
    {
     "name": "stderr",
     "output_type": "stream",
     "text": [
      "Epoch 14/50:: 100%|\u001b[34m███████████████████\u001b[0m| 120/120 [00:02<00:00, 49.86batch/s, loss=0.625255]\u001b[0m\n"
     ]
    },
    {
     "name": "stdout",
     "output_type": "stream",
     "text": [
      "\t Loss: 75.031,\tTrain : 80.38%(80.38%),\tTest : 81.60%(81.60%),\tCurrent Time: 20250917-190416\n"
     ]
    },
    {
     "name": "stderr",
     "output_type": "stream",
     "text": [
      "Epoch 15/50:: 100%|\u001b[34m███████████████████\u001b[0m| 120/120 [00:02<00:00, 49.64batch/s, loss=0.606952]\u001b[0m\n"
     ]
    },
    {
     "name": "stdout",
     "output_type": "stream",
     "text": [
      "\t Loss: 72.834,\tTrain : 81.04%(81.04%),\tTest : 81.93%(81.93%),\tCurrent Time: 20250917-190419\n"
     ]
    },
    {
     "name": "stderr",
     "output_type": "stream",
     "text": [
      "Epoch 16/50:: 100%|\u001b[34m███████████████████\u001b[0m| 120/120 [00:02<00:00, 50.04batch/s, loss=0.593627]\u001b[0m\n"
     ]
    },
    {
     "name": "stdout",
     "output_type": "stream",
     "text": [
      "\t Loss: 71.235,\tTrain : 81.51%(81.51%),\tTest : 82.46%(82.46%),\tCurrent Time: 20250917-190421\n"
     ]
    },
    {
     "name": "stderr",
     "output_type": "stream",
     "text": [
      "Epoch 17/50:: 100%|\u001b[34m███████████████████\u001b[0m| 120/120 [00:02<00:00, 49.86batch/s, loss=0.577649]\u001b[0m\n"
     ]
    },
    {
     "name": "stdout",
     "output_type": "stream",
     "text": [
      "\t Loss: 69.318,\tTrain : 81.90%(81.90%),\tTest : 82.65%(82.65%),\tCurrent Time: 20250917-190424\n"
     ]
    },
    {
     "name": "stderr",
     "output_type": "stream",
     "text": [
      "Epoch 18/50:: 100%|\u001b[34m███████████████████\u001b[0m| 120/120 [00:02<00:00, 49.82batch/s, loss=0.564988]\u001b[0m\n"
     ]
    },
    {
     "name": "stdout",
     "output_type": "stream",
     "text": [
      "\t Loss: 67.799,\tTrain : 82.34%(82.34%),\tTest : 83.15%(83.15%),\tCurrent Time: 20250917-190426\n"
     ]
    },
    {
     "name": "stderr",
     "output_type": "stream",
     "text": [
      "Epoch 19/50:: 100%|\u001b[34m███████████████████\u001b[0m| 120/120 [00:02<00:00, 49.67batch/s, loss=0.553135]\u001b[0m\n"
     ]
    },
    {
     "name": "stdout",
     "output_type": "stream",
     "text": [
      "\t Loss: 66.376,\tTrain : 82.70%(82.70%),\tTest : 83.48%(83.48%),\tCurrent Time: 20250917-190429\n"
     ]
    },
    {
     "name": "stderr",
     "output_type": "stream",
     "text": [
      "Epoch 20/50:: 100%|\u001b[34m███████████████████\u001b[0m| 120/120 [00:02<00:00, 49.86batch/s, loss=0.539633]\u001b[0m\n"
     ]
    },
    {
     "name": "stdout",
     "output_type": "stream",
     "text": [
      "\t Loss: 64.756,\tTrain : 83.20%(83.20%),\tTest : 84.07%(84.07%),\tCurrent Time: 20250917-190431\n"
     ]
    },
    {
     "name": "stderr",
     "output_type": "stream",
     "text": [
      "Epoch 21/50:: 100%|\u001b[34m███████████████████\u001b[0m| 120/120 [00:02<00:00, 49.86batch/s, loss=0.529530]\u001b[0m\n"
     ]
    },
    {
     "name": "stdout",
     "output_type": "stream",
     "text": [
      "\t Loss: 63.544,\tTrain : 83.55%(83.55%),\tTest : 84.67%(84.67%),\tCurrent Time: 20250917-190434\n"
     ]
    },
    {
     "name": "stderr",
     "output_type": "stream",
     "text": [
      "Epoch 22/50:: 100%|\u001b[34m███████████████████\u001b[0m| 120/120 [00:02<00:00, 49.80batch/s, loss=0.516544]\u001b[0m\n"
     ]
    },
    {
     "name": "stdout",
     "output_type": "stream",
     "text": [
      "\t Loss: 61.985,\tTrain : 83.87%(83.87%),\tTest : 84.75%(84.75%),\tCurrent Time: 20250917-190436\n"
     ]
    },
    {
     "name": "stderr",
     "output_type": "stream",
     "text": [
      "Epoch 23/50:: 100%|\u001b[34m███████████████████\u001b[0m| 120/120 [00:02<00:00, 49.88batch/s, loss=0.507138]\u001b[0m\n"
     ]
    },
    {
     "name": "stdout",
     "output_type": "stream",
     "text": [
      "\t Loss: 60.857,\tTrain : 84.16%(84.16%),\tTest : 84.86%(84.86%),\tCurrent Time: 20250917-190439\n"
     ]
    },
    {
     "name": "stderr",
     "output_type": "stream",
     "text": [
      "Epoch 24/50:: 100%|\u001b[34m███████████████████\u001b[0m| 120/120 [00:02<00:00, 49.82batch/s, loss=0.498333]\u001b[0m\n"
     ]
    },
    {
     "name": "stdout",
     "output_type": "stream",
     "text": [
      "\t Loss: 59.800,\tTrain : 84.44%(84.44%),\tTest : 85.05%(85.05%),\tCurrent Time: 20250917-190441\n"
     ]
    },
    {
     "name": "stderr",
     "output_type": "stream",
     "text": [
      "Epoch 25/50:: 100%|\u001b[34m███████████████████\u001b[0m| 120/120 [00:02<00:00, 49.68batch/s, loss=0.488321]\u001b[0m\n"
     ]
    },
    {
     "name": "stdout",
     "output_type": "stream",
     "text": [
      "\t Loss: 58.598,\tTrain : 84.74%(84.74%),\tTest : 85.59%(85.59%),\tCurrent Time: 20250917-190444\n"
     ]
    },
    {
     "name": "stderr",
     "output_type": "stream",
     "text": [
      "Epoch 26/50:: 100%|\u001b[34m███████████████████\u001b[0m| 120/120 [00:02<00:00, 49.64batch/s, loss=0.478114]\u001b[0m\n"
     ]
    },
    {
     "name": "stdout",
     "output_type": "stream",
     "text": [
      "\t Loss: 57.374,\tTrain : 85.08%(85.08%),\tTest : 85.34%(85.59%),\tCurrent Time: 20250917-190446\n"
     ]
    },
    {
     "name": "stderr",
     "output_type": "stream",
     "text": [
      "Epoch 27/50:: 100%|\u001b[34m███████████████████\u001b[0m| 120/120 [00:02<00:00, 49.85batch/s, loss=0.472450]\u001b[0m\n"
     ]
    },
    {
     "name": "stdout",
     "output_type": "stream",
     "text": [
      "\t Loss: 56.694,\tTrain : 85.14%(85.14%),\tTest : 85.76%(85.76%),\tCurrent Time: 20250917-190449\n"
     ]
    },
    {
     "name": "stderr",
     "output_type": "stream",
     "text": [
      "Epoch 28/50:: 100%|\u001b[34m███████████████████\u001b[0m| 120/120 [00:02<00:00, 49.86batch/s, loss=0.464506]\u001b[0m\n"
     ]
    },
    {
     "name": "stdout",
     "output_type": "stream",
     "text": [
      "\t Loss: 55.741,\tTrain : 85.55%(85.55%),\tTest : 85.76%(85.76%),\tCurrent Time: 20250917-190451\n"
     ]
    },
    {
     "name": "stderr",
     "output_type": "stream",
     "text": [
      "Epoch 29/50:: 100%|\u001b[34m███████████████████\u001b[0m| 120/120 [00:02<00:00, 49.61batch/s, loss=0.457756]\u001b[0m\n"
     ]
    },
    {
     "name": "stdout",
     "output_type": "stream",
     "text": [
      "\t Loss: 54.931,\tTrain : 85.68%(85.68%),\tTest : 86.18%(86.18%),\tCurrent Time: 20250917-190454\n"
     ]
    },
    {
     "name": "stderr",
     "output_type": "stream",
     "text": [
      "Epoch 30/50:: 100%|\u001b[34m███████████████████\u001b[0m| 120/120 [00:02<00:00, 49.85batch/s, loss=0.450186]\u001b[0m\n"
     ]
    },
    {
     "name": "stdout",
     "output_type": "stream",
     "text": [
      "\t Loss: 54.022,\tTrain : 85.99%(85.99%),\tTest : 86.48%(86.48%),\tCurrent Time: 20250917-190456\n"
     ]
    },
    {
     "name": "stderr",
     "output_type": "stream",
     "text": [
      "Epoch 31/50:: 100%|\u001b[34m███████████████████\u001b[0m| 120/120 [00:02<00:00, 50.05batch/s, loss=0.444971]\u001b[0m\n"
     ]
    },
    {
     "name": "stdout",
     "output_type": "stream",
     "text": [
      "\t Loss: 53.396,\tTrain : 85.99%(85.99%),\tTest : 86.52%(86.52%),\tCurrent Time: 20250917-190459\n"
     ]
    },
    {
     "name": "stderr",
     "output_type": "stream",
     "text": [
      "Epoch 32/50:: 100%|\u001b[34m███████████████████\u001b[0m| 120/120 [00:02<00:00, 49.87batch/s, loss=0.438261]\u001b[0m\n"
     ]
    },
    {
     "name": "stdout",
     "output_type": "stream",
     "text": [
      "\t Loss: 52.591,\tTrain : 86.21%(86.21%),\tTest : 86.60%(86.60%),\tCurrent Time: 20250917-190501\n"
     ]
    },
    {
     "name": "stderr",
     "output_type": "stream",
     "text": [
      "Epoch 33/50:: 100%|\u001b[34m███████████████████\u001b[0m| 120/120 [00:02<00:00, 49.67batch/s, loss=0.432176]\u001b[0m\n"
     ]
    },
    {
     "name": "stdout",
     "output_type": "stream",
     "text": [
      "\t Loss: 51.861,\tTrain : 86.53%(86.53%),\tTest : 86.49%(86.60%),\tCurrent Time: 20250917-190504\n"
     ]
    },
    {
     "name": "stderr",
     "output_type": "stream",
     "text": [
      "Epoch 34/50:: 100%|\u001b[34m███████████████████\u001b[0m| 120/120 [00:02<00:00, 49.86batch/s, loss=0.427332]\u001b[0m\n"
     ]
    },
    {
     "name": "stdout",
     "output_type": "stream",
     "text": [
      "\t Loss: 51.280,\tTrain : 86.70%(86.70%),\tTest : 86.82%(86.82%),\tCurrent Time: 20250917-190506\n"
     ]
    },
    {
     "name": "stderr",
     "output_type": "stream",
     "text": [
      "Epoch 35/50:: 100%|\u001b[34m███████████████████\u001b[0m| 120/120 [00:02<00:00, 49.84batch/s, loss=0.420346]\u001b[0m\n"
     ]
    },
    {
     "name": "stdout",
     "output_type": "stream",
     "text": [
      "\t Loss: 50.441,\tTrain : 86.90%(86.90%),\tTest : 87.16%(87.16%),\tCurrent Time: 20250917-190509\n"
     ]
    },
    {
     "name": "stderr",
     "output_type": "stream",
     "text": [
      "Epoch 36/50:: 100%|\u001b[34m███████████████████\u001b[0m| 120/120 [00:02<00:00, 49.89batch/s, loss=0.415500]\u001b[0m\n"
     ]
    },
    {
     "name": "stdout",
     "output_type": "stream",
     "text": [
      "\t Loss: 49.860,\tTrain : 87.16%(87.16%),\tTest : 87.08%(87.16%),\tCurrent Time: 20250917-190511\n"
     ]
    },
    {
     "name": "stderr",
     "output_type": "stream",
     "text": [
      "Epoch 37/50:: 100%|\u001b[34m███████████████████\u001b[0m| 120/120 [00:02<00:00, 50.05batch/s, loss=0.414570]\u001b[0m\n"
     ]
    },
    {
     "name": "stdout",
     "output_type": "stream",
     "text": [
      "\t Loss: 49.748,\tTrain : 87.00%(87.16%),\tTest : 87.44%(87.44%),\tCurrent Time: 20250917-190514\n"
     ]
    },
    {
     "name": "stderr",
     "output_type": "stream",
     "text": [
      "Epoch 38/50:: 100%|\u001b[34m███████████████████\u001b[0m| 120/120 [00:02<00:00, 49.83batch/s, loss=0.409096]\u001b[0m\n"
     ]
    },
    {
     "name": "stdout",
     "output_type": "stream",
     "text": [
      "\t Loss: 49.092,\tTrain : 87.19%(87.19%),\tTest : 87.32%(87.44%),\tCurrent Time: 20250917-190516\n"
     ]
    },
    {
     "name": "stderr",
     "output_type": "stream",
     "text": [
      "Epoch 39/50:: 100%|\u001b[34m███████████████████\u001b[0m| 120/120 [00:02<00:00, 49.88batch/s, loss=0.404295]\u001b[0m\n"
     ]
    },
    {
     "name": "stdout",
     "output_type": "stream",
     "text": [
      "\t Loss: 48.515,\tTrain : 87.43%(87.43%),\tTest : 87.29%(87.44%),\tCurrent Time: 20250917-190518\n"
     ]
    },
    {
     "name": "stderr",
     "output_type": "stream",
     "text": [
      "Epoch 40/50:: 100%|\u001b[34m███████████████████\u001b[0m| 120/120 [00:02<00:00, 49.58batch/s, loss=0.399699]\u001b[0m\n"
     ]
    },
    {
     "name": "stdout",
     "output_type": "stream",
     "text": [
      "\t Loss: 47.964,\tTrain : 87.59%(87.59%),\tTest : 87.67%(87.67%),\tCurrent Time: 20250917-190521\n"
     ]
    },
    {
     "name": "stderr",
     "output_type": "stream",
     "text": [
      "Epoch 41/50:: 100%|\u001b[34m███████████████████\u001b[0m| 120/120 [00:02<00:00, 49.95batch/s, loss=0.394765]\u001b[0m\n"
     ]
    },
    {
     "name": "stdout",
     "output_type": "stream",
     "text": [
      "\t Loss: 47.372,\tTrain : 87.67%(87.67%),\tTest : 87.64%(87.67%),\tCurrent Time: 20250917-190523\n"
     ]
    },
    {
     "name": "stderr",
     "output_type": "stream",
     "text": [
      "Epoch 42/50:: 100%|\u001b[34m███████████████████\u001b[0m| 120/120 [00:02<00:00, 50.05batch/s, loss=0.390365]\u001b[0m\n"
     ]
    },
    {
     "name": "stdout",
     "output_type": "stream",
     "text": [
      "\t Loss: 46.844,\tTrain : 87.73%(87.73%),\tTest : 87.98%(87.98%),\tCurrent Time: 20250917-190526\n"
     ]
    },
    {
     "name": "stderr",
     "output_type": "stream",
     "text": [
      "Epoch 43/50:: 100%|\u001b[34m███████████████████\u001b[0m| 120/120 [00:02<00:00, 49.88batch/s, loss=0.386256]\u001b[0m\n"
     ]
    },
    {
     "name": "stdout",
     "output_type": "stream",
     "text": [
      "\t Loss: 46.351,\tTrain : 87.89%(87.89%),\tTest : 88.07%(88.07%),\tCurrent Time: 20250917-190528\n"
     ]
    },
    {
     "name": "stderr",
     "output_type": "stream",
     "text": [
      "Epoch 44/50:: 100%|\u001b[34m███████████████████\u001b[0m| 120/120 [00:02<00:00, 49.86batch/s, loss=0.383061]\u001b[0m\n"
     ]
    },
    {
     "name": "stdout",
     "output_type": "stream",
     "text": [
      "\t Loss: 45.967,\tTrain : 87.98%(87.98%),\tTest : 87.92%(88.07%),\tCurrent Time: 20250917-190531\n"
     ]
    },
    {
     "name": "stderr",
     "output_type": "stream",
     "text": [
      "Epoch 45/50:: 100%|\u001b[34m███████████████████\u001b[0m| 120/120 [00:02<00:00, 49.90batch/s, loss=0.380256]\u001b[0m\n"
     ]
    },
    {
     "name": "stdout",
     "output_type": "stream",
     "text": [
      "\t Loss: 45.631,\tTrain : 88.03%(88.03%),\tTest : 88.06%(88.07%),\tCurrent Time: 20250917-190533\n"
     ]
    },
    {
     "name": "stderr",
     "output_type": "stream",
     "text": [
      "Epoch 46/50:: 100%|\u001b[34m███████████████████\u001b[0m| 120/120 [00:02<00:00, 49.85batch/s, loss=0.375662]\u001b[0m\n"
     ]
    },
    {
     "name": "stdout",
     "output_type": "stream",
     "text": [
      "\t Loss: 45.079,\tTrain : 88.24%(88.24%),\tTest : 88.23%(88.23%),\tCurrent Time: 20250917-190536\n"
     ]
    },
    {
     "name": "stderr",
     "output_type": "stream",
     "text": [
      "Epoch 47/50:: 100%|\u001b[34m███████████████████\u001b[0m| 120/120 [00:02<00:00, 49.62batch/s, loss=0.371075]\u001b[0m\n"
     ]
    },
    {
     "name": "stdout",
     "output_type": "stream",
     "text": [
      "\t Loss: 44.529,\tTrain : 88.47%(88.47%),\tTest : 88.07%(88.23%),\tCurrent Time: 20250917-190538\n"
     ]
    },
    {
     "name": "stderr",
     "output_type": "stream",
     "text": [
      "Epoch 48/50:: 100%|\u001b[34m███████████████████\u001b[0m| 120/120 [00:02<00:00, 49.90batch/s, loss=0.369675]\u001b[0m\n"
     ]
    },
    {
     "name": "stdout",
     "output_type": "stream",
     "text": [
      "\t Loss: 44.361,\tTrain : 88.49%(88.49%),\tTest : 88.44%(88.44%),\tCurrent Time: 20250917-190541\n"
     ]
    },
    {
     "name": "stderr",
     "output_type": "stream",
     "text": [
      "Epoch 49/50:: 100%|\u001b[34m███████████████████\u001b[0m| 120/120 [00:02<00:00, 49.86batch/s, loss=0.368672]\u001b[0m\n"
     ]
    },
    {
     "name": "stdout",
     "output_type": "stream",
     "text": [
      "\t Loss: 44.241,\tTrain : 88.50%(88.50%),\tTest : 88.55%(88.55%),\tCurrent Time: 20250917-190543\n"
     ]
    },
    {
     "name": "stderr",
     "output_type": "stream",
     "text": [
      "Epoch 50/50:: 100%|\u001b[34m███████████████████\u001b[0m| 120/120 [00:02<00:00, 49.83batch/s, loss=0.361901]\u001b[0m\n"
     ]
    },
    {
     "name": "stdout",
     "output_type": "stream",
     "text": [
      "\t Loss: 43.428,\tTrain : 88.70%(88.70%),\tTest : 88.49%(88.55%),\tCurrent Time: 20250917-190546\n",
      "First_asymm_AG_N-HL_resP-EP_L10-P0-MNIST_EP_b_sc0.1- Time: 20250917-190546, Epochs: 50, Learning Rate: 0.0005, Best: 88.70%  88.55%\n",
      "\n",
      "[[0 1 0 0 0 0 0 0 0 0 0 0]\n",
      " [0 0 1 0 0 0 0 0 0 0 0 0]\n",
      " [0 1 0 1 0 0 0 0 0 0 0 0]\n",
      " [0 0 1 0 1 0 0 0 0 0 0 0]\n",
      " [0 0 0 1 0 1 0 0 0 0 0 0]\n",
      " [0 0 0 0 1 0 1 0 0 0 0 0]\n",
      " [0 0 0 0 0 1 0 1 0 0 0 0]\n",
      " [0 0 0 0 0 0 1 0 1 0 0 0]\n",
      " [0 0 0 0 0 0 0 1 0 1 0 0]\n",
      " [0 0 0 0 0 0 0 0 1 0 1 0]\n",
      " [0 0 0 0 0 0 0 0 0 1 0 1]\n",
      " [0 0 0 0 0 0 0 0 0 0 1 0]]\n",
      "First_asymm_AG_N-HL_resP-EP_L10-P0-MNIST_EP_b_sc0.1-\n"
     ]
    },
    {
     "name": "stderr",
     "output_type": "stream",
     "text": [
      "Epoch 1/50:: 100%|\u001b[34m████████████████████\u001b[0m| 120/120 [00:02<00:00, 45.87batch/s, loss=2.201955]\u001b[0m\n"
     ]
    },
    {
     "name": "stdout",
     "output_type": "stream",
     "text": [
      "\t Loss: 264.235,\tTrain : 15.65%(15.65%),\tTest : 33.56%(33.56%),\tCurrent Time: 20250917-190553\n"
     ]
    },
    {
     "name": "stderr",
     "output_type": "stream",
     "text": [
      "Epoch 2/50:: 100%|\u001b[34m████████████████████\u001b[0m| 120/120 [00:02<00:00, 49.89batch/s, loss=1.696083]\u001b[0m\n"
     ]
    },
    {
     "name": "stdout",
     "output_type": "stream",
     "text": [
      "\t Loss: 203.530,\tTrain : 44.72%(44.72%),\tTest : 57.44%(57.44%),\tCurrent Time: 20250917-190555\n"
     ]
    },
    {
     "name": "stderr",
     "output_type": "stream",
     "text": [
      "Epoch 3/50:: 100%|\u001b[34m████████████████████\u001b[0m| 120/120 [00:02<00:00, 49.85batch/s, loss=1.339826]\u001b[0m\n"
     ]
    },
    {
     "name": "stdout",
     "output_type": "stream",
     "text": [
      "\t Loss: 160.779,\tTrain : 59.18%(59.18%),\tTest : 63.89%(63.89%),\tCurrent Time: 20250917-190558\n"
     ]
    },
    {
     "name": "stderr",
     "output_type": "stream",
     "text": [
      "Epoch 4/50:: 100%|\u001b[34m████████████████████\u001b[0m| 120/120 [00:02<00:00, 49.88batch/s, loss=1.135648]\u001b[0m\n"
     ]
    },
    {
     "name": "stdout",
     "output_type": "stream",
     "text": [
      "\t Loss: 136.278,\tTrain : 65.96%(65.96%),\tTest : 69.92%(69.92%),\tCurrent Time: 20250917-190600\n"
     ]
    },
    {
     "name": "stderr",
     "output_type": "stream",
     "text": [
      "Epoch 5/50:: 100%|\u001b[34m████████████████████\u001b[0m| 120/120 [00:02<00:00, 49.88batch/s, loss=0.973950]\u001b[0m\n"
     ]
    },
    {
     "name": "stdout",
     "output_type": "stream",
     "text": [
      "\t Loss: 116.874,\tTrain : 70.84%(70.84%),\tTest : 73.87%(73.87%),\tCurrent Time: 20250917-190603\n"
     ]
    },
    {
     "name": "stderr",
     "output_type": "stream",
     "text": [
      "Epoch 6/50:: 100%|\u001b[34m████████████████████\u001b[0m| 120/120 [00:02<00:00, 49.69batch/s, loss=0.874041]\u001b[0m\n"
     ]
    },
    {
     "name": "stdout",
     "output_type": "stream",
     "text": [
      "\t Loss: 104.885,\tTrain : 73.69%(73.69%),\tTest : 75.82%(75.82%),\tCurrent Time: 20250917-190605\n"
     ]
    },
    {
     "name": "stderr",
     "output_type": "stream",
     "text": [
      "Epoch 7/50:: 100%|\u001b[34m████████████████████\u001b[0m| 120/120 [00:02<00:00, 49.87batch/s, loss=0.804666]\u001b[0m\n"
     ]
    },
    {
     "name": "stdout",
     "output_type": "stream",
     "text": [
      "\t Loss: 96.560,\tTrain : 75.72%(75.72%),\tTest : 77.83%(77.83%),\tCurrent Time: 20250917-190608\n"
     ]
    },
    {
     "name": "stderr",
     "output_type": "stream",
     "text": [
      "Epoch 8/50:: 100%|\u001b[34m████████████████████\u001b[0m| 120/120 [00:02<00:00, 49.70batch/s, loss=0.753620]\u001b[0m\n"
     ]
    },
    {
     "name": "stdout",
     "output_type": "stream",
     "text": [
      "\t Loss: 90.434,\tTrain : 77.18%(77.18%),\tTest : 79.25%(79.25%),\tCurrent Time: 20250917-190610\n"
     ]
    },
    {
     "name": "stderr",
     "output_type": "stream",
     "text": [
      "Epoch 9/50:: 100%|\u001b[34m████████████████████\u001b[0m| 120/120 [00:02<00:00, 49.85batch/s, loss=0.712452]\u001b[0m\n"
     ]
    },
    {
     "name": "stdout",
     "output_type": "stream",
     "text": [
      "\t Loss: 85.494,\tTrain : 78.33%(78.33%),\tTest : 80.26%(80.26%),\tCurrent Time: 20250917-190613\n"
     ]
    },
    {
     "name": "stderr",
     "output_type": "stream",
     "text": [
      "Epoch 10/50:: 100%|\u001b[34m███████████████████\u001b[0m| 120/120 [00:02<00:00, 49.71batch/s, loss=0.678802]\u001b[0m\n"
     ]
    },
    {
     "name": "stdout",
     "output_type": "stream",
     "text": [
      "\t Loss: 81.456,\tTrain : 79.26%(79.26%),\tTest : 81.04%(81.04%),\tCurrent Time: 20250917-190615\n"
     ]
    },
    {
     "name": "stderr",
     "output_type": "stream",
     "text": [
      "Epoch 11/50:: 100%|\u001b[34m███████████████████\u001b[0m| 120/120 [00:02<00:00, 49.87batch/s, loss=0.656709]\u001b[0m\n"
     ]
    },
    {
     "name": "stdout",
     "output_type": "stream",
     "text": [
      "\t Loss: 78.805,\tTrain : 79.90%(79.90%),\tTest : 81.70%(81.70%),\tCurrent Time: 20250917-190618\n"
     ]
    },
    {
     "name": "stderr",
     "output_type": "stream",
     "text": [
      "Epoch 12/50:: 100%|\u001b[34m███████████████████\u001b[0m| 120/120 [00:02<00:00, 49.82batch/s, loss=0.637519]\u001b[0m\n"
     ]
    },
    {
     "name": "stdout",
     "output_type": "stream",
     "text": [
      "\t Loss: 76.502,\tTrain : 80.54%(80.54%),\tTest : 82.01%(82.01%),\tCurrent Time: 20250917-190620\n"
     ]
    },
    {
     "name": "stderr",
     "output_type": "stream",
     "text": [
      "Epoch 13/50:: 100%|\u001b[34m███████████████████\u001b[0m| 120/120 [00:02<00:00, 49.85batch/s, loss=0.620002]\u001b[0m\n"
     ]
    },
    {
     "name": "stdout",
     "output_type": "stream",
     "text": [
      "\t Loss: 74.400,\tTrain : 80.90%(80.90%),\tTest : 82.19%(82.19%),\tCurrent Time: 20250917-190623\n"
     ]
    },
    {
     "name": "stderr",
     "output_type": "stream",
     "text": [
      "Epoch 14/50:: 100%|\u001b[34m███████████████████\u001b[0m| 120/120 [00:02<00:00, 49.84batch/s, loss=0.602482]\u001b[0m\n"
     ]
    },
    {
     "name": "stdout",
     "output_type": "stream",
     "text": [
      "\t Loss: 72.298,\tTrain : 81.40%(81.40%),\tTest : 82.64%(82.64%),\tCurrent Time: 20250917-190625\n"
     ]
    },
    {
     "name": "stderr",
     "output_type": "stream",
     "text": [
      "Epoch 15/50:: 100%|\u001b[34m███████████████████\u001b[0m| 120/120 [00:02<00:00, 49.88batch/s, loss=0.589191]\u001b[0m\n"
     ]
    },
    {
     "name": "stdout",
     "output_type": "stream",
     "text": [
      "\t Loss: 70.703,\tTrain : 81.75%(81.75%),\tTest : 82.61%(82.64%),\tCurrent Time: 20250917-190628\n"
     ]
    },
    {
     "name": "stderr",
     "output_type": "stream",
     "text": [
      "Epoch 16/50:: 100%|\u001b[34m███████████████████\u001b[0m| 120/120 [00:02<00:00, 49.68batch/s, loss=0.576028]\u001b[0m\n"
     ]
    },
    {
     "name": "stdout",
     "output_type": "stream",
     "text": [
      "\t Loss: 69.123,\tTrain : 82.17%(82.17%),\tTest : 83.38%(83.38%),\tCurrent Time: 20250917-190630\n"
     ]
    },
    {
     "name": "stderr",
     "output_type": "stream",
     "text": [
      "Epoch 17/50:: 100%|\u001b[34m███████████████████\u001b[0m| 120/120 [00:02<00:00, 49.33batch/s, loss=0.563614]\u001b[0m\n"
     ]
    },
    {
     "name": "stdout",
     "output_type": "stream",
     "text": [
      "\t Loss: 67.634,\tTrain : 82.45%(82.45%),\tTest : 83.60%(83.60%),\tCurrent Time: 20250917-190633\n"
     ]
    },
    {
     "name": "stderr",
     "output_type": "stream",
     "text": [
      "Epoch 18/50:: 100%|\u001b[34m███████████████████\u001b[0m| 120/120 [00:02<00:00, 49.98batch/s, loss=0.555257]\u001b[0m\n"
     ]
    },
    {
     "name": "stdout",
     "output_type": "stream",
     "text": [
      "\t Loss: 66.631,\tTrain : 82.61%(82.61%),\tTest : 83.89%(83.89%),\tCurrent Time: 20250917-190635\n"
     ]
    },
    {
     "name": "stderr",
     "output_type": "stream",
     "text": [
      "Epoch 19/50:: 100%|\u001b[34m███████████████████\u001b[0m| 120/120 [00:02<00:00, 49.67batch/s, loss=0.543151]\u001b[0m\n"
     ]
    },
    {
     "name": "stdout",
     "output_type": "stream",
     "text": [
      "\t Loss: 65.178,\tTrain : 83.06%(83.06%),\tTest : 84.01%(84.01%),\tCurrent Time: 20250917-190638\n"
     ]
    },
    {
     "name": "stderr",
     "output_type": "stream",
     "text": [
      "Epoch 20/50:: 100%|\u001b[34m███████████████████\u001b[0m| 120/120 [00:02<00:00, 49.88batch/s, loss=0.534278]\u001b[0m\n"
     ]
    },
    {
     "name": "stdout",
     "output_type": "stream",
     "text": [
      "\t Loss: 64.113,\tTrain : 83.34%(83.34%),\tTest : 84.34%(84.34%),\tCurrent Time: 20250917-190640\n"
     ]
    },
    {
     "name": "stderr",
     "output_type": "stream",
     "text": [
      "Epoch 21/50:: 100%|\u001b[34m███████████████████\u001b[0m| 120/120 [00:02<00:00, 50.05batch/s, loss=0.525988]\u001b[0m\n"
     ]
    },
    {
     "name": "stdout",
     "output_type": "stream",
     "text": [
      "\t Loss: 63.119,\tTrain : 83.58%(83.58%),\tTest : 84.66%(84.66%),\tCurrent Time: 20250917-190643\n"
     ]
    },
    {
     "name": "stderr",
     "output_type": "stream",
     "text": [
      "Epoch 22/50:: 100%|\u001b[34m███████████████████\u001b[0m| 120/120 [00:02<00:00, 49.89batch/s, loss=0.513219]\u001b[0m\n"
     ]
    },
    {
     "name": "stdout",
     "output_type": "stream",
     "text": [
      "\t Loss: 61.586,\tTrain : 84.00%(84.00%),\tTest : 84.80%(84.80%),\tCurrent Time: 20250917-190645\n"
     ]
    },
    {
     "name": "stderr",
     "output_type": "stream",
     "text": [
      "Epoch 23/50:: 100%|\u001b[34m███████████████████\u001b[0m| 120/120 [00:02<00:00, 49.82batch/s, loss=0.506630]\u001b[0m\n"
     ]
    },
    {
     "name": "stdout",
     "output_type": "stream",
     "text": [
      "\t Loss: 60.796,\tTrain : 84.19%(84.19%),\tTest : 85.35%(85.35%),\tCurrent Time: 20250917-190648\n"
     ]
    },
    {
     "name": "stderr",
     "output_type": "stream",
     "text": [
      "Epoch 24/50:: 100%|\u001b[34m███████████████████\u001b[0m| 120/120 [00:02<00:00, 49.67batch/s, loss=0.499487]\u001b[0m\n"
     ]
    },
    {
     "name": "stdout",
     "output_type": "stream",
     "text": [
      "\t Loss: 59.938,\tTrain : 84.39%(84.39%),\tTest : 84.72%(85.35%),\tCurrent Time: 20250917-190650\n"
     ]
    },
    {
     "name": "stderr",
     "output_type": "stream",
     "text": [
      "Epoch 25/50:: 100%|\u001b[34m███████████████████\u001b[0m| 120/120 [00:02<00:00, 49.83batch/s, loss=0.492459]\u001b[0m\n"
     ]
    },
    {
     "name": "stdout",
     "output_type": "stream",
     "text": [
      "\t Loss: 59.095,\tTrain : 84.71%(84.71%),\tTest : 85.50%(85.50%),\tCurrent Time: 20250917-190653\n"
     ]
    },
    {
     "name": "stderr",
     "output_type": "stream",
     "text": [
      "Epoch 26/50:: 100%|\u001b[34m███████████████████\u001b[0m| 120/120 [00:02<00:00, 49.74batch/s, loss=0.484171]\u001b[0m\n"
     ]
    },
    {
     "name": "stdout",
     "output_type": "stream",
     "text": [
      "\t Loss: 58.101,\tTrain : 84.92%(84.92%),\tTest : 85.28%(85.50%),\tCurrent Time: 20250917-190655\n"
     ]
    },
    {
     "name": "stderr",
     "output_type": "stream",
     "text": [
      "Epoch 27/50:: 100%|\u001b[34m███████████████████\u001b[0m| 120/120 [00:02<00:00, 50.01batch/s, loss=0.478814]\u001b[0m\n"
     ]
    },
    {
     "name": "stdout",
     "output_type": "stream",
     "text": [
      "\t Loss: 57.458,\tTrain : 85.13%(85.13%),\tTest : 85.60%(85.60%),\tCurrent Time: 20250917-190658\n"
     ]
    },
    {
     "name": "stderr",
     "output_type": "stream",
     "text": [
      "Epoch 28/50:: 100%|\u001b[34m███████████████████\u001b[0m| 120/120 [00:02<00:00, 49.87batch/s, loss=0.476649]\u001b[0m\n"
     ]
    },
    {
     "name": "stdout",
     "output_type": "stream",
     "text": [
      "\t Loss: 57.198,\tTrain : 85.18%(85.18%),\tTest : 85.33%(85.60%),\tCurrent Time: 20250917-190700\n"
     ]
    },
    {
     "name": "stderr",
     "output_type": "stream",
     "text": [
      "Epoch 29/50:: 100%|\u001b[34m███████████████████\u001b[0m| 120/120 [00:02<00:00, 49.86batch/s, loss=0.470524]\u001b[0m\n"
     ]
    },
    {
     "name": "stdout",
     "output_type": "stream",
     "text": [
      "\t Loss: 56.463,\tTrain : 85.37%(85.37%),\tTest : 85.81%(85.81%),\tCurrent Time: 20250917-190703\n"
     ]
    },
    {
     "name": "stderr",
     "output_type": "stream",
     "text": [
      "Epoch 30/50:: 100%|\u001b[34m███████████████████\u001b[0m| 120/120 [00:02<00:00, 49.87batch/s, loss=0.464077]\u001b[0m\n"
     ]
    },
    {
     "name": "stdout",
     "output_type": "stream",
     "text": [
      "\t Loss: 55.689,\tTrain : 85.52%(85.52%),\tTest : 86.11%(86.11%),\tCurrent Time: 20250917-190705\n"
     ]
    },
    {
     "name": "stderr",
     "output_type": "stream",
     "text": [
      "Epoch 31/50:: 100%|\u001b[34m███████████████████\u001b[0m| 120/120 [00:02<00:00, 49.79batch/s, loss=0.454791]\u001b[0m\n"
     ]
    },
    {
     "name": "stdout",
     "output_type": "stream",
     "text": [
      "\t Loss: 54.575,\tTrain : 85.85%(85.85%),\tTest : 86.04%(86.11%),\tCurrent Time: 20250917-190708\n"
     ]
    },
    {
     "name": "stderr",
     "output_type": "stream",
     "text": [
      "Epoch 32/50:: 100%|\u001b[34m███████████████████\u001b[0m| 120/120 [00:02<00:00, 49.69batch/s, loss=0.450289]\u001b[0m\n"
     ]
    },
    {
     "name": "stdout",
     "output_type": "stream",
     "text": [
      "\t Loss: 54.035,\tTrain : 86.02%(86.02%),\tTest : 86.59%(86.59%),\tCurrent Time: 20250917-190710\n"
     ]
    },
    {
     "name": "stderr",
     "output_type": "stream",
     "text": [
      "Epoch 33/50:: 100%|\u001b[34m███████████████████\u001b[0m| 120/120 [00:02<00:00, 49.65batch/s, loss=0.443852]\u001b[0m\n"
     ]
    },
    {
     "name": "stdout",
     "output_type": "stream",
     "text": [
      "\t Loss: 53.262,\tTrain : 86.19%(86.19%),\tTest : 86.40%(86.59%),\tCurrent Time: 20250917-190713\n"
     ]
    },
    {
     "name": "stderr",
     "output_type": "stream",
     "text": [
      "Epoch 34/50:: 100%|\u001b[34m███████████████████\u001b[0m| 120/120 [00:02<00:00, 50.06batch/s, loss=0.439166]\u001b[0m\n"
     ]
    },
    {
     "name": "stdout",
     "output_type": "stream",
     "text": [
      "\t Loss: 52.700,\tTrain : 86.25%(86.25%),\tTest : 86.10%(86.59%),\tCurrent Time: 20250917-190715\n"
     ]
    },
    {
     "name": "stderr",
     "output_type": "stream",
     "text": [
      "Epoch 35/50:: 100%|\u001b[34m███████████████████\u001b[0m| 120/120 [00:02<00:00, 49.46batch/s, loss=0.432627]\u001b[0m\n"
     ]
    },
    {
     "name": "stdout",
     "output_type": "stream",
     "text": [
      "\t Loss: 51.915,\tTrain : 86.57%(86.57%),\tTest : 86.60%(86.60%),\tCurrent Time: 20250917-190718\n"
     ]
    },
    {
     "name": "stderr",
     "output_type": "stream",
     "text": [
      "Epoch 36/50:: 100%|\u001b[34m███████████████████\u001b[0m| 120/120 [00:02<00:00, 49.94batch/s, loss=0.428314]\u001b[0m\n"
     ]
    },
    {
     "name": "stdout",
     "output_type": "stream",
     "text": [
      "\t Loss: 51.398,\tTrain : 86.62%(86.62%),\tTest : 87.04%(87.04%),\tCurrent Time: 20250917-190720\n"
     ]
    },
    {
     "name": "stderr",
     "output_type": "stream",
     "text": [
      "Epoch 37/50:: 100%|\u001b[34m███████████████████\u001b[0m| 120/120 [00:02<00:00, 49.95batch/s, loss=0.423797]\u001b[0m\n"
     ]
    },
    {
     "name": "stdout",
     "output_type": "stream",
     "text": [
      "\t Loss: 50.856,\tTrain : 86.77%(86.77%),\tTest : 86.95%(87.04%),\tCurrent Time: 20250917-190723\n"
     ]
    },
    {
     "name": "stderr",
     "output_type": "stream",
     "text": [
      "Epoch 38/50:: 100%|\u001b[34m███████████████████\u001b[0m| 120/120 [00:02<00:00, 49.85batch/s, loss=0.422514]\u001b[0m\n"
     ]
    },
    {
     "name": "stdout",
     "output_type": "stream",
     "text": [
      "\t Loss: 50.702,\tTrain : 86.78%(86.78%),\tTest : 87.25%(87.25%),\tCurrent Time: 20250917-190725\n"
     ]
    },
    {
     "name": "stderr",
     "output_type": "stream",
     "text": [
      "Epoch 39/50:: 100%|\u001b[34m███████████████████\u001b[0m| 120/120 [00:02<00:00, 49.88batch/s, loss=0.416950]\u001b[0m\n"
     ]
    },
    {
     "name": "stdout",
     "output_type": "stream",
     "text": [
      "\t Loss: 50.034,\tTrain : 86.92%(86.92%),\tTest : 87.09%(87.25%),\tCurrent Time: 20250917-190728\n"
     ]
    },
    {
     "name": "stderr",
     "output_type": "stream",
     "text": [
      "Epoch 40/50:: 100%|\u001b[34m███████████████████\u001b[0m| 120/120 [00:02<00:00, 50.07batch/s, loss=0.413637]\u001b[0m\n"
     ]
    },
    {
     "name": "stdout",
     "output_type": "stream",
     "text": [
      "\t Loss: 49.636,\tTrain : 87.01%(87.01%),\tTest : 87.71%(87.71%),\tCurrent Time: 20250917-190730\n"
     ]
    },
    {
     "name": "stderr",
     "output_type": "stream",
     "text": [
      "Epoch 41/50:: 100%|\u001b[34m███████████████████\u001b[0m| 120/120 [00:02<00:00, 49.68batch/s, loss=0.410139]\u001b[0m\n"
     ]
    },
    {
     "name": "stdout",
     "output_type": "stream",
     "text": [
      "\t Loss: 49.217,\tTrain : 87.19%(87.19%),\tTest : 87.69%(87.71%),\tCurrent Time: 20250917-190733\n"
     ]
    },
    {
     "name": "stderr",
     "output_type": "stream",
     "text": [
      "Epoch 42/50:: 100%|\u001b[34m███████████████████\u001b[0m| 120/120 [00:02<00:00, 50.03batch/s, loss=0.407770]\u001b[0m\n"
     ]
    },
    {
     "name": "stdout",
     "output_type": "stream",
     "text": [
      "\t Loss: 48.932,\tTrain : 87.32%(87.32%),\tTest : 87.54%(87.71%),\tCurrent Time: 20250917-190735\n"
     ]
    },
    {
     "name": "stderr",
     "output_type": "stream",
     "text": [
      "Epoch 43/50:: 100%|\u001b[34m███████████████████\u001b[0m| 120/120 [00:02<00:00, 49.90batch/s, loss=0.405148]\u001b[0m\n"
     ]
    },
    {
     "name": "stdout",
     "output_type": "stream",
     "text": [
      "\t Loss: 48.618,\tTrain : 87.36%(87.36%),\tTest : 87.71%(87.71%),\tCurrent Time: 20250917-190738\n"
     ]
    },
    {
     "name": "stderr",
     "output_type": "stream",
     "text": [
      "Epoch 44/50:: 100%|\u001b[34m███████████████████\u001b[0m| 120/120 [00:02<00:00, 49.88batch/s, loss=0.401880]\u001b[0m\n"
     ]
    },
    {
     "name": "stdout",
     "output_type": "stream",
     "text": [
      "\t Loss: 48.226,\tTrain : 87.51%(87.51%),\tTest : 87.90%(87.90%),\tCurrent Time: 20250917-190740\n"
     ]
    },
    {
     "name": "stderr",
     "output_type": "stream",
     "text": [
      "Epoch 45/50:: 100%|\u001b[34m███████████████████\u001b[0m| 120/120 [00:02<00:00, 50.06batch/s, loss=0.397114]\u001b[0m\n"
     ]
    },
    {
     "name": "stdout",
     "output_type": "stream",
     "text": [
      "\t Loss: 47.654,\tTrain : 87.64%(87.64%),\tTest : 88.05%(88.05%),\tCurrent Time: 20250917-190743\n"
     ]
    },
    {
     "name": "stderr",
     "output_type": "stream",
     "text": [
      "Epoch 46/50:: 100%|\u001b[34m███████████████████\u001b[0m| 120/120 [00:02<00:00, 49.92batch/s, loss=0.394668]\u001b[0m\n"
     ]
    },
    {
     "name": "stdout",
     "output_type": "stream",
     "text": [
      "\t Loss: 47.360,\tTrain : 87.66%(87.66%),\tTest : 88.23%(88.23%),\tCurrent Time: 20250917-190745\n"
     ]
    },
    {
     "name": "stderr",
     "output_type": "stream",
     "text": [
      "Epoch 47/50:: 100%|\u001b[34m███████████████████\u001b[0m| 120/120 [00:02<00:00, 49.85batch/s, loss=0.390972]\u001b[0m\n"
     ]
    },
    {
     "name": "stdout",
     "output_type": "stream",
     "text": [
      "\t Loss: 46.917,\tTrain : 87.81%(87.81%),\tTest : 88.10%(88.23%),\tCurrent Time: 20250917-190748\n"
     ]
    },
    {
     "name": "stderr",
     "output_type": "stream",
     "text": [
      "Epoch 48/50:: 100%|\u001b[34m███████████████████\u001b[0m| 120/120 [00:02<00:00, 50.04batch/s, loss=0.388552]\u001b[0m\n"
     ]
    },
    {
     "name": "stdout",
     "output_type": "stream",
     "text": [
      "\t Loss: 46.626,\tTrain : 87.93%(87.93%),\tTest : 88.42%(88.42%),\tCurrent Time: 20250917-190750\n"
     ]
    },
    {
     "name": "stderr",
     "output_type": "stream",
     "text": [
      "Epoch 49/50:: 100%|\u001b[34m███████████████████\u001b[0m| 120/120 [00:02<00:00, 49.85batch/s, loss=0.384676]\u001b[0m\n"
     ]
    },
    {
     "name": "stdout",
     "output_type": "stream",
     "text": [
      "\t Loss: 46.161,\tTrain : 87.98%(87.98%),\tTest : 88.19%(88.42%),\tCurrent Time: 20250917-190753\n"
     ]
    },
    {
     "name": "stderr",
     "output_type": "stream",
     "text": [
      "Epoch 50/50:: 100%|\u001b[34m███████████████████\u001b[0m| 120/120 [00:02<00:00, 49.67batch/s, loss=0.382512]\u001b[0m\n"
     ]
    },
    {
     "name": "stdout",
     "output_type": "stream",
     "text": [
      "\t Loss: 45.901,\tTrain : 88.04%(88.04%),\tTest : 88.21%(88.42%),\tCurrent Time: 20250917-190755\n",
      "First_asymm_AG_N-HL_resP-EP_L10-P0-MNIST_EP_b_sc0.1- Time: 20250917-190755, Epochs: 50, Learning Rate: 0.0005, Best: 88.04%  88.42%\n",
      "\n",
      "[[0 1 0 0 0 0 0 0 0 0 0 0]\n",
      " [0 0 1 0 0 0 0 0 0 0 0 0]\n",
      " [0 1 0 1 0 0 0 0 0 0 0 0]\n",
      " [0 0 1 0 1 0 0 0 0 0 0 0]\n",
      " [0 0 0 1 0 1 0 0 0 0 0 0]\n",
      " [0 0 0 0 1 0 1 0 0 0 0 0]\n",
      " [0 0 0 0 0 1 0 1 0 0 0 0]\n",
      " [0 0 0 0 0 0 1 0 1 0 0 0]\n",
      " [0 0 0 0 0 0 0 1 0 1 0 0]\n",
      " [0 0 0 0 0 0 0 0 1 0 1 0]\n",
      " [0 0 0 0 0 0 0 0 0 1 0 1]\n",
      " [0 0 0 0 0 0 0 0 0 0 1 0]]\n",
      "First_asymm_AG_N-HL_resP-EP_L10-P0-MNIST_EP_b_sc0.1-\n"
     ]
    },
    {
     "name": "stderr",
     "output_type": "stream",
     "text": [
      "Epoch 1/50:: 100%|\u001b[34m████████████████████\u001b[0m| 120/120 [00:02<00:00, 46.57batch/s, loss=2.256562]\u001b[0m\n"
     ]
    },
    {
     "name": "stdout",
     "output_type": "stream",
     "text": [
      "\t Loss: 270.787,\tTrain : 14.89%(14.89%),\tTest : 24.80%(24.80%),\tCurrent Time: 20250917-190802\n"
     ]
    },
    {
     "name": "stderr",
     "output_type": "stream",
     "text": [
      "Epoch 2/50:: 100%|\u001b[34m████████████████████\u001b[0m| 120/120 [00:02<00:00, 49.59batch/s, loss=1.746135]\u001b[0m\n"
     ]
    },
    {
     "name": "stdout",
     "output_type": "stream",
     "text": [
      "\t Loss: 209.536,\tTrain : 42.56%(42.56%),\tTest : 54.95%(54.95%),\tCurrent Time: 20250917-190805\n"
     ]
    },
    {
     "name": "stderr",
     "output_type": "stream",
     "text": [
      "Epoch 3/50:: 100%|\u001b[34m████████████████████\u001b[0m| 120/120 [00:02<00:00, 49.91batch/s, loss=1.354056]\u001b[0m\n"
     ]
    },
    {
     "name": "stdout",
     "output_type": "stream",
     "text": [
      "\t Loss: 162.487,\tTrain : 58.53%(58.53%),\tTest : 63.19%(63.19%),\tCurrent Time: 20250917-190807\n"
     ]
    },
    {
     "name": "stderr",
     "output_type": "stream",
     "text": [
      "Epoch 4/50:: 100%|\u001b[34m████████████████████\u001b[0m| 120/120 [00:02<00:00, 49.83batch/s, loss=1.156355]\u001b[0m\n"
     ]
    },
    {
     "name": "stdout",
     "output_type": "stream",
     "text": [
      "\t Loss: 138.763,\tTrain : 64.29%(64.29%),\tTest : 67.13%(67.13%),\tCurrent Time: 20250917-190810\n"
     ]
    },
    {
     "name": "stderr",
     "output_type": "stream",
     "text": [
      "Epoch 5/50:: 100%|\u001b[34m████████████████████\u001b[0m| 120/120 [00:02<00:00, 49.85batch/s, loss=1.039816]\u001b[0m\n"
     ]
    },
    {
     "name": "stdout",
     "output_type": "stream",
     "text": [
      "\t Loss: 124.778,\tTrain : 67.02%(67.02%),\tTest : 69.36%(69.36%),\tCurrent Time: 20250917-190812\n"
     ]
    },
    {
     "name": "stderr",
     "output_type": "stream",
     "text": [
      "Epoch 6/50:: 100%|\u001b[34m████████████████████\u001b[0m| 120/120 [00:02<00:00, 49.71batch/s, loss=0.967504]\u001b[0m\n"
     ]
    },
    {
     "name": "stdout",
     "output_type": "stream",
     "text": [
      "\t Loss: 116.100,\tTrain : 68.80%(68.80%),\tTest : 70.93%(70.93%),\tCurrent Time: 20250917-190815\n"
     ]
    },
    {
     "name": "stderr",
     "output_type": "stream",
     "text": [
      "Epoch 7/50:: 100%|\u001b[34m████████████████████\u001b[0m| 120/120 [00:02<00:00, 49.96batch/s, loss=0.912019]\u001b[0m\n"
     ]
    },
    {
     "name": "stdout",
     "output_type": "stream",
     "text": [
      "\t Loss: 109.442,\tTrain : 70.38%(70.38%),\tTest : 73.16%(73.16%),\tCurrent Time: 20250917-190817\n"
     ]
    },
    {
     "name": "stderr",
     "output_type": "stream",
     "text": [
      "Epoch 8/50:: 100%|\u001b[34m████████████████████\u001b[0m| 120/120 [00:02<00:00, 49.95batch/s, loss=0.851744]\u001b[0m\n"
     ]
    },
    {
     "name": "stdout",
     "output_type": "stream",
     "text": [
      "\t Loss: 102.209,\tTrain : 72.81%(72.81%),\tTest : 74.70%(74.70%),\tCurrent Time: 20250917-190820\n"
     ]
    },
    {
     "name": "stderr",
     "output_type": "stream",
     "text": [
      "Epoch 9/50:: 100%|\u001b[34m████████████████████\u001b[0m| 120/120 [00:02<00:00, 50.04batch/s, loss=0.794002]\u001b[0m\n"
     ]
    },
    {
     "name": "stdout",
     "output_type": "stream",
     "text": [
      "\t Loss: 95.280,\tTrain : 74.89%(74.89%),\tTest : 76.45%(76.45%),\tCurrent Time: 20250917-190822\n"
     ]
    },
    {
     "name": "stderr",
     "output_type": "stream",
     "text": [
      "Epoch 10/50:: 100%|\u001b[34m███████████████████\u001b[0m| 120/120 [00:02<00:00, 49.44batch/s, loss=0.747431]\u001b[0m\n"
     ]
    },
    {
     "name": "stdout",
     "output_type": "stream",
     "text": [
      "\t Loss: 89.692,\tTrain : 76.45%(76.45%),\tTest : 77.78%(77.78%),\tCurrent Time: 20250917-190825\n"
     ]
    },
    {
     "name": "stderr",
     "output_type": "stream",
     "text": [
      "Epoch 11/50:: 100%|\u001b[34m███████████████████\u001b[0m| 120/120 [00:02<00:00, 49.83batch/s, loss=0.715777]\u001b[0m\n"
     ]
    },
    {
     "name": "stdout",
     "output_type": "stream",
     "text": [
      "\t Loss: 85.893,\tTrain : 77.62%(77.62%),\tTest : 78.38%(78.38%),\tCurrent Time: 20250917-190827\n"
     ]
    },
    {
     "name": "stderr",
     "output_type": "stream",
     "text": [
      "Epoch 12/50:: 100%|\u001b[34m███████████████████\u001b[0m| 120/120 [00:02<00:00, 49.82batch/s, loss=0.692706]\u001b[0m\n"
     ]
    },
    {
     "name": "stdout",
     "output_type": "stream",
     "text": [
      "\t Loss: 83.125,\tTrain : 78.29%(78.29%),\tTest : 79.30%(79.30%),\tCurrent Time: 20250917-190830\n"
     ]
    },
    {
     "name": "stderr",
     "output_type": "stream",
     "text": [
      "Epoch 13/50:: 100%|\u001b[34m███████████████████\u001b[0m| 120/120 [00:02<00:00, 49.68batch/s, loss=0.670997]\u001b[0m\n"
     ]
    },
    {
     "name": "stdout",
     "output_type": "stream",
     "text": [
      "\t Loss: 80.520,\tTrain : 79.00%(79.00%),\tTest : 80.20%(80.20%),\tCurrent Time: 20250917-190832\n"
     ]
    },
    {
     "name": "stderr",
     "output_type": "stream",
     "text": [
      "Epoch 14/50:: 100%|\u001b[34m███████████████████\u001b[0m| 120/120 [00:02<00:00, 49.83batch/s, loss=0.649936]\u001b[0m\n"
     ]
    },
    {
     "name": "stdout",
     "output_type": "stream",
     "text": [
      "\t Loss: 77.992,\tTrain : 79.64%(79.64%),\tTest : 80.63%(80.63%),\tCurrent Time: 20250917-190835\n"
     ]
    },
    {
     "name": "stderr",
     "output_type": "stream",
     "text": [
      "Epoch 15/50:: 100%|\u001b[34m███████████████████\u001b[0m| 120/120 [00:02<00:00, 49.83batch/s, loss=0.630717]\u001b[0m\n"
     ]
    },
    {
     "name": "stdout",
     "output_type": "stream",
     "text": [
      "\t Loss: 75.686,\tTrain : 80.21%(80.21%),\tTest : 81.00%(81.00%),\tCurrent Time: 20250917-190837\n"
     ]
    },
    {
     "name": "stderr",
     "output_type": "stream",
     "text": [
      "Epoch 16/50:: 100%|\u001b[34m███████████████████\u001b[0m| 120/120 [00:02<00:00, 50.02batch/s, loss=0.618132]\u001b[0m\n"
     ]
    },
    {
     "name": "stdout",
     "output_type": "stream",
     "text": [
      "\t Loss: 74.176,\tTrain : 80.50%(80.50%),\tTest : 81.42%(81.42%),\tCurrent Time: 20250917-190840\n"
     ]
    },
    {
     "name": "stderr",
     "output_type": "stream",
     "text": [
      "Epoch 17/50:: 100%|\u001b[34m███████████████████\u001b[0m| 120/120 [00:02<00:00, 49.68batch/s, loss=0.602176]\u001b[0m\n"
     ]
    },
    {
     "name": "stdout",
     "output_type": "stream",
     "text": [
      "\t Loss: 72.261,\tTrain : 81.01%(81.01%),\tTest : 82.14%(82.14%),\tCurrent Time: 20250917-190842\n"
     ]
    },
    {
     "name": "stderr",
     "output_type": "stream",
     "text": [
      "Epoch 18/50:: 100%|\u001b[34m███████████████████\u001b[0m| 120/120 [00:02<00:00, 49.88batch/s, loss=0.587683]\u001b[0m\n"
     ]
    },
    {
     "name": "stdout",
     "output_type": "stream",
     "text": [
      "\t Loss: 70.522,\tTrain : 81.45%(81.45%),\tTest : 82.53%(82.53%),\tCurrent Time: 20250917-190845\n"
     ]
    },
    {
     "name": "stderr",
     "output_type": "stream",
     "text": [
      "Epoch 19/50:: 100%|\u001b[34m███████████████████\u001b[0m| 120/120 [00:02<00:00, 50.05batch/s, loss=0.579527]\u001b[0m\n"
     ]
    },
    {
     "name": "stdout",
     "output_type": "stream",
     "text": [
      "\t Loss: 69.543,\tTrain : 81.69%(81.69%),\tTest : 82.46%(82.53%),\tCurrent Time: 20250917-190847\n"
     ]
    },
    {
     "name": "stderr",
     "output_type": "stream",
     "text": [
      "Epoch 20/50:: 100%|\u001b[34m███████████████████\u001b[0m| 120/120 [00:02<00:00, 49.87batch/s, loss=0.566864]\u001b[0m\n"
     ]
    },
    {
     "name": "stdout",
     "output_type": "stream",
     "text": [
      "\t Loss: 68.024,\tTrain : 82.13%(82.13%),\tTest : 82.89%(82.89%),\tCurrent Time: 20250917-190850\n"
     ]
    },
    {
     "name": "stderr",
     "output_type": "stream",
     "text": [
      "Epoch 21/50:: 100%|\u001b[34m███████████████████\u001b[0m| 120/120 [00:02<00:00, 49.84batch/s, loss=0.555306]\u001b[0m\n"
     ]
    },
    {
     "name": "stdout",
     "output_type": "stream",
     "text": [
      "\t Loss: 66.637,\tTrain : 82.40%(82.40%),\tTest : 83.47%(83.47%),\tCurrent Time: 20250917-190852\n"
     ]
    },
    {
     "name": "stderr",
     "output_type": "stream",
     "text": [
      "Epoch 22/50:: 100%|\u001b[34m███████████████████\u001b[0m| 120/120 [00:02<00:00, 49.45batch/s, loss=0.545667]\u001b[0m\n"
     ]
    },
    {
     "name": "stdout",
     "output_type": "stream",
     "text": [
      "\t Loss: 65.480,\tTrain : 82.85%(82.85%),\tTest : 83.46%(83.47%),\tCurrent Time: 20250917-190855\n"
     ]
    },
    {
     "name": "stderr",
     "output_type": "stream",
     "text": [
      "Epoch 23/50:: 100%|\u001b[34m███████████████████\u001b[0m| 120/120 [00:02<00:00, 49.85batch/s, loss=0.538594]\u001b[0m\n"
     ]
    },
    {
     "name": "stdout",
     "output_type": "stream",
     "text": [
      "\t Loss: 64.631,\tTrain : 82.97%(82.97%),\tTest : 83.79%(83.79%),\tCurrent Time: 20250917-190857\n"
     ]
    },
    {
     "name": "stderr",
     "output_type": "stream",
     "text": [
      "Epoch 24/50:: 100%|\u001b[34m███████████████████\u001b[0m| 120/120 [00:02<00:00, 49.87batch/s, loss=0.530995]\u001b[0m\n"
     ]
    },
    {
     "name": "stdout",
     "output_type": "stream",
     "text": [
      "\t Loss: 63.719,\tTrain : 83.30%(83.30%),\tTest : 84.05%(84.05%),\tCurrent Time: 20250917-190900\n"
     ]
    },
    {
     "name": "stderr",
     "output_type": "stream",
     "text": [
      "Epoch 25/50:: 100%|\u001b[34m███████████████████\u001b[0m| 120/120 [00:02<00:00, 49.42batch/s, loss=0.525225]\u001b[0m\n"
     ]
    },
    {
     "name": "stdout",
     "output_type": "stream",
     "text": [
      "\t Loss: 63.027,\tTrain : 83.33%(83.33%),\tTest : 83.76%(84.05%),\tCurrent Time: 20250917-190902\n"
     ]
    },
    {
     "name": "stderr",
     "output_type": "stream",
     "text": [
      "Epoch 26/50:: 100%|\u001b[34m███████████████████\u001b[0m| 120/120 [00:02<00:00, 50.06batch/s, loss=0.517574]\u001b[0m\n"
     ]
    },
    {
     "name": "stdout",
     "output_type": "stream",
     "text": [
      "\t Loss: 62.109,\tTrain : 83.66%(83.66%),\tTest : 83.92%(84.05%),\tCurrent Time: 20250917-190905\n"
     ]
    },
    {
     "name": "stderr",
     "output_type": "stream",
     "text": [
      "Epoch 27/50:: 100%|\u001b[34m███████████████████\u001b[0m| 120/120 [00:02<00:00, 49.84batch/s, loss=0.515010]\u001b[0m\n"
     ]
    },
    {
     "name": "stdout",
     "output_type": "stream",
     "text": [
      "\t Loss: 61.801,\tTrain : 83.86%(83.86%),\tTest : 84.36%(84.36%),\tCurrent Time: 20250917-190907\n"
     ]
    },
    {
     "name": "stderr",
     "output_type": "stream",
     "text": [
      "Epoch 28/50:: 100%|\u001b[34m███████████████████\u001b[0m| 120/120 [00:02<00:00, 49.86batch/s, loss=0.510100]\u001b[0m\n"
     ]
    },
    {
     "name": "stdout",
     "output_type": "stream",
     "text": [
      "\t Loss: 61.212,\tTrain : 83.98%(83.98%),\tTest : 84.10%(84.36%),\tCurrent Time: 20250917-190909\n"
     ]
    },
    {
     "name": "stderr",
     "output_type": "stream",
     "text": [
      "Epoch 29/50:: 100%|\u001b[34m███████████████████\u001b[0m| 120/120 [00:02<00:00, 49.78batch/s, loss=0.512081]\u001b[0m\n"
     ]
    },
    {
     "name": "stdout",
     "output_type": "stream",
     "text": [
      "\t Loss: 61.450,\tTrain : 83.85%(83.98%),\tTest : 84.14%(84.36%),\tCurrent Time: 20250917-190912\n"
     ]
    },
    {
     "name": "stderr",
     "output_type": "stream",
     "text": [
      "Epoch 30/50:: 100%|\u001b[34m███████████████████\u001b[0m| 120/120 [00:02<00:00, 49.92batch/s, loss=0.507675]\u001b[0m\n"
     ]
    },
    {
     "name": "stdout",
     "output_type": "stream",
     "text": [
      "\t Loss: 60.921,\tTrain : 84.21%(84.21%),\tTest : 84.25%(84.36%),\tCurrent Time: 20250917-190914\n"
     ]
    },
    {
     "name": "stderr",
     "output_type": "stream",
     "text": [
      "Epoch 31/50:: 100%|\u001b[34m███████████████████\u001b[0m| 120/120 [00:02<00:00, 49.83batch/s, loss=0.507806]\u001b[0m\n"
     ]
    },
    {
     "name": "stdout",
     "output_type": "stream",
     "text": [
      "\t Loss: 60.937,\tTrain : 84.10%(84.21%),\tTest : 84.19%(84.36%),\tCurrent Time: 20250917-190917\n"
     ]
    },
    {
     "name": "stderr",
     "output_type": "stream",
     "text": [
      "Epoch 32/50:: 100%|\u001b[34m███████████████████\u001b[0m| 120/120 [00:02<00:00, 49.90batch/s, loss=0.512664]\u001b[0m\n"
     ]
    },
    {
     "name": "stdout",
     "output_type": "stream",
     "text": [
      "\t Loss: 61.520,\tTrain : 84.13%(84.21%),\tTest : 83.99%(84.36%),\tCurrent Time: 20250917-190919\n"
     ]
    },
    {
     "name": "stderr",
     "output_type": "stream",
     "text": [
      "Epoch 33/50:: 100%|\u001b[34m███████████████████\u001b[0m| 120/120 [00:02<00:00, 49.79batch/s, loss=0.523715]\u001b[0m\n"
     ]
    },
    {
     "name": "stdout",
     "output_type": "stream",
     "text": [
      "\t Loss: 62.846,\tTrain : 83.87%(84.21%),\tTest : 84.21%(84.36%),\tCurrent Time: 20250917-190922\n"
     ]
    },
    {
     "name": "stderr",
     "output_type": "stream",
     "text": [
      "Epoch 34/50:: 100%|\u001b[34m███████████████████\u001b[0m| 120/120 [00:02<00:00, 49.90batch/s, loss=0.514546]\u001b[0m\n"
     ]
    },
    {
     "name": "stdout",
     "output_type": "stream",
     "text": [
      "\t Loss: 61.745,\tTrain : 84.13%(84.21%),\tTest : 84.24%(84.36%),\tCurrent Time: 20250917-190924\n"
     ]
    },
    {
     "name": "stderr",
     "output_type": "stream",
     "text": [
      "Epoch 35/50:: 100%|\u001b[34m███████████████████\u001b[0m| 120/120 [00:02<00:00, 49.65batch/s, loss=0.524783]\u001b[0m\n"
     ]
    },
    {
     "name": "stdout",
     "output_type": "stream",
     "text": [
      "\t Loss: 62.974,\tTrain : 83.91%(84.21%),\tTest : 83.84%(84.36%),\tCurrent Time: 20250917-190927\n"
     ]
    },
    {
     "name": "stderr",
     "output_type": "stream",
     "text": [
      "Epoch 36/50:: 100%|\u001b[34m███████████████████\u001b[0m| 120/120 [00:02<00:00, 49.83batch/s, loss=0.524849]\u001b[0m\n"
     ]
    },
    {
     "name": "stdout",
     "output_type": "stream",
     "text": [
      "\t Loss: 62.982,\tTrain : 83.98%(84.21%),\tTest : 83.75%(84.36%),\tCurrent Time: 20250917-190929\n"
     ]
    },
    {
     "name": "stderr",
     "output_type": "stream",
     "text": [
      "Epoch 37/50:: 100%|\u001b[34m███████████████████\u001b[0m| 120/120 [00:02<00:00, 50.03batch/s, loss=0.527123]\u001b[0m\n"
     ]
    },
    {
     "name": "stdout",
     "output_type": "stream",
     "text": [
      "\t Loss: 63.255,\tTrain : 84.06%(84.21%),\tTest : 83.83%(84.36%),\tCurrent Time: 20250917-190932\n"
     ]
    },
    {
     "name": "stderr",
     "output_type": "stream",
     "text": [
      "Epoch 38/50:: 100%|\u001b[34m███████████████████\u001b[0m| 120/120 [00:02<00:00, 49.67batch/s, loss=0.531944]\u001b[0m\n"
     ]
    },
    {
     "name": "stdout",
     "output_type": "stream",
     "text": [
      "\t Loss: 63.833,\tTrain : 83.98%(84.21%),\tTest : 84.04%(84.36%),\tCurrent Time: 20250917-190934\n"
     ]
    },
    {
     "name": "stderr",
     "output_type": "stream",
     "text": [
      "Epoch 39/50:: 100%|\u001b[34m███████████████████\u001b[0m| 120/120 [00:02<00:00, 49.87batch/s, loss=0.534138]\u001b[0m\n"
     ]
    },
    {
     "name": "stdout",
     "output_type": "stream",
     "text": [
      "\t Loss: 64.097,\tTrain : 84.06%(84.21%),\tTest : 83.83%(84.36%),\tCurrent Time: 20250917-190937\n"
     ]
    },
    {
     "name": "stderr",
     "output_type": "stream",
     "text": [
      "Epoch 40/50:: 100%|\u001b[34m███████████████████\u001b[0m| 120/120 [00:02<00:00, 49.63batch/s, loss=0.557227]\u001b[0m\n"
     ]
    },
    {
     "name": "stdout",
     "output_type": "stream",
     "text": [
      "\t Loss: 66.867,\tTrain : 83.61%(84.21%),\tTest : 84.16%(84.36%),\tCurrent Time: 20250917-190939\n"
     ]
    },
    {
     "name": "stderr",
     "output_type": "stream",
     "text": [
      "Epoch 41/50:: 100%|\u001b[34m███████████████████\u001b[0m| 120/120 [00:02<00:00, 49.87batch/s, loss=0.550431]\u001b[0m\n"
     ]
    },
    {
     "name": "stdout",
     "output_type": "stream",
     "text": [
      "\t Loss: 66.052,\tTrain : 83.98%(84.21%),\tTest : 83.44%(84.36%),\tCurrent Time: 20250917-190942\n"
     ]
    },
    {
     "name": "stderr",
     "output_type": "stream",
     "text": [
      "Epoch 42/50:: 100%|\u001b[34m███████████████████\u001b[0m| 120/120 [00:02<00:00, 49.61batch/s, loss=0.576273]\u001b[0m\n"
     ]
    },
    {
     "name": "stdout",
     "output_type": "stream",
     "text": [
      "\t Loss: 69.153,\tTrain : 83.56%(84.21%),\tTest : 84.01%(84.36%),\tCurrent Time: 20250917-190944\n"
     ]
    },
    {
     "name": "stderr",
     "output_type": "stream",
     "text": [
      "Epoch 43/50:: 100%|\u001b[34m███████████████████\u001b[0m| 120/120 [00:02<00:00, 49.80batch/s, loss=0.585830]\u001b[0m\n"
     ]
    },
    {
     "name": "stdout",
     "output_type": "stream",
     "text": [
      "\t Loss: 70.300,\tTrain : 83.67%(84.21%),\tTest : 82.92%(84.36%),\tCurrent Time: 20250917-190947\n"
     ]
    },
    {
     "name": "stderr",
     "output_type": "stream",
     "text": [
      "Epoch 44/50:: 100%|\u001b[34m███████████████████\u001b[0m| 120/120 [00:02<00:00, 49.93batch/s, loss=0.605186]\u001b[0m\n"
     ]
    },
    {
     "name": "stdout",
     "output_type": "stream",
     "text": [
      "\t Loss: 72.622,\tTrain : 83.51%(84.21%),\tTest : 83.94%(84.36%),\tCurrent Time: 20250917-190949\n"
     ]
    },
    {
     "name": "stderr",
     "output_type": "stream",
     "text": [
      "Epoch 45/50:: 100%|\u001b[34m███████████████████\u001b[0m| 120/120 [00:02<00:00, 50.03batch/s, loss=0.639322]\u001b[0m\n"
     ]
    },
    {
     "name": "stdout",
     "output_type": "stream",
     "text": [
      "\t Loss: 76.719,\tTrain : 83.01%(84.21%),\tTest : 82.94%(84.36%),\tCurrent Time: 20250917-190952\n"
     ]
    },
    {
     "name": "stderr",
     "output_type": "stream",
     "text": [
      "Epoch 46/50:: 100%|\u001b[34m███████████████████\u001b[0m| 120/120 [00:02<00:00, 49.44batch/s, loss=0.665157]\u001b[0m\n"
     ]
    },
    {
     "name": "stdout",
     "output_type": "stream",
     "text": [
      "\t Loss: 79.819,\tTrain : 82.89%(84.21%),\tTest : 82.05%(84.36%),\tCurrent Time: 20250917-190954\n"
     ]
    },
    {
     "name": "stderr",
     "output_type": "stream",
     "text": [
      "Epoch 47/50:: 100%|\u001b[34m███████████████████\u001b[0m| 120/120 [00:02<00:00, 49.80batch/s, loss=0.677174]\u001b[0m\n"
     ]
    },
    {
     "name": "stdout",
     "output_type": "stream",
     "text": [
      "\t Loss: 81.261,\tTrain : 82.81%(84.21%),\tTest : 83.73%(84.36%),\tCurrent Time: 20250917-190957\n"
     ]
    },
    {
     "name": "stderr",
     "output_type": "stream",
     "text": [
      "Epoch 48/50:: 100%|\u001b[34m███████████████████\u001b[0m| 120/120 [00:02<00:00, 49.86batch/s, loss=0.736330]\u001b[0m\n"
     ]
    },
    {
     "name": "stdout",
     "output_type": "stream",
     "text": [
      "\t Loss: 88.360,\tTrain : 81.69%(84.21%),\tTest : 79.03%(84.36%),\tCurrent Time: 20250917-190959\n"
     ]
    },
    {
     "name": "stderr",
     "output_type": "stream",
     "text": [
      "Epoch 49/50:: 100%|\u001b[34m███████████████████\u001b[0m| 120/120 [00:02<00:00, 49.84batch/s, loss=0.759347]\u001b[0m\n"
     ]
    },
    {
     "name": "stdout",
     "output_type": "stream",
     "text": [
      "\t Loss: 91.122,\tTrain : 81.78%(84.21%),\tTest : 80.94%(84.36%),\tCurrent Time: 20250917-191002\n"
     ]
    },
    {
     "name": "stderr",
     "output_type": "stream",
     "text": [
      "Epoch 50/50:: 100%|\u001b[34m███████████████████\u001b[0m| 120/120 [00:02<00:00, 49.80batch/s, loss=0.776370]\u001b[0m\n"
     ]
    },
    {
     "name": "stdout",
     "output_type": "stream",
     "text": [
      "\t Loss: 93.164,\tTrain : 81.85%(84.21%),\tTest : 81.55%(84.36%),\tCurrent Time: 20250917-191004\n",
      "First_asymm_AG_N-HL_resP-EP_L10-P0-MNIST_EP_b_sc0.1- Time: 20250917-191004, Epochs: 50, Learning Rate: 0.0005, Best: 84.21%  84.36%\n",
      "\n",
      "[[0 1 0 0 0 0 0 0 0 0 0 0]\n",
      " [0 0 1 0 0 0 0 0 0 0 0 0]\n",
      " [0 1 0 1 0 0 0 0 0 0 0 0]\n",
      " [0 0 1 0 1 0 0 0 0 0 0 0]\n",
      " [0 0 0 1 0 1 0 0 0 0 0 0]\n",
      " [0 0 0 0 1 0 1 0 0 0 0 0]\n",
      " [0 0 0 0 0 1 0 1 0 0 0 0]\n",
      " [0 0 0 0 0 0 1 0 1 0 0 0]\n",
      " [0 0 0 0 0 0 0 1 0 1 0 0]\n",
      " [0 0 0 0 0 0 0 0 1 0 1 0]\n",
      " [0 0 0 0 0 0 0 0 0 1 0 1]\n",
      " [0 0 0 0 0 0 0 0 0 0 1 0]]\n",
      "First_asymm_AG_N-HL_resP-EP_L10-P0-MNIST_EP_b_sc0.1-\n"
     ]
    },
    {
     "name": "stderr",
     "output_type": "stream",
     "text": [
      "Epoch 1/50:: 100%|\u001b[34m████████████████████\u001b[0m| 120/120 [00:02<00:00, 46.83batch/s, loss=2.233429]\u001b[0m\n"
     ]
    },
    {
     "name": "stdout",
     "output_type": "stream",
     "text": [
      "\t Loss: 268.012,\tTrain : 16.63%(16.63%),\tTest : 27.65%(27.65%),\tCurrent Time: 20250917-191011\n"
     ]
    },
    {
     "name": "stderr",
     "output_type": "stream",
     "text": [
      "Epoch 2/50:: 100%|\u001b[34m████████████████████\u001b[0m| 120/120 [00:02<00:00, 49.64batch/s, loss=1.880235]\u001b[0m\n"
     ]
    },
    {
     "name": "stdout",
     "output_type": "stream",
     "text": [
      "\t Loss: 225.628,\tTrain : 36.24%(36.24%),\tTest : 47.26%(47.26%),\tCurrent Time: 20250917-191014\n"
     ]
    },
    {
     "name": "stderr",
     "output_type": "stream",
     "text": [
      "Epoch 3/50:: 100%|\u001b[34m████████████████████\u001b[0m| 120/120 [00:02<00:00, 50.01batch/s, loss=1.528459]\u001b[0m\n"
     ]
    },
    {
     "name": "stdout",
     "output_type": "stream",
     "text": [
      "\t Loss: 183.415,\tTrain : 52.93%(52.93%),\tTest : 59.49%(59.49%),\tCurrent Time: 20250917-191016\n"
     ]
    },
    {
     "name": "stderr",
     "output_type": "stream",
     "text": [
      "Epoch 4/50:: 100%|\u001b[34m████████████████████\u001b[0m| 120/120 [00:02<00:00, 49.89batch/s, loss=1.311230]\u001b[0m\n"
     ]
    },
    {
     "name": "stdout",
     "output_type": "stream",
     "text": [
      "\t Loss: 157.348,\tTrain : 59.49%(59.49%),\tTest : 62.33%(62.33%),\tCurrent Time: 20250917-191019\n"
     ]
    },
    {
     "name": "stderr",
     "output_type": "stream",
     "text": [
      "Epoch 5/50:: 100%|\u001b[34m████████████████████\u001b[0m| 120/120 [00:02<00:00, 49.81batch/s, loss=1.170539]\u001b[0m\n"
     ]
    },
    {
     "name": "stdout",
     "output_type": "stream",
     "text": [
      "\t Loss: 140.465,\tTrain : 63.65%(63.65%),\tTest : 67.29%(67.29%),\tCurrent Time: 20250917-191021\n"
     ]
    },
    {
     "name": "stderr",
     "output_type": "stream",
     "text": [
      "Epoch 6/50:: 100%|\u001b[34m████████████████████\u001b[0m| 120/120 [00:02<00:00, 49.72batch/s, loss=1.064289]\u001b[0m\n"
     ]
    },
    {
     "name": "stdout",
     "output_type": "stream",
     "text": [
      "\t Loss: 127.715,\tTrain : 67.20%(67.20%),\tTest : 70.24%(70.24%),\tCurrent Time: 20250917-191024\n"
     ]
    },
    {
     "name": "stderr",
     "output_type": "stream",
     "text": [
      "Epoch 7/50:: 100%|\u001b[34m████████████████████\u001b[0m| 120/120 [00:02<00:00, 50.04batch/s, loss=0.986992]\u001b[0m\n"
     ]
    },
    {
     "name": "stdout",
     "output_type": "stream",
     "text": [
      "\t Loss: 118.439,\tTrain : 69.70%(69.70%),\tTest : 71.49%(71.49%),\tCurrent Time: 20250917-191026\n"
     ]
    },
    {
     "name": "stderr",
     "output_type": "stream",
     "text": [
      "Epoch 8/50:: 100%|\u001b[34m████████████████████\u001b[0m| 120/120 [00:02<00:00, 49.81batch/s, loss=0.929317]\u001b[0m\n"
     ]
    },
    {
     "name": "stdout",
     "output_type": "stream",
     "text": [
      "\t Loss: 111.518,\tTrain : 71.50%(71.50%),\tTest : 72.98%(72.98%),\tCurrent Time: 20250917-191029\n"
     ]
    },
    {
     "name": "stderr",
     "output_type": "stream",
     "text": [
      "Epoch 9/50:: 100%|\u001b[34m████████████████████\u001b[0m| 120/120 [00:02<00:00, 49.87batch/s, loss=0.878054]\u001b[0m\n"
     ]
    },
    {
     "name": "stdout",
     "output_type": "stream",
     "text": [
      "\t Loss: 105.367,\tTrain : 72.93%(72.93%),\tTest : 74.39%(74.39%),\tCurrent Time: 20250917-191031\n"
     ]
    },
    {
     "name": "stderr",
     "output_type": "stream",
     "text": [
      "Epoch 10/50:: 100%|\u001b[34m███████████████████\u001b[0m| 120/120 [00:02<00:00, 49.85batch/s, loss=0.830755]\u001b[0m\n"
     ]
    },
    {
     "name": "stdout",
     "output_type": "stream",
     "text": [
      "\t Loss: 99.691,\tTrain : 74.34%(74.34%),\tTest : 75.98%(75.98%),\tCurrent Time: 20250917-191034\n"
     ]
    },
    {
     "name": "stderr",
     "output_type": "stream",
     "text": [
      "Epoch 11/50:: 100%|\u001b[34m███████████████████\u001b[0m| 120/120 [00:02<00:00, 49.85batch/s, loss=0.788674]\u001b[0m\n"
     ]
    },
    {
     "name": "stdout",
     "output_type": "stream",
     "text": [
      "\t Loss: 94.641,\tTrain : 75.59%(75.59%),\tTest : 77.35%(77.35%),\tCurrent Time: 20250917-191036\n"
     ]
    },
    {
     "name": "stderr",
     "output_type": "stream",
     "text": [
      "Epoch 12/50:: 100%|\u001b[34m███████████████████\u001b[0m| 120/120 [00:02<00:00, 49.85batch/s, loss=0.753406]\u001b[0m\n"
     ]
    },
    {
     "name": "stdout",
     "output_type": "stream",
     "text": [
      "\t Loss: 90.409,\tTrain : 76.64%(76.64%),\tTest : 78.31%(78.31%),\tCurrent Time: 20250917-191039\n"
     ]
    },
    {
     "name": "stderr",
     "output_type": "stream",
     "text": [
      "Epoch 13/50:: 100%|\u001b[34m███████████████████\u001b[0m| 120/120 [00:02<00:00, 49.81batch/s, loss=0.725211]\u001b[0m\n"
     ]
    },
    {
     "name": "stdout",
     "output_type": "stream",
     "text": [
      "\t Loss: 87.025,\tTrain : 77.43%(77.43%),\tTest : 79.06%(79.06%),\tCurrent Time: 20250917-191041\n"
     ]
    },
    {
     "name": "stderr",
     "output_type": "stream",
     "text": [
      "Epoch 14/50:: 100%|\u001b[34m███████████████████\u001b[0m| 120/120 [00:02<00:00, 50.06batch/s, loss=0.701120]\u001b[0m\n"
     ]
    },
    {
     "name": "stdout",
     "output_type": "stream",
     "text": [
      "\t Loss: 84.134,\tTrain : 78.14%(78.14%),\tTest : 79.48%(79.48%),\tCurrent Time: 20250917-191044\n"
     ]
    },
    {
     "name": "stderr",
     "output_type": "stream",
     "text": [
      "Epoch 15/50:: 100%|\u001b[34m███████████████████\u001b[0m| 120/120 [00:02<00:00, 49.83batch/s, loss=0.678768]\u001b[0m\n"
     ]
    },
    {
     "name": "stdout",
     "output_type": "stream",
     "text": [
      "\t Loss: 81.452,\tTrain : 78.81%(78.81%),\tTest : 80.03%(80.03%),\tCurrent Time: 20250917-191046\n"
     ]
    },
    {
     "name": "stderr",
     "output_type": "stream",
     "text": [
      "Epoch 16/50:: 100%|\u001b[34m███████████████████\u001b[0m| 120/120 [00:02<00:00, 49.89batch/s, loss=0.659929]\u001b[0m\n"
     ]
    },
    {
     "name": "stdout",
     "output_type": "stream",
     "text": [
      "\t Loss: 79.191,\tTrain : 79.45%(79.45%),\tTest : 80.79%(80.79%),\tCurrent Time: 20250917-191049\n"
     ]
    },
    {
     "name": "stderr",
     "output_type": "stream",
     "text": [
      "Epoch 17/50:: 100%|\u001b[34m███████████████████\u001b[0m| 120/120 [00:02<00:00, 50.00batch/s, loss=0.641632]\u001b[0m\n"
     ]
    },
    {
     "name": "stdout",
     "output_type": "stream",
     "text": [
      "\t Loss: 76.996,\tTrain : 79.99%(79.99%),\tTest : 81.15%(81.15%),\tCurrent Time: 20250917-191051\n"
     ]
    },
    {
     "name": "stderr",
     "output_type": "stream",
     "text": [
      "Epoch 18/50:: 100%|\u001b[34m███████████████████\u001b[0m| 120/120 [00:02<00:00, 50.07batch/s, loss=0.625471]\u001b[0m\n"
     ]
    },
    {
     "name": "stdout",
     "output_type": "stream",
     "text": [
      "\t Loss: 75.056,\tTrain : 80.45%(80.45%),\tTest : 81.50%(81.50%),\tCurrent Time: 20250917-191054\n"
     ]
    },
    {
     "name": "stderr",
     "output_type": "stream",
     "text": [
      "Epoch 19/50:: 100%|\u001b[34m███████████████████\u001b[0m| 120/120 [00:02<00:00, 49.85batch/s, loss=0.610133]\u001b[0m\n"
     ]
    },
    {
     "name": "stdout",
     "output_type": "stream",
     "text": [
      "\t Loss: 73.216,\tTrain : 80.97%(80.97%),\tTest : 81.86%(81.86%),\tCurrent Time: 20250917-191056\n"
     ]
    },
    {
     "name": "stderr",
     "output_type": "stream",
     "text": [
      "Epoch 20/50:: 100%|\u001b[34m███████████████████\u001b[0m| 120/120 [00:02<00:00, 49.65batch/s, loss=0.596434]\u001b[0m\n"
     ]
    },
    {
     "name": "stdout",
     "output_type": "stream",
     "text": [
      "\t Loss: 71.572,\tTrain : 81.49%(81.49%),\tTest : 82.03%(82.03%),\tCurrent Time: 20250917-191059\n"
     ]
    },
    {
     "name": "stderr",
     "output_type": "stream",
     "text": [
      "Epoch 21/50:: 100%|\u001b[34m███████████████████\u001b[0m| 120/120 [00:02<00:00, 50.04batch/s, loss=0.583646]\u001b[0m\n"
     ]
    },
    {
     "name": "stdout",
     "output_type": "stream",
     "text": [
      "\t Loss: 70.037,\tTrain : 81.88%(81.88%),\tTest : 82.28%(82.28%),\tCurrent Time: 20250917-191101\n"
     ]
    },
    {
     "name": "stderr",
     "output_type": "stream",
     "text": [
      "Epoch 22/50:: 100%|\u001b[34m███████████████████\u001b[0m| 120/120 [00:02<00:00, 49.88batch/s, loss=0.575382]\u001b[0m\n"
     ]
    },
    {
     "name": "stdout",
     "output_type": "stream",
     "text": [
      "\t Loss: 69.046,\tTrain : 82.12%(82.12%),\tTest : 83.08%(83.08%),\tCurrent Time: 20250917-191104\n"
     ]
    },
    {
     "name": "stderr",
     "output_type": "stream",
     "text": [
      "Epoch 23/50:: 100%|\u001b[34m███████████████████\u001b[0m| 120/120 [00:02<00:00, 49.84batch/s, loss=0.562842]\u001b[0m\n"
     ]
    },
    {
     "name": "stdout",
     "output_type": "stream",
     "text": [
      "\t Loss: 67.541,\tTrain : 82.47%(82.47%),\tTest : 83.21%(83.21%),\tCurrent Time: 20250917-191106\n"
     ]
    },
    {
     "name": "stderr",
     "output_type": "stream",
     "text": [
      "Epoch 24/50:: 100%|\u001b[34m███████████████████\u001b[0m| 120/120 [00:02<00:00, 49.82batch/s, loss=0.552510]\u001b[0m\n"
     ]
    },
    {
     "name": "stdout",
     "output_type": "stream",
     "text": [
      "\t Loss: 66.301,\tTrain : 82.86%(82.86%),\tTest : 83.37%(83.37%),\tCurrent Time: 20250917-191109\n"
     ]
    },
    {
     "name": "stderr",
     "output_type": "stream",
     "text": [
      "Epoch 25/50:: 100%|\u001b[34m███████████████████\u001b[0m| 120/120 [00:02<00:00, 50.06batch/s, loss=0.544549]\u001b[0m\n"
     ]
    },
    {
     "name": "stdout",
     "output_type": "stream",
     "text": [
      "\t Loss: 65.346,\tTrain : 83.01%(83.01%),\tTest : 83.18%(83.37%),\tCurrent Time: 20250917-191111\n"
     ]
    },
    {
     "name": "stderr",
     "output_type": "stream",
     "text": [
      "Epoch 26/50:: 100%|\u001b[34m███████████████████\u001b[0m| 120/120 [00:02<00:00, 50.06batch/s, loss=0.537253]\u001b[0m\n"
     ]
    },
    {
     "name": "stdout",
     "output_type": "stream",
     "text": [
      "\t Loss: 64.470,\tTrain : 83.17%(83.17%),\tTest : 83.74%(83.74%),\tCurrent Time: 20250917-191114\n"
     ]
    },
    {
     "name": "stderr",
     "output_type": "stream",
     "text": [
      "Epoch 27/50:: 100%|\u001b[34m███████████████████\u001b[0m| 120/120 [00:02<00:00, 50.05batch/s, loss=0.530305]\u001b[0m\n"
     ]
    },
    {
     "name": "stdout",
     "output_type": "stream",
     "text": [
      "\t Loss: 63.637,\tTrain : 83.35%(83.35%),\tTest : 83.94%(83.94%),\tCurrent Time: 20250917-191116\n"
     ]
    },
    {
     "name": "stderr",
     "output_type": "stream",
     "text": [
      "Epoch 28/50:: 100%|\u001b[34m███████████████████\u001b[0m| 120/120 [00:02<00:00, 49.64batch/s, loss=0.523097]\u001b[0m\n"
     ]
    },
    {
     "name": "stdout",
     "output_type": "stream",
     "text": [
      "\t Loss: 62.772,\tTrain : 83.70%(83.70%),\tTest : 83.87%(83.94%),\tCurrent Time: 20250917-191119\n"
     ]
    },
    {
     "name": "stderr",
     "output_type": "stream",
     "text": [
      "Epoch 29/50:: 100%|\u001b[34m███████████████████\u001b[0m| 120/120 [00:02<00:00, 49.84batch/s, loss=0.517776]\u001b[0m\n"
     ]
    },
    {
     "name": "stdout",
     "output_type": "stream",
     "text": [
      "\t Loss: 62.133,\tTrain : 83.86%(83.86%),\tTest : 84.25%(84.25%),\tCurrent Time: 20250917-191121\n"
     ]
    },
    {
     "name": "stderr",
     "output_type": "stream",
     "text": [
      "Epoch 30/50:: 100%|\u001b[34m███████████████████\u001b[0m| 120/120 [00:02<00:00, 50.04batch/s, loss=0.510433]\u001b[0m\n"
     ]
    },
    {
     "name": "stdout",
     "output_type": "stream",
     "text": [
      "\t Loss: 61.252,\tTrain : 84.15%(84.15%),\tTest : 84.77%(84.77%),\tCurrent Time: 20250917-191123\n"
     ]
    },
    {
     "name": "stderr",
     "output_type": "stream",
     "text": [
      "Epoch 31/50:: 100%|\u001b[34m███████████████████\u001b[0m| 120/120 [00:02<00:00, 49.87batch/s, loss=0.507884]\u001b[0m\n"
     ]
    },
    {
     "name": "stdout",
     "output_type": "stream",
     "text": [
      "\t Loss: 60.946,\tTrain : 84.12%(84.15%),\tTest : 84.39%(84.77%),\tCurrent Time: 20250917-191126\n"
     ]
    },
    {
     "name": "stderr",
     "output_type": "stream",
     "text": [
      "Epoch 32/50:: 100%|\u001b[34m███████████████████\u001b[0m| 120/120 [00:02<00:00, 49.81batch/s, loss=0.504098]\u001b[0m\n"
     ]
    },
    {
     "name": "stdout",
     "output_type": "stream",
     "text": [
      "\t Loss: 60.492,\tTrain : 84.35%(84.35%),\tTest : 85.25%(85.25%),\tCurrent Time: 20250917-191128\n"
     ]
    },
    {
     "name": "stderr",
     "output_type": "stream",
     "text": [
      "Epoch 33/50:: 100%|\u001b[34m███████████████████\u001b[0m| 120/120 [00:02<00:00, 49.90batch/s, loss=0.498999]\u001b[0m\n"
     ]
    },
    {
     "name": "stdout",
     "output_type": "stream",
     "text": [
      "\t Loss: 59.880,\tTrain : 84.53%(84.53%),\tTest : 85.10%(85.25%),\tCurrent Time: 20250917-191131\n"
     ]
    },
    {
     "name": "stderr",
     "output_type": "stream",
     "text": [
      "Epoch 34/50:: 100%|\u001b[34m███████████████████\u001b[0m| 120/120 [00:02<00:00, 49.89batch/s, loss=0.491905]\u001b[0m\n"
     ]
    },
    {
     "name": "stdout",
     "output_type": "stream",
     "text": [
      "\t Loss: 59.029,\tTrain : 84.87%(84.87%),\tTest : 84.82%(85.25%),\tCurrent Time: 20250917-191133\n"
     ]
    },
    {
     "name": "stderr",
     "output_type": "stream",
     "text": [
      "Epoch 35/50:: 100%|\u001b[34m███████████████████\u001b[0m| 120/120 [00:02<00:00, 49.83batch/s, loss=0.489459]\u001b[0m\n"
     ]
    },
    {
     "name": "stdout",
     "output_type": "stream",
     "text": [
      "\t Loss: 58.735,\tTrain : 84.85%(84.87%),\tTest : 85.53%(85.53%),\tCurrent Time: 20250917-191136\n"
     ]
    },
    {
     "name": "stderr",
     "output_type": "stream",
     "text": [
      "Epoch 36/50:: 100%|\u001b[34m███████████████████\u001b[0m| 120/120 [00:02<00:00, 49.82batch/s, loss=0.485538]\u001b[0m\n"
     ]
    },
    {
     "name": "stdout",
     "output_type": "stream",
     "text": [
      "\t Loss: 58.265,\tTrain : 84.96%(84.96%),\tTest : 85.58%(85.58%),\tCurrent Time: 20250917-191138\n"
     ]
    },
    {
     "name": "stderr",
     "output_type": "stream",
     "text": [
      "Epoch 37/50:: 100%|\u001b[34m███████████████████\u001b[0m| 120/120 [00:02<00:00, 50.04batch/s, loss=0.477550]\u001b[0m\n"
     ]
    },
    {
     "name": "stdout",
     "output_type": "stream",
     "text": [
      "\t Loss: 57.306,\tTrain : 85.27%(85.27%),\tTest : 85.64%(85.64%),\tCurrent Time: 20250917-191141\n"
     ]
    },
    {
     "name": "stderr",
     "output_type": "stream",
     "text": [
      "Epoch 38/50:: 100%|\u001b[34m███████████████████\u001b[0m| 120/120 [00:02<00:00, 49.82batch/s, loss=0.474119]\u001b[0m\n"
     ]
    },
    {
     "name": "stdout",
     "output_type": "stream",
     "text": [
      "\t Loss: 56.894,\tTrain : 85.36%(85.36%),\tTest : 85.64%(85.64%),\tCurrent Time: 20250917-191143\n"
     ]
    },
    {
     "name": "stderr",
     "output_type": "stream",
     "text": [
      "Epoch 39/50:: 100%|\u001b[34m███████████████████\u001b[0m| 120/120 [00:02<00:00, 49.20batch/s, loss=0.474125]\u001b[0m\n"
     ]
    },
    {
     "name": "stdout",
     "output_type": "stream",
     "text": [
      "\t Loss: 56.895,\tTrain : 85.32%(85.36%),\tTest : 85.84%(85.84%),\tCurrent Time: 20250917-191146\n"
     ]
    },
    {
     "name": "stderr",
     "output_type": "stream",
     "text": [
      "Epoch 40/50:: 100%|\u001b[34m███████████████████\u001b[0m| 120/120 [00:02<00:00, 49.94batch/s, loss=0.466787]\u001b[0m\n"
     ]
    },
    {
     "name": "stdout",
     "output_type": "stream",
     "text": [
      "\t Loss: 56.014,\tTrain : 85.61%(85.61%),\tTest : 85.53%(85.84%),\tCurrent Time: 20250917-191148\n"
     ]
    },
    {
     "name": "stderr",
     "output_type": "stream",
     "text": [
      "Epoch 41/50:: 100%|\u001b[34m███████████████████\u001b[0m| 120/120 [00:02<00:00, 50.03batch/s, loss=0.463291]\u001b[0m\n"
     ]
    },
    {
     "name": "stdout",
     "output_type": "stream",
     "text": [
      "\t Loss: 55.595,\tTrain : 85.70%(85.70%),\tTest : 86.22%(86.22%),\tCurrent Time: 20250917-191151\n"
     ]
    },
    {
     "name": "stderr",
     "output_type": "stream",
     "text": [
      "Epoch 42/50:: 100%|\u001b[34m███████████████████\u001b[0m| 120/120 [00:02<00:00, 49.66batch/s, loss=0.460605]\u001b[0m\n"
     ]
    },
    {
     "name": "stdout",
     "output_type": "stream",
     "text": [
      "\t Loss: 55.273,\tTrain : 85.75%(85.75%),\tTest : 86.30%(86.30%),\tCurrent Time: 20250917-191153\n"
     ]
    },
    {
     "name": "stderr",
     "output_type": "stream",
     "text": [
      "Epoch 43/50:: 100%|\u001b[34m███████████████████\u001b[0m| 120/120 [00:02<00:00, 49.82batch/s, loss=0.456469]\u001b[0m\n"
     ]
    },
    {
     "name": "stdout",
     "output_type": "stream",
     "text": [
      "\t Loss: 54.776,\tTrain : 85.84%(85.84%),\tTest : 85.85%(86.30%),\tCurrent Time: 20250917-191156\n"
     ]
    },
    {
     "name": "stderr",
     "output_type": "stream",
     "text": [
      "Epoch 44/50:: 100%|\u001b[34m███████████████████\u001b[0m| 120/120 [00:02<00:00, 49.64batch/s, loss=0.454434]\u001b[0m\n"
     ]
    },
    {
     "name": "stdout",
     "output_type": "stream",
     "text": [
      "\t Loss: 54.532,\tTrain : 85.96%(85.96%),\tTest : 85.99%(86.30%),\tCurrent Time: 20250917-191158\n"
     ]
    },
    {
     "name": "stderr",
     "output_type": "stream",
     "text": [
      "Epoch 45/50:: 100%|\u001b[34m███████████████████\u001b[0m| 120/120 [00:02<00:00, 49.85batch/s, loss=0.450218]\u001b[0m\n"
     ]
    },
    {
     "name": "stdout",
     "output_type": "stream",
     "text": [
      "\t Loss: 54.026,\tTrain : 85.98%(85.98%),\tTest : 86.36%(86.36%),\tCurrent Time: 20250917-191201\n"
     ]
    },
    {
     "name": "stderr",
     "output_type": "stream",
     "text": [
      "Epoch 46/50:: 100%|\u001b[34m███████████████████\u001b[0m| 120/120 [00:02<00:00, 49.88batch/s, loss=0.447298]\u001b[0m\n"
     ]
    },
    {
     "name": "stdout",
     "output_type": "stream",
     "text": [
      "\t Loss: 53.676,\tTrain : 86.18%(86.18%),\tTest : 86.27%(86.36%),\tCurrent Time: 20250917-191203\n"
     ]
    },
    {
     "name": "stderr",
     "output_type": "stream",
     "text": [
      "Epoch 47/50:: 100%|\u001b[34m███████████████████\u001b[0m| 120/120 [00:02<00:00, 49.84batch/s, loss=0.443586]\u001b[0m\n"
     ]
    },
    {
     "name": "stdout",
     "output_type": "stream",
     "text": [
      "\t Loss: 53.230,\tTrain : 86.26%(86.26%),\tTest : 86.73%(86.73%),\tCurrent Time: 20250917-191206\n"
     ]
    },
    {
     "name": "stderr",
     "output_type": "stream",
     "text": [
      "Epoch 48/50:: 100%|\u001b[34m███████████████████\u001b[0m| 120/120 [00:02<00:00, 49.82batch/s, loss=0.440359]\u001b[0m\n"
     ]
    },
    {
     "name": "stdout",
     "output_type": "stream",
     "text": [
      "\t Loss: 52.843,\tTrain : 86.35%(86.35%),\tTest : 86.27%(86.73%),\tCurrent Time: 20250917-191208\n"
     ]
    },
    {
     "name": "stderr",
     "output_type": "stream",
     "text": [
      "Epoch 49/50:: 100%|\u001b[34m███████████████████\u001b[0m| 120/120 [00:02<00:00, 49.67batch/s, loss=0.436007]\u001b[0m\n"
     ]
    },
    {
     "name": "stdout",
     "output_type": "stream",
     "text": [
      "\t Loss: 52.321,\tTrain : 86.48%(86.48%),\tTest : 86.62%(86.73%),\tCurrent Time: 20250917-191211\n"
     ]
    },
    {
     "name": "stderr",
     "output_type": "stream",
     "text": [
      "Epoch 50/50:: 100%|\u001b[34m███████████████████\u001b[0m| 120/120 [00:02<00:00, 49.86batch/s, loss=0.433580]\u001b[0m\n"
     ]
    },
    {
     "name": "stdout",
     "output_type": "stream",
     "text": [
      "\t Loss: 52.030,\tTrain : 86.60%(86.60%),\tTest : 86.32%(86.73%),\tCurrent Time: 20250917-191213\n",
      "First_asymm_AG_N-HL_resP-EP_L10-P0-MNIST_EP_b_sc0.1- Time: 20250917-191213, Epochs: 50, Learning Rate: 0.0005, Best: 86.60%  86.73%\n",
      "\n",
      "[[0 1 0 0 0 0 0 0 0 0 0 0]\n",
      " [0 0 1 0 0 0 0 0 0 0 0 0]\n",
      " [0 1 0 1 0 0 0 0 0 0 0 0]\n",
      " [0 0 1 0 1 0 0 0 0 0 0 0]\n",
      " [0 0 0 1 0 1 0 0 0 0 0 0]\n",
      " [0 0 0 0 1 0 1 0 0 0 0 0]\n",
      " [0 0 0 0 0 1 0 1 0 0 0 0]\n",
      " [0 0 0 0 0 0 1 0 1 0 0 0]\n",
      " [0 0 0 0 0 0 0 1 0 1 0 0]\n",
      " [0 0 0 0 0 0 0 0 1 0 1 0]\n",
      " [0 0 0 0 0 0 0 0 0 1 0 1]\n",
      " [0 0 0 0 0 0 0 0 0 0 1 0]]\n",
      "First_asymm_AG_N-HL_resP-EP_L10-P0-MNIST_EP_b_sc0.1-\n"
     ]
    },
    {
     "name": "stderr",
     "output_type": "stream",
     "text": [
      "Epoch 1/50:: 100%|\u001b[34m████████████████████\u001b[0m| 120/120 [00:02<00:00, 46.20batch/s, loss=2.181785]\u001b[0m\n"
     ]
    },
    {
     "name": "stdout",
     "output_type": "stream",
     "text": [
      "\t Loss: 261.814,\tTrain : 21.05%(21.05%),\tTest : 24.38%(24.38%),\tCurrent Time: 20250917-191220\n"
     ]
    },
    {
     "name": "stderr",
     "output_type": "stream",
     "text": [
      "Epoch 2/50:: 100%|\u001b[34m████████████████████\u001b[0m| 120/120 [00:02<00:00, 49.85batch/s, loss=1.640920]\u001b[0m\n"
     ]
    },
    {
     "name": "stdout",
     "output_type": "stream",
     "text": [
      "\t Loss: 196.910,\tTrain : 48.06%(48.06%),\tTest : 58.30%(58.30%),\tCurrent Time: 20250917-191223\n"
     ]
    },
    {
     "name": "stderr",
     "output_type": "stream",
     "text": [
      "Epoch 3/50:: 100%|\u001b[34m████████████████████\u001b[0m| 120/120 [00:02<00:00, 49.66batch/s, loss=1.284400]\u001b[0m\n"
     ]
    },
    {
     "name": "stdout",
     "output_type": "stream",
     "text": [
      "\t Loss: 154.128,\tTrain : 60.57%(60.57%),\tTest : 65.15%(65.15%),\tCurrent Time: 20250917-191225\n"
     ]
    },
    {
     "name": "stderr",
     "output_type": "stream",
     "text": [
      "Epoch 4/50:: 100%|\u001b[34m████████████████████\u001b[0m| 120/120 [00:02<00:00, 50.03batch/s, loss=1.092012]\u001b[0m\n"
     ]
    },
    {
     "name": "stdout",
     "output_type": "stream",
     "text": [
      "\t Loss: 131.041,\tTrain : 66.76%(66.76%),\tTest : 70.41%(70.41%),\tCurrent Time: 20250917-191228\n"
     ]
    },
    {
     "name": "stderr",
     "output_type": "stream",
     "text": [
      "Epoch 5/50:: 100%|\u001b[34m████████████████████\u001b[0m| 120/120 [00:02<00:00, 49.86batch/s, loss=0.961228]\u001b[0m\n"
     ]
    },
    {
     "name": "stdout",
     "output_type": "stream",
     "text": [
      "\t Loss: 115.347,\tTrain : 70.88%(70.88%),\tTest : 73.65%(73.65%),\tCurrent Time: 20250917-191230\n"
     ]
    },
    {
     "name": "stderr",
     "output_type": "stream",
     "text": [
      "Epoch 6/50:: 100%|\u001b[34m████████████████████\u001b[0m| 120/120 [00:02<00:00, 49.84batch/s, loss=0.859248]\u001b[0m\n"
     ]
    },
    {
     "name": "stdout",
     "output_type": "stream",
     "text": [
      "\t Loss: 103.110,\tTrain : 73.55%(73.55%),\tTest : 76.21%(76.21%),\tCurrent Time: 20250917-191233\n"
     ]
    },
    {
     "name": "stderr",
     "output_type": "stream",
     "text": [
      "Epoch 7/50:: 100%|\u001b[34m████████████████████\u001b[0m| 120/120 [00:02<00:00, 49.84batch/s, loss=0.786058]\u001b[0m\n"
     ]
    },
    {
     "name": "stdout",
     "output_type": "stream",
     "text": [
      "\t Loss: 94.327,\tTrain : 75.81%(75.81%),\tTest : 78.02%(78.02%),\tCurrent Time: 20250917-191235\n"
     ]
    },
    {
     "name": "stderr",
     "output_type": "stream",
     "text": [
      "Epoch 8/50:: 100%|\u001b[34m████████████████████\u001b[0m| 120/120 [00:02<00:00, 49.87batch/s, loss=0.733256]\u001b[0m\n"
     ]
    },
    {
     "name": "stdout",
     "output_type": "stream",
     "text": [
      "\t Loss: 87.991,\tTrain : 77.20%(77.20%),\tTest : 79.17%(79.17%),\tCurrent Time: 20250917-191238\n"
     ]
    },
    {
     "name": "stderr",
     "output_type": "stream",
     "text": [
      "Epoch 9/50:: 100%|\u001b[34m████████████████████\u001b[0m| 120/120 [00:02<00:00, 49.86batch/s, loss=0.688592]\u001b[0m\n"
     ]
    },
    {
     "name": "stdout",
     "output_type": "stream",
     "text": [
      "\t Loss: 82.631,\tTrain : 78.60%(78.60%),\tTest : 80.66%(80.66%),\tCurrent Time: 20250917-191240\n"
     ]
    },
    {
     "name": "stderr",
     "output_type": "stream",
     "text": [
      "Epoch 10/50:: 100%|\u001b[34m███████████████████\u001b[0m| 120/120 [00:02<00:00, 49.82batch/s, loss=0.647870]\u001b[0m\n"
     ]
    },
    {
     "name": "stdout",
     "output_type": "stream",
     "text": [
      "\t Loss: 77.744,\tTrain : 79.94%(79.94%),\tTest : 82.04%(82.04%),\tCurrent Time: 20250917-191243\n"
     ]
    },
    {
     "name": "stderr",
     "output_type": "stream",
     "text": [
      "Epoch 11/50:: 100%|\u001b[34m███████████████████\u001b[0m| 120/120 [00:02<00:00, 50.07batch/s, loss=0.612907]\u001b[0m\n"
     ]
    },
    {
     "name": "stdout",
     "output_type": "stream",
     "text": [
      "\t Loss: 73.549,\tTrain : 80.96%(80.96%),\tTest : 82.70%(82.70%),\tCurrent Time: 20250917-191245\n"
     ]
    },
    {
     "name": "stderr",
     "output_type": "stream",
     "text": [
      "Epoch 12/50:: 100%|\u001b[34m███████████████████\u001b[0m| 120/120 [00:02<00:00, 49.85batch/s, loss=0.586195]\u001b[0m\n"
     ]
    },
    {
     "name": "stdout",
     "output_type": "stream",
     "text": [
      "\t Loss: 70.343,\tTrain : 81.87%(81.87%),\tTest : 83.25%(83.25%),\tCurrent Time: 20250917-191248\n"
     ]
    },
    {
     "name": "stderr",
     "output_type": "stream",
     "text": [
      "Epoch 13/50:: 100%|\u001b[34m███████████████████\u001b[0m| 120/120 [00:02<00:00, 49.82batch/s, loss=0.563559]\u001b[0m\n"
     ]
    },
    {
     "name": "stdout",
     "output_type": "stream",
     "text": [
      "\t Loss: 67.627,\tTrain : 82.63%(82.63%),\tTest : 84.13%(84.13%),\tCurrent Time: 20250917-191250\n"
     ]
    },
    {
     "name": "stderr",
     "output_type": "stream",
     "text": [
      "Epoch 14/50:: 100%|\u001b[34m███████████████████\u001b[0m| 120/120 [00:02<00:00, 49.88batch/s, loss=0.544007]\u001b[0m\n"
     ]
    },
    {
     "name": "stdout",
     "output_type": "stream",
     "text": [
      "\t Loss: 65.281,\tTrain : 83.26%(83.26%),\tTest : 84.31%(84.31%),\tCurrent Time: 20250917-191253\n"
     ]
    },
    {
     "name": "stderr",
     "output_type": "stream",
     "text": [
      "Epoch 15/50:: 100%|\u001b[34m███████████████████\u001b[0m| 120/120 [00:02<00:00, 49.83batch/s, loss=0.528478]\u001b[0m\n"
     ]
    },
    {
     "name": "stdout",
     "output_type": "stream",
     "text": [
      "\t Loss: 63.417,\tTrain : 83.79%(83.79%),\tTest : 84.86%(84.86%),\tCurrent Time: 20250917-191255\n"
     ]
    },
    {
     "name": "stderr",
     "output_type": "stream",
     "text": [
      "Epoch 16/50:: 100%|\u001b[34m███████████████████\u001b[0m| 120/120 [00:02<00:00, 49.84batch/s, loss=0.514530]\u001b[0m\n"
     ]
    },
    {
     "name": "stdout",
     "output_type": "stream",
     "text": [
      "\t Loss: 61.744,\tTrain : 84.18%(84.18%),\tTest : 85.11%(85.11%),\tCurrent Time: 20250917-191258\n"
     ]
    },
    {
     "name": "stderr",
     "output_type": "stream",
     "text": [
      "Epoch 17/50:: 100%|\u001b[34m███████████████████\u001b[0m| 120/120 [00:02<00:00, 49.86batch/s, loss=0.503035]\u001b[0m\n"
     ]
    },
    {
     "name": "stdout",
     "output_type": "stream",
     "text": [
      "\t Loss: 60.364,\tTrain : 84.64%(84.64%),\tTest : 85.55%(85.55%),\tCurrent Time: 20250917-191300\n"
     ]
    },
    {
     "name": "stderr",
     "output_type": "stream",
     "text": [
      "Epoch 18/50:: 100%|\u001b[34m███████████████████\u001b[0m| 120/120 [00:02<00:00, 49.91batch/s, loss=0.496020]\u001b[0m\n"
     ]
    },
    {
     "name": "stdout",
     "output_type": "stream",
     "text": [
      "\t Loss: 59.522,\tTrain : 84.79%(84.79%),\tTest : 85.87%(85.87%),\tCurrent Time: 20250917-191303\n"
     ]
    },
    {
     "name": "stderr",
     "output_type": "stream",
     "text": [
      "Epoch 19/50:: 100%|\u001b[34m███████████████████\u001b[0m| 120/120 [00:02<00:00, 49.82batch/s, loss=0.482504]\u001b[0m\n"
     ]
    },
    {
     "name": "stdout",
     "output_type": "stream",
     "text": [
      "\t Loss: 57.900,\tTrain : 85.30%(85.30%),\tTest : 86.27%(86.27%),\tCurrent Time: 20250917-191305\n"
     ]
    },
    {
     "name": "stderr",
     "output_type": "stream",
     "text": [
      "Epoch 20/50:: 100%|\u001b[34m███████████████████\u001b[0m| 120/120 [00:02<00:00, 49.84batch/s, loss=0.476040]\u001b[0m\n"
     ]
    },
    {
     "name": "stdout",
     "output_type": "stream",
     "text": [
      "\t Loss: 57.125,\tTrain : 85.43%(85.43%),\tTest : 86.17%(86.27%),\tCurrent Time: 20250917-191308\n"
     ]
    },
    {
     "name": "stderr",
     "output_type": "stream",
     "text": [
      "Epoch 21/50:: 100%|\u001b[34m███████████████████\u001b[0m| 120/120 [00:02<00:00, 50.06batch/s, loss=0.465490]\u001b[0m\n"
     ]
    },
    {
     "name": "stdout",
     "output_type": "stream",
     "text": [
      "\t Loss: 55.859,\tTrain : 85.82%(85.82%),\tTest : 86.56%(86.56%),\tCurrent Time: 20250917-191310\n"
     ]
    },
    {
     "name": "stderr",
     "output_type": "stream",
     "text": [
      "Epoch 22/50:: 100%|\u001b[34m███████████████████\u001b[0m| 120/120 [00:02<00:00, 49.85batch/s, loss=0.458668]\u001b[0m\n"
     ]
    },
    {
     "name": "stdout",
     "output_type": "stream",
     "text": [
      "\t Loss: 55.040,\tTrain : 85.96%(85.96%),\tTest : 86.61%(86.61%),\tCurrent Time: 20250917-191313\n"
     ]
    },
    {
     "name": "stderr",
     "output_type": "stream",
     "text": [
      "Epoch 23/50:: 100%|\u001b[34m███████████████████\u001b[0m| 120/120 [00:02<00:00, 50.05batch/s, loss=0.450890]\u001b[0m\n"
     ]
    },
    {
     "name": "stdout",
     "output_type": "stream",
     "text": [
      "\t Loss: 54.107,\tTrain : 86.22%(86.22%),\tTest : 86.75%(86.75%),\tCurrent Time: 20250917-191315\n"
     ]
    },
    {
     "name": "stderr",
     "output_type": "stream",
     "text": [
      "Epoch 24/50:: 100%|\u001b[34m███████████████████\u001b[0m| 120/120 [00:02<00:00, 49.84batch/s, loss=0.443214]\u001b[0m\n"
     ]
    },
    {
     "name": "stdout",
     "output_type": "stream",
     "text": [
      "\t Loss: 53.186,\tTrain : 86.41%(86.41%),\tTest : 86.65%(86.75%),\tCurrent Time: 20250917-191318\n"
     ]
    },
    {
     "name": "stderr",
     "output_type": "stream",
     "text": [
      "Epoch 25/50:: 100%|\u001b[34m███████████████████\u001b[0m| 120/120 [00:02<00:00, 50.05batch/s, loss=0.435140]\u001b[0m\n"
     ]
    },
    {
     "name": "stdout",
     "output_type": "stream",
     "text": [
      "\t Loss: 52.217,\tTrain : 86.61%(86.61%),\tTest : 87.06%(87.06%),\tCurrent Time: 20250917-191320\n"
     ]
    },
    {
     "name": "stderr",
     "output_type": "stream",
     "text": [
      "Epoch 26/50:: 100%|\u001b[34m███████████████████\u001b[0m| 120/120 [00:02<00:00, 49.84batch/s, loss=0.428487]\u001b[0m\n"
     ]
    },
    {
     "name": "stdout",
     "output_type": "stream",
     "text": [
      "\t Loss: 51.418,\tTrain : 86.84%(86.84%),\tTest : 87.01%(87.06%),\tCurrent Time: 20250917-191323\n"
     ]
    },
    {
     "name": "stderr",
     "output_type": "stream",
     "text": [
      "Epoch 27/50:: 100%|\u001b[34m███████████████████\u001b[0m| 120/120 [00:02<00:00, 49.85batch/s, loss=0.421166]\u001b[0m\n"
     ]
    },
    {
     "name": "stdout",
     "output_type": "stream",
     "text": [
      "\t Loss: 50.540,\tTrain : 87.02%(87.02%),\tTest : 87.64%(87.64%),\tCurrent Time: 20250917-191325\n"
     ]
    },
    {
     "name": "stderr",
     "output_type": "stream",
     "text": [
      "Epoch 28/50:: 100%|\u001b[34m███████████████████\u001b[0m| 120/120 [00:02<00:00, 49.63batch/s, loss=0.414797]\u001b[0m\n"
     ]
    },
    {
     "name": "stdout",
     "output_type": "stream",
     "text": [
      "\t Loss: 49.776,\tTrain : 87.17%(87.17%),\tTest : 87.49%(87.64%),\tCurrent Time: 20250917-191328\n"
     ]
    },
    {
     "name": "stderr",
     "output_type": "stream",
     "text": [
      "Epoch 29/50:: 100%|\u001b[34m███████████████████\u001b[0m| 120/120 [00:02<00:00, 49.87batch/s, loss=0.410169]\u001b[0m\n"
     ]
    },
    {
     "name": "stdout",
     "output_type": "stream",
     "text": [
      "\t Loss: 49.220,\tTrain : 87.27%(87.27%),\tTest : 87.88%(87.88%),\tCurrent Time: 20250917-191330\n"
     ]
    },
    {
     "name": "stderr",
     "output_type": "stream",
     "text": [
      "Epoch 30/50:: 100%|\u001b[34m███████████████████\u001b[0m| 120/120 [00:02<00:00, 49.81batch/s, loss=0.406558]\u001b[0m\n"
     ]
    },
    {
     "name": "stdout",
     "output_type": "stream",
     "text": [
      "\t Loss: 48.787,\tTrain : 87.36%(87.36%),\tTest : 87.90%(87.90%),\tCurrent Time: 20250917-191333\n"
     ]
    },
    {
     "name": "stderr",
     "output_type": "stream",
     "text": [
      "Epoch 31/50:: 100%|\u001b[34m███████████████████\u001b[0m| 120/120 [00:02<00:00, 49.65batch/s, loss=0.400112]\u001b[0m\n"
     ]
    },
    {
     "name": "stdout",
     "output_type": "stream",
     "text": [
      "\t Loss: 48.013,\tTrain : 87.55%(87.55%),\tTest : 88.11%(88.11%),\tCurrent Time: 20250917-191335\n"
     ]
    },
    {
     "name": "stderr",
     "output_type": "stream",
     "text": [
      "Epoch 32/50:: 100%|\u001b[34m███████████████████\u001b[0m| 120/120 [00:02<00:00, 49.86batch/s, loss=0.393510]\u001b[0m\n"
     ]
    },
    {
     "name": "stdout",
     "output_type": "stream",
     "text": [
      "\t Loss: 47.221,\tTrain : 87.76%(87.76%),\tTest : 88.09%(88.11%),\tCurrent Time: 20250917-191338\n"
     ]
    },
    {
     "name": "stderr",
     "output_type": "stream",
     "text": [
      "Epoch 33/50:: 100%|\u001b[34m███████████████████\u001b[0m| 120/120 [00:02<00:00, 49.61batch/s, loss=0.389313]\u001b[0m\n"
     ]
    },
    {
     "name": "stdout",
     "output_type": "stream",
     "text": [
      "\t Loss: 46.718,\tTrain : 87.90%(87.90%),\tTest : 87.86%(88.11%),\tCurrent Time: 20250917-191340\n"
     ]
    },
    {
     "name": "stderr",
     "output_type": "stream",
     "text": [
      "Epoch 34/50:: 100%|\u001b[34m███████████████████\u001b[0m| 120/120 [00:02<00:00, 49.86batch/s, loss=0.386319]\u001b[0m\n"
     ]
    },
    {
     "name": "stdout",
     "output_type": "stream",
     "text": [
      "\t Loss: 46.358,\tTrain : 87.97%(87.97%),\tTest : 88.11%(88.11%),\tCurrent Time: 20250917-191343\n"
     ]
    },
    {
     "name": "stderr",
     "output_type": "stream",
     "text": [
      "Epoch 35/50:: 100%|\u001b[34m███████████████████\u001b[0m| 120/120 [00:02<00:00, 49.69batch/s, loss=0.382636]\u001b[0m\n"
     ]
    },
    {
     "name": "stdout",
     "output_type": "stream",
     "text": [
      "\t Loss: 45.916,\tTrain : 88.11%(88.11%),\tTest : 88.39%(88.39%),\tCurrent Time: 20250917-191345\n"
     ]
    },
    {
     "name": "stderr",
     "output_type": "stream",
     "text": [
      "Epoch 36/50:: 100%|\u001b[34m███████████████████\u001b[0m| 120/120 [00:02<00:00, 50.04batch/s, loss=0.379428]\u001b[0m\n"
     ]
    },
    {
     "name": "stdout",
     "output_type": "stream",
     "text": [
      "\t Loss: 45.531,\tTrain : 88.18%(88.18%),\tTest : 88.70%(88.70%),\tCurrent Time: 20250917-191348\n"
     ]
    },
    {
     "name": "stderr",
     "output_type": "stream",
     "text": [
      "Epoch 37/50:: 100%|\u001b[34m███████████████████\u001b[0m| 120/120 [00:02<00:00, 49.65batch/s, loss=0.377522]\u001b[0m\n"
     ]
    },
    {
     "name": "stdout",
     "output_type": "stream",
     "text": [
      "\t Loss: 45.303,\tTrain : 88.36%(88.36%),\tTest : 88.60%(88.70%),\tCurrent Time: 20250917-191350\n"
     ]
    },
    {
     "name": "stderr",
     "output_type": "stream",
     "text": [
      "Epoch 38/50:: 100%|\u001b[34m███████████████████\u001b[0m| 120/120 [00:02<00:00, 49.85batch/s, loss=0.371458]\u001b[0m\n"
     ]
    },
    {
     "name": "stdout",
     "output_type": "stream",
     "text": [
      "\t Loss: 44.575,\tTrain : 88.38%(88.38%),\tTest : 88.47%(88.70%),\tCurrent Time: 20250917-191353\n"
     ]
    },
    {
     "name": "stderr",
     "output_type": "stream",
     "text": [
      "Epoch 39/50:: 100%|\u001b[34m███████████████████\u001b[0m| 120/120 [00:02<00:00, 49.62batch/s, loss=0.365721]\u001b[0m\n"
     ]
    },
    {
     "name": "stdout",
     "output_type": "stream",
     "text": [
      "\t Loss: 43.886,\tTrain : 88.64%(88.64%),\tTest : 88.98%(88.98%),\tCurrent Time: 20250917-191355\n"
     ]
    },
    {
     "name": "stderr",
     "output_type": "stream",
     "text": [
      "Epoch 40/50:: 100%|\u001b[34m███████████████████\u001b[0m| 120/120 [00:02<00:00, 49.85batch/s, loss=0.363572]\u001b[0m\n"
     ]
    },
    {
     "name": "stdout",
     "output_type": "stream",
     "text": [
      "\t Loss: 43.629,\tTrain : 88.74%(88.74%),\tTest : 88.82%(88.98%),\tCurrent Time: 20250917-191358\n"
     ]
    },
    {
     "name": "stderr",
     "output_type": "stream",
     "text": [
      "Epoch 41/50:: 100%|\u001b[34m███████████████████\u001b[0m| 120/120 [00:02<00:00, 49.66batch/s, loss=0.361492]\u001b[0m\n"
     ]
    },
    {
     "name": "stdout",
     "output_type": "stream",
     "text": [
      "\t Loss: 43.379,\tTrain : 88.67%(88.74%),\tTest : 88.87%(88.98%),\tCurrent Time: 20250917-191400\n"
     ]
    },
    {
     "name": "stderr",
     "output_type": "stream",
     "text": [
      "Epoch 42/50:: 100%|\u001b[34m███████████████████\u001b[0m| 120/120 [00:02<00:00, 49.63batch/s, loss=0.358966]\u001b[0m\n"
     ]
    },
    {
     "name": "stdout",
     "output_type": "stream",
     "text": [
      "\t Loss: 43.076,\tTrain : 88.85%(88.85%),\tTest : 88.85%(88.98%),\tCurrent Time: 20250917-191403\n"
     ]
    },
    {
     "name": "stderr",
     "output_type": "stream",
     "text": [
      "Epoch 43/50:: 100%|\u001b[34m███████████████████\u001b[0m| 120/120 [00:02<00:00, 50.03batch/s, loss=0.356471]\u001b[0m\n"
     ]
    },
    {
     "name": "stdout",
     "output_type": "stream",
     "text": [
      "\t Loss: 42.777,\tTrain : 88.92%(88.92%),\tTest : 88.71%(88.98%),\tCurrent Time: 20250917-191405\n"
     ]
    },
    {
     "name": "stderr",
     "output_type": "stream",
     "text": [
      "Epoch 44/50:: 100%|\u001b[34m███████████████████\u001b[0m| 120/120 [00:02<00:00, 49.87batch/s, loss=0.351486]\u001b[0m\n"
     ]
    },
    {
     "name": "stdout",
     "output_type": "stream",
     "text": [
      "\t Loss: 42.178,\tTrain : 88.99%(88.99%),\tTest : 89.11%(89.11%),\tCurrent Time: 20250917-191408\n"
     ]
    },
    {
     "name": "stderr",
     "output_type": "stream",
     "text": [
      "Epoch 45/50:: 100%|\u001b[34m███████████████████\u001b[0m| 120/120 [00:02<00:00, 49.83batch/s, loss=0.348036]\u001b[0m\n"
     ]
    },
    {
     "name": "stdout",
     "output_type": "stream",
     "text": [
      "\t Loss: 41.764,\tTrain : 89.16%(89.16%),\tTest : 89.11%(89.11%),\tCurrent Time: 20250917-191410\n"
     ]
    },
    {
     "name": "stderr",
     "output_type": "stream",
     "text": [
      "Epoch 46/50:: 100%|\u001b[34m███████████████████\u001b[0m| 120/120 [00:02<00:00, 49.83batch/s, loss=0.343609]\u001b[0m\n"
     ]
    },
    {
     "name": "stdout",
     "output_type": "stream",
     "text": [
      "\t Loss: 41.233,\tTrain : 89.36%(89.36%),\tTest : 89.21%(89.21%),\tCurrent Time: 20250917-191413\n"
     ]
    },
    {
     "name": "stderr",
     "output_type": "stream",
     "text": [
      "Epoch 47/50:: 100%|\u001b[34m███████████████████\u001b[0m| 120/120 [00:02<00:00, 49.82batch/s, loss=0.343443]\u001b[0m\n"
     ]
    },
    {
     "name": "stdout",
     "output_type": "stream",
     "text": [
      "\t Loss: 41.213,\tTrain : 89.35%(89.36%),\tTest : 89.37%(89.37%),\tCurrent Time: 20250917-191415\n"
     ]
    },
    {
     "name": "stderr",
     "output_type": "stream",
     "text": [
      "Epoch 48/50:: 100%|\u001b[34m███████████████████\u001b[0m| 120/120 [00:02<00:00, 49.90batch/s, loss=0.339037]\u001b[0m\n"
     ]
    },
    {
     "name": "stdout",
     "output_type": "stream",
     "text": [
      "\t Loss: 40.684,\tTrain : 89.46%(89.46%),\tTest : 89.38%(89.38%),\tCurrent Time: 20250917-191418\n"
     ]
    },
    {
     "name": "stderr",
     "output_type": "stream",
     "text": [
      "Epoch 49/50:: 100%|\u001b[34m███████████████████\u001b[0m| 120/120 [00:02<00:00, 49.81batch/s, loss=0.336186]\u001b[0m\n"
     ]
    },
    {
     "name": "stdout",
     "output_type": "stream",
     "text": [
      "\t Loss: 40.342,\tTrain : 89.58%(89.58%),\tTest : 89.63%(89.63%),\tCurrent Time: 20250917-191420\n"
     ]
    },
    {
     "name": "stderr",
     "output_type": "stream",
     "text": [
      "Epoch 50/50:: 100%|\u001b[34m███████████████████\u001b[0m| 120/120 [00:02<00:00, 49.88batch/s, loss=0.336259]\u001b[0m\n"
     ]
    },
    {
     "name": "stdout",
     "output_type": "stream",
     "text": [
      "\t Loss: 40.351,\tTrain : 89.52%(89.58%),\tTest : 89.78%(89.78%),\tCurrent Time: 20250917-191423\n",
      "First_asymm_AG_N-HL_resP-EP_L10-P0-MNIST_EP_b_sc0.1- Time: 20250917-191423, Epochs: 50, Learning Rate: 0.0005, Best: 89.58%  89.78%\n",
      "\n",
      "[[0 1 0 0 0 0 0 0 0 0 0 0]\n",
      " [0 0 1 0 0 0 0 0 0 0 0 0]\n",
      " [0 1 0 1 0 0 0 0 0 0 0 0]\n",
      " [0 0 1 0 1 0 0 0 0 0 0 0]\n",
      " [0 0 0 1 0 1 0 0 0 0 0 0]\n",
      " [0 0 0 0 1 0 1 0 0 0 0 0]\n",
      " [0 0 0 0 0 1 0 1 0 0 0 0]\n",
      " [0 0 1 0 0 0 1 0 1 0 0 0]\n",
      " [0 0 0 0 0 0 0 1 0 1 0 0]\n",
      " [0 0 0 0 0 0 0 0 1 0 1 0]\n",
      " [0 0 0 0 0 0 0 0 0 1 0 1]\n",
      " [0 0 0 0 0 0 0 0 0 0 1 0]]\n",
      "First_asymm_AG_N-HL_resP-EP_L10-P0.02-MNIST_EP_b_sc0.1-\n"
     ]
    },
    {
     "name": "stderr",
     "output_type": "stream",
     "text": [
      "Epoch 1/50:: 100%|\u001b[34m████████████████████\u001b[0m| 120/120 [00:02<00:00, 47.37batch/s, loss=2.159716]\u001b[0m\n"
     ]
    },
    {
     "name": "stdout",
     "output_type": "stream",
     "text": [
      "\t Loss: 259.166,\tTrain : 23.99%(23.99%),\tTest : 44.90%(44.90%),\tCurrent Time: 20250917-191429\n"
     ]
    },
    {
     "name": "stderr",
     "output_type": "stream",
     "text": [
      "Epoch 2/50:: 100%|\u001b[34m████████████████████\u001b[0m| 120/120 [00:02<00:00, 49.68batch/s, loss=1.464364]\u001b[0m\n"
     ]
    },
    {
     "name": "stdout",
     "output_type": "stream",
     "text": [
      "\t Loss: 175.724,\tTrain : 58.47%(58.47%),\tTest : 70.96%(70.96%),\tCurrent Time: 20250917-191432\n"
     ]
    },
    {
     "name": "stderr",
     "output_type": "stream",
     "text": [
      "Epoch 3/50:: 100%|\u001b[34m████████████████████\u001b[0m| 120/120 [00:02<00:00, 50.12batch/s, loss=0.932520]\u001b[0m\n"
     ]
    },
    {
     "name": "stdout",
     "output_type": "stream",
     "text": [
      "\t Loss: 111.902,\tTrain : 78.55%(78.55%),\tTest : 83.39%(83.39%),\tCurrent Time: 20250917-191434\n"
     ]
    },
    {
     "name": "stderr",
     "output_type": "stream",
     "text": [
      "Epoch 4/50:: 100%|\u001b[34m████████████████████\u001b[0m| 120/120 [00:02<00:00, 50.19batch/s, loss=0.651633]\u001b[0m\n"
     ]
    },
    {
     "name": "stdout",
     "output_type": "stream",
     "text": [
      "\t Loss: 78.196,\tTrain : 84.78%(84.78%),\tTest : 86.41%(86.41%),\tCurrent Time: 20250917-191437\n"
     ]
    },
    {
     "name": "stderr",
     "output_type": "stream",
     "text": [
      "Epoch 5/50:: 100%|\u001b[34m████████████████████\u001b[0m| 120/120 [00:02<00:00, 50.02batch/s, loss=0.506093]\u001b[0m\n"
     ]
    },
    {
     "name": "stdout",
     "output_type": "stream",
     "text": [
      "\t Loss: 60.731,\tTrain : 87.32%(87.32%),\tTest : 87.85%(87.85%),\tCurrent Time: 20250917-191439\n"
     ]
    },
    {
     "name": "stderr",
     "output_type": "stream",
     "text": [
      "Epoch 6/50:: 100%|\u001b[34m████████████████████\u001b[0m| 120/120 [00:02<00:00, 49.93batch/s, loss=0.445777]\u001b[0m\n"
     ]
    },
    {
     "name": "stdout",
     "output_type": "stream",
     "text": [
      "\t Loss: 53.493,\tTrain : 88.52%(88.52%),\tTest : 89.16%(89.16%),\tCurrent Time: 20250917-191442\n"
     ]
    },
    {
     "name": "stderr",
     "output_type": "stream",
     "text": [
      "Epoch 7/50:: 100%|\u001b[34m████████████████████\u001b[0m| 120/120 [00:02<00:00, 49.95batch/s, loss=0.396408]\u001b[0m\n"
     ]
    },
    {
     "name": "stdout",
     "output_type": "stream",
     "text": [
      "\t Loss: 47.569,\tTrain : 89.57%(89.57%),\tTest : 89.84%(89.84%),\tCurrent Time: 20250917-191444\n"
     ]
    },
    {
     "name": "stderr",
     "output_type": "stream",
     "text": [
      "Epoch 8/50:: 100%|\u001b[34m████████████████████\u001b[0m| 120/120 [00:02<00:00, 50.05batch/s, loss=0.353992]\u001b[0m\n"
     ]
    },
    {
     "name": "stdout",
     "output_type": "stream",
     "text": [
      "\t Loss: 42.479,\tTrain : 90.39%(90.39%),\tTest : 90.51%(90.51%),\tCurrent Time: 20250917-191447\n"
     ]
    },
    {
     "name": "stderr",
     "output_type": "stream",
     "text": [
      "Epoch 9/50:: 100%|\u001b[34m████████████████████\u001b[0m| 120/120 [00:02<00:00, 50.18batch/s, loss=0.323482]\u001b[0m\n"
     ]
    },
    {
     "name": "stdout",
     "output_type": "stream",
     "text": [
      "\t Loss: 38.818,\tTrain : 91.14%(91.14%),\tTest : 91.17%(91.17%),\tCurrent Time: 20250917-191449\n"
     ]
    },
    {
     "name": "stderr",
     "output_type": "stream",
     "text": [
      "Epoch 10/50:: 100%|\u001b[34m███████████████████\u001b[0m| 120/120 [00:02<00:00, 50.11batch/s, loss=0.297729]\u001b[0m\n"
     ]
    },
    {
     "name": "stdout",
     "output_type": "stream",
     "text": [
      "\t Loss: 35.728,\tTrain : 91.84%(91.84%),\tTest : 91.72%(91.72%),\tCurrent Time: 20250917-191452\n"
     ]
    },
    {
     "name": "stderr",
     "output_type": "stream",
     "text": [
      "Epoch 11/50:: 100%|\u001b[34m███████████████████\u001b[0m| 120/120 [00:02<00:00, 50.22batch/s, loss=0.277326]\u001b[0m\n"
     ]
    },
    {
     "name": "stdout",
     "output_type": "stream",
     "text": [
      "\t Loss: 33.279,\tTrain : 92.33%(92.33%),\tTest : 92.23%(92.23%),\tCurrent Time: 20250917-191454\n"
     ]
    },
    {
     "name": "stderr",
     "output_type": "stream",
     "text": [
      "Epoch 12/50:: 100%|\u001b[34m███████████████████\u001b[0m| 120/120 [00:02<00:00, 50.05batch/s, loss=0.260604]\u001b[0m\n"
     ]
    },
    {
     "name": "stdout",
     "output_type": "stream",
     "text": [
      "\t Loss: 31.273,\tTrain : 92.69%(92.69%),\tTest : 92.68%(92.68%),\tCurrent Time: 20250917-191457\n"
     ]
    },
    {
     "name": "stderr",
     "output_type": "stream",
     "text": [
      "Epoch 13/50:: 100%|\u001b[34m███████████████████\u001b[0m| 120/120 [00:02<00:00, 50.44batch/s, loss=0.242100]\u001b[0m\n"
     ]
    },
    {
     "name": "stdout",
     "output_type": "stream",
     "text": [
      "\t Loss: 29.052,\tTrain : 93.16%(93.16%),\tTest : 93.15%(93.15%),\tCurrent Time: 20250917-191459\n"
     ]
    },
    {
     "name": "stderr",
     "output_type": "stream",
     "text": [
      "Epoch 14/50:: 100%|\u001b[34m███████████████████\u001b[0m| 120/120 [00:02<00:00, 50.27batch/s, loss=0.229422]\u001b[0m\n"
     ]
    },
    {
     "name": "stdout",
     "output_type": "stream",
     "text": [
      "\t Loss: 27.531,\tTrain : 93.50%(93.50%),\tTest : 93.56%(93.56%),\tCurrent Time: 20250917-191502\n"
     ]
    },
    {
     "name": "stderr",
     "output_type": "stream",
     "text": [
      "Epoch 15/50:: 100%|\u001b[34m███████████████████\u001b[0m| 120/120 [00:02<00:00, 49.81batch/s, loss=0.218889]\u001b[0m\n"
     ]
    },
    {
     "name": "stdout",
     "output_type": "stream",
     "text": [
      "\t Loss: 26.267,\tTrain : 93.84%(93.84%),\tTest : 93.78%(93.78%),\tCurrent Time: 20250917-191504\n"
     ]
    },
    {
     "name": "stderr",
     "output_type": "stream",
     "text": [
      "Epoch 16/50:: 100%|\u001b[34m███████████████████\u001b[0m| 120/120 [00:02<00:00, 50.06batch/s, loss=0.210840]\u001b[0m\n"
     ]
    },
    {
     "name": "stdout",
     "output_type": "stream",
     "text": [
      "\t Loss: 25.301,\tTrain : 94.03%(94.03%),\tTest : 94.00%(94.00%),\tCurrent Time: 20250917-191507\n"
     ]
    },
    {
     "name": "stderr",
     "output_type": "stream",
     "text": [
      "Epoch 17/50:: 100%|\u001b[34m███████████████████\u001b[0m| 120/120 [00:02<00:00, 50.36batch/s, loss=0.203788]\u001b[0m\n"
     ]
    },
    {
     "name": "stdout",
     "output_type": "stream",
     "text": [
      "\t Loss: 24.455,\tTrain : 94.19%(94.19%),\tTest : 94.27%(94.27%),\tCurrent Time: 20250917-191509\n"
     ]
    },
    {
     "name": "stderr",
     "output_type": "stream",
     "text": [
      "Epoch 18/50:: 100%|\u001b[34m███████████████████\u001b[0m| 120/120 [00:02<00:00, 50.14batch/s, loss=0.199854]\u001b[0m\n"
     ]
    },
    {
     "name": "stdout",
     "output_type": "stream",
     "text": [
      "\t Loss: 23.983,\tTrain : 94.33%(94.33%),\tTest : 94.30%(94.30%),\tCurrent Time: 20250917-191512\n"
     ]
    },
    {
     "name": "stderr",
     "output_type": "stream",
     "text": [
      "Epoch 19/50:: 100%|\u001b[34m███████████████████\u001b[0m| 120/120 [00:02<00:00, 49.79batch/s, loss=0.194190]\u001b[0m\n"
     ]
    },
    {
     "name": "stdout",
     "output_type": "stream",
     "text": [
      "\t Loss: 23.303,\tTrain : 94.55%(94.55%),\tTest : 94.37%(94.37%),\tCurrent Time: 20250917-191514\n"
     ]
    },
    {
     "name": "stderr",
     "output_type": "stream",
     "text": [
      "Epoch 20/50:: 100%|\u001b[34m███████████████████\u001b[0m| 120/120 [00:02<00:00, 50.02batch/s, loss=0.188896]\u001b[0m\n"
     ]
    },
    {
     "name": "stdout",
     "output_type": "stream",
     "text": [
      "\t Loss: 22.667,\tTrain : 94.64%(94.64%),\tTest : 94.58%(94.58%),\tCurrent Time: 20250917-191517\n"
     ]
    },
    {
     "name": "stderr",
     "output_type": "stream",
     "text": [
      "Epoch 21/50:: 100%|\u001b[34m███████████████████\u001b[0m| 120/120 [00:02<00:00, 50.22batch/s, loss=0.182804]\u001b[0m\n"
     ]
    },
    {
     "name": "stdout",
     "output_type": "stream",
     "text": [
      "\t Loss: 21.937,\tTrain : 94.82%(94.82%),\tTest : 94.62%(94.62%),\tCurrent Time: 20250917-191519\n"
     ]
    },
    {
     "name": "stderr",
     "output_type": "stream",
     "text": [
      "Epoch 22/50:: 100%|\u001b[34m███████████████████\u001b[0m| 120/120 [00:02<00:00, 49.99batch/s, loss=0.176256]\u001b[0m\n"
     ]
    },
    {
     "name": "stdout",
     "output_type": "stream",
     "text": [
      "\t Loss: 21.151,\tTrain : 94.95%(94.95%),\tTest : 94.77%(94.77%),\tCurrent Time: 20250917-191522\n"
     ]
    },
    {
     "name": "stderr",
     "output_type": "stream",
     "text": [
      "Epoch 23/50:: 100%|\u001b[34m███████████████████\u001b[0m| 120/120 [00:02<00:00, 49.88batch/s, loss=0.171413]\u001b[0m\n"
     ]
    },
    {
     "name": "stdout",
     "output_type": "stream",
     "text": [
      "\t Loss: 20.570,\tTrain : 95.12%(95.12%),\tTest : 94.96%(94.96%),\tCurrent Time: 20250917-191524\n"
     ]
    },
    {
     "name": "stderr",
     "output_type": "stream",
     "text": [
      "Epoch 24/50:: 100%|\u001b[34m███████████████████\u001b[0m| 120/120 [00:02<00:00, 50.13batch/s, loss=0.166027]\u001b[0m\n"
     ]
    },
    {
     "name": "stdout",
     "output_type": "stream",
     "text": [
      "\t Loss: 19.923,\tTrain : 95.29%(95.29%),\tTest : 94.92%(94.96%),\tCurrent Time: 20250917-191527\n"
     ]
    },
    {
     "name": "stderr",
     "output_type": "stream",
     "text": [
      "Epoch 25/50:: 100%|\u001b[34m███████████████████\u001b[0m| 120/120 [00:02<00:00, 50.42batch/s, loss=0.160774]\u001b[0m\n"
     ]
    },
    {
     "name": "stdout",
     "output_type": "stream",
     "text": [
      "\t Loss: 19.293,\tTrain : 95.44%(95.44%),\tTest : 95.06%(95.06%),\tCurrent Time: 20250917-191529\n"
     ]
    },
    {
     "name": "stderr",
     "output_type": "stream",
     "text": [
      "Epoch 26/50:: 100%|\u001b[34m███████████████████\u001b[0m| 120/120 [00:02<00:00, 50.07batch/s, loss=0.155350]\u001b[0m\n"
     ]
    },
    {
     "name": "stdout",
     "output_type": "stream",
     "text": [
      "\t Loss: 18.642,\tTrain : 95.59%(95.59%),\tTest : 95.09%(95.09%),\tCurrent Time: 20250917-191531\n"
     ]
    },
    {
     "name": "stderr",
     "output_type": "stream",
     "text": [
      "Epoch 27/50:: 100%|\u001b[34m███████████████████\u001b[0m| 120/120 [00:02<00:00, 50.08batch/s, loss=0.149984]\u001b[0m\n"
     ]
    },
    {
     "name": "stdout",
     "output_type": "stream",
     "text": [
      "\t Loss: 17.998,\tTrain : 95.69%(95.69%),\tTest : 95.40%(95.40%),\tCurrent Time: 20250917-191534\n"
     ]
    },
    {
     "name": "stderr",
     "output_type": "stream",
     "text": [
      "Epoch 28/50:: 100%|\u001b[34m███████████████████\u001b[0m| 120/120 [00:02<00:00, 50.05batch/s, loss=0.144741]\u001b[0m\n"
     ]
    },
    {
     "name": "stdout",
     "output_type": "stream",
     "text": [
      "\t Loss: 17.369,\tTrain : 95.88%(95.88%),\tTest : 95.41%(95.41%),\tCurrent Time: 20250917-191536\n"
     ]
    },
    {
     "name": "stderr",
     "output_type": "stream",
     "text": [
      "Epoch 29/50:: 100%|\u001b[34m███████████████████\u001b[0m| 120/120 [00:02<00:00, 50.03batch/s, loss=0.141506]\u001b[0m\n"
     ]
    },
    {
     "name": "stdout",
     "output_type": "stream",
     "text": [
      "\t Loss: 16.981,\tTrain : 95.98%(95.98%),\tTest : 95.52%(95.52%),\tCurrent Time: 20250917-191539\n"
     ]
    },
    {
     "name": "stderr",
     "output_type": "stream",
     "text": [
      "Epoch 30/50:: 100%|\u001b[34m███████████████████\u001b[0m| 120/120 [00:02<00:00, 49.80batch/s, loss=0.136509]\u001b[0m\n"
     ]
    },
    {
     "name": "stdout",
     "output_type": "stream",
     "text": [
      "\t Loss: 16.381,\tTrain : 96.04%(96.04%),\tTest : 95.72%(95.72%),\tCurrent Time: 20250917-191541\n"
     ]
    },
    {
     "name": "stderr",
     "output_type": "stream",
     "text": [
      "Epoch 31/50:: 100%|\u001b[34m███████████████████\u001b[0m| 120/120 [00:02<00:00, 49.83batch/s, loss=0.132314]\u001b[0m\n"
     ]
    },
    {
     "name": "stdout",
     "output_type": "stream",
     "text": [
      "\t Loss: 15.878,\tTrain : 96.21%(96.21%),\tTest : 95.58%(95.72%),\tCurrent Time: 20250917-191544\n"
     ]
    },
    {
     "name": "stderr",
     "output_type": "stream",
     "text": [
      "Epoch 32/50:: 100%|\u001b[34m███████████████████\u001b[0m| 120/120 [00:02<00:00, 49.88batch/s, loss=0.129487]\u001b[0m\n"
     ]
    },
    {
     "name": "stdout",
     "output_type": "stream",
     "text": [
      "\t Loss: 15.538,\tTrain : 96.28%(96.28%),\tTest : 95.63%(95.72%),\tCurrent Time: 20250917-191546\n"
     ]
    },
    {
     "name": "stderr",
     "output_type": "stream",
     "text": [
      "Epoch 33/50:: 100%|\u001b[34m███████████████████\u001b[0m| 120/120 [00:02<00:00, 49.69batch/s, loss=0.125747]\u001b[0m\n"
     ]
    },
    {
     "name": "stdout",
     "output_type": "stream",
     "text": [
      "\t Loss: 15.090,\tTrain : 96.40%(96.40%),\tTest : 95.86%(95.86%),\tCurrent Time: 20250917-191549\n"
     ]
    },
    {
     "name": "stderr",
     "output_type": "stream",
     "text": [
      "Epoch 34/50:: 100%|\u001b[34m███████████████████\u001b[0m| 120/120 [00:02<00:00, 50.23batch/s, loss=0.121864]\u001b[0m\n"
     ]
    },
    {
     "name": "stdout",
     "output_type": "stream",
     "text": [
      "\t Loss: 14.624,\tTrain : 96.49%(96.49%),\tTest : 95.87%(95.87%),\tCurrent Time: 20250917-191551\n"
     ]
    },
    {
     "name": "stderr",
     "output_type": "stream",
     "text": [
      "Epoch 35/50:: 100%|\u001b[34m███████████████████\u001b[0m| 120/120 [00:02<00:00, 50.08batch/s, loss=0.119061]\u001b[0m\n"
     ]
    },
    {
     "name": "stdout",
     "output_type": "stream",
     "text": [
      "\t Loss: 14.287,\tTrain : 96.59%(96.59%),\tTest : 96.02%(96.02%),\tCurrent Time: 20250917-191554\n"
     ]
    },
    {
     "name": "stderr",
     "output_type": "stream",
     "text": [
      "Epoch 36/50:: 100%|\u001b[34m███████████████████\u001b[0m| 120/120 [00:02<00:00, 49.95batch/s, loss=0.116623]\u001b[0m\n"
     ]
    },
    {
     "name": "stdout",
     "output_type": "stream",
     "text": [
      "\t Loss: 13.995,\tTrain : 96.60%(96.60%),\tTest : 95.87%(96.02%),\tCurrent Time: 20250917-191556\n"
     ]
    },
    {
     "name": "stderr",
     "output_type": "stream",
     "text": [
      "Epoch 37/50:: 100%|\u001b[34m███████████████████\u001b[0m| 120/120 [00:02<00:00, 50.08batch/s, loss=0.114578]\u001b[0m\n"
     ]
    },
    {
     "name": "stdout",
     "output_type": "stream",
     "text": [
      "\t Loss: 13.749,\tTrain : 96.65%(96.65%),\tTest : 95.98%(96.02%),\tCurrent Time: 20250917-191559\n"
     ]
    },
    {
     "name": "stderr",
     "output_type": "stream",
     "text": [
      "Epoch 38/50:: 100%|\u001b[34m███████████████████\u001b[0m| 120/120 [00:02<00:00, 50.05batch/s, loss=0.113350]\u001b[0m\n"
     ]
    },
    {
     "name": "stdout",
     "output_type": "stream",
     "text": [
      "\t Loss: 13.602,\tTrain : 96.76%(96.76%),\tTest : 96.07%(96.07%),\tCurrent Time: 20250917-191601\n"
     ]
    },
    {
     "name": "stderr",
     "output_type": "stream",
     "text": [
      "Epoch 39/50:: 100%|\u001b[34m███████████████████\u001b[0m| 120/120 [00:02<00:00, 50.01batch/s, loss=0.107946]\u001b[0m\n"
     ]
    },
    {
     "name": "stdout",
     "output_type": "stream",
     "text": [
      "\t Loss: 12.954,\tTrain : 96.86%(96.86%),\tTest : 96.11%(96.11%),\tCurrent Time: 20250917-191604\n"
     ]
    },
    {
     "name": "stderr",
     "output_type": "stream",
     "text": [
      "Epoch 40/50:: 100%|\u001b[34m███████████████████\u001b[0m| 120/120 [00:02<00:00, 50.24batch/s, loss=0.106641]\u001b[0m\n"
     ]
    },
    {
     "name": "stdout",
     "output_type": "stream",
     "text": [
      "\t Loss: 12.797,\tTrain : 96.89%(96.89%),\tTest : 96.10%(96.11%),\tCurrent Time: 20250917-191606\n"
     ]
    },
    {
     "name": "stderr",
     "output_type": "stream",
     "text": [
      "Epoch 41/50:: 100%|\u001b[34m███████████████████\u001b[0m| 120/120 [00:02<00:00, 50.34batch/s, loss=0.103117]\u001b[0m\n"
     ]
    },
    {
     "name": "stdout",
     "output_type": "stream",
     "text": [
      "\t Loss: 12.374,\tTrain : 97.02%(97.02%),\tTest : 96.14%(96.14%),\tCurrent Time: 20250917-191609\n"
     ]
    },
    {
     "name": "stderr",
     "output_type": "stream",
     "text": [
      "Epoch 42/50:: 100%|\u001b[34m███████████████████\u001b[0m| 120/120 [00:02<00:00, 50.01batch/s, loss=0.101103]\u001b[0m\n"
     ]
    },
    {
     "name": "stdout",
     "output_type": "stream",
     "text": [
      "\t Loss: 12.132,\tTrain : 97.05%(97.05%),\tTest : 96.07%(96.14%),\tCurrent Time: 20250917-191611\n"
     ]
    },
    {
     "name": "stderr",
     "output_type": "stream",
     "text": [
      "Epoch 43/50:: 100%|\u001b[34m███████████████████\u001b[0m| 120/120 [00:02<00:00, 50.22batch/s, loss=0.099401]\u001b[0m\n"
     ]
    },
    {
     "name": "stdout",
     "output_type": "stream",
     "text": [
      "\t Loss: 11.928,\tTrain : 97.10%(97.10%),\tTest : 96.22%(96.22%),\tCurrent Time: 20250917-191614\n"
     ]
    },
    {
     "name": "stderr",
     "output_type": "stream",
     "text": [
      "Epoch 44/50:: 100%|\u001b[34m███████████████████\u001b[0m| 120/120 [00:02<00:00, 50.01batch/s, loss=0.096650]\u001b[0m\n"
     ]
    },
    {
     "name": "stdout",
     "output_type": "stream",
     "text": [
      "\t Loss: 11.598,\tTrain : 97.19%(97.19%),\tTest : 96.15%(96.22%),\tCurrent Time: 20250917-191616\n"
     ]
    },
    {
     "name": "stderr",
     "output_type": "stream",
     "text": [
      "Epoch 45/50:: 100%|\u001b[34m███████████████████\u001b[0m| 120/120 [00:02<00:00, 49.87batch/s, loss=0.094259]\u001b[0m\n"
     ]
    },
    {
     "name": "stdout",
     "output_type": "stream",
     "text": [
      "\t Loss: 11.311,\tTrain : 97.21%(97.21%),\tTest : 96.27%(96.27%),\tCurrent Time: 20250917-191619\n"
     ]
    },
    {
     "name": "stderr",
     "output_type": "stream",
     "text": [
      "Epoch 46/50:: 100%|\u001b[34m███████████████████\u001b[0m| 120/120 [00:02<00:00, 50.25batch/s, loss=0.092785]\u001b[0m\n"
     ]
    },
    {
     "name": "stdout",
     "output_type": "stream",
     "text": [
      "\t Loss: 11.134,\tTrain : 97.29%(97.29%),\tTest : 96.36%(96.36%),\tCurrent Time: 20250917-191621\n"
     ]
    },
    {
     "name": "stderr",
     "output_type": "stream",
     "text": [
      "Epoch 47/50:: 100%|\u001b[34m███████████████████\u001b[0m| 120/120 [00:02<00:00, 50.50batch/s, loss=0.092664]\u001b[0m\n"
     ]
    },
    {
     "name": "stdout",
     "output_type": "stream",
     "text": [
      "\t Loss: 11.120,\tTrain : 97.28%(97.29%),\tTest : 96.27%(96.36%),\tCurrent Time: 20250917-191624\n"
     ]
    },
    {
     "name": "stderr",
     "output_type": "stream",
     "text": [
      "Epoch 48/50:: 100%|\u001b[34m███████████████████\u001b[0m| 120/120 [00:02<00:00, 50.16batch/s, loss=0.089900]\u001b[0m\n"
     ]
    },
    {
     "name": "stdout",
     "output_type": "stream",
     "text": [
      "\t Loss: 10.788,\tTrain : 97.35%(97.35%),\tTest : 96.40%(96.40%),\tCurrent Time: 20250917-191626\n"
     ]
    },
    {
     "name": "stderr",
     "output_type": "stream",
     "text": [
      "Epoch 49/50:: 100%|\u001b[34m███████████████████\u001b[0m| 120/120 [00:02<00:00, 50.09batch/s, loss=0.088748]\u001b[0m\n"
     ]
    },
    {
     "name": "stdout",
     "output_type": "stream",
     "text": [
      "\t Loss: 10.650,\tTrain : 97.38%(97.38%),\tTest : 96.19%(96.40%),\tCurrent Time: 20250917-191629\n"
     ]
    },
    {
     "name": "stderr",
     "output_type": "stream",
     "text": [
      "Epoch 50/50:: 100%|\u001b[34m███████████████████\u001b[0m| 120/120 [00:02<00:00, 50.03batch/s, loss=0.086619]\u001b[0m\n"
     ]
    },
    {
     "name": "stdout",
     "output_type": "stream",
     "text": [
      "\t Loss: 10.394,\tTrain : 97.45%(97.45%),\tTest : 96.34%(96.40%),\tCurrent Time: 20250917-191631\n",
      "First_asymm_AG_N-HL_resP-EP_L10-P0.02-MNIST_EP_b_sc0.1- Time: 20250917-191631, Epochs: 50, Learning Rate: 0.0005, Best: 97.45%  96.40%\n",
      "\n",
      "[[0 1 0 0 0 0 0 0 0 0 0 0]\n",
      " [0 0 1 0 0 0 0 1 0 0 0 0]\n",
      " [0 1 0 1 0 0 0 0 0 0 0 0]\n",
      " [0 0 1 0 1 0 0 0 0 0 0 0]\n",
      " [0 0 0 1 0 1 0 0 0 0 0 0]\n",
      " [0 0 0 0 1 0 1 0 0 0 0 0]\n",
      " [0 0 0 0 0 1 0 1 0 1 0 0]\n",
      " [0 0 0 0 0 1 1 0 1 0 0 0]\n",
      " [0 0 0 0 0 0 0 1 0 1 0 0]\n",
      " [0 0 1 0 0 0 0 0 1 0 1 0]\n",
      " [0 0 0 0 0 0 0 0 0 1 0 1]\n",
      " [0 0 0 0 0 0 0 0 0 0 1 0]]\n",
      "First_asymm_AG_N-HL_resP-EP_L10-P0.02-MNIST_EP_b_sc0.1-\n"
     ]
    },
    {
     "name": "stderr",
     "output_type": "stream",
     "text": [
      "Epoch 1/50:: 100%|\u001b[34m████████████████████\u001b[0m| 120/120 [00:02<00:00, 45.49batch/s, loss=2.270232]\u001b[0m\n"
     ]
    },
    {
     "name": "stdout",
     "output_type": "stream",
     "text": [
      "\t Loss: 272.428,\tTrain : 20.34%(20.34%),\tTest : 29.94%(29.94%),\tCurrent Time: 20250917-191638\n"
     ]
    },
    {
     "name": "stderr",
     "output_type": "stream",
     "text": [
      "Epoch 2/50:: 100%|\u001b[34m████████████████████\u001b[0m| 120/120 [00:02<00:00, 49.62batch/s, loss=1.651025]\u001b[0m\n"
     ]
    },
    {
     "name": "stdout",
     "output_type": "stream",
     "text": [
      "\t Loss: 198.123,\tTrain : 49.46%(49.46%),\tTest : 70.69%(70.69%),\tCurrent Time: 20250917-191641\n"
     ]
    },
    {
     "name": "stderr",
     "output_type": "stream",
     "text": [
      "Epoch 3/50:: 100%|\u001b[34m████████████████████\u001b[0m| 120/120 [00:02<00:00, 49.80batch/s, loss=0.910569]\u001b[0m\n"
     ]
    },
    {
     "name": "stdout",
     "output_type": "stream",
     "text": [
      "\t Loss: 109.268,\tTrain : 80.92%(80.92%),\tTest : 86.71%(86.71%),\tCurrent Time: 20250917-191643\n"
     ]
    },
    {
     "name": "stderr",
     "output_type": "stream",
     "text": [
      "Epoch 4/50:: 100%|\u001b[34m████████████████████\u001b[0m| 120/120 [00:02<00:00, 49.39batch/s, loss=0.562144]\u001b[0m\n"
     ]
    },
    {
     "name": "stdout",
     "output_type": "stream",
     "text": [
      "\t Loss: 67.457,\tTrain : 87.36%(87.36%),\tTest : 88.99%(88.99%),\tCurrent Time: 20250917-191646\n"
     ]
    },
    {
     "name": "stderr",
     "output_type": "stream",
     "text": [
      "Epoch 5/50:: 100%|\u001b[34m████████████████████\u001b[0m| 120/120 [00:02<00:00, 49.60batch/s, loss=0.445676]\u001b[0m\n"
     ]
    },
    {
     "name": "stdout",
     "output_type": "stream",
     "text": [
      "\t Loss: 53.481,\tTrain : 89.12%(89.12%),\tTest : 90.22%(90.22%),\tCurrent Time: 20250917-191648\n"
     ]
    },
    {
     "name": "stderr",
     "output_type": "stream",
     "text": [
      "Epoch 6/50:: 100%|\u001b[34m████████████████████\u001b[0m| 120/120 [00:02<00:00, 49.67batch/s, loss=0.386840]\u001b[0m\n"
     ]
    },
    {
     "name": "stdout",
     "output_type": "stream",
     "text": [
      "\t Loss: 46.421,\tTrain : 90.18%(90.18%),\tTest : 91.09%(91.09%),\tCurrent Time: 20250917-191651\n"
     ]
    },
    {
     "name": "stderr",
     "output_type": "stream",
     "text": [
      "Epoch 7/50:: 100%|\u001b[34m████████████████████\u001b[0m| 120/120 [00:02<00:00, 49.38batch/s, loss=0.336469]\u001b[0m\n"
     ]
    },
    {
     "name": "stdout",
     "output_type": "stream",
     "text": [
      "\t Loss: 40.376,\tTrain : 91.10%(91.10%),\tTest : 91.83%(91.83%),\tCurrent Time: 20250917-191653\n"
     ]
    },
    {
     "name": "stderr",
     "output_type": "stream",
     "text": [
      "Epoch 8/50:: 100%|\u001b[34m████████████████████\u001b[0m| 120/120 [00:02<00:00, 49.47batch/s, loss=0.298278]\u001b[0m\n"
     ]
    },
    {
     "name": "stdout",
     "output_type": "stream",
     "text": [
      "\t Loss: 35.793,\tTrain : 91.90%(91.90%),\tTest : 92.55%(92.55%),\tCurrent Time: 20250917-191656\n"
     ]
    },
    {
     "name": "stderr",
     "output_type": "stream",
     "text": [
      "Epoch 9/50:: 100%|\u001b[34m████████████████████\u001b[0m| 120/120 [00:02<00:00, 49.78batch/s, loss=0.270276]\u001b[0m\n"
     ]
    },
    {
     "name": "stdout",
     "output_type": "stream",
     "text": [
      "\t Loss: 32.433,\tTrain : 92.59%(92.59%),\tTest : 92.85%(92.85%),\tCurrent Time: 20250917-191658\n"
     ]
    },
    {
     "name": "stderr",
     "output_type": "stream",
     "text": [
      "Epoch 10/50:: 100%|\u001b[34m███████████████████\u001b[0m| 120/120 [00:02<00:00, 49.46batch/s, loss=0.252121]\u001b[0m\n"
     ]
    },
    {
     "name": "stdout",
     "output_type": "stream",
     "text": [
      "\t Loss: 30.254,\tTrain : 93.07%(93.07%),\tTest : 93.23%(93.23%),\tCurrent Time: 20250917-191701\n"
     ]
    },
    {
     "name": "stderr",
     "output_type": "stream",
     "text": [
      "Epoch 11/50:: 100%|\u001b[34m███████████████████\u001b[0m| 120/120 [00:02<00:00, 49.64batch/s, loss=0.235721]\u001b[0m\n"
     ]
    },
    {
     "name": "stdout",
     "output_type": "stream",
     "text": [
      "\t Loss: 28.287,\tTrain : 93.41%(93.41%),\tTest : 93.58%(93.58%),\tCurrent Time: 20250917-191703\n"
     ]
    },
    {
     "name": "stderr",
     "output_type": "stream",
     "text": [
      "Epoch 12/50:: 100%|\u001b[34m███████████████████\u001b[0m| 120/120 [00:02<00:00, 49.87batch/s, loss=0.221046]\u001b[0m\n"
     ]
    },
    {
     "name": "stdout",
     "output_type": "stream",
     "text": [
      "\t Loss: 26.525,\tTrain : 93.79%(93.79%),\tTest : 93.95%(93.95%),\tCurrent Time: 20250917-191706\n"
     ]
    },
    {
     "name": "stderr",
     "output_type": "stream",
     "text": [
      "Epoch 13/50:: 100%|\u001b[34m███████████████████\u001b[0m| 120/120 [00:02<00:00, 49.60batch/s, loss=0.208796]\u001b[0m\n"
     ]
    },
    {
     "name": "stdout",
     "output_type": "stream",
     "text": [
      "\t Loss: 25.056,\tTrain : 94.19%(94.19%),\tTest : 94.29%(94.29%),\tCurrent Time: 20250917-191708\n"
     ]
    },
    {
     "name": "stderr",
     "output_type": "stream",
     "text": [
      "Epoch 14/50:: 100%|\u001b[34m███████████████████\u001b[0m| 120/120 [00:02<00:00, 49.86batch/s, loss=0.199167]\u001b[0m\n"
     ]
    },
    {
     "name": "stdout",
     "output_type": "stream",
     "text": [
      "\t Loss: 23.900,\tTrain : 94.39%(94.39%),\tTest : 94.50%(94.50%),\tCurrent Time: 20250917-191711\n"
     ]
    },
    {
     "name": "stderr",
     "output_type": "stream",
     "text": [
      "Epoch 15/50:: 100%|\u001b[34m███████████████████\u001b[0m| 120/120 [00:02<00:00, 49.42batch/s, loss=0.188704]\u001b[0m\n"
     ]
    },
    {
     "name": "stdout",
     "output_type": "stream",
     "text": [
      "\t Loss: 22.645,\tTrain : 94.73%(94.73%),\tTest : 94.77%(94.77%),\tCurrent Time: 20250917-191713\n"
     ]
    },
    {
     "name": "stderr",
     "output_type": "stream",
     "text": [
      "Epoch 16/50:: 100%|\u001b[34m███████████████████\u001b[0m| 120/120 [00:02<00:00, 49.66batch/s, loss=0.179942]\u001b[0m\n"
     ]
    },
    {
     "name": "stdout",
     "output_type": "stream",
     "text": [
      "\t Loss: 21.593,\tTrain : 94.99%(94.99%),\tTest : 94.68%(94.77%),\tCurrent Time: 20250917-191716\n"
     ]
    },
    {
     "name": "stderr",
     "output_type": "stream",
     "text": [
      "Epoch 17/50:: 100%|\u001b[34m███████████████████\u001b[0m| 120/120 [00:02<00:00, 49.81batch/s, loss=0.169057]\u001b[0m\n"
     ]
    },
    {
     "name": "stdout",
     "output_type": "stream",
     "text": [
      "\t Loss: 20.287,\tTrain : 95.23%(95.23%),\tTest : 94.99%(94.99%),\tCurrent Time: 20250917-191718\n"
     ]
    },
    {
     "name": "stderr",
     "output_type": "stream",
     "text": [
      "Epoch 18/50:: 100%|\u001b[34m███████████████████\u001b[0m| 120/120 [00:02<00:00, 49.44batch/s, loss=0.162060]\u001b[0m\n"
     ]
    },
    {
     "name": "stdout",
     "output_type": "stream",
     "text": [
      "\t Loss: 19.447,\tTrain : 95.44%(95.44%),\tTest : 94.87%(94.99%),\tCurrent Time: 20250917-191721\n"
     ]
    },
    {
     "name": "stderr",
     "output_type": "stream",
     "text": [
      "Epoch 19/50:: 100%|\u001b[34m███████████████████\u001b[0m| 120/120 [00:02<00:00, 49.81batch/s, loss=0.154866]\u001b[0m\n"
     ]
    },
    {
     "name": "stdout",
     "output_type": "stream",
     "text": [
      "\t Loss: 18.584,\tTrain : 95.58%(95.58%),\tTest : 95.23%(95.23%),\tCurrent Time: 20250917-191723\n"
     ]
    },
    {
     "name": "stderr",
     "output_type": "stream",
     "text": [
      "Epoch 20/50:: 100%|\u001b[34m███████████████████\u001b[0m| 120/120 [00:02<00:00, 49.86batch/s, loss=0.147083]\u001b[0m\n"
     ]
    },
    {
     "name": "stdout",
     "output_type": "stream",
     "text": [
      "\t Loss: 17.650,\tTrain : 95.85%(95.85%),\tTest : 95.34%(95.34%),\tCurrent Time: 20250917-191726\n"
     ]
    },
    {
     "name": "stderr",
     "output_type": "stream",
     "text": [
      "Epoch 21/50:: 100%|\u001b[34m███████████████████\u001b[0m| 120/120 [00:02<00:00, 49.65batch/s, loss=0.143412]\u001b[0m\n"
     ]
    },
    {
     "name": "stdout",
     "output_type": "stream",
     "text": [
      "\t Loss: 17.209,\tTrain : 95.94%(95.94%),\tTest : 95.17%(95.34%),\tCurrent Time: 20250917-191728\n"
     ]
    },
    {
     "name": "stderr",
     "output_type": "stream",
     "text": [
      "Epoch 22/50:: 100%|\u001b[34m███████████████████\u001b[0m| 120/120 [00:02<00:00, 49.58batch/s, loss=0.140432]\u001b[0m\n"
     ]
    },
    {
     "name": "stdout",
     "output_type": "stream",
     "text": [
      "\t Loss: 16.852,\tTrain : 96.02%(96.02%),\tTest : 95.43%(95.43%),\tCurrent Time: 20250917-191731\n"
     ]
    },
    {
     "name": "stderr",
     "output_type": "stream",
     "text": [
      "Epoch 23/50:: 100%|\u001b[34m███████████████████\u001b[0m| 120/120 [00:02<00:00, 49.64batch/s, loss=0.132817]\u001b[0m\n"
     ]
    },
    {
     "name": "stdout",
     "output_type": "stream",
     "text": [
      "\t Loss: 15.938,\tTrain : 96.21%(96.21%),\tTest : 95.27%(95.43%),\tCurrent Time: 20250917-191733\n"
     ]
    },
    {
     "name": "stderr",
     "output_type": "stream",
     "text": [
      "Epoch 24/50:: 100%|\u001b[34m███████████████████\u001b[0m| 120/120 [00:02<00:00, 49.27batch/s, loss=0.127866]\u001b[0m\n"
     ]
    },
    {
     "name": "stdout",
     "output_type": "stream",
     "text": [
      "\t Loss: 15.344,\tTrain : 96.37%(96.37%),\tTest : 95.59%(95.59%),\tCurrent Time: 20250917-191736\n"
     ]
    },
    {
     "name": "stderr",
     "output_type": "stream",
     "text": [
      "Epoch 25/50:: 100%|\u001b[34m███████████████████\u001b[0m| 120/120 [00:02<00:00, 49.61batch/s, loss=0.120507]\u001b[0m\n"
     ]
    },
    {
     "name": "stdout",
     "output_type": "stream",
     "text": [
      "\t Loss: 14.461,\tTrain : 96.60%(96.60%),\tTest : 95.62%(95.62%),\tCurrent Time: 20250917-191738\n"
     ]
    },
    {
     "name": "stderr",
     "output_type": "stream",
     "text": [
      "Epoch 26/50:: 100%|\u001b[34m███████████████████\u001b[0m| 120/120 [00:02<00:00, 49.79batch/s, loss=0.114863]\u001b[0m\n"
     ]
    },
    {
     "name": "stdout",
     "output_type": "stream",
     "text": [
      "\t Loss: 13.784,\tTrain : 96.72%(96.72%),\tTest : 95.54%(95.62%),\tCurrent Time: 20250917-191741\n"
     ]
    },
    {
     "name": "stderr",
     "output_type": "stream",
     "text": [
      "Epoch 27/50:: 100%|\u001b[34m███████████████████\u001b[0m| 120/120 [00:02<00:00, 49.67batch/s, loss=0.110075]\u001b[0m\n"
     ]
    },
    {
     "name": "stdout",
     "output_type": "stream",
     "text": [
      "\t Loss: 13.209,\tTrain : 96.84%(96.84%),\tTest : 95.63%(95.63%),\tCurrent Time: 20250917-191743\n"
     ]
    },
    {
     "name": "stderr",
     "output_type": "stream",
     "text": [
      "Epoch 28/50:: 100%|\u001b[34m███████████████████\u001b[0m| 120/120 [00:02<00:00, 49.73batch/s, loss=0.105174]\u001b[0m\n"
     ]
    },
    {
     "name": "stdout",
     "output_type": "stream",
     "text": [
      "\t Loss: 12.621,\tTrain : 96.97%(96.97%),\tTest : 95.83%(95.83%),\tCurrent Time: 20250917-191746\n"
     ]
    },
    {
     "name": "stderr",
     "output_type": "stream",
     "text": [
      "Epoch 29/50:: 100%|\u001b[34m███████████████████\u001b[0m| 120/120 [00:02<00:00, 49.63batch/s, loss=0.101709]\u001b[0m\n"
     ]
    },
    {
     "name": "stdout",
     "output_type": "stream",
     "text": [
      "\t Loss: 12.205,\tTrain : 97.08%(97.08%),\tTest : 96.02%(96.02%),\tCurrent Time: 20250917-191748\n"
     ]
    },
    {
     "name": "stderr",
     "output_type": "stream",
     "text": [
      "Epoch 30/50:: 100%|\u001b[34m███████████████████\u001b[0m| 120/120 [00:02<00:00, 49.79batch/s, loss=0.095988]\u001b[0m\n"
     ]
    },
    {
     "name": "stdout",
     "output_type": "stream",
     "text": [
      "\t Loss: 11.519,\tTrain : 97.25%(97.25%),\tTest : 96.13%(96.13%),\tCurrent Time: 20250917-191751\n"
     ]
    },
    {
     "name": "stderr",
     "output_type": "stream",
     "text": [
      "Epoch 31/50:: 100%|\u001b[34m███████████████████\u001b[0m| 120/120 [00:02<00:00, 49.63batch/s, loss=0.092106]\u001b[0m\n"
     ]
    },
    {
     "name": "stdout",
     "output_type": "stream",
     "text": [
      "\t Loss: 11.053,\tTrain : 97.35%(97.35%),\tTest : 96.12%(96.13%),\tCurrent Time: 20250917-191753\n"
     ]
    },
    {
     "name": "stderr",
     "output_type": "stream",
     "text": [
      "Epoch 32/50:: 100%|\u001b[34m███████████████████\u001b[0m| 120/120 [00:02<00:00, 49.83batch/s, loss=0.087683]\u001b[0m\n"
     ]
    },
    {
     "name": "stdout",
     "output_type": "stream",
     "text": [
      "\t Loss: 10.522,\tTrain : 97.45%(97.45%),\tTest : 96.19%(96.19%),\tCurrent Time: 20250917-191756\n"
     ]
    },
    {
     "name": "stderr",
     "output_type": "stream",
     "text": [
      "Epoch 33/50:: 100%|\u001b[34m███████████████████\u001b[0m| 120/120 [00:02<00:00, 49.64batch/s, loss=0.085484]\u001b[0m\n"
     ]
    },
    {
     "name": "stdout",
     "output_type": "stream",
     "text": [
      "\t Loss: 10.258,\tTrain : 97.52%(97.52%),\tTest : 96.13%(96.19%),\tCurrent Time: 20250917-191758\n"
     ]
    },
    {
     "name": "stderr",
     "output_type": "stream",
     "text": [
      "Epoch 34/50:: 100%|\u001b[34m███████████████████\u001b[0m| 120/120 [00:02<00:00, 49.85batch/s, loss=0.081031]\u001b[0m\n"
     ]
    },
    {
     "name": "stdout",
     "output_type": "stream",
     "text": [
      "\t Loss: 9.724,\tTrain : 97.59%(97.59%),\tTest : 96.37%(96.37%),\tCurrent Time: 20250917-191801\n"
     ]
    },
    {
     "name": "stderr",
     "output_type": "stream",
     "text": [
      "Epoch 35/50:: 100%|\u001b[34m███████████████████\u001b[0m| 120/120 [00:02<00:00, 50.04batch/s, loss=0.077119]\u001b[0m\n"
     ]
    },
    {
     "name": "stdout",
     "output_type": "stream",
     "text": [
      "\t Loss: 9.254,\tTrain : 97.76%(97.76%),\tTest : 96.29%(96.37%),\tCurrent Time: 20250917-191803\n"
     ]
    },
    {
     "name": "stderr",
     "output_type": "stream",
     "text": [
      "Epoch 36/50:: 100%|\u001b[34m███████████████████\u001b[0m| 120/120 [00:02<00:00, 49.20batch/s, loss=0.074828]\u001b[0m\n"
     ]
    },
    {
     "name": "stdout",
     "output_type": "stream",
     "text": [
      "\t Loss: 8.979,\tTrain : 97.81%(97.81%),\tTest : 96.31%(96.37%),\tCurrent Time: 20250917-191806\n"
     ]
    },
    {
     "name": "stderr",
     "output_type": "stream",
     "text": [
      "Epoch 37/50:: 100%|\u001b[34m███████████████████\u001b[0m| 120/120 [00:02<00:00, 49.62batch/s, loss=0.072553]\u001b[0m\n"
     ]
    },
    {
     "name": "stdout",
     "output_type": "stream",
     "text": [
      "\t Loss: 8.706,\tTrain : 97.91%(97.91%),\tTest : 96.23%(96.37%),\tCurrent Time: 20250917-191808\n"
     ]
    },
    {
     "name": "stderr",
     "output_type": "stream",
     "text": [
      "Epoch 38/50:: 100%|\u001b[34m███████████████████\u001b[0m| 120/120 [00:02<00:00, 49.53batch/s, loss=0.070368]\u001b[0m\n"
     ]
    },
    {
     "name": "stdout",
     "output_type": "stream",
     "text": [
      "\t Loss: 8.444,\tTrain : 97.94%(97.94%),\tTest : 96.41%(96.41%),\tCurrent Time: 20250917-191811\n"
     ]
    },
    {
     "name": "stderr",
     "output_type": "stream",
     "text": [
      "Epoch 39/50:: 100%|\u001b[34m███████████████████\u001b[0m| 120/120 [00:02<00:00, 49.98batch/s, loss=0.068109]\u001b[0m\n"
     ]
    },
    {
     "name": "stdout",
     "output_type": "stream",
     "text": [
      "\t Loss: 8.173,\tTrain : 98.02%(98.02%),\tTest : 96.40%(96.41%),\tCurrent Time: 20250917-191813\n"
     ]
    },
    {
     "name": "stderr",
     "output_type": "stream",
     "text": [
      "Epoch 40/50:: 100%|\u001b[34m███████████████████\u001b[0m| 120/120 [00:02<00:00, 49.25batch/s, loss=0.065654]\u001b[0m\n"
     ]
    },
    {
     "name": "stdout",
     "output_type": "stream",
     "text": [
      "\t Loss: 7.878,\tTrain : 98.04%(98.04%),\tTest : 96.23%(96.41%),\tCurrent Time: 20250917-191816\n"
     ]
    },
    {
     "name": "stderr",
     "output_type": "stream",
     "text": [
      "Epoch 41/50:: 100%|\u001b[34m███████████████████\u001b[0m| 120/120 [00:02<00:00, 49.98batch/s, loss=0.062802]\u001b[0m\n"
     ]
    },
    {
     "name": "stdout",
     "output_type": "stream",
     "text": [
      "\t Loss: 7.536,\tTrain : 98.19%(98.19%),\tTest : 96.39%(96.41%),\tCurrent Time: 20250917-191818\n"
     ]
    },
    {
     "name": "stderr",
     "output_type": "stream",
     "text": [
      "Epoch 42/50:: 100%|\u001b[34m███████████████████\u001b[0m| 120/120 [00:02<00:00, 49.88batch/s, loss=0.058801]\u001b[0m\n"
     ]
    },
    {
     "name": "stdout",
     "output_type": "stream",
     "text": [
      "\t Loss: 7.056,\tTrain : 98.32%(98.32%),\tTest : 96.35%(96.41%),\tCurrent Time: 20250917-191821\n"
     ]
    },
    {
     "name": "stderr",
     "output_type": "stream",
     "text": [
      "Epoch 43/50:: 100%|\u001b[34m███████████████████\u001b[0m| 120/120 [00:02<00:00, 49.79batch/s, loss=0.057760]\u001b[0m\n"
     ]
    },
    {
     "name": "stdout",
     "output_type": "stream",
     "text": [
      "\t Loss: 6.931,\tTrain : 98.30%(98.32%),\tTest : 96.49%(96.49%),\tCurrent Time: 20250917-191823\n"
     ]
    },
    {
     "name": "stderr",
     "output_type": "stream",
     "text": [
      "Epoch 44/50:: 100%|\u001b[34m███████████████████\u001b[0m| 120/120 [00:02<00:00, 48.49batch/s, loss=0.056004]\u001b[0m\n"
     ]
    },
    {
     "name": "stdout",
     "output_type": "stream",
     "text": [
      "\t Loss: 6.720,\tTrain : 98.39%(98.39%),\tTest : 96.16%(96.49%),\tCurrent Time: 20250917-191826\n"
     ]
    },
    {
     "name": "stderr",
     "output_type": "stream",
     "text": [
      "Epoch 45/50:: 100%|\u001b[34m███████████████████\u001b[0m| 120/120 [00:02<00:00, 49.58batch/s, loss=0.053645]\u001b[0m\n"
     ]
    },
    {
     "name": "stdout",
     "output_type": "stream",
     "text": [
      "\t Loss: 6.437,\tTrain : 98.41%(98.41%),\tTest : 96.41%(96.49%),\tCurrent Time: 20250917-191828\n"
     ]
    },
    {
     "name": "stderr",
     "output_type": "stream",
     "text": [
      "Epoch 46/50:: 100%|\u001b[34m███████████████████\u001b[0m| 120/120 [00:02<00:00, 49.86batch/s, loss=0.052656]\u001b[0m\n"
     ]
    },
    {
     "name": "stdout",
     "output_type": "stream",
     "text": [
      "\t Loss: 6.319,\tTrain : 98.43%(98.43%),\tTest : 96.50%(96.50%),\tCurrent Time: 20250917-191831\n"
     ]
    },
    {
     "name": "stderr",
     "output_type": "stream",
     "text": [
      "Epoch 47/50:: 100%|\u001b[34m███████████████████\u001b[0m| 120/120 [00:02<00:00, 49.84batch/s, loss=0.049248]\u001b[0m\n"
     ]
    },
    {
     "name": "stdout",
     "output_type": "stream",
     "text": [
      "\t Loss: 5.910,\tTrain : 98.55%(98.55%),\tTest : 96.56%(96.56%),\tCurrent Time: 20250917-191833\n"
     ]
    },
    {
     "name": "stderr",
     "output_type": "stream",
     "text": [
      "Epoch 48/50:: 100%|\u001b[34m███████████████████\u001b[0m| 120/120 [00:02<00:00, 49.61batch/s, loss=0.046436]\u001b[0m\n"
     ]
    },
    {
     "name": "stdout",
     "output_type": "stream",
     "text": [
      "\t Loss: 5.572,\tTrain : 98.64%(98.64%),\tTest : 96.55%(96.56%),\tCurrent Time: 20250917-191836\n"
     ]
    },
    {
     "name": "stderr",
     "output_type": "stream",
     "text": [
      "Epoch 49/50:: 100%|\u001b[34m███████████████████\u001b[0m| 120/120 [00:02<00:00, 49.83batch/s, loss=0.046266]\u001b[0m\n"
     ]
    },
    {
     "name": "stdout",
     "output_type": "stream",
     "text": [
      "\t Loss: 5.552,\tTrain : 98.64%(98.64%),\tTest : 96.49%(96.56%),\tCurrent Time: 20250917-191838\n"
     ]
    },
    {
     "name": "stderr",
     "output_type": "stream",
     "text": [
      "Epoch 50/50:: 100%|\u001b[34m███████████████████\u001b[0m| 120/120 [00:02<00:00, 49.44batch/s, loss=0.042029]\u001b[0m\n"
     ]
    },
    {
     "name": "stdout",
     "output_type": "stream",
     "text": [
      "\t Loss: 5.043,\tTrain : 98.75%(98.75%),\tTest : 96.58%(96.58%),\tCurrent Time: 20250917-191841\n",
      "First_asymm_AG_N-HL_resP-EP_L10-P0.02-MNIST_EP_b_sc0.1- Time: 20250917-191841, Epochs: 50, Learning Rate: 0.0005, Best: 98.75%  96.58%\n",
      "\n",
      "[[0 1 0 0 0 0 0 0 0 0 0 0]\n",
      " [0 0 1 0 0 0 0 0 0 0 0 0]\n",
      " [0 1 0 1 0 0 0 0 0 0 0 0]\n",
      " [0 0 1 0 1 0 0 0 0 0 0 0]\n",
      " [0 0 0 1 0 1 0 0 0 0 0 0]\n",
      " [0 0 0 0 1 0 1 0 0 0 0 0]\n",
      " [0 0 0 0 0 1 0 1 0 0 0 0]\n",
      " [0 0 0 0 0 0 1 0 1 0 0 0]\n",
      " [0 0 0 0 0 0 0 1 0 1 0 0]\n",
      " [0 0 0 0 0 0 0 0 1 0 1 0]\n",
      " [0 0 0 0 0 0 0 0 0 1 0 1]\n",
      " [0 0 0 0 0 0 0 0 0 0 1 0]]\n",
      "First_asymm_AG_N-HL_resP-EP_L10-P0.02-MNIST_EP_b_sc0.1-\n"
     ]
    },
    {
     "name": "stderr",
     "output_type": "stream",
     "text": [
      "Epoch 1/50:: 100%|\u001b[34m████████████████████\u001b[0m| 120/120 [00:02<00:00, 46.31batch/s, loss=2.206531]\u001b[0m\n"
     ]
    },
    {
     "name": "stdout",
     "output_type": "stream",
     "text": [
      "\t Loss: 264.784,\tTrain : 17.93%(17.93%),\tTest : 32.16%(32.16%),\tCurrent Time: 20250917-191848\n"
     ]
    },
    {
     "name": "stderr",
     "output_type": "stream",
     "text": [
      "Epoch 2/50:: 100%|\u001b[34m████████████████████\u001b[0m| 120/120 [00:02<00:00, 49.98batch/s, loss=1.759939]\u001b[0m\n"
     ]
    },
    {
     "name": "stdout",
     "output_type": "stream",
     "text": [
      "\t Loss: 211.193,\tTrain : 45.32%(45.32%),\tTest : 53.46%(53.46%),\tCurrent Time: 20250917-191850\n"
     ]
    },
    {
     "name": "stderr",
     "output_type": "stream",
     "text": [
      "Epoch 3/50:: 100%|\u001b[34m████████████████████\u001b[0m| 120/120 [00:02<00:00, 50.21batch/s, loss=1.385825]\u001b[0m\n"
     ]
    },
    {
     "name": "stdout",
     "output_type": "stream",
     "text": [
      "\t Loss: 166.299,\tTrain : 58.72%(58.72%),\tTest : 64.55%(64.55%),\tCurrent Time: 20250917-191853\n"
     ]
    },
    {
     "name": "stderr",
     "output_type": "stream",
     "text": [
      "Epoch 4/50:: 100%|\u001b[34m████████████████████\u001b[0m| 120/120 [00:02<00:00, 50.34batch/s, loss=1.140471]\u001b[0m\n"
     ]
    },
    {
     "name": "stdout",
     "output_type": "stream",
     "text": [
      "\t Loss: 136.857,\tTrain : 65.90%(65.90%),\tTest : 69.23%(69.23%),\tCurrent Time: 20250917-191855\n"
     ]
    },
    {
     "name": "stderr",
     "output_type": "stream",
     "text": [
      "Epoch 5/50:: 100%|\u001b[34m████████████████████\u001b[0m| 120/120 [00:02<00:00, 50.25batch/s, loss=1.014938]\u001b[0m\n"
     ]
    },
    {
     "name": "stdout",
     "output_type": "stream",
     "text": [
      "\t Loss: 121.793,\tTrain : 69.48%(69.48%),\tTest : 73.08%(73.08%),\tCurrent Time: 20250917-191857\n"
     ]
    },
    {
     "name": "stderr",
     "output_type": "stream",
     "text": [
      "Epoch 6/50:: 100%|\u001b[34m████████████████████\u001b[0m| 120/120 [00:02<00:00, 50.37batch/s, loss=0.913790]\u001b[0m\n"
     ]
    },
    {
     "name": "stdout",
     "output_type": "stream",
     "text": [
      "\t Loss: 109.655,\tTrain : 72.59%(72.59%),\tTest : 75.05%(75.05%),\tCurrent Time: 20250917-191900\n"
     ]
    },
    {
     "name": "stderr",
     "output_type": "stream",
     "text": [
      "Epoch 7/50:: 100%|\u001b[34m████████████████████\u001b[0m| 120/120 [00:02<00:00, 49.65batch/s, loss=0.843457]\u001b[0m\n"
     ]
    },
    {
     "name": "stdout",
     "output_type": "stream",
     "text": [
      "\t Loss: 101.215,\tTrain : 74.49%(74.49%),\tTest : 76.48%(76.48%),\tCurrent Time: 20250917-191902\n"
     ]
    },
    {
     "name": "stderr",
     "output_type": "stream",
     "text": [
      "Epoch 8/50:: 100%|\u001b[34m████████████████████\u001b[0m| 120/120 [00:02<00:00, 50.05batch/s, loss=0.797121]\u001b[0m\n"
     ]
    },
    {
     "name": "stdout",
     "output_type": "stream",
     "text": [
      "\t Loss: 95.654,\tTrain : 75.74%(75.74%),\tTest : 77.56%(77.56%),\tCurrent Time: 20250917-191905\n"
     ]
    },
    {
     "name": "stderr",
     "output_type": "stream",
     "text": [
      "Epoch 9/50:: 100%|\u001b[34m████████████████████\u001b[0m| 120/120 [00:02<00:00, 50.03batch/s, loss=0.752780]\u001b[0m\n"
     ]
    },
    {
     "name": "stdout",
     "output_type": "stream",
     "text": [
      "\t Loss: 90.334,\tTrain : 76.81%(76.81%),\tTest : 78.52%(78.52%),\tCurrent Time: 20250917-191907\n"
     ]
    },
    {
     "name": "stderr",
     "output_type": "stream",
     "text": [
      "Epoch 10/50:: 100%|\u001b[34m███████████████████\u001b[0m| 120/120 [00:02<00:00, 50.24batch/s, loss=0.720855]\u001b[0m\n"
     ]
    },
    {
     "name": "stdout",
     "output_type": "stream",
     "text": [
      "\t Loss: 86.503,\tTrain : 77.79%(77.79%),\tTest : 79.54%(79.54%),\tCurrent Time: 20250917-191910\n"
     ]
    },
    {
     "name": "stderr",
     "output_type": "stream",
     "text": [
      "Epoch 11/50:: 100%|\u001b[34m███████████████████\u001b[0m| 120/120 [00:02<00:00, 50.05batch/s, loss=0.687953]\u001b[0m\n"
     ]
    },
    {
     "name": "stdout",
     "output_type": "stream",
     "text": [
      "\t Loss: 82.554,\tTrain : 78.52%(78.52%),\tTest : 80.47%(80.47%),\tCurrent Time: 20250917-191912\n"
     ]
    },
    {
     "name": "stderr",
     "output_type": "stream",
     "text": [
      "Epoch 12/50:: 100%|\u001b[34m███████████████████\u001b[0m| 120/120 [00:02<00:00, 50.07batch/s, loss=0.663801]\u001b[0m\n"
     ]
    },
    {
     "name": "stdout",
     "output_type": "stream",
     "text": [
      "\t Loss: 79.656,\tTrain : 79.31%(79.31%),\tTest : 81.03%(81.03%),\tCurrent Time: 20250917-191915\n"
     ]
    },
    {
     "name": "stderr",
     "output_type": "stream",
     "text": [
      "Epoch 13/50:: 100%|\u001b[34m███████████████████\u001b[0m| 120/120 [00:02<00:00, 50.20batch/s, loss=0.640177]\u001b[0m\n"
     ]
    },
    {
     "name": "stdout",
     "output_type": "stream",
     "text": [
      "\t Loss: 76.821,\tTrain : 79.96%(79.96%),\tTest : 81.59%(81.59%),\tCurrent Time: 20250917-191917\n"
     ]
    },
    {
     "name": "stderr",
     "output_type": "stream",
     "text": [
      "Epoch 14/50:: 100%|\u001b[34m███████████████████\u001b[0m| 120/120 [00:02<00:00, 49.63batch/s, loss=0.620257]\u001b[0m\n"
     ]
    },
    {
     "name": "stdout",
     "output_type": "stream",
     "text": [
      "\t Loss: 74.431,\tTrain : 80.74%(80.74%),\tTest : 81.84%(81.84%),\tCurrent Time: 20250917-191920\n"
     ]
    },
    {
     "name": "stderr",
     "output_type": "stream",
     "text": [
      "Epoch 15/50:: 100%|\u001b[34m███████████████████\u001b[0m| 120/120 [00:02<00:00, 49.85batch/s, loss=0.602832]\u001b[0m\n"
     ]
    },
    {
     "name": "stdout",
     "output_type": "stream",
     "text": [
      "\t Loss: 72.340,\tTrain : 81.27%(81.27%),\tTest : 82.33%(82.33%),\tCurrent Time: 20250917-191922\n"
     ]
    },
    {
     "name": "stderr",
     "output_type": "stream",
     "text": [
      "Epoch 16/50:: 100%|\u001b[34m███████████████████\u001b[0m| 120/120 [00:02<00:00, 50.05batch/s, loss=0.589103]\u001b[0m\n"
     ]
    },
    {
     "name": "stdout",
     "output_type": "stream",
     "text": [
      "\t Loss: 70.692,\tTrain : 81.64%(81.64%),\tTest : 82.77%(82.77%),\tCurrent Time: 20250917-191925\n"
     ]
    },
    {
     "name": "stderr",
     "output_type": "stream",
     "text": [
      "Epoch 17/50:: 100%|\u001b[34m███████████████████\u001b[0m| 120/120 [00:02<00:00, 50.24batch/s, loss=0.573016]\u001b[0m\n"
     ]
    },
    {
     "name": "stdout",
     "output_type": "stream",
     "text": [
      "\t Loss: 68.762,\tTrain : 82.27%(82.27%),\tTest : 83.12%(83.12%),\tCurrent Time: 20250917-191927\n"
     ]
    },
    {
     "name": "stderr",
     "output_type": "stream",
     "text": [
      "Epoch 18/50:: 100%|\u001b[34m███████████████████\u001b[0m| 120/120 [00:02<00:00, 49.87batch/s, loss=0.562363]\u001b[0m\n"
     ]
    },
    {
     "name": "stdout",
     "output_type": "stream",
     "text": [
      "\t Loss: 67.484,\tTrain : 82.45%(82.45%),\tTest : 83.75%(83.75%),\tCurrent Time: 20250917-191930\n"
     ]
    },
    {
     "name": "stderr",
     "output_type": "stream",
     "text": [
      "Epoch 19/50:: 100%|\u001b[34m███████████████████\u001b[0m| 120/120 [00:02<00:00, 50.28batch/s, loss=0.551426]\u001b[0m\n"
     ]
    },
    {
     "name": "stdout",
     "output_type": "stream",
     "text": [
      "\t Loss: 66.171,\tTrain : 82.87%(82.87%),\tTest : 83.61%(83.75%),\tCurrent Time: 20250917-191932\n"
     ]
    },
    {
     "name": "stderr",
     "output_type": "stream",
     "text": [
      "Epoch 20/50:: 100%|\u001b[34m███████████████████\u001b[0m| 120/120 [00:02<00:00, 50.26batch/s, loss=0.542830]\u001b[0m\n"
     ]
    },
    {
     "name": "stdout",
     "output_type": "stream",
     "text": [
      "\t Loss: 65.140,\tTrain : 83.09%(83.09%),\tTest : 83.70%(83.75%),\tCurrent Time: 20250917-191935\n"
     ]
    },
    {
     "name": "stderr",
     "output_type": "stream",
     "text": [
      "Epoch 21/50:: 100%|\u001b[34m███████████████████\u001b[0m| 120/120 [00:02<00:00, 49.78batch/s, loss=0.533749]\u001b[0m\n"
     ]
    },
    {
     "name": "stdout",
     "output_type": "stream",
     "text": [
      "\t Loss: 64.050,\tTrain : 83.39%(83.39%),\tTest : 84.44%(84.44%),\tCurrent Time: 20250917-191937\n"
     ]
    },
    {
     "name": "stderr",
     "output_type": "stream",
     "text": [
      "Epoch 22/50:: 100%|\u001b[34m███████████████████\u001b[0m| 120/120 [00:02<00:00, 50.15batch/s, loss=0.522269]\u001b[0m\n"
     ]
    },
    {
     "name": "stdout",
     "output_type": "stream",
     "text": [
      "\t Loss: 62.672,\tTrain : 83.69%(83.69%),\tTest : 84.41%(84.44%),\tCurrent Time: 20250917-191940\n"
     ]
    },
    {
     "name": "stderr",
     "output_type": "stream",
     "text": [
      "Epoch 23/50:: 100%|\u001b[34m███████████████████\u001b[0m| 120/120 [00:02<00:00, 49.95batch/s, loss=0.513973]\u001b[0m\n"
     ]
    },
    {
     "name": "stdout",
     "output_type": "stream",
     "text": [
      "\t Loss: 61.677,\tTrain : 84.04%(84.04%),\tTest : 85.09%(85.09%),\tCurrent Time: 20250917-191942\n"
     ]
    },
    {
     "name": "stderr",
     "output_type": "stream",
     "text": [
      "Epoch 24/50:: 100%|\u001b[34m███████████████████\u001b[0m| 120/120 [00:02<00:00, 49.63batch/s, loss=0.504631]\u001b[0m\n"
     ]
    },
    {
     "name": "stdout",
     "output_type": "stream",
     "text": [
      "\t Loss: 60.556,\tTrain : 84.31%(84.31%),\tTest : 84.94%(85.09%),\tCurrent Time: 20250917-191945\n"
     ]
    },
    {
     "name": "stderr",
     "output_type": "stream",
     "text": [
      "Epoch 25/50:: 100%|\u001b[34m███████████████████\u001b[0m| 120/120 [00:02<00:00, 50.03batch/s, loss=0.500182]\u001b[0m\n"
     ]
    },
    {
     "name": "stdout",
     "output_type": "stream",
     "text": [
      "\t Loss: 60.022,\tTrain : 84.43%(84.43%),\tTest : 85.18%(85.18%),\tCurrent Time: 20250917-191947\n"
     ]
    },
    {
     "name": "stderr",
     "output_type": "stream",
     "text": [
      "Epoch 26/50:: 100%|\u001b[34m███████████████████\u001b[0m| 120/120 [00:02<00:00, 50.01batch/s, loss=0.490396]\u001b[0m\n"
     ]
    },
    {
     "name": "stdout",
     "output_type": "stream",
     "text": [
      "\t Loss: 58.848,\tTrain : 84.71%(84.71%),\tTest : 85.47%(85.47%),\tCurrent Time: 20250917-191950\n"
     ]
    },
    {
     "name": "stderr",
     "output_type": "stream",
     "text": [
      "Epoch 27/50:: 100%|\u001b[34m███████████████████\u001b[0m| 120/120 [00:02<00:00, 50.20batch/s, loss=0.482414]\u001b[0m\n"
     ]
    },
    {
     "name": "stdout",
     "output_type": "stream",
     "text": [
      "\t Loss: 57.890,\tTrain : 84.92%(84.92%),\tTest : 85.76%(85.76%),\tCurrent Time: 20250917-191952\n"
     ]
    },
    {
     "name": "stderr",
     "output_type": "stream",
     "text": [
      "Epoch 28/50:: 100%|\u001b[34m███████████████████\u001b[0m| 120/120 [00:02<00:00, 50.12batch/s, loss=0.474578]\u001b[0m\n"
     ]
    },
    {
     "name": "stdout",
     "output_type": "stream",
     "text": [
      "\t Loss: 56.949,\tTrain : 85.19%(85.19%),\tTest : 85.86%(85.86%),\tCurrent Time: 20250917-191955\n"
     ]
    },
    {
     "name": "stderr",
     "output_type": "stream",
     "text": [
      "Epoch 29/50:: 100%|\u001b[34m███████████████████\u001b[0m| 120/120 [00:02<00:00, 50.04batch/s, loss=0.468717]\u001b[0m\n"
     ]
    },
    {
     "name": "stdout",
     "output_type": "stream",
     "text": [
      "\t Loss: 56.246,\tTrain : 85.29%(85.29%),\tTest : 86.40%(86.40%),\tCurrent Time: 20250917-191957\n"
     ]
    },
    {
     "name": "stderr",
     "output_type": "stream",
     "text": [
      "Epoch 30/50:: 100%|\u001b[34m███████████████████\u001b[0m| 120/120 [00:02<00:00, 50.09batch/s, loss=0.462018]\u001b[0m\n"
     ]
    },
    {
     "name": "stdout",
     "output_type": "stream",
     "text": [
      "\t Loss: 55.442,\tTrain : 85.52%(85.52%),\tTest : 86.54%(86.54%),\tCurrent Time: 20250917-192000\n"
     ]
    },
    {
     "name": "stderr",
     "output_type": "stream",
     "text": [
      "Epoch 31/50:: 100%|\u001b[34m███████████████████\u001b[0m| 120/120 [00:02<00:00, 49.97batch/s, loss=0.455545]\u001b[0m\n"
     ]
    },
    {
     "name": "stdout",
     "output_type": "stream",
     "text": [
      "\t Loss: 54.665,\tTrain : 85.80%(85.80%),\tTest : 86.54%(86.54%),\tCurrent Time: 20250917-192002\n"
     ]
    },
    {
     "name": "stderr",
     "output_type": "stream",
     "text": [
      "Epoch 32/50:: 100%|\u001b[34m███████████████████\u001b[0m| 120/120 [00:02<00:00, 50.06batch/s, loss=0.449176]\u001b[0m\n"
     ]
    },
    {
     "name": "stdout",
     "output_type": "stream",
     "text": [
      "\t Loss: 53.901,\tTrain : 85.89%(85.89%),\tTest : 86.71%(86.71%),\tCurrent Time: 20250917-192004\n"
     ]
    },
    {
     "name": "stderr",
     "output_type": "stream",
     "text": [
      "Epoch 33/50:: 100%|\u001b[34m███████████████████\u001b[0m| 120/120 [00:02<00:00, 50.14batch/s, loss=0.443725]\u001b[0m\n"
     ]
    },
    {
     "name": "stdout",
     "output_type": "stream",
     "text": [
      "\t Loss: 53.247,\tTrain : 86.12%(86.12%),\tTest : 86.86%(86.86%),\tCurrent Time: 20250917-192007\n"
     ]
    },
    {
     "name": "stderr",
     "output_type": "stream",
     "text": [
      "Epoch 34/50:: 100%|\u001b[34m███████████████████\u001b[0m| 120/120 [00:02<00:00, 49.97batch/s, loss=0.439152]\u001b[0m\n"
     ]
    },
    {
     "name": "stdout",
     "output_type": "stream",
     "text": [
      "\t Loss: 52.698,\tTrain : 86.36%(86.36%),\tTest : 87.13%(87.13%),\tCurrent Time: 20250917-192009\n"
     ]
    },
    {
     "name": "stderr",
     "output_type": "stream",
     "text": [
      "Epoch 35/50:: 100%|\u001b[34m███████████████████\u001b[0m| 120/120 [00:02<00:00, 50.02batch/s, loss=0.433609]\u001b[0m\n"
     ]
    },
    {
     "name": "stdout",
     "output_type": "stream",
     "text": [
      "\t Loss: 52.033,\tTrain : 86.41%(86.41%),\tTest : 87.19%(87.19%),\tCurrent Time: 20250917-192012\n"
     ]
    },
    {
     "name": "stderr",
     "output_type": "stream",
     "text": [
      "Epoch 36/50:: 100%|\u001b[34m███████████████████\u001b[0m| 120/120 [00:02<00:00, 49.64batch/s, loss=0.428521]\u001b[0m\n"
     ]
    },
    {
     "name": "stdout",
     "output_type": "stream",
     "text": [
      "\t Loss: 51.423,\tTrain : 86.61%(86.61%),\tTest : 87.36%(87.36%),\tCurrent Time: 20250917-192014\n"
     ]
    },
    {
     "name": "stderr",
     "output_type": "stream",
     "text": [
      "Epoch 37/50:: 100%|\u001b[34m███████████████████\u001b[0m| 120/120 [00:02<00:00, 50.02batch/s, loss=0.422702]\u001b[0m\n"
     ]
    },
    {
     "name": "stdout",
     "output_type": "stream",
     "text": [
      "\t Loss: 50.724,\tTrain : 86.83%(86.83%),\tTest : 87.48%(87.48%),\tCurrent Time: 20250917-192017\n"
     ]
    },
    {
     "name": "stderr",
     "output_type": "stream",
     "text": [
      "Epoch 38/50:: 100%|\u001b[34m███████████████████\u001b[0m| 120/120 [00:02<00:00, 50.26batch/s, loss=0.418642]\u001b[0m\n"
     ]
    },
    {
     "name": "stdout",
     "output_type": "stream",
     "text": [
      "\t Loss: 50.237,\tTrain : 86.91%(86.91%),\tTest : 87.73%(87.73%),\tCurrent Time: 20250917-192019\n"
     ]
    },
    {
     "name": "stderr",
     "output_type": "stream",
     "text": [
      "Epoch 39/50:: 100%|\u001b[34m███████████████████\u001b[0m| 120/120 [00:02<00:00, 50.10batch/s, loss=0.415343]\u001b[0m\n"
     ]
    },
    {
     "name": "stdout",
     "output_type": "stream",
     "text": [
      "\t Loss: 49.841,\tTrain : 86.94%(86.94%),\tTest : 87.69%(87.73%),\tCurrent Time: 20250917-192022\n"
     ]
    },
    {
     "name": "stderr",
     "output_type": "stream",
     "text": [
      "Epoch 40/50:: 100%|\u001b[34m███████████████████\u001b[0m| 120/120 [00:02<00:00, 50.01batch/s, loss=0.410951]\u001b[0m\n"
     ]
    },
    {
     "name": "stdout",
     "output_type": "stream",
     "text": [
      "\t Loss: 49.314,\tTrain : 87.19%(87.19%),\tTest : 87.75%(87.75%),\tCurrent Time: 20250917-192024\n"
     ]
    },
    {
     "name": "stderr",
     "output_type": "stream",
     "text": [
      "Epoch 41/50:: 100%|\u001b[34m███████████████████\u001b[0m| 120/120 [00:02<00:00, 50.24batch/s, loss=0.408220]\u001b[0m\n"
     ]
    },
    {
     "name": "stdout",
     "output_type": "stream",
     "text": [
      "\t Loss: 48.986,\tTrain : 87.32%(87.32%),\tTest : 88.16%(88.16%),\tCurrent Time: 20250917-192027\n"
     ]
    },
    {
     "name": "stderr",
     "output_type": "stream",
     "text": [
      "Epoch 42/50:: 100%|\u001b[34m███████████████████\u001b[0m| 120/120 [00:02<00:00, 50.42batch/s, loss=0.400692]\u001b[0m\n"
     ]
    },
    {
     "name": "stdout",
     "output_type": "stream",
     "text": [
      "\t Loss: 48.083,\tTrain : 87.52%(87.52%),\tTest : 87.99%(88.16%),\tCurrent Time: 20250917-192029\n"
     ]
    },
    {
     "name": "stderr",
     "output_type": "stream",
     "text": [
      "Epoch 43/50:: 100%|\u001b[34m███████████████████\u001b[0m| 120/120 [00:02<00:00, 50.10batch/s, loss=0.397804]\u001b[0m\n"
     ]
    },
    {
     "name": "stdout",
     "output_type": "stream",
     "text": [
      "\t Loss: 47.737,\tTrain : 87.59%(87.59%),\tTest : 88.26%(88.26%),\tCurrent Time: 20250917-192032\n"
     ]
    },
    {
     "name": "stderr",
     "output_type": "stream",
     "text": [
      "Epoch 44/50:: 100%|\u001b[34m███████████████████\u001b[0m| 120/120 [00:02<00:00, 50.01batch/s, loss=0.394403]\u001b[0m\n"
     ]
    },
    {
     "name": "stdout",
     "output_type": "stream",
     "text": [
      "\t Loss: 47.328,\tTrain : 87.74%(87.74%),\tTest : 88.14%(88.26%),\tCurrent Time: 20250917-192034\n"
     ]
    },
    {
     "name": "stderr",
     "output_type": "stream",
     "text": [
      "Epoch 45/50:: 100%|\u001b[34m███████████████████\u001b[0m| 120/120 [00:02<00:00, 50.28batch/s, loss=0.391730]\u001b[0m\n"
     ]
    },
    {
     "name": "stdout",
     "output_type": "stream",
     "text": [
      "\t Loss: 47.008,\tTrain : 87.85%(87.85%),\tTest : 88.51%(88.51%),\tCurrent Time: 20250917-192037\n"
     ]
    },
    {
     "name": "stderr",
     "output_type": "stream",
     "text": [
      "Epoch 46/50:: 100%|\u001b[34m███████████████████\u001b[0m| 120/120 [00:02<00:00, 50.01batch/s, loss=0.386970]\u001b[0m\n"
     ]
    },
    {
     "name": "stdout",
     "output_type": "stream",
     "text": [
      "\t Loss: 46.436,\tTrain : 87.86%(87.86%),\tTest : 88.73%(88.73%),\tCurrent Time: 20250917-192039\n"
     ]
    },
    {
     "name": "stderr",
     "output_type": "stream",
     "text": [
      "Epoch 47/50:: 100%|\u001b[34m███████████████████\u001b[0m| 120/120 [00:02<00:00, 50.08batch/s, loss=0.386565]\u001b[0m\n"
     ]
    },
    {
     "name": "stdout",
     "output_type": "stream",
     "text": [
      "\t Loss: 46.388,\tTrain : 88.10%(88.10%),\tTest : 88.56%(88.73%),\tCurrent Time: 20250917-192042\n"
     ]
    },
    {
     "name": "stderr",
     "output_type": "stream",
     "text": [
      "Epoch 48/50:: 100%|\u001b[34m███████████████████\u001b[0m| 120/120 [00:02<00:00, 50.14batch/s, loss=0.381378]\u001b[0m\n"
     ]
    },
    {
     "name": "stdout",
     "output_type": "stream",
     "text": [
      "\t Loss: 45.765,\tTrain : 88.20%(88.20%),\tTest : 88.81%(88.81%),\tCurrent Time: 20250917-192044\n"
     ]
    },
    {
     "name": "stderr",
     "output_type": "stream",
     "text": [
      "Epoch 49/50:: 100%|\u001b[34m███████████████████\u001b[0m| 120/120 [00:02<00:00, 50.43batch/s, loss=0.381081]\u001b[0m\n"
     ]
    },
    {
     "name": "stdout",
     "output_type": "stream",
     "text": [
      "\t Loss: 45.730,\tTrain : 88.21%(88.21%),\tTest : 88.85%(88.85%),\tCurrent Time: 20250917-192047\n"
     ]
    },
    {
     "name": "stderr",
     "output_type": "stream",
     "text": [
      "Epoch 50/50:: 100%|\u001b[34m███████████████████\u001b[0m| 120/120 [00:02<00:00, 50.20batch/s, loss=0.377452]\u001b[0m\n"
     ]
    },
    {
     "name": "stdout",
     "output_type": "stream",
     "text": [
      "\t Loss: 45.294,\tTrain : 88.36%(88.36%),\tTest : 88.96%(88.96%),\tCurrent Time: 20250917-192049\n",
      "First_asymm_AG_N-HL_resP-EP_L10-P0.02-MNIST_EP_b_sc0.1- Time: 20250917-192049, Epochs: 50, Learning Rate: 0.0005, Best: 88.36%  88.96%\n",
      "\n",
      "[[0 1 0 0 0 0 0 0 0 0 0 0]\n",
      " [0 0 1 0 0 0 0 0 0 0 0 0]\n",
      " [0 1 0 1 0 0 0 0 0 0 0 0]\n",
      " [0 0 1 0 1 0 0 0 0 0 0 0]\n",
      " [0 0 0 1 0 1 0 0 0 0 0 0]\n",
      " [0 0 0 0 1 0 1 0 0 0 0 0]\n",
      " [0 0 0 0 0 1 0 1 0 0 0 0]\n",
      " [0 0 0 0 0 0 1 0 1 0 0 0]\n",
      " [0 0 0 0 0 0 0 1 0 1 0 0]\n",
      " [0 0 0 0 0 0 0 0 1 0 1 0]\n",
      " [0 0 0 0 0 0 0 0 0 1 0 1]\n",
      " [0 0 0 0 0 0 0 0 0 0 1 0]]\n",
      "First_asymm_AG_N-HL_resP-EP_L10-P0.02-MNIST_EP_b_sc0.1-\n"
     ]
    },
    {
     "name": "stderr",
     "output_type": "stream",
     "text": [
      "Epoch 1/50:: 100%|\u001b[34m████████████████████\u001b[0m| 120/120 [00:02<00:00, 46.06batch/s, loss=2.212268]\u001b[0m\n"
     ]
    },
    {
     "name": "stdout",
     "output_type": "stream",
     "text": [
      "\t Loss: 265.472,\tTrain : 17.15%(17.15%),\tTest : 30.83%(30.83%),\tCurrent Time: 20250917-192056\n"
     ]
    },
    {
     "name": "stderr",
     "output_type": "stream",
     "text": [
      "Epoch 2/50:: 100%|\u001b[34m████████████████████\u001b[0m| 120/120 [00:02<00:00, 50.04batch/s, loss=1.732957]\u001b[0m\n"
     ]
    },
    {
     "name": "stdout",
     "output_type": "stream",
     "text": [
      "\t Loss: 207.955,\tTrain : 43.94%(43.94%),\tTest : 55.15%(55.15%),\tCurrent Time: 20250917-192059\n"
     ]
    },
    {
     "name": "stderr",
     "output_type": "stream",
     "text": [
      "Epoch 3/50:: 100%|\u001b[34m████████████████████\u001b[0m| 120/120 [00:02<00:00, 50.03batch/s, loss=1.350291]\u001b[0m\n"
     ]
    },
    {
     "name": "stdout",
     "output_type": "stream",
     "text": [
      "\t Loss: 162.035,\tTrain : 60.75%(60.75%),\tTest : 65.17%(65.17%),\tCurrent Time: 20250917-192101\n"
     ]
    },
    {
     "name": "stderr",
     "output_type": "stream",
     "text": [
      "Epoch 4/50:: 100%|\u001b[34m████████████████████\u001b[0m| 120/120 [00:02<00:00, 50.15batch/s, loss=1.119615]\u001b[0m\n"
     ]
    },
    {
     "name": "stdout",
     "output_type": "stream",
     "text": [
      "\t Loss: 134.354,\tTrain : 66.70%(66.70%),\tTest : 68.78%(68.78%),\tCurrent Time: 20250917-192104\n"
     ]
    },
    {
     "name": "stderr",
     "output_type": "stream",
     "text": [
      "Epoch 5/50:: 100%|\u001b[34m████████████████████\u001b[0m| 120/120 [00:02<00:00, 50.17batch/s, loss=0.982449]\u001b[0m\n"
     ]
    },
    {
     "name": "stdout",
     "output_type": "stream",
     "text": [
      "\t Loss: 117.894,\tTrain : 70.10%(70.10%),\tTest : 71.89%(71.89%),\tCurrent Time: 20250917-192106\n"
     ]
    },
    {
     "name": "stderr",
     "output_type": "stream",
     "text": [
      "Epoch 6/50:: 100%|\u001b[34m████████████████████\u001b[0m| 120/120 [00:02<00:00, 49.95batch/s, loss=0.889839]\u001b[0m\n"
     ]
    },
    {
     "name": "stdout",
     "output_type": "stream",
     "text": [
      "\t Loss: 106.781,\tTrain : 72.98%(72.98%),\tTest : 74.28%(74.28%),\tCurrent Time: 20250917-192108\n"
     ]
    },
    {
     "name": "stderr",
     "output_type": "stream",
     "text": [
      "Epoch 7/50:: 100%|\u001b[34m████████████████████\u001b[0m| 120/120 [00:02<00:00, 50.28batch/s, loss=0.819295]\u001b[0m\n"
     ]
    },
    {
     "name": "stdout",
     "output_type": "stream",
     "text": [
      "\t Loss: 98.315,\tTrain : 75.16%(75.16%),\tTest : 76.20%(76.20%),\tCurrent Time: 20250917-192111\n"
     ]
    },
    {
     "name": "stderr",
     "output_type": "stream",
     "text": [
      "Epoch 8/50:: 100%|\u001b[34m████████████████████\u001b[0m| 120/120 [00:02<00:00, 50.17batch/s, loss=0.767009]\u001b[0m\n"
     ]
    },
    {
     "name": "stdout",
     "output_type": "stream",
     "text": [
      "\t Loss: 92.041,\tTrain : 76.73%(76.73%),\tTest : 77.19%(77.19%),\tCurrent Time: 20250917-192113\n"
     ]
    },
    {
     "name": "stderr",
     "output_type": "stream",
     "text": [
      "Epoch 9/50:: 100%|\u001b[34m████████████████████\u001b[0m| 120/120 [00:02<00:00, 49.98batch/s, loss=0.729568]\u001b[0m\n"
     ]
    },
    {
     "name": "stdout",
     "output_type": "stream",
     "text": [
      "\t Loss: 87.548,\tTrain : 77.87%(77.87%),\tTest : 78.06%(78.06%),\tCurrent Time: 20250917-192116\n"
     ]
    },
    {
     "name": "stderr",
     "output_type": "stream",
     "text": [
      "Epoch 10/50:: 100%|\u001b[34m███████████████████\u001b[0m| 120/120 [00:02<00:00, 50.28batch/s, loss=0.697817]\u001b[0m\n"
     ]
    },
    {
     "name": "stdout",
     "output_type": "stream",
     "text": [
      "\t Loss: 83.738,\tTrain : 78.81%(78.81%),\tTest : 79.04%(79.04%),\tCurrent Time: 20250917-192118\n"
     ]
    },
    {
     "name": "stderr",
     "output_type": "stream",
     "text": [
      "Epoch 11/50:: 100%|\u001b[34m███████████████████\u001b[0m| 120/120 [00:02<00:00, 50.32batch/s, loss=0.671922]\u001b[0m\n"
     ]
    },
    {
     "name": "stdout",
     "output_type": "stream",
     "text": [
      "\t Loss: 80.631,\tTrain : 79.54%(79.54%),\tTest : 79.50%(79.50%),\tCurrent Time: 20250917-192121\n"
     ]
    },
    {
     "name": "stderr",
     "output_type": "stream",
     "text": [
      "Epoch 12/50:: 100%|\u001b[34m███████████████████\u001b[0m| 120/120 [00:02<00:00, 50.42batch/s, loss=0.645359]\u001b[0m\n"
     ]
    },
    {
     "name": "stdout",
     "output_type": "stream",
     "text": [
      "\t Loss: 77.443,\tTrain : 80.23%(80.23%),\tTest : 80.14%(80.14%),\tCurrent Time: 20250917-192123\n"
     ]
    },
    {
     "name": "stderr",
     "output_type": "stream",
     "text": [
      "Epoch 13/50:: 100%|\u001b[34m███████████████████\u001b[0m| 120/120 [00:02<00:00, 49.62batch/s, loss=0.626457]\u001b[0m\n"
     ]
    },
    {
     "name": "stdout",
     "output_type": "stream",
     "text": [
      "\t Loss: 75.175,\tTrain : 80.72%(80.72%),\tTest : 81.02%(81.02%),\tCurrent Time: 20250917-192126\n"
     ]
    },
    {
     "name": "stderr",
     "output_type": "stream",
     "text": [
      "Epoch 14/50:: 100%|\u001b[34m███████████████████\u001b[0m| 120/120 [00:02<00:00, 50.24batch/s, loss=0.607197]\u001b[0m\n"
     ]
    },
    {
     "name": "stdout",
     "output_type": "stream",
     "text": [
      "\t Loss: 72.864,\tTrain : 81.14%(81.14%),\tTest : 81.23%(81.23%),\tCurrent Time: 20250917-192128\n"
     ]
    },
    {
     "name": "stderr",
     "output_type": "stream",
     "text": [
      "Epoch 15/50:: 100%|\u001b[34m███████████████████\u001b[0m| 120/120 [00:02<00:00, 50.20batch/s, loss=0.589576]\u001b[0m\n"
     ]
    },
    {
     "name": "stdout",
     "output_type": "stream",
     "text": [
      "\t Loss: 70.749,\tTrain : 81.66%(81.66%),\tTest : 81.76%(81.76%),\tCurrent Time: 20250917-192131\n"
     ]
    },
    {
     "name": "stderr",
     "output_type": "stream",
     "text": [
      "Epoch 16/50:: 100%|\u001b[34m███████████████████\u001b[0m| 120/120 [00:02<00:00, 50.07batch/s, loss=0.571687]\u001b[0m\n"
     ]
    },
    {
     "name": "stdout",
     "output_type": "stream",
     "text": [
      "\t Loss: 68.602,\tTrain : 82.28%(82.28%),\tTest : 82.10%(82.10%),\tCurrent Time: 20250917-192133\n"
     ]
    },
    {
     "name": "stderr",
     "output_type": "stream",
     "text": [
      "Epoch 17/50:: 100%|\u001b[34m███████████████████\u001b[0m| 120/120 [00:02<00:00, 50.07batch/s, loss=0.560422]\u001b[0m\n"
     ]
    },
    {
     "name": "stdout",
     "output_type": "stream",
     "text": [
      "\t Loss: 67.251,\tTrain : 82.63%(82.63%),\tTest : 82.91%(82.91%),\tCurrent Time: 20250917-192136\n"
     ]
    },
    {
     "name": "stderr",
     "output_type": "stream",
     "text": [
      "Epoch 18/50:: 100%|\u001b[34m███████████████████\u001b[0m| 120/120 [00:02<00:00, 50.25batch/s, loss=0.548345]\u001b[0m\n"
     ]
    },
    {
     "name": "stdout",
     "output_type": "stream",
     "text": [
      "\t Loss: 65.801,\tTrain : 82.96%(82.96%),\tTest : 83.30%(83.30%),\tCurrent Time: 20250917-192138\n"
     ]
    },
    {
     "name": "stderr",
     "output_type": "stream",
     "text": [
      "Epoch 19/50:: 100%|\u001b[34m███████████████████\u001b[0m| 120/120 [00:02<00:00, 50.03batch/s, loss=0.535883]\u001b[0m\n"
     ]
    },
    {
     "name": "stdout",
     "output_type": "stream",
     "text": [
      "\t Loss: 64.306,\tTrain : 83.35%(83.35%),\tTest : 83.45%(83.45%),\tCurrent Time: 20250917-192141\n"
     ]
    },
    {
     "name": "stderr",
     "output_type": "stream",
     "text": [
      "Epoch 20/50:: 100%|\u001b[34m███████████████████\u001b[0m| 120/120 [00:02<00:00, 50.20batch/s, loss=0.524408]\u001b[0m\n"
     ]
    },
    {
     "name": "stdout",
     "output_type": "stream",
     "text": [
      "\t Loss: 62.929,\tTrain : 83.64%(83.64%),\tTest : 83.92%(83.92%),\tCurrent Time: 20250917-192143\n"
     ]
    },
    {
     "name": "stderr",
     "output_type": "stream",
     "text": [
      "Epoch 21/50:: 100%|\u001b[34m███████████████████\u001b[0m| 120/120 [00:02<00:00, 50.26batch/s, loss=0.517450]\u001b[0m\n"
     ]
    },
    {
     "name": "stdout",
     "output_type": "stream",
     "text": [
      "\t Loss: 62.094,\tTrain : 83.93%(83.93%),\tTest : 84.03%(84.03%),\tCurrent Time: 20250917-192146\n"
     ]
    },
    {
     "name": "stderr",
     "output_type": "stream",
     "text": [
      "Epoch 22/50:: 100%|\u001b[34m███████████████████\u001b[0m| 120/120 [00:02<00:00, 50.30batch/s, loss=0.508804]\u001b[0m\n"
     ]
    },
    {
     "name": "stdout",
     "output_type": "stream",
     "text": [
      "\t Loss: 61.057,\tTrain : 84.07%(84.07%),\tTest : 84.27%(84.27%),\tCurrent Time: 20250917-192148\n"
     ]
    },
    {
     "name": "stderr",
     "output_type": "stream",
     "text": [
      "Epoch 23/50:: 100%|\u001b[34m███████████████████\u001b[0m| 120/120 [00:02<00:00, 50.26batch/s, loss=0.505172]\u001b[0m\n"
     ]
    },
    {
     "name": "stdout",
     "output_type": "stream",
     "text": [
      "\t Loss: 60.621,\tTrain : 84.09%(84.09%),\tTest : 84.44%(84.44%),\tCurrent Time: 20250917-192151\n"
     ]
    },
    {
     "name": "stderr",
     "output_type": "stream",
     "text": [
      "Epoch 24/50:: 100%|\u001b[34m███████████████████\u001b[0m| 120/120 [00:02<00:00, 50.05batch/s, loss=0.497673]\u001b[0m\n"
     ]
    },
    {
     "name": "stdout",
     "output_type": "stream",
     "text": [
      "\t Loss: 59.721,\tTrain : 84.38%(84.38%),\tTest : 84.58%(84.58%),\tCurrent Time: 20250917-192153\n"
     ]
    },
    {
     "name": "stderr",
     "output_type": "stream",
     "text": [
      "Epoch 25/50:: 100%|\u001b[34m███████████████████\u001b[0m| 120/120 [00:02<00:00, 50.00batch/s, loss=0.488419]\u001b[0m\n"
     ]
    },
    {
     "name": "stdout",
     "output_type": "stream",
     "text": [
      "\t Loss: 58.610,\tTrain : 84.58%(84.58%),\tTest : 84.45%(84.58%),\tCurrent Time: 20250917-192156\n"
     ]
    },
    {
     "name": "stderr",
     "output_type": "stream",
     "text": [
      "Epoch 26/50:: 100%|\u001b[34m███████████████████\u001b[0m| 120/120 [00:02<00:00, 50.18batch/s, loss=0.483658]\u001b[0m\n"
     ]
    },
    {
     "name": "stdout",
     "output_type": "stream",
     "text": [
      "\t Loss: 58.039,\tTrain : 84.81%(84.81%),\tTest : 84.95%(84.95%),\tCurrent Time: 20250917-192158\n"
     ]
    },
    {
     "name": "stderr",
     "output_type": "stream",
     "text": [
      "Epoch 27/50:: 100%|\u001b[34m███████████████████\u001b[0m| 120/120 [00:02<00:00, 50.18batch/s, loss=0.477872]\u001b[0m\n"
     ]
    },
    {
     "name": "stdout",
     "output_type": "stream",
     "text": [
      "\t Loss: 57.345,\tTrain : 84.91%(84.91%),\tTest : 85.31%(85.31%),\tCurrent Time: 20250917-192200\n"
     ]
    },
    {
     "name": "stderr",
     "output_type": "stream",
     "text": [
      "Epoch 28/50:: 100%|\u001b[34m███████████████████\u001b[0m| 120/120 [00:02<00:00, 50.02batch/s, loss=0.473254]\u001b[0m\n"
     ]
    },
    {
     "name": "stdout",
     "output_type": "stream",
     "text": [
      "\t Loss: 56.791,\tTrain : 85.05%(85.05%),\tTest : 85.30%(85.31%),\tCurrent Time: 20250917-192203\n"
     ]
    },
    {
     "name": "stderr",
     "output_type": "stream",
     "text": [
      "Epoch 29/50:: 100%|\u001b[34m███████████████████\u001b[0m| 120/120 [00:02<00:00, 50.50batch/s, loss=0.467044]\u001b[0m\n"
     ]
    },
    {
     "name": "stdout",
     "output_type": "stream",
     "text": [
      "\t Loss: 56.045,\tTrain : 85.27%(85.27%),\tTest : 85.43%(85.43%),\tCurrent Time: 20250917-192205\n"
     ]
    },
    {
     "name": "stderr",
     "output_type": "stream",
     "text": [
      "Epoch 30/50:: 100%|\u001b[34m███████████████████\u001b[0m| 120/120 [00:02<00:00, 50.28batch/s, loss=0.459981]\u001b[0m\n"
     ]
    },
    {
     "name": "stdout",
     "output_type": "stream",
     "text": [
      "\t Loss: 55.198,\tTrain : 85.46%(85.46%),\tTest : 85.37%(85.43%),\tCurrent Time: 20250917-192208\n"
     ]
    },
    {
     "name": "stderr",
     "output_type": "stream",
     "text": [
      "Epoch 31/50:: 100%|\u001b[34m███████████████████\u001b[0m| 120/120 [00:02<00:00, 49.82batch/s, loss=0.457579]\u001b[0m\n"
     ]
    },
    {
     "name": "stdout",
     "output_type": "stream",
     "text": [
      "\t Loss: 54.909,\tTrain : 85.49%(85.49%),\tTest : 85.89%(85.89%),\tCurrent Time: 20250917-192210\n"
     ]
    },
    {
     "name": "stderr",
     "output_type": "stream",
     "text": [
      "Epoch 32/50:: 100%|\u001b[34m███████████████████\u001b[0m| 120/120 [00:02<00:00, 50.08batch/s, loss=0.447285]\u001b[0m\n"
     ]
    },
    {
     "name": "stdout",
     "output_type": "stream",
     "text": [
      "\t Loss: 53.674,\tTrain : 85.79%(85.79%),\tTest : 85.61%(85.89%),\tCurrent Time: 20250917-192213\n"
     ]
    },
    {
     "name": "stderr",
     "output_type": "stream",
     "text": [
      "Epoch 33/50:: 100%|\u001b[34m███████████████████\u001b[0m| 120/120 [00:02<00:00, 50.14batch/s, loss=0.442944]\u001b[0m\n"
     ]
    },
    {
     "name": "stdout",
     "output_type": "stream",
     "text": [
      "\t Loss: 53.153,\tTrain : 85.97%(85.97%),\tTest : 85.57%(85.89%),\tCurrent Time: 20250917-192215\n"
     ]
    },
    {
     "name": "stderr",
     "output_type": "stream",
     "text": [
      "Epoch 34/50:: 100%|\u001b[34m███████████████████\u001b[0m| 120/120 [00:02<00:00, 50.19batch/s, loss=0.440556]\u001b[0m\n"
     ]
    },
    {
     "name": "stdout",
     "output_type": "stream",
     "text": [
      "\t Loss: 52.867,\tTrain : 86.12%(86.12%),\tTest : 86.06%(86.06%),\tCurrent Time: 20250917-192218\n"
     ]
    },
    {
     "name": "stderr",
     "output_type": "stream",
     "text": [
      "Epoch 35/50:: 100%|\u001b[34m███████████████████\u001b[0m| 120/120 [00:02<00:00, 50.20batch/s, loss=0.436080]\u001b[0m\n"
     ]
    },
    {
     "name": "stdout",
     "output_type": "stream",
     "text": [
      "\t Loss: 52.330,\tTrain : 86.21%(86.21%),\tTest : 86.33%(86.33%),\tCurrent Time: 20250917-192220\n"
     ]
    },
    {
     "name": "stderr",
     "output_type": "stream",
     "text": [
      "Epoch 36/50:: 100%|\u001b[34m███████████████████\u001b[0m| 120/120 [00:02<00:00, 50.13batch/s, loss=0.428709]\u001b[0m\n"
     ]
    },
    {
     "name": "stdout",
     "output_type": "stream",
     "text": [
      "\t Loss: 51.445,\tTrain : 86.48%(86.48%),\tTest : 86.42%(86.42%),\tCurrent Time: 20250917-192223\n"
     ]
    },
    {
     "name": "stderr",
     "output_type": "stream",
     "text": [
      "Epoch 37/50:: 100%|\u001b[34m███████████████████\u001b[0m| 120/120 [00:02<00:00, 49.98batch/s, loss=0.425744]\u001b[0m\n"
     ]
    },
    {
     "name": "stdout",
     "output_type": "stream",
     "text": [
      "\t Loss: 51.089,\tTrain : 86.57%(86.57%),\tTest : 86.29%(86.42%),\tCurrent Time: 20250917-192225\n"
     ]
    },
    {
     "name": "stderr",
     "output_type": "stream",
     "text": [
      "Epoch 38/50:: 100%|\u001b[34m███████████████████\u001b[0m| 120/120 [00:02<00:00, 50.28batch/s, loss=0.421300]\u001b[0m\n"
     ]
    },
    {
     "name": "stdout",
     "output_type": "stream",
     "text": [
      "\t Loss: 50.556,\tTrain : 86.67%(86.67%),\tTest : 86.85%(86.85%),\tCurrent Time: 20250917-192228\n"
     ]
    },
    {
     "name": "stderr",
     "output_type": "stream",
     "text": [
      "Epoch 39/50:: 100%|\u001b[34m███████████████████\u001b[0m| 120/120 [00:02<00:00, 50.28batch/s, loss=0.415015]\u001b[0m\n"
     ]
    },
    {
     "name": "stdout",
     "output_type": "stream",
     "text": [
      "\t Loss: 49.802,\tTrain : 86.96%(86.96%),\tTest : 86.46%(86.85%),\tCurrent Time: 20250917-192230\n"
     ]
    },
    {
     "name": "stderr",
     "output_type": "stream",
     "text": [
      "Epoch 40/50:: 100%|\u001b[34m███████████████████\u001b[0m| 120/120 [00:02<00:00, 50.32batch/s, loss=0.409503]\u001b[0m\n"
     ]
    },
    {
     "name": "stdout",
     "output_type": "stream",
     "text": [
      "\t Loss: 49.140,\tTrain : 87.18%(87.18%),\tTest : 87.02%(87.02%),\tCurrent Time: 20250917-192233\n"
     ]
    },
    {
     "name": "stderr",
     "output_type": "stream",
     "text": [
      "Epoch 41/50:: 100%|\u001b[34m███████████████████\u001b[0m| 120/120 [00:02<00:00, 50.31batch/s, loss=0.404586]\u001b[0m\n"
     ]
    },
    {
     "name": "stdout",
     "output_type": "stream",
     "text": [
      "\t Loss: 48.550,\tTrain : 87.26%(87.26%),\tTest : 86.87%(87.02%),\tCurrent Time: 20250917-192235\n"
     ]
    },
    {
     "name": "stderr",
     "output_type": "stream",
     "text": [
      "Epoch 42/50:: 100%|\u001b[34m███████████████████\u001b[0m| 120/120 [00:02<00:00, 49.98batch/s, loss=0.401602]\u001b[0m\n"
     ]
    },
    {
     "name": "stdout",
     "output_type": "stream",
     "text": [
      "\t Loss: 48.192,\tTrain : 87.39%(87.39%),\tTest : 87.18%(87.18%),\tCurrent Time: 20250917-192238\n"
     ]
    },
    {
     "name": "stderr",
     "output_type": "stream",
     "text": [
      "Epoch 43/50:: 100%|\u001b[34m███████████████████\u001b[0m| 120/120 [00:02<00:00, 50.00batch/s, loss=0.396845]\u001b[0m\n"
     ]
    },
    {
     "name": "stdout",
     "output_type": "stream",
     "text": [
      "\t Loss: 47.621,\tTrain : 87.62%(87.62%),\tTest : 87.27%(87.27%),\tCurrent Time: 20250917-192240\n"
     ]
    },
    {
     "name": "stderr",
     "output_type": "stream",
     "text": [
      "Epoch 44/50:: 100%|\u001b[34m███████████████████\u001b[0m| 120/120 [00:02<00:00, 50.21batch/s, loss=0.392789]\u001b[0m\n"
     ]
    },
    {
     "name": "stdout",
     "output_type": "stream",
     "text": [
      "\t Loss: 47.135,\tTrain : 87.76%(87.76%),\tTest : 87.60%(87.60%),\tCurrent Time: 20250917-192243\n"
     ]
    },
    {
     "name": "stderr",
     "output_type": "stream",
     "text": [
      "Epoch 45/50:: 100%|\u001b[34m███████████████████\u001b[0m| 120/120 [00:02<00:00, 50.09batch/s, loss=0.388510]\u001b[0m\n"
     ]
    },
    {
     "name": "stdout",
     "output_type": "stream",
     "text": [
      "\t Loss: 46.621,\tTrain : 87.85%(87.85%),\tTest : 87.22%(87.60%),\tCurrent Time: 20250917-192245\n"
     ]
    },
    {
     "name": "stderr",
     "output_type": "stream",
     "text": [
      "Epoch 46/50:: 100%|\u001b[34m███████████████████\u001b[0m| 120/120 [00:02<00:00, 50.26batch/s, loss=0.387518]\u001b[0m\n"
     ]
    },
    {
     "name": "stdout",
     "output_type": "stream",
     "text": [
      "\t Loss: 46.502,\tTrain : 87.91%(87.91%),\tTest : 87.34%(87.60%),\tCurrent Time: 20250917-192248\n"
     ]
    },
    {
     "name": "stderr",
     "output_type": "stream",
     "text": [
      "Epoch 47/50:: 100%|\u001b[34m███████████████████\u001b[0m| 120/120 [00:02<00:00, 50.09batch/s, loss=0.384234]\u001b[0m\n"
     ]
    },
    {
     "name": "stdout",
     "output_type": "stream",
     "text": [
      "\t Loss: 46.108,\tTrain : 88.04%(88.04%),\tTest : 87.44%(87.60%),\tCurrent Time: 20250917-192250\n"
     ]
    },
    {
     "name": "stderr",
     "output_type": "stream",
     "text": [
      "Epoch 48/50:: 100%|\u001b[34m███████████████████\u001b[0m| 120/120 [00:02<00:00, 50.07batch/s, loss=0.380172]\u001b[0m\n"
     ]
    },
    {
     "name": "stdout",
     "output_type": "stream",
     "text": [
      "\t Loss: 45.621,\tTrain : 88.07%(88.07%),\tTest : 87.31%(87.60%),\tCurrent Time: 20250917-192252\n"
     ]
    },
    {
     "name": "stderr",
     "output_type": "stream",
     "text": [
      "Epoch 49/50:: 100%|\u001b[34m███████████████████\u001b[0m| 120/120 [00:02<00:00, 50.03batch/s, loss=0.377639]\u001b[0m\n"
     ]
    },
    {
     "name": "stdout",
     "output_type": "stream",
     "text": [
      "\t Loss: 45.317,\tTrain : 88.17%(88.17%),\tTest : 87.54%(87.60%),\tCurrent Time: 20250917-192255\n"
     ]
    },
    {
     "name": "stderr",
     "output_type": "stream",
     "text": [
      "Epoch 50/50:: 100%|\u001b[34m███████████████████\u001b[0m| 120/120 [00:02<00:00, 50.04batch/s, loss=0.374965]\u001b[0m\n"
     ]
    },
    {
     "name": "stdout",
     "output_type": "stream",
     "text": [
      "\t Loss: 44.996,\tTrain : 88.27%(88.27%),\tTest : 87.39%(87.60%),\tCurrent Time: 20250917-192257\n",
      "First_asymm_AG_N-HL_resP-EP_L10-P0.02-MNIST_EP_b_sc0.1- Time: 20250917-192257, Epochs: 50, Learning Rate: 0.0005, Best: 88.27%  87.60%\n",
      "\n",
      "[[0 1 0 0 0 0 0 0 0 0 0 0]\n",
      " [0 0 1 0 0 0 0 0 0 0 0 0]\n",
      " [0 1 0 1 0 0 0 0 0 0 0 0]\n",
      " [0 1 1 0 1 0 0 0 0 0 0 0]\n",
      " [0 0 0 1 0 1 0 0 0 0 0 0]\n",
      " [0 0 0 0 1 0 1 0 0 0 0 0]\n",
      " [0 0 0 0 0 1 0 1 0 0 0 0]\n",
      " [0 0 0 0 0 0 1 0 1 0 0 0]\n",
      " [0 0 0 0 0 0 0 1 0 1 0 0]\n",
      " [0 0 0 0 0 0 0 0 1 0 1 0]\n",
      " [0 0 0 0 0 0 0 0 0 1 0 1]\n",
      " [0 0 0 0 0 0 0 0 0 0 1 0]]\n",
      "First_asymm_AG_N-HL_resP-EP_L10-P0.02-MNIST_EP_b_sc0.1-\n"
     ]
    },
    {
     "name": "stderr",
     "output_type": "stream",
     "text": [
      "Epoch 1/50:: 100%|\u001b[34m████████████████████\u001b[0m| 120/120 [00:02<00:00, 46.14batch/s, loss=2.226015]\u001b[0m\n"
     ]
    },
    {
     "name": "stdout",
     "output_type": "stream",
     "text": [
      "\t Loss: 267.122,\tTrain : 17.52%(17.52%),\tTest : 32.22%(32.22%),\tCurrent Time: 20250917-192304\n"
     ]
    },
    {
     "name": "stderr",
     "output_type": "stream",
     "text": [
      "Epoch 2/50:: 100%|\u001b[34m████████████████████\u001b[0m| 120/120 [00:02<00:00, 50.07batch/s, loss=1.773376]\u001b[0m\n"
     ]
    },
    {
     "name": "stdout",
     "output_type": "stream",
     "text": [
      "\t Loss: 212.805,\tTrain : 43.63%(43.63%),\tTest : 52.50%(52.50%),\tCurrent Time: 20250917-192307\n"
     ]
    },
    {
     "name": "stderr",
     "output_type": "stream",
     "text": [
      "Epoch 3/50:: 100%|\u001b[34m████████████████████\u001b[0m| 120/120 [00:02<00:00, 50.00batch/s, loss=1.353169]\u001b[0m\n"
     ]
    },
    {
     "name": "stdout",
     "output_type": "stream",
     "text": [
      "\t Loss: 162.380,\tTrain : 59.68%(59.68%),\tTest : 66.19%(66.19%),\tCurrent Time: 20250917-192309\n"
     ]
    },
    {
     "name": "stderr",
     "output_type": "stream",
     "text": [
      "Epoch 4/50:: 100%|\u001b[34m████████████████████\u001b[0m| 120/120 [00:02<00:00, 50.08batch/s, loss=1.103804]\u001b[0m\n"
     ]
    },
    {
     "name": "stdout",
     "output_type": "stream",
     "text": [
      "\t Loss: 132.456,\tTrain : 67.89%(67.89%),\tTest : 70.35%(70.35%),\tCurrent Time: 20250917-192312\n"
     ]
    },
    {
     "name": "stderr",
     "output_type": "stream",
     "text": [
      "Epoch 5/50:: 100%|\u001b[34m████████████████████\u001b[0m| 120/120 [00:02<00:00, 49.96batch/s, loss=0.971253]\u001b[0m\n"
     ]
    },
    {
     "name": "stdout",
     "output_type": "stream",
     "text": [
      "\t Loss: 116.550,\tTrain : 71.13%(71.13%),\tTest : 72.86%(72.86%),\tCurrent Time: 20250917-192314\n"
     ]
    },
    {
     "name": "stderr",
     "output_type": "stream",
     "text": [
      "Epoch 6/50:: 100%|\u001b[34m████████████████████\u001b[0m| 120/120 [00:02<00:00, 50.10batch/s, loss=0.886984]\u001b[0m\n"
     ]
    },
    {
     "name": "stdout",
     "output_type": "stream",
     "text": [
      "\t Loss: 106.438,\tTrain : 73.22%(73.22%),\tTest : 75.70%(75.70%),\tCurrent Time: 20250917-192317\n"
     ]
    },
    {
     "name": "stderr",
     "output_type": "stream",
     "text": [
      "Epoch 7/50:: 100%|\u001b[34m████████████████████\u001b[0m| 120/120 [00:02<00:00, 50.32batch/s, loss=0.816774]\u001b[0m\n"
     ]
    },
    {
     "name": "stdout",
     "output_type": "stream",
     "text": [
      "\t Loss: 98.013,\tTrain : 75.01%(75.01%),\tTest : 77.00%(77.00%),\tCurrent Time: 20250917-192319\n"
     ]
    },
    {
     "name": "stderr",
     "output_type": "stream",
     "text": [
      "Epoch 8/50:: 100%|\u001b[34m████████████████████\u001b[0m| 120/120 [00:02<00:00, 50.29batch/s, loss=0.758893]\u001b[0m\n"
     ]
    },
    {
     "name": "stdout",
     "output_type": "stream",
     "text": [
      "\t Loss: 91.067,\tTrain : 76.70%(76.70%),\tTest : 78.82%(78.82%),\tCurrent Time: 20250917-192322\n"
     ]
    },
    {
     "name": "stderr",
     "output_type": "stream",
     "text": [
      "Epoch 9/50:: 100%|\u001b[34m████████████████████\u001b[0m| 120/120 [00:02<00:00, 50.29batch/s, loss=0.716037]\u001b[0m\n"
     ]
    },
    {
     "name": "stdout",
     "output_type": "stream",
     "text": [
      "\t Loss: 85.924,\tTrain : 77.94%(77.94%),\tTest : 79.87%(79.87%),\tCurrent Time: 20250917-192324\n"
     ]
    },
    {
     "name": "stderr",
     "output_type": "stream",
     "text": [
      "Epoch 10/50:: 100%|\u001b[34m███████████████████\u001b[0m| 120/120 [00:02<00:00, 50.29batch/s, loss=0.685165]\u001b[0m\n"
     ]
    },
    {
     "name": "stdout",
     "output_type": "stream",
     "text": [
      "\t Loss: 82.220,\tTrain : 78.99%(78.99%),\tTest : 80.92%(80.92%),\tCurrent Time: 20250917-192327\n"
     ]
    },
    {
     "name": "stderr",
     "output_type": "stream",
     "text": [
      "Epoch 11/50:: 100%|\u001b[34m███████████████████\u001b[0m| 120/120 [00:02<00:00, 50.23batch/s, loss=0.658513]\u001b[0m\n"
     ]
    },
    {
     "name": "stdout",
     "output_type": "stream",
     "text": [
      "\t Loss: 79.022,\tTrain : 79.85%(79.85%),\tTest : 81.62%(81.62%),\tCurrent Time: 20250917-192329\n"
     ]
    },
    {
     "name": "stderr",
     "output_type": "stream",
     "text": [
      "Epoch 12/50:: 100%|\u001b[34m███████████████████\u001b[0m| 120/120 [00:02<00:00, 50.06batch/s, loss=0.635581]\u001b[0m\n"
     ]
    },
    {
     "name": "stdout",
     "output_type": "stream",
     "text": [
      "\t Loss: 76.270,\tTrain : 80.55%(80.55%),\tTest : 81.71%(81.71%),\tCurrent Time: 20250917-192332\n"
     ]
    },
    {
     "name": "stderr",
     "output_type": "stream",
     "text": [
      "Epoch 13/50:: 100%|\u001b[34m███████████████████\u001b[0m| 120/120 [00:02<00:00, 50.24batch/s, loss=0.617402]\u001b[0m\n"
     ]
    },
    {
     "name": "stdout",
     "output_type": "stream",
     "text": [
      "\t Loss: 74.088,\tTrain : 81.06%(81.06%),\tTest : 82.46%(82.46%),\tCurrent Time: 20250917-192334\n"
     ]
    },
    {
     "name": "stderr",
     "output_type": "stream",
     "text": [
      "Epoch 14/50:: 100%|\u001b[34m███████████████████\u001b[0m| 120/120 [00:02<00:00, 50.01batch/s, loss=0.598180]\u001b[0m\n"
     ]
    },
    {
     "name": "stdout",
     "output_type": "stream",
     "text": [
      "\t Loss: 71.782,\tTrain : 81.62%(81.62%),\tTest : 82.59%(82.59%),\tCurrent Time: 20250917-192337\n"
     ]
    },
    {
     "name": "stderr",
     "output_type": "stream",
     "text": [
      "Epoch 15/50:: 100%|\u001b[34m███████████████████\u001b[0m| 120/120 [00:02<00:00, 50.22batch/s, loss=0.581431]\u001b[0m\n"
     ]
    },
    {
     "name": "stdout",
     "output_type": "stream",
     "text": [
      "\t Loss: 69.772,\tTrain : 82.06%(82.06%),\tTest : 83.24%(83.24%),\tCurrent Time: 20250917-192339\n"
     ]
    },
    {
     "name": "stderr",
     "output_type": "stream",
     "text": [
      "Epoch 16/50:: 100%|\u001b[34m███████████████████\u001b[0m| 120/120 [00:02<00:00, 50.18batch/s, loss=0.566970]\u001b[0m\n"
     ]
    },
    {
     "name": "stdout",
     "output_type": "stream",
     "text": [
      "\t Loss: 68.036,\tTrain : 82.46%(82.46%),\tTest : 83.63%(83.63%),\tCurrent Time: 20250917-192342\n"
     ]
    },
    {
     "name": "stderr",
     "output_type": "stream",
     "text": [
      "Epoch 17/50:: 100%|\u001b[34m███████████████████\u001b[0m| 120/120 [00:02<00:00, 50.41batch/s, loss=0.552221]\u001b[0m\n"
     ]
    },
    {
     "name": "stdout",
     "output_type": "stream",
     "text": [
      "\t Loss: 66.266,\tTrain : 82.95%(82.95%),\tTest : 83.85%(83.85%),\tCurrent Time: 20250917-192344\n"
     ]
    },
    {
     "name": "stderr",
     "output_type": "stream",
     "text": [
      "Epoch 18/50:: 100%|\u001b[34m███████████████████\u001b[0m| 120/120 [00:02<00:00, 50.10batch/s, loss=0.539970]\u001b[0m\n"
     ]
    },
    {
     "name": "stdout",
     "output_type": "stream",
     "text": [
      "\t Loss: 64.796,\tTrain : 83.32%(83.32%),\tTest : 84.62%(84.62%),\tCurrent Time: 20250917-192347\n"
     ]
    },
    {
     "name": "stderr",
     "output_type": "stream",
     "text": [
      "Epoch 19/50:: 100%|\u001b[34m███████████████████\u001b[0m| 120/120 [00:02<00:00, 50.45batch/s, loss=0.528646]\u001b[0m\n"
     ]
    },
    {
     "name": "stdout",
     "output_type": "stream",
     "text": [
      "\t Loss: 63.438,\tTrain : 83.57%(83.57%),\tTest : 84.86%(84.86%),\tCurrent Time: 20250917-192349\n"
     ]
    },
    {
     "name": "stderr",
     "output_type": "stream",
     "text": [
      "Epoch 20/50:: 100%|\u001b[34m███████████████████\u001b[0m| 120/120 [00:02<00:00, 50.00batch/s, loss=0.517548]\u001b[0m\n"
     ]
    },
    {
     "name": "stdout",
     "output_type": "stream",
     "text": [
      "\t Loss: 62.106,\tTrain : 83.89%(83.89%),\tTest : 85.01%(85.01%),\tCurrent Time: 20250917-192351\n"
     ]
    },
    {
     "name": "stderr",
     "output_type": "stream",
     "text": [
      "Epoch 21/50:: 100%|\u001b[34m███████████████████\u001b[0m| 120/120 [00:02<00:00, 49.68batch/s, loss=0.509134]\u001b[0m\n"
     ]
    },
    {
     "name": "stdout",
     "output_type": "stream",
     "text": [
      "\t Loss: 61.096,\tTrain : 84.30%(84.30%),\tTest : 85.54%(85.54%),\tCurrent Time: 20250917-192354\n"
     ]
    },
    {
     "name": "stderr",
     "output_type": "stream",
     "text": [
      "Epoch 22/50:: 100%|\u001b[34m███████████████████\u001b[0m| 120/120 [00:02<00:00, 50.01batch/s, loss=0.497505]\u001b[0m\n"
     ]
    },
    {
     "name": "stdout",
     "output_type": "stream",
     "text": [
      "\t Loss: 59.701,\tTrain : 84.56%(84.56%),\tTest : 85.47%(85.54%),\tCurrent Time: 20250917-192356\n"
     ]
    },
    {
     "name": "stderr",
     "output_type": "stream",
     "text": [
      "Epoch 23/50:: 100%|\u001b[34m███████████████████\u001b[0m| 120/120 [00:02<00:00, 50.23batch/s, loss=0.489902]\u001b[0m\n"
     ]
    },
    {
     "name": "stdout",
     "output_type": "stream",
     "text": [
      "\t Loss: 58.788,\tTrain : 84.84%(84.84%),\tTest : 85.62%(85.62%),\tCurrent Time: 20250917-192359\n"
     ]
    },
    {
     "name": "stderr",
     "output_type": "stream",
     "text": [
      "Epoch 24/50:: 100%|\u001b[34m███████████████████\u001b[0m| 120/120 [00:02<00:00, 50.24batch/s, loss=0.481958]\u001b[0m\n"
     ]
    },
    {
     "name": "stdout",
     "output_type": "stream",
     "text": [
      "\t Loss: 57.835,\tTrain : 85.07%(85.07%),\tTest : 85.79%(85.79%),\tCurrent Time: 20250917-192401\n"
     ]
    },
    {
     "name": "stderr",
     "output_type": "stream",
     "text": [
      "Epoch 25/50:: 100%|\u001b[34m███████████████████\u001b[0m| 120/120 [00:02<00:00, 50.30batch/s, loss=0.475703]\u001b[0m\n"
     ]
    },
    {
     "name": "stdout",
     "output_type": "stream",
     "text": [
      "\t Loss: 57.084,\tTrain : 85.22%(85.22%),\tTest : 85.77%(85.79%),\tCurrent Time: 20250917-192404\n"
     ]
    },
    {
     "name": "stderr",
     "output_type": "stream",
     "text": [
      "Epoch 26/50:: 100%|\u001b[34m███████████████████\u001b[0m| 120/120 [00:02<00:00, 50.04batch/s, loss=0.467582]\u001b[0m\n"
     ]
    },
    {
     "name": "stdout",
     "output_type": "stream",
     "text": [
      "\t Loss: 56.110,\tTrain : 85.50%(85.50%),\tTest : 86.21%(86.21%),\tCurrent Time: 20250917-192406\n"
     ]
    },
    {
     "name": "stderr",
     "output_type": "stream",
     "text": [
      "Epoch 27/50:: 100%|\u001b[34m███████████████████\u001b[0m| 120/120 [00:02<00:00, 50.21batch/s, loss=0.461242]\u001b[0m\n"
     ]
    },
    {
     "name": "stdout",
     "output_type": "stream",
     "text": [
      "\t Loss: 55.349,\tTrain : 85.63%(85.63%),\tTest : 86.27%(86.27%),\tCurrent Time: 20250917-192409\n"
     ]
    },
    {
     "name": "stderr",
     "output_type": "stream",
     "text": [
      "Epoch 28/50:: 100%|\u001b[34m███████████████████\u001b[0m| 120/120 [00:02<00:00, 50.05batch/s, loss=0.452912]\u001b[0m\n"
     ]
    },
    {
     "name": "stdout",
     "output_type": "stream",
     "text": [
      "\t Loss: 54.349,\tTrain : 85.82%(85.82%),\tTest : 86.33%(86.33%),\tCurrent Time: 20250917-192411\n"
     ]
    },
    {
     "name": "stderr",
     "output_type": "stream",
     "text": [
      "Epoch 29/50:: 100%|\u001b[34m███████████████████\u001b[0m| 120/120 [00:02<00:00, 50.04batch/s, loss=0.447261]\u001b[0m\n"
     ]
    },
    {
     "name": "stdout",
     "output_type": "stream",
     "text": [
      "\t Loss: 53.671,\tTrain : 86.08%(86.08%),\tTest : 86.64%(86.64%),\tCurrent Time: 20250917-192414\n"
     ]
    },
    {
     "name": "stderr",
     "output_type": "stream",
     "text": [
      "Epoch 30/50:: 100%|\u001b[34m███████████████████\u001b[0m| 120/120 [00:02<00:00, 50.28batch/s, loss=0.443350]\u001b[0m\n"
     ]
    },
    {
     "name": "stdout",
     "output_type": "stream",
     "text": [
      "\t Loss: 53.202,\tTrain : 86.30%(86.30%),\tTest : 86.59%(86.64%),\tCurrent Time: 20250917-192416\n"
     ]
    },
    {
     "name": "stderr",
     "output_type": "stream",
     "text": [
      "Epoch 31/50:: 100%|\u001b[34m███████████████████\u001b[0m| 120/120 [00:02<00:00, 50.29batch/s, loss=0.437018]\u001b[0m\n"
     ]
    },
    {
     "name": "stdout",
     "output_type": "stream",
     "text": [
      "\t Loss: 52.442,\tTrain : 86.41%(86.41%),\tTest : 86.96%(86.96%),\tCurrent Time: 20250917-192419\n"
     ]
    },
    {
     "name": "stderr",
     "output_type": "stream",
     "text": [
      "Epoch 32/50:: 100%|\u001b[34m███████████████████\u001b[0m| 120/120 [00:02<00:00, 50.12batch/s, loss=0.429709]\u001b[0m\n"
     ]
    },
    {
     "name": "stdout",
     "output_type": "stream",
     "text": [
      "\t Loss: 51.565,\tTrain : 86.48%(86.48%),\tTest : 86.78%(86.96%),\tCurrent Time: 20250917-192421\n"
     ]
    },
    {
     "name": "stderr",
     "output_type": "stream",
     "text": [
      "Epoch 33/50:: 100%|\u001b[34m███████████████████\u001b[0m| 120/120 [00:02<00:00, 50.05batch/s, loss=0.423977]\u001b[0m\n"
     ]
    },
    {
     "name": "stdout",
     "output_type": "stream",
     "text": [
      "\t Loss: 50.877,\tTrain : 86.80%(86.80%),\tTest : 87.22%(87.22%),\tCurrent Time: 20250917-192424\n"
     ]
    },
    {
     "name": "stderr",
     "output_type": "stream",
     "text": [
      "Epoch 34/50:: 100%|\u001b[34m███████████████████\u001b[0m| 120/120 [00:02<00:00, 50.18batch/s, loss=0.418627]\u001b[0m\n"
     ]
    },
    {
     "name": "stdout",
     "output_type": "stream",
     "text": [
      "\t Loss: 50.235,\tTrain : 86.92%(86.92%),\tTest : 87.22%(87.22%),\tCurrent Time: 20250917-192426\n"
     ]
    },
    {
     "name": "stderr",
     "output_type": "stream",
     "text": [
      "Epoch 35/50:: 100%|\u001b[34m███████████████████\u001b[0m| 120/120 [00:02<00:00, 50.22batch/s, loss=0.412996]\u001b[0m\n"
     ]
    },
    {
     "name": "stdout",
     "output_type": "stream",
     "text": [
      "\t Loss: 49.560,\tTrain : 87.06%(87.06%),\tTest : 87.41%(87.41%),\tCurrent Time: 20250917-192429\n"
     ]
    },
    {
     "name": "stderr",
     "output_type": "stream",
     "text": [
      "Epoch 36/50:: 100%|\u001b[34m███████████████████\u001b[0m| 120/120 [00:02<00:00, 50.15batch/s, loss=0.409201]\u001b[0m\n"
     ]
    },
    {
     "name": "stdout",
     "output_type": "stream",
     "text": [
      "\t Loss: 49.104,\tTrain : 87.32%(87.32%),\tTest : 87.57%(87.57%),\tCurrent Time: 20250917-192431\n"
     ]
    },
    {
     "name": "stderr",
     "output_type": "stream",
     "text": [
      "Epoch 37/50:: 100%|\u001b[34m███████████████████\u001b[0m| 120/120 [00:02<00:00, 50.28batch/s, loss=0.400401]\u001b[0m\n"
     ]
    },
    {
     "name": "stdout",
     "output_type": "stream",
     "text": [
      "\t Loss: 48.048,\tTrain : 87.50%(87.50%),\tTest : 87.85%(87.85%),\tCurrent Time: 20250917-192434\n"
     ]
    },
    {
     "name": "stderr",
     "output_type": "stream",
     "text": [
      "Epoch 38/50:: 100%|\u001b[34m███████████████████\u001b[0m| 120/120 [00:02<00:00, 50.33batch/s, loss=0.396607]\u001b[0m\n"
     ]
    },
    {
     "name": "stdout",
     "output_type": "stream",
     "text": [
      "\t Loss: 47.593,\tTrain : 87.61%(87.61%),\tTest : 88.04%(88.04%),\tCurrent Time: 20250917-192436\n"
     ]
    },
    {
     "name": "stderr",
     "output_type": "stream",
     "text": [
      "Epoch 39/50:: 100%|\u001b[34m███████████████████\u001b[0m| 120/120 [00:02<00:00, 50.07batch/s, loss=0.391337]\u001b[0m\n"
     ]
    },
    {
     "name": "stdout",
     "output_type": "stream",
     "text": [
      "\t Loss: 46.960,\tTrain : 87.88%(87.88%),\tTest : 88.18%(88.18%),\tCurrent Time: 20250917-192439\n"
     ]
    },
    {
     "name": "stderr",
     "output_type": "stream",
     "text": [
      "Epoch 40/50:: 100%|\u001b[34m███████████████████\u001b[0m| 120/120 [00:02<00:00, 50.30batch/s, loss=0.386451]\u001b[0m\n"
     ]
    },
    {
     "name": "stdout",
     "output_type": "stream",
     "text": [
      "\t Loss: 46.374,\tTrain : 88.06%(88.06%),\tTest : 87.98%(88.18%),\tCurrent Time: 20250917-192441\n"
     ]
    },
    {
     "name": "stderr",
     "output_type": "stream",
     "text": [
      "Epoch 41/50:: 100%|\u001b[34m███████████████████\u001b[0m| 120/120 [00:02<00:00, 50.04batch/s, loss=0.381320]\u001b[0m\n"
     ]
    },
    {
     "name": "stdout",
     "output_type": "stream",
     "text": [
      "\t Loss: 45.758,\tTrain : 88.21%(88.21%),\tTest : 88.19%(88.19%),\tCurrent Time: 20250917-192443\n"
     ]
    },
    {
     "name": "stderr",
     "output_type": "stream",
     "text": [
      "Epoch 42/50:: 100%|\u001b[34m███████████████████\u001b[0m| 120/120 [00:02<00:00, 49.77batch/s, loss=0.377573]\u001b[0m\n"
     ]
    },
    {
     "name": "stdout",
     "output_type": "stream",
     "text": [
      "\t Loss: 45.309,\tTrain : 88.26%(88.26%),\tTest : 88.38%(88.38%),\tCurrent Time: 20250917-192446\n"
     ]
    },
    {
     "name": "stderr",
     "output_type": "stream",
     "text": [
      "Epoch 43/50:: 100%|\u001b[34m███████████████████\u001b[0m| 120/120 [00:02<00:00, 49.94batch/s, loss=0.372840]\u001b[0m\n"
     ]
    },
    {
     "name": "stdout",
     "output_type": "stream",
     "text": [
      "\t Loss: 44.741,\tTrain : 88.37%(88.37%),\tTest : 88.13%(88.38%),\tCurrent Time: 20250917-192448\n"
     ]
    },
    {
     "name": "stderr",
     "output_type": "stream",
     "text": [
      "Epoch 44/50:: 100%|\u001b[34m███████████████████\u001b[0m| 120/120 [00:02<00:00, 50.41batch/s, loss=0.369495]\u001b[0m\n"
     ]
    },
    {
     "name": "stdout",
     "output_type": "stream",
     "text": [
      "\t Loss: 44.339,\tTrain : 88.56%(88.56%),\tTest : 88.69%(88.69%),\tCurrent Time: 20250917-192451\n"
     ]
    },
    {
     "name": "stderr",
     "output_type": "stream",
     "text": [
      "Epoch 45/50:: 100%|\u001b[34m███████████████████\u001b[0m| 120/120 [00:02<00:00, 50.07batch/s, loss=0.367067]\u001b[0m\n"
     ]
    },
    {
     "name": "stdout",
     "output_type": "stream",
     "text": [
      "\t Loss: 44.048,\tTrain : 88.64%(88.64%),\tTest : 88.57%(88.69%),\tCurrent Time: 20250917-192453\n"
     ]
    },
    {
     "name": "stderr",
     "output_type": "stream",
     "text": [
      "Epoch 46/50:: 100%|\u001b[34m███████████████████\u001b[0m| 120/120 [00:02<00:00, 50.23batch/s, loss=0.362586]\u001b[0m\n"
     ]
    },
    {
     "name": "stdout",
     "output_type": "stream",
     "text": [
      "\t Loss: 43.510,\tTrain : 88.79%(88.79%),\tTest : 88.63%(88.69%),\tCurrent Time: 20250917-192456\n"
     ]
    },
    {
     "name": "stderr",
     "output_type": "stream",
     "text": [
      "Epoch 47/50:: 100%|\u001b[34m███████████████████\u001b[0m| 120/120 [00:02<00:00, 50.08batch/s, loss=0.358585]\u001b[0m\n"
     ]
    },
    {
     "name": "stdout",
     "output_type": "stream",
     "text": [
      "\t Loss: 43.030,\tTrain : 88.92%(88.92%),\tTest : 88.85%(88.85%),\tCurrent Time: 20250917-192458\n"
     ]
    },
    {
     "name": "stderr",
     "output_type": "stream",
     "text": [
      "Epoch 48/50:: 100%|\u001b[34m███████████████████\u001b[0m| 120/120 [00:02<00:00, 50.02batch/s, loss=0.354095]\u001b[0m\n"
     ]
    },
    {
     "name": "stdout",
     "output_type": "stream",
     "text": [
      "\t Loss: 42.491,\tTrain : 89.05%(89.05%),\tTest : 88.97%(88.97%),\tCurrent Time: 20250917-192501\n"
     ]
    },
    {
     "name": "stderr",
     "output_type": "stream",
     "text": [
      "Epoch 49/50:: 100%|\u001b[34m███████████████████\u001b[0m| 120/120 [00:02<00:00, 50.04batch/s, loss=0.351403]\u001b[0m\n"
     ]
    },
    {
     "name": "stdout",
     "output_type": "stream",
     "text": [
      "\t Loss: 42.168,\tTrain : 89.12%(89.12%),\tTest : 88.96%(88.97%),\tCurrent Time: 20250917-192503\n"
     ]
    },
    {
     "name": "stderr",
     "output_type": "stream",
     "text": [
      "Epoch 50/50:: 100%|\u001b[34m███████████████████\u001b[0m| 120/120 [00:02<00:00, 50.02batch/s, loss=0.347531]\u001b[0m\n"
     ]
    },
    {
     "name": "stdout",
     "output_type": "stream",
     "text": [
      "\t Loss: 41.704,\tTrain : 89.19%(89.19%),\tTest : 89.22%(89.22%),\tCurrent Time: 20250917-192506\n",
      "First_asymm_AG_N-HL_resP-EP_L10-P0.02-MNIST_EP_b_sc0.1- Time: 20250917-192506, Epochs: 50, Learning Rate: 0.0005, Best: 89.19%  89.22%\n",
      "\n",
      "[[0 1 0 0 0 0 0 0 0 0 0 0]\n",
      " [0 0 1 0 0 0 0 0 0 0 0 0]\n",
      " [0 1 0 1 0 0 1 0 0 0 0 0]\n",
      " [0 0 1 0 1 0 0 0 0 0 0 0]\n",
      " [0 0 0 1 0 1 0 0 0 0 0 0]\n",
      " [0 0 0 0 1 0 1 0 0 0 0 0]\n",
      " [0 0 1 0 0 1 0 1 0 0 1 0]\n",
      " [0 0 0 0 0 0 1 0 1 0 1 0]\n",
      " [0 0 0 0 0 0 0 1 0 1 0 0]\n",
      " [0 0 1 0 0 0 0 0 1 0 1 0]\n",
      " [0 0 0 1 0 0 1 0 0 1 0 1]\n",
      " [0 0 0 0 0 0 0 0 0 0 1 0]]\n",
      "First_asymm_AG_N-HL_resP-EP_L10-P0.1-MNIST_EP_b_sc0.1-\n"
     ]
    },
    {
     "name": "stderr",
     "output_type": "stream",
     "text": [
      "Epoch 1/50:: 100%|\u001b[34m████████████████████\u001b[0m| 120/120 [00:02<00:00, 46.45batch/s, loss=2.101291]\u001b[0m\n"
     ]
    },
    {
     "name": "stdout",
     "output_type": "stream",
     "text": [
      "\t Loss: 252.155,\tTrain : 25.33%(25.33%),\tTest : 52.65%(52.65%),\tCurrent Time: 20250917-192513\n"
     ]
    },
    {
     "name": "stderr",
     "output_type": "stream",
     "text": [
      "Epoch 2/50:: 100%|\u001b[34m████████████████████\u001b[0m| 120/120 [00:02<00:00, 49.10batch/s, loss=1.297551]\u001b[0m\n"
     ]
    },
    {
     "name": "stdout",
     "output_type": "stream",
     "text": [
      "\t Loss: 155.706,\tTrain : 65.08%(65.08%),\tTest : 78.41%(78.41%),\tCurrent Time: 20250917-192515\n"
     ]
    },
    {
     "name": "stderr",
     "output_type": "stream",
     "text": [
      "Epoch 3/50:: 100%|\u001b[34m████████████████████\u001b[0m| 120/120 [00:02<00:00, 48.83batch/s, loss=0.758416]\u001b[0m\n"
     ]
    },
    {
     "name": "stdout",
     "output_type": "stream",
     "text": [
      "\t Loss: 91.010,\tTrain : 82.88%(82.88%),\tTest : 87.23%(87.23%),\tCurrent Time: 20250917-192518\n"
     ]
    },
    {
     "name": "stderr",
     "output_type": "stream",
     "text": [
      "Epoch 4/50:: 100%|\u001b[34m████████████████████\u001b[0m| 120/120 [00:02<00:00, 48.85batch/s, loss=0.471440]\u001b[0m\n"
     ]
    },
    {
     "name": "stdout",
     "output_type": "stream",
     "text": [
      "\t Loss: 56.573,\tTrain : 88.17%(88.17%),\tTest : 89.47%(89.47%),\tCurrent Time: 20250917-192520\n"
     ]
    },
    {
     "name": "stderr",
     "output_type": "stream",
     "text": [
      "Epoch 5/50:: 100%|\u001b[34m████████████████████\u001b[0m| 120/120 [00:02<00:00, 48.61batch/s, loss=0.375025]\u001b[0m\n"
     ]
    },
    {
     "name": "stdout",
     "output_type": "stream",
     "text": [
      "\t Loss: 45.003,\tTrain : 90.04%(90.04%),\tTest : 90.91%(90.91%),\tCurrent Time: 20250917-192523\n"
     ]
    },
    {
     "name": "stderr",
     "output_type": "stream",
     "text": [
      "Epoch 6/50:: 100%|\u001b[34m████████████████████\u001b[0m| 120/120 [00:02<00:00, 48.86batch/s, loss=0.324869]\u001b[0m\n"
     ]
    },
    {
     "name": "stdout",
     "output_type": "stream",
     "text": [
      "\t Loss: 38.984,\tTrain : 91.13%(91.13%),\tTest : 91.99%(91.99%),\tCurrent Time: 20250917-192525\n"
     ]
    },
    {
     "name": "stderr",
     "output_type": "stream",
     "text": [
      "Epoch 7/50:: 100%|\u001b[34m████████████████████\u001b[0m| 120/120 [00:02<00:00, 49.15batch/s, loss=0.289636]\u001b[0m\n"
     ]
    },
    {
     "name": "stdout",
     "output_type": "stream",
     "text": [
      "\t Loss: 34.756,\tTrain : 91.94%(91.94%),\tTest : 92.52%(92.52%),\tCurrent Time: 20250917-192528\n"
     ]
    },
    {
     "name": "stderr",
     "output_type": "stream",
     "text": [
      "Epoch 8/50:: 100%|\u001b[34m████████████████████\u001b[0m| 120/120 [00:02<00:00, 49.10batch/s, loss=0.264574]\u001b[0m\n"
     ]
    },
    {
     "name": "stdout",
     "output_type": "stream",
     "text": [
      "\t Loss: 31.749,\tTrain : 92.59%(92.59%),\tTest : 93.06%(93.06%),\tCurrent Time: 20250917-192530\n"
     ]
    },
    {
     "name": "stderr",
     "output_type": "stream",
     "text": [
      "Epoch 9/50:: 100%|\u001b[34m████████████████████\u001b[0m| 120/120 [00:02<00:00, 49.01batch/s, loss=0.243977]\u001b[0m\n"
     ]
    },
    {
     "name": "stdout",
     "output_type": "stream",
     "text": [
      "\t Loss: 29.277,\tTrain : 93.21%(93.21%),\tTest : 93.43%(93.43%),\tCurrent Time: 20250917-192533\n"
     ]
    },
    {
     "name": "stderr",
     "output_type": "stream",
     "text": [
      "Epoch 10/50:: 100%|\u001b[34m███████████████████\u001b[0m| 120/120 [00:02<00:00, 48.93batch/s, loss=0.224021]\u001b[0m\n"
     ]
    },
    {
     "name": "stdout",
     "output_type": "stream",
     "text": [
      "\t Loss: 26.883,\tTrain : 93.74%(93.74%),\tTest : 93.81%(93.81%),\tCurrent Time: 20250917-192536\n"
     ]
    },
    {
     "name": "stderr",
     "output_type": "stream",
     "text": [
      "Epoch 11/50:: 100%|\u001b[34m███████████████████\u001b[0m| 120/120 [00:02<00:00, 49.01batch/s, loss=0.208651]\u001b[0m\n"
     ]
    },
    {
     "name": "stdout",
     "output_type": "stream",
     "text": [
      "\t Loss: 25.038,\tTrain : 94.16%(94.16%),\tTest : 94.12%(94.12%),\tCurrent Time: 20250917-192538\n"
     ]
    },
    {
     "name": "stderr",
     "output_type": "stream",
     "text": [
      "Epoch 12/50:: 100%|\u001b[34m███████████████████\u001b[0m| 120/120 [00:02<00:00, 48.68batch/s, loss=0.197054]\u001b[0m\n"
     ]
    },
    {
     "name": "stdout",
     "output_type": "stream",
     "text": [
      "\t Loss: 23.646,\tTrain : 94.50%(94.50%),\tTest : 94.23%(94.23%),\tCurrent Time: 20250917-192541\n"
     ]
    },
    {
     "name": "stderr",
     "output_type": "stream",
     "text": [
      "Epoch 13/50:: 100%|\u001b[34m███████████████████\u001b[0m| 120/120 [00:02<00:00, 48.34batch/s, loss=0.187509]\u001b[0m\n"
     ]
    },
    {
     "name": "stdout",
     "output_type": "stream",
     "text": [
      "\t Loss: 22.501,\tTrain : 94.77%(94.77%),\tTest : 94.42%(94.42%),\tCurrent Time: 20250917-192543\n"
     ]
    },
    {
     "name": "stderr",
     "output_type": "stream",
     "text": [
      "Epoch 14/50:: 100%|\u001b[34m███████████████████\u001b[0m| 120/120 [00:02<00:00, 49.04batch/s, loss=0.181545]\u001b[0m\n"
     ]
    },
    {
     "name": "stdout",
     "output_type": "stream",
     "text": [
      "\t Loss: 21.785,\tTrain : 94.87%(94.87%),\tTest : 94.77%(94.77%),\tCurrent Time: 20250917-192546\n"
     ]
    },
    {
     "name": "stderr",
     "output_type": "stream",
     "text": [
      "Epoch 15/50:: 100%|\u001b[34m███████████████████\u001b[0m| 120/120 [00:02<00:00, 48.77batch/s, loss=0.170084]\u001b[0m\n"
     ]
    },
    {
     "name": "stdout",
     "output_type": "stream",
     "text": [
      "\t Loss: 20.410,\tTrain : 95.27%(95.27%),\tTest : 95.00%(95.00%),\tCurrent Time: 20250917-192548\n"
     ]
    },
    {
     "name": "stderr",
     "output_type": "stream",
     "text": [
      "Epoch 16/50:: 100%|\u001b[34m███████████████████\u001b[0m| 120/120 [00:02<00:00, 48.87batch/s, loss=0.158279]\u001b[0m\n"
     ]
    },
    {
     "name": "stdout",
     "output_type": "stream",
     "text": [
      "\t Loss: 18.993,\tTrain : 95.51%(95.51%),\tTest : 95.26%(95.26%),\tCurrent Time: 20250917-192551\n"
     ]
    },
    {
     "name": "stderr",
     "output_type": "stream",
     "text": [
      "Epoch 17/50:: 100%|\u001b[34m███████████████████\u001b[0m| 120/120 [00:02<00:00, 48.64batch/s, loss=0.149649]\u001b[0m\n"
     ]
    },
    {
     "name": "stdout",
     "output_type": "stream",
     "text": [
      "\t Loss: 17.958,\tTrain : 95.75%(95.75%),\tTest : 95.42%(95.42%),\tCurrent Time: 20250917-192553\n"
     ]
    },
    {
     "name": "stderr",
     "output_type": "stream",
     "text": [
      "Epoch 18/50:: 100%|\u001b[34m███████████████████\u001b[0m| 120/120 [00:02<00:00, 48.84batch/s, loss=0.142246]\u001b[0m\n"
     ]
    },
    {
     "name": "stdout",
     "output_type": "stream",
     "text": [
      "\t Loss: 17.070,\tTrain : 95.95%(95.95%),\tTest : 95.35%(95.42%),\tCurrent Time: 20250917-192556\n"
     ]
    },
    {
     "name": "stderr",
     "output_type": "stream",
     "text": [
      "Epoch 19/50:: 100%|\u001b[34m███████████████████\u001b[0m| 120/120 [00:02<00:00, 48.63batch/s, loss=0.135522]\u001b[0m\n"
     ]
    },
    {
     "name": "stdout",
     "output_type": "stream",
     "text": [
      "\t Loss: 16.263,\tTrain : 96.18%(96.18%),\tTest : 95.68%(95.68%),\tCurrent Time: 20250917-192558\n"
     ]
    },
    {
     "name": "stderr",
     "output_type": "stream",
     "text": [
      "Epoch 20/50:: 100%|\u001b[34m███████████████████\u001b[0m| 120/120 [00:02<00:00, 48.72batch/s, loss=0.128534]\u001b[0m\n"
     ]
    },
    {
     "name": "stdout",
     "output_type": "stream",
     "text": [
      "\t Loss: 15.424,\tTrain : 96.26%(96.26%),\tTest : 95.77%(95.77%),\tCurrent Time: 20250917-192601\n"
     ]
    },
    {
     "name": "stderr",
     "output_type": "stream",
     "text": [
      "Epoch 21/50:: 100%|\u001b[34m███████████████████\u001b[0m| 120/120 [00:02<00:00, 49.23batch/s, loss=0.123485]\u001b[0m\n"
     ]
    },
    {
     "name": "stdout",
     "output_type": "stream",
     "text": [
      "\t Loss: 14.818,\tTrain : 96.41%(96.41%),\tTest : 95.84%(95.84%),\tCurrent Time: 20250917-192603\n"
     ]
    },
    {
     "name": "stderr",
     "output_type": "stream",
     "text": [
      "Epoch 22/50:: 100%|\u001b[34m███████████████████\u001b[0m| 120/120 [00:02<00:00, 49.10batch/s, loss=0.117989]\u001b[0m\n"
     ]
    },
    {
     "name": "stdout",
     "output_type": "stream",
     "text": [
      "\t Loss: 14.159,\tTrain : 96.58%(96.58%),\tTest : 95.97%(95.97%),\tCurrent Time: 20250917-192606\n"
     ]
    },
    {
     "name": "stderr",
     "output_type": "stream",
     "text": [
      "Epoch 23/50:: 100%|\u001b[34m███████████████████\u001b[0m| 120/120 [00:02<00:00, 48.76batch/s, loss=0.114717]\u001b[0m\n"
     ]
    },
    {
     "name": "stdout",
     "output_type": "stream",
     "text": [
      "\t Loss: 13.766,\tTrain : 96.75%(96.75%),\tTest : 96.17%(96.17%),\tCurrent Time: 20250917-192609\n"
     ]
    },
    {
     "name": "stderr",
     "output_type": "stream",
     "text": [
      "Epoch 24/50:: 100%|\u001b[34m███████████████████\u001b[0m| 120/120 [00:02<00:00, 49.13batch/s, loss=0.111231]\u001b[0m\n"
     ]
    },
    {
     "name": "stdout",
     "output_type": "stream",
     "text": [
      "\t Loss: 13.348,\tTrain : 96.80%(96.80%),\tTest : 96.18%(96.18%),\tCurrent Time: 20250917-192611\n"
     ]
    },
    {
     "name": "stderr",
     "output_type": "stream",
     "text": [
      "Epoch 25/50:: 100%|\u001b[34m███████████████████\u001b[0m| 120/120 [00:02<00:00, 49.20batch/s, loss=0.107334]\u001b[0m\n"
     ]
    },
    {
     "name": "stdout",
     "output_type": "stream",
     "text": [
      "\t Loss: 12.880,\tTrain : 96.91%(96.91%),\tTest : 96.14%(96.18%),\tCurrent Time: 20250917-192614\n"
     ]
    },
    {
     "name": "stderr",
     "output_type": "stream",
     "text": [
      "Epoch 26/50:: 100%|\u001b[34m███████████████████\u001b[0m| 120/120 [00:02<00:00, 48.97batch/s, loss=0.105470]\u001b[0m\n"
     ]
    },
    {
     "name": "stdout",
     "output_type": "stream",
     "text": [
      "\t Loss: 12.656,\tTrain : 96.96%(96.96%),\tTest : 96.45%(96.45%),\tCurrent Time: 20250917-192616\n"
     ]
    },
    {
     "name": "stderr",
     "output_type": "stream",
     "text": [
      "Epoch 27/50:: 100%|\u001b[34m███████████████████\u001b[0m| 120/120 [00:02<00:00, 48.87batch/s, loss=0.099763]\u001b[0m\n"
     ]
    },
    {
     "name": "stdout",
     "output_type": "stream",
     "text": [
      "\t Loss: 11.972,\tTrain : 97.16%(97.16%),\tTest : 95.92%(96.45%),\tCurrent Time: 20250917-192619\n"
     ]
    },
    {
     "name": "stderr",
     "output_type": "stream",
     "text": [
      "Epoch 28/50:: 100%|\u001b[34m███████████████████\u001b[0m| 120/120 [00:02<00:00, 49.06batch/s, loss=0.097087]\u001b[0m\n"
     ]
    },
    {
     "name": "stdout",
     "output_type": "stream",
     "text": [
      "\t Loss: 11.650,\tTrain : 97.20%(97.20%),\tTest : 96.16%(96.45%),\tCurrent Time: 20250917-192621\n"
     ]
    },
    {
     "name": "stderr",
     "output_type": "stream",
     "text": [
      "Epoch 29/50:: 100%|\u001b[34m███████████████████\u001b[0m| 120/120 [00:02<00:00, 49.21batch/s, loss=0.092936]\u001b[0m\n"
     ]
    },
    {
     "name": "stdout",
     "output_type": "stream",
     "text": [
      "\t Loss: 11.152,\tTrain : 97.29%(97.29%),\tTest : 96.19%(96.45%),\tCurrent Time: 20250917-192624\n"
     ]
    },
    {
     "name": "stderr",
     "output_type": "stream",
     "text": [
      "Epoch 30/50:: 100%|\u001b[34m███████████████████\u001b[0m| 120/120 [00:02<00:00, 49.04batch/s, loss=0.089253]\u001b[0m\n"
     ]
    },
    {
     "name": "stdout",
     "output_type": "stream",
     "text": [
      "\t Loss: 10.710,\tTrain : 97.47%(97.47%),\tTest : 96.33%(96.45%),\tCurrent Time: 20250917-192626\n"
     ]
    },
    {
     "name": "stderr",
     "output_type": "stream",
     "text": [
      "Epoch 31/50:: 100%|\u001b[34m███████████████████\u001b[0m| 120/120 [00:02<00:00, 48.99batch/s, loss=0.086534]\u001b[0m\n"
     ]
    },
    {
     "name": "stdout",
     "output_type": "stream",
     "text": [
      "\t Loss: 10.384,\tTrain : 97.51%(97.51%),\tTest : 96.35%(96.45%),\tCurrent Time: 20250917-192629\n"
     ]
    },
    {
     "name": "stderr",
     "output_type": "stream",
     "text": [
      "Epoch 32/50:: 100%|\u001b[34m███████████████████\u001b[0m| 120/120 [00:02<00:00, 49.22batch/s, loss=0.082504]\u001b[0m\n"
     ]
    },
    {
     "name": "stdout",
     "output_type": "stream",
     "text": [
      "\t Loss: 9.901,\tTrain : 97.63%(97.63%),\tTest : 96.33%(96.45%),\tCurrent Time: 20250917-192631\n"
     ]
    },
    {
     "name": "stderr",
     "output_type": "stream",
     "text": [
      "Epoch 33/50:: 100%|\u001b[34m███████████████████\u001b[0m| 120/120 [00:02<00:00, 49.00batch/s, loss=0.080038]\u001b[0m\n"
     ]
    },
    {
     "name": "stdout",
     "output_type": "stream",
     "text": [
      "\t Loss: 9.605,\tTrain : 97.66%(97.66%),\tTest : 96.06%(96.45%),\tCurrent Time: 20250917-192634\n"
     ]
    },
    {
     "name": "stderr",
     "output_type": "stream",
     "text": [
      "Epoch 34/50:: 100%|\u001b[34m███████████████████\u001b[0m| 120/120 [00:02<00:00, 48.83batch/s, loss=0.077975]\u001b[0m\n"
     ]
    },
    {
     "name": "stdout",
     "output_type": "stream",
     "text": [
      "\t Loss: 9.357,\tTrain : 97.75%(97.75%),\tTest : 96.37%(96.45%),\tCurrent Time: 20250917-192636\n"
     ]
    },
    {
     "name": "stderr",
     "output_type": "stream",
     "text": [
      "Epoch 35/50:: 100%|\u001b[34m███████████████████\u001b[0m| 120/120 [00:02<00:00, 48.96batch/s, loss=0.077893]\u001b[0m\n"
     ]
    },
    {
     "name": "stdout",
     "output_type": "stream",
     "text": [
      "\t Loss: 9.347,\tTrain : 97.69%(97.75%),\tTest : 96.40%(96.45%),\tCurrent Time: 20250917-192639\n"
     ]
    },
    {
     "name": "stderr",
     "output_type": "stream",
     "text": [
      "Epoch 36/50:: 100%|\u001b[34m███████████████████\u001b[0m| 120/120 [00:02<00:00, 49.17batch/s, loss=0.073098]\u001b[0m\n"
     ]
    },
    {
     "name": "stdout",
     "output_type": "stream",
     "text": [
      "\t Loss: 8.772,\tTrain : 97.87%(97.87%),\tTest : 96.41%(96.45%),\tCurrent Time: 20250917-192641\n"
     ]
    },
    {
     "name": "stderr",
     "output_type": "stream",
     "text": [
      "Epoch 37/50:: 100%|\u001b[34m███████████████████\u001b[0m| 120/120 [00:02<00:00, 49.06batch/s, loss=0.069862]\u001b[0m\n"
     ]
    },
    {
     "name": "stdout",
     "output_type": "stream",
     "text": [
      "\t Loss: 8.383,\tTrain : 97.96%(97.96%),\tTest : 96.62%(96.62%),\tCurrent Time: 20250917-192644\n"
     ]
    },
    {
     "name": "stderr",
     "output_type": "stream",
     "text": [
      "Epoch 38/50:: 100%|\u001b[34m███████████████████\u001b[0m| 120/120 [00:02<00:00, 48.93batch/s, loss=0.068481]\u001b[0m\n"
     ]
    },
    {
     "name": "stdout",
     "output_type": "stream",
     "text": [
      "\t Loss: 8.218,\tTrain : 97.98%(97.98%),\tTest : 96.46%(96.62%),\tCurrent Time: 20250917-192647\n"
     ]
    },
    {
     "name": "stderr",
     "output_type": "stream",
     "text": [
      "Epoch 39/50:: 100%|\u001b[34m███████████████████\u001b[0m| 120/120 [00:02<00:00, 49.19batch/s, loss=0.064967]\u001b[0m\n"
     ]
    },
    {
     "name": "stdout",
     "output_type": "stream",
     "text": [
      "\t Loss: 7.796,\tTrain : 98.07%(98.07%),\tTest : 96.61%(96.62%),\tCurrent Time: 20250917-192649\n"
     ]
    },
    {
     "name": "stderr",
     "output_type": "stream",
     "text": [
      "Epoch 40/50:: 100%|\u001b[34m███████████████████\u001b[0m| 120/120 [00:02<00:00, 49.04batch/s, loss=0.063390]\u001b[0m\n"
     ]
    },
    {
     "name": "stdout",
     "output_type": "stream",
     "text": [
      "\t Loss: 7.607,\tTrain : 98.11%(98.11%),\tTest : 96.62%(96.62%),\tCurrent Time: 20250917-192652\n"
     ]
    },
    {
     "name": "stderr",
     "output_type": "stream",
     "text": [
      "Epoch 41/50:: 100%|\u001b[34m███████████████████\u001b[0m| 120/120 [00:02<00:00, 48.99batch/s, loss=0.061387]\u001b[0m\n"
     ]
    },
    {
     "name": "stdout",
     "output_type": "stream",
     "text": [
      "\t Loss: 7.366,\tTrain : 98.17%(98.17%),\tTest : 96.31%(96.62%),\tCurrent Time: 20250917-192654\n"
     ]
    },
    {
     "name": "stderr",
     "output_type": "stream",
     "text": [
      "Epoch 42/50:: 100%|\u001b[34m███████████████████\u001b[0m| 120/120 [00:02<00:00, 49.05batch/s, loss=0.059195]\u001b[0m\n"
     ]
    },
    {
     "name": "stdout",
     "output_type": "stream",
     "text": [
      "\t Loss: 7.103,\tTrain : 98.25%(98.25%),\tTest : 96.46%(96.62%),\tCurrent Time: 20250917-192657\n"
     ]
    },
    {
     "name": "stderr",
     "output_type": "stream",
     "text": [
      "Epoch 43/50:: 100%|\u001b[34m███████████████████\u001b[0m| 120/120 [00:02<00:00, 49.01batch/s, loss=0.056504]\u001b[0m\n"
     ]
    },
    {
     "name": "stdout",
     "output_type": "stream",
     "text": [
      "\t Loss: 6.781,\tTrain : 98.32%(98.32%),\tTest : 96.57%(96.62%),\tCurrent Time: 20250917-192659\n"
     ]
    },
    {
     "name": "stderr",
     "output_type": "stream",
     "text": [
      "Epoch 44/50:: 100%|\u001b[34m███████████████████\u001b[0m| 120/120 [00:02<00:00, 49.01batch/s, loss=0.053723]\u001b[0m\n"
     ]
    },
    {
     "name": "stdout",
     "output_type": "stream",
     "text": [
      "\t Loss: 6.447,\tTrain : 98.42%(98.42%),\tTest : 96.61%(96.62%),\tCurrent Time: 20250917-192702\n"
     ]
    },
    {
     "name": "stderr",
     "output_type": "stream",
     "text": [
      "Epoch 45/50:: 100%|\u001b[34m███████████████████\u001b[0m| 120/120 [00:02<00:00, 49.13batch/s, loss=0.054117]\u001b[0m\n"
     ]
    },
    {
     "name": "stdout",
     "output_type": "stream",
     "text": [
      "\t Loss: 6.494,\tTrain : 98.36%(98.42%),\tTest : 96.53%(96.62%),\tCurrent Time: 20250917-192704\n"
     ]
    },
    {
     "name": "stderr",
     "output_type": "stream",
     "text": [
      "Epoch 46/50:: 100%|\u001b[34m███████████████████\u001b[0m| 120/120 [00:02<00:00, 49.11batch/s, loss=0.050229]\u001b[0m\n"
     ]
    },
    {
     "name": "stdout",
     "output_type": "stream",
     "text": [
      "\t Loss: 6.028,\tTrain : 98.53%(98.53%),\tTest : 96.56%(96.62%),\tCurrent Time: 20250917-192707\n"
     ]
    },
    {
     "name": "stderr",
     "output_type": "stream",
     "text": [
      "Epoch 47/50:: 100%|\u001b[34m███████████████████\u001b[0m| 120/120 [00:02<00:00, 48.99batch/s, loss=0.047887]\u001b[0m\n"
     ]
    },
    {
     "name": "stdout",
     "output_type": "stream",
     "text": [
      "\t Loss: 5.746,\tTrain : 98.61%(98.61%),\tTest : 96.46%(96.62%),\tCurrent Time: 20250917-192709\n"
     ]
    },
    {
     "name": "stderr",
     "output_type": "stream",
     "text": [
      "Epoch 48/50:: 100%|\u001b[34m███████████████████\u001b[0m| 120/120 [00:02<00:00, 49.06batch/s, loss=0.048426]\u001b[0m\n"
     ]
    },
    {
     "name": "stdout",
     "output_type": "stream",
     "text": [
      "\t Loss: 5.811,\tTrain : 98.57%(98.61%),\tTest : 96.57%(96.62%),\tCurrent Time: 20250917-192712\n"
     ]
    },
    {
     "name": "stderr",
     "output_type": "stream",
     "text": [
      "Epoch 49/50:: 100%|\u001b[34m███████████████████\u001b[0m| 120/120 [00:02<00:00, 48.83batch/s, loss=0.046839]\u001b[0m\n"
     ]
    },
    {
     "name": "stdout",
     "output_type": "stream",
     "text": [
      "\t Loss: 5.621,\tTrain : 98.63%(98.63%),\tTest : 96.36%(96.62%),\tCurrent Time: 20250917-192714\n"
     ]
    },
    {
     "name": "stderr",
     "output_type": "stream",
     "text": [
      "Epoch 50/50:: 100%|\u001b[34m███████████████████\u001b[0m| 120/120 [00:02<00:00, 49.02batch/s, loss=0.045738]\u001b[0m\n"
     ]
    },
    {
     "name": "stdout",
     "output_type": "stream",
     "text": [
      "\t Loss: 5.489,\tTrain : 98.61%(98.63%),\tTest : 96.44%(96.62%),\tCurrent Time: 20250917-192717\n",
      "First_asymm_AG_N-HL_resP-EP_L10-P0.1-MNIST_EP_b_sc0.1- Time: 20250917-192717, Epochs: 50, Learning Rate: 0.0005, Best: 98.63%  96.62%\n",
      "\n",
      "[[0 1 0 0 0 0 0 0 0 0 0 0]\n",
      " [0 0 1 0 0 0 0 0 0 0 1 0]\n",
      " [0 1 0 1 0 0 0 0 0 0 0 0]\n",
      " [0 0 1 0 1 0 0 0 0 0 0 0]\n",
      " [0 0 0 1 0 1 1 0 0 0 0 0]\n",
      " [0 0 0 0 1 0 1 0 0 0 0 0]\n",
      " [0 0 0 0 0 1 0 1 0 0 0 0]\n",
      " [0 0 0 0 0 0 1 0 1 0 0 0]\n",
      " [0 0 0 0 0 0 0 1 0 1 0 0]\n",
      " [0 0 0 0 0 0 1 0 1 0 1 0]\n",
      " [0 0 0 1 0 0 0 0 0 1 0 1]\n",
      " [0 0 0 0 0 0 0 0 0 0 1 0]]\n",
      "First_asymm_AG_N-HL_resP-EP_L10-P0.1-MNIST_EP_b_sc0.1-\n"
     ]
    },
    {
     "name": "stderr",
     "output_type": "stream",
     "text": [
      "Epoch 1/50:: 100%|\u001b[34m████████████████████\u001b[0m| 120/120 [00:02<00:00, 47.35batch/s, loss=2.170507]\u001b[0m\n"
     ]
    },
    {
     "name": "stdout",
     "output_type": "stream",
     "text": [
      "\t Loss: 260.461,\tTrain : 22.00%(22.00%),\tTest : 43.88%(43.88%),\tCurrent Time: 20250917-192724\n"
     ]
    },
    {
     "name": "stderr",
     "output_type": "stream",
     "text": [
      "Epoch 2/50:: 100%|\u001b[34m████████████████████\u001b[0m| 120/120 [00:02<00:00, 49.84batch/s, loss=1.312804]\u001b[0m\n"
     ]
    },
    {
     "name": "stdout",
     "output_type": "stream",
     "text": [
      "\t Loss: 157.536,\tTrain : 66.48%(66.48%),\tTest : 80.83%(80.83%),\tCurrent Time: 20250917-192726\n"
     ]
    },
    {
     "name": "stderr",
     "output_type": "stream",
     "text": [
      "Epoch 3/50:: 100%|\u001b[34m████████████████████\u001b[0m| 120/120 [00:02<00:00, 49.42batch/s, loss=0.734574]\u001b[0m\n"
     ]
    },
    {
     "name": "stdout",
     "output_type": "stream",
     "text": [
      "\t Loss: 88.149,\tTrain : 84.04%(84.04%),\tTest : 87.69%(87.69%),\tCurrent Time: 20250917-192729\n"
     ]
    },
    {
     "name": "stderr",
     "output_type": "stream",
     "text": [
      "Epoch 4/50:: 100%|\u001b[34m████████████████████\u001b[0m| 120/120 [00:02<00:00, 49.63batch/s, loss=0.486023]\u001b[0m\n"
     ]
    },
    {
     "name": "stdout",
     "output_type": "stream",
     "text": [
      "\t Loss: 58.323,\tTrain : 87.97%(87.97%),\tTest : 89.56%(89.56%),\tCurrent Time: 20250917-192731\n"
     ]
    },
    {
     "name": "stderr",
     "output_type": "stream",
     "text": [
      "Epoch 5/50:: 100%|\u001b[34m████████████████████\u001b[0m| 120/120 [00:02<00:00, 49.80batch/s, loss=0.397247]\u001b[0m\n"
     ]
    },
    {
     "name": "stdout",
     "output_type": "stream",
     "text": [
      "\t Loss: 47.670,\tTrain : 89.73%(89.73%),\tTest : 90.22%(90.22%),\tCurrent Time: 20250917-192734\n"
     ]
    },
    {
     "name": "stderr",
     "output_type": "stream",
     "text": [
      "Epoch 6/50:: 100%|\u001b[34m████████████████████\u001b[0m| 120/120 [00:02<00:00, 49.65batch/s, loss=0.341725]\u001b[0m\n"
     ]
    },
    {
     "name": "stdout",
     "output_type": "stream",
     "text": [
      "\t Loss: 41.007,\tTrain : 90.86%(90.86%),\tTest : 91.39%(91.39%),\tCurrent Time: 20250917-192736\n"
     ]
    },
    {
     "name": "stderr",
     "output_type": "stream",
     "text": [
      "Epoch 7/50:: 100%|\u001b[34m████████████████████\u001b[0m| 120/120 [00:02<00:00, 49.40batch/s, loss=0.302106]\u001b[0m\n"
     ]
    },
    {
     "name": "stdout",
     "output_type": "stream",
     "text": [
      "\t Loss: 36.253,\tTrain : 91.76%(91.76%),\tTest : 91.99%(91.99%),\tCurrent Time: 20250917-192739\n"
     ]
    },
    {
     "name": "stderr",
     "output_type": "stream",
     "text": [
      "Epoch 8/50:: 100%|\u001b[34m████████████████████\u001b[0m| 120/120 [00:02<00:00, 49.59batch/s, loss=0.279088]\u001b[0m\n"
     ]
    },
    {
     "name": "stdout",
     "output_type": "stream",
     "text": [
      "\t Loss: 33.491,\tTrain : 92.43%(92.43%),\tTest : 92.39%(92.39%),\tCurrent Time: 20250917-192741\n"
     ]
    },
    {
     "name": "stderr",
     "output_type": "stream",
     "text": [
      "Epoch 9/50:: 100%|\u001b[34m████████████████████\u001b[0m| 120/120 [00:02<00:00, 49.66batch/s, loss=0.261775]\u001b[0m\n"
     ]
    },
    {
     "name": "stdout",
     "output_type": "stream",
     "text": [
      "\t Loss: 31.413,\tTrain : 92.86%(92.86%),\tTest : 92.77%(92.77%),\tCurrent Time: 20250917-192744\n"
     ]
    },
    {
     "name": "stderr",
     "output_type": "stream",
     "text": [
      "Epoch 10/50:: 100%|\u001b[34m███████████████████\u001b[0m| 120/120 [00:02<00:00, 49.60batch/s, loss=0.245362]\u001b[0m\n"
     ]
    },
    {
     "name": "stdout",
     "output_type": "stream",
     "text": [
      "\t Loss: 29.443,\tTrain : 93.27%(93.27%),\tTest : 93.26%(93.26%),\tCurrent Time: 20250917-192746\n"
     ]
    },
    {
     "name": "stderr",
     "output_type": "stream",
     "text": [
      "Epoch 11/50:: 100%|\u001b[34m███████████████████\u001b[0m| 120/120 [00:02<00:00, 49.29batch/s, loss=0.228258]\u001b[0m\n"
     ]
    },
    {
     "name": "stdout",
     "output_type": "stream",
     "text": [
      "\t Loss: 27.391,\tTrain : 93.75%(93.75%),\tTest : 93.41%(93.41%),\tCurrent Time: 20250917-192749\n"
     ]
    },
    {
     "name": "stderr",
     "output_type": "stream",
     "text": [
      "Epoch 12/50:: 100%|\u001b[34m███████████████████\u001b[0m| 120/120 [00:02<00:00, 49.78batch/s, loss=0.216458]\u001b[0m\n"
     ]
    },
    {
     "name": "stdout",
     "output_type": "stream",
     "text": [
      "\t Loss: 25.975,\tTrain : 94.07%(94.07%),\tTest : 93.67%(93.67%),\tCurrent Time: 20250917-192751\n"
     ]
    },
    {
     "name": "stderr",
     "output_type": "stream",
     "text": [
      "Epoch 13/50:: 100%|\u001b[34m███████████████████\u001b[0m| 120/120 [00:02<00:00, 49.71batch/s, loss=0.206392]\u001b[0m\n"
     ]
    },
    {
     "name": "stdout",
     "output_type": "stream",
     "text": [
      "\t Loss: 24.767,\tTrain : 94.35%(94.35%),\tTest : 94.01%(94.01%),\tCurrent Time: 20250917-192754\n"
     ]
    },
    {
     "name": "stderr",
     "output_type": "stream",
     "text": [
      "Epoch 14/50:: 100%|\u001b[34m███████████████████\u001b[0m| 120/120 [00:02<00:00, 49.37batch/s, loss=0.189446]\u001b[0m\n"
     ]
    },
    {
     "name": "stdout",
     "output_type": "stream",
     "text": [
      "\t Loss: 22.733,\tTrain : 94.73%(94.73%),\tTest : 94.44%(94.44%),\tCurrent Time: 20250917-192756\n"
     ]
    },
    {
     "name": "stderr",
     "output_type": "stream",
     "text": [
      "Epoch 15/50:: 100%|\u001b[34m███████████████████\u001b[0m| 120/120 [00:02<00:00, 49.76batch/s, loss=0.177251]\u001b[0m\n"
     ]
    },
    {
     "name": "stdout",
     "output_type": "stream",
     "text": [
      "\t Loss: 21.270,\tTrain : 95.00%(95.00%),\tTest : 94.81%(94.81%),\tCurrent Time: 20250917-192759\n"
     ]
    },
    {
     "name": "stderr",
     "output_type": "stream",
     "text": [
      "Epoch 16/50:: 100%|\u001b[34m███████████████████\u001b[0m| 120/120 [00:02<00:00, 50.00batch/s, loss=0.165932]\u001b[0m\n"
     ]
    },
    {
     "name": "stdout",
     "output_type": "stream",
     "text": [
      "\t Loss: 19.912,\tTrain : 95.36%(95.36%),\tTest : 94.81%(94.81%),\tCurrent Time: 20250917-192801\n"
     ]
    },
    {
     "name": "stderr",
     "output_type": "stream",
     "text": [
      "Epoch 17/50:: 100%|\u001b[34m███████████████████\u001b[0m| 120/120 [00:02<00:00, 49.63batch/s, loss=0.158185]\u001b[0m\n"
     ]
    },
    {
     "name": "stdout",
     "output_type": "stream",
     "text": [
      "\t Loss: 18.982,\tTrain : 95.58%(95.58%),\tTest : 95.05%(95.05%),\tCurrent Time: 20250917-192804\n"
     ]
    },
    {
     "name": "stderr",
     "output_type": "stream",
     "text": [
      "Epoch 18/50:: 100%|\u001b[34m███████████████████\u001b[0m| 120/120 [00:02<00:00, 49.65batch/s, loss=0.149257]\u001b[0m\n"
     ]
    },
    {
     "name": "stdout",
     "output_type": "stream",
     "text": [
      "\t Loss: 17.911,\tTrain : 95.81%(95.81%),\tTest : 95.39%(95.39%),\tCurrent Time: 20250917-192806\n"
     ]
    },
    {
     "name": "stderr",
     "output_type": "stream",
     "text": [
      "Epoch 19/50:: 100%|\u001b[34m███████████████████\u001b[0m| 120/120 [00:02<00:00, 49.30batch/s, loss=0.142367]\u001b[0m\n"
     ]
    },
    {
     "name": "stdout",
     "output_type": "stream",
     "text": [
      "\t Loss: 17.084,\tTrain : 95.97%(95.97%),\tTest : 95.38%(95.39%),\tCurrent Time: 20250917-192809\n"
     ]
    },
    {
     "name": "stderr",
     "output_type": "stream",
     "text": [
      "Epoch 20/50:: 100%|\u001b[34m███████████████████\u001b[0m| 120/120 [00:02<00:00, 49.78batch/s, loss=0.135347]\u001b[0m\n"
     ]
    },
    {
     "name": "stdout",
     "output_type": "stream",
     "text": [
      "\t Loss: 16.242,\tTrain : 96.13%(96.13%),\tTest : 95.39%(95.39%),\tCurrent Time: 20250917-192811\n"
     ]
    },
    {
     "name": "stderr",
     "output_type": "stream",
     "text": [
      "Epoch 21/50:: 100%|\u001b[34m███████████████████\u001b[0m| 120/120 [00:02<00:00, 49.67batch/s, loss=0.129898]\u001b[0m\n"
     ]
    },
    {
     "name": "stdout",
     "output_type": "stream",
     "text": [
      "\t Loss: 15.588,\tTrain : 96.30%(96.30%),\tTest : 95.71%(95.71%),\tCurrent Time: 20250917-192814\n"
     ]
    },
    {
     "name": "stderr",
     "output_type": "stream",
     "text": [
      "Epoch 22/50:: 100%|\u001b[34m███████████████████\u001b[0m| 120/120 [00:02<00:00, 49.87batch/s, loss=0.125607]\u001b[0m\n"
     ]
    },
    {
     "name": "stdout",
     "output_type": "stream",
     "text": [
      "\t Loss: 15.073,\tTrain : 96.41%(96.41%),\tTest : 95.55%(95.71%),\tCurrent Time: 20250917-192816\n"
     ]
    },
    {
     "name": "stderr",
     "output_type": "stream",
     "text": [
      "Epoch 23/50:: 100%|\u001b[34m███████████████████\u001b[0m| 120/120 [00:02<00:00, 50.00batch/s, loss=0.122104]\u001b[0m\n"
     ]
    },
    {
     "name": "stdout",
     "output_type": "stream",
     "text": [
      "\t Loss: 14.652,\tTrain : 96.54%(96.54%),\tTest : 95.87%(95.87%),\tCurrent Time: 20250917-192819\n"
     ]
    },
    {
     "name": "stderr",
     "output_type": "stream",
     "text": [
      "Epoch 24/50:: 100%|\u001b[34m███████████████████\u001b[0m| 120/120 [00:02<00:00, 49.85batch/s, loss=0.116573]\u001b[0m\n"
     ]
    },
    {
     "name": "stdout",
     "output_type": "stream",
     "text": [
      "\t Loss: 13.989,\tTrain : 96.69%(96.69%),\tTest : 95.66%(95.87%),\tCurrent Time: 20250917-192821\n"
     ]
    },
    {
     "name": "stderr",
     "output_type": "stream",
     "text": [
      "Epoch 25/50:: 100%|\u001b[34m███████████████████\u001b[0m| 120/120 [00:02<00:00, 49.58batch/s, loss=0.113052]\u001b[0m\n"
     ]
    },
    {
     "name": "stdout",
     "output_type": "stream",
     "text": [
      "\t Loss: 13.566,\tTrain : 96.77%(96.77%),\tTest : 95.91%(95.91%),\tCurrent Time: 20250917-192824\n"
     ]
    },
    {
     "name": "stderr",
     "output_type": "stream",
     "text": [
      "Epoch 26/50:: 100%|\u001b[34m███████████████████\u001b[0m| 120/120 [00:02<00:00, 49.19batch/s, loss=0.107858]\u001b[0m\n"
     ]
    },
    {
     "name": "stdout",
     "output_type": "stream",
     "text": [
      "\t Loss: 12.943,\tTrain : 96.91%(96.91%),\tTest : 95.99%(95.99%),\tCurrent Time: 20250917-192826\n"
     ]
    },
    {
     "name": "stderr",
     "output_type": "stream",
     "text": [
      "Epoch 27/50:: 100%|\u001b[34m███████████████████\u001b[0m| 120/120 [00:02<00:00, 49.67batch/s, loss=0.103763]\u001b[0m\n"
     ]
    },
    {
     "name": "stdout",
     "output_type": "stream",
     "text": [
      "\t Loss: 12.452,\tTrain : 97.06%(97.06%),\tTest : 96.10%(96.10%),\tCurrent Time: 20250917-192829\n"
     ]
    },
    {
     "name": "stderr",
     "output_type": "stream",
     "text": [
      "Epoch 28/50:: 100%|\u001b[34m███████████████████\u001b[0m| 120/120 [00:02<00:00, 49.69batch/s, loss=0.100575]\u001b[0m\n"
     ]
    },
    {
     "name": "stdout",
     "output_type": "stream",
     "text": [
      "\t Loss: 12.069,\tTrain : 97.13%(97.13%),\tTest : 96.16%(96.16%),\tCurrent Time: 20250917-192831\n"
     ]
    },
    {
     "name": "stderr",
     "output_type": "stream",
     "text": [
      "Epoch 29/50:: 100%|\u001b[34m███████████████████\u001b[0m| 120/120 [00:02<00:00, 49.80batch/s, loss=0.095880]\u001b[0m\n"
     ]
    },
    {
     "name": "stdout",
     "output_type": "stream",
     "text": [
      "\t Loss: 11.506,\tTrain : 97.31%(97.31%),\tTest : 96.17%(96.17%),\tCurrent Time: 20250917-192834\n"
     ]
    },
    {
     "name": "stderr",
     "output_type": "stream",
     "text": [
      "Epoch 30/50:: 100%|\u001b[34m███████████████████\u001b[0m| 120/120 [00:02<00:00, 49.85batch/s, loss=0.092230]\u001b[0m\n"
     ]
    },
    {
     "name": "stdout",
     "output_type": "stream",
     "text": [
      "\t Loss: 11.068,\tTrain : 97.40%(97.40%),\tTest : 96.18%(96.18%),\tCurrent Time: 20250917-192836\n"
     ]
    },
    {
     "name": "stderr",
     "output_type": "stream",
     "text": [
      "Epoch 31/50:: 100%|\u001b[34m███████████████████\u001b[0m| 120/120 [00:02<00:00, 49.62batch/s, loss=0.090011]\u001b[0m\n"
     ]
    },
    {
     "name": "stdout",
     "output_type": "stream",
     "text": [
      "\t Loss: 10.801,\tTrain : 97.44%(97.44%),\tTest : 96.11%(96.18%),\tCurrent Time: 20250917-192839\n"
     ]
    },
    {
     "name": "stderr",
     "output_type": "stream",
     "text": [
      "Epoch 32/50:: 100%|\u001b[34m███████████████████\u001b[0m| 120/120 [00:02<00:00, 49.86batch/s, loss=0.085565]\u001b[0m\n"
     ]
    },
    {
     "name": "stdout",
     "output_type": "stream",
     "text": [
      "\t Loss: 10.268,\tTrain : 97.63%(97.63%),\tTest : 96.40%(96.40%),\tCurrent Time: 20250917-192841\n"
     ]
    },
    {
     "name": "stderr",
     "output_type": "stream",
     "text": [
      "Epoch 33/50:: 100%|\u001b[34m███████████████████\u001b[0m| 120/120 [00:02<00:00, 49.45batch/s, loss=0.083884]\u001b[0m\n"
     ]
    },
    {
     "name": "stdout",
     "output_type": "stream",
     "text": [
      "\t Loss: 10.066,\tTrain : 97.64%(97.64%),\tTest : 96.26%(96.40%),\tCurrent Time: 20250917-192844\n"
     ]
    },
    {
     "name": "stderr",
     "output_type": "stream",
     "text": [
      "Epoch 34/50:: 100%|\u001b[34m███████████████████\u001b[0m| 120/120 [00:02<00:00, 49.82batch/s, loss=0.081048]\u001b[0m\n"
     ]
    },
    {
     "name": "stdout",
     "output_type": "stream",
     "text": [
      "\t Loss: 9.726,\tTrain : 97.73%(97.73%),\tTest : 96.25%(96.40%),\tCurrent Time: 20250917-192846\n"
     ]
    },
    {
     "name": "stderr",
     "output_type": "stream",
     "text": [
      "Epoch 35/50:: 100%|\u001b[34m███████████████████\u001b[0m| 120/120 [00:02<00:00, 49.88batch/s, loss=0.079003]\u001b[0m\n"
     ]
    },
    {
     "name": "stdout",
     "output_type": "stream",
     "text": [
      "\t Loss: 9.480,\tTrain : 97.81%(97.81%),\tTest : 96.47%(96.47%),\tCurrent Time: 20250917-192849\n"
     ]
    },
    {
     "name": "stderr",
     "output_type": "stream",
     "text": [
      "Epoch 36/50:: 100%|\u001b[34m███████████████████\u001b[0m| 120/120 [00:02<00:00, 49.64batch/s, loss=0.076521]\u001b[0m\n"
     ]
    },
    {
     "name": "stdout",
     "output_type": "stream",
     "text": [
      "\t Loss: 9.183,\tTrain : 97.80%(97.81%),\tTest : 96.46%(96.47%),\tCurrent Time: 20250917-192851\n"
     ]
    },
    {
     "name": "stderr",
     "output_type": "stream",
     "text": [
      "Epoch 37/50:: 100%|\u001b[34m███████████████████\u001b[0m| 120/120 [00:02<00:00, 49.38batch/s, loss=0.073476]\u001b[0m\n"
     ]
    },
    {
     "name": "stdout",
     "output_type": "stream",
     "text": [
      "\t Loss: 8.817,\tTrain : 97.94%(97.94%),\tTest : 96.43%(96.47%),\tCurrent Time: 20250917-192854\n"
     ]
    },
    {
     "name": "stderr",
     "output_type": "stream",
     "text": [
      "Epoch 38/50:: 100%|\u001b[34m███████████████████\u001b[0m| 120/120 [00:02<00:00, 49.88batch/s, loss=0.071261]\u001b[0m\n"
     ]
    },
    {
     "name": "stdout",
     "output_type": "stream",
     "text": [
      "\t Loss: 8.551,\tTrain : 97.99%(97.99%),\tTest : 96.41%(96.47%),\tCurrent Time: 20250917-192856\n"
     ]
    },
    {
     "name": "stderr",
     "output_type": "stream",
     "text": [
      "Epoch 39/50:: 100%|\u001b[34m███████████████████\u001b[0m| 120/120 [00:02<00:00, 49.82batch/s, loss=0.069638]\u001b[0m\n"
     ]
    },
    {
     "name": "stdout",
     "output_type": "stream",
     "text": [
      "\t Loss: 8.357,\tTrain : 98.02%(98.02%),\tTest : 96.49%(96.49%),\tCurrent Time: 20250917-192859\n"
     ]
    },
    {
     "name": "stderr",
     "output_type": "stream",
     "text": [
      "Epoch 40/50:: 100%|\u001b[34m███████████████████\u001b[0m| 120/120 [00:02<00:00, 49.60batch/s, loss=0.067548]\u001b[0m\n"
     ]
    },
    {
     "name": "stdout",
     "output_type": "stream",
     "text": [
      "\t Loss: 8.106,\tTrain : 98.09%(98.09%),\tTest : 96.52%(96.52%),\tCurrent Time: 20250917-192901\n"
     ]
    },
    {
     "name": "stderr",
     "output_type": "stream",
     "text": [
      "Epoch 41/50:: 100%|\u001b[34m███████████████████\u001b[0m| 120/120 [00:02<00:00, 49.86batch/s, loss=0.065146]\u001b[0m\n"
     ]
    },
    {
     "name": "stdout",
     "output_type": "stream",
     "text": [
      "\t Loss: 7.818,\tTrain : 98.17%(98.17%),\tTest : 96.45%(96.52%),\tCurrent Time: 20250917-192904\n"
     ]
    },
    {
     "name": "stderr",
     "output_type": "stream",
     "text": [
      "Epoch 42/50:: 100%|\u001b[34m███████████████████\u001b[0m| 120/120 [00:02<00:00, 49.82batch/s, loss=0.062319]\u001b[0m\n"
     ]
    },
    {
     "name": "stdout",
     "output_type": "stream",
     "text": [
      "\t Loss: 7.478,\tTrain : 98.26%(98.26%),\tTest : 96.50%(96.52%),\tCurrent Time: 20250917-192906\n"
     ]
    },
    {
     "name": "stderr",
     "output_type": "stream",
     "text": [
      "Epoch 43/50:: 100%|\u001b[34m███████████████████\u001b[0m| 120/120 [00:02<00:00, 49.65batch/s, loss=0.061748]\u001b[0m\n"
     ]
    },
    {
     "name": "stdout",
     "output_type": "stream",
     "text": [
      "\t Loss: 7.410,\tTrain : 98.25%(98.26%),\tTest : 96.57%(96.57%),\tCurrent Time: 20250917-192909\n"
     ]
    },
    {
     "name": "stderr",
     "output_type": "stream",
     "text": [
      "Epoch 44/50:: 100%|\u001b[34m███████████████████\u001b[0m| 120/120 [00:02<00:00, 49.85batch/s, loss=0.059848]\u001b[0m\n"
     ]
    },
    {
     "name": "stdout",
     "output_type": "stream",
     "text": [
      "\t Loss: 7.182,\tTrain : 98.32%(98.32%),\tTest : 96.47%(96.57%),\tCurrent Time: 20250917-192911\n"
     ]
    },
    {
     "name": "stderr",
     "output_type": "stream",
     "text": [
      "Epoch 45/50:: 100%|\u001b[34m███████████████████\u001b[0m| 120/120 [00:02<00:00, 49.85batch/s, loss=0.057671]\u001b[0m\n"
     ]
    },
    {
     "name": "stdout",
     "output_type": "stream",
     "text": [
      "\t Loss: 6.920,\tTrain : 98.38%(98.38%),\tTest : 96.41%(96.57%),\tCurrent Time: 20250917-192914\n"
     ]
    },
    {
     "name": "stderr",
     "output_type": "stream",
     "text": [
      "Epoch 46/50:: 100%|\u001b[34m███████████████████\u001b[0m| 120/120 [00:02<00:00, 49.81batch/s, loss=0.055876]\u001b[0m\n"
     ]
    },
    {
     "name": "stdout",
     "output_type": "stream",
     "text": [
      "\t Loss: 6.705,\tTrain : 98.46%(98.46%),\tTest : 96.64%(96.64%),\tCurrent Time: 20250917-192916\n"
     ]
    },
    {
     "name": "stderr",
     "output_type": "stream",
     "text": [
      "Epoch 47/50:: 100%|\u001b[34m███████████████████\u001b[0m| 120/120 [00:02<00:00, 49.31batch/s, loss=0.056216]\u001b[0m\n"
     ]
    },
    {
     "name": "stdout",
     "output_type": "stream",
     "text": [
      "\t Loss: 6.746,\tTrain : 98.38%(98.46%),\tTest : 96.51%(96.64%),\tCurrent Time: 20250917-192919\n"
     ]
    },
    {
     "name": "stderr",
     "output_type": "stream",
     "text": [
      "Epoch 48/50:: 100%|\u001b[34m███████████████████\u001b[0m| 120/120 [00:02<00:00, 49.34batch/s, loss=0.052957]\u001b[0m\n"
     ]
    },
    {
     "name": "stdout",
     "output_type": "stream",
     "text": [
      "\t Loss: 6.355,\tTrain : 98.47%(98.47%),\tTest : 96.45%(96.64%),\tCurrent Time: 20250917-192921\n"
     ]
    },
    {
     "name": "stderr",
     "output_type": "stream",
     "text": [
      "Epoch 49/50:: 100%|\u001b[34m███████████████████\u001b[0m| 120/120 [00:02<00:00, 49.76batch/s, loss=0.051020]\u001b[0m\n"
     ]
    },
    {
     "name": "stdout",
     "output_type": "stream",
     "text": [
      "\t Loss: 6.122,\tTrain : 98.58%(98.58%),\tTest : 96.51%(96.64%),\tCurrent Time: 20250917-192924\n"
     ]
    },
    {
     "name": "stderr",
     "output_type": "stream",
     "text": [
      "Epoch 50/50:: 100%|\u001b[34m███████████████████\u001b[0m| 120/120 [00:02<00:00, 49.83batch/s, loss=0.048497]\u001b[0m\n"
     ]
    },
    {
     "name": "stdout",
     "output_type": "stream",
     "text": [
      "\t Loss: 5.820,\tTrain : 98.69%(98.69%),\tTest : 96.62%(96.64%),\tCurrent Time: 20250917-192926\n",
      "First_asymm_AG_N-HL_resP-EP_L10-P0.1-MNIST_EP_b_sc0.1- Time: 20250917-192926, Epochs: 50, Learning Rate: 0.0005, Best: 98.69%  96.64%\n",
      "\n",
      "[[0 1 0 0 0 0 0 0 0 0 0 0]\n",
      " [0 0 1 0 0 0 0 0 0 0 0 0]\n",
      " [0 1 0 1 0 0 1 0 0 0 1 0]\n",
      " [0 0 1 0 1 0 0 0 0 0 0 0]\n",
      " [0 0 0 1 0 1 0 1 0 1 0 0]\n",
      " [0 0 0 0 1 0 1 0 0 0 0 0]\n",
      " [0 0 0 0 0 1 0 1 0 0 0 0]\n",
      " [0 0 0 0 0 0 1 0 1 0 0 0]\n",
      " [0 0 0 0 0 1 0 1 0 1 0 0]\n",
      " [0 0 0 0 0 0 0 0 1 0 1 0]\n",
      " [0 0 0 0 0 0 0 0 0 1 0 1]\n",
      " [0 0 0 0 0 0 0 0 0 0 1 0]]\n",
      "First_asymm_AG_N-HL_resP-EP_L10-P0.1-MNIST_EP_b_sc0.1-\n"
     ]
    },
    {
     "name": "stderr",
     "output_type": "stream",
     "text": [
      "Epoch 1/50:: 100%|\u001b[34m████████████████████\u001b[0m| 120/120 [00:02<00:00, 44.76batch/s, loss=2.210598]\u001b[0m\n"
     ]
    },
    {
     "name": "stdout",
     "output_type": "stream",
     "text": [
      "\t Loss: 265.272,\tTrain : 19.70%(19.70%),\tTest : 38.50%(38.50%),\tCurrent Time: 20250917-192933\n"
     ]
    },
    {
     "name": "stderr",
     "output_type": "stream",
     "text": [
      "Epoch 2/50:: 100%|\u001b[34m████████████████████\u001b[0m| 120/120 [00:02<00:00, 48.76batch/s, loss=1.479407]\u001b[0m\n"
     ]
    },
    {
     "name": "stdout",
     "output_type": "stream",
     "text": [
      "\t Loss: 177.529,\tTrain : 56.93%(56.93%),\tTest : 69.16%(69.16%),\tCurrent Time: 20250917-192936\n"
     ]
    },
    {
     "name": "stderr",
     "output_type": "stream",
     "text": [
      "Epoch 3/50:: 100%|\u001b[34m████████████████████\u001b[0m| 120/120 [00:02<00:00, 48.39batch/s, loss=1.000182]\u001b[0m\n"
     ]
    },
    {
     "name": "stdout",
     "output_type": "stream",
     "text": [
      "\t Loss: 120.022,\tTrain : 74.01%(74.01%),\tTest : 79.15%(79.15%),\tCurrent Time: 20250917-192939\n"
     ]
    },
    {
     "name": "stderr",
     "output_type": "stream",
     "text": [
      "Epoch 4/50:: 100%|\u001b[34m████████████████████\u001b[0m| 120/120 [00:02<00:00, 48.56batch/s, loss=0.760164]\u001b[0m\n"
     ]
    },
    {
     "name": "stdout",
     "output_type": "stream",
     "text": [
      "\t Loss: 91.220,\tTrain : 79.58%(79.58%),\tTest : 82.12%(82.12%),\tCurrent Time: 20250917-192941\n"
     ]
    },
    {
     "name": "stderr",
     "output_type": "stream",
     "text": [
      "Epoch 5/50:: 100%|\u001b[34m████████████████████\u001b[0m| 120/120 [00:02<00:00, 48.68batch/s, loss=0.644949]\u001b[0m\n"
     ]
    },
    {
     "name": "stdout",
     "output_type": "stream",
     "text": [
      "\t Loss: 77.394,\tTrain : 81.99%(81.99%),\tTest : 83.88%(83.88%),\tCurrent Time: 20250917-192944\n"
     ]
    },
    {
     "name": "stderr",
     "output_type": "stream",
     "text": [
      "Epoch 6/50:: 100%|\u001b[34m████████████████████\u001b[0m| 120/120 [00:02<00:00, 48.45batch/s, loss=0.575234]\u001b[0m\n"
     ]
    },
    {
     "name": "stdout",
     "output_type": "stream",
     "text": [
      "\t Loss: 69.028,\tTrain : 83.66%(83.66%),\tTest : 85.12%(85.12%),\tCurrent Time: 20250917-192946\n"
     ]
    },
    {
     "name": "stderr",
     "output_type": "stream",
     "text": [
      "Epoch 7/50:: 100%|\u001b[34m████████████████████\u001b[0m| 120/120 [00:02<00:00, 48.61batch/s, loss=0.525107]\u001b[0m\n"
     ]
    },
    {
     "name": "stdout",
     "output_type": "stream",
     "text": [
      "\t Loss: 63.013,\tTrain : 84.86%(84.86%),\tTest : 86.29%(86.29%),\tCurrent Time: 20250917-192949\n"
     ]
    },
    {
     "name": "stderr",
     "output_type": "stream",
     "text": [
      "Epoch 8/50:: 100%|\u001b[34m████████████████████\u001b[0m| 120/120 [00:02<00:00, 48.71batch/s, loss=0.484050]\u001b[0m\n"
     ]
    },
    {
     "name": "stdout",
     "output_type": "stream",
     "text": [
      "\t Loss: 58.086,\tTrain : 85.84%(85.84%),\tTest : 87.34%(87.34%),\tCurrent Time: 20250917-192951\n"
     ]
    },
    {
     "name": "stderr",
     "output_type": "stream",
     "text": [
      "Epoch 9/50:: 100%|\u001b[34m████████████████████\u001b[0m| 120/120 [00:02<00:00, 48.81batch/s, loss=0.451682]\u001b[0m\n"
     ]
    },
    {
     "name": "stdout",
     "output_type": "stream",
     "text": [
      "\t Loss: 54.202,\tTrain : 86.61%(86.61%),\tTest : 87.92%(87.92%),\tCurrent Time: 20250917-192954\n"
     ]
    },
    {
     "name": "stderr",
     "output_type": "stream",
     "text": [
      "Epoch 10/50:: 100%|\u001b[34m███████████████████\u001b[0m| 120/120 [00:02<00:00, 48.06batch/s, loss=0.425086]\u001b[0m\n"
     ]
    },
    {
     "name": "stdout",
     "output_type": "stream",
     "text": [
      "\t Loss: 51.010,\tTrain : 87.32%(87.32%),\tTest : 88.49%(88.49%),\tCurrent Time: 20250917-192956\n"
     ]
    },
    {
     "name": "stderr",
     "output_type": "stream",
     "text": [
      "Epoch 11/50:: 100%|\u001b[34m███████████████████\u001b[0m| 120/120 [00:02<00:00, 48.59batch/s, loss=0.404951]\u001b[0m\n"
     ]
    },
    {
     "name": "stdout",
     "output_type": "stream",
     "text": [
      "\t Loss: 48.594,\tTrain : 87.96%(87.96%),\tTest : 89.19%(89.19%),\tCurrent Time: 20250917-192959\n"
     ]
    },
    {
     "name": "stderr",
     "output_type": "stream",
     "text": [
      "Epoch 12/50:: 100%|\u001b[34m███████████████████\u001b[0m| 120/120 [00:02<00:00, 48.72batch/s, loss=0.386339]\u001b[0m\n"
     ]
    },
    {
     "name": "stdout",
     "output_type": "stream",
     "text": [
      "\t Loss: 46.361,\tTrain : 88.47%(88.47%),\tTest : 89.34%(89.34%),\tCurrent Time: 20250917-193002\n"
     ]
    },
    {
     "name": "stderr",
     "output_type": "stream",
     "text": [
      "Epoch 13/50:: 100%|\u001b[34m███████████████████\u001b[0m| 120/120 [00:02<00:00, 48.45batch/s, loss=0.371293]\u001b[0m\n"
     ]
    },
    {
     "name": "stdout",
     "output_type": "stream",
     "text": [
      "\t Loss: 44.555,\tTrain : 88.83%(88.83%),\tTest : 89.74%(89.74%),\tCurrent Time: 20250917-193004\n"
     ]
    },
    {
     "name": "stderr",
     "output_type": "stream",
     "text": [
      "Epoch 14/50:: 100%|\u001b[34m███████████████████\u001b[0m| 120/120 [00:02<00:00, 48.64batch/s, loss=0.356796]\u001b[0m\n"
     ]
    },
    {
     "name": "stdout",
     "output_type": "stream",
     "text": [
      "\t Loss: 42.816,\tTrain : 89.38%(89.38%),\tTest : 90.07%(90.07%),\tCurrent Time: 20250917-193007\n"
     ]
    },
    {
     "name": "stderr",
     "output_type": "stream",
     "text": [
      "Epoch 15/50:: 100%|\u001b[34m███████████████████\u001b[0m| 120/120 [00:02<00:00, 48.78batch/s, loss=0.345633]\u001b[0m\n"
     ]
    },
    {
     "name": "stdout",
     "output_type": "stream",
     "text": [
      "\t Loss: 41.476,\tTrain : 89.63%(89.63%),\tTest : 90.31%(90.31%),\tCurrent Time: 20250917-193009\n"
     ]
    },
    {
     "name": "stderr",
     "output_type": "stream",
     "text": [
      "Epoch 16/50:: 100%|\u001b[34m███████████████████\u001b[0m| 120/120 [00:02<00:00, 48.78batch/s, loss=0.335026]\u001b[0m\n"
     ]
    },
    {
     "name": "stdout",
     "output_type": "stream",
     "text": [
      "\t Loss: 40.203,\tTrain : 89.98%(89.98%),\tTest : 90.66%(90.66%),\tCurrent Time: 20250917-193012\n"
     ]
    },
    {
     "name": "stderr",
     "output_type": "stream",
     "text": [
      "Epoch 17/50:: 100%|\u001b[34m███████████████████\u001b[0m| 120/120 [00:02<00:00, 48.68batch/s, loss=0.325971]\u001b[0m\n"
     ]
    },
    {
     "name": "stdout",
     "output_type": "stream",
     "text": [
      "\t Loss: 39.117,\tTrain : 90.20%(90.20%),\tTest : 90.91%(90.91%),\tCurrent Time: 20250917-193014\n"
     ]
    },
    {
     "name": "stderr",
     "output_type": "stream",
     "text": [
      "Epoch 18/50:: 100%|\u001b[34m███████████████████\u001b[0m| 120/120 [00:02<00:00, 48.80batch/s, loss=0.313674]\u001b[0m\n"
     ]
    },
    {
     "name": "stdout",
     "output_type": "stream",
     "text": [
      "\t Loss: 37.641,\tTrain : 90.59%(90.59%),\tTest : 90.93%(90.93%),\tCurrent Time: 20250917-193017\n"
     ]
    },
    {
     "name": "stderr",
     "output_type": "stream",
     "text": [
      "Epoch 19/50:: 100%|\u001b[34m███████████████████\u001b[0m| 120/120 [00:02<00:00, 48.89batch/s, loss=0.303476]\u001b[0m\n"
     ]
    },
    {
     "name": "stdout",
     "output_type": "stream",
     "text": [
      "\t Loss: 36.417,\tTrain : 90.98%(90.98%),\tTest : 91.31%(91.31%),\tCurrent Time: 20250917-193019\n"
     ]
    },
    {
     "name": "stderr",
     "output_type": "stream",
     "text": [
      "Epoch 20/50:: 100%|\u001b[34m███████████████████\u001b[0m| 120/120 [00:02<00:00, 48.50batch/s, loss=0.295418]\u001b[0m\n"
     ]
    },
    {
     "name": "stdout",
     "output_type": "stream",
     "text": [
      "\t Loss: 35.450,\tTrain : 91.19%(91.19%),\tTest : 91.17%(91.31%),\tCurrent Time: 20250917-193022\n"
     ]
    },
    {
     "name": "stderr",
     "output_type": "stream",
     "text": [
      "Epoch 21/50:: 100%|\u001b[34m███████████████████\u001b[0m| 120/120 [00:02<00:00, 48.62batch/s, loss=0.286751]\u001b[0m\n"
     ]
    },
    {
     "name": "stdout",
     "output_type": "stream",
     "text": [
      "\t Loss: 34.410,\tTrain : 91.40%(91.40%),\tTest : 91.60%(91.60%),\tCurrent Time: 20250917-193024\n"
     ]
    },
    {
     "name": "stderr",
     "output_type": "stream",
     "text": [
      "Epoch 22/50:: 100%|\u001b[34m███████████████████\u001b[0m| 120/120 [00:02<00:00, 48.72batch/s, loss=0.281364]\u001b[0m\n"
     ]
    },
    {
     "name": "stdout",
     "output_type": "stream",
     "text": [
      "\t Loss: 33.764,\tTrain : 91.52%(91.52%),\tTest : 91.80%(91.80%),\tCurrent Time: 20250917-193027\n"
     ]
    },
    {
     "name": "stderr",
     "output_type": "stream",
     "text": [
      "Epoch 23/50:: 100%|\u001b[34m███████████████████\u001b[0m| 120/120 [00:02<00:00, 48.82batch/s, loss=0.277073]\u001b[0m\n"
     ]
    },
    {
     "name": "stdout",
     "output_type": "stream",
     "text": [
      "\t Loss: 33.249,\tTrain : 91.67%(91.67%),\tTest : 91.85%(91.85%),\tCurrent Time: 20250917-193030\n"
     ]
    },
    {
     "name": "stderr",
     "output_type": "stream",
     "text": [
      "Epoch 24/50:: 100%|\u001b[34m███████████████████\u001b[0m| 120/120 [00:02<00:00, 48.43batch/s, loss=0.269869]\u001b[0m\n"
     ]
    },
    {
     "name": "stdout",
     "output_type": "stream",
     "text": [
      "\t Loss: 32.384,\tTrain : 91.92%(91.92%),\tTest : 91.70%(91.85%),\tCurrent Time: 20250917-193032\n"
     ]
    },
    {
     "name": "stderr",
     "output_type": "stream",
     "text": [
      "Epoch 25/50:: 100%|\u001b[34m███████████████████\u001b[0m| 120/120 [00:02<00:00, 48.59batch/s, loss=0.264870]\u001b[0m\n"
     ]
    },
    {
     "name": "stdout",
     "output_type": "stream",
     "text": [
      "\t Loss: 31.784,\tTrain : 92.09%(92.09%),\tTest : 91.98%(91.98%),\tCurrent Time: 20250917-193035\n"
     ]
    },
    {
     "name": "stderr",
     "output_type": "stream",
     "text": [
      "Epoch 26/50:: 100%|\u001b[34m███████████████████\u001b[0m| 120/120 [00:02<00:00, 48.66batch/s, loss=0.261469]\u001b[0m\n"
     ]
    },
    {
     "name": "stdout",
     "output_type": "stream",
     "text": [
      "\t Loss: 31.376,\tTrain : 92.16%(92.16%),\tTest : 91.99%(91.99%),\tCurrent Time: 20250917-193037\n"
     ]
    },
    {
     "name": "stderr",
     "output_type": "stream",
     "text": [
      "Epoch 27/50:: 100%|\u001b[34m███████████████████\u001b[0m| 120/120 [00:02<00:00, 48.64batch/s, loss=0.256320]\u001b[0m\n"
     ]
    },
    {
     "name": "stdout",
     "output_type": "stream",
     "text": [
      "\t Loss: 30.758,\tTrain : 92.33%(92.33%),\tTest : 92.14%(92.14%),\tCurrent Time: 20250917-193040\n"
     ]
    },
    {
     "name": "stderr",
     "output_type": "stream",
     "text": [
      "Epoch 28/50:: 100%|\u001b[34m███████████████████\u001b[0m| 120/120 [00:02<00:00, 48.75batch/s, loss=0.250653]\u001b[0m\n"
     ]
    },
    {
     "name": "stdout",
     "output_type": "stream",
     "text": [
      "\t Loss: 30.078,\tTrain : 92.43%(92.43%),\tTest : 92.32%(92.32%),\tCurrent Time: 20250917-193042\n"
     ]
    },
    {
     "name": "stderr",
     "output_type": "stream",
     "text": [
      "Epoch 29/50:: 100%|\u001b[34m███████████████████\u001b[0m| 120/120 [00:02<00:00, 48.67batch/s, loss=0.246089]\u001b[0m\n"
     ]
    },
    {
     "name": "stdout",
     "output_type": "stream",
     "text": [
      "\t Loss: 29.531,\tTrain : 92.52%(92.52%),\tTest : 92.24%(92.32%),\tCurrent Time: 20250917-193045\n"
     ]
    },
    {
     "name": "stderr",
     "output_type": "stream",
     "text": [
      "Epoch 30/50:: 100%|\u001b[34m███████████████████\u001b[0m| 120/120 [00:02<00:00, 49.00batch/s, loss=0.242100]\u001b[0m\n"
     ]
    },
    {
     "name": "stdout",
     "output_type": "stream",
     "text": [
      "\t Loss: 29.052,\tTrain : 92.76%(92.76%),\tTest : 92.46%(92.46%),\tCurrent Time: 20250917-193047\n"
     ]
    },
    {
     "name": "stderr",
     "output_type": "stream",
     "text": [
      "Epoch 31/50:: 100%|\u001b[34m███████████████████\u001b[0m| 120/120 [00:02<00:00, 48.56batch/s, loss=0.238336]\u001b[0m\n"
     ]
    },
    {
     "name": "stdout",
     "output_type": "stream",
     "text": [
      "\t Loss: 28.600,\tTrain : 92.80%(92.80%),\tTest : 92.76%(92.76%),\tCurrent Time: 20250917-193050\n"
     ]
    },
    {
     "name": "stderr",
     "output_type": "stream",
     "text": [
      "Epoch 32/50:: 100%|\u001b[34m███████████████████\u001b[0m| 120/120 [00:02<00:00, 48.62batch/s, loss=0.231678]\u001b[0m\n"
     ]
    },
    {
     "name": "stdout",
     "output_type": "stream",
     "text": [
      "\t Loss: 27.801,\tTrain : 93.00%(93.00%),\tTest : 92.72%(92.76%),\tCurrent Time: 20250917-193052\n"
     ]
    },
    {
     "name": "stderr",
     "output_type": "stream",
     "text": [
      "Epoch 33/50:: 100%|\u001b[34m███████████████████\u001b[0m| 120/120 [00:02<00:00, 48.78batch/s, loss=0.229815]\u001b[0m\n"
     ]
    },
    {
     "name": "stdout",
     "output_type": "stream",
     "text": [
      "\t Loss: 27.578,\tTrain : 93.05%(93.05%),\tTest : 92.80%(92.80%),\tCurrent Time: 20250917-193055\n"
     ]
    },
    {
     "name": "stderr",
     "output_type": "stream",
     "text": [
      "Epoch 34/50:: 100%|\u001b[34m███████████████████\u001b[0m| 120/120 [00:02<00:00, 48.44batch/s, loss=0.224883]\u001b[0m\n"
     ]
    },
    {
     "name": "stdout",
     "output_type": "stream",
     "text": [
      "\t Loss: 26.986,\tTrain : 93.14%(93.14%),\tTest : 92.95%(92.95%),\tCurrent Time: 20250917-193058\n"
     ]
    },
    {
     "name": "stderr",
     "output_type": "stream",
     "text": [
      "Epoch 35/50:: 100%|\u001b[34m███████████████████\u001b[0m| 120/120 [00:02<00:00, 48.77batch/s, loss=0.221606]\u001b[0m\n"
     ]
    },
    {
     "name": "stdout",
     "output_type": "stream",
     "text": [
      "\t Loss: 26.593,\tTrain : 93.27%(93.27%),\tTest : 92.86%(92.95%),\tCurrent Time: 20250917-193100\n"
     ]
    },
    {
     "name": "stderr",
     "output_type": "stream",
     "text": [
      "Epoch 36/50:: 100%|\u001b[34m███████████████████\u001b[0m| 120/120 [00:02<00:00, 48.71batch/s, loss=0.217018]\u001b[0m\n"
     ]
    },
    {
     "name": "stdout",
     "output_type": "stream",
     "text": [
      "\t Loss: 26.042,\tTrain : 93.38%(93.38%),\tTest : 93.27%(93.27%),\tCurrent Time: 20250917-193103\n"
     ]
    },
    {
     "name": "stderr",
     "output_type": "stream",
     "text": [
      "Epoch 37/50:: 100%|\u001b[34m███████████████████\u001b[0m| 120/120 [00:02<00:00, 48.92batch/s, loss=0.212492]\u001b[0m\n"
     ]
    },
    {
     "name": "stdout",
     "output_type": "stream",
     "text": [
      "\t Loss: 25.499,\tTrain : 93.55%(93.55%),\tTest : 93.29%(93.29%),\tCurrent Time: 20250917-193105\n"
     ]
    },
    {
     "name": "stderr",
     "output_type": "stream",
     "text": [
      "Epoch 38/50:: 100%|\u001b[34m███████████████████\u001b[0m| 120/120 [00:02<00:00, 48.79batch/s, loss=0.209223]\u001b[0m\n"
     ]
    },
    {
     "name": "stdout",
     "output_type": "stream",
     "text": [
      "\t Loss: 25.107,\tTrain : 93.62%(93.62%),\tTest : 93.14%(93.29%),\tCurrent Time: 20250917-193108\n"
     ]
    },
    {
     "name": "stderr",
     "output_type": "stream",
     "text": [
      "Epoch 39/50:: 100%|\u001b[34m███████████████████\u001b[0m| 120/120 [00:02<00:00, 48.52batch/s, loss=0.205801]\u001b[0m\n"
     ]
    },
    {
     "name": "stdout",
     "output_type": "stream",
     "text": [
      "\t Loss: 24.696,\tTrain : 93.76%(93.76%),\tTest : 93.50%(93.50%),\tCurrent Time: 20250917-193110\n"
     ]
    },
    {
     "name": "stderr",
     "output_type": "stream",
     "text": [
      "Epoch 40/50:: 100%|\u001b[34m███████████████████\u001b[0m| 120/120 [00:02<00:00, 48.55batch/s, loss=0.202351]\u001b[0m\n"
     ]
    },
    {
     "name": "stdout",
     "output_type": "stream",
     "text": [
      "\t Loss: 24.282,\tTrain : 93.80%(93.80%),\tTest : 93.71%(93.71%),\tCurrent Time: 20250917-193113\n"
     ]
    },
    {
     "name": "stderr",
     "output_type": "stream",
     "text": [
      "Epoch 41/50:: 100%|\u001b[34m███████████████████\u001b[0m| 120/120 [00:02<00:00, 48.83batch/s, loss=0.200027]\u001b[0m\n"
     ]
    },
    {
     "name": "stdout",
     "output_type": "stream",
     "text": [
      "\t Loss: 24.003,\tTrain : 93.84%(93.84%),\tTest : 93.38%(93.71%),\tCurrent Time: 20250917-193115\n"
     ]
    },
    {
     "name": "stderr",
     "output_type": "stream",
     "text": [
      "Epoch 42/50:: 100%|\u001b[34m███████████████████\u001b[0m| 120/120 [00:02<00:00, 48.89batch/s, loss=0.197478]\u001b[0m\n"
     ]
    },
    {
     "name": "stdout",
     "output_type": "stream",
     "text": [
      "\t Loss: 23.697,\tTrain : 93.92%(93.92%),\tTest : 93.84%(93.84%),\tCurrent Time: 20250917-193118\n"
     ]
    },
    {
     "name": "stderr",
     "output_type": "stream",
     "text": [
      "Epoch 43/50:: 100%|\u001b[34m███████████████████\u001b[0m| 120/120 [00:02<00:00, 48.56batch/s, loss=0.192442]\u001b[0m\n"
     ]
    },
    {
     "name": "stdout",
     "output_type": "stream",
     "text": [
      "\t Loss: 23.093,\tTrain : 94.11%(94.11%),\tTest : 93.25%(93.84%),\tCurrent Time: 20250917-193121\n"
     ]
    },
    {
     "name": "stderr",
     "output_type": "stream",
     "text": [
      "Epoch 44/50:: 100%|\u001b[34m███████████████████\u001b[0m| 120/120 [00:02<00:00, 48.83batch/s, loss=0.191751]\u001b[0m\n"
     ]
    },
    {
     "name": "stdout",
     "output_type": "stream",
     "text": [
      "\t Loss: 23.010,\tTrain : 94.12%(94.12%),\tTest : 93.63%(93.84%),\tCurrent Time: 20250917-193123\n"
     ]
    },
    {
     "name": "stderr",
     "output_type": "stream",
     "text": [
      "Epoch 45/50:: 100%|\u001b[34m███████████████████\u001b[0m| 120/120 [00:02<00:00, 48.84batch/s, loss=0.189976]\u001b[0m\n"
     ]
    },
    {
     "name": "stdout",
     "output_type": "stream",
     "text": [
      "\t Loss: 22.797,\tTrain : 94.18%(94.18%),\tTest : 93.63%(93.84%),\tCurrent Time: 20250917-193126\n"
     ]
    },
    {
     "name": "stderr",
     "output_type": "stream",
     "text": [
      "Epoch 46/50:: 100%|\u001b[34m███████████████████\u001b[0m| 120/120 [00:02<00:00, 48.24batch/s, loss=0.185768]\u001b[0m\n"
     ]
    },
    {
     "name": "stdout",
     "output_type": "stream",
     "text": [
      "\t Loss: 22.292,\tTrain : 94.30%(94.30%),\tTest : 93.87%(93.87%),\tCurrent Time: 20250917-193128\n"
     ]
    },
    {
     "name": "stderr",
     "output_type": "stream",
     "text": [
      "Epoch 47/50:: 100%|\u001b[34m███████████████████\u001b[0m| 120/120 [00:02<00:00, 48.49batch/s, loss=0.188069]\u001b[0m\n"
     ]
    },
    {
     "name": "stdout",
     "output_type": "stream",
     "text": [
      "\t Loss: 22.568,\tTrain : 94.19%(94.30%),\tTest : 93.90%(93.90%),\tCurrent Time: 20250917-193131\n"
     ]
    },
    {
     "name": "stderr",
     "output_type": "stream",
     "text": [
      "Epoch 48/50:: 100%|\u001b[34m███████████████████\u001b[0m| 120/120 [00:02<00:00, 48.39batch/s, loss=0.183888]\u001b[0m\n"
     ]
    },
    {
     "name": "stdout",
     "output_type": "stream",
     "text": [
      "\t Loss: 22.067,\tTrain : 94.29%(94.30%),\tTest : 93.98%(93.98%),\tCurrent Time: 20250917-193133\n"
     ]
    },
    {
     "name": "stderr",
     "output_type": "stream",
     "text": [
      "Epoch 49/50:: 100%|\u001b[34m███████████████████\u001b[0m| 120/120 [00:02<00:00, 48.67batch/s, loss=0.180413]\u001b[0m\n"
     ]
    },
    {
     "name": "stdout",
     "output_type": "stream",
     "text": [
      "\t Loss: 21.650,\tTrain : 94.43%(94.43%),\tTest : 93.93%(93.98%),\tCurrent Time: 20250917-193136\n"
     ]
    },
    {
     "name": "stderr",
     "output_type": "stream",
     "text": [
      "Epoch 50/50:: 100%|\u001b[34m███████████████████\u001b[0m| 120/120 [00:02<00:00, 48.26batch/s, loss=0.177784]\u001b[0m\n"
     ]
    },
    {
     "name": "stdout",
     "output_type": "stream",
     "text": [
      "\t Loss: 21.334,\tTrain : 94.42%(94.43%),\tTest : 93.64%(93.98%),\tCurrent Time: 20250917-193138\n",
      "First_asymm_AG_N-HL_resP-EP_L10-P0.1-MNIST_EP_b_sc0.1- Time: 20250917-193138, Epochs: 50, Learning Rate: 0.0005, Best: 94.43%  93.98%\n",
      "\n",
      "[[0 1 0 0 0 0 0 0 0 0 0 0]\n",
      " [0 0 1 0 0 0 0 0 0 0 0 0]\n",
      " [0 1 0 1 1 0 0 0 1 0 0 0]\n",
      " [0 0 1 0 1 0 0 0 0 0 0 0]\n",
      " [0 0 0 1 0 1 0 0 0 0 0 0]\n",
      " [0 1 0 0 1 0 1 1 0 0 0 0]\n",
      " [0 0 0 0 0 1 0 1 0 0 0 0]\n",
      " [0 1 0 0 0 0 1 0 1 0 0 0]\n",
      " [0 0 0 0 0 1 0 1 0 1 1 0]\n",
      " [0 0 0 1 0 0 0 0 1 0 1 0]\n",
      " [0 1 0 0 0 0 0 0 0 1 0 1]\n",
      " [0 0 0 0 0 0 0 0 0 0 1 0]]\n",
      "First_asymm_AG_N-HL_resP-EP_L10-P0.1-MNIST_EP_b_sc0.1-\n"
     ]
    },
    {
     "name": "stderr",
     "output_type": "stream",
     "text": [
      "Epoch 1/50:: 100%|\u001b[34m████████████████████\u001b[0m| 120/120 [00:02<00:00, 44.47batch/s, loss=2.178205]\u001b[0m\n"
     ]
    },
    {
     "name": "stdout",
     "output_type": "stream",
     "text": [
      "\t Loss: 261.385,\tTrain : 22.76%(22.76%),\tTest : 42.04%(42.04%),\tCurrent Time: 20250917-193146\n"
     ]
    },
    {
     "name": "stderr",
     "output_type": "stream",
     "text": [
      "Epoch 2/50:: 100%|\u001b[34m████████████████████\u001b[0m| 120/120 [00:02<00:00, 48.30batch/s, loss=1.272088]\u001b[0m\n"
     ]
    },
    {
     "name": "stdout",
     "output_type": "stream",
     "text": [
      "\t Loss: 152.651,\tTrain : 63.52%(63.52%),\tTest : 82.17%(82.17%),\tCurrent Time: 20250917-193148\n"
     ]
    },
    {
     "name": "stderr",
     "output_type": "stream",
     "text": [
      "Epoch 3/50:: 100%|\u001b[34m████████████████████\u001b[0m| 120/120 [00:02<00:00, 48.55batch/s, loss=0.652471]\u001b[0m\n"
     ]
    },
    {
     "name": "stdout",
     "output_type": "stream",
     "text": [
      "\t Loss: 78.296,\tTrain : 86.18%(86.18%),\tTest : 88.63%(88.63%),\tCurrent Time: 20250917-193151\n"
     ]
    },
    {
     "name": "stderr",
     "output_type": "stream",
     "text": [
      "Epoch 4/50:: 100%|\u001b[34m████████████████████\u001b[0m| 120/120 [00:02<00:00, 48.47batch/s, loss=0.445079]\u001b[0m\n"
     ]
    },
    {
     "name": "stdout",
     "output_type": "stream",
     "text": [
      "\t Loss: 53.409,\tTrain : 89.55%(89.55%),\tTest : 90.53%(90.53%),\tCurrent Time: 20250917-193153\n"
     ]
    },
    {
     "name": "stderr",
     "output_type": "stream",
     "text": [
      "Epoch 5/50:: 100%|\u001b[34m████████████████████\u001b[0m| 120/120 [00:02<00:00, 48.49batch/s, loss=0.358648]\u001b[0m\n"
     ]
    },
    {
     "name": "stdout",
     "output_type": "stream",
     "text": [
      "\t Loss: 43.038,\tTrain : 91.02%(91.02%),\tTest : 91.32%(91.32%),\tCurrent Time: 20250917-193156\n"
     ]
    },
    {
     "name": "stderr",
     "output_type": "stream",
     "text": [
      "Epoch 6/50:: 100%|\u001b[34m████████████████████\u001b[0m| 120/120 [00:02<00:00, 48.73batch/s, loss=0.311671]\u001b[0m\n"
     ]
    },
    {
     "name": "stdout",
     "output_type": "stream",
     "text": [
      "\t Loss: 37.400,\tTrain : 91.93%(91.93%),\tTest : 91.90%(91.90%),\tCurrent Time: 20250917-193158\n"
     ]
    },
    {
     "name": "stderr",
     "output_type": "stream",
     "text": [
      "Epoch 7/50:: 100%|\u001b[34m████████████████████\u001b[0m| 120/120 [00:02<00:00, 48.64batch/s, loss=0.294344]\u001b[0m\n"
     ]
    },
    {
     "name": "stdout",
     "output_type": "stream",
     "text": [
      "\t Loss: 35.321,\tTrain : 92.30%(92.30%),\tTest : 92.48%(92.48%),\tCurrent Time: 20250917-193201\n"
     ]
    },
    {
     "name": "stderr",
     "output_type": "stream",
     "text": [
      "Epoch 8/50:: 100%|\u001b[34m████████████████████\u001b[0m| 120/120 [00:02<00:00, 48.24batch/s, loss=0.267793]\u001b[0m\n"
     ]
    },
    {
     "name": "stdout",
     "output_type": "stream",
     "text": [
      "\t Loss: 32.135,\tTrain : 92.91%(92.91%),\tTest : 93.06%(93.06%),\tCurrent Time: 20250917-193203\n"
     ]
    },
    {
     "name": "stderr",
     "output_type": "stream",
     "text": [
      "Epoch 9/50:: 100%|\u001b[34m████████████████████\u001b[0m| 120/120 [00:02<00:00, 48.29batch/s, loss=0.251613]\u001b[0m\n"
     ]
    },
    {
     "name": "stdout",
     "output_type": "stream",
     "text": [
      "\t Loss: 30.194,\tTrain : 93.11%(93.11%),\tTest : 93.15%(93.15%),\tCurrent Time: 20250917-193206\n"
     ]
    },
    {
     "name": "stderr",
     "output_type": "stream",
     "text": [
      "Epoch 10/50:: 100%|\u001b[34m███████████████████\u001b[0m| 120/120 [00:02<00:00, 48.67batch/s, loss=0.230884]\u001b[0m\n"
     ]
    },
    {
     "name": "stdout",
     "output_type": "stream",
     "text": [
      "\t Loss: 27.706,\tTrain : 93.69%(93.69%),\tTest : 93.74%(93.74%),\tCurrent Time: 20250917-193209\n"
     ]
    },
    {
     "name": "stderr",
     "output_type": "stream",
     "text": [
      "Epoch 11/50:: 100%|\u001b[34m███████████████████\u001b[0m| 120/120 [00:02<00:00, 48.52batch/s, loss=0.211999]\u001b[0m\n"
     ]
    },
    {
     "name": "stdout",
     "output_type": "stream",
     "text": [
      "\t Loss: 25.440,\tTrain : 94.16%(94.16%),\tTest : 94.05%(94.05%),\tCurrent Time: 20250917-193211\n"
     ]
    },
    {
     "name": "stderr",
     "output_type": "stream",
     "text": [
      "Epoch 12/50:: 100%|\u001b[34m███████████████████\u001b[0m| 120/120 [00:02<00:00, 48.55batch/s, loss=0.199958]\u001b[0m\n"
     ]
    },
    {
     "name": "stdout",
     "output_type": "stream",
     "text": [
      "\t Loss: 23.995,\tTrain : 94.52%(94.52%),\tTest : 94.25%(94.25%),\tCurrent Time: 20250917-193214\n"
     ]
    },
    {
     "name": "stderr",
     "output_type": "stream",
     "text": [
      "Epoch 13/50:: 100%|\u001b[34m███████████████████\u001b[0m| 120/120 [00:02<00:00, 48.66batch/s, loss=0.192179]\u001b[0m\n"
     ]
    },
    {
     "name": "stdout",
     "output_type": "stream",
     "text": [
      "\t Loss: 23.061,\tTrain : 94.71%(94.71%),\tTest : 94.34%(94.34%),\tCurrent Time: 20250917-193216\n"
     ]
    },
    {
     "name": "stderr",
     "output_type": "stream",
     "text": [
      "Epoch 14/50:: 100%|\u001b[34m███████████████████\u001b[0m| 120/120 [00:02<00:00, 48.85batch/s, loss=0.184161]\u001b[0m\n"
     ]
    },
    {
     "name": "stdout",
     "output_type": "stream",
     "text": [
      "\t Loss: 22.099,\tTrain : 94.93%(94.93%),\tTest : 94.55%(94.55%),\tCurrent Time: 20250917-193219\n"
     ]
    },
    {
     "name": "stderr",
     "output_type": "stream",
     "text": [
      "Epoch 15/50:: 100%|\u001b[34m███████████████████\u001b[0m| 120/120 [00:02<00:00, 48.62batch/s, loss=0.176416]\u001b[0m\n"
     ]
    },
    {
     "name": "stdout",
     "output_type": "stream",
     "text": [
      "\t Loss: 21.170,\tTrain : 95.10%(95.10%),\tTest : 94.65%(94.65%),\tCurrent Time: 20250917-193221\n"
     ]
    },
    {
     "name": "stderr",
     "output_type": "stream",
     "text": [
      "Epoch 16/50:: 100%|\u001b[34m███████████████████\u001b[0m| 120/120 [00:02<00:00, 48.52batch/s, loss=0.166072]\u001b[0m\n"
     ]
    },
    {
     "name": "stdout",
     "output_type": "stream",
     "text": [
      "\t Loss: 19.929,\tTrain : 95.33%(95.33%),\tTest : 94.63%(94.65%),\tCurrent Time: 20250917-193224\n"
     ]
    },
    {
     "name": "stderr",
     "output_type": "stream",
     "text": [
      "Epoch 17/50:: 100%|\u001b[34m███████████████████\u001b[0m| 120/120 [00:02<00:00, 48.54batch/s, loss=0.155838]\u001b[0m\n"
     ]
    },
    {
     "name": "stdout",
     "output_type": "stream",
     "text": [
      "\t Loss: 18.701,\tTrain : 95.59%(95.59%),\tTest : 95.07%(95.07%),\tCurrent Time: 20250917-193226\n"
     ]
    },
    {
     "name": "stderr",
     "output_type": "stream",
     "text": [
      "Epoch 18/50:: 100%|\u001b[34m███████████████████\u001b[0m| 120/120 [00:02<00:00, 48.57batch/s, loss=0.149382]\u001b[0m\n"
     ]
    },
    {
     "name": "stdout",
     "output_type": "stream",
     "text": [
      "\t Loss: 17.926,\tTrain : 95.72%(95.72%),\tTest : 94.99%(95.07%),\tCurrent Time: 20250917-193229\n"
     ]
    },
    {
     "name": "stderr",
     "output_type": "stream",
     "text": [
      "Epoch 19/50:: 100%|\u001b[34m███████████████████\u001b[0m| 120/120 [00:02<00:00, 48.67batch/s, loss=0.146569]\u001b[0m\n"
     ]
    },
    {
     "name": "stdout",
     "output_type": "stream",
     "text": [
      "\t Loss: 17.588,\tTrain : 95.83%(95.83%),\tTest : 95.13%(95.13%),\tCurrent Time: 20250917-193232\n"
     ]
    },
    {
     "name": "stderr",
     "output_type": "stream",
     "text": [
      "Epoch 20/50:: 100%|\u001b[34m███████████████████\u001b[0m| 120/120 [00:02<00:00, 48.59batch/s, loss=0.139907]\u001b[0m\n"
     ]
    },
    {
     "name": "stdout",
     "output_type": "stream",
     "text": [
      "\t Loss: 16.789,\tTrain : 95.99%(95.99%),\tTest : 95.12%(95.13%),\tCurrent Time: 20250917-193234\n"
     ]
    },
    {
     "name": "stderr",
     "output_type": "stream",
     "text": [
      "Epoch 21/50:: 100%|\u001b[34m███████████████████\u001b[0m| 120/120 [00:02<00:00, 48.51batch/s, loss=0.135449]\u001b[0m\n"
     ]
    },
    {
     "name": "stdout",
     "output_type": "stream",
     "text": [
      "\t Loss: 16.254,\tTrain : 96.14%(96.14%),\tTest : 95.30%(95.30%),\tCurrent Time: 20250917-193237\n"
     ]
    },
    {
     "name": "stderr",
     "output_type": "stream",
     "text": [
      "Epoch 22/50:: 100%|\u001b[34m███████████████████\u001b[0m| 120/120 [00:02<00:00, 48.61batch/s, loss=0.130484]\u001b[0m\n"
     ]
    },
    {
     "name": "stdout",
     "output_type": "stream",
     "text": [
      "\t Loss: 15.658,\tTrain : 96.24%(96.24%),\tTest : 95.68%(95.68%),\tCurrent Time: 20250917-193239\n"
     ]
    },
    {
     "name": "stderr",
     "output_type": "stream",
     "text": [
      "Epoch 23/50:: 100%|\u001b[34m███████████████████\u001b[0m| 120/120 [00:02<00:00, 48.67batch/s, loss=0.124427]\u001b[0m\n"
     ]
    },
    {
     "name": "stdout",
     "output_type": "stream",
     "text": [
      "\t Loss: 14.931,\tTrain : 96.37%(96.37%),\tTest : 95.17%(95.68%),\tCurrent Time: 20250917-193242\n"
     ]
    },
    {
     "name": "stderr",
     "output_type": "stream",
     "text": [
      "Epoch 24/50:: 100%|\u001b[34m███████████████████\u001b[0m| 120/120 [00:02<00:00, 48.36batch/s, loss=0.119125]\u001b[0m\n"
     ]
    },
    {
     "name": "stdout",
     "output_type": "stream",
     "text": [
      "\t Loss: 14.295,\tTrain : 96.50%(96.50%),\tTest : 95.65%(95.68%),\tCurrent Time: 20250917-193244\n"
     ]
    },
    {
     "name": "stderr",
     "output_type": "stream",
     "text": [
      "Epoch 25/50:: 100%|\u001b[34m███████████████████\u001b[0m| 120/120 [00:02<00:00, 48.63batch/s, loss=0.114609]\u001b[0m\n"
     ]
    },
    {
     "name": "stdout",
     "output_type": "stream",
     "text": [
      "\t Loss: 13.753,\tTrain : 96.58%(96.58%),\tTest : 95.77%(95.77%),\tCurrent Time: 20250917-193247\n"
     ]
    },
    {
     "name": "stderr",
     "output_type": "stream",
     "text": [
      "Epoch 26/50:: 100%|\u001b[34m███████████████████\u001b[0m| 120/120 [00:02<00:00, 48.72batch/s, loss=0.113160]\u001b[0m\n"
     ]
    },
    {
     "name": "stdout",
     "output_type": "stream",
     "text": [
      "\t Loss: 13.579,\tTrain : 96.66%(96.66%),\tTest : 95.89%(95.89%),\tCurrent Time: 20250917-193249\n"
     ]
    },
    {
     "name": "stderr",
     "output_type": "stream",
     "text": [
      "Epoch 27/50:: 100%|\u001b[34m███████████████████\u001b[0m| 120/120 [00:02<00:00, 48.49batch/s, loss=0.111148]\u001b[0m\n"
     ]
    },
    {
     "name": "stdout",
     "output_type": "stream",
     "text": [
      "\t Loss: 13.338,\tTrain : 96.71%(96.71%),\tTest : 95.75%(95.89%),\tCurrent Time: 20250917-193252\n"
     ]
    },
    {
     "name": "stderr",
     "output_type": "stream",
     "text": [
      "Epoch 28/50:: 100%|\u001b[34m███████████████████\u001b[0m| 120/120 [00:02<00:00, 48.55batch/s, loss=0.108103]\u001b[0m\n"
     ]
    },
    {
     "name": "stdout",
     "output_type": "stream",
     "text": [
      "\t Loss: 12.972,\tTrain : 96.75%(96.75%),\tTest : 95.79%(95.89%),\tCurrent Time: 20250917-193255\n"
     ]
    },
    {
     "name": "stderr",
     "output_type": "stream",
     "text": [
      "Epoch 29/50:: 100%|\u001b[34m███████████████████\u001b[0m| 120/120 [00:02<00:00, 48.29batch/s, loss=0.102877]\u001b[0m\n"
     ]
    },
    {
     "name": "stdout",
     "output_type": "stream",
     "text": [
      "\t Loss: 12.345,\tTrain : 96.96%(96.96%),\tTest : 95.97%(95.97%),\tCurrent Time: 20250917-193257\n"
     ]
    },
    {
     "name": "stderr",
     "output_type": "stream",
     "text": [
      "Epoch 30/50:: 100%|\u001b[34m███████████████████\u001b[0m| 120/120 [00:02<00:00, 48.25batch/s, loss=0.099211]\u001b[0m\n"
     ]
    },
    {
     "name": "stdout",
     "output_type": "stream",
     "text": [
      "\t Loss: 11.905,\tTrain : 97.06%(97.06%),\tTest : 96.15%(96.15%),\tCurrent Time: 20250917-193300\n"
     ]
    },
    {
     "name": "stderr",
     "output_type": "stream",
     "text": [
      "Epoch 31/50:: 100%|\u001b[34m███████████████████\u001b[0m| 120/120 [00:02<00:00, 48.58batch/s, loss=0.094576]\u001b[0m\n"
     ]
    },
    {
     "name": "stdout",
     "output_type": "stream",
     "text": [
      "\t Loss: 11.349,\tTrain : 97.17%(97.17%),\tTest : 96.02%(96.15%),\tCurrent Time: 20250917-193302\n"
     ]
    },
    {
     "name": "stderr",
     "output_type": "stream",
     "text": [
      "Epoch 32/50:: 100%|\u001b[34m███████████████████\u001b[0m| 120/120 [00:02<00:00, 48.44batch/s, loss=0.091634]\u001b[0m\n"
     ]
    },
    {
     "name": "stdout",
     "output_type": "stream",
     "text": [
      "\t Loss: 10.996,\tTrain : 97.26%(97.26%),\tTest : 96.09%(96.15%),\tCurrent Time: 20250917-193305\n"
     ]
    },
    {
     "name": "stderr",
     "output_type": "stream",
     "text": [
      "Epoch 33/50:: 100%|\u001b[34m███████████████████\u001b[0m| 120/120 [00:02<00:00, 48.45batch/s, loss=0.089509]\u001b[0m\n"
     ]
    },
    {
     "name": "stdout",
     "output_type": "stream",
     "text": [
      "\t Loss: 10.741,\tTrain : 97.33%(97.33%),\tTest : 96.06%(96.15%),\tCurrent Time: 20250917-193307\n"
     ]
    },
    {
     "name": "stderr",
     "output_type": "stream",
     "text": [
      "Epoch 34/50:: 100%|\u001b[34m███████████████████\u001b[0m| 120/120 [00:02<00:00, 48.45batch/s, loss=0.086187]\u001b[0m\n"
     ]
    },
    {
     "name": "stdout",
     "output_type": "stream",
     "text": [
      "\t Loss: 10.342,\tTrain : 97.46%(97.46%),\tTest : 96.01%(96.15%),\tCurrent Time: 20250917-193310\n"
     ]
    },
    {
     "name": "stderr",
     "output_type": "stream",
     "text": [
      "Epoch 35/50:: 100%|\u001b[34m███████████████████\u001b[0m| 120/120 [00:02<00:00, 48.76batch/s, loss=0.084862]\u001b[0m\n"
     ]
    },
    {
     "name": "stdout",
     "output_type": "stream",
     "text": [
      "\t Loss: 10.183,\tTrain : 97.51%(97.51%),\tTest : 96.26%(96.26%),\tCurrent Time: 20250917-193312\n"
     ]
    },
    {
     "name": "stderr",
     "output_type": "stream",
     "text": [
      "Epoch 36/50:: 100%|\u001b[34m███████████████████\u001b[0m| 120/120 [00:02<00:00, 48.38batch/s, loss=0.081183]\u001b[0m\n"
     ]
    },
    {
     "name": "stdout",
     "output_type": "stream",
     "text": [
      "\t Loss: 9.742,\tTrain : 97.60%(97.60%),\tTest : 96.24%(96.26%),\tCurrent Time: 20250917-193315\n"
     ]
    },
    {
     "name": "stderr",
     "output_type": "stream",
     "text": [
      "Epoch 37/50:: 100%|\u001b[34m███████████████████\u001b[0m| 120/120 [00:02<00:00, 48.42batch/s, loss=0.078977]\u001b[0m\n"
     ]
    },
    {
     "name": "stdout",
     "output_type": "stream",
     "text": [
      "\t Loss: 9.477,\tTrain : 97.65%(97.65%),\tTest : 96.42%(96.42%),\tCurrent Time: 20250917-193318\n"
     ]
    },
    {
     "name": "stderr",
     "output_type": "stream",
     "text": [
      "Epoch 38/50:: 100%|\u001b[34m███████████████████\u001b[0m| 120/120 [00:02<00:00, 48.62batch/s, loss=0.074066]\u001b[0m\n"
     ]
    },
    {
     "name": "stdout",
     "output_type": "stream",
     "text": [
      "\t Loss: 8.888,\tTrain : 97.76%(97.76%),\tTest : 96.38%(96.42%),\tCurrent Time: 20250917-193320\n"
     ]
    },
    {
     "name": "stderr",
     "output_type": "stream",
     "text": [
      "Epoch 39/50:: 100%|\u001b[34m███████████████████\u001b[0m| 120/120 [00:02<00:00, 48.51batch/s, loss=0.072187]\u001b[0m\n"
     ]
    },
    {
     "name": "stdout",
     "output_type": "stream",
     "text": [
      "\t Loss: 8.662,\tTrain : 97.83%(97.83%),\tTest : 96.39%(96.42%),\tCurrent Time: 20250917-193323\n"
     ]
    },
    {
     "name": "stderr",
     "output_type": "stream",
     "text": [
      "Epoch 40/50:: 100%|\u001b[34m███████████████████\u001b[0m| 120/120 [00:02<00:00, 48.35batch/s, loss=0.070025]\u001b[0m\n"
     ]
    },
    {
     "name": "stdout",
     "output_type": "stream",
     "text": [
      "\t Loss: 8.403,\tTrain : 97.87%(97.87%),\tTest : 96.32%(96.42%),\tCurrent Time: 20250917-193325\n"
     ]
    },
    {
     "name": "stderr",
     "output_type": "stream",
     "text": [
      "Epoch 41/50:: 100%|\u001b[34m███████████████████\u001b[0m| 120/120 [00:02<00:00, 48.63batch/s, loss=0.068825]\u001b[0m\n"
     ]
    },
    {
     "name": "stdout",
     "output_type": "stream",
     "text": [
      "\t Loss: 8.259,\tTrain : 97.92%(97.92%),\tTest : 96.32%(96.42%),\tCurrent Time: 20250917-193328\n"
     ]
    },
    {
     "name": "stderr",
     "output_type": "stream",
     "text": [
      "Epoch 42/50:: 100%|\u001b[34m███████████████████\u001b[0m| 120/120 [00:02<00:00, 48.74batch/s, loss=0.066850]\u001b[0m\n"
     ]
    },
    {
     "name": "stdout",
     "output_type": "stream",
     "text": [
      "\t Loss: 8.022,\tTrain : 98.01%(98.01%),\tTest : 96.25%(96.42%),\tCurrent Time: 20250917-193330\n"
     ]
    },
    {
     "name": "stderr",
     "output_type": "stream",
     "text": [
      "Epoch 43/50:: 100%|\u001b[34m███████████████████\u001b[0m| 120/120 [00:02<00:00, 48.55batch/s, loss=0.066803]\u001b[0m\n"
     ]
    },
    {
     "name": "stdout",
     "output_type": "stream",
     "text": [
      "\t Loss: 8.016,\tTrain : 98.03%(98.03%),\tTest : 96.28%(96.42%),\tCurrent Time: 20250917-193333\n"
     ]
    },
    {
     "name": "stderr",
     "output_type": "stream",
     "text": [
      "Epoch 44/50:: 100%|\u001b[34m███████████████████\u001b[0m| 120/120 [00:02<00:00, 48.37batch/s, loss=0.062520]\u001b[0m\n"
     ]
    },
    {
     "name": "stdout",
     "output_type": "stream",
     "text": [
      "\t Loss: 7.502,\tTrain : 98.16%(98.16%),\tTest : 96.32%(96.42%),\tCurrent Time: 20250917-193335\n"
     ]
    },
    {
     "name": "stderr",
     "output_type": "stream",
     "text": [
      "Epoch 45/50:: 100%|\u001b[34m███████████████████\u001b[0m| 120/120 [00:02<00:00, 48.56batch/s, loss=0.059639]\u001b[0m\n"
     ]
    },
    {
     "name": "stdout",
     "output_type": "stream",
     "text": [
      "\t Loss: 7.157,\tTrain : 98.24%(98.24%),\tTest : 96.40%(96.42%),\tCurrent Time: 20250917-193338\n"
     ]
    },
    {
     "name": "stderr",
     "output_type": "stream",
     "text": [
      "Epoch 46/50:: 100%|\u001b[34m███████████████████\u001b[0m| 120/120 [00:02<00:00, 48.50batch/s, loss=0.057141]\u001b[0m\n"
     ]
    },
    {
     "name": "stdout",
     "output_type": "stream",
     "text": [
      "\t Loss: 6.857,\tTrain : 98.31%(98.31%),\tTest : 96.24%(96.42%),\tCurrent Time: 20250917-193341\n"
     ]
    },
    {
     "name": "stderr",
     "output_type": "stream",
     "text": [
      "Epoch 47/50:: 100%|\u001b[34m███████████████████\u001b[0m| 120/120 [00:02<00:00, 48.37batch/s, loss=0.054683]\u001b[0m\n"
     ]
    },
    {
     "name": "stdout",
     "output_type": "stream",
     "text": [
      "\t Loss: 6.562,\tTrain : 98.40%(98.40%),\tTest : 96.31%(96.42%),\tCurrent Time: 20250917-193343\n"
     ]
    },
    {
     "name": "stderr",
     "output_type": "stream",
     "text": [
      "Epoch 48/50:: 100%|\u001b[34m███████████████████\u001b[0m| 120/120 [00:02<00:00, 48.42batch/s, loss=0.052384]\u001b[0m\n"
     ]
    },
    {
     "name": "stdout",
     "output_type": "stream",
     "text": [
      "\t Loss: 6.286,\tTrain : 98.49%(98.49%),\tTest : 96.24%(96.42%),\tCurrent Time: 20250917-193346\n"
     ]
    },
    {
     "name": "stderr",
     "output_type": "stream",
     "text": [
      "Epoch 49/50:: 100%|\u001b[34m███████████████████\u001b[0m| 120/120 [00:02<00:00, 48.69batch/s, loss=0.052506]\u001b[0m\n"
     ]
    },
    {
     "name": "stdout",
     "output_type": "stream",
     "text": [
      "\t Loss: 6.301,\tTrain : 98.45%(98.49%),\tTest : 96.32%(96.42%),\tCurrent Time: 20250917-193348\n"
     ]
    },
    {
     "name": "stderr",
     "output_type": "stream",
     "text": [
      "Epoch 50/50:: 100%|\u001b[34m███████████████████\u001b[0m| 120/120 [00:02<00:00, 48.61batch/s, loss=0.051122]\u001b[0m\n"
     ]
    },
    {
     "name": "stdout",
     "output_type": "stream",
     "text": [
      "\t Loss: 6.135,\tTrain : 98.50%(98.50%),\tTest : 96.19%(96.42%),\tCurrent Time: 20250917-193351\n",
      "First_asymm_AG_N-HL_resP-EP_L10-P0.1-MNIST_EP_b_sc0.1- Time: 20250917-193351, Epochs: 50, Learning Rate: 0.0005, Best: 98.50%  96.42%\n",
      "\n",
      "[[0 1 0 0 0 0 0 0 0 0 0 0]\n",
      " [0 0 1 0 0 0 0 0 0 0 0 0]\n",
      " [0 1 0 1 0 1 0 0 0 1 0 0]\n",
      " [0 0 1 0 1 0 1 0 0 1 0 0]\n",
      " [0 1 0 1 0 1 0 0 0 1 0 0]\n",
      " [0 0 0 0 1 0 1 0 0 0 0 0]\n",
      " [0 0 0 0 0 1 0 1 0 0 0 0]\n",
      " [0 0 1 0 0 0 1 0 1 0 0 0]\n",
      " [0 0 0 1 0 0 0 1 0 1 1 0]\n",
      " [0 0 0 0 0 1 0 0 1 0 1 0]\n",
      " [0 0 0 0 0 0 0 0 1 1 0 1]\n",
      " [0 0 0 0 0 0 0 0 0 0 1 0]]\n",
      "First_asymm_AG_N-HL_resP-EP_L10-P0.1-MNIST_EP_b_sc0.1-\n"
     ]
    },
    {
     "name": "stderr",
     "output_type": "stream",
     "text": [
      "Epoch 1/50:: 100%|\u001b[34m████████████████████\u001b[0m| 120/120 [00:02<00:00, 43.70batch/s, loss=2.082840]\u001b[0m\n"
     ]
    },
    {
     "name": "stdout",
     "output_type": "stream",
     "text": [
      "\t Loss: 249.941,\tTrain : 27.05%(27.05%),\tTest : 49.91%(49.91%),\tCurrent Time: 20250917-193358\n"
     ]
    },
    {
     "name": "stderr",
     "output_type": "stream",
     "text": [
      "Epoch 2/50:: 100%|\u001b[34m████████████████████\u001b[0m| 120/120 [00:02<00:00, 47.46batch/s, loss=1.268666]\u001b[0m\n"
     ]
    },
    {
     "name": "stdout",
     "output_type": "stream",
     "text": [
      "\t Loss: 152.240,\tTrain : 67.33%(67.33%),\tTest : 83.55%(83.55%),\tCurrent Time: 20250917-193401\n"
     ]
    },
    {
     "name": "stderr",
     "output_type": "stream",
     "text": [
      "Epoch 3/50:: 100%|\u001b[34m████████████████████\u001b[0m| 120/120 [00:02<00:00, 47.30batch/s, loss=0.653786]\u001b[0m\n"
     ]
    },
    {
     "name": "stdout",
     "output_type": "stream",
     "text": [
      "\t Loss: 78.454,\tTrain : 85.69%(85.69%),\tTest : 87.92%(87.92%),\tCurrent Time: 20250917-193403\n"
     ]
    },
    {
     "name": "stderr",
     "output_type": "stream",
     "text": [
      "Epoch 4/50:: 100%|\u001b[34m████████████████████\u001b[0m| 120/120 [00:02<00:00, 47.52batch/s, loss=0.457365]\u001b[0m\n"
     ]
    },
    {
     "name": "stdout",
     "output_type": "stream",
     "text": [
      "\t Loss: 54.884,\tTrain : 88.43%(88.43%),\tTest : 89.92%(89.92%),\tCurrent Time: 20250917-193406\n"
     ]
    },
    {
     "name": "stderr",
     "output_type": "stream",
     "text": [
      "Epoch 5/50:: 100%|\u001b[34m████████████████████\u001b[0m| 120/120 [00:02<00:00, 47.25batch/s, loss=0.373133]\u001b[0m\n"
     ]
    },
    {
     "name": "stdout",
     "output_type": "stream",
     "text": [
      "\t Loss: 44.776,\tTrain : 90.09%(90.09%),\tTest : 91.25%(91.25%),\tCurrent Time: 20250917-193408\n"
     ]
    },
    {
     "name": "stderr",
     "output_type": "stream",
     "text": [
      "Epoch 6/50:: 100%|\u001b[34m████████████████████\u001b[0m| 120/120 [00:02<00:00, 47.61batch/s, loss=0.322899]\u001b[0m\n"
     ]
    },
    {
     "name": "stdout",
     "output_type": "stream",
     "text": [
      "\t Loss: 38.748,\tTrain : 91.43%(91.43%),\tTest : 91.76%(91.76%),\tCurrent Time: 20250917-193411\n"
     ]
    },
    {
     "name": "stderr",
     "output_type": "stream",
     "text": [
      "Epoch 7/50:: 100%|\u001b[34m████████████████████\u001b[0m| 120/120 [00:02<00:00, 47.59batch/s, loss=0.290361]\u001b[0m\n"
     ]
    },
    {
     "name": "stdout",
     "output_type": "stream",
     "text": [
      "\t Loss: 34.843,\tTrain : 92.24%(92.24%),\tTest : 92.59%(92.59%),\tCurrent Time: 20250917-193414\n"
     ]
    },
    {
     "name": "stderr",
     "output_type": "stream",
     "text": [
      "Epoch 8/50:: 100%|\u001b[34m████████████████████\u001b[0m| 120/120 [00:02<00:00, 47.48batch/s, loss=0.264180]\u001b[0m\n"
     ]
    },
    {
     "name": "stdout",
     "output_type": "stream",
     "text": [
      "\t Loss: 31.702,\tTrain : 92.74%(92.74%),\tTest : 93.02%(93.02%),\tCurrent Time: 20250917-193416\n"
     ]
    },
    {
     "name": "stderr",
     "output_type": "stream",
     "text": [
      "Epoch 9/50:: 100%|\u001b[34m████████████████████\u001b[0m| 120/120 [00:02<00:00, 46.74batch/s, loss=0.241489]\u001b[0m\n"
     ]
    },
    {
     "name": "stdout",
     "output_type": "stream",
     "text": [
      "\t Loss: 28.979,\tTrain : 93.27%(93.27%),\tTest : 93.31%(93.31%),\tCurrent Time: 20250917-193419\n"
     ]
    },
    {
     "name": "stderr",
     "output_type": "stream",
     "text": [
      "Epoch 10/50:: 100%|\u001b[34m███████████████████\u001b[0m| 120/120 [00:02<00:00, 47.49batch/s, loss=0.223982]\u001b[0m\n"
     ]
    },
    {
     "name": "stdout",
     "output_type": "stream",
     "text": [
      "\t Loss: 26.878,\tTrain : 93.77%(93.77%),\tTest : 94.06%(94.06%),\tCurrent Time: 20250917-193422\n"
     ]
    },
    {
     "name": "stderr",
     "output_type": "stream",
     "text": [
      "Epoch 11/50:: 100%|\u001b[34m███████████████████\u001b[0m| 120/120 [00:02<00:00, 47.27batch/s, loss=0.210284]\u001b[0m\n"
     ]
    },
    {
     "name": "stdout",
     "output_type": "stream",
     "text": [
      "\t Loss: 25.234,\tTrain : 94.14%(94.14%),\tTest : 94.07%(94.07%),\tCurrent Time: 20250917-193424\n"
     ]
    },
    {
     "name": "stderr",
     "output_type": "stream",
     "text": [
      "Epoch 12/50:: 100%|\u001b[34m███████████████████\u001b[0m| 120/120 [00:02<00:00, 47.58batch/s, loss=0.198310]\u001b[0m\n"
     ]
    },
    {
     "name": "stdout",
     "output_type": "stream",
     "text": [
      "\t Loss: 23.797,\tTrain : 94.47%(94.47%),\tTest : 94.11%(94.11%),\tCurrent Time: 20250917-193427\n"
     ]
    },
    {
     "name": "stderr",
     "output_type": "stream",
     "text": [
      "Epoch 13/50:: 100%|\u001b[34m███████████████████\u001b[0m| 120/120 [00:02<00:00, 47.59batch/s, loss=0.187776]\u001b[0m\n"
     ]
    },
    {
     "name": "stdout",
     "output_type": "stream",
     "text": [
      "\t Loss: 22.533,\tTrain : 94.69%(94.69%),\tTest : 94.65%(94.65%),\tCurrent Time: 20250917-193429\n"
     ]
    },
    {
     "name": "stderr",
     "output_type": "stream",
     "text": [
      "Epoch 14/50:: 100%|\u001b[34m███████████████████\u001b[0m| 120/120 [00:02<00:00, 47.73batch/s, loss=0.175569]\u001b[0m\n"
     ]
    },
    {
     "name": "stdout",
     "output_type": "stream",
     "text": [
      "\t Loss: 21.068,\tTrain : 95.02%(95.02%),\tTest : 94.87%(94.87%),\tCurrent Time: 20250917-193432\n"
     ]
    },
    {
     "name": "stderr",
     "output_type": "stream",
     "text": [
      "Epoch 15/50:: 100%|\u001b[34m███████████████████\u001b[0m| 120/120 [00:02<00:00, 47.68batch/s, loss=0.167409]\u001b[0m\n"
     ]
    },
    {
     "name": "stdout",
     "output_type": "stream",
     "text": [
      "\t Loss: 20.089,\tTrain : 95.32%(95.32%),\tTest : 95.08%(95.08%),\tCurrent Time: 20250917-193435\n"
     ]
    },
    {
     "name": "stderr",
     "output_type": "stream",
     "text": [
      "Epoch 16/50:: 100%|\u001b[34m███████████████████\u001b[0m| 120/120 [00:02<00:00, 47.51batch/s, loss=0.160941]\u001b[0m\n"
     ]
    },
    {
     "name": "stdout",
     "output_type": "stream",
     "text": [
      "\t Loss: 19.313,\tTrain : 95.43%(95.43%),\tTest : 94.74%(95.08%),\tCurrent Time: 20250917-193437\n"
     ]
    },
    {
     "name": "stderr",
     "output_type": "stream",
     "text": [
      "Epoch 17/50:: 100%|\u001b[34m███████████████████\u001b[0m| 120/120 [00:02<00:00, 47.58batch/s, loss=0.153181]\u001b[0m\n"
     ]
    },
    {
     "name": "stdout",
     "output_type": "stream",
     "text": [
      "\t Loss: 18.382,\tTrain : 95.60%(95.60%),\tTest : 95.46%(95.46%),\tCurrent Time: 20250917-193440\n"
     ]
    },
    {
     "name": "stderr",
     "output_type": "stream",
     "text": [
      "Epoch 18/50:: 100%|\u001b[34m███████████████████\u001b[0m| 120/120 [00:02<00:00, 47.84batch/s, loss=0.146634]\u001b[0m\n"
     ]
    },
    {
     "name": "stdout",
     "output_type": "stream",
     "text": [
      "\t Loss: 17.596,\tTrain : 95.91%(95.91%),\tTest : 95.45%(95.46%),\tCurrent Time: 20250917-193442\n"
     ]
    },
    {
     "name": "stderr",
     "output_type": "stream",
     "text": [
      "Epoch 19/50:: 100%|\u001b[34m███████████████████\u001b[0m| 120/120 [00:02<00:00, 47.37batch/s, loss=0.140788]\u001b[0m\n"
     ]
    },
    {
     "name": "stdout",
     "output_type": "stream",
     "text": [
      "\t Loss: 16.895,\tTrain : 95.94%(95.94%),\tTest : 95.56%(95.56%),\tCurrent Time: 20250917-193445\n"
     ]
    },
    {
     "name": "stderr",
     "output_type": "stream",
     "text": [
      "Epoch 20/50:: 100%|\u001b[34m███████████████████\u001b[0m| 120/120 [00:02<00:00, 47.59batch/s, loss=0.133197]\u001b[0m\n"
     ]
    },
    {
     "name": "stdout",
     "output_type": "stream",
     "text": [
      "\t Loss: 15.984,\tTrain : 96.20%(96.20%),\tTest : 95.71%(95.71%),\tCurrent Time: 20250917-193448\n"
     ]
    },
    {
     "name": "stderr",
     "output_type": "stream",
     "text": [
      "Epoch 21/50:: 100%|\u001b[34m███████████████████\u001b[0m| 120/120 [00:02<00:00, 47.60batch/s, loss=0.129211]\u001b[0m\n"
     ]
    },
    {
     "name": "stdout",
     "output_type": "stream",
     "text": [
      "\t Loss: 15.505,\tTrain : 96.25%(96.25%),\tTest : 95.80%(95.80%),\tCurrent Time: 20250917-193450\n"
     ]
    },
    {
     "name": "stderr",
     "output_type": "stream",
     "text": [
      "Epoch 22/50:: 100%|\u001b[34m███████████████████\u001b[0m| 120/120 [00:02<00:00, 47.74batch/s, loss=0.124720]\u001b[0m\n"
     ]
    },
    {
     "name": "stdout",
     "output_type": "stream",
     "text": [
      "\t Loss: 14.966,\tTrain : 96.42%(96.42%),\tTest : 95.88%(95.88%),\tCurrent Time: 20250917-193453\n"
     ]
    },
    {
     "name": "stderr",
     "output_type": "stream",
     "text": [
      "Epoch 23/50:: 100%|\u001b[34m███████████████████\u001b[0m| 120/120 [00:02<00:00, 47.44batch/s, loss=0.119830]\u001b[0m\n"
     ]
    },
    {
     "name": "stdout",
     "output_type": "stream",
     "text": [
      "\t Loss: 14.380,\tTrain : 96.58%(96.58%),\tTest : 95.93%(95.93%),\tCurrent Time: 20250917-193455\n"
     ]
    },
    {
     "name": "stderr",
     "output_type": "stream",
     "text": [
      "Epoch 24/50:: 100%|\u001b[34m███████████████████\u001b[0m| 120/120 [00:02<00:00, 47.41batch/s, loss=0.117156]\u001b[0m\n"
     ]
    },
    {
     "name": "stdout",
     "output_type": "stream",
     "text": [
      "\t Loss: 14.059,\tTrain : 96.61%(96.61%),\tTest : 95.83%(95.93%),\tCurrent Time: 20250917-193458\n"
     ]
    },
    {
     "name": "stderr",
     "output_type": "stream",
     "text": [
      "Epoch 25/50:: 100%|\u001b[34m███████████████████\u001b[0m| 120/120 [00:02<00:00, 47.54batch/s, loss=0.111565]\u001b[0m\n"
     ]
    },
    {
     "name": "stdout",
     "output_type": "stream",
     "text": [
      "\t Loss: 13.388,\tTrain : 96.77%(96.77%),\tTest : 95.94%(95.94%),\tCurrent Time: 20250917-193501\n"
     ]
    },
    {
     "name": "stderr",
     "output_type": "stream",
     "text": [
      "Epoch 26/50:: 100%|\u001b[34m███████████████████\u001b[0m| 120/120 [00:02<00:00, 47.50batch/s, loss=0.107908]\u001b[0m\n"
     ]
    },
    {
     "name": "stdout",
     "output_type": "stream",
     "text": [
      "\t Loss: 12.949,\tTrain : 96.85%(96.85%),\tTest : 95.95%(95.95%),\tCurrent Time: 20250917-193503\n"
     ]
    },
    {
     "name": "stderr",
     "output_type": "stream",
     "text": [
      "Epoch 27/50:: 100%|\u001b[34m███████████████████\u001b[0m| 120/120 [00:02<00:00, 47.43batch/s, loss=0.106223]\u001b[0m\n"
     ]
    },
    {
     "name": "stdout",
     "output_type": "stream",
     "text": [
      "\t Loss: 12.747,\tTrain : 96.90%(96.90%),\tTest : 96.04%(96.04%),\tCurrent Time: 20250917-193506\n"
     ]
    },
    {
     "name": "stderr",
     "output_type": "stream",
     "text": [
      "Epoch 28/50:: 100%|\u001b[34m███████████████████\u001b[0m| 120/120 [00:02<00:00, 47.54batch/s, loss=0.100799]\u001b[0m\n"
     ]
    },
    {
     "name": "stdout",
     "output_type": "stream",
     "text": [
      "\t Loss: 12.096,\tTrain : 97.07%(97.07%),\tTest : 96.08%(96.08%),\tCurrent Time: 20250917-193508\n"
     ]
    },
    {
     "name": "stderr",
     "output_type": "stream",
     "text": [
      "Epoch 29/50:: 100%|\u001b[34m███████████████████\u001b[0m| 120/120 [00:02<00:00, 47.73batch/s, loss=0.099271]\u001b[0m\n"
     ]
    },
    {
     "name": "stdout",
     "output_type": "stream",
     "text": [
      "\t Loss: 11.913,\tTrain : 97.09%(97.09%),\tTest : 96.02%(96.08%),\tCurrent Time: 20250917-193511\n"
     ]
    },
    {
     "name": "stderr",
     "output_type": "stream",
     "text": [
      "Epoch 30/50:: 100%|\u001b[34m███████████████████\u001b[0m| 120/120 [00:02<00:00, 47.63batch/s, loss=0.093888]\u001b[0m\n"
     ]
    },
    {
     "name": "stdout",
     "output_type": "stream",
     "text": [
      "\t Loss: 11.267,\tTrain : 97.28%(97.28%),\tTest : 96.15%(96.15%),\tCurrent Time: 20250917-193514\n"
     ]
    },
    {
     "name": "stderr",
     "output_type": "stream",
     "text": [
      "Epoch 31/50:: 100%|\u001b[34m███████████████████\u001b[0m| 120/120 [00:02<00:00, 47.64batch/s, loss=0.090476]\u001b[0m\n"
     ]
    },
    {
     "name": "stdout",
     "output_type": "stream",
     "text": [
      "\t Loss: 10.857,\tTrain : 97.35%(97.35%),\tTest : 96.13%(96.15%),\tCurrent Time: 20250917-193516\n"
     ]
    },
    {
     "name": "stderr",
     "output_type": "stream",
     "text": [
      "Epoch 32/50:: 100%|\u001b[34m███████████████████\u001b[0m| 120/120 [00:02<00:00, 47.64batch/s, loss=0.086406]\u001b[0m\n"
     ]
    },
    {
     "name": "stdout",
     "output_type": "stream",
     "text": [
      "\t Loss: 10.369,\tTrain : 97.52%(97.52%),\tTest : 96.28%(96.28%),\tCurrent Time: 20250917-193519\n"
     ]
    },
    {
     "name": "stderr",
     "output_type": "stream",
     "text": [
      "Epoch 33/50:: 100%|\u001b[34m███████████████████\u001b[0m| 120/120 [00:02<00:00, 47.53batch/s, loss=0.085626]\u001b[0m\n"
     ]
    },
    {
     "name": "stdout",
     "output_type": "stream",
     "text": [
      "\t Loss: 10.275,\tTrain : 97.50%(97.52%),\tTest : 96.27%(96.28%),\tCurrent Time: 20250917-193521\n"
     ]
    },
    {
     "name": "stderr",
     "output_type": "stream",
     "text": [
      "Epoch 34/50:: 100%|\u001b[34m███████████████████\u001b[0m| 120/120 [00:02<00:00, 47.45batch/s, loss=0.082081]\u001b[0m\n"
     ]
    },
    {
     "name": "stdout",
     "output_type": "stream",
     "text": [
      "\t Loss: 9.850,\tTrain : 97.56%(97.56%),\tTest : 96.14%(96.28%),\tCurrent Time: 20250917-193524\n"
     ]
    },
    {
     "name": "stderr",
     "output_type": "stream",
     "text": [
      "Epoch 35/50:: 100%|\u001b[34m███████████████████\u001b[0m| 120/120 [00:02<00:00, 47.60batch/s, loss=0.078275]\u001b[0m\n"
     ]
    },
    {
     "name": "stdout",
     "output_type": "stream",
     "text": [
      "\t Loss: 9.393,\tTrain : 97.68%(97.68%),\tTest : 95.98%(96.28%),\tCurrent Time: 20250917-193527\n"
     ]
    },
    {
     "name": "stderr",
     "output_type": "stream",
     "text": [
      "Epoch 36/50:: 100%|\u001b[34m███████████████████\u001b[0m| 120/120 [00:02<00:00, 47.69batch/s, loss=0.076641]\u001b[0m\n"
     ]
    },
    {
     "name": "stdout",
     "output_type": "stream",
     "text": [
      "\t Loss: 9.197,\tTrain : 97.74%(97.74%),\tTest : 96.18%(96.28%),\tCurrent Time: 20250917-193529\n"
     ]
    },
    {
     "name": "stderr",
     "output_type": "stream",
     "text": [
      "Epoch 37/50:: 100%|\u001b[34m███████████████████\u001b[0m| 120/120 [00:02<00:00, 47.52batch/s, loss=0.073527]\u001b[0m\n"
     ]
    },
    {
     "name": "stdout",
     "output_type": "stream",
     "text": [
      "\t Loss: 8.823,\tTrain : 97.89%(97.89%),\tTest : 96.25%(96.28%),\tCurrent Time: 20250917-193532\n"
     ]
    },
    {
     "name": "stderr",
     "output_type": "stream",
     "text": [
      "Epoch 38/50:: 100%|\u001b[34m███████████████████\u001b[0m| 120/120 [00:02<00:00, 47.56batch/s, loss=0.072999]\u001b[0m\n"
     ]
    },
    {
     "name": "stdout",
     "output_type": "stream",
     "text": [
      "\t Loss: 8.760,\tTrain : 97.80%(97.89%),\tTest : 96.14%(96.28%),\tCurrent Time: 20250917-193534\n"
     ]
    },
    {
     "name": "stderr",
     "output_type": "stream",
     "text": [
      "Epoch 39/50:: 100%|\u001b[34m███████████████████\u001b[0m| 120/120 [00:02<00:00, 47.63batch/s, loss=0.070160]\u001b[0m\n"
     ]
    },
    {
     "name": "stdout",
     "output_type": "stream",
     "text": [
      "\t Loss: 8.419,\tTrain : 97.95%(97.95%),\tTest : 96.38%(96.38%),\tCurrent Time: 20250917-193537\n"
     ]
    },
    {
     "name": "stderr",
     "output_type": "stream",
     "text": [
      "Epoch 40/50:: 100%|\u001b[34m███████████████████\u001b[0m| 120/120 [00:02<00:00, 47.68batch/s, loss=0.067901]\u001b[0m\n"
     ]
    },
    {
     "name": "stdout",
     "output_type": "stream",
     "text": [
      "\t Loss: 8.148,\tTrain : 97.98%(97.98%),\tTest : 96.17%(96.38%),\tCurrent Time: 20250917-193540\n"
     ]
    },
    {
     "name": "stderr",
     "output_type": "stream",
     "text": [
      "Epoch 41/50:: 100%|\u001b[34m███████████████████\u001b[0m| 120/120 [00:02<00:00, 47.34batch/s, loss=0.065357]\u001b[0m\n"
     ]
    },
    {
     "name": "stdout",
     "output_type": "stream",
     "text": [
      "\t Loss: 7.843,\tTrain : 98.05%(98.05%),\tTest : 96.29%(96.38%),\tCurrent Time: 20250917-193542\n"
     ]
    },
    {
     "name": "stderr",
     "output_type": "stream",
     "text": [
      "Epoch 42/50:: 100%|\u001b[34m███████████████████\u001b[0m| 120/120 [00:02<00:00, 47.61batch/s, loss=0.063746]\u001b[0m\n"
     ]
    },
    {
     "name": "stdout",
     "output_type": "stream",
     "text": [
      "\t Loss: 7.650,\tTrain : 98.03%(98.05%),\tTest : 96.01%(96.38%),\tCurrent Time: 20250917-193545\n"
     ]
    },
    {
     "name": "stderr",
     "output_type": "stream",
     "text": [
      "Epoch 43/50:: 100%|\u001b[34m███████████████████\u001b[0m| 120/120 [00:02<00:00, 47.65batch/s, loss=0.062524]\u001b[0m\n"
     ]
    },
    {
     "name": "stdout",
     "output_type": "stream",
     "text": [
      "\t Loss: 7.503,\tTrain : 98.14%(98.14%),\tTest : 96.31%(96.38%),\tCurrent Time: 20250917-193548\n"
     ]
    },
    {
     "name": "stderr",
     "output_type": "stream",
     "text": [
      "Epoch 44/50:: 100%|\u001b[34m███████████████████\u001b[0m| 120/120 [00:02<00:00, 47.72batch/s, loss=0.060339]\u001b[0m\n"
     ]
    },
    {
     "name": "stdout",
     "output_type": "stream",
     "text": [
      "\t Loss: 7.241,\tTrain : 98.14%(98.14%),\tTest : 96.26%(96.38%),\tCurrent Time: 20250917-193550\n"
     ]
    },
    {
     "name": "stderr",
     "output_type": "stream",
     "text": [
      "Epoch 45/50:: 100%|\u001b[34m███████████████████\u001b[0m| 120/120 [00:02<00:00, 47.41batch/s, loss=0.056852]\u001b[0m\n"
     ]
    },
    {
     "name": "stdout",
     "output_type": "stream",
     "text": [
      "\t Loss: 6.822,\tTrain : 98.28%(98.28%),\tTest : 96.14%(96.38%),\tCurrent Time: 20250917-193553\n"
     ]
    },
    {
     "name": "stderr",
     "output_type": "stream",
     "text": [
      "Epoch 46/50:: 100%|\u001b[34m███████████████████\u001b[0m| 120/120 [00:02<00:00, 47.67batch/s, loss=0.054464]\u001b[0m\n"
     ]
    },
    {
     "name": "stdout",
     "output_type": "stream",
     "text": [
      "\t Loss: 6.536,\tTrain : 98.30%(98.30%),\tTest : 96.15%(96.38%),\tCurrent Time: 20250917-193555\n"
     ]
    },
    {
     "name": "stderr",
     "output_type": "stream",
     "text": [
      "Epoch 47/50:: 100%|\u001b[34m███████████████████\u001b[0m| 120/120 [00:02<00:00, 47.65batch/s, loss=0.053629]\u001b[0m\n"
     ]
    },
    {
     "name": "stdout",
     "output_type": "stream",
     "text": [
      "\t Loss: 6.435,\tTrain : 98.36%(98.36%),\tTest : 96.12%(96.38%),\tCurrent Time: 20250917-193558\n"
     ]
    },
    {
     "name": "stderr",
     "output_type": "stream",
     "text": [
      "Epoch 48/50:: 100%|\u001b[34m███████████████████\u001b[0m| 120/120 [00:02<00:00, 47.36batch/s, loss=0.052048]\u001b[0m\n"
     ]
    },
    {
     "name": "stdout",
     "output_type": "stream",
     "text": [
      "\t Loss: 6.246,\tTrain : 98.38%(98.38%),\tTest : 96.38%(96.38%),\tCurrent Time: 20250917-193601\n"
     ]
    },
    {
     "name": "stderr",
     "output_type": "stream",
     "text": [
      "Epoch 49/50:: 100%|\u001b[34m███████████████████\u001b[0m| 120/120 [00:02<00:00, 47.75batch/s, loss=0.049971]\u001b[0m\n"
     ]
    },
    {
     "name": "stdout",
     "output_type": "stream",
     "text": [
      "\t Loss: 5.996,\tTrain : 98.43%(98.43%),\tTest : 96.20%(96.38%),\tCurrent Time: 20250917-193603\n"
     ]
    },
    {
     "name": "stderr",
     "output_type": "stream",
     "text": [
      "Epoch 50/50:: 100%|\u001b[34m███████████████████\u001b[0m| 120/120 [00:02<00:00, 47.71batch/s, loss=0.046763]\u001b[0m\n"
     ]
    },
    {
     "name": "stdout",
     "output_type": "stream",
     "text": [
      "\t Loss: 5.612,\tTrain : 98.59%(98.59%),\tTest : 95.93%(96.38%),\tCurrent Time: 20250917-193606\n",
      "First_asymm_AG_N-HL_resP-EP_L10-P0.1-MNIST_EP_b_sc0.1- Time: 20250917-193606, Epochs: 50, Learning Rate: 0.0005, Best: 98.59%  96.38%\n",
      "\n",
      "[[0 1 0 0 0 0 0 0 0 0 0 0]\n",
      " [0 0 1 0 1 1 1 0 0 0 1 0]\n",
      " [0 1 0 1 1 0 0 0 0 0 0 0]\n",
      " [0 0 1 0 1 0 1 0 0 0 0 0]\n",
      " [0 0 0 1 0 1 0 0 0 0 0 0]\n",
      " [0 1 0 0 1 0 1 1 0 0 0 0]\n",
      " [0 0 0 0 0 1 0 1 0 0 0 0]\n",
      " [0 1 0 1 0 0 1 0 1 1 0 0]\n",
      " [0 0 0 0 0 0 0 1 0 1 0 0]\n",
      " [0 1 0 0 0 0 0 0 1 0 1 0]\n",
      " [0 1 0 0 0 0 0 1 0 1 0 1]\n",
      " [0 0 0 0 0 0 0 0 0 0 1 0]]\n",
      "First_asymm_AG_N-HL_resP-EP_L10-P0.2-MNIST_EP_b_sc0.1-\n"
     ]
    },
    {
     "name": "stderr",
     "output_type": "stream",
     "text": [
      "Epoch 1/50:: 100%|\u001b[34m████████████████████\u001b[0m| 120/120 [00:02<00:00, 43.52batch/s, loss=2.051868]\u001b[0m\n"
     ]
    },
    {
     "name": "stdout",
     "output_type": "stream",
     "text": [
      "\t Loss: 246.224,\tTrain : 25.41%(25.41%),\tTest : 47.28%(47.28%),\tCurrent Time: 20250917-193613\n"
     ]
    },
    {
     "name": "stderr",
     "output_type": "stream",
     "text": [
      "Epoch 2/50:: 100%|\u001b[34m████████████████████\u001b[0m| 120/120 [00:02<00:00, 46.65batch/s, loss=1.153045]\u001b[0m\n"
     ]
    },
    {
     "name": "stdout",
     "output_type": "stream",
     "text": [
      "\t Loss: 138.365,\tTrain : 71.02%(71.02%),\tTest : 82.94%(82.94%),\tCurrent Time: 20250917-193616\n"
     ]
    },
    {
     "name": "stderr",
     "output_type": "stream",
     "text": [
      "Epoch 3/50:: 100%|\u001b[34m████████████████████\u001b[0m| 120/120 [00:02<00:00, 46.52batch/s, loss=0.613785]\u001b[0m\n"
     ]
    },
    {
     "name": "stdout",
     "output_type": "stream",
     "text": [
      "\t Loss: 73.654,\tTrain : 85.95%(85.95%),\tTest : 88.22%(88.22%),\tCurrent Time: 20250917-193618\n"
     ]
    },
    {
     "name": "stderr",
     "output_type": "stream",
     "text": [
      "Epoch 4/50:: 100%|\u001b[34m████████████████████\u001b[0m| 120/120 [00:02<00:00, 46.74batch/s, loss=0.427345]\u001b[0m\n"
     ]
    },
    {
     "name": "stdout",
     "output_type": "stream",
     "text": [
      "\t Loss: 51.281,\tTrain : 89.16%(89.16%),\tTest : 90.38%(90.38%),\tCurrent Time: 20250917-193621\n"
     ]
    },
    {
     "name": "stderr",
     "output_type": "stream",
     "text": [
      "Epoch 5/50:: 100%|\u001b[34m████████████████████\u001b[0m| 120/120 [00:02<00:00, 46.74batch/s, loss=0.346385]\u001b[0m\n"
     ]
    },
    {
     "name": "stdout",
     "output_type": "stream",
     "text": [
      "\t Loss: 41.566,\tTrain : 90.78%(90.78%),\tTest : 91.31%(91.31%),\tCurrent Time: 20250917-193624\n"
     ]
    },
    {
     "name": "stderr",
     "output_type": "stream",
     "text": [
      "Epoch 6/50:: 100%|\u001b[34m████████████████████\u001b[0m| 120/120 [00:02<00:00, 46.81batch/s, loss=0.302700]\u001b[0m\n"
     ]
    },
    {
     "name": "stdout",
     "output_type": "stream",
     "text": [
      "\t Loss: 36.324,\tTrain : 91.73%(91.73%),\tTest : 92.06%(92.06%),\tCurrent Time: 20250917-193626\n"
     ]
    },
    {
     "name": "stderr",
     "output_type": "stream",
     "text": [
      "Epoch 7/50:: 100%|\u001b[34m████████████████████\u001b[0m| 120/120 [00:02<00:00, 46.66batch/s, loss=0.274901]\u001b[0m\n"
     ]
    },
    {
     "name": "stdout",
     "output_type": "stream",
     "text": [
      "\t Loss: 32.988,\tTrain : 92.34%(92.34%),\tTest : 92.42%(92.42%),\tCurrent Time: 20250917-193629\n"
     ]
    },
    {
     "name": "stderr",
     "output_type": "stream",
     "text": [
      "Epoch 8/50:: 100%|\u001b[34m████████████████████\u001b[0m| 120/120 [00:02<00:00, 46.80batch/s, loss=0.255186]\u001b[0m\n"
     ]
    },
    {
     "name": "stdout",
     "output_type": "stream",
     "text": [
      "\t Loss: 30.622,\tTrain : 92.87%(92.87%),\tTest : 92.86%(92.86%),\tCurrent Time: 20250917-193632\n"
     ]
    },
    {
     "name": "stderr",
     "output_type": "stream",
     "text": [
      "Epoch 9/50:: 100%|\u001b[34m████████████████████\u001b[0m| 120/120 [00:02<00:00, 46.75batch/s, loss=0.238335]\u001b[0m\n"
     ]
    },
    {
     "name": "stdout",
     "output_type": "stream",
     "text": [
      "\t Loss: 28.600,\tTrain : 93.27%(93.27%),\tTest : 93.27%(93.27%),\tCurrent Time: 20250917-193634\n"
     ]
    },
    {
     "name": "stderr",
     "output_type": "stream",
     "text": [
      "Epoch 10/50:: 100%|\u001b[34m███████████████████\u001b[0m| 120/120 [00:02<00:00, 46.57batch/s, loss=0.218839]\u001b[0m\n"
     ]
    },
    {
     "name": "stdout",
     "output_type": "stream",
     "text": [
      "\t Loss: 26.261,\tTrain : 93.85%(93.85%),\tTest : 93.66%(93.66%),\tCurrent Time: 20250917-193637\n"
     ]
    },
    {
     "name": "stderr",
     "output_type": "stream",
     "text": [
      "Epoch 11/50:: 100%|\u001b[34m███████████████████\u001b[0m| 120/120 [00:02<00:00, 46.81batch/s, loss=0.205730]\u001b[0m\n"
     ]
    },
    {
     "name": "stdout",
     "output_type": "stream",
     "text": [
      "\t Loss: 24.688,\tTrain : 94.31%(94.31%),\tTest : 93.79%(93.79%),\tCurrent Time: 20250917-193640\n"
     ]
    },
    {
     "name": "stderr",
     "output_type": "stream",
     "text": [
      "Epoch 12/50:: 100%|\u001b[34m███████████████████\u001b[0m| 120/120 [00:02<00:00, 46.99batch/s, loss=0.194016]\u001b[0m\n"
     ]
    },
    {
     "name": "stdout",
     "output_type": "stream",
     "text": [
      "\t Loss: 23.282,\tTrain : 94.49%(94.49%),\tTest : 94.32%(94.32%),\tCurrent Time: 20250917-193642\n"
     ]
    },
    {
     "name": "stderr",
     "output_type": "stream",
     "text": [
      "Epoch 13/50:: 100%|\u001b[34m███████████████████\u001b[0m| 120/120 [00:02<00:00, 46.93batch/s, loss=0.183339]\u001b[0m\n"
     ]
    },
    {
     "name": "stdout",
     "output_type": "stream",
     "text": [
      "\t Loss: 22.001,\tTrain : 94.76%(94.76%),\tTest : 94.49%(94.49%),\tCurrent Time: 20250917-193645\n"
     ]
    },
    {
     "name": "stderr",
     "output_type": "stream",
     "text": [
      "Epoch 14/50:: 100%|\u001b[34m███████████████████\u001b[0m| 120/120 [00:02<00:00, 46.76batch/s, loss=0.173376]\u001b[0m\n"
     ]
    },
    {
     "name": "stdout",
     "output_type": "stream",
     "text": [
      "\t Loss: 20.805,\tTrain : 95.09%(95.09%),\tTest : 94.74%(94.74%),\tCurrent Time: 20250917-193647\n"
     ]
    },
    {
     "name": "stderr",
     "output_type": "stream",
     "text": [
      "Epoch 15/50:: 100%|\u001b[34m███████████████████\u001b[0m| 120/120 [00:02<00:00, 46.72batch/s, loss=0.162643]\u001b[0m\n"
     ]
    },
    {
     "name": "stdout",
     "output_type": "stream",
     "text": [
      "\t Loss: 19.517,\tTrain : 95.34%(95.34%),\tTest : 94.99%(94.99%),\tCurrent Time: 20250917-193650\n"
     ]
    },
    {
     "name": "stderr",
     "output_type": "stream",
     "text": [
      "Epoch 16/50:: 100%|\u001b[34m███████████████████\u001b[0m| 120/120 [00:02<00:00, 46.76batch/s, loss=0.155185]\u001b[0m\n"
     ]
    },
    {
     "name": "stdout",
     "output_type": "stream",
     "text": [
      "\t Loss: 18.622,\tTrain : 95.48%(95.48%),\tTest : 94.98%(94.99%),\tCurrent Time: 20250917-193653\n"
     ]
    },
    {
     "name": "stderr",
     "output_type": "stream",
     "text": [
      "Epoch 17/50:: 100%|\u001b[34m███████████████████\u001b[0m| 120/120 [00:02<00:00, 46.54batch/s, loss=0.147355]\u001b[0m\n"
     ]
    },
    {
     "name": "stdout",
     "output_type": "stream",
     "text": [
      "\t Loss: 17.683,\tTrain : 95.78%(95.78%),\tTest : 95.12%(95.12%),\tCurrent Time: 20250917-193655\n"
     ]
    },
    {
     "name": "stderr",
     "output_type": "stream",
     "text": [
      "Epoch 18/50:: 100%|\u001b[34m███████████████████\u001b[0m| 120/120 [00:02<00:00, 46.74batch/s, loss=0.138921]\u001b[0m\n"
     ]
    },
    {
     "name": "stdout",
     "output_type": "stream",
     "text": [
      "\t Loss: 16.670,\tTrain : 96.01%(96.01%),\tTest : 95.10%(95.12%),\tCurrent Time: 20250917-193658\n"
     ]
    },
    {
     "name": "stderr",
     "output_type": "stream",
     "text": [
      "Epoch 19/50:: 100%|\u001b[34m███████████████████\u001b[0m| 120/120 [00:02<00:00, 46.84batch/s, loss=0.134364]\u001b[0m\n"
     ]
    },
    {
     "name": "stdout",
     "output_type": "stream",
     "text": [
      "\t Loss: 16.124,\tTrain : 96.14%(96.14%),\tTest : 95.34%(95.34%),\tCurrent Time: 20250917-193701\n"
     ]
    },
    {
     "name": "stderr",
     "output_type": "stream",
     "text": [
      "Epoch 20/50:: 100%|\u001b[34m███████████████████\u001b[0m| 120/120 [00:02<00:00, 46.70batch/s, loss=0.126207]\u001b[0m\n"
     ]
    },
    {
     "name": "stdout",
     "output_type": "stream",
     "text": [
      "\t Loss: 15.145,\tTrain : 96.34%(96.34%),\tTest : 95.59%(95.59%),\tCurrent Time: 20250917-193703\n"
     ]
    },
    {
     "name": "stderr",
     "output_type": "stream",
     "text": [
      "Epoch 21/50:: 100%|\u001b[34m███████████████████\u001b[0m| 120/120 [00:02<00:00, 46.42batch/s, loss=0.119554]\u001b[0m\n"
     ]
    },
    {
     "name": "stdout",
     "output_type": "stream",
     "text": [
      "\t Loss: 14.346,\tTrain : 96.54%(96.54%),\tTest : 95.48%(95.59%),\tCurrent Time: 20250917-193706\n"
     ]
    },
    {
     "name": "stderr",
     "output_type": "stream",
     "text": [
      "Epoch 22/50:: 100%|\u001b[34m███████████████████\u001b[0m| 120/120 [00:02<00:00, 46.64batch/s, loss=0.115305]\u001b[0m\n"
     ]
    },
    {
     "name": "stdout",
     "output_type": "stream",
     "text": [
      "\t Loss: 13.837,\tTrain : 96.62%(96.62%),\tTest : 95.62%(95.62%),\tCurrent Time: 20250917-193709\n"
     ]
    },
    {
     "name": "stderr",
     "output_type": "stream",
     "text": [
      "Epoch 23/50:: 100%|\u001b[34m███████████████████\u001b[0m| 120/120 [00:02<00:00, 46.78batch/s, loss=0.111149]\u001b[0m\n"
     ]
    },
    {
     "name": "stdout",
     "output_type": "stream",
     "text": [
      "\t Loss: 13.338,\tTrain : 96.75%(96.75%),\tTest : 95.73%(95.73%),\tCurrent Time: 20250917-193711\n"
     ]
    },
    {
     "name": "stderr",
     "output_type": "stream",
     "text": [
      "Epoch 24/50:: 100%|\u001b[34m███████████████████\u001b[0m| 120/120 [00:02<00:00, 46.78batch/s, loss=0.104649]\u001b[0m\n"
     ]
    },
    {
     "name": "stdout",
     "output_type": "stream",
     "text": [
      "\t Loss: 12.558,\tTrain : 96.94%(96.94%),\tTest : 95.87%(95.87%),\tCurrent Time: 20250917-193714\n"
     ]
    },
    {
     "name": "stderr",
     "output_type": "stream",
     "text": [
      "Epoch 25/50:: 100%|\u001b[34m███████████████████\u001b[0m| 120/120 [00:02<00:00, 46.89batch/s, loss=0.103067]\u001b[0m\n"
     ]
    },
    {
     "name": "stdout",
     "output_type": "stream",
     "text": [
      "\t Loss: 12.368,\tTrain : 96.98%(96.98%),\tTest : 95.79%(95.87%),\tCurrent Time: 20250917-193717\n"
     ]
    },
    {
     "name": "stderr",
     "output_type": "stream",
     "text": [
      "Epoch 26/50:: 100%|\u001b[34m███████████████████\u001b[0m| 120/120 [00:02<00:00, 46.90batch/s, loss=0.099003]\u001b[0m\n"
     ]
    },
    {
     "name": "stdout",
     "output_type": "stream",
     "text": [
      "\t Loss: 11.880,\tTrain : 97.11%(97.11%),\tTest : 95.87%(95.87%),\tCurrent Time: 20250917-193719\n"
     ]
    },
    {
     "name": "stderr",
     "output_type": "stream",
     "text": [
      "Epoch 27/50:: 100%|\u001b[34m███████████████████\u001b[0m| 120/120 [00:02<00:00, 46.99batch/s, loss=0.095635]\u001b[0m\n"
     ]
    },
    {
     "name": "stdout",
     "output_type": "stream",
     "text": [
      "\t Loss: 11.476,\tTrain : 97.22%(97.22%),\tTest : 96.01%(96.01%),\tCurrent Time: 20250917-193722\n"
     ]
    },
    {
     "name": "stderr",
     "output_type": "stream",
     "text": [
      "Epoch 28/50:: 100%|\u001b[34m███████████████████\u001b[0m| 120/120 [00:02<00:00, 46.91batch/s, loss=0.091195]\u001b[0m\n"
     ]
    },
    {
     "name": "stdout",
     "output_type": "stream",
     "text": [
      "\t Loss: 10.943,\tTrain : 97.37%(97.37%),\tTest : 95.93%(96.01%),\tCurrent Time: 20250917-193725\n"
     ]
    },
    {
     "name": "stderr",
     "output_type": "stream",
     "text": [
      "Epoch 29/50:: 100%|\u001b[34m███████████████████\u001b[0m| 120/120 [00:02<00:00, 46.71batch/s, loss=0.088114]\u001b[0m\n"
     ]
    },
    {
     "name": "stdout",
     "output_type": "stream",
     "text": [
      "\t Loss: 10.574,\tTrain : 97.41%(97.41%),\tTest : 95.89%(96.01%),\tCurrent Time: 20250917-193727\n"
     ]
    },
    {
     "name": "stderr",
     "output_type": "stream",
     "text": [
      "Epoch 30/50:: 100%|\u001b[34m███████████████████\u001b[0m| 120/120 [00:02<00:00, 46.60batch/s, loss=0.086102]\u001b[0m\n"
     ]
    },
    {
     "name": "stdout",
     "output_type": "stream",
     "text": [
      "\t Loss: 10.332,\tTrain : 97.47%(97.47%),\tTest : 96.24%(96.24%),\tCurrent Time: 20250917-193730\n"
     ]
    },
    {
     "name": "stderr",
     "output_type": "stream",
     "text": [
      "Epoch 31/50:: 100%|\u001b[34m███████████████████\u001b[0m| 120/120 [00:02<00:00, 46.79batch/s, loss=0.082330]\u001b[0m\n"
     ]
    },
    {
     "name": "stdout",
     "output_type": "stream",
     "text": [
      "\t Loss: 9.880,\tTrain : 97.61%(97.61%),\tTest : 96.08%(96.24%),\tCurrent Time: 20250917-193733\n"
     ]
    },
    {
     "name": "stderr",
     "output_type": "stream",
     "text": [
      "Epoch 32/50:: 100%|\u001b[34m███████████████████\u001b[0m| 120/120 [00:02<00:00, 46.83batch/s, loss=0.080114]\u001b[0m\n"
     ]
    },
    {
     "name": "stdout",
     "output_type": "stream",
     "text": [
      "\t Loss: 9.614,\tTrain : 97.60%(97.61%),\tTest : 96.05%(96.24%),\tCurrent Time: 20250917-193735\n"
     ]
    },
    {
     "name": "stderr",
     "output_type": "stream",
     "text": [
      "Epoch 33/50:: 100%|\u001b[34m███████████████████\u001b[0m| 120/120 [00:02<00:00, 46.86batch/s, loss=0.078224]\u001b[0m\n"
     ]
    },
    {
     "name": "stdout",
     "output_type": "stream",
     "text": [
      "\t Loss: 9.387,\tTrain : 97.71%(97.71%),\tTest : 96.18%(96.24%),\tCurrent Time: 20250917-193738\n"
     ]
    },
    {
     "name": "stderr",
     "output_type": "stream",
     "text": [
      "Epoch 34/50:: 100%|\u001b[34m███████████████████\u001b[0m| 120/120 [00:02<00:00, 46.77batch/s, loss=0.074880]\u001b[0m\n"
     ]
    },
    {
     "name": "stdout",
     "output_type": "stream",
     "text": [
      "\t Loss: 8.986,\tTrain : 97.81%(97.81%),\tTest : 96.14%(96.24%),\tCurrent Time: 20250917-193740\n"
     ]
    },
    {
     "name": "stderr",
     "output_type": "stream",
     "text": [
      "Epoch 35/50:: 100%|\u001b[34m███████████████████\u001b[0m| 120/120 [00:02<00:00, 46.77batch/s, loss=0.071209]\u001b[0m\n"
     ]
    },
    {
     "name": "stdout",
     "output_type": "stream",
     "text": [
      "\t Loss: 8.545,\tTrain : 97.90%(97.90%),\tTest : 96.17%(96.24%),\tCurrent Time: 20250917-193743\n"
     ]
    },
    {
     "name": "stderr",
     "output_type": "stream",
     "text": [
      "Epoch 36/50:: 100%|\u001b[34m███████████████████\u001b[0m| 120/120 [00:02<00:00, 46.60batch/s, loss=0.069438]\u001b[0m\n"
     ]
    },
    {
     "name": "stdout",
     "output_type": "stream",
     "text": [
      "\t Loss: 8.333,\tTrain : 97.97%(97.97%),\tTest : 96.23%(96.24%),\tCurrent Time: 20250917-193746\n"
     ]
    },
    {
     "name": "stderr",
     "output_type": "stream",
     "text": [
      "Epoch 37/50:: 100%|\u001b[34m███████████████████\u001b[0m| 120/120 [00:02<00:00, 46.62batch/s, loss=0.068742]\u001b[0m\n"
     ]
    },
    {
     "name": "stdout",
     "output_type": "stream",
     "text": [
      "\t Loss: 8.249,\tTrain : 97.98%(97.98%),\tTest : 95.92%(96.24%),\tCurrent Time: 20250917-193748\n"
     ]
    },
    {
     "name": "stderr",
     "output_type": "stream",
     "text": [
      "Epoch 38/50:: 100%|\u001b[34m███████████████████\u001b[0m| 120/120 [00:02<00:00, 46.60batch/s, loss=0.066348]\u001b[0m\n"
     ]
    },
    {
     "name": "stdout",
     "output_type": "stream",
     "text": [
      "\t Loss: 7.962,\tTrain : 98.06%(98.06%),\tTest : 96.13%(96.24%),\tCurrent Time: 20250917-193751\n"
     ]
    },
    {
     "name": "stderr",
     "output_type": "stream",
     "text": [
      "Epoch 39/50:: 100%|\u001b[34m███████████████████\u001b[0m| 120/120 [00:02<00:00, 47.01batch/s, loss=0.063274]\u001b[0m\n"
     ]
    },
    {
     "name": "stdout",
     "output_type": "stream",
     "text": [
      "\t Loss: 7.593,\tTrain : 98.14%(98.14%),\tTest : 96.34%(96.34%),\tCurrent Time: 20250917-193754\n"
     ]
    },
    {
     "name": "stderr",
     "output_type": "stream",
     "text": [
      "Epoch 40/50:: 100%|\u001b[34m███████████████████\u001b[0m| 120/120 [00:02<00:00, 46.77batch/s, loss=0.062085]\u001b[0m\n"
     ]
    },
    {
     "name": "stdout",
     "output_type": "stream",
     "text": [
      "\t Loss: 7.450,\tTrain : 98.22%(98.22%),\tTest : 96.32%(96.34%),\tCurrent Time: 20250917-193756\n"
     ]
    },
    {
     "name": "stderr",
     "output_type": "stream",
     "text": [
      "Epoch 41/50:: 100%|\u001b[34m███████████████████\u001b[0m| 120/120 [00:02<00:00, 46.99batch/s, loss=0.059540]\u001b[0m\n"
     ]
    },
    {
     "name": "stdout",
     "output_type": "stream",
     "text": [
      "\t Loss: 7.145,\tTrain : 98.22%(98.22%),\tTest : 96.19%(96.34%),\tCurrent Time: 20250917-193759\n"
     ]
    },
    {
     "name": "stderr",
     "output_type": "stream",
     "text": [
      "Epoch 42/50:: 100%|\u001b[34m███████████████████\u001b[0m| 120/120 [00:02<00:00, 46.60batch/s, loss=0.059938]\u001b[0m\n"
     ]
    },
    {
     "name": "stdout",
     "output_type": "stream",
     "text": [
      "\t Loss: 7.193,\tTrain : 98.24%(98.24%),\tTest : 96.51%(96.51%),\tCurrent Time: 20250917-193802\n"
     ]
    },
    {
     "name": "stderr",
     "output_type": "stream",
     "text": [
      "Epoch 43/50:: 100%|\u001b[34m███████████████████\u001b[0m| 120/120 [00:02<00:00, 46.66batch/s, loss=0.055899]\u001b[0m\n"
     ]
    },
    {
     "name": "stdout",
     "output_type": "stream",
     "text": [
      "\t Loss: 6.708,\tTrain : 98.36%(98.36%),\tTest : 96.30%(96.51%),\tCurrent Time: 20250917-193804\n"
     ]
    },
    {
     "name": "stderr",
     "output_type": "stream",
     "text": [
      "Epoch 44/50:: 100%|\u001b[34m███████████████████\u001b[0m| 120/120 [00:02<00:00, 46.60batch/s, loss=0.054571]\u001b[0m\n"
     ]
    },
    {
     "name": "stdout",
     "output_type": "stream",
     "text": [
      "\t Loss: 6.548,\tTrain : 98.42%(98.42%),\tTest : 96.05%(96.51%),\tCurrent Time: 20250917-193807\n"
     ]
    },
    {
     "name": "stderr",
     "output_type": "stream",
     "text": [
      "Epoch 45/50:: 100%|\u001b[34m███████████████████\u001b[0m| 120/120 [00:02<00:00, 46.66batch/s, loss=0.054380]\u001b[0m\n"
     ]
    },
    {
     "name": "stdout",
     "output_type": "stream",
     "text": [
      "\t Loss: 6.526,\tTrain : 98.39%(98.42%),\tTest : 96.50%(96.51%),\tCurrent Time: 20250917-193810\n"
     ]
    },
    {
     "name": "stderr",
     "output_type": "stream",
     "text": [
      "Epoch 46/50:: 100%|\u001b[34m███████████████████\u001b[0m| 120/120 [00:02<00:00, 46.99batch/s, loss=0.051348]\u001b[0m\n"
     ]
    },
    {
     "name": "stdout",
     "output_type": "stream",
     "text": [
      "\t Loss: 6.162,\tTrain : 98.45%(98.45%),\tTest : 96.36%(96.51%),\tCurrent Time: 20250917-193812\n"
     ]
    },
    {
     "name": "stderr",
     "output_type": "stream",
     "text": [
      "Epoch 47/50:: 100%|\u001b[34m███████████████████\u001b[0m| 120/120 [00:02<00:00, 46.82batch/s, loss=0.050940]\u001b[0m\n"
     ]
    },
    {
     "name": "stdout",
     "output_type": "stream",
     "text": [
      "\t Loss: 6.113,\tTrain : 98.53%(98.53%),\tTest : 96.33%(96.51%),\tCurrent Time: 20250917-193815\n"
     ]
    },
    {
     "name": "stderr",
     "output_type": "stream",
     "text": [
      "Epoch 48/50:: 100%|\u001b[34m███████████████████\u001b[0m| 120/120 [00:02<00:00, 46.72batch/s, loss=0.050347]\u001b[0m\n"
     ]
    },
    {
     "name": "stdout",
     "output_type": "stream",
     "text": [
      "\t Loss: 6.042,\tTrain : 98.48%(98.53%),\tTest : 96.29%(96.51%),\tCurrent Time: 20250917-193818\n"
     ]
    },
    {
     "name": "stderr",
     "output_type": "stream",
     "text": [
      "Epoch 49/50:: 100%|\u001b[34m███████████████████\u001b[0m| 120/120 [00:02<00:00, 46.68batch/s, loss=0.046537]\u001b[0m\n"
     ]
    },
    {
     "name": "stdout",
     "output_type": "stream",
     "text": [
      "\t Loss: 5.584,\tTrain : 98.66%(98.66%),\tTest : 96.11%(96.51%),\tCurrent Time: 20250917-193820\n"
     ]
    },
    {
     "name": "stderr",
     "output_type": "stream",
     "text": [
      "Epoch 50/50:: 100%|\u001b[34m███████████████████\u001b[0m| 120/120 [00:02<00:00, 46.79batch/s, loss=0.046295]\u001b[0m\n"
     ]
    },
    {
     "name": "stdout",
     "output_type": "stream",
     "text": [
      "\t Loss: 5.555,\tTrain : 98.63%(98.66%),\tTest : 96.19%(96.51%),\tCurrent Time: 20250917-193823\n",
      "First_asymm_AG_N-HL_resP-EP_L10-P0.2-MNIST_EP_b_sc0.1- Time: 20250917-193823, Epochs: 50, Learning Rate: 0.0005, Best: 98.66%  96.51%\n",
      "\n",
      "[[0 1 0 0 0 0 0 0 0 0 0 0]\n",
      " [0 0 1 0 0 0 1 1 0 0 0 0]\n",
      " [0 1 0 1 0 1 1 0 1 0 0 0]\n",
      " [0 0 1 0 1 0 0 0 1 0 0 0]\n",
      " [0 1 0 1 0 1 0 0 0 0 0 0]\n",
      " [0 0 0 0 1 0 1 0 0 0 0 0]\n",
      " [0 0 0 0 1 1 0 1 0 0 0 0]\n",
      " [0 0 1 0 0 1 1 0 1 0 0 0]\n",
      " [0 0 0 1 0 0 0 1 0 1 0 0]\n",
      " [0 0 0 0 1 0 0 0 1 0 1 0]\n",
      " [0 0 0 1 0 0 1 0 1 1 0 1]\n",
      " [0 0 0 0 0 0 0 0 0 0 1 0]]\n",
      "First_asymm_AG_N-HL_resP-EP_L10-P0.2-MNIST_EP_b_sc0.1-\n"
     ]
    },
    {
     "name": "stderr",
     "output_type": "stream",
     "text": [
      "Epoch 1/50:: 100%|\u001b[34m████████████████████\u001b[0m| 120/120 [00:02<00:00, 44.06batch/s, loss=2.057813]\u001b[0m\n"
     ]
    },
    {
     "name": "stdout",
     "output_type": "stream",
     "text": [
      "\t Loss: 246.938,\tTrain : 28.48%(28.48%),\tTest : 58.59%(58.59%),\tCurrent Time: 20250917-193830\n"
     ]
    },
    {
     "name": "stderr",
     "output_type": "stream",
     "text": [
      "Epoch 2/50:: 100%|\u001b[34m████████████████████\u001b[0m| 120/120 [00:02<00:00, 47.71batch/s, loss=1.226329]\u001b[0m\n"
     ]
    },
    {
     "name": "stdout",
     "output_type": "stream",
     "text": [
      "\t Loss: 147.160,\tTrain : 72.78%(72.78%),\tTest : 85.21%(85.21%),\tCurrent Time: 20250917-193833\n"
     ]
    },
    {
     "name": "stderr",
     "output_type": "stream",
     "text": [
      "Epoch 3/50:: 100%|\u001b[34m████████████████████\u001b[0m| 120/120 [00:02<00:00, 47.47batch/s, loss=0.626376]\u001b[0m\n"
     ]
    },
    {
     "name": "stdout",
     "output_type": "stream",
     "text": [
      "\t Loss: 75.165,\tTrain : 86.69%(86.69%),\tTest : 88.62%(88.62%),\tCurrent Time: 20250917-193835\n"
     ]
    },
    {
     "name": "stderr",
     "output_type": "stream",
     "text": [
      "Epoch 4/50:: 100%|\u001b[34m████████████████████\u001b[0m| 120/120 [00:02<00:00, 47.74batch/s, loss=0.434767]\u001b[0m\n"
     ]
    },
    {
     "name": "stdout",
     "output_type": "stream",
     "text": [
      "\t Loss: 52.172,\tTrain : 89.41%(89.41%),\tTest : 90.30%(90.30%),\tCurrent Time: 20250917-193838\n"
     ]
    },
    {
     "name": "stderr",
     "output_type": "stream",
     "text": [
      "Epoch 5/50:: 100%|\u001b[34m████████████████████\u001b[0m| 120/120 [00:02<00:00, 47.55batch/s, loss=0.354479]\u001b[0m\n"
     ]
    },
    {
     "name": "stdout",
     "output_type": "stream",
     "text": [
      "\t Loss: 42.538,\tTrain : 90.95%(90.95%),\tTest : 91.39%(91.39%),\tCurrent Time: 20250917-193841\n"
     ]
    },
    {
     "name": "stderr",
     "output_type": "stream",
     "text": [
      "Epoch 6/50:: 100%|\u001b[34m████████████████████\u001b[0m| 120/120 [00:02<00:00, 47.33batch/s, loss=0.305949]\u001b[0m\n"
     ]
    },
    {
     "name": "stdout",
     "output_type": "stream",
     "text": [
      "\t Loss: 36.714,\tTrain : 91.89%(91.89%),\tTest : 92.06%(92.06%),\tCurrent Time: 20250917-193843\n"
     ]
    },
    {
     "name": "stderr",
     "output_type": "stream",
     "text": [
      "Epoch 7/50:: 100%|\u001b[34m████████████████████\u001b[0m| 120/120 [00:02<00:00, 47.34batch/s, loss=0.273616]\u001b[0m\n"
     ]
    },
    {
     "name": "stdout",
     "output_type": "stream",
     "text": [
      "\t Loss: 32.834,\tTrain : 92.74%(92.74%),\tTest : 92.69%(92.69%),\tCurrent Time: 20250917-193846\n"
     ]
    },
    {
     "name": "stderr",
     "output_type": "stream",
     "text": [
      "Epoch 8/50:: 100%|\u001b[34m████████████████████\u001b[0m| 120/120 [00:02<00:00, 47.52batch/s, loss=0.250105]\u001b[0m\n"
     ]
    },
    {
     "name": "stdout",
     "output_type": "stream",
     "text": [
      "\t Loss: 30.013,\tTrain : 93.21%(93.21%),\tTest : 93.23%(93.23%),\tCurrent Time: 20250917-193848\n"
     ]
    },
    {
     "name": "stderr",
     "output_type": "stream",
     "text": [
      "Epoch 9/50:: 100%|\u001b[34m████████████████████\u001b[0m| 120/120 [00:02<00:00, 47.68batch/s, loss=0.229988]\u001b[0m\n"
     ]
    },
    {
     "name": "stdout",
     "output_type": "stream",
     "text": [
      "\t Loss: 27.599,\tTrain : 93.77%(93.77%),\tTest : 93.58%(93.58%),\tCurrent Time: 20250917-193851\n"
     ]
    },
    {
     "name": "stderr",
     "output_type": "stream",
     "text": [
      "Epoch 10/50:: 100%|\u001b[34m███████████████████\u001b[0m| 120/120 [00:02<00:00, 47.52batch/s, loss=0.212996]\u001b[0m\n"
     ]
    },
    {
     "name": "stdout",
     "output_type": "stream",
     "text": [
      "\t Loss: 25.560,\tTrain : 94.21%(94.21%),\tTest : 94.17%(94.17%),\tCurrent Time: 20250917-193854\n"
     ]
    },
    {
     "name": "stderr",
     "output_type": "stream",
     "text": [
      "Epoch 11/50:: 100%|\u001b[34m███████████████████\u001b[0m| 120/120 [00:02<00:00, 47.57batch/s, loss=0.197988]\u001b[0m\n"
     ]
    },
    {
     "name": "stdout",
     "output_type": "stream",
     "text": [
      "\t Loss: 23.759,\tTrain : 94.60%(94.60%),\tTest : 94.47%(94.47%),\tCurrent Time: 20250917-193856\n"
     ]
    },
    {
     "name": "stderr",
     "output_type": "stream",
     "text": [
      "Epoch 12/50:: 100%|\u001b[34m███████████████████\u001b[0m| 120/120 [00:02<00:00, 47.51batch/s, loss=0.183760]\u001b[0m\n"
     ]
    },
    {
     "name": "stdout",
     "output_type": "stream",
     "text": [
      "\t Loss: 22.051,\tTrain : 95.03%(95.03%),\tTest : 94.46%(94.47%),\tCurrent Time: 20250917-193859\n"
     ]
    },
    {
     "name": "stderr",
     "output_type": "stream",
     "text": [
      "Epoch 13/50:: 100%|\u001b[34m███████████████████\u001b[0m| 120/120 [00:02<00:00, 47.16batch/s, loss=0.173765]\u001b[0m\n"
     ]
    },
    {
     "name": "stdout",
     "output_type": "stream",
     "text": [
      "\t Loss: 20.852,\tTrain : 95.27%(95.27%),\tTest : 94.88%(94.88%),\tCurrent Time: 20250917-193901\n"
     ]
    },
    {
     "name": "stderr",
     "output_type": "stream",
     "text": [
      "Epoch 14/50:: 100%|\u001b[34m███████████████████\u001b[0m| 120/120 [00:02<00:00, 47.46batch/s, loss=0.161436]\u001b[0m\n"
     ]
    },
    {
     "name": "stdout",
     "output_type": "stream",
     "text": [
      "\t Loss: 19.372,\tTrain : 95.51%(95.51%),\tTest : 95.02%(95.02%),\tCurrent Time: 20250917-193904\n"
     ]
    },
    {
     "name": "stderr",
     "output_type": "stream",
     "text": [
      "Epoch 15/50:: 100%|\u001b[34m███████████████████\u001b[0m| 120/120 [00:02<00:00, 47.22batch/s, loss=0.153105]\u001b[0m\n"
     ]
    },
    {
     "name": "stdout",
     "output_type": "stream",
     "text": [
      "\t Loss: 18.373,\tTrain : 95.76%(95.76%),\tTest : 95.32%(95.32%),\tCurrent Time: 20250917-193907\n"
     ]
    },
    {
     "name": "stderr",
     "output_type": "stream",
     "text": [
      "Epoch 16/50:: 100%|\u001b[34m███████████████████\u001b[0m| 120/120 [00:02<00:00, 47.59batch/s, loss=0.144319]\u001b[0m\n"
     ]
    },
    {
     "name": "stdout",
     "output_type": "stream",
     "text": [
      "\t Loss: 17.318,\tTrain : 95.95%(95.95%),\tTest : 95.52%(95.52%),\tCurrent Time: 20250917-193909\n"
     ]
    },
    {
     "name": "stderr",
     "output_type": "stream",
     "text": [
      "Epoch 17/50:: 100%|\u001b[34m███████████████████\u001b[0m| 120/120 [00:02<00:00, 47.63batch/s, loss=0.135813]\u001b[0m\n"
     ]
    },
    {
     "name": "stdout",
     "output_type": "stream",
     "text": [
      "\t Loss: 16.298,\tTrain : 96.18%(96.18%),\tTest : 95.51%(95.52%),\tCurrent Time: 20250917-193912\n"
     ]
    },
    {
     "name": "stderr",
     "output_type": "stream",
     "text": [
      "Epoch 18/50:: 100%|\u001b[34m███████████████████\u001b[0m| 120/120 [00:02<00:00, 47.50batch/s, loss=0.128907]\u001b[0m\n"
     ]
    },
    {
     "name": "stdout",
     "output_type": "stream",
     "text": [
      "\t Loss: 15.469,\tTrain : 96.41%(96.41%),\tTest : 95.72%(95.72%),\tCurrent Time: 20250917-193914\n"
     ]
    },
    {
     "name": "stderr",
     "output_type": "stream",
     "text": [
      "Epoch 19/50:: 100%|\u001b[34m███████████████████\u001b[0m| 120/120 [00:02<00:00, 47.76batch/s, loss=0.120720]\u001b[0m\n"
     ]
    },
    {
     "name": "stdout",
     "output_type": "stream",
     "text": [
      "\t Loss: 14.486,\tTrain : 96.63%(96.63%),\tTest : 95.86%(95.86%),\tCurrent Time: 20250917-193917\n"
     ]
    },
    {
     "name": "stderr",
     "output_type": "stream",
     "text": [
      "Epoch 20/50:: 100%|\u001b[34m███████████████████\u001b[0m| 120/120 [00:02<00:00, 47.37batch/s, loss=0.118470]\u001b[0m\n"
     ]
    },
    {
     "name": "stdout",
     "output_type": "stream",
     "text": [
      "\t Loss: 14.216,\tTrain : 96.71%(96.71%),\tTest : 95.65%(95.86%),\tCurrent Time: 20250917-193920\n"
     ]
    },
    {
     "name": "stderr",
     "output_type": "stream",
     "text": [
      "Epoch 21/50:: 100%|\u001b[34m███████████████████\u001b[0m| 120/120 [00:02<00:00, 47.26batch/s, loss=0.114205]\u001b[0m\n"
     ]
    },
    {
     "name": "stdout",
     "output_type": "stream",
     "text": [
      "\t Loss: 13.705,\tTrain : 96.78%(96.78%),\tTest : 95.90%(95.90%),\tCurrent Time: 20250917-193922\n"
     ]
    },
    {
     "name": "stderr",
     "output_type": "stream",
     "text": [
      "Epoch 22/50:: 100%|\u001b[34m███████████████████\u001b[0m| 120/120 [00:02<00:00, 47.57batch/s, loss=0.108720]\u001b[0m\n"
     ]
    },
    {
     "name": "stdout",
     "output_type": "stream",
     "text": [
      "\t Loss: 13.046,\tTrain : 96.90%(96.90%),\tTest : 96.14%(96.14%),\tCurrent Time: 20250917-193925\n"
     ]
    },
    {
     "name": "stderr",
     "output_type": "stream",
     "text": [
      "Epoch 23/50:: 100%|\u001b[34m███████████████████\u001b[0m| 120/120 [00:02<00:00, 47.59batch/s, loss=0.104585]\u001b[0m\n"
     ]
    },
    {
     "name": "stdout",
     "output_type": "stream",
     "text": [
      "\t Loss: 12.550,\tTrain : 97.06%(97.06%),\tTest : 95.99%(96.14%),\tCurrent Time: 20250917-193928\n"
     ]
    },
    {
     "name": "stderr",
     "output_type": "stream",
     "text": [
      "Epoch 24/50:: 100%|\u001b[34m███████████████████\u001b[0m| 120/120 [00:02<00:00, 47.74batch/s, loss=0.097168]\u001b[0m\n"
     ]
    },
    {
     "name": "stdout",
     "output_type": "stream",
     "text": [
      "\t Loss: 11.660,\tTrain : 97.23%(97.23%),\tTest : 96.07%(96.14%),\tCurrent Time: 20250917-193930\n"
     ]
    },
    {
     "name": "stderr",
     "output_type": "stream",
     "text": [
      "Epoch 25/50:: 100%|\u001b[34m███████████████████\u001b[0m| 120/120 [00:02<00:00, 47.80batch/s, loss=0.091749]\u001b[0m\n"
     ]
    },
    {
     "name": "stdout",
     "output_type": "stream",
     "text": [
      "\t Loss: 11.010,\tTrain : 97.42%(97.42%),\tTest : 96.15%(96.15%),\tCurrent Time: 20250917-193933\n"
     ]
    },
    {
     "name": "stderr",
     "output_type": "stream",
     "text": [
      "Epoch 26/50:: 100%|\u001b[34m███████████████████\u001b[0m| 120/120 [00:02<00:00, 47.57batch/s, loss=0.088084]\u001b[0m\n"
     ]
    },
    {
     "name": "stdout",
     "output_type": "stream",
     "text": [
      "\t Loss: 10.570,\tTrain : 97.48%(97.48%),\tTest : 96.21%(96.21%),\tCurrent Time: 20250917-193935\n"
     ]
    },
    {
     "name": "stderr",
     "output_type": "stream",
     "text": [
      "Epoch 27/50:: 100%|\u001b[34m███████████████████\u001b[0m| 120/120 [00:02<00:00, 47.58batch/s, loss=0.084985]\u001b[0m\n"
     ]
    },
    {
     "name": "stdout",
     "output_type": "stream",
     "text": [
      "\t Loss: 10.198,\tTrain : 97.58%(97.58%),\tTest : 96.35%(96.35%),\tCurrent Time: 20250917-193938\n"
     ]
    },
    {
     "name": "stderr",
     "output_type": "stream",
     "text": [
      "Epoch 28/50:: 100%|\u001b[34m███████████████████\u001b[0m| 120/120 [00:02<00:00, 47.34batch/s, loss=0.080088]\u001b[0m\n"
     ]
    },
    {
     "name": "stdout",
     "output_type": "stream",
     "text": [
      "\t Loss: 9.611,\tTrain : 97.69%(97.69%),\tTest : 96.24%(96.35%),\tCurrent Time: 20250917-193941\n"
     ]
    },
    {
     "name": "stderr",
     "output_type": "stream",
     "text": [
      "Epoch 29/50:: 100%|\u001b[34m███████████████████\u001b[0m| 120/120 [00:02<00:00, 47.65batch/s, loss=0.075282]\u001b[0m\n"
     ]
    },
    {
     "name": "stdout",
     "output_type": "stream",
     "text": [
      "\t Loss: 9.034,\tTrain : 97.84%(97.84%),\tTest : 96.31%(96.35%),\tCurrent Time: 20250917-193943\n"
     ]
    },
    {
     "name": "stderr",
     "output_type": "stream",
     "text": [
      "Epoch 30/50:: 100%|\u001b[34m███████████████████\u001b[0m| 120/120 [00:02<00:00, 47.56batch/s, loss=0.075388]\u001b[0m\n"
     ]
    },
    {
     "name": "stdout",
     "output_type": "stream",
     "text": [
      "\t Loss: 9.047,\tTrain : 97.79%(97.84%),\tTest : 96.26%(96.35%),\tCurrent Time: 20250917-193946\n"
     ]
    },
    {
     "name": "stderr",
     "output_type": "stream",
     "text": [
      "Epoch 31/50:: 100%|\u001b[34m███████████████████\u001b[0m| 120/120 [00:02<00:00, 47.70batch/s, loss=0.070967]\u001b[0m\n"
     ]
    },
    {
     "name": "stdout",
     "output_type": "stream",
     "text": [
      "\t Loss: 8.516,\tTrain : 97.91%(97.91%),\tTest : 96.45%(96.45%),\tCurrent Time: 20250917-193948\n"
     ]
    },
    {
     "name": "stderr",
     "output_type": "stream",
     "text": [
      "Epoch 32/50:: 100%|\u001b[34m███████████████████\u001b[0m| 120/120 [00:02<00:00, 47.63batch/s, loss=0.070649]\u001b[0m\n"
     ]
    },
    {
     "name": "stdout",
     "output_type": "stream",
     "text": [
      "\t Loss: 8.478,\tTrain : 97.94%(97.94%),\tTest : 96.25%(96.45%),\tCurrent Time: 20250917-193951\n"
     ]
    },
    {
     "name": "stderr",
     "output_type": "stream",
     "text": [
      "Epoch 33/50:: 100%|\u001b[34m███████████████████\u001b[0m| 120/120 [00:02<00:00, 47.49batch/s, loss=0.066573]\u001b[0m\n"
     ]
    },
    {
     "name": "stdout",
     "output_type": "stream",
     "text": [
      "\t Loss: 7.989,\tTrain : 98.04%(98.04%),\tTest : 96.41%(96.45%),\tCurrent Time: 20250917-193954\n"
     ]
    },
    {
     "name": "stderr",
     "output_type": "stream",
     "text": [
      "Epoch 34/50:: 100%|\u001b[34m███████████████████\u001b[0m| 120/120 [00:02<00:00, 47.07batch/s, loss=0.061050]\u001b[0m\n"
     ]
    },
    {
     "name": "stdout",
     "output_type": "stream",
     "text": [
      "\t Loss: 7.326,\tTrain : 98.23%(98.23%),\tTest : 96.24%(96.45%),\tCurrent Time: 20250917-193956\n"
     ]
    },
    {
     "name": "stderr",
     "output_type": "stream",
     "text": [
      "Epoch 35/50:: 100%|\u001b[34m███████████████████\u001b[0m| 120/120 [00:02<00:00, 47.62batch/s, loss=0.059646]\u001b[0m\n"
     ]
    },
    {
     "name": "stdout",
     "output_type": "stream",
     "text": [
      "\t Loss: 7.157,\tTrain : 98.25%(98.25%),\tTest : 96.26%(96.45%),\tCurrent Time: 20250917-193959\n"
     ]
    },
    {
     "name": "stderr",
     "output_type": "stream",
     "text": [
      "Epoch 36/50:: 100%|\u001b[34m███████████████████\u001b[0m| 120/120 [00:02<00:00, 47.65batch/s, loss=0.057815]\u001b[0m\n"
     ]
    },
    {
     "name": "stdout",
     "output_type": "stream",
     "text": [
      "\t Loss: 6.938,\tTrain : 98.30%(98.30%),\tTest : 96.49%(96.49%),\tCurrent Time: 20250917-194001\n"
     ]
    },
    {
     "name": "stderr",
     "output_type": "stream",
     "text": [
      "Epoch 37/50:: 100%|\u001b[34m███████████████████\u001b[0m| 120/120 [00:02<00:00, 47.36batch/s, loss=0.055031]\u001b[0m\n"
     ]
    },
    {
     "name": "stdout",
     "output_type": "stream",
     "text": [
      "\t Loss: 6.604,\tTrain : 98.39%(98.39%),\tTest : 96.41%(96.49%),\tCurrent Time: 20250917-194004\n"
     ]
    },
    {
     "name": "stderr",
     "output_type": "stream",
     "text": [
      "Epoch 38/50:: 100%|\u001b[34m███████████████████\u001b[0m| 120/120 [00:02<00:00, 47.64batch/s, loss=0.052707]\u001b[0m\n"
     ]
    },
    {
     "name": "stdout",
     "output_type": "stream",
     "text": [
      "\t Loss: 6.325,\tTrain : 98.43%(98.43%),\tTest : 96.41%(96.49%),\tCurrent Time: 20250917-194007\n"
     ]
    },
    {
     "name": "stderr",
     "output_type": "stream",
     "text": [
      "Epoch 39/50:: 100%|\u001b[34m███████████████████\u001b[0m| 120/120 [00:02<00:00, 47.54batch/s, loss=0.051622]\u001b[0m\n"
     ]
    },
    {
     "name": "stdout",
     "output_type": "stream",
     "text": [
      "\t Loss: 6.195,\tTrain : 98.44%(98.44%),\tTest : 96.30%(96.49%),\tCurrent Time: 20250917-194009\n"
     ]
    },
    {
     "name": "stderr",
     "output_type": "stream",
     "text": [
      "Epoch 40/50:: 100%|\u001b[34m███████████████████\u001b[0m| 120/120 [00:02<00:00, 47.63batch/s, loss=0.047977]\u001b[0m\n"
     ]
    },
    {
     "name": "stdout",
     "output_type": "stream",
     "text": [
      "\t Loss: 5.757,\tTrain : 98.59%(98.59%),\tTest : 96.50%(96.50%),\tCurrent Time: 20250917-194012\n"
     ]
    },
    {
     "name": "stderr",
     "output_type": "stream",
     "text": [
      "Epoch 41/50:: 100%|\u001b[34m███████████████████\u001b[0m| 120/120 [00:02<00:00, 47.31batch/s, loss=0.043906]\u001b[0m\n"
     ]
    },
    {
     "name": "stdout",
     "output_type": "stream",
     "text": [
      "\t Loss: 5.269,\tTrain : 98.75%(98.75%),\tTest : 96.61%(96.61%),\tCurrent Time: 20250917-194014\n"
     ]
    },
    {
     "name": "stderr",
     "output_type": "stream",
     "text": [
      "Epoch 42/50:: 100%|\u001b[34m███████████████████\u001b[0m| 120/120 [00:02<00:00, 47.37batch/s, loss=0.042647]\u001b[0m\n"
     ]
    },
    {
     "name": "stdout",
     "output_type": "stream",
     "text": [
      "\t Loss: 5.118,\tTrain : 98.73%(98.75%),\tTest : 96.79%(96.79%),\tCurrent Time: 20250917-194017\n"
     ]
    },
    {
     "name": "stderr",
     "output_type": "stream",
     "text": [
      "Epoch 43/50:: 100%|\u001b[34m███████████████████\u001b[0m| 120/120 [00:02<00:00, 47.56batch/s, loss=0.042155]\u001b[0m\n"
     ]
    },
    {
     "name": "stdout",
     "output_type": "stream",
     "text": [
      "\t Loss: 5.059,\tTrain : 98.75%(98.75%),\tTest : 96.72%(96.79%),\tCurrent Time: 20250917-194020\n"
     ]
    },
    {
     "name": "stderr",
     "output_type": "stream",
     "text": [
      "Epoch 44/50:: 100%|\u001b[34m███████████████████\u001b[0m| 120/120 [00:02<00:00, 47.62batch/s, loss=0.040727]\u001b[0m\n"
     ]
    },
    {
     "name": "stdout",
     "output_type": "stream",
     "text": [
      "\t Loss: 4.887,\tTrain : 98.77%(98.77%),\tTest : 96.44%(96.79%),\tCurrent Time: 20250917-194022\n"
     ]
    },
    {
     "name": "stderr",
     "output_type": "stream",
     "text": [
      "Epoch 45/50:: 100%|\u001b[34m███████████████████\u001b[0m| 120/120 [00:02<00:00, 47.13batch/s, loss=0.040684]\u001b[0m\n"
     ]
    },
    {
     "name": "stdout",
     "output_type": "stream",
     "text": [
      "\t Loss: 4.882,\tTrain : 98.73%(98.77%),\tTest : 96.65%(96.79%),\tCurrent Time: 20250917-194025\n"
     ]
    },
    {
     "name": "stderr",
     "output_type": "stream",
     "text": [
      "Epoch 46/50:: 100%|\u001b[34m███████████████████\u001b[0m| 120/120 [00:02<00:00, 47.70batch/s, loss=0.034465]\u001b[0m\n"
     ]
    },
    {
     "name": "stdout",
     "output_type": "stream",
     "text": [
      "\t Loss: 4.136,\tTrain : 98.98%(98.98%),\tTest : 96.48%(96.79%),\tCurrent Time: 20250917-194028\n"
     ]
    },
    {
     "name": "stderr",
     "output_type": "stream",
     "text": [
      "Epoch 47/50:: 100%|\u001b[34m███████████████████\u001b[0m| 120/120 [00:02<00:00, 47.52batch/s, loss=0.036652]\u001b[0m\n"
     ]
    },
    {
     "name": "stdout",
     "output_type": "stream",
     "text": [
      "\t Loss: 4.398,\tTrain : 98.84%(98.98%),\tTest : 96.72%(96.79%),\tCurrent Time: 20250917-194030\n"
     ]
    },
    {
     "name": "stderr",
     "output_type": "stream",
     "text": [
      "Epoch 48/50:: 100%|\u001b[34m███████████████████\u001b[0m| 120/120 [00:02<00:00, 47.46batch/s, loss=0.034076]\u001b[0m\n"
     ]
    },
    {
     "name": "stdout",
     "output_type": "stream",
     "text": [
      "\t Loss: 4.089,\tTrain : 98.98%(98.98%),\tTest : 96.46%(96.79%),\tCurrent Time: 20250917-194033\n"
     ]
    },
    {
     "name": "stderr",
     "output_type": "stream",
     "text": [
      "Epoch 49/50:: 100%|\u001b[34m███████████████████\u001b[0m| 120/120 [00:02<00:00, 47.50batch/s, loss=0.031273]\u001b[0m\n"
     ]
    },
    {
     "name": "stdout",
     "output_type": "stream",
     "text": [
      "\t Loss: 3.753,\tTrain : 99.02%(99.02%),\tTest : 96.76%(96.79%),\tCurrent Time: 20250917-194035\n"
     ]
    },
    {
     "name": "stderr",
     "output_type": "stream",
     "text": [
      "Epoch 50/50:: 100%|\u001b[34m███████████████████\u001b[0m| 120/120 [00:02<00:00, 47.37batch/s, loss=0.029586]\u001b[0m\n"
     ]
    },
    {
     "name": "stdout",
     "output_type": "stream",
     "text": [
      "\t Loss: 3.550,\tTrain : 99.14%(99.14%),\tTest : 96.80%(96.80%),\tCurrent Time: 20250917-194038\n",
      "First_asymm_AG_N-HL_resP-EP_L10-P0.2-MNIST_EP_b_sc0.1- Time: 20250917-194038, Epochs: 50, Learning Rate: 0.0005, Best: 99.14%  96.80%\n",
      "\n",
      "[[0 1 0 0 0 0 0 0 0 0 0 0]\n",
      " [0 0 1 0 0 1 0 0 0 0 0 0]\n",
      " [0 1 0 1 0 0 1 0 0 0 0 0]\n",
      " [0 0 1 0 1 0 0 0 0 1 1 0]\n",
      " [0 1 0 1 0 1 0 0 0 0 1 0]\n",
      " [0 1 0 0 1 0 1 0 0 1 1 0]\n",
      " [0 0 1 0 1 1 0 1 0 0 1 0]\n",
      " [0 1 0 1 0 0 1 0 1 1 0 0]\n",
      " [0 1 0 0 1 0 0 1 0 1 0 0]\n",
      " [0 0 0 0 0 1 0 0 1 0 1 0]\n",
      " [0 0 1 0 0 0 0 1 0 1 0 1]\n",
      " [0 0 0 0 0 0 0 0 0 0 1 0]]\n",
      "First_asymm_AG_N-HL_resP-EP_L10-P0.2-MNIST_EP_b_sc0.1-\n"
     ]
    },
    {
     "name": "stderr",
     "output_type": "stream",
     "text": [
      "Epoch 1/50:: 100%|\u001b[34m████████████████████\u001b[0m| 120/120 [00:02<00:00, 43.87batch/s, loss=2.272868]\u001b[0m\n"
     ]
    },
    {
     "name": "stdout",
     "output_type": "stream",
     "text": [
      "\t Loss: 272.744,\tTrain : 18.98%(18.98%),\tTest : 35.19%(35.19%),\tCurrent Time: 20250917-194045\n"
     ]
    },
    {
     "name": "stderr",
     "output_type": "stream",
     "text": [
      "Epoch 2/50:: 100%|\u001b[34m████████████████████\u001b[0m| 120/120 [00:02<00:00, 46.12batch/s, loss=1.262633]\u001b[0m\n"
     ]
    },
    {
     "name": "stdout",
     "output_type": "stream",
     "text": [
      "\t Loss: 151.516,\tTrain : 65.30%(65.30%),\tTest : 79.76%(79.76%),\tCurrent Time: 20250917-194048\n"
     ]
    },
    {
     "name": "stderr",
     "output_type": "stream",
     "text": [
      "Epoch 3/50:: 100%|\u001b[34m████████████████████\u001b[0m| 120/120 [00:02<00:00, 45.99batch/s, loss=0.665208]\u001b[0m\n"
     ]
    },
    {
     "name": "stdout",
     "output_type": "stream",
     "text": [
      "\t Loss: 79.825,\tTrain : 85.08%(85.08%),\tTest : 89.28%(89.28%),\tCurrent Time: 20250917-194051\n"
     ]
    },
    {
     "name": "stderr",
     "output_type": "stream",
     "text": [
      "Epoch 4/50:: 100%|\u001b[34m████████████████████\u001b[0m| 120/120 [00:02<00:00, 45.97batch/s, loss=0.421679]\u001b[0m\n"
     ]
    },
    {
     "name": "stdout",
     "output_type": "stream",
     "text": [
      "\t Loss: 50.601,\tTrain : 90.09%(90.09%),\tTest : 90.98%(90.98%),\tCurrent Time: 20250917-194053\n"
     ]
    },
    {
     "name": "stderr",
     "output_type": "stream",
     "text": [
      "Epoch 5/50:: 100%|\u001b[34m████████████████████\u001b[0m| 120/120 [00:02<00:00, 46.17batch/s, loss=0.329840]\u001b[0m\n"
     ]
    },
    {
     "name": "stdout",
     "output_type": "stream",
     "text": [
      "\t Loss: 39.581,\tTrain : 91.63%(91.63%),\tTest : 92.20%(92.20%),\tCurrent Time: 20250917-194056\n"
     ]
    },
    {
     "name": "stderr",
     "output_type": "stream",
     "text": [
      "Epoch 6/50:: 100%|\u001b[34m████████████████████\u001b[0m| 120/120 [00:02<00:00, 46.30batch/s, loss=0.287235]\u001b[0m\n"
     ]
    },
    {
     "name": "stdout",
     "output_type": "stream",
     "text": [
      "\t Loss: 34.468,\tTrain : 92.58%(92.58%),\tTest : 92.86%(92.86%),\tCurrent Time: 20250917-194059\n"
     ]
    },
    {
     "name": "stderr",
     "output_type": "stream",
     "text": [
      "Epoch 7/50:: 100%|\u001b[34m████████████████████\u001b[0m| 120/120 [00:02<00:00, 46.24batch/s, loss=0.257471]\u001b[0m\n"
     ]
    },
    {
     "name": "stdout",
     "output_type": "stream",
     "text": [
      "\t Loss: 30.897,\tTrain : 93.27%(93.27%),\tTest : 93.23%(93.23%),\tCurrent Time: 20250917-194101\n"
     ]
    },
    {
     "name": "stderr",
     "output_type": "stream",
     "text": [
      "Epoch 8/50:: 100%|\u001b[34m████████████████████\u001b[0m| 120/120 [00:02<00:00, 46.23batch/s, loss=0.233907]\u001b[0m\n"
     ]
    },
    {
     "name": "stdout",
     "output_type": "stream",
     "text": [
      "\t Loss: 28.069,\tTrain : 93.82%(93.82%),\tTest : 93.66%(93.66%),\tCurrent Time: 20250917-194104\n"
     ]
    },
    {
     "name": "stderr",
     "output_type": "stream",
     "text": [
      "Epoch 9/50:: 100%|\u001b[34m████████████████████\u001b[0m| 120/120 [00:02<00:00, 46.24batch/s, loss=0.212225]\u001b[0m\n"
     ]
    },
    {
     "name": "stdout",
     "output_type": "stream",
     "text": [
      "\t Loss: 25.467,\tTrain : 94.23%(94.23%),\tTest : 94.06%(94.06%),\tCurrent Time: 20250917-194107\n"
     ]
    },
    {
     "name": "stderr",
     "output_type": "stream",
     "text": [
      "Epoch 10/50:: 100%|\u001b[34m███████████████████\u001b[0m| 120/120 [00:02<00:00, 45.72batch/s, loss=0.199812]\u001b[0m\n"
     ]
    },
    {
     "name": "stdout",
     "output_type": "stream",
     "text": [
      "\t Loss: 23.977,\tTrain : 94.59%(94.59%),\tTest : 94.32%(94.32%),\tCurrent Time: 20250917-194109\n"
     ]
    },
    {
     "name": "stderr",
     "output_type": "stream",
     "text": [
      "Epoch 11/50:: 100%|\u001b[34m███████████████████\u001b[0m| 120/120 [00:02<00:00, 46.20batch/s, loss=0.189150]\u001b[0m\n"
     ]
    },
    {
     "name": "stdout",
     "output_type": "stream",
     "text": [
      "\t Loss: 22.698,\tTrain : 94.84%(94.84%),\tTest : 94.42%(94.42%),\tCurrent Time: 20250917-194112\n"
     ]
    },
    {
     "name": "stderr",
     "output_type": "stream",
     "text": [
      "Epoch 12/50:: 100%|\u001b[34m███████████████████\u001b[0m| 120/120 [00:02<00:00, 46.19batch/s, loss=0.176861]\u001b[0m\n"
     ]
    },
    {
     "name": "stdout",
     "output_type": "stream",
     "text": [
      "\t Loss: 21.223,\tTrain : 95.22%(95.22%),\tTest : 94.79%(94.79%),\tCurrent Time: 20250917-194115\n"
     ]
    },
    {
     "name": "stderr",
     "output_type": "stream",
     "text": [
      "Epoch 13/50:: 100%|\u001b[34m███████████████████\u001b[0m| 120/120 [00:02<00:00, 46.09batch/s, loss=0.167431]\u001b[0m\n"
     ]
    },
    {
     "name": "stdout",
     "output_type": "stream",
     "text": [
      "\t Loss: 20.092,\tTrain : 95.43%(95.43%),\tTest : 94.98%(94.98%),\tCurrent Time: 20250917-194117\n"
     ]
    },
    {
     "name": "stderr",
     "output_type": "stream",
     "text": [
      "Epoch 14/50:: 100%|\u001b[34m███████████████████\u001b[0m| 120/120 [00:02<00:00, 46.22batch/s, loss=0.156485]\u001b[0m\n"
     ]
    },
    {
     "name": "stdout",
     "output_type": "stream",
     "text": [
      "\t Loss: 18.778,\tTrain : 95.79%(95.79%),\tTest : 95.22%(95.22%),\tCurrent Time: 20250917-194120\n"
     ]
    },
    {
     "name": "stderr",
     "output_type": "stream",
     "text": [
      "Epoch 15/50:: 100%|\u001b[34m███████████████████\u001b[0m| 120/120 [00:02<00:00, 46.14batch/s, loss=0.148288]\u001b[0m\n"
     ]
    },
    {
     "name": "stdout",
     "output_type": "stream",
     "text": [
      "\t Loss: 17.795,\tTrain : 96.00%(96.00%),\tTest : 95.27%(95.27%),\tCurrent Time: 20250917-194123\n"
     ]
    },
    {
     "name": "stderr",
     "output_type": "stream",
     "text": [
      "Epoch 16/50:: 100%|\u001b[34m███████████████████\u001b[0m| 120/120 [00:02<00:00, 46.04batch/s, loss=0.140229]\u001b[0m\n"
     ]
    },
    {
     "name": "stdout",
     "output_type": "stream",
     "text": [
      "\t Loss: 16.827,\tTrain : 96.16%(96.16%),\tTest : 95.30%(95.30%),\tCurrent Time: 20250917-194125\n"
     ]
    },
    {
     "name": "stderr",
     "output_type": "stream",
     "text": [
      "Epoch 17/50:: 100%|\u001b[34m███████████████████\u001b[0m| 120/120 [00:02<00:00, 46.12batch/s, loss=0.135117]\u001b[0m\n"
     ]
    },
    {
     "name": "stdout",
     "output_type": "stream",
     "text": [
      "\t Loss: 16.214,\tTrain : 96.27%(96.27%),\tTest : 95.58%(95.58%),\tCurrent Time: 20250917-194128\n"
     ]
    },
    {
     "name": "stderr",
     "output_type": "stream",
     "text": [
      "Epoch 18/50:: 100%|\u001b[34m███████████████████\u001b[0m| 120/120 [00:02<00:00, 46.07batch/s, loss=0.130057]\u001b[0m\n"
     ]
    },
    {
     "name": "stdout",
     "output_type": "stream",
     "text": [
      "\t Loss: 15.607,\tTrain : 96.36%(96.36%),\tTest : 95.54%(95.58%),\tCurrent Time: 20250917-194131\n"
     ]
    },
    {
     "name": "stderr",
     "output_type": "stream",
     "text": [
      "Epoch 19/50:: 100%|\u001b[34m███████████████████\u001b[0m| 120/120 [00:02<00:00, 45.97batch/s, loss=0.123575]\u001b[0m\n"
     ]
    },
    {
     "name": "stdout",
     "output_type": "stream",
     "text": [
      "\t Loss: 14.829,\tTrain : 96.59%(96.59%),\tTest : 95.84%(95.84%),\tCurrent Time: 20250917-194133\n"
     ]
    },
    {
     "name": "stderr",
     "output_type": "stream",
     "text": [
      "Epoch 20/50:: 100%|\u001b[34m███████████████████\u001b[0m| 120/120 [00:02<00:00, 45.73batch/s, loss=0.117922]\u001b[0m\n"
     ]
    },
    {
     "name": "stdout",
     "output_type": "stream",
     "text": [
      "\t Loss: 14.151,\tTrain : 96.72%(96.72%),\tTest : 95.82%(95.84%),\tCurrent Time: 20250917-194136\n"
     ]
    },
    {
     "name": "stderr",
     "output_type": "stream",
     "text": [
      "Epoch 21/50:: 100%|\u001b[34m███████████████████\u001b[0m| 120/120 [00:02<00:00, 46.03batch/s, loss=0.114266]\u001b[0m\n"
     ]
    },
    {
     "name": "stdout",
     "output_type": "stream",
     "text": [
      "\t Loss: 13.712,\tTrain : 96.84%(96.84%),\tTest : 95.74%(95.84%),\tCurrent Time: 20250917-194139\n"
     ]
    },
    {
     "name": "stderr",
     "output_type": "stream",
     "text": [
      "Epoch 22/50:: 100%|\u001b[34m███████████████████\u001b[0m| 120/120 [00:02<00:00, 46.21batch/s, loss=0.108983]\u001b[0m\n"
     ]
    },
    {
     "name": "stdout",
     "output_type": "stream",
     "text": [
      "\t Loss: 13.078,\tTrain : 96.93%(96.93%),\tTest : 95.99%(95.99%),\tCurrent Time: 20250917-194142\n"
     ]
    },
    {
     "name": "stderr",
     "output_type": "stream",
     "text": [
      "Epoch 23/50:: 100%|\u001b[34m███████████████████\u001b[0m| 120/120 [00:02<00:00, 46.00batch/s, loss=0.104424]\u001b[0m\n"
     ]
    },
    {
     "name": "stdout",
     "output_type": "stream",
     "text": [
      "\t Loss: 12.531,\tTrain : 97.04%(97.04%),\tTest : 95.84%(95.99%),\tCurrent Time: 20250917-194144\n"
     ]
    },
    {
     "name": "stderr",
     "output_type": "stream",
     "text": [
      "Epoch 24/50:: 100%|\u001b[34m███████████████████\u001b[0m| 120/120 [00:02<00:00, 46.12batch/s, loss=0.099787]\u001b[0m\n"
     ]
    },
    {
     "name": "stdout",
     "output_type": "stream",
     "text": [
      "\t Loss: 11.974,\tTrain : 97.19%(97.19%),\tTest : 96.05%(96.05%),\tCurrent Time: 20250917-194147\n"
     ]
    },
    {
     "name": "stderr",
     "output_type": "stream",
     "text": [
      "Epoch 25/50:: 100%|\u001b[34m███████████████████\u001b[0m| 120/120 [00:02<00:00, 46.21batch/s, loss=0.095454]\u001b[0m\n"
     ]
    },
    {
     "name": "stdout",
     "output_type": "stream",
     "text": [
      "\t Loss: 11.454,\tTrain : 97.27%(97.27%),\tTest : 95.76%(96.05%),\tCurrent Time: 20250917-194150\n"
     ]
    },
    {
     "name": "stderr",
     "output_type": "stream",
     "text": [
      "Epoch 26/50:: 100%|\u001b[34m███████████████████\u001b[0m| 120/120 [00:02<00:00, 46.05batch/s, loss=0.090450]\u001b[0m\n"
     ]
    },
    {
     "name": "stdout",
     "output_type": "stream",
     "text": [
      "\t Loss: 10.854,\tTrain : 97.34%(97.34%),\tTest : 96.11%(96.11%),\tCurrent Time: 20250917-194152\n"
     ]
    },
    {
     "name": "stderr",
     "output_type": "stream",
     "text": [
      "Epoch 27/50:: 100%|\u001b[34m███████████████████\u001b[0m| 120/120 [00:02<00:00, 46.05batch/s, loss=0.089624]\u001b[0m\n"
     ]
    },
    {
     "name": "stdout",
     "output_type": "stream",
     "text": [
      "\t Loss: 10.755,\tTrain : 97.39%(97.39%),\tTest : 96.30%(96.30%),\tCurrent Time: 20250917-194155\n"
     ]
    },
    {
     "name": "stderr",
     "output_type": "stream",
     "text": [
      "Epoch 28/50:: 100%|\u001b[34m███████████████████\u001b[0m| 120/120 [00:02<00:00, 46.05batch/s, loss=0.086612]\u001b[0m\n"
     ]
    },
    {
     "name": "stdout",
     "output_type": "stream",
     "text": [
      "\t Loss: 10.393,\tTrain : 97.50%(97.50%),\tTest : 96.21%(96.30%),\tCurrent Time: 20250917-194158\n"
     ]
    },
    {
     "name": "stderr",
     "output_type": "stream",
     "text": [
      "Epoch 29/50:: 100%|\u001b[34m███████████████████\u001b[0m| 120/120 [00:02<00:00, 46.08batch/s, loss=0.080546]\u001b[0m\n"
     ]
    },
    {
     "name": "stdout",
     "output_type": "stream",
     "text": [
      "\t Loss: 9.666,\tTrain : 97.61%(97.61%),\tTest : 96.05%(96.30%),\tCurrent Time: 20250917-194200\n"
     ]
    },
    {
     "name": "stderr",
     "output_type": "stream",
     "text": [
      "Epoch 30/50:: 100%|\u001b[34m███████████████████\u001b[0m| 120/120 [00:02<00:00, 46.03batch/s, loss=0.080781]\u001b[0m\n"
     ]
    },
    {
     "name": "stdout",
     "output_type": "stream",
     "text": [
      "\t Loss: 9.694,\tTrain : 97.64%(97.64%),\tTest : 96.13%(96.30%),\tCurrent Time: 20250917-194203\n"
     ]
    },
    {
     "name": "stderr",
     "output_type": "stream",
     "text": [
      "Epoch 31/50:: 100%|\u001b[34m███████████████████\u001b[0m| 120/120 [00:02<00:00, 45.96batch/s, loss=0.078058]\u001b[0m\n"
     ]
    },
    {
     "name": "stdout",
     "output_type": "stream",
     "text": [
      "\t Loss: 9.367,\tTrain : 97.71%(97.71%),\tTest : 96.51%(96.51%),\tCurrent Time: 20250917-194206\n"
     ]
    },
    {
     "name": "stderr",
     "output_type": "stream",
     "text": [
      "Epoch 32/50:: 100%|\u001b[34m███████████████████\u001b[0m| 120/120 [00:02<00:00, 46.19batch/s, loss=0.073989]\u001b[0m\n"
     ]
    },
    {
     "name": "stdout",
     "output_type": "stream",
     "text": [
      "\t Loss: 8.879,\tTrain : 97.81%(97.81%),\tTest : 96.36%(96.51%),\tCurrent Time: 20250917-194208\n"
     ]
    },
    {
     "name": "stderr",
     "output_type": "stream",
     "text": [
      "Epoch 33/50:: 100%|\u001b[34m███████████████████\u001b[0m| 120/120 [00:02<00:00, 45.97batch/s, loss=0.069559]\u001b[0m\n"
     ]
    },
    {
     "name": "stdout",
     "output_type": "stream",
     "text": [
      "\t Loss: 8.347,\tTrain : 98.00%(98.00%),\tTest : 96.20%(96.51%),\tCurrent Time: 20250917-194211\n"
     ]
    },
    {
     "name": "stderr",
     "output_type": "stream",
     "text": [
      "Epoch 34/50:: 100%|\u001b[34m███████████████████\u001b[0m| 120/120 [00:02<00:00, 45.84batch/s, loss=0.069185]\u001b[0m\n"
     ]
    },
    {
     "name": "stdout",
     "output_type": "stream",
     "text": [
      "\t Loss: 8.302,\tTrain : 97.95%(98.00%),\tTest : 96.42%(96.51%),\tCurrent Time: 20250917-194214\n"
     ]
    },
    {
     "name": "stderr",
     "output_type": "stream",
     "text": [
      "Epoch 35/50:: 100%|\u001b[34m███████████████████\u001b[0m| 120/120 [00:02<00:00, 46.37batch/s, loss=0.063549]\u001b[0m\n"
     ]
    },
    {
     "name": "stdout",
     "output_type": "stream",
     "text": [
      "\t Loss: 7.626,\tTrain : 98.16%(98.16%),\tTest : 96.50%(96.51%),\tCurrent Time: 20250917-194217\n"
     ]
    },
    {
     "name": "stderr",
     "output_type": "stream",
     "text": [
      "Epoch 36/50:: 100%|\u001b[34m███████████████████\u001b[0m| 120/120 [00:02<00:00, 46.33batch/s, loss=0.063856]\u001b[0m\n"
     ]
    },
    {
     "name": "stdout",
     "output_type": "stream",
     "text": [
      "\t Loss: 7.663,\tTrain : 98.12%(98.16%),\tTest : 96.37%(96.51%),\tCurrent Time: 20250917-194219\n"
     ]
    },
    {
     "name": "stderr",
     "output_type": "stream",
     "text": [
      "Epoch 37/50:: 100%|\u001b[34m███████████████████\u001b[0m| 120/120 [00:02<00:00, 45.90batch/s, loss=0.060047]\u001b[0m\n"
     ]
    },
    {
     "name": "stdout",
     "output_type": "stream",
     "text": [
      "\t Loss: 7.206,\tTrain : 98.24%(98.24%),\tTest : 96.46%(96.51%),\tCurrent Time: 20250917-194222\n"
     ]
    },
    {
     "name": "stderr",
     "output_type": "stream",
     "text": [
      "Epoch 38/50:: 100%|\u001b[34m███████████████████\u001b[0m| 120/120 [00:02<00:00, 46.00batch/s, loss=0.057393]\u001b[0m\n"
     ]
    },
    {
     "name": "stdout",
     "output_type": "stream",
     "text": [
      "\t Loss: 6.887,\tTrain : 98.30%(98.30%),\tTest : 96.45%(96.51%),\tCurrent Time: 20250917-194225\n"
     ]
    },
    {
     "name": "stderr",
     "output_type": "stream",
     "text": [
      "Epoch 39/50:: 100%|\u001b[34m███████████████████\u001b[0m| 120/120 [00:02<00:00, 46.19batch/s, loss=0.055018]\u001b[0m\n"
     ]
    },
    {
     "name": "stdout",
     "output_type": "stream",
     "text": [
      "\t Loss: 6.602,\tTrain : 98.35%(98.35%),\tTest : 96.45%(96.51%),\tCurrent Time: 20250917-194227\n"
     ]
    },
    {
     "name": "stderr",
     "output_type": "stream",
     "text": [
      "Epoch 40/50:: 100%|\u001b[34m███████████████████\u001b[0m| 120/120 [00:02<00:00, 46.24batch/s, loss=0.054305]\u001b[0m\n"
     ]
    },
    {
     "name": "stdout",
     "output_type": "stream",
     "text": [
      "\t Loss: 6.517,\tTrain : 98.39%(98.39%),\tTest : 96.64%(96.64%),\tCurrent Time: 20250917-194230\n"
     ]
    },
    {
     "name": "stderr",
     "output_type": "stream",
     "text": [
      "Epoch 41/50:: 100%|\u001b[34m███████████████████\u001b[0m| 120/120 [00:02<00:00, 46.10batch/s, loss=0.051345]\u001b[0m\n"
     ]
    },
    {
     "name": "stdout",
     "output_type": "stream",
     "text": [
      "\t Loss: 6.161,\tTrain : 98.43%(98.43%),\tTest : 96.51%(96.64%),\tCurrent Time: 20250917-194233\n"
     ]
    },
    {
     "name": "stderr",
     "output_type": "stream",
     "text": [
      "Epoch 42/50:: 100%|\u001b[34m███████████████████\u001b[0m| 120/120 [00:02<00:00, 46.25batch/s, loss=0.048233]\u001b[0m\n"
     ]
    },
    {
     "name": "stdout",
     "output_type": "stream",
     "text": [
      "\t Loss: 5.788,\tTrain : 98.51%(98.51%),\tTest : 96.77%(96.77%),\tCurrent Time: 20250917-194235\n"
     ]
    },
    {
     "name": "stderr",
     "output_type": "stream",
     "text": [
      "Epoch 43/50:: 100%|\u001b[34m███████████████████\u001b[0m| 120/120 [00:02<00:00, 46.19batch/s, loss=0.048373]\u001b[0m\n"
     ]
    },
    {
     "name": "stdout",
     "output_type": "stream",
     "text": [
      "\t Loss: 5.805,\tTrain : 98.51%(98.51%),\tTest : 96.28%(96.77%),\tCurrent Time: 20250917-194238\n"
     ]
    },
    {
     "name": "stderr",
     "output_type": "stream",
     "text": [
      "Epoch 44/50:: 100%|\u001b[34m███████████████████\u001b[0m| 120/120 [00:02<00:00, 45.82batch/s, loss=0.047987]\u001b[0m\n"
     ]
    },
    {
     "name": "stdout",
     "output_type": "stream",
     "text": [
      "\t Loss: 5.758,\tTrain : 98.52%(98.52%),\tTest : 96.55%(96.77%),\tCurrent Time: 20250917-194241\n"
     ]
    },
    {
     "name": "stderr",
     "output_type": "stream",
     "text": [
      "Epoch 45/50:: 100%|\u001b[34m███████████████████\u001b[0m| 120/120 [00:02<00:00, 45.82batch/s, loss=0.043646]\u001b[0m\n"
     ]
    },
    {
     "name": "stdout",
     "output_type": "stream",
     "text": [
      "\t Loss: 5.238,\tTrain : 98.69%(98.69%),\tTest : 96.67%(96.77%),\tCurrent Time: 20250917-194243\n"
     ]
    },
    {
     "name": "stderr",
     "output_type": "stream",
     "text": [
      "Epoch 46/50:: 100%|\u001b[34m███████████████████\u001b[0m| 120/120 [00:02<00:00, 46.18batch/s, loss=0.041150]\u001b[0m\n"
     ]
    },
    {
     "name": "stdout",
     "output_type": "stream",
     "text": [
      "\t Loss: 4.938,\tTrain : 98.76%(98.76%),\tTest : 96.48%(96.77%),\tCurrent Time: 20250917-194246\n"
     ]
    },
    {
     "name": "stderr",
     "output_type": "stream",
     "text": [
      "Epoch 47/50:: 100%|\u001b[34m███████████████████\u001b[0m| 120/120 [00:02<00:00, 45.84batch/s, loss=0.038815]\u001b[0m\n"
     ]
    },
    {
     "name": "stdout",
     "output_type": "stream",
     "text": [
      "\t Loss: 4.658,\tTrain : 98.84%(98.84%),\tTest : 96.71%(96.77%),\tCurrent Time: 20250917-194249\n"
     ]
    },
    {
     "name": "stderr",
     "output_type": "stream",
     "text": [
      "Epoch 48/50:: 100%|\u001b[34m███████████████████\u001b[0m| 120/120 [00:02<00:00, 46.22batch/s, loss=0.042395]\u001b[0m\n"
     ]
    },
    {
     "name": "stdout",
     "output_type": "stream",
     "text": [
      "\t Loss: 5.087,\tTrain : 98.72%(98.84%),\tTest : 96.18%(96.77%),\tCurrent Time: 20250917-194251\n"
     ]
    },
    {
     "name": "stderr",
     "output_type": "stream",
     "text": [
      "Epoch 49/50:: 100%|\u001b[34m███████████████████\u001b[0m| 120/120 [00:02<00:00, 46.11batch/s, loss=0.037277]\u001b[0m\n"
     ]
    },
    {
     "name": "stdout",
     "output_type": "stream",
     "text": [
      "\t Loss: 4.473,\tTrain : 98.85%(98.85%),\tTest : 96.75%(96.77%),\tCurrent Time: 20250917-194254\n"
     ]
    },
    {
     "name": "stderr",
     "output_type": "stream",
     "text": [
      "Epoch 50/50:: 100%|\u001b[34m███████████████████\u001b[0m| 120/120 [00:02<00:00, 46.12batch/s, loss=0.033970]\u001b[0m\n"
     ]
    },
    {
     "name": "stdout",
     "output_type": "stream",
     "text": [
      "\t Loss: 4.076,\tTrain : 98.94%(98.94%),\tTest : 96.49%(96.77%),\tCurrent Time: 20250917-194257\n",
      "First_asymm_AG_N-HL_resP-EP_L10-P0.2-MNIST_EP_b_sc0.1- Time: 20250917-194257, Epochs: 50, Learning Rate: 0.0005, Best: 98.94%  96.77%\n",
      "\n",
      "[[0 1 0 0 0 0 0 0 0 0 0 0]\n",
      " [0 0 1 0 0 0 0 0 0 0 0 0]\n",
      " [0 1 0 1 0 0 0 0 0 0 0 0]\n",
      " [0 0 1 0 1 0 0 0 0 0 0 0]\n",
      " [0 0 0 1 0 1 0 1 0 1 1 0]\n",
      " [0 0 0 0 1 0 1 1 0 0 1 0]\n",
      " [0 0 0 1 0 1 0 1 0 0 0 0]\n",
      " [0 0 0 0 0 0 1 0 1 0 1 0]\n",
      " [0 0 0 0 0 0 0 1 0 1 0 0]\n",
      " [0 1 1 0 1 1 0 0 1 0 1 0]\n",
      " [0 0 0 0 0 0 0 0 0 1 0 1]\n",
      " [0 0 0 0 0 0 0 0 0 0 1 0]]\n",
      "First_asymm_AG_N-HL_resP-EP_L10-P0.2-MNIST_EP_b_sc0.1-\n"
     ]
    },
    {
     "name": "stderr",
     "output_type": "stream",
     "text": [
      "Epoch 1/50:: 100%|\u001b[34m████████████████████\u001b[0m| 120/120 [00:02<00:00, 44.39batch/s, loss=2.212634]\u001b[0m\n"
     ]
    },
    {
     "name": "stdout",
     "output_type": "stream",
     "text": [
      "\t Loss: 265.516,\tTrain : 18.91%(18.91%),\tTest : 45.54%(45.54%),\tCurrent Time: 20250917-194304\n"
     ]
    },
    {
     "name": "stderr",
     "output_type": "stream",
     "text": [
      "Epoch 2/50:: 100%|\u001b[34m████████████████████\u001b[0m| 120/120 [00:02<00:00, 47.33batch/s, loss=1.350464]\u001b[0m\n"
     ]
    },
    {
     "name": "stdout",
     "output_type": "stream",
     "text": [
      "\t Loss: 162.056,\tTrain : 64.55%(64.55%),\tTest : 79.04%(79.04%),\tCurrent Time: 20250917-194307\n"
     ]
    },
    {
     "name": "stderr",
     "output_type": "stream",
     "text": [
      "Epoch 3/50:: 100%|\u001b[34m████████████████████\u001b[0m| 120/120 [00:02<00:00, 47.28batch/s, loss=0.739077]\u001b[0m\n"
     ]
    },
    {
     "name": "stdout",
     "output_type": "stream",
     "text": [
      "\t Loss: 88.689,\tTrain : 82.62%(82.62%),\tTest : 86.63%(86.63%),\tCurrent Time: 20250917-194309\n"
     ]
    },
    {
     "name": "stderr",
     "output_type": "stream",
     "text": [
      "Epoch 4/50:: 100%|\u001b[34m████████████████████\u001b[0m| 120/120 [00:02<00:00, 47.50batch/s, loss=0.493765]\u001b[0m\n"
     ]
    },
    {
     "name": "stdout",
     "output_type": "stream",
     "text": [
      "\t Loss: 59.252,\tTrain : 88.09%(88.09%),\tTest : 89.27%(89.27%),\tCurrent Time: 20250917-194312\n"
     ]
    },
    {
     "name": "stderr",
     "output_type": "stream",
     "text": [
      "Epoch 5/50:: 100%|\u001b[34m████████████████████\u001b[0m| 120/120 [00:02<00:00, 47.38batch/s, loss=0.381942]\u001b[0m\n"
     ]
    },
    {
     "name": "stdout",
     "output_type": "stream",
     "text": [
      "\t Loss: 45.833,\tTrain : 89.98%(89.98%),\tTest : 90.87%(90.87%),\tCurrent Time: 20250917-194315\n"
     ]
    },
    {
     "name": "stderr",
     "output_type": "stream",
     "text": [
      "Epoch 6/50:: 100%|\u001b[34m████████████████████\u001b[0m| 120/120 [00:02<00:00, 47.53batch/s, loss=0.331334]\u001b[0m\n"
     ]
    },
    {
     "name": "stdout",
     "output_type": "stream",
     "text": [
      "\t Loss: 39.760,\tTrain : 91.07%(91.07%),\tTest : 91.38%(91.38%),\tCurrent Time: 20250917-194317\n"
     ]
    },
    {
     "name": "stderr",
     "output_type": "stream",
     "text": [
      "Epoch 7/50:: 100%|\u001b[34m████████████████████\u001b[0m| 120/120 [00:02<00:00, 47.49batch/s, loss=0.299518]\u001b[0m\n"
     ]
    },
    {
     "name": "stdout",
     "output_type": "stream",
     "text": [
      "\t Loss: 35.942,\tTrain : 91.87%(91.87%),\tTest : 92.19%(92.19%),\tCurrent Time: 20250917-194320\n"
     ]
    },
    {
     "name": "stderr",
     "output_type": "stream",
     "text": [
      "Epoch 8/50:: 100%|\u001b[34m████████████████████\u001b[0m| 120/120 [00:02<00:00, 47.46batch/s, loss=0.275437]\u001b[0m\n"
     ]
    },
    {
     "name": "stdout",
     "output_type": "stream",
     "text": [
      "\t Loss: 33.052,\tTrain : 92.47%(92.47%),\tTest : 92.39%(92.39%),\tCurrent Time: 20250917-194322\n"
     ]
    },
    {
     "name": "stderr",
     "output_type": "stream",
     "text": [
      "Epoch 9/50:: 100%|\u001b[34m████████████████████\u001b[0m| 120/120 [00:02<00:00, 47.46batch/s, loss=0.254437]\u001b[0m\n"
     ]
    },
    {
     "name": "stdout",
     "output_type": "stream",
     "text": [
      "\t Loss: 30.532,\tTrain : 93.05%(93.05%),\tTest : 93.32%(93.32%),\tCurrent Time: 20250917-194325\n"
     ]
    },
    {
     "name": "stderr",
     "output_type": "stream",
     "text": [
      "Epoch 10/50:: 100%|\u001b[34m███████████████████\u001b[0m| 120/120 [00:02<00:00, 47.10batch/s, loss=0.230084]\u001b[0m\n"
     ]
    },
    {
     "name": "stdout",
     "output_type": "stream",
     "text": [
      "\t Loss: 27.610,\tTrain : 93.62%(93.62%),\tTest : 93.58%(93.58%),\tCurrent Time: 20250917-194328\n"
     ]
    },
    {
     "name": "stderr",
     "output_type": "stream",
     "text": [
      "Epoch 11/50:: 100%|\u001b[34m███████████████████\u001b[0m| 120/120 [00:02<00:00, 47.66batch/s, loss=0.213549]\u001b[0m\n"
     ]
    },
    {
     "name": "stdout",
     "output_type": "stream",
     "text": [
      "\t Loss: 25.626,\tTrain : 94.08%(94.08%),\tTest : 94.10%(94.10%),\tCurrent Time: 20250917-194330\n"
     ]
    },
    {
     "name": "stderr",
     "output_type": "stream",
     "text": [
      "Epoch 12/50:: 100%|\u001b[34m███████████████████\u001b[0m| 120/120 [00:02<00:00, 47.51batch/s, loss=0.195842]\u001b[0m\n"
     ]
    },
    {
     "name": "stdout",
     "output_type": "stream",
     "text": [
      "\t Loss: 23.501,\tTrain : 94.53%(94.53%),\tTest : 94.20%(94.20%),\tCurrent Time: 20250917-194333\n"
     ]
    },
    {
     "name": "stderr",
     "output_type": "stream",
     "text": [
      "Epoch 13/50:: 100%|\u001b[34m███████████████████\u001b[0m| 120/120 [00:02<00:00, 46.95batch/s, loss=0.183894]\u001b[0m\n"
     ]
    },
    {
     "name": "stdout",
     "output_type": "stream",
     "text": [
      "\t Loss: 22.067,\tTrain : 94.84%(94.84%),\tTest : 94.36%(94.36%),\tCurrent Time: 20250917-194335\n"
     ]
    },
    {
     "name": "stderr",
     "output_type": "stream",
     "text": [
      "Epoch 14/50:: 100%|\u001b[34m███████████████████\u001b[0m| 120/120 [00:02<00:00, 47.38batch/s, loss=0.172009]\u001b[0m\n"
     ]
    },
    {
     "name": "stdout",
     "output_type": "stream",
     "text": [
      "\t Loss: 20.641,\tTrain : 95.16%(95.16%),\tTest : 94.87%(94.87%),\tCurrent Time: 20250917-194338\n"
     ]
    },
    {
     "name": "stderr",
     "output_type": "stream",
     "text": [
      "Epoch 15/50:: 100%|\u001b[34m███████████████████\u001b[0m| 120/120 [00:02<00:00, 47.35batch/s, loss=0.165795]\u001b[0m\n"
     ]
    },
    {
     "name": "stdout",
     "output_type": "stream",
     "text": [
      "\t Loss: 19.895,\tTrain : 95.31%(95.31%),\tTest : 95.07%(95.07%),\tCurrent Time: 20250917-194341\n"
     ]
    },
    {
     "name": "stderr",
     "output_type": "stream",
     "text": [
      "Epoch 16/50:: 100%|\u001b[34m███████████████████\u001b[0m| 120/120 [00:02<00:00, 46.94batch/s, loss=0.157179]\u001b[0m\n"
     ]
    },
    {
     "name": "stdout",
     "output_type": "stream",
     "text": [
      "\t Loss: 18.862,\tTrain : 95.54%(95.54%),\tTest : 95.15%(95.15%),\tCurrent Time: 20250917-194343\n"
     ]
    },
    {
     "name": "stderr",
     "output_type": "stream",
     "text": [
      "Epoch 17/50:: 100%|\u001b[34m███████████████████\u001b[0m| 120/120 [00:02<00:00, 47.35batch/s, loss=0.147028]\u001b[0m\n"
     ]
    },
    {
     "name": "stdout",
     "output_type": "stream",
     "text": [
      "\t Loss: 17.643,\tTrain : 95.80%(95.80%),\tTest : 95.10%(95.15%),\tCurrent Time: 20250917-194346\n"
     ]
    },
    {
     "name": "stderr",
     "output_type": "stream",
     "text": [
      "Epoch 18/50:: 100%|\u001b[34m███████████████████\u001b[0m| 120/120 [00:02<00:00, 47.56batch/s, loss=0.139877]\u001b[0m\n"
     ]
    },
    {
     "name": "stdout",
     "output_type": "stream",
     "text": [
      "\t Loss: 16.785,\tTrain : 96.06%(96.06%),\tTest : 95.53%(95.53%),\tCurrent Time: 20250917-194349\n"
     ]
    },
    {
     "name": "stderr",
     "output_type": "stream",
     "text": [
      "Epoch 19/50:: 100%|\u001b[34m███████████████████\u001b[0m| 120/120 [00:02<00:00, 47.34batch/s, loss=0.134654]\u001b[0m\n"
     ]
    },
    {
     "name": "stdout",
     "output_type": "stream",
     "text": [
      "\t Loss: 16.158,\tTrain : 96.12%(96.12%),\tTest : 95.60%(95.60%),\tCurrent Time: 20250917-194351\n"
     ]
    },
    {
     "name": "stderr",
     "output_type": "stream",
     "text": [
      "Epoch 20/50:: 100%|\u001b[34m███████████████████\u001b[0m| 120/120 [00:02<00:00, 47.40batch/s, loss=0.126736]\u001b[0m\n"
     ]
    },
    {
     "name": "stdout",
     "output_type": "stream",
     "text": [
      "\t Loss: 15.208,\tTrain : 96.34%(96.34%),\tTest : 95.61%(95.61%),\tCurrent Time: 20250917-194354\n"
     ]
    },
    {
     "name": "stderr",
     "output_type": "stream",
     "text": [
      "Epoch 21/50:: 100%|\u001b[34m███████████████████\u001b[0m| 120/120 [00:02<00:00, 47.35batch/s, loss=0.120812]\u001b[0m\n"
     ]
    },
    {
     "name": "stdout",
     "output_type": "stream",
     "text": [
      "\t Loss: 14.497,\tTrain : 96.56%(96.56%),\tTest : 95.30%(95.61%),\tCurrent Time: 20250917-194356\n"
     ]
    },
    {
     "name": "stderr",
     "output_type": "stream",
     "text": [
      "Epoch 22/50:: 100%|\u001b[34m███████████████████\u001b[0m| 120/120 [00:02<00:00, 47.70batch/s, loss=0.117479]\u001b[0m\n"
     ]
    },
    {
     "name": "stdout",
     "output_type": "stream",
     "text": [
      "\t Loss: 14.097,\tTrain : 96.64%(96.64%),\tTest : 95.97%(95.97%),\tCurrent Time: 20250917-194359\n"
     ]
    },
    {
     "name": "stderr",
     "output_type": "stream",
     "text": [
      "Epoch 23/50:: 100%|\u001b[34m███████████████████\u001b[0m| 120/120 [00:02<00:00, 47.52batch/s, loss=0.111930]\u001b[0m\n"
     ]
    },
    {
     "name": "stdout",
     "output_type": "stream",
     "text": [
      "\t Loss: 13.432,\tTrain : 96.74%(96.74%),\tTest : 95.71%(95.97%),\tCurrent Time: 20250917-194402\n"
     ]
    },
    {
     "name": "stderr",
     "output_type": "stream",
     "text": [
      "Epoch 24/50:: 100%|\u001b[34m███████████████████\u001b[0m| 120/120 [00:02<00:00, 47.56batch/s, loss=0.105635]\u001b[0m\n"
     ]
    },
    {
     "name": "stdout",
     "output_type": "stream",
     "text": [
      "\t Loss: 12.676,\tTrain : 96.96%(96.96%),\tTest : 96.03%(96.03%),\tCurrent Time: 20250917-194404\n"
     ]
    },
    {
     "name": "stderr",
     "output_type": "stream",
     "text": [
      "Epoch 25/50:: 100%|\u001b[34m███████████████████\u001b[0m| 120/120 [00:02<00:00, 47.69batch/s, loss=0.101464]\u001b[0m\n"
     ]
    },
    {
     "name": "stdout",
     "output_type": "stream",
     "text": [
      "\t Loss: 12.176,\tTrain : 97.12%(97.12%),\tTest : 95.91%(96.03%),\tCurrent Time: 20250917-194407\n"
     ]
    },
    {
     "name": "stderr",
     "output_type": "stream",
     "text": [
      "Epoch 26/50:: 100%|\u001b[34m███████████████████\u001b[0m| 120/120 [00:02<00:00, 47.56batch/s, loss=0.097387]\u001b[0m\n"
     ]
    },
    {
     "name": "stdout",
     "output_type": "stream",
     "text": [
      "\t Loss: 11.686,\tTrain : 97.20%(97.20%),\tTest : 95.96%(96.03%),\tCurrent Time: 20250917-194409\n"
     ]
    },
    {
     "name": "stderr",
     "output_type": "stream",
     "text": [
      "Epoch 27/50:: 100%|\u001b[34m███████████████████\u001b[0m| 120/120 [00:02<00:00, 47.57batch/s, loss=0.093861]\u001b[0m\n"
     ]
    },
    {
     "name": "stdout",
     "output_type": "stream",
     "text": [
      "\t Loss: 11.263,\tTrain : 97.24%(97.24%),\tTest : 95.83%(96.03%),\tCurrent Time: 20250917-194412\n"
     ]
    },
    {
     "name": "stderr",
     "output_type": "stream",
     "text": [
      "Epoch 28/50:: 100%|\u001b[34m███████████████████\u001b[0m| 120/120 [00:02<00:00, 47.65batch/s, loss=0.088507]\u001b[0m\n"
     ]
    },
    {
     "name": "stdout",
     "output_type": "stream",
     "text": [
      "\t Loss: 10.621,\tTrain : 97.41%(97.41%),\tTest : 96.30%(96.30%),\tCurrent Time: 20250917-194415\n"
     ]
    },
    {
     "name": "stderr",
     "output_type": "stream",
     "text": [
      "Epoch 29/50:: 100%|\u001b[34m███████████████████\u001b[0m| 120/120 [00:02<00:00, 47.50batch/s, loss=0.084458]\u001b[0m\n"
     ]
    },
    {
     "name": "stdout",
     "output_type": "stream",
     "text": [
      "\t Loss: 10.135,\tTrain : 97.59%(97.59%),\tTest : 95.85%(96.30%),\tCurrent Time: 20250917-194417\n"
     ]
    },
    {
     "name": "stderr",
     "output_type": "stream",
     "text": [
      "Epoch 30/50:: 100%|\u001b[34m███████████████████\u001b[0m| 120/120 [00:02<00:00, 47.22batch/s, loss=0.081704]\u001b[0m\n"
     ]
    },
    {
     "name": "stdout",
     "output_type": "stream",
     "text": [
      "\t Loss: 9.805,\tTrain : 97.61%(97.61%),\tTest : 96.16%(96.30%),\tCurrent Time: 20250917-194420\n"
     ]
    },
    {
     "name": "stderr",
     "output_type": "stream",
     "text": [
      "Epoch 31/50:: 100%|\u001b[34m███████████████████\u001b[0m| 120/120 [00:02<00:00, 47.75batch/s, loss=0.078314]\u001b[0m\n"
     ]
    },
    {
     "name": "stdout",
     "output_type": "stream",
     "text": [
      "\t Loss: 9.398,\tTrain : 97.75%(97.75%),\tTest : 96.20%(96.30%),\tCurrent Time: 20250917-194422\n"
     ]
    },
    {
     "name": "stderr",
     "output_type": "stream",
     "text": [
      "Epoch 32/50:: 100%|\u001b[34m███████████████████\u001b[0m| 120/120 [00:02<00:00, 47.45batch/s, loss=0.074625]\u001b[0m\n"
     ]
    },
    {
     "name": "stdout",
     "output_type": "stream",
     "text": [
      "\t Loss: 8.955,\tTrain : 97.84%(97.84%),\tTest : 96.40%(96.40%),\tCurrent Time: 20250917-194425\n"
     ]
    },
    {
     "name": "stderr",
     "output_type": "stream",
     "text": [
      "Epoch 33/50:: 100%|\u001b[34m███████████████████\u001b[0m| 120/120 [00:02<00:00, 47.62batch/s, loss=0.071911]\u001b[0m\n"
     ]
    },
    {
     "name": "stdout",
     "output_type": "stream",
     "text": [
      "\t Loss: 8.629,\tTrain : 97.92%(97.92%),\tTest : 96.23%(96.40%),\tCurrent Time: 20250917-194428\n"
     ]
    },
    {
     "name": "stderr",
     "output_type": "stream",
     "text": [
      "Epoch 34/50:: 100%|\u001b[34m███████████████████\u001b[0m| 120/120 [00:02<00:00, 47.58batch/s, loss=0.071663]\u001b[0m\n"
     ]
    },
    {
     "name": "stdout",
     "output_type": "stream",
     "text": [
      "\t Loss: 8.600,\tTrain : 97.91%(97.92%),\tTest : 95.74%(96.40%),\tCurrent Time: 20250917-194430\n"
     ]
    },
    {
     "name": "stderr",
     "output_type": "stream",
     "text": [
      "Epoch 35/50:: 100%|\u001b[34m███████████████████\u001b[0m| 120/120 [00:02<00:00, 47.58batch/s, loss=0.066027]\u001b[0m\n"
     ]
    },
    {
     "name": "stdout",
     "output_type": "stream",
     "text": [
      "\t Loss: 7.923,\tTrain : 98.08%(98.08%),\tTest : 96.40%(96.40%),\tCurrent Time: 20250917-194433\n"
     ]
    },
    {
     "name": "stderr",
     "output_type": "stream",
     "text": [
      "Epoch 36/50:: 100%|\u001b[34m███████████████████\u001b[0m| 120/120 [00:02<00:00, 47.80batch/s, loss=0.063026]\u001b[0m\n"
     ]
    },
    {
     "name": "stdout",
     "output_type": "stream",
     "text": [
      "\t Loss: 7.563,\tTrain : 98.12%(98.12%),\tTest : 96.21%(96.40%),\tCurrent Time: 20250917-194435\n"
     ]
    },
    {
     "name": "stderr",
     "output_type": "stream",
     "text": [
      "Epoch 37/50:: 100%|\u001b[34m███████████████████\u001b[0m| 120/120 [00:02<00:00, 47.11batch/s, loss=0.062066]\u001b[0m\n"
     ]
    },
    {
     "name": "stdout",
     "output_type": "stream",
     "text": [
      "\t Loss: 7.448,\tTrain : 98.16%(98.16%),\tTest : 96.65%(96.65%),\tCurrent Time: 20250917-194438\n"
     ]
    },
    {
     "name": "stderr",
     "output_type": "stream",
     "text": [
      "Epoch 38/50:: 100%|\u001b[34m███████████████████\u001b[0m| 120/120 [00:02<00:00, 47.83batch/s, loss=0.056987]\u001b[0m\n"
     ]
    },
    {
     "name": "stdout",
     "output_type": "stream",
     "text": [
      "\t Loss: 6.838,\tTrain : 98.35%(98.35%),\tTest : 96.52%(96.65%),\tCurrent Time: 20250917-194441\n"
     ]
    },
    {
     "name": "stderr",
     "output_type": "stream",
     "text": [
      "Epoch 39/50:: 100%|\u001b[34m███████████████████\u001b[0m| 120/120 [00:02<00:00, 47.23batch/s, loss=0.056710]\u001b[0m\n"
     ]
    },
    {
     "name": "stdout",
     "output_type": "stream",
     "text": [
      "\t Loss: 6.805,\tTrain : 98.27%(98.35%),\tTest : 96.42%(96.65%),\tCurrent Time: 20250917-194443\n"
     ]
    },
    {
     "name": "stderr",
     "output_type": "stream",
     "text": [
      "Epoch 40/50:: 100%|\u001b[34m███████████████████\u001b[0m| 120/120 [00:02<00:00, 47.82batch/s, loss=0.054529]\u001b[0m\n"
     ]
    },
    {
     "name": "stdout",
     "output_type": "stream",
     "text": [
      "\t Loss: 6.544,\tTrain : 98.38%(98.38%),\tTest : 96.30%(96.65%),\tCurrent Time: 20250917-194446\n"
     ]
    },
    {
     "name": "stderr",
     "output_type": "stream",
     "text": [
      "Epoch 41/50:: 100%|\u001b[34m███████████████████\u001b[0m| 120/120 [00:02<00:00, 47.46batch/s, loss=0.051624]\u001b[0m\n"
     ]
    },
    {
     "name": "stdout",
     "output_type": "stream",
     "text": [
      "\t Loss: 6.195,\tTrain : 98.45%(98.45%),\tTest : 96.42%(96.65%),\tCurrent Time: 20250917-194449\n"
     ]
    },
    {
     "name": "stderr",
     "output_type": "stream",
     "text": [
      "Epoch 42/50:: 100%|\u001b[34m███████████████████\u001b[0m| 120/120 [00:02<00:00, 47.85batch/s, loss=0.049530]\u001b[0m\n"
     ]
    },
    {
     "name": "stdout",
     "output_type": "stream",
     "text": [
      "\t Loss: 5.944,\tTrain : 98.51%(98.51%),\tTest : 96.51%(96.65%),\tCurrent Time: 20250917-194451\n"
     ]
    },
    {
     "name": "stderr",
     "output_type": "stream",
     "text": [
      "Epoch 43/50:: 100%|\u001b[34m███████████████████\u001b[0m| 120/120 [00:02<00:00, 47.56batch/s, loss=0.049440]\u001b[0m\n"
     ]
    },
    {
     "name": "stdout",
     "output_type": "stream",
     "text": [
      "\t Loss: 5.933,\tTrain : 98.53%(98.53%),\tTest : 96.48%(96.65%),\tCurrent Time: 20250917-194454\n"
     ]
    },
    {
     "name": "stderr",
     "output_type": "stream",
     "text": [
      "Epoch 44/50:: 100%|\u001b[34m███████████████████\u001b[0m| 120/120 [00:02<00:00, 47.50batch/s, loss=0.046730]\u001b[0m\n"
     ]
    },
    {
     "name": "stdout",
     "output_type": "stream",
     "text": [
      "\t Loss: 5.608,\tTrain : 98.57%(98.57%),\tTest : 96.58%(96.65%),\tCurrent Time: 20250917-194456\n"
     ]
    },
    {
     "name": "stderr",
     "output_type": "stream",
     "text": [
      "Epoch 45/50:: 100%|\u001b[34m███████████████████\u001b[0m| 120/120 [00:02<00:00, 47.58batch/s, loss=0.042505]\u001b[0m\n"
     ]
    },
    {
     "name": "stdout",
     "output_type": "stream",
     "text": [
      "\t Loss: 5.101,\tTrain : 98.75%(98.75%),\tTest : 96.60%(96.65%),\tCurrent Time: 20250917-194459\n"
     ]
    },
    {
     "name": "stderr",
     "output_type": "stream",
     "text": [
      "Epoch 46/50:: 100%|\u001b[34m███████████████████\u001b[0m| 120/120 [00:02<00:00, 47.48batch/s, loss=0.042115]\u001b[0m\n"
     ]
    },
    {
     "name": "stdout",
     "output_type": "stream",
     "text": [
      "\t Loss: 5.054,\tTrain : 98.69%(98.75%),\tTest : 96.53%(96.65%),\tCurrent Time: 20250917-194502\n"
     ]
    },
    {
     "name": "stderr",
     "output_type": "stream",
     "text": [
      "Epoch 47/50:: 100%|\u001b[34m███████████████████\u001b[0m| 120/120 [00:02<00:00, 47.55batch/s, loss=0.043280]\u001b[0m\n"
     ]
    },
    {
     "name": "stdout",
     "output_type": "stream",
     "text": [
      "\t Loss: 5.194,\tTrain : 98.69%(98.75%),\tTest : 96.30%(96.65%),\tCurrent Time: 20250917-194504\n"
     ]
    },
    {
     "name": "stderr",
     "output_type": "stream",
     "text": [
      "Epoch 48/50:: 100%|\u001b[34m███████████████████\u001b[0m| 120/120 [00:02<00:00, 47.36batch/s, loss=0.039751]\u001b[0m\n"
     ]
    },
    {
     "name": "stdout",
     "output_type": "stream",
     "text": [
      "\t Loss: 4.770,\tTrain : 98.78%(98.78%),\tTest : 96.32%(96.65%),\tCurrent Time: 20250917-194507\n"
     ]
    },
    {
     "name": "stderr",
     "output_type": "stream",
     "text": [
      "Epoch 49/50:: 100%|\u001b[34m███████████████████\u001b[0m| 120/120 [00:02<00:00, 47.59batch/s, loss=0.038697]\u001b[0m\n"
     ]
    },
    {
     "name": "stdout",
     "output_type": "stream",
     "text": [
      "\t Loss: 4.644,\tTrain : 98.83%(98.83%),\tTest : 96.41%(96.65%),\tCurrent Time: 20250917-194509\n"
     ]
    },
    {
     "name": "stderr",
     "output_type": "stream",
     "text": [
      "Epoch 50/50:: 100%|\u001b[34m███████████████████\u001b[0m| 120/120 [00:02<00:00, 47.72batch/s, loss=0.038144]\u001b[0m\n"
     ]
    },
    {
     "name": "stdout",
     "output_type": "stream",
     "text": [
      "\t Loss: 4.577,\tTrain : 98.78%(98.83%),\tTest : 96.63%(96.65%),\tCurrent Time: 20250917-194512\n",
      "First_asymm_AG_N-HL_resP-EP_L10-P0.2-MNIST_EP_b_sc0.1- Time: 20250917-194512, Epochs: 50, Learning Rate: 0.0005, Best: 98.83%  96.65%\n",
      "\n",
      "[[0 1 0 0 0 0 0 0 0 0 0 0]\n",
      " [0 0 1 0 0 0 0 0 0 0 0 0]\n",
      " [0 1 0 1 0 0 0 0 0 0 0 0]\n",
      " [0 1 1 0 1 0 0 0 0 0 0 0]\n",
      " [0 0 1 1 0 1 0 0 0 1 0 0]\n",
      " [0 0 0 0 1 0 1 0 0 0 0 0]\n",
      " [0 0 0 0 0 1 0 1 0 0 0 0]\n",
      " [0 0 1 0 1 1 1 0 1 0 0 0]\n",
      " [0 0 0 1 1 0 0 1 0 1 0 0]\n",
      " [0 0 0 0 0 0 0 0 1 0 1 0]\n",
      " [0 0 1 0 0 1 0 0 0 1 0 1]\n",
      " [0 0 0 0 0 0 0 0 0 0 1 0]]\n",
      "First_asymm_AG_N-HL_resP-EP_L10-P0.2-MNIST_EP_b_sc0.1-\n"
     ]
    },
    {
     "name": "stderr",
     "output_type": "stream",
     "text": [
      "Epoch 1/50:: 100%|\u001b[34m████████████████████\u001b[0m| 120/120 [00:02<00:00, 45.70batch/s, loss=2.252072]\u001b[0m\n"
     ]
    },
    {
     "name": "stdout",
     "output_type": "stream",
     "text": [
      "\t Loss: 270.249,\tTrain : 13.06%(13.06%),\tTest : 25.51%(25.51%),\tCurrent Time: 20250917-194519\n"
     ]
    },
    {
     "name": "stderr",
     "output_type": "stream",
     "text": [
      "Epoch 2/50:: 100%|\u001b[34m████████████████████\u001b[0m| 120/120 [00:02<00:00, 49.83batch/s, loss=1.601790]\u001b[0m\n"
     ]
    },
    {
     "name": "stdout",
     "output_type": "stream",
     "text": [
      "\t Loss: 192.215,\tTrain : 51.41%(51.41%),\tTest : 75.97%(75.97%),\tCurrent Time: 20250917-194522\n"
     ]
    },
    {
     "name": "stderr",
     "output_type": "stream",
     "text": [
      "Epoch 3/50:: 100%|\u001b[34m████████████████████\u001b[0m| 120/120 [00:02<00:00, 49.85batch/s, loss=0.950802]\u001b[0m\n"
     ]
    },
    {
     "name": "stdout",
     "output_type": "stream",
     "text": [
      "\t Loss: 114.096,\tTrain : 80.45%(80.45%),\tTest : 86.99%(86.99%),\tCurrent Time: 20250917-194524\n"
     ]
    },
    {
     "name": "stderr",
     "output_type": "stream",
     "text": [
      "Epoch 4/50:: 100%|\u001b[34m████████████████████\u001b[0m| 120/120 [00:02<00:00, 49.97batch/s, loss=0.565644]\u001b[0m\n"
     ]
    },
    {
     "name": "stdout",
     "output_type": "stream",
     "text": [
      "\t Loss: 67.877,\tTrain : 88.11%(88.11%),\tTest : 89.84%(89.84%),\tCurrent Time: 20250917-194527\n"
     ]
    },
    {
     "name": "stderr",
     "output_type": "stream",
     "text": [
      "Epoch 5/50:: 100%|\u001b[34m████████████████████\u001b[0m| 120/120 [00:02<00:00, 49.89batch/s, loss=0.421259]\u001b[0m\n"
     ]
    },
    {
     "name": "stdout",
     "output_type": "stream",
     "text": [
      "\t Loss: 50.551,\tTrain : 90.00%(90.00%),\tTest : 90.80%(90.80%),\tCurrent Time: 20250917-194529\n"
     ]
    },
    {
     "name": "stderr",
     "output_type": "stream",
     "text": [
      "Epoch 6/50:: 100%|\u001b[34m████████████████████\u001b[0m| 120/120 [00:02<00:00, 49.87batch/s, loss=0.351454]\u001b[0m\n"
     ]
    },
    {
     "name": "stdout",
     "output_type": "stream",
     "text": [
      "\t Loss: 42.174,\tTrain : 91.14%(91.14%),\tTest : 91.72%(91.72%),\tCurrent Time: 20250917-194532\n"
     ]
    },
    {
     "name": "stderr",
     "output_type": "stream",
     "text": [
      "Epoch 7/50:: 100%|\u001b[34m████████████████████\u001b[0m| 120/120 [00:02<00:00, 49.85batch/s, loss=0.310767]\u001b[0m\n"
     ]
    },
    {
     "name": "stdout",
     "output_type": "stream",
     "text": [
      "\t Loss: 37.292,\tTrain : 91.87%(91.87%),\tTest : 92.39%(92.39%),\tCurrent Time: 20250917-194534\n"
     ]
    },
    {
     "name": "stderr",
     "output_type": "stream",
     "text": [
      "Epoch 8/50:: 100%|\u001b[34m████████████████████\u001b[0m| 120/120 [00:02<00:00, 49.73batch/s, loss=0.279616]\u001b[0m\n"
     ]
    },
    {
     "name": "stdout",
     "output_type": "stream",
     "text": [
      "\t Loss: 33.554,\tTrain : 92.52%(92.52%),\tTest : 92.93%(92.93%),\tCurrent Time: 20250917-194536\n"
     ]
    },
    {
     "name": "stderr",
     "output_type": "stream",
     "text": [
      "Epoch 9/50:: 100%|\u001b[34m████████████████████\u001b[0m| 120/120 [00:02<00:00, 49.93batch/s, loss=0.254742]\u001b[0m\n"
     ]
    },
    {
     "name": "stdout",
     "output_type": "stream",
     "text": [
      "\t Loss: 30.569,\tTrain : 93.15%(93.15%),\tTest : 93.36%(93.36%),\tCurrent Time: 20250917-194539\n"
     ]
    },
    {
     "name": "stderr",
     "output_type": "stream",
     "text": [
      "Epoch 10/50:: 100%|\u001b[34m███████████████████\u001b[0m| 120/120 [00:02<00:00, 50.00batch/s, loss=0.234082]\u001b[0m\n"
     ]
    },
    {
     "name": "stdout",
     "output_type": "stream",
     "text": [
      "\t Loss: 28.090,\tTrain : 93.72%(93.72%),\tTest : 93.75%(93.75%),\tCurrent Time: 20250917-194541\n"
     ]
    },
    {
     "name": "stderr",
     "output_type": "stream",
     "text": [
      "Epoch 11/50:: 100%|\u001b[34m███████████████████\u001b[0m| 120/120 [00:02<00:00, 49.69batch/s, loss=0.217211]\u001b[0m\n"
     ]
    },
    {
     "name": "stdout",
     "output_type": "stream",
     "text": [
      "\t Loss: 26.065,\tTrain : 94.13%(94.13%),\tTest : 93.99%(93.99%),\tCurrent Time: 20250917-194544\n"
     ]
    },
    {
     "name": "stderr",
     "output_type": "stream",
     "text": [
      "Epoch 12/50:: 100%|\u001b[34m███████████████████\u001b[0m| 120/120 [00:02<00:00, 49.85batch/s, loss=0.202703]\u001b[0m\n"
     ]
    },
    {
     "name": "stdout",
     "output_type": "stream",
     "text": [
      "\t Loss: 24.324,\tTrain : 94.45%(94.45%),\tTest : 94.01%(94.01%),\tCurrent Time: 20250917-194546\n"
     ]
    },
    {
     "name": "stderr",
     "output_type": "stream",
     "text": [
      "Epoch 13/50:: 100%|\u001b[34m███████████████████\u001b[0m| 120/120 [00:02<00:00, 49.80batch/s, loss=0.191416]\u001b[0m\n"
     ]
    },
    {
     "name": "stdout",
     "output_type": "stream",
     "text": [
      "\t Loss: 22.970,\tTrain : 94.75%(94.75%),\tTest : 94.38%(94.38%),\tCurrent Time: 20250917-194549\n"
     ]
    },
    {
     "name": "stderr",
     "output_type": "stream",
     "text": [
      "Epoch 14/50:: 100%|\u001b[34m███████████████████\u001b[0m| 120/120 [00:02<00:00, 49.69batch/s, loss=0.180926]\u001b[0m\n"
     ]
    },
    {
     "name": "stdout",
     "output_type": "stream",
     "text": [
      "\t Loss: 21.711,\tTrain : 95.02%(95.02%),\tTest : 94.87%(94.87%),\tCurrent Time: 20250917-194551\n"
     ]
    },
    {
     "name": "stderr",
     "output_type": "stream",
     "text": [
      "Epoch 15/50:: 100%|\u001b[34m███████████████████\u001b[0m| 120/120 [00:02<00:00, 49.86batch/s, loss=0.169427]\u001b[0m\n"
     ]
    },
    {
     "name": "stdout",
     "output_type": "stream",
     "text": [
      "\t Loss: 20.331,\tTrain : 95.35%(95.35%),\tTest : 94.72%(94.87%),\tCurrent Time: 20250917-194554\n"
     ]
    },
    {
     "name": "stderr",
     "output_type": "stream",
     "text": [
      "Epoch 16/50:: 100%|\u001b[34m███████████████████\u001b[0m| 120/120 [00:02<00:00, 50.04batch/s, loss=0.159705]\u001b[0m\n"
     ]
    },
    {
     "name": "stdout",
     "output_type": "stream",
     "text": [
      "\t Loss: 19.165,\tTrain : 95.61%(95.61%),\tTest : 94.98%(94.98%),\tCurrent Time: 20250917-194556\n"
     ]
    },
    {
     "name": "stderr",
     "output_type": "stream",
     "text": [
      "Epoch 17/50:: 100%|\u001b[34m███████████████████\u001b[0m| 120/120 [00:02<00:00, 49.84batch/s, loss=0.150715]\u001b[0m\n"
     ]
    },
    {
     "name": "stdout",
     "output_type": "stream",
     "text": [
      "\t Loss: 18.086,\tTrain : 95.76%(95.76%),\tTest : 95.15%(95.15%),\tCurrent Time: 20250917-194559\n"
     ]
    },
    {
     "name": "stderr",
     "output_type": "stream",
     "text": [
      "Epoch 18/50:: 100%|\u001b[34m███████████████████\u001b[0m| 120/120 [00:02<00:00, 49.86batch/s, loss=0.144263]\u001b[0m\n"
     ]
    },
    {
     "name": "stdout",
     "output_type": "stream",
     "text": [
      "\t Loss: 17.312,\tTrain : 95.96%(95.96%),\tTest : 95.34%(95.34%),\tCurrent Time: 20250917-194601\n"
     ]
    },
    {
     "name": "stderr",
     "output_type": "stream",
     "text": [
      "Epoch 19/50:: 100%|\u001b[34m███████████████████\u001b[0m| 120/120 [00:02<00:00, 49.86batch/s, loss=0.136140]\u001b[0m\n"
     ]
    },
    {
     "name": "stdout",
     "output_type": "stream",
     "text": [
      "\t Loss: 16.337,\tTrain : 96.22%(96.22%),\tTest : 95.53%(95.53%),\tCurrent Time: 20250917-194604\n"
     ]
    },
    {
     "name": "stderr",
     "output_type": "stream",
     "text": [
      "Epoch 20/50:: 100%|\u001b[34m███████████████████\u001b[0m| 120/120 [00:02<00:00, 50.05batch/s, loss=0.129549]\u001b[0m\n"
     ]
    },
    {
     "name": "stdout",
     "output_type": "stream",
     "text": [
      "\t Loss: 15.546,\tTrain : 96.38%(96.38%),\tTest : 95.59%(95.59%),\tCurrent Time: 20250917-194606\n"
     ]
    },
    {
     "name": "stderr",
     "output_type": "stream",
     "text": [
      "Epoch 21/50:: 100%|\u001b[34m███████████████████\u001b[0m| 120/120 [00:02<00:00, 49.63batch/s, loss=0.124731]\u001b[0m\n"
     ]
    },
    {
     "name": "stdout",
     "output_type": "stream",
     "text": [
      "\t Loss: 14.968,\tTrain : 96.52%(96.52%),\tTest : 95.76%(95.76%),\tCurrent Time: 20250917-194609\n"
     ]
    },
    {
     "name": "stderr",
     "output_type": "stream",
     "text": [
      "Epoch 22/50:: 100%|\u001b[34m███████████████████\u001b[0m| 120/120 [00:02<00:00, 49.86batch/s, loss=0.116725]\u001b[0m\n"
     ]
    },
    {
     "name": "stdout",
     "output_type": "stream",
     "text": [
      "\t Loss: 14.007,\tTrain : 96.78%(96.78%),\tTest : 95.55%(95.76%),\tCurrent Time: 20250917-194611\n"
     ]
    },
    {
     "name": "stderr",
     "output_type": "stream",
     "text": [
      "Epoch 23/50:: 100%|\u001b[34m███████████████████\u001b[0m| 120/120 [00:02<00:00, 49.82batch/s, loss=0.113021]\u001b[0m\n"
     ]
    },
    {
     "name": "stdout",
     "output_type": "stream",
     "text": [
      "\t Loss: 13.563,\tTrain : 96.85%(96.85%),\tTest : 95.89%(95.89%),\tCurrent Time: 20250917-194614\n"
     ]
    },
    {
     "name": "stderr",
     "output_type": "stream",
     "text": [
      "Epoch 24/50:: 100%|\u001b[34m███████████████████\u001b[0m| 120/120 [00:02<00:00, 49.83batch/s, loss=0.106520]\u001b[0m\n"
     ]
    },
    {
     "name": "stdout",
     "output_type": "stream",
     "text": [
      "\t Loss: 12.782,\tTrain : 97.05%(97.05%),\tTest : 95.94%(95.94%),\tCurrent Time: 20250917-194616\n"
     ]
    },
    {
     "name": "stderr",
     "output_type": "stream",
     "text": [
      "Epoch 25/50:: 100%|\u001b[34m███████████████████\u001b[0m| 120/120 [00:02<00:00, 49.91batch/s, loss=0.100949]\u001b[0m\n"
     ]
    },
    {
     "name": "stdout",
     "output_type": "stream",
     "text": [
      "\t Loss: 12.114,\tTrain : 97.15%(97.15%),\tTest : 96.01%(96.01%),\tCurrent Time: 20250917-194619\n"
     ]
    },
    {
     "name": "stderr",
     "output_type": "stream",
     "text": [
      "Epoch 26/50:: 100%|\u001b[34m███████████████████\u001b[0m| 120/120 [00:02<00:00, 49.61batch/s, loss=0.095755]\u001b[0m\n"
     ]
    },
    {
     "name": "stdout",
     "output_type": "stream",
     "text": [
      "\t Loss: 11.491,\tTrain : 97.36%(97.36%),\tTest : 96.11%(96.11%),\tCurrent Time: 20250917-194621\n"
     ]
    },
    {
     "name": "stderr",
     "output_type": "stream",
     "text": [
      "Epoch 27/50:: 100%|\u001b[34m███████████████████\u001b[0m| 120/120 [00:02<00:00, 49.99batch/s, loss=0.090667]\u001b[0m\n"
     ]
    },
    {
     "name": "stdout",
     "output_type": "stream",
     "text": [
      "\t Loss: 10.880,\tTrain : 97.51%(97.51%),\tTest : 96.12%(96.12%),\tCurrent Time: 20250917-194624\n"
     ]
    },
    {
     "name": "stderr",
     "output_type": "stream",
     "text": [
      "Epoch 28/50:: 100%|\u001b[34m███████████████████\u001b[0m| 120/120 [00:02<00:00, 49.90batch/s, loss=0.087392]\u001b[0m\n"
     ]
    },
    {
     "name": "stdout",
     "output_type": "stream",
     "text": [
      "\t Loss: 10.487,\tTrain : 97.57%(97.57%),\tTest : 96.11%(96.12%),\tCurrent Time: 20250917-194626\n"
     ]
    },
    {
     "name": "stderr",
     "output_type": "stream",
     "text": [
      "Epoch 29/50:: 100%|\u001b[34m███████████████████\u001b[0m| 120/120 [00:02<00:00, 49.83batch/s, loss=0.084620]\u001b[0m\n"
     ]
    },
    {
     "name": "stdout",
     "output_type": "stream",
     "text": [
      "\t Loss: 10.154,\tTrain : 97.62%(97.62%),\tTest : 96.14%(96.14%),\tCurrent Time: 20250917-194629\n"
     ]
    },
    {
     "name": "stderr",
     "output_type": "stream",
     "text": [
      "Epoch 30/50:: 100%|\u001b[34m███████████████████\u001b[0m| 120/120 [00:02<00:00, 49.91batch/s, loss=0.079626]\u001b[0m\n"
     ]
    },
    {
     "name": "stdout",
     "output_type": "stream",
     "text": [
      "\t Loss: 9.555,\tTrain : 97.76%(97.76%),\tTest : 96.31%(96.31%),\tCurrent Time: 20250917-194631\n"
     ]
    },
    {
     "name": "stderr",
     "output_type": "stream",
     "text": [
      "Epoch 31/50:: 100%|\u001b[34m███████████████████\u001b[0m| 120/120 [00:02<00:00, 50.03batch/s, loss=0.077029]\u001b[0m\n"
     ]
    },
    {
     "name": "stdout",
     "output_type": "stream",
     "text": [
      "\t Loss: 9.243,\tTrain : 97.83%(97.83%),\tTest : 96.40%(96.40%),\tCurrent Time: 20250917-194634\n"
     ]
    },
    {
     "name": "stderr",
     "output_type": "stream",
     "text": [
      "Epoch 32/50:: 100%|\u001b[34m███████████████████\u001b[0m| 120/120 [00:02<00:00, 49.86batch/s, loss=0.074146]\u001b[0m\n"
     ]
    },
    {
     "name": "stdout",
     "output_type": "stream",
     "text": [
      "\t Loss: 8.898,\tTrain : 97.90%(97.90%),\tTest : 96.57%(96.57%),\tCurrent Time: 20250917-194636\n"
     ]
    },
    {
     "name": "stderr",
     "output_type": "stream",
     "text": [
      "Epoch 33/50:: 100%|\u001b[34m███████████████████\u001b[0m| 120/120 [00:02<00:00, 49.60batch/s, loss=0.069116]\u001b[0m\n"
     ]
    },
    {
     "name": "stdout",
     "output_type": "stream",
     "text": [
      "\t Loss: 8.294,\tTrain : 98.08%(98.08%),\tTest : 96.61%(96.61%),\tCurrent Time: 20250917-194639\n"
     ]
    },
    {
     "name": "stderr",
     "output_type": "stream",
     "text": [
      "Epoch 34/50:: 100%|\u001b[34m███████████████████\u001b[0m| 120/120 [00:02<00:00, 49.88batch/s, loss=0.066091]\u001b[0m\n"
     ]
    },
    {
     "name": "stdout",
     "output_type": "stream",
     "text": [
      "\t Loss: 7.931,\tTrain : 98.13%(98.13%),\tTest : 96.64%(96.64%),\tCurrent Time: 20250917-194641\n"
     ]
    },
    {
     "name": "stderr",
     "output_type": "stream",
     "text": [
      "Epoch 35/50:: 100%|\u001b[34m███████████████████\u001b[0m| 120/120 [00:02<00:00, 49.98batch/s, loss=0.063870]\u001b[0m\n"
     ]
    },
    {
     "name": "stdout",
     "output_type": "stream",
     "text": [
      "\t Loss: 7.664,\tTrain : 98.17%(98.17%),\tTest : 96.67%(96.67%),\tCurrent Time: 20250917-194644\n"
     ]
    },
    {
     "name": "stderr",
     "output_type": "stream",
     "text": [
      "Epoch 36/50:: 100%|\u001b[34m███████████████████\u001b[0m| 120/120 [00:02<00:00, 49.66batch/s, loss=0.060040]\u001b[0m\n"
     ]
    },
    {
     "name": "stdout",
     "output_type": "stream",
     "text": [
      "\t Loss: 7.205,\tTrain : 98.28%(98.28%),\tTest : 96.53%(96.67%),\tCurrent Time: 20250917-194646\n"
     ]
    },
    {
     "name": "stderr",
     "output_type": "stream",
     "text": [
      "Epoch 37/50:: 100%|\u001b[34m███████████████████\u001b[0m| 120/120 [00:02<00:00, 49.86batch/s, loss=0.058019]\u001b[0m\n"
     ]
    },
    {
     "name": "stdout",
     "output_type": "stream",
     "text": [
      "\t Loss: 6.962,\tTrain : 98.30%(98.30%),\tTest : 96.31%(96.67%),\tCurrent Time: 20250917-194649\n"
     ]
    },
    {
     "name": "stderr",
     "output_type": "stream",
     "text": [
      "Epoch 38/50:: 100%|\u001b[34m███████████████████\u001b[0m| 120/120 [00:02<00:00, 50.00batch/s, loss=0.055860]\u001b[0m\n"
     ]
    },
    {
     "name": "stdout",
     "output_type": "stream",
     "text": [
      "\t Loss: 6.703,\tTrain : 98.38%(98.38%),\tTest : 96.72%(96.72%),\tCurrent Time: 20250917-194651\n"
     ]
    },
    {
     "name": "stderr",
     "output_type": "stream",
     "text": [
      "Epoch 39/50:: 100%|\u001b[34m███████████████████\u001b[0m| 120/120 [00:02<00:00, 49.88batch/s, loss=0.051101]\u001b[0m\n"
     ]
    },
    {
     "name": "stdout",
     "output_type": "stream",
     "text": [
      "\t Loss: 6.132,\tTrain : 98.55%(98.55%),\tTest : 96.60%(96.72%),\tCurrent Time: 20250917-194654\n"
     ]
    },
    {
     "name": "stderr",
     "output_type": "stream",
     "text": [
      "Epoch 40/50:: 100%|\u001b[34m███████████████████\u001b[0m| 120/120 [00:02<00:00, 49.63batch/s, loss=0.050242]\u001b[0m\n"
     ]
    },
    {
     "name": "stdout",
     "output_type": "stream",
     "text": [
      "\t Loss: 6.029,\tTrain : 98.56%(98.56%),\tTest : 96.76%(96.76%),\tCurrent Time: 20250917-194656\n"
     ]
    },
    {
     "name": "stderr",
     "output_type": "stream",
     "text": [
      "Epoch 41/50:: 100%|\u001b[34m███████████████████\u001b[0m| 120/120 [00:02<00:00, 49.61batch/s, loss=0.047636]\u001b[0m\n"
     ]
    },
    {
     "name": "stdout",
     "output_type": "stream",
     "text": [
      "\t Loss: 5.716,\tTrain : 98.65%(98.65%),\tTest : 96.72%(96.76%),\tCurrent Time: 20250917-194659\n"
     ]
    },
    {
     "name": "stderr",
     "output_type": "stream",
     "text": [
      "Epoch 42/50:: 100%|\u001b[34m███████████████████\u001b[0m| 120/120 [00:02<00:00, 50.03batch/s, loss=0.045095]\u001b[0m\n"
     ]
    },
    {
     "name": "stdout",
     "output_type": "stream",
     "text": [
      "\t Loss: 5.411,\tTrain : 98.73%(98.73%),\tTest : 96.70%(96.76%),\tCurrent Time: 20250917-194701\n"
     ]
    },
    {
     "name": "stderr",
     "output_type": "stream",
     "text": [
      "Epoch 43/50:: 100%|\u001b[34m███████████████████\u001b[0m| 120/120 [00:02<00:00, 49.86batch/s, loss=0.044018]\u001b[0m\n"
     ]
    },
    {
     "name": "stdout",
     "output_type": "stream",
     "text": [
      "\t Loss: 5.282,\tTrain : 98.74%(98.74%),\tTest : 96.65%(96.76%),\tCurrent Time: 20250917-194704\n"
     ]
    },
    {
     "name": "stderr",
     "output_type": "stream",
     "text": [
      "Epoch 44/50:: 100%|\u001b[34m███████████████████\u001b[0m| 120/120 [00:02<00:00, 50.04batch/s, loss=0.040502]\u001b[0m\n"
     ]
    },
    {
     "name": "stdout",
     "output_type": "stream",
     "text": [
      "\t Loss: 4.860,\tTrain : 98.89%(98.89%),\tTest : 96.70%(96.76%),\tCurrent Time: 20250917-194706\n"
     ]
    },
    {
     "name": "stderr",
     "output_type": "stream",
     "text": [
      "Epoch 45/50:: 100%|\u001b[34m███████████████████\u001b[0m| 120/120 [00:02<00:00, 49.85batch/s, loss=0.038620]\u001b[0m\n"
     ]
    },
    {
     "name": "stdout",
     "output_type": "stream",
     "text": [
      "\t Loss: 4.634,\tTrain : 98.92%(98.92%),\tTest : 96.63%(96.76%),\tCurrent Time: 20250917-194709\n"
     ]
    },
    {
     "name": "stderr",
     "output_type": "stream",
     "text": [
      "Epoch 46/50:: 100%|\u001b[34m███████████████████\u001b[0m| 120/120 [00:02<00:00, 49.84batch/s, loss=0.036650]\u001b[0m\n"
     ]
    },
    {
     "name": "stdout",
     "output_type": "stream",
     "text": [
      "\t Loss: 4.398,\tTrain : 98.96%(98.96%),\tTest : 96.72%(96.76%),\tCurrent Time: 20250917-194711\n"
     ]
    },
    {
     "name": "stderr",
     "output_type": "stream",
     "text": [
      "Epoch 47/50:: 100%|\u001b[34m███████████████████\u001b[0m| 120/120 [00:02<00:00, 49.40batch/s, loss=0.034396]\u001b[0m\n"
     ]
    },
    {
     "name": "stdout",
     "output_type": "stream",
     "text": [
      "\t Loss: 4.127,\tTrain : 99.04%(99.04%),\tTest : 96.86%(96.86%),\tCurrent Time: 20250917-194714\n"
     ]
    },
    {
     "name": "stderr",
     "output_type": "stream",
     "text": [
      "Epoch 48/50:: 100%|\u001b[34m███████████████████\u001b[0m| 120/120 [00:02<00:00, 49.86batch/s, loss=0.033922]\u001b[0m\n"
     ]
    },
    {
     "name": "stdout",
     "output_type": "stream",
     "text": [
      "\t Loss: 4.071,\tTrain : 99.02%(99.04%),\tTest : 96.78%(96.86%),\tCurrent Time: 20250917-194716\n"
     ]
    },
    {
     "name": "stderr",
     "output_type": "stream",
     "text": [
      "Epoch 49/50:: 100%|\u001b[34m███████████████████\u001b[0m| 120/120 [00:02<00:00, 50.01batch/s, loss=0.030176]\u001b[0m\n"
     ]
    },
    {
     "name": "stdout",
     "output_type": "stream",
     "text": [
      "\t Loss: 3.621,\tTrain : 99.11%(99.11%),\tTest : 96.72%(96.86%),\tCurrent Time: 20250917-194719\n"
     ]
    },
    {
     "name": "stderr",
     "output_type": "stream",
     "text": [
      "Epoch 50/50:: 100%|\u001b[34m███████████████████\u001b[0m| 120/120 [00:02<00:00, 49.85batch/s, loss=0.029773]\u001b[0m\n"
     ]
    },
    {
     "name": "stdout",
     "output_type": "stream",
     "text": [
      "\t Loss: 3.573,\tTrain : 99.11%(99.11%),\tTest : 96.64%(96.86%),\tCurrent Time: 20250917-194721\n",
      "First_asymm_AG_N-HL_resP-EP_L10-P0.2-MNIST_EP_b_sc0.1- Time: 20250917-194721, Epochs: 50, Learning Rate: 0.0005, Best: 99.11%  96.86%\n",
      "\n",
      "[[0 1 0 0 0 0 0 0 0 0 0 0]\n",
      " [0 0 1 0 1 0 0 1 1 0 0 0]\n",
      " [0 1 0 1 0 1 0 0 0 0 1 0]\n",
      " [0 1 1 0 1 0 0 0 0 1 0 0]\n",
      " [0 0 1 1 0 1 0 0 1 0 0 0]\n",
      " [0 1 1 1 1 0 1 0 1 1 1 0]\n",
      " [0 0 0 1 0 1 0 1 0 1 0 0]\n",
      " [0 1 0 1 1 1 1 0 1 1 0 0]\n",
      " [0 0 0 0 1 1 0 1 0 1 0 0]\n",
      " [0 1 1 1 0 1 1 0 1 0 1 0]\n",
      " [0 0 0 0 1 0 0 1 1 1 0 1]\n",
      " [0 0 0 0 0 0 0 0 0 0 1 0]]\n",
      "First_asymm_AG_N-HL_resP-EP_L10-P0.5-MNIST_EP_b_sc0.1-\n"
     ]
    },
    {
     "name": "stderr",
     "output_type": "stream",
     "text": [
      "Epoch 1/50:: 100%|\u001b[34m████████████████████\u001b[0m| 120/120 [00:02<00:00, 41.48batch/s, loss=2.090882]\u001b[0m\n"
     ]
    },
    {
     "name": "stdout",
     "output_type": "stream",
     "text": [
      "\t Loss: 250.906,\tTrain : 28.13%(28.13%),\tTest : 49.77%(49.77%),\tCurrent Time: 20250917-194729\n"
     ]
    },
    {
     "name": "stderr",
     "output_type": "stream",
     "text": [
      "Epoch 2/50:: 100%|\u001b[34m████████████████████\u001b[0m| 120/120 [00:02<00:00, 44.40batch/s, loss=1.261902]\u001b[0m\n"
     ]
    },
    {
     "name": "stdout",
     "output_type": "stream",
     "text": [
      "\t Loss: 151.428,\tTrain : 65.26%(65.26%),\tTest : 81.10%(81.10%),\tCurrent Time: 20250917-194731\n"
     ]
    },
    {
     "name": "stderr",
     "output_type": "stream",
     "text": [
      "Epoch 3/50:: 100%|\u001b[34m████████████████████\u001b[0m| 120/120 [00:02<00:00, 44.76batch/s, loss=0.695505]\u001b[0m\n"
     ]
    },
    {
     "name": "stdout",
     "output_type": "stream",
     "text": [
      "\t Loss: 83.461,\tTrain : 84.72%(84.72%),\tTest : 88.64%(88.64%),\tCurrent Time: 20250917-194734\n"
     ]
    },
    {
     "name": "stderr",
     "output_type": "stream",
     "text": [
      "Epoch 4/50:: 100%|\u001b[34m████████████████████\u001b[0m| 120/120 [00:02<00:00, 44.72batch/s, loss=0.433865]\u001b[0m\n"
     ]
    },
    {
     "name": "stdout",
     "output_type": "stream",
     "text": [
      "\t Loss: 52.064,\tTrain : 89.59%(89.59%),\tTest : 90.91%(90.91%),\tCurrent Time: 20250917-194737\n"
     ]
    },
    {
     "name": "stderr",
     "output_type": "stream",
     "text": [
      "Epoch 5/50:: 100%|\u001b[34m████████████████████\u001b[0m| 120/120 [00:02<00:00, 44.72batch/s, loss=0.342688]\u001b[0m\n"
     ]
    },
    {
     "name": "stdout",
     "output_type": "stream",
     "text": [
      "\t Loss: 41.123,\tTrain : 91.37%(91.37%),\tTest : 92.10%(92.10%),\tCurrent Time: 20250917-194740\n"
     ]
    },
    {
     "name": "stderr",
     "output_type": "stream",
     "text": [
      "Epoch 6/50:: 100%|\u001b[34m████████████████████\u001b[0m| 120/120 [00:02<00:00, 44.75batch/s, loss=0.297273]\u001b[0m\n"
     ]
    },
    {
     "name": "stdout",
     "output_type": "stream",
     "text": [
      "\t Loss: 35.673,\tTrain : 92.34%(92.34%),\tTest : 92.86%(92.86%),\tCurrent Time: 20250917-194742\n"
     ]
    },
    {
     "name": "stderr",
     "output_type": "stream",
     "text": [
      "Epoch 7/50:: 100%|\u001b[34m████████████████████\u001b[0m| 120/120 [00:02<00:00, 44.65batch/s, loss=0.264921]\u001b[0m\n"
     ]
    },
    {
     "name": "stdout",
     "output_type": "stream",
     "text": [
      "\t Loss: 31.791,\tTrain : 93.08%(93.08%),\tTest : 93.45%(93.45%),\tCurrent Time: 20250917-194745\n"
     ]
    },
    {
     "name": "stderr",
     "output_type": "stream",
     "text": [
      "Epoch 8/50:: 100%|\u001b[34m████████████████████\u001b[0m| 120/120 [00:02<00:00, 44.74batch/s, loss=0.237721]\u001b[0m\n"
     ]
    },
    {
     "name": "stdout",
     "output_type": "stream",
     "text": [
      "\t Loss: 28.527,\tTrain : 93.70%(93.70%),\tTest : 94.00%(94.00%),\tCurrent Time: 20250917-194748\n"
     ]
    },
    {
     "name": "stderr",
     "output_type": "stream",
     "text": [
      "Epoch 9/50:: 100%|\u001b[34m████████████████████\u001b[0m| 120/120 [00:02<00:00, 44.48batch/s, loss=0.213519]\u001b[0m\n"
     ]
    },
    {
     "name": "stdout",
     "output_type": "stream",
     "text": [
      "\t Loss: 25.622,\tTrain : 94.31%(94.31%),\tTest : 94.33%(94.33%),\tCurrent Time: 20250917-194751\n"
     ]
    },
    {
     "name": "stderr",
     "output_type": "stream",
     "text": [
      "Epoch 10/50:: 100%|\u001b[34m███████████████████\u001b[0m| 120/120 [00:02<00:00, 44.79batch/s, loss=0.195176]\u001b[0m\n"
     ]
    },
    {
     "name": "stdout",
     "output_type": "stream",
     "text": [
      "\t Loss: 23.421,\tTrain : 94.72%(94.72%),\tTest : 94.71%(94.71%),\tCurrent Time: 20250917-194753\n"
     ]
    },
    {
     "name": "stderr",
     "output_type": "stream",
     "text": [
      "Epoch 11/50:: 100%|\u001b[34m███████████████████\u001b[0m| 120/120 [00:02<00:00, 44.79batch/s, loss=0.182711]\u001b[0m\n"
     ]
    },
    {
     "name": "stdout",
     "output_type": "stream",
     "text": [
      "\t Loss: 21.925,\tTrain : 95.06%(95.06%),\tTest : 94.94%(94.94%),\tCurrent Time: 20250917-194756\n"
     ]
    },
    {
     "name": "stderr",
     "output_type": "stream",
     "text": [
      "Epoch 12/50:: 100%|\u001b[34m███████████████████\u001b[0m| 120/120 [00:02<00:00, 44.71batch/s, loss=0.170391]\u001b[0m\n"
     ]
    },
    {
     "name": "stdout",
     "output_type": "stream",
     "text": [
      "\t Loss: 20.447,\tTrain : 95.33%(95.33%),\tTest : 95.13%(95.13%),\tCurrent Time: 20250917-194759\n"
     ]
    },
    {
     "name": "stderr",
     "output_type": "stream",
     "text": [
      "Epoch 13/50:: 100%|\u001b[34m███████████████████\u001b[0m| 120/120 [00:02<00:00, 44.77batch/s, loss=0.158525]\u001b[0m\n"
     ]
    },
    {
     "name": "stdout",
     "output_type": "stream",
     "text": [
      "\t Loss: 19.023,\tTrain : 95.65%(95.65%),\tTest : 95.19%(95.19%),\tCurrent Time: 20250917-194802\n"
     ]
    },
    {
     "name": "stderr",
     "output_type": "stream",
     "text": [
      "Epoch 14/50:: 100%|\u001b[34m███████████████████\u001b[0m| 120/120 [00:02<00:00, 44.73batch/s, loss=0.150224]\u001b[0m\n"
     ]
    },
    {
     "name": "stdout",
     "output_type": "stream",
     "text": [
      "\t Loss: 18.027,\tTrain : 95.88%(95.88%),\tTest : 95.56%(95.56%),\tCurrent Time: 20250917-194805\n"
     ]
    },
    {
     "name": "stderr",
     "output_type": "stream",
     "text": [
      "Epoch 15/50:: 100%|\u001b[34m███████████████████\u001b[0m| 120/120 [00:02<00:00, 44.67batch/s, loss=0.143609]\u001b[0m\n"
     ]
    },
    {
     "name": "stdout",
     "output_type": "stream",
     "text": [
      "\t Loss: 17.233,\tTrain : 96.01%(96.01%),\tTest : 95.49%(95.56%),\tCurrent Time: 20250917-194807\n"
     ]
    },
    {
     "name": "stderr",
     "output_type": "stream",
     "text": [
      "Epoch 16/50:: 100%|\u001b[34m███████████████████\u001b[0m| 120/120 [00:02<00:00, 44.51batch/s, loss=0.135445]\u001b[0m\n"
     ]
    },
    {
     "name": "stdout",
     "output_type": "stream",
     "text": [
      "\t Loss: 16.253,\tTrain : 96.20%(96.20%),\tTest : 95.67%(95.67%),\tCurrent Time: 20250917-194810\n"
     ]
    },
    {
     "name": "stderr",
     "output_type": "stream",
     "text": [
      "Epoch 17/50:: 100%|\u001b[34m███████████████████\u001b[0m| 120/120 [00:02<00:00, 44.97batch/s, loss=0.128844]\u001b[0m\n"
     ]
    },
    {
     "name": "stdout",
     "output_type": "stream",
     "text": [
      "\t Loss: 15.461,\tTrain : 96.36%(96.36%),\tTest : 95.54%(95.67%),\tCurrent Time: 20250917-194813\n"
     ]
    },
    {
     "name": "stderr",
     "output_type": "stream",
     "text": [
      "Epoch 18/50:: 100%|\u001b[34m███████████████████\u001b[0m| 120/120 [00:02<00:00, 44.58batch/s, loss=0.125642]\u001b[0m\n"
     ]
    },
    {
     "name": "stdout",
     "output_type": "stream",
     "text": [
      "\t Loss: 15.077,\tTrain : 96.43%(96.43%),\tTest : 95.65%(95.67%),\tCurrent Time: 20250917-194816\n"
     ]
    },
    {
     "name": "stderr",
     "output_type": "stream",
     "text": [
      "Epoch 19/50:: 100%|\u001b[34m███████████████████\u001b[0m| 120/120 [00:02<00:00, 44.89batch/s, loss=0.118217]\u001b[0m\n"
     ]
    },
    {
     "name": "stdout",
     "output_type": "stream",
     "text": [
      "\t Loss: 14.186,\tTrain : 96.66%(96.66%),\tTest : 95.84%(95.84%),\tCurrent Time: 20250917-194818\n"
     ]
    },
    {
     "name": "stderr",
     "output_type": "stream",
     "text": [
      "Epoch 20/50:: 100%|\u001b[34m███████████████████\u001b[0m| 120/120 [00:02<00:00, 44.80batch/s, loss=0.115115]\u001b[0m\n"
     ]
    },
    {
     "name": "stdout",
     "output_type": "stream",
     "text": [
      "\t Loss: 13.814,\tTrain : 96.66%(96.66%),\tTest : 95.54%(95.84%),\tCurrent Time: 20250917-194821\n"
     ]
    },
    {
     "name": "stderr",
     "output_type": "stream",
     "text": [
      "Epoch 21/50:: 100%|\u001b[34m███████████████████\u001b[0m| 120/120 [00:02<00:00, 44.91batch/s, loss=0.108853]\u001b[0m\n"
     ]
    },
    {
     "name": "stdout",
     "output_type": "stream",
     "text": [
      "\t Loss: 13.062,\tTrain : 96.82%(96.82%),\tTest : 95.44%(95.84%),\tCurrent Time: 20250917-194824\n"
     ]
    },
    {
     "name": "stderr",
     "output_type": "stream",
     "text": [
      "Epoch 22/50:: 100%|\u001b[34m███████████████████\u001b[0m| 120/120 [00:02<00:00, 44.23batch/s, loss=0.104198]\u001b[0m\n"
     ]
    },
    {
     "name": "stdout",
     "output_type": "stream",
     "text": [
      "\t Loss: 12.504,\tTrain : 96.99%(96.99%),\tTest : 96.09%(96.09%),\tCurrent Time: 20250917-194827\n"
     ]
    },
    {
     "name": "stderr",
     "output_type": "stream",
     "text": [
      "Epoch 23/50:: 100%|\u001b[34m███████████████████\u001b[0m| 120/120 [00:02<00:00, 44.81batch/s, loss=0.097307]\u001b[0m\n"
     ]
    },
    {
     "name": "stdout",
     "output_type": "stream",
     "text": [
      "\t Loss: 11.677,\tTrain : 97.21%(97.21%),\tTest : 96.08%(96.09%),\tCurrent Time: 20250917-194829\n"
     ]
    },
    {
     "name": "stderr",
     "output_type": "stream",
     "text": [
      "Epoch 24/50:: 100%|\u001b[34m███████████████████\u001b[0m| 120/120 [00:02<00:00, 44.83batch/s, loss=0.094393]\u001b[0m\n"
     ]
    },
    {
     "name": "stdout",
     "output_type": "stream",
     "text": [
      "\t Loss: 11.327,\tTrain : 97.26%(97.26%),\tTest : 96.28%(96.28%),\tCurrent Time: 20250917-194832\n"
     ]
    },
    {
     "name": "stderr",
     "output_type": "stream",
     "text": [
      "Epoch 25/50:: 100%|\u001b[34m███████████████████\u001b[0m| 120/120 [00:02<00:00, 44.65batch/s, loss=0.091139]\u001b[0m\n"
     ]
    },
    {
     "name": "stdout",
     "output_type": "stream",
     "text": [
      "\t Loss: 10.937,\tTrain : 97.32%(97.32%),\tTest : 96.35%(96.35%),\tCurrent Time: 20250917-194835\n"
     ]
    },
    {
     "name": "stderr",
     "output_type": "stream",
     "text": [
      "Epoch 26/50:: 100%|\u001b[34m███████████████████\u001b[0m| 120/120 [00:02<00:00, 44.70batch/s, loss=0.086249]\u001b[0m\n"
     ]
    },
    {
     "name": "stdout",
     "output_type": "stream",
     "text": [
      "\t Loss: 10.350,\tTrain : 97.50%(97.50%),\tTest : 96.08%(96.35%),\tCurrent Time: 20250917-194838\n"
     ]
    },
    {
     "name": "stderr",
     "output_type": "stream",
     "text": [
      "Epoch 27/50:: 100%|\u001b[34m███████████████████\u001b[0m| 120/120 [00:02<00:00, 44.91batch/s, loss=0.084528]\u001b[0m\n"
     ]
    },
    {
     "name": "stdout",
     "output_type": "stream",
     "text": [
      "\t Loss: 10.143,\tTrain : 97.57%(97.57%),\tTest : 96.23%(96.35%),\tCurrent Time: 20250917-194841\n"
     ]
    },
    {
     "name": "stderr",
     "output_type": "stream",
     "text": [
      "Epoch 28/50:: 100%|\u001b[34m███████████████████\u001b[0m| 120/120 [00:02<00:00, 44.69batch/s, loss=0.078583]\u001b[0m\n"
     ]
    },
    {
     "name": "stdout",
     "output_type": "stream",
     "text": [
      "\t Loss: 9.430,\tTrain : 97.71%(97.71%),\tTest : 96.35%(96.35%),\tCurrent Time: 20250917-194843\n"
     ]
    },
    {
     "name": "stderr",
     "output_type": "stream",
     "text": [
      "Epoch 29/50:: 100%|\u001b[34m███████████████████\u001b[0m| 120/120 [00:02<00:00, 44.58batch/s, loss=0.075180]\u001b[0m\n"
     ]
    },
    {
     "name": "stdout",
     "output_type": "stream",
     "text": [
      "\t Loss: 9.022,\tTrain : 97.78%(97.78%),\tTest : 96.58%(96.58%),\tCurrent Time: 20250917-194846\n"
     ]
    },
    {
     "name": "stderr",
     "output_type": "stream",
     "text": [
      "Epoch 30/50:: 100%|\u001b[34m███████████████████\u001b[0m| 120/120 [00:02<00:00, 44.90batch/s, loss=0.072809]\u001b[0m\n"
     ]
    },
    {
     "name": "stdout",
     "output_type": "stream",
     "text": [
      "\t Loss: 8.737,\tTrain : 97.84%(97.84%),\tTest : 96.10%(96.58%),\tCurrent Time: 20250917-194849\n"
     ]
    },
    {
     "name": "stderr",
     "output_type": "stream",
     "text": [
      "Epoch 31/50:: 100%|\u001b[34m███████████████████\u001b[0m| 120/120 [00:02<00:00, 44.69batch/s, loss=0.070942]\u001b[0m\n"
     ]
    },
    {
     "name": "stdout",
     "output_type": "stream",
     "text": [
      "\t Loss: 8.513,\tTrain : 97.94%(97.94%),\tTest : 96.43%(96.58%),\tCurrent Time: 20250917-194852\n"
     ]
    },
    {
     "name": "stderr",
     "output_type": "stream",
     "text": [
      "Epoch 32/50:: 100%|\u001b[34m███████████████████\u001b[0m| 120/120 [00:02<00:00, 44.65batch/s, loss=0.067450]\u001b[0m\n"
     ]
    },
    {
     "name": "stdout",
     "output_type": "stream",
     "text": [
      "\t Loss: 8.094,\tTrain : 97.99%(97.99%),\tTest : 96.50%(96.58%),\tCurrent Time: 20250917-194854\n"
     ]
    },
    {
     "name": "stderr",
     "output_type": "stream",
     "text": [
      "Epoch 33/50:: 100%|\u001b[34m███████████████████\u001b[0m| 120/120 [00:02<00:00, 44.79batch/s, loss=0.063693]\u001b[0m\n"
     ]
    },
    {
     "name": "stdout",
     "output_type": "stream",
     "text": [
      "\t Loss: 7.643,\tTrain : 98.11%(98.11%),\tTest : 96.36%(96.58%),\tCurrent Time: 20250917-194857\n"
     ]
    },
    {
     "name": "stderr",
     "output_type": "stream",
     "text": [
      "Epoch 34/50:: 100%|\u001b[34m███████████████████\u001b[0m| 120/120 [00:02<00:00, 44.79batch/s, loss=0.063310]\u001b[0m\n"
     ]
    },
    {
     "name": "stdout",
     "output_type": "stream",
     "text": [
      "\t Loss: 7.597,\tTrain : 98.09%(98.11%),\tTest : 96.60%(96.60%),\tCurrent Time: 20250917-194900\n"
     ]
    },
    {
     "name": "stderr",
     "output_type": "stream",
     "text": [
      "Epoch 35/50:: 100%|\u001b[34m███████████████████\u001b[0m| 120/120 [00:02<00:00, 44.66batch/s, loss=0.061008]\u001b[0m\n"
     ]
    },
    {
     "name": "stdout",
     "output_type": "stream",
     "text": [
      "\t Loss: 7.321,\tTrain : 98.15%(98.15%),\tTest : 96.49%(96.60%),\tCurrent Time: 20250917-194903\n"
     ]
    },
    {
     "name": "stderr",
     "output_type": "stream",
     "text": [
      "Epoch 36/50:: 100%|\u001b[34m███████████████████\u001b[0m| 120/120 [00:02<00:00, 44.75batch/s, loss=0.054584]\u001b[0m\n"
     ]
    },
    {
     "name": "stdout",
     "output_type": "stream",
     "text": [
      "\t Loss: 6.550,\tTrain : 98.36%(98.36%),\tTest : 96.34%(96.60%),\tCurrent Time: 20250917-194905\n"
     ]
    },
    {
     "name": "stderr",
     "output_type": "stream",
     "text": [
      "Epoch 37/50:: 100%|\u001b[34m███████████████████\u001b[0m| 120/120 [00:02<00:00, 44.92batch/s, loss=0.053168]\u001b[0m\n"
     ]
    },
    {
     "name": "stdout",
     "output_type": "stream",
     "text": [
      "\t Loss: 6.380,\tTrain : 98.44%(98.44%),\tTest : 96.60%(96.60%),\tCurrent Time: 20250917-194908\n"
     ]
    },
    {
     "name": "stderr",
     "output_type": "stream",
     "text": [
      "Epoch 38/50:: 100%|\u001b[34m███████████████████\u001b[0m| 120/120 [00:02<00:00, 44.73batch/s, loss=0.051208]\u001b[0m\n"
     ]
    },
    {
     "name": "stdout",
     "output_type": "stream",
     "text": [
      "\t Loss: 6.145,\tTrain : 98.46%(98.46%),\tTest : 96.53%(96.60%),\tCurrent Time: 20250917-194911\n"
     ]
    },
    {
     "name": "stderr",
     "output_type": "stream",
     "text": [
      "Epoch 39/50:: 100%|\u001b[34m███████████████████\u001b[0m| 120/120 [00:02<00:00, 44.83batch/s, loss=0.051312]\u001b[0m\n"
     ]
    },
    {
     "name": "stdout",
     "output_type": "stream",
     "text": [
      "\t Loss: 6.157,\tTrain : 98.47%(98.47%),\tTest : 96.66%(96.66%),\tCurrent Time: 20250917-194914\n"
     ]
    },
    {
     "name": "stderr",
     "output_type": "stream",
     "text": [
      "Epoch 40/50:: 100%|\u001b[34m███████████████████\u001b[0m| 120/120 [00:02<00:00, 44.65batch/s, loss=0.046353]\u001b[0m\n"
     ]
    },
    {
     "name": "stdout",
     "output_type": "stream",
     "text": [
      "\t Loss: 5.562,\tTrain : 98.61%(98.61%),\tTest : 96.43%(96.66%),\tCurrent Time: 20250917-194916\n"
     ]
    },
    {
     "name": "stderr",
     "output_type": "stream",
     "text": [
      "Epoch 41/50:: 100%|\u001b[34m███████████████████\u001b[0m| 120/120 [00:02<00:00, 44.80batch/s, loss=0.044126]\u001b[0m\n"
     ]
    },
    {
     "name": "stdout",
     "output_type": "stream",
     "text": [
      "\t Loss: 5.295,\tTrain : 98.66%(98.66%),\tTest : 96.65%(96.66%),\tCurrent Time: 20250917-194919\n"
     ]
    },
    {
     "name": "stderr",
     "output_type": "stream",
     "text": [
      "Epoch 42/50:: 100%|\u001b[34m███████████████████\u001b[0m| 120/120 [00:02<00:00, 44.69batch/s, loss=0.041162]\u001b[0m\n"
     ]
    },
    {
     "name": "stdout",
     "output_type": "stream",
     "text": [
      "\t Loss: 4.939,\tTrain : 98.76%(98.76%),\tTest : 96.93%(96.93%),\tCurrent Time: 20250917-194922\n"
     ]
    },
    {
     "name": "stderr",
     "output_type": "stream",
     "text": [
      "Epoch 43/50:: 100%|\u001b[34m███████████████████\u001b[0m| 120/120 [00:02<00:00, 44.72batch/s, loss=0.039455]\u001b[0m\n"
     ]
    },
    {
     "name": "stdout",
     "output_type": "stream",
     "text": [
      "\t Loss: 4.735,\tTrain : 98.84%(98.84%),\tTest : 96.87%(96.93%),\tCurrent Time: 20250917-194925\n"
     ]
    },
    {
     "name": "stderr",
     "output_type": "stream",
     "text": [
      "Epoch 44/50:: 100%|\u001b[34m███████████████████\u001b[0m| 120/120 [00:02<00:00, 44.86batch/s, loss=0.039295]\u001b[0m\n"
     ]
    },
    {
     "name": "stdout",
     "output_type": "stream",
     "text": [
      "\t Loss: 4.715,\tTrain : 98.79%(98.84%),\tTest : 96.72%(96.93%),\tCurrent Time: 20250917-194928\n"
     ]
    },
    {
     "name": "stderr",
     "output_type": "stream",
     "text": [
      "Epoch 45/50:: 100%|\u001b[34m███████████████████\u001b[0m| 120/120 [00:02<00:00, 44.74batch/s, loss=0.038053]\u001b[0m\n"
     ]
    },
    {
     "name": "stdout",
     "output_type": "stream",
     "text": [
      "\t Loss: 4.566,\tTrain : 98.87%(98.87%),\tTest : 96.96%(96.96%),\tCurrent Time: 20250917-194930\n"
     ]
    },
    {
     "name": "stderr",
     "output_type": "stream",
     "text": [
      "Epoch 46/50:: 100%|\u001b[34m███████████████████\u001b[0m| 120/120 [00:02<00:00, 44.86batch/s, loss=0.035205]\u001b[0m\n"
     ]
    },
    {
     "name": "stdout",
     "output_type": "stream",
     "text": [
      "\t Loss: 4.225,\tTrain : 98.91%(98.91%),\tTest : 96.82%(96.96%),\tCurrent Time: 20250917-194933\n"
     ]
    },
    {
     "name": "stderr",
     "output_type": "stream",
     "text": [
      "Epoch 47/50:: 100%|\u001b[34m███████████████████\u001b[0m| 120/120 [00:02<00:00, 44.79batch/s, loss=0.037514]\u001b[0m\n"
     ]
    },
    {
     "name": "stdout",
     "output_type": "stream",
     "text": [
      "\t Loss: 4.502,\tTrain : 98.86%(98.91%),\tTest : 96.60%(96.96%),\tCurrent Time: 20250917-194936\n"
     ]
    },
    {
     "name": "stderr",
     "output_type": "stream",
     "text": [
      "Epoch 48/50:: 100%|\u001b[34m███████████████████\u001b[0m| 120/120 [00:02<00:00, 44.46batch/s, loss=0.035889]\u001b[0m\n"
     ]
    },
    {
     "name": "stdout",
     "output_type": "stream",
     "text": [
      "\t Loss: 4.307,\tTrain : 98.92%(98.92%),\tTest : 96.77%(96.96%),\tCurrent Time: 20250917-194939\n"
     ]
    },
    {
     "name": "stderr",
     "output_type": "stream",
     "text": [
      "Epoch 49/50:: 100%|\u001b[34m███████████████████\u001b[0m| 120/120 [00:02<00:00, 44.84batch/s, loss=0.029611]\u001b[0m\n"
     ]
    },
    {
     "name": "stdout",
     "output_type": "stream",
     "text": [
      "\t Loss: 3.553,\tTrain : 99.12%(99.12%),\tTest : 96.81%(96.96%),\tCurrent Time: 20250917-194941\n"
     ]
    },
    {
     "name": "stderr",
     "output_type": "stream",
     "text": [
      "Epoch 50/50:: 100%|\u001b[34m███████████████████\u001b[0m| 120/120 [00:02<00:00, 44.76batch/s, loss=0.030507]\u001b[0m\n"
     ]
    },
    {
     "name": "stdout",
     "output_type": "stream",
     "text": [
      "\t Loss: 3.661,\tTrain : 99.11%(99.12%),\tTest : 96.80%(96.96%),\tCurrent Time: 20250917-194944\n",
      "First_asymm_AG_N-HL_resP-EP_L10-P0.5-MNIST_EP_b_sc0.1- Time: 20250917-194944, Epochs: 50, Learning Rate: 0.0005, Best: 99.12%  96.96%\n",
      "\n",
      "[[0 1 0 0 0 0 0 0 0 0 0 0]\n",
      " [0 0 1 1 0 0 1 1 1 1 1 0]\n",
      " [0 1 0 1 1 1 1 1 0 1 1 0]\n",
      " [0 0 1 0 1 0 0 0 0 0 0 0]\n",
      " [0 0 1 1 0 1 1 1 0 1 1 0]\n",
      " [0 1 1 0 1 0 1 0 0 0 1 0]\n",
      " [0 0 0 0 1 1 0 1 1 1 0 0]\n",
      " [0 1 1 0 0 0 1 0 1 0 0 0]\n",
      " [0 1 0 0 1 0 0 1 0 1 0 0]\n",
      " [0 0 1 0 1 0 0 0 1 0 1 0]\n",
      " [0 0 0 1 0 0 1 1 1 1 0 1]\n",
      " [0 0 0 0 0 0 0 0 0 0 1 0]]\n",
      "First_asymm_AG_N-HL_resP-EP_L10-P0.5-MNIST_EP_b_sc0.1-\n"
     ]
    },
    {
     "name": "stderr",
     "output_type": "stream",
     "text": [
      "Epoch 1/50:: 100%|\u001b[34m████████████████████\u001b[0m| 120/120 [00:03<00:00, 39.37batch/s, loss=2.082420]\u001b[0m\n"
     ]
    },
    {
     "name": "stdout",
     "output_type": "stream",
     "text": [
      "\t Loss: 249.890,\tTrain : 27.19%(27.19%),\tTest : 51.35%(51.35%),\tCurrent Time: 20250917-194952\n"
     ]
    },
    {
     "name": "stderr",
     "output_type": "stream",
     "text": [
      "Epoch 2/50:: 100%|\u001b[34m████████████████████\u001b[0m| 120/120 [00:02<00:00, 42.63batch/s, loss=1.121496]\u001b[0m\n"
     ]
    },
    {
     "name": "stdout",
     "output_type": "stream",
     "text": [
      "\t Loss: 134.579,\tTrain : 68.83%(68.83%),\tTest : 78.38%(78.38%),\tCurrent Time: 20250917-194954\n"
     ]
    },
    {
     "name": "stderr",
     "output_type": "stream",
     "text": [
      "Epoch 3/50:: 100%|\u001b[34m████████████████████\u001b[0m| 120/120 [00:02<00:00, 42.26batch/s, loss=0.617487]\u001b[0m\n"
     ]
    },
    {
     "name": "stdout",
     "output_type": "stream",
     "text": [
      "\t Loss: 74.098,\tTrain : 84.89%(84.89%),\tTest : 88.13%(88.13%),\tCurrent Time: 20250917-194957\n"
     ]
    },
    {
     "name": "stderr",
     "output_type": "stream",
     "text": [
      "Epoch 4/50:: 100%|\u001b[34m████████████████████\u001b[0m| 120/120 [00:02<00:00, 42.36batch/s, loss=0.419537]\u001b[0m\n"
     ]
    },
    {
     "name": "stdout",
     "output_type": "stream",
     "text": [
      "\t Loss: 50.344,\tTrain : 89.24%(89.24%),\tTest : 90.27%(90.27%),\tCurrent Time: 20250917-195000\n"
     ]
    },
    {
     "name": "stderr",
     "output_type": "stream",
     "text": [
      "Epoch 5/50:: 100%|\u001b[34m████████████████████\u001b[0m| 120/120 [00:02<00:00, 42.71batch/s, loss=0.337854]\u001b[0m\n"
     ]
    },
    {
     "name": "stdout",
     "output_type": "stream",
     "text": [
      "\t Loss: 40.543,\tTrain : 91.02%(91.02%),\tTest : 91.67%(91.67%),\tCurrent Time: 20250917-195003\n"
     ]
    },
    {
     "name": "stderr",
     "output_type": "stream",
     "text": [
      "Epoch 6/50:: 100%|\u001b[34m████████████████████\u001b[0m| 120/120 [00:02<00:00, 42.57batch/s, loss=0.291860]\u001b[0m\n"
     ]
    },
    {
     "name": "stdout",
     "output_type": "stream",
     "text": [
      "\t Loss: 35.023,\tTrain : 92.18%(92.18%),\tTest : 92.60%(92.60%),\tCurrent Time: 20250917-195006\n"
     ]
    },
    {
     "name": "stderr",
     "output_type": "stream",
     "text": [
      "Epoch 7/50:: 100%|\u001b[34m████████████████████\u001b[0m| 120/120 [00:02<00:00, 42.51batch/s, loss=0.258250]\u001b[0m\n"
     ]
    },
    {
     "name": "stdout",
     "output_type": "stream",
     "text": [
      "\t Loss: 30.990,\tTrain : 92.99%(92.99%),\tTest : 92.95%(92.95%),\tCurrent Time: 20250917-195009\n"
     ]
    },
    {
     "name": "stderr",
     "output_type": "stream",
     "text": [
      "Epoch 8/50:: 100%|\u001b[34m████████████████████\u001b[0m| 120/120 [00:02<00:00, 42.29batch/s, loss=0.232485]\u001b[0m\n"
     ]
    },
    {
     "name": "stdout",
     "output_type": "stream",
     "text": [
      "\t Loss: 27.898,\tTrain : 93.62%(93.62%),\tTest : 93.64%(93.64%),\tCurrent Time: 20250917-195012\n"
     ]
    },
    {
     "name": "stderr",
     "output_type": "stream",
     "text": [
      "Epoch 9/50:: 100%|\u001b[34m████████████████████\u001b[0m| 120/120 [00:02<00:00, 42.06batch/s, loss=0.214718]\u001b[0m\n"
     ]
    },
    {
     "name": "stdout",
     "output_type": "stream",
     "text": [
      "\t Loss: 25.766,\tTrain : 93.97%(93.97%),\tTest : 93.93%(93.93%),\tCurrent Time: 20250917-195015\n"
     ]
    },
    {
     "name": "stderr",
     "output_type": "stream",
     "text": [
      "Epoch 10/50:: 100%|\u001b[34m███████████████████\u001b[0m| 120/120 [00:02<00:00, 42.34batch/s, loss=0.197417]\u001b[0m\n"
     ]
    },
    {
     "name": "stdout",
     "output_type": "stream",
     "text": [
      "\t Loss: 23.690,\tTrain : 94.49%(94.49%),\tTest : 94.34%(94.34%),\tCurrent Time: 20250917-195018\n"
     ]
    },
    {
     "name": "stderr",
     "output_type": "stream",
     "text": [
      "Epoch 11/50:: 100%|\u001b[34m███████████████████\u001b[0m| 120/120 [00:02<00:00, 42.55batch/s, loss=0.184060]\u001b[0m\n"
     ]
    },
    {
     "name": "stdout",
     "output_type": "stream",
     "text": [
      "\t Loss: 22.087,\tTrain : 94.91%(94.91%),\tTest : 94.65%(94.65%),\tCurrent Time: 20250917-195021\n"
     ]
    },
    {
     "name": "stderr",
     "output_type": "stream",
     "text": [
      "Epoch 12/50:: 100%|\u001b[34m███████████████████\u001b[0m| 120/120 [00:02<00:00, 42.44batch/s, loss=0.171429]\u001b[0m\n"
     ]
    },
    {
     "name": "stdout",
     "output_type": "stream",
     "text": [
      "\t Loss: 20.572,\tTrain : 95.25%(95.25%),\tTest : 94.86%(94.86%),\tCurrent Time: 20250917-195024\n"
     ]
    },
    {
     "name": "stderr",
     "output_type": "stream",
     "text": [
      "Epoch 13/50:: 100%|\u001b[34m███████████████████\u001b[0m| 120/120 [00:02<00:00, 42.55batch/s, loss=0.162425]\u001b[0m\n"
     ]
    },
    {
     "name": "stdout",
     "output_type": "stream",
     "text": [
      "\t Loss: 19.491,\tTrain : 95.45%(95.45%),\tTest : 94.87%(94.87%),\tCurrent Time: 20250917-195027\n"
     ]
    },
    {
     "name": "stderr",
     "output_type": "stream",
     "text": [
      "Epoch 14/50:: 100%|\u001b[34m███████████████████\u001b[0m| 120/120 [00:02<00:00, 42.39batch/s, loss=0.154658]\u001b[0m\n"
     ]
    },
    {
     "name": "stdout",
     "output_type": "stream",
     "text": [
      "\t Loss: 18.559,\tTrain : 95.67%(95.67%),\tTest : 95.34%(95.34%),\tCurrent Time: 20250917-195029\n"
     ]
    },
    {
     "name": "stderr",
     "output_type": "stream",
     "text": [
      "Epoch 15/50:: 100%|\u001b[34m███████████████████\u001b[0m| 120/120 [00:02<00:00, 42.44batch/s, loss=0.146359]\u001b[0m\n"
     ]
    },
    {
     "name": "stdout",
     "output_type": "stream",
     "text": [
      "\t Loss: 17.563,\tTrain : 95.93%(95.93%),\tTest : 95.28%(95.34%),\tCurrent Time: 20250917-195032\n"
     ]
    },
    {
     "name": "stderr",
     "output_type": "stream",
     "text": [
      "Epoch 16/50:: 100%|\u001b[34m███████████████████\u001b[0m| 120/120 [00:02<00:00, 42.40batch/s, loss=0.135732]\u001b[0m\n"
     ]
    },
    {
     "name": "stdout",
     "output_type": "stream",
     "text": [
      "\t Loss: 16.288,\tTrain : 96.18%(96.18%),\tTest : 95.46%(95.46%),\tCurrent Time: 20250917-195035\n"
     ]
    },
    {
     "name": "stderr",
     "output_type": "stream",
     "text": [
      "Epoch 17/50:: 100%|\u001b[34m███████████████████\u001b[0m| 120/120 [00:02<00:00, 42.39batch/s, loss=0.125923]\u001b[0m\n"
     ]
    },
    {
     "name": "stdout",
     "output_type": "stream",
     "text": [
      "\t Loss: 15.111,\tTrain : 96.44%(96.44%),\tTest : 95.75%(95.75%),\tCurrent Time: 20250917-195038\n"
     ]
    },
    {
     "name": "stderr",
     "output_type": "stream",
     "text": [
      "Epoch 18/50:: 100%|\u001b[34m███████████████████\u001b[0m| 120/120 [00:02<00:00, 42.44batch/s, loss=0.117697]\u001b[0m\n"
     ]
    },
    {
     "name": "stdout",
     "output_type": "stream",
     "text": [
      "\t Loss: 14.124,\tTrain : 96.69%(96.69%),\tTest : 95.79%(95.79%),\tCurrent Time: 20250917-195041\n"
     ]
    },
    {
     "name": "stderr",
     "output_type": "stream",
     "text": [
      "Epoch 19/50:: 100%|\u001b[34m███████████████████\u001b[0m| 120/120 [00:02<00:00, 42.63batch/s, loss=0.110101]\u001b[0m\n"
     ]
    },
    {
     "name": "stdout",
     "output_type": "stream",
     "text": [
      "\t Loss: 13.212,\tTrain : 96.84%(96.84%),\tTest : 96.03%(96.03%),\tCurrent Time: 20250917-195044\n"
     ]
    },
    {
     "name": "stderr",
     "output_type": "stream",
     "text": [
      "Epoch 20/50:: 100%|\u001b[34m███████████████████\u001b[0m| 120/120 [00:02<00:00, 42.69batch/s, loss=0.103386]\u001b[0m\n"
     ]
    },
    {
     "name": "stdout",
     "output_type": "stream",
     "text": [
      "\t Loss: 12.406,\tTrain : 97.02%(97.02%),\tTest : 96.14%(96.14%),\tCurrent Time: 20250917-195047\n"
     ]
    },
    {
     "name": "stderr",
     "output_type": "stream",
     "text": [
      "Epoch 21/50:: 100%|\u001b[34m███████████████████\u001b[0m| 120/120 [00:02<00:00, 42.37batch/s, loss=0.099817]\u001b[0m\n"
     ]
    },
    {
     "name": "stdout",
     "output_type": "stream",
     "text": [
      "\t Loss: 11.978,\tTrain : 97.17%(97.17%),\tTest : 96.15%(96.15%),\tCurrent Time: 20250917-195050\n"
     ]
    },
    {
     "name": "stderr",
     "output_type": "stream",
     "text": [
      "Epoch 22/50:: 100%|\u001b[34m███████████████████\u001b[0m| 120/120 [00:02<00:00, 42.10batch/s, loss=0.093476]\u001b[0m\n"
     ]
    },
    {
     "name": "stdout",
     "output_type": "stream",
     "text": [
      "\t Loss: 11.217,\tTrain : 97.30%(97.30%),\tTest : 96.12%(96.15%),\tCurrent Time: 20250917-195053\n"
     ]
    },
    {
     "name": "stderr",
     "output_type": "stream",
     "text": [
      "Epoch 23/50:: 100%|\u001b[34m███████████████████\u001b[0m| 120/120 [00:02<00:00, 42.51batch/s, loss=0.087759]\u001b[0m\n"
     ]
    },
    {
     "name": "stdout",
     "output_type": "stream",
     "text": [
      "\t Loss: 10.531,\tTrain : 97.50%(97.50%),\tTest : 96.18%(96.18%),\tCurrent Time: 20250917-195056\n"
     ]
    },
    {
     "name": "stderr",
     "output_type": "stream",
     "text": [
      "Epoch 24/50:: 100%|\u001b[34m███████████████████\u001b[0m| 120/120 [00:02<00:00, 42.42batch/s, loss=0.085514]\u001b[0m\n"
     ]
    },
    {
     "name": "stdout",
     "output_type": "stream",
     "text": [
      "\t Loss: 10.262,\tTrain : 97.52%(97.52%),\tTest : 96.04%(96.18%),\tCurrent Time: 20250917-195059\n"
     ]
    },
    {
     "name": "stderr",
     "output_type": "stream",
     "text": [
      "Epoch 25/50:: 100%|\u001b[34m███████████████████\u001b[0m| 120/120 [00:02<00:00, 42.59batch/s, loss=0.082411]\u001b[0m\n"
     ]
    },
    {
     "name": "stdout",
     "output_type": "stream",
     "text": [
      "\t Loss: 9.889,\tTrain : 97.61%(97.61%),\tTest : 96.23%(96.23%),\tCurrent Time: 20250917-195101\n"
     ]
    },
    {
     "name": "stderr",
     "output_type": "stream",
     "text": [
      "Epoch 26/50:: 100%|\u001b[34m███████████████████\u001b[0m| 120/120 [00:02<00:00, 42.47batch/s, loss=0.079667]\u001b[0m\n"
     ]
    },
    {
     "name": "stdout",
     "output_type": "stream",
     "text": [
      "\t Loss: 9.560,\tTrain : 97.67%(97.67%),\tTest : 96.27%(96.27%),\tCurrent Time: 20250917-195104\n"
     ]
    },
    {
     "name": "stderr",
     "output_type": "stream",
     "text": [
      "Epoch 27/50:: 100%|\u001b[34m███████████████████\u001b[0m| 120/120 [00:02<00:00, 42.54batch/s, loss=0.075478]\u001b[0m\n"
     ]
    },
    {
     "name": "stdout",
     "output_type": "stream",
     "text": [
      "\t Loss: 9.057,\tTrain : 97.75%(97.75%),\tTest : 96.63%(96.63%),\tCurrent Time: 20250917-195107\n"
     ]
    },
    {
     "name": "stderr",
     "output_type": "stream",
     "text": [
      "Epoch 28/50:: 100%|\u001b[34m███████████████████\u001b[0m| 120/120 [00:02<00:00, 42.16batch/s, loss=0.074888]\u001b[0m\n"
     ]
    },
    {
     "name": "stdout",
     "output_type": "stream",
     "text": [
      "\t Loss: 8.987,\tTrain : 97.75%(97.75%),\tTest : 96.49%(96.63%),\tCurrent Time: 20250917-195110\n"
     ]
    },
    {
     "name": "stderr",
     "output_type": "stream",
     "text": [
      "Epoch 29/50:: 100%|\u001b[34m███████████████████\u001b[0m| 120/120 [00:02<00:00, 42.60batch/s, loss=0.069568]\u001b[0m\n"
     ]
    },
    {
     "name": "stdout",
     "output_type": "stream",
     "text": [
      "\t Loss: 8.348,\tTrain : 97.90%(97.90%),\tTest : 96.38%(96.63%),\tCurrent Time: 20250917-195113\n"
     ]
    },
    {
     "name": "stderr",
     "output_type": "stream",
     "text": [
      "Epoch 30/50:: 100%|\u001b[34m███████████████████\u001b[0m| 120/120 [00:02<00:00, 42.66batch/s, loss=0.067688]\u001b[0m\n"
     ]
    },
    {
     "name": "stdout",
     "output_type": "stream",
     "text": [
      "\t Loss: 8.123,\tTrain : 97.99%(97.99%),\tTest : 96.48%(96.63%),\tCurrent Time: 20250917-195116\n"
     ]
    },
    {
     "name": "stderr",
     "output_type": "stream",
     "text": [
      "Epoch 31/50:: 100%|\u001b[34m███████████████████\u001b[0m| 120/120 [00:02<00:00, 41.86batch/s, loss=0.065066]\u001b[0m\n"
     ]
    },
    {
     "name": "stdout",
     "output_type": "stream",
     "text": [
      "\t Loss: 7.808,\tTrain : 98.05%(98.05%),\tTest : 96.66%(96.66%),\tCurrent Time: 20250917-195119\n"
     ]
    },
    {
     "name": "stderr",
     "output_type": "stream",
     "text": [
      "Epoch 32/50:: 100%|\u001b[34m███████████████████\u001b[0m| 120/120 [00:02<00:00, 42.50batch/s, loss=0.061984]\u001b[0m\n"
     ]
    },
    {
     "name": "stdout",
     "output_type": "stream",
     "text": [
      "\t Loss: 7.438,\tTrain : 98.10%(98.10%),\tTest : 96.76%(96.76%),\tCurrent Time: 20250917-195122\n"
     ]
    },
    {
     "name": "stderr",
     "output_type": "stream",
     "text": [
      "Epoch 33/50:: 100%|\u001b[34m███████████████████\u001b[0m| 120/120 [00:02<00:00, 42.01batch/s, loss=0.059968]\u001b[0m\n"
     ]
    },
    {
     "name": "stdout",
     "output_type": "stream",
     "text": [
      "\t Loss: 7.196,\tTrain : 98.17%(98.17%),\tTest : 96.40%(96.76%),\tCurrent Time: 20250917-195125\n"
     ]
    },
    {
     "name": "stderr",
     "output_type": "stream",
     "text": [
      "Epoch 34/50:: 100%|\u001b[34m███████████████████\u001b[0m| 120/120 [00:02<00:00, 42.28batch/s, loss=0.056855]\u001b[0m\n"
     ]
    },
    {
     "name": "stdout",
     "output_type": "stream",
     "text": [
      "\t Loss: 6.823,\tTrain : 98.32%(98.32%),\tTest : 96.56%(96.76%),\tCurrent Time: 20250917-195128\n"
     ]
    },
    {
     "name": "stderr",
     "output_type": "stream",
     "text": [
      "Epoch 35/50:: 100%|\u001b[34m███████████████████\u001b[0m| 120/120 [00:02<00:00, 42.29batch/s, loss=0.056100]\u001b[0m\n"
     ]
    },
    {
     "name": "stdout",
     "output_type": "stream",
     "text": [
      "\t Loss: 6.732,\tTrain : 98.27%(98.32%),\tTest : 96.84%(96.84%),\tCurrent Time: 20250917-195131\n"
     ]
    },
    {
     "name": "stderr",
     "output_type": "stream",
     "text": [
      "Epoch 36/50:: 100%|\u001b[34m███████████████████\u001b[0m| 120/120 [00:02<00:00, 42.45batch/s, loss=0.052314]\u001b[0m\n"
     ]
    },
    {
     "name": "stdout",
     "output_type": "stream",
     "text": [
      "\t Loss: 6.278,\tTrain : 98.41%(98.41%),\tTest : 96.90%(96.90%),\tCurrent Time: 20250917-195134\n"
     ]
    },
    {
     "name": "stderr",
     "output_type": "stream",
     "text": [
      "Epoch 37/50:: 100%|\u001b[34m███████████████████\u001b[0m| 120/120 [00:02<00:00, 42.49batch/s, loss=0.052314]\u001b[0m\n"
     ]
    },
    {
     "name": "stdout",
     "output_type": "stream",
     "text": [
      "\t Loss: 6.278,\tTrain : 98.39%(98.41%),\tTest : 96.44%(96.90%),\tCurrent Time: 20250917-195136\n"
     ]
    },
    {
     "name": "stderr",
     "output_type": "stream",
     "text": [
      "Epoch 38/50:: 100%|\u001b[34m███████████████████\u001b[0m| 120/120 [00:02<00:00, 42.58batch/s, loss=0.047371]\u001b[0m\n"
     ]
    },
    {
     "name": "stdout",
     "output_type": "stream",
     "text": [
      "\t Loss: 5.685,\tTrain : 98.56%(98.56%),\tTest : 96.74%(96.90%),\tCurrent Time: 20250917-195139\n"
     ]
    },
    {
     "name": "stderr",
     "output_type": "stream",
     "text": [
      "Epoch 39/50:: 100%|\u001b[34m███████████████████\u001b[0m| 120/120 [00:02<00:00, 42.52batch/s, loss=0.048309]\u001b[0m\n"
     ]
    },
    {
     "name": "stdout",
     "output_type": "stream",
     "text": [
      "\t Loss: 5.797,\tTrain : 98.56%(98.56%),\tTest : 96.58%(96.90%),\tCurrent Time: 20250917-195142\n"
     ]
    },
    {
     "name": "stderr",
     "output_type": "stream",
     "text": [
      "Epoch 40/50:: 100%|\u001b[34m███████████████████\u001b[0m| 120/120 [00:02<00:00, 42.15batch/s, loss=0.043662]\u001b[0m\n"
     ]
    },
    {
     "name": "stdout",
     "output_type": "stream",
     "text": [
      "\t Loss: 5.239,\tTrain : 98.72%(98.72%),\tTest : 96.73%(96.90%),\tCurrent Time: 20250917-195145\n"
     ]
    },
    {
     "name": "stderr",
     "output_type": "stream",
     "text": [
      "Epoch 41/50:: 100%|\u001b[34m███████████████████\u001b[0m| 120/120 [00:02<00:00, 42.20batch/s, loss=0.042740]\u001b[0m\n"
     ]
    },
    {
     "name": "stdout",
     "output_type": "stream",
     "text": [
      "\t Loss: 5.129,\tTrain : 98.69%(98.72%),\tTest : 96.48%(96.90%),\tCurrent Time: 20250917-195148\n"
     ]
    },
    {
     "name": "stderr",
     "output_type": "stream",
     "text": [
      "Epoch 42/50:: 100%|\u001b[34m███████████████████\u001b[0m| 120/120 [00:02<00:00, 42.44batch/s, loss=0.040930]\u001b[0m\n"
     ]
    },
    {
     "name": "stdout",
     "output_type": "stream",
     "text": [
      "\t Loss: 4.912,\tTrain : 98.72%(98.72%),\tTest : 96.75%(96.90%),\tCurrent Time: 20250917-195151\n"
     ]
    },
    {
     "name": "stderr",
     "output_type": "stream",
     "text": [
      "Epoch 43/50:: 100%|\u001b[34m███████████████████\u001b[0m| 120/120 [00:02<00:00, 42.37batch/s, loss=0.041026]\u001b[0m\n"
     ]
    },
    {
     "name": "stdout",
     "output_type": "stream",
     "text": [
      "\t Loss: 4.923,\tTrain : 98.74%(98.74%),\tTest : 96.68%(96.90%),\tCurrent Time: 20250917-195154\n"
     ]
    },
    {
     "name": "stderr",
     "output_type": "stream",
     "text": [
      "Epoch 44/50:: 100%|\u001b[34m███████████████████\u001b[0m| 120/120 [00:02<00:00, 42.32batch/s, loss=0.041779]\u001b[0m\n"
     ]
    },
    {
     "name": "stdout",
     "output_type": "stream",
     "text": [
      "\t Loss: 5.013,\tTrain : 98.70%(98.74%),\tTest : 96.38%(96.90%),\tCurrent Time: 20250917-195157\n"
     ]
    },
    {
     "name": "stderr",
     "output_type": "stream",
     "text": [
      "Epoch 45/50:: 100%|\u001b[34m███████████████████\u001b[0m| 120/120 [00:02<00:00, 42.53batch/s, loss=0.037896]\u001b[0m\n"
     ]
    },
    {
     "name": "stdout",
     "output_type": "stream",
     "text": [
      "\t Loss: 4.548,\tTrain : 98.86%(98.86%),\tTest : 96.83%(96.90%),\tCurrent Time: 20250917-195200\n"
     ]
    },
    {
     "name": "stderr",
     "output_type": "stream",
     "text": [
      "Epoch 46/50:: 100%|\u001b[34m███████████████████\u001b[0m| 120/120 [00:02<00:00, 42.44batch/s, loss=0.033039]\u001b[0m\n"
     ]
    },
    {
     "name": "stdout",
     "output_type": "stream",
     "text": [
      "\t Loss: 3.965,\tTrain : 99.01%(99.01%),\tTest : 96.94%(96.94%),\tCurrent Time: 20250917-195203\n"
     ]
    },
    {
     "name": "stderr",
     "output_type": "stream",
     "text": [
      "Epoch 47/50:: 100%|\u001b[34m███████████████████\u001b[0m| 120/120 [00:02<00:00, 42.29batch/s, loss=0.035292]\u001b[0m\n"
     ]
    },
    {
     "name": "stdout",
     "output_type": "stream",
     "text": [
      "\t Loss: 4.235,\tTrain : 98.91%(99.01%),\tTest : 96.56%(96.94%),\tCurrent Time: 20250917-195206\n"
     ]
    },
    {
     "name": "stderr",
     "output_type": "stream",
     "text": [
      "Epoch 48/50:: 100%|\u001b[34m███████████████████\u001b[0m| 120/120 [00:02<00:00, 42.60batch/s, loss=0.032322]\u001b[0m\n"
     ]
    },
    {
     "name": "stdout",
     "output_type": "stream",
     "text": [
      "\t Loss: 3.879,\tTrain : 99.00%(99.01%),\tTest : 96.74%(96.94%),\tCurrent Time: 20250917-195209\n"
     ]
    },
    {
     "name": "stderr",
     "output_type": "stream",
     "text": [
      "Epoch 49/50:: 100%|\u001b[34m███████████████████\u001b[0m| 120/120 [00:02<00:00, 42.40batch/s, loss=0.030576]\u001b[0m\n"
     ]
    },
    {
     "name": "stdout",
     "output_type": "stream",
     "text": [
      "\t Loss: 3.669,\tTrain : 99.06%(99.06%),\tTest : 96.59%(96.94%),\tCurrent Time: 20250917-195211\n"
     ]
    },
    {
     "name": "stderr",
     "output_type": "stream",
     "text": [
      "Epoch 50/50:: 100%|\u001b[34m███████████████████\u001b[0m| 120/120 [00:02<00:00, 42.71batch/s, loss=0.031657]\u001b[0m\n"
     ]
    },
    {
     "name": "stdout",
     "output_type": "stream",
     "text": [
      "\t Loss: 3.799,\tTrain : 99.05%(99.06%),\tTest : 96.71%(96.94%),\tCurrent Time: 20250917-195214\n",
      "First_asymm_AG_N-HL_resP-EP_L10-P0.5-MNIST_EP_b_sc0.1- Time: 20250917-195214, Epochs: 50, Learning Rate: 0.0005, Best: 99.06%  96.94%\n",
      "\n",
      "[[0 1 0 0 0 0 0 0 0 0 0 0]\n",
      " [0 0 1 0 1 1 0 0 1 1 0 0]\n",
      " [0 1 0 1 0 0 0 0 1 0 1 0]\n",
      " [0 0 1 0 1 1 0 0 0 1 1 0]\n",
      " [0 1 1 1 0 1 0 0 0 1 1 0]\n",
      " [0 1 0 1 1 0 1 0 0 1 0 0]\n",
      " [0 1 0 0 0 1 0 1 1 1 1 0]\n",
      " [0 0 1 0 1 0 1 0 1 1 0 0]\n",
      " [0 0 1 1 0 1 1 1 0 1 1 0]\n",
      " [0 1 0 0 0 1 0 0 1 0 1 0]\n",
      " [0 1 0 1 1 1 1 1 1 1 0 1]\n",
      " [0 0 0 0 0 0 0 0 0 0 1 0]]\n",
      "First_asymm_AG_N-HL_resP-EP_L10-P0.5-MNIST_EP_b_sc0.1-\n"
     ]
    },
    {
     "name": "stderr",
     "output_type": "stream",
     "text": [
      "Epoch 1/50:: 100%|\u001b[34m████████████████████\u001b[0m| 120/120 [00:02<00:00, 40.48batch/s, loss=2.090200]\u001b[0m\n"
     ]
    },
    {
     "name": "stdout",
     "output_type": "stream",
     "text": [
      "\t Loss: 250.824,\tTrain : 24.43%(24.43%),\tTest : 56.50%(56.50%),\tCurrent Time: 20250917-195222\n"
     ]
    },
    {
     "name": "stderr",
     "output_type": "stream",
     "text": [
      "Epoch 2/50:: 100%|\u001b[34m████████████████████\u001b[0m| 120/120 [00:02<00:00, 42.96batch/s, loss=1.092006]\u001b[0m\n"
     ]
    },
    {
     "name": "stdout",
     "output_type": "stream",
     "text": [
      "\t Loss: 131.041,\tTrain : 71.96%(71.96%),\tTest : 84.68%(84.68%),\tCurrent Time: 20250917-195225\n"
     ]
    },
    {
     "name": "stderr",
     "output_type": "stream",
     "text": [
      "Epoch 3/50:: 100%|\u001b[34m████████████████████\u001b[0m| 120/120 [00:02<00:00, 43.24batch/s, loss=0.608563]\u001b[0m\n"
     ]
    },
    {
     "name": "stdout",
     "output_type": "stream",
     "text": [
      "\t Loss: 73.028,\tTrain : 86.27%(86.27%),\tTest : 88.55%(88.55%),\tCurrent Time: 20250917-195227\n"
     ]
    },
    {
     "name": "stderr",
     "output_type": "stream",
     "text": [
      "Epoch 4/50:: 100%|\u001b[34m████████████████████\u001b[0m| 120/120 [00:02<00:00, 43.04batch/s, loss=0.423787]\u001b[0m\n"
     ]
    },
    {
     "name": "stdout",
     "output_type": "stream",
     "text": [
      "\t Loss: 50.854,\tTrain : 89.36%(89.36%),\tTest : 90.43%(90.43%),\tCurrent Time: 20250917-195230\n"
     ]
    },
    {
     "name": "stderr",
     "output_type": "stream",
     "text": [
      "Epoch 5/50:: 100%|\u001b[34m████████████████████\u001b[0m| 120/120 [00:02<00:00, 43.06batch/s, loss=0.353423]\u001b[0m\n"
     ]
    },
    {
     "name": "stdout",
     "output_type": "stream",
     "text": [
      "\t Loss: 42.411,\tTrain : 90.99%(90.99%),\tTest : 91.57%(91.57%),\tCurrent Time: 20250917-195233\n"
     ]
    },
    {
     "name": "stderr",
     "output_type": "stream",
     "text": [
      "Epoch 6/50:: 100%|\u001b[34m████████████████████\u001b[0m| 120/120 [00:02<00:00, 42.93batch/s, loss=0.309124]\u001b[0m\n"
     ]
    },
    {
     "name": "stdout",
     "output_type": "stream",
     "text": [
      "\t Loss: 37.095,\tTrain : 91.98%(91.98%),\tTest : 92.63%(92.63%),\tCurrent Time: 20250917-195236\n"
     ]
    },
    {
     "name": "stderr",
     "output_type": "stream",
     "text": [
      "Epoch 7/50:: 100%|\u001b[34m████████████████████\u001b[0m| 120/120 [00:02<00:00, 43.03batch/s, loss=0.274373]\u001b[0m\n"
     ]
    },
    {
     "name": "stdout",
     "output_type": "stream",
     "text": [
      "\t Loss: 32.925,\tTrain : 92.71%(92.71%),\tTest : 93.02%(93.02%),\tCurrent Time: 20250917-195239\n"
     ]
    },
    {
     "name": "stderr",
     "output_type": "stream",
     "text": [
      "Epoch 8/50:: 100%|\u001b[34m████████████████████\u001b[0m| 120/120 [00:02<00:00, 42.79batch/s, loss=0.250580]\u001b[0m\n"
     ]
    },
    {
     "name": "stdout",
     "output_type": "stream",
     "text": [
      "\t Loss: 30.070,\tTrain : 93.41%(93.41%),\tTest : 93.21%(93.21%),\tCurrent Time: 20250917-195242\n"
     ]
    },
    {
     "name": "stderr",
     "output_type": "stream",
     "text": [
      "Epoch 9/50:: 100%|\u001b[34m████████████████████\u001b[0m| 120/120 [00:02<00:00, 43.03batch/s, loss=0.236023]\u001b[0m\n"
     ]
    },
    {
     "name": "stdout",
     "output_type": "stream",
     "text": [
      "\t Loss: 28.323,\tTrain : 93.62%(93.62%),\tTest : 93.71%(93.71%),\tCurrent Time: 20250917-195245\n"
     ]
    },
    {
     "name": "stderr",
     "output_type": "stream",
     "text": [
      "Epoch 10/50:: 100%|\u001b[34m███████████████████\u001b[0m| 120/120 [00:02<00:00, 43.21batch/s, loss=0.216517]\u001b[0m\n"
     ]
    },
    {
     "name": "stdout",
     "output_type": "stream",
     "text": [
      "\t Loss: 25.982,\tTrain : 94.10%(94.10%),\tTest : 94.08%(94.08%),\tCurrent Time: 20250917-195248\n"
     ]
    },
    {
     "name": "stderr",
     "output_type": "stream",
     "text": [
      "Epoch 11/50:: 100%|\u001b[34m███████████████████\u001b[0m| 120/120 [00:02<00:00, 43.10batch/s, loss=0.213182]\u001b[0m\n"
     ]
    },
    {
     "name": "stdout",
     "output_type": "stream",
     "text": [
      "\t Loss: 25.582,\tTrain : 94.22%(94.22%),\tTest : 93.97%(94.08%),\tCurrent Time: 20250917-195250\n"
     ]
    },
    {
     "name": "stderr",
     "output_type": "stream",
     "text": [
      "Epoch 12/50:: 100%|\u001b[34m███████████████████\u001b[0m| 120/120 [00:02<00:00, 43.11batch/s, loss=0.191942]\u001b[0m\n"
     ]
    },
    {
     "name": "stdout",
     "output_type": "stream",
     "text": [
      "\t Loss: 23.033,\tTrain : 94.70%(94.70%),\tTest : 94.59%(94.59%),\tCurrent Time: 20250917-195253\n"
     ]
    },
    {
     "name": "stderr",
     "output_type": "stream",
     "text": [
      "Epoch 13/50:: 100%|\u001b[34m███████████████████\u001b[0m| 120/120 [00:02<00:00, 43.09batch/s, loss=0.179725]\u001b[0m\n"
     ]
    },
    {
     "name": "stdout",
     "output_type": "stream",
     "text": [
      "\t Loss: 21.567,\tTrain : 94.99%(94.99%),\tTest : 94.78%(94.78%),\tCurrent Time: 20250917-195256\n"
     ]
    },
    {
     "name": "stderr",
     "output_type": "stream",
     "text": [
      "Epoch 14/50:: 100%|\u001b[34m███████████████████\u001b[0m| 120/120 [00:02<00:00, 42.35batch/s, loss=0.173368]\u001b[0m\n"
     ]
    },
    {
     "name": "stdout",
     "output_type": "stream",
     "text": [
      "\t Loss: 20.804,\tTrain : 95.15%(95.15%),\tTest : 95.07%(95.07%),\tCurrent Time: 20250917-195259\n"
     ]
    },
    {
     "name": "stderr",
     "output_type": "stream",
     "text": [
      "Epoch 15/50:: 100%|\u001b[34m███████████████████\u001b[0m| 120/120 [00:02<00:00, 42.90batch/s, loss=0.163433]\u001b[0m\n"
     ]
    },
    {
     "name": "stdout",
     "output_type": "stream",
     "text": [
      "\t Loss: 19.612,\tTrain : 95.41%(95.41%),\tTest : 95.13%(95.13%),\tCurrent Time: 20250917-195302\n"
     ]
    },
    {
     "name": "stderr",
     "output_type": "stream",
     "text": [
      "Epoch 16/50:: 100%|\u001b[34m███████████████████\u001b[0m| 120/120 [00:02<00:00, 43.00batch/s, loss=0.151919]\u001b[0m\n"
     ]
    },
    {
     "name": "stdout",
     "output_type": "stream",
     "text": [
      "\t Loss: 18.230,\tTrain : 95.69%(95.69%),\tTest : 95.22%(95.22%),\tCurrent Time: 20250917-195305\n"
     ]
    },
    {
     "name": "stderr",
     "output_type": "stream",
     "text": [
      "Epoch 17/50:: 100%|\u001b[34m███████████████████\u001b[0m| 120/120 [00:02<00:00, 42.81batch/s, loss=0.147590]\u001b[0m\n"
     ]
    },
    {
     "name": "stdout",
     "output_type": "stream",
     "text": [
      "\t Loss: 17.711,\tTrain : 95.83%(95.83%),\tTest : 95.32%(95.32%),\tCurrent Time: 20250917-195308\n"
     ]
    },
    {
     "name": "stderr",
     "output_type": "stream",
     "text": [
      "Epoch 18/50:: 100%|\u001b[34m███████████████████\u001b[0m| 120/120 [00:02<00:00, 43.01batch/s, loss=0.139152]\u001b[0m\n"
     ]
    },
    {
     "name": "stdout",
     "output_type": "stream",
     "text": [
      "\t Loss: 16.698,\tTrain : 95.98%(95.98%),\tTest : 95.49%(95.49%),\tCurrent Time: 20250917-195311\n"
     ]
    },
    {
     "name": "stderr",
     "output_type": "stream",
     "text": [
      "Epoch 19/50:: 100%|\u001b[34m███████████████████\u001b[0m| 120/120 [00:02<00:00, 42.94batch/s, loss=0.133754]\u001b[0m\n"
     ]
    },
    {
     "name": "stdout",
     "output_type": "stream",
     "text": [
      "\t Loss: 16.050,\tTrain : 96.22%(96.22%),\tTest : 95.55%(95.55%),\tCurrent Time: 20250917-195313\n"
     ]
    },
    {
     "name": "stderr",
     "output_type": "stream",
     "text": [
      "Epoch 20/50:: 100%|\u001b[34m███████████████████\u001b[0m| 120/120 [00:02<00:00, 43.03batch/s, loss=0.128327]\u001b[0m\n"
     ]
    },
    {
     "name": "stdout",
     "output_type": "stream",
     "text": [
      "\t Loss: 15.399,\tTrain : 96.38%(96.38%),\tTest : 95.32%(95.55%),\tCurrent Time: 20250917-195316\n"
     ]
    },
    {
     "name": "stderr",
     "output_type": "stream",
     "text": [
      "Epoch 21/50:: 100%|\u001b[34m███████████████████\u001b[0m| 120/120 [00:02<00:00, 43.05batch/s, loss=0.125747]\u001b[0m\n"
     ]
    },
    {
     "name": "stdout",
     "output_type": "stream",
     "text": [
      "\t Loss: 15.090,\tTrain : 96.38%(96.38%),\tTest : 95.51%(95.55%),\tCurrent Time: 20250917-195319\n"
     ]
    },
    {
     "name": "stderr",
     "output_type": "stream",
     "text": [
      "Epoch 22/50:: 100%|\u001b[34m███████████████████\u001b[0m| 120/120 [00:02<00:00, 42.71batch/s, loss=0.121527]\u001b[0m\n"
     ]
    },
    {
     "name": "stdout",
     "output_type": "stream",
     "text": [
      "\t Loss: 14.583,\tTrain : 96.48%(96.48%),\tTest : 95.70%(95.70%),\tCurrent Time: 20250917-195322\n"
     ]
    },
    {
     "name": "stderr",
     "output_type": "stream",
     "text": [
      "Epoch 23/50:: 100%|\u001b[34m███████████████████\u001b[0m| 120/120 [00:02<00:00, 42.68batch/s, loss=0.114036]\u001b[0m\n"
     ]
    },
    {
     "name": "stdout",
     "output_type": "stream",
     "text": [
      "\t Loss: 13.684,\tTrain : 96.71%(96.71%),\tTest : 95.90%(95.90%),\tCurrent Time: 20250917-195325\n"
     ]
    },
    {
     "name": "stderr",
     "output_type": "stream",
     "text": [
      "Epoch 24/50:: 100%|\u001b[34m███████████████████\u001b[0m| 120/120 [00:02<00:00, 43.12batch/s, loss=0.107619]\u001b[0m\n"
     ]
    },
    {
     "name": "stdout",
     "output_type": "stream",
     "text": [
      "\t Loss: 12.914,\tTrain : 96.88%(96.88%),\tTest : 95.89%(95.90%),\tCurrent Time: 20250917-195328\n"
     ]
    },
    {
     "name": "stderr",
     "output_type": "stream",
     "text": [
      "Epoch 25/50:: 100%|\u001b[34m███████████████████\u001b[0m| 120/120 [00:02<00:00, 43.21batch/s, loss=0.104284]\u001b[0m\n"
     ]
    },
    {
     "name": "stdout",
     "output_type": "stream",
     "text": [
      "\t Loss: 12.514,\tTrain : 97.03%(97.03%),\tTest : 96.00%(96.00%),\tCurrent Time: 20250917-195331\n"
     ]
    },
    {
     "name": "stderr",
     "output_type": "stream",
     "text": [
      "Epoch 26/50:: 100%|\u001b[34m███████████████████\u001b[0m| 120/120 [00:02<00:00, 43.06batch/s, loss=0.098803]\u001b[0m\n"
     ]
    },
    {
     "name": "stdout",
     "output_type": "stream",
     "text": [
      "\t Loss: 11.856,\tTrain : 97.10%(97.10%),\tTest : 95.87%(96.00%),\tCurrent Time: 20250917-195334\n"
     ]
    },
    {
     "name": "stderr",
     "output_type": "stream",
     "text": [
      "Epoch 27/50:: 100%|\u001b[34m███████████████████\u001b[0m| 120/120 [00:02<00:00, 42.91batch/s, loss=0.096620]\u001b[0m\n"
     ]
    },
    {
     "name": "stdout",
     "output_type": "stream",
     "text": [
      "\t Loss: 11.594,\tTrain : 97.13%(97.13%),\tTest : 95.88%(96.00%),\tCurrent Time: 20250917-195337\n"
     ]
    },
    {
     "name": "stderr",
     "output_type": "stream",
     "text": [
      "Epoch 28/50:: 100%|\u001b[34m███████████████████\u001b[0m| 120/120 [00:02<00:00, 42.92batch/s, loss=0.093345]\u001b[0m\n"
     ]
    },
    {
     "name": "stdout",
     "output_type": "stream",
     "text": [
      "\t Loss: 11.201,\tTrain : 97.29%(97.29%),\tTest : 96.09%(96.09%),\tCurrent Time: 20250917-195339\n"
     ]
    },
    {
     "name": "stderr",
     "output_type": "stream",
     "text": [
      "Epoch 29/50:: 100%|\u001b[34m███████████████████\u001b[0m| 120/120 [00:02<00:00, 42.97batch/s, loss=0.090688]\u001b[0m\n"
     ]
    },
    {
     "name": "stdout",
     "output_type": "stream",
     "text": [
      "\t Loss: 10.883,\tTrain : 97.39%(97.39%),\tTest : 96.28%(96.28%),\tCurrent Time: 20250917-195342\n"
     ]
    },
    {
     "name": "stderr",
     "output_type": "stream",
     "text": [
      "Epoch 30/50:: 100%|\u001b[34m███████████████████\u001b[0m| 120/120 [00:02<00:00, 43.04batch/s, loss=0.086859]\u001b[0m\n"
     ]
    },
    {
     "name": "stdout",
     "output_type": "stream",
     "text": [
      "\t Loss: 10.423,\tTrain : 97.48%(97.48%),\tTest : 95.94%(96.28%),\tCurrent Time: 20250917-195345\n"
     ]
    },
    {
     "name": "stderr",
     "output_type": "stream",
     "text": [
      "Epoch 31/50:: 100%|\u001b[34m███████████████████\u001b[0m| 120/120 [00:02<00:00, 43.10batch/s, loss=0.086218]\u001b[0m\n"
     ]
    },
    {
     "name": "stdout",
     "output_type": "stream",
     "text": [
      "\t Loss: 10.346,\tTrain : 97.47%(97.48%),\tTest : 96.09%(96.28%),\tCurrent Time: 20250917-195348\n"
     ]
    },
    {
     "name": "stderr",
     "output_type": "stream",
     "text": [
      "Epoch 32/50:: 100%|\u001b[34m███████████████████\u001b[0m| 120/120 [00:02<00:00, 43.14batch/s, loss=0.082356]\u001b[0m\n"
     ]
    },
    {
     "name": "stdout",
     "output_type": "stream",
     "text": [
      "\t Loss: 9.883,\tTrain : 97.59%(97.59%),\tTest : 96.06%(96.28%),\tCurrent Time: 20250917-195351\n"
     ]
    },
    {
     "name": "stderr",
     "output_type": "stream",
     "text": [
      "Epoch 33/50:: 100%|\u001b[34m███████████████████\u001b[0m| 120/120 [00:02<00:00, 42.81batch/s, loss=0.079552]\u001b[0m\n"
     ]
    },
    {
     "name": "stdout",
     "output_type": "stream",
     "text": [
      "\t Loss: 9.546,\tTrain : 97.64%(97.64%),\tTest : 96.05%(96.28%),\tCurrent Time: 20250917-195354\n"
     ]
    },
    {
     "name": "stderr",
     "output_type": "stream",
     "text": [
      "Epoch 34/50:: 100%|\u001b[34m███████████████████\u001b[0m| 120/120 [00:02<00:00, 42.86batch/s, loss=0.076154]\u001b[0m\n"
     ]
    },
    {
     "name": "stdout",
     "output_type": "stream",
     "text": [
      "\t Loss: 9.139,\tTrain : 97.78%(97.78%),\tTest : 96.16%(96.28%),\tCurrent Time: 20250917-195357\n"
     ]
    },
    {
     "name": "stderr",
     "output_type": "stream",
     "text": [
      "Epoch 35/50:: 100%|\u001b[34m███████████████████\u001b[0m| 120/120 [00:02<00:00, 43.03batch/s, loss=0.074231]\u001b[0m\n"
     ]
    },
    {
     "name": "stdout",
     "output_type": "stream",
     "text": [
      "\t Loss: 8.908,\tTrain : 97.82%(97.82%),\tTest : 96.14%(96.28%),\tCurrent Time: 20250917-195400\n"
     ]
    },
    {
     "name": "stderr",
     "output_type": "stream",
     "text": [
      "Epoch 36/50:: 100%|\u001b[34m███████████████████\u001b[0m| 120/120 [00:02<00:00, 42.88batch/s, loss=0.070704]\u001b[0m\n"
     ]
    },
    {
     "name": "stdout",
     "output_type": "stream",
     "text": [
      "\t Loss: 8.484,\tTrain : 97.94%(97.94%),\tTest : 96.26%(96.28%),\tCurrent Time: 20250917-195402\n"
     ]
    },
    {
     "name": "stderr",
     "output_type": "stream",
     "text": [
      "Epoch 37/50:: 100%|\u001b[34m███████████████████\u001b[0m| 120/120 [00:02<00:00, 42.91batch/s, loss=0.071703]\u001b[0m\n"
     ]
    },
    {
     "name": "stdout",
     "output_type": "stream",
     "text": [
      "\t Loss: 8.604,\tTrain : 97.90%(97.94%),\tTest : 96.37%(96.37%),\tCurrent Time: 20250917-195405\n"
     ]
    },
    {
     "name": "stderr",
     "output_type": "stream",
     "text": [
      "Epoch 38/50:: 100%|\u001b[34m███████████████████\u001b[0m| 120/120 [00:02<00:00, 43.08batch/s, loss=0.069792]\u001b[0m\n"
     ]
    },
    {
     "name": "stdout",
     "output_type": "stream",
     "text": [
      "\t Loss: 8.375,\tTrain : 97.88%(97.94%),\tTest : 96.28%(96.37%),\tCurrent Time: 20250917-195408\n"
     ]
    },
    {
     "name": "stderr",
     "output_type": "stream",
     "text": [
      "Epoch 39/50:: 100%|\u001b[34m███████████████████\u001b[0m| 120/120 [00:02<00:00, 42.62batch/s, loss=0.069384]\u001b[0m\n"
     ]
    },
    {
     "name": "stdout",
     "output_type": "stream",
     "text": [
      "\t Loss: 8.326,\tTrain : 97.92%(97.94%),\tTest : 96.15%(96.37%),\tCurrent Time: 20250917-195411\n"
     ]
    },
    {
     "name": "stderr",
     "output_type": "stream",
     "text": [
      "Epoch 40/50:: 100%|\u001b[34m███████████████████\u001b[0m| 120/120 [00:02<00:00, 42.74batch/s, loss=0.064962]\u001b[0m\n"
     ]
    },
    {
     "name": "stdout",
     "output_type": "stream",
     "text": [
      "\t Loss: 7.795,\tTrain : 98.11%(98.11%),\tTest : 96.24%(96.37%),\tCurrent Time: 20250917-195414\n"
     ]
    },
    {
     "name": "stderr",
     "output_type": "stream",
     "text": [
      "Epoch 41/50:: 100%|\u001b[34m███████████████████\u001b[0m| 120/120 [00:02<00:00, 43.01batch/s, loss=0.066183]\u001b[0m\n"
     ]
    },
    {
     "name": "stdout",
     "output_type": "stream",
     "text": [
      "\t Loss: 7.942,\tTrain : 98.03%(98.11%),\tTest : 96.35%(96.37%),\tCurrent Time: 20250917-195417\n"
     ]
    },
    {
     "name": "stderr",
     "output_type": "stream",
     "text": [
      "Epoch 42/50:: 100%|\u001b[34m███████████████████\u001b[0m| 120/120 [00:02<00:00, 43.15batch/s, loss=0.062206]\u001b[0m\n"
     ]
    },
    {
     "name": "stdout",
     "output_type": "stream",
     "text": [
      "\t Loss: 7.465,\tTrain : 98.11%(98.11%),\tTest : 95.86%(96.37%),\tCurrent Time: 20250917-195420\n"
     ]
    },
    {
     "name": "stderr",
     "output_type": "stream",
     "text": [
      "Epoch 43/50:: 100%|\u001b[34m███████████████████\u001b[0m| 120/120 [00:02<00:00, 42.82batch/s, loss=0.059992]\u001b[0m\n"
     ]
    },
    {
     "name": "stdout",
     "output_type": "stream",
     "text": [
      "\t Loss: 7.199,\tTrain : 98.20%(98.20%),\tTest : 96.30%(96.37%),\tCurrent Time: 20250917-195423\n"
     ]
    },
    {
     "name": "stderr",
     "output_type": "stream",
     "text": [
      "Epoch 44/50:: 100%|\u001b[34m███████████████████\u001b[0m| 120/120 [00:02<00:00, 42.93batch/s, loss=0.060614]\u001b[0m\n"
     ]
    },
    {
     "name": "stdout",
     "output_type": "stream",
     "text": [
      "\t Loss: 7.274,\tTrain : 98.16%(98.20%),\tTest : 96.22%(96.37%),\tCurrent Time: 20250917-195425\n"
     ]
    },
    {
     "name": "stderr",
     "output_type": "stream",
     "text": [
      "Epoch 45/50:: 100%|\u001b[34m███████████████████\u001b[0m| 120/120 [00:02<00:00, 43.13batch/s, loss=0.061942]\u001b[0m\n"
     ]
    },
    {
     "name": "stdout",
     "output_type": "stream",
     "text": [
      "\t Loss: 7.433,\tTrain : 98.08%(98.20%),\tTest : 95.99%(96.37%),\tCurrent Time: 20250917-195428\n"
     ]
    },
    {
     "name": "stderr",
     "output_type": "stream",
     "text": [
      "Epoch 46/50:: 100%|\u001b[34m███████████████████\u001b[0m| 120/120 [00:02<00:00, 43.12batch/s, loss=0.057264]\u001b[0m\n"
     ]
    },
    {
     "name": "stdout",
     "output_type": "stream",
     "text": [
      "\t Loss: 6.872,\tTrain : 98.33%(98.33%),\tTest : 96.42%(96.42%),\tCurrent Time: 20250917-195431\n"
     ]
    },
    {
     "name": "stderr",
     "output_type": "stream",
     "text": [
      "Epoch 47/50:: 100%|\u001b[34m███████████████████\u001b[0m| 120/120 [00:02<00:00, 43.04batch/s, loss=0.052016]\u001b[0m\n"
     ]
    },
    {
     "name": "stdout",
     "output_type": "stream",
     "text": [
      "\t Loss: 6.242,\tTrain : 98.43%(98.43%),\tTest : 96.46%(96.46%),\tCurrent Time: 20250917-195434\n"
     ]
    },
    {
     "name": "stderr",
     "output_type": "stream",
     "text": [
      "Epoch 48/50:: 100%|\u001b[34m███████████████████\u001b[0m| 120/120 [00:02<00:00, 43.17batch/s, loss=0.050749]\u001b[0m\n"
     ]
    },
    {
     "name": "stdout",
     "output_type": "stream",
     "text": [
      "\t Loss: 6.090,\tTrain : 98.46%(98.46%),\tTest : 96.29%(96.46%),\tCurrent Time: 20250917-195437\n"
     ]
    },
    {
     "name": "stderr",
     "output_type": "stream",
     "text": [
      "Epoch 49/50:: 100%|\u001b[34m███████████████████\u001b[0m| 120/120 [00:02<00:00, 42.90batch/s, loss=0.051080]\u001b[0m\n"
     ]
    },
    {
     "name": "stdout",
     "output_type": "stream",
     "text": [
      "\t Loss: 6.130,\tTrain : 98.43%(98.46%),\tTest : 96.45%(96.46%),\tCurrent Time: 20250917-195440\n"
     ]
    },
    {
     "name": "stderr",
     "output_type": "stream",
     "text": [
      "Epoch 50/50:: 100%|\u001b[34m███████████████████\u001b[0m| 120/120 [00:02<00:00, 42.94batch/s, loss=0.048924]\u001b[0m\n"
     ]
    },
    {
     "name": "stdout",
     "output_type": "stream",
     "text": [
      "\t Loss: 5.871,\tTrain : 98.50%(98.50%),\tTest : 96.28%(96.46%),\tCurrent Time: 20250917-195443\n",
      "First_asymm_AG_N-HL_resP-EP_L10-P0.5-MNIST_EP_b_sc0.1- Time: 20250917-195443, Epochs: 50, Learning Rate: 0.0005, Best: 98.50%  96.46%\n",
      "\n",
      "[[0 1 0 0 0 0 0 0 0 0 0 0]\n",
      " [0 0 1 0 0 1 1 1 0 0 0 0]\n",
      " [0 1 0 1 1 0 1 0 0 0 0 0]\n",
      " [0 1 1 0 1 0 0 0 0 1 1 0]\n",
      " [0 0 1 1 0 1 1 0 1 0 0 0]\n",
      " [0 1 1 1 1 0 1 1 0 1 1 0]\n",
      " [0 0 0 0 0 1 0 1 1 0 0 0]\n",
      " [0 1 1 1 0 1 1 0 1 0 0 0]\n",
      " [0 0 0 0 0 0 0 1 0 1 1 0]\n",
      " [0 0 0 1 1 1 0 1 1 0 1 0]\n",
      " [0 0 1 0 0 0 0 0 0 1 0 1]\n",
      " [0 0 0 0 0 0 0 0 0 0 1 0]]\n",
      "First_asymm_AG_N-HL_resP-EP_L10-P0.5-MNIST_EP_b_sc0.1-\n"
     ]
    },
    {
     "name": "stderr",
     "output_type": "stream",
     "text": [
      "Epoch 1/50:: 100%|\u001b[34m████████████████████\u001b[0m| 120/120 [00:02<00:00, 41.90batch/s, loss=2.235400]\u001b[0m\n"
     ]
    },
    {
     "name": "stdout",
     "output_type": "stream",
     "text": [
      "\t Loss: 268.248,\tTrain : 21.51%(21.51%),\tTest : 43.47%(43.47%),\tCurrent Time: 20250917-195450\n"
     ]
    },
    {
     "name": "stderr",
     "output_type": "stream",
     "text": [
      "Epoch 2/50:: 100%|\u001b[34m████████████████████\u001b[0m| 120/120 [00:02<00:00, 44.10batch/s, loss=1.276334]\u001b[0m\n"
     ]
    },
    {
     "name": "stdout",
     "output_type": "stream",
     "text": [
      "\t Loss: 153.160,\tTrain : 64.30%(64.30%),\tTest : 80.46%(80.46%),\tCurrent Time: 20250917-195453\n"
     ]
    },
    {
     "name": "stderr",
     "output_type": "stream",
     "text": [
      "Epoch 3/50:: 100%|\u001b[34m████████████████████\u001b[0m| 120/120 [00:02<00:00, 44.22batch/s, loss=0.674137]\u001b[0m\n"
     ]
    },
    {
     "name": "stdout",
     "output_type": "stream",
     "text": [
      "\t Loss: 80.896,\tTrain : 84.85%(84.85%),\tTest : 88.43%(88.43%),\tCurrent Time: 20250917-195456\n"
     ]
    },
    {
     "name": "stderr",
     "output_type": "stream",
     "text": [
      "Epoch 4/50:: 100%|\u001b[34m████████████████████\u001b[0m| 120/120 [00:02<00:00, 43.98batch/s, loss=0.456126]\u001b[0m\n"
     ]
    },
    {
     "name": "stdout",
     "output_type": "stream",
     "text": [
      "\t Loss: 54.735,\tTrain : 88.84%(88.84%),\tTest : 90.01%(90.01%),\tCurrent Time: 20250917-195458\n"
     ]
    },
    {
     "name": "stderr",
     "output_type": "stream",
     "text": [
      "Epoch 5/50:: 100%|\u001b[34m████████████████████\u001b[0m| 120/120 [00:02<00:00, 44.03batch/s, loss=0.372002]\u001b[0m\n"
     ]
    },
    {
     "name": "stdout",
     "output_type": "stream",
     "text": [
      "\t Loss: 44.640,\tTrain : 90.31%(90.31%),\tTest : 91.05%(91.05%),\tCurrent Time: 20250917-195501\n"
     ]
    },
    {
     "name": "stderr",
     "output_type": "stream",
     "text": [
      "Epoch 6/50:: 100%|\u001b[34m████████████████████\u001b[0m| 120/120 [00:02<00:00, 44.13batch/s, loss=0.325854]\u001b[0m\n"
     ]
    },
    {
     "name": "stdout",
     "output_type": "stream",
     "text": [
      "\t Loss: 39.102,\tTrain : 91.37%(91.37%),\tTest : 92.01%(92.01%),\tCurrent Time: 20250917-195504\n"
     ]
    },
    {
     "name": "stderr",
     "output_type": "stream",
     "text": [
      "Epoch 7/50:: 100%|\u001b[34m████████████████████\u001b[0m| 120/120 [00:02<00:00, 43.99batch/s, loss=0.290239]\u001b[0m\n"
     ]
    },
    {
     "name": "stdout",
     "output_type": "stream",
     "text": [
      "\t Loss: 34.829,\tTrain : 92.20%(92.20%),\tTest : 92.63%(92.63%),\tCurrent Time: 20250917-195507\n"
     ]
    },
    {
     "name": "stderr",
     "output_type": "stream",
     "text": [
      "Epoch 8/50:: 100%|\u001b[34m████████████████████\u001b[0m| 120/120 [00:02<00:00, 44.16batch/s, loss=0.262979]\u001b[0m\n"
     ]
    },
    {
     "name": "stdout",
     "output_type": "stream",
     "text": [
      "\t Loss: 31.557,\tTrain : 92.82%(92.82%),\tTest : 93.30%(93.30%),\tCurrent Time: 20250917-195510\n"
     ]
    },
    {
     "name": "stderr",
     "output_type": "stream",
     "text": [
      "Epoch 9/50:: 100%|\u001b[34m████████████████████\u001b[0m| 120/120 [00:02<00:00, 44.21batch/s, loss=0.239379]\u001b[0m\n"
     ]
    },
    {
     "name": "stdout",
     "output_type": "stream",
     "text": [
      "\t Loss: 28.725,\tTrain : 93.45%(93.45%),\tTest : 93.91%(93.91%),\tCurrent Time: 20250917-195512\n"
     ]
    },
    {
     "name": "stderr",
     "output_type": "stream",
     "text": [
      "Epoch 10/50:: 100%|\u001b[34m███████████████████\u001b[0m| 120/120 [00:02<00:00, 44.13batch/s, loss=0.223478]\u001b[0m\n"
     ]
    },
    {
     "name": "stdout",
     "output_type": "stream",
     "text": [
      "\t Loss: 26.817,\tTrain : 93.88%(93.88%),\tTest : 93.93%(93.93%),\tCurrent Time: 20250917-195515\n"
     ]
    },
    {
     "name": "stderr",
     "output_type": "stream",
     "text": [
      "Epoch 11/50:: 100%|\u001b[34m███████████████████\u001b[0m| 120/120 [00:02<00:00, 44.16batch/s, loss=0.207752]\u001b[0m\n"
     ]
    },
    {
     "name": "stdout",
     "output_type": "stream",
     "text": [
      "\t Loss: 24.930,\tTrain : 94.27%(94.27%),\tTest : 93.96%(93.96%),\tCurrent Time: 20250917-195518\n"
     ]
    },
    {
     "name": "stderr",
     "output_type": "stream",
     "text": [
      "Epoch 12/50:: 100%|\u001b[34m███████████████████\u001b[0m| 120/120 [00:02<00:00, 44.36batch/s, loss=0.195842]\u001b[0m\n"
     ]
    },
    {
     "name": "stdout",
     "output_type": "stream",
     "text": [
      "\t Loss: 23.501,\tTrain : 94.58%(94.58%),\tTest : 94.21%(94.21%),\tCurrent Time: 20250917-195521\n"
     ]
    },
    {
     "name": "stderr",
     "output_type": "stream",
     "text": [
      "Epoch 13/50:: 100%|\u001b[34m███████████████████\u001b[0m| 120/120 [00:02<00:00, 44.03batch/s, loss=0.182965]\u001b[0m\n"
     ]
    },
    {
     "name": "stdout",
     "output_type": "stream",
     "text": [
      "\t Loss: 21.956,\tTrain : 94.89%(94.89%),\tTest : 94.73%(94.73%),\tCurrent Time: 20250917-195524\n"
     ]
    },
    {
     "name": "stderr",
     "output_type": "stream",
     "text": [
      "Epoch 14/50:: 100%|\u001b[34m███████████████████\u001b[0m| 120/120 [00:02<00:00, 43.90batch/s, loss=0.167270]\u001b[0m\n"
     ]
    },
    {
     "name": "stdout",
     "output_type": "stream",
     "text": [
      "\t Loss: 20.072,\tTrain : 95.37%(95.37%),\tTest : 94.97%(94.97%),\tCurrent Time: 20250917-195526\n"
     ]
    },
    {
     "name": "stderr",
     "output_type": "stream",
     "text": [
      "Epoch 15/50:: 100%|\u001b[34m███████████████████\u001b[0m| 120/120 [00:02<00:00, 44.25batch/s, loss=0.157945]\u001b[0m\n"
     ]
    },
    {
     "name": "stdout",
     "output_type": "stream",
     "text": [
      "\t Loss: 18.953,\tTrain : 95.61%(95.61%),\tTest : 95.24%(95.24%),\tCurrent Time: 20250917-195529\n"
     ]
    },
    {
     "name": "stderr",
     "output_type": "stream",
     "text": [
      "Epoch 16/50:: 100%|\u001b[34m███████████████████\u001b[0m| 120/120 [00:02<00:00, 44.32batch/s, loss=0.149515]\u001b[0m\n"
     ]
    },
    {
     "name": "stdout",
     "output_type": "stream",
     "text": [
      "\t Loss: 17.942,\tTrain : 95.81%(95.81%),\tTest : 95.30%(95.30%),\tCurrent Time: 20250917-195532\n"
     ]
    },
    {
     "name": "stderr",
     "output_type": "stream",
     "text": [
      "Epoch 17/50:: 100%|\u001b[34m███████████████████\u001b[0m| 120/120 [00:02<00:00, 44.12batch/s, loss=0.142312]\u001b[0m\n"
     ]
    },
    {
     "name": "stdout",
     "output_type": "stream",
     "text": [
      "\t Loss: 17.077,\tTrain : 95.96%(95.96%),\tTest : 95.36%(95.36%),\tCurrent Time: 20250917-195535\n"
     ]
    },
    {
     "name": "stderr",
     "output_type": "stream",
     "text": [
      "Epoch 18/50:: 100%|\u001b[34m███████████████████\u001b[0m| 120/120 [00:02<00:00, 44.12batch/s, loss=0.137222]\u001b[0m\n"
     ]
    },
    {
     "name": "stdout",
     "output_type": "stream",
     "text": [
      "\t Loss: 16.467,\tTrain : 96.10%(96.10%),\tTest : 95.79%(95.79%),\tCurrent Time: 20250917-195538\n"
     ]
    },
    {
     "name": "stderr",
     "output_type": "stream",
     "text": [
      "Epoch 19/50:: 100%|\u001b[34m███████████████████\u001b[0m| 120/120 [00:02<00:00, 44.02batch/s, loss=0.130333]\u001b[0m\n"
     ]
    },
    {
     "name": "stdout",
     "output_type": "stream",
     "text": [
      "\t Loss: 15.640,\tTrain : 96.33%(96.33%),\tTest : 96.01%(96.01%),\tCurrent Time: 20250917-195541\n"
     ]
    },
    {
     "name": "stderr",
     "output_type": "stream",
     "text": [
      "Epoch 20/50:: 100%|\u001b[34m███████████████████\u001b[0m| 120/120 [00:02<00:00, 44.14batch/s, loss=0.123081]\u001b[0m\n"
     ]
    },
    {
     "name": "stdout",
     "output_type": "stream",
     "text": [
      "\t Loss: 14.770,\tTrain : 96.57%(96.57%),\tTest : 95.68%(96.01%),\tCurrent Time: 20250917-195543\n"
     ]
    },
    {
     "name": "stderr",
     "output_type": "stream",
     "text": [
      "Epoch 21/50:: 100%|\u001b[34m███████████████████\u001b[0m| 120/120 [00:02<00:00, 44.10batch/s, loss=0.117439]\u001b[0m\n"
     ]
    },
    {
     "name": "stdout",
     "output_type": "stream",
     "text": [
      "\t Loss: 14.093,\tTrain : 96.67%(96.67%),\tTest : 95.84%(96.01%),\tCurrent Time: 20250917-195546\n"
     ]
    },
    {
     "name": "stderr",
     "output_type": "stream",
     "text": [
      "Epoch 22/50:: 100%|\u001b[34m███████████████████\u001b[0m| 120/120 [00:02<00:00, 44.21batch/s, loss=0.111672]\u001b[0m\n"
     ]
    },
    {
     "name": "stdout",
     "output_type": "stream",
     "text": [
      "\t Loss: 13.401,\tTrain : 96.80%(96.80%),\tTest : 95.98%(96.01%),\tCurrent Time: 20250917-195549\n"
     ]
    },
    {
     "name": "stderr",
     "output_type": "stream",
     "text": [
      "Epoch 23/50:: 100%|\u001b[34m███████████████████\u001b[0m| 120/120 [00:02<00:00, 43.84batch/s, loss=0.111073]\u001b[0m\n"
     ]
    },
    {
     "name": "stdout",
     "output_type": "stream",
     "text": [
      "\t Loss: 13.329,\tTrain : 96.85%(96.85%),\tTest : 95.89%(96.01%),\tCurrent Time: 20250917-195552\n"
     ]
    },
    {
     "name": "stderr",
     "output_type": "stream",
     "text": [
      "Epoch 24/50:: 100%|\u001b[34m███████████████████\u001b[0m| 120/120 [00:02<00:00, 44.05batch/s, loss=0.107792]\u001b[0m\n"
     ]
    },
    {
     "name": "stdout",
     "output_type": "stream",
     "text": [
      "\t Loss: 12.935,\tTrain : 96.90%(96.90%),\tTest : 96.29%(96.29%),\tCurrent Time: 20250917-195555\n"
     ]
    },
    {
     "name": "stderr",
     "output_type": "stream",
     "text": [
      "Epoch 25/50:: 100%|\u001b[34m███████████████████\u001b[0m| 120/120 [00:02<00:00, 44.34batch/s, loss=0.101047]\u001b[0m\n"
     ]
    },
    {
     "name": "stdout",
     "output_type": "stream",
     "text": [
      "\t Loss: 12.126,\tTrain : 97.08%(97.08%),\tTest : 96.26%(96.29%),\tCurrent Time: 20250917-195557\n"
     ]
    },
    {
     "name": "stderr",
     "output_type": "stream",
     "text": [
      "Epoch 26/50:: 100%|\u001b[34m███████████████████\u001b[0m| 120/120 [00:02<00:00, 44.31batch/s, loss=0.098090]\u001b[0m\n"
     ]
    },
    {
     "name": "stdout",
     "output_type": "stream",
     "text": [
      "\t Loss: 11.771,\tTrain : 97.16%(97.16%),\tTest : 96.35%(96.35%),\tCurrent Time: 20250917-195600\n"
     ]
    },
    {
     "name": "stderr",
     "output_type": "stream",
     "text": [
      "Epoch 27/50:: 100%|\u001b[34m███████████████████\u001b[0m| 120/120 [00:02<00:00, 44.10batch/s, loss=0.093387]\u001b[0m\n"
     ]
    },
    {
     "name": "stdout",
     "output_type": "stream",
     "text": [
      "\t Loss: 11.206,\tTrain : 97.34%(97.34%),\tTest : 96.06%(96.35%),\tCurrent Time: 20250917-195603\n"
     ]
    },
    {
     "name": "stderr",
     "output_type": "stream",
     "text": [
      "Epoch 28/50:: 100%|\u001b[34m███████████████████\u001b[0m| 120/120 [00:02<00:00, 44.25batch/s, loss=0.090104]\u001b[0m\n"
     ]
    },
    {
     "name": "stdout",
     "output_type": "stream",
     "text": [
      "\t Loss: 10.813,\tTrain : 97.42%(97.42%),\tTest : 96.13%(96.35%),\tCurrent Time: 20250917-195606\n"
     ]
    },
    {
     "name": "stderr",
     "output_type": "stream",
     "text": [
      "Epoch 29/50:: 100%|\u001b[34m███████████████████\u001b[0m| 120/120 [00:02<00:00, 43.94batch/s, loss=0.089368]\u001b[0m\n"
     ]
    },
    {
     "name": "stdout",
     "output_type": "stream",
     "text": [
      "\t Loss: 10.724,\tTrain : 97.34%(97.42%),\tTest : 96.38%(96.38%),\tCurrent Time: 20250917-195609\n"
     ]
    },
    {
     "name": "stderr",
     "output_type": "stream",
     "text": [
      "Epoch 30/50:: 100%|\u001b[34m███████████████████\u001b[0m| 120/120 [00:02<00:00, 44.03batch/s, loss=0.084994]\u001b[0m\n"
     ]
    },
    {
     "name": "stdout",
     "output_type": "stream",
     "text": [
      "\t Loss: 10.199,\tTrain : 97.54%(97.54%),\tTest : 96.21%(96.38%),\tCurrent Time: 20250917-195611\n"
     ]
    },
    {
     "name": "stderr",
     "output_type": "stream",
     "text": [
      "Epoch 31/50:: 100%|\u001b[34m███████████████████\u001b[0m| 120/120 [00:02<00:00, 44.21batch/s, loss=0.083664]\u001b[0m\n"
     ]
    },
    {
     "name": "stdout",
     "output_type": "stream",
     "text": [
      "\t Loss: 10.040,\tTrain : 97.52%(97.54%),\tTest : 96.21%(96.38%),\tCurrent Time: 20250917-195614\n"
     ]
    },
    {
     "name": "stderr",
     "output_type": "stream",
     "text": [
      "Epoch 32/50:: 100%|\u001b[34m███████████████████\u001b[0m| 120/120 [00:02<00:00, 44.04batch/s, loss=0.078529]\u001b[0m\n"
     ]
    },
    {
     "name": "stdout",
     "output_type": "stream",
     "text": [
      "\t Loss: 9.424,\tTrain : 97.68%(97.68%),\tTest : 96.26%(96.38%),\tCurrent Time: 20250917-195617\n"
     ]
    },
    {
     "name": "stderr",
     "output_type": "stream",
     "text": [
      "Epoch 33/50:: 100%|\u001b[34m███████████████████\u001b[0m| 120/120 [00:02<00:00, 44.06batch/s, loss=0.075305]\u001b[0m\n"
     ]
    },
    {
     "name": "stdout",
     "output_type": "stream",
     "text": [
      "\t Loss: 9.037,\tTrain : 97.79%(97.79%),\tTest : 96.47%(96.47%),\tCurrent Time: 20250917-195620\n"
     ]
    },
    {
     "name": "stderr",
     "output_type": "stream",
     "text": [
      "Epoch 34/50:: 100%|\u001b[34m███████████████████\u001b[0m| 120/120 [00:02<00:00, 44.19batch/s, loss=0.072023]\u001b[0m\n"
     ]
    },
    {
     "name": "stdout",
     "output_type": "stream",
     "text": [
      "\t Loss: 8.643,\tTrain : 97.91%(97.91%),\tTest : 96.46%(96.47%),\tCurrent Time: 20250917-195623\n"
     ]
    },
    {
     "name": "stderr",
     "output_type": "stream",
     "text": [
      "Epoch 35/50:: 100%|\u001b[34m███████████████████\u001b[0m| 120/120 [00:02<00:00, 44.03batch/s, loss=0.069523]\u001b[0m\n"
     ]
    },
    {
     "name": "stdout",
     "output_type": "stream",
     "text": [
      "\t Loss: 8.343,\tTrain : 97.91%(97.91%),\tTest : 96.44%(96.47%),\tCurrent Time: 20250917-195625\n"
     ]
    },
    {
     "name": "stderr",
     "output_type": "stream",
     "text": [
      "Epoch 36/50:: 100%|\u001b[34m███████████████████\u001b[0m| 120/120 [00:02<00:00, 44.17batch/s, loss=0.066003]\u001b[0m\n"
     ]
    },
    {
     "name": "stdout",
     "output_type": "stream",
     "text": [
      "\t Loss: 7.920,\tTrain : 98.02%(98.02%),\tTest : 96.42%(96.47%),\tCurrent Time: 20250917-195628\n"
     ]
    },
    {
     "name": "stderr",
     "output_type": "stream",
     "text": [
      "Epoch 37/50:: 100%|\u001b[34m███████████████████\u001b[0m| 120/120 [00:02<00:00, 44.31batch/s, loss=0.065858]\u001b[0m\n"
     ]
    },
    {
     "name": "stdout",
     "output_type": "stream",
     "text": [
      "\t Loss: 7.903,\tTrain : 98.08%(98.08%),\tTest : 96.43%(96.47%),\tCurrent Time: 20250917-195631\n"
     ]
    },
    {
     "name": "stderr",
     "output_type": "stream",
     "text": [
      "Epoch 38/50:: 100%|\u001b[34m███████████████████\u001b[0m| 120/120 [00:02<00:00, 44.37batch/s, loss=0.062264]\u001b[0m\n"
     ]
    },
    {
     "name": "stdout",
     "output_type": "stream",
     "text": [
      "\t Loss: 7.472,\tTrain : 98.15%(98.15%),\tTest : 96.59%(96.59%),\tCurrent Time: 20250917-195634\n"
     ]
    },
    {
     "name": "stderr",
     "output_type": "stream",
     "text": [
      "Epoch 39/50:: 100%|\u001b[34m███████████████████\u001b[0m| 120/120 [00:02<00:00, 43.70batch/s, loss=0.060569]\u001b[0m\n"
     ]
    },
    {
     "name": "stdout",
     "output_type": "stream",
     "text": [
      "\t Loss: 7.268,\tTrain : 98.19%(98.19%),\tTest : 96.63%(96.63%),\tCurrent Time: 20250917-195637\n"
     ]
    },
    {
     "name": "stderr",
     "output_type": "stream",
     "text": [
      "Epoch 40/50:: 100%|\u001b[34m███████████████████\u001b[0m| 120/120 [00:02<00:00, 44.20batch/s, loss=0.058167]\u001b[0m\n"
     ]
    },
    {
     "name": "stdout",
     "output_type": "stream",
     "text": [
      "\t Loss: 6.980,\tTrain : 98.25%(98.25%),\tTest : 96.66%(96.66%),\tCurrent Time: 20250917-195639\n"
     ]
    },
    {
     "name": "stderr",
     "output_type": "stream",
     "text": [
      "Epoch 41/50:: 100%|\u001b[34m███████████████████\u001b[0m| 120/120 [00:02<00:00, 44.30batch/s, loss=0.056284]\u001b[0m\n"
     ]
    },
    {
     "name": "stdout",
     "output_type": "stream",
     "text": [
      "\t Loss: 6.754,\tTrain : 98.30%(98.30%),\tTest : 96.75%(96.75%),\tCurrent Time: 20250917-195642\n"
     ]
    },
    {
     "name": "stderr",
     "output_type": "stream",
     "text": [
      "Epoch 42/50:: 100%|\u001b[34m███████████████████\u001b[0m| 120/120 [00:02<00:00, 43.96batch/s, loss=0.052078]\u001b[0m\n"
     ]
    },
    {
     "name": "stdout",
     "output_type": "stream",
     "text": [
      "\t Loss: 6.249,\tTrain : 98.42%(98.42%),\tTest : 96.79%(96.79%),\tCurrent Time: 20250917-195645\n"
     ]
    },
    {
     "name": "stderr",
     "output_type": "stream",
     "text": [
      "Epoch 43/50:: 100%|\u001b[34m███████████████████\u001b[0m| 120/120 [00:02<00:00, 44.09batch/s, loss=0.049470]\u001b[0m\n"
     ]
    },
    {
     "name": "stdout",
     "output_type": "stream",
     "text": [
      "\t Loss: 5.936,\tTrain : 98.48%(98.48%),\tTest : 96.38%(96.79%),\tCurrent Time: 20250917-195648\n"
     ]
    },
    {
     "name": "stderr",
     "output_type": "stream",
     "text": [
      "Epoch 44/50:: 100%|\u001b[34m███████████████████\u001b[0m| 120/120 [00:02<00:00, 44.08batch/s, loss=0.048649]\u001b[0m\n"
     ]
    },
    {
     "name": "stdout",
     "output_type": "stream",
     "text": [
      "\t Loss: 5.838,\tTrain : 98.57%(98.57%),\tTest : 96.73%(96.79%),\tCurrent Time: 20250917-195651\n"
     ]
    },
    {
     "name": "stderr",
     "output_type": "stream",
     "text": [
      "Epoch 45/50:: 100%|\u001b[34m███████████████████\u001b[0m| 120/120 [00:02<00:00, 44.00batch/s, loss=0.047148]\u001b[0m\n"
     ]
    },
    {
     "name": "stdout",
     "output_type": "stream",
     "text": [
      "\t Loss: 5.658,\tTrain : 98.60%(98.60%),\tTest : 96.63%(96.79%),\tCurrent Time: 20250917-195653\n"
     ]
    },
    {
     "name": "stderr",
     "output_type": "stream",
     "text": [
      "Epoch 46/50:: 100%|\u001b[34m███████████████████\u001b[0m| 120/120 [00:02<00:00, 44.15batch/s, loss=0.044781]\u001b[0m\n"
     ]
    },
    {
     "name": "stdout",
     "output_type": "stream",
     "text": [
      "\t Loss: 5.374,\tTrain : 98.65%(98.65%),\tTest : 96.72%(96.79%),\tCurrent Time: 20250917-195656\n"
     ]
    },
    {
     "name": "stderr",
     "output_type": "stream",
     "text": [
      "Epoch 47/50:: 100%|\u001b[34m███████████████████\u001b[0m| 120/120 [00:02<00:00, 44.19batch/s, loss=0.045170]\u001b[0m\n"
     ]
    },
    {
     "name": "stdout",
     "output_type": "stream",
     "text": [
      "\t Loss: 5.420,\tTrain : 98.63%(98.65%),\tTest : 96.51%(96.79%),\tCurrent Time: 20250917-195659\n"
     ]
    },
    {
     "name": "stderr",
     "output_type": "stream",
     "text": [
      "Epoch 48/50:: 100%|\u001b[34m███████████████████\u001b[0m| 120/120 [00:02<00:00, 44.15batch/s, loss=0.042995]\u001b[0m\n"
     ]
    },
    {
     "name": "stdout",
     "output_type": "stream",
     "text": [
      "\t Loss: 5.159,\tTrain : 98.68%(98.68%),\tTest : 96.50%(96.79%),\tCurrent Time: 20250917-195702\n"
     ]
    },
    {
     "name": "stderr",
     "output_type": "stream",
     "text": [
      "Epoch 49/50:: 100%|\u001b[34m███████████████████\u001b[0m| 120/120 [00:02<00:00, 44.04batch/s, loss=0.040939]\u001b[0m\n"
     ]
    },
    {
     "name": "stdout",
     "output_type": "stream",
     "text": [
      "\t Loss: 4.913,\tTrain : 98.77%(98.77%),\tTest : 96.53%(96.79%),\tCurrent Time: 20250917-195705\n"
     ]
    },
    {
     "name": "stderr",
     "output_type": "stream",
     "text": [
      "Epoch 50/50:: 100%|\u001b[34m███████████████████\u001b[0m| 120/120 [00:02<00:00, 44.15batch/s, loss=0.038526]\u001b[0m\n"
     ]
    },
    {
     "name": "stdout",
     "output_type": "stream",
     "text": [
      "\t Loss: 4.623,\tTrain : 98.81%(98.81%),\tTest : 96.49%(96.79%),\tCurrent Time: 20250917-195707\n",
      "First_asymm_AG_N-HL_resP-EP_L10-P0.5-MNIST_EP_b_sc0.1- Time: 20250917-195707, Epochs: 50, Learning Rate: 0.0005, Best: 98.81%  96.79%\n",
      "\n",
      "[[0 1 0 0 0 0 0 0 0 0 0 0]\n",
      " [0 0 1 1 0 0 0 0 1 1 0 0]\n",
      " [0 1 0 1 1 0 0 1 0 1 1 0]\n",
      " [0 0 1 0 1 1 0 1 0 0 1 0]\n",
      " [0 0 1 1 0 1 0 1 0 0 0 0]\n",
      " [0 0 0 1 1 0 1 0 0 1 1 0]\n",
      " [0 1 0 1 0 1 0 1 0 1 0 0]\n",
      " [0 1 1 0 0 1 1 0 1 1 1 0]\n",
      " [0 0 1 1 0 1 1 1 0 1 1 0]\n",
      " [0 0 0 1 0 0 1 0 1 0 1 0]\n",
      " [0 1 1 0 1 1 0 1 0 1 0 1]\n",
      " [0 0 0 0 0 0 0 0 0 0 1 0]]\n",
      "First_asymm_AG_N-HL_resP-EP_L10-P0.5-MNIST_EP_b_sc0.1-\n"
     ]
    },
    {
     "name": "stderr",
     "output_type": "stream",
     "text": [
      "Epoch 1/50:: 100%|\u001b[34m████████████████████\u001b[0m| 120/120 [00:02<00:00, 40.92batch/s, loss=2.284383]\u001b[0m\n"
     ]
    },
    {
     "name": "stdout",
     "output_type": "stream",
     "text": [
      "\t Loss: 274.126,\tTrain : 19.44%(19.44%),\tTest : 48.08%(48.08%),\tCurrent Time: 20250917-195715\n"
     ]
    },
    {
     "name": "stderr",
     "output_type": "stream",
     "text": [
      "Epoch 2/50:: 100%|\u001b[34m████████████████████\u001b[0m| 120/120 [00:02<00:00, 42.60batch/s, loss=1.262268]\u001b[0m\n"
     ]
    },
    {
     "name": "stdout",
     "output_type": "stream",
     "text": [
      "\t Loss: 151.472,\tTrain : 65.47%(65.47%),\tTest : 83.11%(83.11%),\tCurrent Time: 20250917-195718\n"
     ]
    },
    {
     "name": "stderr",
     "output_type": "stream",
     "text": [
      "Epoch 3/50:: 100%|\u001b[34m████████████████████\u001b[0m| 120/120 [00:02<00:00, 42.90batch/s, loss=0.607338]\u001b[0m\n"
     ]
    },
    {
     "name": "stdout",
     "output_type": "stream",
     "text": [
      "\t Loss: 72.881,\tTrain : 86.48%(86.48%),\tTest : 89.34%(89.34%),\tCurrent Time: 20250917-195721\n"
     ]
    },
    {
     "name": "stderr",
     "output_type": "stream",
     "text": [
      "Epoch 4/50:: 100%|\u001b[34m████████████████████\u001b[0m| 120/120 [00:02<00:00, 42.91batch/s, loss=0.423785]\u001b[0m\n"
     ]
    },
    {
     "name": "stdout",
     "output_type": "stream",
     "text": [
      "\t Loss: 50.854,\tTrain : 89.96%(89.96%),\tTest : 90.99%(90.99%),\tCurrent Time: 20250917-195723\n"
     ]
    },
    {
     "name": "stderr",
     "output_type": "stream",
     "text": [
      "Epoch 5/50:: 100%|\u001b[34m████████████████████\u001b[0m| 120/120 [00:02<00:00, 42.98batch/s, loss=0.340219]\u001b[0m\n"
     ]
    },
    {
     "name": "stdout",
     "output_type": "stream",
     "text": [
      "\t Loss: 40.826,\tTrain : 91.38%(91.38%),\tTest : 91.82%(91.82%),\tCurrent Time: 20250917-195726\n"
     ]
    },
    {
     "name": "stderr",
     "output_type": "stream",
     "text": [
      "Epoch 6/50:: 100%|\u001b[34m████████████████████\u001b[0m| 120/120 [00:02<00:00, 43.14batch/s, loss=0.302232]\u001b[0m\n"
     ]
    },
    {
     "name": "stdout",
     "output_type": "stream",
     "text": [
      "\t Loss: 36.268,\tTrain : 92.18%(92.18%),\tTest : 92.55%(92.55%),\tCurrent Time: 20250917-195729\n"
     ]
    },
    {
     "name": "stderr",
     "output_type": "stream",
     "text": [
      "Epoch 7/50:: 100%|\u001b[34m████████████████████\u001b[0m| 120/120 [00:02<00:00, 42.92batch/s, loss=0.271099]\u001b[0m\n"
     ]
    },
    {
     "name": "stdout",
     "output_type": "stream",
     "text": [
      "\t Loss: 32.532,\tTrain : 92.84%(92.84%),\tTest : 92.84%(92.84%),\tCurrent Time: 20250917-195732\n"
     ]
    },
    {
     "name": "stderr",
     "output_type": "stream",
     "text": [
      "Epoch 8/50:: 100%|\u001b[34m████████████████████\u001b[0m| 120/120 [00:02<00:00, 43.06batch/s, loss=0.260642]\u001b[0m\n"
     ]
    },
    {
     "name": "stdout",
     "output_type": "stream",
     "text": [
      "\t Loss: 31.277,\tTrain : 93.19%(93.19%),\tTest : 93.20%(93.20%),\tCurrent Time: 20250917-195735\n"
     ]
    },
    {
     "name": "stderr",
     "output_type": "stream",
     "text": [
      "Epoch 9/50:: 100%|\u001b[34m████████████████████\u001b[0m| 120/120 [00:02<00:00, 42.98batch/s, loss=0.232236]\u001b[0m\n"
     ]
    },
    {
     "name": "stdout",
     "output_type": "stream",
     "text": [
      "\t Loss: 27.868,\tTrain : 93.72%(93.72%),\tTest : 93.40%(93.40%),\tCurrent Time: 20250917-195738\n"
     ]
    },
    {
     "name": "stderr",
     "output_type": "stream",
     "text": [
      "Epoch 10/50:: 100%|\u001b[34m███████████████████\u001b[0m| 120/120 [00:02<00:00, 43.07batch/s, loss=0.220324]\u001b[0m\n"
     ]
    },
    {
     "name": "stdout",
     "output_type": "stream",
     "text": [
      "\t Loss: 26.439,\tTrain : 93.94%(93.94%),\tTest : 93.74%(93.74%),\tCurrent Time: 20250917-195741\n"
     ]
    },
    {
     "name": "stderr",
     "output_type": "stream",
     "text": [
      "Epoch 11/50:: 100%|\u001b[34m███████████████████\u001b[0m| 120/120 [00:02<00:00, 42.78batch/s, loss=0.202225]\u001b[0m\n"
     ]
    },
    {
     "name": "stdout",
     "output_type": "stream",
     "text": [
      "\t Loss: 24.267,\tTrain : 94.42%(94.42%),\tTest : 94.29%(94.29%),\tCurrent Time: 20250917-195744\n"
     ]
    },
    {
     "name": "stderr",
     "output_type": "stream",
     "text": [
      "Epoch 12/50:: 100%|\u001b[34m███████████████████\u001b[0m| 120/120 [00:02<00:00, 42.95batch/s, loss=0.187436]\u001b[0m\n"
     ]
    },
    {
     "name": "stdout",
     "output_type": "stream",
     "text": [
      "\t Loss: 22.492,\tTrain : 94.89%(94.89%),\tTest : 94.51%(94.51%),\tCurrent Time: 20250917-195747\n"
     ]
    },
    {
     "name": "stderr",
     "output_type": "stream",
     "text": [
      "Epoch 13/50:: 100%|\u001b[34m███████████████████\u001b[0m| 120/120 [00:02<00:00, 43.00batch/s, loss=0.182004]\u001b[0m\n"
     ]
    },
    {
     "name": "stdout",
     "output_type": "stream",
     "text": [
      "\t Loss: 21.840,\tTrain : 95.02%(95.02%),\tTest : 94.70%(94.70%),\tCurrent Time: 20250917-195749\n"
     ]
    },
    {
     "name": "stderr",
     "output_type": "stream",
     "text": [
      "Epoch 14/50:: 100%|\u001b[34m███████████████████\u001b[0m| 120/120 [00:02<00:00, 42.96batch/s, loss=0.172902]\u001b[0m\n"
     ]
    },
    {
     "name": "stdout",
     "output_type": "stream",
     "text": [
      "\t Loss: 20.748,\tTrain : 95.18%(95.18%),\tTest : 94.91%(94.91%),\tCurrent Time: 20250917-195752\n"
     ]
    },
    {
     "name": "stderr",
     "output_type": "stream",
     "text": [
      "Epoch 15/50:: 100%|\u001b[34m███████████████████\u001b[0m| 120/120 [00:02<00:00, 43.04batch/s, loss=0.161217]\u001b[0m\n"
     ]
    },
    {
     "name": "stdout",
     "output_type": "stream",
     "text": [
      "\t Loss: 19.346,\tTrain : 95.51%(95.51%),\tTest : 94.84%(94.91%),\tCurrent Time: 20250917-195755\n"
     ]
    },
    {
     "name": "stderr",
     "output_type": "stream",
     "text": [
      "Epoch 16/50:: 100%|\u001b[34m███████████████████\u001b[0m| 120/120 [00:02<00:00, 42.68batch/s, loss=0.151384]\u001b[0m\n"
     ]
    },
    {
     "name": "stdout",
     "output_type": "stream",
     "text": [
      "\t Loss: 18.166,\tTrain : 95.74%(95.74%),\tTest : 94.97%(94.97%),\tCurrent Time: 20250917-195758\n"
     ]
    },
    {
     "name": "stderr",
     "output_type": "stream",
     "text": [
      "Epoch 17/50:: 100%|\u001b[34m███████████████████\u001b[0m| 120/120 [00:02<00:00, 42.79batch/s, loss=0.144564]\u001b[0m\n"
     ]
    },
    {
     "name": "stdout",
     "output_type": "stream",
     "text": [
      "\t Loss: 17.348,\tTrain : 95.91%(95.91%),\tTest : 95.22%(95.22%),\tCurrent Time: 20250917-195801\n"
     ]
    },
    {
     "name": "stderr",
     "output_type": "stream",
     "text": [
      "Epoch 18/50:: 100%|\u001b[34m███████████████████\u001b[0m| 120/120 [00:02<00:00, 42.90batch/s, loss=0.138871]\u001b[0m\n"
     ]
    },
    {
     "name": "stdout",
     "output_type": "stream",
     "text": [
      "\t Loss: 16.665,\tTrain : 96.09%(96.09%),\tTest : 95.06%(95.22%),\tCurrent Time: 20250917-195804\n"
     ]
    },
    {
     "name": "stderr",
     "output_type": "stream",
     "text": [
      "Epoch 19/50:: 100%|\u001b[34m███████████████████\u001b[0m| 120/120 [00:02<00:00, 42.85batch/s, loss=0.129433]\u001b[0m\n"
     ]
    },
    {
     "name": "stdout",
     "output_type": "stream",
     "text": [
      "\t Loss: 15.532,\tTrain : 96.30%(96.30%),\tTest : 95.48%(95.48%),\tCurrent Time: 20250917-195807\n"
     ]
    },
    {
     "name": "stderr",
     "output_type": "stream",
     "text": [
      "Epoch 20/50:: 100%|\u001b[34m███████████████████\u001b[0m| 120/120 [00:02<00:00, 42.38batch/s, loss=0.124096]\u001b[0m\n"
     ]
    },
    {
     "name": "stdout",
     "output_type": "stream",
     "text": [
      "\t Loss: 14.891,\tTrain : 96.47%(96.47%),\tTest : 95.57%(95.57%),\tCurrent Time: 20250917-195810\n"
     ]
    },
    {
     "name": "stderr",
     "output_type": "stream",
     "text": [
      "Epoch 21/50:: 100%|\u001b[34m███████████████████\u001b[0m| 120/120 [00:02<00:00, 43.01batch/s, loss=0.121030]\u001b[0m\n"
     ]
    },
    {
     "name": "stdout",
     "output_type": "stream",
     "text": [
      "\t Loss: 14.524,\tTrain : 96.52%(96.52%),\tTest : 95.45%(95.57%),\tCurrent Time: 20250917-195812\n"
     ]
    },
    {
     "name": "stderr",
     "output_type": "stream",
     "text": [
      "Epoch 22/50:: 100%|\u001b[34m███████████████████\u001b[0m| 120/120 [00:02<00:00, 42.94batch/s, loss=0.117211]\u001b[0m\n"
     ]
    },
    {
     "name": "stdout",
     "output_type": "stream",
     "text": [
      "\t Loss: 14.065,\tTrain : 96.63%(96.63%),\tTest : 95.76%(95.76%),\tCurrent Time: 20250917-195815\n"
     ]
    },
    {
     "name": "stderr",
     "output_type": "stream",
     "text": [
      "Epoch 23/50:: 100%|\u001b[34m███████████████████\u001b[0m| 120/120 [00:02<00:00, 42.92batch/s, loss=0.109886]\u001b[0m\n"
     ]
    },
    {
     "name": "stdout",
     "output_type": "stream",
     "text": [
      "\t Loss: 13.186,\tTrain : 96.83%(96.83%),\tTest : 95.81%(95.81%),\tCurrent Time: 20250917-195818\n"
     ]
    },
    {
     "name": "stderr",
     "output_type": "stream",
     "text": [
      "Epoch 24/50:: 100%|\u001b[34m███████████████████\u001b[0m| 120/120 [00:02<00:00, 43.08batch/s, loss=0.105237]\u001b[0m\n"
     ]
    },
    {
     "name": "stdout",
     "output_type": "stream",
     "text": [
      "\t Loss: 12.628,\tTrain : 97.00%(97.00%),\tTest : 95.78%(95.81%),\tCurrent Time: 20250917-195821\n"
     ]
    },
    {
     "name": "stderr",
     "output_type": "stream",
     "text": [
      "Epoch 25/50:: 100%|\u001b[34m███████████████████\u001b[0m| 120/120 [00:02<00:00, 43.07batch/s, loss=0.103924]\u001b[0m\n"
     ]
    },
    {
     "name": "stdout",
     "output_type": "stream",
     "text": [
      "\t Loss: 12.471,\tTrain : 96.96%(97.00%),\tTest : 95.63%(95.81%),\tCurrent Time: 20250917-195824\n"
     ]
    },
    {
     "name": "stderr",
     "output_type": "stream",
     "text": [
      "Epoch 26/50:: 100%|\u001b[34m███████████████████\u001b[0m| 120/120 [00:02<00:00, 42.77batch/s, loss=0.099549]\u001b[0m\n"
     ]
    },
    {
     "name": "stdout",
     "output_type": "stream",
     "text": [
      "\t Loss: 11.946,\tTrain : 97.12%(97.12%),\tTest : 95.77%(95.81%),\tCurrent Time: 20250917-195827\n"
     ]
    },
    {
     "name": "stderr",
     "output_type": "stream",
     "text": [
      "Epoch 27/50:: 100%|\u001b[34m███████████████████\u001b[0m| 120/120 [00:02<00:00, 43.13batch/s, loss=0.097692]\u001b[0m\n"
     ]
    },
    {
     "name": "stdout",
     "output_type": "stream",
     "text": [
      "\t Loss: 11.723,\tTrain : 97.16%(97.16%),\tTest : 95.96%(95.96%),\tCurrent Time: 20250917-195830\n"
     ]
    },
    {
     "name": "stderr",
     "output_type": "stream",
     "text": [
      "Epoch 28/50:: 100%|\u001b[34m███████████████████\u001b[0m| 120/120 [00:02<00:00, 43.10batch/s, loss=0.094657]\u001b[0m\n"
     ]
    },
    {
     "name": "stdout",
     "output_type": "stream",
     "text": [
      "\t Loss: 11.359,\tTrain : 97.22%(97.22%),\tTest : 96.03%(96.03%),\tCurrent Time: 20250917-195833\n"
     ]
    },
    {
     "name": "stderr",
     "output_type": "stream",
     "text": [
      "Epoch 29/50:: 100%|\u001b[34m███████████████████\u001b[0m| 120/120 [00:02<00:00, 42.80batch/s, loss=0.089299]\u001b[0m\n"
     ]
    },
    {
     "name": "stdout",
     "output_type": "stream",
     "text": [
      "\t Loss: 10.716,\tTrain : 97.40%(97.40%),\tTest : 95.99%(96.03%),\tCurrent Time: 20250917-195835\n"
     ]
    },
    {
     "name": "stderr",
     "output_type": "stream",
     "text": [
      "Epoch 30/50:: 100%|\u001b[34m███████████████████\u001b[0m| 120/120 [00:02<00:00, 42.86batch/s, loss=0.086718]\u001b[0m\n"
     ]
    },
    {
     "name": "stdout",
     "output_type": "stream",
     "text": [
      "\t Loss: 10.406,\tTrain : 97.45%(97.45%),\tTest : 96.00%(96.03%),\tCurrent Time: 20250917-195838\n"
     ]
    },
    {
     "name": "stderr",
     "output_type": "stream",
     "text": [
      "Epoch 31/50:: 100%|\u001b[34m███████████████████\u001b[0m| 120/120 [00:02<00:00, 42.83batch/s, loss=0.086471]\u001b[0m\n"
     ]
    },
    {
     "name": "stdout",
     "output_type": "stream",
     "text": [
      "\t Loss: 10.377,\tTrain : 97.51%(97.51%),\tTest : 96.02%(96.03%),\tCurrent Time: 20250917-195841\n"
     ]
    },
    {
     "name": "stderr",
     "output_type": "stream",
     "text": [
      "Epoch 32/50:: 100%|\u001b[34m███████████████████\u001b[0m| 120/120 [00:02<00:00, 42.70batch/s, loss=0.083894]\u001b[0m\n"
     ]
    },
    {
     "name": "stdout",
     "output_type": "stream",
     "text": [
      "\t Loss: 10.067,\tTrain : 97.48%(97.51%),\tTest : 96.27%(96.27%),\tCurrent Time: 20250917-195844\n"
     ]
    },
    {
     "name": "stderr",
     "output_type": "stream",
     "text": [
      "Epoch 33/50:: 100%|\u001b[34m███████████████████\u001b[0m| 120/120 [00:02<00:00, 43.12batch/s, loss=0.081338]\u001b[0m\n"
     ]
    },
    {
     "name": "stdout",
     "output_type": "stream",
     "text": [
      "\t Loss: 9.761,\tTrain : 97.57%(97.57%),\tTest : 96.10%(96.27%),\tCurrent Time: 20250917-195847\n"
     ]
    },
    {
     "name": "stderr",
     "output_type": "stream",
     "text": [
      "Epoch 34/50:: 100%|\u001b[34m███████████████████\u001b[0m| 120/120 [00:02<00:00, 42.81batch/s, loss=0.077012]\u001b[0m\n"
     ]
    },
    {
     "name": "stdout",
     "output_type": "stream",
     "text": [
      "\t Loss: 9.241,\tTrain : 97.72%(97.72%),\tTest : 96.20%(96.27%),\tCurrent Time: 20250917-195850\n"
     ]
    },
    {
     "name": "stderr",
     "output_type": "stream",
     "text": [
      "Epoch 35/50:: 100%|\u001b[34m███████████████████\u001b[0m| 120/120 [00:02<00:00, 42.92batch/s, loss=0.079453]\u001b[0m\n"
     ]
    },
    {
     "name": "stdout",
     "output_type": "stream",
     "text": [
      "\t Loss: 9.534,\tTrain : 97.61%(97.72%),\tTest : 96.15%(96.27%),\tCurrent Time: 20250917-195853\n"
     ]
    },
    {
     "name": "stderr",
     "output_type": "stream",
     "text": [
      "Epoch 36/50:: 100%|\u001b[34m███████████████████\u001b[0m| 120/120 [00:02<00:00, 42.98batch/s, loss=0.076651]\u001b[0m\n"
     ]
    },
    {
     "name": "stdout",
     "output_type": "stream",
     "text": [
      "\t Loss: 9.198,\tTrain : 97.72%(97.72%),\tTest : 96.20%(96.27%),\tCurrent Time: 20250917-195856\n"
     ]
    },
    {
     "name": "stderr",
     "output_type": "stream",
     "text": [
      "Epoch 37/50:: 100%|\u001b[34m███████████████████\u001b[0m| 120/120 [00:02<00:00, 43.05batch/s, loss=0.072986]\u001b[0m\n"
     ]
    },
    {
     "name": "stdout",
     "output_type": "stream",
     "text": [
      "\t Loss: 8.758,\tTrain : 97.77%(97.77%),\tTest : 96.16%(96.27%),\tCurrent Time: 20250917-195859\n"
     ]
    },
    {
     "name": "stderr",
     "output_type": "stream",
     "text": [
      "Epoch 38/50:: 100%|\u001b[34m███████████████████\u001b[0m| 120/120 [00:02<00:00, 43.10batch/s, loss=0.069953]\u001b[0m\n"
     ]
    },
    {
     "name": "stdout",
     "output_type": "stream",
     "text": [
      "\t Loss: 8.394,\tTrain : 97.91%(97.91%),\tTest : 96.37%(96.37%),\tCurrent Time: 20250917-195901\n"
     ]
    },
    {
     "name": "stderr",
     "output_type": "stream",
     "text": [
      "Epoch 39/50:: 100%|\u001b[34m███████████████████\u001b[0m| 120/120 [00:02<00:00, 42.66batch/s, loss=0.070189]\u001b[0m\n"
     ]
    },
    {
     "name": "stdout",
     "output_type": "stream",
     "text": [
      "\t Loss: 8.423,\tTrain : 97.91%(97.91%),\tTest : 96.07%(96.37%),\tCurrent Time: 20250917-195904\n"
     ]
    },
    {
     "name": "stderr",
     "output_type": "stream",
     "text": [
      "Epoch 40/50:: 100%|\u001b[34m███████████████████\u001b[0m| 120/120 [00:02<00:00, 42.97batch/s, loss=0.065785]\u001b[0m\n"
     ]
    },
    {
     "name": "stdout",
     "output_type": "stream",
     "text": [
      "\t Loss: 7.894,\tTrain : 98.03%(98.03%),\tTest : 96.41%(96.41%),\tCurrent Time: 20250917-195907\n"
     ]
    },
    {
     "name": "stderr",
     "output_type": "stream",
     "text": [
      "Epoch 41/50:: 100%|\u001b[34m███████████████████\u001b[0m| 120/120 [00:02<00:00, 42.94batch/s, loss=0.064736]\u001b[0m\n"
     ]
    },
    {
     "name": "stdout",
     "output_type": "stream",
     "text": [
      "\t Loss: 7.768,\tTrain : 98.09%(98.09%),\tTest : 96.35%(96.41%),\tCurrent Time: 20250917-195910\n"
     ]
    },
    {
     "name": "stderr",
     "output_type": "stream",
     "text": [
      "Epoch 42/50:: 100%|\u001b[34m███████████████████\u001b[0m| 120/120 [00:02<00:00, 42.77batch/s, loss=0.063202]\u001b[0m\n"
     ]
    },
    {
     "name": "stdout",
     "output_type": "stream",
     "text": [
      "\t Loss: 7.584,\tTrain : 98.10%(98.10%),\tTest : 96.15%(96.41%),\tCurrent Time: 20250917-195913\n"
     ]
    },
    {
     "name": "stderr",
     "output_type": "stream",
     "text": [
      "Epoch 43/50:: 100%|\u001b[34m███████████████████\u001b[0m| 120/120 [00:02<00:00, 43.00batch/s, loss=0.059341]\u001b[0m\n"
     ]
    },
    {
     "name": "stdout",
     "output_type": "stream",
     "text": [
      "\t Loss: 7.121,\tTrain : 98.18%(98.18%),\tTest : 95.77%(96.41%),\tCurrent Time: 20250917-195916\n"
     ]
    },
    {
     "name": "stderr",
     "output_type": "stream",
     "text": [
      "Epoch 44/50:: 100%|\u001b[34m███████████████████\u001b[0m| 120/120 [00:02<00:00, 43.08batch/s, loss=0.059515]\u001b[0m\n"
     ]
    },
    {
     "name": "stdout",
     "output_type": "stream",
     "text": [
      "\t Loss: 7.142,\tTrain : 98.19%(98.19%),\tTest : 96.09%(96.41%),\tCurrent Time: 20250917-195919\n"
     ]
    },
    {
     "name": "stderr",
     "output_type": "stream",
     "text": [
      "Epoch 45/50:: 100%|\u001b[34m███████████████████\u001b[0m| 120/120 [00:02<00:00, 42.62batch/s, loss=0.056827]\u001b[0m\n"
     ]
    },
    {
     "name": "stdout",
     "output_type": "stream",
     "text": [
      "\t Loss: 6.819,\tTrain : 98.24%(98.24%),\tTest : 96.24%(96.41%),\tCurrent Time: 20250917-195922\n"
     ]
    },
    {
     "name": "stderr",
     "output_type": "stream",
     "text": [
      "Epoch 46/50:: 100%|\u001b[34m███████████████████\u001b[0m| 120/120 [00:02<00:00, 43.00batch/s, loss=0.056020]\u001b[0m\n"
     ]
    },
    {
     "name": "stdout",
     "output_type": "stream",
     "text": [
      "\t Loss: 6.722,\tTrain : 98.31%(98.31%),\tTest : 96.34%(96.41%),\tCurrent Time: 20250917-195924\n"
     ]
    },
    {
     "name": "stderr",
     "output_type": "stream",
     "text": [
      "Epoch 47/50:: 100%|\u001b[34m███████████████████\u001b[0m| 120/120 [00:02<00:00, 43.16batch/s, loss=0.054436]\u001b[0m\n"
     ]
    },
    {
     "name": "stdout",
     "output_type": "stream",
     "text": [
      "\t Loss: 6.532,\tTrain : 98.31%(98.31%),\tTest : 96.40%(96.41%),\tCurrent Time: 20250917-195927\n"
     ]
    },
    {
     "name": "stderr",
     "output_type": "stream",
     "text": [
      "Epoch 48/50:: 100%|\u001b[34m███████████████████\u001b[0m| 120/120 [00:02<00:00, 42.95batch/s, loss=0.050128]\u001b[0m\n"
     ]
    },
    {
     "name": "stdout",
     "output_type": "stream",
     "text": [
      "\t Loss: 6.015,\tTrain : 98.50%(98.50%),\tTest : 96.33%(96.41%),\tCurrent Time: 20250917-195930\n"
     ]
    },
    {
     "name": "stderr",
     "output_type": "stream",
     "text": [
      "Epoch 49/50:: 100%|\u001b[34m███████████████████\u001b[0m| 120/120 [00:02<00:00, 43.08batch/s, loss=0.051025]\u001b[0m\n"
     ]
    },
    {
     "name": "stdout",
     "output_type": "stream",
     "text": [
      "\t Loss: 6.123,\tTrain : 98.45%(98.50%),\tTest : 96.08%(96.41%),\tCurrent Time: 20250917-195933\n"
     ]
    },
    {
     "name": "stderr",
     "output_type": "stream",
     "text": [
      "Epoch 50/50:: 100%|\u001b[34m███████████████████\u001b[0m| 120/120 [00:02<00:00, 42.90batch/s, loss=0.050186]\u001b[0m\n"
     ]
    },
    {
     "name": "stdout",
     "output_type": "stream",
     "text": [
      "\t Loss: 6.022,\tTrain : 98.50%(98.50%),\tTest : 96.28%(96.41%),\tCurrent Time: 20250917-195936\n",
      "First_asymm_AG_N-HL_resP-EP_L10-P0.5-MNIST_EP_b_sc0.1- Time: 20250917-195936, Epochs: 50, Learning Rate: 0.0005, Best: 98.50%  96.41%\n",
      "\n",
      "[[0 1 0 0 0 0 0 0 0 0 0 0]\n",
      " [0 0 1 1 1 1 1 1 1 1 1 0]\n",
      " [0 1 0 1 1 1 1 1 1 1 1 0]\n",
      " [0 1 1 0 1 1 1 1 1 1 1 0]\n",
      " [0 1 1 1 0 1 1 1 1 1 1 0]\n",
      " [0 1 1 1 1 0 1 1 1 1 1 0]\n",
      " [0 1 1 1 1 1 0 1 1 1 1 0]\n",
      " [0 1 1 1 1 1 1 0 1 1 1 0]\n",
      " [0 1 1 1 1 1 1 1 0 1 1 0]\n",
      " [0 1 1 1 1 1 1 1 1 0 1 0]\n",
      " [0 1 1 1 1 1 1 1 1 1 0 1]\n",
      " [0 0 0 0 0 0 0 0 0 0 1 0]]\n",
      "First_asymm_AG_N-HL_resP-EP_L10-P1-MNIST_EP_b_sc0.1-\n"
     ]
    },
    {
     "name": "stderr",
     "output_type": "stream",
     "text": [
      "Epoch 1/50:: 100%|\u001b[34m████████████████████\u001b[0m| 120/120 [00:03<00:00, 35.62batch/s, loss=2.003589]\u001b[0m\n"
     ]
    },
    {
     "name": "stdout",
     "output_type": "stream",
     "text": [
      "\t Loss: 240.431,\tTrain : 28.78%(28.78%),\tTest : 44.91%(44.91%),\tCurrent Time: 20250917-195944\n"
     ]
    },
    {
     "name": "stderr",
     "output_type": "stream",
     "text": [
      "Epoch 2/50:: 100%|\u001b[34m████████████████████\u001b[0m| 120/120 [00:03<00:00, 37.02batch/s, loss=1.079271]\u001b[0m\n"
     ]
    },
    {
     "name": "stdout",
     "output_type": "stream",
     "text": [
      "\t Loss: 129.513,\tTrain : 67.51%(67.51%),\tTest : 85.75%(85.75%),\tCurrent Time: 20250917-195947\n"
     ]
    },
    {
     "name": "stderr",
     "output_type": "stream",
     "text": [
      "Epoch 3/50:: 100%|\u001b[34m████████████████████\u001b[0m| 120/120 [00:03<00:00, 37.06batch/s, loss=0.514031]\u001b[0m\n"
     ]
    },
    {
     "name": "stdout",
     "output_type": "stream",
     "text": [
      "\t Loss: 61.684,\tTrain : 87.99%(87.99%),\tTest : 89.84%(89.84%),\tCurrent Time: 20250917-195951\n"
     ]
    },
    {
     "name": "stderr",
     "output_type": "stream",
     "text": [
      "Epoch 4/50:: 100%|\u001b[34m████████████████████\u001b[0m| 120/120 [00:03<00:00, 37.23batch/s, loss=0.398315]\u001b[0m\n"
     ]
    },
    {
     "name": "stdout",
     "output_type": "stream",
     "text": [
      "\t Loss: 47.798,\tTrain : 90.11%(90.11%),\tTest : 90.52%(90.52%),\tCurrent Time: 20250917-195954\n"
     ]
    },
    {
     "name": "stderr",
     "output_type": "stream",
     "text": [
      "Epoch 5/50:: 100%|\u001b[34m████████████████████\u001b[0m| 120/120 [00:03<00:00, 37.06batch/s, loss=0.349393]\u001b[0m\n"
     ]
    },
    {
     "name": "stdout",
     "output_type": "stream",
     "text": [
      "\t Loss: 41.927,\tTrain : 91.23%(91.23%),\tTest : 91.29%(91.29%),\tCurrent Time: 20250917-195957\n"
     ]
    },
    {
     "name": "stderr",
     "output_type": "stream",
     "text": [
      "Epoch 6/50:: 100%|\u001b[34m████████████████████\u001b[0m| 120/120 [00:03<00:00, 37.14batch/s, loss=0.309337]\u001b[0m\n"
     ]
    },
    {
     "name": "stdout",
     "output_type": "stream",
     "text": [
      "\t Loss: 37.120,\tTrain : 91.91%(91.91%),\tTest : 92.13%(92.13%),\tCurrent Time: 20250917-200000\n"
     ]
    },
    {
     "name": "stderr",
     "output_type": "stream",
     "text": [
      "Epoch 7/50:: 100%|\u001b[34m████████████████████\u001b[0m| 120/120 [00:03<00:00, 37.25batch/s, loss=0.284976]\u001b[0m\n"
     ]
    },
    {
     "name": "stdout",
     "output_type": "stream",
     "text": [
      "\t Loss: 34.197,\tTrain : 92.55%(92.55%),\tTest : 92.82%(92.82%),\tCurrent Time: 20250917-200004\n"
     ]
    },
    {
     "name": "stderr",
     "output_type": "stream",
     "text": [
      "Epoch 8/50:: 100%|\u001b[34m████████████████████\u001b[0m| 120/120 [00:03<00:00, 37.22batch/s, loss=0.259655]\u001b[0m\n"
     ]
    },
    {
     "name": "stdout",
     "output_type": "stream",
     "text": [
      "\t Loss: 31.159,\tTrain : 93.26%(93.26%),\tTest : 93.23%(93.23%),\tCurrent Time: 20250917-200007\n"
     ]
    },
    {
     "name": "stderr",
     "output_type": "stream",
     "text": [
      "Epoch 9/50:: 100%|\u001b[34m████████████████████\u001b[0m| 120/120 [00:03<00:00, 37.08batch/s, loss=0.236716]\u001b[0m\n"
     ]
    },
    {
     "name": "stdout",
     "output_type": "stream",
     "text": [
      "\t Loss: 28.406,\tTrain : 93.64%(93.64%),\tTest : 93.14%(93.23%),\tCurrent Time: 20250917-200010\n"
     ]
    },
    {
     "name": "stderr",
     "output_type": "stream",
     "text": [
      "Epoch 10/50:: 100%|\u001b[34m███████████████████\u001b[0m| 120/120 [00:03<00:00, 37.03batch/s, loss=0.220032]\u001b[0m\n"
     ]
    },
    {
     "name": "stdout",
     "output_type": "stream",
     "text": [
      "\t Loss: 26.404,\tTrain : 94.09%(94.09%),\tTest : 94.08%(94.08%),\tCurrent Time: 20250917-200014\n"
     ]
    },
    {
     "name": "stderr",
     "output_type": "stream",
     "text": [
      "Epoch 11/50:: 100%|\u001b[34m███████████████████\u001b[0m| 120/120 [00:03<00:00, 36.92batch/s, loss=0.203400]\u001b[0m\n"
     ]
    },
    {
     "name": "stdout",
     "output_type": "stream",
     "text": [
      "\t Loss: 24.408,\tTrain : 94.53%(94.53%),\tTest : 94.25%(94.25%),\tCurrent Time: 20250917-200017\n"
     ]
    },
    {
     "name": "stderr",
     "output_type": "stream",
     "text": [
      "Epoch 12/50:: 100%|\u001b[34m███████████████████\u001b[0m| 120/120 [00:03<00:00, 37.28batch/s, loss=0.198434]\u001b[0m\n"
     ]
    },
    {
     "name": "stdout",
     "output_type": "stream",
     "text": [
      "\t Loss: 23.812,\tTrain : 94.53%(94.53%),\tTest : 94.19%(94.25%),\tCurrent Time: 20250917-200020\n"
     ]
    },
    {
     "name": "stderr",
     "output_type": "stream",
     "text": [
      "Epoch 13/50:: 100%|\u001b[34m███████████████████\u001b[0m| 120/120 [00:03<00:00, 37.22batch/s, loss=0.186384]\u001b[0m\n"
     ]
    },
    {
     "name": "stdout",
     "output_type": "stream",
     "text": [
      "\t Loss: 22.366,\tTrain : 94.84%(94.84%),\tTest : 94.90%(94.90%),\tCurrent Time: 20250917-200024\n"
     ]
    },
    {
     "name": "stderr",
     "output_type": "stream",
     "text": [
      "Epoch 14/50:: 100%|\u001b[34m███████████████████\u001b[0m| 120/120 [00:03<00:00, 37.27batch/s, loss=0.173617]\u001b[0m\n"
     ]
    },
    {
     "name": "stdout",
     "output_type": "stream",
     "text": [
      "\t Loss: 20.834,\tTrain : 95.29%(95.29%),\tTest : 94.77%(94.90%),\tCurrent Time: 20250917-200027\n"
     ]
    },
    {
     "name": "stderr",
     "output_type": "stream",
     "text": [
      "Epoch 15/50:: 100%|\u001b[34m███████████████████\u001b[0m| 120/120 [00:03<00:00, 37.27batch/s, loss=0.162125]\u001b[0m\n"
     ]
    },
    {
     "name": "stdout",
     "output_type": "stream",
     "text": [
      "\t Loss: 19.455,\tTrain : 95.56%(95.56%),\tTest : 95.19%(95.19%),\tCurrent Time: 20250917-200030\n"
     ]
    },
    {
     "name": "stderr",
     "output_type": "stream",
     "text": [
      "Epoch 16/50:: 100%|\u001b[34m███████████████████\u001b[0m| 120/120 [00:03<00:00, 37.16batch/s, loss=0.152603]\u001b[0m\n"
     ]
    },
    {
     "name": "stdout",
     "output_type": "stream",
     "text": [
      "\t Loss: 18.312,\tTrain : 95.77%(95.77%),\tTest : 95.20%(95.20%),\tCurrent Time: 20250917-200034\n"
     ]
    },
    {
     "name": "stderr",
     "output_type": "stream",
     "text": [
      "Epoch 17/50:: 100%|\u001b[34m███████████████████\u001b[0m| 120/120 [00:03<00:00, 36.88batch/s, loss=0.153361]\u001b[0m\n"
     ]
    },
    {
     "name": "stdout",
     "output_type": "stream",
     "text": [
      "\t Loss: 18.403,\tTrain : 95.77%(95.77%),\tTest : 95.13%(95.20%),\tCurrent Time: 20250917-200037\n"
     ]
    },
    {
     "name": "stderr",
     "output_type": "stream",
     "text": [
      "Epoch 18/50:: 100%|\u001b[34m███████████████████\u001b[0m| 120/120 [00:03<00:00, 37.20batch/s, loss=0.147755]\u001b[0m\n"
     ]
    },
    {
     "name": "stdout",
     "output_type": "stream",
     "text": [
      "\t Loss: 17.731,\tTrain : 95.82%(95.82%),\tTest : 95.37%(95.37%),\tCurrent Time: 20250917-200040\n"
     ]
    },
    {
     "name": "stderr",
     "output_type": "stream",
     "text": [
      "Epoch 19/50:: 100%|\u001b[34m███████████████████\u001b[0m| 120/120 [00:03<00:00, 37.13batch/s, loss=0.142556]\u001b[0m\n"
     ]
    },
    {
     "name": "stdout",
     "output_type": "stream",
     "text": [
      "\t Loss: 17.107,\tTrain : 95.99%(95.99%),\tTest : 95.44%(95.44%),\tCurrent Time: 20250917-200044\n"
     ]
    },
    {
     "name": "stderr",
     "output_type": "stream",
     "text": [
      "Epoch 20/50:: 100%|\u001b[34m███████████████████\u001b[0m| 120/120 [00:03<00:00, 37.15batch/s, loss=0.133914]\u001b[0m\n"
     ]
    },
    {
     "name": "stdout",
     "output_type": "stream",
     "text": [
      "\t Loss: 16.070,\tTrain : 96.24%(96.24%),\tTest : 95.57%(95.57%),\tCurrent Time: 20250917-200047\n"
     ]
    },
    {
     "name": "stderr",
     "output_type": "stream",
     "text": [
      "Epoch 21/50:: 100%|\u001b[34m███████████████████\u001b[0m| 120/120 [00:03<00:00, 37.16batch/s, loss=0.126258]\u001b[0m\n"
     ]
    },
    {
     "name": "stdout",
     "output_type": "stream",
     "text": [
      "\t Loss: 15.151,\tTrain : 96.53%(96.53%),\tTest : 95.73%(95.73%),\tCurrent Time: 20250917-200050\n"
     ]
    },
    {
     "name": "stderr",
     "output_type": "stream",
     "text": [
      "Epoch 22/50:: 100%|\u001b[34m███████████████████\u001b[0m| 120/120 [00:03<00:00, 37.13batch/s, loss=0.124259]\u001b[0m\n"
     ]
    },
    {
     "name": "stdout",
     "output_type": "stream",
     "text": [
      "\t Loss: 14.911,\tTrain : 96.43%(96.53%),\tTest : 95.81%(95.81%),\tCurrent Time: 20250917-200053\n"
     ]
    },
    {
     "name": "stderr",
     "output_type": "stream",
     "text": [
      "Epoch 23/50:: 100%|\u001b[34m███████████████████\u001b[0m| 120/120 [00:03<00:00, 37.22batch/s, loss=0.121096]\u001b[0m\n"
     ]
    },
    {
     "name": "stdout",
     "output_type": "stream",
     "text": [
      "\t Loss: 14.531,\tTrain : 96.50%(96.53%),\tTest : 95.46%(95.81%),\tCurrent Time: 20250917-200057\n"
     ]
    },
    {
     "name": "stderr",
     "output_type": "stream",
     "text": [
      "Epoch 24/50:: 100%|\u001b[34m███████████████████\u001b[0m| 120/120 [00:03<00:00, 37.15batch/s, loss=0.114397]\u001b[0m\n"
     ]
    },
    {
     "name": "stdout",
     "output_type": "stream",
     "text": [
      "\t Loss: 13.728,\tTrain : 96.73%(96.73%),\tTest : 95.91%(95.91%),\tCurrent Time: 20250917-200100\n"
     ]
    },
    {
     "name": "stderr",
     "output_type": "stream",
     "text": [
      "Epoch 25/50:: 100%|\u001b[34m███████████████████\u001b[0m| 120/120 [00:03<00:00, 37.13batch/s, loss=0.112867]\u001b[0m\n"
     ]
    },
    {
     "name": "stdout",
     "output_type": "stream",
     "text": [
      "\t Loss: 13.544,\tTrain : 96.73%(96.73%),\tTest : 95.67%(95.91%),\tCurrent Time: 20250917-200103\n"
     ]
    },
    {
     "name": "stderr",
     "output_type": "stream",
     "text": [
      "Epoch 26/50:: 100%|\u001b[34m███████████████████\u001b[0m| 120/120 [00:03<00:00, 37.28batch/s, loss=0.109978]\u001b[0m\n"
     ]
    },
    {
     "name": "stdout",
     "output_type": "stream",
     "text": [
      "\t Loss: 13.197,\tTrain : 96.83%(96.83%),\tTest : 95.93%(95.93%),\tCurrent Time: 20250917-200107\n"
     ]
    },
    {
     "name": "stderr",
     "output_type": "stream",
     "text": [
      "Epoch 27/50:: 100%|\u001b[34m███████████████████\u001b[0m| 120/120 [00:03<00:00, 37.17batch/s, loss=0.103756]\u001b[0m\n"
     ]
    },
    {
     "name": "stdout",
     "output_type": "stream",
     "text": [
      "\t Loss: 12.451,\tTrain : 97.02%(97.02%),\tTest : 96.16%(96.16%),\tCurrent Time: 20250917-200110\n"
     ]
    },
    {
     "name": "stderr",
     "output_type": "stream",
     "text": [
      "Epoch 28/50:: 100%|\u001b[34m███████████████████\u001b[0m| 120/120 [00:03<00:00, 37.30batch/s, loss=0.100179]\u001b[0m\n"
     ]
    },
    {
     "name": "stdout",
     "output_type": "stream",
     "text": [
      "\t Loss: 12.021,\tTrain : 97.07%(97.07%),\tTest : 96.14%(96.16%),\tCurrent Time: 20250917-200113\n"
     ]
    },
    {
     "name": "stderr",
     "output_type": "stream",
     "text": [
      "Epoch 29/50:: 100%|\u001b[34m███████████████████\u001b[0m| 120/120 [00:03<00:00, 37.42batch/s, loss=0.102808]\u001b[0m\n"
     ]
    },
    {
     "name": "stdout",
     "output_type": "stream",
     "text": [
      "\t Loss: 12.337,\tTrain : 96.95%(97.07%),\tTest : 96.03%(96.16%),\tCurrent Time: 20250917-200117\n"
     ]
    },
    {
     "name": "stderr",
     "output_type": "stream",
     "text": [
      "Epoch 30/50:: 100%|\u001b[34m███████████████████\u001b[0m| 120/120 [00:03<00:00, 36.97batch/s, loss=0.098623]\u001b[0m\n"
     ]
    },
    {
     "name": "stdout",
     "output_type": "stream",
     "text": [
      "\t Loss: 11.835,\tTrain : 97.09%(97.09%),\tTest : 96.18%(96.18%),\tCurrent Time: 20250917-200120\n"
     ]
    },
    {
     "name": "stderr",
     "output_type": "stream",
     "text": [
      "Epoch 31/50:: 100%|\u001b[34m███████████████████\u001b[0m| 120/120 [00:03<00:00, 37.26batch/s, loss=0.095438]\u001b[0m\n"
     ]
    },
    {
     "name": "stdout",
     "output_type": "stream",
     "text": [
      "\t Loss: 11.453,\tTrain : 97.17%(97.17%),\tTest : 96.27%(96.27%),\tCurrent Time: 20250917-200123\n"
     ]
    },
    {
     "name": "stderr",
     "output_type": "stream",
     "text": [
      "Epoch 32/50:: 100%|\u001b[34m███████████████████\u001b[0m| 120/120 [00:03<00:00, 37.15batch/s, loss=0.091388]\u001b[0m\n"
     ]
    },
    {
     "name": "stdout",
     "output_type": "stream",
     "text": [
      "\t Loss: 10.967,\tTrain : 97.25%(97.25%),\tTest : 96.21%(96.27%),\tCurrent Time: 20250917-200127\n"
     ]
    },
    {
     "name": "stderr",
     "output_type": "stream",
     "text": [
      "Epoch 33/50:: 100%|\u001b[34m███████████████████\u001b[0m| 120/120 [00:03<00:00, 37.20batch/s, loss=0.086716]\u001b[0m\n"
     ]
    },
    {
     "name": "stdout",
     "output_type": "stream",
     "text": [
      "\t Loss: 10.406,\tTrain : 97.43%(97.43%),\tTest : 96.47%(96.47%),\tCurrent Time: 20250917-200130\n"
     ]
    },
    {
     "name": "stderr",
     "output_type": "stream",
     "text": [
      "Epoch 34/50:: 100%|\u001b[34m███████████████████\u001b[0m| 120/120 [00:03<00:00, 37.38batch/s, loss=0.084772]\u001b[0m\n"
     ]
    },
    {
     "name": "stdout",
     "output_type": "stream",
     "text": [
      "\t Loss: 10.173,\tTrain : 97.52%(97.52%),\tTest : 96.20%(96.47%),\tCurrent Time: 20250917-200133\n"
     ]
    },
    {
     "name": "stderr",
     "output_type": "stream",
     "text": [
      "Epoch 35/50:: 100%|\u001b[34m███████████████████\u001b[0m| 120/120 [00:03<00:00, 37.12batch/s, loss=0.082140]\u001b[0m\n"
     ]
    },
    {
     "name": "stdout",
     "output_type": "stream",
     "text": [
      "\t Loss: 9.857,\tTrain : 97.55%(97.55%),\tTest : 96.40%(96.47%),\tCurrent Time: 20250917-200137\n"
     ]
    },
    {
     "name": "stderr",
     "output_type": "stream",
     "text": [
      "Epoch 36/50:: 100%|\u001b[34m███████████████████\u001b[0m| 120/120 [00:03<00:00, 37.21batch/s, loss=0.079283]\u001b[0m\n"
     ]
    },
    {
     "name": "stdout",
     "output_type": "stream",
     "text": [
      "\t Loss: 9.514,\tTrain : 97.64%(97.64%),\tTest : 96.12%(96.47%),\tCurrent Time: 20250917-200140\n"
     ]
    },
    {
     "name": "stderr",
     "output_type": "stream",
     "text": [
      "Epoch 37/50:: 100%|\u001b[34m███████████████████\u001b[0m| 120/120 [00:03<00:00, 37.21batch/s, loss=0.158427]\u001b[0m\n"
     ]
    },
    {
     "name": "stdout",
     "output_type": "stream",
     "text": [
      "\t Loss: 19.011,\tTrain : 95.78%(97.64%),\tTest : 28.44%(96.47%),\tCurrent Time: 20250917-200143\n"
     ]
    },
    {
     "name": "stderr",
     "output_type": "stream",
     "text": [
      "Epoch 38/50:: 100%|\u001b[34m███████████████████\u001b[0m| 120/120 [00:03<00:00, 36.83batch/s, loss=0.949408]\u001b[0m\n"
     ]
    },
    {
     "name": "stdout",
     "output_type": "stream",
     "text": [
      "\t Loss: 113.929,\tTrain : 75.36%(97.64%),\tTest : 84.43%(96.47%),\tCurrent Time: 20250917-200146\n"
     ]
    },
    {
     "name": "stderr",
     "output_type": "stream",
     "text": [
      "Epoch 39/50:: 100%|\u001b[34m███████████████████\u001b[0m| 120/120 [00:03<00:00, 37.24batch/s, loss=0.615257]\u001b[0m\n"
     ]
    },
    {
     "name": "stdout",
     "output_type": "stream",
     "text": [
      "\t Loss: 73.831,\tTrain : 83.44%(97.64%),\tTest : 78.07%(96.47%),\tCurrent Time: 20250917-200150\n"
     ]
    },
    {
     "name": "stderr",
     "output_type": "stream",
     "text": [
      "Epoch 40/50:: 100%|\u001b[34m███████████████████\u001b[0m| 120/120 [00:03<00:00, 37.21batch/s, loss=0.651470]\u001b[0m\n"
     ]
    },
    {
     "name": "stdout",
     "output_type": "stream",
     "text": [
      "\t Loss: 78.176,\tTrain : 79.83%(97.64%),\tTest : 76.75%(96.47%),\tCurrent Time: 20250917-200153\n"
     ]
    },
    {
     "name": "stderr",
     "output_type": "stream",
     "text": [
      "Epoch 41/50:: 100%|\u001b[34m███████████████████\u001b[0m| 120/120 [00:03<00:00, 37.26batch/s, loss=0.790966]\u001b[0m\n"
     ]
    },
    {
     "name": "stdout",
     "output_type": "stream",
     "text": [
      "\t Loss: 94.916,\tTrain : 75.33%(97.64%),\tTest : 72.81%(96.47%),\tCurrent Time: 20250917-200156\n"
     ]
    },
    {
     "name": "stderr",
     "output_type": "stream",
     "text": [
      "Epoch 42/50:: 100%|\u001b[34m███████████████████\u001b[0m| 120/120 [00:03<00:00, 37.23batch/s, loss=0.795405]\u001b[0m\n"
     ]
    },
    {
     "name": "stdout",
     "output_type": "stream",
     "text": [
      "\t Loss: 95.449,\tTrain : 75.76%(97.64%),\tTest : 73.20%(96.47%),\tCurrent Time: 20250917-200200\n"
     ]
    },
    {
     "name": "stderr",
     "output_type": "stream",
     "text": [
      "Epoch 43/50:: 100%|\u001b[34m███████████████████\u001b[0m| 120/120 [00:03<00:00, 37.30batch/s, loss=0.792213]\u001b[0m\n"
     ]
    },
    {
     "name": "stdout",
     "output_type": "stream",
     "text": [
      "\t Loss: 95.066,\tTrain : 76.20%(97.64%),\tTest : 77.80%(96.47%),\tCurrent Time: 20250917-200203\n"
     ]
    },
    {
     "name": "stderr",
     "output_type": "stream",
     "text": [
      "Epoch 44/50:: 100%|\u001b[34m███████████████████\u001b[0m| 120/120 [00:03<00:00, 36.93batch/s, loss=0.721552]\u001b[0m\n"
     ]
    },
    {
     "name": "stdout",
     "output_type": "stream",
     "text": [
      "\t Loss: 86.586,\tTrain : 78.35%(97.64%),\tTest : 83.91%(96.47%),\tCurrent Time: 20250917-200206\n"
     ]
    },
    {
     "name": "stderr",
     "output_type": "stream",
     "text": [
      "Epoch 45/50:: 100%|\u001b[34m███████████████████\u001b[0m| 120/120 [00:03<00:00, 37.21batch/s, loss=0.588117]\u001b[0m\n"
     ]
    },
    {
     "name": "stdout",
     "output_type": "stream",
     "text": [
      "\t Loss: 70.574,\tTrain : 84.59%(97.64%),\tTest : 86.11%(96.47%),\tCurrent Time: 20250917-200210\n"
     ]
    },
    {
     "name": "stderr",
     "output_type": "stream",
     "text": [
      "Epoch 46/50:: 100%|\u001b[34m███████████████████\u001b[0m| 120/120 [00:03<00:00, 37.28batch/s, loss=0.553442]\u001b[0m\n"
     ]
    },
    {
     "name": "stdout",
     "output_type": "stream",
     "text": [
      "\t Loss: 66.413,\tTrain : 83.90%(97.64%),\tTest : 86.28%(96.47%),\tCurrent Time: 20250917-200213\n"
     ]
    },
    {
     "name": "stderr",
     "output_type": "stream",
     "text": [
      "Epoch 47/50:: 100%|\u001b[34m███████████████████\u001b[0m| 120/120 [00:03<00:00, 37.21batch/s, loss=0.459731]\u001b[0m\n"
     ]
    },
    {
     "name": "stdout",
     "output_type": "stream",
     "text": [
      "\t Loss: 55.168,\tTrain : 86.12%(97.64%),\tTest : 88.87%(96.47%),\tCurrent Time: 20250917-200216\n"
     ]
    },
    {
     "name": "stderr",
     "output_type": "stream",
     "text": [
      "Epoch 48/50:: 100%|\u001b[34m███████████████████\u001b[0m| 120/120 [00:03<00:00, 37.25batch/s, loss=0.334243]\u001b[0m\n"
     ]
    },
    {
     "name": "stdout",
     "output_type": "stream",
     "text": [
      "\t Loss: 40.109,\tTrain : 90.08%(97.64%),\tTest : 91.65%(96.47%),\tCurrent Time: 20250917-200220\n"
     ]
    },
    {
     "name": "stderr",
     "output_type": "stream",
     "text": [
      "Epoch 49/50:: 100%|\u001b[34m███████████████████\u001b[0m| 120/120 [00:03<00:00, 37.15batch/s, loss=0.248812]\u001b[0m\n"
     ]
    },
    {
     "name": "stdout",
     "output_type": "stream",
     "text": [
      "\t Loss: 29.857,\tTrain : 92.93%(97.64%),\tTest : 93.55%(96.47%),\tCurrent Time: 20250917-200223\n"
     ]
    },
    {
     "name": "stderr",
     "output_type": "stream",
     "text": [
      "Epoch 50/50:: 100%|\u001b[34m███████████████████\u001b[0m| 120/120 [00:03<00:00, 36.96batch/s, loss=0.236352]\u001b[0m\n"
     ]
    },
    {
     "name": "stdout",
     "output_type": "stream",
     "text": [
      "\t Loss: 28.362,\tTrain : 93.38%(97.64%),\tTest : 92.10%(96.47%),\tCurrent Time: 20250917-200226\n",
      "First_asymm_AG_N-HL_resP-EP_L10-P1-MNIST_EP_b_sc0.1- Time: 20250917-200226, Epochs: 50, Learning Rate: 0.0005, Best: 97.64%  96.47%\n",
      "\n",
      "[[0 1 0 0 0 0 0 0 0 0 0 0]\n",
      " [0 0 1 1 1 1 1 1 1 1 1 0]\n",
      " [0 1 0 1 1 1 1 1 1 1 1 0]\n",
      " [0 1 1 0 1 1 1 1 1 1 1 0]\n",
      " [0 1 1 1 0 1 1 1 1 1 1 0]\n",
      " [0 1 1 1 1 0 1 1 1 1 1 0]\n",
      " [0 1 1 1 1 1 0 1 1 1 1 0]\n",
      " [0 1 1 1 1 1 1 0 1 1 1 0]\n",
      " [0 1 1 1 1 1 1 1 0 1 1 0]\n",
      " [0 1 1 1 1 1 1 1 1 0 1 0]\n",
      " [0 1 1 1 1 1 1 1 1 1 0 1]\n",
      " [0 0 0 0 0 0 0 0 0 0 1 0]]\n",
      "First_asymm_AG_N-HL_resP-EP_L10-P1-MNIST_EP_b_sc0.1-\n"
     ]
    },
    {
     "name": "stderr",
     "output_type": "stream",
     "text": [
      "Epoch 1/50:: 100%|\u001b[34m████████████████████\u001b[0m| 120/120 [00:03<00:00, 34.98batch/s, loss=2.318006]\u001b[0m\n"
     ]
    },
    {
     "name": "stdout",
     "output_type": "stream",
     "text": [
      "\t Loss: 278.161,\tTrain : 19.79%(19.79%),\tTest : 44.28%(44.28%),\tCurrent Time: 20250917-200234\n"
     ]
    },
    {
     "name": "stderr",
     "output_type": "stream",
     "text": [
      "Epoch 2/50:: 100%|\u001b[34m████████████████████\u001b[0m| 120/120 [00:03<00:00, 37.04batch/s, loss=1.150271]\u001b[0m\n"
     ]
    },
    {
     "name": "stdout",
     "output_type": "stream",
     "text": [
      "\t Loss: 138.032,\tTrain : 69.72%(69.72%),\tTest : 85.65%(85.65%),\tCurrent Time: 20250917-200237\n"
     ]
    },
    {
     "name": "stderr",
     "output_type": "stream",
     "text": [
      "Epoch 3/50:: 100%|\u001b[34m████████████████████\u001b[0m| 120/120 [00:03<00:00, 37.02batch/s, loss=0.576102]\u001b[0m\n"
     ]
    },
    {
     "name": "stdout",
     "output_type": "stream",
     "text": [
      "\t Loss: 69.132,\tTrain : 87.23%(87.23%),\tTest : 89.19%(89.19%),\tCurrent Time: 20250917-200241\n"
     ]
    },
    {
     "name": "stderr",
     "output_type": "stream",
     "text": [
      "Epoch 4/50:: 100%|\u001b[34m████████████████████\u001b[0m| 120/120 [00:03<00:00, 37.06batch/s, loss=0.410115]\u001b[0m\n"
     ]
    },
    {
     "name": "stdout",
     "output_type": "stream",
     "text": [
      "\t Loss: 49.214,\tTrain : 89.98%(89.98%),\tTest : 90.98%(90.98%),\tCurrent Time: 20250917-200244\n"
     ]
    },
    {
     "name": "stderr",
     "output_type": "stream",
     "text": [
      "Epoch 5/50:: 100%|\u001b[34m████████████████████\u001b[0m| 120/120 [00:03<00:00, 37.07batch/s, loss=0.347888]\u001b[0m\n"
     ]
    },
    {
     "name": "stdout",
     "output_type": "stream",
     "text": [
      "\t Loss: 41.747,\tTrain : 91.33%(91.33%),\tTest : 91.95%(91.95%),\tCurrent Time: 20250917-200247\n"
     ]
    },
    {
     "name": "stderr",
     "output_type": "stream",
     "text": [
      "Epoch 6/50:: 100%|\u001b[34m████████████████████\u001b[0m| 120/120 [00:03<00:00, 37.26batch/s, loss=0.298488]\u001b[0m\n"
     ]
    },
    {
     "name": "stdout",
     "output_type": "stream",
     "text": [
      "\t Loss: 35.819,\tTrain : 92.17%(92.17%),\tTest : 92.60%(92.60%),\tCurrent Time: 20250917-200251\n"
     ]
    },
    {
     "name": "stderr",
     "output_type": "stream",
     "text": [
      "Epoch 7/50:: 100%|\u001b[34m████████████████████\u001b[0m| 120/120 [00:03<00:00, 37.24batch/s, loss=0.284386]\u001b[0m\n"
     ]
    },
    {
     "name": "stdout",
     "output_type": "stream",
     "text": [
      "\t Loss: 34.126,\tTrain : 92.55%(92.55%),\tTest : 92.99%(92.99%),\tCurrent Time: 20250917-200254\n"
     ]
    },
    {
     "name": "stderr",
     "output_type": "stream",
     "text": [
      "Epoch 8/50:: 100%|\u001b[34m████████████████████\u001b[0m| 120/120 [00:03<00:00, 36.83batch/s, loss=0.257149]\u001b[0m\n"
     ]
    },
    {
     "name": "stdout",
     "output_type": "stream",
     "text": [
      "\t Loss: 30.858,\tTrain : 93.02%(93.02%),\tTest : 93.14%(93.14%),\tCurrent Time: 20250917-200257\n"
     ]
    },
    {
     "name": "stderr",
     "output_type": "stream",
     "text": [
      "Epoch 9/50:: 100%|\u001b[34m████████████████████\u001b[0m| 120/120 [00:03<00:00, 36.78batch/s, loss=0.236838]\u001b[0m\n"
     ]
    },
    {
     "name": "stdout",
     "output_type": "stream",
     "text": [
      "\t Loss: 28.421,\tTrain : 93.52%(93.52%),\tTest : 93.86%(93.86%),\tCurrent Time: 20250917-200301\n"
     ]
    },
    {
     "name": "stderr",
     "output_type": "stream",
     "text": [
      "Epoch 10/50:: 100%|\u001b[34m███████████████████\u001b[0m| 120/120 [00:03<00:00, 37.01batch/s, loss=0.219953]\u001b[0m\n"
     ]
    },
    {
     "name": "stdout",
     "output_type": "stream",
     "text": [
      "\t Loss: 26.394,\tTrain : 94.00%(94.00%),\tTest : 94.09%(94.09%),\tCurrent Time: 20250917-200304\n"
     ]
    },
    {
     "name": "stderr",
     "output_type": "stream",
     "text": [
      "Epoch 11/50:: 100%|\u001b[34m███████████████████\u001b[0m| 120/120 [00:03<00:00, 37.22batch/s, loss=0.212287]\u001b[0m\n"
     ]
    },
    {
     "name": "stdout",
     "output_type": "stream",
     "text": [
      "\t Loss: 25.474,\tTrain : 94.18%(94.18%),\tTest : 94.23%(94.23%),\tCurrent Time: 20250917-200307\n"
     ]
    },
    {
     "name": "stderr",
     "output_type": "stream",
     "text": [
      "Epoch 12/50:: 100%|\u001b[34m███████████████████\u001b[0m| 120/120 [00:03<00:00, 37.23batch/s, loss=0.195967]\u001b[0m\n"
     ]
    },
    {
     "name": "stdout",
     "output_type": "stream",
     "text": [
      "\t Loss: 23.516,\tTrain : 94.58%(94.58%),\tTest : 94.64%(94.64%),\tCurrent Time: 20250917-200311\n"
     ]
    },
    {
     "name": "stderr",
     "output_type": "stream",
     "text": [
      "Epoch 13/50:: 100%|\u001b[34m███████████████████\u001b[0m| 120/120 [00:03<00:00, 37.10batch/s, loss=0.185182]\u001b[0m\n"
     ]
    },
    {
     "name": "stdout",
     "output_type": "stream",
     "text": [
      "\t Loss: 22.222,\tTrain : 94.82%(94.82%),\tTest : 94.34%(94.64%),\tCurrent Time: 20250917-200314\n"
     ]
    },
    {
     "name": "stderr",
     "output_type": "stream",
     "text": [
      "Epoch 14/50:: 100%|\u001b[34m███████████████████\u001b[0m| 120/120 [00:03<00:00, 37.11batch/s, loss=0.182585]\u001b[0m\n"
     ]
    },
    {
     "name": "stdout",
     "output_type": "stream",
     "text": [
      "\t Loss: 21.910,\tTrain : 94.86%(94.86%),\tTest : 94.63%(94.64%),\tCurrent Time: 20250917-200317\n"
     ]
    },
    {
     "name": "stderr",
     "output_type": "stream",
     "text": [
      "Epoch 15/50:: 100%|\u001b[34m███████████████████\u001b[0m| 120/120 [00:03<00:00, 36.90batch/s, loss=0.170564]\u001b[0m\n"
     ]
    },
    {
     "name": "stdout",
     "output_type": "stream",
     "text": [
      "\t Loss: 20.468,\tTrain : 95.21%(95.21%),\tTest : 94.87%(94.87%),\tCurrent Time: 20250917-200321\n"
     ]
    },
    {
     "name": "stderr",
     "output_type": "stream",
     "text": [
      "Epoch 16/50:: 100%|\u001b[34m███████████████████\u001b[0m| 120/120 [00:03<00:00, 37.03batch/s, loss=0.165279]\u001b[0m\n"
     ]
    },
    {
     "name": "stdout",
     "output_type": "stream",
     "text": [
      "\t Loss: 19.834,\tTrain : 95.35%(95.35%),\tTest : 94.89%(94.89%),\tCurrent Time: 20250917-200324\n"
     ]
    },
    {
     "name": "stderr",
     "output_type": "stream",
     "text": [
      "Epoch 17/50:: 100%|\u001b[34m███████████████████\u001b[0m| 120/120 [00:03<00:00, 37.24batch/s, loss=0.156762]\u001b[0m\n"
     ]
    },
    {
     "name": "stdout",
     "output_type": "stream",
     "text": [
      "\t Loss: 18.811,\tTrain : 95.61%(95.61%),\tTest : 95.14%(95.14%),\tCurrent Time: 20250917-200327\n"
     ]
    },
    {
     "name": "stderr",
     "output_type": "stream",
     "text": [
      "Epoch 18/50:: 100%|\u001b[34m███████████████████\u001b[0m| 120/120 [00:03<00:00, 36.76batch/s, loss=0.153037]\u001b[0m\n"
     ]
    },
    {
     "name": "stdout",
     "output_type": "stream",
     "text": [
      "\t Loss: 18.364,\tTrain : 95.67%(95.67%),\tTest : 95.12%(95.14%),\tCurrent Time: 20250917-200331\n"
     ]
    },
    {
     "name": "stderr",
     "output_type": "stream",
     "text": [
      "Epoch 19/50:: 100%|\u001b[34m███████████████████\u001b[0m| 120/120 [00:03<00:00, 37.18batch/s, loss=0.144510]\u001b[0m\n"
     ]
    },
    {
     "name": "stdout",
     "output_type": "stream",
     "text": [
      "\t Loss: 17.341,\tTrain : 95.84%(95.84%),\tTest : 95.43%(95.43%),\tCurrent Time: 20250917-200334\n"
     ]
    },
    {
     "name": "stderr",
     "output_type": "stream",
     "text": [
      "Epoch 20/50:: 100%|\u001b[34m███████████████████\u001b[0m| 120/120 [00:03<00:00, 36.81batch/s, loss=0.138970]\u001b[0m\n"
     ]
    },
    {
     "name": "stdout",
     "output_type": "stream",
     "text": [
      "\t Loss: 16.676,\tTrain : 95.97%(95.97%),\tTest : 95.73%(95.73%),\tCurrent Time: 20250917-200337\n"
     ]
    },
    {
     "name": "stderr",
     "output_type": "stream",
     "text": [
      "Epoch 21/50:: 100%|\u001b[34m███████████████████\u001b[0m| 120/120 [00:03<00:00, 37.06batch/s, loss=0.130055]\u001b[0m\n"
     ]
    },
    {
     "name": "stdout",
     "output_type": "stream",
     "text": [
      "\t Loss: 15.607,\tTrain : 96.23%(96.23%),\tTest : 95.72%(95.73%),\tCurrent Time: 20250917-200341\n"
     ]
    },
    {
     "name": "stderr",
     "output_type": "stream",
     "text": [
      "Epoch 22/50:: 100%|\u001b[34m███████████████████\u001b[0m| 120/120 [00:03<00:00, 37.00batch/s, loss=0.122720]\u001b[0m\n"
     ]
    },
    {
     "name": "stdout",
     "output_type": "stream",
     "text": [
      "\t Loss: 14.726,\tTrain : 96.45%(96.45%),\tTest : 95.58%(95.73%),\tCurrent Time: 20250917-200344\n"
     ]
    },
    {
     "name": "stderr",
     "output_type": "stream",
     "text": [
      "Epoch 23/50:: 100%|\u001b[34m███████████████████\u001b[0m| 120/120 [00:03<00:00, 37.09batch/s, loss=0.121136]\u001b[0m\n"
     ]
    },
    {
     "name": "stdout",
     "output_type": "stream",
     "text": [
      "\t Loss: 14.536,\tTrain : 96.49%(96.49%),\tTest : 95.70%(95.73%),\tCurrent Time: 20250917-200347\n"
     ]
    },
    {
     "name": "stderr",
     "output_type": "stream",
     "text": [
      "Epoch 24/50:: 100%|\u001b[34m███████████████████\u001b[0m| 120/120 [00:03<00:00, 37.19batch/s, loss=0.120882]\u001b[0m\n"
     ]
    },
    {
     "name": "stdout",
     "output_type": "stream",
     "text": [
      "\t Loss: 14.506,\tTrain : 96.45%(96.49%),\tTest : 95.82%(95.82%),\tCurrent Time: 20250917-200351\n"
     ]
    },
    {
     "name": "stderr",
     "output_type": "stream",
     "text": [
      "Epoch 25/50:: 100%|\u001b[34m███████████████████\u001b[0m| 120/120 [00:03<00:00, 37.04batch/s, loss=0.111816]\u001b[0m\n"
     ]
    },
    {
     "name": "stdout",
     "output_type": "stream",
     "text": [
      "\t Loss: 13.418,\tTrain : 96.70%(96.70%),\tTest : 95.79%(95.82%),\tCurrent Time: 20250917-200354\n"
     ]
    },
    {
     "name": "stderr",
     "output_type": "stream",
     "text": [
      "Epoch 26/50:: 100%|\u001b[34m███████████████████\u001b[0m| 120/120 [00:03<00:00, 36.97batch/s, loss=0.110851]\u001b[0m\n"
     ]
    },
    {
     "name": "stdout",
     "output_type": "stream",
     "text": [
      "\t Loss: 13.302,\tTrain : 96.64%(96.70%),\tTest : 95.65%(95.82%),\tCurrent Time: 20250917-200357\n"
     ]
    },
    {
     "name": "stderr",
     "output_type": "stream",
     "text": [
      "Epoch 27/50:: 100%|\u001b[34m███████████████████\u001b[0m| 120/120 [00:03<00:00, 37.17batch/s, loss=0.115181]\u001b[0m\n"
     ]
    },
    {
     "name": "stdout",
     "output_type": "stream",
     "text": [
      "\t Loss: 13.822,\tTrain : 96.55%(96.70%),\tTest : 95.80%(95.82%),\tCurrent Time: 20250917-200401\n"
     ]
    },
    {
     "name": "stderr",
     "output_type": "stream",
     "text": [
      "Epoch 28/50:: 100%|\u001b[34m███████████████████\u001b[0m| 120/120 [00:03<00:00, 37.12batch/s, loss=0.106148]\u001b[0m\n"
     ]
    },
    {
     "name": "stdout",
     "output_type": "stream",
     "text": [
      "\t Loss: 12.738,\tTrain : 96.82%(96.82%),\tTest : 95.75%(95.82%),\tCurrent Time: 20250917-200404\n"
     ]
    },
    {
     "name": "stderr",
     "output_type": "stream",
     "text": [
      "Epoch 29/50:: 100%|\u001b[34m███████████████████\u001b[0m| 120/120 [00:03<00:00, 37.24batch/s, loss=0.102571]\u001b[0m\n"
     ]
    },
    {
     "name": "stdout",
     "output_type": "stream",
     "text": [
      "\t Loss: 12.308,\tTrain : 96.93%(96.93%),\tTest : 95.86%(95.86%),\tCurrent Time: 20250917-200407\n"
     ]
    },
    {
     "name": "stderr",
     "output_type": "stream",
     "text": [
      "Epoch 30/50:: 100%|\u001b[34m███████████████████\u001b[0m| 120/120 [00:03<00:00, 37.13batch/s, loss=0.097977]\u001b[0m\n"
     ]
    },
    {
     "name": "stdout",
     "output_type": "stream",
     "text": [
      "\t Loss: 11.757,\tTrain : 97.03%(97.03%),\tTest : 96.04%(96.04%),\tCurrent Time: 20250917-200410\n"
     ]
    },
    {
     "name": "stderr",
     "output_type": "stream",
     "text": [
      "Epoch 31/50:: 100%|\u001b[34m███████████████████\u001b[0m| 120/120 [00:03<00:00, 36.49batch/s, loss=0.095587]\u001b[0m\n"
     ]
    },
    {
     "name": "stdout",
     "output_type": "stream",
     "text": [
      "\t Loss: 11.470,\tTrain : 97.17%(97.17%),\tTest : 96.04%(96.04%),\tCurrent Time: 20250917-200414\n"
     ]
    },
    {
     "name": "stderr",
     "output_type": "stream",
     "text": [
      "Epoch 32/50:: 100%|\u001b[34m███████████████████\u001b[0m| 120/120 [00:03<00:00, 37.24batch/s, loss=0.090148]\u001b[0m\n"
     ]
    },
    {
     "name": "stdout",
     "output_type": "stream",
     "text": [
      "\t Loss: 10.818,\tTrain : 97.34%(97.34%),\tTest : 96.09%(96.09%),\tCurrent Time: 20250917-200417\n"
     ]
    },
    {
     "name": "stderr",
     "output_type": "stream",
     "text": [
      "Epoch 33/50:: 100%|\u001b[34m███████████████████\u001b[0m| 120/120 [00:03<00:00, 36.83batch/s, loss=0.088437]\u001b[0m\n"
     ]
    },
    {
     "name": "stdout",
     "output_type": "stream",
     "text": [
      "\t Loss: 10.612,\tTrain : 97.36%(97.36%),\tTest : 96.05%(96.09%),\tCurrent Time: 20250917-200420\n"
     ]
    },
    {
     "name": "stderr",
     "output_type": "stream",
     "text": [
      "Epoch 34/50:: 100%|\u001b[34m███████████████████\u001b[0m| 120/120 [00:03<00:00, 37.22batch/s, loss=0.085214]\u001b[0m\n"
     ]
    },
    {
     "name": "stdout",
     "output_type": "stream",
     "text": [
      "\t Loss: 10.226,\tTrain : 97.48%(97.48%),\tTest : 96.00%(96.09%),\tCurrent Time: 20250917-200424\n"
     ]
    },
    {
     "name": "stderr",
     "output_type": "stream",
     "text": [
      "Epoch 35/50:: 100%|\u001b[34m███████████████████\u001b[0m| 120/120 [00:03<00:00, 37.27batch/s, loss=0.085736]\u001b[0m\n"
     ]
    },
    {
     "name": "stdout",
     "output_type": "stream",
     "text": [
      "\t Loss: 10.288,\tTrain : 97.39%(97.48%),\tTest : 95.98%(96.09%),\tCurrent Time: 20250917-200427\n"
     ]
    },
    {
     "name": "stderr",
     "output_type": "stream",
     "text": [
      "Epoch 36/50:: 100%|\u001b[34m███████████████████\u001b[0m| 120/120 [00:03<00:00, 36.81batch/s, loss=0.077997]\u001b[0m\n"
     ]
    },
    {
     "name": "stdout",
     "output_type": "stream",
     "text": [
      "\t Loss: 9.360,\tTrain : 97.68%(97.68%),\tTest : 96.08%(96.09%),\tCurrent Time: 20250917-200430\n"
     ]
    },
    {
     "name": "stderr",
     "output_type": "stream",
     "text": [
      "Epoch 37/50:: 100%|\u001b[34m███████████████████\u001b[0m| 120/120 [00:03<00:00, 37.12batch/s, loss=0.081273]\u001b[0m\n"
     ]
    },
    {
     "name": "stdout",
     "output_type": "stream",
     "text": [
      "\t Loss: 9.753,\tTrain : 97.52%(97.68%),\tTest : 96.02%(96.09%),\tCurrent Time: 20250917-200434\n"
     ]
    },
    {
     "name": "stderr",
     "output_type": "stream",
     "text": [
      "Epoch 38/50:: 100%|\u001b[34m███████████████████\u001b[0m| 120/120 [00:03<00:00, 37.11batch/s, loss=0.075260]\u001b[0m\n"
     ]
    },
    {
     "name": "stdout",
     "output_type": "stream",
     "text": [
      "\t Loss: 9.031,\tTrain : 97.71%(97.71%),\tTest : 96.20%(96.20%),\tCurrent Time: 20250917-200437\n"
     ]
    },
    {
     "name": "stderr",
     "output_type": "stream",
     "text": [
      "Epoch 39/50:: 100%|\u001b[34m███████████████████\u001b[0m| 120/120 [00:03<00:00, 37.14batch/s, loss=0.072743]\u001b[0m\n"
     ]
    },
    {
     "name": "stdout",
     "output_type": "stream",
     "text": [
      "\t Loss: 8.729,\tTrain : 97.77%(97.77%),\tTest : 96.32%(96.32%),\tCurrent Time: 20250917-200440\n"
     ]
    },
    {
     "name": "stderr",
     "output_type": "stream",
     "text": [
      "Epoch 40/50:: 100%|\u001b[34m███████████████████\u001b[0m| 120/120 [00:03<00:00, 37.03batch/s, loss=0.071910]\u001b[0m\n"
     ]
    },
    {
     "name": "stdout",
     "output_type": "stream",
     "text": [
      "\t Loss: 8.629,\tTrain : 97.81%(97.81%),\tTest : 96.43%(96.43%),\tCurrent Time: 20250917-200444\n"
     ]
    },
    {
     "name": "stderr",
     "output_type": "stream",
     "text": [
      "Epoch 41/50:: 100%|\u001b[34m███████████████████\u001b[0m| 120/120 [00:03<00:00, 37.20batch/s, loss=0.070578]\u001b[0m\n"
     ]
    },
    {
     "name": "stdout",
     "output_type": "stream",
     "text": [
      "\t Loss: 8.469,\tTrain : 97.83%(97.83%),\tTest : 96.53%(96.53%),\tCurrent Time: 20250917-200447\n"
     ]
    },
    {
     "name": "stderr",
     "output_type": "stream",
     "text": [
      "Epoch 42/50:: 100%|\u001b[34m███████████████████\u001b[0m| 120/120 [00:03<00:00, 37.01batch/s, loss=0.069638]\u001b[0m\n"
     ]
    },
    {
     "name": "stdout",
     "output_type": "stream",
     "text": [
      "\t Loss: 8.357,\tTrain : 97.91%(97.91%),\tTest : 96.39%(96.53%),\tCurrent Time: 20250917-200450\n"
     ]
    },
    {
     "name": "stderr",
     "output_type": "stream",
     "text": [
      "Epoch 43/50:: 100%|\u001b[34m███████████████████\u001b[0m| 120/120 [00:03<00:00, 37.08batch/s, loss=0.069321]\u001b[0m\n"
     ]
    },
    {
     "name": "stdout",
     "output_type": "stream",
     "text": [
      "\t Loss: 8.319,\tTrain : 97.83%(97.91%),\tTest : 96.52%(96.53%),\tCurrent Time: 20250917-200454\n"
     ]
    },
    {
     "name": "stderr",
     "output_type": "stream",
     "text": [
      "Epoch 44/50:: 100%|\u001b[34m███████████████████\u001b[0m| 120/120 [00:03<00:00, 37.15batch/s, loss=0.065242]\u001b[0m\n"
     ]
    },
    {
     "name": "stdout",
     "output_type": "stream",
     "text": [
      "\t Loss: 7.829,\tTrain : 97.98%(97.98%),\tTest : 96.29%(96.53%),\tCurrent Time: 20250917-200457\n"
     ]
    },
    {
     "name": "stderr",
     "output_type": "stream",
     "text": [
      "Epoch 45/50:: 100%|\u001b[34m███████████████████\u001b[0m| 120/120 [00:03<00:00, 37.26batch/s, loss=0.061721]\u001b[0m\n"
     ]
    },
    {
     "name": "stdout",
     "output_type": "stream",
     "text": [
      "\t Loss: 7.407,\tTrain : 98.16%(98.16%),\tTest : 96.37%(96.53%),\tCurrent Time: 20250917-200500\n"
     ]
    },
    {
     "name": "stderr",
     "output_type": "stream",
     "text": [
      "Epoch 46/50:: 100%|\u001b[34m███████████████████\u001b[0m| 120/120 [00:03<00:00, 37.19batch/s, loss=0.062834]\u001b[0m\n"
     ]
    },
    {
     "name": "stdout",
     "output_type": "stream",
     "text": [
      "\t Loss: 7.540,\tTrain : 98.06%(98.16%),\tTest : 96.45%(96.53%),\tCurrent Time: 20250917-200504\n"
     ]
    },
    {
     "name": "stderr",
     "output_type": "stream",
     "text": [
      "Epoch 47/50:: 100%|\u001b[34m███████████████████\u001b[0m| 120/120 [00:03<00:00, 36.91batch/s, loss=0.061607]\u001b[0m\n"
     ]
    },
    {
     "name": "stdout",
     "output_type": "stream",
     "text": [
      "\t Loss: 7.393,\tTrain : 98.08%(98.16%),\tTest : 96.31%(96.53%),\tCurrent Time: 20250917-200507\n"
     ]
    },
    {
     "name": "stderr",
     "output_type": "stream",
     "text": [
      "Epoch 48/50:: 100%|\u001b[34m███████████████████\u001b[0m| 120/120 [00:03<00:00, 37.06batch/s, loss=0.058984]\u001b[0m\n"
     ]
    },
    {
     "name": "stdout",
     "output_type": "stream",
     "text": [
      "\t Loss: 7.078,\tTrain : 98.17%(98.17%),\tTest : 96.44%(96.53%),\tCurrent Time: 20250917-200510\n"
     ]
    },
    {
     "name": "stderr",
     "output_type": "stream",
     "text": [
      "Epoch 49/50:: 100%|\u001b[34m███████████████████\u001b[0m| 120/120 [00:03<00:00, 37.15batch/s, loss=0.056691]\u001b[0m\n"
     ]
    },
    {
     "name": "stdout",
     "output_type": "stream",
     "text": [
      "\t Loss: 6.803,\tTrain : 98.26%(98.26%),\tTest : 96.59%(96.59%),\tCurrent Time: 20250917-200514\n"
     ]
    },
    {
     "name": "stderr",
     "output_type": "stream",
     "text": [
      "Epoch 50/50:: 100%|\u001b[34m███████████████████\u001b[0m| 120/120 [00:03<00:00, 36.99batch/s, loss=0.056544]\u001b[0m\n"
     ]
    },
    {
     "name": "stdout",
     "output_type": "stream",
     "text": [
      "\t Loss: 6.785,\tTrain : 98.23%(98.26%),\tTest : 96.38%(96.59%),\tCurrent Time: 20250917-200517\n",
      "First_asymm_AG_N-HL_resP-EP_L10-P1-MNIST_EP_b_sc0.1- Time: 20250917-200517, Epochs: 50, Learning Rate: 0.0005, Best: 98.26%  96.59%\n",
      "\n",
      "[[0 1 0 0 0 0 0 0 0 0 0 0]\n",
      " [0 0 1 1 1 1 1 1 1 1 1 0]\n",
      " [0 1 0 1 1 1 1 1 1 1 1 0]\n",
      " [0 1 1 0 1 1 1 1 1 1 1 0]\n",
      " [0 1 1 1 0 1 1 1 1 1 1 0]\n",
      " [0 1 1 1 1 0 1 1 1 1 1 0]\n",
      " [0 1 1 1 1 1 0 1 1 1 1 0]\n",
      " [0 1 1 1 1 1 1 0 1 1 1 0]\n",
      " [0 1 1 1 1 1 1 1 0 1 1 0]\n",
      " [0 1 1 1 1 1 1 1 1 0 1 0]\n",
      " [0 1 1 1 1 1 1 1 1 1 0 1]\n",
      " [0 0 0 0 0 0 0 0 0 0 1 0]]\n",
      "First_asymm_AG_N-HL_resP-EP_L10-P1-MNIST_EP_b_sc0.1-\n"
     ]
    },
    {
     "name": "stderr",
     "output_type": "stream",
     "text": [
      "Epoch 1/50:: 100%|\u001b[34m████████████████████\u001b[0m| 120/120 [00:03<00:00, 35.13batch/s, loss=2.300653]\u001b[0m\n"
     ]
    },
    {
     "name": "stdout",
     "output_type": "stream",
     "text": [
      "\t Loss: 276.078,\tTrain : 23.80%(23.80%),\tTest : 41.02%(41.02%),\tCurrent Time: 20250917-200525\n"
     ]
    },
    {
     "name": "stderr",
     "output_type": "stream",
     "text": [
      "Epoch 2/50:: 100%|\u001b[34m████████████████████\u001b[0m| 120/120 [00:03<00:00, 36.99batch/s, loss=1.112048]\u001b[0m\n"
     ]
    },
    {
     "name": "stdout",
     "output_type": "stream",
     "text": [
      "\t Loss: 133.446,\tTrain : 70.49%(70.49%),\tTest : 85.93%(85.93%),\tCurrent Time: 20250917-200528\n"
     ]
    },
    {
     "name": "stderr",
     "output_type": "stream",
     "text": [
      "Epoch 3/50:: 100%|\u001b[34m████████████████████\u001b[0m| 120/120 [00:03<00:00, 37.20batch/s, loss=0.549242]\u001b[0m\n"
     ]
    },
    {
     "name": "stdout",
     "output_type": "stream",
     "text": [
      "\t Loss: 65.909,\tTrain : 87.83%(87.83%),\tTest : 89.71%(89.71%),\tCurrent Time: 20250917-200531\n"
     ]
    },
    {
     "name": "stderr",
     "output_type": "stream",
     "text": [
      "Epoch 4/50:: 100%|\u001b[34m████████████████████\u001b[0m| 120/120 [00:03<00:00, 37.24batch/s, loss=0.393729]\u001b[0m\n"
     ]
    },
    {
     "name": "stdout",
     "output_type": "stream",
     "text": [
      "\t Loss: 47.247,\tTrain : 90.36%(90.36%),\tTest : 90.87%(90.87%),\tCurrent Time: 20250917-200535\n"
     ]
    },
    {
     "name": "stderr",
     "output_type": "stream",
     "text": [
      "Epoch 5/50:: 100%|\u001b[34m████████████████████\u001b[0m| 120/120 [00:03<00:00, 37.18batch/s, loss=0.342801]\u001b[0m\n"
     ]
    },
    {
     "name": "stdout",
     "output_type": "stream",
     "text": [
      "\t Loss: 41.136,\tTrain : 91.24%(91.24%),\tTest : 91.76%(91.76%),\tCurrent Time: 20250917-200538\n"
     ]
    },
    {
     "name": "stderr",
     "output_type": "stream",
     "text": [
      "Epoch 6/50:: 100%|\u001b[34m████████████████████\u001b[0m| 120/120 [00:03<00:00, 37.23batch/s, loss=0.301564]\u001b[0m\n"
     ]
    },
    {
     "name": "stdout",
     "output_type": "stream",
     "text": [
      "\t Loss: 36.188,\tTrain : 92.13%(92.13%),\tTest : 92.58%(92.58%),\tCurrent Time: 20250917-200541\n"
     ]
    },
    {
     "name": "stderr",
     "output_type": "stream",
     "text": [
      "Epoch 7/50:: 100%|\u001b[34m████████████████████\u001b[0m| 120/120 [00:03<00:00, 37.07batch/s, loss=0.275440]\u001b[0m\n"
     ]
    },
    {
     "name": "stdout",
     "output_type": "stream",
     "text": [
      "\t Loss: 33.053,\tTrain : 92.76%(92.76%),\tTest : 92.66%(92.66%),\tCurrent Time: 20250917-200545\n"
     ]
    },
    {
     "name": "stderr",
     "output_type": "stream",
     "text": [
      "Epoch 8/50:: 100%|\u001b[34m████████████████████\u001b[0m| 120/120 [00:03<00:00, 37.21batch/s, loss=0.252528]\u001b[0m\n"
     ]
    },
    {
     "name": "stdout",
     "output_type": "stream",
     "text": [
      "\t Loss: 30.303,\tTrain : 93.24%(93.24%),\tTest : 93.31%(93.31%),\tCurrent Time: 20250917-200548\n"
     ]
    },
    {
     "name": "stderr",
     "output_type": "stream",
     "text": [
      "Epoch 9/50:: 100%|\u001b[34m████████████████████\u001b[0m| 120/120 [00:03<00:00, 37.13batch/s, loss=0.237507]\u001b[0m\n"
     ]
    },
    {
     "name": "stdout",
     "output_type": "stream",
     "text": [
      "\t Loss: 28.501,\tTrain : 93.49%(93.49%),\tTest : 93.13%(93.31%),\tCurrent Time: 20250917-200551\n"
     ]
    },
    {
     "name": "stderr",
     "output_type": "stream",
     "text": [
      "Epoch 10/50:: 100%|\u001b[34m███████████████████\u001b[0m| 120/120 [00:03<00:00, 37.07batch/s, loss=0.228109]\u001b[0m\n"
     ]
    },
    {
     "name": "stdout",
     "output_type": "stream",
     "text": [
      "\t Loss: 27.373,\tTrain : 93.81%(93.81%),\tTest : 93.94%(93.94%),\tCurrent Time: 20250917-200555\n"
     ]
    },
    {
     "name": "stderr",
     "output_type": "stream",
     "text": [
      "Epoch 11/50:: 100%|\u001b[34m███████████████████\u001b[0m| 120/120 [00:03<00:00, 37.19batch/s, loss=0.209743]\u001b[0m\n"
     ]
    },
    {
     "name": "stdout",
     "output_type": "stream",
     "text": [
      "\t Loss: 25.169,\tTrain : 94.22%(94.22%),\tTest : 93.94%(93.94%),\tCurrent Time: 20250917-200558\n"
     ]
    },
    {
     "name": "stderr",
     "output_type": "stream",
     "text": [
      "Epoch 12/50:: 100%|\u001b[34m███████████████████\u001b[0m| 120/120 [00:03<00:00, 37.08batch/s, loss=0.201020]\u001b[0m\n"
     ]
    },
    {
     "name": "stdout",
     "output_type": "stream",
     "text": [
      "\t Loss: 24.122,\tTrain : 94.37%(94.37%),\tTest : 94.05%(94.05%),\tCurrent Time: 20250917-200601\n"
     ]
    },
    {
     "name": "stderr",
     "output_type": "stream",
     "text": [
      "Epoch 13/50:: 100%|\u001b[34m███████████████████\u001b[0m| 120/120 [00:03<00:00, 37.18batch/s, loss=0.187791]\u001b[0m\n"
     ]
    },
    {
     "name": "stdout",
     "output_type": "stream",
     "text": [
      "\t Loss: 22.535,\tTrain : 94.71%(94.71%),\tTest : 94.46%(94.46%),\tCurrent Time: 20250917-200605\n"
     ]
    },
    {
     "name": "stderr",
     "output_type": "stream",
     "text": [
      "Epoch 14/50:: 100%|\u001b[34m███████████████████\u001b[0m| 120/120 [00:03<00:00, 37.22batch/s, loss=0.186014]\u001b[0m\n"
     ]
    },
    {
     "name": "stdout",
     "output_type": "stream",
     "text": [
      "\t Loss: 22.322,\tTrain : 94.75%(94.75%),\tTest : 94.08%(94.46%),\tCurrent Time: 20250917-200608\n"
     ]
    },
    {
     "name": "stderr",
     "output_type": "stream",
     "text": [
      "Epoch 15/50:: 100%|\u001b[34m███████████████████\u001b[0m| 120/120 [00:03<00:00, 37.02batch/s, loss=0.180995]\u001b[0m\n"
     ]
    },
    {
     "name": "stdout",
     "output_type": "stream",
     "text": [
      "\t Loss: 21.719,\tTrain : 94.84%(94.84%),\tTest : 94.74%(94.74%),\tCurrent Time: 20250917-200611\n"
     ]
    },
    {
     "name": "stderr",
     "output_type": "stream",
     "text": [
      "Epoch 16/50:: 100%|\u001b[34m███████████████████\u001b[0m| 120/120 [00:03<00:00, 37.06batch/s, loss=0.171644]\u001b[0m\n"
     ]
    },
    {
     "name": "stdout",
     "output_type": "stream",
     "text": [
      "\t Loss: 20.597,\tTrain : 95.09%(95.09%),\tTest : 94.58%(94.74%),\tCurrent Time: 20250917-200615\n"
     ]
    },
    {
     "name": "stderr",
     "output_type": "stream",
     "text": [
      "Epoch 17/50:: 100%|\u001b[34m███████████████████\u001b[0m| 120/120 [00:03<00:00, 37.34batch/s, loss=0.162105]\u001b[0m\n"
     ]
    },
    {
     "name": "stdout",
     "output_type": "stream",
     "text": [
      "\t Loss: 19.453,\tTrain : 95.42%(95.42%),\tTest : 94.75%(94.75%),\tCurrent Time: 20250917-200618\n"
     ]
    },
    {
     "name": "stderr",
     "output_type": "stream",
     "text": [
      "Epoch 18/50:: 100%|\u001b[34m███████████████████\u001b[0m| 120/120 [00:03<00:00, 37.14batch/s, loss=0.150337]\u001b[0m\n"
     ]
    },
    {
     "name": "stdout",
     "output_type": "stream",
     "text": [
      "\t Loss: 18.040,\tTrain : 95.65%(95.65%),\tTest : 95.02%(95.02%),\tCurrent Time: 20250917-200621\n"
     ]
    },
    {
     "name": "stderr",
     "output_type": "stream",
     "text": [
      "Epoch 19/50:: 100%|\u001b[34m███████████████████\u001b[0m| 120/120 [00:03<00:00, 37.18batch/s, loss=0.146700]\u001b[0m\n"
     ]
    },
    {
     "name": "stdout",
     "output_type": "stream",
     "text": [
      "\t Loss: 17.604,\tTrain : 95.83%(95.83%),\tTest : 95.24%(95.24%),\tCurrent Time: 20250917-200625\n"
     ]
    },
    {
     "name": "stderr",
     "output_type": "stream",
     "text": [
      "Epoch 20/50:: 100%|\u001b[34m███████████████████\u001b[0m| 120/120 [00:03<00:00, 37.17batch/s, loss=0.144910]\u001b[0m\n"
     ]
    },
    {
     "name": "stdout",
     "output_type": "stream",
     "text": [
      "\t Loss: 17.389,\tTrain : 95.91%(95.91%),\tTest : 95.38%(95.38%),\tCurrent Time: 20250917-200628\n"
     ]
    },
    {
     "name": "stderr",
     "output_type": "stream",
     "text": [
      "Epoch 21/50:: 100%|\u001b[34m███████████████████\u001b[0m| 120/120 [00:03<00:00, 37.14batch/s, loss=0.138543]\u001b[0m\n"
     ]
    },
    {
     "name": "stdout",
     "output_type": "stream",
     "text": [
      "\t Loss: 16.625,\tTrain : 96.04%(96.04%),\tTest : 95.58%(95.58%),\tCurrent Time: 20250917-200631\n"
     ]
    },
    {
     "name": "stderr",
     "output_type": "stream",
     "text": [
      "Epoch 22/50:: 100%|\u001b[34m███████████████████\u001b[0m| 120/120 [00:03<00:00, 37.33batch/s, loss=0.127530]\u001b[0m\n"
     ]
    },
    {
     "name": "stdout",
     "output_type": "stream",
     "text": [
      "\t Loss: 15.304,\tTrain : 96.35%(96.35%),\tTest : 95.64%(95.64%),\tCurrent Time: 20250917-200634\n"
     ]
    },
    {
     "name": "stderr",
     "output_type": "stream",
     "text": [
      "Epoch 23/50:: 100%|\u001b[34m███████████████████\u001b[0m| 120/120 [00:03<00:00, 36.95batch/s, loss=0.124926]\u001b[0m\n"
     ]
    },
    {
     "name": "stdout",
     "output_type": "stream",
     "text": [
      "\t Loss: 14.991,\tTrain : 96.36%(96.36%),\tTest : 95.55%(95.64%),\tCurrent Time: 20250917-200638\n"
     ]
    },
    {
     "name": "stderr",
     "output_type": "stream",
     "text": [
      "Epoch 24/50:: 100%|\u001b[34m███████████████████\u001b[0m| 120/120 [00:03<00:00, 37.06batch/s, loss=0.125528]\u001b[0m\n"
     ]
    },
    {
     "name": "stdout",
     "output_type": "stream",
     "text": [
      "\t Loss: 15.063,\tTrain : 96.28%(96.36%),\tTest : 95.38%(95.64%),\tCurrent Time: 20250917-200641\n"
     ]
    },
    {
     "name": "stderr",
     "output_type": "stream",
     "text": [
      "Epoch 25/50:: 100%|\u001b[34m███████████████████\u001b[0m| 120/120 [00:03<00:00, 37.06batch/s, loss=0.124836]\u001b[0m\n"
     ]
    },
    {
     "name": "stdout",
     "output_type": "stream",
     "text": [
      "\t Loss: 14.980,\tTrain : 96.33%(96.36%),\tTest : 95.82%(95.82%),\tCurrent Time: 20250917-200644\n"
     ]
    },
    {
     "name": "stderr",
     "output_type": "stream",
     "text": [
      "Epoch 26/50:: 100%|\u001b[34m███████████████████\u001b[0m| 120/120 [00:03<00:00, 37.17batch/s, loss=0.113457]\u001b[0m\n"
     ]
    },
    {
     "name": "stdout",
     "output_type": "stream",
     "text": [
      "\t Loss: 13.615,\tTrain : 96.69%(96.69%),\tTest : 95.70%(95.82%),\tCurrent Time: 20250917-200648\n"
     ]
    },
    {
     "name": "stderr",
     "output_type": "stream",
     "text": [
      "Epoch 27/50:: 100%|\u001b[34m███████████████████\u001b[0m| 120/120 [00:03<00:00, 37.15batch/s, loss=0.111905]\u001b[0m\n"
     ]
    },
    {
     "name": "stdout",
     "output_type": "stream",
     "text": [
      "\t Loss: 13.429,\tTrain : 96.73%(96.73%),\tTest : 95.85%(95.85%),\tCurrent Time: 20250917-200651\n"
     ]
    },
    {
     "name": "stderr",
     "output_type": "stream",
     "text": [
      "Epoch 28/50:: 100%|\u001b[34m███████████████████\u001b[0m| 120/120 [00:03<00:00, 37.27batch/s, loss=0.109080]\u001b[0m\n"
     ]
    },
    {
     "name": "stdout",
     "output_type": "stream",
     "text": [
      "\t Loss: 13.090,\tTrain : 96.80%(96.80%),\tTest : 95.73%(95.85%),\tCurrent Time: 20250917-200654\n"
     ]
    },
    {
     "name": "stderr",
     "output_type": "stream",
     "text": [
      "Epoch 29/50:: 100%|\u001b[34m███████████████████\u001b[0m| 120/120 [00:03<00:00, 37.13batch/s, loss=1.398804]\u001b[0m\n"
     ]
    },
    {
     "name": "stdout",
     "output_type": "stream",
     "text": [
      "\t Loss: 167.857,\tTrain : 61.02%(96.80%),\tTest : 46.04%(95.85%),\tCurrent Time: 20250917-200658\n"
     ]
    },
    {
     "name": "stderr",
     "output_type": "stream",
     "text": [
      "Epoch 30/50:: 100%|\u001b[34m███████████████████\u001b[0m| 120/120 [00:03<00:00, 37.20batch/s, loss=1.313301]\u001b[0m\n"
     ]
    },
    {
     "name": "stdout",
     "output_type": "stream",
     "text": [
      "\t Loss: 157.596,\tTrain : 56.49%(96.80%),\tTest : 64.87%(95.85%),\tCurrent Time: 20250917-200701\n"
     ]
    },
    {
     "name": "stderr",
     "output_type": "stream",
     "text": [
      "Epoch 31/50:: 100%|\u001b[34m███████████████████\u001b[0m| 120/120 [00:03<00:00, 37.15batch/s, loss=1.109078]\u001b[0m\n"
     ]
    },
    {
     "name": "stdout",
     "output_type": "stream",
     "text": [
      "\t Loss: 133.089,\tTrain : 62.17%(96.80%),\tTest : 53.59%(95.85%),\tCurrent Time: 20250917-200704\n"
     ]
    },
    {
     "name": "stderr",
     "output_type": "stream",
     "text": [
      "Epoch 32/50:: 100%|\u001b[34m███████████████████\u001b[0m| 120/120 [00:03<00:00, 37.32batch/s, loss=1.419835]\u001b[0m\n"
     ]
    },
    {
     "name": "stdout",
     "output_type": "stream",
     "text": [
      "\t Loss: 170.380,\tTrain : 50.36%(96.80%),\tTest : 53.99%(95.85%),\tCurrent Time: 20250917-200708\n"
     ]
    },
    {
     "name": "stderr",
     "output_type": "stream",
     "text": [
      "Epoch 33/50:: 100%|\u001b[34m███████████████████\u001b[0m| 120/120 [00:03<00:00, 37.22batch/s, loss=1.267882]\u001b[0m\n"
     ]
    },
    {
     "name": "stdout",
     "output_type": "stream",
     "text": [
      "\t Loss: 152.146,\tTrain : 56.93%(96.80%),\tTest : 64.20%(95.85%),\tCurrent Time: 20250917-200711\n"
     ]
    },
    {
     "name": "stderr",
     "output_type": "stream",
     "text": [
      "Epoch 34/50:: 100%|\u001b[34m███████████████████\u001b[0m| 120/120 [00:03<00:00, 37.19batch/s, loss=1.166503]\u001b[0m\n"
     ]
    },
    {
     "name": "stdout",
     "output_type": "stream",
     "text": [
      "\t Loss: 139.980,\tTrain : 65.09%(96.80%),\tTest : 66.47%(95.85%),\tCurrent Time: 20250917-200714\n"
     ]
    },
    {
     "name": "stderr",
     "output_type": "stream",
     "text": [
      "Epoch 35/50:: 100%|\u001b[34m███████████████████\u001b[0m| 120/120 [00:03<00:00, 37.14batch/s, loss=1.118944]\u001b[0m\n"
     ]
    },
    {
     "name": "stdout",
     "output_type": "stream",
     "text": [
      "\t Loss: 134.273,\tTrain : 66.39%(96.80%),\tTest : 69.00%(95.85%),\tCurrent Time: 20250917-200718\n"
     ]
    },
    {
     "name": "stderr",
     "output_type": "stream",
     "text": [
      "Epoch 36/50:: 100%|\u001b[34m███████████████████\u001b[0m| 120/120 [00:03<00:00, 37.16batch/s, loss=0.905365]\u001b[0m\n"
     ]
    },
    {
     "name": "stdout",
     "output_type": "stream",
     "text": [
      "\t Loss: 108.644,\tTrain : 73.67%(96.80%),\tTest : 73.20%(95.85%),\tCurrent Time: 20250917-200721\n"
     ]
    },
    {
     "name": "stderr",
     "output_type": "stream",
     "text": [
      "Epoch 37/50:: 100%|\u001b[34m███████████████████\u001b[0m| 120/120 [00:03<00:00, 37.19batch/s, loss=0.797398]\u001b[0m\n"
     ]
    },
    {
     "name": "stdout",
     "output_type": "stream",
     "text": [
      "\t Loss: 95.688,\tTrain : 75.55%(96.80%),\tTest : 82.01%(95.85%),\tCurrent Time: 20250917-200724\n"
     ]
    },
    {
     "name": "stderr",
     "output_type": "stream",
     "text": [
      "Epoch 38/50:: 100%|\u001b[34m███████████████████\u001b[0m| 120/120 [00:03<00:00, 37.25batch/s, loss=0.566947]\u001b[0m\n"
     ]
    },
    {
     "name": "stdout",
     "output_type": "stream",
     "text": [
      "\t Loss: 68.034,\tTrain : 84.25%(96.80%),\tTest : 87.86%(95.85%),\tCurrent Time: 20250917-200727\n"
     ]
    },
    {
     "name": "stderr",
     "output_type": "stream",
     "text": [
      "Epoch 39/50:: 100%|\u001b[34m███████████████████\u001b[0m| 120/120 [00:03<00:00, 37.21batch/s, loss=0.353271]\u001b[0m\n"
     ]
    },
    {
     "name": "stdout",
     "output_type": "stream",
     "text": [
      "\t Loss: 42.393,\tTrain : 90.08%(96.80%),\tTest : 91.76%(95.85%),\tCurrent Time: 20250917-200731\n"
     ]
    },
    {
     "name": "stderr",
     "output_type": "stream",
     "text": [
      "Epoch 40/50:: 100%|\u001b[34m███████████████████\u001b[0m| 120/120 [00:03<00:00, 37.04batch/s, loss=0.265110]\u001b[0m\n"
     ]
    },
    {
     "name": "stdout",
     "output_type": "stream",
     "text": [
      "\t Loss: 31.813,\tTrain : 92.45%(96.80%),\tTest : 93.07%(95.85%),\tCurrent Time: 20250917-200734\n"
     ]
    },
    {
     "name": "stderr",
     "output_type": "stream",
     "text": [
      "Epoch 41/50:: 100%|\u001b[34m███████████████████\u001b[0m| 120/120 [00:03<00:00, 37.04batch/s, loss=0.231491]\u001b[0m\n"
     ]
    },
    {
     "name": "stdout",
     "output_type": "stream",
     "text": [
      "\t Loss: 27.779,\tTrain : 93.33%(96.80%),\tTest : 93.46%(95.85%),\tCurrent Time: 20250917-200737\n"
     ]
    },
    {
     "name": "stderr",
     "output_type": "stream",
     "text": [
      "Epoch 42/50:: 100%|\u001b[34m███████████████████\u001b[0m| 120/120 [00:03<00:00, 37.21batch/s, loss=0.209189]\u001b[0m\n"
     ]
    },
    {
     "name": "stdout",
     "output_type": "stream",
     "text": [
      "\t Loss: 25.103,\tTrain : 94.00%(96.80%),\tTest : 94.18%(95.85%),\tCurrent Time: 20250917-200741\n"
     ]
    },
    {
     "name": "stderr",
     "output_type": "stream",
     "text": [
      "Epoch 43/50:: 100%|\u001b[34m███████████████████\u001b[0m| 120/120 [00:03<00:00, 37.17batch/s, loss=0.294828]\u001b[0m\n"
     ]
    },
    {
     "name": "stdout",
     "output_type": "stream",
     "text": [
      "\t Loss: 35.379,\tTrain : 90.86%(96.80%),\tTest : 44.20%(95.85%),\tCurrent Time: 20250917-200744\n"
     ]
    },
    {
     "name": "stderr",
     "output_type": "stream",
     "text": [
      "Epoch 44/50:: 100%|\u001b[34m███████████████████\u001b[0m| 120/120 [00:03<00:00, 37.38batch/s, loss=2.115660]\u001b[0m\n"
     ]
    },
    {
     "name": "stdout",
     "output_type": "stream",
     "text": [
      "\t Loss: 253.879,\tTrain : 21.39%(96.80%),\tTest : 19.15%(95.85%),\tCurrent Time: 20250917-200747\n"
     ]
    },
    {
     "name": "stderr",
     "output_type": "stream",
     "text": [
      "Epoch 45/50:: 100%|\u001b[34m███████████████████\u001b[0m| 120/120 [00:03<00:00, 37.02batch/s, loss=2.061114]\u001b[0m\n"
     ]
    },
    {
     "name": "stdout",
     "output_type": "stream",
     "text": [
      "\t Loss: 247.334,\tTrain : 22.36%(96.80%),\tTest : 24.97%(95.85%),\tCurrent Time: 20250917-200751\n"
     ]
    },
    {
     "name": "stderr",
     "output_type": "stream",
     "text": [
      "Epoch 46/50:: 100%|\u001b[34m███████████████████\u001b[0m| 120/120 [00:03<00:00, 37.11batch/s, loss=1.965006]\u001b[0m\n"
     ]
    },
    {
     "name": "stdout",
     "output_type": "stream",
     "text": [
      "\t Loss: 235.801,\tTrain : 32.76%(96.80%),\tTest : 36.50%(95.85%),\tCurrent Time: 20250917-200754\n"
     ]
    },
    {
     "name": "stderr",
     "output_type": "stream",
     "text": [
      "Epoch 47/50:: 100%|\u001b[34m███████████████████\u001b[0m| 120/120 [00:03<00:00, 37.18batch/s, loss=1.801179]\u001b[0m\n"
     ]
    },
    {
     "name": "stdout",
     "output_type": "stream",
     "text": [
      "\t Loss: 216.142,\tTrain : 36.12%(96.80%),\tTest : 36.27%(95.85%),\tCurrent Time: 20250917-200757\n"
     ]
    },
    {
     "name": "stderr",
     "output_type": "stream",
     "text": [
      "Epoch 48/50:: 100%|\u001b[34m███████████████████\u001b[0m| 120/120 [00:03<00:00, 37.15batch/s, loss=1.686445]\u001b[0m\n"
     ]
    },
    {
     "name": "stdout",
     "output_type": "stream",
     "text": [
      "\t Loss: 202.373,\tTrain : 43.25%(96.80%),\tTest : 43.57%(95.85%),\tCurrent Time: 20250917-200801\n"
     ]
    },
    {
     "name": "stderr",
     "output_type": "stream",
     "text": [
      "Epoch 49/50:: 100%|\u001b[34m███████████████████\u001b[0m| 120/120 [00:03<00:00, 37.16batch/s, loss=1.594023]\u001b[0m\n"
     ]
    },
    {
     "name": "stdout",
     "output_type": "stream",
     "text": [
      "\t Loss: 191.283,\tTrain : 47.85%(96.80%),\tTest : 46.78%(95.85%),\tCurrent Time: 20250917-200804\n"
     ]
    },
    {
     "name": "stderr",
     "output_type": "stream",
     "text": [
      "Epoch 50/50:: 100%|\u001b[34m███████████████████\u001b[0m| 120/120 [00:03<00:00, 37.23batch/s, loss=1.513548]\u001b[0m\n"
     ]
    },
    {
     "name": "stdout",
     "output_type": "stream",
     "text": [
      "\t Loss: 181.626,\tTrain : 52.20%(96.80%),\tTest : 57.15%(95.85%),\tCurrent Time: 20250917-200807\n",
      "First_asymm_AG_N-HL_resP-EP_L10-P1-MNIST_EP_b_sc0.1- Time: 20250917-200807, Epochs: 50, Learning Rate: 0.0005, Best: 96.80%  95.85%\n",
      "\n",
      "[[0 1 0 0 0 0 0 0 0 0 0 0]\n",
      " [0 0 1 1 1 1 1 1 1 1 1 0]\n",
      " [0 1 0 1 1 1 1 1 1 1 1 0]\n",
      " [0 1 1 0 1 1 1 1 1 1 1 0]\n",
      " [0 1 1 1 0 1 1 1 1 1 1 0]\n",
      " [0 1 1 1 1 0 1 1 1 1 1 0]\n",
      " [0 1 1 1 1 1 0 1 1 1 1 0]\n",
      " [0 1 1 1 1 1 1 0 1 1 1 0]\n",
      " [0 1 1 1 1 1 1 1 0 1 1 0]\n",
      " [0 1 1 1 1 1 1 1 1 0 1 0]\n",
      " [0 1 1 1 1 1 1 1 1 1 0 1]\n",
      " [0 0 0 0 0 0 0 0 0 0 1 0]]\n",
      "First_asymm_AG_N-HL_resP-EP_L10-P1-MNIST_EP_b_sc0.1-\n"
     ]
    },
    {
     "name": "stderr",
     "output_type": "stream",
     "text": [
      "Epoch 1/50:: 100%|\u001b[34m████████████████████\u001b[0m| 120/120 [00:03<00:00, 35.15batch/s, loss=2.087733]\u001b[0m\n"
     ]
    },
    {
     "name": "stdout",
     "output_type": "stream",
     "text": [
      "\t Loss: 250.528,\tTrain : 24.95%(24.95%),\tTest : 51.60%(51.60%),\tCurrent Time: 20250917-200815\n"
     ]
    },
    {
     "name": "stderr",
     "output_type": "stream",
     "text": [
      "Epoch 2/50:: 100%|\u001b[34m████████████████████\u001b[0m| 120/120 [00:03<00:00, 37.08batch/s, loss=1.019312]\u001b[0m\n"
     ]
    },
    {
     "name": "stdout",
     "output_type": "stream",
     "text": [
      "\t Loss: 122.317,\tTrain : 71.68%(71.68%),\tTest : 84.00%(84.00%),\tCurrent Time: 20250917-200818\n"
     ]
    },
    {
     "name": "stderr",
     "output_type": "stream",
     "text": [
      "Epoch 3/50:: 100%|\u001b[34m████████████████████\u001b[0m| 120/120 [00:03<00:00, 37.29batch/s, loss=0.550711]\u001b[0m\n"
     ]
    },
    {
     "name": "stdout",
     "output_type": "stream",
     "text": [
      "\t Loss: 66.085,\tTrain : 87.02%(87.02%),\tTest : 89.50%(89.50%),\tCurrent Time: 20250917-200822\n"
     ]
    },
    {
     "name": "stderr",
     "output_type": "stream",
     "text": [
      "Epoch 4/50:: 100%|\u001b[34m████████████████████\u001b[0m| 120/120 [00:03<00:00, 37.22batch/s, loss=0.410765]\u001b[0m\n"
     ]
    },
    {
     "name": "stdout",
     "output_type": "stream",
     "text": [
      "\t Loss: 49.292,\tTrain : 89.79%(89.79%),\tTest : 90.99%(90.99%),\tCurrent Time: 20250917-200825\n"
     ]
    },
    {
     "name": "stderr",
     "output_type": "stream",
     "text": [
      "Epoch 5/50:: 100%|\u001b[34m████████████████████\u001b[0m| 120/120 [00:03<00:00, 37.07batch/s, loss=0.346924]\u001b[0m\n"
     ]
    },
    {
     "name": "stdout",
     "output_type": "stream",
     "text": [
      "\t Loss: 41.631,\tTrain : 91.00%(91.00%),\tTest : 91.59%(91.59%),\tCurrent Time: 20250917-200828\n"
     ]
    },
    {
     "name": "stderr",
     "output_type": "stream",
     "text": [
      "Epoch 6/50:: 100%|\u001b[34m████████████████████\u001b[0m| 120/120 [00:03<00:00, 37.41batch/s, loss=0.305924]\u001b[0m\n"
     ]
    },
    {
     "name": "stdout",
     "output_type": "stream",
     "text": [
      "\t Loss: 36.711,\tTrain : 91.99%(91.99%),\tTest : 92.45%(92.45%),\tCurrent Time: 20250917-200832\n"
     ]
    },
    {
     "name": "stderr",
     "output_type": "stream",
     "text": [
      "Epoch 7/50:: 100%|\u001b[34m████████████████████\u001b[0m| 120/120 [00:03<00:00, 37.19batch/s, loss=0.285255]\u001b[0m\n"
     ]
    },
    {
     "name": "stdout",
     "output_type": "stream",
     "text": [
      "\t Loss: 34.231,\tTrain : 92.41%(92.41%),\tTest : 92.19%(92.45%),\tCurrent Time: 20250917-200835\n"
     ]
    },
    {
     "name": "stderr",
     "output_type": "stream",
     "text": [
      "Epoch 8/50:: 100%|\u001b[34m████████████████████\u001b[0m| 120/120 [00:03<00:00, 37.16batch/s, loss=0.255239]\u001b[0m\n"
     ]
    },
    {
     "name": "stdout",
     "output_type": "stream",
     "text": [
      "\t Loss: 30.629,\tTrain : 93.12%(93.12%),\tTest : 93.49%(93.49%),\tCurrent Time: 20250917-200838\n"
     ]
    },
    {
     "name": "stderr",
     "output_type": "stream",
     "text": [
      "Epoch 9/50:: 100%|\u001b[34m████████████████████\u001b[0m| 120/120 [00:03<00:00, 37.13batch/s, loss=0.227036]\u001b[0m\n"
     ]
    },
    {
     "name": "stdout",
     "output_type": "stream",
     "text": [
      "\t Loss: 27.244,\tTrain : 93.83%(93.83%),\tTest : 93.70%(93.70%),\tCurrent Time: 20250917-200842\n"
     ]
    },
    {
     "name": "stderr",
     "output_type": "stream",
     "text": [
      "Epoch 10/50:: 100%|\u001b[34m███████████████████\u001b[0m| 120/120 [00:03<00:00, 37.10batch/s, loss=0.217658]\u001b[0m\n"
     ]
    },
    {
     "name": "stdout",
     "output_type": "stream",
     "text": [
      "\t Loss: 26.119,\tTrain : 94.11%(94.11%),\tTest : 93.79%(93.79%),\tCurrent Time: 20250917-200845\n"
     ]
    },
    {
     "name": "stderr",
     "output_type": "stream",
     "text": [
      "Epoch 11/50:: 100%|\u001b[34m███████████████████\u001b[0m| 120/120 [00:03<00:00, 37.13batch/s, loss=0.209262]\u001b[0m\n"
     ]
    },
    {
     "name": "stdout",
     "output_type": "stream",
     "text": [
      "\t Loss: 25.111,\tTrain : 94.29%(94.29%),\tTest : 94.65%(94.65%),\tCurrent Time: 20250917-200848\n"
     ]
    },
    {
     "name": "stderr",
     "output_type": "stream",
     "text": [
      "Epoch 12/50:: 100%|\u001b[34m███████████████████\u001b[0m| 120/120 [00:03<00:00, 36.99batch/s, loss=0.196429]\u001b[0m\n"
     ]
    },
    {
     "name": "stdout",
     "output_type": "stream",
     "text": [
      "\t Loss: 23.571,\tTrain : 94.51%(94.51%),\tTest : 94.27%(94.65%),\tCurrent Time: 20250917-200852\n"
     ]
    },
    {
     "name": "stderr",
     "output_type": "stream",
     "text": [
      "Epoch 13/50:: 100%|\u001b[34m███████████████████\u001b[0m| 120/120 [00:03<00:00, 36.71batch/s, loss=0.182118]\u001b[0m\n"
     ]
    },
    {
     "name": "stdout",
     "output_type": "stream",
     "text": [
      "\t Loss: 21.854,\tTrain : 94.91%(94.91%),\tTest : 94.67%(94.67%),\tCurrent Time: 20250917-200855\n"
     ]
    },
    {
     "name": "stderr",
     "output_type": "stream",
     "text": [
      "Epoch 14/50:: 100%|\u001b[34m███████████████████\u001b[0m| 120/120 [00:03<00:00, 37.13batch/s, loss=0.177029]\u001b[0m\n"
     ]
    },
    {
     "name": "stdout",
     "output_type": "stream",
     "text": [
      "\t Loss: 21.244,\tTrain : 95.00%(95.00%),\tTest : 94.56%(94.67%),\tCurrent Time: 20250917-200858\n"
     ]
    },
    {
     "name": "stderr",
     "output_type": "stream",
     "text": [
      "Epoch 15/50:: 100%|\u001b[34m███████████████████\u001b[0m| 120/120 [00:03<00:00, 37.01batch/s, loss=0.167348]\u001b[0m\n"
     ]
    },
    {
     "name": "stdout",
     "output_type": "stream",
     "text": [
      "\t Loss: 20.082,\tTrain : 95.24%(95.24%),\tTest : 94.65%(94.67%),\tCurrent Time: 20250917-200902\n"
     ]
    },
    {
     "name": "stderr",
     "output_type": "stream",
     "text": [
      "Epoch 16/50:: 100%|\u001b[34m███████████████████\u001b[0m| 120/120 [00:03<00:00, 37.10batch/s, loss=0.168276]\u001b[0m\n"
     ]
    },
    {
     "name": "stdout",
     "output_type": "stream",
     "text": [
      "\t Loss: 20.193,\tTrain : 95.10%(95.24%),\tTest : 94.90%(94.90%),\tCurrent Time: 20250917-200905\n"
     ]
    },
    {
     "name": "stderr",
     "output_type": "stream",
     "text": [
      "Epoch 17/50:: 100%|\u001b[34m███████████████████\u001b[0m| 120/120 [00:03<00:00, 37.26batch/s, loss=0.156646]\u001b[0m\n"
     ]
    },
    {
     "name": "stdout",
     "output_type": "stream",
     "text": [
      "\t Loss: 18.798,\tTrain : 95.54%(95.54%),\tTest : 95.18%(95.18%),\tCurrent Time: 20250917-200908\n"
     ]
    },
    {
     "name": "stderr",
     "output_type": "stream",
     "text": [
      "Epoch 18/50:: 100%|\u001b[34m███████████████████\u001b[0m| 120/120 [00:03<00:00, 37.17batch/s, loss=0.146969]\u001b[0m\n"
     ]
    },
    {
     "name": "stdout",
     "output_type": "stream",
     "text": [
      "\t Loss: 17.636,\tTrain : 95.82%(95.82%),\tTest : 95.23%(95.23%),\tCurrent Time: 20250917-200911\n"
     ]
    },
    {
     "name": "stderr",
     "output_type": "stream",
     "text": [
      "Epoch 19/50:: 100%|\u001b[34m███████████████████\u001b[0m| 120/120 [00:03<00:00, 37.00batch/s, loss=0.141721]\u001b[0m\n"
     ]
    },
    {
     "name": "stdout",
     "output_type": "stream",
     "text": [
      "\t Loss: 17.006,\tTrain : 95.92%(95.92%),\tTest : 95.25%(95.25%),\tCurrent Time: 20250917-200915\n"
     ]
    },
    {
     "name": "stderr",
     "output_type": "stream",
     "text": [
      "Epoch 20/50:: 100%|\u001b[34m███████████████████\u001b[0m| 120/120 [00:03<00:00, 37.13batch/s, loss=0.134550]\u001b[0m\n"
     ]
    },
    {
     "name": "stdout",
     "output_type": "stream",
     "text": [
      "\t Loss: 16.146,\tTrain : 96.13%(96.13%),\tTest : 95.32%(95.32%),\tCurrent Time: 20250917-200918\n"
     ]
    },
    {
     "name": "stderr",
     "output_type": "stream",
     "text": [
      "Epoch 21/50:: 100%|\u001b[34m███████████████████\u001b[0m| 120/120 [00:03<00:00, 36.94batch/s, loss=0.126610]\u001b[0m\n"
     ]
    },
    {
     "name": "stdout",
     "output_type": "stream",
     "text": [
      "\t Loss: 15.193,\tTrain : 96.33%(96.33%),\tTest : 95.72%(95.72%),\tCurrent Time: 20250917-200921\n"
     ]
    },
    {
     "name": "stderr",
     "output_type": "stream",
     "text": [
      "Epoch 22/50:: 100%|\u001b[34m███████████████████\u001b[0m| 120/120 [00:03<00:00, 37.12batch/s, loss=0.124008]\u001b[0m\n"
     ]
    },
    {
     "name": "stdout",
     "output_type": "stream",
     "text": [
      "\t Loss: 14.881,\tTrain : 96.42%(96.42%),\tTest : 95.43%(95.72%),\tCurrent Time: 20250917-200925\n"
     ]
    },
    {
     "name": "stderr",
     "output_type": "stream",
     "text": [
      "Epoch 23/50:: 100%|\u001b[34m███████████████████\u001b[0m| 120/120 [00:03<00:00, 37.25batch/s, loss=0.125516]\u001b[0m\n"
     ]
    },
    {
     "name": "stdout",
     "output_type": "stream",
     "text": [
      "\t Loss: 15.062,\tTrain : 96.33%(96.42%),\tTest : 95.62%(95.72%),\tCurrent Time: 20250917-200928\n"
     ]
    },
    {
     "name": "stderr",
     "output_type": "stream",
     "text": [
      "Epoch 24/50:: 100%|\u001b[34m███████████████████\u001b[0m| 120/120 [00:03<00:00, 36.95batch/s, loss=0.120530]\u001b[0m\n"
     ]
    },
    {
     "name": "stdout",
     "output_type": "stream",
     "text": [
      "\t Loss: 14.464,\tTrain : 96.46%(96.46%),\tTest : 95.70%(95.72%),\tCurrent Time: 20250917-200931\n"
     ]
    },
    {
     "name": "stderr",
     "output_type": "stream",
     "text": [
      "Epoch 25/50:: 100%|\u001b[34m███████████████████\u001b[0m| 120/120 [00:03<00:00, 37.23batch/s, loss=0.115987]\u001b[0m\n"
     ]
    },
    {
     "name": "stdout",
     "output_type": "stream",
     "text": [
      "\t Loss: 13.918,\tTrain : 96.64%(96.64%),\tTest : 95.93%(95.93%),\tCurrent Time: 20250917-200935\n"
     ]
    },
    {
     "name": "stderr",
     "output_type": "stream",
     "text": [
      "Epoch 26/50:: 100%|\u001b[34m███████████████████\u001b[0m| 120/120 [00:03<00:00, 37.13batch/s, loss=0.112128]\u001b[0m\n"
     ]
    },
    {
     "name": "stdout",
     "output_type": "stream",
     "text": [
      "\t Loss: 13.455,\tTrain : 96.73%(96.73%),\tTest : 95.27%(95.93%),\tCurrent Time: 20250917-200938\n"
     ]
    },
    {
     "name": "stderr",
     "output_type": "stream",
     "text": [
      "Epoch 27/50:: 100%|\u001b[34m███████████████████\u001b[0m| 120/120 [00:03<00:00, 37.13batch/s, loss=0.110835]\u001b[0m\n"
     ]
    },
    {
     "name": "stdout",
     "output_type": "stream",
     "text": [
      "\t Loss: 13.300,\tTrain : 96.74%(96.74%),\tTest : 95.82%(95.93%),\tCurrent Time: 20250917-200941\n"
     ]
    },
    {
     "name": "stderr",
     "output_type": "stream",
     "text": [
      "Epoch 28/50:: 100%|\u001b[34m███████████████████\u001b[0m| 120/120 [00:03<00:00, 37.21batch/s, loss=0.106200]\u001b[0m\n"
     ]
    },
    {
     "name": "stdout",
     "output_type": "stream",
     "text": [
      "\t Loss: 12.744,\tTrain : 96.92%(96.92%),\tTest : 95.79%(95.93%),\tCurrent Time: 20250917-200945\n"
     ]
    },
    {
     "name": "stderr",
     "output_type": "stream",
     "text": [
      "Epoch 29/50:: 100%|\u001b[34m███████████████████\u001b[0m| 120/120 [00:03<00:00, 37.06batch/s, loss=0.102850]\u001b[0m\n"
     ]
    },
    {
     "name": "stdout",
     "output_type": "stream",
     "text": [
      "\t Loss: 12.342,\tTrain : 96.99%(96.99%),\tTest : 95.74%(95.93%),\tCurrent Time: 20250917-200948\n"
     ]
    },
    {
     "name": "stderr",
     "output_type": "stream",
     "text": [
      "Epoch 30/50:: 100%|\u001b[34m███████████████████\u001b[0m| 120/120 [00:03<00:00, 37.18batch/s, loss=0.103941]\u001b[0m\n"
     ]
    },
    {
     "name": "stdout",
     "output_type": "stream",
     "text": [
      "\t Loss: 12.473,\tTrain : 96.96%(96.99%),\tTest : 96.16%(96.16%),\tCurrent Time: 20250917-200951\n"
     ]
    },
    {
     "name": "stderr",
     "output_type": "stream",
     "text": [
      "Epoch 31/50:: 100%|\u001b[34m███████████████████\u001b[0m| 120/120 [00:03<00:00, 37.09batch/s, loss=0.096043]\u001b[0m\n"
     ]
    },
    {
     "name": "stdout",
     "output_type": "stream",
     "text": [
      "\t Loss: 11.525,\tTrain : 97.22%(97.22%),\tTest : 96.07%(96.16%),\tCurrent Time: 20250917-200955\n"
     ]
    },
    {
     "name": "stderr",
     "output_type": "stream",
     "text": [
      "Epoch 32/50:: 100%|\u001b[34m███████████████████\u001b[0m| 120/120 [00:03<00:00, 37.19batch/s, loss=0.096101]\u001b[0m\n"
     ]
    },
    {
     "name": "stdout",
     "output_type": "stream",
     "text": [
      "\t Loss: 11.532,\tTrain : 97.20%(97.22%),\tTest : 95.98%(96.16%),\tCurrent Time: 20250917-200958\n"
     ]
    },
    {
     "name": "stderr",
     "output_type": "stream",
     "text": [
      "Epoch 33/50:: 100%|\u001b[34m███████████████████\u001b[0m| 120/120 [00:03<00:00, 37.16batch/s, loss=0.090226]\u001b[0m\n"
     ]
    },
    {
     "name": "stdout",
     "output_type": "stream",
     "text": [
      "\t Loss: 10.827,\tTrain : 97.33%(97.33%),\tTest : 96.22%(96.22%),\tCurrent Time: 20250917-201001\n"
     ]
    },
    {
     "name": "stderr",
     "output_type": "stream",
     "text": [
      "Epoch 34/50:: 100%|\u001b[34m███████████████████\u001b[0m| 120/120 [00:03<00:00, 37.16batch/s, loss=0.088014]\u001b[0m\n"
     ]
    },
    {
     "name": "stdout",
     "output_type": "stream",
     "text": [
      "\t Loss: 10.562,\tTrain : 97.39%(97.39%),\tTest : 96.55%(96.55%),\tCurrent Time: 20250917-201005\n"
     ]
    },
    {
     "name": "stderr",
     "output_type": "stream",
     "text": [
      "Epoch 35/50:: 100%|\u001b[34m███████████████████\u001b[0m| 120/120 [00:03<00:00, 37.05batch/s, loss=0.086519]\u001b[0m\n"
     ]
    },
    {
     "name": "stdout",
     "output_type": "stream",
     "text": [
      "\t Loss: 10.382,\tTrain : 97.41%(97.41%),\tTest : 96.34%(96.55%),\tCurrent Time: 20250917-201008\n"
     ]
    },
    {
     "name": "stderr",
     "output_type": "stream",
     "text": [
      "Epoch 36/50:: 100%|\u001b[34m███████████████████\u001b[0m| 120/120 [00:03<00:00, 37.12batch/s, loss=0.087074]\u001b[0m\n"
     ]
    },
    {
     "name": "stdout",
     "output_type": "stream",
     "text": [
      "\t Loss: 10.449,\tTrain : 97.39%(97.41%),\tTest : 96.17%(96.55%),\tCurrent Time: 20250917-201011\n"
     ]
    },
    {
     "name": "stderr",
     "output_type": "stream",
     "text": [
      "Epoch 37/50:: 100%|\u001b[34m███████████████████\u001b[0m| 120/120 [00:03<00:00, 37.19batch/s, loss=1.434188]\u001b[0m\n"
     ]
    },
    {
     "name": "stdout",
     "output_type": "stream",
     "text": [
      "\t Loss: 172.103,\tTrain : 62.45%(97.41%),\tTest : 16.16%(96.55%),\tCurrent Time: 20250917-201014\n"
     ]
    },
    {
     "name": "stderr",
     "output_type": "stream",
     "text": [
      "Epoch 38/50:: 100%|\u001b[34m███████████████████\u001b[0m| 120/120 [00:03<00:00, 37.11batch/s, loss=2.245314]\u001b[0m\n"
     ]
    },
    {
     "name": "stdout",
     "output_type": "stream",
     "text": [
      "\t Loss: 269.438,\tTrain : 15.68%(97.41%),\tTest : 15.86%(96.55%),\tCurrent Time: 20250917-201018\n"
     ]
    },
    {
     "name": "stderr",
     "output_type": "stream",
     "text": [
      "Epoch 39/50:: 100%|\u001b[34m███████████████████\u001b[0m| 120/120 [00:03<00:00, 37.21batch/s, loss=2.243677]\u001b[0m\n"
     ]
    },
    {
     "name": "stdout",
     "output_type": "stream",
     "text": [
      "\t Loss: 269.241,\tTrain : 15.43%(97.41%),\tTest : 15.55%(96.55%),\tCurrent Time: 20250917-201021\n"
     ]
    },
    {
     "name": "stderr",
     "output_type": "stream",
     "text": [
      "Epoch 40/50:: 100%|\u001b[34m███████████████████\u001b[0m| 120/120 [00:03<00:00, 37.10batch/s, loss=2.245416]\u001b[0m\n"
     ]
    },
    {
     "name": "stdout",
     "output_type": "stream",
     "text": [
      "\t Loss: 269.450,\tTrain : 15.65%(97.41%),\tTest : 15.24%(96.55%),\tCurrent Time: 20250917-201024\n"
     ]
    },
    {
     "name": "stderr",
     "output_type": "stream",
     "text": [
      "Epoch 41/50:: 100%|\u001b[34m███████████████████\u001b[0m| 120/120 [00:03<00:00, 37.29batch/s, loss=2.247468]\u001b[0m\n"
     ]
    },
    {
     "name": "stdout",
     "output_type": "stream",
     "text": [
      "\t Loss: 269.696,\tTrain : 15.40%(97.41%),\tTest : 15.68%(96.55%),\tCurrent Time: 20250917-201028\n"
     ]
    },
    {
     "name": "stderr",
     "output_type": "stream",
     "text": [
      "Epoch 42/50:: 100%|\u001b[34m███████████████████\u001b[0m| 120/120 [00:03<00:00, 37.19batch/s, loss=2.249504]\u001b[0m\n"
     ]
    },
    {
     "name": "stdout",
     "output_type": "stream",
     "text": [
      "\t Loss: 269.941,\tTrain : 15.18%(97.41%),\tTest : 15.07%(96.55%),\tCurrent Time: 20250917-201031\n"
     ]
    },
    {
     "name": "stderr",
     "output_type": "stream",
     "text": [
      "Epoch 43/50:: 100%|\u001b[34m███████████████████\u001b[0m| 120/120 [00:03<00:00, 36.89batch/s, loss=2.251152]\u001b[0m\n"
     ]
    },
    {
     "name": "stdout",
     "output_type": "stream",
     "text": [
      "\t Loss: 270.138,\tTrain : 15.44%(97.41%),\tTest : 15.51%(96.55%),\tCurrent Time: 20250917-201034\n"
     ]
    },
    {
     "name": "stderr",
     "output_type": "stream",
     "text": [
      "Epoch 44/50:: 100%|\u001b[34m███████████████████\u001b[0m| 120/120 [00:03<00:00, 36.98batch/s, loss=2.253540]\u001b[0m\n"
     ]
    },
    {
     "name": "stdout",
     "output_type": "stream",
     "text": [
      "\t Loss: 270.425,\tTrain : 15.03%(97.41%),\tTest : 14.85%(96.55%),\tCurrent Time: 20250917-201038\n"
     ]
    },
    {
     "name": "stderr",
     "output_type": "stream",
     "text": [
      "Epoch 45/50:: 100%|\u001b[34m███████████████████\u001b[0m| 120/120 [00:03<00:00, 37.20batch/s, loss=2.255613]\u001b[0m\n"
     ]
    },
    {
     "name": "stdout",
     "output_type": "stream",
     "text": [
      "\t Loss: 270.674,\tTrain : 15.25%(97.41%),\tTest : 15.26%(96.55%),\tCurrent Time: 20250917-201041\n"
     ]
    },
    {
     "name": "stderr",
     "output_type": "stream",
     "text": [
      "Epoch 46/50:: 100%|\u001b[34m███████████████████\u001b[0m| 120/120 [00:03<00:00, 37.11batch/s, loss=2.258075]\u001b[0m\n"
     ]
    },
    {
     "name": "stdout",
     "output_type": "stream",
     "text": [
      "\t Loss: 270.969,\tTrain : 15.07%(97.41%),\tTest : 15.12%(96.55%),\tCurrent Time: 20250917-201044\n"
     ]
    },
    {
     "name": "stderr",
     "output_type": "stream",
     "text": [
      "Epoch 47/50:: 100%|\u001b[34m███████████████████\u001b[0m| 120/120 [00:03<00:00, 37.25batch/s, loss=2.260086]\u001b[0m\n"
     ]
    },
    {
     "name": "stdout",
     "output_type": "stream",
     "text": [
      "\t Loss: 271.210,\tTrain : 15.03%(97.41%),\tTest : 15.02%(96.55%),\tCurrent Time: 20250917-201048\n"
     ]
    },
    {
     "name": "stderr",
     "output_type": "stream",
     "text": [
      "Epoch 48/50:: 100%|\u001b[34m███████████████████\u001b[0m| 120/120 [00:03<00:00, 37.08batch/s, loss=2.263168]\u001b[0m\n"
     ]
    },
    {
     "name": "stdout",
     "output_type": "stream",
     "text": [
      "\t Loss: 271.580,\tTrain : 14.86%(97.41%),\tTest : 14.55%(96.55%),\tCurrent Time: 20250917-201051\n"
     ]
    },
    {
     "name": "stderr",
     "output_type": "stream",
     "text": [
      "Epoch 49/50:: 100%|\u001b[34m███████████████████\u001b[0m| 120/120 [00:03<00:00, 37.02batch/s, loss=2.265356]\u001b[0m\n"
     ]
    },
    {
     "name": "stdout",
     "output_type": "stream",
     "text": [
      "\t Loss: 271.843,\tTrain : 14.58%(97.41%),\tTest : 14.75%(96.55%),\tCurrent Time: 20250917-201054\n"
     ]
    },
    {
     "name": "stderr",
     "output_type": "stream",
     "text": [
      "Epoch 50/50:: 100%|\u001b[34m███████████████████\u001b[0m| 120/120 [00:03<00:00, 37.31batch/s, loss=2.267445]\u001b[0m\n"
     ]
    },
    {
     "name": "stdout",
     "output_type": "stream",
     "text": [
      "\t Loss: 272.093,\tTrain : 14.38%(97.41%),\tTest : 14.13%(96.55%),\tCurrent Time: 20250917-201058\n",
      "First_asymm_AG_N-HL_resP-EP_L10-P1-MNIST_EP_b_sc0.1- Time: 20250917-201058, Epochs: 50, Learning Rate: 0.0005, Best: 97.41%  96.55%\n",
      "\n",
      "[[0 1 0 0 0 0 0 0 0 0 0 0]\n",
      " [0 0 1 1 1 1 1 1 1 1 1 0]\n",
      " [0 1 0 1 1 1 1 1 1 1 1 0]\n",
      " [0 1 1 0 1 1 1 1 1 1 1 0]\n",
      " [0 1 1 1 0 1 1 1 1 1 1 0]\n",
      " [0 1 1 1 1 0 1 1 1 1 1 0]\n",
      " [0 1 1 1 1 1 0 1 1 1 1 0]\n",
      " [0 1 1 1 1 1 1 0 1 1 1 0]\n",
      " [0 1 1 1 1 1 1 1 0 1 1 0]\n",
      " [0 1 1 1 1 1 1 1 1 0 1 0]\n",
      " [0 1 1 1 1 1 1 1 1 1 0 1]\n",
      " [0 0 0 0 0 0 0 0 0 0 1 0]]\n",
      "First_asymm_AG_N-HL_resP-EP_L10-P1-MNIST_EP_b_sc0.1-\n"
     ]
    },
    {
     "name": "stderr",
     "output_type": "stream",
     "text": [
      "Epoch 1/50:: 100%|\u001b[34m████████████████████\u001b[0m| 120/120 [00:03<00:00, 35.00batch/s, loss=2.066549]\u001b[0m\n"
     ]
    },
    {
     "name": "stdout",
     "output_type": "stream",
     "text": [
      "\t Loss: 247.986,\tTrain : 31.34%(31.34%),\tTest : 55.40%(55.40%),\tCurrent Time: 20250917-201106\n"
     ]
    },
    {
     "name": "stderr",
     "output_type": "stream",
     "text": [
      "Epoch 2/50:: 100%|\u001b[34m████████████████████\u001b[0m| 120/120 [00:03<00:00, 37.11batch/s, loss=1.071744]\u001b[0m\n"
     ]
    },
    {
     "name": "stdout",
     "output_type": "stream",
     "text": [
      "\t Loss: 128.609,\tTrain : 72.19%(72.19%),\tTest : 85.14%(85.14%),\tCurrent Time: 20250917-201109\n"
     ]
    },
    {
     "name": "stderr",
     "output_type": "stream",
     "text": [
      "Epoch 3/50:: 100%|\u001b[34m████████████████████\u001b[0m| 120/120 [00:03<00:00, 37.08batch/s, loss=0.548657]\u001b[0m\n"
     ]
    },
    {
     "name": "stdout",
     "output_type": "stream",
     "text": [
      "\t Loss: 65.839,\tTrain : 87.65%(87.65%),\tTest : 89.97%(89.97%),\tCurrent Time: 20250917-201112\n"
     ]
    },
    {
     "name": "stderr",
     "output_type": "stream",
     "text": [
      "Epoch 4/50:: 100%|\u001b[34m████████████████████\u001b[0m| 120/120 [00:03<00:00, 37.24batch/s, loss=0.398675]\u001b[0m\n"
     ]
    },
    {
     "name": "stdout",
     "output_type": "stream",
     "text": [
      "\t Loss: 47.841,\tTrain : 90.19%(90.19%),\tTest : 90.83%(90.83%),\tCurrent Time: 20250917-201115\n"
     ]
    },
    {
     "name": "stderr",
     "output_type": "stream",
     "text": [
      "Epoch 5/50:: 100%|\u001b[34m████████████████████\u001b[0m| 120/120 [00:03<00:00, 37.07batch/s, loss=0.344745]\u001b[0m\n"
     ]
    },
    {
     "name": "stdout",
     "output_type": "stream",
     "text": [
      "\t Loss: 41.369,\tTrain : 91.16%(91.16%),\tTest : 91.71%(91.71%),\tCurrent Time: 20250917-201119\n"
     ]
    },
    {
     "name": "stderr",
     "output_type": "stream",
     "text": [
      "Epoch 6/50:: 100%|\u001b[34m████████████████████\u001b[0m| 120/120 [00:03<00:00, 36.95batch/s, loss=0.300426]\u001b[0m\n"
     ]
    },
    {
     "name": "stdout",
     "output_type": "stream",
     "text": [
      "\t Loss: 36.051,\tTrain : 92.02%(92.02%),\tTest : 92.57%(92.57%),\tCurrent Time: 20250917-201122\n"
     ]
    },
    {
     "name": "stderr",
     "output_type": "stream",
     "text": [
      "Epoch 7/50:: 100%|\u001b[34m████████████████████\u001b[0m| 120/120 [00:03<00:00, 37.12batch/s, loss=0.271373]\u001b[0m\n"
     ]
    },
    {
     "name": "stdout",
     "output_type": "stream",
     "text": [
      "\t Loss: 32.565,\tTrain : 92.80%(92.80%),\tTest : 92.57%(92.57%),\tCurrent Time: 20250917-201125\n"
     ]
    },
    {
     "name": "stderr",
     "output_type": "stream",
     "text": [
      "Epoch 8/50:: 100%|\u001b[34m████████████████████\u001b[0m| 120/120 [00:03<00:00, 37.06batch/s, loss=0.259334]\u001b[0m\n"
     ]
    },
    {
     "name": "stdout",
     "output_type": "stream",
     "text": [
      "\t Loss: 31.120,\tTrain : 93.05%(93.05%),\tTest : 93.01%(93.01%),\tCurrent Time: 20250917-201129\n"
     ]
    },
    {
     "name": "stderr",
     "output_type": "stream",
     "text": [
      "Epoch 9/50:: 100%|\u001b[34m████████████████████\u001b[0m| 120/120 [00:03<00:00, 36.89batch/s, loss=0.237774]\u001b[0m\n"
     ]
    },
    {
     "name": "stdout",
     "output_type": "stream",
     "text": [
      "\t Loss: 28.533,\tTrain : 93.63%(93.63%),\tTest : 93.48%(93.48%),\tCurrent Time: 20250917-201132\n"
     ]
    },
    {
     "name": "stderr",
     "output_type": "stream",
     "text": [
      "Epoch 10/50:: 100%|\u001b[34m███████████████████\u001b[0m| 120/120 [00:03<00:00, 36.96batch/s, loss=0.222642]\u001b[0m\n"
     ]
    },
    {
     "name": "stdout",
     "output_type": "stream",
     "text": [
      "\t Loss: 26.717,\tTrain : 93.96%(93.96%),\tTest : 93.82%(93.82%),\tCurrent Time: 20250917-201135\n"
     ]
    },
    {
     "name": "stderr",
     "output_type": "stream",
     "text": [
      "Epoch 11/50:: 100%|\u001b[34m███████████████████\u001b[0m| 120/120 [00:03<00:00, 37.22batch/s, loss=0.212051]\u001b[0m\n"
     ]
    },
    {
     "name": "stdout",
     "output_type": "stream",
     "text": [
      "\t Loss: 25.446,\tTrain : 94.10%(94.10%),\tTest : 94.01%(94.01%),\tCurrent Time: 20250917-201139\n"
     ]
    },
    {
     "name": "stderr",
     "output_type": "stream",
     "text": [
      "Epoch 12/50:: 100%|\u001b[34m███████████████████\u001b[0m| 120/120 [00:03<00:00, 37.16batch/s, loss=0.190782]\u001b[0m\n"
     ]
    },
    {
     "name": "stdout",
     "output_type": "stream",
     "text": [
      "\t Loss: 22.894,\tTrain : 94.73%(94.73%),\tTest : 94.09%(94.09%),\tCurrent Time: 20250917-201142\n"
     ]
    },
    {
     "name": "stderr",
     "output_type": "stream",
     "text": [
      "Epoch 13/50:: 100%|\u001b[34m███████████████████\u001b[0m| 120/120 [00:03<00:00, 36.87batch/s, loss=0.185617]\u001b[0m\n"
     ]
    },
    {
     "name": "stdout",
     "output_type": "stream",
     "text": [
      "\t Loss: 22.274,\tTrain : 94.77%(94.77%),\tTest : 94.34%(94.34%),\tCurrent Time: 20250917-201145\n"
     ]
    },
    {
     "name": "stderr",
     "output_type": "stream",
     "text": [
      "Epoch 14/50:: 100%|\u001b[34m███████████████████\u001b[0m| 120/120 [00:03<00:00, 36.91batch/s, loss=0.175531]\u001b[0m\n"
     ]
    },
    {
     "name": "stdout",
     "output_type": "stream",
     "text": [
      "\t Loss: 21.064,\tTrain : 95.11%(95.11%),\tTest : 94.55%(94.55%),\tCurrent Time: 20250917-201149\n"
     ]
    },
    {
     "name": "stderr",
     "output_type": "stream",
     "text": [
      "Epoch 15/50:: 100%|\u001b[34m███████████████████\u001b[0m| 120/120 [00:03<00:00, 37.10batch/s, loss=0.165178]\u001b[0m\n"
     ]
    },
    {
     "name": "stdout",
     "output_type": "stream",
     "text": [
      "\t Loss: 19.821,\tTrain : 95.41%(95.41%),\tTest : 94.80%(94.80%),\tCurrent Time: 20250917-201152\n"
     ]
    },
    {
     "name": "stderr",
     "output_type": "stream",
     "text": [
      "Epoch 16/50:: 100%|\u001b[34m███████████████████\u001b[0m| 120/120 [00:03<00:00, 36.90batch/s, loss=0.156623]\u001b[0m\n"
     ]
    },
    {
     "name": "stdout",
     "output_type": "stream",
     "text": [
      "\t Loss: 18.795,\tTrain : 95.64%(95.64%),\tTest : 94.85%(94.85%),\tCurrent Time: 20250917-201155\n"
     ]
    },
    {
     "name": "stderr",
     "output_type": "stream",
     "text": [
      "Epoch 17/50:: 100%|\u001b[34m███████████████████\u001b[0m| 120/120 [00:03<00:00, 37.11batch/s, loss=0.149006]\u001b[0m\n"
     ]
    },
    {
     "name": "stdout",
     "output_type": "stream",
     "text": [
      "\t Loss: 17.881,\tTrain : 95.75%(95.75%),\tTest : 95.37%(95.37%),\tCurrent Time: 20250917-201159\n"
     ]
    },
    {
     "name": "stderr",
     "output_type": "stream",
     "text": [
      "Epoch 18/50:: 100%|\u001b[34m███████████████████\u001b[0m| 120/120 [00:03<00:00, 37.07batch/s, loss=0.137574]\u001b[0m\n"
     ]
    },
    {
     "name": "stdout",
     "output_type": "stream",
     "text": [
      "\t Loss: 16.509,\tTrain : 96.08%(96.08%),\tTest : 95.47%(95.47%),\tCurrent Time: 20250917-201202\n"
     ]
    },
    {
     "name": "stderr",
     "output_type": "stream",
     "text": [
      "Epoch 19/50:: 100%|\u001b[34m███████████████████\u001b[0m| 120/120 [00:03<00:00, 37.08batch/s, loss=0.131988]\u001b[0m\n"
     ]
    },
    {
     "name": "stdout",
     "output_type": "stream",
     "text": [
      "\t Loss: 15.839,\tTrain : 96.17%(96.17%),\tTest : 95.54%(95.54%),\tCurrent Time: 20250917-201205\n"
     ]
    },
    {
     "name": "stderr",
     "output_type": "stream",
     "text": [
      "Epoch 20/50:: 100%|\u001b[34m███████████████████\u001b[0m| 120/120 [00:03<00:00, 36.94batch/s, loss=0.130663]\u001b[0m\n"
     ]
    },
    {
     "name": "stdout",
     "output_type": "stream",
     "text": [
      "\t Loss: 15.680,\tTrain : 96.18%(96.18%),\tTest : 95.74%(95.74%),\tCurrent Time: 20250917-201209\n"
     ]
    },
    {
     "name": "stderr",
     "output_type": "stream",
     "text": [
      "Epoch 21/50:: 100%|\u001b[34m███████████████████\u001b[0m| 120/120 [00:03<00:00, 37.35batch/s, loss=0.122302]\u001b[0m\n"
     ]
    },
    {
     "name": "stdout",
     "output_type": "stream",
     "text": [
      "\t Loss: 14.676,\tTrain : 96.50%(96.50%),\tTest : 95.63%(95.74%),\tCurrent Time: 20250917-201212\n"
     ]
    },
    {
     "name": "stderr",
     "output_type": "stream",
     "text": [
      "Epoch 22/50:: 100%|\u001b[34m███████████████████\u001b[0m| 120/120 [00:03<00:00, 37.10batch/s, loss=0.118895]\u001b[0m\n"
     ]
    },
    {
     "name": "stdout",
     "output_type": "stream",
     "text": [
      "\t Loss: 14.267,\tTrain : 96.53%(96.53%),\tTest : 95.88%(95.88%),\tCurrent Time: 20250917-201215\n"
     ]
    },
    {
     "name": "stderr",
     "output_type": "stream",
     "text": [
      "Epoch 23/50:: 100%|\u001b[34m███████████████████\u001b[0m| 120/120 [00:03<00:00, 37.13batch/s, loss=0.113446]\u001b[0m\n"
     ]
    },
    {
     "name": "stdout",
     "output_type": "stream",
     "text": [
      "\t Loss: 13.613,\tTrain : 96.68%(96.68%),\tTest : 95.70%(95.88%),\tCurrent Time: 20250917-201219\n"
     ]
    },
    {
     "name": "stderr",
     "output_type": "stream",
     "text": [
      "Epoch 24/50:: 100%|\u001b[34m███████████████████\u001b[0m| 120/120 [00:03<00:00, 37.19batch/s, loss=0.115808]\u001b[0m\n"
     ]
    },
    {
     "name": "stdout",
     "output_type": "stream",
     "text": [
      "\t Loss: 13.897,\tTrain : 96.61%(96.68%),\tTest : 95.57%(95.88%),\tCurrent Time: 20250917-201222\n"
     ]
    },
    {
     "name": "stderr",
     "output_type": "stream",
     "text": [
      "Epoch 25/50:: 100%|\u001b[34m███████████████████\u001b[0m| 120/120 [00:03<00:00, 36.87batch/s, loss=0.110409]\u001b[0m\n"
     ]
    },
    {
     "name": "stdout",
     "output_type": "stream",
     "text": [
      "\t Loss: 13.249,\tTrain : 96.77%(96.77%),\tTest : 95.90%(95.90%),\tCurrent Time: 20250917-201225\n"
     ]
    },
    {
     "name": "stderr",
     "output_type": "stream",
     "text": [
      "Epoch 26/50:: 100%|\u001b[34m███████████████████\u001b[0m| 120/120 [00:03<00:00, 37.17batch/s, loss=0.107728]\u001b[0m\n"
     ]
    },
    {
     "name": "stdout",
     "output_type": "stream",
     "text": [
      "\t Loss: 12.927,\tTrain : 96.83%(96.83%),\tTest : 95.75%(95.90%),\tCurrent Time: 20250917-201229\n"
     ]
    },
    {
     "name": "stderr",
     "output_type": "stream",
     "text": [
      "Epoch 27/50:: 100%|\u001b[34m███████████████████\u001b[0m| 120/120 [00:03<00:00, 37.25batch/s, loss=0.102630]\u001b[0m\n"
     ]
    },
    {
     "name": "stdout",
     "output_type": "stream",
     "text": [
      "\t Loss: 12.316,\tTrain : 97.02%(97.02%),\tTest : 96.14%(96.14%),\tCurrent Time: 20250917-201232\n"
     ]
    },
    {
     "name": "stderr",
     "output_type": "stream",
     "text": [
      "Epoch 28/50:: 100%|\u001b[34m███████████████████\u001b[0m| 120/120 [00:03<00:00, 37.27batch/s, loss=2.435880]\u001b[0m\n"
     ]
    },
    {
     "name": "stdout",
     "output_type": "stream",
     "text": [
      "\t Loss: 292.306,\tTrain : 43.05%(97.02%),\tTest : 10.12%(96.14%),\tCurrent Time: 20250917-201235\n"
     ]
    },
    {
     "name": "stderr",
     "output_type": "stream",
     "text": [
      "Epoch 29/50:: 100%|\u001b[34m███████████████████\u001b[0m| 120/120 [00:03<00:00, 37.10batch/s, loss=2.301673]\u001b[0m\n"
     ]
    },
    {
     "name": "stdout",
     "output_type": "stream",
     "text": [
      "\t Loss: 276.201,\tTrain : 11.84%(97.02%),\tTest : 12.61%(96.14%),\tCurrent Time: 20250917-201239\n"
     ]
    },
    {
     "name": "stderr",
     "output_type": "stream",
     "text": [
      "Epoch 30/50:: 100%|\u001b[34m███████████████████\u001b[0m| 120/120 [00:03<00:00, 37.12batch/s, loss=2.298226]\u001b[0m\n"
     ]
    },
    {
     "name": "stdout",
     "output_type": "stream",
     "text": [
      "\t Loss: 275.787,\tTrain : 12.24%(97.02%),\tTest : 12.61%(96.14%),\tCurrent Time: 20250917-201242\n"
     ]
    },
    {
     "name": "stderr",
     "output_type": "stream",
     "text": [
      "Epoch 31/50:: 100%|\u001b[34m███████████████████\u001b[0m| 120/120 [00:03<00:00, 37.13batch/s, loss=2.298561]\u001b[0m\n"
     ]
    },
    {
     "name": "stdout",
     "output_type": "stream",
     "text": [
      "\t Loss: 275.827,\tTrain : 12.09%(97.02%),\tTest : 12.61%(96.14%),\tCurrent Time: 20250917-201245\n"
     ]
    },
    {
     "name": "stderr",
     "output_type": "stream",
     "text": [
      "Epoch 32/50:: 100%|\u001b[34m███████████████████\u001b[0m| 120/120 [00:03<00:00, 37.06batch/s, loss=2.298343]\u001b[0m\n"
     ]
    },
    {
     "name": "stdout",
     "output_type": "stream",
     "text": [
      "\t Loss: 275.801,\tTrain : 12.40%(97.02%),\tTest : 12.09%(96.14%),\tCurrent Time: 20250917-201248\n"
     ]
    },
    {
     "name": "stderr",
     "output_type": "stream",
     "text": [
      "Epoch 33/50:: 100%|\u001b[34m███████████████████\u001b[0m| 120/120 [00:03<00:00, 37.17batch/s, loss=2.298327]\u001b[0m\n"
     ]
    },
    {
     "name": "stdout",
     "output_type": "stream",
     "text": [
      "\t Loss: 275.799,\tTrain : 12.05%(97.02%),\tTest : 12.09%(96.14%),\tCurrent Time: 20250917-201252\n"
     ]
    },
    {
     "name": "stderr",
     "output_type": "stream",
     "text": [
      "Epoch 34/50:: 100%|\u001b[34m███████████████████\u001b[0m| 120/120 [00:03<00:00, 36.90batch/s, loss=2.298320]\u001b[0m\n"
     ]
    },
    {
     "name": "stdout",
     "output_type": "stream",
     "text": [
      "\t Loss: 275.798,\tTrain : 11.93%(97.02%),\tTest : 12.61%(96.14%),\tCurrent Time: 20250917-201255\n"
     ]
    },
    {
     "name": "stderr",
     "output_type": "stream",
     "text": [
      "Epoch 35/50:: 100%|\u001b[34m███████████████████\u001b[0m| 120/120 [00:03<00:00, 37.03batch/s, loss=2.298229]\u001b[0m\n"
     ]
    },
    {
     "name": "stdout",
     "output_type": "stream",
     "text": [
      "\t Loss: 275.787,\tTrain : 12.19%(97.02%),\tTest : 12.61%(96.14%),\tCurrent Time: 20250917-201258\n"
     ]
    },
    {
     "name": "stderr",
     "output_type": "stream",
     "text": [
      "Epoch 36/50:: 100%|\u001b[34m███████████████████\u001b[0m| 120/120 [00:03<00:00, 37.07batch/s, loss=2.298219]\u001b[0m\n"
     ]
    },
    {
     "name": "stdout",
     "output_type": "stream",
     "text": [
      "\t Loss: 275.786,\tTrain : 12.27%(97.02%),\tTest : 12.61%(96.14%),\tCurrent Time: 20250917-201302\n"
     ]
    },
    {
     "name": "stderr",
     "output_type": "stream",
     "text": [
      "Epoch 37/50:: 100%|\u001b[34m███████████████████\u001b[0m| 120/120 [00:03<00:00, 37.19batch/s, loss=2.298310]\u001b[0m\n"
     ]
    },
    {
     "name": "stdout",
     "output_type": "stream",
     "text": [
      "\t Loss: 275.797,\tTrain : 12.38%(97.02%),\tTest : 12.61%(96.14%),\tCurrent Time: 20250917-201305\n"
     ]
    },
    {
     "name": "stderr",
     "output_type": "stream",
     "text": [
      "Epoch 38/50:: 100%|\u001b[34m███████████████████\u001b[0m| 120/120 [00:03<00:00, 37.25batch/s, loss=2.298287]\u001b[0m\n"
     ]
    },
    {
     "name": "stdout",
     "output_type": "stream",
     "text": [
      "\t Loss: 275.794,\tTrain : 12.04%(97.02%),\tTest : 12.09%(96.14%),\tCurrent Time: 20250917-201308\n"
     ]
    },
    {
     "name": "stderr",
     "output_type": "stream",
     "text": [
      "Epoch 39/50:: 100%|\u001b[34m███████████████████\u001b[0m| 120/120 [00:03<00:00, 36.99batch/s, loss=2.298441]\u001b[0m\n"
     ]
    },
    {
     "name": "stdout",
     "output_type": "stream",
     "text": [
      "\t Loss: 275.813,\tTrain : 12.06%(97.02%),\tTest : 12.61%(96.14%),\tCurrent Time: 20250917-201312\n"
     ]
    },
    {
     "name": "stderr",
     "output_type": "stream",
     "text": [
      "Epoch 40/50:: 100%|\u001b[34m███████████████████\u001b[0m| 120/120 [00:03<00:00, 36.89batch/s, loss=2.298175]\u001b[0m\n"
     ]
    },
    {
     "name": "stdout",
     "output_type": "stream",
     "text": [
      "\t Loss: 275.781,\tTrain : 12.04%(97.02%),\tTest : 12.09%(96.14%),\tCurrent Time: 20250917-201315\n"
     ]
    },
    {
     "name": "stderr",
     "output_type": "stream",
     "text": [
      "Epoch 41/50:: 100%|\u001b[34m███████████████████\u001b[0m| 120/120 [00:03<00:00, 36.88batch/s, loss=2.298333]\u001b[0m\n"
     ]
    },
    {
     "name": "stdout",
     "output_type": "stream",
     "text": [
      "\t Loss: 275.800,\tTrain : 12.09%(97.02%),\tTest : 12.61%(96.14%),\tCurrent Time: 20250917-201318\n"
     ]
    },
    {
     "name": "stderr",
     "output_type": "stream",
     "text": [
      "Epoch 42/50:: 100%|\u001b[34m███████████████████\u001b[0m| 120/120 [00:03<00:00, 37.02batch/s, loss=2.298447]\u001b[0m\n"
     ]
    },
    {
     "name": "stdout",
     "output_type": "stream",
     "text": [
      "\t Loss: 275.814,\tTrain : 12.32%(97.02%),\tTest : 12.09%(96.14%),\tCurrent Time: 20250917-201322\n"
     ]
    },
    {
     "name": "stderr",
     "output_type": "stream",
     "text": [
      "Epoch 43/50:: 100%|\u001b[34m███████████████████\u001b[0m| 120/120 [00:03<00:00, 37.23batch/s, loss=2.298247]\u001b[0m\n"
     ]
    },
    {
     "name": "stdout",
     "output_type": "stream",
     "text": [
      "\t Loss: 275.790,\tTrain : 12.23%(97.02%),\tTest : 11.51%(96.14%),\tCurrent Time: 20250917-201325\n"
     ]
    },
    {
     "name": "stderr",
     "output_type": "stream",
     "text": [
      "Epoch 44/50:: 100%|\u001b[34m███████████████████\u001b[0m| 120/120 [00:03<00:00, 36.77batch/s, loss=2.298204]\u001b[0m\n"
     ]
    },
    {
     "name": "stdout",
     "output_type": "stream",
     "text": [
      "\t Loss: 275.785,\tTrain : 12.04%(97.02%),\tTest : 12.61%(96.14%),\tCurrent Time: 20250917-201328\n"
     ]
    },
    {
     "name": "stderr",
     "output_type": "stream",
     "text": [
      "Epoch 45/50:: 100%|\u001b[34m███████████████████\u001b[0m| 120/120 [00:03<00:00, 36.91batch/s, loss=2.298312]\u001b[0m\n"
     ]
    },
    {
     "name": "stdout",
     "output_type": "stream",
     "text": [
      "\t Loss: 275.797,\tTrain : 12.22%(97.02%),\tTest : 12.61%(96.14%),\tCurrent Time: 20250917-201332\n"
     ]
    },
    {
     "name": "stderr",
     "output_type": "stream",
     "text": [
      "Epoch 46/50:: 100%|\u001b[34m███████████████████\u001b[0m| 120/120 [00:03<00:00, 36.95batch/s, loss=2.298457]\u001b[0m\n"
     ]
    },
    {
     "name": "stdout",
     "output_type": "stream",
     "text": [
      "\t Loss: 275.815,\tTrain : 11.96%(97.02%),\tTest : 11.32%(96.14%),\tCurrent Time: 20250917-201335\n"
     ]
    },
    {
     "name": "stderr",
     "output_type": "stream",
     "text": [
      "Epoch 47/50:: 100%|\u001b[34m███████████████████\u001b[0m| 120/120 [00:03<00:00, 37.00batch/s, loss=2.298462]\u001b[0m\n"
     ]
    },
    {
     "name": "stdout",
     "output_type": "stream",
     "text": [
      "\t Loss: 275.815,\tTrain : 12.03%(97.02%),\tTest : 10.54%(96.14%),\tCurrent Time: 20250917-201338\n"
     ]
    },
    {
     "name": "stderr",
     "output_type": "stream",
     "text": [
      "Epoch 48/50:: 100%|\u001b[34m███████████████████\u001b[0m| 120/120 [00:03<00:00, 37.10batch/s, loss=2.298346]\u001b[0m\n"
     ]
    },
    {
     "name": "stdout",
     "output_type": "stream",
     "text": [
      "\t Loss: 275.802,\tTrain : 11.96%(97.02%),\tTest : 12.09%(96.14%),\tCurrent Time: 20250917-201342\n"
     ]
    },
    {
     "name": "stderr",
     "output_type": "stream",
     "text": [
      "Epoch 49/50:: 100%|\u001b[34m███████████████████\u001b[0m| 120/120 [00:03<00:00, 37.12batch/s, loss=2.298413]\u001b[0m\n"
     ]
    },
    {
     "name": "stdout",
     "output_type": "stream",
     "text": [
      "\t Loss: 275.810,\tTrain : 12.09%(97.02%),\tTest : 12.61%(96.14%),\tCurrent Time: 20250917-201345\n"
     ]
    },
    {
     "name": "stderr",
     "output_type": "stream",
     "text": [
      "Epoch 50/50:: 100%|\u001b[34m███████████████████\u001b[0m| 120/120 [00:03<00:00, 37.10batch/s, loss=2.298205]\u001b[0m"
     ]
    },
    {
     "name": "stdout",
     "output_type": "stream",
     "text": [
      "\t Loss: 275.785,\tTrain : 12.12%(97.02%),\tTest : 12.61%(96.14%),\tCurrent Time: 20250917-201348\n",
      "First_asymm_AG_N-HL_resP-EP_L10-P1-MNIST_EP_b_sc0.1- Time: 20250917-201348, Epochs: 50, Learning Rate: 0.0005, Best: 97.02%  96.14%\n",
      "\n"
     ]
    },
    {
     "name": "stderr",
     "output_type": "stream",
     "text": [
      "\n"
     ]
    }
   ],
   "source": [
    "for iM in range( len(M_range) ):\n",
    "    for iPara in range( len(ParaRange) ):\n",
    "        for  imultitest in range((multitest)):\n",
    "            Para_EP['bsc'] = 0.1 #ParaRange[iPara]\n",
    "            Para_t['task'] = \"MNIST\"#M_range[iM]\n",
    "            W_conn = make_W_conn_random(n_hidden=ParaRange[iPara], a=M_range[iM], seed=99+iM*100+iPara*10+imultitest)\n",
    "            print(W_conn)\n",
    "\n",
    "            (_, [train_loader_gpu,valid_loader_gpu,test_loader_gpu], [nodes[0], nodes[-1]]\n",
    "                 ) = dataset(Para_t['task'], device=device, bs=Para_t['batchsize'], validbstimes=2 )\n",
    "            Para_t['eta'] = 2e-4 if Para_t['task'] == \"CIFAR10\" else 1e-3\n",
    "            if ParaRange[iPara]>5: Para_t['eta'] = Para_t['eta']/2 \n",
    "            if ParaRange[iPara]>19: Para_t['eta'] = Para_t['eta']/2 \n",
    "\n",
    "            #-----------------\n",
    "            Para_EP['It2sta'] = (len(nodes)-2)*10\n",
    "            Para_EP['It2sta2'] = (len(nodes)-2)*5\n",
    "            # ---------------------------------\n",
    "            model = EPNN_LN(W_conn, nodes=nodes, Para_t=Para_t, Para_EP=Para_EP, device=device).to(device)\n",
    "\n",
    "            s_task_info = f\"{Task_info}-{Para_t['method']}_L{(len(nodes)-2)}-P{M_range[iM]}-{Para_t['task']}_EP_b_sc{Para_EP['bsc']}-{Einfo}\"\n",
    "            print(s_task_info)\n",
    "\n",
    "            ## Train\n",
    "\n",
    "            for epoch in range(Para_t['epoch']):\n",
    "                losssum = 0\n",
    "                train_total = 0\n",
    "                train_correct = 0\n",
    "                random.shuffle(train_loader_gpu)\n",
    "                with tqdm(total=len(train_loader_gpu), desc=f\"Epoch {epoch + 1}/{Para_t['epoch']}:\", unit='batch', ncols=90, mininterval=1, colour='blue') as pbar:\n",
    "                    for i, (images, labels) in enumerate(train_loader_gpu):\n",
    "                        # \n",
    "                        images = images.view(-1, nodes[0])\n",
    "                        labels_one_hot = one_hot(labels, nodes[-1], device=device)\n",
    "                        # \n",
    "                        outputs = model.forward(images)\n",
    "                        _, predicted = torch.max(outputs, 1)\n",
    "                        # \n",
    "                        loss = cross_entropy_loss(outputs, labels_one_hot.to(device))\n",
    "                        losssum += loss.item()\n",
    "                        #\n",
    "                        outputs = model.backward(images, labels_one_hot, outputs)\n",
    "                        # \n",
    "                        model.update_weights_adam() if Para_t['adam'] else model.update_weights() #model.update_weights_adam() model.update_weights()\n",
    "                        # \n",
    "                        if (i+1) % 10 == 0: \n",
    "                            pbar.set_postfix({'loss': f'{losssum/(i+1):.6f}'})  \n",
    "                            pbar.update(10)\n",
    "\n",
    "                        train_total += labels.size(0)\n",
    "                        train_correct += (predicted == labels).sum().item()\n",
    "\n",
    "                train_accuracy = train_correct / train_total\n",
    "\n",
    "                # test set -------------------------------------------------------------\n",
    "                test_correct = 0\n",
    "                test_total = 0\n",
    "                # ---------\n",
    "                for images, labels in test_loader_gpu:\n",
    "                    images = images.view(-1, nodes[0])\n",
    "                    # \n",
    "                    outputs = model.forward(images)\n",
    "\n",
    "                    _, predicted = torch.max(outputs, 1)\n",
    "                    test_total += labels.size(0)\n",
    "                    test_correct += (predicted == labels).sum().item()\n",
    "\n",
    "                test_accuracy = test_correct / test_total\n",
    "\n",
    "                res[iM][iPara][imultitest][0][epoch] = losssum\n",
    "                res[iM][iPara][imultitest][1][epoch] = train_accuracy\n",
    "                res[iM][iPara][imultitest][2][epoch] = test_accuracy\n",
    "                # res[iM][iPara][imultitest][3][epoch] = ftmle\n",
    "                # res[iM][iPara][imultitest][4][epoch] = mle\n",
    "                # res[iM][iPara][imultitest][5][epoch] = SR\n",
    "\n",
    "                current_time = time.strftime(\"%Y%m%d-%H%M%S\", time.localtime())\n",
    "                print(f'\\t Loss: {res[iM][iPara][imultitest][0][epoch] :.3f},\\t'\n",
    "                    f'Train : {res[iM][iPara][imultitest][1][epoch] * 100:.2f}%({np.max(res[iM][iPara][imultitest][1]) * 100:.2f}%),\\t'\n",
    "                    f'Test : {res[iM][iPara][imultitest][2][epoch] * 100:.2f}%({np.max(res[iM][iPara][imultitest][2]) * 100:.2f}%),\\t'\n",
    "                    f'Current Time: {current_time}')\n",
    "                \n",
    "                # if 1-train_accuracy <1e-4:\n",
    "                #     break\n",
    "            \n",
    "            # best result\n",
    "            print(f\"{s_task_info} Time: {current_time}, Epochs: {Para_t['epoch']}, Learning Rate: {Para_t['eta']}, \"\n",
    "                f\"Best: {max(res[iM][iPara][imultitest][1]) * 100:.2f}%  {max(res[iM][iPara][imultitest][2]) * 100:.2f}%\\n\")\n",
    "            \n",
    "        for attempt in range(5):\n",
    "            try:\n",
    "                with open(res_path/\"res.txt\", \"a\") as f:\n",
    "                    trainacct = np.max(res[iM][iPara][:,1,:], axis=-1)\n",
    "                    testacct = np.max(res[iM][iPara][:,2,:], axis=-1)\n",
    "                    f.write(f\"{s_task_info} Time: {current_time}: \"\n",
    "                            f\"train: {np.mean(trainacct) * 100:.2f}%+-{np.std(trainacct, ddof=1)*100:.2f}% ({np.min(trainacct) * 100:.2f}% {np.max(trainacct) * 100:.2f}%)\"\n",
    "                            f\"\\t test: {np.mean(testacct) * 100:.2f}%+-{np.std(testacct, ddof=1)*100:.2f}% ({np.min(testacct) * 100:.2f}% {np.max(testacct) * 100:.2f}%)\\n\")\n",
    "\n",
    "                    if Para_EP!=None:\n",
    "                        for key, value in Para_EP.items():\n",
    "                            f.write(f\"{key}: {value}  \")\n",
    "                    f.write(f'\\n\\n')  \n",
    "\n",
    "                break  # \n",
    "            except PermissionError:\n",
    "                if attempt < 5 - 1:\n",
    "                    print(f\"Permission denied, retrying in {5} seconds...\")\n",
    "                    time.sleep(5)\n",
    "                else:\n",
    "                    raise  # "
   ]
  },
  {
   "cell_type": "code",
   "execution_count": 8,
   "id": "c5626ba2",
   "metadata": {},
   "outputs": [],
   "source": [
    "current_time = time.strftime(\"%Y%m%d-%H%M%S\", time.localtime())\n",
    "if fsave: \n",
    "    save_dict = {\n",
    "        \"M_range\": M_range,\n",
    "        \"ParaRange\": ParaRange,\n",
    "        \"multitest\": multitest,\n",
    "        \"Para_EP\": Para_EP,\n",
    "        \"Para_t\": Para_t,       \n",
    "        \"res\": res,\n",
    "    }\n",
    "    np.savez_compressed(res_path / f\"{s_task_info}_{current_time}_res\",  **save_dict)\n"
   ]
  },
  {
   "cell_type": "code",
   "execution_count": 9,
   "id": "4d04650e",
   "metadata": {},
   "outputs": [
    {
     "name": "stdout",
     "output_type": "stream",
     "text": [
      "MNIST\t_0\t_10\t_train: 87.43%+-2.10% (84.21% 89.58%)\t test: 87.57%+-2.10% (84.36% 89.78%)\n",
      "\n",
      "MNIST\t_0.02\t_10\t_train: 92.40%+-5.23% (88.27% 98.75%)\t test: 91.75%+-4.37% (87.60% 96.58%)\n",
      "\n",
      "MNIST\t_0.1\t_10\t_train: 97.77%+-1.87% (94.43% 98.69%)\t test: 96.01%+-1.14% (93.98% 96.64%)\n",
      "\n",
      "MNIST\t_0.2\t_10\t_train: 98.93%+-0.20% (98.66% 99.14%)\t test: 96.72%+-0.14% (96.51% 96.86%)\n",
      "\n",
      "MNIST\t_0.5\t_10\t_train: 98.80%+-0.30% (98.50% 99.12%)\t test: 96.71%+-0.26% (96.41% 96.96%)\n",
      "\n",
      "MNIST\t_1\t_10\t_train: 97.42%+-0.57% (96.80% 98.26%)\t test: 96.32%+-0.32% (95.85% 96.59%)\n",
      "\n",
      "0\n"
     ]
    }
   ],
   "source": [
    "\n",
    "for iM in range( len(M_range) ):\n",
    "    for iPara in range( len(ParaRange) ):        \n",
    "        tt = res[iM][iPara]\n",
    "        testacctt = np.max(tt[:,2,:], axis= -1)\n",
    "\n",
    "        tt = res[iM][iPara]\n",
    "        trainacctt = np.max(tt[:,1,:], axis= -1)\n",
    "\n",
    "        print(f\"{Para_t['task']}\\t_{M_range[iM]}\\t_{ParaRange[iPara]}\\t_\"\n",
    "              f\"train: {np.mean(trainacctt) * 100:.2f}%+-{np.std(trainacctt, ddof=1)*100:.2f}% ({np.min(trainacctt) * 100:.2f}% {np.max(trainacctt) * 100:.2f}%)\"\n",
    "              f\"\\t test: {np.mean(testacctt) * 100:.2f}%+-{np.std(testacctt, ddof=1)*100:.2f}% ({np.min(testacctt) * 100:.2f}% {np.max(testacctt) * 100:.2f}%)\\n\")\n",
    "        \n",
    "\n",
    "print('0')"
   ]
  }
 ],
 "metadata": {
  "kernelspec": {
   "display_name": "torchgpu",
   "language": "python",
   "name": "python3"
  },
  "language_info": {
   "codemirror_mode": {
    "name": "ipython",
    "version": 3
   },
   "file_extension": ".py",
   "mimetype": "text/x-python",
   "name": "python",
   "nbconvert_exporter": "python",
   "pygments_lexer": "ipython3",
   "version": "3.9.20"
  }
 },
 "nbformat": 4,
 "nbformat_minor": 5
}
