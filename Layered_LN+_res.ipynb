{
 "cells": [
  {
   "cell_type": "code",
   "execution_count": 1,
   "id": "f9d11af5",
   "metadata": {},
   "outputs": [
    {
     "data": {
      "text/plain": [
       "<torch.autograd.grad_mode.set_grad_enabled at 0x17e44082c70>"
      ]
     },
     "execution_count": 1,
     "metadata": {},
     "output_type": "execute_result"
    }
   ],
   "source": [
    "import torch\n",
    "import numpy as np\n",
    "import random\n",
    "import time\n",
    "from tqdm import tqdm  # \n",
    "from pathlib import Path\n",
    "\n",
    "\n",
    "from models_LN_G import EPNN_LN, dataset, one_hot, cross_entropy_loss, linear, linear_d, tanh, tanh_d, sign, sign_d, sigmoid, sigmoid_d, relu, relu_d, relu6, relu6_d, softmax, softmax_d\n",
    "\n",
    "torch.set_grad_enabled(False)\n"
   ]
  },
  {
   "cell_type": "code",
   "execution_count": 2,
   "id": "7053ee30",
   "metadata": {},
   "outputs": [
    {
     "name": "stdout",
     "output_type": "stream",
     "text": [
      "cuda:True\n",
      "GPU 0:NVIDIA GeForce RTX 4070:11.99GB\n"
     ]
    }
   ],
   "source": [
    "\n",
    "seed = 42\n",
    "random.seed(seed)\n",
    "np.random.seed(seed)\n",
    "torch.manual_seed(seed)\n",
    "if torch.cuda.is_available():\n",
    "    torch.cuda.manual_seed(seed)\n",
    "    torch.cuda.manual_seed_all(seed)\n",
    "# torch.backends.cudnn.deterministic = True\n",
    "# torch.backends.cudnn.benchmark = False\n",
    "torch.backends.cudnn.benchmark = True\n",
    "\n",
    "\n",
    "if torch.cuda.is_available():\n",
    "    print(f\"cuda:True\")\n",
    "    for i in range(torch.cuda.device_count()):\n",
    "        device = torch.device(f\"cuda:{i}\")\n",
    "        properties = torch.cuda.get_device_properties(device)\n",
    "        print(f\"GPU {i}:{properties.name}:{properties.total_memory/1024/1024/1024:.2f}GB\")\n",
    "else:\n",
    "    print(f\"cuda:False\")\n",
    "    device = torch.device(\"cpu\")"
   ]
  },
  {
   "cell_type": "code",
   "execution_count": 3,
   "id": "e0032328",
   "metadata": {},
   "outputs": [],
   "source": [
    "\n",
    "#========================================================\n",
    "# W_conn = [wij]\n",
    "# i row: input \n",
    "# j col: output\n",
    "# 0:input layer     ...:hidden layer    -1:output layer\n",
    "#--------------------------------------------------------\n",
    "def make_W_conn(n_hidden, startres=-1, block_size=2):\n",
    "    \"\"\"\n",
    "    Generate the connectivity matrix W_conn:\n",
    "      - Total nodes N = 1 (input) + n_hidden + 1 (output)\n",
    "      - Bidirectional connections between adjacent layers (i <-> i+1)\n",
    "      - Residual connections: from the start of each block, skip one block and connect forward\n",
    "        (for block_size=2, startres=1, that is i -> i+3, e.g. 2->5, 4->7, 6->9…)\n",
    "    \"\"\"\n",
    "    N = n_hidden + 2\n",
    "    W = np.zeros((N, N), dtype=int)\n",
    "\n",
    "    # connect each layer to the next (both directions)\n",
    "    for i in range(N - 1):\n",
    "        W[i, i + 1] = 1\n",
    "        W[i + 1, i] = 1\n",
    "\n",
    "    W[1, 0]=0\n",
    "    # add residual (skip) connections\n",
    "    if startres>0:\n",
    "        for start in range(startres, N, block_size):\n",
    "            target = start + block_size \n",
    "            if target < N:\n",
    "                W[start, target] = 1\n",
    "                W[target, start] = 1\n",
    "\n",
    "    return W"
   ]
  },
  {
   "cell_type": "code",
   "execution_count": 4,
   "id": "752c0143",
   "metadata": {},
   "outputs": [
    {
     "name": "stdout",
     "output_type": "stream",
     "text": [
      "[[0 1 0 0 0 0 0 0 0 0 0 0 0 0 0 0 0 0 0 0 0 0]\n",
      " [0 0 1 0 1 0 0 0 0 0 0 0 0 0 0 0 0 0 0 0 0 0]\n",
      " [0 1 0 1 0 0 0 0 0 0 0 0 0 0 0 0 0 0 0 0 0 0]\n",
      " [0 0 1 0 1 0 0 0 0 0 0 0 0 0 0 0 0 0 0 0 0 0]\n",
      " [0 1 0 1 0 1 0 1 0 0 0 0 0 0 0 0 0 0 0 0 0 0]\n",
      " [0 0 0 0 1 0 1 0 0 0 0 0 0 0 0 0 0 0 0 0 0 0]\n",
      " [0 0 0 0 0 1 0 1 0 0 0 0 0 0 0 0 0 0 0 0 0 0]\n",
      " [0 0 0 0 1 0 1 0 1 0 1 0 0 0 0 0 0 0 0 0 0 0]\n",
      " [0 0 0 0 0 0 0 1 0 1 0 0 0 0 0 0 0 0 0 0 0 0]\n",
      " [0 0 0 0 0 0 0 0 1 0 1 0 0 0 0 0 0 0 0 0 0 0]\n",
      " [0 0 0 0 0 0 0 1 0 1 0 1 0 1 0 0 0 0 0 0 0 0]\n",
      " [0 0 0 0 0 0 0 0 0 0 1 0 1 0 0 0 0 0 0 0 0 0]\n",
      " [0 0 0 0 0 0 0 0 0 0 0 1 0 1 0 0 0 0 0 0 0 0]\n",
      " [0 0 0 0 0 0 0 0 0 0 1 0 1 0 1 0 1 0 0 0 0 0]\n",
      " [0 0 0 0 0 0 0 0 0 0 0 0 0 1 0 1 0 0 0 0 0 0]\n",
      " [0 0 0 0 0 0 0 0 0 0 0 0 0 0 1 0 1 0 0 0 0 0]\n",
      " [0 0 0 0 0 0 0 0 0 0 0 0 0 1 0 1 0 1 0 1 0 0]\n",
      " [0 0 0 0 0 0 0 0 0 0 0 0 0 0 0 0 1 0 1 0 0 0]\n",
      " [0 0 0 0 0 0 0 0 0 0 0 0 0 0 0 0 0 1 0 1 0 0]\n",
      " [0 0 0 0 0 0 0 0 0 0 0 0 0 0 0 0 1 0 1 0 1 0]\n",
      " [0 0 0 0 0 0 0 0 0 0 0 0 0 0 0 0 0 0 0 1 0 1]\n",
      " [0 0 0 0 0 0 0 0 0 0 0 0 0 0 0 0 0 0 0 0 1 0]]\n",
      "W_conn_symm:True\n"
     ]
    }
   ],
   "source": [
    "\n",
    "NL = 20\n",
    "W_conn = make_W_conn(n_hidden=NL, startres=1, block_size=3)\n",
    "\n",
    "nodes = [28*28] + [64]*NL + [10]\n",
    "print(W_conn)\n",
    "\n",
    "print(f\"W_conn_symm:{np.array_equal(W_conn[1:,1:], W_conn[1:,1:].T)}\")\n",
    "W_conn[1:,1:] = np.triu(W_conn[1:,1:]) + np.triu(W_conn[1:,1:], 1).T\n",
    "# -------------------\n",
    "Para_EP = {\n",
    "     'EP_symm_W': True,\n",
    "     'fsc': 1,\n",
    "     'bsc': 0.1,\n",
    "     'nudge': 0.1,\n",
    "     'It2sta': (len(nodes)-2)*5,\n",
    "     'It2sta2': (len(nodes)-2)*2,\n",
    "     }\n",
    "\n",
    "# training:\n",
    "Para_t = {\n",
    "     'f': tanh,\n",
    "     'fd': tanh_d,\n",
    "     'ff': softmax,\n",
    "     'ffd': softmax_d,\n",
    "\n",
    "     'adam': True,\n",
    "     'eta': 1e-3,\n",
    "     'epoch': 50,\n",
    "     'batchsize': 500,\n",
    "     'task': \"MNIST\",\n",
    "     'method': 'EP' ,\n",
    "     \n",
    "     'bias_learn': False,\n",
    "     'bias_init_sc':0,\n",
    "     }"
   ]
  },
  {
   "cell_type": "code",
   "execution_count": 5,
   "id": "9d1fe607",
   "metadata": {},
   "outputs": [],
   "source": [
    "# \n",
    "fsave = True\n",
    "\n",
    "##\n",
    "Task_info = f\"First_symm_N-HL_Res\"\n",
    "# Task_info = f\"Test\"\n",
    "Einfo = ''\n",
    "\n",
    "res_path = Path(f\"./Res/{Task_info}\")\n",
    "M_range = [\"MNIST\",\"CIFAR10\"] #,\"MNIST\",\"CIFAR10\"\n",
    "ParaRange = [10, 20] # 10,20,\n",
    "multitest = 5"
   ]
  },
  {
   "cell_type": "code",
   "execution_count": 6,
   "id": "4b1c0ad2",
   "metadata": {},
   "outputs": [],
   "source": [
    "res_path.mkdir(parents=True, exist_ok=True)\n",
    "res = np.zeros((len(M_range),len(ParaRange),(multitest),6,Para_t['epoch']))\n",
    "\n",
    "zall_list = [[[] for _ in range(len(ParaRange))] for _ in range(len(M_range))]\n",
    "eall_list = [[[[] for _ in range((multitest))] for _ in range(len(ParaRange))] for _ in range(len(M_range))]\n"
   ]
  },
  {
   "cell_type": "code",
   "execution_count": 7,
   "id": "d92d1556",
   "metadata": {},
   "outputs": [
    {
     "name": "stdout",
     "output_type": "stream",
     "text": [
      "[[0 1 0 0 0 0 0 0 0 0 0 0]\n",
      " [0 0 1 0 1 0 0 0 0 0 0 0]\n",
      " [0 1 0 1 0 0 0 0 0 0 0 0]\n",
      " [0 0 1 0 1 0 0 0 0 0 0 0]\n",
      " [0 1 0 1 0 1 0 1 0 0 0 0]\n",
      " [0 0 0 0 1 0 1 0 0 0 0 0]\n",
      " [0 0 0 0 0 1 0 1 0 0 0 0]\n",
      " [0 0 0 0 1 0 1 0 1 0 1 0]\n",
      " [0 0 0 0 0 0 0 1 0 1 0 0]\n",
      " [0 0 0 0 0 0 0 0 1 0 1 0]\n",
      " [0 0 0 0 0 0 0 1 0 1 0 1]\n",
      " [0 0 0 0 0 0 0 0 0 0 1 0]]\n",
      "First_symm_N-HL_Res-EP_L10--MNIST_EP_b_sc0.1-\n"
     ]
    },
    {
     "name": "stderr",
     "output_type": "stream",
     "text": [
      "Epoch 1/50:: 100%|\u001b[34m████████████████████\u001b[0m| 120/120 [00:02<00:00, 45.33batch/s, loss=0.594353]\u001b[0m\n"
     ]
    },
    {
     "name": "stdout",
     "output_type": "stream",
     "text": [
      "\t Loss: 71.322,\tTrain : 82.10%(82.10%),\tTest : 92.48%(92.48%),\tCurrent Time: 20250917-163752\n"
     ]
    },
    {
     "name": "stderr",
     "output_type": "stream",
     "text": [
      "Epoch 2/50:: 100%|\u001b[34m████████████████████\u001b[0m| 120/120 [00:02<00:00, 47.34batch/s, loss=0.218860]\u001b[0m\n"
     ]
    },
    {
     "name": "stdout",
     "output_type": "stream",
     "text": [
      "\t Loss: 26.263,\tTrain : 93.53%(93.53%),\tTest : 94.65%(94.65%),\tCurrent Time: 20250917-163755\n"
     ]
    },
    {
     "name": "stderr",
     "output_type": "stream",
     "text": [
      "Epoch 3/50:: 100%|\u001b[34m████████████████████\u001b[0m| 120/120 [00:02<00:00, 47.55batch/s, loss=0.164871]\u001b[0m\n"
     ]
    },
    {
     "name": "stdout",
     "output_type": "stream",
     "text": [
      "\t Loss: 19.784,\tTrain : 95.12%(95.12%),\tTest : 94.77%(94.77%),\tCurrent Time: 20250917-163758\n"
     ]
    },
    {
     "name": "stderr",
     "output_type": "stream",
     "text": [
      "Epoch 4/50:: 100%|\u001b[34m████████████████████\u001b[0m| 120/120 [00:02<00:00, 46.79batch/s, loss=0.134728]\u001b[0m\n"
     ]
    },
    {
     "name": "stdout",
     "output_type": "stream",
     "text": [
      "\t Loss: 16.167,\tTrain : 95.97%(95.97%),\tTest : 95.63%(95.63%),\tCurrent Time: 20250917-163800\n"
     ]
    },
    {
     "name": "stderr",
     "output_type": "stream",
     "text": [
      "Epoch 5/50:: 100%|\u001b[34m████████████████████\u001b[0m| 120/120 [00:02<00:00, 48.61batch/s, loss=0.118726]\u001b[0m\n"
     ]
    },
    {
     "name": "stdout",
     "output_type": "stream",
     "text": [
      "\t Loss: 14.247,\tTrain : 96.42%(96.42%),\tTest : 96.26%(96.26%),\tCurrent Time: 20250917-163803\n"
     ]
    },
    {
     "name": "stderr",
     "output_type": "stream",
     "text": [
      "Epoch 6/50:: 100%|\u001b[34m████████████████████\u001b[0m| 120/120 [00:02<00:00, 48.33batch/s, loss=0.102984]\u001b[0m\n"
     ]
    },
    {
     "name": "stdout",
     "output_type": "stream",
     "text": [
      "\t Loss: 12.358,\tTrain : 96.98%(96.98%),\tTest : 96.38%(96.38%),\tCurrent Time: 20250917-163805\n"
     ]
    },
    {
     "name": "stderr",
     "output_type": "stream",
     "text": [
      "Epoch 7/50:: 100%|\u001b[34m████████████████████\u001b[0m| 120/120 [00:02<00:00, 48.31batch/s, loss=0.088969]\u001b[0m\n"
     ]
    },
    {
     "name": "stdout",
     "output_type": "stream",
     "text": [
      "\t Loss: 10.676,\tTrain : 97.42%(97.42%),\tTest : 96.21%(96.38%),\tCurrent Time: 20250917-163808\n"
     ]
    },
    {
     "name": "stderr",
     "output_type": "stream",
     "text": [
      "Epoch 8/50:: 100%|\u001b[34m████████████████████\u001b[0m| 120/120 [00:02<00:00, 47.73batch/s, loss=0.081346]\u001b[0m\n"
     ]
    },
    {
     "name": "stdout",
     "output_type": "stream",
     "text": [
      "\t Loss: 9.762,\tTrain : 97.57%(97.57%),\tTest : 96.63%(96.63%),\tCurrent Time: 20250917-163811\n"
     ]
    },
    {
     "name": "stderr",
     "output_type": "stream",
     "text": [
      "Epoch 9/50:: 100%|\u001b[34m████████████████████\u001b[0m| 120/120 [00:02<00:00, 49.37batch/s, loss=0.072535]\u001b[0m\n"
     ]
    },
    {
     "name": "stdout",
     "output_type": "stream",
     "text": [
      "\t Loss: 8.704,\tTrain : 97.82%(97.82%),\tTest : 96.82%(96.82%),\tCurrent Time: 20250917-163813\n"
     ]
    },
    {
     "name": "stderr",
     "output_type": "stream",
     "text": [
      "Epoch 10/50:: 100%|\u001b[34m███████████████████\u001b[0m| 120/120 [00:02<00:00, 48.64batch/s, loss=0.070366]\u001b[0m\n"
     ]
    },
    {
     "name": "stdout",
     "output_type": "stream",
     "text": [
      "\t Loss: 8.444,\tTrain : 97.86%(97.86%),\tTest : 96.78%(96.82%),\tCurrent Time: 20250917-163816\n"
     ]
    },
    {
     "name": "stderr",
     "output_type": "stream",
     "text": [
      "Epoch 11/50:: 100%|\u001b[34m███████████████████\u001b[0m| 120/120 [00:02<00:00, 49.11batch/s, loss=0.064471]\u001b[0m\n"
     ]
    },
    {
     "name": "stdout",
     "output_type": "stream",
     "text": [
      "\t Loss: 7.737,\tTrain : 98.03%(98.03%),\tTest : 96.85%(96.85%),\tCurrent Time: 20250917-163818\n"
     ]
    },
    {
     "name": "stderr",
     "output_type": "stream",
     "text": [
      "Epoch 12/50:: 100%|\u001b[34m███████████████████\u001b[0m| 120/120 [00:02<00:00, 49.29batch/s, loss=0.056162]\u001b[0m\n"
     ]
    },
    {
     "name": "stdout",
     "output_type": "stream",
     "text": [
      "\t Loss: 6.739,\tTrain : 98.33%(98.33%),\tTest : 97.05%(97.05%),\tCurrent Time: 20250917-163821\n"
     ]
    },
    {
     "name": "stderr",
     "output_type": "stream",
     "text": [
      "Epoch 13/50:: 100%|\u001b[34m███████████████████\u001b[0m| 120/120 [00:02<00:00, 49.19batch/s, loss=0.052188]\u001b[0m\n"
     ]
    },
    {
     "name": "stdout",
     "output_type": "stream",
     "text": [
      "\t Loss: 6.263,\tTrain : 98.46%(98.46%),\tTest : 96.83%(97.05%),\tCurrent Time: 20250917-163823\n"
     ]
    },
    {
     "name": "stderr",
     "output_type": "stream",
     "text": [
      "Epoch 14/50:: 100%|\u001b[34m███████████████████\u001b[0m| 120/120 [00:02<00:00, 48.65batch/s, loss=0.050896]\u001b[0m\n"
     ]
    },
    {
     "name": "stdout",
     "output_type": "stream",
     "text": [
      "\t Loss: 6.108,\tTrain : 98.42%(98.46%),\tTest : 97.00%(97.05%),\tCurrent Time: 20250917-163826\n"
     ]
    },
    {
     "name": "stderr",
     "output_type": "stream",
     "text": [
      "Epoch 15/50:: 100%|\u001b[34m███████████████████\u001b[0m| 120/120 [00:02<00:00, 49.37batch/s, loss=0.043377]\u001b[0m\n"
     ]
    },
    {
     "name": "stdout",
     "output_type": "stream",
     "text": [
      "\t Loss: 5.205,\tTrain : 98.71%(98.71%),\tTest : 96.90%(97.05%),\tCurrent Time: 20250917-163828\n"
     ]
    },
    {
     "name": "stderr",
     "output_type": "stream",
     "text": [
      "Epoch 16/50:: 100%|\u001b[34m███████████████████\u001b[0m| 120/120 [00:02<00:00, 49.28batch/s, loss=0.039415]\u001b[0m\n"
     ]
    },
    {
     "name": "stdout",
     "output_type": "stream",
     "text": [
      "\t Loss: 4.730,\tTrain : 98.82%(98.82%),\tTest : 97.18%(97.18%),\tCurrent Time: 20250917-163831\n"
     ]
    },
    {
     "name": "stderr",
     "output_type": "stream",
     "text": [
      "Epoch 17/50:: 100%|\u001b[34m███████████████████\u001b[0m| 120/120 [00:02<00:00, 49.40batch/s, loss=0.037158]\u001b[0m\n"
     ]
    },
    {
     "name": "stdout",
     "output_type": "stream",
     "text": [
      "\t Loss: 4.459,\tTrain : 98.89%(98.89%),\tTest : 97.04%(97.18%),\tCurrent Time: 20250917-163833\n"
     ]
    },
    {
     "name": "stderr",
     "output_type": "stream",
     "text": [
      "Epoch 18/50:: 100%|\u001b[34m███████████████████\u001b[0m| 120/120 [00:02<00:00, 49.33batch/s, loss=0.035863]\u001b[0m\n"
     ]
    },
    {
     "name": "stdout",
     "output_type": "stream",
     "text": [
      "\t Loss: 4.304,\tTrain : 98.94%(98.94%),\tTest : 96.99%(97.18%),\tCurrent Time: 20250917-163836\n"
     ]
    },
    {
     "name": "stderr",
     "output_type": "stream",
     "text": [
      "Epoch 19/50:: 100%|\u001b[34m███████████████████\u001b[0m| 120/120 [00:02<00:00, 49.30batch/s, loss=0.034107]\u001b[0m\n"
     ]
    },
    {
     "name": "stdout",
     "output_type": "stream",
     "text": [
      "\t Loss: 4.093,\tTrain : 98.90%(98.94%),\tTest : 97.23%(97.23%),\tCurrent Time: 20250917-163838\n"
     ]
    },
    {
     "name": "stderr",
     "output_type": "stream",
     "text": [
      "Epoch 20/50:: 100%|\u001b[34m███████████████████\u001b[0m| 120/120 [00:02<00:00, 49.32batch/s, loss=0.027983]\u001b[0m\n"
     ]
    },
    {
     "name": "stdout",
     "output_type": "stream",
     "text": [
      "\t Loss: 3.358,\tTrain : 99.14%(99.14%),\tTest : 97.07%(97.23%),\tCurrent Time: 20250917-163841\n"
     ]
    },
    {
     "name": "stderr",
     "output_type": "stream",
     "text": [
      "Epoch 21/50:: 100%|\u001b[34m███████████████████\u001b[0m| 120/120 [00:02<00:00, 49.37batch/s, loss=0.026142]\u001b[0m\n"
     ]
    },
    {
     "name": "stdout",
     "output_type": "stream",
     "text": [
      "\t Loss: 3.137,\tTrain : 99.24%(99.24%),\tTest : 97.13%(97.23%),\tCurrent Time: 20250917-163843\n"
     ]
    },
    {
     "name": "stderr",
     "output_type": "stream",
     "text": [
      "Epoch 22/50:: 100%|\u001b[34m███████████████████\u001b[0m| 120/120 [00:02<00:00, 49.26batch/s, loss=0.026260]\u001b[0m\n"
     ]
    },
    {
     "name": "stdout",
     "output_type": "stream",
     "text": [
      "\t Loss: 3.151,\tTrain : 99.21%(99.24%),\tTest : 97.19%(97.23%),\tCurrent Time: 20250917-163846\n"
     ]
    },
    {
     "name": "stderr",
     "output_type": "stream",
     "text": [
      "Epoch 23/50:: 100%|\u001b[34m███████████████████\u001b[0m| 120/120 [00:02<00:00, 49.41batch/s, loss=0.025113]\u001b[0m\n"
     ]
    },
    {
     "name": "stdout",
     "output_type": "stream",
     "text": [
      "\t Loss: 3.014,\tTrain : 99.25%(99.25%),\tTest : 97.28%(97.28%),\tCurrent Time: 20250917-163849\n"
     ]
    },
    {
     "name": "stderr",
     "output_type": "stream",
     "text": [
      "Epoch 24/50:: 100%|\u001b[34m███████████████████\u001b[0m| 120/120 [00:02<00:00, 49.26batch/s, loss=0.021105]\u001b[0m\n"
     ]
    },
    {
     "name": "stdout",
     "output_type": "stream",
     "text": [
      "\t Loss: 2.533,\tTrain : 99.36%(99.36%),\tTest : 96.99%(97.28%),\tCurrent Time: 20250917-163851\n"
     ]
    },
    {
     "name": "stderr",
     "output_type": "stream",
     "text": [
      "Epoch 25/50:: 100%|\u001b[34m███████████████████\u001b[0m| 120/120 [00:02<00:00, 49.38batch/s, loss=0.022308]\u001b[0m\n"
     ]
    },
    {
     "name": "stdout",
     "output_type": "stream",
     "text": [
      "\t Loss: 2.677,\tTrain : 99.31%(99.36%),\tTest : 97.10%(97.28%),\tCurrent Time: 20250917-163854\n"
     ]
    },
    {
     "name": "stderr",
     "output_type": "stream",
     "text": [
      "Epoch 26/50:: 100%|\u001b[34m███████████████████\u001b[0m| 120/120 [00:02<00:00, 49.35batch/s, loss=0.022390]\u001b[0m\n"
     ]
    },
    {
     "name": "stdout",
     "output_type": "stream",
     "text": [
      "\t Loss: 2.687,\tTrain : 99.33%(99.36%),\tTest : 97.17%(97.28%),\tCurrent Time: 20250917-163856\n"
     ]
    },
    {
     "name": "stderr",
     "output_type": "stream",
     "text": [
      "Epoch 27/50:: 100%|\u001b[34m███████████████████\u001b[0m| 120/120 [00:02<00:00, 49.57batch/s, loss=0.017433]\u001b[0m\n"
     ]
    },
    {
     "name": "stdout",
     "output_type": "stream",
     "text": [
      "\t Loss: 2.092,\tTrain : 99.45%(99.45%),\tTest : 97.33%(97.33%),\tCurrent Time: 20250917-163859\n"
     ]
    },
    {
     "name": "stderr",
     "output_type": "stream",
     "text": [
      "Epoch 28/50:: 100%|\u001b[34m███████████████████\u001b[0m| 120/120 [00:02<00:00, 49.25batch/s, loss=0.017550]\u001b[0m\n"
     ]
    },
    {
     "name": "stdout",
     "output_type": "stream",
     "text": [
      "\t Loss: 2.106,\tTrain : 99.46%(99.46%),\tTest : 97.31%(97.33%),\tCurrent Time: 20250917-163901\n"
     ]
    },
    {
     "name": "stderr",
     "output_type": "stream",
     "text": [
      "Epoch 29/50:: 100%|\u001b[34m███████████████████\u001b[0m| 120/120 [00:02<00:00, 49.16batch/s, loss=0.019909]\u001b[0m\n"
     ]
    },
    {
     "name": "stdout",
     "output_type": "stream",
     "text": [
      "\t Loss: 2.389,\tTrain : 99.40%(99.46%),\tTest : 97.06%(97.33%),\tCurrent Time: 20250917-163904\n"
     ]
    },
    {
     "name": "stderr",
     "output_type": "stream",
     "text": [
      "Epoch 30/50:: 100%|\u001b[34m███████████████████\u001b[0m| 120/120 [00:02<00:00, 49.10batch/s, loss=0.018253]\u001b[0m\n"
     ]
    },
    {
     "name": "stdout",
     "output_type": "stream",
     "text": [
      "\t Loss: 2.190,\tTrain : 99.43%(99.46%),\tTest : 97.31%(97.33%),\tCurrent Time: 20250917-163906\n"
     ]
    },
    {
     "name": "stderr",
     "output_type": "stream",
     "text": [
      "Epoch 31/50:: 100%|\u001b[34m███████████████████\u001b[0m| 120/120 [00:02<00:00, 49.35batch/s, loss=0.013412]\u001b[0m\n"
     ]
    },
    {
     "name": "stdout",
     "output_type": "stream",
     "text": [
      "\t Loss: 1.609,\tTrain : 99.60%(99.60%),\tTest : 96.96%(97.33%),\tCurrent Time: 20250917-163909\n"
     ]
    },
    {
     "name": "stderr",
     "output_type": "stream",
     "text": [
      "Epoch 32/50:: 100%|\u001b[34m███████████████████\u001b[0m| 120/120 [00:02<00:00, 49.20batch/s, loss=0.016387]\u001b[0m\n"
     ]
    },
    {
     "name": "stdout",
     "output_type": "stream",
     "text": [
      "\t Loss: 1.966,\tTrain : 99.49%(99.60%),\tTest : 97.32%(97.33%),\tCurrent Time: 20250917-163911\n"
     ]
    },
    {
     "name": "stderr",
     "output_type": "stream",
     "text": [
      "Epoch 33/50:: 100%|\u001b[34m███████████████████\u001b[0m| 120/120 [00:02<00:00, 49.35batch/s, loss=0.014247]\u001b[0m\n"
     ]
    },
    {
     "name": "stdout",
     "output_type": "stream",
     "text": [
      "\t Loss: 1.710,\tTrain : 99.57%(99.60%),\tTest : 97.29%(97.33%),\tCurrent Time: 20250917-163914\n"
     ]
    },
    {
     "name": "stderr",
     "output_type": "stream",
     "text": [
      "Epoch 34/50:: 100%|\u001b[34m███████████████████\u001b[0m| 120/120 [00:02<00:00, 49.33batch/s, loss=0.019265]\u001b[0m\n"
     ]
    },
    {
     "name": "stdout",
     "output_type": "stream",
     "text": [
      "\t Loss: 2.312,\tTrain : 99.40%(99.60%),\tTest : 97.12%(97.33%),\tCurrent Time: 20250917-163916\n"
     ]
    },
    {
     "name": "stderr",
     "output_type": "stream",
     "text": [
      "Epoch 35/50:: 100%|\u001b[34m███████████████████\u001b[0m| 120/120 [00:02<00:00, 49.41batch/s, loss=0.012748]\u001b[0m\n"
     ]
    },
    {
     "name": "stdout",
     "output_type": "stream",
     "text": [
      "\t Loss: 1.530,\tTrain : 99.59%(99.60%),\tTest : 97.10%(97.33%),\tCurrent Time: 20250917-163919\n"
     ]
    },
    {
     "name": "stderr",
     "output_type": "stream",
     "text": [
      "Epoch 36/50:: 100%|\u001b[34m███████████████████\u001b[0m| 120/120 [00:02<00:00, 49.19batch/s, loss=0.011982]\u001b[0m\n"
     ]
    },
    {
     "name": "stdout",
     "output_type": "stream",
     "text": [
      "\t Loss: 1.438,\tTrain : 99.63%(99.63%),\tTest : 97.35%(97.35%),\tCurrent Time: 20250917-163921\n"
     ]
    },
    {
     "name": "stderr",
     "output_type": "stream",
     "text": [
      "Epoch 37/50:: 100%|\u001b[34m███████████████████\u001b[0m| 120/120 [00:02<00:00, 49.15batch/s, loss=0.011336]\u001b[0m\n"
     ]
    },
    {
     "name": "stdout",
     "output_type": "stream",
     "text": [
      "\t Loss: 1.360,\tTrain : 99.66%(99.66%),\tTest : 97.30%(97.35%),\tCurrent Time: 20250917-163924\n"
     ]
    },
    {
     "name": "stderr",
     "output_type": "stream",
     "text": [
      "Epoch 38/50:: 100%|\u001b[34m███████████████████\u001b[0m| 120/120 [00:02<00:00, 49.13batch/s, loss=0.010539]\u001b[0m\n"
     ]
    },
    {
     "name": "stdout",
     "output_type": "stream",
     "text": [
      "\t Loss: 1.265,\tTrain : 99.67%(99.67%),\tTest : 97.25%(97.35%),\tCurrent Time: 20250917-163926\n"
     ]
    },
    {
     "name": "stderr",
     "output_type": "stream",
     "text": [
      "Epoch 39/50:: 100%|\u001b[34m███████████████████\u001b[0m| 120/120 [00:02<00:00, 49.33batch/s, loss=0.012338]\u001b[0m\n"
     ]
    },
    {
     "name": "stdout",
     "output_type": "stream",
     "text": [
      "\t Loss: 1.481,\tTrain : 99.61%(99.67%),\tTest : 97.25%(97.35%),\tCurrent Time: 20250917-163929\n"
     ]
    },
    {
     "name": "stderr",
     "output_type": "stream",
     "text": [
      "Epoch 40/50:: 100%|\u001b[34m███████████████████\u001b[0m| 120/120 [00:02<00:00, 49.31batch/s, loss=0.008665]\u001b[0m\n"
     ]
    },
    {
     "name": "stdout",
     "output_type": "stream",
     "text": [
      "\t Loss: 1.040,\tTrain : 99.70%(99.70%),\tTest : 97.36%(97.36%),\tCurrent Time: 20250917-163932\n"
     ]
    },
    {
     "name": "stderr",
     "output_type": "stream",
     "text": [
      "Epoch 41/50:: 100%|\u001b[34m███████████████████\u001b[0m| 120/120 [00:02<00:00, 48.23batch/s, loss=0.017981]\u001b[0m\n"
     ]
    },
    {
     "name": "stdout",
     "output_type": "stream",
     "text": [
      "\t Loss: 2.158,\tTrain : 99.48%(99.70%),\tTest : 97.22%(97.36%),\tCurrent Time: 20250917-163934\n"
     ]
    },
    {
     "name": "stderr",
     "output_type": "stream",
     "text": [
      "Epoch 42/50:: 100%|\u001b[34m███████████████████\u001b[0m| 120/120 [00:02<00:00, 48.17batch/s, loss=0.010106]\u001b[0m\n"
     ]
    },
    {
     "name": "stdout",
     "output_type": "stream",
     "text": [
      "\t Loss: 1.213,\tTrain : 99.68%(99.70%),\tTest : 97.01%(97.36%),\tCurrent Time: 20250917-163937\n"
     ]
    },
    {
     "name": "stderr",
     "output_type": "stream",
     "text": [
      "Epoch 43/50:: 100%|\u001b[34m███████████████████\u001b[0m| 120/120 [00:02<00:00, 47.42batch/s, loss=0.009197]\u001b[0m\n"
     ]
    },
    {
     "name": "stdout",
     "output_type": "stream",
     "text": [
      "\t Loss: 1.104,\tTrain : 99.72%(99.72%),\tTest : 97.28%(97.36%),\tCurrent Time: 20250917-163939\n"
     ]
    },
    {
     "name": "stderr",
     "output_type": "stream",
     "text": [
      "Epoch 44/50:: 100%|\u001b[34m███████████████████\u001b[0m| 120/120 [00:02<00:00, 47.55batch/s, loss=0.012558]\u001b[0m\n"
     ]
    },
    {
     "name": "stdout",
     "output_type": "stream",
     "text": [
      "\t Loss: 1.507,\tTrain : 99.64%(99.72%),\tTest : 97.35%(97.36%),\tCurrent Time: 20250917-163942\n"
     ]
    },
    {
     "name": "stderr",
     "output_type": "stream",
     "text": [
      "Epoch 45/50:: 100%|\u001b[34m███████████████████\u001b[0m| 120/120 [00:02<00:00, 47.87batch/s, loss=0.008223]\u001b[0m\n"
     ]
    },
    {
     "name": "stdout",
     "output_type": "stream",
     "text": [
      "\t Loss: 0.987,\tTrain : 99.72%(99.72%),\tTest : 97.40%(97.40%),\tCurrent Time: 20250917-163945\n"
     ]
    },
    {
     "name": "stderr",
     "output_type": "stream",
     "text": [
      "Epoch 46/50:: 100%|\u001b[34m███████████████████\u001b[0m| 120/120 [00:02<00:00, 47.57batch/s, loss=0.018380]\u001b[0m\n"
     ]
    },
    {
     "name": "stdout",
     "output_type": "stream",
     "text": [
      "\t Loss: 2.206,\tTrain : 99.48%(99.72%),\tTest : 97.11%(97.40%),\tCurrent Time: 20250917-163947\n"
     ]
    },
    {
     "name": "stderr",
     "output_type": "stream",
     "text": [
      "Epoch 47/50:: 100%|\u001b[34m███████████████████\u001b[0m| 120/120 [00:02<00:00, 47.93batch/s, loss=0.009138]\u001b[0m\n"
     ]
    },
    {
     "name": "stdout",
     "output_type": "stream",
     "text": [
      "\t Loss: 1.097,\tTrain : 99.69%(99.72%),\tTest : 97.44%(97.44%),\tCurrent Time: 20250917-163950\n"
     ]
    },
    {
     "name": "stderr",
     "output_type": "stream",
     "text": [
      "Epoch 48/50:: 100%|\u001b[34m███████████████████\u001b[0m| 120/120 [00:02<00:00, 47.64batch/s, loss=0.008778]\u001b[0m\n"
     ]
    },
    {
     "name": "stdout",
     "output_type": "stream",
     "text": [
      "\t Loss: 1.053,\tTrain : 99.73%(99.73%),\tTest : 97.37%(97.44%),\tCurrent Time: 20250917-163952\n"
     ]
    },
    {
     "name": "stderr",
     "output_type": "stream",
     "text": [
      "Epoch 49/50:: 100%|\u001b[34m███████████████████\u001b[0m| 120/120 [00:02<00:00, 47.91batch/s, loss=0.012324]\u001b[0m\n"
     ]
    },
    {
     "name": "stdout",
     "output_type": "stream",
     "text": [
      "\t Loss: 1.479,\tTrain : 99.64%(99.73%),\tTest : 97.33%(97.44%),\tCurrent Time: 20250917-163955\n"
     ]
    },
    {
     "name": "stderr",
     "output_type": "stream",
     "text": [
      "Epoch 50/50:: 100%|\u001b[34m███████████████████\u001b[0m| 120/120 [00:02<00:00, 47.75batch/s, loss=0.007872]\u001b[0m\n"
     ]
    },
    {
     "name": "stdout",
     "output_type": "stream",
     "text": [
      "\t Loss: 0.945,\tTrain : 99.75%(99.75%),\tTest : 97.20%(97.44%),\tCurrent Time: 20250917-163958\n",
      "First_symm_N-HL_Res-EP_L10--MNIST_EP_b_sc0.1- Time: 20250917-163958, Epochs: 50, Learning Rate: 0.001, Best: 99.75%  97.44%\n",
      "\n",
      "[[0 1 0 0 0 0 0 0 0 0 0 0]\n",
      " [0 0 1 0 1 0 0 0 0 0 0 0]\n",
      " [0 1 0 1 0 0 0 0 0 0 0 0]\n",
      " [0 0 1 0 1 0 0 0 0 0 0 0]\n",
      " [0 1 0 1 0 1 0 1 0 0 0 0]\n",
      " [0 0 0 0 1 0 1 0 0 0 0 0]\n",
      " [0 0 0 0 0 1 0 1 0 0 0 0]\n",
      " [0 0 0 0 1 0 1 0 1 0 1 0]\n",
      " [0 0 0 0 0 0 0 1 0 1 0 0]\n",
      " [0 0 0 0 0 0 0 0 1 0 1 0]\n",
      " [0 0 0 0 0 0 0 1 0 1 0 1]\n",
      " [0 0 0 0 0 0 0 0 0 0 1 0]]\n",
      "First_symm_N-HL_Res-EP_L10--MNIST_EP_b_sc0.1-\n"
     ]
    },
    {
     "name": "stderr",
     "output_type": "stream",
     "text": [
      "Epoch 1/50:: 100%|\u001b[34m████████████████████\u001b[0m| 120/120 [00:02<00:00, 44.19batch/s, loss=0.680934]\u001b[0m\n"
     ]
    },
    {
     "name": "stdout",
     "output_type": "stream",
     "text": [
      "\t Loss: 81.712,\tTrain : 79.21%(79.21%),\tTest : 91.36%(91.36%),\tCurrent Time: 20250917-164005\n"
     ]
    },
    {
     "name": "stderr",
     "output_type": "stream",
     "text": [
      "Epoch 2/50:: 100%|\u001b[34m████████████████████\u001b[0m| 120/120 [00:02<00:00, 47.73batch/s, loss=0.238700]\u001b[0m\n"
     ]
    },
    {
     "name": "stdout",
     "output_type": "stream",
     "text": [
      "\t Loss: 28.644,\tTrain : 93.05%(93.05%),\tTest : 93.92%(93.92%),\tCurrent Time: 20250917-164008\n"
     ]
    },
    {
     "name": "stderr",
     "output_type": "stream",
     "text": [
      "Epoch 3/50:: 100%|\u001b[34m████████████████████\u001b[0m| 120/120 [00:02<00:00, 47.86batch/s, loss=0.169815]\u001b[0m\n"
     ]
    },
    {
     "name": "stdout",
     "output_type": "stream",
     "text": [
      "\t Loss: 20.378,\tTrain : 94.96%(94.96%),\tTest : 95.21%(95.21%),\tCurrent Time: 20250917-164010\n"
     ]
    },
    {
     "name": "stderr",
     "output_type": "stream",
     "text": [
      "Epoch 4/50:: 100%|\u001b[34m████████████████████\u001b[0m| 120/120 [00:02<00:00, 48.08batch/s, loss=0.139261]\u001b[0m\n"
     ]
    },
    {
     "name": "stdout",
     "output_type": "stream",
     "text": [
      "\t Loss: 16.711,\tTrain : 95.87%(95.87%),\tTest : 95.77%(95.77%),\tCurrent Time: 20250917-164013\n"
     ]
    },
    {
     "name": "stderr",
     "output_type": "stream",
     "text": [
      "Epoch 5/50:: 100%|\u001b[34m████████████████████\u001b[0m| 120/120 [00:02<00:00, 47.90batch/s, loss=0.117761]\u001b[0m\n"
     ]
    },
    {
     "name": "stdout",
     "output_type": "stream",
     "text": [
      "\t Loss: 14.131,\tTrain : 96.43%(96.43%),\tTest : 96.15%(96.15%),\tCurrent Time: 20250917-164015\n"
     ]
    },
    {
     "name": "stderr",
     "output_type": "stream",
     "text": [
      "Epoch 6/50:: 100%|\u001b[34m████████████████████\u001b[0m| 120/120 [00:02<00:00, 47.89batch/s, loss=0.105134]\u001b[0m\n"
     ]
    },
    {
     "name": "stdout",
     "output_type": "stream",
     "text": [
      "\t Loss: 12.616,\tTrain : 96.82%(96.82%),\tTest : 96.06%(96.15%),\tCurrent Time: 20250917-164018\n"
     ]
    },
    {
     "name": "stderr",
     "output_type": "stream",
     "text": [
      "Epoch 7/50:: 100%|\u001b[34m████████████████████\u001b[0m| 120/120 [00:02<00:00, 48.06batch/s, loss=0.089855]\u001b[0m\n"
     ]
    },
    {
     "name": "stdout",
     "output_type": "stream",
     "text": [
      "\t Loss: 10.783,\tTrain : 97.39%(97.39%),\tTest : 96.51%(96.51%),\tCurrent Time: 20250917-164021\n"
     ]
    },
    {
     "name": "stderr",
     "output_type": "stream",
     "text": [
      "Epoch 8/50:: 100%|\u001b[34m████████████████████\u001b[0m| 120/120 [00:02<00:00, 47.88batch/s, loss=0.081347]\u001b[0m\n"
     ]
    },
    {
     "name": "stdout",
     "output_type": "stream",
     "text": [
      "\t Loss: 9.762,\tTrain : 97.57%(97.57%),\tTest : 96.31%(96.51%),\tCurrent Time: 20250917-164023\n"
     ]
    },
    {
     "name": "stderr",
     "output_type": "stream",
     "text": [
      "Epoch 9/50:: 100%|\u001b[34m████████████████████\u001b[0m| 120/120 [00:02<00:00, 47.88batch/s, loss=0.072160]\u001b[0m\n"
     ]
    },
    {
     "name": "stdout",
     "output_type": "stream",
     "text": [
      "\t Loss: 8.659,\tTrain : 97.87%(97.87%),\tTest : 96.77%(96.77%),\tCurrent Time: 20250917-164026\n"
     ]
    },
    {
     "name": "stderr",
     "output_type": "stream",
     "text": [
      "Epoch 10/50:: 100%|\u001b[34m███████████████████\u001b[0m| 120/120 [00:02<00:00, 47.88batch/s, loss=0.062473]\u001b[0m\n"
     ]
    },
    {
     "name": "stdout",
     "output_type": "stream",
     "text": [
      "\t Loss: 7.497,\tTrain : 98.18%(98.18%),\tTest : 97.01%(97.01%),\tCurrent Time: 20250917-164028\n"
     ]
    },
    {
     "name": "stderr",
     "output_type": "stream",
     "text": [
      "Epoch 11/50:: 100%|\u001b[34m███████████████████\u001b[0m| 120/120 [00:02<00:00, 47.90batch/s, loss=0.062606]\u001b[0m\n"
     ]
    },
    {
     "name": "stdout",
     "output_type": "stream",
     "text": [
      "\t Loss: 7.513,\tTrain : 98.14%(98.18%),\tTest : 96.94%(97.01%),\tCurrent Time: 20250917-164031\n"
     ]
    },
    {
     "name": "stderr",
     "output_type": "stream",
     "text": [
      "Epoch 12/50:: 100%|\u001b[34m███████████████████\u001b[0m| 120/120 [00:02<00:00, 47.71batch/s, loss=0.054560]\u001b[0m\n"
     ]
    },
    {
     "name": "stdout",
     "output_type": "stream",
     "text": [
      "\t Loss: 6.547,\tTrain : 98.41%(98.41%),\tTest : 97.11%(97.11%),\tCurrent Time: 20250917-164034\n"
     ]
    },
    {
     "name": "stderr",
     "output_type": "stream",
     "text": [
      "Epoch 13/50:: 100%|\u001b[34m███████████████████\u001b[0m| 120/120 [00:02<00:00, 48.04batch/s, loss=0.050552]\u001b[0m\n"
     ]
    },
    {
     "name": "stdout",
     "output_type": "stream",
     "text": [
      "\t Loss: 6.066,\tTrain : 98.53%(98.53%),\tTest : 97.07%(97.11%),\tCurrent Time: 20250917-164036\n"
     ]
    },
    {
     "name": "stderr",
     "output_type": "stream",
     "text": [
      "Epoch 14/50:: 100%|\u001b[34m███████████████████\u001b[0m| 120/120 [00:02<00:00, 47.98batch/s, loss=0.048975]\u001b[0m\n"
     ]
    },
    {
     "name": "stdout",
     "output_type": "stream",
     "text": [
      "\t Loss: 5.877,\tTrain : 98.52%(98.53%),\tTest : 96.86%(97.11%),\tCurrent Time: 20250917-164039\n"
     ]
    },
    {
     "name": "stderr",
     "output_type": "stream",
     "text": [
      "Epoch 15/50:: 100%|\u001b[34m███████████████████\u001b[0m| 120/120 [00:02<00:00, 48.04batch/s, loss=0.043516]\u001b[0m\n"
     ]
    },
    {
     "name": "stdout",
     "output_type": "stream",
     "text": [
      "\t Loss: 5.222,\tTrain : 98.73%(98.73%),\tTest : 97.16%(97.16%),\tCurrent Time: 20250917-164041\n"
     ]
    },
    {
     "name": "stderr",
     "output_type": "stream",
     "text": [
      "Epoch 16/50:: 100%|\u001b[34m███████████████████\u001b[0m| 120/120 [00:02<00:00, 47.77batch/s, loss=0.038480]\u001b[0m\n"
     ]
    },
    {
     "name": "stdout",
     "output_type": "stream",
     "text": [
      "\t Loss: 4.618,\tTrain : 98.83%(98.83%),\tTest : 97.00%(97.16%),\tCurrent Time: 20250917-164044\n"
     ]
    },
    {
     "name": "stderr",
     "output_type": "stream",
     "text": [
      "Epoch 17/50:: 100%|\u001b[34m███████████████████\u001b[0m| 120/120 [00:02<00:00, 47.93batch/s, loss=0.033995]\u001b[0m\n"
     ]
    },
    {
     "name": "stdout",
     "output_type": "stream",
     "text": [
      "\t Loss: 4.079,\tTrain : 98.98%(98.98%),\tTest : 96.73%(97.16%),\tCurrent Time: 20250917-164047\n"
     ]
    },
    {
     "name": "stderr",
     "output_type": "stream",
     "text": [
      "Epoch 18/50:: 100%|\u001b[34m███████████████████\u001b[0m| 120/120 [00:02<00:00, 48.00batch/s, loss=0.032067]\u001b[0m\n"
     ]
    },
    {
     "name": "stdout",
     "output_type": "stream",
     "text": [
      "\t Loss: 3.848,\tTrain : 99.08%(99.08%),\tTest : 97.09%(97.16%),\tCurrent Time: 20250917-164049\n"
     ]
    },
    {
     "name": "stderr",
     "output_type": "stream",
     "text": [
      "Epoch 19/50:: 100%|\u001b[34m███████████████████\u001b[0m| 120/120 [00:02<00:00, 47.84batch/s, loss=0.031988]\u001b[0m\n"
     ]
    },
    {
     "name": "stdout",
     "output_type": "stream",
     "text": [
      "\t Loss: 3.839,\tTrain : 99.04%(99.08%),\tTest : 96.94%(97.16%),\tCurrent Time: 20250917-164052\n"
     ]
    },
    {
     "name": "stderr",
     "output_type": "stream",
     "text": [
      "Epoch 20/50:: 100%|\u001b[34m███████████████████\u001b[0m| 120/120 [00:02<00:00, 47.86batch/s, loss=0.030459]\u001b[0m\n"
     ]
    },
    {
     "name": "stdout",
     "output_type": "stream",
     "text": [
      "\t Loss: 3.655,\tTrain : 99.06%(99.08%),\tTest : 97.18%(97.18%),\tCurrent Time: 20250917-164054\n"
     ]
    },
    {
     "name": "stderr",
     "output_type": "stream",
     "text": [
      "Epoch 21/50:: 100%|\u001b[34m███████████████████\u001b[0m| 120/120 [00:02<00:00, 47.57batch/s, loss=0.031036]\u001b[0m\n"
     ]
    },
    {
     "name": "stdout",
     "output_type": "stream",
     "text": [
      "\t Loss: 3.724,\tTrain : 99.09%(99.09%),\tTest : 96.96%(97.18%),\tCurrent Time: 20250917-164057\n"
     ]
    },
    {
     "name": "stderr",
     "output_type": "stream",
     "text": [
      "Epoch 22/50:: 100%|\u001b[34m███████████████████\u001b[0m| 120/120 [00:02<00:00, 48.03batch/s, loss=0.026379]\u001b[0m\n"
     ]
    },
    {
     "name": "stdout",
     "output_type": "stream",
     "text": [
      "\t Loss: 3.165,\tTrain : 99.21%(99.21%),\tTest : 97.03%(97.18%),\tCurrent Time: 20250917-164100\n"
     ]
    },
    {
     "name": "stderr",
     "output_type": "stream",
     "text": [
      "Epoch 23/50:: 100%|\u001b[34m███████████████████\u001b[0m| 120/120 [00:02<00:00, 48.11batch/s, loss=0.026589]\u001b[0m\n"
     ]
    },
    {
     "name": "stdout",
     "output_type": "stream",
     "text": [
      "\t Loss: 3.191,\tTrain : 99.23%(99.23%),\tTest : 97.26%(97.26%),\tCurrent Time: 20250917-164102\n"
     ]
    },
    {
     "name": "stderr",
     "output_type": "stream",
     "text": [
      "Epoch 24/50:: 100%|\u001b[34m███████████████████\u001b[0m| 120/120 [00:02<00:00, 48.05batch/s, loss=0.019665]\u001b[0m\n"
     ]
    },
    {
     "name": "stdout",
     "output_type": "stream",
     "text": [
      "\t Loss: 2.360,\tTrain : 99.41%(99.41%),\tTest : 97.03%(97.26%),\tCurrent Time: 20250917-164105\n"
     ]
    },
    {
     "name": "stderr",
     "output_type": "stream",
     "text": [
      "Epoch 25/50:: 100%|\u001b[34m███████████████████\u001b[0m| 120/120 [00:02<00:00, 47.75batch/s, loss=0.025154]\u001b[0m\n"
     ]
    },
    {
     "name": "stdout",
     "output_type": "stream",
     "text": [
      "\t Loss: 3.018,\tTrain : 99.23%(99.41%),\tTest : 96.30%(97.26%),\tCurrent Time: 20250917-164107\n"
     ]
    },
    {
     "name": "stderr",
     "output_type": "stream",
     "text": [
      "Epoch 26/50:: 100%|\u001b[34m███████████████████\u001b[0m| 120/120 [00:02<00:00, 47.99batch/s, loss=0.024286]\u001b[0m\n"
     ]
    },
    {
     "name": "stdout",
     "output_type": "stream",
     "text": [
      "\t Loss: 2.914,\tTrain : 99.28%(99.41%),\tTest : 97.18%(97.26%),\tCurrent Time: 20250917-164110\n"
     ]
    },
    {
     "name": "stderr",
     "output_type": "stream",
     "text": [
      "Epoch 27/50:: 100%|\u001b[34m███████████████████\u001b[0m| 120/120 [00:02<00:00, 47.93batch/s, loss=0.016926]\u001b[0m\n"
     ]
    },
    {
     "name": "stdout",
     "output_type": "stream",
     "text": [
      "\t Loss: 2.031,\tTrain : 99.48%(99.48%),\tTest : 97.52%(97.52%),\tCurrent Time: 20250917-164113\n"
     ]
    },
    {
     "name": "stderr",
     "output_type": "stream",
     "text": [
      "Epoch 28/50:: 100%|\u001b[34m███████████████████\u001b[0m| 120/120 [00:02<00:00, 48.07batch/s, loss=0.018208]\u001b[0m\n"
     ]
    },
    {
     "name": "stdout",
     "output_type": "stream",
     "text": [
      "\t Loss: 2.185,\tTrain : 99.44%(99.48%),\tTest : 96.93%(97.52%),\tCurrent Time: 20250917-164115\n"
     ]
    },
    {
     "name": "stderr",
     "output_type": "stream",
     "text": [
      "Epoch 29/50:: 100%|\u001b[34m███████████████████\u001b[0m| 120/120 [00:02<00:00, 47.88batch/s, loss=0.014947]\u001b[0m\n"
     ]
    },
    {
     "name": "stdout",
     "output_type": "stream",
     "text": [
      "\t Loss: 1.794,\tTrain : 99.50%(99.50%),\tTest : 97.43%(97.52%),\tCurrent Time: 20250917-164118\n"
     ]
    },
    {
     "name": "stderr",
     "output_type": "stream",
     "text": [
      "Epoch 30/50:: 100%|\u001b[34m███████████████████\u001b[0m| 120/120 [00:02<00:00, 47.97batch/s, loss=0.010699]\u001b[0m\n"
     ]
    },
    {
     "name": "stdout",
     "output_type": "stream",
     "text": [
      "\t Loss: 1.284,\tTrain : 99.68%(99.68%),\tTest : 97.24%(97.52%),\tCurrent Time: 20250917-164120\n"
     ]
    },
    {
     "name": "stderr",
     "output_type": "stream",
     "text": [
      "Epoch 31/50:: 100%|\u001b[34m███████████████████\u001b[0m| 120/120 [00:02<00:00, 48.01batch/s, loss=0.015586]\u001b[0m\n"
     ]
    },
    {
     "name": "stdout",
     "output_type": "stream",
     "text": [
      "\t Loss: 1.870,\tTrain : 99.52%(99.68%),\tTest : 96.95%(97.52%),\tCurrent Time: 20250917-164123\n"
     ]
    },
    {
     "name": "stderr",
     "output_type": "stream",
     "text": [
      "Epoch 32/50:: 100%|\u001b[34m███████████████████\u001b[0m| 120/120 [00:02<00:00, 48.10batch/s, loss=0.015625]\u001b[0m\n"
     ]
    },
    {
     "name": "stdout",
     "output_type": "stream",
     "text": [
      "\t Loss: 1.875,\tTrain : 99.53%(99.68%),\tTest : 97.32%(97.52%),\tCurrent Time: 20250917-164126\n"
     ]
    },
    {
     "name": "stderr",
     "output_type": "stream",
     "text": [
      "Epoch 33/50:: 100%|\u001b[34m███████████████████\u001b[0m| 120/120 [00:02<00:00, 48.06batch/s, loss=0.011862]\u001b[0m\n"
     ]
    },
    {
     "name": "stdout",
     "output_type": "stream",
     "text": [
      "\t Loss: 1.423,\tTrain : 99.61%(99.68%),\tTest : 97.25%(97.52%),\tCurrent Time: 20250917-164128\n"
     ]
    },
    {
     "name": "stderr",
     "output_type": "stream",
     "text": [
      "Epoch 34/50:: 100%|\u001b[34m███████████████████\u001b[0m| 120/120 [00:02<00:00, 47.92batch/s, loss=0.013247]\u001b[0m\n"
     ]
    },
    {
     "name": "stdout",
     "output_type": "stream",
     "text": [
      "\t Loss: 1.590,\tTrain : 99.58%(99.68%),\tTest : 97.15%(97.52%),\tCurrent Time: 20250917-164131\n"
     ]
    },
    {
     "name": "stderr",
     "output_type": "stream",
     "text": [
      "Epoch 35/50:: 100%|\u001b[34m███████████████████\u001b[0m| 120/120 [00:02<00:00, 48.14batch/s, loss=0.013490]\u001b[0m\n"
     ]
    },
    {
     "name": "stdout",
     "output_type": "stream",
     "text": [
      "\t Loss: 1.619,\tTrain : 99.60%(99.68%),\tTest : 97.08%(97.52%),\tCurrent Time: 20250917-164133\n"
     ]
    },
    {
     "name": "stderr",
     "output_type": "stream",
     "text": [
      "Epoch 36/50:: 100%|\u001b[34m███████████████████\u001b[0m| 120/120 [00:02<00:00, 47.95batch/s, loss=0.013444]\u001b[0m\n"
     ]
    },
    {
     "name": "stdout",
     "output_type": "stream",
     "text": [
      "\t Loss: 1.613,\tTrain : 99.59%(99.68%),\tTest : 97.44%(97.52%),\tCurrent Time: 20250917-164136\n"
     ]
    },
    {
     "name": "stderr",
     "output_type": "stream",
     "text": [
      "Epoch 37/50:: 100%|\u001b[34m███████████████████\u001b[0m| 120/120 [00:02<00:00, 47.98batch/s, loss=0.011447]\u001b[0m\n"
     ]
    },
    {
     "name": "stdout",
     "output_type": "stream",
     "text": [
      "\t Loss: 1.374,\tTrain : 99.63%(99.68%),\tTest : 97.11%(97.52%),\tCurrent Time: 20250917-164139\n"
     ]
    },
    {
     "name": "stderr",
     "output_type": "stream",
     "text": [
      "Epoch 38/50:: 100%|\u001b[34m███████████████████\u001b[0m| 120/120 [00:02<00:00, 47.81batch/s, loss=0.014160]\u001b[0m\n"
     ]
    },
    {
     "name": "stdout",
     "output_type": "stream",
     "text": [
      "\t Loss: 1.699,\tTrain : 99.57%(99.68%),\tTest : 97.34%(97.52%),\tCurrent Time: 20250917-164141\n"
     ]
    },
    {
     "name": "stderr",
     "output_type": "stream",
     "text": [
      "Epoch 39/50:: 100%|\u001b[34m███████████████████\u001b[0m| 120/120 [00:02<00:00, 47.98batch/s, loss=0.011048]\u001b[0m\n"
     ]
    },
    {
     "name": "stdout",
     "output_type": "stream",
     "text": [
      "\t Loss: 1.326,\tTrain : 99.66%(99.68%),\tTest : 96.91%(97.52%),\tCurrent Time: 20250917-164144\n"
     ]
    },
    {
     "name": "stderr",
     "output_type": "stream",
     "text": [
      "Epoch 40/50:: 100%|\u001b[34m███████████████████\u001b[0m| 120/120 [00:02<00:00, 47.87batch/s, loss=0.013088]\u001b[0m\n"
     ]
    },
    {
     "name": "stdout",
     "output_type": "stream",
     "text": [
      "\t Loss: 1.571,\tTrain : 99.61%(99.68%),\tTest : 97.38%(97.52%),\tCurrent Time: 20250917-164146\n"
     ]
    },
    {
     "name": "stderr",
     "output_type": "stream",
     "text": [
      "Epoch 41/50:: 100%|\u001b[34m███████████████████\u001b[0m| 120/120 [00:02<00:00, 48.07batch/s, loss=0.012670]\u001b[0m\n"
     ]
    },
    {
     "name": "stdout",
     "output_type": "stream",
     "text": [
      "\t Loss: 1.520,\tTrain : 99.62%(99.68%),\tTest : 97.08%(97.52%),\tCurrent Time: 20250917-164149\n"
     ]
    },
    {
     "name": "stderr",
     "output_type": "stream",
     "text": [
      "Epoch 42/50:: 100%|\u001b[34m███████████████████\u001b[0m| 120/120 [00:02<00:00, 47.83batch/s, loss=0.009823]\u001b[0m\n"
     ]
    },
    {
     "name": "stdout",
     "output_type": "stream",
     "text": [
      "\t Loss: 1.179,\tTrain : 99.70%(99.70%),\tTest : 97.13%(97.52%),\tCurrent Time: 20250917-164152\n"
     ]
    },
    {
     "name": "stderr",
     "output_type": "stream",
     "text": [
      "Epoch 43/50:: 100%|\u001b[34m███████████████████\u001b[0m| 120/120 [00:02<00:00, 47.87batch/s, loss=0.013828]\u001b[0m\n"
     ]
    },
    {
     "name": "stdout",
     "output_type": "stream",
     "text": [
      "\t Loss: 1.659,\tTrain : 99.59%(99.70%),\tTest : 97.22%(97.52%),\tCurrent Time: 20250917-164154\n"
     ]
    },
    {
     "name": "stderr",
     "output_type": "stream",
     "text": [
      "Epoch 44/50:: 100%|\u001b[34m███████████████████\u001b[0m| 120/120 [00:02<00:00, 48.08batch/s, loss=0.008961]\u001b[0m\n"
     ]
    },
    {
     "name": "stdout",
     "output_type": "stream",
     "text": [
      "\t Loss: 1.075,\tTrain : 99.74%(99.74%),\tTest : 97.38%(97.52%),\tCurrent Time: 20250917-164157\n"
     ]
    },
    {
     "name": "stderr",
     "output_type": "stream",
     "text": [
      "Epoch 45/50:: 100%|\u001b[34m███████████████████\u001b[0m| 120/120 [00:02<00:00, 47.91batch/s, loss=0.007149]\u001b[0m\n"
     ]
    },
    {
     "name": "stdout",
     "output_type": "stream",
     "text": [
      "\t Loss: 0.858,\tTrain : 99.76%(99.76%),\tTest : 97.08%(97.52%),\tCurrent Time: 20250917-164159\n"
     ]
    },
    {
     "name": "stderr",
     "output_type": "stream",
     "text": [
      "Epoch 46/50:: 100%|\u001b[34m███████████████████\u001b[0m| 120/120 [00:02<00:00, 48.04batch/s, loss=0.012171]\u001b[0m\n"
     ]
    },
    {
     "name": "stdout",
     "output_type": "stream",
     "text": [
      "\t Loss: 1.461,\tTrain : 99.66%(99.76%),\tTest : 97.21%(97.52%),\tCurrent Time: 20250917-164202\n"
     ]
    },
    {
     "name": "stderr",
     "output_type": "stream",
     "text": [
      "Epoch 47/50:: 100%|\u001b[34m███████████████████\u001b[0m| 120/120 [00:02<00:00, 47.88batch/s, loss=0.013043]\u001b[0m\n"
     ]
    },
    {
     "name": "stdout",
     "output_type": "stream",
     "text": [
      "\t Loss: 1.565,\tTrain : 99.63%(99.76%),\tTest : 96.88%(97.52%),\tCurrent Time: 20250917-164205\n"
     ]
    },
    {
     "name": "stderr",
     "output_type": "stream",
     "text": [
      "Epoch 48/50:: 100%|\u001b[34m███████████████████\u001b[0m| 120/120 [00:02<00:00, 47.79batch/s, loss=0.017083]\u001b[0m\n"
     ]
    },
    {
     "name": "stdout",
     "output_type": "stream",
     "text": [
      "\t Loss: 2.050,\tTrain : 99.51%(99.76%),\tTest : 96.53%(97.52%),\tCurrent Time: 20250917-164207\n"
     ]
    },
    {
     "name": "stderr",
     "output_type": "stream",
     "text": [
      "Epoch 49/50:: 100%|\u001b[34m███████████████████\u001b[0m| 120/120 [00:02<00:00, 48.00batch/s, loss=0.010460]\u001b[0m\n"
     ]
    },
    {
     "name": "stdout",
     "output_type": "stream",
     "text": [
      "\t Loss: 1.255,\tTrain : 99.69%(99.76%),\tTest : 97.29%(97.52%),\tCurrent Time: 20250917-164210\n"
     ]
    },
    {
     "name": "stderr",
     "output_type": "stream",
     "text": [
      "Epoch 50/50:: 100%|\u001b[34m███████████████████\u001b[0m| 120/120 [00:02<00:00, 47.96batch/s, loss=0.009887]\u001b[0m\n"
     ]
    },
    {
     "name": "stdout",
     "output_type": "stream",
     "text": [
      "\t Loss: 1.186,\tTrain : 99.73%(99.76%),\tTest : 97.05%(97.52%),\tCurrent Time: 20250917-164212\n",
      "First_symm_N-HL_Res-EP_L10--MNIST_EP_b_sc0.1- Time: 20250917-164212, Epochs: 50, Learning Rate: 0.001, Best: 99.76%  97.52%\n",
      "\n",
      "[[0 1 0 0 0 0 0 0 0 0 0 0]\n",
      " [0 0 1 0 1 0 0 0 0 0 0 0]\n",
      " [0 1 0 1 0 0 0 0 0 0 0 0]\n",
      " [0 0 1 0 1 0 0 0 0 0 0 0]\n",
      " [0 1 0 1 0 1 0 1 0 0 0 0]\n",
      " [0 0 0 0 1 0 1 0 0 0 0 0]\n",
      " [0 0 0 0 0 1 0 1 0 0 0 0]\n",
      " [0 0 0 0 1 0 1 0 1 0 1 0]\n",
      " [0 0 0 0 0 0 0 1 0 1 0 0]\n",
      " [0 0 0 0 0 0 0 0 1 0 1 0]\n",
      " [0 0 0 0 0 0 0 1 0 1 0 1]\n",
      " [0 0 0 0 0 0 0 0 0 0 1 0]]\n",
      "First_symm_N-HL_Res-EP_L10--MNIST_EP_b_sc0.1-\n"
     ]
    },
    {
     "name": "stderr",
     "output_type": "stream",
     "text": [
      "Epoch 1/50:: 100%|\u001b[34m████████████████████\u001b[0m| 120/120 [00:02<00:00, 44.09batch/s, loss=0.619349]\u001b[0m\n"
     ]
    },
    {
     "name": "stdout",
     "output_type": "stream",
     "text": [
      "\t Loss: 74.322,\tTrain : 81.21%(81.21%),\tTest : 92.32%(92.32%),\tCurrent Time: 20250917-164220\n"
     ]
    },
    {
     "name": "stderr",
     "output_type": "stream",
     "text": [
      "Epoch 2/50:: 100%|\u001b[34m████████████████████\u001b[0m| 120/120 [00:02<00:00, 47.81batch/s, loss=0.217257]\u001b[0m\n"
     ]
    },
    {
     "name": "stdout",
     "output_type": "stream",
     "text": [
      "\t Loss: 26.071,\tTrain : 93.58%(93.58%),\tTest : 94.39%(94.39%),\tCurrent Time: 20250917-164222\n"
     ]
    },
    {
     "name": "stderr",
     "output_type": "stream",
     "text": [
      "Epoch 3/50:: 100%|\u001b[34m████████████████████\u001b[0m| 120/120 [00:02<00:00, 47.88batch/s, loss=0.165971]\u001b[0m\n"
     ]
    },
    {
     "name": "stdout",
     "output_type": "stream",
     "text": [
      "\t Loss: 19.917,\tTrain : 95.13%(95.13%),\tTest : 95.18%(95.18%),\tCurrent Time: 20250917-164225\n"
     ]
    },
    {
     "name": "stderr",
     "output_type": "stream",
     "text": [
      "Epoch 4/50:: 100%|\u001b[34m████████████████████\u001b[0m| 120/120 [00:02<00:00, 47.91batch/s, loss=0.138604]\u001b[0m\n"
     ]
    },
    {
     "name": "stdout",
     "output_type": "stream",
     "text": [
      "\t Loss: 16.633,\tTrain : 95.83%(95.83%),\tTest : 95.66%(95.66%),\tCurrent Time: 20250917-164227\n"
     ]
    },
    {
     "name": "stderr",
     "output_type": "stream",
     "text": [
      "Epoch 5/50:: 100%|\u001b[34m████████████████████\u001b[0m| 120/120 [00:02<00:00, 47.88batch/s, loss=0.114084]\u001b[0m\n"
     ]
    },
    {
     "name": "stdout",
     "output_type": "stream",
     "text": [
      "\t Loss: 13.690,\tTrain : 96.62%(96.62%),\tTest : 96.36%(96.36%),\tCurrent Time: 20250917-164230\n"
     ]
    },
    {
     "name": "stderr",
     "output_type": "stream",
     "text": [
      "Epoch 6/50:: 100%|\u001b[34m████████████████████\u001b[0m| 120/120 [00:02<00:00, 47.93batch/s, loss=0.099321]\u001b[0m\n"
     ]
    },
    {
     "name": "stdout",
     "output_type": "stream",
     "text": [
      "\t Loss: 11.919,\tTrain : 97.05%(97.05%),\tTest : 96.22%(96.36%),\tCurrent Time: 20250917-164233\n"
     ]
    },
    {
     "name": "stderr",
     "output_type": "stream",
     "text": [
      "Epoch 7/50:: 100%|\u001b[34m████████████████████\u001b[0m| 120/120 [00:02<00:00, 47.81batch/s, loss=0.087406]\u001b[0m\n"
     ]
    },
    {
     "name": "stdout",
     "output_type": "stream",
     "text": [
      "\t Loss: 10.489,\tTrain : 97.38%(97.38%),\tTest : 96.26%(96.36%),\tCurrent Time: 20250917-164235\n"
     ]
    },
    {
     "name": "stderr",
     "output_type": "stream",
     "text": [
      "Epoch 8/50:: 100%|\u001b[34m████████████████████\u001b[0m| 120/120 [00:02<00:00, 47.86batch/s, loss=0.078733]\u001b[0m\n"
     ]
    },
    {
     "name": "stdout",
     "output_type": "stream",
     "text": [
      "\t Loss: 9.448,\tTrain : 97.65%(97.65%),\tTest : 96.62%(96.62%),\tCurrent Time: 20250917-164238\n"
     ]
    },
    {
     "name": "stderr",
     "output_type": "stream",
     "text": [
      "Epoch 9/50:: 100%|\u001b[34m████████████████████\u001b[0m| 120/120 [00:02<00:00, 48.03batch/s, loss=0.073130]\u001b[0m\n"
     ]
    },
    {
     "name": "stdout",
     "output_type": "stream",
     "text": [
      "\t Loss: 8.776,\tTrain : 97.87%(97.87%),\tTest : 97.16%(97.16%),\tCurrent Time: 20250917-164240\n"
     ]
    },
    {
     "name": "stderr",
     "output_type": "stream",
     "text": [
      "Epoch 10/50:: 100%|\u001b[34m███████████████████\u001b[0m| 120/120 [00:02<00:00, 47.64batch/s, loss=0.061751]\u001b[0m\n"
     ]
    },
    {
     "name": "stdout",
     "output_type": "stream",
     "text": [
      "\t Loss: 7.410,\tTrain : 98.17%(98.17%),\tTest : 97.21%(97.21%),\tCurrent Time: 20250917-164243\n"
     ]
    },
    {
     "name": "stderr",
     "output_type": "stream",
     "text": [
      "Epoch 11/50:: 100%|\u001b[34m███████████████████\u001b[0m| 120/120 [00:02<00:00, 47.77batch/s, loss=0.061875]\u001b[0m\n"
     ]
    },
    {
     "name": "stdout",
     "output_type": "stream",
     "text": [
      "\t Loss: 7.425,\tTrain : 98.21%(98.21%),\tTest : 96.85%(97.21%),\tCurrent Time: 20250917-164246\n"
     ]
    },
    {
     "name": "stderr",
     "output_type": "stream",
     "text": [
      "Epoch 12/50:: 100%|\u001b[34m███████████████████\u001b[0m| 120/120 [00:02<00:00, 47.94batch/s, loss=0.054837]\u001b[0m\n"
     ]
    },
    {
     "name": "stdout",
     "output_type": "stream",
     "text": [
      "\t Loss: 6.580,\tTrain : 98.40%(98.40%),\tTest : 97.20%(97.21%),\tCurrent Time: 20250917-164248\n"
     ]
    },
    {
     "name": "stderr",
     "output_type": "stream",
     "text": [
      "Epoch 13/50:: 100%|\u001b[34m███████████████████\u001b[0m| 120/120 [00:02<00:00, 47.79batch/s, loss=0.053961]\u001b[0m\n"
     ]
    },
    {
     "name": "stdout",
     "output_type": "stream",
     "text": [
      "\t Loss: 6.475,\tTrain : 98.43%(98.43%),\tTest : 96.75%(97.21%),\tCurrent Time: 20250917-164251\n"
     ]
    },
    {
     "name": "stderr",
     "output_type": "stream",
     "text": [
      "Epoch 14/50:: 100%|\u001b[34m███████████████████\u001b[0m| 120/120 [00:02<00:00, 47.96batch/s, loss=0.046990]\u001b[0m\n"
     ]
    },
    {
     "name": "stdout",
     "output_type": "stream",
     "text": [
      "\t Loss: 5.639,\tTrain : 98.63%(98.63%),\tTest : 97.18%(97.21%),\tCurrent Time: 20250917-164253\n"
     ]
    },
    {
     "name": "stderr",
     "output_type": "stream",
     "text": [
      "Epoch 15/50:: 100%|\u001b[34m███████████████████\u001b[0m| 120/120 [00:02<00:00, 47.76batch/s, loss=0.043158]\u001b[0m\n"
     ]
    },
    {
     "name": "stdout",
     "output_type": "stream",
     "text": [
      "\t Loss: 5.179,\tTrain : 98.72%(98.72%),\tTest : 97.10%(97.21%),\tCurrent Time: 20250917-164256\n"
     ]
    },
    {
     "name": "stderr",
     "output_type": "stream",
     "text": [
      "Epoch 16/50:: 100%|\u001b[34m███████████████████\u001b[0m| 120/120 [00:02<00:00, 47.79batch/s, loss=0.039052]\u001b[0m\n"
     ]
    },
    {
     "name": "stdout",
     "output_type": "stream",
     "text": [
      "\t Loss: 4.686,\tTrain : 98.88%(98.88%),\tTest : 97.25%(97.25%),\tCurrent Time: 20250917-164259\n"
     ]
    },
    {
     "name": "stderr",
     "output_type": "stream",
     "text": [
      "Epoch 17/50:: 100%|\u001b[34m███████████████████\u001b[0m| 120/120 [00:02<00:00, 47.88batch/s, loss=0.037483]\u001b[0m\n"
     ]
    },
    {
     "name": "stdout",
     "output_type": "stream",
     "text": [
      "\t Loss: 4.498,\tTrain : 98.87%(98.88%),\tTest : 97.34%(97.34%),\tCurrent Time: 20250917-164301\n"
     ]
    },
    {
     "name": "stderr",
     "output_type": "stream",
     "text": [
      "Epoch 18/50:: 100%|\u001b[34m███████████████████\u001b[0m| 120/120 [00:02<00:00, 47.81batch/s, loss=0.033709]\u001b[0m\n"
     ]
    },
    {
     "name": "stdout",
     "output_type": "stream",
     "text": [
      "\t Loss: 4.045,\tTrain : 99.01%(99.01%),\tTest : 97.11%(97.34%),\tCurrent Time: 20250917-164304\n"
     ]
    },
    {
     "name": "stderr",
     "output_type": "stream",
     "text": [
      "Epoch 19/50:: 100%|\u001b[34m███████████████████\u001b[0m| 120/120 [00:02<00:00, 47.89batch/s, loss=0.031067]\u001b[0m\n"
     ]
    },
    {
     "name": "stdout",
     "output_type": "stream",
     "text": [
      "\t Loss: 3.728,\tTrain : 99.05%(99.05%),\tTest : 97.12%(97.34%),\tCurrent Time: 20250917-164306\n"
     ]
    },
    {
     "name": "stderr",
     "output_type": "stream",
     "text": [
      "Epoch 20/50:: 100%|\u001b[34m███████████████████\u001b[0m| 120/120 [00:02<00:00, 47.66batch/s, loss=0.032637]\u001b[0m\n"
     ]
    },
    {
     "name": "stdout",
     "output_type": "stream",
     "text": [
      "\t Loss: 3.916,\tTrain : 99.02%(99.05%),\tTest : 97.20%(97.34%),\tCurrent Time: 20250917-164309\n"
     ]
    },
    {
     "name": "stderr",
     "output_type": "stream",
     "text": [
      "Epoch 21/50:: 100%|\u001b[34m███████████████████\u001b[0m| 120/120 [00:02<00:00, 47.92batch/s, loss=0.028596]\u001b[0m\n"
     ]
    },
    {
     "name": "stdout",
     "output_type": "stream",
     "text": [
      "\t Loss: 3.432,\tTrain : 99.13%(99.13%),\tTest : 97.46%(97.46%),\tCurrent Time: 20250917-164312\n"
     ]
    },
    {
     "name": "stderr",
     "output_type": "stream",
     "text": [
      "Epoch 22/50:: 100%|\u001b[34m███████████████████\u001b[0m| 120/120 [00:02<00:00, 48.04batch/s, loss=0.023955]\u001b[0m\n"
     ]
    },
    {
     "name": "stdout",
     "output_type": "stream",
     "text": [
      "\t Loss: 2.875,\tTrain : 99.28%(99.28%),\tTest : 97.03%(97.46%),\tCurrent Time: 20250917-164314\n"
     ]
    },
    {
     "name": "stderr",
     "output_type": "stream",
     "text": [
      "Epoch 23/50:: 100%|\u001b[34m███████████████████\u001b[0m| 120/120 [00:02<00:00, 47.95batch/s, loss=0.025841]\u001b[0m\n"
     ]
    },
    {
     "name": "stdout",
     "output_type": "stream",
     "text": [
      "\t Loss: 3.101,\tTrain : 99.23%(99.28%),\tTest : 97.11%(97.46%),\tCurrent Time: 20250917-164317\n"
     ]
    },
    {
     "name": "stderr",
     "output_type": "stream",
     "text": [
      "Epoch 24/50:: 100%|\u001b[34m███████████████████\u001b[0m| 120/120 [00:02<00:00, 47.83batch/s, loss=0.023233]\u001b[0m\n"
     ]
    },
    {
     "name": "stdout",
     "output_type": "stream",
     "text": [
      "\t Loss: 2.788,\tTrain : 99.32%(99.32%),\tTest : 96.88%(97.46%),\tCurrent Time: 20250917-164319\n"
     ]
    },
    {
     "name": "stderr",
     "output_type": "stream",
     "text": [
      "Epoch 25/50:: 100%|\u001b[34m███████████████████\u001b[0m| 120/120 [00:02<00:00, 47.78batch/s, loss=0.020964]\u001b[0m\n"
     ]
    },
    {
     "name": "stdout",
     "output_type": "stream",
     "text": [
      "\t Loss: 2.516,\tTrain : 99.38%(99.38%),\tTest : 97.22%(97.46%),\tCurrent Time: 20250917-164322\n"
     ]
    },
    {
     "name": "stderr",
     "output_type": "stream",
     "text": [
      "Epoch 26/50:: 100%|\u001b[34m███████████████████\u001b[0m| 120/120 [00:02<00:00, 47.94batch/s, loss=0.018206]\u001b[0m\n"
     ]
    },
    {
     "name": "stdout",
     "output_type": "stream",
     "text": [
      "\t Loss: 2.185,\tTrain : 99.42%(99.42%),\tTest : 97.05%(97.46%),\tCurrent Time: 20250917-164325\n"
     ]
    },
    {
     "name": "stderr",
     "output_type": "stream",
     "text": [
      "Epoch 27/50:: 100%|\u001b[34m███████████████████\u001b[0m| 120/120 [00:02<00:00, 47.49batch/s, loss=0.014271]\u001b[0m\n"
     ]
    },
    {
     "name": "stdout",
     "output_type": "stream",
     "text": [
      "\t Loss: 1.712,\tTrain : 99.56%(99.56%),\tTest : 97.03%(97.46%),\tCurrent Time: 20250917-164327\n"
     ]
    },
    {
     "name": "stderr",
     "output_type": "stream",
     "text": [
      "Epoch 28/50:: 100%|\u001b[34m███████████████████\u001b[0m| 120/120 [00:02<00:00, 47.69batch/s, loss=0.030651]\u001b[0m\n"
     ]
    },
    {
     "name": "stdout",
     "output_type": "stream",
     "text": [
      "\t Loss: 3.678,\tTrain : 99.13%(99.56%),\tTest : 96.99%(97.46%),\tCurrent Time: 20250917-164330\n"
     ]
    },
    {
     "name": "stderr",
     "output_type": "stream",
     "text": [
      "Epoch 29/50:: 100%|\u001b[34m███████████████████\u001b[0m| 120/120 [00:02<00:00, 47.90batch/s, loss=0.021121]\u001b[0m\n"
     ]
    },
    {
     "name": "stdout",
     "output_type": "stream",
     "text": [
      "\t Loss: 2.535,\tTrain : 99.35%(99.56%),\tTest : 97.17%(97.46%),\tCurrent Time: 20250917-164333\n"
     ]
    },
    {
     "name": "stderr",
     "output_type": "stream",
     "text": [
      "Epoch 30/50:: 100%|\u001b[34m███████████████████\u001b[0m| 120/120 [00:02<00:00, 47.73batch/s, loss=0.018685]\u001b[0m\n"
     ]
    },
    {
     "name": "stdout",
     "output_type": "stream",
     "text": [
      "\t Loss: 2.242,\tTrain : 99.45%(99.56%),\tTest : 97.40%(97.46%),\tCurrent Time: 20250917-164335\n"
     ]
    },
    {
     "name": "stderr",
     "output_type": "stream",
     "text": [
      "Epoch 31/50:: 100%|\u001b[34m███████████████████\u001b[0m| 120/120 [00:02<00:00, 47.93batch/s, loss=0.015101]\u001b[0m\n"
     ]
    },
    {
     "name": "stdout",
     "output_type": "stream",
     "text": [
      "\t Loss: 1.812,\tTrain : 99.57%(99.57%),\tTest : 97.34%(97.46%),\tCurrent Time: 20250917-164338\n"
     ]
    },
    {
     "name": "stderr",
     "output_type": "stream",
     "text": [
      "Epoch 32/50:: 100%|\u001b[34m███████████████████\u001b[0m| 120/120 [00:02<00:00, 47.85batch/s, loss=0.011496]\u001b[0m\n"
     ]
    },
    {
     "name": "stdout",
     "output_type": "stream",
     "text": [
      "\t Loss: 1.380,\tTrain : 99.68%(99.68%),\tTest : 97.44%(97.46%),\tCurrent Time: 20250917-164340\n"
     ]
    },
    {
     "name": "stderr",
     "output_type": "stream",
     "text": [
      "Epoch 33/50:: 100%|\u001b[34m███████████████████\u001b[0m| 120/120 [00:02<00:00, 47.72batch/s, loss=0.012047]\u001b[0m\n"
     ]
    },
    {
     "name": "stdout",
     "output_type": "stream",
     "text": [
      "\t Loss: 1.446,\tTrain : 99.64%(99.68%),\tTest : 97.21%(97.46%),\tCurrent Time: 20250917-164343\n"
     ]
    },
    {
     "name": "stderr",
     "output_type": "stream",
     "text": [
      "Epoch 34/50:: 100%|\u001b[34m███████████████████\u001b[0m| 120/120 [00:02<00:00, 47.49batch/s, loss=0.014261]\u001b[0m\n"
     ]
    },
    {
     "name": "stdout",
     "output_type": "stream",
     "text": [
      "\t Loss: 1.711,\tTrain : 99.56%(99.68%),\tTest : 97.32%(97.46%),\tCurrent Time: 20250917-164346\n"
     ]
    },
    {
     "name": "stderr",
     "output_type": "stream",
     "text": [
      "Epoch 35/50:: 100%|\u001b[34m███████████████████\u001b[0m| 120/120 [00:02<00:00, 48.31batch/s, loss=0.014462]\u001b[0m\n"
     ]
    },
    {
     "name": "stdout",
     "output_type": "stream",
     "text": [
      "\t Loss: 1.735,\tTrain : 99.53%(99.68%),\tTest : 97.04%(97.46%),\tCurrent Time: 20250917-164348\n"
     ]
    },
    {
     "name": "stderr",
     "output_type": "stream",
     "text": [
      "Epoch 36/50:: 100%|\u001b[34m███████████████████\u001b[0m| 120/120 [00:02<00:00, 48.73batch/s, loss=0.012243]\u001b[0m\n"
     ]
    },
    {
     "name": "stdout",
     "output_type": "stream",
     "text": [
      "\t Loss: 1.469,\tTrain : 99.62%(99.68%),\tTest : 97.16%(97.46%),\tCurrent Time: 20250917-164351\n"
     ]
    },
    {
     "name": "stderr",
     "output_type": "stream",
     "text": [
      "Epoch 37/50:: 100%|\u001b[34m███████████████████\u001b[0m| 120/120 [00:02<00:00, 47.44batch/s, loss=0.013097]\u001b[0m\n"
     ]
    },
    {
     "name": "stdout",
     "output_type": "stream",
     "text": [
      "\t Loss: 1.572,\tTrain : 99.65%(99.68%),\tTest : 97.29%(97.46%),\tCurrent Time: 20250917-164353\n"
     ]
    },
    {
     "name": "stderr",
     "output_type": "stream",
     "text": [
      "Epoch 38/50:: 100%|\u001b[34m███████████████████\u001b[0m| 120/120 [00:02<00:00, 47.59batch/s, loss=0.014168]\u001b[0m\n"
     ]
    },
    {
     "name": "stdout",
     "output_type": "stream",
     "text": [
      "\t Loss: 1.700,\tTrain : 99.59%(99.68%),\tTest : 97.19%(97.46%),\tCurrent Time: 20250917-164356\n"
     ]
    },
    {
     "name": "stderr",
     "output_type": "stream",
     "text": [
      "Epoch 39/50:: 100%|\u001b[34m███████████████████\u001b[0m| 120/120 [00:02<00:00, 48.08batch/s, loss=0.010552]\u001b[0m\n"
     ]
    },
    {
     "name": "stdout",
     "output_type": "stream",
     "text": [
      "\t Loss: 1.266,\tTrain : 99.67%(99.68%),\tTest : 97.18%(97.46%),\tCurrent Time: 20250917-164359\n"
     ]
    },
    {
     "name": "stderr",
     "output_type": "stream",
     "text": [
      "Epoch 40/50:: 100%|\u001b[34m███████████████████\u001b[0m| 120/120 [00:02<00:00, 47.77batch/s, loss=0.011552]\u001b[0m\n"
     ]
    },
    {
     "name": "stdout",
     "output_type": "stream",
     "text": [
      "\t Loss: 1.386,\tTrain : 99.68%(99.68%),\tTest : 96.96%(97.46%),\tCurrent Time: 20250917-164401\n"
     ]
    },
    {
     "name": "stderr",
     "output_type": "stream",
     "text": [
      "Epoch 41/50:: 100%|\u001b[34m███████████████████\u001b[0m| 120/120 [00:02<00:00, 47.91batch/s, loss=0.017870]\u001b[0m\n"
     ]
    },
    {
     "name": "stdout",
     "output_type": "stream",
     "text": [
      "\t Loss: 2.144,\tTrain : 99.47%(99.68%),\tTest : 97.23%(97.46%),\tCurrent Time: 20250917-164404\n"
     ]
    },
    {
     "name": "stderr",
     "output_type": "stream",
     "text": [
      "Epoch 42/50:: 100%|\u001b[34m███████████████████\u001b[0m| 120/120 [00:02<00:00, 47.92batch/s, loss=0.014868]\u001b[0m\n"
     ]
    },
    {
     "name": "stdout",
     "output_type": "stream",
     "text": [
      "\t Loss: 1.784,\tTrain : 99.58%(99.68%),\tTest : 97.09%(97.46%),\tCurrent Time: 20250917-164406\n"
     ]
    },
    {
     "name": "stderr",
     "output_type": "stream",
     "text": [
      "Epoch 43/50:: 100%|\u001b[34m███████████████████\u001b[0m| 120/120 [00:02<00:00, 48.02batch/s, loss=0.008758]\u001b[0m\n"
     ]
    },
    {
     "name": "stdout",
     "output_type": "stream",
     "text": [
      "\t Loss: 1.051,\tTrain : 99.73%(99.73%),\tTest : 97.19%(97.46%),\tCurrent Time: 20250917-164409\n"
     ]
    },
    {
     "name": "stderr",
     "output_type": "stream",
     "text": [
      "Epoch 44/50:: 100%|\u001b[34m███████████████████\u001b[0m| 120/120 [00:02<00:00, 47.96batch/s, loss=0.021655]\u001b[0m\n"
     ]
    },
    {
     "name": "stdout",
     "output_type": "stream",
     "text": [
      "\t Loss: 2.599,\tTrain : 99.40%(99.73%),\tTest : 96.68%(97.46%),\tCurrent Time: 20250917-164412\n"
     ]
    },
    {
     "name": "stderr",
     "output_type": "stream",
     "text": [
      "Epoch 45/50:: 100%|\u001b[34m███████████████████\u001b[0m| 120/120 [00:02<00:00, 47.83batch/s, loss=0.013101]\u001b[0m\n"
     ]
    },
    {
     "name": "stdout",
     "output_type": "stream",
     "text": [
      "\t Loss: 1.572,\tTrain : 99.61%(99.73%),\tTest : 97.10%(97.46%),\tCurrent Time: 20250917-164414\n"
     ]
    },
    {
     "name": "stderr",
     "output_type": "stream",
     "text": [
      "Epoch 46/50:: 100%|\u001b[34m███████████████████\u001b[0m| 120/120 [00:02<00:00, 48.00batch/s, loss=0.010729]\u001b[0m\n"
     ]
    },
    {
     "name": "stdout",
     "output_type": "stream",
     "text": [
      "\t Loss: 1.287,\tTrain : 99.71%(99.73%),\tTest : 97.04%(97.46%),\tCurrent Time: 20250917-164417\n"
     ]
    },
    {
     "name": "stderr",
     "output_type": "stream",
     "text": [
      "Epoch 47/50:: 100%|\u001b[34m███████████████████\u001b[0m| 120/120 [00:02<00:00, 47.99batch/s, loss=0.012198]\u001b[0m\n"
     ]
    },
    {
     "name": "stdout",
     "output_type": "stream",
     "text": [
      "\t Loss: 1.464,\tTrain : 99.65%(99.73%),\tTest : 97.04%(97.46%),\tCurrent Time: 20250917-164419\n"
     ]
    },
    {
     "name": "stderr",
     "output_type": "stream",
     "text": [
      "Epoch 48/50:: 100%|\u001b[34m███████████████████\u001b[0m| 120/120 [00:02<00:00, 47.93batch/s, loss=0.010546]\u001b[0m\n"
     ]
    },
    {
     "name": "stdout",
     "output_type": "stream",
     "text": [
      "\t Loss: 1.266,\tTrain : 99.72%(99.73%),\tTest : 97.31%(97.46%),\tCurrent Time: 20250917-164422\n"
     ]
    },
    {
     "name": "stderr",
     "output_type": "stream",
     "text": [
      "Epoch 49/50:: 100%|\u001b[34m███████████████████\u001b[0m| 120/120 [00:02<00:00, 48.01batch/s, loss=0.012644]\u001b[0m\n"
     ]
    },
    {
     "name": "stdout",
     "output_type": "stream",
     "text": [
      "\t Loss: 1.517,\tTrain : 99.64%(99.73%),\tTest : 96.97%(97.46%),\tCurrent Time: 20250917-164425\n"
     ]
    },
    {
     "name": "stderr",
     "output_type": "stream",
     "text": [
      "Epoch 50/50:: 100%|\u001b[34m███████████████████\u001b[0m| 120/120 [00:02<00:00, 48.05batch/s, loss=0.009485]\u001b[0m\n"
     ]
    },
    {
     "name": "stdout",
     "output_type": "stream",
     "text": [
      "\t Loss: 1.138,\tTrain : 99.73%(99.73%),\tTest : 97.44%(97.46%),\tCurrent Time: 20250917-164427\n",
      "First_symm_N-HL_Res-EP_L10--MNIST_EP_b_sc0.1- Time: 20250917-164427, Epochs: 50, Learning Rate: 0.001, Best: 99.73%  97.46%\n",
      "\n",
      "[[0 1 0 0 0 0 0 0 0 0 0 0]\n",
      " [0 0 1 0 1 0 0 0 0 0 0 0]\n",
      " [0 1 0 1 0 0 0 0 0 0 0 0]\n",
      " [0 0 1 0 1 0 0 0 0 0 0 0]\n",
      " [0 1 0 1 0 1 0 1 0 0 0 0]\n",
      " [0 0 0 0 1 0 1 0 0 0 0 0]\n",
      " [0 0 0 0 0 1 0 1 0 0 0 0]\n",
      " [0 0 0 0 1 0 1 0 1 0 1 0]\n",
      " [0 0 0 0 0 0 0 1 0 1 0 0]\n",
      " [0 0 0 0 0 0 0 0 1 0 1 0]\n",
      " [0 0 0 0 0 0 0 1 0 1 0 1]\n",
      " [0 0 0 0 0 0 0 0 0 0 1 0]]\n",
      "First_symm_N-HL_Res-EP_L10--MNIST_EP_b_sc0.1-\n"
     ]
    },
    {
     "name": "stderr",
     "output_type": "stream",
     "text": [
      "Epoch 1/50:: 100%|\u001b[34m████████████████████\u001b[0m| 120/120 [00:02<00:00, 45.34batch/s, loss=0.620116]\u001b[0m\n"
     ]
    },
    {
     "name": "stdout",
     "output_type": "stream",
     "text": [
      "\t Loss: 74.414,\tTrain : 81.12%(81.12%),\tTest : 92.35%(92.35%),\tCurrent Time: 20250917-164434\n"
     ]
    },
    {
     "name": "stderr",
     "output_type": "stream",
     "text": [
      "Epoch 2/50:: 100%|\u001b[34m████████████████████\u001b[0m| 120/120 [00:02<00:00, 47.87batch/s, loss=0.237227]\u001b[0m\n"
     ]
    },
    {
     "name": "stdout",
     "output_type": "stream",
     "text": [
      "\t Loss: 28.467,\tTrain : 93.07%(93.07%),\tTest : 94.20%(94.20%),\tCurrent Time: 20250917-164437\n"
     ]
    },
    {
     "name": "stderr",
     "output_type": "stream",
     "text": [
      "Epoch 3/50:: 100%|\u001b[34m████████████████████\u001b[0m| 120/120 [00:02<00:00, 47.77batch/s, loss=0.178450]\u001b[0m\n"
     ]
    },
    {
     "name": "stdout",
     "output_type": "stream",
     "text": [
      "\t Loss: 21.414,\tTrain : 94.74%(94.74%),\tTest : 94.76%(94.76%),\tCurrent Time: 20250917-164440\n"
     ]
    },
    {
     "name": "stderr",
     "output_type": "stream",
     "text": [
      "Epoch 4/50:: 100%|\u001b[34m████████████████████\u001b[0m| 120/120 [00:02<00:00, 47.68batch/s, loss=0.148135]\u001b[0m\n"
     ]
    },
    {
     "name": "stdout",
     "output_type": "stream",
     "text": [
      "\t Loss: 17.776,\tTrain : 95.58%(95.58%),\tTest : 95.85%(95.85%),\tCurrent Time: 20250917-164442\n"
     ]
    },
    {
     "name": "stderr",
     "output_type": "stream",
     "text": [
      "Epoch 5/50:: 100%|\u001b[34m████████████████████\u001b[0m| 120/120 [00:02<00:00, 47.88batch/s, loss=0.124555]\u001b[0m\n"
     ]
    },
    {
     "name": "stdout",
     "output_type": "stream",
     "text": [
      "\t Loss: 14.947,\tTrain : 96.37%(96.37%),\tTest : 95.37%(95.85%),\tCurrent Time: 20250917-164445\n"
     ]
    },
    {
     "name": "stderr",
     "output_type": "stream",
     "text": [
      "Epoch 6/50:: 100%|\u001b[34m████████████████████\u001b[0m| 120/120 [00:02<00:00, 47.80batch/s, loss=0.107362]\u001b[0m\n"
     ]
    },
    {
     "name": "stdout",
     "output_type": "stream",
     "text": [
      "\t Loss: 12.883,\tTrain : 96.83%(96.83%),\tTest : 96.39%(96.39%),\tCurrent Time: 20250917-164447\n"
     ]
    },
    {
     "name": "stderr",
     "output_type": "stream",
     "text": [
      "Epoch 7/50:: 100%|\u001b[34m████████████████████\u001b[0m| 120/120 [00:02<00:00, 47.90batch/s, loss=0.094921]\u001b[0m\n"
     ]
    },
    {
     "name": "stdout",
     "output_type": "stream",
     "text": [
      "\t Loss: 11.391,\tTrain : 97.22%(97.22%),\tTest : 96.51%(96.51%),\tCurrent Time: 20250917-164450\n"
     ]
    },
    {
     "name": "stderr",
     "output_type": "stream",
     "text": [
      "Epoch 8/50:: 100%|\u001b[34m████████████████████\u001b[0m| 120/120 [00:02<00:00, 47.79batch/s, loss=0.087583]\u001b[0m\n"
     ]
    },
    {
     "name": "stdout",
     "output_type": "stream",
     "text": [
      "\t Loss: 10.510,\tTrain : 97.42%(97.42%),\tTest : 96.44%(96.51%),\tCurrent Time: 20250917-164453\n"
     ]
    },
    {
     "name": "stderr",
     "output_type": "stream",
     "text": [
      "Epoch 9/50:: 100%|\u001b[34m████████████████████\u001b[0m| 120/120 [00:02<00:00, 47.89batch/s, loss=0.080796]\u001b[0m\n"
     ]
    },
    {
     "name": "stdout",
     "output_type": "stream",
     "text": [
      "\t Loss: 9.696,\tTrain : 97.63%(97.63%),\tTest : 96.38%(96.51%),\tCurrent Time: 20250917-164455\n"
     ]
    },
    {
     "name": "stderr",
     "output_type": "stream",
     "text": [
      "Epoch 10/50:: 100%|\u001b[34m███████████████████\u001b[0m| 120/120 [00:02<00:00, 47.84batch/s, loss=0.072772]\u001b[0m\n"
     ]
    },
    {
     "name": "stdout",
     "output_type": "stream",
     "text": [
      "\t Loss: 8.733,\tTrain : 97.88%(97.88%),\tTest : 96.57%(96.57%),\tCurrent Time: 20250917-164458\n"
     ]
    },
    {
     "name": "stderr",
     "output_type": "stream",
     "text": [
      "Epoch 11/50:: 100%|\u001b[34m███████████████████\u001b[0m| 120/120 [00:02<00:00, 47.70batch/s, loss=0.065335]\u001b[0m\n"
     ]
    },
    {
     "name": "stdout",
     "output_type": "stream",
     "text": [
      "\t Loss: 7.840,\tTrain : 98.06%(98.06%),\tTest : 96.69%(96.69%),\tCurrent Time: 20250917-164500\n"
     ]
    },
    {
     "name": "stderr",
     "output_type": "stream",
     "text": [
      "Epoch 12/50:: 100%|\u001b[34m███████████████████\u001b[0m| 120/120 [00:02<00:00, 47.87batch/s, loss=0.062092]\u001b[0m\n"
     ]
    },
    {
     "name": "stdout",
     "output_type": "stream",
     "text": [
      "\t Loss: 7.451,\tTrain : 98.16%(98.16%),\tTest : 96.76%(96.76%),\tCurrent Time: 20250917-164503\n"
     ]
    },
    {
     "name": "stderr",
     "output_type": "stream",
     "text": [
      "Epoch 13/50:: 100%|\u001b[34m███████████████████\u001b[0m| 120/120 [00:02<00:00, 47.77batch/s, loss=0.055860]\u001b[0m\n"
     ]
    },
    {
     "name": "stdout",
     "output_type": "stream",
     "text": [
      "\t Loss: 6.703,\tTrain : 98.40%(98.40%),\tTest : 96.75%(96.76%),\tCurrent Time: 20250917-164506\n"
     ]
    },
    {
     "name": "stderr",
     "output_type": "stream",
     "text": [
      "Epoch 14/50:: 100%|\u001b[34m███████████████████\u001b[0m| 120/120 [00:02<00:00, 47.91batch/s, loss=0.051160]\u001b[0m\n"
     ]
    },
    {
     "name": "stdout",
     "output_type": "stream",
     "text": [
      "\t Loss: 6.139,\tTrain : 98.52%(98.52%),\tTest : 96.88%(96.88%),\tCurrent Time: 20250917-164508\n"
     ]
    },
    {
     "name": "stderr",
     "output_type": "stream",
     "text": [
      "Epoch 15/50:: 100%|\u001b[34m███████████████████\u001b[0m| 120/120 [00:02<00:00, 47.92batch/s, loss=0.051340]\u001b[0m\n"
     ]
    },
    {
     "name": "stdout",
     "output_type": "stream",
     "text": [
      "\t Loss: 6.161,\tTrain : 98.49%(98.52%),\tTest : 96.90%(96.90%),\tCurrent Time: 20250917-164511\n"
     ]
    },
    {
     "name": "stderr",
     "output_type": "stream",
     "text": [
      "Epoch 16/50:: 100%|\u001b[34m███████████████████\u001b[0m| 120/120 [00:02<00:00, 47.72batch/s, loss=0.043194]\u001b[0m\n"
     ]
    },
    {
     "name": "stdout",
     "output_type": "stream",
     "text": [
      "\t Loss: 5.183,\tTrain : 98.72%(98.72%),\tTest : 97.04%(97.04%),\tCurrent Time: 20250917-164513\n"
     ]
    },
    {
     "name": "stderr",
     "output_type": "stream",
     "text": [
      "Epoch 17/50:: 100%|\u001b[34m███████████████████\u001b[0m| 120/120 [00:02<00:00, 47.82batch/s, loss=0.043283]\u001b[0m\n"
     ]
    },
    {
     "name": "stdout",
     "output_type": "stream",
     "text": [
      "\t Loss: 5.194,\tTrain : 98.73%(98.73%),\tTest : 96.72%(97.04%),\tCurrent Time: 20250917-164516\n"
     ]
    },
    {
     "name": "stderr",
     "output_type": "stream",
     "text": [
      "Epoch 18/50:: 100%|\u001b[34m███████████████████\u001b[0m| 120/120 [00:02<00:00, 47.70batch/s, loss=0.035809]\u001b[0m\n"
     ]
    },
    {
     "name": "stdout",
     "output_type": "stream",
     "text": [
      "\t Loss: 4.297,\tTrain : 98.98%(98.98%),\tTest : 96.95%(97.04%),\tCurrent Time: 20250917-164519\n"
     ]
    },
    {
     "name": "stderr",
     "output_type": "stream",
     "text": [
      "Epoch 19/50:: 100%|\u001b[34m███████████████████\u001b[0m| 120/120 [00:02<00:00, 47.81batch/s, loss=0.034206]\u001b[0m\n"
     ]
    },
    {
     "name": "stdout",
     "output_type": "stream",
     "text": [
      "\t Loss: 4.105,\tTrain : 99.00%(99.00%),\tTest : 97.20%(97.20%),\tCurrent Time: 20250917-164521\n"
     ]
    },
    {
     "name": "stderr",
     "output_type": "stream",
     "text": [
      "Epoch 20/50:: 100%|\u001b[34m███████████████████\u001b[0m| 120/120 [00:02<00:00, 47.68batch/s, loss=0.028714]\u001b[0m\n"
     ]
    },
    {
     "name": "stdout",
     "output_type": "stream",
     "text": [
      "\t Loss: 3.446,\tTrain : 99.17%(99.17%),\tTest : 97.10%(97.20%),\tCurrent Time: 20250917-164524\n"
     ]
    },
    {
     "name": "stderr",
     "output_type": "stream",
     "text": [
      "Epoch 21/50:: 100%|\u001b[34m███████████████████\u001b[0m| 120/120 [00:02<00:00, 47.85batch/s, loss=0.028504]\u001b[0m\n"
     ]
    },
    {
     "name": "stdout",
     "output_type": "stream",
     "text": [
      "\t Loss: 3.420,\tTrain : 99.17%(99.17%),\tTest : 97.20%(97.20%),\tCurrent Time: 20250917-164526\n"
     ]
    },
    {
     "name": "stderr",
     "output_type": "stream",
     "text": [
      "Epoch 22/50:: 100%|\u001b[34m███████████████████\u001b[0m| 120/120 [00:02<00:00, 47.81batch/s, loss=0.031920]\u001b[0m\n"
     ]
    },
    {
     "name": "stdout",
     "output_type": "stream",
     "text": [
      "\t Loss: 3.830,\tTrain : 99.04%(99.17%),\tTest : 97.11%(97.20%),\tCurrent Time: 20250917-164529\n"
     ]
    },
    {
     "name": "stderr",
     "output_type": "stream",
     "text": [
      "Epoch 23/50:: 100%|\u001b[34m███████████████████\u001b[0m| 120/120 [00:02<00:00, 47.82batch/s, loss=0.030344]\u001b[0m\n"
     ]
    },
    {
     "name": "stdout",
     "output_type": "stream",
     "text": [
      "\t Loss: 3.641,\tTrain : 99.11%(99.17%),\tTest : 97.09%(97.20%),\tCurrent Time: 20250917-164532\n"
     ]
    },
    {
     "name": "stderr",
     "output_type": "stream",
     "text": [
      "Epoch 24/50:: 100%|\u001b[34m███████████████████\u001b[0m| 120/120 [00:02<00:00, 47.66batch/s, loss=0.022198]\u001b[0m\n"
     ]
    },
    {
     "name": "stdout",
     "output_type": "stream",
     "text": [
      "\t Loss: 2.664,\tTrain : 99.35%(99.35%),\tTest : 97.40%(97.40%),\tCurrent Time: 20250917-164534\n"
     ]
    },
    {
     "name": "stderr",
     "output_type": "stream",
     "text": [
      "Epoch 25/50:: 100%|\u001b[34m███████████████████\u001b[0m| 120/120 [00:02<00:00, 47.93batch/s, loss=0.025631]\u001b[0m\n"
     ]
    },
    {
     "name": "stdout",
     "output_type": "stream",
     "text": [
      "\t Loss: 3.076,\tTrain : 99.25%(99.35%),\tTest : 96.88%(97.40%),\tCurrent Time: 20250917-164537\n"
     ]
    },
    {
     "name": "stderr",
     "output_type": "stream",
     "text": [
      "Epoch 26/50:: 100%|\u001b[34m███████████████████\u001b[0m| 120/120 [00:02<00:00, 47.71batch/s, loss=0.020243]\u001b[0m\n"
     ]
    },
    {
     "name": "stdout",
     "output_type": "stream",
     "text": [
      "\t Loss: 2.429,\tTrain : 99.39%(99.39%),\tTest : 97.12%(97.40%),\tCurrent Time: 20250917-164539\n"
     ]
    },
    {
     "name": "stderr",
     "output_type": "stream",
     "text": [
      "Epoch 27/50:: 100%|\u001b[34m███████████████████\u001b[0m| 120/120 [00:02<00:00, 47.88batch/s, loss=0.026523]\u001b[0m\n"
     ]
    },
    {
     "name": "stdout",
     "output_type": "stream",
     "text": [
      "\t Loss: 3.183,\tTrain : 99.21%(99.39%),\tTest : 97.18%(97.40%),\tCurrent Time: 20250917-164542\n"
     ]
    },
    {
     "name": "stderr",
     "output_type": "stream",
     "text": [
      "Epoch 28/50:: 100%|\u001b[34m███████████████████\u001b[0m| 120/120 [00:02<00:00, 47.93batch/s, loss=0.019862]\u001b[0m\n"
     ]
    },
    {
     "name": "stdout",
     "output_type": "stream",
     "text": [
      "\t Loss: 2.383,\tTrain : 99.40%(99.40%),\tTest : 97.17%(97.40%),\tCurrent Time: 20250917-164545\n"
     ]
    },
    {
     "name": "stderr",
     "output_type": "stream",
     "text": [
      "Epoch 29/50:: 100%|\u001b[34m███████████████████\u001b[0m| 120/120 [00:02<00:00, 47.94batch/s, loss=0.030668]\u001b[0m\n"
     ]
    },
    {
     "name": "stdout",
     "output_type": "stream",
     "text": [
      "\t Loss: 3.680,\tTrain : 99.10%(99.40%),\tTest : 97.19%(97.40%),\tCurrent Time: 20250917-164547\n"
     ]
    },
    {
     "name": "stderr",
     "output_type": "stream",
     "text": [
      "Epoch 30/50:: 100%|\u001b[34m███████████████████\u001b[0m| 120/120 [00:02<00:00, 47.70batch/s, loss=0.021349]\u001b[0m\n"
     ]
    },
    {
     "name": "stdout",
     "output_type": "stream",
     "text": [
      "\t Loss: 2.562,\tTrain : 99.35%(99.40%),\tTest : 97.13%(97.40%),\tCurrent Time: 20250917-164550\n"
     ]
    },
    {
     "name": "stderr",
     "output_type": "stream",
     "text": [
      "Epoch 31/50:: 100%|\u001b[34m███████████████████\u001b[0m| 120/120 [00:02<00:00, 47.72batch/s, loss=0.013438]\u001b[0m\n"
     ]
    },
    {
     "name": "stdout",
     "output_type": "stream",
     "text": [
      "\t Loss: 1.613,\tTrain : 99.62%(99.62%),\tTest : 97.19%(97.40%),\tCurrent Time: 20250917-164552\n"
     ]
    },
    {
     "name": "stderr",
     "output_type": "stream",
     "text": [
      "Epoch 32/50:: 100%|\u001b[34m███████████████████\u001b[0m| 120/120 [00:02<00:00, 47.76batch/s, loss=0.020403]\u001b[0m\n"
     ]
    },
    {
     "name": "stdout",
     "output_type": "stream",
     "text": [
      "\t Loss: 2.448,\tTrain : 99.44%(99.62%),\tTest : 96.98%(97.40%),\tCurrent Time: 20250917-164555\n"
     ]
    },
    {
     "name": "stderr",
     "output_type": "stream",
     "text": [
      "Epoch 33/50:: 100%|\u001b[34m███████████████████\u001b[0m| 120/120 [00:02<00:00, 47.93batch/s, loss=0.017524]\u001b[0m\n"
     ]
    },
    {
     "name": "stdout",
     "output_type": "stream",
     "text": [
      "\t Loss: 2.103,\tTrain : 99.48%(99.62%),\tTest : 97.38%(97.40%),\tCurrent Time: 20250917-164558\n"
     ]
    },
    {
     "name": "stderr",
     "output_type": "stream",
     "text": [
      "Epoch 34/50:: 100%|\u001b[34m███████████████████\u001b[0m| 120/120 [00:02<00:00, 47.74batch/s, loss=0.010130]\u001b[0m\n"
     ]
    },
    {
     "name": "stdout",
     "output_type": "stream",
     "text": [
      "\t Loss: 1.216,\tTrain : 99.69%(99.69%),\tTest : 97.19%(97.40%),\tCurrent Time: 20250917-164600\n"
     ]
    },
    {
     "name": "stderr",
     "output_type": "stream",
     "text": [
      "Epoch 35/50:: 100%|\u001b[34m███████████████████\u001b[0m| 120/120 [00:02<00:00, 47.88batch/s, loss=0.011468]\u001b[0m\n"
     ]
    },
    {
     "name": "stdout",
     "output_type": "stream",
     "text": [
      "\t Loss: 1.376,\tTrain : 99.67%(99.69%),\tTest : 97.10%(97.40%),\tCurrent Time: 20250917-164603\n"
     ]
    },
    {
     "name": "stderr",
     "output_type": "stream",
     "text": [
      "Epoch 36/50:: 100%|\u001b[34m███████████████████\u001b[0m| 120/120 [00:02<00:00, 47.77batch/s, loss=0.012215]\u001b[0m\n"
     ]
    },
    {
     "name": "stdout",
     "output_type": "stream",
     "text": [
      "\t Loss: 1.466,\tTrain : 99.64%(99.69%),\tTest : 97.03%(97.40%),\tCurrent Time: 20250917-164606\n"
     ]
    },
    {
     "name": "stderr",
     "output_type": "stream",
     "text": [
      "Epoch 37/50:: 100%|\u001b[34m███████████████████\u001b[0m| 120/120 [00:02<00:00, 48.04batch/s, loss=0.016774]\u001b[0m\n"
     ]
    },
    {
     "name": "stdout",
     "output_type": "stream",
     "text": [
      "\t Loss: 2.013,\tTrain : 99.51%(99.69%),\tTest : 97.21%(97.40%),\tCurrent Time: 20250917-164608\n"
     ]
    },
    {
     "name": "stderr",
     "output_type": "stream",
     "text": [
      "Epoch 38/50:: 100%|\u001b[34m███████████████████\u001b[0m| 120/120 [00:02<00:00, 47.84batch/s, loss=0.013482]\u001b[0m\n"
     ]
    },
    {
     "name": "stdout",
     "output_type": "stream",
     "text": [
      "\t Loss: 1.618,\tTrain : 99.61%(99.69%),\tTest : 97.24%(97.40%),\tCurrent Time: 20250917-164611\n"
     ]
    },
    {
     "name": "stderr",
     "output_type": "stream",
     "text": [
      "Epoch 39/50:: 100%|\u001b[34m███████████████████\u001b[0m| 120/120 [00:02<00:00, 47.98batch/s, loss=0.012585]\u001b[0m\n"
     ]
    },
    {
     "name": "stdout",
     "output_type": "stream",
     "text": [
      "\t Loss: 1.510,\tTrain : 99.61%(99.69%),\tTest : 97.08%(97.40%),\tCurrent Time: 20250917-164613\n"
     ]
    },
    {
     "name": "stderr",
     "output_type": "stream",
     "text": [
      "Epoch 40/50:: 100%|\u001b[34m███████████████████\u001b[0m| 120/120 [00:02<00:00, 47.92batch/s, loss=0.013937]\u001b[0m\n"
     ]
    },
    {
     "name": "stdout",
     "output_type": "stream",
     "text": [
      "\t Loss: 1.672,\tTrain : 99.57%(99.69%),\tTest : 96.89%(97.40%),\tCurrent Time: 20250917-164616\n"
     ]
    },
    {
     "name": "stderr",
     "output_type": "stream",
     "text": [
      "Epoch 41/50:: 100%|\u001b[34m███████████████████\u001b[0m| 120/120 [00:02<00:00, 47.94batch/s, loss=0.016087]\u001b[0m\n"
     ]
    },
    {
     "name": "stdout",
     "output_type": "stream",
     "text": [
      "\t Loss: 1.930,\tTrain : 99.54%(99.69%),\tTest : 97.25%(97.40%),\tCurrent Time: 20250917-164619\n"
     ]
    },
    {
     "name": "stderr",
     "output_type": "stream",
     "text": [
      "Epoch 42/50:: 100%|\u001b[34m███████████████████\u001b[0m| 120/120 [00:02<00:00, 47.82batch/s, loss=0.010661]\u001b[0m\n"
     ]
    },
    {
     "name": "stdout",
     "output_type": "stream",
     "text": [
      "\t Loss: 1.279,\tTrain : 99.71%(99.71%),\tTest : 97.32%(97.40%),\tCurrent Time: 20250917-164621\n"
     ]
    },
    {
     "name": "stderr",
     "output_type": "stream",
     "text": [
      "Epoch 43/50:: 100%|\u001b[34m███████████████████\u001b[0m| 120/120 [00:02<00:00, 47.92batch/s, loss=0.009933]\u001b[0m\n"
     ]
    },
    {
     "name": "stdout",
     "output_type": "stream",
     "text": [
      "\t Loss: 1.192,\tTrain : 99.68%(99.71%),\tTest : 97.23%(97.40%),\tCurrent Time: 20250917-164624\n"
     ]
    },
    {
     "name": "stderr",
     "output_type": "stream",
     "text": [
      "Epoch 44/50:: 100%|\u001b[34m███████████████████\u001b[0m| 120/120 [00:02<00:00, 47.89batch/s, loss=0.010774]\u001b[0m\n"
     ]
    },
    {
     "name": "stdout",
     "output_type": "stream",
     "text": [
      "\t Loss: 1.293,\tTrain : 99.67%(99.71%),\tTest : 97.48%(97.48%),\tCurrent Time: 20250917-164626\n"
     ]
    },
    {
     "name": "stderr",
     "output_type": "stream",
     "text": [
      "Epoch 45/50:: 100%|\u001b[34m███████████████████\u001b[0m| 120/120 [00:02<00:00, 47.92batch/s, loss=0.007464]\u001b[0m\n"
     ]
    },
    {
     "name": "stdout",
     "output_type": "stream",
     "text": [
      "\t Loss: 0.896,\tTrain : 99.80%(99.80%),\tTest : 97.56%(97.56%),\tCurrent Time: 20250917-164629\n"
     ]
    },
    {
     "name": "stderr",
     "output_type": "stream",
     "text": [
      "Epoch 46/50:: 100%|\u001b[34m███████████████████\u001b[0m| 120/120 [00:02<00:00, 47.88batch/s, loss=0.009812]\u001b[0m\n"
     ]
    },
    {
     "name": "stdout",
     "output_type": "stream",
     "text": [
      "\t Loss: 1.177,\tTrain : 99.72%(99.80%),\tTest : 97.20%(97.56%),\tCurrent Time: 20250917-164632\n"
     ]
    },
    {
     "name": "stderr",
     "output_type": "stream",
     "text": [
      "Epoch 47/50:: 100%|\u001b[34m███████████████████\u001b[0m| 120/120 [00:02<00:00, 47.88batch/s, loss=0.014469]\u001b[0m\n"
     ]
    },
    {
     "name": "stdout",
     "output_type": "stream",
     "text": [
      "\t Loss: 1.736,\tTrain : 99.58%(99.80%),\tTest : 97.22%(97.56%),\tCurrent Time: 20250917-164634\n"
     ]
    },
    {
     "name": "stderr",
     "output_type": "stream",
     "text": [
      "Epoch 48/50:: 100%|\u001b[34m███████████████████\u001b[0m| 120/120 [00:02<00:00, 47.80batch/s, loss=0.012487]\u001b[0m\n"
     ]
    },
    {
     "name": "stdout",
     "output_type": "stream",
     "text": [
      "\t Loss: 1.498,\tTrain : 99.65%(99.80%),\tTest : 96.73%(97.56%),\tCurrent Time: 20250917-164637\n"
     ]
    },
    {
     "name": "stderr",
     "output_type": "stream",
     "text": [
      "Epoch 49/50:: 100%|\u001b[34m███████████████████\u001b[0m| 120/120 [00:02<00:00, 47.87batch/s, loss=0.011779]\u001b[0m\n"
     ]
    },
    {
     "name": "stdout",
     "output_type": "stream",
     "text": [
      "\t Loss: 1.413,\tTrain : 99.66%(99.80%),\tTest : 97.39%(97.56%),\tCurrent Time: 20250917-164639\n"
     ]
    },
    {
     "name": "stderr",
     "output_type": "stream",
     "text": [
      "Epoch 50/50:: 100%|\u001b[34m███████████████████\u001b[0m| 120/120 [00:02<00:00, 47.72batch/s, loss=0.009704]\u001b[0m\n"
     ]
    },
    {
     "name": "stdout",
     "output_type": "stream",
     "text": [
      "\t Loss: 1.165,\tTrain : 99.71%(99.80%),\tTest : 97.27%(97.56%),\tCurrent Time: 20250917-164642\n",
      "First_symm_N-HL_Res-EP_L10--MNIST_EP_b_sc0.1- Time: 20250917-164642, Epochs: 50, Learning Rate: 0.001, Best: 99.80%  97.56%\n",
      "\n",
      "[[0 1 0 0 0 0 0 0 0 0 0 0]\n",
      " [0 0 1 0 1 0 0 0 0 0 0 0]\n",
      " [0 1 0 1 0 0 0 0 0 0 0 0]\n",
      " [0 0 1 0 1 0 0 0 0 0 0 0]\n",
      " [0 1 0 1 0 1 0 1 0 0 0 0]\n",
      " [0 0 0 0 1 0 1 0 0 0 0 0]\n",
      " [0 0 0 0 0 1 0 1 0 0 0 0]\n",
      " [0 0 0 0 1 0 1 0 1 0 1 0]\n",
      " [0 0 0 0 0 0 0 1 0 1 0 0]\n",
      " [0 0 0 0 0 0 0 0 1 0 1 0]\n",
      " [0 0 0 0 0 0 0 1 0 1 0 1]\n",
      " [0 0 0 0 0 0 0 0 0 0 1 0]]\n",
      "First_symm_N-HL_Res-EP_L10--MNIST_EP_b_sc0.1-\n"
     ]
    },
    {
     "name": "stderr",
     "output_type": "stream",
     "text": [
      "Epoch 1/50:: 100%|\u001b[34m████████████████████\u001b[0m| 120/120 [00:02<00:00, 44.47batch/s, loss=0.592185]\u001b[0m\n"
     ]
    },
    {
     "name": "stdout",
     "output_type": "stream",
     "text": [
      "\t Loss: 71.062,\tTrain : 82.42%(82.42%),\tTest : 92.22%(92.22%),\tCurrent Time: 20250917-164649\n"
     ]
    },
    {
     "name": "stderr",
     "output_type": "stream",
     "text": [
      "Epoch 2/50:: 100%|\u001b[34m████████████████████\u001b[0m| 120/120 [00:02<00:00, 47.72batch/s, loss=0.234804]\u001b[0m\n"
     ]
    },
    {
     "name": "stdout",
     "output_type": "stream",
     "text": [
      "\t Loss: 28.176,\tTrain : 93.13%(93.13%),\tTest : 93.97%(93.97%),\tCurrent Time: 20250917-164652\n"
     ]
    },
    {
     "name": "stderr",
     "output_type": "stream",
     "text": [
      "Epoch 3/50:: 100%|\u001b[34m████████████████████\u001b[0m| 120/120 [00:02<00:00, 48.08batch/s, loss=0.175817]\u001b[0m\n"
     ]
    },
    {
     "name": "stdout",
     "output_type": "stream",
     "text": [
      "\t Loss: 21.098,\tTrain : 94.88%(94.88%),\tTest : 95.04%(95.04%),\tCurrent Time: 20250917-164654\n"
     ]
    },
    {
     "name": "stderr",
     "output_type": "stream",
     "text": [
      "Epoch 4/50:: 100%|\u001b[34m████████████████████\u001b[0m| 120/120 [00:02<00:00, 48.02batch/s, loss=0.142975]\u001b[0m\n"
     ]
    },
    {
     "name": "stdout",
     "output_type": "stream",
     "text": [
      "\t Loss: 17.157,\tTrain : 95.84%(95.84%),\tTest : 95.79%(95.79%),\tCurrent Time: 20250917-164657\n"
     ]
    },
    {
     "name": "stderr",
     "output_type": "stream",
     "text": [
      "Epoch 5/50:: 100%|\u001b[34m████████████████████\u001b[0m| 120/120 [00:02<00:00, 47.99batch/s, loss=0.121332]\u001b[0m\n"
     ]
    },
    {
     "name": "stdout",
     "output_type": "stream",
     "text": [
      "\t Loss: 14.560,\tTrain : 96.48%(96.48%),\tTest : 95.93%(95.93%),\tCurrent Time: 20250917-164700\n"
     ]
    },
    {
     "name": "stderr",
     "output_type": "stream",
     "text": [
      "Epoch 6/50:: 100%|\u001b[34m████████████████████\u001b[0m| 120/120 [00:02<00:00, 47.90batch/s, loss=0.107332]\u001b[0m\n"
     ]
    },
    {
     "name": "stdout",
     "output_type": "stream",
     "text": [
      "\t Loss: 12.880,\tTrain : 96.91%(96.91%),\tTest : 96.08%(96.08%),\tCurrent Time: 20250917-164702\n"
     ]
    },
    {
     "name": "stderr",
     "output_type": "stream",
     "text": [
      "Epoch 7/50:: 100%|\u001b[34m████████████████████\u001b[0m| 120/120 [00:02<00:00, 48.01batch/s, loss=0.095963]\u001b[0m\n"
     ]
    },
    {
     "name": "stdout",
     "output_type": "stream",
     "text": [
      "\t Loss: 11.516,\tTrain : 97.17%(97.17%),\tTest : 96.70%(96.70%),\tCurrent Time: 20250917-164705\n"
     ]
    },
    {
     "name": "stderr",
     "output_type": "stream",
     "text": [
      "Epoch 8/50:: 100%|\u001b[34m████████████████████\u001b[0m| 120/120 [00:02<00:00, 47.79batch/s, loss=0.088781]\u001b[0m\n"
     ]
    },
    {
     "name": "stdout",
     "output_type": "stream",
     "text": [
      "\t Loss: 10.654,\tTrain : 97.45%(97.45%),\tTest : 96.64%(96.70%),\tCurrent Time: 20250917-164707\n"
     ]
    },
    {
     "name": "stderr",
     "output_type": "stream",
     "text": [
      "Epoch 9/50:: 100%|\u001b[34m████████████████████\u001b[0m| 120/120 [00:02<00:00, 48.09batch/s, loss=0.084807]\u001b[0m\n"
     ]
    },
    {
     "name": "stdout",
     "output_type": "stream",
     "text": [
      "\t Loss: 10.177,\tTrain : 97.54%(97.54%),\tTest : 96.77%(96.77%),\tCurrent Time: 20250917-164710\n"
     ]
    },
    {
     "name": "stderr",
     "output_type": "stream",
     "text": [
      "Epoch 10/50:: 100%|\u001b[34m███████████████████\u001b[0m| 120/120 [00:02<00:00, 47.79batch/s, loss=0.070718]\u001b[0m\n"
     ]
    },
    {
     "name": "stdout",
     "output_type": "stream",
     "text": [
      "\t Loss: 8.486,\tTrain : 97.93%(97.93%),\tTest : 96.90%(96.90%),\tCurrent Time: 20250917-164713\n"
     ]
    },
    {
     "name": "stderr",
     "output_type": "stream",
     "text": [
      "Epoch 11/50:: 100%|\u001b[34m███████████████████\u001b[0m| 120/120 [00:02<00:00, 47.90batch/s, loss=0.063316]\u001b[0m\n"
     ]
    },
    {
     "name": "stdout",
     "output_type": "stream",
     "text": [
      "\t Loss: 7.598,\tTrain : 98.17%(98.17%),\tTest : 96.78%(96.90%),\tCurrent Time: 20250917-164715\n"
     ]
    },
    {
     "name": "stderr",
     "output_type": "stream",
     "text": [
      "Epoch 12/50:: 100%|\u001b[34m███████████████████\u001b[0m| 120/120 [00:02<00:00, 47.77batch/s, loss=0.056744]\u001b[0m\n"
     ]
    },
    {
     "name": "stdout",
     "output_type": "stream",
     "text": [
      "\t Loss: 6.809,\tTrain : 98.34%(98.34%),\tTest : 97.01%(97.01%),\tCurrent Time: 20250917-164718\n"
     ]
    },
    {
     "name": "stderr",
     "output_type": "stream",
     "text": [
      "Epoch 13/50:: 100%|\u001b[34m███████████████████\u001b[0m| 120/120 [00:02<00:00, 48.09batch/s, loss=0.054569]\u001b[0m\n"
     ]
    },
    {
     "name": "stdout",
     "output_type": "stream",
     "text": [
      "\t Loss: 6.548,\tTrain : 98.39%(98.39%),\tTest : 96.56%(97.01%),\tCurrent Time: 20250917-164720\n"
     ]
    },
    {
     "name": "stderr",
     "output_type": "stream",
     "text": [
      "Epoch 14/50:: 100%|\u001b[34m███████████████████\u001b[0m| 120/120 [00:02<00:00, 47.97batch/s, loss=0.052174]\u001b[0m\n"
     ]
    },
    {
     "name": "stdout",
     "output_type": "stream",
     "text": [
      "\t Loss: 6.261,\tTrain : 98.47%(98.47%),\tTest : 97.38%(97.38%),\tCurrent Time: 20250917-164723\n"
     ]
    },
    {
     "name": "stderr",
     "output_type": "stream",
     "text": [
      "Epoch 15/50:: 100%|\u001b[34m███████████████████\u001b[0m| 120/120 [00:02<00:00, 47.98batch/s, loss=0.042885]\u001b[0m\n"
     ]
    },
    {
     "name": "stdout",
     "output_type": "stream",
     "text": [
      "\t Loss: 5.146,\tTrain : 98.73%(98.73%),\tTest : 97.11%(97.38%),\tCurrent Time: 20250917-164726\n"
     ]
    },
    {
     "name": "stderr",
     "output_type": "stream",
     "text": [
      "Epoch 16/50:: 100%|\u001b[34m███████████████████\u001b[0m| 120/120 [00:02<00:00, 48.09batch/s, loss=0.044126]\u001b[0m\n"
     ]
    },
    {
     "name": "stdout",
     "output_type": "stream",
     "text": [
      "\t Loss: 5.295,\tTrain : 98.76%(98.76%),\tTest : 97.08%(97.38%),\tCurrent Time: 20250917-164728\n"
     ]
    },
    {
     "name": "stderr",
     "output_type": "stream",
     "text": [
      "Epoch 17/50:: 100%|\u001b[34m███████████████████\u001b[0m| 120/120 [00:02<00:00, 48.22batch/s, loss=0.038709]\u001b[0m\n"
     ]
    },
    {
     "name": "stdout",
     "output_type": "stream",
     "text": [
      "\t Loss: 4.645,\tTrain : 98.83%(98.83%),\tTest : 97.12%(97.38%),\tCurrent Time: 20250917-164731\n"
     ]
    },
    {
     "name": "stderr",
     "output_type": "stream",
     "text": [
      "Epoch 18/50:: 100%|\u001b[34m███████████████████\u001b[0m| 120/120 [00:02<00:00, 48.13batch/s, loss=0.033588]\u001b[0m\n"
     ]
    },
    {
     "name": "stdout",
     "output_type": "stream",
     "text": [
      "\t Loss: 4.031,\tTrain : 99.02%(99.02%),\tTest : 96.77%(97.38%),\tCurrent Time: 20250917-164733\n"
     ]
    },
    {
     "name": "stderr",
     "output_type": "stream",
     "text": [
      "Epoch 19/50:: 100%|\u001b[34m███████████████████\u001b[0m| 120/120 [00:02<00:00, 47.78batch/s, loss=0.032895]\u001b[0m\n"
     ]
    },
    {
     "name": "stdout",
     "output_type": "stream",
     "text": [
      "\t Loss: 3.947,\tTrain : 99.06%(99.06%),\tTest : 97.13%(97.38%),\tCurrent Time: 20250917-164736\n"
     ]
    },
    {
     "name": "stderr",
     "output_type": "stream",
     "text": [
      "Epoch 20/50:: 100%|\u001b[34m███████████████████\u001b[0m| 120/120 [00:02<00:00, 47.99batch/s, loss=0.034685]\u001b[0m\n"
     ]
    },
    {
     "name": "stdout",
     "output_type": "stream",
     "text": [
      "\t Loss: 4.162,\tTrain : 98.95%(99.06%),\tTest : 97.26%(97.38%),\tCurrent Time: 20250917-164739\n"
     ]
    },
    {
     "name": "stderr",
     "output_type": "stream",
     "text": [
      "Epoch 21/50:: 100%|\u001b[34m███████████████████\u001b[0m| 120/120 [00:02<00:00, 48.10batch/s, loss=0.028612]\u001b[0m\n"
     ]
    },
    {
     "name": "stdout",
     "output_type": "stream",
     "text": [
      "\t Loss: 3.433,\tTrain : 99.16%(99.16%),\tTest : 97.23%(97.38%),\tCurrent Time: 20250917-164741\n"
     ]
    },
    {
     "name": "stderr",
     "output_type": "stream",
     "text": [
      "Epoch 22/50:: 100%|\u001b[34m███████████████████\u001b[0m| 120/120 [00:02<00:00, 47.85batch/s, loss=0.026417]\u001b[0m\n"
     ]
    },
    {
     "name": "stdout",
     "output_type": "stream",
     "text": [
      "\t Loss: 3.170,\tTrain : 99.27%(99.27%),\tTest : 97.39%(97.39%),\tCurrent Time: 20250917-164744\n"
     ]
    },
    {
     "name": "stderr",
     "output_type": "stream",
     "text": [
      "Epoch 23/50:: 100%|\u001b[34m███████████████████\u001b[0m| 120/120 [00:02<00:00, 47.87batch/s, loss=0.026721]\u001b[0m\n"
     ]
    },
    {
     "name": "stdout",
     "output_type": "stream",
     "text": [
      "\t Loss: 3.206,\tTrain : 99.23%(99.27%),\tTest : 97.05%(97.39%),\tCurrent Time: 20250917-164746\n"
     ]
    },
    {
     "name": "stderr",
     "output_type": "stream",
     "text": [
      "Epoch 24/50:: 100%|\u001b[34m███████████████████\u001b[0m| 120/120 [00:02<00:00, 47.86batch/s, loss=0.022074]\u001b[0m\n"
     ]
    },
    {
     "name": "stdout",
     "output_type": "stream",
     "text": [
      "\t Loss: 2.649,\tTrain : 99.33%(99.33%),\tTest : 96.94%(97.39%),\tCurrent Time: 20250917-164749\n"
     ]
    },
    {
     "name": "stderr",
     "output_type": "stream",
     "text": [
      "Epoch 25/50:: 100%|\u001b[34m███████████████████\u001b[0m| 120/120 [00:02<00:00, 47.91batch/s, loss=0.028310]\u001b[0m\n"
     ]
    },
    {
     "name": "stdout",
     "output_type": "stream",
     "text": [
      "\t Loss: 3.397,\tTrain : 99.16%(99.33%),\tTest : 97.19%(97.39%),\tCurrent Time: 20250917-164752\n"
     ]
    },
    {
     "name": "stderr",
     "output_type": "stream",
     "text": [
      "Epoch 26/50:: 100%|\u001b[34m███████████████████\u001b[0m| 120/120 [00:02<00:00, 47.79batch/s, loss=0.021240]\u001b[0m\n"
     ]
    },
    {
     "name": "stdout",
     "output_type": "stream",
     "text": [
      "\t Loss: 2.549,\tTrain : 99.38%(99.38%),\tTest : 96.98%(97.39%),\tCurrent Time: 20250917-164754\n"
     ]
    },
    {
     "name": "stderr",
     "output_type": "stream",
     "text": [
      "Epoch 27/50:: 100%|\u001b[34m███████████████████\u001b[0m| 120/120 [00:02<00:00, 48.04batch/s, loss=0.017882]\u001b[0m\n"
     ]
    },
    {
     "name": "stdout",
     "output_type": "stream",
     "text": [
      "\t Loss: 2.146,\tTrain : 99.49%(99.49%),\tTest : 96.77%(97.39%),\tCurrent Time: 20250917-164757\n"
     ]
    },
    {
     "name": "stderr",
     "output_type": "stream",
     "text": [
      "Epoch 28/50:: 100%|\u001b[34m███████████████████\u001b[0m| 120/120 [00:02<00:00, 47.62batch/s, loss=0.017543]\u001b[0m\n"
     ]
    },
    {
     "name": "stdout",
     "output_type": "stream",
     "text": [
      "\t Loss: 2.105,\tTrain : 99.48%(99.49%),\tTest : 96.90%(97.39%),\tCurrent Time: 20250917-164759\n"
     ]
    },
    {
     "name": "stderr",
     "output_type": "stream",
     "text": [
      "Epoch 29/50:: 100%|\u001b[34m███████████████████\u001b[0m| 120/120 [00:02<00:00, 47.82batch/s, loss=0.017223]\u001b[0m\n"
     ]
    },
    {
     "name": "stdout",
     "output_type": "stream",
     "text": [
      "\t Loss: 2.067,\tTrain : 99.49%(99.49%),\tTest : 96.86%(97.39%),\tCurrent Time: 20250917-164802\n"
     ]
    },
    {
     "name": "stderr",
     "output_type": "stream",
     "text": [
      "Epoch 30/50:: 100%|\u001b[34m███████████████████\u001b[0m| 120/120 [00:02<00:00, 47.51batch/s, loss=0.016020]\u001b[0m\n"
     ]
    },
    {
     "name": "stdout",
     "output_type": "stream",
     "text": [
      "\t Loss: 1.922,\tTrain : 99.51%(99.51%),\tTest : 97.49%(97.49%),\tCurrent Time: 20250917-164805\n"
     ]
    },
    {
     "name": "stderr",
     "output_type": "stream",
     "text": [
      "Epoch 31/50:: 100%|\u001b[34m███████████████████\u001b[0m| 120/120 [00:02<00:00, 48.24batch/s, loss=0.020355]\u001b[0m\n"
     ]
    },
    {
     "name": "stdout",
     "output_type": "stream",
     "text": [
      "\t Loss: 2.443,\tTrain : 99.38%(99.51%),\tTest : 96.86%(97.49%),\tCurrent Time: 20250917-164807\n"
     ]
    },
    {
     "name": "stderr",
     "output_type": "stream",
     "text": [
      "Epoch 32/50:: 100%|\u001b[34m███████████████████\u001b[0m| 120/120 [00:02<00:00, 47.91batch/s, loss=0.017232]\u001b[0m\n"
     ]
    },
    {
     "name": "stdout",
     "output_type": "stream",
     "text": [
      "\t Loss: 2.068,\tTrain : 99.45%(99.51%),\tTest : 97.36%(97.49%),\tCurrent Time: 20250917-164810\n"
     ]
    },
    {
     "name": "stderr",
     "output_type": "stream",
     "text": [
      "Epoch 33/50:: 100%|\u001b[34m███████████████████\u001b[0m| 120/120 [00:02<00:00, 48.07batch/s, loss=0.018265]\u001b[0m\n"
     ]
    },
    {
     "name": "stdout",
     "output_type": "stream",
     "text": [
      "\t Loss: 2.192,\tTrain : 99.44%(99.51%),\tTest : 97.28%(97.49%),\tCurrent Time: 20250917-164812\n"
     ]
    },
    {
     "name": "stderr",
     "output_type": "stream",
     "text": [
      "Epoch 34/50:: 100%|\u001b[34m███████████████████\u001b[0m| 120/120 [00:02<00:00, 48.30batch/s, loss=0.011298]\u001b[0m\n"
     ]
    },
    {
     "name": "stdout",
     "output_type": "stream",
     "text": [
      "\t Loss: 1.356,\tTrain : 99.67%(99.67%),\tTest : 97.24%(97.49%),\tCurrent Time: 20250917-164815\n"
     ]
    },
    {
     "name": "stderr",
     "output_type": "stream",
     "text": [
      "Epoch 35/50:: 100%|\u001b[34m███████████████████\u001b[0m| 120/120 [00:02<00:00, 48.12batch/s, loss=0.016024]\u001b[0m\n"
     ]
    },
    {
     "name": "stdout",
     "output_type": "stream",
     "text": [
      "\t Loss: 1.923,\tTrain : 99.51%(99.67%),\tTest : 96.76%(97.49%),\tCurrent Time: 20250917-164818\n"
     ]
    },
    {
     "name": "stderr",
     "output_type": "stream",
     "text": [
      "Epoch 36/50:: 100%|\u001b[34m███████████████████\u001b[0m| 120/120 [00:02<00:00, 48.09batch/s, loss=0.017173]\u001b[0m\n"
     ]
    },
    {
     "name": "stdout",
     "output_type": "stream",
     "text": [
      "\t Loss: 2.061,\tTrain : 99.49%(99.67%),\tTest : 97.31%(97.49%),\tCurrent Time: 20250917-164820\n"
     ]
    },
    {
     "name": "stderr",
     "output_type": "stream",
     "text": [
      "Epoch 37/50:: 100%|\u001b[34m███████████████████\u001b[0m| 120/120 [00:02<00:00, 48.25batch/s, loss=0.015070]\u001b[0m\n"
     ]
    },
    {
     "name": "stdout",
     "output_type": "stream",
     "text": [
      "\t Loss: 1.808,\tTrain : 99.58%(99.67%),\tTest : 96.97%(97.49%),\tCurrent Time: 20250917-164823\n"
     ]
    },
    {
     "name": "stderr",
     "output_type": "stream",
     "text": [
      "Epoch 38/50:: 100%|\u001b[34m███████████████████\u001b[0m| 120/120 [00:02<00:00, 47.89batch/s, loss=0.012474]\u001b[0m\n"
     ]
    },
    {
     "name": "stdout",
     "output_type": "stream",
     "text": [
      "\t Loss: 1.497,\tTrain : 99.62%(99.67%),\tTest : 96.93%(97.49%),\tCurrent Time: 20250917-164825\n"
     ]
    },
    {
     "name": "stderr",
     "output_type": "stream",
     "text": [
      "Epoch 39/50:: 100%|\u001b[34m███████████████████\u001b[0m| 120/120 [00:02<00:00, 48.27batch/s, loss=0.012561]\u001b[0m\n"
     ]
    },
    {
     "name": "stdout",
     "output_type": "stream",
     "text": [
      "\t Loss: 1.507,\tTrain : 99.61%(99.67%),\tTest : 97.15%(97.49%),\tCurrent Time: 20250917-164828\n"
     ]
    },
    {
     "name": "stderr",
     "output_type": "stream",
     "text": [
      "Epoch 40/50:: 100%|\u001b[34m███████████████████\u001b[0m| 120/120 [00:02<00:00, 47.92batch/s, loss=0.010390]\u001b[0m\n"
     ]
    },
    {
     "name": "stdout",
     "output_type": "stream",
     "text": [
      "\t Loss: 1.247,\tTrain : 99.69%(99.69%),\tTest : 97.14%(97.49%),\tCurrent Time: 20250917-164831\n"
     ]
    },
    {
     "name": "stderr",
     "output_type": "stream",
     "text": [
      "Epoch 41/50:: 100%|\u001b[34m███████████████████\u001b[0m| 120/120 [00:02<00:00, 48.16batch/s, loss=0.014783]\u001b[0m\n"
     ]
    },
    {
     "name": "stdout",
     "output_type": "stream",
     "text": [
      "\t Loss: 1.774,\tTrain : 99.54%(99.69%),\tTest : 97.24%(97.49%),\tCurrent Time: 20250917-164833\n"
     ]
    },
    {
     "name": "stderr",
     "output_type": "stream",
     "text": [
      "Epoch 42/50:: 100%|\u001b[34m███████████████████\u001b[0m| 120/120 [00:02<00:00, 47.86batch/s, loss=0.009170]\u001b[0m\n"
     ]
    },
    {
     "name": "stdout",
     "output_type": "stream",
     "text": [
      "\t Loss: 1.100,\tTrain : 99.74%(99.74%),\tTest : 96.85%(97.49%),\tCurrent Time: 20250917-164836\n"
     ]
    },
    {
     "name": "stderr",
     "output_type": "stream",
     "text": [
      "Epoch 43/50:: 100%|\u001b[34m███████████████████\u001b[0m| 120/120 [00:02<00:00, 48.00batch/s, loss=0.012283]\u001b[0m\n"
     ]
    },
    {
     "name": "stdout",
     "output_type": "stream",
     "text": [
      "\t Loss: 1.474,\tTrain : 99.63%(99.74%),\tTest : 97.14%(97.49%),\tCurrent Time: 20250917-164838\n"
     ]
    },
    {
     "name": "stderr",
     "output_type": "stream",
     "text": [
      "Epoch 44/50:: 100%|\u001b[34m███████████████████\u001b[0m| 120/120 [00:02<00:00, 47.88batch/s, loss=0.008111]\u001b[0m\n"
     ]
    },
    {
     "name": "stdout",
     "output_type": "stream",
     "text": [
      "\t Loss: 0.973,\tTrain : 99.76%(99.76%),\tTest : 97.17%(97.49%),\tCurrent Time: 20250917-164841\n"
     ]
    },
    {
     "name": "stderr",
     "output_type": "stream",
     "text": [
      "Epoch 45/50:: 100%|\u001b[34m███████████████████\u001b[0m| 120/120 [00:02<00:00, 47.79batch/s, loss=0.015247]\u001b[0m\n"
     ]
    },
    {
     "name": "stdout",
     "output_type": "stream",
     "text": [
      "\t Loss: 1.830,\tTrain : 99.60%(99.76%),\tTest : 97.13%(97.49%),\tCurrent Time: 20250917-164844\n"
     ]
    },
    {
     "name": "stderr",
     "output_type": "stream",
     "text": [
      "Epoch 46/50:: 100%|\u001b[34m███████████████████\u001b[0m| 120/120 [00:02<00:00, 48.05batch/s, loss=0.011254]\u001b[0m\n"
     ]
    },
    {
     "name": "stdout",
     "output_type": "stream",
     "text": [
      "\t Loss: 1.351,\tTrain : 99.68%(99.76%),\tTest : 97.22%(97.49%),\tCurrent Time: 20250917-164846\n"
     ]
    },
    {
     "name": "stderr",
     "output_type": "stream",
     "text": [
      "Epoch 47/50:: 100%|\u001b[34m███████████████████\u001b[0m| 120/120 [00:02<00:00, 48.24batch/s, loss=0.011822]\u001b[0m\n"
     ]
    },
    {
     "name": "stdout",
     "output_type": "stream",
     "text": [
      "\t Loss: 1.419,\tTrain : 99.67%(99.76%),\tTest : 97.27%(97.49%),\tCurrent Time: 20250917-164849\n"
     ]
    },
    {
     "name": "stderr",
     "output_type": "stream",
     "text": [
      "Epoch 48/50:: 100%|\u001b[34m███████████████████\u001b[0m| 120/120 [00:02<00:00, 47.97batch/s, loss=0.008954]\u001b[0m\n"
     ]
    },
    {
     "name": "stdout",
     "output_type": "stream",
     "text": [
      "\t Loss: 1.074,\tTrain : 99.73%(99.76%),\tTest : 96.79%(97.49%),\tCurrent Time: 20250917-164851\n"
     ]
    },
    {
     "name": "stderr",
     "output_type": "stream",
     "text": [
      "Epoch 49/50:: 100%|\u001b[34m███████████████████\u001b[0m| 120/120 [00:02<00:00, 48.20batch/s, loss=0.010396]\u001b[0m\n"
     ]
    },
    {
     "name": "stdout",
     "output_type": "stream",
     "text": [
      "\t Loss: 1.247,\tTrain : 99.70%(99.76%),\tTest : 97.18%(97.49%),\tCurrent Time: 20250917-164854\n"
     ]
    },
    {
     "name": "stderr",
     "output_type": "stream",
     "text": [
      "Epoch 50/50:: 100%|\u001b[34m███████████████████\u001b[0m| 120/120 [00:02<00:00, 48.06batch/s, loss=0.006868]\u001b[0m\n"
     ]
    },
    {
     "name": "stdout",
     "output_type": "stream",
     "text": [
      "\t Loss: 0.824,\tTrain : 99.79%(99.79%),\tTest : 97.36%(97.49%),\tCurrent Time: 20250917-164856\n",
      "First_symm_N-HL_Res-EP_L10--MNIST_EP_b_sc0.1- Time: 20250917-164856, Epochs: 50, Learning Rate: 0.001, Best: 99.79%  97.49%\n",
      "\n",
      "[[0 1 0 0 0 0 0 0 0 0 0 0 0 0 0 0 0 0 0 0 0 0]\n",
      " [0 0 1 0 1 0 0 0 0 0 0 0 0 0 0 0 0 0 0 0 0 0]\n",
      " [0 1 0 1 0 0 0 0 0 0 0 0 0 0 0 0 0 0 0 0 0 0]\n",
      " [0 0 1 0 1 0 0 0 0 0 0 0 0 0 0 0 0 0 0 0 0 0]\n",
      " [0 1 0 1 0 1 0 1 0 0 0 0 0 0 0 0 0 0 0 0 0 0]\n",
      " [0 0 0 0 1 0 1 0 0 0 0 0 0 0 0 0 0 0 0 0 0 0]\n",
      " [0 0 0 0 0 1 0 1 0 0 0 0 0 0 0 0 0 0 0 0 0 0]\n",
      " [0 0 0 0 1 0 1 0 1 0 1 0 0 0 0 0 0 0 0 0 0 0]\n",
      " [0 0 0 0 0 0 0 1 0 1 0 0 0 0 0 0 0 0 0 0 0 0]\n",
      " [0 0 0 0 0 0 0 0 1 0 1 0 0 0 0 0 0 0 0 0 0 0]\n",
      " [0 0 0 0 0 0 0 1 0 1 0 1 0 1 0 0 0 0 0 0 0 0]\n",
      " [0 0 0 0 0 0 0 0 0 0 1 0 1 0 0 0 0 0 0 0 0 0]\n",
      " [0 0 0 0 0 0 0 0 0 0 0 1 0 1 0 0 0 0 0 0 0 0]\n",
      " [0 0 0 0 0 0 0 0 0 0 1 0 1 0 1 0 1 0 0 0 0 0]\n",
      " [0 0 0 0 0 0 0 0 0 0 0 0 0 1 0 1 0 0 0 0 0 0]\n",
      " [0 0 0 0 0 0 0 0 0 0 0 0 0 0 1 0 1 0 0 0 0 0]\n",
      " [0 0 0 0 0 0 0 0 0 0 0 0 0 1 0 1 0 1 0 1 0 0]\n",
      " [0 0 0 0 0 0 0 0 0 0 0 0 0 0 0 0 1 0 1 0 0 0]\n",
      " [0 0 0 0 0 0 0 0 0 0 0 0 0 0 0 0 0 1 0 1 0 0]\n",
      " [0 0 0 0 0 0 0 0 0 0 0 0 0 0 0 0 1 0 1 0 1 0]\n",
      " [0 0 0 0 0 0 0 0 0 0 0 0 0 0 0 0 0 0 0 1 0 1]\n",
      " [0 0 0 0 0 0 0 0 0 0 0 0 0 0 0 0 0 0 0 0 1 0]]\n",
      "First_symm_N-HL_Res-EP_L20--MNIST_EP_b_sc0.1-\n"
     ]
    },
    {
     "name": "stderr",
     "output_type": "stream",
     "text": [
      "Epoch 1/50:: 100%|\u001b[34m████████████████████\u001b[0m| 120/120 [00:07<00:00, 16.68batch/s, loss=0.924736]\u001b[0m\n"
     ]
    },
    {
     "name": "stdout",
     "output_type": "stream",
     "text": [
      "\t Loss: 110.968,\tTrain : 70.83%(70.83%),\tTest : 86.61%(86.61%),\tCurrent Time: 20250917-164909\n"
     ]
    },
    {
     "name": "stderr",
     "output_type": "stream",
     "text": [
      "Epoch 2/50:: 100%|\u001b[34m████████████████████\u001b[0m| 120/120 [00:06<00:00, 17.54batch/s, loss=0.396979]\u001b[0m\n"
     ]
    },
    {
     "name": "stdout",
     "output_type": "stream",
     "text": [
      "\t Loss: 47.637,\tTrain : 88.91%(88.91%),\tTest : 90.62%(90.62%),\tCurrent Time: 20250917-164916\n"
     ]
    },
    {
     "name": "stderr",
     "output_type": "stream",
     "text": [
      "Epoch 3/50:: 100%|\u001b[34m████████████████████\u001b[0m| 120/120 [00:06<00:00, 17.50batch/s, loss=0.310704]\u001b[0m\n"
     ]
    },
    {
     "name": "stdout",
     "output_type": "stream",
     "text": [
      "\t Loss: 37.284,\tTrain : 91.66%(91.66%),\tTest : 92.37%(92.37%),\tCurrent Time: 20250917-164923\n"
     ]
    },
    {
     "name": "stderr",
     "output_type": "stream",
     "text": [
      "Epoch 4/50:: 100%|\u001b[34m████████████████████\u001b[0m| 120/120 [00:06<00:00, 17.49batch/s, loss=0.272087]\u001b[0m\n"
     ]
    },
    {
     "name": "stdout",
     "output_type": "stream",
     "text": [
      "\t Loss: 32.650,\tTrain : 92.90%(92.90%),\tTest : 93.19%(93.19%),\tCurrent Time: 20250917-164931\n"
     ]
    },
    {
     "name": "stderr",
     "output_type": "stream",
     "text": [
      "Epoch 5/50:: 100%|\u001b[34m████████████████████\u001b[0m| 120/120 [00:06<00:00, 17.47batch/s, loss=0.239423]\u001b[0m\n"
     ]
    },
    {
     "name": "stdout",
     "output_type": "stream",
     "text": [
      "\t Loss: 28.731,\tTrain : 93.92%(93.92%),\tTest : 93.68%(93.68%),\tCurrent Time: 20250917-164938\n"
     ]
    },
    {
     "name": "stderr",
     "output_type": "stream",
     "text": [
      "Epoch 6/50:: 100%|\u001b[34m████████████████████\u001b[0m| 120/120 [00:06<00:00, 17.44batch/s, loss=0.219736]\u001b[0m\n"
     ]
    },
    {
     "name": "stdout",
     "output_type": "stream",
     "text": [
      "\t Loss: 26.368,\tTrain : 94.53%(94.53%),\tTest : 93.38%(93.68%),\tCurrent Time: 20250917-164946\n"
     ]
    },
    {
     "name": "stderr",
     "output_type": "stream",
     "text": [
      "Epoch 7/50:: 100%|\u001b[34m████████████████████\u001b[0m| 120/120 [00:06<00:00, 17.43batch/s, loss=0.200538]\u001b[0m\n"
     ]
    },
    {
     "name": "stdout",
     "output_type": "stream",
     "text": [
      "\t Loss: 24.065,\tTrain : 95.14%(95.14%),\tTest : 94.50%(94.50%),\tCurrent Time: 20250917-164953\n"
     ]
    },
    {
     "name": "stderr",
     "output_type": "stream",
     "text": [
      "Epoch 8/50:: 100%|\u001b[34m████████████████████\u001b[0m| 120/120 [00:06<00:00, 17.43batch/s, loss=0.187931]\u001b[0m\n"
     ]
    },
    {
     "name": "stdout",
     "output_type": "stream",
     "text": [
      "\t Loss: 22.552,\tTrain : 95.48%(95.48%),\tTest : 94.74%(94.74%),\tCurrent Time: 20250917-165000\n"
     ]
    },
    {
     "name": "stderr",
     "output_type": "stream",
     "text": [
      "Epoch 9/50:: 100%|\u001b[34m████████████████████\u001b[0m| 120/120 [00:06<00:00, 17.46batch/s, loss=0.178995]\u001b[0m\n"
     ]
    },
    {
     "name": "stdout",
     "output_type": "stream",
     "text": [
      "\t Loss: 21.479,\tTrain : 95.69%(95.69%),\tTest : 94.95%(94.95%),\tCurrent Time: 20250917-165008\n"
     ]
    },
    {
     "name": "stderr",
     "output_type": "stream",
     "text": [
      "Epoch 10/50:: 100%|\u001b[34m███████████████████\u001b[0m| 120/120 [00:06<00:00, 17.45batch/s, loss=0.169375]\u001b[0m\n"
     ]
    },
    {
     "name": "stdout",
     "output_type": "stream",
     "text": [
      "\t Loss: 20.325,\tTrain : 96.05%(96.05%),\tTest : 94.76%(94.95%),\tCurrent Time: 20250917-165015\n"
     ]
    },
    {
     "name": "stderr",
     "output_type": "stream",
     "text": [
      "Epoch 11/50:: 100%|\u001b[34m███████████████████\u001b[0m| 120/120 [00:06<00:00, 17.46batch/s, loss=0.164139]\u001b[0m\n"
     ]
    },
    {
     "name": "stdout",
     "output_type": "stream",
     "text": [
      "\t Loss: 19.697,\tTrain : 96.17%(96.17%),\tTest : 95.14%(95.14%),\tCurrent Time: 20250917-165023\n"
     ]
    },
    {
     "name": "stderr",
     "output_type": "stream",
     "text": [
      "Epoch 12/50:: 100%|\u001b[34m███████████████████\u001b[0m| 120/120 [00:06<00:00, 17.49batch/s, loss=0.150095]\u001b[0m\n"
     ]
    },
    {
     "name": "stdout",
     "output_type": "stream",
     "text": [
      "\t Loss: 18.011,\tTrain : 96.53%(96.53%),\tTest : 94.68%(95.14%),\tCurrent Time: 20250917-165030\n"
     ]
    },
    {
     "name": "stderr",
     "output_type": "stream",
     "text": [
      "Epoch 13/50:: 100%|\u001b[34m███████████████████\u001b[0m| 120/120 [00:06<00:00, 17.38batch/s, loss=0.145915]\u001b[0m\n"
     ]
    },
    {
     "name": "stdout",
     "output_type": "stream",
     "text": [
      "\t Loss: 17.510,\tTrain : 96.66%(96.66%),\tTest : 95.22%(95.22%),\tCurrent Time: 20250917-165037\n"
     ]
    },
    {
     "name": "stderr",
     "output_type": "stream",
     "text": [
      "Epoch 14/50:: 100%|\u001b[34m███████████████████\u001b[0m| 120/120 [00:06<00:00, 17.42batch/s, loss=0.140619]\u001b[0m\n"
     ]
    },
    {
     "name": "stdout",
     "output_type": "stream",
     "text": [
      "\t Loss: 16.874,\tTrain : 96.78%(96.78%),\tTest : 95.61%(95.61%),\tCurrent Time: 20250917-165045\n"
     ]
    },
    {
     "name": "stderr",
     "output_type": "stream",
     "text": [
      "Epoch 15/50:: 100%|\u001b[34m███████████████████\u001b[0m| 120/120 [00:06<00:00, 17.38batch/s, loss=0.132253]\u001b[0m\n"
     ]
    },
    {
     "name": "stdout",
     "output_type": "stream",
     "text": [
      "\t Loss: 15.870,\tTrain : 96.96%(96.96%),\tTest : 95.45%(95.61%),\tCurrent Time: 20250917-165052\n"
     ]
    },
    {
     "name": "stderr",
     "output_type": "stream",
     "text": [
      "Epoch 16/50:: 100%|\u001b[34m███████████████████\u001b[0m| 120/120 [00:06<00:00, 17.43batch/s, loss=0.126024]\u001b[0m\n"
     ]
    },
    {
     "name": "stdout",
     "output_type": "stream",
     "text": [
      "\t Loss: 15.123,\tTrain : 97.11%(97.11%),\tTest : 95.52%(95.61%),\tCurrent Time: 20250917-165100\n"
     ]
    },
    {
     "name": "stderr",
     "output_type": "stream",
     "text": [
      "Epoch 17/50:: 100%|\u001b[34m███████████████████\u001b[0m| 120/120 [00:06<00:00, 17.46batch/s, loss=0.123411]\u001b[0m\n"
     ]
    },
    {
     "name": "stdout",
     "output_type": "stream",
     "text": [
      "\t Loss: 14.809,\tTrain : 97.17%(97.17%),\tTest : 95.58%(95.61%),\tCurrent Time: 20250917-165107\n"
     ]
    },
    {
     "name": "stderr",
     "output_type": "stream",
     "text": [
      "Epoch 18/50:: 100%|\u001b[34m███████████████████\u001b[0m| 120/120 [00:06<00:00, 17.45batch/s, loss=0.122153]\u001b[0m\n"
     ]
    },
    {
     "name": "stdout",
     "output_type": "stream",
     "text": [
      "\t Loss: 14.658,\tTrain : 97.33%(97.33%),\tTest : 95.63%(95.63%),\tCurrent Time: 20250917-165114\n"
     ]
    },
    {
     "name": "stderr",
     "output_type": "stream",
     "text": [
      "Epoch 19/50:: 100%|\u001b[34m███████████████████\u001b[0m| 120/120 [00:06<00:00, 17.48batch/s, loss=0.121703]\u001b[0m\n"
     ]
    },
    {
     "name": "stdout",
     "output_type": "stream",
     "text": [
      "\t Loss: 14.604,\tTrain : 97.39%(97.39%),\tTest : 95.43%(95.63%),\tCurrent Time: 20250917-165122\n"
     ]
    },
    {
     "name": "stderr",
     "output_type": "stream",
     "text": [
      "Epoch 20/50:: 100%|\u001b[34m███████████████████\u001b[0m| 120/120 [00:06<00:00, 17.43batch/s, loss=0.118019]\u001b[0m\n"
     ]
    },
    {
     "name": "stdout",
     "output_type": "stream",
     "text": [
      "\t Loss: 14.162,\tTrain : 97.55%(97.55%),\tTest : 95.73%(95.73%),\tCurrent Time: 20250917-165129\n"
     ]
    },
    {
     "name": "stderr",
     "output_type": "stream",
     "text": [
      "Epoch 21/50:: 100%|\u001b[34m███████████████████\u001b[0m| 120/120 [00:06<00:00, 17.41batch/s, loss=0.111427]\u001b[0m\n"
     ]
    },
    {
     "name": "stdout",
     "output_type": "stream",
     "text": [
      "\t Loss: 13.371,\tTrain : 97.65%(97.65%),\tTest : 95.98%(95.98%),\tCurrent Time: 20250917-165137\n"
     ]
    },
    {
     "name": "stderr",
     "output_type": "stream",
     "text": [
      "Epoch 22/50:: 100%|\u001b[34m███████████████████\u001b[0m| 120/120 [00:06<00:00, 17.43batch/s, loss=0.103120]\u001b[0m\n"
     ]
    },
    {
     "name": "stdout",
     "output_type": "stream",
     "text": [
      "\t Loss: 12.374,\tTrain : 97.86%(97.86%),\tTest : 95.70%(95.98%),\tCurrent Time: 20250917-165144\n"
     ]
    },
    {
     "name": "stderr",
     "output_type": "stream",
     "text": [
      "Epoch 23/50:: 100%|\u001b[34m███████████████████\u001b[0m| 120/120 [00:06<00:00, 17.43batch/s, loss=0.098921]\u001b[0m\n"
     ]
    },
    {
     "name": "stdout",
     "output_type": "stream",
     "text": [
      "\t Loss: 11.870,\tTrain : 97.99%(97.99%),\tTest : 95.82%(95.98%),\tCurrent Time: 20250917-165151\n"
     ]
    },
    {
     "name": "stderr",
     "output_type": "stream",
     "text": [
      "Epoch 24/50:: 100%|\u001b[34m███████████████████\u001b[0m| 120/120 [00:06<00:00, 17.47batch/s, loss=0.099332]\u001b[0m\n"
     ]
    },
    {
     "name": "stdout",
     "output_type": "stream",
     "text": [
      "\t Loss: 11.920,\tTrain : 97.96%(97.99%),\tTest : 95.87%(95.98%),\tCurrent Time: 20250917-165159\n"
     ]
    },
    {
     "name": "stderr",
     "output_type": "stream",
     "text": [
      "Epoch 25/50:: 100%|\u001b[34m███████████████████\u001b[0m| 120/120 [00:06<00:00, 17.47batch/s, loss=0.104916]\u001b[0m\n"
     ]
    },
    {
     "name": "stdout",
     "output_type": "stream",
     "text": [
      "\t Loss: 12.590,\tTrain : 97.92%(97.99%),\tTest : 95.98%(95.98%),\tCurrent Time: 20250917-165206\n"
     ]
    },
    {
     "name": "stderr",
     "output_type": "stream",
     "text": [
      "Epoch 26/50:: 100%|\u001b[34m███████████████████\u001b[0m| 120/120 [00:06<00:00, 17.45batch/s, loss=0.101711]\u001b[0m\n"
     ]
    },
    {
     "name": "stdout",
     "output_type": "stream",
     "text": [
      "\t Loss: 12.205,\tTrain : 98.03%(98.03%),\tTest : 95.70%(95.98%),\tCurrent Time: 20250917-165214\n"
     ]
    },
    {
     "name": "stderr",
     "output_type": "stream",
     "text": [
      "Epoch 27/50:: 100%|\u001b[34m███████████████████\u001b[0m| 120/120 [00:06<00:00, 17.45batch/s, loss=0.095119]\u001b[0m\n"
     ]
    },
    {
     "name": "stdout",
     "output_type": "stream",
     "text": [
      "\t Loss: 11.414,\tTrain : 98.16%(98.16%),\tTest : 95.80%(95.98%),\tCurrent Time: 20250917-165221\n"
     ]
    },
    {
     "name": "stderr",
     "output_type": "stream",
     "text": [
      "Epoch 28/50:: 100%|\u001b[34m███████████████████\u001b[0m| 120/120 [00:06<00:00, 17.45batch/s, loss=0.094758]\u001b[0m\n"
     ]
    },
    {
     "name": "stdout",
     "output_type": "stream",
     "text": [
      "\t Loss: 11.371,\tTrain : 98.16%(98.16%),\tTest : 95.97%(95.98%),\tCurrent Time: 20250917-165228\n"
     ]
    },
    {
     "name": "stderr",
     "output_type": "stream",
     "text": [
      "Epoch 29/50:: 100%|\u001b[34m███████████████████\u001b[0m| 120/120 [00:06<00:00, 17.46batch/s, loss=0.092099]\u001b[0m\n"
     ]
    },
    {
     "name": "stdout",
     "output_type": "stream",
     "text": [
      "\t Loss: 11.052,\tTrain : 98.21%(98.21%),\tTest : 95.79%(95.98%),\tCurrent Time: 20250917-165236\n"
     ]
    },
    {
     "name": "stderr",
     "output_type": "stream",
     "text": [
      "Epoch 30/50:: 100%|\u001b[34m███████████████████\u001b[0m| 120/120 [00:06<00:00, 17.41batch/s, loss=0.091773]\u001b[0m\n"
     ]
    },
    {
     "name": "stdout",
     "output_type": "stream",
     "text": [
      "\t Loss: 11.013,\tTrain : 98.19%(98.21%),\tTest : 95.70%(95.98%),\tCurrent Time: 20250917-165243\n"
     ]
    },
    {
     "name": "stderr",
     "output_type": "stream",
     "text": [
      "Epoch 31/50:: 100%|\u001b[34m███████████████████\u001b[0m| 120/120 [00:06<00:00, 17.45batch/s, loss=0.091387]\u001b[0m\n"
     ]
    },
    {
     "name": "stdout",
     "output_type": "stream",
     "text": [
      "\t Loss: 10.966,\tTrain : 98.25%(98.25%),\tTest : 95.78%(95.98%),\tCurrent Time: 20250917-165251\n"
     ]
    },
    {
     "name": "stderr",
     "output_type": "stream",
     "text": [
      "Epoch 32/50:: 100%|\u001b[34m███████████████████\u001b[0m| 120/120 [00:06<00:00, 17.47batch/s, loss=0.086553]\u001b[0m\n"
     ]
    },
    {
     "name": "stdout",
     "output_type": "stream",
     "text": [
      "\t Loss: 10.386,\tTrain : 98.30%(98.30%),\tTest : 95.66%(95.98%),\tCurrent Time: 20250917-165258\n"
     ]
    },
    {
     "name": "stderr",
     "output_type": "stream",
     "text": [
      "Epoch 33/50:: 100%|\u001b[34m███████████████████\u001b[0m| 120/120 [00:06<00:00, 17.43batch/s, loss=0.090770]\u001b[0m\n"
     ]
    },
    {
     "name": "stdout",
     "output_type": "stream",
     "text": [
      "\t Loss: 10.892,\tTrain : 98.24%(98.30%),\tTest : 95.79%(95.98%),\tCurrent Time: 20250917-165305\n"
     ]
    },
    {
     "name": "stderr",
     "output_type": "stream",
     "text": [
      "Epoch 34/50:: 100%|\u001b[34m███████████████████\u001b[0m| 120/120 [00:06<00:00, 17.42batch/s, loss=0.086138]\u001b[0m\n"
     ]
    },
    {
     "name": "stdout",
     "output_type": "stream",
     "text": [
      "\t Loss: 10.337,\tTrain : 98.39%(98.39%),\tTest : 95.58%(95.98%),\tCurrent Time: 20250917-165313\n"
     ]
    },
    {
     "name": "stderr",
     "output_type": "stream",
     "text": [
      "Epoch 35/50:: 100%|\u001b[34m███████████████████\u001b[0m| 120/120 [00:06<00:00, 17.43batch/s, loss=0.085651]\u001b[0m\n"
     ]
    },
    {
     "name": "stdout",
     "output_type": "stream",
     "text": [
      "\t Loss: 10.278,\tTrain : 98.41%(98.41%),\tTest : 95.76%(95.98%),\tCurrent Time: 20250917-165320\n"
     ]
    },
    {
     "name": "stderr",
     "output_type": "stream",
     "text": [
      "Epoch 36/50:: 100%|\u001b[34m███████████████████\u001b[0m| 120/120 [00:06<00:00, 17.44batch/s, loss=0.083850]\u001b[0m\n"
     ]
    },
    {
     "name": "stdout",
     "output_type": "stream",
     "text": [
      "\t Loss: 10.062,\tTrain : 98.46%(98.46%),\tTest : 95.62%(95.98%),\tCurrent Time: 20250917-165328\n"
     ]
    },
    {
     "name": "stderr",
     "output_type": "stream",
     "text": [
      "Epoch 37/50:: 100%|\u001b[34m███████████████████\u001b[0m| 120/120 [00:06<00:00, 17.47batch/s, loss=0.079066]\u001b[0m\n"
     ]
    },
    {
     "name": "stdout",
     "output_type": "stream",
     "text": [
      "\t Loss: 9.488,\tTrain : 98.54%(98.54%),\tTest : 95.67%(95.98%),\tCurrent Time: 20250917-165335\n"
     ]
    },
    {
     "name": "stderr",
     "output_type": "stream",
     "text": [
      "Epoch 38/50:: 100%|\u001b[34m███████████████████\u001b[0m| 120/120 [00:06<00:00, 17.45batch/s, loss=0.082820]\u001b[0m\n"
     ]
    },
    {
     "name": "stdout",
     "output_type": "stream",
     "text": [
      "\t Loss: 9.938,\tTrain : 98.50%(98.54%),\tTest : 95.80%(95.98%),\tCurrent Time: 20250917-165342\n"
     ]
    },
    {
     "name": "stderr",
     "output_type": "stream",
     "text": [
      "Epoch 39/50:: 100%|\u001b[34m███████████████████\u001b[0m| 120/120 [00:06<00:00, 17.43batch/s, loss=0.083530]\u001b[0m\n"
     ]
    },
    {
     "name": "stdout",
     "output_type": "stream",
     "text": [
      "\t Loss: 10.024,\tTrain : 98.52%(98.54%),\tTest : 95.84%(95.98%),\tCurrent Time: 20250917-165350\n"
     ]
    },
    {
     "name": "stderr",
     "output_type": "stream",
     "text": [
      "Epoch 40/50:: 100%|\u001b[34m███████████████████\u001b[0m| 120/120 [00:06<00:00, 17.46batch/s, loss=0.082544]\u001b[0m\n"
     ]
    },
    {
     "name": "stdout",
     "output_type": "stream",
     "text": [
      "\t Loss: 9.905,\tTrain : 98.51%(98.54%),\tTest : 95.81%(95.98%),\tCurrent Time: 20250917-165357\n"
     ]
    },
    {
     "name": "stderr",
     "output_type": "stream",
     "text": [
      "Epoch 41/50:: 100%|\u001b[34m███████████████████\u001b[0m| 120/120 [00:06<00:00, 17.46batch/s, loss=0.087397]\u001b[0m\n"
     ]
    },
    {
     "name": "stdout",
     "output_type": "stream",
     "text": [
      "\t Loss: 10.488,\tTrain : 98.41%(98.54%),\tTest : 95.85%(95.98%),\tCurrent Time: 20250917-165405\n"
     ]
    },
    {
     "name": "stderr",
     "output_type": "stream",
     "text": [
      "Epoch 42/50:: 100%|\u001b[34m███████████████████\u001b[0m| 120/120 [00:06<00:00, 17.51batch/s, loss=0.080930]\u001b[0m\n"
     ]
    },
    {
     "name": "stdout",
     "output_type": "stream",
     "text": [
      "\t Loss: 9.712,\tTrain : 98.56%(98.56%),\tTest : 95.80%(95.98%),\tCurrent Time: 20250917-165412\n"
     ]
    },
    {
     "name": "stderr",
     "output_type": "stream",
     "text": [
      "Epoch 43/50:: 100%|\u001b[34m███████████████████\u001b[0m| 120/120 [00:06<00:00, 17.44batch/s, loss=0.083062]\u001b[0m\n"
     ]
    },
    {
     "name": "stdout",
     "output_type": "stream",
     "text": [
      "\t Loss: 9.967,\tTrain : 98.55%(98.56%),\tTest : 95.93%(95.98%),\tCurrent Time: 20250917-165419\n"
     ]
    },
    {
     "name": "stderr",
     "output_type": "stream",
     "text": [
      "Epoch 44/50:: 100%|\u001b[34m███████████████████\u001b[0m| 120/120 [00:06<00:00, 17.51batch/s, loss=0.087651]\u001b[0m\n"
     ]
    },
    {
     "name": "stdout",
     "output_type": "stream",
     "text": [
      "\t Loss: 10.518,\tTrain : 98.42%(98.56%),\tTest : 95.66%(95.98%),\tCurrent Time: 20250917-165427\n"
     ]
    },
    {
     "name": "stderr",
     "output_type": "stream",
     "text": [
      "Epoch 45/50:: 100%|\u001b[34m███████████████████\u001b[0m| 120/120 [00:06<00:00, 17.51batch/s, loss=0.080955]\u001b[0m\n"
     ]
    },
    {
     "name": "stdout",
     "output_type": "stream",
     "text": [
      "\t Loss: 9.715,\tTrain : 98.61%(98.61%),\tTest : 95.89%(95.98%),\tCurrent Time: 20250917-165434\n"
     ]
    },
    {
     "name": "stderr",
     "output_type": "stream",
     "text": [
      "Epoch 46/50:: 100%|\u001b[34m███████████████████\u001b[0m| 120/120 [00:06<00:00, 17.49batch/s, loss=0.082640]\u001b[0m\n"
     ]
    },
    {
     "name": "stdout",
     "output_type": "stream",
     "text": [
      "\t Loss: 9.917,\tTrain : 98.57%(98.61%),\tTest : 95.71%(95.98%),\tCurrent Time: 20250917-165441\n"
     ]
    },
    {
     "name": "stderr",
     "output_type": "stream",
     "text": [
      "Epoch 47/50:: 100%|\u001b[34m███████████████████\u001b[0m| 120/120 [00:06<00:00, 17.50batch/s, loss=0.076602]\u001b[0m\n"
     ]
    },
    {
     "name": "stdout",
     "output_type": "stream",
     "text": [
      "\t Loss: 9.192,\tTrain : 98.72%(98.72%),\tTest : 95.76%(95.98%),\tCurrent Time: 20250917-165449\n"
     ]
    },
    {
     "name": "stderr",
     "output_type": "stream",
     "text": [
      "Epoch 48/50:: 100%|\u001b[34m███████████████████\u001b[0m| 120/120 [00:06<00:00, 17.43batch/s, loss=0.086506]\u001b[0m\n"
     ]
    },
    {
     "name": "stdout",
     "output_type": "stream",
     "text": [
      "\t Loss: 10.381,\tTrain : 98.52%(98.72%),\tTest : 95.76%(95.98%),\tCurrent Time: 20250917-165456\n"
     ]
    },
    {
     "name": "stderr",
     "output_type": "stream",
     "text": [
      "Epoch 49/50:: 100%|\u001b[34m███████████████████\u001b[0m| 120/120 [00:06<00:00, 17.50batch/s, loss=0.088698]\u001b[0m\n"
     ]
    },
    {
     "name": "stdout",
     "output_type": "stream",
     "text": [
      "\t Loss: 10.644,\tTrain : 98.48%(98.72%),\tTest : 95.83%(95.98%),\tCurrent Time: 20250917-165504\n"
     ]
    },
    {
     "name": "stderr",
     "output_type": "stream",
     "text": [
      "Epoch 50/50:: 100%|\u001b[34m███████████████████\u001b[0m| 120/120 [00:06<00:00, 17.52batch/s, loss=0.094250]\u001b[0m\n"
     ]
    },
    {
     "name": "stdout",
     "output_type": "stream",
     "text": [
      "\t Loss: 11.310,\tTrain : 98.45%(98.72%),\tTest : 95.82%(95.98%),\tCurrent Time: 20250917-165511\n",
      "First_symm_N-HL_Res-EP_L20--MNIST_EP_b_sc0.1- Time: 20250917-165511, Epochs: 50, Learning Rate: 0.001, Best: 98.72%  95.98%\n",
      "\n",
      "[[0 1 0 0 0 0 0 0 0 0 0 0 0 0 0 0 0 0 0 0 0 0]\n",
      " [0 0 1 0 1 0 0 0 0 0 0 0 0 0 0 0 0 0 0 0 0 0]\n",
      " [0 1 0 1 0 0 0 0 0 0 0 0 0 0 0 0 0 0 0 0 0 0]\n",
      " [0 0 1 0 1 0 0 0 0 0 0 0 0 0 0 0 0 0 0 0 0 0]\n",
      " [0 1 0 1 0 1 0 1 0 0 0 0 0 0 0 0 0 0 0 0 0 0]\n",
      " [0 0 0 0 1 0 1 0 0 0 0 0 0 0 0 0 0 0 0 0 0 0]\n",
      " [0 0 0 0 0 1 0 1 0 0 0 0 0 0 0 0 0 0 0 0 0 0]\n",
      " [0 0 0 0 1 0 1 0 1 0 1 0 0 0 0 0 0 0 0 0 0 0]\n",
      " [0 0 0 0 0 0 0 1 0 1 0 0 0 0 0 0 0 0 0 0 0 0]\n",
      " [0 0 0 0 0 0 0 0 1 0 1 0 0 0 0 0 0 0 0 0 0 0]\n",
      " [0 0 0 0 0 0 0 1 0 1 0 1 0 1 0 0 0 0 0 0 0 0]\n",
      " [0 0 0 0 0 0 0 0 0 0 1 0 1 0 0 0 0 0 0 0 0 0]\n",
      " [0 0 0 0 0 0 0 0 0 0 0 1 0 1 0 0 0 0 0 0 0 0]\n",
      " [0 0 0 0 0 0 0 0 0 0 1 0 1 0 1 0 1 0 0 0 0 0]\n",
      " [0 0 0 0 0 0 0 0 0 0 0 0 0 1 0 1 0 0 0 0 0 0]\n",
      " [0 0 0 0 0 0 0 0 0 0 0 0 0 0 1 0 1 0 0 0 0 0]\n",
      " [0 0 0 0 0 0 0 0 0 0 0 0 0 1 0 1 0 1 0 1 0 0]\n",
      " [0 0 0 0 0 0 0 0 0 0 0 0 0 0 0 0 1 0 1 0 0 0]\n",
      " [0 0 0 0 0 0 0 0 0 0 0 0 0 0 0 0 0 1 0 1 0 0]\n",
      " [0 0 0 0 0 0 0 0 0 0 0 0 0 0 0 0 1 0 1 0 1 0]\n",
      " [0 0 0 0 0 0 0 0 0 0 0 0 0 0 0 0 0 0 0 1 0 1]\n",
      " [0 0 0 0 0 0 0 0 0 0 0 0 0 0 0 0 0 0 0 0 1 0]]\n",
      "First_symm_N-HL_Res-EP_L20--MNIST_EP_b_sc0.1-\n"
     ]
    },
    {
     "name": "stderr",
     "output_type": "stream",
     "text": [
      "Epoch 1/50:: 100%|\u001b[34m████████████████████\u001b[0m| 120/120 [00:07<00:00, 16.86batch/s, loss=0.901861]\u001b[0m\n"
     ]
    },
    {
     "name": "stdout",
     "output_type": "stream",
     "text": [
      "\t Loss: 108.223,\tTrain : 71.73%(71.73%),\tTest : 87.38%(87.38%),\tCurrent Time: 20250917-165523\n"
     ]
    },
    {
     "name": "stderr",
     "output_type": "stream",
     "text": [
      "Epoch 2/50:: 100%|\u001b[34m████████████████████\u001b[0m| 120/120 [00:06<00:00, 17.48batch/s, loss=0.381742]\u001b[0m\n"
     ]
    },
    {
     "name": "stdout",
     "output_type": "stream",
     "text": [
      "\t Loss: 45.809,\tTrain : 89.51%(89.51%),\tTest : 90.86%(90.86%),\tCurrent Time: 20250917-165530\n"
     ]
    },
    {
     "name": "stderr",
     "output_type": "stream",
     "text": [
      "Epoch 3/50:: 100%|\u001b[34m████████████████████\u001b[0m| 120/120 [00:06<00:00, 17.46batch/s, loss=0.305410]\u001b[0m\n"
     ]
    },
    {
     "name": "stdout",
     "output_type": "stream",
     "text": [
      "\t Loss: 36.649,\tTrain : 91.91%(91.91%),\tTest : 92.33%(92.33%),\tCurrent Time: 20250917-165538\n"
     ]
    },
    {
     "name": "stderr",
     "output_type": "stream",
     "text": [
      "Epoch 4/50:: 100%|\u001b[34m████████████████████\u001b[0m| 120/120 [00:06<00:00, 17.43batch/s, loss=0.264862]\u001b[0m\n"
     ]
    },
    {
     "name": "stdout",
     "output_type": "stream",
     "text": [
      "\t Loss: 31.783,\tTrain : 93.12%(93.12%),\tTest : 92.97%(92.97%),\tCurrent Time: 20250917-165545\n"
     ]
    },
    {
     "name": "stderr",
     "output_type": "stream",
     "text": [
      "Epoch 5/50:: 100%|\u001b[34m████████████████████\u001b[0m| 120/120 [00:06<00:00, 17.49batch/s, loss=0.243914]\u001b[0m\n"
     ]
    },
    {
     "name": "stdout",
     "output_type": "stream",
     "text": [
      "\t Loss: 29.270,\tTrain : 93.86%(93.86%),\tTest : 92.80%(92.97%),\tCurrent Time: 20250917-165553\n"
     ]
    },
    {
     "name": "stderr",
     "output_type": "stream",
     "text": [
      "Epoch 6/50:: 100%|\u001b[34m████████████████████\u001b[0m| 120/120 [00:06<00:00, 17.46batch/s, loss=0.217960]\u001b[0m\n"
     ]
    },
    {
     "name": "stdout",
     "output_type": "stream",
     "text": [
      "\t Loss: 26.155,\tTrain : 94.53%(94.53%),\tTest : 93.61%(93.61%),\tCurrent Time: 20250917-165600\n"
     ]
    },
    {
     "name": "stderr",
     "output_type": "stream",
     "text": [
      "Epoch 7/50:: 100%|\u001b[34m████████████████████\u001b[0m| 120/120 [00:06<00:00, 17.45batch/s, loss=0.200885]\u001b[0m\n"
     ]
    },
    {
     "name": "stdout",
     "output_type": "stream",
     "text": [
      "\t Loss: 24.106,\tTrain : 95.09%(95.09%),\tTest : 94.51%(94.51%),\tCurrent Time: 20250917-165607\n"
     ]
    },
    {
     "name": "stderr",
     "output_type": "stream",
     "text": [
      "Epoch 8/50:: 100%|\u001b[34m████████████████████\u001b[0m| 120/120 [00:06<00:00, 17.47batch/s, loss=0.190712]\u001b[0m\n"
     ]
    },
    {
     "name": "stdout",
     "output_type": "stream",
     "text": [
      "\t Loss: 22.885,\tTrain : 95.41%(95.41%),\tTest : 94.56%(94.56%),\tCurrent Time: 20250917-165615\n"
     ]
    },
    {
     "name": "stderr",
     "output_type": "stream",
     "text": [
      "Epoch 9/50:: 100%|\u001b[34m████████████████████\u001b[0m| 120/120 [00:06<00:00, 17.44batch/s, loss=0.178774]\u001b[0m\n"
     ]
    },
    {
     "name": "stdout",
     "output_type": "stream",
     "text": [
      "\t Loss: 21.453,\tTrain : 95.77%(95.77%),\tTest : 94.64%(94.64%),\tCurrent Time: 20250917-165622\n"
     ]
    },
    {
     "name": "stderr",
     "output_type": "stream",
     "text": [
      "Epoch 10/50:: 100%|\u001b[34m███████████████████\u001b[0m| 120/120 [00:06<00:00, 17.42batch/s, loss=0.167599]\u001b[0m\n"
     ]
    },
    {
     "name": "stdout",
     "output_type": "stream",
     "text": [
      "\t Loss: 20.112,\tTrain : 96.06%(96.06%),\tTest : 94.85%(94.85%),\tCurrent Time: 20250917-165630\n"
     ]
    },
    {
     "name": "stderr",
     "output_type": "stream",
     "text": [
      "Epoch 11/50:: 100%|\u001b[34m███████████████████\u001b[0m| 120/120 [00:06<00:00, 17.46batch/s, loss=0.160488]\u001b[0m\n"
     ]
    },
    {
     "name": "stdout",
     "output_type": "stream",
     "text": [
      "\t Loss: 19.259,\tTrain : 96.23%(96.23%),\tTest : 95.27%(95.27%),\tCurrent Time: 20250917-165637\n"
     ]
    },
    {
     "name": "stderr",
     "output_type": "stream",
     "text": [
      "Epoch 12/50:: 100%|\u001b[34m███████████████████\u001b[0m| 120/120 [00:06<00:00, 17.48batch/s, loss=0.147527]\u001b[0m\n"
     ]
    },
    {
     "name": "stdout",
     "output_type": "stream",
     "text": [
      "\t Loss: 17.703,\tTrain : 96.58%(96.58%),\tTest : 95.10%(95.27%),\tCurrent Time: 20250917-165644\n"
     ]
    },
    {
     "name": "stderr",
     "output_type": "stream",
     "text": [
      "Epoch 13/50:: 100%|\u001b[34m███████████████████\u001b[0m| 120/120 [00:06<00:00, 17.41batch/s, loss=0.146353]\u001b[0m\n"
     ]
    },
    {
     "name": "stdout",
     "output_type": "stream",
     "text": [
      "\t Loss: 17.562,\tTrain : 96.69%(96.69%),\tTest : 95.30%(95.30%),\tCurrent Time: 20250917-165652\n"
     ]
    },
    {
     "name": "stderr",
     "output_type": "stream",
     "text": [
      "Epoch 14/50:: 100%|\u001b[34m███████████████████\u001b[0m| 120/120 [00:06<00:00, 17.49batch/s, loss=0.131706]\u001b[0m\n"
     ]
    },
    {
     "name": "stdout",
     "output_type": "stream",
     "text": [
      "\t Loss: 15.805,\tTrain : 96.92%(96.92%),\tTest : 95.50%(95.50%),\tCurrent Time: 20250917-165659\n"
     ]
    },
    {
     "name": "stderr",
     "output_type": "stream",
     "text": [
      "Epoch 15/50:: 100%|\u001b[34m███████████████████\u001b[0m| 120/120 [00:06<00:00, 17.43batch/s, loss=0.130657]\u001b[0m\n"
     ]
    },
    {
     "name": "stdout",
     "output_type": "stream",
     "text": [
      "\t Loss: 15.679,\tTrain : 97.05%(97.05%),\tTest : 95.47%(95.50%),\tCurrent Time: 20250917-165707\n"
     ]
    },
    {
     "name": "stderr",
     "output_type": "stream",
     "text": [
      "Epoch 16/50:: 100%|\u001b[34m███████████████████\u001b[0m| 120/120 [00:06<00:00, 17.42batch/s, loss=0.127690]\u001b[0m\n"
     ]
    },
    {
     "name": "stdout",
     "output_type": "stream",
     "text": [
      "\t Loss: 15.323,\tTrain : 97.12%(97.12%),\tTest : 95.75%(95.75%),\tCurrent Time: 20250917-165714\n"
     ]
    },
    {
     "name": "stderr",
     "output_type": "stream",
     "text": [
      "Epoch 17/50:: 100%|\u001b[34m███████████████████\u001b[0m| 120/120 [00:06<00:00, 17.50batch/s, loss=0.125088]\u001b[0m\n"
     ]
    },
    {
     "name": "stdout",
     "output_type": "stream",
     "text": [
      "\t Loss: 15.011,\tTrain : 97.23%(97.23%),\tTest : 95.44%(95.75%),\tCurrent Time: 20250917-165721\n"
     ]
    },
    {
     "name": "stderr",
     "output_type": "stream",
     "text": [
      "Epoch 18/50:: 100%|\u001b[34m███████████████████\u001b[0m| 120/120 [00:06<00:00, 17.42batch/s, loss=0.119489]\u001b[0m\n"
     ]
    },
    {
     "name": "stdout",
     "output_type": "stream",
     "text": [
      "\t Loss: 14.339,\tTrain : 97.35%(97.35%),\tTest : 95.65%(95.75%),\tCurrent Time: 20250917-165729\n"
     ]
    },
    {
     "name": "stderr",
     "output_type": "stream",
     "text": [
      "Epoch 19/50:: 100%|\u001b[34m███████████████████\u001b[0m| 120/120 [00:06<00:00, 17.47batch/s, loss=0.116805]\u001b[0m\n"
     ]
    },
    {
     "name": "stdout",
     "output_type": "stream",
     "text": [
      "\t Loss: 14.017,\tTrain : 97.52%(97.52%),\tTest : 95.51%(95.75%),\tCurrent Time: 20250917-165736\n"
     ]
    },
    {
     "name": "stderr",
     "output_type": "stream",
     "text": [
      "Epoch 20/50:: 100%|\u001b[34m███████████████████\u001b[0m| 120/120 [00:06<00:00, 17.43batch/s, loss=0.114500]\u001b[0m\n"
     ]
    },
    {
     "name": "stdout",
     "output_type": "stream",
     "text": [
      "\t Loss: 13.740,\tTrain : 97.59%(97.59%),\tTest : 95.89%(95.89%),\tCurrent Time: 20250917-165744\n"
     ]
    },
    {
     "name": "stderr",
     "output_type": "stream",
     "text": [
      "Epoch 21/50:: 100%|\u001b[34m███████████████████\u001b[0m| 120/120 [00:06<00:00, 17.43batch/s, loss=0.111486]\u001b[0m\n"
     ]
    },
    {
     "name": "stdout",
     "output_type": "stream",
     "text": [
      "\t Loss: 13.378,\tTrain : 97.64%(97.64%),\tTest : 95.36%(95.89%),\tCurrent Time: 20250917-165751\n"
     ]
    },
    {
     "name": "stderr",
     "output_type": "stream",
     "text": [
      "Epoch 22/50:: 100%|\u001b[34m███████████████████\u001b[0m| 120/120 [00:06<00:00, 17.45batch/s, loss=0.107216]\u001b[0m\n"
     ]
    },
    {
     "name": "stdout",
     "output_type": "stream",
     "text": [
      "\t Loss: 12.866,\tTrain : 97.76%(97.76%),\tTest : 95.90%(95.90%),\tCurrent Time: 20250917-165758\n"
     ]
    },
    {
     "name": "stderr",
     "output_type": "stream",
     "text": [
      "Epoch 23/50:: 100%|\u001b[34m███████████████████\u001b[0m| 120/120 [00:06<00:00, 17.42batch/s, loss=0.097257]\u001b[0m\n"
     ]
    },
    {
     "name": "stdout",
     "output_type": "stream",
     "text": [
      "\t Loss: 11.671,\tTrain : 97.98%(97.98%),\tTest : 96.16%(96.16%),\tCurrent Time: 20250917-165806\n"
     ]
    },
    {
     "name": "stderr",
     "output_type": "stream",
     "text": [
      "Epoch 24/50:: 100%|\u001b[34m███████████████████\u001b[0m| 120/120 [00:06<00:00, 17.41batch/s, loss=0.097555]\u001b[0m\n"
     ]
    },
    {
     "name": "stdout",
     "output_type": "stream",
     "text": [
      "\t Loss: 11.707,\tTrain : 97.97%(97.98%),\tTest : 96.04%(96.16%),\tCurrent Time: 20250917-165813\n"
     ]
    },
    {
     "name": "stderr",
     "output_type": "stream",
     "text": [
      "Epoch 25/50:: 100%|\u001b[34m███████████████████\u001b[0m| 120/120 [00:06<00:00, 17.44batch/s, loss=0.094469]\u001b[0m\n"
     ]
    },
    {
     "name": "stdout",
     "output_type": "stream",
     "text": [
      "\t Loss: 11.336,\tTrain : 98.02%(98.02%),\tTest : 95.60%(96.16%),\tCurrent Time: 20250917-165821\n"
     ]
    },
    {
     "name": "stderr",
     "output_type": "stream",
     "text": [
      "Epoch 26/50:: 100%|\u001b[34m███████████████████\u001b[0m| 120/120 [00:06<00:00, 17.44batch/s, loss=0.106575]\u001b[0m\n"
     ]
    },
    {
     "name": "stdout",
     "output_type": "stream",
     "text": [
      "\t Loss: 12.789,\tTrain : 97.90%(98.02%),\tTest : 95.97%(96.16%),\tCurrent Time: 20250917-165828\n"
     ]
    },
    {
     "name": "stderr",
     "output_type": "stream",
     "text": [
      "Epoch 27/50:: 100%|\u001b[34m███████████████████\u001b[0m| 120/120 [00:06<00:00, 17.46batch/s, loss=0.094224]\u001b[0m\n"
     ]
    },
    {
     "name": "stdout",
     "output_type": "stream",
     "text": [
      "\t Loss: 11.307,\tTrain : 98.12%(98.12%),\tTest : 95.99%(96.16%),\tCurrent Time: 20250917-165835\n"
     ]
    },
    {
     "name": "stderr",
     "output_type": "stream",
     "text": [
      "Epoch 28/50:: 100%|\u001b[34m███████████████████\u001b[0m| 120/120 [00:06<00:00, 17.42batch/s, loss=0.088568]\u001b[0m\n"
     ]
    },
    {
     "name": "stdout",
     "output_type": "stream",
     "text": [
      "\t Loss: 10.628,\tTrain : 98.29%(98.29%),\tTest : 95.99%(96.16%),\tCurrent Time: 20250917-165843\n"
     ]
    },
    {
     "name": "stderr",
     "output_type": "stream",
     "text": [
      "Epoch 29/50:: 100%|\u001b[34m███████████████████\u001b[0m| 120/120 [00:06<00:00, 17.49batch/s, loss=0.095028]\u001b[0m\n"
     ]
    },
    {
     "name": "stdout",
     "output_type": "stream",
     "text": [
      "\t Loss: 11.403,\tTrain : 98.17%(98.29%),\tTest : 95.94%(96.16%),\tCurrent Time: 20250917-165850\n"
     ]
    },
    {
     "name": "stderr",
     "output_type": "stream",
     "text": [
      "Epoch 30/50:: 100%|\u001b[34m███████████████████\u001b[0m| 120/120 [00:06<00:00, 17.45batch/s, loss=0.090023]\u001b[0m\n"
     ]
    },
    {
     "name": "stdout",
     "output_type": "stream",
     "text": [
      "\t Loss: 10.803,\tTrain : 98.25%(98.29%),\tTest : 95.96%(96.16%),\tCurrent Time: 20250917-165858\n"
     ]
    },
    {
     "name": "stderr",
     "output_type": "stream",
     "text": [
      "Epoch 31/50:: 100%|\u001b[34m███████████████████\u001b[0m| 120/120 [00:06<00:00, 17.48batch/s, loss=0.087895]\u001b[0m\n"
     ]
    },
    {
     "name": "stdout",
     "output_type": "stream",
     "text": [
      "\t Loss: 10.547,\tTrain : 98.36%(98.36%),\tTest : 96.14%(96.16%),\tCurrent Time: 20250917-165905\n"
     ]
    },
    {
     "name": "stderr",
     "output_type": "stream",
     "text": [
      "Epoch 32/50:: 100%|\u001b[34m███████████████████\u001b[0m| 120/120 [00:06<00:00, 17.51batch/s, loss=0.080783]\u001b[0m\n"
     ]
    },
    {
     "name": "stdout",
     "output_type": "stream",
     "text": [
      "\t Loss: 9.694,\tTrain : 98.50%(98.50%),\tTest : 95.97%(96.16%),\tCurrent Time: 20250917-165912\n"
     ]
    },
    {
     "name": "stderr",
     "output_type": "stream",
     "text": [
      "Epoch 33/50:: 100%|\u001b[34m███████████████████\u001b[0m| 120/120 [00:06<00:00, 17.47batch/s, loss=0.084024]\u001b[0m\n"
     ]
    },
    {
     "name": "stdout",
     "output_type": "stream",
     "text": [
      "\t Loss: 10.083,\tTrain : 98.44%(98.50%),\tTest : 95.86%(96.16%),\tCurrent Time: 20250917-165920\n"
     ]
    },
    {
     "name": "stderr",
     "output_type": "stream",
     "text": [
      "Epoch 34/50:: 100%|\u001b[34m███████████████████\u001b[0m| 120/120 [00:06<00:00, 17.46batch/s, loss=0.087130]\u001b[0m\n"
     ]
    },
    {
     "name": "stdout",
     "output_type": "stream",
     "text": [
      "\t Loss: 10.456,\tTrain : 98.42%(98.50%),\tTest : 95.98%(96.16%),\tCurrent Time: 20250917-165927\n"
     ]
    },
    {
     "name": "stderr",
     "output_type": "stream",
     "text": [
      "Epoch 35/50:: 100%|\u001b[34m███████████████████\u001b[0m| 120/120 [00:06<00:00, 17.46batch/s, loss=0.079656]\u001b[0m\n"
     ]
    },
    {
     "name": "stdout",
     "output_type": "stream",
     "text": [
      "\t Loss: 9.559,\tTrain : 98.60%(98.60%),\tTest : 95.92%(96.16%),\tCurrent Time: 20250917-165935\n"
     ]
    },
    {
     "name": "stderr",
     "output_type": "stream",
     "text": [
      "Epoch 36/50:: 100%|\u001b[34m███████████████████\u001b[0m| 120/120 [00:06<00:00, 17.45batch/s, loss=0.082419]\u001b[0m\n"
     ]
    },
    {
     "name": "stdout",
     "output_type": "stream",
     "text": [
      "\t Loss: 9.890,\tTrain : 98.51%(98.60%),\tTest : 95.96%(96.16%),\tCurrent Time: 20250917-165942\n"
     ]
    },
    {
     "name": "stderr",
     "output_type": "stream",
     "text": [
      "Epoch 37/50:: 100%|\u001b[34m███████████████████\u001b[0m| 120/120 [00:06<00:00, 17.40batch/s, loss=0.072745]\u001b[0m\n"
     ]
    },
    {
     "name": "stdout",
     "output_type": "stream",
     "text": [
      "\t Loss: 8.729,\tTrain : 98.66%(98.66%),\tTest : 95.92%(96.16%),\tCurrent Time: 20250917-165949\n"
     ]
    },
    {
     "name": "stderr",
     "output_type": "stream",
     "text": [
      "Epoch 38/50:: 100%|\u001b[34m███████████████████\u001b[0m| 120/120 [00:06<00:00, 17.47batch/s, loss=0.076867]\u001b[0m\n"
     ]
    },
    {
     "name": "stdout",
     "output_type": "stream",
     "text": [
      "\t Loss: 9.224,\tTrain : 98.64%(98.66%),\tTest : 96.02%(96.16%),\tCurrent Time: 20250917-165957\n"
     ]
    },
    {
     "name": "stderr",
     "output_type": "stream",
     "text": [
      "Epoch 39/50:: 100%|\u001b[34m███████████████████\u001b[0m| 120/120 [00:06<00:00, 17.50batch/s, loss=0.083810]\u001b[0m\n"
     ]
    },
    {
     "name": "stdout",
     "output_type": "stream",
     "text": [
      "\t Loss: 10.057,\tTrain : 98.53%(98.66%),\tTest : 96.08%(96.16%),\tCurrent Time: 20250917-170004\n"
     ]
    },
    {
     "name": "stderr",
     "output_type": "stream",
     "text": [
      "Epoch 40/50:: 100%|\u001b[34m███████████████████\u001b[0m| 120/120 [00:06<00:00, 17.48batch/s, loss=0.076931]\u001b[0m\n"
     ]
    },
    {
     "name": "stdout",
     "output_type": "stream",
     "text": [
      "\t Loss: 9.232,\tTrain : 98.65%(98.66%),\tTest : 95.98%(96.16%),\tCurrent Time: 20250917-170012\n"
     ]
    },
    {
     "name": "stderr",
     "output_type": "stream",
     "text": [
      "Epoch 41/50:: 100%|\u001b[34m███████████████████\u001b[0m| 120/120 [00:06<00:00, 17.48batch/s, loss=0.068945]\u001b[0m\n"
     ]
    },
    {
     "name": "stdout",
     "output_type": "stream",
     "text": [
      "\t Loss: 8.273,\tTrain : 98.78%(98.78%),\tTest : 95.83%(96.16%),\tCurrent Time: 20250917-170019\n"
     ]
    },
    {
     "name": "stderr",
     "output_type": "stream",
     "text": [
      "Epoch 42/50:: 100%|\u001b[34m███████████████████\u001b[0m| 120/120 [00:06<00:00, 17.46batch/s, loss=0.884947]\u001b[0m\n"
     ]
    },
    {
     "name": "stdout",
     "output_type": "stream",
     "text": [
      "\t Loss: 106.194,\tTrain : 82.34%(98.78%),\tTest : 82.73%(96.16%),\tCurrent Time: 20250917-170026\n"
     ]
    },
    {
     "name": "stderr",
     "output_type": "stream",
     "text": [
      "Epoch 43/50:: 100%|\u001b[34m███████████████████\u001b[0m| 120/120 [00:06<00:00, 17.46batch/s, loss=0.628455]\u001b[0m\n"
     ]
    },
    {
     "name": "stdout",
     "output_type": "stream",
     "text": [
      "\t Loss: 75.415,\tTrain : 87.43%(98.78%),\tTest : 90.56%(96.16%),\tCurrent Time: 20250917-170034\n"
     ]
    },
    {
     "name": "stderr",
     "output_type": "stream",
     "text": [
      "Epoch 44/50:: 100%|\u001b[34m███████████████████\u001b[0m| 120/120 [00:06<00:00, 17.48batch/s, loss=0.462242]\u001b[0m\n"
     ]
    },
    {
     "name": "stdout",
     "output_type": "stream",
     "text": [
      "\t Loss: 55.469,\tTrain : 90.82%(98.78%),\tTest : 90.97%(96.16%),\tCurrent Time: 20250917-170041\n"
     ]
    },
    {
     "name": "stderr",
     "output_type": "stream",
     "text": [
      "Epoch 45/50:: 100%|\u001b[34m███████████████████\u001b[0m| 120/120 [00:06<00:00, 17.45batch/s, loss=0.426505]\u001b[0m\n"
     ]
    },
    {
     "name": "stdout",
     "output_type": "stream",
     "text": [
      "\t Loss: 51.181,\tTrain : 91.72%(98.78%),\tTest : 92.15%(96.16%),\tCurrent Time: 20250917-170049\n"
     ]
    },
    {
     "name": "stderr",
     "output_type": "stream",
     "text": [
      "Epoch 46/50:: 100%|\u001b[34m███████████████████\u001b[0m| 120/120 [00:06<00:00, 17.45batch/s, loss=0.370528]\u001b[0m\n"
     ]
    },
    {
     "name": "stdout",
     "output_type": "stream",
     "text": [
      "\t Loss: 44.463,\tTrain : 92.93%(98.78%),\tTest : 92.32%(96.16%),\tCurrent Time: 20250917-170056\n"
     ]
    },
    {
     "name": "stderr",
     "output_type": "stream",
     "text": [
      "Epoch 47/50:: 100%|\u001b[34m███████████████████\u001b[0m| 120/120 [00:06<00:00, 17.48batch/s, loss=0.360244]\u001b[0m\n"
     ]
    },
    {
     "name": "stdout",
     "output_type": "stream",
     "text": [
      "\t Loss: 43.229,\tTrain : 93.30%(98.78%),\tTest : 93.16%(96.16%),\tCurrent Time: 20250917-170103\n"
     ]
    },
    {
     "name": "stderr",
     "output_type": "stream",
     "text": [
      "Epoch 48/50:: 100%|\u001b[34m███████████████████\u001b[0m| 120/120 [00:06<00:00, 17.46batch/s, loss=0.356211]\u001b[0m\n"
     ]
    },
    {
     "name": "stdout",
     "output_type": "stream",
     "text": [
      "\t Loss: 42.745,\tTrain : 93.48%(98.78%),\tTest : 93.26%(96.16%),\tCurrent Time: 20250917-170111\n"
     ]
    },
    {
     "name": "stderr",
     "output_type": "stream",
     "text": [
      "Epoch 49/50:: 100%|\u001b[34m███████████████████\u001b[0m| 120/120 [00:06<00:00, 17.49batch/s, loss=0.398245]\u001b[0m\n"
     ]
    },
    {
     "name": "stdout",
     "output_type": "stream",
     "text": [
      "\t Loss: 47.789,\tTrain : 92.47%(98.78%),\tTest : 92.23%(96.16%),\tCurrent Time: 20250917-170118\n"
     ]
    },
    {
     "name": "stderr",
     "output_type": "stream",
     "text": [
      "Epoch 50/50:: 100%|\u001b[34m███████████████████\u001b[0m| 120/120 [00:06<00:00, 17.46batch/s, loss=0.357710]\u001b[0m\n"
     ]
    },
    {
     "name": "stdout",
     "output_type": "stream",
     "text": [
      "\t Loss: 42.925,\tTrain : 93.65%(98.78%),\tTest : 93.91%(96.16%),\tCurrent Time: 20250917-170125\n",
      "First_symm_N-HL_Res-EP_L20--MNIST_EP_b_sc0.1- Time: 20250917-170125, Epochs: 50, Learning Rate: 0.001, Best: 98.78%  96.16%\n",
      "\n",
      "[[0 1 0 0 0 0 0 0 0 0 0 0 0 0 0 0 0 0 0 0 0 0]\n",
      " [0 0 1 0 1 0 0 0 0 0 0 0 0 0 0 0 0 0 0 0 0 0]\n",
      " [0 1 0 1 0 0 0 0 0 0 0 0 0 0 0 0 0 0 0 0 0 0]\n",
      " [0 0 1 0 1 0 0 0 0 0 0 0 0 0 0 0 0 0 0 0 0 0]\n",
      " [0 1 0 1 0 1 0 1 0 0 0 0 0 0 0 0 0 0 0 0 0 0]\n",
      " [0 0 0 0 1 0 1 0 0 0 0 0 0 0 0 0 0 0 0 0 0 0]\n",
      " [0 0 0 0 0 1 0 1 0 0 0 0 0 0 0 0 0 0 0 0 0 0]\n",
      " [0 0 0 0 1 0 1 0 1 0 1 0 0 0 0 0 0 0 0 0 0 0]\n",
      " [0 0 0 0 0 0 0 1 0 1 0 0 0 0 0 0 0 0 0 0 0 0]\n",
      " [0 0 0 0 0 0 0 0 1 0 1 0 0 0 0 0 0 0 0 0 0 0]\n",
      " [0 0 0 0 0 0 0 1 0 1 0 1 0 1 0 0 0 0 0 0 0 0]\n",
      " [0 0 0 0 0 0 0 0 0 0 1 0 1 0 0 0 0 0 0 0 0 0]\n",
      " [0 0 0 0 0 0 0 0 0 0 0 1 0 1 0 0 0 0 0 0 0 0]\n",
      " [0 0 0 0 0 0 0 0 0 0 1 0 1 0 1 0 1 0 0 0 0 0]\n",
      " [0 0 0 0 0 0 0 0 0 0 0 0 0 1 0 1 0 0 0 0 0 0]\n",
      " [0 0 0 0 0 0 0 0 0 0 0 0 0 0 1 0 1 0 0 0 0 0]\n",
      " [0 0 0 0 0 0 0 0 0 0 0 0 0 1 0 1 0 1 0 1 0 0]\n",
      " [0 0 0 0 0 0 0 0 0 0 0 0 0 0 0 0 1 0 1 0 0 0]\n",
      " [0 0 0 0 0 0 0 0 0 0 0 0 0 0 0 0 0 1 0 1 0 0]\n",
      " [0 0 0 0 0 0 0 0 0 0 0 0 0 0 0 0 1 0 1 0 1 0]\n",
      " [0 0 0 0 0 0 0 0 0 0 0 0 0 0 0 0 0 0 0 1 0 1]\n",
      " [0 0 0 0 0 0 0 0 0 0 0 0 0 0 0 0 0 0 0 0 1 0]]\n",
      "First_symm_N-HL_Res-EP_L20--MNIST_EP_b_sc0.1-\n"
     ]
    },
    {
     "name": "stderr",
     "output_type": "stream",
     "text": [
      "Epoch 1/50:: 100%|\u001b[34m████████████████████\u001b[0m| 120/120 [00:07<00:00, 17.03batch/s, loss=0.980550]\u001b[0m\n"
     ]
    },
    {
     "name": "stdout",
     "output_type": "stream",
     "text": [
      "\t Loss: 117.666,\tTrain : 69.59%(69.59%),\tTest : 86.49%(86.49%),\tCurrent Time: 20250917-170137\n"
     ]
    },
    {
     "name": "stderr",
     "output_type": "stream",
     "text": [
      "Epoch 2/50:: 100%|\u001b[34m████████████████████\u001b[0m| 120/120 [00:06<00:00, 17.44batch/s, loss=0.437416]\u001b[0m\n"
     ]
    },
    {
     "name": "stdout",
     "output_type": "stream",
     "text": [
      "\t Loss: 52.490,\tTrain : 87.97%(87.97%),\tTest : 90.57%(90.57%),\tCurrent Time: 20250917-170145\n"
     ]
    },
    {
     "name": "stderr",
     "output_type": "stream",
     "text": [
      "Epoch 3/50:: 100%|\u001b[34m████████████████████\u001b[0m| 120/120 [00:06<00:00, 17.46batch/s, loss=0.334400]\u001b[0m\n"
     ]
    },
    {
     "name": "stdout",
     "output_type": "stream",
     "text": [
      "\t Loss: 40.128,\tTrain : 91.14%(91.14%),\tTest : 92.22%(92.22%),\tCurrent Time: 20250917-170152\n"
     ]
    },
    {
     "name": "stderr",
     "output_type": "stream",
     "text": [
      "Epoch 4/50:: 100%|\u001b[34m████████████████████\u001b[0m| 120/120 [00:06<00:00, 17.42batch/s, loss=0.278626]\u001b[0m\n"
     ]
    },
    {
     "name": "stdout",
     "output_type": "stream",
     "text": [
      "\t Loss: 33.435,\tTrain : 92.72%(92.72%),\tTest : 92.59%(92.59%),\tCurrent Time: 20250917-170200\n"
     ]
    },
    {
     "name": "stderr",
     "output_type": "stream",
     "text": [
      "Epoch 5/50:: 100%|\u001b[34m████████████████████\u001b[0m| 120/120 [00:06<00:00, 17.46batch/s, loss=0.247810]\u001b[0m\n"
     ]
    },
    {
     "name": "stdout",
     "output_type": "stream",
     "text": [
      "\t Loss: 29.737,\tTrain : 93.68%(93.68%),\tTest : 93.41%(93.41%),\tCurrent Time: 20250917-170207\n"
     ]
    },
    {
     "name": "stderr",
     "output_type": "stream",
     "text": [
      "Epoch 6/50:: 100%|\u001b[34m████████████████████\u001b[0m| 120/120 [00:06<00:00, 17.42batch/s, loss=0.230861]\u001b[0m\n"
     ]
    },
    {
     "name": "stdout",
     "output_type": "stream",
     "text": [
      "\t Loss: 27.703,\tTrain : 94.19%(94.19%),\tTest : 93.98%(93.98%),\tCurrent Time: 20250917-170214\n"
     ]
    },
    {
     "name": "stderr",
     "output_type": "stream",
     "text": [
      "Epoch 7/50:: 100%|\u001b[34m████████████████████\u001b[0m| 120/120 [00:06<00:00, 17.46batch/s, loss=0.215748]\u001b[0m\n"
     ]
    },
    {
     "name": "stdout",
     "output_type": "stream",
     "text": [
      "\t Loss: 25.890,\tTrain : 94.66%(94.66%),\tTest : 94.31%(94.31%),\tCurrent Time: 20250917-170222\n"
     ]
    },
    {
     "name": "stderr",
     "output_type": "stream",
     "text": [
      "Epoch 8/50:: 100%|\u001b[34m████████████████████\u001b[0m| 120/120 [00:06<00:00, 17.41batch/s, loss=0.196335]\u001b[0m\n"
     ]
    },
    {
     "name": "stdout",
     "output_type": "stream",
     "text": [
      "\t Loss: 23.560,\tTrain : 95.13%(95.13%),\tTest : 94.66%(94.66%),\tCurrent Time: 20250917-170229\n"
     ]
    },
    {
     "name": "stderr",
     "output_type": "stream",
     "text": [
      "Epoch 9/50:: 100%|\u001b[34m████████████████████\u001b[0m| 120/120 [00:06<00:00, 17.46batch/s, loss=0.185993]\u001b[0m\n"
     ]
    },
    {
     "name": "stdout",
     "output_type": "stream",
     "text": [
      "\t Loss: 22.319,\tTrain : 95.58%(95.58%),\tTest : 94.75%(94.75%),\tCurrent Time: 20250917-170237\n"
     ]
    },
    {
     "name": "stderr",
     "output_type": "stream",
     "text": [
      "Epoch 10/50:: 100%|\u001b[34m███████████████████\u001b[0m| 120/120 [00:06<00:00, 17.40batch/s, loss=0.179348]\u001b[0m\n"
     ]
    },
    {
     "name": "stdout",
     "output_type": "stream",
     "text": [
      "\t Loss: 21.522,\tTrain : 95.72%(95.72%),\tTest : 94.92%(94.92%),\tCurrent Time: 20250917-170244\n"
     ]
    },
    {
     "name": "stderr",
     "output_type": "stream",
     "text": [
      "Epoch 11/50:: 100%|\u001b[34m███████████████████\u001b[0m| 120/120 [00:06<00:00, 17.44batch/s, loss=0.171599]\u001b[0m\n"
     ]
    },
    {
     "name": "stdout",
     "output_type": "stream",
     "text": [
      "\t Loss: 20.592,\tTrain : 95.96%(95.96%),\tTest : 94.81%(94.92%),\tCurrent Time: 20250917-170251\n"
     ]
    },
    {
     "name": "stderr",
     "output_type": "stream",
     "text": [
      "Epoch 12/50:: 100%|\u001b[34m███████████████████\u001b[0m| 120/120 [00:06<00:00, 17.48batch/s, loss=0.163459]\u001b[0m\n"
     ]
    },
    {
     "name": "stdout",
     "output_type": "stream",
     "text": [
      "\t Loss: 19.615,\tTrain : 96.26%(96.26%),\tTest : 95.18%(95.18%),\tCurrent Time: 20250917-170259\n"
     ]
    },
    {
     "name": "stderr",
     "output_type": "stream",
     "text": [
      "Epoch 13/50:: 100%|\u001b[34m███████████████████\u001b[0m| 120/120 [00:06<00:00, 17.46batch/s, loss=0.164837]\u001b[0m\n"
     ]
    },
    {
     "name": "stdout",
     "output_type": "stream",
     "text": [
      "\t Loss: 19.780,\tTrain : 96.43%(96.43%),\tTest : 95.00%(95.18%),\tCurrent Time: 20250917-170306\n"
     ]
    },
    {
     "name": "stderr",
     "output_type": "stream",
     "text": [
      "Epoch 14/50:: 100%|\u001b[34m███████████████████\u001b[0m| 120/120 [00:06<00:00, 17.41batch/s, loss=0.163209]\u001b[0m\n"
     ]
    },
    {
     "name": "stdout",
     "output_type": "stream",
     "text": [
      "\t Loss: 19.585,\tTrain : 96.58%(96.58%),\tTest : 95.19%(95.19%),\tCurrent Time: 20250917-170314\n"
     ]
    },
    {
     "name": "stderr",
     "output_type": "stream",
     "text": [
      "Epoch 15/50:: 100%|\u001b[34m███████████████████\u001b[0m| 120/120 [00:06<00:00, 17.43batch/s, loss=0.159816]\u001b[0m\n"
     ]
    },
    {
     "name": "stdout",
     "output_type": "stream",
     "text": [
      "\t Loss: 19.178,\tTrain : 96.73%(96.73%),\tTest : 95.36%(95.36%),\tCurrent Time: 20250917-170321\n"
     ]
    },
    {
     "name": "stderr",
     "output_type": "stream",
     "text": [
      "Epoch 16/50:: 100%|\u001b[34m███████████████████\u001b[0m| 120/120 [00:06<00:00, 17.41batch/s, loss=0.153233]\u001b[0m\n"
     ]
    },
    {
     "name": "stdout",
     "output_type": "stream",
     "text": [
      "\t Loss: 18.388,\tTrain : 96.93%(96.93%),\tTest : 95.22%(95.36%),\tCurrent Time: 20250917-170328\n"
     ]
    },
    {
     "name": "stderr",
     "output_type": "stream",
     "text": [
      "Epoch 17/50:: 100%|\u001b[34m███████████████████\u001b[0m| 120/120 [00:06<00:00, 17.46batch/s, loss=0.157695]\u001b[0m\n"
     ]
    },
    {
     "name": "stdout",
     "output_type": "stream",
     "text": [
      "\t Loss: 18.923,\tTrain : 96.83%(96.93%),\tTest : 95.26%(95.36%),\tCurrent Time: 20250917-170336\n"
     ]
    },
    {
     "name": "stderr",
     "output_type": "stream",
     "text": [
      "Epoch 18/50:: 100%|\u001b[34m███████████████████\u001b[0m| 120/120 [00:06<00:00, 17.37batch/s, loss=0.148461]\u001b[0m\n"
     ]
    },
    {
     "name": "stdout",
     "output_type": "stream",
     "text": [
      "\t Loss: 17.815,\tTrain : 97.14%(97.14%),\tTest : 95.36%(95.36%),\tCurrent Time: 20250917-170343\n"
     ]
    },
    {
     "name": "stderr",
     "output_type": "stream",
     "text": [
      "Epoch 19/50:: 100%|\u001b[34m███████████████████\u001b[0m| 120/120 [00:06<00:00, 17.42batch/s, loss=0.145350]\u001b[0m\n"
     ]
    },
    {
     "name": "stdout",
     "output_type": "stream",
     "text": [
      "\t Loss: 17.442,\tTrain : 97.24%(97.24%),\tTest : 95.47%(95.47%),\tCurrent Time: 20250917-170351\n"
     ]
    },
    {
     "name": "stderr",
     "output_type": "stream",
     "text": [
      "Epoch 20/50:: 100%|\u001b[34m███████████████████\u001b[0m| 120/120 [00:06<00:00, 17.45batch/s, loss=0.146092]\u001b[0m\n"
     ]
    },
    {
     "name": "stdout",
     "output_type": "stream",
     "text": [
      "\t Loss: 17.531,\tTrain : 97.16%(97.24%),\tTest : 95.41%(95.47%),\tCurrent Time: 20250917-170358\n"
     ]
    },
    {
     "name": "stderr",
     "output_type": "stream",
     "text": [
      "Epoch 21/50:: 100%|\u001b[34m███████████████████\u001b[0m| 120/120 [00:06<00:00, 17.43batch/s, loss=0.135547]\u001b[0m\n"
     ]
    },
    {
     "name": "stdout",
     "output_type": "stream",
     "text": [
      "\t Loss: 16.266,\tTrain : 97.40%(97.40%),\tTest : 95.80%(95.80%),\tCurrent Time: 20250917-170405\n"
     ]
    },
    {
     "name": "stderr",
     "output_type": "stream",
     "text": [
      "Epoch 22/50:: 100%|\u001b[34m███████████████████\u001b[0m| 120/120 [00:06<00:00, 17.45batch/s, loss=0.135935]\u001b[0m\n"
     ]
    },
    {
     "name": "stdout",
     "output_type": "stream",
     "text": [
      "\t Loss: 16.312,\tTrain : 97.45%(97.45%),\tTest : 95.29%(95.80%),\tCurrent Time: 20250917-170413\n"
     ]
    },
    {
     "name": "stderr",
     "output_type": "stream",
     "text": [
      "Epoch 23/50:: 100%|\u001b[34m███████████████████\u001b[0m| 120/120 [00:06<00:00, 17.45batch/s, loss=0.139414]\u001b[0m\n"
     ]
    },
    {
     "name": "stdout",
     "output_type": "stream",
     "text": [
      "\t Loss: 16.730,\tTrain : 97.37%(97.45%),\tTest : 95.44%(95.80%),\tCurrent Time: 20250917-170420\n"
     ]
    },
    {
     "name": "stderr",
     "output_type": "stream",
     "text": [
      "Epoch 24/50:: 100%|\u001b[34m███████████████████\u001b[0m| 120/120 [00:06<00:00, 17.41batch/s, loss=0.135225]\u001b[0m\n"
     ]
    },
    {
     "name": "stdout",
     "output_type": "stream",
     "text": [
      "\t Loss: 16.227,\tTrain : 97.56%(97.56%),\tTest : 95.64%(95.80%),\tCurrent Time: 20250917-170428\n"
     ]
    },
    {
     "name": "stderr",
     "output_type": "stream",
     "text": [
      "Epoch 25/50:: 100%|\u001b[34m███████████████████\u001b[0m| 120/120 [00:06<00:00, 17.43batch/s, loss=0.133375]\u001b[0m\n"
     ]
    },
    {
     "name": "stdout",
     "output_type": "stream",
     "text": [
      "\t Loss: 16.005,\tTrain : 97.60%(97.60%),\tTest : 95.52%(95.80%),\tCurrent Time: 20250917-170435\n"
     ]
    },
    {
     "name": "stderr",
     "output_type": "stream",
     "text": [
      "Epoch 26/50:: 100%|\u001b[34m███████████████████\u001b[0m| 120/120 [00:06<00:00, 17.38batch/s, loss=0.135584]\u001b[0m\n"
     ]
    },
    {
     "name": "stdout",
     "output_type": "stream",
     "text": [
      "\t Loss: 16.270,\tTrain : 97.51%(97.60%),\tTest : 95.53%(95.80%),\tCurrent Time: 20250917-170443\n"
     ]
    },
    {
     "name": "stderr",
     "output_type": "stream",
     "text": [
      "Epoch 27/50:: 100%|\u001b[34m███████████████████\u001b[0m| 120/120 [00:06<00:00, 17.47batch/s, loss=0.133081]\u001b[0m\n"
     ]
    },
    {
     "name": "stdout",
     "output_type": "stream",
     "text": [
      "\t Loss: 15.970,\tTrain : 97.58%(97.60%),\tTest : 95.62%(95.80%),\tCurrent Time: 20250917-170450\n"
     ]
    },
    {
     "name": "stderr",
     "output_type": "stream",
     "text": [
      "Epoch 28/50:: 100%|\u001b[34m███████████████████\u001b[0m| 120/120 [00:06<00:00, 17.41batch/s, loss=0.131423]\u001b[0m\n"
     ]
    },
    {
     "name": "stdout",
     "output_type": "stream",
     "text": [
      "\t Loss: 15.771,\tTrain : 97.64%(97.64%),\tTest : 95.66%(95.80%),\tCurrent Time: 20250917-170457\n"
     ]
    },
    {
     "name": "stderr",
     "output_type": "stream",
     "text": [
      "Epoch 29/50:: 100%|\u001b[34m███████████████████\u001b[0m| 120/120 [00:06<00:00, 17.43batch/s, loss=0.128331]\u001b[0m\n"
     ]
    },
    {
     "name": "stdout",
     "output_type": "stream",
     "text": [
      "\t Loss: 15.400,\tTrain : 97.78%(97.78%),\tTest : 95.94%(95.94%),\tCurrent Time: 20250917-170505\n"
     ]
    },
    {
     "name": "stderr",
     "output_type": "stream",
     "text": [
      "Epoch 30/50:: 100%|\u001b[34m███████████████████\u001b[0m| 120/120 [00:06<00:00, 17.45batch/s, loss=0.123945]\u001b[0m\n"
     ]
    },
    {
     "name": "stdout",
     "output_type": "stream",
     "text": [
      "\t Loss: 14.873,\tTrain : 97.80%(97.80%),\tTest : 95.70%(95.94%),\tCurrent Time: 20250917-170512\n"
     ]
    },
    {
     "name": "stderr",
     "output_type": "stream",
     "text": [
      "Epoch 31/50:: 100%|\u001b[34m███████████████████\u001b[0m| 120/120 [00:06<00:00, 17.43batch/s, loss=0.124344]\u001b[0m\n"
     ]
    },
    {
     "name": "stdout",
     "output_type": "stream",
     "text": [
      "\t Loss: 14.921,\tTrain : 97.87%(97.87%),\tTest : 95.74%(95.94%),\tCurrent Time: 20250917-170520\n"
     ]
    },
    {
     "name": "stderr",
     "output_type": "stream",
     "text": [
      "Epoch 32/50:: 100%|\u001b[34m███████████████████\u001b[0m| 120/120 [00:06<00:00, 17.48batch/s, loss=0.136221]\u001b[0m\n"
     ]
    },
    {
     "name": "stdout",
     "output_type": "stream",
     "text": [
      "\t Loss: 16.346,\tTrain : 97.70%(97.87%),\tTest : 95.53%(95.94%),\tCurrent Time: 20250917-170527\n"
     ]
    },
    {
     "name": "stderr",
     "output_type": "stream",
     "text": [
      "Epoch 33/50:: 100%|\u001b[34m███████████████████\u001b[0m| 120/120 [00:06<00:00, 17.44batch/s, loss=0.127542]\u001b[0m\n"
     ]
    },
    {
     "name": "stdout",
     "output_type": "stream",
     "text": [
      "\t Loss: 15.305,\tTrain : 97.84%(97.87%),\tTest : 95.70%(95.94%),\tCurrent Time: 20250917-170534\n"
     ]
    },
    {
     "name": "stderr",
     "output_type": "stream",
     "text": [
      "Epoch 34/50:: 100%|\u001b[34m███████████████████\u001b[0m| 120/120 [00:06<00:00, 17.41batch/s, loss=0.124349]\u001b[0m\n"
     ]
    },
    {
     "name": "stdout",
     "output_type": "stream",
     "text": [
      "\t Loss: 14.922,\tTrain : 97.86%(97.87%),\tTest : 95.75%(95.94%),\tCurrent Time: 20250917-170542\n"
     ]
    },
    {
     "name": "stderr",
     "output_type": "stream",
     "text": [
      "Epoch 35/50:: 100%|\u001b[34m███████████████████\u001b[0m| 120/120 [00:06<00:00, 17.47batch/s, loss=0.126744]\u001b[0m\n"
     ]
    },
    {
     "name": "stdout",
     "output_type": "stream",
     "text": [
      "\t Loss: 15.209,\tTrain : 97.83%(97.87%),\tTest : 95.45%(95.94%),\tCurrent Time: 20250917-170549\n"
     ]
    },
    {
     "name": "stderr",
     "output_type": "stream",
     "text": [
      "Epoch 36/50:: 100%|\u001b[34m███████████████████\u001b[0m| 120/120 [00:06<00:00, 17.42batch/s, loss=0.128308]\u001b[0m\n"
     ]
    },
    {
     "name": "stdout",
     "output_type": "stream",
     "text": [
      "\t Loss: 15.397,\tTrain : 97.87%(97.87%),\tTest : 95.87%(95.94%),\tCurrent Time: 20250917-170557\n"
     ]
    },
    {
     "name": "stderr",
     "output_type": "stream",
     "text": [
      "Epoch 37/50:: 100%|\u001b[34m███████████████████\u001b[0m| 120/120 [00:06<00:00, 17.45batch/s, loss=0.124436]\u001b[0m\n"
     ]
    },
    {
     "name": "stdout",
     "output_type": "stream",
     "text": [
      "\t Loss: 14.932,\tTrain : 97.88%(97.88%),\tTest : 95.45%(95.94%),\tCurrent Time: 20250917-170604\n"
     ]
    },
    {
     "name": "stderr",
     "output_type": "stream",
     "text": [
      "Epoch 38/50:: 100%|\u001b[34m███████████████████\u001b[0m| 120/120 [00:06<00:00, 17.41batch/s, loss=0.136737]\u001b[0m\n"
     ]
    },
    {
     "name": "stdout",
     "output_type": "stream",
     "text": [
      "\t Loss: 16.408,\tTrain : 97.79%(97.88%),\tTest : 95.71%(95.94%),\tCurrent Time: 20250917-170611\n"
     ]
    },
    {
     "name": "stderr",
     "output_type": "stream",
     "text": [
      "Epoch 39/50:: 100%|\u001b[34m███████████████████\u001b[0m| 120/120 [00:06<00:00, 17.44batch/s, loss=0.124763]\u001b[0m\n"
     ]
    },
    {
     "name": "stdout",
     "output_type": "stream",
     "text": [
      "\t Loss: 14.972,\tTrain : 97.96%(97.96%),\tTest : 95.75%(95.94%),\tCurrent Time: 20250917-170619\n"
     ]
    },
    {
     "name": "stderr",
     "output_type": "stream",
     "text": [
      "Epoch 40/50:: 100%|\u001b[34m███████████████████\u001b[0m| 120/120 [00:06<00:00, 17.48batch/s, loss=0.127742]\u001b[0m\n"
     ]
    },
    {
     "name": "stdout",
     "output_type": "stream",
     "text": [
      "\t Loss: 15.329,\tTrain : 97.86%(97.96%),\tTest : 95.70%(95.94%),\tCurrent Time: 20250917-170626\n"
     ]
    },
    {
     "name": "stderr",
     "output_type": "stream",
     "text": [
      "Epoch 41/50:: 100%|\u001b[34m███████████████████\u001b[0m| 120/120 [00:06<00:00, 17.43batch/s, loss=0.137723]\u001b[0m\n"
     ]
    },
    {
     "name": "stdout",
     "output_type": "stream",
     "text": [
      "\t Loss: 16.527,\tTrain : 97.71%(97.96%),\tTest : 95.83%(95.94%),\tCurrent Time: 20250917-170634\n"
     ]
    },
    {
     "name": "stderr",
     "output_type": "stream",
     "text": [
      "Epoch 42/50:: 100%|\u001b[34m███████████████████\u001b[0m| 120/120 [00:06<00:00, 17.45batch/s, loss=0.121909]\u001b[0m\n"
     ]
    },
    {
     "name": "stdout",
     "output_type": "stream",
     "text": [
      "\t Loss: 14.629,\tTrain : 98.01%(98.01%),\tTest : 95.63%(95.94%),\tCurrent Time: 20250917-170641\n"
     ]
    },
    {
     "name": "stderr",
     "output_type": "stream",
     "text": [
      "Epoch 43/50:: 100%|\u001b[34m███████████████████\u001b[0m| 120/120 [00:06<00:00, 17.43batch/s, loss=0.127845]\u001b[0m\n"
     ]
    },
    {
     "name": "stdout",
     "output_type": "stream",
     "text": [
      "\t Loss: 15.341,\tTrain : 97.91%(98.01%),\tTest : 95.81%(95.94%),\tCurrent Time: 20250917-170648\n"
     ]
    },
    {
     "name": "stderr",
     "output_type": "stream",
     "text": [
      "Epoch 44/50:: 100%|\u001b[34m███████████████████\u001b[0m| 120/120 [00:06<00:00, 17.43batch/s, loss=0.122255]\u001b[0m\n"
     ]
    },
    {
     "name": "stdout",
     "output_type": "stream",
     "text": [
      "\t Loss: 14.671,\tTrain : 97.99%(98.01%),\tTest : 95.70%(95.94%),\tCurrent Time: 20250917-170656\n"
     ]
    },
    {
     "name": "stderr",
     "output_type": "stream",
     "text": [
      "Epoch 45/50:: 100%|\u001b[34m███████████████████\u001b[0m| 120/120 [00:06<00:00, 17.46batch/s, loss=0.128835]\u001b[0m\n"
     ]
    },
    {
     "name": "stdout",
     "output_type": "stream",
     "text": [
      "\t Loss: 15.460,\tTrain : 97.89%(98.01%),\tTest : 95.65%(95.94%),\tCurrent Time: 20250917-170703\n"
     ]
    },
    {
     "name": "stderr",
     "output_type": "stream",
     "text": [
      "Epoch 46/50:: 100%|\u001b[34m███████████████████\u001b[0m| 120/120 [00:06<00:00, 17.43batch/s, loss=0.131038]\u001b[0m\n"
     ]
    },
    {
     "name": "stdout",
     "output_type": "stream",
     "text": [
      "\t Loss: 15.725,\tTrain : 97.85%(98.01%),\tTest : 95.64%(95.94%),\tCurrent Time: 20250917-170711\n"
     ]
    },
    {
     "name": "stderr",
     "output_type": "stream",
     "text": [
      "Epoch 47/50:: 100%|\u001b[34m███████████████████\u001b[0m| 120/120 [00:06<00:00, 17.47batch/s, loss=0.156431]\u001b[0m\n"
     ]
    },
    {
     "name": "stdout",
     "output_type": "stream",
     "text": [
      "\t Loss: 18.772,\tTrain : 97.58%(98.01%),\tTest : 95.63%(95.94%),\tCurrent Time: 20250917-170718\n"
     ]
    },
    {
     "name": "stderr",
     "output_type": "stream",
     "text": [
      "Epoch 48/50:: 100%|\u001b[34m███████████████████\u001b[0m| 120/120 [00:06<00:00, 17.43batch/s, loss=0.149848]\u001b[0m\n"
     ]
    },
    {
     "name": "stdout",
     "output_type": "stream",
     "text": [
      "\t Loss: 17.982,\tTrain : 97.72%(98.01%),\tTest : 95.64%(95.94%),\tCurrent Time: 20250917-170725\n"
     ]
    },
    {
     "name": "stderr",
     "output_type": "stream",
     "text": [
      "Epoch 49/50:: 100%|\u001b[34m███████████████████\u001b[0m| 120/120 [00:06<00:00, 17.41batch/s, loss=0.133247]\u001b[0m\n"
     ]
    },
    {
     "name": "stdout",
     "output_type": "stream",
     "text": [
      "\t Loss: 15.990,\tTrain : 97.82%(98.01%),\tTest : 95.64%(95.94%),\tCurrent Time: 20250917-170733\n"
     ]
    },
    {
     "name": "stderr",
     "output_type": "stream",
     "text": [
      "Epoch 50/50:: 100%|\u001b[34m███████████████████\u001b[0m| 120/120 [00:06<00:00, 17.40batch/s, loss=0.131548]\u001b[0m\n"
     ]
    },
    {
     "name": "stdout",
     "output_type": "stream",
     "text": [
      "\t Loss: 15.786,\tTrain : 97.92%(98.01%),\tTest : 95.95%(95.95%),\tCurrent Time: 20250917-170740\n",
      "First_symm_N-HL_Res-EP_L20--MNIST_EP_b_sc0.1- Time: 20250917-170740, Epochs: 50, Learning Rate: 0.001, Best: 98.01%  95.95%\n",
      "\n",
      "[[0 1 0 0 0 0 0 0 0 0 0 0 0 0 0 0 0 0 0 0 0 0]\n",
      " [0 0 1 0 1 0 0 0 0 0 0 0 0 0 0 0 0 0 0 0 0 0]\n",
      " [0 1 0 1 0 0 0 0 0 0 0 0 0 0 0 0 0 0 0 0 0 0]\n",
      " [0 0 1 0 1 0 0 0 0 0 0 0 0 0 0 0 0 0 0 0 0 0]\n",
      " [0 1 0 1 0 1 0 1 0 0 0 0 0 0 0 0 0 0 0 0 0 0]\n",
      " [0 0 0 0 1 0 1 0 0 0 0 0 0 0 0 0 0 0 0 0 0 0]\n",
      " [0 0 0 0 0 1 0 1 0 0 0 0 0 0 0 0 0 0 0 0 0 0]\n",
      " [0 0 0 0 1 0 1 0 1 0 1 0 0 0 0 0 0 0 0 0 0 0]\n",
      " [0 0 0 0 0 0 0 1 0 1 0 0 0 0 0 0 0 0 0 0 0 0]\n",
      " [0 0 0 0 0 0 0 0 1 0 1 0 0 0 0 0 0 0 0 0 0 0]\n",
      " [0 0 0 0 0 0 0 1 0 1 0 1 0 1 0 0 0 0 0 0 0 0]\n",
      " [0 0 0 0 0 0 0 0 0 0 1 0 1 0 0 0 0 0 0 0 0 0]\n",
      " [0 0 0 0 0 0 0 0 0 0 0 1 0 1 0 0 0 0 0 0 0 0]\n",
      " [0 0 0 0 0 0 0 0 0 0 1 0 1 0 1 0 1 0 0 0 0 0]\n",
      " [0 0 0 0 0 0 0 0 0 0 0 0 0 1 0 1 0 0 0 0 0 0]\n",
      " [0 0 0 0 0 0 0 0 0 0 0 0 0 0 1 0 1 0 0 0 0 0]\n",
      " [0 0 0 0 0 0 0 0 0 0 0 0 0 1 0 1 0 1 0 1 0 0]\n",
      " [0 0 0 0 0 0 0 0 0 0 0 0 0 0 0 0 1 0 1 0 0 0]\n",
      " [0 0 0 0 0 0 0 0 0 0 0 0 0 0 0 0 0 1 0 1 0 0]\n",
      " [0 0 0 0 0 0 0 0 0 0 0 0 0 0 0 0 1 0 1 0 1 0]\n",
      " [0 0 0 0 0 0 0 0 0 0 0 0 0 0 0 0 0 0 0 1 0 1]\n",
      " [0 0 0 0 0 0 0 0 0 0 0 0 0 0 0 0 0 0 0 0 1 0]]\n",
      "First_symm_N-HL_Res-EP_L20--MNIST_EP_b_sc0.1-\n"
     ]
    },
    {
     "name": "stderr",
     "output_type": "stream",
     "text": [
      "Epoch 1/50:: 100%|\u001b[34m████████████████████\u001b[0m| 120/120 [00:07<00:00, 16.82batch/s, loss=1.067032]\u001b[0m\n"
     ]
    },
    {
     "name": "stdout",
     "output_type": "stream",
     "text": [
      "\t Loss: 128.044,\tTrain : 66.44%(66.44%),\tTest : 87.84%(87.84%),\tCurrent Time: 20250917-170752\n"
     ]
    },
    {
     "name": "stderr",
     "output_type": "stream",
     "text": [
      "Epoch 2/50:: 100%|\u001b[34m████████████████████\u001b[0m| 120/120 [00:06<00:00, 17.47batch/s, loss=0.383863]\u001b[0m\n"
     ]
    },
    {
     "name": "stdout",
     "output_type": "stream",
     "text": [
      "\t Loss: 46.064,\tTrain : 89.23%(89.23%),\tTest : 91.65%(91.65%),\tCurrent Time: 20250917-170800\n"
     ]
    },
    {
     "name": "stderr",
     "output_type": "stream",
     "text": [
      "Epoch 3/50:: 100%|\u001b[34m████████████████████\u001b[0m| 120/120 [00:06<00:00, 17.51batch/s, loss=0.294463]\u001b[0m\n"
     ]
    },
    {
     "name": "stdout",
     "output_type": "stream",
     "text": [
      "\t Loss: 35.336,\tTrain : 92.11%(92.11%),\tTest : 92.97%(92.97%),\tCurrent Time: 20250917-170807\n"
     ]
    },
    {
     "name": "stderr",
     "output_type": "stream",
     "text": [
      "Epoch 4/50:: 100%|\u001b[34m████████████████████\u001b[0m| 120/120 [00:06<00:00, 17.50batch/s, loss=0.251156]\u001b[0m\n"
     ]
    },
    {
     "name": "stdout",
     "output_type": "stream",
     "text": [
      "\t Loss: 30.139,\tTrain : 93.43%(93.43%),\tTest : 93.47%(93.47%),\tCurrent Time: 20250917-170814\n"
     ]
    },
    {
     "name": "stderr",
     "output_type": "stream",
     "text": [
      "Epoch 5/50:: 100%|\u001b[34m████████████████████\u001b[0m| 120/120 [00:06<00:00, 17.46batch/s, loss=0.228906]\u001b[0m\n"
     ]
    },
    {
     "name": "stdout",
     "output_type": "stream",
     "text": [
      "\t Loss: 27.469,\tTrain : 94.12%(94.12%),\tTest : 93.66%(93.66%),\tCurrent Time: 20250917-170822\n"
     ]
    },
    {
     "name": "stderr",
     "output_type": "stream",
     "text": [
      "Epoch 6/50:: 100%|\u001b[34m████████████████████\u001b[0m| 120/120 [00:06<00:00, 17.46batch/s, loss=0.210009]\u001b[0m\n"
     ]
    },
    {
     "name": "stdout",
     "output_type": "stream",
     "text": [
      "\t Loss: 25.201,\tTrain : 94.71%(94.71%),\tTest : 94.27%(94.27%),\tCurrent Time: 20250917-170829\n"
     ]
    },
    {
     "name": "stderr",
     "output_type": "stream",
     "text": [
      "Epoch 7/50:: 100%|\u001b[34m████████████████████\u001b[0m| 120/120 [00:06<00:00, 17.50batch/s, loss=0.190970]\u001b[0m\n"
     ]
    },
    {
     "name": "stdout",
     "output_type": "stream",
     "text": [
      "\t Loss: 22.916,\tTrain : 95.22%(95.22%),\tTest : 94.87%(94.87%),\tCurrent Time: 20250917-170837\n"
     ]
    },
    {
     "name": "stderr",
     "output_type": "stream",
     "text": [
      "Epoch 8/50:: 100%|\u001b[34m████████████████████\u001b[0m| 120/120 [00:06<00:00, 17.49batch/s, loss=0.181469]\u001b[0m\n"
     ]
    },
    {
     "name": "stdout",
     "output_type": "stream",
     "text": [
      "\t Loss: 21.776,\tTrain : 95.55%(95.55%),\tTest : 94.58%(94.87%),\tCurrent Time: 20250917-170844\n"
     ]
    },
    {
     "name": "stderr",
     "output_type": "stream",
     "text": [
      "Epoch 9/50:: 100%|\u001b[34m████████████████████\u001b[0m| 120/120 [00:06<00:00, 17.48batch/s, loss=0.169936]\u001b[0m\n"
     ]
    },
    {
     "name": "stdout",
     "output_type": "stream",
     "text": [
      "\t Loss: 20.392,\tTrain : 95.90%(95.90%),\tTest : 94.28%(94.87%),\tCurrent Time: 20250917-170851\n"
     ]
    },
    {
     "name": "stderr",
     "output_type": "stream",
     "text": [
      "Epoch 10/50:: 100%|\u001b[34m███████████████████\u001b[0m| 120/120 [00:06<00:00, 17.45batch/s, loss=0.167176]\u001b[0m\n"
     ]
    },
    {
     "name": "stdout",
     "output_type": "stream",
     "text": [
      "\t Loss: 20.061,\tTrain : 95.98%(95.98%),\tTest : 94.67%(94.87%),\tCurrent Time: 20250917-170859\n"
     ]
    },
    {
     "name": "stderr",
     "output_type": "stream",
     "text": [
      "Epoch 11/50:: 100%|\u001b[34m███████████████████\u001b[0m| 120/120 [00:06<00:00, 17.45batch/s, loss=0.161391]\u001b[0m\n"
     ]
    },
    {
     "name": "stdout",
     "output_type": "stream",
     "text": [
      "\t Loss: 19.367,\tTrain : 96.14%(96.14%),\tTest : 94.89%(94.89%),\tCurrent Time: 20250917-170906\n"
     ]
    },
    {
     "name": "stderr",
     "output_type": "stream",
     "text": [
      "Epoch 12/50:: 100%|\u001b[34m███████████████████\u001b[0m| 120/120 [00:06<00:00, 17.46batch/s, loss=0.150561]\u001b[0m\n"
     ]
    },
    {
     "name": "stdout",
     "output_type": "stream",
     "text": [
      "\t Loss: 18.067,\tTrain : 96.47%(96.47%),\tTest : 95.29%(95.29%),\tCurrent Time: 20250917-170914\n"
     ]
    },
    {
     "name": "stderr",
     "output_type": "stream",
     "text": [
      "Epoch 13/50:: 100%|\u001b[34m███████████████████\u001b[0m| 120/120 [00:06<00:00, 17.43batch/s, loss=0.142020]\u001b[0m\n"
     ]
    },
    {
     "name": "stdout",
     "output_type": "stream",
     "text": [
      "\t Loss: 17.042,\tTrain : 96.67%(96.67%),\tTest : 95.29%(95.29%),\tCurrent Time: 20250917-170921\n"
     ]
    },
    {
     "name": "stderr",
     "output_type": "stream",
     "text": [
      "Epoch 14/50:: 100%|\u001b[34m███████████████████\u001b[0m| 120/120 [00:06<00:00, 17.46batch/s, loss=0.136048]\u001b[0m\n"
     ]
    },
    {
     "name": "stdout",
     "output_type": "stream",
     "text": [
      "\t Loss: 16.326,\tTrain : 96.81%(96.81%),\tTest : 95.44%(95.44%),\tCurrent Time: 20250917-170928\n"
     ]
    },
    {
     "name": "stderr",
     "output_type": "stream",
     "text": [
      "Epoch 15/50:: 100%|\u001b[34m███████████████████\u001b[0m| 120/120 [00:06<00:00, 17.46batch/s, loss=0.138418]\u001b[0m\n"
     ]
    },
    {
     "name": "stdout",
     "output_type": "stream",
     "text": [
      "\t Loss: 16.610,\tTrain : 96.86%(96.86%),\tTest : 95.41%(95.44%),\tCurrent Time: 20250917-170936\n"
     ]
    },
    {
     "name": "stderr",
     "output_type": "stream",
     "text": [
      "Epoch 16/50:: 100%|\u001b[34m███████████████████\u001b[0m| 120/120 [00:06<00:00, 17.44batch/s, loss=0.129228]\u001b[0m\n"
     ]
    },
    {
     "name": "stdout",
     "output_type": "stream",
     "text": [
      "\t Loss: 15.507,\tTrain : 97.02%(97.02%),\tTest : 95.67%(95.67%),\tCurrent Time: 20250917-170943\n"
     ]
    },
    {
     "name": "stderr",
     "output_type": "stream",
     "text": [
      "Epoch 17/50:: 100%|\u001b[34m███████████████████\u001b[0m| 120/120 [00:06<00:00, 17.49batch/s, loss=0.129322]\u001b[0m\n"
     ]
    },
    {
     "name": "stdout",
     "output_type": "stream",
     "text": [
      "\t Loss: 15.519,\tTrain : 97.20%(97.20%),\tTest : 95.67%(95.67%),\tCurrent Time: 20250917-170950\n"
     ]
    },
    {
     "name": "stderr",
     "output_type": "stream",
     "text": [
      "Epoch 18/50:: 100%|\u001b[34m███████████████████\u001b[0m| 120/120 [00:06<00:00, 17.47batch/s, loss=0.127944]\u001b[0m\n"
     ]
    },
    {
     "name": "stdout",
     "output_type": "stream",
     "text": [
      "\t Loss: 15.353,\tTrain : 97.24%(97.24%),\tTest : 95.57%(95.67%),\tCurrent Time: 20250917-170958\n"
     ]
    },
    {
     "name": "stderr",
     "output_type": "stream",
     "text": [
      "Epoch 19/50:: 100%|\u001b[34m███████████████████\u001b[0m| 120/120 [00:06<00:00, 17.45batch/s, loss=0.124400]\u001b[0m\n"
     ]
    },
    {
     "name": "stdout",
     "output_type": "stream",
     "text": [
      "\t Loss: 14.928,\tTrain : 97.38%(97.38%),\tTest : 95.54%(95.67%),\tCurrent Time: 20250917-171005\n"
     ]
    },
    {
     "name": "stderr",
     "output_type": "stream",
     "text": [
      "Epoch 20/50:: 100%|\u001b[34m███████████████████\u001b[0m| 120/120 [00:06<00:00, 17.45batch/s, loss=1.351435]\u001b[0m\n"
     ]
    },
    {
     "name": "stdout",
     "output_type": "stream",
     "text": [
      "\t Loss: 162.172,\tTrain : 61.23%(97.38%),\tTest : 7.79%(95.67%),\tCurrent Time: 20250917-171013\n"
     ]
    },
    {
     "name": "stderr",
     "output_type": "stream",
     "text": [
      "Epoch 21/50:: 100%|\u001b[34m███████████████████\u001b[0m| 120/120 [00:06<00:00, 17.45batch/s, loss=2.311100]\u001b[0m\n"
     ]
    },
    {
     "name": "stdout",
     "output_type": "stream",
     "text": [
      "\t Loss: 277.332,\tTrain : 21.60%(97.38%),\tTest : 37.74%(95.67%),\tCurrent Time: 20250917-171020\n"
     ]
    },
    {
     "name": "stderr",
     "output_type": "stream",
     "text": [
      "Epoch 22/50:: 100%|\u001b[34m███████████████████\u001b[0m| 120/120 [00:06<00:00, 17.51batch/s, loss=1.587193]\u001b[0m\n"
     ]
    },
    {
     "name": "stdout",
     "output_type": "stream",
     "text": [
      "\t Loss: 190.463,\tTrain : 50.26%(97.38%),\tTest : 60.07%(95.67%),\tCurrent Time: 20250917-171027\n"
     ]
    },
    {
     "name": "stderr",
     "output_type": "stream",
     "text": [
      "Epoch 23/50:: 100%|\u001b[34m███████████████████\u001b[0m| 120/120 [00:06<00:00, 17.43batch/s, loss=1.376990]\u001b[0m\n"
     ]
    },
    {
     "name": "stdout",
     "output_type": "stream",
     "text": [
      "\t Loss: 165.239,\tTrain : 61.13%(97.38%),\tTest : 68.15%(95.67%),\tCurrent Time: 20250917-171035\n"
     ]
    },
    {
     "name": "stderr",
     "output_type": "stream",
     "text": [
      "Epoch 24/50:: 100%|\u001b[34m███████████████████\u001b[0m| 120/120 [00:06<00:00, 17.48batch/s, loss=1.182543]\u001b[0m\n"
     ]
    },
    {
     "name": "stdout",
     "output_type": "stream",
     "text": [
      "\t Loss: 141.905,\tTrain : 67.77%(97.38%),\tTest : 70.32%(95.67%),\tCurrent Time: 20250917-171042\n"
     ]
    },
    {
     "name": "stderr",
     "output_type": "stream",
     "text": [
      "Epoch 25/50:: 100%|\u001b[34m███████████████████\u001b[0m| 120/120 [00:06<00:00, 17.47batch/s, loss=1.061725]\u001b[0m\n"
     ]
    },
    {
     "name": "stdout",
     "output_type": "stream",
     "text": [
      "\t Loss: 127.407,\tTrain : 72.40%(97.38%),\tTest : 75.03%(95.67%),\tCurrent Time: 20250917-171050\n"
     ]
    },
    {
     "name": "stderr",
     "output_type": "stream",
     "text": [
      "Epoch 26/50:: 100%|\u001b[34m███████████████████\u001b[0m| 120/120 [00:06<00:00, 17.46batch/s, loss=0.974758]\u001b[0m\n"
     ]
    },
    {
     "name": "stdout",
     "output_type": "stream",
     "text": [
      "\t Loss: 116.971,\tTrain : 75.69%(97.38%),\tTest : 76.56%(95.67%),\tCurrent Time: 20250917-171057\n"
     ]
    },
    {
     "name": "stderr",
     "output_type": "stream",
     "text": [
      "Epoch 27/50:: 100%|\u001b[34m███████████████████\u001b[0m| 120/120 [00:06<00:00, 17.50batch/s, loss=0.901119]\u001b[0m\n"
     ]
    },
    {
     "name": "stdout",
     "output_type": "stream",
     "text": [
      "\t Loss: 108.134,\tTrain : 77.89%(97.38%),\tTest : 79.36%(95.67%),\tCurrent Time: 20250917-171104\n"
     ]
    },
    {
     "name": "stderr",
     "output_type": "stream",
     "text": [
      "Epoch 28/50:: 100%|\u001b[34m███████████████████\u001b[0m| 120/120 [00:06<00:00, 17.46batch/s, loss=0.842652]\u001b[0m\n"
     ]
    },
    {
     "name": "stdout",
     "output_type": "stream",
     "text": [
      "\t Loss: 101.118,\tTrain : 79.65%(97.38%),\tTest : 79.88%(95.67%),\tCurrent Time: 20250917-171112\n"
     ]
    },
    {
     "name": "stderr",
     "output_type": "stream",
     "text": [
      "Epoch 29/50:: 100%|\u001b[34m███████████████████\u001b[0m| 120/120 [00:06<00:00, 17.44batch/s, loss=0.824581]\u001b[0m\n"
     ]
    },
    {
     "name": "stdout",
     "output_type": "stream",
     "text": [
      "\t Loss: 98.950,\tTrain : 80.39%(97.38%),\tTest : 81.20%(95.67%),\tCurrent Time: 20250917-171119\n"
     ]
    },
    {
     "name": "stderr",
     "output_type": "stream",
     "text": [
      "Epoch 30/50:: 100%|\u001b[34m███████████████████\u001b[0m| 120/120 [00:06<00:00, 17.47batch/s, loss=0.789943]\u001b[0m\n"
     ]
    },
    {
     "name": "stdout",
     "output_type": "stream",
     "text": [
      "\t Loss: 94.793,\tTrain : 81.75%(97.38%),\tTest : 83.69%(95.67%),\tCurrent Time: 20250917-171127\n"
     ]
    },
    {
     "name": "stderr",
     "output_type": "stream",
     "text": [
      "Epoch 31/50:: 100%|\u001b[34m███████████████████\u001b[0m| 120/120 [00:06<00:00, 17.46batch/s, loss=0.703201]\u001b[0m\n"
     ]
    },
    {
     "name": "stdout",
     "output_type": "stream",
     "text": [
      "\t Loss: 84.384,\tTrain : 83.69%(97.38%),\tTest : 84.54%(95.67%),\tCurrent Time: 20250917-171134\n"
     ]
    },
    {
     "name": "stderr",
     "output_type": "stream",
     "text": [
      "Epoch 32/50:: 100%|\u001b[34m███████████████████\u001b[0m| 120/120 [00:06<00:00, 17.45batch/s, loss=0.676386]\u001b[0m\n"
     ]
    },
    {
     "name": "stdout",
     "output_type": "stream",
     "text": [
      "\t Loss: 81.166,\tTrain : 84.41%(97.38%),\tTest : 85.10%(95.67%),\tCurrent Time: 20250917-171141\n"
     ]
    },
    {
     "name": "stderr",
     "output_type": "stream",
     "text": [
      "Epoch 33/50:: 100%|\u001b[34m███████████████████\u001b[0m| 120/120 [00:06<00:00, 17.36batch/s, loss=0.737445]\u001b[0m\n"
     ]
    },
    {
     "name": "stdout",
     "output_type": "stream",
     "text": [
      "\t Loss: 88.493,\tTrain : 83.44%(97.38%),\tTest : 82.70%(95.67%),\tCurrent Time: 20250917-171149\n"
     ]
    },
    {
     "name": "stderr",
     "output_type": "stream",
     "text": [
      "Epoch 34/50:: 100%|\u001b[34m███████████████████\u001b[0m| 120/120 [00:06<00:00, 17.43batch/s, loss=0.662800]\u001b[0m\n"
     ]
    },
    {
     "name": "stdout",
     "output_type": "stream",
     "text": [
      "\t Loss: 79.536,\tTrain : 85.31%(97.38%),\tTest : 86.49%(95.67%),\tCurrent Time: 20250917-171156\n"
     ]
    },
    {
     "name": "stderr",
     "output_type": "stream",
     "text": [
      "Epoch 35/50:: 100%|\u001b[34m███████████████████\u001b[0m| 120/120 [00:06<00:00, 17.31batch/s, loss=0.639015]\u001b[0m\n"
     ]
    },
    {
     "name": "stdout",
     "output_type": "stream",
     "text": [
      "\t Loss: 76.682,\tTrain : 85.75%(97.38%),\tTest : 87.44%(95.67%),\tCurrent Time: 20250917-171204\n"
     ]
    },
    {
     "name": "stderr",
     "output_type": "stream",
     "text": [
      "Epoch 36/50:: 100%|\u001b[34m███████████████████\u001b[0m| 120/120 [00:06<00:00, 17.79batch/s, loss=0.622844]\u001b[0m\n"
     ]
    },
    {
     "name": "stdout",
     "output_type": "stream",
     "text": [
      "\t Loss: 74.741,\tTrain : 86.37%(97.38%),\tTest : 83.01%(95.67%),\tCurrent Time: 20250917-171211\n"
     ]
    },
    {
     "name": "stderr",
     "output_type": "stream",
     "text": [
      "Epoch 37/50:: 100%|\u001b[34m███████████████████\u001b[0m| 120/120 [00:06<00:00, 17.81batch/s, loss=0.603441]\u001b[0m\n"
     ]
    },
    {
     "name": "stdout",
     "output_type": "stream",
     "text": [
      "\t Loss: 72.413,\tTrain : 86.89%(97.38%),\tTest : 87.35%(95.67%),\tCurrent Time: 20250917-171218\n"
     ]
    },
    {
     "name": "stderr",
     "output_type": "stream",
     "text": [
      "Epoch 38/50:: 100%|\u001b[34m███████████████████\u001b[0m| 120/120 [00:06<00:00, 17.97batch/s, loss=0.574555]\u001b[0m\n"
     ]
    },
    {
     "name": "stdout",
     "output_type": "stream",
     "text": [
      "\t Loss: 68.947,\tTrain : 87.68%(97.38%),\tTest : 88.43%(95.67%),\tCurrent Time: 20250917-171225\n"
     ]
    },
    {
     "name": "stderr",
     "output_type": "stream",
     "text": [
      "Epoch 39/50:: 100%|\u001b[34m███████████████████\u001b[0m| 120/120 [00:06<00:00, 17.79batch/s, loss=0.529521]\u001b[0m\n"
     ]
    },
    {
     "name": "stdout",
     "output_type": "stream",
     "text": [
      "\t Loss: 63.543,\tTrain : 88.52%(97.38%),\tTest : 89.04%(95.67%),\tCurrent Time: 20250917-171233\n"
     ]
    },
    {
     "name": "stderr",
     "output_type": "stream",
     "text": [
      "Epoch 40/50:: 100%|\u001b[34m███████████████████\u001b[0m| 120/120 [00:06<00:00, 17.95batch/s, loss=0.524551]\u001b[0m\n"
     ]
    },
    {
     "name": "stdout",
     "output_type": "stream",
     "text": [
      "\t Loss: 62.946,\tTrain : 88.85%(97.38%),\tTest : 89.36%(95.67%),\tCurrent Time: 20250917-171240\n"
     ]
    },
    {
     "name": "stderr",
     "output_type": "stream",
     "text": [
      "Epoch 41/50:: 100%|\u001b[34m███████████████████\u001b[0m| 120/120 [00:06<00:00, 18.00batch/s, loss=0.505320]\u001b[0m\n"
     ]
    },
    {
     "name": "stdout",
     "output_type": "stream",
     "text": [
      "\t Loss: 60.638,\tTrain : 89.24%(97.38%),\tTest : 89.53%(95.67%),\tCurrent Time: 20250917-171247\n"
     ]
    },
    {
     "name": "stderr",
     "output_type": "stream",
     "text": [
      "Epoch 42/50:: 100%|\u001b[34m███████████████████\u001b[0m| 120/120 [00:06<00:00, 17.82batch/s, loss=0.493821]\u001b[0m\n"
     ]
    },
    {
     "name": "stdout",
     "output_type": "stream",
     "text": [
      "\t Loss: 59.259,\tTrain : 89.59%(97.38%),\tTest : 89.29%(95.67%),\tCurrent Time: 20250917-171254\n"
     ]
    },
    {
     "name": "stderr",
     "output_type": "stream",
     "text": [
      "Epoch 43/50:: 100%|\u001b[34m███████████████████\u001b[0m| 120/120 [00:06<00:00, 17.26batch/s, loss=0.562480]\u001b[0m\n"
     ]
    },
    {
     "name": "stdout",
     "output_type": "stream",
     "text": [
      "\t Loss: 67.498,\tTrain : 88.55%(97.38%),\tTest : 88.23%(95.67%),\tCurrent Time: 20250917-171302\n"
     ]
    },
    {
     "name": "stderr",
     "output_type": "stream",
     "text": [
      "Epoch 44/50:: 100%|\u001b[34m███████████████████\u001b[0m| 120/120 [00:06<00:00, 17.34batch/s, loss=0.505015]\u001b[0m\n"
     ]
    },
    {
     "name": "stdout",
     "output_type": "stream",
     "text": [
      "\t Loss: 60.602,\tTrain : 89.67%(97.38%),\tTest : 89.63%(95.67%),\tCurrent Time: 20250917-171309\n"
     ]
    },
    {
     "name": "stderr",
     "output_type": "stream",
     "text": [
      "Epoch 45/50:: 100%|\u001b[34m███████████████████\u001b[0m| 120/120 [00:06<00:00, 17.39batch/s, loss=0.517003]\u001b[0m\n"
     ]
    },
    {
     "name": "stdout",
     "output_type": "stream",
     "text": [
      "\t Loss: 62.040,\tTrain : 89.49%(97.38%),\tTest : 90.17%(95.67%),\tCurrent Time: 20250917-171317\n"
     ]
    },
    {
     "name": "stderr",
     "output_type": "stream",
     "text": [
      "Epoch 46/50:: 100%|\u001b[34m███████████████████\u001b[0m| 120/120 [00:06<00:00, 17.43batch/s, loss=0.550306]\u001b[0m\n"
     ]
    },
    {
     "name": "stdout",
     "output_type": "stream",
     "text": [
      "\t Loss: 66.037,\tTrain : 89.13%(97.38%),\tTest : 90.29%(95.67%),\tCurrent Time: 20250917-171324\n"
     ]
    },
    {
     "name": "stderr",
     "output_type": "stream",
     "text": [
      "Epoch 47/50:: 100%|\u001b[34m███████████████████\u001b[0m| 120/120 [00:06<00:00, 17.40batch/s, loss=0.513139]\u001b[0m\n"
     ]
    },
    {
     "name": "stdout",
     "output_type": "stream",
     "text": [
      "\t Loss: 61.577,\tTrain : 89.87%(97.38%),\tTest : 89.24%(95.67%),\tCurrent Time: 20250917-171331\n"
     ]
    },
    {
     "name": "stderr",
     "output_type": "stream",
     "text": [
      "Epoch 48/50:: 100%|\u001b[34m███████████████████\u001b[0m| 120/120 [00:06<00:00, 17.41batch/s, loss=0.525389]\u001b[0m\n"
     ]
    },
    {
     "name": "stdout",
     "output_type": "stream",
     "text": [
      "\t Loss: 63.047,\tTrain : 89.50%(97.38%),\tTest : 87.19%(95.67%),\tCurrent Time: 20250917-171339\n"
     ]
    },
    {
     "name": "stderr",
     "output_type": "stream",
     "text": [
      "Epoch 49/50:: 100%|\u001b[34m███████████████████\u001b[0m| 120/120 [00:06<00:00, 17.39batch/s, loss=0.498220]\u001b[0m\n"
     ]
    },
    {
     "name": "stdout",
     "output_type": "stream",
     "text": [
      "\t Loss: 59.786,\tTrain : 90.24%(97.38%),\tTest : 87.97%(95.67%),\tCurrent Time: 20250917-171346\n"
     ]
    },
    {
     "name": "stderr",
     "output_type": "stream",
     "text": [
      "Epoch 50/50:: 100%|\u001b[34m███████████████████\u001b[0m| 120/120 [00:06<00:00, 17.42batch/s, loss=0.517866]\u001b[0m\n"
     ]
    },
    {
     "name": "stdout",
     "output_type": "stream",
     "text": [
      "\t Loss: 62.144,\tTrain : 89.90%(97.38%),\tTest : 89.49%(95.67%),\tCurrent Time: 20250917-171354\n",
      "First_symm_N-HL_Res-EP_L20--MNIST_EP_b_sc0.1- Time: 20250917-171354, Epochs: 50, Learning Rate: 0.001, Best: 97.38%  95.67%\n",
      "\n",
      "[[0 1 0 0 0 0 0 0 0 0 0 0 0 0 0 0 0 0 0 0 0 0]\n",
      " [0 0 1 0 1 0 0 0 0 0 0 0 0 0 0 0 0 0 0 0 0 0]\n",
      " [0 1 0 1 0 0 0 0 0 0 0 0 0 0 0 0 0 0 0 0 0 0]\n",
      " [0 0 1 0 1 0 0 0 0 0 0 0 0 0 0 0 0 0 0 0 0 0]\n",
      " [0 1 0 1 0 1 0 1 0 0 0 0 0 0 0 0 0 0 0 0 0 0]\n",
      " [0 0 0 0 1 0 1 0 0 0 0 0 0 0 0 0 0 0 0 0 0 0]\n",
      " [0 0 0 0 0 1 0 1 0 0 0 0 0 0 0 0 0 0 0 0 0 0]\n",
      " [0 0 0 0 1 0 1 0 1 0 1 0 0 0 0 0 0 0 0 0 0 0]\n",
      " [0 0 0 0 0 0 0 1 0 1 0 0 0 0 0 0 0 0 0 0 0 0]\n",
      " [0 0 0 0 0 0 0 0 1 0 1 0 0 0 0 0 0 0 0 0 0 0]\n",
      " [0 0 0 0 0 0 0 1 0 1 0 1 0 1 0 0 0 0 0 0 0 0]\n",
      " [0 0 0 0 0 0 0 0 0 0 1 0 1 0 0 0 0 0 0 0 0 0]\n",
      " [0 0 0 0 0 0 0 0 0 0 0 1 0 1 0 0 0 0 0 0 0 0]\n",
      " [0 0 0 0 0 0 0 0 0 0 1 0 1 0 1 0 1 0 0 0 0 0]\n",
      " [0 0 0 0 0 0 0 0 0 0 0 0 0 1 0 1 0 0 0 0 0 0]\n",
      " [0 0 0 0 0 0 0 0 0 0 0 0 0 0 1 0 1 0 0 0 0 0]\n",
      " [0 0 0 0 0 0 0 0 0 0 0 0 0 1 0 1 0 1 0 1 0 0]\n",
      " [0 0 0 0 0 0 0 0 0 0 0 0 0 0 0 0 1 0 1 0 0 0]\n",
      " [0 0 0 0 0 0 0 0 0 0 0 0 0 0 0 0 0 1 0 1 0 0]\n",
      " [0 0 0 0 0 0 0 0 0 0 0 0 0 0 0 0 1 0 1 0 1 0]\n",
      " [0 0 0 0 0 0 0 0 0 0 0 0 0 0 0 0 0 0 0 1 0 1]\n",
      " [0 0 0 0 0 0 0 0 0 0 0 0 0 0 0 0 0 0 0 0 1 0]]\n",
      "First_symm_N-HL_Res-EP_L20--MNIST_EP_b_sc0.1-\n"
     ]
    },
    {
     "name": "stderr",
     "output_type": "stream",
     "text": [
      "Epoch 1/50:: 100%|\u001b[34m████████████████████\u001b[0m| 120/120 [00:07<00:00, 17.10batch/s, loss=0.979830]\u001b[0m\n"
     ]
    },
    {
     "name": "stdout",
     "output_type": "stream",
     "text": [
      "\t Loss: 117.580,\tTrain : 68.76%(68.76%),\tTest : 86.97%(86.97%),\tCurrent Time: 20250917-171406\n"
     ]
    },
    {
     "name": "stderr",
     "output_type": "stream",
     "text": [
      "Epoch 2/50:: 100%|\u001b[34m████████████████████\u001b[0m| 120/120 [00:06<00:00, 17.52batch/s, loss=0.410529]\u001b[0m\n"
     ]
    },
    {
     "name": "stdout",
     "output_type": "stream",
     "text": [
      "\t Loss: 49.264,\tTrain : 88.52%(88.52%),\tTest : 90.40%(90.40%),\tCurrent Time: 20250917-171413\n"
     ]
    },
    {
     "name": "stderr",
     "output_type": "stream",
     "text": [
      "Epoch 3/50:: 100%|\u001b[34m████████████████████\u001b[0m| 120/120 [00:06<00:00, 17.53batch/s, loss=0.313756]\u001b[0m\n"
     ]
    },
    {
     "name": "stdout",
     "output_type": "stream",
     "text": [
      "\t Loss: 37.651,\tTrain : 91.59%(91.59%),\tTest : 91.89%(91.89%),\tCurrent Time: 20250917-171420\n"
     ]
    },
    {
     "name": "stderr",
     "output_type": "stream",
     "text": [
      "Epoch 4/50:: 100%|\u001b[34m████████████████████\u001b[0m| 120/120 [00:06<00:00, 17.53batch/s, loss=0.274355]\u001b[0m\n"
     ]
    },
    {
     "name": "stdout",
     "output_type": "stream",
     "text": [
      "\t Loss: 32.923,\tTrain : 92.93%(92.93%),\tTest : 92.77%(92.77%),\tCurrent Time: 20250917-171428\n"
     ]
    },
    {
     "name": "stderr",
     "output_type": "stream",
     "text": [
      "Epoch 5/50:: 100%|\u001b[34m████████████████████\u001b[0m| 120/120 [00:06<00:00, 17.49batch/s, loss=0.240643]\u001b[0m\n"
     ]
    },
    {
     "name": "stdout",
     "output_type": "stream",
     "text": [
      "\t Loss: 28.877,\tTrain : 93.84%(93.84%),\tTest : 93.90%(93.90%),\tCurrent Time: 20250917-171435\n"
     ]
    },
    {
     "name": "stderr",
     "output_type": "stream",
     "text": [
      "Epoch 6/50:: 100%|\u001b[34m████████████████████\u001b[0m| 120/120 [00:06<00:00, 17.55batch/s, loss=0.216667]\u001b[0m\n"
     ]
    },
    {
     "name": "stdout",
     "output_type": "stream",
     "text": [
      "\t Loss: 26.000,\tTrain : 94.53%(94.53%),\tTest : 93.54%(93.90%),\tCurrent Time: 20250917-171442\n"
     ]
    },
    {
     "name": "stderr",
     "output_type": "stream",
     "text": [
      "Epoch 7/50:: 100%|\u001b[34m████████████████████\u001b[0m| 120/120 [00:06<00:00, 17.53batch/s, loss=0.214055]\u001b[0m\n"
     ]
    },
    {
     "name": "stdout",
     "output_type": "stream",
     "text": [
      "\t Loss: 25.687,\tTrain : 94.68%(94.68%),\tTest : 94.27%(94.27%),\tCurrent Time: 20250917-171450\n"
     ]
    },
    {
     "name": "stderr",
     "output_type": "stream",
     "text": [
      "Epoch 8/50:: 100%|\u001b[34m████████████████████\u001b[0m| 120/120 [00:06<00:00, 17.54batch/s, loss=0.197193]\u001b[0m\n"
     ]
    },
    {
     "name": "stdout",
     "output_type": "stream",
     "text": [
      "\t Loss: 23.663,\tTrain : 95.22%(95.22%),\tTest : 94.81%(94.81%),\tCurrent Time: 20250917-171457\n"
     ]
    },
    {
     "name": "stderr",
     "output_type": "stream",
     "text": [
      "Epoch 9/50:: 100%|\u001b[34m████████████████████\u001b[0m| 120/120 [00:06<00:00, 17.55batch/s, loss=0.184382]\u001b[0m\n"
     ]
    },
    {
     "name": "stdout",
     "output_type": "stream",
     "text": [
      "\t Loss: 22.126,\tTrain : 95.52%(95.52%),\tTest : 94.52%(94.81%),\tCurrent Time: 20250917-171504\n"
     ]
    },
    {
     "name": "stderr",
     "output_type": "stream",
     "text": [
      "Epoch 10/50:: 100%|\u001b[34m███████████████████\u001b[0m| 120/120 [00:06<00:00, 17.55batch/s, loss=0.175923]\u001b[0m\n"
     ]
    },
    {
     "name": "stdout",
     "output_type": "stream",
     "text": [
      "\t Loss: 21.111,\tTrain : 95.78%(95.78%),\tTest : 95.03%(95.03%),\tCurrent Time: 20250917-171512\n"
     ]
    },
    {
     "name": "stderr",
     "output_type": "stream",
     "text": [
      "Epoch 11/50:: 100%|\u001b[34m███████████████████\u001b[0m| 120/120 [00:06<00:00, 17.56batch/s, loss=0.166490]\u001b[0m\n"
     ]
    },
    {
     "name": "stdout",
     "output_type": "stream",
     "text": [
      "\t Loss: 19.979,\tTrain : 96.08%(96.08%),\tTest : 94.78%(95.03%),\tCurrent Time: 20250917-171519\n"
     ]
    },
    {
     "name": "stderr",
     "output_type": "stream",
     "text": [
      "Epoch 12/50:: 100%|\u001b[34m███████████████████\u001b[0m| 120/120 [00:06<00:00, 17.54batch/s, loss=0.153945]\u001b[0m\n"
     ]
    },
    {
     "name": "stdout",
     "output_type": "stream",
     "text": [
      "\t Loss: 18.473,\tTrain : 96.35%(96.35%),\tTest : 95.36%(95.36%),\tCurrent Time: 20250917-171527\n"
     ]
    },
    {
     "name": "stderr",
     "output_type": "stream",
     "text": [
      "Epoch 13/50:: 100%|\u001b[34m███████████████████\u001b[0m| 120/120 [00:06<00:00, 17.58batch/s, loss=0.148867]\u001b[0m\n"
     ]
    },
    {
     "name": "stdout",
     "output_type": "stream",
     "text": [
      "\t Loss: 17.864,\tTrain : 96.53%(96.53%),\tTest : 95.40%(95.40%),\tCurrent Time: 20250917-171534\n"
     ]
    },
    {
     "name": "stderr",
     "output_type": "stream",
     "text": [
      "Epoch 14/50:: 100%|\u001b[34m███████████████████\u001b[0m| 120/120 [00:06<00:00, 17.53batch/s, loss=0.143174]\u001b[0m\n"
     ]
    },
    {
     "name": "stdout",
     "output_type": "stream",
     "text": [
      "\t Loss: 17.181,\tTrain : 96.75%(96.75%),\tTest : 95.50%(95.50%),\tCurrent Time: 20250917-171541\n"
     ]
    },
    {
     "name": "stderr",
     "output_type": "stream",
     "text": [
      "Epoch 15/50:: 100%|\u001b[34m███████████████████\u001b[0m| 120/120 [00:06<00:00, 17.52batch/s, loss=0.135973]\u001b[0m\n"
     ]
    },
    {
     "name": "stdout",
     "output_type": "stream",
     "text": [
      "\t Loss: 16.317,\tTrain : 96.85%(96.85%),\tTest : 95.72%(95.72%),\tCurrent Time: 20250917-171549\n"
     ]
    },
    {
     "name": "stderr",
     "output_type": "stream",
     "text": [
      "Epoch 16/50:: 100%|\u001b[34m███████████████████\u001b[0m| 120/120 [00:06<00:00, 17.54batch/s, loss=0.134868]\u001b[0m\n"
     ]
    },
    {
     "name": "stdout",
     "output_type": "stream",
     "text": [
      "\t Loss: 16.184,\tTrain : 96.96%(96.96%),\tTest : 95.52%(95.72%),\tCurrent Time: 20250917-171556\n"
     ]
    },
    {
     "name": "stderr",
     "output_type": "stream",
     "text": [
      "Epoch 17/50:: 100%|\u001b[34m███████████████████\u001b[0m| 120/120 [00:06<00:00, 17.56batch/s, loss=0.130647]\u001b[0m\n"
     ]
    },
    {
     "name": "stdout",
     "output_type": "stream",
     "text": [
      "\t Loss: 15.678,\tTrain : 97.02%(97.02%),\tTest : 95.56%(95.72%),\tCurrent Time: 20250917-171603\n"
     ]
    },
    {
     "name": "stderr",
     "output_type": "stream",
     "text": [
      "Epoch 18/50:: 100%|\u001b[34m███████████████████\u001b[0m| 120/120 [00:06<00:00, 17.57batch/s, loss=0.121644]\u001b[0m\n"
     ]
    },
    {
     "name": "stdout",
     "output_type": "stream",
     "text": [
      "\t Loss: 14.597,\tTrain : 97.26%(97.26%),\tTest : 95.97%(95.97%),\tCurrent Time: 20250917-171611\n"
     ]
    },
    {
     "name": "stderr",
     "output_type": "stream",
     "text": [
      "Epoch 19/50:: 100%|\u001b[34m███████████████████\u001b[0m| 120/120 [00:06<00:00, 17.55batch/s, loss=0.118396]\u001b[0m\n"
     ]
    },
    {
     "name": "stdout",
     "output_type": "stream",
     "text": [
      "\t Loss: 14.207,\tTrain : 97.41%(97.41%),\tTest : 95.68%(95.97%),\tCurrent Time: 20250917-171618\n"
     ]
    },
    {
     "name": "stderr",
     "output_type": "stream",
     "text": [
      "Epoch 20/50:: 100%|\u001b[34m███████████████████\u001b[0m| 120/120 [00:06<00:00, 17.58batch/s, loss=0.113283]\u001b[0m\n"
     ]
    },
    {
     "name": "stdout",
     "output_type": "stream",
     "text": [
      "\t Loss: 13.594,\tTrain : 97.59%(97.59%),\tTest : 95.76%(95.97%),\tCurrent Time: 20250917-171625\n"
     ]
    },
    {
     "name": "stderr",
     "output_type": "stream",
     "text": [
      "Epoch 21/50:: 100%|\u001b[34m███████████████████\u001b[0m| 120/120 [00:06<00:00, 17.54batch/s, loss=0.112325]\u001b[0m\n"
     ]
    },
    {
     "name": "stdout",
     "output_type": "stream",
     "text": [
      "\t Loss: 13.479,\tTrain : 97.67%(97.67%),\tTest : 95.92%(95.97%),\tCurrent Time: 20250917-171633\n"
     ]
    },
    {
     "name": "stderr",
     "output_type": "stream",
     "text": [
      "Epoch 22/50:: 100%|\u001b[34m███████████████████\u001b[0m| 120/120 [00:06<00:00, 17.56batch/s, loss=0.105908]\u001b[0m\n"
     ]
    },
    {
     "name": "stdout",
     "output_type": "stream",
     "text": [
      "\t Loss: 12.709,\tTrain : 97.82%(97.82%),\tTest : 95.81%(95.97%),\tCurrent Time: 20250917-171640\n"
     ]
    },
    {
     "name": "stderr",
     "output_type": "stream",
     "text": [
      "Epoch 23/50:: 100%|\u001b[34m███████████████████\u001b[0m| 120/120 [00:06<00:00, 17.55batch/s, loss=0.105981]\u001b[0m\n"
     ]
    },
    {
     "name": "stdout",
     "output_type": "stream",
     "text": [
      "\t Loss: 12.718,\tTrain : 97.86%(97.86%),\tTest : 95.87%(95.97%),\tCurrent Time: 20250917-171647\n"
     ]
    },
    {
     "name": "stderr",
     "output_type": "stream",
     "text": [
      "Epoch 24/50:: 100%|\u001b[34m███████████████████\u001b[0m| 120/120 [00:06<00:00, 17.59batch/s, loss=0.103487]\u001b[0m\n"
     ]
    },
    {
     "name": "stdout",
     "output_type": "stream",
     "text": [
      "\t Loss: 12.418,\tTrain : 97.90%(97.90%),\tTest : 95.91%(95.97%),\tCurrent Time: 20250917-171655\n"
     ]
    },
    {
     "name": "stderr",
     "output_type": "stream",
     "text": [
      "Epoch 25/50:: 100%|\u001b[34m███████████████████\u001b[0m| 120/120 [00:06<00:00, 17.49batch/s, loss=0.098718]\u001b[0m\n"
     ]
    },
    {
     "name": "stdout",
     "output_type": "stream",
     "text": [
      "\t Loss: 11.846,\tTrain : 98.04%(98.04%),\tTest : 95.96%(95.97%),\tCurrent Time: 20250917-171702\n"
     ]
    },
    {
     "name": "stderr",
     "output_type": "stream",
     "text": [
      "Epoch 26/50:: 100%|\u001b[34m███████████████████\u001b[0m| 120/120 [00:06<00:00, 17.53batch/s, loss=0.097193]\u001b[0m\n"
     ]
    },
    {
     "name": "stdout",
     "output_type": "stream",
     "text": [
      "\t Loss: 11.663,\tTrain : 98.12%(98.12%),\tTest : 95.69%(95.97%),\tCurrent Time: 20250917-171710\n"
     ]
    },
    {
     "name": "stderr",
     "output_type": "stream",
     "text": [
      "Epoch 27/50:: 100%|\u001b[34m███████████████████\u001b[0m| 120/120 [00:06<00:00, 17.59batch/s, loss=0.114364]\u001b[0m\n"
     ]
    },
    {
     "name": "stdout",
     "output_type": "stream",
     "text": [
      "\t Loss: 13.724,\tTrain : 97.75%(98.12%),\tTest : 95.05%(95.97%),\tCurrent Time: 20250917-171717\n"
     ]
    },
    {
     "name": "stderr",
     "output_type": "stream",
     "text": [
      "Epoch 28/50:: 100%|\u001b[34m███████████████████\u001b[0m| 120/120 [00:06<00:00, 17.56batch/s, loss=1.699667]\u001b[0m\n"
     ]
    },
    {
     "name": "stdout",
     "output_type": "stream",
     "text": [
      "\t Loss: 203.960,\tTrain : 56.65%(98.12%),\tTest : 20.66%(95.97%),\tCurrent Time: 20250917-171724\n"
     ]
    },
    {
     "name": "stderr",
     "output_type": "stream",
     "text": [
      "Epoch 29/50:: 100%|\u001b[34m███████████████████\u001b[0m| 120/120 [00:06<00:00, 17.57batch/s, loss=1.849453]\u001b[0m\n"
     ]
    },
    {
     "name": "stdout",
     "output_type": "stream",
     "text": [
      "\t Loss: 221.934,\tTrain : 44.67%(98.12%),\tTest : 58.02%(95.97%),\tCurrent Time: 20250917-171732\n"
     ]
    },
    {
     "name": "stderr",
     "output_type": "stream",
     "text": [
      "Epoch 30/50:: 100%|\u001b[34m███████████████████\u001b[0m| 120/120 [00:06<00:00, 17.55batch/s, loss=1.340442]\u001b[0m\n"
     ]
    },
    {
     "name": "stdout",
     "output_type": "stream",
     "text": [
      "\t Loss: 160.853,\tTrain : 63.24%(98.12%),\tTest : 70.86%(95.97%),\tCurrent Time: 20250917-171739\n"
     ]
    },
    {
     "name": "stderr",
     "output_type": "stream",
     "text": [
      "Epoch 31/50:: 100%|\u001b[34m███████████████████\u001b[0m| 120/120 [00:06<00:00, 17.54batch/s, loss=1.048593]\u001b[0m\n"
     ]
    },
    {
     "name": "stdout",
     "output_type": "stream",
     "text": [
      "\t Loss: 125.831,\tTrain : 72.67%(98.12%),\tTest : 77.17%(95.97%),\tCurrent Time: 20250917-171746\n"
     ]
    },
    {
     "name": "stderr",
     "output_type": "stream",
     "text": [
      "Epoch 32/50:: 100%|\u001b[34m███████████████████\u001b[0m| 120/120 [00:06<00:00, 17.57batch/s, loss=0.913046]\u001b[0m\n"
     ]
    },
    {
     "name": "stdout",
     "output_type": "stream",
     "text": [
      "\t Loss: 109.565,\tTrain : 77.78%(98.12%),\tTest : 80.95%(95.97%),\tCurrent Time: 20250917-171754\n"
     ]
    },
    {
     "name": "stderr",
     "output_type": "stream",
     "text": [
      "Epoch 33/50:: 100%|\u001b[34m███████████████████\u001b[0m| 120/120 [00:06<00:00, 17.56batch/s, loss=0.854046]\u001b[0m\n"
     ]
    },
    {
     "name": "stdout",
     "output_type": "stream",
     "text": [
      "\t Loss: 102.485,\tTrain : 80.18%(98.12%),\tTest : 82.05%(95.97%),\tCurrent Time: 20250917-171801\n"
     ]
    },
    {
     "name": "stderr",
     "output_type": "stream",
     "text": [
      "Epoch 34/50:: 100%|\u001b[34m███████████████████\u001b[0m| 120/120 [00:06<00:00, 17.54batch/s, loss=0.944463]\u001b[0m\n"
     ]
    },
    {
     "name": "stdout",
     "output_type": "stream",
     "text": [
      "\t Loss: 113.336,\tTrain : 78.49%(98.12%),\tTest : 83.11%(95.97%),\tCurrent Time: 20250917-171808\n"
     ]
    },
    {
     "name": "stderr",
     "output_type": "stream",
     "text": [
      "Epoch 35/50:: 100%|\u001b[34m███████████████████\u001b[0m| 120/120 [00:06<00:00, 17.56batch/s, loss=0.837787]\u001b[0m\n"
     ]
    },
    {
     "name": "stdout",
     "output_type": "stream",
     "text": [
      "\t Loss: 100.534,\tTrain : 81.25%(98.12%),\tTest : 78.04%(95.97%),\tCurrent Time: 20250917-171816\n"
     ]
    },
    {
     "name": "stderr",
     "output_type": "stream",
     "text": [
      "Epoch 36/50:: 100%|\u001b[34m███████████████████\u001b[0m| 120/120 [00:06<00:00, 17.55batch/s, loss=0.791632]\u001b[0m\n"
     ]
    },
    {
     "name": "stdout",
     "output_type": "stream",
     "text": [
      "\t Loss: 94.996,\tTrain : 82.93%(98.12%),\tTest : 83.25%(95.97%),\tCurrent Time: 20250917-171823\n"
     ]
    },
    {
     "name": "stderr",
     "output_type": "stream",
     "text": [
      "Epoch 37/50:: 100%|\u001b[34m███████████████████\u001b[0m| 120/120 [00:06<00:00, 17.59batch/s, loss=0.715981]\u001b[0m\n"
     ]
    },
    {
     "name": "stdout",
     "output_type": "stream",
     "text": [
      "\t Loss: 85.918,\tTrain : 84.35%(98.12%),\tTest : 86.04%(95.97%),\tCurrent Time: 20250917-171830\n"
     ]
    },
    {
     "name": "stderr",
     "output_type": "stream",
     "text": [
      "Epoch 38/50:: 100%|\u001b[34m███████████████████\u001b[0m| 120/120 [00:06<00:00, 17.57batch/s, loss=0.658687]\u001b[0m\n"
     ]
    },
    {
     "name": "stdout",
     "output_type": "stream",
     "text": [
      "\t Loss: 79.042,\tTrain : 85.59%(98.12%),\tTest : 86.84%(95.97%),\tCurrent Time: 20250917-171838\n"
     ]
    },
    {
     "name": "stderr",
     "output_type": "stream",
     "text": [
      "Epoch 39/50:: 100%|\u001b[34m███████████████████\u001b[0m| 120/120 [00:06<00:00, 17.56batch/s, loss=0.679932]\u001b[0m\n"
     ]
    },
    {
     "name": "stdout",
     "output_type": "stream",
     "text": [
      "\t Loss: 81.592,\tTrain : 85.26%(98.12%),\tTest : 85.20%(95.97%),\tCurrent Time: 20250917-171845\n"
     ]
    },
    {
     "name": "stderr",
     "output_type": "stream",
     "text": [
      "Epoch 40/50:: 100%|\u001b[34m███████████████████\u001b[0m| 120/120 [00:06<00:00, 17.55batch/s, loss=1.251711]\u001b[0m\n"
     ]
    },
    {
     "name": "stdout",
     "output_type": "stream",
     "text": [
      "\t Loss: 150.205,\tTrain : 66.37%(98.12%),\tTest : 81.67%(95.97%),\tCurrent Time: 20250917-171853\n"
     ]
    },
    {
     "name": "stderr",
     "output_type": "stream",
     "text": [
      "Epoch 41/50:: 100%|\u001b[34m███████████████████\u001b[0m| 120/120 [00:06<00:00, 17.55batch/s, loss=0.722633]\u001b[0m\n"
     ]
    },
    {
     "name": "stdout",
     "output_type": "stream",
     "text": [
      "\t Loss: 86.716,\tTrain : 82.61%(98.12%),\tTest : 85.87%(95.97%),\tCurrent Time: 20250917-171900\n"
     ]
    },
    {
     "name": "stderr",
     "output_type": "stream",
     "text": [
      "Epoch 42/50:: 100%|\u001b[34m███████████████████\u001b[0m| 120/120 [00:06<00:00, 17.57batch/s, loss=0.626621]\u001b[0m\n"
     ]
    },
    {
     "name": "stdout",
     "output_type": "stream",
     "text": [
      "\t Loss: 75.194,\tTrain : 85.69%(98.12%),\tTest : 86.73%(95.97%),\tCurrent Time: 20250917-171907\n"
     ]
    },
    {
     "name": "stderr",
     "output_type": "stream",
     "text": [
      "Epoch 43/50:: 100%|\u001b[34m███████████████████\u001b[0m| 120/120 [00:06<00:00, 17.55batch/s, loss=0.586358]\u001b[0m\n"
     ]
    },
    {
     "name": "stdout",
     "output_type": "stream",
     "text": [
      "\t Loss: 70.363,\tTrain : 86.69%(98.12%),\tTest : 86.98%(95.97%),\tCurrent Time: 20250917-171915\n"
     ]
    },
    {
     "name": "stderr",
     "output_type": "stream",
     "text": [
      "Epoch 44/50:: 100%|\u001b[34m███████████████████\u001b[0m| 120/120 [00:06<00:00, 17.60batch/s, loss=0.570061]\u001b[0m\n"
     ]
    },
    {
     "name": "stdout",
     "output_type": "stream",
     "text": [
      "\t Loss: 68.407,\tTrain : 87.38%(98.12%),\tTest : 88.36%(95.97%),\tCurrent Time: 20250917-171922\n"
     ]
    },
    {
     "name": "stderr",
     "output_type": "stream",
     "text": [
      "Epoch 45/50:: 100%|\u001b[34m███████████████████\u001b[0m| 120/120 [00:06<00:00, 17.56batch/s, loss=0.544407]\u001b[0m\n"
     ]
    },
    {
     "name": "stdout",
     "output_type": "stream",
     "text": [
      "\t Loss: 65.329,\tTrain : 88.24%(98.12%),\tTest : 88.17%(95.97%),\tCurrent Time: 20250917-171929\n"
     ]
    },
    {
     "name": "stderr",
     "output_type": "stream",
     "text": [
      "Epoch 46/50:: 100%|\u001b[34m███████████████████\u001b[0m| 120/120 [00:06<00:00, 17.50batch/s, loss=0.539039]\u001b[0m\n"
     ]
    },
    {
     "name": "stdout",
     "output_type": "stream",
     "text": [
      "\t Loss: 64.685,\tTrain : 88.39%(98.12%),\tTest : 87.57%(95.97%),\tCurrent Time: 20250917-171937\n"
     ]
    },
    {
     "name": "stderr",
     "output_type": "stream",
     "text": [
      "Epoch 47/50:: 100%|\u001b[34m███████████████████\u001b[0m| 120/120 [00:06<00:00, 17.55batch/s, loss=0.523354]\u001b[0m\n"
     ]
    },
    {
     "name": "stdout",
     "output_type": "stream",
     "text": [
      "\t Loss: 62.802,\tTrain : 88.89%(98.12%),\tTest : 89.69%(95.97%),\tCurrent Time: 20250917-171944\n"
     ]
    },
    {
     "name": "stderr",
     "output_type": "stream",
     "text": [
      "Epoch 48/50:: 100%|\u001b[34m███████████████████\u001b[0m| 120/120 [00:06<00:00, 17.56batch/s, loss=0.507249]\u001b[0m\n"
     ]
    },
    {
     "name": "stdout",
     "output_type": "stream",
     "text": [
      "\t Loss: 60.870,\tTrain : 89.24%(98.12%),\tTest : 89.27%(95.97%),\tCurrent Time: 20250917-171951\n"
     ]
    },
    {
     "name": "stderr",
     "output_type": "stream",
     "text": [
      "Epoch 49/50:: 100%|\u001b[34m███████████████████\u001b[0m| 120/120 [00:06<00:00, 17.58batch/s, loss=0.505939]\u001b[0m\n"
     ]
    },
    {
     "name": "stdout",
     "output_type": "stream",
     "text": [
      "\t Loss: 60.713,\tTrain : 89.37%(98.12%),\tTest : 89.66%(95.97%),\tCurrent Time: 20250917-171959\n"
     ]
    },
    {
     "name": "stderr",
     "output_type": "stream",
     "text": [
      "Epoch 50/50:: 100%|\u001b[34m███████████████████\u001b[0m| 120/120 [00:06<00:00, 17.59batch/s, loss=0.495671]\u001b[0m\n"
     ]
    },
    {
     "name": "stdout",
     "output_type": "stream",
     "text": [
      "\t Loss: 59.481,\tTrain : 89.73%(98.12%),\tTest : 90.33%(95.97%),\tCurrent Time: 20250917-172006\n",
      "First_symm_N-HL_Res-EP_L20--MNIST_EP_b_sc0.1- Time: 20250917-172006, Epochs: 50, Learning Rate: 0.001, Best: 98.12%  95.97%\n",
      "\n",
      "[[0 1 0 0 0 0 0 0 0 0 0 0]\n",
      " [0 0 1 0 1 0 0 0 0 0 0 0]\n",
      " [0 1 0 1 0 0 0 0 0 0 0 0]\n",
      " [0 0 1 0 1 0 0 0 0 0 0 0]\n",
      " [0 1 0 1 0 1 0 1 0 0 0 0]\n",
      " [0 0 0 0 1 0 1 0 0 0 0 0]\n",
      " [0 0 0 0 0 1 0 1 0 0 0 0]\n",
      " [0 0 0 0 1 0 1 0 1 0 1 0]\n",
      " [0 0 0 0 0 0 0 1 0 1 0 0]\n",
      " [0 0 0 0 0 0 0 0 1 0 1 0]\n",
      " [0 0 0 0 0 0 0 1 0 1 0 1]\n",
      " [0 0 0 0 0 0 0 0 0 0 1 0]]\n",
      "Files already downloaded and verified\n",
      "First_symm_N-HL_Res-EP_L10--CIFAR10_EP_b_sc0.1-\n"
     ]
    },
    {
     "name": "stderr",
     "output_type": "stream",
     "text": [
      "Epoch 1/50:: 100%|\u001b[34m████████████████████\u001b[0m| 100/100 [00:02<00:00, 42.95batch/s, loss=2.253783]\u001b[0m\n"
     ]
    },
    {
     "name": "stdout",
     "output_type": "stream",
     "text": [
      "\t Loss: 225.378,\tTrain : 15.61%(15.61%),\tTest : 18.05%(18.05%),\tCurrent Time: 20250917-172015\n"
     ]
    },
    {
     "name": "stderr",
     "output_type": "stream",
     "text": [
      "Epoch 2/50:: 100%|\u001b[34m████████████████████\u001b[0m| 100/100 [00:02<00:00, 48.14batch/s, loss=2.121792]\u001b[0m\n"
     ]
    },
    {
     "name": "stdout",
     "output_type": "stream",
     "text": [
      "\t Loss: 212.179,\tTrain : 20.64%(20.64%),\tTest : 21.38%(21.38%),\tCurrent Time: 20250917-172017\n"
     ]
    },
    {
     "name": "stderr",
     "output_type": "stream",
     "text": [
      "Epoch 3/50:: 100%|\u001b[34m████████████████████\u001b[0m| 100/100 [00:02<00:00, 48.33batch/s, loss=2.020847]\u001b[0m\n"
     ]
    },
    {
     "name": "stdout",
     "output_type": "stream",
     "text": [
      "\t Loss: 202.085,\tTrain : 25.13%(25.13%),\tTest : 25.28%(25.28%),\tCurrent Time: 20250917-172019\n"
     ]
    },
    {
     "name": "stderr",
     "output_type": "stream",
     "text": [
      "Epoch 4/50:: 100%|\u001b[34m████████████████████\u001b[0m| 100/100 [00:02<00:00, 48.26batch/s, loss=1.968055]\u001b[0m\n"
     ]
    },
    {
     "name": "stdout",
     "output_type": "stream",
     "text": [
      "\t Loss: 196.806,\tTrain : 27.03%(27.03%),\tTest : 25.27%(25.28%),\tCurrent Time: 20250917-172021\n"
     ]
    },
    {
     "name": "stderr",
     "output_type": "stream",
     "text": [
      "Epoch 5/50:: 100%|\u001b[34m████████████████████\u001b[0m| 100/100 [00:02<00:00, 48.23batch/s, loss=1.942828]\u001b[0m\n"
     ]
    },
    {
     "name": "stdout",
     "output_type": "stream",
     "text": [
      "\t Loss: 194.283,\tTrain : 27.73%(27.73%),\tTest : 29.66%(29.66%),\tCurrent Time: 20250917-172023\n"
     ]
    },
    {
     "name": "stderr",
     "output_type": "stream",
     "text": [
      "Epoch 6/50:: 100%|\u001b[34m████████████████████\u001b[0m| 100/100 [00:02<00:00, 48.36batch/s, loss=1.891215]\u001b[0m\n"
     ]
    },
    {
     "name": "stdout",
     "output_type": "stream",
     "text": [
      "\t Loss: 189.122,\tTrain : 30.40%(30.40%),\tTest : 31.77%(31.77%),\tCurrent Time: 20250917-172026\n"
     ]
    },
    {
     "name": "stderr",
     "output_type": "stream",
     "text": [
      "Epoch 7/50:: 100%|\u001b[34m████████████████████\u001b[0m| 100/100 [00:02<00:00, 48.40batch/s, loss=1.843909]\u001b[0m\n"
     ]
    },
    {
     "name": "stdout",
     "output_type": "stream",
     "text": [
      "\t Loss: 184.391,\tTrain : 32.97%(32.97%),\tTest : 32.26%(32.26%),\tCurrent Time: 20250917-172028\n"
     ]
    },
    {
     "name": "stderr",
     "output_type": "stream",
     "text": [
      "Epoch 8/50:: 100%|\u001b[34m████████████████████\u001b[0m| 100/100 [00:02<00:00, 48.43batch/s, loss=1.824099]\u001b[0m\n"
     ]
    },
    {
     "name": "stdout",
     "output_type": "stream",
     "text": [
      "\t Loss: 182.410,\tTrain : 33.72%(33.72%),\tTest : 32.67%(32.67%),\tCurrent Time: 20250917-172030\n"
     ]
    },
    {
     "name": "stderr",
     "output_type": "stream",
     "text": [
      "Epoch 9/50:: 100%|\u001b[34m████████████████████\u001b[0m| 100/100 [00:02<00:00, 48.41batch/s, loss=1.790138]\u001b[0m\n"
     ]
    },
    {
     "name": "stdout",
     "output_type": "stream",
     "text": [
      "\t Loss: 179.014,\tTrain : 35.44%(35.44%),\tTest : 36.70%(36.70%),\tCurrent Time: 20250917-172032\n"
     ]
    },
    {
     "name": "stderr",
     "output_type": "stream",
     "text": [
      "Epoch 10/50:: 100%|\u001b[34m███████████████████\u001b[0m| 100/100 [00:02<00:00, 48.36batch/s, loss=1.752327]\u001b[0m\n"
     ]
    },
    {
     "name": "stdout",
     "output_type": "stream",
     "text": [
      "\t Loss: 175.233,\tTrain : 37.20%(37.20%),\tTest : 36.09%(36.70%),\tCurrent Time: 20250917-172034\n"
     ]
    },
    {
     "name": "stderr",
     "output_type": "stream",
     "text": [
      "Epoch 11/50:: 100%|\u001b[34m███████████████████\u001b[0m| 100/100 [00:02<00:00, 48.06batch/s, loss=1.753244]\u001b[0m\n"
     ]
    },
    {
     "name": "stdout",
     "output_type": "stream",
     "text": [
      "\t Loss: 175.324,\tTrain : 36.84%(37.20%),\tTest : 37.75%(37.75%),\tCurrent Time: 20250917-172036\n"
     ]
    },
    {
     "name": "stderr",
     "output_type": "stream",
     "text": [
      "Epoch 12/50:: 100%|\u001b[34m███████████████████\u001b[0m| 100/100 [00:02<00:00, 48.15batch/s, loss=1.719682]\u001b[0m\n"
     ]
    },
    {
     "name": "stdout",
     "output_type": "stream",
     "text": [
      "\t Loss: 171.968,\tTrain : 38.32%(38.32%),\tTest : 36.95%(37.75%),\tCurrent Time: 20250917-172039\n"
     ]
    },
    {
     "name": "stderr",
     "output_type": "stream",
     "text": [
      "Epoch 13/50:: 100%|\u001b[34m███████████████████\u001b[0m| 100/100 [00:02<00:00, 48.20batch/s, loss=1.705608]\u001b[0m\n"
     ]
    },
    {
     "name": "stdout",
     "output_type": "stream",
     "text": [
      "\t Loss: 170.561,\tTrain : 38.88%(38.88%),\tTest : 39.12%(39.12%),\tCurrent Time: 20250917-172041\n"
     ]
    },
    {
     "name": "stderr",
     "output_type": "stream",
     "text": [
      "Epoch 14/50:: 100%|\u001b[34m███████████████████\u001b[0m| 100/100 [00:02<00:00, 47.95batch/s, loss=1.697874]\u001b[0m\n"
     ]
    },
    {
     "name": "stdout",
     "output_type": "stream",
     "text": [
      "\t Loss: 169.787,\tTrain : 39.41%(39.41%),\tTest : 39.39%(39.39%),\tCurrent Time: 20250917-172043\n"
     ]
    },
    {
     "name": "stderr",
     "output_type": "stream",
     "text": [
      "Epoch 15/50:: 100%|\u001b[34m███████████████████\u001b[0m| 100/100 [00:02<00:00, 48.24batch/s, loss=1.679799]\u001b[0m\n"
     ]
    },
    {
     "name": "stdout",
     "output_type": "stream",
     "text": [
      "\t Loss: 167.980,\tTrain : 40.01%(40.01%),\tTest : 38.67%(39.39%),\tCurrent Time: 20250917-172045\n"
     ]
    },
    {
     "name": "stderr",
     "output_type": "stream",
     "text": [
      "Epoch 16/50:: 100%|\u001b[34m███████████████████\u001b[0m| 100/100 [00:02<00:00, 48.41batch/s, loss=1.677589]\u001b[0m\n"
     ]
    },
    {
     "name": "stdout",
     "output_type": "stream",
     "text": [
      "\t Loss: 167.759,\tTrain : 40.07%(40.07%),\tTest : 36.94%(39.39%),\tCurrent Time: 20250917-172047\n"
     ]
    },
    {
     "name": "stderr",
     "output_type": "stream",
     "text": [
      "Epoch 17/50:: 100%|\u001b[34m███████████████████\u001b[0m| 100/100 [00:02<00:00, 48.34batch/s, loss=1.701206]\u001b[0m\n"
     ]
    },
    {
     "name": "stdout",
     "output_type": "stream",
     "text": [
      "\t Loss: 170.121,\tTrain : 39.04%(40.07%),\tTest : 38.85%(39.39%),\tCurrent Time: 20250917-172049\n"
     ]
    },
    {
     "name": "stderr",
     "output_type": "stream",
     "text": [
      "Epoch 18/50:: 100%|\u001b[34m███████████████████\u001b[0m| 100/100 [00:02<00:00, 48.25batch/s, loss=1.683749]\u001b[0m\n"
     ]
    },
    {
     "name": "stdout",
     "output_type": "stream",
     "text": [
      "\t Loss: 168.375,\tTrain : 39.59%(40.07%),\tTest : 39.50%(39.50%),\tCurrent Time: 20250917-172052\n"
     ]
    },
    {
     "name": "stderr",
     "output_type": "stream",
     "text": [
      "Epoch 19/50:: 100%|\u001b[34m███████████████████\u001b[0m| 100/100 [00:02<00:00, 47.88batch/s, loss=1.658045]\u001b[0m\n"
     ]
    },
    {
     "name": "stdout",
     "output_type": "stream",
     "text": [
      "\t Loss: 165.804,\tTrain : 40.93%(40.93%),\tTest : 38.72%(39.50%),\tCurrent Time: 20250917-172054\n"
     ]
    },
    {
     "name": "stderr",
     "output_type": "stream",
     "text": [
      "Epoch 20/50:: 100%|\u001b[34m███████████████████\u001b[0m| 100/100 [00:02<00:00, 48.26batch/s, loss=1.649708]\u001b[0m\n"
     ]
    },
    {
     "name": "stdout",
     "output_type": "stream",
     "text": [
      "\t Loss: 164.971,\tTrain : 41.10%(41.10%),\tTest : 40.22%(40.22%),\tCurrent Time: 20250917-172056\n"
     ]
    },
    {
     "name": "stderr",
     "output_type": "stream",
     "text": [
      "Epoch 21/50:: 100%|\u001b[34m███████████████████\u001b[0m| 100/100 [00:02<00:00, 48.12batch/s, loss=1.645830]\u001b[0m\n"
     ]
    },
    {
     "name": "stdout",
     "output_type": "stream",
     "text": [
      "\t Loss: 164.583,\tTrain : 41.47%(41.47%),\tTest : 40.25%(40.25%),\tCurrent Time: 20250917-172058\n"
     ]
    },
    {
     "name": "stderr",
     "output_type": "stream",
     "text": [
      "Epoch 22/50:: 100%|\u001b[34m███████████████████\u001b[0m| 100/100 [00:02<00:00, 48.02batch/s, loss=1.641193]\u001b[0m\n"
     ]
    },
    {
     "name": "stdout",
     "output_type": "stream",
     "text": [
      "\t Loss: 164.119,\tTrain : 41.61%(41.61%),\tTest : 41.20%(41.20%),\tCurrent Time: 20250917-172100\n"
     ]
    },
    {
     "name": "stderr",
     "output_type": "stream",
     "text": [
      "Epoch 23/50:: 100%|\u001b[34m███████████████████\u001b[0m| 100/100 [00:02<00:00, 48.39batch/s, loss=1.621000]\u001b[0m\n"
     ]
    },
    {
     "name": "stdout",
     "output_type": "stream",
     "text": [
      "\t Loss: 162.100,\tTrain : 42.60%(42.60%),\tTest : 38.19%(41.20%),\tCurrent Time: 20250917-172103\n"
     ]
    },
    {
     "name": "stderr",
     "output_type": "stream",
     "text": [
      "Epoch 24/50:: 100%|\u001b[34m███████████████████\u001b[0m| 100/100 [00:02<00:00, 48.42batch/s, loss=1.673485]\u001b[0m\n"
     ]
    },
    {
     "name": "stdout",
     "output_type": "stream",
     "text": [
      "\t Loss: 167.348,\tTrain : 40.35%(42.60%),\tTest : 41.01%(41.20%),\tCurrent Time: 20250917-172105\n"
     ]
    },
    {
     "name": "stderr",
     "output_type": "stream",
     "text": [
      "Epoch 25/50:: 100%|\u001b[34m███████████████████\u001b[0m| 100/100 [00:02<00:00, 48.02batch/s, loss=1.597067]\u001b[0m\n"
     ]
    },
    {
     "name": "stdout",
     "output_type": "stream",
     "text": [
      "\t Loss: 159.707,\tTrain : 43.50%(43.50%),\tTest : 40.66%(41.20%),\tCurrent Time: 20250917-172107\n"
     ]
    },
    {
     "name": "stderr",
     "output_type": "stream",
     "text": [
      "Epoch 26/50:: 100%|\u001b[34m███████████████████\u001b[0m| 100/100 [00:02<00:00, 48.32batch/s, loss=1.607864]\u001b[0m\n"
     ]
    },
    {
     "name": "stdout",
     "output_type": "stream",
     "text": [
      "\t Loss: 160.786,\tTrain : 43.13%(43.50%),\tTest : 40.55%(41.20%),\tCurrent Time: 20250917-172109\n"
     ]
    },
    {
     "name": "stderr",
     "output_type": "stream",
     "text": [
      "Epoch 27/50:: 100%|\u001b[34m███████████████████\u001b[0m| 100/100 [00:02<00:00, 48.36batch/s, loss=1.595281]\u001b[0m\n"
     ]
    },
    {
     "name": "stdout",
     "output_type": "stream",
     "text": [
      "\t Loss: 159.528,\tTrain : 43.78%(43.78%),\tTest : 43.10%(43.10%),\tCurrent Time: 20250917-172111\n"
     ]
    },
    {
     "name": "stderr",
     "output_type": "stream",
     "text": [
      "Epoch 28/50:: 100%|\u001b[34m███████████████████\u001b[0m| 100/100 [00:02<00:00, 48.04batch/s, loss=1.594023]\u001b[0m\n"
     ]
    },
    {
     "name": "stdout",
     "output_type": "stream",
     "text": [
      "\t Loss: 159.402,\tTrain : 44.13%(44.13%),\tTest : 41.07%(43.10%),\tCurrent Time: 20250917-172113\n"
     ]
    },
    {
     "name": "stderr",
     "output_type": "stream",
     "text": [
      "Epoch 29/50:: 100%|\u001b[34m███████████████████\u001b[0m| 100/100 [00:02<00:00, 48.23batch/s, loss=1.581255]\u001b[0m\n"
     ]
    },
    {
     "name": "stdout",
     "output_type": "stream",
     "text": [
      "\t Loss: 158.126,\tTrain : 44.85%(44.85%),\tTest : 40.62%(43.10%),\tCurrent Time: 20250917-172116\n"
     ]
    },
    {
     "name": "stderr",
     "output_type": "stream",
     "text": [
      "Epoch 30/50:: 100%|\u001b[34m███████████████████\u001b[0m| 100/100 [00:02<00:00, 48.14batch/s, loss=1.583281]\u001b[0m\n"
     ]
    },
    {
     "name": "stdout",
     "output_type": "stream",
     "text": [
      "\t Loss: 158.328,\tTrain : 44.79%(44.85%),\tTest : 43.88%(43.88%),\tCurrent Time: 20250917-172118\n"
     ]
    },
    {
     "name": "stderr",
     "output_type": "stream",
     "text": [
      "Epoch 31/50:: 100%|\u001b[34m███████████████████\u001b[0m| 100/100 [00:02<00:00, 48.15batch/s, loss=1.583116]\u001b[0m\n"
     ]
    },
    {
     "name": "stdout",
     "output_type": "stream",
     "text": [
      "\t Loss: 158.312,\tTrain : 45.24%(45.24%),\tTest : 43.45%(43.88%),\tCurrent Time: 20250917-172120\n"
     ]
    },
    {
     "name": "stderr",
     "output_type": "stream",
     "text": [
      "Epoch 32/50:: 100%|\u001b[34m███████████████████\u001b[0m| 100/100 [00:02<00:00, 48.12batch/s, loss=1.573283]\u001b[0m\n"
     ]
    },
    {
     "name": "stdout",
     "output_type": "stream",
     "text": [
      "\t Loss: 157.328,\tTrain : 45.75%(45.75%),\tTest : 42.75%(43.88%),\tCurrent Time: 20250917-172122\n"
     ]
    },
    {
     "name": "stderr",
     "output_type": "stream",
     "text": [
      "Epoch 33/50:: 100%|\u001b[34m███████████████████\u001b[0m| 100/100 [00:02<00:00, 47.84batch/s, loss=1.576235]\u001b[0m\n"
     ]
    },
    {
     "name": "stdout",
     "output_type": "stream",
     "text": [
      "\t Loss: 157.623,\tTrain : 45.69%(45.75%),\tTest : 41.74%(43.88%),\tCurrent Time: 20250917-172124\n"
     ]
    },
    {
     "name": "stderr",
     "output_type": "stream",
     "text": [
      "Epoch 34/50:: 100%|\u001b[34m███████████████████\u001b[0m| 100/100 [00:02<00:00, 48.23batch/s, loss=1.577076]\u001b[0m\n"
     ]
    },
    {
     "name": "stdout",
     "output_type": "stream",
     "text": [
      "\t Loss: 157.708,\tTrain : 46.05%(46.05%),\tTest : 43.36%(43.88%),\tCurrent Time: 20250917-172126\n"
     ]
    },
    {
     "name": "stderr",
     "output_type": "stream",
     "text": [
      "Epoch 35/50:: 100%|\u001b[34m███████████████████\u001b[0m| 100/100 [00:02<00:00, 48.42batch/s, loss=1.569920]\u001b[0m\n"
     ]
    },
    {
     "name": "stdout",
     "output_type": "stream",
     "text": [
      "\t Loss: 156.992,\tTrain : 46.09%(46.09%),\tTest : 43.48%(43.88%),\tCurrent Time: 20250917-172129\n"
     ]
    },
    {
     "name": "stderr",
     "output_type": "stream",
     "text": [
      "Epoch 36/50:: 100%|\u001b[34m███████████████████\u001b[0m| 100/100 [00:02<00:00, 47.93batch/s, loss=1.561861]\u001b[0m\n"
     ]
    },
    {
     "name": "stdout",
     "output_type": "stream",
     "text": [
      "\t Loss: 156.186,\tTrain : 46.68%(46.68%),\tTest : 44.07%(44.07%),\tCurrent Time: 20250917-172131\n"
     ]
    },
    {
     "name": "stderr",
     "output_type": "stream",
     "text": [
      "Epoch 37/50:: 100%|\u001b[34m███████████████████\u001b[0m| 100/100 [00:02<00:00, 48.17batch/s, loss=1.576690]\u001b[0m\n"
     ]
    },
    {
     "name": "stdout",
     "output_type": "stream",
     "text": [
      "\t Loss: 157.669,\tTrain : 46.37%(46.68%),\tTest : 42.85%(44.07%),\tCurrent Time: 20250917-172133\n"
     ]
    },
    {
     "name": "stderr",
     "output_type": "stream",
     "text": [
      "Epoch 38/50:: 100%|\u001b[34m███████████████████\u001b[0m| 100/100 [00:02<00:00, 48.22batch/s, loss=1.570715]\u001b[0m\n"
     ]
    },
    {
     "name": "stdout",
     "output_type": "stream",
     "text": [
      "\t Loss: 157.071,\tTrain : 46.65%(46.68%),\tTest : 43.39%(44.07%),\tCurrent Time: 20250917-172135\n"
     ]
    },
    {
     "name": "stderr",
     "output_type": "stream",
     "text": [
      "Epoch 39/50:: 100%|\u001b[34m███████████████████\u001b[0m| 100/100 [00:02<00:00, 48.06batch/s, loss=1.582030]\u001b[0m\n"
     ]
    },
    {
     "name": "stdout",
     "output_type": "stream",
     "text": [
      "\t Loss: 158.203,\tTrain : 46.41%(46.68%),\tTest : 44.14%(44.14%),\tCurrent Time: 20250917-172137\n"
     ]
    },
    {
     "name": "stderr",
     "output_type": "stream",
     "text": [
      "Epoch 40/50:: 100%|\u001b[34m███████████████████\u001b[0m| 100/100 [00:02<00:00, 48.01batch/s, loss=1.566800]\u001b[0m\n"
     ]
    },
    {
     "name": "stdout",
     "output_type": "stream",
     "text": [
      "\t Loss: 156.680,\tTrain : 47.09%(47.09%),\tTest : 43.49%(44.14%),\tCurrent Time: 20250917-172139\n"
     ]
    },
    {
     "name": "stderr",
     "output_type": "stream",
     "text": [
      "Epoch 41/50:: 100%|\u001b[34m███████████████████\u001b[0m| 100/100 [00:02<00:00, 48.25batch/s, loss=1.553660]\u001b[0m\n"
     ]
    },
    {
     "name": "stdout",
     "output_type": "stream",
     "text": [
      "\t Loss: 155.366,\tTrain : 47.54%(47.54%),\tTest : 43.12%(44.14%),\tCurrent Time: 20250917-172142\n"
     ]
    },
    {
     "name": "stderr",
     "output_type": "stream",
     "text": [
      "Epoch 42/50:: 100%|\u001b[34m███████████████████\u001b[0m| 100/100 [00:02<00:00, 48.12batch/s, loss=1.546661]\u001b[0m\n"
     ]
    },
    {
     "name": "stdout",
     "output_type": "stream",
     "text": [
      "\t Loss: 154.666,\tTrain : 47.85%(47.85%),\tTest : 44.22%(44.22%),\tCurrent Time: 20250917-172144\n"
     ]
    },
    {
     "name": "stderr",
     "output_type": "stream",
     "text": [
      "Epoch 43/50:: 100%|\u001b[34m███████████████████\u001b[0m| 100/100 [00:02<00:00, 48.20batch/s, loss=1.565728]\u001b[0m\n"
     ]
    },
    {
     "name": "stdout",
     "output_type": "stream",
     "text": [
      "\t Loss: 156.573,\tTrain : 47.53%(47.85%),\tTest : 43.38%(44.22%),\tCurrent Time: 20250917-172146\n"
     ]
    },
    {
     "name": "stderr",
     "output_type": "stream",
     "text": [
      "Epoch 44/50:: 100%|\u001b[34m███████████████████\u001b[0m| 100/100 [00:02<00:00, 48.44batch/s, loss=1.568529]\u001b[0m\n"
     ]
    },
    {
     "name": "stdout",
     "output_type": "stream",
     "text": [
      "\t Loss: 156.853,\tTrain : 47.64%(47.85%),\tTest : 43.93%(44.22%),\tCurrent Time: 20250917-172148\n"
     ]
    },
    {
     "name": "stderr",
     "output_type": "stream",
     "text": [
      "Epoch 45/50:: 100%|\u001b[34m███████████████████\u001b[0m| 100/100 [00:02<00:00, 48.23batch/s, loss=1.566020]\u001b[0m\n"
     ]
    },
    {
     "name": "stdout",
     "output_type": "stream",
     "text": [
      "\t Loss: 156.602,\tTrain : 47.91%(47.91%),\tTest : 44.20%(44.22%),\tCurrent Time: 20250917-172150\n"
     ]
    },
    {
     "name": "stderr",
     "output_type": "stream",
     "text": [
      "Epoch 46/50:: 100%|\u001b[34m███████████████████\u001b[0m| 100/100 [00:02<00:00, 48.01batch/s, loss=1.567788]\u001b[0m\n"
     ]
    },
    {
     "name": "stdout",
     "output_type": "stream",
     "text": [
      "\t Loss: 156.779,\tTrain : 48.33%(48.33%),\tTest : 44.51%(44.51%),\tCurrent Time: 20250917-172152\n"
     ]
    },
    {
     "name": "stderr",
     "output_type": "stream",
     "text": [
      "Epoch 47/50:: 100%|\u001b[34m███████████████████\u001b[0m| 100/100 [00:02<00:00, 48.07batch/s, loss=1.542150]\u001b[0m\n"
     ]
    },
    {
     "name": "stdout",
     "output_type": "stream",
     "text": [
      "\t Loss: 154.215,\tTrain : 49.09%(49.09%),\tTest : 44.41%(44.51%),\tCurrent Time: 20250917-172155\n"
     ]
    },
    {
     "name": "stderr",
     "output_type": "stream",
     "text": [
      "Epoch 48/50:: 100%|\u001b[34m███████████████████\u001b[0m| 100/100 [00:02<00:00, 48.11batch/s, loss=1.549946]\u001b[0m\n"
     ]
    },
    {
     "name": "stdout",
     "output_type": "stream",
     "text": [
      "\t Loss: 154.995,\tTrain : 48.78%(49.09%),\tTest : 44.36%(44.51%),\tCurrent Time: 20250917-172157\n"
     ]
    },
    {
     "name": "stderr",
     "output_type": "stream",
     "text": [
      "Epoch 49/50:: 100%|\u001b[34m███████████████████\u001b[0m| 100/100 [00:02<00:00, 48.01batch/s, loss=1.569267]\u001b[0m\n"
     ]
    },
    {
     "name": "stdout",
     "output_type": "stream",
     "text": [
      "\t Loss: 156.927,\tTrain : 48.52%(49.09%),\tTest : 43.53%(44.51%),\tCurrent Time: 20250917-172159\n"
     ]
    },
    {
     "name": "stderr",
     "output_type": "stream",
     "text": [
      "Epoch 50/50:: 100%|\u001b[34m███████████████████\u001b[0m| 100/100 [00:02<00:00, 48.13batch/s, loss=1.555039]\u001b[0m\n"
     ]
    },
    {
     "name": "stdout",
     "output_type": "stream",
     "text": [
      "\t Loss: 155.504,\tTrain : 49.21%(49.21%),\tTest : 42.70%(44.51%),\tCurrent Time: 20250917-172201\n",
      "First_symm_N-HL_Res-EP_L10--CIFAR10_EP_b_sc0.1- Time: 20250917-172201, Epochs: 50, Learning Rate: 0.0002, Best: 49.21%  44.51%\n",
      "\n",
      "[[0 1 0 0 0 0 0 0 0 0 0 0]\n",
      " [0 0 1 0 1 0 0 0 0 0 0 0]\n",
      " [0 1 0 1 0 0 0 0 0 0 0 0]\n",
      " [0 0 1 0 1 0 0 0 0 0 0 0]\n",
      " [0 1 0 1 0 1 0 1 0 0 0 0]\n",
      " [0 0 0 0 1 0 1 0 0 0 0 0]\n",
      " [0 0 0 0 0 1 0 1 0 0 0 0]\n",
      " [0 0 0 0 1 0 1 0 1 0 1 0]\n",
      " [0 0 0 0 0 0 0 1 0 1 0 0]\n",
      " [0 0 0 0 0 0 0 0 1 0 1 0]\n",
      " [0 0 0 0 0 0 0 1 0 1 0 1]\n",
      " [0 0 0 0 0 0 0 0 0 0 1 0]]\n",
      "Files already downloaded and verified\n",
      "First_symm_N-HL_Res-EP_L10--CIFAR10_EP_b_sc0.1-\n"
     ]
    },
    {
     "name": "stderr",
     "output_type": "stream",
     "text": [
      "Epoch 1/50:: 100%|\u001b[34m████████████████████\u001b[0m| 100/100 [00:02<00:00, 44.37batch/s, loss=2.278569]\u001b[0m\n"
     ]
    },
    {
     "name": "stdout",
     "output_type": "stream",
     "text": [
      "\t Loss: 227.857,\tTrain : 15.11%(15.11%),\tTest : 20.08%(20.08%),\tCurrent Time: 20250917-172210\n"
     ]
    },
    {
     "name": "stderr",
     "output_type": "stream",
     "text": [
      "Epoch 2/50:: 100%|\u001b[34m████████████████████\u001b[0m| 100/100 [00:02<00:00, 48.17batch/s, loss=2.159973]\u001b[0m\n"
     ]
    },
    {
     "name": "stdout",
     "output_type": "stream",
     "text": [
      "\t Loss: 215.997,\tTrain : 20.45%(20.45%),\tTest : 20.93%(20.93%),\tCurrent Time: 20250917-172212\n"
     ]
    },
    {
     "name": "stderr",
     "output_type": "stream",
     "text": [
      "Epoch 3/50:: 100%|\u001b[34m████████████████████\u001b[0m| 100/100 [00:02<00:00, 48.12batch/s, loss=2.048426]\u001b[0m\n"
     ]
    },
    {
     "name": "stdout",
     "output_type": "stream",
     "text": [
      "\t Loss: 204.843,\tTrain : 24.58%(24.58%),\tTest : 26.76%(26.76%),\tCurrent Time: 20250917-172214\n"
     ]
    },
    {
     "name": "stderr",
     "output_type": "stream",
     "text": [
      "Epoch 4/50:: 100%|\u001b[34m████████████████████\u001b[0m| 100/100 [00:02<00:00, 47.95batch/s, loss=2.001962]\u001b[0m\n"
     ]
    },
    {
     "name": "stdout",
     "output_type": "stream",
     "text": [
      "\t Loss: 200.196,\tTrain : 27.36%(27.36%),\tTest : 24.23%(26.76%),\tCurrent Time: 20250917-172217\n"
     ]
    },
    {
     "name": "stderr",
     "output_type": "stream",
     "text": [
      "Epoch 5/50:: 100%|\u001b[34m████████████████████\u001b[0m| 100/100 [00:02<00:00, 48.00batch/s, loss=1.939412]\u001b[0m\n"
     ]
    },
    {
     "name": "stdout",
     "output_type": "stream",
     "text": [
      "\t Loss: 193.941,\tTrain : 30.74%(30.74%),\tTest : 31.82%(31.82%),\tCurrent Time: 20250917-172219\n"
     ]
    },
    {
     "name": "stderr",
     "output_type": "stream",
     "text": [
      "Epoch 6/50:: 100%|\u001b[34m████████████████████\u001b[0m| 100/100 [00:02<00:00, 48.17batch/s, loss=1.890073]\u001b[0m\n"
     ]
    },
    {
     "name": "stdout",
     "output_type": "stream",
     "text": [
      "\t Loss: 189.007,\tTrain : 32.83%(32.83%),\tTest : 32.86%(32.86%),\tCurrent Time: 20250917-172221\n"
     ]
    },
    {
     "name": "stderr",
     "output_type": "stream",
     "text": [
      "Epoch 7/50:: 100%|\u001b[34m████████████████████\u001b[0m| 100/100 [00:02<00:00, 48.21batch/s, loss=1.844419]\u001b[0m\n"
     ]
    },
    {
     "name": "stdout",
     "output_type": "stream",
     "text": [
      "\t Loss: 184.442,\tTrain : 34.37%(34.37%),\tTest : 35.10%(35.10%),\tCurrent Time: 20250917-172223\n"
     ]
    },
    {
     "name": "stderr",
     "output_type": "stream",
     "text": [
      "Epoch 8/50:: 100%|\u001b[34m████████████████████\u001b[0m| 100/100 [00:02<00:00, 48.17batch/s, loss=1.832867]\u001b[0m\n"
     ]
    },
    {
     "name": "stdout",
     "output_type": "stream",
     "text": [
      "\t Loss: 183.287,\tTrain : 34.76%(34.76%),\tTest : 35.58%(35.58%),\tCurrent Time: 20250917-172225\n"
     ]
    },
    {
     "name": "stderr",
     "output_type": "stream",
     "text": [
      "Epoch 9/50:: 100%|\u001b[34m████████████████████\u001b[0m| 100/100 [00:02<00:00, 48.06batch/s, loss=1.788695]\u001b[0m\n"
     ]
    },
    {
     "name": "stdout",
     "output_type": "stream",
     "text": [
      "\t Loss: 178.869,\tTrain : 36.42%(36.42%),\tTest : 37.07%(37.07%),\tCurrent Time: 20250917-172227\n"
     ]
    },
    {
     "name": "stderr",
     "output_type": "stream",
     "text": [
      "Epoch 10/50:: 100%|\u001b[34m███████████████████\u001b[0m| 100/100 [00:02<00:00, 48.36batch/s, loss=1.786803]\u001b[0m\n"
     ]
    },
    {
     "name": "stdout",
     "output_type": "stream",
     "text": [
      "\t Loss: 178.680,\tTrain : 36.26%(36.42%),\tTest : 36.48%(37.07%),\tCurrent Time: 20250917-172230\n"
     ]
    },
    {
     "name": "stderr",
     "output_type": "stream",
     "text": [
      "Epoch 11/50:: 100%|\u001b[34m███████████████████\u001b[0m| 100/100 [00:02<00:00, 48.37batch/s, loss=1.751857]\u001b[0m\n"
     ]
    },
    {
     "name": "stdout",
     "output_type": "stream",
     "text": [
      "\t Loss: 175.186,\tTrain : 37.75%(37.75%),\tTest : 35.67%(37.07%),\tCurrent Time: 20250917-172232\n"
     ]
    },
    {
     "name": "stderr",
     "output_type": "stream",
     "text": [
      "Epoch 12/50:: 100%|\u001b[34m███████████████████\u001b[0m| 100/100 [00:02<00:00, 48.17batch/s, loss=1.739672]\u001b[0m\n"
     ]
    },
    {
     "name": "stdout",
     "output_type": "stream",
     "text": [
      "\t Loss: 173.967,\tTrain : 37.95%(37.95%),\tTest : 37.92%(37.92%),\tCurrent Time: 20250917-172234\n"
     ]
    },
    {
     "name": "stderr",
     "output_type": "stream",
     "text": [
      "Epoch 13/50:: 100%|\u001b[34m███████████████████\u001b[0m| 100/100 [00:02<00:00, 48.07batch/s, loss=1.701437]\u001b[0m\n"
     ]
    },
    {
     "name": "stdout",
     "output_type": "stream",
     "text": [
      "\t Loss: 170.144,\tTrain : 39.41%(39.41%),\tTest : 38.14%(38.14%),\tCurrent Time: 20250917-172236\n"
     ]
    },
    {
     "name": "stderr",
     "output_type": "stream",
     "text": [
      "Epoch 14/50:: 100%|\u001b[34m███████████████████\u001b[0m| 100/100 [00:02<00:00, 48.10batch/s, loss=1.704332]\u001b[0m\n"
     ]
    },
    {
     "name": "stdout",
     "output_type": "stream",
     "text": [
      "\t Loss: 170.433,\tTrain : 39.40%(39.41%),\tTest : 39.76%(39.76%),\tCurrent Time: 20250917-172238\n"
     ]
    },
    {
     "name": "stderr",
     "output_type": "stream",
     "text": [
      "Epoch 15/50:: 100%|\u001b[34m███████████████████\u001b[0m| 100/100 [00:02<00:00, 48.13batch/s, loss=1.676415]\u001b[0m\n"
     ]
    },
    {
     "name": "stdout",
     "output_type": "stream",
     "text": [
      "\t Loss: 167.642,\tTrain : 40.32%(40.32%),\tTest : 39.72%(39.76%),\tCurrent Time: 20250917-172240\n"
     ]
    },
    {
     "name": "stderr",
     "output_type": "stream",
     "text": [
      "Epoch 16/50:: 100%|\u001b[34m███████████████████\u001b[0m| 100/100 [00:02<00:00, 48.21batch/s, loss=1.671101]\u001b[0m\n"
     ]
    },
    {
     "name": "stdout",
     "output_type": "stream",
     "text": [
      "\t Loss: 167.110,\tTrain : 40.39%(40.39%),\tTest : 40.38%(40.38%),\tCurrent Time: 20250917-172243\n"
     ]
    },
    {
     "name": "stderr",
     "output_type": "stream",
     "text": [
      "Epoch 17/50:: 100%|\u001b[34m███████████████████\u001b[0m| 100/100 [00:02<00:00, 48.04batch/s, loss=1.656178]\u001b[0m\n"
     ]
    },
    {
     "name": "stdout",
     "output_type": "stream",
     "text": [
      "\t Loss: 165.618,\tTrain : 41.03%(41.03%),\tTest : 40.43%(40.43%),\tCurrent Time: 20250917-172245\n"
     ]
    },
    {
     "name": "stderr",
     "output_type": "stream",
     "text": [
      "Epoch 18/50:: 100%|\u001b[34m███████████████████\u001b[0m| 100/100 [00:02<00:00, 48.20batch/s, loss=1.633827]\u001b[0m\n"
     ]
    },
    {
     "name": "stdout",
     "output_type": "stream",
     "text": [
      "\t Loss: 163.383,\tTrain : 41.93%(41.93%),\tTest : 38.61%(40.43%),\tCurrent Time: 20250917-172247\n"
     ]
    },
    {
     "name": "stderr",
     "output_type": "stream",
     "text": [
      "Epoch 19/50:: 100%|\u001b[34m███████████████████\u001b[0m| 100/100 [00:02<00:00, 48.04batch/s, loss=1.633931]\u001b[0m\n"
     ]
    },
    {
     "name": "stdout",
     "output_type": "stream",
     "text": [
      "\t Loss: 163.393,\tTrain : 41.86%(41.93%),\tTest : 40.48%(40.48%),\tCurrent Time: 20250917-172249\n"
     ]
    },
    {
     "name": "stderr",
     "output_type": "stream",
     "text": [
      "Epoch 20/50:: 100%|\u001b[34m███████████████████\u001b[0m| 100/100 [00:02<00:00, 48.17batch/s, loss=1.620888]\u001b[0m\n"
     ]
    },
    {
     "name": "stdout",
     "output_type": "stream",
     "text": [
      "\t Loss: 162.089,\tTrain : 42.52%(42.52%),\tTest : 40.84%(40.84%),\tCurrent Time: 20250917-172251\n"
     ]
    },
    {
     "name": "stderr",
     "output_type": "stream",
     "text": [
      "Epoch 21/50:: 100%|\u001b[34m███████████████████\u001b[0m| 100/100 [00:02<00:00, 48.21batch/s, loss=1.617672]\u001b[0m\n"
     ]
    },
    {
     "name": "stdout",
     "output_type": "stream",
     "text": [
      "\t Loss: 161.767,\tTrain : 42.78%(42.78%),\tTest : 42.25%(42.25%),\tCurrent Time: 20250917-172253\n"
     ]
    },
    {
     "name": "stderr",
     "output_type": "stream",
     "text": [
      "Epoch 22/50:: 100%|\u001b[34m███████████████████\u001b[0m| 100/100 [00:02<00:00, 47.89batch/s, loss=1.596656]\u001b[0m\n"
     ]
    },
    {
     "name": "stdout",
     "output_type": "stream",
     "text": [
      "\t Loss: 159.666,\tTrain : 43.56%(43.56%),\tTest : 41.60%(42.25%),\tCurrent Time: 20250917-172256\n"
     ]
    },
    {
     "name": "stderr",
     "output_type": "stream",
     "text": [
      "Epoch 23/50:: 100%|\u001b[34m███████████████████\u001b[0m| 100/100 [00:02<00:00, 48.17batch/s, loss=1.592369]\u001b[0m\n"
     ]
    },
    {
     "name": "stdout",
     "output_type": "stream",
     "text": [
      "\t Loss: 159.237,\tTrain : 43.86%(43.86%),\tTest : 41.99%(42.25%),\tCurrent Time: 20250917-172258\n"
     ]
    },
    {
     "name": "stderr",
     "output_type": "stream",
     "text": [
      "Epoch 24/50:: 100%|\u001b[34m███████████████████\u001b[0m| 100/100 [00:02<00:00, 47.96batch/s, loss=1.579954]\u001b[0m\n"
     ]
    },
    {
     "name": "stdout",
     "output_type": "stream",
     "text": [
      "\t Loss: 157.995,\tTrain : 44.40%(44.40%),\tTest : 42.68%(42.68%),\tCurrent Time: 20250917-172300\n"
     ]
    },
    {
     "name": "stderr",
     "output_type": "stream",
     "text": [
      "Epoch 25/50:: 100%|\u001b[34m███████████████████\u001b[0m| 100/100 [00:02<00:00, 48.04batch/s, loss=1.574160]\u001b[0m\n"
     ]
    },
    {
     "name": "stdout",
     "output_type": "stream",
     "text": [
      "\t Loss: 157.416,\tTrain : 44.58%(44.58%),\tTest : 42.65%(42.68%),\tCurrent Time: 20250917-172302\n"
     ]
    },
    {
     "name": "stderr",
     "output_type": "stream",
     "text": [
      "Epoch 26/50:: 100%|\u001b[34m███████████████████\u001b[0m| 100/100 [00:02<00:00, 48.13batch/s, loss=1.581115]\u001b[0m\n"
     ]
    },
    {
     "name": "stdout",
     "output_type": "stream",
     "text": [
      "\t Loss: 158.112,\tTrain : 44.65%(44.65%),\tTest : 41.34%(42.68%),\tCurrent Time: 20250917-172304\n"
     ]
    },
    {
     "name": "stderr",
     "output_type": "stream",
     "text": [
      "Epoch 27/50:: 100%|\u001b[34m███████████████████\u001b[0m| 100/100 [00:02<00:00, 48.04batch/s, loss=1.573459]\u001b[0m\n"
     ]
    },
    {
     "name": "stdout",
     "output_type": "stream",
     "text": [
      "\t Loss: 157.346,\tTrain : 45.04%(45.04%),\tTest : 41.64%(42.68%),\tCurrent Time: 20250917-172307\n"
     ]
    },
    {
     "name": "stderr",
     "output_type": "stream",
     "text": [
      "Epoch 28/50:: 100%|\u001b[34m███████████████████\u001b[0m| 100/100 [00:02<00:00, 48.15batch/s, loss=1.582768]\u001b[0m\n"
     ]
    },
    {
     "name": "stdout",
     "output_type": "stream",
     "text": [
      "\t Loss: 158.277,\tTrain : 44.82%(45.04%),\tTest : 42.91%(42.91%),\tCurrent Time: 20250917-172309\n"
     ]
    },
    {
     "name": "stderr",
     "output_type": "stream",
     "text": [
      "Epoch 29/50:: 100%|\u001b[34m███████████████████\u001b[0m| 100/100 [00:02<00:00, 48.20batch/s, loss=1.582282]\u001b[0m\n"
     ]
    },
    {
     "name": "stdout",
     "output_type": "stream",
     "text": [
      "\t Loss: 158.228,\tTrain : 45.03%(45.04%),\tTest : 42.96%(42.96%),\tCurrent Time: 20250917-172311\n"
     ]
    },
    {
     "name": "stderr",
     "output_type": "stream",
     "text": [
      "Epoch 30/50:: 100%|\u001b[34m███████████████████\u001b[0m| 100/100 [00:02<00:00, 48.18batch/s, loss=1.563716]\u001b[0m\n"
     ]
    },
    {
     "name": "stdout",
     "output_type": "stream",
     "text": [
      "\t Loss: 156.372,\tTrain : 46.08%(46.08%),\tTest : 43.06%(43.06%),\tCurrent Time: 20250917-172313\n"
     ]
    },
    {
     "name": "stderr",
     "output_type": "stream",
     "text": [
      "Epoch 31/50:: 100%|\u001b[34m███████████████████\u001b[0m| 100/100 [00:02<00:00, 48.20batch/s, loss=1.576047]\u001b[0m\n"
     ]
    },
    {
     "name": "stdout",
     "output_type": "stream",
     "text": [
      "\t Loss: 157.605,\tTrain : 45.83%(46.08%),\tTest : 41.80%(43.06%),\tCurrent Time: 20250917-172315\n"
     ]
    },
    {
     "name": "stderr",
     "output_type": "stream",
     "text": [
      "Epoch 32/50:: 100%|\u001b[34m███████████████████\u001b[0m| 100/100 [00:02<00:00, 48.04batch/s, loss=1.580004]\u001b[0m\n"
     ]
    },
    {
     "name": "stdout",
     "output_type": "stream",
     "text": [
      "\t Loss: 158.000,\tTrain : 45.56%(46.08%),\tTest : 43.16%(43.16%),\tCurrent Time: 20250917-172317\n"
     ]
    },
    {
     "name": "stderr",
     "output_type": "stream",
     "text": [
      "Epoch 33/50:: 100%|\u001b[34m███████████████████\u001b[0m| 100/100 [00:02<00:00, 48.35batch/s, loss=1.574238]\u001b[0m\n"
     ]
    },
    {
     "name": "stdout",
     "output_type": "stream",
     "text": [
      "\t Loss: 157.424,\tTrain : 46.27%(46.27%),\tTest : 43.12%(43.16%),\tCurrent Time: 20250917-172320\n"
     ]
    },
    {
     "name": "stderr",
     "output_type": "stream",
     "text": [
      "Epoch 34/50:: 100%|\u001b[34m███████████████████\u001b[0m| 100/100 [00:02<00:00, 48.07batch/s, loss=1.582500]\u001b[0m\n"
     ]
    },
    {
     "name": "stdout",
     "output_type": "stream",
     "text": [
      "\t Loss: 158.250,\tTrain : 46.49%(46.49%),\tTest : 43.39%(43.39%),\tCurrent Time: 20250917-172322\n"
     ]
    },
    {
     "name": "stderr",
     "output_type": "stream",
     "text": [
      "Epoch 35/50:: 100%|\u001b[34m███████████████████\u001b[0m| 100/100 [00:02<00:00, 48.15batch/s, loss=1.572892]\u001b[0m\n"
     ]
    },
    {
     "name": "stdout",
     "output_type": "stream",
     "text": [
      "\t Loss: 157.289,\tTrain : 46.71%(46.71%),\tTest : 42.78%(43.39%),\tCurrent Time: 20250917-172324\n"
     ]
    },
    {
     "name": "stderr",
     "output_type": "stream",
     "text": [
      "Epoch 36/50:: 100%|\u001b[34m███████████████████\u001b[0m| 100/100 [00:02<00:00, 48.00batch/s, loss=1.604651]\u001b[0m\n"
     ]
    },
    {
     "name": "stdout",
     "output_type": "stream",
     "text": [
      "\t Loss: 160.465,\tTrain : 46.30%(46.71%),\tTest : 42.53%(43.39%),\tCurrent Time: 20250917-172326\n"
     ]
    },
    {
     "name": "stderr",
     "output_type": "stream",
     "text": [
      "Epoch 37/50:: 100%|\u001b[34m███████████████████\u001b[0m| 100/100 [00:02<00:00, 48.09batch/s, loss=1.598337]\u001b[0m\n"
     ]
    },
    {
     "name": "stdout",
     "output_type": "stream",
     "text": [
      "\t Loss: 159.834,\tTrain : 46.56%(46.71%),\tTest : 43.16%(43.39%),\tCurrent Time: 20250917-172328\n"
     ]
    },
    {
     "name": "stderr",
     "output_type": "stream",
     "text": [
      "Epoch 38/50:: 100%|\u001b[34m███████████████████\u001b[0m| 100/100 [00:02<00:00, 48.20batch/s, loss=1.596116]\u001b[0m\n"
     ]
    },
    {
     "name": "stdout",
     "output_type": "stream",
     "text": [
      "\t Loss: 159.612,\tTrain : 46.66%(46.71%),\tTest : 42.67%(43.39%),\tCurrent Time: 20250917-172330\n"
     ]
    },
    {
     "name": "stderr",
     "output_type": "stream",
     "text": [
      "Epoch 39/50:: 100%|\u001b[34m███████████████████\u001b[0m| 100/100 [00:02<00:00, 48.02batch/s, loss=1.596485]\u001b[0m\n"
     ]
    },
    {
     "name": "stdout",
     "output_type": "stream",
     "text": [
      "\t Loss: 159.649,\tTrain : 47.17%(47.17%),\tTest : 43.08%(43.39%),\tCurrent Time: 20250917-172333\n"
     ]
    },
    {
     "name": "stderr",
     "output_type": "stream",
     "text": [
      "Epoch 40/50:: 100%|\u001b[34m███████████████████\u001b[0m| 100/100 [00:02<00:00, 48.16batch/s, loss=1.579125]\u001b[0m\n"
     ]
    },
    {
     "name": "stdout",
     "output_type": "stream",
     "text": [
      "\t Loss: 157.912,\tTrain : 47.66%(47.66%),\tTest : 42.82%(43.39%),\tCurrent Time: 20250917-172335\n"
     ]
    },
    {
     "name": "stderr",
     "output_type": "stream",
     "text": [
      "Epoch 41/50:: 100%|\u001b[34m███████████████████\u001b[0m| 100/100 [00:02<00:00, 48.20batch/s, loss=1.601821]\u001b[0m\n"
     ]
    },
    {
     "name": "stdout",
     "output_type": "stream",
     "text": [
      "\t Loss: 160.182,\tTrain : 47.25%(47.66%),\tTest : 42.78%(43.39%),\tCurrent Time: 20250917-172337\n"
     ]
    },
    {
     "name": "stderr",
     "output_type": "stream",
     "text": [
      "Epoch 42/50:: 100%|\u001b[34m███████████████████\u001b[0m| 100/100 [00:02<00:00, 48.08batch/s, loss=1.594084]\u001b[0m\n"
     ]
    },
    {
     "name": "stdout",
     "output_type": "stream",
     "text": [
      "\t Loss: 159.408,\tTrain : 47.67%(47.67%),\tTest : 43.04%(43.39%),\tCurrent Time: 20250917-172339\n"
     ]
    },
    {
     "name": "stderr",
     "output_type": "stream",
     "text": [
      "Epoch 43/50:: 100%|\u001b[34m███████████████████\u001b[0m| 100/100 [00:02<00:00, 47.98batch/s, loss=1.594349]\u001b[0m\n"
     ]
    },
    {
     "name": "stdout",
     "output_type": "stream",
     "text": [
      "\t Loss: 159.435,\tTrain : 47.98%(47.98%),\tTest : 43.75%(43.75%),\tCurrent Time: 20250917-172341\n"
     ]
    },
    {
     "name": "stderr",
     "output_type": "stream",
     "text": [
      "Epoch 44/50:: 100%|\u001b[34m███████████████████\u001b[0m| 100/100 [00:02<00:00, 47.35batch/s, loss=1.598183]\u001b[0m\n"
     ]
    },
    {
     "name": "stdout",
     "output_type": "stream",
     "text": [
      "\t Loss: 159.818,\tTrain : 47.72%(47.98%),\tTest : 43.77%(43.77%),\tCurrent Time: 20250917-172344\n"
     ]
    },
    {
     "name": "stderr",
     "output_type": "stream",
     "text": [
      "Epoch 45/50:: 100%|\u001b[34m███████████████████\u001b[0m| 100/100 [00:02<00:00, 48.15batch/s, loss=1.601153]\u001b[0m\n"
     ]
    },
    {
     "name": "stdout",
     "output_type": "stream",
     "text": [
      "\t Loss: 160.115,\tTrain : 48.12%(48.12%),\tTest : 43.06%(43.77%),\tCurrent Time: 20250917-172346\n"
     ]
    },
    {
     "name": "stderr",
     "output_type": "stream",
     "text": [
      "Epoch 46/50:: 100%|\u001b[34m███████████████████\u001b[0m| 100/100 [00:02<00:00, 48.28batch/s, loss=1.589182]\u001b[0m\n"
     ]
    },
    {
     "name": "stdout",
     "output_type": "stream",
     "text": [
      "\t Loss: 158.918,\tTrain : 48.60%(48.60%),\tTest : 43.69%(43.77%),\tCurrent Time: 20250917-172348\n"
     ]
    },
    {
     "name": "stderr",
     "output_type": "stream",
     "text": [
      "Epoch 47/50:: 100%|\u001b[34m███████████████████\u001b[0m| 100/100 [00:02<00:00, 48.08batch/s, loss=1.595773]\u001b[0m\n"
     ]
    },
    {
     "name": "stdout",
     "output_type": "stream",
     "text": [
      "\t Loss: 159.577,\tTrain : 48.47%(48.60%),\tTest : 43.92%(43.92%),\tCurrent Time: 20250917-172350\n"
     ]
    },
    {
     "name": "stderr",
     "output_type": "stream",
     "text": [
      "Epoch 48/50:: 100%|\u001b[34m███████████████████\u001b[0m| 100/100 [00:02<00:00, 48.16batch/s, loss=1.622279]\u001b[0m\n"
     ]
    },
    {
     "name": "stdout",
     "output_type": "stream",
     "text": [
      "\t Loss: 162.228,\tTrain : 48.06%(48.60%),\tTest : 43.45%(43.92%),\tCurrent Time: 20250917-172352\n"
     ]
    },
    {
     "name": "stderr",
     "output_type": "stream",
     "text": [
      "Epoch 49/50:: 100%|\u001b[34m███████████████████\u001b[0m| 100/100 [00:02<00:00, 48.22batch/s, loss=1.600043]\u001b[0m\n"
     ]
    },
    {
     "name": "stdout",
     "output_type": "stream",
     "text": [
      "\t Loss: 160.004,\tTrain : 48.66%(48.66%),\tTest : 42.76%(43.92%),\tCurrent Time: 20250917-172354\n"
     ]
    },
    {
     "name": "stderr",
     "output_type": "stream",
     "text": [
      "Epoch 50/50:: 100%|\u001b[34m███████████████████\u001b[0m| 100/100 [00:02<00:00, 47.90batch/s, loss=1.615840]\u001b[0m\n"
     ]
    },
    {
     "name": "stdout",
     "output_type": "stream",
     "text": [
      "\t Loss: 161.584,\tTrain : 48.36%(48.66%),\tTest : 43.09%(43.92%),\tCurrent Time: 20250917-172357\n",
      "First_symm_N-HL_Res-EP_L10--CIFAR10_EP_b_sc0.1- Time: 20250917-172357, Epochs: 50, Learning Rate: 0.0002, Best: 48.66%  43.92%\n",
      "\n",
      "[[0 1 0 0 0 0 0 0 0 0 0 0]\n",
      " [0 0 1 0 1 0 0 0 0 0 0 0]\n",
      " [0 1 0 1 0 0 0 0 0 0 0 0]\n",
      " [0 0 1 0 1 0 0 0 0 0 0 0]\n",
      " [0 1 0 1 0 1 0 1 0 0 0 0]\n",
      " [0 0 0 0 1 0 1 0 0 0 0 0]\n",
      " [0 0 0 0 0 1 0 1 0 0 0 0]\n",
      " [0 0 0 0 1 0 1 0 1 0 1 0]\n",
      " [0 0 0 0 0 0 0 1 0 1 0 0]\n",
      " [0 0 0 0 0 0 0 0 1 0 1 0]\n",
      " [0 0 0 0 0 0 0 1 0 1 0 1]\n",
      " [0 0 0 0 0 0 0 0 0 0 1 0]]\n",
      "Files already downloaded and verified\n",
      "First_symm_N-HL_Res-EP_L10--CIFAR10_EP_b_sc0.1-\n"
     ]
    },
    {
     "name": "stderr",
     "output_type": "stream",
     "text": [
      "Epoch 1/50:: 100%|\u001b[34m████████████████████\u001b[0m| 100/100 [00:02<00:00, 43.66batch/s, loss=2.281622]\u001b[0m\n"
     ]
    },
    {
     "name": "stdout",
     "output_type": "stream",
     "text": [
      "\t Loss: 228.162,\tTrain : 13.60%(13.60%),\tTest : 18.90%(18.90%),\tCurrent Time: 20250917-172405\n"
     ]
    },
    {
     "name": "stderr",
     "output_type": "stream",
     "text": [
      "Epoch 2/50:: 100%|\u001b[34m████████████████████\u001b[0m| 100/100 [00:02<00:00, 48.21batch/s, loss=2.174592]\u001b[0m\n"
     ]
    },
    {
     "name": "stdout",
     "output_type": "stream",
     "text": [
      "\t Loss: 217.459,\tTrain : 18.68%(18.68%),\tTest : 22.79%(22.79%),\tCurrent Time: 20250917-172407\n"
     ]
    },
    {
     "name": "stderr",
     "output_type": "stream",
     "text": [
      "Epoch 3/50:: 100%|\u001b[34m████████████████████\u001b[0m| 100/100 [00:02<00:00, 48.20batch/s, loss=2.061374]\u001b[0m\n"
     ]
    },
    {
     "name": "stdout",
     "output_type": "stream",
     "text": [
      "\t Loss: 206.137,\tTrain : 24.51%(24.51%),\tTest : 26.23%(26.23%),\tCurrent Time: 20250917-172409\n"
     ]
    },
    {
     "name": "stderr",
     "output_type": "stream",
     "text": [
      "Epoch 4/50:: 100%|\u001b[34m████████████████████\u001b[0m| 100/100 [00:02<00:00, 48.06batch/s, loss=2.006990]\u001b[0m\n"
     ]
    },
    {
     "name": "stdout",
     "output_type": "stream",
     "text": [
      "\t Loss: 200.699,\tTrain : 27.09%(27.09%),\tTest : 27.06%(27.06%),\tCurrent Time: 20250917-172412\n"
     ]
    },
    {
     "name": "stderr",
     "output_type": "stream",
     "text": [
      "Epoch 5/50:: 100%|\u001b[34m████████████████████\u001b[0m| 100/100 [00:02<00:00, 48.16batch/s, loss=1.951652]\u001b[0m\n"
     ]
    },
    {
     "name": "stdout",
     "output_type": "stream",
     "text": [
      "\t Loss: 195.165,\tTrain : 29.73%(29.73%),\tTest : 32.88%(32.88%),\tCurrent Time: 20250917-172414\n"
     ]
    },
    {
     "name": "stderr",
     "output_type": "stream",
     "text": [
      "Epoch 6/50:: 100%|\u001b[34m████████████████████\u001b[0m| 100/100 [00:02<00:00, 48.15batch/s, loss=1.891687]\u001b[0m\n"
     ]
    },
    {
     "name": "stdout",
     "output_type": "stream",
     "text": [
      "\t Loss: 189.169,\tTrain : 32.15%(32.15%),\tTest : 31.82%(32.88%),\tCurrent Time: 20250917-172416\n"
     ]
    },
    {
     "name": "stderr",
     "output_type": "stream",
     "text": [
      "Epoch 7/50:: 100%|\u001b[34m████████████████████\u001b[0m| 100/100 [00:02<00:00, 48.41batch/s, loss=1.847941]\u001b[0m\n"
     ]
    },
    {
     "name": "stdout",
     "output_type": "stream",
     "text": [
      "\t Loss: 184.794,\tTrain : 33.99%(33.99%),\tTest : 32.79%(32.88%),\tCurrent Time: 20250917-172418\n"
     ]
    },
    {
     "name": "stderr",
     "output_type": "stream",
     "text": [
      "Epoch 8/50:: 100%|\u001b[34m████████████████████\u001b[0m| 100/100 [00:02<00:00, 48.27batch/s, loss=1.826524]\u001b[0m\n"
     ]
    },
    {
     "name": "stdout",
     "output_type": "stream",
     "text": [
      "\t Loss: 182.652,\tTrain : 34.60%(34.60%),\tTest : 34.83%(34.83%),\tCurrent Time: 20250917-172420\n"
     ]
    },
    {
     "name": "stderr",
     "output_type": "stream",
     "text": [
      "Epoch 9/50:: 100%|\u001b[34m████████████████████\u001b[0m| 100/100 [00:02<00:00, 48.27batch/s, loss=1.810093]\u001b[0m\n"
     ]
    },
    {
     "name": "stdout",
     "output_type": "stream",
     "text": [
      "\t Loss: 181.009,\tTrain : 35.09%(35.09%),\tTest : 35.81%(35.81%),\tCurrent Time: 20250917-172423\n"
     ]
    },
    {
     "name": "stderr",
     "output_type": "stream",
     "text": [
      "Epoch 10/50:: 100%|\u001b[34m███████████████████\u001b[0m| 100/100 [00:02<00:00, 48.20batch/s, loss=1.775661]\u001b[0m\n"
     ]
    },
    {
     "name": "stdout",
     "output_type": "stream",
     "text": [
      "\t Loss: 177.566,\tTrain : 36.69%(36.69%),\tTest : 35.50%(35.81%),\tCurrent Time: 20250917-172425\n"
     ]
    },
    {
     "name": "stderr",
     "output_type": "stream",
     "text": [
      "Epoch 11/50:: 100%|\u001b[34m███████████████████\u001b[0m| 100/100 [00:02<00:00, 47.74batch/s, loss=1.763193]\u001b[0m\n"
     ]
    },
    {
     "name": "stdout",
     "output_type": "stream",
     "text": [
      "\t Loss: 176.319,\tTrain : 37.03%(37.03%),\tTest : 35.74%(35.81%),\tCurrent Time: 20250917-172427\n"
     ]
    },
    {
     "name": "stderr",
     "output_type": "stream",
     "text": [
      "Epoch 12/50:: 100%|\u001b[34m███████████████████\u001b[0m| 100/100 [00:02<00:00, 48.10batch/s, loss=1.762642]\u001b[0m\n"
     ]
    },
    {
     "name": "stdout",
     "output_type": "stream",
     "text": [
      "\t Loss: 176.264,\tTrain : 37.31%(37.31%),\tTest : 37.66%(37.66%),\tCurrent Time: 20250917-172429\n"
     ]
    },
    {
     "name": "stderr",
     "output_type": "stream",
     "text": [
      "Epoch 13/50:: 100%|\u001b[34m███████████████████\u001b[0m| 100/100 [00:02<00:00, 48.19batch/s, loss=1.747659]\u001b[0m\n"
     ]
    },
    {
     "name": "stdout",
     "output_type": "stream",
     "text": [
      "\t Loss: 174.766,\tTrain : 37.81%(37.81%),\tTest : 38.61%(38.61%),\tCurrent Time: 20250917-172431\n"
     ]
    },
    {
     "name": "stderr",
     "output_type": "stream",
     "text": [
      "Epoch 14/50:: 100%|\u001b[34m███████████████████\u001b[0m| 100/100 [00:02<00:00, 47.90batch/s, loss=1.714804]\u001b[0m\n"
     ]
    },
    {
     "name": "stdout",
     "output_type": "stream",
     "text": [
      "\t Loss: 171.480,\tTrain : 39.18%(39.18%),\tTest : 38.03%(38.61%),\tCurrent Time: 20250917-172433\n"
     ]
    },
    {
     "name": "stderr",
     "output_type": "stream",
     "text": [
      "Epoch 15/50:: 100%|\u001b[34m███████████████████\u001b[0m| 100/100 [00:02<00:00, 48.17batch/s, loss=1.710365]\u001b[0m\n"
     ]
    },
    {
     "name": "stdout",
     "output_type": "stream",
     "text": [
      "\t Loss: 171.036,\tTrain : 39.18%(39.18%),\tTest : 39.44%(39.44%),\tCurrent Time: 20250917-172436\n"
     ]
    },
    {
     "name": "stderr",
     "output_type": "stream",
     "text": [
      "Epoch 16/50:: 100%|\u001b[34m███████████████████\u001b[0m| 100/100 [00:02<00:00, 48.30batch/s, loss=1.693318]\u001b[0m\n"
     ]
    },
    {
     "name": "stdout",
     "output_type": "stream",
     "text": [
      "\t Loss: 169.332,\tTrain : 40.13%(40.13%),\tTest : 40.14%(40.14%),\tCurrent Time: 20250917-172438\n"
     ]
    },
    {
     "name": "stderr",
     "output_type": "stream",
     "text": [
      "Epoch 17/50:: 100%|\u001b[34m███████████████████\u001b[0m| 100/100 [00:02<00:00, 47.83batch/s, loss=1.658677]\u001b[0m\n"
     ]
    },
    {
     "name": "stdout",
     "output_type": "stream",
     "text": [
      "\t Loss: 165.868,\tTrain : 41.36%(41.36%),\tTest : 40.08%(40.14%),\tCurrent Time: 20250917-172440\n"
     ]
    },
    {
     "name": "stderr",
     "output_type": "stream",
     "text": [
      "Epoch 18/50:: 100%|\u001b[34m███████████████████\u001b[0m| 100/100 [00:02<00:00, 47.89batch/s, loss=1.679919]\u001b[0m\n"
     ]
    },
    {
     "name": "stdout",
     "output_type": "stream",
     "text": [
      "\t Loss: 167.992,\tTrain : 40.71%(41.36%),\tTest : 39.44%(40.14%),\tCurrent Time: 20250917-172442\n"
     ]
    },
    {
     "name": "stderr",
     "output_type": "stream",
     "text": [
      "Epoch 19/50:: 100%|\u001b[34m███████████████████\u001b[0m| 100/100 [00:02<00:00, 48.26batch/s, loss=1.677098]\u001b[0m\n"
     ]
    },
    {
     "name": "stdout",
     "output_type": "stream",
     "text": [
      "\t Loss: 167.710,\tTrain : 40.57%(41.36%),\tTest : 40.05%(40.14%),\tCurrent Time: 20250917-172444\n"
     ]
    },
    {
     "name": "stderr",
     "output_type": "stream",
     "text": [
      "Epoch 20/50:: 100%|\u001b[34m███████████████████\u001b[0m| 100/100 [00:02<00:00, 48.18batch/s, loss=1.650495]\u001b[0m\n"
     ]
    },
    {
     "name": "stdout",
     "output_type": "stream",
     "text": [
      "\t Loss: 165.049,\tTrain : 41.60%(41.60%),\tTest : 41.12%(41.12%),\tCurrent Time: 20250917-172446\n"
     ]
    },
    {
     "name": "stderr",
     "output_type": "stream",
     "text": [
      "Epoch 21/50:: 100%|\u001b[34m███████████████████\u001b[0m| 100/100 [00:02<00:00, 48.19batch/s, loss=1.643214]\u001b[0m\n"
     ]
    },
    {
     "name": "stdout",
     "output_type": "stream",
     "text": [
      "\t Loss: 164.321,\tTrain : 42.32%(42.32%),\tTest : 40.36%(41.12%),\tCurrent Time: 20250917-172449\n"
     ]
    },
    {
     "name": "stderr",
     "output_type": "stream",
     "text": [
      "Epoch 22/50:: 100%|\u001b[34m███████████████████\u001b[0m| 100/100 [00:02<00:00, 47.99batch/s, loss=1.636890]\u001b[0m\n"
     ]
    },
    {
     "name": "stdout",
     "output_type": "stream",
     "text": [
      "\t Loss: 163.689,\tTrain : 42.43%(42.43%),\tTest : 40.60%(41.12%),\tCurrent Time: 20250917-172451\n"
     ]
    },
    {
     "name": "stderr",
     "output_type": "stream",
     "text": [
      "Epoch 23/50:: 100%|\u001b[34m███████████████████\u001b[0m| 100/100 [00:02<00:00, 48.20batch/s, loss=1.615956]\u001b[0m\n"
     ]
    },
    {
     "name": "stdout",
     "output_type": "stream",
     "text": [
      "\t Loss: 161.596,\tTrain : 43.11%(43.11%),\tTest : 42.12%(42.12%),\tCurrent Time: 20250917-172453\n"
     ]
    },
    {
     "name": "stderr",
     "output_type": "stream",
     "text": [
      "Epoch 24/50:: 100%|\u001b[34m███████████████████\u001b[0m| 100/100 [00:02<00:00, 48.26batch/s, loss=1.616024]\u001b[0m\n"
     ]
    },
    {
     "name": "stdout",
     "output_type": "stream",
     "text": [
      "\t Loss: 161.602,\tTrain : 43.37%(43.37%),\tTest : 41.71%(42.12%),\tCurrent Time: 20250917-172455\n"
     ]
    },
    {
     "name": "stderr",
     "output_type": "stream",
     "text": [
      "Epoch 25/50:: 100%|\u001b[34m███████████████████\u001b[0m| 100/100 [00:02<00:00, 48.12batch/s, loss=1.616651]\u001b[0m\n"
     ]
    },
    {
     "name": "stdout",
     "output_type": "stream",
     "text": [
      "\t Loss: 161.665,\tTrain : 43.35%(43.37%),\tTest : 41.72%(42.12%),\tCurrent Time: 20250917-172457\n"
     ]
    },
    {
     "name": "stderr",
     "output_type": "stream",
     "text": [
      "Epoch 26/50:: 100%|\u001b[34m███████████████████\u001b[0m| 100/100 [00:02<00:00, 48.20batch/s, loss=1.610592]\u001b[0m\n"
     ]
    },
    {
     "name": "stdout",
     "output_type": "stream",
     "text": [
      "\t Loss: 161.059,\tTrain : 43.35%(43.37%),\tTest : 40.96%(42.12%),\tCurrent Time: 20250917-172459\n"
     ]
    },
    {
     "name": "stderr",
     "output_type": "stream",
     "text": [
      "Epoch 27/50:: 100%|\u001b[34m███████████████████\u001b[0m| 100/100 [00:02<00:00, 48.33batch/s, loss=1.596048]\u001b[0m\n"
     ]
    },
    {
     "name": "stdout",
     "output_type": "stream",
     "text": [
      "\t Loss: 159.605,\tTrain : 44.04%(44.04%),\tTest : 42.91%(42.91%),\tCurrent Time: 20250917-172502\n"
     ]
    },
    {
     "name": "stderr",
     "output_type": "stream",
     "text": [
      "Epoch 28/50:: 100%|\u001b[34m███████████████████\u001b[0m| 100/100 [00:02<00:00, 48.20batch/s, loss=1.598194]\u001b[0m\n"
     ]
    },
    {
     "name": "stdout",
     "output_type": "stream",
     "text": [
      "\t Loss: 159.819,\tTrain : 44.03%(44.04%),\tTest : 42.97%(42.97%),\tCurrent Time: 20250917-172504\n"
     ]
    },
    {
     "name": "stderr",
     "output_type": "stream",
     "text": [
      "Epoch 29/50:: 100%|\u001b[34m███████████████████\u001b[0m| 100/100 [00:02<00:00, 47.93batch/s, loss=1.585540]\u001b[0m\n"
     ]
    },
    {
     "name": "stdout",
     "output_type": "stream",
     "text": [
      "\t Loss: 158.554,\tTrain : 44.90%(44.90%),\tTest : 42.42%(42.97%),\tCurrent Time: 20250917-172506\n"
     ]
    },
    {
     "name": "stderr",
     "output_type": "stream",
     "text": [
      "Epoch 30/50:: 100%|\u001b[34m███████████████████\u001b[0m| 100/100 [00:02<00:00, 48.16batch/s, loss=1.577215]\u001b[0m\n"
     ]
    },
    {
     "name": "stdout",
     "output_type": "stream",
     "text": [
      "\t Loss: 157.721,\tTrain : 45.14%(45.14%),\tTest : 42.97%(42.97%),\tCurrent Time: 20250917-172508\n"
     ]
    },
    {
     "name": "stderr",
     "output_type": "stream",
     "text": [
      "Epoch 31/50:: 100%|\u001b[34m███████████████████\u001b[0m| 100/100 [00:02<00:00, 48.13batch/s, loss=1.585466]\u001b[0m\n"
     ]
    },
    {
     "name": "stdout",
     "output_type": "stream",
     "text": [
      "\t Loss: 158.547,\tTrain : 45.03%(45.14%),\tTest : 41.37%(42.97%),\tCurrent Time: 20250917-172510\n"
     ]
    },
    {
     "name": "stderr",
     "output_type": "stream",
     "text": [
      "Epoch 32/50:: 100%|\u001b[34m███████████████████\u001b[0m| 100/100 [00:02<00:00, 48.18batch/s, loss=1.598040]\u001b[0m\n"
     ]
    },
    {
     "name": "stdout",
     "output_type": "stream",
     "text": [
      "\t Loss: 159.804,\tTrain : 44.72%(45.14%),\tTest : 42.67%(42.97%),\tCurrent Time: 20250917-172513\n"
     ]
    },
    {
     "name": "stderr",
     "output_type": "stream",
     "text": [
      "Epoch 33/50:: 100%|\u001b[34m███████████████████\u001b[0m| 100/100 [00:02<00:00, 48.11batch/s, loss=1.591957]\u001b[0m\n"
     ]
    },
    {
     "name": "stdout",
     "output_type": "stream",
     "text": [
      "\t Loss: 159.196,\tTrain : 44.97%(45.14%),\tTest : 40.11%(42.97%),\tCurrent Time: 20250917-172515\n"
     ]
    },
    {
     "name": "stderr",
     "output_type": "stream",
     "text": [
      "Epoch 34/50:: 100%|\u001b[34m███████████████████\u001b[0m| 100/100 [00:02<00:00, 48.06batch/s, loss=1.601483]\u001b[0m\n"
     ]
    },
    {
     "name": "stdout",
     "output_type": "stream",
     "text": [
      "\t Loss: 160.148,\tTrain : 44.89%(45.14%),\tTest : 41.83%(42.97%),\tCurrent Time: 20250917-172517\n"
     ]
    },
    {
     "name": "stderr",
     "output_type": "stream",
     "text": [
      "Epoch 35/50:: 100%|\u001b[34m███████████████████\u001b[0m| 100/100 [00:02<00:00, 48.20batch/s, loss=1.594251]\u001b[0m\n"
     ]
    },
    {
     "name": "stdout",
     "output_type": "stream",
     "text": [
      "\t Loss: 159.425,\tTrain : 45.26%(45.26%),\tTest : 41.33%(42.97%),\tCurrent Time: 20250917-172519\n"
     ]
    },
    {
     "name": "stderr",
     "output_type": "stream",
     "text": [
      "Epoch 36/50:: 100%|\u001b[34m███████████████████\u001b[0m| 100/100 [00:02<00:00, 48.25batch/s, loss=1.595629]\u001b[0m\n"
     ]
    },
    {
     "name": "stdout",
     "output_type": "stream",
     "text": [
      "\t Loss: 159.563,\tTrain : 45.65%(45.65%),\tTest : 43.26%(43.26%),\tCurrent Time: 20250917-172521\n"
     ]
    },
    {
     "name": "stderr",
     "output_type": "stream",
     "text": [
      "Epoch 37/50:: 100%|\u001b[34m███████████████████\u001b[0m| 100/100 [00:02<00:00, 47.95batch/s, loss=1.591852]\u001b[0m\n"
     ]
    },
    {
     "name": "stdout",
     "output_type": "stream",
     "text": [
      "\t Loss: 159.185,\tTrain : 45.96%(45.96%),\tTest : 43.85%(43.85%),\tCurrent Time: 20250917-172523\n"
     ]
    },
    {
     "name": "stderr",
     "output_type": "stream",
     "text": [
      "Epoch 38/50:: 100%|\u001b[34m███████████████████\u001b[0m| 100/100 [00:02<00:00, 48.23batch/s, loss=1.604722]\u001b[0m\n"
     ]
    },
    {
     "name": "stdout",
     "output_type": "stream",
     "text": [
      "\t Loss: 160.472,\tTrain : 45.71%(45.96%),\tTest : 44.30%(44.30%),\tCurrent Time: 20250917-172526\n"
     ]
    },
    {
     "name": "stderr",
     "output_type": "stream",
     "text": [
      "Epoch 39/50:: 100%|\u001b[34m███████████████████\u001b[0m| 100/100 [00:02<00:00, 48.34batch/s, loss=1.597740]\u001b[0m\n"
     ]
    },
    {
     "name": "stdout",
     "output_type": "stream",
     "text": [
      "\t Loss: 159.774,\tTrain : 46.38%(46.38%),\tTest : 42.73%(44.30%),\tCurrent Time: 20250917-172528\n"
     ]
    },
    {
     "name": "stderr",
     "output_type": "stream",
     "text": [
      "Epoch 40/50:: 100%|\u001b[34m███████████████████\u001b[0m| 100/100 [00:02<00:00, 48.21batch/s, loss=1.602138]\u001b[0m\n"
     ]
    },
    {
     "name": "stdout",
     "output_type": "stream",
     "text": [
      "\t Loss: 160.214,\tTrain : 46.36%(46.38%),\tTest : 44.03%(44.30%),\tCurrent Time: 20250917-172530\n"
     ]
    },
    {
     "name": "stderr",
     "output_type": "stream",
     "text": [
      "Epoch 41/50:: 100%|\u001b[34m███████████████████\u001b[0m| 100/100 [00:02<00:00, 47.87batch/s, loss=1.598409]\u001b[0m\n"
     ]
    },
    {
     "name": "stdout",
     "output_type": "stream",
     "text": [
      "\t Loss: 159.841,\tTrain : 46.57%(46.57%),\tTest : 43.56%(44.30%),\tCurrent Time: 20250917-172532\n"
     ]
    },
    {
     "name": "stderr",
     "output_type": "stream",
     "text": [
      "Epoch 42/50:: 100%|\u001b[34m███████████████████\u001b[0m| 100/100 [00:02<00:00, 48.31batch/s, loss=1.590119]\u001b[0m\n"
     ]
    },
    {
     "name": "stdout",
     "output_type": "stream",
     "text": [
      "\t Loss: 159.012,\tTrain : 47.06%(47.06%),\tTest : 42.08%(44.30%),\tCurrent Time: 20250917-172534\n"
     ]
    },
    {
     "name": "stderr",
     "output_type": "stream",
     "text": [
      "Epoch 43/50:: 100%|\u001b[34m███████████████████\u001b[0m| 100/100 [00:02<00:00, 47.85batch/s, loss=1.590194]\u001b[0m\n"
     ]
    },
    {
     "name": "stdout",
     "output_type": "stream",
     "text": [
      "\t Loss: 159.019,\tTrain : 47.44%(47.44%),\tTest : 44.11%(44.30%),\tCurrent Time: 20250917-172536\n"
     ]
    },
    {
     "name": "stderr",
     "output_type": "stream",
     "text": [
      "Epoch 44/50:: 100%|\u001b[34m███████████████████\u001b[0m| 100/100 [00:02<00:00, 48.01batch/s, loss=1.583814]\u001b[0m\n"
     ]
    },
    {
     "name": "stdout",
     "output_type": "stream",
     "text": [
      "\t Loss: 158.381,\tTrain : 47.68%(47.68%),\tTest : 44.25%(44.30%),\tCurrent Time: 20250917-172539\n"
     ]
    },
    {
     "name": "stderr",
     "output_type": "stream",
     "text": [
      "Epoch 45/50:: 100%|\u001b[34m███████████████████\u001b[0m| 100/100 [00:02<00:00, 48.10batch/s, loss=1.585247]\u001b[0m\n"
     ]
    },
    {
     "name": "stdout",
     "output_type": "stream",
     "text": [
      "\t Loss: 158.525,\tTrain : 47.99%(47.99%),\tTest : 44.01%(44.30%),\tCurrent Time: 20250917-172541\n"
     ]
    },
    {
     "name": "stderr",
     "output_type": "stream",
     "text": [
      "Epoch 46/50:: 100%|\u001b[34m███████████████████\u001b[0m| 100/100 [00:02<00:00, 47.69batch/s, loss=1.590674]\u001b[0m\n"
     ]
    },
    {
     "name": "stdout",
     "output_type": "stream",
     "text": [
      "\t Loss: 159.067,\tTrain : 48.12%(48.12%),\tTest : 44.25%(44.30%),\tCurrent Time: 20250917-172543\n"
     ]
    },
    {
     "name": "stderr",
     "output_type": "stream",
     "text": [
      "Epoch 47/50:: 100%|\u001b[34m███████████████████\u001b[0m| 100/100 [00:02<00:00, 47.60batch/s, loss=1.588530]\u001b[0m\n"
     ]
    },
    {
     "name": "stdout",
     "output_type": "stream",
     "text": [
      "\t Loss: 158.853,\tTrain : 48.10%(48.12%),\tTest : 44.19%(44.30%),\tCurrent Time: 20250917-172545\n"
     ]
    },
    {
     "name": "stderr",
     "output_type": "stream",
     "text": [
      "Epoch 48/50:: 100%|\u001b[34m███████████████████\u001b[0m| 100/100 [00:02<00:00, 49.05batch/s, loss=1.586640]\u001b[0m\n"
     ]
    },
    {
     "name": "stdout",
     "output_type": "stream",
     "text": [
      "\t Loss: 158.664,\tTrain : 48.56%(48.56%),\tTest : 44.39%(44.39%),\tCurrent Time: 20250917-172547\n"
     ]
    },
    {
     "name": "stderr",
     "output_type": "stream",
     "text": [
      "Epoch 49/50:: 100%|\u001b[34m███████████████████\u001b[0m| 100/100 [00:02<00:00, 48.43batch/s, loss=1.577297]\u001b[0m\n"
     ]
    },
    {
     "name": "stdout",
     "output_type": "stream",
     "text": [
      "\t Loss: 157.730,\tTrain : 48.77%(48.77%),\tTest : 44.59%(44.59%),\tCurrent Time: 20250917-172549\n"
     ]
    },
    {
     "name": "stderr",
     "output_type": "stream",
     "text": [
      "Epoch 50/50:: 100%|\u001b[34m███████████████████\u001b[0m| 100/100 [00:02<00:00, 49.02batch/s, loss=1.589372]\u001b[0m\n"
     ]
    },
    {
     "name": "stdout",
     "output_type": "stream",
     "text": [
      "\t Loss: 158.937,\tTrain : 48.93%(48.93%),\tTest : 43.17%(44.59%),\tCurrent Time: 20250917-172552\n",
      "First_symm_N-HL_Res-EP_L10--CIFAR10_EP_b_sc0.1- Time: 20250917-172552, Epochs: 50, Learning Rate: 0.0002, Best: 48.93%  44.59%\n",
      "\n",
      "[[0 1 0 0 0 0 0 0 0 0 0 0]\n",
      " [0 0 1 0 1 0 0 0 0 0 0 0]\n",
      " [0 1 0 1 0 0 0 0 0 0 0 0]\n",
      " [0 0 1 0 1 0 0 0 0 0 0 0]\n",
      " [0 1 0 1 0 1 0 1 0 0 0 0]\n",
      " [0 0 0 0 1 0 1 0 0 0 0 0]\n",
      " [0 0 0 0 0 1 0 1 0 0 0 0]\n",
      " [0 0 0 0 1 0 1 0 1 0 1 0]\n",
      " [0 0 0 0 0 0 0 1 0 1 0 0]\n",
      " [0 0 0 0 0 0 0 0 1 0 1 0]\n",
      " [0 0 0 0 0 0 0 1 0 1 0 1]\n",
      " [0 0 0 0 0 0 0 0 0 0 1 0]]\n",
      "Files already downloaded and verified\n",
      "First_symm_N-HL_Res-EP_L10--CIFAR10_EP_b_sc0.1-\n"
     ]
    },
    {
     "name": "stderr",
     "output_type": "stream",
     "text": [
      "Epoch 1/50:: 100%|\u001b[34m████████████████████\u001b[0m| 100/100 [00:02<00:00, 43.80batch/s, loss=2.340139]\u001b[0m\n"
     ]
    },
    {
     "name": "stdout",
     "output_type": "stream",
     "text": [
      "\t Loss: 234.014,\tTrain : 13.06%(13.06%),\tTest : 16.94%(16.94%),\tCurrent Time: 20250917-172600\n"
     ]
    },
    {
     "name": "stderr",
     "output_type": "stream",
     "text": [
      "Epoch 2/50:: 100%|\u001b[34m████████████████████\u001b[0m| 100/100 [00:02<00:00, 49.26batch/s, loss=2.205074]\u001b[0m\n"
     ]
    },
    {
     "name": "stdout",
     "output_type": "stream",
     "text": [
      "\t Loss: 220.507,\tTrain : 17.16%(17.16%),\tTest : 18.87%(18.87%),\tCurrent Time: 20250917-172602\n"
     ]
    },
    {
     "name": "stderr",
     "output_type": "stream",
     "text": [
      "Epoch 3/50:: 100%|\u001b[34m████████████████████\u001b[0m| 100/100 [00:02<00:00, 49.41batch/s, loss=2.118571]\u001b[0m\n"
     ]
    },
    {
     "name": "stdout",
     "output_type": "stream",
     "text": [
      "\t Loss: 211.857,\tTrain : 20.99%(20.99%),\tTest : 21.01%(21.01%),\tCurrent Time: 20250917-172604\n"
     ]
    },
    {
     "name": "stderr",
     "output_type": "stream",
     "text": [
      "Epoch 4/50:: 100%|\u001b[34m████████████████████\u001b[0m| 100/100 [00:02<00:00, 49.32batch/s, loss=2.043565]\u001b[0m\n"
     ]
    },
    {
     "name": "stdout",
     "output_type": "stream",
     "text": [
      "\t Loss: 204.356,\tTrain : 24.79%(24.79%),\tTest : 27.82%(27.82%),\tCurrent Time: 20250917-172607\n"
     ]
    },
    {
     "name": "stderr",
     "output_type": "stream",
     "text": [
      "Epoch 5/50:: 100%|\u001b[34m████████████████████\u001b[0m| 100/100 [00:02<00:00, 49.47batch/s, loss=1.952853]\u001b[0m\n"
     ]
    },
    {
     "name": "stdout",
     "output_type": "stream",
     "text": [
      "\t Loss: 195.285,\tTrain : 30.09%(30.09%),\tTest : 32.03%(32.03%),\tCurrent Time: 20250917-172609\n"
     ]
    },
    {
     "name": "stderr",
     "output_type": "stream",
     "text": [
      "Epoch 6/50:: 100%|\u001b[34m████████████████████\u001b[0m| 100/100 [00:02<00:00, 49.46batch/s, loss=1.903748]\u001b[0m\n"
     ]
    },
    {
     "name": "stdout",
     "output_type": "stream",
     "text": [
      "\t Loss: 190.375,\tTrain : 31.94%(31.94%),\tTest : 33.39%(33.39%),\tCurrent Time: 20250917-172611\n"
     ]
    },
    {
     "name": "stderr",
     "output_type": "stream",
     "text": [
      "Epoch 7/50:: 100%|\u001b[34m████████████████████\u001b[0m| 100/100 [00:02<00:00, 49.13batch/s, loss=1.883273]\u001b[0m\n"
     ]
    },
    {
     "name": "stdout",
     "output_type": "stream",
     "text": [
      "\t Loss: 188.327,\tTrain : 32.99%(32.99%),\tTest : 34.29%(34.29%),\tCurrent Time: 20250917-172613\n"
     ]
    },
    {
     "name": "stderr",
     "output_type": "stream",
     "text": [
      "Epoch 8/50:: 100%|\u001b[34m████████████████████\u001b[0m| 100/100 [00:02<00:00, 49.45batch/s, loss=1.844876]\u001b[0m\n"
     ]
    },
    {
     "name": "stdout",
     "output_type": "stream",
     "text": [
      "\t Loss: 184.488,\tTrain : 34.53%(34.53%),\tTest : 34.50%(34.50%),\tCurrent Time: 20250917-172615\n"
     ]
    },
    {
     "name": "stderr",
     "output_type": "stream",
     "text": [
      "Epoch 9/50:: 100%|\u001b[34m████████████████████\u001b[0m| 100/100 [00:02<00:00, 49.28batch/s, loss=1.807204]\u001b[0m\n"
     ]
    },
    {
     "name": "stdout",
     "output_type": "stream",
     "text": [
      "\t Loss: 180.720,\tTrain : 35.98%(35.98%),\tTest : 36.90%(36.90%),\tCurrent Time: 20250917-172617\n"
     ]
    },
    {
     "name": "stderr",
     "output_type": "stream",
     "text": [
      "Epoch 10/50:: 100%|\u001b[34m███████████████████\u001b[0m| 100/100 [00:02<00:00, 49.48batch/s, loss=1.777329]\u001b[0m\n"
     ]
    },
    {
     "name": "stdout",
     "output_type": "stream",
     "text": [
      "\t Loss: 177.733,\tTrain : 36.77%(36.77%),\tTest : 36.92%(36.92%),\tCurrent Time: 20250917-172619\n"
     ]
    },
    {
     "name": "stderr",
     "output_type": "stream",
     "text": [
      "Epoch 11/50:: 100%|\u001b[34m███████████████████\u001b[0m| 100/100 [00:02<00:00, 49.36batch/s, loss=1.750438]\u001b[0m\n"
     ]
    },
    {
     "name": "stdout",
     "output_type": "stream",
     "text": [
      "\t Loss: 175.044,\tTrain : 37.75%(37.75%),\tTest : 37.43%(37.43%),\tCurrent Time: 20250917-172621\n"
     ]
    },
    {
     "name": "stderr",
     "output_type": "stream",
     "text": [
      "Epoch 12/50:: 100%|\u001b[34m███████████████████\u001b[0m| 100/100 [00:02<00:00, 49.31batch/s, loss=1.733294]\u001b[0m\n"
     ]
    },
    {
     "name": "stdout",
     "output_type": "stream",
     "text": [
      "\t Loss: 173.329,\tTrain : 38.21%(38.21%),\tTest : 37.67%(37.67%),\tCurrent Time: 20250917-172623\n"
     ]
    },
    {
     "name": "stderr",
     "output_type": "stream",
     "text": [
      "Epoch 13/50:: 100%|\u001b[34m███████████████████\u001b[0m| 100/100 [00:02<00:00, 49.12batch/s, loss=1.743733]\u001b[0m\n"
     ]
    },
    {
     "name": "stdout",
     "output_type": "stream",
     "text": [
      "\t Loss: 174.373,\tTrain : 37.82%(38.21%),\tTest : 36.96%(37.67%),\tCurrent Time: 20250917-172626\n"
     ]
    },
    {
     "name": "stderr",
     "output_type": "stream",
     "text": [
      "Epoch 14/50:: 100%|\u001b[34m███████████████████\u001b[0m| 100/100 [00:02<00:00, 49.33batch/s, loss=1.707304]\u001b[0m\n"
     ]
    },
    {
     "name": "stdout",
     "output_type": "stream",
     "text": [
      "\t Loss: 170.730,\tTrain : 39.53%(39.53%),\tTest : 39.10%(39.10%),\tCurrent Time: 20250917-172628\n"
     ]
    },
    {
     "name": "stderr",
     "output_type": "stream",
     "text": [
      "Epoch 15/50:: 100%|\u001b[34m███████████████████\u001b[0m| 100/100 [00:02<00:00, 49.30batch/s, loss=1.743749]\u001b[0m\n"
     ]
    },
    {
     "name": "stdout",
     "output_type": "stream",
     "text": [
      "\t Loss: 174.375,\tTrain : 37.97%(39.53%),\tTest : 36.85%(39.10%),\tCurrent Time: 20250917-172630\n"
     ]
    },
    {
     "name": "stderr",
     "output_type": "stream",
     "text": [
      "Epoch 16/50:: 100%|\u001b[34m███████████████████\u001b[0m| 100/100 [00:02<00:00, 49.31batch/s, loss=1.685787]\u001b[0m\n"
     ]
    },
    {
     "name": "stdout",
     "output_type": "stream",
     "text": [
      "\t Loss: 168.579,\tTrain : 40.19%(40.19%),\tTest : 40.48%(40.48%),\tCurrent Time: 20250917-172632\n"
     ]
    },
    {
     "name": "stderr",
     "output_type": "stream",
     "text": [
      "Epoch 17/50:: 100%|\u001b[34m███████████████████\u001b[0m| 100/100 [00:02<00:00, 49.44batch/s, loss=1.705976]\u001b[0m\n"
     ]
    },
    {
     "name": "stdout",
     "output_type": "stream",
     "text": [
      "\t Loss: 170.598,\tTrain : 39.80%(40.19%),\tTest : 37.74%(40.48%),\tCurrent Time: 20250917-172634\n"
     ]
    },
    {
     "name": "stderr",
     "output_type": "stream",
     "text": [
      "Epoch 18/50:: 100%|\u001b[34m███████████████████\u001b[0m| 100/100 [00:02<00:00, 49.29batch/s, loss=1.681700]\u001b[0m\n"
     ]
    },
    {
     "name": "stdout",
     "output_type": "stream",
     "text": [
      "\t Loss: 168.170,\tTrain : 40.35%(40.35%),\tTest : 40.57%(40.57%),\tCurrent Time: 20250917-172636\n"
     ]
    },
    {
     "name": "stderr",
     "output_type": "stream",
     "text": [
      "Epoch 19/50:: 100%|\u001b[34m███████████████████\u001b[0m| 100/100 [00:02<00:00, 49.26batch/s, loss=1.653900]\u001b[0m\n"
     ]
    },
    {
     "name": "stdout",
     "output_type": "stream",
     "text": [
      "\t Loss: 165.390,\tTrain : 41.41%(41.41%),\tTest : 40.70%(40.70%),\tCurrent Time: 20250917-172638\n"
     ]
    },
    {
     "name": "stderr",
     "output_type": "stream",
     "text": [
      "Epoch 20/50:: 100%|\u001b[34m███████████████████\u001b[0m| 100/100 [00:02<00:00, 49.31batch/s, loss=1.651443]\u001b[0m\n"
     ]
    },
    {
     "name": "stdout",
     "output_type": "stream",
     "text": [
      "\t Loss: 165.144,\tTrain : 41.64%(41.64%),\tTest : 40.48%(40.70%),\tCurrent Time: 20250917-172640\n"
     ]
    },
    {
     "name": "stderr",
     "output_type": "stream",
     "text": [
      "Epoch 21/50:: 100%|\u001b[34m███████████████████\u001b[0m| 100/100 [00:02<00:00, 49.45batch/s, loss=1.668903]\u001b[0m\n"
     ]
    },
    {
     "name": "stdout",
     "output_type": "stream",
     "text": [
      "\t Loss: 166.890,\tTrain : 40.79%(41.64%),\tTest : 40.49%(40.70%),\tCurrent Time: 20250917-172643\n"
     ]
    },
    {
     "name": "stderr",
     "output_type": "stream",
     "text": [
      "Epoch 22/50:: 100%|\u001b[34m███████████████████\u001b[0m| 100/100 [00:02<00:00, 49.07batch/s, loss=1.636822]\u001b[0m\n"
     ]
    },
    {
     "name": "stdout",
     "output_type": "stream",
     "text": [
      "\t Loss: 163.682,\tTrain : 41.91%(41.91%),\tTest : 41.59%(41.59%),\tCurrent Time: 20250917-172645\n"
     ]
    },
    {
     "name": "stderr",
     "output_type": "stream",
     "text": [
      "Epoch 23/50:: 100%|\u001b[34m███████████████████\u001b[0m| 100/100 [00:02<00:00, 49.06batch/s, loss=1.632525]\u001b[0m\n"
     ]
    },
    {
     "name": "stdout",
     "output_type": "stream",
     "text": [
      "\t Loss: 163.253,\tTrain : 42.31%(42.31%),\tTest : 40.78%(41.59%),\tCurrent Time: 20250917-172647\n"
     ]
    },
    {
     "name": "stderr",
     "output_type": "stream",
     "text": [
      "Epoch 24/50:: 100%|\u001b[34m███████████████████\u001b[0m| 100/100 [00:02<00:00, 49.32batch/s, loss=1.640576]\u001b[0m\n"
     ]
    },
    {
     "name": "stdout",
     "output_type": "stream",
     "text": [
      "\t Loss: 164.058,\tTrain : 42.01%(42.31%),\tTest : 41.33%(41.59%),\tCurrent Time: 20250917-172649\n"
     ]
    },
    {
     "name": "stderr",
     "output_type": "stream",
     "text": [
      "Epoch 25/50:: 100%|\u001b[34m███████████████████\u001b[0m| 100/100 [00:02<00:00, 49.32batch/s, loss=1.619459]\u001b[0m\n"
     ]
    },
    {
     "name": "stdout",
     "output_type": "stream",
     "text": [
      "\t Loss: 161.946,\tTrain : 42.75%(42.75%),\tTest : 40.81%(41.59%),\tCurrent Time: 20250917-172651\n"
     ]
    },
    {
     "name": "stderr",
     "output_type": "stream",
     "text": [
      "Epoch 26/50:: 100%|\u001b[34m███████████████████\u001b[0m| 100/100 [00:02<00:00, 49.08batch/s, loss=1.625598]\u001b[0m\n"
     ]
    },
    {
     "name": "stdout",
     "output_type": "stream",
     "text": [
      "\t Loss: 162.560,\tTrain : 42.73%(42.75%),\tTest : 40.82%(41.59%),\tCurrent Time: 20250917-172653\n"
     ]
    },
    {
     "name": "stderr",
     "output_type": "stream",
     "text": [
      "Epoch 27/50:: 100%|\u001b[34m███████████████████\u001b[0m| 100/100 [00:02<00:00, 49.51batch/s, loss=1.617151]\u001b[0m\n"
     ]
    },
    {
     "name": "stdout",
     "output_type": "stream",
     "text": [
      "\t Loss: 161.715,\tTrain : 43.24%(43.24%),\tTest : 41.40%(41.59%),\tCurrent Time: 20250917-172655\n"
     ]
    },
    {
     "name": "stderr",
     "output_type": "stream",
     "text": [
      "Epoch 28/50:: 100%|\u001b[34m███████████████████\u001b[0m| 100/100 [00:02<00:00, 49.28batch/s, loss=1.599023]\u001b[0m\n"
     ]
    },
    {
     "name": "stdout",
     "output_type": "stream",
     "text": [
      "\t Loss: 159.902,\tTrain : 44.04%(44.04%),\tTest : 41.83%(41.83%),\tCurrent Time: 20250917-172657\n"
     ]
    },
    {
     "name": "stderr",
     "output_type": "stream",
     "text": [
      "Epoch 29/50:: 100%|\u001b[34m███████████████████\u001b[0m| 100/100 [00:02<00:00, 49.43batch/s, loss=1.610329]\u001b[0m\n"
     ]
    },
    {
     "name": "stdout",
     "output_type": "stream",
     "text": [
      "\t Loss: 161.033,\tTrain : 43.94%(44.04%),\tTest : 42.26%(42.26%),\tCurrent Time: 20250917-172700\n"
     ]
    },
    {
     "name": "stderr",
     "output_type": "stream",
     "text": [
      "Epoch 30/50:: 100%|\u001b[34m███████████████████\u001b[0m| 100/100 [00:02<00:00, 49.31batch/s, loss=1.611757]\u001b[0m\n"
     ]
    },
    {
     "name": "stdout",
     "output_type": "stream",
     "text": [
      "\t Loss: 161.176,\tTrain : 43.60%(44.04%),\tTest : 41.55%(42.26%),\tCurrent Time: 20250917-172702\n"
     ]
    },
    {
     "name": "stderr",
     "output_type": "stream",
     "text": [
      "Epoch 31/50:: 100%|\u001b[34m███████████████████\u001b[0m| 100/100 [00:02<00:00, 49.03batch/s, loss=1.619032]\u001b[0m\n"
     ]
    },
    {
     "name": "stdout",
     "output_type": "stream",
     "text": [
      "\t Loss: 161.903,\tTrain : 43.42%(44.04%),\tTest : 39.08%(42.26%),\tCurrent Time: 20250917-172704\n"
     ]
    },
    {
     "name": "stderr",
     "output_type": "stream",
     "text": [
      "Epoch 32/50:: 100%|\u001b[34m███████████████████\u001b[0m| 100/100 [00:02<00:00, 49.18batch/s, loss=1.606956]\u001b[0m\n"
     ]
    },
    {
     "name": "stdout",
     "output_type": "stream",
     "text": [
      "\t Loss: 160.696,\tTrain : 43.94%(44.04%),\tTest : 42.30%(42.30%),\tCurrent Time: 20250917-172706\n"
     ]
    },
    {
     "name": "stderr",
     "output_type": "stream",
     "text": [
      "Epoch 33/50:: 100%|\u001b[34m███████████████████\u001b[0m| 100/100 [00:02<00:00, 49.34batch/s, loss=1.595324]\u001b[0m\n"
     ]
    },
    {
     "name": "stdout",
     "output_type": "stream",
     "text": [
      "\t Loss: 159.532,\tTrain : 44.38%(44.38%),\tTest : 41.89%(42.30%),\tCurrent Time: 20250917-172708\n"
     ]
    },
    {
     "name": "stderr",
     "output_type": "stream",
     "text": [
      "Epoch 34/50:: 100%|\u001b[34m███████████████████\u001b[0m| 100/100 [00:02<00:00, 49.33batch/s, loss=1.577741]\u001b[0m\n"
     ]
    },
    {
     "name": "stdout",
     "output_type": "stream",
     "text": [
      "\t Loss: 157.774,\tTrain : 45.25%(45.25%),\tTest : 43.05%(43.05%),\tCurrent Time: 20250917-172710\n"
     ]
    },
    {
     "name": "stderr",
     "output_type": "stream",
     "text": [
      "Epoch 35/50:: 100%|\u001b[34m███████████████████\u001b[0m| 100/100 [00:02<00:00, 49.31batch/s, loss=1.576498]\u001b[0m\n"
     ]
    },
    {
     "name": "stdout",
     "output_type": "stream",
     "text": [
      "\t Loss: 157.650,\tTrain : 45.30%(45.30%),\tTest : 43.78%(43.78%),\tCurrent Time: 20250917-172712\n"
     ]
    },
    {
     "name": "stderr",
     "output_type": "stream",
     "text": [
      "Epoch 36/50:: 100%|\u001b[34m███████████████████\u001b[0m| 100/100 [00:02<00:00, 49.34batch/s, loss=1.571538]\u001b[0m\n"
     ]
    },
    {
     "name": "stdout",
     "output_type": "stream",
     "text": [
      "\t Loss: 157.154,\tTrain : 45.60%(45.60%),\tTest : 43.81%(43.81%),\tCurrent Time: 20250917-172714\n"
     ]
    },
    {
     "name": "stderr",
     "output_type": "stream",
     "text": [
      "Epoch 37/50:: 100%|\u001b[34m███████████████████\u001b[0m| 100/100 [00:02<00:00, 49.31batch/s, loss=1.563098]\u001b[0m\n"
     ]
    },
    {
     "name": "stdout",
     "output_type": "stream",
     "text": [
      "\t Loss: 156.310,\tTrain : 46.07%(46.07%),\tTest : 43.61%(43.81%),\tCurrent Time: 20250917-172716\n"
     ]
    },
    {
     "name": "stderr",
     "output_type": "stream",
     "text": [
      "Epoch 38/50:: 100%|\u001b[34m███████████████████\u001b[0m| 100/100 [00:02<00:00, 49.36batch/s, loss=1.579834]\u001b[0m\n"
     ]
    },
    {
     "name": "stdout",
     "output_type": "stream",
     "text": [
      "\t Loss: 157.983,\tTrain : 45.61%(46.07%),\tTest : 43.23%(43.81%),\tCurrent Time: 20250917-172719\n"
     ]
    },
    {
     "name": "stderr",
     "output_type": "stream",
     "text": [
      "Epoch 39/50:: 100%|\u001b[34m███████████████████\u001b[0m| 100/100 [00:02<00:00, 49.27batch/s, loss=1.572394]\u001b[0m\n"
     ]
    },
    {
     "name": "stdout",
     "output_type": "stream",
     "text": [
      "\t Loss: 157.239,\tTrain : 45.86%(46.07%),\tTest : 44.30%(44.30%),\tCurrent Time: 20250917-172721\n"
     ]
    },
    {
     "name": "stderr",
     "output_type": "stream",
     "text": [
      "Epoch 40/50:: 100%|\u001b[34m███████████████████\u001b[0m| 100/100 [00:02<00:00, 49.35batch/s, loss=1.560990]\u001b[0m\n"
     ]
    },
    {
     "name": "stdout",
     "output_type": "stream",
     "text": [
      "\t Loss: 156.099,\tTrain : 46.44%(46.44%),\tTest : 43.21%(44.30%),\tCurrent Time: 20250917-172723\n"
     ]
    },
    {
     "name": "stderr",
     "output_type": "stream",
     "text": [
      "Epoch 41/50:: 100%|\u001b[34m███████████████████\u001b[0m| 100/100 [00:02<00:00, 49.45batch/s, loss=1.578596]\u001b[0m\n"
     ]
    },
    {
     "name": "stdout",
     "output_type": "stream",
     "text": [
      "\t Loss: 157.860,\tTrain : 46.20%(46.44%),\tTest : 42.31%(44.30%),\tCurrent Time: 20250917-172725\n"
     ]
    },
    {
     "name": "stderr",
     "output_type": "stream",
     "text": [
      "Epoch 42/50:: 100%|\u001b[34m███████████████████\u001b[0m| 100/100 [00:02<00:00, 49.05batch/s, loss=1.565593]\u001b[0m\n"
     ]
    },
    {
     "name": "stdout",
     "output_type": "stream",
     "text": [
      "\t Loss: 156.559,\tTrain : 46.82%(46.82%),\tTest : 44.35%(44.35%),\tCurrent Time: 20250917-172727\n"
     ]
    },
    {
     "name": "stderr",
     "output_type": "stream",
     "text": [
      "Epoch 43/50:: 100%|\u001b[34m███████████████████\u001b[0m| 100/100 [00:02<00:00, 49.37batch/s, loss=1.554910]\u001b[0m\n"
     ]
    },
    {
     "name": "stdout",
     "output_type": "stream",
     "text": [
      "\t Loss: 155.491,\tTrain : 47.33%(47.33%),\tTest : 44.32%(44.35%),\tCurrent Time: 20250917-172729\n"
     ]
    },
    {
     "name": "stderr",
     "output_type": "stream",
     "text": [
      "Epoch 44/50:: 100%|\u001b[34m███████████████████\u001b[0m| 100/100 [00:02<00:00, 49.27batch/s, loss=1.567396]\u001b[0m\n"
     ]
    },
    {
     "name": "stdout",
     "output_type": "stream",
     "text": [
      "\t Loss: 156.740,\tTrain : 47.10%(47.33%),\tTest : 42.77%(44.35%),\tCurrent Time: 20250917-172731\n"
     ]
    },
    {
     "name": "stderr",
     "output_type": "stream",
     "text": [
      "Epoch 45/50:: 100%|\u001b[34m███████████████████\u001b[0m| 100/100 [00:02<00:00, 49.25batch/s, loss=1.578385]\u001b[0m\n"
     ]
    },
    {
     "name": "stdout",
     "output_type": "stream",
     "text": [
      "\t Loss: 157.839,\tTrain : 46.65%(47.33%),\tTest : 45.21%(45.21%),\tCurrent Time: 20250917-172733\n"
     ]
    },
    {
     "name": "stderr",
     "output_type": "stream",
     "text": [
      "Epoch 46/50:: 100%|\u001b[34m███████████████████\u001b[0m| 100/100 [00:02<00:00, 49.47batch/s, loss=1.562605]\u001b[0m\n"
     ]
    },
    {
     "name": "stdout",
     "output_type": "stream",
     "text": [
      "\t Loss: 156.261,\tTrain : 47.59%(47.59%),\tTest : 43.06%(45.21%),\tCurrent Time: 20250917-172736\n"
     ]
    },
    {
     "name": "stderr",
     "output_type": "stream",
     "text": [
      "Epoch 47/50:: 100%|\u001b[34m███████████████████\u001b[0m| 100/100 [00:02<00:00, 49.37batch/s, loss=1.564769]\u001b[0m\n"
     ]
    },
    {
     "name": "stdout",
     "output_type": "stream",
     "text": [
      "\t Loss: 156.477,\tTrain : 47.50%(47.59%),\tTest : 43.14%(45.21%),\tCurrent Time: 20250917-172738\n"
     ]
    },
    {
     "name": "stderr",
     "output_type": "stream",
     "text": [
      "Epoch 48/50:: 100%|\u001b[34m███████████████████\u001b[0m| 100/100 [00:02<00:00, 49.31batch/s, loss=1.557930]\u001b[0m\n"
     ]
    },
    {
     "name": "stdout",
     "output_type": "stream",
     "text": [
      "\t Loss: 155.793,\tTrain : 47.59%(47.59%),\tTest : 42.91%(45.21%),\tCurrent Time: 20250917-172740\n"
     ]
    },
    {
     "name": "stderr",
     "output_type": "stream",
     "text": [
      "Epoch 49/50:: 100%|\u001b[34m███████████████████\u001b[0m| 100/100 [00:02<00:00, 49.27batch/s, loss=1.563668]\u001b[0m\n"
     ]
    },
    {
     "name": "stdout",
     "output_type": "stream",
     "text": [
      "\t Loss: 156.367,\tTrain : 47.65%(47.65%),\tTest : 42.70%(45.21%),\tCurrent Time: 20250917-172742\n"
     ]
    },
    {
     "name": "stderr",
     "output_type": "stream",
     "text": [
      "Epoch 50/50:: 100%|\u001b[34m███████████████████\u001b[0m| 100/100 [00:02<00:00, 49.24batch/s, loss=1.551096]\u001b[0m\n"
     ]
    },
    {
     "name": "stdout",
     "output_type": "stream",
     "text": [
      "\t Loss: 155.110,\tTrain : 48.42%(48.42%),\tTest : 43.73%(45.21%),\tCurrent Time: 20250917-172744\n",
      "First_symm_N-HL_Res-EP_L10--CIFAR10_EP_b_sc0.1- Time: 20250917-172744, Epochs: 50, Learning Rate: 0.0002, Best: 48.42%  45.21%\n",
      "\n",
      "[[0 1 0 0 0 0 0 0 0 0 0 0]\n",
      " [0 0 1 0 1 0 0 0 0 0 0 0]\n",
      " [0 1 0 1 0 0 0 0 0 0 0 0]\n",
      " [0 0 1 0 1 0 0 0 0 0 0 0]\n",
      " [0 1 0 1 0 1 0 1 0 0 0 0]\n",
      " [0 0 0 0 1 0 1 0 0 0 0 0]\n",
      " [0 0 0 0 0 1 0 1 0 0 0 0]\n",
      " [0 0 0 0 1 0 1 0 1 0 1 0]\n",
      " [0 0 0 0 0 0 0 1 0 1 0 0]\n",
      " [0 0 0 0 0 0 0 0 1 0 1 0]\n",
      " [0 0 0 0 0 0 0 1 0 1 0 1]\n",
      " [0 0 0 0 0 0 0 0 0 0 1 0]]\n",
      "Files already downloaded and verified\n",
      "First_symm_N-HL_Res-EP_L10--CIFAR10_EP_b_sc0.1-\n"
     ]
    },
    {
     "name": "stderr",
     "output_type": "stream",
     "text": [
      "Epoch 1/50:: 100%|\u001b[34m████████████████████\u001b[0m| 100/100 [00:02<00:00, 45.99batch/s, loss=2.284321]\u001b[0m\n"
     ]
    },
    {
     "name": "stdout",
     "output_type": "stream",
     "text": [
      "\t Loss: 228.432,\tTrain : 14.16%(14.16%),\tTest : 19.29%(19.29%),\tCurrent Time: 20250917-172753\n"
     ]
    },
    {
     "name": "stderr",
     "output_type": "stream",
     "text": [
      "Epoch 2/50:: 100%|\u001b[34m████████████████████\u001b[0m| 100/100 [00:02<00:00, 49.42batch/s, loss=2.148652]\u001b[0m\n"
     ]
    },
    {
     "name": "stdout",
     "output_type": "stream",
     "text": [
      "\t Loss: 214.865,\tTrain : 20.51%(20.51%),\tTest : 22.05%(22.05%),\tCurrent Time: 20250917-172755\n"
     ]
    },
    {
     "name": "stderr",
     "output_type": "stream",
     "text": [
      "Epoch 3/50:: 100%|\u001b[34m████████████████████\u001b[0m| 100/100 [00:02<00:00, 49.40batch/s, loss=2.078703]\u001b[0m\n"
     ]
    },
    {
     "name": "stdout",
     "output_type": "stream",
     "text": [
      "\t Loss: 207.870,\tTrain : 24.34%(24.34%),\tTest : 26.01%(26.01%),\tCurrent Time: 20250917-172757\n"
     ]
    },
    {
     "name": "stderr",
     "output_type": "stream",
     "text": [
      "Epoch 4/50:: 100%|\u001b[34m████████████████████\u001b[0m| 100/100 [00:02<00:00, 49.19batch/s, loss=2.006665]\u001b[0m\n"
     ]
    },
    {
     "name": "stdout",
     "output_type": "stream",
     "text": [
      "\t Loss: 200.666,\tTrain : 26.98%(26.98%),\tTest : 28.44%(28.44%),\tCurrent Time: 20250917-172759\n"
     ]
    },
    {
     "name": "stderr",
     "output_type": "stream",
     "text": [
      "Epoch 5/50:: 100%|\u001b[34m████████████████████\u001b[0m| 100/100 [00:02<00:00, 49.41batch/s, loss=1.963986]\u001b[0m\n"
     ]
    },
    {
     "name": "stdout",
     "output_type": "stream",
     "text": [
      "\t Loss: 196.399,\tTrain : 29.15%(29.15%),\tTest : 31.50%(31.50%),\tCurrent Time: 20250917-172801\n"
     ]
    },
    {
     "name": "stderr",
     "output_type": "stream",
     "text": [
      "Epoch 6/50:: 100%|\u001b[34m████████████████████\u001b[0m| 100/100 [00:02<00:00, 49.47batch/s, loss=1.925130]\u001b[0m\n"
     ]
    },
    {
     "name": "stdout",
     "output_type": "stream",
     "text": [
      "\t Loss: 192.513,\tTrain : 30.57%(30.57%),\tTest : 31.06%(31.50%),\tCurrent Time: 20250917-172803\n"
     ]
    },
    {
     "name": "stderr",
     "output_type": "stream",
     "text": [
      "Epoch 7/50:: 100%|\u001b[34m████████████████████\u001b[0m| 100/100 [00:02<00:00, 49.51batch/s, loss=1.884940]\u001b[0m\n"
     ]
    },
    {
     "name": "stdout",
     "output_type": "stream",
     "text": [
      "\t Loss: 188.494,\tTrain : 32.34%(32.34%),\tTest : 33.45%(33.45%),\tCurrent Time: 20250917-172805\n"
     ]
    },
    {
     "name": "stderr",
     "output_type": "stream",
     "text": [
      "Epoch 8/50:: 100%|\u001b[34m████████████████████\u001b[0m| 100/100 [00:02<00:00, 49.48batch/s, loss=1.847021]\u001b[0m\n"
     ]
    },
    {
     "name": "stdout",
     "output_type": "stream",
     "text": [
      "\t Loss: 184.702,\tTrain : 33.94%(33.94%),\tTest : 34.22%(34.22%),\tCurrent Time: 20250917-172807\n"
     ]
    },
    {
     "name": "stderr",
     "output_type": "stream",
     "text": [
      "Epoch 9/50:: 100%|\u001b[34m████████████████████\u001b[0m| 100/100 [00:02<00:00, 49.34batch/s, loss=1.814722]\u001b[0m\n"
     ]
    },
    {
     "name": "stdout",
     "output_type": "stream",
     "text": [
      "\t Loss: 181.472,\tTrain : 35.29%(35.29%),\tTest : 33.99%(34.22%),\tCurrent Time: 20250917-172810\n"
     ]
    },
    {
     "name": "stderr",
     "output_type": "stream",
     "text": [
      "Epoch 10/50:: 100%|\u001b[34m███████████████████\u001b[0m| 100/100 [00:02<00:00, 49.36batch/s, loss=1.794616]\u001b[0m\n"
     ]
    },
    {
     "name": "stdout",
     "output_type": "stream",
     "text": [
      "\t Loss: 179.462,\tTrain : 36.06%(36.06%),\tTest : 36.81%(36.81%),\tCurrent Time: 20250917-172812\n"
     ]
    },
    {
     "name": "stderr",
     "output_type": "stream",
     "text": [
      "Epoch 11/50:: 100%|\u001b[34m███████████████████\u001b[0m| 100/100 [00:02<00:00, 49.24batch/s, loss=1.769896]\u001b[0m\n"
     ]
    },
    {
     "name": "stdout",
     "output_type": "stream",
     "text": [
      "\t Loss: 176.990,\tTrain : 37.01%(37.01%),\tTest : 36.99%(36.99%),\tCurrent Time: 20250917-172814\n"
     ]
    },
    {
     "name": "stderr",
     "output_type": "stream",
     "text": [
      "Epoch 12/50:: 100%|\u001b[34m███████████████████\u001b[0m| 100/100 [00:02<00:00, 49.31batch/s, loss=1.747697]\u001b[0m\n"
     ]
    },
    {
     "name": "stdout",
     "output_type": "stream",
     "text": [
      "\t Loss: 174.770,\tTrain : 37.72%(37.72%),\tTest : 37.66%(37.66%),\tCurrent Time: 20250917-172816\n"
     ]
    },
    {
     "name": "stderr",
     "output_type": "stream",
     "text": [
      "Epoch 13/50:: 100%|\u001b[34m███████████████████\u001b[0m| 100/100 [00:02<00:00, 49.34batch/s, loss=1.748787]\u001b[0m\n"
     ]
    },
    {
     "name": "stdout",
     "output_type": "stream",
     "text": [
      "\t Loss: 174.879,\tTrain : 37.65%(37.72%),\tTest : 34.78%(37.66%),\tCurrent Time: 20250917-172818\n"
     ]
    },
    {
     "name": "stderr",
     "output_type": "stream",
     "text": [
      "Epoch 14/50:: 100%|\u001b[34m███████████████████\u001b[0m| 100/100 [00:02<00:00, 49.30batch/s, loss=1.726786]\u001b[0m\n"
     ]
    },
    {
     "name": "stdout",
     "output_type": "stream",
     "text": [
      "\t Loss: 172.679,\tTrain : 38.50%(38.50%),\tTest : 36.92%(37.66%),\tCurrent Time: 20250917-172820\n"
     ]
    },
    {
     "name": "stderr",
     "output_type": "stream",
     "text": [
      "Epoch 15/50:: 100%|\u001b[34m███████████████████\u001b[0m| 100/100 [00:02<00:00, 49.42batch/s, loss=1.702183]\u001b[0m\n"
     ]
    },
    {
     "name": "stdout",
     "output_type": "stream",
     "text": [
      "\t Loss: 170.218,\tTrain : 39.35%(39.35%),\tTest : 38.68%(38.68%),\tCurrent Time: 20250917-172822\n"
     ]
    },
    {
     "name": "stderr",
     "output_type": "stream",
     "text": [
      "Epoch 16/50:: 100%|\u001b[34m███████████████████\u001b[0m| 100/100 [00:02<00:00, 49.42batch/s, loss=1.698336]\u001b[0m\n"
     ]
    },
    {
     "name": "stdout",
     "output_type": "stream",
     "text": [
      "\t Loss: 169.834,\tTrain : 39.47%(39.47%),\tTest : 39.08%(39.08%),\tCurrent Time: 20250917-172824\n"
     ]
    },
    {
     "name": "stderr",
     "output_type": "stream",
     "text": [
      "Epoch 17/50:: 100%|\u001b[34m███████████████████\u001b[0m| 100/100 [00:02<00:00, 49.09batch/s, loss=1.677131]\u001b[0m\n"
     ]
    },
    {
     "name": "stdout",
     "output_type": "stream",
     "text": [
      "\t Loss: 167.713,\tTrain : 40.25%(40.25%),\tTest : 37.18%(39.08%),\tCurrent Time: 20250917-172826\n"
     ]
    },
    {
     "name": "stderr",
     "output_type": "stream",
     "text": [
      "Epoch 18/50:: 100%|\u001b[34m███████████████████\u001b[0m| 100/100 [00:02<00:00, 49.56batch/s, loss=1.677226]\u001b[0m\n"
     ]
    },
    {
     "name": "stdout",
     "output_type": "stream",
     "text": [
      "\t Loss: 167.723,\tTrain : 39.96%(40.25%),\tTest : 39.25%(39.25%),\tCurrent Time: 20250917-172829\n"
     ]
    },
    {
     "name": "stderr",
     "output_type": "stream",
     "text": [
      "Epoch 19/50:: 100%|\u001b[34m███████████████████\u001b[0m| 100/100 [00:02<00:00, 49.53batch/s, loss=1.642423]\u001b[0m\n"
     ]
    },
    {
     "name": "stdout",
     "output_type": "stream",
     "text": [
      "\t Loss: 164.242,\tTrain : 41.74%(41.74%),\tTest : 41.45%(41.45%),\tCurrent Time: 20250917-172831\n"
     ]
    },
    {
     "name": "stderr",
     "output_type": "stream",
     "text": [
      "Epoch 20/50:: 100%|\u001b[34m███████████████████\u001b[0m| 100/100 [00:02<00:00, 49.42batch/s, loss=1.634497]\u001b[0m\n"
     ]
    },
    {
     "name": "stdout",
     "output_type": "stream",
     "text": [
      "\t Loss: 163.450,\tTrain : 41.97%(41.97%),\tTest : 40.57%(41.45%),\tCurrent Time: 20250917-172833\n"
     ]
    },
    {
     "name": "stderr",
     "output_type": "stream",
     "text": [
      "Epoch 21/50:: 100%|\u001b[34m███████████████████\u001b[0m| 100/100 [00:02<00:00, 49.57batch/s, loss=1.634237]\u001b[0m\n"
     ]
    },
    {
     "name": "stdout",
     "output_type": "stream",
     "text": [
      "\t Loss: 163.424,\tTrain : 41.92%(41.97%),\tTest : 40.52%(41.45%),\tCurrent Time: 20250917-172835\n"
     ]
    },
    {
     "name": "stderr",
     "output_type": "stream",
     "text": [
      "Epoch 22/50:: 100%|\u001b[34m███████████████████\u001b[0m| 100/100 [00:02<00:00, 49.35batch/s, loss=1.632651]\u001b[0m\n"
     ]
    },
    {
     "name": "stdout",
     "output_type": "stream",
     "text": [
      "\t Loss: 163.265,\tTrain : 41.93%(41.97%),\tTest : 40.97%(41.45%),\tCurrent Time: 20250917-172837\n"
     ]
    },
    {
     "name": "stderr",
     "output_type": "stream",
     "text": [
      "Epoch 23/50:: 100%|\u001b[34m███████████████████\u001b[0m| 100/100 [00:02<00:00, 49.40batch/s, loss=1.604912]\u001b[0m\n"
     ]
    },
    {
     "name": "stdout",
     "output_type": "stream",
     "text": [
      "\t Loss: 160.491,\tTrain : 43.23%(43.23%),\tTest : 42.18%(42.18%),\tCurrent Time: 20250917-172839\n"
     ]
    },
    {
     "name": "stderr",
     "output_type": "stream",
     "text": [
      "Epoch 24/50:: 100%|\u001b[34m███████████████████\u001b[0m| 100/100 [00:02<00:00, 49.38batch/s, loss=1.597588]\u001b[0m\n"
     ]
    },
    {
     "name": "stdout",
     "output_type": "stream",
     "text": [
      "\t Loss: 159.759,\tTrain : 43.63%(43.63%),\tTest : 42.20%(42.20%),\tCurrent Time: 20250917-172841\n"
     ]
    },
    {
     "name": "stderr",
     "output_type": "stream",
     "text": [
      "Epoch 25/50:: 100%|\u001b[34m███████████████████\u001b[0m| 100/100 [00:02<00:00, 49.23batch/s, loss=1.586681]\u001b[0m\n"
     ]
    },
    {
     "name": "stdout",
     "output_type": "stream",
     "text": [
      "\t Loss: 158.668,\tTrain : 43.96%(43.96%),\tTest : 42.33%(42.33%),\tCurrent Time: 20250917-172843\n"
     ]
    },
    {
     "name": "stderr",
     "output_type": "stream",
     "text": [
      "Epoch 26/50:: 100%|\u001b[34m███████████████████\u001b[0m| 100/100 [00:02<00:00, 49.32batch/s, loss=1.579321]\u001b[0m\n"
     ]
    },
    {
     "name": "stdout",
     "output_type": "stream",
     "text": [
      "\t Loss: 157.932,\tTrain : 44.04%(44.04%),\tTest : 43.01%(43.01%),\tCurrent Time: 20250917-172846\n"
     ]
    },
    {
     "name": "stderr",
     "output_type": "stream",
     "text": [
      "Epoch 27/50:: 100%|\u001b[34m███████████████████\u001b[0m| 100/100 [00:02<00:00, 49.43batch/s, loss=1.586216]\u001b[0m\n"
     ]
    },
    {
     "name": "stdout",
     "output_type": "stream",
     "text": [
      "\t Loss: 158.622,\tTrain : 43.89%(44.04%),\tTest : 41.98%(43.01%),\tCurrent Time: 20250917-172848\n"
     ]
    },
    {
     "name": "stderr",
     "output_type": "stream",
     "text": [
      "Epoch 28/50:: 100%|\u001b[34m███████████████████\u001b[0m| 100/100 [00:02<00:00, 49.33batch/s, loss=1.592468]\u001b[0m\n"
     ]
    },
    {
     "name": "stdout",
     "output_type": "stream",
     "text": [
      "\t Loss: 159.247,\tTrain : 43.66%(44.04%),\tTest : 42.73%(43.01%),\tCurrent Time: 20250917-172850\n"
     ]
    },
    {
     "name": "stderr",
     "output_type": "stream",
     "text": [
      "Epoch 29/50:: 100%|\u001b[34m███████████████████\u001b[0m| 100/100 [00:02<00:00, 49.40batch/s, loss=1.558757]\u001b[0m\n"
     ]
    },
    {
     "name": "stdout",
     "output_type": "stream",
     "text": [
      "\t Loss: 155.876,\tTrain : 45.09%(45.09%),\tTest : 41.70%(43.01%),\tCurrent Time: 20250917-172852\n"
     ]
    },
    {
     "name": "stderr",
     "output_type": "stream",
     "text": [
      "Epoch 30/50:: 100%|\u001b[34m███████████████████\u001b[0m| 100/100 [00:02<00:00, 49.33batch/s, loss=1.569112]\u001b[0m\n"
     ]
    },
    {
     "name": "stdout",
     "output_type": "stream",
     "text": [
      "\t Loss: 156.911,\tTrain : 44.92%(45.09%),\tTest : 42.77%(43.01%),\tCurrent Time: 20250917-172854\n"
     ]
    },
    {
     "name": "stderr",
     "output_type": "stream",
     "text": [
      "Epoch 31/50:: 100%|\u001b[34m███████████████████\u001b[0m| 100/100 [00:02<00:00, 49.28batch/s, loss=1.572769]\u001b[0m\n"
     ]
    },
    {
     "name": "stdout",
     "output_type": "stream",
     "text": [
      "\t Loss: 157.277,\tTrain : 44.93%(45.09%),\tTest : 43.17%(43.17%),\tCurrent Time: 20250917-172856\n"
     ]
    },
    {
     "name": "stderr",
     "output_type": "stream",
     "text": [
      "Epoch 32/50:: 100%|\u001b[34m███████████████████\u001b[0m| 100/100 [00:02<00:00, 49.47batch/s, loss=1.551876]\u001b[0m\n"
     ]
    },
    {
     "name": "stdout",
     "output_type": "stream",
     "text": [
      "\t Loss: 155.188,\tTrain : 45.61%(45.61%),\tTest : 43.27%(43.27%),\tCurrent Time: 20250917-172858\n"
     ]
    },
    {
     "name": "stderr",
     "output_type": "stream",
     "text": [
      "Epoch 33/50:: 100%|\u001b[34m███████████████████\u001b[0m| 100/100 [00:02<00:00, 48.85batch/s, loss=1.546531]\u001b[0m\n"
     ]
    },
    {
     "name": "stdout",
     "output_type": "stream",
     "text": [
      "\t Loss: 154.653,\tTrain : 45.81%(45.81%),\tTest : 43.85%(43.85%),\tCurrent Time: 20250917-172900\n"
     ]
    },
    {
     "name": "stderr",
     "output_type": "stream",
     "text": [
      "Epoch 34/50:: 100%|\u001b[34m███████████████████\u001b[0m| 100/100 [00:02<00:00, 49.37batch/s, loss=1.544354]\u001b[0m\n"
     ]
    },
    {
     "name": "stdout",
     "output_type": "stream",
     "text": [
      "\t Loss: 154.435,\tTrain : 46.09%(46.09%),\tTest : 42.93%(43.85%),\tCurrent Time: 20250917-172902\n"
     ]
    },
    {
     "name": "stderr",
     "output_type": "stream",
     "text": [
      "Epoch 35/50:: 100%|\u001b[34m███████████████████\u001b[0m| 100/100 [00:02<00:00, 49.41batch/s, loss=1.543364]\u001b[0m\n"
     ]
    },
    {
     "name": "stdout",
     "output_type": "stream",
     "text": [
      "\t Loss: 154.336,\tTrain : 46.23%(46.23%),\tTest : 43.83%(43.85%),\tCurrent Time: 20250917-172905\n"
     ]
    },
    {
     "name": "stderr",
     "output_type": "stream",
     "text": [
      "Epoch 36/50:: 100%|\u001b[34m███████████████████\u001b[0m| 100/100 [00:02<00:00, 49.26batch/s, loss=1.539170]\u001b[0m\n"
     ]
    },
    {
     "name": "stdout",
     "output_type": "stream",
     "text": [
      "\t Loss: 153.917,\tTrain : 46.46%(46.46%),\tTest : 42.61%(43.85%),\tCurrent Time: 20250917-172907\n"
     ]
    },
    {
     "name": "stderr",
     "output_type": "stream",
     "text": [
      "Epoch 37/50:: 100%|\u001b[34m███████████████████\u001b[0m| 100/100 [00:02<00:00, 49.46batch/s, loss=1.530656]\u001b[0m\n"
     ]
    },
    {
     "name": "stdout",
     "output_type": "stream",
     "text": [
      "\t Loss: 153.066,\tTrain : 46.77%(46.77%),\tTest : 42.76%(43.85%),\tCurrent Time: 20250917-172909\n"
     ]
    },
    {
     "name": "stderr",
     "output_type": "stream",
     "text": [
      "Epoch 38/50:: 100%|\u001b[34m███████████████████\u001b[0m| 100/100 [00:02<00:00, 49.29batch/s, loss=1.533804]\u001b[0m\n"
     ]
    },
    {
     "name": "stdout",
     "output_type": "stream",
     "text": [
      "\t Loss: 153.380,\tTrain : 46.97%(46.97%),\tTest : 42.05%(43.85%),\tCurrent Time: 20250917-172911\n"
     ]
    },
    {
     "name": "stderr",
     "output_type": "stream",
     "text": [
      "Epoch 39/50:: 100%|\u001b[34m███████████████████\u001b[0m| 100/100 [00:02<00:00, 49.22batch/s, loss=1.574584]\u001b[0m\n"
     ]
    },
    {
     "name": "stdout",
     "output_type": "stream",
     "text": [
      "\t Loss: 157.458,\tTrain : 45.41%(46.97%),\tTest : 42.30%(43.85%),\tCurrent Time: 20250917-172913\n"
     ]
    },
    {
     "name": "stderr",
     "output_type": "stream",
     "text": [
      "Epoch 40/50:: 100%|\u001b[34m███████████████████\u001b[0m| 100/100 [00:02<00:00, 49.46batch/s, loss=1.550697]\u001b[0m\n"
     ]
    },
    {
     "name": "stdout",
     "output_type": "stream",
     "text": [
      "\t Loss: 155.070,\tTrain : 46.59%(46.97%),\tTest : 43.38%(43.85%),\tCurrent Time: 20250917-172915\n"
     ]
    },
    {
     "name": "stderr",
     "output_type": "stream",
     "text": [
      "Epoch 41/50:: 100%|\u001b[34m███████████████████\u001b[0m| 100/100 [00:02<00:00, 49.22batch/s, loss=1.542777]\u001b[0m\n"
     ]
    },
    {
     "name": "stdout",
     "output_type": "stream",
     "text": [
      "\t Loss: 154.278,\tTrain : 46.71%(46.97%),\tTest : 43.54%(43.85%),\tCurrent Time: 20250917-172917\n"
     ]
    },
    {
     "name": "stderr",
     "output_type": "stream",
     "text": [
      "Epoch 42/50:: 100%|\u001b[34m███████████████████\u001b[0m| 100/100 [00:02<00:00, 49.35batch/s, loss=1.557032]\u001b[0m\n"
     ]
    },
    {
     "name": "stdout",
     "output_type": "stream",
     "text": [
      "\t Loss: 155.703,\tTrain : 46.49%(46.97%),\tTest : 43.60%(43.85%),\tCurrent Time: 20250917-172919\n"
     ]
    },
    {
     "name": "stderr",
     "output_type": "stream",
     "text": [
      "Epoch 43/50:: 100%|\u001b[34m███████████████████\u001b[0m| 100/100 [00:02<00:00, 49.43batch/s, loss=1.560819]\u001b[0m\n"
     ]
    },
    {
     "name": "stdout",
     "output_type": "stream",
     "text": [
      "\t Loss: 156.082,\tTrain : 46.68%(46.97%),\tTest : 40.73%(43.85%),\tCurrent Time: 20250917-172922\n"
     ]
    },
    {
     "name": "stderr",
     "output_type": "stream",
     "text": [
      "Epoch 44/50:: 100%|\u001b[34m███████████████████\u001b[0m| 100/100 [00:02<00:00, 49.23batch/s, loss=1.566315]\u001b[0m\n"
     ]
    },
    {
     "name": "stdout",
     "output_type": "stream",
     "text": [
      "\t Loss: 156.632,\tTrain : 46.75%(46.97%),\tTest : 42.99%(43.85%),\tCurrent Time: 20250917-172924\n"
     ]
    },
    {
     "name": "stderr",
     "output_type": "stream",
     "text": [
      "Epoch 45/50:: 100%|\u001b[34m███████████████████\u001b[0m| 100/100 [00:02<00:00, 49.37batch/s, loss=1.552545]\u001b[0m\n"
     ]
    },
    {
     "name": "stdout",
     "output_type": "stream",
     "text": [
      "\t Loss: 155.254,\tTrain : 47.46%(47.46%),\tTest : 41.30%(43.85%),\tCurrent Time: 20250917-172926\n"
     ]
    },
    {
     "name": "stderr",
     "output_type": "stream",
     "text": [
      "Epoch 46/50:: 100%|\u001b[34m███████████████████\u001b[0m| 100/100 [00:02<00:00, 49.26batch/s, loss=1.546776]\u001b[0m\n"
     ]
    },
    {
     "name": "stdout",
     "output_type": "stream",
     "text": [
      "\t Loss: 154.678,\tTrain : 47.72%(47.72%),\tTest : 42.07%(43.85%),\tCurrent Time: 20250917-172928\n"
     ]
    },
    {
     "name": "stderr",
     "output_type": "stream",
     "text": [
      "Epoch 47/50:: 100%|\u001b[34m███████████████████\u001b[0m| 100/100 [00:02<00:00, 49.34batch/s, loss=1.546517]\u001b[0m\n"
     ]
    },
    {
     "name": "stdout",
     "output_type": "stream",
     "text": [
      "\t Loss: 154.652,\tTrain : 47.90%(47.90%),\tTest : 44.06%(44.06%),\tCurrent Time: 20250917-172930\n"
     ]
    },
    {
     "name": "stderr",
     "output_type": "stream",
     "text": [
      "Epoch 48/50:: 100%|\u001b[34m███████████████████\u001b[0m| 100/100 [00:02<00:00, 49.34batch/s, loss=1.563653]\u001b[0m\n"
     ]
    },
    {
     "name": "stdout",
     "output_type": "stream",
     "text": [
      "\t Loss: 156.365,\tTrain : 47.52%(47.90%),\tTest : 43.87%(44.06%),\tCurrent Time: 20250917-172932\n"
     ]
    },
    {
     "name": "stderr",
     "output_type": "stream",
     "text": [
      "Epoch 49/50:: 100%|\u001b[34m███████████████████\u001b[0m| 100/100 [00:02<00:00, 49.18batch/s, loss=1.548293]\u001b[0m\n"
     ]
    },
    {
     "name": "stdout",
     "output_type": "stream",
     "text": [
      "\t Loss: 154.829,\tTrain : 48.13%(48.13%),\tTest : 41.82%(44.06%),\tCurrent Time: 20250917-172934\n"
     ]
    },
    {
     "name": "stderr",
     "output_type": "stream",
     "text": [
      "Epoch 50/50:: 100%|\u001b[34m███████████████████\u001b[0m| 100/100 [00:02<00:00, 49.53batch/s, loss=1.591051]\u001b[0m\n"
     ]
    },
    {
     "name": "stdout",
     "output_type": "stream",
     "text": [
      "\t Loss: 159.105,\tTrain : 46.89%(48.13%),\tTest : 42.05%(44.06%),\tCurrent Time: 20250917-172936\n",
      "First_symm_N-HL_Res-EP_L10--CIFAR10_EP_b_sc0.1- Time: 20250917-172936, Epochs: 50, Learning Rate: 0.0002, Best: 48.13%  44.06%\n",
      "\n",
      "[[0 1 0 0 0 0 0 0 0 0 0 0 0 0 0 0 0 0 0 0 0 0]\n",
      " [0 0 1 0 1 0 0 0 0 0 0 0 0 0 0 0 0 0 0 0 0 0]\n",
      " [0 1 0 1 0 0 0 0 0 0 0 0 0 0 0 0 0 0 0 0 0 0]\n",
      " [0 0 1 0 1 0 0 0 0 0 0 0 0 0 0 0 0 0 0 0 0 0]\n",
      " [0 1 0 1 0 1 0 1 0 0 0 0 0 0 0 0 0 0 0 0 0 0]\n",
      " [0 0 0 0 1 0 1 0 0 0 0 0 0 0 0 0 0 0 0 0 0 0]\n",
      " [0 0 0 0 0 1 0 1 0 0 0 0 0 0 0 0 0 0 0 0 0 0]\n",
      " [0 0 0 0 1 0 1 0 1 0 1 0 0 0 0 0 0 0 0 0 0 0]\n",
      " [0 0 0 0 0 0 0 1 0 1 0 0 0 0 0 0 0 0 0 0 0 0]\n",
      " [0 0 0 0 0 0 0 0 1 0 1 0 0 0 0 0 0 0 0 0 0 0]\n",
      " [0 0 0 0 0 0 0 1 0 1 0 1 0 1 0 0 0 0 0 0 0 0]\n",
      " [0 0 0 0 0 0 0 0 0 0 1 0 1 0 0 0 0 0 0 0 0 0]\n",
      " [0 0 0 0 0 0 0 0 0 0 0 1 0 1 0 0 0 0 0 0 0 0]\n",
      " [0 0 0 0 0 0 0 0 0 0 1 0 1 0 1 0 1 0 0 0 0 0]\n",
      " [0 0 0 0 0 0 0 0 0 0 0 0 0 1 0 1 0 0 0 0 0 0]\n",
      " [0 0 0 0 0 0 0 0 0 0 0 0 0 0 1 0 1 0 0 0 0 0]\n",
      " [0 0 0 0 0 0 0 0 0 0 0 0 0 1 0 1 0 1 0 1 0 0]\n",
      " [0 0 0 0 0 0 0 0 0 0 0 0 0 0 0 0 1 0 1 0 0 0]\n",
      " [0 0 0 0 0 0 0 0 0 0 0 0 0 0 0 0 0 1 0 1 0 0]\n",
      " [0 0 0 0 0 0 0 0 0 0 0 0 0 0 0 0 1 0 1 0 1 0]\n",
      " [0 0 0 0 0 0 0 0 0 0 0 0 0 0 0 0 0 0 0 1 0 1]\n",
      " [0 0 0 0 0 0 0 0 0 0 0 0 0 0 0 0 0 0 0 0 1 0]]\n",
      "Files already downloaded and verified\n",
      "First_symm_N-HL_Res-EP_L20--CIFAR10_EP_b_sc0.1-\n"
     ]
    },
    {
     "name": "stderr",
     "output_type": "stream",
     "text": [
      "Epoch 1/50:: 100%|\u001b[34m████████████████████\u001b[0m| 100/100 [00:05<00:00, 17.29batch/s, loss=2.298478]\u001b[0m\n"
     ]
    },
    {
     "name": "stdout",
     "output_type": "stream",
     "text": [
      "\t Loss: 229.848,\tTrain : 13.00%(13.00%),\tTest : 16.66%(16.66%),\tCurrent Time: 20250917-172949\n"
     ]
    },
    {
     "name": "stderr",
     "output_type": "stream",
     "text": [
      "Epoch 2/50:: 100%|\u001b[34m████████████████████\u001b[0m| 100/100 [00:05<00:00, 18.10batch/s, loss=2.133630]\u001b[0m\n"
     ]
    },
    {
     "name": "stdout",
     "output_type": "stream",
     "text": [
      "\t Loss: 213.363,\tTrain : 19.18%(19.18%),\tTest : 23.19%(23.19%),\tCurrent Time: 20250917-172955\n"
     ]
    },
    {
     "name": "stderr",
     "output_type": "stream",
     "text": [
      "Epoch 3/50:: 100%|\u001b[34m████████████████████\u001b[0m| 100/100 [00:05<00:00, 18.09batch/s, loss=2.055239]\u001b[0m\n"
     ]
    },
    {
     "name": "stdout",
     "output_type": "stream",
     "text": [
      "\t Loss: 205.524,\tTrain : 24.29%(24.29%),\tTest : 26.97%(26.97%),\tCurrent Time: 20250917-173001\n"
     ]
    },
    {
     "name": "stderr",
     "output_type": "stream",
     "text": [
      "Epoch 4/50:: 100%|\u001b[34m████████████████████\u001b[0m| 100/100 [00:05<00:00, 18.17batch/s, loss=2.010338]\u001b[0m\n"
     ]
    },
    {
     "name": "stdout",
     "output_type": "stream",
     "text": [
      "\t Loss: 201.034,\tTrain : 26.90%(26.90%),\tTest : 28.11%(28.11%),\tCurrent Time: 20250917-173007\n"
     ]
    },
    {
     "name": "stderr",
     "output_type": "stream",
     "text": [
      "Epoch 5/50:: 100%|\u001b[34m████████████████████\u001b[0m| 100/100 [00:05<00:00, 18.15batch/s, loss=1.957574]\u001b[0m\n"
     ]
    },
    {
     "name": "stdout",
     "output_type": "stream",
     "text": [
      "\t Loss: 195.757,\tTrain : 29.21%(29.21%),\tTest : 31.03%(31.03%),\tCurrent Time: 20250917-173013\n"
     ]
    },
    {
     "name": "stderr",
     "output_type": "stream",
     "text": [
      "Epoch 6/50:: 100%|\u001b[34m████████████████████\u001b[0m| 100/100 [00:05<00:00, 18.12batch/s, loss=1.921271]\u001b[0m\n"
     ]
    },
    {
     "name": "stdout",
     "output_type": "stream",
     "text": [
      "\t Loss: 192.127,\tTrain : 30.64%(30.64%),\tTest : 31.22%(31.22%),\tCurrent Time: 20250917-173019\n"
     ]
    },
    {
     "name": "stderr",
     "output_type": "stream",
     "text": [
      "Epoch 7/50:: 100%|\u001b[34m████████████████████\u001b[0m| 100/100 [00:05<00:00, 18.07batch/s, loss=1.899896]\u001b[0m\n"
     ]
    },
    {
     "name": "stdout",
     "output_type": "stream",
     "text": [
      "\t Loss: 189.990,\tTrain : 31.26%(31.26%),\tTest : 31.86%(31.86%),\tCurrent Time: 20250917-173025\n"
     ]
    },
    {
     "name": "stderr",
     "output_type": "stream",
     "text": [
      "Epoch 8/50:: 100%|\u001b[34m████████████████████\u001b[0m| 100/100 [00:05<00:00, 18.13batch/s, loss=1.880962]\u001b[0m\n"
     ]
    },
    {
     "name": "stdout",
     "output_type": "stream",
     "text": [
      "\t Loss: 188.096,\tTrain : 32.15%(32.15%),\tTest : 33.23%(33.23%),\tCurrent Time: 20250917-173031\n"
     ]
    },
    {
     "name": "stderr",
     "output_type": "stream",
     "text": [
      "Epoch 9/50:: 100%|\u001b[34m████████████████████\u001b[0m| 100/100 [00:05<00:00, 18.11batch/s, loss=1.849040]\u001b[0m\n"
     ]
    },
    {
     "name": "stdout",
     "output_type": "stream",
     "text": [
      "\t Loss: 184.904,\tTrain : 33.50%(33.50%),\tTest : 33.22%(33.23%),\tCurrent Time: 20250917-173037\n"
     ]
    },
    {
     "name": "stderr",
     "output_type": "stream",
     "text": [
      "Epoch 10/50:: 100%|\u001b[34m███████████████████\u001b[0m| 100/100 [00:05<00:00, 18.14batch/s, loss=1.848873]\u001b[0m\n"
     ]
    },
    {
     "name": "stdout",
     "output_type": "stream",
     "text": [
      "\t Loss: 184.887,\tTrain : 33.22%(33.50%),\tTest : 32.96%(33.23%),\tCurrent Time: 20250917-173043\n"
     ]
    },
    {
     "name": "stderr",
     "output_type": "stream",
     "text": [
      "Epoch 11/50:: 100%|\u001b[34m███████████████████\u001b[0m| 100/100 [00:05<00:00, 18.19batch/s, loss=1.827798]\u001b[0m\n"
     ]
    },
    {
     "name": "stdout",
     "output_type": "stream",
     "text": [
      "\t Loss: 182.780,\tTrain : 34.20%(34.20%),\tTest : 34.67%(34.67%),\tCurrent Time: 20250917-173049\n"
     ]
    },
    {
     "name": "stderr",
     "output_type": "stream",
     "text": [
      "Epoch 12/50:: 100%|\u001b[34m███████████████████\u001b[0m| 100/100 [00:05<00:00, 18.08batch/s, loss=1.807655]\u001b[0m\n"
     ]
    },
    {
     "name": "stdout",
     "output_type": "stream",
     "text": [
      "\t Loss: 180.765,\tTrain : 35.47%(35.47%),\tTest : 33.80%(34.67%),\tCurrent Time: 20250917-173055\n"
     ]
    },
    {
     "name": "stderr",
     "output_type": "stream",
     "text": [
      "Epoch 13/50:: 100%|\u001b[34m███████████████████\u001b[0m| 100/100 [00:05<00:00, 18.13batch/s, loss=1.808223]\u001b[0m\n"
     ]
    },
    {
     "name": "stdout",
     "output_type": "stream",
     "text": [
      "\t Loss: 180.822,\tTrain : 35.34%(35.47%),\tTest : 37.32%(37.32%),\tCurrent Time: 20250917-173101\n"
     ]
    },
    {
     "name": "stderr",
     "output_type": "stream",
     "text": [
      "Epoch 14/50:: 100%|\u001b[34m███████████████████\u001b[0m| 100/100 [00:05<00:00, 18.14batch/s, loss=1.781328]\u001b[0m\n"
     ]
    },
    {
     "name": "stdout",
     "output_type": "stream",
     "text": [
      "\t Loss: 178.133,\tTrain : 36.96%(36.96%),\tTest : 37.59%(37.59%),\tCurrent Time: 20250917-173107\n"
     ]
    },
    {
     "name": "stderr",
     "output_type": "stream",
     "text": [
      "Epoch 15/50:: 100%|\u001b[34m███████████████████\u001b[0m| 100/100 [00:05<00:00, 18.08batch/s, loss=1.798559]\u001b[0m\n"
     ]
    },
    {
     "name": "stdout",
     "output_type": "stream",
     "text": [
      "\t Loss: 179.856,\tTrain : 36.40%(36.96%),\tTest : 36.83%(37.59%),\tCurrent Time: 20250917-173113\n"
     ]
    },
    {
     "name": "stderr",
     "output_type": "stream",
     "text": [
      "Epoch 16/50:: 100%|\u001b[34m███████████████████\u001b[0m| 100/100 [00:05<00:00, 18.13batch/s, loss=1.791512]\u001b[0m\n"
     ]
    },
    {
     "name": "stdout",
     "output_type": "stream",
     "text": [
      "\t Loss: 179.151,\tTrain : 37.16%(37.16%),\tTest : 38.18%(38.18%),\tCurrent Time: 20250917-173119\n"
     ]
    },
    {
     "name": "stderr",
     "output_type": "stream",
     "text": [
      "Epoch 17/50:: 100%|\u001b[34m███████████████████\u001b[0m| 100/100 [00:05<00:00, 18.12batch/s, loss=1.773774]\u001b[0m\n"
     ]
    },
    {
     "name": "stdout",
     "output_type": "stream",
     "text": [
      "\t Loss: 177.377,\tTrain : 38.28%(38.28%),\tTest : 39.13%(39.13%),\tCurrent Time: 20250917-173125\n"
     ]
    },
    {
     "name": "stderr",
     "output_type": "stream",
     "text": [
      "Epoch 18/50:: 100%|\u001b[34m███████████████████\u001b[0m| 100/100 [00:05<00:00, 18.12batch/s, loss=1.779277]\u001b[0m\n"
     ]
    },
    {
     "name": "stdout",
     "output_type": "stream",
     "text": [
      "\t Loss: 177.928,\tTrain : 38.48%(38.48%),\tTest : 38.83%(39.13%),\tCurrent Time: 20250917-173131\n"
     ]
    },
    {
     "name": "stderr",
     "output_type": "stream",
     "text": [
      "Epoch 19/50:: 100%|\u001b[34m███████████████████\u001b[0m| 100/100 [00:05<00:00, 18.12batch/s, loss=1.782762]\u001b[0m\n"
     ]
    },
    {
     "name": "stdout",
     "output_type": "stream",
     "text": [
      "\t Loss: 178.276,\tTrain : 39.00%(39.00%),\tTest : 39.35%(39.35%),\tCurrent Time: 20250917-173137\n"
     ]
    },
    {
     "name": "stderr",
     "output_type": "stream",
     "text": [
      "Epoch 20/50:: 100%|\u001b[34m███████████████████\u001b[0m| 100/100 [00:05<00:00, 18.13batch/s, loss=1.774252]\u001b[0m\n"
     ]
    },
    {
     "name": "stdout",
     "output_type": "stream",
     "text": [
      "\t Loss: 177.425,\tTrain : 39.30%(39.30%),\tTest : 39.39%(39.39%),\tCurrent Time: 20250917-173143\n"
     ]
    },
    {
     "name": "stderr",
     "output_type": "stream",
     "text": [
      "Epoch 21/50:: 100%|\u001b[34m███████████████████\u001b[0m| 100/100 [00:05<00:00, 18.06batch/s, loss=1.769260]\u001b[0m\n"
     ]
    },
    {
     "name": "stdout",
     "output_type": "stream",
     "text": [
      "\t Loss: 176.926,\tTrain : 39.65%(39.65%),\tTest : 40.06%(40.06%),\tCurrent Time: 20250917-173149\n"
     ]
    },
    {
     "name": "stderr",
     "output_type": "stream",
     "text": [
      "Epoch 22/50:: 100%|\u001b[34m███████████████████\u001b[0m| 100/100 [00:05<00:00, 18.07batch/s, loss=1.784162]\u001b[0m\n"
     ]
    },
    {
     "name": "stdout",
     "output_type": "stream",
     "text": [
      "\t Loss: 178.416,\tTrain : 39.42%(39.65%),\tTest : 38.06%(40.06%),\tCurrent Time: 20250917-173155\n"
     ]
    },
    {
     "name": "stderr",
     "output_type": "stream",
     "text": [
      "Epoch 23/50:: 100%|\u001b[34m███████████████████\u001b[0m| 100/100 [00:05<00:00, 18.15batch/s, loss=1.777079]\u001b[0m\n"
     ]
    },
    {
     "name": "stdout",
     "output_type": "stream",
     "text": [
      "\t Loss: 177.708,\tTrain : 40.01%(40.01%),\tTest : 40.08%(40.08%),\tCurrent Time: 20250917-173201\n"
     ]
    },
    {
     "name": "stderr",
     "output_type": "stream",
     "text": [
      "Epoch 24/50:: 100%|\u001b[34m███████████████████\u001b[0m| 100/100 [00:05<00:00, 18.10batch/s, loss=1.756440]\u001b[0m\n"
     ]
    },
    {
     "name": "stdout",
     "output_type": "stream",
     "text": [
      "\t Loss: 175.644,\tTrain : 40.91%(40.91%),\tTest : 39.67%(40.08%),\tCurrent Time: 20250917-173207\n"
     ]
    },
    {
     "name": "stderr",
     "output_type": "stream",
     "text": [
      "Epoch 25/50:: 100%|\u001b[34m███████████████████\u001b[0m| 100/100 [00:05<00:00, 18.14batch/s, loss=1.762835]\u001b[0m\n"
     ]
    },
    {
     "name": "stdout",
     "output_type": "stream",
     "text": [
      "\t Loss: 176.284,\tTrain : 40.92%(40.92%),\tTest : 40.92%(40.92%),\tCurrent Time: 20250917-173213\n"
     ]
    },
    {
     "name": "stderr",
     "output_type": "stream",
     "text": [
      "Epoch 26/50:: 100%|\u001b[34m███████████████████\u001b[0m| 100/100 [00:05<00:00, 18.12batch/s, loss=1.766980]\u001b[0m\n"
     ]
    },
    {
     "name": "stdout",
     "output_type": "stream",
     "text": [
      "\t Loss: 176.698,\tTrain : 40.82%(40.92%),\tTest : 40.02%(40.92%),\tCurrent Time: 20250917-173219\n"
     ]
    },
    {
     "name": "stderr",
     "output_type": "stream",
     "text": [
      "Epoch 27/50:: 100%|\u001b[34m███████████████████\u001b[0m| 100/100 [00:05<00:00, 18.18batch/s, loss=1.779936]\u001b[0m\n"
     ]
    },
    {
     "name": "stdout",
     "output_type": "stream",
     "text": [
      "\t Loss: 177.994,\tTrain : 40.87%(40.92%),\tTest : 40.41%(40.92%),\tCurrent Time: 20250917-173225\n"
     ]
    },
    {
     "name": "stderr",
     "output_type": "stream",
     "text": [
      "Epoch 28/50:: 100%|\u001b[34m███████████████████\u001b[0m| 100/100 [00:05<00:00, 18.15batch/s, loss=1.753111]\u001b[0m\n"
     ]
    },
    {
     "name": "stdout",
     "output_type": "stream",
     "text": [
      "\t Loss: 175.311,\tTrain : 41.58%(41.58%),\tTest : 40.76%(40.92%),\tCurrent Time: 20250917-173231\n"
     ]
    },
    {
     "name": "stderr",
     "output_type": "stream",
     "text": [
      "Epoch 29/50:: 100%|\u001b[34m███████████████████\u001b[0m| 100/100 [00:05<00:00, 18.18batch/s, loss=1.758875]\u001b[0m\n"
     ]
    },
    {
     "name": "stdout",
     "output_type": "stream",
     "text": [
      "\t Loss: 175.887,\tTrain : 41.34%(41.58%),\tTest : 40.94%(40.94%),\tCurrent Time: 20250917-173237\n"
     ]
    },
    {
     "name": "stderr",
     "output_type": "stream",
     "text": [
      "Epoch 30/50:: 100%|\u001b[34m███████████████████\u001b[0m| 100/100 [00:05<00:00, 18.14batch/s, loss=1.747432]\u001b[0m\n"
     ]
    },
    {
     "name": "stdout",
     "output_type": "stream",
     "text": [
      "\t Loss: 174.743,\tTrain : 41.89%(41.89%),\tTest : 41.40%(41.40%),\tCurrent Time: 20250917-173243\n"
     ]
    },
    {
     "name": "stderr",
     "output_type": "stream",
     "text": [
      "Epoch 31/50:: 100%|\u001b[34m███████████████████\u001b[0m| 100/100 [00:05<00:00, 18.17batch/s, loss=1.754041]\u001b[0m\n"
     ]
    },
    {
     "name": "stdout",
     "output_type": "stream",
     "text": [
      "\t Loss: 175.404,\tTrain : 41.76%(41.89%),\tTest : 41.67%(41.67%),\tCurrent Time: 20250917-173249\n"
     ]
    },
    {
     "name": "stderr",
     "output_type": "stream",
     "text": [
      "Epoch 32/50:: 100%|\u001b[34m███████████████████\u001b[0m| 100/100 [00:05<00:00, 18.13batch/s, loss=1.744396]\u001b[0m\n"
     ]
    },
    {
     "name": "stdout",
     "output_type": "stream",
     "text": [
      "\t Loss: 174.440,\tTrain : 42.37%(42.37%),\tTest : 41.96%(41.96%),\tCurrent Time: 20250917-173255\n"
     ]
    },
    {
     "name": "stderr",
     "output_type": "stream",
     "text": [
      "Epoch 33/50:: 100%|\u001b[34m███████████████████\u001b[0m| 100/100 [00:05<00:00, 18.10batch/s, loss=1.736623]\u001b[0m\n"
     ]
    },
    {
     "name": "stdout",
     "output_type": "stream",
     "text": [
      "\t Loss: 173.662,\tTrain : 42.60%(42.60%),\tTest : 42.53%(42.53%),\tCurrent Time: 20250917-173301\n"
     ]
    },
    {
     "name": "stderr",
     "output_type": "stream",
     "text": [
      "Epoch 34/50:: 100%|\u001b[34m███████████████████\u001b[0m| 100/100 [00:05<00:00, 18.00batch/s, loss=1.728699]\u001b[0m\n"
     ]
    },
    {
     "name": "stdout",
     "output_type": "stream",
     "text": [
      "\t Loss: 172.870,\tTrain : 42.96%(42.96%),\tTest : 41.64%(42.53%),\tCurrent Time: 20250917-173307\n"
     ]
    },
    {
     "name": "stderr",
     "output_type": "stream",
     "text": [
      "Epoch 35/50:: 100%|\u001b[34m███████████████████\u001b[0m| 100/100 [00:05<00:00, 18.05batch/s, loss=1.731167]\u001b[0m\n"
     ]
    },
    {
     "name": "stdout",
     "output_type": "stream",
     "text": [
      "\t Loss: 173.117,\tTrain : 43.00%(43.00%),\tTest : 41.03%(42.53%),\tCurrent Time: 20250917-173313\n"
     ]
    },
    {
     "name": "stderr",
     "output_type": "stream",
     "text": [
      "Epoch 36/50:: 100%|\u001b[34m███████████████████\u001b[0m| 100/100 [00:05<00:00, 18.08batch/s, loss=1.738257]\u001b[0m\n"
     ]
    },
    {
     "name": "stdout",
     "output_type": "stream",
     "text": [
      "\t Loss: 173.826,\tTrain : 42.93%(43.00%),\tTest : 42.83%(42.83%),\tCurrent Time: 20250917-173319\n"
     ]
    },
    {
     "name": "stderr",
     "output_type": "stream",
     "text": [
      "Epoch 37/50:: 100%|\u001b[34m███████████████████\u001b[0m| 100/100 [00:05<00:00, 18.13batch/s, loss=1.727191]\u001b[0m\n"
     ]
    },
    {
     "name": "stdout",
     "output_type": "stream",
     "text": [
      "\t Loss: 172.719,\tTrain : 43.35%(43.35%),\tTest : 43.00%(43.00%),\tCurrent Time: 20250917-173325\n"
     ]
    },
    {
     "name": "stderr",
     "output_type": "stream",
     "text": [
      "Epoch 38/50:: 100%|\u001b[34m███████████████████\u001b[0m| 100/100 [00:05<00:00, 18.14batch/s, loss=1.735515]\u001b[0m\n"
     ]
    },
    {
     "name": "stdout",
     "output_type": "stream",
     "text": [
      "\t Loss: 173.552,\tTrain : 43.15%(43.35%),\tTest : 42.80%(43.00%),\tCurrent Time: 20250917-173331\n"
     ]
    },
    {
     "name": "stderr",
     "output_type": "stream",
     "text": [
      "Epoch 39/50:: 100%|\u001b[34m███████████████████\u001b[0m| 100/100 [00:05<00:00, 18.13batch/s, loss=1.721543]\u001b[0m\n"
     ]
    },
    {
     "name": "stdout",
     "output_type": "stream",
     "text": [
      "\t Loss: 172.154,\tTrain : 43.75%(43.75%),\tTest : 42.81%(43.00%),\tCurrent Time: 20250917-173338\n"
     ]
    },
    {
     "name": "stderr",
     "output_type": "stream",
     "text": [
      "Epoch 40/50:: 100%|\u001b[34m███████████████████\u001b[0m| 100/100 [00:05<00:00, 18.14batch/s, loss=1.718660]\u001b[0m\n"
     ]
    },
    {
     "name": "stdout",
     "output_type": "stream",
     "text": [
      "\t Loss: 171.866,\tTrain : 44.08%(44.08%),\tTest : 42.71%(43.00%),\tCurrent Time: 20250917-173344\n"
     ]
    },
    {
     "name": "stderr",
     "output_type": "stream",
     "text": [
      "Epoch 41/50:: 100%|\u001b[34m███████████████████\u001b[0m| 100/100 [00:05<00:00, 18.09batch/s, loss=1.717033]\u001b[0m\n"
     ]
    },
    {
     "name": "stdout",
     "output_type": "stream",
     "text": [
      "\t Loss: 171.703,\tTrain : 44.21%(44.21%),\tTest : 42.46%(43.00%),\tCurrent Time: 20250917-173350\n"
     ]
    },
    {
     "name": "stderr",
     "output_type": "stream",
     "text": [
      "Epoch 42/50:: 100%|\u001b[34m███████████████████\u001b[0m| 100/100 [00:05<00:00, 18.15batch/s, loss=1.727821]\u001b[0m\n"
     ]
    },
    {
     "name": "stdout",
     "output_type": "stream",
     "text": [
      "\t Loss: 172.782,\tTrain : 44.30%(44.30%),\tTest : 41.54%(43.00%),\tCurrent Time: 20250917-173356\n"
     ]
    },
    {
     "name": "stderr",
     "output_type": "stream",
     "text": [
      "Epoch 43/50:: 100%|\u001b[34m███████████████████\u001b[0m| 100/100 [00:05<00:00, 18.14batch/s, loss=1.716828]\u001b[0m\n"
     ]
    },
    {
     "name": "stdout",
     "output_type": "stream",
     "text": [
      "\t Loss: 171.683,\tTrain : 44.55%(44.55%),\tTest : 43.45%(43.45%),\tCurrent Time: 20250917-173402\n"
     ]
    },
    {
     "name": "stderr",
     "output_type": "stream",
     "text": [
      "Epoch 44/50:: 100%|\u001b[34m███████████████████\u001b[0m| 100/100 [00:05<00:00, 18.12batch/s, loss=1.710843]\u001b[0m\n"
     ]
    },
    {
     "name": "stdout",
     "output_type": "stream",
     "text": [
      "\t Loss: 171.084,\tTrain : 45.23%(45.23%),\tTest : 43.17%(43.45%),\tCurrent Time: 20250917-173408\n"
     ]
    },
    {
     "name": "stderr",
     "output_type": "stream",
     "text": [
      "Epoch 45/50:: 100%|\u001b[34m███████████████████\u001b[0m| 100/100 [00:05<00:00, 18.11batch/s, loss=1.712420]\u001b[0m\n"
     ]
    },
    {
     "name": "stdout",
     "output_type": "stream",
     "text": [
      "\t Loss: 171.242,\tTrain : 45.31%(45.31%),\tTest : 44.24%(44.24%),\tCurrent Time: 20250917-173414\n"
     ]
    },
    {
     "name": "stderr",
     "output_type": "stream",
     "text": [
      "Epoch 46/50:: 100%|\u001b[34m███████████████████\u001b[0m| 100/100 [00:05<00:00, 18.15batch/s, loss=1.719872]\u001b[0m\n"
     ]
    },
    {
     "name": "stdout",
     "output_type": "stream",
     "text": [
      "\t Loss: 171.987,\tTrain : 45.16%(45.31%),\tTest : 44.03%(44.24%),\tCurrent Time: 20250917-173420\n"
     ]
    },
    {
     "name": "stderr",
     "output_type": "stream",
     "text": [
      "Epoch 47/50:: 100%|\u001b[34m███████████████████\u001b[0m| 100/100 [00:05<00:00, 18.12batch/s, loss=1.708215]\u001b[0m\n"
     ]
    },
    {
     "name": "stdout",
     "output_type": "stream",
     "text": [
      "\t Loss: 170.821,\tTrain : 45.55%(45.55%),\tTest : 44.50%(44.50%),\tCurrent Time: 20250917-173426\n"
     ]
    },
    {
     "name": "stderr",
     "output_type": "stream",
     "text": [
      "Epoch 48/50:: 100%|\u001b[34m███████████████████\u001b[0m| 100/100 [00:05<00:00, 18.12batch/s, loss=1.717727]\u001b[0m\n"
     ]
    },
    {
     "name": "stdout",
     "output_type": "stream",
     "text": [
      "\t Loss: 171.773,\tTrain : 45.49%(45.55%),\tTest : 43.58%(44.50%),\tCurrent Time: 20250917-173432\n"
     ]
    },
    {
     "name": "stderr",
     "output_type": "stream",
     "text": [
      "Epoch 49/50:: 100%|\u001b[34m███████████████████\u001b[0m| 100/100 [00:05<00:00, 18.13batch/s, loss=1.715596]\u001b[0m\n"
     ]
    },
    {
     "name": "stdout",
     "output_type": "stream",
     "text": [
      "\t Loss: 171.560,\tTrain : 45.38%(45.55%),\tTest : 44.32%(44.50%),\tCurrent Time: 20250917-173438\n"
     ]
    },
    {
     "name": "stderr",
     "output_type": "stream",
     "text": [
      "Epoch 50/50:: 100%|\u001b[34m███████████████████\u001b[0m| 100/100 [00:05<00:00, 18.13batch/s, loss=1.726028]\u001b[0m\n"
     ]
    },
    {
     "name": "stdout",
     "output_type": "stream",
     "text": [
      "\t Loss: 172.603,\tTrain : 45.34%(45.55%),\tTest : 42.68%(44.50%),\tCurrent Time: 20250917-173444\n",
      "First_symm_N-HL_Res-EP_L20--CIFAR10_EP_b_sc0.1- Time: 20250917-173444, Epochs: 50, Learning Rate: 0.0002, Best: 45.55%  44.50%\n",
      "\n",
      "[[0 1 0 0 0 0 0 0 0 0 0 0 0 0 0 0 0 0 0 0 0 0]\n",
      " [0 0 1 0 1 0 0 0 0 0 0 0 0 0 0 0 0 0 0 0 0 0]\n",
      " [0 1 0 1 0 0 0 0 0 0 0 0 0 0 0 0 0 0 0 0 0 0]\n",
      " [0 0 1 0 1 0 0 0 0 0 0 0 0 0 0 0 0 0 0 0 0 0]\n",
      " [0 1 0 1 0 1 0 1 0 0 0 0 0 0 0 0 0 0 0 0 0 0]\n",
      " [0 0 0 0 1 0 1 0 0 0 0 0 0 0 0 0 0 0 0 0 0 0]\n",
      " [0 0 0 0 0 1 0 1 0 0 0 0 0 0 0 0 0 0 0 0 0 0]\n",
      " [0 0 0 0 1 0 1 0 1 0 1 0 0 0 0 0 0 0 0 0 0 0]\n",
      " [0 0 0 0 0 0 0 1 0 1 0 0 0 0 0 0 0 0 0 0 0 0]\n",
      " [0 0 0 0 0 0 0 0 1 0 1 0 0 0 0 0 0 0 0 0 0 0]\n",
      " [0 0 0 0 0 0 0 1 0 1 0 1 0 1 0 0 0 0 0 0 0 0]\n",
      " [0 0 0 0 0 0 0 0 0 0 1 0 1 0 0 0 0 0 0 0 0 0]\n",
      " [0 0 0 0 0 0 0 0 0 0 0 1 0 1 0 0 0 0 0 0 0 0]\n",
      " [0 0 0 0 0 0 0 0 0 0 1 0 1 0 1 0 1 0 0 0 0 0]\n",
      " [0 0 0 0 0 0 0 0 0 0 0 0 0 1 0 1 0 0 0 0 0 0]\n",
      " [0 0 0 0 0 0 0 0 0 0 0 0 0 0 1 0 1 0 0 0 0 0]\n",
      " [0 0 0 0 0 0 0 0 0 0 0 0 0 1 0 1 0 1 0 1 0 0]\n",
      " [0 0 0 0 0 0 0 0 0 0 0 0 0 0 0 0 1 0 1 0 0 0]\n",
      " [0 0 0 0 0 0 0 0 0 0 0 0 0 0 0 0 0 1 0 1 0 0]\n",
      " [0 0 0 0 0 0 0 0 0 0 0 0 0 0 0 0 1 0 1 0 1 0]\n",
      " [0 0 0 0 0 0 0 0 0 0 0 0 0 0 0 0 0 0 0 1 0 1]\n",
      " [0 0 0 0 0 0 0 0 0 0 0 0 0 0 0 0 0 0 0 0 1 0]]\n",
      "Files already downloaded and verified\n",
      "First_symm_N-HL_Res-EP_L20--CIFAR10_EP_b_sc0.1-\n"
     ]
    },
    {
     "name": "stderr",
     "output_type": "stream",
     "text": [
      "Epoch 1/50:: 100%|\u001b[34m████████████████████\u001b[0m| 100/100 [00:05<00:00, 17.21batch/s, loss=2.309968]\u001b[0m\n"
     ]
    },
    {
     "name": "stdout",
     "output_type": "stream",
     "text": [
      "\t Loss: 230.997,\tTrain : 12.37%(12.37%),\tTest : 15.20%(15.20%),\tCurrent Time: 20250917-173456\n"
     ]
    },
    {
     "name": "stderr",
     "output_type": "stream",
     "text": [
      "Epoch 2/50:: 100%|\u001b[34m████████████████████\u001b[0m| 100/100 [00:05<00:00, 18.11batch/s, loss=2.213579]\u001b[0m\n"
     ]
    },
    {
     "name": "stdout",
     "output_type": "stream",
     "text": [
      "\t Loss: 221.358,\tTrain : 18.35%(18.35%),\tTest : 21.16%(21.16%),\tCurrent Time: 20250917-173502\n"
     ]
    },
    {
     "name": "stderr",
     "output_type": "stream",
     "text": [
      "Epoch 3/50:: 100%|\u001b[34m████████████████████\u001b[0m| 100/100 [00:05<00:00, 18.11batch/s, loss=2.113130]\u001b[0m\n"
     ]
    },
    {
     "name": "stdout",
     "output_type": "stream",
     "text": [
      "\t Loss: 211.313,\tTrain : 22.92%(22.92%),\tTest : 24.37%(24.37%),\tCurrent Time: 20250917-173508\n"
     ]
    },
    {
     "name": "stderr",
     "output_type": "stream",
     "text": [
      "Epoch 4/50:: 100%|\u001b[34m████████████████████\u001b[0m| 100/100 [00:05<00:00, 18.09batch/s, loss=2.052029]\u001b[0m\n"
     ]
    },
    {
     "name": "stdout",
     "output_type": "stream",
     "text": [
      "\t Loss: 205.203,\tTrain : 25.31%(25.31%),\tTest : 27.97%(27.97%),\tCurrent Time: 20250917-173514\n"
     ]
    },
    {
     "name": "stderr",
     "output_type": "stream",
     "text": [
      "Epoch 5/50:: 100%|\u001b[34m████████████████████\u001b[0m| 100/100 [00:05<00:00, 18.07batch/s, loss=1.986904]\u001b[0m\n"
     ]
    },
    {
     "name": "stdout",
     "output_type": "stream",
     "text": [
      "\t Loss: 198.690,\tTrain : 28.66%(28.66%),\tTest : 28.96%(28.96%),\tCurrent Time: 20250917-173520\n"
     ]
    },
    {
     "name": "stderr",
     "output_type": "stream",
     "text": [
      "Epoch 6/50:: 100%|\u001b[34m████████████████████\u001b[0m| 100/100 [00:05<00:00, 18.13batch/s, loss=1.941666]\u001b[0m\n"
     ]
    },
    {
     "name": "stdout",
     "output_type": "stream",
     "text": [
      "\t Loss: 194.167,\tTrain : 30.29%(30.29%),\tTest : 30.77%(30.77%),\tCurrent Time: 20250917-173526\n"
     ]
    },
    {
     "name": "stderr",
     "output_type": "stream",
     "text": [
      "Epoch 7/50:: 100%|\u001b[34m████████████████████\u001b[0m| 100/100 [00:05<00:00, 18.07batch/s, loss=1.921000]\u001b[0m\n"
     ]
    },
    {
     "name": "stdout",
     "output_type": "stream",
     "text": [
      "\t Loss: 192.100,\tTrain : 31.03%(31.03%),\tTest : 32.70%(32.70%),\tCurrent Time: 20250917-173532\n"
     ]
    },
    {
     "name": "stderr",
     "output_type": "stream",
     "text": [
      "Epoch 8/50:: 100%|\u001b[34m████████████████████\u001b[0m| 100/100 [00:05<00:00, 18.11batch/s, loss=1.891148]\u001b[0m\n"
     ]
    },
    {
     "name": "stdout",
     "output_type": "stream",
     "text": [
      "\t Loss: 189.115,\tTrain : 32.29%(32.29%),\tTest : 32.49%(32.70%),\tCurrent Time: 20250917-173538\n"
     ]
    },
    {
     "name": "stderr",
     "output_type": "stream",
     "text": [
      "Epoch 9/50:: 100%|\u001b[34m████████████████████\u001b[0m| 100/100 [00:05<00:00, 18.11batch/s, loss=1.859931]\u001b[0m\n"
     ]
    },
    {
     "name": "stdout",
     "output_type": "stream",
     "text": [
      "\t Loss: 185.993,\tTrain : 33.40%(33.40%),\tTest : 35.07%(35.07%),\tCurrent Time: 20250917-173544\n"
     ]
    },
    {
     "name": "stderr",
     "output_type": "stream",
     "text": [
      "Epoch 10/50:: 100%|\u001b[34m███████████████████\u001b[0m| 100/100 [00:05<00:00, 18.07batch/s, loss=1.854760]\u001b[0m\n"
     ]
    },
    {
     "name": "stdout",
     "output_type": "stream",
     "text": [
      "\t Loss: 185.476,\tTrain : 33.53%(33.53%),\tTest : 34.31%(35.07%),\tCurrent Time: 20250917-173550\n"
     ]
    },
    {
     "name": "stderr",
     "output_type": "stream",
     "text": [
      "Epoch 11/50:: 100%|\u001b[34m███████████████████\u001b[0m| 100/100 [00:05<00:00, 18.10batch/s, loss=1.833267]\u001b[0m\n"
     ]
    },
    {
     "name": "stdout",
     "output_type": "stream",
     "text": [
      "\t Loss: 183.327,\tTrain : 34.28%(34.28%),\tTest : 34.74%(35.07%),\tCurrent Time: 20250917-173556\n"
     ]
    },
    {
     "name": "stderr",
     "output_type": "stream",
     "text": [
      "Epoch 12/50:: 100%|\u001b[34m███████████████████\u001b[0m| 100/100 [00:05<00:00, 18.15batch/s, loss=1.834951]\u001b[0m\n"
     ]
    },
    {
     "name": "stdout",
     "output_type": "stream",
     "text": [
      "\t Loss: 183.495,\tTrain : 34.55%(34.55%),\tTest : 35.71%(35.71%),\tCurrent Time: 20250917-173602\n"
     ]
    },
    {
     "name": "stderr",
     "output_type": "stream",
     "text": [
      "Epoch 13/50:: 100%|\u001b[34m███████████████████\u001b[0m| 100/100 [00:05<00:00, 18.07batch/s, loss=1.802235]\u001b[0m\n"
     ]
    },
    {
     "name": "stdout",
     "output_type": "stream",
     "text": [
      "\t Loss: 180.224,\tTrain : 35.92%(35.92%),\tTest : 35.15%(35.71%),\tCurrent Time: 20250917-173608\n"
     ]
    },
    {
     "name": "stderr",
     "output_type": "stream",
     "text": [
      "Epoch 14/50:: 100%|\u001b[34m███████████████████\u001b[0m| 100/100 [00:05<00:00, 18.08batch/s, loss=1.808038]\u001b[0m\n"
     ]
    },
    {
     "name": "stdout",
     "output_type": "stream",
     "text": [
      "\t Loss: 180.804,\tTrain : 35.87%(35.92%),\tTest : 36.69%(36.69%),\tCurrent Time: 20250917-173614\n"
     ]
    },
    {
     "name": "stderr",
     "output_type": "stream",
     "text": [
      "Epoch 15/50:: 100%|\u001b[34m███████████████████\u001b[0m| 100/100 [00:05<00:00, 18.10batch/s, loss=1.792379]\u001b[0m\n"
     ]
    },
    {
     "name": "stdout",
     "output_type": "stream",
     "text": [
      "\t Loss: 179.238,\tTrain : 36.97%(36.97%),\tTest : 37.35%(37.35%),\tCurrent Time: 20250917-173621\n"
     ]
    },
    {
     "name": "stderr",
     "output_type": "stream",
     "text": [
      "Epoch 16/50:: 100%|\u001b[34m███████████████████\u001b[0m| 100/100 [00:05<00:00, 18.08batch/s, loss=1.786605]\u001b[0m\n"
     ]
    },
    {
     "name": "stdout",
     "output_type": "stream",
     "text": [
      "\t Loss: 178.660,\tTrain : 37.43%(37.43%),\tTest : 37.57%(37.57%),\tCurrent Time: 20250917-173627\n"
     ]
    },
    {
     "name": "stderr",
     "output_type": "stream",
     "text": [
      "Epoch 17/50:: 100%|\u001b[34m███████████████████\u001b[0m| 100/100 [00:05<00:00, 18.09batch/s, loss=1.772501]\u001b[0m\n"
     ]
    },
    {
     "name": "stdout",
     "output_type": "stream",
     "text": [
      "\t Loss: 177.250,\tTrain : 38.01%(38.01%),\tTest : 38.84%(38.84%),\tCurrent Time: 20250917-173633\n"
     ]
    },
    {
     "name": "stderr",
     "output_type": "stream",
     "text": [
      "Epoch 18/50:: 100%|\u001b[34m███████████████████\u001b[0m| 100/100 [00:05<00:00, 18.09batch/s, loss=1.771743]\u001b[0m\n"
     ]
    },
    {
     "name": "stdout",
     "output_type": "stream",
     "text": [
      "\t Loss: 177.174,\tTrain : 38.46%(38.46%),\tTest : 38.45%(38.84%),\tCurrent Time: 20250917-173639\n"
     ]
    },
    {
     "name": "stderr",
     "output_type": "stream",
     "text": [
      "Epoch 19/50:: 100%|\u001b[34m███████████████████\u001b[0m| 100/100 [00:05<00:00, 18.06batch/s, loss=1.768279]\u001b[0m\n"
     ]
    },
    {
     "name": "stdout",
     "output_type": "stream",
     "text": [
      "\t Loss: 176.828,\tTrain : 38.89%(38.89%),\tTest : 39.10%(39.10%),\tCurrent Time: 20250917-173645\n"
     ]
    },
    {
     "name": "stderr",
     "output_type": "stream",
     "text": [
      "Epoch 20/50:: 100%|\u001b[34m███████████████████\u001b[0m| 100/100 [00:05<00:00, 18.06batch/s, loss=1.765665]\u001b[0m\n"
     ]
    },
    {
     "name": "stdout",
     "output_type": "stream",
     "text": [
      "\t Loss: 176.567,\tTrain : 38.98%(38.98%),\tTest : 39.48%(39.48%),\tCurrent Time: 20250917-173651\n"
     ]
    },
    {
     "name": "stderr",
     "output_type": "stream",
     "text": [
      "Epoch 21/50:: 100%|\u001b[34m███████████████████\u001b[0m| 100/100 [00:05<00:00, 18.15batch/s, loss=1.765854]\u001b[0m\n"
     ]
    },
    {
     "name": "stdout",
     "output_type": "stream",
     "text": [
      "\t Loss: 176.585,\tTrain : 39.07%(39.07%),\tTest : 39.47%(39.48%),\tCurrent Time: 20250917-173657\n"
     ]
    },
    {
     "name": "stderr",
     "output_type": "stream",
     "text": [
      "Epoch 22/50:: 100%|\u001b[34m███████████████████\u001b[0m| 100/100 [00:05<00:00, 18.11batch/s, loss=1.758438]\u001b[0m\n"
     ]
    },
    {
     "name": "stdout",
     "output_type": "stream",
     "text": [
      "\t Loss: 175.844,\tTrain : 39.50%(39.50%),\tTest : 39.16%(39.48%),\tCurrent Time: 20250917-173703\n"
     ]
    },
    {
     "name": "stderr",
     "output_type": "stream",
     "text": [
      "Epoch 23/50:: 100%|\u001b[34m███████████████████\u001b[0m| 100/100 [00:05<00:00, 18.13batch/s, loss=1.781365]\u001b[0m\n"
     ]
    },
    {
     "name": "stdout",
     "output_type": "stream",
     "text": [
      "\t Loss: 178.136,\tTrain : 38.92%(39.50%),\tTest : 38.40%(39.48%),\tCurrent Time: 20250917-173709\n"
     ]
    },
    {
     "name": "stderr",
     "output_type": "stream",
     "text": [
      "Epoch 24/50:: 100%|\u001b[34m███████████████████\u001b[0m| 100/100 [00:05<00:00, 18.14batch/s, loss=1.767403]\u001b[0m\n"
     ]
    },
    {
     "name": "stdout",
     "output_type": "stream",
     "text": [
      "\t Loss: 176.740,\tTrain : 39.54%(39.54%),\tTest : 40.53%(40.53%),\tCurrent Time: 20250917-173715\n"
     ]
    },
    {
     "name": "stderr",
     "output_type": "stream",
     "text": [
      "Epoch 25/50:: 100%|\u001b[34m███████████████████\u001b[0m| 100/100 [00:05<00:00, 18.12batch/s, loss=1.756425]\u001b[0m\n"
     ]
    },
    {
     "name": "stdout",
     "output_type": "stream",
     "text": [
      "\t Loss: 175.642,\tTrain : 40.28%(40.28%),\tTest : 38.82%(40.53%),\tCurrent Time: 20250917-173721\n"
     ]
    },
    {
     "name": "stderr",
     "output_type": "stream",
     "text": [
      "Epoch 26/50:: 100%|\u001b[34m███████████████████\u001b[0m| 100/100 [00:05<00:00, 18.10batch/s, loss=1.758971]\u001b[0m\n"
     ]
    },
    {
     "name": "stdout",
     "output_type": "stream",
     "text": [
      "\t Loss: 175.897,\tTrain : 40.22%(40.28%),\tTest : 39.75%(40.53%),\tCurrent Time: 20250917-173727\n"
     ]
    },
    {
     "name": "stderr",
     "output_type": "stream",
     "text": [
      "Epoch 27/50:: 100%|\u001b[34m███████████████████\u001b[0m| 100/100 [00:05<00:00, 18.11batch/s, loss=1.782649]\u001b[0m\n"
     ]
    },
    {
     "name": "stdout",
     "output_type": "stream",
     "text": [
      "\t Loss: 178.265,\tTrain : 39.89%(40.28%),\tTest : 39.98%(40.53%),\tCurrent Time: 20250917-173733\n"
     ]
    },
    {
     "name": "stderr",
     "output_type": "stream",
     "text": [
      "Epoch 28/50:: 100%|\u001b[34m███████████████████\u001b[0m| 100/100 [00:05<00:00, 18.11batch/s, loss=1.774954]\u001b[0m\n"
     ]
    },
    {
     "name": "stdout",
     "output_type": "stream",
     "text": [
      "\t Loss: 177.495,\tTrain : 40.33%(40.33%),\tTest : 40.65%(40.65%),\tCurrent Time: 20250917-173739\n"
     ]
    },
    {
     "name": "stderr",
     "output_type": "stream",
     "text": [
      "Epoch 29/50:: 100%|\u001b[34m███████████████████\u001b[0m| 100/100 [00:05<00:00, 18.13batch/s, loss=1.770463]\u001b[0m\n"
     ]
    },
    {
     "name": "stdout",
     "output_type": "stream",
     "text": [
      "\t Loss: 177.046,\tTrain : 40.81%(40.81%),\tTest : 41.74%(41.74%),\tCurrent Time: 20250917-173745\n"
     ]
    },
    {
     "name": "stderr",
     "output_type": "stream",
     "text": [
      "Epoch 30/50:: 100%|\u001b[34m███████████████████\u001b[0m| 100/100 [00:05<00:00, 18.10batch/s, loss=1.765741]\u001b[0m\n"
     ]
    },
    {
     "name": "stdout",
     "output_type": "stream",
     "text": [
      "\t Loss: 176.574,\tTrain : 40.98%(40.98%),\tTest : 40.66%(41.74%),\tCurrent Time: 20250917-173751\n"
     ]
    },
    {
     "name": "stderr",
     "output_type": "stream",
     "text": [
      "Epoch 31/50:: 100%|\u001b[34m███████████████████\u001b[0m| 100/100 [00:05<00:00, 18.10batch/s, loss=1.763497]\u001b[0m\n"
     ]
    },
    {
     "name": "stdout",
     "output_type": "stream",
     "text": [
      "\t Loss: 176.350,\tTrain : 41.27%(41.27%),\tTest : 40.52%(41.74%),\tCurrent Time: 20250917-173757\n"
     ]
    },
    {
     "name": "stderr",
     "output_type": "stream",
     "text": [
      "Epoch 32/50:: 100%|\u001b[34m███████████████████\u001b[0m| 100/100 [00:05<00:00, 18.12batch/s, loss=1.788547]\u001b[0m\n"
     ]
    },
    {
     "name": "stdout",
     "output_type": "stream",
     "text": [
      "\t Loss: 178.855,\tTrain : 40.70%(41.27%),\tTest : 41.69%(41.74%),\tCurrent Time: 20250917-173803\n"
     ]
    },
    {
     "name": "stderr",
     "output_type": "stream",
     "text": [
      "Epoch 33/50:: 100%|\u001b[34m███████████████████\u001b[0m| 100/100 [00:05<00:00, 18.15batch/s, loss=1.772825]\u001b[0m\n"
     ]
    },
    {
     "name": "stdout",
     "output_type": "stream",
     "text": [
      "\t Loss: 177.283,\tTrain : 41.60%(41.60%),\tTest : 39.55%(41.74%),\tCurrent Time: 20250917-173809\n"
     ]
    },
    {
     "name": "stderr",
     "output_type": "stream",
     "text": [
      "Epoch 34/50:: 100%|\u001b[34m███████████████████\u001b[0m| 100/100 [00:05<00:00, 18.08batch/s, loss=1.787522]\u001b[0m\n"
     ]
    },
    {
     "name": "stdout",
     "output_type": "stream",
     "text": [
      "\t Loss: 178.752,\tTrain : 41.38%(41.60%),\tTest : 38.31%(41.74%),\tCurrent Time: 20250917-173815\n"
     ]
    },
    {
     "name": "stderr",
     "output_type": "stream",
     "text": [
      "Epoch 35/50:: 100%|\u001b[34m███████████████████\u001b[0m| 100/100 [00:05<00:00, 18.03batch/s, loss=1.809614]\u001b[0m\n"
     ]
    },
    {
     "name": "stdout",
     "output_type": "stream",
     "text": [
      "\t Loss: 180.961,\tTrain : 40.98%(41.60%),\tTest : 37.96%(41.74%),\tCurrent Time: 20250917-173821\n"
     ]
    },
    {
     "name": "stderr",
     "output_type": "stream",
     "text": [
      "Epoch 36/50:: 100%|\u001b[34m███████████████████\u001b[0m| 100/100 [00:05<00:00, 18.12batch/s, loss=1.796342]\u001b[0m\n"
     ]
    },
    {
     "name": "stdout",
     "output_type": "stream",
     "text": [
      "\t Loss: 179.634,\tTrain : 41.47%(41.60%),\tTest : 41.12%(41.74%),\tCurrent Time: 20250917-173827\n"
     ]
    },
    {
     "name": "stderr",
     "output_type": "stream",
     "text": [
      "Epoch 37/50:: 100%|\u001b[34m███████████████████\u001b[0m| 100/100 [00:05<00:00, 18.05batch/s, loss=1.793690]\u001b[0m\n"
     ]
    },
    {
     "name": "stdout",
     "output_type": "stream",
     "text": [
      "\t Loss: 179.369,\tTrain : 41.71%(41.71%),\tTest : 40.39%(41.74%),\tCurrent Time: 20250917-173833\n"
     ]
    },
    {
     "name": "stderr",
     "output_type": "stream",
     "text": [
      "Epoch 38/50:: 100%|\u001b[34m███████████████████\u001b[0m| 100/100 [00:05<00:00, 18.11batch/s, loss=1.810788]\u001b[0m\n"
     ]
    },
    {
     "name": "stdout",
     "output_type": "stream",
     "text": [
      "\t Loss: 181.079,\tTrain : 41.31%(41.71%),\tTest : 41.79%(41.79%),\tCurrent Time: 20250917-173839\n"
     ]
    },
    {
     "name": "stderr",
     "output_type": "stream",
     "text": [
      "Epoch 39/50:: 100%|\u001b[34m███████████████████\u001b[0m| 100/100 [00:05<00:00, 18.09batch/s, loss=1.804004]\u001b[0m\n"
     ]
    },
    {
     "name": "stdout",
     "output_type": "stream",
     "text": [
      "\t Loss: 180.400,\tTrain : 41.80%(41.80%),\tTest : 41.39%(41.79%),\tCurrent Time: 20250917-173845\n"
     ]
    },
    {
     "name": "stderr",
     "output_type": "stream",
     "text": [
      "Epoch 40/50:: 100%|\u001b[34m███████████████████\u001b[0m| 100/100 [00:05<00:00, 18.08batch/s, loss=1.825839]\u001b[0m\n"
     ]
    },
    {
     "name": "stdout",
     "output_type": "stream",
     "text": [
      "\t Loss: 182.584,\tTrain : 41.40%(41.80%),\tTest : 42.01%(42.01%),\tCurrent Time: 20250917-173851\n"
     ]
    },
    {
     "name": "stderr",
     "output_type": "stream",
     "text": [
      "Epoch 41/50:: 100%|\u001b[34m███████████████████\u001b[0m| 100/100 [00:05<00:00, 18.08batch/s, loss=1.785100]\u001b[0m\n"
     ]
    },
    {
     "name": "stdout",
     "output_type": "stream",
     "text": [
      "\t Loss: 178.510,\tTrain : 42.57%(42.57%),\tTest : 41.62%(42.01%),\tCurrent Time: 20250917-173857\n"
     ]
    },
    {
     "name": "stderr",
     "output_type": "stream",
     "text": [
      "Epoch 42/50:: 100%|\u001b[34m███████████████████\u001b[0m| 100/100 [00:05<00:00, 18.10batch/s, loss=1.797152]\u001b[0m\n"
     ]
    },
    {
     "name": "stdout",
     "output_type": "stream",
     "text": [
      "\t Loss: 179.715,\tTrain : 42.70%(42.70%),\tTest : 39.85%(42.01%),\tCurrent Time: 20250917-173903\n"
     ]
    },
    {
     "name": "stderr",
     "output_type": "stream",
     "text": [
      "Epoch 43/50:: 100%|\u001b[34m███████████████████\u001b[0m| 100/100 [00:05<00:00, 18.01batch/s, loss=1.806035]\u001b[0m\n"
     ]
    },
    {
     "name": "stdout",
     "output_type": "stream",
     "text": [
      "\t Loss: 180.604,\tTrain : 42.68%(42.70%),\tTest : 42.18%(42.18%),\tCurrent Time: 20250917-173909\n"
     ]
    },
    {
     "name": "stderr",
     "output_type": "stream",
     "text": [
      "Epoch 44/50:: 100%|\u001b[34m███████████████████\u001b[0m| 100/100 [00:05<00:00, 18.09batch/s, loss=1.829486]\u001b[0m\n"
     ]
    },
    {
     "name": "stdout",
     "output_type": "stream",
     "text": [
      "\t Loss: 182.949,\tTrain : 42.03%(42.70%),\tTest : 42.12%(42.18%),\tCurrent Time: 20250917-173915\n"
     ]
    },
    {
     "name": "stderr",
     "output_type": "stream",
     "text": [
      "Epoch 45/50:: 100%|\u001b[34m███████████████████\u001b[0m| 100/100 [00:05<00:00, 18.10batch/s, loss=1.811387]\u001b[0m\n"
     ]
    },
    {
     "name": "stdout",
     "output_type": "stream",
     "text": [
      "\t Loss: 181.139,\tTrain : 43.06%(43.06%),\tTest : 42.52%(42.52%),\tCurrent Time: 20250917-173921\n"
     ]
    },
    {
     "name": "stderr",
     "output_type": "stream",
     "text": [
      "Epoch 46/50:: 100%|\u001b[34m███████████████████\u001b[0m| 100/100 [00:05<00:00, 18.07batch/s, loss=1.812780]\u001b[0m\n"
     ]
    },
    {
     "name": "stdout",
     "output_type": "stream",
     "text": [
      "\t Loss: 181.278,\tTrain : 43.14%(43.14%),\tTest : 41.68%(42.52%),\tCurrent Time: 20250917-173927\n"
     ]
    },
    {
     "name": "stderr",
     "output_type": "stream",
     "text": [
      "Epoch 47/50:: 100%|\u001b[34m███████████████████\u001b[0m| 100/100 [00:05<00:00, 18.11batch/s, loss=1.812643]\u001b[0m\n"
     ]
    },
    {
     "name": "stdout",
     "output_type": "stream",
     "text": [
      "\t Loss: 181.264,\tTrain : 43.11%(43.14%),\tTest : 42.61%(42.61%),\tCurrent Time: 20250917-173933\n"
     ]
    },
    {
     "name": "stderr",
     "output_type": "stream",
     "text": [
      "Epoch 48/50:: 100%|\u001b[34m███████████████████\u001b[0m| 100/100 [00:05<00:00, 18.10batch/s, loss=1.819764]\u001b[0m\n"
     ]
    },
    {
     "name": "stdout",
     "output_type": "stream",
     "text": [
      "\t Loss: 181.976,\tTrain : 43.14%(43.14%),\tTest : 43.06%(43.06%),\tCurrent Time: 20250917-173939\n"
     ]
    },
    {
     "name": "stderr",
     "output_type": "stream",
     "text": [
      "Epoch 49/50:: 100%|\u001b[34m███████████████████\u001b[0m| 100/100 [00:05<00:00, 18.06batch/s, loss=1.828367]\u001b[0m\n"
     ]
    },
    {
     "name": "stdout",
     "output_type": "stream",
     "text": [
      "\t Loss: 182.837,\tTrain : 42.84%(43.14%),\tTest : 41.38%(43.06%),\tCurrent Time: 20250917-173945\n"
     ]
    },
    {
     "name": "stderr",
     "output_type": "stream",
     "text": [
      "Epoch 50/50:: 100%|\u001b[34m███████████████████\u001b[0m| 100/100 [00:05<00:00, 18.10batch/s, loss=1.823353]\u001b[0m\n"
     ]
    },
    {
     "name": "stdout",
     "output_type": "stream",
     "text": [
      "\t Loss: 182.335,\tTrain : 43.34%(43.34%),\tTest : 42.97%(43.06%),\tCurrent Time: 20250917-173951\n",
      "First_symm_N-HL_Res-EP_L20--CIFAR10_EP_b_sc0.1- Time: 20250917-173951, Epochs: 50, Learning Rate: 0.0002, Best: 43.34%  43.06%\n",
      "\n",
      "[[0 1 0 0 0 0 0 0 0 0 0 0 0 0 0 0 0 0 0 0 0 0]\n",
      " [0 0 1 0 1 0 0 0 0 0 0 0 0 0 0 0 0 0 0 0 0 0]\n",
      " [0 1 0 1 0 0 0 0 0 0 0 0 0 0 0 0 0 0 0 0 0 0]\n",
      " [0 0 1 0 1 0 0 0 0 0 0 0 0 0 0 0 0 0 0 0 0 0]\n",
      " [0 1 0 1 0 1 0 1 0 0 0 0 0 0 0 0 0 0 0 0 0 0]\n",
      " [0 0 0 0 1 0 1 0 0 0 0 0 0 0 0 0 0 0 0 0 0 0]\n",
      " [0 0 0 0 0 1 0 1 0 0 0 0 0 0 0 0 0 0 0 0 0 0]\n",
      " [0 0 0 0 1 0 1 0 1 0 1 0 0 0 0 0 0 0 0 0 0 0]\n",
      " [0 0 0 0 0 0 0 1 0 1 0 0 0 0 0 0 0 0 0 0 0 0]\n",
      " [0 0 0 0 0 0 0 0 1 0 1 0 0 0 0 0 0 0 0 0 0 0]\n",
      " [0 0 0 0 0 0 0 1 0 1 0 1 0 1 0 0 0 0 0 0 0 0]\n",
      " [0 0 0 0 0 0 0 0 0 0 1 0 1 0 0 0 0 0 0 0 0 0]\n",
      " [0 0 0 0 0 0 0 0 0 0 0 1 0 1 0 0 0 0 0 0 0 0]\n",
      " [0 0 0 0 0 0 0 0 0 0 1 0 1 0 1 0 1 0 0 0 0 0]\n",
      " [0 0 0 0 0 0 0 0 0 0 0 0 0 1 0 1 0 0 0 0 0 0]\n",
      " [0 0 0 0 0 0 0 0 0 0 0 0 0 0 1 0 1 0 0 0 0 0]\n",
      " [0 0 0 0 0 0 0 0 0 0 0 0 0 1 0 1 0 1 0 1 0 0]\n",
      " [0 0 0 0 0 0 0 0 0 0 0 0 0 0 0 0 1 0 1 0 0 0]\n",
      " [0 0 0 0 0 0 0 0 0 0 0 0 0 0 0 0 0 1 0 1 0 0]\n",
      " [0 0 0 0 0 0 0 0 0 0 0 0 0 0 0 0 1 0 1 0 1 0]\n",
      " [0 0 0 0 0 0 0 0 0 0 0 0 0 0 0 0 0 0 0 1 0 1]\n",
      " [0 0 0 0 0 0 0 0 0 0 0 0 0 0 0 0 0 0 0 0 1 0]]\n",
      "Files already downloaded and verified\n",
      "First_symm_N-HL_Res-EP_L20--CIFAR10_EP_b_sc0.1-\n"
     ]
    },
    {
     "name": "stderr",
     "output_type": "stream",
     "text": [
      "Epoch 1/50:: 100%|\u001b[34m████████████████████\u001b[0m| 100/100 [00:05<00:00, 17.49batch/s, loss=2.249062]\u001b[0m\n"
     ]
    },
    {
     "name": "stdout",
     "output_type": "stream",
     "text": [
      "\t Loss: 224.906,\tTrain : 15.45%(15.45%),\tTest : 19.63%(19.63%),\tCurrent Time: 20250917-174004\n"
     ]
    },
    {
     "name": "stderr",
     "output_type": "stream",
     "text": [
      "Epoch 2/50:: 100%|\u001b[34m████████████████████\u001b[0m| 100/100 [00:05<00:00, 18.06batch/s, loss=2.095283]\u001b[0m\n"
     ]
    },
    {
     "name": "stdout",
     "output_type": "stream",
     "text": [
      "\t Loss: 209.528,\tTrain : 21.79%(21.79%),\tTest : 24.36%(24.36%),\tCurrent Time: 20250917-174010\n"
     ]
    },
    {
     "name": "stderr",
     "output_type": "stream",
     "text": [
      "Epoch 3/50:: 100%|\u001b[34m████████████████████\u001b[0m| 100/100 [00:05<00:00, 18.05batch/s, loss=2.016550]\u001b[0m\n"
     ]
    },
    {
     "name": "stdout",
     "output_type": "stream",
     "text": [
      "\t Loss: 201.655,\tTrain : 25.38%(25.38%),\tTest : 27.35%(27.35%),\tCurrent Time: 20250917-174016\n"
     ]
    },
    {
     "name": "stderr",
     "output_type": "stream",
     "text": [
      "Epoch 4/50:: 100%|\u001b[34m████████████████████\u001b[0m| 100/100 [00:05<00:00, 18.10batch/s, loss=1.975182]\u001b[0m\n"
     ]
    },
    {
     "name": "stdout",
     "output_type": "stream",
     "text": [
      "\t Loss: 197.518,\tTrain : 27.60%(27.60%),\tTest : 27.55%(27.55%),\tCurrent Time: 20250917-174022\n"
     ]
    },
    {
     "name": "stderr",
     "output_type": "stream",
     "text": [
      "Epoch 5/50:: 100%|\u001b[34m████████████████████\u001b[0m| 100/100 [00:05<00:00, 18.04batch/s, loss=1.938140]\u001b[0m\n"
     ]
    },
    {
     "name": "stdout",
     "output_type": "stream",
     "text": [
      "\t Loss: 193.814,\tTrain : 29.61%(29.61%),\tTest : 30.09%(30.09%),\tCurrent Time: 20250917-174028\n"
     ]
    },
    {
     "name": "stderr",
     "output_type": "stream",
     "text": [
      "Epoch 6/50:: 100%|\u001b[34m████████████████████\u001b[0m| 100/100 [00:05<00:00, 18.08batch/s, loss=1.903150]\u001b[0m\n"
     ]
    },
    {
     "name": "stdout",
     "output_type": "stream",
     "text": [
      "\t Loss: 190.315,\tTrain : 31.33%(31.33%),\tTest : 31.21%(31.21%),\tCurrent Time: 20250917-174034\n"
     ]
    },
    {
     "name": "stderr",
     "output_type": "stream",
     "text": [
      "Epoch 7/50:: 100%|\u001b[34m████████████████████\u001b[0m| 100/100 [00:05<00:00, 18.12batch/s, loss=1.949286]\u001b[0m\n"
     ]
    },
    {
     "name": "stdout",
     "output_type": "stream",
     "text": [
      "\t Loss: 194.929,\tTrain : 30.16%(31.33%),\tTest : 28.96%(31.21%),\tCurrent Time: 20250917-174040\n"
     ]
    },
    {
     "name": "stderr",
     "output_type": "stream",
     "text": [
      "Epoch 8/50:: 100%|\u001b[34m████████████████████\u001b[0m| 100/100 [00:05<00:00, 18.09batch/s, loss=1.865206]\u001b[0m\n"
     ]
    },
    {
     "name": "stdout",
     "output_type": "stream",
     "text": [
      "\t Loss: 186.521,\tTrain : 32.79%(32.79%),\tTest : 33.91%(33.91%),\tCurrent Time: 20250917-174046\n"
     ]
    },
    {
     "name": "stderr",
     "output_type": "stream",
     "text": [
      "Epoch 9/50:: 100%|\u001b[34m████████████████████\u001b[0m| 100/100 [00:05<00:00, 18.09batch/s, loss=1.828403]\u001b[0m\n"
     ]
    },
    {
     "name": "stdout",
     "output_type": "stream",
     "text": [
      "\t Loss: 182.840,\tTrain : 34.14%(34.14%),\tTest : 33.96%(33.96%),\tCurrent Time: 20250917-174052\n"
     ]
    },
    {
     "name": "stderr",
     "output_type": "stream",
     "text": [
      "Epoch 10/50:: 100%|\u001b[34m███████████████████\u001b[0m| 100/100 [00:05<00:00, 18.09batch/s, loss=1.820438]\u001b[0m\n"
     ]
    },
    {
     "name": "stdout",
     "output_type": "stream",
     "text": [
      "\t Loss: 182.044,\tTrain : 34.55%(34.55%),\tTest : 34.08%(34.08%),\tCurrent Time: 20250917-174058\n"
     ]
    },
    {
     "name": "stderr",
     "output_type": "stream",
     "text": [
      "Epoch 11/50:: 100%|\u001b[34m███████████████████\u001b[0m| 100/100 [00:05<00:00, 18.07batch/s, loss=1.804355]\u001b[0m\n"
     ]
    },
    {
     "name": "stdout",
     "output_type": "stream",
     "text": [
      "\t Loss: 180.435,\tTrain : 35.17%(35.17%),\tTest : 36.04%(36.04%),\tCurrent Time: 20250917-174104\n"
     ]
    },
    {
     "name": "stderr",
     "output_type": "stream",
     "text": [
      "Epoch 12/50:: 100%|\u001b[34m███████████████████\u001b[0m| 100/100 [00:05<00:00, 18.10batch/s, loss=1.787909]\u001b[0m\n"
     ]
    },
    {
     "name": "stdout",
     "output_type": "stream",
     "text": [
      "\t Loss: 178.791,\tTrain : 35.71%(35.71%),\tTest : 36.31%(36.31%),\tCurrent Time: 20250917-174110\n"
     ]
    },
    {
     "name": "stderr",
     "output_type": "stream",
     "text": [
      "Epoch 13/50:: 100%|\u001b[34m███████████████████\u001b[0m| 100/100 [00:05<00:00, 18.06batch/s, loss=1.784369]\u001b[0m\n"
     ]
    },
    {
     "name": "stdout",
     "output_type": "stream",
     "text": [
      "\t Loss: 178.437,\tTrain : 36.29%(36.29%),\tTest : 36.66%(36.66%),\tCurrent Time: 20250917-174116\n"
     ]
    },
    {
     "name": "stderr",
     "output_type": "stream",
     "text": [
      "Epoch 14/50:: 100%|\u001b[34m███████████████████\u001b[0m| 100/100 [00:05<00:00, 18.06batch/s, loss=1.756372]\u001b[0m\n"
     ]
    },
    {
     "name": "stdout",
     "output_type": "stream",
     "text": [
      "\t Loss: 175.637,\tTrain : 37.46%(37.46%),\tTest : 37.76%(37.76%),\tCurrent Time: 20250917-174122\n"
     ]
    },
    {
     "name": "stderr",
     "output_type": "stream",
     "text": [
      "Epoch 15/50:: 100%|\u001b[34m███████████████████\u001b[0m| 100/100 [00:05<00:00, 18.11batch/s, loss=1.761100]\u001b[0m\n"
     ]
    },
    {
     "name": "stdout",
     "output_type": "stream",
     "text": [
      "\t Loss: 176.110,\tTrain : 37.61%(37.61%),\tTest : 37.56%(37.76%),\tCurrent Time: 20250917-174128\n"
     ]
    },
    {
     "name": "stderr",
     "output_type": "stream",
     "text": [
      "Epoch 16/50:: 100%|\u001b[34m███████████████████\u001b[0m| 100/100 [00:05<00:00, 18.11batch/s, loss=1.743693]\u001b[0m\n"
     ]
    },
    {
     "name": "stdout",
     "output_type": "stream",
     "text": [
      "\t Loss: 174.369,\tTrain : 38.32%(38.32%),\tTest : 38.31%(38.31%),\tCurrent Time: 20250917-174134\n"
     ]
    },
    {
     "name": "stderr",
     "output_type": "stream",
     "text": [
      "Epoch 17/50:: 100%|\u001b[34m███████████████████\u001b[0m| 100/100 [00:05<00:00, 18.01batch/s, loss=1.756389]\u001b[0m\n"
     ]
    },
    {
     "name": "stdout",
     "output_type": "stream",
     "text": [
      "\t Loss: 175.639,\tTrain : 37.96%(38.32%),\tTest : 33.73%(38.31%),\tCurrent Time: 20250917-174140\n"
     ]
    },
    {
     "name": "stderr",
     "output_type": "stream",
     "text": [
      "Epoch 18/50:: 100%|\u001b[34m███████████████████\u001b[0m| 100/100 [00:05<00:00, 18.10batch/s, loss=1.771954]\u001b[0m\n"
     ]
    },
    {
     "name": "stdout",
     "output_type": "stream",
     "text": [
      "\t Loss: 177.195,\tTrain : 37.39%(38.32%),\tTest : 36.86%(38.31%),\tCurrent Time: 20250917-174146\n"
     ]
    },
    {
     "name": "stderr",
     "output_type": "stream",
     "text": [
      "Epoch 19/50:: 100%|\u001b[34m███████████████████\u001b[0m| 100/100 [00:05<00:00, 18.07batch/s, loss=1.740708]\u001b[0m\n"
     ]
    },
    {
     "name": "stdout",
     "output_type": "stream",
     "text": [
      "\t Loss: 174.071,\tTrain : 38.48%(38.48%),\tTest : 38.30%(38.31%),\tCurrent Time: 20250917-174152\n"
     ]
    },
    {
     "name": "stderr",
     "output_type": "stream",
     "text": [
      "Epoch 20/50:: 100%|\u001b[34m███████████████████\u001b[0m| 100/100 [00:05<00:00, 18.05batch/s, loss=1.756467]\u001b[0m\n"
     ]
    },
    {
     "name": "stdout",
     "output_type": "stream",
     "text": [
      "\t Loss: 175.647,\tTrain : 38.46%(38.48%),\tTest : 38.01%(38.31%),\tCurrent Time: 20250917-174158\n"
     ]
    },
    {
     "name": "stderr",
     "output_type": "stream",
     "text": [
      "Epoch 21/50:: 100%|\u001b[34m███████████████████\u001b[0m| 100/100 [00:05<00:00, 18.04batch/s, loss=1.736386]\u001b[0m\n"
     ]
    },
    {
     "name": "stdout",
     "output_type": "stream",
     "text": [
      "\t Loss: 173.639,\tTrain : 39.31%(39.31%),\tTest : 40.03%(40.03%),\tCurrent Time: 20250917-174204\n"
     ]
    },
    {
     "name": "stderr",
     "output_type": "stream",
     "text": [
      "Epoch 22/50:: 100%|\u001b[34m███████████████████\u001b[0m| 100/100 [00:05<00:00, 18.09batch/s, loss=1.714660]\u001b[0m\n"
     ]
    },
    {
     "name": "stdout",
     "output_type": "stream",
     "text": [
      "\t Loss: 171.466,\tTrain : 40.45%(40.45%),\tTest : 39.80%(40.03%),\tCurrent Time: 20250917-174210\n"
     ]
    },
    {
     "name": "stderr",
     "output_type": "stream",
     "text": [
      "Epoch 23/50:: 100%|\u001b[34m███████████████████\u001b[0m| 100/100 [00:05<00:00, 18.10batch/s, loss=1.719660]\u001b[0m\n"
     ]
    },
    {
     "name": "stdout",
     "output_type": "stream",
     "text": [
      "\t Loss: 171.966,\tTrain : 40.53%(40.53%),\tTest : 40.37%(40.37%),\tCurrent Time: 20250917-174216\n"
     ]
    },
    {
     "name": "stderr",
     "output_type": "stream",
     "text": [
      "Epoch 24/50:: 100%|\u001b[34m███████████████████\u001b[0m| 100/100 [00:05<00:00, 18.09batch/s, loss=1.715908]\u001b[0m\n"
     ]
    },
    {
     "name": "stdout",
     "output_type": "stream",
     "text": [
      "\t Loss: 171.591,\tTrain : 40.97%(40.97%),\tTest : 41.19%(41.19%),\tCurrent Time: 20250917-174222\n"
     ]
    },
    {
     "name": "stderr",
     "output_type": "stream",
     "text": [
      "Epoch 25/50:: 100%|\u001b[34m███████████████████\u001b[0m| 100/100 [00:05<00:00, 18.07batch/s, loss=1.722047]\u001b[0m\n"
     ]
    },
    {
     "name": "stdout",
     "output_type": "stream",
     "text": [
      "\t Loss: 172.205,\tTrain : 40.73%(40.97%),\tTest : 40.69%(41.19%),\tCurrent Time: 20250917-174228\n"
     ]
    },
    {
     "name": "stderr",
     "output_type": "stream",
     "text": [
      "Epoch 26/50:: 100%|\u001b[34m███████████████████\u001b[0m| 100/100 [00:05<00:00, 18.08batch/s, loss=1.752600]\u001b[0m\n"
     ]
    },
    {
     "name": "stdout",
     "output_type": "stream",
     "text": [
      "\t Loss: 175.260,\tTrain : 40.31%(40.97%),\tTest : 41.47%(41.47%),\tCurrent Time: 20250917-174234\n"
     ]
    },
    {
     "name": "stderr",
     "output_type": "stream",
     "text": [
      "Epoch 27/50:: 100%|\u001b[34m███████████████████\u001b[0m| 100/100 [00:05<00:00, 18.08batch/s, loss=1.727088]\u001b[0m\n"
     ]
    },
    {
     "name": "stdout",
     "output_type": "stream",
     "text": [
      "\t Loss: 172.709,\tTrain : 41.05%(41.05%),\tTest : 41.51%(41.51%),\tCurrent Time: 20250917-174240\n"
     ]
    },
    {
     "name": "stderr",
     "output_type": "stream",
     "text": [
      "Epoch 28/50:: 100%|\u001b[34m███████████████████\u001b[0m| 100/100 [00:05<00:00, 18.06batch/s, loss=1.724101]\u001b[0m\n"
     ]
    },
    {
     "name": "stdout",
     "output_type": "stream",
     "text": [
      "\t Loss: 172.410,\tTrain : 41.25%(41.25%),\tTest : 41.66%(41.66%),\tCurrent Time: 20250917-174246\n"
     ]
    },
    {
     "name": "stderr",
     "output_type": "stream",
     "text": [
      "Epoch 29/50:: 100%|\u001b[34m███████████████████\u001b[0m| 100/100 [00:05<00:00, 18.06batch/s, loss=1.720239]\u001b[0m\n"
     ]
    },
    {
     "name": "stdout",
     "output_type": "stream",
     "text": [
      "\t Loss: 172.024,\tTrain : 41.71%(41.71%),\tTest : 41.83%(41.83%),\tCurrent Time: 20250917-174252\n"
     ]
    },
    {
     "name": "stderr",
     "output_type": "stream",
     "text": [
      "Epoch 30/50:: 100%|\u001b[34m███████████████████\u001b[0m| 100/100 [00:05<00:00, 18.04batch/s, loss=1.716454]\u001b[0m\n"
     ]
    },
    {
     "name": "stdout",
     "output_type": "stream",
     "text": [
      "\t Loss: 171.645,\tTrain : 41.89%(41.89%),\tTest : 41.82%(41.83%),\tCurrent Time: 20250917-174259\n"
     ]
    },
    {
     "name": "stderr",
     "output_type": "stream",
     "text": [
      "Epoch 31/50:: 100%|\u001b[34m███████████████████\u001b[0m| 100/100 [00:05<00:00, 18.10batch/s, loss=1.719393]\u001b[0m\n"
     ]
    },
    {
     "name": "stdout",
     "output_type": "stream",
     "text": [
      "\t Loss: 171.939,\tTrain : 42.38%(42.38%),\tTest : 40.77%(41.83%),\tCurrent Time: 20250917-174305\n"
     ]
    },
    {
     "name": "stderr",
     "output_type": "stream",
     "text": [
      "Epoch 32/50:: 100%|\u001b[34m███████████████████\u001b[0m| 100/100 [00:05<00:00, 18.08batch/s, loss=1.718532]\u001b[0m\n"
     ]
    },
    {
     "name": "stdout",
     "output_type": "stream",
     "text": [
      "\t Loss: 171.853,\tTrain : 42.19%(42.38%),\tTest : 41.88%(41.88%),\tCurrent Time: 20250917-174311\n"
     ]
    },
    {
     "name": "stderr",
     "output_type": "stream",
     "text": [
      "Epoch 33/50:: 100%|\u001b[34m███████████████████\u001b[0m| 100/100 [00:05<00:00, 18.06batch/s, loss=1.714908]\u001b[0m\n"
     ]
    },
    {
     "name": "stdout",
     "output_type": "stream",
     "text": [
      "\t Loss: 171.491,\tTrain : 42.88%(42.88%),\tTest : 42.35%(42.35%),\tCurrent Time: 20250917-174317\n"
     ]
    },
    {
     "name": "stderr",
     "output_type": "stream",
     "text": [
      "Epoch 34/50:: 100%|\u001b[34m███████████████████\u001b[0m| 100/100 [00:05<00:00, 18.12batch/s, loss=1.718000]\u001b[0m\n"
     ]
    },
    {
     "name": "stdout",
     "output_type": "stream",
     "text": [
      "\t Loss: 171.800,\tTrain : 42.80%(42.88%),\tTest : 42.80%(42.80%),\tCurrent Time: 20250917-174323\n"
     ]
    },
    {
     "name": "stderr",
     "output_type": "stream",
     "text": [
      "Epoch 35/50:: 100%|\u001b[34m███████████████████\u001b[0m| 100/100 [00:05<00:00, 18.08batch/s, loss=1.719907]\u001b[0m\n"
     ]
    },
    {
     "name": "stdout",
     "output_type": "stream",
     "text": [
      "\t Loss: 171.991,\tTrain : 42.99%(42.99%),\tTest : 42.99%(42.99%),\tCurrent Time: 20250917-174329\n"
     ]
    },
    {
     "name": "stderr",
     "output_type": "stream",
     "text": [
      "Epoch 36/50:: 100%|\u001b[34m███████████████████\u001b[0m| 100/100 [00:05<00:00, 18.10batch/s, loss=1.731090]\u001b[0m\n"
     ]
    },
    {
     "name": "stdout",
     "output_type": "stream",
     "text": [
      "\t Loss: 173.109,\tTrain : 42.66%(42.99%),\tTest : 42.45%(42.99%),\tCurrent Time: 20250917-174335\n"
     ]
    },
    {
     "name": "stderr",
     "output_type": "stream",
     "text": [
      "Epoch 37/50:: 100%|\u001b[34m███████████████████\u001b[0m| 100/100 [00:05<00:00, 18.07batch/s, loss=1.733006]\u001b[0m\n"
     ]
    },
    {
     "name": "stdout",
     "output_type": "stream",
     "text": [
      "\t Loss: 173.301,\tTrain : 42.91%(42.99%),\tTest : 42.66%(42.99%),\tCurrent Time: 20250917-174341\n"
     ]
    },
    {
     "name": "stderr",
     "output_type": "stream",
     "text": [
      "Epoch 38/50:: 100%|\u001b[34m███████████████████\u001b[0m| 100/100 [00:05<00:00, 18.05batch/s, loss=1.720889]\u001b[0m\n"
     ]
    },
    {
     "name": "stdout",
     "output_type": "stream",
     "text": [
      "\t Loss: 172.089,\tTrain : 43.57%(43.57%),\tTest : 42.38%(42.99%),\tCurrent Time: 20250917-174347\n"
     ]
    },
    {
     "name": "stderr",
     "output_type": "stream",
     "text": [
      "Epoch 39/50:: 100%|\u001b[34m███████████████████\u001b[0m| 100/100 [00:05<00:00, 18.08batch/s, loss=1.721326]\u001b[0m\n"
     ]
    },
    {
     "name": "stdout",
     "output_type": "stream",
     "text": [
      "\t Loss: 172.133,\tTrain : 43.57%(43.57%),\tTest : 43.36%(43.36%),\tCurrent Time: 20250917-174353\n"
     ]
    },
    {
     "name": "stderr",
     "output_type": "stream",
     "text": [
      "Epoch 40/50:: 100%|\u001b[34m███████████████████\u001b[0m| 100/100 [00:05<00:00, 18.08batch/s, loss=1.718122]\u001b[0m\n"
     ]
    },
    {
     "name": "stdout",
     "output_type": "stream",
     "text": [
      "\t Loss: 171.812,\tTrain : 43.97%(43.97%),\tTest : 42.79%(43.36%),\tCurrent Time: 20250917-174359\n"
     ]
    },
    {
     "name": "stderr",
     "output_type": "stream",
     "text": [
      "Epoch 41/50:: 100%|\u001b[34m███████████████████\u001b[0m| 100/100 [00:05<00:00, 18.04batch/s, loss=1.735294]\u001b[0m\n"
     ]
    },
    {
     "name": "stdout",
     "output_type": "stream",
     "text": [
      "\t Loss: 173.529,\tTrain : 43.85%(43.97%),\tTest : 43.42%(43.42%),\tCurrent Time: 20250917-174405\n"
     ]
    },
    {
     "name": "stderr",
     "output_type": "stream",
     "text": [
      "Epoch 42/50:: 100%|\u001b[34m███████████████████\u001b[0m| 100/100 [00:05<00:00, 18.07batch/s, loss=1.746293]\u001b[0m\n"
     ]
    },
    {
     "name": "stdout",
     "output_type": "stream",
     "text": [
      "\t Loss: 174.629,\tTrain : 43.61%(43.97%),\tTest : 43.88%(43.88%),\tCurrent Time: 20250917-174411\n"
     ]
    },
    {
     "name": "stderr",
     "output_type": "stream",
     "text": [
      "Epoch 43/50:: 100%|\u001b[34m███████████████████\u001b[0m| 100/100 [00:05<00:00, 18.06batch/s, loss=1.727411]\u001b[0m\n"
     ]
    },
    {
     "name": "stdout",
     "output_type": "stream",
     "text": [
      "\t Loss: 172.741,\tTrain : 44.26%(44.26%),\tTest : 43.53%(43.88%),\tCurrent Time: 20250917-174417\n"
     ]
    },
    {
     "name": "stderr",
     "output_type": "stream",
     "text": [
      "Epoch 44/50:: 100%|\u001b[34m███████████████████\u001b[0m| 100/100 [00:05<00:00, 18.09batch/s, loss=1.724274]\u001b[0m\n"
     ]
    },
    {
     "name": "stdout",
     "output_type": "stream",
     "text": [
      "\t Loss: 172.427,\tTrain : 44.63%(44.63%),\tTest : 43.39%(43.88%),\tCurrent Time: 20250917-174423\n"
     ]
    },
    {
     "name": "stderr",
     "output_type": "stream",
     "text": [
      "Epoch 45/50:: 100%|\u001b[34m███████████████████\u001b[0m| 100/100 [00:05<00:00, 18.06batch/s, loss=1.747596]\u001b[0m\n"
     ]
    },
    {
     "name": "stdout",
     "output_type": "stream",
     "text": [
      "\t Loss: 174.760,\tTrain : 44.30%(44.63%),\tTest : 43.67%(43.88%),\tCurrent Time: 20250917-174429\n"
     ]
    },
    {
     "name": "stderr",
     "output_type": "stream",
     "text": [
      "Epoch 46/50:: 100%|\u001b[34m███████████████████\u001b[0m| 100/100 [00:05<00:00, 18.08batch/s, loss=1.728016]\u001b[0m\n"
     ]
    },
    {
     "name": "stdout",
     "output_type": "stream",
     "text": [
      "\t Loss: 172.802,\tTrain : 44.77%(44.77%),\tTest : 42.54%(43.88%),\tCurrent Time: 20250917-174435\n"
     ]
    },
    {
     "name": "stderr",
     "output_type": "stream",
     "text": [
      "Epoch 47/50:: 100%|\u001b[34m███████████████████\u001b[0m| 100/100 [00:05<00:00, 18.10batch/s, loss=1.728865]\u001b[0m\n"
     ]
    },
    {
     "name": "stdout",
     "output_type": "stream",
     "text": [
      "\t Loss: 172.887,\tTrain : 44.98%(44.98%),\tTest : 44.39%(44.39%),\tCurrent Time: 20250917-174441\n"
     ]
    },
    {
     "name": "stderr",
     "output_type": "stream",
     "text": [
      "Epoch 48/50:: 100%|\u001b[34m███████████████████\u001b[0m| 100/100 [00:05<00:00, 18.07batch/s, loss=1.729398]\u001b[0m\n"
     ]
    },
    {
     "name": "stdout",
     "output_type": "stream",
     "text": [
      "\t Loss: 172.940,\tTrain : 45.16%(45.16%),\tTest : 42.92%(44.39%),\tCurrent Time: 20250917-174447\n"
     ]
    },
    {
     "name": "stderr",
     "output_type": "stream",
     "text": [
      "Epoch 49/50:: 100%|\u001b[34m███████████████████\u001b[0m| 100/100 [00:05<00:00, 18.04batch/s, loss=1.738405]\u001b[0m\n"
     ]
    },
    {
     "name": "stdout",
     "output_type": "stream",
     "text": [
      "\t Loss: 173.840,\tTrain : 45.03%(45.16%),\tTest : 44.18%(44.39%),\tCurrent Time: 20250917-174453\n"
     ]
    },
    {
     "name": "stderr",
     "output_type": "stream",
     "text": [
      "Epoch 50/50:: 100%|\u001b[34m███████████████████\u001b[0m| 100/100 [00:05<00:00, 18.05batch/s, loss=1.740349]\u001b[0m\n"
     ]
    },
    {
     "name": "stdout",
     "output_type": "stream",
     "text": [
      "\t Loss: 174.035,\tTrain : 45.22%(45.22%),\tTest : 44.08%(44.39%),\tCurrent Time: 20250917-174459\n",
      "First_symm_N-HL_Res-EP_L20--CIFAR10_EP_b_sc0.1- Time: 20250917-174459, Epochs: 50, Learning Rate: 0.0002, Best: 45.22%  44.39%\n",
      "\n",
      "[[0 1 0 0 0 0 0 0 0 0 0 0 0 0 0 0 0 0 0 0 0 0]\n",
      " [0 0 1 0 1 0 0 0 0 0 0 0 0 0 0 0 0 0 0 0 0 0]\n",
      " [0 1 0 1 0 0 0 0 0 0 0 0 0 0 0 0 0 0 0 0 0 0]\n",
      " [0 0 1 0 1 0 0 0 0 0 0 0 0 0 0 0 0 0 0 0 0 0]\n",
      " [0 1 0 1 0 1 0 1 0 0 0 0 0 0 0 0 0 0 0 0 0 0]\n",
      " [0 0 0 0 1 0 1 0 0 0 0 0 0 0 0 0 0 0 0 0 0 0]\n",
      " [0 0 0 0 0 1 0 1 0 0 0 0 0 0 0 0 0 0 0 0 0 0]\n",
      " [0 0 0 0 1 0 1 0 1 0 1 0 0 0 0 0 0 0 0 0 0 0]\n",
      " [0 0 0 0 0 0 0 1 0 1 0 0 0 0 0 0 0 0 0 0 0 0]\n",
      " [0 0 0 0 0 0 0 0 1 0 1 0 0 0 0 0 0 0 0 0 0 0]\n",
      " [0 0 0 0 0 0 0 1 0 1 0 1 0 1 0 0 0 0 0 0 0 0]\n",
      " [0 0 0 0 0 0 0 0 0 0 1 0 1 0 0 0 0 0 0 0 0 0]\n",
      " [0 0 0 0 0 0 0 0 0 0 0 1 0 1 0 0 0 0 0 0 0 0]\n",
      " [0 0 0 0 0 0 0 0 0 0 1 0 1 0 1 0 1 0 0 0 0 0]\n",
      " [0 0 0 0 0 0 0 0 0 0 0 0 0 1 0 1 0 0 0 0 0 0]\n",
      " [0 0 0 0 0 0 0 0 0 0 0 0 0 0 1 0 1 0 0 0 0 0]\n",
      " [0 0 0 0 0 0 0 0 0 0 0 0 0 1 0 1 0 1 0 1 0 0]\n",
      " [0 0 0 0 0 0 0 0 0 0 0 0 0 0 0 0 1 0 1 0 0 0]\n",
      " [0 0 0 0 0 0 0 0 0 0 0 0 0 0 0 0 0 1 0 1 0 0]\n",
      " [0 0 0 0 0 0 0 0 0 0 0 0 0 0 0 0 1 0 1 0 1 0]\n",
      " [0 0 0 0 0 0 0 0 0 0 0 0 0 0 0 0 0 0 0 1 0 1]\n",
      " [0 0 0 0 0 0 0 0 0 0 0 0 0 0 0 0 0 0 0 0 1 0]]\n",
      "Files already downloaded and verified\n",
      "First_symm_N-HL_Res-EP_L20--CIFAR10_EP_b_sc0.1-\n"
     ]
    },
    {
     "name": "stderr",
     "output_type": "stream",
     "text": [
      "Epoch 1/50:: 100%|\u001b[34m████████████████████\u001b[0m| 100/100 [00:05<00:00, 17.36batch/s, loss=2.306859]\u001b[0m\n"
     ]
    },
    {
     "name": "stdout",
     "output_type": "stream",
     "text": [
      "\t Loss: 230.686,\tTrain : 12.31%(12.31%),\tTest : 19.33%(19.33%),\tCurrent Time: 20250917-174512\n"
     ]
    },
    {
     "name": "stderr",
     "output_type": "stream",
     "text": [
      "Epoch 2/50:: 100%|\u001b[34m████████████████████\u001b[0m| 100/100 [00:05<00:00, 18.10batch/s, loss=2.148721]\u001b[0m\n"
     ]
    },
    {
     "name": "stdout",
     "output_type": "stream",
     "text": [
      "\t Loss: 214.872,\tTrain : 20.88%(20.88%),\tTest : 23.03%(23.03%),\tCurrent Time: 20250917-174518\n"
     ]
    },
    {
     "name": "stderr",
     "output_type": "stream",
     "text": [
      "Epoch 3/50:: 100%|\u001b[34m████████████████████\u001b[0m| 100/100 [00:05<00:00, 18.13batch/s, loss=2.051669]\u001b[0m\n"
     ]
    },
    {
     "name": "stdout",
     "output_type": "stream",
     "text": [
      "\t Loss: 205.167,\tTrain : 24.60%(24.60%),\tTest : 25.98%(25.98%),\tCurrent Time: 20250917-174524\n"
     ]
    },
    {
     "name": "stderr",
     "output_type": "stream",
     "text": [
      "Epoch 4/50:: 100%|\u001b[34m████████████████████\u001b[0m| 100/100 [00:05<00:00, 18.11batch/s, loss=1.988310]\u001b[0m\n"
     ]
    },
    {
     "name": "stdout",
     "output_type": "stream",
     "text": [
      "\t Loss: 198.831,\tTrain : 27.22%(27.22%),\tTest : 28.29%(28.29%),\tCurrent Time: 20250917-174530\n"
     ]
    },
    {
     "name": "stderr",
     "output_type": "stream",
     "text": [
      "Epoch 5/50:: 100%|\u001b[34m████████████████████\u001b[0m| 100/100 [00:05<00:00, 18.09batch/s, loss=1.934885]\u001b[0m\n"
     ]
    },
    {
     "name": "stdout",
     "output_type": "stream",
     "text": [
      "\t Loss: 193.488,\tTrain : 29.81%(29.81%),\tTest : 30.41%(30.41%),\tCurrent Time: 20250917-174536\n"
     ]
    },
    {
     "name": "stderr",
     "output_type": "stream",
     "text": [
      "Epoch 6/50:: 100%|\u001b[34m████████████████████\u001b[0m| 100/100 [00:05<00:00, 18.13batch/s, loss=1.898478]\u001b[0m\n"
     ]
    },
    {
     "name": "stdout",
     "output_type": "stream",
     "text": [
      "\t Loss: 189.848,\tTrain : 30.56%(30.56%),\tTest : 31.68%(31.68%),\tCurrent Time: 20250917-174542\n"
     ]
    },
    {
     "name": "stderr",
     "output_type": "stream",
     "text": [
      "Epoch 7/50:: 100%|\u001b[34m████████████████████\u001b[0m| 100/100 [00:05<00:00, 18.10batch/s, loss=1.877288]\u001b[0m\n"
     ]
    },
    {
     "name": "stdout",
     "output_type": "stream",
     "text": [
      "\t Loss: 187.729,\tTrain : 31.24%(31.24%),\tTest : 32.08%(32.08%),\tCurrent Time: 20250917-174548\n"
     ]
    },
    {
     "name": "stderr",
     "output_type": "stream",
     "text": [
      "Epoch 8/50:: 100%|\u001b[34m████████████████████\u001b[0m| 100/100 [00:05<00:00, 18.09batch/s, loss=1.851990]\u001b[0m\n"
     ]
    },
    {
     "name": "stdout",
     "output_type": "stream",
     "text": [
      "\t Loss: 185.199,\tTrain : 32.16%(32.16%),\tTest : 32.20%(32.20%),\tCurrent Time: 20250917-174554\n"
     ]
    },
    {
     "name": "stderr",
     "output_type": "stream",
     "text": [
      "Epoch 9/50:: 100%|\u001b[34m████████████████████\u001b[0m| 100/100 [00:05<00:00, 18.08batch/s, loss=1.826694]\u001b[0m\n"
     ]
    },
    {
     "name": "stdout",
     "output_type": "stream",
     "text": [
      "\t Loss: 182.669,\tTrain : 32.92%(32.92%),\tTest : 34.12%(34.12%),\tCurrent Time: 20250917-174600\n"
     ]
    },
    {
     "name": "stderr",
     "output_type": "stream",
     "text": [
      "Epoch 10/50:: 100%|\u001b[34m███████████████████\u001b[0m| 100/100 [00:05<00:00, 18.12batch/s, loss=1.814914]\u001b[0m\n"
     ]
    },
    {
     "name": "stdout",
     "output_type": "stream",
     "text": [
      "\t Loss: 181.491,\tTrain : 33.78%(33.78%),\tTest : 34.14%(34.14%),\tCurrent Time: 20250917-174606\n"
     ]
    },
    {
     "name": "stderr",
     "output_type": "stream",
     "text": [
      "Epoch 11/50:: 100%|\u001b[34m███████████████████\u001b[0m| 100/100 [00:05<00:00, 18.12batch/s, loss=1.799239]\u001b[0m\n"
     ]
    },
    {
     "name": "stdout",
     "output_type": "stream",
     "text": [
      "\t Loss: 179.924,\tTrain : 34.19%(34.19%),\tTest : 35.59%(35.59%),\tCurrent Time: 20250917-174612\n"
     ]
    },
    {
     "name": "stderr",
     "output_type": "stream",
     "text": [
      "Epoch 12/50:: 100%|\u001b[34m███████████████████\u001b[0m| 100/100 [00:05<00:00, 18.10batch/s, loss=1.783398]\u001b[0m\n"
     ]
    },
    {
     "name": "stdout",
     "output_type": "stream",
     "text": [
      "\t Loss: 178.340,\tTrain : 34.77%(34.77%),\tTest : 34.91%(35.59%),\tCurrent Time: 20250917-174618\n"
     ]
    },
    {
     "name": "stderr",
     "output_type": "stream",
     "text": [
      "Epoch 13/50:: 100%|\u001b[34m███████████████████\u001b[0m| 100/100 [00:05<00:00, 18.09batch/s, loss=1.770472]\u001b[0m\n"
     ]
    },
    {
     "name": "stdout",
     "output_type": "stream",
     "text": [
      "\t Loss: 177.047,\tTrain : 35.44%(35.44%),\tTest : 35.73%(35.73%),\tCurrent Time: 20250917-174624\n"
     ]
    },
    {
     "name": "stderr",
     "output_type": "stream",
     "text": [
      "Epoch 14/50:: 100%|\u001b[34m███████████████████\u001b[0m| 100/100 [00:05<00:00, 18.07batch/s, loss=1.760951]\u001b[0m\n"
     ]
    },
    {
     "name": "stdout",
     "output_type": "stream",
     "text": [
      "\t Loss: 176.095,\tTrain : 35.95%(35.95%),\tTest : 36.41%(36.41%),\tCurrent Time: 20250917-174630\n"
     ]
    },
    {
     "name": "stderr",
     "output_type": "stream",
     "text": [
      "Epoch 15/50:: 100%|\u001b[34m███████████████████\u001b[0m| 100/100 [00:05<00:00, 18.11batch/s, loss=1.742161]\u001b[0m\n"
     ]
    },
    {
     "name": "stdout",
     "output_type": "stream",
     "text": [
      "\t Loss: 174.216,\tTrain : 37.09%(37.09%),\tTest : 36.87%(36.87%),\tCurrent Time: 20250917-174636\n"
     ]
    },
    {
     "name": "stderr",
     "output_type": "stream",
     "text": [
      "Epoch 16/50:: 100%|\u001b[34m███████████████████\u001b[0m| 100/100 [00:05<00:00, 18.15batch/s, loss=1.730471]\u001b[0m\n"
     ]
    },
    {
     "name": "stdout",
     "output_type": "stream",
     "text": [
      "\t Loss: 173.047,\tTrain : 37.68%(37.68%),\tTest : 37.29%(37.29%),\tCurrent Time: 20250917-174642\n"
     ]
    },
    {
     "name": "stderr",
     "output_type": "stream",
     "text": [
      "Epoch 17/50:: 100%|\u001b[34m███████████████████\u001b[0m| 100/100 [00:05<00:00, 18.07batch/s, loss=1.721727]\u001b[0m\n"
     ]
    },
    {
     "name": "stdout",
     "output_type": "stream",
     "text": [
      "\t Loss: 172.173,\tTrain : 38.12%(38.12%),\tTest : 38.47%(38.47%),\tCurrent Time: 20250917-174648\n"
     ]
    },
    {
     "name": "stderr",
     "output_type": "stream",
     "text": [
      "Epoch 18/50:: 100%|\u001b[34m███████████████████\u001b[0m| 100/100 [00:05<00:00, 18.03batch/s, loss=1.712876]\u001b[0m\n"
     ]
    },
    {
     "name": "stdout",
     "output_type": "stream",
     "text": [
      "\t Loss: 171.288,\tTrain : 38.65%(38.65%),\tTest : 37.65%(38.47%),\tCurrent Time: 20250917-174654\n"
     ]
    },
    {
     "name": "stderr",
     "output_type": "stream",
     "text": [
      "Epoch 19/50:: 100%|\u001b[34m███████████████████\u001b[0m| 100/100 [00:05<00:00, 18.06batch/s, loss=1.713490]\u001b[0m\n"
     ]
    },
    {
     "name": "stdout",
     "output_type": "stream",
     "text": [
      "\t Loss: 171.349,\tTrain : 39.01%(39.01%),\tTest : 39.30%(39.30%),\tCurrent Time: 20250917-174700\n"
     ]
    },
    {
     "name": "stderr",
     "output_type": "stream",
     "text": [
      "Epoch 20/50:: 100%|\u001b[34m███████████████████\u001b[0m| 100/100 [00:05<00:00, 18.11batch/s, loss=1.702815]\u001b[0m\n"
     ]
    },
    {
     "name": "stdout",
     "output_type": "stream",
     "text": [
      "\t Loss: 170.282,\tTrain : 39.45%(39.45%),\tTest : 39.52%(39.52%),\tCurrent Time: 20250917-174706\n"
     ]
    },
    {
     "name": "stderr",
     "output_type": "stream",
     "text": [
      "Epoch 21/50:: 100%|\u001b[34m███████████████████\u001b[0m| 100/100 [00:05<00:00, 18.11batch/s, loss=1.706599]\u001b[0m\n"
     ]
    },
    {
     "name": "stdout",
     "output_type": "stream",
     "text": [
      "\t Loss: 170.660,\tTrain : 39.64%(39.64%),\tTest : 40.07%(40.07%),\tCurrent Time: 20250917-174712\n"
     ]
    },
    {
     "name": "stderr",
     "output_type": "stream",
     "text": [
      "Epoch 22/50:: 100%|\u001b[34m███████████████████\u001b[0m| 100/100 [00:05<00:00, 18.08batch/s, loss=1.704797]\u001b[0m\n"
     ]
    },
    {
     "name": "stdout",
     "output_type": "stream",
     "text": [
      "\t Loss: 170.480,\tTrain : 40.02%(40.02%),\tTest : 39.21%(40.07%),\tCurrent Time: 20250917-174718\n"
     ]
    },
    {
     "name": "stderr",
     "output_type": "stream",
     "text": [
      "Epoch 23/50:: 100%|\u001b[34m███████████████████\u001b[0m| 100/100 [00:05<00:00, 18.11batch/s, loss=1.710252]\u001b[0m\n"
     ]
    },
    {
     "name": "stdout",
     "output_type": "stream",
     "text": [
      "\t Loss: 171.025,\tTrain : 40.24%(40.24%),\tTest : 40.43%(40.43%),\tCurrent Time: 20250917-174724\n"
     ]
    },
    {
     "name": "stderr",
     "output_type": "stream",
     "text": [
      "Epoch 24/50:: 100%|\u001b[34m███████████████████\u001b[0m| 100/100 [00:05<00:00, 18.11batch/s, loss=1.701289]\u001b[0m\n"
     ]
    },
    {
     "name": "stdout",
     "output_type": "stream",
     "text": [
      "\t Loss: 170.129,\tTrain : 40.86%(40.86%),\tTest : 40.20%(40.43%),\tCurrent Time: 20250917-174730\n"
     ]
    },
    {
     "name": "stderr",
     "output_type": "stream",
     "text": [
      "Epoch 25/50:: 100%|\u001b[34m███████████████████\u001b[0m| 100/100 [00:05<00:00, 18.10batch/s, loss=1.710369]\u001b[0m\n"
     ]
    },
    {
     "name": "stdout",
     "output_type": "stream",
     "text": [
      "\t Loss: 171.037,\tTrain : 40.65%(40.86%),\tTest : 40.60%(40.60%),\tCurrent Time: 20250917-174736\n"
     ]
    },
    {
     "name": "stderr",
     "output_type": "stream",
     "text": [
      "Epoch 26/50:: 100%|\u001b[34m███████████████████\u001b[0m| 100/100 [00:05<00:00, 18.12batch/s, loss=1.721976]\u001b[0m\n"
     ]
    },
    {
     "name": "stdout",
     "output_type": "stream",
     "text": [
      "\t Loss: 172.198,\tTrain : 40.62%(40.86%),\tTest : 40.68%(40.68%),\tCurrent Time: 20250917-174742\n"
     ]
    },
    {
     "name": "stderr",
     "output_type": "stream",
     "text": [
      "Epoch 27/50:: 100%|\u001b[34m███████████████████\u001b[0m| 100/100 [00:05<00:00, 18.07batch/s, loss=1.712958]\u001b[0m\n"
     ]
    },
    {
     "name": "stdout",
     "output_type": "stream",
     "text": [
      "\t Loss: 171.296,\tTrain : 41.26%(41.26%),\tTest : 40.74%(40.74%),\tCurrent Time: 20250917-174748\n"
     ]
    },
    {
     "name": "stderr",
     "output_type": "stream",
     "text": [
      "Epoch 28/50:: 100%|\u001b[34m███████████████████\u001b[0m| 100/100 [00:05<00:00, 18.07batch/s, loss=1.711176]\u001b[0m\n"
     ]
    },
    {
     "name": "stdout",
     "output_type": "stream",
     "text": [
      "\t Loss: 171.118,\tTrain : 41.74%(41.74%),\tTest : 40.90%(40.90%),\tCurrent Time: 20250917-174754\n"
     ]
    },
    {
     "name": "stderr",
     "output_type": "stream",
     "text": [
      "Epoch 29/50:: 100%|\u001b[34m███████████████████\u001b[0m| 100/100 [00:05<00:00, 18.06batch/s, loss=1.711306]\u001b[0m\n"
     ]
    },
    {
     "name": "stdout",
     "output_type": "stream",
     "text": [
      "\t Loss: 171.131,\tTrain : 42.12%(42.12%),\tTest : 40.28%(40.90%),\tCurrent Time: 20250917-174800\n"
     ]
    },
    {
     "name": "stderr",
     "output_type": "stream",
     "text": [
      "Epoch 30/50:: 100%|\u001b[34m███████████████████\u001b[0m| 100/100 [00:05<00:00, 18.11batch/s, loss=1.723831]\u001b[0m\n"
     ]
    },
    {
     "name": "stdout",
     "output_type": "stream",
     "text": [
      "\t Loss: 172.383,\tTrain : 42.23%(42.23%),\tTest : 40.41%(40.90%),\tCurrent Time: 20250917-174806\n"
     ]
    },
    {
     "name": "stderr",
     "output_type": "stream",
     "text": [
      "Epoch 31/50:: 100%|\u001b[34m███████████████████\u001b[0m| 100/100 [00:05<00:00, 18.08batch/s, loss=1.718271]\u001b[0m\n"
     ]
    },
    {
     "name": "stdout",
     "output_type": "stream",
     "text": [
      "\t Loss: 171.827,\tTrain : 42.50%(42.50%),\tTest : 42.05%(42.05%),\tCurrent Time: 20250917-174812\n"
     ]
    },
    {
     "name": "stderr",
     "output_type": "stream",
     "text": [
      "Epoch 32/50:: 100%|\u001b[34m███████████████████\u001b[0m| 100/100 [00:05<00:00, 18.12batch/s, loss=1.726022]\u001b[0m\n"
     ]
    },
    {
     "name": "stdout",
     "output_type": "stream",
     "text": [
      "\t Loss: 172.602,\tTrain : 42.29%(42.50%),\tTest : 40.94%(42.05%),\tCurrent Time: 20250917-174819\n"
     ]
    },
    {
     "name": "stderr",
     "output_type": "stream",
     "text": [
      "Epoch 33/50:: 100%|\u001b[34m███████████████████\u001b[0m| 100/100 [00:05<00:00, 18.11batch/s, loss=1.723291]\u001b[0m\n"
     ]
    },
    {
     "name": "stdout",
     "output_type": "stream",
     "text": [
      "\t Loss: 172.329,\tTrain : 42.83%(42.83%),\tTest : 40.88%(42.05%),\tCurrent Time: 20250917-174825\n"
     ]
    },
    {
     "name": "stderr",
     "output_type": "stream",
     "text": [
      "Epoch 34/50:: 100%|\u001b[34m███████████████████\u001b[0m| 100/100 [00:05<00:00, 18.09batch/s, loss=1.731009]\u001b[0m\n"
     ]
    },
    {
     "name": "stdout",
     "output_type": "stream",
     "text": [
      "\t Loss: 173.101,\tTrain : 42.71%(42.83%),\tTest : 42.09%(42.09%),\tCurrent Time: 20250917-174831\n"
     ]
    },
    {
     "name": "stderr",
     "output_type": "stream",
     "text": [
      "Epoch 35/50:: 100%|\u001b[34m███████████████████\u001b[0m| 100/100 [00:05<00:00, 18.10batch/s, loss=1.720269]\u001b[0m\n"
     ]
    },
    {
     "name": "stdout",
     "output_type": "stream",
     "text": [
      "\t Loss: 172.027,\tTrain : 43.19%(43.19%),\tTest : 42.39%(42.39%),\tCurrent Time: 20250917-174837\n"
     ]
    },
    {
     "name": "stderr",
     "output_type": "stream",
     "text": [
      "Epoch 36/50:: 100%|\u001b[34m███████████████████\u001b[0m| 100/100 [00:05<00:00, 18.09batch/s, loss=1.721074]\u001b[0m\n"
     ]
    },
    {
     "name": "stdout",
     "output_type": "stream",
     "text": [
      "\t Loss: 172.107,\tTrain : 43.50%(43.50%),\tTest : 43.05%(43.05%),\tCurrent Time: 20250917-174843\n"
     ]
    },
    {
     "name": "stderr",
     "output_type": "stream",
     "text": [
      "Epoch 37/50:: 100%|\u001b[34m███████████████████\u001b[0m| 100/100 [00:05<00:00, 18.09batch/s, loss=1.723674]\u001b[0m\n"
     ]
    },
    {
     "name": "stdout",
     "output_type": "stream",
     "text": [
      "\t Loss: 172.367,\tTrain : 43.57%(43.57%),\tTest : 42.54%(43.05%),\tCurrent Time: 20250917-174849\n"
     ]
    },
    {
     "name": "stderr",
     "output_type": "stream",
     "text": [
      "Epoch 38/50:: 100%|\u001b[34m███████████████████\u001b[0m| 100/100 [00:05<00:00, 18.04batch/s, loss=1.719444]\u001b[0m\n"
     ]
    },
    {
     "name": "stdout",
     "output_type": "stream",
     "text": [
      "\t Loss: 171.944,\tTrain : 43.86%(43.86%),\tTest : 43.21%(43.21%),\tCurrent Time: 20250917-174855\n"
     ]
    },
    {
     "name": "stderr",
     "output_type": "stream",
     "text": [
      "Epoch 39/50:: 100%|\u001b[34m███████████████████\u001b[0m| 100/100 [00:05<00:00, 18.12batch/s, loss=1.725027]\u001b[0m\n"
     ]
    },
    {
     "name": "stdout",
     "output_type": "stream",
     "text": [
      "\t Loss: 172.503,\tTrain : 43.98%(43.98%),\tTest : 43.07%(43.21%),\tCurrent Time: 20250917-174901\n"
     ]
    },
    {
     "name": "stderr",
     "output_type": "stream",
     "text": [
      "Epoch 40/50:: 100%|\u001b[34m███████████████████\u001b[0m| 100/100 [00:05<00:00, 18.06batch/s, loss=1.735856]\u001b[0m\n"
     ]
    },
    {
     "name": "stdout",
     "output_type": "stream",
     "text": [
      "\t Loss: 173.586,\tTrain : 44.20%(44.20%),\tTest : 42.41%(43.21%),\tCurrent Time: 20250917-174907\n"
     ]
    },
    {
     "name": "stderr",
     "output_type": "stream",
     "text": [
      "Epoch 41/50:: 100%|\u001b[34m███████████████████\u001b[0m| 100/100 [00:05<00:00, 18.11batch/s, loss=1.730259]\u001b[0m\n"
     ]
    },
    {
     "name": "stdout",
     "output_type": "stream",
     "text": [
      "\t Loss: 173.026,\tTrain : 44.20%(44.20%),\tTest : 43.17%(43.21%),\tCurrent Time: 20250917-174913\n"
     ]
    },
    {
     "name": "stderr",
     "output_type": "stream",
     "text": [
      "Epoch 42/50:: 100%|\u001b[34m███████████████████\u001b[0m| 100/100 [00:05<00:00, 18.13batch/s, loss=1.734085]\u001b[0m\n"
     ]
    },
    {
     "name": "stdout",
     "output_type": "stream",
     "text": [
      "\t Loss: 173.409,\tTrain : 44.55%(44.55%),\tTest : 41.82%(43.21%),\tCurrent Time: 20250917-174919\n"
     ]
    },
    {
     "name": "stderr",
     "output_type": "stream",
     "text": [
      "Epoch 43/50:: 100%|\u001b[34m███████████████████\u001b[0m| 100/100 [00:05<00:00, 18.09batch/s, loss=1.736492]\u001b[0m\n"
     ]
    },
    {
     "name": "stdout",
     "output_type": "stream",
     "text": [
      "\t Loss: 173.649,\tTrain : 44.57%(44.57%),\tTest : 43.53%(43.53%),\tCurrent Time: 20250917-174925\n"
     ]
    },
    {
     "name": "stderr",
     "output_type": "stream",
     "text": [
      "Epoch 44/50:: 100%|\u001b[34m███████████████████\u001b[0m| 100/100 [00:05<00:00, 18.09batch/s, loss=1.754642]\u001b[0m\n"
     ]
    },
    {
     "name": "stdout",
     "output_type": "stream",
     "text": [
      "\t Loss: 175.464,\tTrain : 44.10%(44.57%),\tTest : 43.55%(43.55%),\tCurrent Time: 20250917-174931\n"
     ]
    },
    {
     "name": "stderr",
     "output_type": "stream",
     "text": [
      "Epoch 45/50:: 100%|\u001b[34m███████████████████\u001b[0m| 100/100 [00:05<00:00, 18.09batch/s, loss=1.752518]\u001b[0m\n"
     ]
    },
    {
     "name": "stdout",
     "output_type": "stream",
     "text": [
      "\t Loss: 175.252,\tTrain : 44.44%(44.57%),\tTest : 43.32%(43.55%),\tCurrent Time: 20250917-174937\n"
     ]
    },
    {
     "name": "stderr",
     "output_type": "stream",
     "text": [
      "Epoch 46/50:: 100%|\u001b[34m███████████████████\u001b[0m| 100/100 [00:05<00:00, 18.13batch/s, loss=1.754067]\u001b[0m\n"
     ]
    },
    {
     "name": "stdout",
     "output_type": "stream",
     "text": [
      "\t Loss: 175.407,\tTrain : 44.71%(44.71%),\tTest : 43.49%(43.55%),\tCurrent Time: 20250917-174943\n"
     ]
    },
    {
     "name": "stderr",
     "output_type": "stream",
     "text": [
      "Epoch 47/50:: 100%|\u001b[34m███████████████████\u001b[0m| 100/100 [00:05<00:00, 18.08batch/s, loss=1.749534]\u001b[0m\n"
     ]
    },
    {
     "name": "stdout",
     "output_type": "stream",
     "text": [
      "\t Loss: 174.953,\tTrain : 44.84%(44.84%),\tTest : 44.20%(44.20%),\tCurrent Time: 20250917-174949\n"
     ]
    },
    {
     "name": "stderr",
     "output_type": "stream",
     "text": [
      "Epoch 48/50:: 100%|\u001b[34m███████████████████\u001b[0m| 100/100 [00:05<00:00, 18.08batch/s, loss=1.737622]\u001b[0m\n"
     ]
    },
    {
     "name": "stdout",
     "output_type": "stream",
     "text": [
      "\t Loss: 173.762,\tTrain : 45.31%(45.31%),\tTest : 44.29%(44.29%),\tCurrent Time: 20250917-174955\n"
     ]
    },
    {
     "name": "stderr",
     "output_type": "stream",
     "text": [
      "Epoch 49/50:: 100%|\u001b[34m███████████████████\u001b[0m| 100/100 [00:05<00:00, 18.10batch/s, loss=1.751654]\u001b[0m\n"
     ]
    },
    {
     "name": "stdout",
     "output_type": "stream",
     "text": [
      "\t Loss: 175.165,\tTrain : 45.05%(45.31%),\tTest : 43.07%(44.29%),\tCurrent Time: 20250917-175001\n"
     ]
    },
    {
     "name": "stderr",
     "output_type": "stream",
     "text": [
      "Epoch 50/50:: 100%|\u001b[34m███████████████████\u001b[0m| 100/100 [00:05<00:00, 18.12batch/s, loss=1.748682]\u001b[0m\n"
     ]
    },
    {
     "name": "stdout",
     "output_type": "stream",
     "text": [
      "\t Loss: 174.868,\tTrain : 45.61%(45.61%),\tTest : 43.82%(44.29%),\tCurrent Time: 20250917-175007\n",
      "First_symm_N-HL_Res-EP_L20--CIFAR10_EP_b_sc0.1- Time: 20250917-175007, Epochs: 50, Learning Rate: 0.0002, Best: 45.61%  44.29%\n",
      "\n",
      "[[0 1 0 0 0 0 0 0 0 0 0 0 0 0 0 0 0 0 0 0 0 0]\n",
      " [0 0 1 0 1 0 0 0 0 0 0 0 0 0 0 0 0 0 0 0 0 0]\n",
      " [0 1 0 1 0 0 0 0 0 0 0 0 0 0 0 0 0 0 0 0 0 0]\n",
      " [0 0 1 0 1 0 0 0 0 0 0 0 0 0 0 0 0 0 0 0 0 0]\n",
      " [0 1 0 1 0 1 0 1 0 0 0 0 0 0 0 0 0 0 0 0 0 0]\n",
      " [0 0 0 0 1 0 1 0 0 0 0 0 0 0 0 0 0 0 0 0 0 0]\n",
      " [0 0 0 0 0 1 0 1 0 0 0 0 0 0 0 0 0 0 0 0 0 0]\n",
      " [0 0 0 0 1 0 1 0 1 0 1 0 0 0 0 0 0 0 0 0 0 0]\n",
      " [0 0 0 0 0 0 0 1 0 1 0 0 0 0 0 0 0 0 0 0 0 0]\n",
      " [0 0 0 0 0 0 0 0 1 0 1 0 0 0 0 0 0 0 0 0 0 0]\n",
      " [0 0 0 0 0 0 0 1 0 1 0 1 0 1 0 0 0 0 0 0 0 0]\n",
      " [0 0 0 0 0 0 0 0 0 0 1 0 1 0 0 0 0 0 0 0 0 0]\n",
      " [0 0 0 0 0 0 0 0 0 0 0 1 0 1 0 0 0 0 0 0 0 0]\n",
      " [0 0 0 0 0 0 0 0 0 0 1 0 1 0 1 0 1 0 0 0 0 0]\n",
      " [0 0 0 0 0 0 0 0 0 0 0 0 0 1 0 1 0 0 0 0 0 0]\n",
      " [0 0 0 0 0 0 0 0 0 0 0 0 0 0 1 0 1 0 0 0 0 0]\n",
      " [0 0 0 0 0 0 0 0 0 0 0 0 0 1 0 1 0 1 0 1 0 0]\n",
      " [0 0 0 0 0 0 0 0 0 0 0 0 0 0 0 0 1 0 1 0 0 0]\n",
      " [0 0 0 0 0 0 0 0 0 0 0 0 0 0 0 0 0 1 0 1 0 0]\n",
      " [0 0 0 0 0 0 0 0 0 0 0 0 0 0 0 0 1 0 1 0 1 0]\n",
      " [0 0 0 0 0 0 0 0 0 0 0 0 0 0 0 0 0 0 0 1 0 1]\n",
      " [0 0 0 0 0 0 0 0 0 0 0 0 0 0 0 0 0 0 0 0 1 0]]\n",
      "Files already downloaded and verified\n",
      "First_symm_N-HL_Res-EP_L20--CIFAR10_EP_b_sc0.1-\n"
     ]
    },
    {
     "name": "stderr",
     "output_type": "stream",
     "text": [
      "Epoch 1/50:: 100%|\u001b[34m████████████████████\u001b[0m| 100/100 [00:05<00:00, 17.22batch/s, loss=2.318447]\u001b[0m\n"
     ]
    },
    {
     "name": "stdout",
     "output_type": "stream",
     "text": [
      "\t Loss: 231.845,\tTrain : 10.93%(10.93%),\tTest : 10.25%(10.25%),\tCurrent Time: 20250917-175019\n"
     ]
    },
    {
     "name": "stderr",
     "output_type": "stream",
     "text": [
      "Epoch 2/50:: 100%|\u001b[34m████████████████████\u001b[0m| 100/100 [00:05<00:00, 18.15batch/s, loss=2.266980]\u001b[0m\n"
     ]
    },
    {
     "name": "stdout",
     "output_type": "stream",
     "text": [
      "\t Loss: 226.698,\tTrain : 15.49%(15.49%),\tTest : 18.85%(18.85%),\tCurrent Time: 20250917-175025\n"
     ]
    },
    {
     "name": "stderr",
     "output_type": "stream",
     "text": [
      "Epoch 3/50:: 100%|\u001b[34m████████████████████\u001b[0m| 100/100 [00:05<00:00, 18.08batch/s, loss=2.165512]\u001b[0m\n"
     ]
    },
    {
     "name": "stdout",
     "output_type": "stream",
     "text": [
      "\t Loss: 216.551,\tTrain : 20.17%(20.17%),\tTest : 21.70%(21.70%),\tCurrent Time: 20250917-175031\n"
     ]
    },
    {
     "name": "stderr",
     "output_type": "stream",
     "text": [
      "Epoch 4/50:: 100%|\u001b[34m████████████████████\u001b[0m| 100/100 [00:05<00:00, 18.15batch/s, loss=2.046985]\u001b[0m\n"
     ]
    },
    {
     "name": "stdout",
     "output_type": "stream",
     "text": [
      "\t Loss: 204.699,\tTrain : 25.50%(25.50%),\tTest : 26.78%(26.78%),\tCurrent Time: 20250917-175037\n"
     ]
    },
    {
     "name": "stderr",
     "output_type": "stream",
     "text": [
      "Epoch 5/50:: 100%|\u001b[34m████████████████████\u001b[0m| 100/100 [00:05<00:00, 18.08batch/s, loss=1.960595]\u001b[0m\n"
     ]
    },
    {
     "name": "stdout",
     "output_type": "stream",
     "text": [
      "\t Loss: 196.060,\tTrain : 28.71%(28.71%),\tTest : 31.19%(31.19%),\tCurrent Time: 20250917-175044\n"
     ]
    },
    {
     "name": "stderr",
     "output_type": "stream",
     "text": [
      "Epoch 6/50:: 100%|\u001b[34m████████████████████\u001b[0m| 100/100 [00:05<00:00, 18.11batch/s, loss=1.902315]\u001b[0m\n"
     ]
    },
    {
     "name": "stdout",
     "output_type": "stream",
     "text": [
      "\t Loss: 190.231,\tTrain : 31.27%(31.27%),\tTest : 32.22%(32.22%),\tCurrent Time: 20250917-175050\n"
     ]
    },
    {
     "name": "stderr",
     "output_type": "stream",
     "text": [
      "Epoch 7/50:: 100%|\u001b[34m████████████████████\u001b[0m| 100/100 [00:05<00:00, 18.10batch/s, loss=1.856114]\u001b[0m\n"
     ]
    },
    {
     "name": "stdout",
     "output_type": "stream",
     "text": [
      "\t Loss: 185.611,\tTrain : 32.83%(32.83%),\tTest : 33.76%(33.76%),\tCurrent Time: 20250917-175056\n"
     ]
    },
    {
     "name": "stderr",
     "output_type": "stream",
     "text": [
      "Epoch 8/50:: 100%|\u001b[34m████████████████████\u001b[0m| 100/100 [00:05<00:00, 18.09batch/s, loss=1.818971]\u001b[0m\n"
     ]
    },
    {
     "name": "stdout",
     "output_type": "stream",
     "text": [
      "\t Loss: 181.897,\tTrain : 34.43%(34.43%),\tTest : 35.20%(35.20%),\tCurrent Time: 20250917-175102\n"
     ]
    },
    {
     "name": "stderr",
     "output_type": "stream",
     "text": [
      "Epoch 9/50:: 100%|\u001b[34m████████████████████\u001b[0m| 100/100 [00:05<00:00, 18.10batch/s, loss=1.792615]\u001b[0m\n"
     ]
    },
    {
     "name": "stdout",
     "output_type": "stream",
     "text": [
      "\t Loss: 179.262,\tTrain : 35.83%(35.83%),\tTest : 36.26%(36.26%),\tCurrent Time: 20250917-175108\n"
     ]
    },
    {
     "name": "stderr",
     "output_type": "stream",
     "text": [
      "Epoch 10/50:: 100%|\u001b[34m███████████████████\u001b[0m| 100/100 [00:05<00:00, 18.10batch/s, loss=1.778754]\u001b[0m\n"
     ]
    },
    {
     "name": "stdout",
     "output_type": "stream",
     "text": [
      "\t Loss: 177.875,\tTrain : 36.56%(36.56%),\tTest : 36.99%(36.99%),\tCurrent Time: 20250917-175114\n"
     ]
    },
    {
     "name": "stderr",
     "output_type": "stream",
     "text": [
      "Epoch 11/50:: 100%|\u001b[34m███████████████████\u001b[0m| 100/100 [00:05<00:00, 18.13batch/s, loss=1.755243]\u001b[0m\n"
     ]
    },
    {
     "name": "stdout",
     "output_type": "stream",
     "text": [
      "\t Loss: 175.524,\tTrain : 37.47%(37.47%),\tTest : 36.63%(36.99%),\tCurrent Time: 20250917-175120\n"
     ]
    },
    {
     "name": "stderr",
     "output_type": "stream",
     "text": [
      "Epoch 12/50:: 100%|\u001b[34m███████████████████\u001b[0m| 100/100 [00:05<00:00, 18.10batch/s, loss=1.742509]\u001b[0m\n"
     ]
    },
    {
     "name": "stdout",
     "output_type": "stream",
     "text": [
      "\t Loss: 174.251,\tTrain : 38.17%(38.17%),\tTest : 39.51%(39.51%),\tCurrent Time: 20250917-175126\n"
     ]
    },
    {
     "name": "stderr",
     "output_type": "stream",
     "text": [
      "Epoch 13/50:: 100%|\u001b[34m███████████████████\u001b[0m| 100/100 [00:05<00:00, 18.10batch/s, loss=1.725787]\u001b[0m\n"
     ]
    },
    {
     "name": "stdout",
     "output_type": "stream",
     "text": [
      "\t Loss: 172.579,\tTrain : 38.85%(38.85%),\tTest : 39.31%(39.51%),\tCurrent Time: 20250917-175132\n"
     ]
    },
    {
     "name": "stderr",
     "output_type": "stream",
     "text": [
      "Epoch 14/50:: 100%|\u001b[34m███████████████████\u001b[0m| 100/100 [00:05<00:00, 18.11batch/s, loss=1.731596]\u001b[0m\n"
     ]
    },
    {
     "name": "stdout",
     "output_type": "stream",
     "text": [
      "\t Loss: 173.160,\tTrain : 38.64%(38.85%),\tTest : 39.33%(39.51%),\tCurrent Time: 20250917-175138\n"
     ]
    },
    {
     "name": "stderr",
     "output_type": "stream",
     "text": [
      "Epoch 15/50:: 100%|\u001b[34m███████████████████\u001b[0m| 100/100 [00:05<00:00, 18.12batch/s, loss=1.717474]\u001b[0m\n"
     ]
    },
    {
     "name": "stdout",
     "output_type": "stream",
     "text": [
      "\t Loss: 171.747,\tTrain : 39.48%(39.48%),\tTest : 39.30%(39.51%),\tCurrent Time: 20250917-175144\n"
     ]
    },
    {
     "name": "stderr",
     "output_type": "stream",
     "text": [
      "Epoch 16/50:: 100%|\u001b[34m███████████████████\u001b[0m| 100/100 [00:05<00:00, 18.10batch/s, loss=1.708898]\u001b[0m\n"
     ]
    },
    {
     "name": "stdout",
     "output_type": "stream",
     "text": [
      "\t Loss: 170.890,\tTrain : 40.16%(40.16%),\tTest : 40.29%(40.29%),\tCurrent Time: 20250917-175150\n"
     ]
    },
    {
     "name": "stderr",
     "output_type": "stream",
     "text": [
      "Epoch 17/50:: 100%|\u001b[34m███████████████████\u001b[0m| 100/100 [00:05<00:00, 18.12batch/s, loss=1.712010]\u001b[0m\n"
     ]
    },
    {
     "name": "stdout",
     "output_type": "stream",
     "text": [
      "\t Loss: 171.201,\tTrain : 40.23%(40.23%),\tTest : 40.45%(40.45%),\tCurrent Time: 20250917-175156\n"
     ]
    },
    {
     "name": "stderr",
     "output_type": "stream",
     "text": [
      "Epoch 18/50:: 100%|\u001b[34m███████████████████\u001b[0m| 100/100 [00:05<00:00, 18.11batch/s, loss=1.705866]\u001b[0m\n"
     ]
    },
    {
     "name": "stdout",
     "output_type": "stream",
     "text": [
      "\t Loss: 170.587,\tTrain : 40.60%(40.60%),\tTest : 40.38%(40.45%),\tCurrent Time: 20250917-175202\n"
     ]
    },
    {
     "name": "stderr",
     "output_type": "stream",
     "text": [
      "Epoch 19/50:: 100%|\u001b[34m███████████████████\u001b[0m| 100/100 [00:05<00:00, 18.06batch/s, loss=1.696125]\u001b[0m\n"
     ]
    },
    {
     "name": "stdout",
     "output_type": "stream",
     "text": [
      "\t Loss: 169.612,\tTrain : 41.18%(41.18%),\tTest : 40.70%(40.70%),\tCurrent Time: 20250917-175208\n"
     ]
    },
    {
     "name": "stderr",
     "output_type": "stream",
     "text": [
      "Epoch 20/50:: 100%|\u001b[34m███████████████████\u001b[0m| 100/100 [00:05<00:00, 18.10batch/s, loss=1.690114]\u001b[0m\n"
     ]
    },
    {
     "name": "stdout",
     "output_type": "stream",
     "text": [
      "\t Loss: 169.011,\tTrain : 41.54%(41.54%),\tTest : 41.33%(41.33%),\tCurrent Time: 20250917-175214\n"
     ]
    },
    {
     "name": "stderr",
     "output_type": "stream",
     "text": [
      "Epoch 21/50:: 100%|\u001b[34m███████████████████\u001b[0m| 100/100 [00:05<00:00, 18.10batch/s, loss=1.704802]\u001b[0m\n"
     ]
    },
    {
     "name": "stdout",
     "output_type": "stream",
     "text": [
      "\t Loss: 170.480,\tTrain : 41.47%(41.54%),\tTest : 41.80%(41.80%),\tCurrent Time: 20250917-175220\n"
     ]
    },
    {
     "name": "stderr",
     "output_type": "stream",
     "text": [
      "Epoch 22/50:: 100%|\u001b[34m███████████████████\u001b[0m| 100/100 [00:05<00:00, 18.10batch/s, loss=1.696784]\u001b[0m\n"
     ]
    },
    {
     "name": "stdout",
     "output_type": "stream",
     "text": [
      "\t Loss: 169.678,\tTrain : 41.60%(41.60%),\tTest : 40.72%(41.80%),\tCurrent Time: 20250917-175226\n"
     ]
    },
    {
     "name": "stderr",
     "output_type": "stream",
     "text": [
      "Epoch 23/50:: 100%|\u001b[34m███████████████████\u001b[0m| 100/100 [00:05<00:00, 18.14batch/s, loss=1.785902]\u001b[0m\n"
     ]
    },
    {
     "name": "stdout",
     "output_type": "stream",
     "text": [
      "\t Loss: 178.590,\tTrain : 39.48%(41.60%),\tTest : 11.93%(41.80%),\tCurrent Time: 20250917-175232\n"
     ]
    },
    {
     "name": "stderr",
     "output_type": "stream",
     "text": [
      "Epoch 24/50:: 100%|\u001b[34m███████████████████\u001b[0m| 100/100 [00:05<00:00, 18.10batch/s, loss=2.228936]\u001b[0m\n"
     ]
    },
    {
     "name": "stdout",
     "output_type": "stream",
     "text": [
      "\t Loss: 222.894,\tTrain : 17.61%(41.60%),\tTest : 21.75%(41.80%),\tCurrent Time: 20250917-175238\n"
     ]
    },
    {
     "name": "stderr",
     "output_type": "stream",
     "text": [
      "Epoch 25/50:: 100%|\u001b[34m███████████████████\u001b[0m| 100/100 [00:05<00:00, 18.11batch/s, loss=2.068947]\u001b[0m\n"
     ]
    },
    {
     "name": "stdout",
     "output_type": "stream",
     "text": [
      "\t Loss: 206.895,\tTrain : 23.71%(41.60%),\tTest : 26.02%(41.80%),\tCurrent Time: 20250917-175244\n"
     ]
    },
    {
     "name": "stderr",
     "output_type": "stream",
     "text": [
      "Epoch 26/50:: 100%|\u001b[34m███████████████████\u001b[0m| 100/100 [00:05<00:00, 18.12batch/s, loss=1.983858]\u001b[0m\n"
     ]
    },
    {
     "name": "stdout",
     "output_type": "stream",
     "text": [
      "\t Loss: 198.386,\tTrain : 28.15%(41.60%),\tTest : 30.95%(41.80%),\tCurrent Time: 20250917-175250\n"
     ]
    },
    {
     "name": "stderr",
     "output_type": "stream",
     "text": [
      "Epoch 27/50:: 100%|\u001b[34m███████████████████\u001b[0m| 100/100 [00:05<00:00, 18.13batch/s, loss=1.947907]\u001b[0m\n"
     ]
    },
    {
     "name": "stdout",
     "output_type": "stream",
     "text": [
      "\t Loss: 194.791,\tTrain : 29.97%(41.60%),\tTest : 30.02%(41.80%),\tCurrent Time: 20250917-175256\n"
     ]
    },
    {
     "name": "stderr",
     "output_type": "stream",
     "text": [
      "Epoch 28/50:: 100%|\u001b[34m███████████████████\u001b[0m| 100/100 [00:05<00:00, 18.13batch/s, loss=1.917150]\u001b[0m\n"
     ]
    },
    {
     "name": "stdout",
     "output_type": "stream",
     "text": [
      "\t Loss: 191.715,\tTrain : 31.74%(41.60%),\tTest : 31.98%(41.80%),\tCurrent Time: 20250917-175302\n"
     ]
    },
    {
     "name": "stderr",
     "output_type": "stream",
     "text": [
      "Epoch 29/50:: 100%|\u001b[34m███████████████████\u001b[0m| 100/100 [00:05<00:00, 18.08batch/s, loss=1.902419]\u001b[0m\n"
     ]
    },
    {
     "name": "stdout",
     "output_type": "stream",
     "text": [
      "\t Loss: 190.242,\tTrain : 32.68%(41.60%),\tTest : 34.11%(41.80%),\tCurrent Time: 20250917-175308\n"
     ]
    },
    {
     "name": "stderr",
     "output_type": "stream",
     "text": [
      "Epoch 30/50:: 100%|\u001b[34m███████████████████\u001b[0m| 100/100 [00:05<00:00, 18.09batch/s, loss=1.898209]\u001b[0m\n"
     ]
    },
    {
     "name": "stdout",
     "output_type": "stream",
     "text": [
      "\t Loss: 189.821,\tTrain : 33.13%(41.60%),\tTest : 34.21%(41.80%),\tCurrent Time: 20250917-175314\n"
     ]
    },
    {
     "name": "stderr",
     "output_type": "stream",
     "text": [
      "Epoch 31/50:: 100%|\u001b[34m███████████████████\u001b[0m| 100/100 [00:05<00:00, 18.12batch/s, loss=1.874370]\u001b[0m\n"
     ]
    },
    {
     "name": "stdout",
     "output_type": "stream",
     "text": [
      "\t Loss: 187.437,\tTrain : 34.43%(41.60%),\tTest : 34.73%(41.80%),\tCurrent Time: 20250917-175320\n"
     ]
    },
    {
     "name": "stderr",
     "output_type": "stream",
     "text": [
      "Epoch 32/50:: 100%|\u001b[34m███████████████████\u001b[0m| 100/100 [00:05<00:00, 18.11batch/s, loss=1.874017]\u001b[0m\n"
     ]
    },
    {
     "name": "stdout",
     "output_type": "stream",
     "text": [
      "\t Loss: 187.402,\tTrain : 34.46%(41.60%),\tTest : 36.50%(41.80%),\tCurrent Time: 20250917-175326\n"
     ]
    },
    {
     "name": "stderr",
     "output_type": "stream",
     "text": [
      "Epoch 33/50:: 100%|\u001b[34m███████████████████\u001b[0m| 100/100 [00:05<00:00, 18.09batch/s, loss=1.856289]\u001b[0m\n"
     ]
    },
    {
     "name": "stdout",
     "output_type": "stream",
     "text": [
      "\t Loss: 185.629,\tTrain : 35.35%(41.60%),\tTest : 36.11%(41.80%),\tCurrent Time: 20250917-175332\n"
     ]
    },
    {
     "name": "stderr",
     "output_type": "stream",
     "text": [
      "Epoch 34/50:: 100%|\u001b[34m███████████████████\u001b[0m| 100/100 [00:05<00:00, 18.12batch/s, loss=1.859932]\u001b[0m\n"
     ]
    },
    {
     "name": "stdout",
     "output_type": "stream",
     "text": [
      "\t Loss: 185.993,\tTrain : 35.95%(41.60%),\tTest : 37.52%(41.80%),\tCurrent Time: 20250917-175338\n"
     ]
    },
    {
     "name": "stderr",
     "output_type": "stream",
     "text": [
      "Epoch 35/50:: 100%|\u001b[34m███████████████████\u001b[0m| 100/100 [00:05<00:00, 18.12batch/s, loss=1.857196]\u001b[0m\n"
     ]
    },
    {
     "name": "stdout",
     "output_type": "stream",
     "text": [
      "\t Loss: 185.720,\tTrain : 36.20%(41.60%),\tTest : 36.47%(41.80%),\tCurrent Time: 20250917-175344\n"
     ]
    },
    {
     "name": "stderr",
     "output_type": "stream",
     "text": [
      "Epoch 36/50:: 100%|\u001b[34m███████████████████\u001b[0m| 100/100 [00:05<00:00, 18.07batch/s, loss=1.852239]\u001b[0m\n"
     ]
    },
    {
     "name": "stdout",
     "output_type": "stream",
     "text": [
      "\t Loss: 185.224,\tTrain : 36.78%(41.60%),\tTest : 36.58%(41.80%),\tCurrent Time: 20250917-175350\n"
     ]
    },
    {
     "name": "stderr",
     "output_type": "stream",
     "text": [
      "Epoch 37/50:: 100%|\u001b[34m███████████████████\u001b[0m| 100/100 [00:05<00:00, 18.10batch/s, loss=1.850689]\u001b[0m\n"
     ]
    },
    {
     "name": "stdout",
     "output_type": "stream",
     "text": [
      "\t Loss: 185.069,\tTrain : 37.29%(41.60%),\tTest : 38.09%(41.80%),\tCurrent Time: 20250917-175356\n"
     ]
    },
    {
     "name": "stderr",
     "output_type": "stream",
     "text": [
      "Epoch 38/50:: 100%|\u001b[34m███████████████████\u001b[0m| 100/100 [00:05<00:00, 18.08batch/s, loss=1.864172]\u001b[0m\n"
     ]
    },
    {
     "name": "stdout",
     "output_type": "stream",
     "text": [
      "\t Loss: 186.417,\tTrain : 37.05%(41.60%),\tTest : 36.60%(41.80%),\tCurrent Time: 20250917-175402\n"
     ]
    },
    {
     "name": "stderr",
     "output_type": "stream",
     "text": [
      "Epoch 39/50:: 100%|\u001b[34m███████████████████\u001b[0m| 100/100 [00:05<00:00, 18.09batch/s, loss=1.858751]\u001b[0m\n"
     ]
    },
    {
     "name": "stdout",
     "output_type": "stream",
     "text": [
      "\t Loss: 185.875,\tTrain : 37.61%(41.60%),\tTest : 37.67%(41.80%),\tCurrent Time: 20250917-175408\n"
     ]
    },
    {
     "name": "stderr",
     "output_type": "stream",
     "text": [
      "Epoch 40/50:: 100%|\u001b[34m███████████████████\u001b[0m| 100/100 [00:05<00:00, 18.11batch/s, loss=1.861750]\u001b[0m\n"
     ]
    },
    {
     "name": "stdout",
     "output_type": "stream",
     "text": [
      "\t Loss: 186.175,\tTrain : 37.67%(41.60%),\tTest : 38.40%(41.80%),\tCurrent Time: 20250917-175414\n"
     ]
    },
    {
     "name": "stderr",
     "output_type": "stream",
     "text": [
      "Epoch 41/50:: 100%|\u001b[34m███████████████████\u001b[0m| 100/100 [00:05<00:00, 18.10batch/s, loss=1.865125]\u001b[0m\n"
     ]
    },
    {
     "name": "stdout",
     "output_type": "stream",
     "text": [
      "\t Loss: 186.513,\tTrain : 37.92%(41.60%),\tTest : 37.35%(41.80%),\tCurrent Time: 20250917-175420\n"
     ]
    },
    {
     "name": "stderr",
     "output_type": "stream",
     "text": [
      "Epoch 42/50:: 100%|\u001b[34m███████████████████\u001b[0m| 100/100 [00:05<00:00, 18.07batch/s, loss=1.876129]\u001b[0m\n"
     ]
    },
    {
     "name": "stdout",
     "output_type": "stream",
     "text": [
      "\t Loss: 187.613,\tTrain : 37.85%(41.60%),\tTest : 39.48%(41.80%),\tCurrent Time: 20250917-175426\n"
     ]
    },
    {
     "name": "stderr",
     "output_type": "stream",
     "text": [
      "Epoch 43/50:: 100%|\u001b[34m███████████████████\u001b[0m| 100/100 [00:05<00:00, 18.09batch/s, loss=1.860680]\u001b[0m\n"
     ]
    },
    {
     "name": "stdout",
     "output_type": "stream",
     "text": [
      "\t Loss: 186.068,\tTrain : 38.52%(41.60%),\tTest : 38.76%(41.80%),\tCurrent Time: 20250917-175432\n"
     ]
    },
    {
     "name": "stderr",
     "output_type": "stream",
     "text": [
      "Epoch 44/50:: 100%|\u001b[34m███████████████████\u001b[0m| 100/100 [00:05<00:00, 18.12batch/s, loss=1.858553]\u001b[0m\n"
     ]
    },
    {
     "name": "stdout",
     "output_type": "stream",
     "text": [
      "\t Loss: 185.855,\tTrain : 38.99%(41.60%),\tTest : 37.93%(41.80%),\tCurrent Time: 20250917-175438\n"
     ]
    },
    {
     "name": "stderr",
     "output_type": "stream",
     "text": [
      "Epoch 45/50:: 100%|\u001b[34m███████████████████\u001b[0m| 100/100 [00:05<00:00, 18.09batch/s, loss=1.859477]\u001b[0m\n"
     ]
    },
    {
     "name": "stdout",
     "output_type": "stream",
     "text": [
      "\t Loss: 185.948,\tTrain : 38.82%(41.60%),\tTest : 39.51%(41.80%),\tCurrent Time: 20250917-175444\n"
     ]
    },
    {
     "name": "stderr",
     "output_type": "stream",
     "text": [
      "Epoch 46/50:: 100%|\u001b[34m███████████████████\u001b[0m| 100/100 [00:05<00:00, 18.08batch/s, loss=1.876705]\u001b[0m\n"
     ]
    },
    {
     "name": "stdout",
     "output_type": "stream",
     "text": [
      "\t Loss: 187.670,\tTrain : 38.87%(41.60%),\tTest : 39.49%(41.80%),\tCurrent Time: 20250917-175450\n"
     ]
    },
    {
     "name": "stderr",
     "output_type": "stream",
     "text": [
      "Epoch 47/50:: 100%|\u001b[34m███████████████████\u001b[0m| 100/100 [00:05<00:00, 18.12batch/s, loss=1.860437]\u001b[0m\n"
     ]
    },
    {
     "name": "stdout",
     "output_type": "stream",
     "text": [
      "\t Loss: 186.044,\tTrain : 39.14%(41.60%),\tTest : 39.42%(41.80%),\tCurrent Time: 20250917-175456\n"
     ]
    },
    {
     "name": "stderr",
     "output_type": "stream",
     "text": [
      "Epoch 48/50:: 100%|\u001b[34m███████████████████\u001b[0m| 100/100 [00:05<00:00, 18.10batch/s, loss=1.882399]\u001b[0m\n"
     ]
    },
    {
     "name": "stdout",
     "output_type": "stream",
     "text": [
      "\t Loss: 188.240,\tTrain : 39.13%(41.60%),\tTest : 40.44%(41.80%),\tCurrent Time: 20250917-175502\n"
     ]
    },
    {
     "name": "stderr",
     "output_type": "stream",
     "text": [
      "Epoch 49/50:: 100%|\u001b[34m███████████████████\u001b[0m| 100/100 [00:05<00:00, 18.08batch/s, loss=1.871579]\u001b[0m\n"
     ]
    },
    {
     "name": "stdout",
     "output_type": "stream",
     "text": [
      "\t Loss: 187.158,\tTrain : 39.52%(41.60%),\tTest : 39.86%(41.80%),\tCurrent Time: 20250917-175508\n"
     ]
    },
    {
     "name": "stderr",
     "output_type": "stream",
     "text": [
      "Epoch 50/50:: 100%|\u001b[34m███████████████████\u001b[0m| 100/100 [00:05<00:00, 18.07batch/s, loss=1.866807]\u001b[0m\n"
     ]
    },
    {
     "name": "stdout",
     "output_type": "stream",
     "text": [
      "\t Loss: 186.681,\tTrain : 39.48%(41.60%),\tTest : 40.83%(41.80%),\tCurrent Time: 20250917-175514\n",
      "First_symm_N-HL_Res-EP_L20--CIFAR10_EP_b_sc0.1- Time: 20250917-175514, Epochs: 50, Learning Rate: 0.0002, Best: 41.60%  41.80%\n",
      "\n"
     ]
    }
   ],
   "source": [
    "for iM in range( len(M_range) ):\n",
    "    for iPara in range( len(ParaRange) ):\n",
    "        for  imultitest in range((multitest)):\n",
    "            Para_EP['bsc'] = 0.1\n",
    "            NL = ParaRange[iPara]\n",
    "            nodes = [28*28] + [64]*NL + [10]\n",
    "            W_conn = make_W_conn(n_hidden=NL, startres=1, block_size=3)\n",
    "            print(W_conn)\n",
    "\n",
    "            Para_t['task'] = M_range[iM]\n",
    "            Para_t['eta'] = 2e-4 if Para_t['task'] == \"CIFAR10\" else 1e-3\n",
    "            # if ParaRange[iPara]>20: Para_t['eta'] = Para_t['eta']/2 \n",
    "            (_, [train_loader_gpu,valid_loader_gpu,test_loader_gpu], [nodes[0], nodes[-1]]\n",
    "                 ) = dataset(Para_t['task'], device=device, bs=Para_t['batchsize'], validbstimes=1 )\n",
    "            #-----------------\n",
    "            Para_EP['It2sta'] = (len(nodes)-2)*10\n",
    "            Para_EP['It2sta2'] = (len(nodes)-2)*5\n",
    "            # ---------------------------------\n",
    "            model = EPNN_LN(W_conn, nodes=nodes, Para_t=Para_t, Para_EP=Para_EP, device=device).to(device)\n",
    "\n",
    "            s_task_info = f\"{Task_info}-{Para_t['method']}_L{(len(nodes)-2)}--{Para_t['task']}_EP_b_sc{Para_EP['bsc']}-{Einfo}\"\n",
    "            print(s_task_info)\n",
    "\n",
    "            ## Train\n",
    "\n",
    "            for epoch in range(Para_t['epoch']):\n",
    "                losssum = 0\n",
    "                train_correct = 0\n",
    "                train_total = 0\n",
    "                random.shuffle(train_loader_gpu)\n",
    "                with tqdm(total=len(train_loader_gpu), desc=f\"Epoch {epoch + 1}/{Para_t['epoch']}:\", unit='batch', ncols=90, mininterval=1, colour='blue') as pbar:\n",
    "                    for i, (images, labels) in enumerate(train_loader_gpu):\n",
    "                        # \n",
    "                        images = images.view(-1, nodes[0])\n",
    "                        labels_one_hot = one_hot(labels, nodes[-1], device=device)\n",
    "                        # \n",
    "                        outputs = model.forward(images)\n",
    "                        _, predicted = torch.max(outputs, 1)\n",
    "                        # \n",
    "                        loss = cross_entropy_loss(outputs, labels_one_hot.to(device))\n",
    "                        losssum += loss.item()\n",
    "                        #\n",
    "                        outputs = model.backward(images, labels_one_hot, outputs)\n",
    "                        # \n",
    "                        model.update_weights_adam() if Para_t['adam'] else model.update_weights() #model.update_weights_adam() model.update_weights()\n",
    "                        # \n",
    "                        if (i+1) % 10 == 0: \n",
    "                            pbar.set_postfix({'loss': f'{losssum/(i+1):.6f}'})  \n",
    "                            pbar.update(10)\n",
    "\n",
    "                        train_total += labels.size(0)\n",
    "                        train_correct += (predicted == labels).sum().item()\n",
    "\n",
    "                train_accuracy = train_correct / train_total\n",
    "\n",
    "                # test set -------------------------------------------------------------\n",
    "                test_correct = 0\n",
    "                test_total = 0\n",
    "                # ---------\n",
    "                for images, labels in test_loader_gpu:\n",
    "                    images = images.view(-1, nodes[0])\n",
    "                    # \n",
    "                    outputs = model.forward(images)\n",
    "\n",
    "                    _, predicted = torch.max(outputs, 1)\n",
    "                    test_total += labels.size(0)\n",
    "                    test_correct += (predicted == labels).sum().item()\n",
    "\n",
    "                test_accuracy = test_correct / test_total\n",
    "\n",
    "                res[iM][iPara][imultitest][0][epoch] = losssum\n",
    "                res[iM][iPara][imultitest][1][epoch] = train_accuracy\n",
    "                res[iM][iPara][imultitest][2][epoch] = test_accuracy\n",
    "                # res[iM][iPara][imultitest][3][epoch] = ftmle\n",
    "                # res[iM][iPara][imultitest][4][epoch] = mle\n",
    "                # res[iM][iPara][imultitest][5][epoch] = SR\n",
    "\n",
    "                current_time = time.strftime(\"%Y%m%d-%H%M%S\", time.localtime())\n",
    "                print(f'\\t Loss: {res[iM][iPara][imultitest][0][epoch] :.3f},\\t'\n",
    "                    f'Train : {res[iM][iPara][imultitest][1][epoch] * 100:.2f}%({np.max(res[iM][iPara][imultitest][1]) * 100:.2f}%),\\t'\n",
    "                    f'Test : {res[iM][iPara][imultitest][2][epoch] * 100:.2f}%({np.max(res[iM][iPara][imultitest][2]) * 100:.2f}%),\\t'\n",
    "                    f'Current Time: {current_time}')\n",
    "                \n",
    "                # if 1-train_accuracy <1e-4:\n",
    "                #     break\n",
    "            \n",
    "            # best result\n",
    "            print(f\"{s_task_info} Time: {current_time}, Epochs: {Para_t['epoch']}, Learning Rate: {Para_t['eta']}, \"\n",
    "                f\"Best: {max(res[iM][iPara][imultitest][1]) * 100:.2f}%  {max(res[iM][iPara][imultitest][2]) * 100:.2f}%\\n\")\n",
    "            \n",
    "        for attempt in range(5):\n",
    "            try:\n",
    "                with open(res_path/\"res.txt\", \"a\") as f:\n",
    "                    trainacct = np.max(res[iM][iPara][:,1,:], axis=-1)\n",
    "                    testacct = np.max(res[iM][iPara][:,2,:], axis=-1)\n",
    "                    f.write(f\"{s_task_info} Time: {current_time}: \"\n",
    "                            f\"train: {np.mean(trainacct) * 100:.2f}%+-{np.std(trainacct, ddof=1)*100:.2f}% ({np.min(trainacct) * 100:.2f}% {np.max(trainacct) * 100:.2f}%)\"\n",
    "                            f\"\\t test: {np.mean(testacct) * 100:.2f}%+-{np.std(testacct, ddof=1)*100:.2f}% ({np.min(testacct) * 100:.2f}% {np.max(testacct) * 100:.2f}%)\\n\")\n",
    "\n",
    "                    if Para_EP!=None:\n",
    "                        for key, value in Para_EP.items():\n",
    "                            f.write(f\"{key}: {value}  \")\n",
    "                    f.write(f'\\n\\n')  \n",
    "\n",
    "                break  # \n",
    "            except PermissionError:\n",
    "                if attempt < 5 - 1:\n",
    "                    print(f\"Permission denied, retrying in {5} seconds...\")\n",
    "                    time.sleep(5)\n",
    "                else:\n",
    "                    raise  # "
   ]
  },
  {
   "cell_type": "code",
   "execution_count": 8,
   "id": "c5626ba2",
   "metadata": {},
   "outputs": [],
   "source": [
    "current_time = time.strftime(\"%Y%m%d-%H%M%S\", time.localtime())\n",
    "if fsave: \n",
    "    save_dict = {\n",
    "        \"M_range\": M_range,\n",
    "        \"ParaRange\": ParaRange,\n",
    "        \"multitest\": multitest,\n",
    "        \"Para_EP\": Para_EP,\n",
    "        \"Para_t\": Para_t,       \n",
    "        \"res\": res,\n",
    "    }\n",
    "    np.savez_compressed(res_path / f\"{s_task_info}_{current_time}_res\",  **save_dict)\n"
   ]
  },
  {
   "cell_type": "code",
   "execution_count": 9,
   "id": "4d04650e",
   "metadata": {},
   "outputs": [
    {
     "name": "stdout",
     "output_type": "stream",
     "text": [
      "MNIST\t_10\t_train: 99.77%+-0.03% (99.73% 99.80%)\t test: 97.49%+-0.05% (97.44% 97.56%)\n",
      "\n",
      "MNIST\t_20\t_train: 98.20%+-0.57% (97.38% 98.78%)\t test: 95.95%+-0.18% (95.67% 96.16%)\n",
      "\n",
      "CIFAR10\t_10\t_train: 48.67%+-0.42% (48.13% 49.21%)\t test: 44.46%+-0.51% (43.92% 45.21%)\n",
      "\n",
      "CIFAR10\t_20\t_train: 44.26%+-1.76% (41.60% 45.61%)\t test: 43.61%+-1.17% (41.80% 44.50%)\n",
      "\n",
      "0\n"
     ]
    }
   ],
   "source": [
    "\n",
    "for iM in range( len(M_range) ):\n",
    "    for iPara in range( len(ParaRange) ):        \n",
    "        tt = res[iM][iPara]\n",
    "        testacctt = np.max(tt[:,2,:], axis= -1)\n",
    "\n",
    "        tt = res[iM][iPara]\n",
    "        trainacctt = np.max(tt[:,1,:], axis= -1)\n",
    "\n",
    "        print(f\"{M_range[iM]}\\t_{ParaRange[iPara]}\\t_\"\n",
    "              f\"train: {np.mean(trainacctt) * 100:.2f}%+-{np.std(trainacctt, ddof=1)*100:.2f}% ({np.min(trainacctt) * 100:.2f}% {np.max(trainacctt) * 100:.2f}%)\"\n",
    "              f\"\\t test: {np.mean(testacctt) * 100:.2f}%+-{np.std(testacctt, ddof=1)*100:.2f}% ({np.min(testacctt) * 100:.2f}% {np.max(testacctt) * 100:.2f}%)\\n\")\n",
    "        \n",
    "\n",
    "print('0')"
   ]
  }
 ],
 "metadata": {
  "kernelspec": {
   "display_name": "Python 3",
   "language": "python",
   "name": "python3"
  },
  "language_info": {
   "codemirror_mode": {
    "name": "ipython",
    "version": 3
   },
   "file_extension": ".py",
   "mimetype": "text/x-python",
   "name": "python",
   "nbconvert_exporter": "python",
   "pygments_lexer": "ipython3",
   "version": "3.9.20"
  }
 },
 "nbformat": 4,
 "nbformat_minor": 5
}
