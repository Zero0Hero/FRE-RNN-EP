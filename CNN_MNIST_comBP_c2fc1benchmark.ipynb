{
 "cells": [
  {
   "cell_type": "code",
   "execution_count": 1,
   "id": "34d69c9a",
   "metadata": {},
   "outputs": [
    {
     "name": "stdout",
     "output_type": "stream",
     "text": [
      "cuda:True\n",
      "GPU 0:NVIDIA RTX A5000:23.99GB\n"
     ]
    }
   ],
   "source": [
    "\n",
    "import torch, random\n",
    "import torch.nn as nn\n",
    "import torch.nn.functional as F\n",
    "from torchvision import datasets, transforms\n",
    "import torch.optim.lr_scheduler as lr_scheduler\n",
    "from torch.utils.data import DataLoader, Subset\n",
    "import matplotlib.pyplot as plt\n",
    "from tqdm import tqdm\n",
    "import time\n",
    "from pathlib import Path\n",
    "import numpy as np\n",
    "# ---------\n",
    "# torch.set_grad_enabled(False)\n",
    "# ============================\n",
    "#       Radom Seed\n",
    "# ============================\n",
    "seed = 99\n",
    "\n",
    "torch.manual_seed(seed)\n",
    "if torch.cuda.is_available():\n",
    "    torch.cuda.manual_seed(seed)\n",
    "    torch.cuda.manual_seed_all(seed)\n",
    "\n",
    "torch.backends.cudnn.benchmark = True\n",
    "\n",
    "if torch.cuda.is_available():\n",
    "    print(f\"cuda:True\")\n",
    "    for i in range(torch.cuda.device_count()):\n",
    "        device = torch.device(f\"cuda:{i}\")\n",
    "        properties = torch.cuda.get_device_properties(device)\n",
    "        print(f\"GPU {i}:{properties.name}:{properties.total_memory/1024/1024/1024:.2f}GB\")\n",
    "else:\n",
    "    print(f\"cuda:False\")\n",
    "    device = torch.device(\"cpu\")\n",
    "\n",
    "\n",
    "# ============================\n",
    "#       Equilibrium CNN\n",
    "# ============================\n",
    "def linear(x):\n",
    "    # return F.hardsigmoid(x)\n",
    "    return x\n",
    "def hardtanh6(x):\n",
    "    # return F.hardsigmoid(x)\n",
    "    return x.clamp(min = -6, max=6)\n",
    "def hardtanh6_d(x):\n",
    "        return ((x > -6) & (x < 6)).float()\n",
    "def hardtanh(x):\n",
    "    # return F.hardsigmoid(x)\n",
    "    return x.clamp(min = -1, max=1)\n",
    "def hardtanh_d(x):\n",
    "        return ((x > -1) & (x < 1)).float()\n",
    "def hardsigm(x):\n",
    "    # return F.hardsigmoid(x)\n",
    "    return x.clamp(min = 0, max=1)\n",
    "def hardsigm_d(x):\n",
    "        return ((x > 0) & (x < 1)).float()\n",
    "def relu6(x):\n",
    "    # return F.hardsigmoid(x)\n",
    "    return x.clamp(min = 0, max=6)\n",
    "def relu6_d(x):\n",
    "        return ((x > 0) & (x < 6)).float()\n",
    "def relu(x):\n",
    "    # return F.hardsigmoid(x)\n",
    "    return x.clamp(min = 0)\n",
    "def relu_d(x):\n",
    "        return ((x > 0)).float()"
   ]
  },
  {
   "cell_type": "markdown",
   "id": "25ab91f1",
   "metadata": {},
   "source": [
    "### Dataset"
   ]
  },
  {
   "cell_type": "code",
   "execution_count": 2,
   "id": "43a5fbd7",
   "metadata": {},
   "outputs": [
    {
     "name": "stdout",
     "output_type": "stream",
     "text": [
      "True\n",
      "GPU 0:NVIDIA RTX A5000:23.99GB\n"
     ]
    }
   ],
   "source": [
    "\n",
    "fsave=True\n",
    "current_time_start = time.strftime(\"%Y%m%d-%H%M%S\", time.localtime())\n",
    "res_path = Path(f\"./Res/Final_conv_{current_time_start}-MNIST\")\n",
    "res_path.mkdir(parents=True, exist_ok=True)\n",
    "\n",
    "transform = transforms.Compose([\n",
    "    transforms.ToTensor(),\n",
    "])\n",
    "\n",
    "train_set = datasets.MNIST(root='./data', train=True, download=True, transform=transform)\n",
    "test_set = datasets.MNIST(root='./data', train=False, download=True, transform=transform)\n",
    "\n",
    "train_subset = Subset(train_set, range(int(1 * len(train_set))))\n",
    "test_subset = Subset(test_set, range(int(1 * len(test_set))))\n",
    "\n",
    "train_loader = DataLoader(train_subset, batch_size=128, shuffle=True)\n",
    "test_loader = DataLoader(test_subset, batch_size=512, shuffle=False)\n",
    "\n",
    "print(torch.cuda.is_available())\n",
    "if torch.cuda.is_available():\n",
    "    for i in range(torch.cuda.device_count()):\n",
    "        device = torch.device(f\"cuda:{i}\")\n",
    "        properties = torch.cuda.get_device_properties(device)\n",
    "        print(f\"GPU {i}:{properties.name}:{properties.total_memory/1024/1024/1024:.2f}GB\")\n",
    "\n",
    "device = torch.device(\"cuda\" if torch.cuda.is_available() else \"cpu\")\n",
    "train_loader_gpu = [(data.to(device), target.to(device)) for data, target in train_loader]\n",
    "test_loader_gpu = [(data.to(device), target.to(device)) for data, target in test_loader]\n",
    "\n",
    "criterion = nn.CrossEntropyLoss()\n",
    "\n",
    "num_epochs = 40\n",
    "multest = 1 #5\n",
    "fbsc_range = [0] # 0.01, 0.1, 1\n",
    "res = np.zeros((len(fbsc_range),multest,3,num_epochs))\n",
    "\n",
    "\n",
    "\n"
   ]
  },
  {
   "cell_type": "markdown",
   "id": "ee58c750",
   "metadata": {},
   "source": [
    "### Network"
   ]
  },
  {
   "cell_type": "code",
   "execution_count": null,
   "id": "a4ac1dcb",
   "metadata": {},
   "outputs": [],
   "source": [
    "\n",
    "\n",
    "class aEP_CNN(nn.Module):\n",
    "    def __init__(self, fbsc=0.1, nudge= 0.2, deviden=True, T=50, K=20, chl= [32, 64]):\n",
    "        super().__init__()\n",
    "\n",
    "        self.T = T\n",
    "        self.K = K\n",
    "        self.eta = 1 # leaky rate\n",
    "        self.ffSC, self.fbSC, self.nudge = 1.0, fbsc, nudge\n",
    "        self.chl = chl\n",
    "        self.rho = hardsigm # hardsigm relu6 relu6 hardtanh hardtanh6 linear\n",
    "\n",
    "        self.deviden = deviden\n",
    "\n",
    "        self.conv1 = nn.Conv2d(1, self.chl[0], kernel_size=5, stride=1, padding=0)\n",
    "        self.pool1 = nn.MaxPool2d(2, stride = 2, return_indices = True)  \n",
    "        self.conv2 = nn.Conv2d(self.chl[0], self.chl[1], kernel_size=5, stride=1, padding=0)\n",
    "        self.pool2 = nn.MaxPool2d(2, stride = 2, return_indices = True)  \n",
    "        self.fc1 = nn.Linear(self.chl[1] * 4 * 4, 10)\n",
    "\n",
    "        self.unpool1 = nn.MaxUnpool2d(2, stride = 2)  \n",
    "        self.unpool2 = nn.MaxUnpool2d(2, stride = 2)  \n",
    "\n",
    "        self.device = torch.device(\"cuda\" if torch.cuda.is_available() else \"cpu\")\n",
    "        self.to(self.device)\n",
    "\n",
    "    @torch.no_grad()\n",
    "    def forward(self, x, t=0, s=0, nudge = 0, target=None):\n",
    "        if t>0:\n",
    "            x1, p1, ind1, x2, p2, ind2, fc1 = s  \n",
    "        else:\n",
    "            # x1, p1, ind1, x2, p2, ind2, x3 = 0, 0, 0, 0, 0, 0, 0\n",
    "            x1 = self.conv1(torch.zeros_like(x,device=self.device))       # torch.zeros_like(x,device=self.device)\n",
    "            p1, ind1 = self.pool1(self.rho(x1))\n",
    "            x2 = self.conv2(p1)      # (B, 32, 16, 16)\n",
    "            p2, ind2 = self.pool2(self.rho(x2))\n",
    "\n",
    "            fc1 = ( self.fc1(p2.view(p2.size(0), -1)))\n",
    "        \n",
    "        # if nudge!=0:\n",
    "        if nudge!=0: \n",
    "            fb =  (target-F.softmax(fc1,dim=1)) @ self.fc1.weight \n",
    "            fbs = fb.view(fb.size(0), self.chl[1], 4, 4)\n",
    "        else:\n",
    "            fbs = torch.zeros_like(p2,device=self.device)\n",
    "        # else:\n",
    "        #     fbs = torch.zeros_like(p2,device=self.device) F.conv_transpose2d(delta_conv4, self.conv2.weight, stride=1, padding=1) #.permute([0,1,3,2])\n",
    "        dx1 =  (self.conv1(x)*self.ffSC +self.unpool1( F.conv_transpose2d(self.rho(x2), self.conv2.weight, stride=1, padding=0),\n",
    "                                            ind1,output_size=x1.shape)*self.fbSC)\n",
    "        p1, ind1 = self.pool1(self.rho(x1))       # output_size =(B, 128, 16, 16)\n",
    "        \n",
    "        dx2 =  (self.conv2(p1)*self.ffSC + self.unpool2(fbs,ind2,output_size=x2.shape)* nudge )\n",
    "        p2, ind2 = self.pool2(self.rho(x2))      # (B, 256, 8, 8)\n",
    "\n",
    "        dfc = ( self.fc1(p2.view(p2.size(0), -1)))\n",
    "\n",
    "        x1 =dx1\n",
    "        x2 =dx2\n",
    "        fc1 = dfc\n",
    "        # if nudge == 0: fc1 = dfc\n",
    "        return x1, p1, ind1, x2, p2, ind2, fc1\n",
    "    \n",
    "    \n",
    "    @torch.no_grad()\n",
    "    def ep_step(self, x, y):\n",
    "        x = x.to(self.device)\n",
    "        y = y.to(self.device)\n",
    "        y_onehot = F.one_hot(y, num_classes=10).float().to(self.device)\n",
    "\n",
    "        # Free phase dynamics\n",
    "        sf = 0\n",
    "        \n",
    "        # self.deconv2.bias.data = self.conv2.bias.clone()\n",
    "        for t in range(self.T):\n",
    "            sf = self.forward(x, t=t, s=sf, nudge=0, target=y_onehot)\n",
    "\n",
    "        x1, p1, _, x2, p2, _, fc1 = sf\n",
    "        # self.x1, self.x2, self.xfc1 = x1, x2, fc1\n",
    "        preds = torch.argmax(sf[-1], dim=1)\n",
    "\n",
    "        # Nudged phase dynamics\n",
    "        sn = [t.clone() for t in sf]\n",
    "        for t in range(self.K):\n",
    "            sn = self.forward(x, t=self.T+t, s=sn, nudge=self.nudge, target=y_onehot)\n",
    "\n",
    "        # Weight update: contrastive Hebbian rule (difference of activations)\n",
    "        \n",
    "        x1n, _, _, x2n, _, _, fc1n = sn\n",
    "\n",
    "        # after free-phase we had: x1,x2,x3,x4 and p1,p2,p3,p4 and fc1 (free)\n",
    "        # after nudged-phase sn we get x1n,...,x4n and p4n and fc1_nudged (sn[-1])\n",
    "        beta = self.nudge if self.deviden else 1#\n",
    "        \n",
    "        # fc\n",
    "        # delta_fc = (F.softmax(fc1, dim=1) - F.softmax(fc1n, dim=1)) / (beta * x.size(0))\n",
    "        delta_fc = (F.softmax(fc1, dim=1) - y_onehot) / (x.size(0))\n",
    "        flatp4 = p2.view(p2.size(0), -1).contiguous()\n",
    "        self.fc1.weight.grad = delta_fc.T @ flatp4\n",
    "        self.fc1.bias.grad = delta_fc.sum(0)\n",
    "\n",
    "\n",
    "        # conv2\n",
    "        delta_conv2 = ((self.rho(x2) - self.rho(x2n)) / ( self.fbSC**0 * beta * x.size(0))).contiguous()\n",
    "        grad_conv2_w = torch.nn.grad.conv2d_weight(p1.contiguous(), self.conv2.weight.shape, delta_conv2, stride=1, padding=0)\n",
    "        self.conv2.weight.grad = grad_conv2_w\n",
    "        self.conv2.bias.grad = delta_conv2.sum(dim=(0,2,3))\n",
    "\n",
    "        # conv1\n",
    "        delta_conv1 = ((self.rho(x1) - self.rho(x1n)) / ( self.fbSC**0 * beta * x.size(0))).contiguous()\n",
    "        grad_conv1_w = torch.nn.grad.conv2d_weight(x.contiguous(), self.conv1.weight.shape, delta_conv1, stride=1, padding=0)\n",
    "        self.conv1.weight.grad = grad_conv1_w\n",
    "        self.conv1.bias.grad = delta_conv1.sum(dim=(0,2,3))\n",
    "\n",
    "        \n",
    "        # self.dx1, self.dx2, self.dx3, self.dx4, self.dxfc1 = (self.rho(x1) - self.rho(x1n)), (self.rho(x2) - self.rho(x2n)), (self.rho(x3) - self.rho(x3n)), (self.rho(x4) - self.rho(x4n)), (F.softmax(fc1, dim=1) - F.softmax(fc1n, dim=1))\n",
    "\n",
    "        return preds, F.cross_entropy(fc1, y).item()\n",
    "    \n",
    "    \n",
    "    @torch.no_grad()\n",
    "    def predict(self, x):\n",
    "        with torch.no_grad():\n",
    "            x = x.to(self.device)\n",
    "            sf = 0\n",
    "            \n",
    "            for t in range(self.T):\n",
    "                sf = self.forward(x, t=t, s=sf, nudge=0, target=None)\n",
    "\n",
    "            preds = torch.argmax(sf[-1], dim=1)\n",
    "        return preds\n",
    "    \n",
    "    def forward_BP(self, x):\n",
    "        # return pre-activations(z) and post-activations(x) and pooled results\n",
    "        # z* = pre-activation (conv output), x* = post-activation = rho(z*)\n",
    "        z1 = self.conv1(x)\n",
    "        x1 = self.rho(z1)\n",
    "        p1, ind1 = self.pool1(x1)\n",
    "\n",
    "        z2 = self.conv2(p1)\n",
    "        x2 = self.rho(z2)\n",
    "        p2, ind2 = self.pool2(x2)\n",
    "\n",
    "        # fix: use p4.size(0) (batch dim of p4) for view\n",
    "        fc1 = self.fc1(p2.view(p2.size(0), -1))\n",
    "\n",
    "        # pre, post, pools, inds, logits\n",
    "        \n",
    "        # self.x1, self.x2, self.x3, self.xfc1 = x1, x2, x3, fc1\n",
    "        return z1, x1, p1, ind1, z2, x2, p2, ind2, fc1\n"
   ]
  },
  {
   "cell_type": "markdown",
   "id": "b437b327",
   "metadata": {},
   "source": [
    "### BP"
   ]
  },
  {
   "cell_type": "code",
   "execution_count": 4,
   "id": "9c27096e",
   "metadata": {},
   "outputs": [
    {
     "name": "stdout",
     "output_type": "stream",
     "text": [
      "0 start at 20250923-151914\n"
     ]
    },
    {
     "name": "stderr",
     "output_type": "stream",
     "text": [
      "Epoch 1/40:: 470batch [00:03, 138.77batch/s, loss=0.628028]                               0.628028]\u001b[0m\n"
     ]
    },
    {
     "name": "stdout",
     "output_type": "stream",
     "text": [
      "Epoch 1, Current LR: 2.00e-04\n",
      "Epoch 1 Train Loss = 0.6210, Accuracy = 86.85%, Test Accuracy = 94.87%\n"
     ]
    },
    {
     "name": "stderr",
     "output_type": "stream",
     "text": [
      "Epoch 2/40:: 470batch [00:02, 184.45batch/s, loss=0.163142]                               0.163142]\u001b[0m\n"
     ]
    },
    {
     "name": "stdout",
     "output_type": "stream",
     "text": [
      "Epoch 2, Current LR: 2.00e-04\n",
      "Epoch 2 Train Loss = 0.1622, Accuracy = 95.99%, Test Accuracy = 97.16%\n"
     ]
    },
    {
     "name": "stderr",
     "output_type": "stream",
     "text": [
      "Epoch 3/40:: 470batch [00:02, 172.13batch/s, loss=0.106189]                               0.106189]\u001b[0m\n"
     ]
    },
    {
     "name": "stdout",
     "output_type": "stream",
     "text": [
      "Epoch 3, Current LR: 2.00e-04\n",
      "Epoch 3 Train Loss = 0.1055, Accuracy = 97.25%, Test Accuracy = 97.91%\n"
     ]
    },
    {
     "name": "stderr",
     "output_type": "stream",
     "text": [
      "Epoch 4/40:: 470batch [00:02, 207.74batch/s, loss=0.081409]                               0.081409]\u001b[0m\n"
     ]
    },
    {
     "name": "stdout",
     "output_type": "stream",
     "text": [
      "Epoch 4, Current LR: 2.00e-04\n",
      "Epoch 4 Train Loss = 0.0812, Accuracy = 97.90%, Test Accuracy = 98.20%\n"
     ]
    },
    {
     "name": "stderr",
     "output_type": "stream",
     "text": [
      "Epoch 5/40:: 470batch [00:02, 177.81batch/s, loss=0.067180]                               0.067180]\u001b[0m\n"
     ]
    },
    {
     "name": "stdout",
     "output_type": "stream",
     "text": [
      "Epoch 5, Current LR: 2.00e-04\n",
      "Epoch 5 Train Loss = 0.0672, Accuracy = 98.22%, Test Accuracy = 98.47%\n"
     ]
    },
    {
     "name": "stderr",
     "output_type": "stream",
     "text": [
      "Epoch 6/40:: 470batch [00:02, 211.28batch/s, loss=0.057476]                               0.057476]\u001b[0m\n"
     ]
    },
    {
     "name": "stdout",
     "output_type": "stream",
     "text": [
      "Epoch 6, Current LR: 2.00e-04\n",
      "Epoch 6 Train Loss = 0.0576, Accuracy = 98.46%, Test Accuracy = 98.60%\n"
     ]
    },
    {
     "name": "stderr",
     "output_type": "stream",
     "text": [
      "Epoch 7/40:: 470batch [00:02, 198.18batch/s, loss=0.050963]                               0.050963]\u001b[0m\n"
     ]
    },
    {
     "name": "stdout",
     "output_type": "stream",
     "text": [
      "Epoch 7, Current LR: 2.00e-04\n",
      "Epoch 7 Train Loss = 0.0508, Accuracy = 98.65%, Test Accuracy = 98.68%\n"
     ]
    },
    {
     "name": "stderr",
     "output_type": "stream",
     "text": [
      "Epoch 8/40:: 470batch [00:02, 211.86batch/s, loss=0.044850]                               0.044850]\u001b[0m\n"
     ]
    },
    {
     "name": "stdout",
     "output_type": "stream",
     "text": [
      "Epoch 8, Current LR: 2.00e-04\n",
      "Epoch 8 Train Loss = 0.0453, Accuracy = 98.85%, Test Accuracy = 98.81%\n"
     ]
    },
    {
     "name": "stderr",
     "output_type": "stream",
     "text": [
      "Epoch 9/40:: 470batch [00:02, 198.12batch/s, loss=0.041112]                               0.041112]\u001b[0m\n"
     ]
    },
    {
     "name": "stdout",
     "output_type": "stream",
     "text": [
      "Epoch 9, Current LR: 2.00e-04\n",
      "Epoch 9 Train Loss = 0.0411, Accuracy = 98.92%, Test Accuracy = 98.84%\n"
     ]
    },
    {
     "name": "stderr",
     "output_type": "stream",
     "text": [
      "Epoch 10/40:: 470batch [00:02, 195.67batch/s, loss=0.037320]                              0.037320]\u001b[0m\n"
     ]
    },
    {
     "name": "stdout",
     "output_type": "stream",
     "text": [
      "Epoch 10, Current LR: 2.00e-04\n",
      "Epoch 10 Train Loss = 0.0373, Accuracy = 99.02%, Test Accuracy = 99.02%\n"
     ]
    },
    {
     "name": "stderr",
     "output_type": "stream",
     "text": [
      "Epoch 11/40:: 470batch [00:02, 204.69batch/s, loss=0.034207]                              0.034207]\u001b[0m\n"
     ]
    },
    {
     "name": "stdout",
     "output_type": "stream",
     "text": [
      "Epoch 11, Current LR: 2.00e-04\n",
      "Epoch 11 Train Loss = 0.0341, Accuracy = 99.10%, Test Accuracy = 99.04%\n"
     ]
    },
    {
     "name": "stderr",
     "output_type": "stream",
     "text": [
      "Epoch 12/40:: 470batch [00:02, 189.89batch/s, loss=0.031586]                              0.031586]\u001b[0m\n"
     ]
    },
    {
     "name": "stdout",
     "output_type": "stream",
     "text": [
      "Epoch 12, Current LR: 2.00e-04\n",
      "Epoch 12 Train Loss = 0.0316, Accuracy = 99.17%, Test Accuracy = 99.01%\n"
     ]
    },
    {
     "name": "stderr",
     "output_type": "stream",
     "text": [
      "Epoch 13/40:: 470batch [00:02, 192.12batch/s, loss=0.029535]                              0.029535]\u001b[0m\n"
     ]
    },
    {
     "name": "stdout",
     "output_type": "stream",
     "text": [
      "Epoch 13, Current LR: 2.00e-04\n",
      "Epoch 13 Train Loss = 0.0293, Accuracy = 99.22%, Test Accuracy = 99.06%\n"
     ]
    },
    {
     "name": "stderr",
     "output_type": "stream",
     "text": [
      "Epoch 14/40:: 470batch [00:02, 229.71batch/s, loss=0.027009]                              0.027009]\u001b[0m\n"
     ]
    },
    {
     "name": "stdout",
     "output_type": "stream",
     "text": [
      "Epoch 14, Current LR: 2.00e-04\n",
      "Epoch 14 Train Loss = 0.0270, Accuracy = 99.30%, Test Accuracy = 99.02%\n"
     ]
    },
    {
     "name": "stderr",
     "output_type": "stream",
     "text": [
      "Epoch 15/40:: 470batch [00:02, 180.07batch/s, loss=0.025496]                              0.025496]\u001b[0m\n"
     ]
    },
    {
     "name": "stdout",
     "output_type": "stream",
     "text": [
      "Epoch 15, Current LR: 2.00e-04\n",
      "Epoch 15 Train Loss = 0.0253, Accuracy = 99.35%, Test Accuracy = 99.06%\n"
     ]
    },
    {
     "name": "stderr",
     "output_type": "stream",
     "text": [
      "Epoch 16/40:: 470batch [00:02, 215.55batch/s, loss=0.023780]                              0.023780]\u001b[0m\n"
     ]
    },
    {
     "name": "stdout",
     "output_type": "stream",
     "text": [
      "Epoch 16, Current LR: 2.00e-04\n",
      "Epoch 16 Train Loss = 0.0238, Accuracy = 99.39%, Test Accuracy = 99.06%\n"
     ]
    },
    {
     "name": "stderr",
     "output_type": "stream",
     "text": [
      "Epoch 17/40:: 470batch [00:02, 180.39batch/s, loss=0.021977]                              0.021977]\u001b[0m\n"
     ]
    },
    {
     "name": "stdout",
     "output_type": "stream",
     "text": [
      "Epoch 17, Current LR: 2.00e-04\n",
      "Epoch 17 Train Loss = 0.0220, Accuracy = 99.44%, Test Accuracy = 99.16%\n"
     ]
    },
    {
     "name": "stderr",
     "output_type": "stream",
     "text": [
      "Epoch 18/40:: 470batch [00:02, 194.09batch/s, loss=0.020447]                              0.020447]\u001b[0m\n"
     ]
    },
    {
     "name": "stdout",
     "output_type": "stream",
     "text": [
      "Epoch 18, Current LR: 2.00e-04\n",
      "Epoch 18 Train Loss = 0.0206, Accuracy = 99.49%, Test Accuracy = 99.14%\n"
     ]
    },
    {
     "name": "stderr",
     "output_type": "stream",
     "text": [
      "Epoch 19/40:: 470batch [00:02, 208.79batch/s, loss=0.019023]                              0.019023]\u001b[0m\n"
     ]
    },
    {
     "name": "stdout",
     "output_type": "stream",
     "text": [
      "Epoch 19, Current LR: 2.00e-04\n",
      "Epoch 19 Train Loss = 0.0192, Accuracy = 99.52%, Test Accuracy = 99.15%\n"
     ]
    },
    {
     "name": "stderr",
     "output_type": "stream",
     "text": [
      "Epoch 20/40:: 470batch [00:02, 191.76batch/s, loss=0.018130]                              0.018130]\u001b[0m\n"
     ]
    },
    {
     "name": "stdout",
     "output_type": "stream",
     "text": [
      "Epoch 20, Current LR: 2.00e-04\n",
      "Epoch 20 Train Loss = 0.0181, Accuracy = 99.55%, Test Accuracy = 99.17%\n"
     ]
    },
    {
     "name": "stderr",
     "output_type": "stream",
     "text": [
      "Epoch 21/40:: 470batch [00:02, 177.42batch/s, loss=0.016979]                              0.016979]\u001b[0m\n"
     ]
    },
    {
     "name": "stdout",
     "output_type": "stream",
     "text": [
      "Epoch 21, Current LR: 2.00e-04\n",
      "Epoch 21 Train Loss = 0.0170, Accuracy = 99.58%, Test Accuracy = 99.22%\n"
     ]
    },
    {
     "name": "stderr",
     "output_type": "stream",
     "text": [
      "Epoch 22/40:: 470batch [00:01, 235.95batch/s, loss=0.015604]                              0.015604]\u001b[0m\n"
     ]
    },
    {
     "name": "stdout",
     "output_type": "stream",
     "text": [
      "Epoch 22, Current LR: 2.00e-04\n",
      "Epoch 22 Train Loss = 0.0156, Accuracy = 99.63%, Test Accuracy = 99.28%\n"
     ]
    },
    {
     "name": "stderr",
     "output_type": "stream",
     "text": [
      "Epoch 23/40:: 470batch [00:01, 269.30batch/s, loss=0.014824]                              0.014824]\u001b[0m\n"
     ]
    },
    {
     "name": "stdout",
     "output_type": "stream",
     "text": [
      "Epoch 23, Current LR: 2.00e-04\n",
      "Epoch 23 Train Loss = 0.0148, Accuracy = 99.66%, Test Accuracy = 99.22%\n"
     ]
    },
    {
     "name": "stderr",
     "output_type": "stream",
     "text": [
      "Epoch 24/40:: 470batch [00:02, 204.51batch/s, loss=0.013700]                              0.013700]\u001b[0m\n"
     ]
    },
    {
     "name": "stdout",
     "output_type": "stream",
     "text": [
      "Epoch 24, Current LR: 2.00e-04\n",
      "Epoch 24 Train Loss = 0.0138, Accuracy = 99.71%, Test Accuracy = 99.26%\n"
     ]
    },
    {
     "name": "stderr",
     "output_type": "stream",
     "text": [
      "Epoch 25/40:: 470batch [00:01, 273.28batch/s, loss=0.012740]                              0.012740]\u001b[0m\n"
     ]
    },
    {
     "name": "stdout",
     "output_type": "stream",
     "text": [
      "Epoch 25, Current LR: 2.00e-04\n",
      "Epoch 25 Train Loss = 0.0128, Accuracy = 99.74%, Test Accuracy = 99.24%\n"
     ]
    },
    {
     "name": "stderr",
     "output_type": "stream",
     "text": [
      "Epoch 26/40:: 470batch [00:01, 258.45batch/s, loss=0.011798]                              0.011798]\u001b[0m\n"
     ]
    },
    {
     "name": "stdout",
     "output_type": "stream",
     "text": [
      "Epoch 26, Current LR: 2.00e-04\n",
      "Epoch 26 Train Loss = 0.0120, Accuracy = 99.76%, Test Accuracy = 99.25%\n"
     ]
    },
    {
     "name": "stderr",
     "output_type": "stream",
     "text": [
      "Epoch 27/40:: 470batch [00:01, 246.20batch/s, loss=0.011196]                              0.011196]\u001b[0m\n"
     ]
    },
    {
     "name": "stdout",
     "output_type": "stream",
     "text": [
      "Epoch 27, Current LR: 2.00e-04\n",
      "Epoch 27 Train Loss = 0.0112, Accuracy = 99.77%, Test Accuracy = 99.23%\n"
     ]
    },
    {
     "name": "stderr",
     "output_type": "stream",
     "text": [
      "Epoch 28/40:: 470batch [00:01, 235.14batch/s, loss=0.010298]                              0.010298]\u001b[0m\n"
     ]
    },
    {
     "name": "stdout",
     "output_type": "stream",
     "text": [
      "Epoch 28, Current LR: 2.00e-04\n",
      "Epoch 28 Train Loss = 0.0103, Accuracy = 99.80%, Test Accuracy = 99.22%\n"
     ]
    },
    {
     "name": "stderr",
     "output_type": "stream",
     "text": [
      "Epoch 29/40:: 470batch [00:02, 226.66batch/s, loss=0.009569]                              0.009569]\u001b[0m\n"
     ]
    },
    {
     "name": "stdout",
     "output_type": "stream",
     "text": [
      "Epoch 29, Current LR: 2.00e-04\n",
      "Epoch 29 Train Loss = 0.0096, Accuracy = 99.83%, Test Accuracy = 99.27%\n"
     ]
    },
    {
     "name": "stderr",
     "output_type": "stream",
     "text": [
      "Epoch 30/40:: 470batch [00:01, 253.74batch/s, loss=0.009347]                              0.009347]\u001b[0m\n"
     ]
    },
    {
     "name": "stdout",
     "output_type": "stream",
     "text": [
      "Epoch 30, Current LR: 2.00e-04\n",
      "Epoch 30 Train Loss = 0.0093, Accuracy = 99.84%, Test Accuracy = 99.21%\n"
     ]
    },
    {
     "name": "stderr",
     "output_type": "stream",
     "text": [
      "Epoch 31/40:: 470batch [00:01, 263.56batch/s, loss=0.008567]                              0.008567]\u001b[0m\n"
     ]
    },
    {
     "name": "stdout",
     "output_type": "stream",
     "text": [
      "Epoch 31, Current LR: 2.00e-04\n",
      "Epoch 31 Train Loss = 0.0086, Accuracy = 99.84%, Test Accuracy = 99.28%\n"
     ]
    },
    {
     "name": "stderr",
     "output_type": "stream",
     "text": [
      "Epoch 32/40:: 470batch [00:02, 227.81batch/s, loss=0.008044]                              0.008044]\u001b[0m\n"
     ]
    },
    {
     "name": "stdout",
     "output_type": "stream",
     "text": [
      "Epoch 32, Current LR: 2.00e-04\n",
      "Epoch 32 Train Loss = 0.0080, Accuracy = 99.87%, Test Accuracy = 99.29%\n"
     ]
    },
    {
     "name": "stderr",
     "output_type": "stream",
     "text": [
      "Epoch 33/40:: 470batch [00:02, 223.48batch/s, loss=0.007340]                              0.007340]\u001b[0m\n"
     ]
    },
    {
     "name": "stdout",
     "output_type": "stream",
     "text": [
      "Epoch 33, Current LR: 2.00e-04\n",
      "Epoch 33 Train Loss = 0.0074, Accuracy = 99.89%, Test Accuracy = 99.28%\n"
     ]
    },
    {
     "name": "stderr",
     "output_type": "stream",
     "text": [
      "Epoch 34/40:: 470batch [00:01, 325.74batch/s, loss=0.006843]                              0.006843]\u001b[0m\n"
     ]
    },
    {
     "name": "stdout",
     "output_type": "stream",
     "text": [
      "Epoch 34, Current LR: 2.00e-04\n",
      "Epoch 34 Train Loss = 0.0069, Accuracy = 99.90%, Test Accuracy = 99.28%\n"
     ]
    },
    {
     "name": "stderr",
     "output_type": "stream",
     "text": [
      "Epoch 35/40:: 470batch [00:01, 268.43batch/s, loss=0.006365]                              0.006365]\u001b[0m\n"
     ]
    },
    {
     "name": "stdout",
     "output_type": "stream",
     "text": [
      "Epoch 35, Current LR: 2.00e-04\n",
      "Epoch 35 Train Loss = 0.0064, Accuracy = 99.92%, Test Accuracy = 99.27%\n"
     ]
    },
    {
     "name": "stderr",
     "output_type": "stream",
     "text": [
      "Epoch 36/40:: 470batch [00:01, 274.52batch/s, loss=0.006010]                              0.006010]\u001b[0m\n"
     ]
    },
    {
     "name": "stdout",
     "output_type": "stream",
     "text": [
      "Epoch 36, Current LR: 2.00e-04\n",
      "Epoch 36 Train Loss = 0.0060, Accuracy = 99.92%, Test Accuracy = 99.28%\n"
     ]
    },
    {
     "name": "stderr",
     "output_type": "stream",
     "text": [
      "Epoch 37/40:: 470batch [00:02, 223.24batch/s, loss=0.005512]                              0.005512]\u001b[0m\n"
     ]
    },
    {
     "name": "stdout",
     "output_type": "stream",
     "text": [
      "Epoch 37, Current LR: 2.00e-04\n",
      "Epoch 37 Train Loss = 0.0056, Accuracy = 99.95%, Test Accuracy = 99.33%\n"
     ]
    },
    {
     "name": "stderr",
     "output_type": "stream",
     "text": [
      "Epoch 38/40:: 470batch [00:01, 257.53batch/s, loss=0.005026]                              0.005026]\u001b[0m\n"
     ]
    },
    {
     "name": "stdout",
     "output_type": "stream",
     "text": [
      "Epoch 38, Current LR: 2.00e-04\n",
      "Epoch 38 Train Loss = 0.0050, Accuracy = 99.94%, Test Accuracy = 99.28%\n"
     ]
    },
    {
     "name": "stderr",
     "output_type": "stream",
     "text": [
      "Epoch 39/40:: 470batch [00:02, 193.83batch/s, loss=0.004813]                              0.004813]\u001b[0m\n"
     ]
    },
    {
     "name": "stdout",
     "output_type": "stream",
     "text": [
      "Epoch 39, Current LR: 2.00e-04\n",
      "Epoch 39 Train Loss = 0.0048, Accuracy = 99.96%, Test Accuracy = 99.29%\n"
     ]
    },
    {
     "name": "stderr",
     "output_type": "stream",
     "text": [
      "Epoch 40/40:: 470batch [00:02, 174.71batch/s, loss=0.004513]                              0.004513]\u001b[0m\n"
     ]
    },
    {
     "name": "stdout",
     "output_type": "stream",
     "text": [
      "Epoch 40, Current LR: 2.00e-04\n",
      "Epoch 40 Train Loss = 0.0045, Accuracy = 99.96%, Test Accuracy = 99.33%\n",
      "0 end at 20250923-152044\n",
      "1 start at 20250923-152044\n"
     ]
    },
    {
     "name": "stderr",
     "output_type": "stream",
     "text": [
      "Epoch 1/40:: 470batch [00:02, 188.41batch/s, loss=0.627886]                               0.627886]\u001b[0m\n"
     ]
    },
    {
     "name": "stdout",
     "output_type": "stream",
     "text": [
      "Epoch 1, Current LR: 2.00e-04\n",
      "Epoch 1 Train Loss = 0.6208, Accuracy = 86.39%, Test Accuracy = 95.19%\n"
     ]
    },
    {
     "name": "stderr",
     "output_type": "stream",
     "text": [
      "Epoch 2/40:: 470batch [00:02, 166.88batch/s, loss=0.164720]                               0.164720]\u001b[0m\n"
     ]
    },
    {
     "name": "stdout",
     "output_type": "stream",
     "text": [
      "Epoch 2, Current LR: 2.00e-04\n",
      "Epoch 2 Train Loss = 0.1640, Accuracy = 95.83%, Test Accuracy = 97.06%\n"
     ]
    },
    {
     "name": "stderr",
     "output_type": "stream",
     "text": [
      "Epoch 3/40:: 470batch [00:02, 192.57batch/s, loss=0.108487]                               0.108487]\u001b[0m\n"
     ]
    },
    {
     "name": "stdout",
     "output_type": "stream",
     "text": [
      "Epoch 3, Current LR: 2.00e-04\n",
      "Epoch 3 Train Loss = 0.1083, Accuracy = 97.22%, Test Accuracy = 97.75%\n"
     ]
    },
    {
     "name": "stderr",
     "output_type": "stream",
     "text": [
      "Epoch 4/40:: 470batch [00:02, 195.23batch/s, loss=0.083645]                               0.083645]\u001b[0m\n"
     ]
    },
    {
     "name": "stdout",
     "output_type": "stream",
     "text": [
      "Epoch 4, Current LR: 2.00e-04\n",
      "Epoch 4 Train Loss = 0.0837, Accuracy = 97.79%, Test Accuracy = 98.24%\n"
     ]
    },
    {
     "name": "stderr",
     "output_type": "stream",
     "text": [
      "Epoch 5/40:: 470batch [00:02, 179.90batch/s, loss=0.068517]                               0.068517]\u001b[0m\n"
     ]
    },
    {
     "name": "stdout",
     "output_type": "stream",
     "text": [
      "Epoch 5, Current LR: 2.00e-04\n",
      "Epoch 5 Train Loss = 0.0686, Accuracy = 98.19%, Test Accuracy = 98.44%\n"
     ]
    },
    {
     "name": "stderr",
     "output_type": "stream",
     "text": [
      "Epoch 6/40:: 470batch [00:02, 191.38batch/s, loss=0.058404]                               0.058404]\u001b[0m\n"
     ]
    },
    {
     "name": "stdout",
     "output_type": "stream",
     "text": [
      "Epoch 6, Current LR: 2.00e-04\n",
      "Epoch 6 Train Loss = 0.0584, Accuracy = 98.48%, Test Accuracy = 98.55%\n"
     ]
    },
    {
     "name": "stderr",
     "output_type": "stream",
     "text": [
      "Epoch 7/40:: 470batch [00:02, 218.35batch/s, loss=0.050992]                               0.050992]\u001b[0m\n"
     ]
    },
    {
     "name": "stdout",
     "output_type": "stream",
     "text": [
      "Epoch 7, Current LR: 2.00e-04\n",
      "Epoch 7 Train Loss = 0.0511, Accuracy = 98.65%, Test Accuracy = 98.68%\n"
     ]
    },
    {
     "name": "stderr",
     "output_type": "stream",
     "text": [
      "Epoch 8/40:: 470batch [00:01, 254.50batch/s, loss=0.045325]                               0.045325]\u001b[0m\n"
     ]
    },
    {
     "name": "stdout",
     "output_type": "stream",
     "text": [
      "Epoch 8, Current LR: 2.00e-04\n",
      "Epoch 8 Train Loss = 0.0454, Accuracy = 98.80%, Test Accuracy = 98.88%\n"
     ]
    },
    {
     "name": "stderr",
     "output_type": "stream",
     "text": [
      "Epoch 9/40:: 470batch [00:02, 220.82batch/s, loss=0.040788]                               0.040788]\u001b[0m\n"
     ]
    },
    {
     "name": "stdout",
     "output_type": "stream",
     "text": [
      "Epoch 9, Current LR: 2.00e-04\n",
      "Epoch 9 Train Loss = 0.0410, Accuracy = 98.94%, Test Accuracy = 98.92%\n"
     ]
    },
    {
     "name": "stderr",
     "output_type": "stream",
     "text": [
      "Epoch 10/40:: 470batch [00:02, 190.61batch/s, loss=0.037235]                              0.037235]\u001b[0m\n"
     ]
    },
    {
     "name": "stdout",
     "output_type": "stream",
     "text": [
      "Epoch 10, Current LR: 2.00e-04\n",
      "Epoch 10 Train Loss = 0.0372, Accuracy = 99.03%, Test Accuracy = 98.97%\n"
     ]
    },
    {
     "name": "stderr",
     "output_type": "stream",
     "text": [
      "Epoch 11/40:: 470batch [00:02, 202.26batch/s, loss=0.033979]                              0.033979]\u001b[0m\n"
     ]
    },
    {
     "name": "stdout",
     "output_type": "stream",
     "text": [
      "Epoch 11, Current LR: 2.00e-04\n",
      "Epoch 11 Train Loss = 0.0340, Accuracy = 99.12%, Test Accuracy = 99.02%\n"
     ]
    },
    {
     "name": "stderr",
     "output_type": "stream",
     "text": [
      "Epoch 12/40:: 470batch [00:02, 223.24batch/s, loss=0.031044]                              0.031044]\u001b[0m\n"
     ]
    },
    {
     "name": "stdout",
     "output_type": "stream",
     "text": [
      "Epoch 12, Current LR: 2.00e-04\n",
      "Epoch 12 Train Loss = 0.0311, Accuracy = 99.19%, Test Accuracy = 99.07%\n"
     ]
    },
    {
     "name": "stderr",
     "output_type": "stream",
     "text": [
      "Epoch 13/40:: 470batch [00:02, 194.97batch/s, loss=0.028976]                              0.028976]\u001b[0m\n"
     ]
    },
    {
     "name": "stdout",
     "output_type": "stream",
     "text": [
      "Epoch 13, Current LR: 2.00e-04\n",
      "Epoch 13 Train Loss = 0.0290, Accuracy = 99.22%, Test Accuracy = 99.15%\n"
     ]
    },
    {
     "name": "stderr",
     "output_type": "stream",
     "text": [
      "Epoch 14/40:: 470batch [00:02, 183.81batch/s, loss=0.026954]                              0.026954]\u001b[0m\n"
     ]
    },
    {
     "name": "stdout",
     "output_type": "stream",
     "text": [
      "Epoch 14, Current LR: 2.00e-04\n",
      "Epoch 14 Train Loss = 0.0268, Accuracy = 99.30%, Test Accuracy = 99.08%\n"
     ]
    },
    {
     "name": "stderr",
     "output_type": "stream",
     "text": [
      "Epoch 15/40:: 470batch [00:02, 177.93batch/s, loss=0.024851]                              0.024851]\u001b[0m\n"
     ]
    },
    {
     "name": "stdout",
     "output_type": "stream",
     "text": [
      "Epoch 15, Current LR: 2.00e-04\n",
      "Epoch 15 Train Loss = 0.0249, Accuracy = 99.36%, Test Accuracy = 99.13%\n"
     ]
    },
    {
     "name": "stderr",
     "output_type": "stream",
     "text": [
      "Epoch 16/40:: 470batch [00:01, 258.76batch/s, loss=0.023153]                              0.023153]\u001b[0m\n"
     ]
    },
    {
     "name": "stdout",
     "output_type": "stream",
     "text": [
      "Epoch 16, Current LR: 2.00e-04\n",
      "Epoch 16 Train Loss = 0.0232, Accuracy = 99.40%, Test Accuracy = 99.17%\n"
     ]
    },
    {
     "name": "stderr",
     "output_type": "stream",
     "text": [
      "Epoch 17/40:: 470batch [00:01, 294.72batch/s, loss=0.021814]                              0.021814]\u001b[0m\n"
     ]
    },
    {
     "name": "stdout",
     "output_type": "stream",
     "text": [
      "Epoch 17, Current LR: 2.00e-04\n",
      "Epoch 17 Train Loss = 0.0218, Accuracy = 99.42%, Test Accuracy = 99.24%\n"
     ]
    },
    {
     "name": "stderr",
     "output_type": "stream",
     "text": [
      "Epoch 18/40:: 470batch [00:01, 246.25batch/s, loss=0.020358]                              0.020358]\u001b[0m\n"
     ]
    },
    {
     "name": "stdout",
     "output_type": "stream",
     "text": [
      "Epoch 18, Current LR: 2.00e-04\n",
      "Epoch 18 Train Loss = 0.0203, Accuracy = 99.49%, Test Accuracy = 99.31%\n"
     ]
    },
    {
     "name": "stderr",
     "output_type": "stream",
     "text": [
      "Epoch 19/40:: 470batch [00:01, 276.35batch/s, loss=0.018935]                              0.018935]\u001b[0m\n"
     ]
    },
    {
     "name": "stdout",
     "output_type": "stream",
     "text": [
      "Epoch 19, Current LR: 2.00e-04\n",
      "Epoch 19 Train Loss = 0.0189, Accuracy = 99.53%, Test Accuracy = 99.22%\n"
     ]
    },
    {
     "name": "stderr",
     "output_type": "stream",
     "text": [
      "Epoch 20/40:: 470batch [00:01, 299.55batch/s, loss=0.017714]                              0.017714]\u001b[0m\n"
     ]
    },
    {
     "name": "stdout",
     "output_type": "stream",
     "text": [
      "Epoch 20, Current LR: 2.00e-04\n",
      "Epoch 20 Train Loss = 0.0177, Accuracy = 99.58%, Test Accuracy = 99.19%\n"
     ]
    },
    {
     "name": "stderr",
     "output_type": "stream",
     "text": [
      "Epoch 21/40:: 470batch [00:01, 342.37batch/s, loss=0.016298]                              0.016298]\u001b[0m\n"
     ]
    },
    {
     "name": "stdout",
     "output_type": "stream",
     "text": [
      "Epoch 21, Current LR: 2.00e-04\n",
      "Epoch 21 Train Loss = 0.0164, Accuracy = 99.63%, Test Accuracy = 99.26%\n"
     ]
    },
    {
     "name": "stderr",
     "output_type": "stream",
     "text": [
      "Epoch 22/40:: 470batch [00:01, 342.34batch/s, loss=0.015528]                              0.015528]\u001b[0m\n"
     ]
    },
    {
     "name": "stdout",
     "output_type": "stream",
     "text": [
      "Epoch 22, Current LR: 2.00e-04\n",
      "Epoch 22 Train Loss = 0.0155, Accuracy = 99.64%, Test Accuracy = 99.34%\n"
     ]
    },
    {
     "name": "stderr",
     "output_type": "stream",
     "text": [
      "Epoch 23/40:: 470batch [00:01, 283.31batch/s, loss=0.014874]                              0.014874]\u001b[0m\n"
     ]
    },
    {
     "name": "stdout",
     "output_type": "stream",
     "text": [
      "Epoch 23, Current LR: 2.00e-04\n",
      "Epoch 23 Train Loss = 0.0148, Accuracy = 99.65%, Test Accuracy = 99.28%\n"
     ]
    },
    {
     "name": "stderr",
     "output_type": "stream",
     "text": [
      "Epoch 24/40:: 470batch [00:01, 240.42batch/s, loss=0.013534]                              0.013534]\u001b[0m\n"
     ]
    },
    {
     "name": "stdout",
     "output_type": "stream",
     "text": [
      "Epoch 24, Current LR: 2.00e-04\n",
      "Epoch 24 Train Loss = 0.0136, Accuracy = 99.70%, Test Accuracy = 99.31%\n"
     ]
    },
    {
     "name": "stderr",
     "output_type": "stream",
     "text": [
      "Epoch 25/40:: 470batch [00:01, 254.61batch/s, loss=0.012554]                              0.012554]\u001b[0m\n"
     ]
    },
    {
     "name": "stdout",
     "output_type": "stream",
     "text": [
      "Epoch 25, Current LR: 2.00e-04\n",
      "Epoch 25 Train Loss = 0.0127, Accuracy = 99.72%, Test Accuracy = 99.31%\n"
     ]
    },
    {
     "name": "stderr",
     "output_type": "stream",
     "text": [
      "Epoch 26/40:: 470batch [00:01, 249.77batch/s, loss=0.011935]                              0.011935]\u001b[0m\n"
     ]
    },
    {
     "name": "stdout",
     "output_type": "stream",
     "text": [
      "Epoch 26, Current LR: 2.00e-04\n",
      "Epoch 26 Train Loss = 0.0119, Accuracy = 99.77%, Test Accuracy = 99.27%\n"
     ]
    },
    {
     "name": "stderr",
     "output_type": "stream",
     "text": [
      "Epoch 27/40:: 470batch [00:01, 286.61batch/s, loss=0.010961]                              0.010961]\u001b[0m\n"
     ]
    },
    {
     "name": "stdout",
     "output_type": "stream",
     "text": [
      "Epoch 27, Current LR: 2.00e-04\n",
      "Epoch 27 Train Loss = 0.0110, Accuracy = 99.79%, Test Accuracy = 99.34%\n"
     ]
    },
    {
     "name": "stderr",
     "output_type": "stream",
     "text": [
      "Epoch 28/40:: 470batch [00:01, 293.13batch/s, loss=0.010387]                              0.010387]\u001b[0m\n"
     ]
    },
    {
     "name": "stdout",
     "output_type": "stream",
     "text": [
      "Epoch 28, Current LR: 2.00e-04\n",
      "Epoch 28 Train Loss = 0.0104, Accuracy = 99.81%, Test Accuracy = 99.30%\n"
     ]
    },
    {
     "name": "stderr",
     "output_type": "stream",
     "text": [
      "Epoch 29/40:: 470batch [00:01, 248.44batch/s, loss=0.009857]                              0.009857]\u001b[0m\n"
     ]
    },
    {
     "name": "stdout",
     "output_type": "stream",
     "text": [
      "Epoch 29, Current LR: 2.00e-04\n",
      "Epoch 29 Train Loss = 0.0098, Accuracy = 99.82%, Test Accuracy = 99.32%\n"
     ]
    },
    {
     "name": "stderr",
     "output_type": "stream",
     "text": [
      "Epoch 30/40:: 470batch [00:01, 258.78batch/s, loss=0.009183]                              0.009183]\u001b[0m\n"
     ]
    },
    {
     "name": "stdout",
     "output_type": "stream",
     "text": [
      "Epoch 30, Current LR: 2.00e-04\n",
      "Epoch 30 Train Loss = 0.0092, Accuracy = 99.84%, Test Accuracy = 99.28%\n"
     ]
    },
    {
     "name": "stderr",
     "output_type": "stream",
     "text": [
      "Epoch 31/40:: 470batch [00:02, 183.32batch/s, loss=0.008419]                              0.008419]\u001b[0m\n"
     ]
    },
    {
     "name": "stdout",
     "output_type": "stream",
     "text": [
      "Epoch 31, Current LR: 2.00e-04\n",
      "Epoch 31 Train Loss = 0.0085, Accuracy = 99.87%, Test Accuracy = 99.32%\n"
     ]
    },
    {
     "name": "stderr",
     "output_type": "stream",
     "text": [
      "Epoch 32/40:: 470batch [00:01, 323.83batch/s, loss=0.007949]                              0.007949]\u001b[0m\n"
     ]
    },
    {
     "name": "stdout",
     "output_type": "stream",
     "text": [
      "Epoch 32, Current LR: 2.00e-04\n",
      "Epoch 32 Train Loss = 0.0079, Accuracy = 99.89%, Test Accuracy = 99.31%\n"
     ]
    },
    {
     "name": "stderr",
     "output_type": "stream",
     "text": [
      "Epoch 33/40:: 470batch [00:01, 359.82batch/s, loss=0.007252]                              0.007252]\u001b[0m\n"
     ]
    },
    {
     "name": "stdout",
     "output_type": "stream",
     "text": [
      "Epoch 33, Current LR: 2.00e-04\n",
      "Epoch 33 Train Loss = 0.0073, Accuracy = 99.89%, Test Accuracy = 99.31%\n"
     ]
    },
    {
     "name": "stderr",
     "output_type": "stream",
     "text": [
      "Epoch 34/40:: 470batch [00:01, 315.16batch/s, loss=0.006972]                              0.006972]\u001b[0m\n"
     ]
    },
    {
     "name": "stdout",
     "output_type": "stream",
     "text": [
      "Epoch 34, Current LR: 2.00e-04\n",
      "Epoch 34 Train Loss = 0.0069, Accuracy = 99.92%, Test Accuracy = 99.33%\n"
     ]
    },
    {
     "name": "stderr",
     "output_type": "stream",
     "text": [
      "Epoch 35/40:: 470batch [00:01, 260.33batch/s, loss=0.006404]                              0.006404]\u001b[0m\n"
     ]
    },
    {
     "name": "stdout",
     "output_type": "stream",
     "text": [
      "Epoch 35, Current LR: 2.00e-04\n",
      "Epoch 35 Train Loss = 0.0064, Accuracy = 99.94%, Test Accuracy = 99.28%\n"
     ]
    },
    {
     "name": "stderr",
     "output_type": "stream",
     "text": [
      "Epoch 36/40:: 470batch [00:01, 240.54batch/s, loss=0.005880]                              0.005880]\u001b[0m\n"
     ]
    },
    {
     "name": "stdout",
     "output_type": "stream",
     "text": [
      "Epoch 36, Current LR: 2.00e-04\n",
      "Epoch 36 Train Loss = 0.0059, Accuracy = 99.94%, Test Accuracy = 99.34%\n"
     ]
    },
    {
     "name": "stderr",
     "output_type": "stream",
     "text": [
      "Epoch 37/40:: 470batch [00:01, 240.51batch/s, loss=0.005776]                              0.005776]\u001b[0m\n"
     ]
    },
    {
     "name": "stdout",
     "output_type": "stream",
     "text": [
      "Epoch 37, Current LR: 2.00e-04\n",
      "Epoch 37 Train Loss = 0.0058, Accuracy = 99.94%, Test Accuracy = 99.33%\n"
     ]
    },
    {
     "name": "stderr",
     "output_type": "stream",
     "text": [
      "Epoch 38/40:: 470batch [00:01, 277.67batch/s, loss=0.005118]                              0.005118]\u001b[0m\n"
     ]
    },
    {
     "name": "stdout",
     "output_type": "stream",
     "text": [
      "Epoch 38, Current LR: 2.00e-04\n",
      "Epoch 38 Train Loss = 0.0051, Accuracy = 99.95%, Test Accuracy = 99.34%\n"
     ]
    },
    {
     "name": "stderr",
     "output_type": "stream",
     "text": [
      "Epoch 39/40:: 470batch [00:02, 219.23batch/s, loss=0.004725]                              0.004725]\u001b[0m\n"
     ]
    },
    {
     "name": "stdout",
     "output_type": "stream",
     "text": [
      "Epoch 39, Current LR: 2.00e-04\n",
      "Epoch 39 Train Loss = 0.0047, Accuracy = 99.96%, Test Accuracy = 99.34%\n"
     ]
    },
    {
     "name": "stderr",
     "output_type": "stream",
     "text": [
      "Epoch 40/40:: 470batch [00:01, 250.13batch/s, loss=0.004501]                              0.004501]\u001b[0m\n"
     ]
    },
    {
     "name": "stdout",
     "output_type": "stream",
     "text": [
      "Epoch 40, Current LR: 2.00e-04\n",
      "Epoch 40 Train Loss = 0.0045, Accuracy = 99.96%, Test Accuracy = 99.26%\n",
      "1 end at 20250923-152205\n",
      "2 start at 20250923-152205\n"
     ]
    },
    {
     "name": "stderr",
     "output_type": "stream",
     "text": [
      "Epoch 1/40:: 470batch [00:01, 251.14batch/s, loss=0.598246]                               0.598246]\u001b[0m\n"
     ]
    },
    {
     "name": "stdout",
     "output_type": "stream",
     "text": [
      "Epoch 1, Current LR: 2.00e-04\n",
      "Epoch 1 Train Loss = 0.5914, Accuracy = 87.24%, Test Accuracy = 95.49%\n"
     ]
    },
    {
     "name": "stderr",
     "output_type": "stream",
     "text": [
      "Epoch 2/40:: 470batch [00:01, 264.26batch/s, loss=0.155721]                               0.155721]\u001b[0m\n"
     ]
    },
    {
     "name": "stdout",
     "output_type": "stream",
     "text": [
      "Epoch 2, Current LR: 2.00e-04\n",
      "Epoch 2 Train Loss = 0.1556, Accuracy = 96.10%, Test Accuracy = 97.28%\n"
     ]
    },
    {
     "name": "stderr",
     "output_type": "stream",
     "text": [
      "Epoch 3/40:: 470batch [00:01, 270.03batch/s, loss=0.103204]                               0.103204]\u001b[0m\n"
     ]
    },
    {
     "name": "stdout",
     "output_type": "stream",
     "text": [
      "Epoch 3, Current LR: 2.00e-04\n",
      "Epoch 3 Train Loss = 0.1031, Accuracy = 97.33%, Test Accuracy = 97.94%\n"
     ]
    },
    {
     "name": "stderr",
     "output_type": "stream",
     "text": [
      "Epoch 4/40:: 470batch [00:01, 246.28batch/s, loss=0.079528]                               0.079528]\u001b[0m\n"
     ]
    },
    {
     "name": "stdout",
     "output_type": "stream",
     "text": [
      "Epoch 4, Current LR: 2.00e-04\n",
      "Epoch 4 Train Loss = 0.0794, Accuracy = 97.88%, Test Accuracy = 98.35%\n"
     ]
    },
    {
     "name": "stderr",
     "output_type": "stream",
     "text": [
      "Epoch 5/40:: 470batch [00:02, 217.39batch/s, loss=0.064781]                               0.064781]\u001b[0m\n"
     ]
    },
    {
     "name": "stdout",
     "output_type": "stream",
     "text": [
      "Epoch 5, Current LR: 2.00e-04\n",
      "Epoch 5 Train Loss = 0.0650, Accuracy = 98.29%, Test Accuracy = 98.56%\n"
     ]
    },
    {
     "name": "stderr",
     "output_type": "stream",
     "text": [
      "Epoch 6/40:: 470batch [00:02, 214.16batch/s, loss=0.056172]                               0.056172]\u001b[0m\n"
     ]
    },
    {
     "name": "stdout",
     "output_type": "stream",
     "text": [
      "Epoch 6, Current LR: 2.00e-04\n",
      "Epoch 6 Train Loss = 0.0560, Accuracy = 98.54%, Test Accuracy = 98.64%\n"
     ]
    },
    {
     "name": "stderr",
     "output_type": "stream",
     "text": [
      "Epoch 7/40:: 470batch [00:01, 253.12batch/s, loss=0.049270]                               0.049270]\u001b[0m\n"
     ]
    },
    {
     "name": "stdout",
     "output_type": "stream",
     "text": [
      "Epoch 7, Current LR: 2.00e-04\n",
      "Epoch 7 Train Loss = 0.0492, Accuracy = 98.69%, Test Accuracy = 98.78%\n"
     ]
    },
    {
     "name": "stderr",
     "output_type": "stream",
     "text": [
      "Epoch 8/40:: 470batch [00:02, 223.92batch/s, loss=0.043867]                               0.043867]\u001b[0m\n"
     ]
    },
    {
     "name": "stdout",
     "output_type": "stream",
     "text": [
      "Epoch 8, Current LR: 2.00e-04\n",
      "Epoch 8 Train Loss = 0.0436, Accuracy = 98.82%, Test Accuracy = 98.92%\n"
     ]
    },
    {
     "name": "stderr",
     "output_type": "stream",
     "text": [
      "Epoch 9/40:: 470batch [00:02, 202.54batch/s, loss=0.039369]                               0.039369]\u001b[0m\n"
     ]
    },
    {
     "name": "stdout",
     "output_type": "stream",
     "text": [
      "Epoch 9, Current LR: 2.00e-04\n",
      "Epoch 9 Train Loss = 0.0394, Accuracy = 98.96%, Test Accuracy = 98.95%\n"
     ]
    },
    {
     "name": "stderr",
     "output_type": "stream",
     "text": [
      "Epoch 10/40:: 470batch [00:02, 224.81batch/s, loss=0.036023]                              0.036023]\u001b[0m\n"
     ]
    },
    {
     "name": "stdout",
     "output_type": "stream",
     "text": [
      "Epoch 10, Current LR: 2.00e-04\n",
      "Epoch 10 Train Loss = 0.0359, Accuracy = 99.05%, Test Accuracy = 99.04%\n"
     ]
    },
    {
     "name": "stderr",
     "output_type": "stream",
     "text": [
      "Epoch 11/40:: 470batch [00:02, 232.08batch/s, loss=0.032913]                              0.032913]\u001b[0m\n"
     ]
    },
    {
     "name": "stdout",
     "output_type": "stream",
     "text": [
      "Epoch 11, Current LR: 2.00e-04\n",
      "Epoch 11 Train Loss = 0.0330, Accuracy = 99.16%, Test Accuracy = 99.16%\n"
     ]
    },
    {
     "name": "stderr",
     "output_type": "stream",
     "text": [
      "Epoch 12/40:: 470batch [00:01, 271.47batch/s, loss=0.030251]                              0.030251]\u001b[0m\n"
     ]
    },
    {
     "name": "stdout",
     "output_type": "stream",
     "text": [
      "Epoch 12, Current LR: 2.00e-04\n",
      "Epoch 12 Train Loss = 0.0302, Accuracy = 99.20%, Test Accuracy = 99.10%\n"
     ]
    },
    {
     "name": "stderr",
     "output_type": "stream",
     "text": [
      "Epoch 13/40:: 470batch [00:01, 252.94batch/s, loss=0.027877]                              0.027877]\u001b[0m\n"
     ]
    },
    {
     "name": "stdout",
     "output_type": "stream",
     "text": [
      "Epoch 13, Current LR: 2.00e-04\n",
      "Epoch 13 Train Loss = 0.0280, Accuracy = 99.29%, Test Accuracy = 99.15%\n"
     ]
    },
    {
     "name": "stderr",
     "output_type": "stream",
     "text": [
      "Epoch 14/40:: 470batch [00:01, 251.77batch/s, loss=0.026183]                              0.026183]\u001b[0m\n"
     ]
    },
    {
     "name": "stdout",
     "output_type": "stream",
     "text": [
      "Epoch 14, Current LR: 2.00e-04\n",
      "Epoch 14 Train Loss = 0.0261, Accuracy = 99.33%, Test Accuracy = 99.23%\n"
     ]
    },
    {
     "name": "stderr",
     "output_type": "stream",
     "text": [
      "Epoch 15/40:: 470batch [00:01, 276.20batch/s, loss=0.023841]                              0.023841]\u001b[0m\n"
     ]
    },
    {
     "name": "stdout",
     "output_type": "stream",
     "text": [
      "Epoch 15, Current LR: 2.00e-04\n",
      "Epoch 15 Train Loss = 0.0241, Accuracy = 99.39%, Test Accuracy = 99.22%\n"
     ]
    },
    {
     "name": "stderr",
     "output_type": "stream",
     "text": [
      "Epoch 16/40:: 470batch [00:01, 246.72batch/s, loss=0.022500]                              0.022500]\u001b[0m\n"
     ]
    },
    {
     "name": "stdout",
     "output_type": "stream",
     "text": [
      "Epoch 16, Current LR: 2.00e-04\n",
      "Epoch 16 Train Loss = 0.0224, Accuracy = 99.44%, Test Accuracy = 99.24%\n"
     ]
    },
    {
     "name": "stderr",
     "output_type": "stream",
     "text": [
      "Epoch 17/40:: 470batch [00:01, 258.33batch/s, loss=0.021113]                              0.021113]\u001b[0m\n"
     ]
    },
    {
     "name": "stdout",
     "output_type": "stream",
     "text": [
      "Epoch 17, Current LR: 2.00e-04\n",
      "Epoch 17 Train Loss = 0.0211, Accuracy = 99.45%, Test Accuracy = 99.21%\n"
     ]
    },
    {
     "name": "stderr",
     "output_type": "stream",
     "text": [
      "Epoch 18/40:: 470batch [00:01, 241.52batch/s, loss=0.019672]                              0.019672]\u001b[0m\n"
     ]
    },
    {
     "name": "stdout",
     "output_type": "stream",
     "text": [
      "Epoch 18, Current LR: 2.00e-04\n",
      "Epoch 18 Train Loss = 0.0196, Accuracy = 99.52%, Test Accuracy = 99.28%\n"
     ]
    },
    {
     "name": "stderr",
     "output_type": "stream",
     "text": [
      "Epoch 19/40:: 470batch [00:01, 236.65batch/s, loss=0.018228]                              0.018228]\u001b[0m\n"
     ]
    },
    {
     "name": "stdout",
     "output_type": "stream",
     "text": [
      "Epoch 19, Current LR: 2.00e-04\n",
      "Epoch 19 Train Loss = 0.0182, Accuracy = 99.56%, Test Accuracy = 99.13%\n"
     ]
    },
    {
     "name": "stderr",
     "output_type": "stream",
     "text": [
      "Epoch 20/40:: 470batch [00:02, 231.54batch/s, loss=0.016962]                              0.016962]\u001b[0m\n"
     ]
    },
    {
     "name": "stdout",
     "output_type": "stream",
     "text": [
      "Epoch 20, Current LR: 2.00e-04\n",
      "Epoch 20 Train Loss = 0.0171, Accuracy = 99.61%, Test Accuracy = 99.27%\n"
     ]
    },
    {
     "name": "stderr",
     "output_type": "stream",
     "text": [
      "Epoch 21/40:: 470batch [00:01, 274.24batch/s, loss=0.015995]                              0.015995]\u001b[0m\n"
     ]
    },
    {
     "name": "stdout",
     "output_type": "stream",
     "text": [
      "Epoch 21, Current LR: 2.00e-04\n",
      "Epoch 21 Train Loss = 0.0160, Accuracy = 99.63%, Test Accuracy = 99.30%\n"
     ]
    },
    {
     "name": "stderr",
     "output_type": "stream",
     "text": [
      "Epoch 22/40:: 470batch [00:01, 276.10batch/s, loss=0.015288]                              0.015288]\u001b[0m\n"
     ]
    },
    {
     "name": "stdout",
     "output_type": "stream",
     "text": [
      "Epoch 22, Current LR: 2.00e-04\n",
      "Epoch 22 Train Loss = 0.0152, Accuracy = 99.67%, Test Accuracy = 99.28%\n"
     ]
    },
    {
     "name": "stderr",
     "output_type": "stream",
     "text": [
      "Epoch 23/40:: 470batch [00:02, 208.49batch/s, loss=0.013994]                              0.013994]\u001b[0m\n"
     ]
    },
    {
     "name": "stdout",
     "output_type": "stream",
     "text": [
      "Epoch 23, Current LR: 2.00e-04\n",
      "Epoch 23 Train Loss = 0.0141, Accuracy = 99.69%, Test Accuracy = 99.36%\n"
     ]
    },
    {
     "name": "stderr",
     "output_type": "stream",
     "text": [
      "Epoch 24/40:: 470batch [00:01, 272.98batch/s, loss=0.013380]                              0.013380]\u001b[0m\n"
     ]
    },
    {
     "name": "stdout",
     "output_type": "stream",
     "text": [
      "Epoch 24, Current LR: 2.00e-04\n",
      "Epoch 24 Train Loss = 0.0134, Accuracy = 99.70%, Test Accuracy = 99.21%\n"
     ]
    },
    {
     "name": "stderr",
     "output_type": "stream",
     "text": [
      "Epoch 25/40:: 470batch [00:01, 294.72batch/s, loss=0.012189]                              0.012189]\u001b[0m\n"
     ]
    },
    {
     "name": "stdout",
     "output_type": "stream",
     "text": [
      "Epoch 25, Current LR: 2.00e-04\n",
      "Epoch 25 Train Loss = 0.0122, Accuracy = 99.76%, Test Accuracy = 99.31%\n"
     ]
    },
    {
     "name": "stderr",
     "output_type": "stream",
     "text": [
      "Epoch 26/40:: 470batch [00:01, 284.14batch/s, loss=0.011290]                              0.011290]\u001b[0m\n"
     ]
    },
    {
     "name": "stdout",
     "output_type": "stream",
     "text": [
      "Epoch 26, Current LR: 2.00e-04\n",
      "Epoch 26 Train Loss = 0.0113, Accuracy = 99.78%, Test Accuracy = 99.33%\n"
     ]
    },
    {
     "name": "stderr",
     "output_type": "stream",
     "text": [
      "Epoch 27/40:: 470batch [00:02, 219.99batch/s, loss=0.011017]                              0.011017]\u001b[0m\n"
     ]
    },
    {
     "name": "stdout",
     "output_type": "stream",
     "text": [
      "Epoch 27, Current LR: 2.00e-04\n",
      "Epoch 27 Train Loss = 0.0110, Accuracy = 99.77%, Test Accuracy = 99.25%\n"
     ]
    },
    {
     "name": "stderr",
     "output_type": "stream",
     "text": [
      "Epoch 28/40:: 470batch [00:02, 221.04batch/s, loss=0.010013]                              0.010013]\u001b[0m\n"
     ]
    },
    {
     "name": "stdout",
     "output_type": "stream",
     "text": [
      "Epoch 28, Current LR: 2.00e-04\n",
      "Epoch 28 Train Loss = 0.0100, Accuracy = 99.82%, Test Accuracy = 99.37%\n"
     ]
    },
    {
     "name": "stderr",
     "output_type": "stream",
     "text": [
      "Epoch 29/40:: 470batch [00:01, 237.29batch/s, loss=0.009288]                              0.009288]\u001b[0m\n"
     ]
    },
    {
     "name": "stdout",
     "output_type": "stream",
     "text": [
      "Epoch 29, Current LR: 2.00e-04\n",
      "Epoch 29 Train Loss = 0.0093, Accuracy = 99.83%, Test Accuracy = 99.34%\n"
     ]
    },
    {
     "name": "stderr",
     "output_type": "stream",
     "text": [
      "Epoch 30/40:: 470batch [00:01, 257.25batch/s, loss=0.008813]                              0.008813]\u001b[0m\n"
     ]
    },
    {
     "name": "stdout",
     "output_type": "stream",
     "text": [
      "Epoch 30, Current LR: 2.00e-04\n",
      "Epoch 30 Train Loss = 0.0088, Accuracy = 99.85%, Test Accuracy = 99.34%\n"
     ]
    },
    {
     "name": "stderr",
     "output_type": "stream",
     "text": [
      "Epoch 31/40:: 470batch [00:01, 295.77batch/s, loss=0.008116]                              0.008116]\u001b[0m\n"
     ]
    },
    {
     "name": "stdout",
     "output_type": "stream",
     "text": [
      "Epoch 31, Current LR: 2.00e-04\n",
      "Epoch 31 Train Loss = 0.0081, Accuracy = 99.88%, Test Accuracy = 99.34%\n"
     ]
    },
    {
     "name": "stderr",
     "output_type": "stream",
     "text": [
      "Epoch 32/40:: 470batch [00:01, 301.83batch/s, loss=0.007534]                              0.007534]\u001b[0m\n"
     ]
    },
    {
     "name": "stdout",
     "output_type": "stream",
     "text": [
      "Epoch 32, Current LR: 2.00e-04\n",
      "Epoch 32 Train Loss = 0.0075, Accuracy = 99.89%, Test Accuracy = 99.27%\n"
     ]
    },
    {
     "name": "stderr",
     "output_type": "stream",
     "text": [
      "Epoch 33/40:: 470batch [00:01, 260.09batch/s, loss=0.007189]                              0.007189]\u001b[0m\n"
     ]
    },
    {
     "name": "stdout",
     "output_type": "stream",
     "text": [
      "Epoch 33, Current LR: 2.00e-04\n",
      "Epoch 33 Train Loss = 0.0073, Accuracy = 99.90%, Test Accuracy = 99.35%\n"
     ]
    },
    {
     "name": "stderr",
     "output_type": "stream",
     "text": [
      "Epoch 34/40:: 470batch [00:02, 211.07batch/s, loss=0.006689]                              0.006689]\u001b[0m\n"
     ]
    },
    {
     "name": "stdout",
     "output_type": "stream",
     "text": [
      "Epoch 34, Current LR: 2.00e-04\n",
      "Epoch 34 Train Loss = 0.0067, Accuracy = 99.91%, Test Accuracy = 99.35%\n"
     ]
    },
    {
     "name": "stderr",
     "output_type": "stream",
     "text": [
      "Epoch 35/40:: 470batch [00:01, 273.63batch/s, loss=0.006108]                              0.006108]\u001b[0m\n"
     ]
    },
    {
     "name": "stdout",
     "output_type": "stream",
     "text": [
      "Epoch 35, Current LR: 2.00e-04\n",
      "Epoch 35 Train Loss = 0.0061, Accuracy = 99.93%, Test Accuracy = 99.29%\n"
     ]
    },
    {
     "name": "stderr",
     "output_type": "stream",
     "text": [
      "Epoch 36/40:: 470batch [00:01, 241.68batch/s, loss=0.005708]                              0.005708]\u001b[0m\n"
     ]
    },
    {
     "name": "stdout",
     "output_type": "stream",
     "text": [
      "Epoch 36, Current LR: 2.00e-04\n",
      "Epoch 36 Train Loss = 0.0057, Accuracy = 99.93%, Test Accuracy = 99.36%\n"
     ]
    },
    {
     "name": "stderr",
     "output_type": "stream",
     "text": [
      "Epoch 37/40:: 470batch [00:02, 231.09batch/s, loss=0.005309]                              0.005309]\u001b[0m\n"
     ]
    },
    {
     "name": "stdout",
     "output_type": "stream",
     "text": [
      "Epoch 37, Current LR: 2.00e-04\n",
      "Epoch 37 Train Loss = 0.0053, Accuracy = 99.95%, Test Accuracy = 99.37%\n"
     ]
    },
    {
     "name": "stderr",
     "output_type": "stream",
     "text": [
      "Epoch 38/40:: 470batch [00:02, 190.86batch/s, loss=0.005052]                              0.005052]\u001b[0m\n"
     ]
    },
    {
     "name": "stdout",
     "output_type": "stream",
     "text": [
      "Epoch 38, Current LR: 2.00e-04\n",
      "Epoch 38 Train Loss = 0.0050, Accuracy = 99.95%, Test Accuracy = 99.40%\n"
     ]
    },
    {
     "name": "stderr",
     "output_type": "stream",
     "text": [
      "Epoch 39/40:: 470batch [00:02, 223.78batch/s, loss=0.004500]                              0.004500]\u001b[0m\n"
     ]
    },
    {
     "name": "stdout",
     "output_type": "stream",
     "text": [
      "Epoch 39, Current LR: 2.00e-04\n",
      "Epoch 39 Train Loss = 0.0045, Accuracy = 99.97%, Test Accuracy = 99.37%\n"
     ]
    },
    {
     "name": "stderr",
     "output_type": "stream",
     "text": [
      "Epoch 40/40:: 470batch [00:01, 248.37batch/s, loss=0.004241]                              0.004241]\u001b[0m\n"
     ]
    },
    {
     "name": "stdout",
     "output_type": "stream",
     "text": [
      "Epoch 40, Current LR: 2.00e-04\n",
      "Epoch 40 Train Loss = 0.0043, Accuracy = 99.97%, Test Accuracy = 99.33%\n",
      "2 end at 20250923-152324\n",
      "3 start at 20250923-152324\n"
     ]
    },
    {
     "name": "stderr",
     "output_type": "stream",
     "text": [
      "Epoch 1/40:: 470batch [00:01, 274.44batch/s, loss=0.593103]                               0.593103]\u001b[0m\n"
     ]
    },
    {
     "name": "stdout",
     "output_type": "stream",
     "text": [
      "Epoch 1, Current LR: 2.00e-04\n",
      "Epoch 1 Train Loss = 0.5875, Accuracy = 86.84%, Test Accuracy = 95.32%\n"
     ]
    },
    {
     "name": "stderr",
     "output_type": "stream",
     "text": [
      "Epoch 2/40:: 470batch [00:01, 310.00batch/s, loss=0.152959]                               0.152959]\u001b[0m\n"
     ]
    },
    {
     "name": "stdout",
     "output_type": "stream",
     "text": [
      "Epoch 2, Current LR: 2.00e-04\n",
      "Epoch 2 Train Loss = 0.1528, Accuracy = 96.07%, Test Accuracy = 97.18%\n"
     ]
    },
    {
     "name": "stderr",
     "output_type": "stream",
     "text": [
      "Epoch 3/40:: 470batch [00:01, 245.52batch/s, loss=0.104967]                               0.104967]\u001b[0m\n"
     ]
    },
    {
     "name": "stdout",
     "output_type": "stream",
     "text": [
      "Epoch 3, Current LR: 2.00e-04\n",
      "Epoch 3 Train Loss = 0.1045, Accuracy = 97.20%, Test Accuracy = 97.86%\n"
     ]
    },
    {
     "name": "stderr",
     "output_type": "stream",
     "text": [
      "Epoch 4/40:: 470batch [00:01, 240.94batch/s, loss=0.082157]                               0.082157]\u001b[0m\n"
     ]
    },
    {
     "name": "stdout",
     "output_type": "stream",
     "text": [
      "Epoch 4, Current LR: 2.00e-04\n",
      "Epoch 4 Train Loss = 0.0819, Accuracy = 97.84%, Test Accuracy = 98.17%\n"
     ]
    },
    {
     "name": "stderr",
     "output_type": "stream",
     "text": [
      "Epoch 5/40:: 470batch [00:01, 307.73batch/s, loss=0.068413]                               0.068413]\u001b[0m\n"
     ]
    },
    {
     "name": "stdout",
     "output_type": "stream",
     "text": [
      "Epoch 5, Current LR: 2.00e-04\n",
      "Epoch 5 Train Loss = 0.0684, Accuracy = 98.18%, Test Accuracy = 98.39%\n"
     ]
    },
    {
     "name": "stderr",
     "output_type": "stream",
     "text": [
      "Epoch 6/40:: 470batch [00:01, 285.40batch/s, loss=0.058496]                               0.058496]\u001b[0m\n"
     ]
    },
    {
     "name": "stdout",
     "output_type": "stream",
     "text": [
      "Epoch 6, Current LR: 2.00e-04\n",
      "Epoch 6 Train Loss = 0.0584, Accuracy = 98.45%, Test Accuracy = 98.65%\n"
     ]
    },
    {
     "name": "stderr",
     "output_type": "stream",
     "text": [
      "Epoch 7/40:: 470batch [00:01, 252.67batch/s, loss=0.051275]                               0.051275]\u001b[0m\n"
     ]
    },
    {
     "name": "stdout",
     "output_type": "stream",
     "text": [
      "Epoch 7, Current LR: 2.00e-04\n",
      "Epoch 7 Train Loss = 0.0511, Accuracy = 98.64%, Test Accuracy = 98.75%\n"
     ]
    },
    {
     "name": "stderr",
     "output_type": "stream",
     "text": [
      "Epoch 8/40:: 470batch [00:02, 200.30batch/s, loss=0.045657]                               0.045657]\u001b[0m\n"
     ]
    },
    {
     "name": "stdout",
     "output_type": "stream",
     "text": [
      "Epoch 8, Current LR: 2.00e-04\n",
      "Epoch 8 Train Loss = 0.0458, Accuracy = 98.77%, Test Accuracy = 98.82%\n"
     ]
    },
    {
     "name": "stderr",
     "output_type": "stream",
     "text": [
      "Epoch 9/40:: 470batch [00:01, 247.15batch/s, loss=0.041314]                               0.041314]\u001b[0m\n"
     ]
    },
    {
     "name": "stdout",
     "output_type": "stream",
     "text": [
      "Epoch 9, Current LR: 2.00e-04\n",
      "Epoch 9 Train Loss = 0.0413, Accuracy = 98.91%, Test Accuracy = 98.91%\n"
     ]
    },
    {
     "name": "stderr",
     "output_type": "stream",
     "text": [
      "Epoch 10/40:: 470batch [00:01, 286.18batch/s, loss=0.037302]                              0.037302]\u001b[0m\n"
     ]
    },
    {
     "name": "stdout",
     "output_type": "stream",
     "text": [
      "Epoch 10, Current LR: 2.00e-04\n",
      "Epoch 10 Train Loss = 0.0375, Accuracy = 99.04%, Test Accuracy = 98.95%\n"
     ]
    },
    {
     "name": "stderr",
     "output_type": "stream",
     "text": [
      "Epoch 11/40:: 470batch [00:01, 313.81batch/s, loss=0.034229]                              0.034229]\u001b[0m\n"
     ]
    },
    {
     "name": "stdout",
     "output_type": "stream",
     "text": [
      "Epoch 11, Current LR: 2.00e-04\n",
      "Epoch 11 Train Loss = 0.0341, Accuracy = 99.13%, Test Accuracy = 98.98%\n"
     ]
    },
    {
     "name": "stderr",
     "output_type": "stream",
     "text": [
      "Epoch 12/40:: 470batch [00:02, 205.11batch/s, loss=0.031619]                              0.031619]\u001b[0m\n"
     ]
    },
    {
     "name": "stdout",
     "output_type": "stream",
     "text": [
      "Epoch 12, Current LR: 2.00e-04\n",
      "Epoch 12 Train Loss = 0.0316, Accuracy = 99.19%, Test Accuracy = 98.94%\n"
     ]
    },
    {
     "name": "stderr",
     "output_type": "stream",
     "text": [
      "Epoch 13/40:: 470batch [00:01, 272.74batch/s, loss=0.028970]                              0.028970]\u001b[0m\n"
     ]
    },
    {
     "name": "stdout",
     "output_type": "stream",
     "text": [
      "Epoch 13, Current LR: 2.00e-04\n",
      "Epoch 13 Train Loss = 0.0288, Accuracy = 99.27%, Test Accuracy = 99.13%\n"
     ]
    },
    {
     "name": "stderr",
     "output_type": "stream",
     "text": [
      "Epoch 14/40:: 470batch [00:02, 213.51batch/s, loss=0.027100]                              0.027100]\u001b[0m\n"
     ]
    },
    {
     "name": "stdout",
     "output_type": "stream",
     "text": [
      "Epoch 14, Current LR: 2.00e-04\n",
      "Epoch 14 Train Loss = 0.0271, Accuracy = 99.29%, Test Accuracy = 99.11%\n"
     ]
    },
    {
     "name": "stderr",
     "output_type": "stream",
     "text": [
      "Epoch 15/40:: 470batch [00:02, 212.17batch/s, loss=0.025065]                              0.025065]\u001b[0m\n"
     ]
    },
    {
     "name": "stdout",
     "output_type": "stream",
     "text": [
      "Epoch 15, Current LR: 2.00e-04\n",
      "Epoch 15 Train Loss = 0.0250, Accuracy = 99.37%, Test Accuracy = 99.16%\n"
     ]
    },
    {
     "name": "stderr",
     "output_type": "stream",
     "text": [
      "Epoch 16/40:: 470batch [00:01, 239.61batch/s, loss=0.023219]                              0.023219]\u001b[0m\n"
     ]
    },
    {
     "name": "stdout",
     "output_type": "stream",
     "text": [
      "Epoch 16, Current LR: 2.00e-04\n",
      "Epoch 16 Train Loss = 0.0233, Accuracy = 99.39%, Test Accuracy = 99.19%\n"
     ]
    },
    {
     "name": "stderr",
     "output_type": "stream",
     "text": [
      "Epoch 17/40:: 470batch [00:01, 280.75batch/s, loss=0.021770]                              0.021770]\u001b[0m\n"
     ]
    },
    {
     "name": "stdout",
     "output_type": "stream",
     "text": [
      "Epoch 17, Current LR: 2.00e-04\n",
      "Epoch 17 Train Loss = 0.0218, Accuracy = 99.47%, Test Accuracy = 99.17%\n"
     ]
    },
    {
     "name": "stderr",
     "output_type": "stream",
     "text": [
      "Epoch 18/40:: 470batch [00:01, 244.48batch/s, loss=0.019776]                              0.019776]\u001b[0m\n"
     ]
    },
    {
     "name": "stdout",
     "output_type": "stream",
     "text": [
      "Epoch 18, Current LR: 2.00e-04\n",
      "Epoch 18 Train Loss = 0.0200, Accuracy = 99.51%, Test Accuracy = 99.19%\n"
     ]
    },
    {
     "name": "stderr",
     "output_type": "stream",
     "text": [
      "Epoch 19/40:: 470batch [00:01, 262.28batch/s, loss=0.018790]                              0.018790]\u001b[0m\n"
     ]
    },
    {
     "name": "stdout",
     "output_type": "stream",
     "text": [
      "Epoch 19, Current LR: 2.00e-04\n",
      "Epoch 19 Train Loss = 0.0188, Accuracy = 99.55%, Test Accuracy = 99.18%\n"
     ]
    },
    {
     "name": "stderr",
     "output_type": "stream",
     "text": [
      "Epoch 20/40:: 470batch [00:01, 259.25batch/s, loss=0.017398]                              0.017398]\u001b[0m\n"
     ]
    },
    {
     "name": "stdout",
     "output_type": "stream",
     "text": [
      "Epoch 20, Current LR: 2.00e-04\n",
      "Epoch 20 Train Loss = 0.0174, Accuracy = 99.58%, Test Accuracy = 99.20%\n"
     ]
    },
    {
     "name": "stderr",
     "output_type": "stream",
     "text": [
      "Epoch 21/40:: 470batch [00:02, 228.86batch/s, loss=0.016560]                              0.016560]\u001b[0m\n"
     ]
    },
    {
     "name": "stdout",
     "output_type": "stream",
     "text": [
      "Epoch 21, Current LR: 2.00e-04\n",
      "Epoch 21 Train Loss = 0.0165, Accuracy = 99.62%, Test Accuracy = 99.19%\n"
     ]
    },
    {
     "name": "stderr",
     "output_type": "stream",
     "text": [
      "Epoch 22/40:: 470batch [00:01, 261.71batch/s, loss=0.015493]                              0.015493]\u001b[0m\n"
     ]
    },
    {
     "name": "stdout",
     "output_type": "stream",
     "text": [
      "Epoch 22, Current LR: 2.00e-04\n",
      "Epoch 22 Train Loss = 0.0154, Accuracy = 99.66%, Test Accuracy = 99.14%\n"
     ]
    },
    {
     "name": "stderr",
     "output_type": "stream",
     "text": [
      "Epoch 23/40:: 470batch [00:01, 268.30batch/s, loss=0.014331]                              0.014331]\u001b[0m\n"
     ]
    },
    {
     "name": "stdout",
     "output_type": "stream",
     "text": [
      "Epoch 23, Current LR: 2.00e-04\n",
      "Epoch 23 Train Loss = 0.0143, Accuracy = 99.69%, Test Accuracy = 99.23%\n"
     ]
    },
    {
     "name": "stderr",
     "output_type": "stream",
     "text": [
      "Epoch 24/40:: 470batch [00:01, 264.81batch/s, loss=0.013336]                              0.013336]\u001b[0m\n"
     ]
    },
    {
     "name": "stdout",
     "output_type": "stream",
     "text": [
      "Epoch 24, Current LR: 2.00e-04\n",
      "Epoch 24 Train Loss = 0.0134, Accuracy = 99.72%, Test Accuracy = 99.27%\n"
     ]
    },
    {
     "name": "stderr",
     "output_type": "stream",
     "text": [
      "Epoch 25/40:: 470batch [00:01, 279.36batch/s, loss=0.012561]                              0.012561]\u001b[0m\n"
     ]
    },
    {
     "name": "stdout",
     "output_type": "stream",
     "text": [
      "Epoch 25, Current LR: 2.00e-04\n",
      "Epoch 25 Train Loss = 0.0125, Accuracy = 99.74%, Test Accuracy = 99.25%\n"
     ]
    },
    {
     "name": "stderr",
     "output_type": "stream",
     "text": [
      "Epoch 26/40:: 470batch [00:01, 306.22batch/s, loss=0.011692]                              0.011692]\u001b[0m\n"
     ]
    },
    {
     "name": "stdout",
     "output_type": "stream",
     "text": [
      "Epoch 26, Current LR: 2.00e-04\n",
      "Epoch 26 Train Loss = 0.0117, Accuracy = 99.77%, Test Accuracy = 99.20%\n"
     ]
    },
    {
     "name": "stderr",
     "output_type": "stream",
     "text": [
      "Epoch 27/40:: 470batch [00:01, 289.90batch/s, loss=0.010710]                              0.010710]\u001b[0m\n"
     ]
    },
    {
     "name": "stdout",
     "output_type": "stream",
     "text": [
      "Epoch 27, Current LR: 2.00e-04\n",
      "Epoch 27 Train Loss = 0.0107, Accuracy = 99.81%, Test Accuracy = 99.23%\n"
     ]
    },
    {
     "name": "stderr",
     "output_type": "stream",
     "text": [
      "Epoch 28/40:: 470batch [00:02, 226.63batch/s, loss=0.010128]                              0.010128]\u001b[0m\n"
     ]
    },
    {
     "name": "stdout",
     "output_type": "stream",
     "text": [
      "Epoch 28, Current LR: 2.00e-04\n",
      "Epoch 28 Train Loss = 0.0101, Accuracy = 99.82%, Test Accuracy = 99.27%\n"
     ]
    },
    {
     "name": "stderr",
     "output_type": "stream",
     "text": [
      "Epoch 29/40:: 470batch [00:01, 244.39batch/s, loss=0.009425]                              0.009425]\u001b[0m\n"
     ]
    },
    {
     "name": "stdout",
     "output_type": "stream",
     "text": [
      "Epoch 29, Current LR: 2.00e-04\n",
      "Epoch 29 Train Loss = 0.0095, Accuracy = 99.82%, Test Accuracy = 99.25%\n"
     ]
    },
    {
     "name": "stderr",
     "output_type": "stream",
     "text": [
      "Epoch 30/40:: 470batch [00:02, 233.23batch/s, loss=0.008744]                              0.008744]\u001b[0m\n"
     ]
    },
    {
     "name": "stdout",
     "output_type": "stream",
     "text": [
      "Epoch 30, Current LR: 2.00e-04\n",
      "Epoch 30 Train Loss = 0.0088, Accuracy = 99.86%, Test Accuracy = 99.24%\n"
     ]
    },
    {
     "name": "stderr",
     "output_type": "stream",
     "text": [
      "Epoch 31/40:: 470batch [00:01, 281.32batch/s, loss=0.008059]                              0.008059]\u001b[0m\n"
     ]
    },
    {
     "name": "stdout",
     "output_type": "stream",
     "text": [
      "Epoch 31, Current LR: 2.00e-04\n",
      "Epoch 31 Train Loss = 0.0080, Accuracy = 99.89%, Test Accuracy = 99.31%\n"
     ]
    },
    {
     "name": "stderr",
     "output_type": "stream",
     "text": [
      "Epoch 32/40:: 470batch [00:01, 262.66batch/s, loss=0.007483]                              0.007483]\u001b[0m\n"
     ]
    },
    {
     "name": "stdout",
     "output_type": "stream",
     "text": [
      "Epoch 32, Current LR: 2.00e-04\n",
      "Epoch 32 Train Loss = 0.0076, Accuracy = 99.91%, Test Accuracy = 99.27%\n"
     ]
    },
    {
     "name": "stderr",
     "output_type": "stream",
     "text": [
      "Epoch 33/40:: 470batch [00:01, 265.09batch/s, loss=0.006909]                              0.006909]\u001b[0m\n"
     ]
    },
    {
     "name": "stdout",
     "output_type": "stream",
     "text": [
      "Epoch 33, Current LR: 2.00e-04\n",
      "Epoch 33 Train Loss = 0.0069, Accuracy = 99.91%, Test Accuracy = 99.26%\n"
     ]
    },
    {
     "name": "stderr",
     "output_type": "stream",
     "text": [
      "Epoch 34/40:: 470batch [00:01, 244.97batch/s, loss=0.006572]                              0.006572]\u001b[0m\n"
     ]
    },
    {
     "name": "stdout",
     "output_type": "stream",
     "text": [
      "Epoch 34, Current LR: 2.00e-04\n",
      "Epoch 34 Train Loss = 0.0066, Accuracy = 99.92%, Test Accuracy = 99.28%\n"
     ]
    },
    {
     "name": "stderr",
     "output_type": "stream",
     "text": [
      "Epoch 35/40:: 470batch [00:01, 291.22batch/s, loss=0.005841]                              0.005841]\u001b[0m\n"
     ]
    },
    {
     "name": "stdout",
     "output_type": "stream",
     "text": [
      "Epoch 35, Current LR: 2.00e-04\n",
      "Epoch 35 Train Loss = 0.0059, Accuracy = 99.94%, Test Accuracy = 99.27%\n"
     ]
    },
    {
     "name": "stderr",
     "output_type": "stream",
     "text": [
      "Epoch 36/40:: 470batch [00:01, 305.51batch/s, loss=0.005728]                              0.005728]\u001b[0m\n"
     ]
    },
    {
     "name": "stdout",
     "output_type": "stream",
     "text": [
      "Epoch 36, Current LR: 2.00e-04\n",
      "Epoch 36 Train Loss = 0.0057, Accuracy = 99.94%, Test Accuracy = 99.22%\n"
     ]
    },
    {
     "name": "stderr",
     "output_type": "stream",
     "text": [
      "Epoch 37/40:: 470batch [00:02, 228.10batch/s, loss=0.005029]                              0.005029]\u001b[0m\n"
     ]
    },
    {
     "name": "stdout",
     "output_type": "stream",
     "text": [
      "Epoch 37, Current LR: 2.00e-04\n",
      "Epoch 37 Train Loss = 0.0050, Accuracy = 99.97%, Test Accuracy = 99.28%\n"
     ]
    },
    {
     "name": "stderr",
     "output_type": "stream",
     "text": [
      "Epoch 38/40:: 470batch [00:02, 219.52batch/s, loss=0.004853]                              0.004853]\u001b[0m\n"
     ]
    },
    {
     "name": "stdout",
     "output_type": "stream",
     "text": [
      "Epoch 38, Current LR: 2.00e-04\n",
      "Epoch 38 Train Loss = 0.0049, Accuracy = 99.95%, Test Accuracy = 99.20%\n"
     ]
    },
    {
     "name": "stderr",
     "output_type": "stream",
     "text": [
      "Epoch 39/40:: 470batch [00:01, 242.29batch/s, loss=0.004470]                              0.004470]\u001b[0m\n"
     ]
    },
    {
     "name": "stdout",
     "output_type": "stream",
     "text": [
      "Epoch 39, Current LR: 2.00e-04\n",
      "Epoch 39 Train Loss = 0.0045, Accuracy = 99.97%, Test Accuracy = 99.27%\n"
     ]
    },
    {
     "name": "stderr",
     "output_type": "stream",
     "text": [
      "Epoch 40/40:: 470batch [00:02, 206.00batch/s, loss=0.004010]                              0.004010]\u001b[0m\n"
     ]
    },
    {
     "name": "stdout",
     "output_type": "stream",
     "text": [
      "Epoch 40, Current LR: 2.00e-04\n",
      "Epoch 40 Train Loss = 0.0040, Accuracy = 99.98%, Test Accuracy = 99.26%\n",
      "3 end at 20250923-152439\n",
      "4 start at 20250923-152439\n"
     ]
    },
    {
     "name": "stderr",
     "output_type": "stream",
     "text": [
      "Epoch 1/40:: 470batch [00:01, 275.24batch/s, loss=0.596632]                               0.596632]\u001b[0m\n"
     ]
    },
    {
     "name": "stdout",
     "output_type": "stream",
     "text": [
      "Epoch 1, Current LR: 2.00e-04\n",
      "Epoch 1 Train Loss = 0.5900, Accuracy = 87.92%, Test Accuracy = 95.47%\n"
     ]
    },
    {
     "name": "stderr",
     "output_type": "stream",
     "text": [
      "Epoch 2/40:: 470batch [00:01, 247.80batch/s, loss=0.152199]                               0.152199]\u001b[0m\n"
     ]
    },
    {
     "name": "stdout",
     "output_type": "stream",
     "text": [
      "Epoch 2, Current LR: 2.00e-04\n",
      "Epoch 2 Train Loss = 0.1516, Accuracy = 96.17%, Test Accuracy = 97.19%\n"
     ]
    },
    {
     "name": "stderr",
     "output_type": "stream",
     "text": [
      "Epoch 3/40:: 470batch [00:02, 228.37batch/s, loss=0.100403]                               0.100403]\u001b[0m\n"
     ]
    },
    {
     "name": "stdout",
     "output_type": "stream",
     "text": [
      "Epoch 3, Current LR: 2.00e-04\n",
      "Epoch 3 Train Loss = 0.1003, Accuracy = 97.39%, Test Accuracy = 97.90%\n"
     ]
    },
    {
     "name": "stderr",
     "output_type": "stream",
     "text": [
      "Epoch 4/40:: 470batch [00:01, 243.50batch/s, loss=0.076573]                               0.076573]\u001b[0m\n"
     ]
    },
    {
     "name": "stdout",
     "output_type": "stream",
     "text": [
      "Epoch 4, Current LR: 2.00e-04\n",
      "Epoch 4 Train Loss = 0.0768, Accuracy = 97.99%, Test Accuracy = 98.33%\n"
     ]
    },
    {
     "name": "stderr",
     "output_type": "stream",
     "text": [
      "Epoch 5/40:: 470batch [00:01, 264.56batch/s, loss=0.062644]                               0.062644]\u001b[0m\n"
     ]
    },
    {
     "name": "stdout",
     "output_type": "stream",
     "text": [
      "Epoch 5, Current LR: 2.00e-04\n",
      "Epoch 5 Train Loss = 0.0626, Accuracy = 98.34%, Test Accuracy = 98.59%\n"
     ]
    },
    {
     "name": "stderr",
     "output_type": "stream",
     "text": [
      "Epoch 6/40:: 470batch [00:02, 210.41batch/s, loss=0.053679]                               0.053679]\u001b[0m\n"
     ]
    },
    {
     "name": "stdout",
     "output_type": "stream",
     "text": [
      "Epoch 6, Current LR: 2.00e-04\n",
      "Epoch 6 Train Loss = 0.0538, Accuracy = 98.60%, Test Accuracy = 98.78%\n"
     ]
    },
    {
     "name": "stderr",
     "output_type": "stream",
     "text": [
      "Epoch 7/40:: 470batch [00:01, 258.21batch/s, loss=0.046703]                               0.046703]\u001b[0m\n"
     ]
    },
    {
     "name": "stdout",
     "output_type": "stream",
     "text": [
      "Epoch 7, Current LR: 2.00e-04\n",
      "Epoch 7 Train Loss = 0.0469, Accuracy = 98.74%, Test Accuracy = 98.78%\n"
     ]
    },
    {
     "name": "stderr",
     "output_type": "stream",
     "text": [
      "Epoch 8/40:: 470batch [00:02, 214.37batch/s, loss=0.041847]                               0.041847]\u001b[0m\n"
     ]
    },
    {
     "name": "stdout",
     "output_type": "stream",
     "text": [
      "Epoch 8, Current LR: 2.00e-04\n",
      "Epoch 8 Train Loss = 0.0418, Accuracy = 98.90%, Test Accuracy = 98.93%\n"
     ]
    },
    {
     "name": "stderr",
     "output_type": "stream",
     "text": [
      "Epoch 9/40:: 470batch [00:01, 254.88batch/s, loss=0.037934]                               0.037934]\u001b[0m\n"
     ]
    },
    {
     "name": "stdout",
     "output_type": "stream",
     "text": [
      "Epoch 9, Current LR: 2.00e-04\n",
      "Epoch 9 Train Loss = 0.0379, Accuracy = 99.02%, Test Accuracy = 98.96%\n"
     ]
    },
    {
     "name": "stderr",
     "output_type": "stream",
     "text": [
      "Epoch 10/40:: 470batch [00:01, 299.35batch/s, loss=0.034053]                              0.034053]\u001b[0m\n"
     ]
    },
    {
     "name": "stdout",
     "output_type": "stream",
     "text": [
      "Epoch 10, Current LR: 2.00e-04\n",
      "Epoch 10 Train Loss = 0.0342, Accuracy = 99.11%, Test Accuracy = 99.01%\n"
     ]
    },
    {
     "name": "stderr",
     "output_type": "stream",
     "text": [
      "Epoch 11/40:: 470batch [00:02, 208.09batch/s, loss=0.031306]                              0.031306]\u001b[0m\n"
     ]
    },
    {
     "name": "stdout",
     "output_type": "stream",
     "text": [
      "Epoch 11, Current LR: 2.00e-04\n",
      "Epoch 11 Train Loss = 0.0313, Accuracy = 99.16%, Test Accuracy = 99.00%\n"
     ]
    },
    {
     "name": "stderr",
     "output_type": "stream",
     "text": [
      "Epoch 12/40:: 470batch [00:01, 254.29batch/s, loss=0.028754]                              0.028754]\u001b[0m\n"
     ]
    },
    {
     "name": "stdout",
     "output_type": "stream",
     "text": [
      "Epoch 12, Current LR: 2.00e-04\n",
      "Epoch 12 Train Loss = 0.0287, Accuracy = 99.25%, Test Accuracy = 99.06%\n"
     ]
    },
    {
     "name": "stderr",
     "output_type": "stream",
     "text": [
      "Epoch 13/40:: 470batch [00:01, 256.95batch/s, loss=0.026510]                              0.026510]\u001b[0m\n"
     ]
    },
    {
     "name": "stdout",
     "output_type": "stream",
     "text": [
      "Epoch 13, Current LR: 2.00e-04\n",
      "Epoch 13 Train Loss = 0.0267, Accuracy = 99.31%, Test Accuracy = 99.06%\n"
     ]
    },
    {
     "name": "stderr",
     "output_type": "stream",
     "text": [
      "Epoch 14/40:: 470batch [00:02, 221.69batch/s, loss=0.024726]                              0.024726]\u001b[0m\n"
     ]
    },
    {
     "name": "stdout",
     "output_type": "stream",
     "text": [
      "Epoch 14, Current LR: 2.00e-04\n",
      "Epoch 14 Train Loss = 0.0248, Accuracy = 99.33%, Test Accuracy = 99.12%\n"
     ]
    },
    {
     "name": "stderr",
     "output_type": "stream",
     "text": [
      "Epoch 15/40:: 470batch [00:01, 261.38batch/s, loss=0.023005]                              0.023005]\u001b[0m\n"
     ]
    },
    {
     "name": "stdout",
     "output_type": "stream",
     "text": [
      "Epoch 15, Current LR: 2.00e-04\n",
      "Epoch 15 Train Loss = 0.0230, Accuracy = 99.40%, Test Accuracy = 99.15%\n"
     ]
    },
    {
     "name": "stderr",
     "output_type": "stream",
     "text": [
      "Epoch 16/40:: 470batch [00:01, 255.87batch/s, loss=0.021420]                              0.021420]\u001b[0m\n"
     ]
    },
    {
     "name": "stdout",
     "output_type": "stream",
     "text": [
      "Epoch 16, Current LR: 2.00e-04\n",
      "Epoch 16 Train Loss = 0.0214, Accuracy = 99.47%, Test Accuracy = 99.11%\n"
     ]
    },
    {
     "name": "stderr",
     "output_type": "stream",
     "text": [
      "Epoch 17/40:: 470batch [00:02, 218.94batch/s, loss=0.019963]                              0.019963]\u001b[0m\n"
     ]
    },
    {
     "name": "stdout",
     "output_type": "stream",
     "text": [
      "Epoch 17, Current LR: 2.00e-04\n",
      "Epoch 17 Train Loss = 0.0199, Accuracy = 99.48%, Test Accuracy = 99.11%\n"
     ]
    },
    {
     "name": "stderr",
     "output_type": "stream",
     "text": [
      "Epoch 18/40:: 470batch [00:01, 264.65batch/s, loss=0.018766]                              0.018766]\u001b[0m\n"
     ]
    },
    {
     "name": "stdout",
     "output_type": "stream",
     "text": [
      "Epoch 18, Current LR: 2.00e-04\n",
      "Epoch 18 Train Loss = 0.0188, Accuracy = 99.52%, Test Accuracy = 99.14%\n"
     ]
    },
    {
     "name": "stderr",
     "output_type": "stream",
     "text": [
      "Epoch 19/40:: 470batch [00:02, 220.75batch/s, loss=0.017507]                              0.017507]\u001b[0m\n"
     ]
    },
    {
     "name": "stdout",
     "output_type": "stream",
     "text": [
      "Epoch 19, Current LR: 2.00e-04\n",
      "Epoch 19 Train Loss = 0.0175, Accuracy = 99.58%, Test Accuracy = 99.22%\n"
     ]
    },
    {
     "name": "stderr",
     "output_type": "stream",
     "text": [
      "Epoch 20/40:: 470batch [00:01, 244.67batch/s, loss=0.016137]                              0.016137]\u001b[0m\n"
     ]
    },
    {
     "name": "stdout",
     "output_type": "stream",
     "text": [
      "Epoch 20, Current LR: 2.00e-04\n",
      "Epoch 20 Train Loss = 0.0162, Accuracy = 99.61%, Test Accuracy = 99.25%\n"
     ]
    },
    {
     "name": "stderr",
     "output_type": "stream",
     "text": [
      "Epoch 21/40:: 470batch [00:02, 207.65batch/s, loss=0.014903]                              0.014903]\u001b[0m\n"
     ]
    },
    {
     "name": "stdout",
     "output_type": "stream",
     "text": [
      "Epoch 21, Current LR: 2.00e-04\n",
      "Epoch 21 Train Loss = 0.0150, Accuracy = 99.66%, Test Accuracy = 99.19%\n"
     ]
    },
    {
     "name": "stderr",
     "output_type": "stream",
     "text": [
      "Epoch 22/40:: 470batch [00:02, 212.74batch/s, loss=0.014058]                              0.014058]\u001b[0m\n"
     ]
    },
    {
     "name": "stdout",
     "output_type": "stream",
     "text": [
      "Epoch 22, Current LR: 2.00e-04\n",
      "Epoch 22 Train Loss = 0.0141, Accuracy = 99.69%, Test Accuracy = 99.26%\n"
     ]
    },
    {
     "name": "stderr",
     "output_type": "stream",
     "text": [
      "Epoch 23/40:: 470batch [00:01, 251.27batch/s, loss=0.013173]                              0.013173]\u001b[0m\n"
     ]
    },
    {
     "name": "stdout",
     "output_type": "stream",
     "text": [
      "Epoch 23, Current LR: 2.00e-04\n",
      "Epoch 23 Train Loss = 0.0131, Accuracy = 99.72%, Test Accuracy = 99.22%\n"
     ]
    },
    {
     "name": "stderr",
     "output_type": "stream",
     "text": [
      "Epoch 24/40:: 470batch [00:02, 231.96batch/s, loss=0.012258]                              0.012258]\u001b[0m\n"
     ]
    },
    {
     "name": "stdout",
     "output_type": "stream",
     "text": [
      "Epoch 24, Current LR: 2.00e-04\n",
      "Epoch 24 Train Loss = 0.0122, Accuracy = 99.74%, Test Accuracy = 99.18%\n"
     ]
    },
    {
     "name": "stderr",
     "output_type": "stream",
     "text": [
      "Epoch 25/40:: 470batch [00:02, 199.95batch/s, loss=0.011440]                              0.011440]\u001b[0m\n"
     ]
    },
    {
     "name": "stdout",
     "output_type": "stream",
     "text": [
      "Epoch 25, Current LR: 2.00e-04\n",
      "Epoch 25 Train Loss = 0.0114, Accuracy = 99.78%, Test Accuracy = 99.26%\n"
     ]
    },
    {
     "name": "stderr",
     "output_type": "stream",
     "text": [
      "Epoch 26/40:: 470batch [00:02, 229.86batch/s, loss=0.010568]                              0.010568]\u001b[0m\n"
     ]
    },
    {
     "name": "stdout",
     "output_type": "stream",
     "text": [
      "Epoch 26, Current LR: 2.00e-04\n",
      "Epoch 26 Train Loss = 0.0107, Accuracy = 99.79%, Test Accuracy = 99.27%\n"
     ]
    },
    {
     "name": "stderr",
     "output_type": "stream",
     "text": [
      "Epoch 27/40:: 470batch [00:02, 206.77batch/s, loss=0.009901]                              0.009901]\u001b[0m\n"
     ]
    },
    {
     "name": "stdout",
     "output_type": "stream",
     "text": [
      "Epoch 27, Current LR: 2.00e-04\n",
      "Epoch 27 Train Loss = 0.0100, Accuracy = 99.80%, Test Accuracy = 99.29%\n"
     ]
    },
    {
     "name": "stderr",
     "output_type": "stream",
     "text": [
      "Epoch 28/40:: 470batch [00:01, 269.78batch/s, loss=0.009052]                              0.009052]\u001b[0m\n"
     ]
    },
    {
     "name": "stdout",
     "output_type": "stream",
     "text": [
      "Epoch 28, Current LR: 2.00e-04\n",
      "Epoch 28 Train Loss = 0.0091, Accuracy = 99.85%, Test Accuracy = 99.29%\n"
     ]
    },
    {
     "name": "stderr",
     "output_type": "stream",
     "text": [
      "Epoch 29/40:: 470batch [00:01, 259.49batch/s, loss=0.008543]                              0.008543]\u001b[0m\n"
     ]
    },
    {
     "name": "stdout",
     "output_type": "stream",
     "text": [
      "Epoch 29, Current LR: 2.00e-04\n",
      "Epoch 29 Train Loss = 0.0085, Accuracy = 99.87%, Test Accuracy = 99.30%\n"
     ]
    },
    {
     "name": "stderr",
     "output_type": "stream",
     "text": [
      "Epoch 30/40:: 470batch [00:02, 223.35batch/s, loss=0.007928]                              0.007928]\u001b[0m\n"
     ]
    },
    {
     "name": "stdout",
     "output_type": "stream",
     "text": [
      "Epoch 30, Current LR: 2.00e-04\n",
      "Epoch 30 Train Loss = 0.0079, Accuracy = 99.87%, Test Accuracy = 99.17%\n"
     ]
    },
    {
     "name": "stderr",
     "output_type": "stream",
     "text": [
      "Epoch 31/40:: 470batch [00:01, 261.28batch/s, loss=0.007287]                              0.007287]\u001b[0m\n"
     ]
    },
    {
     "name": "stdout",
     "output_type": "stream",
     "text": [
      "Epoch 31, Current LR: 2.00e-04\n",
      "Epoch 31 Train Loss = 0.0073, Accuracy = 99.89%, Test Accuracy = 99.27%\n"
     ]
    },
    {
     "name": "stderr",
     "output_type": "stream",
     "text": [
      "Epoch 32/40:: 470batch [00:01, 290.46batch/s, loss=0.006881]                              0.006881]\u001b[0m\n"
     ]
    },
    {
     "name": "stdout",
     "output_type": "stream",
     "text": [
      "Epoch 32, Current LR: 2.00e-04\n",
      "Epoch 32 Train Loss = 0.0069, Accuracy = 99.89%, Test Accuracy = 99.26%\n"
     ]
    },
    {
     "name": "stderr",
     "output_type": "stream",
     "text": [
      "Epoch 33/40:: 470batch [00:01, 263.15batch/s, loss=0.006263]                              0.006263]\u001b[0m\n"
     ]
    },
    {
     "name": "stdout",
     "output_type": "stream",
     "text": [
      "Epoch 33, Current LR: 2.00e-04\n",
      "Epoch 33 Train Loss = 0.0063, Accuracy = 99.94%, Test Accuracy = 99.23%\n"
     ]
    },
    {
     "name": "stderr",
     "output_type": "stream",
     "text": [
      "Epoch 34/40:: 470batch [00:01, 269.14batch/s, loss=0.005854]                              0.005854]\u001b[0m\n"
     ]
    },
    {
     "name": "stdout",
     "output_type": "stream",
     "text": [
      "Epoch 34, Current LR: 2.00e-04\n",
      "Epoch 34 Train Loss = 0.0059, Accuracy = 99.94%, Test Accuracy = 99.28%\n"
     ]
    },
    {
     "name": "stderr",
     "output_type": "stream",
     "text": [
      "Epoch 35/40:: 470batch [00:01, 241.66batch/s, loss=0.005589]                              0.005589]\u001b[0m\n"
     ]
    },
    {
     "name": "stdout",
     "output_type": "stream",
     "text": [
      "Epoch 35, Current LR: 2.00e-04\n",
      "Epoch 35 Train Loss = 0.0055, Accuracy = 99.93%, Test Accuracy = 99.32%\n"
     ]
    },
    {
     "name": "stderr",
     "output_type": "stream",
     "text": [
      "Epoch 36/40:: 470batch [00:01, 271.71batch/s, loss=0.005010]                              0.005010]\u001b[0m\n"
     ]
    },
    {
     "name": "stdout",
     "output_type": "stream",
     "text": [
      "Epoch 36, Current LR: 2.00e-04\n",
      "Epoch 36 Train Loss = 0.0051, Accuracy = 99.94%, Test Accuracy = 99.29%\n"
     ]
    },
    {
     "name": "stderr",
     "output_type": "stream",
     "text": [
      "Epoch 37/40:: 470batch [00:01, 290.16batch/s, loss=0.004660]                              0.004660]\u001b[0m\n"
     ]
    },
    {
     "name": "stdout",
     "output_type": "stream",
     "text": [
      "Epoch 37, Current LR: 2.00e-04\n",
      "Epoch 37 Train Loss = 0.0046, Accuracy = 99.97%, Test Accuracy = 99.26%\n"
     ]
    },
    {
     "name": "stderr",
     "output_type": "stream",
     "text": [
      "Epoch 38/40:: 470batch [00:01, 260.53batch/s, loss=0.004413]                              0.004413]\u001b[0m\n"
     ]
    },
    {
     "name": "stdout",
     "output_type": "stream",
     "text": [
      "Epoch 38, Current LR: 2.00e-04\n",
      "Epoch 38 Train Loss = 0.0044, Accuracy = 99.97%, Test Accuracy = 99.31%\n"
     ]
    },
    {
     "name": "stderr",
     "output_type": "stream",
     "text": [
      "Epoch 39/40:: 470batch [00:01, 248.66batch/s, loss=0.003877]                              0.003877]\u001b[0m\n"
     ]
    },
    {
     "name": "stdout",
     "output_type": "stream",
     "text": [
      "Epoch 39, Current LR: 2.00e-04\n",
      "Epoch 39 Train Loss = 0.0039, Accuracy = 99.98%, Test Accuracy = 99.31%\n"
     ]
    },
    {
     "name": "stderr",
     "output_type": "stream",
     "text": [
      "Epoch 40/40:: 470batch [00:01, 253.95batch/s, loss=0.003741]                              0.003741]\u001b[0m\n"
     ]
    },
    {
     "name": "stdout",
     "output_type": "stream",
     "text": [
      "Epoch 40, Current LR: 2.00e-04\n",
      "Epoch 40 Train Loss = 0.0037, Accuracy = 99.98%, Test Accuracy = 99.30%\n",
      "4 end at 20250923-152557\n"
     ]
    }
   ],
   "source": [
    "\n",
    "num_epochs = 40\n",
    "multest = 5 #5\n",
    "fbsc_range = [0] # 0.01, 0.1, 1\n",
    "res = np.zeros((len(fbsc_range),multest,3,num_epochs))\n",
    "for ifbsc in range(len(fbsc_range)):\n",
    "    for imul in range(multest):\n",
    "        current_time_tmp = time.strftime(\"%Y%m%d-%H%M%S\", time.localtime())\n",
    "        print(f\"{imul} start at {current_time_tmp}\")\n",
    "\n",
    "        model = aEP_CNN(fbsc=0.01, deviden=False, T=20, K=10, chl=[32,64])\n",
    "        \n",
    "        # optimizer = torch.optim.SGD([\n",
    "        #     {'params': model.conv1.parameters(), 'lr': 0.05, 'weight_decay': 1e-6},  # conv1 \n",
    "        #     {'params': model.conv2.parameters(), 'lr': 0.15, 'weight_decay': 1e-6},  # conv2 \n",
    "        #     {'params': model.fc1.parameters(), 'lr': 0.5, 'weight_decay': 1e-6},  # \n",
    "        # ])\n",
    "        optimizer = torch.optim.AdamW(model.parameters(), lr=2e-4, weight_decay=1e-6) # 2.5 ~ 1e-4 0.5e-4\n",
    "\n",
    "        for epoch in range(num_epochs):\n",
    "            total_loss = 0\n",
    "            correct = 0\n",
    "            total = 0\n",
    "\n",
    "            random.shuffle(train_loader_gpu)\n",
    "            with tqdm(total=len(train_loader_gpu), desc=f\"Epoch {epoch + 1}/{num_epochs}:\", unit='batch', ncols=90, mininterval=1, colour='blue') as pbar:\n",
    "                for batch_idx, (data, target) in enumerate(train_loader_gpu):\n",
    "                    optimizer.zero_grad()\n",
    "                    preds = model.forward_BP(data)# eta=[0.015, 0.035, 0.15]\n",
    "                    loss = criterion(preds[-1], target)\n",
    "                    loss.backward()\n",
    "                    optimizer.step()\n",
    "                    total_loss += loss\n",
    "\n",
    "                    if batch_idx % 10 == 0: \n",
    "                        pbar.set_postfix({'loss': f'{total_loss/(batch_idx+1):.6f}'})  \n",
    "                        pbar.update(10)\n",
    "\n",
    "                    correct += (torch.argmax(preds[-1], dim=1) == target).sum().item()\n",
    "                    total += target.size(0)\n",
    "                    \n",
    "            # scheduler.step()\n",
    "            current_lr = optimizer.param_groups[0]['lr']\n",
    "            print(f\"Epoch {epoch+1}, Current LR: {current_lr:.2e}\")\n",
    "\n",
    "            acc = correct / total\n",
    "            avg_loss = total_loss / len(train_loader_gpu)\n",
    "            res[ifbsc,imul,0,epoch]=(avg_loss)\n",
    "            res[ifbsc,imul,1,epoch]=(acc)\n",
    "\n",
    "            # Test\n",
    "            correct = 0\n",
    "            total = 0\n",
    "            with torch.no_grad():\n",
    "                for data, target in test_loader_gpu:\n",
    "                    preds = model.forward_BP(data)\n",
    "                    correct += (torch.argmax(preds[-1], dim=1) == target).sum().item()\n",
    "                    total += target.size(0)\n",
    "            test_acc = correct / total\n",
    "            res[ifbsc,imul,2,epoch]=(test_acc)\n",
    "\n",
    "            print(f\"Epoch {epoch+1} Train Loss = {avg_loss:.4f}, Accuracy = {acc*100:.2f}%, Test Accuracy = {test_acc*100:.2f}%\")\n",
    "        \n",
    "        current_time_tmp = time.strftime(\"%Y%m%d-%H%M%S\", time.localtime())\n",
    "        print(f\"{imul} end at {current_time_tmp}\")\n",
    "        \n",
    "res_BP = res\n",
    "current_time = time.strftime(\"%Y%m%d-%H%M%S\", time.localtime())\n",
    "if fsave: \n",
    "    save_dict = {\n",
    "        \"res\": res\n",
    "}\n",
    "np.savez_compressed(res_path / f\"res_BP\",  **save_dict)\n",
    "     "
   ]
  },
  {
   "cell_type": "code",
   "execution_count": 5,
   "id": "d90b50ec",
   "metadata": {},
   "outputs": [
    {
     "name": "stdout",
     "output_type": "stream",
     "text": [
      "\t_train: 99.97%+-0.01% (99.96% 99.98%)\t test: 99.34%+-0.04% (99.31% 99.40%)\n",
      "\n",
      "Current Time: 20250923-152557\n"
     ]
    },
    {
     "data": {
      "image/png": "[encoded data removed]",
      "text/plain": [
       "<Figure size 500x400 with 1 Axes>"
      ]
     },
     "metadata": {},
     "output_type": "display_data"
    }
   ],
   "source": [
    "\n",
    "for ifbsc in range(len(fbsc_range)):\n",
    "    testacctt = np.max(res[ifbsc,:,2,:], axis= -1)\n",
    "\n",
    "    trainacctt = np.max(res[ifbsc,:,1,:], axis= -1)\n",
    "\n",
    "    print(f'\\t_'\n",
    "        f\"train: {np.mean(trainacctt) * 100:.2f}%+-{np.std(trainacctt, ddof=1)*100:.2f}% ({np.min(trainacctt) * 100:.2f}% {np.max(trainacctt) * 100:.2f}%)\"\n",
    "        f\"\\t test: {np.mean(testacctt) * 100:.2f}%+-{np.std(testacctt, ddof=1)*100:.2f}% ({np.min(testacctt) * 100:.2f}% {np.max(testacctt) * 100:.2f}%)\\n\")\n",
    "\n",
    "for ifbsc in range(len(fbsc_range)):\n",
    "    plt.figure(figsize=(5, 4))\n",
    "    tt = res[ifbsc,:,1,:]\n",
    "    plt.plot(np.arange(len(np.mean(tt, axis=0))), np.mean(tt, axis=0), label=f'training')  #  plot\n",
    "    plt.fill_between(np.arange(len(np.mean(tt, axis=0))), np.min(tt, axis=0), np.max(tt, axis=0), alpha=0.25)\n",
    "    tt = res[ifbsc,:,2,:]\n",
    "    plt.plot(np.arange(len(np.mean(tt, axis=0))), np.mean(tt, axis=0), label=f'testing')  #  plot\n",
    "    plt.fill_between(np.arange(len(np.mean(tt, axis=0))), np.min(tt, axis=0), np.max(tt, axis=0), alpha=0.25)\n",
    "    if np.min(tt)<0.8:\n",
    "        plt.ylim([0.0, 1.0])\n",
    "        plt.yticks(np.arange(0.0,1.01,0.25))\n",
    "    else:\n",
    "        plt.ylim([0.9, 1.0])\n",
    "        plt.yticks(np.arange(0.9,1.01,0.02))\n",
    "    plt.grid()\n",
    "    plt.title(f\"BP\")\n",
    "    plt.xlabel(f'Epoch')\n",
    "    plt.ylabel('Accuracy')\n",
    "    plt.legend(frameon=False, fancybox=False, shadow=False)\n",
    "\n",
    "    current_time = time.strftime(\"%Y%m%d-%H%M%S\", time.localtime())\n",
    "    print(f'Current Time: {current_time}')\n",
    "    plt.savefig(res_path /f\"BP_cnn_MNIST_maxacc{np.max(tt)}-fbsc{fbsc_range[ifbsc]}-{current_time}.svg\", format=\"svg\")\n"
   ]
  },
  {
   "cell_type": "markdown",
   "id": "df9f3564",
   "metadata": {},
   "source": [
    "### EP conv with weak feedback"
   ]
  },
  {
   "cell_type": "code",
   "execution_count": 6,
   "id": "aa37777e",
   "metadata": {},
   "outputs": [
    {
     "name": "stdout",
     "output_type": "stream",
     "text": [
      "0 start at 20250923-152558\n"
     ]
    },
    {
     "name": "stderr",
     "output_type": "stream",
     "text": [
      "Epoch 1/40:: 470batch [00:12, 36.35batch/s, loss=0.688024]                                0.688024]\u001b[0m\n"
     ]
    },
    {
     "name": "stdout",
     "output_type": "stream",
     "text": [
      "Epoch 1 Train Loss = 0.6816, Accuracy = 86.97%, Test Accuracy = 94.81%\n"
     ]
    },
    {
     "name": "stderr",
     "output_type": "stream",
     "text": [
      "Epoch 2/40:: 470batch [00:12, 38.98batch/s, loss=0.216661]                                0.216661]\u001b[0m\n"
     ]
    },
    {
     "name": "stdout",
     "output_type": "stream",
     "text": [
      "Epoch 2 Train Loss = 0.2158, Accuracy = 95.39%, Test Accuracy = 96.50%\n"
     ]
    },
    {
     "name": "stderr",
     "output_type": "stream",
     "text": [
      "Epoch 3/40:: 470batch [00:12, 38.97batch/s, loss=0.149725]                                0.149725]\u001b[0m\n"
     ]
    },
    {
     "name": "stdout",
     "output_type": "stream",
     "text": [
      "Epoch 3 Train Loss = 0.1493, Accuracy = 96.59%, Test Accuracy = 97.18%\n"
     ]
    },
    {
     "name": "stderr",
     "output_type": "stream",
     "text": [
      "Epoch 4/40:: 470batch [00:12, 37.94batch/s, loss=0.120118]                                0.120118]\u001b[0m\n"
     ]
    },
    {
     "name": "stdout",
     "output_type": "stream",
     "text": [
      "Epoch 4 Train Loss = 0.1199, Accuracy = 97.16%, Test Accuracy = 97.51%\n"
     ]
    },
    {
     "name": "stderr",
     "output_type": "stream",
     "text": [
      "Epoch 5/40:: 470batch [00:11, 39.24batch/s, loss=0.104499]                                0.104499]\u001b[0m\n"
     ]
    },
    {
     "name": "stdout",
     "output_type": "stream",
     "text": [
      "Epoch 5 Train Loss = 0.1046, Accuracy = 97.55%, Test Accuracy = 97.87%\n"
     ]
    },
    {
     "name": "stderr",
     "output_type": "stream",
     "text": [
      "Epoch 6/40:: 470batch [00:12, 38.16batch/s, loss=0.095416]                                0.095416]\u001b[0m\n"
     ]
    },
    {
     "name": "stdout",
     "output_type": "stream",
     "text": [
      "Epoch 6 Train Loss = 0.0950, Accuracy = 97.76%, Test Accuracy = 98.02%\n"
     ]
    },
    {
     "name": "stderr",
     "output_type": "stream",
     "text": [
      "Epoch 7/40:: 470batch [00:12, 39.09batch/s, loss=0.086589]                                0.086589]\u001b[0m\n"
     ]
    },
    {
     "name": "stdout",
     "output_type": "stream",
     "text": [
      "Epoch 7 Train Loss = 0.0866, Accuracy = 97.95%, Test Accuracy = 98.26%\n"
     ]
    },
    {
     "name": "stderr",
     "output_type": "stream",
     "text": [
      "Epoch 8/40:: 470batch [00:12, 37.87batch/s, loss=0.077448]                                0.077448]\u001b[0m\n"
     ]
    },
    {
     "name": "stdout",
     "output_type": "stream",
     "text": [
      "Epoch 8 Train Loss = 0.0774, Accuracy = 98.13%, Test Accuracy = 98.48%\n"
     ]
    },
    {
     "name": "stderr",
     "output_type": "stream",
     "text": [
      "Epoch 9/40:: 470batch [00:12, 37.88batch/s, loss=0.069135]                                0.069135]\u001b[0m\n"
     ]
    },
    {
     "name": "stdout",
     "output_type": "stream",
     "text": [
      "Epoch 9 Train Loss = 0.0689, Accuracy = 98.32%, Test Accuracy = 98.44%\n"
     ]
    },
    {
     "name": "stderr",
     "output_type": "stream",
     "text": [
      "Epoch 10/40:: 470batch [00:12, 38.35batch/s, loss=0.063309]                               0.063309]\u001b[0m\n"
     ]
    },
    {
     "name": "stdout",
     "output_type": "stream",
     "text": [
      "Epoch 10 Train Loss = 0.0630, Accuracy = 98.44%, Test Accuracy = 98.58%\n"
     ]
    },
    {
     "name": "stderr",
     "output_type": "stream",
     "text": [
      "Epoch 11/40:: 470batch [00:12, 37.86batch/s, loss=0.057904]                               0.057904]\u001b[0m\n"
     ]
    },
    {
     "name": "stdout",
     "output_type": "stream",
     "text": [
      "Epoch 11 Train Loss = 0.0578, Accuracy = 98.56%, Test Accuracy = 98.67%\n"
     ]
    },
    {
     "name": "stderr",
     "output_type": "stream",
     "text": [
      "Epoch 12/40:: 470batch [00:12, 38.44batch/s, loss=0.052750]                               0.052750]\u001b[0m\n"
     ]
    },
    {
     "name": "stdout",
     "output_type": "stream",
     "text": [
      "Epoch 12 Train Loss = 0.0527, Accuracy = 98.69%, Test Accuracy = 98.76%\n"
     ]
    },
    {
     "name": "stderr",
     "output_type": "stream",
     "text": [
      "Epoch 13/40:: 470batch [00:12, 37.87batch/s, loss=0.048848]                               0.048848]\u001b[0m\n"
     ]
    },
    {
     "name": "stdout",
     "output_type": "stream",
     "text": [
      "Epoch 13 Train Loss = 0.0489, Accuracy = 98.77%, Test Accuracy = 98.72%\n"
     ]
    },
    {
     "name": "stderr",
     "output_type": "stream",
     "text": [
      "Epoch 14/40:: 470batch [00:11, 39.21batch/s, loss=0.046420]                               0.046420]\u001b[0m\n"
     ]
    },
    {
     "name": "stdout",
     "output_type": "stream",
     "text": [
      "Epoch 14 Train Loss = 0.0463, Accuracy = 98.83%, Test Accuracy = 98.80%\n"
     ]
    },
    {
     "name": "stderr",
     "output_type": "stream",
     "text": [
      "Epoch 15/40:: 470batch [00:12, 39.06batch/s, loss=0.044493]                               0.044493]\u001b[0m\n"
     ]
    },
    {
     "name": "stdout",
     "output_type": "stream",
     "text": [
      "Epoch 15 Train Loss = 0.0443, Accuracy = 98.90%, Test Accuracy = 98.78%\n"
     ]
    },
    {
     "name": "stderr",
     "output_type": "stream",
     "text": [
      "Epoch 16/40:: 470batch [00:12, 38.96batch/s, loss=0.042010]                               0.042010]\u001b[0m\n"
     ]
    },
    {
     "name": "stdout",
     "output_type": "stream",
     "text": [
      "Epoch 16 Train Loss = 0.0418, Accuracy = 98.93%, Test Accuracy = 98.89%\n"
     ]
    },
    {
     "name": "stderr",
     "output_type": "stream",
     "text": [
      "Epoch 17/40:: 470batch [00:12, 39.10batch/s, loss=0.038135]                               0.038135]\u001b[0m\n"
     ]
    },
    {
     "name": "stdout",
     "output_type": "stream",
     "text": [
      "Epoch 17 Train Loss = 0.0381, Accuracy = 99.00%, Test Accuracy = 98.88%\n"
     ]
    },
    {
     "name": "stderr",
     "output_type": "stream",
     "text": [
      "Epoch 18/40:: 470batch [00:12, 38.63batch/s, loss=0.035767]                               0.035767]\u001b[0m\n"
     ]
    },
    {
     "name": "stdout",
     "output_type": "stream",
     "text": [
      "Epoch 18 Train Loss = 0.0358, Accuracy = 99.08%, Test Accuracy = 98.97%\n"
     ]
    },
    {
     "name": "stderr",
     "output_type": "stream",
     "text": [
      "Epoch 19/40:: 470batch [00:11, 39.26batch/s, loss=0.033601]                               0.033601]\u001b[0m\n"
     ]
    },
    {
     "name": "stdout",
     "output_type": "stream",
     "text": [
      "Epoch 19 Train Loss = 0.0336, Accuracy = 99.11%, Test Accuracy = 99.00%\n"
     ]
    },
    {
     "name": "stderr",
     "output_type": "stream",
     "text": [
      "Epoch 20/40:: 470batch [00:12, 38.12batch/s, loss=0.031446]                               0.031446]\u001b[0m\n"
     ]
    },
    {
     "name": "stdout",
     "output_type": "stream",
     "text": [
      "Epoch 20 Train Loss = 0.0315, Accuracy = 99.19%, Test Accuracy = 99.05%\n"
     ]
    },
    {
     "name": "stderr",
     "output_type": "stream",
     "text": [
      "Epoch 21/40:: 470batch [00:11, 39.26batch/s, loss=0.029435]                               0.029435]\u001b[0m\n"
     ]
    },
    {
     "name": "stdout",
     "output_type": "stream",
     "text": [
      "Epoch 21 Train Loss = 0.0295, Accuracy = 99.25%, Test Accuracy = 99.03%\n"
     ]
    },
    {
     "name": "stderr",
     "output_type": "stream",
     "text": [
      "Epoch 22/40:: 470batch [00:11, 39.26batch/s, loss=0.028224]                               0.028224]\u001b[0m\n"
     ]
    },
    {
     "name": "stdout",
     "output_type": "stream",
     "text": [
      "Epoch 22 Train Loss = 0.0283, Accuracy = 99.30%, Test Accuracy = 99.01%\n"
     ]
    },
    {
     "name": "stderr",
     "output_type": "stream",
     "text": [
      "Epoch 23/40:: 470batch [00:12, 37.76batch/s, loss=0.026990]                               0.026990]\u001b[0m\n"
     ]
    },
    {
     "name": "stdout",
     "output_type": "stream",
     "text": [
      "Epoch 23 Train Loss = 0.0269, Accuracy = 99.32%, Test Accuracy = 99.08%\n"
     ]
    },
    {
     "name": "stderr",
     "output_type": "stream",
     "text": [
      "Epoch 24/40:: 470batch [00:12, 38.77batch/s, loss=0.025203]                               0.025203]\u001b[0m\n"
     ]
    },
    {
     "name": "stdout",
     "output_type": "stream",
     "text": [
      "Epoch 24 Train Loss = 0.0252, Accuracy = 99.41%, Test Accuracy = 99.07%\n"
     ]
    },
    {
     "name": "stderr",
     "output_type": "stream",
     "text": [
      "Epoch 25/40:: 470batch [00:12, 38.91batch/s, loss=0.023361]                               0.023361]\u001b[0m\n"
     ]
    },
    {
     "name": "stdout",
     "output_type": "stream",
     "text": [
      "Epoch 25 Train Loss = 0.0235, Accuracy = 99.44%, Test Accuracy = 99.12%\n"
     ]
    },
    {
     "name": "stderr",
     "output_type": "stream",
     "text": [
      "Epoch 26/40:: 470batch [00:12, 39.07batch/s, loss=0.021005]                               0.021005]\u001b[0m\n"
     ]
    },
    {
     "name": "stdout",
     "output_type": "stream",
     "text": [
      "Epoch 26 Train Loss = 0.0214, Accuracy = 99.50%, Test Accuracy = 99.22%\n"
     ]
    },
    {
     "name": "stderr",
     "output_type": "stream",
     "text": [
      "Epoch 27/40:: 470batch [00:12, 38.22batch/s, loss=0.020661]                               0.020661]\u001b[0m\n"
     ]
    },
    {
     "name": "stdout",
     "output_type": "stream",
     "text": [
      "Epoch 27 Train Loss = 0.0206, Accuracy = 99.53%, Test Accuracy = 99.13%\n"
     ]
    },
    {
     "name": "stderr",
     "output_type": "stream",
     "text": [
      "Epoch 28/40:: 470batch [00:12, 37.56batch/s, loss=0.020272]                               0.020272]\u001b[0m\n"
     ]
    },
    {
     "name": "stdout",
     "output_type": "stream",
     "text": [
      "Epoch 28 Train Loss = 0.0202, Accuracy = 99.53%, Test Accuracy = 99.12%\n"
     ]
    },
    {
     "name": "stderr",
     "output_type": "stream",
     "text": [
      "Epoch 29/40:: 470batch [00:12, 38.75batch/s, loss=0.018712]                               0.018712]\u001b[0m\n"
     ]
    },
    {
     "name": "stdout",
     "output_type": "stream",
     "text": [
      "Epoch 29 Train Loss = 0.0189, Accuracy = 99.58%, Test Accuracy = 99.14%\n"
     ]
    },
    {
     "name": "stderr",
     "output_type": "stream",
     "text": [
      "Epoch 30/40:: 470batch [00:12, 38.70batch/s, loss=0.019985]                               0.019985]\u001b[0m\n"
     ]
    },
    {
     "name": "stdout",
     "output_type": "stream",
     "text": [
      "Epoch 30 Train Loss = 0.0200, Accuracy = 99.59%, Test Accuracy = 99.17%\n"
     ]
    },
    {
     "name": "stderr",
     "output_type": "stream",
     "text": [
      "Epoch 31/40:: 470batch [00:12, 37.79batch/s, loss=0.023128]                               0.023128]\u001b[0m\n"
     ]
    },
    {
     "name": "stdout",
     "output_type": "stream",
     "text": [
      "Epoch 31 Train Loss = 0.0231, Accuracy = 99.49%, Test Accuracy = 99.15%\n"
     ]
    },
    {
     "name": "stderr",
     "output_type": "stream",
     "text": [
      "Epoch 32/40:: 470batch [00:12, 39.02batch/s, loss=0.021819]                               0.021819]\u001b[0m\n"
     ]
    },
    {
     "name": "stdout",
     "output_type": "stream",
     "text": [
      "Epoch 32 Train Loss = 0.0219, Accuracy = 99.52%, Test Accuracy = 99.19%\n"
     ]
    },
    {
     "name": "stderr",
     "output_type": "stream",
     "text": [
      "Epoch 33/40:: 470batch [00:13, 34.03batch/s, loss=0.021604]                               0.021604]\u001b[0m\n"
     ]
    },
    {
     "name": "stdout",
     "output_type": "stream",
     "text": [
      "Epoch 33 Train Loss = 0.0216, Accuracy = 99.53%, Test Accuracy = 99.16%\n"
     ]
    },
    {
     "name": "stderr",
     "output_type": "stream",
     "text": [
      "Epoch 34/40:: 470batch [00:12, 37.57batch/s, loss=0.020313]                               0.020313]\u001b[0m\n"
     ]
    },
    {
     "name": "stdout",
     "output_type": "stream",
     "text": [
      "Epoch 34 Train Loss = 0.0202, Accuracy = 99.55%, Test Accuracy = 99.13%\n"
     ]
    },
    {
     "name": "stderr",
     "output_type": "stream",
     "text": [
      "Epoch 35/40:: 470batch [00:12, 37.43batch/s, loss=0.019341]                               0.019341]\u001b[0m\n"
     ]
    },
    {
     "name": "stdout",
     "output_type": "stream",
     "text": [
      "Epoch 35 Train Loss = 0.0193, Accuracy = 99.61%, Test Accuracy = 99.18%\n"
     ]
    },
    {
     "name": "stderr",
     "output_type": "stream",
     "text": [
      "Epoch 36/40:: 470batch [00:11, 39.22batch/s, loss=0.017905]                               0.017905]\u001b[0m\n"
     ]
    },
    {
     "name": "stdout",
     "output_type": "stream",
     "text": [
      "Epoch 36 Train Loss = 0.0178, Accuracy = 99.60%, Test Accuracy = 99.20%\n"
     ]
    },
    {
     "name": "stderr",
     "output_type": "stream",
     "text": [
      "Epoch 37/40:: 470batch [00:12, 37.89batch/s, loss=0.016776]                               0.016776]\u001b[0m\n"
     ]
    },
    {
     "name": "stdout",
     "output_type": "stream",
     "text": [
      "Epoch 37 Train Loss = 0.0167, Accuracy = 99.63%, Test Accuracy = 99.25%\n"
     ]
    },
    {
     "name": "stderr",
     "output_type": "stream",
     "text": [
      "Epoch 38/40:: 470batch [00:12, 38.66batch/s, loss=0.015950]                               0.015950]\u001b[0m\n"
     ]
    },
    {
     "name": "stdout",
     "output_type": "stream",
     "text": [
      "Epoch 38 Train Loss = 0.0159, Accuracy = 99.69%, Test Accuracy = 99.29%\n"
     ]
    },
    {
     "name": "stderr",
     "output_type": "stream",
     "text": [
      "Epoch 39/40:: 470batch [00:12, 37.82batch/s, loss=0.014946]                               0.014946]\u001b[0m\n"
     ]
    },
    {
     "name": "stdout",
     "output_type": "stream",
     "text": [
      "Epoch 39 Train Loss = 0.0151, Accuracy = 99.72%, Test Accuracy = 99.00%\n"
     ]
    },
    {
     "name": "stderr",
     "output_type": "stream",
     "text": [
      "Epoch 40/40:: 470batch [00:12, 36.47batch/s, loss=0.014242]                               0.014242]\u001b[0m\n"
     ]
    },
    {
     "name": "stdout",
     "output_type": "stream",
     "text": [
      "Epoch 40 Train Loss = 0.0143, Accuracy = 99.75%, Test Accuracy = 99.19%\n",
      "0-0 end at 20250923-153439\n",
      "0 start at 20250923-153439\n"
     ]
    },
    {
     "name": "stderr",
     "output_type": "stream",
     "text": [
      "Epoch 1/40:: 470batch [00:13, 35.61batch/s, loss=0.667881]                                0.667881]\u001b[0m\n"
     ]
    },
    {
     "name": "stdout",
     "output_type": "stream",
     "text": [
      "Epoch 1 Train Loss = 0.6613, Accuracy = 86.76%, Test Accuracy = 95.20%\n"
     ]
    },
    {
     "name": "stderr",
     "output_type": "stream",
     "text": [
      "Epoch 2/40:: 470batch [00:12, 36.38batch/s, loss=0.216482]                                0.216482]\u001b[0m\n"
     ]
    },
    {
     "name": "stdout",
     "output_type": "stream",
     "text": [
      "Epoch 2 Train Loss = 0.2159, Accuracy = 95.51%, Test Accuracy = 96.44%\n"
     ]
    },
    {
     "name": "stderr",
     "output_type": "stream",
     "text": [
      "Epoch 3/40:: 470batch [00:13, 35.38batch/s, loss=0.160906]                                0.160906]\u001b[0m\n"
     ]
    },
    {
     "name": "stdout",
     "output_type": "stream",
     "text": [
      "Epoch 3 Train Loss = 0.1610, Accuracy = 96.58%, Test Accuracy = 97.36%\n"
     ]
    },
    {
     "name": "stderr",
     "output_type": "stream",
     "text": [
      "Epoch 4/40:: 470batch [00:13, 34.48batch/s, loss=0.133602]                                0.133602]\u001b[0m\n"
     ]
    },
    {
     "name": "stdout",
     "output_type": "stream",
     "text": [
      "Epoch 4 Train Loss = 0.1334, Accuracy = 97.11%, Test Accuracy = 97.58%\n"
     ]
    },
    {
     "name": "stderr",
     "output_type": "stream",
     "text": [
      "Epoch 5/40:: 470batch [00:13, 34.95batch/s, loss=0.114912]                                0.114912]\u001b[0m\n"
     ]
    },
    {
     "name": "stdout",
     "output_type": "stream",
     "text": [
      "Epoch 5 Train Loss = 0.1147, Accuracy = 97.48%, Test Accuracy = 97.86%\n"
     ]
    },
    {
     "name": "stderr",
     "output_type": "stream",
     "text": [
      "Epoch 6/40:: 470batch [00:13, 34.06batch/s, loss=0.100822]                                0.100822]\u001b[0m\n"
     ]
    },
    {
     "name": "stdout",
     "output_type": "stream",
     "text": [
      "Epoch 6 Train Loss = 0.1008, Accuracy = 97.76%, Test Accuracy = 98.04%\n"
     ]
    },
    {
     "name": "stderr",
     "output_type": "stream",
     "text": [
      "Epoch 7/40:: 470batch [00:12, 36.16batch/s, loss=0.090311]                                0.090311]\u001b[0m\n"
     ]
    },
    {
     "name": "stdout",
     "output_type": "stream",
     "text": [
      "Epoch 7 Train Loss = 0.0901, Accuracy = 97.99%, Test Accuracy = 98.21%\n"
     ]
    },
    {
     "name": "stderr",
     "output_type": "stream",
     "text": [
      "Epoch 8/40:: 470batch [00:12, 37.03batch/s, loss=0.079172]                                0.079172]\u001b[0m\n"
     ]
    },
    {
     "name": "stdout",
     "output_type": "stream",
     "text": [
      "Epoch 8 Train Loss = 0.0791, Accuracy = 98.18%, Test Accuracy = 98.40%\n"
     ]
    },
    {
     "name": "stderr",
     "output_type": "stream",
     "text": [
      "Epoch 9/40:: 470batch [00:12, 37.18batch/s, loss=0.068626]                                0.068626]\u001b[0m\n"
     ]
    },
    {
     "name": "stdout",
     "output_type": "stream",
     "text": [
      "Epoch 9 Train Loss = 0.0683, Accuracy = 98.40%, Test Accuracy = 98.48%\n"
     ]
    },
    {
     "name": "stderr",
     "output_type": "stream",
     "text": [
      "Epoch 10/40:: 470batch [00:12, 37.51batch/s, loss=0.059200]                               0.059200]\u001b[0m\n"
     ]
    },
    {
     "name": "stdout",
     "output_type": "stream",
     "text": [
      "Epoch 10 Train Loss = 0.0593, Accuracy = 98.56%, Test Accuracy = 98.66%\n"
     ]
    },
    {
     "name": "stderr",
     "output_type": "stream",
     "text": [
      "Epoch 11/40:: 470batch [00:12, 37.52batch/s, loss=0.051924]                               0.051924]\u001b[0m\n"
     ]
    },
    {
     "name": "stdout",
     "output_type": "stream",
     "text": [
      "Epoch 11 Train Loss = 0.0518, Accuracy = 98.71%, Test Accuracy = 98.80%\n"
     ]
    },
    {
     "name": "stderr",
     "output_type": "stream",
     "text": [
      "Epoch 12/40:: 470batch [00:12, 38.97batch/s, loss=0.045624]                               0.045624]\u001b[0m\n"
     ]
    },
    {
     "name": "stdout",
     "output_type": "stream",
     "text": [
      "Epoch 12 Train Loss = 0.0457, Accuracy = 98.84%, Test Accuracy = 98.91%\n"
     ]
    },
    {
     "name": "stderr",
     "output_type": "stream",
     "text": [
      "Epoch 13/40:: 470batch [00:12, 36.91batch/s, loss=0.040782]                               0.040782]\u001b[0m\n"
     ]
    },
    {
     "name": "stdout",
     "output_type": "stream",
     "text": [
      "Epoch 13 Train Loss = 0.0408, Accuracy = 98.97%, Test Accuracy = 98.94%\n"
     ]
    },
    {
     "name": "stderr",
     "output_type": "stream",
     "text": [
      "Epoch 14/40:: 470batch [00:12, 37.07batch/s, loss=0.036770]                               0.036770]\u001b[0m\n"
     ]
    },
    {
     "name": "stdout",
     "output_type": "stream",
     "text": [
      "Epoch 14 Train Loss = 0.0369, Accuracy = 99.07%, Test Accuracy = 99.06%\n"
     ]
    },
    {
     "name": "stderr",
     "output_type": "stream",
     "text": [
      "Epoch 15/40:: 470batch [00:12, 38.08batch/s, loss=0.033601]                               0.033601]\u001b[0m\n"
     ]
    },
    {
     "name": "stdout",
     "output_type": "stream",
     "text": [
      "Epoch 15 Train Loss = 0.0337, Accuracy = 99.15%, Test Accuracy = 99.15%\n"
     ]
    },
    {
     "name": "stderr",
     "output_type": "stream",
     "text": [
      "Epoch 16/40:: 470batch [00:12, 36.71batch/s, loss=0.030470]                               0.030470]\u001b[0m\n"
     ]
    },
    {
     "name": "stdout",
     "output_type": "stream",
     "text": [
      "Epoch 16 Train Loss = 0.0304, Accuracy = 99.22%, Test Accuracy = 99.15%\n"
     ]
    },
    {
     "name": "stderr",
     "output_type": "stream",
     "text": [
      "Epoch 17/40:: 470batch [00:12, 38.50batch/s, loss=0.027866]                               0.027866]\u001b[0m\n"
     ]
    },
    {
     "name": "stdout",
     "output_type": "stream",
     "text": [
      "Epoch 17 Train Loss = 0.0279, Accuracy = 99.30%, Test Accuracy = 99.21%\n"
     ]
    },
    {
     "name": "stderr",
     "output_type": "stream",
     "text": [
      "Epoch 18/40:: 470batch [00:12, 37.62batch/s, loss=0.025717]                               0.025717]\u001b[0m\n"
     ]
    },
    {
     "name": "stdout",
     "output_type": "stream",
     "text": [
      "Epoch 18 Train Loss = 0.0256, Accuracy = 99.34%, Test Accuracy = 99.19%\n"
     ]
    },
    {
     "name": "stderr",
     "output_type": "stream",
     "text": [
      "Epoch 19/40:: 470batch [00:12, 37.85batch/s, loss=0.023372]                               0.023372]\u001b[0m\n"
     ]
    },
    {
     "name": "stdout",
     "output_type": "stream",
     "text": [
      "Epoch 19 Train Loss = 0.0234, Accuracy = 99.43%, Test Accuracy = 99.23%\n"
     ]
    },
    {
     "name": "stderr",
     "output_type": "stream",
     "text": [
      "Epoch 20/40:: 470batch [00:13, 36.14batch/s, loss=0.022126]                               0.022126]\u001b[0m\n"
     ]
    },
    {
     "name": "stdout",
     "output_type": "stream",
     "text": [
      "Epoch 20 Train Loss = 0.0221, Accuracy = 99.47%, Test Accuracy = 99.22%\n"
     ]
    },
    {
     "name": "stderr",
     "output_type": "stream",
     "text": [
      "Epoch 21/40:: 470batch [00:12, 36.88batch/s, loss=0.020985]                               0.020985]\u001b[0m\n"
     ]
    },
    {
     "name": "stdout",
     "output_type": "stream",
     "text": [
      "Epoch 21 Train Loss = 0.0210, Accuracy = 99.51%, Test Accuracy = 99.27%\n"
     ]
    },
    {
     "name": "stderr",
     "output_type": "stream",
     "text": [
      "Epoch 22/40:: 470batch [00:12, 36.81batch/s, loss=0.019696]                               0.019696]\u001b[0m\n"
     ]
    },
    {
     "name": "stdout",
     "output_type": "stream",
     "text": [
      "Epoch 22 Train Loss = 0.0198, Accuracy = 99.55%, Test Accuracy = 99.23%\n"
     ]
    },
    {
     "name": "stderr",
     "output_type": "stream",
     "text": [
      "Epoch 23/40:: 470batch [00:12, 37.55batch/s, loss=0.018276]                               0.018276]\u001b[0m\n"
     ]
    },
    {
     "name": "stdout",
     "output_type": "stream",
     "text": [
      "Epoch 23 Train Loss = 0.0183, Accuracy = 99.61%, Test Accuracy = 99.32%\n"
     ]
    },
    {
     "name": "stderr",
     "output_type": "stream",
     "text": [
      "Epoch 24/40:: 470batch [00:12, 36.58batch/s, loss=0.016923]                               0.016923]\u001b[0m\n"
     ]
    },
    {
     "name": "stdout",
     "output_type": "stream",
     "text": [
      "Epoch 24 Train Loss = 0.0168, Accuracy = 99.63%, Test Accuracy = 99.31%\n"
     ]
    },
    {
     "name": "stderr",
     "output_type": "stream",
     "text": [
      "Epoch 25/40:: 470batch [00:12, 37.36batch/s, loss=0.015492]                               0.015492]\u001b[0m\n"
     ]
    },
    {
     "name": "stdout",
     "output_type": "stream",
     "text": [
      "Epoch 25 Train Loss = 0.0155, Accuracy = 99.68%, Test Accuracy = 99.24%\n"
     ]
    },
    {
     "name": "stderr",
     "output_type": "stream",
     "text": [
      "Epoch 26/40:: 470batch [00:14, 33.54batch/s, loss=0.013956]                               0.013956]\u001b[0m\n"
     ]
    },
    {
     "name": "stdout",
     "output_type": "stream",
     "text": [
      "Epoch 26 Train Loss = 0.0140, Accuracy = 99.73%, Test Accuracy = 99.31%\n"
     ]
    },
    {
     "name": "stderr",
     "output_type": "stream",
     "text": [
      "Epoch 27/40:: 470batch [00:13, 35.25batch/s, loss=0.012717]                               0.012717]\u001b[0m\n"
     ]
    },
    {
     "name": "stdout",
     "output_type": "stream",
     "text": [
      "Epoch 27 Train Loss = 0.0128, Accuracy = 99.75%, Test Accuracy = 99.28%\n"
     ]
    },
    {
     "name": "stderr",
     "output_type": "stream",
     "text": [
      "Epoch 28/40:: 470batch [00:12, 37.12batch/s, loss=0.011520]                               0.011520]\u001b[0m\n"
     ]
    },
    {
     "name": "stdout",
     "output_type": "stream",
     "text": [
      "Epoch 28 Train Loss = 0.0115, Accuracy = 99.81%, Test Accuracy = 99.29%\n"
     ]
    },
    {
     "name": "stderr",
     "output_type": "stream",
     "text": [
      "Epoch 29/40:: 470batch [00:12, 37.20batch/s, loss=0.010534]                               0.010534]\u001b[0m\n"
     ]
    },
    {
     "name": "stdout",
     "output_type": "stream",
     "text": [
      "Epoch 29 Train Loss = 0.0106, Accuracy = 99.81%, Test Accuracy = 99.27%\n"
     ]
    },
    {
     "name": "stderr",
     "output_type": "stream",
     "text": [
      "Epoch 30/40:: 470batch [00:12, 37.92batch/s, loss=0.009619]                               0.009619]\u001b[0m\n"
     ]
    },
    {
     "name": "stdout",
     "output_type": "stream",
     "text": [
      "Epoch 30 Train Loss = 0.0097, Accuracy = 99.85%, Test Accuracy = 99.32%\n"
     ]
    },
    {
     "name": "stderr",
     "output_type": "stream",
     "text": [
      "Epoch 31/40:: 470batch [00:12, 37.94batch/s, loss=0.008664]                               0.008664]\u001b[0m\n"
     ]
    },
    {
     "name": "stdout",
     "output_type": "stream",
     "text": [
      "Epoch 31 Train Loss = 0.0086, Accuracy = 99.87%, Test Accuracy = 99.38%\n"
     ]
    },
    {
     "name": "stderr",
     "output_type": "stream",
     "text": [
      "Epoch 32/40:: 470batch [00:12, 38.64batch/s, loss=0.007974]                               0.007974]\u001b[0m\n"
     ]
    },
    {
     "name": "stdout",
     "output_type": "stream",
     "text": [
      "Epoch 32 Train Loss = 0.0080, Accuracy = 99.88%, Test Accuracy = 99.30%\n"
     ]
    },
    {
     "name": "stderr",
     "output_type": "stream",
     "text": [
      "Epoch 33/40:: 470batch [00:12, 37.68batch/s, loss=0.007205]                               0.007205]\u001b[0m\n"
     ]
    },
    {
     "name": "stdout",
     "output_type": "stream",
     "text": [
      "Epoch 33 Train Loss = 0.0072, Accuracy = 99.91%, Test Accuracy = 99.34%\n"
     ]
    },
    {
     "name": "stderr",
     "output_type": "stream",
     "text": [
      "Epoch 34/40:: 470batch [00:12, 37.26batch/s, loss=0.006673]                               0.006673]\u001b[0m\n"
     ]
    },
    {
     "name": "stdout",
     "output_type": "stream",
     "text": [
      "Epoch 34 Train Loss = 0.0067, Accuracy = 99.91%, Test Accuracy = 99.32%\n"
     ]
    },
    {
     "name": "stderr",
     "output_type": "stream",
     "text": [
      "Epoch 35/40:: 470batch [00:12, 37.84batch/s, loss=0.006064]                               0.006064]\u001b[0m\n"
     ]
    },
    {
     "name": "stdout",
     "output_type": "stream",
     "text": [
      "Epoch 35 Train Loss = 0.0061, Accuracy = 99.94%, Test Accuracy = 99.34%\n"
     ]
    },
    {
     "name": "stderr",
     "output_type": "stream",
     "text": [
      "Epoch 36/40:: 470batch [00:12, 37.48batch/s, loss=0.006105]                               0.006105]\u001b[0m\n"
     ]
    },
    {
     "name": "stdout",
     "output_type": "stream",
     "text": [
      "Epoch 36 Train Loss = 0.0061, Accuracy = 99.94%, Test Accuracy = 99.32%\n"
     ]
    },
    {
     "name": "stderr",
     "output_type": "stream",
     "text": [
      "Epoch 37/40:: 470batch [00:12, 38.40batch/s, loss=0.006347]                               0.006347]\u001b[0m\n"
     ]
    },
    {
     "name": "stdout",
     "output_type": "stream",
     "text": [
      "Epoch 37 Train Loss = 0.0064, Accuracy = 99.94%, Test Accuracy = 99.37%\n"
     ]
    },
    {
     "name": "stderr",
     "output_type": "stream",
     "text": [
      "Epoch 38/40:: 470batch [00:12, 37.72batch/s, loss=0.006616]                               0.006616]\u001b[0m\n"
     ]
    },
    {
     "name": "stdout",
     "output_type": "stream",
     "text": [
      "Epoch 38 Train Loss = 0.0066, Accuracy = 99.94%, Test Accuracy = 99.30%\n"
     ]
    },
    {
     "name": "stderr",
     "output_type": "stream",
     "text": [
      "Epoch 39/40:: 470batch [00:12, 36.79batch/s, loss=0.007912]                               0.007912]\u001b[0m\n"
     ]
    },
    {
     "name": "stdout",
     "output_type": "stream",
     "text": [
      "Epoch 39 Train Loss = 0.0079, Accuracy = 99.93%, Test Accuracy = 99.34%\n"
     ]
    },
    {
     "name": "stderr",
     "output_type": "stream",
     "text": [
      "Epoch 40/40:: 470batch [00:12, 37.53batch/s, loss=0.008243]                               0.008243]\u001b[0m\n"
     ]
    },
    {
     "name": "stdout",
     "output_type": "stream",
     "text": [
      "Epoch 40 Train Loss = 0.0082, Accuracy = 99.91%, Test Accuracy = 99.28%\n",
      "0-1 end at 20250923-154338\n",
      "0 start at 20250923-154338\n"
     ]
    },
    {
     "name": "stderr",
     "output_type": "stream",
     "text": [
      "Epoch 1/40:: 470batch [00:12, 37.53batch/s, loss=0.692546]                                0.692546]\u001b[0m\n"
     ]
    },
    {
     "name": "stdout",
     "output_type": "stream",
     "text": [
      "Epoch 1 Train Loss = 0.6858, Accuracy = 86.65%, Test Accuracy = 95.02%\n"
     ]
    },
    {
     "name": "stderr",
     "output_type": "stream",
     "text": [
      "Epoch 2/40:: 470batch [00:12, 37.24batch/s, loss=0.220229]                                0.220229]\u001b[0m\n"
     ]
    },
    {
     "name": "stdout",
     "output_type": "stream",
     "text": [
      "Epoch 2 Train Loss = 0.2195, Accuracy = 95.43%, Test Accuracy = 96.43%\n"
     ]
    },
    {
     "name": "stderr",
     "output_type": "stream",
     "text": [
      "Epoch 3/40:: 470batch [00:12, 38.41batch/s, loss=0.158637]                                0.158637]\u001b[0m\n"
     ]
    },
    {
     "name": "stdout",
     "output_type": "stream",
     "text": [
      "Epoch 3 Train Loss = 0.1583, Accuracy = 96.54%, Test Accuracy = 97.02%\n"
     ]
    },
    {
     "name": "stderr",
     "output_type": "stream",
     "text": [
      "Epoch 4/40:: 470batch [00:12, 37.66batch/s, loss=0.126382]                                0.126382]\u001b[0m\n"
     ]
    },
    {
     "name": "stdout",
     "output_type": "stream",
     "text": [
      "Epoch 4 Train Loss = 0.1262, Accuracy = 97.14%, Test Accuracy = 97.61%\n"
     ]
    },
    {
     "name": "stderr",
     "output_type": "stream",
     "text": [
      "Epoch 5/40:: 470batch [00:12, 37.56batch/s, loss=0.106107]                                0.106107]\u001b[0m\n"
     ]
    },
    {
     "name": "stdout",
     "output_type": "stream",
     "text": [
      "Epoch 5 Train Loss = 0.1062, Accuracy = 97.55%, Test Accuracy = 97.84%\n"
     ]
    },
    {
     "name": "stderr",
     "output_type": "stream",
     "text": [
      "Epoch 6/40:: 470batch [00:12, 37.39batch/s, loss=0.092895]                                0.092895]\u001b[0m\n"
     ]
    },
    {
     "name": "stdout",
     "output_type": "stream",
     "text": [
      "Epoch 6 Train Loss = 0.0928, Accuracy = 97.81%, Test Accuracy = 98.09%\n"
     ]
    },
    {
     "name": "stderr",
     "output_type": "stream",
     "text": [
      "Epoch 7/40:: 470batch [00:12, 37.75batch/s, loss=0.081964]                                0.081964]\u001b[0m\n"
     ]
    },
    {
     "name": "stdout",
     "output_type": "stream",
     "text": [
      "Epoch 7 Train Loss = 0.0816, Accuracy = 98.04%, Test Accuracy = 98.34%\n"
     ]
    },
    {
     "name": "stderr",
     "output_type": "stream",
     "text": [
      "Epoch 8/40:: 470batch [00:12, 37.79batch/s, loss=0.071223]                                0.071223]\u001b[0m\n"
     ]
    },
    {
     "name": "stdout",
     "output_type": "stream",
     "text": [
      "Epoch 8 Train Loss = 0.0709, Accuracy = 98.26%, Test Accuracy = 98.49%\n"
     ]
    },
    {
     "name": "stderr",
     "output_type": "stream",
     "text": [
      "Epoch 9/40:: 470batch [00:12, 37.01batch/s, loss=0.060430]                                0.060430]\u001b[0m\n"
     ]
    },
    {
     "name": "stdout",
     "output_type": "stream",
     "text": [
      "Epoch 9 Train Loss = 0.0606, Accuracy = 98.41%, Test Accuracy = 98.59%\n"
     ]
    },
    {
     "name": "stderr",
     "output_type": "stream",
     "text": [
      "Epoch 10/40:: 470batch [00:12, 38.10batch/s, loss=0.054409]                               0.054409]\u001b[0m\n"
     ]
    },
    {
     "name": "stdout",
     "output_type": "stream",
     "text": [
      "Epoch 10 Train Loss = 0.0543, Accuracy = 98.63%, Test Accuracy = 98.75%\n"
     ]
    },
    {
     "name": "stderr",
     "output_type": "stream",
     "text": [
      "Epoch 11/40:: 470batch [00:12, 36.94batch/s, loss=0.048985]                               0.048985]\u001b[0m\n"
     ]
    },
    {
     "name": "stdout",
     "output_type": "stream",
     "text": [
      "Epoch 11 Train Loss = 0.0495, Accuracy = 98.76%, Test Accuracy = 98.79%\n"
     ]
    },
    {
     "name": "stderr",
     "output_type": "stream",
     "text": [
      "Epoch 12/40:: 470batch [00:12, 38.00batch/s, loss=0.046015]                               0.046015]\u001b[0m\n"
     ]
    },
    {
     "name": "stdout",
     "output_type": "stream",
     "text": [
      "Epoch 12 Train Loss = 0.0460, Accuracy = 98.85%, Test Accuracy = 98.84%\n"
     ]
    },
    {
     "name": "stderr",
     "output_type": "stream",
     "text": [
      "Epoch 13/40:: 470batch [00:12, 38.26batch/s, loss=0.043296]                               0.043296]\u001b[0m\n"
     ]
    },
    {
     "name": "stdout",
     "output_type": "stream",
     "text": [
      "Epoch 13 Train Loss = 0.0431, Accuracy = 98.93%, Test Accuracy = 98.87%\n"
     ]
    },
    {
     "name": "stderr",
     "output_type": "stream",
     "text": [
      "Epoch 14/40:: 470batch [00:12, 38.06batch/s, loss=0.039921]                               0.039921]\u001b[0m\n"
     ]
    },
    {
     "name": "stdout",
     "output_type": "stream",
     "text": [
      "Epoch 14 Train Loss = 0.0399, Accuracy = 99.00%, Test Accuracy = 98.90%\n"
     ]
    },
    {
     "name": "stderr",
     "output_type": "stream",
     "text": [
      "Epoch 15/40:: 470batch [00:12, 37.45batch/s, loss=0.036391]                               0.036391]\u001b[0m\n"
     ]
    },
    {
     "name": "stdout",
     "output_type": "stream",
     "text": [
      "Epoch 15 Train Loss = 0.0364, Accuracy = 99.05%, Test Accuracy = 98.90%\n"
     ]
    },
    {
     "name": "stderr",
     "output_type": "stream",
     "text": [
      "Epoch 16/40:: 470batch [00:12, 38.40batch/s, loss=0.033775]                               0.033775]\u001b[0m\n"
     ]
    },
    {
     "name": "stdout",
     "output_type": "stream",
     "text": [
      "Epoch 16 Train Loss = 0.0338, Accuracy = 99.11%, Test Accuracy = 98.95%\n"
     ]
    },
    {
     "name": "stderr",
     "output_type": "stream",
     "text": [
      "Epoch 17/40:: 470batch [00:12, 38.51batch/s, loss=0.030998]                               0.030998]\u001b[0m\n"
     ]
    },
    {
     "name": "stdout",
     "output_type": "stream",
     "text": [
      "Epoch 17 Train Loss = 0.0310, Accuracy = 99.20%, Test Accuracy = 99.05%\n"
     ]
    },
    {
     "name": "stderr",
     "output_type": "stream",
     "text": [
      "Epoch 18/40:: 470batch [00:12, 38.22batch/s, loss=0.029104]                               0.029104]\u001b[0m\n"
     ]
    },
    {
     "name": "stdout",
     "output_type": "stream",
     "text": [
      "Epoch 18 Train Loss = 0.0291, Accuracy = 99.29%, Test Accuracy = 99.06%\n"
     ]
    },
    {
     "name": "stderr",
     "output_type": "stream",
     "text": [
      "Epoch 19/40:: 470batch [00:12, 37.63batch/s, loss=0.026721]                               0.026721]\u001b[0m\n"
     ]
    },
    {
     "name": "stdout",
     "output_type": "stream",
     "text": [
      "Epoch 19 Train Loss = 0.0266, Accuracy = 99.30%, Test Accuracy = 99.05%\n"
     ]
    },
    {
     "name": "stderr",
     "output_type": "stream",
     "text": [
      "Epoch 20/40:: 470batch [00:12, 37.41batch/s, loss=0.024918]                               0.024918]\u001b[0m\n"
     ]
    },
    {
     "name": "stdout",
     "output_type": "stream",
     "text": [
      "Epoch 20 Train Loss = 0.0248, Accuracy = 99.33%, Test Accuracy = 99.09%\n"
     ]
    },
    {
     "name": "stderr",
     "output_type": "stream",
     "text": [
      "Epoch 21/40:: 470batch [00:12, 37.29batch/s, loss=0.022807]                               0.022807]\u001b[0m\n"
     ]
    },
    {
     "name": "stdout",
     "output_type": "stream",
     "text": [
      "Epoch 21 Train Loss = 0.0228, Accuracy = 99.43%, Test Accuracy = 99.09%\n"
     ]
    },
    {
     "name": "stderr",
     "output_type": "stream",
     "text": [
      "Epoch 22/40:: 470batch [00:12, 37.12batch/s, loss=0.021582]                               0.021582]\u001b[0m\n"
     ]
    },
    {
     "name": "stdout",
     "output_type": "stream",
     "text": [
      "Epoch 22 Train Loss = 0.0217, Accuracy = 99.45%, Test Accuracy = 99.08%\n"
     ]
    },
    {
     "name": "stderr",
     "output_type": "stream",
     "text": [
      "Epoch 23/40:: 470batch [00:12, 37.53batch/s, loss=0.020651]                               0.020651]\u001b[0m\n"
     ]
    },
    {
     "name": "stdout",
     "output_type": "stream",
     "text": [
      "Epoch 23 Train Loss = 0.0207, Accuracy = 99.52%, Test Accuracy = 99.08%\n"
     ]
    },
    {
     "name": "stderr",
     "output_type": "stream",
     "text": [
      "Epoch 24/40:: 470batch [00:12, 37.59batch/s, loss=0.019477]                               0.019477]\u001b[0m\n"
     ]
    },
    {
     "name": "stdout",
     "output_type": "stream",
     "text": [
      "Epoch 24 Train Loss = 0.0196, Accuracy = 99.54%, Test Accuracy = 99.14%\n"
     ]
    },
    {
     "name": "stderr",
     "output_type": "stream",
     "text": [
      "Epoch 25/40:: 470batch [00:12, 37.14batch/s, loss=0.018744]                               0.018744]\u001b[0m\n"
     ]
    },
    {
     "name": "stdout",
     "output_type": "stream",
     "text": [
      "Epoch 25 Train Loss = 0.0186, Accuracy = 99.58%, Test Accuracy = 99.14%\n"
     ]
    },
    {
     "name": "stderr",
     "output_type": "stream",
     "text": [
      "Epoch 26/40:: 470batch [00:12, 37.62batch/s, loss=0.017781]                               0.017781]\u001b[0m\n"
     ]
    },
    {
     "name": "stdout",
     "output_type": "stream",
     "text": [
      "Epoch 26 Train Loss = 0.0178, Accuracy = 99.61%, Test Accuracy = 99.11%\n"
     ]
    },
    {
     "name": "stderr",
     "output_type": "stream",
     "text": [
      "Epoch 27/40:: 470batch [00:12, 38.16batch/s, loss=0.017288]                               0.017288]\u001b[0m\n"
     ]
    },
    {
     "name": "stdout",
     "output_type": "stream",
     "text": [
      "Epoch 27 Train Loss = 0.0173, Accuracy = 99.64%, Test Accuracy = 99.08%\n"
     ]
    },
    {
     "name": "stderr",
     "output_type": "stream",
     "text": [
      "Epoch 28/40:: 470batch [00:12, 37.16batch/s, loss=0.015860]                               0.015860]\u001b[0m\n"
     ]
    },
    {
     "name": "stdout",
     "output_type": "stream",
     "text": [
      "Epoch 28 Train Loss = 0.0160, Accuracy = 99.66%, Test Accuracy = 99.15%\n"
     ]
    },
    {
     "name": "stderr",
     "output_type": "stream",
     "text": [
      "Epoch 29/40:: 470batch [00:12, 37.92batch/s, loss=0.014990]                               0.014990]\u001b[0m\n"
     ]
    },
    {
     "name": "stdout",
     "output_type": "stream",
     "text": [
      "Epoch 29 Train Loss = 0.0150, Accuracy = 99.69%, Test Accuracy = 99.19%\n"
     ]
    },
    {
     "name": "stderr",
     "output_type": "stream",
     "text": [
      "Epoch 30/40:: 470batch [00:12, 38.32batch/s, loss=0.014228]                               0.014228]\u001b[0m\n"
     ]
    },
    {
     "name": "stdout",
     "output_type": "stream",
     "text": [
      "Epoch 30 Train Loss = 0.0143, Accuracy = 99.70%, Test Accuracy = 99.17%\n"
     ]
    },
    {
     "name": "stderr",
     "output_type": "stream",
     "text": [
      "Epoch 31/40:: 470batch [00:12, 37.01batch/s, loss=0.014719]                               0.014719]\u001b[0m\n"
     ]
    },
    {
     "name": "stdout",
     "output_type": "stream",
     "text": [
      "Epoch 31 Train Loss = 0.0147, Accuracy = 99.68%, Test Accuracy = 99.11%\n"
     ]
    },
    {
     "name": "stderr",
     "output_type": "stream",
     "text": [
      "Epoch 32/40:: 470batch [00:12, 38.18batch/s, loss=0.016115]                               0.016115]\u001b[0m\n"
     ]
    },
    {
     "name": "stdout",
     "output_type": "stream",
     "text": [
      "Epoch 32 Train Loss = 0.0161, Accuracy = 99.65%, Test Accuracy = 99.00%\n"
     ]
    },
    {
     "name": "stderr",
     "output_type": "stream",
     "text": [
      "Epoch 33/40:: 470batch [00:12, 38.24batch/s, loss=0.014475]                               0.014475]\u001b[0m\n"
     ]
    },
    {
     "name": "stdout",
     "output_type": "stream",
     "text": [
      "Epoch 33 Train Loss = 0.0147, Accuracy = 99.71%, Test Accuracy = 99.19%\n"
     ]
    },
    {
     "name": "stderr",
     "output_type": "stream",
     "text": [
      "Epoch 34/40:: 470batch [00:12, 37.87batch/s, loss=0.015579]                               0.015579]\u001b[0m\n"
     ]
    },
    {
     "name": "stdout",
     "output_type": "stream",
     "text": [
      "Epoch 34 Train Loss = 0.0156, Accuracy = 99.71%, Test Accuracy = 99.11%\n"
     ]
    },
    {
     "name": "stderr",
     "output_type": "stream",
     "text": [
      "Epoch 35/40:: 470batch [00:12, 36.51batch/s, loss=0.015859]                               0.015859]\u001b[0m\n"
     ]
    },
    {
     "name": "stdout",
     "output_type": "stream",
     "text": [
      "Epoch 35 Train Loss = 0.0158, Accuracy = 99.66%, Test Accuracy = 99.13%\n"
     ]
    },
    {
     "name": "stderr",
     "output_type": "stream",
     "text": [
      "Epoch 36/40:: 470batch [00:12, 36.66batch/s, loss=0.016008]                               0.016008]\u001b[0m\n"
     ]
    },
    {
     "name": "stdout",
     "output_type": "stream",
     "text": [
      "Epoch 36 Train Loss = 0.0160, Accuracy = 99.66%, Test Accuracy = 99.15%\n"
     ]
    },
    {
     "name": "stderr",
     "output_type": "stream",
     "text": [
      "Epoch 37/40:: 470batch [00:12, 36.93batch/s, loss=0.017325]                               0.017325]\u001b[0m\n"
     ]
    },
    {
     "name": "stdout",
     "output_type": "stream",
     "text": [
      "Epoch 37 Train Loss = 0.0175, Accuracy = 99.64%, Test Accuracy = 99.08%\n"
     ]
    },
    {
     "name": "stderr",
     "output_type": "stream",
     "text": [
      "Epoch 38/40:: 470batch [00:12, 37.86batch/s, loss=0.019093]                               0.019093]\u001b[0m\n"
     ]
    },
    {
     "name": "stdout",
     "output_type": "stream",
     "text": [
      "Epoch 38 Train Loss = 0.0191, Accuracy = 99.61%, Test Accuracy = 99.17%\n"
     ]
    },
    {
     "name": "stderr",
     "output_type": "stream",
     "text": [
      "Epoch 39/40:: 470batch [00:12, 37.33batch/s, loss=0.018395]                               0.018395]\u001b[0m\n"
     ]
    },
    {
     "name": "stdout",
     "output_type": "stream",
     "text": [
      "Epoch 39 Train Loss = 0.0184, Accuracy = 99.60%, Test Accuracy = 99.14%\n"
     ]
    },
    {
     "name": "stderr",
     "output_type": "stream",
     "text": [
      "Epoch 40/40:: 470batch [00:12, 37.24batch/s, loss=0.017443]                               0.017443]\u001b[0m\n"
     ]
    },
    {
     "name": "stdout",
     "output_type": "stream",
     "text": [
      "Epoch 40 Train Loss = 0.0175, Accuracy = 99.64%, Test Accuracy = 99.06%\n",
      "0-2 end at 20250923-155227\n",
      "0 start at 20250923-155227\n"
     ]
    },
    {
     "name": "stderr",
     "output_type": "stream",
     "text": [
      "Epoch 1/40:: 470batch [00:12, 37.75batch/s, loss=0.709382]                                0.709382]\u001b[0m\n"
     ]
    },
    {
     "name": "stdout",
     "output_type": "stream",
     "text": [
      "Epoch 1 Train Loss = 0.7018, Accuracy = 85.31%, Test Accuracy = 94.22%\n"
     ]
    },
    {
     "name": "stderr",
     "output_type": "stream",
     "text": [
      "Epoch 2/40:: 470batch [00:12, 37.78batch/s, loss=0.230610]                                0.230610]\u001b[0m\n"
     ]
    },
    {
     "name": "stdout",
     "output_type": "stream",
     "text": [
      "Epoch 2 Train Loss = 0.2297, Accuracy = 95.12%, Test Accuracy = 96.28%\n"
     ]
    },
    {
     "name": "stderr",
     "output_type": "stream",
     "text": [
      "Epoch 3/40:: 470batch [00:12, 36.88batch/s, loss=0.159267]                                0.159267]\u001b[0m\n"
     ]
    },
    {
     "name": "stdout",
     "output_type": "stream",
     "text": [
      "Epoch 3 Train Loss = 0.1585, Accuracy = 96.41%, Test Accuracy = 97.03%\n"
     ]
    },
    {
     "name": "stderr",
     "output_type": "stream",
     "text": [
      "Epoch 4/40:: 470batch [00:12, 37.42batch/s, loss=0.123641]                                0.123641]\u001b[0m\n"
     ]
    },
    {
     "name": "stdout",
     "output_type": "stream",
     "text": [
      "Epoch 4 Train Loss = 0.1237, Accuracy = 97.03%, Test Accuracy = 97.60%\n"
     ]
    },
    {
     "name": "stderr",
     "output_type": "stream",
     "text": [
      "Epoch 5/40:: 470batch [00:13, 34.87batch/s, loss=0.103112]                                0.103112]\u001b[0m\n"
     ]
    },
    {
     "name": "stdout",
     "output_type": "stream",
     "text": [
      "Epoch 5 Train Loss = 0.1029, Accuracy = 97.51%, Test Accuracy = 97.86%\n"
     ]
    },
    {
     "name": "stderr",
     "output_type": "stream",
     "text": [
      "Epoch 6/40:: 470batch [00:13, 34.22batch/s, loss=0.088032]                                0.088032]\u001b[0m\n"
     ]
    },
    {
     "name": "stdout",
     "output_type": "stream",
     "text": [
      "Epoch 6 Train Loss = 0.0880, Accuracy = 97.89%, Test Accuracy = 98.12%\n"
     ]
    },
    {
     "name": "stderr",
     "output_type": "stream",
     "text": [
      "Epoch 7/40:: 470batch [00:13, 35.21batch/s, loss=0.077630]                                0.077630]\u001b[0m\n"
     ]
    },
    {
     "name": "stdout",
     "output_type": "stream",
     "text": [
      "Epoch 7 Train Loss = 0.0773, Accuracy = 98.07%, Test Accuracy = 98.23%\n"
     ]
    },
    {
     "name": "stderr",
     "output_type": "stream",
     "text": [
      "Epoch 8/40:: 470batch [00:13, 35.74batch/s, loss=0.068348]                                0.068348]\u001b[0m\n"
     ]
    },
    {
     "name": "stdout",
     "output_type": "stream",
     "text": [
      "Epoch 8 Train Loss = 0.0683, Accuracy = 98.27%, Test Accuracy = 98.33%\n"
     ]
    },
    {
     "name": "stderr",
     "output_type": "stream",
     "text": [
      "Epoch 9/40:: 470batch [00:13, 34.47batch/s, loss=0.061687]                                0.061687]\u001b[0m\n"
     ]
    },
    {
     "name": "stdout",
     "output_type": "stream",
     "text": [
      "Epoch 9 Train Loss = 0.0614, Accuracy = 98.45%, Test Accuracy = 98.62%\n"
     ]
    },
    {
     "name": "stderr",
     "output_type": "stream",
     "text": [
      "Epoch 10/40:: 470batch [00:13, 34.63batch/s, loss=0.055003]                               0.055003]\u001b[0m\n"
     ]
    },
    {
     "name": "stdout",
     "output_type": "stream",
     "text": [
      "Epoch 10 Train Loss = 0.0549, Accuracy = 98.60%, Test Accuracy = 98.60%\n"
     ]
    },
    {
     "name": "stderr",
     "output_type": "stream",
     "text": [
      "Epoch 11/40:: 470batch [00:13, 35.88batch/s, loss=0.050597]                               0.050597]\u001b[0m\n"
     ]
    },
    {
     "name": "stdout",
     "output_type": "stream",
     "text": [
      "Epoch 11 Train Loss = 0.0507, Accuracy = 98.71%, Test Accuracy = 98.70%\n"
     ]
    },
    {
     "name": "stderr",
     "output_type": "stream",
     "text": [
      "Epoch 12/40:: 470batch [00:13, 34.30batch/s, loss=0.047232]                               0.047232]\u001b[0m\n"
     ]
    },
    {
     "name": "stdout",
     "output_type": "stream",
     "text": [
      "Epoch 12 Train Loss = 0.0472, Accuracy = 98.78%, Test Accuracy = 98.77%\n"
     ]
    },
    {
     "name": "stderr",
     "output_type": "stream",
     "text": [
      "Epoch 13/40:: 470batch [00:13, 35.38batch/s, loss=0.043774]                               0.043774]\u001b[0m\n"
     ]
    },
    {
     "name": "stdout",
     "output_type": "stream",
     "text": [
      "Epoch 13 Train Loss = 0.0438, Accuracy = 98.89%, Test Accuracy = 98.81%\n"
     ]
    },
    {
     "name": "stderr",
     "output_type": "stream",
     "text": [
      "Epoch 14/40:: 470batch [00:13, 34.64batch/s, loss=0.040756]                               0.040756]\u001b[0m\n"
     ]
    },
    {
     "name": "stdout",
     "output_type": "stream",
     "text": [
      "Epoch 14 Train Loss = 0.0408, Accuracy = 98.94%, Test Accuracy = 98.79%\n"
     ]
    },
    {
     "name": "stderr",
     "output_type": "stream",
     "text": [
      "Epoch 15/40:: 470batch [00:13, 34.12batch/s, loss=0.038231]                               0.038231]\u001b[0m\n"
     ]
    },
    {
     "name": "stdout",
     "output_type": "stream",
     "text": [
      "Epoch 15 Train Loss = 0.0380, Accuracy = 99.00%, Test Accuracy = 98.98%\n"
     ]
    },
    {
     "name": "stderr",
     "output_type": "stream",
     "text": [
      "Epoch 16/40:: 470batch [00:13, 35.73batch/s, loss=0.034786]                               0.034786]\u001b[0m\n"
     ]
    },
    {
     "name": "stdout",
     "output_type": "stream",
     "text": [
      "Epoch 16 Train Loss = 0.0349, Accuracy = 99.05%, Test Accuracy = 98.94%\n"
     ]
    },
    {
     "name": "stderr",
     "output_type": "stream",
     "text": [
      "Epoch 17/40:: 470batch [00:13, 35.22batch/s, loss=0.032494]                               0.032494]\u001b[0m\n"
     ]
    },
    {
     "name": "stdout",
     "output_type": "stream",
     "text": [
      "Epoch 17 Train Loss = 0.0324, Accuracy = 99.12%, Test Accuracy = 98.97%\n"
     ]
    },
    {
     "name": "stderr",
     "output_type": "stream",
     "text": [
      "Epoch 18/40:: 470batch [00:13, 35.33batch/s, loss=0.030249]                               0.030249]\u001b[0m\n"
     ]
    },
    {
     "name": "stdout",
     "output_type": "stream",
     "text": [
      "Epoch 18 Train Loss = 0.0302, Accuracy = 99.16%, Test Accuracy = 99.14%\n"
     ]
    },
    {
     "name": "stderr",
     "output_type": "stream",
     "text": [
      "Epoch 19/40:: 470batch [00:13, 35.20batch/s, loss=0.028712]                               0.028712]\u001b[0m\n"
     ]
    },
    {
     "name": "stdout",
     "output_type": "stream",
     "text": [
      "Epoch 19 Train Loss = 0.0285, Accuracy = 99.22%, Test Accuracy = 99.06%\n"
     ]
    },
    {
     "name": "stderr",
     "output_type": "stream",
     "text": [
      "Epoch 20/40:: 470batch [00:13, 34.85batch/s, loss=0.027163]                               0.027163]\u001b[0m\n"
     ]
    },
    {
     "name": "stdout",
     "output_type": "stream",
     "text": [
      "Epoch 20 Train Loss = 0.0271, Accuracy = 99.31%, Test Accuracy = 99.08%\n"
     ]
    },
    {
     "name": "stderr",
     "output_type": "stream",
     "text": [
      "Epoch 21/40:: 470batch [00:13, 35.12batch/s, loss=0.026036]                               0.026036]\u001b[0m\n"
     ]
    },
    {
     "name": "stdout",
     "output_type": "stream",
     "text": [
      "Epoch 21 Train Loss = 0.0260, Accuracy = 99.30%, Test Accuracy = 99.15%\n"
     ]
    },
    {
     "name": "stderr",
     "output_type": "stream",
     "text": [
      "Epoch 22/40:: 470batch [00:12, 37.59batch/s, loss=0.025316]                               0.025316]\u001b[0m\n"
     ]
    },
    {
     "name": "stdout",
     "output_type": "stream",
     "text": [
      "Epoch 22 Train Loss = 0.0252, Accuracy = 99.35%, Test Accuracy = 99.16%\n"
     ]
    },
    {
     "name": "stderr",
     "output_type": "stream",
     "text": [
      "Epoch 23/40:: 470batch [00:12, 36.69batch/s, loss=0.024178]                               0.024178]\u001b[0m\n"
     ]
    },
    {
     "name": "stdout",
     "output_type": "stream",
     "text": [
      "Epoch 23 Train Loss = 0.0243, Accuracy = 99.41%, Test Accuracy = 99.09%\n"
     ]
    },
    {
     "name": "stderr",
     "output_type": "stream",
     "text": [
      "Epoch 24/40:: 470batch [00:12, 37.47batch/s, loss=0.024206]                               0.024206]\u001b[0m\n"
     ]
    },
    {
     "name": "stdout",
     "output_type": "stream",
     "text": [
      "Epoch 24 Train Loss = 0.0243, Accuracy = 99.39%, Test Accuracy = 99.18%\n"
     ]
    },
    {
     "name": "stderr",
     "output_type": "stream",
     "text": [
      "Epoch 25/40:: 470batch [00:12, 37.09batch/s, loss=0.025177]                               0.025177]\u001b[0m\n"
     ]
    },
    {
     "name": "stdout",
     "output_type": "stream",
     "text": [
      "Epoch 25 Train Loss = 0.0252, Accuracy = 99.40%, Test Accuracy = 98.98%\n"
     ]
    },
    {
     "name": "stderr",
     "output_type": "stream",
     "text": [
      "Epoch 26/40:: 470batch [00:12, 36.77batch/s, loss=0.025657]                               0.025657]\u001b[0m\n"
     ]
    },
    {
     "name": "stdout",
     "output_type": "stream",
     "text": [
      "Epoch 26 Train Loss = 0.0256, Accuracy = 99.36%, Test Accuracy = 99.07%\n"
     ]
    },
    {
     "name": "stderr",
     "output_type": "stream",
     "text": [
      "Epoch 27/40:: 470batch [00:12, 37.95batch/s, loss=0.025178]                               0.025178]\u001b[0m\n"
     ]
    },
    {
     "name": "stdout",
     "output_type": "stream",
     "text": [
      "Epoch 27 Train Loss = 0.0253, Accuracy = 99.39%, Test Accuracy = 99.07%\n"
     ]
    },
    {
     "name": "stderr",
     "output_type": "stream",
     "text": [
      "Epoch 28/40:: 470batch [00:12, 36.98batch/s, loss=0.026998]                               0.026998]\u001b[0m\n"
     ]
    },
    {
     "name": "stdout",
     "output_type": "stream",
     "text": [
      "Epoch 28 Train Loss = 0.0270, Accuracy = 99.36%, Test Accuracy = 99.14%\n"
     ]
    },
    {
     "name": "stderr",
     "output_type": "stream",
     "text": [
      "Epoch 29/40:: 470batch [00:12, 36.95batch/s, loss=0.026793]                               0.026793]\u001b[0m\n"
     ]
    },
    {
     "name": "stdout",
     "output_type": "stream",
     "text": [
      "Epoch 29 Train Loss = 0.0269, Accuracy = 99.39%, Test Accuracy = 99.08%\n"
     ]
    },
    {
     "name": "stderr",
     "output_type": "stream",
     "text": [
      "Epoch 30/40:: 470batch [00:12, 37.88batch/s, loss=0.028728]                               0.028728]\u001b[0m\n"
     ]
    },
    {
     "name": "stdout",
     "output_type": "stream",
     "text": [
      "Epoch 30 Train Loss = 0.0288, Accuracy = 99.40%, Test Accuracy = 99.03%\n"
     ]
    },
    {
     "name": "stderr",
     "output_type": "stream",
     "text": [
      "Epoch 31/40:: 470batch [00:12, 37.26batch/s, loss=0.030250]                               0.030250]\u001b[0m\n"
     ]
    },
    {
     "name": "stdout",
     "output_type": "stream",
     "text": [
      "Epoch 31 Train Loss = 0.0301, Accuracy = 99.37%, Test Accuracy = 99.02%\n"
     ]
    },
    {
     "name": "stderr",
     "output_type": "stream",
     "text": [
      "Epoch 32/40:: 470batch [00:12, 36.78batch/s, loss=0.028708]                               0.028708]\u001b[0m\n"
     ]
    },
    {
     "name": "stdout",
     "output_type": "stream",
     "text": [
      "Epoch 32 Train Loss = 0.0287, Accuracy = 99.40%, Test Accuracy = 99.05%\n"
     ]
    },
    {
     "name": "stderr",
     "output_type": "stream",
     "text": [
      "Epoch 33/40:: 470batch [00:12, 36.16batch/s, loss=0.027533]                               0.027533]\u001b[0m\n"
     ]
    },
    {
     "name": "stdout",
     "output_type": "stream",
     "text": [
      "Epoch 33 Train Loss = 0.0275, Accuracy = 99.41%, Test Accuracy = 99.17%\n"
     ]
    },
    {
     "name": "stderr",
     "output_type": "stream",
     "text": [
      "Epoch 34/40:: 470batch [00:12, 36.76batch/s, loss=0.025718]                               0.025718]\u001b[0m\n"
     ]
    },
    {
     "name": "stdout",
     "output_type": "stream",
     "text": [
      "Epoch 34 Train Loss = 0.0257, Accuracy = 99.47%, Test Accuracy = 99.15%\n"
     ]
    },
    {
     "name": "stderr",
     "output_type": "stream",
     "text": [
      "Epoch 35/40:: 470batch [00:12, 38.34batch/s, loss=0.025010]                               0.025010]\u001b[0m\n"
     ]
    },
    {
     "name": "stdout",
     "output_type": "stream",
     "text": [
      "Epoch 35 Train Loss = 0.0251, Accuracy = 99.46%, Test Accuracy = 99.13%\n"
     ]
    },
    {
     "name": "stderr",
     "output_type": "stream",
     "text": [
      "Epoch 36/40:: 470batch [00:12, 36.89batch/s, loss=0.021961]                               0.021961]\u001b[0m\n"
     ]
    },
    {
     "name": "stdout",
     "output_type": "stream",
     "text": [
      "Epoch 36 Train Loss = 0.0220, Accuracy = 99.45%, Test Accuracy = 99.06%\n"
     ]
    },
    {
     "name": "stderr",
     "output_type": "stream",
     "text": [
      "Epoch 37/40:: 470batch [00:12, 36.67batch/s, loss=0.019118]                               0.019118]\u001b[0m\n"
     ]
    },
    {
     "name": "stdout",
     "output_type": "stream",
     "text": [
      "Epoch 37 Train Loss = 0.0190, Accuracy = 99.52%, Test Accuracy = 99.16%\n"
     ]
    },
    {
     "name": "stderr",
     "output_type": "stream",
     "text": [
      "Epoch 38/40:: 470batch [00:12, 37.89batch/s, loss=0.016839]                               0.016839]\u001b[0m\n"
     ]
    },
    {
     "name": "stdout",
     "output_type": "stream",
     "text": [
      "Epoch 38 Train Loss = 0.0167, Accuracy = 99.60%, Test Accuracy = 99.10%\n"
     ]
    },
    {
     "name": "stderr",
     "output_type": "stream",
     "text": [
      "Epoch 39/40:: 470batch [00:12, 37.45batch/s, loss=0.015629]                               0.015629]\u001b[0m\n"
     ]
    },
    {
     "name": "stdout",
     "output_type": "stream",
     "text": [
      "Epoch 39 Train Loss = 0.0156, Accuracy = 99.64%, Test Accuracy = 99.16%\n"
     ]
    },
    {
     "name": "stderr",
     "output_type": "stream",
     "text": [
      "Epoch 40/40:: 470batch [00:12, 37.12batch/s, loss=0.014545]                               0.014545]\u001b[0m\n"
     ]
    },
    {
     "name": "stdout",
     "output_type": "stream",
     "text": [
      "Epoch 40 Train Loss = 0.0144, Accuracy = 99.71%, Test Accuracy = 99.24%\n",
      "0-3 end at 20250923-160135\n",
      "0 start at 20250923-160135\n"
     ]
    },
    {
     "name": "stderr",
     "output_type": "stream",
     "text": [
      "Epoch 1/40:: 470batch [00:12, 37.95batch/s, loss=0.690663]                                0.690663]\u001b[0m\n"
     ]
    },
    {
     "name": "stdout",
     "output_type": "stream",
     "text": [
      "Epoch 1 Train Loss = 0.6839, Accuracy = 86.26%, Test Accuracy = 94.44%\n"
     ]
    },
    {
     "name": "stderr",
     "output_type": "stream",
     "text": [
      "Epoch 2/40:: 470batch [00:12, 37.82batch/s, loss=0.234225]                                0.234225]\u001b[0m\n"
     ]
    },
    {
     "name": "stdout",
     "output_type": "stream",
     "text": [
      "Epoch 2 Train Loss = 0.2336, Accuracy = 94.98%, Test Accuracy = 96.22%\n"
     ]
    },
    {
     "name": "stderr",
     "output_type": "stream",
     "text": [
      "Epoch 3/40:: 470batch [00:12, 37.57batch/s, loss=0.166542]                                0.166542]\u001b[0m\n"
     ]
    },
    {
     "name": "stdout",
     "output_type": "stream",
     "text": [
      "Epoch 3 Train Loss = 0.1664, Accuracy = 96.26%, Test Accuracy = 97.02%\n"
     ]
    },
    {
     "name": "stderr",
     "output_type": "stream",
     "text": [
      "Epoch 4/40:: 470batch [00:12, 37.58batch/s, loss=0.131238]                                0.131238]\u001b[0m\n"
     ]
    },
    {
     "name": "stdout",
     "output_type": "stream",
     "text": [
      "Epoch 4 Train Loss = 0.1314, Accuracy = 96.91%, Test Accuracy = 97.50%\n"
     ]
    },
    {
     "name": "stderr",
     "output_type": "stream",
     "text": [
      "Epoch 5/40:: 470batch [00:12, 38.06batch/s, loss=0.108747]                                0.108747]\u001b[0m\n"
     ]
    },
    {
     "name": "stdout",
     "output_type": "stream",
     "text": [
      "Epoch 5 Train Loss = 0.1087, Accuracy = 97.37%, Test Accuracy = 97.77%\n"
     ]
    },
    {
     "name": "stderr",
     "output_type": "stream",
     "text": [
      "Epoch 6/40:: 470batch [00:12, 37.74batch/s, loss=0.088982]                                0.088982]\u001b[0m\n"
     ]
    },
    {
     "name": "stdout",
     "output_type": "stream",
     "text": [
      "Epoch 6 Train Loss = 0.0888, Accuracy = 97.77%, Test Accuracy = 98.08%\n"
     ]
    },
    {
     "name": "stderr",
     "output_type": "stream",
     "text": [
      "Epoch 7/40:: 470batch [00:12, 37.13batch/s, loss=0.077990]                                0.077990]\u001b[0m\n"
     ]
    },
    {
     "name": "stdout",
     "output_type": "stream",
     "text": [
      "Epoch 7 Train Loss = 0.0778, Accuracy = 98.10%, Test Accuracy = 98.22%\n"
     ]
    },
    {
     "name": "stderr",
     "output_type": "stream",
     "text": [
      "Epoch 8/40:: 470batch [00:12, 37.53batch/s, loss=0.069565]                                0.069565]\u001b[0m\n"
     ]
    },
    {
     "name": "stdout",
     "output_type": "stream",
     "text": [
      "Epoch 8 Train Loss = 0.0694, Accuracy = 98.28%, Test Accuracy = 98.29%\n"
     ]
    },
    {
     "name": "stderr",
     "output_type": "stream",
     "text": [
      "Epoch 9/40:: 470batch [00:12, 36.73batch/s, loss=0.063178]                                0.063178]\u001b[0m\n"
     ]
    },
    {
     "name": "stdout",
     "output_type": "stream",
     "text": [
      "Epoch 9 Train Loss = 0.0629, Accuracy = 98.46%, Test Accuracy = 98.51%\n"
     ]
    },
    {
     "name": "stderr",
     "output_type": "stream",
     "text": [
      "Epoch 10/40:: 470batch [00:12, 38.86batch/s, loss=0.057366]                               0.057366]\u001b[0m\n"
     ]
    },
    {
     "name": "stdout",
     "output_type": "stream",
     "text": [
      "Epoch 10 Train Loss = 0.0574, Accuracy = 98.56%, Test Accuracy = 98.55%\n"
     ]
    },
    {
     "name": "stderr",
     "output_type": "stream",
     "text": [
      "Epoch 11/40:: 470batch [00:12, 37.36batch/s, loss=0.052624]                               0.052624]\u001b[0m\n"
     ]
    },
    {
     "name": "stdout",
     "output_type": "stream",
     "text": [
      "Epoch 11 Train Loss = 0.0528, Accuracy = 98.68%, Test Accuracy = 98.70%\n"
     ]
    },
    {
     "name": "stderr",
     "output_type": "stream",
     "text": [
      "Epoch 12/40:: 470batch [00:12, 37.38batch/s, loss=0.048145]                               0.048145]\u001b[0m\n"
     ]
    },
    {
     "name": "stdout",
     "output_type": "stream",
     "text": [
      "Epoch 12 Train Loss = 0.0481, Accuracy = 98.77%, Test Accuracy = 98.72%\n"
     ]
    },
    {
     "name": "stderr",
     "output_type": "stream",
     "text": [
      "Epoch 13/40:: 470batch [00:12, 38.28batch/s, loss=0.044129]                               0.044129]\u001b[0m\n"
     ]
    },
    {
     "name": "stdout",
     "output_type": "stream",
     "text": [
      "Epoch 13 Train Loss = 0.0440, Accuracy = 98.86%, Test Accuracy = 98.92%\n"
     ]
    },
    {
     "name": "stderr",
     "output_type": "stream",
     "text": [
      "Epoch 14/40:: 470batch [00:12, 37.30batch/s, loss=0.040506]                               0.040506]\u001b[0m\n"
     ]
    },
    {
     "name": "stdout",
     "output_type": "stream",
     "text": [
      "Epoch 14 Train Loss = 0.0404, Accuracy = 98.95%, Test Accuracy = 98.93%\n"
     ]
    },
    {
     "name": "stderr",
     "output_type": "stream",
     "text": [
      "Epoch 15/40:: 470batch [00:12, 38.15batch/s, loss=0.036915]                               0.036915]\u001b[0m\n"
     ]
    },
    {
     "name": "stdout",
     "output_type": "stream",
     "text": [
      "Epoch 15 Train Loss = 0.0368, Accuracy = 99.06%, Test Accuracy = 98.91%\n"
     ]
    },
    {
     "name": "stderr",
     "output_type": "stream",
     "text": [
      "Epoch 16/40:: 470batch [00:12, 37.06batch/s, loss=0.034359]                               0.034359]\u001b[0m\n"
     ]
    },
    {
     "name": "stdout",
     "output_type": "stream",
     "text": [
      "Epoch 16 Train Loss = 0.0343, Accuracy = 99.10%, Test Accuracy = 98.96%\n"
     ]
    },
    {
     "name": "stderr",
     "output_type": "stream",
     "text": [
      "Epoch 17/40:: 470batch [00:12, 37.54batch/s, loss=0.032507]                               0.032507]\u001b[0m\n"
     ]
    },
    {
     "name": "stdout",
     "output_type": "stream",
     "text": [
      "Epoch 17 Train Loss = 0.0326, Accuracy = 99.16%, Test Accuracy = 98.91%\n"
     ]
    },
    {
     "name": "stderr",
     "output_type": "stream",
     "text": [
      "Epoch 18/40:: 470batch [00:12, 37.73batch/s, loss=0.030606]                               0.030606]\u001b[0m\n"
     ]
    },
    {
     "name": "stdout",
     "output_type": "stream",
     "text": [
      "Epoch 18 Train Loss = 0.0306, Accuracy = 99.23%, Test Accuracy = 98.99%\n"
     ]
    },
    {
     "name": "stderr",
     "output_type": "stream",
     "text": [
      "Epoch 19/40:: 470batch [00:12, 37.96batch/s, loss=0.027519]                               0.027519]\u001b[0m\n"
     ]
    },
    {
     "name": "stdout",
     "output_type": "stream",
     "text": [
      "Epoch 19 Train Loss = 0.0277, Accuracy = 99.31%, Test Accuracy = 99.05%\n"
     ]
    },
    {
     "name": "stderr",
     "output_type": "stream",
     "text": [
      "Epoch 20/40:: 470batch [00:12, 37.77batch/s, loss=0.025627]                               0.025627]\u001b[0m\n"
     ]
    },
    {
     "name": "stdout",
     "output_type": "stream",
     "text": [
      "Epoch 20 Train Loss = 0.0257, Accuracy = 99.36%, Test Accuracy = 99.16%\n"
     ]
    },
    {
     "name": "stderr",
     "output_type": "stream",
     "text": [
      "Epoch 21/40:: 470batch [00:12, 37.86batch/s, loss=0.023957]                               0.023957]\u001b[0m\n"
     ]
    },
    {
     "name": "stdout",
     "output_type": "stream",
     "text": [
      "Epoch 21 Train Loss = 0.0238, Accuracy = 99.42%, Test Accuracy = 99.15%\n"
     ]
    },
    {
     "name": "stderr",
     "output_type": "stream",
     "text": [
      "Epoch 22/40:: 470batch [00:12, 36.52batch/s, loss=0.022546]                               0.022546]\u001b[0m\n"
     ]
    },
    {
     "name": "stdout",
     "output_type": "stream",
     "text": [
      "Epoch 22 Train Loss = 0.0225, Accuracy = 99.44%, Test Accuracy = 99.09%\n"
     ]
    },
    {
     "name": "stderr",
     "output_type": "stream",
     "text": [
      "Epoch 23/40:: 470batch [00:12, 36.17batch/s, loss=0.021077]                               0.021077]\u001b[0m\n"
     ]
    },
    {
     "name": "stdout",
     "output_type": "stream",
     "text": [
      "Epoch 23 Train Loss = 0.0210, Accuracy = 99.51%, Test Accuracy = 99.17%\n"
     ]
    },
    {
     "name": "stderr",
     "output_type": "stream",
     "text": [
      "Epoch 24/40:: 470batch [00:12, 37.23batch/s, loss=0.019041]                               0.019041]\u001b[0m\n"
     ]
    },
    {
     "name": "stdout",
     "output_type": "stream",
     "text": [
      "Epoch 24 Train Loss = 0.0191, Accuracy = 99.58%, Test Accuracy = 99.15%\n"
     ]
    },
    {
     "name": "stderr",
     "output_type": "stream",
     "text": [
      "Epoch 25/40:: 470batch [00:12, 37.41batch/s, loss=0.017764]                               0.017764]\u001b[0m\n"
     ]
    },
    {
     "name": "stdout",
     "output_type": "stream",
     "text": [
      "Epoch 25 Train Loss = 0.0178, Accuracy = 99.61%, Test Accuracy = 99.19%\n"
     ]
    },
    {
     "name": "stderr",
     "output_type": "stream",
     "text": [
      "Epoch 26/40:: 470batch [00:12, 36.84batch/s, loss=0.016581]                               0.016581]\u001b[0m\n"
     ]
    },
    {
     "name": "stdout",
     "output_type": "stream",
     "text": [
      "Epoch 26 Train Loss = 0.0166, Accuracy = 99.65%, Test Accuracy = 99.22%\n"
     ]
    },
    {
     "name": "stderr",
     "output_type": "stream",
     "text": [
      "Epoch 27/40:: 470batch [00:12, 37.21batch/s, loss=0.015653]                               0.015653]\u001b[0m\n"
     ]
    },
    {
     "name": "stdout",
     "output_type": "stream",
     "text": [
      "Epoch 27 Train Loss = 0.0157, Accuracy = 99.69%, Test Accuracy = 99.20%\n"
     ]
    },
    {
     "name": "stderr",
     "output_type": "stream",
     "text": [
      "Epoch 28/40:: 470batch [00:12, 36.87batch/s, loss=0.014924]                               0.014924]\u001b[0m\n"
     ]
    },
    {
     "name": "stdout",
     "output_type": "stream",
     "text": [
      "Epoch 28 Train Loss = 0.0149, Accuracy = 99.72%, Test Accuracy = 99.16%\n"
     ]
    },
    {
     "name": "stderr",
     "output_type": "stream",
     "text": [
      "Epoch 29/40:: 470batch [00:12, 36.70batch/s, loss=0.014771]                               0.014771]\u001b[0m\n"
     ]
    },
    {
     "name": "stdout",
     "output_type": "stream",
     "text": [
      "Epoch 29 Train Loss = 0.0147, Accuracy = 99.73%, Test Accuracy = 99.14%\n"
     ]
    },
    {
     "name": "stderr",
     "output_type": "stream",
     "text": [
      "Epoch 30/40:: 470batch [00:12, 36.26batch/s, loss=0.014327]                               0.014327]\u001b[0m\n"
     ]
    },
    {
     "name": "stdout",
     "output_type": "stream",
     "text": [
      "Epoch 30 Train Loss = 0.0144, Accuracy = 99.75%, Test Accuracy = 99.19%\n"
     ]
    },
    {
     "name": "stderr",
     "output_type": "stream",
     "text": [
      "Epoch 31/40:: 470batch [00:12, 37.22batch/s, loss=0.013627]                               0.013627]\u001b[0m\n"
     ]
    },
    {
     "name": "stdout",
     "output_type": "stream",
     "text": [
      "Epoch 31 Train Loss = 0.0138, Accuracy = 99.76%, Test Accuracy = 99.25%\n"
     ]
    },
    {
     "name": "stderr",
     "output_type": "stream",
     "text": [
      "Epoch 32/40:: 470batch [00:12, 38.48batch/s, loss=0.014012]                               0.014012]\u001b[0m\n"
     ]
    },
    {
     "name": "stdout",
     "output_type": "stream",
     "text": [
      "Epoch 32 Train Loss = 0.0140, Accuracy = 99.74%, Test Accuracy = 99.23%\n"
     ]
    },
    {
     "name": "stderr",
     "output_type": "stream",
     "text": [
      "Epoch 33/40:: 470batch [00:12, 37.74batch/s, loss=0.015077]                               0.015077]\u001b[0m\n"
     ]
    },
    {
     "name": "stdout",
     "output_type": "stream",
     "text": [
      "Epoch 33 Train Loss = 0.0152, Accuracy = 99.72%, Test Accuracy = 99.18%\n"
     ]
    },
    {
     "name": "stderr",
     "output_type": "stream",
     "text": [
      "Epoch 34/40:: 470batch [00:12, 38.34batch/s, loss=0.023889]                               0.023889]\u001b[0m\n"
     ]
    },
    {
     "name": "stdout",
     "output_type": "stream",
     "text": [
      "Epoch 34 Train Loss = 0.0241, Accuracy = 99.62%, Test Accuracy = 98.88%\n"
     ]
    },
    {
     "name": "stderr",
     "output_type": "stream",
     "text": [
      "Epoch 35/40:: 470batch [00:12, 38.04batch/s, loss=0.029610]                               0.029610]\u001b[0m\n"
     ]
    },
    {
     "name": "stdout",
     "output_type": "stream",
     "text": [
      "Epoch 35 Train Loss = 0.0297, Accuracy = 99.48%, Test Accuracy = 99.04%\n"
     ]
    },
    {
     "name": "stderr",
     "output_type": "stream",
     "text": [
      "Epoch 36/40:: 470batch [00:12, 38.13batch/s, loss=0.027968]                               0.027968]\u001b[0m\n"
     ]
    },
    {
     "name": "stdout",
     "output_type": "stream",
     "text": [
      "Epoch 36 Train Loss = 0.0280, Accuracy = 99.47%, Test Accuracy = 99.04%\n"
     ]
    },
    {
     "name": "stderr",
     "output_type": "stream",
     "text": [
      "Epoch 37/40:: 470batch [00:12, 37.83batch/s, loss=0.025187]                               0.025187]\u001b[0m\n"
     ]
    },
    {
     "name": "stdout",
     "output_type": "stream",
     "text": [
      "Epoch 37 Train Loss = 0.0253, Accuracy = 99.53%, Test Accuracy = 99.17%\n"
     ]
    },
    {
     "name": "stderr",
     "output_type": "stream",
     "text": [
      "Epoch 38/40:: 470batch [00:12, 37.21batch/s, loss=0.023923]                               0.023923]\u001b[0m\n"
     ]
    },
    {
     "name": "stdout",
     "output_type": "stream",
     "text": [
      "Epoch 38 Train Loss = 0.0238, Accuracy = 99.58%, Test Accuracy = 99.16%\n"
     ]
    },
    {
     "name": "stderr",
     "output_type": "stream",
     "text": [
      "Epoch 39/40:: 470batch [00:12, 36.95batch/s, loss=0.022459]                               0.022459]\u001b[0m\n"
     ]
    },
    {
     "name": "stdout",
     "output_type": "stream",
     "text": [
      "Epoch 39 Train Loss = 0.0226, Accuracy = 99.61%, Test Accuracy = 99.23%\n"
     ]
    },
    {
     "name": "stderr",
     "output_type": "stream",
     "text": [
      "Epoch 40/40:: 470batch [00:12, 37.22batch/s, loss=0.021374]                               0.021374]\u001b[0m\n"
     ]
    },
    {
     "name": "stdout",
     "output_type": "stream",
     "text": [
      "Epoch 40 Train Loss = 0.0214, Accuracy = 99.65%, Test Accuracy = 99.15%\n",
      "0-4 end at 20250923-161026\n"
     ]
    }
   ],
   "source": [
    "\n",
    "num_epochs = 40\n",
    "multest = 5 #5\n",
    "fbsc_range = [0] # [0.01, 0.1, 1]\n",
    "res = np.zeros((len(fbsc_range),multest,3,num_epochs))\n",
    "for ifbsc in range(len(fbsc_range)):\n",
    "# for ilr, lr in enumerate([2.5e-4]):\n",
    "#     for iwd, wd in enumerate( [2.5e-4]):\n",
    "    for imul in range(multest):\n",
    "        current_time_tmp = time.strftime(\"%Y%m%d-%H%M%S\", time.localtime())\n",
    "        print(f\"{ifbsc} start at {current_time_tmp}\")\n",
    "\n",
    "        model = aEP_CNN(fbsc=0.01, nudge=0.25, deviden=False, T=20, K=10, chl=[32,64])\n",
    "        \n",
    "        \n",
    "        # optimizer = torch.optim.SGD([\n",
    "        #     {'params': model.conv1.parameters(), 'lr': 0.05, 'weight_decay': 1e-6},  # conv1 \n",
    "        #     {'params': model.conv2.parameters(), 'lr': 0.15, 'weight_decay': 1e-6},  # conv2 \n",
    "        #     {'params': model.fc1.parameters(), 'lr': 0.5, 'weight_decay': 1e-6},  # \n",
    "        # ])\n",
    "        optimizer = torch.optim.AdamW(model.parameters(), lr=2e-4, weight_decay=1e-6) # 2.5 ~ 1e-4 0.5e-4\n",
    "        \n",
    "        for epoch in range(num_epochs):\n",
    "            total_loss = 0\n",
    "            correct = 0\n",
    "            total = 0\n",
    "\n",
    "            random.shuffle(train_loader_gpu)\n",
    "            with tqdm(total=len(train_loader_gpu), desc=f\"Epoch {epoch + 1}/{num_epochs}:\", unit='batch', ncols=90, mininterval=1, colour='blue') as pbar:\n",
    "                for batch_idx, (data, target) in enumerate(train_loader_gpu):\n",
    "                    optimizer.zero_grad()\n",
    "                    # model.bw_symm()\n",
    "                    preds, loss = model.ep_step(data, target)# eta=[0.015, 0.035, 0.15]\n",
    "                    optimizer.step()\n",
    "                    total_loss += loss\n",
    "\n",
    "                    if batch_idx % 10 == 0: \n",
    "                        pbar.set_postfix({'loss': f'{total_loss/(batch_idx+1):.6f}'})  \n",
    "                        pbar.update(10)\n",
    "\n",
    "                    correct += (preds == target).sum().item()\n",
    "                    total += target.size(0)\n",
    "                                    \n",
    "            # scheduler.step()\n",
    "\n",
    "            acc = correct / total\n",
    "            avg_loss = total_loss / len(train_loader_gpu)\n",
    "            res[ifbsc,imul,0,epoch]=(avg_loss)\n",
    "            res[ifbsc,imul,1,epoch]=(acc)\n",
    "\n",
    "            # Test\n",
    "            correct = 0\n",
    "            total = 0\n",
    "            with torch.no_grad():\n",
    "                for data, target in test_loader_gpu:\n",
    "                    preds = model.predict(data)\n",
    "                    correct += (preds == target).sum().item()\n",
    "                    total += target.size(0)\n",
    "            test_acc = correct / total\n",
    "            res[ifbsc,imul,2,epoch]=(test_acc)\n",
    "\n",
    "            print(f\"Epoch {epoch+1} Train Loss = {avg_loss:.4f}, Accuracy = {acc*100:.2f}%, Test Accuracy = {test_acc*100:.2f}%\")\n",
    "        \n",
    "        current_time_tmp = time.strftime(\"%Y%m%d-%H%M%S\", time.localtime())\n",
    "        print(f\"{ifbsc}-{imul} end at {current_time_tmp}\")\n",
    "        \n",
    "res_aEP = res\n",
    "current_time = time.strftime(\"%Y%m%d-%H%M%S\", time.localtime())\n",
    "if fsave: \n",
    "    save_dict = {\n",
    "        \"res\": res\n",
    "}\n",
    "np.savez_compressed(res_path / f\"res_aEP\",  **save_dict)\n",
    "     "
   ]
  },
  {
   "cell_type": "code",
   "execution_count": 7,
   "id": "d424a189",
   "metadata": {},
   "outputs": [
    {
     "name": "stdout",
     "output_type": "stream",
     "text": [
      "\t_train: 99.78%+-0.10% (99.71% 99.94%)\t test: 99.27%+-0.07% (99.19% 99.38%)\n",
      "\n",
      "Current Time: 20250923-161026\n"
     ]
    },
    {
     "data": {
      "image/png": "[encoded data removed]",
      "text/plain": [
       "<Figure size 500x400 with 1 Axes>"
      ]
     },
     "metadata": {},
     "output_type": "display_data"
    }
   ],
   "source": [
    "\n",
    "for ifbsc in range(len(fbsc_range)):\n",
    "    testacctt = np.max(res[ifbsc,:,2,:], axis= -1)\n",
    "\n",
    "    trainacctt = np.max(res[ifbsc,:,1,:], axis= -1)\n",
    "\n",
    "    print(f'\\t_'\n",
    "        f\"train: {np.mean(trainacctt) * 100:.2f}%+-{np.std(trainacctt, ddof=1)*100:.2f}% ({np.min(trainacctt) * 100:.2f}% {np.max(trainacctt) * 100:.2f}%)\"\n",
    "        f\"\\t test: {np.mean(testacctt) * 100:.2f}%+-{np.std(testacctt, ddof=1)*100:.2f}% ({np.min(testacctt) * 100:.2f}% {np.max(testacctt) * 100:.2f}%)\\n\")\n",
    "\n",
    "for ifbsc in range(len(fbsc_range)):\n",
    "    plt.figure(figsize=(5, 4))\n",
    "    tt = res[ifbsc,:,1,:]\n",
    "    plt.plot(np.arange(len(np.mean(tt, axis=0))), np.mean(tt, axis=0), label=f'training')  #  plot\n",
    "    plt.fill_between(np.arange(len(np.mean(tt, axis=0))), np.min(tt, axis=0), np.max(tt, axis=0), alpha=0.25)\n",
    "    tt = res[ifbsc,:,2,:]\n",
    "    plt.plot(np.arange(len(np.mean(tt, axis=0))), np.mean(tt, axis=0), label=f'testing')  #  plot\n",
    "    plt.fill_between(np.arange(len(np.mean(tt, axis=0))), np.min(tt, axis=0), np.max(tt, axis=0), alpha=0.25)\n",
    "    if np.min(tt)<0.8:\n",
    "        plt.ylim([0.0, 1.0])\n",
    "        plt.yticks(np.arange(0.0,1.01,0.25))\n",
    "    else:\n",
    "        plt.ylim([0.9, 1.0])\n",
    "        plt.yticks(np.arange(0.9,1.01,0.02))\n",
    "    plt.grid()\n",
    "    plt.title(r'$\\beta_i$'+f\"={fbsc_range[ifbsc]}\")\n",
    "    plt.xlabel(f'Epoch')\n",
    "    plt.ylabel('Accuracy')\n",
    "    plt.legend(frameon=False, fancybox=False, shadow=False)\n",
    "\n",
    "    current_time = time.strftime(\"%Y%m%d-%H%M%S\", time.localtime())\n",
    "    print(f'Current Time: {current_time}')\n",
    "    plt.savefig(res_path /f\"aEP_cnn_MNIST_maxacc{np.max(tt)}-fbsc{fbsc_range[ifbsc]}-{current_time}.svg\", format=\"svg\")\n"
   ]
  },
  {
   "cell_type": "markdown",
   "id": "027187f8",
   "metadata": {},
   "source": [
    "### EP conv without weak feedback"
   ]
  },
  {
   "cell_type": "code",
   "execution_count": 8,
   "id": "54eea047",
   "metadata": {},
   "outputs": [
    {
     "name": "stdout",
     "output_type": "stream",
     "text": [
      "0 start at 20250923-161027\n"
     ]
    },
    {
     "name": "stderr",
     "output_type": "stream",
     "text": [
      "Epoch 1/40:: 470batch [01:16,  6.12batch/s, loss=1.359240]                                1.359240]\u001b[0m\n"
     ]
    },
    {
     "name": "stdout",
     "output_type": "stream",
     "text": [
      "Epoch 1 Train Loss = 1.3474, Accuracy = 76.27%, Test Accuracy = 88.17%\n"
     ]
    },
    {
     "name": "stderr",
     "output_type": "stream",
     "text": [
      "Epoch 2/40:: 470batch [01:18,  6.03batch/s, loss=0.513059]                                0.513059]\u001b[0m\n"
     ]
    },
    {
     "name": "stdout",
     "output_type": "stream",
     "text": [
      "Epoch 2 Train Loss = 0.5129, Accuracy = 88.98%, Test Accuracy = 89.60%\n"
     ]
    },
    {
     "name": "stderr",
     "output_type": "stream",
     "text": [
      "Epoch 3/40:: 470batch [01:16,  6.18batch/s, loss=0.422064]                                0.422064]\u001b[0m\n"
     ]
    },
    {
     "name": "stdout",
     "output_type": "stream",
     "text": [
      "Epoch 3 Train Loss = 0.4225, Accuracy = 90.11%, Test Accuracy = 90.80%\n"
     ]
    },
    {
     "name": "stderr",
     "output_type": "stream",
     "text": [
      "Epoch 4/40:: 470batch [01:15,  6.26batch/s, loss=0.465506]                                0.465506]\u001b[0m\n"
     ]
    },
    {
     "name": "stdout",
     "output_type": "stream",
     "text": [
      "Epoch 4 Train Loss = 0.4669, Accuracy = 89.39%, Test Accuracy = 90.03%\n"
     ]
    },
    {
     "name": "stderr",
     "output_type": "stream",
     "text": [
      "Epoch 5/40:: 470batch [01:16,  6.18batch/s, loss=0.483961]                                0.483961]\u001b[0m\n"
     ]
    },
    {
     "name": "stdout",
     "output_type": "stream",
     "text": [
      "Epoch 5 Train Loss = 0.4840, Accuracy = 89.34%, Test Accuracy = 90.92%\n"
     ]
    },
    {
     "name": "stderr",
     "output_type": "stream",
     "text": [
      "Epoch 6/40:: 470batch [01:14,  6.33batch/s, loss=0.415523]                                0.415523]\u001b[0m\n"
     ]
    },
    {
     "name": "stdout",
     "output_type": "stream",
     "text": [
      "Epoch 6 Train Loss = 0.4146, Accuracy = 90.25%, Test Accuracy = 91.56%\n"
     ]
    },
    {
     "name": "stderr",
     "output_type": "stream",
     "text": [
      "Epoch 7/40:: 470batch [01:14,  6.30batch/s, loss=0.388139]                                0.388139]\u001b[0m\n"
     ]
    },
    {
     "name": "stdout",
     "output_type": "stream",
     "text": [
      "Epoch 7 Train Loss = 0.3885, Accuracy = 90.90%, Test Accuracy = 90.61%\n"
     ]
    },
    {
     "name": "stderr",
     "output_type": "stream",
     "text": [
      "Epoch 8/40:: 470batch [01:16,  6.14batch/s, loss=0.428776]                                0.428776]\u001b[0m\n"
     ]
    },
    {
     "name": "stdout",
     "output_type": "stream",
     "text": [
      "Epoch 8 Train Loss = 0.4290, Accuracy = 89.19%, Test Accuracy = 90.12%\n"
     ]
    },
    {
     "name": "stderr",
     "output_type": "stream",
     "text": [
      "Epoch 9/40:: 470batch [01:16,  6.15batch/s, loss=0.404991]                                0.404991]\u001b[0m\n"
     ]
    },
    {
     "name": "stdout",
     "output_type": "stream",
     "text": [
      "Epoch 9 Train Loss = 0.4049, Accuracy = 90.05%, Test Accuracy = 91.81%\n"
     ]
    },
    {
     "name": "stderr",
     "output_type": "stream",
     "text": [
      "Epoch 10/40:: 470batch [01:16,  6.11batch/s, loss=0.434293]                               0.434293]\u001b[0m\n"
     ]
    },
    {
     "name": "stdout",
     "output_type": "stream",
     "text": [
      "Epoch 10 Train Loss = 0.4332, Accuracy = 90.11%, Test Accuracy = 91.25%\n"
     ]
    },
    {
     "name": "stderr",
     "output_type": "stream",
     "text": [
      "Epoch 11/40:: 470batch [01:16,  6.15batch/s, loss=0.353360]                               0.353360]\u001b[0m\n"
     ]
    },
    {
     "name": "stdout",
     "output_type": "stream",
     "text": [
      "Epoch 11 Train Loss = 0.3529, Accuracy = 91.46%, Test Accuracy = 93.21%\n"
     ]
    },
    {
     "name": "stderr",
     "output_type": "stream",
     "text": [
      "Epoch 12/40:: 470batch [01:35,  4.90batch/s, loss=0.310045]                               0.310045]\u001b[0m\n"
     ]
    },
    {
     "name": "stdout",
     "output_type": "stream",
     "text": [
      "Epoch 12 Train Loss = 0.3095, Accuracy = 92.04%, Test Accuracy = 93.24%\n"
     ]
    },
    {
     "name": "stderr",
     "output_type": "stream",
     "text": [
      "Epoch 13/40:: 470batch [01:38,  4.75batch/s, loss=0.255336]                               0.255336]\u001b[0m\n"
     ]
    },
    {
     "name": "stdout",
     "output_type": "stream",
     "text": [
      "Epoch 13 Train Loss = 0.2547, Accuracy = 93.02%, Test Accuracy = 94.26%\n"
     ]
    },
    {
     "name": "stderr",
     "output_type": "stream",
     "text": [
      "Epoch 14/40:: 470batch [01:40,  4.68batch/s, loss=0.281694]                               0.281694]\u001b[0m\n"
     ]
    },
    {
     "name": "stdout",
     "output_type": "stream",
     "text": [
      "Epoch 14 Train Loss = 0.2841, Accuracy = 92.55%, Test Accuracy = 92.06%\n"
     ]
    },
    {
     "name": "stderr",
     "output_type": "stream",
     "text": [
      "Epoch 15/40:: 470batch [01:37,  4.83batch/s, loss=0.332372]                               0.332372]\u001b[0m\n"
     ]
    },
    {
     "name": "stdout",
     "output_type": "stream",
     "text": [
      "Epoch 15 Train Loss = 0.3311, Accuracy = 92.22%, Test Accuracy = 93.68%\n"
     ]
    },
    {
     "name": "stderr",
     "output_type": "stream",
     "text": [
      "Epoch 16/40:: 470batch [01:29,  5.27batch/s, loss=0.268725]                               0.268725]\u001b[0m\n"
     ]
    },
    {
     "name": "stdout",
     "output_type": "stream",
     "text": [
      "Epoch 16 Train Loss = 0.2684, Accuracy = 93.17%, Test Accuracy = 93.77%\n"
     ]
    },
    {
     "name": "stderr",
     "output_type": "stream",
     "text": [
      "Epoch 17/40:: 470batch [01:14,  6.31batch/s, loss=0.273655]                               0.273655]\u001b[0m\n"
     ]
    },
    {
     "name": "stdout",
     "output_type": "stream",
     "text": [
      "Epoch 17 Train Loss = 0.2756, Accuracy = 92.94%, Test Accuracy = 92.45%\n"
     ]
    },
    {
     "name": "stderr",
     "output_type": "stream",
     "text": [
      "Epoch 18/40:: 470batch [01:15,  6.26batch/s, loss=0.287777]                               0.287777]\u001b[0m\n"
     ]
    },
    {
     "name": "stdout",
     "output_type": "stream",
     "text": [
      "Epoch 18 Train Loss = 0.2870, Accuracy = 92.75%, Test Accuracy = 93.31%\n"
     ]
    },
    {
     "name": "stderr",
     "output_type": "stream",
     "text": [
      "Epoch 19/40:: 470batch [01:16,  6.15batch/s, loss=0.256814]                               0.256814]\u001b[0m\n"
     ]
    },
    {
     "name": "stdout",
     "output_type": "stream",
     "text": [
      "Epoch 19 Train Loss = 0.2557, Accuracy = 93.32%, Test Accuracy = 94.66%\n"
     ]
    },
    {
     "name": "stderr",
     "output_type": "stream",
     "text": [
      "Epoch 20/40:: 470batch [01:17,  6.04batch/s, loss=0.234779]                               0.234779]\u001b[0m\n"
     ]
    },
    {
     "name": "stdout",
     "output_type": "stream",
     "text": [
      "Epoch 20 Train Loss = 0.2349, Accuracy = 93.70%, Test Accuracy = 93.15%\n"
     ]
    },
    {
     "name": "stderr",
     "output_type": "stream",
     "text": [
      "Epoch 21/40:: 470batch [01:17,  6.08batch/s, loss=0.564407]                               0.564407]\u001b[0m\n"
     ]
    },
    {
     "name": "stdout",
     "output_type": "stream",
     "text": [
      "Epoch 21 Train Loss = 0.5631, Accuracy = 88.28%, Test Accuracy = 91.11%\n"
     ]
    },
    {
     "name": "stderr",
     "output_type": "stream",
     "text": [
      "Epoch 22/40:: 470batch [01:14,  6.29batch/s, loss=0.415212]                               0.415212]\u001b[0m\n"
     ]
    },
    {
     "name": "stdout",
     "output_type": "stream",
     "text": [
      "Epoch 22 Train Loss = 0.4146, Accuracy = 90.34%, Test Accuracy = 91.62%\n"
     ]
    },
    {
     "name": "stderr",
     "output_type": "stream",
     "text": [
      "Epoch 23/40:: 470batch [01:15,  6.24batch/s, loss=0.330951]                               0.330951]\u001b[0m\n"
     ]
    },
    {
     "name": "stdout",
     "output_type": "stream",
     "text": [
      "Epoch 23 Train Loss = 0.3290, Accuracy = 91.25%, Test Accuracy = 93.76%\n"
     ]
    },
    {
     "name": "stderr",
     "output_type": "stream",
     "text": [
      "Epoch 24/40:: 470batch [01:14,  6.27batch/s, loss=0.226858]                               0.226858]\u001b[0m\n"
     ]
    },
    {
     "name": "stdout",
     "output_type": "stream",
     "text": [
      "Epoch 24 Train Loss = 0.2264, Accuracy = 93.62%, Test Accuracy = 94.20%\n"
     ]
    },
    {
     "name": "stderr",
     "output_type": "stream",
     "text": [
      "Epoch 25/40:: 470batch [01:14,  6.30batch/s, loss=0.207301]                               0.207301]\u001b[0m\n"
     ]
    },
    {
     "name": "stdout",
     "output_type": "stream",
     "text": [
      "Epoch 25 Train Loss = 0.2073, Accuracy = 94.07%, Test Accuracy = 95.11%\n"
     ]
    },
    {
     "name": "stderr",
     "output_type": "stream",
     "text": [
      "Epoch 26/40:: 470batch [01:14,  6.31batch/s, loss=0.197985]                               0.197985]\u001b[0m\n"
     ]
    },
    {
     "name": "stdout",
     "output_type": "stream",
     "text": [
      "Epoch 26 Train Loss = 0.1978, Accuracy = 94.27%, Test Accuracy = 94.47%\n"
     ]
    },
    {
     "name": "stderr",
     "output_type": "stream",
     "text": [
      "Epoch 27/40:: 470batch [01:15,  6.26batch/s, loss=0.204303]                               0.204303]\u001b[0m\n"
     ]
    },
    {
     "name": "stdout",
     "output_type": "stream",
     "text": [
      "Epoch 27 Train Loss = 0.2045, Accuracy = 94.10%, Test Accuracy = 93.77%\n"
     ]
    },
    {
     "name": "stderr",
     "output_type": "stream",
     "text": [
      "Epoch 28/40:: 470batch [01:14,  6.33batch/s, loss=0.366111]                               0.366111]\u001b[0m\n"
     ]
    },
    {
     "name": "stdout",
     "output_type": "stream",
     "text": [
      "Epoch 28 Train Loss = 0.3691, Accuracy = 90.72%, Test Accuracy = 88.95%\n"
     ]
    },
    {
     "name": "stderr",
     "output_type": "stream",
     "text": [
      "Epoch 29/40:: 470batch [01:15,  6.25batch/s, loss=0.450063]                               0.450063]\u001b[0m\n"
     ]
    },
    {
     "name": "stdout",
     "output_type": "stream",
     "text": [
      "Epoch 29 Train Loss = 0.4500, Accuracy = 88.53%, Test Accuracy = 89.53%\n"
     ]
    },
    {
     "name": "stderr",
     "output_type": "stream",
     "text": [
      "Epoch 30/40:: 470batch [01:13,  6.35batch/s, loss=0.311627]                               0.311627]\u001b[0m\n"
     ]
    },
    {
     "name": "stdout",
     "output_type": "stream",
     "text": [
      "Epoch 30 Train Loss = 0.3111, Accuracy = 91.10%, Test Accuracy = 91.50%\n"
     ]
    },
    {
     "name": "stderr",
     "output_type": "stream",
     "text": [
      "Epoch 31/40:: 470batch [01:14,  6.33batch/s, loss=0.280052]                               0.280052]\u001b[0m\n"
     ]
    },
    {
     "name": "stdout",
     "output_type": "stream",
     "text": [
      "Epoch 31 Train Loss = 0.2791, Accuracy = 91.55%, Test Accuracy = 93.79%\n"
     ]
    },
    {
     "name": "stderr",
     "output_type": "stream",
     "text": [
      "Epoch 32/40:: 470batch [01:14,  6.31batch/s, loss=0.201501]                               0.201501]\u001b[0m\n"
     ]
    },
    {
     "name": "stdout",
     "output_type": "stream",
     "text": [
      "Epoch 32 Train Loss = 0.2014, Accuracy = 94.34%, Test Accuracy = 95.38%\n"
     ]
    },
    {
     "name": "stderr",
     "output_type": "stream",
     "text": [
      "Epoch 33/40:: 470batch [01:15,  6.25batch/s, loss=0.195959]                               0.195959]\u001b[0m\n"
     ]
    },
    {
     "name": "stdout",
     "output_type": "stream",
     "text": [
      "Epoch 33 Train Loss = 0.1953, Accuracy = 94.44%, Test Accuracy = 95.28%\n"
     ]
    },
    {
     "name": "stderr",
     "output_type": "stream",
     "text": [
      "Epoch 34/40:: 470batch [01:15,  6.20batch/s, loss=0.188287]                               0.188287]\u001b[0m\n"
     ]
    },
    {
     "name": "stdout",
     "output_type": "stream",
     "text": [
      "Epoch 34 Train Loss = 0.1886, Accuracy = 94.53%, Test Accuracy = 95.10%\n"
     ]
    },
    {
     "name": "stderr",
     "output_type": "stream",
     "text": [
      "Epoch 35/40:: 470batch [01:16,  6.11batch/s, loss=0.171614]                               0.171614]\u001b[0m\n"
     ]
    },
    {
     "name": "stdout",
     "output_type": "stream",
     "text": [
      "Epoch 35 Train Loss = 0.1714, Accuracy = 95.02%, Test Accuracy = 95.17%\n"
     ]
    },
    {
     "name": "stderr",
     "output_type": "stream",
     "text": [
      "Epoch 36/40:: 470batch [01:16,  6.12batch/s, loss=0.267745]                               0.267745]\u001b[0m\n"
     ]
    },
    {
     "name": "stdout",
     "output_type": "stream",
     "text": [
      "Epoch 36 Train Loss = 0.2673, Accuracy = 92.59%, Test Accuracy = 93.93%\n"
     ]
    },
    {
     "name": "stderr",
     "output_type": "stream",
     "text": [
      "Epoch 37/40:: 470batch [01:14,  6.28batch/s, loss=0.192426]                               0.192426]\u001b[0m\n"
     ]
    },
    {
     "name": "stdout",
     "output_type": "stream",
     "text": [
      "Epoch 37 Train Loss = 0.1931, Accuracy = 94.34%, Test Accuracy = 94.90%\n"
     ]
    },
    {
     "name": "stderr",
     "output_type": "stream",
     "text": [
      "Epoch 38/40:: 470batch [01:14,  6.32batch/s, loss=0.233124]                               0.233124]\u001b[0m\n"
     ]
    },
    {
     "name": "stdout",
     "output_type": "stream",
     "text": [
      "Epoch 38 Train Loss = 0.2331, Accuracy = 93.36%, Test Accuracy = 93.59%\n"
     ]
    },
    {
     "name": "stderr",
     "output_type": "stream",
     "text": [
      "Epoch 39/40:: 470batch [01:14,  6.28batch/s, loss=0.229718]                               0.229718]\u001b[0m\n"
     ]
    },
    {
     "name": "stdout",
     "output_type": "stream",
     "text": [
      "Epoch 39 Train Loss = 0.2297, Accuracy = 93.35%, Test Accuracy = 93.62%\n"
     ]
    },
    {
     "name": "stderr",
     "output_type": "stream",
     "text": [
      "Epoch 40/40:: 470batch [01:17,  6.09batch/s, loss=0.247342]                               0.247342]\u001b[0m\n"
     ]
    },
    {
     "name": "stdout",
     "output_type": "stream",
     "text": [
      "Epoch 40 Train Loss = 0.2471, Accuracy = 92.78%, Test Accuracy = 93.43%\n",
      "0-0 end at 20250923-170722\n"
     ]
    }
   ],
   "source": [
    "\n",
    "num_epochs = 40\n",
    "multest = 1 #5\n",
    "fbsc_range = [0] # 0.01, 0.1, 1\n",
    "res = np.zeros((len(fbsc_range),multest,3,num_epochs))\n",
    "for ifbsc in range(len(fbsc_range)):\n",
    "# for ilr, lr in enumerate([2.5e-4]):\n",
    "#     for iwd, wd in enumerate( [2.5e-4]):\n",
    "    for imul in range(multest):\n",
    "        current_time_tmp = time.strftime(\"%Y%m%d-%H%M%S\", time.localtime())\n",
    "        print(f\"{ifbsc} start at {current_time_tmp}\")\n",
    "\n",
    "        model = aEP_CNN(fbsc=1,  nudge=0.25, deviden=False, T=200, K=10, chl=[32,64])\n",
    "        \n",
    "        \n",
    "        # optimizer = torch.optim.SGD([\n",
    "        #     {'params': model.conv1.parameters(), 'lr': 0.01, 'weight_decay': 0e-6},  # conv1 \n",
    "        #     {'params': model.conv2.parameters(), 'lr': 0.03, 'weight_decay': 0e-6},  # conv2 \n",
    "        #     {'params': model.fc1.parameters(), 'lr': 0.1, 'weight_decay': 0e-6},  # \n",
    "        # ])\n",
    "        optimizer = torch.optim.AdamW(model.parameters(), lr=2e-4, weight_decay=0e-5) # 2.5 ~ 1e-4 0.5e-4\n",
    "\n",
    "        for epoch in range(num_epochs):\n",
    "            total_loss = 0\n",
    "            correct = 0\n",
    "            total = 0\n",
    "\n",
    "            random.shuffle(train_loader_gpu)\n",
    "            with tqdm(total=len(train_loader_gpu), desc=f\"Epoch {epoch + 1}/{num_epochs}:\", unit='batch', ncols=90, mininterval=1, colour='blue') as pbar:\n",
    "                for batch_idx, (data, target) in enumerate(train_loader_gpu):\n",
    "                    optimizer.zero_grad()\n",
    "                    # model.bw_symm()\n",
    "                    preds, loss = model.ep_step(data, target)# eta=[0.015, 0.035, 0.15]\n",
    "                    optimizer.step()\n",
    "                    total_loss += loss\n",
    "\n",
    "                    if batch_idx % 10 == 0: \n",
    "                        pbar.set_postfix({'loss': f'{total_loss/(batch_idx+1):.6f}'})  \n",
    "                        pbar.update(10)\n",
    "\n",
    "                    correct += (preds == target).sum().item()\n",
    "                    total += target.size(0)\n",
    "                        \n",
    "            # scheduler.step()\n",
    "            \n",
    "            acc = correct / total\n",
    "            avg_loss = total_loss / len(train_loader_gpu)\n",
    "            res[ifbsc,imul,0,epoch]=(avg_loss)\n",
    "            res[ifbsc,imul,1,epoch]=(acc)\n",
    "\n",
    "            # Test\n",
    "            correct = 0\n",
    "            total = 0\n",
    "            with torch.no_grad():\n",
    "                for data, target in test_loader_gpu:\n",
    "                    preds = model.predict(data)\n",
    "                    correct += (preds == target).sum().item()\n",
    "                    total += target.size(0)\n",
    "            test_acc = correct / total\n",
    "            res[ifbsc,imul,2,epoch]=(test_acc)\n",
    "\n",
    "            print(f\"Epoch {epoch+1} Train Loss = {avg_loss:.4f}, Accuracy = {acc*100:.2f}%, Test Accuracy = {test_acc*100:.2f}%\")\n",
    "        \n",
    "        current_time_tmp = time.strftime(\"%Y%m%d-%H%M%S\", time.localtime())\n",
    "        print(f\"{ifbsc}-{imul} end at {current_time_tmp}\")\n",
    "        \n",
    "res_EP = res\n",
    "current_time = time.strftime(\"%Y%m%d-%H%M%S\", time.localtime())\n",
    "if fsave: \n",
    "    save_dict = {\n",
    "        \"res\": res\n",
    "}\n",
    "np.savez_compressed(res_path / f\"res_EP\",  **save_dict)\n"
   ]
  },
  {
   "cell_type": "code",
   "execution_count": 9,
   "id": "4c6678f2",
   "metadata": {},
   "outputs": [
    {
     "name": "stdout",
     "output_type": "stream",
     "text": [
      "\t_train: 95.02%+-nan% (95.02% 95.02%)\t test: 95.38%+-nan% (95.38% 95.38%)\n",
      "\n",
      "Current Time: 20250923-170722\n",
      "Current Time: 20250923-170722\n"
     ]
    },
    {
     "name": "stderr",
     "output_type": "stream",
     "text": [
      "c:\\Users\\op1\\anaconda3\\envs\\torchgpu\\lib\\site-packages\\numpy\\core\\_methods.py:206: RuntimeWarning: Degrees of freedom <= 0 for slice\n",
      "  ret = _var(a, axis=axis, dtype=dtype, out=out, ddof=ddof,\n",
      "c:\\Users\\op1\\anaconda3\\envs\\torchgpu\\lib\\site-packages\\numpy\\core\\_methods.py:198: RuntimeWarning: invalid value encountered in scalar divide\n",
      "  ret = ret.dtype.type(ret / rcount)\n"
     ]
    },
    {
     "data": {
      "image/png": "[encoded data removed]",
      "text/plain": [
       "<Figure size 500x400 with 1 Axes>"
      ]
     },
     "metadata": {},
     "output_type": "display_data"
    },
    {
     "data": {
      "image/png": "[encoded data removed]",
      "text/plain": [
       "<Figure size 500x400 with 1 Axes>"
      ]
     },
     "metadata": {},
     "output_type": "display_data"
    }
   ],
   "source": [
    "\n",
    "     \n",
    "for ifbsc in range(len(fbsc_range)):\n",
    "    testacctt = np.max(res[ifbsc,:,2,:], axis= -1)\n",
    "\n",
    "    trainacctt = np.max(res[ifbsc,:,1,:], axis= -1)\n",
    "\n",
    "    print(f'\\t_'\n",
    "        f\"train: {np.mean(trainacctt) * 100:.2f}%+-{np.std(trainacctt, ddof=1)*100:.2f}% ({np.min(trainacctt) * 100:.2f}% {np.max(trainacctt) * 100:.2f}%)\"\n",
    "        f\"\\t test: {np.mean(testacctt) * 100:.2f}%+-{np.std(testacctt, ddof=1)*100:.2f}% ({np.min(testacctt) * 100:.2f}% {np.max(testacctt) * 100:.2f}%)\\n\")\n",
    "\n",
    "for ifbsc in range(len(fbsc_range)):\n",
    "    plt.figure(figsize=(5, 4))\n",
    "    tt = res[ifbsc,:,1,:]\n",
    "    plt.plot(np.arange(len(np.mean(tt, axis=0))), np.mean(tt, axis=0), label=f'training')  #  plot\n",
    "    plt.fill_between(np.arange(len(np.mean(tt, axis=0))), np.min(tt, axis=0), np.max(tt, axis=0), alpha=0.25)\n",
    "    tt = res[ifbsc,:,2,:]\n",
    "    plt.plot(np.arange(len(np.mean(tt, axis=0))), np.mean(tt, axis=0), label=f'testing')  #  plot\n",
    "    plt.fill_between(np.arange(len(np.mean(tt, axis=0))), np.min(tt, axis=0), np.max(tt, axis=0), alpha=0.25)\n",
    "    if np.min(tt)<0.8:\n",
    "        plt.ylim([0.0, 1.0])\n",
    "        plt.yticks(np.arange(0.0,1.01,0.25))\n",
    "    else:\n",
    "        plt.ylim([0.9, 1.0])\n",
    "        plt.yticks(np.arange(0.9,1.01,0.02))\n",
    "    plt.grid()\n",
    "    plt.title(r'$\\beta_i$'+f\"={fbsc_range[ifbsc]}\")\n",
    "    plt.xlabel(f'Epoch')\n",
    "    plt.ylabel('Accuracy')\n",
    "    plt.legend(frameon=False, fancybox=False, shadow=False)\n",
    "\n",
    "    current_time = time.strftime(\"%Y%m%d-%H%M%S\", time.localtime())\n",
    "    print(f'Current Time: {current_time}')\n",
    "    plt.savefig(res_path /f\"EP_cnn_MNIST_maxacc{np.max(tt)}-fbsc{fbsc_range[ifbsc]}-{current_time}.svg\", format=\"svg\")\n",
    "\n",
    "\n",
    "plt.figure(figsize=(5, 4))\n",
    "for labels, res in zip(['BP', 'EP', 'ours'], [res_BP, res_EP, res_aEP]):\n",
    "    ifbsc = 0\n",
    "    # tt = res[ifbsc,:,1,:]\n",
    "    # plt.plot(np.arange(len(np.mean(tt, axis=0))), np.mean(tt, axis=0), label=f'training')  #  plot\n",
    "    # plt.fill_between(np.arange(len(np.mean(tt, axis=0))), np.min(tt, axis=0), np.max(tt, axis=0), alpha=0.25)\n",
    "    tt = res[ifbsc,:,2,:]\n",
    "    plt.plot(np.arange(len(np.mean(tt, axis=0))), np.mean(tt, axis=0), label=labels)  #  plot\n",
    "    plt.fill_between(np.arange(len(np.mean(tt, axis=0))), np.min(tt, axis=0), np.max(tt, axis=0), alpha=0.25)\n",
    "    if np.min(tt)<0.8:\n",
    "        plt.ylim([0.0, 1.0])\n",
    "        plt.yticks(np.arange(0.0,1.01,0.25))\n",
    "    else:\n",
    "        plt.ylim([0.9, 1.0])\n",
    "        plt.yticks(np.arange(0.9,1.01,0.02))\n",
    "    # plt.grid()\n",
    "    # plt.title(r'$\\beta_i$'+f\"={fbsc_range[ifbsc]}\")\n",
    "    plt.xlabel(f'Epoch')\n",
    "    plt.ylabel('Accuracy')\n",
    "    plt.legend(frameon=False, fancybox=False, shadow=False)\n",
    "\n",
    "current_time = time.strftime(\"%Y%m%d-%H%M%S\", time.localtime())\n",
    "print(f'Current Time: {current_time}')\n",
    "plt.savefig(res_path /f\"EP_cnn_MNIST_maxacc{np.max(tt)}-fbsc{fbsc_range[ifbsc]}-{current_time}.svg\", format=\"svg\")"
   ]
  }
 ],
 "metadata": {
  "kernelspec": {
   "display_name": "torchgpu",
   "language": "python",
   "name": "python3"
  },
  "language_info": {
   "codemirror_mode": {
    "name": "ipython",
    "version": 3
   },
   "file_extension": ".py",
   "mimetype": "text/x-python",
   "name": "python",
   "nbconvert_exporter": "python",
   "pygments_lexer": "ipython3",
   "version": "3.9.20"
  }
 },
 "nbformat": 4,
 "nbformat_minor": 5
}
