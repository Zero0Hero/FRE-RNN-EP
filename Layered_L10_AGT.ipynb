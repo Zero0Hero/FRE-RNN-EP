{
 "cells": [
  {
   "cell_type": "code",
   "execution_count": null,
   "id": "f9d11af5",
   "metadata": {},
   "outputs": [
    {
     "data": {
      "text/plain": [
       "<torch.autograd.grad_mode.set_grad_enabled at 0x27391b71e50>"
      ]
     },
     "execution_count": 1,
     "metadata": {},
     "output_type": "execute_result"
    }
   ],
   "source": [
    "import torch\n",
    "import torchvision.transforms as transforms\n",
    "from torch.utils.data import DataLoader, Subset\n",
    "import numpy as np\n",
    "import matplotlib.pyplot as plt\n",
    "import random\n",
    "import time\n",
    "from tqdm import tqdm  # \n",
    "from pathlib import Path\n",
    "\n",
    "\n",
    "from models_LN_G import EPNN_LN, dataset, one_hot, cross_entropy_loss, linear, linear_d, tanh, tanh_d, sign, sign_d, sigmoid, sigmoid_d, relu, relu_d, relu6, relu6_d, softmax, softmax_d\n",
    "\n",
    "torch.set_grad_enabled(False)\n"
   ]
  },
  {
   "cell_type": "code",
   "execution_count": 2,
   "id": "7053ee30",
   "metadata": {},
   "outputs": [
    {
     "name": "stdout",
     "output_type": "stream",
     "text": [
      "cuda:True\n",
      "GPU 0:NVIDIA GeForce RTX 4070:11.99GB\n"
     ]
    }
   ],
   "source": [
    "\n",
    "seed = 42\n",
    "random.seed(seed)\n",
    "np.random.seed(seed)\n",
    "torch.manual_seed(seed)\n",
    "if torch.cuda.is_available():\n",
    "    torch.cuda.manual_seed(seed)\n",
    "    torch.cuda.manual_seed_all(seed)\n",
    "# torch.backends.cudnn.deterministic = True\n",
    "# torch.backends.cudnn.benchmark = False\n",
    "torch.backends.cudnn.benchmark = True\n",
    "\n",
    "\n",
    "if torch.cuda.is_available():\n",
    "    print(f\"cuda:True\")\n",
    "    for i in range(torch.cuda.device_count()):\n",
    "        device = torch.device(f\"cuda:{i}\")\n",
    "        properties = torch.cuda.get_device_properties(device)\n",
    "        print(f\"GPU {i}:{properties.name}:{properties.total_memory/1024/1024/1024:.2f}GB\")\n",
    "else:\n",
    "    print(f\"cuda:False\")\n",
    "    device = torch.device(\"cpu\")"
   ]
  },
  {
   "cell_type": "code",
   "execution_count": null,
   "id": "e0032328",
   "metadata": {},
   "outputs": [],
   "source": [
    "\n",
    "#========================================================\n",
    "# W_conn = [wij]\n",
    "# i row: input \n",
    "# j col: output\n",
    "# 0:input layer     ...:hidden layer    -1:output layer\n",
    "#--------------------------------------------------------\n",
    "def make_W_conn(n_hidden, startres=-1, block_size=2):\n",
    "    \"\"\"\n",
    "    Generate the connectivity matrix W_conn:\n",
    "      - Total nodes N = 1 (input) + n_hidden + 1 (output)\n",
    "      - Bidirectional connections between adjacent layers (i <-> i+1)\n",
    "      - Residual connections: from the start of each block, skip one block and connect forward\n",
    "        (for block_size=2, startres=1, that is i -> i+3, e.g. 2->5, 4->7, 6->9…)\n",
    "    \"\"\"\n",
    "    N = n_hidden + 2\n",
    "    W = np.zeros((N, N), dtype=int)\n",
    "\n",
    "    # connect each layer to the next (both directions)\n",
    "    for i in range(N - 1):\n",
    "        W[i, i + 1] = 1\n",
    "        W[i + 1, i] = 1\n",
    "\n",
    "    W[1, 0]=0\n",
    "    # add residual (skip) connections\n",
    "    if startres>0:\n",
    "        for start in range(startres, N, block_size):\n",
    "            target = start + block_size \n",
    "            if target < N:\n",
    "                W[start, target] = 1\n",
    "                W[target, start] = 1\n",
    "\n",
    "    return W\n",
    "import numpy as np\n",
    "\n",
    "def make_W_conn_random(n_hidden, a=0.5, input_to_output=False, seed=None):\n",
    "    \"\"\"\n",
    "    Generate a random connectivity matrix W_conn with connection probability 'a'.\n",
    "    \n",
    "    Parameters:\n",
    "    - n_hidden: Number of hidden layers (total nodes = 1 input + n_hidden + 1 output = N)\n",
    "    - a: Connection probability (0 ≤ a ≤ 1)\n",
    "    - input_to_output: If True, allows direct input->output connection\n",
    "    - seed: Random seed for reproducibility\n",
    "    \n",
    "    Returns:\n",
    "    - W: N x N binary connectivity matrix (1 = connection exists, 0 = no connection)\n",
    "    \"\"\"\n",
    "    if seed is not None:\n",
    "        np.random.seed(seed)\n",
    "    \n",
    "    N = n_hidden + 2  # Total nodes: input (0), hidden (1..n_hidden), output (N-1)\n",
    "    W = np.zeros((N, N), dtype=int)\n",
    "\n",
    "    for i in range(N - 1):\n",
    "        W[i, i + 1] = 1\n",
    "        W[i + 1, i] = 1\n",
    "    W[1, 0]=0\n",
    "    # Random connections (excluding self-loops)\n",
    "    for i in range(1,N-1):\n",
    "        for j in range(1,N-1):\n",
    "            if i != j:  # No self-connections\n",
    "                if np.random.rand() < a:\n",
    "                    W[i, j] = 1\n",
    "    \n",
    "    # Ensure input (0) and output (N-1) are not disconnected\n",
    "    if not input_to_output:\n",
    "        # Ensure input is connected to at least one hidden node\n",
    "        if np.sum(W[0, 1:-1]) == 0:\n",
    "            j = np.random.randint(1, N-1)\n",
    "            W[0, j] = 1\n",
    "        \n",
    "        # Ensure output is connected to at least one hidden node\n",
    "        if np.sum(W[1:-1, -1]) == 0:\n",
    "            i = np.random.randint(1, N-1)\n",
    "            W[i, -1] = 1\n",
    "    \n",
    "    return W"
   ]
  },
  {
   "cell_type": "code",
   "execution_count": 4,
   "id": "752c0143",
   "metadata": {},
   "outputs": [],
   "source": [
    "\n",
    "NL = 10\n",
    "nodes = [28*28] + [64]*NL + [10]\n",
    "# -------------------\n",
    "Para_EP = {\n",
    "     'EP_symm_W': False,\n",
    "     'fsc': 1,\n",
    "     'bsc': 0.1,\n",
    "     'nudge': 0.1,\n",
    "     'It2sta': (len(nodes)-2)*5,\n",
    "     'It2sta2': (len(nodes)-2)*2,\n",
    "     }\n",
    "\n",
    "# training:\n",
    "Para_t = {\n",
    "     'f': tanh,\n",
    "     'fd': tanh_d,\n",
    "     'ff': softmax,\n",
    "     'ffd': softmax_d,\n",
    "\n",
    "     'adam': True,\n",
    "     'eta': 1e-3,\n",
    "     'epoch': 50,\n",
    "     'batchsize': 500,\n",
    "     'task': \"MNIST\",\n",
    "     'method': 'EP' ,\n",
    "     \n",
    "     'bias_learn': False,\n",
    "     'bias_init_sc':0,\n",
    "     }"
   ]
  },
  {
   "cell_type": "code",
   "execution_count": 5,
   "id": "9d1fe607",
   "metadata": {},
   "outputs": [],
   "source": [
    "# \n",
    "fsave = True\n",
    "\n",
    "##\n",
    "Task_info = f\"First_asymm_AG_10HL_Res-Task2-0\"\n",
    "# Task_info = f\"Test\"\n",
    "Einfo = ''\n",
    "\n",
    "res_path = Path(f\"./Res/{Task_info}\")\n",
    "M_range = [\"FMNIST\",\"MNIST\"] #\"CIFAR10\",\"MNIST\"\n",
    "ParaRange = [0.1] # 0.01,0.1\n",
    "multitest = 5"
   ]
  },
  {
   "cell_type": "code",
   "execution_count": 6,
   "id": "4b1c0ad2",
   "metadata": {},
   "outputs": [],
   "source": [
    "res_path.mkdir(parents=True, exist_ok=True)\n",
    "res = np.zeros((len(M_range),len(ParaRange),(multitest),6,Para_t['epoch']))\n",
    "\n",
    "zall_list = [[[] for _ in range(len(ParaRange))] for _ in range(len(M_range))]\n",
    "eall_list = [[[[] for _ in range((multitest))] for _ in range(len(ParaRange))] for _ in range(len(M_range))]\n"
   ]
  },
  {
   "cell_type": "code",
   "execution_count": 7,
   "id": "d92d1556",
   "metadata": {},
   "outputs": [
    {
     "name": "stdout",
     "output_type": "stream",
     "text": [
      "[[0 1 0 0 0 0 0 0 0 0 0 0]\n",
      " [1 0 1 0 0 1 0 0 0 1 0 0]\n",
      " [0 1 0 1 0 0 0 0 0 0 0 0]\n",
      " [0 1 1 0 1 0 0 0 0 0 0 0]\n",
      " [0 1 0 1 0 1 0 0 1 0 1 0]\n",
      " [0 0 0 1 1 0 1 1 0 0 0 0]\n",
      " [0 0 0 0 0 1 0 1 0 0 0 0]\n",
      " [0 0 0 0 0 0 1 0 1 0 0 0]\n",
      " [0 0 0 0 0 1 0 1 0 1 1 0]\n",
      " [0 0 1 0 0 0 0 1 1 0 1 0]\n",
      " [0 0 0 0 0 1 0 0 0 1 0 1]\n",
      " [0 0 0 0 0 0 0 0 0 0 1 0]]\n",
      "First_asymm_AG_10HL_Res-Task2-0-EP_L10--FMNIST_EP_b_sc0.1-\n"
     ]
    },
    {
     "name": "stderr",
     "output_type": "stream",
     "text": [
      "Epoch 1/50:: 100%|\u001b[34m████████████████████\u001b[0m| 120/120 [00:02<00:00, 45.53batch/s, loss=2.028215]\u001b[0m\n"
     ]
    },
    {
     "name": "stdout",
     "output_type": "stream",
     "text": [
      "\t Loss: 43.123,\tTrain : 52.49%(52.49%),\tTest : 52.25%(52.25%),\tCurrent Time: 20250720-210541\n"
     ]
    },
    {
     "name": "stderr",
     "output_type": "stream",
     "text": [
      "Epoch 2/50:: 100%|\u001b[34m████████████████████\u001b[0m| 120/120 [00:02<00:00, 47.17batch/s, loss=1.112877]\u001b[0m\n"
     ]
    },
    {
     "name": "stdout",
     "output_type": "stream",
     "text": [
      "\t Loss: 24.417,\tTrain : 72.95%(72.95%),\tTest : 71.96%(71.96%),\tCurrent Time: 20250720-210544\n"
     ]
    },
    {
     "name": "stderr",
     "output_type": "stream",
     "text": [
      "Epoch 3/50:: 100%|\u001b[34m████████████████████\u001b[0m| 120/120 [00:02<00:00, 47.60batch/s, loss=0.688275]\u001b[0m\n"
     ]
    },
    {
     "name": "stdout",
     "output_type": "stream",
     "text": [
      "\t Loss: 18.109,\tTrain : 80.26%(80.26%),\tTest : 79.06%(79.06%),\tCurrent Time: 20250720-210547\n"
     ]
    },
    {
     "name": "stderr",
     "output_type": "stream",
     "text": [
      "Epoch 4/50:: 100%|\u001b[34m████████████████████\u001b[0m| 120/120 [00:02<00:00, 47.40batch/s, loss=0.559735]\u001b[0m\n"
     ]
    },
    {
     "name": "stdout",
     "output_type": "stream",
     "text": [
      "\t Loss: 15.427,\tTrain : 82.84%(82.84%),\tTest : 81.47%(81.47%),\tCurrent Time: 20250720-210550\n"
     ]
    },
    {
     "name": "stderr",
     "output_type": "stream",
     "text": [
      "Epoch 5/50:: 100%|\u001b[34m████████████████████\u001b[0m| 120/120 [00:02<00:00, 47.39batch/s, loss=0.499810]\u001b[0m\n"
     ]
    },
    {
     "name": "stdout",
     "output_type": "stream",
     "text": [
      "\t Loss: 14.350,\tTrain : 84.04%(84.04%),\tTest : 82.63%(82.63%),\tCurrent Time: 20250720-210553\n"
     ]
    },
    {
     "name": "stderr",
     "output_type": "stream",
     "text": [
      "Epoch 6/50:: 100%|\u001b[34m████████████████████\u001b[0m| 120/120 [00:02<00:00, 47.38batch/s, loss=0.465793]\u001b[0m\n"
     ]
    },
    {
     "name": "stdout",
     "output_type": "stream",
     "text": [
      "\t Loss: 13.358,\tTrain : 84.99%(84.99%),\tTest : 83.50%(83.50%),\tCurrent Time: 20250720-210556\n"
     ]
    },
    {
     "name": "stderr",
     "output_type": "stream",
     "text": [
      "Epoch 7/50:: 100%|\u001b[34m████████████████████\u001b[0m| 120/120 [00:02<00:00, 47.47batch/s, loss=0.446605]\u001b[0m\n"
     ]
    },
    {
     "name": "stdout",
     "output_type": "stream",
     "text": [
      "\t Loss: 13.104,\tTrain : 85.41%(85.41%),\tTest : 83.87%(83.87%),\tCurrent Time: 20250720-210559\n"
     ]
    },
    {
     "name": "stderr",
     "output_type": "stream",
     "text": [
      "Epoch 8/50:: 100%|\u001b[34m████████████████████\u001b[0m| 120/120 [00:02<00:00, 47.28batch/s, loss=0.432151]\u001b[0m\n"
     ]
    },
    {
     "name": "stdout",
     "output_type": "stream",
     "text": [
      "\t Loss: 12.594,\tTrain : 85.66%(85.66%),\tTest : 84.03%(84.03%),\tCurrent Time: 20250720-210602\n"
     ]
    },
    {
     "name": "stderr",
     "output_type": "stream",
     "text": [
      "Epoch 9/50:: 100%|\u001b[34m████████████████████\u001b[0m| 120/120 [00:02<00:00, 47.40batch/s, loss=0.412969]\u001b[0m\n"
     ]
    },
    {
     "name": "stdout",
     "output_type": "stream",
     "text": [
      "\t Loss: 12.280,\tTrain : 85.82%(85.82%),\tTest : 83.95%(84.03%),\tCurrent Time: 20250720-210605\n"
     ]
    },
    {
     "name": "stderr",
     "output_type": "stream",
     "text": [
      "Epoch 10/50:: 100%|\u001b[34m███████████████████\u001b[0m| 120/120 [00:02<00:00, 47.33batch/s, loss=0.402960]\u001b[0m\n"
     ]
    },
    {
     "name": "stdout",
     "output_type": "stream",
     "text": [
      "\t Loss: 11.626,\tTrain : 86.73%(86.73%),\tTest : 85.00%(85.00%),\tCurrent Time: 20250720-210608\n"
     ]
    },
    {
     "name": "stderr",
     "output_type": "stream",
     "text": [
      "Epoch 11/50:: 100%|\u001b[34m███████████████████\u001b[0m| 120/120 [00:02<00:00, 47.68batch/s, loss=0.388212]\u001b[0m\n"
     ]
    },
    {
     "name": "stdout",
     "output_type": "stream",
     "text": [
      "\t Loss: 11.386,\tTrain : 87.14%(87.14%),\tTest : 85.33%(85.33%),\tCurrent Time: 20250720-210611\n"
     ]
    },
    {
     "name": "stderr",
     "output_type": "stream",
     "text": [
      "Epoch 12/50:: 100%|\u001b[34m███████████████████\u001b[0m| 120/120 [00:02<00:00, 47.38batch/s, loss=0.378520]\u001b[0m\n"
     ]
    },
    {
     "name": "stdout",
     "output_type": "stream",
     "text": [
      "\t Loss: 10.740,\tTrain : 87.57%(87.57%),\tTest : 85.72%(85.72%),\tCurrent Time: 20250720-210614\n"
     ]
    },
    {
     "name": "stderr",
     "output_type": "stream",
     "text": [
      "Epoch 13/50:: 100%|\u001b[34m███████████████████\u001b[0m| 120/120 [00:02<00:00, 47.48batch/s, loss=0.374404]\u001b[0m\n"
     ]
    },
    {
     "name": "stdout",
     "output_type": "stream",
     "text": [
      "\t Loss: 10.833,\tTrain : 87.37%(87.57%),\tTest : 85.20%(85.72%),\tCurrent Time: 20250720-210617\n"
     ]
    },
    {
     "name": "stderr",
     "output_type": "stream",
     "text": [
      "Epoch 14/50:: 100%|\u001b[34m███████████████████\u001b[0m| 120/120 [00:02<00:00, 47.51batch/s, loss=0.361856]\u001b[0m\n"
     ]
    },
    {
     "name": "stdout",
     "output_type": "stream",
     "text": [
      "\t Loss: 10.329,\tTrain : 88.11%(88.11%),\tTest : 86.05%(86.05%),\tCurrent Time: 20250720-210620\n"
     ]
    },
    {
     "name": "stderr",
     "output_type": "stream",
     "text": [
      "Epoch 15/50:: 100%|\u001b[34m███████████████████\u001b[0m| 120/120 [00:02<00:00, 47.18batch/s, loss=0.354927]\u001b[0m\n"
     ]
    },
    {
     "name": "stdout",
     "output_type": "stream",
     "text": [
      "\t Loss: 10.635,\tTrain : 87.71%(88.11%),\tTest : 85.30%(86.05%),\tCurrent Time: 20250720-210623\n"
     ]
    },
    {
     "name": "stderr",
     "output_type": "stream",
     "text": [
      "Epoch 16/50:: 100%|\u001b[34m███████████████████\u001b[0m| 120/120 [00:02<00:00, 47.15batch/s, loss=0.347606]\u001b[0m\n"
     ]
    },
    {
     "name": "stdout",
     "output_type": "stream",
     "text": [
      "\t Loss: 9.879,\tTrain : 88.51%(88.51%),\tTest : 86.11%(86.11%),\tCurrent Time: 20250720-210626\n"
     ]
    },
    {
     "name": "stderr",
     "output_type": "stream",
     "text": [
      "Epoch 17/50:: 100%|\u001b[34m███████████████████\u001b[0m| 120/120 [00:02<00:00, 47.12batch/s, loss=0.347240]\u001b[0m\n"
     ]
    },
    {
     "name": "stdout",
     "output_type": "stream",
     "text": [
      "\t Loss: 10.126,\tTrain : 88.37%(88.51%),\tTest : 86.05%(86.11%),\tCurrent Time: 20250720-210629\n"
     ]
    },
    {
     "name": "stderr",
     "output_type": "stream",
     "text": [
      "Epoch 18/50:: 100%|\u001b[34m███████████████████\u001b[0m| 120/120 [00:02<00:00, 47.28batch/s, loss=0.336549]\u001b[0m\n"
     ]
    },
    {
     "name": "stdout",
     "output_type": "stream",
     "text": [
      "\t Loss: 10.032,\tTrain : 88.39%(88.51%),\tTest : 86.10%(86.11%),\tCurrent Time: 20250720-210632\n"
     ]
    },
    {
     "name": "stderr",
     "output_type": "stream",
     "text": [
      "Epoch 19/50:: 100%|\u001b[34m███████████████████\u001b[0m| 120/120 [00:02<00:00, 47.07batch/s, loss=0.331111]\u001b[0m\n"
     ]
    },
    {
     "name": "stdout",
     "output_type": "stream",
     "text": [
      "\t Loss: 9.308,\tTrain : 89.22%(89.22%),\tTest : 86.77%(86.77%),\tCurrent Time: 20250720-210635\n"
     ]
    },
    {
     "name": "stderr",
     "output_type": "stream",
     "text": [
      "Epoch 20/50:: 100%|\u001b[34m███████████████████\u001b[0m| 120/120 [00:02<00:00, 47.37batch/s, loss=0.324830]\u001b[0m\n"
     ]
    },
    {
     "name": "stdout",
     "output_type": "stream",
     "text": [
      "\t Loss: 9.411,\tTrain : 89.16%(89.22%),\tTest : 86.64%(86.77%),\tCurrent Time: 20250720-210638\n"
     ]
    },
    {
     "name": "stderr",
     "output_type": "stream",
     "text": [
      "Epoch 21/50:: 100%|\u001b[34m███████████████████\u001b[0m| 120/120 [00:02<00:00, 47.47batch/s, loss=0.319357]\u001b[0m\n"
     ]
    },
    {
     "name": "stdout",
     "output_type": "stream",
     "text": [
      "\t Loss: 9.631,\tTrain : 88.71%(89.22%),\tTest : 86.17%(86.77%),\tCurrent Time: 20250720-210641\n"
     ]
    },
    {
     "name": "stderr",
     "output_type": "stream",
     "text": [
      "Epoch 22/50:: 100%|\u001b[34m███████████████████\u001b[0m| 120/120 [00:02<00:00, 47.77batch/s, loss=0.318908]\u001b[0m\n"
     ]
    },
    {
     "name": "stdout",
     "output_type": "stream",
     "text": [
      "\t Loss: 9.269,\tTrain : 89.29%(89.29%),\tTest : 86.76%(86.77%),\tCurrent Time: 20250720-210644\n"
     ]
    },
    {
     "name": "stderr",
     "output_type": "stream",
     "text": [
      "Epoch 23/50:: 100%|\u001b[34m███████████████████\u001b[0m| 120/120 [00:02<00:00, 47.64batch/s, loss=0.309537]\u001b[0m\n"
     ]
    },
    {
     "name": "stdout",
     "output_type": "stream",
     "text": [
      "\t Loss: 9.023,\tTrain : 89.46%(89.46%),\tTest : 86.70%(86.77%),\tCurrent Time: 20250720-210647\n"
     ]
    },
    {
     "name": "stderr",
     "output_type": "stream",
     "text": [
      "Epoch 24/50:: 100%|\u001b[34m███████████████████\u001b[0m| 120/120 [00:02<00:00, 47.69batch/s, loss=0.305257]\u001b[0m\n"
     ]
    },
    {
     "name": "stdout",
     "output_type": "stream",
     "text": [
      "\t Loss: 9.256,\tTrain : 89.37%(89.46%),\tTest : 86.44%(86.77%),\tCurrent Time: 20250720-210650\n"
     ]
    },
    {
     "name": "stderr",
     "output_type": "stream",
     "text": [
      "Epoch 25/50:: 100%|\u001b[34m███████████████████\u001b[0m| 120/120 [00:02<00:00, 47.86batch/s, loss=0.306371]\u001b[0m\n"
     ]
    },
    {
     "name": "stdout",
     "output_type": "stream",
     "text": [
      "\t Loss: 8.759,\tTrain : 89.69%(89.69%),\tTest : 86.74%(86.77%),\tCurrent Time: 20250720-210653\n"
     ]
    },
    {
     "name": "stderr",
     "output_type": "stream",
     "text": [
      "Epoch 26/50:: 100%|\u001b[34m███████████████████\u001b[0m| 120/120 [00:02<00:00, 47.71batch/s, loss=0.298245]\u001b[0m\n"
     ]
    },
    {
     "name": "stdout",
     "output_type": "stream",
     "text": [
      "\t Loss: 8.977,\tTrain : 89.58%(89.69%),\tTest : 86.60%(86.77%),\tCurrent Time: 20250720-210656\n"
     ]
    },
    {
     "name": "stderr",
     "output_type": "stream",
     "text": [
      "Epoch 27/50:: 100%|\u001b[34m███████████████████\u001b[0m| 120/120 [00:02<00:00, 47.89batch/s, loss=0.293595]\u001b[0m\n"
     ]
    },
    {
     "name": "stdout",
     "output_type": "stream",
     "text": [
      "\t Loss: 8.412,\tTrain : 90.14%(90.14%),\tTest : 87.28%(87.28%),\tCurrent Time: 20250720-210659\n"
     ]
    },
    {
     "name": "stderr",
     "output_type": "stream",
     "text": [
      "Epoch 28/50:: 100%|\u001b[34m███████████████████\u001b[0m| 120/120 [00:02<00:00, 47.65batch/s, loss=0.296976]\u001b[0m\n"
     ]
    },
    {
     "name": "stdout",
     "output_type": "stream",
     "text": [
      "\t Loss: 8.551,\tTrain : 90.07%(90.14%),\tTest : 86.84%(87.28%),\tCurrent Time: 20250720-210702\n"
     ]
    },
    {
     "name": "stderr",
     "output_type": "stream",
     "text": [
      "Epoch 29/50:: 100%|\u001b[34m███████████████████\u001b[0m| 120/120 [00:02<00:00, 47.81batch/s, loss=0.308389]\u001b[0m\n"
     ]
    },
    {
     "name": "stdout",
     "output_type": "stream",
     "text": [
      "\t Loss: 9.123,\tTrain : 89.32%(90.14%),\tTest : 85.90%(87.28%),\tCurrent Time: 20250720-210705\n"
     ]
    },
    {
     "name": "stderr",
     "output_type": "stream",
     "text": [
      "Epoch 30/50:: 100%|\u001b[34m███████████████████\u001b[0m| 120/120 [00:02<00:00, 47.73batch/s, loss=0.308499]\u001b[0m\n"
     ]
    },
    {
     "name": "stdout",
     "output_type": "stream",
     "text": [
      "\t Loss: 9.437,\tTrain : 89.50%(90.14%),\tTest : 86.48%(87.28%),\tCurrent Time: 20250720-210708\n"
     ]
    },
    {
     "name": "stderr",
     "output_type": "stream",
     "text": [
      "Epoch 31/50:: 100%|\u001b[34m███████████████████\u001b[0m| 120/120 [00:02<00:00, 47.87batch/s, loss=0.353135]\u001b[0m\n"
     ]
    },
    {
     "name": "stdout",
     "output_type": "stream",
     "text": [
      "\t Loss: 12.015,\tTrain : 88.68%(90.14%),\tTest : 85.98%(87.28%),\tCurrent Time: 20250720-210711\n"
     ]
    },
    {
     "name": "stderr",
     "output_type": "stream",
     "text": [
      "Epoch 32/50:: 100%|\u001b[34m███████████████████\u001b[0m| 120/120 [00:02<00:00, 47.87batch/s, loss=0.368485]\u001b[0m\n"
     ]
    },
    {
     "name": "stdout",
     "output_type": "stream",
     "text": [
      "\t Loss: 10.094,\tTrain : 89.75%(90.14%),\tTest : 86.61%(87.28%),\tCurrent Time: 20250720-210714\n"
     ]
    },
    {
     "name": "stderr",
     "output_type": "stream",
     "text": [
      "Epoch 33/50:: 100%|\u001b[34m███████████████████\u001b[0m| 120/120 [00:02<00:00, 47.20batch/s, loss=0.371104]\u001b[0m\n"
     ]
    },
    {
     "name": "stdout",
     "output_type": "stream",
     "text": [
      "\t Loss: 11.700,\tTrain : 89.15%(90.14%),\tTest : 86.09%(87.28%),\tCurrent Time: 20250720-210717\n"
     ]
    },
    {
     "name": "stderr",
     "output_type": "stream",
     "text": [
      "Epoch 34/50:: 100%|\u001b[34m███████████████████\u001b[0m| 120/120 [00:02<00:00, 47.69batch/s, loss=0.379280]\u001b[0m\n"
     ]
    },
    {
     "name": "stdout",
     "output_type": "stream",
     "text": [
      "\t Loss: 10.956,\tTrain : 89.27%(90.14%),\tTest : 86.27%(87.28%),\tCurrent Time: 20250720-210720\n"
     ]
    },
    {
     "name": "stderr",
     "output_type": "stream",
     "text": [
      "Epoch 35/50:: 100%|\u001b[34m███████████████████\u001b[0m| 120/120 [00:02<00:00, 47.63batch/s, loss=0.369805]\u001b[0m\n"
     ]
    },
    {
     "name": "stdout",
     "output_type": "stream",
     "text": [
      "\t Loss: 11.039,\tTrain : 89.27%(90.14%),\tTest : 86.32%(87.28%),\tCurrent Time: 20250720-210723\n"
     ]
    },
    {
     "name": "stderr",
     "output_type": "stream",
     "text": [
      "Epoch 36/50:: 100%|\u001b[34m███████████████████\u001b[0m| 120/120 [00:02<00:00, 47.72batch/s, loss=0.364175]\u001b[0m\n"
     ]
    },
    {
     "name": "stdout",
     "output_type": "stream",
     "text": [
      "\t Loss: 9.928,\tTrain : 90.29%(90.29%),\tTest : 86.79%(87.28%),\tCurrent Time: 20250720-210726\n"
     ]
    },
    {
     "name": "stderr",
     "output_type": "stream",
     "text": [
      "Epoch 37/50:: 100%|\u001b[34m███████████████████\u001b[0m| 120/120 [00:02<00:00, 47.73batch/s, loss=0.367617]\u001b[0m\n"
     ]
    },
    {
     "name": "stdout",
     "output_type": "stream",
     "text": [
      "\t Loss: 11.242,\tTrain : 89.48%(90.29%),\tTest : 86.16%(87.28%),\tCurrent Time: 20250720-210729\n"
     ]
    },
    {
     "name": "stderr",
     "output_type": "stream",
     "text": [
      "Epoch 38/50:: 100%|\u001b[34m███████████████████\u001b[0m| 120/120 [00:02<00:00, 47.82batch/s, loss=0.374052]\u001b[0m\n"
     ]
    },
    {
     "name": "stdout",
     "output_type": "stream",
     "text": [
      "\t Loss: 10.190,\tTrain : 89.66%(90.29%),\tTest : 86.44%(87.28%),\tCurrent Time: 20250720-210732\n"
     ]
    },
    {
     "name": "stderr",
     "output_type": "stream",
     "text": [
      "Epoch 39/50:: 100%|\u001b[34m███████████████████\u001b[0m| 120/120 [00:02<00:00, 47.28batch/s, loss=0.360728]\u001b[0m\n"
     ]
    },
    {
     "name": "stdout",
     "output_type": "stream",
     "text": [
      "\t Loss: 10.703,\tTrain : 90.25%(90.29%),\tTest : 86.70%(87.28%),\tCurrent Time: 20250720-210735\n"
     ]
    },
    {
     "name": "stderr",
     "output_type": "stream",
     "text": [
      "Epoch 40/50:: 100%|\u001b[34m███████████████████\u001b[0m| 120/120 [00:02<00:00, 46.74batch/s, loss=0.344537]\u001b[0m\n"
     ]
    },
    {
     "name": "stdout",
     "output_type": "stream",
     "text": [
      "\t Loss: 8.972,\tTrain : 90.83%(90.83%),\tTest : 87.01%(87.28%),\tCurrent Time: 20250720-210738\n"
     ]
    },
    {
     "name": "stderr",
     "output_type": "stream",
     "text": [
      "Epoch 41/50:: 100%|\u001b[34m███████████████████\u001b[0m| 120/120 [00:02<00:00, 47.26batch/s, loss=0.342386]\u001b[0m\n"
     ]
    },
    {
     "name": "stdout",
     "output_type": "stream",
     "text": [
      "\t Loss: 10.465,\tTrain : 89.68%(90.83%),\tTest : 86.46%(87.28%),\tCurrent Time: 20250720-210741\n"
     ]
    },
    {
     "name": "stderr",
     "output_type": "stream",
     "text": [
      "Epoch 42/50:: 100%|\u001b[34m███████████████████\u001b[0m| 120/120 [00:02<00:00, 47.17batch/s, loss=0.340280]\u001b[0m\n"
     ]
    },
    {
     "name": "stdout",
     "output_type": "stream",
     "text": [
      "\t Loss: 9.560,\tTrain : 90.17%(90.83%),\tTest : 86.86%(87.28%),\tCurrent Time: 20250720-210744\n"
     ]
    },
    {
     "name": "stderr",
     "output_type": "stream",
     "text": [
      "Epoch 43/50:: 100%|\u001b[34m███████████████████\u001b[0m| 120/120 [00:02<00:00, 46.97batch/s, loss=0.333463]\u001b[0m\n"
     ]
    },
    {
     "name": "stdout",
     "output_type": "stream",
     "text": [
      "\t Loss: 9.452,\tTrain : 90.58%(90.83%),\tTest : 86.87%(87.28%),\tCurrent Time: 20250720-210747\n"
     ]
    },
    {
     "name": "stderr",
     "output_type": "stream",
     "text": [
      "Epoch 44/50:: 100%|\u001b[34m███████████████████\u001b[0m| 120/120 [00:02<00:00, 47.16batch/s, loss=0.347154]\u001b[0m\n"
     ]
    },
    {
     "name": "stdout",
     "output_type": "stream",
     "text": [
      "\t Loss: 9.562,\tTrain : 90.56%(90.83%),\tTest : 86.80%(87.28%),\tCurrent Time: 20250720-210750\n"
     ]
    },
    {
     "name": "stderr",
     "output_type": "stream",
     "text": [
      "Epoch 45/50:: 100%|\u001b[34m███████████████████\u001b[0m| 120/120 [00:02<00:00, 47.05batch/s, loss=0.335026]\u001b[0m\n"
     ]
    },
    {
     "name": "stdout",
     "output_type": "stream",
     "text": [
      "\t Loss: 9.287,\tTrain : 90.35%(90.83%),\tTest : 86.89%(87.28%),\tCurrent Time: 20250720-210753\n"
     ]
    },
    {
     "name": "stderr",
     "output_type": "stream",
     "text": [
      "Epoch 46/50:: 100%|\u001b[34m███████████████████\u001b[0m| 120/120 [00:02<00:00, 47.17batch/s, loss=0.341257]\u001b[0m\n"
     ]
    },
    {
     "name": "stdout",
     "output_type": "stream",
     "text": [
      "\t Loss: 8.564,\tTrain : 90.77%(90.83%),\tTest : 86.33%(87.28%),\tCurrent Time: 20250720-210756\n"
     ]
    },
    {
     "name": "stderr",
     "output_type": "stream",
     "text": [
      "Epoch 47/50:: 100%|\u001b[34m███████████████████\u001b[0m| 120/120 [00:02<00:00, 46.67batch/s, loss=0.372533]\u001b[0m\n"
     ]
    },
    {
     "name": "stdout",
     "output_type": "stream",
     "text": [
      "\t Loss: 12.088,\tTrain : 88.38%(90.83%),\tTest : 85.03%(87.28%),\tCurrent Time: 20250720-210759\n"
     ]
    },
    {
     "name": "stderr",
     "output_type": "stream",
     "text": [
      "Epoch 48/50:: 100%|\u001b[34m███████████████████\u001b[0m| 120/120 [00:02<00:00, 46.85batch/s, loss=0.367867]\u001b[0m\n"
     ]
    },
    {
     "name": "stdout",
     "output_type": "stream",
     "text": [
      "\t Loss: 10.213,\tTrain : 89.47%(90.83%),\tTest : 86.63%(87.28%),\tCurrent Time: 20250720-210803\n"
     ]
    },
    {
     "name": "stderr",
     "output_type": "stream",
     "text": [
      "Epoch 49/50:: 100%|\u001b[34m███████████████████\u001b[0m| 120/120 [00:02<00:00, 46.65batch/s, loss=0.382536]\u001b[0m\n"
     ]
    },
    {
     "name": "stdout",
     "output_type": "stream",
     "text": [
      "\t Loss: 9.739,\tTrain : 89.84%(90.83%),\tTest : 86.35%(87.28%),\tCurrent Time: 20250720-210806\n"
     ]
    },
    {
     "name": "stderr",
     "output_type": "stream",
     "text": [
      "Epoch 50/50:: 100%|\u001b[34m███████████████████\u001b[0m| 120/120 [00:02<00:00, 47.19batch/s, loss=0.357937]\u001b[0m\n"
     ]
    },
    {
     "name": "stdout",
     "output_type": "stream",
     "text": [
      "\t Loss: 9.815,\tTrain : 89.94%(90.83%),\tTest : 86.36%(87.28%),\tCurrent Time: 20250720-210809\n",
      "First_asymm_AG_10HL_Res-Task2-0-EP_L10--FMNIST_EP_b_sc0.1- Time: 20250720-210809, Epochs: 50, Learning Rate: 0.001, Best: 90.83%  87.28%\n",
      "\n",
      "[[0 1 0 0 0 0 0 0 0 0 0 0]\n",
      " [1 0 1 0 0 0 1 1 0 0 1 0]\n",
      " [0 1 0 1 0 1 1 0 0 0 1 0]\n",
      " [0 0 1 0 1 0 0 0 1 0 1 0]\n",
      " [0 0 0 1 0 1 0 1 0 1 0 0]\n",
      " [0 0 1 0 1 0 1 0 0 1 0 0]\n",
      " [0 0 0 0 0 1 0 1 0 0 0 0]\n",
      " [0 0 0 1 0 1 1 0 1 0 0 0]\n",
      " [0 1 0 0 0 0 0 1 0 1 0 0]\n",
      " [0 1 0 0 0 0 0 1 1 0 1 0]\n",
      " [0 1 0 0 0 0 0 0 0 1 0 1]\n",
      " [0 0 0 0 0 0 0 0 0 0 1 0]]\n",
      "First_asymm_AG_10HL_Res-Task2-0-EP_L10--FMNIST_EP_b_sc0.1-\n"
     ]
    },
    {
     "name": "stderr",
     "output_type": "stream",
     "text": [
      "Epoch 1/50:: 100%|\u001b[34m████████████████████\u001b[0m| 120/120 [00:02<00:00, 42.34batch/s, loss=1.974477]\u001b[0m\n"
     ]
    },
    {
     "name": "stdout",
     "output_type": "stream",
     "text": [
      "\t Loss: 40.021,\tTrain : 63.35%(63.35%),\tTest : 62.84%(62.84%),\tCurrent Time: 20250720-210816\n"
     ]
    },
    {
     "name": "stderr",
     "output_type": "stream",
     "text": [
      "Epoch 2/50:: 100%|\u001b[34m████████████████████\u001b[0m| 120/120 [00:02<00:00, 45.02batch/s, loss=0.921657]\u001b[0m\n"
     ]
    },
    {
     "name": "stdout",
     "output_type": "stream",
     "text": [
      "\t Loss: 22.503,\tTrain : 74.04%(74.04%),\tTest : 72.53%(72.53%),\tCurrent Time: 20250720-210819\n"
     ]
    },
    {
     "name": "stderr",
     "output_type": "stream",
     "text": [
      "Epoch 3/50:: 100%|\u001b[34m████████████████████\u001b[0m| 120/120 [00:02<00:00, 45.00batch/s, loss=0.633940]\u001b[0m\n"
     ]
    },
    {
     "name": "stdout",
     "output_type": "stream",
     "text": [
      "\t Loss: 16.282,\tTrain : 81.75%(81.75%),\tTest : 80.57%(80.57%),\tCurrent Time: 20250720-210823\n"
     ]
    },
    {
     "name": "stderr",
     "output_type": "stream",
     "text": [
      "Epoch 4/50:: 100%|\u001b[34m████████████████████\u001b[0m| 120/120 [00:02<00:00, 45.09batch/s, loss=0.528888]\u001b[0m\n"
     ]
    },
    {
     "name": "stdout",
     "output_type": "stream",
     "text": [
      "\t Loss: 15.047,\tTrain : 83.39%(83.39%),\tTest : 82.13%(82.13%),\tCurrent Time: 20250720-210826\n"
     ]
    },
    {
     "name": "stderr",
     "output_type": "stream",
     "text": [
      "Epoch 5/50:: 100%|\u001b[34m████████████████████\u001b[0m| 120/120 [00:02<00:00, 45.19batch/s, loss=0.492977]\u001b[0m\n"
     ]
    },
    {
     "name": "stdout",
     "output_type": "stream",
     "text": [
      "\t Loss: 14.723,\tTrain : 83.86%(83.86%),\tTest : 82.30%(82.30%),\tCurrent Time: 20250720-210829\n"
     ]
    },
    {
     "name": "stderr",
     "output_type": "stream",
     "text": [
      "Epoch 6/50:: 100%|\u001b[34m████████████████████\u001b[0m| 120/120 [00:02<00:00, 45.42batch/s, loss=0.466997]\u001b[0m\n"
     ]
    },
    {
     "name": "stdout",
     "output_type": "stream",
     "text": [
      "\t Loss: 13.658,\tTrain : 84.85%(84.85%),\tTest : 83.17%(83.17%),\tCurrent Time: 20250720-210832\n"
     ]
    },
    {
     "name": "stderr",
     "output_type": "stream",
     "text": [
      "Epoch 7/50:: 100%|\u001b[34m████████████████████\u001b[0m| 120/120 [00:02<00:00, 45.34batch/s, loss=0.444060]\u001b[0m\n"
     ]
    },
    {
     "name": "stdout",
     "output_type": "stream",
     "text": [
      "\t Loss: 12.995,\tTrain : 85.44%(85.44%),\tTest : 83.80%(83.80%),\tCurrent Time: 20250720-210835\n"
     ]
    },
    {
     "name": "stderr",
     "output_type": "stream",
     "text": [
      "Epoch 8/50:: 100%|\u001b[34m████████████████████\u001b[0m| 120/120 [00:02<00:00, 45.27batch/s, loss=0.433382]\u001b[0m\n"
     ]
    },
    {
     "name": "stdout",
     "output_type": "stream",
     "text": [
      "\t Loss: 12.979,\tTrain : 85.61%(85.61%),\tTest : 84.10%(84.10%),\tCurrent Time: 20250720-210838\n"
     ]
    },
    {
     "name": "stderr",
     "output_type": "stream",
     "text": [
      "Epoch 9/50:: 100%|\u001b[34m████████████████████\u001b[0m| 120/120 [00:02<00:00, 45.52batch/s, loss=0.416396]\u001b[0m\n"
     ]
    },
    {
     "name": "stdout",
     "output_type": "stream",
     "text": [
      "\t Loss: 12.415,\tTrain : 86.15%(86.15%),\tTest : 84.62%(84.62%),\tCurrent Time: 20250720-210841\n"
     ]
    },
    {
     "name": "stderr",
     "output_type": "stream",
     "text": [
      "Epoch 10/50:: 100%|\u001b[34m███████████████████\u001b[0m| 120/120 [00:02<00:00, 45.28batch/s, loss=0.403765]\u001b[0m\n"
     ]
    },
    {
     "name": "stdout",
     "output_type": "stream",
     "text": [
      "\t Loss: 11.727,\tTrain : 86.83%(86.83%),\tTest : 85.00%(85.00%),\tCurrent Time: 20250720-210844\n"
     ]
    },
    {
     "name": "stderr",
     "output_type": "stream",
     "text": [
      "Epoch 11/50:: 100%|\u001b[34m███████████████████\u001b[0m| 120/120 [00:02<00:00, 45.43batch/s, loss=0.392520]\u001b[0m\n"
     ]
    },
    {
     "name": "stdout",
     "output_type": "stream",
     "text": [
      "\t Loss: 11.654,\tTrain : 86.91%(86.91%),\tTest : 85.22%(85.22%),\tCurrent Time: 20250720-210848\n"
     ]
    },
    {
     "name": "stderr",
     "output_type": "stream",
     "text": [
      "Epoch 12/50:: 100%|\u001b[34m███████████████████\u001b[0m| 120/120 [00:02<00:00, 45.43batch/s, loss=0.389846]\u001b[0m\n"
     ]
    },
    {
     "name": "stdout",
     "output_type": "stream",
     "text": [
      "\t Loss: 11.417,\tTrain : 87.23%(87.23%),\tTest : 85.39%(85.39%),\tCurrent Time: 20250720-210851\n"
     ]
    },
    {
     "name": "stderr",
     "output_type": "stream",
     "text": [
      "Epoch 13/50:: 100%|\u001b[34m███████████████████\u001b[0m| 120/120 [00:02<00:00, 45.29batch/s, loss=0.384902]\u001b[0m\n"
     ]
    },
    {
     "name": "stdout",
     "output_type": "stream",
     "text": [
      "\t Loss: 10.984,\tTrain : 87.50%(87.50%),\tTest : 85.21%(85.39%),\tCurrent Time: 20250720-210854\n"
     ]
    },
    {
     "name": "stderr",
     "output_type": "stream",
     "text": [
      "Epoch 14/50:: 100%|\u001b[34m███████████████████\u001b[0m| 120/120 [00:02<00:00, 45.18batch/s, loss=0.374193]\u001b[0m\n"
     ]
    },
    {
     "name": "stdout",
     "output_type": "stream",
     "text": [
      "\t Loss: 10.753,\tTrain : 88.06%(88.06%),\tTest : 85.98%(85.98%),\tCurrent Time: 20250720-210857\n"
     ]
    },
    {
     "name": "stderr",
     "output_type": "stream",
     "text": [
      "Epoch 15/50:: 100%|\u001b[34m███████████████████\u001b[0m| 120/120 [00:02<00:00, 45.19batch/s, loss=0.362888]\u001b[0m\n"
     ]
    },
    {
     "name": "stdout",
     "output_type": "stream",
     "text": [
      "\t Loss: 10.526,\tTrain : 88.05%(88.06%),\tTest : 85.79%(85.98%),\tCurrent Time: 20250720-210900\n"
     ]
    },
    {
     "name": "stderr",
     "output_type": "stream",
     "text": [
      "Epoch 16/50:: 100%|\u001b[34m███████████████████\u001b[0m| 120/120 [00:02<00:00, 45.52batch/s, loss=0.354682]\u001b[0m\n"
     ]
    },
    {
     "name": "stdout",
     "output_type": "stream",
     "text": [
      "\t Loss: 10.738,\tTrain : 87.95%(88.06%),\tTest : 85.56%(85.98%),\tCurrent Time: 20250720-210903\n"
     ]
    },
    {
     "name": "stderr",
     "output_type": "stream",
     "text": [
      "Epoch 17/50:: 100%|\u001b[34m███████████████████\u001b[0m| 120/120 [00:02<00:00, 45.34batch/s, loss=0.352224]\u001b[0m\n"
     ]
    },
    {
     "name": "stdout",
     "output_type": "stream",
     "text": [
      "\t Loss: 10.206,\tTrain : 88.33%(88.33%),\tTest : 85.67%(85.98%),\tCurrent Time: 20250720-210906\n"
     ]
    },
    {
     "name": "stderr",
     "output_type": "stream",
     "text": [
      "Epoch 18/50:: 100%|\u001b[34m███████████████████\u001b[0m| 120/120 [00:02<00:00, 45.20batch/s, loss=0.347758]\u001b[0m\n"
     ]
    },
    {
     "name": "stdout",
     "output_type": "stream",
     "text": [
      "\t Loss: 10.019,\tTrain : 88.54%(88.54%),\tTest : 86.08%(86.08%),\tCurrent Time: 20250720-210909\n"
     ]
    },
    {
     "name": "stderr",
     "output_type": "stream",
     "text": [
      "Epoch 19/50:: 100%|\u001b[34m███████████████████\u001b[0m| 120/120 [00:02<00:00, 45.38batch/s, loss=0.339192]\u001b[0m\n"
     ]
    },
    {
     "name": "stdout",
     "output_type": "stream",
     "text": [
      "\t Loss: 10.376,\tTrain : 88.11%(88.54%),\tTest : 85.93%(86.08%),\tCurrent Time: 20250720-210913\n"
     ]
    },
    {
     "name": "stderr",
     "output_type": "stream",
     "text": [
      "Epoch 20/50:: 100%|\u001b[34m███████████████████\u001b[0m| 120/120 [00:02<00:00, 45.42batch/s, loss=0.336402]\u001b[0m\n"
     ]
    },
    {
     "name": "stdout",
     "output_type": "stream",
     "text": [
      "\t Loss: 9.692,\tTrain : 88.95%(88.95%),\tTest : 86.40%(86.40%),\tCurrent Time: 20250720-210916\n"
     ]
    },
    {
     "name": "stderr",
     "output_type": "stream",
     "text": [
      "Epoch 21/50:: 100%|\u001b[34m███████████████████\u001b[0m| 120/120 [00:02<00:00, 45.35batch/s, loss=0.333234]\u001b[0m\n"
     ]
    },
    {
     "name": "stdout",
     "output_type": "stream",
     "text": [
      "\t Loss: 9.656,\tTrain : 88.81%(88.95%),\tTest : 86.16%(86.40%),\tCurrent Time: 20250720-210919\n"
     ]
    },
    {
     "name": "stderr",
     "output_type": "stream",
     "text": [
      "Epoch 22/50:: 100%|\u001b[34m███████████████████\u001b[0m| 120/120 [00:02<00:00, 45.34batch/s, loss=0.324622]\u001b[0m\n"
     ]
    },
    {
     "name": "stdout",
     "output_type": "stream",
     "text": [
      "\t Loss: 9.316,\tTrain : 89.38%(89.38%),\tTest : 86.48%(86.48%),\tCurrent Time: 20250720-210922\n"
     ]
    },
    {
     "name": "stderr",
     "output_type": "stream",
     "text": [
      "Epoch 23/50:: 100%|\u001b[34m███████████████████\u001b[0m| 120/120 [00:02<00:00, 45.34batch/s, loss=0.324421]\u001b[0m\n"
     ]
    },
    {
     "name": "stdout",
     "output_type": "stream",
     "text": [
      "\t Loss: 9.693,\tTrain : 88.74%(89.38%),\tTest : 86.16%(86.48%),\tCurrent Time: 20250720-210925\n"
     ]
    },
    {
     "name": "stderr",
     "output_type": "stream",
     "text": [
      "Epoch 24/50:: 100%|\u001b[34m███████████████████\u001b[0m| 120/120 [00:02<00:00, 45.43batch/s, loss=0.323380]\u001b[0m\n"
     ]
    },
    {
     "name": "stdout",
     "output_type": "stream",
     "text": [
      "\t Loss: 9.247,\tTrain : 89.50%(89.50%),\tTest : 86.97%(86.97%),\tCurrent Time: 20250720-210928\n"
     ]
    },
    {
     "name": "stderr",
     "output_type": "stream",
     "text": [
      "Epoch 25/50:: 100%|\u001b[34m███████████████████\u001b[0m| 120/120 [00:02<00:00, 45.54batch/s, loss=0.307436]\u001b[0m\n"
     ]
    },
    {
     "name": "stdout",
     "output_type": "stream",
     "text": [
      "\t Loss: 9.156,\tTrain : 89.36%(89.50%),\tTest : 86.45%(86.97%),\tCurrent Time: 20250720-210931\n"
     ]
    },
    {
     "name": "stderr",
     "output_type": "stream",
     "text": [
      "Epoch 26/50:: 100%|\u001b[34m███████████████████\u001b[0m| 120/120 [00:02<00:00, 45.44batch/s, loss=0.307068]\u001b[0m\n"
     ]
    },
    {
     "name": "stdout",
     "output_type": "stream",
     "text": [
      "\t Loss: 8.735,\tTrain : 89.99%(89.99%),\tTest : 86.80%(86.97%),\tCurrent Time: 20250720-210935\n"
     ]
    },
    {
     "name": "stderr",
     "output_type": "stream",
     "text": [
      "Epoch 27/50:: 100%|\u001b[34m███████████████████\u001b[0m| 120/120 [00:02<00:00, 45.08batch/s, loss=0.300594]\u001b[0m\n"
     ]
    },
    {
     "name": "stdout",
     "output_type": "stream",
     "text": [
      "\t Loss: 9.267,\tTrain : 89.41%(89.99%),\tTest : 86.43%(86.97%),\tCurrent Time: 20250720-210938\n"
     ]
    },
    {
     "name": "stderr",
     "output_type": "stream",
     "text": [
      "Epoch 28/50:: 100%|\u001b[34m███████████████████\u001b[0m| 120/120 [00:02<00:00, 45.38batch/s, loss=0.299210]\u001b[0m\n"
     ]
    },
    {
     "name": "stdout",
     "output_type": "stream",
     "text": [
      "\t Loss: 8.499,\tTrain : 90.10%(90.10%),\tTest : 86.88%(86.97%),\tCurrent Time: 20250720-210941\n"
     ]
    },
    {
     "name": "stderr",
     "output_type": "stream",
     "text": [
      "Epoch 29/50:: 100%|\u001b[34m███████████████████\u001b[0m| 120/120 [00:02<00:00, 45.45batch/s, loss=0.295894]\u001b[0m\n"
     ]
    },
    {
     "name": "stdout",
     "output_type": "stream",
     "text": [
      "\t Loss: 8.659,\tTrain : 89.80%(90.10%),\tTest : 86.47%(86.97%),\tCurrent Time: 20250720-210944\n"
     ]
    },
    {
     "name": "stderr",
     "output_type": "stream",
     "text": [
      "Epoch 30/50:: 100%|\u001b[34m███████████████████\u001b[0m| 120/120 [00:02<00:00, 45.55batch/s, loss=0.290049]\u001b[0m\n"
     ]
    },
    {
     "name": "stdout",
     "output_type": "stream",
     "text": [
      "\t Loss: 8.789,\tTrain : 89.62%(90.10%),\tTest : 86.34%(86.97%),\tCurrent Time: 20250720-210947\n"
     ]
    },
    {
     "name": "stderr",
     "output_type": "stream",
     "text": [
      "Epoch 31/50:: 100%|\u001b[34m███████████████████\u001b[0m| 120/120 [00:02<00:00, 45.50batch/s, loss=0.288251]\u001b[0m\n"
     ]
    },
    {
     "name": "stdout",
     "output_type": "stream",
     "text": [
      "\t Loss: 8.733,\tTrain : 90.06%(90.10%),\tTest : 86.86%(86.97%),\tCurrent Time: 20250720-210950\n"
     ]
    },
    {
     "name": "stderr",
     "output_type": "stream",
     "text": [
      "Epoch 32/50:: 100%|\u001b[34m███████████████████\u001b[0m| 120/120 [00:02<00:00, 45.53batch/s, loss=0.291781]\u001b[0m\n"
     ]
    },
    {
     "name": "stdout",
     "output_type": "stream",
     "text": [
      "\t Loss: 8.772,\tTrain : 89.87%(90.10%),\tTest : 86.39%(86.97%),\tCurrent Time: 20250720-210953\n"
     ]
    },
    {
     "name": "stderr",
     "output_type": "stream",
     "text": [
      "Epoch 33/50:: 100%|\u001b[34m███████████████████\u001b[0m| 120/120 [00:02<00:00, 45.38batch/s, loss=0.284796]\u001b[0m\n"
     ]
    },
    {
     "name": "stdout",
     "output_type": "stream",
     "text": [
      "\t Loss: 8.288,\tTrain : 90.41%(90.41%),\tTest : 86.85%(86.97%),\tCurrent Time: 20250720-210956\n"
     ]
    },
    {
     "name": "stderr",
     "output_type": "stream",
     "text": [
      "Epoch 34/50:: 100%|\u001b[34m███████████████████\u001b[0m| 120/120 [00:02<00:00, 45.40batch/s, loss=0.283089]\u001b[0m\n"
     ]
    },
    {
     "name": "stdout",
     "output_type": "stream",
     "text": [
      "\t Loss: 7.997,\tTrain : 90.69%(90.69%),\tTest : 87.26%(87.26%),\tCurrent Time: 20250720-210959\n"
     ]
    },
    {
     "name": "stderr",
     "output_type": "stream",
     "text": [
      "Epoch 35/50:: 100%|\u001b[34m███████████████████\u001b[0m| 120/120 [00:02<00:00, 45.35batch/s, loss=0.274641]\u001b[0m\n"
     ]
    },
    {
     "name": "stdout",
     "output_type": "stream",
     "text": [
      "\t Loss: 7.893,\tTrain : 90.97%(90.97%),\tTest : 87.33%(87.33%),\tCurrent Time: 20250720-211003\n"
     ]
    },
    {
     "name": "stderr",
     "output_type": "stream",
     "text": [
      "Epoch 36/50:: 100%|\u001b[34m███████████████████\u001b[0m| 120/120 [00:02<00:00, 45.11batch/s, loss=0.272314]\u001b[0m\n"
     ]
    },
    {
     "name": "stdout",
     "output_type": "stream",
     "text": [
      "\t Loss: 8.130,\tTrain : 90.56%(90.97%),\tTest : 86.79%(87.33%),\tCurrent Time: 20250720-211006\n"
     ]
    },
    {
     "name": "stderr",
     "output_type": "stream",
     "text": [
      "Epoch 37/50:: 100%|\u001b[34m███████████████████\u001b[0m| 120/120 [00:02<00:00, 45.36batch/s, loss=0.272635]\u001b[0m\n"
     ]
    },
    {
     "name": "stdout",
     "output_type": "stream",
     "text": [
      "\t Loss: 7.874,\tTrain : 90.81%(90.97%),\tTest : 86.84%(87.33%),\tCurrent Time: 20250720-211009\n"
     ]
    },
    {
     "name": "stderr",
     "output_type": "stream",
     "text": [
      "Epoch 38/50:: 100%|\u001b[34m███████████████████\u001b[0m| 120/120 [00:02<00:00, 45.45batch/s, loss=0.268456]\u001b[0m\n"
     ]
    },
    {
     "name": "stdout",
     "output_type": "stream",
     "text": [
      "\t Loss: 7.699,\tTrain : 91.16%(91.16%),\tTest : 87.31%(87.33%),\tCurrent Time: 20250720-211012\n"
     ]
    },
    {
     "name": "stderr",
     "output_type": "stream",
     "text": [
      "Epoch 39/50:: 100%|\u001b[34m███████████████████\u001b[0m| 120/120 [00:02<00:00, 45.40batch/s, loss=0.265634]\u001b[0m\n"
     ]
    },
    {
     "name": "stdout",
     "output_type": "stream",
     "text": [
      "\t Loss: 7.873,\tTrain : 90.82%(91.16%),\tTest : 87.00%(87.33%),\tCurrent Time: 20250720-211015\n"
     ]
    },
    {
     "name": "stderr",
     "output_type": "stream",
     "text": [
      "Epoch 40/50:: 100%|\u001b[34m███████████████████\u001b[0m| 120/120 [00:02<00:00, 45.32batch/s, loss=0.262701]\u001b[0m\n"
     ]
    },
    {
     "name": "stdout",
     "output_type": "stream",
     "text": [
      "\t Loss: 7.413,\tTrain : 91.47%(91.47%),\tTest : 87.00%(87.33%),\tCurrent Time: 20250720-211018\n"
     ]
    },
    {
     "name": "stderr",
     "output_type": "stream",
     "text": [
      "Epoch 41/50:: 100%|\u001b[34m███████████████████\u001b[0m| 120/120 [00:02<00:00, 45.40batch/s, loss=0.260100]\u001b[0m\n"
     ]
    },
    {
     "name": "stdout",
     "output_type": "stream",
     "text": [
      "\t Loss: 8.216,\tTrain : 90.48%(91.47%),\tTest : 86.19%(87.33%),\tCurrent Time: 20250720-211021\n"
     ]
    },
    {
     "name": "stderr",
     "output_type": "stream",
     "text": [
      "Epoch 42/50:: 100%|\u001b[34m███████████████████\u001b[0m| 120/120 [00:02<00:00, 45.51batch/s, loss=0.255980]\u001b[0m\n"
     ]
    },
    {
     "name": "stdout",
     "output_type": "stream",
     "text": [
      "\t Loss: 7.294,\tTrain : 91.53%(91.53%),\tTest : 87.25%(87.33%),\tCurrent Time: 20250720-211025\n"
     ]
    },
    {
     "name": "stderr",
     "output_type": "stream",
     "text": [
      "Epoch 43/50:: 100%|\u001b[34m███████████████████\u001b[0m| 120/120 [00:02<00:00, 45.51batch/s, loss=0.250087]\u001b[0m\n"
     ]
    },
    {
     "name": "stdout",
     "output_type": "stream",
     "text": [
      "\t Loss: 6.998,\tTrain : 91.81%(91.81%),\tTest : 87.13%(87.33%),\tCurrent Time: 20250720-211028\n"
     ]
    },
    {
     "name": "stderr",
     "output_type": "stream",
     "text": [
      "Epoch 44/50:: 100%|\u001b[34m███████████████████\u001b[0m| 120/120 [00:02<00:00, 45.54batch/s, loss=0.251757]\u001b[0m\n"
     ]
    },
    {
     "name": "stdout",
     "output_type": "stream",
     "text": [
      "\t Loss: 7.486,\tTrain : 91.32%(91.81%),\tTest : 86.94%(87.33%),\tCurrent Time: 20250720-211031\n"
     ]
    },
    {
     "name": "stderr",
     "output_type": "stream",
     "text": [
      "Epoch 45/50:: 100%|\u001b[34m███████████████████\u001b[0m| 120/120 [00:02<00:00, 45.49batch/s, loss=0.252084]\u001b[0m\n"
     ]
    },
    {
     "name": "stdout",
     "output_type": "stream",
     "text": [
      "\t Loss: 7.698,\tTrain : 90.77%(91.81%),\tTest : 86.00%(87.33%),\tCurrent Time: 20250720-211034\n"
     ]
    },
    {
     "name": "stderr",
     "output_type": "stream",
     "text": [
      "Epoch 46/50:: 100%|\u001b[34m███████████████████\u001b[0m| 120/120 [00:02<00:00, 45.36batch/s, loss=0.249134]\u001b[0m\n"
     ]
    },
    {
     "name": "stdout",
     "output_type": "stream",
     "text": [
      "\t Loss: 7.140,\tTrain : 91.58%(91.81%),\tTest : 86.82%(87.33%),\tCurrent Time: 20250720-211037\n"
     ]
    },
    {
     "name": "stderr",
     "output_type": "stream",
     "text": [
      "Epoch 47/50:: 100%|\u001b[34m███████████████████\u001b[0m| 120/120 [00:02<00:00, 45.44batch/s, loss=0.249183]\u001b[0m\n"
     ]
    },
    {
     "name": "stdout",
     "output_type": "stream",
     "text": [
      "\t Loss: 7.000,\tTrain : 91.79%(91.81%),\tTest : 86.99%(87.33%),\tCurrent Time: 20250720-211040\n"
     ]
    },
    {
     "name": "stderr",
     "output_type": "stream",
     "text": [
      "Epoch 48/50:: 100%|\u001b[34m███████████████████\u001b[0m| 120/120 [00:02<00:00, 45.56batch/s, loss=0.248009]\u001b[0m\n"
     ]
    },
    {
     "name": "stdout",
     "output_type": "stream",
     "text": [
      "\t Loss: 7.031,\tTrain : 91.84%(91.84%),\tTest : 87.02%(87.33%),\tCurrent Time: 20250720-211043\n"
     ]
    },
    {
     "name": "stderr",
     "output_type": "stream",
     "text": [
      "Epoch 49/50:: 100%|\u001b[34m███████████████████\u001b[0m| 120/120 [00:02<00:00, 45.48batch/s, loss=0.240365]\u001b[0m\n"
     ]
    },
    {
     "name": "stdout",
     "output_type": "stream",
     "text": [
      "\t Loss: 7.155,\tTrain : 91.71%(91.84%),\tTest : 87.22%(87.33%),\tCurrent Time: 20250720-211046\n"
     ]
    },
    {
     "name": "stderr",
     "output_type": "stream",
     "text": [
      "Epoch 50/50:: 100%|\u001b[34m███████████████████\u001b[0m| 120/120 [00:02<00:00, 45.53batch/s, loss=0.235851]\u001b[0m\n"
     ]
    },
    {
     "name": "stdout",
     "output_type": "stream",
     "text": [
      "\t Loss: 7.338,\tTrain : 91.39%(91.84%),\tTest : 86.54%(87.33%),\tCurrent Time: 20250720-211049\n",
      "First_asymm_AG_10HL_Res-Task2-0-EP_L10--FMNIST_EP_b_sc0.1- Time: 20250720-211049, Epochs: 50, Learning Rate: 0.001, Best: 91.84%  87.33%\n",
      "\n",
      "[[0 1 0 0 0 0 0 0 0 0 0 0]\n",
      " [1 0 1 0 1 1 0 0 0 0 0 0]\n",
      " [0 1 0 1 0 1 0 0 0 1 0 0]\n",
      " [0 0 1 0 1 0 1 1 1 0 0 0]\n",
      " [0 0 0 1 0 1 0 0 0 0 0 0]\n",
      " [0 0 0 0 1 0 1 1 0 0 1 0]\n",
      " [0 0 0 1 0 1 0 1 0 1 0 0]\n",
      " [0 0 1 0 1 1 1 0 1 0 0 0]\n",
      " [0 0 0 0 0 1 1 1 0 1 0 0]\n",
      " [0 0 0 0 0 0 0 0 1 0 1 0]\n",
      " [0 0 0 0 0 0 0 0 1 1 0 1]\n",
      " [0 0 0 0 0 0 0 0 0 0 1 0]]\n",
      "First_asymm_AG_10HL_Res-Task2-0-EP_L10--FMNIST_EP_b_sc0.1-\n"
     ]
    },
    {
     "name": "stderr",
     "output_type": "stream",
     "text": [
      "Epoch 1/50:: 100%|\u001b[34m████████████████████\u001b[0m| 120/120 [00:02<00:00, 42.86batch/s, loss=2.226961]\u001b[0m\n"
     ]
    },
    {
     "name": "stdout",
     "output_type": "stream",
     "text": [
      "\t Loss: 50.373,\tTrain : 33.39%(33.39%),\tTest : 32.60%(32.60%),\tCurrent Time: 20250720-211057\n"
     ]
    },
    {
     "name": "stderr",
     "output_type": "stream",
     "text": [
      "Epoch 2/50:: 100%|\u001b[34m████████████████████\u001b[0m| 120/120 [00:02<00:00, 45.76batch/s, loss=1.206053]\u001b[0m\n"
     ]
    },
    {
     "name": "stdout",
     "output_type": "stream",
     "text": [
      "\t Loss: 25.523,\tTrain : 72.56%(72.56%),\tTest : 71.94%(71.94%),\tCurrent Time: 20250720-211100\n"
     ]
    },
    {
     "name": "stderr",
     "output_type": "stream",
     "text": [
      "Epoch 3/50:: 100%|\u001b[34m████████████████████\u001b[0m| 120/120 [00:02<00:00, 45.86batch/s, loss=0.744963]\u001b[0m\n"
     ]
    },
    {
     "name": "stdout",
     "output_type": "stream",
     "text": [
      "\t Loss: 19.941,\tTrain : 75.98%(75.98%),\tTest : 75.50%(75.50%),\tCurrent Time: 20250720-211103\n"
     ]
    },
    {
     "name": "stderr",
     "output_type": "stream",
     "text": [
      "Epoch 4/50:: 100%|\u001b[34m████████████████████\u001b[0m| 120/120 [00:02<00:00, 45.79batch/s, loss=0.624573]\u001b[0m\n"
     ]
    },
    {
     "name": "stdout",
     "output_type": "stream",
     "text": [
      "\t Loss: 17.808,\tTrain : 79.86%(79.86%),\tTest : 78.69%(78.69%),\tCurrent Time: 20250720-211106\n"
     ]
    },
    {
     "name": "stderr",
     "output_type": "stream",
     "text": [
      "Epoch 5/50:: 100%|\u001b[34m████████████████████\u001b[0m| 120/120 [00:02<00:00, 45.40batch/s, loss=0.563081]\u001b[0m\n"
     ]
    },
    {
     "name": "stdout",
     "output_type": "stream",
     "text": [
      "\t Loss: 16.414,\tTrain : 80.62%(80.62%),\tTest : 79.64%(79.64%),\tCurrent Time: 20250720-211110\n"
     ]
    },
    {
     "name": "stderr",
     "output_type": "stream",
     "text": [
      "Epoch 6/50:: 100%|\u001b[34m████████████████████\u001b[0m| 120/120 [00:02<00:00, 45.59batch/s, loss=0.523777]\u001b[0m\n"
     ]
    },
    {
     "name": "stdout",
     "output_type": "stream",
     "text": [
      "\t Loss: 15.065,\tTrain : 83.21%(83.21%),\tTest : 81.75%(81.75%),\tCurrent Time: 20250720-211113\n"
     ]
    },
    {
     "name": "stderr",
     "output_type": "stream",
     "text": [
      "Epoch 7/50:: 100%|\u001b[34m████████████████████\u001b[0m| 120/120 [00:02<00:00, 45.72batch/s, loss=0.492403]\u001b[0m\n"
     ]
    },
    {
     "name": "stdout",
     "output_type": "stream",
     "text": [
      "\t Loss: 14.385,\tTrain : 83.59%(83.59%),\tTest : 82.20%(82.20%),\tCurrent Time: 20250720-211116\n"
     ]
    },
    {
     "name": "stderr",
     "output_type": "stream",
     "text": [
      "Epoch 8/50:: 100%|\u001b[34m████████████████████\u001b[0m| 120/120 [00:02<00:00, 45.84batch/s, loss=0.476514]\u001b[0m\n"
     ]
    },
    {
     "name": "stdout",
     "output_type": "stream",
     "text": [
      "\t Loss: 14.072,\tTrain : 84.54%(84.54%),\tTest : 82.97%(82.97%),\tCurrent Time: 20250720-211119\n"
     ]
    },
    {
     "name": "stderr",
     "output_type": "stream",
     "text": [
      "Epoch 9/50:: 100%|\u001b[34m████████████████████\u001b[0m| 120/120 [00:02<00:00, 46.00batch/s, loss=0.459767]\u001b[0m\n"
     ]
    },
    {
     "name": "stdout",
     "output_type": "stream",
     "text": [
      "\t Loss: 13.870,\tTrain : 84.22%(84.54%),\tTest : 82.79%(82.97%),\tCurrent Time: 20250720-211122\n"
     ]
    },
    {
     "name": "stderr",
     "output_type": "stream",
     "text": [
      "Epoch 10/50:: 100%|\u001b[34m███████████████████\u001b[0m| 120/120 [00:02<00:00, 45.79batch/s, loss=0.449427]\u001b[0m\n"
     ]
    },
    {
     "name": "stdout",
     "output_type": "stream",
     "text": [
      "\t Loss: 13.080,\tTrain : 85.06%(85.06%),\tTest : 83.85%(83.85%),\tCurrent Time: 20250720-211125\n"
     ]
    },
    {
     "name": "stderr",
     "output_type": "stream",
     "text": [
      "Epoch 11/50:: 100%|\u001b[34m███████████████████\u001b[0m| 120/120 [00:02<00:00, 45.84batch/s, loss=0.431012]\u001b[0m\n"
     ]
    },
    {
     "name": "stdout",
     "output_type": "stream",
     "text": [
      "\t Loss: 13.099,\tTrain : 85.23%(85.23%),\tTest : 83.36%(83.85%),\tCurrent Time: 20250720-211128\n"
     ]
    },
    {
     "name": "stderr",
     "output_type": "stream",
     "text": [
      "Epoch 12/50:: 100%|\u001b[34m███████████████████\u001b[0m| 120/120 [00:02<00:00, 45.86batch/s, loss=0.420822]\u001b[0m\n"
     ]
    },
    {
     "name": "stdout",
     "output_type": "stream",
     "text": [
      "\t Loss: 12.171,\tTrain : 86.20%(86.20%),\tTest : 84.66%(84.66%),\tCurrent Time: 20250720-211131\n"
     ]
    },
    {
     "name": "stderr",
     "output_type": "stream",
     "text": [
      "Epoch 13/50:: 100%|\u001b[34m███████████████████\u001b[0m| 120/120 [00:02<00:00, 46.00batch/s, loss=0.406938]\u001b[0m\n"
     ]
    },
    {
     "name": "stdout",
     "output_type": "stream",
     "text": [
      "\t Loss: 12.126,\tTrain : 86.07%(86.20%),\tTest : 84.52%(84.66%),\tCurrent Time: 20250720-211134\n"
     ]
    },
    {
     "name": "stderr",
     "output_type": "stream",
     "text": [
      "Epoch 14/50:: 100%|\u001b[34m███████████████████\u001b[0m| 120/120 [00:02<00:00, 45.68batch/s, loss=0.401092]\u001b[0m\n"
     ]
    },
    {
     "name": "stdout",
     "output_type": "stream",
     "text": [
      "\t Loss: 12.252,\tTrain : 86.03%(86.20%),\tTest : 84.35%(84.66%),\tCurrent Time: 20250720-211137\n"
     ]
    },
    {
     "name": "stderr",
     "output_type": "stream",
     "text": [
      "Epoch 15/50:: 100%|\u001b[34m███████████████████\u001b[0m| 120/120 [00:02<00:00, 45.88batch/s, loss=0.397962]\u001b[0m\n"
     ]
    },
    {
     "name": "stdout",
     "output_type": "stream",
     "text": [
      "\t Loss: 11.812,\tTrain : 86.55%(86.55%),\tTest : 84.79%(84.79%),\tCurrent Time: 20250720-211140\n"
     ]
    },
    {
     "name": "stderr",
     "output_type": "stream",
     "text": [
      "Epoch 16/50:: 100%|\u001b[34m███████████████████\u001b[0m| 120/120 [00:02<00:00, 45.97batch/s, loss=0.388875]\u001b[0m\n"
     ]
    },
    {
     "name": "stdout",
     "output_type": "stream",
     "text": [
      "\t Loss: 11.319,\tTrain : 87.22%(87.22%),\tTest : 84.95%(84.95%),\tCurrent Time: 20250720-211144\n"
     ]
    },
    {
     "name": "stderr",
     "output_type": "stream",
     "text": [
      "Epoch 17/50:: 100%|\u001b[34m███████████████████\u001b[0m| 120/120 [00:02<00:00, 45.97batch/s, loss=0.384891]\u001b[0m\n"
     ]
    },
    {
     "name": "stdout",
     "output_type": "stream",
     "text": [
      "\t Loss: 11.189,\tTrain : 87.30%(87.30%),\tTest : 85.51%(85.51%),\tCurrent Time: 20250720-211147\n"
     ]
    },
    {
     "name": "stderr",
     "output_type": "stream",
     "text": [
      "Epoch 18/50:: 100%|\u001b[34m███████████████████\u001b[0m| 120/120 [00:02<00:00, 45.86batch/s, loss=0.374563]\u001b[0m\n"
     ]
    },
    {
     "name": "stdout",
     "output_type": "stream",
     "text": [
      "\t Loss: 11.002,\tTrain : 87.47%(87.47%),\tTest : 85.34%(85.51%),\tCurrent Time: 20250720-211150\n"
     ]
    },
    {
     "name": "stderr",
     "output_type": "stream",
     "text": [
      "Epoch 19/50:: 100%|\u001b[34m███████████████████\u001b[0m| 120/120 [00:02<00:00, 45.86batch/s, loss=0.371722]\u001b[0m\n"
     ]
    },
    {
     "name": "stdout",
     "output_type": "stream",
     "text": [
      "\t Loss: 10.821,\tTrain : 87.59%(87.59%),\tTest : 85.83%(85.83%),\tCurrent Time: 20250720-211153\n"
     ]
    },
    {
     "name": "stderr",
     "output_type": "stream",
     "text": [
      "Epoch 20/50:: 100%|\u001b[34m███████████████████\u001b[0m| 120/120 [00:02<00:00, 45.89batch/s, loss=0.365435]\u001b[0m\n"
     ]
    },
    {
     "name": "stdout",
     "output_type": "stream",
     "text": [
      "\t Loss: 10.499,\tTrain : 87.94%(87.94%),\tTest : 85.98%(85.98%),\tCurrent Time: 20250720-211156\n"
     ]
    },
    {
     "name": "stderr",
     "output_type": "stream",
     "text": [
      "Epoch 21/50:: 100%|\u001b[34m███████████████████\u001b[0m| 120/120 [00:02<00:00, 45.84batch/s, loss=0.358030]\u001b[0m\n"
     ]
    },
    {
     "name": "stdout",
     "output_type": "stream",
     "text": [
      "\t Loss: 10.442,\tTrain : 88.15%(88.15%),\tTest : 85.86%(85.98%),\tCurrent Time: 20250720-211159\n"
     ]
    },
    {
     "name": "stderr",
     "output_type": "stream",
     "text": [
      "Epoch 22/50:: 100%|\u001b[34m███████████████████\u001b[0m| 120/120 [00:02<00:00, 45.68batch/s, loss=0.355676]\u001b[0m\n"
     ]
    },
    {
     "name": "stdout",
     "output_type": "stream",
     "text": [
      "\t Loss: 10.598,\tTrain : 88.03%(88.15%),\tTest : 85.72%(85.98%),\tCurrent Time: 20250720-211202\n"
     ]
    },
    {
     "name": "stderr",
     "output_type": "stream",
     "text": [
      "Epoch 23/50:: 100%|\u001b[34m███████████████████\u001b[0m| 120/120 [00:02<00:00, 45.92batch/s, loss=0.355053]\u001b[0m\n"
     ]
    },
    {
     "name": "stdout",
     "output_type": "stream",
     "text": [
      "\t Loss: 10.290,\tTrain : 88.35%(88.35%),\tTest : 86.23%(86.23%),\tCurrent Time: 20250720-211205\n"
     ]
    },
    {
     "name": "stderr",
     "output_type": "stream",
     "text": [
      "Epoch 24/50:: 100%|\u001b[34m███████████████████\u001b[0m| 120/120 [00:02<00:00, 45.93batch/s, loss=0.352096]\u001b[0m\n"
     ]
    },
    {
     "name": "stdout",
     "output_type": "stream",
     "text": [
      "\t Loss: 10.298,\tTrain : 88.10%(88.35%),\tTest : 85.83%(86.23%),\tCurrent Time: 20250720-211208\n"
     ]
    },
    {
     "name": "stderr",
     "output_type": "stream",
     "text": [
      "Epoch 25/50:: 100%|\u001b[34m███████████████████\u001b[0m| 120/120 [00:02<00:00, 45.94batch/s, loss=0.347003]\u001b[0m\n"
     ]
    },
    {
     "name": "stdout",
     "output_type": "stream",
     "text": [
      "\t Loss: 10.148,\tTrain : 88.24%(88.35%),\tTest : 85.89%(86.23%),\tCurrent Time: 20250720-211211\n"
     ]
    },
    {
     "name": "stderr",
     "output_type": "stream",
     "text": [
      "Epoch 26/50:: 100%|\u001b[34m███████████████████\u001b[0m| 120/120 [00:02<00:00, 45.60batch/s, loss=0.346904]\u001b[0m\n"
     ]
    },
    {
     "name": "stdout",
     "output_type": "stream",
     "text": [
      "\t Loss: 10.309,\tTrain : 88.35%(88.35%),\tTest : 86.13%(86.23%),\tCurrent Time: 20250720-211215\n"
     ]
    },
    {
     "name": "stderr",
     "output_type": "stream",
     "text": [
      "Epoch 27/50:: 100%|\u001b[34m███████████████████\u001b[0m| 120/120 [00:02<00:00, 45.57batch/s, loss=0.340966]\u001b[0m\n"
     ]
    },
    {
     "name": "stdout",
     "output_type": "stream",
     "text": [
      "\t Loss: 10.174,\tTrain : 88.48%(88.48%),\tTest : 86.21%(86.23%),\tCurrent Time: 20250720-211218\n"
     ]
    },
    {
     "name": "stderr",
     "output_type": "stream",
     "text": [
      "Epoch 28/50:: 100%|\u001b[34m███████████████████\u001b[0m| 120/120 [00:02<00:00, 45.81batch/s, loss=0.340973]\u001b[0m\n"
     ]
    },
    {
     "name": "stdout",
     "output_type": "stream",
     "text": [
      "\t Loss: 10.239,\tTrain : 88.16%(88.48%),\tTest : 85.82%(86.23%),\tCurrent Time: 20250720-211221\n"
     ]
    },
    {
     "name": "stderr",
     "output_type": "stream",
     "text": [
      "Epoch 29/50:: 100%|\u001b[34m███████████████████\u001b[0m| 120/120 [00:02<00:00, 45.79batch/s, loss=0.334959]\u001b[0m\n"
     ]
    },
    {
     "name": "stdout",
     "output_type": "stream",
     "text": [
      "\t Loss: 9.738,\tTrain : 88.86%(88.86%),\tTest : 86.43%(86.43%),\tCurrent Time: 20250720-211224\n"
     ]
    },
    {
     "name": "stderr",
     "output_type": "stream",
     "text": [
      "Epoch 30/50:: 100%|\u001b[34m███████████████████\u001b[0m| 120/120 [00:02<00:00, 45.86batch/s, loss=0.332620]\u001b[0m\n"
     ]
    },
    {
     "name": "stdout",
     "output_type": "stream",
     "text": [
      "\t Loss: 9.313,\tTrain : 89.23%(89.23%),\tTest : 86.71%(86.71%),\tCurrent Time: 20250720-211227\n"
     ]
    },
    {
     "name": "stderr",
     "output_type": "stream",
     "text": [
      "Epoch 31/50:: 100%|\u001b[34m███████████████████\u001b[0m| 120/120 [00:02<00:00, 45.98batch/s, loss=0.330300]\u001b[0m\n"
     ]
    },
    {
     "name": "stdout",
     "output_type": "stream",
     "text": [
      "\t Loss: 10.308,\tTrain : 88.06%(89.23%),\tTest : 85.70%(86.71%),\tCurrent Time: 20250720-211230\n"
     ]
    },
    {
     "name": "stderr",
     "output_type": "stream",
     "text": [
      "Epoch 32/50:: 100%|\u001b[34m███████████████████\u001b[0m| 120/120 [00:02<00:00, 45.79batch/s, loss=0.327046]\u001b[0m\n"
     ]
    },
    {
     "name": "stdout",
     "output_type": "stream",
     "text": [
      "\t Loss: 9.631,\tTrain : 88.73%(89.23%),\tTest : 86.14%(86.71%),\tCurrent Time: 20250720-211233\n"
     ]
    },
    {
     "name": "stderr",
     "output_type": "stream",
     "text": [
      "Epoch 33/50:: 100%|\u001b[34m███████████████████\u001b[0m| 120/120 [00:02<00:00, 45.99batch/s, loss=0.318796]\u001b[0m\n"
     ]
    },
    {
     "name": "stdout",
     "output_type": "stream",
     "text": [
      "\t Loss: 9.490,\tTrain : 89.12%(89.23%),\tTest : 86.47%(86.71%),\tCurrent Time: 20250720-211236\n"
     ]
    },
    {
     "name": "stderr",
     "output_type": "stream",
     "text": [
      "Epoch 34/50:: 100%|\u001b[34m███████████████████\u001b[0m| 120/120 [00:02<00:00, 45.96batch/s, loss=0.311908]\u001b[0m\n"
     ]
    },
    {
     "name": "stdout",
     "output_type": "stream",
     "text": [
      "\t Loss: 9.113,\tTrain : 89.43%(89.43%),\tTest : 86.52%(86.71%),\tCurrent Time: 20250720-211239\n"
     ]
    },
    {
     "name": "stderr",
     "output_type": "stream",
     "text": [
      "Epoch 35/50:: 100%|\u001b[34m███████████████████\u001b[0m| 120/120 [00:02<00:00, 46.03batch/s, loss=0.318024]\u001b[0m\n"
     ]
    },
    {
     "name": "stdout",
     "output_type": "stream",
     "text": [
      "\t Loss: 9.216,\tTrain : 89.30%(89.43%),\tTest : 86.53%(86.71%),\tCurrent Time: 20250720-211242\n"
     ]
    },
    {
     "name": "stderr",
     "output_type": "stream",
     "text": [
      "Epoch 36/50:: 100%|\u001b[34m███████████████████\u001b[0m| 120/120 [00:02<00:00, 45.93batch/s, loss=0.316658]\u001b[0m\n"
     ]
    },
    {
     "name": "stdout",
     "output_type": "stream",
     "text": [
      "\t Loss: 9.112,\tTrain : 89.44%(89.44%),\tTest : 86.38%(86.71%),\tCurrent Time: 20250720-211245\n"
     ]
    },
    {
     "name": "stderr",
     "output_type": "stream",
     "text": [
      "Epoch 37/50:: 100%|\u001b[34m███████████████████\u001b[0m| 120/120 [00:02<00:00, 45.84batch/s, loss=0.315570]\u001b[0m\n"
     ]
    },
    {
     "name": "stdout",
     "output_type": "stream",
     "text": [
      "\t Loss: 8.810,\tTrain : 89.73%(89.73%),\tTest : 86.78%(86.78%),\tCurrent Time: 20250720-211249\n"
     ]
    },
    {
     "name": "stderr",
     "output_type": "stream",
     "text": [
      "Epoch 38/50:: 100%|\u001b[34m███████████████████\u001b[0m| 120/120 [00:02<00:00, 45.93batch/s, loss=0.315563]\u001b[0m\n"
     ]
    },
    {
     "name": "stdout",
     "output_type": "stream",
     "text": [
      "\t Loss: 9.047,\tTrain : 89.74%(89.74%),\tTest : 86.70%(86.78%),\tCurrent Time: 20250720-211252\n"
     ]
    },
    {
     "name": "stderr",
     "output_type": "stream",
     "text": [
      "Epoch 39/50:: 100%|\u001b[34m███████████████████\u001b[0m| 120/120 [00:02<00:00, 46.05batch/s, loss=0.309755]\u001b[0m\n"
     ]
    },
    {
     "name": "stdout",
     "output_type": "stream",
     "text": [
      "\t Loss: 9.591,\tTrain : 89.05%(89.74%),\tTest : 86.08%(86.78%),\tCurrent Time: 20250720-211255\n"
     ]
    },
    {
     "name": "stderr",
     "output_type": "stream",
     "text": [
      "Epoch 40/50:: 100%|\u001b[34m███████████████████\u001b[0m| 120/120 [00:02<00:00, 45.81batch/s, loss=0.321391]\u001b[0m\n"
     ]
    },
    {
     "name": "stdout",
     "output_type": "stream",
     "text": [
      "\t Loss: 9.569,\tTrain : 88.89%(89.74%),\tTest : 86.04%(86.78%),\tCurrent Time: 20250720-211258\n"
     ]
    },
    {
     "name": "stderr",
     "output_type": "stream",
     "text": [
      "Epoch 41/50:: 100%|\u001b[34m███████████████████\u001b[0m| 120/120 [00:02<00:00, 45.84batch/s, loss=0.314848]\u001b[0m\n"
     ]
    },
    {
     "name": "stdout",
     "output_type": "stream",
     "text": [
      "\t Loss: 9.283,\tTrain : 89.23%(89.74%),\tTest : 86.37%(86.78%),\tCurrent Time: 20250720-211301\n"
     ]
    },
    {
     "name": "stderr",
     "output_type": "stream",
     "text": [
      "Epoch 42/50:: 100%|\u001b[34m███████████████████\u001b[0m| 120/120 [00:02<00:00, 45.90batch/s, loss=0.313595]\u001b[0m\n"
     ]
    },
    {
     "name": "stdout",
     "output_type": "stream",
     "text": [
      "\t Loss: 8.921,\tTrain : 89.52%(89.74%),\tTest : 86.51%(86.78%),\tCurrent Time: 20250720-211304\n"
     ]
    },
    {
     "name": "stderr",
     "output_type": "stream",
     "text": [
      "Epoch 43/50:: 100%|\u001b[34m███████████████████\u001b[0m| 120/120 [00:02<00:00, 45.80batch/s, loss=0.317457]\u001b[0m\n"
     ]
    },
    {
     "name": "stdout",
     "output_type": "stream",
     "text": [
      "\t Loss: 9.320,\tTrain : 89.07%(89.74%),\tTest : 86.27%(86.78%),\tCurrent Time: 20250720-211307\n"
     ]
    },
    {
     "name": "stderr",
     "output_type": "stream",
     "text": [
      "Epoch 44/50:: 100%|\u001b[34m███████████████████\u001b[0m| 120/120 [00:02<00:00, 45.93batch/s, loss=0.312791]\u001b[0m\n"
     ]
    },
    {
     "name": "stdout",
     "output_type": "stream",
     "text": [
      "\t Loss: 9.006,\tTrain : 89.49%(89.74%),\tTest : 86.74%(86.78%),\tCurrent Time: 20250720-211310\n"
     ]
    },
    {
     "name": "stderr",
     "output_type": "stream",
     "text": [
      "Epoch 45/50:: 100%|\u001b[34m███████████████████\u001b[0m| 120/120 [00:02<00:00, 46.05batch/s, loss=0.308883]\u001b[0m\n"
     ]
    },
    {
     "name": "stdout",
     "output_type": "stream",
     "text": [
      "\t Loss: 9.080,\tTrain : 89.71%(89.74%),\tTest : 86.53%(86.78%),\tCurrent Time: 20250720-211313\n"
     ]
    },
    {
     "name": "stderr",
     "output_type": "stream",
     "text": [
      "Epoch 46/50:: 100%|\u001b[34m███████████████████\u001b[0m| 120/120 [00:02<00:00, 46.02batch/s, loss=0.309981]\u001b[0m\n"
     ]
    },
    {
     "name": "stdout",
     "output_type": "stream",
     "text": [
      "\t Loss: 9.148,\tTrain : 89.41%(89.74%),\tTest : 86.65%(86.78%),\tCurrent Time: 20250720-211316\n"
     ]
    },
    {
     "name": "stderr",
     "output_type": "stream",
     "text": [
      "Epoch 47/50:: 100%|\u001b[34m███████████████████\u001b[0m| 120/120 [00:02<00:00, 45.78batch/s, loss=0.314849]\u001b[0m\n"
     ]
    },
    {
     "name": "stdout",
     "output_type": "stream",
     "text": [
      "\t Loss: 8.773,\tTrain : 89.92%(89.92%),\tTest : 86.76%(86.78%),\tCurrent Time: 20250720-211319\n"
     ]
    },
    {
     "name": "stderr",
     "output_type": "stream",
     "text": [
      "Epoch 48/50:: 100%|\u001b[34m███████████████████\u001b[0m| 120/120 [00:02<00:00, 45.85batch/s, loss=0.304983]\u001b[0m\n"
     ]
    },
    {
     "name": "stdout",
     "output_type": "stream",
     "text": [
      "\t Loss: 9.075,\tTrain : 89.86%(89.92%),\tTest : 86.78%(86.78%),\tCurrent Time: 20250720-211323\n"
     ]
    },
    {
     "name": "stderr",
     "output_type": "stream",
     "text": [
      "Epoch 49/50:: 100%|\u001b[34m███████████████████\u001b[0m| 120/120 [00:02<00:00, 45.87batch/s, loss=0.300834]\u001b[0m\n"
     ]
    },
    {
     "name": "stdout",
     "output_type": "stream",
     "text": [
      "\t Loss: 9.028,\tTrain : 89.67%(89.92%),\tTest : 86.74%(86.78%),\tCurrent Time: 20250720-211326\n"
     ]
    },
    {
     "name": "stderr",
     "output_type": "stream",
     "text": [
      "Epoch 50/50:: 100%|\u001b[34m███████████████████\u001b[0m| 120/120 [00:02<00:00, 45.86batch/s, loss=0.313424]\u001b[0m\n"
     ]
    },
    {
     "name": "stdout",
     "output_type": "stream",
     "text": [
      "\t Loss: 8.725,\tTrain : 90.01%(90.01%),\tTest : 86.82%(86.82%),\tCurrent Time: 20250720-211329\n",
      "First_asymm_AG_10HL_Res-Task2-0-EP_L10--FMNIST_EP_b_sc0.1- Time: 20250720-211329, Epochs: 50, Learning Rate: 0.001, Best: 90.01%  86.82%\n",
      "\n",
      "[[0 1 0 0 0 0 0 0 0 0 0 0]\n",
      " [1 0 1 0 0 0 0 0 1 0 0 0]\n",
      " [0 1 0 1 0 1 0 0 0 0 0 0]\n",
      " [0 1 1 0 1 1 0 0 0 1 0 0]\n",
      " [0 0 0 1 0 1 0 0 1 0 0 0]\n",
      " [0 0 1 0 1 0 1 0 1 0 0 0]\n",
      " [0 0 0 0 0 1 0 1 0 0 1 0]\n",
      " [0 0 0 0 0 0 1 0 1 0 0 0]\n",
      " [0 0 0 0 0 0 0 1 0 1 0 0]\n",
      " [0 0 0 0 1 0 1 0 1 0 1 0]\n",
      " [0 0 0 0 0 0 0 0 0 1 0 1]\n",
      " [0 0 0 0 0 0 0 0 0 0 1 0]]\n",
      "First_asymm_AG_10HL_Res-Task2-0-EP_L10--FMNIST_EP_b_sc0.1-\n"
     ]
    },
    {
     "name": "stderr",
     "output_type": "stream",
     "text": [
      "Epoch 1/50:: 100%|\u001b[34m████████████████████\u001b[0m| 120/120 [00:02<00:00, 44.59batch/s, loss=2.017627]\u001b[0m\n"
     ]
    },
    {
     "name": "stdout",
     "output_type": "stream",
     "text": [
      "\t Loss: 46.713,\tTrain : 49.33%(49.33%),\tTest : 49.24%(49.24%),\tCurrent Time: 20250720-211336\n"
     ]
    },
    {
     "name": "stderr",
     "output_type": "stream",
     "text": [
      "Epoch 2/50:: 100%|\u001b[34m████████████████████\u001b[0m| 120/120 [00:02<00:00, 47.15batch/s, loss=1.025980]\u001b[0m\n"
     ]
    },
    {
     "name": "stdout",
     "output_type": "stream",
     "text": [
      "\t Loss: 22.237,\tTrain : 77.06%(77.06%),\tTest : 76.27%(76.27%),\tCurrent Time: 20250720-211339\n"
     ]
    },
    {
     "name": "stderr",
     "output_type": "stream",
     "text": [
      "Epoch 3/50:: 100%|\u001b[34m████████████████████\u001b[0m| 120/120 [00:02<00:00, 46.74batch/s, loss=0.661578]\u001b[0m\n"
     ]
    },
    {
     "name": "stdout",
     "output_type": "stream",
     "text": [
      "\t Loss: 18.363,\tTrain : 80.34%(80.34%),\tTest : 79.11%(79.11%),\tCurrent Time: 20250720-211342\n"
     ]
    },
    {
     "name": "stderr",
     "output_type": "stream",
     "text": [
      "Epoch 4/50:: 100%|\u001b[34m████████████████████\u001b[0m| 120/120 [00:02<00:00, 47.08batch/s, loss=0.566373]\u001b[0m\n"
     ]
    },
    {
     "name": "stdout",
     "output_type": "stream",
     "text": [
      "\t Loss: 15.942,\tTrain : 82.58%(82.58%),\tTest : 81.48%(81.48%),\tCurrent Time: 20250720-211345\n"
     ]
    },
    {
     "name": "stderr",
     "output_type": "stream",
     "text": [
      "Epoch 5/50:: 100%|\u001b[34m████████████████████\u001b[0m| 120/120 [00:02<00:00, 47.16batch/s, loss=0.509605]\u001b[0m\n"
     ]
    },
    {
     "name": "stdout",
     "output_type": "stream",
     "text": [
      "\t Loss: 14.728,\tTrain : 83.92%(83.92%),\tTest : 82.46%(82.46%),\tCurrent Time: 20250720-211348\n"
     ]
    },
    {
     "name": "stderr",
     "output_type": "stream",
     "text": [
      "Epoch 6/50:: 100%|\u001b[34m████████████████████\u001b[0m| 120/120 [00:02<00:00, 47.22batch/s, loss=0.484525]\u001b[0m\n"
     ]
    },
    {
     "name": "stdout",
     "output_type": "stream",
     "text": [
      "\t Loss: 13.717,\tTrain : 84.43%(84.43%),\tTest : 83.26%(83.26%),\tCurrent Time: 20250720-211351\n"
     ]
    },
    {
     "name": "stderr",
     "output_type": "stream",
     "text": [
      "Epoch 7/50:: 100%|\u001b[34m████████████████████\u001b[0m| 120/120 [00:02<00:00, 47.21batch/s, loss=0.458501]\u001b[0m\n"
     ]
    },
    {
     "name": "stdout",
     "output_type": "stream",
     "text": [
      "\t Loss: 13.637,\tTrain : 84.61%(84.61%),\tTest : 83.26%(83.26%),\tCurrent Time: 20250720-211354\n"
     ]
    },
    {
     "name": "stderr",
     "output_type": "stream",
     "text": [
      "Epoch 8/50:: 100%|\u001b[34m████████████████████\u001b[0m| 120/120 [00:02<00:00, 47.26batch/s, loss=0.438457]\u001b[0m\n"
     ]
    },
    {
     "name": "stdout",
     "output_type": "stream",
     "text": [
      "\t Loss: 12.652,\tTrain : 85.83%(85.83%),\tTest : 84.15%(84.15%),\tCurrent Time: 20250720-211357\n"
     ]
    },
    {
     "name": "stderr",
     "output_type": "stream",
     "text": [
      "Epoch 9/50:: 100%|\u001b[34m████████████████████\u001b[0m| 120/120 [00:02<00:00, 47.20batch/s, loss=0.431798]\u001b[0m\n"
     ]
    },
    {
     "name": "stdout",
     "output_type": "stream",
     "text": [
      "\t Loss: 13.004,\tTrain : 85.69%(85.83%),\tTest : 84.14%(84.15%),\tCurrent Time: 20250720-211400\n"
     ]
    },
    {
     "name": "stderr",
     "output_type": "stream",
     "text": [
      "Epoch 10/50:: 100%|\u001b[34m███████████████████\u001b[0m| 120/120 [00:02<00:00, 47.27batch/s, loss=0.411449]\u001b[0m\n"
     ]
    },
    {
     "name": "stdout",
     "output_type": "stream",
     "text": [
      "\t Loss: 11.894,\tTrain : 86.47%(86.47%),\tTest : 84.80%(84.80%),\tCurrent Time: 20250720-211403\n"
     ]
    },
    {
     "name": "stderr",
     "output_type": "stream",
     "text": [
      "Epoch 11/50:: 100%|\u001b[34m███████████████████\u001b[0m| 120/120 [00:02<00:00, 47.19batch/s, loss=0.403462]\u001b[0m\n"
     ]
    },
    {
     "name": "stdout",
     "output_type": "stream",
     "text": [
      "\t Loss: 11.648,\tTrain : 86.90%(86.90%),\tTest : 85.22%(85.22%),\tCurrent Time: 20250720-211406\n"
     ]
    },
    {
     "name": "stderr",
     "output_type": "stream",
     "text": [
      "Epoch 12/50:: 100%|\u001b[34m███████████████████\u001b[0m| 120/120 [00:02<00:00, 47.20batch/s, loss=0.392501]\u001b[0m\n"
     ]
    },
    {
     "name": "stdout",
     "output_type": "stream",
     "text": [
      "\t Loss: 11.603,\tTrain : 86.85%(86.90%),\tTest : 84.86%(85.22%),\tCurrent Time: 20250720-211409\n"
     ]
    },
    {
     "name": "stderr",
     "output_type": "stream",
     "text": [
      "Epoch 13/50:: 100%|\u001b[34m███████████████████\u001b[0m| 120/120 [00:02<00:00, 47.27batch/s, loss=0.386257]\u001b[0m\n"
     ]
    },
    {
     "name": "stdout",
     "output_type": "stream",
     "text": [
      "\t Loss: 11.563,\tTrain : 87.08%(87.08%),\tTest : 85.20%(85.22%),\tCurrent Time: 20250720-211413\n"
     ]
    },
    {
     "name": "stderr",
     "output_type": "stream",
     "text": [
      "Epoch 14/50:: 100%|\u001b[34m███████████████████\u001b[0m| 120/120 [00:02<00:00, 47.30batch/s, loss=0.376390]\u001b[0m\n"
     ]
    },
    {
     "name": "stdout",
     "output_type": "stream",
     "text": [
      "\t Loss: 11.276,\tTrain : 87.10%(87.10%),\tTest : 85.35%(85.35%),\tCurrent Time: 20250720-211416\n"
     ]
    },
    {
     "name": "stderr",
     "output_type": "stream",
     "text": [
      "Epoch 15/50:: 100%|\u001b[34m███████████████████\u001b[0m| 120/120 [00:02<00:00, 47.01batch/s, loss=0.367170]\u001b[0m\n"
     ]
    },
    {
     "name": "stdout",
     "output_type": "stream",
     "text": [
      "\t Loss: 10.898,\tTrain : 87.54%(87.54%),\tTest : 85.28%(85.35%),\tCurrent Time: 20250720-211419\n"
     ]
    },
    {
     "name": "stderr",
     "output_type": "stream",
     "text": [
      "Epoch 16/50:: 100%|\u001b[34m███████████████████\u001b[0m| 120/120 [00:02<00:00, 47.18batch/s, loss=0.355223]\u001b[0m\n"
     ]
    },
    {
     "name": "stdout",
     "output_type": "stream",
     "text": [
      "\t Loss: 10.447,\tTrain : 88.18%(88.18%),\tTest : 86.19%(86.19%),\tCurrent Time: 20250720-211422\n"
     ]
    },
    {
     "name": "stderr",
     "output_type": "stream",
     "text": [
      "Epoch 17/50:: 100%|\u001b[34m███████████████████\u001b[0m| 120/120 [00:02<00:00, 47.11batch/s, loss=0.352662]\u001b[0m\n"
     ]
    },
    {
     "name": "stdout",
     "output_type": "stream",
     "text": [
      "\t Loss: 10.260,\tTrain : 88.15%(88.18%),\tTest : 85.91%(86.19%),\tCurrent Time: 20250720-211425\n"
     ]
    },
    {
     "name": "stderr",
     "output_type": "stream",
     "text": [
      "Epoch 18/50:: 100%|\u001b[34m███████████████████\u001b[0m| 120/120 [00:02<00:00, 47.09batch/s, loss=0.346313]\u001b[0m\n"
     ]
    },
    {
     "name": "stdout",
     "output_type": "stream",
     "text": [
      "\t Loss: 9.974,\tTrain : 88.53%(88.53%),\tTest : 86.13%(86.19%),\tCurrent Time: 20250720-211428\n"
     ]
    },
    {
     "name": "stderr",
     "output_type": "stream",
     "text": [
      "Epoch 19/50:: 100%|\u001b[34m███████████████████\u001b[0m| 120/120 [00:02<00:00, 47.32batch/s, loss=0.344053]\u001b[0m\n"
     ]
    },
    {
     "name": "stdout",
     "output_type": "stream",
     "text": [
      "\t Loss: 9.639,\tTrain : 88.85%(88.85%),\tTest : 86.49%(86.49%),\tCurrent Time: 20250720-211431\n"
     ]
    },
    {
     "name": "stderr",
     "output_type": "stream",
     "text": [
      "Epoch 20/50:: 100%|\u001b[34m███████████████████\u001b[0m| 120/120 [00:02<00:00, 47.16batch/s, loss=0.342780]\u001b[0m\n"
     ]
    },
    {
     "name": "stdout",
     "output_type": "stream",
     "text": [
      "\t Loss: 10.028,\tTrain : 88.31%(88.85%),\tTest : 86.24%(86.49%),\tCurrent Time: 20250720-211434\n"
     ]
    },
    {
     "name": "stderr",
     "output_type": "stream",
     "text": [
      "Epoch 21/50:: 100%|\u001b[34m███████████████████\u001b[0m| 120/120 [00:02<00:00, 47.09batch/s, loss=0.335076]\u001b[0m\n"
     ]
    },
    {
     "name": "stdout",
     "output_type": "stream",
     "text": [
      "\t Loss: 9.858,\tTrain : 88.70%(88.85%),\tTest : 86.13%(86.49%),\tCurrent Time: 20250720-211437\n"
     ]
    },
    {
     "name": "stderr",
     "output_type": "stream",
     "text": [
      "Epoch 22/50:: 100%|\u001b[34m███████████████████\u001b[0m| 120/120 [00:02<00:00, 46.99batch/s, loss=0.332397]\u001b[0m\n"
     ]
    },
    {
     "name": "stdout",
     "output_type": "stream",
     "text": [
      "\t Loss: 10.166,\tTrain : 88.48%(88.85%),\tTest : 86.10%(86.49%),\tCurrent Time: 20250720-211440\n"
     ]
    },
    {
     "name": "stderr",
     "output_type": "stream",
     "text": [
      "Epoch 23/50:: 100%|\u001b[34m███████████████████\u001b[0m| 120/120 [00:02<00:00, 47.14batch/s, loss=0.333286]\u001b[0m\n"
     ]
    },
    {
     "name": "stdout",
     "output_type": "stream",
     "text": [
      "\t Loss: 9.621,\tTrain : 89.11%(89.11%),\tTest : 86.64%(86.64%),\tCurrent Time: 20250720-211443\n"
     ]
    },
    {
     "name": "stderr",
     "output_type": "stream",
     "text": [
      "Epoch 24/50:: 100%|\u001b[34m███████████████████\u001b[0m| 120/120 [00:02<00:00, 47.09batch/s, loss=0.325258]\u001b[0m\n"
     ]
    },
    {
     "name": "stdout",
     "output_type": "stream",
     "text": [
      "\t Loss: 9.577,\tTrain : 88.87%(89.11%),\tTest : 86.57%(86.64%),\tCurrent Time: 20250720-211446\n"
     ]
    },
    {
     "name": "stderr",
     "output_type": "stream",
     "text": [
      "Epoch 25/50:: 100%|\u001b[34m███████████████████\u001b[0m| 120/120 [00:02<00:00, 47.18batch/s, loss=0.321878]\u001b[0m\n"
     ]
    },
    {
     "name": "stdout",
     "output_type": "stream",
     "text": [
      "\t Loss: 10.471,\tTrain : 87.83%(89.11%),\tTest : 85.23%(86.64%),\tCurrent Time: 20250720-211449\n"
     ]
    },
    {
     "name": "stderr",
     "output_type": "stream",
     "text": [
      "Epoch 26/50:: 100%|\u001b[34m███████████████████\u001b[0m| 120/120 [00:02<00:00, 47.20batch/s, loss=0.319598]\u001b[0m\n"
     ]
    },
    {
     "name": "stdout",
     "output_type": "stream",
     "text": [
      "\t Loss: 9.310,\tTrain : 89.45%(89.45%),\tTest : 86.65%(86.65%),\tCurrent Time: 20250720-211452\n"
     ]
    },
    {
     "name": "stderr",
     "output_type": "stream",
     "text": [
      "Epoch 27/50:: 100%|\u001b[34m███████████████████\u001b[0m| 120/120 [00:02<00:00, 47.17batch/s, loss=0.309144]\u001b[0m\n"
     ]
    },
    {
     "name": "stdout",
     "output_type": "stream",
     "text": [
      "\t Loss: 9.333,\tTrain : 89.28%(89.45%),\tTest : 86.38%(86.65%),\tCurrent Time: 20250720-211455\n"
     ]
    },
    {
     "name": "stderr",
     "output_type": "stream",
     "text": [
      "Epoch 28/50:: 100%|\u001b[34m███████████████████\u001b[0m| 120/120 [00:02<00:00, 47.30batch/s, loss=0.311064]\u001b[0m\n"
     ]
    },
    {
     "name": "stdout",
     "output_type": "stream",
     "text": [
      "\t Loss: 8.802,\tTrain : 89.81%(89.81%),\tTest : 87.47%(87.47%),\tCurrent Time: 20250720-211458\n"
     ]
    },
    {
     "name": "stderr",
     "output_type": "stream",
     "text": [
      "Epoch 29/50:: 100%|\u001b[34m███████████████████\u001b[0m| 120/120 [00:02<00:00, 47.05batch/s, loss=0.301752]\u001b[0m\n"
     ]
    },
    {
     "name": "stdout",
     "output_type": "stream",
     "text": [
      "\t Loss: 8.721,\tTrain : 90.03%(90.03%),\tTest : 87.15%(87.47%),\tCurrent Time: 20250720-211501\n"
     ]
    },
    {
     "name": "stderr",
     "output_type": "stream",
     "text": [
      "Epoch 30/50:: 100%|\u001b[34m███████████████████\u001b[0m| 120/120 [00:02<00:00, 47.21batch/s, loss=0.301031]\u001b[0m\n"
     ]
    },
    {
     "name": "stdout",
     "output_type": "stream",
     "text": [
      "\t Loss: 9.081,\tTrain : 89.43%(90.03%),\tTest : 86.52%(87.47%),\tCurrent Time: 20250720-211504\n"
     ]
    },
    {
     "name": "stderr",
     "output_type": "stream",
     "text": [
      "Epoch 31/50:: 100%|\u001b[34m███████████████████\u001b[0m| 120/120 [00:02<00:00, 47.29batch/s, loss=0.303981]\u001b[0m\n"
     ]
    },
    {
     "name": "stdout",
     "output_type": "stream",
     "text": [
      "\t Loss: 8.821,\tTrain : 89.96%(90.03%),\tTest : 87.04%(87.47%),\tCurrent Time: 20250720-211507\n"
     ]
    },
    {
     "name": "stderr",
     "output_type": "stream",
     "text": [
      "Epoch 32/50:: 100%|\u001b[34m███████████████████\u001b[0m| 120/120 [00:02<00:00, 47.24batch/s, loss=0.289295]\u001b[0m\n"
     ]
    },
    {
     "name": "stdout",
     "output_type": "stream",
     "text": [
      "\t Loss: 8.202,\tTrain : 90.46%(90.46%),\tTest : 87.61%(87.61%),\tCurrent Time: 20250720-211510\n"
     ]
    },
    {
     "name": "stderr",
     "output_type": "stream",
     "text": [
      "Epoch 33/50:: 100%|\u001b[34m███████████████████\u001b[0m| 120/120 [00:02<00:00, 47.02batch/s, loss=0.290106]\u001b[0m\n"
     ]
    },
    {
     "name": "stdout",
     "output_type": "stream",
     "text": [
      "\t Loss: 8.349,\tTrain : 90.38%(90.46%),\tTest : 87.31%(87.61%),\tCurrent Time: 20250720-211513\n"
     ]
    },
    {
     "name": "stderr",
     "output_type": "stream",
     "text": [
      "Epoch 34/50:: 100%|\u001b[34m███████████████████\u001b[0m| 120/120 [00:02<00:00, 47.23batch/s, loss=0.293444]\u001b[0m\n"
     ]
    },
    {
     "name": "stdout",
     "output_type": "stream",
     "text": [
      "\t Loss: 8.466,\tTrain : 90.11%(90.46%),\tTest : 87.38%(87.61%),\tCurrent Time: 20250720-211516\n"
     ]
    },
    {
     "name": "stderr",
     "output_type": "stream",
     "text": [
      "Epoch 35/50:: 100%|\u001b[34m███████████████████\u001b[0m| 120/120 [00:02<00:00, 47.24batch/s, loss=0.287525]\u001b[0m\n"
     ]
    },
    {
     "name": "stdout",
     "output_type": "stream",
     "text": [
      "\t Loss: 8.393,\tTrain : 90.36%(90.46%),\tTest : 87.29%(87.61%),\tCurrent Time: 20250720-211519\n"
     ]
    },
    {
     "name": "stderr",
     "output_type": "stream",
     "text": [
      "Epoch 36/50:: 100%|\u001b[34m███████████████████\u001b[0m| 120/120 [00:02<00:00, 46.88batch/s, loss=0.286687]\u001b[0m\n"
     ]
    },
    {
     "name": "stdout",
     "output_type": "stream",
     "text": [
      "\t Loss: 8.406,\tTrain : 90.32%(90.46%),\tTest : 87.63%(87.63%),\tCurrent Time: 20250720-211522\n"
     ]
    },
    {
     "name": "stderr",
     "output_type": "stream",
     "text": [
      "Epoch 37/50:: 100%|\u001b[34m███████████████████\u001b[0m| 120/120 [00:02<00:00, 47.15batch/s, loss=0.282462]\u001b[0m\n"
     ]
    },
    {
     "name": "stdout",
     "output_type": "stream",
     "text": [
      "\t Loss: 7.879,\tTrain : 90.82%(90.82%),\tTest : 87.60%(87.63%),\tCurrent Time: 20250720-211525\n"
     ]
    },
    {
     "name": "stderr",
     "output_type": "stream",
     "text": [
      "Epoch 38/50:: 100%|\u001b[34m███████████████████\u001b[0m| 120/120 [00:02<00:00, 47.13batch/s, loss=0.275751]\u001b[0m\n"
     ]
    },
    {
     "name": "stdout",
     "output_type": "stream",
     "text": [
      "\t Loss: 8.586,\tTrain : 90.17%(90.82%),\tTest : 87.18%(87.63%),\tCurrent Time: 20250720-211528\n"
     ]
    },
    {
     "name": "stderr",
     "output_type": "stream",
     "text": [
      "Epoch 39/50:: 100%|\u001b[34m███████████████████\u001b[0m| 120/120 [00:02<00:00, 47.12batch/s, loss=0.276603]\u001b[0m\n"
     ]
    },
    {
     "name": "stdout",
     "output_type": "stream",
     "text": [
      "\t Loss: 7.861,\tTrain : 90.90%(90.90%),\tTest : 87.59%(87.63%),\tCurrent Time: 20250720-211531\n"
     ]
    },
    {
     "name": "stderr",
     "output_type": "stream",
     "text": [
      "Epoch 40/50:: 100%|\u001b[34m███████████████████\u001b[0m| 120/120 [00:02<00:00, 47.26batch/s, loss=0.276013]\u001b[0m\n"
     ]
    },
    {
     "name": "stdout",
     "output_type": "stream",
     "text": [
      "\t Loss: 8.491,\tTrain : 90.13%(90.90%),\tTest : 87.02%(87.63%),\tCurrent Time: 20250720-211534\n"
     ]
    },
    {
     "name": "stderr",
     "output_type": "stream",
     "text": [
      "Epoch 41/50:: 100%|\u001b[34m███████████████████\u001b[0m| 120/120 [00:02<00:00, 47.08batch/s, loss=0.271808]\u001b[0m\n"
     ]
    },
    {
     "name": "stdout",
     "output_type": "stream",
     "text": [
      "\t Loss: 7.710,\tTrain : 91.12%(91.12%),\tTest : 87.66%(87.66%),\tCurrent Time: 20250720-211537\n"
     ]
    },
    {
     "name": "stderr",
     "output_type": "stream",
     "text": [
      "Epoch 42/50:: 100%|\u001b[34m███████████████████\u001b[0m| 120/120 [00:02<00:00, 47.19batch/s, loss=0.267487]\u001b[0m\n"
     ]
    },
    {
     "name": "stdout",
     "output_type": "stream",
     "text": [
      "\t Loss: 7.674,\tTrain : 91.28%(91.28%),\tTest : 87.68%(87.68%),\tCurrent Time: 20250720-211540\n"
     ]
    },
    {
     "name": "stderr",
     "output_type": "stream",
     "text": [
      "Epoch 43/50:: 100%|\u001b[34m███████████████████\u001b[0m| 120/120 [00:02<00:00, 47.11batch/s, loss=0.264263]\u001b[0m\n"
     ]
    },
    {
     "name": "stdout",
     "output_type": "stream",
     "text": [
      "\t Loss: 7.737,\tTrain : 91.21%(91.28%),\tTest : 87.72%(87.72%),\tCurrent Time: 20250720-211543\n"
     ]
    },
    {
     "name": "stderr",
     "output_type": "stream",
     "text": [
      "Epoch 44/50:: 100%|\u001b[34m███████████████████\u001b[0m| 120/120 [00:02<00:00, 47.18batch/s, loss=0.265629]\u001b[0m\n"
     ]
    },
    {
     "name": "stdout",
     "output_type": "stream",
     "text": [
      "\t Loss: 7.188,\tTrain : 91.66%(91.66%),\tTest : 87.89%(87.89%),\tCurrent Time: 20250720-211546\n"
     ]
    },
    {
     "name": "stderr",
     "output_type": "stream",
     "text": [
      "Epoch 45/50:: 100%|\u001b[34m███████████████████\u001b[0m| 120/120 [00:02<00:00, 47.07batch/s, loss=0.264468]\u001b[0m\n"
     ]
    },
    {
     "name": "stdout",
     "output_type": "stream",
     "text": [
      "\t Loss: 7.407,\tTrain : 91.48%(91.66%),\tTest : 87.81%(87.89%),\tCurrent Time: 20250720-211549\n"
     ]
    },
    {
     "name": "stderr",
     "output_type": "stream",
     "text": [
      "Epoch 46/50:: 100%|\u001b[34m███████████████████\u001b[0m| 120/120 [00:02<00:00, 47.22batch/s, loss=0.265804]\u001b[0m\n"
     ]
    },
    {
     "name": "stdout",
     "output_type": "stream",
     "text": [
      "\t Loss: 7.867,\tTrain : 90.92%(91.66%),\tTest : 87.16%(87.89%),\tCurrent Time: 20250720-211552\n"
     ]
    },
    {
     "name": "stderr",
     "output_type": "stream",
     "text": [
      "Epoch 47/50:: 100%|\u001b[34m███████████████████\u001b[0m| 120/120 [00:02<00:00, 47.21batch/s, loss=0.268358]\u001b[0m\n"
     ]
    },
    {
     "name": "stdout",
     "output_type": "stream",
     "text": [
      "\t Loss: 7.835,\tTrain : 91.03%(91.66%),\tTest : 87.25%(87.89%),\tCurrent Time: 20250720-211555\n"
     ]
    },
    {
     "name": "stderr",
     "output_type": "stream",
     "text": [
      "Epoch 48/50:: 100%|\u001b[34m███████████████████\u001b[0m| 120/120 [00:02<00:00, 47.19batch/s, loss=0.259608]\u001b[0m\n"
     ]
    },
    {
     "name": "stdout",
     "output_type": "stream",
     "text": [
      "\t Loss: 7.817,\tTrain : 91.14%(91.66%),\tTest : 87.72%(87.89%),\tCurrent Time: 20250720-211558\n"
     ]
    },
    {
     "name": "stderr",
     "output_type": "stream",
     "text": [
      "Epoch 49/50:: 100%|\u001b[34m███████████████████\u001b[0m| 120/120 [00:02<00:00, 47.22batch/s, loss=0.260071]\u001b[0m\n"
     ]
    },
    {
     "name": "stdout",
     "output_type": "stream",
     "text": [
      "\t Loss: 7.496,\tTrain : 91.49%(91.66%),\tTest : 87.53%(87.89%),\tCurrent Time: 20250720-211601\n"
     ]
    },
    {
     "name": "stderr",
     "output_type": "stream",
     "text": [
      "Epoch 50/50:: 100%|\u001b[34m███████████████████\u001b[0m| 120/120 [00:02<00:00, 47.29batch/s, loss=0.260658]\u001b[0m\n"
     ]
    },
    {
     "name": "stdout",
     "output_type": "stream",
     "text": [
      "\t Loss: 7.274,\tTrain : 91.67%(91.67%),\tTest : 87.55%(87.89%),\tCurrent Time: 20250720-211604\n",
      "First_asymm_AG_10HL_Res-Task2-0-EP_L10--FMNIST_EP_b_sc0.1- Time: 20250720-211604, Epochs: 50, Learning Rate: 0.001, Best: 91.67%  87.89%\n",
      "\n",
      "[[0 1 0 0 0 0 0 0 0 0 0 0]\n",
      " [1 0 1 1 1 0 0 0 0 0 0 0]\n",
      " [0 1 0 1 0 0 0 0 1 0 0 0]\n",
      " [0 0 1 0 1 0 0 0 0 0 1 0]\n",
      " [0 0 0 1 0 1 1 0 1 0 0 0]\n",
      " [0 0 0 0 1 0 1 1 0 0 0 0]\n",
      " [0 0 0 1 0 1 0 1 0 0 1 0]\n",
      " [0 0 0 0 1 0 1 0 1 1 0 0]\n",
      " [0 1 0 0 0 0 1 1 0 1 0 0]\n",
      " [0 0 0 1 0 0 0 0 1 0 1 0]\n",
      " [0 0 0 0 0 0 1 1 0 1 0 1]\n",
      " [0 0 0 0 0 0 0 0 0 0 1 0]]\n",
      "First_asymm_AG_10HL_Res-Task2-0-EP_L10--FMNIST_EP_b_sc0.1-\n"
     ]
    },
    {
     "name": "stderr",
     "output_type": "stream",
     "text": [
      "Epoch 1/50:: 100%|\u001b[34m████████████████████\u001b[0m| 120/120 [00:02<00:00, 43.12batch/s, loss=2.028076]\u001b[0m\n"
     ]
    },
    {
     "name": "stdout",
     "output_type": "stream",
     "text": [
      "\t Loss: 39.309,\tTrain : 56.65%(56.65%),\tTest : 56.38%(56.38%),\tCurrent Time: 20250720-211612\n"
     ]
    },
    {
     "name": "stderr",
     "output_type": "stream",
     "text": [
      "Epoch 2/50:: 100%|\u001b[34m████████████████████\u001b[0m| 120/120 [00:02<00:00, 46.16batch/s, loss=0.972144]\u001b[0m\n"
     ]
    },
    {
     "name": "stdout",
     "output_type": "stream",
     "text": [
      "\t Loss: 22.961,\tTrain : 75.34%(75.34%),\tTest : 74.28%(74.28%),\tCurrent Time: 20250720-211615\n"
     ]
    },
    {
     "name": "stderr",
     "output_type": "stream",
     "text": [
      "Epoch 3/50:: 100%|\u001b[34m████████████████████\u001b[0m| 120/120 [00:02<00:00, 46.21batch/s, loss=0.693957]\u001b[0m\n"
     ]
    },
    {
     "name": "stdout",
     "output_type": "stream",
     "text": [
      "\t Loss: 17.957,\tTrain : 79.69%(79.69%),\tTest : 78.57%(78.57%),\tCurrent Time: 20250720-211618\n"
     ]
    },
    {
     "name": "stderr",
     "output_type": "stream",
     "text": [
      "Epoch 4/50:: 100%|\u001b[34m████████████████████\u001b[0m| 120/120 [00:02<00:00, 46.17batch/s, loss=0.580751]\u001b[0m\n"
     ]
    },
    {
     "name": "stdout",
     "output_type": "stream",
     "text": [
      "\t Loss: 16.247,\tTrain : 81.75%(81.75%),\tTest : 80.83%(80.83%),\tCurrent Time: 20250720-211621\n"
     ]
    },
    {
     "name": "stderr",
     "output_type": "stream",
     "text": [
      "Epoch 5/50:: 100%|\u001b[34m████████████████████\u001b[0m| 120/120 [00:02<00:00, 46.36batch/s, loss=0.528054]\u001b[0m\n"
     ]
    },
    {
     "name": "stdout",
     "output_type": "stream",
     "text": [
      "\t Loss: 15.285,\tTrain : 82.78%(82.78%),\tTest : 81.67%(81.67%),\tCurrent Time: 20250720-211624\n"
     ]
    },
    {
     "name": "stderr",
     "output_type": "stream",
     "text": [
      "Epoch 6/50:: 100%|\u001b[34m████████████████████\u001b[0m| 120/120 [00:02<00:00, 46.29batch/s, loss=0.501750]\u001b[0m\n"
     ]
    },
    {
     "name": "stdout",
     "output_type": "stream",
     "text": [
      "\t Loss: 15.174,\tTrain : 82.92%(82.92%),\tTest : 81.45%(81.67%),\tCurrent Time: 20250720-211627\n"
     ]
    },
    {
     "name": "stderr",
     "output_type": "stream",
     "text": [
      "Epoch 7/50:: 100%|\u001b[34m████████████████████\u001b[0m| 120/120 [00:02<00:00, 46.23batch/s, loss=0.465703]\u001b[0m\n"
     ]
    },
    {
     "name": "stdout",
     "output_type": "stream",
     "text": [
      "\t Loss: 13.728,\tTrain : 84.52%(84.52%),\tTest : 82.71%(82.71%),\tCurrent Time: 20250720-211630\n"
     ]
    },
    {
     "name": "stderr",
     "output_type": "stream",
     "text": [
      "Epoch 8/50:: 100%|\u001b[34m████████████████████\u001b[0m| 120/120 [00:02<00:00, 46.18batch/s, loss=0.443661]\u001b[0m\n"
     ]
    },
    {
     "name": "stdout",
     "output_type": "stream",
     "text": [
      "\t Loss: 13.397,\tTrain : 84.68%(84.68%),\tTest : 82.85%(82.85%),\tCurrent Time: 20250720-211634\n"
     ]
    },
    {
     "name": "stderr",
     "output_type": "stream",
     "text": [
      "Epoch 9/50:: 100%|\u001b[34m████████████████████\u001b[0m| 120/120 [00:02<00:00, 46.21batch/s, loss=0.430920]\u001b[0m\n"
     ]
    },
    {
     "name": "stdout",
     "output_type": "stream",
     "text": [
      "\t Loss: 12.577,\tTrain : 85.76%(85.76%),\tTest : 84.03%(84.03%),\tCurrent Time: 20250720-211637\n"
     ]
    },
    {
     "name": "stderr",
     "output_type": "stream",
     "text": [
      "Epoch 10/50:: 100%|\u001b[34m███████████████████\u001b[0m| 120/120 [00:02<00:00, 46.21batch/s, loss=0.418752]\u001b[0m\n"
     ]
    },
    {
     "name": "stdout",
     "output_type": "stream",
     "text": [
      "\t Loss: 12.416,\tTrain : 86.10%(86.10%),\tTest : 84.06%(84.06%),\tCurrent Time: 20250720-211640\n"
     ]
    },
    {
     "name": "stderr",
     "output_type": "stream",
     "text": [
      "Epoch 11/50:: 100%|\u001b[34m███████████████████\u001b[0m| 120/120 [00:02<00:00, 46.32batch/s, loss=0.413296]\u001b[0m\n"
     ]
    },
    {
     "name": "stdout",
     "output_type": "stream",
     "text": [
      "\t Loss: 12.785,\tTrain : 85.26%(86.10%),\tTest : 83.63%(84.06%),\tCurrent Time: 20250720-211643\n"
     ]
    },
    {
     "name": "stderr",
     "output_type": "stream",
     "text": [
      "Epoch 12/50:: 100%|\u001b[34m███████████████████\u001b[0m| 120/120 [00:02<00:00, 46.18batch/s, loss=0.402045]\u001b[0m\n"
     ]
    },
    {
     "name": "stdout",
     "output_type": "stream",
     "text": [
      "\t Loss: 11.756,\tTrain : 86.57%(86.57%),\tTest : 84.58%(84.58%),\tCurrent Time: 20250720-211646\n"
     ]
    },
    {
     "name": "stderr",
     "output_type": "stream",
     "text": [
      "Epoch 13/50:: 100%|\u001b[34m███████████████████\u001b[0m| 120/120 [00:02<00:00, 46.16batch/s, loss=0.401149]\u001b[0m\n"
     ]
    },
    {
     "name": "stdout",
     "output_type": "stream",
     "text": [
      "\t Loss: 11.976,\tTrain : 86.45%(86.57%),\tTest : 84.57%(84.58%),\tCurrent Time: 20250720-211649\n"
     ]
    },
    {
     "name": "stderr",
     "output_type": "stream",
     "text": [
      "Epoch 14/50:: 100%|\u001b[34m███████████████████\u001b[0m| 120/120 [00:02<00:00, 46.28batch/s, loss=0.403210]\u001b[0m\n"
     ]
    },
    {
     "name": "stdout",
     "output_type": "stream",
     "text": [
      "\t Loss: 11.859,\tTrain : 86.68%(86.68%),\tTest : 84.48%(84.58%),\tCurrent Time: 20250720-211652\n"
     ]
    },
    {
     "name": "stderr",
     "output_type": "stream",
     "text": [
      "Epoch 15/50:: 100%|\u001b[34m███████████████████\u001b[0m| 120/120 [00:02<00:00, 46.40batch/s, loss=0.392883]\u001b[0m\n"
     ]
    },
    {
     "name": "stdout",
     "output_type": "stream",
     "text": [
      "\t Loss: 11.683,\tTrain : 87.00%(87.00%),\tTest : 85.00%(85.00%),\tCurrent Time: 20250720-211655\n"
     ]
    },
    {
     "name": "stderr",
     "output_type": "stream",
     "text": [
      "Epoch 16/50:: 100%|\u001b[34m███████████████████\u001b[0m| 120/120 [00:02<00:00, 46.18batch/s, loss=0.394747]\u001b[0m\n"
     ]
    },
    {
     "name": "stdout",
     "output_type": "stream",
     "text": [
      "\t Loss: 11.674,\tTrain : 86.99%(87.00%),\tTest : 84.98%(85.00%),\tCurrent Time: 20250720-211658\n"
     ]
    },
    {
     "name": "stderr",
     "output_type": "stream",
     "text": [
      "Epoch 17/50:: 100%|\u001b[34m███████████████████\u001b[0m| 120/120 [00:02<00:00, 46.15batch/s, loss=0.398069]\u001b[0m\n"
     ]
    },
    {
     "name": "stdout",
     "output_type": "stream",
     "text": [
      "\t Loss: 11.263,\tTrain : 87.69%(87.69%),\tTest : 85.54%(85.54%),\tCurrent Time: 20250720-211701\n"
     ]
    },
    {
     "name": "stderr",
     "output_type": "stream",
     "text": [
      "Epoch 18/50:: 100%|\u001b[34m███████████████████\u001b[0m| 120/120 [00:02<00:00, 46.39batch/s, loss=0.400298]\u001b[0m\n"
     ]
    },
    {
     "name": "stdout",
     "output_type": "stream",
     "text": [
      "\t Loss: 12.219,\tTrain : 86.95%(87.69%),\tTest : 84.80%(85.54%),\tCurrent Time: 20250720-211704\n"
     ]
    },
    {
     "name": "stderr",
     "output_type": "stream",
     "text": [
      "Epoch 19/50:: 100%|\u001b[34m███████████████████\u001b[0m| 120/120 [00:02<00:00, 46.05batch/s, loss=0.414492]\u001b[0m\n"
     ]
    },
    {
     "name": "stdout",
     "output_type": "stream",
     "text": [
      "\t Loss: 12.235,\tTrain : 86.67%(87.69%),\tTest : 84.30%(85.54%),\tCurrent Time: 20250720-211707\n"
     ]
    },
    {
     "name": "stderr",
     "output_type": "stream",
     "text": [
      "Epoch 20/50:: 100%|\u001b[34m███████████████████\u001b[0m| 120/120 [00:02<00:00, 46.10batch/s, loss=0.415675]\u001b[0m\n"
     ]
    },
    {
     "name": "stdout",
     "output_type": "stream",
     "text": [
      "\t Loss: 12.626,\tTrain : 86.97%(87.69%),\tTest : 84.56%(85.54%),\tCurrent Time: 20250720-211711\n"
     ]
    },
    {
     "name": "stderr",
     "output_type": "stream",
     "text": [
      "Epoch 21/50:: 100%|\u001b[34m███████████████████\u001b[0m| 120/120 [00:02<00:00, 46.08batch/s, loss=0.418640]\u001b[0m\n"
     ]
    },
    {
     "name": "stdout",
     "output_type": "stream",
     "text": [
      "\t Loss: 12.890,\tTrain : 86.32%(87.69%),\tTest : 84.24%(85.54%),\tCurrent Time: 20250720-211714\n"
     ]
    },
    {
     "name": "stderr",
     "output_type": "stream",
     "text": [
      "Epoch 22/50:: 100%|\u001b[34m███████████████████\u001b[0m| 120/120 [00:02<00:00, 46.03batch/s, loss=0.420660]\u001b[0m\n"
     ]
    },
    {
     "name": "stdout",
     "output_type": "stream",
     "text": [
      "\t Loss: 12.921,\tTrain : 86.36%(87.69%),\tTest : 84.48%(85.54%),\tCurrent Time: 20250720-211717\n"
     ]
    },
    {
     "name": "stderr",
     "output_type": "stream",
     "text": [
      "Epoch 23/50:: 100%|\u001b[34m███████████████████\u001b[0m| 120/120 [00:02<00:00, 46.28batch/s, loss=0.455153]\u001b[0m\n"
     ]
    },
    {
     "name": "stdout",
     "output_type": "stream",
     "text": [
      "\t Loss: 13.113,\tTrain : 86.49%(87.69%),\tTest : 84.47%(85.54%),\tCurrent Time: 20250720-211720\n"
     ]
    },
    {
     "name": "stderr",
     "output_type": "stream",
     "text": [
      "Epoch 24/50:: 100%|\u001b[34m███████████████████\u001b[0m| 120/120 [00:02<00:00, 46.30batch/s, loss=0.449715]\u001b[0m\n"
     ]
    },
    {
     "name": "stdout",
     "output_type": "stream",
     "text": [
      "\t Loss: 13.578,\tTrain : 86.50%(87.69%),\tTest : 84.22%(85.54%),\tCurrent Time: 20250720-211723\n"
     ]
    },
    {
     "name": "stderr",
     "output_type": "stream",
     "text": [
      "Epoch 25/50:: 100%|\u001b[34m███████████████████\u001b[0m| 120/120 [00:02<00:00, 46.21batch/s, loss=0.456212]\u001b[0m\n"
     ]
    },
    {
     "name": "stdout",
     "output_type": "stream",
     "text": [
      "\t Loss: 13.092,\tTrain : 87.33%(87.69%),\tTest : 85.19%(85.54%),\tCurrent Time: 20250720-211726\n"
     ]
    },
    {
     "name": "stderr",
     "output_type": "stream",
     "text": [
      "Epoch 26/50:: 100%|\u001b[34m███████████████████\u001b[0m| 120/120 [00:02<00:00, 46.22batch/s, loss=0.435712]\u001b[0m\n"
     ]
    },
    {
     "name": "stdout",
     "output_type": "stream",
     "text": [
      "\t Loss: 12.714,\tTrain : 87.25%(87.69%),\tTest : 84.99%(85.54%),\tCurrent Time: 20250720-211729\n"
     ]
    },
    {
     "name": "stderr",
     "output_type": "stream",
     "text": [
      "Epoch 27/50:: 100%|\u001b[34m███████████████████\u001b[0m| 120/120 [00:02<00:00, 46.27batch/s, loss=0.440981]\u001b[0m\n"
     ]
    },
    {
     "name": "stdout",
     "output_type": "stream",
     "text": [
      "\t Loss: 14.728,\tTrain : 85.22%(87.69%),\tTest : 83.05%(85.54%),\tCurrent Time: 20250720-211732\n"
     ]
    },
    {
     "name": "stderr",
     "output_type": "stream",
     "text": [
      "Epoch 28/50:: 100%|\u001b[34m███████████████████\u001b[0m| 120/120 [00:02<00:00, 46.15batch/s, loss=0.481686]\u001b[0m\n"
     ]
    },
    {
     "name": "stdout",
     "output_type": "stream",
     "text": [
      "\t Loss: 15.264,\tTrain : 85.00%(87.69%),\tTest : 82.64%(85.54%),\tCurrent Time: 20250720-211735\n"
     ]
    },
    {
     "name": "stderr",
     "output_type": "stream",
     "text": [
      "Epoch 29/50:: 100%|\u001b[34m███████████████████\u001b[0m| 120/120 [00:02<00:00, 46.30batch/s, loss=0.452094]\u001b[0m\n"
     ]
    },
    {
     "name": "stdout",
     "output_type": "stream",
     "text": [
      "\t Loss: 13.091,\tTrain : 86.58%(87.69%),\tTest : 83.94%(85.54%),\tCurrent Time: 20250720-211738\n"
     ]
    },
    {
     "name": "stderr",
     "output_type": "stream",
     "text": [
      "Epoch 30/50:: 100%|\u001b[34m███████████████████\u001b[0m| 120/120 [00:02<00:00, 46.15batch/s, loss=0.530026]\u001b[0m\n"
     ]
    },
    {
     "name": "stdout",
     "output_type": "stream",
     "text": [
      "\t Loss: 13.412,\tTrain : 86.73%(87.69%),\tTest : 84.26%(85.54%),\tCurrent Time: 20250720-211741\n"
     ]
    },
    {
     "name": "stderr",
     "output_type": "stream",
     "text": [
      "Epoch 31/50:: 100%|\u001b[34m███████████████████\u001b[0m| 120/120 [00:02<00:00, 46.32batch/s, loss=0.504622]\u001b[0m\n"
     ]
    },
    {
     "name": "stdout",
     "output_type": "stream",
     "text": [
      "\t Loss: 14.892,\tTrain : 86.33%(87.69%),\tTest : 83.82%(85.54%),\tCurrent Time: 20250720-211744\n"
     ]
    },
    {
     "name": "stderr",
     "output_type": "stream",
     "text": [
      "Epoch 32/50:: 100%|\u001b[34m███████████████████\u001b[0m| 120/120 [00:02<00:00, 46.24batch/s, loss=0.501181]\u001b[0m\n"
     ]
    },
    {
     "name": "stdout",
     "output_type": "stream",
     "text": [
      "\t Loss: 14.316,\tTrain : 85.77%(87.69%),\tTest : 83.21%(85.54%),\tCurrent Time: 20250720-211748\n"
     ]
    },
    {
     "name": "stderr",
     "output_type": "stream",
     "text": [
      "Epoch 33/50:: 100%|\u001b[34m███████████████████\u001b[0m| 120/120 [00:02<00:00, 46.21batch/s, loss=0.510666]\u001b[0m\n"
     ]
    },
    {
     "name": "stdout",
     "output_type": "stream",
     "text": [
      "\t Loss: 14.369,\tTrain : 86.76%(87.69%),\tTest : 84.14%(85.54%),\tCurrent Time: 20250720-211751\n"
     ]
    },
    {
     "name": "stderr",
     "output_type": "stream",
     "text": [
      "Epoch 34/50:: 100%|\u001b[34m███████████████████\u001b[0m| 120/120 [00:02<00:00, 46.44batch/s, loss=0.469411]\u001b[0m\n"
     ]
    },
    {
     "name": "stdout",
     "output_type": "stream",
     "text": [
      "\t Loss: 14.804,\tTrain : 85.65%(87.69%),\tTest : 83.66%(85.54%),\tCurrent Time: 20250720-211754\n"
     ]
    },
    {
     "name": "stderr",
     "output_type": "stream",
     "text": [
      "Epoch 35/50:: 100%|\u001b[34m███████████████████\u001b[0m| 120/120 [00:02<00:00, 46.21batch/s, loss=0.509677]\u001b[0m\n"
     ]
    },
    {
     "name": "stdout",
     "output_type": "stream",
     "text": [
      "\t Loss: 13.907,\tTrain : 85.77%(87.69%),\tTest : 83.31%(85.54%),\tCurrent Time: 20250720-211757\n"
     ]
    },
    {
     "name": "stderr",
     "output_type": "stream",
     "text": [
      "Epoch 36/50:: 100%|\u001b[34m███████████████████\u001b[0m| 120/120 [00:02<00:00, 46.23batch/s, loss=0.515579]\u001b[0m\n"
     ]
    },
    {
     "name": "stdout",
     "output_type": "stream",
     "text": [
      "\t Loss: 13.864,\tTrain : 86.62%(87.69%),\tTest : 84.14%(85.54%),\tCurrent Time: 20250720-211800\n"
     ]
    },
    {
     "name": "stderr",
     "output_type": "stream",
     "text": [
      "Epoch 37/50:: 100%|\u001b[34m███████████████████\u001b[0m| 120/120 [00:02<00:00, 46.02batch/s, loss=0.529947]\u001b[0m\n"
     ]
    },
    {
     "name": "stdout",
     "output_type": "stream",
     "text": [
      "\t Loss: 20.354,\tTrain : 82.16%(87.69%),\tTest : 80.27%(85.54%),\tCurrent Time: 20250720-211803\n"
     ]
    },
    {
     "name": "stderr",
     "output_type": "stream",
     "text": [
      "Epoch 38/50:: 100%|\u001b[34m███████████████████\u001b[0m| 120/120 [00:02<00:00, 45.97batch/s, loss=0.568586]\u001b[0m\n"
     ]
    },
    {
     "name": "stdout",
     "output_type": "stream",
     "text": [
      "\t Loss: 15.669,\tTrain : 85.44%(87.69%),\tTest : 83.07%(85.54%),\tCurrent Time: 20250720-211806\n"
     ]
    },
    {
     "name": "stderr",
     "output_type": "stream",
     "text": [
      "Epoch 39/50:: 100%|\u001b[34m███████████████████\u001b[0m| 120/120 [00:02<00:00, 46.26batch/s, loss=0.605988]\u001b[0m\n"
     ]
    },
    {
     "name": "stdout",
     "output_type": "stream",
     "text": [
      "\t Loss: 18.123,\tTrain : 84.74%(87.69%),\tTest : 82.12%(85.54%),\tCurrent Time: 20250720-211809\n"
     ]
    },
    {
     "name": "stderr",
     "output_type": "stream",
     "text": [
      "Epoch 40/50:: 100%|\u001b[34m███████████████████\u001b[0m| 120/120 [00:02<00:00, 46.26batch/s, loss=0.588400]\u001b[0m\n"
     ]
    },
    {
     "name": "stdout",
     "output_type": "stream",
     "text": [
      "\t Loss: 16.425,\tTrain : 84.46%(87.69%),\tTest : 81.71%(85.54%),\tCurrent Time: 20250720-211812\n"
     ]
    },
    {
     "name": "stderr",
     "output_type": "stream",
     "text": [
      "Epoch 41/50:: 100%|\u001b[34m███████████████████\u001b[0m| 120/120 [00:02<00:00, 46.31batch/s, loss=0.565985]\u001b[0m\n"
     ]
    },
    {
     "name": "stdout",
     "output_type": "stream",
     "text": [
      "\t Loss: 16.067,\tTrain : 84.37%(87.69%),\tTest : 81.87%(85.54%),\tCurrent Time: 20250720-211815\n"
     ]
    },
    {
     "name": "stderr",
     "output_type": "stream",
     "text": [
      "Epoch 42/50:: 100%|\u001b[34m███████████████████\u001b[0m| 120/120 [00:02<00:00, 46.06batch/s, loss=0.613679]\u001b[0m\n"
     ]
    },
    {
     "name": "stdout",
     "output_type": "stream",
     "text": [
      "\t Loss: 20.304,\tTrain : 82.08%(87.69%),\tTest : 79.75%(85.54%),\tCurrent Time: 20250720-211818\n"
     ]
    },
    {
     "name": "stderr",
     "output_type": "stream",
     "text": [
      "Epoch 43/50:: 100%|\u001b[34m███████████████████\u001b[0m| 120/120 [00:02<00:00, 46.28batch/s, loss=0.606874]\u001b[0m\n"
     ]
    },
    {
     "name": "stdout",
     "output_type": "stream",
     "text": [
      "\t Loss: 15.908,\tTrain : 85.04%(87.69%),\tTest : 82.74%(85.54%),\tCurrent Time: 20250720-211821\n"
     ]
    },
    {
     "name": "stderr",
     "output_type": "stream",
     "text": [
      "Epoch 44/50:: 100%|\u001b[34m███████████████████\u001b[0m| 120/120 [00:02<00:00, 46.30batch/s, loss=0.607903]\u001b[0m\n"
     ]
    },
    {
     "name": "stdout",
     "output_type": "stream",
     "text": [
      "\t Loss: 16.978,\tTrain : 84.87%(87.69%),\tTest : 82.79%(85.54%),\tCurrent Time: 20250720-211825\n"
     ]
    },
    {
     "name": "stderr",
     "output_type": "stream",
     "text": [
      "Epoch 45/50:: 100%|\u001b[34m███████████████████\u001b[0m| 120/120 [00:02<00:00, 46.23batch/s, loss=0.671234]\u001b[0m\n"
     ]
    },
    {
     "name": "stdout",
     "output_type": "stream",
     "text": [
      "\t Loss: 20.415,\tTrain : 82.18%(87.69%),\tTest : 80.54%(85.54%),\tCurrent Time: 20250720-211828\n"
     ]
    },
    {
     "name": "stderr",
     "output_type": "stream",
     "text": [
      "Epoch 46/50:: 100%|\u001b[34m███████████████████\u001b[0m| 120/120 [00:02<00:00, 46.44batch/s, loss=0.684021]\u001b[0m\n"
     ]
    },
    {
     "name": "stdout",
     "output_type": "stream",
     "text": [
      "\t Loss: 22.916,\tTrain : 82.18%(87.69%),\tTest : 79.93%(85.54%),\tCurrent Time: 20250720-211831\n"
     ]
    },
    {
     "name": "stderr",
     "output_type": "stream",
     "text": [
      "Epoch 47/50:: 100%|\u001b[34m███████████████████\u001b[0m| 120/120 [00:02<00:00, 46.24batch/s, loss=0.679795]\u001b[0m\n"
     ]
    },
    {
     "name": "stdout",
     "output_type": "stream",
     "text": [
      "\t Loss: 20.128,\tTrain : 83.33%(87.69%),\tTest : 81.48%(85.54%),\tCurrent Time: 20250720-211834\n"
     ]
    },
    {
     "name": "stderr",
     "output_type": "stream",
     "text": [
      "Epoch 48/50:: 100%|\u001b[34m███████████████████\u001b[0m| 120/120 [00:02<00:00, 46.33batch/s, loss=0.652338]\u001b[0m\n"
     ]
    },
    {
     "name": "stdout",
     "output_type": "stream",
     "text": [
      "\t Loss: 17.690,\tTrain : 83.44%(87.69%),\tTest : 81.48%(85.54%),\tCurrent Time: 20250720-211837\n"
     ]
    },
    {
     "name": "stderr",
     "output_type": "stream",
     "text": [
      "Epoch 49/50:: 100%|\u001b[34m███████████████████\u001b[0m| 120/120 [00:02<00:00, 46.44batch/s, loss=0.654884]\u001b[0m\n"
     ]
    },
    {
     "name": "stdout",
     "output_type": "stream",
     "text": [
      "\t Loss: 25.690,\tTrain : 79.37%(87.69%),\tTest : 77.39%(85.54%),\tCurrent Time: 20250720-211840\n"
     ]
    },
    {
     "name": "stderr",
     "output_type": "stream",
     "text": [
      "Epoch 50/50:: 100%|\u001b[34m███████████████████\u001b[0m| 120/120 [00:02<00:00, 45.93batch/s, loss=0.640491]\u001b[0m\n"
     ]
    },
    {
     "name": "stdout",
     "output_type": "stream",
     "text": [
      "\t Loss: 21.732,\tTrain : 80.40%(87.69%),\tTest : 78.71%(85.54%),\tCurrent Time: 20250720-211843\n",
      "First_asymm_AG_10HL_Res-Task2-0-EP_L10--FMNIST_EP_b_sc0.1- Time: 20250720-211843, Epochs: 50, Learning Rate: 0.001, Best: 87.69%  85.54%\n",
      "\n",
      "[[0 1 0 0 0 0 0 0 0 0 0 0]\n",
      " [1 0 1 0 0 0 0 0 0 0 0 0]\n",
      " [0 1 0 1 1 0 0 0 1 1 0 0]\n",
      " [0 0 1 0 1 0 1 0 0 0 0 0]\n",
      " [0 0 0 1 0 1 0 0 0 0 0 0]\n",
      " [0 0 0 0 1 0 1 0 0 1 0 0]\n",
      " [0 0 0 0 0 1 0 1 0 0 0 0]\n",
      " [0 1 1 0 0 0 1 0 1 0 0 0]\n",
      " [0 0 0 0 0 1 1 1 0 1 0 0]\n",
      " [0 0 0 0 0 0 0 1 1 0 1 0]\n",
      " [0 0 0 0 0 0 0 0 0 1 0 1]\n",
      " [0 0 0 0 0 0 0 0 0 0 1 0]]\n",
      "First_asymm_AG_10HL_Res-Task2-0-EP_L10--MNIST_EP_b_sc0.1-\n"
     ]
    },
    {
     "name": "stderr",
     "output_type": "stream",
     "text": [
      "Epoch 1/50:: 100%|\u001b[34m████████████████████\u001b[0m| 120/120 [00:02<00:00, 48.16batch/s, loss=1.824290]\u001b[0m\n"
     ]
    },
    {
     "name": "stdout",
     "output_type": "stream",
     "text": [
      "\t Loss: 32.504,\tTrain : 74.79%(74.79%),\tTest : 74.97%(74.97%),\tCurrent Time: 20250720-211850\n"
     ]
    },
    {
     "name": "stderr",
     "output_type": "stream",
     "text": [
      "Epoch 2/50:: 100%|\u001b[34m████████████████████\u001b[0m| 120/120 [00:02<00:00, 49.03batch/s, loss=0.669603]\u001b[0m\n"
     ]
    },
    {
     "name": "stdout",
     "output_type": "stream",
     "text": [
      "\t Loss: 13.499,\tTrain : 88.42%(88.42%),\tTest : 88.92%(88.92%),\tCurrent Time: 20250720-211853\n"
     ]
    },
    {
     "name": "stderr",
     "output_type": "stream",
     "text": [
      "Epoch 3/50:: 100%|\u001b[34m████████████████████\u001b[0m| 120/120 [00:02<00:00, 48.79batch/s, loss=0.391000]\u001b[0m\n"
     ]
    },
    {
     "name": "stdout",
     "output_type": "stream",
     "text": [
      "\t Loss: 10.297,\tTrain : 90.51%(90.51%),\tTest : 90.71%(90.71%),\tCurrent Time: 20250720-211856\n"
     ]
    },
    {
     "name": "stderr",
     "output_type": "stream",
     "text": [
      "Epoch 4/50:: 100%|\u001b[34m████████████████████\u001b[0m| 120/120 [00:02<00:00, 49.23batch/s, loss=0.310234]\u001b[0m\n"
     ]
    },
    {
     "name": "stdout",
     "output_type": "stream",
     "text": [
      "\t Loss: 8.281,\tTrain : 92.26%(92.26%),\tTest : 92.16%(92.16%),\tCurrent Time: 20250720-211859\n"
     ]
    },
    {
     "name": "stderr",
     "output_type": "stream",
     "text": [
      "Epoch 5/50:: 100%|\u001b[34m████████████████████\u001b[0m| 120/120 [00:02<00:00, 48.95batch/s, loss=0.264277]\u001b[0m\n"
     ]
    },
    {
     "name": "stdout",
     "output_type": "stream",
     "text": [
      "\t Loss: 7.241,\tTrain : 93.20%(93.20%),\tTest : 93.03%(93.03%),\tCurrent Time: 20250720-211902\n"
     ]
    },
    {
     "name": "stderr",
     "output_type": "stream",
     "text": [
      "Epoch 6/50:: 100%|\u001b[34m████████████████████\u001b[0m| 120/120 [00:02<00:00, 49.40batch/s, loss=0.234029]\u001b[0m\n"
     ]
    },
    {
     "name": "stdout",
     "output_type": "stream",
     "text": [
      "\t Loss: 6.557,\tTrain : 93.93%(93.93%),\tTest : 93.35%(93.35%),\tCurrent Time: 20250720-211905\n"
     ]
    },
    {
     "name": "stderr",
     "output_type": "stream",
     "text": [
      "Epoch 7/50:: 100%|\u001b[34m████████████████████\u001b[0m| 120/120 [00:02<00:00, 49.34batch/s, loss=0.209575]\u001b[0m\n"
     ]
    },
    {
     "name": "stdout",
     "output_type": "stream",
     "text": [
      "\t Loss: 5.909,\tTrain : 94.51%(94.51%),\tTest : 94.10%(94.10%),\tCurrent Time: 20250720-211908\n"
     ]
    },
    {
     "name": "stderr",
     "output_type": "stream",
     "text": [
      "Epoch 8/50:: 100%|\u001b[34m████████████████████\u001b[0m| 120/120 [00:02<00:00, 49.40batch/s, loss=0.191682]\u001b[0m\n"
     ]
    },
    {
     "name": "stdout",
     "output_type": "stream",
     "text": [
      "\t Loss: 5.370,\tTrain : 95.00%(95.00%),\tTest : 94.55%(94.55%),\tCurrent Time: 20250720-211911\n"
     ]
    },
    {
     "name": "stderr",
     "output_type": "stream",
     "text": [
      "Epoch 9/50:: 100%|\u001b[34m████████████████████\u001b[0m| 120/120 [00:02<00:00, 49.36batch/s, loss=0.177699]\u001b[0m\n"
     ]
    },
    {
     "name": "stdout",
     "output_type": "stream",
     "text": [
      "\t Loss: 5.026,\tTrain : 95.29%(95.29%),\tTest : 94.58%(94.58%),\tCurrent Time: 20250720-211914\n"
     ]
    },
    {
     "name": "stderr",
     "output_type": "stream",
     "text": [
      "Epoch 10/50:: 100%|\u001b[34m███████████████████\u001b[0m| 120/120 [00:02<00:00, 49.38batch/s, loss=0.165500]\u001b[0m\n"
     ]
    },
    {
     "name": "stdout",
     "output_type": "stream",
     "text": [
      "\t Loss: 4.458,\tTrain : 95.77%(95.77%),\tTest : 95.09%(95.09%),\tCurrent Time: 20250720-211916\n"
     ]
    },
    {
     "name": "stderr",
     "output_type": "stream",
     "text": [
      "Epoch 11/50:: 100%|\u001b[34m███████████████████\u001b[0m| 120/120 [00:02<00:00, 49.35batch/s, loss=0.150947]\u001b[0m\n"
     ]
    },
    {
     "name": "stdout",
     "output_type": "stream",
     "text": [
      "\t Loss: 4.183,\tTrain : 96.03%(96.03%),\tTest : 95.12%(95.12%),\tCurrent Time: 20250720-211919\n"
     ]
    },
    {
     "name": "stderr",
     "output_type": "stream",
     "text": [
      "Epoch 12/50:: 100%|\u001b[34m███████████████████\u001b[0m| 120/120 [00:02<00:00, 49.28batch/s, loss=0.139644]\u001b[0m\n"
     ]
    },
    {
     "name": "stdout",
     "output_type": "stream",
     "text": [
      "\t Loss: 3.778,\tTrain : 96.39%(96.39%),\tTest : 95.34%(95.34%),\tCurrent Time: 20250720-211922\n"
     ]
    },
    {
     "name": "stderr",
     "output_type": "stream",
     "text": [
      "Epoch 13/50:: 100%|\u001b[34m███████████████████\u001b[0m| 120/120 [00:02<00:00, 49.35batch/s, loss=0.129400]\u001b[0m\n"
     ]
    },
    {
     "name": "stdout",
     "output_type": "stream",
     "text": [
      "\t Loss: 3.600,\tTrain : 96.55%(96.55%),\tTest : 95.45%(95.45%),\tCurrent Time: 20250720-211925\n"
     ]
    },
    {
     "name": "stderr",
     "output_type": "stream",
     "text": [
      "Epoch 14/50:: 100%|\u001b[34m███████████████████\u001b[0m| 120/120 [00:02<00:00, 49.31batch/s, loss=0.122680]\u001b[0m\n"
     ]
    },
    {
     "name": "stdout",
     "output_type": "stream",
     "text": [
      "\t Loss: 3.333,\tTrain : 96.76%(96.76%),\tTest : 95.62%(95.62%),\tCurrent Time: 20250720-211928\n"
     ]
    },
    {
     "name": "stderr",
     "output_type": "stream",
     "text": [
      "Epoch 15/50:: 100%|\u001b[34m███████████████████\u001b[0m| 120/120 [00:02<00:00, 49.45batch/s, loss=0.113061]\u001b[0m\n"
     ]
    },
    {
     "name": "stdout",
     "output_type": "stream",
     "text": [
      "\t Loss: 3.234,\tTrain : 96.88%(96.88%),\tTest : 95.81%(95.81%),\tCurrent Time: 20250720-211931\n"
     ]
    },
    {
     "name": "stderr",
     "output_type": "stream",
     "text": [
      "Epoch 16/50:: 100%|\u001b[34m███████████████████\u001b[0m| 120/120 [00:02<00:00, 49.32batch/s, loss=0.107463]\u001b[0m\n"
     ]
    },
    {
     "name": "stdout",
     "output_type": "stream",
     "text": [
      "\t Loss: 2.949,\tTrain : 97.12%(97.12%),\tTest : 95.87%(95.87%),\tCurrent Time: 20250720-211934\n"
     ]
    },
    {
     "name": "stderr",
     "output_type": "stream",
     "text": [
      "Epoch 17/50:: 100%|\u001b[34m███████████████████\u001b[0m| 120/120 [00:02<00:00, 49.45batch/s, loss=0.102625]\u001b[0m\n"
     ]
    },
    {
     "name": "stdout",
     "output_type": "stream",
     "text": [
      "\t Loss: 2.785,\tTrain : 97.29%(97.29%),\tTest : 96.01%(96.01%),\tCurrent Time: 20250720-211937\n"
     ]
    },
    {
     "name": "stderr",
     "output_type": "stream",
     "text": [
      "Epoch 18/50:: 100%|\u001b[34m███████████████████\u001b[0m| 120/120 [00:02<00:00, 49.12batch/s, loss=0.097958]\u001b[0m\n"
     ]
    },
    {
     "name": "stdout",
     "output_type": "stream",
     "text": [
      "\t Loss: 2.633,\tTrain : 97.48%(97.48%),\tTest : 96.05%(96.05%),\tCurrent Time: 20250720-211940\n"
     ]
    },
    {
     "name": "stderr",
     "output_type": "stream",
     "text": [
      "Epoch 19/50:: 100%|\u001b[34m███████████████████\u001b[0m| 120/120 [00:02<00:00, 49.44batch/s, loss=0.091711]\u001b[0m\n"
     ]
    },
    {
     "name": "stdout",
     "output_type": "stream",
     "text": [
      "\t Loss: 2.423,\tTrain : 97.66%(97.66%),\tTest : 95.99%(96.05%),\tCurrent Time: 20250720-211943\n"
     ]
    },
    {
     "name": "stderr",
     "output_type": "stream",
     "text": [
      "Epoch 20/50:: 100%|\u001b[34m███████████████████\u001b[0m| 120/120 [00:02<00:00, 49.23batch/s, loss=0.087155]\u001b[0m\n"
     ]
    },
    {
     "name": "stdout",
     "output_type": "stream",
     "text": [
      "\t Loss: 2.379,\tTrain : 97.70%(97.70%),\tTest : 96.19%(96.19%),\tCurrent Time: 20250720-211945\n"
     ]
    },
    {
     "name": "stderr",
     "output_type": "stream",
     "text": [
      "Epoch 21/50:: 100%|\u001b[34m███████████████████\u001b[0m| 120/120 [00:02<00:00, 49.44batch/s, loss=0.084073]\u001b[0m\n"
     ]
    },
    {
     "name": "stdout",
     "output_type": "stream",
     "text": [
      "\t Loss: 2.263,\tTrain : 97.77%(97.77%),\tTest : 96.23%(96.23%),\tCurrent Time: 20250720-211948\n"
     ]
    },
    {
     "name": "stderr",
     "output_type": "stream",
     "text": [
      "Epoch 22/50:: 100%|\u001b[34m███████████████████\u001b[0m| 120/120 [00:02<00:00, 49.26batch/s, loss=0.079833]\u001b[0m\n"
     ]
    },
    {
     "name": "stdout",
     "output_type": "stream",
     "text": [
      "\t Loss: 2.249,\tTrain : 97.75%(97.77%),\tTest : 96.09%(96.23%),\tCurrent Time: 20250720-211951\n"
     ]
    },
    {
     "name": "stderr",
     "output_type": "stream",
     "text": [
      "Epoch 23/50:: 100%|\u001b[34m███████████████████\u001b[0m| 120/120 [00:02<00:00, 49.20batch/s, loss=0.074858]\u001b[0m\n"
     ]
    },
    {
     "name": "stdout",
     "output_type": "stream",
     "text": [
      "\t Loss: 2.153,\tTrain : 97.84%(97.84%),\tTest : 96.03%(96.23%),\tCurrent Time: 20250720-211954\n"
     ]
    },
    {
     "name": "stderr",
     "output_type": "stream",
     "text": [
      "Epoch 24/50:: 100%|\u001b[34m███████████████████\u001b[0m| 120/120 [00:02<00:00, 49.15batch/s, loss=0.071645]\u001b[0m\n"
     ]
    },
    {
     "name": "stdout",
     "output_type": "stream",
     "text": [
      "\t Loss: 1.828,\tTrain : 98.18%(98.18%),\tTest : 96.24%(96.24%),\tCurrent Time: 20250720-211957\n"
     ]
    },
    {
     "name": "stderr",
     "output_type": "stream",
     "text": [
      "Epoch 25/50:: 100%|\u001b[34m███████████████████\u001b[0m| 120/120 [00:02<00:00, 49.29batch/s, loss=0.067004]\u001b[0m\n"
     ]
    },
    {
     "name": "stdout",
     "output_type": "stream",
     "text": [
      "\t Loss: 1.777,\tTrain : 98.22%(98.22%),\tTest : 96.35%(96.35%),\tCurrent Time: 20250720-212000\n"
     ]
    },
    {
     "name": "stderr",
     "output_type": "stream",
     "text": [
      "Epoch 26/50:: 100%|\u001b[34m███████████████████\u001b[0m| 120/120 [00:02<00:00, 48.88batch/s, loss=0.065513]\u001b[0m\n"
     ]
    },
    {
     "name": "stdout",
     "output_type": "stream",
     "text": [
      "\t Loss: 1.606,\tTrain : 98.41%(98.41%),\tTest : 96.45%(96.45%),\tCurrent Time: 20250720-212003\n"
     ]
    },
    {
     "name": "stderr",
     "output_type": "stream",
     "text": [
      "Epoch 27/50:: 100%|\u001b[34m███████████████████\u001b[0m| 120/120 [00:02<00:00, 49.37batch/s, loss=0.062238]\u001b[0m\n"
     ]
    },
    {
     "name": "stdout",
     "output_type": "stream",
     "text": [
      "\t Loss: 1.565,\tTrain : 98.50%(98.50%),\tTest : 96.36%(96.45%),\tCurrent Time: 20250720-212006\n"
     ]
    },
    {
     "name": "stderr",
     "output_type": "stream",
     "text": [
      "Epoch 28/50:: 100%|\u001b[34m███████████████████\u001b[0m| 120/120 [00:02<00:00, 49.35batch/s, loss=0.058765]\u001b[0m\n"
     ]
    },
    {
     "name": "stdout",
     "output_type": "stream",
     "text": [
      "\t Loss: 1.471,\tTrain : 98.53%(98.53%),\tTest : 96.40%(96.45%),\tCurrent Time: 20250720-212009\n"
     ]
    },
    {
     "name": "stderr",
     "output_type": "stream",
     "text": [
      "Epoch 29/50:: 100%|\u001b[34m███████████████████\u001b[0m| 120/120 [00:02<00:00, 49.35batch/s, loss=0.055201]\u001b[0m\n"
     ]
    },
    {
     "name": "stdout",
     "output_type": "stream",
     "text": [
      "\t Loss: 1.539,\tTrain : 98.45%(98.53%),\tTest : 96.39%(96.45%),\tCurrent Time: 20250720-212011\n"
     ]
    },
    {
     "name": "stderr",
     "output_type": "stream",
     "text": [
      "Epoch 30/50:: 100%|\u001b[34m███████████████████\u001b[0m| 120/120 [00:02<00:00, 49.41batch/s, loss=0.053962]\u001b[0m\n"
     ]
    },
    {
     "name": "stdout",
     "output_type": "stream",
     "text": [
      "\t Loss: 1.378,\tTrain : 98.57%(98.57%),\tTest : 96.15%(96.45%),\tCurrent Time: 20250720-212014\n"
     ]
    },
    {
     "name": "stderr",
     "output_type": "stream",
     "text": [
      "Epoch 31/50:: 100%|\u001b[34m███████████████████\u001b[0m| 120/120 [00:02<00:00, 49.44batch/s, loss=0.054842]\u001b[0m\n"
     ]
    },
    {
     "name": "stdout",
     "output_type": "stream",
     "text": [
      "\t Loss: 1.428,\tTrain : 98.53%(98.57%),\tTest : 96.37%(96.45%),\tCurrent Time: 20250720-212017\n"
     ]
    },
    {
     "name": "stderr",
     "output_type": "stream",
     "text": [
      "Epoch 32/50:: 100%|\u001b[34m███████████████████\u001b[0m| 120/120 [00:02<00:00, 49.24batch/s, loss=0.052875]\u001b[0m\n"
     ]
    },
    {
     "name": "stdout",
     "output_type": "stream",
     "text": [
      "\t Loss: 1.313,\tTrain : 98.65%(98.65%),\tTest : 96.40%(96.45%),\tCurrent Time: 20250720-212020\n"
     ]
    },
    {
     "name": "stderr",
     "output_type": "stream",
     "text": [
      "Epoch 33/50:: 100%|\u001b[34m███████████████████\u001b[0m| 120/120 [00:02<00:00, 49.23batch/s, loss=0.048050]\u001b[0m\n"
     ]
    },
    {
     "name": "stdout",
     "output_type": "stream",
     "text": [
      "\t Loss: 1.325,\tTrain : 98.69%(98.69%),\tTest : 96.28%(96.45%),\tCurrent Time: 20250720-212023\n"
     ]
    },
    {
     "name": "stderr",
     "output_type": "stream",
     "text": [
      "Epoch 34/50:: 100%|\u001b[34m███████████████████\u001b[0m| 120/120 [00:02<00:00, 48.91batch/s, loss=0.046437]\u001b[0m\n"
     ]
    },
    {
     "name": "stdout",
     "output_type": "stream",
     "text": [
      "\t Loss: 1.284,\tTrain : 98.67%(98.69%),\tTest : 96.15%(96.45%),\tCurrent Time: 20250720-212026\n"
     ]
    },
    {
     "name": "stderr",
     "output_type": "stream",
     "text": [
      "Epoch 35/50:: 100%|\u001b[34m███████████████████\u001b[0m| 120/120 [00:02<00:00, 49.33batch/s, loss=0.046725]\u001b[0m\n"
     ]
    },
    {
     "name": "stdout",
     "output_type": "stream",
     "text": [
      "\t Loss: 1.146,\tTrain : 98.87%(98.87%),\tTest : 96.26%(96.45%),\tCurrent Time: 20250720-212029\n"
     ]
    },
    {
     "name": "stderr",
     "output_type": "stream",
     "text": [
      "Epoch 36/50:: 100%|\u001b[34m███████████████████\u001b[0m| 120/120 [00:02<00:00, 49.48batch/s, loss=0.045323]\u001b[0m\n"
     ]
    },
    {
     "name": "stdout",
     "output_type": "stream",
     "text": [
      "\t Loss: 1.160,\tTrain : 98.86%(98.87%),\tTest : 96.55%(96.55%),\tCurrent Time: 20250720-212032\n"
     ]
    },
    {
     "name": "stderr",
     "output_type": "stream",
     "text": [
      "Epoch 37/50:: 100%|\u001b[34m███████████████████\u001b[0m| 120/120 [00:02<00:00, 49.37batch/s, loss=0.041567]\u001b[0m\n"
     ]
    },
    {
     "name": "stdout",
     "output_type": "stream",
     "text": [
      "\t Loss: 1.229,\tTrain : 98.72%(98.87%),\tTest : 96.38%(96.55%),\tCurrent Time: 20250720-212035\n"
     ]
    },
    {
     "name": "stderr",
     "output_type": "stream",
     "text": [
      "Epoch 38/50:: 100%|\u001b[34m███████████████████\u001b[0m| 120/120 [00:02<00:00, 49.37batch/s, loss=0.043945]\u001b[0m\n"
     ]
    },
    {
     "name": "stdout",
     "output_type": "stream",
     "text": [
      "\t Loss: 1.000,\tTrain : 99.01%(99.01%),\tTest : 96.63%(96.63%),\tCurrent Time: 20250720-212037\n"
     ]
    },
    {
     "name": "stderr",
     "output_type": "stream",
     "text": [
      "Epoch 39/50:: 100%|\u001b[34m███████████████████\u001b[0m| 120/120 [00:02<00:00, 49.21batch/s, loss=0.039852]\u001b[0m\n"
     ]
    },
    {
     "name": "stdout",
     "output_type": "stream",
     "text": [
      "\t Loss: 1.041,\tTrain : 98.96%(99.01%),\tTest : 96.28%(96.63%),\tCurrent Time: 20250720-212040\n"
     ]
    },
    {
     "name": "stderr",
     "output_type": "stream",
     "text": [
      "Epoch 40/50:: 100%|\u001b[34m███████████████████\u001b[0m| 120/120 [00:02<00:00, 49.18batch/s, loss=0.038189]\u001b[0m\n"
     ]
    },
    {
     "name": "stdout",
     "output_type": "stream",
     "text": [
      "\t Loss: 0.974,\tTrain : 98.99%(99.01%),\tTest : 96.45%(96.63%),\tCurrent Time: 20250720-212043\n"
     ]
    },
    {
     "name": "stderr",
     "output_type": "stream",
     "text": [
      "Epoch 41/50:: 100%|\u001b[34m███████████████████\u001b[0m| 120/120 [00:02<00:00, 49.14batch/s, loss=0.036955]\u001b[0m\n"
     ]
    },
    {
     "name": "stdout",
     "output_type": "stream",
     "text": [
      "\t Loss: 0.956,\tTrain : 99.05%(99.05%),\tTest : 96.54%(96.63%),\tCurrent Time: 20250720-212046\n"
     ]
    },
    {
     "name": "stderr",
     "output_type": "stream",
     "text": [
      "Epoch 42/50:: 100%|\u001b[34m███████████████████\u001b[0m| 120/120 [00:02<00:00, 49.32batch/s, loss=0.038270]\u001b[0m\n"
     ]
    },
    {
     "name": "stdout",
     "output_type": "stream",
     "text": [
      "\t Loss: 0.913,\tTrain : 99.08%(99.08%),\tTest : 96.28%(96.63%),\tCurrent Time: 20250720-212049\n"
     ]
    },
    {
     "name": "stderr",
     "output_type": "stream",
     "text": [
      "Epoch 43/50:: 100%|\u001b[34m███████████████████\u001b[0m| 120/120 [00:02<00:00, 49.33batch/s, loss=0.035388]\u001b[0m\n"
     ]
    },
    {
     "name": "stdout",
     "output_type": "stream",
     "text": [
      "\t Loss: 0.860,\tTrain : 99.09%(99.09%),\tTest : 96.37%(96.63%),\tCurrent Time: 20250720-212052\n"
     ]
    },
    {
     "name": "stderr",
     "output_type": "stream",
     "text": [
      "Epoch 44/50:: 100%|\u001b[34m███████████████████\u001b[0m| 120/120 [00:02<00:00, 49.40batch/s, loss=0.033366]\u001b[0m\n"
     ]
    },
    {
     "name": "stdout",
     "output_type": "stream",
     "text": [
      "\t Loss: 0.950,\tTrain : 99.04%(99.09%),\tTest : 96.15%(96.63%),\tCurrent Time: 20250720-212055\n"
     ]
    },
    {
     "name": "stderr",
     "output_type": "stream",
     "text": [
      "Epoch 45/50:: 100%|\u001b[34m███████████████████\u001b[0m| 120/120 [00:02<00:00, 49.23batch/s, loss=0.041952]\u001b[0m\n"
     ]
    },
    {
     "name": "stdout",
     "output_type": "stream",
     "text": [
      "\t Loss: 0.951,\tTrain : 99.00%(99.09%),\tTest : 96.36%(96.63%),\tCurrent Time: 20250720-212058\n"
     ]
    },
    {
     "name": "stderr",
     "output_type": "stream",
     "text": [
      "Epoch 46/50:: 100%|\u001b[34m███████████████████\u001b[0m| 120/120 [00:02<00:00, 49.20batch/s, loss=0.033375]\u001b[0m\n"
     ]
    },
    {
     "name": "stdout",
     "output_type": "stream",
     "text": [
      "\t Loss: 1.131,\tTrain : 98.80%(99.09%),\tTest : 96.26%(96.63%),\tCurrent Time: 20250720-212101\n"
     ]
    },
    {
     "name": "stderr",
     "output_type": "stream",
     "text": [
      "Epoch 47/50:: 100%|\u001b[34m███████████████████\u001b[0m| 120/120 [00:02<00:00, 49.13batch/s, loss=0.032160]\u001b[0m\n"
     ]
    },
    {
     "name": "stdout",
     "output_type": "stream",
     "text": [
      "\t Loss: 1.282,\tTrain : 98.58%(99.09%),\tTest : 95.95%(96.63%),\tCurrent Time: 20250720-212104\n"
     ]
    },
    {
     "name": "stderr",
     "output_type": "stream",
     "text": [
      "Epoch 48/50:: 100%|\u001b[34m███████████████████\u001b[0m| 120/120 [00:02<00:00, 49.41batch/s, loss=0.038107]\u001b[0m\n"
     ]
    },
    {
     "name": "stdout",
     "output_type": "stream",
     "text": [
      "\t Loss: 0.886,\tTrain : 99.04%(99.09%),\tTest : 96.42%(96.63%),\tCurrent Time: 20250720-212106\n"
     ]
    },
    {
     "name": "stderr",
     "output_type": "stream",
     "text": [
      "Epoch 49/50:: 100%|\u001b[34m███████████████████\u001b[0m| 120/120 [00:02<00:00, 49.08batch/s, loss=0.029895]\u001b[0m\n"
     ]
    },
    {
     "name": "stdout",
     "output_type": "stream",
     "text": [
      "\t Loss: 0.640,\tTrain : 99.34%(99.34%),\tTest : 96.54%(96.63%),\tCurrent Time: 20250720-212109\n"
     ]
    },
    {
     "name": "stderr",
     "output_type": "stream",
     "text": [
      "Epoch 50/50:: 100%|\u001b[34m███████████████████\u001b[0m| 120/120 [00:02<00:00, 49.30batch/s, loss=0.027617]\u001b[0m\n"
     ]
    },
    {
     "name": "stdout",
     "output_type": "stream",
     "text": [
      "\t Loss: 0.712,\tTrain : 99.23%(99.34%),\tTest : 96.42%(96.63%),\tCurrent Time: 20250720-212112\n",
      "First_asymm_AG_10HL_Res-Task2-0-EP_L10--MNIST_EP_b_sc0.1- Time: 20250720-212112, Epochs: 50, Learning Rate: 0.001, Best: 99.34%  96.63%\n",
      "\n",
      "[[0 1 0 0 0 0 0 0 0 0 0 0]\n",
      " [1 0 1 0 0 0 0 1 0 0 0 0]\n",
      " [0 1 0 1 0 0 0 0 1 0 0 0]\n",
      " [0 1 1 0 1 0 0 0 0 0 0 0]\n",
      " [0 0 0 1 0 1 0 0 0 1 0 0]\n",
      " [0 0 0 0 1 0 1 0 0 0 0 0]\n",
      " [0 1 0 0 0 1 0 1 0 1 0 0]\n",
      " [0 0 0 0 0 1 1 0 1 0 0 0]\n",
      " [0 0 0 0 0 0 0 1 0 1 0 0]\n",
      " [0 1 1 0 0 1 0 0 1 0 1 0]\n",
      " [0 0 0 0 0 0 0 0 0 1 0 1]\n",
      " [0 0 0 0 0 0 0 0 0 0 1 0]]\n",
      "First_asymm_AG_10HL_Res-Task2-0-EP_L10--MNIST_EP_b_sc0.1-\n"
     ]
    },
    {
     "name": "stderr",
     "output_type": "stream",
     "text": [
      "Epoch 1/50:: 100%|\u001b[34m████████████████████\u001b[0m| 120/120 [00:02<00:00, 46.25batch/s, loss=2.075503]\u001b[0m\n"
     ]
    },
    {
     "name": "stdout",
     "output_type": "stream",
     "text": [
      "\t Loss: 40.679,\tTrain : 61.28%(61.28%),\tTest : 61.03%(61.03%),\tCurrent Time: 20250720-212120\n"
     ]
    },
    {
     "name": "stderr",
     "output_type": "stream",
     "text": [
      "Epoch 2/50:: 100%|\u001b[34m████████████████████\u001b[0m| 120/120 [00:02<00:00, 49.74batch/s, loss=0.861283]\u001b[0m\n"
     ]
    },
    {
     "name": "stdout",
     "output_type": "stream",
     "text": [
      "\t Loss: 15.642,\tTrain : 87.10%(87.10%),\tTest : 87.61%(87.61%),\tCurrent Time: 20250720-212122\n"
     ]
    },
    {
     "name": "stderr",
     "output_type": "stream",
     "text": [
      "Epoch 3/50:: 100%|\u001b[34m████████████████████\u001b[0m| 120/120 [00:02<00:00, 49.78batch/s, loss=0.432817]\u001b[0m\n"
     ]
    },
    {
     "name": "stdout",
     "output_type": "stream",
     "text": [
      "\t Loss: 10.783,\tTrain : 90.54%(90.54%),\tTest : 90.83%(90.83%),\tCurrent Time: 20250720-212125\n"
     ]
    },
    {
     "name": "stderr",
     "output_type": "stream",
     "text": [
      "Epoch 4/50:: 100%|\u001b[34m████████████████████\u001b[0m| 120/120 [00:02<00:00, 50.01batch/s, loss=0.330906]\u001b[0m\n"
     ]
    },
    {
     "name": "stdout",
     "output_type": "stream",
     "text": [
      "\t Loss: 8.716,\tTrain : 92.17%(92.17%),\tTest : 91.90%(91.90%),\tCurrent Time: 20250720-212128\n"
     ]
    },
    {
     "name": "stderr",
     "output_type": "stream",
     "text": [
      "Epoch 5/50:: 100%|\u001b[34m████████████████████\u001b[0m| 120/120 [00:02<00:00, 49.74batch/s, loss=0.273674]\u001b[0m\n"
     ]
    },
    {
     "name": "stdout",
     "output_type": "stream",
     "text": [
      "\t Loss: 7.487,\tTrain : 93.08%(93.08%),\tTest : 92.80%(92.80%),\tCurrent Time: 20250720-212131\n"
     ]
    },
    {
     "name": "stderr",
     "output_type": "stream",
     "text": [
      "Epoch 6/50:: 100%|\u001b[34m████████████████████\u001b[0m| 120/120 [00:02<00:00, 49.80batch/s, loss=0.241606]\u001b[0m\n"
     ]
    },
    {
     "name": "stdout",
     "output_type": "stream",
     "text": [
      "\t Loss: 6.677,\tTrain : 93.77%(93.77%),\tTest : 93.20%(93.20%),\tCurrent Time: 20250720-212134\n"
     ]
    },
    {
     "name": "stderr",
     "output_type": "stream",
     "text": [
      "Epoch 7/50:: 100%|\u001b[34m████████████████████\u001b[0m| 120/120 [00:02<00:00, 49.69batch/s, loss=0.214104]\u001b[0m\n"
     ]
    },
    {
     "name": "stdout",
     "output_type": "stream",
     "text": [
      "\t Loss: 5.996,\tTrain : 94.42%(94.42%),\tTest : 93.95%(93.95%),\tCurrent Time: 20250720-212137\n"
     ]
    },
    {
     "name": "stderr",
     "output_type": "stream",
     "text": [
      "Epoch 8/50:: 100%|\u001b[34m████████████████████\u001b[0m| 120/120 [00:02<00:00, 49.63batch/s, loss=0.195072]\u001b[0m\n"
     ]
    },
    {
     "name": "stdout",
     "output_type": "stream",
     "text": [
      "\t Loss: 5.355,\tTrain : 94.91%(94.91%),\tTest : 94.20%(94.20%),\tCurrent Time: 20250720-212140\n"
     ]
    },
    {
     "name": "stderr",
     "output_type": "stream",
     "text": [
      "Epoch 9/50:: 100%|\u001b[34m████████████████████\u001b[0m| 120/120 [00:02<00:00, 49.85batch/s, loss=0.176999]\u001b[0m\n"
     ]
    },
    {
     "name": "stdout",
     "output_type": "stream",
     "text": [
      "\t Loss: 5.173,\tTrain : 95.08%(95.08%),\tTest : 94.43%(94.43%),\tCurrent Time: 20250720-212142\n"
     ]
    },
    {
     "name": "stderr",
     "output_type": "stream",
     "text": [
      "Epoch 10/50:: 100%|\u001b[34m███████████████████\u001b[0m| 120/120 [00:02<00:00, 49.83batch/s, loss=0.161890]\u001b[0m\n"
     ]
    },
    {
     "name": "stdout",
     "output_type": "stream",
     "text": [
      "\t Loss: 4.493,\tTrain : 95.80%(95.80%),\tTest : 94.93%(94.93%),\tCurrent Time: 20250720-212145\n"
     ]
    },
    {
     "name": "stderr",
     "output_type": "stream",
     "text": [
      "Epoch 11/50:: 100%|\u001b[34m███████████████████\u001b[0m| 120/120 [00:02<00:00, 49.62batch/s, loss=0.149859]\u001b[0m\n"
     ]
    },
    {
     "name": "stdout",
     "output_type": "stream",
     "text": [
      "\t Loss: 4.083,\tTrain : 96.17%(96.17%),\tTest : 95.24%(95.24%),\tCurrent Time: 20250720-212148\n"
     ]
    },
    {
     "name": "stderr",
     "output_type": "stream",
     "text": [
      "Epoch 12/50:: 100%|\u001b[34m███████████████████\u001b[0m| 120/120 [00:02<00:00, 49.74batch/s, loss=0.141121]\u001b[0m\n"
     ]
    },
    {
     "name": "stdout",
     "output_type": "stream",
     "text": [
      "\t Loss: 3.849,\tTrain : 96.33%(96.33%),\tTest : 95.43%(95.43%),\tCurrent Time: 20250720-212151\n"
     ]
    },
    {
     "name": "stderr",
     "output_type": "stream",
     "text": [
      "Epoch 13/50:: 100%|\u001b[34m███████████████████\u001b[0m| 120/120 [00:02<00:00, 49.73batch/s, loss=0.131310]\u001b[0m\n"
     ]
    },
    {
     "name": "stdout",
     "output_type": "stream",
     "text": [
      "\t Loss: 3.740,\tTrain : 96.34%(96.34%),\tTest : 95.49%(95.49%),\tCurrent Time: 20250720-212154\n"
     ]
    },
    {
     "name": "stderr",
     "output_type": "stream",
     "text": [
      "Epoch 14/50:: 100%|\u001b[34m███████████████████\u001b[0m| 120/120 [00:02<00:00, 50.01batch/s, loss=0.123358]\u001b[0m\n"
     ]
    },
    {
     "name": "stdout",
     "output_type": "stream",
     "text": [
      "\t Loss: 3.583,\tTrain : 96.47%(96.47%),\tTest : 95.44%(95.49%),\tCurrent Time: 20250720-212157\n"
     ]
    },
    {
     "name": "stderr",
     "output_type": "stream",
     "text": [
      "Epoch 15/50:: 100%|\u001b[34m███████████████████\u001b[0m| 120/120 [00:02<00:00, 49.93batch/s, loss=0.116581]\u001b[0m\n"
     ]
    },
    {
     "name": "stdout",
     "output_type": "stream",
     "text": [
      "\t Loss: 3.255,\tTrain : 96.93%(96.93%),\tTest : 95.75%(95.75%),\tCurrent Time: 20250720-212200\n"
     ]
    },
    {
     "name": "stderr",
     "output_type": "stream",
     "text": [
      "Epoch 16/50:: 100%|\u001b[34m███████████████████\u001b[0m| 120/120 [00:02<00:00, 49.75batch/s, loss=0.111267]\u001b[0m\n"
     ]
    },
    {
     "name": "stdout",
     "output_type": "stream",
     "text": [
      "\t Loss: 3.084,\tTrain : 96.98%(96.98%),\tTest : 95.93%(95.93%),\tCurrent Time: 20250720-212203\n"
     ]
    },
    {
     "name": "stderr",
     "output_type": "stream",
     "text": [
      "Epoch 17/50:: 100%|\u001b[34m███████████████████\u001b[0m| 120/120 [00:02<00:00, 49.72batch/s, loss=0.103950]\u001b[0m\n"
     ]
    },
    {
     "name": "stdout",
     "output_type": "stream",
     "text": [
      "\t Loss: 2.835,\tTrain : 97.24%(97.24%),\tTest : 95.91%(95.93%),\tCurrent Time: 20250720-212205\n"
     ]
    },
    {
     "name": "stderr",
     "output_type": "stream",
     "text": [
      "Epoch 18/50:: 100%|\u001b[34m███████████████████\u001b[0m| 120/120 [00:02<00:00, 49.77batch/s, loss=0.099172]\u001b[0m\n"
     ]
    },
    {
     "name": "stdout",
     "output_type": "stream",
     "text": [
      "\t Loss: 2.638,\tTrain : 97.44%(97.44%),\tTest : 96.12%(96.12%),\tCurrent Time: 20250720-212208\n"
     ]
    },
    {
     "name": "stderr",
     "output_type": "stream",
     "text": [
      "Epoch 19/50:: 100%|\u001b[34m███████████████████\u001b[0m| 120/120 [00:02<00:00, 49.77batch/s, loss=0.092267]\u001b[0m\n"
     ]
    },
    {
     "name": "stdout",
     "output_type": "stream",
     "text": [
      "\t Loss: 2.456,\tTrain : 97.61%(97.61%),\tTest : 96.32%(96.32%),\tCurrent Time: 20250720-212211\n"
     ]
    },
    {
     "name": "stderr",
     "output_type": "stream",
     "text": [
      "Epoch 20/50:: 100%|\u001b[34m███████████████████\u001b[0m| 120/120 [00:02<00:00, 49.61batch/s, loss=0.088528]\u001b[0m\n"
     ]
    },
    {
     "name": "stdout",
     "output_type": "stream",
     "text": [
      "\t Loss: 2.406,\tTrain : 97.66%(97.66%),\tTest : 96.20%(96.32%),\tCurrent Time: 20250720-212214\n"
     ]
    },
    {
     "name": "stderr",
     "output_type": "stream",
     "text": [
      "Epoch 21/50:: 100%|\u001b[34m███████████████████\u001b[0m| 120/120 [00:02<00:00, 49.87batch/s, loss=0.081342]\u001b[0m\n"
     ]
    },
    {
     "name": "stdout",
     "output_type": "stream",
     "text": [
      "\t Loss: 2.178,\tTrain : 97.89%(97.89%),\tTest : 96.51%(96.51%),\tCurrent Time: 20250720-212217\n"
     ]
    },
    {
     "name": "stderr",
     "output_type": "stream",
     "text": [
      "Epoch 22/50:: 100%|\u001b[34m███████████████████\u001b[0m| 120/120 [00:02<00:00, 49.76batch/s, loss=0.077598]\u001b[0m\n"
     ]
    },
    {
     "name": "stdout",
     "output_type": "stream",
     "text": [
      "\t Loss: 2.026,\tTrain : 98.03%(98.03%),\tTest : 96.51%(96.51%),\tCurrent Time: 20250720-212220\n"
     ]
    },
    {
     "name": "stderr",
     "output_type": "stream",
     "text": [
      "Epoch 23/50:: 100%|\u001b[34m███████████████████\u001b[0m| 120/120 [00:02<00:00, 49.84batch/s, loss=0.073918]\u001b[0m\n"
     ]
    },
    {
     "name": "stdout",
     "output_type": "stream",
     "text": [
      "\t Loss: 2.175,\tTrain : 97.81%(98.03%),\tTest : 96.34%(96.51%),\tCurrent Time: 20250720-212223\n"
     ]
    },
    {
     "name": "stderr",
     "output_type": "stream",
     "text": [
      "Epoch 24/50:: 100%|\u001b[34m███████████████████\u001b[0m| 120/120 [00:02<00:00, 49.85batch/s, loss=0.072574]\u001b[0m\n"
     ]
    },
    {
     "name": "stdout",
     "output_type": "stream",
     "text": [
      "\t Loss: 1.936,\tTrain : 98.11%(98.11%),\tTest : 96.52%(96.52%),\tCurrent Time: 20250720-212225\n"
     ]
    },
    {
     "name": "stderr",
     "output_type": "stream",
     "text": [
      "Epoch 25/50:: 100%|\u001b[34m███████████████████\u001b[0m| 120/120 [00:02<00:00, 49.88batch/s, loss=0.067860]\u001b[0m\n"
     ]
    },
    {
     "name": "stdout",
     "output_type": "stream",
     "text": [
      "\t Loss: 1.907,\tTrain : 98.12%(98.12%),\tTest : 96.65%(96.65%),\tCurrent Time: 20250720-212228\n"
     ]
    },
    {
     "name": "stderr",
     "output_type": "stream",
     "text": [
      "Epoch 26/50:: 100%|\u001b[34m███████████████████\u001b[0m| 120/120 [00:02<00:00, 49.76batch/s, loss=0.068389]\u001b[0m\n"
     ]
    },
    {
     "name": "stdout",
     "output_type": "stream",
     "text": [
      "\t Loss: 2.307,\tTrain : 97.59%(98.12%),\tTest : 96.13%(96.65%),\tCurrent Time: 20250720-212231\n"
     ]
    },
    {
     "name": "stderr",
     "output_type": "stream",
     "text": [
      "Epoch 27/50:: 100%|\u001b[34m███████████████████\u001b[0m| 120/120 [00:02<00:00, 49.86batch/s, loss=0.065749]\u001b[0m\n"
     ]
    },
    {
     "name": "stdout",
     "output_type": "stream",
     "text": [
      "\t Loss: 1.848,\tTrain : 98.16%(98.16%),\tTest : 96.49%(96.65%),\tCurrent Time: 20250720-212234\n"
     ]
    },
    {
     "name": "stderr",
     "output_type": "stream",
     "text": [
      "Epoch 28/50:: 100%|\u001b[34m███████████████████\u001b[0m| 120/120 [00:02<00:00, 49.69batch/s, loss=0.059898]\u001b[0m\n"
     ]
    },
    {
     "name": "stdout",
     "output_type": "stream",
     "text": [
      "\t Loss: 1.501,\tTrain : 98.51%(98.51%),\tTest : 96.58%(96.65%),\tCurrent Time: 20250720-212237\n"
     ]
    },
    {
     "name": "stderr",
     "output_type": "stream",
     "text": [
      "Epoch 29/50:: 100%|\u001b[34m███████████████████\u001b[0m| 120/120 [00:02<00:00, 49.92batch/s, loss=0.059866]\u001b[0m\n"
     ]
    },
    {
     "name": "stdout",
     "output_type": "stream",
     "text": [
      "\t Loss: 1.382,\tTrain : 98.65%(98.65%),\tTest : 96.76%(96.76%),\tCurrent Time: 20250720-212240\n"
     ]
    },
    {
     "name": "stderr",
     "output_type": "stream",
     "text": [
      "Epoch 30/50:: 100%|\u001b[34m███████████████████\u001b[0m| 120/120 [00:02<00:00, 49.91batch/s, loss=0.054144]\u001b[0m\n"
     ]
    },
    {
     "name": "stdout",
     "output_type": "stream",
     "text": [
      "\t Loss: 1.305,\tTrain : 98.76%(98.76%),\tTest : 96.86%(96.86%),\tCurrent Time: 20250720-212243\n"
     ]
    },
    {
     "name": "stderr",
     "output_type": "stream",
     "text": [
      "Epoch 31/50:: 100%|\u001b[34m███████████████████\u001b[0m| 120/120 [00:02<00:00, 49.80batch/s, loss=0.052988]\u001b[0m\n"
     ]
    },
    {
     "name": "stdout",
     "output_type": "stream",
     "text": [
      "\t Loss: 1.272,\tTrain : 98.79%(98.79%),\tTest : 96.68%(96.86%),\tCurrent Time: 20250720-212246\n"
     ]
    },
    {
     "name": "stderr",
     "output_type": "stream",
     "text": [
      "Epoch 32/50:: 100%|\u001b[34m███████████████████\u001b[0m| 120/120 [00:02<00:00, 49.75batch/s, loss=0.053048]\u001b[0m\n"
     ]
    },
    {
     "name": "stdout",
     "output_type": "stream",
     "text": [
      "\t Loss: 1.447,\tTrain : 98.50%(98.79%),\tTest : 96.53%(96.86%),\tCurrent Time: 20250720-212248\n"
     ]
    },
    {
     "name": "stderr",
     "output_type": "stream",
     "text": [
      "Epoch 33/50:: 100%|\u001b[34m███████████████████\u001b[0m| 120/120 [00:02<00:00, 49.71batch/s, loss=0.052781]\u001b[0m\n"
     ]
    },
    {
     "name": "stdout",
     "output_type": "stream",
     "text": [
      "\t Loss: 1.435,\tTrain : 98.50%(98.79%),\tTest : 96.55%(96.86%),\tCurrent Time: 20250720-212251\n"
     ]
    },
    {
     "name": "stderr",
     "output_type": "stream",
     "text": [
      "Epoch 34/50:: 100%|\u001b[34m███████████████████\u001b[0m| 120/120 [00:02<00:00, 49.81batch/s, loss=0.049605]\u001b[0m\n"
     ]
    },
    {
     "name": "stdout",
     "output_type": "stream",
     "text": [
      "\t Loss: 1.311,\tTrain : 98.72%(98.79%),\tTest : 96.57%(96.86%),\tCurrent Time: 20250720-212254\n"
     ]
    },
    {
     "name": "stderr",
     "output_type": "stream",
     "text": [
      "Epoch 35/50:: 100%|\u001b[34m███████████████████\u001b[0m| 120/120 [00:02<00:00, 49.55batch/s, loss=0.044039]\u001b[0m\n"
     ]
    },
    {
     "name": "stdout",
     "output_type": "stream",
     "text": [
      "\t Loss: 1.149,\tTrain : 98.83%(98.83%),\tTest : 96.71%(96.86%),\tCurrent Time: 20250720-212257\n"
     ]
    },
    {
     "name": "stderr",
     "output_type": "stream",
     "text": [
      "Epoch 36/50:: 100%|\u001b[34m███████████████████\u001b[0m| 120/120 [00:02<00:00, 49.68batch/s, loss=0.044714]\u001b[0m\n"
     ]
    },
    {
     "name": "stdout",
     "output_type": "stream",
     "text": [
      "\t Loss: 1.072,\tTrain : 98.94%(98.94%),\tTest : 96.74%(96.86%),\tCurrent Time: 20250720-212300\n"
     ]
    },
    {
     "name": "stderr",
     "output_type": "stream",
     "text": [
      "Epoch 37/50:: 100%|\u001b[34m███████████████████\u001b[0m| 120/120 [00:02<00:00, 49.65batch/s, loss=0.043561]\u001b[0m\n"
     ]
    },
    {
     "name": "stdout",
     "output_type": "stream",
     "text": [
      "\t Loss: 1.279,\tTrain : 98.63%(98.94%),\tTest : 96.38%(96.86%),\tCurrent Time: 20250720-212303\n"
     ]
    },
    {
     "name": "stderr",
     "output_type": "stream",
     "text": [
      "Epoch 38/50:: 100%|\u001b[34m███████████████████\u001b[0m| 120/120 [00:02<00:00, 49.89batch/s, loss=0.042554]\u001b[0m\n"
     ]
    },
    {
     "name": "stdout",
     "output_type": "stream",
     "text": [
      "\t Loss: 1.611,\tTrain : 98.25%(98.94%),\tTest : 96.33%(96.86%),\tCurrent Time: 20250720-212306\n"
     ]
    },
    {
     "name": "stderr",
     "output_type": "stream",
     "text": [
      "Epoch 39/50:: 100%|\u001b[34m███████████████████\u001b[0m| 120/120 [00:02<00:00, 49.80batch/s, loss=0.041905]\u001b[0m\n"
     ]
    },
    {
     "name": "stdout",
     "output_type": "stream",
     "text": [
      "\t Loss: 1.244,\tTrain : 98.71%(98.94%),\tTest : 96.31%(96.86%),\tCurrent Time: 20250720-212308\n"
     ]
    },
    {
     "name": "stderr",
     "output_type": "stream",
     "text": [
      "Epoch 40/50:: 100%|\u001b[34m███████████████████\u001b[0m| 120/120 [00:02<00:00, 49.70batch/s, loss=0.038625]\u001b[0m\n"
     ]
    },
    {
     "name": "stdout",
     "output_type": "stream",
     "text": [
      "\t Loss: 0.993,\tTrain : 98.99%(98.99%),\tTest : 96.62%(96.86%),\tCurrent Time: 20250720-212311\n"
     ]
    },
    {
     "name": "stderr",
     "output_type": "stream",
     "text": [
      "Epoch 41/50:: 100%|\u001b[34m███████████████████\u001b[0m| 120/120 [00:02<00:00, 49.99batch/s, loss=0.036648]\u001b[0m\n"
     ]
    },
    {
     "name": "stdout",
     "output_type": "stream",
     "text": [
      "\t Loss: 1.148,\tTrain : 98.78%(98.99%),\tTest : 96.27%(96.86%),\tCurrent Time: 20250720-212314\n"
     ]
    },
    {
     "name": "stderr",
     "output_type": "stream",
     "text": [
      "Epoch 42/50:: 100%|\u001b[34m███████████████████\u001b[0m| 120/120 [00:02<00:00, 49.85batch/s, loss=0.033965]\u001b[0m\n"
     ]
    },
    {
     "name": "stdout",
     "output_type": "stream",
     "text": [
      "\t Loss: 0.882,\tTrain : 99.08%(99.08%),\tTest : 96.65%(96.86%),\tCurrent Time: 20250720-212317\n"
     ]
    },
    {
     "name": "stderr",
     "output_type": "stream",
     "text": [
      "Epoch 43/50:: 100%|\u001b[34m███████████████████\u001b[0m| 120/120 [00:02<00:00, 49.82batch/s, loss=0.031212]\u001b[0m\n"
     ]
    },
    {
     "name": "stdout",
     "output_type": "stream",
     "text": [
      "\t Loss: 0.863,\tTrain : 99.10%(99.10%),\tTest : 96.41%(96.86%),\tCurrent Time: 20250720-212320\n"
     ]
    },
    {
     "name": "stderr",
     "output_type": "stream",
     "text": [
      "Epoch 44/50:: 100%|\u001b[34m███████████████████\u001b[0m| 120/120 [00:02<00:00, 50.00batch/s, loss=0.031208]\u001b[0m\n"
     ]
    },
    {
     "name": "stdout",
     "output_type": "stream",
     "text": [
      "\t Loss: 1.082,\tTrain : 98.84%(99.10%),\tTest : 96.19%(96.86%),\tCurrent Time: 20250720-212323\n"
     ]
    },
    {
     "name": "stderr",
     "output_type": "stream",
     "text": [
      "Epoch 45/50:: 100%|\u001b[34m███████████████████\u001b[0m| 120/120 [00:02<00:00, 49.93batch/s, loss=0.033045]\u001b[0m\n"
     ]
    },
    {
     "name": "stdout",
     "output_type": "stream",
     "text": [
      "\t Loss: 0.716,\tTrain : 99.24%(99.24%),\tTest : 96.74%(96.86%),\tCurrent Time: 20250720-212326\n"
     ]
    },
    {
     "name": "stderr",
     "output_type": "stream",
     "text": [
      "Epoch 46/50:: 100%|\u001b[34m███████████████████\u001b[0m| 120/120 [00:02<00:00, 49.98batch/s, loss=0.032740]\u001b[0m\n"
     ]
    },
    {
     "name": "stdout",
     "output_type": "stream",
     "text": [
      "\t Loss: 0.719,\tTrain : 99.26%(99.26%),\tTest : 96.55%(96.86%),\tCurrent Time: 20250720-212329\n"
     ]
    },
    {
     "name": "stderr",
     "output_type": "stream",
     "text": [
      "Epoch 47/50:: 100%|\u001b[34m███████████████████\u001b[0m| 120/120 [00:02<00:00, 50.03batch/s, loss=0.026734]\u001b[0m\n"
     ]
    },
    {
     "name": "stdout",
     "output_type": "stream",
     "text": [
      "\t Loss: 0.685,\tTrain : 99.27%(99.27%),\tTest : 96.66%(96.86%),\tCurrent Time: 20250720-212331\n"
     ]
    },
    {
     "name": "stderr",
     "output_type": "stream",
     "text": [
      "Epoch 48/50:: 100%|\u001b[34m███████████████████\u001b[0m| 120/120 [00:02<00:00, 49.87batch/s, loss=0.024103]\u001b[0m\n"
     ]
    },
    {
     "name": "stdout",
     "output_type": "stream",
     "text": [
      "\t Loss: 0.638,\tTrain : 99.37%(99.37%),\tTest : 96.51%(96.86%),\tCurrent Time: 20250720-212334\n"
     ]
    },
    {
     "name": "stderr",
     "output_type": "stream",
     "text": [
      "Epoch 49/50:: 100%|\u001b[34m███████████████████\u001b[0m| 120/120 [00:02<00:00, 49.91batch/s, loss=0.029249]\u001b[0m\n"
     ]
    },
    {
     "name": "stdout",
     "output_type": "stream",
     "text": [
      "\t Loss: 0.615,\tTrain : 99.35%(99.37%),\tTest : 96.67%(96.86%),\tCurrent Time: 20250720-212337\n"
     ]
    },
    {
     "name": "stderr",
     "output_type": "stream",
     "text": [
      "Epoch 50/50:: 100%|\u001b[34m███████████████████\u001b[0m| 120/120 [00:02<00:00, 49.73batch/s, loss=0.024917]\u001b[0m\n"
     ]
    },
    {
     "name": "stdout",
     "output_type": "stream",
     "text": [
      "\t Loss: 0.574,\tTrain : 99.42%(99.42%),\tTest : 96.59%(96.86%),\tCurrent Time: 20250720-212340\n",
      "First_asymm_AG_10HL_Res-Task2-0-EP_L10--MNIST_EP_b_sc0.1- Time: 20250720-212340, Epochs: 50, Learning Rate: 0.001, Best: 99.42%  96.86%\n",
      "\n",
      "[[0 1 0 0 0 0 0 0 0 0 0 0]\n",
      " [1 0 1 0 0 0 0 1 0 1 0 0]\n",
      " [0 1 0 1 1 0 0 1 0 0 0 0]\n",
      " [0 0 1 0 1 0 0 0 1 0 0 0]\n",
      " [0 0 0 1 0 1 0 1 1 1 0 0]\n",
      " [0 0 0 1 1 0 1 0 1 0 0 0]\n",
      " [0 0 0 0 0 1 0 1 0 0 0 0]\n",
      " [0 1 0 0 0 0 1 0 1 0 0 0]\n",
      " [0 0 0 0 0 0 0 1 0 1 0 0]\n",
      " [0 0 0 1 0 1 0 1 1 0 1 0]\n",
      " [0 0 1 0 0 1 0 0 0 1 0 1]\n",
      " [0 0 0 0 0 0 0 0 0 0 1 0]]\n",
      "First_asymm_AG_10HL_Res-Task2-0-EP_L10--MNIST_EP_b_sc0.1-\n"
     ]
    },
    {
     "name": "stderr",
     "output_type": "stream",
     "text": [
      "Epoch 1/50:: 100%|\u001b[34m████████████████████\u001b[0m| 120/120 [00:02<00:00, 44.93batch/s, loss=1.863592]\u001b[0m\n"
     ]
    },
    {
     "name": "stdout",
     "output_type": "stream",
     "text": [
      "\t Loss: 37.181,\tTrain : 65.73%(65.73%),\tTest : 66.46%(66.46%),\tCurrent Time: 20250720-212347\n"
     ]
    },
    {
     "name": "stderr",
     "output_type": "stream",
     "text": [
      "Epoch 2/50:: 100%|\u001b[34m████████████████████\u001b[0m| 120/120 [00:02<00:00, 47.48batch/s, loss=0.896689]\u001b[0m\n"
     ]
    },
    {
     "name": "stdout",
     "output_type": "stream",
     "text": [
      "\t Loss: 16.431,\tTrain : 86.95%(86.95%),\tTest : 87.11%(87.11%),\tCurrent Time: 20250720-212350\n"
     ]
    },
    {
     "name": "stderr",
     "output_type": "stream",
     "text": [
      "Epoch 3/50:: 100%|\u001b[34m████████████████████\u001b[0m| 120/120 [00:02<00:00, 47.60batch/s, loss=0.441202]\u001b[0m\n"
     ]
    },
    {
     "name": "stdout",
     "output_type": "stream",
     "text": [
      "\t Loss: 11.155,\tTrain : 90.28%(90.28%),\tTest : 90.23%(90.23%),\tCurrent Time: 20250720-212353\n"
     ]
    },
    {
     "name": "stderr",
     "output_type": "stream",
     "text": [
      "Epoch 4/50:: 100%|\u001b[34m████████████████████\u001b[0m| 120/120 [00:02<00:00, 47.61batch/s, loss=0.336644]\u001b[0m\n"
     ]
    },
    {
     "name": "stdout",
     "output_type": "stream",
     "text": [
      "\t Loss: 9.127,\tTrain : 91.98%(91.98%),\tTest : 92.04%(92.04%),\tCurrent Time: 20250720-212356\n"
     ]
    },
    {
     "name": "stderr",
     "output_type": "stream",
     "text": [
      "Epoch 5/50:: 100%|\u001b[34m████████████████████\u001b[0m| 120/120 [00:02<00:00, 47.45batch/s, loss=0.291232]\u001b[0m\n"
     ]
    },
    {
     "name": "stdout",
     "output_type": "stream",
     "text": [
      "\t Loss: 7.893,\tTrain : 92.93%(92.93%),\tTest : 92.75%(92.75%),\tCurrent Time: 20250720-212359\n"
     ]
    },
    {
     "name": "stderr",
     "output_type": "stream",
     "text": [
      "Epoch 6/50:: 100%|\u001b[34m████████████████████\u001b[0m| 120/120 [00:02<00:00, 47.44batch/s, loss=0.253213]\u001b[0m\n"
     ]
    },
    {
     "name": "stdout",
     "output_type": "stream",
     "text": [
      "\t Loss: 7.014,\tTrain : 93.66%(93.66%),\tTest : 93.34%(93.34%),\tCurrent Time: 20250720-212402\n"
     ]
    },
    {
     "name": "stderr",
     "output_type": "stream",
     "text": [
      "Epoch 7/50:: 100%|\u001b[34m████████████████████\u001b[0m| 120/120 [00:02<00:00, 47.46batch/s, loss=0.224816]\u001b[0m\n"
     ]
    },
    {
     "name": "stdout",
     "output_type": "stream",
     "text": [
      "\t Loss: 6.195,\tTrain : 94.47%(94.47%),\tTest : 93.79%(93.79%),\tCurrent Time: 20250720-212405\n"
     ]
    },
    {
     "name": "stderr",
     "output_type": "stream",
     "text": [
      "Epoch 8/50:: 100%|\u001b[34m████████████████████\u001b[0m| 120/120 [00:02<00:00, 47.68batch/s, loss=0.205282]\u001b[0m\n"
     ]
    },
    {
     "name": "stdout",
     "output_type": "stream",
     "text": [
      "\t Loss: 5.668,\tTrain : 94.82%(94.82%),\tTest : 94.42%(94.42%),\tCurrent Time: 20250720-212408\n"
     ]
    },
    {
     "name": "stderr",
     "output_type": "stream",
     "text": [
      "Epoch 9/50:: 100%|\u001b[34m████████████████████\u001b[0m| 120/120 [00:02<00:00, 47.64batch/s, loss=0.188062]\u001b[0m\n"
     ]
    },
    {
     "name": "stdout",
     "output_type": "stream",
     "text": [
      "\t Loss: 5.223,\tTrain : 95.17%(95.17%),\tTest : 94.61%(94.61%),\tCurrent Time: 20250720-212411\n"
     ]
    },
    {
     "name": "stderr",
     "output_type": "stream",
     "text": [
      "Epoch 10/50:: 100%|\u001b[34m███████████████████\u001b[0m| 120/120 [00:02<00:00, 47.63batch/s, loss=0.175647]\u001b[0m\n"
     ]
    },
    {
     "name": "stdout",
     "output_type": "stream",
     "text": [
      "\t Loss: 4.906,\tTrain : 95.43%(95.43%),\tTest : 94.80%(94.80%),\tCurrent Time: 20250720-212414\n"
     ]
    },
    {
     "name": "stderr",
     "output_type": "stream",
     "text": [
      "Epoch 11/50:: 100%|\u001b[34m███████████████████\u001b[0m| 120/120 [00:02<00:00, 47.64batch/s, loss=0.166498]\u001b[0m\n"
     ]
    },
    {
     "name": "stdout",
     "output_type": "stream",
     "text": [
      "\t Loss: 4.665,\tTrain : 95.62%(95.62%),\tTest : 95.02%(95.02%),\tCurrent Time: 20250720-212417\n"
     ]
    },
    {
     "name": "stderr",
     "output_type": "stream",
     "text": [
      "Epoch 12/50:: 100%|\u001b[34m███████████████████\u001b[0m| 120/120 [00:02<00:00, 47.60batch/s, loss=0.155600]\u001b[0m\n"
     ]
    },
    {
     "name": "stdout",
     "output_type": "stream",
     "text": [
      "\t Loss: 4.535,\tTrain : 95.79%(95.79%),\tTest : 95.05%(95.05%),\tCurrent Time: 20250720-212420\n"
     ]
    },
    {
     "name": "stderr",
     "output_type": "stream",
     "text": [
      "Epoch 13/50:: 100%|\u001b[34m███████████████████\u001b[0m| 120/120 [00:02<00:00, 47.56batch/s, loss=0.145861]\u001b[0m\n"
     ]
    },
    {
     "name": "stdout",
     "output_type": "stream",
     "text": [
      "\t Loss: 4.114,\tTrain : 96.17%(96.17%),\tTest : 95.60%(95.60%),\tCurrent Time: 20250720-212423\n"
     ]
    },
    {
     "name": "stderr",
     "output_type": "stream",
     "text": [
      "Epoch 14/50:: 100%|\u001b[34m███████████████████\u001b[0m| 120/120 [00:02<00:00, 47.49batch/s, loss=0.138943]\u001b[0m\n"
     ]
    },
    {
     "name": "stdout",
     "output_type": "stream",
     "text": [
      "\t Loss: 3.839,\tTrain : 96.38%(96.38%),\tTest : 95.74%(95.74%),\tCurrent Time: 20250720-212426\n"
     ]
    },
    {
     "name": "stderr",
     "output_type": "stream",
     "text": [
      "Epoch 15/50:: 100%|\u001b[34m███████████████████\u001b[0m| 120/120 [00:02<00:00, 47.62batch/s, loss=0.134178]\u001b[0m\n"
     ]
    },
    {
     "name": "stdout",
     "output_type": "stream",
     "text": [
      "\t Loss: 3.642,\tTrain : 96.58%(96.58%),\tTest : 95.85%(95.85%),\tCurrent Time: 20250720-212429\n"
     ]
    },
    {
     "name": "stderr",
     "output_type": "stream",
     "text": [
      "Epoch 16/50:: 100%|\u001b[34m███████████████████\u001b[0m| 120/120 [00:02<00:00, 47.64batch/s, loss=0.128198]\u001b[0m\n"
     ]
    },
    {
     "name": "stdout",
     "output_type": "stream",
     "text": [
      "\t Loss: 3.540,\tTrain : 96.62%(96.62%),\tTest : 95.76%(95.85%),\tCurrent Time: 20250720-212432\n"
     ]
    },
    {
     "name": "stderr",
     "output_type": "stream",
     "text": [
      "Epoch 17/50:: 100%|\u001b[34m███████████████████\u001b[0m| 120/120 [00:02<00:00, 47.40batch/s, loss=0.122050]\u001b[0m\n"
     ]
    },
    {
     "name": "stdout",
     "output_type": "stream",
     "text": [
      "\t Loss: 3.313,\tTrain : 96.89%(96.89%),\tTest : 96.01%(96.01%),\tCurrent Time: 20250720-212435\n"
     ]
    },
    {
     "name": "stderr",
     "output_type": "stream",
     "text": [
      "Epoch 18/50:: 100%|\u001b[34m███████████████████\u001b[0m| 120/120 [00:02<00:00, 47.45batch/s, loss=0.115135]\u001b[0m\n"
     ]
    },
    {
     "name": "stdout",
     "output_type": "stream",
     "text": [
      "\t Loss: 3.204,\tTrain : 96.97%(96.97%),\tTest : 96.14%(96.14%),\tCurrent Time: 20250720-212438\n"
     ]
    },
    {
     "name": "stderr",
     "output_type": "stream",
     "text": [
      "Epoch 19/50:: 100%|\u001b[34m███████████████████\u001b[0m| 120/120 [00:02<00:00, 47.58batch/s, loss=0.110488]\u001b[0m\n"
     ]
    },
    {
     "name": "stdout",
     "output_type": "stream",
     "text": [
      "\t Loss: 3.144,\tTrain : 97.00%(97.00%),\tTest : 95.80%(96.14%),\tCurrent Time: 20250720-212441\n"
     ]
    },
    {
     "name": "stderr",
     "output_type": "stream",
     "text": [
      "Epoch 20/50:: 100%|\u001b[34m███████████████████\u001b[0m| 120/120 [00:02<00:00, 47.60batch/s, loss=0.103592]\u001b[0m\n"
     ]
    },
    {
     "name": "stdout",
     "output_type": "stream",
     "text": [
      "\t Loss: 2.659,\tTrain : 97.43%(97.43%),\tTest : 96.04%(96.14%),\tCurrent Time: 20250720-212444\n"
     ]
    },
    {
     "name": "stderr",
     "output_type": "stream",
     "text": [
      "Epoch 21/50:: 100%|\u001b[34m███████████████████\u001b[0m| 120/120 [00:02<00:00, 47.38batch/s, loss=0.094813]\u001b[0m\n"
     ]
    },
    {
     "name": "stdout",
     "output_type": "stream",
     "text": [
      "\t Loss: 2.650,\tTrain : 97.44%(97.44%),\tTest : 96.06%(96.14%),\tCurrent Time: 20250720-212447\n"
     ]
    },
    {
     "name": "stderr",
     "output_type": "stream",
     "text": [
      "Epoch 22/50:: 100%|\u001b[34m███████████████████\u001b[0m| 120/120 [00:02<00:00, 47.55batch/s, loss=0.091875]\u001b[0m\n"
     ]
    },
    {
     "name": "stdout",
     "output_type": "stream",
     "text": [
      "\t Loss: 2.465,\tTrain : 97.64%(97.64%),\tTest : 96.32%(96.32%),\tCurrent Time: 20250720-212450\n"
     ]
    },
    {
     "name": "stderr",
     "output_type": "stream",
     "text": [
      "Epoch 23/50:: 100%|\u001b[34m███████████████████\u001b[0m| 120/120 [00:02<00:00, 47.53batch/s, loss=0.085793]\u001b[0m\n"
     ]
    },
    {
     "name": "stdout",
     "output_type": "stream",
     "text": [
      "\t Loss: 2.346,\tTrain : 97.77%(97.77%),\tTest : 96.45%(96.45%),\tCurrent Time: 20250720-212453\n"
     ]
    },
    {
     "name": "stderr",
     "output_type": "stream",
     "text": [
      "Epoch 24/50:: 100%|\u001b[34m███████████████████\u001b[0m| 120/120 [00:02<00:00, 47.64batch/s, loss=0.082706]\u001b[0m\n"
     ]
    },
    {
     "name": "stdout",
     "output_type": "stream",
     "text": [
      "\t Loss: 2.243,\tTrain : 97.81%(97.81%),\tTest : 96.29%(96.45%),\tCurrent Time: 20250720-212456\n"
     ]
    },
    {
     "name": "stderr",
     "output_type": "stream",
     "text": [
      "Epoch 25/50:: 100%|\u001b[34m███████████████████\u001b[0m| 120/120 [00:02<00:00, 47.63batch/s, loss=0.078990]\u001b[0m\n"
     ]
    },
    {
     "name": "stdout",
     "output_type": "stream",
     "text": [
      "\t Loss: 2.451,\tTrain : 97.54%(97.81%),\tTest : 96.14%(96.45%),\tCurrent Time: 20250720-212459\n"
     ]
    },
    {
     "name": "stderr",
     "output_type": "stream",
     "text": [
      "Epoch 26/50:: 100%|\u001b[34m███████████████████\u001b[0m| 120/120 [00:02<00:00, 47.49batch/s, loss=0.077839]\u001b[0m\n"
     ]
    },
    {
     "name": "stdout",
     "output_type": "stream",
     "text": [
      "\t Loss: 2.129,\tTrain : 97.95%(97.95%),\tTest : 96.40%(96.45%),\tCurrent Time: 20250720-212502\n"
     ]
    },
    {
     "name": "stderr",
     "output_type": "stream",
     "text": [
      "Epoch 27/50:: 100%|\u001b[34m███████████████████\u001b[0m| 120/120 [00:02<00:00, 47.60batch/s, loss=0.072999]\u001b[0m\n"
     ]
    },
    {
     "name": "stdout",
     "output_type": "stream",
     "text": [
      "\t Loss: 1.929,\tTrain : 98.09%(98.09%),\tTest : 96.50%(96.50%),\tCurrent Time: 20250720-212505\n"
     ]
    },
    {
     "name": "stderr",
     "output_type": "stream",
     "text": [
      "Epoch 28/50:: 100%|\u001b[34m███████████████████\u001b[0m| 120/120 [00:02<00:00, 47.60batch/s, loss=0.070574]\u001b[0m\n"
     ]
    },
    {
     "name": "stdout",
     "output_type": "stream",
     "text": [
      "\t Loss: 1.945,\tTrain : 98.12%(98.12%),\tTest : 96.25%(96.50%),\tCurrent Time: 20250720-212508\n"
     ]
    },
    {
     "name": "stderr",
     "output_type": "stream",
     "text": [
      "Epoch 29/50:: 100%|\u001b[34m███████████████████\u001b[0m| 120/120 [00:02<00:00, 47.36batch/s, loss=0.064523]\u001b[0m\n"
     ]
    },
    {
     "name": "stdout",
     "output_type": "stream",
     "text": [
      "\t Loss: 1.693,\tTrain : 98.27%(98.27%),\tTest : 96.56%(96.56%),\tCurrent Time: 20250720-212511\n"
     ]
    },
    {
     "name": "stderr",
     "output_type": "stream",
     "text": [
      "Epoch 30/50:: 100%|\u001b[34m███████████████████\u001b[0m| 120/120 [00:02<00:00, 47.54batch/s, loss=0.060128]\u001b[0m\n"
     ]
    },
    {
     "name": "stdout",
     "output_type": "stream",
     "text": [
      "\t Loss: 2.003,\tTrain : 97.95%(98.27%),\tTest : 96.07%(96.56%),\tCurrent Time: 20250720-212514\n"
     ]
    },
    {
     "name": "stderr",
     "output_type": "stream",
     "text": [
      "Epoch 31/50:: 100%|\u001b[34m███████████████████\u001b[0m| 120/120 [00:02<00:00, 47.62batch/s, loss=0.059240]\u001b[0m\n"
     ]
    },
    {
     "name": "stdout",
     "output_type": "stream",
     "text": [
      "\t Loss: 1.547,\tTrain : 98.49%(98.49%),\tTest : 96.47%(96.56%),\tCurrent Time: 20250720-212517\n"
     ]
    },
    {
     "name": "stderr",
     "output_type": "stream",
     "text": [
      "Epoch 32/50:: 100%|\u001b[34m███████████████████\u001b[0m| 120/120 [00:02<00:00, 47.63batch/s, loss=0.058109]\u001b[0m\n"
     ]
    },
    {
     "name": "stdout",
     "output_type": "stream",
     "text": [
      "\t Loss: 1.412,\tTrain : 98.61%(98.61%),\tTest : 96.43%(96.56%),\tCurrent Time: 20250720-212520\n"
     ]
    },
    {
     "name": "stderr",
     "output_type": "stream",
     "text": [
      "Epoch 33/50:: 100%|\u001b[34m███████████████████\u001b[0m| 120/120 [00:02<00:00, 47.62batch/s, loss=0.054197]\u001b[0m\n"
     ]
    },
    {
     "name": "stdout",
     "output_type": "stream",
     "text": [
      "\t Loss: 1.464,\tTrain : 98.56%(98.61%),\tTest : 96.53%(96.56%),\tCurrent Time: 20250720-212523\n"
     ]
    },
    {
     "name": "stderr",
     "output_type": "stream",
     "text": [
      "Epoch 34/50:: 100%|\u001b[34m███████████████████\u001b[0m| 120/120 [00:02<00:00, 47.68batch/s, loss=0.050223]\u001b[0m\n"
     ]
    },
    {
     "name": "stdout",
     "output_type": "stream",
     "text": [
      "\t Loss: 1.381,\tTrain : 98.69%(98.69%),\tTest : 96.51%(96.56%),\tCurrent Time: 20250720-212526\n"
     ]
    },
    {
     "name": "stderr",
     "output_type": "stream",
     "text": [
      "Epoch 35/50:: 100%|\u001b[34m███████████████████\u001b[0m| 120/120 [00:02<00:00, 47.55batch/s, loss=0.048108]\u001b[0m\n"
     ]
    },
    {
     "name": "stdout",
     "output_type": "stream",
     "text": [
      "\t Loss: 1.219,\tTrain : 98.84%(98.84%),\tTest : 96.46%(96.56%),\tCurrent Time: 20250720-212529\n"
     ]
    },
    {
     "name": "stderr",
     "output_type": "stream",
     "text": [
      "Epoch 36/50:: 100%|\u001b[34m███████████████████\u001b[0m| 120/120 [00:02<00:00, 47.41batch/s, loss=0.047809]\u001b[0m\n"
     ]
    },
    {
     "name": "stdout",
     "output_type": "stream",
     "text": [
      "\t Loss: 1.413,\tTrain : 98.55%(98.84%),\tTest : 96.42%(96.56%),\tCurrent Time: 20250720-212532\n"
     ]
    },
    {
     "name": "stderr",
     "output_type": "stream",
     "text": [
      "Epoch 37/50:: 100%|\u001b[34m███████████████████\u001b[0m| 120/120 [00:02<00:00, 47.58batch/s, loss=0.043541]\u001b[0m\n"
     ]
    },
    {
     "name": "stdout",
     "output_type": "stream",
     "text": [
      "\t Loss: 1.158,\tTrain : 98.86%(98.86%),\tTest : 96.36%(96.56%),\tCurrent Time: 20250720-212535\n"
     ]
    },
    {
     "name": "stderr",
     "output_type": "stream",
     "text": [
      "Epoch 38/50:: 100%|\u001b[34m███████████████████\u001b[0m| 120/120 [00:02<00:00, 47.72batch/s, loss=0.044079]\u001b[0m\n"
     ]
    },
    {
     "name": "stdout",
     "output_type": "stream",
     "text": [
      "\t Loss: 1.153,\tTrain : 98.88%(98.88%),\tTest : 96.46%(96.56%),\tCurrent Time: 20250720-212538\n"
     ]
    },
    {
     "name": "stderr",
     "output_type": "stream",
     "text": [
      "Epoch 39/50:: 100%|\u001b[34m███████████████████\u001b[0m| 120/120 [00:02<00:00, 47.62batch/s, loss=0.041044]\u001b[0m\n"
     ]
    },
    {
     "name": "stdout",
     "output_type": "stream",
     "text": [
      "\t Loss: 1.028,\tTrain : 98.98%(98.98%),\tTest : 96.57%(96.57%),\tCurrent Time: 20250720-212541\n"
     ]
    },
    {
     "name": "stderr",
     "output_type": "stream",
     "text": [
      "Epoch 40/50:: 100%|\u001b[34m███████████████████\u001b[0m| 120/120 [00:02<00:00, 47.55batch/s, loss=0.038035]\u001b[0m\n"
     ]
    },
    {
     "name": "stdout",
     "output_type": "stream",
     "text": [
      "\t Loss: 1.150,\tTrain : 98.81%(98.98%),\tTest : 96.19%(96.57%),\tCurrent Time: 20250720-212544\n"
     ]
    },
    {
     "name": "stderr",
     "output_type": "stream",
     "text": [
      "Epoch 41/50:: 100%|\u001b[34m███████████████████\u001b[0m| 120/120 [00:02<00:00, 47.60batch/s, loss=0.039613]\u001b[0m\n"
     ]
    },
    {
     "name": "stdout",
     "output_type": "stream",
     "text": [
      "\t Loss: 0.816,\tTrain : 99.20%(99.20%),\tTest : 96.50%(96.57%),\tCurrent Time: 20250720-212547\n"
     ]
    },
    {
     "name": "stderr",
     "output_type": "stream",
     "text": [
      "Epoch 42/50:: 100%|\u001b[34m███████████████████\u001b[0m| 120/120 [00:02<00:00, 47.46batch/s, loss=0.034114]\u001b[0m\n"
     ]
    },
    {
     "name": "stdout",
     "output_type": "stream",
     "text": [
      "\t Loss: 0.873,\tTrain : 99.11%(99.20%),\tTest : 96.29%(96.57%),\tCurrent Time: 20250720-212550\n"
     ]
    },
    {
     "name": "stderr",
     "output_type": "stream",
     "text": [
      "Epoch 43/50:: 100%|\u001b[34m███████████████████\u001b[0m| 120/120 [00:02<00:00, 47.60batch/s, loss=0.031807]\u001b[0m\n"
     ]
    },
    {
     "name": "stdout",
     "output_type": "stream",
     "text": [
      "\t Loss: 0.879,\tTrain : 99.13%(99.20%),\tTest : 96.16%(96.57%),\tCurrent Time: 20250720-212553\n"
     ]
    },
    {
     "name": "stderr",
     "output_type": "stream",
     "text": [
      "Epoch 44/50:: 100%|\u001b[34m███████████████████\u001b[0m| 120/120 [00:02<00:00, 47.61batch/s, loss=0.032575]\u001b[0m\n"
     ]
    },
    {
     "name": "stdout",
     "output_type": "stream",
     "text": [
      "\t Loss: 0.831,\tTrain : 99.14%(99.20%),\tTest : 96.45%(96.57%),\tCurrent Time: 20250720-212556\n"
     ]
    },
    {
     "name": "stderr",
     "output_type": "stream",
     "text": [
      "Epoch 45/50:: 100%|\u001b[34m███████████████████\u001b[0m| 120/120 [00:02<00:00, 47.50batch/s, loss=0.029154]\u001b[0m\n"
     ]
    },
    {
     "name": "stdout",
     "output_type": "stream",
     "text": [
      "\t Loss: 0.669,\tTrain : 99.34%(99.34%),\tTest : 96.60%(96.60%),\tCurrent Time: 20250720-212559\n"
     ]
    },
    {
     "name": "stderr",
     "output_type": "stream",
     "text": [
      "Epoch 46/50:: 100%|\u001b[34m███████████████████\u001b[0m| 120/120 [00:02<00:00, 47.50batch/s, loss=0.033031]\u001b[0m\n"
     ]
    },
    {
     "name": "stdout",
     "output_type": "stream",
     "text": [
      "\t Loss: 0.872,\tTrain : 99.08%(99.34%),\tTest : 96.22%(96.60%),\tCurrent Time: 20250720-212602\n"
     ]
    },
    {
     "name": "stderr",
     "output_type": "stream",
     "text": [
      "Epoch 47/50:: 100%|\u001b[34m███████████████████\u001b[0m| 120/120 [00:02<00:00, 47.59batch/s, loss=0.028089]\u001b[0m\n"
     ]
    },
    {
     "name": "stdout",
     "output_type": "stream",
     "text": [
      "\t Loss: 0.735,\tTrain : 99.26%(99.34%),\tTest : 96.23%(96.60%),\tCurrent Time: 20250720-212605\n"
     ]
    },
    {
     "name": "stderr",
     "output_type": "stream",
     "text": [
      "Epoch 48/50:: 100%|\u001b[34m███████████████████\u001b[0m| 120/120 [00:02<00:00, 47.75batch/s, loss=0.033913]\u001b[0m\n"
     ]
    },
    {
     "name": "stdout",
     "output_type": "stream",
     "text": [
      "\t Loss: 0.759,\tTrain : 99.17%(99.34%),\tTest : 96.36%(96.60%),\tCurrent Time: 20250720-212608\n"
     ]
    },
    {
     "name": "stderr",
     "output_type": "stream",
     "text": [
      "Epoch 49/50:: 100%|\u001b[34m███████████████████\u001b[0m| 120/120 [00:02<00:00, 47.44batch/s, loss=0.028358]\u001b[0m\n"
     ]
    },
    {
     "name": "stdout",
     "output_type": "stream",
     "text": [
      "\t Loss: 0.786,\tTrain : 99.14%(99.34%),\tTest : 96.39%(96.60%),\tCurrent Time: 20250720-212611\n"
     ]
    },
    {
     "name": "stderr",
     "output_type": "stream",
     "text": [
      "Epoch 50/50:: 100%|\u001b[34m███████████████████\u001b[0m| 120/120 [00:02<00:00, 47.52batch/s, loss=0.027181]\u001b[0m\n"
     ]
    },
    {
     "name": "stdout",
     "output_type": "stream",
     "text": [
      "\t Loss: 0.839,\tTrain : 99.12%(99.34%),\tTest : 96.06%(96.60%),\tCurrent Time: 20250720-212614\n",
      "First_asymm_AG_10HL_Res-Task2-0-EP_L10--MNIST_EP_b_sc0.1- Time: 20250720-212614, Epochs: 50, Learning Rate: 0.001, Best: 99.34%  96.60%\n",
      "\n",
      "[[0 1 0 0 0 0 0 0 0 0 0 0]\n",
      " [1 0 1 0 0 0 0 0 0 1 0 0]\n",
      " [0 1 0 1 0 0 1 0 0 0 0 0]\n",
      " [0 0 1 0 1 1 0 0 0 0 0 0]\n",
      " [0 0 0 1 0 1 1 1 1 1 0 0]\n",
      " [0 1 0 0 1 0 1 0 0 0 0 0]\n",
      " [0 0 0 0 0 1 0 1 0 0 0 0]\n",
      " [0 0 0 0 1 1 1 0 1 0 1 0]\n",
      " [0 0 0 0 0 0 0 1 0 1 0 0]\n",
      " [0 1 0 0 0 0 0 0 1 0 1 0]\n",
      " [0 0 0 0 0 0 0 0 0 1 0 1]\n",
      " [0 0 0 0 0 0 0 0 0 0 1 0]]\n",
      "First_asymm_AG_10HL_Res-Task2-0-EP_L10--MNIST_EP_b_sc0.1-\n"
     ]
    },
    {
     "name": "stderr",
     "output_type": "stream",
     "text": [
      "Epoch 1/50:: 100%|\u001b[34m████████████████████\u001b[0m| 120/120 [00:02<00:00, 44.17batch/s, loss=1.975632]\u001b[0m\n"
     ]
    },
    {
     "name": "stdout",
     "output_type": "stream",
     "text": [
      "\t Loss: 33.747,\tTrain : 70.47%(70.47%),\tTest : 70.71%(70.71%),\tCurrent Time: 20250720-212621\n"
     ]
    },
    {
     "name": "stderr",
     "output_type": "stream",
     "text": [
      "Epoch 2/50:: 100%|\u001b[34m████████████████████\u001b[0m| 120/120 [00:02<00:00, 47.97batch/s, loss=0.706090]\u001b[0m\n"
     ]
    },
    {
     "name": "stdout",
     "output_type": "stream",
     "text": [
      "\t Loss: 14.512,\tTrain : 88.40%(88.40%),\tTest : 88.65%(88.65%),\tCurrent Time: 20250720-212624\n"
     ]
    },
    {
     "name": "stderr",
     "output_type": "stream",
     "text": [
      "Epoch 3/50:: 100%|\u001b[34m████████████████████\u001b[0m| 120/120 [00:02<00:00, 48.03batch/s, loss=0.396922]\u001b[0m\n"
     ]
    },
    {
     "name": "stdout",
     "output_type": "stream",
     "text": [
      "\t Loss: 10.028,\tTrain : 91.02%(91.02%),\tTest : 90.93%(90.93%),\tCurrent Time: 20250720-212627\n"
     ]
    },
    {
     "name": "stderr",
     "output_type": "stream",
     "text": [
      "Epoch 4/50:: 100%|\u001b[34m████████████████████\u001b[0m| 120/120 [00:02<00:00, 47.98batch/s, loss=0.310277]\u001b[0m\n"
     ]
    },
    {
     "name": "stdout",
     "output_type": "stream",
     "text": [
      "\t Loss: 8.500,\tTrain : 92.14%(92.14%),\tTest : 92.02%(92.02%),\tCurrent Time: 20250720-212630\n"
     ]
    },
    {
     "name": "stderr",
     "output_type": "stream",
     "text": [
      "Epoch 5/50:: 100%|\u001b[34m████████████████████\u001b[0m| 120/120 [00:02<00:00, 48.01batch/s, loss=0.268831]\u001b[0m\n"
     ]
    },
    {
     "name": "stdout",
     "output_type": "stream",
     "text": [
      "\t Loss: 7.313,\tTrain : 93.19%(93.19%),\tTest : 92.80%(92.80%),\tCurrent Time: 20250720-212633\n"
     ]
    },
    {
     "name": "stderr",
     "output_type": "stream",
     "text": [
      "Epoch 6/50:: 100%|\u001b[34m████████████████████\u001b[0m| 120/120 [00:02<00:00, 48.07batch/s, loss=0.234590]\u001b[0m\n"
     ]
    },
    {
     "name": "stdout",
     "output_type": "stream",
     "text": [
      "\t Loss: 6.398,\tTrain : 94.08%(94.08%),\tTest : 93.65%(93.65%),\tCurrent Time: 20250720-212636\n"
     ]
    },
    {
     "name": "stderr",
     "output_type": "stream",
     "text": [
      "Epoch 7/50:: 100%|\u001b[34m████████████████████\u001b[0m| 120/120 [00:02<00:00, 47.99batch/s, loss=0.213201]\u001b[0m\n"
     ]
    },
    {
     "name": "stdout",
     "output_type": "stream",
     "text": [
      "\t Loss: 6.170,\tTrain : 94.21%(94.21%),\tTest : 93.58%(93.65%),\tCurrent Time: 20250720-212639\n"
     ]
    },
    {
     "name": "stderr",
     "output_type": "stream",
     "text": [
      "Epoch 8/50:: 100%|\u001b[34m████████████████████\u001b[0m| 120/120 [00:02<00:00, 47.99batch/s, loss=0.194652]\u001b[0m\n"
     ]
    },
    {
     "name": "stdout",
     "output_type": "stream",
     "text": [
      "\t Loss: 5.420,\tTrain : 94.86%(94.86%),\tTest : 94.08%(94.08%),\tCurrent Time: 20250720-212642\n"
     ]
    },
    {
     "name": "stderr",
     "output_type": "stream",
     "text": [
      "Epoch 9/50:: 100%|\u001b[34m████████████████████\u001b[0m| 120/120 [00:02<00:00, 48.04batch/s, loss=0.178799]\u001b[0m\n"
     ]
    },
    {
     "name": "stdout",
     "output_type": "stream",
     "text": [
      "\t Loss: 4.944,\tTrain : 95.42%(95.42%),\tTest : 94.64%(94.64%),\tCurrent Time: 20250720-212645\n"
     ]
    },
    {
     "name": "stderr",
     "output_type": "stream",
     "text": [
      "Epoch 10/50:: 100%|\u001b[34m███████████████████\u001b[0m| 120/120 [00:02<00:00, 48.05batch/s, loss=0.160725]\u001b[0m\n"
     ]
    },
    {
     "name": "stdout",
     "output_type": "stream",
     "text": [
      "\t Loss: 4.420,\tTrain : 95.85%(95.85%),\tTest : 95.18%(95.18%),\tCurrent Time: 20250720-212648\n"
     ]
    },
    {
     "name": "stderr",
     "output_type": "stream",
     "text": [
      "Epoch 11/50:: 100%|\u001b[34m███████████████████\u001b[0m| 120/120 [00:02<00:00, 47.96batch/s, loss=0.150892]\u001b[0m\n"
     ]
    },
    {
     "name": "stdout",
     "output_type": "stream",
     "text": [
      "\t Loss: 4.237,\tTrain : 95.93%(95.93%),\tTest : 95.21%(95.21%),\tCurrent Time: 20250720-212651\n"
     ]
    },
    {
     "name": "stderr",
     "output_type": "stream",
     "text": [
      "Epoch 12/50:: 100%|\u001b[34m███████████████████\u001b[0m| 120/120 [00:02<00:00, 48.20batch/s, loss=0.139491]\u001b[0m\n"
     ]
    },
    {
     "name": "stdout",
     "output_type": "stream",
     "text": [
      "\t Loss: 3.994,\tTrain : 96.14%(96.14%),\tTest : 95.34%(95.34%),\tCurrent Time: 20250720-212654\n"
     ]
    },
    {
     "name": "stderr",
     "output_type": "stream",
     "text": [
      "Epoch 13/50:: 100%|\u001b[34m███████████████████\u001b[0m| 120/120 [00:02<00:00, 47.95batch/s, loss=0.131351]\u001b[0m\n"
     ]
    },
    {
     "name": "stdout",
     "output_type": "stream",
     "text": [
      "\t Loss: 3.672,\tTrain : 96.45%(96.45%),\tTest : 95.62%(95.62%),\tCurrent Time: 20250720-212657\n"
     ]
    },
    {
     "name": "stderr",
     "output_type": "stream",
     "text": [
      "Epoch 14/50:: 100%|\u001b[34m███████████████████\u001b[0m| 120/120 [00:02<00:00, 47.96batch/s, loss=0.124664]\u001b[0m\n"
     ]
    },
    {
     "name": "stdout",
     "output_type": "stream",
     "text": [
      "\t Loss: 3.391,\tTrain : 96.71%(96.71%),\tTest : 95.50%(95.62%),\tCurrent Time: 20250720-212700\n"
     ]
    },
    {
     "name": "stderr",
     "output_type": "stream",
     "text": [
      "Epoch 15/50:: 100%|\u001b[34m███████████████████\u001b[0m| 120/120 [00:02<00:00, 48.01batch/s, loss=0.121231]\u001b[0m\n"
     ]
    },
    {
     "name": "stdout",
     "output_type": "stream",
     "text": [
      "\t Loss: 3.471,\tTrain : 96.58%(96.71%),\tTest : 95.38%(95.62%),\tCurrent Time: 20250720-212702\n"
     ]
    },
    {
     "name": "stderr",
     "output_type": "stream",
     "text": [
      "Epoch 16/50:: 100%|\u001b[34m███████████████████\u001b[0m| 120/120 [00:02<00:00, 48.12batch/s, loss=0.112832]\u001b[0m\n"
     ]
    },
    {
     "name": "stdout",
     "output_type": "stream",
     "text": [
      "\t Loss: 3.184,\tTrain : 96.98%(96.98%),\tTest : 95.74%(95.74%),\tCurrent Time: 20250720-212705\n"
     ]
    },
    {
     "name": "stderr",
     "output_type": "stream",
     "text": [
      "Epoch 17/50:: 100%|\u001b[34m███████████████████\u001b[0m| 120/120 [00:02<00:00, 48.15batch/s, loss=0.108942]\u001b[0m\n"
     ]
    },
    {
     "name": "stdout",
     "output_type": "stream",
     "text": [
      "\t Loss: 3.074,\tTrain : 96.91%(96.98%),\tTest : 95.35%(95.74%),\tCurrent Time: 20250720-212708\n"
     ]
    },
    {
     "name": "stderr",
     "output_type": "stream",
     "text": [
      "Epoch 18/50:: 100%|\u001b[34m███████████████████\u001b[0m| 120/120 [00:02<00:00, 48.10batch/s, loss=0.101909]\u001b[0m\n"
     ]
    },
    {
     "name": "stdout",
     "output_type": "stream",
     "text": [
      "\t Loss: 2.769,\tTrain : 97.25%(97.25%),\tTest : 95.82%(95.82%),\tCurrent Time: 20250720-212711\n"
     ]
    },
    {
     "name": "stderr",
     "output_type": "stream",
     "text": [
      "Epoch 19/50:: 100%|\u001b[34m███████████████████\u001b[0m| 120/120 [00:02<00:00, 48.21batch/s, loss=0.095868]\u001b[0m\n"
     ]
    },
    {
     "name": "stdout",
     "output_type": "stream",
     "text": [
      "\t Loss: 2.585,\tTrain : 97.50%(97.50%),\tTest : 96.12%(96.12%),\tCurrent Time: 20250720-212714\n"
     ]
    },
    {
     "name": "stderr",
     "output_type": "stream",
     "text": [
      "Epoch 20/50:: 100%|\u001b[34m███████████████████\u001b[0m| 120/120 [00:02<00:00, 48.17batch/s, loss=0.090205]\u001b[0m\n"
     ]
    },
    {
     "name": "stdout",
     "output_type": "stream",
     "text": [
      "\t Loss: 2.778,\tTrain : 97.19%(97.50%),\tTest : 95.66%(96.12%),\tCurrent Time: 20250720-212717\n"
     ]
    },
    {
     "name": "stderr",
     "output_type": "stream",
     "text": [
      "Epoch 21/50:: 100%|\u001b[34m███████████████████\u001b[0m| 120/120 [00:02<00:00, 48.18batch/s, loss=0.086083]\u001b[0m\n"
     ]
    },
    {
     "name": "stdout",
     "output_type": "stream",
     "text": [
      "\t Loss: 2.303,\tTrain : 97.70%(97.70%),\tTest : 96.05%(96.12%),\tCurrent Time: 20250720-212720\n"
     ]
    },
    {
     "name": "stderr",
     "output_type": "stream",
     "text": [
      "Epoch 22/50:: 100%|\u001b[34m███████████████████\u001b[0m| 120/120 [00:02<00:00, 47.86batch/s, loss=0.083902]\u001b[0m\n"
     ]
    },
    {
     "name": "stdout",
     "output_type": "stream",
     "text": [
      "\t Loss: 2.311,\tTrain : 97.70%(97.70%),\tTest : 95.94%(96.12%),\tCurrent Time: 20250720-212723\n"
     ]
    },
    {
     "name": "stderr",
     "output_type": "stream",
     "text": [
      "Epoch 23/50:: 100%|\u001b[34m███████████████████\u001b[0m| 120/120 [00:02<00:00, 47.98batch/s, loss=0.080774]\u001b[0m\n"
     ]
    },
    {
     "name": "stdout",
     "output_type": "stream",
     "text": [
      "\t Loss: 2.180,\tTrain : 97.80%(97.80%),\tTest : 96.14%(96.14%),\tCurrent Time: 20250720-212726\n"
     ]
    },
    {
     "name": "stderr",
     "output_type": "stream",
     "text": [
      "Epoch 24/50:: 100%|\u001b[34m███████████████████\u001b[0m| 120/120 [00:02<00:00, 48.25batch/s, loss=0.073444]\u001b[0m\n"
     ]
    },
    {
     "name": "stdout",
     "output_type": "stream",
     "text": [
      "\t Loss: 1.937,\tTrain : 98.08%(98.08%),\tTest : 96.28%(96.28%),\tCurrent Time: 20250720-212729\n"
     ]
    },
    {
     "name": "stderr",
     "output_type": "stream",
     "text": [
      "Epoch 25/50:: 100%|\u001b[34m███████████████████\u001b[0m| 120/120 [00:02<00:00, 48.09batch/s, loss=0.072492]\u001b[0m\n"
     ]
    },
    {
     "name": "stdout",
     "output_type": "stream",
     "text": [
      "\t Loss: 2.120,\tTrain : 97.86%(98.08%),\tTest : 95.97%(96.28%),\tCurrent Time: 20250720-212732\n"
     ]
    },
    {
     "name": "stderr",
     "output_type": "stream",
     "text": [
      "Epoch 26/50:: 100%|\u001b[34m███████████████████\u001b[0m| 120/120 [00:02<00:00, 48.20batch/s, loss=0.068677]\u001b[0m\n"
     ]
    },
    {
     "name": "stdout",
     "output_type": "stream",
     "text": [
      "\t Loss: 1.794,\tTrain : 98.22%(98.22%),\tTest : 96.11%(96.28%),\tCurrent Time: 20250720-212735\n"
     ]
    },
    {
     "name": "stderr",
     "output_type": "stream",
     "text": [
      "Epoch 27/50:: 100%|\u001b[34m███████████████████\u001b[0m| 120/120 [00:02<00:00, 48.04batch/s, loss=0.064113]\u001b[0m\n"
     ]
    },
    {
     "name": "stdout",
     "output_type": "stream",
     "text": [
      "\t Loss: 2.094,\tTrain : 97.80%(98.22%),\tTest : 95.82%(96.28%),\tCurrent Time: 20250720-212738\n"
     ]
    },
    {
     "name": "stderr",
     "output_type": "stream",
     "text": [
      "Epoch 28/50:: 100%|\u001b[34m███████████████████\u001b[0m| 120/120 [00:02<00:00, 47.74batch/s, loss=0.062880]\u001b[0m\n"
     ]
    },
    {
     "name": "stdout",
     "output_type": "stream",
     "text": [
      "\t Loss: 1.837,\tTrain : 98.06%(98.22%),\tTest : 96.00%(96.28%),\tCurrent Time: 20250720-212741\n"
     ]
    },
    {
     "name": "stderr",
     "output_type": "stream",
     "text": [
      "Epoch 29/50:: 100%|\u001b[34m███████████████████\u001b[0m| 120/120 [00:02<00:00, 48.10batch/s, loss=0.057537]\u001b[0m\n"
     ]
    },
    {
     "name": "stdout",
     "output_type": "stream",
     "text": [
      "\t Loss: 1.450,\tTrain : 98.50%(98.50%),\tTest : 96.27%(96.28%),\tCurrent Time: 20250720-212744\n"
     ]
    },
    {
     "name": "stderr",
     "output_type": "stream",
     "text": [
      "Epoch 30/50:: 100%|\u001b[34m███████████████████\u001b[0m| 120/120 [00:02<00:00, 48.03batch/s, loss=0.054405]\u001b[0m\n"
     ]
    },
    {
     "name": "stdout",
     "output_type": "stream",
     "text": [
      "\t Loss: 1.389,\tTrain : 98.58%(98.58%),\tTest : 96.30%(96.30%),\tCurrent Time: 20250720-212747\n"
     ]
    },
    {
     "name": "stderr",
     "output_type": "stream",
     "text": [
      "Epoch 31/50:: 100%|\u001b[34m███████████████████\u001b[0m| 120/120 [00:02<00:00, 47.98batch/s, loss=0.051679]\u001b[0m\n"
     ]
    },
    {
     "name": "stdout",
     "output_type": "stream",
     "text": [
      "\t Loss: 1.375,\tTrain : 98.60%(98.60%),\tTest : 96.36%(96.36%),\tCurrent Time: 20250720-212750\n"
     ]
    },
    {
     "name": "stderr",
     "output_type": "stream",
     "text": [
      "Epoch 32/50:: 100%|\u001b[34m███████████████████\u001b[0m| 120/120 [00:02<00:00, 48.20batch/s, loss=0.050853]\u001b[0m\n"
     ]
    },
    {
     "name": "stdout",
     "output_type": "stream",
     "text": [
      "\t Loss: 1.377,\tTrain : 98.58%(98.60%),\tTest : 96.40%(96.40%),\tCurrent Time: 20250720-212753\n"
     ]
    },
    {
     "name": "stderr",
     "output_type": "stream",
     "text": [
      "Epoch 33/50:: 100%|\u001b[34m███████████████████\u001b[0m| 120/120 [00:02<00:00, 48.03batch/s, loss=0.048044]\u001b[0m\n"
     ]
    },
    {
     "name": "stdout",
     "output_type": "stream",
     "text": [
      "\t Loss: 1.179,\tTrain : 98.78%(98.78%),\tTest : 96.25%(96.40%),\tCurrent Time: 20250720-212756\n"
     ]
    },
    {
     "name": "stderr",
     "output_type": "stream",
     "text": [
      "Epoch 34/50:: 100%|\u001b[34m███████████████████\u001b[0m| 120/120 [00:02<00:00, 48.08batch/s, loss=0.043796]\u001b[0m\n"
     ]
    },
    {
     "name": "stdout",
     "output_type": "stream",
     "text": [
      "\t Loss: 1.132,\tTrain : 98.84%(98.84%),\tTest : 96.59%(96.59%),\tCurrent Time: 20250720-212759\n"
     ]
    },
    {
     "name": "stderr",
     "output_type": "stream",
     "text": [
      "Epoch 35/50:: 100%|\u001b[34m███████████████████\u001b[0m| 120/120 [00:02<00:00, 47.98batch/s, loss=0.041923]\u001b[0m\n"
     ]
    },
    {
     "name": "stdout",
     "output_type": "stream",
     "text": [
      "\t Loss: 1.119,\tTrain : 98.88%(98.88%),\tTest : 96.43%(96.59%),\tCurrent Time: 20250720-212802\n"
     ]
    },
    {
     "name": "stderr",
     "output_type": "stream",
     "text": [
      "Epoch 36/50:: 100%|\u001b[34m███████████████████\u001b[0m| 120/120 [00:02<00:00, 48.14batch/s, loss=0.039244]\u001b[0m\n"
     ]
    },
    {
     "name": "stdout",
     "output_type": "stream",
     "text": [
      "\t Loss: 1.068,\tTrain : 98.87%(98.88%),\tTest : 96.35%(96.59%),\tCurrent Time: 20250720-212804\n"
     ]
    },
    {
     "name": "stderr",
     "output_type": "stream",
     "text": [
      "Epoch 37/50:: 100%|\u001b[34m███████████████████\u001b[0m| 120/120 [00:02<00:00, 48.05batch/s, loss=0.038118]\u001b[0m\n"
     ]
    },
    {
     "name": "stdout",
     "output_type": "stream",
     "text": [
      "\t Loss: 0.945,\tTrain : 99.02%(99.02%),\tTest : 96.47%(96.59%),\tCurrent Time: 20250720-212807\n"
     ]
    },
    {
     "name": "stderr",
     "output_type": "stream",
     "text": [
      "Epoch 38/50:: 100%|\u001b[34m███████████████████\u001b[0m| 120/120 [00:02<00:00, 47.95batch/s, loss=0.038397]\u001b[0m\n"
     ]
    },
    {
     "name": "stdout",
     "output_type": "stream",
     "text": [
      "\t Loss: 1.161,\tTrain : 98.87%(99.02%),\tTest : 96.40%(96.59%),\tCurrent Time: 20250720-212810\n"
     ]
    },
    {
     "name": "stderr",
     "output_type": "stream",
     "text": [
      "Epoch 39/50:: 100%|\u001b[34m███████████████████\u001b[0m| 120/120 [00:02<00:00, 47.95batch/s, loss=0.035704]\u001b[0m\n"
     ]
    },
    {
     "name": "stdout",
     "output_type": "stream",
     "text": [
      "\t Loss: 0.881,\tTrain : 99.10%(99.10%),\tTest : 96.37%(96.59%),\tCurrent Time: 20250720-212813\n"
     ]
    },
    {
     "name": "stderr",
     "output_type": "stream",
     "text": [
      "Epoch 40/50:: 100%|\u001b[34m███████████████████\u001b[0m| 120/120 [00:02<00:00, 48.13batch/s, loss=0.034772]\u001b[0m\n"
     ]
    },
    {
     "name": "stdout",
     "output_type": "stream",
     "text": [
      "\t Loss: 0.809,\tTrain : 99.17%(99.17%),\tTest : 96.48%(96.59%),\tCurrent Time: 20250720-212816\n"
     ]
    },
    {
     "name": "stderr",
     "output_type": "stream",
     "text": [
      "Epoch 41/50:: 100%|\u001b[34m███████████████████\u001b[0m| 120/120 [00:02<00:00, 48.12batch/s, loss=0.037624]\u001b[0m\n"
     ]
    },
    {
     "name": "stdout",
     "output_type": "stream",
     "text": [
      "\t Loss: 0.975,\tTrain : 98.97%(99.17%),\tTest : 96.17%(96.59%),\tCurrent Time: 20250720-212819\n"
     ]
    },
    {
     "name": "stderr",
     "output_type": "stream",
     "text": [
      "Epoch 42/50:: 100%|\u001b[34m███████████████████\u001b[0m| 120/120 [00:02<00:00, 48.29batch/s, loss=0.032805]\u001b[0m\n"
     ]
    },
    {
     "name": "stdout",
     "output_type": "stream",
     "text": [
      "\t Loss: 0.832,\tTrain : 99.16%(99.17%),\tTest : 96.19%(96.59%),\tCurrent Time: 20250720-212822\n"
     ]
    },
    {
     "name": "stderr",
     "output_type": "stream",
     "text": [
      "Epoch 43/50:: 100%|\u001b[34m███████████████████\u001b[0m| 120/120 [00:02<00:00, 47.99batch/s, loss=0.029918]\u001b[0m\n"
     ]
    },
    {
     "name": "stdout",
     "output_type": "stream",
     "text": [
      "\t Loss: 0.851,\tTrain : 99.07%(99.17%),\tTest : 96.42%(96.59%),\tCurrent Time: 20250720-212825\n"
     ]
    },
    {
     "name": "stderr",
     "output_type": "stream",
     "text": [
      "Epoch 44/50:: 100%|\u001b[34m███████████████████\u001b[0m| 120/120 [00:02<00:00, 47.88batch/s, loss=0.028667]\u001b[0m\n"
     ]
    },
    {
     "name": "stdout",
     "output_type": "stream",
     "text": [
      "\t Loss: 0.654,\tTrain : 99.37%(99.37%),\tTest : 96.31%(96.59%),\tCurrent Time: 20250720-212828\n"
     ]
    },
    {
     "name": "stderr",
     "output_type": "stream",
     "text": [
      "Epoch 45/50:: 100%|\u001b[34m███████████████████\u001b[0m| 120/120 [00:02<00:00, 48.19batch/s, loss=0.027638]\u001b[0m\n"
     ]
    },
    {
     "name": "stdout",
     "output_type": "stream",
     "text": [
      "\t Loss: 0.628,\tTrain : 99.37%(99.37%),\tTest : 96.37%(96.59%),\tCurrent Time: 20250720-212831\n"
     ]
    },
    {
     "name": "stderr",
     "output_type": "stream",
     "text": [
      "Epoch 46/50:: 100%|\u001b[34m███████████████████\u001b[0m| 120/120 [00:02<00:00, 47.84batch/s, loss=0.025646]\u001b[0m\n"
     ]
    },
    {
     "name": "stdout",
     "output_type": "stream",
     "text": [
      "\t Loss: 0.641,\tTrain : 99.31%(99.37%),\tTest : 96.39%(96.59%),\tCurrent Time: 20250720-212834\n"
     ]
    },
    {
     "name": "stderr",
     "output_type": "stream",
     "text": [
      "Epoch 47/50:: 100%|\u001b[34m███████████████████\u001b[0m| 120/120 [00:02<00:00, 48.08batch/s, loss=0.027517]\u001b[0m\n"
     ]
    },
    {
     "name": "stdout",
     "output_type": "stream",
     "text": [
      "\t Loss: 0.700,\tTrain : 99.22%(99.37%),\tTest : 96.37%(96.59%),\tCurrent Time: 20250720-212837\n"
     ]
    },
    {
     "name": "stderr",
     "output_type": "stream",
     "text": [
      "Epoch 48/50:: 100%|\u001b[34m███████████████████\u001b[0m| 120/120 [00:02<00:00, 48.25batch/s, loss=0.025810]\u001b[0m\n"
     ]
    },
    {
     "name": "stdout",
     "output_type": "stream",
     "text": [
      "\t Loss: 0.786,\tTrain : 99.18%(99.37%),\tTest : 96.38%(96.59%),\tCurrent Time: 20250720-212840\n"
     ]
    },
    {
     "name": "stderr",
     "output_type": "stream",
     "text": [
      "Epoch 49/50:: 100%|\u001b[34m███████████████████\u001b[0m| 120/120 [00:02<00:00, 48.10batch/s, loss=0.025305]\u001b[0m\n"
     ]
    },
    {
     "name": "stdout",
     "output_type": "stream",
     "text": [
      "\t Loss: 0.528,\tTrain : 99.44%(99.44%),\tTest : 96.35%(96.59%),\tCurrent Time: 20250720-212843\n"
     ]
    },
    {
     "name": "stderr",
     "output_type": "stream",
     "text": [
      "Epoch 50/50:: 100%|\u001b[34m███████████████████\u001b[0m| 120/120 [00:02<00:00, 48.07batch/s, loss=0.021498]\u001b[0m\n"
     ]
    },
    {
     "name": "stdout",
     "output_type": "stream",
     "text": [
      "\t Loss: 0.478,\tTrain : 99.53%(99.53%),\tTest : 96.52%(96.59%),\tCurrent Time: 20250720-212846\n",
      "First_asymm_AG_10HL_Res-Task2-0-EP_L10--MNIST_EP_b_sc0.1- Time: 20250720-212846, Epochs: 50, Learning Rate: 0.001, Best: 99.53%  96.59%\n",
      "\n",
      "[[0 1 0 0 0 0 0 0 0 0 0 0]\n",
      " [1 0 1 1 0 0 0 0 0 0 0 0]\n",
      " [0 1 0 1 0 0 0 0 0 0 0 0]\n",
      " [0 1 1 0 1 0 0 0 1 0 0 0]\n",
      " [0 1 0 1 0 1 0 0 0 0 1 0]\n",
      " [0 0 0 1 1 0 1 0 0 0 0 0]\n",
      " [0 0 0 0 0 1 0 1 0 1 0 0]\n",
      " [0 0 0 1 0 0 1 0 1 0 1 0]\n",
      " [0 0 0 0 0 0 0 1 0 1 0 0]\n",
      " [0 1 0 0 0 0 0 1 1 0 1 0]\n",
      " [0 0 1 0 0 0 0 0 0 1 0 1]\n",
      " [0 0 0 0 0 0 0 0 0 0 1 0]]\n",
      "First_asymm_AG_10HL_Res-Task2-0-EP_L10--MNIST_EP_b_sc0.1-\n"
     ]
    },
    {
     "name": "stderr",
     "output_type": "stream",
     "text": [
      "Epoch 1/50:: 100%|\u001b[34m████████████████████\u001b[0m| 120/120 [00:02<00:00, 46.20batch/s, loss=2.001046]\u001b[0m\n"
     ]
    },
    {
     "name": "stdout",
     "output_type": "stream",
     "text": [
      "\t Loss: 39.938,\tTrain : 62.36%(62.36%),\tTest : 63.09%(63.09%),\tCurrent Time: 20250720-212853\n"
     ]
    },
    {
     "name": "stderr",
     "output_type": "stream",
     "text": [
      "Epoch 2/50:: 100%|\u001b[34m████████████████████\u001b[0m| 120/120 [00:02<00:00, 49.24batch/s, loss=0.782343]\u001b[0m\n"
     ]
    },
    {
     "name": "stdout",
     "output_type": "stream",
     "text": [
      "\t Loss: 14.673,\tTrain : 87.83%(87.83%),\tTest : 88.75%(88.75%),\tCurrent Time: 20250720-212856\n"
     ]
    },
    {
     "name": "stderr",
     "output_type": "stream",
     "text": [
      "Epoch 3/50:: 100%|\u001b[34m████████████████████\u001b[0m| 120/120 [00:02<00:00, 49.43batch/s, loss=0.426633]\u001b[0m\n"
     ]
    },
    {
     "name": "stdout",
     "output_type": "stream",
     "text": [
      "\t Loss: 11.089,\tTrain : 90.41%(90.41%),\tTest : 90.72%(90.72%),\tCurrent Time: 20250720-212859\n"
     ]
    },
    {
     "name": "stderr",
     "output_type": "stream",
     "text": [
      "Epoch 4/50:: 100%|\u001b[34m████████████████████\u001b[0m| 120/120 [00:02<00:00, 49.35batch/s, loss=0.335146]\u001b[0m\n"
     ]
    },
    {
     "name": "stdout",
     "output_type": "stream",
     "text": [
      "\t Loss: 9.061,\tTrain : 91.67%(91.67%),\tTest : 91.92%(91.92%),\tCurrent Time: 20250720-212902\n"
     ]
    },
    {
     "name": "stderr",
     "output_type": "stream",
     "text": [
      "Epoch 5/50:: 100%|\u001b[34m████████████████████\u001b[0m| 120/120 [00:02<00:00, 49.43batch/s, loss=0.279663]\u001b[0m\n"
     ]
    },
    {
     "name": "stdout",
     "output_type": "stream",
     "text": [
      "\t Loss: 7.562,\tTrain : 93.03%(93.03%),\tTest : 93.11%(93.11%),\tCurrent Time: 20250720-212905\n"
     ]
    },
    {
     "name": "stderr",
     "output_type": "stream",
     "text": [
      "Epoch 6/50:: 100%|\u001b[34m████████████████████\u001b[0m| 120/120 [00:02<00:00, 49.21batch/s, loss=0.240332]\u001b[0m\n"
     ]
    },
    {
     "name": "stdout",
     "output_type": "stream",
     "text": [
      "\t Loss: 6.672,\tTrain : 93.81%(93.81%),\tTest : 93.85%(93.85%),\tCurrent Time: 20250720-212908\n"
     ]
    },
    {
     "name": "stderr",
     "output_type": "stream",
     "text": [
      "Epoch 7/50:: 100%|\u001b[34m████████████████████\u001b[0m| 120/120 [00:02<00:00, 49.29batch/s, loss=0.218212]\u001b[0m\n"
     ]
    },
    {
     "name": "stdout",
     "output_type": "stream",
     "text": [
      "\t Loss: 6.195,\tTrain : 94.26%(94.26%),\tTest : 94.11%(94.11%),\tCurrent Time: 20250720-212911\n"
     ]
    },
    {
     "name": "stderr",
     "output_type": "stream",
     "text": [
      "Epoch 8/50:: 100%|\u001b[34m████████████████████\u001b[0m| 120/120 [00:02<00:00, 49.16batch/s, loss=0.198443]\u001b[0m\n"
     ]
    },
    {
     "name": "stdout",
     "output_type": "stream",
     "text": [
      "\t Loss: 5.512,\tTrain : 94.87%(94.87%),\tTest : 94.89%(94.89%),\tCurrent Time: 20250720-212913\n"
     ]
    },
    {
     "name": "stderr",
     "output_type": "stream",
     "text": [
      "Epoch 9/50:: 100%|\u001b[34m████████████████████\u001b[0m| 120/120 [00:02<00:00, 49.34batch/s, loss=0.182837]\u001b[0m\n"
     ]
    },
    {
     "name": "stdout",
     "output_type": "stream",
     "text": [
      "\t Loss: 5.146,\tTrain : 95.10%(95.10%),\tTest : 94.74%(94.89%),\tCurrent Time: 20250720-212916\n"
     ]
    },
    {
     "name": "stderr",
     "output_type": "stream",
     "text": [
      "Epoch 10/50:: 100%|\u001b[34m███████████████████\u001b[0m| 120/120 [00:02<00:00, 49.18batch/s, loss=0.167637]\u001b[0m\n"
     ]
    },
    {
     "name": "stdout",
     "output_type": "stream",
     "text": [
      "\t Loss: 4.597,\tTrain : 95.71%(95.71%),\tTest : 95.18%(95.18%),\tCurrent Time: 20250720-212919\n"
     ]
    },
    {
     "name": "stderr",
     "output_type": "stream",
     "text": [
      "Epoch 11/50:: 100%|\u001b[34m███████████████████\u001b[0m| 120/120 [00:02<00:00, 49.33batch/s, loss=0.152333]\u001b[0m\n"
     ]
    },
    {
     "name": "stdout",
     "output_type": "stream",
     "text": [
      "\t Loss: 4.381,\tTrain : 95.85%(95.85%),\tTest : 95.23%(95.23%),\tCurrent Time: 20250720-212922\n"
     ]
    },
    {
     "name": "stderr",
     "output_type": "stream",
     "text": [
      "Epoch 12/50:: 100%|\u001b[34m███████████████████\u001b[0m| 120/120 [00:02<00:00, 49.30batch/s, loss=0.140667]\u001b[0m\n"
     ]
    },
    {
     "name": "stdout",
     "output_type": "stream",
     "text": [
      "\t Loss: 3.898,\tTrain : 96.28%(96.28%),\tTest : 95.48%(95.48%),\tCurrent Time: 20250720-212925\n"
     ]
    },
    {
     "name": "stderr",
     "output_type": "stream",
     "text": [
      "Epoch 13/50:: 100%|\u001b[34m███████████████████\u001b[0m| 120/120 [00:02<00:00, 49.34batch/s, loss=0.133567]\u001b[0m\n"
     ]
    },
    {
     "name": "stdout",
     "output_type": "stream",
     "text": [
      "\t Loss: 3.675,\tTrain : 96.53%(96.53%),\tTest : 95.68%(95.68%),\tCurrent Time: 20250720-212928\n"
     ]
    },
    {
     "name": "stderr",
     "output_type": "stream",
     "text": [
      "Epoch 14/50:: 100%|\u001b[34m███████████████████\u001b[0m| 120/120 [00:02<00:00, 49.21batch/s, loss=0.124457]\u001b[0m\n"
     ]
    },
    {
     "name": "stdout",
     "output_type": "stream",
     "text": [
      "\t Loss: 3.409,\tTrain : 96.72%(96.72%),\tTest : 95.58%(95.68%),\tCurrent Time: 20250720-212931\n"
     ]
    },
    {
     "name": "stderr",
     "output_type": "stream",
     "text": [
      "Epoch 15/50:: 100%|\u001b[34m███████████████████\u001b[0m| 120/120 [00:02<00:00, 49.27batch/s, loss=0.113845]\u001b[0m\n"
     ]
    },
    {
     "name": "stdout",
     "output_type": "stream",
     "text": [
      "\t Loss: 3.023,\tTrain : 97.08%(97.08%),\tTest : 95.68%(95.68%),\tCurrent Time: 20250720-212934\n"
     ]
    },
    {
     "name": "stderr",
     "output_type": "stream",
     "text": [
      "Epoch 16/50:: 100%|\u001b[34m███████████████████\u001b[0m| 120/120 [00:02<00:00, 49.27batch/s, loss=0.102934]\u001b[0m\n"
     ]
    },
    {
     "name": "stdout",
     "output_type": "stream",
     "text": [
      "\t Loss: 2.964,\tTrain : 97.07%(97.08%),\tTest : 95.67%(95.68%),\tCurrent Time: 20250720-212937\n"
     ]
    },
    {
     "name": "stderr",
     "output_type": "stream",
     "text": [
      "Epoch 17/50:: 100%|\u001b[34m███████████████████\u001b[0m| 120/120 [00:02<00:00, 49.27batch/s, loss=0.099759]\u001b[0m\n"
     ]
    },
    {
     "name": "stdout",
     "output_type": "stream",
     "text": [
      "\t Loss: 2.780,\tTrain : 97.24%(97.24%),\tTest : 95.86%(95.86%),\tCurrent Time: 20250720-212940\n"
     ]
    },
    {
     "name": "stderr",
     "output_type": "stream",
     "text": [
      "Epoch 18/50:: 100%|\u001b[34m███████████████████\u001b[0m| 120/120 [00:02<00:00, 49.33batch/s, loss=0.099344]\u001b[0m\n"
     ]
    },
    {
     "name": "stdout",
     "output_type": "stream",
     "text": [
      "\t Loss: 2.662,\tTrain : 97.38%(97.38%),\tTest : 96.19%(96.19%),\tCurrent Time: 20250720-212942\n"
     ]
    },
    {
     "name": "stderr",
     "output_type": "stream",
     "text": [
      "Epoch 19/50:: 100%|\u001b[34m███████████████████\u001b[0m| 120/120 [00:02<00:00, 49.18batch/s, loss=0.090386]\u001b[0m\n"
     ]
    },
    {
     "name": "stdout",
     "output_type": "stream",
     "text": [
      "\t Loss: 2.313,\tTrain : 97.70%(97.70%),\tTest : 96.35%(96.35%),\tCurrent Time: 20250720-212945\n"
     ]
    },
    {
     "name": "stderr",
     "output_type": "stream",
     "text": [
      "Epoch 20/50:: 100%|\u001b[34m███████████████████\u001b[0m| 120/120 [00:02<00:00, 49.44batch/s, loss=0.084001]\u001b[0m\n"
     ]
    },
    {
     "name": "stdout",
     "output_type": "stream",
     "text": [
      "\t Loss: 2.197,\tTrain : 97.86%(97.86%),\tTest : 96.37%(96.37%),\tCurrent Time: 20250720-212948\n"
     ]
    },
    {
     "name": "stderr",
     "output_type": "stream",
     "text": [
      "Epoch 21/50:: 100%|\u001b[34m███████████████████\u001b[0m| 120/120 [00:02<00:00, 49.19batch/s, loss=0.079476]\u001b[0m\n"
     ]
    },
    {
     "name": "stdout",
     "output_type": "stream",
     "text": [
      "\t Loss: 2.190,\tTrain : 97.84%(97.86%),\tTest : 96.56%(96.56%),\tCurrent Time: 20250720-212951\n"
     ]
    },
    {
     "name": "stderr",
     "output_type": "stream",
     "text": [
      "Epoch 22/50:: 100%|\u001b[34m███████████████████\u001b[0m| 120/120 [00:02<00:00, 49.37batch/s, loss=0.076932]\u001b[0m\n"
     ]
    },
    {
     "name": "stdout",
     "output_type": "stream",
     "text": [
      "\t Loss: 1.941,\tTrain : 98.08%(98.08%),\tTest : 96.65%(96.65%),\tCurrent Time: 20250720-212954\n"
     ]
    },
    {
     "name": "stderr",
     "output_type": "stream",
     "text": [
      "Epoch 23/50:: 100%|\u001b[34m███████████████████\u001b[0m| 120/120 [00:02<00:00, 49.27batch/s, loss=0.071764]\u001b[0m\n"
     ]
    },
    {
     "name": "stdout",
     "output_type": "stream",
     "text": [
      "\t Loss: 1.911,\tTrain : 98.04%(98.08%),\tTest : 96.43%(96.65%),\tCurrent Time: 20250720-212957\n"
     ]
    },
    {
     "name": "stderr",
     "output_type": "stream",
     "text": [
      "Epoch 24/50:: 100%|\u001b[34m███████████████████\u001b[0m| 120/120 [00:02<00:00, 49.40batch/s, loss=0.070331]\u001b[0m\n"
     ]
    },
    {
     "name": "stdout",
     "output_type": "stream",
     "text": [
      "\t Loss: 1.679,\tTrain : 98.36%(98.36%),\tTest : 96.35%(96.65%),\tCurrent Time: 20250720-213000\n"
     ]
    },
    {
     "name": "stderr",
     "output_type": "stream",
     "text": [
      "Epoch 25/50:: 100%|\u001b[34m███████████████████\u001b[0m| 120/120 [00:02<00:00, 49.24batch/s, loss=0.065596]\u001b[0m\n"
     ]
    },
    {
     "name": "stdout",
     "output_type": "stream",
     "text": [
      "\t Loss: 1.914,\tTrain : 98.08%(98.36%),\tTest : 96.22%(96.65%),\tCurrent Time: 20250720-213003\n"
     ]
    },
    {
     "name": "stderr",
     "output_type": "stream",
     "text": [
      "Epoch 26/50:: 100%|\u001b[34m███████████████████\u001b[0m| 120/120 [00:02<00:00, 49.02batch/s, loss=0.064136]\u001b[0m\n"
     ]
    },
    {
     "name": "stdout",
     "output_type": "stream",
     "text": [
      "\t Loss: 1.680,\tTrain : 98.30%(98.36%),\tTest : 96.30%(96.65%),\tCurrent Time: 20250720-213006\n"
     ]
    },
    {
     "name": "stderr",
     "output_type": "stream",
     "text": [
      "Epoch 27/50:: 100%|\u001b[34m███████████████████\u001b[0m| 120/120 [00:02<00:00, 49.24batch/s, loss=0.058003]\u001b[0m\n"
     ]
    },
    {
     "name": "stdout",
     "output_type": "stream",
     "text": [
      "\t Loss: 1.615,\tTrain : 98.38%(98.38%),\tTest : 96.25%(96.65%),\tCurrent Time: 20250720-213009\n"
     ]
    },
    {
     "name": "stderr",
     "output_type": "stream",
     "text": [
      "Epoch 28/50:: 100%|\u001b[34m███████████████████\u001b[0m| 120/120 [00:02<00:00, 49.21batch/s, loss=0.055933]\u001b[0m\n"
     ]
    },
    {
     "name": "stdout",
     "output_type": "stream",
     "text": [
      "\t Loss: 1.456,\tTrain : 98.59%(98.59%),\tTest : 96.43%(96.65%),\tCurrent Time: 20250720-213011\n"
     ]
    },
    {
     "name": "stderr",
     "output_type": "stream",
     "text": [
      "Epoch 29/50:: 100%|\u001b[34m███████████████████\u001b[0m| 120/120 [00:02<00:00, 49.44batch/s, loss=0.052994]\u001b[0m\n"
     ]
    },
    {
     "name": "stdout",
     "output_type": "stream",
     "text": [
      "\t Loss: 1.407,\tTrain : 98.56%(98.59%),\tTest : 96.40%(96.65%),\tCurrent Time: 20250720-213014\n"
     ]
    },
    {
     "name": "stderr",
     "output_type": "stream",
     "text": [
      "Epoch 30/50:: 100%|\u001b[34m███████████████████\u001b[0m| 120/120 [00:02<00:00, 49.40batch/s, loss=0.051870]\u001b[0m\n"
     ]
    },
    {
     "name": "stdout",
     "output_type": "stream",
     "text": [
      "\t Loss: 1.678,\tTrain : 98.22%(98.59%),\tTest : 96.09%(96.65%),\tCurrent Time: 20250720-213017\n"
     ]
    },
    {
     "name": "stderr",
     "output_type": "stream",
     "text": [
      "Epoch 31/50:: 100%|\u001b[34m███████████████████\u001b[0m| 120/120 [00:02<00:00, 49.21batch/s, loss=0.049075]\u001b[0m\n"
     ]
    },
    {
     "name": "stdout",
     "output_type": "stream",
     "text": [
      "\t Loss: 1.246,\tTrain : 98.73%(98.73%),\tTest : 96.57%(96.65%),\tCurrent Time: 20250720-213020\n"
     ]
    },
    {
     "name": "stderr",
     "output_type": "stream",
     "text": [
      "Epoch 32/50:: 100%|\u001b[34m███████████████████\u001b[0m| 120/120 [00:02<00:00, 49.27batch/s, loss=0.045829]\u001b[0m\n"
     ]
    },
    {
     "name": "stdout",
     "output_type": "stream",
     "text": [
      "\t Loss: 1.088,\tTrain : 98.98%(98.98%),\tTest : 96.86%(96.86%),\tCurrent Time: 20250720-213023\n"
     ]
    },
    {
     "name": "stderr",
     "output_type": "stream",
     "text": [
      "Epoch 33/50:: 100%|\u001b[34m███████████████████\u001b[0m| 120/120 [00:02<00:00, 49.26batch/s, loss=0.042634]\u001b[0m\n"
     ]
    },
    {
     "name": "stdout",
     "output_type": "stream",
     "text": [
      "\t Loss: 1.315,\tTrain : 98.62%(98.98%),\tTest : 96.34%(96.86%),\tCurrent Time: 20250720-213026\n"
     ]
    },
    {
     "name": "stderr",
     "output_type": "stream",
     "text": [
      "Epoch 34/50:: 100%|\u001b[34m███████████████████\u001b[0m| 120/120 [00:02<00:00, 49.44batch/s, loss=0.043097]\u001b[0m\n"
     ]
    },
    {
     "name": "stdout",
     "output_type": "stream",
     "text": [
      "\t Loss: 1.064,\tTrain : 98.90%(98.98%),\tTest : 96.55%(96.86%),\tCurrent Time: 20250720-213029\n"
     ]
    },
    {
     "name": "stderr",
     "output_type": "stream",
     "text": [
      "Epoch 35/50:: 100%|\u001b[34m███████████████████\u001b[0m| 120/120 [00:02<00:00, 49.33batch/s, loss=0.039735]\u001b[0m\n"
     ]
    },
    {
     "name": "stdout",
     "output_type": "stream",
     "text": [
      "\t Loss: 0.997,\tTrain : 99.06%(99.06%),\tTest : 96.52%(96.86%),\tCurrent Time: 20250720-213032\n"
     ]
    },
    {
     "name": "stderr",
     "output_type": "stream",
     "text": [
      "Epoch 36/50:: 100%|\u001b[34m███████████████████\u001b[0m| 120/120 [00:02<00:00, 49.25batch/s, loss=0.037822]\u001b[0m\n"
     ]
    },
    {
     "name": "stdout",
     "output_type": "stream",
     "text": [
      "\t Loss: 1.089,\tTrain : 98.83%(99.06%),\tTest : 96.60%(96.86%),\tCurrent Time: 20250720-213035\n"
     ]
    },
    {
     "name": "stderr",
     "output_type": "stream",
     "text": [
      "Epoch 37/50:: 100%|\u001b[34m███████████████████\u001b[0m| 120/120 [00:02<00:00, 49.33batch/s, loss=0.037341]\u001b[0m\n"
     ]
    },
    {
     "name": "stdout",
     "output_type": "stream",
     "text": [
      "\t Loss: 0.884,\tTrain : 99.12%(99.12%),\tTest : 96.57%(96.86%),\tCurrent Time: 20250720-213037\n"
     ]
    },
    {
     "name": "stderr",
     "output_type": "stream",
     "text": [
      "Epoch 38/50:: 100%|\u001b[34m███████████████████\u001b[0m| 120/120 [00:02<00:00, 49.29batch/s, loss=0.033718]\u001b[0m\n"
     ]
    },
    {
     "name": "stdout",
     "output_type": "stream",
     "text": [
      "\t Loss: 1.151,\tTrain : 98.80%(99.12%),\tTest : 96.46%(96.86%),\tCurrent Time: 20250720-213040\n"
     ]
    },
    {
     "name": "stderr",
     "output_type": "stream",
     "text": [
      "Epoch 39/50:: 100%|\u001b[34m███████████████████\u001b[0m| 120/120 [00:02<00:00, 49.24batch/s, loss=0.036041]\u001b[0m\n"
     ]
    },
    {
     "name": "stdout",
     "output_type": "stream",
     "text": [
      "\t Loss: 0.890,\tTrain : 99.08%(99.12%),\tTest : 96.70%(96.86%),\tCurrent Time: 20250720-213043\n"
     ]
    },
    {
     "name": "stderr",
     "output_type": "stream",
     "text": [
      "Epoch 40/50:: 100%|\u001b[34m███████████████████\u001b[0m| 120/120 [00:02<00:00, 49.14batch/s, loss=0.034932]\u001b[0m\n"
     ]
    },
    {
     "name": "stdout",
     "output_type": "stream",
     "text": [
      "\t Loss: 0.787,\tTrain : 99.25%(99.25%),\tTest : 96.74%(96.86%),\tCurrent Time: 20250720-213046\n"
     ]
    },
    {
     "name": "stderr",
     "output_type": "stream",
     "text": [
      "Epoch 41/50:: 100%|\u001b[34m███████████████████\u001b[0m| 120/120 [00:02<00:00, 49.38batch/s, loss=0.029731]\u001b[0m\n"
     ]
    },
    {
     "name": "stdout",
     "output_type": "stream",
     "text": [
      "\t Loss: 0.714,\tTrain : 99.26%(99.26%),\tTest : 96.83%(96.86%),\tCurrent Time: 20250720-213049\n"
     ]
    },
    {
     "name": "stderr",
     "output_type": "stream",
     "text": [
      "Epoch 42/50:: 100%|\u001b[34m███████████████████\u001b[0m| 120/120 [00:02<00:00, 49.24batch/s, loss=0.027870]\u001b[0m\n"
     ]
    },
    {
     "name": "stdout",
     "output_type": "stream",
     "text": [
      "\t Loss: 0.919,\tTrain : 99.00%(99.26%),\tTest : 96.39%(96.86%),\tCurrent Time: 20250720-213052\n"
     ]
    },
    {
     "name": "stderr",
     "output_type": "stream",
     "text": [
      "Epoch 43/50:: 100%|\u001b[34m███████████████████\u001b[0m| 120/120 [00:02<00:00, 49.47batch/s, loss=0.029289]\u001b[0m\n"
     ]
    },
    {
     "name": "stdout",
     "output_type": "stream",
     "text": [
      "\t Loss: 0.774,\tTrain : 99.17%(99.26%),\tTest : 96.77%(96.86%),\tCurrent Time: 20250720-213055\n"
     ]
    },
    {
     "name": "stderr",
     "output_type": "stream",
     "text": [
      "Epoch 44/50:: 100%|\u001b[34m███████████████████\u001b[0m| 120/120 [00:02<00:00, 49.39batch/s, loss=0.028274]\u001b[0m\n"
     ]
    },
    {
     "name": "stdout",
     "output_type": "stream",
     "text": [
      "\t Loss: 0.717,\tTrain : 99.20%(99.26%),\tTest : 96.68%(96.86%),\tCurrent Time: 20250720-213058\n"
     ]
    },
    {
     "name": "stderr",
     "output_type": "stream",
     "text": [
      "Epoch 45/50:: 100%|\u001b[34m███████████████████\u001b[0m| 120/120 [00:02<00:00, 49.27batch/s, loss=0.026000]\u001b[0m\n"
     ]
    },
    {
     "name": "stdout",
     "output_type": "stream",
     "text": [
      "\t Loss: 0.643,\tTrain : 99.33%(99.33%),\tTest : 96.60%(96.86%),\tCurrent Time: 20250720-213101\n"
     ]
    },
    {
     "name": "stderr",
     "output_type": "stream",
     "text": [
      "Epoch 46/50:: 100%|\u001b[34m███████████████████\u001b[0m| 120/120 [00:02<00:00, 49.10batch/s, loss=0.023152]\u001b[0m\n"
     ]
    },
    {
     "name": "stdout",
     "output_type": "stream",
     "text": [
      "\t Loss: 0.508,\tTrain : 99.50%(99.50%),\tTest : 96.74%(96.86%),\tCurrent Time: 20250720-213103\n"
     ]
    },
    {
     "name": "stderr",
     "output_type": "stream",
     "text": [
      "Epoch 47/50:: 100%|\u001b[34m███████████████████\u001b[0m| 120/120 [00:02<00:00, 49.43batch/s, loss=0.023402]\u001b[0m\n"
     ]
    },
    {
     "name": "stdout",
     "output_type": "stream",
     "text": [
      "\t Loss: 0.862,\tTrain : 99.09%(99.50%),\tTest : 96.50%(96.86%),\tCurrent Time: 20250720-213106\n"
     ]
    },
    {
     "name": "stderr",
     "output_type": "stream",
     "text": [
      "Epoch 48/50:: 100%|\u001b[34m███████████████████\u001b[0m| 120/120 [00:02<00:00, 49.38batch/s, loss=0.026632]\u001b[0m\n"
     ]
    },
    {
     "name": "stdout",
     "output_type": "stream",
     "text": [
      "\t Loss: 0.699,\tTrain : 99.27%(99.50%),\tTest : 96.79%(96.86%),\tCurrent Time: 20250720-213109\n"
     ]
    },
    {
     "name": "stderr",
     "output_type": "stream",
     "text": [
      "Epoch 49/50:: 100%|\u001b[34m███████████████████\u001b[0m| 120/120 [00:02<00:00, 49.13batch/s, loss=0.025083]\u001b[0m\n"
     ]
    },
    {
     "name": "stdout",
     "output_type": "stream",
     "text": [
      "\t Loss: 0.524,\tTrain : 99.48%(99.50%),\tTest : 96.69%(96.86%),\tCurrent Time: 20250720-213112\n"
     ]
    },
    {
     "name": "stderr",
     "output_type": "stream",
     "text": [
      "Epoch 50/50:: 100%|\u001b[34m███████████████████\u001b[0m| 120/120 [00:02<00:00, 49.26batch/s, loss=0.022699]\u001b[0m\n"
     ]
    },
    {
     "name": "stdout",
     "output_type": "stream",
     "text": [
      "\t Loss: 0.419,\tTrain : 99.61%(99.61%),\tTest : 96.76%(96.86%),\tCurrent Time: 20250720-213115\n",
      "First_asymm_AG_10HL_Res-Task2-0-EP_L10--MNIST_EP_b_sc0.1- Time: 20250720-213115, Epochs: 50, Learning Rate: 0.001, Best: 99.61%  96.86%\n",
      "\n"
     ]
    }
   ],
   "source": [
    "for iM in range( len(M_range) ):\n",
    "    for iPara in range( len(ParaRange) ):\n",
    "        for  imultitest in range((multitest)):\n",
    "            Para_EP['bsc'] = ParaRange[iPara]\n",
    "            Para_t['task'] = M_range[iM]\n",
    "            W_conn = make_W_conn_random(n_hidden=NL, a=0.2, seed=99+iM*100+iPara*10+imultitest)\n",
    "            print(W_conn)\n",
    "\n",
    "            (_, [train_loader_gpu,valid_loader_gpu,test_loader_gpu], [nodes[0], nodes[-1]]\n",
    "                 ) = dataset(Para_t['task'], device=device, bs=Para_t['batchsize'], validbstimes=4 )\n",
    "            #-----------------\n",
    "            Para_EP['It2sta'] = (len(nodes)-2)*10\n",
    "            Para_EP['It2sta2'] = (len(nodes)-2)*5\n",
    "            # ---------------------------------\n",
    "            model = EPNN_LN(W_conn, nodes=nodes, Para_t=Para_t, Para_EP=Para_EP, device=device).to(device)\n",
    "\n",
    "            s_task_info = f\"{Task_info}-{Para_t['method']}_L{(len(nodes)-2)}--{Para_t['task']}_EP_b_sc{Para_EP['bsc']}-{Einfo}\"\n",
    "            print(s_task_info)\n",
    "\n",
    "            ## Train\n",
    "\n",
    "            for epoch in range(Para_t['epoch']):\n",
    "                losssum = 0\n",
    "                random.shuffle(train_loader_gpu)\n",
    "                with tqdm(total=len(train_loader_gpu), desc=f\"Epoch {epoch + 1}/{Para_t['epoch']}:\", unit='batch', ncols=90, mininterval=1, colour='blue') as pbar:\n",
    "                    for i, (images, labels) in enumerate(train_loader_gpu):\n",
    "                        # \n",
    "                        images = images.view(-1, nodes[0])\n",
    "                        labels_one_hot = one_hot(labels, nodes[-1], device=device)\n",
    "                        # \n",
    "                        outputs = model.forward(images)\n",
    "                        # \n",
    "                        loss = cross_entropy_loss(outputs, labels_one_hot.to(device))\n",
    "                        losssum += loss.item()\n",
    "                        #\n",
    "                        outputs = model.backward(images, labels_one_hot, outputs)\n",
    "                        # \n",
    "                        model.update_weights_adam() if Para_t['adam'] else model.update_weights() #model.update_weights_adam() model.update_weights()\n",
    "                        # \n",
    "                        if (i+1) % 10 == 0: \n",
    "                            pbar.set_postfix({'loss': f'{losssum/(i+1):.6f}'})  \n",
    "                            pbar.update(10)\n",
    "\n",
    "                # SR, ftmle, mle, zall = model.Lyapunov_EP(images[-1:,:], y=None, t_e=500, ret_zall=True)\n",
    "                # if imultitest==0: zall_list[iM][iPara].append(zall)\n",
    "\n",
    "                # terr = model.ret_error() if imultitest==0 else 0\n",
    "                # eall_list[iM][iPara][imultitest].append(terr)\n",
    "\n",
    "                # train set ------------------------------------------------------------\n",
    "                train_correct = 0\n",
    "                train_total = 0\n",
    "                losssum = 0\n",
    "                for images, labels in valid_loader_gpu:\n",
    "                    images = images.view(-1, nodes[0])\n",
    "                    labels_one_hot = one_hot(labels, nodes[-1], device=device)\n",
    "                    # \n",
    "                    outputs = model.forward(images)\n",
    "\n",
    "                    _, predicted = torch.max(outputs, 1)\n",
    "                    loss = cross_entropy_loss(outputs, labels_one_hot.to(device))\n",
    "                    losssum += loss.item()\n",
    "                    train_total += labels.size(0)\n",
    "                    train_correct += (predicted == labels).sum().item()\n",
    "\n",
    "                train_accuracy = train_correct / train_total\n",
    "\n",
    "                # test set -------------------------------------------------------------\n",
    "                test_correct = 0\n",
    "                test_total = 0\n",
    "                # ---------\n",
    "                for images, labels in test_loader_gpu:\n",
    "                    images = images.view(-1, nodes[0])\n",
    "                    # \n",
    "                    outputs = model.forward(images)\n",
    "\n",
    "                    _, predicted = torch.max(outputs, 1)\n",
    "                    test_total += labels.size(0)\n",
    "                    test_correct += (predicted == labels).sum().item()\n",
    "\n",
    "                test_accuracy = test_correct / test_total\n",
    "\n",
    "                res[iM][iPara][imultitest][0][epoch] = losssum\n",
    "                res[iM][iPara][imultitest][1][epoch] = train_accuracy\n",
    "                res[iM][iPara][imultitest][2][epoch] = test_accuracy\n",
    "                # res[iM][iPara][imultitest][3][epoch] = ftmle\n",
    "                # res[iM][iPara][imultitest][4][epoch] = mle\n",
    "                # res[iM][iPara][imultitest][5][epoch] = SR\n",
    "\n",
    "                current_time = time.strftime(\"%Y%m%d-%H%M%S\", time.localtime())\n",
    "                print(f'\\t Loss: {res[iM][iPara][imultitest][0][epoch] :.3f},\\t'\n",
    "                    f'Train : {res[iM][iPara][imultitest][1][epoch] * 100:.2f}%({np.max(res[iM][iPara][imultitest][1]) * 100:.2f}%),\\t'\n",
    "                    f'Test : {res[iM][iPara][imultitest][2][epoch] * 100:.2f}%({np.max(res[iM][iPara][imultitest][2]) * 100:.2f}%),\\t'\n",
    "                    f'Current Time: {current_time}')\n",
    "                \n",
    "                # if 1-train_accuracy <1e-4:\n",
    "                #     break\n",
    "            \n",
    "            # best result\n",
    "            print(f\"{s_task_info} Time: {current_time}, Epochs: {Para_t['epoch']}, Learning Rate: {Para_t['eta']}, \"\n",
    "                f\"Best: {max(res[iM][iPara][imultitest][1]) * 100:.2f}%  {max(res[iM][iPara][imultitest][2]) * 100:.2f}%\\n\")\n",
    "            \n",
    "        for attempt in range(5):\n",
    "            try:\n",
    "                with open(res_path/\"res.txt\", \"a\") as f:\n",
    "                    trainacct = np.max(res[iM][iPara][:,1,:], axis=-1)\n",
    "                    testacct = np.max(res[iM][iPara][:,2,:], axis=-1)\n",
    "                    f.write(f\"{s_task_info} Time: {current_time}: \"\n",
    "                            f\"train: {np.mean(trainacct) * 100:.2f}%+-{np.std(trainacct, ddof=1)*100:.2f}% ({np.min(trainacct) * 100:.2f}% {np.max(trainacct) * 100:.2f}%)\"\n",
    "                            f\"\\t test: {np.mean(testacct) * 100:.2f}%+-{np.std(testacct, ddof=1)*100:.2f}% ({np.min(testacct) * 100:.2f}% {np.max(testacct) * 100:.2f}%)\\n\")\n",
    "\n",
    "                    if Para_EP!=None:\n",
    "                        for key, value in Para_EP.items():\n",
    "                            f.write(f\"{key}: {value}  \")\n",
    "                    f.write(f'\\n\\n')  \n",
    "\n",
    "                break  # \n",
    "            except PermissionError:\n",
    "                if attempt < 5 - 1:\n",
    "                    print(f\"Permission denied, retrying in {5} seconds...\")\n",
    "                    time.sleep(5)\n",
    "                else:\n",
    "                    raise  # "
   ]
  },
  {
   "cell_type": "code",
   "execution_count": 8,
   "id": "c5626ba2",
   "metadata": {},
   "outputs": [],
   "source": [
    "current_time = time.strftime(\"%Y%m%d-%H%M%S\", time.localtime())\n",
    "if fsave: \n",
    "    save_dict = {\n",
    "        \"M_range\": M_range,\n",
    "        \"ParaRange\": ParaRange,\n",
    "        \"multitest\": multitest,\n",
    "        \"Para_EP\": Para_EP,\n",
    "        \"Para_t\": Para_t,       \n",
    "        \"res\": res,\n",
    "    }\n",
    "    np.savez_compressed(res_path / f\"{s_task_info}_{current_time}_res\",  **save_dict)\n",
    "\n",
    "    # save_dict = {\n",
    "    #     f\"eall_{i}_{j}_{k}\": np.array(eall_list[i][j][k])  # \n",
    "    #     for i in range(len(M_range))\n",
    "    #     for j in range(len(ParaRange))\n",
    "    #     for k in range(multitest)\n",
    "    # }\n",
    "    # np.savez_compressed(res_path / f\"{s_task_info}_{current_time}_E\", **save_dict)\n",
    "\n",
    "    # save_dict = {\n",
    "    #     f\"zall_{i}_{j}\": np.array(zall_list[i][j])  # \n",
    "    #     for i in range(len(M_range))\n",
    "    #     for j in range(len(ParaRange))\n",
    "    # }\n",
    "    # np.savez_compressed(res_path / f\"{s_task_info}_{current_time}_dyn\", **save_dict)\n"
   ]
  },
  {
   "cell_type": "code",
   "execution_count": 9,
   "id": "4d04650e",
   "metadata": {},
   "outputs": [
    {
     "name": "stdout",
     "output_type": "stream",
     "text": [
      "MNIST\t_FMNIST\t_0.1\t_train: 90.41%+-1.69% (87.69% 91.84%)\t test: 86.97%+-0.89% (85.54% 87.89%)\n",
      "\n",
      "MNIST\t_MNIST\t_0.1\t_train: 99.45%+-0.12% (99.34% 99.61%)\t test: 96.71%+-0.14% (96.59% 96.86%)\n",
      "\n",
      "0\n"
     ]
    }
   ],
   "source": [
    "\n",
    "for iM in range( len(M_range) ):\n",
    "    for iPara in range( len(ParaRange) ):        \n",
    "        tt = res[iM][iPara]\n",
    "        testacctt = np.max(tt[:,2,:], axis= -1)\n",
    "\n",
    "        tt = res[iM][iPara]\n",
    "        trainacctt = np.max(tt[:,1,:], axis= -1)\n",
    "\n",
    "        print(f\"{Para_t['task']}\\t_{M_range[iM]}\\t_{ParaRange[iPara]}\\t_\"\n",
    "              f\"train: {np.mean(trainacctt) * 100:.2f}%+-{np.std(trainacctt, ddof=1)*100:.2f}% ({np.min(trainacctt) * 100:.2f}% {np.max(trainacctt) * 100:.2f}%)\"\n",
    "              f\"\\t test: {np.mean(testacctt) * 100:.2f}%+-{np.std(testacctt, ddof=1)*100:.2f}% ({np.min(testacctt) * 100:.2f}% {np.max(testacctt) * 100:.2f}%)\\n\")\n",
    "        \n",
    "\n",
    "print('0')"
   ]
  }
 ],
 "metadata": {
  "kernelspec": {
   "display_name": "torchgpu",
   "language": "python",
   "name": "python3"
  },
  "language_info": {
   "codemirror_mode": {
    "name": "ipython",
    "version": 3
   },
   "file_extension": ".py",
   "mimetype": "text/x-python",
   "name": "python",
   "nbconvert_exporter": "python",
   "pygments_lexer": "ipython3",
   "version": "3.9.20"
  }
 },
 "nbformat": 4,
 "nbformat_minor": 5
}
