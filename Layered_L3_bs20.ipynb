{
 "cells": [
  {
   "cell_type": "code",
   "execution_count": null,
   "id": "b5198765",
   "metadata": {},
   "outputs": [
    {
     "name": "stdout",
     "output_type": "stream",
     "text": [
      "cuda:True\n",
      "GPU 0:NVIDIA RTX A5000:23.99GB\n"
     ]
    },
    {
     "data": {
      "text/plain": [
       "<torch.autograd.grad_mode.set_grad_enabled at 0x2540c4af820>"
      ]
     },
     "execution_count": 1,
     "metadata": {},
     "output_type": "execute_result"
    }
   ],
   "source": [
    "import torch\n",
    "import numpy as np\n",
    "import random\n",
    "import time\n",
    "from tqdm import tqdm  # \n",
    "from pathlib import Path\n",
    "\n",
    "\n",
    "seed = 42\n",
    "random.seed(seed)\n",
    "np.random.seed(seed)\n",
    "torch.manual_seed(seed)\n",
    "if torch.cuda.is_available():\n",
    "    torch.cuda.manual_seed(seed)\n",
    "    torch.cuda.manual_seed_all(seed)\n",
    "# torch.backends.cudnn.deterministic = True\n",
    "# torch.backends.cudnn.benchmark = False\n",
    "torch.backends.cudnn.benchmark = True\n",
    "\n",
    "\n",
    "if torch.cuda.is_available():\n",
    "    print(f\"cuda:True\")\n",
    "    for i in range(torch.cuda.device_count()):\n",
    "        device = torch.device(f\"cuda:{i}\")\n",
    "        properties = torch.cuda.get_device_properties(device)\n",
    "        print(f\"GPU {i}:{properties.name}:{properties.total_memory/1024/1024/1024:.2f}GB\")\n",
    "else:\n",
    "    print(f\"cuda:False\")\n",
    "    device = torch.device(\"cpu\")\n",
    "\n",
    "\n",
    "from models_LN import FNN_LN, dataset, one_hot, cross_entropy_loss, linear, linear_d, tanh, tanh_d, sign, sign_d, sigmoid, sigmoid_d, relu, relu_d, relu6, relu6_d, softmax, softmax_d\n",
    "\n",
    "torch.set_grad_enabled(False)"
   ]
  },
  {
   "cell_type": "code",
   "execution_count": 2,
   "id": "1391941d",
   "metadata": {},
   "outputs": [],
   "source": [
    "\n",
    "class Config:\n",
    "    def __init__(self):\n",
    "        self.n_input = 28 * 28  # \n",
    "        self.n_hidd = 16     # \n",
    "        self.n_out = 10      # \n",
    "\n",
    "        self.nL_hidd = 2\n",
    "\n",
    "        self.sc_forward = 1\n",
    "        self.sc_bias = 0\n",
    "        self.sc_back = 1\n",
    "\n",
    "        self.f = tanh #  relu tanh\n",
    "        self.fd = 0 #tanh_d # relu_d tanh_d\n",
    "\n",
    "        self.train_eta_global = 1e-3  #\n",
    "        self.train_n_epochs = 100     # \n",
    "        self.train_batch_size = 20     # \n",
    "        self.train_task = \"MNIST\" #  \"MNIST\" \"FMNIST\" \"CIFAR10\"\n",
    "        self.train_tmethod = ''     # 'FA','PC','LRA','BP'\n",
    "\n",
    "        self.biasLearning = False\n",
    "        \n",
    "        self.EP_It2sta = 8\n",
    "        self.EP_nudge = 1\n",
    "        \n",
    "config = Config()"
   ]
  },
  {
   "cell_type": "code",
   "execution_count": 3,
   "id": "153561ab",
   "metadata": {},
   "outputs": [],
   "source": [
    "train_loader, valid_loader, test_loader, config = dataset(config)\n",
    "config.test_batch_size = 500\n",
    "train_loader_gpu = [(data.to(device), target.to(device)) for data, target in train_loader]\n",
    "valid_loader_gpu = [(data.to(device), target.to(device)) for data, target in valid_loader]\n",
    "test_loader_gpu = [(data.to(device), target.to(device)) for data, target in test_loader]"
   ]
  },
  {
   "cell_type": "code",
   "execution_count": 4,
   "id": "1044f066",
   "metadata": {},
   "outputs": [],
   "source": [
    "##\n",
    "ParaName = f'First_symm_LN_t2sta2_bs20'\n",
    "Einfo = ''\n",
    "\n",
    "res_path = Path(f\"./Res/{ParaName}-{config.train_task}\")\n",
    "M_range = [0.01] # 0.001, 0.01, 0.1, 0.25, 1, 2, 4 fbsc  # 0.01, 0.1, 0.25, 0.5, 1, 2 SRsc\n",
    "ParaRange = [3] # 2,3,5,8\n",
    "multitest = 5 \n",
    "config.save = True\n",
    "config.ff = softmax\n",
    "config.ffd = 0 #softmax_d\n",
    "# -=--------------------------\n",
    "config.train_tmethod = 'EP'\n",
    "# config.nL_hidd = 2\n",
    "config.n_hidd = 512     # \n",
    "\n",
    "config.train_n_epochs = 100  # \n",
    "\n",
    "config.EP_symm_W = True\n",
    "config.adam = False\n",
    "config.EP_b_learn = False\n",
    "config.EP_f_sc = 1\n",
    "config.EP_nudge = 0.1\n",
    "# config.EP_b_sc = 0.25"
   ]
  },
  {
   "cell_type": "code",
   "execution_count": 5,
   "id": "70152331",
   "metadata": {},
   "outputs": [],
   "source": [
    "# -=--------------------------\n",
    "res_path.mkdir(parents=True, exist_ok=True)\n",
    "res = np.zeros((len(M_range),len(ParaRange),(multitest),6,config.train_n_epochs))\n",
    "\n",
    "zall_list = [[[] for _ in range(len(ParaRange))] for _ in range(len(M_range))]\n",
    "eall_list = [[[[] for _ in range((multitest))] for _ in range(len(ParaRange))] for _ in range(len(M_range))]"
   ]
  },
  {
   "cell_type": "code",
   "execution_count": 6,
   "id": "3d9cbabd",
   "metadata": {},
   "outputs": [
    {
     "name": "stdout",
     "output_type": "stream",
     "text": [
      "Current Time: 20250721-115032\n"
     ]
    }
   ],
   "source": [
    "current_time = time.strftime(\"%Y%m%d-%H%M%S\", time.localtime())\n",
    "print(f'Current Time: {current_time}')\n",
    "with open(res_path/\"res.txt\", \"a\") as f: \n",
    "    f.write(f\"===================================================================\")       \n",
    "    f.write(f\"Start Time: {current_time}\\r\\n\")"
   ]
  },
  {
   "cell_type": "code",
   "execution_count": 7,
   "id": "d43b289d",
   "metadata": {},
   "outputs": [
    {
     "name": "stdout",
     "output_type": "stream",
     "text": [
      "EP_L3_MNIST_First_symm_LN_t2sta2_bs20-EP_b_sc0.01-EP_It2sta18-\n"
     ]
    },
    {
     "name": "stderr",
     "output_type": "stream",
     "text": [
      "Epoch 1/100:   0%|\u001b[34m                                            \u001b[0m| 0/3000 [00:00<?, ?batch/s]\u001b[0md:\\GPUS2share\\aEP\\models_LN.py:249: UserWarning: To copy construct from a tensor, it is recommended to use sourceTensor.clone().detach() or sourceTensor.clone().detach().requires_grad_(True), rather than torch.tensor(sourceTensor).\n",
      "  self.y = torch.tensor(self.z, device=self.device)\n",
      "Epoch 1/100: 100%|\u001b[34m██████████████████\u001b[0m| 3000/3000 [00:34<00:00, 87.57batch/s, loss=0.646849]\u001b[0m\n"
     ]
    },
    {
     "name": "stdout",
     "output_type": "stream",
     "text": [
      "\t Loss: 1938.174,\tTrain : 83.44%(83.44%),\tTest : 88.71%(88.71%),\tCurrent Time: 20250721-115107\n"
     ]
    },
    {
     "name": "stderr",
     "output_type": "stream",
     "text": [
      "Epoch 2/100: 100%|\u001b[34m██████████████████\u001b[0m| 3000/3000 [00:38<00:00, 77.64batch/s, loss=0.385871]\u001b[0m\n"
     ]
    },
    {
     "name": "stdout",
     "output_type": "stream",
     "text": [
      "\t Loss: 1156.269,\tTrain : 89.09%(89.09%),\tTest : 90.04%(90.04%),\tCurrent Time: 20250721-115146\n"
     ]
    },
    {
     "name": "stderr",
     "output_type": "stream",
     "text": [
      "Epoch 3/100: 100%|\u001b[34m██████████████████\u001b[0m| 3000/3000 [00:39<00:00, 75.02batch/s, loss=0.349008]\u001b[0m\n"
     ]
    },
    {
     "name": "stdout",
     "output_type": "stream",
     "text": [
      "\t Loss: 1046.832,\tTrain : 90.05%(90.05%),\tTest : 90.46%(90.46%),\tCurrent Time: 20250721-115227\n"
     ]
    },
    {
     "name": "stderr",
     "output_type": "stream",
     "text": [
      "Epoch 4/100: 100%|\u001b[34m██████████████████\u001b[0m| 3000/3000 [00:39<00:00, 76.85batch/s, loss=0.329372]\u001b[0m\n"
     ]
    },
    {
     "name": "stdout",
     "output_type": "stream",
     "text": [
      "\t Loss: 988.769,\tTrain : 90.56%(90.56%),\tTest : 91.06%(91.06%),\tCurrent Time: 20250721-115306\n"
     ]
    },
    {
     "name": "stderr",
     "output_type": "stream",
     "text": [
      "Epoch 5/100: 100%|\u001b[34m██████████████████\u001b[0m| 3000/3000 [00:40<00:00, 74.57batch/s, loss=0.316268]\u001b[0m\n"
     ]
    },
    {
     "name": "stdout",
     "output_type": "stream",
     "text": [
      "\t Loss: 949.706,\tTrain : 90.92%(90.92%),\tTest : 91.40%(91.40%),\tCurrent Time: 20250721-115347\n"
     ]
    },
    {
     "name": "stderr",
     "output_type": "stream",
     "text": [
      "Epoch 6/100: 100%|\u001b[34m██████████████████\u001b[0m| 3000/3000 [00:39<00:00, 75.59batch/s, loss=0.306228]\u001b[0m\n"
     ]
    },
    {
     "name": "stdout",
     "output_type": "stream",
     "text": [
      "\t Loss: 918.480,\tTrain : 91.29%(91.29%),\tTest : 91.56%(91.56%),\tCurrent Time: 20250721-115427\n"
     ]
    },
    {
     "name": "stderr",
     "output_type": "stream",
     "text": [
      "Epoch 7/100: 100%|\u001b[34m██████████████████\u001b[0m| 3000/3000 [00:40<00:00, 74.58batch/s, loss=0.297377]\u001b[0m\n"
     ]
    },
    {
     "name": "stdout",
     "output_type": "stream",
     "text": [
      "\t Loss: 892.096,\tTrain : 91.51%(91.51%),\tTest : 91.63%(91.63%),\tCurrent Time: 20250721-115508\n"
     ]
    },
    {
     "name": "stderr",
     "output_type": "stream",
     "text": [
      "Epoch 8/100: 100%|\u001b[34m██████████████████\u001b[0m| 3000/3000 [00:40<00:00, 74.57batch/s, loss=0.289290]\u001b[0m\n"
     ]
    },
    {
     "name": "stdout",
     "output_type": "stream",
     "text": [
      "\t Loss: 867.731,\tTrain : 91.74%(91.74%),\tTest : 91.95%(91.95%),\tCurrent Time: 20250721-115549\n"
     ]
    },
    {
     "name": "stderr",
     "output_type": "stream",
     "text": [
      "Epoch 9/100: 100%|\u001b[34m██████████████████\u001b[0m| 3000/3000 [00:40<00:00, 74.85batch/s, loss=0.281594]\u001b[0m\n"
     ]
    },
    {
     "name": "stdout",
     "output_type": "stream",
     "text": [
      "\t Loss: 845.243,\tTrain : 92.06%(92.06%),\tTest : 92.14%(92.14%),\tCurrent Time: 20250721-115630\n"
     ]
    },
    {
     "name": "stderr",
     "output_type": "stream",
     "text": [
      "Epoch 10/100: 100%|\u001b[34m█████████████████\u001b[0m| 3000/3000 [00:39<00:00, 75.43batch/s, loss=0.274803]\u001b[0m\n"
     ]
    },
    {
     "name": "stdout",
     "output_type": "stream",
     "text": [
      "\t Loss: 824.210,\tTrain : 92.27%(92.27%),\tTest : 92.23%(92.23%),\tCurrent Time: 20250721-115710\n"
     ]
    },
    {
     "name": "stderr",
     "output_type": "stream",
     "text": [
      "Epoch 11/100: 100%|\u001b[34m█████████████████\u001b[0m| 3000/3000 [00:38<00:00, 77.94batch/s, loss=0.267511]\u001b[0m\n"
     ]
    },
    {
     "name": "stdout",
     "output_type": "stream",
     "text": [
      "\t Loss: 802.303,\tTrain : 92.43%(92.43%),\tTest : 92.57%(92.57%),\tCurrent Time: 20250721-115749\n"
     ]
    },
    {
     "name": "stderr",
     "output_type": "stream",
     "text": [
      "Epoch 12/100: 100%|\u001b[34m█████████████████\u001b[0m| 3000/3000 [00:36<00:00, 81.75batch/s, loss=0.260434]\u001b[0m\n"
     ]
    },
    {
     "name": "stdout",
     "output_type": "stream",
     "text": [
      "\t Loss: 780.912,\tTrain : 92.64%(92.64%),\tTest : 92.62%(92.62%),\tCurrent Time: 20250721-115826\n"
     ]
    },
    {
     "name": "stderr",
     "output_type": "stream",
     "text": [
      "Epoch 13/100: 100%|\u001b[34m█████████████████\u001b[0m| 3000/3000 [00:38<00:00, 77.96batch/s, loss=0.253451]\u001b[0m\n"
     ]
    },
    {
     "name": "stdout",
     "output_type": "stream",
     "text": [
      "\t Loss: 760.282,\tTrain : 92.81%(92.81%),\tTest : 92.80%(92.80%),\tCurrent Time: 20250721-115905\n"
     ]
    },
    {
     "name": "stderr",
     "output_type": "stream",
     "text": [
      "Epoch 14/100: 100%|\u001b[34m█████████████████\u001b[0m| 3000/3000 [00:39<00:00, 75.11batch/s, loss=0.246018]\u001b[0m\n"
     ]
    },
    {
     "name": "stdout",
     "output_type": "stream",
     "text": [
      "\t Loss: 738.246,\tTrain : 93.04%(93.04%),\tTest : 92.98%(92.98%),\tCurrent Time: 20250721-115946\n"
     ]
    },
    {
     "name": "stderr",
     "output_type": "stream",
     "text": [
      "Epoch 15/100: 100%|\u001b[34m█████████████████\u001b[0m| 3000/3000 [00:39<00:00, 75.57batch/s, loss=0.239214]\u001b[0m\n"
     ]
    },
    {
     "name": "stdout",
     "output_type": "stream",
     "text": [
      "\t Loss: 717.188,\tTrain : 93.25%(93.25%),\tTest : 93.22%(93.22%),\tCurrent Time: 20250721-120026\n"
     ]
    },
    {
     "name": "stderr",
     "output_type": "stream",
     "text": [
      "Epoch 16/100: 100%|\u001b[34m█████████████████\u001b[0m| 3000/3000 [00:40<00:00, 74.71batch/s, loss=0.231712]\u001b[0m\n"
     ]
    },
    {
     "name": "stdout",
     "output_type": "stream",
     "text": [
      "\t Loss: 695.129,\tTrain : 93.45%(93.45%),\tTest : 93.30%(93.30%),\tCurrent Time: 20250721-120107\n"
     ]
    },
    {
     "name": "stderr",
     "output_type": "stream",
     "text": [
      "Epoch 17/100: 100%|\u001b[34m█████████████████\u001b[0m| 3000/3000 [00:39<00:00, 76.41batch/s, loss=0.224384]\u001b[0m\n"
     ]
    },
    {
     "name": "stdout",
     "output_type": "stream",
     "text": [
      "\t Loss: 673.426,\tTrain : 93.64%(93.64%),\tTest : 93.43%(93.43%),\tCurrent Time: 20250721-120147\n"
     ]
    },
    {
     "name": "stderr",
     "output_type": "stream",
     "text": [
      "Epoch 18/100: 100%|\u001b[34m█████████████████\u001b[0m| 3000/3000 [00:39<00:00, 76.12batch/s, loss=0.217444]\u001b[0m\n"
     ]
    },
    {
     "name": "stdout",
     "output_type": "stream",
     "text": [
      "\t Loss: 652.462,\tTrain : 93.80%(93.80%),\tTest : 93.73%(93.73%),\tCurrent Time: 20250721-120227\n"
     ]
    },
    {
     "name": "stderr",
     "output_type": "stream",
     "text": [
      "Epoch 19/100: 100%|\u001b[34m█████████████████\u001b[0m| 3000/3000 [00:40<00:00, 74.62batch/s, loss=0.210577]\u001b[0m\n"
     ]
    },
    {
     "name": "stdout",
     "output_type": "stream",
     "text": [
      "\t Loss: 631.511,\tTrain : 94.00%(94.00%),\tTest : 93.89%(93.89%),\tCurrent Time: 20250721-120308\n"
     ]
    },
    {
     "name": "stderr",
     "output_type": "stream",
     "text": [
      "Epoch 20/100: 100%|\u001b[34m█████████████████\u001b[0m| 3000/3000 [00:39<00:00, 76.20batch/s, loss=0.204384]\u001b[0m\n"
     ]
    },
    {
     "name": "stdout",
     "output_type": "stream",
     "text": [
      "\t Loss: 612.536,\tTrain : 94.25%(94.25%),\tTest : 94.05%(94.05%),\tCurrent Time: 20250721-120348\n"
     ]
    },
    {
     "name": "stderr",
     "output_type": "stream",
     "text": [
      "Epoch 21/100: 100%|\u001b[34m█████████████████\u001b[0m| 3000/3000 [00:40<00:00, 74.47batch/s, loss=0.197502]\u001b[0m\n"
     ]
    },
    {
     "name": "stdout",
     "output_type": "stream",
     "text": [
      "\t Loss: 592.611,\tTrain : 94.36%(94.36%),\tTest : 94.22%(94.22%),\tCurrent Time: 20250721-120429\n"
     ]
    },
    {
     "name": "stderr",
     "output_type": "stream",
     "text": [
      "Epoch 22/100: 100%|\u001b[34m█████████████████\u001b[0m| 3000/3000 [00:39<00:00, 76.71batch/s, loss=0.191167]\u001b[0m\n"
     ]
    },
    {
     "name": "stdout",
     "output_type": "stream",
     "text": [
      "\t Loss: 573.419,\tTrain : 94.58%(94.58%),\tTest : 94.21%(94.22%),\tCurrent Time: 20250721-120508\n"
     ]
    },
    {
     "name": "stderr",
     "output_type": "stream",
     "text": [
      "Epoch 23/100: 100%|\u001b[34m█████████████████\u001b[0m| 3000/3000 [00:40<00:00, 73.53batch/s, loss=0.185309]\u001b[0m\n"
     ]
    },
    {
     "name": "stdout",
     "output_type": "stream",
     "text": [
      "\t Loss: 555.906,\tTrain : 94.74%(94.74%),\tTest : 94.54%(94.54%),\tCurrent Time: 20250721-120550\n"
     ]
    },
    {
     "name": "stderr",
     "output_type": "stream",
     "text": [
      "Epoch 24/100: 100%|\u001b[34m█████████████████\u001b[0m| 3000/3000 [00:35<00:00, 83.41batch/s, loss=0.179792]\u001b[0m\n"
     ]
    },
    {
     "name": "stdout",
     "output_type": "stream",
     "text": [
      "\t Loss: 539.220,\tTrain : 94.92%(94.92%),\tTest : 94.63%(94.63%),\tCurrent Time: 20250721-120626\n"
     ]
    },
    {
     "name": "stderr",
     "output_type": "stream",
     "text": [
      "Epoch 25/100: 100%|\u001b[34m█████████████████\u001b[0m| 3000/3000 [00:35<00:00, 84.51batch/s, loss=0.174491]\u001b[0m\n"
     ]
    },
    {
     "name": "stdout",
     "output_type": "stream",
     "text": [
      "\t Loss: 523.319,\tTrain : 95.05%(95.05%),\tTest : 94.71%(94.71%),\tCurrent Time: 20250721-120702\n"
     ]
    },
    {
     "name": "stderr",
     "output_type": "stream",
     "text": [
      "Epoch 26/100: 100%|\u001b[34m█████████████████\u001b[0m| 3000/3000 [00:35<00:00, 84.14batch/s, loss=0.169160]\u001b[0m\n"
     ]
    },
    {
     "name": "stdout",
     "output_type": "stream",
     "text": [
      "\t Loss: 507.662,\tTrain : 95.23%(95.23%),\tTest : 94.85%(94.85%),\tCurrent Time: 20250721-120739\n"
     ]
    },
    {
     "name": "stderr",
     "output_type": "stream",
     "text": [
      "Epoch 27/100: 100%|\u001b[34m█████████████████\u001b[0m| 3000/3000 [00:35<00:00, 84.18batch/s, loss=0.164536]\u001b[0m\n"
     ]
    },
    {
     "name": "stdout",
     "output_type": "stream",
     "text": [
      "\t Loss: 493.409,\tTrain : 95.34%(95.34%),\tTest : 94.93%(94.93%),\tCurrent Time: 20250721-120815\n"
     ]
    },
    {
     "name": "stderr",
     "output_type": "stream",
     "text": [
      "Epoch 28/100: 100%|\u001b[34m█████████████████\u001b[0m| 3000/3000 [00:35<00:00, 85.42batch/s, loss=0.159844]\u001b[0m\n"
     ]
    },
    {
     "name": "stdout",
     "output_type": "stream",
     "text": [
      "\t Loss: 478.946,\tTrain : 95.50%(95.50%),\tTest : 94.95%(94.95%),\tCurrent Time: 20250721-120851\n"
     ]
    },
    {
     "name": "stderr",
     "output_type": "stream",
     "text": [
      "Epoch 29/100: 100%|\u001b[34m█████████████████\u001b[0m| 3000/3000 [00:35<00:00, 84.56batch/s, loss=0.155605]\u001b[0m\n"
     ]
    },
    {
     "name": "stdout",
     "output_type": "stream",
     "text": [
      "\t Loss: 465.978,\tTrain : 95.64%(95.64%),\tTest : 95.27%(95.27%),\tCurrent Time: 20250721-120927\n"
     ]
    },
    {
     "name": "stderr",
     "output_type": "stream",
     "text": [
      "Epoch 30/100: 100%|\u001b[34m█████████████████\u001b[0m| 3000/3000 [00:35<00:00, 83.75batch/s, loss=0.151232]\u001b[0m\n"
     ]
    },
    {
     "name": "stdout",
     "output_type": "stream",
     "text": [
      "\t Loss: 453.358,\tTrain : 95.72%(95.72%),\tTest : 95.14%(95.27%),\tCurrent Time: 20250721-121003\n"
     ]
    },
    {
     "name": "stderr",
     "output_type": "stream",
     "text": [
      "Epoch 31/100: 100%|\u001b[34m█████████████████\u001b[0m| 3000/3000 [00:35<00:00, 84.98batch/s, loss=0.147189]\u001b[0m\n"
     ]
    },
    {
     "name": "stdout",
     "output_type": "stream",
     "text": [
      "\t Loss: 441.462,\tTrain : 95.89%(95.89%),\tTest : 95.48%(95.48%),\tCurrent Time: 20250721-121039\n"
     ]
    },
    {
     "name": "stderr",
     "output_type": "stream",
     "text": [
      "Epoch 32/100: 100%|\u001b[34m█████████████████\u001b[0m| 3000/3000 [00:35<00:00, 83.52batch/s, loss=0.143336]\u001b[0m\n"
     ]
    },
    {
     "name": "stdout",
     "output_type": "stream",
     "text": [
      "\t Loss: 429.891,\tTrain : 95.98%(95.98%),\tTest : 95.52%(95.52%),\tCurrent Time: 20250721-121115\n"
     ]
    },
    {
     "name": "stderr",
     "output_type": "stream",
     "text": [
      "Epoch 33/100: 100%|\u001b[34m█████████████████\u001b[0m| 3000/3000 [00:35<00:00, 84.78batch/s, loss=0.139628]\u001b[0m\n"
     ]
    },
    {
     "name": "stdout",
     "output_type": "stream",
     "text": [
      "\t Loss: 419.013,\tTrain : 96.03%(96.03%),\tTest : 95.56%(95.56%),\tCurrent Time: 20250721-121151\n"
     ]
    },
    {
     "name": "stderr",
     "output_type": "stream",
     "text": [
      "Epoch 34/100: 100%|\u001b[34m█████████████████\u001b[0m| 3000/3000 [00:34<00:00, 86.92batch/s, loss=0.136084]\u001b[0m\n"
     ]
    },
    {
     "name": "stdout",
     "output_type": "stream",
     "text": [
      "\t Loss: 408.017,\tTrain : 96.13%(96.13%),\tTest : 95.64%(95.64%),\tCurrent Time: 20250721-121226\n"
     ]
    },
    {
     "name": "stderr",
     "output_type": "stream",
     "text": [
      "Epoch 35/100: 100%|\u001b[34m█████████████████\u001b[0m| 3000/3000 [00:34<00:00, 85.79batch/s, loss=0.132773]\u001b[0m\n"
     ]
    },
    {
     "name": "stdout",
     "output_type": "stream",
     "text": [
      "\t Loss: 398.058,\tTrain : 96.25%(96.25%),\tTest : 95.82%(95.82%),\tCurrent Time: 20250721-121302\n"
     ]
    },
    {
     "name": "stderr",
     "output_type": "stream",
     "text": [
      "Epoch 36/100: 100%|\u001b[34m█████████████████\u001b[0m| 3000/3000 [00:34<00:00, 87.45batch/s, loss=0.129523]\u001b[0m\n"
     ]
    },
    {
     "name": "stdout",
     "output_type": "stream",
     "text": [
      "\t Loss: 388.735,\tTrain : 96.36%(96.36%),\tTest : 95.89%(95.89%),\tCurrent Time: 20250721-121337\n"
     ]
    },
    {
     "name": "stderr",
     "output_type": "stream",
     "text": [
      "Epoch 37/100: 100%|\u001b[34m█████████████████\u001b[0m| 3000/3000 [00:34<00:00, 86.33batch/s, loss=0.126547]\u001b[0m\n"
     ]
    },
    {
     "name": "stdout",
     "output_type": "stream",
     "text": [
      "\t Loss: 379.167,\tTrain : 96.42%(96.42%),\tTest : 95.94%(95.94%),\tCurrent Time: 20250721-121412\n"
     ]
    },
    {
     "name": "stderr",
     "output_type": "stream",
     "text": [
      "Epoch 38/100: 100%|\u001b[34m█████████████████\u001b[0m| 3000/3000 [00:40<00:00, 73.56batch/s, loss=0.123709]\u001b[0m\n"
     ]
    },
    {
     "name": "stdout",
     "output_type": "stream",
     "text": [
      "\t Loss: 370.587,\tTrain : 96.47%(96.47%),\tTest : 95.96%(95.96%),\tCurrent Time: 20250721-121454\n"
     ]
    },
    {
     "name": "stderr",
     "output_type": "stream",
     "text": [
      "Epoch 39/100: 100%|\u001b[34m█████████████████\u001b[0m| 3000/3000 [00:39<00:00, 75.32batch/s, loss=0.120481]\u001b[0m\n"
     ]
    },
    {
     "name": "stdout",
     "output_type": "stream",
     "text": [
      "\t Loss: 361.769,\tTrain : 96.59%(96.59%),\tTest : 95.99%(95.99%),\tCurrent Time: 20250721-121534\n"
     ]
    },
    {
     "name": "stderr",
     "output_type": "stream",
     "text": [
      "Epoch 40/100: 100%|\u001b[34m█████████████████\u001b[0m| 3000/3000 [00:39<00:00, 76.01batch/s, loss=0.118025]\u001b[0m\n"
     ]
    },
    {
     "name": "stdout",
     "output_type": "stream",
     "text": [
      "\t Loss: 353.932,\tTrain : 96.69%(96.69%),\tTest : 96.09%(96.09%),\tCurrent Time: 20250721-121614\n"
     ]
    },
    {
     "name": "stderr",
     "output_type": "stream",
     "text": [
      "Epoch 41/100: 100%|\u001b[34m█████████████████\u001b[0m| 3000/3000 [00:37<00:00, 79.13batch/s, loss=0.114960]\u001b[0m\n"
     ]
    },
    {
     "name": "stdout",
     "output_type": "stream",
     "text": [
      "\t Loss: 345.328,\tTrain : 96.71%(96.71%),\tTest : 96.19%(96.19%),\tCurrent Time: 20250721-121652\n"
     ]
    },
    {
     "name": "stderr",
     "output_type": "stream",
     "text": [
      "Epoch 42/100: 100%|\u001b[34m█████████████████\u001b[0m| 3000/3000 [00:37<00:00, 80.94batch/s, loss=0.113037]\u001b[0m\n"
     ]
    },
    {
     "name": "stdout",
     "output_type": "stream",
     "text": [
      "\t Loss: 338.460,\tTrain : 96.79%(96.79%),\tTest : 96.20%(96.20%),\tCurrent Time: 20250721-121730\n"
     ]
    },
    {
     "name": "stderr",
     "output_type": "stream",
     "text": [
      "Epoch 43/100: 100%|\u001b[34m█████████████████\u001b[0m| 3000/3000 [00:38<00:00, 78.36batch/s, loss=0.110225]\u001b[0m\n"
     ]
    },
    {
     "name": "stdout",
     "output_type": "stream",
     "text": [
      "\t Loss: 330.385,\tTrain : 96.84%(96.84%),\tTest : 96.29%(96.29%),\tCurrent Time: 20250721-121809\n"
     ]
    },
    {
     "name": "stderr",
     "output_type": "stream",
     "text": [
      "Epoch 44/100: 100%|\u001b[34m█████████████████\u001b[0m| 3000/3000 [00:40<00:00, 74.51batch/s, loss=0.107867]\u001b[0m\n"
     ]
    },
    {
     "name": "stdout",
     "output_type": "stream",
     "text": [
      "\t Loss: 323.627,\tTrain : 96.92%(96.92%),\tTest : 96.32%(96.32%),\tCurrent Time: 20250721-121850\n"
     ]
    },
    {
     "name": "stderr",
     "output_type": "stream",
     "text": [
      "Epoch 45/100: 100%|\u001b[34m█████████████████\u001b[0m| 3000/3000 [00:38<00:00, 76.96batch/s, loss=0.105525]\u001b[0m\n"
     ]
    },
    {
     "name": "stdout",
     "output_type": "stream",
     "text": [
      "\t Loss: 316.905,\tTrain : 97.03%(97.03%),\tTest : 96.33%(96.33%),\tCurrent Time: 20250721-121930\n"
     ]
    },
    {
     "name": "stderr",
     "output_type": "stream",
     "text": [
      "Epoch 46/100: 100%|\u001b[34m█████████████████\u001b[0m| 3000/3000 [00:40<00:00, 73.93batch/s, loss=0.103520]\u001b[0m\n"
     ]
    },
    {
     "name": "stdout",
     "output_type": "stream",
     "text": [
      "\t Loss: 310.493,\tTrain : 97.06%(97.06%),\tTest : 96.47%(96.47%),\tCurrent Time: 20250721-122011\n"
     ]
    },
    {
     "name": "stderr",
     "output_type": "stream",
     "text": [
      "Epoch 47/100: 100%|\u001b[34m█████████████████\u001b[0m| 3000/3000 [00:39<00:00, 75.09batch/s, loss=0.101519]\u001b[0m\n"
     ]
    },
    {
     "name": "stdout",
     "output_type": "stream",
     "text": [
      "\t Loss: 304.790,\tTrain : 97.13%(97.13%),\tTest : 96.45%(96.47%),\tCurrent Time: 20250721-122051\n"
     ]
    },
    {
     "name": "stderr",
     "output_type": "stream",
     "text": [
      "Epoch 48/100: 100%|\u001b[34m█████████████████\u001b[0m| 3000/3000 [00:38<00:00, 78.10batch/s, loss=0.099376]\u001b[0m\n"
     ]
    },
    {
     "name": "stdout",
     "output_type": "stream",
     "text": [
      "\t Loss: 298.078,\tTrain : 97.18%(97.18%),\tTest : 96.55%(96.55%),\tCurrent Time: 20250721-122130\n"
     ]
    },
    {
     "name": "stderr",
     "output_type": "stream",
     "text": [
      "Epoch 49/100: 100%|\u001b[34m█████████████████\u001b[0m| 3000/3000 [00:37<00:00, 79.44batch/s, loss=0.097378]\u001b[0m\n"
     ]
    },
    {
     "name": "stdout",
     "output_type": "stream",
     "text": [
      "\t Loss: 292.318,\tTrain : 97.24%(97.24%),\tTest : 96.55%(96.55%),\tCurrent Time: 20250721-122209\n"
     ]
    },
    {
     "name": "stderr",
     "output_type": "stream",
     "text": [
      "Epoch 50/100: 100%|\u001b[34m█████████████████\u001b[0m| 3000/3000 [00:38<00:00, 77.61batch/s, loss=0.095544]\u001b[0m\n"
     ]
    },
    {
     "name": "stdout",
     "output_type": "stream",
     "text": [
      "\t Loss: 286.429,\tTrain : 97.27%(97.27%),\tTest : 96.68%(96.68%),\tCurrent Time: 20250721-122248\n"
     ]
    },
    {
     "name": "stderr",
     "output_type": "stream",
     "text": [
      "Epoch 51/100: 100%|\u001b[34m█████████████████\u001b[0m| 3000/3000 [00:39<00:00, 75.18batch/s, loss=0.093935]\u001b[0m\n"
     ]
    },
    {
     "name": "stdout",
     "output_type": "stream",
     "text": [
      "\t Loss: 281.369,\tTrain : 97.33%(97.33%),\tTest : 96.55%(96.68%),\tCurrent Time: 20250721-122328\n"
     ]
    },
    {
     "name": "stderr",
     "output_type": "stream",
     "text": [
      "Epoch 52/100: 100%|\u001b[34m█████████████████\u001b[0m| 3000/3000 [00:39<00:00, 76.47batch/s, loss=0.092081]\u001b[0m\n"
     ]
    },
    {
     "name": "stdout",
     "output_type": "stream",
     "text": [
      "\t Loss: 276.073,\tTrain : 97.42%(97.42%),\tTest : 96.62%(96.68%),\tCurrent Time: 20250721-122408\n"
     ]
    },
    {
     "name": "stderr",
     "output_type": "stream",
     "text": [
      "Epoch 53/100: 100%|\u001b[34m█████████████████\u001b[0m| 3000/3000 [00:38<00:00, 77.96batch/s, loss=0.090377]\u001b[0m\n"
     ]
    },
    {
     "name": "stdout",
     "output_type": "stream",
     "text": [
      "\t Loss: 270.876,\tTrain : 97.44%(97.44%),\tTest : 96.73%(96.73%),\tCurrent Time: 20250721-122447\n"
     ]
    },
    {
     "name": "stderr",
     "output_type": "stream",
     "text": [
      "Epoch 54/100: 100%|\u001b[34m█████████████████\u001b[0m| 3000/3000 [00:35<00:00, 84.84batch/s, loss=0.088579]\u001b[0m\n"
     ]
    },
    {
     "name": "stdout",
     "output_type": "stream",
     "text": [
      "\t Loss: 265.423,\tTrain : 97.50%(97.50%),\tTest : 96.74%(96.74%),\tCurrent Time: 20250721-122523\n"
     ]
    },
    {
     "name": "stderr",
     "output_type": "stream",
     "text": [
      "Epoch 55/100: 100%|\u001b[34m█████████████████\u001b[0m| 3000/3000 [00:35<00:00, 84.65batch/s, loss=0.086987]\u001b[0m\n"
     ]
    },
    {
     "name": "stdout",
     "output_type": "stream",
     "text": [
      "\t Loss: 260.960,\tTrain : 97.54%(97.54%),\tTest : 96.80%(96.80%),\tCurrent Time: 20250721-122559\n"
     ]
    },
    {
     "name": "stderr",
     "output_type": "stream",
     "text": [
      "Epoch 56/100: 100%|\u001b[34m█████████████████\u001b[0m| 3000/3000 [00:35<00:00, 84.09batch/s, loss=0.085333]\u001b[0m\n"
     ]
    },
    {
     "name": "stdout",
     "output_type": "stream",
     "text": [
      "\t Loss: 256.125,\tTrain : 97.59%(97.59%),\tTest : 96.82%(96.82%),\tCurrent Time: 20250721-122636\n"
     ]
    },
    {
     "name": "stderr",
     "output_type": "stream",
     "text": [
      "Epoch 57/100: 100%|\u001b[34m█████████████████\u001b[0m| 3000/3000 [00:35<00:00, 85.05batch/s, loss=0.083904]\u001b[0m\n"
     ]
    },
    {
     "name": "stdout",
     "output_type": "stream",
     "text": [
      "\t Loss: 251.816,\tTrain : 97.61%(97.61%),\tTest : 96.83%(96.83%),\tCurrent Time: 20250721-122711\n"
     ]
    },
    {
     "name": "stderr",
     "output_type": "stream",
     "text": [
      "Epoch 58/100: 100%|\u001b[34m█████████████████\u001b[0m| 3000/3000 [00:38<00:00, 77.45batch/s, loss=0.082243]\u001b[0m\n"
     ]
    },
    {
     "name": "stdout",
     "output_type": "stream",
     "text": [
      "\t Loss: 247.123,\tTrain : 97.72%(97.72%),\tTest : 96.98%(96.98%),\tCurrent Time: 20250721-122751\n"
     ]
    },
    {
     "name": "stderr",
     "output_type": "stream",
     "text": [
      "Epoch 59/100: 100%|\u001b[34m█████████████████\u001b[0m| 3000/3000 [00:37<00:00, 80.99batch/s, loss=0.081039]\u001b[0m\n"
     ]
    },
    {
     "name": "stdout",
     "output_type": "stream",
     "text": [
      "\t Loss: 242.922,\tTrain : 97.73%(97.73%),\tTest : 96.92%(96.98%),\tCurrent Time: 20250721-122828\n"
     ]
    },
    {
     "name": "stderr",
     "output_type": "stream",
     "text": [
      "Epoch 60/100: 100%|\u001b[34m█████████████████\u001b[0m| 3000/3000 [00:35<00:00, 83.81batch/s, loss=0.079500]\u001b[0m\n"
     ]
    },
    {
     "name": "stdout",
     "output_type": "stream",
     "text": [
      "\t Loss: 238.848,\tTrain : 97.78%(97.78%),\tTest : 96.92%(96.98%),\tCurrent Time: 20250721-122905\n"
     ]
    },
    {
     "name": "stderr",
     "output_type": "stream",
     "text": [
      "Epoch 61/100: 100%|\u001b[34m█████████████████\u001b[0m| 3000/3000 [00:36<00:00, 81.67batch/s, loss=0.078368]\u001b[0m\n"
     ]
    },
    {
     "name": "stdout",
     "output_type": "stream",
     "text": [
      "\t Loss: 234.837,\tTrain : 97.81%(97.81%),\tTest : 97.01%(97.01%),\tCurrent Time: 20250721-122942\n"
     ]
    },
    {
     "name": "stderr",
     "output_type": "stream",
     "text": [
      "Epoch 62/100: 100%|\u001b[34m█████████████████\u001b[0m| 3000/3000 [00:39<00:00, 75.28batch/s, loss=0.076870]\u001b[0m\n"
     ]
    },
    {
     "name": "stdout",
     "output_type": "stream",
     "text": [
      "\t Loss: 230.471,\tTrain : 97.86%(97.86%),\tTest : 97.03%(97.03%),\tCurrent Time: 20250721-123023\n"
     ]
    },
    {
     "name": "stderr",
     "output_type": "stream",
     "text": [
      "Epoch 63/100: 100%|\u001b[34m█████████████████\u001b[0m| 3000/3000 [00:38<00:00, 77.01batch/s, loss=0.075610]\u001b[0m\n"
     ]
    },
    {
     "name": "stdout",
     "output_type": "stream",
     "text": [
      "\t Loss: 226.836,\tTrain : 97.91%(97.91%),\tTest : 97.00%(97.03%),\tCurrent Time: 20250721-123102\n"
     ]
    },
    {
     "name": "stderr",
     "output_type": "stream",
     "text": [
      "Epoch 64/100: 100%|\u001b[34m█████████████████\u001b[0m| 3000/3000 [00:36<00:00, 82.70batch/s, loss=0.074345]\u001b[0m\n"
     ]
    },
    {
     "name": "stdout",
     "output_type": "stream",
     "text": [
      "\t Loss: 222.982,\tTrain : 97.95%(97.95%),\tTest : 97.05%(97.05%),\tCurrent Time: 20250721-123139\n"
     ]
    },
    {
     "name": "stderr",
     "output_type": "stream",
     "text": [
      "Epoch 65/100: 100%|\u001b[34m█████████████████\u001b[0m| 3000/3000 [00:37<00:00, 80.08batch/s, loss=0.073301]\u001b[0m\n"
     ]
    },
    {
     "name": "stdout",
     "output_type": "stream",
     "text": [
      "\t Loss: 219.635,\tTrain : 97.97%(97.97%),\tTest : 97.04%(97.05%),\tCurrent Time: 20250721-123217\n"
     ]
    },
    {
     "name": "stderr",
     "output_type": "stream",
     "text": [
      "Epoch 66/100: 100%|\u001b[34m█████████████████\u001b[0m| 3000/3000 [00:41<00:00, 72.89batch/s, loss=0.072059]\u001b[0m\n"
     ]
    },
    {
     "name": "stdout",
     "output_type": "stream",
     "text": [
      "\t Loss: 216.033,\tTrain : 97.99%(97.99%),\tTest : 97.09%(97.09%),\tCurrent Time: 20250721-123259\n"
     ]
    },
    {
     "name": "stderr",
     "output_type": "stream",
     "text": [
      "Epoch 67/100: 100%|\u001b[34m█████████████████\u001b[0m| 3000/3000 [00:43<00:00, 69.63batch/s, loss=0.070715]\u001b[0m\n"
     ]
    },
    {
     "name": "stdout",
     "output_type": "stream",
     "text": [
      "\t Loss: 212.296,\tTrain : 98.04%(98.04%),\tTest : 97.18%(97.18%),\tCurrent Time: 20250721-123343\n"
     ]
    },
    {
     "name": "stderr",
     "output_type": "stream",
     "text": [
      "Epoch 68/100: 100%|\u001b[34m█████████████████\u001b[0m| 3000/3000 [00:39<00:00, 75.52batch/s, loss=0.069767]\u001b[0m\n"
     ]
    },
    {
     "name": "stdout",
     "output_type": "stream",
     "text": [
      "\t Loss: 209.255,\tTrain : 98.06%(98.06%),\tTest : 97.13%(97.18%),\tCurrent Time: 20250721-123423\n"
     ]
    },
    {
     "name": "stderr",
     "output_type": "stream",
     "text": [
      "Epoch 69/100: 100%|\u001b[34m█████████████████\u001b[0m| 3000/3000 [00:40<00:00, 74.69batch/s, loss=0.068503]\u001b[0m\n"
     ]
    },
    {
     "name": "stdout",
     "output_type": "stream",
     "text": [
      "\t Loss: 205.576,\tTrain : 98.12%(98.12%),\tTest : 97.23%(97.23%),\tCurrent Time: 20250721-123504\n"
     ]
    },
    {
     "name": "stderr",
     "output_type": "stream",
     "text": [
      "Epoch 70/100: 100%|\u001b[34m█████████████████\u001b[0m| 3000/3000 [00:43<00:00, 69.18batch/s, loss=0.067411]\u001b[0m\n"
     ]
    },
    {
     "name": "stdout",
     "output_type": "stream",
     "text": [
      "\t Loss: 202.143,\tTrain : 98.14%(98.14%),\tTest : 97.31%(97.31%),\tCurrent Time: 20250721-123548\n"
     ]
    },
    {
     "name": "stderr",
     "output_type": "stream",
     "text": [
      "Epoch 71/100: 100%|\u001b[34m█████████████████\u001b[0m| 3000/3000 [00:42<00:00, 71.10batch/s, loss=0.066294]\u001b[0m\n"
     ]
    },
    {
     "name": "stdout",
     "output_type": "stream",
     "text": [
      "\t Loss: 199.263,\tTrain : 98.18%(98.18%),\tTest : 97.24%(97.31%),\tCurrent Time: 20250721-123631\n"
     ]
    },
    {
     "name": "stderr",
     "output_type": "stream",
     "text": [
      "Epoch 72/100: 100%|\u001b[34m█████████████████\u001b[0m| 3000/3000 [00:43<00:00, 69.56batch/s, loss=0.065445]\u001b[0m\n"
     ]
    },
    {
     "name": "stdout",
     "output_type": "stream",
     "text": [
      "\t Loss: 196.257,\tTrain : 98.22%(98.22%),\tTest : 97.22%(97.31%),\tCurrent Time: 20250721-123714\n"
     ]
    },
    {
     "name": "stderr",
     "output_type": "stream",
     "text": [
      "Epoch 73/100: 100%|\u001b[34m█████████████████\u001b[0m| 3000/3000 [00:38<00:00, 78.44batch/s, loss=0.064217]\u001b[0m\n"
     ]
    },
    {
     "name": "stdout",
     "output_type": "stream",
     "text": [
      "\t Loss: 193.135,\tTrain : 98.24%(98.24%),\tTest : 97.36%(97.36%),\tCurrent Time: 20250721-123753\n"
     ]
    },
    {
     "name": "stderr",
     "output_type": "stream",
     "text": [
      "Epoch 74/100: 100%|\u001b[34m█████████████████\u001b[0m| 3000/3000 [00:37<00:00, 79.49batch/s, loss=0.063566]\u001b[0m\n"
     ]
    },
    {
     "name": "stdout",
     "output_type": "stream",
     "text": [
      "\t Loss: 190.650,\tTrain : 98.27%(98.27%),\tTest : 97.33%(97.36%),\tCurrent Time: 20250721-123832\n"
     ]
    },
    {
     "name": "stderr",
     "output_type": "stream",
     "text": [
      "Epoch 75/100: 100%|\u001b[34m█████████████████\u001b[0m| 3000/3000 [00:38<00:00, 78.69batch/s, loss=0.062461]\u001b[0m\n"
     ]
    },
    {
     "name": "stdout",
     "output_type": "stream",
     "text": [
      "\t Loss: 187.141,\tTrain : 98.27%(98.27%),\tTest : 97.37%(97.37%),\tCurrent Time: 20250721-123910\n"
     ]
    },
    {
     "name": "stderr",
     "output_type": "stream",
     "text": [
      "Epoch 76/100: 100%|\u001b[34m█████████████████\u001b[0m| 3000/3000 [00:37<00:00, 79.06batch/s, loss=0.061424]\u001b[0m\n"
     ]
    },
    {
     "name": "stdout",
     "output_type": "stream",
     "text": [
      "\t Loss: 184.341,\tTrain : 98.34%(98.34%),\tTest : 97.38%(97.38%),\tCurrent Time: 20250721-123949\n"
     ]
    },
    {
     "name": "stderr",
     "output_type": "stream",
     "text": [
      "Epoch 77/100: 100%|\u001b[34m█████████████████\u001b[0m| 3000/3000 [00:38<00:00, 76.93batch/s, loss=0.060300]\u001b[0m\n"
     ]
    },
    {
     "name": "stdout",
     "output_type": "stream",
     "text": [
      "\t Loss: 181.424,\tTrain : 98.34%(98.34%),\tTest : 97.47%(97.47%),\tCurrent Time: 20250721-124029\n"
     ]
    },
    {
     "name": "stderr",
     "output_type": "stream",
     "text": [
      "Epoch 78/100: 100%|\u001b[34m█████████████████\u001b[0m| 3000/3000 [00:41<00:00, 72.56batch/s, loss=0.059609]\u001b[0m\n"
     ]
    },
    {
     "name": "stdout",
     "output_type": "stream",
     "text": [
      "\t Loss: 178.961,\tTrain : 98.40%(98.40%),\tTest : 97.33%(97.47%),\tCurrent Time: 20250721-124111\n"
     ]
    },
    {
     "name": "stderr",
     "output_type": "stream",
     "text": [
      "Epoch 79/100: 100%|\u001b[34m█████████████████\u001b[0m| 3000/3000 [00:37<00:00, 79.34batch/s, loss=0.058766]\u001b[0m\n"
     ]
    },
    {
     "name": "stdout",
     "output_type": "stream",
     "text": [
      "\t Loss: 176.014,\tTrain : 98.42%(98.42%),\tTest : 97.45%(97.47%),\tCurrent Time: 20250721-124149\n"
     ]
    },
    {
     "name": "stderr",
     "output_type": "stream",
     "text": [
      "Epoch 80/100: 100%|\u001b[34m█████████████████\u001b[0m| 3000/3000 [00:39<00:00, 76.09batch/s, loss=0.057836]\u001b[0m\n"
     ]
    },
    {
     "name": "stdout",
     "output_type": "stream",
     "text": [
      "\t Loss: 173.457,\tTrain : 98.46%(98.46%),\tTest : 97.43%(97.47%),\tCurrent Time: 20250721-124229\n"
     ]
    },
    {
     "name": "stderr",
     "output_type": "stream",
     "text": [
      "Epoch 81/100: 100%|\u001b[34m█████████████████\u001b[0m| 3000/3000 [00:37<00:00, 80.11batch/s, loss=0.056950]\u001b[0m\n"
     ]
    },
    {
     "name": "stdout",
     "output_type": "stream",
     "text": [
      "\t Loss: 170.656,\tTrain : 98.45%(98.46%),\tTest : 97.41%(97.47%),\tCurrent Time: 20250721-124307\n"
     ]
    },
    {
     "name": "stderr",
     "output_type": "stream",
     "text": [
      "Epoch 82/100: 100%|\u001b[34m█████████████████\u001b[0m| 3000/3000 [00:34<00:00, 87.22batch/s, loss=0.056185]\u001b[0m\n"
     ]
    },
    {
     "name": "stdout",
     "output_type": "stream",
     "text": [
      "\t Loss: 168.449,\tTrain : 98.48%(98.48%),\tTest : 97.56%(97.56%),\tCurrent Time: 20250721-124342\n"
     ]
    },
    {
     "name": "stderr",
     "output_type": "stream",
     "text": [
      "Epoch 83/100: 100%|\u001b[34m█████████████████\u001b[0m| 3000/3000 [00:34<00:00, 85.90batch/s, loss=0.055044]\u001b[0m\n"
     ]
    },
    {
     "name": "stdout",
     "output_type": "stream",
     "text": [
      "\t Loss: 165.623,\tTrain : 98.55%(98.55%),\tTest : 97.35%(97.56%),\tCurrent Time: 20250721-124418\n"
     ]
    },
    {
     "name": "stderr",
     "output_type": "stream",
     "text": [
      "Epoch 84/100: 100%|\u001b[34m█████████████████\u001b[0m| 3000/3000 [00:34<00:00, 86.85batch/s, loss=0.054595]\u001b[0m\n"
     ]
    },
    {
     "name": "stdout",
     "output_type": "stream",
     "text": [
      "\t Loss: 164.081,\tTrain : 98.55%(98.55%),\tTest : 97.48%(97.56%),\tCurrent Time: 20250721-124453\n"
     ]
    },
    {
     "name": "stderr",
     "output_type": "stream",
     "text": [
      "Epoch 85/100: 100%|\u001b[34m█████████████████\u001b[0m| 3000/3000 [00:35<00:00, 84.00batch/s, loss=0.053499]\u001b[0m\n"
     ]
    },
    {
     "name": "stdout",
     "output_type": "stream",
     "text": [
      "\t Loss: 160.661,\tTrain : 98.59%(98.59%),\tTest : 97.47%(97.56%),\tCurrent Time: 20250721-124529\n"
     ]
    },
    {
     "name": "stderr",
     "output_type": "stream",
     "text": [
      "Epoch 86/100: 100%|\u001b[34m█████████████████\u001b[0m| 3000/3000 [00:34<00:00, 85.86batch/s, loss=0.053005]\u001b[0m\n"
     ]
    },
    {
     "name": "stdout",
     "output_type": "stream",
     "text": [
      "\t Loss: 158.745,\tTrain : 98.55%(98.59%),\tTest : 97.51%(97.56%),\tCurrent Time: 20250721-124605\n"
     ]
    },
    {
     "name": "stderr",
     "output_type": "stream",
     "text": [
      "Epoch 87/100: 100%|\u001b[34m█████████████████\u001b[0m| 3000/3000 [00:35<00:00, 83.92batch/s, loss=0.052134]\u001b[0m\n"
     ]
    },
    {
     "name": "stdout",
     "output_type": "stream",
     "text": [
      "\t Loss: 156.403,\tTrain : 98.62%(98.62%),\tTest : 97.49%(97.56%),\tCurrent Time: 20250721-124641\n"
     ]
    },
    {
     "name": "stderr",
     "output_type": "stream",
     "text": [
      "Epoch 88/100: 100%|\u001b[34m█████████████████\u001b[0m| 3000/3000 [00:35<00:00, 85.54batch/s, loss=0.051294]\u001b[0m\n"
     ]
    },
    {
     "name": "stdout",
     "output_type": "stream",
     "text": [
      "\t Loss: 154.305,\tTrain : 98.60%(98.62%),\tTest : 97.56%(97.56%),\tCurrent Time: 20250721-124717\n"
     ]
    },
    {
     "name": "stderr",
     "output_type": "stream",
     "text": [
      "Epoch 89/100: 100%|\u001b[34m█████████████████\u001b[0m| 3000/3000 [00:35<00:00, 85.22batch/s, loss=0.050502]\u001b[0m\n"
     ]
    },
    {
     "name": "stdout",
     "output_type": "stream",
     "text": [
      "\t Loss: 151.355,\tTrain : 98.68%(98.68%),\tTest : 97.54%(97.56%),\tCurrent Time: 20250721-124752\n"
     ]
    },
    {
     "name": "stderr",
     "output_type": "stream",
     "text": [
      "Epoch 90/100: 100%|\u001b[34m█████████████████\u001b[0m| 3000/3000 [00:35<00:00, 84.56batch/s, loss=0.050046]\u001b[0m\n"
     ]
    },
    {
     "name": "stdout",
     "output_type": "stream",
     "text": [
      "\t Loss: 150.201,\tTrain : 98.68%(98.68%),\tTest : 97.51%(97.56%),\tCurrent Time: 20250721-124829\n"
     ]
    },
    {
     "name": "stderr",
     "output_type": "stream",
     "text": [
      "Epoch 91/100: 100%|\u001b[34m█████████████████\u001b[0m| 3000/3000 [00:35<00:00, 84.16batch/s, loss=0.049094]\u001b[0m\n"
     ]
    },
    {
     "name": "stdout",
     "output_type": "stream",
     "text": [
      "\t Loss: 147.271,\tTrain : 98.73%(98.73%),\tTest : 97.62%(97.62%),\tCurrent Time: 20250721-124905\n"
     ]
    },
    {
     "name": "stderr",
     "output_type": "stream",
     "text": [
      "Epoch 92/100: 100%|\u001b[34m█████████████████\u001b[0m| 3000/3000 [00:35<00:00, 84.42batch/s, loss=0.048378]\u001b[0m\n"
     ]
    },
    {
     "name": "stdout",
     "output_type": "stream",
     "text": [
      "\t Loss: 145.586,\tTrain : 98.72%(98.73%),\tTest : 97.60%(97.62%),\tCurrent Time: 20250721-124941\n"
     ]
    },
    {
     "name": "stderr",
     "output_type": "stream",
     "text": [
      "Epoch 93/100: 100%|\u001b[34m█████████████████\u001b[0m| 3000/3000 [00:34<00:00, 85.78batch/s, loss=0.047745]\u001b[0m\n"
     ]
    },
    {
     "name": "stdout",
     "output_type": "stream",
     "text": [
      "\t Loss: 143.174,\tTrain : 98.76%(98.76%),\tTest : 97.62%(97.62%),\tCurrent Time: 20250721-125016\n"
     ]
    },
    {
     "name": "stderr",
     "output_type": "stream",
     "text": [
      "Epoch 94/100: 100%|\u001b[34m█████████████████\u001b[0m| 3000/3000 [00:36<00:00, 83.32batch/s, loss=0.047103]\u001b[0m\n"
     ]
    },
    {
     "name": "stdout",
     "output_type": "stream",
     "text": [
      "\t Loss: 141.322,\tTrain : 98.76%(98.76%),\tTest : 97.65%(97.65%),\tCurrent Time: 20250721-125053\n"
     ]
    },
    {
     "name": "stderr",
     "output_type": "stream",
     "text": [
      "Epoch 95/100: 100%|\u001b[34m█████████████████\u001b[0m| 3000/3000 [00:35<00:00, 85.13batch/s, loss=0.046431]\u001b[0m\n"
     ]
    },
    {
     "name": "stdout",
     "output_type": "stream",
     "text": [
      "\t Loss: 139.411,\tTrain : 98.78%(98.78%),\tTest : 97.63%(97.65%),\tCurrent Time: 20250721-125129\n"
     ]
    },
    {
     "name": "stderr",
     "output_type": "stream",
     "text": [
      "Epoch 96/100: 100%|\u001b[34m█████████████████\u001b[0m| 3000/3000 [00:39<00:00, 76.83batch/s, loss=0.045848]\u001b[0m\n"
     ]
    },
    {
     "name": "stdout",
     "output_type": "stream",
     "text": [
      "\t Loss: 137.424,\tTrain : 98.82%(98.82%),\tTest : 97.62%(97.65%),\tCurrent Time: 20250721-125209\n"
     ]
    },
    {
     "name": "stderr",
     "output_type": "stream",
     "text": [
      "Epoch 97/100: 100%|\u001b[34m█████████████████\u001b[0m| 3000/3000 [00:37<00:00, 80.50batch/s, loss=0.045157]\u001b[0m\n"
     ]
    },
    {
     "name": "stdout",
     "output_type": "stream",
     "text": [
      "\t Loss: 135.556,\tTrain : 98.82%(98.82%),\tTest : 97.64%(97.65%),\tCurrent Time: 20250721-125246\n"
     ]
    },
    {
     "name": "stderr",
     "output_type": "stream",
     "text": [
      "Epoch 98/100: 100%|\u001b[34m█████████████████\u001b[0m| 3000/3000 [00:34<00:00, 86.41batch/s, loss=0.044325]\u001b[0m\n"
     ]
    },
    {
     "name": "stdout",
     "output_type": "stream",
     "text": [
      "\t Loss: 133.067,\tTrain : 98.87%(98.87%),\tTest : 97.55%(97.65%),\tCurrent Time: 20250721-125322\n"
     ]
    },
    {
     "name": "stderr",
     "output_type": "stream",
     "text": [
      "Epoch 99/100: 100%|\u001b[34m█████████████████\u001b[0m| 3000/3000 [00:35<00:00, 85.09batch/s, loss=0.043746]\u001b[0m\n"
     ]
    },
    {
     "name": "stdout",
     "output_type": "stream",
     "text": [
      "\t Loss: 131.539,\tTrain : 98.88%(98.88%),\tTest : 97.66%(97.66%),\tCurrent Time: 20250721-125358\n"
     ]
    },
    {
     "name": "stderr",
     "output_type": "stream",
     "text": [
      "Epoch 100/100: 100%|\u001b[34m████████████████\u001b[0m| 3000/3000 [00:34<00:00, 86.91batch/s, loss=0.043315]\u001b[0m\n"
     ]
    },
    {
     "name": "stdout",
     "output_type": "stream",
     "text": [
      "\t Loss: 129.936,\tTrain : 98.91%(98.91%),\tTest : 97.57%(97.66%),\tCurrent Time: 20250721-125433\n",
      "EP_L3_MNIST_First_symm_LN_t2sta2_bs20-EP_b_sc0.01-EP_It2sta18- Time: 20250721-125433, Epochs: 100, Learning Rate: 0.001, Best: 98.91%  97.66%\n",
      "\n",
      "EP_L3_MNIST_First_symm_LN_t2sta2_bs20-EP_b_sc0.01-EP_It2sta18-\n"
     ]
    },
    {
     "name": "stderr",
     "output_type": "stream",
     "text": [
      "Epoch 1/100: 100%|\u001b[34m██████████████████\u001b[0m| 3000/3000 [00:32<00:00, 91.14batch/s, loss=0.639102]\u001b[0m\n"
     ]
    },
    {
     "name": "stdout",
     "output_type": "stream",
     "text": [
      "\t Loss: 1915.239,\tTrain : 83.44%(83.44%),\tTest : 88.89%(88.89%),\tCurrent Time: 20250721-125506\n"
     ]
    },
    {
     "name": "stderr",
     "output_type": "stream",
     "text": [
      "Epoch 2/100: 100%|\u001b[34m██████████████████\u001b[0m| 3000/3000 [00:33<00:00, 90.68batch/s, loss=0.385834]\u001b[0m\n"
     ]
    },
    {
     "name": "stdout",
     "output_type": "stream",
     "text": [
      "\t Loss: 1156.897,\tTrain : 89.00%(89.00%),\tTest : 90.44%(90.44%),\tCurrent Time: 20250721-125540\n"
     ]
    },
    {
     "name": "stderr",
     "output_type": "stream",
     "text": [
      "Epoch 3/100: 100%|\u001b[34m██████████████████\u001b[0m| 3000/3000 [00:33<00:00, 88.62batch/s, loss=0.349430]\u001b[0m\n"
     ]
    },
    {
     "name": "stdout",
     "output_type": "stream",
     "text": [
      "\t Loss: 1048.184,\tTrain : 89.90%(89.90%),\tTest : 90.95%(90.95%),\tCurrent Time: 20250721-125614\n"
     ]
    },
    {
     "name": "stderr",
     "output_type": "stream",
     "text": [
      "Epoch 4/100: 100%|\u001b[34m██████████████████\u001b[0m| 3000/3000 [00:34<00:00, 85.99batch/s, loss=0.330143]\u001b[0m\n"
     ]
    },
    {
     "name": "stdout",
     "output_type": "stream",
     "text": [
      "\t Loss: 990.084,\tTrain : 90.46%(90.46%),\tTest : 91.32%(91.32%),\tCurrent Time: 20250721-125650\n"
     ]
    },
    {
     "name": "stderr",
     "output_type": "stream",
     "text": [
      "Epoch 5/100: 100%|\u001b[34m██████████████████\u001b[0m| 3000/3000 [00:34<00:00, 85.99batch/s, loss=0.316724]\u001b[0m\n"
     ]
    },
    {
     "name": "stdout",
     "output_type": "stream",
     "text": [
      "\t Loss: 950.304,\tTrain : 90.85%(90.85%),\tTest : 91.54%(91.54%),\tCurrent Time: 20250721-125725\n"
     ]
    },
    {
     "name": "stderr",
     "output_type": "stream",
     "text": [
      "Epoch 6/100: 100%|\u001b[34m██████████████████\u001b[0m| 3000/3000 [00:35<00:00, 84.28batch/s, loss=0.306464]\u001b[0m\n"
     ]
    },
    {
     "name": "stdout",
     "output_type": "stream",
     "text": [
      "\t Loss: 919.600,\tTrain : 91.20%(91.20%),\tTest : 91.77%(91.77%),\tCurrent Time: 20250721-125801\n"
     ]
    },
    {
     "name": "stderr",
     "output_type": "stream",
     "text": [
      "Epoch 7/100: 100%|\u001b[34m██████████████████\u001b[0m| 3000/3000 [00:35<00:00, 84.98batch/s, loss=0.297550]\u001b[0m\n"
     ]
    },
    {
     "name": "stdout",
     "output_type": "stream",
     "text": [
      "\t Loss: 892.722,\tTrain : 91.42%(91.42%),\tTest : 91.91%(91.91%),\tCurrent Time: 20250721-125837\n"
     ]
    },
    {
     "name": "stderr",
     "output_type": "stream",
     "text": [
      "Epoch 8/100: 100%|\u001b[34m██████████████████\u001b[0m| 3000/3000 [00:35<00:00, 84.53batch/s, loss=0.290280]\u001b[0m\n"
     ]
    },
    {
     "name": "stdout",
     "output_type": "stream",
     "text": [
      "\t Loss: 870.235,\tTrain : 91.63%(91.63%),\tTest : 91.99%(91.99%),\tCurrent Time: 20250721-125913\n"
     ]
    },
    {
     "name": "stderr",
     "output_type": "stream",
     "text": [
      "Epoch 9/100: 100%|\u001b[34m██████████████████\u001b[0m| 3000/3000 [00:36<00:00, 82.73batch/s, loss=0.283328]\u001b[0m\n"
     ]
    },
    {
     "name": "stdout",
     "output_type": "stream",
     "text": [
      "\t Loss: 849.632,\tTrain : 91.88%(91.88%),\tTest : 92.31%(92.31%),\tCurrent Time: 20250721-125950\n"
     ]
    },
    {
     "name": "stderr",
     "output_type": "stream",
     "text": [
      "Epoch 10/100: 100%|\u001b[34m█████████████████\u001b[0m| 3000/3000 [00:35<00:00, 83.71batch/s, loss=0.276435]\u001b[0m\n"
     ]
    },
    {
     "name": "stdout",
     "output_type": "stream",
     "text": [
      "\t Loss: 828.442,\tTrain : 92.07%(92.07%),\tTest : 92.50%(92.50%),\tCurrent Time: 20250721-130027\n"
     ]
    },
    {
     "name": "stderr",
     "output_type": "stream",
     "text": [
      "Epoch 11/100: 100%|\u001b[34m█████████████████\u001b[0m| 3000/3000 [00:35<00:00, 84.71batch/s, loss=0.269485]\u001b[0m\n"
     ]
    },
    {
     "name": "stdout",
     "output_type": "stream",
     "text": [
      "\t Loss: 808.229,\tTrain : 92.25%(92.25%),\tTest : 92.53%(92.53%),\tCurrent Time: 20250721-130103\n"
     ]
    },
    {
     "name": "stderr",
     "output_type": "stream",
     "text": [
      "Epoch 12/100: 100%|\u001b[34m█████████████████\u001b[0m| 3000/3000 [00:33<00:00, 90.23batch/s, loss=0.263209]\u001b[0m\n"
     ]
    },
    {
     "name": "stdout",
     "output_type": "stream",
     "text": [
      "\t Loss: 789.366,\tTrain : 92.48%(92.48%),\tTest : 92.54%(92.54%),\tCurrent Time: 20250721-130136\n"
     ]
    },
    {
     "name": "stderr",
     "output_type": "stream",
     "text": [
      "Epoch 13/100: 100%|\u001b[34m█████████████████\u001b[0m| 3000/3000 [00:32<00:00, 92.33batch/s, loss=0.256668]\u001b[0m\n"
     ]
    },
    {
     "name": "stdout",
     "output_type": "stream",
     "text": [
      "\t Loss: 769.941,\tTrain : 92.62%(92.62%),\tTest : 92.91%(92.91%),\tCurrent Time: 20250721-130209\n"
     ]
    },
    {
     "name": "stderr",
     "output_type": "stream",
     "text": [
      "Epoch 14/100: 100%|\u001b[34m█████████████████\u001b[0m| 3000/3000 [00:32<00:00, 91.65batch/s, loss=0.250100]\u001b[0m\n"
     ]
    },
    {
     "name": "stdout",
     "output_type": "stream",
     "text": [
      "\t Loss: 749.951,\tTrain : 92.82%(92.82%),\tTest : 93.01%(93.01%),\tCurrent Time: 20250721-130243\n"
     ]
    },
    {
     "name": "stderr",
     "output_type": "stream",
     "text": [
      "Epoch 15/100: 100%|\u001b[34m█████████████████\u001b[0m| 3000/3000 [00:34<00:00, 86.43batch/s, loss=0.243370]\u001b[0m\n"
     ]
    },
    {
     "name": "stdout",
     "output_type": "stream",
     "text": [
      "\t Loss: 730.613,\tTrain : 93.05%(93.05%),\tTest : 93.13%(93.13%),\tCurrent Time: 20250721-130318\n"
     ]
    },
    {
     "name": "stderr",
     "output_type": "stream",
     "text": [
      "Epoch 16/100: 100%|\u001b[34m█████████████████\u001b[0m| 3000/3000 [00:36<00:00, 83.28batch/s, loss=0.236555]\u001b[0m\n"
     ]
    },
    {
     "name": "stdout",
     "output_type": "stream",
     "text": [
      "\t Loss: 709.503,\tTrain : 93.29%(93.29%),\tTest : 93.23%(93.23%),\tCurrent Time: 20250721-130355\n"
     ]
    },
    {
     "name": "stderr",
     "output_type": "stream",
     "text": [
      "Epoch 17/100: 100%|\u001b[34m█████████████████\u001b[0m| 3000/3000 [00:33<00:00, 89.24batch/s, loss=0.229721]\u001b[0m\n"
     ]
    },
    {
     "name": "stdout",
     "output_type": "stream",
     "text": [
      "\t Loss: 689.003,\tTrain : 93.45%(93.45%),\tTest : 93.35%(93.35%),\tCurrent Time: 20250721-130429\n"
     ]
    },
    {
     "name": "stderr",
     "output_type": "stream",
     "text": [
      "Epoch 18/100: 100%|\u001b[34m█████████████████\u001b[0m| 3000/3000 [00:34<00:00, 86.56batch/s, loss=0.222299]\u001b[0m\n"
     ]
    },
    {
     "name": "stdout",
     "output_type": "stream",
     "text": [
      "\t Loss: 668.083,\tTrain : 93.69%(93.69%),\tTest : 93.64%(93.64%),\tCurrent Time: 20250721-130504\n"
     ]
    },
    {
     "name": "stderr",
     "output_type": "stream",
     "text": [
      "Epoch 19/100: 100%|\u001b[34m█████████████████\u001b[0m| 3000/3000 [00:35<00:00, 85.70batch/s, loss=0.215708]\u001b[0m\n"
     ]
    },
    {
     "name": "stdout",
     "output_type": "stream",
     "text": [
      "\t Loss: 647.033,\tTrain : 93.90%(93.90%),\tTest : 93.71%(93.71%),\tCurrent Time: 20250721-130540\n"
     ]
    },
    {
     "name": "stderr",
     "output_type": "stream",
     "text": [
      "Epoch 20/100: 100%|\u001b[34m█████████████████\u001b[0m| 3000/3000 [00:36<00:00, 82.18batch/s, loss=0.208978]\u001b[0m\n"
     ]
    },
    {
     "name": "stdout",
     "output_type": "stream",
     "text": [
      "\t Loss: 626.792,\tTrain : 94.09%(94.09%),\tTest : 93.89%(93.89%),\tCurrent Time: 20250721-130617\n"
     ]
    },
    {
     "name": "stderr",
     "output_type": "stream",
     "text": [
      "Epoch 21/100: 100%|\u001b[34m█████████████████\u001b[0m| 3000/3000 [00:34<00:00, 86.02batch/s, loss=0.202247]\u001b[0m\n"
     ]
    },
    {
     "name": "stdout",
     "output_type": "stream",
     "text": [
      "\t Loss: 606.198,\tTrain : 94.30%(94.30%),\tTest : 94.09%(94.09%),\tCurrent Time: 20250721-130652\n"
     ]
    },
    {
     "name": "stderr",
     "output_type": "stream",
     "text": [
      "Epoch 22/100: 100%|\u001b[34m█████████████████\u001b[0m| 3000/3000 [00:35<00:00, 84.73batch/s, loss=0.195589]\u001b[0m\n"
     ]
    },
    {
     "name": "stdout",
     "output_type": "stream",
     "text": [
      "\t Loss: 587.172,\tTrain : 94.49%(94.49%),\tTest : 94.33%(94.33%),\tCurrent Time: 20250721-130728\n"
     ]
    },
    {
     "name": "stderr",
     "output_type": "stream",
     "text": [
      "Epoch 23/100: 100%|\u001b[34m█████████████████\u001b[0m| 3000/3000 [00:35<00:00, 83.48batch/s, loss=0.189317]\u001b[0m\n"
     ]
    },
    {
     "name": "stdout",
     "output_type": "stream",
     "text": [
      "\t Loss: 568.752,\tTrain : 94.70%(94.70%),\tTest : 94.37%(94.37%),\tCurrent Time: 20250721-130805\n"
     ]
    },
    {
     "name": "stderr",
     "output_type": "stream",
     "text": [
      "Epoch 24/100: 100%|\u001b[34m█████████████████\u001b[0m| 3000/3000 [00:35<00:00, 84.22batch/s, loss=0.183492]\u001b[0m\n"
     ]
    },
    {
     "name": "stdout",
     "output_type": "stream",
     "text": [
      "\t Loss: 550.145,\tTrain : 94.78%(94.78%),\tTest : 94.63%(94.63%),\tCurrent Time: 20250721-130841\n"
     ]
    },
    {
     "name": "stderr",
     "output_type": "stream",
     "text": [
      "Epoch 25/100: 100%|\u001b[34m█████████████████\u001b[0m| 3000/3000 [00:35<00:00, 83.35batch/s, loss=0.177654]\u001b[0m\n"
     ]
    },
    {
     "name": "stdout",
     "output_type": "stream",
     "text": [
      "\t Loss: 532.888,\tTrain : 94.95%(94.95%),\tTest : 94.70%(94.70%),\tCurrent Time: 20250721-130918\n"
     ]
    },
    {
     "name": "stderr",
     "output_type": "stream",
     "text": [
      "Epoch 26/100: 100%|\u001b[34m█████████████████\u001b[0m| 3000/3000 [00:40<00:00, 74.58batch/s, loss=0.172033]\u001b[0m\n"
     ]
    },
    {
     "name": "stdout",
     "output_type": "stream",
     "text": [
      "\t Loss: 515.757,\tTrain : 95.19%(95.19%),\tTest : 94.86%(94.86%),\tCurrent Time: 20250721-130959\n"
     ]
    },
    {
     "name": "stderr",
     "output_type": "stream",
     "text": [
      "Epoch 27/100: 100%|\u001b[34m█████████████████\u001b[0m| 3000/3000 [00:33<00:00, 88.29batch/s, loss=0.167169]\u001b[0m\n"
     ]
    },
    {
     "name": "stdout",
     "output_type": "stream",
     "text": [
      "\t Loss: 501.645,\tTrain : 95.30%(95.30%),\tTest : 94.94%(94.94%),\tCurrent Time: 20250721-131033\n"
     ]
    },
    {
     "name": "stderr",
     "output_type": "stream",
     "text": [
      "Epoch 28/100: 100%|\u001b[34m█████████████████\u001b[0m| 3000/3000 [00:33<00:00, 89.10batch/s, loss=0.161891]\u001b[0m\n"
     ]
    },
    {
     "name": "stdout",
     "output_type": "stream",
     "text": [
      "\t Loss: 485.965,\tTrain : 95.47%(95.47%),\tTest : 95.16%(95.16%),\tCurrent Time: 20250721-131107\n"
     ]
    },
    {
     "name": "stderr",
     "output_type": "stream",
     "text": [
      "Epoch 29/100: 100%|\u001b[34m█████████████████\u001b[0m| 3000/3000 [00:38<00:00, 78.30batch/s, loss=0.157267]\u001b[0m\n"
     ]
    },
    {
     "name": "stdout",
     "output_type": "stream",
     "text": [
      "\t Loss: 471.847,\tTrain : 95.56%(95.56%),\tTest : 95.21%(95.21%),\tCurrent Time: 20250721-131146\n"
     ]
    },
    {
     "name": "stderr",
     "output_type": "stream",
     "text": [
      "Epoch 30/100: 100%|\u001b[34m█████████████████\u001b[0m| 3000/3000 [00:39<00:00, 75.79batch/s, loss=0.152958]\u001b[0m\n"
     ]
    },
    {
     "name": "stdout",
     "output_type": "stream",
     "text": [
      "\t Loss: 459.183,\tTrain : 95.66%(95.66%),\tTest : 95.43%(95.43%),\tCurrent Time: 20250721-131226\n"
     ]
    },
    {
     "name": "stderr",
     "output_type": "stream",
     "text": [
      "Epoch 31/100: 100%|\u001b[34m█████████████████\u001b[0m| 3000/3000 [00:39<00:00, 76.35batch/s, loss=0.148646]\u001b[0m\n"
     ]
    },
    {
     "name": "stdout",
     "output_type": "stream",
     "text": [
      "\t Loss: 446.323,\tTrain : 95.78%(95.78%),\tTest : 95.47%(95.47%),\tCurrent Time: 20250721-131306\n"
     ]
    },
    {
     "name": "stderr",
     "output_type": "stream",
     "text": [
      "Epoch 32/100: 100%|\u001b[34m█████████████████\u001b[0m| 3000/3000 [00:36<00:00, 81.35batch/s, loss=0.144472]\u001b[0m\n"
     ]
    },
    {
     "name": "stdout",
     "output_type": "stream",
     "text": [
      "\t Loss: 433.622,\tTrain : 95.91%(95.91%),\tTest : 95.59%(95.59%),\tCurrent Time: 20250721-131344\n"
     ]
    },
    {
     "name": "stderr",
     "output_type": "stream",
     "text": [
      "Epoch 33/100: 100%|\u001b[34m█████████████████\u001b[0m| 3000/3000 [00:37<00:00, 80.72batch/s, loss=0.140903]\u001b[0m\n"
     ]
    },
    {
     "name": "stdout",
     "output_type": "stream",
     "text": [
      "\t Loss: 422.442,\tTrain : 96.04%(96.04%),\tTest : 95.65%(95.65%),\tCurrent Time: 20250721-131422\n"
     ]
    },
    {
     "name": "stderr",
     "output_type": "stream",
     "text": [
      "Epoch 34/100: 100%|\u001b[34m█████████████████\u001b[0m| 3000/3000 [00:36<00:00, 81.09batch/s, loss=0.137103]\u001b[0m\n"
     ]
    },
    {
     "name": "stdout",
     "output_type": "stream",
     "text": [
      "\t Loss: 411.445,\tTrain : 96.15%(96.15%),\tTest : 95.73%(95.73%),\tCurrent Time: 20250721-131459\n"
     ]
    },
    {
     "name": "stderr",
     "output_type": "stream",
     "text": [
      "Epoch 35/100: 100%|\u001b[34m█████████████████\u001b[0m| 3000/3000 [00:40<00:00, 74.77batch/s, loss=0.133733]\u001b[0m\n"
     ]
    },
    {
     "name": "stdout",
     "output_type": "stream",
     "text": [
      "\t Loss: 400.763,\tTrain : 96.26%(96.26%),\tTest : 95.76%(95.76%),\tCurrent Time: 20250721-131540\n"
     ]
    },
    {
     "name": "stderr",
     "output_type": "stream",
     "text": [
      "Epoch 36/100: 100%|\u001b[34m█████████████████\u001b[0m| 3000/3000 [00:39<00:00, 76.43batch/s, loss=0.130386]\u001b[0m\n"
     ]
    },
    {
     "name": "stdout",
     "output_type": "stream",
     "text": [
      "\t Loss: 390.709,\tTrain : 96.33%(96.33%),\tTest : 95.97%(95.97%),\tCurrent Time: 20250721-131620\n"
     ]
    },
    {
     "name": "stderr",
     "output_type": "stream",
     "text": [
      "Epoch 37/100: 100%|\u001b[34m█████████████████\u001b[0m| 3000/3000 [00:38<00:00, 77.81batch/s, loss=0.126779]\u001b[0m\n"
     ]
    },
    {
     "name": "stdout",
     "output_type": "stream",
     "text": [
      "\t Loss: 380.362,\tTrain : 96.44%(96.44%),\tTest : 96.01%(96.01%),\tCurrent Time: 20250721-131659\n"
     ]
    },
    {
     "name": "stderr",
     "output_type": "stream",
     "text": [
      "Epoch 38/100: 100%|\u001b[34m█████████████████\u001b[0m| 3000/3000 [00:35<00:00, 84.54batch/s, loss=0.124083]\u001b[0m\n"
     ]
    },
    {
     "name": "stdout",
     "output_type": "stream",
     "text": [
      "\t Loss: 372.116,\tTrain : 96.51%(96.51%),\tTest : 96.04%(96.04%),\tCurrent Time: 20250721-131735\n"
     ]
    },
    {
     "name": "stderr",
     "output_type": "stream",
     "text": [
      "Epoch 39/100: 100%|\u001b[34m█████████████████\u001b[0m| 3000/3000 [00:35<00:00, 83.86batch/s, loss=0.121148]\u001b[0m\n"
     ]
    },
    {
     "name": "stdout",
     "output_type": "stream",
     "text": [
      "\t Loss: 363.160,\tTrain : 96.54%(96.54%),\tTest : 96.07%(96.07%),\tCurrent Time: 20250721-131811\n"
     ]
    },
    {
     "name": "stderr",
     "output_type": "stream",
     "text": [
      "Epoch 40/100: 100%|\u001b[34m█████████████████\u001b[0m| 3000/3000 [00:36<00:00, 82.33batch/s, loss=0.118162]\u001b[0m\n"
     ]
    },
    {
     "name": "stdout",
     "output_type": "stream",
     "text": [
      "\t Loss: 354.503,\tTrain : 96.66%(96.66%),\tTest : 96.14%(96.14%),\tCurrent Time: 20250721-131848\n"
     ]
    },
    {
     "name": "stderr",
     "output_type": "stream",
     "text": [
      "Epoch 41/100: 100%|\u001b[34m█████████████████\u001b[0m| 3000/3000 [00:40<00:00, 73.31batch/s, loss=0.115217]\u001b[0m\n"
     ]
    },
    {
     "name": "stdout",
     "output_type": "stream",
     "text": [
      "\t Loss: 346.279,\tTrain : 96.77%(96.77%),\tTest : 96.16%(96.16%),\tCurrent Time: 20250721-131930\n"
     ]
    },
    {
     "name": "stderr",
     "output_type": "stream",
     "text": [
      "Epoch 42/100: 100%|\u001b[34m█████████████████\u001b[0m| 3000/3000 [00:40<00:00, 74.55batch/s, loss=0.112963]\u001b[0m\n"
     ]
    },
    {
     "name": "stdout",
     "output_type": "stream",
     "text": [
      "\t Loss: 338.650,\tTrain : 96.77%(96.77%),\tTest : 96.24%(96.24%),\tCurrent Time: 20250721-132011\n"
     ]
    },
    {
     "name": "stderr",
     "output_type": "stream",
     "text": [
      "Epoch 43/100: 100%|\u001b[34m█████████████████\u001b[0m| 3000/3000 [00:40<00:00, 74.48batch/s, loss=0.110460]\u001b[0m\n"
     ]
    },
    {
     "name": "stdout",
     "output_type": "stream",
     "text": [
      "\t Loss: 331.650,\tTrain : 96.86%(96.86%),\tTest : 96.28%(96.28%),\tCurrent Time: 20250721-132052\n"
     ]
    },
    {
     "name": "stderr",
     "output_type": "stream",
     "text": [
      "Epoch 44/100: 100%|\u001b[34m█████████████████\u001b[0m| 3000/3000 [00:37<00:00, 79.21batch/s, loss=0.108085]\u001b[0m\n"
     ]
    },
    {
     "name": "stdout",
     "output_type": "stream",
     "text": [
      "\t Loss: 324.287,\tTrain : 96.92%(96.92%),\tTest : 96.41%(96.41%),\tCurrent Time: 20250721-132130\n"
     ]
    },
    {
     "name": "stderr",
     "output_type": "stream",
     "text": [
      "Epoch 45/100: 100%|\u001b[34m█████████████████\u001b[0m| 3000/3000 [00:36<00:00, 82.17batch/s, loss=0.105797]\u001b[0m\n"
     ]
    },
    {
     "name": "stdout",
     "output_type": "stream",
     "text": [
      "\t Loss: 317.620,\tTrain : 97.00%(97.00%),\tTest : 96.26%(96.41%),\tCurrent Time: 20250721-132207\n"
     ]
    },
    {
     "name": "stderr",
     "output_type": "stream",
     "text": [
      "Epoch 46/100: 100%|\u001b[34m█████████████████\u001b[0m| 3000/3000 [00:36<00:00, 81.54batch/s, loss=0.103302]\u001b[0m\n"
     ]
    },
    {
     "name": "stdout",
     "output_type": "stream",
     "text": [
      "\t Loss: 309.941,\tTrain : 97.08%(97.08%),\tTest : 96.38%(96.41%),\tCurrent Time: 20250721-132245\n"
     ]
    },
    {
     "name": "stderr",
     "output_type": "stream",
     "text": [
      "Epoch 47/100: 100%|\u001b[34m█████████████████\u001b[0m| 3000/3000 [00:37<00:00, 80.32batch/s, loss=0.101575]\u001b[0m\n"
     ]
    },
    {
     "name": "stdout",
     "output_type": "stream",
     "text": [
      "\t Loss: 304.491,\tTrain : 97.09%(97.09%),\tTest : 96.45%(96.45%),\tCurrent Time: 20250721-132323\n"
     ]
    },
    {
     "name": "stderr",
     "output_type": "stream",
     "text": [
      "Epoch 48/100: 100%|\u001b[34m█████████████████\u001b[0m| 3000/3000 [00:35<00:00, 85.05batch/s, loss=0.099193]\u001b[0m\n"
     ]
    },
    {
     "name": "stdout",
     "output_type": "stream",
     "text": [
      "\t Loss: 297.650,\tTrain : 97.19%(97.19%),\tTest : 96.50%(96.50%),\tCurrent Time: 20250721-132358\n"
     ]
    },
    {
     "name": "stderr",
     "output_type": "stream",
     "text": [
      "Epoch 49/100: 100%|\u001b[34m█████████████████\u001b[0m| 3000/3000 [00:35<00:00, 85.04batch/s, loss=0.097214]\u001b[0m\n"
     ]
    },
    {
     "name": "stdout",
     "output_type": "stream",
     "text": [
      "\t Loss: 291.945,\tTrain : 97.26%(97.26%),\tTest : 96.46%(96.50%),\tCurrent Time: 20250721-132434\n"
     ]
    },
    {
     "name": "stderr",
     "output_type": "stream",
     "text": [
      "Epoch 50/100: 100%|\u001b[34m█████████████████\u001b[0m| 3000/3000 [00:37<00:00, 80.34batch/s, loss=0.095322]\u001b[0m\n"
     ]
    },
    {
     "name": "stdout",
     "output_type": "stream",
     "text": [
      "\t Loss: 285.727,\tTrain : 97.31%(97.31%),\tTest : 96.57%(96.57%),\tCurrent Time: 20250721-132512\n"
     ]
    },
    {
     "name": "stderr",
     "output_type": "stream",
     "text": [
      "Epoch 51/100: 100%|\u001b[34m█████████████████\u001b[0m| 3000/3000 [00:38<00:00, 77.89batch/s, loss=0.093433]\u001b[0m\n"
     ]
    },
    {
     "name": "stdout",
     "output_type": "stream",
     "text": [
      "\t Loss: 280.390,\tTrain : 97.36%(97.36%),\tTest : 96.60%(96.60%),\tCurrent Time: 20250721-132551\n"
     ]
    },
    {
     "name": "stderr",
     "output_type": "stream",
     "text": [
      "Epoch 52/100: 100%|\u001b[34m█████████████████\u001b[0m| 3000/3000 [00:35<00:00, 84.38batch/s, loss=0.091623]\u001b[0m\n"
     ]
    },
    {
     "name": "stdout",
     "output_type": "stream",
     "text": [
      "\t Loss: 275.049,\tTrain : 97.44%(97.44%),\tTest : 96.57%(96.60%),\tCurrent Time: 20250721-132628\n"
     ]
    },
    {
     "name": "stderr",
     "output_type": "stream",
     "text": [
      "Epoch 53/100: 100%|\u001b[34m█████████████████\u001b[0m| 3000/3000 [00:35<00:00, 85.18batch/s, loss=0.089827]\u001b[0m\n"
     ]
    },
    {
     "name": "stdout",
     "output_type": "stream",
     "text": [
      "\t Loss: 269.707,\tTrain : 97.43%(97.44%),\tTest : 96.79%(96.79%),\tCurrent Time: 20250721-132703\n"
     ]
    },
    {
     "name": "stderr",
     "output_type": "stream",
     "text": [
      "Epoch 54/100: 100%|\u001b[34m█████████████████\u001b[0m| 3000/3000 [00:34<00:00, 86.96batch/s, loss=0.088316]\u001b[0m\n"
     ]
    },
    {
     "name": "stdout",
     "output_type": "stream",
     "text": [
      "\t Loss: 264.603,\tTrain : 97.52%(97.52%),\tTest : 96.72%(96.79%),\tCurrent Time: 20250721-132738\n"
     ]
    },
    {
     "name": "stderr",
     "output_type": "stream",
     "text": [
      "Epoch 55/100: 100%|\u001b[34m█████████████████\u001b[0m| 3000/3000 [00:33<00:00, 88.26batch/s, loss=0.086515]\u001b[0m\n"
     ]
    },
    {
     "name": "stdout",
     "output_type": "stream",
     "text": [
      "\t Loss: 259.669,\tTrain : 97.56%(97.56%),\tTest : 96.78%(96.79%),\tCurrent Time: 20250721-132813\n"
     ]
    },
    {
     "name": "stderr",
     "output_type": "stream",
     "text": [
      "Epoch 56/100: 100%|\u001b[34m█████████████████\u001b[0m| 3000/3000 [00:35<00:00, 85.46batch/s, loss=0.084854]\u001b[0m\n"
     ]
    },
    {
     "name": "stdout",
     "output_type": "stream",
     "text": [
      "\t Loss: 254.930,\tTrain : 97.61%(97.61%),\tTest : 96.93%(96.93%),\tCurrent Time: 20250721-132849\n"
     ]
    },
    {
     "name": "stderr",
     "output_type": "stream",
     "text": [
      "Epoch 57/100: 100%|\u001b[34m█████████████████\u001b[0m| 3000/3000 [00:35<00:00, 85.57batch/s, loss=0.083273]\u001b[0m\n"
     ]
    },
    {
     "name": "stdout",
     "output_type": "stream",
     "text": [
      "\t Loss: 249.820,\tTrain : 97.67%(97.67%),\tTest : 96.86%(96.93%),\tCurrent Time: 20250721-132924\n"
     ]
    },
    {
     "name": "stderr",
     "output_type": "stream",
     "text": [
      "Epoch 58/100: 100%|\u001b[34m█████████████████\u001b[0m| 3000/3000 [00:34<00:00, 85.88batch/s, loss=0.081958]\u001b[0m\n"
     ]
    },
    {
     "name": "stdout",
     "output_type": "stream",
     "text": [
      "\t Loss: 245.886,\tTrain : 97.68%(97.68%),\tTest : 96.85%(96.93%),\tCurrent Time: 20250721-133000\n"
     ]
    },
    {
     "name": "stderr",
     "output_type": "stream",
     "text": [
      "Epoch 59/100: 100%|\u001b[34m█████████████████\u001b[0m| 3000/3000 [00:35<00:00, 85.70batch/s, loss=0.080227]\u001b[0m\n"
     ]
    },
    {
     "name": "stdout",
     "output_type": "stream",
     "text": [
      "\t Loss: 240.534,\tTrain : 97.76%(97.76%),\tTest : 96.89%(96.93%),\tCurrent Time: 20250721-133036\n"
     ]
    },
    {
     "name": "stderr",
     "output_type": "stream",
     "text": [
      "Epoch 60/100: 100%|\u001b[34m█████████████████\u001b[0m| 3000/3000 [00:35<00:00, 85.28batch/s, loss=0.078824]\u001b[0m\n"
     ]
    },
    {
     "name": "stdout",
     "output_type": "stream",
     "text": [
      "\t Loss: 236.551,\tTrain : 97.82%(97.82%),\tTest : 96.87%(96.93%),\tCurrent Time: 20250721-133111\n"
     ]
    },
    {
     "name": "stderr",
     "output_type": "stream",
     "text": [
      "Epoch 61/100: 100%|\u001b[34m█████████████████\u001b[0m| 3000/3000 [00:34<00:00, 85.80batch/s, loss=0.077698]\u001b[0m\n"
     ]
    },
    {
     "name": "stdout",
     "output_type": "stream",
     "text": [
      "\t Loss: 232.801,\tTrain : 97.78%(97.82%),\tTest : 96.85%(96.93%),\tCurrent Time: 20250721-133147\n"
     ]
    },
    {
     "name": "stderr",
     "output_type": "stream",
     "text": [
      "Epoch 62/100: 100%|\u001b[34m█████████████████\u001b[0m| 3000/3000 [00:33<00:00, 88.95batch/s, loss=0.075890]\u001b[0m\n"
     ]
    },
    {
     "name": "stdout",
     "output_type": "stream",
     "text": [
      "\t Loss: 227.477,\tTrain : 97.92%(97.92%),\tTest : 96.95%(96.95%),\tCurrent Time: 20250721-133221\n"
     ]
    },
    {
     "name": "stderr",
     "output_type": "stream",
     "text": [
      "Epoch 63/100: 100%|\u001b[34m█████████████████\u001b[0m| 3000/3000 [00:34<00:00, 86.73batch/s, loss=0.074639]\u001b[0m\n"
     ]
    },
    {
     "name": "stdout",
     "output_type": "stream",
     "text": [
      "\t Loss: 224.394,\tTrain : 97.89%(97.92%),\tTest : 96.97%(96.97%),\tCurrent Time: 20250721-133256\n"
     ]
    },
    {
     "name": "stderr",
     "output_type": "stream",
     "text": [
      "Epoch 64/100: 100%|\u001b[34m█████████████████\u001b[0m| 3000/3000 [00:34<00:00, 85.96batch/s, loss=0.073579]\u001b[0m\n"
     ]
    },
    {
     "name": "stdout",
     "output_type": "stream",
     "text": [
      "\t Loss: 220.739,\tTrain : 97.97%(97.97%),\tTest : 96.98%(96.98%),\tCurrent Time: 20250721-133332\n"
     ]
    },
    {
     "name": "stderr",
     "output_type": "stream",
     "text": [
      "Epoch 65/100: 100%|\u001b[34m█████████████████\u001b[0m| 3000/3000 [00:36<00:00, 82.46batch/s, loss=0.072197]\u001b[0m\n"
     ]
    },
    {
     "name": "stdout",
     "output_type": "stream",
     "text": [
      "\t Loss: 216.677,\tTrain : 98.03%(98.03%),\tTest : 97.08%(97.08%),\tCurrent Time: 20250721-133409\n"
     ]
    },
    {
     "name": "stderr",
     "output_type": "stream",
     "text": [
      "Epoch 66/100: 100%|\u001b[34m█████████████████\u001b[0m| 3000/3000 [00:40<00:00, 74.06batch/s, loss=0.071019]\u001b[0m\n"
     ]
    },
    {
     "name": "stdout",
     "output_type": "stream",
     "text": [
      "\t Loss: 213.153,\tTrain : 98.02%(98.03%),\tTest : 96.92%(97.08%),\tCurrent Time: 20250721-133450\n"
     ]
    },
    {
     "name": "stderr",
     "output_type": "stream",
     "text": [
      "Epoch 67/100: 100%|\u001b[34m█████████████████\u001b[0m| 3000/3000 [00:40<00:00, 74.49batch/s, loss=0.069876]\u001b[0m\n"
     ]
    },
    {
     "name": "stdout",
     "output_type": "stream",
     "text": [
      "\t Loss: 209.546,\tTrain : 98.13%(98.13%),\tTest : 97.12%(97.12%),\tCurrent Time: 20250721-133531\n"
     ]
    },
    {
     "name": "stderr",
     "output_type": "stream",
     "text": [
      "Epoch 68/100: 100%|\u001b[34m█████████████████\u001b[0m| 3000/3000 [00:37<00:00, 81.06batch/s, loss=0.068688]\u001b[0m\n"
     ]
    },
    {
     "name": "stdout",
     "output_type": "stream",
     "text": [
      "\t Loss: 206.146,\tTrain : 98.08%(98.13%),\tTest : 97.04%(97.12%),\tCurrent Time: 20250721-133608\n"
     ]
    },
    {
     "name": "stderr",
     "output_type": "stream",
     "text": [
      "Epoch 69/100: 100%|\u001b[34m█████████████████\u001b[0m| 3000/3000 [00:37<00:00, 80.71batch/s, loss=0.067589]\u001b[0m\n"
     ]
    },
    {
     "name": "stdout",
     "output_type": "stream",
     "text": [
      "\t Loss: 202.554,\tTrain : 98.19%(98.19%),\tTest : 97.15%(97.15%),\tCurrent Time: 20250721-133646\n"
     ]
    },
    {
     "name": "stderr",
     "output_type": "stream",
     "text": [
      "Epoch 70/100: 100%|\u001b[34m█████████████████\u001b[0m| 3000/3000 [00:36<00:00, 81.17batch/s, loss=0.066369]\u001b[0m\n"
     ]
    },
    {
     "name": "stdout",
     "output_type": "stream",
     "text": [
      "\t Loss: 199.000,\tTrain : 98.19%(98.19%),\tTest : 97.16%(97.16%),\tCurrent Time: 20250721-133724\n"
     ]
    },
    {
     "name": "stderr",
     "output_type": "stream",
     "text": [
      "Epoch 71/100: 100%|\u001b[34m█████████████████\u001b[0m| 3000/3000 [00:34<00:00, 85.87batch/s, loss=0.065453]\u001b[0m\n"
     ]
    },
    {
     "name": "stdout",
     "output_type": "stream",
     "text": [
      "\t Loss: 196.251,\tTrain : 98.24%(98.24%),\tTest : 97.26%(97.26%),\tCurrent Time: 20250721-133759\n"
     ]
    },
    {
     "name": "stderr",
     "output_type": "stream",
     "text": [
      "Epoch 72/100: 100%|\u001b[34m█████████████████\u001b[0m| 3000/3000 [00:34<00:00, 87.66batch/s, loss=0.064299]\u001b[0m\n"
     ]
    },
    {
     "name": "stdout",
     "output_type": "stream",
     "text": [
      "\t Loss: 192.870,\tTrain : 98.28%(98.28%),\tTest : 97.24%(97.26%),\tCurrent Time: 20250721-133834\n"
     ]
    },
    {
     "name": "stderr",
     "output_type": "stream",
     "text": [
      "Epoch 73/100: 100%|\u001b[34m█████████████████\u001b[0m| 3000/3000 [00:34<00:00, 86.67batch/s, loss=0.063177]\u001b[0m\n"
     ]
    },
    {
     "name": "stdout",
     "output_type": "stream",
     "text": [
      "\t Loss: 189.714,\tTrain : 98.32%(98.32%),\tTest : 97.24%(97.26%),\tCurrent Time: 20250721-133909\n"
     ]
    },
    {
     "name": "stderr",
     "output_type": "stream",
     "text": [
      "Epoch 74/100: 100%|\u001b[34m█████████████████\u001b[0m| 3000/3000 [00:36<00:00, 82.60batch/s, loss=0.062217]\u001b[0m\n"
     ]
    },
    {
     "name": "stdout",
     "output_type": "stream",
     "text": [
      "\t Loss: 186.643,\tTrain : 98.33%(98.33%),\tTest : 97.25%(97.26%),\tCurrent Time: 20250721-133946\n"
     ]
    },
    {
     "name": "stderr",
     "output_type": "stream",
     "text": [
      "Epoch 75/100: 100%|\u001b[34m█████████████████\u001b[0m| 3000/3000 [00:39<00:00, 75.00batch/s, loss=0.061273]\u001b[0m\n"
     ]
    },
    {
     "name": "stdout",
     "output_type": "stream",
     "text": [
      "\t Loss: 183.532,\tTrain : 98.34%(98.34%),\tTest : 97.19%(97.26%),\tCurrent Time: 20250721-134027\n"
     ]
    },
    {
     "name": "stderr",
     "output_type": "stream",
     "text": [
      "Epoch 76/100: 100%|\u001b[34m█████████████████\u001b[0m| 3000/3000 [00:40<00:00, 73.95batch/s, loss=0.060346]\u001b[0m\n"
     ]
    },
    {
     "name": "stdout",
     "output_type": "stream",
     "text": [
      "\t Loss: 180.812,\tTrain : 98.39%(98.39%),\tTest : 97.37%(97.37%),\tCurrent Time: 20250721-134108\n"
     ]
    },
    {
     "name": "stderr",
     "output_type": "stream",
     "text": [
      "Epoch 77/100: 100%|\u001b[34m█████████████████\u001b[0m| 3000/3000 [00:38<00:00, 76.95batch/s, loss=0.059373]\u001b[0m\n"
     ]
    },
    {
     "name": "stdout",
     "output_type": "stream",
     "text": [
      "\t Loss: 178.012,\tTrain : 98.43%(98.43%),\tTest : 97.23%(97.37%),\tCurrent Time: 20250721-134148\n"
     ]
    },
    {
     "name": "stderr",
     "output_type": "stream",
     "text": [
      "Epoch 78/100: 100%|\u001b[34m█████████████████\u001b[0m| 3000/3000 [00:39<00:00, 75.25batch/s, loss=0.058421]\u001b[0m\n"
     ]
    },
    {
     "name": "stdout",
     "output_type": "stream",
     "text": [
      "\t Loss: 175.058,\tTrain : 98.47%(98.47%),\tTest : 97.30%(97.37%),\tCurrent Time: 20250721-134228\n"
     ]
    },
    {
     "name": "stderr",
     "output_type": "stream",
     "text": [
      "Epoch 79/100: 100%|\u001b[34m█████████████████\u001b[0m| 3000/3000 [00:39<00:00, 75.89batch/s, loss=0.057458]\u001b[0m\n"
     ]
    },
    {
     "name": "stdout",
     "output_type": "stream",
     "text": [
      "\t Loss: 172.479,\tTrain : 98.50%(98.50%),\tTest : 97.25%(97.37%),\tCurrent Time: 20250721-134309\n"
     ]
    },
    {
     "name": "stderr",
     "output_type": "stream",
     "text": [
      "Epoch 80/100: 100%|\u001b[34m█████████████████\u001b[0m| 3000/3000 [00:39<00:00, 76.19batch/s, loss=0.056705]\u001b[0m\n"
     ]
    },
    {
     "name": "stdout",
     "output_type": "stream",
     "text": [
      "\t Loss: 170.055,\tTrain : 98.52%(98.52%),\tTest : 97.39%(97.39%),\tCurrent Time: 20250721-134348\n"
     ]
    },
    {
     "name": "stderr",
     "output_type": "stream",
     "text": [
      "Epoch 81/100: 100%|\u001b[34m█████████████████\u001b[0m| 3000/3000 [00:39<00:00, 75.26batch/s, loss=0.055395]\u001b[0m\n"
     ]
    },
    {
     "name": "stdout",
     "output_type": "stream",
     "text": [
      "\t Loss: 167.046,\tTrain : 98.56%(98.56%),\tTest : 97.26%(97.39%),\tCurrent Time: 20250721-134429\n"
     ]
    },
    {
     "name": "stderr",
     "output_type": "stream",
     "text": [
      "Epoch 82/100: 100%|\u001b[34m█████████████████\u001b[0m| 3000/3000 [00:35<00:00, 85.47batch/s, loss=0.054877]\u001b[0m\n"
     ]
    },
    {
     "name": "stdout",
     "output_type": "stream",
     "text": [
      "\t Loss: 164.500,\tTrain : 98.56%(98.56%),\tTest : 97.39%(97.39%),\tCurrent Time: 20250721-134505\n"
     ]
    },
    {
     "name": "stderr",
     "output_type": "stream",
     "text": [
      "Epoch 83/100: 100%|\u001b[34m█████████████████\u001b[0m| 3000/3000 [00:39<00:00, 76.36batch/s, loss=0.053850]\u001b[0m\n"
     ]
    },
    {
     "name": "stdout",
     "output_type": "stream",
     "text": [
      "\t Loss: 161.900,\tTrain : 98.59%(98.59%),\tTest : 97.40%(97.40%),\tCurrent Time: 20250721-134545\n"
     ]
    },
    {
     "name": "stderr",
     "output_type": "stream",
     "text": [
      "Epoch 84/100: 100%|\u001b[34m█████████████████\u001b[0m| 3000/3000 [00:40<00:00, 73.95batch/s, loss=0.053336]\u001b[0m\n"
     ]
    },
    {
     "name": "stdout",
     "output_type": "stream",
     "text": [
      "\t Loss: 160.023,\tTrain : 98.63%(98.63%),\tTest : 97.40%(97.40%),\tCurrent Time: 20250721-134626\n"
     ]
    },
    {
     "name": "stderr",
     "output_type": "stream",
     "text": [
      "Epoch 85/100: 100%|\u001b[34m█████████████████\u001b[0m| 3000/3000 [00:40<00:00, 74.47batch/s, loss=0.052395]\u001b[0m\n"
     ]
    },
    {
     "name": "stdout",
     "output_type": "stream",
     "text": [
      "\t Loss: 157.100,\tTrain : 98.67%(98.67%),\tTest : 97.34%(97.40%),\tCurrent Time: 20250721-134707\n"
     ]
    },
    {
     "name": "stderr",
     "output_type": "stream",
     "text": [
      "Epoch 86/100: 100%|\u001b[34m█████████████████\u001b[0m| 3000/3000 [00:39<00:00, 76.18batch/s, loss=0.051714]\u001b[0m\n"
     ]
    },
    {
     "name": "stdout",
     "output_type": "stream",
     "text": [
      "\t Loss: 154.974,\tTrain : 98.65%(98.67%),\tTest : 97.52%(97.52%),\tCurrent Time: 20250721-134747\n"
     ]
    },
    {
     "name": "stderr",
     "output_type": "stream",
     "text": [
      "Epoch 87/100: 100%|\u001b[34m█████████████████\u001b[0m| 3000/3000 [00:39<00:00, 75.91batch/s, loss=0.051058]\u001b[0m\n"
     ]
    },
    {
     "name": "stdout",
     "output_type": "stream",
     "text": [
      "\t Loss: 152.960,\tTrain : 98.68%(98.68%),\tTest : 97.41%(97.52%),\tCurrent Time: 20250721-134827\n"
     ]
    },
    {
     "name": "stderr",
     "output_type": "stream",
     "text": [
      "Epoch 88/100: 100%|\u001b[34m█████████████████\u001b[0m| 3000/3000 [00:35<00:00, 84.16batch/s, loss=0.050184]\u001b[0m\n"
     ]
    },
    {
     "name": "stdout",
     "output_type": "stream",
     "text": [
      "\t Loss: 150.653,\tTrain : 98.72%(98.72%),\tTest : 97.51%(97.52%),\tCurrent Time: 20250721-134903\n"
     ]
    },
    {
     "name": "stderr",
     "output_type": "stream",
     "text": [
      "Epoch 89/100: 100%|\u001b[34m█████████████████\u001b[0m| 3000/3000 [00:34<00:00, 85.99batch/s, loss=0.049349]\u001b[0m\n"
     ]
    },
    {
     "name": "stdout",
     "output_type": "stream",
     "text": [
      "\t Loss: 148.299,\tTrain : 98.74%(98.74%),\tTest : 97.46%(97.52%),\tCurrent Time: 20250721-134938\n"
     ]
    },
    {
     "name": "stderr",
     "output_type": "stream",
     "text": [
      "Epoch 90/100: 100%|\u001b[34m█████████████████\u001b[0m| 3000/3000 [00:34<00:00, 86.05batch/s, loss=0.048749]\u001b[0m\n"
     ]
    },
    {
     "name": "stdout",
     "output_type": "stream",
     "text": [
      "\t Loss: 146.300,\tTrain : 98.78%(98.78%),\tTest : 97.39%(97.52%),\tCurrent Time: 20250721-135014\n"
     ]
    },
    {
     "name": "stderr",
     "output_type": "stream",
     "text": [
      "Epoch 91/100: 100%|\u001b[34m█████████████████\u001b[0m| 3000/3000 [00:34<00:00, 87.10batch/s, loss=0.048090]\u001b[0m\n"
     ]
    },
    {
     "name": "stdout",
     "output_type": "stream",
     "text": [
      "\t Loss: 144.099,\tTrain : 98.80%(98.80%),\tTest : 97.46%(97.52%),\tCurrent Time: 20250721-135049\n"
     ]
    },
    {
     "name": "stderr",
     "output_type": "stream",
     "text": [
      "Epoch 92/100: 100%|\u001b[34m█████████████████\u001b[0m| 3000/3000 [00:35<00:00, 84.37batch/s, loss=0.047129]\u001b[0m\n"
     ]
    },
    {
     "name": "stdout",
     "output_type": "stream",
     "text": [
      "\t Loss: 141.609,\tTrain : 98.81%(98.81%),\tTest : 97.40%(97.52%),\tCurrent Time: 20250721-135125\n"
     ]
    },
    {
     "name": "stderr",
     "output_type": "stream",
     "text": [
      "Epoch 93/100: 100%|\u001b[34m█████████████████\u001b[0m| 3000/3000 [00:36<00:00, 83.04batch/s, loss=0.046475]\u001b[0m\n"
     ]
    },
    {
     "name": "stdout",
     "output_type": "stream",
     "text": [
      "\t Loss: 139.440,\tTrain : 98.84%(98.84%),\tTest : 97.49%(97.52%),\tCurrent Time: 20250721-135202\n"
     ]
    },
    {
     "name": "stderr",
     "output_type": "stream",
     "text": [
      "Epoch 94/100: 100%|\u001b[34m█████████████████\u001b[0m| 3000/3000 [00:35<00:00, 84.34batch/s, loss=0.045905]\u001b[0m\n"
     ]
    },
    {
     "name": "stdout",
     "output_type": "stream",
     "text": [
      "\t Loss: 137.688,\tTrain : 98.82%(98.84%),\tTest : 97.51%(97.52%),\tCurrent Time: 20250721-135238\n"
     ]
    },
    {
     "name": "stderr",
     "output_type": "stream",
     "text": [
      "Epoch 95/100: 100%|\u001b[34m█████████████████\u001b[0m| 3000/3000 [00:35<00:00, 85.10batch/s, loss=0.045309]\u001b[0m\n"
     ]
    },
    {
     "name": "stdout",
     "output_type": "stream",
     "text": [
      "\t Loss: 135.831,\tTrain : 98.87%(98.87%),\tTest : 97.54%(97.54%),\tCurrent Time: 20250721-135314\n"
     ]
    },
    {
     "name": "stderr",
     "output_type": "stream",
     "text": [
      "Epoch 96/100: 100%|\u001b[34m█████████████████\u001b[0m| 3000/3000 [00:35<00:00, 84.21batch/s, loss=0.044574]\u001b[0m\n"
     ]
    },
    {
     "name": "stdout",
     "output_type": "stream",
     "text": [
      "\t Loss: 133.973,\tTrain : 98.89%(98.89%),\tTest : 97.53%(97.54%),\tCurrent Time: 20250721-135350\n"
     ]
    },
    {
     "name": "stderr",
     "output_type": "stream",
     "text": [
      "Epoch 97/100: 100%|\u001b[34m█████████████████\u001b[0m| 3000/3000 [00:35<00:00, 84.87batch/s, loss=0.043887]\u001b[0m\n"
     ]
    },
    {
     "name": "stdout",
     "output_type": "stream",
     "text": [
      "\t Loss: 131.582,\tTrain : 98.90%(98.90%),\tTest : 97.42%(97.54%),\tCurrent Time: 20250721-135426\n"
     ]
    },
    {
     "name": "stderr",
     "output_type": "stream",
     "text": [
      "Epoch 98/100: 100%|\u001b[34m█████████████████\u001b[0m| 3000/3000 [00:36<00:00, 83.08batch/s, loss=0.043440]\u001b[0m\n"
     ]
    },
    {
     "name": "stdout",
     "output_type": "stream",
     "text": [
      "\t Loss: 130.134,\tTrain : 98.92%(98.92%),\tTest : 97.51%(97.54%),\tCurrent Time: 20250721-135503\n"
     ]
    },
    {
     "name": "stderr",
     "output_type": "stream",
     "text": [
      "Epoch 99/100: 100%|\u001b[34m█████████████████\u001b[0m| 3000/3000 [00:34<00:00, 87.02batch/s, loss=0.042815]\u001b[0m\n"
     ]
    },
    {
     "name": "stdout",
     "output_type": "stream",
     "text": [
      "\t Loss: 128.246,\tTrain : 98.94%(98.94%),\tTest : 97.58%(97.58%),\tCurrent Time: 20250721-135538\n"
     ]
    },
    {
     "name": "stderr",
     "output_type": "stream",
     "text": [
      "Epoch 100/100: 100%|\u001b[34m████████████████\u001b[0m| 3000/3000 [00:34<00:00, 86.90batch/s, loss=0.042091]\u001b[0m\n"
     ]
    },
    {
     "name": "stdout",
     "output_type": "stream",
     "text": [
      "\t Loss: 126.256,\tTrain : 98.94%(98.94%),\tTest : 97.57%(97.58%),\tCurrent Time: 20250721-135613\n",
      "EP_L3_MNIST_First_symm_LN_t2sta2_bs20-EP_b_sc0.01-EP_It2sta18- Time: 20250721-135613, Epochs: 100, Learning Rate: 0.001, Best: 98.94%  97.58%\n",
      "\n",
      "EP_L3_MNIST_First_symm_LN_t2sta2_bs20-EP_b_sc0.01-EP_It2sta18-\n"
     ]
    },
    {
     "name": "stderr",
     "output_type": "stream",
     "text": [
      "Epoch 1/100: 100%|\u001b[34m██████████████████\u001b[0m| 3000/3000 [00:34<00:00, 85.85batch/s, loss=0.649281]\u001b[0m\n"
     ]
    },
    {
     "name": "stdout",
     "output_type": "stream",
     "text": [
      "\t Loss: 1946.211,\tTrain : 83.19%(83.19%),\tTest : 89.23%(89.23%),\tCurrent Time: 20250721-135648\n"
     ]
    },
    {
     "name": "stderr",
     "output_type": "stream",
     "text": [
      "Epoch 2/100: 100%|\u001b[34m██████████████████\u001b[0m| 3000/3000 [00:36<00:00, 82.19batch/s, loss=0.384856]\u001b[0m\n"
     ]
    },
    {
     "name": "stdout",
     "output_type": "stream",
     "text": [
      "\t Loss: 1154.422,\tTrain : 89.08%(89.08%),\tTest : 90.59%(90.59%),\tCurrent Time: 20250721-135725\n"
     ]
    },
    {
     "name": "stderr",
     "output_type": "stream",
     "text": [
      "Epoch 3/100: 100%|\u001b[34m██████████████████\u001b[0m| 3000/3000 [00:35<00:00, 84.92batch/s, loss=0.346425]\u001b[0m\n"
     ]
    },
    {
     "name": "stdout",
     "output_type": "stream",
     "text": [
      "\t Loss: 1039.206,\tTrain : 90.03%(90.03%),\tTest : 91.10%(91.10%),\tCurrent Time: 20250721-135801\n"
     ]
    },
    {
     "name": "stderr",
     "output_type": "stream",
     "text": [
      "Epoch 4/100: 100%|\u001b[34m██████████████████\u001b[0m| 3000/3000 [00:35<00:00, 84.73batch/s, loss=0.326338]\u001b[0m\n"
     ]
    },
    {
     "name": "stdout",
     "output_type": "stream",
     "text": [
      "\t Loss: 979.677,\tTrain : 90.61%(90.61%),\tTest : 91.48%(91.48%),\tCurrent Time: 20250721-135837\n"
     ]
    },
    {
     "name": "stderr",
     "output_type": "stream",
     "text": [
      "Epoch 5/100: 100%|\u001b[34m██████████████████\u001b[0m| 3000/3000 [00:36<00:00, 82.60batch/s, loss=0.313405]\u001b[0m\n"
     ]
    },
    {
     "name": "stdout",
     "output_type": "stream",
     "text": [
      "\t Loss: 940.520,\tTrain : 91.04%(91.04%),\tTest : 91.69%(91.69%),\tCurrent Time: 20250721-135914\n"
     ]
    },
    {
     "name": "stderr",
     "output_type": "stream",
     "text": [
      "Epoch 6/100: 100%|\u001b[34m██████████████████\u001b[0m| 3000/3000 [00:35<00:00, 84.44batch/s, loss=0.302859]\u001b[0m\n"
     ]
    },
    {
     "name": "stdout",
     "output_type": "stream",
     "text": [
      "\t Loss: 909.056,\tTrain : 91.32%(91.32%),\tTest : 91.85%(91.85%),\tCurrent Time: 20250721-135950\n"
     ]
    },
    {
     "name": "stderr",
     "output_type": "stream",
     "text": [
      "Epoch 7/100: 100%|\u001b[34m██████████████████\u001b[0m| 3000/3000 [00:35<00:00, 83.98batch/s, loss=0.295033]\u001b[0m\n"
     ]
    },
    {
     "name": "stdout",
     "output_type": "stream",
     "text": [
      "\t Loss: 884.109,\tTrain : 91.59%(91.59%),\tTest : 92.08%(92.08%),\tCurrent Time: 20250721-140027\n"
     ]
    },
    {
     "name": "stderr",
     "output_type": "stream",
     "text": [
      "Epoch 8/100: 100%|\u001b[34m██████████████████\u001b[0m| 3000/3000 [00:36<00:00, 81.82batch/s, loss=0.287178]\u001b[0m\n"
     ]
    },
    {
     "name": "stdout",
     "output_type": "stream",
     "text": [
      "\t Loss: 861.693,\tTrain : 91.86%(91.86%),\tTest : 92.19%(92.19%),\tCurrent Time: 20250721-140104\n"
     ]
    },
    {
     "name": "stderr",
     "output_type": "stream",
     "text": [
      "Epoch 9/100: 100%|\u001b[34m██████████████████\u001b[0m| 3000/3000 [00:35<00:00, 85.59batch/s, loss=0.280306]\u001b[0m\n"
     ]
    },
    {
     "name": "stdout",
     "output_type": "stream",
     "text": [
      "\t Loss: 840.892,\tTrain : 92.08%(92.08%),\tTest : 92.33%(92.33%),\tCurrent Time: 20250721-140140\n"
     ]
    },
    {
     "name": "stderr",
     "output_type": "stream",
     "text": [
      "Epoch 10/100: 100%|\u001b[34m█████████████████\u001b[0m| 3000/3000 [00:34<00:00, 86.10batch/s, loss=0.273387]\u001b[0m\n"
     ]
    },
    {
     "name": "stdout",
     "output_type": "stream",
     "text": [
      "\t Loss: 820.323,\tTrain : 92.21%(92.21%),\tTest : 92.58%(92.58%),\tCurrent Time: 20250721-140215\n"
     ]
    },
    {
     "name": "stderr",
     "output_type": "stream",
     "text": [
      "Epoch 11/100: 100%|\u001b[34m█████████████████\u001b[0m| 3000/3000 [00:35<00:00, 84.61batch/s, loss=0.267265]\u001b[0m\n"
     ]
    },
    {
     "name": "stdout",
     "output_type": "stream",
     "text": [
      "\t Loss: 801.081,\tTrain : 92.42%(92.42%),\tTest : 92.58%(92.58%),\tCurrent Time: 20250721-140251\n"
     ]
    },
    {
     "name": "stderr",
     "output_type": "stream",
     "text": [
      "Epoch 12/100: 100%|\u001b[34m█████████████████\u001b[0m| 3000/3000 [00:39<00:00, 75.86batch/s, loss=0.260095]\u001b[0m\n"
     ]
    },
    {
     "name": "stdout",
     "output_type": "stream",
     "text": [
      "\t Loss: 780.953,\tTrain : 92.72%(92.72%),\tTest : 92.56%(92.58%),\tCurrent Time: 20250721-140331\n"
     ]
    },
    {
     "name": "stderr",
     "output_type": "stream",
     "text": [
      "Epoch 13/100: 100%|\u001b[34m█████████████████\u001b[0m| 3000/3000 [00:39<00:00, 75.11batch/s, loss=0.253797]\u001b[0m\n"
     ]
    },
    {
     "name": "stdout",
     "output_type": "stream",
     "text": [
      "\t Loss: 761.328,\tTrain : 92.91%(92.91%),\tTest : 93.08%(93.08%),\tCurrent Time: 20250721-140412\n"
     ]
    },
    {
     "name": "stderr",
     "output_type": "stream",
     "text": [
      "Epoch 14/100: 100%|\u001b[34m█████████████████\u001b[0m| 3000/3000 [00:39<00:00, 75.76batch/s, loss=0.247153]\u001b[0m\n"
     ]
    },
    {
     "name": "stdout",
     "output_type": "stream",
     "text": [
      "\t Loss: 741.430,\tTrain : 93.07%(93.07%),\tTest : 93.11%(93.11%),\tCurrent Time: 20250721-140452\n"
     ]
    },
    {
     "name": "stderr",
     "output_type": "stream",
     "text": [
      "Epoch 15/100: 100%|\u001b[34m█████████████████\u001b[0m| 3000/3000 [00:39<00:00, 76.60batch/s, loss=0.240314]\u001b[0m\n"
     ]
    },
    {
     "name": "stdout",
     "output_type": "stream",
     "text": [
      "\t Loss: 720.895,\tTrain : 93.29%(93.29%),\tTest : 93.17%(93.17%),\tCurrent Time: 20250721-140532\n"
     ]
    },
    {
     "name": "stderr",
     "output_type": "stream",
     "text": [
      "Epoch 16/100: 100%|\u001b[34m█████████████████\u001b[0m| 3000/3000 [00:40<00:00, 74.30batch/s, loss=0.233559]\u001b[0m\n"
     ]
    },
    {
     "name": "stdout",
     "output_type": "stream",
     "text": [
      "\t Loss: 700.109,\tTrain : 93.49%(93.49%),\tTest : 93.54%(93.54%),\tCurrent Time: 20250721-140613\n"
     ]
    },
    {
     "name": "stderr",
     "output_type": "stream",
     "text": [
      "Epoch 17/100: 100%|\u001b[34m█████████████████\u001b[0m| 3000/3000 [00:40<00:00, 74.01batch/s, loss=0.226483]\u001b[0m\n"
     ]
    },
    {
     "name": "stdout",
     "output_type": "stream",
     "text": [
      "\t Loss: 679.460,\tTrain : 93.72%(93.72%),\tTest : 93.54%(93.54%),\tCurrent Time: 20250721-140654\n"
     ]
    },
    {
     "name": "stderr",
     "output_type": "stream",
     "text": [
      "Epoch 18/100: 100%|\u001b[34m█████████████████\u001b[0m| 3000/3000 [00:39<00:00, 76.22batch/s, loss=0.219837]\u001b[0m\n"
     ]
    },
    {
     "name": "stdout",
     "output_type": "stream",
     "text": [
      "\t Loss: 659.348,\tTrain : 93.92%(93.92%),\tTest : 93.77%(93.77%),\tCurrent Time: 20250721-140734\n"
     ]
    },
    {
     "name": "stderr",
     "output_type": "stream",
     "text": [
      "Epoch 19/100: 100%|\u001b[34m█████████████████\u001b[0m| 3000/3000 [00:35<00:00, 84.19batch/s, loss=0.213420]\u001b[0m\n"
     ]
    },
    {
     "name": "stdout",
     "output_type": "stream",
     "text": [
      "\t Loss: 640.022,\tTrain : 94.09%(94.09%),\tTest : 93.82%(93.82%),\tCurrent Time: 20250721-140810\n"
     ]
    },
    {
     "name": "stderr",
     "output_type": "stream",
     "text": [
      "Epoch 20/100: 100%|\u001b[34m█████████████████\u001b[0m| 3000/3000 [00:34<00:00, 85.79batch/s, loss=0.207061]\u001b[0m\n"
     ]
    },
    {
     "name": "stdout",
     "output_type": "stream",
     "text": [
      "\t Loss: 620.850,\tTrain : 94.26%(94.26%),\tTest : 94.19%(94.19%),\tCurrent Time: 20250721-140846\n"
     ]
    },
    {
     "name": "stderr",
     "output_type": "stream",
     "text": [
      "Epoch 21/100: 100%|\u001b[34m█████████████████\u001b[0m| 3000/3000 [00:35<00:00, 84.82batch/s, loss=0.200651]\u001b[0m\n"
     ]
    },
    {
     "name": "stdout",
     "output_type": "stream",
     "text": [
      "\t Loss: 601.818,\tTrain : 94.45%(94.45%),\tTest : 94.41%(94.41%),\tCurrent Time: 20250721-140922\n"
     ]
    },
    {
     "name": "stderr",
     "output_type": "stream",
     "text": [
      "Epoch 22/100: 100%|\u001b[34m█████████████████\u001b[0m| 3000/3000 [00:39<00:00, 75.34batch/s, loss=0.194401]\u001b[0m\n"
     ]
    },
    {
     "name": "stdout",
     "output_type": "stream",
     "text": [
      "\t Loss: 583.151,\tTrain : 94.58%(94.58%),\tTest : 94.56%(94.56%),\tCurrent Time: 20250721-141002\n"
     ]
    },
    {
     "name": "stderr",
     "output_type": "stream",
     "text": [
      "Epoch 23/100: 100%|\u001b[34m█████████████████\u001b[0m| 3000/3000 [00:39<00:00, 76.06batch/s, loss=0.188932]\u001b[0m\n"
     ]
    },
    {
     "name": "stdout",
     "output_type": "stream",
     "text": [
      "\t Loss: 566.687,\tTrain : 94.73%(94.73%),\tTest : 94.55%(94.56%),\tCurrent Time: 20250721-141042\n"
     ]
    },
    {
     "name": "stderr",
     "output_type": "stream",
     "text": [
      "Epoch 24/100: 100%|\u001b[34m█████████████████\u001b[0m| 3000/3000 [00:38<00:00, 77.71batch/s, loss=0.183218]\u001b[0m\n"
     ]
    },
    {
     "name": "stdout",
     "output_type": "stream",
     "text": [
      "\t Loss: 549.670,\tTrain : 94.92%(94.92%),\tTest : 94.81%(94.81%),\tCurrent Time: 20250721-141121\n"
     ]
    },
    {
     "name": "stderr",
     "output_type": "stream",
     "text": [
      "Epoch 25/100: 100%|\u001b[34m█████████████████\u001b[0m| 3000/3000 [00:39<00:00, 76.42batch/s, loss=0.177952]\u001b[0m\n"
     ]
    },
    {
     "name": "stdout",
     "output_type": "stream",
     "text": [
      "\t Loss: 533.411,\tTrain : 95.00%(95.00%),\tTest : 94.88%(94.88%),\tCurrent Time: 20250721-141201\n"
     ]
    },
    {
     "name": "stderr",
     "output_type": "stream",
     "text": [
      "Epoch 26/100: 100%|\u001b[34m█████████████████\u001b[0m| 3000/3000 [00:39<00:00, 76.34batch/s, loss=0.172828]\u001b[0m\n"
     ]
    },
    {
     "name": "stdout",
     "output_type": "stream",
     "text": [
      "\t Loss: 518.284,\tTrain : 95.16%(95.16%),\tTest : 95.03%(95.03%),\tCurrent Time: 20250721-141241\n"
     ]
    },
    {
     "name": "stderr",
     "output_type": "stream",
     "text": [
      "Epoch 27/100: 100%|\u001b[34m█████████████████\u001b[0m| 3000/3000 [00:34<00:00, 87.54batch/s, loss=0.167583]\u001b[0m\n"
     ]
    },
    {
     "name": "stdout",
     "output_type": "stream",
     "text": [
      "\t Loss: 502.993,\tTrain : 95.32%(95.32%),\tTest : 95.11%(95.11%),\tCurrent Time: 20250721-141316\n"
     ]
    },
    {
     "name": "stderr",
     "output_type": "stream",
     "text": [
      "Epoch 28/100: 100%|\u001b[34m█████████████████\u001b[0m| 3000/3000 [00:33<00:00, 89.80batch/s, loss=0.163414]\u001b[0m\n"
     ]
    },
    {
     "name": "stdout",
     "output_type": "stream",
     "text": [
      "\t Loss: 489.857,\tTrain : 95.43%(95.43%),\tTest : 95.28%(95.28%),\tCurrent Time: 20250721-141350\n"
     ]
    },
    {
     "name": "stderr",
     "output_type": "stream",
     "text": [
      "Epoch 29/100: 100%|\u001b[34m█████████████████\u001b[0m| 3000/3000 [00:33<00:00, 88.43batch/s, loss=0.158837]\u001b[0m\n"
     ]
    },
    {
     "name": "stdout",
     "output_type": "stream",
     "text": [
      "\t Loss: 476.310,\tTrain : 95.56%(95.56%),\tTest : 95.49%(95.49%),\tCurrent Time: 20250721-141424\n"
     ]
    },
    {
     "name": "stderr",
     "output_type": "stream",
     "text": [
      "Epoch 30/100: 100%|\u001b[34m█████████████████\u001b[0m| 3000/3000 [00:33<00:00, 88.69batch/s, loss=0.154220]\u001b[0m\n"
     ]
    },
    {
     "name": "stdout",
     "output_type": "stream",
     "text": [
      "\t Loss: 463.314,\tTrain : 95.66%(95.66%),\tTest : 95.58%(95.58%),\tCurrent Time: 20250721-141459\n"
     ]
    },
    {
     "name": "stderr",
     "output_type": "stream",
     "text": [
      "Epoch 31/100: 100%|\u001b[34m█████████████████\u001b[0m| 3000/3000 [00:34<00:00, 86.95batch/s, loss=0.150361]\u001b[0m\n"
     ]
    },
    {
     "name": "stdout",
     "output_type": "stream",
     "text": [
      "\t Loss: 451.241,\tTrain : 95.78%(95.78%),\tTest : 95.68%(95.68%),\tCurrent Time: 20250721-141534\n"
     ]
    },
    {
     "name": "stderr",
     "output_type": "stream",
     "text": [
      "Epoch 32/100: 100%|\u001b[34m█████████████████\u001b[0m| 3000/3000 [00:33<00:00, 89.98batch/s, loss=0.146220]\u001b[0m\n"
     ]
    },
    {
     "name": "stdout",
     "output_type": "stream",
     "text": [
      "\t Loss: 439.068,\tTrain : 95.88%(95.88%),\tTest : 95.79%(95.79%),\tCurrent Time: 20250721-141608\n"
     ]
    },
    {
     "name": "stderr",
     "output_type": "stream",
     "text": [
      "Epoch 33/100: 100%|\u001b[34m█████████████████\u001b[0m| 3000/3000 [00:33<00:00, 88.94batch/s, loss=0.143056]\u001b[0m\n"
     ]
    },
    {
     "name": "stdout",
     "output_type": "stream",
     "text": [
      "\t Loss: 428.767,\tTrain : 95.98%(95.98%),\tTest : 95.83%(95.83%),\tCurrent Time: 20250721-141642\n"
     ]
    },
    {
     "name": "stderr",
     "output_type": "stream",
     "text": [
      "Epoch 34/100: 100%|\u001b[34m█████████████████\u001b[0m| 3000/3000 [00:32<00:00, 91.79batch/s, loss=0.139080]\u001b[0m\n"
     ]
    },
    {
     "name": "stdout",
     "output_type": "stream",
     "text": [
      "\t Loss: 417.331,\tTrain : 96.14%(96.14%),\tTest : 95.80%(95.83%),\tCurrent Time: 20250721-141715\n"
     ]
    },
    {
     "name": "stderr",
     "output_type": "stream",
     "text": [
      "Epoch 35/100: 100%|\u001b[34m█████████████████\u001b[0m| 3000/3000 [00:32<00:00, 93.51batch/s, loss=0.135901]\u001b[0m\n"
     ]
    },
    {
     "name": "stdout",
     "output_type": "stream",
     "text": [
      "\t Loss: 407.198,\tTrain : 96.21%(96.21%),\tTest : 95.88%(95.88%),\tCurrent Time: 20250721-141748\n"
     ]
    },
    {
     "name": "stderr",
     "output_type": "stream",
     "text": [
      "Epoch 36/100: 100%|\u001b[34m█████████████████\u001b[0m| 3000/3000 [00:33<00:00, 90.19batch/s, loss=0.132470]\u001b[0m\n"
     ]
    },
    {
     "name": "stdout",
     "output_type": "stream",
     "text": [
      "\t Loss: 397.024,\tTrain : 96.27%(96.27%),\tTest : 95.85%(95.88%),\tCurrent Time: 20250721-141822\n"
     ]
    },
    {
     "name": "stderr",
     "output_type": "stream",
     "text": [
      "Epoch 37/100: 100%|\u001b[34m█████████████████\u001b[0m| 3000/3000 [00:33<00:00, 88.58batch/s, loss=0.129380]\u001b[0m\n"
     ]
    },
    {
     "name": "stdout",
     "output_type": "stream",
     "text": [
      "\t Loss: 388.122,\tTrain : 96.37%(96.37%),\tTest : 96.00%(96.00%),\tCurrent Time: 20250721-141856\n"
     ]
    },
    {
     "name": "stderr",
     "output_type": "stream",
     "text": [
      "Epoch 38/100: 100%|\u001b[34m█████████████████\u001b[0m| 3000/3000 [00:32<00:00, 91.41batch/s, loss=0.126248]\u001b[0m\n"
     ]
    },
    {
     "name": "stdout",
     "output_type": "stream",
     "text": [
      "\t Loss: 379.451,\tTrain : 96.41%(96.41%),\tTest : 96.09%(96.09%),\tCurrent Time: 20250721-141930\n"
     ]
    },
    {
     "name": "stderr",
     "output_type": "stream",
     "text": [
      "Epoch 39/100: 100%|\u001b[34m█████████████████\u001b[0m| 3000/3000 [00:32<00:00, 92.68batch/s, loss=0.123294]\u001b[0m\n"
     ]
    },
    {
     "name": "stdout",
     "output_type": "stream",
     "text": [
      "\t Loss: 369.965,\tTrain : 96.52%(96.52%),\tTest : 96.16%(96.16%),\tCurrent Time: 20250721-142002\n"
     ]
    },
    {
     "name": "stderr",
     "output_type": "stream",
     "text": [
      "Epoch 40/100: 100%|\u001b[34m█████████████████\u001b[0m| 3000/3000 [00:31<00:00, 95.10batch/s, loss=0.120700]\u001b[0m\n"
     ]
    },
    {
     "name": "stdout",
     "output_type": "stream",
     "text": [
      "\t Loss: 361.651,\tTrain : 96.63%(96.63%),\tTest : 96.17%(96.17%),\tCurrent Time: 20250721-142035\n"
     ]
    },
    {
     "name": "stderr",
     "output_type": "stream",
     "text": [
      "Epoch 41/100: 100%|\u001b[34m█████████████████\u001b[0m| 3000/3000 [00:32<00:00, 91.66batch/s, loss=0.118075]\u001b[0m\n"
     ]
    },
    {
     "name": "stdout",
     "output_type": "stream",
     "text": [
      "\t Loss: 353.818,\tTrain : 96.67%(96.67%),\tTest : 96.33%(96.33%),\tCurrent Time: 20250721-142108\n"
     ]
    },
    {
     "name": "stderr",
     "output_type": "stream",
     "text": [
      "Epoch 42/100: 100%|\u001b[34m█████████████████\u001b[0m| 3000/3000 [00:32<00:00, 92.99batch/s, loss=0.115447]\u001b[0m\n"
     ]
    },
    {
     "name": "stdout",
     "output_type": "stream",
     "text": [
      "\t Loss: 346.188,\tTrain : 96.77%(96.77%),\tTest : 96.32%(96.33%),\tCurrent Time: 20250721-142141\n"
     ]
    },
    {
     "name": "stderr",
     "output_type": "stream",
     "text": [
      "Epoch 43/100: 100%|\u001b[34m█████████████████\u001b[0m| 3000/3000 [00:34<00:00, 86.87batch/s, loss=0.112952]\u001b[0m\n"
     ]
    },
    {
     "name": "stdout",
     "output_type": "stream",
     "text": [
      "\t Loss: 338.599,\tTrain : 96.83%(96.83%),\tTest : 96.42%(96.42%),\tCurrent Time: 20250721-142216\n"
     ]
    },
    {
     "name": "stderr",
     "output_type": "stream",
     "text": [
      "Epoch 44/100: 100%|\u001b[34m█████████████████\u001b[0m| 3000/3000 [00:35<00:00, 83.50batch/s, loss=0.109992]\u001b[0m\n"
     ]
    },
    {
     "name": "stdout",
     "output_type": "stream",
     "text": [
      "\t Loss: 331.630,\tTrain : 96.90%(96.90%),\tTest : 96.42%(96.42%),\tCurrent Time: 20250721-142252\n"
     ]
    },
    {
     "name": "stderr",
     "output_type": "stream",
     "text": [
      "Epoch 45/100: 100%|\u001b[34m█████████████████\u001b[0m| 3000/3000 [00:35<00:00, 84.61batch/s, loss=0.108127]\u001b[0m\n"
     ]
    },
    {
     "name": "stdout",
     "output_type": "stream",
     "text": [
      "\t Loss: 324.363,\tTrain : 96.97%(96.97%),\tTest : 96.51%(96.51%),\tCurrent Time: 20250721-142328\n"
     ]
    },
    {
     "name": "stderr",
     "output_type": "stream",
     "text": [
      "Epoch 46/100: 100%|\u001b[34m█████████████████\u001b[0m| 3000/3000 [00:35<00:00, 83.88batch/s, loss=0.105634]\u001b[0m\n"
     ]
    },
    {
     "name": "stdout",
     "output_type": "stream",
     "text": [
      "\t Loss: 317.738,\tTrain : 97.03%(97.03%),\tTest : 96.50%(96.51%),\tCurrent Time: 20250721-142405\n"
     ]
    },
    {
     "name": "stderr",
     "output_type": "stream",
     "text": [
      "Epoch 47/100: 100%|\u001b[34m█████████████████\u001b[0m| 3000/3000 [00:35<00:00, 84.81batch/s, loss=0.103920]\u001b[0m\n"
     ]
    },
    {
     "name": "stdout",
     "output_type": "stream",
     "text": [
      "\t Loss: 311.650,\tTrain : 97.08%(97.08%),\tTest : 96.59%(96.59%),\tCurrent Time: 20250721-142441\n"
     ]
    },
    {
     "name": "stderr",
     "output_type": "stream",
     "text": [
      "Epoch 48/100: 100%|\u001b[34m█████████████████\u001b[0m| 3000/3000 [00:37<00:00, 80.74batch/s, loss=0.101773]\u001b[0m\n"
     ]
    },
    {
     "name": "stdout",
     "output_type": "stream",
     "text": [
      "\t Loss: 305.321,\tTrain : 97.13%(97.13%),\tTest : 96.59%(96.59%),\tCurrent Time: 20250721-142519\n"
     ]
    },
    {
     "name": "stderr",
     "output_type": "stream",
     "text": [
      "Epoch 49/100: 100%|\u001b[34m█████████████████\u001b[0m| 3000/3000 [00:39<00:00, 76.65batch/s, loss=0.099704]\u001b[0m\n"
     ]
    },
    {
     "name": "stdout",
     "output_type": "stream",
     "text": [
      "\t Loss: 298.737,\tTrain : 97.21%(97.21%),\tTest : 96.68%(96.68%),\tCurrent Time: 20250721-142558\n"
     ]
    },
    {
     "name": "stderr",
     "output_type": "stream",
     "text": [
      "Epoch 50/100: 100%|\u001b[34m█████████████████\u001b[0m| 3000/3000 [00:40<00:00, 74.56batch/s, loss=0.097876]\u001b[0m\n"
     ]
    },
    {
     "name": "stdout",
     "output_type": "stream",
     "text": [
      "\t Loss: 293.579,\tTrain : 97.26%(97.26%),\tTest : 96.69%(96.69%),\tCurrent Time: 20250721-142639\n"
     ]
    },
    {
     "name": "stderr",
     "output_type": "stream",
     "text": [
      "Epoch 51/100: 100%|\u001b[34m█████████████████\u001b[0m| 3000/3000 [00:38<00:00, 77.75batch/s, loss=0.095854]\u001b[0m\n"
     ]
    },
    {
     "name": "stdout",
     "output_type": "stream",
     "text": [
      "\t Loss: 287.779,\tTrain : 97.31%(97.31%),\tTest : 96.64%(96.69%),\tCurrent Time: 20250721-142718\n"
     ]
    },
    {
     "name": "stderr",
     "output_type": "stream",
     "text": [
      "Epoch 52/100: 100%|\u001b[34m█████████████████\u001b[0m| 3000/3000 [00:38<00:00, 78.03batch/s, loss=0.094202]\u001b[0m\n"
     ]
    },
    {
     "name": "stdout",
     "output_type": "stream",
     "text": [
      "\t Loss: 282.372,\tTrain : 97.40%(97.40%),\tTest : 96.72%(96.72%),\tCurrent Time: 20250721-142757\n"
     ]
    },
    {
     "name": "stderr",
     "output_type": "stream",
     "text": [
      "Epoch 53/100: 100%|\u001b[34m█████████████████\u001b[0m| 3000/3000 [00:39<00:00, 75.89batch/s, loss=0.092352]\u001b[0m\n"
     ]
    },
    {
     "name": "stdout",
     "output_type": "stream",
     "text": [
      "\t Loss: 277.578,\tTrain : 97.41%(97.41%),\tTest : 96.68%(96.72%),\tCurrent Time: 20250721-142837\n"
     ]
    },
    {
     "name": "stderr",
     "output_type": "stream",
     "text": [
      "Epoch 54/100: 100%|\u001b[34m█████████████████\u001b[0m| 3000/3000 [00:39<00:00, 75.96batch/s, loss=0.090693]\u001b[0m\n"
     ]
    },
    {
     "name": "stdout",
     "output_type": "stream",
     "text": [
      "\t Loss: 271.674,\tTrain : 97.47%(97.47%),\tTest : 96.71%(96.72%),\tCurrent Time: 20250721-142918\n"
     ]
    },
    {
     "name": "stderr",
     "output_type": "stream",
     "text": [
      "Epoch 55/100: 100%|\u001b[34m█████████████████\u001b[0m| 3000/3000 [00:39<00:00, 76.86batch/s, loss=0.088878]\u001b[0m\n"
     ]
    },
    {
     "name": "stdout",
     "output_type": "stream",
     "text": [
      "\t Loss: 267.046,\tTrain : 97.50%(97.50%),\tTest : 96.81%(96.81%),\tCurrent Time: 20250721-142957\n"
     ]
    },
    {
     "name": "stderr",
     "output_type": "stream",
     "text": [
      "Epoch 56/100: 100%|\u001b[34m█████████████████\u001b[0m| 3000/3000 [00:35<00:00, 83.38batch/s, loss=0.087214]\u001b[0m\n"
     ]
    },
    {
     "name": "stdout",
     "output_type": "stream",
     "text": [
      "\t Loss: 261.526,\tTrain : 97.54%(97.54%),\tTest : 96.84%(96.84%),\tCurrent Time: 20250721-143034\n"
     ]
    },
    {
     "name": "stderr",
     "output_type": "stream",
     "text": [
      "Epoch 57/100: 100%|\u001b[34m█████████████████\u001b[0m| 3000/3000 [00:34<00:00, 85.95batch/s, loss=0.085714]\u001b[0m\n"
     ]
    },
    {
     "name": "stdout",
     "output_type": "stream",
     "text": [
      "\t Loss: 257.047,\tTrain : 97.59%(97.59%),\tTest : 96.91%(96.91%),\tCurrent Time: 20250721-143109\n"
     ]
    },
    {
     "name": "stderr",
     "output_type": "stream",
     "text": [
      "Epoch 58/100: 100%|\u001b[34m█████████████████\u001b[0m| 3000/3000 [00:34<00:00, 86.62batch/s, loss=0.084167]\u001b[0m\n"
     ]
    },
    {
     "name": "stdout",
     "output_type": "stream",
     "text": [
      "\t Loss: 252.678,\tTrain : 97.66%(97.66%),\tTest : 96.96%(96.96%),\tCurrent Time: 20250721-143144\n"
     ]
    },
    {
     "name": "stderr",
     "output_type": "stream",
     "text": [
      "Epoch 59/100: 100%|\u001b[34m█████████████████\u001b[0m| 3000/3000 [00:35<00:00, 83.93batch/s, loss=0.082622]\u001b[0m\n"
     ]
    },
    {
     "name": "stdout",
     "output_type": "stream",
     "text": [
      "\t Loss: 248.130,\tTrain : 97.70%(97.70%),\tTest : 96.89%(96.96%),\tCurrent Time: 20250721-143221\n"
     ]
    },
    {
     "name": "stderr",
     "output_type": "stream",
     "text": [
      "Epoch 60/100: 100%|\u001b[34m█████████████████\u001b[0m| 3000/3000 [00:35<00:00, 84.99batch/s, loss=0.081435]\u001b[0m\n"
     ]
    },
    {
     "name": "stdout",
     "output_type": "stream",
     "text": [
      "\t Loss: 243.963,\tTrain : 97.75%(97.75%),\tTest : 96.97%(96.97%),\tCurrent Time: 20250721-143257\n"
     ]
    },
    {
     "name": "stderr",
     "output_type": "stream",
     "text": [
      "Epoch 61/100: 100%|\u001b[34m█████████████████\u001b[0m| 3000/3000 [00:35<00:00, 84.78batch/s, loss=0.079794]\u001b[0m\n"
     ]
    },
    {
     "name": "stdout",
     "output_type": "stream",
     "text": [
      "\t Loss: 239.621,\tTrain : 97.77%(97.77%),\tTest : 97.08%(97.08%),\tCurrent Time: 20250721-143333\n"
     ]
    },
    {
     "name": "stderr",
     "output_type": "stream",
     "text": [
      "Epoch 62/100: 100%|\u001b[34m█████████████████\u001b[0m| 3000/3000 [00:35<00:00, 84.90batch/s, loss=0.078581]\u001b[0m\n"
     ]
    },
    {
     "name": "stdout",
     "output_type": "stream",
     "text": [
      "\t Loss: 235.462,\tTrain : 97.80%(97.80%),\tTest : 97.05%(97.08%),\tCurrent Time: 20250721-143409\n"
     ]
    },
    {
     "name": "stderr",
     "output_type": "stream",
     "text": [
      "Epoch 63/100: 100%|\u001b[34m█████████████████\u001b[0m| 3000/3000 [00:35<00:00, 84.54batch/s, loss=0.077406]\u001b[0m\n"
     ]
    },
    {
     "name": "stdout",
     "output_type": "stream",
     "text": [
      "\t Loss: 231.900,\tTrain : 97.87%(97.87%),\tTest : 97.06%(97.08%),\tCurrent Time: 20250721-143445\n"
     ]
    },
    {
     "name": "stderr",
     "output_type": "stream",
     "text": [
      "Epoch 64/100: 100%|\u001b[34m█████████████████\u001b[0m| 3000/3000 [00:34<00:00, 86.52batch/s, loss=0.075940]\u001b[0m\n"
     ]
    },
    {
     "name": "stdout",
     "output_type": "stream",
     "text": [
      "\t Loss: 227.779,\tTrain : 97.90%(97.90%),\tTest : 97.07%(97.08%),\tCurrent Time: 20250721-143520\n"
     ]
    },
    {
     "name": "stderr",
     "output_type": "stream",
     "text": [
      "Epoch 65/100: 100%|\u001b[34m█████████████████\u001b[0m| 3000/3000 [00:35<00:00, 84.58batch/s, loss=0.074824]\u001b[0m\n"
     ]
    },
    {
     "name": "stdout",
     "output_type": "stream",
     "text": [
      "\t Loss: 224.236,\tTrain : 97.91%(97.91%),\tTest : 97.11%(97.11%),\tCurrent Time: 20250721-143556\n"
     ]
    },
    {
     "name": "stderr",
     "output_type": "stream",
     "text": [
      "Epoch 66/100: 100%|\u001b[34m█████████████████\u001b[0m| 3000/3000 [00:35<00:00, 84.99batch/s, loss=0.073505]\u001b[0m\n"
     ]
    },
    {
     "name": "stdout",
     "output_type": "stream",
     "text": [
      "\t Loss: 220.246,\tTrain : 97.97%(97.97%),\tTest : 97.22%(97.22%),\tCurrent Time: 20250721-143632\n"
     ]
    },
    {
     "name": "stderr",
     "output_type": "stream",
     "text": [
      "Epoch 67/100: 100%|\u001b[34m█████████████████\u001b[0m| 3000/3000 [00:35<00:00, 84.70batch/s, loss=0.072211]\u001b[0m\n"
     ]
    },
    {
     "name": "stdout",
     "output_type": "stream",
     "text": [
      "\t Loss: 216.470,\tTrain : 98.00%(98.00%),\tTest : 97.26%(97.26%),\tCurrent Time: 20250721-143708\n"
     ]
    },
    {
     "name": "stderr",
     "output_type": "stream",
     "text": [
      "Epoch 68/100: 100%|\u001b[34m█████████████████\u001b[0m| 3000/3000 [00:35<00:00, 84.29batch/s, loss=0.070914]\u001b[0m\n"
     ]
    },
    {
     "name": "stdout",
     "output_type": "stream",
     "text": [
      "\t Loss: 212.869,\tTrain : 98.02%(98.02%),\tTest : 97.18%(97.26%),\tCurrent Time: 20250721-143744\n"
     ]
    },
    {
     "name": "stderr",
     "output_type": "stream",
     "text": [
      "Epoch 69/100: 100%|\u001b[34m█████████████████\u001b[0m| 3000/3000 [00:35<00:00, 84.31batch/s, loss=0.069756]\u001b[0m\n"
     ]
    },
    {
     "name": "stdout",
     "output_type": "stream",
     "text": [
      "\t Loss: 209.681,\tTrain : 98.09%(98.09%),\tTest : 97.27%(97.27%),\tCurrent Time: 20250721-143820\n"
     ]
    },
    {
     "name": "stderr",
     "output_type": "stream",
     "text": [
      "Epoch 70/100: 100%|\u001b[34m█████████████████\u001b[0m| 3000/3000 [00:35<00:00, 85.22batch/s, loss=0.068529]\u001b[0m\n"
     ]
    },
    {
     "name": "stdout",
     "output_type": "stream",
     "text": [
      "\t Loss: 205.756,\tTrain : 98.11%(98.11%),\tTest : 97.22%(97.27%),\tCurrent Time: 20250721-143856\n"
     ]
    },
    {
     "name": "stderr",
     "output_type": "stream",
     "text": [
      "Epoch 71/100: 100%|\u001b[34m█████████████████\u001b[0m| 3000/3000 [00:35<00:00, 85.30batch/s, loss=0.067693]\u001b[0m\n"
     ]
    },
    {
     "name": "stdout",
     "output_type": "stream",
     "text": [
      "\t Loss: 202.953,\tTrain : 98.14%(98.14%),\tTest : 97.17%(97.27%),\tCurrent Time: 20250721-143932\n"
     ]
    },
    {
     "name": "stderr",
     "output_type": "stream",
     "text": [
      "Epoch 72/100: 100%|\u001b[34m█████████████████\u001b[0m| 3000/3000 [00:35<00:00, 84.82batch/s, loss=0.066742]\u001b[0m\n"
     ]
    },
    {
     "name": "stdout",
     "output_type": "stream",
     "text": [
      "\t Loss: 199.991,\tTrain : 98.18%(98.18%),\tTest : 97.30%(97.30%),\tCurrent Time: 20250721-144008\n"
     ]
    },
    {
     "name": "stderr",
     "output_type": "stream",
     "text": [
      "Epoch 73/100: 100%|\u001b[34m█████████████████\u001b[0m| 3000/3000 [00:35<00:00, 83.92batch/s, loss=0.065638]\u001b[0m\n"
     ]
    },
    {
     "name": "stdout",
     "output_type": "stream",
     "text": [
      "\t Loss: 196.651,\tTrain : 98.20%(98.20%),\tTest : 97.34%(97.34%),\tCurrent Time: 20250721-144044\n"
     ]
    },
    {
     "name": "stderr",
     "output_type": "stream",
     "text": [
      "Epoch 74/100: 100%|\u001b[34m█████████████████\u001b[0m| 3000/3000 [00:35<00:00, 83.75batch/s, loss=0.064489]\u001b[0m\n"
     ]
    },
    {
     "name": "stdout",
     "output_type": "stream",
     "text": [
      "\t Loss: 193.409,\tTrain : 98.22%(98.22%),\tTest : 97.42%(97.42%),\tCurrent Time: 20250721-144120\n"
     ]
    },
    {
     "name": "stderr",
     "output_type": "stream",
     "text": [
      "Epoch 75/100: 100%|\u001b[34m█████████████████\u001b[0m| 3000/3000 [00:34<00:00, 87.59batch/s, loss=0.063338]\u001b[0m\n"
     ]
    },
    {
     "name": "stdout",
     "output_type": "stream",
     "text": [
      "\t Loss: 190.070,\tTrain : 98.26%(98.26%),\tTest : 97.43%(97.43%),\tCurrent Time: 20250721-144155\n"
     ]
    },
    {
     "name": "stderr",
     "output_type": "stream",
     "text": [
      "Epoch 76/100: 100%|\u001b[34m█████████████████\u001b[0m| 3000/3000 [00:34<00:00, 87.42batch/s, loss=0.062432]\u001b[0m\n"
     ]
    },
    {
     "name": "stdout",
     "output_type": "stream",
     "text": [
      "\t Loss: 187.357,\tTrain : 98.30%(98.30%),\tTest : 97.35%(97.43%),\tCurrent Time: 20250721-144230\n"
     ]
    },
    {
     "name": "stderr",
     "output_type": "stream",
     "text": [
      "Epoch 77/100: 100%|\u001b[34m█████████████████\u001b[0m| 3000/3000 [00:35<00:00, 84.44batch/s, loss=0.061501]\u001b[0m\n"
     ]
    },
    {
     "name": "stdout",
     "output_type": "stream",
     "text": [
      "\t Loss: 184.313,\tTrain : 98.32%(98.32%),\tTest : 97.41%(97.43%),\tCurrent Time: 20250721-144306\n"
     ]
    },
    {
     "name": "stderr",
     "output_type": "stream",
     "text": [
      "Epoch 78/100: 100%|\u001b[34m█████████████████\u001b[0m| 3000/3000 [00:34<00:00, 86.85batch/s, loss=0.060359]\u001b[0m\n"
     ]
    },
    {
     "name": "stdout",
     "output_type": "stream",
     "text": [
      "\t Loss: 181.634,\tTrain : 98.33%(98.33%),\tTest : 97.31%(97.43%),\tCurrent Time: 20250721-144341\n"
     ]
    },
    {
     "name": "stderr",
     "output_type": "stream",
     "text": [
      "Epoch 79/100: 100%|\u001b[34m█████████████████\u001b[0m| 3000/3000 [00:35<00:00, 85.01batch/s, loss=0.059700]\u001b[0m\n"
     ]
    },
    {
     "name": "stdout",
     "output_type": "stream",
     "text": [
      "\t Loss: 178.831,\tTrain : 98.39%(98.39%),\tTest : 97.45%(97.45%),\tCurrent Time: 20250721-144417\n"
     ]
    },
    {
     "name": "stderr",
     "output_type": "stream",
     "text": [
      "Epoch 80/100: 100%|\u001b[34m█████████████████\u001b[0m| 3000/3000 [00:35<00:00, 84.87batch/s, loss=0.058520]\u001b[0m\n"
     ]
    },
    {
     "name": "stdout",
     "output_type": "stream",
     "text": [
      "\t Loss: 175.879,\tTrain : 98.40%(98.40%),\tTest : 97.47%(97.47%),\tCurrent Time: 20250721-144453\n"
     ]
    },
    {
     "name": "stderr",
     "output_type": "stream",
     "text": [
      "Epoch 81/100: 100%|\u001b[34m█████████████████\u001b[0m| 3000/3000 [00:35<00:00, 84.76batch/s, loss=0.057685]\u001b[0m\n"
     ]
    },
    {
     "name": "stdout",
     "output_type": "stream",
     "text": [
      "\t Loss: 173.188,\tTrain : 98.45%(98.45%),\tTest : 97.36%(97.47%),\tCurrent Time: 20250721-144529\n"
     ]
    },
    {
     "name": "stderr",
     "output_type": "stream",
     "text": [
      "Epoch 82/100: 100%|\u001b[34m█████████████████\u001b[0m| 3000/3000 [00:34<00:00, 86.18batch/s, loss=0.056940]\u001b[0m\n"
     ]
    },
    {
     "name": "stdout",
     "output_type": "stream",
     "text": [
      "\t Loss: 170.798,\tTrain : 98.47%(98.47%),\tTest : 97.53%(97.53%),\tCurrent Time: 20250721-144605\n"
     ]
    },
    {
     "name": "stderr",
     "output_type": "stream",
     "text": [
      "Epoch 83/100: 100%|\u001b[34m█████████████████\u001b[0m| 3000/3000 [00:35<00:00, 84.99batch/s, loss=0.055909]\u001b[0m\n"
     ]
    },
    {
     "name": "stdout",
     "output_type": "stream",
     "text": [
      "\t Loss: 167.814,\tTrain : 98.51%(98.51%),\tTest : 97.57%(97.57%),\tCurrent Time: 20250721-144640\n"
     ]
    },
    {
     "name": "stderr",
     "output_type": "stream",
     "text": [
      "Epoch 84/100: 100%|\u001b[34m█████████████████\u001b[0m| 3000/3000 [00:34<00:00, 87.95batch/s, loss=0.055111]\u001b[0m\n"
     ]
    },
    {
     "name": "stdout",
     "output_type": "stream",
     "text": [
      "\t Loss: 165.217,\tTrain : 98.50%(98.51%),\tTest : 97.31%(97.57%),\tCurrent Time: 20250721-144715\n"
     ]
    },
    {
     "name": "stderr",
     "output_type": "stream",
     "text": [
      "Epoch 85/100: 100%|\u001b[34m█████████████████\u001b[0m| 3000/3000 [00:34<00:00, 87.58batch/s, loss=0.054233]\u001b[0m\n"
     ]
    },
    {
     "name": "stdout",
     "output_type": "stream",
     "text": [
      "\t Loss: 162.758,\tTrain : 98.57%(98.57%),\tTest : 97.47%(97.57%),\tCurrent Time: 20250721-144750\n"
     ]
    },
    {
     "name": "stderr",
     "output_type": "stream",
     "text": [
      "Epoch 86/100: 100%|\u001b[34m█████████████████\u001b[0m| 3000/3000 [00:33<00:00, 88.48batch/s, loss=0.053614]\u001b[0m\n"
     ]
    },
    {
     "name": "stdout",
     "output_type": "stream",
     "text": [
      "\t Loss: 160.842,\tTrain : 98.58%(98.58%),\tTest : 97.47%(97.57%),\tCurrent Time: 20250721-144825\n"
     ]
    },
    {
     "name": "stderr",
     "output_type": "stream",
     "text": [
      "Epoch 87/100: 100%|\u001b[34m█████████████████\u001b[0m| 3000/3000 [00:35<00:00, 84.15batch/s, loss=0.052761]\u001b[0m\n"
     ]
    },
    {
     "name": "stdout",
     "output_type": "stream",
     "text": [
      "\t Loss: 158.280,\tTrain : 98.61%(98.61%),\tTest : 97.50%(97.57%),\tCurrent Time: 20250721-144901\n"
     ]
    },
    {
     "name": "stderr",
     "output_type": "stream",
     "text": [
      "Epoch 88/100: 100%|\u001b[34m█████████████████\u001b[0m| 3000/3000 [00:35<00:00, 83.48batch/s, loss=0.051993]\u001b[0m\n"
     ]
    },
    {
     "name": "stdout",
     "output_type": "stream",
     "text": [
      "\t Loss: 155.998,\tTrain : 98.66%(98.66%),\tTest : 97.66%(97.66%),\tCurrent Time: 20250721-144937\n"
     ]
    },
    {
     "name": "stderr",
     "output_type": "stream",
     "text": [
      "Epoch 89/100: 100%|\u001b[34m█████████████████\u001b[0m| 3000/3000 [00:35<00:00, 84.46batch/s, loss=0.051169]\u001b[0m\n"
     ]
    },
    {
     "name": "stdout",
     "output_type": "stream",
     "text": [
      "\t Loss: 153.372,\tTrain : 98.65%(98.66%),\tTest : 97.61%(97.66%),\tCurrent Time: 20250721-145013\n"
     ]
    },
    {
     "name": "stderr",
     "output_type": "stream",
     "text": [
      "Epoch 90/100: 100%|\u001b[34m█████████████████\u001b[0m| 3000/3000 [00:36<00:00, 83.16batch/s, loss=0.050444]\u001b[0m\n"
     ]
    },
    {
     "name": "stdout",
     "output_type": "stream",
     "text": [
      "\t Loss: 151.382,\tTrain : 98.68%(98.68%),\tTest : 97.61%(97.66%),\tCurrent Time: 20250721-145050\n"
     ]
    },
    {
     "name": "stderr",
     "output_type": "stream",
     "text": [
      "Epoch 91/100: 100%|\u001b[34m█████████████████\u001b[0m| 3000/3000 [00:35<00:00, 83.82batch/s, loss=0.049690]\u001b[0m\n"
     ]
    },
    {
     "name": "stdout",
     "output_type": "stream",
     "text": [
      "\t Loss: 149.151,\tTrain : 98.67%(98.68%),\tTest : 97.66%(97.66%),\tCurrent Time: 20250721-145126\n"
     ]
    },
    {
     "name": "stderr",
     "output_type": "stream",
     "text": [
      "Epoch 92/100: 100%|\u001b[34m█████████████████\u001b[0m| 3000/3000 [00:35<00:00, 84.82batch/s, loss=0.049007]\u001b[0m\n"
     ]
    },
    {
     "name": "stdout",
     "output_type": "stream",
     "text": [
      "\t Loss: 147.190,\tTrain : 98.73%(98.73%),\tTest : 97.64%(97.66%),\tCurrent Time: 20250721-145202\n"
     ]
    },
    {
     "name": "stderr",
     "output_type": "stream",
     "text": [
      "Epoch 93/100: 100%|\u001b[34m█████████████████\u001b[0m| 3000/3000 [00:34<00:00, 86.76batch/s, loss=0.048317]\u001b[0m\n"
     ]
    },
    {
     "name": "stdout",
     "output_type": "stream",
     "text": [
      "\t Loss: 144.757,\tTrain : 98.74%(98.74%),\tTest : 97.64%(97.66%),\tCurrent Time: 20250721-145238\n"
     ]
    },
    {
     "name": "stderr",
     "output_type": "stream",
     "text": [
      "Epoch 94/100: 100%|\u001b[34m█████████████████\u001b[0m| 3000/3000 [00:34<00:00, 87.76batch/s, loss=0.047651]\u001b[0m\n"
     ]
    },
    {
     "name": "stdout",
     "output_type": "stream",
     "text": [
      "\t Loss: 142.805,\tTrain : 98.76%(98.76%),\tTest : 97.62%(97.66%),\tCurrent Time: 20250721-145312\n"
     ]
    },
    {
     "name": "stderr",
     "output_type": "stream",
     "text": [
      "Epoch 95/100: 100%|\u001b[34m█████████████████\u001b[0m| 3000/3000 [00:35<00:00, 85.01batch/s, loss=0.046749]\u001b[0m\n"
     ]
    },
    {
     "name": "stdout",
     "output_type": "stream",
     "text": [
      "\t Loss: 140.094,\tTrain : 98.82%(98.82%),\tTest : 97.65%(97.66%),\tCurrent Time: 20250721-145348\n"
     ]
    },
    {
     "name": "stderr",
     "output_type": "stream",
     "text": [
      "Epoch 96/100: 100%|\u001b[34m█████████████████\u001b[0m| 3000/3000 [00:35<00:00, 83.96batch/s, loss=0.046179]\u001b[0m\n"
     ]
    },
    {
     "name": "stdout",
     "output_type": "stream",
     "text": [
      "\t Loss: 138.522,\tTrain : 98.87%(98.87%),\tTest : 97.66%(97.66%),\tCurrent Time: 20250721-145425\n"
     ]
    },
    {
     "name": "stderr",
     "output_type": "stream",
     "text": [
      "Epoch 97/100: 100%|\u001b[34m█████████████████\u001b[0m| 3000/3000 [00:35<00:00, 84.99batch/s, loss=0.045399]\u001b[0m\n"
     ]
    },
    {
     "name": "stdout",
     "output_type": "stream",
     "text": [
      "\t Loss: 136.530,\tTrain : 98.86%(98.87%),\tTest : 97.76%(97.76%),\tCurrent Time: 20250721-145500\n"
     ]
    },
    {
     "name": "stderr",
     "output_type": "stream",
     "text": [
      "Epoch 98/100: 100%|\u001b[34m█████████████████\u001b[0m| 3000/3000 [00:36<00:00, 83.14batch/s, loss=0.044861]\u001b[0m\n"
     ]
    },
    {
     "name": "stdout",
     "output_type": "stream",
     "text": [
      "\t Loss: 134.470,\tTrain : 98.86%(98.87%),\tTest : 97.72%(97.76%),\tCurrent Time: 20250721-145537\n"
     ]
    },
    {
     "name": "stderr",
     "output_type": "stream",
     "text": [
      "Epoch 99/100: 100%|\u001b[34m█████████████████\u001b[0m| 3000/3000 [00:35<00:00, 85.38batch/s, loss=0.044317]\u001b[0m\n"
     ]
    },
    {
     "name": "stdout",
     "output_type": "stream",
     "text": [
      "\t Loss: 133.116,\tTrain : 98.91%(98.91%),\tTest : 97.70%(97.76%),\tCurrent Time: 20250721-145613\n"
     ]
    },
    {
     "name": "stderr",
     "output_type": "stream",
     "text": [
      "Epoch 100/100: 100%|\u001b[34m████████████████\u001b[0m| 3000/3000 [00:35<00:00, 83.38batch/s, loss=0.043679]\u001b[0m\n"
     ]
    },
    {
     "name": "stdout",
     "output_type": "stream",
     "text": [
      "\t Loss: 130.919,\tTrain : 98.93%(98.93%),\tTest : 97.66%(97.76%),\tCurrent Time: 20250721-145649\n",
      "EP_L3_MNIST_First_symm_LN_t2sta2_bs20-EP_b_sc0.01-EP_It2sta18- Time: 20250721-145649, Epochs: 100, Learning Rate: 0.001, Best: 98.93%  97.76%\n",
      "\n",
      "EP_L3_MNIST_First_symm_LN_t2sta2_bs20-EP_b_sc0.01-EP_It2sta18-\n"
     ]
    },
    {
     "name": "stderr",
     "output_type": "stream",
     "text": [
      "Epoch 1/100: 100%|\u001b[34m██████████████████\u001b[0m| 3000/3000 [00:35<00:00, 83.52batch/s, loss=0.664155]\u001b[0m\n"
     ]
    },
    {
     "name": "stdout",
     "output_type": "stream",
     "text": [
      "\t Loss: 1989.805,\tTrain : 82.82%(82.82%),\tTest : 88.85%(88.85%),\tCurrent Time: 20250721-145726\n"
     ]
    },
    {
     "name": "stderr",
     "output_type": "stream",
     "text": [
      "Epoch 2/100: 100%|\u001b[34m██████████████████\u001b[0m| 3000/3000 [00:35<00:00, 85.22batch/s, loss=0.393304]\u001b[0m\n"
     ]
    },
    {
     "name": "stdout",
     "output_type": "stream",
     "text": [
      "\t Loss: 1180.407,\tTrain : 88.74%(88.74%),\tTest : 90.02%(90.02%),\tCurrent Time: 20250721-145802\n"
     ]
    },
    {
     "name": "stderr",
     "output_type": "stream",
     "text": [
      "Epoch 3/100: 100%|\u001b[34m██████████████████\u001b[0m| 3000/3000 [00:35<00:00, 83.55batch/s, loss=0.352920]\u001b[0m\n"
     ]
    },
    {
     "name": "stdout",
     "output_type": "stream",
     "text": [
      "\t Loss: 1058.820,\tTrain : 89.75%(89.75%),\tTest : 90.55%(90.55%),\tCurrent Time: 20250721-145838\n"
     ]
    },
    {
     "name": "stderr",
     "output_type": "stream",
     "text": [
      "Epoch 4/100: 100%|\u001b[34m██████████████████\u001b[0m| 3000/3000 [00:35<00:00, 83.84batch/s, loss=0.332319]\u001b[0m\n"
     ]
    },
    {
     "name": "stdout",
     "output_type": "stream",
     "text": [
      "\t Loss: 996.128,\tTrain : 90.47%(90.47%),\tTest : 91.27%(91.27%),\tCurrent Time: 20250721-145914\n"
     ]
    },
    {
     "name": "stderr",
     "output_type": "stream",
     "text": [
      "Epoch 5/100: 100%|\u001b[34m██████████████████\u001b[0m| 3000/3000 [00:35<00:00, 84.58batch/s, loss=0.317545]\u001b[0m\n"
     ]
    },
    {
     "name": "stdout",
     "output_type": "stream",
     "text": [
      "\t Loss: 953.904,\tTrain : 90.89%(90.89%),\tTest : 91.62%(91.62%),\tCurrent Time: 20250721-145951\n"
     ]
    },
    {
     "name": "stderr",
     "output_type": "stream",
     "text": [
      "Epoch 6/100: 100%|\u001b[34m██████████████████\u001b[0m| 3000/3000 [00:35<00:00, 84.17batch/s, loss=0.307506]\u001b[0m\n"
     ]
    },
    {
     "name": "stdout",
     "output_type": "stream",
     "text": [
      "\t Loss: 921.844,\tTrain : 91.22%(91.22%),\tTest : 91.78%(91.78%),\tCurrent Time: 20250721-150027\n"
     ]
    },
    {
     "name": "stderr",
     "output_type": "stream",
     "text": [
      "Epoch 7/100: 100%|\u001b[34m██████████████████\u001b[0m| 3000/3000 [00:35<00:00, 84.41batch/s, loss=0.298259]\u001b[0m\n"
     ]
    },
    {
     "name": "stdout",
     "output_type": "stream",
     "text": [
      "\t Loss: 894.578,\tTrain : 91.56%(91.56%),\tTest : 91.76%(91.78%),\tCurrent Time: 20250721-150103\n"
     ]
    },
    {
     "name": "stderr",
     "output_type": "stream",
     "text": [
      "Epoch 8/100: 100%|\u001b[34m██████████████████\u001b[0m| 3000/3000 [00:34<00:00, 85.89batch/s, loss=0.290253]\u001b[0m\n"
     ]
    },
    {
     "name": "stdout",
     "output_type": "stream",
     "text": [
      "\t Loss: 870.902,\tTrain : 91.77%(91.77%),\tTest : 91.98%(91.98%),\tCurrent Time: 20250721-150138\n"
     ]
    },
    {
     "name": "stderr",
     "output_type": "stream",
     "text": [
      "Epoch 9/100: 100%|\u001b[34m██████████████████\u001b[0m| 3000/3000 [00:34<00:00, 85.81batch/s, loss=0.282712]\u001b[0m\n"
     ]
    },
    {
     "name": "stdout",
     "output_type": "stream",
     "text": [
      "\t Loss: 848.761,\tTrain : 91.98%(91.98%),\tTest : 92.19%(92.19%),\tCurrent Time: 20250721-150214\n"
     ]
    },
    {
     "name": "stderr",
     "output_type": "stream",
     "text": [
      "Epoch 10/100: 100%|\u001b[34m█████████████████\u001b[0m| 3000/3000 [00:34<00:00, 86.88batch/s, loss=0.275780]\u001b[0m\n"
     ]
    },
    {
     "name": "stdout",
     "output_type": "stream",
     "text": [
      "\t Loss: 827.776,\tTrain : 92.19%(92.19%),\tTest : 92.21%(92.21%),\tCurrent Time: 20250721-150249\n"
     ]
    },
    {
     "name": "stderr",
     "output_type": "stream",
     "text": [
      "Epoch 11/100: 100%|\u001b[34m█████████████████\u001b[0m| 3000/3000 [00:34<00:00, 87.20batch/s, loss=0.269627]\u001b[0m\n"
     ]
    },
    {
     "name": "stdout",
     "output_type": "stream",
     "text": [
      "\t Loss: 808.159,\tTrain : 92.42%(92.42%),\tTest : 92.64%(92.64%),\tCurrent Time: 20250721-150324\n"
     ]
    },
    {
     "name": "stderr",
     "output_type": "stream",
     "text": [
      "Epoch 12/100: 100%|\u001b[34m█████████████████\u001b[0m| 3000/3000 [00:34<00:00, 86.26batch/s, loss=0.262615]\u001b[0m\n"
     ]
    },
    {
     "name": "stdout",
     "output_type": "stream",
     "text": [
      "\t Loss: 787.304,\tTrain : 92.63%(92.63%),\tTest : 92.77%(92.77%),\tCurrent Time: 20250721-150359\n"
     ]
    },
    {
     "name": "stderr",
     "output_type": "stream",
     "text": [
      "Epoch 13/100: 100%|\u001b[34m█████████████████\u001b[0m| 3000/3000 [00:34<00:00, 86.34batch/s, loss=0.255861]\u001b[0m\n"
     ]
    },
    {
     "name": "stdout",
     "output_type": "stream",
     "text": [
      "\t Loss: 767.230,\tTrain : 92.85%(92.85%),\tTest : 92.94%(92.94%),\tCurrent Time: 20250721-150435\n"
     ]
    },
    {
     "name": "stderr",
     "output_type": "stream",
     "text": [
      "Epoch 14/100: 100%|\u001b[34m█████████████████\u001b[0m| 3000/3000 [00:34<00:00, 86.30batch/s, loss=0.248535]\u001b[0m\n"
     ]
    },
    {
     "name": "stdout",
     "output_type": "stream",
     "text": [
      "\t Loss: 745.655,\tTrain : 93.06%(93.06%),\tTest : 92.97%(92.97%),\tCurrent Time: 20250721-150510\n"
     ]
    },
    {
     "name": "stderr",
     "output_type": "stream",
     "text": [
      "Epoch 15/100: 100%|\u001b[34m█████████████████\u001b[0m| 3000/3000 [00:35<00:00, 84.89batch/s, loss=0.242004]\u001b[0m\n"
     ]
    },
    {
     "name": "stdout",
     "output_type": "stream",
     "text": [
      "\t Loss: 725.376,\tTrain : 93.23%(93.23%),\tTest : 93.22%(93.22%),\tCurrent Time: 20250721-150546\n"
     ]
    },
    {
     "name": "stderr",
     "output_type": "stream",
     "text": [
      "Epoch 16/100: 100%|\u001b[34m█████████████████\u001b[0m| 3000/3000 [00:35<00:00, 83.86batch/s, loss=0.234391]\u001b[0m\n"
     ]
    },
    {
     "name": "stdout",
     "output_type": "stream",
     "text": [
      "\t Loss: 704.286,\tTrain : 93.47%(93.47%),\tTest : 93.30%(93.30%),\tCurrent Time: 20250721-150622\n"
     ]
    },
    {
     "name": "stderr",
     "output_type": "stream",
     "text": [
      "Epoch 17/100: 100%|\u001b[34m█████████████████\u001b[0m| 3000/3000 [00:35<00:00, 84.88batch/s, loss=0.228027]\u001b[0m\n"
     ]
    },
    {
     "name": "stdout",
     "output_type": "stream",
     "text": [
      "\t Loss: 683.805,\tTrain : 93.61%(93.61%),\tTest : 93.56%(93.56%),\tCurrent Time: 20250721-150658\n"
     ]
    },
    {
     "name": "stderr",
     "output_type": "stream",
     "text": [
      "Epoch 18/100: 100%|\u001b[34m█████████████████\u001b[0m| 3000/3000 [00:33<00:00, 89.27batch/s, loss=0.220756]\u001b[0m\n"
     ]
    },
    {
     "name": "stdout",
     "output_type": "stream",
     "text": [
      "\t Loss: 662.284,\tTrain : 93.81%(93.81%),\tTest : 93.70%(93.70%),\tCurrent Time: 20250721-150733\n"
     ]
    },
    {
     "name": "stderr",
     "output_type": "stream",
     "text": [
      "Epoch 19/100: 100%|\u001b[34m█████████████████\u001b[0m| 3000/3000 [00:35<00:00, 83.84batch/s, loss=0.213344]\u001b[0m\n"
     ]
    },
    {
     "name": "stdout",
     "output_type": "stream",
     "text": [
      "\t Loss: 641.211,\tTrain : 94.04%(94.04%),\tTest : 94.07%(94.07%),\tCurrent Time: 20250721-150809\n"
     ]
    },
    {
     "name": "stderr",
     "output_type": "stream",
     "text": [
      "Epoch 20/100: 100%|\u001b[34m█████████████████\u001b[0m| 3000/3000 [00:35<00:00, 83.63batch/s, loss=0.207476]\u001b[0m\n"
     ]
    },
    {
     "name": "stdout",
     "output_type": "stream",
     "text": [
      "\t Loss: 622.245,\tTrain : 94.20%(94.20%),\tTest : 94.11%(94.11%),\tCurrent Time: 20250721-150846\n"
     ]
    },
    {
     "name": "stderr",
     "output_type": "stream",
     "text": [
      "Epoch 21/100: 100%|\u001b[34m█████████████████\u001b[0m| 3000/3000 [00:34<00:00, 86.21batch/s, loss=0.200790]\u001b[0m\n"
     ]
    },
    {
     "name": "stdout",
     "output_type": "stream",
     "text": [
      "\t Loss: 602.773,\tTrain : 94.39%(94.39%),\tTest : 94.24%(94.24%),\tCurrent Time: 20250721-150921\n"
     ]
    },
    {
     "name": "stderr",
     "output_type": "stream",
     "text": [
      "Epoch 22/100: 100%|\u001b[34m█████████████████\u001b[0m| 3000/3000 [00:34<00:00, 86.41batch/s, loss=0.194577]\u001b[0m\n"
     ]
    },
    {
     "name": "stdout",
     "output_type": "stream",
     "text": [
      "\t Loss: 583.413,\tTrain : 94.57%(94.57%),\tTest : 94.33%(94.33%),\tCurrent Time: 20250721-150956\n"
     ]
    },
    {
     "name": "stderr",
     "output_type": "stream",
     "text": [
      "Epoch 23/100: 100%|\u001b[34m█████████████████\u001b[0m| 3000/3000 [00:34<00:00, 87.28batch/s, loss=0.188474]\u001b[0m\n"
     ]
    },
    {
     "name": "stdout",
     "output_type": "stream",
     "text": [
      "\t Loss: 565.115,\tTrain : 94.75%(94.75%),\tTest : 94.49%(94.49%),\tCurrent Time: 20250721-151031\n"
     ]
    },
    {
     "name": "stderr",
     "output_type": "stream",
     "text": [
      "Epoch 24/100: 100%|\u001b[34m█████████████████\u001b[0m| 3000/3000 [00:34<00:00, 88.12batch/s, loss=0.183110]\u001b[0m\n"
     ]
    },
    {
     "name": "stdout",
     "output_type": "stream",
     "text": [
      "\t Loss: 549.374,\tTrain : 94.85%(94.85%),\tTest : 94.80%(94.80%),\tCurrent Time: 20250721-151106\n"
     ]
    },
    {
     "name": "stderr",
     "output_type": "stream",
     "text": [
      "Epoch 25/100: 100%|\u001b[34m█████████████████\u001b[0m| 3000/3000 [00:35<00:00, 85.07batch/s, loss=0.177533]\u001b[0m\n"
     ]
    },
    {
     "name": "stdout",
     "output_type": "stream",
     "text": [
      "\t Loss: 532.624,\tTrain : 95.02%(95.02%),\tTest : 94.85%(94.85%),\tCurrent Time: 20250721-151142\n"
     ]
    },
    {
     "name": "stderr",
     "output_type": "stream",
     "text": [
      "Epoch 26/100: 100%|\u001b[34m█████████████████\u001b[0m| 3000/3000 [00:35<00:00, 84.76batch/s, loss=0.172477]\u001b[0m\n"
     ]
    },
    {
     "name": "stdout",
     "output_type": "stream",
     "text": [
      "\t Loss: 516.935,\tTrain : 95.17%(95.17%),\tTest : 95.02%(95.02%),\tCurrent Time: 20250721-151218\n"
     ]
    },
    {
     "name": "stderr",
     "output_type": "stream",
     "text": [
      "Epoch 27/100: 100%|\u001b[34m█████████████████\u001b[0m| 3000/3000 [00:35<00:00, 84.62batch/s, loss=0.167327]\u001b[0m\n"
     ]
    },
    {
     "name": "stdout",
     "output_type": "stream",
     "text": [
      "\t Loss: 501.201,\tTrain : 95.27%(95.27%),\tTest : 94.96%(95.02%),\tCurrent Time: 20250721-151254\n"
     ]
    },
    {
     "name": "stderr",
     "output_type": "stream",
     "text": [
      "Epoch 28/100: 100%|\u001b[34m█████████████████\u001b[0m| 3000/3000 [00:33<00:00, 88.43batch/s, loss=0.162433]\u001b[0m\n"
     ]
    },
    {
     "name": "stdout",
     "output_type": "stream",
     "text": [
      "\t Loss: 487.254,\tTrain : 95.39%(95.39%),\tTest : 95.38%(95.38%),\tCurrent Time: 20250721-151328\n"
     ]
    },
    {
     "name": "stderr",
     "output_type": "stream",
     "text": [
      "Epoch 29/100: 100%|\u001b[34m█████████████████\u001b[0m| 3000/3000 [00:34<00:00, 86.81batch/s, loss=0.158104]\u001b[0m\n"
     ]
    },
    {
     "name": "stdout",
     "output_type": "stream",
     "text": [
      "\t Loss: 473.850,\tTrain : 95.56%(95.56%),\tTest : 95.33%(95.38%),\tCurrent Time: 20250721-151403\n"
     ]
    },
    {
     "name": "stderr",
     "output_type": "stream",
     "text": [
      "Epoch 30/100: 100%|\u001b[34m█████████████████\u001b[0m| 3000/3000 [00:34<00:00, 88.15batch/s, loss=0.153383]\u001b[0m\n"
     ]
    },
    {
     "name": "stdout",
     "output_type": "stream",
     "text": [
      "\t Loss: 460.597,\tTrain : 95.67%(95.67%),\tTest : 95.50%(95.50%),\tCurrent Time: 20250721-151438\n"
     ]
    },
    {
     "name": "stderr",
     "output_type": "stream",
     "text": [
      "Epoch 31/100: 100%|\u001b[34m█████████████████\u001b[0m| 3000/3000 [00:35<00:00, 84.29batch/s, loss=0.149694]\u001b[0m\n"
     ]
    },
    {
     "name": "stdout",
     "output_type": "stream",
     "text": [
      "\t Loss: 449.140,\tTrain : 95.83%(95.83%),\tTest : 95.59%(95.59%),\tCurrent Time: 20250721-151514\n"
     ]
    },
    {
     "name": "stderr",
     "output_type": "stream",
     "text": [
      "Epoch 32/100: 100%|\u001b[34m█████████████████\u001b[0m| 3000/3000 [00:35<00:00, 83.51batch/s, loss=0.145632]\u001b[0m\n"
     ]
    },
    {
     "name": "stdout",
     "output_type": "stream",
     "text": [
      "\t Loss: 437.070,\tTrain : 95.86%(95.86%),\tTest : 95.68%(95.68%),\tCurrent Time: 20250721-151551\n"
     ]
    },
    {
     "name": "stderr",
     "output_type": "stream",
     "text": [
      "Epoch 33/100: 100%|\u001b[34m█████████████████\u001b[0m| 3000/3000 [00:35<00:00, 84.70batch/s, loss=0.141896]\u001b[0m\n"
     ]
    },
    {
     "name": "stdout",
     "output_type": "stream",
     "text": [
      "\t Loss: 425.656,\tTrain : 96.02%(96.02%),\tTest : 95.66%(95.68%),\tCurrent Time: 20250721-151627\n"
     ]
    },
    {
     "name": "stderr",
     "output_type": "stream",
     "text": [
      "Epoch 34/100: 100%|\u001b[34m█████████████████\u001b[0m| 3000/3000 [00:35<00:00, 84.37batch/s, loss=0.138101]\u001b[0m\n"
     ]
    },
    {
     "name": "stdout",
     "output_type": "stream",
     "text": [
      "\t Loss: 414.588,\tTrain : 96.14%(96.14%),\tTest : 95.79%(95.79%),\tCurrent Time: 20250721-151703\n"
     ]
    },
    {
     "name": "stderr",
     "output_type": "stream",
     "text": [
      "Epoch 35/100: 100%|\u001b[34m█████████████████\u001b[0m| 3000/3000 [00:35<00:00, 84.88batch/s, loss=0.134743]\u001b[0m\n"
     ]
    },
    {
     "name": "stdout",
     "output_type": "stream",
     "text": [
      "\t Loss: 404.797,\tTrain : 96.22%(96.22%),\tTest : 95.98%(95.98%),\tCurrent Time: 20250721-151739\n"
     ]
    },
    {
     "name": "stderr",
     "output_type": "stream",
     "text": [
      "Epoch 36/100: 100%|\u001b[34m█████████████████\u001b[0m| 3000/3000 [00:35<00:00, 83.73batch/s, loss=0.131171]\u001b[0m\n"
     ]
    },
    {
     "name": "stdout",
     "output_type": "stream",
     "text": [
      "\t Loss: 394.440,\tTrain : 96.31%(96.31%),\tTest : 96.06%(96.06%),\tCurrent Time: 20250721-151815\n"
     ]
    },
    {
     "name": "stderr",
     "output_type": "stream",
     "text": [
      "Epoch 37/100: 100%|\u001b[34m█████████████████\u001b[0m| 3000/3000 [00:35<00:00, 84.32batch/s, loss=0.128134]\u001b[0m\n"
     ]
    },
    {
     "name": "stdout",
     "output_type": "stream",
     "text": [
      "\t Loss: 384.818,\tTrain : 96.41%(96.41%),\tTest : 96.13%(96.13%),\tCurrent Time: 20250721-151851\n"
     ]
    },
    {
     "name": "stderr",
     "output_type": "stream",
     "text": [
      "Epoch 38/100: 100%|\u001b[34m█████████████████\u001b[0m| 3000/3000 [00:35<00:00, 84.98batch/s, loss=0.125279]\u001b[0m\n"
     ]
    },
    {
     "name": "stdout",
     "output_type": "stream",
     "text": [
      "\t Loss: 375.556,\tTrain : 96.49%(96.49%),\tTest : 96.23%(96.23%),\tCurrent Time: 20250721-151927\n"
     ]
    },
    {
     "name": "stderr",
     "output_type": "stream",
     "text": [
      "Epoch 39/100: 100%|\u001b[34m█████████████████\u001b[0m| 3000/3000 [00:36<00:00, 82.91batch/s, loss=0.122451]\u001b[0m\n"
     ]
    },
    {
     "name": "stdout",
     "output_type": "stream",
     "text": [
      "\t Loss: 367.170,\tTrain : 96.56%(96.56%),\tTest : 96.31%(96.31%),\tCurrent Time: 20250721-152004\n"
     ]
    },
    {
     "name": "stderr",
     "output_type": "stream",
     "text": [
      "Epoch 40/100: 100%|\u001b[34m█████████████████\u001b[0m| 3000/3000 [00:35<00:00, 85.26batch/s, loss=0.119504]\u001b[0m\n"
     ]
    },
    {
     "name": "stdout",
     "output_type": "stream",
     "text": [
      "\t Loss: 358.595,\tTrain : 96.67%(96.67%),\tTest : 96.27%(96.31%),\tCurrent Time: 20250721-152040\n"
     ]
    },
    {
     "name": "stderr",
     "output_type": "stream",
     "text": [
      "Epoch 41/100: 100%|\u001b[34m█████████████████\u001b[0m| 3000/3000 [00:35<00:00, 83.38batch/s, loss=0.117019]\u001b[0m\n"
     ]
    },
    {
     "name": "stdout",
     "output_type": "stream",
     "text": [
      "\t Loss: 350.954,\tTrain : 96.76%(96.76%),\tTest : 96.40%(96.40%),\tCurrent Time: 20250721-152116\n"
     ]
    },
    {
     "name": "stderr",
     "output_type": "stream",
     "text": [
      "Epoch 42/100: 100%|\u001b[34m█████████████████\u001b[0m| 3000/3000 [00:34<00:00, 86.39batch/s, loss=0.114236]\u001b[0m\n"
     ]
    },
    {
     "name": "stdout",
     "output_type": "stream",
     "text": [
      "\t Loss: 342.575,\tTrain : 96.83%(96.83%),\tTest : 96.45%(96.45%),\tCurrent Time: 20250721-152152\n"
     ]
    },
    {
     "name": "stderr",
     "output_type": "stream",
     "text": [
      "Epoch 43/100: 100%|\u001b[34m█████████████████\u001b[0m| 3000/3000 [00:34<00:00, 86.25batch/s, loss=0.111837]\u001b[0m\n"
     ]
    },
    {
     "name": "stdout",
     "output_type": "stream",
     "text": [
      "\t Loss: 335.084,\tTrain : 96.87%(96.87%),\tTest : 96.55%(96.55%),\tCurrent Time: 20250721-152227\n"
     ]
    },
    {
     "name": "stderr",
     "output_type": "stream",
     "text": [
      "Epoch 44/100: 100%|\u001b[34m█████████████████\u001b[0m| 3000/3000 [00:34<00:00, 87.36batch/s, loss=0.109352]\u001b[0m\n"
     ]
    },
    {
     "name": "stdout",
     "output_type": "stream",
     "text": [
      "\t Loss: 327.865,\tTrain : 96.94%(96.94%),\tTest : 96.55%(96.55%),\tCurrent Time: 20250721-152302\n"
     ]
    },
    {
     "name": "stderr",
     "output_type": "stream",
     "text": [
      "Epoch 45/100: 100%|\u001b[34m█████████████████\u001b[0m| 3000/3000 [00:34<00:00, 86.18batch/s, loss=0.106913]\u001b[0m\n"
     ]
    },
    {
     "name": "stdout",
     "output_type": "stream",
     "text": [
      "\t Loss: 320.987,\tTrain : 96.99%(96.99%),\tTest : 96.69%(96.69%),\tCurrent Time: 20250721-152337\n"
     ]
    },
    {
     "name": "stderr",
     "output_type": "stream",
     "text": [
      "Epoch 46/100: 100%|\u001b[34m█████████████████\u001b[0m| 3000/3000 [00:34<00:00, 86.28batch/s, loss=0.104575]\u001b[0m\n"
     ]
    },
    {
     "name": "stdout",
     "output_type": "stream",
     "text": [
      "\t Loss: 313.969,\tTrain : 97.06%(97.06%),\tTest : 96.64%(96.69%),\tCurrent Time: 20250721-152413\n"
     ]
    },
    {
     "name": "stderr",
     "output_type": "stream",
     "text": [
      "Epoch 47/100: 100%|\u001b[34m█████████████████\u001b[0m| 3000/3000 [00:34<00:00, 86.45batch/s, loss=0.102512]\u001b[0m\n"
     ]
    },
    {
     "name": "stdout",
     "output_type": "stream",
     "text": [
      "\t Loss: 307.274,\tTrain : 97.11%(97.11%),\tTest : 96.74%(96.74%),\tCurrent Time: 20250721-152448\n"
     ]
    },
    {
     "name": "stderr",
     "output_type": "stream",
     "text": [
      "Epoch 48/100: 100%|\u001b[34m█████████████████\u001b[0m| 3000/3000 [00:35<00:00, 83.84batch/s, loss=0.100279]\u001b[0m\n"
     ]
    },
    {
     "name": "stdout",
     "output_type": "stream",
     "text": [
      "\t Loss: 300.520,\tTrain : 97.20%(97.20%),\tTest : 96.83%(96.83%),\tCurrent Time: 20250721-152524\n"
     ]
    },
    {
     "name": "stderr",
     "output_type": "stream",
     "text": [
      "Epoch 49/100: 100%|\u001b[34m█████████████████\u001b[0m| 3000/3000 [00:35<00:00, 83.86batch/s, loss=0.098216]\u001b[0m\n"
     ]
    },
    {
     "name": "stdout",
     "output_type": "stream",
     "text": [
      "\t Loss: 294.712,\tTrain : 97.25%(97.25%),\tTest : 96.73%(96.83%),\tCurrent Time: 20250721-152601\n"
     ]
    },
    {
     "name": "stderr",
     "output_type": "stream",
     "text": [
      "Epoch 50/100: 100%|\u001b[34m█████████████████\u001b[0m| 3000/3000 [00:35<00:00, 84.92batch/s, loss=0.096273]\u001b[0m\n"
     ]
    },
    {
     "name": "stdout",
     "output_type": "stream",
     "text": [
      "\t Loss: 288.587,\tTrain : 97.32%(97.32%),\tTest : 96.74%(96.83%),\tCurrent Time: 20250721-152637\n"
     ]
    },
    {
     "name": "stderr",
     "output_type": "stream",
     "text": [
      "Epoch 51/100: 100%|\u001b[34m█████████████████\u001b[0m| 3000/3000 [00:35<00:00, 83.44batch/s, loss=0.094230]\u001b[0m\n"
     ]
    },
    {
     "name": "stdout",
     "output_type": "stream",
     "text": [
      "\t Loss: 282.840,\tTrain : 97.36%(97.36%),\tTest : 96.93%(96.93%),\tCurrent Time: 20250721-152713\n"
     ]
    },
    {
     "name": "stderr",
     "output_type": "stream",
     "text": [
      "Epoch 52/100: 100%|\u001b[34m█████████████████\u001b[0m| 3000/3000 [00:36<00:00, 82.36batch/s, loss=0.092583]\u001b[0m\n"
     ]
    },
    {
     "name": "stdout",
     "output_type": "stream",
     "text": [
      "\t Loss: 277.518,\tTrain : 97.42%(97.42%),\tTest : 96.78%(96.93%),\tCurrent Time: 20250721-152750\n"
     ]
    },
    {
     "name": "stderr",
     "output_type": "stream",
     "text": [
      "Epoch 53/100: 100%|\u001b[34m█████████████████\u001b[0m| 3000/3000 [00:36<00:00, 82.83batch/s, loss=0.090664]\u001b[0m\n"
     ]
    },
    {
     "name": "stdout",
     "output_type": "stream",
     "text": [
      "\t Loss: 272.108,\tTrain : 97.44%(97.44%),\tTest : 96.96%(96.96%),\tCurrent Time: 20250721-152827\n"
     ]
    },
    {
     "name": "stderr",
     "output_type": "stream",
     "text": [
      "Epoch 54/100: 100%|\u001b[34m█████████████████\u001b[0m| 3000/3000 [00:36<00:00, 83.04batch/s, loss=0.089041]\u001b[0m\n"
     ]
    },
    {
     "name": "stdout",
     "output_type": "stream",
     "text": [
      "\t Loss: 267.004,\tTrain : 97.54%(97.54%),\tTest : 97.03%(97.03%),\tCurrent Time: 20250721-152904\n"
     ]
    },
    {
     "name": "stderr",
     "output_type": "stream",
     "text": [
      "Epoch 55/100: 100%|\u001b[34m█████████████████\u001b[0m| 3000/3000 [00:34<00:00, 86.92batch/s, loss=0.087080]\u001b[0m\n"
     ]
    },
    {
     "name": "stdout",
     "output_type": "stream",
     "text": [
      "\t Loss: 261.331,\tTrain : 97.57%(97.57%),\tTest : 97.02%(97.03%),\tCurrent Time: 20250721-152939\n"
     ]
    },
    {
     "name": "stderr",
     "output_type": "stream",
     "text": [
      "Epoch 56/100: 100%|\u001b[34m█████████████████\u001b[0m| 3000/3000 [00:35<00:00, 85.29batch/s, loss=0.085644]\u001b[0m\n"
     ]
    },
    {
     "name": "stdout",
     "output_type": "stream",
     "text": [
      "\t Loss: 256.786,\tTrain : 97.63%(97.63%),\tTest : 96.99%(97.03%),\tCurrent Time: 20250721-153015\n"
     ]
    },
    {
     "name": "stderr",
     "output_type": "stream",
     "text": [
      "Epoch 57/100: 100%|\u001b[34m█████████████████\u001b[0m| 3000/3000 [00:34<00:00, 87.95batch/s, loss=0.083975]\u001b[0m\n"
     ]
    },
    {
     "name": "stdout",
     "output_type": "stream",
     "text": [
      "\t Loss: 252.041,\tTrain : 97.67%(97.67%),\tTest : 97.02%(97.03%),\tCurrent Time: 20250721-153049\n"
     ]
    },
    {
     "name": "stderr",
     "output_type": "stream",
     "text": [
      "Epoch 58/100: 100%|\u001b[34m█████████████████\u001b[0m| 3000/3000 [00:34<00:00, 87.47batch/s, loss=0.082212]\u001b[0m\n"
     ]
    },
    {
     "name": "stdout",
     "output_type": "stream",
     "text": [
      "\t Loss: 247.106,\tTrain : 97.73%(97.73%),\tTest : 96.95%(97.03%),\tCurrent Time: 20250721-153124\n"
     ]
    },
    {
     "name": "stderr",
     "output_type": "stream",
     "text": [
      "Epoch 59/100: 100%|\u001b[34m█████████████████\u001b[0m| 3000/3000 [00:34<00:00, 87.12batch/s, loss=0.080652]\u001b[0m\n"
     ]
    },
    {
     "name": "stdout",
     "output_type": "stream",
     "text": [
      "\t Loss: 242.205,\tTrain : 97.78%(97.78%),\tTest : 97.07%(97.07%),\tCurrent Time: 20250721-153159\n"
     ]
    },
    {
     "name": "stderr",
     "output_type": "stream",
     "text": [
      "Epoch 60/100: 100%|\u001b[34m█████████████████\u001b[0m| 3000/3000 [00:34<00:00, 85.82batch/s, loss=0.079406]\u001b[0m\n"
     ]
    },
    {
     "name": "stdout",
     "output_type": "stream",
     "text": [
      "\t Loss: 238.356,\tTrain : 97.79%(97.79%),\tTest : 97.07%(97.07%),\tCurrent Time: 20250721-153235\n"
     ]
    },
    {
     "name": "stderr",
     "output_type": "stream",
     "text": [
      "Epoch 61/100: 100%|\u001b[34m█████████████████\u001b[0m| 3000/3000 [00:35<00:00, 83.55batch/s, loss=0.077968]\u001b[0m\n"
     ]
    },
    {
     "name": "stdout",
     "output_type": "stream",
     "text": [
      "\t Loss: 233.694,\tTrain : 97.86%(97.86%),\tTest : 97.09%(97.09%),\tCurrent Time: 20250721-153311\n"
     ]
    },
    {
     "name": "stderr",
     "output_type": "stream",
     "text": [
      "Epoch 62/100: 100%|\u001b[34m█████████████████\u001b[0m| 3000/3000 [00:35<00:00, 83.98batch/s, loss=0.076797]\u001b[0m\n"
     ]
    },
    {
     "name": "stdout",
     "output_type": "stream",
     "text": [
      "\t Loss: 229.957,\tTrain : 97.91%(97.91%),\tTest : 97.16%(97.16%),\tCurrent Time: 20250721-153348\n"
     ]
    },
    {
     "name": "stderr",
     "output_type": "stream",
     "text": [
      "Epoch 63/100: 100%|\u001b[34m█████████████████\u001b[0m| 3000/3000 [00:35<00:00, 83.84batch/s, loss=0.075349]\u001b[0m\n"
     ]
    },
    {
     "name": "stdout",
     "output_type": "stream",
     "text": [
      "\t Loss: 226.158,\tTrain : 97.97%(97.97%),\tTest : 97.23%(97.23%),\tCurrent Time: 20250721-153424\n"
     ]
    },
    {
     "name": "stderr",
     "output_type": "stream",
     "text": [
      "Epoch 64/100: 100%|\u001b[34m█████████████████\u001b[0m| 3000/3000 [00:36<00:00, 83.11batch/s, loss=0.074042]\u001b[0m\n"
     ]
    },
    {
     "name": "stdout",
     "output_type": "stream",
     "text": [
      "\t Loss: 221.866,\tTrain : 97.99%(97.99%),\tTest : 97.17%(97.23%),\tCurrent Time: 20250721-153501\n"
     ]
    },
    {
     "name": "stderr",
     "output_type": "stream",
     "text": [
      "Epoch 65/100: 100%|\u001b[34m█████████████████\u001b[0m| 3000/3000 [00:36<00:00, 82.39batch/s, loss=0.072569]\u001b[0m\n"
     ]
    },
    {
     "name": "stdout",
     "output_type": "stream",
     "text": [
      "\t Loss: 217.769,\tTrain : 98.05%(98.05%),\tTest : 97.20%(97.23%),\tCurrent Time: 20250721-153538\n"
     ]
    },
    {
     "name": "stderr",
     "output_type": "stream",
     "text": [
      "Epoch 66/100: 100%|\u001b[34m█████████████████\u001b[0m| 3000/3000 [00:35<00:00, 83.79batch/s, loss=0.071403]\u001b[0m\n"
     ]
    },
    {
     "name": "stdout",
     "output_type": "stream",
     "text": [
      "\t Loss: 214.282,\tTrain : 98.02%(98.05%),\tTest : 97.19%(97.23%),\tCurrent Time: 20250721-153614\n"
     ]
    },
    {
     "name": "stderr",
     "output_type": "stream",
     "text": [
      "Epoch 67/100: 100%|\u001b[34m█████████████████\u001b[0m| 3000/3000 [00:36<00:00, 82.97batch/s, loss=0.070277]\u001b[0m\n"
     ]
    },
    {
     "name": "stdout",
     "output_type": "stream",
     "text": [
      "\t Loss: 210.963,\tTrain : 98.10%(98.10%),\tTest : 97.29%(97.29%),\tCurrent Time: 20250721-153651\n"
     ]
    },
    {
     "name": "stderr",
     "output_type": "stream",
     "text": [
      "Epoch 68/100: 100%|\u001b[34m█████████████████\u001b[0m| 3000/3000 [00:35<00:00, 83.37batch/s, loss=0.068881]\u001b[0m\n"
     ]
    },
    {
     "name": "stdout",
     "output_type": "stream",
     "text": [
      "\t Loss: 206.463,\tTrain : 98.12%(98.12%),\tTest : 97.22%(97.29%),\tCurrent Time: 20250721-153727\n"
     ]
    },
    {
     "name": "stderr",
     "output_type": "stream",
     "text": [
      "Epoch 69/100: 100%|\u001b[34m█████████████████\u001b[0m| 3000/3000 [00:36<00:00, 83.29batch/s, loss=0.067826]\u001b[0m\n"
     ]
    },
    {
     "name": "stdout",
     "output_type": "stream",
     "text": [
      "\t Loss: 203.495,\tTrain : 98.17%(98.17%),\tTest : 97.29%(97.29%),\tCurrent Time: 20250721-153804\n"
     ]
    },
    {
     "name": "stderr",
     "output_type": "stream",
     "text": [
      "Epoch 70/100: 100%|\u001b[34m█████████████████\u001b[0m| 3000/3000 [00:36<00:00, 82.90batch/s, loss=0.066768]\u001b[0m\n"
     ]
    },
    {
     "name": "stdout",
     "output_type": "stream",
     "text": [
      "\t Loss: 200.310,\tTrain : 98.17%(98.17%),\tTest : 97.30%(97.30%),\tCurrent Time: 20250721-153841\n"
     ]
    },
    {
     "name": "stderr",
     "output_type": "stream",
     "text": [
      "Epoch 71/100: 100%|\u001b[34m█████████████████\u001b[0m| 3000/3000 [00:34<00:00, 86.72batch/s, loss=0.065625]\u001b[0m\n"
     ]
    },
    {
     "name": "stdout",
     "output_type": "stream",
     "text": [
      "\t Loss: 196.849,\tTrain : 98.21%(98.21%),\tTest : 97.33%(97.33%),\tCurrent Time: 20250721-153916\n"
     ]
    },
    {
     "name": "stderr",
     "output_type": "stream",
     "text": [
      "Epoch 72/100: 100%|\u001b[34m█████████████████\u001b[0m| 3000/3000 [00:33<00:00, 89.32batch/s, loss=0.064310]\u001b[0m\n"
     ]
    },
    {
     "name": "stdout",
     "output_type": "stream",
     "text": [
      "\t Loss: 193.268,\tTrain : 98.27%(98.27%),\tTest : 97.34%(97.34%),\tCurrent Time: 20250721-153950\n"
     ]
    },
    {
     "name": "stderr",
     "output_type": "stream",
     "text": [
      "Epoch 73/100: 100%|\u001b[34m█████████████████\u001b[0m| 3000/3000 [00:33<00:00, 88.73batch/s, loss=0.063616]\u001b[0m\n"
     ]
    },
    {
     "name": "stdout",
     "output_type": "stream",
     "text": [
      "\t Loss: 190.563,\tTrain : 98.28%(98.28%),\tTest : 97.39%(97.39%),\tCurrent Time: 20250721-154025\n"
     ]
    },
    {
     "name": "stderr",
     "output_type": "stream",
     "text": [
      "Epoch 74/100: 100%|\u001b[34m█████████████████\u001b[0m| 3000/3000 [00:33<00:00, 88.27batch/s, loss=0.062302]\u001b[0m\n"
     ]
    },
    {
     "name": "stdout",
     "output_type": "stream",
     "text": [
      "\t Loss: 186.907,\tTrain : 98.30%(98.30%),\tTest : 97.28%(97.39%),\tCurrent Time: 20250721-154059\n"
     ]
    },
    {
     "name": "stderr",
     "output_type": "stream",
     "text": [
      "Epoch 75/100: 100%|\u001b[34m█████████████████\u001b[0m| 3000/3000 [00:35<00:00, 84.18batch/s, loss=0.061390]\u001b[0m\n"
     ]
    },
    {
     "name": "stdout",
     "output_type": "stream",
     "text": [
      "\t Loss: 184.383,\tTrain : 98.33%(98.33%),\tTest : 97.44%(97.44%),\tCurrent Time: 20250721-154135\n"
     ]
    },
    {
     "name": "stderr",
     "output_type": "stream",
     "text": [
      "Epoch 76/100: 100%|\u001b[34m█████████████████\u001b[0m| 3000/3000 [00:35<00:00, 83.51batch/s, loss=0.060307]\u001b[0m\n"
     ]
    },
    {
     "name": "stdout",
     "output_type": "stream",
     "text": [
      "\t Loss: 181.051,\tTrain : 98.39%(98.39%),\tTest : 97.43%(97.44%),\tCurrent Time: 20250721-154212\n"
     ]
    },
    {
     "name": "stderr",
     "output_type": "stream",
     "text": [
      "Epoch 77/100: 100%|\u001b[34m█████████████████\u001b[0m| 3000/3000 [00:35<00:00, 84.19batch/s, loss=0.059443]\u001b[0m\n"
     ]
    },
    {
     "name": "stdout",
     "output_type": "stream",
     "text": [
      "\t Loss: 178.474,\tTrain : 98.43%(98.43%),\tTest : 97.43%(97.44%),\tCurrent Time: 20250721-154248\n"
     ]
    },
    {
     "name": "stderr",
     "output_type": "stream",
     "text": [
      "Epoch 78/100: 100%|\u001b[34m█████████████████\u001b[0m| 3000/3000 [00:34<00:00, 85.90batch/s, loss=0.058528]\u001b[0m\n"
     ]
    },
    {
     "name": "stdout",
     "output_type": "stream",
     "text": [
      "\t Loss: 175.610,\tTrain : 98.43%(98.43%),\tTest : 97.46%(97.46%),\tCurrent Time: 20250721-154324\n"
     ]
    },
    {
     "name": "stderr",
     "output_type": "stream",
     "text": [
      "Epoch 79/100: 100%|\u001b[34m█████████████████\u001b[0m| 3000/3000 [00:34<00:00, 87.74batch/s, loss=0.057417]\u001b[0m\n"
     ]
    },
    {
     "name": "stdout",
     "output_type": "stream",
     "text": [
      "\t Loss: 172.236,\tTrain : 98.47%(98.47%),\tTest : 97.42%(97.46%),\tCurrent Time: 20250721-154358\n"
     ]
    },
    {
     "name": "stderr",
     "output_type": "stream",
     "text": [
      "Epoch 80/100: 100%|\u001b[34m█████████████████\u001b[0m| 3000/3000 [00:34<00:00, 86.05batch/s, loss=0.056783]\u001b[0m\n"
     ]
    },
    {
     "name": "stdout",
     "output_type": "stream",
     "text": [
      "\t Loss: 170.127,\tTrain : 98.50%(98.50%),\tTest : 97.46%(97.46%),\tCurrent Time: 20250721-154434\n"
     ]
    },
    {
     "name": "stderr",
     "output_type": "stream",
     "text": [
      "Epoch 81/100: 100%|\u001b[34m█████████████████\u001b[0m| 3000/3000 [00:34<00:00, 87.11batch/s, loss=0.055560]\u001b[0m\n"
     ]
    },
    {
     "name": "stdout",
     "output_type": "stream",
     "text": [
      "\t Loss: 166.843,\tTrain : 98.52%(98.52%),\tTest : 97.46%(97.46%),\tCurrent Time: 20250721-154509\n"
     ]
    },
    {
     "name": "stderr",
     "output_type": "stream",
     "text": [
      "Epoch 82/100: 100%|\u001b[34m█████████████████\u001b[0m| 3000/3000 [00:33<00:00, 89.51batch/s, loss=0.055038]\u001b[0m\n"
     ]
    },
    {
     "name": "stdout",
     "output_type": "stream",
     "text": [
      "\t Loss: 164.906,\tTrain : 98.52%(98.52%),\tTest : 97.52%(97.52%),\tCurrent Time: 20250721-154543\n"
     ]
    },
    {
     "name": "stderr",
     "output_type": "stream",
     "text": [
      "Epoch 83/100: 100%|\u001b[34m█████████████████\u001b[0m| 3000/3000 [00:34<00:00, 87.43batch/s, loss=0.054045]\u001b[0m\n"
     ]
    },
    {
     "name": "stdout",
     "output_type": "stream",
     "text": [
      "\t Loss: 162.219,\tTrain : 98.56%(98.56%),\tTest : 97.58%(97.58%),\tCurrent Time: 20250721-154618\n"
     ]
    },
    {
     "name": "stderr",
     "output_type": "stream",
     "text": [
      "Epoch 84/100: 100%|\u001b[34m█████████████████\u001b[0m| 3000/3000 [00:34<00:00, 86.66batch/s, loss=0.053124]\u001b[0m\n"
     ]
    },
    {
     "name": "stdout",
     "output_type": "stream",
     "text": [
      "\t Loss: 159.545,\tTrain : 98.59%(98.59%),\tTest : 97.52%(97.58%),\tCurrent Time: 20250721-154653\n"
     ]
    },
    {
     "name": "stderr",
     "output_type": "stream",
     "text": [
      "Epoch 85/100: 100%|\u001b[34m█████████████████\u001b[0m| 3000/3000 [00:35<00:00, 84.50batch/s, loss=0.052488]\u001b[0m\n"
     ]
    },
    {
     "name": "stdout",
     "output_type": "stream",
     "text": [
      "\t Loss: 157.315,\tTrain : 98.60%(98.60%),\tTest : 97.51%(97.58%),\tCurrent Time: 20250721-154729\n"
     ]
    },
    {
     "name": "stderr",
     "output_type": "stream",
     "text": [
      "Epoch 86/100: 100%|\u001b[34m█████████████████\u001b[0m| 3000/3000 [00:35<00:00, 84.14batch/s, loss=0.051726]\u001b[0m\n"
     ]
    },
    {
     "name": "stdout",
     "output_type": "stream",
     "text": [
      "\t Loss: 154.933,\tTrain : 98.66%(98.66%),\tTest : 97.51%(97.58%),\tCurrent Time: 20250721-154805\n"
     ]
    },
    {
     "name": "stderr",
     "output_type": "stream",
     "text": [
      "Epoch 87/100: 100%|\u001b[34m█████████████████\u001b[0m| 3000/3000 [00:35<00:00, 84.58batch/s, loss=0.051000]\u001b[0m\n"
     ]
    },
    {
     "name": "stdout",
     "output_type": "stream",
     "text": [
      "\t Loss: 152.760,\tTrain : 98.64%(98.66%),\tTest : 97.51%(97.58%),\tCurrent Time: 20250721-154841\n"
     ]
    },
    {
     "name": "stderr",
     "output_type": "stream",
     "text": [
      "Epoch 88/100: 100%|\u001b[34m█████████████████\u001b[0m| 3000/3000 [00:35<00:00, 85.49batch/s, loss=0.049962]\u001b[0m\n"
     ]
    },
    {
     "name": "stdout",
     "output_type": "stream",
     "text": [
      "\t Loss: 150.094,\tTrain : 98.69%(98.69%),\tTest : 97.54%(97.58%),\tCurrent Time: 20250721-154917\n"
     ]
    },
    {
     "name": "stderr",
     "output_type": "stream",
     "text": [
      "Epoch 89/100: 100%|\u001b[34m█████████████████\u001b[0m| 3000/3000 [00:35<00:00, 84.36batch/s, loss=0.049271]\u001b[0m\n"
     ]
    },
    {
     "name": "stdout",
     "output_type": "stream",
     "text": [
      "\t Loss: 147.738,\tTrain : 98.72%(98.72%),\tTest : 97.48%(97.58%),\tCurrent Time: 20250721-154953\n"
     ]
    },
    {
     "name": "stderr",
     "output_type": "stream",
     "text": [
      "Epoch 90/100: 100%|\u001b[34m█████████████████\u001b[0m| 3000/3000 [00:36<00:00, 82.60batch/s, loss=0.048780]\u001b[0m\n"
     ]
    },
    {
     "name": "stdout",
     "output_type": "stream",
     "text": [
      "\t Loss: 146.240,\tTrain : 98.72%(98.72%),\tTest : 97.59%(97.59%),\tCurrent Time: 20250721-155030\n"
     ]
    },
    {
     "name": "stderr",
     "output_type": "stream",
     "text": [
      "Epoch 91/100: 100%|\u001b[34m█████████████████\u001b[0m| 3000/3000 [00:35<00:00, 83.94batch/s, loss=0.047700]\u001b[0m\n"
     ]
    },
    {
     "name": "stdout",
     "output_type": "stream",
     "text": [
      "\t Loss: 143.251,\tTrain : 98.77%(98.77%),\tTest : 97.60%(97.60%),\tCurrent Time: 20250721-155107\n"
     ]
    },
    {
     "name": "stderr",
     "output_type": "stream",
     "text": [
      "Epoch 92/100: 100%|\u001b[34m█████████████████\u001b[0m| 3000/3000 [00:35<00:00, 84.73batch/s, loss=0.047242]\u001b[0m\n"
     ]
    },
    {
     "name": "stdout",
     "output_type": "stream",
     "text": [
      "\t Loss: 141.636,\tTrain : 98.77%(98.77%),\tTest : 97.59%(97.60%),\tCurrent Time: 20250721-155143\n"
     ]
    },
    {
     "name": "stderr",
     "output_type": "stream",
     "text": [
      "Epoch 93/100: 100%|\u001b[34m█████████████████\u001b[0m| 3000/3000 [00:34<00:00, 86.53batch/s, loss=0.046594]\u001b[0m\n"
     ]
    },
    {
     "name": "stdout",
     "output_type": "stream",
     "text": [
      "\t Loss: 139.515,\tTrain : 98.82%(98.82%),\tTest : 97.61%(97.61%),\tCurrent Time: 20250721-155218\n"
     ]
    },
    {
     "name": "stderr",
     "output_type": "stream",
     "text": [
      "Epoch 94/100: 100%|\u001b[34m█████████████████\u001b[0m| 3000/3000 [00:34<00:00, 85.80batch/s, loss=0.045700]\u001b[0m\n"
     ]
    },
    {
     "name": "stdout",
     "output_type": "stream",
     "text": [
      "\t Loss: 137.437,\tTrain : 98.80%(98.82%),\tTest : 97.64%(97.64%),\tCurrent Time: 20250721-155253\n"
     ]
    },
    {
     "name": "stderr",
     "output_type": "stream",
     "text": [
      "Epoch 95/100: 100%|\u001b[34m█████████████████\u001b[0m| 3000/3000 [00:36<00:00, 83.33batch/s, loss=0.045171]\u001b[0m\n"
     ]
    },
    {
     "name": "stdout",
     "output_type": "stream",
     "text": [
      "\t Loss: 135.498,\tTrain : 98.83%(98.83%),\tTest : 97.59%(97.64%),\tCurrent Time: 20250721-155330\n"
     ]
    },
    {
     "name": "stderr",
     "output_type": "stream",
     "text": [
      "Epoch 96/100: 100%|\u001b[34m█████████████████\u001b[0m| 3000/3000 [00:36<00:00, 82.40batch/s, loss=0.044514]\u001b[0m\n"
     ]
    },
    {
     "name": "stdout",
     "output_type": "stream",
     "text": [
      "\t Loss: 133.515,\tTrain : 98.86%(98.86%),\tTest : 97.60%(97.64%),\tCurrent Time: 20250721-155407\n"
     ]
    },
    {
     "name": "stderr",
     "output_type": "stream",
     "text": [
      "Epoch 97/100: 100%|\u001b[34m█████████████████\u001b[0m| 3000/3000 [00:35<00:00, 84.55batch/s, loss=0.043819]\u001b[0m\n"
     ]
    },
    {
     "name": "stdout",
     "output_type": "stream",
     "text": [
      "\t Loss: 131.442,\tTrain : 98.89%(98.89%),\tTest : 97.63%(97.64%),\tCurrent Time: 20250721-155443\n"
     ]
    },
    {
     "name": "stderr",
     "output_type": "stream",
     "text": [
      "Epoch 98/100: 100%|\u001b[34m█████████████████\u001b[0m| 3000/3000 [00:35<00:00, 83.66batch/s, loss=0.043160]\u001b[0m\n"
     ]
    },
    {
     "name": "stdout",
     "output_type": "stream",
     "text": [
      "\t Loss: 129.646,\tTrain : 98.89%(98.89%),\tTest : 97.63%(97.64%),\tCurrent Time: 20250721-155520\n"
     ]
    },
    {
     "name": "stderr",
     "output_type": "stream",
     "text": [
      "Epoch 99/100: 100%|\u001b[34m█████████████████\u001b[0m| 3000/3000 [00:34<00:00, 86.61batch/s, loss=0.042521]\u001b[0m\n"
     ]
    },
    {
     "name": "stdout",
     "output_type": "stream",
     "text": [
      "\t Loss: 127.548,\tTrain : 98.94%(98.94%),\tTest : 97.69%(97.69%),\tCurrent Time: 20250721-155555\n"
     ]
    },
    {
     "name": "stderr",
     "output_type": "stream",
     "text": [
      "Epoch 100/100: 100%|\u001b[34m████████████████\u001b[0m| 3000/3000 [00:35<00:00, 83.43batch/s, loss=0.042104]\u001b[0m\n"
     ]
    },
    {
     "name": "stdout",
     "output_type": "stream",
     "text": [
      "\t Loss: 126.179,\tTrain : 98.94%(98.94%),\tTest : 97.59%(97.69%),\tCurrent Time: 20250721-155631\n",
      "EP_L3_MNIST_First_symm_LN_t2sta2_bs20-EP_b_sc0.01-EP_It2sta18- Time: 20250721-155631, Epochs: 100, Learning Rate: 0.001, Best: 98.94%  97.69%\n",
      "\n",
      "EP_L3_MNIST_First_symm_LN_t2sta2_bs20-EP_b_sc0.01-EP_It2sta18-\n"
     ]
    },
    {
     "name": "stderr",
     "output_type": "stream",
     "text": [
      "Epoch 1/100: 100%|\u001b[34m██████████████████\u001b[0m| 3000/3000 [00:35<00:00, 83.58batch/s, loss=0.641749]\u001b[0m\n"
     ]
    },
    {
     "name": "stdout",
     "output_type": "stream",
     "text": [
      "\t Loss: 1922.959,\tTrain : 83.35%(83.35%),\tTest : 88.85%(88.85%),\tCurrent Time: 20250721-155708\n"
     ]
    },
    {
     "name": "stderr",
     "output_type": "stream",
     "text": [
      "Epoch 2/100: 100%|\u001b[34m██████████████████\u001b[0m| 3000/3000 [00:35<00:00, 83.85batch/s, loss=0.388871]\u001b[0m\n"
     ]
    },
    {
     "name": "stdout",
     "output_type": "stream",
     "text": [
      "\t Loss: 1165.633,\tTrain : 88.81%(88.81%),\tTest : 90.18%(90.18%),\tCurrent Time: 20250721-155744\n"
     ]
    },
    {
     "name": "stderr",
     "output_type": "stream",
     "text": [
      "Epoch 3/100: 100%|\u001b[34m██████████████████\u001b[0m| 3000/3000 [00:34<00:00, 86.06batch/s, loss=0.350979]\u001b[0m\n"
     ]
    },
    {
     "name": "stdout",
     "output_type": "stream",
     "text": [
      "\t Loss: 1052.125,\tTrain : 89.85%(89.85%),\tTest : 90.70%(90.70%),\tCurrent Time: 20250721-155820\n"
     ]
    },
    {
     "name": "stderr",
     "output_type": "stream",
     "text": [
      "Epoch 4/100: 100%|\u001b[34m██████████████████\u001b[0m| 3000/3000 [00:34<00:00, 87.11batch/s, loss=0.330668]\u001b[0m\n"
     ]
    },
    {
     "name": "stdout",
     "output_type": "stream",
     "text": [
      "\t Loss: 992.176,\tTrain : 90.48%(90.48%),\tTest : 91.02%(91.02%),\tCurrent Time: 20250721-155855\n"
     ]
    },
    {
     "name": "stderr",
     "output_type": "stream",
     "text": [
      "Epoch 5/100: 100%|\u001b[34m██████████████████\u001b[0m| 3000/3000 [00:35<00:00, 84.83batch/s, loss=0.317030]\u001b[0m\n"
     ]
    },
    {
     "name": "stdout",
     "output_type": "stream",
     "text": [
      "\t Loss: 951.053,\tTrain : 90.91%(90.91%),\tTest : 91.47%(91.47%),\tCurrent Time: 20250721-155931\n"
     ]
    },
    {
     "name": "stderr",
     "output_type": "stream",
     "text": [
      "Epoch 6/100: 100%|\u001b[34m██████████████████\u001b[0m| 3000/3000 [00:34<00:00, 86.33batch/s, loss=0.306306]\u001b[0m\n"
     ]
    },
    {
     "name": "stdout",
     "output_type": "stream",
     "text": [
      "\t Loss: 918.715,\tTrain : 91.16%(91.16%),\tTest : 91.60%(91.60%),\tCurrent Time: 20250721-160006\n"
     ]
    },
    {
     "name": "stderr",
     "output_type": "stream",
     "text": [
      "Epoch 7/100: 100%|\u001b[34m██████████████████\u001b[0m| 3000/3000 [00:35<00:00, 83.43batch/s, loss=0.297116]\u001b[0m\n"
     ]
    },
    {
     "name": "stdout",
     "output_type": "stream",
     "text": [
      "\t Loss: 891.737,\tTrain : 91.49%(91.49%),\tTest : 91.71%(91.71%),\tCurrent Time: 20250721-160042\n"
     ]
    },
    {
     "name": "stderr",
     "output_type": "stream",
     "text": [
      "Epoch 8/100: 100%|\u001b[34m██████████████████\u001b[0m| 3000/3000 [00:35<00:00, 84.11batch/s, loss=0.288908]\u001b[0m\n"
     ]
    },
    {
     "name": "stdout",
     "output_type": "stream",
     "text": [
      "\t Loss: 866.738,\tTrain : 91.71%(91.71%),\tTest : 91.97%(91.97%),\tCurrent Time: 20250721-160119\n"
     ]
    },
    {
     "name": "stderr",
     "output_type": "stream",
     "text": [
      "Epoch 9/100: 100%|\u001b[34m██████████████████\u001b[0m| 3000/3000 [00:35<00:00, 85.14batch/s, loss=0.281435]\u001b[0m\n"
     ]
    },
    {
     "name": "stdout",
     "output_type": "stream",
     "text": [
      "\t Loss: 843.685,\tTrain : 92.01%(92.01%),\tTest : 92.18%(92.18%),\tCurrent Time: 20250721-160155\n"
     ]
    },
    {
     "name": "stderr",
     "output_type": "stream",
     "text": [
      "Epoch 10/100: 100%|\u001b[34m█████████████████\u001b[0m| 3000/3000 [00:35<00:00, 84.25batch/s, loss=0.273625]\u001b[0m\n"
     ]
    },
    {
     "name": "stdout",
     "output_type": "stream",
     "text": [
      "\t Loss: 820.823,\tTrain : 92.20%(92.20%),\tTest : 92.26%(92.26%),\tCurrent Time: 20250721-160231\n"
     ]
    },
    {
     "name": "stderr",
     "output_type": "stream",
     "text": [
      "Epoch 11/100: 100%|\u001b[34m█████████████████\u001b[0m| 3000/3000 [00:35<00:00, 83.59batch/s, loss=0.266694]\u001b[0m\n"
     ]
    },
    {
     "name": "stdout",
     "output_type": "stream",
     "text": [
      "\t Loss: 799.163,\tTrain : 92.41%(92.41%),\tTest : 92.35%(92.35%),\tCurrent Time: 20250721-160307\n"
     ]
    },
    {
     "name": "stderr",
     "output_type": "stream",
     "text": [
      "Epoch 12/100: 100%|\u001b[34m█████████████████\u001b[0m| 3000/3000 [00:35<00:00, 84.39batch/s, loss=0.259616]\u001b[0m\n"
     ]
    },
    {
     "name": "stdout",
     "output_type": "stream",
     "text": [
      "\t Loss: 778.114,\tTrain : 92.66%(92.66%),\tTest : 92.71%(92.71%),\tCurrent Time: 20250721-160343\n"
     ]
    },
    {
     "name": "stderr",
     "output_type": "stream",
     "text": [
      "Epoch 13/100: 100%|\u001b[34m█████████████████\u001b[0m| 3000/3000 [00:35<00:00, 84.17batch/s, loss=0.251740]\u001b[0m\n"
     ]
    },
    {
     "name": "stdout",
     "output_type": "stream",
     "text": [
      "\t Loss: 754.597,\tTrain : 92.92%(92.92%),\tTest : 92.75%(92.75%),\tCurrent Time: 20250721-160420\n"
     ]
    },
    {
     "name": "stderr",
     "output_type": "stream",
     "text": [
      "Epoch 14/100: 100%|\u001b[34m█████████████████\u001b[0m| 3000/3000 [00:36<00:00, 83.18batch/s, loss=0.243990]\u001b[0m\n"
     ]
    },
    {
     "name": "stdout",
     "output_type": "stream",
     "text": [
      "\t Loss: 732.044,\tTrain : 93.06%(93.06%),\tTest : 93.09%(93.09%),\tCurrent Time: 20250721-160456\n"
     ]
    },
    {
     "name": "stderr",
     "output_type": "stream",
     "text": [
      "Epoch 15/100: 100%|\u001b[34m█████████████████\u001b[0m| 3000/3000 [00:36<00:00, 83.28batch/s, loss=0.236894]\u001b[0m\n"
     ]
    },
    {
     "name": "stdout",
     "output_type": "stream",
     "text": [
      "\t Loss: 710.245,\tTrain : 93.30%(93.30%),\tTest : 93.12%(93.12%),\tCurrent Time: 20250721-160533\n"
     ]
    },
    {
     "name": "stderr",
     "output_type": "stream",
     "text": [
      "Epoch 16/100: 100%|\u001b[34m█████████████████\u001b[0m| 3000/3000 [00:34<00:00, 86.33batch/s, loss=0.229522]\u001b[0m\n"
     ]
    },
    {
     "name": "stdout",
     "output_type": "stream",
     "text": [
      "\t Loss: 687.887,\tTrain : 93.54%(93.54%),\tTest : 93.47%(93.47%),\tCurrent Time: 20250721-160608\n"
     ]
    },
    {
     "name": "stderr",
     "output_type": "stream",
     "text": [
      "Epoch 17/100: 100%|\u001b[34m█████████████████\u001b[0m| 3000/3000 [00:34<00:00, 86.61batch/s, loss=0.221419]\u001b[0m\n"
     ]
    },
    {
     "name": "stdout",
     "output_type": "stream",
     "text": [
      "\t Loss: 664.851,\tTrain : 93.72%(93.72%),\tTest : 93.84%(93.84%),\tCurrent Time: 20250721-160643\n"
     ]
    },
    {
     "name": "stderr",
     "output_type": "stream",
     "text": [
      "Epoch 18/100: 100%|\u001b[34m█████████████████\u001b[0m| 3000/3000 [00:34<00:00, 87.61batch/s, loss=0.214757]\u001b[0m\n"
     ]
    },
    {
     "name": "stdout",
     "output_type": "stream",
     "text": [
      "\t Loss: 644.251,\tTrain : 93.90%(93.90%),\tTest : 93.86%(93.86%),\tCurrent Time: 20250721-160718\n"
     ]
    },
    {
     "name": "stderr",
     "output_type": "stream",
     "text": [
      "Epoch 19/100: 100%|\u001b[34m█████████████████\u001b[0m| 3000/3000 [00:35<00:00, 85.64batch/s, loss=0.207748]\u001b[0m\n"
     ]
    },
    {
     "name": "stdout",
     "output_type": "stream",
     "text": [
      "\t Loss: 622.960,\tTrain : 94.19%(94.19%),\tTest : 94.02%(94.02%),\tCurrent Time: 20250721-160754\n"
     ]
    },
    {
     "name": "stderr",
     "output_type": "stream",
     "text": [
      "Epoch 20/100: 100%|\u001b[34m█████████████████\u001b[0m| 3000/3000 [00:36<00:00, 82.23batch/s, loss=0.201329]\u001b[0m\n"
     ]
    },
    {
     "name": "stdout",
     "output_type": "stream",
     "text": [
      "\t Loss: 603.653,\tTrain : 94.33%(94.33%),\tTest : 94.17%(94.17%),\tCurrent Time: 20250721-160831\n"
     ]
    },
    {
     "name": "stderr",
     "output_type": "stream",
     "text": [
      "Epoch 21/100: 100%|\u001b[34m█████████████████\u001b[0m| 3000/3000 [00:36<00:00, 82.77batch/s, loss=0.194497]\u001b[0m\n"
     ]
    },
    {
     "name": "stdout",
     "output_type": "stream",
     "text": [
      "\t Loss: 584.035,\tTrain : 94.49%(94.49%),\tTest : 94.43%(94.43%),\tCurrent Time: 20250721-160908\n"
     ]
    },
    {
     "name": "stderr",
     "output_type": "stream",
     "text": [
      "Epoch 22/100: 100%|\u001b[34m█████████████████\u001b[0m| 3000/3000 [00:35<00:00, 84.51batch/s, loss=0.188744]\u001b[0m\n"
     ]
    },
    {
     "name": "stdout",
     "output_type": "stream",
     "text": [
      "\t Loss: 565.807,\tTrain : 94.64%(94.64%),\tTest : 94.62%(94.62%),\tCurrent Time: 20250721-160944\n"
     ]
    },
    {
     "name": "stderr",
     "output_type": "stream",
     "text": [
      "Epoch 23/100: 100%|\u001b[34m█████████████████\u001b[0m| 3000/3000 [00:35<00:00, 83.77batch/s, loss=0.182706]\u001b[0m\n"
     ]
    },
    {
     "name": "stdout",
     "output_type": "stream",
     "text": [
      "\t Loss: 548.478,\tTrain : 94.81%(94.81%),\tTest : 94.72%(94.72%),\tCurrent Time: 20250721-161020\n"
     ]
    },
    {
     "name": "stderr",
     "output_type": "stream",
     "text": [
      "Epoch 24/100: 100%|\u001b[34m█████████████████\u001b[0m| 3000/3000 [00:36<00:00, 83.14batch/s, loss=0.177100]\u001b[0m\n"
     ]
    },
    {
     "name": "stdout",
     "output_type": "stream",
     "text": [
      "\t Loss: 531.424,\tTrain : 95.00%(95.00%),\tTest : 94.89%(94.89%),\tCurrent Time: 20250721-161057\n"
     ]
    },
    {
     "name": "stderr",
     "output_type": "stream",
     "text": [
      "Epoch 25/100: 100%|\u001b[34m█████████████████\u001b[0m| 3000/3000 [00:35<00:00, 83.92batch/s, loss=0.171794]\u001b[0m\n"
     ]
    },
    {
     "name": "stdout",
     "output_type": "stream",
     "text": [
      "\t Loss: 515.450,\tTrain : 95.17%(95.17%),\tTest : 95.06%(95.06%),\tCurrent Time: 20250721-161133\n"
     ]
    },
    {
     "name": "stderr",
     "output_type": "stream",
     "text": [
      "Epoch 26/100: 100%|\u001b[34m█████████████████\u001b[0m| 3000/3000 [00:36<00:00, 82.02batch/s, loss=0.167010]\u001b[0m\n"
     ]
    },
    {
     "name": "stdout",
     "output_type": "stream",
     "text": [
      "\t Loss: 500.933,\tTrain : 95.29%(95.29%),\tTest : 95.16%(95.16%),\tCurrent Time: 20250721-161210\n"
     ]
    },
    {
     "name": "stderr",
     "output_type": "stream",
     "text": [
      "Epoch 27/100: 100%|\u001b[34m█████████████████\u001b[0m| 3000/3000 [00:34<00:00, 85.93batch/s, loss=0.162306]\u001b[0m\n"
     ]
    },
    {
     "name": "stdout",
     "output_type": "stream",
     "text": [
      "\t Loss: 486.577,\tTrain : 95.47%(95.47%),\tTest : 95.23%(95.23%),\tCurrent Time: 20250721-161246\n"
     ]
    },
    {
     "name": "stderr",
     "output_type": "stream",
     "text": [
      "Epoch 28/100: 100%|\u001b[34m█████████████████\u001b[0m| 3000/3000 [00:35<00:00, 83.55batch/s, loss=0.157446]\u001b[0m\n"
     ]
    },
    {
     "name": "stdout",
     "output_type": "stream",
     "text": [
      "\t Loss: 472.586,\tTrain : 95.56%(95.56%),\tTest : 95.40%(95.40%),\tCurrent Time: 20250721-161322\n"
     ]
    },
    {
     "name": "stderr",
     "output_type": "stream",
     "text": [
      "Epoch 29/100: 100%|\u001b[34m█████████████████\u001b[0m| 3000/3000 [00:36<00:00, 83.17batch/s, loss=0.153394]\u001b[0m\n"
     ]
    },
    {
     "name": "stdout",
     "output_type": "stream",
     "text": [
      "\t Loss: 459.886,\tTrain : 95.70%(95.70%),\tTest : 95.34%(95.40%),\tCurrent Time: 20250721-161359\n"
     ]
    },
    {
     "name": "stderr",
     "output_type": "stream",
     "text": [
      "Epoch 30/100: 100%|\u001b[34m█████████████████\u001b[0m| 3000/3000 [00:36<00:00, 82.50batch/s, loss=0.149451]\u001b[0m\n"
     ]
    },
    {
     "name": "stdout",
     "output_type": "stream",
     "text": [
      "\t Loss: 447.797,\tTrain : 95.78%(95.78%),\tTest : 95.44%(95.44%),\tCurrent Time: 20250721-161436\n"
     ]
    },
    {
     "name": "stderr",
     "output_type": "stream",
     "text": [
      "Epoch 31/100: 100%|\u001b[34m█████████████████\u001b[0m| 3000/3000 [00:36<00:00, 82.91batch/s, loss=0.145349]\u001b[0m\n"
     ]
    },
    {
     "name": "stdout",
     "output_type": "stream",
     "text": [
      "\t Loss: 435.671,\tTrain : 95.92%(95.92%),\tTest : 95.63%(95.63%),\tCurrent Time: 20250721-161513\n"
     ]
    },
    {
     "name": "stderr",
     "output_type": "stream",
     "text": [
      "Epoch 32/100: 100%|\u001b[34m█████████████████\u001b[0m| 3000/3000 [00:35<00:00, 84.78batch/s, loss=0.141787]\u001b[0m\n"
     ]
    },
    {
     "name": "stdout",
     "output_type": "stream",
     "text": [
      "\t Loss: 425.385,\tTrain : 95.98%(95.98%),\tTest : 95.74%(95.74%),\tCurrent Time: 20250721-161549\n"
     ]
    },
    {
     "name": "stderr",
     "output_type": "stream",
     "text": [
      "Epoch 33/100: 100%|\u001b[34m█████████████████\u001b[0m| 3000/3000 [00:36<00:00, 83.30batch/s, loss=0.137846]\u001b[0m\n"
     ]
    },
    {
     "name": "stdout",
     "output_type": "stream",
     "text": [
      "\t Loss: 413.636,\tTrain : 96.13%(96.13%),\tTest : 95.78%(95.78%),\tCurrent Time: 20250721-161625\n"
     ]
    },
    {
     "name": "stderr",
     "output_type": "stream",
     "text": [
      "Epoch 34/100: 100%|\u001b[34m█████████████████\u001b[0m| 3000/3000 [00:35<00:00, 85.44batch/s, loss=0.134247]\u001b[0m\n"
     ]
    },
    {
     "name": "stdout",
     "output_type": "stream",
     "text": [
      "\t Loss: 403.618,\tTrain : 96.23%(96.23%),\tTest : 95.82%(95.82%),\tCurrent Time: 20250721-161701\n"
     ]
    },
    {
     "name": "stderr",
     "output_type": "stream",
     "text": [
      "Epoch 35/100: 100%|\u001b[34m█████████████████\u001b[0m| 3000/3000 [00:35<00:00, 84.23batch/s, loss=0.131227]\u001b[0m\n"
     ]
    },
    {
     "name": "stdout",
     "output_type": "stream",
     "text": [
      "\t Loss: 393.710,\tTrain : 96.32%(96.32%),\tTest : 95.87%(95.87%),\tCurrent Time: 20250721-161737\n"
     ]
    },
    {
     "name": "stderr",
     "output_type": "stream",
     "text": [
      "Epoch 36/100: 100%|\u001b[34m█████████████████\u001b[0m| 3000/3000 [00:35<00:00, 83.44batch/s, loss=0.128054]\u001b[0m\n"
     ]
    },
    {
     "name": "stdout",
     "output_type": "stream",
     "text": [
      "\t Loss: 384.413,\tTrain : 96.43%(96.43%),\tTest : 95.99%(95.99%),\tCurrent Time: 20250721-161814\n"
     ]
    },
    {
     "name": "stderr",
     "output_type": "stream",
     "text": [
      "Epoch 37/100: 100%|\u001b[34m█████████████████\u001b[0m| 3000/3000 [00:34<00:00, 86.66batch/s, loss=0.124992]\u001b[0m\n"
     ]
    },
    {
     "name": "stdout",
     "output_type": "stream",
     "text": [
      "\t Loss: 374.412,\tTrain : 96.48%(96.48%),\tTest : 96.04%(96.04%),\tCurrent Time: 20250721-161849\n"
     ]
    },
    {
     "name": "stderr",
     "output_type": "stream",
     "text": [
      "Epoch 38/100: 100%|\u001b[34m█████████████████\u001b[0m| 3000/3000 [00:35<00:00, 84.21batch/s, loss=0.122175]\u001b[0m\n"
     ]
    },
    {
     "name": "stdout",
     "output_type": "stream",
     "text": [
      "\t Loss: 366.514,\tTrain : 96.58%(96.58%),\tTest : 96.02%(96.04%),\tCurrent Time: 20250721-161925\n"
     ]
    },
    {
     "name": "stderr",
     "output_type": "stream",
     "text": [
      "Epoch 39/100: 100%|\u001b[34m█████████████████\u001b[0m| 3000/3000 [00:35<00:00, 83.96batch/s, loss=0.119232]\u001b[0m\n"
     ]
    },
    {
     "name": "stdout",
     "output_type": "stream",
     "text": [
      "\t Loss: 358.004,\tTrain : 96.66%(96.66%),\tTest : 96.11%(96.11%),\tCurrent Time: 20250721-162002\n"
     ]
    },
    {
     "name": "stderr",
     "output_type": "stream",
     "text": [
      "Epoch 40/100: 100%|\u001b[34m█████████████████\u001b[0m| 3000/3000 [00:35<00:00, 84.02batch/s, loss=0.116800]\u001b[0m\n"
     ]
    },
    {
     "name": "stdout",
     "output_type": "stream",
     "text": [
      "\t Loss: 350.146,\tTrain : 96.72%(96.72%),\tTest : 96.12%(96.12%),\tCurrent Time: 20250721-162038\n"
     ]
    },
    {
     "name": "stderr",
     "output_type": "stream",
     "text": [
      "Epoch 41/100: 100%|\u001b[34m█████████████████\u001b[0m| 3000/3000 [00:35<00:00, 85.30batch/s, loss=0.113916]\u001b[0m\n"
     ]
    },
    {
     "name": "stdout",
     "output_type": "stream",
     "text": [
      "\t Loss: 341.800,\tTrain : 96.80%(96.80%),\tTest : 96.31%(96.31%),\tCurrent Time: 20250721-162114\n"
     ]
    },
    {
     "name": "stderr",
     "output_type": "stream",
     "text": [
      "Epoch 42/100: 100%|\u001b[34m█████████████████\u001b[0m| 3000/3000 [00:32<00:00, 91.28batch/s, loss=0.111369]\u001b[0m\n"
     ]
    },
    {
     "name": "stdout",
     "output_type": "stream",
     "text": [
      "\t Loss: 335.007,\tTrain : 96.88%(96.88%),\tTest : 96.32%(96.32%),\tCurrent Time: 20250721-162147\n"
     ]
    },
    {
     "name": "stderr",
     "output_type": "stream",
     "text": [
      "Epoch 43/100: 100%|\u001b[34m█████████████████\u001b[0m| 3000/3000 [00:33<00:00, 89.15batch/s, loss=0.109265]\u001b[0m\n"
     ]
    },
    {
     "name": "stdout",
     "output_type": "stream",
     "text": [
      "\t Loss: 327.296,\tTrain : 96.97%(96.97%),\tTest : 96.30%(96.32%),\tCurrent Time: 20250721-162221\n"
     ]
    },
    {
     "name": "stderr",
     "output_type": "stream",
     "text": [
      "Epoch 44/100: 100%|\u001b[34m█████████████████\u001b[0m| 3000/3000 [00:33<00:00, 89.67batch/s, loss=0.106888]\u001b[0m\n"
     ]
    },
    {
     "name": "stdout",
     "output_type": "stream",
     "text": [
      "\t Loss: 320.638,\tTrain : 97.02%(97.02%),\tTest : 96.31%(96.32%),\tCurrent Time: 20250721-162255\n"
     ]
    },
    {
     "name": "stderr",
     "output_type": "stream",
     "text": [
      "Epoch 45/100: 100%|\u001b[34m█████████████████\u001b[0m| 3000/3000 [00:34<00:00, 86.92batch/s, loss=0.104539]\u001b[0m\n"
     ]
    },
    {
     "name": "stdout",
     "output_type": "stream",
     "text": [
      "\t Loss: 313.875,\tTrain : 97.05%(97.05%),\tTest : 96.45%(96.45%),\tCurrent Time: 20250721-162331\n"
     ]
    },
    {
     "name": "stderr",
     "output_type": "stream",
     "text": [
      "Epoch 46/100: 100%|\u001b[34m█████████████████\u001b[0m| 3000/3000 [00:35<00:00, 84.04batch/s, loss=0.102209]\u001b[0m\n"
     ]
    },
    {
     "name": "stdout",
     "output_type": "stream",
     "text": [
      "\t Loss: 306.914,\tTrain : 97.15%(97.15%),\tTest : 96.42%(96.45%),\tCurrent Time: 20250721-162407\n"
     ]
    },
    {
     "name": "stderr",
     "output_type": "stream",
     "text": [
      "Epoch 47/100: 100%|\u001b[34m█████████████████\u001b[0m| 3000/3000 [00:35<00:00, 83.88batch/s, loss=0.100153]\u001b[0m\n"
     ]
    },
    {
     "name": "stdout",
     "output_type": "stream",
     "text": [
      "\t Loss: 300.586,\tTrain : 97.16%(97.16%),\tTest : 96.49%(96.49%),\tCurrent Time: 20250721-162443\n"
     ]
    },
    {
     "name": "stderr",
     "output_type": "stream",
     "text": [
      "Epoch 48/100: 100%|\u001b[34m█████████████████\u001b[0m| 3000/3000 [00:36<00:00, 82.83batch/s, loss=0.097910]\u001b[0m\n"
     ]
    },
    {
     "name": "stdout",
     "output_type": "stream",
     "text": [
      "\t Loss: 294.298,\tTrain : 97.25%(97.25%),\tTest : 96.50%(96.50%),\tCurrent Time: 20250721-162520\n"
     ]
    },
    {
     "name": "stderr",
     "output_type": "stream",
     "text": [
      "Epoch 49/100: 100%|\u001b[34m█████████████████\u001b[0m| 3000/3000 [00:36<00:00, 83.22batch/s, loss=0.095832]\u001b[0m\n"
     ]
    },
    {
     "name": "stdout",
     "output_type": "stream",
     "text": [
      "\t Loss: 288.665,\tTrain : 97.30%(97.30%),\tTest : 96.54%(96.54%),\tCurrent Time: 20250721-162557\n"
     ]
    },
    {
     "name": "stderr",
     "output_type": "stream",
     "text": [
      "Epoch 50/100: 100%|\u001b[34m█████████████████\u001b[0m| 3000/3000 [00:35<00:00, 83.59batch/s, loss=0.094472]\u001b[0m\n"
     ]
    },
    {
     "name": "stdout",
     "output_type": "stream",
     "text": [
      "\t Loss: 283.239,\tTrain : 97.34%(97.34%),\tTest : 96.60%(96.60%),\tCurrent Time: 20250721-162633\n"
     ]
    },
    {
     "name": "stderr",
     "output_type": "stream",
     "text": [
      "Epoch 51/100: 100%|\u001b[34m█████████████████\u001b[0m| 3000/3000 [00:35<00:00, 84.28batch/s, loss=0.092374]\u001b[0m\n"
     ]
    },
    {
     "name": "stdout",
     "output_type": "stream",
     "text": [
      "\t Loss: 277.136,\tTrain : 97.41%(97.41%),\tTest : 96.65%(96.65%),\tCurrent Time: 20250721-162709\n"
     ]
    },
    {
     "name": "stderr",
     "output_type": "stream",
     "text": [
      "Epoch 52/100: 100%|\u001b[34m█████████████████\u001b[0m| 3000/3000 [00:35<00:00, 84.10batch/s, loss=0.090859]\u001b[0m\n"
     ]
    },
    {
     "name": "stdout",
     "output_type": "stream",
     "text": [
      "\t Loss: 272.141,\tTrain : 97.43%(97.43%),\tTest : 96.65%(96.65%),\tCurrent Time: 20250721-162746\n"
     ]
    },
    {
     "name": "stderr",
     "output_type": "stream",
     "text": [
      "Epoch 53/100: 100%|\u001b[34m█████████████████\u001b[0m| 3000/3000 [00:36<00:00, 83.18batch/s, loss=0.089133]\u001b[0m\n"
     ]
    },
    {
     "name": "stdout",
     "output_type": "stream",
     "text": [
      "\t Loss: 267.080,\tTrain : 97.48%(97.48%),\tTest : 96.78%(96.78%),\tCurrent Time: 20250721-162822\n"
     ]
    },
    {
     "name": "stderr",
     "output_type": "stream",
     "text": [
      "Epoch 54/100: 100%|\u001b[34m█████████████████\u001b[0m| 3000/3000 [00:36<00:00, 82.59batch/s, loss=0.087142]\u001b[0m\n"
     ]
    },
    {
     "name": "stdout",
     "output_type": "stream",
     "text": [
      "\t Loss: 261.867,\tTrain : 97.51%(97.51%),\tTest : 96.79%(96.79%),\tCurrent Time: 20250721-162859\n"
     ]
    },
    {
     "name": "stderr",
     "output_type": "stream",
     "text": [
      "Epoch 55/100: 100%|\u001b[34m█████████████████\u001b[0m| 3000/3000 [00:36<00:00, 82.22batch/s, loss=0.085668]\u001b[0m\n"
     ]
    },
    {
     "name": "stdout",
     "output_type": "stream",
     "text": [
      "\t Loss: 257.209,\tTrain : 97.57%(97.57%),\tTest : 96.84%(96.84%),\tCurrent Time: 20250721-162936\n"
     ]
    },
    {
     "name": "stderr",
     "output_type": "stream",
     "text": [
      "Epoch 56/100: 100%|\u001b[34m█████████████████\u001b[0m| 3000/3000 [00:34<00:00, 86.81batch/s, loss=0.083810]\u001b[0m\n"
     ]
    },
    {
     "name": "stdout",
     "output_type": "stream",
     "text": [
      "\t Loss: 252.005,\tTrain : 97.62%(97.62%),\tTest : 96.87%(96.87%),\tCurrent Time: 20250721-163012\n"
     ]
    },
    {
     "name": "stderr",
     "output_type": "stream",
     "text": [
      "Epoch 57/100: 100%|\u001b[34m█████████████████\u001b[0m| 3000/3000 [00:35<00:00, 84.74batch/s, loss=0.082487]\u001b[0m\n"
     ]
    },
    {
     "name": "stdout",
     "output_type": "stream",
     "text": [
      "\t Loss: 247.614,\tTrain : 97.67%(97.67%),\tTest : 96.79%(96.87%),\tCurrent Time: 20250721-163048\n"
     ]
    },
    {
     "name": "stderr",
     "output_type": "stream",
     "text": [
      "Epoch 58/100: 100%|\u001b[34m█████████████████\u001b[0m| 3000/3000 [00:35<00:00, 84.39batch/s, loss=0.080995]\u001b[0m\n"
     ]
    },
    {
     "name": "stdout",
     "output_type": "stream",
     "text": [
      "\t Loss: 242.973,\tTrain : 97.70%(97.70%),\tTest : 96.82%(96.87%),\tCurrent Time: 20250721-163124\n"
     ]
    },
    {
     "name": "stderr",
     "output_type": "stream",
     "text": [
      "Epoch 59/100: 100%|\u001b[34m█████████████████\u001b[0m| 3000/3000 [00:35<00:00, 83.43batch/s, loss=0.079593]\u001b[0m\n"
     ]
    },
    {
     "name": "stdout",
     "output_type": "stream",
     "text": [
      "\t Loss: 238.671,\tTrain : 97.77%(97.77%),\tTest : 96.93%(96.93%),\tCurrent Time: 20250721-163200\n"
     ]
    },
    {
     "name": "stderr",
     "output_type": "stream",
     "text": [
      "Epoch 60/100: 100%|\u001b[34m█████████████████\u001b[0m| 3000/3000 [00:35<00:00, 84.12batch/s, loss=0.078119]\u001b[0m\n"
     ]
    },
    {
     "name": "stdout",
     "output_type": "stream",
     "text": [
      "\t Loss: 234.258,\tTrain : 97.80%(97.80%),\tTest : 96.95%(96.95%),\tCurrent Time: 20250721-163236\n"
     ]
    },
    {
     "name": "stderr",
     "output_type": "stream",
     "text": [
      "Epoch 61/100: 100%|\u001b[34m█████████████████\u001b[0m| 3000/3000 [00:36<00:00, 82.30batch/s, loss=0.076737]\u001b[0m\n"
     ]
    },
    {
     "name": "stdout",
     "output_type": "stream",
     "text": [
      "\t Loss: 230.058,\tTrain : 97.84%(97.84%),\tTest : 97.05%(97.05%),\tCurrent Time: 20250721-163314\n"
     ]
    },
    {
     "name": "stderr",
     "output_type": "stream",
     "text": [
      "Epoch 62/100: 100%|\u001b[34m█████████████████\u001b[0m| 3000/3000 [00:35<00:00, 84.41batch/s, loss=0.075295]\u001b[0m\n"
     ]
    },
    {
     "name": "stdout",
     "output_type": "stream",
     "text": [
      "\t Loss: 225.705,\tTrain : 97.93%(97.93%),\tTest : 97.03%(97.05%),\tCurrent Time: 20250721-163350\n"
     ]
    },
    {
     "name": "stderr",
     "output_type": "stream",
     "text": [
      "Epoch 63/100: 100%|\u001b[34m█████████████████\u001b[0m| 3000/3000 [00:35<00:00, 83.94batch/s, loss=0.073999]\u001b[0m\n"
     ]
    },
    {
     "name": "stdout",
     "output_type": "stream",
     "text": [
      "\t Loss: 221.869,\tTrain : 97.95%(97.95%),\tTest : 97.07%(97.07%),\tCurrent Time: 20250721-163426\n"
     ]
    },
    {
     "name": "stderr",
     "output_type": "stream",
     "text": [
      "Epoch 64/100: 100%|\u001b[34m█████████████████\u001b[0m| 3000/3000 [00:36<00:00, 83.15batch/s, loss=0.072857]\u001b[0m\n"
     ]
    },
    {
     "name": "stdout",
     "output_type": "stream",
     "text": [
      "\t Loss: 218.378,\tTrain : 97.97%(97.97%),\tTest : 97.03%(97.07%),\tCurrent Time: 20250721-163503\n"
     ]
    },
    {
     "name": "stderr",
     "output_type": "stream",
     "text": [
      "Epoch 65/100: 100%|\u001b[34m█████████████████\u001b[0m| 3000/3000 [00:35<00:00, 83.98batch/s, loss=0.071395]\u001b[0m\n"
     ]
    },
    {
     "name": "stdout",
     "output_type": "stream",
     "text": [
      "\t Loss: 214.180,\tTrain : 98.04%(98.04%),\tTest : 97.08%(97.08%),\tCurrent Time: 20250721-163539\n"
     ]
    },
    {
     "name": "stderr",
     "output_type": "stream",
     "text": [
      "Epoch 66/100: 100%|\u001b[34m█████████████████\u001b[0m| 3000/3000 [00:36<00:00, 82.96batch/s, loss=0.070323]\u001b[0m\n"
     ]
    },
    {
     "name": "stdout",
     "output_type": "stream",
     "text": [
      "\t Loss: 210.907,\tTrain : 98.05%(98.05%),\tTest : 97.14%(97.14%),\tCurrent Time: 20250721-163616\n"
     ]
    },
    {
     "name": "stderr",
     "output_type": "stream",
     "text": [
      "Epoch 67/100: 100%|\u001b[34m█████████████████\u001b[0m| 3000/3000 [00:35<00:00, 84.17batch/s, loss=0.068942]\u001b[0m\n"
     ]
    },
    {
     "name": "stdout",
     "output_type": "stream",
     "text": [
      "\t Loss: 206.977,\tTrain : 98.10%(98.10%),\tTest : 97.18%(97.18%),\tCurrent Time: 20250721-163652\n"
     ]
    },
    {
     "name": "stderr",
     "output_type": "stream",
     "text": [
      "Epoch 68/100: 100%|\u001b[34m█████████████████\u001b[0m| 3000/3000 [00:35<00:00, 84.84batch/s, loss=0.067762]\u001b[0m\n"
     ]
    },
    {
     "name": "stdout",
     "output_type": "stream",
     "text": [
      "\t Loss: 203.306,\tTrain : 98.16%(98.16%),\tTest : 97.15%(97.18%),\tCurrent Time: 20250721-163728\n"
     ]
    },
    {
     "name": "stderr",
     "output_type": "stream",
     "text": [
      "Epoch 69/100: 100%|\u001b[34m█████████████████\u001b[0m| 3000/3000 [00:35<00:00, 85.67batch/s, loss=0.066707]\u001b[0m\n"
     ]
    },
    {
     "name": "stdout",
     "output_type": "stream",
     "text": [
      "\t Loss: 200.171,\tTrain : 98.15%(98.16%),\tTest : 97.07%(97.18%),\tCurrent Time: 20250721-163804\n"
     ]
    },
    {
     "name": "stderr",
     "output_type": "stream",
     "text": [
      "Epoch 70/100: 100%|\u001b[34m█████████████████\u001b[0m| 3000/3000 [00:34<00:00, 87.56batch/s, loss=0.065759]\u001b[0m\n"
     ]
    },
    {
     "name": "stdout",
     "output_type": "stream",
     "text": [
      "\t Loss: 197.099,\tTrain : 98.20%(98.20%),\tTest : 97.25%(97.25%),\tCurrent Time: 20250721-163838\n"
     ]
    },
    {
     "name": "stderr",
     "output_type": "stream",
     "text": [
      "Epoch 71/100: 100%|\u001b[34m█████████████████\u001b[0m| 3000/3000 [00:35<00:00, 83.48batch/s, loss=0.064382]\u001b[0m\n"
     ]
    },
    {
     "name": "stdout",
     "output_type": "stream",
     "text": [
      "\t Loss: 193.230,\tTrain : 98.23%(98.23%),\tTest : 97.16%(97.25%),\tCurrent Time: 20250721-163915\n"
     ]
    },
    {
     "name": "stderr",
     "output_type": "stream",
     "text": [
      "Epoch 72/100: 100%|\u001b[34m█████████████████\u001b[0m| 3000/3000 [00:36<00:00, 82.77batch/s, loss=0.063337]\u001b[0m\n"
     ]
    },
    {
     "name": "stdout",
     "output_type": "stream",
     "text": [
      "\t Loss: 190.025,\tTrain : 98.27%(98.27%),\tTest : 97.26%(97.26%),\tCurrent Time: 20250721-163952\n"
     ]
    },
    {
     "name": "stderr",
     "output_type": "stream",
     "text": [
      "Epoch 73/100: 100%|\u001b[34m█████████████████\u001b[0m| 3000/3000 [00:35<00:00, 84.40batch/s, loss=0.062495]\u001b[0m\n"
     ]
    },
    {
     "name": "stdout",
     "output_type": "stream",
     "text": [
      "\t Loss: 187.267,\tTrain : 98.28%(98.28%),\tTest : 97.23%(97.26%),\tCurrent Time: 20250721-164028\n"
     ]
    },
    {
     "name": "stderr",
     "output_type": "stream",
     "text": [
      "Epoch 74/100: 100%|\u001b[34m█████████████████\u001b[0m| 3000/3000 [00:35<00:00, 84.24batch/s, loss=0.061333]\u001b[0m\n"
     ]
    },
    {
     "name": "stdout",
     "output_type": "stream",
     "text": [
      "\t Loss: 184.123,\tTrain : 98.34%(98.34%),\tTest : 97.26%(97.26%),\tCurrent Time: 20250721-164104\n"
     ]
    },
    {
     "name": "stderr",
     "output_type": "stream",
     "text": [
      "Epoch 75/100: 100%|\u001b[34m█████████████████\u001b[0m| 3000/3000 [00:35<00:00, 83.46batch/s, loss=0.060547]\u001b[0m\n"
     ]
    },
    {
     "name": "stdout",
     "output_type": "stream",
     "text": [
      "\t Loss: 181.397,\tTrain : 98.36%(98.36%),\tTest : 97.11%(97.26%),\tCurrent Time: 20250721-164141\n"
     ]
    },
    {
     "name": "stderr",
     "output_type": "stream",
     "text": [
      "Epoch 76/100: 100%|\u001b[34m█████████████████\u001b[0m| 3000/3000 [00:36<00:00, 83.30batch/s, loss=0.059444]\u001b[0m\n"
     ]
    },
    {
     "name": "stdout",
     "output_type": "stream",
     "text": [
      "\t Loss: 178.394,\tTrain : 98.35%(98.36%),\tTest : 97.28%(97.28%),\tCurrent Time: 20250721-164217\n"
     ]
    },
    {
     "name": "stderr",
     "output_type": "stream",
     "text": [
      "Epoch 77/100: 100%|\u001b[34m█████████████████\u001b[0m| 3000/3000 [00:34<00:00, 86.06batch/s, loss=0.058528]\u001b[0m\n"
     ]
    },
    {
     "name": "stdout",
     "output_type": "stream",
     "text": [
      "\t Loss: 175.692,\tTrain : 98.43%(98.43%),\tTest : 97.27%(97.28%),\tCurrent Time: 20250721-164253\n"
     ]
    },
    {
     "name": "stderr",
     "output_type": "stream",
     "text": [
      "Epoch 78/100: 100%|\u001b[34m█████████████████\u001b[0m| 3000/3000 [00:35<00:00, 84.96batch/s, loss=0.057684]\u001b[0m\n"
     ]
    },
    {
     "name": "stdout",
     "output_type": "stream",
     "text": [
      "\t Loss: 173.027,\tTrain : 98.44%(98.44%),\tTest : 97.33%(97.33%),\tCurrent Time: 20250721-164329\n"
     ]
    },
    {
     "name": "stderr",
     "output_type": "stream",
     "text": [
      "Epoch 79/100: 100%|\u001b[34m█████████████████\u001b[0m| 3000/3000 [00:34<00:00, 85.82batch/s, loss=0.056766]\u001b[0m\n"
     ]
    },
    {
     "name": "stdout",
     "output_type": "stream",
     "text": [
      "\t Loss: 170.036,\tTrain : 98.49%(98.49%),\tTest : 97.38%(97.38%),\tCurrent Time: 20250721-164404\n"
     ]
    },
    {
     "name": "stderr",
     "output_type": "stream",
     "text": [
      "Epoch 80/100: 100%|\u001b[34m█████████████████\u001b[0m| 3000/3000 [00:35<00:00, 84.66batch/s, loss=0.055912]\u001b[0m\n"
     ]
    },
    {
     "name": "stdout",
     "output_type": "stream",
     "text": [
      "\t Loss: 167.503,\tTrain : 98.48%(98.49%),\tTest : 97.33%(97.38%),\tCurrent Time: 20250721-164440\n"
     ]
    },
    {
     "name": "stderr",
     "output_type": "stream",
     "text": [
      "Epoch 81/100: 100%|\u001b[34m█████████████████\u001b[0m| 3000/3000 [00:34<00:00, 85.79batch/s, loss=0.054994]\u001b[0m\n"
     ]
    },
    {
     "name": "stdout",
     "output_type": "stream",
     "text": [
      "\t Loss: 164.932,\tTrain : 98.51%(98.51%),\tTest : 97.27%(97.38%),\tCurrent Time: 20250721-164516\n"
     ]
    },
    {
     "name": "stderr",
     "output_type": "stream",
     "text": [
      "Epoch 82/100: 100%|\u001b[34m█████████████████\u001b[0m| 3000/3000 [00:36<00:00, 82.69batch/s, loss=0.053999]\u001b[0m\n"
     ]
    },
    {
     "name": "stdout",
     "output_type": "stream",
     "text": [
      "\t Loss: 162.472,\tTrain : 98.54%(98.54%),\tTest : 97.38%(97.38%),\tCurrent Time: 20250721-164553\n"
     ]
    },
    {
     "name": "stderr",
     "output_type": "stream",
     "text": [
      "Epoch 83/100: 100%|\u001b[34m█████████████████\u001b[0m| 3000/3000 [00:34<00:00, 86.45batch/s, loss=0.053274]\u001b[0m\n"
     ]
    },
    {
     "name": "stdout",
     "output_type": "stream",
     "text": [
      "\t Loss: 159.778,\tTrain : 98.59%(98.59%),\tTest : 97.47%(97.47%),\tCurrent Time: 20250721-164628\n"
     ]
    },
    {
     "name": "stderr",
     "output_type": "stream",
     "text": [
      "Epoch 84/100: 100%|\u001b[34m█████████████████\u001b[0m| 3000/3000 [00:35<00:00, 83.91batch/s, loss=0.052210]\u001b[0m\n"
     ]
    },
    {
     "name": "stdout",
     "output_type": "stream",
     "text": [
      "\t Loss: 157.464,\tTrain : 98.59%(98.59%),\tTest : 97.28%(97.47%),\tCurrent Time: 20250721-164704\n"
     ]
    },
    {
     "name": "stderr",
     "output_type": "stream",
     "text": [
      "Epoch 85/100: 100%|\u001b[34m█████████████████\u001b[0m| 3000/3000 [00:35<00:00, 84.06batch/s, loss=0.051714]\u001b[0m\n"
     ]
    },
    {
     "name": "stdout",
     "output_type": "stream",
     "text": [
      "\t Loss: 154.915,\tTrain : 98.65%(98.65%),\tTest : 97.49%(97.49%),\tCurrent Time: 20250721-164741\n"
     ]
    },
    {
     "name": "stderr",
     "output_type": "stream",
     "text": [
      "Epoch 86/100: 100%|\u001b[34m█████████████████\u001b[0m| 3000/3000 [00:35<00:00, 83.60batch/s, loss=0.050961]\u001b[0m\n"
     ]
    },
    {
     "name": "stdout",
     "output_type": "stream",
     "text": [
      "\t Loss: 152.884,\tTrain : 98.67%(98.67%),\tTest : 97.40%(97.49%),\tCurrent Time: 20250721-164817\n"
     ]
    },
    {
     "name": "stderr",
     "output_type": "stream",
     "text": [
      "Epoch 87/100: 100%|\u001b[34m█████████████████\u001b[0m| 3000/3000 [00:35<00:00, 84.06batch/s, loss=0.050205]\u001b[0m\n"
     ]
    },
    {
     "name": "stdout",
     "output_type": "stream",
     "text": [
      "\t Loss: 150.396,\tTrain : 98.67%(98.67%),\tTest : 97.45%(97.49%),\tCurrent Time: 20250721-164853\n"
     ]
    },
    {
     "name": "stderr",
     "output_type": "stream",
     "text": [
      "Epoch 88/100: 100%|\u001b[34m█████████████████\u001b[0m| 3000/3000 [00:35<00:00, 84.72batch/s, loss=0.049460]\u001b[0m\n"
     ]
    },
    {
     "name": "stdout",
     "output_type": "stream",
     "text": [
      "\t Loss: 148.213,\tTrain : 98.69%(98.69%),\tTest : 97.33%(97.49%),\tCurrent Time: 20250721-164929\n"
     ]
    },
    {
     "name": "stderr",
     "output_type": "stream",
     "text": [
      "Epoch 89/100: 100%|\u001b[34m█████████████████\u001b[0m| 3000/3000 [00:35<00:00, 84.71batch/s, loss=0.048541]\u001b[0m\n"
     ]
    },
    {
     "name": "stdout",
     "output_type": "stream",
     "text": [
      "\t Loss: 145.780,\tTrain : 98.71%(98.71%),\tTest : 97.45%(97.49%),\tCurrent Time: 20250721-165005\n"
     ]
    },
    {
     "name": "stderr",
     "output_type": "stream",
     "text": [
      "Epoch 90/100: 100%|\u001b[34m█████████████████\u001b[0m| 3000/3000 [00:36<00:00, 82.62batch/s, loss=0.047720]\u001b[0m\n"
     ]
    },
    {
     "name": "stdout",
     "output_type": "stream",
     "text": [
      "\t Loss: 143.356,\tTrain : 98.71%(98.71%),\tTest : 97.41%(97.49%),\tCurrent Time: 20250721-165042\n"
     ]
    },
    {
     "name": "stderr",
     "output_type": "stream",
     "text": [
      "Epoch 91/100: 100%|\u001b[34m█████████████████\u001b[0m| 3000/3000 [00:34<00:00, 86.36batch/s, loss=0.047139]\u001b[0m\n"
     ]
    },
    {
     "name": "stdout",
     "output_type": "stream",
     "text": [
      "\t Loss: 141.272,\tTrain : 98.78%(98.78%),\tTest : 97.43%(97.49%),\tCurrent Time: 20250721-165118\n"
     ]
    },
    {
     "name": "stderr",
     "output_type": "stream",
     "text": [
      "Epoch 92/100: 100%|\u001b[34m█████████████████\u001b[0m| 3000/3000 [00:34<00:00, 86.56batch/s, loss=0.046379]\u001b[0m\n"
     ]
    },
    {
     "name": "stdout",
     "output_type": "stream",
     "text": [
      "\t Loss: 139.269,\tTrain : 98.79%(98.79%),\tTest : 97.45%(97.49%),\tCurrent Time: 20250721-165153\n"
     ]
    },
    {
     "name": "stderr",
     "output_type": "stream",
     "text": [
      "Epoch 93/100: 100%|\u001b[34m█████████████████\u001b[0m| 3000/3000 [00:35<00:00, 85.00batch/s, loss=0.045793]\u001b[0m\n"
     ]
    },
    {
     "name": "stdout",
     "output_type": "stream",
     "text": [
      "\t Loss: 137.236,\tTrain : 98.82%(98.82%),\tTest : 97.51%(97.51%),\tCurrent Time: 20250721-165229\n"
     ]
    },
    {
     "name": "stderr",
     "output_type": "stream",
     "text": [
      "Epoch 94/100: 100%|\u001b[34m█████████████████\u001b[0m| 3000/3000 [00:35<00:00, 84.39batch/s, loss=0.045267]\u001b[0m\n"
     ]
    },
    {
     "name": "stdout",
     "output_type": "stream",
     "text": [
      "\t Loss: 135.697,\tTrain : 98.80%(98.82%),\tTest : 97.51%(97.51%),\tCurrent Time: 20250721-165305\n"
     ]
    },
    {
     "name": "stderr",
     "output_type": "stream",
     "text": [
      "Epoch 95/100: 100%|\u001b[34m█████████████████\u001b[0m| 3000/3000 [00:34<00:00, 86.14batch/s, loss=0.044472]\u001b[0m\n"
     ]
    },
    {
     "name": "stdout",
     "output_type": "stream",
     "text": [
      "\t Loss: 133.328,\tTrain : 98.86%(98.86%),\tTest : 97.51%(97.51%),\tCurrent Time: 20250721-165340\n"
     ]
    },
    {
     "name": "stderr",
     "output_type": "stream",
     "text": [
      "Epoch 96/100: 100%|\u001b[34m█████████████████\u001b[0m| 3000/3000 [00:35<00:00, 84.68batch/s, loss=0.043792]\u001b[0m\n"
     ]
    },
    {
     "name": "stdout",
     "output_type": "stream",
     "text": [
      "\t Loss: 131.373,\tTrain : 98.88%(98.88%),\tTest : 97.58%(97.58%),\tCurrent Time: 20250721-165416\n"
     ]
    },
    {
     "name": "stderr",
     "output_type": "stream",
     "text": [
      "Epoch 97/100: 100%|\u001b[34m█████████████████\u001b[0m| 3000/3000 [00:36<00:00, 82.75batch/s, loss=0.043300]\u001b[0m\n"
     ]
    },
    {
     "name": "stdout",
     "output_type": "stream",
     "text": [
      "\t Loss: 129.916,\tTrain : 98.89%(98.89%),\tTest : 97.52%(97.58%),\tCurrent Time: 20250721-165453\n"
     ]
    },
    {
     "name": "stderr",
     "output_type": "stream",
     "text": [
      "Epoch 98/100: 100%|\u001b[34m█████████████████\u001b[0m| 3000/3000 [00:35<00:00, 83.65batch/s, loss=0.042536]\u001b[0m\n"
     ]
    },
    {
     "name": "stdout",
     "output_type": "stream",
     "text": [
      "\t Loss: 127.575,\tTrain : 98.92%(98.92%),\tTest : 97.53%(97.58%),\tCurrent Time: 20250721-165530\n"
     ]
    },
    {
     "name": "stderr",
     "output_type": "stream",
     "text": [
      "Epoch 99/100: 100%|\u001b[34m█████████████████\u001b[0m| 3000/3000 [00:35<00:00, 83.49batch/s, loss=0.041946]\u001b[0m\n"
     ]
    },
    {
     "name": "stdout",
     "output_type": "stream",
     "text": [
      "\t Loss: 126.017,\tTrain : 98.94%(98.94%),\tTest : 97.49%(97.58%),\tCurrent Time: 20250721-165606\n"
     ]
    },
    {
     "name": "stderr",
     "output_type": "stream",
     "text": [
      "Epoch 100/100: 100%|\u001b[34m████████████████\u001b[0m| 3000/3000 [00:36<00:00, 83.22batch/s, loss=0.041311]\u001b[0m\n"
     ]
    },
    {
     "name": "stdout",
     "output_type": "stream",
     "text": [
      "\t Loss: 123.982,\tTrain : 98.94%(98.94%),\tTest : 97.51%(97.58%),\tCurrent Time: 20250721-165643\n",
      "EP_L3_MNIST_First_symm_LN_t2sta2_bs20-EP_b_sc0.01-EP_It2sta18- Time: 20250721-165643, Epochs: 100, Learning Rate: 0.001, Best: 98.94%  97.58%\n",
      "\n"
     ]
    }
   ],
   "source": [
    "for iPara in range( len(ParaRange) ):\n",
    "    for iM in range( len(M_range) ):\n",
    "        for  imultitest in range((multitest)):\n",
    "            config.EP_b_sc = M_range[iM]\n",
    "            config.nL_hidd = ParaRange[iPara]\n",
    "\n",
    "            #-----------------\n",
    "            config.EP_It2sta = 10 if config.nL_hidd==2 else 18\n",
    "            config.EP_It2sta2 = 5 if config.nL_hidd==2 else 10\n",
    "            # ---------------------------------\n",
    "            model = FNN_LN(config).to(device)\n",
    "\n",
    "            taskinfo = f'EP_L{config.nL_hidd}_{config.train_task}_{ParaName}-EP_b_sc{M_range[iM]}-EP_It2sta{config.EP_It2sta}-{Einfo}'\n",
    "            print(taskinfo)\n",
    "\n",
    "            ## Train\n",
    "\n",
    "            for epoch in range(config.train_n_epochs):\n",
    "                losssum = 0\n",
    "                train_correct = 0\n",
    "                train_total = 0\n",
    "                random.shuffle(train_loader_gpu)\n",
    "                with tqdm(total=len(train_loader_gpu), desc=f'Epoch {epoch + 1}/{config.train_n_epochs}: ', unit='batch', ncols=90, mininterval=1, colour='blue') as pbar:\n",
    "                    for i, (images, labels) in enumerate(train_loader_gpu):\n",
    "                        # \n",
    "                        images = images.view(-1, config.n_input)\n",
    "                        labels_one_hot = one_hot(labels, config.n_out, device=device)\n",
    "                        # \n",
    "                        outputs = model.forward(images)\n",
    "                        _, predicted = torch.max(outputs, 1)\n",
    "                        # \n",
    "                        loss = cross_entropy_loss(outputs, labels_one_hot.to(device))\n",
    "                        losssum += loss.item()\n",
    "                        #\n",
    "                        outputs = model.backward(images, labels_one_hot, outputs)\n",
    "                        # \n",
    "                        model.update_weights_adam() if config.adam else model.update_weights(lr=[0.002, 0.01, 0.05, 0.2]) #model.update_weights_adam() model.update_weights()\n",
    "                        # \n",
    "                        if i % 100 == 0: \n",
    "                            pbar.set_postfix({'loss': f'{losssum/(i+1):.6f}'})  \n",
    "                            pbar.update(100)\n",
    "\n",
    "                # SR, ftmle, mle, zall = model.Lyapunov_EP(images[-1:,:], y=None, t_e=500, ret_zall=True)\n",
    "                # if imultitest==0: zall_list[iM][iPara].append(zall)\n",
    "\n",
    "                # terr = model.ret_error()\n",
    "                # eall_list[iM][iPara][imultitest].append(terr)\n",
    "\n",
    "                # # train set ------------------------------------------------------------\n",
    "                # losssum = 0\n",
    "                # for images, labels in valid_loader_gpu:\n",
    "                #     images = images.view(-1, config.n_input)\n",
    "                #     labels_one_hot = one_hot(labels, config.n_out, device=device)\n",
    "                #     # \n",
    "                #     outputs = model.forward(images)\n",
    "\n",
    "                    # loss = cross_entropy_loss(outputs, labels_one_hot.to(device))\n",
    "                        # losssum += loss.item()\n",
    "                        train_total += labels.size(0)\n",
    "                        train_correct += (predicted == labels).sum().item()\n",
    "\n",
    "                train_accuracy = train_correct / train_total\n",
    "\n",
    "                # test set -------------------------------------------------------------\n",
    "                test_correct = 0\n",
    "                test_total = 0\n",
    "                # ---------\n",
    "                for images, labels in test_loader_gpu:\n",
    "                    images = images.view(-1, config.n_input)\n",
    "                    # \n",
    "                    outputs = model.forward(images)\n",
    "\n",
    "                    _, predicted = torch.max(outputs, 1)\n",
    "                    test_total += labels.size(0)\n",
    "                    test_correct += (predicted == labels).sum().item()\n",
    "\n",
    "                test_accuracy = test_correct / test_total\n",
    "\n",
    "                res[iM][iPara][imultitest][0][epoch] = losssum\n",
    "                res[iM][iPara][imultitest][1][epoch] = train_accuracy\n",
    "                res[iM][iPara][imultitest][2][epoch] = test_accuracy\n",
    "                # res[iM][iPara][imultitest][3][epoch] = ftmle\n",
    "                # res[iM][iPara][imultitest][4][epoch] = mle\n",
    "                # res[iM][iPara][imultitest][5][epoch] = SR\n",
    "\n",
    "                current_time = time.strftime(\"%Y%m%d-%H%M%S\", time.localtime())\n",
    "                print(f'\\t Loss: {res[iM][iPara][imultitest][0][epoch] :.3f},\\t'\n",
    "                    f'Train : {res[iM][iPara][imultitest][1][epoch] * 100:.2f}%({np.max(res[iM][iPara][imultitest][1]) * 100:.2f}%),\\t'\n",
    "                    f'Test : {res[iM][iPara][imultitest][2][epoch] * 100:.2f}%({np.max(res[iM][iPara][imultitest][2]) * 100:.2f}%),\\t'\n",
    "                    f'Current Time: {current_time}')\n",
    "                \n",
    "                # if 1-train_accuracy <1e-4:\n",
    "                #     break\n",
    "            \n",
    "            # best result\n",
    "            print(f\"{taskinfo} Time: {current_time}, Epochs: {config.train_n_epochs}, Learning Rate: {config.train_eta_global}, \"\n",
    "                f\"Best: {max(res[iM][iPara][imultitest][1]) * 100:.2f}%  {max(res[iM][iPara][imultitest][2]) * 100:.2f}%\\n\")\n",
    "            \n",
    "        for attempt in range(5):\n",
    "            try:\n",
    "                with open(res_path/\"res.txt\", \"a\") as f:\n",
    "                    trainacct = np.max(res[iM][iPara][:,1,:], axis=-1)\n",
    "                    testacct = np.max(res[iM][iPara][:,2,:], axis=-1)\n",
    "                    f.write(f\"{taskinfo} Time: {current_time}: \"\n",
    "                            f\"train: {np.mean(trainacct) * 100:.2f}%+-{np.std(trainacct, ddof=1)*100:.2f}% ({np.min(trainacct) * 100:.2f}% {np.max(trainacct) * 100:.2f}%)\"\n",
    "                            f\"\\t test: {np.mean(testacct) * 100:.2f}%+-{np.std(testacct, ddof=1)*100:.2f}% ({np.min(testacct) * 100:.2f}% {np.max(testacct) * 100:.2f}%)\\n\")\n",
    "\n",
    "                    for attr_name in dir(config):\n",
    "                        if not attr_name.startswith('__') and not callable(getattr(config, attr_name)):  \n",
    "                            attr_value = getattr(config, attr_name)\n",
    "                            f.write(f'{attr_name}: {attr_value}  ')  \n",
    "                    f.write(f'\\n\\n')  \n",
    "\n",
    "                break  # \n",
    "            except PermissionError:\n",
    "                if attempt < 5 - 1:\n",
    "                    print(f\"Permission denied, retrying in {5} seconds...\")\n",
    "                    time.sleep(5)\n",
    "                else:\n",
    "                    raise  # \n",
    "                        \n",
    "                "
   ]
  },
  {
   "cell_type": "code",
   "execution_count": 8,
   "id": "38bb47c8",
   "metadata": {},
   "outputs": [],
   "source": [
    "# ---------------------------\n",
    "current_time = time.strftime(\"%Y%m%d-%H%M%S\", time.localtime())\n",
    "if config.save: \n",
    "    save_dict = {\n",
    "        \"M_range\": M_range,\n",
    "        \"ParaRange\": ParaRange,\n",
    "        \"multitest\": multitest,\n",
    "        \"train_task\": config.train_task,\n",
    "        \"res\": res,\n",
    "    }\n",
    "    np.savez_compressed(res_path / f\"{taskinfo}_{current_time}_res\",  **save_dict)\n",
    "\n",
    "    # save_dict = {\n",
    "    #     f\"eall_{i}_{j}_{k}\": np.array(eall_list[i][j][k])  # \n",
    "    #     for i in range(len(M_range))\n",
    "    #     for j in range(len(ParaRange))\n",
    "    #     for k in range(multitest)\n",
    "    # }\n",
    "    # np.savez_compressed(res_path / f\"{taskinfo}_{current_time}_E\", **save_dict)\n",
    "\n",
    "    # save_dict = {\n",
    "    #     f\"zall_{i}_{j}\": np.array(zall_list[i][j])  # \n",
    "    #     for i in range(len(M_range))\n",
    "    #     for j in range(len(ParaRange))\n",
    "    # }\n",
    "    # np.savez_compressed(res_path / f\"{taskinfo}_{current_time}_dyn\", **save_dict)\n",
    "\n",
    "\n"
   ]
  },
  {
   "cell_type": "code",
   "execution_count": 9,
   "id": "37e2b4ac",
   "metadata": {},
   "outputs": [
    {
     "name": "stdout",
     "output_type": "stream",
     "text": [
      "EP_L3_MNIST_First_symm_LN_t2sta2_bs20-EP_b_sc0.01-EP_It2sta18- Time: 20250721-165643: train: 98.93%+-0.02% (98.91% 98.94%)\t test: 97.65%+-0.08% (97.58% 97.76%)\n",
      "\n"
     ]
    }
   ],
   "source": [
    "\n",
    "for iM in range( len(M_range) ):\n",
    "    for iPara in range( len(ParaRange) ):        \n",
    "        tt = res[iM][iPara]\n",
    "        tt = np.max(tt[:,2,:], axis= -1)\n",
    "        testacctt = np.mean(tt, axis=0)\n",
    "\n",
    "        tt = res[iM][iPara]\n",
    "        tt = np.max(tt[:,1,:], axis= -1)\n",
    "        trainacctt = np.mean(tt, axis=0)\n",
    "\n",
    "        print(f\"{taskinfo} Time: {current_time}: \"\n",
    "                f\"train: {np.mean(trainacct) * 100:.2f}%+-{np.std(trainacct, ddof=1)*100:.2f}% ({np.min(trainacct) * 100:.2f}% {np.max(trainacct) * 100:.2f}%)\"\n",
    "                f\"\\t test: {np.mean(testacct) * 100:.2f}%+-{np.std(testacct, ddof=1)*100:.2f}% ({np.min(testacct) * 100:.2f}% {np.max(testacct) * 100:.2f}%)\\n\")"
   ]
  }
 ],
 "metadata": {
  "kernelspec": {
   "display_name": "torchgpu",
   "language": "python",
   "name": "python3"
  },
  "language_info": {
   "codemirror_mode": {
    "name": "ipython",
    "version": 3
   },
   "file_extension": ".py",
   "mimetype": "text/x-python",
   "name": "python",
   "nbconvert_exporter": "python",
   "pygments_lexer": "ipython3",
   "version": "3.9.20"
  }
 },
 "nbformat": 4,
 "nbformat_minor": 5
}
