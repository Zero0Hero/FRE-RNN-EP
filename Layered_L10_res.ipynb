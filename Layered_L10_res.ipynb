{
 "cells": [
  {
   "cell_type": "code",
   "execution_count": null,
   "id": "f9d11af5",
   "metadata": {},
   "outputs": [
    {
     "data": {
      "text/plain": [
       "<torch.autograd.grad_mode.set_grad_enabled at 0x2824dc2feb0>"
      ]
     },
     "execution_count": 1,
     "metadata": {},
     "output_type": "execute_result"
    }
   ],
   "source": [
    "import torch\n",
    "import numpy as np\n",
    "import random\n",
    "import time\n",
    "from tqdm import tqdm  # \n",
    "from pathlib import Path\n",
    "\n",
    "\n",
    "from models_LN_G import EPNN_LN, dataset, one_hot, cross_entropy_loss, linear, linear_d, tanh, tanh_d, sign, sign_d, sigmoid, sigmoid_d, relu, relu_d, relu6, relu6_d, softmax, softmax_d\n",
    "\n",
    "torch.set_grad_enabled(False)\n"
   ]
  },
  {
   "cell_type": "code",
   "execution_count": 2,
   "id": "7053ee30",
   "metadata": {},
   "outputs": [
    {
     "name": "stdout",
     "output_type": "stream",
     "text": [
      "cuda:True\n",
      "GPU 0:NVIDIA GeForce RTX 4070:11.99GB\n"
     ]
    }
   ],
   "source": [
    "\n",
    "seed = 42\n",
    "random.seed(seed)\n",
    "np.random.seed(seed)\n",
    "torch.manual_seed(seed)\n",
    "if torch.cuda.is_available():\n",
    "    torch.cuda.manual_seed(seed)\n",
    "    torch.cuda.manual_seed_all(seed)\n",
    "# torch.backends.cudnn.deterministic = True\n",
    "# torch.backends.cudnn.benchmark = False\n",
    "torch.backends.cudnn.benchmark = True\n",
    "\n",
    "\n",
    "if torch.cuda.is_available():\n",
    "    print(f\"cuda:True\")\n",
    "    for i in range(torch.cuda.device_count()):\n",
    "        device = torch.device(f\"cuda:{i}\")\n",
    "        properties = torch.cuda.get_device_properties(device)\n",
    "        print(f\"GPU {i}:{properties.name}:{properties.total_memory/1024/1024/1024:.2f}GB\")\n",
    "else:\n",
    "    print(f\"cuda:False\")\n",
    "    device = torch.device(\"cpu\")"
   ]
  },
  {
   "cell_type": "code",
   "execution_count": 3,
   "id": "e0032328",
   "metadata": {},
   "outputs": [],
   "source": [
    "\n",
    "#========================================================\n",
    "# W_conn = [wij]\n",
    "# i row: input \n",
    "# j col: output\n",
    "# 0:input layer     ...:hidden layer    -1:output layer\n",
    "#--------------------------------------------------------\n",
    "def make_W_conn(n_hidden, startres=-1, block_size=2):\n",
    "    \"\"\"\n",
    "    Generate the connectivity matrix W_conn:\n",
    "      - Total nodes N = 1 (input) + n_hidden + 1 (output)\n",
    "      - Bidirectional connections between adjacent layers (i <-> i+1)\n",
    "      - Residual connections: from the start of each block, skip one block and connect forward\n",
    "        (for block_size=2, startres=1, that is i -> i+3, e.g. 2->5, 4->7, 6->9…)\n",
    "    \"\"\"\n",
    "    N = n_hidden + 2\n",
    "    W = np.zeros((N, N), dtype=int)\n",
    "\n",
    "    # connect each layer to the next (both directions)\n",
    "    for i in range(N - 1):\n",
    "        W[i, i + 1] = 1\n",
    "        W[i + 1, i] = 1\n",
    "\n",
    "    W[1, 0]=0\n",
    "    # add residual (skip) connections\n",
    "    if startres>0:\n",
    "        for start in range(startres, N, block_size):\n",
    "            target = start + block_size \n",
    "            if target < N:\n",
    "                W[start, target] = 1\n",
    "                W[target, start] = 1\n",
    "\n",
    "    return W"
   ]
  },
  {
   "cell_type": "code",
   "execution_count": 4,
   "id": "752c0143",
   "metadata": {},
   "outputs": [
    {
     "name": "stdout",
     "output_type": "stream",
     "text": [
      "[[0 1 0 0 0 0 0 0 0 0 0 0]\n",
      " [0 0 1 0 1 0 0 0 0 0 0 0]\n",
      " [0 1 0 1 0 0 0 0 0 0 0 0]\n",
      " [0 0 1 0 1 0 0 0 0 0 0 0]\n",
      " [0 1 0 1 0 1 0 1 0 0 0 0]\n",
      " [0 0 0 0 1 0 1 0 0 0 0 0]\n",
      " [0 0 0 0 0 1 0 1 0 0 0 0]\n",
      " [0 0 0 0 1 0 1 0 1 0 1 0]\n",
      " [0 0 0 0 0 0 0 1 0 1 0 0]\n",
      " [0 0 0 0 0 0 0 0 1 0 1 0]\n",
      " [0 0 0 0 0 0 0 1 0 1 0 1]\n",
      " [0 0 0 0 0 0 0 0 0 0 1 0]]\n",
      "W_conn_symm:True\n"
     ]
    }
   ],
   "source": [
    "\n",
    "NL = 10\n",
    "W_conn = make_W_conn(n_hidden=NL, startres=1, block_size=3)\n",
    "\n",
    "nodes = [28*28] + [64]*NL + [10]\n",
    "print(W_conn)\n",
    "\n",
    "print(f\"W_conn_symm:{np.array_equal(W_conn[1:,1:], W_conn[1:,1:].T)}\")\n",
    "W_conn[1:,1:] = np.triu(W_conn[1:,1:]) + np.triu(W_conn[1:,1:], 1).T\n",
    "# -------------------\n",
    "Para_EP = {\n",
    "     'EP_symm_W': True,\n",
    "     'fsc': 1,\n",
    "     'bsc': 0.1,\n",
    "     'nudge': 0.1,\n",
    "     'It2sta': (len(nodes)-2)*5,\n",
    "     'It2sta2': (len(nodes)-2)*2,\n",
    "     }\n",
    "\n",
    "# training:\n",
    "Para_t = {\n",
    "     'f': tanh,\n",
    "     'fd': tanh_d,\n",
    "     'ff': softmax,\n",
    "     'ffd': softmax_d,\n",
    "\n",
    "     'adam': True,\n",
    "     'eta': 1e-3,\n",
    "     'epoch': 50,\n",
    "     'batchsize': 500,\n",
    "     'task': \"MNIST\",\n",
    "     'method': 'EP' ,\n",
    "     \n",
    "     'bias_learn': False,\n",
    "     'bias_init_sc':0,\n",
    "     }"
   ]
  },
  {
   "cell_type": "code",
   "execution_count": 5,
   "id": "9d1fe607",
   "metadata": {},
   "outputs": [],
   "source": [
    "# \n",
    "fsave = True\n",
    "\n",
    "##\n",
    "Task_info = f\"First_symm_10HL_Res-Task2-0\"\n",
    "# Task_info = f\"Test\"\n",
    "Einfo = ''\n",
    "\n",
    "res_path = Path(f\"./Res/{Task_info}\")\n",
    "M_range = [\"FMNIST\",\"MNIST\"] #\"CIFAR10\",\"MNIST\"\n",
    "ParaRange = [0.01,0.1] # 0.01,0.1\n",
    "multitest = 5"
   ]
  },
  {
   "cell_type": "code",
   "execution_count": 6,
   "id": "4b1c0ad2",
   "metadata": {},
   "outputs": [],
   "source": [
    "res_path.mkdir(parents=True, exist_ok=True)\n",
    "res = np.zeros((len(M_range),len(ParaRange),(multitest),6,Para_t['epoch']))\n",
    "\n",
    "zall_list = [[[] for _ in range(len(ParaRange))] for _ in range(len(M_range))]\n",
    "eall_list = [[[[] for _ in range((multitest))] for _ in range(len(ParaRange))] for _ in range(len(M_range))]\n"
   ]
  },
  {
   "cell_type": "code",
   "execution_count": 7,
   "id": "d92d1556",
   "metadata": {},
   "outputs": [
    {
     "name": "stdout",
     "output_type": "stream",
     "text": [
      "First_symm_10HL_Res-Task2-0-EP_L10--FMNIST_EP_b_sc0.01-\n"
     ]
    },
    {
     "name": "stderr",
     "output_type": "stream",
     "text": [
      "Epoch 1/50:: 100%|\u001b[34m████████████████████\u001b[0m| 120/120 [00:02<00:00, 46.91batch/s, loss=0.836103]\u001b[0m\n"
     ]
    },
    {
     "name": "stdout",
     "output_type": "stream",
     "text": [
      "\t Loss: 15.482,\tTrain : 82.34%(82.34%),\tTest : 81.25%(81.25%),\tCurrent Time: 20250720-125134\n"
     ]
    },
    {
     "name": "stderr",
     "output_type": "stream",
     "text": [
      "Epoch 2/50:: 100%|\u001b[34m████████████████████\u001b[0m| 120/120 [00:02<00:00, 48.97batch/s, loss=0.491268]\u001b[0m\n"
     ]
    },
    {
     "name": "stdout",
     "output_type": "stream",
     "text": [
      "\t Loss: 14.524,\tTrain : 83.56%(83.56%),\tTest : 82.31%(82.31%),\tCurrent Time: 20250720-125137\n"
     ]
    },
    {
     "name": "stderr",
     "output_type": "stream",
     "text": [
      "Epoch 3/50:: 100%|\u001b[34m████████████████████\u001b[0m| 120/120 [00:02<00:00, 48.70batch/s, loss=0.444821]\u001b[0m\n"
     ]
    },
    {
     "name": "stdout",
     "output_type": "stream",
     "text": [
      "\t Loss: 12.960,\tTrain : 85.24%(85.24%),\tTest : 84.01%(84.01%),\tCurrent Time: 20250720-125140\n"
     ]
    },
    {
     "name": "stderr",
     "output_type": "stream",
     "text": [
      "Epoch 4/50:: 100%|\u001b[34m████████████████████\u001b[0m| 120/120 [00:02<00:00, 48.95batch/s, loss=0.428840]\u001b[0m\n"
     ]
    },
    {
     "name": "stdout",
     "output_type": "stream",
     "text": [
      "\t Loss: 12.238,\tTrain : 86.16%(86.16%),\tTest : 84.85%(84.85%),\tCurrent Time: 20250720-125143\n"
     ]
    },
    {
     "name": "stderr",
     "output_type": "stream",
     "text": [
      "Epoch 5/50:: 100%|\u001b[34m████████████████████\u001b[0m| 120/120 [00:02<00:00, 48.67batch/s, loss=0.408478]\u001b[0m\n"
     ]
    },
    {
     "name": "stdout",
     "output_type": "stream",
     "text": [
      "\t Loss: 12.008,\tTrain : 86.38%(86.38%),\tTest : 85.00%(85.00%),\tCurrent Time: 20250720-125146\n"
     ]
    },
    {
     "name": "stderr",
     "output_type": "stream",
     "text": [
      "Epoch 6/50:: 100%|\u001b[34m████████████████████\u001b[0m| 120/120 [00:02<00:00, 47.82batch/s, loss=0.399559]\u001b[0m\n"
     ]
    },
    {
     "name": "stdout",
     "output_type": "stream",
     "text": [
      "\t Loss: 11.235,\tTrain : 87.44%(87.44%),\tTest : 85.61%(85.61%),\tCurrent Time: 20250720-125149\n"
     ]
    },
    {
     "name": "stderr",
     "output_type": "stream",
     "text": [
      "Epoch 7/50:: 100%|\u001b[34m████████████████████\u001b[0m| 120/120 [00:02<00:00, 48.51batch/s, loss=0.386808]\u001b[0m\n"
     ]
    },
    {
     "name": "stdout",
     "output_type": "stream",
     "text": [
      "\t Loss: 11.435,\tTrain : 87.15%(87.44%),\tTest : 85.50%(85.61%),\tCurrent Time: 20250720-125152\n"
     ]
    },
    {
     "name": "stderr",
     "output_type": "stream",
     "text": [
      "Epoch 8/50:: 100%|\u001b[34m████████████████████\u001b[0m| 120/120 [00:02<00:00, 49.16batch/s, loss=0.390836]\u001b[0m\n"
     ]
    },
    {
     "name": "stdout",
     "output_type": "stream",
     "text": [
      "\t Loss: 12.473,\tTrain : 86.48%(87.44%),\tTest : 84.80%(85.61%),\tCurrent Time: 20250720-125154\n"
     ]
    },
    {
     "name": "stderr",
     "output_type": "stream",
     "text": [
      "Epoch 9/50:: 100%|\u001b[34m████████████████████\u001b[0m| 120/120 [00:02<00:00, 48.97batch/s, loss=0.383571]\u001b[0m\n"
     ]
    },
    {
     "name": "stdout",
     "output_type": "stream",
     "text": [
      "\t Loss: 11.184,\tTrain : 87.91%(87.91%),\tTest : 86.02%(86.02%),\tCurrent Time: 20250720-125157\n"
     ]
    },
    {
     "name": "stderr",
     "output_type": "stream",
     "text": [
      "Epoch 10/50:: 100%|\u001b[34m███████████████████\u001b[0m| 120/120 [00:02<00:00, 48.58batch/s, loss=0.379321]\u001b[0m\n"
     ]
    },
    {
     "name": "stdout",
     "output_type": "stream",
     "text": [
      "\t Loss: 10.826,\tTrain : 88.13%(88.13%),\tTest : 86.01%(86.02%),\tCurrent Time: 20250720-125200\n"
     ]
    },
    {
     "name": "stderr",
     "output_type": "stream",
     "text": [
      "Epoch 11/50:: 100%|\u001b[34m███████████████████\u001b[0m| 120/120 [00:02<00:00, 48.89batch/s, loss=0.366355]\u001b[0m\n"
     ]
    },
    {
     "name": "stdout",
     "output_type": "stream",
     "text": [
      "\t Loss: 10.334,\tTrain : 88.73%(88.73%),\tTest : 86.53%(86.53%),\tCurrent Time: 20250720-125203\n"
     ]
    },
    {
     "name": "stderr",
     "output_type": "stream",
     "text": [
      "Epoch 12/50:: 100%|\u001b[34m███████████████████\u001b[0m| 120/120 [00:02<00:00, 49.14batch/s, loss=0.356152]\u001b[0m\n"
     ]
    },
    {
     "name": "stdout",
     "output_type": "stream",
     "text": [
      "\t Loss: 10.164,\tTrain : 89.00%(89.00%),\tTest : 86.37%(86.53%),\tCurrent Time: 20250720-125206\n"
     ]
    },
    {
     "name": "stderr",
     "output_type": "stream",
     "text": [
      "Epoch 13/50:: 100%|\u001b[34m███████████████████\u001b[0m| 120/120 [00:02<00:00, 48.93batch/s, loss=0.356372]\u001b[0m\n"
     ]
    },
    {
     "name": "stdout",
     "output_type": "stream",
     "text": [
      "\t Loss: 10.845,\tTrain : 88.41%(89.00%),\tTest : 86.19%(86.53%),\tCurrent Time: 20250720-125209\n"
     ]
    },
    {
     "name": "stderr",
     "output_type": "stream",
     "text": [
      "Epoch 14/50:: 100%|\u001b[34m███████████████████\u001b[0m| 120/120 [00:02<00:00, 48.46batch/s, loss=0.355851]\u001b[0m\n"
     ]
    },
    {
     "name": "stdout",
     "output_type": "stream",
     "text": [
      "\t Loss: 10.130,\tTrain : 89.21%(89.21%),\tTest : 86.73%(86.73%),\tCurrent Time: 20250720-125212\n"
     ]
    },
    {
     "name": "stderr",
     "output_type": "stream",
     "text": [
      "Epoch 15/50:: 100%|\u001b[34m███████████████████\u001b[0m| 120/120 [00:02<00:00, 49.17batch/s, loss=0.346429]\u001b[0m\n"
     ]
    },
    {
     "name": "stdout",
     "output_type": "stream",
     "text": [
      "\t Loss: 10.092,\tTrain : 89.15%(89.21%),\tTest : 86.61%(86.73%),\tCurrent Time: 20250720-125215\n"
     ]
    },
    {
     "name": "stderr",
     "output_type": "stream",
     "text": [
      "Epoch 16/50:: 100%|\u001b[34m███████████████████\u001b[0m| 120/120 [00:02<00:00, 48.28batch/s, loss=0.352126]\u001b[0m\n"
     ]
    },
    {
     "name": "stdout",
     "output_type": "stream",
     "text": [
      "\t Loss: 9.710,\tTrain : 89.49%(89.49%),\tTest : 87.05%(87.05%),\tCurrent Time: 20250720-125218\n"
     ]
    },
    {
     "name": "stderr",
     "output_type": "stream",
     "text": [
      "Epoch 17/50:: 100%|\u001b[34m███████████████████\u001b[0m| 120/120 [00:02<00:00, 48.45batch/s, loss=0.345970]\u001b[0m\n"
     ]
    },
    {
     "name": "stdout",
     "output_type": "stream",
     "text": [
      "\t Loss: 10.535,\tTrain : 88.67%(89.49%),\tTest : 86.27%(87.05%),\tCurrent Time: 20250720-125221\n"
     ]
    },
    {
     "name": "stderr",
     "output_type": "stream",
     "text": [
      "Epoch 18/50:: 100%|\u001b[34m███████████████████\u001b[0m| 120/120 [00:02<00:00, 48.77batch/s, loss=0.342281]\u001b[0m\n"
     ]
    },
    {
     "name": "stdout",
     "output_type": "stream",
     "text": [
      "\t Loss: 10.210,\tTrain : 89.29%(89.49%),\tTest : 86.71%(87.05%),\tCurrent Time: 20250720-125224\n"
     ]
    },
    {
     "name": "stderr",
     "output_type": "stream",
     "text": [
      "Epoch 19/50:: 100%|\u001b[34m███████████████████\u001b[0m| 120/120 [00:02<00:00, 48.38batch/s, loss=0.335486]\u001b[0m\n"
     ]
    },
    {
     "name": "stdout",
     "output_type": "stream",
     "text": [
      "\t Loss: 9.828,\tTrain : 89.85%(89.85%),\tTest : 87.25%(87.25%),\tCurrent Time: 20250720-125227\n"
     ]
    },
    {
     "name": "stderr",
     "output_type": "stream",
     "text": [
      "Epoch 20/50:: 100%|\u001b[34m███████████████████\u001b[0m| 120/120 [00:02<00:00, 47.71batch/s, loss=0.339046]\u001b[0m\n"
     ]
    },
    {
     "name": "stdout",
     "output_type": "stream",
     "text": [
      "\t Loss: 11.284,\tTrain : 89.33%(89.85%),\tTest : 86.86%(87.25%),\tCurrent Time: 20250720-125230\n"
     ]
    },
    {
     "name": "stderr",
     "output_type": "stream",
     "text": [
      "Epoch 21/50:: 100%|\u001b[34m███████████████████\u001b[0m| 120/120 [00:02<00:00, 47.68batch/s, loss=0.339640]\u001b[0m\n"
     ]
    },
    {
     "name": "stdout",
     "output_type": "stream",
     "text": [
      "\t Loss: 10.036,\tTrain : 89.79%(89.85%),\tTest : 87.18%(87.25%),\tCurrent Time: 20250720-125233\n"
     ]
    },
    {
     "name": "stderr",
     "output_type": "stream",
     "text": [
      "Epoch 22/50:: 100%|\u001b[34m███████████████████\u001b[0m| 120/120 [00:02<00:00, 47.53batch/s, loss=0.349603]\u001b[0m\n"
     ]
    },
    {
     "name": "stdout",
     "output_type": "stream",
     "text": [
      "\t Loss: 11.024,\tTrain : 89.34%(89.85%),\tTest : 86.88%(87.25%),\tCurrent Time: 20250720-125236\n"
     ]
    },
    {
     "name": "stderr",
     "output_type": "stream",
     "text": [
      "Epoch 23/50:: 100%|\u001b[34m███████████████████\u001b[0m| 120/120 [00:02<00:00, 47.38batch/s, loss=0.337065]\u001b[0m\n"
     ]
    },
    {
     "name": "stdout",
     "output_type": "stream",
     "text": [
      "\t Loss: 9.819,\tTrain : 90.08%(90.08%),\tTest : 87.31%(87.31%),\tCurrent Time: 20250720-125239\n"
     ]
    },
    {
     "name": "stderr",
     "output_type": "stream",
     "text": [
      "Epoch 24/50:: 100%|\u001b[34m███████████████████\u001b[0m| 120/120 [00:02<00:00, 47.55batch/s, loss=0.327175]\u001b[0m\n"
     ]
    },
    {
     "name": "stdout",
     "output_type": "stream",
     "text": [
      "\t Loss: 9.833,\tTrain : 89.87%(90.08%),\tTest : 87.06%(87.31%),\tCurrent Time: 20250720-125242\n"
     ]
    },
    {
     "name": "stderr",
     "output_type": "stream",
     "text": [
      "Epoch 25/50:: 100%|\u001b[34m███████████████████\u001b[0m| 120/120 [00:02<00:00, 47.50batch/s, loss=0.348684]\u001b[0m\n"
     ]
    },
    {
     "name": "stdout",
     "output_type": "stream",
     "text": [
      "\t Loss: 9.050,\tTrain : 90.43%(90.43%),\tTest : 87.36%(87.36%),\tCurrent Time: 20250720-125245\n"
     ]
    },
    {
     "name": "stderr",
     "output_type": "stream",
     "text": [
      "Epoch 26/50:: 100%|\u001b[34m███████████████████\u001b[0m| 120/120 [00:02<00:00, 47.96batch/s, loss=0.335233]\u001b[0m\n"
     ]
    },
    {
     "name": "stdout",
     "output_type": "stream",
     "text": [
      "\t Loss: 9.286,\tTrain : 90.68%(90.68%),\tTest : 87.59%(87.59%),\tCurrent Time: 20250720-125248\n"
     ]
    },
    {
     "name": "stderr",
     "output_type": "stream",
     "text": [
      "Epoch 27/50:: 100%|\u001b[34m███████████████████\u001b[0m| 120/120 [00:02<00:00, 47.72batch/s, loss=0.331704]\u001b[0m\n"
     ]
    },
    {
     "name": "stdout",
     "output_type": "stream",
     "text": [
      "\t Loss: 9.139,\tTrain : 90.98%(90.98%),\tTest : 87.72%(87.72%),\tCurrent Time: 20250720-125251\n"
     ]
    },
    {
     "name": "stderr",
     "output_type": "stream",
     "text": [
      "Epoch 28/50:: 100%|\u001b[34m███████████████████\u001b[0m| 120/120 [00:02<00:00, 48.02batch/s, loss=0.333106]\u001b[0m\n"
     ]
    },
    {
     "name": "stdout",
     "output_type": "stream",
     "text": [
      "\t Loss: 10.495,\tTrain : 90.13%(90.98%),\tTest : 86.95%(87.72%),\tCurrent Time: 20250720-125254\n"
     ]
    },
    {
     "name": "stderr",
     "output_type": "stream",
     "text": [
      "Epoch 29/50:: 100%|\u001b[34m███████████████████\u001b[0m| 120/120 [00:02<00:00, 48.44batch/s, loss=0.331688]\u001b[0m\n"
     ]
    },
    {
     "name": "stdout",
     "output_type": "stream",
     "text": [
      "\t Loss: 9.470,\tTrain : 90.70%(90.98%),\tTest : 87.64%(87.72%),\tCurrent Time: 20250720-125257\n"
     ]
    },
    {
     "name": "stderr",
     "output_type": "stream",
     "text": [
      "Epoch 30/50:: 100%|\u001b[34m███████████████████\u001b[0m| 120/120 [00:02<00:00, 48.50batch/s, loss=0.327190]\u001b[0m\n"
     ]
    },
    {
     "name": "stdout",
     "output_type": "stream",
     "text": [
      "\t Loss: 9.432,\tTrain : 90.99%(90.99%),\tTest : 87.67%(87.72%),\tCurrent Time: 20250720-125259\n"
     ]
    },
    {
     "name": "stderr",
     "output_type": "stream",
     "text": [
      "Epoch 31/50:: 100%|\u001b[34m███████████████████\u001b[0m| 120/120 [00:02<00:00, 48.72batch/s, loss=0.319855]\u001b[0m\n"
     ]
    },
    {
     "name": "stdout",
     "output_type": "stream",
     "text": [
      "\t Loss: 8.880,\tTrain : 91.29%(91.29%),\tTest : 87.92%(87.92%),\tCurrent Time: 20250720-125302\n"
     ]
    },
    {
     "name": "stderr",
     "output_type": "stream",
     "text": [
      "Epoch 32/50:: 100%|\u001b[34m███████████████████\u001b[0m| 120/120 [00:02<00:00, 49.06batch/s, loss=0.322454]\u001b[0m\n"
     ]
    },
    {
     "name": "stdout",
     "output_type": "stream",
     "text": [
      "\t Loss: 9.054,\tTrain : 91.19%(91.29%),\tTest : 88.02%(88.02%),\tCurrent Time: 20250720-125305\n"
     ]
    },
    {
     "name": "stderr",
     "output_type": "stream",
     "text": [
      "Epoch 33/50:: 100%|\u001b[34m███████████████████\u001b[0m| 120/120 [00:02<00:00, 48.18batch/s, loss=0.323560]\u001b[0m\n"
     ]
    },
    {
     "name": "stdout",
     "output_type": "stream",
     "text": [
      "\t Loss: 8.799,\tTrain : 91.38%(91.38%),\tTest : 87.89%(88.02%),\tCurrent Time: 20250720-125308\n"
     ]
    },
    {
     "name": "stderr",
     "output_type": "stream",
     "text": [
      "Epoch 34/50:: 100%|\u001b[34m███████████████████\u001b[0m| 120/120 [00:02<00:00, 48.02batch/s, loss=0.315530]\u001b[0m\n"
     ]
    },
    {
     "name": "stdout",
     "output_type": "stream",
     "text": [
      "\t Loss: 9.626,\tTrain : 91.26%(91.38%),\tTest : 87.59%(88.02%),\tCurrent Time: 20250720-125311\n"
     ]
    },
    {
     "name": "stderr",
     "output_type": "stream",
     "text": [
      "Epoch 35/50:: 100%|\u001b[34m███████████████████\u001b[0m| 120/120 [00:02<00:00, 47.13batch/s, loss=0.318203]\u001b[0m\n"
     ]
    },
    {
     "name": "stdout",
     "output_type": "stream",
     "text": [
      "\t Loss: 9.067,\tTrain : 91.40%(91.40%),\tTest : 87.87%(88.02%),\tCurrent Time: 20250720-125314\n"
     ]
    },
    {
     "name": "stderr",
     "output_type": "stream",
     "text": [
      "Epoch 36/50:: 100%|\u001b[34m███████████████████\u001b[0m| 120/120 [00:02<00:00, 48.24batch/s, loss=0.314320]\u001b[0m\n"
     ]
    },
    {
     "name": "stdout",
     "output_type": "stream",
     "text": [
      "\t Loss: 8.975,\tTrain : 91.55%(91.55%),\tTest : 88.03%(88.03%),\tCurrent Time: 20250720-125317\n"
     ]
    },
    {
     "name": "stderr",
     "output_type": "stream",
     "text": [
      "Epoch 37/50:: 100%|\u001b[34m███████████████████\u001b[0m| 120/120 [00:02<00:00, 48.63batch/s, loss=0.316032]\u001b[0m\n"
     ]
    },
    {
     "name": "stdout",
     "output_type": "stream",
     "text": [
      "\t Loss: 9.982,\tTrain : 91.26%(91.55%),\tTest : 87.64%(88.03%),\tCurrent Time: 20250720-125320\n"
     ]
    },
    {
     "name": "stderr",
     "output_type": "stream",
     "text": [
      "Epoch 38/50:: 100%|\u001b[34m███████████████████\u001b[0m| 120/120 [00:02<00:00, 47.58batch/s, loss=0.314874]\u001b[0m\n"
     ]
    },
    {
     "name": "stdout",
     "output_type": "stream",
     "text": [
      "\t Loss: 9.652,\tTrain : 91.37%(91.55%),\tTest : 87.74%(88.03%),\tCurrent Time: 20250720-125323\n"
     ]
    },
    {
     "name": "stderr",
     "output_type": "stream",
     "text": [
      "Epoch 39/50:: 100%|\u001b[34m███████████████████\u001b[0m| 120/120 [00:02<00:00, 47.97batch/s, loss=0.324193]\u001b[0m\n"
     ]
    },
    {
     "name": "stdout",
     "output_type": "stream",
     "text": [
      "\t Loss: 9.404,\tTrain : 91.34%(91.55%),\tTest : 87.56%(88.03%),\tCurrent Time: 20250720-125326\n"
     ]
    },
    {
     "name": "stderr",
     "output_type": "stream",
     "text": [
      "Epoch 40/50:: 100%|\u001b[34m███████████████████\u001b[0m| 120/120 [00:02<00:00, 46.33batch/s, loss=0.304119]\u001b[0m\n"
     ]
    },
    {
     "name": "stdout",
     "output_type": "stream",
     "text": [
      "\t Loss: 8.933,\tTrain : 91.70%(91.70%),\tTest : 87.74%(88.03%),\tCurrent Time: 20250720-125329\n"
     ]
    },
    {
     "name": "stderr",
     "output_type": "stream",
     "text": [
      "Epoch 41/50:: 100%|\u001b[34m███████████████████\u001b[0m| 120/120 [00:02<00:00, 46.14batch/s, loss=0.311576]\u001b[0m\n"
     ]
    },
    {
     "name": "stdout",
     "output_type": "stream",
     "text": [
      "\t Loss: 8.752,\tTrain : 91.50%(91.70%),\tTest : 87.79%(88.03%),\tCurrent Time: 20250720-125332\n"
     ]
    },
    {
     "name": "stderr",
     "output_type": "stream",
     "text": [
      "Epoch 42/50:: 100%|\u001b[34m███████████████████\u001b[0m| 120/120 [00:02<00:00, 46.80batch/s, loss=0.305325]\u001b[0m\n"
     ]
    },
    {
     "name": "stdout",
     "output_type": "stream",
     "text": [
      "\t Loss: 8.977,\tTrain : 91.78%(91.78%),\tTest : 88.05%(88.05%),\tCurrent Time: 20250720-125335\n"
     ]
    },
    {
     "name": "stderr",
     "output_type": "stream",
     "text": [
      "Epoch 43/50:: 100%|\u001b[34m███████████████████\u001b[0m| 120/120 [00:02<00:00, 47.72batch/s, loss=0.305540]\u001b[0m\n"
     ]
    },
    {
     "name": "stdout",
     "output_type": "stream",
     "text": [
      "\t Loss: 8.153,\tTrain : 92.23%(92.23%),\tTest : 87.90%(88.05%),\tCurrent Time: 20250720-125338\n"
     ]
    },
    {
     "name": "stderr",
     "output_type": "stream",
     "text": [
      "Epoch 44/50:: 100%|\u001b[34m███████████████████\u001b[0m| 120/120 [00:02<00:00, 47.49batch/s, loss=0.310239]\u001b[0m\n"
     ]
    },
    {
     "name": "stdout",
     "output_type": "stream",
     "text": [
      "\t Loss: 8.849,\tTrain : 92.04%(92.23%),\tTest : 87.86%(88.05%),\tCurrent Time: 20250720-125341\n"
     ]
    },
    {
     "name": "stderr",
     "output_type": "stream",
     "text": [
      "Epoch 45/50:: 100%|\u001b[34m███████████████████\u001b[0m| 120/120 [00:02<00:00, 47.62batch/s, loss=0.314182]\u001b[0m\n"
     ]
    },
    {
     "name": "stdout",
     "output_type": "stream",
     "text": [
      "\t Loss: 9.311,\tTrain : 91.72%(92.23%),\tTest : 87.90%(88.05%),\tCurrent Time: 20250720-125344\n"
     ]
    },
    {
     "name": "stderr",
     "output_type": "stream",
     "text": [
      "Epoch 46/50:: 100%|\u001b[34m███████████████████\u001b[0m| 120/120 [00:02<00:00, 47.87batch/s, loss=0.307095]\u001b[0m\n"
     ]
    },
    {
     "name": "stdout",
     "output_type": "stream",
     "text": [
      "\t Loss: 8.594,\tTrain : 92.34%(92.34%),\tTest : 88.25%(88.25%),\tCurrent Time: 20250720-125347\n"
     ]
    },
    {
     "name": "stderr",
     "output_type": "stream",
     "text": [
      "Epoch 47/50:: 100%|\u001b[34m███████████████████\u001b[0m| 120/120 [00:02<00:00, 46.90batch/s, loss=0.299077]\u001b[0m\n"
     ]
    },
    {
     "name": "stdout",
     "output_type": "stream",
     "text": [
      "\t Loss: 8.574,\tTrain : 92.41%(92.41%),\tTest : 88.14%(88.25%),\tCurrent Time: 20250720-125350\n"
     ]
    },
    {
     "name": "stderr",
     "output_type": "stream",
     "text": [
      "Epoch 48/50:: 100%|\u001b[34m███████████████████\u001b[0m| 120/120 [00:02<00:00, 47.69batch/s, loss=0.304402]\u001b[0m\n"
     ]
    },
    {
     "name": "stdout",
     "output_type": "stream",
     "text": [
      "\t Loss: 8.962,\tTrain : 92.00%(92.41%),\tTest : 87.90%(88.25%),\tCurrent Time: 20250720-125353\n"
     ]
    },
    {
     "name": "stderr",
     "output_type": "stream",
     "text": [
      "Epoch 49/50:: 100%|\u001b[34m███████████████████\u001b[0m| 120/120 [00:02<00:00, 47.00batch/s, loss=0.306256]\u001b[0m\n"
     ]
    },
    {
     "name": "stdout",
     "output_type": "stream",
     "text": [
      "\t Loss: 8.438,\tTrain : 92.23%(92.41%),\tTest : 88.13%(88.25%),\tCurrent Time: 20250720-125356\n"
     ]
    },
    {
     "name": "stderr",
     "output_type": "stream",
     "text": [
      "Epoch 50/50:: 100%|\u001b[34m███████████████████\u001b[0m| 120/120 [00:02<00:00, 46.92batch/s, loss=0.303556]\u001b[0m\n"
     ]
    },
    {
     "name": "stdout",
     "output_type": "stream",
     "text": [
      "\t Loss: 8.514,\tTrain : 92.52%(92.52%),\tTest : 88.16%(88.25%),\tCurrent Time: 20250720-125359\n",
      "First_symm_10HL_Res-Task2-0-EP_L10--FMNIST_EP_b_sc0.01- Time: 20250720-125359, Epochs: 50, Learning Rate: 0.001, Best: 92.52%  88.25%\n",
      "\n",
      "First_symm_10HL_Res-Task2-0-EP_L10--FMNIST_EP_b_sc0.01-\n"
     ]
    },
    {
     "name": "stderr",
     "output_type": "stream",
     "text": [
      "Epoch 1/50:: 100%|\u001b[34m████████████████████\u001b[0m| 120/120 [00:02<00:00, 44.03batch/s, loss=0.849749]\u001b[0m\n"
     ]
    },
    {
     "name": "stdout",
     "output_type": "stream",
     "text": [
      "\t Loss: 15.564,\tTrain : 81.96%(81.96%),\tTest : 80.28%(80.28%),\tCurrent Time: 20250720-125407\n"
     ]
    },
    {
     "name": "stderr",
     "output_type": "stream",
     "text": [
      "Epoch 2/50:: 100%|\u001b[34m████████████████████\u001b[0m| 120/120 [00:02<00:00, 46.65batch/s, loss=0.491399]\u001b[0m\n"
     ]
    },
    {
     "name": "stdout",
     "output_type": "stream",
     "text": [
      "\t Loss: 13.500,\tTrain : 84.16%(84.16%),\tTest : 82.27%(82.27%),\tCurrent Time: 20250720-125410\n"
     ]
    },
    {
     "name": "stderr",
     "output_type": "stream",
     "text": [
      "Epoch 3/50:: 100%|\u001b[34m████████████████████\u001b[0m| 120/120 [00:02<00:00, 46.51batch/s, loss=0.444862]\u001b[0m\n"
     ]
    },
    {
     "name": "stdout",
     "output_type": "stream",
     "text": [
      "\t Loss: 12.522,\tTrain : 85.48%(85.48%),\tTest : 83.75%(83.75%),\tCurrent Time: 20250720-125413\n"
     ]
    },
    {
     "name": "stderr",
     "output_type": "stream",
     "text": [
      "Epoch 4/50:: 100%|\u001b[34m████████████████████\u001b[0m| 120/120 [00:02<00:00, 45.90batch/s, loss=0.418572]\u001b[0m\n"
     ]
    },
    {
     "name": "stdout",
     "output_type": "stream",
     "text": [
      "\t Loss: 11.904,\tTrain : 86.22%(86.22%),\tTest : 84.43%(84.43%),\tCurrent Time: 20250720-125416\n"
     ]
    },
    {
     "name": "stderr",
     "output_type": "stream",
     "text": [
      "Epoch 5/50:: 100%|\u001b[34m████████████████████\u001b[0m| 120/120 [00:02<00:00, 46.35batch/s, loss=0.405328]\u001b[0m\n"
     ]
    },
    {
     "name": "stdout",
     "output_type": "stream",
     "text": [
      "\t Loss: 11.302,\tTrain : 86.97%(86.97%),\tTest : 84.72%(84.72%),\tCurrent Time: 20250720-125419\n"
     ]
    },
    {
     "name": "stderr",
     "output_type": "stream",
     "text": [
      "Epoch 6/50:: 100%|\u001b[34m████████████████████\u001b[0m| 120/120 [00:02<00:00, 46.27batch/s, loss=0.393814]\u001b[0m\n"
     ]
    },
    {
     "name": "stdout",
     "output_type": "stream",
     "text": [
      "\t Loss: 11.605,\tTrain : 86.91%(86.97%),\tTest : 85.12%(85.12%),\tCurrent Time: 20250720-125422\n"
     ]
    },
    {
     "name": "stderr",
     "output_type": "stream",
     "text": [
      "Epoch 7/50:: 100%|\u001b[34m████████████████████\u001b[0m| 120/120 [00:02<00:00, 46.09batch/s, loss=0.381352]\u001b[0m\n"
     ]
    },
    {
     "name": "stdout",
     "output_type": "stream",
     "text": [
      "\t Loss: 11.411,\tTrain : 87.22%(87.22%),\tTest : 85.02%(85.12%),\tCurrent Time: 20250720-125426\n"
     ]
    },
    {
     "name": "stderr",
     "output_type": "stream",
     "text": [
      "Epoch 8/50:: 100%|\u001b[34m████████████████████\u001b[0m| 120/120 [00:02<00:00, 46.00batch/s, loss=0.380504]\u001b[0m\n"
     ]
    },
    {
     "name": "stdout",
     "output_type": "stream",
     "text": [
      "\t Loss: 11.731,\tTrain : 87.11%(87.22%),\tTest : 85.11%(85.12%),\tCurrent Time: 20250720-125429\n"
     ]
    },
    {
     "name": "stderr",
     "output_type": "stream",
     "text": [
      "Epoch 9/50:: 100%|\u001b[34m████████████████████\u001b[0m| 120/120 [00:02<00:00, 46.21batch/s, loss=0.369220]\u001b[0m\n"
     ]
    },
    {
     "name": "stdout",
     "output_type": "stream",
     "text": [
      "\t Loss: 11.249,\tTrain : 87.80%(87.80%),\tTest : 85.41%(85.41%),\tCurrent Time: 20250720-125432\n"
     ]
    },
    {
     "name": "stderr",
     "output_type": "stream",
     "text": [
      "Epoch 10/50:: 100%|\u001b[34m███████████████████\u001b[0m| 120/120 [00:02<00:00, 46.17batch/s, loss=0.365589]\u001b[0m\n"
     ]
    },
    {
     "name": "stdout",
     "output_type": "stream",
     "text": [
      "\t Loss: 10.531,\tTrain : 88.45%(88.45%),\tTest : 86.06%(86.06%),\tCurrent Time: 20250720-125435\n"
     ]
    },
    {
     "name": "stderr",
     "output_type": "stream",
     "text": [
      "Epoch 11/50:: 100%|\u001b[34m███████████████████\u001b[0m| 120/120 [00:02<00:00, 46.14batch/s, loss=0.358347]\u001b[0m\n"
     ]
    },
    {
     "name": "stdout",
     "output_type": "stream",
     "text": [
      "\t Loss: 10.955,\tTrain : 88.06%(88.45%),\tTest : 86.04%(86.06%),\tCurrent Time: 20250720-125438\n"
     ]
    },
    {
     "name": "stderr",
     "output_type": "stream",
     "text": [
      "Epoch 12/50:: 100%|\u001b[34m███████████████████\u001b[0m| 120/120 [00:02<00:00, 45.78batch/s, loss=0.364600]\u001b[0m\n"
     ]
    },
    {
     "name": "stdout",
     "output_type": "stream",
     "text": [
      "\t Loss: 10.568,\tTrain : 88.44%(88.45%),\tTest : 86.20%(86.20%),\tCurrent Time: 20250720-125441\n"
     ]
    },
    {
     "name": "stderr",
     "output_type": "stream",
     "text": [
      "Epoch 13/50:: 100%|\u001b[34m███████████████████\u001b[0m| 120/120 [00:02<00:00, 45.68batch/s, loss=0.361229]\u001b[0m\n"
     ]
    },
    {
     "name": "stdout",
     "output_type": "stream",
     "text": [
      "\t Loss: 11.119,\tTrain : 88.38%(88.45%),\tTest : 86.39%(86.39%),\tCurrent Time: 20250720-125444\n"
     ]
    },
    {
     "name": "stderr",
     "output_type": "stream",
     "text": [
      "Epoch 14/50:: 100%|\u001b[34m███████████████████\u001b[0m| 120/120 [00:02<00:00, 45.78batch/s, loss=0.355054]\u001b[0m\n"
     ]
    },
    {
     "name": "stdout",
     "output_type": "stream",
     "text": [
      "\t Loss: 9.822,\tTrain : 89.31%(89.31%),\tTest : 86.86%(86.86%),\tCurrent Time: 20250720-125447\n"
     ]
    },
    {
     "name": "stderr",
     "output_type": "stream",
     "text": [
      "Epoch 15/50:: 100%|\u001b[34m███████████████████\u001b[0m| 120/120 [00:02<00:00, 45.87batch/s, loss=0.345667]\u001b[0m\n"
     ]
    },
    {
     "name": "stdout",
     "output_type": "stream",
     "text": [
      "\t Loss: 9.963,\tTrain : 89.08%(89.31%),\tTest : 86.58%(86.86%),\tCurrent Time: 20250720-125450\n"
     ]
    },
    {
     "name": "stderr",
     "output_type": "stream",
     "text": [
      "Epoch 16/50:: 100%|\u001b[34m███████████████████\u001b[0m| 120/120 [00:02<00:00, 45.90batch/s, loss=0.348952]\u001b[0m\n"
     ]
    },
    {
     "name": "stdout",
     "output_type": "stream",
     "text": [
      "\t Loss: 9.826,\tTrain : 89.67%(89.67%),\tTest : 87.31%(87.31%),\tCurrent Time: 20250720-125453\n"
     ]
    },
    {
     "name": "stderr",
     "output_type": "stream",
     "text": [
      "Epoch 17/50:: 100%|\u001b[34m███████████████████\u001b[0m| 120/120 [00:02<00:00, 45.96batch/s, loss=0.335358]\u001b[0m\n"
     ]
    },
    {
     "name": "stdout",
     "output_type": "stream",
     "text": [
      "\t Loss: 10.165,\tTrain : 89.53%(89.67%),\tTest : 86.86%(87.31%),\tCurrent Time: 20250720-125457\n"
     ]
    },
    {
     "name": "stderr",
     "output_type": "stream",
     "text": [
      "Epoch 18/50:: 100%|\u001b[34m███████████████████\u001b[0m| 120/120 [00:02<00:00, 46.14batch/s, loss=0.341799]\u001b[0m\n"
     ]
    },
    {
     "name": "stdout",
     "output_type": "stream",
     "text": [
      "\t Loss: 9.459,\tTrain : 89.71%(89.71%),\tTest : 86.95%(87.31%),\tCurrent Time: 20250720-125500\n"
     ]
    },
    {
     "name": "stderr",
     "output_type": "stream",
     "text": [
      "Epoch 19/50:: 100%|\u001b[34m███████████████████\u001b[0m| 120/120 [00:02<00:00, 45.73batch/s, loss=0.340710]\u001b[0m\n"
     ]
    },
    {
     "name": "stdout",
     "output_type": "stream",
     "text": [
      "\t Loss: 10.341,\tTrain : 89.58%(89.71%),\tTest : 86.92%(87.31%),\tCurrent Time: 20250720-125503\n"
     ]
    },
    {
     "name": "stderr",
     "output_type": "stream",
     "text": [
      "Epoch 20/50:: 100%|\u001b[34m███████████████████\u001b[0m| 120/120 [00:02<00:00, 46.11batch/s, loss=0.337412]\u001b[0m\n"
     ]
    },
    {
     "name": "stdout",
     "output_type": "stream",
     "text": [
      "\t Loss: 9.561,\tTrain : 90.18%(90.18%),\tTest : 87.45%(87.45%),\tCurrent Time: 20250720-125506\n"
     ]
    },
    {
     "name": "stderr",
     "output_type": "stream",
     "text": [
      "Epoch 21/50:: 100%|\u001b[34m███████████████████\u001b[0m| 120/120 [00:02<00:00, 46.08batch/s, loss=0.335012]\u001b[0m\n"
     ]
    },
    {
     "name": "stdout",
     "output_type": "stream",
     "text": [
      "\t Loss: 9.551,\tTrain : 90.00%(90.18%),\tTest : 87.16%(87.45%),\tCurrent Time: 20250720-125509\n"
     ]
    },
    {
     "name": "stderr",
     "output_type": "stream",
     "text": [
      "Epoch 22/50:: 100%|\u001b[34m███████████████████\u001b[0m| 120/120 [00:02<00:00, 45.82batch/s, loss=0.337465]\u001b[0m\n"
     ]
    },
    {
     "name": "stdout",
     "output_type": "stream",
     "text": [
      "\t Loss: 9.079,\tTrain : 90.48%(90.48%),\tTest : 87.47%(87.47%),\tCurrent Time: 20250720-125512\n"
     ]
    },
    {
     "name": "stderr",
     "output_type": "stream",
     "text": [
      "Epoch 23/50:: 100%|\u001b[34m███████████████████\u001b[0m| 120/120 [00:02<00:00, 45.87batch/s, loss=0.335191]\u001b[0m\n"
     ]
    },
    {
     "name": "stdout",
     "output_type": "stream",
     "text": [
      "\t Loss: 10.987,\tTrain : 89.32%(90.48%),\tTest : 86.29%(87.47%),\tCurrent Time: 20250720-125515\n"
     ]
    },
    {
     "name": "stderr",
     "output_type": "stream",
     "text": [
      "Epoch 24/50:: 100%|\u001b[34m███████████████████\u001b[0m| 120/120 [00:02<00:00, 45.71batch/s, loss=0.355625]\u001b[0m\n"
     ]
    },
    {
     "name": "stdout",
     "output_type": "stream",
     "text": [
      "\t Loss: 9.967,\tTrain : 89.88%(90.48%),\tTest : 87.04%(87.47%),\tCurrent Time: 20250720-125518\n"
     ]
    },
    {
     "name": "stderr",
     "output_type": "stream",
     "text": [
      "Epoch 25/50:: 100%|\u001b[34m███████████████████\u001b[0m| 120/120 [00:02<00:00, 47.65batch/s, loss=0.331818]\u001b[0m\n"
     ]
    },
    {
     "name": "stdout",
     "output_type": "stream",
     "text": [
      "\t Loss: 10.026,\tTrain : 90.16%(90.48%),\tTest : 87.32%(87.47%),\tCurrent Time: 20250720-125521\n"
     ]
    },
    {
     "name": "stderr",
     "output_type": "stream",
     "text": [
      "Epoch 26/50:: 100%|\u001b[34m███████████████████\u001b[0m| 120/120 [00:02<00:00, 46.77batch/s, loss=0.322672]\u001b[0m\n"
     ]
    },
    {
     "name": "stdout",
     "output_type": "stream",
     "text": [
      "\t Loss: 8.914,\tTrain : 91.01%(91.01%),\tTest : 88.02%(88.02%),\tCurrent Time: 20250720-125524\n"
     ]
    },
    {
     "name": "stderr",
     "output_type": "stream",
     "text": [
      "Epoch 27/50:: 100%|\u001b[34m███████████████████\u001b[0m| 120/120 [00:02<00:00, 46.90batch/s, loss=0.322164]\u001b[0m\n"
     ]
    },
    {
     "name": "stdout",
     "output_type": "stream",
     "text": [
      "\t Loss: 9.420,\tTrain : 90.83%(91.01%),\tTest : 87.75%(88.02%),\tCurrent Time: 20250720-125527\n"
     ]
    },
    {
     "name": "stderr",
     "output_type": "stream",
     "text": [
      "Epoch 28/50:: 100%|\u001b[34m███████████████████\u001b[0m| 120/120 [00:02<00:00, 47.55batch/s, loss=0.318950]\u001b[0m\n"
     ]
    },
    {
     "name": "stdout",
     "output_type": "stream",
     "text": [
      "\t Loss: 9.221,\tTrain : 91.01%(91.01%),\tTest : 87.63%(88.02%),\tCurrent Time: 20250720-125530\n"
     ]
    },
    {
     "name": "stderr",
     "output_type": "stream",
     "text": [
      "Epoch 29/50:: 100%|\u001b[34m███████████████████\u001b[0m| 120/120 [00:02<00:00, 47.30batch/s, loss=0.325044]\u001b[0m\n"
     ]
    },
    {
     "name": "stdout",
     "output_type": "stream",
     "text": [
      "\t Loss: 9.074,\tTrain : 91.18%(91.18%),\tTest : 87.93%(88.02%),\tCurrent Time: 20250720-125533\n"
     ]
    },
    {
     "name": "stderr",
     "output_type": "stream",
     "text": [
      "Epoch 30/50:: 100%|\u001b[34m███████████████████\u001b[0m| 120/120 [00:02<00:00, 46.66batch/s, loss=0.317674]\u001b[0m\n"
     ]
    },
    {
     "name": "stdout",
     "output_type": "stream",
     "text": [
      "\t Loss: 9.128,\tTrain : 91.16%(91.18%),\tTest : 88.04%(88.04%),\tCurrent Time: 20250720-125536\n"
     ]
    },
    {
     "name": "stderr",
     "output_type": "stream",
     "text": [
      "Epoch 31/50:: 100%|\u001b[34m███████████████████\u001b[0m| 120/120 [00:02<00:00, 46.25batch/s, loss=0.316355]\u001b[0m\n"
     ]
    },
    {
     "name": "stdout",
     "output_type": "stream",
     "text": [
      "\t Loss: 9.238,\tTrain : 91.22%(91.22%),\tTest : 87.92%(88.04%),\tCurrent Time: 20250720-125540\n"
     ]
    },
    {
     "name": "stderr",
     "output_type": "stream",
     "text": [
      "Epoch 32/50:: 100%|\u001b[34m███████████████████\u001b[0m| 120/120 [00:02<00:00, 46.75batch/s, loss=0.320464]\u001b[0m\n"
     ]
    },
    {
     "name": "stdout",
     "output_type": "stream",
     "text": [
      "\t Loss: 10.171,\tTrain : 90.75%(91.22%),\tTest : 87.62%(88.04%),\tCurrent Time: 20250720-125543\n"
     ]
    },
    {
     "name": "stderr",
     "output_type": "stream",
     "text": [
      "Epoch 33/50:: 100%|\u001b[34m███████████████████\u001b[0m| 120/120 [00:02<00:00, 47.71batch/s, loss=0.328336]\u001b[0m\n"
     ]
    },
    {
     "name": "stdout",
     "output_type": "stream",
     "text": [
      "\t Loss: 8.650,\tTrain : 91.48%(91.48%),\tTest : 87.89%(88.04%),\tCurrent Time: 20250720-125546\n"
     ]
    },
    {
     "name": "stderr",
     "output_type": "stream",
     "text": [
      "Epoch 34/50:: 100%|\u001b[34m███████████████████\u001b[0m| 120/120 [00:02<00:00, 47.15batch/s, loss=0.313884]\u001b[0m\n"
     ]
    },
    {
     "name": "stdout",
     "output_type": "stream",
     "text": [
      "\t Loss: 9.054,\tTrain : 91.41%(91.48%),\tTest : 87.98%(88.04%),\tCurrent Time: 20250720-125549\n"
     ]
    },
    {
     "name": "stderr",
     "output_type": "stream",
     "text": [
      "Epoch 35/50:: 100%|\u001b[34m███████████████████\u001b[0m| 120/120 [00:02<00:00, 46.94batch/s, loss=0.312796]\u001b[0m\n"
     ]
    },
    {
     "name": "stdout",
     "output_type": "stream",
     "text": [
      "\t Loss: 9.007,\tTrain : 91.69%(91.69%),\tTest : 88.40%(88.40%),\tCurrent Time: 20250720-125552\n"
     ]
    },
    {
     "name": "stderr",
     "output_type": "stream",
     "text": [
      "Epoch 36/50:: 100%|\u001b[34m███████████████████\u001b[0m| 120/120 [00:02<00:00, 47.14batch/s, loss=0.319711]\u001b[0m\n"
     ]
    },
    {
     "name": "stdout",
     "output_type": "stream",
     "text": [
      "\t Loss: 10.560,\tTrain : 90.77%(91.69%),\tTest : 87.11%(88.40%),\tCurrent Time: 20250720-125555\n"
     ]
    },
    {
     "name": "stderr",
     "output_type": "stream",
     "text": [
      "Epoch 37/50:: 100%|\u001b[34m███████████████████\u001b[0m| 120/120 [00:02<00:00, 46.87batch/s, loss=0.318394]\u001b[0m\n"
     ]
    },
    {
     "name": "stdout",
     "output_type": "stream",
     "text": [
      "\t Loss: 9.227,\tTrain : 91.42%(91.69%),\tTest : 88.04%(88.40%),\tCurrent Time: 20250720-125558\n"
     ]
    },
    {
     "name": "stderr",
     "output_type": "stream",
     "text": [
      "Epoch 38/50:: 100%|\u001b[34m███████████████████\u001b[0m| 120/120 [00:02<00:00, 48.03batch/s, loss=0.320800]\u001b[0m\n"
     ]
    },
    {
     "name": "stdout",
     "output_type": "stream",
     "text": [
      "\t Loss: 9.362,\tTrain : 91.37%(91.69%),\tTest : 87.92%(88.40%),\tCurrent Time: 20250720-125601\n"
     ]
    },
    {
     "name": "stderr",
     "output_type": "stream",
     "text": [
      "Epoch 39/50:: 100%|\u001b[34m███████████████████\u001b[0m| 120/120 [00:02<00:00, 47.86batch/s, loss=0.325885]\u001b[0m\n"
     ]
    },
    {
     "name": "stdout",
     "output_type": "stream",
     "text": [
      "\t Loss: 11.012,\tTrain : 90.81%(91.69%),\tTest : 87.28%(88.40%),\tCurrent Time: 20250720-125604\n"
     ]
    },
    {
     "name": "stderr",
     "output_type": "stream",
     "text": [
      "Epoch 40/50:: 100%|\u001b[34m███████████████████\u001b[0m| 120/120 [00:02<00:00, 47.99batch/s, loss=0.311822]\u001b[0m\n"
     ]
    },
    {
     "name": "stdout",
     "output_type": "stream",
     "text": [
      "\t Loss: 9.260,\tTrain : 91.63%(91.69%),\tTest : 87.87%(88.40%),\tCurrent Time: 20250720-125607\n"
     ]
    },
    {
     "name": "stderr",
     "output_type": "stream",
     "text": [
      "Epoch 41/50:: 100%|\u001b[34m███████████████████\u001b[0m| 120/120 [00:02<00:00, 48.06batch/s, loss=0.303595]\u001b[0m\n"
     ]
    },
    {
     "name": "stdout",
     "output_type": "stream",
     "text": [
      "\t Loss: 8.723,\tTrain : 91.68%(91.69%),\tTest : 87.85%(88.40%),\tCurrent Time: 20250720-125610\n"
     ]
    },
    {
     "name": "stderr",
     "output_type": "stream",
     "text": [
      "Epoch 42/50:: 100%|\u001b[34m███████████████████\u001b[0m| 120/120 [00:02<00:00, 47.79batch/s, loss=0.314062]\u001b[0m\n"
     ]
    },
    {
     "name": "stdout",
     "output_type": "stream",
     "text": [
      "\t Loss: 8.364,\tTrain : 92.31%(92.31%),\tTest : 88.57%(88.57%),\tCurrent Time: 20250720-125613\n"
     ]
    },
    {
     "name": "stderr",
     "output_type": "stream",
     "text": [
      "Epoch 43/50:: 100%|\u001b[34m███████████████████\u001b[0m| 120/120 [00:02<00:00, 48.10batch/s, loss=0.306611]\u001b[0m\n"
     ]
    },
    {
     "name": "stdout",
     "output_type": "stream",
     "text": [
      "\t Loss: 8.728,\tTrain : 91.93%(92.31%),\tTest : 87.87%(88.57%),\tCurrent Time: 20250720-125616\n"
     ]
    },
    {
     "name": "stderr",
     "output_type": "stream",
     "text": [
      "Epoch 44/50:: 100%|\u001b[34m███████████████████\u001b[0m| 120/120 [00:02<00:00, 47.34batch/s, loss=0.308521]\u001b[0m\n"
     ]
    },
    {
     "name": "stdout",
     "output_type": "stream",
     "text": [
      "\t Loss: 8.543,\tTrain : 92.27%(92.31%),\tTest : 88.26%(88.57%),\tCurrent Time: 20250720-125619\n"
     ]
    },
    {
     "name": "stderr",
     "output_type": "stream",
     "text": [
      "Epoch 45/50:: 100%|\u001b[34m███████████████████\u001b[0m| 120/120 [00:02<00:00, 46.59batch/s, loss=0.300306]\u001b[0m\n"
     ]
    },
    {
     "name": "stdout",
     "output_type": "stream",
     "text": [
      "\t Loss: 9.144,\tTrain : 91.67%(92.31%),\tTest : 87.67%(88.57%),\tCurrent Time: 20250720-125622\n"
     ]
    },
    {
     "name": "stderr",
     "output_type": "stream",
     "text": [
      "Epoch 46/50:: 100%|\u001b[34m███████████████████\u001b[0m| 120/120 [00:02<00:00, 47.38batch/s, loss=0.301530]\u001b[0m\n"
     ]
    },
    {
     "name": "stdout",
     "output_type": "stream",
     "text": [
      "\t Loss: 7.955,\tTrain : 92.58%(92.58%),\tTest : 88.33%(88.57%),\tCurrent Time: 20250720-125625\n"
     ]
    },
    {
     "name": "stderr",
     "output_type": "stream",
     "text": [
      "Epoch 47/50:: 100%|\u001b[34m███████████████████\u001b[0m| 120/120 [00:02<00:00, 46.78batch/s, loss=0.310352]\u001b[0m\n"
     ]
    },
    {
     "name": "stdout",
     "output_type": "stream",
     "text": [
      "\t Loss: 8.567,\tTrain : 92.02%(92.58%),\tTest : 88.10%(88.57%),\tCurrent Time: 20250720-125628\n"
     ]
    },
    {
     "name": "stderr",
     "output_type": "stream",
     "text": [
      "Epoch 48/50:: 100%|\u001b[34m███████████████████\u001b[0m| 120/120 [00:02<00:00, 46.40batch/s, loss=0.300838]\u001b[0m\n"
     ]
    },
    {
     "name": "stdout",
     "output_type": "stream",
     "text": [
      "\t Loss: 8.274,\tTrain : 92.59%(92.59%),\tTest : 88.67%(88.67%),\tCurrent Time: 20250720-125631\n"
     ]
    },
    {
     "name": "stderr",
     "output_type": "stream",
     "text": [
      "Epoch 49/50:: 100%|\u001b[34m███████████████████\u001b[0m| 120/120 [00:02<00:00, 47.05batch/s, loss=0.299426]\u001b[0m\n"
     ]
    },
    {
     "name": "stdout",
     "output_type": "stream",
     "text": [
      "\t Loss: 9.335,\tTrain : 91.93%(92.59%),\tTest : 87.84%(88.67%),\tCurrent Time: 20250720-125634\n"
     ]
    },
    {
     "name": "stderr",
     "output_type": "stream",
     "text": [
      "Epoch 50/50:: 100%|\u001b[34m███████████████████\u001b[0m| 120/120 [00:02<00:00, 46.40batch/s, loss=0.299027]\u001b[0m\n"
     ]
    },
    {
     "name": "stdout",
     "output_type": "stream",
     "text": [
      "\t Loss: 8.899,\tTrain : 92.30%(92.59%),\tTest : 88.08%(88.67%),\tCurrent Time: 20250720-125637\n",
      "First_symm_10HL_Res-Task2-0-EP_L10--FMNIST_EP_b_sc0.01- Time: 20250720-125637, Epochs: 50, Learning Rate: 0.001, Best: 92.59%  88.67%\n",
      "\n",
      "First_symm_10HL_Res-Task2-0-EP_L10--FMNIST_EP_b_sc0.01-\n"
     ]
    },
    {
     "name": "stderr",
     "output_type": "stream",
     "text": [
      "Epoch 1/50:: 100%|\u001b[34m████████████████████\u001b[0m| 120/120 [00:02<00:00, 43.02batch/s, loss=0.841745]\u001b[0m\n"
     ]
    },
    {
     "name": "stdout",
     "output_type": "stream",
     "text": [
      "\t Loss: 15.820,\tTrain : 81.82%(81.82%),\tTest : 80.48%(80.48%),\tCurrent Time: 20250720-125645\n"
     ]
    },
    {
     "name": "stderr",
     "output_type": "stream",
     "text": [
      "Epoch 2/50:: 100%|\u001b[34m████████████████████\u001b[0m| 120/120 [00:02<00:00, 46.60batch/s, loss=0.494398]\u001b[0m\n"
     ]
    },
    {
     "name": "stdout",
     "output_type": "stream",
     "text": [
      "\t Loss: 13.666,\tTrain : 84.14%(84.14%),\tTest : 82.58%(82.58%),\tCurrent Time: 20250720-125648\n"
     ]
    },
    {
     "name": "stderr",
     "output_type": "stream",
     "text": [
      "Epoch 3/50:: 100%|\u001b[34m████████████████████\u001b[0m| 120/120 [00:02<00:00, 46.57batch/s, loss=0.449577]\u001b[0m\n"
     ]
    },
    {
     "name": "stdout",
     "output_type": "stream",
     "text": [
      "\t Loss: 12.948,\tTrain : 85.33%(85.33%),\tTest : 83.67%(83.67%),\tCurrent Time: 20250720-125651\n"
     ]
    },
    {
     "name": "stderr",
     "output_type": "stream",
     "text": [
      "Epoch 4/50:: 100%|\u001b[34m████████████████████\u001b[0m| 120/120 [00:02<00:00, 46.14batch/s, loss=0.419778]\u001b[0m\n"
     ]
    },
    {
     "name": "stdout",
     "output_type": "stream",
     "text": [
      "\t Loss: 13.641,\tTrain : 84.86%(85.33%),\tTest : 83.20%(83.67%),\tCurrent Time: 20250720-125654\n"
     ]
    },
    {
     "name": "stderr",
     "output_type": "stream",
     "text": [
      "Epoch 5/50:: 100%|\u001b[34m████████████████████\u001b[0m| 120/120 [00:02<00:00, 47.09batch/s, loss=0.409208]\u001b[0m\n"
     ]
    },
    {
     "name": "stdout",
     "output_type": "stream",
     "text": [
      "\t Loss: 12.445,\tTrain : 86.41%(86.41%),\tTest : 84.52%(84.52%),\tCurrent Time: 20250720-125657\n"
     ]
    },
    {
     "name": "stderr",
     "output_type": "stream",
     "text": [
      "Epoch 6/50:: 100%|\u001b[34m████████████████████\u001b[0m| 120/120 [00:02<00:00, 46.42batch/s, loss=0.404863]\u001b[0m\n"
     ]
    },
    {
     "name": "stdout",
     "output_type": "stream",
     "text": [
      "\t Loss: 12.506,\tTrain : 86.43%(86.43%),\tTest : 84.64%(84.64%),\tCurrent Time: 20250720-125700\n"
     ]
    },
    {
     "name": "stderr",
     "output_type": "stream",
     "text": [
      "Epoch 7/50:: 100%|\u001b[34m████████████████████\u001b[0m| 120/120 [00:02<00:00, 46.41batch/s, loss=0.387280]\u001b[0m\n"
     ]
    },
    {
     "name": "stdout",
     "output_type": "stream",
     "text": [
      "\t Loss: 12.345,\tTrain : 86.70%(86.70%),\tTest : 84.78%(84.78%),\tCurrent Time: 20250720-125703\n"
     ]
    },
    {
     "name": "stderr",
     "output_type": "stream",
     "text": [
      "Epoch 8/50:: 100%|\u001b[34m████████████████████\u001b[0m| 120/120 [00:02<00:00, 46.37batch/s, loss=0.393403]\u001b[0m\n"
     ]
    },
    {
     "name": "stdout",
     "output_type": "stream",
     "text": [
      "\t Loss: 11.645,\tTrain : 87.14%(87.14%),\tTest : 85.00%(85.00%),\tCurrent Time: 20250720-125706\n"
     ]
    },
    {
     "name": "stderr",
     "output_type": "stream",
     "text": [
      "Epoch 9/50:: 100%|\u001b[34m████████████████████\u001b[0m| 120/120 [00:02<00:00, 46.92batch/s, loss=0.388529]\u001b[0m\n"
     ]
    },
    {
     "name": "stdout",
     "output_type": "stream",
     "text": [
      "\t Loss: 11.306,\tTrain : 87.64%(87.64%),\tTest : 85.67%(85.67%),\tCurrent Time: 20250720-125709\n"
     ]
    },
    {
     "name": "stderr",
     "output_type": "stream",
     "text": [
      "Epoch 10/50:: 100%|\u001b[34m███████████████████\u001b[0m| 120/120 [00:02<00:00, 46.50batch/s, loss=0.372848]\u001b[0m\n"
     ]
    },
    {
     "name": "stdout",
     "output_type": "stream",
     "text": [
      "\t Loss: 11.268,\tTrain : 88.24%(88.24%),\tTest : 86.21%(86.21%),\tCurrent Time: 20250720-125712\n"
     ]
    },
    {
     "name": "stderr",
     "output_type": "stream",
     "text": [
      "Epoch 11/50:: 100%|\u001b[34m███████████████████\u001b[0m| 120/120 [00:02<00:00, 46.30batch/s, loss=0.376294]\u001b[0m\n"
     ]
    },
    {
     "name": "stdout",
     "output_type": "stream",
     "text": [
      "\t Loss: 10.734,\tTrain : 88.47%(88.47%),\tTest : 86.27%(86.27%),\tCurrent Time: 20250720-125715\n"
     ]
    },
    {
     "name": "stderr",
     "output_type": "stream",
     "text": [
      "Epoch 12/50:: 100%|\u001b[34m███████████████████\u001b[0m| 120/120 [00:02<00:00, 46.28batch/s, loss=0.370026]\u001b[0m\n"
     ]
    },
    {
     "name": "stdout",
     "output_type": "stream",
     "text": [
      "\t Loss: 11.283,\tTrain : 88.08%(88.47%),\tTest : 86.12%(86.27%),\tCurrent Time: 20250720-125718\n"
     ]
    },
    {
     "name": "stderr",
     "output_type": "stream",
     "text": [
      "Epoch 13/50:: 100%|\u001b[34m███████████████████\u001b[0m| 120/120 [00:02<00:00, 46.36batch/s, loss=0.361453]\u001b[0m\n"
     ]
    },
    {
     "name": "stdout",
     "output_type": "stream",
     "text": [
      "\t Loss: 10.849,\tTrain : 88.55%(88.55%),\tTest : 86.47%(86.47%),\tCurrent Time: 20250720-125721\n"
     ]
    },
    {
     "name": "stderr",
     "output_type": "stream",
     "text": [
      "Epoch 14/50:: 100%|\u001b[34m███████████████████\u001b[0m| 120/120 [00:02<00:00, 46.40batch/s, loss=0.362489]\u001b[0m\n"
     ]
    },
    {
     "name": "stdout",
     "output_type": "stream",
     "text": [
      "\t Loss: 10.870,\tTrain : 88.80%(88.80%),\tTest : 86.71%(86.71%),\tCurrent Time: 20250720-125725\n"
     ]
    },
    {
     "name": "stderr",
     "output_type": "stream",
     "text": [
      "Epoch 15/50:: 100%|\u001b[34m███████████████████\u001b[0m| 120/120 [00:02<00:00, 46.37batch/s, loss=0.366462]\u001b[0m\n"
     ]
    },
    {
     "name": "stdout",
     "output_type": "stream",
     "text": [
      "\t Loss: 10.474,\tTrain : 88.94%(88.94%),\tTest : 86.21%(86.71%),\tCurrent Time: 20250720-125728\n"
     ]
    },
    {
     "name": "stderr",
     "output_type": "stream",
     "text": [
      "Epoch 16/50:: 100%|\u001b[34m███████████████████\u001b[0m| 120/120 [00:02<00:00, 45.94batch/s, loss=0.353690]\u001b[0m\n"
     ]
    },
    {
     "name": "stdout",
     "output_type": "stream",
     "text": [
      "\t Loss: 10.218,\tTrain : 89.59%(89.59%),\tTest : 87.14%(87.14%),\tCurrent Time: 20250720-125731\n"
     ]
    },
    {
     "name": "stderr",
     "output_type": "stream",
     "text": [
      "Epoch 17/50:: 100%|\u001b[34m███████████████████\u001b[0m| 120/120 [00:02<00:00, 46.18batch/s, loss=0.352172]\u001b[0m\n"
     ]
    },
    {
     "name": "stdout",
     "output_type": "stream",
     "text": [
      "\t Loss: 10.004,\tTrain : 89.50%(89.59%),\tTest : 86.78%(87.14%),\tCurrent Time: 20250720-125734\n"
     ]
    },
    {
     "name": "stderr",
     "output_type": "stream",
     "text": [
      "Epoch 18/50:: 100%|\u001b[34m███████████████████\u001b[0m| 120/120 [00:02<00:00, 46.30batch/s, loss=0.368417]\u001b[0m\n"
     ]
    },
    {
     "name": "stdout",
     "output_type": "stream",
     "text": [
      "\t Loss: 10.442,\tTrain : 89.50%(89.59%),\tTest : 86.78%(87.14%),\tCurrent Time: 20250720-125737\n"
     ]
    },
    {
     "name": "stderr",
     "output_type": "stream",
     "text": [
      "Epoch 19/50:: 100%|\u001b[34m███████████████████\u001b[0m| 120/120 [00:02<00:00, 46.17batch/s, loss=0.352047]\u001b[0m\n"
     ]
    },
    {
     "name": "stdout",
     "output_type": "stream",
     "text": [
      "\t Loss: 10.113,\tTrain : 90.00%(90.00%),\tTest : 87.28%(87.28%),\tCurrent Time: 20250720-125740\n"
     ]
    },
    {
     "name": "stderr",
     "output_type": "stream",
     "text": [
      "Epoch 20/50:: 100%|\u001b[34m███████████████████\u001b[0m| 120/120 [00:02<00:00, 46.37batch/s, loss=0.351644]\u001b[0m\n"
     ]
    },
    {
     "name": "stdout",
     "output_type": "stream",
     "text": [
      "\t Loss: 9.961,\tTrain : 89.85%(90.00%),\tTest : 86.89%(87.28%),\tCurrent Time: 20250720-125743\n"
     ]
    },
    {
     "name": "stderr",
     "output_type": "stream",
     "text": [
      "Epoch 21/50:: 100%|\u001b[34m███████████████████\u001b[0m| 120/120 [00:02<00:00, 46.34batch/s, loss=0.342224]\u001b[0m\n"
     ]
    },
    {
     "name": "stdout",
     "output_type": "stream",
     "text": [
      "\t Loss: 9.750,\tTrain : 90.21%(90.21%),\tTest : 87.32%(87.32%),\tCurrent Time: 20250720-125746\n"
     ]
    },
    {
     "name": "stderr",
     "output_type": "stream",
     "text": [
      "Epoch 22/50:: 100%|\u001b[34m███████████████████\u001b[0m| 120/120 [00:02<00:00, 45.70batch/s, loss=0.345212]\u001b[0m\n"
     ]
    },
    {
     "name": "stdout",
     "output_type": "stream",
     "text": [
      "\t Loss: 10.346,\tTrain : 89.91%(90.21%),\tTest : 87.04%(87.32%),\tCurrent Time: 20250720-125749\n"
     ]
    },
    {
     "name": "stderr",
     "output_type": "stream",
     "text": [
      "Epoch 23/50:: 100%|\u001b[34m███████████████████\u001b[0m| 120/120 [00:02<00:00, 46.49batch/s, loss=0.341947]\u001b[0m\n"
     ]
    },
    {
     "name": "stdout",
     "output_type": "stream",
     "text": [
      "\t Loss: 10.063,\tTrain : 90.01%(90.21%),\tTest : 87.16%(87.32%),\tCurrent Time: 20250720-125752\n"
     ]
    },
    {
     "name": "stderr",
     "output_type": "stream",
     "text": [
      "Epoch 24/50:: 100%|\u001b[34m███████████████████\u001b[0m| 120/120 [00:02<00:00, 46.16batch/s, loss=0.337949]\u001b[0m\n"
     ]
    },
    {
     "name": "stdout",
     "output_type": "stream",
     "text": [
      "\t Loss: 9.789,\tTrain : 90.48%(90.48%),\tTest : 87.58%(87.58%),\tCurrent Time: 20250720-125755\n"
     ]
    },
    {
     "name": "stderr",
     "output_type": "stream",
     "text": [
      "Epoch 25/50:: 100%|\u001b[34m███████████████████\u001b[0m| 120/120 [00:02<00:00, 46.29batch/s, loss=0.339386]\u001b[0m\n"
     ]
    },
    {
     "name": "stdout",
     "output_type": "stream",
     "text": [
      "\t Loss: 10.731,\tTrain : 89.56%(90.48%),\tTest : 86.49%(87.58%),\tCurrent Time: 20250720-125758\n"
     ]
    },
    {
     "name": "stderr",
     "output_type": "stream",
     "text": [
      "Epoch 26/50:: 100%|\u001b[34m███████████████████\u001b[0m| 120/120 [00:02<00:00, 46.22batch/s, loss=0.341721]\u001b[0m\n"
     ]
    },
    {
     "name": "stdout",
     "output_type": "stream",
     "text": [
      "\t Loss: 9.963,\tTrain : 90.17%(90.48%),\tTest : 87.28%(87.58%),\tCurrent Time: 20250720-125801\n"
     ]
    },
    {
     "name": "stderr",
     "output_type": "stream",
     "text": [
      "Epoch 27/50:: 100%|\u001b[34m███████████████████\u001b[0m| 120/120 [00:02<00:00, 46.36batch/s, loss=0.338950]\u001b[0m\n"
     ]
    },
    {
     "name": "stdout",
     "output_type": "stream",
     "text": [
      "\t Loss: 9.429,\tTrain : 90.81%(90.81%),\tTest : 87.68%(87.68%),\tCurrent Time: 20250720-125805\n"
     ]
    },
    {
     "name": "stderr",
     "output_type": "stream",
     "text": [
      "Epoch 28/50:: 100%|\u001b[34m███████████████████\u001b[0m| 120/120 [00:02<00:00, 46.30batch/s, loss=0.333163]\u001b[0m\n"
     ]
    },
    {
     "name": "stdout",
     "output_type": "stream",
     "text": [
      "\t Loss: 9.746,\tTrain : 90.69%(90.81%),\tTest : 87.58%(87.68%),\tCurrent Time: 20250720-125808\n"
     ]
    },
    {
     "name": "stderr",
     "output_type": "stream",
     "text": [
      "Epoch 29/50:: 100%|\u001b[34m███████████████████\u001b[0m| 120/120 [00:02<00:00, 46.14batch/s, loss=0.339400]\u001b[0m\n"
     ]
    },
    {
     "name": "stdout",
     "output_type": "stream",
     "text": [
      "\t Loss: 9.803,\tTrain : 90.78%(90.81%),\tTest : 87.62%(87.68%),\tCurrent Time: 20250720-125811\n"
     ]
    },
    {
     "name": "stderr",
     "output_type": "stream",
     "text": [
      "Epoch 30/50:: 100%|\u001b[34m███████████████████\u001b[0m| 120/120 [00:02<00:00, 46.33batch/s, loss=0.337588]\u001b[0m\n"
     ]
    },
    {
     "name": "stdout",
     "output_type": "stream",
     "text": [
      "\t Loss: 9.668,\tTrain : 90.64%(90.81%),\tTest : 87.58%(87.68%),\tCurrent Time: 20250720-125814\n"
     ]
    },
    {
     "name": "stderr",
     "output_type": "stream",
     "text": [
      "Epoch 31/50:: 100%|\u001b[34m███████████████████\u001b[0m| 120/120 [00:02<00:00, 46.46batch/s, loss=0.325845]\u001b[0m\n"
     ]
    },
    {
     "name": "stdout",
     "output_type": "stream",
     "text": [
      "\t Loss: 10.100,\tTrain : 90.51%(90.81%),\tTest : 87.16%(87.68%),\tCurrent Time: 20250720-125817\n"
     ]
    },
    {
     "name": "stderr",
     "output_type": "stream",
     "text": [
      "Epoch 32/50:: 100%|\u001b[34m███████████████████\u001b[0m| 120/120 [00:02<00:00, 46.74batch/s, loss=0.336657]\u001b[0m\n"
     ]
    },
    {
     "name": "stdout",
     "output_type": "stream",
     "text": [
      "\t Loss: 9.529,\tTrain : 90.74%(90.81%),\tTest : 87.37%(87.68%),\tCurrent Time: 20250720-125820\n"
     ]
    },
    {
     "name": "stderr",
     "output_type": "stream",
     "text": [
      "Epoch 33/50:: 100%|\u001b[34m███████████████████\u001b[0m| 120/120 [00:02<00:00, 46.42batch/s, loss=0.331997]\u001b[0m\n"
     ]
    },
    {
     "name": "stdout",
     "output_type": "stream",
     "text": [
      "\t Loss: 10.308,\tTrain : 90.41%(90.81%),\tTest : 87.20%(87.68%),\tCurrent Time: 20250720-125823\n"
     ]
    },
    {
     "name": "stderr",
     "output_type": "stream",
     "text": [
      "Epoch 34/50:: 100%|\u001b[34m███████████████████\u001b[0m| 120/120 [00:02<00:00, 45.75batch/s, loss=0.323522]\u001b[0m\n"
     ]
    },
    {
     "name": "stdout",
     "output_type": "stream",
     "text": [
      "\t Loss: 8.848,\tTrain : 91.51%(91.51%),\tTest : 87.95%(87.95%),\tCurrent Time: 20250720-125826\n"
     ]
    },
    {
     "name": "stderr",
     "output_type": "stream",
     "text": [
      "Epoch 35/50:: 100%|\u001b[34m███████████████████\u001b[0m| 120/120 [00:02<00:00, 46.43batch/s, loss=0.328797]\u001b[0m\n"
     ]
    },
    {
     "name": "stdout",
     "output_type": "stream",
     "text": [
      "\t Loss: 9.689,\tTrain : 90.77%(91.51%),\tTest : 87.34%(87.95%),\tCurrent Time: 20250720-125829\n"
     ]
    },
    {
     "name": "stderr",
     "output_type": "stream",
     "text": [
      "Epoch 36/50:: 100%|\u001b[34m███████████████████\u001b[0m| 120/120 [00:02<00:00, 46.53batch/s, loss=0.332302]\u001b[0m\n"
     ]
    },
    {
     "name": "stdout",
     "output_type": "stream",
     "text": [
      "\t Loss: 9.456,\tTrain : 91.39%(91.51%),\tTest : 87.95%(87.95%),\tCurrent Time: 20250720-125832\n"
     ]
    },
    {
     "name": "stderr",
     "output_type": "stream",
     "text": [
      "Epoch 37/50:: 100%|\u001b[34m███████████████████\u001b[0m| 120/120 [00:02<00:00, 45.93batch/s, loss=0.328455]\u001b[0m\n"
     ]
    },
    {
     "name": "stdout",
     "output_type": "stream",
     "text": [
      "\t Loss: 9.519,\tTrain : 91.06%(91.51%),\tTest : 87.61%(87.95%),\tCurrent Time: 20250720-125835\n"
     ]
    },
    {
     "name": "stderr",
     "output_type": "stream",
     "text": [
      "Epoch 38/50:: 100%|\u001b[34m███████████████████\u001b[0m| 120/120 [00:02<00:00, 46.24batch/s, loss=0.319206]\u001b[0m\n"
     ]
    },
    {
     "name": "stdout",
     "output_type": "stream",
     "text": [
      "\t Loss: 9.286,\tTrain : 91.56%(91.56%),\tTest : 88.01%(88.01%),\tCurrent Time: 20250720-125838\n"
     ]
    },
    {
     "name": "stderr",
     "output_type": "stream",
     "text": [
      "Epoch 39/50:: 100%|\u001b[34m███████████████████\u001b[0m| 120/120 [00:02<00:00, 46.06batch/s, loss=0.321736]\u001b[0m\n"
     ]
    },
    {
     "name": "stdout",
     "output_type": "stream",
     "text": [
      "\t Loss: 10.070,\tTrain : 90.97%(91.56%),\tTest : 87.63%(88.01%),\tCurrent Time: 20250720-125841\n"
     ]
    },
    {
     "name": "stderr",
     "output_type": "stream",
     "text": [
      "Epoch 40/50:: 100%|\u001b[34m███████████████████\u001b[0m| 120/120 [00:02<00:00, 46.20batch/s, loss=0.327437]\u001b[0m\n"
     ]
    },
    {
     "name": "stdout",
     "output_type": "stream",
     "text": [
      "\t Loss: 10.684,\tTrain : 90.53%(91.56%),\tTest : 87.08%(88.01%),\tCurrent Time: 20250720-125844\n"
     ]
    },
    {
     "name": "stderr",
     "output_type": "stream",
     "text": [
      "Epoch 41/50:: 100%|\u001b[34m███████████████████\u001b[0m| 120/120 [00:02<00:00, 46.68batch/s, loss=0.323472]\u001b[0m\n"
     ]
    },
    {
     "name": "stdout",
     "output_type": "stream",
     "text": [
      "\t Loss: 9.798,\tTrain : 91.35%(91.56%),\tTest : 87.66%(88.01%),\tCurrent Time: 20250720-125848\n"
     ]
    },
    {
     "name": "stderr",
     "output_type": "stream",
     "text": [
      "Epoch 42/50:: 100%|\u001b[34m███████████████████\u001b[0m| 120/120 [00:02<00:00, 45.72batch/s, loss=0.322592]\u001b[0m\n"
     ]
    },
    {
     "name": "stdout",
     "output_type": "stream",
     "text": [
      "\t Loss: 9.512,\tTrain : 91.49%(91.56%),\tTest : 87.60%(88.01%),\tCurrent Time: 20250720-125851\n"
     ]
    },
    {
     "name": "stderr",
     "output_type": "stream",
     "text": [
      "Epoch 43/50:: 100%|\u001b[34m███████████████████\u001b[0m| 120/120 [00:02<00:00, 46.49batch/s, loss=0.314851]\u001b[0m\n"
     ]
    },
    {
     "name": "stdout",
     "output_type": "stream",
     "text": [
      "\t Loss: 9.135,\tTrain : 91.80%(91.80%),\tTest : 87.96%(88.01%),\tCurrent Time: 20250720-125854\n"
     ]
    },
    {
     "name": "stderr",
     "output_type": "stream",
     "text": [
      "Epoch 44/50:: 100%|\u001b[34m███████████████████\u001b[0m| 120/120 [00:02<00:00, 46.10batch/s, loss=0.313583]\u001b[0m\n"
     ]
    },
    {
     "name": "stdout",
     "output_type": "stream",
     "text": [
      "\t Loss: 8.387,\tTrain : 92.30%(92.30%),\tTest : 88.09%(88.09%),\tCurrent Time: 20250720-125857\n"
     ]
    },
    {
     "name": "stderr",
     "output_type": "stream",
     "text": [
      "Epoch 45/50:: 100%|\u001b[34m███████████████████\u001b[0m| 120/120 [00:02<00:00, 46.33batch/s, loss=0.323813]\u001b[0m\n"
     ]
    },
    {
     "name": "stdout",
     "output_type": "stream",
     "text": [
      "\t Loss: 8.872,\tTrain : 92.05%(92.30%),\tTest : 88.34%(88.34%),\tCurrent Time: 20250720-125900\n"
     ]
    },
    {
     "name": "stderr",
     "output_type": "stream",
     "text": [
      "Epoch 46/50:: 100%|\u001b[34m███████████████████\u001b[0m| 120/120 [00:02<00:00, 46.51batch/s, loss=0.311928]\u001b[0m\n"
     ]
    },
    {
     "name": "stdout",
     "output_type": "stream",
     "text": [
      "\t Loss: 9.297,\tTrain : 91.71%(92.30%),\tTest : 87.71%(88.34%),\tCurrent Time: 20250720-125903\n"
     ]
    },
    {
     "name": "stderr",
     "output_type": "stream",
     "text": [
      "Epoch 47/50:: 100%|\u001b[34m███████████████████\u001b[0m| 120/120 [00:02<00:00, 46.38batch/s, loss=0.324048]\u001b[0m\n"
     ]
    },
    {
     "name": "stdout",
     "output_type": "stream",
     "text": [
      "\t Loss: 9.200,\tTrain : 91.62%(92.30%),\tTest : 87.60%(88.34%),\tCurrent Time: 20250720-125906\n"
     ]
    },
    {
     "name": "stderr",
     "output_type": "stream",
     "text": [
      "Epoch 48/50:: 100%|\u001b[34m███████████████████\u001b[0m| 120/120 [00:02<00:00, 47.12batch/s, loss=0.313983]\u001b[0m\n"
     ]
    },
    {
     "name": "stdout",
     "output_type": "stream",
     "text": [
      "\t Loss: 9.148,\tTrain : 91.86%(92.30%),\tTest : 87.67%(88.34%),\tCurrent Time: 20250720-125909\n"
     ]
    },
    {
     "name": "stderr",
     "output_type": "stream",
     "text": [
      "Epoch 49/50:: 100%|\u001b[34m███████████████████\u001b[0m| 120/120 [00:02<00:00, 47.34batch/s, loss=0.305818]\u001b[0m\n"
     ]
    },
    {
     "name": "stdout",
     "output_type": "stream",
     "text": [
      "\t Loss: 9.225,\tTrain : 92.00%(92.30%),\tTest : 87.97%(88.34%),\tCurrent Time: 20250720-125912\n"
     ]
    },
    {
     "name": "stderr",
     "output_type": "stream",
     "text": [
      "Epoch 50/50:: 100%|\u001b[34m███████████████████\u001b[0m| 120/120 [00:02<00:00, 46.77batch/s, loss=0.315678]\u001b[0m\n"
     ]
    },
    {
     "name": "stdout",
     "output_type": "stream",
     "text": [
      "\t Loss: 9.400,\tTrain : 92.01%(92.30%),\tTest : 87.95%(88.34%),\tCurrent Time: 20250720-125915\n",
      "First_symm_10HL_Res-Task2-0-EP_L10--FMNIST_EP_b_sc0.01- Time: 20250720-125915, Epochs: 50, Learning Rate: 0.001, Best: 92.30%  88.34%\n",
      "\n",
      "First_symm_10HL_Res-Task2-0-EP_L10--FMNIST_EP_b_sc0.01-\n"
     ]
    },
    {
     "name": "stderr",
     "output_type": "stream",
     "text": [
      "Epoch 1/50:: 100%|\u001b[34m████████████████████\u001b[0m| 120/120 [00:02<00:00, 44.39batch/s, loss=0.848197]\u001b[0m\n"
     ]
    },
    {
     "name": "stdout",
     "output_type": "stream",
     "text": [
      "\t Loss: 15.883,\tTrain : 81.39%(81.39%),\tTest : 80.42%(80.42%),\tCurrent Time: 20250720-125923\n"
     ]
    },
    {
     "name": "stderr",
     "output_type": "stream",
     "text": [
      "Epoch 2/50:: 100%|\u001b[34m████████████████████\u001b[0m| 120/120 [00:02<00:00, 47.15batch/s, loss=0.493997]\u001b[0m\n"
     ]
    },
    {
     "name": "stdout",
     "output_type": "stream",
     "text": [
      "\t Loss: 13.526,\tTrain : 84.45%(84.45%),\tTest : 82.98%(82.98%),\tCurrent Time: 20250720-125926\n"
     ]
    },
    {
     "name": "stderr",
     "output_type": "stream",
     "text": [
      "Epoch 3/50:: 100%|\u001b[34m████████████████████\u001b[0m| 120/120 [00:02<00:00, 46.92batch/s, loss=0.447437]\u001b[0m\n"
     ]
    },
    {
     "name": "stdout",
     "output_type": "stream",
     "text": [
      "\t Loss: 12.656,\tTrain : 85.22%(85.22%),\tTest : 83.72%(83.72%),\tCurrent Time: 20250720-125929\n"
     ]
    },
    {
     "name": "stderr",
     "output_type": "stream",
     "text": [
      "Epoch 4/50:: 100%|\u001b[34m████████████████████\u001b[0m| 120/120 [00:02<00:00, 46.39batch/s, loss=0.423218]\u001b[0m\n"
     ]
    },
    {
     "name": "stdout",
     "output_type": "stream",
     "text": [
      "\t Loss: 12.289,\tTrain : 85.78%(85.78%),\tTest : 84.35%(84.35%),\tCurrent Time: 20250720-125932\n"
     ]
    },
    {
     "name": "stderr",
     "output_type": "stream",
     "text": [
      "Epoch 5/50:: 100%|\u001b[34m████████████████████\u001b[0m| 120/120 [00:02<00:00, 46.30batch/s, loss=0.404847]\u001b[0m\n"
     ]
    },
    {
     "name": "stdout",
     "output_type": "stream",
     "text": [
      "\t Loss: 11.888,\tTrain : 86.57%(86.57%),\tTest : 84.99%(84.99%),\tCurrent Time: 20250720-125935\n"
     ]
    },
    {
     "name": "stderr",
     "output_type": "stream",
     "text": [
      "Epoch 6/50:: 100%|\u001b[34m████████████████████\u001b[0m| 120/120 [00:02<00:00, 47.32batch/s, loss=0.393251]\u001b[0m\n"
     ]
    },
    {
     "name": "stdout",
     "output_type": "stream",
     "text": [
      "\t Loss: 11.865,\tTrain : 86.65%(86.65%),\tTest : 84.86%(84.99%),\tCurrent Time: 20250720-125938\n"
     ]
    },
    {
     "name": "stderr",
     "output_type": "stream",
     "text": [
      "Epoch 7/50:: 100%|\u001b[34m████████████████████\u001b[0m| 120/120 [00:02<00:00, 47.08batch/s, loss=0.394175]\u001b[0m\n"
     ]
    },
    {
     "name": "stdout",
     "output_type": "stream",
     "text": [
      "\t Loss: 10.880,\tTrain : 87.88%(87.88%),\tTest : 85.96%(85.96%),\tCurrent Time: 20250720-125941\n"
     ]
    },
    {
     "name": "stderr",
     "output_type": "stream",
     "text": [
      "Epoch 8/50:: 100%|\u001b[34m████████████████████\u001b[0m| 120/120 [00:02<00:00, 46.66batch/s, loss=0.375738]\u001b[0m\n"
     ]
    },
    {
     "name": "stdout",
     "output_type": "stream",
     "text": [
      "\t Loss: 10.729,\tTrain : 87.85%(87.88%),\tTest : 85.73%(85.96%),\tCurrent Time: 20250720-125944\n"
     ]
    },
    {
     "name": "stderr",
     "output_type": "stream",
     "text": [
      "Epoch 9/50:: 100%|\u001b[34m████████████████████\u001b[0m| 120/120 [00:02<00:00, 46.07batch/s, loss=0.371035]\u001b[0m\n"
     ]
    },
    {
     "name": "stdout",
     "output_type": "stream",
     "text": [
      "\t Loss: 11.055,\tTrain : 88.07%(88.07%),\tTest : 86.22%(86.22%),\tCurrent Time: 20250720-125947\n"
     ]
    },
    {
     "name": "stderr",
     "output_type": "stream",
     "text": [
      "Epoch 10/50:: 100%|\u001b[34m███████████████████\u001b[0m| 120/120 [00:02<00:00, 46.17batch/s, loss=0.372661]\u001b[0m\n"
     ]
    },
    {
     "name": "stdout",
     "output_type": "stream",
     "text": [
      "\t Loss: 10.631,\tTrain : 88.44%(88.44%),\tTest : 86.47%(86.47%),\tCurrent Time: 20250720-125950\n"
     ]
    },
    {
     "name": "stderr",
     "output_type": "stream",
     "text": [
      "Epoch 11/50:: 100%|\u001b[34m███████████████████\u001b[0m| 120/120 [00:02<00:00, 46.40batch/s, loss=0.376335]\u001b[0m\n"
     ]
    },
    {
     "name": "stdout",
     "output_type": "stream",
     "text": [
      "\t Loss: 11.363,\tTrain : 88.06%(88.44%),\tTest : 86.35%(86.47%),\tCurrent Time: 20250720-125953\n"
     ]
    },
    {
     "name": "stderr",
     "output_type": "stream",
     "text": [
      "Epoch 12/50:: 100%|\u001b[34m███████████████████\u001b[0m| 120/120 [00:02<00:00, 46.18batch/s, loss=0.375552]\u001b[0m\n"
     ]
    },
    {
     "name": "stdout",
     "output_type": "stream",
     "text": [
      "\t Loss: 11.136,\tTrain : 88.03%(88.44%),\tTest : 85.80%(86.47%),\tCurrent Time: 20250720-125956\n"
     ]
    },
    {
     "name": "stderr",
     "output_type": "stream",
     "text": [
      "Epoch 13/50:: 100%|\u001b[34m███████████████████\u001b[0m| 120/120 [00:02<00:00, 46.46batch/s, loss=0.358662]\u001b[0m\n"
     ]
    },
    {
     "name": "stdout",
     "output_type": "stream",
     "text": [
      "\t Loss: 10.152,\tTrain : 89.02%(89.02%),\tTest : 86.75%(86.75%),\tCurrent Time: 20250720-130000\n"
     ]
    },
    {
     "name": "stderr",
     "output_type": "stream",
     "text": [
      "Epoch 14/50:: 100%|\u001b[34m███████████████████\u001b[0m| 120/120 [00:02<00:00, 46.09batch/s, loss=0.351995]\u001b[0m\n"
     ]
    },
    {
     "name": "stdout",
     "output_type": "stream",
     "text": [
      "\t Loss: 10.255,\tTrain : 89.20%(89.20%),\tTest : 87.01%(87.01%),\tCurrent Time: 20250720-130003\n"
     ]
    },
    {
     "name": "stderr",
     "output_type": "stream",
     "text": [
      "Epoch 15/50:: 100%|\u001b[34m███████████████████\u001b[0m| 120/120 [00:02<00:00, 46.41batch/s, loss=0.353902]\u001b[0m\n"
     ]
    },
    {
     "name": "stdout",
     "output_type": "stream",
     "text": [
      "\t Loss: 10.569,\tTrain : 88.97%(89.20%),\tTest : 86.58%(87.01%),\tCurrent Time: 20250720-130006\n"
     ]
    },
    {
     "name": "stderr",
     "output_type": "stream",
     "text": [
      "Epoch 16/50:: 100%|\u001b[34m███████████████████\u001b[0m| 120/120 [00:02<00:00, 46.32batch/s, loss=0.352002]\u001b[0m\n"
     ]
    },
    {
     "name": "stdout",
     "output_type": "stream",
     "text": [
      "\t Loss: 11.961,\tTrain : 88.18%(89.20%),\tTest : 86.13%(87.01%),\tCurrent Time: 20250720-130009\n"
     ]
    },
    {
     "name": "stderr",
     "output_type": "stream",
     "text": [
      "Epoch 17/50:: 100%|\u001b[34m███████████████████\u001b[0m| 120/120 [00:02<00:00, 46.14batch/s, loss=0.352304]\u001b[0m\n"
     ]
    },
    {
     "name": "stdout",
     "output_type": "stream",
     "text": [
      "\t Loss: 9.890,\tTrain : 89.78%(89.78%),\tTest : 87.47%(87.47%),\tCurrent Time: 20250720-130012\n"
     ]
    },
    {
     "name": "stderr",
     "output_type": "stream",
     "text": [
      "Epoch 18/50:: 100%|\u001b[34m███████████████████\u001b[0m| 120/120 [00:02<00:00, 46.17batch/s, loss=0.339606]\u001b[0m\n"
     ]
    },
    {
     "name": "stdout",
     "output_type": "stream",
     "text": [
      "\t Loss: 9.940,\tTrain : 89.56%(89.78%),\tTest : 86.81%(87.47%),\tCurrent Time: 20250720-130015\n"
     ]
    },
    {
     "name": "stderr",
     "output_type": "stream",
     "text": [
      "Epoch 19/50:: 100%|\u001b[34m███████████████████\u001b[0m| 120/120 [00:02<00:00, 46.15batch/s, loss=0.342104]\u001b[0m\n"
     ]
    },
    {
     "name": "stdout",
     "output_type": "stream",
     "text": [
      "\t Loss: 9.820,\tTrain : 89.52%(89.78%),\tTest : 86.84%(87.47%),\tCurrent Time: 20250720-130018\n"
     ]
    },
    {
     "name": "stderr",
     "output_type": "stream",
     "text": [
      "Epoch 20/50:: 100%|\u001b[34m███████████████████\u001b[0m| 120/120 [00:02<00:00, 46.25batch/s, loss=0.348407]\u001b[0m\n"
     ]
    },
    {
     "name": "stdout",
     "output_type": "stream",
     "text": [
      "\t Loss: 10.366,\tTrain : 89.16%(89.78%),\tTest : 86.66%(87.47%),\tCurrent Time: 20250720-130021\n"
     ]
    },
    {
     "name": "stderr",
     "output_type": "stream",
     "text": [
      "Epoch 21/50:: 100%|\u001b[34m███████████████████\u001b[0m| 120/120 [00:02<00:00, 45.98batch/s, loss=0.348382]\u001b[0m\n"
     ]
    },
    {
     "name": "stdout",
     "output_type": "stream",
     "text": [
      "\t Loss: 11.266,\tTrain : 88.83%(89.78%),\tTest : 86.18%(87.47%),\tCurrent Time: 20250720-130024\n"
     ]
    },
    {
     "name": "stderr",
     "output_type": "stream",
     "text": [
      "Epoch 22/50:: 100%|\u001b[34m███████████████████\u001b[0m| 120/120 [00:02<00:00, 46.13batch/s, loss=0.353155]\u001b[0m\n"
     ]
    },
    {
     "name": "stdout",
     "output_type": "stream",
     "text": [
      "\t Loss: 11.008,\tTrain : 89.39%(89.78%),\tTest : 86.96%(87.47%),\tCurrent Time: 20250720-130027\n"
     ]
    },
    {
     "name": "stderr",
     "output_type": "stream",
     "text": [
      "Epoch 23/50:: 100%|\u001b[34m███████████████████\u001b[0m| 120/120 [00:02<00:00, 46.26batch/s, loss=0.350266]\u001b[0m\n"
     ]
    },
    {
     "name": "stdout",
     "output_type": "stream",
     "text": [
      "\t Loss: 10.239,\tTrain : 89.93%(89.93%),\tTest : 87.37%(87.47%),\tCurrent Time: 20250720-130030\n"
     ]
    },
    {
     "name": "stderr",
     "output_type": "stream",
     "text": [
      "Epoch 24/50:: 100%|\u001b[34m███████████████████\u001b[0m| 120/120 [00:02<00:00, 46.19batch/s, loss=0.344729]\u001b[0m\n"
     ]
    },
    {
     "name": "stdout",
     "output_type": "stream",
     "text": [
      "\t Loss: 9.863,\tTrain : 90.31%(90.31%),\tTest : 87.46%(87.47%),\tCurrent Time: 20250720-130033\n"
     ]
    },
    {
     "name": "stderr",
     "output_type": "stream",
     "text": [
      "Epoch 25/50:: 100%|\u001b[34m███████████████████\u001b[0m| 120/120 [00:02<00:00, 46.31batch/s, loss=0.340780]\u001b[0m\n"
     ]
    },
    {
     "name": "stdout",
     "output_type": "stream",
     "text": [
      "\t Loss: 11.013,\tTrain : 89.62%(90.31%),\tTest : 87.08%(87.47%),\tCurrent Time: 20250720-130036\n"
     ]
    },
    {
     "name": "stderr",
     "output_type": "stream",
     "text": [
      "Epoch 26/50:: 100%|\u001b[34m███████████████████\u001b[0m| 120/120 [00:02<00:00, 46.41batch/s, loss=0.346394]\u001b[0m\n"
     ]
    },
    {
     "name": "stdout",
     "output_type": "stream",
     "text": [
      "\t Loss: 9.681,\tTrain : 90.78%(90.78%),\tTest : 87.79%(87.79%),\tCurrent Time: 20250720-130040\n"
     ]
    },
    {
     "name": "stderr",
     "output_type": "stream",
     "text": [
      "Epoch 27/50:: 100%|\u001b[34m███████████████████\u001b[0m| 120/120 [00:02<00:00, 45.97batch/s, loss=0.343276]\u001b[0m\n"
     ]
    },
    {
     "name": "stdout",
     "output_type": "stream",
     "text": [
      "\t Loss: 9.586,\tTrain : 90.64%(90.78%),\tTest : 87.65%(87.79%),\tCurrent Time: 20250720-130043\n"
     ]
    },
    {
     "name": "stderr",
     "output_type": "stream",
     "text": [
      "Epoch 28/50:: 100%|\u001b[34m███████████████████\u001b[0m| 120/120 [00:02<00:00, 45.83batch/s, loss=0.361470]\u001b[0m\n"
     ]
    },
    {
     "name": "stdout",
     "output_type": "stream",
     "text": [
      "\t Loss: 10.147,\tTrain : 90.44%(90.78%),\tTest : 87.45%(87.79%),\tCurrent Time: 20250720-130046\n"
     ]
    },
    {
     "name": "stderr",
     "output_type": "stream",
     "text": [
      "Epoch 29/50:: 100%|\u001b[34m███████████████████\u001b[0m| 120/120 [00:02<00:00, 45.97batch/s, loss=0.353659]\u001b[0m\n"
     ]
    },
    {
     "name": "stdout",
     "output_type": "stream",
     "text": [
      "\t Loss: 9.707,\tTrain : 90.56%(90.78%),\tTest : 87.61%(87.79%),\tCurrent Time: 20250720-130049\n"
     ]
    },
    {
     "name": "stderr",
     "output_type": "stream",
     "text": [
      "Epoch 30/50:: 100%|\u001b[34m███████████████████\u001b[0m| 120/120 [00:02<00:00, 46.15batch/s, loss=0.339698]\u001b[0m\n"
     ]
    },
    {
     "name": "stdout",
     "output_type": "stream",
     "text": [
      "\t Loss: 10.660,\tTrain : 89.97%(90.78%),\tTest : 87.32%(87.79%),\tCurrent Time: 20250720-130052\n"
     ]
    },
    {
     "name": "stderr",
     "output_type": "stream",
     "text": [
      "Epoch 31/50:: 100%|\u001b[34m███████████████████\u001b[0m| 120/120 [00:02<00:00, 46.16batch/s, loss=0.345317]\u001b[0m\n"
     ]
    },
    {
     "name": "stdout",
     "output_type": "stream",
     "text": [
      "\t Loss: 9.791,\tTrain : 90.67%(90.78%),\tTest : 87.29%(87.79%),\tCurrent Time: 20250720-130055\n"
     ]
    },
    {
     "name": "stderr",
     "output_type": "stream",
     "text": [
      "Epoch 32/50:: 100%|\u001b[34m███████████████████\u001b[0m| 120/120 [00:02<00:00, 46.13batch/s, loss=0.333265]\u001b[0m\n"
     ]
    },
    {
     "name": "stdout",
     "output_type": "stream",
     "text": [
      "\t Loss: 9.601,\tTrain : 90.64%(90.78%),\tTest : 87.11%(87.79%),\tCurrent Time: 20250720-130058\n"
     ]
    },
    {
     "name": "stderr",
     "output_type": "stream",
     "text": [
      "Epoch 33/50:: 100%|\u001b[34m███████████████████\u001b[0m| 120/120 [00:02<00:00, 46.02batch/s, loss=0.325987]\u001b[0m\n"
     ]
    },
    {
     "name": "stdout",
     "output_type": "stream",
     "text": [
      "\t Loss: 9.955,\tTrain : 90.64%(90.78%),\tTest : 87.52%(87.79%),\tCurrent Time: 20250720-130101\n"
     ]
    },
    {
     "name": "stderr",
     "output_type": "stream",
     "text": [
      "Epoch 34/50:: 100%|\u001b[34m███████████████████\u001b[0m| 120/120 [00:02<00:00, 46.37batch/s, loss=0.331858]\u001b[0m\n"
     ]
    },
    {
     "name": "stdout",
     "output_type": "stream",
     "text": [
      "\t Loss: 9.280,\tTrain : 91.02%(91.02%),\tTest : 87.93%(87.93%),\tCurrent Time: 20250720-130104\n"
     ]
    },
    {
     "name": "stderr",
     "output_type": "stream",
     "text": [
      "Epoch 35/50:: 100%|\u001b[34m███████████████████\u001b[0m| 120/120 [00:02<00:00, 46.13batch/s, loss=0.321478]\u001b[0m\n"
     ]
    },
    {
     "name": "stdout",
     "output_type": "stream",
     "text": [
      "\t Loss: 9.119,\tTrain : 91.32%(91.32%),\tTest : 88.20%(88.20%),\tCurrent Time: 20250720-130107\n"
     ]
    },
    {
     "name": "stderr",
     "output_type": "stream",
     "text": [
      "Epoch 36/50:: 100%|\u001b[34m███████████████████\u001b[0m| 120/120 [00:02<00:00, 46.13batch/s, loss=0.324560]\u001b[0m\n"
     ]
    },
    {
     "name": "stdout",
     "output_type": "stream",
     "text": [
      "\t Loss: 8.653,\tTrain : 91.51%(91.51%),\tTest : 88.12%(88.20%),\tCurrent Time: 20250720-130110\n"
     ]
    },
    {
     "name": "stderr",
     "output_type": "stream",
     "text": [
      "Epoch 37/50:: 100%|\u001b[34m███████████████████\u001b[0m| 120/120 [00:02<00:00, 46.37batch/s, loss=0.325982]\u001b[0m\n"
     ]
    },
    {
     "name": "stdout",
     "output_type": "stream",
     "text": [
      "\t Loss: 8.690,\tTrain : 91.44%(91.51%),\tTest : 88.35%(88.35%),\tCurrent Time: 20250720-130113\n"
     ]
    },
    {
     "name": "stderr",
     "output_type": "stream",
     "text": [
      "Epoch 38/50:: 100%|\u001b[34m███████████████████\u001b[0m| 120/120 [00:02<00:00, 46.29batch/s, loss=0.318916]\u001b[0m\n"
     ]
    },
    {
     "name": "stdout",
     "output_type": "stream",
     "text": [
      "\t Loss: 10.613,\tTrain : 90.45%(91.51%),\tTest : 86.91%(88.35%),\tCurrent Time: 20250720-130117\n"
     ]
    },
    {
     "name": "stderr",
     "output_type": "stream",
     "text": [
      "Epoch 39/50:: 100%|\u001b[34m███████████████████\u001b[0m| 120/120 [00:02<00:00, 45.93batch/s, loss=0.321812]\u001b[0m\n"
     ]
    },
    {
     "name": "stdout",
     "output_type": "stream",
     "text": [
      "\t Loss: 9.409,\tTrain : 91.03%(91.51%),\tTest : 87.72%(88.35%),\tCurrent Time: 20250720-130120\n"
     ]
    },
    {
     "name": "stderr",
     "output_type": "stream",
     "text": [
      "Epoch 40/50:: 100%|\u001b[34m███████████████████\u001b[0m| 120/120 [00:02<00:00, 46.29batch/s, loss=0.325585]\u001b[0m\n"
     ]
    },
    {
     "name": "stdout",
     "output_type": "stream",
     "text": [
      "\t Loss: 10.138,\tTrain : 90.75%(91.51%),\tTest : 87.38%(88.35%),\tCurrent Time: 20250720-130123\n"
     ]
    },
    {
     "name": "stderr",
     "output_type": "stream",
     "text": [
      "Epoch 41/50:: 100%|\u001b[34m███████████████████\u001b[0m| 120/120 [00:02<00:00, 46.17batch/s, loss=0.328511]\u001b[0m\n"
     ]
    },
    {
     "name": "stdout",
     "output_type": "stream",
     "text": [
      "\t Loss: 8.746,\tTrain : 91.85%(91.85%),\tTest : 88.32%(88.35%),\tCurrent Time: 20250720-130126\n"
     ]
    },
    {
     "name": "stderr",
     "output_type": "stream",
     "text": [
      "Epoch 42/50:: 100%|\u001b[34m███████████████████\u001b[0m| 120/120 [00:02<00:00, 46.33batch/s, loss=0.319387]\u001b[0m\n"
     ]
    },
    {
     "name": "stdout",
     "output_type": "stream",
     "text": [
      "\t Loss: 10.362,\tTrain : 90.95%(91.85%),\tTest : 87.17%(88.35%),\tCurrent Time: 20250720-130129\n"
     ]
    },
    {
     "name": "stderr",
     "output_type": "stream",
     "text": [
      "Epoch 43/50:: 100%|\u001b[34m███████████████████\u001b[0m| 120/120 [00:02<00:00, 45.70batch/s, loss=0.323249]\u001b[0m\n"
     ]
    },
    {
     "name": "stdout",
     "output_type": "stream",
     "text": [
      "\t Loss: 9.988,\tTrain : 91.32%(91.85%),\tTest : 87.81%(88.35%),\tCurrent Time: 20250720-130132\n"
     ]
    },
    {
     "name": "stderr",
     "output_type": "stream",
     "text": [
      "Epoch 44/50:: 100%|\u001b[34m███████████████████\u001b[0m| 120/120 [00:02<00:00, 46.43batch/s, loss=0.328840]\u001b[0m\n"
     ]
    },
    {
     "name": "stdout",
     "output_type": "stream",
     "text": [
      "\t Loss: 9.226,\tTrain : 91.84%(91.85%),\tTest : 88.23%(88.35%),\tCurrent Time: 20250720-130135\n"
     ]
    },
    {
     "name": "stderr",
     "output_type": "stream",
     "text": [
      "Epoch 45/50:: 100%|\u001b[34m███████████████████\u001b[0m| 120/120 [00:02<00:00, 46.26batch/s, loss=0.326849]\u001b[0m\n"
     ]
    },
    {
     "name": "stdout",
     "output_type": "stream",
     "text": [
      "\t Loss: 9.040,\tTrain : 91.60%(91.85%),\tTest : 87.73%(88.35%),\tCurrent Time: 20250720-130138\n"
     ]
    },
    {
     "name": "stderr",
     "output_type": "stream",
     "text": [
      "Epoch 46/50:: 100%|\u001b[34m███████████████████\u001b[0m| 120/120 [00:02<00:00, 46.13batch/s, loss=0.325445]\u001b[0m\n"
     ]
    },
    {
     "name": "stdout",
     "output_type": "stream",
     "text": [
      "\t Loss: 9.908,\tTrain : 91.32%(91.85%),\tTest : 87.50%(88.35%),\tCurrent Time: 20250720-130141\n"
     ]
    },
    {
     "name": "stderr",
     "output_type": "stream",
     "text": [
      "Epoch 47/50:: 100%|\u001b[34m███████████████████\u001b[0m| 120/120 [00:02<00:00, 46.39batch/s, loss=0.364525]\u001b[0m\n"
     ]
    },
    {
     "name": "stdout",
     "output_type": "stream",
     "text": [
      "\t Loss: 10.259,\tTrain : 91.18%(91.85%),\tTest : 87.65%(88.35%),\tCurrent Time: 20250720-130144\n"
     ]
    },
    {
     "name": "stderr",
     "output_type": "stream",
     "text": [
      "Epoch 48/50:: 100%|\u001b[34m███████████████████\u001b[0m| 120/120 [00:02<00:00, 46.62batch/s, loss=0.348899]\u001b[0m\n"
     ]
    },
    {
     "name": "stdout",
     "output_type": "stream",
     "text": [
      "\t Loss: 10.896,\tTrain : 90.72%(91.85%),\tTest : 87.34%(88.35%),\tCurrent Time: 20250720-130147\n"
     ]
    },
    {
     "name": "stderr",
     "output_type": "stream",
     "text": [
      "Epoch 49/50:: 100%|\u001b[34m███████████████████\u001b[0m| 120/120 [00:02<00:00, 46.63batch/s, loss=0.342408]\u001b[0m\n"
     ]
    },
    {
     "name": "stdout",
     "output_type": "stream",
     "text": [
      "\t Loss: 10.116,\tTrain : 91.47%(91.85%),\tTest : 87.72%(88.35%),\tCurrent Time: 20250720-130150\n"
     ]
    },
    {
     "name": "stderr",
     "output_type": "stream",
     "text": [
      "Epoch 50/50:: 100%|\u001b[34m███████████████████\u001b[0m| 120/120 [00:02<00:00, 47.01batch/s, loss=0.339142]\u001b[0m\n"
     ]
    },
    {
     "name": "stdout",
     "output_type": "stream",
     "text": [
      "\t Loss: 9.399,\tTrain : 92.18%(92.18%),\tTest : 88.24%(88.35%),\tCurrent Time: 20250720-130153\n",
      "First_symm_10HL_Res-Task2-0-EP_L10--FMNIST_EP_b_sc0.01- Time: 20250720-130153, Epochs: 50, Learning Rate: 0.001, Best: 92.18%  88.35%\n",
      "\n",
      "First_symm_10HL_Res-Task2-0-EP_L10--FMNIST_EP_b_sc0.01-\n"
     ]
    },
    {
     "name": "stderr",
     "output_type": "stream",
     "text": [
      "Epoch 1/50:: 100%|\u001b[34m████████████████████\u001b[0m| 120/120 [00:02<00:00, 42.74batch/s, loss=0.792721]\u001b[0m\n"
     ]
    },
    {
     "name": "stdout",
     "output_type": "stream",
     "text": [
      "\t Loss: 16.407,\tTrain : 80.86%(80.86%),\tTest : 79.87%(79.87%),\tCurrent Time: 20250720-130201\n"
     ]
    },
    {
     "name": "stderr",
     "output_type": "stream",
     "text": [
      "Epoch 2/50:: 100%|\u001b[34m████████████████████\u001b[0m| 120/120 [00:02<00:00, 46.01batch/s, loss=0.499072]\u001b[0m\n"
     ]
    },
    {
     "name": "stdout",
     "output_type": "stream",
     "text": [
      "\t Loss: 14.230,\tTrain : 83.42%(83.42%),\tTest : 81.92%(81.92%),\tCurrent Time: 20250720-130204\n"
     ]
    },
    {
     "name": "stderr",
     "output_type": "stream",
     "text": [
      "Epoch 3/50:: 100%|\u001b[34m████████████████████\u001b[0m| 120/120 [00:02<00:00, 46.22batch/s, loss=0.449560]\u001b[0m\n"
     ]
    },
    {
     "name": "stdout",
     "output_type": "stream",
     "text": [
      "\t Loss: 13.213,\tTrain : 85.07%(85.07%),\tTest : 83.86%(83.86%),\tCurrent Time: 20250720-130207\n"
     ]
    },
    {
     "name": "stderr",
     "output_type": "stream",
     "text": [
      "Epoch 4/50:: 100%|\u001b[34m████████████████████\u001b[0m| 120/120 [00:02<00:00, 46.61batch/s, loss=0.421263]\u001b[0m\n"
     ]
    },
    {
     "name": "stdout",
     "output_type": "stream",
     "text": [
      "\t Loss: 12.297,\tTrain : 86.03%(86.03%),\tTest : 85.00%(85.00%),\tCurrent Time: 20250720-130210\n"
     ]
    },
    {
     "name": "stderr",
     "output_type": "stream",
     "text": [
      "Epoch 5/50:: 100%|\u001b[34m████████████████████\u001b[0m| 120/120 [00:02<00:00, 46.14batch/s, loss=0.409216]\u001b[0m\n"
     ]
    },
    {
     "name": "stdout",
     "output_type": "stream",
     "text": [
      "\t Loss: 11.657,\tTrain : 86.80%(86.80%),\tTest : 85.29%(85.29%),\tCurrent Time: 20250720-130214\n"
     ]
    },
    {
     "name": "stderr",
     "output_type": "stream",
     "text": [
      "Epoch 6/50:: 100%|\u001b[34m████████████████████\u001b[0m| 120/120 [00:02<00:00, 45.95batch/s, loss=0.404088]\u001b[0m\n"
     ]
    },
    {
     "name": "stdout",
     "output_type": "stream",
     "text": [
      "\t Loss: 11.365,\tTrain : 87.24%(87.24%),\tTest : 85.85%(85.85%),\tCurrent Time: 20250720-130217\n"
     ]
    },
    {
     "name": "stderr",
     "output_type": "stream",
     "text": [
      "Epoch 7/50:: 100%|\u001b[34m████████████████████\u001b[0m| 120/120 [00:02<00:00, 46.28batch/s, loss=0.399016]\u001b[0m\n"
     ]
    },
    {
     "name": "stdout",
     "output_type": "stream",
     "text": [
      "\t Loss: 11.125,\tTrain : 87.45%(87.45%),\tTest : 85.71%(85.85%),\tCurrent Time: 20250720-130220\n"
     ]
    },
    {
     "name": "stderr",
     "output_type": "stream",
     "text": [
      "Epoch 8/50:: 100%|\u001b[34m████████████████████\u001b[0m| 120/120 [00:02<00:00, 46.46batch/s, loss=0.382760]\u001b[0m\n"
     ]
    },
    {
     "name": "stdout",
     "output_type": "stream",
     "text": [
      "\t Loss: 11.522,\tTrain : 87.30%(87.45%),\tTest : 85.48%(85.85%),\tCurrent Time: 20250720-130223\n"
     ]
    },
    {
     "name": "stderr",
     "output_type": "stream",
     "text": [
      "Epoch 9/50:: 100%|\u001b[34m████████████████████\u001b[0m| 120/120 [00:02<00:00, 46.36batch/s, loss=0.380913]\u001b[0m\n"
     ]
    },
    {
     "name": "stdout",
     "output_type": "stream",
     "text": [
      "\t Loss: 11.366,\tTrain : 87.79%(87.79%),\tTest : 86.18%(86.18%),\tCurrent Time: 20250720-130226\n"
     ]
    },
    {
     "name": "stderr",
     "output_type": "stream",
     "text": [
      "Epoch 10/50:: 100%|\u001b[34m███████████████████\u001b[0m| 120/120 [00:02<00:00, 45.99batch/s, loss=0.380685]\u001b[0m\n"
     ]
    },
    {
     "name": "stdout",
     "output_type": "stream",
     "text": [
      "\t Loss: 11.149,\tTrain : 88.28%(88.28%),\tTest : 86.66%(86.66%),\tCurrent Time: 20250720-130229\n"
     ]
    },
    {
     "name": "stderr",
     "output_type": "stream",
     "text": [
      "Epoch 11/50:: 100%|\u001b[34m███████████████████\u001b[0m| 120/120 [00:02<00:00, 46.29batch/s, loss=0.367063]\u001b[0m\n"
     ]
    },
    {
     "name": "stdout",
     "output_type": "stream",
     "text": [
      "\t Loss: 11.108,\tTrain : 88.24%(88.28%),\tTest : 86.50%(86.66%),\tCurrent Time: 20250720-130232\n"
     ]
    },
    {
     "name": "stderr",
     "output_type": "stream",
     "text": [
      "Epoch 12/50:: 100%|\u001b[34m███████████████████\u001b[0m| 120/120 [00:02<00:00, 46.37batch/s, loss=0.368560]\u001b[0m\n"
     ]
    },
    {
     "name": "stdout",
     "output_type": "stream",
     "text": [
      "\t Loss: 10.723,\tTrain : 88.67%(88.67%),\tTest : 86.60%(86.66%),\tCurrent Time: 20250720-130235\n"
     ]
    },
    {
     "name": "stderr",
     "output_type": "stream",
     "text": [
      "Epoch 13/50:: 100%|\u001b[34m███████████████████\u001b[0m| 120/120 [00:02<00:00, 45.90batch/s, loss=0.374264]\u001b[0m\n"
     ]
    },
    {
     "name": "stdout",
     "output_type": "stream",
     "text": [
      "\t Loss: 10.242,\tTrain : 88.73%(88.73%),\tTest : 86.51%(86.66%),\tCurrent Time: 20250720-130238\n"
     ]
    },
    {
     "name": "stderr",
     "output_type": "stream",
     "text": [
      "Epoch 14/50:: 100%|\u001b[34m███████████████████\u001b[0m| 120/120 [00:02<00:00, 46.25batch/s, loss=0.360623]\u001b[0m\n"
     ]
    },
    {
     "name": "stdout",
     "output_type": "stream",
     "text": [
      "\t Loss: 11.028,\tTrain : 88.65%(88.73%),\tTest : 86.67%(86.67%),\tCurrent Time: 20250720-130241\n"
     ]
    },
    {
     "name": "stderr",
     "output_type": "stream",
     "text": [
      "Epoch 15/50:: 100%|\u001b[34m███████████████████\u001b[0m| 120/120 [00:02<00:00, 46.04batch/s, loss=0.354624]\u001b[0m\n"
     ]
    },
    {
     "name": "stdout",
     "output_type": "stream",
     "text": [
      "\t Loss: 10.576,\tTrain : 89.16%(89.16%),\tTest : 86.97%(86.97%),\tCurrent Time: 20250720-130244\n"
     ]
    },
    {
     "name": "stderr",
     "output_type": "stream",
     "text": [
      "Epoch 16/50:: 100%|\u001b[34m███████████████████\u001b[0m| 120/120 [00:02<00:00, 45.94batch/s, loss=0.364827]\u001b[0m\n"
     ]
    },
    {
     "name": "stdout",
     "output_type": "stream",
     "text": [
      "\t Loss: 10.686,\tTrain : 88.90%(89.16%),\tTest : 86.99%(86.99%),\tCurrent Time: 20250720-130247\n"
     ]
    },
    {
     "name": "stderr",
     "output_type": "stream",
     "text": [
      "Epoch 17/50:: 100%|\u001b[34m███████████████████\u001b[0m| 120/120 [00:02<00:00, 45.58batch/s, loss=0.356527]\u001b[0m\n"
     ]
    },
    {
     "name": "stdout",
     "output_type": "stream",
     "text": [
      "\t Loss: 10.523,\tTrain : 89.29%(89.29%),\tTest : 86.89%(86.99%),\tCurrent Time: 20250720-130251\n"
     ]
    },
    {
     "name": "stderr",
     "output_type": "stream",
     "text": [
      "Epoch 18/50:: 100%|\u001b[34m███████████████████\u001b[0m| 120/120 [00:02<00:00, 46.06batch/s, loss=0.351048]\u001b[0m\n"
     ]
    },
    {
     "name": "stdout",
     "output_type": "stream",
     "text": [
      "\t Loss: 10.118,\tTrain : 89.54%(89.54%),\tTest : 86.84%(86.99%),\tCurrent Time: 20250720-130254\n"
     ]
    },
    {
     "name": "stderr",
     "output_type": "stream",
     "text": [
      "Epoch 19/50:: 100%|\u001b[34m███████████████████\u001b[0m| 120/120 [00:02<00:00, 46.24batch/s, loss=0.348524]\u001b[0m\n"
     ]
    },
    {
     "name": "stdout",
     "output_type": "stream",
     "text": [
      "\t Loss: 11.336,\tTrain : 89.20%(89.54%),\tTest : 86.76%(86.99%),\tCurrent Time: 20250720-130257\n"
     ]
    },
    {
     "name": "stderr",
     "output_type": "stream",
     "text": [
      "Epoch 20/50:: 100%|\u001b[34m███████████████████\u001b[0m| 120/120 [00:02<00:00, 46.51batch/s, loss=0.343227]\u001b[0m\n"
     ]
    },
    {
     "name": "stdout",
     "output_type": "stream",
     "text": [
      "\t Loss: 9.771,\tTrain : 90.13%(90.13%),\tTest : 87.57%(87.57%),\tCurrent Time: 20250720-130300\n"
     ]
    },
    {
     "name": "stderr",
     "output_type": "stream",
     "text": [
      "Epoch 21/50:: 100%|\u001b[34m███████████████████\u001b[0m| 120/120 [00:02<00:00, 48.02batch/s, loss=0.339541]\u001b[0m\n"
     ]
    },
    {
     "name": "stdout",
     "output_type": "stream",
     "text": [
      "\t Loss: 10.051,\tTrain : 89.86%(90.13%),\tTest : 87.26%(87.57%),\tCurrent Time: 20250720-130303\n"
     ]
    },
    {
     "name": "stderr",
     "output_type": "stream",
     "text": [
      "Epoch 22/50:: 100%|\u001b[34m███████████████████\u001b[0m| 120/120 [00:02<00:00, 47.92batch/s, loss=0.340748]\u001b[0m\n"
     ]
    },
    {
     "name": "stdout",
     "output_type": "stream",
     "text": [
      "\t Loss: 10.282,\tTrain : 89.98%(90.13%),\tTest : 87.05%(87.57%),\tCurrent Time: 20250720-130306\n"
     ]
    },
    {
     "name": "stderr",
     "output_type": "stream",
     "text": [
      "Epoch 23/50:: 100%|\u001b[34m███████████████████\u001b[0m| 120/120 [00:02<00:00, 48.15batch/s, loss=0.344393]\u001b[0m\n"
     ]
    },
    {
     "name": "stdout",
     "output_type": "stream",
     "text": [
      "\t Loss: 9.932,\tTrain : 90.22%(90.22%),\tTest : 87.59%(87.59%),\tCurrent Time: 20250720-130309\n"
     ]
    },
    {
     "name": "stderr",
     "output_type": "stream",
     "text": [
      "Epoch 24/50:: 100%|\u001b[34m███████████████████\u001b[0m| 120/120 [00:02<00:00, 47.95batch/s, loss=0.337208]\u001b[0m\n"
     ]
    },
    {
     "name": "stdout",
     "output_type": "stream",
     "text": [
      "\t Loss: 9.852,\tTrain : 90.28%(90.28%),\tTest : 87.35%(87.59%),\tCurrent Time: 20250720-130312\n"
     ]
    },
    {
     "name": "stderr",
     "output_type": "stream",
     "text": [
      "Epoch 25/50:: 100%|\u001b[34m███████████████████\u001b[0m| 120/120 [00:02<00:00, 46.56batch/s, loss=0.340578]\u001b[0m\n"
     ]
    },
    {
     "name": "stdout",
     "output_type": "stream",
     "text": [
      "\t Loss: 10.505,\tTrain : 89.95%(90.28%),\tTest : 86.84%(87.59%),\tCurrent Time: 20250720-130315\n"
     ]
    },
    {
     "name": "stderr",
     "output_type": "stream",
     "text": [
      "Epoch 26/50:: 100%|\u001b[34m███████████████████\u001b[0m| 120/120 [00:02<00:00, 46.63batch/s, loss=0.336181]\u001b[0m\n"
     ]
    },
    {
     "name": "stdout",
     "output_type": "stream",
     "text": [
      "\t Loss: 9.752,\tTrain : 90.74%(90.74%),\tTest : 87.88%(87.88%),\tCurrent Time: 20250720-130318\n"
     ]
    },
    {
     "name": "stderr",
     "output_type": "stream",
     "text": [
      "Epoch 27/50:: 100%|\u001b[34m███████████████████\u001b[0m| 120/120 [00:02<00:00, 46.20batch/s, loss=0.336928]\u001b[0m\n"
     ]
    },
    {
     "name": "stdout",
     "output_type": "stream",
     "text": [
      "\t Loss: 9.947,\tTrain : 90.64%(90.74%),\tTest : 87.50%(87.88%),\tCurrent Time: 20250720-130321\n"
     ]
    },
    {
     "name": "stderr",
     "output_type": "stream",
     "text": [
      "Epoch 28/50:: 100%|\u001b[34m███████████████████\u001b[0m| 120/120 [00:02<00:00, 46.33batch/s, loss=0.337742]\u001b[0m\n"
     ]
    },
    {
     "name": "stdout",
     "output_type": "stream",
     "text": [
      "\t Loss: 9.468,\tTrain : 90.85%(90.85%),\tTest : 87.56%(87.88%),\tCurrent Time: 20250720-130324\n"
     ]
    },
    {
     "name": "stderr",
     "output_type": "stream",
     "text": [
      "Epoch 29/50:: 100%|\u001b[34m███████████████████\u001b[0m| 120/120 [00:02<00:00, 46.33batch/s, loss=0.330544]\u001b[0m\n"
     ]
    },
    {
     "name": "stdout",
     "output_type": "stream",
     "text": [
      "\t Loss: 10.157,\tTrain : 90.44%(90.85%),\tTest : 87.45%(87.88%),\tCurrent Time: 20250720-130327\n"
     ]
    },
    {
     "name": "stderr",
     "output_type": "stream",
     "text": [
      "Epoch 30/50:: 100%|\u001b[34m███████████████████\u001b[0m| 120/120 [00:02<00:00, 46.08batch/s, loss=0.327240]\u001b[0m\n"
     ]
    },
    {
     "name": "stdout",
     "output_type": "stream",
     "text": [
      "\t Loss: 9.757,\tTrain : 90.83%(90.85%),\tTest : 87.40%(87.88%),\tCurrent Time: 20250720-130330\n"
     ]
    },
    {
     "name": "stderr",
     "output_type": "stream",
     "text": [
      "Epoch 31/50:: 100%|\u001b[34m███████████████████\u001b[0m| 120/120 [00:02<00:00, 46.38batch/s, loss=0.322732]\u001b[0m\n"
     ]
    },
    {
     "name": "stdout",
     "output_type": "stream",
     "text": [
      "\t Loss: 9.524,\tTrain : 90.92%(90.92%),\tTest : 87.61%(87.88%),\tCurrent Time: 20250720-130333\n"
     ]
    },
    {
     "name": "stderr",
     "output_type": "stream",
     "text": [
      "Epoch 32/50:: 100%|\u001b[34m███████████████████\u001b[0m| 120/120 [00:02<00:00, 46.39batch/s, loss=0.324967]\u001b[0m\n"
     ]
    },
    {
     "name": "stdout",
     "output_type": "stream",
     "text": [
      "\t Loss: 9.285,\tTrain : 90.82%(90.92%),\tTest : 87.36%(87.88%),\tCurrent Time: 20250720-130336\n"
     ]
    },
    {
     "name": "stderr",
     "output_type": "stream",
     "text": [
      "Epoch 33/50:: 100%|\u001b[34m███████████████████\u001b[0m| 120/120 [00:02<00:00, 45.55batch/s, loss=0.322372]\u001b[0m\n"
     ]
    },
    {
     "name": "stdout",
     "output_type": "stream",
     "text": [
      "\t Loss: 9.850,\tTrain : 90.58%(90.92%),\tTest : 87.39%(87.88%),\tCurrent Time: 20250720-130339\n"
     ]
    },
    {
     "name": "stderr",
     "output_type": "stream",
     "text": [
      "Epoch 34/50:: 100%|\u001b[34m███████████████████\u001b[0m| 120/120 [00:02<00:00, 46.23batch/s, loss=0.321767]\u001b[0m\n"
     ]
    },
    {
     "name": "stdout",
     "output_type": "stream",
     "text": [
      "\t Loss: 9.323,\tTrain : 90.89%(90.92%),\tTest : 87.47%(87.88%),\tCurrent Time: 20250720-130342\n"
     ]
    },
    {
     "name": "stderr",
     "output_type": "stream",
     "text": [
      "Epoch 35/50:: 100%|\u001b[34m███████████████████\u001b[0m| 120/120 [00:02<00:00, 46.45batch/s, loss=0.330872]\u001b[0m\n"
     ]
    },
    {
     "name": "stdout",
     "output_type": "stream",
     "text": [
      "\t Loss: 9.225,\tTrain : 91.22%(91.22%),\tTest : 87.91%(87.91%),\tCurrent Time: 20250720-130345\n"
     ]
    },
    {
     "name": "stderr",
     "output_type": "stream",
     "text": [
      "Epoch 36/50:: 100%|\u001b[34m███████████████████\u001b[0m| 120/120 [00:02<00:00, 45.95batch/s, loss=0.315299]\u001b[0m\n"
     ]
    },
    {
     "name": "stdout",
     "output_type": "stream",
     "text": [
      "\t Loss: 10.236,\tTrain : 90.30%(91.22%),\tTest : 87.03%(87.91%),\tCurrent Time: 20250720-130348\n"
     ]
    },
    {
     "name": "stderr",
     "output_type": "stream",
     "text": [
      "Epoch 37/50:: 100%|\u001b[34m███████████████████\u001b[0m| 120/120 [00:02<00:00, 46.60batch/s, loss=0.316214]\u001b[0m\n"
     ]
    },
    {
     "name": "stdout",
     "output_type": "stream",
     "text": [
      "\t Loss: 10.271,\tTrain : 90.40%(91.22%),\tTest : 87.41%(87.91%),\tCurrent Time: 20250720-130352\n"
     ]
    },
    {
     "name": "stderr",
     "output_type": "stream",
     "text": [
      "Epoch 38/50:: 100%|\u001b[34m███████████████████\u001b[0m| 120/120 [00:02<00:00, 46.29batch/s, loss=0.321174]\u001b[0m\n"
     ]
    },
    {
     "name": "stdout",
     "output_type": "stream",
     "text": [
      "\t Loss: 9.063,\tTrain : 91.21%(91.22%),\tTest : 87.76%(87.91%),\tCurrent Time: 20250720-130355\n"
     ]
    },
    {
     "name": "stderr",
     "output_type": "stream",
     "text": [
      "Epoch 39/50:: 100%|\u001b[34m███████████████████\u001b[0m| 120/120 [00:02<00:00, 46.34batch/s, loss=0.321014]\u001b[0m\n"
     ]
    },
    {
     "name": "stdout",
     "output_type": "stream",
     "text": [
      "\t Loss: 9.031,\tTrain : 91.36%(91.36%),\tTest : 87.92%(87.92%),\tCurrent Time: 20250720-130358\n"
     ]
    },
    {
     "name": "stderr",
     "output_type": "stream",
     "text": [
      "Epoch 40/50:: 100%|\u001b[34m███████████████████\u001b[0m| 120/120 [00:02<00:00, 46.15batch/s, loss=0.319689]\u001b[0m\n"
     ]
    },
    {
     "name": "stdout",
     "output_type": "stream",
     "text": [
      "\t Loss: 8.625,\tTrain : 91.57%(91.57%),\tTest : 87.90%(87.92%),\tCurrent Time: 20250720-130401\n"
     ]
    },
    {
     "name": "stderr",
     "output_type": "stream",
     "text": [
      "Epoch 41/50:: 100%|\u001b[34m███████████████████\u001b[0m| 120/120 [00:02<00:00, 46.17batch/s, loss=0.328219]\u001b[0m\n"
     ]
    },
    {
     "name": "stdout",
     "output_type": "stream",
     "text": [
      "\t Loss: 9.851,\tTrain : 90.94%(91.57%),\tTest : 87.52%(87.92%),\tCurrent Time: 20250720-130404\n"
     ]
    },
    {
     "name": "stderr",
     "output_type": "stream",
     "text": [
      "Epoch 42/50:: 100%|\u001b[34m███████████████████\u001b[0m| 120/120 [00:02<00:00, 46.24batch/s, loss=0.333254]\u001b[0m\n"
     ]
    },
    {
     "name": "stdout",
     "output_type": "stream",
     "text": [
      "\t Loss: 9.010,\tTrain : 91.50%(91.57%),\tTest : 88.05%(88.05%),\tCurrent Time: 20250720-130407\n"
     ]
    },
    {
     "name": "stderr",
     "output_type": "stream",
     "text": [
      "Epoch 43/50:: 100%|\u001b[34m███████████████████\u001b[0m| 120/120 [00:02<00:00, 46.23batch/s, loss=0.318015]\u001b[0m\n"
     ]
    },
    {
     "name": "stdout",
     "output_type": "stream",
     "text": [
      "\t Loss: 8.959,\tTrain : 91.59%(91.59%),\tTest : 88.00%(88.05%),\tCurrent Time: 20250720-130410\n"
     ]
    },
    {
     "name": "stderr",
     "output_type": "stream",
     "text": [
      "Epoch 44/50:: 100%|\u001b[34m███████████████████\u001b[0m| 120/120 [00:02<00:00, 46.33batch/s, loss=0.315532]\u001b[0m\n"
     ]
    },
    {
     "name": "stdout",
     "output_type": "stream",
     "text": [
      "\t Loss: 9.381,\tTrain : 91.42%(91.59%),\tTest : 87.61%(88.05%),\tCurrent Time: 20250720-130413\n"
     ]
    },
    {
     "name": "stderr",
     "output_type": "stream",
     "text": [
      "Epoch 45/50:: 100%|\u001b[34m███████████████████\u001b[0m| 120/120 [00:02<00:00, 46.36batch/s, loss=0.318195]\u001b[0m\n"
     ]
    },
    {
     "name": "stdout",
     "output_type": "stream",
     "text": [
      "\t Loss: 9.364,\tTrain : 91.42%(91.59%),\tTest : 87.72%(88.05%),\tCurrent Time: 20250720-130416\n"
     ]
    },
    {
     "name": "stderr",
     "output_type": "stream",
     "text": [
      "Epoch 46/50:: 100%|\u001b[34m███████████████████\u001b[0m| 120/120 [00:02<00:00, 46.08batch/s, loss=0.334986]\u001b[0m\n"
     ]
    },
    {
     "name": "stdout",
     "output_type": "stream",
     "text": [
      "\t Loss: 9.548,\tTrain : 91.46%(91.59%),\tTest : 87.91%(88.05%),\tCurrent Time: 20250720-130419\n"
     ]
    },
    {
     "name": "stderr",
     "output_type": "stream",
     "text": [
      "Epoch 47/50:: 100%|\u001b[34m███████████████████\u001b[0m| 120/120 [00:02<00:00, 46.37batch/s, loss=0.326731]\u001b[0m\n"
     ]
    },
    {
     "name": "stdout",
     "output_type": "stream",
     "text": [
      "\t Loss: 9.546,\tTrain : 91.65%(91.65%),\tTest : 87.82%(88.05%),\tCurrent Time: 20250720-130422\n"
     ]
    },
    {
     "name": "stderr",
     "output_type": "stream",
     "text": [
      "Epoch 48/50:: 100%|\u001b[34m███████████████████\u001b[0m| 120/120 [00:02<00:00, 46.05batch/s, loss=0.324175]\u001b[0m\n"
     ]
    },
    {
     "name": "stdout",
     "output_type": "stream",
     "text": [
      "\t Loss: 9.218,\tTrain : 91.74%(91.74%),\tTest : 87.72%(88.05%),\tCurrent Time: 20250720-130425\n"
     ]
    },
    {
     "name": "stderr",
     "output_type": "stream",
     "text": [
      "Epoch 49/50:: 100%|\u001b[34m███████████████████\u001b[0m| 120/120 [00:02<00:00, 46.42batch/s, loss=0.331139]\u001b[0m\n"
     ]
    },
    {
     "name": "stdout",
     "output_type": "stream",
     "text": [
      "\t Loss: 9.096,\tTrain : 91.84%(91.84%),\tTest : 88.06%(88.06%),\tCurrent Time: 20250720-130428\n"
     ]
    },
    {
     "name": "stderr",
     "output_type": "stream",
     "text": [
      "Epoch 50/50:: 100%|\u001b[34m███████████████████\u001b[0m| 120/120 [00:02<00:00, 46.56batch/s, loss=0.334703]\u001b[0m\n"
     ]
    },
    {
     "name": "stdout",
     "output_type": "stream",
     "text": [
      "\t Loss: 8.911,\tTrain : 91.90%(91.90%),\tTest : 87.81%(88.06%),\tCurrent Time: 20250720-130432\n",
      "First_symm_10HL_Res-Task2-0-EP_L10--FMNIST_EP_b_sc0.01- Time: 20250720-130432, Epochs: 50, Learning Rate: 0.001, Best: 91.90%  88.06%\n",
      "\n",
      "First_symm_10HL_Res-Task2-0-EP_L10--FMNIST_EP_b_sc0.1-\n"
     ]
    },
    {
     "name": "stderr",
     "output_type": "stream",
     "text": [
      "Epoch 1/50:: 100%|\u001b[34m████████████████████\u001b[0m| 120/120 [00:02<00:00, 44.19batch/s, loss=0.872686]\u001b[0m\n"
     ]
    },
    {
     "name": "stdout",
     "output_type": "stream",
     "text": [
      "\t Loss: 15.526,\tTrain : 82.13%(82.13%),\tTest : 81.20%(81.20%),\tCurrent Time: 20250720-130439\n"
     ]
    },
    {
     "name": "stderr",
     "output_type": "stream",
     "text": [
      "Epoch 2/50:: 100%|\u001b[34m████████████████████\u001b[0m| 120/120 [00:02<00:00, 46.30batch/s, loss=0.499461]\u001b[0m\n"
     ]
    },
    {
     "name": "stdout",
     "output_type": "stream",
     "text": [
      "\t Loss: 15.058,\tTrain : 83.31%(83.31%),\tTest : 82.22%(82.22%),\tCurrent Time: 20250720-130442\n"
     ]
    },
    {
     "name": "stderr",
     "output_type": "stream",
     "text": [
      "Epoch 3/50:: 100%|\u001b[34m████████████████████\u001b[0m| 120/120 [00:02<00:00, 46.52batch/s, loss=0.439622]\u001b[0m\n"
     ]
    },
    {
     "name": "stdout",
     "output_type": "stream",
     "text": [
      "\t Loss: 12.780,\tTrain : 85.73%(85.73%),\tTest : 84.50%(84.50%),\tCurrent Time: 20250720-130446\n"
     ]
    },
    {
     "name": "stderr",
     "output_type": "stream",
     "text": [
      "Epoch 4/50:: 100%|\u001b[34m████████████████████\u001b[0m| 120/120 [00:02<00:00, 46.81batch/s, loss=0.409143]\u001b[0m\n"
     ]
    },
    {
     "name": "stdout",
     "output_type": "stream",
     "text": [
      "\t Loss: 11.759,\tTrain : 86.86%(86.86%),\tTest : 85.22%(85.22%),\tCurrent Time: 20250720-130449\n"
     ]
    },
    {
     "name": "stderr",
     "output_type": "stream",
     "text": [
      "Epoch 5/50:: 100%|\u001b[34m████████████████████\u001b[0m| 120/120 [00:02<00:00, 47.50batch/s, loss=0.394444]\u001b[0m\n"
     ]
    },
    {
     "name": "stdout",
     "output_type": "stream",
     "text": [
      "\t Loss: 11.109,\tTrain : 87.56%(87.56%),\tTest : 85.66%(85.66%),\tCurrent Time: 20250720-130452\n"
     ]
    },
    {
     "name": "stderr",
     "output_type": "stream",
     "text": [
      "Epoch 6/50:: 100%|\u001b[34m████████████████████\u001b[0m| 120/120 [00:02<00:00, 47.57batch/s, loss=0.373980]\u001b[0m\n"
     ]
    },
    {
     "name": "stdout",
     "output_type": "stream",
     "text": [
      "\t Loss: 11.183,\tTrain : 87.89%(87.89%),\tTest : 85.95%(85.95%),\tCurrent Time: 20250720-130455\n"
     ]
    },
    {
     "name": "stderr",
     "output_type": "stream",
     "text": [
      "Epoch 7/50:: 100%|\u001b[34m████████████████████\u001b[0m| 120/120 [00:02<00:00, 47.72batch/s, loss=0.361369]\u001b[0m\n"
     ]
    },
    {
     "name": "stdout",
     "output_type": "stream",
     "text": [
      "\t Loss: 10.052,\tTrain : 88.87%(88.87%),\tTest : 86.96%(86.96%),\tCurrent Time: 20250720-130458\n"
     ]
    },
    {
     "name": "stderr",
     "output_type": "stream",
     "text": [
      "Epoch 8/50:: 100%|\u001b[34m████████████████████\u001b[0m| 120/120 [00:02<00:00, 47.90batch/s, loss=0.359492]\u001b[0m\n"
     ]
    },
    {
     "name": "stdout",
     "output_type": "stream",
     "text": [
      "\t Loss: 10.406,\tTrain : 88.41%(88.87%),\tTest : 86.65%(86.96%),\tCurrent Time: 20250720-130501\n"
     ]
    },
    {
     "name": "stderr",
     "output_type": "stream",
     "text": [
      "Epoch 9/50:: 100%|\u001b[34m████████████████████\u001b[0m| 120/120 [00:02<00:00, 46.52batch/s, loss=0.363073]\u001b[0m\n"
     ]
    },
    {
     "name": "stdout",
     "output_type": "stream",
     "text": [
      "\t Loss: 10.034,\tTrain : 89.09%(89.09%),\tTest : 86.74%(86.96%),\tCurrent Time: 20250720-130504\n"
     ]
    },
    {
     "name": "stderr",
     "output_type": "stream",
     "text": [
      "Epoch 10/50:: 100%|\u001b[34m███████████████████\u001b[0m| 120/120 [00:02<00:00, 48.12batch/s, loss=0.351913]\u001b[0m\n"
     ]
    },
    {
     "name": "stdout",
     "output_type": "stream",
     "text": [
      "\t Loss: 10.227,\tTrain : 89.02%(89.09%),\tTest : 86.67%(86.96%),\tCurrent Time: 20250720-130507\n"
     ]
    },
    {
     "name": "stderr",
     "output_type": "stream",
     "text": [
      "Epoch 11/50:: 100%|\u001b[34m███████████████████\u001b[0m| 120/120 [00:02<00:00, 47.58batch/s, loss=0.342482]\u001b[0m\n"
     ]
    },
    {
     "name": "stdout",
     "output_type": "stream",
     "text": [
      "\t Loss: 9.845,\tTrain : 89.60%(89.60%),\tTest : 87.34%(87.34%),\tCurrent Time: 20250720-130510\n"
     ]
    },
    {
     "name": "stderr",
     "output_type": "stream",
     "text": [
      "Epoch 12/50:: 100%|\u001b[34m███████████████████\u001b[0m| 120/120 [00:02<00:00, 46.40batch/s, loss=0.339900]\u001b[0m\n"
     ]
    },
    {
     "name": "stdout",
     "output_type": "stream",
     "text": [
      "\t Loss: 9.386,\tTrain : 89.96%(89.96%),\tTest : 87.52%(87.52%),\tCurrent Time: 20250720-130513\n"
     ]
    },
    {
     "name": "stderr",
     "output_type": "stream",
     "text": [
      "Epoch 13/50:: 100%|\u001b[34m███████████████████\u001b[0m| 120/120 [00:02<00:00, 46.52batch/s, loss=0.329408]\u001b[0m\n"
     ]
    },
    {
     "name": "stdout",
     "output_type": "stream",
     "text": [
      "\t Loss: 9.447,\tTrain : 89.78%(89.96%),\tTest : 87.08%(87.52%),\tCurrent Time: 20250720-130516\n"
     ]
    },
    {
     "name": "stderr",
     "output_type": "stream",
     "text": [
      "Epoch 14/50:: 100%|\u001b[34m███████████████████\u001b[0m| 120/120 [00:02<00:00, 46.44batch/s, loss=0.331854]\u001b[0m\n"
     ]
    },
    {
     "name": "stdout",
     "output_type": "stream",
     "text": [
      "\t Loss: 9.963,\tTrain : 89.85%(89.96%),\tTest : 87.08%(87.52%),\tCurrent Time: 20250720-130519\n"
     ]
    },
    {
     "name": "stderr",
     "output_type": "stream",
     "text": [
      "Epoch 15/50:: 100%|\u001b[34m███████████████████\u001b[0m| 120/120 [00:02<00:00, 46.13batch/s, loss=0.325213]\u001b[0m\n"
     ]
    },
    {
     "name": "stdout",
     "output_type": "stream",
     "text": [
      "\t Loss: 9.350,\tTrain : 90.14%(90.14%),\tTest : 87.39%(87.52%),\tCurrent Time: 20250720-130522\n"
     ]
    },
    {
     "name": "stderr",
     "output_type": "stream",
     "text": [
      "Epoch 16/50:: 100%|\u001b[34m███████████████████\u001b[0m| 120/120 [00:02<00:00, 46.51batch/s, loss=0.328120]\u001b[0m\n"
     ]
    },
    {
     "name": "stdout",
     "output_type": "stream",
     "text": [
      "\t Loss: 9.010,\tTrain : 90.48%(90.48%),\tTest : 87.42%(87.52%),\tCurrent Time: 20250720-130525\n"
     ]
    },
    {
     "name": "stderr",
     "output_type": "stream",
     "text": [
      "Epoch 17/50:: 100%|\u001b[34m███████████████████\u001b[0m| 120/120 [00:02<00:00, 46.80batch/s, loss=0.321228]\u001b[0m\n"
     ]
    },
    {
     "name": "stdout",
     "output_type": "stream",
     "text": [
      "\t Loss: 9.628,\tTrain : 90.00%(90.48%),\tTest : 86.99%(87.52%),\tCurrent Time: 20250720-130528\n"
     ]
    },
    {
     "name": "stderr",
     "output_type": "stream",
     "text": [
      "Epoch 18/50:: 100%|\u001b[34m███████████████████\u001b[0m| 120/120 [00:02<00:00, 45.39batch/s, loss=0.313186]\u001b[0m\n"
     ]
    },
    {
     "name": "stdout",
     "output_type": "stream",
     "text": [
      "\t Loss: 9.419,\tTrain : 90.57%(90.57%),\tTest : 87.76%(87.76%),\tCurrent Time: 20250720-130531\n"
     ]
    },
    {
     "name": "stderr",
     "output_type": "stream",
     "text": [
      "Epoch 19/50:: 100%|\u001b[34m███████████████████\u001b[0m| 120/120 [00:02<00:00, 43.60batch/s, loss=0.308608]\u001b[0m\n"
     ]
    },
    {
     "name": "stdout",
     "output_type": "stream",
     "text": [
      "\t Loss: 9.403,\tTrain : 90.41%(90.57%),\tTest : 87.60%(87.76%),\tCurrent Time: 20250720-130534\n"
     ]
    },
    {
     "name": "stderr",
     "output_type": "stream",
     "text": [
      "Epoch 20/50:: 100%|\u001b[34m███████████████████\u001b[0m| 120/120 [00:02<00:00, 47.84batch/s, loss=0.307464]\u001b[0m\n"
     ]
    },
    {
     "name": "stdout",
     "output_type": "stream",
     "text": [
      "\t Loss: 8.754,\tTrain : 91.32%(91.32%),\tTest : 88.01%(88.01%),\tCurrent Time: 20250720-130537\n"
     ]
    },
    {
     "name": "stderr",
     "output_type": "stream",
     "text": [
      "Epoch 21/50:: 100%|\u001b[34m███████████████████\u001b[0m| 120/120 [00:02<00:00, 48.27batch/s, loss=0.304456]\u001b[0m\n"
     ]
    },
    {
     "name": "stdout",
     "output_type": "stream",
     "text": [
      "\t Loss: 8.693,\tTrain : 91.35%(91.35%),\tTest : 87.91%(88.01%),\tCurrent Time: 20250720-130540\n"
     ]
    },
    {
     "name": "stderr",
     "output_type": "stream",
     "text": [
      "Epoch 22/50:: 100%|\u001b[34m███████████████████\u001b[0m| 120/120 [00:02<00:00, 48.87batch/s, loss=0.303303]\u001b[0m\n"
     ]
    },
    {
     "name": "stdout",
     "output_type": "stream",
     "text": [
      "\t Loss: 9.421,\tTrain : 90.70%(91.35%),\tTest : 87.41%(88.01%),\tCurrent Time: 20250720-130543\n"
     ]
    },
    {
     "name": "stderr",
     "output_type": "stream",
     "text": [
      "Epoch 23/50:: 100%|\u001b[34m███████████████████\u001b[0m| 120/120 [00:02<00:00, 48.58batch/s, loss=0.302899]\u001b[0m\n"
     ]
    },
    {
     "name": "stdout",
     "output_type": "stream",
     "text": [
      "\t Loss: 8.488,\tTrain : 91.55%(91.55%),\tTest : 88.01%(88.01%),\tCurrent Time: 20250720-130546\n"
     ]
    },
    {
     "name": "stderr",
     "output_type": "stream",
     "text": [
      "Epoch 24/50:: 100%|\u001b[34m███████████████████\u001b[0m| 120/120 [00:02<00:00, 47.89batch/s, loss=0.298599]\u001b[0m\n"
     ]
    },
    {
     "name": "stdout",
     "output_type": "stream",
     "text": [
      "\t Loss: 9.284,\tTrain : 90.53%(91.55%),\tTest : 86.90%(88.01%),\tCurrent Time: 20250720-130549\n"
     ]
    },
    {
     "name": "stderr",
     "output_type": "stream",
     "text": [
      "Epoch 25/50:: 100%|\u001b[34m███████████████████\u001b[0m| 120/120 [00:02<00:00, 48.34batch/s, loss=0.297280]\u001b[0m\n"
     ]
    },
    {
     "name": "stdout",
     "output_type": "stream",
     "text": [
      "\t Loss: 7.958,\tTrain : 92.13%(92.13%),\tTest : 88.44%(88.44%),\tCurrent Time: 20250720-130552\n"
     ]
    },
    {
     "name": "stderr",
     "output_type": "stream",
     "text": [
      "Epoch 26/50:: 100%|\u001b[34m███████████████████\u001b[0m| 120/120 [00:02<00:00, 48.17batch/s, loss=0.291943]\u001b[0m\n"
     ]
    },
    {
     "name": "stdout",
     "output_type": "stream",
     "text": [
      "\t Loss: 7.633,\tTrain : 92.32%(92.32%),\tTest : 88.48%(88.48%),\tCurrent Time: 20250720-130555\n"
     ]
    },
    {
     "name": "stderr",
     "output_type": "stream",
     "text": [
      "Epoch 27/50:: 100%|\u001b[34m███████████████████\u001b[0m| 120/120 [00:02<00:00, 47.73batch/s, loss=0.288371]\u001b[0m\n"
     ]
    },
    {
     "name": "stdout",
     "output_type": "stream",
     "text": [
      "\t Loss: 8.239,\tTrain : 92.18%(92.32%),\tTest : 87.99%(88.48%),\tCurrent Time: 20250720-130558\n"
     ]
    },
    {
     "name": "stderr",
     "output_type": "stream",
     "text": [
      "Epoch 28/50:: 100%|\u001b[34m███████████████████\u001b[0m| 120/120 [00:02<00:00, 48.31batch/s, loss=0.290531]\u001b[0m\n"
     ]
    },
    {
     "name": "stdout",
     "output_type": "stream",
     "text": [
      "\t Loss: 8.492,\tTrain : 92.08%(92.32%),\tTest : 88.27%(88.48%),\tCurrent Time: 20250720-130601\n"
     ]
    },
    {
     "name": "stderr",
     "output_type": "stream",
     "text": [
      "Epoch 29/50:: 100%|\u001b[34m███████████████████\u001b[0m| 120/120 [00:02<00:00, 47.42batch/s, loss=0.280663]\u001b[0m\n"
     ]
    },
    {
     "name": "stdout",
     "output_type": "stream",
     "text": [
      "\t Loss: 8.518,\tTrain : 91.71%(92.32%),\tTest : 87.44%(88.48%),\tCurrent Time: 20250720-130604\n"
     ]
    },
    {
     "name": "stderr",
     "output_type": "stream",
     "text": [
      "Epoch 30/50:: 100%|\u001b[34m███████████████████\u001b[0m| 120/120 [00:02<00:00, 47.13batch/s, loss=0.293983]\u001b[0m\n"
     ]
    },
    {
     "name": "stdout",
     "output_type": "stream",
     "text": [
      "\t Loss: 8.732,\tTrain : 91.99%(92.32%),\tTest : 87.70%(88.48%),\tCurrent Time: 20250720-130607\n"
     ]
    },
    {
     "name": "stderr",
     "output_type": "stream",
     "text": [
      "Epoch 31/50:: 100%|\u001b[34m███████████████████\u001b[0m| 120/120 [00:02<00:00, 48.48batch/s, loss=0.291459]\u001b[0m\n"
     ]
    },
    {
     "name": "stdout",
     "output_type": "stream",
     "text": [
      "\t Loss: 8.523,\tTrain : 91.89%(92.32%),\tTest : 87.48%(88.48%),\tCurrent Time: 20250720-130610\n"
     ]
    },
    {
     "name": "stderr",
     "output_type": "stream",
     "text": [
      "Epoch 32/50:: 100%|\u001b[34m███████████████████\u001b[0m| 120/120 [00:02<00:00, 48.27batch/s, loss=0.293163]\u001b[0m\n"
     ]
    },
    {
     "name": "stdout",
     "output_type": "stream",
     "text": [
      "\t Loss: 8.878,\tTrain : 92.34%(92.34%),\tTest : 87.86%(88.48%),\tCurrent Time: 20250720-130613\n"
     ]
    },
    {
     "name": "stderr",
     "output_type": "stream",
     "text": [
      "Epoch 33/50:: 100%|\u001b[34m███████████████████\u001b[0m| 120/120 [00:02<00:00, 48.07batch/s, loss=0.300364]\u001b[0m\n"
     ]
    },
    {
     "name": "stdout",
     "output_type": "stream",
     "text": [
      "\t Loss: 7.816,\tTrain : 92.67%(92.67%),\tTest : 88.04%(88.48%),\tCurrent Time: 20250720-130616\n"
     ]
    },
    {
     "name": "stderr",
     "output_type": "stream",
     "text": [
      "Epoch 34/50:: 100%|\u001b[34m███████████████████\u001b[0m| 120/120 [00:02<00:00, 48.06batch/s, loss=0.293897]\u001b[0m\n"
     ]
    },
    {
     "name": "stdout",
     "output_type": "stream",
     "text": [
      "\t Loss: 9.230,\tTrain : 92.14%(92.67%),\tTest : 87.72%(88.48%),\tCurrent Time: 20250720-130619\n"
     ]
    },
    {
     "name": "stderr",
     "output_type": "stream",
     "text": [
      "Epoch 35/50:: 100%|\u001b[34m███████████████████\u001b[0m| 120/120 [00:02<00:00, 48.40batch/s, loss=0.316629]\u001b[0m\n"
     ]
    },
    {
     "name": "stdout",
     "output_type": "stream",
     "text": [
      "\t Loss: 7.818,\tTrain : 93.15%(93.15%),\tTest : 88.34%(88.48%),\tCurrent Time: 20250720-130622\n"
     ]
    },
    {
     "name": "stderr",
     "output_type": "stream",
     "text": [
      "Epoch 36/50:: 100%|\u001b[34m███████████████████\u001b[0m| 120/120 [00:02<00:00, 48.51batch/s, loss=0.310181]\u001b[0m\n"
     ]
    },
    {
     "name": "stdout",
     "output_type": "stream",
     "text": [
      "\t Loss: 9.891,\tTrain : 91.64%(93.15%),\tTest : 87.29%(88.48%),\tCurrent Time: 20250720-130625\n"
     ]
    },
    {
     "name": "stderr",
     "output_type": "stream",
     "text": [
      "Epoch 37/50:: 100%|\u001b[34m███████████████████\u001b[0m| 120/120 [00:02<00:00, 48.15batch/s, loss=0.306726]\u001b[0m\n"
     ]
    },
    {
     "name": "stdout",
     "output_type": "stream",
     "text": [
      "\t Loss: 8.575,\tTrain : 93.05%(93.15%),\tTest : 88.38%(88.48%),\tCurrent Time: 20250720-130628\n"
     ]
    },
    {
     "name": "stderr",
     "output_type": "stream",
     "text": [
      "Epoch 38/50:: 100%|\u001b[34m███████████████████\u001b[0m| 120/120 [00:02<00:00, 48.34batch/s, loss=0.305132]\u001b[0m\n"
     ]
    },
    {
     "name": "stdout",
     "output_type": "stream",
     "text": [
      "\t Loss: 9.394,\tTrain : 92.47%(93.15%),\tTest : 87.97%(88.48%),\tCurrent Time: 20250720-130630\n"
     ]
    },
    {
     "name": "stderr",
     "output_type": "stream",
     "text": [
      "Epoch 39/50:: 100%|\u001b[34m███████████████████\u001b[0m| 120/120 [00:02<00:00, 48.37batch/s, loss=0.296729]\u001b[0m\n"
     ]
    },
    {
     "name": "stdout",
     "output_type": "stream",
     "text": [
      "\t Loss: 8.165,\tTrain : 92.88%(93.15%),\tTest : 87.88%(88.48%),\tCurrent Time: 20250720-130633\n"
     ]
    },
    {
     "name": "stderr",
     "output_type": "stream",
     "text": [
      "Epoch 40/50:: 100%|\u001b[34m███████████████████\u001b[0m| 120/120 [00:02<00:00, 48.28batch/s, loss=0.298042]\u001b[0m\n"
     ]
    },
    {
     "name": "stdout",
     "output_type": "stream",
     "text": [
      "\t Loss: 8.884,\tTrain : 92.77%(93.15%),\tTest : 87.92%(88.48%),\tCurrent Time: 20250720-130636\n"
     ]
    },
    {
     "name": "stderr",
     "output_type": "stream",
     "text": [
      "Epoch 41/50:: 100%|\u001b[34m███████████████████\u001b[0m| 120/120 [00:02<00:00, 48.39batch/s, loss=0.311192]\u001b[0m\n"
     ]
    },
    {
     "name": "stdout",
     "output_type": "stream",
     "text": [
      "\t Loss: 9.053,\tTrain : 92.65%(93.15%),\tTest : 87.86%(88.48%),\tCurrent Time: 20250720-130639\n"
     ]
    },
    {
     "name": "stderr",
     "output_type": "stream",
     "text": [
      "Epoch 42/50:: 100%|\u001b[34m███████████████████\u001b[0m| 120/120 [00:02<00:00, 48.44batch/s, loss=0.299969]\u001b[0m\n"
     ]
    },
    {
     "name": "stdout",
     "output_type": "stream",
     "text": [
      "\t Loss: 9.748,\tTrain : 92.22%(93.15%),\tTest : 87.27%(88.48%),\tCurrent Time: 20250720-130642\n"
     ]
    },
    {
     "name": "stderr",
     "output_type": "stream",
     "text": [
      "Epoch 43/50:: 100%|\u001b[34m███████████████████\u001b[0m| 120/120 [00:02<00:00, 48.03batch/s, loss=0.316143]\u001b[0m\n"
     ]
    },
    {
     "name": "stdout",
     "output_type": "stream",
     "text": [
      "\t Loss: 8.636,\tTrain : 93.03%(93.15%),\tTest : 88.08%(88.48%),\tCurrent Time: 20250720-130645\n"
     ]
    },
    {
     "name": "stderr",
     "output_type": "stream",
     "text": [
      "Epoch 44/50:: 100%|\u001b[34m███████████████████\u001b[0m| 120/120 [00:02<00:00, 48.47batch/s, loss=0.318001]\u001b[0m\n"
     ]
    },
    {
     "name": "stdout",
     "output_type": "stream",
     "text": [
      "\t Loss: 9.762,\tTrain : 92.16%(93.15%),\tTest : 87.61%(88.48%),\tCurrent Time: 20250720-130648\n"
     ]
    },
    {
     "name": "stderr",
     "output_type": "stream",
     "text": [
      "Epoch 45/50:: 100%|\u001b[34m███████████████████\u001b[0m| 120/120 [00:02<00:00, 48.05batch/s, loss=0.331773]\u001b[0m\n"
     ]
    },
    {
     "name": "stdout",
     "output_type": "stream",
     "text": [
      "\t Loss: 7.467,\tTrain : 93.31%(93.31%),\tTest : 88.47%(88.48%),\tCurrent Time: 20250720-130651\n"
     ]
    },
    {
     "name": "stderr",
     "output_type": "stream",
     "text": [
      "Epoch 46/50:: 100%|\u001b[34m███████████████████\u001b[0m| 120/120 [00:02<00:00, 48.41batch/s, loss=0.307029]\u001b[0m\n"
     ]
    },
    {
     "name": "stdout",
     "output_type": "stream",
     "text": [
      "\t Loss: 9.519,\tTrain : 92.55%(93.31%),\tTest : 87.88%(88.48%),\tCurrent Time: 20250720-130654\n"
     ]
    },
    {
     "name": "stderr",
     "output_type": "stream",
     "text": [
      "Epoch 47/50:: 100%|\u001b[34m███████████████████\u001b[0m| 120/120 [00:02<00:00, 48.50batch/s, loss=0.307255]\u001b[0m\n"
     ]
    },
    {
     "name": "stdout",
     "output_type": "stream",
     "text": [
      "\t Loss: 8.781,\tTrain : 93.28%(93.31%),\tTest : 88.33%(88.48%),\tCurrent Time: 20250720-130657\n"
     ]
    },
    {
     "name": "stderr",
     "output_type": "stream",
     "text": [
      "Epoch 48/50:: 100%|\u001b[34m███████████████████\u001b[0m| 120/120 [00:02<00:00, 48.39batch/s, loss=0.281155]\u001b[0m\n"
     ]
    },
    {
     "name": "stdout",
     "output_type": "stream",
     "text": [
      "\t Loss: 7.317,\tTrain : 93.51%(93.51%),\tTest : 88.43%(88.48%),\tCurrent Time: 20250720-130700\n"
     ]
    },
    {
     "name": "stderr",
     "output_type": "stream",
     "text": [
      "Epoch 49/50:: 100%|\u001b[34m███████████████████\u001b[0m| 120/120 [00:02<00:00, 48.19batch/s, loss=0.291436]\u001b[0m\n"
     ]
    },
    {
     "name": "stdout",
     "output_type": "stream",
     "text": [
      "\t Loss: 8.507,\tTrain : 93.19%(93.51%),\tTest : 88.22%(88.48%),\tCurrent Time: 20250720-130703\n"
     ]
    },
    {
     "name": "stderr",
     "output_type": "stream",
     "text": [
      "Epoch 50/50:: 100%|\u001b[34m███████████████████\u001b[0m| 120/120 [00:02<00:00, 48.50batch/s, loss=0.284174]\u001b[0m\n"
     ]
    },
    {
     "name": "stdout",
     "output_type": "stream",
     "text": [
      "\t Loss: 7.594,\tTrain : 93.58%(93.58%),\tTest : 88.59%(88.59%),\tCurrent Time: 20250720-130706\n",
      "First_symm_10HL_Res-Task2-0-EP_L10--FMNIST_EP_b_sc0.1- Time: 20250720-130706, Epochs: 50, Learning Rate: 0.001, Best: 93.58%  88.59%\n",
      "\n",
      "First_symm_10HL_Res-Task2-0-EP_L10--FMNIST_EP_b_sc0.1-\n"
     ]
    },
    {
     "name": "stderr",
     "output_type": "stream",
     "text": [
      "Epoch 1/50:: 100%|\u001b[34m████████████████████\u001b[0m| 120/120 [00:02<00:00, 44.89batch/s, loss=0.842039]\u001b[0m\n"
     ]
    },
    {
     "name": "stdout",
     "output_type": "stream",
     "text": [
      "\t Loss: 15.270,\tTrain : 82.92%(82.92%),\tTest : 81.49%(81.49%),\tCurrent Time: 20250720-130713\n"
     ]
    },
    {
     "name": "stderr",
     "output_type": "stream",
     "text": [
      "Epoch 2/50:: 100%|\u001b[34m████████████████████\u001b[0m| 120/120 [00:02<00:00, 48.41batch/s, loss=0.494359]\u001b[0m\n"
     ]
    },
    {
     "name": "stdout",
     "output_type": "stream",
     "text": [
      "\t Loss: 13.789,\tTrain : 84.25%(84.25%),\tTest : 83.35%(83.35%),\tCurrent Time: 20250720-130716\n"
     ]
    },
    {
     "name": "stderr",
     "output_type": "stream",
     "text": [
      "Epoch 3/50:: 100%|\u001b[34m████████████████████\u001b[0m| 120/120 [00:02<00:00, 48.33batch/s, loss=0.424356]\u001b[0m\n"
     ]
    },
    {
     "name": "stdout",
     "output_type": "stream",
     "text": [
      "\t Loss: 11.621,\tTrain : 86.85%(86.85%),\tTest : 85.47%(85.47%),\tCurrent Time: 20250720-130719\n"
     ]
    },
    {
     "name": "stderr",
     "output_type": "stream",
     "text": [
      "Epoch 4/50:: 100%|\u001b[34m████████████████████\u001b[0m| 120/120 [00:02<00:00, 48.23batch/s, loss=0.399306]\u001b[0m\n"
     ]
    },
    {
     "name": "stdout",
     "output_type": "stream",
     "text": [
      "\t Loss: 12.937,\tTrain : 84.85%(86.85%),\tTest : 82.93%(85.47%),\tCurrent Time: 20250720-130722\n"
     ]
    },
    {
     "name": "stderr",
     "output_type": "stream",
     "text": [
      "Epoch 5/50:: 100%|\u001b[34m████████████████████\u001b[0m| 120/120 [00:02<00:00, 48.28batch/s, loss=0.386579]\u001b[0m\n"
     ]
    },
    {
     "name": "stdout",
     "output_type": "stream",
     "text": [
      "\t Loss: 10.723,\tTrain : 87.74%(87.74%),\tTest : 86.15%(86.15%),\tCurrent Time: 20250720-130725\n"
     ]
    },
    {
     "name": "stderr",
     "output_type": "stream",
     "text": [
      "Epoch 6/50:: 100%|\u001b[34m████████████████████\u001b[0m| 120/120 [00:02<00:00, 48.29batch/s, loss=0.375219]\u001b[0m\n"
     ]
    },
    {
     "name": "stdout",
     "output_type": "stream",
     "text": [
      "\t Loss: 10.922,\tTrain : 87.72%(87.74%),\tTest : 85.56%(86.15%),\tCurrent Time: 20250720-130728\n"
     ]
    },
    {
     "name": "stderr",
     "output_type": "stream",
     "text": [
      "Epoch 7/50:: 100%|\u001b[34m████████████████████\u001b[0m| 120/120 [00:02<00:00, 48.48batch/s, loss=0.363781]\u001b[0m\n"
     ]
    },
    {
     "name": "stdout",
     "output_type": "stream",
     "text": [
      "\t Loss: 9.982,\tTrain : 88.99%(88.99%),\tTest : 87.18%(87.18%),\tCurrent Time: 20250720-130731\n"
     ]
    },
    {
     "name": "stderr",
     "output_type": "stream",
     "text": [
      "Epoch 8/50:: 100%|\u001b[34m████████████████████\u001b[0m| 120/120 [00:02<00:00, 48.45batch/s, loss=0.352798]\u001b[0m\n"
     ]
    },
    {
     "name": "stdout",
     "output_type": "stream",
     "text": [
      "\t Loss: 9.827,\tTrain : 89.16%(89.16%),\tTest : 87.20%(87.20%),\tCurrent Time: 20250720-130734\n"
     ]
    },
    {
     "name": "stderr",
     "output_type": "stream",
     "text": [
      "Epoch 9/50:: 100%|\u001b[34m████████████████████\u001b[0m| 120/120 [00:02<00:00, 48.60batch/s, loss=0.348967]\u001b[0m\n"
     ]
    },
    {
     "name": "stdout",
     "output_type": "stream",
     "text": [
      "\t Loss: 10.303,\tTrain : 88.98%(89.16%),\tTest : 86.89%(87.20%),\tCurrent Time: 20250720-130737\n"
     ]
    },
    {
     "name": "stderr",
     "output_type": "stream",
     "text": [
      "Epoch 10/50:: 100%|\u001b[34m███████████████████\u001b[0m| 120/120 [00:02<00:00, 48.43batch/s, loss=0.341933]\u001b[0m\n"
     ]
    },
    {
     "name": "stdout",
     "output_type": "stream",
     "text": [
      "\t Loss: 9.785,\tTrain : 89.55%(89.55%),\tTest : 87.58%(87.58%),\tCurrent Time: 20250720-130740\n"
     ]
    },
    {
     "name": "stderr",
     "output_type": "stream",
     "text": [
      "Epoch 11/50:: 100%|\u001b[34m███████████████████\u001b[0m| 120/120 [00:02<00:00, 48.45batch/s, loss=0.340448]\u001b[0m\n"
     ]
    },
    {
     "name": "stdout",
     "output_type": "stream",
     "text": [
      "\t Loss: 9.868,\tTrain : 89.49%(89.55%),\tTest : 87.33%(87.58%),\tCurrent Time: 20250720-130743\n"
     ]
    },
    {
     "name": "stderr",
     "output_type": "stream",
     "text": [
      "Epoch 12/50:: 100%|\u001b[34m███████████████████\u001b[0m| 120/120 [00:02<00:00, 47.98batch/s, loss=0.333415]\u001b[0m\n"
     ]
    },
    {
     "name": "stdout",
     "output_type": "stream",
     "text": [
      "\t Loss: 9.355,\tTrain : 89.74%(89.74%),\tTest : 87.28%(87.58%),\tCurrent Time: 20250720-130746\n"
     ]
    },
    {
     "name": "stderr",
     "output_type": "stream",
     "text": [
      "Epoch 13/50:: 100%|\u001b[34m███████████████████\u001b[0m| 120/120 [00:02<00:00, 48.38batch/s, loss=0.331543]\u001b[0m\n"
     ]
    },
    {
     "name": "stdout",
     "output_type": "stream",
     "text": [
      "\t Loss: 9.300,\tTrain : 90.21%(90.21%),\tTest : 87.63%(87.63%),\tCurrent Time: 20250720-130749\n"
     ]
    },
    {
     "name": "stderr",
     "output_type": "stream",
     "text": [
      "Epoch 14/50:: 100%|\u001b[34m███████████████████\u001b[0m| 120/120 [00:02<00:00, 48.39batch/s, loss=0.323745]\u001b[0m\n"
     ]
    },
    {
     "name": "stdout",
     "output_type": "stream",
     "text": [
      "\t Loss: 10.458,\tTrain : 89.73%(90.21%),\tTest : 87.20%(87.63%),\tCurrent Time: 20250720-130752\n"
     ]
    },
    {
     "name": "stderr",
     "output_type": "stream",
     "text": [
      "Epoch 15/50:: 100%|\u001b[34m███████████████████\u001b[0m| 120/120 [00:02<00:00, 48.05batch/s, loss=0.319669]\u001b[0m\n"
     ]
    },
    {
     "name": "stdout",
     "output_type": "stream",
     "text": [
      "\t Loss: 9.586,\tTrain : 90.40%(90.40%),\tTest : 87.77%(87.77%),\tCurrent Time: 20250720-130755\n"
     ]
    },
    {
     "name": "stderr",
     "output_type": "stream",
     "text": [
      "Epoch 16/50:: 100%|\u001b[34m███████████████████\u001b[0m| 120/120 [00:02<00:00, 48.27batch/s, loss=0.325255]\u001b[0m\n"
     ]
    },
    {
     "name": "stdout",
     "output_type": "stream",
     "text": [
      "\t Loss: 8.825,\tTrain : 90.57%(90.57%),\tTest : 87.59%(87.77%),\tCurrent Time: 20250720-130758\n"
     ]
    },
    {
     "name": "stderr",
     "output_type": "stream",
     "text": [
      "Epoch 17/50:: 100%|\u001b[34m███████████████████\u001b[0m| 120/120 [00:02<00:00, 48.49batch/s, loss=0.312311]\u001b[0m\n"
     ]
    },
    {
     "name": "stdout",
     "output_type": "stream",
     "text": [
      "\t Loss: 9.438,\tTrain : 90.64%(90.64%),\tTest : 87.70%(87.77%),\tCurrent Time: 20250720-130801\n"
     ]
    },
    {
     "name": "stderr",
     "output_type": "stream",
     "text": [
      "Epoch 18/50:: 100%|\u001b[34m███████████████████\u001b[0m| 120/120 [00:02<00:00, 48.04batch/s, loss=0.310218]\u001b[0m\n"
     ]
    },
    {
     "name": "stdout",
     "output_type": "stream",
     "text": [
      "\t Loss: 9.118,\tTrain : 90.49%(90.64%),\tTest : 87.46%(87.77%),\tCurrent Time: 20250720-130804\n"
     ]
    },
    {
     "name": "stderr",
     "output_type": "stream",
     "text": [
      "Epoch 19/50:: 100%|\u001b[34m███████████████████\u001b[0m| 120/120 [00:02<00:00, 48.35batch/s, loss=0.309933]\u001b[0m\n"
     ]
    },
    {
     "name": "stdout",
     "output_type": "stream",
     "text": [
      "\t Loss: 8.668,\tTrain : 91.36%(91.36%),\tTest : 87.96%(87.96%),\tCurrent Time: 20250720-130807\n"
     ]
    },
    {
     "name": "stderr",
     "output_type": "stream",
     "text": [
      "Epoch 20/50:: 100%|\u001b[34m███████████████████\u001b[0m| 120/120 [00:02<00:00, 48.45batch/s, loss=0.309460]\u001b[0m\n"
     ]
    },
    {
     "name": "stdout",
     "output_type": "stream",
     "text": [
      "\t Loss: 9.491,\tTrain : 90.58%(91.36%),\tTest : 86.92%(87.96%),\tCurrent Time: 20250720-130809\n"
     ]
    },
    {
     "name": "stderr",
     "output_type": "stream",
     "text": [
      "Epoch 21/50:: 100%|\u001b[34m███████████████████\u001b[0m| 120/120 [00:02<00:00, 48.33batch/s, loss=0.307561]\u001b[0m\n"
     ]
    },
    {
     "name": "stdout",
     "output_type": "stream",
     "text": [
      "\t Loss: 9.374,\tTrain : 90.96%(91.36%),\tTest : 87.91%(87.96%),\tCurrent Time: 20250720-130812\n"
     ]
    },
    {
     "name": "stderr",
     "output_type": "stream",
     "text": [
      "Epoch 22/50:: 100%|\u001b[34m███████████████████\u001b[0m| 120/120 [00:02<00:00, 48.13batch/s, loss=0.312392]\u001b[0m\n"
     ]
    },
    {
     "name": "stdout",
     "output_type": "stream",
     "text": [
      "\t Loss: 8.622,\tTrain : 91.34%(91.36%),\tTest : 87.85%(87.96%),\tCurrent Time: 20250720-130815\n"
     ]
    },
    {
     "name": "stderr",
     "output_type": "stream",
     "text": [
      "Epoch 23/50:: 100%|\u001b[34m███████████████████\u001b[0m| 120/120 [00:02<00:00, 48.34batch/s, loss=0.298338]\u001b[0m\n"
     ]
    },
    {
     "name": "stdout",
     "output_type": "stream",
     "text": [
      "\t Loss: 8.438,\tTrain : 91.78%(91.78%),\tTest : 88.27%(88.27%),\tCurrent Time: 20250720-130818\n"
     ]
    },
    {
     "name": "stderr",
     "output_type": "stream",
     "text": [
      "Epoch 24/50:: 100%|\u001b[34m███████████████████\u001b[0m| 120/120 [00:02<00:00, 48.25batch/s, loss=0.296081]\u001b[0m\n"
     ]
    },
    {
     "name": "stdout",
     "output_type": "stream",
     "text": [
      "\t Loss: 8.317,\tTrain : 91.81%(91.81%),\tTest : 87.95%(88.27%),\tCurrent Time: 20250720-130821\n"
     ]
    },
    {
     "name": "stderr",
     "output_type": "stream",
     "text": [
      "Epoch 25/50:: 100%|\u001b[34m███████████████████\u001b[0m| 120/120 [00:02<00:00, 48.24batch/s, loss=0.300242]\u001b[0m\n"
     ]
    },
    {
     "name": "stdout",
     "output_type": "stream",
     "text": [
      "\t Loss: 8.164,\tTrain : 92.07%(92.07%),\tTest : 88.30%(88.30%),\tCurrent Time: 20250720-130824\n"
     ]
    },
    {
     "name": "stderr",
     "output_type": "stream",
     "text": [
      "Epoch 26/50:: 100%|\u001b[34m███████████████████\u001b[0m| 120/120 [00:02<00:00, 48.50batch/s, loss=0.292587]\u001b[0m\n"
     ]
    },
    {
     "name": "stdout",
     "output_type": "stream",
     "text": [
      "\t Loss: 9.036,\tTrain : 91.44%(92.07%),\tTest : 87.54%(88.30%),\tCurrent Time: 20250720-130827\n"
     ]
    },
    {
     "name": "stderr",
     "output_type": "stream",
     "text": [
      "Epoch 27/50:: 100%|\u001b[34m███████████████████\u001b[0m| 120/120 [00:02<00:00, 48.49batch/s, loss=0.294065]\u001b[0m\n"
     ]
    },
    {
     "name": "stdout",
     "output_type": "stream",
     "text": [
      "\t Loss: 7.937,\tTrain : 92.27%(92.27%),\tTest : 88.26%(88.30%),\tCurrent Time: 20250720-130830\n"
     ]
    },
    {
     "name": "stderr",
     "output_type": "stream",
     "text": [
      "Epoch 28/50:: 100%|\u001b[34m███████████████████\u001b[0m| 120/120 [00:02<00:00, 48.28batch/s, loss=0.290277]\u001b[0m\n"
     ]
    },
    {
     "name": "stdout",
     "output_type": "stream",
     "text": [
      "\t Loss: 8.615,\tTrain : 91.75%(92.27%),\tTest : 87.50%(88.30%),\tCurrent Time: 20250720-130833\n"
     ]
    },
    {
     "name": "stderr",
     "output_type": "stream",
     "text": [
      "Epoch 29/50:: 100%|\u001b[34m███████████████████\u001b[0m| 120/120 [00:02<00:00, 48.45batch/s, loss=0.288174]\u001b[0m\n"
     ]
    },
    {
     "name": "stdout",
     "output_type": "stream",
     "text": [
      "\t Loss: 8.706,\tTrain : 91.84%(92.27%),\tTest : 87.84%(88.30%),\tCurrent Time: 20250720-130836\n"
     ]
    },
    {
     "name": "stderr",
     "output_type": "stream",
     "text": [
      "Epoch 30/50:: 100%|\u001b[34m███████████████████\u001b[0m| 120/120 [00:02<00:00, 48.26batch/s, loss=0.301849]\u001b[0m\n"
     ]
    },
    {
     "name": "stdout",
     "output_type": "stream",
     "text": [
      "\t Loss: 8.429,\tTrain : 91.94%(92.27%),\tTest : 88.28%(88.30%),\tCurrent Time: 20250720-130839\n"
     ]
    },
    {
     "name": "stderr",
     "output_type": "stream",
     "text": [
      "Epoch 31/50:: 100%|\u001b[34m███████████████████\u001b[0m| 120/120 [00:02<00:00, 48.41batch/s, loss=0.288741]\u001b[0m\n"
     ]
    },
    {
     "name": "stdout",
     "output_type": "stream",
     "text": [
      "\t Loss: 9.155,\tTrain : 91.72%(92.27%),\tTest : 87.62%(88.30%),\tCurrent Time: 20250720-130842\n"
     ]
    },
    {
     "name": "stderr",
     "output_type": "stream",
     "text": [
      "Epoch 32/50:: 100%|\u001b[34m███████████████████\u001b[0m| 120/120 [00:02<00:00, 48.39batch/s, loss=0.288313]\u001b[0m\n"
     ]
    },
    {
     "name": "stdout",
     "output_type": "stream",
     "text": [
      "\t Loss: 8.494,\tTrain : 92.20%(92.27%),\tTest : 87.71%(88.30%),\tCurrent Time: 20250720-130845\n"
     ]
    },
    {
     "name": "stderr",
     "output_type": "stream",
     "text": [
      "Epoch 33/50:: 100%|\u001b[34m███████████████████\u001b[0m| 120/120 [00:02<00:00, 48.66batch/s, loss=0.279020]\u001b[0m\n"
     ]
    },
    {
     "name": "stdout",
     "output_type": "stream",
     "text": [
      "\t Loss: 8.058,\tTrain : 92.45%(92.45%),\tTest : 88.09%(88.30%),\tCurrent Time: 20250720-130848\n"
     ]
    },
    {
     "name": "stderr",
     "output_type": "stream",
     "text": [
      "Epoch 34/50:: 100%|\u001b[34m███████████████████\u001b[0m| 120/120 [00:02<00:00, 48.28batch/s, loss=0.281734]\u001b[0m\n"
     ]
    },
    {
     "name": "stdout",
     "output_type": "stream",
     "text": [
      "\t Loss: 9.049,\tTrain : 91.79%(92.45%),\tTest : 87.06%(88.30%),\tCurrent Time: 20250720-130851\n"
     ]
    },
    {
     "name": "stderr",
     "output_type": "stream",
     "text": [
      "Epoch 35/50:: 100%|\u001b[34m███████████████████\u001b[0m| 120/120 [00:02<00:00, 48.54batch/s, loss=0.296272]\u001b[0m\n"
     ]
    },
    {
     "name": "stdout",
     "output_type": "stream",
     "text": [
      "\t Loss: 8.223,\tTrain : 92.77%(92.77%),\tTest : 88.20%(88.30%),\tCurrent Time: 20250720-130854\n"
     ]
    },
    {
     "name": "stderr",
     "output_type": "stream",
     "text": [
      "Epoch 36/50:: 100%|\u001b[34m███████████████████\u001b[0m| 120/120 [00:02<00:00, 48.51batch/s, loss=0.286937]\u001b[0m\n"
     ]
    },
    {
     "name": "stdout",
     "output_type": "stream",
     "text": [
      "\t Loss: 7.660,\tTrain : 92.99%(92.99%),\tTest : 88.45%(88.45%),\tCurrent Time: 20250720-130857\n"
     ]
    },
    {
     "name": "stderr",
     "output_type": "stream",
     "text": [
      "Epoch 37/50:: 100%|\u001b[34m███████████████████\u001b[0m| 120/120 [00:02<00:00, 48.31batch/s, loss=0.278750]\u001b[0m\n"
     ]
    },
    {
     "name": "stdout",
     "output_type": "stream",
     "text": [
      "\t Loss: 7.935,\tTrain : 92.74%(92.99%),\tTest : 88.10%(88.45%),\tCurrent Time: 20250720-130900\n"
     ]
    },
    {
     "name": "stderr",
     "output_type": "stream",
     "text": [
      "Epoch 38/50:: 100%|\u001b[34m███████████████████\u001b[0m| 120/120 [00:02<00:00, 48.50batch/s, loss=0.275112]\u001b[0m\n"
     ]
    },
    {
     "name": "stdout",
     "output_type": "stream",
     "text": [
      "\t Loss: 7.370,\tTrain : 93.31%(93.31%),\tTest : 88.55%(88.55%),\tCurrent Time: 20250720-130903\n"
     ]
    },
    {
     "name": "stderr",
     "output_type": "stream",
     "text": [
      "Epoch 39/50:: 100%|\u001b[34m███████████████████\u001b[0m| 120/120 [00:02<00:00, 48.44batch/s, loss=0.268401]\u001b[0m\n"
     ]
    },
    {
     "name": "stdout",
     "output_type": "stream",
     "text": [
      "\t Loss: 8.036,\tTrain : 92.82%(93.31%),\tTest : 87.69%(88.55%),\tCurrent Time: 20250720-130906\n"
     ]
    },
    {
     "name": "stderr",
     "output_type": "stream",
     "text": [
      "Epoch 40/50:: 100%|\u001b[34m███████████████████\u001b[0m| 120/120 [00:02<00:00, 48.47batch/s, loss=0.281729]\u001b[0m\n"
     ]
    },
    {
     "name": "stdout",
     "output_type": "stream",
     "text": [
      "\t Loss: 7.946,\tTrain : 92.79%(93.31%),\tTest : 88.01%(88.55%),\tCurrent Time: 20250720-130908\n"
     ]
    },
    {
     "name": "stderr",
     "output_type": "stream",
     "text": [
      "Epoch 41/50:: 100%|\u001b[34m███████████████████\u001b[0m| 120/120 [00:02<00:00, 48.37batch/s, loss=0.269510]\u001b[0m\n"
     ]
    },
    {
     "name": "stdout",
     "output_type": "stream",
     "text": [
      "\t Loss: 8.221,\tTrain : 92.69%(93.31%),\tTest : 87.72%(88.55%),\tCurrent Time: 20250720-130911\n"
     ]
    },
    {
     "name": "stderr",
     "output_type": "stream",
     "text": [
      "Epoch 42/50:: 100%|\u001b[34m███████████████████\u001b[0m| 120/120 [00:02<00:00, 48.42batch/s, loss=0.269661]\u001b[0m\n"
     ]
    },
    {
     "name": "stdout",
     "output_type": "stream",
     "text": [
      "\t Loss: 7.049,\tTrain : 93.67%(93.67%),\tTest : 88.59%(88.59%),\tCurrent Time: 20250720-130914\n"
     ]
    },
    {
     "name": "stderr",
     "output_type": "stream",
     "text": [
      "Epoch 43/50:: 100%|\u001b[34m███████████████████\u001b[0m| 120/120 [00:02<00:00, 48.17batch/s, loss=0.264239]\u001b[0m\n"
     ]
    },
    {
     "name": "stdout",
     "output_type": "stream",
     "text": [
      "\t Loss: 8.819,\tTrain : 92.77%(93.67%),\tTest : 87.61%(88.59%),\tCurrent Time: 20250720-130917\n"
     ]
    },
    {
     "name": "stderr",
     "output_type": "stream",
     "text": [
      "Epoch 44/50:: 100%|\u001b[34m███████████████████\u001b[0m| 120/120 [00:02<00:00, 48.20batch/s, loss=0.268558]\u001b[0m\n"
     ]
    },
    {
     "name": "stdout",
     "output_type": "stream",
     "text": [
      "\t Loss: 7.808,\tTrain : 93.13%(93.67%),\tTest : 88.23%(88.59%),\tCurrent Time: 20250720-130920\n"
     ]
    },
    {
     "name": "stderr",
     "output_type": "stream",
     "text": [
      "Epoch 45/50:: 100%|\u001b[34m███████████████████\u001b[0m| 120/120 [00:02<00:00, 48.38batch/s, loss=0.257415]\u001b[0m\n"
     ]
    },
    {
     "name": "stdout",
     "output_type": "stream",
     "text": [
      "\t Loss: 7.113,\tTrain : 93.62%(93.67%),\tTest : 88.30%(88.59%),\tCurrent Time: 20250720-130923\n"
     ]
    },
    {
     "name": "stderr",
     "output_type": "stream",
     "text": [
      "Epoch 46/50:: 100%|\u001b[34m███████████████████\u001b[0m| 120/120 [00:02<00:00, 48.42batch/s, loss=0.257713]\u001b[0m\n"
     ]
    },
    {
     "name": "stdout",
     "output_type": "stream",
     "text": [
      "\t Loss: 7.010,\tTrain : 93.79%(93.79%),\tTest : 88.33%(88.59%),\tCurrent Time: 20250720-130926\n"
     ]
    },
    {
     "name": "stderr",
     "output_type": "stream",
     "text": [
      "Epoch 47/50:: 100%|\u001b[34m███████████████████\u001b[0m| 120/120 [00:02<00:00, 48.67batch/s, loss=0.266513]\u001b[0m\n"
     ]
    },
    {
     "name": "stdout",
     "output_type": "stream",
     "text": [
      "\t Loss: 7.583,\tTrain : 93.23%(93.79%),\tTest : 88.28%(88.59%),\tCurrent Time: 20250720-130929\n"
     ]
    },
    {
     "name": "stderr",
     "output_type": "stream",
     "text": [
      "Epoch 48/50:: 100%|\u001b[34m███████████████████\u001b[0m| 120/120 [00:02<00:00, 49.34batch/s, loss=0.257182]\u001b[0m\n"
     ]
    },
    {
     "name": "stdout",
     "output_type": "stream",
     "text": [
      "\t Loss: 7.063,\tTrain : 93.81%(93.81%),\tTest : 88.30%(88.59%),\tCurrent Time: 20250720-130932\n"
     ]
    },
    {
     "name": "stderr",
     "output_type": "stream",
     "text": [
      "Epoch 49/50:: 100%|\u001b[34m███████████████████\u001b[0m| 120/120 [00:02<00:00, 47.18batch/s, loss=0.258085]\u001b[0m\n"
     ]
    },
    {
     "name": "stdout",
     "output_type": "stream",
     "text": [
      "\t Loss: 7.040,\tTrain : 93.80%(93.81%),\tTest : 88.36%(88.59%),\tCurrent Time: 20250720-130935\n"
     ]
    },
    {
     "name": "stderr",
     "output_type": "stream",
     "text": [
      "Epoch 50/50:: 100%|\u001b[34m███████████████████\u001b[0m| 120/120 [00:02<00:00, 47.78batch/s, loss=0.251816]\u001b[0m\n"
     ]
    },
    {
     "name": "stdout",
     "output_type": "stream",
     "text": [
      "\t Loss: 6.915,\tTrain : 94.04%(94.04%),\tTest : 88.38%(88.59%),\tCurrent Time: 20250720-130938\n",
      "First_symm_10HL_Res-Task2-0-EP_L10--FMNIST_EP_b_sc0.1- Time: 20250720-130938, Epochs: 50, Learning Rate: 0.001, Best: 94.04%  88.59%\n",
      "\n",
      "First_symm_10HL_Res-Task2-0-EP_L10--FMNIST_EP_b_sc0.1-\n"
     ]
    },
    {
     "name": "stderr",
     "output_type": "stream",
     "text": [
      "Epoch 1/50:: 100%|\u001b[34m████████████████████\u001b[0m| 120/120 [00:02<00:00, 44.86batch/s, loss=0.816671]\u001b[0m\n"
     ]
    },
    {
     "name": "stdout",
     "output_type": "stream",
     "text": [
      "\t Loss: 15.164,\tTrain : 82.53%(82.53%),\tTest : 81.01%(81.01%),\tCurrent Time: 20250720-130946\n"
     ]
    },
    {
     "name": "stderr",
     "output_type": "stream",
     "text": [
      "Epoch 2/50:: 100%|\u001b[34m████████████████████\u001b[0m| 120/120 [00:02<00:00, 48.27batch/s, loss=0.490268]\u001b[0m\n"
     ]
    },
    {
     "name": "stdout",
     "output_type": "stream",
     "text": [
      "\t Loss: 12.801,\tTrain : 85.17%(85.17%),\tTest : 83.78%(83.78%),\tCurrent Time: 20250720-130949\n"
     ]
    },
    {
     "name": "stderr",
     "output_type": "stream",
     "text": [
      "Epoch 3/50:: 100%|\u001b[34m████████████████████\u001b[0m| 120/120 [00:02<00:00, 48.10batch/s, loss=0.426364]\u001b[0m\n"
     ]
    },
    {
     "name": "stdout",
     "output_type": "stream",
     "text": [
      "\t Loss: 11.858,\tTrain : 86.64%(86.64%),\tTest : 84.78%(84.78%),\tCurrent Time: 20250720-130952\n"
     ]
    },
    {
     "name": "stderr",
     "output_type": "stream",
     "text": [
      "Epoch 4/50:: 100%|\u001b[34m████████████████████\u001b[0m| 120/120 [00:02<00:00, 48.16batch/s, loss=0.392149]\u001b[0m\n"
     ]
    },
    {
     "name": "stdout",
     "output_type": "stream",
     "text": [
      "\t Loss: 11.392,\tTrain : 87.39%(87.39%),\tTest : 85.38%(85.38%),\tCurrent Time: 20250720-130954\n"
     ]
    },
    {
     "name": "stderr",
     "output_type": "stream",
     "text": [
      "Epoch 5/50:: 100%|\u001b[34m████████████████████\u001b[0m| 120/120 [00:02<00:00, 48.21batch/s, loss=0.385575]\u001b[0m\n"
     ]
    },
    {
     "name": "stdout",
     "output_type": "stream",
     "text": [
      "\t Loss: 10.805,\tTrain : 87.75%(87.75%),\tTest : 85.72%(85.72%),\tCurrent Time: 20250720-130957\n"
     ]
    },
    {
     "name": "stderr",
     "output_type": "stream",
     "text": [
      "Epoch 6/50:: 100%|\u001b[34m████████████████████\u001b[0m| 120/120 [00:02<00:00, 48.50batch/s, loss=0.367168]\u001b[0m\n"
     ]
    },
    {
     "name": "stdout",
     "output_type": "stream",
     "text": [
      "\t Loss: 11.512,\tTrain : 87.47%(87.75%),\tTest : 85.37%(85.72%),\tCurrent Time: 20250720-131000\n"
     ]
    },
    {
     "name": "stderr",
     "output_type": "stream",
     "text": [
      "Epoch 7/50:: 100%|\u001b[34m████████████████████\u001b[0m| 120/120 [00:02<00:00, 48.15batch/s, loss=0.361832]\u001b[0m\n"
     ]
    },
    {
     "name": "stdout",
     "output_type": "stream",
     "text": [
      "\t Loss: 11.113,\tTrain : 87.89%(87.89%),\tTest : 85.70%(85.72%),\tCurrent Time: 20250720-131003\n"
     ]
    },
    {
     "name": "stderr",
     "output_type": "stream",
     "text": [
      "Epoch 8/50:: 100%|\u001b[34m████████████████████\u001b[0m| 120/120 [00:02<00:00, 44.63batch/s, loss=0.345087]\u001b[0m\n"
     ]
    },
    {
     "name": "stdout",
     "output_type": "stream",
     "text": [
      "\t Loss: 9.327,\tTrain : 89.58%(89.58%),\tTest : 87.33%(87.33%),\tCurrent Time: 20250720-131006\n"
     ]
    },
    {
     "name": "stderr",
     "output_type": "stream",
     "text": [
      "Epoch 9/50:: 100%|\u001b[34m████████████████████\u001b[0m| 120/120 [00:02<00:00, 47.90batch/s, loss=0.333864]\u001b[0m\n"
     ]
    },
    {
     "name": "stdout",
     "output_type": "stream",
     "text": [
      "\t Loss: 9.407,\tTrain : 89.81%(89.81%),\tTest : 87.27%(87.33%),\tCurrent Time: 20250720-131009\n"
     ]
    },
    {
     "name": "stderr",
     "output_type": "stream",
     "text": [
      "Epoch 10/50:: 100%|\u001b[34m███████████████████\u001b[0m| 120/120 [00:02<00:00, 47.90batch/s, loss=0.332964]\u001b[0m\n"
     ]
    },
    {
     "name": "stdout",
     "output_type": "stream",
     "text": [
      "\t Loss: 9.649,\tTrain : 89.39%(89.81%),\tTest : 87.16%(87.33%),\tCurrent Time: 20250720-131012\n"
     ]
    },
    {
     "name": "stderr",
     "output_type": "stream",
     "text": [
      "Epoch 11/50:: 100%|\u001b[34m███████████████████\u001b[0m| 120/120 [00:02<00:00, 48.06batch/s, loss=0.324206]\u001b[0m\n"
     ]
    },
    {
     "name": "stdout",
     "output_type": "stream",
     "text": [
      "\t Loss: 10.225,\tTrain : 89.43%(89.81%),\tTest : 87.03%(87.33%),\tCurrent Time: 20250720-131015\n"
     ]
    },
    {
     "name": "stderr",
     "output_type": "stream",
     "text": [
      "Epoch 12/50:: 100%|\u001b[34m███████████████████\u001b[0m| 120/120 [00:02<00:00, 47.36batch/s, loss=0.323708]\u001b[0m\n"
     ]
    },
    {
     "name": "stdout",
     "output_type": "stream",
     "text": [
      "\t Loss: 9.819,\tTrain : 89.57%(89.81%),\tTest : 87.12%(87.33%),\tCurrent Time: 20250720-131018\n"
     ]
    },
    {
     "name": "stderr",
     "output_type": "stream",
     "text": [
      "Epoch 13/50:: 100%|\u001b[34m███████████████████\u001b[0m| 120/120 [00:02<00:00, 47.85batch/s, loss=0.314492]\u001b[0m\n"
     ]
    },
    {
     "name": "stdout",
     "output_type": "stream",
     "text": [
      "\t Loss: 8.942,\tTrain : 90.53%(90.53%),\tTest : 87.64%(87.64%),\tCurrent Time: 20250720-131021\n"
     ]
    },
    {
     "name": "stderr",
     "output_type": "stream",
     "text": [
      "Epoch 14/50:: 100%|\u001b[34m███████████████████\u001b[0m| 120/120 [00:02<00:00, 47.89batch/s, loss=0.317964]\u001b[0m\n"
     ]
    },
    {
     "name": "stdout",
     "output_type": "stream",
     "text": [
      "\t Loss: 9.684,\tTrain : 89.82%(90.53%),\tTest : 87.14%(87.64%),\tCurrent Time: 20250720-131024\n"
     ]
    },
    {
     "name": "stderr",
     "output_type": "stream",
     "text": [
      "Epoch 15/50:: 100%|\u001b[34m███████████████████\u001b[0m| 120/120 [00:02<00:00, 48.12batch/s, loss=0.324822]\u001b[0m\n"
     ]
    },
    {
     "name": "stdout",
     "output_type": "stream",
     "text": [
      "\t Loss: 9.293,\tTrain : 90.16%(90.53%),\tTest : 86.92%(87.64%),\tCurrent Time: 20250720-131027\n"
     ]
    },
    {
     "name": "stderr",
     "output_type": "stream",
     "text": [
      "Epoch 16/50:: 100%|\u001b[34m███████████████████\u001b[0m| 120/120 [00:02<00:00, 47.84batch/s, loss=0.304233]\u001b[0m\n"
     ]
    },
    {
     "name": "stdout",
     "output_type": "stream",
     "text": [
      "\t Loss: 8.490,\tTrain : 91.03%(91.03%),\tTest : 87.82%(87.82%),\tCurrent Time: 20250720-131030\n"
     ]
    },
    {
     "name": "stderr",
     "output_type": "stream",
     "text": [
      "Epoch 17/50:: 100%|\u001b[34m███████████████████\u001b[0m| 120/120 [00:02<00:00, 48.04batch/s, loss=0.305674]\u001b[0m\n"
     ]
    },
    {
     "name": "stdout",
     "output_type": "stream",
     "text": [
      "\t Loss: 8.745,\tTrain : 90.78%(91.03%),\tTest : 87.50%(87.82%),\tCurrent Time: 20250720-131033\n"
     ]
    },
    {
     "name": "stderr",
     "output_type": "stream",
     "text": [
      "Epoch 18/50:: 100%|\u001b[34m███████████████████\u001b[0m| 120/120 [00:02<00:00, 48.03batch/s, loss=0.295798]\u001b[0m\n"
     ]
    },
    {
     "name": "stdout",
     "output_type": "stream",
     "text": [
      "\t Loss: 8.786,\tTrain : 90.79%(91.03%),\tTest : 87.23%(87.82%),\tCurrent Time: 20250720-131036\n"
     ]
    },
    {
     "name": "stderr",
     "output_type": "stream",
     "text": [
      "Epoch 19/50:: 100%|\u001b[34m███████████████████\u001b[0m| 120/120 [00:02<00:00, 48.02batch/s, loss=0.299663]\u001b[0m\n"
     ]
    },
    {
     "name": "stdout",
     "output_type": "stream",
     "text": [
      "\t Loss: 8.972,\tTrain : 91.03%(91.03%),\tTest : 87.41%(87.82%),\tCurrent Time: 20250720-131039\n"
     ]
    },
    {
     "name": "stderr",
     "output_type": "stream",
     "text": [
      "Epoch 20/50:: 100%|\u001b[34m███████████████████\u001b[0m| 120/120 [00:02<00:00, 47.97batch/s, loss=0.292509]\u001b[0m\n"
     ]
    },
    {
     "name": "stdout",
     "output_type": "stream",
     "text": [
      "\t Loss: 8.537,\tTrain : 91.29%(91.29%),\tTest : 87.82%(87.82%),\tCurrent Time: 20250720-131042\n"
     ]
    },
    {
     "name": "stderr",
     "output_type": "stream",
     "text": [
      "Epoch 21/50:: 100%|\u001b[34m███████████████████\u001b[0m| 120/120 [00:02<00:00, 48.08batch/s, loss=0.285662]\u001b[0m\n"
     ]
    },
    {
     "name": "stdout",
     "output_type": "stream",
     "text": [
      "\t Loss: 7.530,\tTrain : 92.09%(92.09%),\tTest : 88.40%(88.40%),\tCurrent Time: 20250720-131045\n"
     ]
    },
    {
     "name": "stderr",
     "output_type": "stream",
     "text": [
      "Epoch 22/50:: 100%|\u001b[34m███████████████████\u001b[0m| 120/120 [00:02<00:00, 48.06batch/s, loss=0.293650]\u001b[0m\n"
     ]
    },
    {
     "name": "stdout",
     "output_type": "stream",
     "text": [
      "\t Loss: 8.864,\tTrain : 91.18%(92.09%),\tTest : 87.52%(88.40%),\tCurrent Time: 20250720-131048\n"
     ]
    },
    {
     "name": "stderr",
     "output_type": "stream",
     "text": [
      "Epoch 23/50:: 100%|\u001b[34m███████████████████\u001b[0m| 120/120 [00:02<00:00, 48.17batch/s, loss=0.283695]\u001b[0m\n"
     ]
    },
    {
     "name": "stdout",
     "output_type": "stream",
     "text": [
      "\t Loss: 8.114,\tTrain : 91.87%(92.09%),\tTest : 88.11%(88.40%),\tCurrent Time: 20250720-131051\n"
     ]
    },
    {
     "name": "stderr",
     "output_type": "stream",
     "text": [
      "Epoch 24/50:: 100%|\u001b[34m███████████████████\u001b[0m| 120/120 [00:02<00:00, 48.07batch/s, loss=0.283367]\u001b[0m\n"
     ]
    },
    {
     "name": "stdout",
     "output_type": "stream",
     "text": [
      "\t Loss: 7.722,\tTrain : 92.30%(92.30%),\tTest : 88.44%(88.44%),\tCurrent Time: 20250720-131054\n"
     ]
    },
    {
     "name": "stderr",
     "output_type": "stream",
     "text": [
      "Epoch 25/50:: 100%|\u001b[34m███████████████████\u001b[0m| 120/120 [00:02<00:00, 47.95batch/s, loss=0.282858]\u001b[0m\n"
     ]
    },
    {
     "name": "stdout",
     "output_type": "stream",
     "text": [
      "\t Loss: 8.424,\tTrain : 91.33%(92.30%),\tTest : 87.38%(88.44%),\tCurrent Time: 20250720-131057\n"
     ]
    },
    {
     "name": "stderr",
     "output_type": "stream",
     "text": [
      "Epoch 26/50:: 100%|\u001b[34m███████████████████\u001b[0m| 120/120 [00:02<00:00, 48.03batch/s, loss=0.298235]\u001b[0m\n"
     ]
    },
    {
     "name": "stdout",
     "output_type": "stream",
     "text": [
      "\t Loss: 8.559,\tTrain : 91.78%(92.30%),\tTest : 88.38%(88.44%),\tCurrent Time: 20250720-131100\n"
     ]
    },
    {
     "name": "stderr",
     "output_type": "stream",
     "text": [
      "Epoch 27/50:: 100%|\u001b[34m███████████████████\u001b[0m| 120/120 [00:02<00:00, 48.05batch/s, loss=0.286214]\u001b[0m\n"
     ]
    },
    {
     "name": "stdout",
     "output_type": "stream",
     "text": [
      "\t Loss: 8.200,\tTrain : 92.14%(92.30%),\tTest : 88.09%(88.44%),\tCurrent Time: 20250720-131103\n"
     ]
    },
    {
     "name": "stderr",
     "output_type": "stream",
     "text": [
      "Epoch 28/50:: 100%|\u001b[34m███████████████████\u001b[0m| 120/120 [00:02<00:00, 47.98batch/s, loss=0.294342]\u001b[0m\n"
     ]
    },
    {
     "name": "stdout",
     "output_type": "stream",
     "text": [
      "\t Loss: 9.320,\tTrain : 91.19%(92.30%),\tTest : 87.47%(88.44%),\tCurrent Time: 20250720-131106\n"
     ]
    },
    {
     "name": "stderr",
     "output_type": "stream",
     "text": [
      "Epoch 29/50:: 100%|\u001b[34m███████████████████\u001b[0m| 120/120 [00:02<00:00, 47.92batch/s, loss=0.283993]\u001b[0m\n"
     ]
    },
    {
     "name": "stdout",
     "output_type": "stream",
     "text": [
      "\t Loss: 7.412,\tTrain : 92.48%(92.48%),\tTest : 88.04%(88.44%),\tCurrent Time: 20250720-131109\n"
     ]
    },
    {
     "name": "stderr",
     "output_type": "stream",
     "text": [
      "Epoch 30/50:: 100%|\u001b[34m███████████████████\u001b[0m| 120/120 [00:02<00:00, 47.99batch/s, loss=0.272345]\u001b[0m\n"
     ]
    },
    {
     "name": "stdout",
     "output_type": "stream",
     "text": [
      "\t Loss: 8.149,\tTrain : 91.69%(92.48%),\tTest : 87.64%(88.44%),\tCurrent Time: 20250720-131112\n"
     ]
    },
    {
     "name": "stderr",
     "output_type": "stream",
     "text": [
      "Epoch 31/50:: 100%|\u001b[34m███████████████████\u001b[0m| 120/120 [00:02<00:00, 48.03batch/s, loss=0.281719]\u001b[0m\n"
     ]
    },
    {
     "name": "stdout",
     "output_type": "stream",
     "text": [
      "\t Loss: 7.553,\tTrain : 92.40%(92.48%),\tTest : 88.02%(88.44%),\tCurrent Time: 20250720-131115\n"
     ]
    },
    {
     "name": "stderr",
     "output_type": "stream",
     "text": [
      "Epoch 32/50:: 100%|\u001b[34m███████████████████\u001b[0m| 120/120 [00:02<00:00, 47.37batch/s, loss=0.274732]\u001b[0m\n"
     ]
    },
    {
     "name": "stdout",
     "output_type": "stream",
     "text": [
      "\t Loss: 7.770,\tTrain : 92.65%(92.65%),\tTest : 88.34%(88.44%),\tCurrent Time: 20250720-131118\n"
     ]
    },
    {
     "name": "stderr",
     "output_type": "stream",
     "text": [
      "Epoch 33/50:: 100%|\u001b[34m███████████████████\u001b[0m| 120/120 [00:02<00:00, 48.21batch/s, loss=0.282502]\u001b[0m\n"
     ]
    },
    {
     "name": "stdout",
     "output_type": "stream",
     "text": [
      "\t Loss: 7.325,\tTrain : 92.62%(92.65%),\tTest : 87.94%(88.44%),\tCurrent Time: 20250720-131121\n"
     ]
    },
    {
     "name": "stderr",
     "output_type": "stream",
     "text": [
      "Epoch 34/50:: 100%|\u001b[34m███████████████████\u001b[0m| 120/120 [00:02<00:00, 48.50batch/s, loss=0.278554]\u001b[0m\n"
     ]
    },
    {
     "name": "stdout",
     "output_type": "stream",
     "text": [
      "\t Loss: 7.568,\tTrain : 92.48%(92.65%),\tTest : 87.85%(88.44%),\tCurrent Time: 20250720-131124\n"
     ]
    },
    {
     "name": "stderr",
     "output_type": "stream",
     "text": [
      "Epoch 35/50:: 100%|\u001b[34m███████████████████\u001b[0m| 120/120 [00:02<00:00, 49.07batch/s, loss=0.291923]\u001b[0m\n"
     ]
    },
    {
     "name": "stdout",
     "output_type": "stream",
     "text": [
      "\t Loss: 8.061,\tTrain : 92.59%(92.65%),\tTest : 87.96%(88.44%),\tCurrent Time: 20250720-131127\n"
     ]
    },
    {
     "name": "stderr",
     "output_type": "stream",
     "text": [
      "Epoch 36/50:: 100%|\u001b[34m███████████████████\u001b[0m| 120/120 [00:02<00:00, 48.17batch/s, loss=0.285950]\u001b[0m\n"
     ]
    },
    {
     "name": "stdout",
     "output_type": "stream",
     "text": [
      "\t Loss: 8.372,\tTrain : 92.36%(92.65%),\tTest : 87.85%(88.44%),\tCurrent Time: 20250720-131130\n"
     ]
    },
    {
     "name": "stderr",
     "output_type": "stream",
     "text": [
      "Epoch 37/50:: 100%|\u001b[34m███████████████████\u001b[0m| 120/120 [00:02<00:00, 48.21batch/s, loss=0.285420]\u001b[0m\n"
     ]
    },
    {
     "name": "stdout",
     "output_type": "stream",
     "text": [
      "\t Loss: 10.387,\tTrain : 91.28%(92.65%),\tTest : 87.24%(88.44%),\tCurrent Time: 20250720-131133\n"
     ]
    },
    {
     "name": "stderr",
     "output_type": "stream",
     "text": [
      "Epoch 38/50:: 100%|\u001b[34m███████████████████\u001b[0m| 120/120 [00:02<00:00, 48.34batch/s, loss=0.279091]\u001b[0m\n"
     ]
    },
    {
     "name": "stdout",
     "output_type": "stream",
     "text": [
      "\t Loss: 7.999,\tTrain : 92.79%(92.79%),\tTest : 87.88%(88.44%),\tCurrent Time: 20250720-131136\n"
     ]
    },
    {
     "name": "stderr",
     "output_type": "stream",
     "text": [
      "Epoch 39/50:: 100%|\u001b[34m███████████████████\u001b[0m| 120/120 [00:02<00:00, 48.29batch/s, loss=0.294892]\u001b[0m\n"
     ]
    },
    {
     "name": "stdout",
     "output_type": "stream",
     "text": [
      "\t Loss: 10.228,\tTrain : 92.10%(92.79%),\tTest : 87.89%(88.44%),\tCurrent Time: 20250720-131138\n"
     ]
    },
    {
     "name": "stderr",
     "output_type": "stream",
     "text": [
      "Epoch 40/50:: 100%|\u001b[34m███████████████████\u001b[0m| 120/120 [00:02<00:00, 48.15batch/s, loss=0.318922]\u001b[0m\n"
     ]
    },
    {
     "name": "stdout",
     "output_type": "stream",
     "text": [
      "\t Loss: 10.344,\tTrain : 90.89%(92.79%),\tTest : 86.64%(88.44%),\tCurrent Time: 20250720-131141\n"
     ]
    },
    {
     "name": "stderr",
     "output_type": "stream",
     "text": [
      "Epoch 41/50:: 100%|\u001b[34m███████████████████\u001b[0m| 120/120 [00:02<00:00, 48.23batch/s, loss=0.324048]\u001b[0m\n"
     ]
    },
    {
     "name": "stdout",
     "output_type": "stream",
     "text": [
      "\t Loss: 9.043,\tTrain : 92.10%(92.79%),\tTest : 87.94%(88.44%),\tCurrent Time: 20250720-131144\n"
     ]
    },
    {
     "name": "stderr",
     "output_type": "stream",
     "text": [
      "Epoch 42/50:: 100%|\u001b[34m███████████████████\u001b[0m| 120/120 [00:02<00:00, 48.32batch/s, loss=0.303005]\u001b[0m\n"
     ]
    },
    {
     "name": "stdout",
     "output_type": "stream",
     "text": [
      "\t Loss: 8.941,\tTrain : 92.20%(92.79%),\tTest : 87.65%(88.44%),\tCurrent Time: 20250720-131147\n"
     ]
    },
    {
     "name": "stderr",
     "output_type": "stream",
     "text": [
      "Epoch 43/50:: 100%|\u001b[34m███████████████████\u001b[0m| 120/120 [00:02<00:00, 48.20batch/s, loss=0.317253]\u001b[0m\n"
     ]
    },
    {
     "name": "stdout",
     "output_type": "stream",
     "text": [
      "\t Loss: 13.139,\tTrain : 90.46%(92.79%),\tTest : 86.49%(88.44%),\tCurrent Time: 20250720-131150\n"
     ]
    },
    {
     "name": "stderr",
     "output_type": "stream",
     "text": [
      "Epoch 44/50:: 100%|\u001b[34m███████████████████\u001b[0m| 120/120 [00:02<00:00, 47.79batch/s, loss=0.333996]\u001b[0m\n"
     ]
    },
    {
     "name": "stdout",
     "output_type": "stream",
     "text": [
      "\t Loss: 10.685,\tTrain : 90.93%(92.79%),\tTest : 86.48%(88.44%),\tCurrent Time: 20250720-131153\n"
     ]
    },
    {
     "name": "stderr",
     "output_type": "stream",
     "text": [
      "Epoch 45/50:: 100%|\u001b[34m███████████████████\u001b[0m| 120/120 [00:02<00:00, 48.40batch/s, loss=0.332253]\u001b[0m\n"
     ]
    },
    {
     "name": "stdout",
     "output_type": "stream",
     "text": [
      "\t Loss: 9.880,\tTrain : 92.09%(92.79%),\tTest : 87.74%(88.44%),\tCurrent Time: 20250720-131156\n"
     ]
    },
    {
     "name": "stderr",
     "output_type": "stream",
     "text": [
      "Epoch 46/50:: 100%|\u001b[34m███████████████████\u001b[0m| 120/120 [00:02<00:00, 48.20batch/s, loss=0.304895]\u001b[0m\n"
     ]
    },
    {
     "name": "stdout",
     "output_type": "stream",
     "text": [
      "\t Loss: 9.695,\tTrain : 92.36%(92.79%),\tTest : 87.96%(88.44%),\tCurrent Time: 20250720-131159\n"
     ]
    },
    {
     "name": "stderr",
     "output_type": "stream",
     "text": [
      "Epoch 47/50:: 100%|\u001b[34m███████████████████\u001b[0m| 120/120 [00:02<00:00, 48.33batch/s, loss=0.329216]\u001b[0m\n"
     ]
    },
    {
     "name": "stdout",
     "output_type": "stream",
     "text": [
      "\t Loss: 8.019,\tTrain : 92.96%(92.96%),\tTest : 87.76%(88.44%),\tCurrent Time: 20250720-131202\n"
     ]
    },
    {
     "name": "stderr",
     "output_type": "stream",
     "text": [
      "Epoch 48/50:: 100%|\u001b[34m███████████████████\u001b[0m| 120/120 [00:02<00:00, 48.36batch/s, loss=0.312051]\u001b[0m\n"
     ]
    },
    {
     "name": "stdout",
     "output_type": "stream",
     "text": [
      "\t Loss: 8.597,\tTrain : 93.03%(93.03%),\tTest : 87.97%(88.44%),\tCurrent Time: 20250720-131205\n"
     ]
    },
    {
     "name": "stderr",
     "output_type": "stream",
     "text": [
      "Epoch 49/50:: 100%|\u001b[34m███████████████████\u001b[0m| 120/120 [00:02<00:00, 48.20batch/s, loss=0.338519]\u001b[0m\n"
     ]
    },
    {
     "name": "stdout",
     "output_type": "stream",
     "text": [
      "\t Loss: 9.037,\tTrain : 92.74%(93.03%),\tTest : 87.94%(88.44%),\tCurrent Time: 20250720-131208\n"
     ]
    },
    {
     "name": "stderr",
     "output_type": "stream",
     "text": [
      "Epoch 50/50:: 100%|\u001b[34m███████████████████\u001b[0m| 120/120 [00:02<00:00, 48.36batch/s, loss=0.323982]\u001b[0m\n"
     ]
    },
    {
     "name": "stdout",
     "output_type": "stream",
     "text": [
      "\t Loss: 9.011,\tTrain : 92.59%(93.03%),\tTest : 87.60%(88.44%),\tCurrent Time: 20250720-131211\n",
      "First_symm_10HL_Res-Task2-0-EP_L10--FMNIST_EP_b_sc0.1- Time: 20250720-131211, Epochs: 50, Learning Rate: 0.001, Best: 93.03%  88.44%\n",
      "\n",
      "First_symm_10HL_Res-Task2-0-EP_L10--FMNIST_EP_b_sc0.1-\n"
     ]
    },
    {
     "name": "stderr",
     "output_type": "stream",
     "text": [
      "Epoch 1/50:: 100%|\u001b[34m████████████████████\u001b[0m| 120/120 [00:02<00:00, 44.94batch/s, loss=0.765822]\u001b[0m\n"
     ]
    },
    {
     "name": "stdout",
     "output_type": "stream",
     "text": [
      "\t Loss: 15.454,\tTrain : 82.98%(82.98%),\tTest : 81.69%(81.69%),\tCurrent Time: 20250720-131219\n"
     ]
    },
    {
     "name": "stderr",
     "output_type": "stream",
     "text": [
      "Epoch 2/50:: 100%|\u001b[34m████████████████████\u001b[0m| 120/120 [00:02<00:00, 48.42batch/s, loss=0.473971]\u001b[0m\n"
     ]
    },
    {
     "name": "stdout",
     "output_type": "stream",
     "text": [
      "\t Loss: 12.945,\tTrain : 85.51%(85.51%),\tTest : 83.71%(83.71%),\tCurrent Time: 20250720-131222\n"
     ]
    },
    {
     "name": "stderr",
     "output_type": "stream",
     "text": [
      "Epoch 3/50:: 100%|\u001b[34m████████████████████\u001b[0m| 120/120 [00:02<00:00, 48.41batch/s, loss=0.422232]\u001b[0m\n"
     ]
    },
    {
     "name": "stdout",
     "output_type": "stream",
     "text": [
      "\t Loss: 11.941,\tTrain : 86.10%(86.10%),\tTest : 84.52%(84.52%),\tCurrent Time: 20250720-131225\n"
     ]
    },
    {
     "name": "stderr",
     "output_type": "stream",
     "text": [
      "Epoch 4/50:: 100%|\u001b[34m████████████████████\u001b[0m| 120/120 [00:02<00:00, 48.38batch/s, loss=0.407709]\u001b[0m\n"
     ]
    },
    {
     "name": "stdout",
     "output_type": "stream",
     "text": [
      "\t Loss: 11.356,\tTrain : 86.89%(86.89%),\tTest : 85.20%(85.20%),\tCurrent Time: 20250720-131227\n"
     ]
    },
    {
     "name": "stderr",
     "output_type": "stream",
     "text": [
      "Epoch 5/50:: 100%|\u001b[34m████████████████████\u001b[0m| 120/120 [00:02<00:00, 48.45batch/s, loss=0.375725]\u001b[0m\n"
     ]
    },
    {
     "name": "stdout",
     "output_type": "stream",
     "text": [
      "\t Loss: 10.415,\tTrain : 88.20%(88.20%),\tTest : 86.19%(86.19%),\tCurrent Time: 20250720-131230\n"
     ]
    },
    {
     "name": "stderr",
     "output_type": "stream",
     "text": [
      "Epoch 6/50:: 100%|\u001b[34m████████████████████\u001b[0m| 120/120 [00:02<00:00, 48.33batch/s, loss=0.366952]\u001b[0m\n"
     ]
    },
    {
     "name": "stdout",
     "output_type": "stream",
     "text": [
      "\t Loss: 11.122,\tTrain : 87.75%(88.20%),\tTest : 86.11%(86.19%),\tCurrent Time: 20250720-131233\n"
     ]
    },
    {
     "name": "stderr",
     "output_type": "stream",
     "text": [
      "Epoch 7/50:: 100%|\u001b[34m████████████████████\u001b[0m| 120/120 [00:02<00:00, 48.36batch/s, loss=0.357141]\u001b[0m\n"
     ]
    },
    {
     "name": "stdout",
     "output_type": "stream",
     "text": [
      "\t Loss: 11.431,\tTrain : 87.28%(88.20%),\tTest : 85.25%(86.19%),\tCurrent Time: 20250720-131236\n"
     ]
    },
    {
     "name": "stderr",
     "output_type": "stream",
     "text": [
      "Epoch 8/50:: 100%|\u001b[34m████████████████████\u001b[0m| 120/120 [00:02<00:00, 48.37batch/s, loss=0.355758]\u001b[0m\n"
     ]
    },
    {
     "name": "stdout",
     "output_type": "stream",
     "text": [
      "\t Loss: 9.736,\tTrain : 89.35%(89.35%),\tTest : 87.22%(87.22%),\tCurrent Time: 20250720-131239\n"
     ]
    },
    {
     "name": "stderr",
     "output_type": "stream",
     "text": [
      "Epoch 9/50:: 100%|\u001b[34m████████████████████\u001b[0m| 120/120 [00:02<00:00, 48.41batch/s, loss=0.335136]\u001b[0m\n"
     ]
    },
    {
     "name": "stdout",
     "output_type": "stream",
     "text": [
      "\t Loss: 9.937,\tTrain : 88.95%(89.35%),\tTest : 86.52%(87.22%),\tCurrent Time: 20250720-131242\n"
     ]
    },
    {
     "name": "stderr",
     "output_type": "stream",
     "text": [
      "Epoch 10/50:: 100%|\u001b[34m███████████████████\u001b[0m| 120/120 [00:02<00:00, 47.98batch/s, loss=0.332228]\u001b[0m\n"
     ]
    },
    {
     "name": "stdout",
     "output_type": "stream",
     "text": [
      "\t Loss: 10.649,\tTrain : 88.71%(89.35%),\tTest : 86.20%(87.22%),\tCurrent Time: 20250720-131245\n"
     ]
    },
    {
     "name": "stderr",
     "output_type": "stream",
     "text": [
      "Epoch 11/50:: 100%|\u001b[34m███████████████████\u001b[0m| 120/120 [00:02<00:00, 48.32batch/s, loss=0.334738]\u001b[0m\n"
     ]
    },
    {
     "name": "stdout",
     "output_type": "stream",
     "text": [
      "\t Loss: 9.333,\tTrain : 89.90%(89.90%),\tTest : 87.28%(87.28%),\tCurrent Time: 20250720-131248\n"
     ]
    },
    {
     "name": "stderr",
     "output_type": "stream",
     "text": [
      "Epoch 12/50:: 100%|\u001b[34m███████████████████\u001b[0m| 120/120 [00:02<00:00, 48.40batch/s, loss=0.334802]\u001b[0m\n"
     ]
    },
    {
     "name": "stdout",
     "output_type": "stream",
     "text": [
      "\t Loss: 10.536,\tTrain : 89.07%(89.90%),\tTest : 86.34%(87.28%),\tCurrent Time: 20250720-131251\n"
     ]
    },
    {
     "name": "stderr",
     "output_type": "stream",
     "text": [
      "Epoch 13/50:: 100%|\u001b[34m███████████████████\u001b[0m| 120/120 [00:02<00:00, 47.41batch/s, loss=0.333009]\u001b[0m\n"
     ]
    },
    {
     "name": "stdout",
     "output_type": "stream",
     "text": [
      "\t Loss: 9.225,\tTrain : 90.47%(90.47%),\tTest : 87.46%(87.46%),\tCurrent Time: 20250720-131254\n"
     ]
    },
    {
     "name": "stderr",
     "output_type": "stream",
     "text": [
      "Epoch 14/50:: 100%|\u001b[34m███████████████████\u001b[0m| 120/120 [00:02<00:00, 48.25batch/s, loss=0.322609]\u001b[0m\n"
     ]
    },
    {
     "name": "stdout",
     "output_type": "stream",
     "text": [
      "\t Loss: 9.816,\tTrain : 90.55%(90.55%),\tTest : 87.55%(87.55%),\tCurrent Time: 20250720-131257\n"
     ]
    },
    {
     "name": "stderr",
     "output_type": "stream",
     "text": [
      "Epoch 15/50:: 100%|\u001b[34m███████████████████\u001b[0m| 120/120 [00:02<00:00, 48.14batch/s, loss=0.327286]\u001b[0m\n"
     ]
    },
    {
     "name": "stdout",
     "output_type": "stream",
     "text": [
      "\t Loss: 8.991,\tTrain : 90.99%(90.99%),\tTest : 88.08%(88.08%),\tCurrent Time: 20250720-131300\n"
     ]
    },
    {
     "name": "stderr",
     "output_type": "stream",
     "text": [
      "Epoch 16/50:: 100%|\u001b[34m███████████████████\u001b[0m| 120/120 [00:02<00:00, 48.30batch/s, loss=0.328624]\u001b[0m\n"
     ]
    },
    {
     "name": "stdout",
     "output_type": "stream",
     "text": [
      "\t Loss: 9.704,\tTrain : 90.60%(90.99%),\tTest : 87.42%(88.08%),\tCurrent Time: 20250720-131303\n"
     ]
    },
    {
     "name": "stderr",
     "output_type": "stream",
     "text": [
      "Epoch 17/50:: 100%|\u001b[34m███████████████████\u001b[0m| 120/120 [00:02<00:00, 47.94batch/s, loss=0.332064]\u001b[0m\n"
     ]
    },
    {
     "name": "stdout",
     "output_type": "stream",
     "text": [
      "\t Loss: 9.269,\tTrain : 91.04%(91.04%),\tTest : 87.86%(88.08%),\tCurrent Time: 20250720-131306\n"
     ]
    },
    {
     "name": "stderr",
     "output_type": "stream",
     "text": [
      "Epoch 18/50:: 100%|\u001b[34m███████████████████\u001b[0m| 120/120 [00:02<00:00, 48.10batch/s, loss=0.328966]\u001b[0m\n"
     ]
    },
    {
     "name": "stdout",
     "output_type": "stream",
     "text": [
      "\t Loss: 9.037,\tTrain : 91.20%(91.20%),\tTest : 87.75%(88.08%),\tCurrent Time: 20250720-131309\n"
     ]
    },
    {
     "name": "stderr",
     "output_type": "stream",
     "text": [
      "Epoch 19/50:: 100%|\u001b[34m███████████████████\u001b[0m| 120/120 [00:02<00:00, 47.68batch/s, loss=0.331431]\u001b[0m\n"
     ]
    },
    {
     "name": "stdout",
     "output_type": "stream",
     "text": [
      "\t Loss: 9.441,\tTrain : 90.96%(91.20%),\tTest : 87.76%(88.08%),\tCurrent Time: 20250720-131312\n"
     ]
    },
    {
     "name": "stderr",
     "output_type": "stream",
     "text": [
      "Epoch 20/50:: 100%|\u001b[34m███████████████████\u001b[0m| 120/120 [00:02<00:00, 48.23batch/s, loss=0.324086]\u001b[0m\n"
     ]
    },
    {
     "name": "stdout",
     "output_type": "stream",
     "text": [
      "\t Loss: 8.971,\tTrain : 91.50%(91.50%),\tTest : 87.90%(88.08%),\tCurrent Time: 20250720-131315\n"
     ]
    },
    {
     "name": "stderr",
     "output_type": "stream",
     "text": [
      "Epoch 21/50:: 100%|\u001b[34m███████████████████\u001b[0m| 120/120 [00:02<00:00, 48.82batch/s, loss=0.329333]\u001b[0m\n"
     ]
    },
    {
     "name": "stdout",
     "output_type": "stream",
     "text": [
      "\t Loss: 8.971,\tTrain : 91.23%(91.50%),\tTest : 87.77%(88.08%),\tCurrent Time: 20250720-131318\n"
     ]
    },
    {
     "name": "stderr",
     "output_type": "stream",
     "text": [
      "Epoch 22/50:: 100%|\u001b[34m███████████████████\u001b[0m| 120/120 [00:02<00:00, 49.13batch/s, loss=0.327074]\u001b[0m\n"
     ]
    },
    {
     "name": "stdout",
     "output_type": "stream",
     "text": [
      "\t Loss: 9.944,\tTrain : 91.22%(91.50%),\tTest : 87.85%(88.08%),\tCurrent Time: 20250720-131321\n"
     ]
    },
    {
     "name": "stderr",
     "output_type": "stream",
     "text": [
      "Epoch 23/50:: 100%|\u001b[34m███████████████████\u001b[0m| 120/120 [00:02<00:00, 48.58batch/s, loss=0.320241]\u001b[0m\n"
     ]
    },
    {
     "name": "stdout",
     "output_type": "stream",
     "text": [
      "\t Loss: 9.312,\tTrain : 91.35%(91.50%),\tTest : 87.75%(88.08%),\tCurrent Time: 20250720-131324\n"
     ]
    },
    {
     "name": "stderr",
     "output_type": "stream",
     "text": [
      "Epoch 24/50:: 100%|\u001b[34m███████████████████\u001b[0m| 120/120 [00:02<00:00, 48.31batch/s, loss=0.346288]\u001b[0m\n"
     ]
    },
    {
     "name": "stdout",
     "output_type": "stream",
     "text": [
      "\t Loss: 9.987,\tTrain : 91.27%(91.50%),\tTest : 87.58%(88.08%),\tCurrent Time: 20250720-131327\n"
     ]
    },
    {
     "name": "stderr",
     "output_type": "stream",
     "text": [
      "Epoch 25/50:: 100%|\u001b[34m███████████████████\u001b[0m| 120/120 [00:02<00:00, 48.19batch/s, loss=0.335962]\u001b[0m\n"
     ]
    },
    {
     "name": "stdout",
     "output_type": "stream",
     "text": [
      "\t Loss: 10.441,\tTrain : 91.07%(91.50%),\tTest : 87.31%(88.08%),\tCurrent Time: 20250720-131330\n"
     ]
    },
    {
     "name": "stderr",
     "output_type": "stream",
     "text": [
      "Epoch 26/50:: 100%|\u001b[34m███████████████████\u001b[0m| 120/120 [00:02<00:00, 47.75batch/s, loss=0.350589]\u001b[0m\n"
     ]
    },
    {
     "name": "stdout",
     "output_type": "stream",
     "text": [
      "\t Loss: 8.991,\tTrain : 92.01%(92.01%),\tTest : 88.10%(88.10%),\tCurrent Time: 20250720-131333\n"
     ]
    },
    {
     "name": "stderr",
     "output_type": "stream",
     "text": [
      "Epoch 27/50:: 100%|\u001b[34m███████████████████\u001b[0m| 120/120 [00:02<00:00, 48.25batch/s, loss=0.355340]\u001b[0m\n"
     ]
    },
    {
     "name": "stdout",
     "output_type": "stream",
     "text": [
      "\t Loss: 9.905,\tTrain : 91.44%(92.01%),\tTest : 87.55%(88.10%),\tCurrent Time: 20250720-131335\n"
     ]
    },
    {
     "name": "stderr",
     "output_type": "stream",
     "text": [
      "Epoch 28/50:: 100%|\u001b[34m███████████████████\u001b[0m| 120/120 [00:02<00:00, 48.16batch/s, loss=0.352804]\u001b[0m\n"
     ]
    },
    {
     "name": "stdout",
     "output_type": "stream",
     "text": [
      "\t Loss: 9.754,\tTrain : 91.67%(92.01%),\tTest : 87.84%(88.10%),\tCurrent Time: 20250720-131338\n"
     ]
    },
    {
     "name": "stderr",
     "output_type": "stream",
     "text": [
      "Epoch 29/50:: 100%|\u001b[34m███████████████████\u001b[0m| 120/120 [00:02<00:00, 49.31batch/s, loss=0.350256]\u001b[0m\n"
     ]
    },
    {
     "name": "stdout",
     "output_type": "stream",
     "text": [
      "\t Loss: 8.758,\tTrain : 92.36%(92.36%),\tTest : 87.97%(88.10%),\tCurrent Time: 20250720-131341\n"
     ]
    },
    {
     "name": "stderr",
     "output_type": "stream",
     "text": [
      "Epoch 30/50:: 100%|\u001b[34m███████████████████\u001b[0m| 120/120 [00:02<00:00, 48.78batch/s, loss=0.348268]\u001b[0m\n"
     ]
    },
    {
     "name": "stdout",
     "output_type": "stream",
     "text": [
      "\t Loss: 9.703,\tTrain : 91.76%(92.36%),\tTest : 87.60%(88.10%),\tCurrent Time: 20250720-131344\n"
     ]
    },
    {
     "name": "stderr",
     "output_type": "stream",
     "text": [
      "Epoch 31/50:: 100%|\u001b[34m███████████████████\u001b[0m| 120/120 [00:02<00:00, 48.38batch/s, loss=0.369439]\u001b[0m\n"
     ]
    },
    {
     "name": "stdout",
     "output_type": "stream",
     "text": [
      "\t Loss: 11.698,\tTrain : 90.86%(92.36%),\tTest : 86.92%(88.10%),\tCurrent Time: 20250720-131347\n"
     ]
    },
    {
     "name": "stderr",
     "output_type": "stream",
     "text": [
      "Epoch 32/50:: 100%|\u001b[34m███████████████████\u001b[0m| 120/120 [00:02<00:00, 47.97batch/s, loss=0.375719]\u001b[0m\n"
     ]
    },
    {
     "name": "stdout",
     "output_type": "stream",
     "text": [
      "\t Loss: 8.811,\tTrain : 92.16%(92.36%),\tTest : 87.77%(88.10%),\tCurrent Time: 20250720-131350\n"
     ]
    },
    {
     "name": "stderr",
     "output_type": "stream",
     "text": [
      "Epoch 33/50:: 100%|\u001b[34m███████████████████\u001b[0m| 120/120 [00:02<00:00, 48.31batch/s, loss=0.358883]\u001b[0m\n"
     ]
    },
    {
     "name": "stdout",
     "output_type": "stream",
     "text": [
      "\t Loss: 9.467,\tTrain : 92.07%(92.36%),\tTest : 87.94%(88.10%),\tCurrent Time: 20250720-131353\n"
     ]
    },
    {
     "name": "stderr",
     "output_type": "stream",
     "text": [
      "Epoch 34/50:: 100%|\u001b[34m███████████████████\u001b[0m| 120/120 [00:02<00:00, 48.25batch/s, loss=0.354379]\u001b[0m\n"
     ]
    },
    {
     "name": "stdout",
     "output_type": "stream",
     "text": [
      "\t Loss: 10.076,\tTrain : 91.94%(92.36%),\tTest : 87.92%(88.10%),\tCurrent Time: 20250720-131356\n"
     ]
    },
    {
     "name": "stderr",
     "output_type": "stream",
     "text": [
      "Epoch 35/50:: 100%|\u001b[34m███████████████████\u001b[0m| 120/120 [00:02<00:00, 48.12batch/s, loss=0.374285]\u001b[0m\n"
     ]
    },
    {
     "name": "stdout",
     "output_type": "stream",
     "text": [
      "\t Loss: 10.304,\tTrain : 91.88%(92.36%),\tTest : 87.67%(88.10%),\tCurrent Time: 20250720-131359\n"
     ]
    },
    {
     "name": "stderr",
     "output_type": "stream",
     "text": [
      "Epoch 36/50:: 100%|\u001b[34m███████████████████\u001b[0m| 120/120 [00:02<00:00, 48.30batch/s, loss=0.378222]\u001b[0m\n"
     ]
    },
    {
     "name": "stdout",
     "output_type": "stream",
     "text": [
      "\t Loss: 10.041,\tTrain : 91.99%(92.36%),\tTest : 88.04%(88.10%),\tCurrent Time: 20250720-131402\n"
     ]
    },
    {
     "name": "stderr",
     "output_type": "stream",
     "text": [
      "Epoch 37/50:: 100%|\u001b[34m███████████████████\u001b[0m| 120/120 [00:02<00:00, 49.28batch/s, loss=0.352979]\u001b[0m\n"
     ]
    },
    {
     "name": "stdout",
     "output_type": "stream",
     "text": [
      "\t Loss: 11.644,\tTrain : 91.60%(92.36%),\tTest : 87.27%(88.10%),\tCurrent Time: 20250720-131405\n"
     ]
    },
    {
     "name": "stderr",
     "output_type": "stream",
     "text": [
      "Epoch 38/50:: 100%|\u001b[34m███████████████████\u001b[0m| 120/120 [00:02<00:00, 48.25batch/s, loss=0.388658]\u001b[0m\n"
     ]
    },
    {
     "name": "stdout",
     "output_type": "stream",
     "text": [
      "\t Loss: 9.126,\tTrain : 91.96%(92.36%),\tTest : 87.52%(88.10%),\tCurrent Time: 20250720-131408\n"
     ]
    },
    {
     "name": "stderr",
     "output_type": "stream",
     "text": [
      "Epoch 39/50:: 100%|\u001b[34m███████████████████\u001b[0m| 120/120 [00:02<00:00, 48.30batch/s, loss=0.374711]\u001b[0m\n"
     ]
    },
    {
     "name": "stdout",
     "output_type": "stream",
     "text": [
      "\t Loss: 9.573,\tTrain : 92.09%(92.36%),\tTest : 87.92%(88.10%),\tCurrent Time: 20250720-131411\n"
     ]
    },
    {
     "name": "stderr",
     "output_type": "stream",
     "text": [
      "Epoch 40/50:: 100%|\u001b[34m███████████████████\u001b[0m| 120/120 [00:02<00:00, 48.35batch/s, loss=0.338358]\u001b[0m\n"
     ]
    },
    {
     "name": "stdout",
     "output_type": "stream",
     "text": [
      "\t Loss: 10.846,\tTrain : 92.01%(92.36%),\tTest : 87.27%(88.10%),\tCurrent Time: 20250720-131414\n"
     ]
    },
    {
     "name": "stderr",
     "output_type": "stream",
     "text": [
      "Epoch 41/50:: 100%|\u001b[34m███████████████████\u001b[0m| 120/120 [00:02<00:00, 48.11batch/s, loss=0.354362]\u001b[0m\n"
     ]
    },
    {
     "name": "stdout",
     "output_type": "stream",
     "text": [
      "\t Loss: 11.521,\tTrain : 91.02%(92.36%),\tTest : 86.60%(88.10%),\tCurrent Time: 20250720-131417\n"
     ]
    },
    {
     "name": "stderr",
     "output_type": "stream",
     "text": [
      "Epoch 42/50:: 100%|\u001b[34m███████████████████\u001b[0m| 120/120 [00:02<00:00, 48.15batch/s, loss=0.372489]\u001b[0m\n"
     ]
    },
    {
     "name": "stdout",
     "output_type": "stream",
     "text": [
      "\t Loss: 13.008,\tTrain : 91.38%(92.36%),\tTest : 87.49%(88.10%),\tCurrent Time: 20250720-131420\n"
     ]
    },
    {
     "name": "stderr",
     "output_type": "stream",
     "text": [
      "Epoch 43/50:: 100%|\u001b[34m███████████████████\u001b[0m| 120/120 [00:02<00:00, 48.41batch/s, loss=0.382032]\u001b[0m\n"
     ]
    },
    {
     "name": "stdout",
     "output_type": "stream",
     "text": [
      "\t Loss: 9.750,\tTrain : 91.65%(92.36%),\tTest : 87.52%(88.10%),\tCurrent Time: 20250720-131423\n"
     ]
    },
    {
     "name": "stderr",
     "output_type": "stream",
     "text": [
      "Epoch 44/50:: 100%|\u001b[34m███████████████████\u001b[0m| 120/120 [00:02<00:00, 49.23batch/s, loss=0.368247]\u001b[0m\n"
     ]
    },
    {
     "name": "stdout",
     "output_type": "stream",
     "text": [
      "\t Loss: 11.441,\tTrain : 91.32%(92.36%),\tTest : 87.31%(88.10%),\tCurrent Time: 20250720-131426\n"
     ]
    },
    {
     "name": "stderr",
     "output_type": "stream",
     "text": [
      "Epoch 45/50:: 100%|\u001b[34m███████████████████\u001b[0m| 120/120 [00:02<00:00, 48.39batch/s, loss=0.354461]\u001b[0m\n"
     ]
    },
    {
     "name": "stdout",
     "output_type": "stream",
     "text": [
      "\t Loss: 9.490,\tTrain : 92.55%(92.55%),\tTest : 87.93%(88.10%),\tCurrent Time: 20250720-131428\n"
     ]
    },
    {
     "name": "stderr",
     "output_type": "stream",
     "text": [
      "Epoch 46/50:: 100%|\u001b[34m███████████████████\u001b[0m| 120/120 [00:02<00:00, 48.18batch/s, loss=0.380460]\u001b[0m\n"
     ]
    },
    {
     "name": "stdout",
     "output_type": "stream",
     "text": [
      "\t Loss: 11.845,\tTrain : 91.17%(92.55%),\tTest : 86.84%(88.10%),\tCurrent Time: 20250720-131431\n"
     ]
    },
    {
     "name": "stderr",
     "output_type": "stream",
     "text": [
      "Epoch 47/50:: 100%|\u001b[34m███████████████████\u001b[0m| 120/120 [00:02<00:00, 48.25batch/s, loss=0.376618]\u001b[0m\n"
     ]
    },
    {
     "name": "stdout",
     "output_type": "stream",
     "text": [
      "\t Loss: 12.366,\tTrain : 91.24%(92.55%),\tTest : 86.81%(88.10%),\tCurrent Time: 20250720-131434\n"
     ]
    },
    {
     "name": "stderr",
     "output_type": "stream",
     "text": [
      "Epoch 48/50:: 100%|\u001b[34m███████████████████\u001b[0m| 120/120 [00:02<00:00, 47.40batch/s, loss=0.359783]\u001b[0m\n"
     ]
    },
    {
     "name": "stdout",
     "output_type": "stream",
     "text": [
      "\t Loss: 9.907,\tTrain : 92.31%(92.55%),\tTest : 87.85%(88.10%),\tCurrent Time: 20250720-131437\n"
     ]
    },
    {
     "name": "stderr",
     "output_type": "stream",
     "text": [
      "Epoch 49/50:: 100%|\u001b[34m███████████████████\u001b[0m| 120/120 [00:02<00:00, 48.19batch/s, loss=0.374491]\u001b[0m\n"
     ]
    },
    {
     "name": "stdout",
     "output_type": "stream",
     "text": [
      "\t Loss: 9.882,\tTrain : 92.00%(92.55%),\tTest : 87.63%(88.10%),\tCurrent Time: 20250720-131440\n"
     ]
    },
    {
     "name": "stderr",
     "output_type": "stream",
     "text": [
      "Epoch 50/50:: 100%|\u001b[34m███████████████████\u001b[0m| 120/120 [00:02<00:00, 48.12batch/s, loss=0.352353]\u001b[0m\n"
     ]
    },
    {
     "name": "stdout",
     "output_type": "stream",
     "text": [
      "\t Loss: 10.022,\tTrain : 91.86%(92.55%),\tTest : 87.17%(88.10%),\tCurrent Time: 20250720-131443\n",
      "First_symm_10HL_Res-Task2-0-EP_L10--FMNIST_EP_b_sc0.1- Time: 20250720-131443, Epochs: 50, Learning Rate: 0.001, Best: 92.55%  88.10%\n",
      "\n",
      "First_symm_10HL_Res-Task2-0-EP_L10--FMNIST_EP_b_sc0.1-\n"
     ]
    },
    {
     "name": "stderr",
     "output_type": "stream",
     "text": [
      "Epoch 1/50:: 100%|\u001b[34m████████████████████\u001b[0m| 120/120 [00:02<00:00, 45.90batch/s, loss=0.860540]\u001b[0m\n"
     ]
    },
    {
     "name": "stdout",
     "output_type": "stream",
     "text": [
      "\t Loss: 16.193,\tTrain : 81.49%(81.49%),\tTest : 80.46%(80.46%),\tCurrent Time: 20250720-131451\n"
     ]
    },
    {
     "name": "stderr",
     "output_type": "stream",
     "text": [
      "Epoch 2/50:: 100%|\u001b[34m████████████████████\u001b[0m| 120/120 [00:02<00:00, 47.59batch/s, loss=0.508676]\u001b[0m\n"
     ]
    },
    {
     "name": "stdout",
     "output_type": "stream",
     "text": [
      "\t Loss: 15.081,\tTrain : 82.81%(82.81%),\tTest : 81.52%(81.52%),\tCurrent Time: 20250720-131454\n"
     ]
    },
    {
     "name": "stderr",
     "output_type": "stream",
     "text": [
      "Epoch 3/50:: 100%|\u001b[34m████████████████████\u001b[0m| 120/120 [00:02<00:00, 48.23batch/s, loss=0.474767]\u001b[0m\n"
     ]
    },
    {
     "name": "stdout",
     "output_type": "stream",
     "text": [
      "\t Loss: 12.531,\tTrain : 85.96%(85.96%),\tTest : 84.37%(84.37%),\tCurrent Time: 20250720-131457\n"
     ]
    },
    {
     "name": "stderr",
     "output_type": "stream",
     "text": [
      "Epoch 4/50:: 100%|\u001b[34m████████████████████\u001b[0m| 120/120 [00:02<00:00, 48.19batch/s, loss=0.440796]\u001b[0m\n"
     ]
    },
    {
     "name": "stdout",
     "output_type": "stream",
     "text": [
      "\t Loss: 13.322,\tTrain : 85.66%(85.96%),\tTest : 84.25%(84.37%),\tCurrent Time: 20250720-131500\n"
     ]
    },
    {
     "name": "stderr",
     "output_type": "stream",
     "text": [
      "Epoch 5/50:: 100%|\u001b[34m████████████████████\u001b[0m| 120/120 [00:02<00:00, 47.83batch/s, loss=0.413790]\u001b[0m\n"
     ]
    },
    {
     "name": "stdout",
     "output_type": "stream",
     "text": [
      "\t Loss: 11.250,\tTrain : 87.23%(87.23%),\tTest : 85.75%(85.75%),\tCurrent Time: 20250720-131503\n"
     ]
    },
    {
     "name": "stderr",
     "output_type": "stream",
     "text": [
      "Epoch 6/50:: 100%|\u001b[34m████████████████████\u001b[0m| 120/120 [00:02<00:00, 48.44batch/s, loss=0.401005]\u001b[0m\n"
     ]
    },
    {
     "name": "stdout",
     "output_type": "stream",
     "text": [
      "\t Loss: 11.765,\tTrain : 87.11%(87.23%),\tTest : 85.25%(85.75%),\tCurrent Time: 20250720-131506\n"
     ]
    },
    {
     "name": "stderr",
     "output_type": "stream",
     "text": [
      "Epoch 7/50:: 100%|\u001b[34m████████████████████\u001b[0m| 120/120 [00:02<00:00, 48.75batch/s, loss=0.372732]\u001b[0m\n"
     ]
    },
    {
     "name": "stdout",
     "output_type": "stream",
     "text": [
      "\t Loss: 11.982,\tTrain : 87.21%(87.23%),\tTest : 85.07%(85.75%),\tCurrent Time: 20250720-131509\n"
     ]
    },
    {
     "name": "stderr",
     "output_type": "stream",
     "text": [
      "Epoch 8/50:: 100%|\u001b[34m████████████████████\u001b[0m| 120/120 [00:02<00:00, 48.43batch/s, loss=0.364879]\u001b[0m\n"
     ]
    },
    {
     "name": "stdout",
     "output_type": "stream",
     "text": [
      "\t Loss: 10.444,\tTrain : 88.54%(88.54%),\tTest : 86.43%(86.43%),\tCurrent Time: 20250720-131511\n"
     ]
    },
    {
     "name": "stderr",
     "output_type": "stream",
     "text": [
      "Epoch 9/50:: 100%|\u001b[34m████████████████████\u001b[0m| 120/120 [00:02<00:00, 47.95batch/s, loss=0.360185]\u001b[0m\n"
     ]
    },
    {
     "name": "stdout",
     "output_type": "stream",
     "text": [
      "\t Loss: 10.120,\tTrain : 88.90%(88.90%),\tTest : 86.75%(86.75%),\tCurrent Time: 20250720-131514\n"
     ]
    },
    {
     "name": "stderr",
     "output_type": "stream",
     "text": [
      "Epoch 10/50:: 100%|\u001b[34m███████████████████\u001b[0m| 120/120 [00:02<00:00, 48.11batch/s, loss=0.347607]\u001b[0m\n"
     ]
    },
    {
     "name": "stdout",
     "output_type": "stream",
     "text": [
      "\t Loss: 10.188,\tTrain : 89.17%(89.17%),\tTest : 87.02%(87.02%),\tCurrent Time: 20250720-131517\n"
     ]
    },
    {
     "name": "stderr",
     "output_type": "stream",
     "text": [
      "Epoch 11/50:: 100%|\u001b[34m███████████████████\u001b[0m| 120/120 [00:02<00:00, 47.94batch/s, loss=0.344389]\u001b[0m\n"
     ]
    },
    {
     "name": "stdout",
     "output_type": "stream",
     "text": [
      "\t Loss: 9.635,\tTrain : 89.41%(89.41%),\tTest : 87.00%(87.02%),\tCurrent Time: 20250720-131520\n"
     ]
    },
    {
     "name": "stderr",
     "output_type": "stream",
     "text": [
      "Epoch 12/50:: 100%|\u001b[34m███████████████████\u001b[0m| 120/120 [00:02<00:00, 48.10batch/s, loss=0.340361]\u001b[0m\n"
     ]
    },
    {
     "name": "stdout",
     "output_type": "stream",
     "text": [
      "\t Loss: 10.433,\tTrain : 89.38%(89.41%),\tTest : 86.98%(87.02%),\tCurrent Time: 20250720-131523\n"
     ]
    },
    {
     "name": "stderr",
     "output_type": "stream",
     "text": [
      "Epoch 13/50:: 100%|\u001b[34m███████████████████\u001b[0m| 120/120 [00:02<00:00, 48.38batch/s, loss=0.334334]\u001b[0m\n"
     ]
    },
    {
     "name": "stdout",
     "output_type": "stream",
     "text": [
      "\t Loss: 9.369,\tTrain : 90.07%(90.07%),\tTest : 87.54%(87.54%),\tCurrent Time: 20250720-131526\n"
     ]
    },
    {
     "name": "stderr",
     "output_type": "stream",
     "text": [
      "Epoch 14/50:: 100%|\u001b[34m███████████████████\u001b[0m| 120/120 [00:02<00:00, 47.11batch/s, loss=0.327664]\u001b[0m\n"
     ]
    },
    {
     "name": "stdout",
     "output_type": "stream",
     "text": [
      "\t Loss: 9.144,\tTrain : 90.37%(90.37%),\tTest : 87.42%(87.54%),\tCurrent Time: 20250720-131529\n"
     ]
    },
    {
     "name": "stderr",
     "output_type": "stream",
     "text": [
      "Epoch 15/50:: 100%|\u001b[34m███████████████████\u001b[0m| 120/120 [00:02<00:00, 49.32batch/s, loss=0.324353]\u001b[0m\n"
     ]
    },
    {
     "name": "stdout",
     "output_type": "stream",
     "text": [
      "\t Loss: 9.197,\tTrain : 90.33%(90.37%),\tTest : 87.49%(87.54%),\tCurrent Time: 20250720-131532\n"
     ]
    },
    {
     "name": "stderr",
     "output_type": "stream",
     "text": [
      "Epoch 16/50:: 100%|\u001b[34m███████████████████\u001b[0m| 120/120 [00:02<00:00, 48.74batch/s, loss=0.330374]\u001b[0m\n"
     ]
    },
    {
     "name": "stdout",
     "output_type": "stream",
     "text": [
      "\t Loss: 9.375,\tTrain : 90.21%(90.37%),\tTest : 86.92%(87.54%),\tCurrent Time: 20250720-131535\n"
     ]
    },
    {
     "name": "stderr",
     "output_type": "stream",
     "text": [
      "Epoch 17/50:: 100%|\u001b[34m███████████████████\u001b[0m| 120/120 [00:02<00:00, 48.76batch/s, loss=0.321579]\u001b[0m\n"
     ]
    },
    {
     "name": "stdout",
     "output_type": "stream",
     "text": [
      "\t Loss: 9.160,\tTrain : 90.38%(90.38%),\tTest : 87.22%(87.54%),\tCurrent Time: 20250720-131538\n"
     ]
    },
    {
     "name": "stderr",
     "output_type": "stream",
     "text": [
      "Epoch 18/50:: 100%|\u001b[34m███████████████████\u001b[0m| 120/120 [00:02<00:00, 48.53batch/s, loss=0.320039]\u001b[0m\n"
     ]
    },
    {
     "name": "stdout",
     "output_type": "stream",
     "text": [
      "\t Loss: 8.195,\tTrain : 91.26%(91.26%),\tTest : 87.89%(87.89%),\tCurrent Time: 20250720-131541\n"
     ]
    },
    {
     "name": "stderr",
     "output_type": "stream",
     "text": [
      "Epoch 19/50:: 100%|\u001b[34m███████████████████\u001b[0m| 120/120 [00:02<00:00, 48.91batch/s, loss=0.308243]\u001b[0m\n"
     ]
    },
    {
     "name": "stdout",
     "output_type": "stream",
     "text": [
      "\t Loss: 8.962,\tTrain : 91.04%(91.26%),\tTest : 87.74%(87.89%),\tCurrent Time: 20250720-131544\n"
     ]
    },
    {
     "name": "stderr",
     "output_type": "stream",
     "text": [
      "Epoch 20/50:: 100%|\u001b[34m███████████████████\u001b[0m| 120/120 [00:02<00:00, 48.83batch/s, loss=0.308596]\u001b[0m\n"
     ]
    },
    {
     "name": "stdout",
     "output_type": "stream",
     "text": [
      "\t Loss: 9.120,\tTrain : 90.71%(91.26%),\tTest : 87.14%(87.89%),\tCurrent Time: 20250720-131547\n"
     ]
    },
    {
     "name": "stderr",
     "output_type": "stream",
     "text": [
      "Epoch 21/50:: 100%|\u001b[34m███████████████████\u001b[0m| 120/120 [00:02<00:00, 48.97batch/s, loss=0.299904]\u001b[0m\n"
     ]
    },
    {
     "name": "stdout",
     "output_type": "stream",
     "text": [
      "\t Loss: 9.812,\tTrain : 90.52%(91.26%),\tTest : 87.04%(87.89%),\tCurrent Time: 20250720-131550\n"
     ]
    },
    {
     "name": "stderr",
     "output_type": "stream",
     "text": [
      "Epoch 22/50:: 100%|\u001b[34m███████████████████\u001b[0m| 120/120 [00:02<00:00, 49.61batch/s, loss=0.308152]\u001b[0m\n"
     ]
    },
    {
     "name": "stdout",
     "output_type": "stream",
     "text": [
      "\t Loss: 8.785,\tTrain : 91.17%(91.26%),\tTest : 87.04%(87.89%),\tCurrent Time: 20250720-131553\n"
     ]
    },
    {
     "name": "stderr",
     "output_type": "stream",
     "text": [
      "Epoch 23/50:: 100%|\u001b[34m███████████████████\u001b[0m| 120/120 [00:02<00:00, 48.84batch/s, loss=0.308756]\u001b[0m\n"
     ]
    },
    {
     "name": "stdout",
     "output_type": "stream",
     "text": [
      "\t Loss: 8.640,\tTrain : 91.33%(91.33%),\tTest : 87.75%(87.89%),\tCurrent Time: 20250720-131556\n"
     ]
    },
    {
     "name": "stderr",
     "output_type": "stream",
     "text": [
      "Epoch 24/50:: 100%|\u001b[34m███████████████████\u001b[0m| 120/120 [00:02<00:00, 48.73batch/s, loss=0.299311]\u001b[0m\n"
     ]
    },
    {
     "name": "stdout",
     "output_type": "stream",
     "text": [
      "\t Loss: 8.094,\tTrain : 91.78%(91.78%),\tTest : 87.97%(87.97%),\tCurrent Time: 20250720-131558\n"
     ]
    },
    {
     "name": "stderr",
     "output_type": "stream",
     "text": [
      "Epoch 25/50:: 100%|\u001b[34m███████████████████\u001b[0m| 120/120 [00:02<00:00, 49.01batch/s, loss=0.301939]\u001b[0m\n"
     ]
    },
    {
     "name": "stdout",
     "output_type": "stream",
     "text": [
      "\t Loss: 8.210,\tTrain : 91.80%(91.80%),\tTest : 87.86%(87.97%),\tCurrent Time: 20250720-131601\n"
     ]
    },
    {
     "name": "stderr",
     "output_type": "stream",
     "text": [
      "Epoch 26/50:: 100%|\u001b[34m███████████████████\u001b[0m| 120/120 [00:02<00:00, 48.83batch/s, loss=0.294438]\u001b[0m\n"
     ]
    },
    {
     "name": "stdout",
     "output_type": "stream",
     "text": [
      "\t Loss: 7.833,\tTrain : 92.07%(92.07%),\tTest : 88.00%(88.00%),\tCurrent Time: 20250720-131604\n"
     ]
    },
    {
     "name": "stderr",
     "output_type": "stream",
     "text": [
      "Epoch 27/50:: 100%|\u001b[34m███████████████████\u001b[0m| 120/120 [00:02<00:00, 48.44batch/s, loss=0.295054]\u001b[0m\n"
     ]
    },
    {
     "name": "stdout",
     "output_type": "stream",
     "text": [
      "\t Loss: 8.211,\tTrain : 91.66%(92.07%),\tTest : 87.67%(88.00%),\tCurrent Time: 20250720-131607\n"
     ]
    },
    {
     "name": "stderr",
     "output_type": "stream",
     "text": [
      "Epoch 28/50:: 100%|\u001b[34m███████████████████\u001b[0m| 120/120 [00:02<00:00, 48.81batch/s, loss=0.278280]\u001b[0m\n"
     ]
    },
    {
     "name": "stdout",
     "output_type": "stream",
     "text": [
      "\t Loss: 8.035,\tTrain : 92.41%(92.41%),\tTest : 88.30%(88.30%),\tCurrent Time: 20250720-131610\n"
     ]
    },
    {
     "name": "stderr",
     "output_type": "stream",
     "text": [
      "Epoch 29/50:: 100%|\u001b[34m███████████████████\u001b[0m| 120/120 [00:02<00:00, 49.70batch/s, loss=0.278698]\u001b[0m\n"
     ]
    },
    {
     "name": "stdout",
     "output_type": "stream",
     "text": [
      "\t Loss: 8.298,\tTrain : 92.15%(92.41%),\tTest : 87.98%(88.30%),\tCurrent Time: 20250720-131613\n"
     ]
    },
    {
     "name": "stderr",
     "output_type": "stream",
     "text": [
      "Epoch 30/50:: 100%|\u001b[34m███████████████████\u001b[0m| 120/120 [00:02<00:00, 49.27batch/s, loss=0.270420]\u001b[0m\n"
     ]
    },
    {
     "name": "stdout",
     "output_type": "stream",
     "text": [
      "\t Loss: 8.334,\tTrain : 91.95%(92.41%),\tTest : 87.56%(88.30%),\tCurrent Time: 20250720-131616\n"
     ]
    },
    {
     "name": "stderr",
     "output_type": "stream",
     "text": [
      "Epoch 31/50:: 100%|\u001b[34m███████████████████\u001b[0m| 120/120 [00:02<00:00, 48.63batch/s, loss=0.273120]\u001b[0m\n"
     ]
    },
    {
     "name": "stdout",
     "output_type": "stream",
     "text": [
      "\t Loss: 7.608,\tTrain : 92.75%(92.75%),\tTest : 88.23%(88.30%),\tCurrent Time: 20250720-131619\n"
     ]
    },
    {
     "name": "stderr",
     "output_type": "stream",
     "text": [
      "Epoch 32/50:: 100%|\u001b[34m███████████████████\u001b[0m| 120/120 [00:02<00:00, 48.60batch/s, loss=0.271580]\u001b[0m\n"
     ]
    },
    {
     "name": "stdout",
     "output_type": "stream",
     "text": [
      "\t Loss: 7.745,\tTrain : 92.66%(92.75%),\tTest : 88.03%(88.30%),\tCurrent Time: 20250720-131622\n"
     ]
    },
    {
     "name": "stderr",
     "output_type": "stream",
     "text": [
      "Epoch 33/50:: 100%|\u001b[34m███████████████████\u001b[0m| 120/120 [00:02<00:00, 48.27batch/s, loss=0.274103]\u001b[0m\n"
     ]
    },
    {
     "name": "stdout",
     "output_type": "stream",
     "text": [
      "\t Loss: 9.980,\tTrain : 91.87%(92.75%),\tTest : 87.69%(88.30%),\tCurrent Time: 20250720-131625\n"
     ]
    },
    {
     "name": "stderr",
     "output_type": "stream",
     "text": [
      "Epoch 34/50:: 100%|\u001b[34m███████████████████\u001b[0m| 120/120 [00:02<00:00, 48.60batch/s, loss=0.270761]\u001b[0m\n"
     ]
    },
    {
     "name": "stdout",
     "output_type": "stream",
     "text": [
      "\t Loss: 8.104,\tTrain : 92.55%(92.75%),\tTest : 88.14%(88.30%),\tCurrent Time: 20250720-131628\n"
     ]
    },
    {
     "name": "stderr",
     "output_type": "stream",
     "text": [
      "Epoch 35/50:: 100%|\u001b[34m███████████████████\u001b[0m| 120/120 [00:02<00:00, 48.93batch/s, loss=0.264954]\u001b[0m\n"
     ]
    },
    {
     "name": "stdout",
     "output_type": "stream",
     "text": [
      "\t Loss: 8.060,\tTrain : 92.82%(92.82%),\tTest : 88.12%(88.30%),\tCurrent Time: 20250720-131631\n"
     ]
    },
    {
     "name": "stderr",
     "output_type": "stream",
     "text": [
      "Epoch 36/50:: 100%|\u001b[34m███████████████████\u001b[0m| 120/120 [00:02<00:00, 49.40batch/s, loss=0.269439]\u001b[0m\n"
     ]
    },
    {
     "name": "stdout",
     "output_type": "stream",
     "text": [
      "\t Loss: 8.243,\tTrain : 92.60%(92.82%),\tTest : 88.37%(88.37%),\tCurrent Time: 20250720-131634\n"
     ]
    },
    {
     "name": "stderr",
     "output_type": "stream",
     "text": [
      "Epoch 37/50:: 100%|\u001b[34m███████████████████\u001b[0m| 120/120 [00:02<00:00, 49.54batch/s, loss=0.258721]\u001b[0m\n"
     ]
    },
    {
     "name": "stdout",
     "output_type": "stream",
     "text": [
      "\t Loss: 7.378,\tTrain : 93.02%(93.02%),\tTest : 88.17%(88.37%),\tCurrent Time: 20250720-131636\n"
     ]
    },
    {
     "name": "stderr",
     "output_type": "stream",
     "text": [
      "Epoch 38/50:: 100%|\u001b[34m███████████████████\u001b[0m| 120/120 [00:02<00:00, 48.84batch/s, loss=0.262443]\u001b[0m\n"
     ]
    },
    {
     "name": "stdout",
     "output_type": "stream",
     "text": [
      "\t Loss: 7.756,\tTrain : 93.13%(93.13%),\tTest : 88.00%(88.37%),\tCurrent Time: 20250720-131639\n"
     ]
    },
    {
     "name": "stderr",
     "output_type": "stream",
     "text": [
      "Epoch 39/50:: 100%|\u001b[34m███████████████████\u001b[0m| 120/120 [00:02<00:00, 48.65batch/s, loss=0.258231]\u001b[0m\n"
     ]
    },
    {
     "name": "stdout",
     "output_type": "stream",
     "text": [
      "\t Loss: 7.434,\tTrain : 93.60%(93.60%),\tTest : 88.49%(88.49%),\tCurrent Time: 20250720-131642\n"
     ]
    },
    {
     "name": "stderr",
     "output_type": "stream",
     "text": [
      "Epoch 40/50:: 100%|\u001b[34m███████████████████\u001b[0m| 120/120 [00:02<00:00, 48.68batch/s, loss=0.252883]\u001b[0m\n"
     ]
    },
    {
     "name": "stdout",
     "output_type": "stream",
     "text": [
      "\t Loss: 7.612,\tTrain : 92.92%(93.60%),\tTest : 87.61%(88.49%),\tCurrent Time: 20250720-131645\n"
     ]
    },
    {
     "name": "stderr",
     "output_type": "stream",
     "text": [
      "Epoch 41/50:: 100%|\u001b[34m███████████████████\u001b[0m| 120/120 [00:02<00:00, 48.82batch/s, loss=0.257610]\u001b[0m\n"
     ]
    },
    {
     "name": "stdout",
     "output_type": "stream",
     "text": [
      "\t Loss: 6.767,\tTrain : 93.72%(93.72%),\tTest : 88.37%(88.49%),\tCurrent Time: 20250720-131648\n"
     ]
    },
    {
     "name": "stderr",
     "output_type": "stream",
     "text": [
      "Epoch 42/50:: 100%|\u001b[34m███████████████████\u001b[0m| 120/120 [00:02<00:00, 48.47batch/s, loss=0.251432]\u001b[0m\n"
     ]
    },
    {
     "name": "stdout",
     "output_type": "stream",
     "text": [
      "\t Loss: 6.969,\tTrain : 93.77%(93.77%),\tTest : 88.45%(88.49%),\tCurrent Time: 20250720-131651\n"
     ]
    },
    {
     "name": "stderr",
     "output_type": "stream",
     "text": [
      "Epoch 43/50:: 100%|\u001b[34m███████████████████\u001b[0m| 120/120 [00:02<00:00, 48.96batch/s, loss=0.251216]\u001b[0m\n"
     ]
    },
    {
     "name": "stdout",
     "output_type": "stream",
     "text": [
      "\t Loss: 7.679,\tTrain : 93.11%(93.77%),\tTest : 87.81%(88.49%),\tCurrent Time: 20250720-131654\n"
     ]
    },
    {
     "name": "stderr",
     "output_type": "stream",
     "text": [
      "Epoch 44/50:: 100%|\u001b[34m███████████████████\u001b[0m| 120/120 [00:02<00:00, 49.74batch/s, loss=0.249984]\u001b[0m\n"
     ]
    },
    {
     "name": "stdout",
     "output_type": "stream",
     "text": [
      "\t Loss: 6.921,\tTrain : 93.99%(93.99%),\tTest : 88.61%(88.61%),\tCurrent Time: 20250720-131657\n"
     ]
    },
    {
     "name": "stderr",
     "output_type": "stream",
     "text": [
      "Epoch 45/50:: 100%|\u001b[34m███████████████████\u001b[0m| 120/120 [00:02<00:00, 48.98batch/s, loss=0.255284]\u001b[0m\n"
     ]
    },
    {
     "name": "stdout",
     "output_type": "stream",
     "text": [
      "\t Loss: 8.780,\tTrain : 93.03%(93.99%),\tTest : 87.75%(88.61%),\tCurrent Time: 20250720-131700\n"
     ]
    },
    {
     "name": "stderr",
     "output_type": "stream",
     "text": [
      "Epoch 46/50:: 100%|\u001b[34m███████████████████\u001b[0m| 120/120 [00:02<00:00, 48.53batch/s, loss=0.255272]\u001b[0m\n"
     ]
    },
    {
     "name": "stdout",
     "output_type": "stream",
     "text": [
      "\t Loss: 6.473,\tTrain : 94.00%(94.00%),\tTest : 88.45%(88.61%),\tCurrent Time: 20250720-131703\n"
     ]
    },
    {
     "name": "stderr",
     "output_type": "stream",
     "text": [
      "Epoch 47/50:: 100%|\u001b[34m███████████████████\u001b[0m| 120/120 [00:02<00:00, 48.76batch/s, loss=0.250370]\u001b[0m\n"
     ]
    },
    {
     "name": "stdout",
     "output_type": "stream",
     "text": [
      "\t Loss: 6.811,\tTrain : 94.12%(94.12%),\tTest : 88.43%(88.61%),\tCurrent Time: 20250720-131706\n"
     ]
    },
    {
     "name": "stderr",
     "output_type": "stream",
     "text": [
      "Epoch 48/50:: 100%|\u001b[34m███████████████████\u001b[0m| 120/120 [00:02<00:00, 48.76batch/s, loss=0.246447]\u001b[0m\n"
     ]
    },
    {
     "name": "stdout",
     "output_type": "stream",
     "text": [
      "\t Loss: 6.423,\tTrain : 94.06%(94.12%),\tTest : 88.36%(88.61%),\tCurrent Time: 20250720-131709\n"
     ]
    },
    {
     "name": "stderr",
     "output_type": "stream",
     "text": [
      "Epoch 49/50:: 100%|\u001b[34m███████████████████\u001b[0m| 120/120 [00:02<00:00, 48.95batch/s, loss=0.246369]\u001b[0m\n"
     ]
    },
    {
     "name": "stdout",
     "output_type": "stream",
     "text": [
      "\t Loss: 7.032,\tTrain : 93.87%(94.12%),\tTest : 88.32%(88.61%),\tCurrent Time: 20250720-131711\n"
     ]
    },
    {
     "name": "stderr",
     "output_type": "stream",
     "text": [
      "Epoch 50/50:: 100%|\u001b[34m███████████████████\u001b[0m| 120/120 [00:02<00:00, 48.97batch/s, loss=0.238886]\u001b[0m\n"
     ]
    },
    {
     "name": "stdout",
     "output_type": "stream",
     "text": [
      "\t Loss: 6.607,\tTrain : 94.21%(94.21%),\tTest : 88.18%(88.61%),\tCurrent Time: 20250720-131714\n",
      "First_symm_10HL_Res-Task2-0-EP_L10--FMNIST_EP_b_sc0.1- Time: 20250720-131714, Epochs: 50, Learning Rate: 0.001, Best: 94.21%  88.61%\n",
      "\n",
      "First_symm_10HL_Res-Task2-0-EP_L10--MNIST_EP_b_sc0.01-\n"
     ]
    },
    {
     "name": "stderr",
     "output_type": "stream",
     "text": [
      "Epoch 1/50:: 100%|\u001b[34m████████████████████\u001b[0m| 120/120 [00:02<00:00, 45.99batch/s, loss=0.686692]\u001b[0m\n"
     ]
    },
    {
     "name": "stdout",
     "output_type": "stream",
     "text": [
      "\t Loss: 9.762,\tTrain : 90.61%(90.61%),\tTest : 91.03%(91.03%),\tCurrent Time: 20250720-131722\n"
     ]
    },
    {
     "name": "stderr",
     "output_type": "stream",
     "text": [
      "Epoch 2/50:: 100%|\u001b[34m████████████████████\u001b[0m| 120/120 [00:02<00:00, 48.96batch/s, loss=0.280432]\u001b[0m\n"
     ]
    },
    {
     "name": "stdout",
     "output_type": "stream",
     "text": [
      "\t Loss: 7.358,\tTrain : 92.56%(92.56%),\tTest : 92.71%(92.71%),\tCurrent Time: 20250720-131725\n"
     ]
    },
    {
     "name": "stderr",
     "output_type": "stream",
     "text": [
      "Epoch 3/50:: 100%|\u001b[34m████████████████████\u001b[0m| 120/120 [00:02<00:00, 48.79batch/s, loss=0.215310]\u001b[0m\n"
     ]
    },
    {
     "name": "stdout",
     "output_type": "stream",
     "text": [
      "\t Loss: 5.473,\tTrain : 94.44%(94.44%),\tTest : 94.24%(94.24%),\tCurrent Time: 20250720-131728\n"
     ]
    },
    {
     "name": "stderr",
     "output_type": "stream",
     "text": [
      "Epoch 4/50:: 100%|\u001b[34m████████████████████\u001b[0m| 120/120 [00:02<00:00, 48.97batch/s, loss=0.180104]\u001b[0m\n"
     ]
    },
    {
     "name": "stdout",
     "output_type": "stream",
     "text": [
      "\t Loss: 5.298,\tTrain : 94.56%(94.56%),\tTest : 94.18%(94.24%),\tCurrent Time: 20250720-131731\n"
     ]
    },
    {
     "name": "stderr",
     "output_type": "stream",
     "text": [
      "Epoch 5/50:: 100%|\u001b[34m████████████████████\u001b[0m| 120/120 [00:02<00:00, 49.20batch/s, loss=0.154046]\u001b[0m\n"
     ]
    },
    {
     "name": "stdout",
     "output_type": "stream",
     "text": [
      "\t Loss: 4.301,\tTrain : 95.57%(95.57%),\tTest : 95.21%(95.21%),\tCurrent Time: 20250720-131734\n"
     ]
    },
    {
     "name": "stderr",
     "output_type": "stream",
     "text": [
      "Epoch 6/50:: 100%|\u001b[34m████████████████████\u001b[0m| 120/120 [00:02<00:00, 48.88batch/s, loss=0.141084]\u001b[0m\n"
     ]
    },
    {
     "name": "stdout",
     "output_type": "stream",
     "text": [
      "\t Loss: 3.712,\tTrain : 96.27%(96.27%),\tTest : 95.87%(95.87%),\tCurrent Time: 20250720-131736\n"
     ]
    },
    {
     "name": "stderr",
     "output_type": "stream",
     "text": [
      "Epoch 7/50:: 100%|\u001b[34m████████████████████\u001b[0m| 120/120 [00:02<00:00, 48.89batch/s, loss=0.127358]\u001b[0m\n"
     ]
    },
    {
     "name": "stdout",
     "output_type": "stream",
     "text": [
      "\t Loss: 3.394,\tTrain : 96.61%(96.61%),\tTest : 95.97%(95.97%),\tCurrent Time: 20250720-131739\n"
     ]
    },
    {
     "name": "stderr",
     "output_type": "stream",
     "text": [
      "Epoch 8/50:: 100%|\u001b[34m████████████████████\u001b[0m| 120/120 [00:02<00:00, 49.12batch/s, loss=0.116042]\u001b[0m\n"
     ]
    },
    {
     "name": "stdout",
     "output_type": "stream",
     "text": [
      "\t Loss: 3.241,\tTrain : 96.84%(96.84%),\tTest : 96.19%(96.19%),\tCurrent Time: 20250720-131742\n"
     ]
    },
    {
     "name": "stderr",
     "output_type": "stream",
     "text": [
      "Epoch 9/50:: 100%|\u001b[34m████████████████████\u001b[0m| 120/120 [00:02<00:00, 48.84batch/s, loss=0.105468]\u001b[0m\n"
     ]
    },
    {
     "name": "stdout",
     "output_type": "stream",
     "text": [
      "\t Loss: 2.878,\tTrain : 97.11%(97.11%),\tTest : 96.52%(96.52%),\tCurrent Time: 20250720-131745\n"
     ]
    },
    {
     "name": "stderr",
     "output_type": "stream",
     "text": [
      "Epoch 10/50:: 100%|\u001b[34m███████████████████\u001b[0m| 120/120 [00:02<00:00, 48.91batch/s, loss=0.102558]\u001b[0m\n"
     ]
    },
    {
     "name": "stdout",
     "output_type": "stream",
     "text": [
      "\t Loss: 2.990,\tTrain : 97.01%(97.11%),\tTest : 96.11%(96.52%),\tCurrent Time: 20250720-131748\n"
     ]
    },
    {
     "name": "stderr",
     "output_type": "stream",
     "text": [
      "Epoch 11/50:: 100%|\u001b[34m███████████████████\u001b[0m| 120/120 [00:02<00:00, 49.07batch/s, loss=0.096980]\u001b[0m\n"
     ]
    },
    {
     "name": "stdout",
     "output_type": "stream",
     "text": [
      "\t Loss: 2.617,\tTrain : 97.34%(97.34%),\tTest : 96.70%(96.70%),\tCurrent Time: 20250720-131751\n"
     ]
    },
    {
     "name": "stderr",
     "output_type": "stream",
     "text": [
      "Epoch 12/50:: 100%|\u001b[34m███████████████████\u001b[0m| 120/120 [00:02<00:00, 48.92batch/s, loss=0.089290]\u001b[0m\n"
     ]
    },
    {
     "name": "stdout",
     "output_type": "stream",
     "text": [
      "\t Loss: 3.083,\tTrain : 96.93%(97.34%),\tTest : 96.23%(96.70%),\tCurrent Time: 20250720-131754\n"
     ]
    },
    {
     "name": "stderr",
     "output_type": "stream",
     "text": [
      "Epoch 13/50:: 100%|\u001b[34m███████████████████\u001b[0m| 120/120 [00:02<00:00, 49.00batch/s, loss=0.086836]\u001b[0m\n"
     ]
    },
    {
     "name": "stdout",
     "output_type": "stream",
     "text": [
      "\t Loss: 2.671,\tTrain : 97.31%(97.34%),\tTest : 96.39%(96.70%),\tCurrent Time: 20250720-131757\n"
     ]
    },
    {
     "name": "stderr",
     "output_type": "stream",
     "text": [
      "Epoch 14/50:: 100%|\u001b[34m███████████████████\u001b[0m| 120/120 [00:02<00:00, 48.24batch/s, loss=0.079973]\u001b[0m\n"
     ]
    },
    {
     "name": "stdout",
     "output_type": "stream",
     "text": [
      "\t Loss: 2.337,\tTrain : 97.69%(97.69%),\tTest : 96.71%(96.71%),\tCurrent Time: 20250720-131800\n"
     ]
    },
    {
     "name": "stderr",
     "output_type": "stream",
     "text": [
      "Epoch 15/50:: 100%|\u001b[34m███████████████████\u001b[0m| 120/120 [00:02<00:00, 49.00batch/s, loss=0.074650]\u001b[0m\n"
     ]
    },
    {
     "name": "stdout",
     "output_type": "stream",
     "text": [
      "\t Loss: 2.657,\tTrain : 97.37%(97.69%),\tTest : 96.60%(96.71%),\tCurrent Time: 20250720-131803\n"
     ]
    },
    {
     "name": "stderr",
     "output_type": "stream",
     "text": [
      "Epoch 16/50:: 100%|\u001b[34m███████████████████\u001b[0m| 120/120 [00:02<00:00, 48.93batch/s, loss=0.076201]\u001b[0m\n"
     ]
    },
    {
     "name": "stdout",
     "output_type": "stream",
     "text": [
      "\t Loss: 1.879,\tTrain : 98.15%(98.15%),\tTest : 96.94%(96.94%),\tCurrent Time: 20250720-131806\n"
     ]
    },
    {
     "name": "stderr",
     "output_type": "stream",
     "text": [
      "Epoch 17/50:: 100%|\u001b[34m███████████████████\u001b[0m| 120/120 [00:02<00:00, 49.04batch/s, loss=0.066829]\u001b[0m\n"
     ]
    },
    {
     "name": "stdout",
     "output_type": "stream",
     "text": [
      "\t Loss: 1.866,\tTrain : 98.15%(98.15%),\tTest : 96.85%(96.94%),\tCurrent Time: 20250720-131808\n"
     ]
    },
    {
     "name": "stderr",
     "output_type": "stream",
     "text": [
      "Epoch 18/50:: 100%|\u001b[34m███████████████████\u001b[0m| 120/120 [00:02<00:00, 49.04batch/s, loss=0.063471]\u001b[0m\n"
     ]
    },
    {
     "name": "stdout",
     "output_type": "stream",
     "text": [
      "\t Loss: 1.722,\tTrain : 98.26%(98.26%),\tTest : 97.10%(97.10%),\tCurrent Time: 20250720-131811\n"
     ]
    },
    {
     "name": "stderr",
     "output_type": "stream",
     "text": [
      "Epoch 19/50:: 100%|\u001b[34m███████████████████\u001b[0m| 120/120 [00:02<00:00, 48.97batch/s, loss=0.062530]\u001b[0m\n"
     ]
    },
    {
     "name": "stdout",
     "output_type": "stream",
     "text": [
      "\t Loss: 1.579,\tTrain : 98.42%(98.42%),\tTest : 97.21%(97.21%),\tCurrent Time: 20250720-131814\n"
     ]
    },
    {
     "name": "stderr",
     "output_type": "stream",
     "text": [
      "Epoch 20/50:: 100%|\u001b[34m███████████████████\u001b[0m| 120/120 [00:02<00:00, 49.02batch/s, loss=0.060014]\u001b[0m\n"
     ]
    },
    {
     "name": "stdout",
     "output_type": "stream",
     "text": [
      "\t Loss: 1.409,\tTrain : 98.60%(98.60%),\tTest : 97.33%(97.33%),\tCurrent Time: 20250720-131817\n"
     ]
    },
    {
     "name": "stderr",
     "output_type": "stream",
     "text": [
      "Epoch 21/50:: 100%|\u001b[34m███████████████████\u001b[0m| 120/120 [00:02<00:00, 49.16batch/s, loss=0.054891]\u001b[0m\n"
     ]
    },
    {
     "name": "stdout",
     "output_type": "stream",
     "text": [
      "\t Loss: 1.539,\tTrain : 98.45%(98.60%),\tTest : 97.24%(97.33%),\tCurrent Time: 20250720-131820\n"
     ]
    },
    {
     "name": "stderr",
     "output_type": "stream",
     "text": [
      "Epoch 22/50:: 100%|\u001b[34m███████████████████\u001b[0m| 120/120 [00:02<00:00, 48.80batch/s, loss=0.055832]\u001b[0m\n"
     ]
    },
    {
     "name": "stdout",
     "output_type": "stream",
     "text": [
      "\t Loss: 1.321,\tTrain : 98.67%(98.67%),\tTest : 97.32%(97.33%),\tCurrent Time: 20250720-131823\n"
     ]
    },
    {
     "name": "stderr",
     "output_type": "stream",
     "text": [
      "Epoch 23/50:: 100%|\u001b[34m███████████████████\u001b[0m| 120/120 [00:02<00:00, 48.97batch/s, loss=0.049795]\u001b[0m\n"
     ]
    },
    {
     "name": "stdout",
     "output_type": "stream",
     "text": [
      "\t Loss: 1.358,\tTrain : 98.64%(98.67%),\tTest : 97.29%(97.33%),\tCurrent Time: 20250720-131826\n"
     ]
    },
    {
     "name": "stderr",
     "output_type": "stream",
     "text": [
      "Epoch 24/50:: 100%|\u001b[34m███████████████████\u001b[0m| 120/120 [00:02<00:00, 49.09batch/s, loss=0.049529]\u001b[0m\n"
     ]
    },
    {
     "name": "stdout",
     "output_type": "stream",
     "text": [
      "\t Loss: 1.215,\tTrain : 98.80%(98.80%),\tTest : 97.15%(97.33%),\tCurrent Time: 20250720-131829\n"
     ]
    },
    {
     "name": "stderr",
     "output_type": "stream",
     "text": [
      "Epoch 25/50:: 100%|\u001b[34m███████████████████\u001b[0m| 120/120 [00:02<00:00, 49.14batch/s, loss=0.047616]\u001b[0m\n"
     ]
    },
    {
     "name": "stdout",
     "output_type": "stream",
     "text": [
      "\t Loss: 1.189,\tTrain : 98.78%(98.80%),\tTest : 97.12%(97.33%),\tCurrent Time: 20250720-131832\n"
     ]
    },
    {
     "name": "stderr",
     "output_type": "stream",
     "text": [
      "Epoch 26/50:: 100%|\u001b[34m███████████████████\u001b[0m| 120/120 [00:02<00:00, 49.04batch/s, loss=0.045885]\u001b[0m\n"
     ]
    },
    {
     "name": "stdout",
     "output_type": "stream",
     "text": [
      "\t Loss: 1.268,\tTrain : 98.75%(98.80%),\tTest : 97.28%(97.33%),\tCurrent Time: 20250720-131835\n"
     ]
    },
    {
     "name": "stderr",
     "output_type": "stream",
     "text": [
      "Epoch 27/50:: 100%|\u001b[34m███████████████████\u001b[0m| 120/120 [00:02<00:00, 49.10batch/s, loss=0.044091]\u001b[0m\n"
     ]
    },
    {
     "name": "stdout",
     "output_type": "stream",
     "text": [
      "\t Loss: 1.099,\tTrain : 98.92%(98.92%),\tTest : 97.25%(97.33%),\tCurrent Time: 20250720-131838\n"
     ]
    },
    {
     "name": "stderr",
     "output_type": "stream",
     "text": [
      "Epoch 28/50:: 100%|\u001b[34m███████████████████\u001b[0m| 120/120 [00:02<00:00, 48.59batch/s, loss=0.039867]\u001b[0m\n"
     ]
    },
    {
     "name": "stdout",
     "output_type": "stream",
     "text": [
      "\t Loss: 0.908,\tTrain : 99.10%(99.10%),\tTest : 97.43%(97.43%),\tCurrent Time: 20250720-131841\n"
     ]
    },
    {
     "name": "stderr",
     "output_type": "stream",
     "text": [
      "Epoch 29/50:: 100%|\u001b[34m███████████████████\u001b[0m| 120/120 [00:02<00:00, 48.90batch/s, loss=0.036989]\u001b[0m\n"
     ]
    },
    {
     "name": "stdout",
     "output_type": "stream",
     "text": [
      "\t Loss: 1.160,\tTrain : 98.84%(99.10%),\tTest : 97.24%(97.43%),\tCurrent Time: 20250720-131843\n"
     ]
    },
    {
     "name": "stderr",
     "output_type": "stream",
     "text": [
      "Epoch 30/50:: 100%|\u001b[34m███████████████████\u001b[0m| 120/120 [00:02<00:00, 49.08batch/s, loss=0.036379]\u001b[0m\n"
     ]
    },
    {
     "name": "stdout",
     "output_type": "stream",
     "text": [
      "\t Loss: 0.886,\tTrain : 99.14%(99.14%),\tTest : 97.35%(97.43%),\tCurrent Time: 20250720-131846\n"
     ]
    },
    {
     "name": "stderr",
     "output_type": "stream",
     "text": [
      "Epoch 31/50:: 100%|\u001b[34m███████████████████\u001b[0m| 120/120 [00:02<00:00, 49.61batch/s, loss=0.036254]\u001b[0m\n"
     ]
    },
    {
     "name": "stdout",
     "output_type": "stream",
     "text": [
      "\t Loss: 1.052,\tTrain : 98.95%(99.14%),\tTest : 97.19%(97.43%),\tCurrent Time: 20250720-131849\n"
     ]
    },
    {
     "name": "stderr",
     "output_type": "stream",
     "text": [
      "Epoch 32/50:: 100%|\u001b[34m███████████████████\u001b[0m| 120/120 [00:02<00:00, 49.71batch/s, loss=0.033503]\u001b[0m\n"
     ]
    },
    {
     "name": "stdout",
     "output_type": "stream",
     "text": [
      "\t Loss: 1.382,\tTrain : 98.57%(99.14%),\tTest : 97.02%(97.43%),\tCurrent Time: 20250720-131852\n"
     ]
    },
    {
     "name": "stderr",
     "output_type": "stream",
     "text": [
      "Epoch 33/50:: 100%|\u001b[34m███████████████████\u001b[0m| 120/120 [00:02<00:00, 48.96batch/s, loss=0.033119]\u001b[0m\n"
     ]
    },
    {
     "name": "stdout",
     "output_type": "stream",
     "text": [
      "\t Loss: 0.770,\tTrain : 99.23%(99.23%),\tTest : 97.38%(97.43%),\tCurrent Time: 20250720-131855\n"
     ]
    },
    {
     "name": "stderr",
     "output_type": "stream",
     "text": [
      "Epoch 34/50:: 100%|\u001b[34m███████████████████\u001b[0m| 120/120 [00:02<00:00, 48.97batch/s, loss=0.031312]\u001b[0m\n"
     ]
    },
    {
     "name": "stdout",
     "output_type": "stream",
     "text": [
      "\t Loss: 0.842,\tTrain : 99.15%(99.23%),\tTest : 97.18%(97.43%),\tCurrent Time: 20250720-131858\n"
     ]
    },
    {
     "name": "stderr",
     "output_type": "stream",
     "text": [
      "Epoch 35/50:: 100%|\u001b[34m███████████████████\u001b[0m| 120/120 [00:02<00:00, 48.96batch/s, loss=0.028220]\u001b[0m\n"
     ]
    },
    {
     "name": "stdout",
     "output_type": "stream",
     "text": [
      "\t Loss: 0.826,\tTrain : 99.20%(99.23%),\tTest : 97.36%(97.43%),\tCurrent Time: 20250720-131901\n"
     ]
    },
    {
     "name": "stderr",
     "output_type": "stream",
     "text": [
      "Epoch 36/50:: 100%|\u001b[34m███████████████████\u001b[0m| 120/120 [00:02<00:00, 48.94batch/s, loss=0.030875]\u001b[0m\n"
     ]
    },
    {
     "name": "stdout",
     "output_type": "stream",
     "text": [
      "\t Loss: 0.558,\tTrain : 99.47%(99.47%),\tTest : 97.59%(97.59%),\tCurrent Time: 20250720-131904\n"
     ]
    },
    {
     "name": "stderr",
     "output_type": "stream",
     "text": [
      "Epoch 37/50:: 100%|\u001b[34m███████████████████\u001b[0m| 120/120 [00:02<00:00, 49.05batch/s, loss=0.025721]\u001b[0m\n"
     ]
    },
    {
     "name": "stdout",
     "output_type": "stream",
     "text": [
      "\t Loss: 0.564,\tTrain : 99.47%(99.47%),\tTest : 97.48%(97.59%),\tCurrent Time: 20250720-131907\n"
     ]
    },
    {
     "name": "stderr",
     "output_type": "stream",
     "text": [
      "Epoch 38/50:: 100%|\u001b[34m███████████████████\u001b[0m| 120/120 [00:02<00:00, 49.14batch/s, loss=0.023411]\u001b[0m\n"
     ]
    },
    {
     "name": "stdout",
     "output_type": "stream",
     "text": [
      "\t Loss: 0.564,\tTrain : 99.41%(99.47%),\tTest : 97.35%(97.59%),\tCurrent Time: 20250720-131910\n"
     ]
    },
    {
     "name": "stderr",
     "output_type": "stream",
     "text": [
      "Epoch 39/50:: 100%|\u001b[34m███████████████████\u001b[0m| 120/120 [00:02<00:00, 49.14batch/s, loss=0.023960]\u001b[0m\n"
     ]
    },
    {
     "name": "stdout",
     "output_type": "stream",
     "text": [
      "\t Loss: 0.634,\tTrain : 99.37%(99.47%),\tTest : 97.52%(97.59%),\tCurrent Time: 20250720-131912\n"
     ]
    },
    {
     "name": "stderr",
     "output_type": "stream",
     "text": [
      "Epoch 40/50:: 100%|\u001b[34m███████████████████\u001b[0m| 120/120 [00:02<00:00, 48.89batch/s, loss=0.023981]\u001b[0m\n"
     ]
    },
    {
     "name": "stdout",
     "output_type": "stream",
     "text": [
      "\t Loss: 0.566,\tTrain : 99.44%(99.47%),\tTest : 97.24%(97.59%),\tCurrent Time: 20250720-131915\n"
     ]
    },
    {
     "name": "stderr",
     "output_type": "stream",
     "text": [
      "Epoch 41/50:: 100%|\u001b[34m███████████████████\u001b[0m| 120/120 [00:02<00:00, 48.82batch/s, loss=0.018965]\u001b[0m\n"
     ]
    },
    {
     "name": "stdout",
     "output_type": "stream",
     "text": [
      "\t Loss: 0.495,\tTrain : 99.50%(99.50%),\tTest : 97.45%(97.59%),\tCurrent Time: 20250720-131918\n"
     ]
    },
    {
     "name": "stderr",
     "output_type": "stream",
     "text": [
      "Epoch 42/50:: 100%|\u001b[34m███████████████████\u001b[0m| 120/120 [00:02<00:00, 48.98batch/s, loss=0.020799]\u001b[0m\n"
     ]
    },
    {
     "name": "stdout",
     "output_type": "stream",
     "text": [
      "\t Loss: 0.464,\tTrain : 99.51%(99.51%),\tTest : 97.44%(97.59%),\tCurrent Time: 20250720-131921\n"
     ]
    },
    {
     "name": "stderr",
     "output_type": "stream",
     "text": [
      "Epoch 43/50:: 100%|\u001b[34m███████████████████\u001b[0m| 120/120 [00:02<00:00, 48.99batch/s, loss=0.020141]\u001b[0m\n"
     ]
    },
    {
     "name": "stdout",
     "output_type": "stream",
     "text": [
      "\t Loss: 0.498,\tTrain : 99.50%(99.51%),\tTest : 97.47%(97.59%),\tCurrent Time: 20250720-131924\n"
     ]
    },
    {
     "name": "stderr",
     "output_type": "stream",
     "text": [
      "Epoch 44/50:: 100%|\u001b[34m███████████████████\u001b[0m| 120/120 [00:02<00:00, 48.96batch/s, loss=0.015645]\u001b[0m\n"
     ]
    },
    {
     "name": "stdout",
     "output_type": "stream",
     "text": [
      "\t Loss: 0.356,\tTrain : 99.61%(99.61%),\tTest : 97.45%(97.59%),\tCurrent Time: 20250720-131927\n"
     ]
    },
    {
     "name": "stderr",
     "output_type": "stream",
     "text": [
      "Epoch 45/50:: 100%|\u001b[34m███████████████████\u001b[0m| 120/120 [00:02<00:00, 48.94batch/s, loss=0.017325]\u001b[0m\n"
     ]
    },
    {
     "name": "stdout",
     "output_type": "stream",
     "text": [
      "\t Loss: 0.386,\tTrain : 99.61%(99.61%),\tTest : 97.60%(97.60%),\tCurrent Time: 20250720-131930\n"
     ]
    },
    {
     "name": "stderr",
     "output_type": "stream",
     "text": [
      "Epoch 46/50:: 100%|\u001b[34m███████████████████\u001b[0m| 120/120 [00:02<00:00, 49.03batch/s, loss=0.016959]\u001b[0m\n"
     ]
    },
    {
     "name": "stdout",
     "output_type": "stream",
     "text": [
      "\t Loss: 0.259,\tTrain : 99.75%(99.75%),\tTest : 97.50%(97.60%),\tCurrent Time: 20250720-131933\n"
     ]
    },
    {
     "name": "stderr",
     "output_type": "stream",
     "text": [
      "Epoch 47/50:: 100%|\u001b[34m███████████████████\u001b[0m| 120/120 [00:02<00:00, 49.07batch/s, loss=0.012114]\u001b[0m\n"
     ]
    },
    {
     "name": "stdout",
     "output_type": "stream",
     "text": [
      "\t Loss: 0.317,\tTrain : 99.67%(99.75%),\tTest : 97.39%(97.60%),\tCurrent Time: 20250720-131936\n"
     ]
    },
    {
     "name": "stderr",
     "output_type": "stream",
     "text": [
      "Epoch 48/50:: 100%|\u001b[34m███████████████████\u001b[0m| 120/120 [00:02<00:00, 48.98batch/s, loss=0.011711]\u001b[0m\n"
     ]
    },
    {
     "name": "stdout",
     "output_type": "stream",
     "text": [
      "\t Loss: 0.317,\tTrain : 99.68%(99.75%),\tTest : 97.45%(97.60%),\tCurrent Time: 20250720-131939\n"
     ]
    },
    {
     "name": "stderr",
     "output_type": "stream",
     "text": [
      "Epoch 49/50:: 100%|\u001b[34m███████████████████\u001b[0m| 120/120 [00:02<00:00, 49.09batch/s, loss=0.014354]\u001b[0m\n"
     ]
    },
    {
     "name": "stdout",
     "output_type": "stream",
     "text": [
      "\t Loss: 0.200,\tTrain : 99.80%(99.80%),\tTest : 97.49%(97.60%),\tCurrent Time: 20250720-131942\n"
     ]
    },
    {
     "name": "stderr",
     "output_type": "stream",
     "text": [
      "Epoch 50/50:: 100%|\u001b[34m███████████████████\u001b[0m| 120/120 [00:02<00:00, 49.05batch/s, loss=0.015519]\u001b[0m\n"
     ]
    },
    {
     "name": "stdout",
     "output_type": "stream",
     "text": [
      "\t Loss: 0.592,\tTrain : 99.41%(99.80%),\tTest : 97.03%(97.60%),\tCurrent Time: 20250720-131945\n",
      "First_symm_10HL_Res-Task2-0-EP_L10--MNIST_EP_b_sc0.01- Time: 20250720-131945, Epochs: 50, Learning Rate: 0.001, Best: 99.80%  97.60%\n",
      "\n",
      "First_symm_10HL_Res-Task2-0-EP_L10--MNIST_EP_b_sc0.01-\n"
     ]
    },
    {
     "name": "stderr",
     "output_type": "stream",
     "text": [
      "Epoch 1/50:: 100%|\u001b[34m████████████████████\u001b[0m| 120/120 [00:02<00:00, 45.83batch/s, loss=0.710968]\u001b[0m\n"
     ]
    },
    {
     "name": "stdout",
     "output_type": "stream",
     "text": [
      "\t Loss: 9.692,\tTrain : 90.41%(90.41%),\tTest : 90.67%(90.67%),\tCurrent Time: 20250720-131952\n"
     ]
    },
    {
     "name": "stderr",
     "output_type": "stream",
     "text": [
      "Epoch 2/50:: 100%|\u001b[34m████████████████████\u001b[0m| 120/120 [00:02<00:00, 48.75batch/s, loss=0.273079]\u001b[0m\n"
     ]
    },
    {
     "name": "stdout",
     "output_type": "stream",
     "text": [
      "\t Loss: 6.591,\tTrain : 93.34%(93.34%),\tTest : 93.06%(93.06%),\tCurrent Time: 20250720-131955\n"
     ]
    },
    {
     "name": "stderr",
     "output_type": "stream",
     "text": [
      "Epoch 3/50:: 100%|\u001b[34m████████████████████\u001b[0m| 120/120 [00:02<00:00, 48.88batch/s, loss=0.207630]\u001b[0m\n"
     ]
    },
    {
     "name": "stdout",
     "output_type": "stream",
     "text": [
      "\t Loss: 5.457,\tTrain : 94.38%(94.38%),\tTest : 93.95%(93.95%),\tCurrent Time: 20250720-131958\n"
     ]
    },
    {
     "name": "stderr",
     "output_type": "stream",
     "text": [
      "Epoch 4/50:: 100%|\u001b[34m████████████████████\u001b[0m| 120/120 [00:02<00:00, 48.87batch/s, loss=0.176241]\u001b[0m\n"
     ]
    },
    {
     "name": "stdout",
     "output_type": "stream",
     "text": [
      "\t Loss: 4.674,\tTrain : 95.20%(95.20%),\tTest : 94.76%(94.76%),\tCurrent Time: 20250720-132001\n"
     ]
    },
    {
     "name": "stderr",
     "output_type": "stream",
     "text": [
      "Epoch 5/50:: 100%|\u001b[34m████████████████████\u001b[0m| 120/120 [00:02<00:00, 48.95batch/s, loss=0.154695]\u001b[0m\n"
     ]
    },
    {
     "name": "stdout",
     "output_type": "stream",
     "text": [
      "\t Loss: 4.312,\tTrain : 95.50%(95.50%),\tTest : 95.08%(95.08%),\tCurrent Time: 20250720-132004\n"
     ]
    },
    {
     "name": "stderr",
     "output_type": "stream",
     "text": [
      "Epoch 6/50:: 100%|\u001b[34m████████████████████\u001b[0m| 120/120 [00:02<00:00, 48.92batch/s, loss=0.141026]\u001b[0m\n"
     ]
    },
    {
     "name": "stdout",
     "output_type": "stream",
     "text": [
      "\t Loss: 3.602,\tTrain : 96.36%(96.36%),\tTest : 95.60%(95.60%),\tCurrent Time: 20250720-132007\n"
     ]
    },
    {
     "name": "stderr",
     "output_type": "stream",
     "text": [
      "Epoch 7/50:: 100%|\u001b[34m████████████████████\u001b[0m| 120/120 [00:02<00:00, 48.92batch/s, loss=0.127807]\u001b[0m\n"
     ]
    },
    {
     "name": "stdout",
     "output_type": "stream",
     "text": [
      "\t Loss: 3.355,\tTrain : 96.61%(96.61%),\tTest : 95.96%(95.96%),\tCurrent Time: 20250720-132010\n"
     ]
    },
    {
     "name": "stderr",
     "output_type": "stream",
     "text": [
      "Epoch 8/50:: 100%|\u001b[34m████████████████████\u001b[0m| 120/120 [00:02<00:00, 48.89batch/s, loss=0.117466]\u001b[0m\n"
     ]
    },
    {
     "name": "stdout",
     "output_type": "stream",
     "text": [
      "\t Loss: 3.047,\tTrain : 96.93%(96.93%),\tTest : 96.13%(96.13%),\tCurrent Time: 20250720-132012\n"
     ]
    },
    {
     "name": "stderr",
     "output_type": "stream",
     "text": [
      "Epoch 9/50:: 100%|\u001b[34m████████████████████\u001b[0m| 120/120 [00:02<00:00, 48.85batch/s, loss=0.109410]\u001b[0m\n"
     ]
    },
    {
     "name": "stdout",
     "output_type": "stream",
     "text": [
      "\t Loss: 3.086,\tTrain : 96.95%(96.95%),\tTest : 96.03%(96.13%),\tCurrent Time: 20250720-132015\n"
     ]
    },
    {
     "name": "stderr",
     "output_type": "stream",
     "text": [
      "Epoch 10/50:: 100%|\u001b[34m███████████████████\u001b[0m| 120/120 [00:02<00:00, 48.83batch/s, loss=0.102226]\u001b[0m\n"
     ]
    },
    {
     "name": "stdout",
     "output_type": "stream",
     "text": [
      "\t Loss: 2.530,\tTrain : 97.53%(97.53%),\tTest : 96.55%(96.55%),\tCurrent Time: 20250720-132018\n"
     ]
    },
    {
     "name": "stderr",
     "output_type": "stream",
     "text": [
      "Epoch 11/50:: 100%|\u001b[34m███████████████████\u001b[0m| 120/120 [00:02<00:00, 48.83batch/s, loss=0.099098]\u001b[0m\n"
     ]
    },
    {
     "name": "stdout",
     "output_type": "stream",
     "text": [
      "\t Loss: 3.162,\tTrain : 96.97%(97.53%),\tTest : 96.13%(96.55%),\tCurrent Time: 20250720-132021\n"
     ]
    },
    {
     "name": "stderr",
     "output_type": "stream",
     "text": [
      "Epoch 12/50:: 100%|\u001b[34m███████████████████\u001b[0m| 120/120 [00:02<00:00, 48.99batch/s, loss=0.094315]\u001b[0m\n"
     ]
    },
    {
     "name": "stdout",
     "output_type": "stream",
     "text": [
      "\t Loss: 2.515,\tTrain : 97.52%(97.53%),\tTest : 96.36%(96.55%),\tCurrent Time: 20250720-132024\n"
     ]
    },
    {
     "name": "stderr",
     "output_type": "stream",
     "text": [
      "Epoch 13/50:: 100%|\u001b[34m███████████████████\u001b[0m| 120/120 [00:02<00:00, 49.08batch/s, loss=0.085620]\u001b[0m\n"
     ]
    },
    {
     "name": "stdout",
     "output_type": "stream",
     "text": [
      "\t Loss: 2.110,\tTrain : 97.95%(97.95%),\tTest : 96.79%(96.79%),\tCurrent Time: 20250720-132027\n"
     ]
    },
    {
     "name": "stderr",
     "output_type": "stream",
     "text": [
      "Epoch 14/50:: 100%|\u001b[34m███████████████████\u001b[0m| 120/120 [00:02<00:00, 48.87batch/s, loss=0.080951]\u001b[0m\n"
     ]
    },
    {
     "name": "stdout",
     "output_type": "stream",
     "text": [
      "\t Loss: 2.291,\tTrain : 97.72%(97.95%),\tTest : 96.58%(96.79%),\tCurrent Time: 20250720-132030\n"
     ]
    },
    {
     "name": "stderr",
     "output_type": "stream",
     "text": [
      "Epoch 15/50:: 100%|\u001b[34m███████████████████\u001b[0m| 120/120 [00:02<00:00, 48.76batch/s, loss=0.078511]\u001b[0m\n"
     ]
    },
    {
     "name": "stdout",
     "output_type": "stream",
     "text": [
      "\t Loss: 2.229,\tTrain : 97.78%(97.95%),\tTest : 96.73%(96.79%),\tCurrent Time: 20250720-132033\n"
     ]
    },
    {
     "name": "stderr",
     "output_type": "stream",
     "text": [
      "Epoch 16/50:: 100%|\u001b[34m███████████████████\u001b[0m| 120/120 [00:02<00:00, 49.03batch/s, loss=0.074806]\u001b[0m\n"
     ]
    },
    {
     "name": "stdout",
     "output_type": "stream",
     "text": [
      "\t Loss: 2.239,\tTrain : 97.86%(97.95%),\tTest : 96.68%(96.79%),\tCurrent Time: 20250720-132036\n"
     ]
    },
    {
     "name": "stderr",
     "output_type": "stream",
     "text": [
      "Epoch 17/50:: 100%|\u001b[34m███████████████████\u001b[0m| 120/120 [00:02<00:00, 48.99batch/s, loss=0.071911]\u001b[0m\n"
     ]
    },
    {
     "name": "stdout",
     "output_type": "stream",
     "text": [
      "\t Loss: 1.828,\tTrain : 98.21%(98.21%),\tTest : 96.85%(96.85%),\tCurrent Time: 20250720-132039\n"
     ]
    },
    {
     "name": "stderr",
     "output_type": "stream",
     "text": [
      "Epoch 18/50:: 100%|\u001b[34m███████████████████\u001b[0m| 120/120 [00:02<00:00, 48.73batch/s, loss=0.064813]\u001b[0m\n"
     ]
    },
    {
     "name": "stdout",
     "output_type": "stream",
     "text": [
      "\t Loss: 1.710,\tTrain : 98.34%(98.34%),\tTest : 97.04%(97.04%),\tCurrent Time: 20250720-132042\n"
     ]
    },
    {
     "name": "stderr",
     "output_type": "stream",
     "text": [
      "Epoch 19/50:: 100%|\u001b[34m███████████████████\u001b[0m| 120/120 [00:02<00:00, 49.79batch/s, loss=0.061074]\u001b[0m\n"
     ]
    },
    {
     "name": "stdout",
     "output_type": "stream",
     "text": [
      "\t Loss: 1.619,\tTrain : 98.44%(98.44%),\tTest : 97.04%(97.04%),\tCurrent Time: 20250720-132044\n"
     ]
    },
    {
     "name": "stderr",
     "output_type": "stream",
     "text": [
      "Epoch 20/50:: 100%|\u001b[34m███████████████████\u001b[0m| 120/120 [00:02<00:00, 49.22batch/s, loss=0.060756]\u001b[0m\n"
     ]
    },
    {
     "name": "stdout",
     "output_type": "stream",
     "text": [
      "\t Loss: 1.492,\tTrain : 98.56%(98.56%),\tTest : 97.10%(97.10%),\tCurrent Time: 20250720-132047\n"
     ]
    },
    {
     "name": "stderr",
     "output_type": "stream",
     "text": [
      "Epoch 21/50:: 100%|\u001b[34m███████████████████\u001b[0m| 120/120 [00:02<00:00, 48.73batch/s, loss=0.060959]\u001b[0m\n"
     ]
    },
    {
     "name": "stdout",
     "output_type": "stream",
     "text": [
      "\t Loss: 1.653,\tTrain : 98.37%(98.56%),\tTest : 97.10%(97.10%),\tCurrent Time: 20250720-132050\n"
     ]
    },
    {
     "name": "stderr",
     "output_type": "stream",
     "text": [
      "Epoch 22/50:: 100%|\u001b[34m███████████████████\u001b[0m| 120/120 [00:02<00:00, 48.73batch/s, loss=0.058954]\u001b[0m\n"
     ]
    },
    {
     "name": "stdout",
     "output_type": "stream",
     "text": [
      "\t Loss: 1.654,\tTrain : 98.36%(98.56%),\tTest : 96.96%(97.10%),\tCurrent Time: 20250720-132053\n"
     ]
    },
    {
     "name": "stderr",
     "output_type": "stream",
     "text": [
      "Epoch 23/50:: 100%|\u001b[34m███████████████████\u001b[0m| 120/120 [00:02<00:00, 49.00batch/s, loss=0.054071]\u001b[0m\n"
     ]
    },
    {
     "name": "stdout",
     "output_type": "stream",
     "text": [
      "\t Loss: 1.493,\tTrain : 98.56%(98.56%),\tTest : 97.00%(97.10%),\tCurrent Time: 20250720-132056\n"
     ]
    },
    {
     "name": "stderr",
     "output_type": "stream",
     "text": [
      "Epoch 24/50:: 100%|\u001b[34m███████████████████\u001b[0m| 120/120 [00:02<00:00, 48.71batch/s, loss=0.053751]\u001b[0m\n"
     ]
    },
    {
     "name": "stdout",
     "output_type": "stream",
     "text": [
      "\t Loss: 1.571,\tTrain : 98.48%(98.56%),\tTest : 97.08%(97.10%),\tCurrent Time: 20250720-132059\n"
     ]
    },
    {
     "name": "stderr",
     "output_type": "stream",
     "text": [
      "Epoch 25/50:: 100%|\u001b[34m███████████████████\u001b[0m| 120/120 [00:02<00:00, 49.14batch/s, loss=0.051202]\u001b[0m\n"
     ]
    },
    {
     "name": "stdout",
     "output_type": "stream",
     "text": [
      "\t Loss: 1.238,\tTrain : 98.78%(98.78%),\tTest : 97.30%(97.30%),\tCurrent Time: 20250720-132102\n"
     ]
    },
    {
     "name": "stderr",
     "output_type": "stream",
     "text": [
      "Epoch 26/50:: 100%|\u001b[34m███████████████████\u001b[0m| 120/120 [00:02<00:00, 48.84batch/s, loss=0.053773]\u001b[0m\n"
     ]
    },
    {
     "name": "stdout",
     "output_type": "stream",
     "text": [
      "\t Loss: 1.118,\tTrain : 98.89%(98.89%),\tTest : 97.39%(97.39%),\tCurrent Time: 20250720-132105\n"
     ]
    },
    {
     "name": "stderr",
     "output_type": "stream",
     "text": [
      "Epoch 27/50:: 100%|\u001b[34m███████████████████\u001b[0m| 120/120 [00:02<00:00, 48.74batch/s, loss=0.044204]\u001b[0m\n"
     ]
    },
    {
     "name": "stdout",
     "output_type": "stream",
     "text": [
      "\t Loss: 1.130,\tTrain : 98.95%(98.95%),\tTest : 97.20%(97.39%),\tCurrent Time: 20250720-132108\n"
     ]
    },
    {
     "name": "stderr",
     "output_type": "stream",
     "text": [
      "Epoch 28/50:: 100%|\u001b[34m███████████████████\u001b[0m| 120/120 [00:02<00:00, 48.82batch/s, loss=0.042241]\u001b[0m\n"
     ]
    },
    {
     "name": "stdout",
     "output_type": "stream",
     "text": [
      "\t Loss: 1.258,\tTrain : 98.79%(98.95%),\tTest : 97.09%(97.39%),\tCurrent Time: 20250720-132111\n"
     ]
    },
    {
     "name": "stderr",
     "output_type": "stream",
     "text": [
      "Epoch 29/50:: 100%|\u001b[34m███████████████████\u001b[0m| 120/120 [00:02<00:00, 48.97batch/s, loss=0.039860]\u001b[0m\n"
     ]
    },
    {
     "name": "stdout",
     "output_type": "stream",
     "text": [
      "\t Loss: 1.005,\tTrain : 98.96%(98.96%),\tTest : 97.28%(97.39%),\tCurrent Time: 20250720-132114\n"
     ]
    },
    {
     "name": "stderr",
     "output_type": "stream",
     "text": [
      "Epoch 30/50:: 100%|\u001b[34m███████████████████\u001b[0m| 120/120 [00:02<00:00, 48.90batch/s, loss=0.035186]\u001b[0m\n"
     ]
    },
    {
     "name": "stdout",
     "output_type": "stream",
     "text": [
      "\t Loss: 0.868,\tTrain : 99.20%(99.20%),\tTest : 97.40%(97.40%),\tCurrent Time: 20250720-132117\n"
     ]
    },
    {
     "name": "stderr",
     "output_type": "stream",
     "text": [
      "Epoch 31/50:: 100%|\u001b[34m███████████████████\u001b[0m| 120/120 [00:02<00:00, 48.75batch/s, loss=0.035669]\u001b[0m\n"
     ]
    },
    {
     "name": "stdout",
     "output_type": "stream",
     "text": [
      "\t Loss: 0.870,\tTrain : 99.19%(99.20%),\tTest : 97.34%(97.40%),\tCurrent Time: 20250720-132119\n"
     ]
    },
    {
     "name": "stderr",
     "output_type": "stream",
     "text": [
      "Epoch 32/50:: 100%|\u001b[34m███████████████████\u001b[0m| 120/120 [00:02<00:00, 48.89batch/s, loss=0.033567]\u001b[0m\n"
     ]
    },
    {
     "name": "stdout",
     "output_type": "stream",
     "text": [
      "\t Loss: 0.781,\tTrain : 99.27%(99.27%),\tTest : 97.33%(97.40%),\tCurrent Time: 20250720-132122\n"
     ]
    },
    {
     "name": "stderr",
     "output_type": "stream",
     "text": [
      "Epoch 33/50:: 100%|\u001b[34m███████████████████\u001b[0m| 120/120 [00:02<00:00, 48.85batch/s, loss=0.033624]\u001b[0m\n"
     ]
    },
    {
     "name": "stdout",
     "output_type": "stream",
     "text": [
      "\t Loss: 0.821,\tTrain : 99.17%(99.27%),\tTest : 97.20%(97.40%),\tCurrent Time: 20250720-132125\n"
     ]
    },
    {
     "name": "stderr",
     "output_type": "stream",
     "text": [
      "Epoch 34/50:: 100%|\u001b[34m███████████████████\u001b[0m| 120/120 [00:02<00:00, 48.77batch/s, loss=0.031352]\u001b[0m\n"
     ]
    },
    {
     "name": "stdout",
     "output_type": "stream",
     "text": [
      "\t Loss: 0.939,\tTrain : 99.01%(99.27%),\tTest : 97.30%(97.40%),\tCurrent Time: 20250720-132128\n"
     ]
    },
    {
     "name": "stderr",
     "output_type": "stream",
     "text": [
      "Epoch 35/50:: 100%|\u001b[34m███████████████████\u001b[0m| 120/120 [00:02<00:00, 49.44batch/s, loss=0.030202]\u001b[0m\n"
     ]
    },
    {
     "name": "stdout",
     "output_type": "stream",
     "text": [
      "\t Loss: 1.061,\tTrain : 98.95%(99.27%),\tTest : 97.15%(97.40%),\tCurrent Time: 20250720-132131\n"
     ]
    },
    {
     "name": "stderr",
     "output_type": "stream",
     "text": [
      "Epoch 36/50:: 100%|\u001b[34m███████████████████\u001b[0m| 120/120 [00:02<00:00, 49.04batch/s, loss=0.030235]\u001b[0m\n"
     ]
    },
    {
     "name": "stdout",
     "output_type": "stream",
     "text": [
      "\t Loss: 0.794,\tTrain : 99.22%(99.27%),\tTest : 97.17%(97.40%),\tCurrent Time: 20250720-132134\n"
     ]
    },
    {
     "name": "stderr",
     "output_type": "stream",
     "text": [
      "Epoch 37/50:: 100%|\u001b[34m███████████████████\u001b[0m| 120/120 [00:02<00:00, 49.03batch/s, loss=0.030273]\u001b[0m\n"
     ]
    },
    {
     "name": "stdout",
     "output_type": "stream",
     "text": [
      "\t Loss: 0.602,\tTrain : 99.45%(99.45%),\tTest : 97.35%(97.40%),\tCurrent Time: 20250720-132137\n"
     ]
    },
    {
     "name": "stderr",
     "output_type": "stream",
     "text": [
      "Epoch 38/50:: 100%|\u001b[34m███████████████████\u001b[0m| 120/120 [00:02<00:00, 48.91batch/s, loss=0.026155]\u001b[0m\n"
     ]
    },
    {
     "name": "stdout",
     "output_type": "stream",
     "text": [
      "\t Loss: 0.818,\tTrain : 99.22%(99.45%),\tTest : 97.16%(97.40%),\tCurrent Time: 20250720-132140\n"
     ]
    },
    {
     "name": "stderr",
     "output_type": "stream",
     "text": [
      "Epoch 39/50:: 100%|\u001b[34m███████████████████\u001b[0m| 120/120 [00:02<00:00, 48.89batch/s, loss=0.028642]\u001b[0m\n"
     ]
    },
    {
     "name": "stdout",
     "output_type": "stream",
     "text": [
      "\t Loss: 0.572,\tTrain : 99.44%(99.45%),\tTest : 97.35%(97.40%),\tCurrent Time: 20250720-132143\n"
     ]
    },
    {
     "name": "stderr",
     "output_type": "stream",
     "text": [
      "Epoch 40/50:: 100%|\u001b[34m███████████████████\u001b[0m| 120/120 [00:02<00:00, 48.66batch/s, loss=0.022842]\u001b[0m\n"
     ]
    },
    {
     "name": "stdout",
     "output_type": "stream",
     "text": [
      "\t Loss: 0.564,\tTrain : 99.42%(99.45%),\tTest : 97.39%(97.40%),\tCurrent Time: 20250720-132146\n"
     ]
    },
    {
     "name": "stderr",
     "output_type": "stream",
     "text": [
      "Epoch 41/50:: 100%|\u001b[34m███████████████████\u001b[0m| 120/120 [00:02<00:00, 48.87batch/s, loss=0.022209]\u001b[0m\n"
     ]
    },
    {
     "name": "stdout",
     "output_type": "stream",
     "text": [
      "\t Loss: 0.441,\tTrain : 99.54%(99.54%),\tTest : 97.41%(97.41%),\tCurrent Time: 20250720-132149\n"
     ]
    },
    {
     "name": "stderr",
     "output_type": "stream",
     "text": [
      "Epoch 42/50:: 100%|\u001b[34m███████████████████\u001b[0m| 120/120 [00:02<00:00, 48.99batch/s, loss=0.021267]\u001b[0m\n"
     ]
    },
    {
     "name": "stdout",
     "output_type": "stream",
     "text": [
      "\t Loss: 0.884,\tTrain : 99.16%(99.54%),\tTest : 96.99%(97.41%),\tCurrent Time: 20250720-132152\n"
     ]
    },
    {
     "name": "stderr",
     "output_type": "stream",
     "text": [
      "Epoch 43/50:: 100%|\u001b[34m███████████████████\u001b[0m| 120/120 [00:02<00:00, 48.90batch/s, loss=0.023547]\u001b[0m\n"
     ]
    },
    {
     "name": "stdout",
     "output_type": "stream",
     "text": [
      "\t Loss: 0.518,\tTrain : 99.44%(99.54%),\tTest : 97.16%(97.41%),\tCurrent Time: 20250720-132154\n"
     ]
    },
    {
     "name": "stderr",
     "output_type": "stream",
     "text": [
      "Epoch 44/50:: 100%|\u001b[34m███████████████████\u001b[0m| 120/120 [00:02<00:00, 49.08batch/s, loss=0.017054]\u001b[0m\n"
     ]
    },
    {
     "name": "stdout",
     "output_type": "stream",
     "text": [
      "\t Loss: 0.355,\tTrain : 99.67%(99.67%),\tTest : 97.40%(97.41%),\tCurrent Time: 20250720-132157\n"
     ]
    },
    {
     "name": "stderr",
     "output_type": "stream",
     "text": [
      "Epoch 45/50:: 100%|\u001b[34m███████████████████\u001b[0m| 120/120 [00:02<00:00, 49.04batch/s, loss=0.015591]\u001b[0m\n"
     ]
    },
    {
     "name": "stdout",
     "output_type": "stream",
     "text": [
      "\t Loss: 0.275,\tTrain : 99.74%(99.74%),\tTest : 97.54%(97.54%),\tCurrent Time: 20250720-132200\n"
     ]
    },
    {
     "name": "stderr",
     "output_type": "stream",
     "text": [
      "Epoch 46/50:: 100%|\u001b[34m███████████████████\u001b[0m| 120/120 [00:02<00:00, 48.86batch/s, loss=0.014475]\u001b[0m\n"
     ]
    },
    {
     "name": "stdout",
     "output_type": "stream",
     "text": [
      "\t Loss: 0.328,\tTrain : 99.69%(99.74%),\tTest : 97.39%(97.54%),\tCurrent Time: 20250720-132203\n"
     ]
    },
    {
     "name": "stderr",
     "output_type": "stream",
     "text": [
      "Epoch 47/50:: 100%|\u001b[34m███████████████████\u001b[0m| 120/120 [00:02<00:00, 49.01batch/s, loss=0.013732]\u001b[0m\n"
     ]
    },
    {
     "name": "stdout",
     "output_type": "stream",
     "text": [
      "\t Loss: 0.384,\tTrain : 99.61%(99.74%),\tTest : 97.28%(97.54%),\tCurrent Time: 20250720-132206\n"
     ]
    },
    {
     "name": "stderr",
     "output_type": "stream",
     "text": [
      "Epoch 48/50:: 100%|\u001b[34m███████████████████\u001b[0m| 120/120 [00:02<00:00, 48.96batch/s, loss=0.015174]\u001b[0m\n"
     ]
    },
    {
     "name": "stdout",
     "output_type": "stream",
     "text": [
      "\t Loss: 0.387,\tTrain : 99.64%(99.74%),\tTest : 97.40%(97.54%),\tCurrent Time: 20250720-132209\n"
     ]
    },
    {
     "name": "stderr",
     "output_type": "stream",
     "text": [
      "Epoch 49/50:: 100%|\u001b[34m███████████████████\u001b[0m| 120/120 [00:02<00:00, 49.02batch/s, loss=0.014336]\u001b[0m\n"
     ]
    },
    {
     "name": "stdout",
     "output_type": "stream",
     "text": [
      "\t Loss: 0.369,\tTrain : 99.61%(99.74%),\tTest : 97.28%(97.54%),\tCurrent Time: 20250720-132212\n"
     ]
    },
    {
     "name": "stderr",
     "output_type": "stream",
     "text": [
      "Epoch 50/50:: 100%|\u001b[34m███████████████████\u001b[0m| 120/120 [00:02<00:00, 49.07batch/s, loss=0.021039]\u001b[0m\n"
     ]
    },
    {
     "name": "stdout",
     "output_type": "stream",
     "text": [
      "\t Loss: 0.532,\tTrain : 99.45%(99.74%),\tTest : 97.38%(97.54%),\tCurrent Time: 20250720-132215\n",
      "First_symm_10HL_Res-Task2-0-EP_L10--MNIST_EP_b_sc0.01- Time: 20250720-132215, Epochs: 50, Learning Rate: 0.001, Best: 99.74%  97.54%\n",
      "\n",
      "First_symm_10HL_Res-Task2-0-EP_L10--MNIST_EP_b_sc0.01-\n"
     ]
    },
    {
     "name": "stderr",
     "output_type": "stream",
     "text": [
      "Epoch 1/50:: 100%|\u001b[34m████████████████████\u001b[0m| 120/120 [00:02<00:00, 46.22batch/s, loss=0.689013]\u001b[0m\n"
     ]
    },
    {
     "name": "stdout",
     "output_type": "stream",
     "text": [
      "\t Loss: 9.384,\tTrain : 90.98%(90.98%),\tTest : 91.38%(91.38%),\tCurrent Time: 20250720-132222\n"
     ]
    },
    {
     "name": "stderr",
     "output_type": "stream",
     "text": [
      "Epoch 2/50:: 100%|\u001b[34m████████████████████\u001b[0m| 120/120 [00:02<00:00, 48.89batch/s, loss=0.266093]\u001b[0m\n"
     ]
    },
    {
     "name": "stdout",
     "output_type": "stream",
     "text": [
      "\t Loss: 6.638,\tTrain : 93.43%(93.43%),\tTest : 93.30%(93.30%),\tCurrent Time: 20250720-132225\n"
     ]
    },
    {
     "name": "stderr",
     "output_type": "stream",
     "text": [
      "Epoch 3/50:: 100%|\u001b[34m████████████████████\u001b[0m| 120/120 [00:02<00:00, 48.77batch/s, loss=0.207173]\u001b[0m\n"
     ]
    },
    {
     "name": "stdout",
     "output_type": "stream",
     "text": [
      "\t Loss: 5.760,\tTrain : 94.14%(94.14%),\tTest : 93.96%(93.96%),\tCurrent Time: 20250720-132228\n"
     ]
    },
    {
     "name": "stderr",
     "output_type": "stream",
     "text": [
      "Epoch 4/50:: 100%|\u001b[34m████████████████████\u001b[0m| 120/120 [00:02<00:00, 48.91batch/s, loss=0.179002]\u001b[0m\n"
     ]
    },
    {
     "name": "stdout",
     "output_type": "stream",
     "text": [
      "\t Loss: 4.541,\tTrain : 95.43%(95.43%),\tTest : 95.08%(95.08%),\tCurrent Time: 20250720-132231\n"
     ]
    },
    {
     "name": "stderr",
     "output_type": "stream",
     "text": [
      "Epoch 5/50:: 100%|\u001b[34m████████████████████\u001b[0m| 120/120 [00:02<00:00, 49.13batch/s, loss=0.151705]\u001b[0m\n"
     ]
    },
    {
     "name": "stdout",
     "output_type": "stream",
     "text": [
      "\t Loss: 4.297,\tTrain : 95.59%(95.59%),\tTest : 95.07%(95.08%),\tCurrent Time: 20250720-132234\n"
     ]
    },
    {
     "name": "stderr",
     "output_type": "stream",
     "text": [
      "Epoch 6/50:: 100%|\u001b[34m████████████████████\u001b[0m| 120/120 [00:02<00:00, 49.71batch/s, loss=0.137232]\u001b[0m\n"
     ]
    },
    {
     "name": "stdout",
     "output_type": "stream",
     "text": [
      "\t Loss: 3.618,\tTrain : 96.38%(96.38%),\tTest : 96.00%(96.00%),\tCurrent Time: 20250720-132237\n"
     ]
    },
    {
     "name": "stderr",
     "output_type": "stream",
     "text": [
      "Epoch 7/50:: 100%|\u001b[34m████████████████████\u001b[0m| 120/120 [00:02<00:00, 49.40batch/s, loss=0.125640]\u001b[0m\n"
     ]
    },
    {
     "name": "stdout",
     "output_type": "stream",
     "text": [
      "\t Loss: 3.428,\tTrain : 96.55%(96.55%),\tTest : 96.07%(96.07%),\tCurrent Time: 20250720-132240\n"
     ]
    },
    {
     "name": "stderr",
     "output_type": "stream",
     "text": [
      "Epoch 8/50:: 100%|\u001b[34m████████████████████\u001b[0m| 120/120 [00:02<00:00, 49.19batch/s, loss=0.113471]\u001b[0m\n"
     ]
    },
    {
     "name": "stdout",
     "output_type": "stream",
     "text": [
      "\t Loss: 3.184,\tTrain : 96.81%(96.81%),\tTest : 96.20%(96.20%),\tCurrent Time: 20250720-132243\n"
     ]
    },
    {
     "name": "stderr",
     "output_type": "stream",
     "text": [
      "Epoch 9/50:: 100%|\u001b[34m████████████████████\u001b[0m| 120/120 [00:02<00:00, 49.01batch/s, loss=0.106811]\u001b[0m\n"
     ]
    },
    {
     "name": "stdout",
     "output_type": "stream",
     "text": [
      "\t Loss: 3.150,\tTrain : 96.78%(96.81%),\tTest : 96.02%(96.20%),\tCurrent Time: 20250720-132246\n"
     ]
    },
    {
     "name": "stderr",
     "output_type": "stream",
     "text": [
      "Epoch 10/50:: 100%|\u001b[34m███████████████████\u001b[0m| 120/120 [00:02<00:00, 48.96batch/s, loss=0.100830]\u001b[0m\n"
     ]
    },
    {
     "name": "stdout",
     "output_type": "stream",
     "text": [
      "\t Loss: 2.745,\tTrain : 97.23%(97.23%),\tTest : 96.40%(96.40%),\tCurrent Time: 20250720-132249\n"
     ]
    },
    {
     "name": "stderr",
     "output_type": "stream",
     "text": [
      "Epoch 11/50:: 100%|\u001b[34m███████████████████\u001b[0m| 120/120 [00:02<00:00, 48.92batch/s, loss=0.095253]\u001b[0m\n"
     ]
    },
    {
     "name": "stdout",
     "output_type": "stream",
     "text": [
      "\t Loss: 2.538,\tTrain : 97.45%(97.45%),\tTest : 96.61%(96.61%),\tCurrent Time: 20250720-132251\n"
     ]
    },
    {
     "name": "stderr",
     "output_type": "stream",
     "text": [
      "Epoch 12/50:: 100%|\u001b[34m███████████████████\u001b[0m| 120/120 [00:02<00:00, 48.73batch/s, loss=0.090585]\u001b[0m\n"
     ]
    },
    {
     "name": "stdout",
     "output_type": "stream",
     "text": [
      "\t Loss: 2.345,\tTrain : 97.66%(97.66%),\tTest : 96.78%(96.78%),\tCurrent Time: 20250720-132254\n"
     ]
    },
    {
     "name": "stderr",
     "output_type": "stream",
     "text": [
      "Epoch 13/50:: 100%|\u001b[34m███████████████████\u001b[0m| 120/120 [00:02<00:00, 49.06batch/s, loss=0.085423]\u001b[0m\n"
     ]
    },
    {
     "name": "stdout",
     "output_type": "stream",
     "text": [
      "\t Loss: 2.627,\tTrain : 97.48%(97.66%),\tTest : 96.49%(96.78%),\tCurrent Time: 20250720-132257\n"
     ]
    },
    {
     "name": "stderr",
     "output_type": "stream",
     "text": [
      "Epoch 14/50:: 100%|\u001b[34m███████████████████\u001b[0m| 120/120 [00:02<00:00, 49.04batch/s, loss=0.078916]\u001b[0m\n"
     ]
    },
    {
     "name": "stdout",
     "output_type": "stream",
     "text": [
      "\t Loss: 2.098,\tTrain : 97.89%(97.89%),\tTest : 96.98%(96.98%),\tCurrent Time: 20250720-132300\n"
     ]
    },
    {
     "name": "stderr",
     "output_type": "stream",
     "text": [
      "Epoch 15/50:: 100%|\u001b[34m███████████████████\u001b[0m| 120/120 [00:02<00:00, 49.02batch/s, loss=0.076662]\u001b[0m\n"
     ]
    },
    {
     "name": "stdout",
     "output_type": "stream",
     "text": [
      "\t Loss: 2.108,\tTrain : 97.93%(97.93%),\tTest : 96.91%(96.98%),\tCurrent Time: 20250720-132303\n"
     ]
    },
    {
     "name": "stderr",
     "output_type": "stream",
     "text": [
      "Epoch 16/50:: 100%|\u001b[34m███████████████████\u001b[0m| 120/120 [00:02<00:00, 49.07batch/s, loss=0.072530]\u001b[0m\n"
     ]
    },
    {
     "name": "stdout",
     "output_type": "stream",
     "text": [
      "\t Loss: 1.869,\tTrain : 98.17%(98.17%),\tTest : 96.95%(96.98%),\tCurrent Time: 20250720-132306\n"
     ]
    },
    {
     "name": "stderr",
     "output_type": "stream",
     "text": [
      "Epoch 17/50:: 100%|\u001b[34m███████████████████\u001b[0m| 120/120 [00:02<00:00, 48.97batch/s, loss=0.070439]\u001b[0m\n"
     ]
    },
    {
     "name": "stdout",
     "output_type": "stream",
     "text": [
      "\t Loss: 1.955,\tTrain : 98.11%(98.17%),\tTest : 96.84%(96.98%),\tCurrent Time: 20250720-132309\n"
     ]
    },
    {
     "name": "stderr",
     "output_type": "stream",
     "text": [
      "Epoch 18/50:: 100%|\u001b[34m███████████████████\u001b[0m| 120/120 [00:02<00:00, 48.97batch/s, loss=0.065831]\u001b[0m\n"
     ]
    },
    {
     "name": "stdout",
     "output_type": "stream",
     "text": [
      "\t Loss: 1.781,\tTrain : 98.24%(98.24%),\tTest : 97.09%(97.09%),\tCurrent Time: 20250720-132312\n"
     ]
    },
    {
     "name": "stderr",
     "output_type": "stream",
     "text": [
      "Epoch 19/50:: 100%|\u001b[34m███████████████████\u001b[0m| 120/120 [00:02<00:00, 49.10batch/s, loss=0.060014]\u001b[0m\n"
     ]
    },
    {
     "name": "stdout",
     "output_type": "stream",
     "text": [
      "\t Loss: 1.564,\tTrain : 98.53%(98.53%),\tTest : 97.21%(97.21%),\tCurrent Time: 20250720-132315\n"
     ]
    },
    {
     "name": "stderr",
     "output_type": "stream",
     "text": [
      "Epoch 20/50:: 100%|\u001b[34m███████████████████\u001b[0m| 120/120 [00:02<00:00, 49.11batch/s, loss=0.059141]\u001b[0m\n"
     ]
    },
    {
     "name": "stdout",
     "output_type": "stream",
     "text": [
      "\t Loss: 1.481,\tTrain : 98.50%(98.53%),\tTest : 97.06%(97.21%),\tCurrent Time: 20250720-132318\n"
     ]
    },
    {
     "name": "stderr",
     "output_type": "stream",
     "text": [
      "Epoch 21/50:: 100%|\u001b[34m███████████████████\u001b[0m| 120/120 [00:02<00:00, 48.96batch/s, loss=0.057676]\u001b[0m\n"
     ]
    },
    {
     "name": "stdout",
     "output_type": "stream",
     "text": [
      "\t Loss: 1.495,\tTrain : 98.57%(98.57%),\tTest : 97.31%(97.31%),\tCurrent Time: 20250720-132321\n"
     ]
    },
    {
     "name": "stderr",
     "output_type": "stream",
     "text": [
      "Epoch 22/50:: 100%|\u001b[34m███████████████████\u001b[0m| 120/120 [00:02<00:00, 48.92batch/s, loss=0.055028]\u001b[0m\n"
     ]
    },
    {
     "name": "stdout",
     "output_type": "stream",
     "text": [
      "\t Loss: 1.443,\tTrain : 98.61%(98.61%),\tTest : 97.16%(97.31%),\tCurrent Time: 20250720-132324\n"
     ]
    },
    {
     "name": "stderr",
     "output_type": "stream",
     "text": [
      "Epoch 23/50:: 100%|\u001b[34m███████████████████\u001b[0m| 120/120 [00:02<00:00, 49.75batch/s, loss=0.053174]\u001b[0m\n"
     ]
    },
    {
     "name": "stdout",
     "output_type": "stream",
     "text": [
      "\t Loss: 1.269,\tTrain : 98.80%(98.80%),\tTest : 97.16%(97.31%),\tCurrent Time: 20250720-132326\n"
     ]
    },
    {
     "name": "stderr",
     "output_type": "stream",
     "text": [
      "Epoch 24/50:: 100%|\u001b[34m███████████████████\u001b[0m| 120/120 [00:02<00:00, 49.49batch/s, loss=0.051445]\u001b[0m\n"
     ]
    },
    {
     "name": "stdout",
     "output_type": "stream",
     "text": [
      "\t Loss: 1.548,\tTrain : 98.52%(98.80%),\tTest : 97.04%(97.31%),\tCurrent Time: 20250720-132329\n"
     ]
    },
    {
     "name": "stderr",
     "output_type": "stream",
     "text": [
      "Epoch 25/50:: 100%|\u001b[34m███████████████████\u001b[0m| 120/120 [00:02<00:00, 49.66batch/s, loss=0.047935]\u001b[0m\n"
     ]
    },
    {
     "name": "stdout",
     "output_type": "stream",
     "text": [
      "\t Loss: 1.259,\tTrain : 98.80%(98.80%),\tTest : 97.19%(97.31%),\tCurrent Time: 20250720-132332\n"
     ]
    },
    {
     "name": "stderr",
     "output_type": "stream",
     "text": [
      "Epoch 26/50:: 100%|\u001b[34m███████████████████\u001b[0m| 120/120 [00:02<00:00, 49.61batch/s, loss=0.046031]\u001b[0m\n"
     ]
    },
    {
     "name": "stdout",
     "output_type": "stream",
     "text": [
      "\t Loss: 1.400,\tTrain : 98.67%(98.80%),\tTest : 97.13%(97.31%),\tCurrent Time: 20250720-132335\n"
     ]
    },
    {
     "name": "stderr",
     "output_type": "stream",
     "text": [
      "Epoch 27/50:: 100%|\u001b[34m███████████████████\u001b[0m| 120/120 [00:02<00:00, 49.27batch/s, loss=0.046080]\u001b[0m\n"
     ]
    },
    {
     "name": "stdout",
     "output_type": "stream",
     "text": [
      "\t Loss: 1.431,\tTrain : 98.59%(98.80%),\tTest : 97.03%(97.31%),\tCurrent Time: 20250720-132338\n"
     ]
    },
    {
     "name": "stderr",
     "output_type": "stream",
     "text": [
      "Epoch 28/50:: 100%|\u001b[34m███████████████████\u001b[0m| 120/120 [00:02<00:00, 49.31batch/s, loss=0.042033]\u001b[0m\n"
     ]
    },
    {
     "name": "stdout",
     "output_type": "stream",
     "text": [
      "\t Loss: 0.935,\tTrain : 99.10%(99.10%),\tTest : 97.34%(97.34%),\tCurrent Time: 20250720-132341\n"
     ]
    },
    {
     "name": "stderr",
     "output_type": "stream",
     "text": [
      "Epoch 29/50:: 100%|\u001b[34m███████████████████\u001b[0m| 120/120 [00:02<00:00, 49.07batch/s, loss=0.041621]\u001b[0m\n"
     ]
    },
    {
     "name": "stdout",
     "output_type": "stream",
     "text": [
      "\t Loss: 1.166,\tTrain : 98.81%(99.10%),\tTest : 97.12%(97.34%),\tCurrent Time: 20250720-132344\n"
     ]
    },
    {
     "name": "stderr",
     "output_type": "stream",
     "text": [
      "Epoch 30/50:: 100%|\u001b[34m███████████████████\u001b[0m| 120/120 [00:02<00:00, 49.06batch/s, loss=0.037999]\u001b[0m\n"
     ]
    },
    {
     "name": "stdout",
     "output_type": "stream",
     "text": [
      "\t Loss: 0.947,\tTrain : 99.08%(99.10%),\tTest : 97.29%(97.34%),\tCurrent Time: 20250720-132347\n"
     ]
    },
    {
     "name": "stderr",
     "output_type": "stream",
     "text": [
      "Epoch 31/50:: 100%|\u001b[34m███████████████████\u001b[0m| 120/120 [00:02<00:00, 48.55batch/s, loss=0.038348]\u001b[0m\n"
     ]
    },
    {
     "name": "stdout",
     "output_type": "stream",
     "text": [
      "\t Loss: 1.233,\tTrain : 98.80%(99.10%),\tTest : 97.09%(97.34%),\tCurrent Time: 20250720-132350\n"
     ]
    },
    {
     "name": "stderr",
     "output_type": "stream",
     "text": [
      "Epoch 32/50:: 100%|\u001b[34m███████████████████\u001b[0m| 120/120 [00:02<00:00, 48.97batch/s, loss=0.037912]\u001b[0m\n"
     ]
    },
    {
     "name": "stdout",
     "output_type": "stream",
     "text": [
      "\t Loss: 0.972,\tTrain : 99.05%(99.10%),\tTest : 97.31%(97.34%),\tCurrent Time: 20250720-132353\n"
     ]
    },
    {
     "name": "stderr",
     "output_type": "stream",
     "text": [
      "Epoch 33/50:: 100%|\u001b[34m███████████████████\u001b[0m| 120/120 [00:02<00:00, 49.11batch/s, loss=0.035953]\u001b[0m\n"
     ]
    },
    {
     "name": "stdout",
     "output_type": "stream",
     "text": [
      "\t Loss: 0.836,\tTrain : 99.20%(99.20%),\tTest : 97.20%(97.34%),\tCurrent Time: 20250720-132355\n"
     ]
    },
    {
     "name": "stderr",
     "output_type": "stream",
     "text": [
      "Epoch 34/50:: 100%|\u001b[34m███████████████████\u001b[0m| 120/120 [00:02<00:00, 49.14batch/s, loss=0.033106]\u001b[0m\n"
     ]
    },
    {
     "name": "stdout",
     "output_type": "stream",
     "text": [
      "\t Loss: 0.825,\tTrain : 99.19%(99.20%),\tTest : 97.14%(97.34%),\tCurrent Time: 20250720-132358\n"
     ]
    },
    {
     "name": "stderr",
     "output_type": "stream",
     "text": [
      "Epoch 35/50:: 100%|\u001b[34m███████████████████\u001b[0m| 120/120 [00:02<00:00, 48.84batch/s, loss=0.030792]\u001b[0m\n"
     ]
    },
    {
     "name": "stdout",
     "output_type": "stream",
     "text": [
      "\t Loss: 0.754,\tTrain : 99.27%(99.27%),\tTest : 97.23%(97.34%),\tCurrent Time: 20250720-132401\n"
     ]
    },
    {
     "name": "stderr",
     "output_type": "stream",
     "text": [
      "Epoch 36/50:: 100%|\u001b[34m███████████████████\u001b[0m| 120/120 [00:02<00:00, 48.91batch/s, loss=0.031642]\u001b[0m\n"
     ]
    },
    {
     "name": "stdout",
     "output_type": "stream",
     "text": [
      "\t Loss: 0.750,\tTrain : 99.28%(99.28%),\tTest : 97.16%(97.34%),\tCurrent Time: 20250720-132404\n"
     ]
    },
    {
     "name": "stderr",
     "output_type": "stream",
     "text": [
      "Epoch 37/50:: 100%|\u001b[34m███████████████████\u001b[0m| 120/120 [00:02<00:00, 48.91batch/s, loss=0.029539]\u001b[0m\n"
     ]
    },
    {
     "name": "stdout",
     "output_type": "stream",
     "text": [
      "\t Loss: 0.720,\tTrain : 99.33%(99.33%),\tTest : 97.36%(97.36%),\tCurrent Time: 20250720-132407\n"
     ]
    },
    {
     "name": "stderr",
     "output_type": "stream",
     "text": [
      "Epoch 38/50:: 100%|\u001b[34m███████████████████\u001b[0m| 120/120 [00:02<00:00, 48.97batch/s, loss=0.023807]\u001b[0m\n"
     ]
    },
    {
     "name": "stdout",
     "output_type": "stream",
     "text": [
      "\t Loss: 0.718,\tTrain : 99.26%(99.33%),\tTest : 97.23%(97.36%),\tCurrent Time: 20250720-132410\n"
     ]
    },
    {
     "name": "stderr",
     "output_type": "stream",
     "text": [
      "Epoch 39/50:: 100%|\u001b[34m███████████████████\u001b[0m| 120/120 [00:02<00:00, 49.01batch/s, loss=0.030138]\u001b[0m\n"
     ]
    },
    {
     "name": "stdout",
     "output_type": "stream",
     "text": [
      "\t Loss: 0.780,\tTrain : 99.24%(99.33%),\tTest : 97.12%(97.36%),\tCurrent Time: 20250720-132413\n"
     ]
    },
    {
     "name": "stderr",
     "output_type": "stream",
     "text": [
      "Epoch 40/50:: 100%|\u001b[34m███████████████████\u001b[0m| 120/120 [00:02<00:00, 49.10batch/s, loss=0.029929]\u001b[0m\n"
     ]
    },
    {
     "name": "stdout",
     "output_type": "stream",
     "text": [
      "\t Loss: 0.959,\tTrain : 98.99%(99.33%),\tTest : 97.06%(97.36%),\tCurrent Time: 20250720-132416\n"
     ]
    },
    {
     "name": "stderr",
     "output_type": "stream",
     "text": [
      "Epoch 41/50:: 100%|\u001b[34m███████████████████\u001b[0m| 120/120 [00:02<00:00, 48.88batch/s, loss=0.028358]\u001b[0m\n"
     ]
    },
    {
     "name": "stdout",
     "output_type": "stream",
     "text": [
      "\t Loss: 0.528,\tTrain : 99.48%(99.48%),\tTest : 97.24%(97.36%),\tCurrent Time: 20250720-132419\n"
     ]
    },
    {
     "name": "stderr",
     "output_type": "stream",
     "text": [
      "Epoch 42/50:: 100%|\u001b[34m███████████████████\u001b[0m| 120/120 [00:02<00:00, 48.60batch/s, loss=0.025391]\u001b[0m\n"
     ]
    },
    {
     "name": "stdout",
     "output_type": "stream",
     "text": [
      "\t Loss: 0.635,\tTrain : 99.38%(99.48%),\tTest : 97.08%(97.36%),\tCurrent Time: 20250720-132422\n"
     ]
    },
    {
     "name": "stderr",
     "output_type": "stream",
     "text": [
      "Epoch 43/50:: 100%|\u001b[34m███████████████████\u001b[0m| 120/120 [00:02<00:00, 48.91batch/s, loss=0.022282]\u001b[0m\n"
     ]
    },
    {
     "name": "stdout",
     "output_type": "stream",
     "text": [
      "\t Loss: 0.667,\tTrain : 99.32%(99.48%),\tTest : 97.08%(97.36%),\tCurrent Time: 20250720-132425\n"
     ]
    },
    {
     "name": "stderr",
     "output_type": "stream",
     "text": [
      "Epoch 44/50:: 100%|\u001b[34m███████████████████\u001b[0m| 120/120 [00:02<00:00, 48.98batch/s, loss=0.022849]\u001b[0m\n"
     ]
    },
    {
     "name": "stdout",
     "output_type": "stream",
     "text": [
      "\t Loss: 1.062,\tTrain : 98.92%(99.48%),\tTest : 96.81%(97.36%),\tCurrent Time: 20250720-132428\n"
     ]
    },
    {
     "name": "stderr",
     "output_type": "stream",
     "text": [
      "Epoch 45/50:: 100%|\u001b[34m███████████████████\u001b[0m| 120/120 [00:02<00:00, 49.62batch/s, loss=0.023793]\u001b[0m\n"
     ]
    },
    {
     "name": "stdout",
     "output_type": "stream",
     "text": [
      "\t Loss: 0.535,\tTrain : 99.49%(99.49%),\tTest : 97.30%(97.36%),\tCurrent Time: 20250720-132430\n"
     ]
    },
    {
     "name": "stderr",
     "output_type": "stream",
     "text": [
      "Epoch 46/50:: 100%|\u001b[34m███████████████████\u001b[0m| 120/120 [00:02<00:00, 49.82batch/s, loss=0.018582]\u001b[0m\n"
     ]
    },
    {
     "name": "stdout",
     "output_type": "stream",
     "text": [
      "\t Loss: 0.540,\tTrain : 99.46%(99.49%),\tTest : 97.22%(97.36%),\tCurrent Time: 20250720-132433\n"
     ]
    },
    {
     "name": "stderr",
     "output_type": "stream",
     "text": [
      "Epoch 47/50:: 100%|\u001b[34m███████████████████\u001b[0m| 120/120 [00:02<00:00, 49.10batch/s, loss=0.019454]\u001b[0m\n"
     ]
    },
    {
     "name": "stdout",
     "output_type": "stream",
     "text": [
      "\t Loss: 0.411,\tTrain : 99.56%(99.56%),\tTest : 97.27%(97.36%),\tCurrent Time: 20250720-132436\n"
     ]
    },
    {
     "name": "stderr",
     "output_type": "stream",
     "text": [
      "Epoch 48/50:: 100%|\u001b[34m███████████████████\u001b[0m| 120/120 [00:02<00:00, 49.07batch/s, loss=0.016925]\u001b[0m\n"
     ]
    },
    {
     "name": "stdout",
     "output_type": "stream",
     "text": [
      "\t Loss: 0.354,\tTrain : 99.65%(99.65%),\tTest : 97.40%(97.40%),\tCurrent Time: 20250720-132439\n"
     ]
    },
    {
     "name": "stderr",
     "output_type": "stream",
     "text": [
      "Epoch 49/50:: 100%|\u001b[34m███████████████████\u001b[0m| 120/120 [00:02<00:00, 49.20batch/s, loss=0.013682]\u001b[0m\n"
     ]
    },
    {
     "name": "stdout",
     "output_type": "stream",
     "text": [
      "\t Loss: 0.500,\tTrain : 99.48%(99.65%),\tTest : 96.96%(97.40%),\tCurrent Time: 20250720-132442\n"
     ]
    },
    {
     "name": "stderr",
     "output_type": "stream",
     "text": [
      "Epoch 50/50:: 100%|\u001b[34m███████████████████\u001b[0m| 120/120 [00:02<00:00, 48.93batch/s, loss=0.015642]\u001b[0m\n"
     ]
    },
    {
     "name": "stdout",
     "output_type": "stream",
     "text": [
      "\t Loss: 0.312,\tTrain : 99.72%(99.72%),\tTest : 97.45%(97.45%),\tCurrent Time: 20250720-132445\n",
      "First_symm_10HL_Res-Task2-0-EP_L10--MNIST_EP_b_sc0.01- Time: 20250720-132445, Epochs: 50, Learning Rate: 0.001, Best: 99.72%  97.45%\n",
      "\n",
      "First_symm_10HL_Res-Task2-0-EP_L10--MNIST_EP_b_sc0.01-\n"
     ]
    },
    {
     "name": "stderr",
     "output_type": "stream",
     "text": [
      "Epoch 1/50:: 100%|\u001b[34m████████████████████\u001b[0m| 120/120 [00:02<00:00, 45.18batch/s, loss=0.691259]\u001b[0m\n"
     ]
    },
    {
     "name": "stdout",
     "output_type": "stream",
     "text": [
      "\t Loss: 9.486,\tTrain : 90.85%(90.85%),\tTest : 91.20%(91.20%),\tCurrent Time: 20250720-132452\n"
     ]
    },
    {
     "name": "stderr",
     "output_type": "stream",
     "text": [
      "Epoch 2/50:: 100%|\u001b[34m████████████████████\u001b[0m| 120/120 [00:02<00:00, 48.89batch/s, loss=0.271960]\u001b[0m\n"
     ]
    },
    {
     "name": "stdout",
     "output_type": "stream",
     "text": [
      "\t Loss: 6.738,\tTrain : 93.25%(93.25%),\tTest : 93.39%(93.39%),\tCurrent Time: 20250720-132455\n"
     ]
    },
    {
     "name": "stderr",
     "output_type": "stream",
     "text": [
      "Epoch 3/50:: 100%|\u001b[34m████████████████████\u001b[0m| 120/120 [00:02<00:00, 49.16batch/s, loss=0.205727]\u001b[0m\n"
     ]
    },
    {
     "name": "stdout",
     "output_type": "stream",
     "text": [
      "\t Loss: 5.533,\tTrain : 94.50%(94.50%),\tTest : 94.19%(94.19%),\tCurrent Time: 20250720-132458\n"
     ]
    },
    {
     "name": "stderr",
     "output_type": "stream",
     "text": [
      "Epoch 4/50:: 100%|\u001b[34m████████████████████\u001b[0m| 120/120 [00:02<00:00, 48.89batch/s, loss=0.176441]\u001b[0m\n"
     ]
    },
    {
     "name": "stdout",
     "output_type": "stream",
     "text": [
      "\t Loss: 4.627,\tTrain : 95.34%(95.34%),\tTest : 95.13%(95.13%),\tCurrent Time: 20250720-132501\n"
     ]
    },
    {
     "name": "stderr",
     "output_type": "stream",
     "text": [
      "Epoch 5/50:: 100%|\u001b[34m████████████████████\u001b[0m| 120/120 [00:02<00:00, 49.05batch/s, loss=0.153469]\u001b[0m\n"
     ]
    },
    {
     "name": "stdout",
     "output_type": "stream",
     "text": [
      "\t Loss: 4.812,\tTrain : 95.16%(95.34%),\tTest : 94.94%(95.13%),\tCurrent Time: 20250720-132504\n"
     ]
    },
    {
     "name": "stderr",
     "output_type": "stream",
     "text": [
      "Epoch 6/50:: 100%|\u001b[34m████████████████████\u001b[0m| 120/120 [00:02<00:00, 49.17batch/s, loss=0.140055]\u001b[0m\n"
     ]
    },
    {
     "name": "stdout",
     "output_type": "stream",
     "text": [
      "\t Loss: 3.776,\tTrain : 96.25%(96.25%),\tTest : 95.71%(95.71%),\tCurrent Time: 20250720-132507\n"
     ]
    },
    {
     "name": "stderr",
     "output_type": "stream",
     "text": [
      "Epoch 7/50:: 100%|\u001b[34m████████████████████\u001b[0m| 120/120 [00:02<00:00, 49.09batch/s, loss=0.125440]\u001b[0m\n"
     ]
    },
    {
     "name": "stdout",
     "output_type": "stream",
     "text": [
      "\t Loss: 3.335,\tTrain : 96.72%(96.72%),\tTest : 96.07%(96.07%),\tCurrent Time: 20250720-132510\n"
     ]
    },
    {
     "name": "stderr",
     "output_type": "stream",
     "text": [
      "Epoch 8/50:: 100%|\u001b[34m████████████████████\u001b[0m| 120/120 [00:02<00:00, 49.04batch/s, loss=0.114908]\u001b[0m\n"
     ]
    },
    {
     "name": "stdout",
     "output_type": "stream",
     "text": [
      "\t Loss: 3.115,\tTrain : 96.88%(96.88%),\tTest : 96.25%(96.25%),\tCurrent Time: 20250720-132513\n"
     ]
    },
    {
     "name": "stderr",
     "output_type": "stream",
     "text": [
      "Epoch 9/50:: 100%|\u001b[34m████████████████████\u001b[0m| 120/120 [00:02<00:00, 49.23batch/s, loss=0.106307]\u001b[0m\n"
     ]
    },
    {
     "name": "stdout",
     "output_type": "stream",
     "text": [
      "\t Loss: 3.063,\tTrain : 96.92%(96.92%),\tTest : 96.25%(96.25%),\tCurrent Time: 20250720-132516\n"
     ]
    },
    {
     "name": "stderr",
     "output_type": "stream",
     "text": [
      "Epoch 10/50:: 100%|\u001b[34m███████████████████\u001b[0m| 120/120 [00:02<00:00, 49.02batch/s, loss=0.101337]\u001b[0m\n"
     ]
    },
    {
     "name": "stdout",
     "output_type": "stream",
     "text": [
      "\t Loss: 2.744,\tTrain : 97.26%(97.26%),\tTest : 96.37%(96.37%),\tCurrent Time: 20250720-132519\n"
     ]
    },
    {
     "name": "stderr",
     "output_type": "stream",
     "text": [
      "Epoch 11/50:: 100%|\u001b[34m███████████████████\u001b[0m| 120/120 [00:02<00:00, 49.40batch/s, loss=0.092260]\u001b[0m\n"
     ]
    },
    {
     "name": "stdout",
     "output_type": "stream",
     "text": [
      "\t Loss: 2.503,\tTrain : 97.48%(97.48%),\tTest : 96.55%(96.55%),\tCurrent Time: 20250720-132522\n"
     ]
    },
    {
     "name": "stderr",
     "output_type": "stream",
     "text": [
      "Epoch 12/50:: 100%|\u001b[34m███████████████████\u001b[0m| 120/120 [00:02<00:00, 49.27batch/s, loss=0.086441]\u001b[0m\n"
     ]
    },
    {
     "name": "stdout",
     "output_type": "stream",
     "text": [
      "\t Loss: 2.305,\tTrain : 97.69%(97.69%),\tTest : 96.79%(96.79%),\tCurrent Time: 20250720-132524\n"
     ]
    },
    {
     "name": "stderr",
     "output_type": "stream",
     "text": [
      "Epoch 13/50:: 100%|\u001b[34m███████████████████\u001b[0m| 120/120 [00:02<00:00, 49.22batch/s, loss=0.085185]\u001b[0m\n"
     ]
    },
    {
     "name": "stdout",
     "output_type": "stream",
     "text": [
      "\t Loss: 2.299,\tTrain : 97.67%(97.69%),\tTest : 96.68%(96.79%),\tCurrent Time: 20250720-132527\n"
     ]
    },
    {
     "name": "stderr",
     "output_type": "stream",
     "text": [
      "Epoch 14/50:: 100%|\u001b[34m███████████████████\u001b[0m| 120/120 [00:02<00:00, 48.80batch/s, loss=0.086653]\u001b[0m\n"
     ]
    },
    {
     "name": "stdout",
     "output_type": "stream",
     "text": [
      "\t Loss: 2.344,\tTrain : 97.63%(97.69%),\tTest : 96.73%(96.79%),\tCurrent Time: 20250720-132530\n"
     ]
    },
    {
     "name": "stderr",
     "output_type": "stream",
     "text": [
      "Epoch 15/50:: 100%|\u001b[34m███████████████████\u001b[0m| 120/120 [00:02<00:00, 48.97batch/s, loss=0.078205]\u001b[0m\n"
     ]
    },
    {
     "name": "stdout",
     "output_type": "stream",
     "text": [
      "\t Loss: 1.969,\tTrain : 98.07%(98.07%),\tTest : 96.72%(96.79%),\tCurrent Time: 20250720-132533\n"
     ]
    },
    {
     "name": "stderr",
     "output_type": "stream",
     "text": [
      "Epoch 16/50:: 100%|\u001b[34m███████████████████\u001b[0m| 120/120 [00:02<00:00, 49.37batch/s, loss=0.071733]\u001b[0m\n"
     ]
    },
    {
     "name": "stdout",
     "output_type": "stream",
     "text": [
      "\t Loss: 1.988,\tTrain : 98.04%(98.07%),\tTest : 96.86%(96.86%),\tCurrent Time: 20250720-132536\n"
     ]
    },
    {
     "name": "stderr",
     "output_type": "stream",
     "text": [
      "Epoch 17/50:: 100%|\u001b[34m███████████████████\u001b[0m| 120/120 [00:02<00:00, 48.82batch/s, loss=0.069186]\u001b[0m\n"
     ]
    },
    {
     "name": "stdout",
     "output_type": "stream",
     "text": [
      "\t Loss: 2.155,\tTrain : 97.87%(98.07%),\tTest : 96.56%(96.86%),\tCurrent Time: 20250720-132539\n"
     ]
    },
    {
     "name": "stderr",
     "output_type": "stream",
     "text": [
      "Epoch 18/50:: 100%|\u001b[34m███████████████████\u001b[0m| 120/120 [00:02<00:00, 49.17batch/s, loss=0.068985]\u001b[0m\n"
     ]
    },
    {
     "name": "stdout",
     "output_type": "stream",
     "text": [
      "\t Loss: 1.760,\tTrain : 98.21%(98.21%),\tTest : 96.82%(96.86%),\tCurrent Time: 20250720-132542\n"
     ]
    },
    {
     "name": "stderr",
     "output_type": "stream",
     "text": [
      "Epoch 19/50:: 100%|\u001b[34m███████████████████\u001b[0m| 120/120 [00:02<00:00, 49.20batch/s, loss=0.063095]\u001b[0m\n"
     ]
    },
    {
     "name": "stdout",
     "output_type": "stream",
     "text": [
      "\t Loss: 1.580,\tTrain : 98.39%(98.39%),\tTest : 96.99%(96.99%),\tCurrent Time: 20250720-132545\n"
     ]
    },
    {
     "name": "stderr",
     "output_type": "stream",
     "text": [
      "Epoch 20/50:: 100%|\u001b[34m███████████████████\u001b[0m| 120/120 [00:02<00:00, 49.15batch/s, loss=0.057925]\u001b[0m\n"
     ]
    },
    {
     "name": "stdout",
     "output_type": "stream",
     "text": [
      "\t Loss: 1.561,\tTrain : 98.44%(98.44%),\tTest : 97.08%(97.08%),\tCurrent Time: 20250720-132548\n"
     ]
    },
    {
     "name": "stderr",
     "output_type": "stream",
     "text": [
      "Epoch 21/50:: 100%|\u001b[34m███████████████████\u001b[0m| 120/120 [00:02<00:00, 48.96batch/s, loss=0.059433]\u001b[0m\n"
     ]
    },
    {
     "name": "stdout",
     "output_type": "stream",
     "text": [
      "\t Loss: 1.367,\tTrain : 98.66%(98.66%),\tTest : 97.13%(97.13%),\tCurrent Time: 20250720-132551\n"
     ]
    },
    {
     "name": "stderr",
     "output_type": "stream",
     "text": [
      "Epoch 22/50:: 100%|\u001b[34m███████████████████\u001b[0m| 120/120 [00:02<00:00, 49.23batch/s, loss=0.052644]\u001b[0m\n"
     ]
    },
    {
     "name": "stdout",
     "output_type": "stream",
     "text": [
      "\t Loss: 1.665,\tTrain : 98.30%(98.66%),\tTest : 96.87%(97.13%),\tCurrent Time: 20250720-132554\n"
     ]
    },
    {
     "name": "stderr",
     "output_type": "stream",
     "text": [
      "Epoch 23/50:: 100%|\u001b[34m███████████████████\u001b[0m| 120/120 [00:02<00:00, 48.95batch/s, loss=0.052613]\u001b[0m\n"
     ]
    },
    {
     "name": "stdout",
     "output_type": "stream",
     "text": [
      "\t Loss: 1.743,\tTrain : 98.31%(98.66%),\tTest : 96.86%(97.13%),\tCurrent Time: 20250720-132557\n"
     ]
    },
    {
     "name": "stderr",
     "output_type": "stream",
     "text": [
      "Epoch 24/50:: 100%|\u001b[34m███████████████████\u001b[0m| 120/120 [00:02<00:00, 49.22batch/s, loss=0.048120]\u001b[0m\n"
     ]
    },
    {
     "name": "stdout",
     "output_type": "stream",
     "text": [
      "\t Loss: 1.108,\tTrain : 98.92%(98.92%),\tTest : 97.25%(97.25%),\tCurrent Time: 20250720-132559\n"
     ]
    },
    {
     "name": "stderr",
     "output_type": "stream",
     "text": [
      "Epoch 25/50:: 100%|\u001b[34m███████████████████\u001b[0m| 120/120 [00:02<00:00, 49.13batch/s, loss=0.044125]\u001b[0m\n"
     ]
    },
    {
     "name": "stdout",
     "output_type": "stream",
     "text": [
      "\t Loss: 1.396,\tTrain : 98.60%(98.92%),\tTest : 97.03%(97.25%),\tCurrent Time: 20250720-132602\n"
     ]
    },
    {
     "name": "stderr",
     "output_type": "stream",
     "text": [
      "Epoch 26/50:: 100%|\u001b[34m███████████████████\u001b[0m| 120/120 [00:02<00:00, 48.98batch/s, loss=0.048851]\u001b[0m\n"
     ]
    },
    {
     "name": "stdout",
     "output_type": "stream",
     "text": [
      "\t Loss: 1.234,\tTrain : 98.82%(98.92%),\tTest : 97.18%(97.25%),\tCurrent Time: 20250720-132605\n"
     ]
    },
    {
     "name": "stderr",
     "output_type": "stream",
     "text": [
      "Epoch 27/50:: 100%|\u001b[34m███████████████████\u001b[0m| 120/120 [00:02<00:00, 49.18batch/s, loss=0.044083]\u001b[0m\n"
     ]
    },
    {
     "name": "stdout",
     "output_type": "stream",
     "text": [
      "\t Loss: 1.079,\tTrain : 98.93%(98.93%),\tTest : 97.32%(97.32%),\tCurrent Time: 20250720-132608\n"
     ]
    },
    {
     "name": "stderr",
     "output_type": "stream",
     "text": [
      "Epoch 28/50:: 100%|\u001b[34m███████████████████\u001b[0m| 120/120 [00:02<00:00, 49.20batch/s, loss=0.038789]\u001b[0m\n"
     ]
    },
    {
     "name": "stdout",
     "output_type": "stream",
     "text": [
      "\t Loss: 1.196,\tTrain : 98.76%(98.93%),\tTest : 97.07%(97.32%),\tCurrent Time: 20250720-132611\n"
     ]
    },
    {
     "name": "stderr",
     "output_type": "stream",
     "text": [
      "Epoch 29/50:: 100%|\u001b[34m███████████████████\u001b[0m| 120/120 [00:02<00:00, 49.06batch/s, loss=0.038922]\u001b[0m\n"
     ]
    },
    {
     "name": "stdout",
     "output_type": "stream",
     "text": [
      "\t Loss: 1.018,\tTrain : 98.95%(98.95%),\tTest : 97.35%(97.35%),\tCurrent Time: 20250720-132614\n"
     ]
    },
    {
     "name": "stderr",
     "output_type": "stream",
     "text": [
      "Epoch 30/50:: 100%|\u001b[34m███████████████████\u001b[0m| 120/120 [00:02<00:00, 49.12batch/s, loss=0.035233]\u001b[0m\n"
     ]
    },
    {
     "name": "stdout",
     "output_type": "stream",
     "text": [
      "\t Loss: 0.828,\tTrain : 99.23%(99.23%),\tTest : 97.43%(97.43%),\tCurrent Time: 20250720-132617\n"
     ]
    },
    {
     "name": "stderr",
     "output_type": "stream",
     "text": [
      "Epoch 31/50:: 100%|\u001b[34m███████████████████\u001b[0m| 120/120 [00:02<00:00, 49.11batch/s, loss=0.036197]\u001b[0m\n"
     ]
    },
    {
     "name": "stdout",
     "output_type": "stream",
     "text": [
      "\t Loss: 0.708,\tTrain : 99.33%(99.33%),\tTest : 97.38%(97.43%),\tCurrent Time: 20250720-132620\n"
     ]
    },
    {
     "name": "stderr",
     "output_type": "stream",
     "text": [
      "Epoch 32/50:: 100%|\u001b[34m███████████████████\u001b[0m| 120/120 [00:02<00:00, 49.12batch/s, loss=0.030174]\u001b[0m\n"
     ]
    },
    {
     "name": "stdout",
     "output_type": "stream",
     "text": [
      "\t Loss: 0.737,\tTrain : 99.30%(99.33%),\tTest : 97.39%(97.43%),\tCurrent Time: 20250720-132623\n"
     ]
    },
    {
     "name": "stderr",
     "output_type": "stream",
     "text": [
      "Epoch 33/50:: 100%|\u001b[34m███████████████████\u001b[0m| 120/120 [00:02<00:00, 49.74batch/s, loss=0.029399]\u001b[0m\n"
     ]
    },
    {
     "name": "stdout",
     "output_type": "stream",
     "text": [
      "\t Loss: 0.734,\tTrain : 99.27%(99.33%),\tTest : 97.29%(97.43%),\tCurrent Time: 20250720-132626\n"
     ]
    },
    {
     "name": "stderr",
     "output_type": "stream",
     "text": [
      "Epoch 34/50:: 100%|\u001b[34m███████████████████\u001b[0m| 120/120 [00:02<00:00, 49.44batch/s, loss=0.028388]\u001b[0m\n"
     ]
    },
    {
     "name": "stdout",
     "output_type": "stream",
     "text": [
      "\t Loss: 0.903,\tTrain : 99.09%(99.33%),\tTest : 96.92%(97.43%),\tCurrent Time: 20250720-132628\n"
     ]
    },
    {
     "name": "stderr",
     "output_type": "stream",
     "text": [
      "Epoch 35/50:: 100%|\u001b[34m███████████████████\u001b[0m| 120/120 [00:02<00:00, 48.87batch/s, loss=0.026385]\u001b[0m\n"
     ]
    },
    {
     "name": "stdout",
     "output_type": "stream",
     "text": [
      "\t Loss: 0.825,\tTrain : 99.14%(99.33%),\tTest : 97.07%(97.43%),\tCurrent Time: 20250720-132631\n"
     ]
    },
    {
     "name": "stderr",
     "output_type": "stream",
     "text": [
      "Epoch 36/50:: 100%|\u001b[34m███████████████████\u001b[0m| 120/120 [00:02<00:00, 48.97batch/s, loss=0.028604]\u001b[0m\n"
     ]
    },
    {
     "name": "stdout",
     "output_type": "stream",
     "text": [
      "\t Loss: 0.789,\tTrain : 99.22%(99.33%),\tTest : 97.11%(97.43%),\tCurrent Time: 20250720-132634\n"
     ]
    },
    {
     "name": "stderr",
     "output_type": "stream",
     "text": [
      "Epoch 37/50:: 100%|\u001b[34m███████████████████\u001b[0m| 120/120 [00:02<00:00, 49.02batch/s, loss=0.024229]\u001b[0m\n"
     ]
    },
    {
     "name": "stdout",
     "output_type": "stream",
     "text": [
      "\t Loss: 0.594,\tTrain : 99.39%(99.39%),\tTest : 97.24%(97.43%),\tCurrent Time: 20250720-132637\n"
     ]
    },
    {
     "name": "stderr",
     "output_type": "stream",
     "text": [
      "Epoch 38/50:: 100%|\u001b[34m███████████████████\u001b[0m| 120/120 [00:02<00:00, 49.55batch/s, loss=0.023111]\u001b[0m\n"
     ]
    },
    {
     "name": "stdout",
     "output_type": "stream",
     "text": [
      "\t Loss: 0.450,\tTrain : 99.59%(99.59%),\tTest : 97.39%(97.43%),\tCurrent Time: 20250720-132640\n"
     ]
    },
    {
     "name": "stderr",
     "output_type": "stream",
     "text": [
      "Epoch 39/50:: 100%|\u001b[34m███████████████████\u001b[0m| 120/120 [00:02<00:00, 49.36batch/s, loss=0.023761]\u001b[0m\n"
     ]
    },
    {
     "name": "stdout",
     "output_type": "stream",
     "text": [
      "\t Loss: 0.506,\tTrain : 99.50%(99.59%),\tTest : 97.31%(97.43%),\tCurrent Time: 20250720-132643\n"
     ]
    },
    {
     "name": "stderr",
     "output_type": "stream",
     "text": [
      "Epoch 40/50:: 100%|\u001b[34m███████████████████\u001b[0m| 120/120 [00:02<00:00, 49.44batch/s, loss=0.019541]\u001b[0m\n"
     ]
    },
    {
     "name": "stdout",
     "output_type": "stream",
     "text": [
      "\t Loss: 0.665,\tTrain : 99.35%(99.59%),\tTest : 97.23%(97.43%),\tCurrent Time: 20250720-132646\n"
     ]
    },
    {
     "name": "stderr",
     "output_type": "stream",
     "text": [
      "Epoch 41/50:: 100%|\u001b[34m███████████████████\u001b[0m| 120/120 [00:02<00:00, 49.14batch/s, loss=0.021785]\u001b[0m\n"
     ]
    },
    {
     "name": "stdout",
     "output_type": "stream",
     "text": [
      "\t Loss: 0.904,\tTrain : 99.14%(99.59%),\tTest : 96.94%(97.43%),\tCurrent Time: 20250720-132649\n"
     ]
    },
    {
     "name": "stderr",
     "output_type": "stream",
     "text": [
      "Epoch 42/50:: 100%|\u001b[34m███████████████████\u001b[0m| 120/120 [00:02<00:00, 49.29batch/s, loss=0.019139]\u001b[0m\n"
     ]
    },
    {
     "name": "stdout",
     "output_type": "stream",
     "text": [
      "\t Loss: 0.484,\tTrain : 99.51%(99.59%),\tTest : 97.24%(97.43%),\tCurrent Time: 20250720-132652\n"
     ]
    },
    {
     "name": "stderr",
     "output_type": "stream",
     "text": [
      "Epoch 43/50:: 100%|\u001b[34m███████████████████\u001b[0m| 120/120 [00:02<00:00, 49.26batch/s, loss=0.019257]\u001b[0m\n"
     ]
    },
    {
     "name": "stdout",
     "output_type": "stream",
     "text": [
      "\t Loss: 0.450,\tTrain : 99.53%(99.59%),\tTest : 97.07%(97.43%),\tCurrent Time: 20250720-132655\n"
     ]
    },
    {
     "name": "stderr",
     "output_type": "stream",
     "text": [
      "Epoch 44/50:: 100%|\u001b[34m███████████████████\u001b[0m| 120/120 [00:02<00:00, 49.56batch/s, loss=0.018554]\u001b[0m\n"
     ]
    },
    {
     "name": "stdout",
     "output_type": "stream",
     "text": [
      "\t Loss: 0.423,\tTrain : 99.56%(99.59%),\tTest : 97.36%(97.43%),\tCurrent Time: 20250720-132658\n"
     ]
    },
    {
     "name": "stderr",
     "output_type": "stream",
     "text": [
      "Epoch 45/50:: 100%|\u001b[34m███████████████████\u001b[0m| 120/120 [00:02<00:00, 49.78batch/s, loss=0.015521]\u001b[0m\n"
     ]
    },
    {
     "name": "stdout",
     "output_type": "stream",
     "text": [
      "\t Loss: 0.613,\tTrain : 99.34%(99.59%),\tTest : 97.49%(97.49%),\tCurrent Time: 20250720-132700\n"
     ]
    },
    {
     "name": "stderr",
     "output_type": "stream",
     "text": [
      "Epoch 46/50:: 100%|\u001b[34m███████████████████\u001b[0m| 120/120 [00:02<00:00, 49.50batch/s, loss=0.017820]\u001b[0m\n"
     ]
    },
    {
     "name": "stdout",
     "output_type": "stream",
     "text": [
      "\t Loss: 0.369,\tTrain : 99.63%(99.63%),\tTest : 97.39%(97.49%),\tCurrent Time: 20250720-132703\n"
     ]
    },
    {
     "name": "stderr",
     "output_type": "stream",
     "text": [
      "Epoch 47/50:: 100%|\u001b[34m███████████████████\u001b[0m| 120/120 [00:02<00:00, 49.48batch/s, loss=0.014180]\u001b[0m\n"
     ]
    },
    {
     "name": "stdout",
     "output_type": "stream",
     "text": [
      "\t Loss: 0.297,\tTrain : 99.70%(99.70%),\tTest : 97.32%(97.49%),\tCurrent Time: 20250720-132706\n"
     ]
    },
    {
     "name": "stderr",
     "output_type": "stream",
     "text": [
      "Epoch 48/50:: 100%|\u001b[34m███████████████████\u001b[0m| 120/120 [00:02<00:00, 49.06batch/s, loss=0.012218]\u001b[0m\n"
     ]
    },
    {
     "name": "stdout",
     "output_type": "stream",
     "text": [
      "\t Loss: 0.404,\tTrain : 99.56%(99.70%),\tTest : 97.24%(97.49%),\tCurrent Time: 20250720-132709\n"
     ]
    },
    {
     "name": "stderr",
     "output_type": "stream",
     "text": [
      "Epoch 49/50:: 100%|\u001b[34m███████████████████\u001b[0m| 120/120 [00:02<00:00, 49.12batch/s, loss=0.017027]\u001b[0m\n"
     ]
    },
    {
     "name": "stdout",
     "output_type": "stream",
     "text": [
      "\t Loss: 0.391,\tTrain : 99.60%(99.70%),\tTest : 97.45%(97.49%),\tCurrent Time: 20250720-132712\n"
     ]
    },
    {
     "name": "stderr",
     "output_type": "stream",
     "text": [
      "Epoch 50/50:: 100%|\u001b[34m███████████████████\u001b[0m| 120/120 [00:02<00:00, 49.03batch/s, loss=0.013463]\u001b[0m\n"
     ]
    },
    {
     "name": "stdout",
     "output_type": "stream",
     "text": [
      "\t Loss: 0.367,\tTrain : 99.59%(99.70%),\tTest : 97.22%(97.49%),\tCurrent Time: 20250720-132715\n",
      "First_symm_10HL_Res-Task2-0-EP_L10--MNIST_EP_b_sc0.01- Time: 20250720-132715, Epochs: 50, Learning Rate: 0.001, Best: 99.70%  97.49%\n",
      "\n",
      "First_symm_10HL_Res-Task2-0-EP_L10--MNIST_EP_b_sc0.01-\n"
     ]
    },
    {
     "name": "stderr",
     "output_type": "stream",
     "text": [
      "Epoch 1/50:: 100%|\u001b[34m████████████████████\u001b[0m| 120/120 [00:02<00:00, 45.08batch/s, loss=0.686423]\u001b[0m\n"
     ]
    },
    {
     "name": "stdout",
     "output_type": "stream",
     "text": [
      "\t Loss: 9.544,\tTrain : 90.67%(90.67%),\tTest : 91.07%(91.07%),\tCurrent Time: 20250720-132722\n"
     ]
    },
    {
     "name": "stderr",
     "output_type": "stream",
     "text": [
      "Epoch 2/50:: 100%|\u001b[34m████████████████████\u001b[0m| 120/120 [00:02<00:00, 49.11batch/s, loss=0.273923]\u001b[0m\n"
     ]
    },
    {
     "name": "stdout",
     "output_type": "stream",
     "text": [
      "\t Loss: 6.782,\tTrain : 93.17%(93.17%),\tTest : 92.98%(92.98%),\tCurrent Time: 20250720-132725\n"
     ]
    },
    {
     "name": "stderr",
     "output_type": "stream",
     "text": [
      "Epoch 3/50:: 100%|\u001b[34m████████████████████\u001b[0m| 120/120 [00:02<00:00, 48.76batch/s, loss=0.213434]\u001b[0m\n"
     ]
    },
    {
     "name": "stdout",
     "output_type": "stream",
     "text": [
      "\t Loss: 6.342,\tTrain : 93.64%(93.64%),\tTest : 93.46%(93.46%),\tCurrent Time: 20250720-132728\n"
     ]
    },
    {
     "name": "stderr",
     "output_type": "stream",
     "text": [
      "Epoch 4/50:: 100%|\u001b[34m████████████████████\u001b[0m| 120/120 [00:02<00:00, 48.78batch/s, loss=0.181134]\u001b[0m\n"
     ]
    },
    {
     "name": "stdout",
     "output_type": "stream",
     "text": [
      "\t Loss: 4.892,\tTrain : 95.11%(95.11%),\tTest : 94.56%(94.56%),\tCurrent Time: 20250720-132731\n"
     ]
    },
    {
     "name": "stderr",
     "output_type": "stream",
     "text": [
      "Epoch 5/50:: 100%|\u001b[34m████████████████████\u001b[0m| 120/120 [00:02<00:00, 49.00batch/s, loss=0.160988]\u001b[0m\n"
     ]
    },
    {
     "name": "stdout",
     "output_type": "stream",
     "text": [
      "\t Loss: 4.293,\tTrain : 95.65%(95.65%),\tTest : 95.20%(95.20%),\tCurrent Time: 20250720-132734\n"
     ]
    },
    {
     "name": "stderr",
     "output_type": "stream",
     "text": [
      "Epoch 6/50:: 100%|\u001b[34m████████████████████\u001b[0m| 120/120 [00:02<00:00, 49.16batch/s, loss=0.140602]\u001b[0m\n"
     ]
    },
    {
     "name": "stdout",
     "output_type": "stream",
     "text": [
      "\t Loss: 3.719,\tTrain : 96.26%(96.26%),\tTest : 95.63%(95.63%),\tCurrent Time: 20250720-132737\n"
     ]
    },
    {
     "name": "stderr",
     "output_type": "stream",
     "text": [
      "Epoch 7/50:: 100%|\u001b[34m████████████████████\u001b[0m| 120/120 [00:02<00:00, 48.92batch/s, loss=0.130343]\u001b[0m\n"
     ]
    },
    {
     "name": "stdout",
     "output_type": "stream",
     "text": [
      "\t Loss: 3.418,\tTrain : 96.56%(96.56%),\tTest : 95.89%(95.89%),\tCurrent Time: 20250720-132740\n"
     ]
    },
    {
     "name": "stderr",
     "output_type": "stream",
     "text": [
      "Epoch 8/50:: 100%|\u001b[34m████████████████████\u001b[0m| 120/120 [00:02<00:00, 48.97batch/s, loss=0.120377]\u001b[0m\n"
     ]
    },
    {
     "name": "stdout",
     "output_type": "stream",
     "text": [
      "\t Loss: 3.086,\tTrain : 96.92%(96.92%),\tTest : 96.06%(96.06%),\tCurrent Time: 20250720-132743\n"
     ]
    },
    {
     "name": "stderr",
     "output_type": "stream",
     "text": [
      "Epoch 9/50:: 100%|\u001b[34m████████████████████\u001b[0m| 120/120 [00:02<00:00, 48.91batch/s, loss=0.110963]\u001b[0m\n"
     ]
    },
    {
     "name": "stdout",
     "output_type": "stream",
     "text": [
      "\t Loss: 3.057,\tTrain : 97.00%(97.00%),\tTest : 96.08%(96.08%),\tCurrent Time: 20250720-132746\n"
     ]
    },
    {
     "name": "stderr",
     "output_type": "stream",
     "text": [
      "Epoch 10/50:: 100%|\u001b[34m███████████████████\u001b[0m| 120/120 [00:02<00:00, 48.25batch/s, loss=0.104356]\u001b[0m\n"
     ]
    },
    {
     "name": "stdout",
     "output_type": "stream",
     "text": [
      "\t Loss: 2.726,\tTrain : 97.28%(97.28%),\tTest : 96.30%(96.30%),\tCurrent Time: 20250720-132749\n"
     ]
    },
    {
     "name": "stderr",
     "output_type": "stream",
     "text": [
      "Epoch 11/50:: 100%|\u001b[34m███████████████████\u001b[0m| 120/120 [00:02<00:00, 49.20batch/s, loss=0.095156]\u001b[0m\n"
     ]
    },
    {
     "name": "stdout",
     "output_type": "stream",
     "text": [
      "\t Loss: 2.405,\tTrain : 97.61%(97.61%),\tTest : 96.66%(96.66%),\tCurrent Time: 20250720-132752\n"
     ]
    },
    {
     "name": "stderr",
     "output_type": "stream",
     "text": [
      "Epoch 12/50:: 100%|\u001b[34m███████████████████\u001b[0m| 120/120 [00:02<00:00, 48.80batch/s, loss=0.090544]\u001b[0m\n"
     ]
    },
    {
     "name": "stdout",
     "output_type": "stream",
     "text": [
      "\t Loss: 2.406,\tTrain : 97.61%(97.61%),\tTest : 96.39%(96.66%),\tCurrent Time: 20250720-132754\n"
     ]
    },
    {
     "name": "stderr",
     "output_type": "stream",
     "text": [
      "Epoch 13/50:: 100%|\u001b[34m███████████████████\u001b[0m| 120/120 [00:02<00:00, 49.05batch/s, loss=0.085136]\u001b[0m\n"
     ]
    },
    {
     "name": "stdout",
     "output_type": "stream",
     "text": [
      "\t Loss: 2.137,\tTrain : 97.91%(97.91%),\tTest : 96.74%(96.74%),\tCurrent Time: 20250720-132757\n"
     ]
    },
    {
     "name": "stderr",
     "output_type": "stream",
     "text": [
      "Epoch 14/50:: 100%|\u001b[34m███████████████████\u001b[0m| 120/120 [00:02<00:00, 49.05batch/s, loss=0.082624]\u001b[0m\n"
     ]
    },
    {
     "name": "stdout",
     "output_type": "stream",
     "text": [
      "\t Loss: 2.110,\tTrain : 97.92%(97.92%),\tTest : 96.89%(96.89%),\tCurrent Time: 20250720-132800\n"
     ]
    },
    {
     "name": "stderr",
     "output_type": "stream",
     "text": [
      "Epoch 15/50:: 100%|\u001b[34m███████████████████\u001b[0m| 120/120 [00:02<00:00, 48.38batch/s, loss=0.078499]\u001b[0m\n"
     ]
    },
    {
     "name": "stdout",
     "output_type": "stream",
     "text": [
      "\t Loss: 1.963,\tTrain : 98.08%(98.08%),\tTest : 96.92%(96.92%),\tCurrent Time: 20250720-132803\n"
     ]
    },
    {
     "name": "stderr",
     "output_type": "stream",
     "text": [
      "Epoch 16/50:: 100%|\u001b[34m███████████████████\u001b[0m| 120/120 [00:02<00:00, 48.98batch/s, loss=0.073757]\u001b[0m\n"
     ]
    },
    {
     "name": "stdout",
     "output_type": "stream",
     "text": [
      "\t Loss: 1.854,\tTrain : 98.20%(98.20%),\tTest : 96.97%(96.97%),\tCurrent Time: 20250720-132806\n"
     ]
    },
    {
     "name": "stderr",
     "output_type": "stream",
     "text": [
      "Epoch 17/50:: 100%|\u001b[34m███████████████████\u001b[0m| 120/120 [00:02<00:00, 49.18batch/s, loss=0.070453]\u001b[0m\n"
     ]
    },
    {
     "name": "stdout",
     "output_type": "stream",
     "text": [
      "\t Loss: 2.065,\tTrain : 97.94%(98.20%),\tTest : 96.85%(96.97%),\tCurrent Time: 20250720-132809\n"
     ]
    },
    {
     "name": "stderr",
     "output_type": "stream",
     "text": [
      "Epoch 18/50:: 100%|\u001b[34m███████████████████\u001b[0m| 120/120 [00:02<00:00, 48.71batch/s, loss=0.062453]\u001b[0m\n"
     ]
    },
    {
     "name": "stdout",
     "output_type": "stream",
     "text": [
      "\t Loss: 1.824,\tTrain : 98.22%(98.22%),\tTest : 96.89%(96.97%),\tCurrent Time: 20250720-132812\n"
     ]
    },
    {
     "name": "stderr",
     "output_type": "stream",
     "text": [
      "Epoch 19/50:: 100%|\u001b[34m███████████████████\u001b[0m| 120/120 [00:02<00:00, 48.91batch/s, loss=0.061553]\u001b[0m\n"
     ]
    },
    {
     "name": "stdout",
     "output_type": "stream",
     "text": [
      "\t Loss: 1.483,\tTrain : 98.56%(98.56%),\tTest : 97.17%(97.17%),\tCurrent Time: 20250720-132815\n"
     ]
    },
    {
     "name": "stderr",
     "output_type": "stream",
     "text": [
      "Epoch 20/50:: 100%|\u001b[34m███████████████████\u001b[0m| 120/120 [00:02<00:00, 49.58batch/s, loss=0.058300]\u001b[0m\n"
     ]
    },
    {
     "name": "stdout",
     "output_type": "stream",
     "text": [
      "\t Loss: 1.609,\tTrain : 98.37%(98.56%),\tTest : 97.06%(97.17%),\tCurrent Time: 20250720-132818\n"
     ]
    },
    {
     "name": "stderr",
     "output_type": "stream",
     "text": [
      "Epoch 21/50:: 100%|\u001b[34m███████████████████\u001b[0m| 120/120 [00:02<00:00, 49.66batch/s, loss=0.055610]\u001b[0m\n"
     ]
    },
    {
     "name": "stdout",
     "output_type": "stream",
     "text": [
      "\t Loss: 1.690,\tTrain : 98.23%(98.56%),\tTest : 96.85%(97.17%),\tCurrent Time: 20250720-132821\n"
     ]
    },
    {
     "name": "stderr",
     "output_type": "stream",
     "text": [
      "Epoch 22/50:: 100%|\u001b[34m███████████████████\u001b[0m| 120/120 [00:02<00:00, 48.49batch/s, loss=0.054085]\u001b[0m\n"
     ]
    },
    {
     "name": "stdout",
     "output_type": "stream",
     "text": [
      "\t Loss: 1.257,\tTrain : 98.77%(98.77%),\tTest : 97.29%(97.29%),\tCurrent Time: 20250720-132824\n"
     ]
    },
    {
     "name": "stderr",
     "output_type": "stream",
     "text": [
      "Epoch 23/50:: 100%|\u001b[34m███████████████████\u001b[0m| 120/120 [00:02<00:00, 48.88batch/s, loss=0.048853]\u001b[0m\n"
     ]
    },
    {
     "name": "stdout",
     "output_type": "stream",
     "text": [
      "\t Loss: 1.210,\tTrain : 98.80%(98.80%),\tTest : 97.22%(97.29%),\tCurrent Time: 20250720-132827\n"
     ]
    },
    {
     "name": "stderr",
     "output_type": "stream",
     "text": [
      "Epoch 24/50:: 100%|\u001b[34m███████████████████\u001b[0m| 120/120 [00:02<00:00, 48.58batch/s, loss=0.049696]\u001b[0m\n"
     ]
    },
    {
     "name": "stdout",
     "output_type": "stream",
     "text": [
      "\t Loss: 1.386,\tTrain : 98.60%(98.80%),\tTest : 97.11%(97.29%),\tCurrent Time: 20250720-132829\n"
     ]
    },
    {
     "name": "stderr",
     "output_type": "stream",
     "text": [
      "Epoch 25/50:: 100%|\u001b[34m███████████████████\u001b[0m| 120/120 [00:02<00:00, 48.73batch/s, loss=0.044109]\u001b[0m\n"
     ]
    },
    {
     "name": "stdout",
     "output_type": "stream",
     "text": [
      "\t Loss: 0.958,\tTrain : 99.04%(99.04%),\tTest : 97.35%(97.35%),\tCurrent Time: 20250720-132832\n"
     ]
    },
    {
     "name": "stderr",
     "output_type": "stream",
     "text": [
      "Epoch 26/50:: 100%|\u001b[34m███████████████████\u001b[0m| 120/120 [00:02<00:00, 48.96batch/s, loss=0.041525]\u001b[0m\n"
     ]
    },
    {
     "name": "stdout",
     "output_type": "stream",
     "text": [
      "\t Loss: 1.014,\tTrain : 98.98%(99.04%),\tTest : 97.29%(97.35%),\tCurrent Time: 20250720-132835\n"
     ]
    },
    {
     "name": "stderr",
     "output_type": "stream",
     "text": [
      "Epoch 27/50:: 100%|\u001b[34m███████████████████\u001b[0m| 120/120 [00:02<00:00, 49.16batch/s, loss=0.041370]\u001b[0m\n"
     ]
    },
    {
     "name": "stdout",
     "output_type": "stream",
     "text": [
      "\t Loss: 1.049,\tTrain : 98.96%(99.04%),\tTest : 97.22%(97.35%),\tCurrent Time: 20250720-132838\n"
     ]
    },
    {
     "name": "stderr",
     "output_type": "stream",
     "text": [
      "Epoch 28/50:: 100%|\u001b[34m███████████████████\u001b[0m| 120/120 [00:02<00:00, 48.62batch/s, loss=0.035434]\u001b[0m\n"
     ]
    },
    {
     "name": "stdout",
     "output_type": "stream",
     "text": [
      "\t Loss: 1.109,\tTrain : 98.85%(99.04%),\tTest : 97.21%(97.35%),\tCurrent Time: 20250720-132841\n"
     ]
    },
    {
     "name": "stderr",
     "output_type": "stream",
     "text": [
      "Epoch 29/50:: 100%|\u001b[34m███████████████████\u001b[0m| 120/120 [00:02<00:00, 49.01batch/s, loss=0.036379]\u001b[0m\n"
     ]
    },
    {
     "name": "stdout",
     "output_type": "stream",
     "text": [
      "\t Loss: 0.988,\tTrain : 99.00%(99.04%),\tTest : 97.24%(97.35%),\tCurrent Time: 20250720-132844\n"
     ]
    },
    {
     "name": "stderr",
     "output_type": "stream",
     "text": [
      "Epoch 30/50:: 100%|\u001b[34m███████████████████\u001b[0m| 120/120 [00:02<00:00, 49.14batch/s, loss=0.033627]\u001b[0m\n"
     ]
    },
    {
     "name": "stdout",
     "output_type": "stream",
     "text": [
      "\t Loss: 1.044,\tTrain : 98.97%(99.04%),\tTest : 97.22%(97.35%),\tCurrent Time: 20250720-132847\n"
     ]
    },
    {
     "name": "stderr",
     "output_type": "stream",
     "text": [
      "Epoch 31/50:: 100%|\u001b[34m███████████████████\u001b[0m| 120/120 [00:02<00:00, 48.60batch/s, loss=0.031979]\u001b[0m\n"
     ]
    },
    {
     "name": "stdout",
     "output_type": "stream",
     "text": [
      "\t Loss: 0.772,\tTrain : 99.25%(99.25%),\tTest : 97.40%(97.40%),\tCurrent Time: 20250720-132850\n"
     ]
    },
    {
     "name": "stderr",
     "output_type": "stream",
     "text": [
      "Epoch 32/50:: 100%|\u001b[34m███████████████████\u001b[0m| 120/120 [00:02<00:00, 49.03batch/s, loss=0.028868]\u001b[0m\n"
     ]
    },
    {
     "name": "stdout",
     "output_type": "stream",
     "text": [
      "\t Loss: 0.710,\tTrain : 99.30%(99.30%),\tTest : 97.51%(97.51%),\tCurrent Time: 20250720-132853\n"
     ]
    },
    {
     "name": "stderr",
     "output_type": "stream",
     "text": [
      "Epoch 33/50:: 100%|\u001b[34m███████████████████\u001b[0m| 120/120 [00:02<00:00, 49.16batch/s, loss=0.028538]\u001b[0m\n"
     ]
    },
    {
     "name": "stdout",
     "output_type": "stream",
     "text": [
      "\t Loss: 0.810,\tTrain : 99.18%(99.30%),\tTest : 97.06%(97.51%),\tCurrent Time: 20250720-132856\n"
     ]
    },
    {
     "name": "stderr",
     "output_type": "stream",
     "text": [
      "Epoch 34/50:: 100%|\u001b[34m███████████████████\u001b[0m| 120/120 [00:02<00:00, 48.59batch/s, loss=0.025128]\u001b[0m\n"
     ]
    },
    {
     "name": "stdout",
     "output_type": "stream",
     "text": [
      "\t Loss: 0.572,\tTrain : 99.48%(99.48%),\tTest : 97.51%(97.51%),\tCurrent Time: 20250720-132859\n"
     ]
    },
    {
     "name": "stderr",
     "output_type": "stream",
     "text": [
      "Epoch 35/50:: 100%|\u001b[34m███████████████████\u001b[0m| 120/120 [00:02<00:00, 48.94batch/s, loss=0.023486]\u001b[0m\n"
     ]
    },
    {
     "name": "stdout",
     "output_type": "stream",
     "text": [
      "\t Loss: 0.565,\tTrain : 99.44%(99.48%),\tTest : 97.32%(97.51%),\tCurrent Time: 20250720-132902\n"
     ]
    },
    {
     "name": "stderr",
     "output_type": "stream",
     "text": [
      "Epoch 36/50:: 100%|\u001b[34m███████████████████\u001b[0m| 120/120 [00:02<00:00, 49.07batch/s, loss=0.022933]\u001b[0m\n"
     ]
    },
    {
     "name": "stdout",
     "output_type": "stream",
     "text": [
      "\t Loss: 0.567,\tTrain : 99.42%(99.48%),\tTest : 97.21%(97.51%),\tCurrent Time: 20250720-132904\n"
     ]
    },
    {
     "name": "stderr",
     "output_type": "stream",
     "text": [
      "Epoch 37/50:: 100%|\u001b[34m███████████████████\u001b[0m| 120/120 [00:02<00:00, 48.98batch/s, loss=0.026570]\u001b[0m\n"
     ]
    },
    {
     "name": "stdout",
     "output_type": "stream",
     "text": [
      "\t Loss: 0.634,\tTrain : 99.35%(99.48%),\tTest : 97.07%(97.51%),\tCurrent Time: 20250720-132907\n"
     ]
    },
    {
     "name": "stderr",
     "output_type": "stream",
     "text": [
      "Epoch 38/50:: 100%|\u001b[34m███████████████████\u001b[0m| 120/120 [00:02<00:00, 49.17batch/s, loss=0.022205]\u001b[0m\n"
     ]
    },
    {
     "name": "stdout",
     "output_type": "stream",
     "text": [
      "\t Loss: 0.561,\tTrain : 99.41%(99.48%),\tTest : 97.32%(97.51%),\tCurrent Time: 20250720-132910\n"
     ]
    },
    {
     "name": "stderr",
     "output_type": "stream",
     "text": [
      "Epoch 39/50:: 100%|\u001b[34m███████████████████\u001b[0m| 120/120 [00:02<00:00, 49.05batch/s, loss=0.022412]\u001b[0m\n"
     ]
    },
    {
     "name": "stdout",
     "output_type": "stream",
     "text": [
      "\t Loss: 0.646,\tTrain : 99.34%(99.48%),\tTest : 97.01%(97.51%),\tCurrent Time: 20250720-132913\n"
     ]
    },
    {
     "name": "stderr",
     "output_type": "stream",
     "text": [
      "Epoch 40/50:: 100%|\u001b[34m███████████████████\u001b[0m| 120/120 [00:02<00:00, 49.07batch/s, loss=0.018625]\u001b[0m\n"
     ]
    },
    {
     "name": "stdout",
     "output_type": "stream",
     "text": [
      "\t Loss: 0.697,\tTrain : 99.32%(99.48%),\tTest : 97.14%(97.51%),\tCurrent Time: 20250720-132916\n"
     ]
    },
    {
     "name": "stderr",
     "output_type": "stream",
     "text": [
      "Epoch 41/50:: 100%|\u001b[34m███████████████████\u001b[0m| 120/120 [00:02<00:00, 48.93batch/s, loss=0.016401]\u001b[0m\n"
     ]
    },
    {
     "name": "stdout",
     "output_type": "stream",
     "text": [
      "\t Loss: 0.452,\tTrain : 99.53%(99.53%),\tTest : 97.10%(97.51%),\tCurrent Time: 20250720-132919\n"
     ]
    },
    {
     "name": "stderr",
     "output_type": "stream",
     "text": [
      "Epoch 42/50:: 100%|\u001b[34m███████████████████\u001b[0m| 120/120 [00:02<00:00, 48.73batch/s, loss=0.015320]\u001b[0m\n"
     ]
    },
    {
     "name": "stdout",
     "output_type": "stream",
     "text": [
      "\t Loss: 0.411,\tTrain : 99.58%(99.58%),\tTest : 97.21%(97.51%),\tCurrent Time: 20250720-132922\n"
     ]
    },
    {
     "name": "stderr",
     "output_type": "stream",
     "text": [
      "Epoch 43/50:: 100%|\u001b[34m███████████████████\u001b[0m| 120/120 [00:02<00:00, 49.05batch/s, loss=0.014445]\u001b[0m\n"
     ]
    },
    {
     "name": "stdout",
     "output_type": "stream",
     "text": [
      "\t Loss: 0.290,\tTrain : 99.69%(99.69%),\tTest : 97.32%(97.51%),\tCurrent Time: 20250720-132925\n"
     ]
    },
    {
     "name": "stderr",
     "output_type": "stream",
     "text": [
      "Epoch 44/50:: 100%|\u001b[34m███████████████████\u001b[0m| 120/120 [00:02<00:00, 49.21batch/s, loss=0.014083]\u001b[0m\n"
     ]
    },
    {
     "name": "stdout",
     "output_type": "stream",
     "text": [
      "\t Loss: 0.282,\tTrain : 99.73%(99.73%),\tTest : 97.04%(97.51%),\tCurrent Time: 20250720-132928\n"
     ]
    },
    {
     "name": "stderr",
     "output_type": "stream",
     "text": [
      "Epoch 45/50:: 100%|\u001b[34m███████████████████\u001b[0m| 120/120 [00:02<00:00, 48.93batch/s, loss=0.013318]\u001b[0m\n"
     ]
    },
    {
     "name": "stdout",
     "output_type": "stream",
     "text": [
      "\t Loss: 0.392,\tTrain : 99.61%(99.73%),\tTest : 97.28%(97.51%),\tCurrent Time: 20250720-132931\n"
     ]
    },
    {
     "name": "stderr",
     "output_type": "stream",
     "text": [
      "Epoch 46/50:: 100%|\u001b[34m███████████████████\u001b[0m| 120/120 [00:02<00:00, 48.73batch/s, loss=0.013515]\u001b[0m\n"
     ]
    },
    {
     "name": "stdout",
     "output_type": "stream",
     "text": [
      "\t Loss: 0.536,\tTrain : 99.44%(99.73%),\tTest : 97.11%(97.51%),\tCurrent Time: 20250720-132934\n"
     ]
    },
    {
     "name": "stderr",
     "output_type": "stream",
     "text": [
      "Epoch 47/50:: 100%|\u001b[34m███████████████████\u001b[0m| 120/120 [00:02<00:00, 48.54batch/s, loss=0.014783]\u001b[0m\n"
     ]
    },
    {
     "name": "stdout",
     "output_type": "stream",
     "text": [
      "\t Loss: 0.238,\tTrain : 99.75%(99.75%),\tTest : 97.37%(97.51%),\tCurrent Time: 20250720-132937\n"
     ]
    },
    {
     "name": "stderr",
     "output_type": "stream",
     "text": [
      "Epoch 48/50:: 100%|\u001b[34m███████████████████\u001b[0m| 120/120 [00:02<00:00, 48.98batch/s, loss=0.012739]\u001b[0m\n"
     ]
    },
    {
     "name": "stdout",
     "output_type": "stream",
     "text": [
      "\t Loss: 0.309,\tTrain : 99.69%(99.75%),\tTest : 97.17%(97.51%),\tCurrent Time: 20250720-132939\n"
     ]
    },
    {
     "name": "stderr",
     "output_type": "stream",
     "text": [
      "Epoch 49/50:: 100%|\u001b[34m███████████████████\u001b[0m| 120/120 [00:02<00:00, 49.00batch/s, loss=0.010173]\u001b[0m\n"
     ]
    },
    {
     "name": "stdout",
     "output_type": "stream",
     "text": [
      "\t Loss: 0.201,\tTrain : 99.80%(99.80%),\tTest : 97.22%(97.51%),\tCurrent Time: 20250720-132942\n"
     ]
    },
    {
     "name": "stderr",
     "output_type": "stream",
     "text": [
      "Epoch 50/50:: 100%|\u001b[34m███████████████████\u001b[0m| 120/120 [00:02<00:00, 48.92batch/s, loss=0.010419]\u001b[0m\n"
     ]
    },
    {
     "name": "stdout",
     "output_type": "stream",
     "text": [
      "\t Loss: 0.170,\tTrain : 99.82%(99.82%),\tTest : 97.44%(97.51%),\tCurrent Time: 20250720-132945\n",
      "First_symm_10HL_Res-Task2-0-EP_L10--MNIST_EP_b_sc0.01- Time: 20250720-132945, Epochs: 50, Learning Rate: 0.001, Best: 99.82%  97.51%\n",
      "\n",
      "First_symm_10HL_Res-Task2-0-EP_L10--MNIST_EP_b_sc0.1-\n"
     ]
    },
    {
     "name": "stderr",
     "output_type": "stream",
     "text": [
      "Epoch 1/50:: 100%|\u001b[34m████████████████████\u001b[0m| 120/120 [00:02<00:00, 45.69batch/s, loss=0.598909]\u001b[0m\n"
     ]
    },
    {
     "name": "stdout",
     "output_type": "stream",
     "text": [
      "\t Loss: 7.304,\tTrain : 92.92%(92.92%),\tTest : 92.70%(92.70%),\tCurrent Time: 20250720-132953\n"
     ]
    },
    {
     "name": "stderr",
     "output_type": "stream",
     "text": [
      "Epoch 2/50:: 100%|\u001b[34m████████████████████\u001b[0m| 120/120 [00:02<00:00, 48.77batch/s, loss=0.215867]\u001b[0m\n"
     ]
    },
    {
     "name": "stdout",
     "output_type": "stream",
     "text": [
      "\t Loss: 5.385,\tTrain : 94.68%(94.68%),\tTest : 94.29%(94.29%),\tCurrent Time: 20250720-132956\n"
     ]
    },
    {
     "name": "stderr",
     "output_type": "stream",
     "text": [
      "Epoch 3/50:: 100%|\u001b[34m████████████████████\u001b[0m| 120/120 [00:02<00:00, 48.94batch/s, loss=0.162388]\u001b[0m\n"
     ]
    },
    {
     "name": "stdout",
     "output_type": "stream",
     "text": [
      "\t Loss: 4.132,\tTrain : 95.84%(95.84%),\tTest : 95.32%(95.32%),\tCurrent Time: 20250720-132959\n"
     ]
    },
    {
     "name": "stderr",
     "output_type": "stream",
     "text": [
      "Epoch 4/50:: 100%|\u001b[34m████████████████████\u001b[0m| 120/120 [00:02<00:00, 48.87batch/s, loss=0.140757]\u001b[0m\n"
     ]
    },
    {
     "name": "stdout",
     "output_type": "stream",
     "text": [
      "\t Loss: 4.519,\tTrain : 95.43%(95.84%),\tTest : 94.79%(95.32%),\tCurrent Time: 20250720-133002\n"
     ]
    },
    {
     "name": "stderr",
     "output_type": "stream",
     "text": [
      "Epoch 5/50:: 100%|\u001b[34m████████████████████\u001b[0m| 120/120 [00:02<00:00, 48.95batch/s, loss=0.120747]\u001b[0m\n"
     ]
    },
    {
     "name": "stdout",
     "output_type": "stream",
     "text": [
      "\t Loss: 2.871,\tTrain : 97.17%(97.17%),\tTest : 96.33%(96.33%),\tCurrent Time: 20250720-133005\n"
     ]
    },
    {
     "name": "stderr",
     "output_type": "stream",
     "text": [
      "Epoch 6/50:: 100%|\u001b[34m████████████████████\u001b[0m| 120/120 [00:02<00:00, 48.96batch/s, loss=0.100182]\u001b[0m\n"
     ]
    },
    {
     "name": "stdout",
     "output_type": "stream",
     "text": [
      "\t Loss: 2.507,\tTrain : 97.47%(97.47%),\tTest : 96.45%(96.45%),\tCurrent Time: 20250720-133007\n"
     ]
    },
    {
     "name": "stderr",
     "output_type": "stream",
     "text": [
      "Epoch 7/50:: 100%|\u001b[34m████████████████████\u001b[0m| 120/120 [00:02<00:00, 48.76batch/s, loss=0.090258]\u001b[0m\n"
     ]
    },
    {
     "name": "stdout",
     "output_type": "stream",
     "text": [
      "\t Loss: 2.705,\tTrain : 97.33%(97.47%),\tTest : 96.44%(96.45%),\tCurrent Time: 20250720-133010\n"
     ]
    },
    {
     "name": "stderr",
     "output_type": "stream",
     "text": [
      "Epoch 8/50:: 100%|\u001b[34m████████████████████\u001b[0m| 120/120 [00:02<00:00, 49.43batch/s, loss=0.081635]\u001b[0m\n"
     ]
    },
    {
     "name": "stdout",
     "output_type": "stream",
     "text": [
      "\t Loss: 1.837,\tTrain : 98.20%(98.20%),\tTest : 97.02%(97.02%),\tCurrent Time: 20250720-133013\n"
     ]
    },
    {
     "name": "stderr",
     "output_type": "stream",
     "text": [
      "Epoch 9/50:: 100%|\u001b[34m████████████████████\u001b[0m| 120/120 [00:02<00:00, 49.34batch/s, loss=0.069948]\u001b[0m\n"
     ]
    },
    {
     "name": "stdout",
     "output_type": "stream",
     "text": [
      "\t Loss: 1.655,\tTrain : 98.37%(98.37%),\tTest : 97.01%(97.02%),\tCurrent Time: 20250720-133016\n"
     ]
    },
    {
     "name": "stderr",
     "output_type": "stream",
     "text": [
      "Epoch 10/50:: 100%|\u001b[34m███████████████████\u001b[0m| 120/120 [00:02<00:00, 48.91batch/s, loss=0.066976]\u001b[0m\n"
     ]
    },
    {
     "name": "stdout",
     "output_type": "stream",
     "text": [
      "\t Loss: 2.250,\tTrain : 97.68%(98.37%),\tTest : 96.46%(97.02%),\tCurrent Time: 20250720-133019\n"
     ]
    },
    {
     "name": "stderr",
     "output_type": "stream",
     "text": [
      "Epoch 11/50:: 100%|\u001b[34m███████████████████\u001b[0m| 120/120 [00:02<00:00, 49.10batch/s, loss=0.062014]\u001b[0m\n"
     ]
    },
    {
     "name": "stdout",
     "output_type": "stream",
     "text": [
      "\t Loss: 1.513,\tTrain : 98.47%(98.47%),\tTest : 97.04%(97.04%),\tCurrent Time: 20250720-133022\n"
     ]
    },
    {
     "name": "stderr",
     "output_type": "stream",
     "text": [
      "Epoch 12/50:: 100%|\u001b[34m███████████████████\u001b[0m| 120/120 [00:02<00:00, 48.91batch/s, loss=0.064738]\u001b[0m\n"
     ]
    },
    {
     "name": "stdout",
     "output_type": "stream",
     "text": [
      "\t Loss: 1.250,\tTrain : 98.74%(98.74%),\tTest : 97.31%(97.31%),\tCurrent Time: 20250720-133025\n"
     ]
    },
    {
     "name": "stderr",
     "output_type": "stream",
     "text": [
      "Epoch 13/50:: 100%|\u001b[34m███████████████████\u001b[0m| 120/120 [00:02<00:00, 48.84batch/s, loss=0.048252]\u001b[0m\n"
     ]
    },
    {
     "name": "stdout",
     "output_type": "stream",
     "text": [
      "\t Loss: 1.317,\tTrain : 98.67%(98.74%),\tTest : 96.99%(97.31%),\tCurrent Time: 20250720-133028\n"
     ]
    },
    {
     "name": "stderr",
     "output_type": "stream",
     "text": [
      "Epoch 14/50:: 100%|\u001b[34m███████████████████\u001b[0m| 120/120 [00:02<00:00, 49.00batch/s, loss=0.048667]\u001b[0m\n"
     ]
    },
    {
     "name": "stdout",
     "output_type": "stream",
     "text": [
      "\t Loss: 1.123,\tTrain : 98.88%(98.88%),\tTest : 97.07%(97.31%),\tCurrent Time: 20250720-133031\n"
     ]
    },
    {
     "name": "stderr",
     "output_type": "stream",
     "text": [
      "Epoch 15/50:: 100%|\u001b[34m███████████████████\u001b[0m| 120/120 [00:02<00:00, 49.05batch/s, loss=0.043284]\u001b[0m\n"
     ]
    },
    {
     "name": "stdout",
     "output_type": "stream",
     "text": [
      "\t Loss: 1.154,\tTrain : 98.79%(98.88%),\tTest : 97.06%(97.31%),\tCurrent Time: 20250720-133034\n"
     ]
    },
    {
     "name": "stderr",
     "output_type": "stream",
     "text": [
      "Epoch 16/50:: 100%|\u001b[34m███████████████████\u001b[0m| 120/120 [00:02<00:00, 49.03batch/s, loss=0.037324]\u001b[0m\n"
     ]
    },
    {
     "name": "stdout",
     "output_type": "stream",
     "text": [
      "\t Loss: 1.312,\tTrain : 98.59%(98.88%),\tTest : 96.50%(97.31%),\tCurrent Time: 20250720-133037\n"
     ]
    },
    {
     "name": "stderr",
     "output_type": "stream",
     "text": [
      "Epoch 17/50:: 100%|\u001b[34m███████████████████\u001b[0m| 120/120 [00:02<00:00, 49.06batch/s, loss=0.038719]\u001b[0m\n"
     ]
    },
    {
     "name": "stdout",
     "output_type": "stream",
     "text": [
      "\t Loss: 0.943,\tTrain : 99.06%(99.06%),\tTest : 97.11%(97.31%),\tCurrent Time: 20250720-133039\n"
     ]
    },
    {
     "name": "stderr",
     "output_type": "stream",
     "text": [
      "Epoch 18/50:: 100%|\u001b[34m███████████████████\u001b[0m| 120/120 [00:02<00:00, 48.53batch/s, loss=0.035052]\u001b[0m\n"
     ]
    },
    {
     "name": "stdout",
     "output_type": "stream",
     "text": [
      "\t Loss: 0.863,\tTrain : 99.13%(99.13%),\tTest : 97.37%(97.37%),\tCurrent Time: 20250720-133042\n"
     ]
    },
    {
     "name": "stderr",
     "output_type": "stream",
     "text": [
      "Epoch 19/50:: 100%|\u001b[34m███████████████████\u001b[0m| 120/120 [00:02<00:00, 49.11batch/s, loss=0.033453]\u001b[0m\n"
     ]
    },
    {
     "name": "stdout",
     "output_type": "stream",
     "text": [
      "\t Loss: 0.801,\tTrain : 99.19%(99.19%),\tTest : 97.05%(97.37%),\tCurrent Time: 20250720-133045\n"
     ]
    },
    {
     "name": "stderr",
     "output_type": "stream",
     "text": [
      "Epoch 20/50:: 100%|\u001b[34m███████████████████\u001b[0m| 120/120 [00:02<00:00, 48.72batch/s, loss=0.030546]\u001b[0m\n"
     ]
    },
    {
     "name": "stdout",
     "output_type": "stream",
     "text": [
      "\t Loss: 0.856,\tTrain : 99.12%(99.19%),\tTest : 97.26%(97.37%),\tCurrent Time: 20250720-133048\n"
     ]
    },
    {
     "name": "stderr",
     "output_type": "stream",
     "text": [
      "Epoch 21/50:: 100%|\u001b[34m███████████████████\u001b[0m| 120/120 [00:02<00:00, 49.08batch/s, loss=0.029748]\u001b[0m\n"
     ]
    },
    {
     "name": "stdout",
     "output_type": "stream",
     "text": [
      "\t Loss: 0.642,\tTrain : 99.33%(99.33%),\tTest : 97.16%(97.37%),\tCurrent Time: 20250720-133051\n"
     ]
    },
    {
     "name": "stderr",
     "output_type": "stream",
     "text": [
      "Epoch 22/50:: 100%|\u001b[34m███████████████████\u001b[0m| 120/120 [00:02<00:00, 49.07batch/s, loss=0.027179]\u001b[0m\n"
     ]
    },
    {
     "name": "stdout",
     "output_type": "stream",
     "text": [
      "\t Loss: 0.870,\tTrain : 99.14%(99.33%),\tTest : 97.22%(97.37%),\tCurrent Time: 20250720-133054\n"
     ]
    },
    {
     "name": "stderr",
     "output_type": "stream",
     "text": [
      "Epoch 23/50:: 100%|\u001b[34m███████████████████\u001b[0m| 120/120 [00:02<00:00, 48.72batch/s, loss=0.027037]\u001b[0m\n"
     ]
    },
    {
     "name": "stdout",
     "output_type": "stream",
     "text": [
      "\t Loss: 0.990,\tTrain : 98.93%(99.33%),\tTest : 96.96%(97.37%),\tCurrent Time: 20250720-133057\n"
     ]
    },
    {
     "name": "stderr",
     "output_type": "stream",
     "text": [
      "Epoch 24/50:: 100%|\u001b[34m███████████████████\u001b[0m| 120/120 [00:02<00:00, 48.74batch/s, loss=0.029991]\u001b[0m\n"
     ]
    },
    {
     "name": "stdout",
     "output_type": "stream",
     "text": [
      "\t Loss: 0.751,\tTrain : 99.30%(99.33%),\tTest : 97.16%(97.37%),\tCurrent Time: 20250720-133100\n"
     ]
    },
    {
     "name": "stderr",
     "output_type": "stream",
     "text": [
      "Epoch 25/50:: 100%|\u001b[34m███████████████████\u001b[0m| 120/120 [00:02<00:00, 49.07batch/s, loss=0.022072]\u001b[0m\n"
     ]
    },
    {
     "name": "stdout",
     "output_type": "stream",
     "text": [
      "\t Loss: 0.680,\tTrain : 99.31%(99.33%),\tTest : 97.17%(97.37%),\tCurrent Time: 20250720-133103\n"
     ]
    },
    {
     "name": "stderr",
     "output_type": "stream",
     "text": [
      "Epoch 26/50:: 100%|\u001b[34m███████████████████\u001b[0m| 120/120 [00:02<00:00, 48.87batch/s, loss=0.023327]\u001b[0m\n"
     ]
    },
    {
     "name": "stdout",
     "output_type": "stream",
     "text": [
      "\t Loss: 0.547,\tTrain : 99.44%(99.44%),\tTest : 97.36%(97.37%),\tCurrent Time: 20250720-133106\n"
     ]
    },
    {
     "name": "stderr",
     "output_type": "stream",
     "text": [
      "Epoch 27/50:: 100%|\u001b[34m███████████████████\u001b[0m| 120/120 [00:02<00:00, 49.06batch/s, loss=0.018534]\u001b[0m\n"
     ]
    },
    {
     "name": "stdout",
     "output_type": "stream",
     "text": [
      "\t Loss: 0.806,\tTrain : 99.15%(99.44%),\tTest : 96.81%(97.37%),\tCurrent Time: 20250720-133109\n"
     ]
    },
    {
     "name": "stderr",
     "output_type": "stream",
     "text": [
      "Epoch 28/50:: 100%|\u001b[34m███████████████████\u001b[0m| 120/120 [00:02<00:00, 48.96batch/s, loss=0.018618]\u001b[0m\n"
     ]
    },
    {
     "name": "stdout",
     "output_type": "stream",
     "text": [
      "\t Loss: 0.274,\tTrain : 99.74%(99.74%),\tTest : 97.33%(97.37%),\tCurrent Time: 20250720-133112\n"
     ]
    },
    {
     "name": "stderr",
     "output_type": "stream",
     "text": [
      "Epoch 29/50:: 100%|\u001b[34m███████████████████\u001b[0m| 120/120 [00:02<00:00, 49.11batch/s, loss=0.016179]\u001b[0m\n"
     ]
    },
    {
     "name": "stdout",
     "output_type": "stream",
     "text": [
      "\t Loss: 0.317,\tTrain : 99.68%(99.74%),\tTest : 97.29%(97.37%),\tCurrent Time: 20250720-133114\n"
     ]
    },
    {
     "name": "stderr",
     "output_type": "stream",
     "text": [
      "Epoch 30/50:: 100%|\u001b[34m███████████████████\u001b[0m| 120/120 [00:02<00:00, 49.02batch/s, loss=0.013984]\u001b[0m\n"
     ]
    },
    {
     "name": "stdout",
     "output_type": "stream",
     "text": [
      "\t Loss: 0.437,\tTrain : 99.52%(99.74%),\tTest : 97.31%(97.37%),\tCurrent Time: 20250720-133117\n"
     ]
    },
    {
     "name": "stderr",
     "output_type": "stream",
     "text": [
      "Epoch 31/50:: 100%|\u001b[34m███████████████████\u001b[0m| 120/120 [00:02<00:00, 49.37batch/s, loss=0.020062]\u001b[0m\n"
     ]
    },
    {
     "name": "stdout",
     "output_type": "stream",
     "text": [
      "\t Loss: 0.466,\tTrain : 99.50%(99.74%),\tTest : 97.20%(97.37%),\tCurrent Time: 20250720-133120\n"
     ]
    },
    {
     "name": "stderr",
     "output_type": "stream",
     "text": [
      "Epoch 32/50:: 100%|\u001b[34m███████████████████\u001b[0m| 120/120 [00:02<00:00, 49.31batch/s, loss=0.017228]\u001b[0m\n"
     ]
    },
    {
     "name": "stdout",
     "output_type": "stream",
     "text": [
      "\t Loss: 0.458,\tTrain : 99.56%(99.74%),\tTest : 96.96%(97.37%),\tCurrent Time: 20250720-133123\n"
     ]
    },
    {
     "name": "stderr",
     "output_type": "stream",
     "text": [
      "Epoch 33/50:: 100%|\u001b[34m███████████████████\u001b[0m| 120/120 [00:02<00:00, 49.20batch/s, loss=0.011797]\u001b[0m\n"
     ]
    },
    {
     "name": "stdout",
     "output_type": "stream",
     "text": [
      "\t Loss: 0.465,\tTrain : 99.50%(99.74%),\tTest : 97.23%(97.37%),\tCurrent Time: 20250720-133126\n"
     ]
    },
    {
     "name": "stderr",
     "output_type": "stream",
     "text": [
      "Epoch 34/50:: 100%|\u001b[34m███████████████████\u001b[0m| 120/120 [00:02<00:00, 49.23batch/s, loss=0.017365]\u001b[0m\n"
     ]
    },
    {
     "name": "stdout",
     "output_type": "stream",
     "text": [
      "\t Loss: 0.232,\tTrain : 99.74%(99.74%),\tTest : 97.34%(97.37%),\tCurrent Time: 20250720-133129\n"
     ]
    },
    {
     "name": "stderr",
     "output_type": "stream",
     "text": [
      "Epoch 35/50:: 100%|\u001b[34m███████████████████\u001b[0m| 120/120 [00:02<00:00, 49.05batch/s, loss=0.011609]\u001b[0m\n"
     ]
    },
    {
     "name": "stdout",
     "output_type": "stream",
     "text": [
      "\t Loss: 0.361,\tTrain : 99.64%(99.74%),\tTest : 97.34%(97.37%),\tCurrent Time: 20250720-133132\n"
     ]
    },
    {
     "name": "stderr",
     "output_type": "stream",
     "text": [
      "Epoch 36/50:: 100%|\u001b[34m███████████████████\u001b[0m| 120/120 [00:02<00:00, 49.11batch/s, loss=0.017082]\u001b[0m\n"
     ]
    },
    {
     "name": "stdout",
     "output_type": "stream",
     "text": [
      "\t Loss: 0.867,\tTrain : 99.13%(99.74%),\tTest : 96.90%(97.37%),\tCurrent Time: 20250720-133135\n"
     ]
    },
    {
     "name": "stderr",
     "output_type": "stream",
     "text": [
      "Epoch 37/50:: 100%|\u001b[34m███████████████████\u001b[0m| 120/120 [00:02<00:00, 49.12batch/s, loss=0.017299]\u001b[0m\n"
     ]
    },
    {
     "name": "stdout",
     "output_type": "stream",
     "text": [
      "\t Loss: 0.474,\tTrain : 99.51%(99.74%),\tTest : 97.20%(97.37%),\tCurrent Time: 20250720-133138\n"
     ]
    },
    {
     "name": "stderr",
     "output_type": "stream",
     "text": [
      "Epoch 38/50:: 100%|\u001b[34m███████████████████\u001b[0m| 120/120 [00:02<00:00, 48.87batch/s, loss=0.014255]\u001b[0m\n"
     ]
    },
    {
     "name": "stdout",
     "output_type": "stream",
     "text": [
      "\t Loss: 0.293,\tTrain : 99.69%(99.74%),\tTest : 97.41%(97.41%),\tCurrent Time: 20250720-133141\n"
     ]
    },
    {
     "name": "stderr",
     "output_type": "stream",
     "text": [
      "Epoch 39/50:: 100%|\u001b[34m███████████████████\u001b[0m| 120/120 [00:02<00:00, 48.88batch/s, loss=0.011286]\u001b[0m\n"
     ]
    },
    {
     "name": "stdout",
     "output_type": "stream",
     "text": [
      "\t Loss: 0.536,\tTrain : 99.51%(99.74%),\tTest : 97.13%(97.41%),\tCurrent Time: 20250720-133143\n"
     ]
    },
    {
     "name": "stderr",
     "output_type": "stream",
     "text": [
      "Epoch 40/50:: 100%|\u001b[34m███████████████████\u001b[0m| 120/120 [00:02<00:00, 49.07batch/s, loss=0.013716]\u001b[0m\n"
     ]
    },
    {
     "name": "stdout",
     "output_type": "stream",
     "text": [
      "\t Loss: 0.154,\tTrain : 99.83%(99.83%),\tTest : 97.65%(97.65%),\tCurrent Time: 20250720-133146\n"
     ]
    },
    {
     "name": "stderr",
     "output_type": "stream",
     "text": [
      "Epoch 41/50:: 100%|\u001b[34m███████████████████\u001b[0m| 120/120 [00:02<00:00, 48.75batch/s, loss=0.010216]\u001b[0m\n"
     ]
    },
    {
     "name": "stdout",
     "output_type": "stream",
     "text": [
      "\t Loss: 0.368,\tTrain : 99.62%(99.83%),\tTest : 97.29%(97.65%),\tCurrent Time: 20250720-133149\n"
     ]
    },
    {
     "name": "stderr",
     "output_type": "stream",
     "text": [
      "Epoch 42/50:: 100%|\u001b[34m███████████████████\u001b[0m| 120/120 [00:02<00:00, 48.79batch/s, loss=0.016544]\u001b[0m\n"
     ]
    },
    {
     "name": "stdout",
     "output_type": "stream",
     "text": [
      "\t Loss: 0.280,\tTrain : 99.72%(99.83%),\tTest : 97.36%(97.65%),\tCurrent Time: 20250720-133152\n"
     ]
    },
    {
     "name": "stderr",
     "output_type": "stream",
     "text": [
      "Epoch 43/50:: 100%|\u001b[34m███████████████████\u001b[0m| 120/120 [00:02<00:00, 49.13batch/s, loss=0.008630]\u001b[0m\n"
     ]
    },
    {
     "name": "stdout",
     "output_type": "stream",
     "text": [
      "\t Loss: 0.184,\tTrain : 99.79%(99.83%),\tTest : 97.39%(97.65%),\tCurrent Time: 20250720-133155\n"
     ]
    },
    {
     "name": "stderr",
     "output_type": "stream",
     "text": [
      "Epoch 44/50:: 100%|\u001b[34m███████████████████\u001b[0m| 120/120 [00:02<00:00, 49.15batch/s, loss=0.011822]\u001b[0m\n"
     ]
    },
    {
     "name": "stdout",
     "output_type": "stream",
     "text": [
      "\t Loss: 0.251,\tTrain : 99.76%(99.83%),\tTest : 97.38%(97.65%),\tCurrent Time: 20250720-133158\n"
     ]
    },
    {
     "name": "stderr",
     "output_type": "stream",
     "text": [
      "Epoch 45/50:: 100%|\u001b[34m███████████████████\u001b[0m| 120/120 [00:02<00:00, 48.23batch/s, loss=0.012693]\u001b[0m\n"
     ]
    },
    {
     "name": "stdout",
     "output_type": "stream",
     "text": [
      "\t Loss: 0.317,\tTrain : 99.69%(99.83%),\tTest : 97.39%(97.65%),\tCurrent Time: 20250720-133201\n"
     ]
    },
    {
     "name": "stderr",
     "output_type": "stream",
     "text": [
      "Epoch 46/50:: 100%|\u001b[34m███████████████████\u001b[0m| 120/120 [00:02<00:00, 49.55batch/s, loss=0.012573]\u001b[0m\n"
     ]
    },
    {
     "name": "stdout",
     "output_type": "stream",
     "text": [
      "\t Loss: 0.264,\tTrain : 99.73%(99.83%),\tTest : 97.29%(97.65%),\tCurrent Time: 20250720-133204\n"
     ]
    },
    {
     "name": "stderr",
     "output_type": "stream",
     "text": [
      "Epoch 47/50:: 100%|\u001b[34m███████████████████\u001b[0m| 120/120 [00:02<00:00, 49.87batch/s, loss=0.008333]\u001b[0m\n"
     ]
    },
    {
     "name": "stdout",
     "output_type": "stream",
     "text": [
      "\t Loss: 0.958,\tTrain : 99.30%(99.83%),\tTest : 96.97%(97.65%),\tCurrent Time: 20250720-133207\n"
     ]
    },
    {
     "name": "stderr",
     "output_type": "stream",
     "text": [
      "Epoch 48/50:: 100%|\u001b[34m███████████████████\u001b[0m| 120/120 [00:02<00:00, 48.71batch/s, loss=0.019004]\u001b[0m\n"
     ]
    },
    {
     "name": "stdout",
     "output_type": "stream",
     "text": [
      "\t Loss: 0.605,\tTrain : 99.40%(99.83%),\tTest : 96.96%(97.65%),\tCurrent Time: 20250720-133210\n"
     ]
    },
    {
     "name": "stderr",
     "output_type": "stream",
     "text": [
      "Epoch 49/50:: 100%|\u001b[34m███████████████████\u001b[0m| 120/120 [00:02<00:00, 49.00batch/s, loss=0.009222]\u001b[0m\n"
     ]
    },
    {
     "name": "stdout",
     "output_type": "stream",
     "text": [
      "\t Loss: 0.189,\tTrain : 99.81%(99.83%),\tTest : 97.35%(97.65%),\tCurrent Time: 20250720-133213\n"
     ]
    },
    {
     "name": "stderr",
     "output_type": "stream",
     "text": [
      "Epoch 50/50:: 100%|\u001b[34m███████████████████\u001b[0m| 120/120 [00:02<00:00, 49.22batch/s, loss=0.008896]\u001b[0m\n"
     ]
    },
    {
     "name": "stdout",
     "output_type": "stream",
     "text": [
      "\t Loss: 0.209,\tTrain : 99.78%(99.83%),\tTest : 97.16%(97.65%),\tCurrent Time: 20250720-133215\n",
      "First_symm_10HL_Res-Task2-0-EP_L10--MNIST_EP_b_sc0.1- Time: 20250720-133215, Epochs: 50, Learning Rate: 0.001, Best: 99.83%  97.65%\n",
      "\n",
      "First_symm_10HL_Res-Task2-0-EP_L10--MNIST_EP_b_sc0.1-\n"
     ]
    },
    {
     "name": "stderr",
     "output_type": "stream",
     "text": [
      "Epoch 1/50:: 100%|\u001b[34m████████████████████\u001b[0m| 120/120 [00:02<00:00, 46.52batch/s, loss=0.659082]\u001b[0m\n"
     ]
    },
    {
     "name": "stdout",
     "output_type": "stream",
     "text": [
      "\t Loss: 7.948,\tTrain : 92.27%(92.27%),\tTest : 92.21%(92.21%),\tCurrent Time: 20250720-133223\n"
     ]
    },
    {
     "name": "stderr",
     "output_type": "stream",
     "text": [
      "Epoch 2/50:: 100%|\u001b[34m████████████████████\u001b[0m| 120/120 [00:02<00:00, 49.06batch/s, loss=0.226606]\u001b[0m\n"
     ]
    },
    {
     "name": "stdout",
     "output_type": "stream",
     "text": [
      "\t Loss: 5.168,\tTrain : 94.95%(94.95%),\tTest : 94.30%(94.30%),\tCurrent Time: 20250720-133226\n"
     ]
    },
    {
     "name": "stderr",
     "output_type": "stream",
     "text": [
      "Epoch 3/50:: 100%|\u001b[34m████████████████████\u001b[0m| 120/120 [00:02<00:00, 49.01batch/s, loss=0.170063]\u001b[0m\n"
     ]
    },
    {
     "name": "stdout",
     "output_type": "stream",
     "text": [
      "\t Loss: 4.169,\tTrain : 96.00%(96.00%),\tTest : 95.21%(95.21%),\tCurrent Time: 20250720-133229\n"
     ]
    },
    {
     "name": "stderr",
     "output_type": "stream",
     "text": [
      "Epoch 4/50:: 100%|\u001b[34m████████████████████\u001b[0m| 120/120 [00:02<00:00, 49.03batch/s, loss=0.142056]\u001b[0m\n"
     ]
    },
    {
     "name": "stdout",
     "output_type": "stream",
     "text": [
      "\t Loss: 3.517,\tTrain : 96.54%(96.54%),\tTest : 95.58%(95.58%),\tCurrent Time: 20250720-133232\n"
     ]
    },
    {
     "name": "stderr",
     "output_type": "stream",
     "text": [
      "Epoch 5/50:: 100%|\u001b[34m████████████████████\u001b[0m| 120/120 [00:02<00:00, 49.31batch/s, loss=0.120226]\u001b[0m\n"
     ]
    },
    {
     "name": "stdout",
     "output_type": "stream",
     "text": [
      "\t Loss: 3.270,\tTrain : 96.72%(96.72%),\tTest : 95.62%(95.62%),\tCurrent Time: 20250720-133235\n"
     ]
    },
    {
     "name": "stderr",
     "output_type": "stream",
     "text": [
      "Epoch 6/50:: 100%|\u001b[34m████████████████████\u001b[0m| 120/120 [00:02<00:00, 49.07batch/s, loss=0.106909]\u001b[0m\n"
     ]
    },
    {
     "name": "stdout",
     "output_type": "stream",
     "text": [
      "\t Loss: 2.865,\tTrain : 97.10%(97.10%),\tTest : 95.87%(95.87%),\tCurrent Time: 20250720-133238\n"
     ]
    },
    {
     "name": "stderr",
     "output_type": "stream",
     "text": [
      "Epoch 7/50:: 100%|\u001b[34m████████████████████\u001b[0m| 120/120 [00:02<00:00, 48.99batch/s, loss=0.093580]\u001b[0m\n"
     ]
    },
    {
     "name": "stdout",
     "output_type": "stream",
     "text": [
      "\t Loss: 2.287,\tTrain : 97.70%(97.70%),\tTest : 96.31%(96.31%),\tCurrent Time: 20250720-133240\n"
     ]
    },
    {
     "name": "stderr",
     "output_type": "stream",
     "text": [
      "Epoch 8/50:: 100%|\u001b[34m████████████████████\u001b[0m| 120/120 [00:02<00:00, 49.07batch/s, loss=0.083751]\u001b[0m\n"
     ]
    },
    {
     "name": "stdout",
     "output_type": "stream",
     "text": [
      "\t Loss: 1.938,\tTrain : 98.06%(98.06%),\tTest : 96.82%(96.82%),\tCurrent Time: 20250720-133243\n"
     ]
    },
    {
     "name": "stderr",
     "output_type": "stream",
     "text": [
      "Epoch 9/50:: 100%|\u001b[34m████████████████████\u001b[0m| 120/120 [00:02<00:00, 48.85batch/s, loss=0.075875]\u001b[0m\n"
     ]
    },
    {
     "name": "stdout",
     "output_type": "stream",
     "text": [
      "\t Loss: 1.686,\tTrain : 98.33%(98.33%),\tTest : 96.94%(96.94%),\tCurrent Time: 20250720-133246\n"
     ]
    },
    {
     "name": "stderr",
     "output_type": "stream",
     "text": [
      "Epoch 10/50:: 100%|\u001b[34m███████████████████\u001b[0m| 120/120 [00:02<00:00, 48.88batch/s, loss=0.074194]\u001b[0m\n"
     ]
    },
    {
     "name": "stdout",
     "output_type": "stream",
     "text": [
      "\t Loss: 1.573,\tTrain : 98.45%(98.45%),\tTest : 97.12%(97.12%),\tCurrent Time: 20250720-133249\n"
     ]
    },
    {
     "name": "stderr",
     "output_type": "stream",
     "text": [
      "Epoch 11/50:: 100%|\u001b[34m███████████████████\u001b[0m| 120/120 [00:02<00:00, 49.17batch/s, loss=0.061699]\u001b[0m\n"
     ]
    },
    {
     "name": "stdout",
     "output_type": "stream",
     "text": [
      "\t Loss: 1.565,\tTrain : 98.40%(98.45%),\tTest : 96.88%(97.12%),\tCurrent Time: 20250720-133252\n"
     ]
    },
    {
     "name": "stderr",
     "output_type": "stream",
     "text": [
      "Epoch 12/50:: 100%|\u001b[34m███████████████████\u001b[0m| 120/120 [00:02<00:00, 49.05batch/s, loss=0.057236]\u001b[0m\n"
     ]
    },
    {
     "name": "stdout",
     "output_type": "stream",
     "text": [
      "\t Loss: 1.230,\tTrain : 98.75%(98.75%),\tTest : 97.01%(97.12%),\tCurrent Time: 20250720-133255\n"
     ]
    },
    {
     "name": "stderr",
     "output_type": "stream",
     "text": [
      "Epoch 13/50:: 100%|\u001b[34m███████████████████\u001b[0m| 120/120 [00:02<00:00, 48.96batch/s, loss=0.059003]\u001b[0m\n"
     ]
    },
    {
     "name": "stdout",
     "output_type": "stream",
     "text": [
      "\t Loss: 1.345,\tTrain : 98.66%(98.75%),\tTest : 96.91%(97.12%),\tCurrent Time: 20250720-133258\n"
     ]
    },
    {
     "name": "stderr",
     "output_type": "stream",
     "text": [
      "Epoch 14/50:: 100%|\u001b[34m███████████████████\u001b[0m| 120/120 [00:02<00:00, 48.94batch/s, loss=0.048218]\u001b[0m\n"
     ]
    },
    {
     "name": "stdout",
     "output_type": "stream",
     "text": [
      "\t Loss: 1.443,\tTrain : 98.53%(98.75%),\tTest : 96.54%(97.12%),\tCurrent Time: 20250720-133301\n"
     ]
    },
    {
     "name": "stderr",
     "output_type": "stream",
     "text": [
      "Epoch 15/50:: 100%|\u001b[34m███████████████████\u001b[0m| 120/120 [00:02<00:00, 48.79batch/s, loss=0.045019]\u001b[0m\n"
     ]
    },
    {
     "name": "stdout",
     "output_type": "stream",
     "text": [
      "\t Loss: 1.498,\tTrain : 98.46%(98.75%),\tTest : 96.49%(97.12%),\tCurrent Time: 20250720-133304\n"
     ]
    },
    {
     "name": "stderr",
     "output_type": "stream",
     "text": [
      "Epoch 16/50:: 100%|\u001b[34m███████████████████\u001b[0m| 120/120 [00:02<00:00, 49.06batch/s, loss=0.043513]\u001b[0m\n"
     ]
    },
    {
     "name": "stdout",
     "output_type": "stream",
     "text": [
      "\t Loss: 1.012,\tTrain : 98.99%(98.99%),\tTest : 96.91%(97.12%),\tCurrent Time: 20250720-133307\n"
     ]
    },
    {
     "name": "stderr",
     "output_type": "stream",
     "text": [
      "Epoch 17/50:: 100%|\u001b[34m███████████████████\u001b[0m| 120/120 [00:02<00:00, 48.99batch/s, loss=0.039571]\u001b[0m\n"
     ]
    },
    {
     "name": "stdout",
     "output_type": "stream",
     "text": [
      "\t Loss: 0.830,\tTrain : 99.15%(99.15%),\tTest : 97.08%(97.12%),\tCurrent Time: 20250720-133310\n"
     ]
    },
    {
     "name": "stderr",
     "output_type": "stream",
     "text": [
      "Epoch 18/50:: 100%|\u001b[34m███████████████████\u001b[0m| 120/120 [00:02<00:00, 48.97batch/s, loss=0.034631]\u001b[0m\n"
     ]
    },
    {
     "name": "stdout",
     "output_type": "stream",
     "text": [
      "\t Loss: 0.895,\tTrain : 99.07%(99.15%),\tTest : 97.16%(97.16%),\tCurrent Time: 20250720-133313\n"
     ]
    },
    {
     "name": "stderr",
     "output_type": "stream",
     "text": [
      "Epoch 19/50:: 100%|\u001b[34m███████████████████\u001b[0m| 120/120 [00:02<00:00, 48.53batch/s, loss=0.030298]\u001b[0m\n"
     ]
    },
    {
     "name": "stdout",
     "output_type": "stream",
     "text": [
      "\t Loss: 0.670,\tTrain : 99.32%(99.32%),\tTest : 96.93%(97.16%),\tCurrent Time: 20250720-133315\n"
     ]
    },
    {
     "name": "stderr",
     "output_type": "stream",
     "text": [
      "Epoch 20/50:: 100%|\u001b[34m███████████████████\u001b[0m| 120/120 [00:02<00:00, 49.14batch/s, loss=0.032037]\u001b[0m\n"
     ]
    },
    {
     "name": "stdout",
     "output_type": "stream",
     "text": [
      "\t Loss: 0.560,\tTrain : 99.44%(99.44%),\tTest : 97.17%(97.17%),\tCurrent Time: 20250720-133318\n"
     ]
    },
    {
     "name": "stderr",
     "output_type": "stream",
     "text": [
      "Epoch 21/50:: 100%|\u001b[34m███████████████████\u001b[0m| 120/120 [00:02<00:00, 48.85batch/s, loss=0.027117]\u001b[0m\n"
     ]
    },
    {
     "name": "stdout",
     "output_type": "stream",
     "text": [
      "\t Loss: 0.674,\tTrain : 99.30%(99.44%),\tTest : 97.05%(97.17%),\tCurrent Time: 20250720-133321\n"
     ]
    },
    {
     "name": "stderr",
     "output_type": "stream",
     "text": [
      "Epoch 22/50:: 100%|\u001b[34m███████████████████\u001b[0m| 120/120 [00:02<00:00, 48.74batch/s, loss=0.027284]\u001b[0m\n"
     ]
    },
    {
     "name": "stdout",
     "output_type": "stream",
     "text": [
      "\t Loss: 0.780,\tTrain : 99.20%(99.44%),\tTest : 96.74%(97.17%),\tCurrent Time: 20250720-133324\n"
     ]
    },
    {
     "name": "stderr",
     "output_type": "stream",
     "text": [
      "Epoch 23/50:: 100%|\u001b[34m███████████████████\u001b[0m| 120/120 [00:02<00:00, 48.95batch/s, loss=0.023722]\u001b[0m\n"
     ]
    },
    {
     "name": "stdout",
     "output_type": "stream",
     "text": [
      "\t Loss: 0.470,\tTrain : 99.51%(99.51%),\tTest : 97.36%(97.36%),\tCurrent Time: 20250720-133327\n"
     ]
    },
    {
     "name": "stderr",
     "output_type": "stream",
     "text": [
      "Epoch 24/50:: 100%|\u001b[34m███████████████████\u001b[0m| 120/120 [00:02<00:00, 48.70batch/s, loss=0.024315]\u001b[0m\n"
     ]
    },
    {
     "name": "stdout",
     "output_type": "stream",
     "text": [
      "\t Loss: 0.612,\tTrain : 99.36%(99.51%),\tTest : 96.94%(97.36%),\tCurrent Time: 20250720-133330\n"
     ]
    },
    {
     "name": "stderr",
     "output_type": "stream",
     "text": [
      "Epoch 25/50:: 100%|\u001b[34m███████████████████\u001b[0m| 120/120 [00:02<00:00, 48.95batch/s, loss=0.023184]\u001b[0m\n"
     ]
    },
    {
     "name": "stdout",
     "output_type": "stream",
     "text": [
      "\t Loss: 0.433,\tTrain : 99.56%(99.56%),\tTest : 97.45%(97.45%),\tCurrent Time: 20250720-133333\n"
     ]
    },
    {
     "name": "stderr",
     "output_type": "stream",
     "text": [
      "Epoch 26/50:: 100%|\u001b[34m███████████████████\u001b[0m| 120/120 [00:02<00:00, 49.00batch/s, loss=0.020529]\u001b[0m\n"
     ]
    },
    {
     "name": "stdout",
     "output_type": "stream",
     "text": [
      "\t Loss: 0.366,\tTrain : 99.63%(99.63%),\tTest : 97.18%(97.45%),\tCurrent Time: 20250720-133336\n"
     ]
    },
    {
     "name": "stderr",
     "output_type": "stream",
     "text": [
      "Epoch 27/50:: 100%|\u001b[34m███████████████████\u001b[0m| 120/120 [00:02<00:00, 49.34batch/s, loss=0.016999]\u001b[0m\n"
     ]
    },
    {
     "name": "stdout",
     "output_type": "stream",
     "text": [
      "\t Loss: 0.339,\tTrain : 99.67%(99.67%),\tTest : 97.11%(97.45%),\tCurrent Time: 20250720-133339\n"
     ]
    },
    {
     "name": "stderr",
     "output_type": "stream",
     "text": [
      "Epoch 28/50:: 100%|\u001b[34m███████████████████\u001b[0m| 120/120 [00:02<00:00, 49.51batch/s, loss=0.015945]\u001b[0m\n"
     ]
    },
    {
     "name": "stdout",
     "output_type": "stream",
     "text": [
      "\t Loss: 0.825,\tTrain : 99.18%(99.67%),\tTest : 96.87%(97.45%),\tCurrent Time: 20250720-133342\n"
     ]
    },
    {
     "name": "stderr",
     "output_type": "stream",
     "text": [
      "Epoch 29/50:: 100%|\u001b[34m███████████████████\u001b[0m| 120/120 [00:02<00:00, 49.35batch/s, loss=0.017316]\u001b[0m\n"
     ]
    },
    {
     "name": "stdout",
     "output_type": "stream",
     "text": [
      "\t Loss: 0.414,\tTrain : 99.56%(99.67%),\tTest : 97.06%(97.45%),\tCurrent Time: 20250720-133345\n"
     ]
    },
    {
     "name": "stderr",
     "output_type": "stream",
     "text": [
      "Epoch 30/50:: 100%|\u001b[34m███████████████████\u001b[0m| 120/120 [00:02<00:00, 49.22batch/s, loss=0.020550]\u001b[0m\n"
     ]
    },
    {
     "name": "stdout",
     "output_type": "stream",
     "text": [
      "\t Loss: 0.593,\tTrain : 99.38%(99.67%),\tTest : 96.97%(97.45%),\tCurrent Time: 20250720-133347\n"
     ]
    },
    {
     "name": "stderr",
     "output_type": "stream",
     "text": [
      "Epoch 31/50:: 100%|\u001b[34m███████████████████\u001b[0m| 120/120 [00:02<00:00, 49.18batch/s, loss=0.015824]\u001b[0m\n"
     ]
    },
    {
     "name": "stdout",
     "output_type": "stream",
     "text": [
      "\t Loss: 0.409,\tTrain : 99.58%(99.67%),\tTest : 97.20%(97.45%),\tCurrent Time: 20250720-133350\n"
     ]
    },
    {
     "name": "stderr",
     "output_type": "stream",
     "text": [
      "Epoch 32/50:: 100%|\u001b[34m███████████████████\u001b[0m| 120/120 [00:02<00:00, 49.13batch/s, loss=0.017528]\u001b[0m\n"
     ]
    },
    {
     "name": "stdout",
     "output_type": "stream",
     "text": [
      "\t Loss: 0.325,\tTrain : 99.64%(99.67%),\tTest : 97.21%(97.45%),\tCurrent Time: 20250720-133353\n"
     ]
    },
    {
     "name": "stderr",
     "output_type": "stream",
     "text": [
      "Epoch 33/50:: 100%|\u001b[34m███████████████████\u001b[0m| 120/120 [00:02<00:00, 49.26batch/s, loss=0.012591]\u001b[0m\n"
     ]
    },
    {
     "name": "stdout",
     "output_type": "stream",
     "text": [
      "\t Loss: 0.233,\tTrain : 99.75%(99.75%),\tTest : 97.25%(97.45%),\tCurrent Time: 20250720-133356\n"
     ]
    },
    {
     "name": "stderr",
     "output_type": "stream",
     "text": [
      "Epoch 34/50:: 100%|\u001b[34m███████████████████\u001b[0m| 120/120 [00:02<00:00, 49.58batch/s, loss=0.010927]\u001b[0m\n"
     ]
    },
    {
     "name": "stdout",
     "output_type": "stream",
     "text": [
      "\t Loss: 0.202,\tTrain : 99.80%(99.80%),\tTest : 97.21%(97.45%),\tCurrent Time: 20250720-133359\n"
     ]
    },
    {
     "name": "stderr",
     "output_type": "stream",
     "text": [
      "Epoch 35/50:: 100%|\u001b[34m███████████████████\u001b[0m| 120/120 [00:02<00:00, 48.88batch/s, loss=0.013763]\u001b[0m\n"
     ]
    },
    {
     "name": "stdout",
     "output_type": "stream",
     "text": [
      "\t Loss: 0.519,\tTrain : 99.45%(99.80%),\tTest : 97.13%(97.45%),\tCurrent Time: 20250720-133402\n"
     ]
    },
    {
     "name": "stderr",
     "output_type": "stream",
     "text": [
      "Epoch 36/50:: 100%|\u001b[34m███████████████████\u001b[0m| 120/120 [00:02<00:00, 48.75batch/s, loss=0.014690]\u001b[0m\n"
     ]
    },
    {
     "name": "stdout",
     "output_type": "stream",
     "text": [
      "\t Loss: 1.376,\tTrain : 98.83%(99.80%),\tTest : 96.31%(97.45%),\tCurrent Time: 20250720-133405\n"
     ]
    },
    {
     "name": "stderr",
     "output_type": "stream",
     "text": [
      "Epoch 37/50:: 100%|\u001b[34m███████████████████\u001b[0m| 120/120 [00:02<00:00, 48.91batch/s, loss=0.018067]\u001b[0m\n"
     ]
    },
    {
     "name": "stdout",
     "output_type": "stream",
     "text": [
      "\t Loss: 0.210,\tTrain : 99.77%(99.80%),\tTest : 97.18%(97.45%),\tCurrent Time: 20250720-133408\n"
     ]
    },
    {
     "name": "stderr",
     "output_type": "stream",
     "text": [
      "Epoch 38/50:: 100%|\u001b[34m███████████████████\u001b[0m| 120/120 [00:02<00:00, 48.95batch/s, loss=0.010980]\u001b[0m\n"
     ]
    },
    {
     "name": "stdout",
     "output_type": "stream",
     "text": [
      "\t Loss: 0.680,\tTrain : 99.33%(99.80%),\tTest : 97.02%(97.45%),\tCurrent Time: 20250720-133411\n"
     ]
    },
    {
     "name": "stderr",
     "output_type": "stream",
     "text": [
      "Epoch 39/50:: 100%|\u001b[34m███████████████████\u001b[0m| 120/120 [00:02<00:00, 48.83batch/s, loss=0.015633]\u001b[0m\n"
     ]
    },
    {
     "name": "stdout",
     "output_type": "stream",
     "text": [
      "\t Loss: 0.167,\tTrain : 99.82%(99.82%),\tTest : 97.41%(97.45%),\tCurrent Time: 20250720-133414\n"
     ]
    },
    {
     "name": "stderr",
     "output_type": "stream",
     "text": [
      "Epoch 40/50:: 100%|\u001b[34m███████████████████\u001b[0m| 120/120 [00:02<00:00, 48.97batch/s, loss=0.008584]\u001b[0m\n"
     ]
    },
    {
     "name": "stdout",
     "output_type": "stream",
     "text": [
      "\t Loss: 0.230,\tTrain : 99.74%(99.82%),\tTest : 97.20%(97.45%),\tCurrent Time: 20250720-133417\n"
     ]
    },
    {
     "name": "stderr",
     "output_type": "stream",
     "text": [
      "Epoch 41/50:: 100%|\u001b[34m███████████████████\u001b[0m| 120/120 [00:02<00:00, 49.13batch/s, loss=0.008107]\u001b[0m\n"
     ]
    },
    {
     "name": "stdout",
     "output_type": "stream",
     "text": [
      "\t Loss: 0.329,\tTrain : 99.67%(99.82%),\tTest : 97.18%(97.45%),\tCurrent Time: 20250720-133419\n"
     ]
    },
    {
     "name": "stderr",
     "output_type": "stream",
     "text": [
      "Epoch 42/50:: 100%|\u001b[34m███████████████████\u001b[0m| 120/120 [00:02<00:00, 48.93batch/s, loss=0.015722]\u001b[0m\n"
     ]
    },
    {
     "name": "stdout",
     "output_type": "stream",
     "text": [
      "\t Loss: 0.343,\tTrain : 99.65%(99.82%),\tTest : 97.18%(97.45%),\tCurrent Time: 20250720-133422\n"
     ]
    },
    {
     "name": "stderr",
     "output_type": "stream",
     "text": [
      "Epoch 43/50:: 100%|\u001b[34m███████████████████\u001b[0m| 120/120 [00:02<00:00, 48.30batch/s, loss=0.011607]\u001b[0m\n"
     ]
    },
    {
     "name": "stdout",
     "output_type": "stream",
     "text": [
      "\t Loss: 0.501,\tTrain : 99.49%(99.82%),\tTest : 96.84%(97.45%),\tCurrent Time: 20250720-133425\n"
     ]
    },
    {
     "name": "stderr",
     "output_type": "stream",
     "text": [
      "Epoch 44/50:: 100%|\u001b[34m███████████████████\u001b[0m| 120/120 [00:02<00:00, 48.74batch/s, loss=0.009390]\u001b[0m\n"
     ]
    },
    {
     "name": "stdout",
     "output_type": "stream",
     "text": [
      "\t Loss: 0.260,\tTrain : 99.73%(99.82%),\tTest : 97.32%(97.45%),\tCurrent Time: 20250720-133428\n"
     ]
    },
    {
     "name": "stderr",
     "output_type": "stream",
     "text": [
      "Epoch 45/50:: 100%|\u001b[34m███████████████████\u001b[0m| 120/120 [00:02<00:00, 48.89batch/s, loss=0.012937]\u001b[0m\n"
     ]
    },
    {
     "name": "stdout",
     "output_type": "stream",
     "text": [
      "\t Loss: 0.213,\tTrain : 99.76%(99.82%),\tTest : 97.37%(97.45%),\tCurrent Time: 20250720-133431\n"
     ]
    },
    {
     "name": "stderr",
     "output_type": "stream",
     "text": [
      "Epoch 46/50:: 100%|\u001b[34m███████████████████\u001b[0m| 120/120 [00:02<00:00, 49.00batch/s, loss=0.015770]\u001b[0m\n"
     ]
    },
    {
     "name": "stdout",
     "output_type": "stream",
     "text": [
      "\t Loss: 0.301,\tTrain : 99.67%(99.82%),\tTest : 97.24%(97.45%),\tCurrent Time: 20250720-133434\n"
     ]
    },
    {
     "name": "stderr",
     "output_type": "stream",
     "text": [
      "Epoch 47/50:: 100%|\u001b[34m███████████████████\u001b[0m| 120/120 [00:02<00:00, 49.12batch/s, loss=0.008579]\u001b[0m\n"
     ]
    },
    {
     "name": "stdout",
     "output_type": "stream",
     "text": [
      "\t Loss: 0.071,\tTrain : 99.92%(99.92%),\tTest : 97.47%(97.47%),\tCurrent Time: 20250720-133437\n"
     ]
    },
    {
     "name": "stderr",
     "output_type": "stream",
     "text": [
      "Epoch 48/50:: 100%|\u001b[34m███████████████████\u001b[0m| 120/120 [00:02<00:00, 48.90batch/s, loss=0.007358]\u001b[0m\n"
     ]
    },
    {
     "name": "stdout",
     "output_type": "stream",
     "text": [
      "\t Loss: 0.208,\tTrain : 99.80%(99.92%),\tTest : 97.24%(97.47%),\tCurrent Time: 20250720-133440\n"
     ]
    },
    {
     "name": "stderr",
     "output_type": "stream",
     "text": [
      "Epoch 49/50:: 100%|\u001b[34m███████████████████\u001b[0m| 120/120 [00:02<00:00, 48.61batch/s, loss=0.006520]\u001b[0m\n"
     ]
    },
    {
     "name": "stdout",
     "output_type": "stream",
     "text": [
      "\t Loss: 0.262,\tTrain : 99.75%(99.92%),\tTest : 97.08%(97.47%),\tCurrent Time: 20250720-133443\n"
     ]
    },
    {
     "name": "stderr",
     "output_type": "stream",
     "text": [
      "Epoch 50/50:: 100%|\u001b[34m███████████████████\u001b[0m| 120/120 [00:02<00:00, 48.83batch/s, loss=0.007530]\u001b[0m\n"
     ]
    },
    {
     "name": "stdout",
     "output_type": "stream",
     "text": [
      "\t Loss: 0.125,\tTrain : 99.87%(99.92%),\tTest : 97.29%(97.47%),\tCurrent Time: 20250720-133446\n",
      "First_symm_10HL_Res-Task2-0-EP_L10--MNIST_EP_b_sc0.1- Time: 20250720-133446, Epochs: 50, Learning Rate: 0.001, Best: 99.92%  97.47%\n",
      "\n",
      "First_symm_10HL_Res-Task2-0-EP_L10--MNIST_EP_b_sc0.1-\n"
     ]
    },
    {
     "name": "stderr",
     "output_type": "stream",
     "text": [
      "Epoch 1/50:: 100%|\u001b[34m████████████████████\u001b[0m| 120/120 [00:02<00:00, 46.06batch/s, loss=0.707473]\u001b[0m\n"
     ]
    },
    {
     "name": "stdout",
     "output_type": "stream",
     "text": [
      "\t Loss: 8.140,\tTrain : 91.86%(91.86%),\tTest : 91.68%(91.68%),\tCurrent Time: 20250720-133453\n"
     ]
    },
    {
     "name": "stderr",
     "output_type": "stream",
     "text": [
      "Epoch 2/50:: 100%|\u001b[34m████████████████████\u001b[0m| 120/120 [00:02<00:00, 48.93batch/s, loss=0.230583]\u001b[0m\n"
     ]
    },
    {
     "name": "stdout",
     "output_type": "stream",
     "text": [
      "\t Loss: 5.587,\tTrain : 94.36%(94.36%),\tTest : 94.09%(94.09%),\tCurrent Time: 20250720-133456\n"
     ]
    },
    {
     "name": "stderr",
     "output_type": "stream",
     "text": [
      "Epoch 3/50:: 100%|\u001b[34m████████████████████\u001b[0m| 120/120 [00:02<00:00, 48.98batch/s, loss=0.171139]\u001b[0m\n"
     ]
    },
    {
     "name": "stdout",
     "output_type": "stream",
     "text": [
      "\t Loss: 4.197,\tTrain : 95.79%(95.79%),\tTest : 95.08%(95.08%),\tCurrent Time: 20250720-133459\n"
     ]
    },
    {
     "name": "stderr",
     "output_type": "stream",
     "text": [
      "Epoch 4/50:: 100%|\u001b[34m████████████████████\u001b[0m| 120/120 [00:02<00:00, 48.63batch/s, loss=0.145963]\u001b[0m\n"
     ]
    },
    {
     "name": "stdout",
     "output_type": "stream",
     "text": [
      "\t Loss: 3.843,\tTrain : 96.26%(96.26%),\tTest : 95.36%(95.36%),\tCurrent Time: 20250720-133502\n"
     ]
    },
    {
     "name": "stderr",
     "output_type": "stream",
     "text": [
      "Epoch 5/50:: 100%|\u001b[34m████████████████████\u001b[0m| 120/120 [00:02<00:00, 48.89batch/s, loss=0.122962]\u001b[0m\n"
     ]
    },
    {
     "name": "stdout",
     "output_type": "stream",
     "text": [
      "\t Loss: 4.007,\tTrain : 95.98%(96.26%),\tTest : 95.10%(95.36%),\tCurrent Time: 20250720-133505\n"
     ]
    },
    {
     "name": "stderr",
     "output_type": "stream",
     "text": [
      "Epoch 6/50:: 100%|\u001b[34m████████████████████\u001b[0m| 120/120 [00:02<00:00, 48.91batch/s, loss=0.113881]\u001b[0m\n"
     ]
    },
    {
     "name": "stdout",
     "output_type": "stream",
     "text": [
      "\t Loss: 2.792,\tTrain : 97.25%(97.25%),\tTest : 96.18%(96.18%),\tCurrent Time: 20250720-133508\n"
     ]
    },
    {
     "name": "stderr",
     "output_type": "stream",
     "text": [
      "Epoch 7/50:: 100%|\u001b[34m████████████████████\u001b[0m| 120/120 [00:02<00:00, 48.85batch/s, loss=0.096530]\u001b[0m\n"
     ]
    },
    {
     "name": "stdout",
     "output_type": "stream",
     "text": [
      "\t Loss: 2.395,\tTrain : 97.63%(97.63%),\tTest : 96.52%(96.52%),\tCurrent Time: 20250720-133511\n"
     ]
    },
    {
     "name": "stderr",
     "output_type": "stream",
     "text": [
      "Epoch 8/50:: 100%|\u001b[34m████████████████████\u001b[0m| 120/120 [00:02<00:00, 48.87batch/s, loss=0.087344]\u001b[0m\n"
     ]
    },
    {
     "name": "stdout",
     "output_type": "stream",
     "text": [
      "\t Loss: 2.129,\tTrain : 97.90%(97.90%),\tTest : 96.61%(96.61%),\tCurrent Time: 20250720-133514\n"
     ]
    },
    {
     "name": "stderr",
     "output_type": "stream",
     "text": [
      "Epoch 9/50:: 100%|\u001b[34m████████████████████\u001b[0m| 120/120 [00:02<00:00, 48.98batch/s, loss=0.078458]\u001b[0m\n"
     ]
    },
    {
     "name": "stdout",
     "output_type": "stream",
     "text": [
      "\t Loss: 2.580,\tTrain : 97.41%(97.90%),\tTest : 96.18%(96.61%),\tCurrent Time: 20250720-133517\n"
     ]
    },
    {
     "name": "stderr",
     "output_type": "stream",
     "text": [
      "Epoch 10/50:: 100%|\u001b[34m███████████████████\u001b[0m| 120/120 [00:02<00:00, 49.00batch/s, loss=0.072701]\u001b[0m\n"
     ]
    },
    {
     "name": "stdout",
     "output_type": "stream",
     "text": [
      "\t Loss: 1.818,\tTrain : 98.22%(98.22%),\tTest : 96.77%(96.77%),\tCurrent Time: 20250720-133520\n"
     ]
    },
    {
     "name": "stderr",
     "output_type": "stream",
     "text": [
      "Epoch 11/50:: 100%|\u001b[34m███████████████████\u001b[0m| 120/120 [00:02<00:00, 48.74batch/s, loss=0.066000]\u001b[0m\n"
     ]
    },
    {
     "name": "stdout",
     "output_type": "stream",
     "text": [
      "\t Loss: 1.738,\tTrain : 98.26%(98.26%),\tTest : 96.61%(96.77%),\tCurrent Time: 20250720-133522\n"
     ]
    },
    {
     "name": "stderr",
     "output_type": "stream",
     "text": [
      "Epoch 12/50:: 100%|\u001b[34m███████████████████\u001b[0m| 120/120 [00:02<00:00, 48.89batch/s, loss=0.060226]\u001b[0m\n"
     ]
    },
    {
     "name": "stdout",
     "output_type": "stream",
     "text": [
      "\t Loss: 1.437,\tTrain : 98.61%(98.61%),\tTest : 97.01%(97.01%),\tCurrent Time: 20250720-133525\n"
     ]
    },
    {
     "name": "stderr",
     "output_type": "stream",
     "text": [
      "Epoch 13/50:: 100%|\u001b[34m███████████████████\u001b[0m| 120/120 [00:02<00:00, 48.71batch/s, loss=0.054885]\u001b[0m\n"
     ]
    },
    {
     "name": "stdout",
     "output_type": "stream",
     "text": [
      "\t Loss: 1.254,\tTrain : 98.77%(98.77%),\tTest : 97.25%(97.25%),\tCurrent Time: 20250720-133528\n"
     ]
    },
    {
     "name": "stderr",
     "output_type": "stream",
     "text": [
      "Epoch 14/50:: 100%|\u001b[34m███████████████████\u001b[0m| 120/120 [00:02<00:00, 49.01batch/s, loss=0.055178]\u001b[0m\n"
     ]
    },
    {
     "name": "stdout",
     "output_type": "stream",
     "text": [
      "\t Loss: 1.140,\tTrain : 98.91%(98.91%),\tTest : 97.08%(97.25%),\tCurrent Time: 20250720-133531\n"
     ]
    },
    {
     "name": "stderr",
     "output_type": "stream",
     "text": [
      "Epoch 15/50:: 100%|\u001b[34m███████████████████\u001b[0m| 120/120 [00:02<00:00, 49.11batch/s, loss=0.048292]\u001b[0m\n"
     ]
    },
    {
     "name": "stdout",
     "output_type": "stream",
     "text": [
      "\t Loss: 1.229,\tTrain : 98.80%(98.91%),\tTest : 97.17%(97.25%),\tCurrent Time: 20250720-133534\n"
     ]
    },
    {
     "name": "stderr",
     "output_type": "stream",
     "text": [
      "Epoch 16/50:: 100%|\u001b[34m███████████████████\u001b[0m| 120/120 [00:02<00:00, 48.99batch/s, loss=0.043250]\u001b[0m\n"
     ]
    },
    {
     "name": "stdout",
     "output_type": "stream",
     "text": [
      "\t Loss: 0.809,\tTrain : 99.24%(99.24%),\tTest : 97.35%(97.35%),\tCurrent Time: 20250720-133537\n"
     ]
    },
    {
     "name": "stderr",
     "output_type": "stream",
     "text": [
      "Epoch 17/50:: 100%|\u001b[34m███████████████████\u001b[0m| 120/120 [00:02<00:00, 49.07batch/s, loss=0.038259]\u001b[0m\n"
     ]
    },
    {
     "name": "stdout",
     "output_type": "stream",
     "text": [
      "\t Loss: 0.857,\tTrain : 99.17%(99.24%),\tTest : 97.19%(97.35%),\tCurrent Time: 20250720-133540\n"
     ]
    },
    {
     "name": "stderr",
     "output_type": "stream",
     "text": [
      "Epoch 18/50:: 100%|\u001b[34m███████████████████\u001b[0m| 120/120 [00:02<00:00, 48.97batch/s, loss=0.038432]\u001b[0m\n"
     ]
    },
    {
     "name": "stdout",
     "output_type": "stream",
     "text": [
      "\t Loss: 0.792,\tTrain : 99.22%(99.24%),\tTest : 97.11%(97.35%),\tCurrent Time: 20250720-133543\n"
     ]
    },
    {
     "name": "stderr",
     "output_type": "stream",
     "text": [
      "Epoch 19/50:: 100%|\u001b[34m███████████████████\u001b[0m| 120/120 [00:02<00:00, 48.73batch/s, loss=0.034707]\u001b[0m\n"
     ]
    },
    {
     "name": "stdout",
     "output_type": "stream",
     "text": [
      "\t Loss: 1.238,\tTrain : 98.77%(99.24%),\tTest : 96.85%(97.35%),\tCurrent Time: 20250720-133546\n"
     ]
    },
    {
     "name": "stderr",
     "output_type": "stream",
     "text": [
      "Epoch 20/50:: 100%|\u001b[34m███████████████████\u001b[0m| 120/120 [00:02<00:00, 49.10batch/s, loss=0.036205]\u001b[0m\n"
     ]
    },
    {
     "name": "stdout",
     "output_type": "stream",
     "text": [
      "\t Loss: 0.756,\tTrain : 99.26%(99.26%),\tTest : 97.24%(97.35%),\tCurrent Time: 20250720-133549\n"
     ]
    },
    {
     "name": "stderr",
     "output_type": "stream",
     "text": [
      "Epoch 21/50:: 100%|\u001b[34m███████████████████\u001b[0m| 120/120 [00:02<00:00, 49.96batch/s, loss=0.031925]\u001b[0m\n"
     ]
    },
    {
     "name": "stdout",
     "output_type": "stream",
     "text": [
      "\t Loss: 1.065,\tTrain : 98.95%(99.26%),\tTest : 97.07%(97.35%),\tCurrent Time: 20250720-133552\n"
     ]
    },
    {
     "name": "stderr",
     "output_type": "stream",
     "text": [
      "Epoch 22/50:: 100%|\u001b[34m███████████████████\u001b[0m| 120/120 [00:02<00:00, 49.39batch/s, loss=0.031158]\u001b[0m\n"
     ]
    },
    {
     "name": "stdout",
     "output_type": "stream",
     "text": [
      "\t Loss: 0.736,\tTrain : 99.27%(99.27%),\tTest : 97.16%(97.35%),\tCurrent Time: 20250720-133554\n"
     ]
    },
    {
     "name": "stderr",
     "output_type": "stream",
     "text": [
      "Epoch 23/50:: 100%|\u001b[34m███████████████████\u001b[0m| 120/120 [00:02<00:00, 48.61batch/s, loss=0.028428]\u001b[0m\n"
     ]
    },
    {
     "name": "stdout",
     "output_type": "stream",
     "text": [
      "\t Loss: 0.644,\tTrain : 99.35%(99.35%),\tTest : 97.09%(97.35%),\tCurrent Time: 20250720-133557\n"
     ]
    },
    {
     "name": "stderr",
     "output_type": "stream",
     "text": [
      "Epoch 24/50:: 100%|\u001b[34m███████████████████\u001b[0m| 120/120 [00:02<00:00, 48.32batch/s, loss=0.026182]\u001b[0m\n"
     ]
    },
    {
     "name": "stdout",
     "output_type": "stream",
     "text": [
      "\t Loss: 0.711,\tTrain : 99.30%(99.35%),\tTest : 97.07%(97.35%),\tCurrent Time: 20250720-133600\n"
     ]
    },
    {
     "name": "stderr",
     "output_type": "stream",
     "text": [
      "Epoch 25/50:: 100%|\u001b[34m███████████████████\u001b[0m| 120/120 [00:02<00:00, 48.81batch/s, loss=0.024291]\u001b[0m\n"
     ]
    },
    {
     "name": "stdout",
     "output_type": "stream",
     "text": [
      "\t Loss: 0.832,\tTrain : 99.18%(99.35%),\tTest : 96.99%(97.35%),\tCurrent Time: 20250720-133603\n"
     ]
    },
    {
     "name": "stderr",
     "output_type": "stream",
     "text": [
      "Epoch 26/50:: 100%|\u001b[34m███████████████████\u001b[0m| 120/120 [00:02<00:00, 48.60batch/s, loss=0.024221]\u001b[0m\n"
     ]
    },
    {
     "name": "stdout",
     "output_type": "stream",
     "text": [
      "\t Loss: 0.481,\tTrain : 99.52%(99.52%),\tTest : 97.16%(97.35%),\tCurrent Time: 20250720-133606\n"
     ]
    },
    {
     "name": "stderr",
     "output_type": "stream",
     "text": [
      "Epoch 27/50:: 100%|\u001b[34m███████████████████\u001b[0m| 120/120 [00:02<00:00, 48.69batch/s, loss=0.020857]\u001b[0m\n"
     ]
    },
    {
     "name": "stdout",
     "output_type": "stream",
     "text": [
      "\t Loss: 0.543,\tTrain : 99.47%(99.52%),\tTest : 97.15%(97.35%),\tCurrent Time: 20250720-133609\n"
     ]
    },
    {
     "name": "stderr",
     "output_type": "stream",
     "text": [
      "Epoch 28/50:: 100%|\u001b[34m███████████████████\u001b[0m| 120/120 [00:02<00:00, 49.00batch/s, loss=0.019641]\u001b[0m\n"
     ]
    },
    {
     "name": "stdout",
     "output_type": "stream",
     "text": [
      "\t Loss: 0.374,\tTrain : 99.64%(99.64%),\tTest : 97.42%(97.42%),\tCurrent Time: 20250720-133612\n"
     ]
    },
    {
     "name": "stderr",
     "output_type": "stream",
     "text": [
      "Epoch 29/50:: 100%|\u001b[34m███████████████████\u001b[0m| 120/120 [00:02<00:00, 49.56batch/s, loss=0.017461]\u001b[0m\n"
     ]
    },
    {
     "name": "stdout",
     "output_type": "stream",
     "text": [
      "\t Loss: 0.559,\tTrain : 99.40%(99.64%),\tTest : 97.07%(97.42%),\tCurrent Time: 20250720-133615\n"
     ]
    },
    {
     "name": "stderr",
     "output_type": "stream",
     "text": [
      "Epoch 30/50:: 100%|\u001b[34m███████████████████\u001b[0m| 120/120 [00:02<00:00, 48.96batch/s, loss=0.024016]\u001b[0m\n"
     ]
    },
    {
     "name": "stdout",
     "output_type": "stream",
     "text": [
      "\t Loss: 0.578,\tTrain : 99.40%(99.64%),\tTest : 97.25%(97.42%),\tCurrent Time: 20250720-133618\n"
     ]
    },
    {
     "name": "stderr",
     "output_type": "stream",
     "text": [
      "Epoch 31/50:: 100%|\u001b[34m███████████████████\u001b[0m| 120/120 [00:02<00:00, 48.85batch/s, loss=0.024537]\u001b[0m\n"
     ]
    },
    {
     "name": "stdout",
     "output_type": "stream",
     "text": [
      "\t Loss: 0.360,\tTrain : 99.62%(99.64%),\tTest : 97.41%(97.42%),\tCurrent Time: 20250720-133621\n"
     ]
    },
    {
     "name": "stderr",
     "output_type": "stream",
     "text": [
      "Epoch 32/50:: 100%|\u001b[34m███████████████████\u001b[0m| 120/120 [00:02<00:00, 48.79batch/s, loss=0.017954]\u001b[0m\n"
     ]
    },
    {
     "name": "stdout",
     "output_type": "stream",
     "text": [
      "\t Loss: 0.355,\tTrain : 99.66%(99.66%),\tTest : 97.23%(97.42%),\tCurrent Time: 20250720-133624\n"
     ]
    },
    {
     "name": "stderr",
     "output_type": "stream",
     "text": [
      "Epoch 33/50:: 100%|\u001b[34m███████████████████\u001b[0m| 120/120 [00:02<00:00, 49.01batch/s, loss=0.015995]\u001b[0m\n"
     ]
    },
    {
     "name": "stdout",
     "output_type": "stream",
     "text": [
      "\t Loss: 0.252,\tTrain : 99.76%(99.76%),\tTest : 97.37%(97.42%),\tCurrent Time: 20250720-133627\n"
     ]
    },
    {
     "name": "stderr",
     "output_type": "stream",
     "text": [
      "Epoch 34/50:: 100%|\u001b[34m███████████████████\u001b[0m| 120/120 [00:02<00:00, 48.88batch/s, loss=0.014769]\u001b[0m\n"
     ]
    },
    {
     "name": "stdout",
     "output_type": "stream",
     "text": [
      "\t Loss: 0.637,\tTrain : 99.44%(99.76%),\tTest : 97.02%(97.42%),\tCurrent Time: 20250720-133630\n"
     ]
    },
    {
     "name": "stderr",
     "output_type": "stream",
     "text": [
      "Epoch 35/50:: 100%|\u001b[34m███████████████████\u001b[0m| 120/120 [00:02<00:00, 48.66batch/s, loss=0.013937]\u001b[0m\n"
     ]
    },
    {
     "name": "stdout",
     "output_type": "stream",
     "text": [
      "\t Loss: 0.191,\tTrain : 99.83%(99.83%),\tTest : 97.11%(97.42%),\tCurrent Time: 20250720-133632\n"
     ]
    },
    {
     "name": "stderr",
     "output_type": "stream",
     "text": [
      "Epoch 36/50:: 100%|\u001b[34m███████████████████\u001b[0m| 120/120 [00:02<00:00, 49.72batch/s, loss=0.013626]\u001b[0m\n"
     ]
    },
    {
     "name": "stdout",
     "output_type": "stream",
     "text": [
      "\t Loss: 0.439,\tTrain : 99.56%(99.83%),\tTest : 97.00%(97.42%),\tCurrent Time: 20250720-133635\n"
     ]
    },
    {
     "name": "stderr",
     "output_type": "stream",
     "text": [
      "Epoch 37/50:: 100%|\u001b[34m███████████████████\u001b[0m| 120/120 [00:02<00:00, 49.56batch/s, loss=0.013491]\u001b[0m\n"
     ]
    },
    {
     "name": "stdout",
     "output_type": "stream",
     "text": [
      "\t Loss: 0.249,\tTrain : 99.75%(99.83%),\tTest : 97.29%(97.42%),\tCurrent Time: 20250720-133638\n"
     ]
    },
    {
     "name": "stderr",
     "output_type": "stream",
     "text": [
      "Epoch 38/50:: 100%|\u001b[34m███████████████████\u001b[0m| 120/120 [00:02<00:00, 48.71batch/s, loss=0.012606]\u001b[0m\n"
     ]
    },
    {
     "name": "stdout",
     "output_type": "stream",
     "text": [
      "\t Loss: 0.255,\tTrain : 99.72%(99.83%),\tTest : 96.99%(97.42%),\tCurrent Time: 20250720-133641\n"
     ]
    },
    {
     "name": "stderr",
     "output_type": "stream",
     "text": [
      "Epoch 39/50:: 100%|\u001b[34m███████████████████\u001b[0m| 120/120 [00:02<00:00, 48.67batch/s, loss=0.013383]\u001b[0m\n"
     ]
    },
    {
     "name": "stdout",
     "output_type": "stream",
     "text": [
      "\t Loss: 0.390,\tTrain : 99.62%(99.83%),\tTest : 97.01%(97.42%),\tCurrent Time: 20250720-133644\n"
     ]
    },
    {
     "name": "stderr",
     "output_type": "stream",
     "text": [
      "Epoch 40/50:: 100%|\u001b[34m███████████████████\u001b[0m| 120/120 [00:02<00:00, 48.28batch/s, loss=0.014711]\u001b[0m\n"
     ]
    },
    {
     "name": "stdout",
     "output_type": "stream",
     "text": [
      "\t Loss: 0.460,\tTrain : 99.53%(99.83%),\tTest : 97.01%(97.42%),\tCurrent Time: 20250720-133647\n"
     ]
    },
    {
     "name": "stderr",
     "output_type": "stream",
     "text": [
      "Epoch 41/50:: 100%|\u001b[34m███████████████████\u001b[0m| 120/120 [00:02<00:00, 48.56batch/s, loss=0.012377]\u001b[0m\n"
     ]
    },
    {
     "name": "stdout",
     "output_type": "stream",
     "text": [
      "\t Loss: 0.551,\tTrain : 99.45%(99.83%),\tTest : 97.11%(97.42%),\tCurrent Time: 20250720-133650\n"
     ]
    },
    {
     "name": "stderr",
     "output_type": "stream",
     "text": [
      "Epoch 42/50:: 100%|\u001b[34m███████████████████\u001b[0m| 120/120 [00:02<00:00, 48.78batch/s, loss=0.018627]\u001b[0m\n"
     ]
    },
    {
     "name": "stdout",
     "output_type": "stream",
     "text": [
      "\t Loss: 0.214,\tTrain : 99.78%(99.83%),\tTest : 97.17%(97.42%),\tCurrent Time: 20250720-133653\n"
     ]
    },
    {
     "name": "stderr",
     "output_type": "stream",
     "text": [
      "Epoch 43/50:: 100%|\u001b[34m███████████████████\u001b[0m| 120/120 [00:02<00:00, 49.32batch/s, loss=0.008671]\u001b[0m\n"
     ]
    },
    {
     "name": "stdout",
     "output_type": "stream",
     "text": [
      "\t Loss: 0.267,\tTrain : 99.73%(99.83%),\tTest : 97.10%(97.42%),\tCurrent Time: 20250720-133656\n"
     ]
    },
    {
     "name": "stderr",
     "output_type": "stream",
     "text": [
      "Epoch 44/50:: 100%|\u001b[34m███████████████████\u001b[0m| 120/120 [00:02<00:00, 49.68batch/s, loss=0.010628]\u001b[0m\n"
     ]
    },
    {
     "name": "stdout",
     "output_type": "stream",
     "text": [
      "\t Loss: 0.103,\tTrain : 99.91%(99.91%),\tTest : 97.44%(97.44%),\tCurrent Time: 20250720-133659\n"
     ]
    },
    {
     "name": "stderr",
     "output_type": "stream",
     "text": [
      "Epoch 45/50:: 100%|\u001b[34m███████████████████\u001b[0m| 120/120 [00:02<00:00, 49.02batch/s, loss=0.006801]\u001b[0m\n"
     ]
    },
    {
     "name": "stdout",
     "output_type": "stream",
     "text": [
      "\t Loss: 0.226,\tTrain : 99.74%(99.91%),\tTest : 97.37%(97.44%),\tCurrent Time: 20250720-133702\n"
     ]
    },
    {
     "name": "stderr",
     "output_type": "stream",
     "text": [
      "Epoch 46/50:: 100%|\u001b[34m███████████████████\u001b[0m| 120/120 [00:02<00:00, 48.70batch/s, loss=0.011944]\u001b[0m\n"
     ]
    },
    {
     "name": "stdout",
     "output_type": "stream",
     "text": [
      "\t Loss: 0.238,\tTrain : 99.76%(99.91%),\tTest : 97.30%(97.44%),\tCurrent Time: 20250720-133704\n"
     ]
    },
    {
     "name": "stderr",
     "output_type": "stream",
     "text": [
      "Epoch 47/50:: 100%|\u001b[34m███████████████████\u001b[0m| 120/120 [00:02<00:00, 48.94batch/s, loss=0.012397]\u001b[0m\n"
     ]
    },
    {
     "name": "stdout",
     "output_type": "stream",
     "text": [
      "\t Loss: 0.221,\tTrain : 99.77%(99.91%),\tTest : 97.17%(97.44%),\tCurrent Time: 20250720-133707\n"
     ]
    },
    {
     "name": "stderr",
     "output_type": "stream",
     "text": [
      "Epoch 48/50:: 100%|\u001b[34m███████████████████\u001b[0m| 120/120 [00:02<00:00, 48.53batch/s, loss=0.012636]\u001b[0m\n"
     ]
    },
    {
     "name": "stdout",
     "output_type": "stream",
     "text": [
      "\t Loss: 0.465,\tTrain : 99.50%(99.91%),\tTest : 96.99%(97.44%),\tCurrent Time: 20250720-133710\n"
     ]
    },
    {
     "name": "stderr",
     "output_type": "stream",
     "text": [
      "Epoch 49/50:: 100%|\u001b[34m███████████████████\u001b[0m| 120/120 [00:02<00:00, 48.78batch/s, loss=0.014688]\u001b[0m\n"
     ]
    },
    {
     "name": "stdout",
     "output_type": "stream",
     "text": [
      "\t Loss: 0.272,\tTrain : 99.73%(99.91%),\tTest : 97.17%(97.44%),\tCurrent Time: 20250720-133713\n"
     ]
    },
    {
     "name": "stderr",
     "output_type": "stream",
     "text": [
      "Epoch 50/50:: 100%|\u001b[34m███████████████████\u001b[0m| 120/120 [00:02<00:00, 48.95batch/s, loss=0.013187]\u001b[0m\n"
     ]
    },
    {
     "name": "stdout",
     "output_type": "stream",
     "text": [
      "\t Loss: 0.244,\tTrain : 99.73%(99.91%),\tTest : 97.38%(97.44%),\tCurrent Time: 20250720-133716\n",
      "First_symm_10HL_Res-Task2-0-EP_L10--MNIST_EP_b_sc0.1- Time: 20250720-133716, Epochs: 50, Learning Rate: 0.001, Best: 99.91%  97.44%\n",
      "\n",
      "First_symm_10HL_Res-Task2-0-EP_L10--MNIST_EP_b_sc0.1-\n"
     ]
    },
    {
     "name": "stderr",
     "output_type": "stream",
     "text": [
      "Epoch 1/50:: 100%|\u001b[34m████████████████████\u001b[0m| 120/120 [00:02<00:00, 44.85batch/s, loss=0.613320]\u001b[0m\n"
     ]
    },
    {
     "name": "stdout",
     "output_type": "stream",
     "text": [
      "\t Loss: 8.154,\tTrain : 91.94%(91.94%),\tTest : 91.59%(91.59%),\tCurrent Time: 20250720-133724\n"
     ]
    },
    {
     "name": "stderr",
     "output_type": "stream",
     "text": [
      "Epoch 2/50:: 100%|\u001b[34m████████████████████\u001b[0m| 120/120 [00:02<00:00, 48.81batch/s, loss=0.220634]\u001b[0m\n"
     ]
    },
    {
     "name": "stdout",
     "output_type": "stream",
     "text": [
      "\t Loss: 5.068,\tTrain : 95.04%(95.04%),\tTest : 94.24%(94.24%),\tCurrent Time: 20250720-133727\n"
     ]
    },
    {
     "name": "stderr",
     "output_type": "stream",
     "text": [
      "Epoch 3/50:: 100%|\u001b[34m████████████████████\u001b[0m| 120/120 [00:02<00:00, 48.28batch/s, loss=0.165896]\u001b[0m\n"
     ]
    },
    {
     "name": "stdout",
     "output_type": "stream",
     "text": [
      "\t Loss: 3.987,\tTrain : 96.05%(96.05%),\tTest : 95.30%(95.30%),\tCurrent Time: 20250720-133730\n"
     ]
    },
    {
     "name": "stderr",
     "output_type": "stream",
     "text": [
      "Epoch 4/50:: 100%|\u001b[34m████████████████████\u001b[0m| 120/120 [00:02<00:00, 48.90batch/s, loss=0.137328]\u001b[0m\n"
     ]
    },
    {
     "name": "stdout",
     "output_type": "stream",
     "text": [
      "\t Loss: 3.335,\tTrain : 96.67%(96.67%),\tTest : 95.83%(95.83%),\tCurrent Time: 20250720-133732\n"
     ]
    },
    {
     "name": "stderr",
     "output_type": "stream",
     "text": [
      "Epoch 5/50:: 100%|\u001b[34m████████████████████\u001b[0m| 120/120 [00:02<00:00, 48.69batch/s, loss=0.119772]\u001b[0m\n"
     ]
    },
    {
     "name": "stdout",
     "output_type": "stream",
     "text": [
      "\t Loss: 2.852,\tTrain : 97.16%(97.16%),\tTest : 96.21%(96.21%),\tCurrent Time: 20250720-133735\n"
     ]
    },
    {
     "name": "stderr",
     "output_type": "stream",
     "text": [
      "Epoch 6/50:: 100%|\u001b[34m████████████████████\u001b[0m| 120/120 [00:02<00:00, 48.94batch/s, loss=0.107455]\u001b[0m\n"
     ]
    },
    {
     "name": "stdout",
     "output_type": "stream",
     "text": [
      "\t Loss: 2.502,\tTrain : 97.48%(97.48%),\tTest : 96.42%(96.42%),\tCurrent Time: 20250720-133738\n"
     ]
    },
    {
     "name": "stderr",
     "output_type": "stream",
     "text": [
      "Epoch 7/50:: 100%|\u001b[34m████████████████████\u001b[0m| 120/120 [00:02<00:00, 49.71batch/s, loss=0.092760]\u001b[0m\n"
     ]
    },
    {
     "name": "stdout",
     "output_type": "stream",
     "text": [
      "\t Loss: 2.658,\tTrain : 97.33%(97.48%),\tTest : 96.27%(96.42%),\tCurrent Time: 20250720-133741\n"
     ]
    },
    {
     "name": "stderr",
     "output_type": "stream",
     "text": [
      "Epoch 8/50:: 100%|\u001b[34m████████████████████\u001b[0m| 120/120 [00:02<00:00, 49.09batch/s, loss=0.085037]\u001b[0m\n"
     ]
    },
    {
     "name": "stdout",
     "output_type": "stream",
     "text": [
      "\t Loss: 2.090,\tTrain : 97.92%(97.92%),\tTest : 96.45%(96.45%),\tCurrent Time: 20250720-133744\n"
     ]
    },
    {
     "name": "stderr",
     "output_type": "stream",
     "text": [
      "Epoch 9/50:: 100%|\u001b[34m████████████████████\u001b[0m| 120/120 [00:02<00:00, 48.82batch/s, loss=0.075107]\u001b[0m\n"
     ]
    },
    {
     "name": "stdout",
     "output_type": "stream",
     "text": [
      "\t Loss: 2.010,\tTrain : 98.00%(98.00%),\tTest : 96.49%(96.49%),\tCurrent Time: 20250720-133747\n"
     ]
    },
    {
     "name": "stderr",
     "output_type": "stream",
     "text": [
      "Epoch 10/50:: 100%|\u001b[34m███████████████████\u001b[0m| 120/120 [00:02<00:00, 48.71batch/s, loss=0.067883]\u001b[0m\n"
     ]
    },
    {
     "name": "stdout",
     "output_type": "stream",
     "text": [
      "\t Loss: 1.924,\tTrain : 98.08%(98.08%),\tTest : 96.57%(96.57%),\tCurrent Time: 20250720-133750\n"
     ]
    },
    {
     "name": "stderr",
     "output_type": "stream",
     "text": [
      "Epoch 11/50:: 100%|\u001b[34m███████████████████\u001b[0m| 120/120 [00:02<00:00, 48.98batch/s, loss=0.065835]\u001b[0m\n"
     ]
    },
    {
     "name": "stdout",
     "output_type": "stream",
     "text": [
      "\t Loss: 1.518,\tTrain : 98.48%(98.48%),\tTest : 96.85%(96.85%),\tCurrent Time: 20250720-133753\n"
     ]
    },
    {
     "name": "stderr",
     "output_type": "stream",
     "text": [
      "Epoch 12/50:: 100%|\u001b[34m███████████████████\u001b[0m| 120/120 [00:02<00:00, 48.63batch/s, loss=0.059125]\u001b[0m\n"
     ]
    },
    {
     "name": "stdout",
     "output_type": "stream",
     "text": [
      "\t Loss: 1.554,\tTrain : 98.47%(98.48%),\tTest : 96.78%(96.85%),\tCurrent Time: 20250720-133756\n"
     ]
    },
    {
     "name": "stderr",
     "output_type": "stream",
     "text": [
      "Epoch 13/50:: 100%|\u001b[34m███████████████████\u001b[0m| 120/120 [00:02<00:00, 48.25batch/s, loss=0.051407]\u001b[0m\n"
     ]
    },
    {
     "name": "stdout",
     "output_type": "stream",
     "text": [
      "\t Loss: 1.601,\tTrain : 98.42%(98.48%),\tTest : 96.88%(96.88%),\tCurrent Time: 20250720-133759\n"
     ]
    },
    {
     "name": "stderr",
     "output_type": "stream",
     "text": [
      "Epoch 14/50:: 100%|\u001b[34m███████████████████\u001b[0m| 120/120 [00:02<00:00, 49.53batch/s, loss=0.047652]\u001b[0m\n"
     ]
    },
    {
     "name": "stdout",
     "output_type": "stream",
     "text": [
      "\t Loss: 1.389,\tTrain : 98.58%(98.58%),\tTest : 96.78%(96.88%),\tCurrent Time: 20250720-133802\n"
     ]
    },
    {
     "name": "stderr",
     "output_type": "stream",
     "text": [
      "Epoch 15/50:: 100%|\u001b[34m███████████████████\u001b[0m| 120/120 [00:02<00:00, 49.52batch/s, loss=0.047290]\u001b[0m\n"
     ]
    },
    {
     "name": "stdout",
     "output_type": "stream",
     "text": [
      "\t Loss: 1.146,\tTrain : 98.80%(98.80%),\tTest : 97.12%(97.12%),\tCurrent Time: 20250720-133805\n"
     ]
    },
    {
     "name": "stderr",
     "output_type": "stream",
     "text": [
      "Epoch 16/50:: 100%|\u001b[34m███████████████████\u001b[0m| 120/120 [00:02<00:00, 48.71batch/s, loss=0.045822]\u001b[0m\n"
     ]
    },
    {
     "name": "stdout",
     "output_type": "stream",
     "text": [
      "\t Loss: 1.120,\tTrain : 98.87%(98.87%),\tTest : 96.98%(97.12%),\tCurrent Time: 20250720-133807\n"
     ]
    },
    {
     "name": "stderr",
     "output_type": "stream",
     "text": [
      "Epoch 17/50:: 100%|\u001b[34m███████████████████\u001b[0m| 120/120 [00:02<00:00, 48.79batch/s, loss=0.037497]\u001b[0m\n"
     ]
    },
    {
     "name": "stdout",
     "output_type": "stream",
     "text": [
      "\t Loss: 0.835,\tTrain : 99.19%(99.19%),\tTest : 97.23%(97.23%),\tCurrent Time: 20250720-133810\n"
     ]
    },
    {
     "name": "stderr",
     "output_type": "stream",
     "text": [
      "Epoch 18/50:: 100%|\u001b[34m███████████████████\u001b[0m| 120/120 [00:02<00:00, 48.72batch/s, loss=0.035061]\u001b[0m\n"
     ]
    },
    {
     "name": "stdout",
     "output_type": "stream",
     "text": [
      "\t Loss: 0.809,\tTrain : 99.20%(99.20%),\tTest : 97.03%(97.23%),\tCurrent Time: 20250720-133813\n"
     ]
    },
    {
     "name": "stderr",
     "output_type": "stream",
     "text": [
      "Epoch 19/50:: 100%|\u001b[34m███████████████████\u001b[0m| 120/120 [00:02<00:00, 48.98batch/s, loss=0.033280]\u001b[0m\n"
     ]
    },
    {
     "name": "stdout",
     "output_type": "stream",
     "text": [
      "\t Loss: 0.745,\tTrain : 99.23%(99.23%),\tTest : 97.16%(97.23%),\tCurrent Time: 20250720-133816\n"
     ]
    },
    {
     "name": "stderr",
     "output_type": "stream",
     "text": [
      "Epoch 20/50:: 100%|\u001b[34m███████████████████\u001b[0m| 120/120 [00:02<00:00, 48.71batch/s, loss=0.030621]\u001b[0m\n"
     ]
    },
    {
     "name": "stdout",
     "output_type": "stream",
     "text": [
      "\t Loss: 1.140,\tTrain : 98.80%(99.23%),\tTest : 96.68%(97.23%),\tCurrent Time: 20250720-133819\n"
     ]
    },
    {
     "name": "stderr",
     "output_type": "stream",
     "text": [
      "Epoch 21/50:: 100%|\u001b[34m███████████████████\u001b[0m| 120/120 [00:02<00:00, 48.99batch/s, loss=0.032250]\u001b[0m\n"
     ]
    },
    {
     "name": "stdout",
     "output_type": "stream",
     "text": [
      "\t Loss: 0.635,\tTrain : 99.35%(99.35%),\tTest : 97.13%(97.23%),\tCurrent Time: 20250720-133822\n"
     ]
    },
    {
     "name": "stderr",
     "output_type": "stream",
     "text": [
      "Epoch 22/50:: 100%|\u001b[34m███████████████████\u001b[0m| 120/120 [00:02<00:00, 49.06batch/s, loss=0.027707]\u001b[0m\n"
     ]
    },
    {
     "name": "stdout",
     "output_type": "stream",
     "text": [
      "\t Loss: 0.648,\tTrain : 99.35%(99.35%),\tTest : 97.21%(97.23%),\tCurrent Time: 20250720-133825\n"
     ]
    },
    {
     "name": "stderr",
     "output_type": "stream",
     "text": [
      "Epoch 23/50:: 100%|\u001b[34m███████████████████\u001b[0m| 120/120 [00:02<00:00, 49.08batch/s, loss=0.026890]\u001b[0m\n"
     ]
    },
    {
     "name": "stdout",
     "output_type": "stream",
     "text": [
      "\t Loss: 0.814,\tTrain : 99.16%(99.35%),\tTest : 96.90%(97.23%),\tCurrent Time: 20250720-133828\n"
     ]
    },
    {
     "name": "stderr",
     "output_type": "stream",
     "text": [
      "Epoch 24/50:: 100%|\u001b[34m███████████████████\u001b[0m| 120/120 [00:02<00:00, 48.80batch/s, loss=0.021131]\u001b[0m\n"
     ]
    },
    {
     "name": "stdout",
     "output_type": "stream",
     "text": [
      "\t Loss: 0.588,\tTrain : 99.45%(99.45%),\tTest : 97.10%(97.23%),\tCurrent Time: 20250720-133831\n"
     ]
    },
    {
     "name": "stderr",
     "output_type": "stream",
     "text": [
      "Epoch 25/50:: 100%|\u001b[34m███████████████████\u001b[0m| 120/120 [00:02<00:00, 48.65batch/s, loss=0.019412]\u001b[0m\n"
     ]
    },
    {
     "name": "stdout",
     "output_type": "stream",
     "text": [
      "\t Loss: 0.745,\tTrain : 99.25%(99.45%),\tTest : 96.98%(97.23%),\tCurrent Time: 20250720-133834\n"
     ]
    },
    {
     "name": "stderr",
     "output_type": "stream",
     "text": [
      "Epoch 26/50:: 100%|\u001b[34m███████████████████\u001b[0m| 120/120 [00:02<00:00, 48.89batch/s, loss=0.023094]\u001b[0m\n"
     ]
    },
    {
     "name": "stdout",
     "output_type": "stream",
     "text": [
      "\t Loss: 0.411,\tTrain : 99.60%(99.60%),\tTest : 97.35%(97.35%),\tCurrent Time: 20250720-133837\n"
     ]
    },
    {
     "name": "stderr",
     "output_type": "stream",
     "text": [
      "Epoch 27/50:: 100%|\u001b[34m███████████████████\u001b[0m| 120/120 [00:02<00:00, 48.81batch/s, loss=0.018960]\u001b[0m\n"
     ]
    },
    {
     "name": "stdout",
     "output_type": "stream",
     "text": [
      "\t Loss: 0.372,\tTrain : 99.63%(99.63%),\tTest : 97.25%(97.35%),\tCurrent Time: 20250720-133840\n"
     ]
    },
    {
     "name": "stderr",
     "output_type": "stream",
     "text": [
      "Epoch 28/50:: 100%|\u001b[34m███████████████████\u001b[0m| 120/120 [00:02<00:00, 48.56batch/s, loss=0.013767]\u001b[0m\n"
     ]
    },
    {
     "name": "stdout",
     "output_type": "stream",
     "text": [
      "\t Loss: 0.293,\tTrain : 99.70%(99.70%),\tTest : 97.45%(97.45%),\tCurrent Time: 20250720-133843\n"
     ]
    },
    {
     "name": "stderr",
     "output_type": "stream",
     "text": [
      "Epoch 29/50:: 100%|\u001b[34m███████████████████\u001b[0m| 120/120 [00:02<00:00, 49.46batch/s, loss=0.014677]\u001b[0m\n"
     ]
    },
    {
     "name": "stdout",
     "output_type": "stream",
     "text": [
      "\t Loss: 0.289,\tTrain : 99.73%(99.73%),\tTest : 97.44%(97.45%),\tCurrent Time: 20250720-133845\n"
     ]
    },
    {
     "name": "stderr",
     "output_type": "stream",
     "text": [
      "Epoch 30/50:: 100%|\u001b[34m███████████████████\u001b[0m| 120/120 [00:02<00:00, 49.50batch/s, loss=0.013409]\u001b[0m\n"
     ]
    },
    {
     "name": "stdout",
     "output_type": "stream",
     "text": [
      "\t Loss: 0.373,\tTrain : 99.62%(99.73%),\tTest : 97.22%(97.45%),\tCurrent Time: 20250720-133848\n"
     ]
    },
    {
     "name": "stderr",
     "output_type": "stream",
     "text": [
      "Epoch 31/50:: 100%|\u001b[34m███████████████████\u001b[0m| 120/120 [00:02<00:00, 48.58batch/s, loss=0.015788]\u001b[0m\n"
     ]
    },
    {
     "name": "stdout",
     "output_type": "stream",
     "text": [
      "\t Loss: 0.940,\tTrain : 99.09%(99.73%),\tTest : 96.73%(97.45%),\tCurrent Time: 20250720-133851\n"
     ]
    },
    {
     "name": "stderr",
     "output_type": "stream",
     "text": [
      "Epoch 32/50:: 100%|\u001b[34m███████████████████\u001b[0m| 120/120 [00:02<00:00, 48.83batch/s, loss=0.018678]\u001b[0m\n"
     ]
    },
    {
     "name": "stdout",
     "output_type": "stream",
     "text": [
      "\t Loss: 0.232,\tTrain : 99.76%(99.76%),\tTest : 97.27%(97.45%),\tCurrent Time: 20250720-133854\n"
     ]
    },
    {
     "name": "stderr",
     "output_type": "stream",
     "text": [
      "Epoch 33/50:: 100%|\u001b[34m███████████████████\u001b[0m| 120/120 [00:02<00:00, 48.83batch/s, loss=0.022197]\u001b[0m\n"
     ]
    },
    {
     "name": "stdout",
     "output_type": "stream",
     "text": [
      "\t Loss: 0.678,\tTrain : 99.30%(99.76%),\tTest : 96.97%(97.45%),\tCurrent Time: 20250720-133857\n"
     ]
    },
    {
     "name": "stderr",
     "output_type": "stream",
     "text": [
      "Epoch 34/50:: 100%|\u001b[34m███████████████████\u001b[0m| 120/120 [00:02<00:00, 48.24batch/s, loss=0.020305]\u001b[0m\n"
     ]
    },
    {
     "name": "stdout",
     "output_type": "stream",
     "text": [
      "\t Loss: 0.474,\tTrain : 99.50%(99.76%),\tTest : 97.02%(97.45%),\tCurrent Time: 20250720-133900\n"
     ]
    },
    {
     "name": "stderr",
     "output_type": "stream",
     "text": [
      "Epoch 35/50:: 100%|\u001b[34m███████████████████\u001b[0m| 120/120 [00:02<00:00, 48.68batch/s, loss=0.017592]\u001b[0m\n"
     ]
    },
    {
     "name": "stdout",
     "output_type": "stream",
     "text": [
      "\t Loss: 0.200,\tTrain : 99.81%(99.81%),\tTest : 97.41%(97.45%),\tCurrent Time: 20250720-133903\n"
     ]
    },
    {
     "name": "stderr",
     "output_type": "stream",
     "text": [
      "Epoch 36/50:: 100%|\u001b[34m███████████████████\u001b[0m| 120/120 [00:02<00:00, 49.11batch/s, loss=0.009787]\u001b[0m\n"
     ]
    },
    {
     "name": "stdout",
     "output_type": "stream",
     "text": [
      "\t Loss: 0.155,\tTrain : 99.83%(99.83%),\tTest : 97.54%(97.54%),\tCurrent Time: 20250720-133906\n"
     ]
    },
    {
     "name": "stderr",
     "output_type": "stream",
     "text": [
      "Epoch 37/50:: 100%|\u001b[34m███████████████████\u001b[0m| 120/120 [00:02<00:00, 49.60batch/s, loss=0.012287]\u001b[0m\n"
     ]
    },
    {
     "name": "stdout",
     "output_type": "stream",
     "text": [
      "\t Loss: 0.223,\tTrain : 99.79%(99.83%),\tTest : 97.46%(97.54%),\tCurrent Time: 20250720-133909\n"
     ]
    },
    {
     "name": "stderr",
     "output_type": "stream",
     "text": [
      "Epoch 38/50:: 100%|\u001b[34m███████████████████\u001b[0m| 120/120 [00:02<00:00, 49.15batch/s, loss=0.012888]\u001b[0m\n"
     ]
    },
    {
     "name": "stdout",
     "output_type": "stream",
     "text": [
      "\t Loss: 0.148,\tTrain : 99.83%(99.83%),\tTest : 97.57%(97.57%),\tCurrent Time: 20250720-133912\n"
     ]
    },
    {
     "name": "stderr",
     "output_type": "stream",
     "text": [
      "Epoch 39/50:: 100%|\u001b[34m███████████████████\u001b[0m| 120/120 [00:02<00:00, 48.92batch/s, loss=0.010256]\u001b[0m\n"
     ]
    },
    {
     "name": "stdout",
     "output_type": "stream",
     "text": [
      "\t Loss: 0.263,\tTrain : 99.73%(99.83%),\tTest : 97.48%(97.57%),\tCurrent Time: 20250720-133915\n"
     ]
    },
    {
     "name": "stderr",
     "output_type": "stream",
     "text": [
      "Epoch 40/50:: 100%|\u001b[34m███████████████████\u001b[0m| 120/120 [00:02<00:00, 48.12batch/s, loss=0.009238]\u001b[0m\n"
     ]
    },
    {
     "name": "stdout",
     "output_type": "stream",
     "text": [
      "\t Loss: 0.413,\tTrain : 99.56%(99.83%),\tTest : 97.09%(97.57%),\tCurrent Time: 20250720-133918\n"
     ]
    },
    {
     "name": "stderr",
     "output_type": "stream",
     "text": [
      "Epoch 41/50:: 100%|\u001b[34m███████████████████\u001b[0m| 120/120 [00:02<00:00, 48.63batch/s, loss=0.009409]\u001b[0m\n"
     ]
    },
    {
     "name": "stdout",
     "output_type": "stream",
     "text": [
      "\t Loss: 0.309,\tTrain : 99.69%(99.83%),\tTest : 97.34%(97.57%),\tCurrent Time: 20250720-133920\n"
     ]
    },
    {
     "name": "stderr",
     "output_type": "stream",
     "text": [
      "Epoch 42/50:: 100%|\u001b[34m███████████████████\u001b[0m| 120/120 [00:02<00:00, 48.87batch/s, loss=0.016653]\u001b[0m\n"
     ]
    },
    {
     "name": "stdout",
     "output_type": "stream",
     "text": [
      "\t Loss: 0.346,\tTrain : 99.63%(99.83%),\tTest : 97.34%(97.57%),\tCurrent Time: 20250720-133923\n"
     ]
    },
    {
     "name": "stderr",
     "output_type": "stream",
     "text": [
      "Epoch 43/50:: 100%|\u001b[34m███████████████████\u001b[0m| 120/120 [00:02<00:00, 48.71batch/s, loss=0.009363]\u001b[0m\n"
     ]
    },
    {
     "name": "stdout",
     "output_type": "stream",
     "text": [
      "\t Loss: 0.183,\tTrain : 99.80%(99.83%),\tTest : 97.53%(97.57%),\tCurrent Time: 20250720-133926\n"
     ]
    },
    {
     "name": "stderr",
     "output_type": "stream",
     "text": [
      "Epoch 44/50:: 100%|\u001b[34m███████████████████\u001b[0m| 120/120 [00:02<00:00, 49.59batch/s, loss=0.014823]\u001b[0m\n"
     ]
    },
    {
     "name": "stdout",
     "output_type": "stream",
     "text": [
      "\t Loss: 0.386,\tTrain : 99.60%(99.83%),\tTest : 96.96%(97.57%),\tCurrent Time: 20250720-133929\n"
     ]
    },
    {
     "name": "stderr",
     "output_type": "stream",
     "text": [
      "Epoch 45/50:: 100%|\u001b[34m███████████████████\u001b[0m| 120/120 [00:02<00:00, 49.74batch/s, loss=0.010220]\u001b[0m\n"
     ]
    },
    {
     "name": "stdout",
     "output_type": "stream",
     "text": [
      "\t Loss: 0.303,\tTrain : 99.70%(99.83%),\tTest : 97.39%(97.57%),\tCurrent Time: 20250720-133932\n"
     ]
    },
    {
     "name": "stderr",
     "output_type": "stream",
     "text": [
      "Epoch 46/50:: 100%|\u001b[34m███████████████████\u001b[0m| 120/120 [00:02<00:00, 49.51batch/s, loss=0.012990]\u001b[0m\n"
     ]
    },
    {
     "name": "stdout",
     "output_type": "stream",
     "text": [
      "\t Loss: 0.319,\tTrain : 99.67%(99.83%),\tTest : 97.16%(97.57%),\tCurrent Time: 20250720-133935\n"
     ]
    },
    {
     "name": "stderr",
     "output_type": "stream",
     "text": [
      "Epoch 47/50:: 100%|\u001b[34m███████████████████\u001b[0m| 120/120 [00:02<00:00, 49.27batch/s, loss=0.008477]\u001b[0m\n"
     ]
    },
    {
     "name": "stdout",
     "output_type": "stream",
     "text": [
      "\t Loss: 0.198,\tTrain : 99.81%(99.83%),\tTest : 97.24%(97.57%),\tCurrent Time: 20250720-133938\n"
     ]
    },
    {
     "name": "stderr",
     "output_type": "stream",
     "text": [
      "Epoch 48/50:: 100%|\u001b[34m███████████████████\u001b[0m| 120/120 [00:02<00:00, 49.55batch/s, loss=0.014774]\u001b[0m\n"
     ]
    },
    {
     "name": "stdout",
     "output_type": "stream",
     "text": [
      "\t Loss: 0.313,\tTrain : 99.69%(99.83%),\tTest : 97.19%(97.57%),\tCurrent Time: 20250720-133941\n"
     ]
    },
    {
     "name": "stderr",
     "output_type": "stream",
     "text": [
      "Epoch 49/50:: 100%|\u001b[34m███████████████████\u001b[0m| 120/120 [00:02<00:00, 49.70batch/s, loss=0.010107]\u001b[0m\n"
     ]
    },
    {
     "name": "stdout",
     "output_type": "stream",
     "text": [
      "\t Loss: 0.435,\tTrain : 99.61%(99.83%),\tTest : 97.02%(97.57%),\tCurrent Time: 20250720-133944\n"
     ]
    },
    {
     "name": "stderr",
     "output_type": "stream",
     "text": [
      "Epoch 50/50:: 100%|\u001b[34m███████████████████\u001b[0m| 120/120 [00:02<00:00, 49.42batch/s, loss=0.007801]\u001b[0m\n"
     ]
    },
    {
     "name": "stdout",
     "output_type": "stream",
     "text": [
      "\t Loss: 0.140,\tTrain : 99.86%(99.86%),\tTest : 97.48%(97.57%),\tCurrent Time: 20250720-133946\n",
      "First_symm_10HL_Res-Task2-0-EP_L10--MNIST_EP_b_sc0.1- Time: 20250720-133946, Epochs: 50, Learning Rate: 0.001, Best: 99.86%  97.57%\n",
      "\n",
      "First_symm_10HL_Res-Task2-0-EP_L10--MNIST_EP_b_sc0.1-\n"
     ]
    },
    {
     "name": "stderr",
     "output_type": "stream",
     "text": [
      "Epoch 1/50:: 100%|\u001b[34m████████████████████\u001b[0m| 120/120 [00:02<00:00, 46.78batch/s, loss=0.628506]\u001b[0m\n"
     ]
    },
    {
     "name": "stdout",
     "output_type": "stream",
     "text": [
      "\t Loss: 7.629,\tTrain : 92.43%(92.43%),\tTest : 92.13%(92.13%),\tCurrent Time: 20250720-133954\n"
     ]
    },
    {
     "name": "stderr",
     "output_type": "stream",
     "text": [
      "Epoch 2/50:: 100%|\u001b[34m████████████████████\u001b[0m| 120/120 [00:02<00:00, 49.64batch/s, loss=0.224756]\u001b[0m\n"
     ]
    },
    {
     "name": "stdout",
     "output_type": "stream",
     "text": [
      "\t Loss: 5.115,\tTrain : 95.02%(95.02%),\tTest : 94.53%(94.53%),\tCurrent Time: 20250720-133957\n"
     ]
    },
    {
     "name": "stderr",
     "output_type": "stream",
     "text": [
      "Epoch 3/50:: 100%|\u001b[34m████████████████████\u001b[0m| 120/120 [00:02<00:00, 49.68batch/s, loss=0.172064]\u001b[0m\n"
     ]
    },
    {
     "name": "stdout",
     "output_type": "stream",
     "text": [
      "\t Loss: 4.450,\tTrain : 95.62%(95.62%),\tTest : 95.06%(95.06%),\tCurrent Time: 20250720-134000\n"
     ]
    },
    {
     "name": "stderr",
     "output_type": "stream",
     "text": [
      "Epoch 4/50:: 100%|\u001b[34m████████████████████\u001b[0m| 120/120 [00:02<00:00, 49.57batch/s, loss=0.137601]\u001b[0m\n"
     ]
    },
    {
     "name": "stdout",
     "output_type": "stream",
     "text": [
      "\t Loss: 4.101,\tTrain : 95.99%(95.99%),\tTest : 95.23%(95.23%),\tCurrent Time: 20250720-134002\n"
     ]
    },
    {
     "name": "stderr",
     "output_type": "stream",
     "text": [
      "Epoch 5/50:: 100%|\u001b[34m████████████████████\u001b[0m| 120/120 [00:02<00:00, 49.71batch/s, loss=0.119456]\u001b[0m\n"
     ]
    },
    {
     "name": "stdout",
     "output_type": "stream",
     "text": [
      "\t Loss: 3.105,\tTrain : 96.95%(96.95%),\tTest : 96.04%(96.04%),\tCurrent Time: 20250720-134005\n"
     ]
    },
    {
     "name": "stderr",
     "output_type": "stream",
     "text": [
      "Epoch 6/50:: 100%|\u001b[34m████████████████████\u001b[0m| 120/120 [00:02<00:00, 49.36batch/s, loss=0.099095]\u001b[0m\n"
     ]
    },
    {
     "name": "stdout",
     "output_type": "stream",
     "text": [
      "\t Loss: 2.472,\tTrain : 97.55%(97.55%),\tTest : 96.49%(96.49%),\tCurrent Time: 20250720-134008\n"
     ]
    },
    {
     "name": "stderr",
     "output_type": "stream",
     "text": [
      "Epoch 7/50:: 100%|\u001b[34m████████████████████\u001b[0m| 120/120 [00:02<00:00, 49.63batch/s, loss=0.091685]\u001b[0m\n"
     ]
    },
    {
     "name": "stdout",
     "output_type": "stream",
     "text": [
      "\t Loss: 2.142,\tTrain : 97.95%(97.95%),\tTest : 96.68%(96.68%),\tCurrent Time: 20250720-134011\n"
     ]
    },
    {
     "name": "stderr",
     "output_type": "stream",
     "text": [
      "Epoch 8/50:: 100%|\u001b[34m████████████████████\u001b[0m| 120/120 [00:02<00:00, 49.53batch/s, loss=0.080209]\u001b[0m\n"
     ]
    },
    {
     "name": "stdout",
     "output_type": "stream",
     "text": [
      "\t Loss: 1.853,\tTrain : 98.20%(98.20%),\tTest : 96.80%(96.80%),\tCurrent Time: 20250720-134014\n"
     ]
    },
    {
     "name": "stderr",
     "output_type": "stream",
     "text": [
      "Epoch 9/50:: 100%|\u001b[34m████████████████████\u001b[0m| 120/120 [00:02<00:00, 49.69batch/s, loss=0.071548]\u001b[0m\n"
     ]
    },
    {
     "name": "stdout",
     "output_type": "stream",
     "text": [
      "\t Loss: 1.982,\tTrain : 98.06%(98.20%),\tTest : 96.78%(96.80%),\tCurrent Time: 20250720-134017\n"
     ]
    },
    {
     "name": "stderr",
     "output_type": "stream",
     "text": [
      "Epoch 10/50:: 100%|\u001b[34m███████████████████\u001b[0m| 120/120 [00:02<00:00, 49.60batch/s, loss=0.065140]\u001b[0m\n"
     ]
    },
    {
     "name": "stdout",
     "output_type": "stream",
     "text": [
      "\t Loss: 1.531,\tTrain : 98.53%(98.53%),\tTest : 97.04%(97.04%),\tCurrent Time: 20250720-134020\n"
     ]
    },
    {
     "name": "stderr",
     "output_type": "stream",
     "text": [
      "Epoch 11/50:: 100%|\u001b[34m███████████████████\u001b[0m| 120/120 [00:02<00:00, 49.55batch/s, loss=0.058306]\u001b[0m\n"
     ]
    },
    {
     "name": "stdout",
     "output_type": "stream",
     "text": [
      "\t Loss: 1.579,\tTrain : 98.47%(98.53%),\tTest : 96.88%(97.04%),\tCurrent Time: 20250720-134023\n"
     ]
    },
    {
     "name": "stderr",
     "output_type": "stream",
     "text": [
      "Epoch 12/50:: 100%|\u001b[34m███████████████████\u001b[0m| 120/120 [00:02<00:00, 49.64batch/s, loss=0.057027]\u001b[0m\n"
     ]
    },
    {
     "name": "stdout",
     "output_type": "stream",
     "text": [
      "\t Loss: 1.296,\tTrain : 98.72%(98.72%),\tTest : 97.13%(97.13%),\tCurrent Time: 20250720-134025\n"
     ]
    },
    {
     "name": "stderr",
     "output_type": "stream",
     "text": [
      "Epoch 13/50:: 100%|\u001b[34m███████████████████\u001b[0m| 120/120 [00:02<00:00, 49.70batch/s, loss=0.058428]\u001b[0m\n"
     ]
    },
    {
     "name": "stdout",
     "output_type": "stream",
     "text": [
      "\t Loss: 1.506,\tTrain : 98.52%(98.72%),\tTest : 96.67%(97.13%),\tCurrent Time: 20250720-134028\n"
     ]
    },
    {
     "name": "stderr",
     "output_type": "stream",
     "text": [
      "Epoch 14/50:: 100%|\u001b[34m███████████████████\u001b[0m| 120/120 [00:02<00:00, 49.36batch/s, loss=0.049073]\u001b[0m\n"
     ]
    },
    {
     "name": "stdout",
     "output_type": "stream",
     "text": [
      "\t Loss: 1.117,\tTrain : 98.91%(98.91%),\tTest : 96.98%(97.13%),\tCurrent Time: 20250720-134031\n"
     ]
    },
    {
     "name": "stderr",
     "output_type": "stream",
     "text": [
      "Epoch 15/50:: 100%|\u001b[34m███████████████████\u001b[0m| 120/120 [00:02<00:00, 49.49batch/s, loss=0.042359]\u001b[0m\n"
     ]
    },
    {
     "name": "stdout",
     "output_type": "stream",
     "text": [
      "\t Loss: 1.187,\tTrain : 98.79%(98.91%),\tTest : 96.97%(97.13%),\tCurrent Time: 20250720-134034\n"
     ]
    },
    {
     "name": "stderr",
     "output_type": "stream",
     "text": [
      "Epoch 16/50:: 100%|\u001b[34m███████████████████\u001b[0m| 120/120 [00:02<00:00, 49.55batch/s, loss=0.041085]\u001b[0m\n"
     ]
    },
    {
     "name": "stdout",
     "output_type": "stream",
     "text": [
      "\t Loss: 1.133,\tTrain : 98.83%(98.91%),\tTest : 96.71%(97.13%),\tCurrent Time: 20250720-134037\n"
     ]
    },
    {
     "name": "stderr",
     "output_type": "stream",
     "text": [
      "Epoch 17/50:: 100%|\u001b[34m███████████████████\u001b[0m| 120/120 [00:02<00:00, 48.66batch/s, loss=0.042158]\u001b[0m\n"
     ]
    },
    {
     "name": "stdout",
     "output_type": "stream",
     "text": [
      "\t Loss: 0.995,\tTrain : 99.02%(99.02%),\tTest : 96.93%(97.13%),\tCurrent Time: 20250720-134040\n"
     ]
    },
    {
     "name": "stderr",
     "output_type": "stream",
     "text": [
      "Epoch 18/50:: 100%|\u001b[34m███████████████████\u001b[0m| 120/120 [00:02<00:00, 49.65batch/s, loss=0.033704]\u001b[0m\n"
     ]
    },
    {
     "name": "stdout",
     "output_type": "stream",
     "text": [
      "\t Loss: 0.699,\tTrain : 99.33%(99.33%),\tTest : 97.29%(97.29%),\tCurrent Time: 20250720-134043\n"
     ]
    },
    {
     "name": "stderr",
     "output_type": "stream",
     "text": [
      "Epoch 19/50:: 100%|\u001b[34m███████████████████\u001b[0m| 120/120 [00:02<00:00, 49.70batch/s, loss=0.031323]\u001b[0m\n"
     ]
    },
    {
     "name": "stdout",
     "output_type": "stream",
     "text": [
      "\t Loss: 0.810,\tTrain : 99.25%(99.33%),\tTest : 97.27%(97.29%),\tCurrent Time: 20250720-134046\n"
     ]
    },
    {
     "name": "stderr",
     "output_type": "stream",
     "text": [
      "Epoch 20/50:: 100%|\u001b[34m███████████████████\u001b[0m| 120/120 [00:02<00:00, 49.55batch/s, loss=0.027017]\u001b[0m\n"
     ]
    },
    {
     "name": "stdout",
     "output_type": "stream",
     "text": [
      "\t Loss: 0.781,\tTrain : 99.22%(99.33%),\tTest : 96.99%(97.29%),\tCurrent Time: 20250720-134049\n"
     ]
    },
    {
     "name": "stderr",
     "output_type": "stream",
     "text": [
      "Epoch 21/50:: 100%|\u001b[34m███████████████████\u001b[0m| 120/120 [00:02<00:00, 49.59batch/s, loss=0.026565]\u001b[0m\n"
     ]
    },
    {
     "name": "stdout",
     "output_type": "stream",
     "text": [
      "\t Loss: 0.636,\tTrain : 99.38%(99.38%),\tTest : 97.12%(97.29%),\tCurrent Time: 20250720-134051\n"
     ]
    },
    {
     "name": "stderr",
     "output_type": "stream",
     "text": [
      "Epoch 22/50:: 100%|\u001b[34m███████████████████\u001b[0m| 120/120 [00:02<00:00, 49.64batch/s, loss=0.029305]\u001b[0m\n"
     ]
    },
    {
     "name": "stdout",
     "output_type": "stream",
     "text": [
      "\t Loss: 0.521,\tTrain : 99.47%(99.47%),\tTest : 97.15%(97.29%),\tCurrent Time: 20250720-134054\n"
     ]
    },
    {
     "name": "stderr",
     "output_type": "stream",
     "text": [
      "Epoch 23/50:: 100%|\u001b[34m███████████████████\u001b[0m| 120/120 [00:02<00:00, 49.83batch/s, loss=0.026062]\u001b[0m\n"
     ]
    },
    {
     "name": "stdout",
     "output_type": "stream",
     "text": [
      "\t Loss: 0.415,\tTrain : 99.60%(99.60%),\tTest : 97.23%(97.29%),\tCurrent Time: 20250720-134057\n"
     ]
    },
    {
     "name": "stderr",
     "output_type": "stream",
     "text": [
      "Epoch 24/50:: 100%|\u001b[34m███████████████████\u001b[0m| 120/120 [00:02<00:00, 49.50batch/s, loss=0.021770]\u001b[0m\n"
     ]
    },
    {
     "name": "stdout",
     "output_type": "stream",
     "text": [
      "\t Loss: 0.380,\tTrain : 99.62%(99.62%),\tTest : 97.20%(97.29%),\tCurrent Time: 20250720-134100\n"
     ]
    },
    {
     "name": "stderr",
     "output_type": "stream",
     "text": [
      "Epoch 25/50:: 100%|\u001b[34m███████████████████\u001b[0m| 120/120 [00:02<00:00, 49.60batch/s, loss=0.021908]\u001b[0m\n"
     ]
    },
    {
     "name": "stdout",
     "output_type": "stream",
     "text": [
      "\t Loss: 0.470,\tTrain : 99.51%(99.62%),\tTest : 97.29%(97.29%),\tCurrent Time: 20250720-134103\n"
     ]
    },
    {
     "name": "stderr",
     "output_type": "stream",
     "text": [
      "Epoch 26/50:: 100%|\u001b[34m███████████████████\u001b[0m| 120/120 [00:02<00:00, 49.46batch/s, loss=0.022466]\u001b[0m\n"
     ]
    },
    {
     "name": "stdout",
     "output_type": "stream",
     "text": [
      "\t Loss: 0.453,\tTrain : 99.55%(99.62%),\tTest : 96.95%(97.29%),\tCurrent Time: 20250720-134106\n"
     ]
    },
    {
     "name": "stderr",
     "output_type": "stream",
     "text": [
      "Epoch 27/50:: 100%|\u001b[34m███████████████████\u001b[0m| 120/120 [00:02<00:00, 49.57batch/s, loss=0.022806]\u001b[0m\n"
     ]
    },
    {
     "name": "stdout",
     "output_type": "stream",
     "text": [
      "\t Loss: 0.360,\tTrain : 99.63%(99.63%),\tTest : 97.33%(97.33%),\tCurrent Time: 20250720-134109\n"
     ]
    },
    {
     "name": "stderr",
     "output_type": "stream",
     "text": [
      "Epoch 28/50:: 100%|\u001b[34m███████████████████\u001b[0m| 120/120 [00:02<00:00, 49.42batch/s, loss=0.020918]\u001b[0m\n"
     ]
    },
    {
     "name": "stdout",
     "output_type": "stream",
     "text": [
      "\t Loss: 0.461,\tTrain : 99.61%(99.63%),\tTest : 97.23%(97.33%),\tCurrent Time: 20250720-134112\n"
     ]
    },
    {
     "name": "stderr",
     "output_type": "stream",
     "text": [
      "Epoch 29/50:: 100%|\u001b[34m███████████████████\u001b[0m| 120/120 [00:02<00:00, 48.71batch/s, loss=0.016578]\u001b[0m\n"
     ]
    },
    {
     "name": "stdout",
     "output_type": "stream",
     "text": [
      "\t Loss: 0.308,\tTrain : 99.70%(99.70%),\tTest : 97.31%(97.33%),\tCurrent Time: 20250720-134114\n"
     ]
    },
    {
     "name": "stderr",
     "output_type": "stream",
     "text": [
      "Epoch 30/50:: 100%|\u001b[34m███████████████████\u001b[0m| 120/120 [00:02<00:00, 49.59batch/s, loss=0.017232]\u001b[0m\n"
     ]
    },
    {
     "name": "stdout",
     "output_type": "stream",
     "text": [
      "\t Loss: 0.571,\tTrain : 99.39%(99.70%),\tTest : 96.76%(97.33%),\tCurrent Time: 20250720-134117\n"
     ]
    },
    {
     "name": "stderr",
     "output_type": "stream",
     "text": [
      "Epoch 31/50:: 100%|\u001b[34m███████████████████\u001b[0m| 120/120 [00:02<00:00, 49.77batch/s, loss=0.018775]\u001b[0m\n"
     ]
    },
    {
     "name": "stdout",
     "output_type": "stream",
     "text": [
      "\t Loss: 0.301,\tTrain : 99.71%(99.71%),\tTest : 97.31%(97.33%),\tCurrent Time: 20250720-134120\n"
     ]
    },
    {
     "name": "stderr",
     "output_type": "stream",
     "text": [
      "Epoch 32/50:: 100%|\u001b[34m███████████████████\u001b[0m| 120/120 [00:02<00:00, 49.64batch/s, loss=0.017235]\u001b[0m\n"
     ]
    },
    {
     "name": "stdout",
     "output_type": "stream",
     "text": [
      "\t Loss: 0.535,\tTrain : 99.46%(99.71%),\tTest : 96.98%(97.33%),\tCurrent Time: 20250720-134123\n"
     ]
    },
    {
     "name": "stderr",
     "output_type": "stream",
     "text": [
      "Epoch 33/50:: 100%|\u001b[34m███████████████████\u001b[0m| 120/120 [00:02<00:00, 48.91batch/s, loss=0.012733]\u001b[0m\n"
     ]
    },
    {
     "name": "stdout",
     "output_type": "stream",
     "text": [
      "\t Loss: 0.225,\tTrain : 99.76%(99.76%),\tTest : 97.18%(97.33%),\tCurrent Time: 20250720-134126\n"
     ]
    },
    {
     "name": "stderr",
     "output_type": "stream",
     "text": [
      "Epoch 34/50:: 100%|\u001b[34m███████████████████\u001b[0m| 120/120 [00:02<00:00, 49.74batch/s, loss=0.015692]\u001b[0m\n"
     ]
    },
    {
     "name": "stdout",
     "output_type": "stream",
     "text": [
      "\t Loss: 0.461,\tTrain : 99.50%(99.76%),\tTest : 96.99%(97.33%),\tCurrent Time: 20250720-134129\n"
     ]
    },
    {
     "name": "stderr",
     "output_type": "stream",
     "text": [
      "Epoch 35/50:: 100%|\u001b[34m███████████████████\u001b[0m| 120/120 [00:02<00:00, 49.73batch/s, loss=0.013584]\u001b[0m\n"
     ]
    },
    {
     "name": "stdout",
     "output_type": "stream",
     "text": [
      "\t Loss: 1.037,\tTrain : 99.09%(99.76%),\tTest : 96.62%(97.33%),\tCurrent Time: 20250720-134132\n"
     ]
    },
    {
     "name": "stderr",
     "output_type": "stream",
     "text": [
      "Epoch 36/50:: 100%|\u001b[34m███████████████████\u001b[0m| 120/120 [00:02<00:00, 49.76batch/s, loss=0.014279]\u001b[0m\n"
     ]
    },
    {
     "name": "stdout",
     "output_type": "stream",
     "text": [
      "\t Loss: 0.228,\tTrain : 99.76%(99.76%),\tTest : 97.22%(97.33%),\tCurrent Time: 20250720-134135\n"
     ]
    },
    {
     "name": "stderr",
     "output_type": "stream",
     "text": [
      "Epoch 37/50:: 100%|\u001b[34m███████████████████\u001b[0m| 120/120 [00:02<00:00, 49.71batch/s, loss=0.011928]\u001b[0m\n"
     ]
    },
    {
     "name": "stdout",
     "output_type": "stream",
     "text": [
      "\t Loss: 0.389,\tTrain : 99.59%(99.76%),\tTest : 96.99%(97.33%),\tCurrent Time: 20250720-134137\n"
     ]
    },
    {
     "name": "stderr",
     "output_type": "stream",
     "text": [
      "Epoch 38/50:: 100%|\u001b[34m███████████████████\u001b[0m| 120/120 [00:02<00:00, 49.64batch/s, loss=0.018109]\u001b[0m\n"
     ]
    },
    {
     "name": "stdout",
     "output_type": "stream",
     "text": [
      "\t Loss: 0.333,\tTrain : 99.64%(99.76%),\tTest : 97.14%(97.33%),\tCurrent Time: 20250720-134140\n"
     ]
    },
    {
     "name": "stderr",
     "output_type": "stream",
     "text": [
      "Epoch 39/50:: 100%|\u001b[34m███████████████████\u001b[0m| 120/120 [00:02<00:00, 49.62batch/s, loss=0.013027]\u001b[0m\n"
     ]
    },
    {
     "name": "stdout",
     "output_type": "stream",
     "text": [
      "\t Loss: 0.199,\tTrain : 99.81%(99.81%),\tTest : 97.18%(97.33%),\tCurrent Time: 20250720-134143\n"
     ]
    },
    {
     "name": "stderr",
     "output_type": "stream",
     "text": [
      "Epoch 40/50:: 100%|\u001b[34m███████████████████\u001b[0m| 120/120 [00:02<00:00, 49.68batch/s, loss=0.009249]\u001b[0m\n"
     ]
    },
    {
     "name": "stdout",
     "output_type": "stream",
     "text": [
      "\t Loss: 0.326,\tTrain : 99.68%(99.81%),\tTest : 97.10%(97.33%),\tCurrent Time: 20250720-134146\n"
     ]
    },
    {
     "name": "stderr",
     "output_type": "stream",
     "text": [
      "Epoch 41/50:: 100%|\u001b[34m███████████████████\u001b[0m| 120/120 [00:02<00:00, 49.71batch/s, loss=0.009539]\u001b[0m\n"
     ]
    },
    {
     "name": "stdout",
     "output_type": "stream",
     "text": [
      "\t Loss: 0.325,\tTrain : 99.69%(99.81%),\tTest : 97.06%(97.33%),\tCurrent Time: 20250720-134149\n"
     ]
    },
    {
     "name": "stderr",
     "output_type": "stream",
     "text": [
      "Epoch 42/50:: 100%|\u001b[34m███████████████████\u001b[0m| 120/120 [00:02<00:00, 49.66batch/s, loss=0.010884]\u001b[0m\n"
     ]
    },
    {
     "name": "stdout",
     "output_type": "stream",
     "text": [
      "\t Loss: 0.431,\tTrain : 99.61%(99.81%),\tTest : 97.21%(97.33%),\tCurrent Time: 20250720-134152\n"
     ]
    },
    {
     "name": "stderr",
     "output_type": "stream",
     "text": [
      "Epoch 43/50:: 100%|\u001b[34m███████████████████\u001b[0m| 120/120 [00:02<00:00, 49.73batch/s, loss=0.012275]\u001b[0m\n"
     ]
    },
    {
     "name": "stdout",
     "output_type": "stream",
     "text": [
      "\t Loss: 0.436,\tTrain : 99.57%(99.81%),\tTest : 97.06%(97.33%),\tCurrent Time: 20250720-134155\n"
     ]
    },
    {
     "name": "stderr",
     "output_type": "stream",
     "text": [
      "Epoch 44/50:: 100%|\u001b[34m███████████████████\u001b[0m| 120/120 [00:02<00:00, 49.56batch/s, loss=0.013445]\u001b[0m\n"
     ]
    },
    {
     "name": "stdout",
     "output_type": "stream",
     "text": [
      "\t Loss: 0.182,\tTrain : 99.80%(99.81%),\tTest : 97.15%(97.33%),\tCurrent Time: 20250720-134158\n"
     ]
    },
    {
     "name": "stderr",
     "output_type": "stream",
     "text": [
      "Epoch 45/50:: 100%|\u001b[34m███████████████████\u001b[0m| 120/120 [00:02<00:00, 49.48batch/s, loss=0.010092]\u001b[0m\n"
     ]
    },
    {
     "name": "stdout",
     "output_type": "stream",
     "text": [
      "\t Loss: 0.172,\tTrain : 99.83%(99.83%),\tTest : 97.38%(97.38%),\tCurrent Time: 20250720-134200\n"
     ]
    },
    {
     "name": "stderr",
     "output_type": "stream",
     "text": [
      "Epoch 46/50:: 100%|\u001b[34m███████████████████\u001b[0m| 120/120 [00:02<00:00, 49.57batch/s, loss=0.011718]\u001b[0m\n"
     ]
    },
    {
     "name": "stdout",
     "output_type": "stream",
     "text": [
      "\t Loss: 0.825,\tTrain : 99.31%(99.83%),\tTest : 96.69%(97.38%),\tCurrent Time: 20250720-134203\n"
     ]
    },
    {
     "name": "stderr",
     "output_type": "stream",
     "text": [
      "Epoch 47/50:: 100%|\u001b[34m███████████████████\u001b[0m| 120/120 [00:02<00:00, 49.56batch/s, loss=0.013876]\u001b[0m\n"
     ]
    },
    {
     "name": "stdout",
     "output_type": "stream",
     "text": [
      "\t Loss: 0.144,\tTrain : 99.84%(99.84%),\tTest : 97.38%(97.38%),\tCurrent Time: 20250720-134206\n"
     ]
    },
    {
     "name": "stderr",
     "output_type": "stream",
     "text": [
      "Epoch 48/50:: 100%|\u001b[34m███████████████████\u001b[0m| 120/120 [00:02<00:00, 49.27batch/s, loss=0.009546]\u001b[0m\n"
     ]
    },
    {
     "name": "stdout",
     "output_type": "stream",
     "text": [
      "\t Loss: 0.250,\tTrain : 99.74%(99.84%),\tTest : 97.23%(97.38%),\tCurrent Time: 20250720-134209\n"
     ]
    },
    {
     "name": "stderr",
     "output_type": "stream",
     "text": [
      "Epoch 49/50:: 100%|\u001b[34m███████████████████\u001b[0m| 120/120 [00:02<00:00, 49.68batch/s, loss=0.011270]\u001b[0m\n"
     ]
    },
    {
     "name": "stdout",
     "output_type": "stream",
     "text": [
      "\t Loss: 0.112,\tTrain : 99.88%(99.88%),\tTest : 97.45%(97.45%),\tCurrent Time: 20250720-134212\n"
     ]
    },
    {
     "name": "stderr",
     "output_type": "stream",
     "text": [
      "Epoch 50/50:: 100%|\u001b[34m███████████████████\u001b[0m| 120/120 [00:02<00:00, 49.54batch/s, loss=0.006467]\u001b[0m\n"
     ]
    },
    {
     "name": "stdout",
     "output_type": "stream",
     "text": [
      "\t Loss: 0.093,\tTrain : 99.91%(99.91%),\tTest : 97.46%(97.46%),\tCurrent Time: 20250720-134215\n",
      "First_symm_10HL_Res-Task2-0-EP_L10--MNIST_EP_b_sc0.1- Time: 20250720-134215, Epochs: 50, Learning Rate: 0.001, Best: 99.91%  97.46%\n",
      "\n"
     ]
    }
   ],
   "source": [
    "for iM in range( len(M_range) ):\n",
    "    for iPara in range( len(ParaRange) ):\n",
    "        for  imultitest in range((multitest)):\n",
    "            Para_EP['bsc'] = ParaRange[iPara]\n",
    "            Para_t['task'] = M_range[iM]\n",
    "\n",
    "            (_, [train_loader_gpu,valid_loader_gpu,test_loader_gpu], [nodes[0], nodes[-1]]\n",
    "                 ) = dataset(Para_t['task'], device=device, bs=Para_t['batchsize'], validbstimes=4 )\n",
    "            #-----------------\n",
    "            Para_EP['It2sta'] = (len(nodes)-2)*10\n",
    "            Para_EP['It2sta2'] = (len(nodes)-2)*5\n",
    "            # ---------------------------------\n",
    "            model = EPNN_LN(W_conn, nodes=nodes, Para_t=Para_t, Para_EP=Para_EP, device=device).to(device)\n",
    "\n",
    "            s_task_info = f\"{Task_info}-{Para_t['method']}_L{(len(nodes)-2)}--{Para_t['task']}_EP_b_sc{Para_EP['bsc']}-{Einfo}\"\n",
    "            print(s_task_info)\n",
    "\n",
    "            ## Train\n",
    "\n",
    "            for epoch in range(Para_t['epoch']):\n",
    "                losssum = 0\n",
    "                random.shuffle(train_loader_gpu)\n",
    "                with tqdm(total=len(train_loader_gpu), desc=f\"Epoch {epoch + 1}/{Para_t['epoch']}:\", unit='batch', ncols=90, mininterval=1, colour='blue') as pbar:\n",
    "                    for i, (images, labels) in enumerate(train_loader_gpu):\n",
    "                        # \n",
    "                        images = images.view(-1, nodes[0])\n",
    "                        labels_one_hot = one_hot(labels, nodes[-1], device=device)\n",
    "                        # \n",
    "                        outputs = model.forward(images)\n",
    "                        # \n",
    "                        loss = cross_entropy_loss(outputs, labels_one_hot.to(device))\n",
    "                        losssum += loss.item()\n",
    "                        #\n",
    "                        outputs = model.backward(images, labels_one_hot, outputs)\n",
    "                        # \n",
    "                        model.update_weights_adam() if Para_t['adam'] else model.update_weights() #model.update_weights_adam() model.update_weights()\n",
    "                        # \n",
    "                        if (i+1) % 10 == 0: \n",
    "                            pbar.set_postfix({'loss': f'{losssum/(i+1):.6f}'})  \n",
    "                            pbar.update(10)\n",
    "\n",
    "                # SR, ftmle, mle, zall = model.Lyapunov_EP(images[-1:,:], y=None, t_e=500, ret_zall=True)\n",
    "                # if imultitest==0: zall_list[iM][iPara].append(zall)\n",
    "\n",
    "                # terr = model.ret_error() if imultitest==0 else 0\n",
    "                # eall_list[iM][iPara][imultitest].append(terr)\n",
    "\n",
    "                # train set ------------------------------------------------------------\n",
    "                train_correct = 0\n",
    "                train_total = 0\n",
    "                losssum = 0\n",
    "                for images, labels in valid_loader_gpu:\n",
    "                    images = images.view(-1, nodes[0])\n",
    "                    labels_one_hot = one_hot(labels, nodes[-1], device=device)\n",
    "                    # \n",
    "                    outputs = model.forward(images)\n",
    "\n",
    "                    _, predicted = torch.max(outputs, 1)\n",
    "                    loss = cross_entropy_loss(outputs, labels_one_hot.to(device))\n",
    "                    losssum += loss.item()\n",
    "                    train_total += labels.size(0)\n",
    "                    train_correct += (predicted == labels).sum().item()\n",
    "\n",
    "                train_accuracy = train_correct / train_total\n",
    "\n",
    "                # test set -------------------------------------------------------------\n",
    "                test_correct = 0\n",
    "                test_total = 0\n",
    "                # ---------\n",
    "                for images, labels in test_loader_gpu:\n",
    "                    images = images.view(-1, nodes[0])\n",
    "                    # \n",
    "                    outputs = model.forward(images)\n",
    "\n",
    "                    _, predicted = torch.max(outputs, 1)\n",
    "                    test_total += labels.size(0)\n",
    "                    test_correct += (predicted == labels).sum().item()\n",
    "\n",
    "                test_accuracy = test_correct / test_total\n",
    "\n",
    "                res[iM][iPara][imultitest][0][epoch] = losssum\n",
    "                res[iM][iPara][imultitest][1][epoch] = train_accuracy\n",
    "                res[iM][iPara][imultitest][2][epoch] = test_accuracy\n",
    "                # res[iM][iPara][imultitest][3][epoch] = ftmle\n",
    "                # res[iM][iPara][imultitest][4][epoch] = mle\n",
    "                # res[iM][iPara][imultitest][5][epoch] = SR\n",
    "\n",
    "                current_time = time.strftime(\"%Y%m%d-%H%M%S\", time.localtime())\n",
    "                print(f'\\t Loss: {res[iM][iPara][imultitest][0][epoch] :.3f},\\t'\n",
    "                    f'Train : {res[iM][iPara][imultitest][1][epoch] * 100:.2f}%({np.max(res[iM][iPara][imultitest][1]) * 100:.2f}%),\\t'\n",
    "                    f'Test : {res[iM][iPara][imultitest][2][epoch] * 100:.2f}%({np.max(res[iM][iPara][imultitest][2]) * 100:.2f}%),\\t'\n",
    "                    f'Current Time: {current_time}')\n",
    "                \n",
    "                # if 1-train_accuracy <1e-4:\n",
    "                #     break\n",
    "            \n",
    "            # best result\n",
    "            print(f\"{s_task_info} Time: {current_time}, Epochs: {Para_t['epoch']}, Learning Rate: {Para_t['eta']}, \"\n",
    "                f\"Best: {max(res[iM][iPara][imultitest][1]) * 100:.2f}%  {max(res[iM][iPara][imultitest][2]) * 100:.2f}%\\n\")\n",
    "            \n",
    "        for attempt in range(5):\n",
    "            try:\n",
    "                with open(res_path/\"res.txt\", \"a\") as f:\n",
    "                    trainacct = np.max(res[iM][iPara][:,1,:], axis=-1)\n",
    "                    testacct = np.max(res[iM][iPara][:,2,:], axis=-1)\n",
    "                    f.write(f\"{s_task_info} Time: {current_time}: \"\n",
    "                            f\"train: {np.mean(trainacct) * 100:.2f}%+-{np.std(trainacct, ddof=1)*100:.2f}% ({np.min(trainacct) * 100:.2f}% {np.max(trainacct) * 100:.2f}%)\"\n",
    "                            f\"\\t test: {np.mean(testacct) * 100:.2f}%+-{np.std(testacct, ddof=1)*100:.2f}% ({np.min(testacct) * 100:.2f}% {np.max(testacct) * 100:.2f}%)\\n\")\n",
    "\n",
    "                    if Para_EP!=None:\n",
    "                        for key, value in Para_EP.items():\n",
    "                            f.write(f\"{key}: {value}  \")\n",
    "                    f.write(f'\\n\\n')  \n",
    "\n",
    "                break  # \n",
    "            except PermissionError:\n",
    "                if attempt < 5 - 1:\n",
    "                    print(f\"Permission denied, retrying in {5} seconds...\")\n",
    "                    time.sleep(5)\n",
    "                else:\n",
    "                    raise  # "
   ]
  },
  {
   "cell_type": "code",
   "execution_count": 8,
   "id": "c5626ba2",
   "metadata": {},
   "outputs": [],
   "source": [
    "current_time = time.strftime(\"%Y%m%d-%H%M%S\", time.localtime())\n",
    "if fsave: \n",
    "    save_dict = {\n",
    "        \"M_range\": M_range,\n",
    "        \"ParaRange\": ParaRange,\n",
    "        \"multitest\": multitest,\n",
    "        \"Para_EP\": Para_EP,\n",
    "        \"Para_t\": Para_t,       \n",
    "        \"res\": res,\n",
    "    }\n",
    "    np.savez_compressed(res_path / f\"{s_task_info}_{current_time}_res\",  **save_dict)\n",
    "\n",
    "    # save_dict = {\n",
    "    #     f\"eall_{i}_{j}_{k}\": np.array(eall_list[i][j][k])  # \n",
    "    #     for i in range(len(M_range))\n",
    "    #     for j in range(len(ParaRange))\n",
    "    #     for k in range(multitest)\n",
    "    # }\n",
    "    # np.savez_compressed(res_path / f\"{s_task_info}_{current_time}_E\", **save_dict)\n",
    "\n",
    "    # save_dict = {\n",
    "    #     f\"zall_{i}_{j}\": np.array(zall_list[i][j])  # \n",
    "    #     for i in range(len(M_range))\n",
    "    #     for j in range(len(ParaRange))\n",
    "    # }\n",
    "    # np.savez_compressed(res_path / f\"{s_task_info}_{current_time}_dyn\", **save_dict)\n"
   ]
  },
  {
   "cell_type": "code",
   "execution_count": 9,
   "id": "4d04650e",
   "metadata": {},
   "outputs": [
    {
     "name": "stdout",
     "output_type": "stream",
     "text": [
      "MNIST\t_FMNIST\t_0.01\t_train: 92.30%+-0.28% (91.90% 92.59%)\t test: 88.33%+-0.22% (88.06% 88.67%)\n",
      "\n",
      "MNIST\t_FMNIST\t_0.1\t_train: 93.48%+-0.69% (92.55% 94.21%)\t test: 88.47%+-0.22% (88.10% 88.61%)\n",
      "\n",
      "MNIST\t_MNIST\t_0.01\t_train: 99.76%+-0.05% (99.70% 99.82%)\t test: 97.52%+-0.06% (97.45% 97.60%)\n",
      "\n",
      "MNIST\t_MNIST\t_0.1\t_train: 99.88%+-0.04% (99.83% 99.92%)\t test: 97.52%+-0.09% (97.44% 97.65%)\n",
      "\n",
      "0\n"
     ]
    }
   ],
   "source": [
    "\n",
    "for iM in range( len(M_range) ):\n",
    "    for iPara in range( len(ParaRange) ):        \n",
    "        tt = res[iM][iPara]\n",
    "        testacctt = np.max(tt[:,2,:], axis= -1)\n",
    "\n",
    "        tt = res[iM][iPara]\n",
    "        trainacctt = np.max(tt[:,1,:], axis= -1)\n",
    "\n",
    "        print(f\"{Para_t['task']}\\t_{M_range[iM]}\\t_{ParaRange[iPara]}\\t_\"\n",
    "              f\"train: {np.mean(trainacctt) * 100:.2f}%+-{np.std(trainacctt, ddof=1)*100:.2f}% ({np.min(trainacctt) * 100:.2f}% {np.max(trainacctt) * 100:.2f}%)\"\n",
    "              f\"\\t test: {np.mean(testacctt) * 100:.2f}%+-{np.std(testacctt, ddof=1)*100:.2f}% ({np.min(testacctt) * 100:.2f}% {np.max(testacctt) * 100:.2f}%)\\n\")\n",
    "        \n",
    "\n",
    "print('0')"
   ]
  }
 ],
 "metadata": {
  "kernelspec": {
   "display_name": "Python 3",
   "language": "python",
   "name": "python3"
  },
  "language_info": {
   "codemirror_mode": {
    "name": "ipython",
    "version": 3
   },
   "file_extension": ".py",
   "mimetype": "text/x-python",
   "name": "python",
   "nbconvert_exporter": "python",
   "pygments_lexer": "ipython3",
   "version": "3.9.20"
  }
 },
 "nbformat": 4,
 "nbformat_minor": 5
}
