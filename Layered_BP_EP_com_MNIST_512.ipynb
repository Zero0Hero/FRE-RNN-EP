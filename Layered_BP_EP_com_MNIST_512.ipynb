{
 "cells": [
  {
   "cell_type": "code",
   "execution_count": null,
   "id": "3c5977de",
   "metadata": {},
   "outputs": [
    {
     "name": "stdout",
     "output_type": "stream",
     "text": [
      "cuda:True\n",
      "GPU 0:NVIDIA RTX A5000:23.99GB\n"
     ]
    },
    {
     "data": {
      "text/plain": [
       "<torch.autograd.grad_mode.set_grad_enabled at 0x28e8c4b39a0>"
      ]
     },
     "execution_count": 1,
     "metadata": {},
     "output_type": "execute_result"
    }
   ],
   "source": [
    "import torch\n",
    "import numpy as np\n",
    "import random\n",
    "import time\n",
    "from tqdm import tqdm  # \n",
    "from pathlib import Path\n",
    "\n",
    "\n",
    "seed = 42\n",
    "random.seed(seed)\n",
    "np.random.seed(seed)\n",
    "torch.manual_seed(seed)\n",
    "if torch.cuda.is_available():\n",
    "    torch.cuda.manual_seed(seed)\n",
    "    torch.cuda.manual_seed_all(seed)\n",
    "# torch.backends.cudnn.deterministic = True\n",
    "torch.backends.cudnn.benchmark = True\n",
    "\n",
    "if torch.cuda.is_available():\n",
    "    print(f\"cuda:True\")\n",
    "    for i in range(torch.cuda.device_count()):\n",
    "        device = torch.device(f\"cuda:{i}\")\n",
    "        properties = torch.cuda.get_device_properties(device)\n",
    "        print(f\"GPU {i}:{properties.name}:{properties.total_memory/1024/1024/1024:.2f}GB\")\n",
    "else:\n",
    "    print(f\"cuda:False\")\n",
    "    device = torch.device(\"cpu\")\n",
    "\n",
    "    \n",
    "import sys\n",
    "import os\n",
    "from models_LN import FNN_LN, dataset, one_hot, cross_entropy_loss, linear_d, tanh, tanh_d, sign, sign_d, sigmoid, sigmoid_d, relu, relu_d, relu6, relu6_d, softmax, softmax_d\n",
    "\n",
    "torch.set_grad_enabled(False)\n"
   ]
  },
  {
   "cell_type": "code",
   "execution_count": 2,
   "id": "6ff823a3",
   "metadata": {},
   "outputs": [],
   "source": [
    "\n",
    "class Config:\n",
    "    def __init__(self):\n",
    "        self.n_input = 28 * 28  # \n",
    "        self.n_hidd = 16     # \n",
    "        self.n_out = 10      # \n",
    "\n",
    "        self.nL_hidd = 2\n",
    "\n",
    "        self.sc_forward = 1\n",
    "        self.sc_bias = 0\n",
    "        self.sc_back = 1\n",
    "\n",
    "        self.f = tanh #  relu tanh\n",
    "        self.fd = tanh_d # relu_d tanh_d\n",
    "\n",
    "        self.train_eta_global = 1e-3  #\n",
    "        self.train_n_epochs = 100     # \n",
    "        self.train_batch_size = 500     # \n",
    "        self.train_task = \"MNIST\" #  \"MNIST\" \"FMNIST\" \"CIFAR10\"\n",
    "        self.train_tmethod = ''     # 'FA','PC','LRA','BP'\n",
    "\n",
    "        self.biasLearning = False\n",
    "        \n",
    "        self.EP_It2sta = 8\n",
    "        self.EP_nudge = 1\n",
    "\n",
    "\n",
    "config = Config()\n",
    "\n",
    "train_loader, valid_loader, test_loader, config = dataset(config)\n",
    "train_loader_gpu = [(data.to(device), target.to(device)) for data, target in train_loader]\n",
    "valid_loader_gpu = [(data.to(device), target.to(device)) for data, target in valid_loader]\n",
    "test_loader_gpu = [(data.to(device), target.to(device)) for data, target in test_loader]\n"
   ]
  },
  {
   "cell_type": "code",
   "execution_count": 3,
   "id": "ac4eeaf0",
   "metadata": {},
   "outputs": [],
   "source": [
    "ParaName = f'First_com_BP_FA_EP_512_t52'\n",
    "Einfo = ''\n",
    "\n",
    "res_path = Path(f\"./Res_com/{ParaName}-{config.train_task}-0\")\n",
    "M_range = ['EP-s', 'BP'] # 'EP-s', 'BP'\n",
    "ParaRange = [3,2] # 2, 3\n",
    "multitest = 5 \n",
    "config.save = True\n",
    "config.f = tanh\n",
    "config.fd = tanh_d\n",
    "config.ff = softmax\n",
    "config.ffd = softmax_d\n",
    "# -=--------------------------\n",
    "config.train_tmethod = 'EP'\n",
    "config.nL_hidd = 2\n",
    "\n",
    "config.n_hidd = 512     # \n",
    "config.train_n_epochs = 50  # \n",
    "config.EP_symm_W = True\n",
    "config.adam = True\n",
    "config.EP_b_learn = False\n",
    "config.EP_f_sc = 1\n",
    "config.EP_b_sc = 0.1\n",
    "config.EP_nudge = 0.1\n",
    "# -=--------------------------\n",
    "res_path.mkdir(parents=True, exist_ok=True)\n",
    "res = np.zeros((len(M_range),len(ParaRange),(multitest),5,config.train_n_epochs))"
   ]
  },
  {
   "cell_type": "code",
   "execution_count": 4,
   "id": "d805e397",
   "metadata": {},
   "outputs": [
    {
     "name": "stdout",
     "output_type": "stream",
     "text": [
      "Current Time: 20250721-111348\n",
      "EP_L3_MNIST_First_com_BP_FA_EP_512_t52-EP_b_scEP-s-EP_It2sta18-\n"
     ]
    },
    {
     "name": "stderr",
     "output_type": "stream",
     "text": [
      "Epoch 1/50:   0%|\u001b[34m                                              \u001b[0m| 0/120 [00:00<?, ?batch/s]\u001b[0md:\\GPUS2share\\aEP\\models_LN.py:247: UserWarning: To copy construct from a tensor, it is recommended to use sourceTensor.clone().detach() or sourceTensor.clone().detach().requires_grad_(True), rather than torch.tensor(sourceTensor).\n",
      "  self.y = torch.tensor(self.z, device=self.device)\n",
      "Epoch 1/50: 100%|\u001b[34m█████████████████████\u001b[0m| 120/120 [00:02<00:00, 41.01batch/s, loss=0.384623]\u001b[0m\n"
     ]
    },
    {
     "name": "stdout",
     "output_type": "stream",
     "text": [
      "\t Loss: 44.933,\tTrain : 88.77%(88.77%),\tTest : 93.35%(93.35%),\tCurrent Time: 20250721-111352\n"
     ]
    },
    {
     "name": "stderr",
     "output_type": "stream",
     "text": [
      "Epoch 2/50: 100%|\u001b[34m█████████████████████\u001b[0m| 120/120 [00:02<00:00, 49.05batch/s, loss=0.185961]\u001b[0m\n"
     ]
    },
    {
     "name": "stdout",
     "output_type": "stream",
     "text": [
      "\t Loss: 21.935,\tTrain : 94.60%(94.60%),\tTest : 95.40%(95.40%),\tCurrent Time: 20250721-111355\n"
     ]
    },
    {
     "name": "stderr",
     "output_type": "stream",
     "text": [
      "Epoch 3/50: 100%|\u001b[34m█████████████████████\u001b[0m| 120/120 [00:02<00:00, 51.34batch/s, loss=0.121753]\u001b[0m\n"
     ]
    },
    {
     "name": "stdout",
     "output_type": "stream",
     "text": [
      "\t Loss: 14.488,\tTrain : 96.32%(96.32%),\tTest : 96.57%(96.57%),\tCurrent Time: 20250721-111357\n"
     ]
    },
    {
     "name": "stderr",
     "output_type": "stream",
     "text": [
      "Epoch 4/50: 100%|\u001b[34m█████████████████████\u001b[0m| 120/120 [00:02<00:00, 49.24batch/s, loss=0.087528]\u001b[0m\n"
     ]
    },
    {
     "name": "stdout",
     "output_type": "stream",
     "text": [
      "\t Loss: 10.443,\tTrain : 97.39%(97.39%),\tTest : 96.75%(96.75%),\tCurrent Time: 20250721-111400\n"
     ]
    },
    {
     "name": "stderr",
     "output_type": "stream",
     "text": [
      "Epoch 5/50: 100%|\u001b[34m█████████████████████\u001b[0m| 120/120 [00:02<00:00, 48.89batch/s, loss=0.070745]\u001b[0m\n"
     ]
    },
    {
     "name": "stdout",
     "output_type": "stream",
     "text": [
      "\t Loss: 8.397,\tTrain : 97.79%(97.79%),\tTest : 97.33%(97.33%),\tCurrent Time: 20250721-111403\n"
     ]
    },
    {
     "name": "stderr",
     "output_type": "stream",
     "text": [
      "Epoch 6/50: 100%|\u001b[34m█████████████████████\u001b[0m| 120/120 [00:02<00:00, 47.37batch/s, loss=0.053576]\u001b[0m\n"
     ]
    },
    {
     "name": "stdout",
     "output_type": "stream",
     "text": [
      "\t Loss: 6.470,\tTrain : 98.32%(98.32%),\tTest : 97.63%(97.63%),\tCurrent Time: 20250721-111405\n"
     ]
    },
    {
     "name": "stderr",
     "output_type": "stream",
     "text": [
      "Epoch 7/50: 100%|\u001b[34m█████████████████████\u001b[0m| 120/120 [00:02<00:00, 48.17batch/s, loss=0.043688]\u001b[0m\n"
     ]
    },
    {
     "name": "stdout",
     "output_type": "stream",
     "text": [
      "\t Loss: 5.253,\tTrain : 98.69%(98.69%),\tTest : 97.90%(97.90%),\tCurrent Time: 20250721-111408\n"
     ]
    },
    {
     "name": "stderr",
     "output_type": "stream",
     "text": [
      "Epoch 8/50: 100%|\u001b[34m█████████████████████\u001b[0m| 120/120 [00:02<00:00, 49.86batch/s, loss=0.032869]\u001b[0m\n"
     ]
    },
    {
     "name": "stdout",
     "output_type": "stream",
     "text": [
      "\t Loss: 4.028,\tTrain : 99.02%(99.02%),\tTest : 97.89%(97.90%),\tCurrent Time: 20250721-111410\n"
     ]
    },
    {
     "name": "stderr",
     "output_type": "stream",
     "text": [
      "Epoch 9/50: 100%|\u001b[34m█████████████████████\u001b[0m| 120/120 [00:02<00:00, 46.70batch/s, loss=0.026651]\u001b[0m\n"
     ]
    },
    {
     "name": "stdout",
     "output_type": "stream",
     "text": [
      "\t Loss: 3.230,\tTrain : 99.23%(99.23%),\tTest : 97.87%(97.90%),\tCurrent Time: 20250721-111413\n"
     ]
    },
    {
     "name": "stderr",
     "output_type": "stream",
     "text": [
      "Epoch 10/50: 100%|\u001b[34m████████████████████\u001b[0m| 120/120 [00:02<00:00, 49.24batch/s, loss=0.019534]\u001b[0m\n"
     ]
    },
    {
     "name": "stdout",
     "output_type": "stream",
     "text": [
      "\t Loss: 2.373,\tTrain : 99.48%(99.48%),\tTest : 98.07%(98.07%),\tCurrent Time: 20250721-111416\n"
     ]
    },
    {
     "name": "stderr",
     "output_type": "stream",
     "text": [
      "Epoch 11/50: 100%|\u001b[34m████████████████████\u001b[0m| 120/120 [00:02<00:00, 49.37batch/s, loss=0.015957]\u001b[0m\n"
     ]
    },
    {
     "name": "stdout",
     "output_type": "stream",
     "text": [
      "\t Loss: 1.947,\tTrain : 99.59%(99.59%),\tTest : 97.90%(98.07%),\tCurrent Time: 20250721-111418\n"
     ]
    },
    {
     "name": "stderr",
     "output_type": "stream",
     "text": [
      "Epoch 12/50: 100%|\u001b[34m████████████████████\u001b[0m| 120/120 [00:02<00:00, 48.17batch/s, loss=0.012075]\u001b[0m\n"
     ]
    },
    {
     "name": "stdout",
     "output_type": "stream",
     "text": [
      "\t Loss: 1.427,\tTrain : 99.74%(99.74%),\tTest : 98.10%(98.10%),\tCurrent Time: 20250721-111421\n"
     ]
    },
    {
     "name": "stderr",
     "output_type": "stream",
     "text": [
      "Epoch 13/50: 100%|\u001b[34m████████████████████\u001b[0m| 120/120 [00:02<00:00, 48.72batch/s, loss=0.008827]\u001b[0m\n"
     ]
    },
    {
     "name": "stdout",
     "output_type": "stream",
     "text": [
      "\t Loss: 1.085,\tTrain : 99.82%(99.82%),\tTest : 98.01%(98.10%),\tCurrent Time: 20250721-111424\n"
     ]
    },
    {
     "name": "stderr",
     "output_type": "stream",
     "text": [
      "Epoch 14/50: 100%|\u001b[34m████████████████████\u001b[0m| 120/120 [00:02<00:00, 50.88batch/s, loss=0.007863]\u001b[0m\n"
     ]
    },
    {
     "name": "stdout",
     "output_type": "stream",
     "text": [
      "\t Loss: 0.963,\tTrain : 99.83%(99.83%),\tTest : 98.24%(98.24%),\tCurrent Time: 20250721-111426\n"
     ]
    },
    {
     "name": "stderr",
     "output_type": "stream",
     "text": [
      "Epoch 15/50: 100%|\u001b[34m████████████████████\u001b[0m| 120/120 [00:02<00:00, 49.42batch/s, loss=0.005628]\u001b[0m\n"
     ]
    },
    {
     "name": "stdout",
     "output_type": "stream",
     "text": [
      "\t Loss: 0.672,\tTrain : 99.91%(99.91%),\tTest : 98.05%(98.24%),\tCurrent Time: 20250721-111429\n"
     ]
    },
    {
     "name": "stderr",
     "output_type": "stream",
     "text": [
      "Epoch 16/50: 100%|\u001b[34m████████████████████\u001b[0m| 120/120 [00:02<00:00, 49.75batch/s, loss=0.005524]\u001b[0m\n"
     ]
    },
    {
     "name": "stdout",
     "output_type": "stream",
     "text": [
      "\t Loss: 0.675,\tTrain : 99.88%(99.91%),\tTest : 98.04%(98.24%),\tCurrent Time: 20250721-111431\n"
     ]
    },
    {
     "name": "stderr",
     "output_type": "stream",
     "text": [
      "Epoch 17/50: 100%|\u001b[34m████████████████████\u001b[0m| 120/120 [00:02<00:00, 51.19batch/s, loss=0.003903]\u001b[0m\n"
     ]
    },
    {
     "name": "stdout",
     "output_type": "stream",
     "text": [
      "\t Loss: 0.461,\tTrain : 99.95%(99.95%),\tTest : 98.18%(98.24%),\tCurrent Time: 20250721-111434\n"
     ]
    },
    {
     "name": "stderr",
     "output_type": "stream",
     "text": [
      "Epoch 18/50: 100%|\u001b[34m████████████████████\u001b[0m| 120/120 [00:02<00:00, 49.70batch/s, loss=0.002434]\u001b[0m\n"
     ]
    },
    {
     "name": "stdout",
     "output_type": "stream",
     "text": [
      "\t Loss: 0.286,\tTrain : 99.98%(99.98%),\tTest : 98.25%(98.25%),\tCurrent Time: 20250721-111436\n"
     ]
    },
    {
     "name": "stderr",
     "output_type": "stream",
     "text": [
      "Epoch 19/50: 100%|\u001b[34m████████████████████\u001b[0m| 120/120 [00:02<00:00, 50.34batch/s, loss=0.001998]\u001b[0m\n"
     ]
    },
    {
     "name": "stdout",
     "output_type": "stream",
     "text": [
      "\t Loss: 0.238,\tTrain : 99.98%(99.98%),\tTest : 98.25%(98.25%),\tCurrent Time: 20250721-111439\n"
     ]
    },
    {
     "name": "stderr",
     "output_type": "stream",
     "text": [
      "Epoch 20/50: 100%|\u001b[34m████████████████████\u001b[0m| 120/120 [00:02<00:00, 49.80batch/s, loss=0.001288]\u001b[0m\n"
     ]
    },
    {
     "name": "stdout",
     "output_type": "stream",
     "text": [
      "\t Loss: 0.167,\tTrain : 99.99%(99.99%),\tTest : 98.19%(98.25%),\tCurrent Time: 20250721-111442\n"
     ]
    },
    {
     "name": "stderr",
     "output_type": "stream",
     "text": [
      "Epoch 21/50: 100%|\u001b[34m████████████████████\u001b[0m| 120/120 [00:02<00:00, 49.47batch/s, loss=0.001433]\u001b[0m\n"
     ]
    },
    {
     "name": "stdout",
     "output_type": "stream",
     "text": [
      "\t Loss: 0.179,\tTrain : 99.98%(99.99%),\tTest : 98.37%(98.37%),\tCurrent Time: 20250721-111444\n"
     ]
    },
    {
     "name": "stderr",
     "output_type": "stream",
     "text": [
      "Epoch 22/50: 100%|\u001b[34m████████████████████\u001b[0m| 120/120 [00:02<00:00, 49.21batch/s, loss=0.001396]\u001b[0m\n"
     ]
    },
    {
     "name": "stdout",
     "output_type": "stream",
     "text": [
      "\t Loss: 0.168,\tTrain : 99.98%(99.99%),\tTest : 98.39%(98.39%),\tCurrent Time: 20250721-111447\n"
     ]
    },
    {
     "name": "stderr",
     "output_type": "stream",
     "text": [
      "Epoch 23/50: 100%|\u001b[34m████████████████████\u001b[0m| 120/120 [00:02<00:00, 49.54batch/s, loss=0.001216]\u001b[0m\n"
     ]
    },
    {
     "name": "stdout",
     "output_type": "stream",
     "text": [
      "\t Loss: 0.140,\tTrain : 99.98%(99.99%),\tTest : 98.36%(98.39%),\tCurrent Time: 20250721-111449\n"
     ]
    },
    {
     "name": "stderr",
     "output_type": "stream",
     "text": [
      "Epoch 24/50: 100%|\u001b[34m████████████████████\u001b[0m| 120/120 [00:02<00:00, 47.51batch/s, loss=0.000529]\u001b[0m\n"
     ]
    },
    {
     "name": "stdout",
     "output_type": "stream",
     "text": [
      "\t Loss: 0.063,\tTrain : 100.00%(100.00%),\tTest : 98.44%(98.44%),\tCurrent Time: 20250721-111452\n"
     ]
    },
    {
     "name": "stderr",
     "output_type": "stream",
     "text": [
      "Epoch 25/50: 100%|\u001b[34m████████████████████\u001b[0m| 120/120 [00:02<00:00, 48.63batch/s, loss=0.000440]\u001b[0m\n"
     ]
    },
    {
     "name": "stdout",
     "output_type": "stream",
     "text": [
      "\t Loss: 0.052,\tTrain : 100.00%(100.00%),\tTest : 98.40%(98.44%),\tCurrent Time: 20250721-111455\n"
     ]
    },
    {
     "name": "stderr",
     "output_type": "stream",
     "text": [
      "Epoch 26/50: 100%|\u001b[34m████████████████████\u001b[0m| 120/120 [00:02<00:00, 48.63batch/s, loss=0.000360]\u001b[0m\n"
     ]
    },
    {
     "name": "stdout",
     "output_type": "stream",
     "text": [
      "\t Loss: 0.044,\tTrain : 100.00%(100.00%),\tTest : 98.39%(98.44%),\tCurrent Time: 20250721-111457\n"
     ]
    },
    {
     "name": "stderr",
     "output_type": "stream",
     "text": [
      "Epoch 27/50: 100%|\u001b[34m████████████████████\u001b[0m| 120/120 [00:02<00:00, 48.67batch/s, loss=0.000326]\u001b[0m\n"
     ]
    },
    {
     "name": "stdout",
     "output_type": "stream",
     "text": [
      "\t Loss: 0.039,\tTrain : 100.00%(100.00%),\tTest : 98.39%(98.44%),\tCurrent Time: 20250721-111500\n"
     ]
    },
    {
     "name": "stderr",
     "output_type": "stream",
     "text": [
      "Epoch 28/50: 100%|\u001b[34m████████████████████\u001b[0m| 120/120 [00:02<00:00, 49.06batch/s, loss=0.000297]\u001b[0m\n"
     ]
    },
    {
     "name": "stdout",
     "output_type": "stream",
     "text": [
      "\t Loss: 0.036,\tTrain : 100.00%(100.00%),\tTest : 98.40%(98.44%),\tCurrent Time: 20250721-111502\n"
     ]
    },
    {
     "name": "stderr",
     "output_type": "stream",
     "text": [
      "Epoch 29/50: 100%|\u001b[34m████████████████████\u001b[0m| 120/120 [00:02<00:00, 48.82batch/s, loss=0.000272]\u001b[0m\n"
     ]
    },
    {
     "name": "stdout",
     "output_type": "stream",
     "text": [
      "\t Loss: 0.032,\tTrain : 100.00%(100.00%),\tTest : 98.39%(98.44%),\tCurrent Time: 20250721-111505\n"
     ]
    },
    {
     "name": "stderr",
     "output_type": "stream",
     "text": [
      "Epoch 30/50: 100%|\u001b[34m████████████████████\u001b[0m| 120/120 [00:02<00:00, 47.64batch/s, loss=0.000249]\u001b[0m\n"
     ]
    },
    {
     "name": "stdout",
     "output_type": "stream",
     "text": [
      "\t Loss: 0.030,\tTrain : 100.00%(100.00%),\tTest : 98.40%(98.44%),\tCurrent Time: 20250721-111508\n"
     ]
    },
    {
     "name": "stderr",
     "output_type": "stream",
     "text": [
      "Epoch 31/50: 100%|\u001b[34m████████████████████\u001b[0m| 120/120 [00:02<00:00, 50.87batch/s, loss=0.000238]\u001b[0m\n"
     ]
    },
    {
     "name": "stdout",
     "output_type": "stream",
     "text": [
      "\t Loss: 0.028,\tTrain : 100.00%(100.00%),\tTest : 98.42%(98.44%),\tCurrent Time: 20250721-111510\n"
     ]
    },
    {
     "name": "stderr",
     "output_type": "stream",
     "text": [
      "Epoch 32/50: 100%|\u001b[34m████████████████████\u001b[0m| 120/120 [00:02<00:00, 50.76batch/s, loss=0.000212]\u001b[0m\n"
     ]
    },
    {
     "name": "stdout",
     "output_type": "stream",
     "text": [
      "\t Loss: 0.025,\tTrain : 100.00%(100.00%),\tTest : 98.43%(98.44%),\tCurrent Time: 20250721-111513\n"
     ]
    },
    {
     "name": "stderr",
     "output_type": "stream",
     "text": [
      "Epoch 33/50: 100%|\u001b[34m████████████████████\u001b[0m| 120/120 [00:02<00:00, 49.35batch/s, loss=0.000194]\u001b[0m\n"
     ]
    },
    {
     "name": "stdout",
     "output_type": "stream",
     "text": [
      "\t Loss: 0.023,\tTrain : 100.00%(100.00%),\tTest : 98.44%(98.44%),\tCurrent Time: 20250721-111515\n"
     ]
    },
    {
     "name": "stderr",
     "output_type": "stream",
     "text": [
      "Epoch 34/50: 100%|\u001b[34m████████████████████\u001b[0m| 120/120 [00:02<00:00, 50.51batch/s, loss=0.000181]\u001b[0m\n"
     ]
    },
    {
     "name": "stdout",
     "output_type": "stream",
     "text": [
      "\t Loss: 0.022,\tTrain : 100.00%(100.00%),\tTest : 98.36%(98.44%),\tCurrent Time: 20250721-111518\n"
     ]
    },
    {
     "name": "stderr",
     "output_type": "stream",
     "text": [
      "Epoch 35/50: 100%|\u001b[34m████████████████████\u001b[0m| 120/120 [00:02<00:00, 50.05batch/s, loss=0.000170]\u001b[0m\n"
     ]
    },
    {
     "name": "stdout",
     "output_type": "stream",
     "text": [
      "\t Loss: 0.020,\tTrain : 100.00%(100.00%),\tTest : 98.44%(98.44%),\tCurrent Time: 20250721-111520\n"
     ]
    },
    {
     "name": "stderr",
     "output_type": "stream",
     "text": [
      "Epoch 36/50: 100%|\u001b[34m████████████████████\u001b[0m| 120/120 [00:02<00:00, 49.84batch/s, loss=0.000156]\u001b[0m\n"
     ]
    },
    {
     "name": "stdout",
     "output_type": "stream",
     "text": [
      "\t Loss: 0.019,\tTrain : 100.00%(100.00%),\tTest : 98.41%(98.44%),\tCurrent Time: 20250721-111523\n"
     ]
    },
    {
     "name": "stderr",
     "output_type": "stream",
     "text": [
      "Epoch 37/50: 100%|\u001b[34m████████████████████\u001b[0m| 120/120 [00:02<00:00, 47.63batch/s, loss=0.000145]\u001b[0m\n"
     ]
    },
    {
     "name": "stdout",
     "output_type": "stream",
     "text": [
      "\t Loss: 0.018,\tTrain : 100.00%(100.00%),\tTest : 98.42%(98.44%),\tCurrent Time: 20250721-111526\n"
     ]
    },
    {
     "name": "stderr",
     "output_type": "stream",
     "text": [
      "Epoch 38/50: 100%|\u001b[34m████████████████████\u001b[0m| 120/120 [00:02<00:00, 49.40batch/s, loss=0.000134]\u001b[0m\n"
     ]
    },
    {
     "name": "stdout",
     "output_type": "stream",
     "text": [
      "\t Loss: 0.016,\tTrain : 100.00%(100.00%),\tTest : 98.43%(98.44%),\tCurrent Time: 20250721-111528\n"
     ]
    },
    {
     "name": "stderr",
     "output_type": "stream",
     "text": [
      "Epoch 39/50: 100%|\u001b[34m████████████████████\u001b[0m| 120/120 [00:02<00:00, 50.72batch/s, loss=0.000125]\u001b[0m\n"
     ]
    },
    {
     "name": "stdout",
     "output_type": "stream",
     "text": [
      "\t Loss: 0.015,\tTrain : 100.00%(100.00%),\tTest : 98.45%(98.45%),\tCurrent Time: 20250721-111531\n"
     ]
    },
    {
     "name": "stderr",
     "output_type": "stream",
     "text": [
      "Epoch 40/50: 100%|\u001b[34m████████████████████\u001b[0m| 120/120 [00:02<00:00, 49.41batch/s, loss=0.000117]\u001b[0m\n"
     ]
    },
    {
     "name": "stdout",
     "output_type": "stream",
     "text": [
      "\t Loss: 0.014,\tTrain : 100.00%(100.00%),\tTest : 98.44%(98.45%),\tCurrent Time: 20250721-111533\n"
     ]
    },
    {
     "name": "stderr",
     "output_type": "stream",
     "text": [
      "Epoch 41/50: 100%|\u001b[34m████████████████████\u001b[0m| 120/120 [00:02<00:00, 48.93batch/s, loss=0.000108]\u001b[0m\n"
     ]
    },
    {
     "name": "stdout",
     "output_type": "stream",
     "text": [
      "\t Loss: 0.013,\tTrain : 100.00%(100.00%),\tTest : 98.41%(98.45%),\tCurrent Time: 20250721-111536\n"
     ]
    },
    {
     "name": "stderr",
     "output_type": "stream",
     "text": [
      "Epoch 42/50: 100%|\u001b[34m████████████████████\u001b[0m| 120/120 [00:02<00:00, 51.27batch/s, loss=0.000103]\u001b[0m\n"
     ]
    },
    {
     "name": "stdout",
     "output_type": "stream",
     "text": [
      "\t Loss: 0.012,\tTrain : 100.00%(100.00%),\tTest : 98.43%(98.45%),\tCurrent Time: 20250721-111538\n"
     ]
    },
    {
     "name": "stderr",
     "output_type": "stream",
     "text": [
      "Epoch 43/50: 100%|\u001b[34m████████████████████\u001b[0m| 120/120 [00:02<00:00, 49.32batch/s, loss=0.000094]\u001b[0m\n"
     ]
    },
    {
     "name": "stdout",
     "output_type": "stream",
     "text": [
      "\t Loss: 0.011,\tTrain : 100.00%(100.00%),\tTest : 98.40%(98.45%),\tCurrent Time: 20250721-111541\n"
     ]
    },
    {
     "name": "stderr",
     "output_type": "stream",
     "text": [
      "Epoch 44/50: 100%|\u001b[34m████████████████████\u001b[0m| 120/120 [00:02<00:00, 49.13batch/s, loss=0.000087]\u001b[0m\n"
     ]
    },
    {
     "name": "stdout",
     "output_type": "stream",
     "text": [
      "\t Loss: 0.011,\tTrain : 100.00%(100.00%),\tTest : 98.42%(98.45%),\tCurrent Time: 20250721-111544\n"
     ]
    },
    {
     "name": "stderr",
     "output_type": "stream",
     "text": [
      "Epoch 45/50: 100%|\u001b[34m████████████████████\u001b[0m| 120/120 [00:02<00:00, 49.04batch/s, loss=0.000088]\u001b[0m\n"
     ]
    },
    {
     "name": "stdout",
     "output_type": "stream",
     "text": [
      "\t Loss: 0.011,\tTrain : 100.00%(100.00%),\tTest : 98.45%(98.45%),\tCurrent Time: 20250721-111546\n"
     ]
    },
    {
     "name": "stderr",
     "output_type": "stream",
     "text": [
      "Epoch 46/50: 100%|\u001b[34m████████████████████\u001b[0m| 120/120 [00:02<00:00, 52.25batch/s, loss=0.000078]\u001b[0m\n"
     ]
    },
    {
     "name": "stdout",
     "output_type": "stream",
     "text": [
      "\t Loss: 0.009,\tTrain : 100.00%(100.00%),\tTest : 98.45%(98.45%),\tCurrent Time: 20250721-111549\n"
     ]
    },
    {
     "name": "stderr",
     "output_type": "stream",
     "text": [
      "Epoch 47/50: 100%|\u001b[34m████████████████████\u001b[0m| 120/120 [00:02<00:00, 48.61batch/s, loss=0.000072]\u001b[0m\n"
     ]
    },
    {
     "name": "stdout",
     "output_type": "stream",
     "text": [
      "\t Loss: 0.009,\tTrain : 100.00%(100.00%),\tTest : 98.40%(98.45%),\tCurrent Time: 20250721-111551\n"
     ]
    },
    {
     "name": "stderr",
     "output_type": "stream",
     "text": [
      "Epoch 48/50: 100%|\u001b[34m████████████████████\u001b[0m| 120/120 [00:02<00:00, 51.68batch/s, loss=0.061726]\u001b[0m\n"
     ]
    },
    {
     "name": "stdout",
     "output_type": "stream",
     "text": [
      "\t Loss: 7.930,\tTrain : 98.41%(100.00%),\tTest : 96.75%(98.45%),\tCurrent Time: 20250721-111554\n"
     ]
    },
    {
     "name": "stderr",
     "output_type": "stream",
     "text": [
      "Epoch 49/50: 100%|\u001b[34m████████████████████\u001b[0m| 120/120 [00:02<00:00, 49.38batch/s, loss=0.045638]\u001b[0m\n"
     ]
    },
    {
     "name": "stdout",
     "output_type": "stream",
     "text": [
      "\t Loss: 5.361,\tTrain : 98.53%(100.00%),\tTest : 97.91%(98.45%),\tCurrent Time: 20250721-111556\n"
     ]
    },
    {
     "name": "stderr",
     "output_type": "stream",
     "text": [
      "Epoch 50/50: 100%|\u001b[34m████████████████████\u001b[0m| 120/120 [00:02<00:00, 50.02batch/s, loss=0.012798]\u001b[0m\n"
     ]
    },
    {
     "name": "stdout",
     "output_type": "stream",
     "text": [
      "\t Loss: 1.507,\tTrain : 99.61%(100.00%),\tTest : 98.15%(98.45%),\tCurrent Time: 20250721-111559\n",
      "EP_L3_MNIST_First_com_BP_FA_EP_512_t52-EP_b_scEP-s-EP_It2sta18- Time: 20250721-111559, Epochs: 50, Learning Rate: 0.001, Best: 100.00%  98.45%\n",
      "\n",
      "EP_L3_MNIST_First_com_BP_FA_EP_512_t52-EP_b_scEP-s-EP_It2sta18-\n"
     ]
    },
    {
     "name": "stderr",
     "output_type": "stream",
     "text": [
      "Epoch 1/50: 100%|\u001b[34m█████████████████████\u001b[0m| 120/120 [00:02<00:00, 50.62batch/s, loss=0.364279]\u001b[0m\n"
     ]
    },
    {
     "name": "stdout",
     "output_type": "stream",
     "text": [
      "\t Loss: 42.305,\tTrain : 89.47%(89.47%),\tTest : 93.33%(93.33%),\tCurrent Time: 20250721-111602\n"
     ]
    },
    {
     "name": "stderr",
     "output_type": "stream",
     "text": [
      "Epoch 2/50: 100%|\u001b[34m█████████████████████\u001b[0m| 120/120 [00:02<00:00, 48.69batch/s, loss=0.173498]\u001b[0m\n"
     ]
    },
    {
     "name": "stdout",
     "output_type": "stream",
     "text": [
      "\t Loss: 20.565,\tTrain : 94.82%(94.82%),\tTest : 95.61%(95.61%),\tCurrent Time: 20250721-111605\n"
     ]
    },
    {
     "name": "stderr",
     "output_type": "stream",
     "text": [
      "Epoch 3/50: 100%|\u001b[34m█████████████████████\u001b[0m| 120/120 [00:02<00:00, 48.63batch/s, loss=0.114200]\u001b[0m\n"
     ]
    },
    {
     "name": "stdout",
     "output_type": "stream",
     "text": [
      "\t Loss: 13.698,\tTrain : 96.56%(96.56%),\tTest : 96.76%(96.76%),\tCurrent Time: 20250721-111607\n"
     ]
    },
    {
     "name": "stderr",
     "output_type": "stream",
     "text": [
      "Epoch 4/50: 100%|\u001b[34m█████████████████████\u001b[0m| 120/120 [00:02<00:00, 47.38batch/s, loss=0.083838]\u001b[0m\n"
     ]
    },
    {
     "name": "stdout",
     "output_type": "stream",
     "text": [
      "\t Loss: 10.060,\tTrain : 97.46%(97.46%),\tTest : 97.14%(97.14%),\tCurrent Time: 20250721-111610\n"
     ]
    },
    {
     "name": "stderr",
     "output_type": "stream",
     "text": [
      "Epoch 5/50: 100%|\u001b[34m█████████████████████\u001b[0m| 120/120 [00:02<00:00, 48.83batch/s, loss=0.064285]\u001b[0m\n"
     ]
    },
    {
     "name": "stdout",
     "output_type": "stream",
     "text": [
      "\t Loss: 7.746,\tTrain : 98.06%(98.06%),\tTest : 97.20%(97.20%),\tCurrent Time: 20250721-111613\n"
     ]
    },
    {
     "name": "stderr",
     "output_type": "stream",
     "text": [
      "Epoch 6/50: 100%|\u001b[34m█████████████████████\u001b[0m| 120/120 [00:02<00:00, 47.67batch/s, loss=0.051837]\u001b[0m\n"
     ]
    },
    {
     "name": "stdout",
     "output_type": "stream",
     "text": [
      "\t Loss: 6.196,\tTrain : 98.43%(98.43%),\tTest : 97.45%(97.45%),\tCurrent Time: 20250721-111615\n"
     ]
    },
    {
     "name": "stderr",
     "output_type": "stream",
     "text": [
      "Epoch 7/50: 100%|\u001b[34m█████████████████████\u001b[0m| 120/120 [00:02<00:00, 49.36batch/s, loss=0.039971]\u001b[0m\n"
     ]
    },
    {
     "name": "stdout",
     "output_type": "stream",
     "text": [
      "\t Loss: 4.878,\tTrain : 98.75%(98.75%),\tTest : 97.56%(97.56%),\tCurrent Time: 20250721-111618\n"
     ]
    },
    {
     "name": "stderr",
     "output_type": "stream",
     "text": [
      "Epoch 8/50: 100%|\u001b[34m█████████████████████\u001b[0m| 120/120 [00:02<00:00, 48.60batch/s, loss=0.030767]\u001b[0m\n"
     ]
    },
    {
     "name": "stdout",
     "output_type": "stream",
     "text": [
      "\t Loss: 3.703,\tTrain : 99.10%(99.10%),\tTest : 97.44%(97.56%),\tCurrent Time: 20250721-111620\n"
     ]
    },
    {
     "name": "stderr",
     "output_type": "stream",
     "text": [
      "Epoch 9/50: 100%|\u001b[34m█████████████████████\u001b[0m| 120/120 [00:02<00:00, 48.48batch/s, loss=0.024527]\u001b[0m\n"
     ]
    },
    {
     "name": "stdout",
     "output_type": "stream",
     "text": [
      "\t Loss: 2.946,\tTrain : 99.32%(99.32%),\tTest : 98.01%(98.01%),\tCurrent Time: 20250721-111623\n"
     ]
    },
    {
     "name": "stderr",
     "output_type": "stream",
     "text": [
      "Epoch 10/50: 100%|\u001b[34m████████████████████\u001b[0m| 120/120 [00:02<00:00, 52.29batch/s, loss=0.019108]\u001b[0m\n"
     ]
    },
    {
     "name": "stdout",
     "output_type": "stream",
     "text": [
      "\t Loss: 2.314,\tTrain : 99.48%(99.48%),\tTest : 97.88%(98.01%),\tCurrent Time: 20250721-111626\n"
     ]
    },
    {
     "name": "stderr",
     "output_type": "stream",
     "text": [
      "Epoch 11/50: 100%|\u001b[34m████████████████████\u001b[0m| 120/120 [00:02<00:00, 49.75batch/s, loss=0.017136]\u001b[0m\n"
     ]
    },
    {
     "name": "stdout",
     "output_type": "stream",
     "text": [
      "\t Loss: 2.071,\tTrain : 99.53%(99.53%),\tTest : 97.89%(98.01%),\tCurrent Time: 20250721-111628\n"
     ]
    },
    {
     "name": "stderr",
     "output_type": "stream",
     "text": [
      "Epoch 12/50: 100%|\u001b[34m████████████████████\u001b[0m| 120/120 [00:02<00:00, 50.16batch/s, loss=0.010240]\u001b[0m\n"
     ]
    },
    {
     "name": "stdout",
     "output_type": "stream",
     "text": [
      "\t Loss: 1.240,\tTrain : 99.78%(99.78%),\tTest : 97.95%(98.01%),\tCurrent Time: 20250721-111631\n"
     ]
    },
    {
     "name": "stderr",
     "output_type": "stream",
     "text": [
      "Epoch 13/50: 100%|\u001b[34m████████████████████\u001b[0m| 120/120 [00:02<00:00, 49.73batch/s, loss=0.008275]\u001b[0m\n"
     ]
    },
    {
     "name": "stdout",
     "output_type": "stream",
     "text": [
      "\t Loss: 0.982,\tTrain : 99.84%(99.84%),\tTest : 98.13%(98.13%),\tCurrent Time: 20250721-111633\n"
     ]
    },
    {
     "name": "stderr",
     "output_type": "stream",
     "text": [
      "Epoch 14/50: 100%|\u001b[34m████████████████████\u001b[0m| 120/120 [00:02<00:00, 49.38batch/s, loss=0.005503]\u001b[0m\n"
     ]
    },
    {
     "name": "stdout",
     "output_type": "stream",
     "text": [
      "\t Loss: 0.674,\tTrain : 99.92%(99.92%),\tTest : 98.27%(98.27%),\tCurrent Time: 20250721-111636\n"
     ]
    },
    {
     "name": "stderr",
     "output_type": "stream",
     "text": [
      "Epoch 15/50: 100%|\u001b[34m████████████████████\u001b[0m| 120/120 [00:02<00:00, 47.49batch/s, loss=0.004108]\u001b[0m\n"
     ]
    },
    {
     "name": "stdout",
     "output_type": "stream",
     "text": [
      "\t Loss: 0.496,\tTrain : 99.95%(99.95%),\tTest : 98.15%(98.27%),\tCurrent Time: 20250721-111638\n"
     ]
    },
    {
     "name": "stderr",
     "output_type": "stream",
     "text": [
      "Epoch 16/50: 100%|\u001b[34m████████████████████\u001b[0m| 120/120 [00:02<00:00, 51.08batch/s, loss=0.002571]\u001b[0m\n"
     ]
    },
    {
     "name": "stdout",
     "output_type": "stream",
     "text": [
      "\t Loss: 0.310,\tTrain : 99.98%(99.98%),\tTest : 98.39%(98.39%),\tCurrent Time: 20250721-111641\n"
     ]
    },
    {
     "name": "stderr",
     "output_type": "stream",
     "text": [
      "Epoch 17/50: 100%|\u001b[34m████████████████████\u001b[0m| 120/120 [00:02<00:00, 47.27batch/s, loss=0.001886]\u001b[0m\n"
     ]
    },
    {
     "name": "stdout",
     "output_type": "stream",
     "text": [
      "\t Loss: 0.223,\tTrain : 100.00%(100.00%),\tTest : 98.37%(98.39%),\tCurrent Time: 20250721-111644\n"
     ]
    },
    {
     "name": "stderr",
     "output_type": "stream",
     "text": [
      "Epoch 18/50: 100%|\u001b[34m████████████████████\u001b[0m| 120/120 [00:02<00:00, 47.24batch/s, loss=0.001343]\u001b[0m\n"
     ]
    },
    {
     "name": "stdout",
     "output_type": "stream",
     "text": [
      "\t Loss: 0.163,\tTrain : 100.00%(100.00%),\tTest : 98.23%(98.39%),\tCurrent Time: 20250721-111646\n"
     ]
    },
    {
     "name": "stderr",
     "output_type": "stream",
     "text": [
      "Epoch 19/50: 100%|\u001b[34m████████████████████\u001b[0m| 120/120 [00:02<00:00, 46.27batch/s, loss=0.001107]\u001b[0m\n"
     ]
    },
    {
     "name": "stdout",
     "output_type": "stream",
     "text": [
      "\t Loss: 0.133,\tTrain : 100.00%(100.00%),\tTest : 98.31%(98.39%),\tCurrent Time: 20250721-111649\n"
     ]
    },
    {
     "name": "stderr",
     "output_type": "stream",
     "text": [
      "Epoch 20/50: 100%|\u001b[34m████████████████████\u001b[0m| 120/120 [00:02<00:00, 49.85batch/s, loss=0.000896]\u001b[0m\n"
     ]
    },
    {
     "name": "stdout",
     "output_type": "stream",
     "text": [
      "\t Loss: 0.107,\tTrain : 100.00%(100.00%),\tTest : 98.36%(98.39%),\tCurrent Time: 20250721-111652\n"
     ]
    },
    {
     "name": "stderr",
     "output_type": "stream",
     "text": [
      "Epoch 21/50: 100%|\u001b[34m████████████████████\u001b[0m| 120/120 [00:02<00:00, 49.36batch/s, loss=0.000780]\u001b[0m\n"
     ]
    },
    {
     "name": "stdout",
     "output_type": "stream",
     "text": [
      "\t Loss: 0.094,\tTrain : 100.00%(100.00%),\tTest : 98.38%(98.39%),\tCurrent Time: 20250721-111654\n"
     ]
    },
    {
     "name": "stderr",
     "output_type": "stream",
     "text": [
      "Epoch 22/50: 100%|\u001b[34m████████████████████\u001b[0m| 120/120 [00:02<00:00, 49.13batch/s, loss=0.000656]\u001b[0m\n"
     ]
    },
    {
     "name": "stdout",
     "output_type": "stream",
     "text": [
      "\t Loss: 0.079,\tTrain : 100.00%(100.00%),\tTest : 98.35%(98.39%),\tCurrent Time: 20250721-111657\n"
     ]
    },
    {
     "name": "stderr",
     "output_type": "stream",
     "text": [
      "Epoch 23/50: 100%|\u001b[34m████████████████████\u001b[0m| 120/120 [00:02<00:00, 48.16batch/s, loss=0.000569]\u001b[0m\n"
     ]
    },
    {
     "name": "stdout",
     "output_type": "stream",
     "text": [
      "\t Loss: 0.068,\tTrain : 100.00%(100.00%),\tTest : 98.34%(98.39%),\tCurrent Time: 20250721-111700\n"
     ]
    },
    {
     "name": "stderr",
     "output_type": "stream",
     "text": [
      "Epoch 24/50: 100%|\u001b[34m████████████████████\u001b[0m| 120/120 [00:02<00:00, 48.45batch/s, loss=0.000519]\u001b[0m\n"
     ]
    },
    {
     "name": "stdout",
     "output_type": "stream",
     "text": [
      "\t Loss: 0.062,\tTrain : 100.00%(100.00%),\tTest : 98.30%(98.39%),\tCurrent Time: 20250721-111702\n"
     ]
    },
    {
     "name": "stderr",
     "output_type": "stream",
     "text": [
      "Epoch 25/50: 100%|\u001b[34m████████████████████\u001b[0m| 120/120 [00:02<00:00, 48.76batch/s, loss=0.000449]\u001b[0m\n"
     ]
    },
    {
     "name": "stdout",
     "output_type": "stream",
     "text": [
      "\t Loss: 0.055,\tTrain : 100.00%(100.00%),\tTest : 98.36%(98.39%),\tCurrent Time: 20250721-111705\n"
     ]
    },
    {
     "name": "stderr",
     "output_type": "stream",
     "text": [
      "Epoch 26/50: 100%|\u001b[34m████████████████████\u001b[0m| 120/120 [00:02<00:00, 48.14batch/s, loss=0.000412]\u001b[0m\n"
     ]
    },
    {
     "name": "stdout",
     "output_type": "stream",
     "text": [
      "\t Loss: 0.050,\tTrain : 100.00%(100.00%),\tTest : 98.37%(98.39%),\tCurrent Time: 20250721-111707\n"
     ]
    },
    {
     "name": "stderr",
     "output_type": "stream",
     "text": [
      "Epoch 27/50: 100%|\u001b[34m████████████████████\u001b[0m| 120/120 [00:02<00:00, 50.16batch/s, loss=0.000370]\u001b[0m\n"
     ]
    },
    {
     "name": "stdout",
     "output_type": "stream",
     "text": [
      "\t Loss: 0.044,\tTrain : 100.00%(100.00%),\tTest : 98.30%(98.39%),\tCurrent Time: 20250721-111710\n"
     ]
    },
    {
     "name": "stderr",
     "output_type": "stream",
     "text": [
      "Epoch 28/50: 100%|\u001b[34m████████████████████\u001b[0m| 120/120 [00:02<00:00, 47.32batch/s, loss=0.000331]\u001b[0m\n"
     ]
    },
    {
     "name": "stdout",
     "output_type": "stream",
     "text": [
      "\t Loss: 0.041,\tTrain : 100.00%(100.00%),\tTest : 98.32%(98.39%),\tCurrent Time: 20250721-111713\n"
     ]
    },
    {
     "name": "stderr",
     "output_type": "stream",
     "text": [
      "Epoch 29/50: 100%|\u001b[34m████████████████████\u001b[0m| 120/120 [00:02<00:00, 49.74batch/s, loss=0.000312]\u001b[0m\n"
     ]
    },
    {
     "name": "stdout",
     "output_type": "stream",
     "text": [
      "\t Loss: 0.038,\tTrain : 100.00%(100.00%),\tTest : 98.33%(98.39%),\tCurrent Time: 20250721-111715\n"
     ]
    },
    {
     "name": "stderr",
     "output_type": "stream",
     "text": [
      "Epoch 30/50: 100%|\u001b[34m████████████████████\u001b[0m| 120/120 [00:02<00:00, 48.78batch/s, loss=0.000280]\u001b[0m\n"
     ]
    },
    {
     "name": "stdout",
     "output_type": "stream",
     "text": [
      "\t Loss: 0.034,\tTrain : 100.00%(100.00%),\tTest : 98.38%(98.39%),\tCurrent Time: 20250721-111718\n"
     ]
    },
    {
     "name": "stderr",
     "output_type": "stream",
     "text": [
      "Epoch 31/50: 100%|\u001b[34m████████████████████\u001b[0m| 120/120 [00:02<00:00, 47.97batch/s, loss=0.000255]\u001b[0m\n"
     ]
    },
    {
     "name": "stdout",
     "output_type": "stream",
     "text": [
      "\t Loss: 0.031,\tTrain : 100.00%(100.00%),\tTest : 98.32%(98.39%),\tCurrent Time: 20250721-111721\n"
     ]
    },
    {
     "name": "stderr",
     "output_type": "stream",
     "text": [
      "Epoch 32/50: 100%|\u001b[34m████████████████████\u001b[0m| 120/120 [00:02<00:00, 48.76batch/s, loss=0.000236]\u001b[0m\n"
     ]
    },
    {
     "name": "stdout",
     "output_type": "stream",
     "text": [
      "\t Loss: 0.028,\tTrain : 100.00%(100.00%),\tTest : 98.31%(98.39%),\tCurrent Time: 20250721-111723\n"
     ]
    },
    {
     "name": "stderr",
     "output_type": "stream",
     "text": [
      "Epoch 33/50: 100%|\u001b[34m████████████████████\u001b[0m| 120/120 [00:02<00:00, 48.80batch/s, loss=0.000210]\u001b[0m\n"
     ]
    },
    {
     "name": "stdout",
     "output_type": "stream",
     "text": [
      "\t Loss: 0.026,\tTrain : 100.00%(100.00%),\tTest : 98.35%(98.39%),\tCurrent Time: 20250721-111726\n"
     ]
    },
    {
     "name": "stderr",
     "output_type": "stream",
     "text": [
      "Epoch 34/50: 100%|\u001b[34m████████████████████\u001b[0m| 120/120 [00:02<00:00, 48.94batch/s, loss=0.029879]\u001b[0m\n"
     ]
    },
    {
     "name": "stdout",
     "output_type": "stream",
     "text": [
      "\t Loss: 4.455,\tTrain : 99.04%(100.00%),\tTest : 96.06%(98.39%),\tCurrent Time: 20250721-111728\n"
     ]
    },
    {
     "name": "stderr",
     "output_type": "stream",
     "text": [
      "Epoch 35/50: 100%|\u001b[34m████████████████████\u001b[0m| 120/120 [00:02<00:00, 49.52batch/s, loss=0.051148]\u001b[0m\n"
     ]
    },
    {
     "name": "stdout",
     "output_type": "stream",
     "text": [
      "\t Loss: 6.011,\tTrain : 98.37%(100.00%),\tTest : 97.59%(98.39%),\tCurrent Time: 20250721-111731\n"
     ]
    },
    {
     "name": "stderr",
     "output_type": "stream",
     "text": [
      "Epoch 36/50: 100%|\u001b[34m████████████████████\u001b[0m| 120/120 [00:02<00:00, 48.32batch/s, loss=0.013605]\u001b[0m\n"
     ]
    },
    {
     "name": "stdout",
     "output_type": "stream",
     "text": [
      "\t Loss: 1.607,\tTrain : 99.57%(100.00%),\tTest : 98.00%(98.39%),\tCurrent Time: 20250721-111734\n"
     ]
    },
    {
     "name": "stderr",
     "output_type": "stream",
     "text": [
      "Epoch 37/50: 100%|\u001b[34m████████████████████\u001b[0m| 120/120 [00:02<00:00, 51.63batch/s, loss=0.005473]\u001b[0m\n"
     ]
    },
    {
     "name": "stdout",
     "output_type": "stream",
     "text": [
      "\t Loss: 0.648,\tTrain : 99.86%(100.00%),\tTest : 98.31%(98.39%),\tCurrent Time: 20250721-111736\n"
     ]
    },
    {
     "name": "stderr",
     "output_type": "stream",
     "text": [
      "Epoch 38/50: 100%|\u001b[34m████████████████████\u001b[0m| 120/120 [00:02<00:00, 50.21batch/s, loss=0.002517]\u001b[0m\n"
     ]
    },
    {
     "name": "stdout",
     "output_type": "stream",
     "text": [
      "\t Loss: 0.296,\tTrain : 99.96%(100.00%),\tTest : 98.25%(98.39%),\tCurrent Time: 20250721-111739\n"
     ]
    },
    {
     "name": "stderr",
     "output_type": "stream",
     "text": [
      "Epoch 39/50: 100%|\u001b[34m████████████████████\u001b[0m| 120/120 [00:02<00:00, 51.64batch/s, loss=0.000941]\u001b[0m\n"
     ]
    },
    {
     "name": "stdout",
     "output_type": "stream",
     "text": [
      "\t Loss: 0.113,\tTrain : 99.99%(100.00%),\tTest : 98.23%(98.39%),\tCurrent Time: 20250721-111741\n"
     ]
    },
    {
     "name": "stderr",
     "output_type": "stream",
     "text": [
      "Epoch 40/50: 100%|\u001b[34m████████████████████\u001b[0m| 120/120 [00:02<00:00, 46.81batch/s, loss=0.000735]\u001b[0m\n"
     ]
    },
    {
     "name": "stdout",
     "output_type": "stream",
     "text": [
      "\t Loss: 0.088,\tTrain : 99.99%(100.00%),\tTest : 98.26%(98.39%),\tCurrent Time: 20250721-111744\n"
     ]
    },
    {
     "name": "stderr",
     "output_type": "stream",
     "text": [
      "Epoch 41/50: 100%|\u001b[34m████████████████████\u001b[0m| 120/120 [00:02<00:00, 48.12batch/s, loss=0.000624]\u001b[0m\n"
     ]
    },
    {
     "name": "stdout",
     "output_type": "stream",
     "text": [
      "\t Loss: 0.075,\tTrain : 100.00%(100.00%),\tTest : 98.14%(98.39%),\tCurrent Time: 20250721-111746\n"
     ]
    },
    {
     "name": "stderr",
     "output_type": "stream",
     "text": [
      "Epoch 42/50: 100%|\u001b[34m████████████████████\u001b[0m| 120/120 [00:02<00:00, 49.89batch/s, loss=0.000624]\u001b[0m\n"
     ]
    },
    {
     "name": "stdout",
     "output_type": "stream",
     "text": [
      "\t Loss: 0.076,\tTrain : 100.00%(100.00%),\tTest : 98.17%(98.39%),\tCurrent Time: 20250721-111749\n"
     ]
    },
    {
     "name": "stderr",
     "output_type": "stream",
     "text": [
      "Epoch 43/50: 100%|\u001b[34m████████████████████\u001b[0m| 120/120 [00:02<00:00, 50.32batch/s, loss=0.000438]\u001b[0m\n"
     ]
    },
    {
     "name": "stdout",
     "output_type": "stream",
     "text": [
      "\t Loss: 0.052,\tTrain : 100.00%(100.00%),\tTest : 98.16%(98.39%),\tCurrent Time: 20250721-111752\n"
     ]
    },
    {
     "name": "stderr",
     "output_type": "stream",
     "text": [
      "Epoch 44/50: 100%|\u001b[34m████████████████████\u001b[0m| 120/120 [00:02<00:00, 46.94batch/s, loss=0.000383]\u001b[0m\n"
     ]
    },
    {
     "name": "stdout",
     "output_type": "stream",
     "text": [
      "\t Loss: 0.047,\tTrain : 100.00%(100.00%),\tTest : 98.20%(98.39%),\tCurrent Time: 20250721-111754\n"
     ]
    },
    {
     "name": "stderr",
     "output_type": "stream",
     "text": [
      "Epoch 45/50: 100%|\u001b[34m████████████████████\u001b[0m| 120/120 [00:02<00:00, 49.90batch/s, loss=0.000360]\u001b[0m\n"
     ]
    },
    {
     "name": "stdout",
     "output_type": "stream",
     "text": [
      "\t Loss: 0.044,\tTrain : 100.00%(100.00%),\tTest : 98.15%(98.39%),\tCurrent Time: 20250721-111757\n"
     ]
    },
    {
     "name": "stderr",
     "output_type": "stream",
     "text": [
      "Epoch 46/50: 100%|\u001b[34m████████████████████\u001b[0m| 120/120 [00:02<00:00, 49.53batch/s, loss=0.000339]\u001b[0m\n"
     ]
    },
    {
     "name": "stdout",
     "output_type": "stream",
     "text": [
      "\t Loss: 0.041,\tTrain : 100.00%(100.00%),\tTest : 98.15%(98.39%),\tCurrent Time: 20250721-111759\n"
     ]
    },
    {
     "name": "stderr",
     "output_type": "stream",
     "text": [
      "Epoch 47/50: 100%|\u001b[34m████████████████████\u001b[0m| 120/120 [00:02<00:00, 48.21batch/s, loss=0.000326]\u001b[0m\n"
     ]
    },
    {
     "name": "stdout",
     "output_type": "stream",
     "text": [
      "\t Loss: 0.039,\tTrain : 100.00%(100.00%),\tTest : 98.17%(98.39%),\tCurrent Time: 20250721-111802\n"
     ]
    },
    {
     "name": "stderr",
     "output_type": "stream",
     "text": [
      "Epoch 48/50: 100%|\u001b[34m████████████████████\u001b[0m| 120/120 [00:02<00:00, 49.49batch/s, loss=0.000298]\u001b[0m\n"
     ]
    },
    {
     "name": "stdout",
     "output_type": "stream",
     "text": [
      "\t Loss: 0.036,\tTrain : 100.00%(100.00%),\tTest : 98.11%(98.39%),\tCurrent Time: 20250721-111805\n"
     ]
    },
    {
     "name": "stderr",
     "output_type": "stream",
     "text": [
      "Epoch 49/50: 100%|\u001b[34m████████████████████\u001b[0m| 120/120 [00:02<00:00, 48.61batch/s, loss=0.000277]\u001b[0m\n"
     ]
    },
    {
     "name": "stdout",
     "output_type": "stream",
     "text": [
      "\t Loss: 0.034,\tTrain : 100.00%(100.00%),\tTest : 98.13%(98.39%),\tCurrent Time: 20250721-111807\n"
     ]
    },
    {
     "name": "stderr",
     "output_type": "stream",
     "text": [
      "Epoch 50/50: 100%|\u001b[34m████████████████████\u001b[0m| 120/120 [00:02<00:00, 48.67batch/s, loss=0.000263]\u001b[0m\n"
     ]
    },
    {
     "name": "stdout",
     "output_type": "stream",
     "text": [
      "\t Loss: 0.032,\tTrain : 100.00%(100.00%),\tTest : 98.16%(98.39%),\tCurrent Time: 20250721-111810\n",
      "EP_L3_MNIST_First_com_BP_FA_EP_512_t52-EP_b_scEP-s-EP_It2sta18- Time: 20250721-111810, Epochs: 50, Learning Rate: 0.001, Best: 100.00%  98.39%\n",
      "\n",
      "EP_L3_MNIST_First_com_BP_FA_EP_512_t52-EP_b_scEP-s-EP_It2sta18-\n"
     ]
    },
    {
     "name": "stderr",
     "output_type": "stream",
     "text": [
      "Epoch 1/50: 100%|\u001b[34m█████████████████████\u001b[0m| 120/120 [00:02<00:00, 50.72batch/s, loss=0.381373]\u001b[0m\n"
     ]
    },
    {
     "name": "stdout",
     "output_type": "stream",
     "text": [
      "\t Loss: 44.429,\tTrain : 88.83%(88.83%),\tTest : 94.04%(94.04%),\tCurrent Time: 20250721-111813\n"
     ]
    },
    {
     "name": "stderr",
     "output_type": "stream",
     "text": [
      "Epoch 2/50: 100%|\u001b[34m█████████████████████\u001b[0m| 120/120 [00:02<00:00, 48.46batch/s, loss=0.178162]\u001b[0m\n"
     ]
    },
    {
     "name": "stdout",
     "output_type": "stream",
     "text": [
      "\t Loss: 21.114,\tTrain : 94.84%(94.84%),\tTest : 95.79%(95.79%),\tCurrent Time: 20250721-111816\n"
     ]
    },
    {
     "name": "stderr",
     "output_type": "stream",
     "text": [
      "Epoch 3/50: 100%|\u001b[34m█████████████████████\u001b[0m| 120/120 [00:02<00:00, 49.56batch/s, loss=0.118664]\u001b[0m\n"
     ]
    },
    {
     "name": "stdout",
     "output_type": "stream",
     "text": [
      "\t Loss: 14.097,\tTrain : 96.53%(96.53%),\tTest : 96.58%(96.58%),\tCurrent Time: 20250721-111818\n"
     ]
    },
    {
     "name": "stderr",
     "output_type": "stream",
     "text": [
      "Epoch 4/50: 100%|\u001b[34m█████████████████████\u001b[0m| 120/120 [00:02<00:00, 47.28batch/s, loss=0.088553]\u001b[0m\n"
     ]
    },
    {
     "name": "stdout",
     "output_type": "stream",
     "text": [
      "\t Loss: 10.631,\tTrain : 97.39%(97.39%),\tTest : 97.11%(97.11%),\tCurrent Time: 20250721-111821\n"
     ]
    },
    {
     "name": "stderr",
     "output_type": "stream",
     "text": [
      "Epoch 5/50: 100%|\u001b[34m█████████████████████\u001b[0m| 120/120 [00:02<00:00, 48.96batch/s, loss=0.070426]\u001b[0m\n"
     ]
    },
    {
     "name": "stdout",
     "output_type": "stream",
     "text": [
      "\t Loss: 8.458,\tTrain : 97.78%(97.78%),\tTest : 97.35%(97.35%),\tCurrent Time: 20250721-111823\n"
     ]
    },
    {
     "name": "stderr",
     "output_type": "stream",
     "text": [
      "Epoch 6/50: 100%|\u001b[34m█████████████████████\u001b[0m| 120/120 [00:02<00:00, 48.92batch/s, loss=0.051244]\u001b[0m\n"
     ]
    },
    {
     "name": "stdout",
     "output_type": "stream",
     "text": [
      "\t Loss: 6.151,\tTrain : 98.44%(98.44%),\tTest : 97.71%(97.71%),\tCurrent Time: 20250721-111826\n"
     ]
    },
    {
     "name": "stderr",
     "output_type": "stream",
     "text": [
      "Epoch 7/50: 100%|\u001b[34m█████████████████████\u001b[0m| 120/120 [00:02<00:00, 50.98batch/s, loss=0.042202]\u001b[0m\n"
     ]
    },
    {
     "name": "stdout",
     "output_type": "stream",
     "text": [
      "\t Loss: 5.109,\tTrain : 98.70%(98.70%),\tTest : 97.47%(97.71%),\tCurrent Time: 20250721-111829\n"
     ]
    },
    {
     "name": "stderr",
     "output_type": "stream",
     "text": [
      "Epoch 8/50: 100%|\u001b[34m█████████████████████\u001b[0m| 120/120 [00:02<00:00, 48.84batch/s, loss=0.031925]\u001b[0m\n"
     ]
    },
    {
     "name": "stdout",
     "output_type": "stream",
     "text": [
      "\t Loss: 3.884,\tTrain : 99.03%(99.03%),\tTest : 97.55%(97.71%),\tCurrent Time: 20250721-111831\n"
     ]
    },
    {
     "name": "stderr",
     "output_type": "stream",
     "text": [
      "Epoch 9/50: 100%|\u001b[34m█████████████████████\u001b[0m| 120/120 [00:02<00:00, 48.89batch/s, loss=0.025930]\u001b[0m\n"
     ]
    },
    {
     "name": "stdout",
     "output_type": "stream",
     "text": [
      "\t Loss: 3.087,\tTrain : 99.24%(99.24%),\tTest : 97.96%(97.96%),\tCurrent Time: 20250721-111834\n"
     ]
    },
    {
     "name": "stderr",
     "output_type": "stream",
     "text": [
      "Epoch 10/50: 100%|\u001b[34m████████████████████\u001b[0m| 120/120 [00:02<00:00, 49.22batch/s, loss=0.019910]\u001b[0m\n"
     ]
    },
    {
     "name": "stdout",
     "output_type": "stream",
     "text": [
      "\t Loss: 2.415,\tTrain : 99.45%(99.45%),\tTest : 97.99%(97.99%),\tCurrent Time: 20250721-111836\n"
     ]
    },
    {
     "name": "stderr",
     "output_type": "stream",
     "text": [
      "Epoch 11/50: 100%|\u001b[34m████████████████████\u001b[0m| 120/120 [00:02<00:00, 49.65batch/s, loss=0.015456]\u001b[0m\n"
     ]
    },
    {
     "name": "stdout",
     "output_type": "stream",
     "text": [
      "\t Loss: 1.851,\tTrain : 99.59%(99.59%),\tTest : 97.92%(97.99%),\tCurrent Time: 20250721-111839\n"
     ]
    },
    {
     "name": "stderr",
     "output_type": "stream",
     "text": [
      "Epoch 12/50: 100%|\u001b[34m████████████████████\u001b[0m| 120/120 [00:02<00:00, 51.37batch/s, loss=0.012180]\u001b[0m\n"
     ]
    },
    {
     "name": "stdout",
     "output_type": "stream",
     "text": [
      "\t Loss: 1.457,\tTrain : 99.73%(99.73%),\tTest : 97.94%(97.99%),\tCurrent Time: 20250721-111841\n"
     ]
    },
    {
     "name": "stderr",
     "output_type": "stream",
     "text": [
      "Epoch 13/50: 100%|\u001b[34m████████████████████\u001b[0m| 120/120 [00:02<00:00, 49.45batch/s, loss=0.008274]\u001b[0m\n"
     ]
    },
    {
     "name": "stdout",
     "output_type": "stream",
     "text": [
      "\t Loss: 1.047,\tTrain : 99.84%(99.84%),\tTest : 97.88%(97.99%),\tCurrent Time: 20250721-111844\n"
     ]
    },
    {
     "name": "stderr",
     "output_type": "stream",
     "text": [
      "Epoch 14/50: 100%|\u001b[34m████████████████████\u001b[0m| 120/120 [00:02<00:00, 50.66batch/s, loss=0.006417]\u001b[0m\n"
     ]
    },
    {
     "name": "stdout",
     "output_type": "stream",
     "text": [
      "\t Loss: 0.765,\tTrain : 99.89%(99.89%),\tTest : 98.11%(98.11%),\tCurrent Time: 20250721-111847\n"
     ]
    },
    {
     "name": "stderr",
     "output_type": "stream",
     "text": [
      "Epoch 15/50: 100%|\u001b[34m████████████████████\u001b[0m| 120/120 [00:02<00:00, 50.18batch/s, loss=0.004362]\u001b[0m\n"
     ]
    },
    {
     "name": "stdout",
     "output_type": "stream",
     "text": [
      "\t Loss: 0.516,\tTrain : 99.95%(99.95%),\tTest : 98.17%(98.17%),\tCurrent Time: 20250721-111849\n"
     ]
    },
    {
     "name": "stderr",
     "output_type": "stream",
     "text": [
      "Epoch 16/50: 100%|\u001b[34m████████████████████\u001b[0m| 120/120 [00:02<00:00, 49.90batch/s, loss=0.002812]\u001b[0m\n"
     ]
    },
    {
     "name": "stdout",
     "output_type": "stream",
     "text": [
      "\t Loss: 0.350,\tTrain : 99.97%(99.97%),\tTest : 98.17%(98.17%),\tCurrent Time: 20250721-111852\n"
     ]
    },
    {
     "name": "stderr",
     "output_type": "stream",
     "text": [
      "Epoch 17/50: 100%|\u001b[34m████████████████████\u001b[0m| 120/120 [00:02<00:00, 51.05batch/s, loss=0.002429]\u001b[0m\n"
     ]
    },
    {
     "name": "stdout",
     "output_type": "stream",
     "text": [
      "\t Loss: 0.290,\tTrain : 99.98%(99.98%),\tTest : 98.18%(98.18%),\tCurrent Time: 20250721-111854\n"
     ]
    },
    {
     "name": "stderr",
     "output_type": "stream",
     "text": [
      "Epoch 18/50: 100%|\u001b[34m████████████████████\u001b[0m| 120/120 [00:02<00:00, 50.50batch/s, loss=0.002085]\u001b[0m\n"
     ]
    },
    {
     "name": "stdout",
     "output_type": "stream",
     "text": [
      "\t Loss: 0.245,\tTrain : 99.98%(99.98%),\tTest : 98.16%(98.18%),\tCurrent Time: 20250721-111857\n"
     ]
    },
    {
     "name": "stderr",
     "output_type": "stream",
     "text": [
      "Epoch 19/50: 100%|\u001b[34m████████████████████\u001b[0m| 120/120 [00:02<00:00, 49.10batch/s, loss=0.001280]\u001b[0m\n"
     ]
    },
    {
     "name": "stdout",
     "output_type": "stream",
     "text": [
      "\t Loss: 0.156,\tTrain : 100.00%(100.00%),\tTest : 98.21%(98.21%),\tCurrent Time: 20250721-111859\n"
     ]
    },
    {
     "name": "stderr",
     "output_type": "stream",
     "text": [
      "Epoch 20/50: 100%|\u001b[34m████████████████████\u001b[0m| 120/120 [00:02<00:00, 50.39batch/s, loss=0.001025]\u001b[0m\n"
     ]
    },
    {
     "name": "stdout",
     "output_type": "stream",
     "text": [
      "\t Loss: 0.123,\tTrain : 100.00%(100.00%),\tTest : 98.15%(98.21%),\tCurrent Time: 20250721-111902\n"
     ]
    },
    {
     "name": "stderr",
     "output_type": "stream",
     "text": [
      "Epoch 21/50: 100%|\u001b[34m████████████████████\u001b[0m| 120/120 [00:02<00:00, 47.41batch/s, loss=0.000884]\u001b[0m\n"
     ]
    },
    {
     "name": "stdout",
     "output_type": "stream",
     "text": [
      "\t Loss: 0.105,\tTrain : 100.00%(100.00%),\tTest : 98.17%(98.21%),\tCurrent Time: 20250721-111905\n"
     ]
    },
    {
     "name": "stderr",
     "output_type": "stream",
     "text": [
      "Epoch 22/50: 100%|\u001b[34m████████████████████\u001b[0m| 120/120 [00:02<00:00, 49.23batch/s, loss=0.000697]\u001b[0m\n"
     ]
    },
    {
     "name": "stdout",
     "output_type": "stream",
     "text": [
      "\t Loss: 0.084,\tTrain : 100.00%(100.00%),\tTest : 98.23%(98.23%),\tCurrent Time: 20250721-111907\n"
     ]
    },
    {
     "name": "stderr",
     "output_type": "stream",
     "text": [
      "Epoch 23/50: 100%|\u001b[34m████████████████████\u001b[0m| 120/120 [00:02<00:00, 49.20batch/s, loss=0.000573]\u001b[0m\n"
     ]
    },
    {
     "name": "stdout",
     "output_type": "stream",
     "text": [
      "\t Loss: 0.068,\tTrain : 100.00%(100.00%),\tTest : 98.27%(98.27%),\tCurrent Time: 20250721-111910\n"
     ]
    },
    {
     "name": "stderr",
     "output_type": "stream",
     "text": [
      "Epoch 24/50: 100%|\u001b[34m████████████████████\u001b[0m| 120/120 [00:02<00:00, 50.67batch/s, loss=0.000518]\u001b[0m\n"
     ]
    },
    {
     "name": "stdout",
     "output_type": "stream",
     "text": [
      "\t Loss: 0.062,\tTrain : 100.00%(100.00%),\tTest : 98.27%(98.27%),\tCurrent Time: 20250721-111912\n"
     ]
    },
    {
     "name": "stderr",
     "output_type": "stream",
     "text": [
      "Epoch 25/50: 100%|\u001b[34m████████████████████\u001b[0m| 120/120 [00:02<00:00, 49.51batch/s, loss=0.000456]\u001b[0m\n"
     ]
    },
    {
     "name": "stdout",
     "output_type": "stream",
     "text": [
      "\t Loss: 0.055,\tTrain : 100.00%(100.00%),\tTest : 98.29%(98.29%),\tCurrent Time: 20250721-111915\n"
     ]
    },
    {
     "name": "stderr",
     "output_type": "stream",
     "text": [
      "Epoch 26/50: 100%|\u001b[34m████████████████████\u001b[0m| 120/120 [00:02<00:00, 50.20batch/s, loss=0.000416]\u001b[0m\n"
     ]
    },
    {
     "name": "stdout",
     "output_type": "stream",
     "text": [
      "\t Loss: 0.050,\tTrain : 100.00%(100.00%),\tTest : 98.20%(98.29%),\tCurrent Time: 20250721-111917\n"
     ]
    },
    {
     "name": "stderr",
     "output_type": "stream",
     "text": [
      "Epoch 27/50: 100%|\u001b[34m████████████████████\u001b[0m| 120/120 [00:02<00:00, 51.42batch/s, loss=0.000370]\u001b[0m\n"
     ]
    },
    {
     "name": "stdout",
     "output_type": "stream",
     "text": [
      "\t Loss: 0.045,\tTrain : 100.00%(100.00%),\tTest : 98.30%(98.30%),\tCurrent Time: 20250721-111920\n"
     ]
    },
    {
     "name": "stderr",
     "output_type": "stream",
     "text": [
      "Epoch 28/50: 100%|\u001b[34m████████████████████\u001b[0m| 120/120 [00:02<00:00, 48.39batch/s, loss=0.000341]\u001b[0m\n"
     ]
    },
    {
     "name": "stdout",
     "output_type": "stream",
     "text": [
      "\t Loss: 0.041,\tTrain : 100.00%(100.00%),\tTest : 98.26%(98.30%),\tCurrent Time: 20250721-111923\n"
     ]
    },
    {
     "name": "stderr",
     "output_type": "stream",
     "text": [
      "Epoch 29/50: 100%|\u001b[34m████████████████████\u001b[0m| 120/120 [00:02<00:00, 48.70batch/s, loss=0.000304]\u001b[0m\n"
     ]
    },
    {
     "name": "stdout",
     "output_type": "stream",
     "text": [
      "\t Loss: 0.037,\tTrain : 100.00%(100.00%),\tTest : 98.24%(98.30%),\tCurrent Time: 20250721-111925\n"
     ]
    },
    {
     "name": "stderr",
     "output_type": "stream",
     "text": [
      "Epoch 30/50: 100%|\u001b[34m████████████████████\u001b[0m| 120/120 [00:02<00:00, 49.32batch/s, loss=0.000288]\u001b[0m\n"
     ]
    },
    {
     "name": "stdout",
     "output_type": "stream",
     "text": [
      "\t Loss: 0.034,\tTrain : 100.00%(100.00%),\tTest : 98.30%(98.30%),\tCurrent Time: 20250721-111928\n"
     ]
    },
    {
     "name": "stderr",
     "output_type": "stream",
     "text": [
      "Epoch 31/50: 100%|\u001b[34m████████████████████\u001b[0m| 120/120 [00:02<00:00, 50.17batch/s, loss=0.000251]\u001b[0m\n"
     ]
    },
    {
     "name": "stdout",
     "output_type": "stream",
     "text": [
      "\t Loss: 0.031,\tTrain : 100.00%(100.00%),\tTest : 98.23%(98.30%),\tCurrent Time: 20250721-111930\n"
     ]
    },
    {
     "name": "stderr",
     "output_type": "stream",
     "text": [
      "Epoch 32/50: 100%|\u001b[34m████████████████████\u001b[0m| 120/120 [00:02<00:00, 46.50batch/s, loss=0.000234]\u001b[0m\n"
     ]
    },
    {
     "name": "stdout",
     "output_type": "stream",
     "text": [
      "\t Loss: 0.028,\tTrain : 100.00%(100.00%),\tTest : 98.26%(98.30%),\tCurrent Time: 20250721-111933\n"
     ]
    },
    {
     "name": "stderr",
     "output_type": "stream",
     "text": [
      "Epoch 33/50: 100%|\u001b[34m████████████████████\u001b[0m| 120/120 [00:02<00:00, 51.20batch/s, loss=0.000214]\u001b[0m\n"
     ]
    },
    {
     "name": "stdout",
     "output_type": "stream",
     "text": [
      "\t Loss: 0.026,\tTrain : 100.00%(100.00%),\tTest : 98.20%(98.30%),\tCurrent Time: 20250721-111935\n"
     ]
    },
    {
     "name": "stderr",
     "output_type": "stream",
     "text": [
      "Epoch 34/50: 100%|\u001b[34m████████████████████\u001b[0m| 120/120 [00:02<00:00, 50.02batch/s, loss=0.000200]\u001b[0m\n"
     ]
    },
    {
     "name": "stdout",
     "output_type": "stream",
     "text": [
      "\t Loss: 0.024,\tTrain : 100.00%(100.00%),\tTest : 98.28%(98.30%),\tCurrent Time: 20250721-111938\n"
     ]
    },
    {
     "name": "stderr",
     "output_type": "stream",
     "text": [
      "Epoch 35/50: 100%|\u001b[34m████████████████████\u001b[0m| 120/120 [00:02<00:00, 48.94batch/s, loss=0.000184]\u001b[0m\n"
     ]
    },
    {
     "name": "stdout",
     "output_type": "stream",
     "text": [
      "\t Loss: 0.022,\tTrain : 100.00%(100.00%),\tTest : 98.25%(98.30%),\tCurrent Time: 20250721-111941\n"
     ]
    },
    {
     "name": "stderr",
     "output_type": "stream",
     "text": [
      "Epoch 36/50: 100%|\u001b[34m████████████████████\u001b[0m| 120/120 [00:02<00:00, 48.31batch/s, loss=0.000180]\u001b[0m\n"
     ]
    },
    {
     "name": "stdout",
     "output_type": "stream",
     "text": [
      "\t Loss: 0.021,\tTrain : 100.00%(100.00%),\tTest : 98.26%(98.30%),\tCurrent Time: 20250721-111943\n"
     ]
    },
    {
     "name": "stderr",
     "output_type": "stream",
     "text": [
      "Epoch 37/50: 100%|\u001b[34m████████████████████\u001b[0m| 120/120 [00:02<00:00, 50.82batch/s, loss=0.000158]\u001b[0m\n"
     ]
    },
    {
     "name": "stdout",
     "output_type": "stream",
     "text": [
      "\t Loss: 0.019,\tTrain : 100.00%(100.00%),\tTest : 98.23%(98.30%),\tCurrent Time: 20250721-111946\n"
     ]
    },
    {
     "name": "stderr",
     "output_type": "stream",
     "text": [
      "Epoch 38/50: 100%|\u001b[34m████████████████████\u001b[0m| 120/120 [00:02<00:00, 49.91batch/s, loss=0.000144]\u001b[0m\n"
     ]
    },
    {
     "name": "stdout",
     "output_type": "stream",
     "text": [
      "\t Loss: 0.018,\tTrain : 100.00%(100.00%),\tTest : 98.25%(98.30%),\tCurrent Time: 20250721-111948\n"
     ]
    },
    {
     "name": "stderr",
     "output_type": "stream",
     "text": [
      "Epoch 39/50: 100%|\u001b[34m████████████████████\u001b[0m| 120/120 [00:02<00:00, 50.06batch/s, loss=0.000131]\u001b[0m\n"
     ]
    },
    {
     "name": "stdout",
     "output_type": "stream",
     "text": [
      "\t Loss: 0.016,\tTrain : 100.00%(100.00%),\tTest : 98.23%(98.30%),\tCurrent Time: 20250721-111951\n"
     ]
    },
    {
     "name": "stderr",
     "output_type": "stream",
     "text": [
      "Epoch 40/50: 100%|\u001b[34m████████████████████\u001b[0m| 120/120 [00:02<00:00, 48.63batch/s, loss=0.000125]\u001b[0m\n"
     ]
    },
    {
     "name": "stdout",
     "output_type": "stream",
     "text": [
      "\t Loss: 0.015,\tTrain : 100.00%(100.00%),\tTest : 98.25%(98.30%),\tCurrent Time: 20250721-111954\n"
     ]
    },
    {
     "name": "stderr",
     "output_type": "stream",
     "text": [
      "Epoch 41/50: 100%|\u001b[34m████████████████████\u001b[0m| 120/120 [00:02<00:00, 50.59batch/s, loss=0.000116]\u001b[0m\n"
     ]
    },
    {
     "name": "stdout",
     "output_type": "stream",
     "text": [
      "\t Loss: 0.014,\tTrain : 100.00%(100.00%),\tTest : 98.22%(98.30%),\tCurrent Time: 20250721-111956\n"
     ]
    },
    {
     "name": "stderr",
     "output_type": "stream",
     "text": [
      "Epoch 42/50: 100%|\u001b[34m████████████████████\u001b[0m| 120/120 [00:02<00:00, 48.63batch/s, loss=0.000115]\u001b[0m\n"
     ]
    },
    {
     "name": "stdout",
     "output_type": "stream",
     "text": [
      "\t Loss: 0.014,\tTrain : 100.00%(100.00%),\tTest : 98.24%(98.30%),\tCurrent Time: 20250721-111959\n"
     ]
    },
    {
     "name": "stderr",
     "output_type": "stream",
     "text": [
      "Epoch 43/50: 100%|\u001b[34m████████████████████\u001b[0m| 120/120 [00:02<00:00, 47.91batch/s, loss=0.043000]\u001b[0m\n"
     ]
    },
    {
     "name": "stdout",
     "output_type": "stream",
     "text": [
      "\t Loss: 5.490,\tTrain : 98.73%(100.00%),\tTest : 96.42%(98.30%),\tCurrent Time: 20250721-112001\n"
     ]
    },
    {
     "name": "stderr",
     "output_type": "stream",
     "text": [
      "Epoch 44/50: 100%|\u001b[34m████████████████████\u001b[0m| 120/120 [00:02<00:00, 48.16batch/s, loss=0.048030]\u001b[0m\n"
     ]
    },
    {
     "name": "stdout",
     "output_type": "stream",
     "text": [
      "\t Loss: 5.629,\tTrain : 98.41%(100.00%),\tTest : 97.60%(98.30%),\tCurrent Time: 20250721-112004\n"
     ]
    },
    {
     "name": "stderr",
     "output_type": "stream",
     "text": [
      "Epoch 45/50: 100%|\u001b[34m████████████████████\u001b[0m| 120/120 [00:02<00:00, 48.00batch/s, loss=0.015416]\u001b[0m\n"
     ]
    },
    {
     "name": "stdout",
     "output_type": "stream",
     "text": [
      "\t Loss: 1.855,\tTrain : 99.45%(100.00%),\tTest : 97.86%(98.30%),\tCurrent Time: 20250721-112007\n"
     ]
    },
    {
     "name": "stderr",
     "output_type": "stream",
     "text": [
      "Epoch 46/50: 100%|\u001b[34m████████████████████\u001b[0m| 120/120 [00:02<00:00, 48.72batch/s, loss=0.006374]\u001b[0m\n"
     ]
    },
    {
     "name": "stdout",
     "output_type": "stream",
     "text": [
      "\t Loss: 0.756,\tTrain : 99.83%(100.00%),\tTest : 97.99%(98.30%),\tCurrent Time: 20250721-112009\n"
     ]
    },
    {
     "name": "stderr",
     "output_type": "stream",
     "text": [
      "Epoch 47/50: 100%|\u001b[34m████████████████████\u001b[0m| 120/120 [00:02<00:00, 49.77batch/s, loss=0.002749]\u001b[0m\n"
     ]
    },
    {
     "name": "stdout",
     "output_type": "stream",
     "text": [
      "\t Loss: 0.319,\tTrain : 99.95%(100.00%),\tTest : 98.13%(98.30%),\tCurrent Time: 20250721-112012\n"
     ]
    },
    {
     "name": "stderr",
     "output_type": "stream",
     "text": [
      "Epoch 48/50: 100%|\u001b[34m████████████████████\u001b[0m| 120/120 [00:02<00:00, 51.57batch/s, loss=0.000997]\u001b[0m\n"
     ]
    },
    {
     "name": "stdout",
     "output_type": "stream",
     "text": [
      "\t Loss: 0.119,\tTrain : 100.00%(100.00%),\tTest : 98.12%(98.30%),\tCurrent Time: 20250721-112014\n"
     ]
    },
    {
     "name": "stderr",
     "output_type": "stream",
     "text": [
      "Epoch 49/50: 100%|\u001b[34m████████████████████\u001b[0m| 120/120 [00:02<00:00, 50.42batch/s, loss=0.000617]\u001b[0m\n"
     ]
    },
    {
     "name": "stdout",
     "output_type": "stream",
     "text": [
      "\t Loss: 0.075,\tTrain : 100.00%(100.00%),\tTest : 98.07%(98.30%),\tCurrent Time: 20250721-112017\n"
     ]
    },
    {
     "name": "stderr",
     "output_type": "stream",
     "text": [
      "Epoch 50/50: 100%|\u001b[34m████████████████████\u001b[0m| 120/120 [00:02<00:00, 50.72batch/s, loss=0.000557]\u001b[0m\n"
     ]
    },
    {
     "name": "stdout",
     "output_type": "stream",
     "text": [
      "\t Loss: 0.067,\tTrain : 100.00%(100.00%),\tTest : 98.17%(98.30%),\tCurrent Time: 20250721-112019\n",
      "EP_L3_MNIST_First_com_BP_FA_EP_512_t52-EP_b_scEP-s-EP_It2sta18- Time: 20250721-112019, Epochs: 50, Learning Rate: 0.001, Best: 100.00%  98.30%\n",
      "\n",
      "EP_L3_MNIST_First_com_BP_FA_EP_512_t52-EP_b_scEP-s-EP_It2sta18-\n"
     ]
    },
    {
     "name": "stderr",
     "output_type": "stream",
     "text": [
      "Epoch 1/50: 100%|\u001b[34m█████████████████████\u001b[0m| 120/120 [00:02<00:00, 48.74batch/s, loss=0.386216]\u001b[0m\n"
     ]
    },
    {
     "name": "stdout",
     "output_type": "stream",
     "text": [
      "\t Loss: 44.915,\tTrain : 88.68%(88.68%),\tTest : 93.64%(93.64%),\tCurrent Time: 20250721-112023\n"
     ]
    },
    {
     "name": "stderr",
     "output_type": "stream",
     "text": [
      "Epoch 2/50: 100%|\u001b[34m█████████████████████\u001b[0m| 120/120 [00:02<00:00, 48.79batch/s, loss=0.181284]\u001b[0m\n"
     ]
    },
    {
     "name": "stdout",
     "output_type": "stream",
     "text": [
      "\t Loss: 21.548,\tTrain : 94.73%(94.73%),\tTest : 95.71%(95.71%),\tCurrent Time: 20250721-112025\n"
     ]
    },
    {
     "name": "stderr",
     "output_type": "stream",
     "text": [
      "Epoch 3/50: 100%|\u001b[34m█████████████████████\u001b[0m| 120/120 [00:02<00:00, 49.11batch/s, loss=0.123627]\u001b[0m\n"
     ]
    },
    {
     "name": "stdout",
     "output_type": "stream",
     "text": [
      "\t Loss: 14.678,\tTrain : 96.36%(96.36%),\tTest : 96.62%(96.62%),\tCurrent Time: 20250721-112028\n"
     ]
    },
    {
     "name": "stderr",
     "output_type": "stream",
     "text": [
      "Epoch 4/50: 100%|\u001b[34m█████████████████████\u001b[0m| 120/120 [00:02<00:00, 47.59batch/s, loss=0.088520]\u001b[0m\n"
     ]
    },
    {
     "name": "stdout",
     "output_type": "stream",
     "text": [
      "\t Loss: 10.650,\tTrain : 97.39%(97.39%),\tTest : 97.23%(97.23%),\tCurrent Time: 20250721-112030\n"
     ]
    },
    {
     "name": "stderr",
     "output_type": "stream",
     "text": [
      "Epoch 5/50: 100%|\u001b[34m█████████████████████\u001b[0m| 120/120 [00:02<00:00, 49.80batch/s, loss=0.069351]\u001b[0m\n"
     ]
    },
    {
     "name": "stdout",
     "output_type": "stream",
     "text": [
      "\t Loss: 8.273,\tTrain : 97.88%(97.88%),\tTest : 97.27%(97.27%),\tCurrent Time: 20250721-112033\n"
     ]
    },
    {
     "name": "stderr",
     "output_type": "stream",
     "text": [
      "Epoch 6/50: 100%|\u001b[34m█████████████████████\u001b[0m| 120/120 [00:02<00:00, 50.96batch/s, loss=0.054345]\u001b[0m\n"
     ]
    },
    {
     "name": "stdout",
     "output_type": "stream",
     "text": [
      "\t Loss: 6.499,\tTrain : 98.36%(98.36%),\tTest : 97.48%(97.48%),\tCurrent Time: 20250721-112036\n"
     ]
    },
    {
     "name": "stderr",
     "output_type": "stream",
     "text": [
      "Epoch 7/50: 100%|\u001b[34m█████████████████████\u001b[0m| 120/120 [00:02<00:00, 49.55batch/s, loss=0.042372]\u001b[0m\n"
     ]
    },
    {
     "name": "stdout",
     "output_type": "stream",
     "text": [
      "\t Loss: 5.168,\tTrain : 98.67%(98.67%),\tTest : 97.61%(97.61%),\tCurrent Time: 20250721-112038\n"
     ]
    },
    {
     "name": "stderr",
     "output_type": "stream",
     "text": [
      "Epoch 8/50: 100%|\u001b[34m█████████████████████\u001b[0m| 120/120 [00:02<00:00, 48.78batch/s, loss=0.033090]\u001b[0m\n"
     ]
    },
    {
     "name": "stdout",
     "output_type": "stream",
     "text": [
      "\t Loss: 3.934,\tTrain : 99.02%(99.02%),\tTest : 97.76%(97.76%),\tCurrent Time: 20250721-112041\n"
     ]
    },
    {
     "name": "stderr",
     "output_type": "stream",
     "text": [
      "Epoch 9/50: 100%|\u001b[34m█████████████████████\u001b[0m| 120/120 [00:02<00:00, 48.32batch/s, loss=0.027113]\u001b[0m\n"
     ]
    },
    {
     "name": "stdout",
     "output_type": "stream",
     "text": [
      "\t Loss: 3.290,\tTrain : 99.21%(99.21%),\tTest : 97.88%(97.88%),\tCurrent Time: 20250721-112043\n"
     ]
    },
    {
     "name": "stderr",
     "output_type": "stream",
     "text": [
      "Epoch 10/50: 100%|\u001b[34m████████████████████\u001b[0m| 120/120 [00:02<00:00, 48.00batch/s, loss=0.020564]\u001b[0m\n"
     ]
    },
    {
     "name": "stdout",
     "output_type": "stream",
     "text": [
      "\t Loss: 2.519,\tTrain : 99.43%(99.43%),\tTest : 97.79%(97.88%),\tCurrent Time: 20250721-112046\n"
     ]
    },
    {
     "name": "stderr",
     "output_type": "stream",
     "text": [
      "Epoch 11/50: 100%|\u001b[34m████████████████████\u001b[0m| 120/120 [00:02<00:00, 47.41batch/s, loss=0.017017]\u001b[0m\n"
     ]
    },
    {
     "name": "stdout",
     "output_type": "stream",
     "text": [
      "\t Loss: 2.014,\tTrain : 99.57%(99.57%),\tTest : 97.90%(97.90%),\tCurrent Time: 20250721-112049\n"
     ]
    },
    {
     "name": "stderr",
     "output_type": "stream",
     "text": [
      "Epoch 12/50: 100%|\u001b[34m████████████████████\u001b[0m| 120/120 [00:02<00:00, 50.39batch/s, loss=0.012331]\u001b[0m\n"
     ]
    },
    {
     "name": "stdout",
     "output_type": "stream",
     "text": [
      "\t Loss: 1.510,\tTrain : 99.70%(99.70%),\tTest : 97.84%(97.90%),\tCurrent Time: 20250721-112051\n"
     ]
    },
    {
     "name": "stderr",
     "output_type": "stream",
     "text": [
      "Epoch 13/50: 100%|\u001b[34m████████████████████\u001b[0m| 120/120 [00:02<00:00, 47.24batch/s, loss=0.009246]\u001b[0m\n"
     ]
    },
    {
     "name": "stdout",
     "output_type": "stream",
     "text": [
      "\t Loss: 1.090,\tTrain : 99.80%(99.80%),\tTest : 98.13%(98.13%),\tCurrent Time: 20250721-112054\n"
     ]
    },
    {
     "name": "stderr",
     "output_type": "stream",
     "text": [
      "Epoch 14/50: 100%|\u001b[34m████████████████████\u001b[0m| 120/120 [00:02<00:00, 50.40batch/s, loss=0.006808]\u001b[0m\n"
     ]
    },
    {
     "name": "stdout",
     "output_type": "stream",
     "text": [
      "\t Loss: 0.825,\tTrain : 99.87%(99.87%),\tTest : 98.13%(98.13%),\tCurrent Time: 20250721-112056\n"
     ]
    },
    {
     "name": "stderr",
     "output_type": "stream",
     "text": [
      "Epoch 15/50: 100%|\u001b[34m████████████████████\u001b[0m| 120/120 [00:02<00:00, 48.80batch/s, loss=0.004207]\u001b[0m\n"
     ]
    },
    {
     "name": "stdout",
     "output_type": "stream",
     "text": [
      "\t Loss: 0.517,\tTrain : 99.95%(99.95%),\tTest : 98.20%(98.20%),\tCurrent Time: 20250721-112059\n"
     ]
    },
    {
     "name": "stderr",
     "output_type": "stream",
     "text": [
      "Epoch 16/50: 100%|\u001b[34m████████████████████\u001b[0m| 120/120 [00:02<00:00, 48.00batch/s, loss=0.003288]\u001b[0m\n"
     ]
    },
    {
     "name": "stdout",
     "output_type": "stream",
     "text": [
      "\t Loss: 0.405,\tTrain : 99.96%(99.96%),\tTest : 98.10%(98.20%),\tCurrent Time: 20250721-112102\n"
     ]
    },
    {
     "name": "stderr",
     "output_type": "stream",
     "text": [
      "Epoch 17/50: 100%|\u001b[34m████████████████████\u001b[0m| 120/120 [00:02<00:00, 50.21batch/s, loss=0.002731]\u001b[0m\n"
     ]
    },
    {
     "name": "stdout",
     "output_type": "stream",
     "text": [
      "\t Loss: 0.326,\tTrain : 99.97%(99.97%),\tTest : 98.11%(98.20%),\tCurrent Time: 20250721-112104\n"
     ]
    },
    {
     "name": "stderr",
     "output_type": "stream",
     "text": [
      "Epoch 18/50: 100%|\u001b[34m████████████████████\u001b[0m| 120/120 [00:02<00:00, 49.08batch/s, loss=0.002111]\u001b[0m\n"
     ]
    },
    {
     "name": "stdout",
     "output_type": "stream",
     "text": [
      "\t Loss: 0.252,\tTrain : 99.98%(99.98%),\tTest : 98.19%(98.20%),\tCurrent Time: 20250721-112107\n"
     ]
    },
    {
     "name": "stderr",
     "output_type": "stream",
     "text": [
      "Epoch 19/50: 100%|\u001b[34m████████████████████\u001b[0m| 120/120 [00:02<00:00, 49.28batch/s, loss=0.001316]\u001b[0m\n"
     ]
    },
    {
     "name": "stdout",
     "output_type": "stream",
     "text": [
      "\t Loss: 0.155,\tTrain : 100.00%(100.00%),\tTest : 98.23%(98.23%),\tCurrent Time: 20250721-112109\n"
     ]
    },
    {
     "name": "stderr",
     "output_type": "stream",
     "text": [
      "Epoch 20/50: 100%|\u001b[34m████████████████████\u001b[0m| 120/120 [00:02<00:00, 50.28batch/s, loss=0.001107]\u001b[0m\n"
     ]
    },
    {
     "name": "stdout",
     "output_type": "stream",
     "text": [
      "\t Loss: 0.135,\tTrain : 100.00%(100.00%),\tTest : 98.24%(98.24%),\tCurrent Time: 20250721-112112\n"
     ]
    },
    {
     "name": "stderr",
     "output_type": "stream",
     "text": [
      "Epoch 21/50: 100%|\u001b[34m████████████████████\u001b[0m| 120/120 [00:02<00:00, 48.78batch/s, loss=0.001153]\u001b[0m\n"
     ]
    },
    {
     "name": "stdout",
     "output_type": "stream",
     "text": [
      "\t Loss: 0.141,\tTrain : 99.99%(100.00%),\tTest : 98.23%(98.24%),\tCurrent Time: 20250721-112115\n"
     ]
    },
    {
     "name": "stderr",
     "output_type": "stream",
     "text": [
      "Epoch 22/50: 100%|\u001b[34m████████████████████\u001b[0m| 120/120 [00:02<00:00, 49.54batch/s, loss=0.000959]\u001b[0m\n"
     ]
    },
    {
     "name": "stdout",
     "output_type": "stream",
     "text": [
      "\t Loss: 0.112,\tTrain : 100.00%(100.00%),\tTest : 98.23%(98.24%),\tCurrent Time: 20250721-112117\n"
     ]
    },
    {
     "name": "stderr",
     "output_type": "stream",
     "text": [
      "Epoch 23/50: 100%|\u001b[34m████████████████████\u001b[0m| 120/120 [00:02<00:00, 50.09batch/s, loss=0.000585]\u001b[0m\n"
     ]
    },
    {
     "name": "stdout",
     "output_type": "stream",
     "text": [
      "\t Loss: 0.071,\tTrain : 100.00%(100.00%),\tTest : 98.21%(98.24%),\tCurrent Time: 20250721-112120\n"
     ]
    },
    {
     "name": "stderr",
     "output_type": "stream",
     "text": [
      "Epoch 24/50: 100%|\u001b[34m████████████████████\u001b[0m| 120/120 [00:02<00:00, 48.92batch/s, loss=0.000500]\u001b[0m\n"
     ]
    },
    {
     "name": "stdout",
     "output_type": "stream",
     "text": [
      "\t Loss: 0.061,\tTrain : 100.00%(100.00%),\tTest : 98.26%(98.26%),\tCurrent Time: 20250721-112122\n"
     ]
    },
    {
     "name": "stderr",
     "output_type": "stream",
     "text": [
      "Epoch 25/50: 100%|\u001b[34m████████████████████\u001b[0m| 120/120 [00:02<00:00, 48.23batch/s, loss=0.000445]\u001b[0m\n"
     ]
    },
    {
     "name": "stdout",
     "output_type": "stream",
     "text": [
      "\t Loss: 0.054,\tTrain : 100.00%(100.00%),\tTest : 98.23%(98.26%),\tCurrent Time: 20250721-112125\n"
     ]
    },
    {
     "name": "stderr",
     "output_type": "stream",
     "text": [
      "Epoch 26/50: 100%|\u001b[34m████████████████████\u001b[0m| 120/120 [00:02<00:00, 48.79batch/s, loss=0.000404]\u001b[0m\n"
     ]
    },
    {
     "name": "stdout",
     "output_type": "stream",
     "text": [
      "\t Loss: 0.049,\tTrain : 100.00%(100.00%),\tTest : 98.31%(98.31%),\tCurrent Time: 20250721-112128\n"
     ]
    },
    {
     "name": "stderr",
     "output_type": "stream",
     "text": [
      "Epoch 27/50: 100%|\u001b[34m████████████████████\u001b[0m| 120/120 [00:02<00:00, 50.63batch/s, loss=0.000364]\u001b[0m\n"
     ]
    },
    {
     "name": "stdout",
     "output_type": "stream",
     "text": [
      "\t Loss: 0.044,\tTrain : 100.00%(100.00%),\tTest : 98.31%(98.31%),\tCurrent Time: 20250721-112130\n"
     ]
    },
    {
     "name": "stderr",
     "output_type": "stream",
     "text": [
      "Epoch 28/50: 100%|\u001b[34m████████████████████\u001b[0m| 120/120 [00:02<00:00, 48.15batch/s, loss=0.000324]\u001b[0m\n"
     ]
    },
    {
     "name": "stdout",
     "output_type": "stream",
     "text": [
      "\t Loss: 0.039,\tTrain : 100.00%(100.00%),\tTest : 98.28%(98.31%),\tCurrent Time: 20250721-112133\n"
     ]
    },
    {
     "name": "stderr",
     "output_type": "stream",
     "text": [
      "Epoch 29/50: 100%|\u001b[34m████████████████████\u001b[0m| 120/120 [00:02<00:00, 49.04batch/s, loss=0.000305]\u001b[0m\n"
     ]
    },
    {
     "name": "stdout",
     "output_type": "stream",
     "text": [
      "\t Loss: 0.037,\tTrain : 100.00%(100.00%),\tTest : 98.30%(98.31%),\tCurrent Time: 20250721-112135\n"
     ]
    },
    {
     "name": "stderr",
     "output_type": "stream",
     "text": [
      "Epoch 30/50: 100%|\u001b[34m████████████████████\u001b[0m| 120/120 [00:02<00:00, 49.58batch/s, loss=0.000276]\u001b[0m\n"
     ]
    },
    {
     "name": "stdout",
     "output_type": "stream",
     "text": [
      "\t Loss: 0.033,\tTrain : 100.00%(100.00%),\tTest : 98.31%(98.31%),\tCurrent Time: 20250721-112138\n"
     ]
    },
    {
     "name": "stderr",
     "output_type": "stream",
     "text": [
      "Epoch 31/50: 100%|\u001b[34m████████████████████\u001b[0m| 120/120 [00:02<00:00, 45.47batch/s, loss=0.000253]\u001b[0m\n"
     ]
    },
    {
     "name": "stdout",
     "output_type": "stream",
     "text": [
      "\t Loss: 0.030,\tTrain : 100.00%(100.00%),\tTest : 98.27%(98.31%),\tCurrent Time: 20250721-112141\n"
     ]
    },
    {
     "name": "stderr",
     "output_type": "stream",
     "text": [
      "Epoch 32/50: 100%|\u001b[34m████████████████████\u001b[0m| 120/120 [00:02<00:00, 49.42batch/s, loss=0.000234]\u001b[0m\n"
     ]
    },
    {
     "name": "stdout",
     "output_type": "stream",
     "text": [
      "\t Loss: 0.028,\tTrain : 100.00%(100.00%),\tTest : 98.26%(98.31%),\tCurrent Time: 20250721-112143\n"
     ]
    },
    {
     "name": "stderr",
     "output_type": "stream",
     "text": [
      "Epoch 33/50: 100%|\u001b[34m████████████████████\u001b[0m| 120/120 [00:02<00:00, 49.59batch/s, loss=0.000210]\u001b[0m\n"
     ]
    },
    {
     "name": "stdout",
     "output_type": "stream",
     "text": [
      "\t Loss: 0.025,\tTrain : 100.00%(100.00%),\tTest : 98.27%(98.31%),\tCurrent Time: 20250721-112146\n"
     ]
    },
    {
     "name": "stderr",
     "output_type": "stream",
     "text": [
      "Epoch 34/50: 100%|\u001b[34m████████████████████\u001b[0m| 120/120 [00:02<00:00, 49.02batch/s, loss=0.000194]\u001b[0m\n"
     ]
    },
    {
     "name": "stdout",
     "output_type": "stream",
     "text": [
      "\t Loss: 0.023,\tTrain : 100.00%(100.00%),\tTest : 98.32%(98.32%),\tCurrent Time: 20250721-112149\n"
     ]
    },
    {
     "name": "stderr",
     "output_type": "stream",
     "text": [
      "Epoch 35/50: 100%|\u001b[34m████████████████████\u001b[0m| 120/120 [00:02<00:00, 48.31batch/s, loss=0.000182]\u001b[0m\n"
     ]
    },
    {
     "name": "stdout",
     "output_type": "stream",
     "text": [
      "\t Loss: 0.022,\tTrain : 100.00%(100.00%),\tTest : 98.29%(98.32%),\tCurrent Time: 20250721-112151\n"
     ]
    },
    {
     "name": "stderr",
     "output_type": "stream",
     "text": [
      "Epoch 36/50: 100%|\u001b[34m████████████████████\u001b[0m| 120/120 [00:02<00:00, 49.73batch/s, loss=0.000163]\u001b[0m\n"
     ]
    },
    {
     "name": "stdout",
     "output_type": "stream",
     "text": [
      "\t Loss: 0.020,\tTrain : 100.00%(100.00%),\tTest : 98.31%(98.32%),\tCurrent Time: 20250721-112154\n"
     ]
    },
    {
     "name": "stderr",
     "output_type": "stream",
     "text": [
      "Epoch 37/50: 100%|\u001b[34m████████████████████\u001b[0m| 120/120 [00:02<00:00, 50.06batch/s, loss=0.000155]\u001b[0m\n"
     ]
    },
    {
     "name": "stdout",
     "output_type": "stream",
     "text": [
      "\t Loss: 0.019,\tTrain : 100.00%(100.00%),\tTest : 98.27%(98.32%),\tCurrent Time: 20250721-112156\n"
     ]
    },
    {
     "name": "stderr",
     "output_type": "stream",
     "text": [
      "Epoch 38/50: 100%|\u001b[34m████████████████████\u001b[0m| 120/120 [00:02<00:00, 49.57batch/s, loss=0.000147]\u001b[0m\n"
     ]
    },
    {
     "name": "stdout",
     "output_type": "stream",
     "text": [
      "\t Loss: 0.018,\tTrain : 100.00%(100.00%),\tTest : 98.29%(98.32%),\tCurrent Time: 20250721-112159\n"
     ]
    },
    {
     "name": "stderr",
     "output_type": "stream",
     "text": [
      "Epoch 39/50: 100%|\u001b[34m████████████████████\u001b[0m| 120/120 [00:02<00:00, 49.33batch/s, loss=0.000131]\u001b[0m\n"
     ]
    },
    {
     "name": "stdout",
     "output_type": "stream",
     "text": [
      "\t Loss: 0.016,\tTrain : 100.00%(100.00%),\tTest : 98.30%(98.32%),\tCurrent Time: 20250721-112201\n"
     ]
    },
    {
     "name": "stderr",
     "output_type": "stream",
     "text": [
      "Epoch 40/50: 100%|\u001b[34m████████████████████\u001b[0m| 120/120 [00:02<00:00, 49.06batch/s, loss=0.000124]\u001b[0m\n"
     ]
    },
    {
     "name": "stdout",
     "output_type": "stream",
     "text": [
      "\t Loss: 0.015,\tTrain : 100.00%(100.00%),\tTest : 98.29%(98.32%),\tCurrent Time: 20250721-112204\n"
     ]
    },
    {
     "name": "stderr",
     "output_type": "stream",
     "text": [
      "Epoch 41/50: 100%|\u001b[34m████████████████████\u001b[0m| 120/120 [00:02<00:00, 47.98batch/s, loss=0.000117]\u001b[0m\n"
     ]
    },
    {
     "name": "stdout",
     "output_type": "stream",
     "text": [
      "\t Loss: 0.014,\tTrain : 100.00%(100.00%),\tTest : 98.26%(98.32%),\tCurrent Time: 20250721-112207\n"
     ]
    },
    {
     "name": "stderr",
     "output_type": "stream",
     "text": [
      "Epoch 42/50: 100%|\u001b[34m████████████████████\u001b[0m| 120/120 [00:02<00:00, 48.33batch/s, loss=0.000107]\u001b[0m\n"
     ]
    },
    {
     "name": "stdout",
     "output_type": "stream",
     "text": [
      "\t Loss: 0.013,\tTrain : 100.00%(100.00%),\tTest : 98.23%(98.32%),\tCurrent Time: 20250721-112209\n"
     ]
    },
    {
     "name": "stderr",
     "output_type": "stream",
     "text": [
      "Epoch 43/50: 100%|\u001b[34m████████████████████\u001b[0m| 120/120 [00:02<00:00, 51.06batch/s, loss=0.000098]\u001b[0m\n"
     ]
    },
    {
     "name": "stdout",
     "output_type": "stream",
     "text": [
      "\t Loss: 0.012,\tTrain : 100.00%(100.00%),\tTest : 98.29%(98.32%),\tCurrent Time: 20250721-112212\n"
     ]
    },
    {
     "name": "stderr",
     "output_type": "stream",
     "text": [
      "Epoch 44/50: 100%|\u001b[34m████████████████████\u001b[0m| 120/120 [00:02<00:00, 47.01batch/s, loss=0.000093]\u001b[0m\n"
     ]
    },
    {
     "name": "stdout",
     "output_type": "stream",
     "text": [
      "\t Loss: 0.011,\tTrain : 100.00%(100.00%),\tTest : 98.24%(98.32%),\tCurrent Time: 20250721-112215\n"
     ]
    },
    {
     "name": "stderr",
     "output_type": "stream",
     "text": [
      "Epoch 45/50: 100%|\u001b[34m████████████████████\u001b[0m| 120/120 [00:02<00:00, 50.55batch/s, loss=0.000086]\u001b[0m\n"
     ]
    },
    {
     "name": "stdout",
     "output_type": "stream",
     "text": [
      "\t Loss: 0.010,\tTrain : 100.00%(100.00%),\tTest : 98.23%(98.32%),\tCurrent Time: 20250721-112217\n"
     ]
    },
    {
     "name": "stderr",
     "output_type": "stream",
     "text": [
      "Epoch 46/50: 100%|\u001b[34m████████████████████\u001b[0m| 120/120 [00:02<00:00, 48.93batch/s, loss=0.000083]\u001b[0m\n"
     ]
    },
    {
     "name": "stdout",
     "output_type": "stream",
     "text": [
      "\t Loss: 0.010,\tTrain : 100.00%(100.00%),\tTest : 98.24%(98.32%),\tCurrent Time: 20250721-112220\n"
     ]
    },
    {
     "name": "stderr",
     "output_type": "stream",
     "text": [
      "Epoch 47/50: 100%|\u001b[34m████████████████████\u001b[0m| 120/120 [00:02<00:00, 49.79batch/s, loss=0.080510]\u001b[0m\n"
     ]
    },
    {
     "name": "stdout",
     "output_type": "stream",
     "text": [
      "\t Loss: 9.504,\tTrain : 97.91%(100.00%),\tTest : 97.19%(98.32%),\tCurrent Time: 20250721-112222\n"
     ]
    },
    {
     "name": "stderr",
     "output_type": "stream",
     "text": [
      "Epoch 48/50: 100%|\u001b[34m████████████████████\u001b[0m| 120/120 [00:02<00:00, 48.50batch/s, loss=0.031582]\u001b[0m\n"
     ]
    },
    {
     "name": "stdout",
     "output_type": "stream",
     "text": [
      "\t Loss: 3.688,\tTrain : 98.98%(100.00%),\tTest : 97.89%(98.32%),\tCurrent Time: 20250721-112225\n"
     ]
    },
    {
     "name": "stderr",
     "output_type": "stream",
     "text": [
      "Epoch 49/50: 100%|\u001b[34m████████████████████\u001b[0m| 120/120 [00:02<00:00, 49.17batch/s, loss=0.010360]\u001b[0m\n"
     ]
    },
    {
     "name": "stdout",
     "output_type": "stream",
     "text": [
      "\t Loss: 1.236,\tTrain : 99.70%(100.00%),\tTest : 98.02%(98.32%),\tCurrent Time: 20250721-112228\n"
     ]
    },
    {
     "name": "stderr",
     "output_type": "stream",
     "text": [
      "Epoch 50/50: 100%|\u001b[34m████████████████████\u001b[0m| 120/120 [00:02<00:00, 49.44batch/s, loss=0.004751]\u001b[0m\n"
     ]
    },
    {
     "name": "stdout",
     "output_type": "stream",
     "text": [
      "\t Loss: 0.568,\tTrain : 99.89%(100.00%),\tTest : 98.26%(98.32%),\tCurrent Time: 20250721-112230\n",
      "EP_L3_MNIST_First_com_BP_FA_EP_512_t52-EP_b_scEP-s-EP_It2sta18- Time: 20250721-112230, Epochs: 50, Learning Rate: 0.001, Best: 100.00%  98.32%\n",
      "\n",
      "EP_L3_MNIST_First_com_BP_FA_EP_512_t52-EP_b_scEP-s-EP_It2sta18-\n"
     ]
    },
    {
     "name": "stderr",
     "output_type": "stream",
     "text": [
      "Epoch 1/50: 100%|\u001b[34m█████████████████████\u001b[0m| 120/120 [00:02<00:00, 51.53batch/s, loss=0.381545]\u001b[0m\n"
     ]
    },
    {
     "name": "stdout",
     "output_type": "stream",
     "text": [
      "\t Loss: 44.659,\tTrain : 88.94%(88.94%),\tTest : 93.80%(93.80%),\tCurrent Time: 20250721-112233\n"
     ]
    },
    {
     "name": "stderr",
     "output_type": "stream",
     "text": [
      "Epoch 2/50: 100%|\u001b[34m█████████████████████\u001b[0m| 120/120 [00:02<00:00, 49.06batch/s, loss=0.181460]\u001b[0m\n"
     ]
    },
    {
     "name": "stdout",
     "output_type": "stream",
     "text": [
      "\t Loss: 21.574,\tTrain : 94.66%(94.66%),\tTest : 95.12%(95.12%),\tCurrent Time: 20250721-112236\n"
     ]
    },
    {
     "name": "stderr",
     "output_type": "stream",
     "text": [
      "Epoch 3/50: 100%|\u001b[34m█████████████████████\u001b[0m| 120/120 [00:02<00:00, 50.08batch/s, loss=0.122372]\u001b[0m\n"
     ]
    },
    {
     "name": "stdout",
     "output_type": "stream",
     "text": [
      "\t Loss: 14.563,\tTrain : 96.35%(96.35%),\tTest : 96.65%(96.65%),\tCurrent Time: 20250721-112238\n"
     ]
    },
    {
     "name": "stderr",
     "output_type": "stream",
     "text": [
      "Epoch 4/50: 100%|\u001b[34m█████████████████████\u001b[0m| 120/120 [00:02<00:00, 48.69batch/s, loss=0.086517]\u001b[0m\n"
     ]
    },
    {
     "name": "stdout",
     "output_type": "stream",
     "text": [
      "\t Loss: 10.409,\tTrain : 97.37%(97.37%),\tTest : 97.32%(97.32%),\tCurrent Time: 20250721-112241\n"
     ]
    },
    {
     "name": "stderr",
     "output_type": "stream",
     "text": [
      "Epoch 5/50: 100%|\u001b[34m█████████████████████\u001b[0m| 120/120 [00:02<00:00, 46.91batch/s, loss=0.067149]\u001b[0m\n"
     ]
    },
    {
     "name": "stdout",
     "output_type": "stream",
     "text": [
      "\t Loss: 8.043,\tTrain : 97.92%(97.92%),\tTest : 97.54%(97.54%),\tCurrent Time: 20250721-112244\n"
     ]
    },
    {
     "name": "stderr",
     "output_type": "stream",
     "text": [
      "Epoch 6/50: 100%|\u001b[34m█████████████████████\u001b[0m| 120/120 [00:02<00:00, 47.54batch/s, loss=0.051832]\u001b[0m\n"
     ]
    },
    {
     "name": "stdout",
     "output_type": "stream",
     "text": [
      "\t Loss: 6.283,\tTrain : 98.44%(98.44%),\tTest : 97.63%(97.63%),\tCurrent Time: 20250721-112246\n"
     ]
    },
    {
     "name": "stderr",
     "output_type": "stream",
     "text": [
      "Epoch 7/50: 100%|\u001b[34m█████████████████████\u001b[0m| 120/120 [00:02<00:00, 46.85batch/s, loss=0.042092]\u001b[0m\n"
     ]
    },
    {
     "name": "stdout",
     "output_type": "stream",
     "text": [
      "\t Loss: 5.117,\tTrain : 98.76%(98.76%),\tTest : 97.75%(97.75%),\tCurrent Time: 20250721-112249\n"
     ]
    },
    {
     "name": "stderr",
     "output_type": "stream",
     "text": [
      "Epoch 8/50: 100%|\u001b[34m█████████████████████\u001b[0m| 120/120 [00:02<00:00, 50.51batch/s, loss=0.032629]\u001b[0m\n"
     ]
    },
    {
     "name": "stdout",
     "output_type": "stream",
     "text": [
      "\t Loss: 3.970,\tTrain : 99.06%(99.06%),\tTest : 97.81%(97.81%),\tCurrent Time: 20250721-112251\n"
     ]
    },
    {
     "name": "stderr",
     "output_type": "stream",
     "text": [
      "Epoch 9/50: 100%|\u001b[34m█████████████████████\u001b[0m| 120/120 [00:02<00:00, 48.16batch/s, loss=0.024856]\u001b[0m\n"
     ]
    },
    {
     "name": "stdout",
     "output_type": "stream",
     "text": [
      "\t Loss: 2.960,\tTrain : 99.33%(99.33%),\tTest : 98.00%(98.00%),\tCurrent Time: 20250721-112254\n"
     ]
    },
    {
     "name": "stderr",
     "output_type": "stream",
     "text": [
      "Epoch 10/50: 100%|\u001b[34m████████████████████\u001b[0m| 120/120 [00:02<00:00, 48.78batch/s, loss=0.019258]\u001b[0m\n"
     ]
    },
    {
     "name": "stdout",
     "output_type": "stream",
     "text": [
      "\t Loss: 2.385,\tTrain : 99.46%(99.46%),\tTest : 97.88%(98.00%),\tCurrent Time: 20250721-112257\n"
     ]
    },
    {
     "name": "stderr",
     "output_type": "stream",
     "text": [
      "Epoch 11/50: 100%|\u001b[34m████████████████████\u001b[0m| 120/120 [00:02<00:00, 49.14batch/s, loss=0.017665]\u001b[0m\n"
     ]
    },
    {
     "name": "stdout",
     "output_type": "stream",
     "text": [
      "\t Loss: 2.103,\tTrain : 99.51%(99.51%),\tTest : 97.94%(98.00%),\tCurrent Time: 20250721-112259\n"
     ]
    },
    {
     "name": "stderr",
     "output_type": "stream",
     "text": [
      "Epoch 12/50: 100%|\u001b[34m████████████████████\u001b[0m| 120/120 [00:02<00:00, 48.17batch/s, loss=0.012642]\u001b[0m\n"
     ]
    },
    {
     "name": "stdout",
     "output_type": "stream",
     "text": [
      "\t Loss: 1.499,\tTrain : 99.70%(99.70%),\tTest : 98.11%(98.11%),\tCurrent Time: 20250721-112302\n"
     ]
    },
    {
     "name": "stderr",
     "output_type": "stream",
     "text": [
      "Epoch 13/50: 100%|\u001b[34m████████████████████\u001b[0m| 120/120 [00:02<00:00, 49.41batch/s, loss=0.008146]\u001b[0m\n"
     ]
    },
    {
     "name": "stdout",
     "output_type": "stream",
     "text": [
      "\t Loss: 0.986,\tTrain : 99.84%(99.84%),\tTest : 98.00%(98.11%),\tCurrent Time: 20250721-112305\n"
     ]
    },
    {
     "name": "stderr",
     "output_type": "stream",
     "text": [
      "Epoch 14/50: 100%|\u001b[34m████████████████████\u001b[0m| 120/120 [00:02<00:00, 47.14batch/s, loss=0.006620]\u001b[0m\n"
     ]
    },
    {
     "name": "stdout",
     "output_type": "stream",
     "text": [
      "\t Loss: 0.796,\tTrain : 99.86%(99.86%),\tTest : 98.25%(98.25%),\tCurrent Time: 20250721-112307\n"
     ]
    },
    {
     "name": "stderr",
     "output_type": "stream",
     "text": [
      "Epoch 15/50: 100%|\u001b[34m████████████████████\u001b[0m| 120/120 [00:02<00:00, 48.01batch/s, loss=0.004030]\u001b[0m\n"
     ]
    },
    {
     "name": "stdout",
     "output_type": "stream",
     "text": [
      "\t Loss: 0.491,\tTrain : 99.94%(99.94%),\tTest : 98.18%(98.25%),\tCurrent Time: 20250721-112310\n"
     ]
    },
    {
     "name": "stderr",
     "output_type": "stream",
     "text": [
      "Epoch 16/50: 100%|\u001b[34m████████████████████\u001b[0m| 120/120 [00:02<00:00, 48.96batch/s, loss=0.002847]\u001b[0m\n"
     ]
    },
    {
     "name": "stdout",
     "output_type": "stream",
     "text": [
      "\t Loss: 0.342,\tTrain : 99.97%(99.97%),\tTest : 98.28%(98.28%),\tCurrent Time: 20250721-112313\n"
     ]
    },
    {
     "name": "stderr",
     "output_type": "stream",
     "text": [
      "Epoch 17/50: 100%|\u001b[34m████████████████████\u001b[0m| 120/120 [00:02<00:00, 49.53batch/s, loss=0.002005]\u001b[0m\n"
     ]
    },
    {
     "name": "stdout",
     "output_type": "stream",
     "text": [
      "\t Loss: 0.240,\tTrain : 99.99%(99.99%),\tTest : 98.36%(98.36%),\tCurrent Time: 20250721-112315\n"
     ]
    },
    {
     "name": "stderr",
     "output_type": "stream",
     "text": [
      "Epoch 18/50: 100%|\u001b[34m████████████████████\u001b[0m| 120/120 [00:02<00:00, 49.55batch/s, loss=0.001339]\u001b[0m\n"
     ]
    },
    {
     "name": "stdout",
     "output_type": "stream",
     "text": [
      "\t Loss: 0.162,\tTrain : 100.00%(100.00%),\tTest : 98.31%(98.36%),\tCurrent Time: 20250721-112318\n"
     ]
    },
    {
     "name": "stderr",
     "output_type": "stream",
     "text": [
      "Epoch 19/50: 100%|\u001b[34m████████████████████\u001b[0m| 120/120 [00:02<00:00, 48.01batch/s, loss=0.001093]\u001b[0m\n"
     ]
    },
    {
     "name": "stdout",
     "output_type": "stream",
     "text": [
      "\t Loss: 0.132,\tTrain : 100.00%(100.00%),\tTest : 98.26%(98.36%),\tCurrent Time: 20250721-112320\n"
     ]
    },
    {
     "name": "stderr",
     "output_type": "stream",
     "text": [
      "Epoch 20/50: 100%|\u001b[34m████████████████████\u001b[0m| 120/120 [00:02<00:00, 48.30batch/s, loss=0.000981]\u001b[0m\n"
     ]
    },
    {
     "name": "stdout",
     "output_type": "stream",
     "text": [
      "\t Loss: 0.119,\tTrain : 100.00%(100.00%),\tTest : 98.24%(98.36%),\tCurrent Time: 20250721-112323\n"
     ]
    },
    {
     "name": "stderr",
     "output_type": "stream",
     "text": [
      "Epoch 21/50: 100%|\u001b[34m████████████████████\u001b[0m| 120/120 [00:02<00:00, 49.69batch/s, loss=0.000860]\u001b[0m\n"
     ]
    },
    {
     "name": "stdout",
     "output_type": "stream",
     "text": [
      "\t Loss: 0.103,\tTrain : 100.00%(100.00%),\tTest : 98.29%(98.36%),\tCurrent Time: 20250721-112326\n"
     ]
    },
    {
     "name": "stderr",
     "output_type": "stream",
     "text": [
      "Epoch 22/50: 100%|\u001b[34m████████████████████\u001b[0m| 120/120 [00:02<00:00, 50.91batch/s, loss=0.000648]\u001b[0m\n"
     ]
    },
    {
     "name": "stdout",
     "output_type": "stream",
     "text": [
      "\t Loss: 0.078,\tTrain : 100.00%(100.00%),\tTest : 98.26%(98.36%),\tCurrent Time: 20250721-112328\n"
     ]
    },
    {
     "name": "stderr",
     "output_type": "stream",
     "text": [
      "Epoch 23/50: 100%|\u001b[34m████████████████████\u001b[0m| 120/120 [00:02<00:00, 49.48batch/s, loss=0.000714]\u001b[0m\n"
     ]
    },
    {
     "name": "stdout",
     "output_type": "stream",
     "text": [
      "\t Loss: 0.086,\tTrain : 100.00%(100.00%),\tTest : 98.26%(98.36%),\tCurrent Time: 20250721-112331\n"
     ]
    },
    {
     "name": "stderr",
     "output_type": "stream",
     "text": [
      "Epoch 24/50: 100%|\u001b[34m████████████████████\u001b[0m| 120/120 [00:02<00:00, 47.27batch/s, loss=0.000559]\u001b[0m\n"
     ]
    },
    {
     "name": "stdout",
     "output_type": "stream",
     "text": [
      "\t Loss: 0.067,\tTrain : 100.00%(100.00%),\tTest : 98.27%(98.36%),\tCurrent Time: 20250721-112333\n"
     ]
    },
    {
     "name": "stderr",
     "output_type": "stream",
     "text": [
      "Epoch 25/50: 100%|\u001b[34m████████████████████\u001b[0m| 120/120 [00:02<00:00, 48.40batch/s, loss=0.000450]\u001b[0m\n"
     ]
    },
    {
     "name": "stdout",
     "output_type": "stream",
     "text": [
      "\t Loss: 0.054,\tTrain : 100.00%(100.00%),\tTest : 98.26%(98.36%),\tCurrent Time: 20250721-112336\n"
     ]
    },
    {
     "name": "stderr",
     "output_type": "stream",
     "text": [
      "Epoch 26/50: 100%|\u001b[34m████████████████████\u001b[0m| 120/120 [00:02<00:00, 48.91batch/s, loss=0.000387]\u001b[0m\n"
     ]
    },
    {
     "name": "stdout",
     "output_type": "stream",
     "text": [
      "\t Loss: 0.048,\tTrain : 100.00%(100.00%),\tTest : 98.26%(98.36%),\tCurrent Time: 20250721-112339\n"
     ]
    },
    {
     "name": "stderr",
     "output_type": "stream",
     "text": [
      "Epoch 27/50: 100%|\u001b[34m████████████████████\u001b[0m| 120/120 [00:02<00:00, 48.93batch/s, loss=0.000355]\u001b[0m\n"
     ]
    },
    {
     "name": "stdout",
     "output_type": "stream",
     "text": [
      "\t Loss: 0.043,\tTrain : 100.00%(100.00%),\tTest : 98.25%(98.36%),\tCurrent Time: 20250721-112341\n"
     ]
    },
    {
     "name": "stderr",
     "output_type": "stream",
     "text": [
      "Epoch 28/50: 100%|\u001b[34m████████████████████\u001b[0m| 120/120 [00:02<00:00, 48.28batch/s, loss=0.000321]\u001b[0m\n"
     ]
    },
    {
     "name": "stdout",
     "output_type": "stream",
     "text": [
      "\t Loss: 0.038,\tTrain : 100.00%(100.00%),\tTest : 98.22%(98.36%),\tCurrent Time: 20250721-112344\n"
     ]
    },
    {
     "name": "stderr",
     "output_type": "stream",
     "text": [
      "Epoch 29/50: 100%|\u001b[34m████████████████████\u001b[0m| 120/120 [00:02<00:00, 49.70batch/s, loss=0.000297]\u001b[0m\n"
     ]
    },
    {
     "name": "stdout",
     "output_type": "stream",
     "text": [
      "\t Loss: 0.036,\tTrain : 100.00%(100.00%),\tTest : 98.26%(98.36%),\tCurrent Time: 20250721-112346\n"
     ]
    },
    {
     "name": "stderr",
     "output_type": "stream",
     "text": [
      "Epoch 30/50: 100%|\u001b[34m████████████████████\u001b[0m| 120/120 [00:02<00:00, 50.05batch/s, loss=0.000287]\u001b[0m\n"
     ]
    },
    {
     "name": "stdout",
     "output_type": "stream",
     "text": [
      "\t Loss: 0.034,\tTrain : 100.00%(100.00%),\tTest : 98.26%(98.36%),\tCurrent Time: 20250721-112349\n"
     ]
    },
    {
     "name": "stderr",
     "output_type": "stream",
     "text": [
      "Epoch 31/50: 100%|\u001b[34m████████████████████\u001b[0m| 120/120 [00:02<00:00, 50.81batch/s, loss=0.000253]\u001b[0m\n"
     ]
    },
    {
     "name": "stdout",
     "output_type": "stream",
     "text": [
      "\t Loss: 0.030,\tTrain : 100.00%(100.00%),\tTest : 98.26%(98.36%),\tCurrent Time: 20250721-112352\n"
     ]
    },
    {
     "name": "stderr",
     "output_type": "stream",
     "text": [
      "Epoch 32/50: 100%|\u001b[34m████████████████████\u001b[0m| 120/120 [00:02<00:00, 49.09batch/s, loss=0.056507]\u001b[0m\n"
     ]
    },
    {
     "name": "stdout",
     "output_type": "stream",
     "text": [
      "\t Loss: 6.890,\tTrain : 98.51%(100.00%),\tTest : 97.21%(98.36%),\tCurrent Time: 20250721-112354\n"
     ]
    },
    {
     "name": "stderr",
     "output_type": "stream",
     "text": [
      "Epoch 33/50: 100%|\u001b[34m████████████████████\u001b[0m| 120/120 [00:02<00:00, 48.69batch/s, loss=0.030216]\u001b[0m\n"
     ]
    },
    {
     "name": "stdout",
     "output_type": "stream",
     "text": [
      "\t Loss: 3.550,\tTrain : 99.01%(100.00%),\tTest : 97.76%(98.36%),\tCurrent Time: 20250721-112357\n"
     ]
    },
    {
     "name": "stderr",
     "output_type": "stream",
     "text": [
      "Epoch 34/50: 100%|\u001b[34m████████████████████\u001b[0m| 120/120 [00:02<00:00, 48.49batch/s, loss=0.008072]\u001b[0m\n"
     ]
    },
    {
     "name": "stdout",
     "output_type": "stream",
     "text": [
      "\t Loss: 0.949,\tTrain : 99.80%(100.00%),\tTest : 98.09%(98.36%),\tCurrent Time: 20250721-112359\n"
     ]
    },
    {
     "name": "stderr",
     "output_type": "stream",
     "text": [
      "Epoch 35/50: 100%|\u001b[34m████████████████████\u001b[0m| 120/120 [00:02<00:00, 48.71batch/s, loss=0.002406]\u001b[0m\n"
     ]
    },
    {
     "name": "stdout",
     "output_type": "stream",
     "text": [
      "\t Loss: 0.289,\tTrain : 99.98%(100.00%),\tTest : 98.31%(98.36%),\tCurrent Time: 20250721-112402\n"
     ]
    },
    {
     "name": "stderr",
     "output_type": "stream",
     "text": [
      "Epoch 36/50: 100%|\u001b[34m████████████████████\u001b[0m| 120/120 [00:02<00:00, 50.35batch/s, loss=0.000991]\u001b[0m\n"
     ]
    },
    {
     "name": "stdout",
     "output_type": "stream",
     "text": [
      "\t Loss: 0.121,\tTrain : 100.00%(100.00%),\tTest : 98.28%(98.36%),\tCurrent Time: 20250721-112405\n"
     ]
    },
    {
     "name": "stderr",
     "output_type": "stream",
     "text": [
      "Epoch 37/50: 100%|\u001b[34m████████████████████\u001b[0m| 120/120 [00:02<00:00, 47.83batch/s, loss=0.000699]\u001b[0m\n"
     ]
    },
    {
     "name": "stdout",
     "output_type": "stream",
     "text": [
      "\t Loss: 0.084,\tTrain : 100.00%(100.00%),\tTest : 98.25%(98.36%),\tCurrent Time: 20250721-112407\n"
     ]
    },
    {
     "name": "stderr",
     "output_type": "stream",
     "text": [
      "Epoch 38/50: 100%|\u001b[34m████████████████████\u001b[0m| 120/120 [00:02<00:00, 49.87batch/s, loss=0.000570]\u001b[0m\n"
     ]
    },
    {
     "name": "stdout",
     "output_type": "stream",
     "text": [
      "\t Loss: 0.070,\tTrain : 100.00%(100.00%),\tTest : 98.29%(98.36%),\tCurrent Time: 20250721-112410\n"
     ]
    },
    {
     "name": "stderr",
     "output_type": "stream",
     "text": [
      "Epoch 39/50: 100%|\u001b[34m████████████████████\u001b[0m| 120/120 [00:02<00:00, 50.48batch/s, loss=0.000504]\u001b[0m\n"
     ]
    },
    {
     "name": "stdout",
     "output_type": "stream",
     "text": [
      "\t Loss: 0.060,\tTrain : 100.00%(100.00%),\tTest : 98.22%(98.36%),\tCurrent Time: 20250721-112412\n"
     ]
    },
    {
     "name": "stderr",
     "output_type": "stream",
     "text": [
      "Epoch 40/50: 100%|\u001b[34m████████████████████\u001b[0m| 120/120 [00:02<00:00, 50.69batch/s, loss=0.000450]\u001b[0m\n"
     ]
    },
    {
     "name": "stdout",
     "output_type": "stream",
     "text": [
      "\t Loss: 0.054,\tTrain : 100.00%(100.00%),\tTest : 98.22%(98.36%),\tCurrent Time: 20250721-112415\n"
     ]
    },
    {
     "name": "stderr",
     "output_type": "stream",
     "text": [
      "Epoch 41/50: 100%|\u001b[34m████████████████████\u001b[0m| 120/120 [00:02<00:00, 50.38batch/s, loss=0.000405]\u001b[0m\n"
     ]
    },
    {
     "name": "stdout",
     "output_type": "stream",
     "text": [
      "\t Loss: 0.049,\tTrain : 100.00%(100.00%),\tTest : 98.22%(98.36%),\tCurrent Time: 20250721-112417\n"
     ]
    },
    {
     "name": "stderr",
     "output_type": "stream",
     "text": [
      "Epoch 42/50: 100%|\u001b[34m████████████████████\u001b[0m| 120/120 [00:02<00:00, 49.72batch/s, loss=0.000389]\u001b[0m\n"
     ]
    },
    {
     "name": "stdout",
     "output_type": "stream",
     "text": [
      "\t Loss: 0.047,\tTrain : 100.00%(100.00%),\tTest : 98.20%(98.36%),\tCurrent Time: 20250721-112420\n"
     ]
    },
    {
     "name": "stderr",
     "output_type": "stream",
     "text": [
      "Epoch 43/50: 100%|\u001b[34m████████████████████\u001b[0m| 120/120 [00:02<00:00, 49.40batch/s, loss=0.000355]\u001b[0m\n"
     ]
    },
    {
     "name": "stdout",
     "output_type": "stream",
     "text": [
      "\t Loss: 0.043,\tTrain : 100.00%(100.00%),\tTest : 98.18%(98.36%),\tCurrent Time: 20250721-112423\n"
     ]
    },
    {
     "name": "stderr",
     "output_type": "stream",
     "text": [
      "Epoch 44/50: 100%|\u001b[34m████████████████████\u001b[0m| 120/120 [00:02<00:00, 48.61batch/s, loss=0.000320]\u001b[0m\n"
     ]
    },
    {
     "name": "stdout",
     "output_type": "stream",
     "text": [
      "\t Loss: 0.039,\tTrain : 100.00%(100.00%),\tTest : 98.16%(98.36%),\tCurrent Time: 20250721-112425\n"
     ]
    },
    {
     "name": "stderr",
     "output_type": "stream",
     "text": [
      "Epoch 45/50: 100%|\u001b[34m████████████████████\u001b[0m| 120/120 [00:02<00:00, 49.74batch/s, loss=0.000297]\u001b[0m\n"
     ]
    },
    {
     "name": "stdout",
     "output_type": "stream",
     "text": [
      "\t Loss: 0.036,\tTrain : 100.00%(100.00%),\tTest : 98.16%(98.36%),\tCurrent Time: 20250721-112428\n"
     ]
    },
    {
     "name": "stderr",
     "output_type": "stream",
     "text": [
      "Epoch 46/50: 100%|\u001b[34m████████████████████\u001b[0m| 120/120 [00:02<00:00, 47.89batch/s, loss=0.000273]\u001b[0m\n"
     ]
    },
    {
     "name": "stdout",
     "output_type": "stream",
     "text": [
      "\t Loss: 0.033,\tTrain : 100.00%(100.00%),\tTest : 98.15%(98.36%),\tCurrent Time: 20250721-112430\n"
     ]
    },
    {
     "name": "stderr",
     "output_type": "stream",
     "text": [
      "Epoch 47/50: 100%|\u001b[34m████████████████████\u001b[0m| 120/120 [00:02<00:00, 49.06batch/s, loss=0.000258]\u001b[0m\n"
     ]
    },
    {
     "name": "stdout",
     "output_type": "stream",
     "text": [
      "\t Loss: 0.031,\tTrain : 100.00%(100.00%),\tTest : 98.11%(98.36%),\tCurrent Time: 20250721-112433\n"
     ]
    },
    {
     "name": "stderr",
     "output_type": "stream",
     "text": [
      "Epoch 48/50: 100%|\u001b[34m████████████████████\u001b[0m| 120/120 [00:02<00:00, 49.77batch/s, loss=0.000239]\u001b[0m\n"
     ]
    },
    {
     "name": "stdout",
     "output_type": "stream",
     "text": [
      "\t Loss: 0.028,\tTrain : 100.00%(100.00%),\tTest : 98.10%(98.36%),\tCurrent Time: 20250721-112436\n"
     ]
    },
    {
     "name": "stderr",
     "output_type": "stream",
     "text": [
      "Epoch 49/50: 100%|\u001b[34m████████████████████\u001b[0m| 120/120 [00:02<00:00, 51.22batch/s, loss=0.000226]\u001b[0m\n"
     ]
    },
    {
     "name": "stdout",
     "output_type": "stream",
     "text": [
      "\t Loss: 0.027,\tTrain : 100.00%(100.00%),\tTest : 98.08%(98.36%),\tCurrent Time: 20250721-112438\n"
     ]
    },
    {
     "name": "stderr",
     "output_type": "stream",
     "text": [
      "Epoch 50/50: 100%|\u001b[34m████████████████████\u001b[0m| 120/120 [00:02<00:00, 49.09batch/s, loss=0.000205]\u001b[0m\n"
     ]
    },
    {
     "name": "stdout",
     "output_type": "stream",
     "text": [
      "\t Loss: 0.025,\tTrain : 100.00%(100.00%),\tTest : 98.12%(98.36%),\tCurrent Time: 20250721-112441\n",
      "EP_L3_MNIST_First_com_BP_FA_EP_512_t52-EP_b_scEP-s-EP_It2sta18- Time: 20250721-112441, Epochs: 50, Learning Rate: 0.001, Best: 100.00%  98.36%\n",
      "\n",
      "EP_L2_MNIST_First_com_BP_FA_EP_512_t52-EP_b_scEP-s-EP_It2sta10-\n"
     ]
    },
    {
     "name": "stderr",
     "output_type": "stream",
     "text": [
      "Epoch 1/50: 100%|\u001b[34m████████████████████\u001b[0m| 120/120 [00:01<00:00, 104.05batch/s, loss=0.377282]\u001b[0m\n"
     ]
    },
    {
     "name": "stdout",
     "output_type": "stream",
     "text": [
      "\t Loss: 44.219,\tTrain : 88.97%(88.97%),\tTest : 93.87%(93.87%),\tCurrent Time: 20250721-112442\n"
     ]
    },
    {
     "name": "stderr",
     "output_type": "stream",
     "text": [
      "Epoch 2/50: 100%|\u001b[34m█████████████████████\u001b[0m| 120/120 [00:01<00:00, 97.20batch/s, loss=0.195060]\u001b[0m\n"
     ]
    },
    {
     "name": "stdout",
     "output_type": "stream",
     "text": [
      "\t Loss: 23.183,\tTrain : 94.47%(94.47%),\tTest : 95.39%(95.39%),\tCurrent Time: 20250721-112443\n"
     ]
    },
    {
     "name": "stderr",
     "output_type": "stream",
     "text": [
      "Epoch 3/50: 100%|\u001b[34m████████████████████\u001b[0m| 120/120 [00:01<00:00, 104.54batch/s, loss=0.135679]\u001b[0m\n"
     ]
    },
    {
     "name": "stdout",
     "output_type": "stream",
     "text": [
      "\t Loss: 16.138,\tTrain : 96.07%(96.07%),\tTest : 96.53%(96.53%),\tCurrent Time: 20250721-112445\n"
     ]
    },
    {
     "name": "stderr",
     "output_type": "stream",
     "text": [
      "Epoch 4/50: 100%|\u001b[34m████████████████████\u001b[0m| 120/120 [00:01<00:00, 106.70batch/s, loss=0.101716]\u001b[0m\n"
     ]
    },
    {
     "name": "stdout",
     "output_type": "stream",
     "text": [
      "\t Loss: 12.091,\tTrain : 97.00%(97.00%),\tTest : 96.86%(96.86%),\tCurrent Time: 20250721-112446\n"
     ]
    },
    {
     "name": "stderr",
     "output_type": "stream",
     "text": [
      "Epoch 5/50: 100%|\u001b[34m████████████████████\u001b[0m| 120/120 [00:01<00:00, 102.54batch/s, loss=0.077890]\u001b[0m\n"
     ]
    },
    {
     "name": "stdout",
     "output_type": "stream",
     "text": [
      "\t Loss: 9.303,\tTrain : 97.70%(97.70%),\tTest : 97.19%(97.19%),\tCurrent Time: 20250721-112447\n"
     ]
    },
    {
     "name": "stderr",
     "output_type": "stream",
     "text": [
      "Epoch 6/50: 100%|\u001b[34m█████████████████████\u001b[0m| 120/120 [00:01<00:00, 93.68batch/s, loss=0.061403]\u001b[0m\n"
     ]
    },
    {
     "name": "stdout",
     "output_type": "stream",
     "text": [
      "\t Loss: 7.421,\tTrain : 98.20%(98.20%),\tTest : 97.29%(97.29%),\tCurrent Time: 20250721-112448\n"
     ]
    },
    {
     "name": "stderr",
     "output_type": "stream",
     "text": [
      "Epoch 7/50: 100%|\u001b[34m████████████████████\u001b[0m| 120/120 [00:01<00:00, 101.16batch/s, loss=0.050610]\u001b[0m\n"
     ]
    },
    {
     "name": "stdout",
     "output_type": "stream",
     "text": [
      "\t Loss: 6.009,\tTrain : 98.47%(98.47%),\tTest : 97.63%(97.63%),\tCurrent Time: 20250721-112450\n"
     ]
    },
    {
     "name": "stderr",
     "output_type": "stream",
     "text": [
      "Epoch 8/50: 100%|\u001b[34m████████████████████\u001b[0m| 120/120 [00:01<00:00, 103.16batch/s, loss=0.040035]\u001b[0m\n"
     ]
    },
    {
     "name": "stdout",
     "output_type": "stream",
     "text": [
      "\t Loss: 4.827,\tTrain : 98.85%(98.85%),\tTest : 97.73%(97.73%),\tCurrent Time: 20250721-112451\n"
     ]
    },
    {
     "name": "stderr",
     "output_type": "stream",
     "text": [
      "Epoch 9/50: 100%|\u001b[34m█████████████████████\u001b[0m| 120/120 [00:01<00:00, 90.31batch/s, loss=0.032766]\u001b[0m\n"
     ]
    },
    {
     "name": "stdout",
     "output_type": "stream",
     "text": [
      "\t Loss: 3.952,\tTrain : 99.08%(99.08%),\tTest : 97.71%(97.73%),\tCurrent Time: 20250721-112452\n"
     ]
    },
    {
     "name": "stderr",
     "output_type": "stream",
     "text": [
      "Epoch 10/50: 100%|\u001b[34m████████████████████\u001b[0m| 120/120 [00:01<00:00, 94.36batch/s, loss=0.026339]\u001b[0m\n"
     ]
    },
    {
     "name": "stdout",
     "output_type": "stream",
     "text": [
      "\t Loss: 3.178,\tTrain : 99.26%(99.26%),\tTest : 97.90%(97.90%),\tCurrent Time: 20250721-112453\n"
     ]
    },
    {
     "name": "stderr",
     "output_type": "stream",
     "text": [
      "Epoch 11/50: 100%|\u001b[34m████████████████████\u001b[0m| 120/120 [00:01<00:00, 97.32batch/s, loss=0.020052]\u001b[0m\n"
     ]
    },
    {
     "name": "stdout",
     "output_type": "stream",
     "text": [
      "\t Loss: 2.434,\tTrain : 99.50%(99.50%),\tTest : 97.86%(97.90%),\tCurrent Time: 20250721-112455\n"
     ]
    },
    {
     "name": "stderr",
     "output_type": "stream",
     "text": [
      "Epoch 12/50: 100%|\u001b[34m████████████████████\u001b[0m| 120/120 [00:01<00:00, 99.00batch/s, loss=0.016357]\u001b[0m\n"
     ]
    },
    {
     "name": "stdout",
     "output_type": "stream",
     "text": [
      "\t Loss: 1.987,\tTrain : 99.61%(99.61%),\tTest : 97.85%(97.90%),\tCurrent Time: 20250721-112456\n"
     ]
    },
    {
     "name": "stderr",
     "output_type": "stream",
     "text": [
      "Epoch 13/50: 100%|\u001b[34m████████████████████\u001b[0m| 120/120 [00:01<00:00, 99.62batch/s, loss=0.012970]\u001b[0m\n"
     ]
    },
    {
     "name": "stdout",
     "output_type": "stream",
     "text": [
      "\t Loss: 1.592,\tTrain : 99.75%(99.75%),\tTest : 97.75%(97.90%),\tCurrent Time: 20250721-112457\n"
     ]
    },
    {
     "name": "stderr",
     "output_type": "stream",
     "text": [
      "Epoch 14/50: 100%|\u001b[34m███████████████████\u001b[0m| 120/120 [00:01<00:00, 104.63batch/s, loss=0.011715]\u001b[0m\n"
     ]
    },
    {
     "name": "stdout",
     "output_type": "stream",
     "text": [
      "\t Loss: 1.387,\tTrain : 99.75%(99.75%),\tTest : 97.85%(97.90%),\tCurrent Time: 20250721-112458\n"
     ]
    },
    {
     "name": "stderr",
     "output_type": "stream",
     "text": [
      "Epoch 15/50: 100%|\u001b[34m████████████████████\u001b[0m| 120/120 [00:01<00:00, 95.88batch/s, loss=0.008826]\u001b[0m\n"
     ]
    },
    {
     "name": "stdout",
     "output_type": "stream",
     "text": [
      "\t Loss: 1.060,\tTrain : 99.86%(99.86%),\tTest : 98.11%(98.11%),\tCurrent Time: 20250721-112500\n"
     ]
    },
    {
     "name": "stderr",
     "output_type": "stream",
     "text": [
      "Epoch 16/50: 100%|\u001b[34m███████████████████\u001b[0m| 120/120 [00:01<00:00, 104.51batch/s, loss=0.006675]\u001b[0m\n"
     ]
    },
    {
     "name": "stdout",
     "output_type": "stream",
     "text": [
      "\t Loss: 0.816,\tTrain : 99.91%(99.91%),\tTest : 98.16%(98.16%),\tCurrent Time: 20250721-112501\n"
     ]
    },
    {
     "name": "stderr",
     "output_type": "stream",
     "text": [
      "Epoch 17/50: 100%|\u001b[34m████████████████████\u001b[0m| 120/120 [00:01<00:00, 98.25batch/s, loss=0.005473]\u001b[0m\n"
     ]
    },
    {
     "name": "stdout",
     "output_type": "stream",
     "text": [
      "\t Loss: 0.665,\tTrain : 99.94%(99.94%),\tTest : 98.17%(98.17%),\tCurrent Time: 20250721-112502\n"
     ]
    },
    {
     "name": "stderr",
     "output_type": "stream",
     "text": [
      "Epoch 18/50: 100%|\u001b[34m███████████████████\u001b[0m| 120/120 [00:01<00:00, 101.88batch/s, loss=0.004393]\u001b[0m\n"
     ]
    },
    {
     "name": "stdout",
     "output_type": "stream",
     "text": [
      "\t Loss: 0.537,\tTrain : 99.96%(99.96%),\tTest : 98.00%(98.17%),\tCurrent Time: 20250721-112503\n"
     ]
    },
    {
     "name": "stderr",
     "output_type": "stream",
     "text": [
      "Epoch 19/50: 100%|\u001b[34m███████████████████\u001b[0m| 120/120 [00:01<00:00, 102.85batch/s, loss=0.003445]\u001b[0m\n"
     ]
    },
    {
     "name": "stdout",
     "output_type": "stream",
     "text": [
      "\t Loss: 0.422,\tTrain : 99.97%(99.97%),\tTest : 98.10%(98.17%),\tCurrent Time: 20250721-112505\n"
     ]
    },
    {
     "name": "stderr",
     "output_type": "stream",
     "text": [
      "Epoch 20/50: 100%|\u001b[34m███████████████████\u001b[0m| 120/120 [00:01<00:00, 100.97batch/s, loss=0.003067]\u001b[0m\n"
     ]
    },
    {
     "name": "stdout",
     "output_type": "stream",
     "text": [
      "\t Loss: 0.371,\tTrain : 99.98%(99.98%),\tTest : 98.10%(98.17%),\tCurrent Time: 20250721-112506\n"
     ]
    },
    {
     "name": "stderr",
     "output_type": "stream",
     "text": [
      "Epoch 21/50: 100%|\u001b[34m███████████████████\u001b[0m| 120/120 [00:01<00:00, 105.31batch/s, loss=0.002411]\u001b[0m\n"
     ]
    },
    {
     "name": "stdout",
     "output_type": "stream",
     "text": [
      "\t Loss: 0.307,\tTrain : 99.99%(99.99%),\tTest : 98.17%(98.17%),\tCurrent Time: 20250721-112507\n"
     ]
    },
    {
     "name": "stderr",
     "output_type": "stream",
     "text": [
      "Epoch 22/50: 100%|\u001b[34m████████████████████\u001b[0m| 120/120 [00:01<00:00, 95.52batch/s, loss=0.002477]\u001b[0m\n"
     ]
    },
    {
     "name": "stdout",
     "output_type": "stream",
     "text": [
      "\t Loss: 0.300,\tTrain : 99.99%(99.99%),\tTest : 98.22%(98.22%),\tCurrent Time: 20250721-112508\n"
     ]
    },
    {
     "name": "stderr",
     "output_type": "stream",
     "text": [
      "Epoch 23/50: 100%|\u001b[34m███████████████████\u001b[0m| 120/120 [00:01<00:00, 105.23batch/s, loss=0.003551]\u001b[0m\n"
     ]
    },
    {
     "name": "stdout",
     "output_type": "stream",
     "text": [
      "\t Loss: 0.466,\tTrain : 99.91%(99.99%),\tTest : 97.98%(98.22%),\tCurrent Time: 20250721-112510\n"
     ]
    },
    {
     "name": "stderr",
     "output_type": "stream",
     "text": [
      "Epoch 24/50: 100%|\u001b[34m███████████████████\u001b[0m| 120/120 [00:01<00:00, 103.72batch/s, loss=0.004186]\u001b[0m\n"
     ]
    },
    {
     "name": "stdout",
     "output_type": "stream",
     "text": [
      "\t Loss: 0.529,\tTrain : 99.91%(99.99%),\tTest : 98.11%(98.22%),\tCurrent Time: 20250721-112511\n"
     ]
    },
    {
     "name": "stderr",
     "output_type": "stream",
     "text": [
      "Epoch 25/50: 100%|\u001b[34m████████████████████\u001b[0m| 120/120 [00:01<00:00, 94.32batch/s, loss=0.005423]\u001b[0m\n"
     ]
    },
    {
     "name": "stdout",
     "output_type": "stream",
     "text": [
      "\t Loss: 0.645,\tTrain : 99.87%(99.99%),\tTest : 97.92%(98.22%),\tCurrent Time: 20250721-112512\n"
     ]
    },
    {
     "name": "stderr",
     "output_type": "stream",
     "text": [
      "Epoch 26/50: 100%|\u001b[34m███████████████████\u001b[0m| 120/120 [00:01<00:00, 101.06batch/s, loss=0.005128]\u001b[0m\n"
     ]
    },
    {
     "name": "stdout",
     "output_type": "stream",
     "text": [
      "\t Loss: 0.612,\tTrain : 99.88%(99.99%),\tTest : 98.04%(98.22%),\tCurrent Time: 20250721-112513\n"
     ]
    },
    {
     "name": "stderr",
     "output_type": "stream",
     "text": [
      "Epoch 27/50: 100%|\u001b[34m███████████████████\u001b[0m| 120/120 [00:01<00:00, 102.48batch/s, loss=0.004428]\u001b[0m\n"
     ]
    },
    {
     "name": "stdout",
     "output_type": "stream",
     "text": [
      "\t Loss: 0.547,\tTrain : 99.89%(99.99%),\tTest : 97.98%(98.22%),\tCurrent Time: 20250721-112515\n"
     ]
    },
    {
     "name": "stderr",
     "output_type": "stream",
     "text": [
      "Epoch 28/50: 100%|\u001b[34m████████████████████\u001b[0m| 120/120 [00:01<00:00, 93.14batch/s, loss=0.002611]\u001b[0m\n"
     ]
    },
    {
     "name": "stdout",
     "output_type": "stream",
     "text": [
      "\t Loss: 0.315,\tTrain : 99.97%(99.99%),\tTest : 98.21%(98.22%),\tCurrent Time: 20250721-112516\n"
     ]
    },
    {
     "name": "stderr",
     "output_type": "stream",
     "text": [
      "Epoch 29/50: 100%|\u001b[34m████████████████████\u001b[0m| 120/120 [00:01<00:00, 97.64batch/s, loss=0.001343]\u001b[0m\n"
     ]
    },
    {
     "name": "stdout",
     "output_type": "stream",
     "text": [
      "\t Loss: 0.159,\tTrain : 99.99%(99.99%),\tTest : 98.27%(98.27%),\tCurrent Time: 20250721-112517\n"
     ]
    },
    {
     "name": "stderr",
     "output_type": "stream",
     "text": [
      "Epoch 30/50: 100%|\u001b[34m████████████████████\u001b[0m| 120/120 [00:01<00:00, 98.50batch/s, loss=0.000645]\u001b[0m\n"
     ]
    },
    {
     "name": "stdout",
     "output_type": "stream",
     "text": [
      "\t Loss: 0.079,\tTrain : 100.00%(100.00%),\tTest : 98.21%(98.27%),\tCurrent Time: 20250721-112518\n"
     ]
    },
    {
     "name": "stderr",
     "output_type": "stream",
     "text": [
      "Epoch 31/50: 100%|\u001b[34m████████████████████\u001b[0m| 120/120 [00:01<00:00, 99.82batch/s, loss=0.000641]\u001b[0m\n"
     ]
    },
    {
     "name": "stdout",
     "output_type": "stream",
     "text": [
      "\t Loss: 0.078,\tTrain : 100.00%(100.00%),\tTest : 98.16%(98.27%),\tCurrent Time: 20250721-112520\n"
     ]
    },
    {
     "name": "stderr",
     "output_type": "stream",
     "text": [
      "Epoch 32/50: 100%|\u001b[34m███████████████████\u001b[0m| 120/120 [00:01<00:00, 104.31batch/s, loss=0.000613]\u001b[0m\n"
     ]
    },
    {
     "name": "stdout",
     "output_type": "stream",
     "text": [
      "\t Loss: 0.074,\tTrain : 100.00%(100.00%),\tTest : 98.13%(98.27%),\tCurrent Time: 20250721-112521\n"
     ]
    },
    {
     "name": "stderr",
     "output_type": "stream",
     "text": [
      "Epoch 33/50: 100%|\u001b[34m████████████████████\u001b[0m| 120/120 [00:01<00:00, 99.03batch/s, loss=0.000606]\u001b[0m\n"
     ]
    },
    {
     "name": "stdout",
     "output_type": "stream",
     "text": [
      "\t Loss: 0.074,\tTrain : 100.00%(100.00%),\tTest : 98.16%(98.27%),\tCurrent Time: 20250721-112522\n"
     ]
    },
    {
     "name": "stderr",
     "output_type": "stream",
     "text": [
      "Epoch 34/50: 100%|\u001b[34m████████████████████\u001b[0m| 120/120 [00:01<00:00, 91.34batch/s, loss=0.000588]\u001b[0m\n"
     ]
    },
    {
     "name": "stdout",
     "output_type": "stream",
     "text": [
      "\t Loss: 0.071,\tTrain : 100.00%(100.00%),\tTest : 98.21%(98.27%),\tCurrent Time: 20250721-112523\n"
     ]
    },
    {
     "name": "stderr",
     "output_type": "stream",
     "text": [
      "Epoch 35/50: 100%|\u001b[34m████████████████████\u001b[0m| 120/120 [00:01<00:00, 98.90batch/s, loss=0.000565]\u001b[0m\n"
     ]
    },
    {
     "name": "stdout",
     "output_type": "stream",
     "text": [
      "\t Loss: 0.069,\tTrain : 100.00%(100.00%),\tTest : 98.16%(98.27%),\tCurrent Time: 20250721-112525\n"
     ]
    },
    {
     "name": "stderr",
     "output_type": "stream",
     "text": [
      "Epoch 36/50: 100%|\u001b[34m████████████████████\u001b[0m| 120/120 [00:01<00:00, 96.04batch/s, loss=0.000549]\u001b[0m\n"
     ]
    },
    {
     "name": "stdout",
     "output_type": "stream",
     "text": [
      "\t Loss: 0.068,\tTrain : 100.00%(100.00%),\tTest : 98.14%(98.27%),\tCurrent Time: 20250721-112526\n"
     ]
    },
    {
     "name": "stderr",
     "output_type": "stream",
     "text": [
      "Epoch 37/50: 100%|\u001b[34m███████████████████\u001b[0m| 120/120 [00:01<00:00, 103.01batch/s, loss=0.022475]\u001b[0m\n"
     ]
    },
    {
     "name": "stdout",
     "output_type": "stream",
     "text": [
      "\t Loss: 3.122,\tTrain : 99.16%(100.00%),\tTest : 97.23%(98.27%),\tCurrent Time: 20250721-112527\n"
     ]
    },
    {
     "name": "stderr",
     "output_type": "stream",
     "text": [
      "Epoch 38/50: 100%|\u001b[34m████████████████████\u001b[0m| 120/120 [00:01<00:00, 98.95batch/s, loss=0.026626]\u001b[0m\n"
     ]
    },
    {
     "name": "stdout",
     "output_type": "stream",
     "text": [
      "\t Loss: 3.131,\tTrain : 99.09%(100.00%),\tTest : 97.75%(98.27%),\tCurrent Time: 20250721-112528\n"
     ]
    },
    {
     "name": "stderr",
     "output_type": "stream",
     "text": [
      "Epoch 39/50: 100%|\u001b[34m████████████████████\u001b[0m| 120/120 [00:01<00:00, 98.87batch/s, loss=0.005808]\u001b[0m\n"
     ]
    },
    {
     "name": "stdout",
     "output_type": "stream",
     "text": [
      "\t Loss: 0.678,\tTrain : 99.84%(100.00%),\tTest : 98.15%(98.27%),\tCurrent Time: 20250721-112530\n"
     ]
    },
    {
     "name": "stderr",
     "output_type": "stream",
     "text": [
      "Epoch 40/50: 100%|\u001b[34m████████████████████\u001b[0m| 120/120 [00:01<00:00, 93.19batch/s, loss=0.001387]\u001b[0m\n"
     ]
    },
    {
     "name": "stdout",
     "output_type": "stream",
     "text": [
      "\t Loss: 0.169,\tTrain : 99.99%(100.00%),\tTest : 98.20%(98.27%),\tCurrent Time: 20250721-112531\n"
     ]
    },
    {
     "name": "stderr",
     "output_type": "stream",
     "text": [
      "Epoch 41/50: 100%|\u001b[34m███████████████████\u001b[0m| 120/120 [00:01<00:00, 108.22batch/s, loss=0.001232]\u001b[0m\n"
     ]
    },
    {
     "name": "stdout",
     "output_type": "stream",
     "text": [
      "\t Loss: 0.146,\tTrain : 99.98%(100.00%),\tTest : 98.12%(98.27%),\tCurrent Time: 20250721-112532\n"
     ]
    },
    {
     "name": "stderr",
     "output_type": "stream",
     "text": [
      "Epoch 42/50: 100%|\u001b[34m████████████████████\u001b[0m| 120/120 [00:01<00:00, 99.55batch/s, loss=0.000695]\u001b[0m\n"
     ]
    },
    {
     "name": "stdout",
     "output_type": "stream",
     "text": [
      "\t Loss: 0.083,\tTrain : 100.00%(100.00%),\tTest : 98.14%(98.27%),\tCurrent Time: 20250721-112533\n"
     ]
    },
    {
     "name": "stderr",
     "output_type": "stream",
     "text": [
      "Epoch 43/50: 100%|\u001b[34m████████████████████\u001b[0m| 120/120 [00:01<00:00, 99.63batch/s, loss=0.000538]\u001b[0m\n"
     ]
    },
    {
     "name": "stdout",
     "output_type": "stream",
     "text": [
      "\t Loss: 0.065,\tTrain : 100.00%(100.00%),\tTest : 98.15%(98.27%),\tCurrent Time: 20250721-112535\n"
     ]
    },
    {
     "name": "stderr",
     "output_type": "stream",
     "text": [
      "Epoch 44/50: 100%|\u001b[34m████████████████████\u001b[0m| 120/120 [00:01<00:00, 98.07batch/s, loss=0.000507]\u001b[0m\n"
     ]
    },
    {
     "name": "stdout",
     "output_type": "stream",
     "text": [
      "\t Loss: 0.061,\tTrain : 100.00%(100.00%),\tTest : 98.19%(98.27%),\tCurrent Time: 20250721-112536\n"
     ]
    },
    {
     "name": "stderr",
     "output_type": "stream",
     "text": [
      "Epoch 45/50: 100%|\u001b[34m███████████████████\u001b[0m| 120/120 [00:01<00:00, 101.03batch/s, loss=0.000489]\u001b[0m\n"
     ]
    },
    {
     "name": "stdout",
     "output_type": "stream",
     "text": [
      "\t Loss: 0.059,\tTrain : 100.00%(100.00%),\tTest : 98.18%(98.27%),\tCurrent Time: 20250721-112537\n"
     ]
    },
    {
     "name": "stderr",
     "output_type": "stream",
     "text": [
      "Epoch 46/50: 100%|\u001b[34m████████████████████\u001b[0m| 120/120 [00:01<00:00, 99.18batch/s, loss=0.000476]\u001b[0m\n"
     ]
    },
    {
     "name": "stdout",
     "output_type": "stream",
     "text": [
      "\t Loss: 0.058,\tTrain : 100.00%(100.00%),\tTest : 98.21%(98.27%),\tCurrent Time: 20250721-112538\n"
     ]
    },
    {
     "name": "stderr",
     "output_type": "stream",
     "text": [
      "Epoch 47/50: 100%|\u001b[34m████████████████████\u001b[0m| 120/120 [00:01<00:00, 89.20batch/s, loss=0.000453]\u001b[0m\n"
     ]
    },
    {
     "name": "stdout",
     "output_type": "stream",
     "text": [
      "\t Loss: 0.054,\tTrain : 100.00%(100.00%),\tTest : 98.15%(98.27%),\tCurrent Time: 20250721-112540\n"
     ]
    },
    {
     "name": "stderr",
     "output_type": "stream",
     "text": [
      "Epoch 48/50: 100%|\u001b[34m███████████████████\u001b[0m| 120/120 [00:01<00:00, 100.93batch/s, loss=0.000441]\u001b[0m\n"
     ]
    },
    {
     "name": "stdout",
     "output_type": "stream",
     "text": [
      "\t Loss: 0.053,\tTrain : 100.00%(100.00%),\tTest : 98.26%(98.27%),\tCurrent Time: 20250721-112541\n"
     ]
    },
    {
     "name": "stderr",
     "output_type": "stream",
     "text": [
      "Epoch 49/50: 100%|\u001b[34m███████████████████\u001b[0m| 120/120 [00:01<00:00, 105.07batch/s, loss=0.000450]\u001b[0m\n"
     ]
    },
    {
     "name": "stdout",
     "output_type": "stream",
     "text": [
      "\t Loss: 0.055,\tTrain : 100.00%(100.00%),\tTest : 98.17%(98.27%),\tCurrent Time: 20250721-112542\n"
     ]
    },
    {
     "name": "stderr",
     "output_type": "stream",
     "text": [
      "Epoch 50/50: 100%|\u001b[34m████████████████████\u001b[0m| 120/120 [00:01<00:00, 96.48batch/s, loss=0.000412]\u001b[0m\n"
     ]
    },
    {
     "name": "stdout",
     "output_type": "stream",
     "text": [
      "\t Loss: 0.052,\tTrain : 100.00%(100.00%),\tTest : 98.22%(98.27%),\tCurrent Time: 20250721-112544\n",
      "EP_L2_MNIST_First_com_BP_FA_EP_512_t52-EP_b_scEP-s-EP_It2sta10- Time: 20250721-112544, Epochs: 50, Learning Rate: 0.001, Best: 100.00%  98.27%\n",
      "\n",
      "EP_L2_MNIST_First_com_BP_FA_EP_512_t52-EP_b_scEP-s-EP_It2sta10-\n"
     ]
    },
    {
     "name": "stderr",
     "output_type": "stream",
     "text": [
      "Epoch 1/50: 100%|\u001b[34m█████████████████████\u001b[0m| 120/120 [00:01<00:00, 99.64batch/s, loss=0.379920]\u001b[0m\n"
     ]
    },
    {
     "name": "stdout",
     "output_type": "stream",
     "text": [
      "\t Loss: 44.383,\tTrain : 89.12%(89.12%),\tTest : 93.49%(93.49%),\tCurrent Time: 20250721-112545\n"
     ]
    },
    {
     "name": "stderr",
     "output_type": "stream",
     "text": [
      "Epoch 2/50: 100%|\u001b[34m█████████████████████\u001b[0m| 120/120 [00:01<00:00, 96.31batch/s, loss=0.195927]\u001b[0m\n"
     ]
    },
    {
     "name": "stdout",
     "output_type": "stream",
     "text": [
      "\t Loss: 23.291,\tTrain : 94.34%(94.34%),\tTest : 95.35%(95.35%),\tCurrent Time: 20250721-112546\n"
     ]
    },
    {
     "name": "stderr",
     "output_type": "stream",
     "text": [
      "Epoch 3/50: 100%|\u001b[34m████████████████████\u001b[0m| 120/120 [00:01<00:00, 103.67batch/s, loss=0.133443]\u001b[0m\n"
     ]
    },
    {
     "name": "stdout",
     "output_type": "stream",
     "text": [
      "\t Loss: 15.907,\tTrain : 96.05%(96.05%),\tTest : 96.33%(96.33%),\tCurrent Time: 20250721-112548\n"
     ]
    },
    {
     "name": "stderr",
     "output_type": "stream",
     "text": [
      "Epoch 4/50: 100%|\u001b[34m████████████████████\u001b[0m| 120/120 [00:01<00:00, 103.83batch/s, loss=0.099643]\u001b[0m\n"
     ]
    },
    {
     "name": "stdout",
     "output_type": "stream",
     "text": [
      "\t Loss: 11.984,\tTrain : 97.04%(97.04%),\tTest : 96.76%(96.76%),\tCurrent Time: 20250721-112549\n"
     ]
    },
    {
     "name": "stderr",
     "output_type": "stream",
     "text": [
      "Epoch 5/50: 100%|\u001b[34m████████████████████\u001b[0m| 120/120 [00:01<00:00, 105.08batch/s, loss=0.078793]\u001b[0m\n"
     ]
    },
    {
     "name": "stdout",
     "output_type": "stream",
     "text": [
      "\t Loss: 9.316,\tTrain : 97.68%(97.68%),\tTest : 97.31%(97.31%),\tCurrent Time: 20250721-112550\n"
     ]
    },
    {
     "name": "stderr",
     "output_type": "stream",
     "text": [
      "Epoch 6/50: 100%|\u001b[34m█████████████████████\u001b[0m| 120/120 [00:01<00:00, 96.45batch/s, loss=0.060196]\u001b[0m\n"
     ]
    },
    {
     "name": "stdout",
     "output_type": "stream",
     "text": [
      "\t Loss: 7.209,\tTrain : 98.23%(98.23%),\tTest : 97.36%(97.36%),\tCurrent Time: 20250721-112551\n"
     ]
    },
    {
     "name": "stderr",
     "output_type": "stream",
     "text": [
      "Epoch 7/50: 100%|\u001b[34m█████████████████████\u001b[0m| 120/120 [00:01<00:00, 91.17batch/s, loss=0.049817]\u001b[0m\n"
     ]
    },
    {
     "name": "stdout",
     "output_type": "stream",
     "text": [
      "\t Loss: 5.901,\tTrain : 98.55%(98.55%),\tTest : 97.72%(97.72%),\tCurrent Time: 20250721-112553\n"
     ]
    },
    {
     "name": "stderr",
     "output_type": "stream",
     "text": [
      "Epoch 8/50: 100%|\u001b[34m████████████████████\u001b[0m| 120/120 [00:01<00:00, 105.61batch/s, loss=0.039372]\u001b[0m\n"
     ]
    },
    {
     "name": "stdout",
     "output_type": "stream",
     "text": [
      "\t Loss: 4.683,\tTrain : 98.90%(98.90%),\tTest : 97.89%(97.89%),\tCurrent Time: 20250721-112554\n"
     ]
    },
    {
     "name": "stderr",
     "output_type": "stream",
     "text": [
      "Epoch 9/50: 100%|\u001b[34m█████████████████████\u001b[0m| 120/120 [00:01<00:00, 97.26batch/s, loss=0.033307]\u001b[0m\n"
     ]
    },
    {
     "name": "stdout",
     "output_type": "stream",
     "text": [
      "\t Loss: 3.982,\tTrain : 99.03%(99.03%),\tTest : 97.76%(97.89%),\tCurrent Time: 20250721-112555\n"
     ]
    },
    {
     "name": "stderr",
     "output_type": "stream",
     "text": [
      "Epoch 10/50: 100%|\u001b[34m████████████████████\u001b[0m| 120/120 [00:01<00:00, 94.27batch/s, loss=0.025155]\u001b[0m\n"
     ]
    },
    {
     "name": "stdout",
     "output_type": "stream",
     "text": [
      "\t Loss: 3.031,\tTrain : 99.35%(99.35%),\tTest : 97.84%(97.89%),\tCurrent Time: 20250721-112556\n"
     ]
    },
    {
     "name": "stderr",
     "output_type": "stream",
     "text": [
      "Epoch 11/50: 100%|\u001b[34m████████████████████\u001b[0m| 120/120 [00:01<00:00, 94.08batch/s, loss=0.019845]\u001b[0m\n"
     ]
    },
    {
     "name": "stdout",
     "output_type": "stream",
     "text": [
      "\t Loss: 2.416,\tTrain : 99.53%(99.53%),\tTest : 97.97%(97.97%),\tCurrent Time: 20250721-112558\n"
     ]
    },
    {
     "name": "stderr",
     "output_type": "stream",
     "text": [
      "Epoch 12/50: 100%|\u001b[34m████████████████████\u001b[0m| 120/120 [00:01<00:00, 98.34batch/s, loss=0.016992]\u001b[0m\n"
     ]
    },
    {
     "name": "stdout",
     "output_type": "stream",
     "text": [
      "\t Loss: 2.060,\tTrain : 99.64%(99.64%),\tTest : 98.12%(98.12%),\tCurrent Time: 20250721-112559\n"
     ]
    },
    {
     "name": "stderr",
     "output_type": "stream",
     "text": [
      "Epoch 13/50: 100%|\u001b[34m███████████████████\u001b[0m| 120/120 [00:01<00:00, 101.16batch/s, loss=0.012494]\u001b[0m\n"
     ]
    },
    {
     "name": "stdout",
     "output_type": "stream",
     "text": [
      "\t Loss: 1.552,\tTrain : 99.74%(99.74%),\tTest : 97.84%(98.12%),\tCurrent Time: 20250721-112600\n"
     ]
    },
    {
     "name": "stderr",
     "output_type": "stream",
     "text": [
      "Epoch 14/50: 100%|\u001b[34m███████████████████\u001b[0m| 120/120 [00:01<00:00, 103.58batch/s, loss=0.010684]\u001b[0m\n"
     ]
    },
    {
     "name": "stdout",
     "output_type": "stream",
     "text": [
      "\t Loss: 1.304,\tTrain : 99.80%(99.80%),\tTest : 98.10%(98.12%),\tCurrent Time: 20250721-112601\n"
     ]
    },
    {
     "name": "stderr",
     "output_type": "stream",
     "text": [
      "Epoch 15/50: 100%|\u001b[34m████████████████████\u001b[0m| 120/120 [00:01<00:00, 95.98batch/s, loss=0.008371]\u001b[0m\n"
     ]
    },
    {
     "name": "stdout",
     "output_type": "stream",
     "text": [
      "\t Loss: 1.003,\tTrain : 99.89%(99.89%),\tTest : 98.21%(98.21%),\tCurrent Time: 20250721-112603\n"
     ]
    },
    {
     "name": "stderr",
     "output_type": "stream",
     "text": [
      "Epoch 16/50: 100%|\u001b[34m███████████████████\u001b[0m| 120/120 [00:01<00:00, 105.69batch/s, loss=0.006110]\u001b[0m\n"
     ]
    },
    {
     "name": "stdout",
     "output_type": "stream",
     "text": [
      "\t Loss: 0.753,\tTrain : 99.93%(99.93%),\tTest : 98.23%(98.23%),\tCurrent Time: 20250721-112604\n"
     ]
    },
    {
     "name": "stderr",
     "output_type": "stream",
     "text": [
      "Epoch 17/50: 100%|\u001b[34m████████████████████\u001b[0m| 120/120 [00:01<00:00, 99.93batch/s, loss=0.005522]\u001b[0m\n"
     ]
    },
    {
     "name": "stdout",
     "output_type": "stream",
     "text": [
      "\t Loss: 0.667,\tTrain : 99.94%(99.94%),\tTest : 98.20%(98.23%),\tCurrent Time: 20250721-112605\n"
     ]
    },
    {
     "name": "stderr",
     "output_type": "stream",
     "text": [
      "Epoch 18/50: 100%|\u001b[34m████████████████████\u001b[0m| 120/120 [00:01<00:00, 93.15batch/s, loss=0.004744]\u001b[0m\n"
     ]
    },
    {
     "name": "stdout",
     "output_type": "stream",
     "text": [
      "\t Loss: 0.577,\tTrain : 99.94%(99.94%),\tTest : 98.13%(98.23%),\tCurrent Time: 20250721-112607\n"
     ]
    },
    {
     "name": "stderr",
     "output_type": "stream",
     "text": [
      "Epoch 19/50: 100%|\u001b[34m████████████████████\u001b[0m| 120/120 [00:01<00:00, 92.47batch/s, loss=0.004688]\u001b[0m\n"
     ]
    },
    {
     "name": "stdout",
     "output_type": "stream",
     "text": [
      "\t Loss: 0.597,\tTrain : 99.92%(99.94%),\tTest : 98.11%(98.23%),\tCurrent Time: 20250721-112608\n"
     ]
    },
    {
     "name": "stderr",
     "output_type": "stream",
     "text": [
      "Epoch 20/50: 100%|\u001b[34m████████████████████\u001b[0m| 120/120 [00:01<00:00, 96.13batch/s, loss=0.005498]\u001b[0m\n"
     ]
    },
    {
     "name": "stdout",
     "output_type": "stream",
     "text": [
      "\t Loss: 0.664,\tTrain : 99.89%(99.94%),\tTest : 98.09%(98.23%),\tCurrent Time: 20250721-112609\n"
     ]
    },
    {
     "name": "stderr",
     "output_type": "stream",
     "text": [
      "Epoch 21/50: 100%|\u001b[34m████████████████████\u001b[0m| 120/120 [00:01<00:00, 99.68batch/s, loss=0.004112]\u001b[0m\n"
     ]
    },
    {
     "name": "stdout",
     "output_type": "stream",
     "text": [
      "\t Loss: 0.482,\tTrain : 99.94%(99.94%),\tTest : 98.12%(98.23%),\tCurrent Time: 20250721-112610\n"
     ]
    },
    {
     "name": "stderr",
     "output_type": "stream",
     "text": [
      "Epoch 22/50: 100%|\u001b[34m████████████████████\u001b[0m| 120/120 [00:01<00:00, 93.83batch/s, loss=0.002169]\u001b[0m\n"
     ]
    },
    {
     "name": "stdout",
     "output_type": "stream",
     "text": [
      "\t Loss: 0.260,\tTrain : 99.99%(99.99%),\tTest : 98.23%(98.23%),\tCurrent Time: 20250721-112612\n"
     ]
    },
    {
     "name": "stderr",
     "output_type": "stream",
     "text": [
      "Epoch 23/50: 100%|\u001b[34m████████████████████\u001b[0m| 120/120 [00:01<00:00, 93.54batch/s, loss=0.001808]\u001b[0m\n"
     ]
    },
    {
     "name": "stdout",
     "output_type": "stream",
     "text": [
      "\t Loss: 0.216,\tTrain : 100.00%(100.00%),\tTest : 98.29%(98.29%),\tCurrent Time: 20250721-112613\n"
     ]
    },
    {
     "name": "stderr",
     "output_type": "stream",
     "text": [
      "Epoch 24/50: 100%|\u001b[34m███████████████████\u001b[0m| 120/120 [00:01<00:00, 105.26batch/s, loss=0.001511]\u001b[0m\n"
     ]
    },
    {
     "name": "stdout",
     "output_type": "stream",
     "text": [
      "\t Loss: 0.182,\tTrain : 99.99%(100.00%),\tTest : 98.32%(98.32%),\tCurrent Time: 20250721-112614\n"
     ]
    },
    {
     "name": "stderr",
     "output_type": "stream",
     "text": [
      "Epoch 25/50: 100%|\u001b[34m████████████████████\u001b[0m| 120/120 [00:01<00:00, 95.62batch/s, loss=0.001451]\u001b[0m\n"
     ]
    },
    {
     "name": "stdout",
     "output_type": "stream",
     "text": [
      "\t Loss: 0.177,\tTrain : 100.00%(100.00%),\tTest : 98.19%(98.32%),\tCurrent Time: 20250721-112616\n"
     ]
    },
    {
     "name": "stderr",
     "output_type": "stream",
     "text": [
      "Epoch 26/50: 100%|\u001b[34m████████████████████\u001b[0m| 120/120 [00:01<00:00, 98.96batch/s, loss=0.001239]\u001b[0m\n"
     ]
    },
    {
     "name": "stdout",
     "output_type": "stream",
     "text": [
      "\t Loss: 0.151,\tTrain : 100.00%(100.00%),\tTest : 98.17%(98.32%),\tCurrent Time: 20250721-112617\n"
     ]
    },
    {
     "name": "stderr",
     "output_type": "stream",
     "text": [
      "Epoch 27/50: 100%|\u001b[34m████████████████████\u001b[0m| 120/120 [00:01<00:00, 94.87batch/s, loss=0.001098]\u001b[0m\n"
     ]
    },
    {
     "name": "stdout",
     "output_type": "stream",
     "text": [
      "\t Loss: 0.132,\tTrain : 100.00%(100.00%),\tTest : 98.24%(98.32%),\tCurrent Time: 20250721-112618\n"
     ]
    },
    {
     "name": "stderr",
     "output_type": "stream",
     "text": [
      "Epoch 28/50: 100%|\u001b[34m███████████████████\u001b[0m| 120/120 [00:01<00:00, 104.35batch/s, loss=0.001035]\u001b[0m\n"
     ]
    },
    {
     "name": "stdout",
     "output_type": "stream",
     "text": [
      "\t Loss: 0.125,\tTrain : 100.00%(100.00%),\tTest : 98.21%(98.32%),\tCurrent Time: 20250721-112619\n"
     ]
    },
    {
     "name": "stderr",
     "output_type": "stream",
     "text": [
      "Epoch 29/50: 100%|\u001b[34m███████████████████\u001b[0m| 120/120 [00:01<00:00, 106.31batch/s, loss=0.001050]\u001b[0m\n"
     ]
    },
    {
     "name": "stdout",
     "output_type": "stream",
     "text": [
      "\t Loss: 0.127,\tTrain : 100.00%(100.00%),\tTest : 98.17%(98.32%),\tCurrent Time: 20250721-112620\n"
     ]
    },
    {
     "name": "stderr",
     "output_type": "stream",
     "text": [
      "Epoch 30/50: 100%|\u001b[34m███████████████████\u001b[0m| 120/120 [00:01<00:00, 101.00batch/s, loss=0.001071]\u001b[0m\n"
     ]
    },
    {
     "name": "stdout",
     "output_type": "stream",
     "text": [
      "\t Loss: 0.132,\tTrain : 99.99%(100.00%),\tTest : 98.20%(98.32%),\tCurrent Time: 20250721-112622\n"
     ]
    },
    {
     "name": "stderr",
     "output_type": "stream",
     "text": [
      "Epoch 31/50: 100%|\u001b[34m████████████████████\u001b[0m| 120/120 [00:01<00:00, 99.07batch/s, loss=0.008605]\u001b[0m\n"
     ]
    },
    {
     "name": "stdout",
     "output_type": "stream",
     "text": [
      "\t Loss: 1.319,\tTrain : 99.64%(100.00%),\tTest : 97.26%(98.32%),\tCurrent Time: 20250721-112623\n"
     ]
    },
    {
     "name": "stderr",
     "output_type": "stream",
     "text": [
      "Epoch 32/50: 100%|\u001b[34m████████████████████\u001b[0m| 120/120 [00:01<00:00, 98.44batch/s, loss=0.031550]\u001b[0m\n"
     ]
    },
    {
     "name": "stdout",
     "output_type": "stream",
     "text": [
      "\t Loss: 3.681,\tTrain : 98.94%(100.00%),\tTest : 97.81%(98.32%),\tCurrent Time: 20250721-112624\n"
     ]
    },
    {
     "name": "stderr",
     "output_type": "stream",
     "text": [
      "Epoch 33/50: 100%|\u001b[34m████████████████████\u001b[0m| 120/120 [00:01<00:00, 96.56batch/s, loss=0.010497]\u001b[0m\n"
     ]
    },
    {
     "name": "stdout",
     "output_type": "stream",
     "text": [
      "\t Loss: 1.231,\tTrain : 99.67%(100.00%),\tTest : 98.33%(98.33%),\tCurrent Time: 20250721-112625\n"
     ]
    },
    {
     "name": "stderr",
     "output_type": "stream",
     "text": [
      "Epoch 34/50: 100%|\u001b[34m███████████████████\u001b[0m| 120/120 [00:01<00:00, 101.36batch/s, loss=0.003191]\u001b[0m\n"
     ]
    },
    {
     "name": "stdout",
     "output_type": "stream",
     "text": [
      "\t Loss: 0.371,\tTrain : 99.95%(100.00%),\tTest : 98.29%(98.33%),\tCurrent Time: 20250721-112627\n"
     ]
    },
    {
     "name": "stderr",
     "output_type": "stream",
     "text": [
      "Epoch 35/50: 100%|\u001b[34m████████████████████\u001b[0m| 120/120 [00:01<00:00, 99.26batch/s, loss=0.001084]\u001b[0m\n"
     ]
    },
    {
     "name": "stdout",
     "output_type": "stream",
     "text": [
      "\t Loss: 0.129,\tTrain : 99.99%(100.00%),\tTest : 98.31%(98.33%),\tCurrent Time: 20250721-112628\n"
     ]
    },
    {
     "name": "stderr",
     "output_type": "stream",
     "text": [
      "Epoch 36/50: 100%|\u001b[34m████████████████████\u001b[0m| 120/120 [00:01<00:00, 92.82batch/s, loss=0.000657]\u001b[0m\n"
     ]
    },
    {
     "name": "stdout",
     "output_type": "stream",
     "text": [
      "\t Loss: 0.079,\tTrain : 100.00%(100.00%),\tTest : 98.41%(98.41%),\tCurrent Time: 20250721-112629\n"
     ]
    },
    {
     "name": "stderr",
     "output_type": "stream",
     "text": [
      "Epoch 37/50: 100%|\u001b[34m████████████████████\u001b[0m| 120/120 [00:01<00:00, 98.44batch/s, loss=0.000573]\u001b[0m\n"
     ]
    },
    {
     "name": "stdout",
     "output_type": "stream",
     "text": [
      "\t Loss: 0.070,\tTrain : 100.00%(100.00%),\tTest : 98.25%(98.41%),\tCurrent Time: 20250721-112631\n"
     ]
    },
    {
     "name": "stderr",
     "output_type": "stream",
     "text": [
      "Epoch 38/50: 100%|\u001b[34m████████████████████\u001b[0m| 120/120 [00:01<00:00, 98.38batch/s, loss=0.000551]\u001b[0m\n"
     ]
    },
    {
     "name": "stdout",
     "output_type": "stream",
     "text": [
      "\t Loss: 0.068,\tTrain : 100.00%(100.00%),\tTest : 98.30%(98.41%),\tCurrent Time: 20250721-112632\n"
     ]
    },
    {
     "name": "stderr",
     "output_type": "stream",
     "text": [
      "Epoch 39/50: 100%|\u001b[34m███████████████████\u001b[0m| 120/120 [00:01<00:00, 107.54batch/s, loss=0.000629]\u001b[0m\n"
     ]
    },
    {
     "name": "stdout",
     "output_type": "stream",
     "text": [
      "\t Loss: 0.076,\tTrain : 100.00%(100.00%),\tTest : 98.18%(98.41%),\tCurrent Time: 20250721-112633\n"
     ]
    },
    {
     "name": "stderr",
     "output_type": "stream",
     "text": [
      "Epoch 40/50: 100%|\u001b[34m███████████████████\u001b[0m| 120/120 [00:01<00:00, 104.93batch/s, loss=0.000510]\u001b[0m\n"
     ]
    },
    {
     "name": "stdout",
     "output_type": "stream",
     "text": [
      "\t Loss: 0.062,\tTrain : 100.00%(100.00%),\tTest : 98.23%(98.41%),\tCurrent Time: 20250721-112634\n"
     ]
    },
    {
     "name": "stderr",
     "output_type": "stream",
     "text": [
      "Epoch 41/50: 100%|\u001b[34m███████████████████\u001b[0m| 120/120 [00:01<00:00, 103.77batch/s, loss=0.000514]\u001b[0m\n"
     ]
    },
    {
     "name": "stdout",
     "output_type": "stream",
     "text": [
      "\t Loss: 0.061,\tTrain : 100.00%(100.00%),\tTest : 98.18%(98.41%),\tCurrent Time: 20250721-112635\n"
     ]
    },
    {
     "name": "stderr",
     "output_type": "stream",
     "text": [
      "Epoch 42/50: 100%|\u001b[34m███████████████████\u001b[0m| 120/120 [00:01<00:00, 103.83batch/s, loss=0.001344]\u001b[0m\n"
     ]
    },
    {
     "name": "stdout",
     "output_type": "stream",
     "text": [
      "\t Loss: 0.163,\tTrain : 99.98%(100.00%),\tTest : 98.10%(98.41%),\tCurrent Time: 20250721-112637\n"
     ]
    },
    {
     "name": "stderr",
     "output_type": "stream",
     "text": [
      "Epoch 43/50: 100%|\u001b[34m████████████████████\u001b[0m| 120/120 [00:01<00:00, 98.30batch/s, loss=0.001941]\u001b[0m\n"
     ]
    },
    {
     "name": "stdout",
     "output_type": "stream",
     "text": [
      "\t Loss: 0.273,\tTrain : 99.95%(100.00%),\tTest : 97.91%(98.41%),\tCurrent Time: 20250721-112638\n"
     ]
    },
    {
     "name": "stderr",
     "output_type": "stream",
     "text": [
      "Epoch 44/50: 100%|\u001b[34m███████████████████\u001b[0m| 120/120 [00:01<00:00, 103.15batch/s, loss=0.007577]\u001b[0m\n"
     ]
    },
    {
     "name": "stdout",
     "output_type": "stream",
     "text": [
      "\t Loss: 0.986,\tTrain : 99.72%(100.00%),\tTest : 97.16%(98.41%),\tCurrent Time: 20250721-112639\n"
     ]
    },
    {
     "name": "stderr",
     "output_type": "stream",
     "text": [
      "Epoch 45/50: 100%|\u001b[34m███████████████████\u001b[0m| 120/120 [00:01<00:00, 101.01batch/s, loss=0.013592]\u001b[0m\n"
     ]
    },
    {
     "name": "stdout",
     "output_type": "stream",
     "text": [
      "\t Loss: 1.582,\tTrain : 99.57%(100.00%),\tTest : 97.98%(98.41%),\tCurrent Time: 20250721-112640\n"
     ]
    },
    {
     "name": "stderr",
     "output_type": "stream",
     "text": [
      "Epoch 46/50: 100%|\u001b[34m███████████████████\u001b[0m| 120/120 [00:01<00:00, 100.45batch/s, loss=0.006738]\u001b[0m\n"
     ]
    },
    {
     "name": "stdout",
     "output_type": "stream",
     "text": [
      "\t Loss: 0.800,\tTrain : 99.80%(100.00%),\tTest : 98.13%(98.41%),\tCurrent Time: 20250721-112641\n"
     ]
    },
    {
     "name": "stderr",
     "output_type": "stream",
     "text": [
      "Epoch 47/50: 100%|\u001b[34m███████████████████\u001b[0m| 120/120 [00:01<00:00, 106.18batch/s, loss=0.004123]\u001b[0m\n"
     ]
    },
    {
     "name": "stdout",
     "output_type": "stream",
     "text": [
      "\t Loss: 0.479,\tTrain : 99.89%(100.00%),\tTest : 98.21%(98.41%),\tCurrent Time: 20250721-112643\n"
     ]
    },
    {
     "name": "stderr",
     "output_type": "stream",
     "text": [
      "Epoch 48/50: 100%|\u001b[34m████████████████████\u001b[0m| 120/120 [00:01<00:00, 90.78batch/s, loss=0.000877]\u001b[0m\n"
     ]
    },
    {
     "name": "stdout",
     "output_type": "stream",
     "text": [
      "\t Loss: 0.103,\tTrain : 100.00%(100.00%),\tTest : 98.31%(98.41%),\tCurrent Time: 20250721-112644\n"
     ]
    },
    {
     "name": "stderr",
     "output_type": "stream",
     "text": [
      "Epoch 49/50: 100%|\u001b[34m███████████████████\u001b[0m| 120/120 [00:01<00:00, 103.42batch/s, loss=0.000373]\u001b[0m\n"
     ]
    },
    {
     "name": "stdout",
     "output_type": "stream",
     "text": [
      "\t Loss: 0.044,\tTrain : 100.00%(100.00%),\tTest : 98.35%(98.41%),\tCurrent Time: 20250721-112645\n"
     ]
    },
    {
     "name": "stderr",
     "output_type": "stream",
     "text": [
      "Epoch 50/50: 100%|\u001b[34m████████████████████\u001b[0m| 120/120 [00:01<00:00, 98.88batch/s, loss=0.000289]\u001b[0m\n"
     ]
    },
    {
     "name": "stdout",
     "output_type": "stream",
     "text": [
      "\t Loss: 0.035,\tTrain : 100.00%(100.00%),\tTest : 98.32%(98.41%),\tCurrent Time: 20250721-112646\n",
      "EP_L2_MNIST_First_com_BP_FA_EP_512_t52-EP_b_scEP-s-EP_It2sta10- Time: 20250721-112646, Epochs: 50, Learning Rate: 0.001, Best: 100.00%  98.41%\n",
      "\n",
      "EP_L2_MNIST_First_com_BP_FA_EP_512_t52-EP_b_scEP-s-EP_It2sta10-\n"
     ]
    },
    {
     "name": "stderr",
     "output_type": "stream",
     "text": [
      "Epoch 1/50: 100%|\u001b[34m████████████████████\u001b[0m| 120/120 [00:01<00:00, 107.37batch/s, loss=0.369548]\u001b[0m\n"
     ]
    },
    {
     "name": "stdout",
     "output_type": "stream",
     "text": [
      "\t Loss: 43.274,\tTrain : 89.37%(89.37%),\tTest : 93.73%(93.73%),\tCurrent Time: 20250721-112648\n"
     ]
    },
    {
     "name": "stderr",
     "output_type": "stream",
     "text": [
      "Epoch 2/50: 100%|\u001b[34m████████████████████\u001b[0m| 120/120 [00:01<00:00, 106.61batch/s, loss=0.191804]\u001b[0m\n"
     ]
    },
    {
     "name": "stdout",
     "output_type": "stream",
     "text": [
      "\t Loss: 22.659,\tTrain : 94.45%(94.45%),\tTest : 95.44%(95.44%),\tCurrent Time: 20250721-112649\n"
     ]
    },
    {
     "name": "stderr",
     "output_type": "stream",
     "text": [
      "Epoch 3/50: 100%|\u001b[34m████████████████████\u001b[0m| 120/120 [00:01<00:00, 101.03batch/s, loss=0.131068]\u001b[0m\n"
     ]
    },
    {
     "name": "stdout",
     "output_type": "stream",
     "text": [
      "\t Loss: 15.767,\tTrain : 96.12%(96.12%),\tTest : 96.56%(96.56%),\tCurrent Time: 20250721-112650\n"
     ]
    },
    {
     "name": "stderr",
     "output_type": "stream",
     "text": [
      "Epoch 4/50: 100%|\u001b[34m█████████████████████\u001b[0m| 120/120 [00:01<00:00, 99.84batch/s, loss=0.098122]\u001b[0m\n"
     ]
    },
    {
     "name": "stdout",
     "output_type": "stream",
     "text": [
      "\t Loss: 11.662,\tTrain : 97.11%(97.11%),\tTest : 97.05%(97.05%),\tCurrent Time: 20250721-112652\n"
     ]
    },
    {
     "name": "stderr",
     "output_type": "stream",
     "text": [
      "Epoch 5/50: 100%|\u001b[34m█████████████████████\u001b[0m| 120/120 [00:01<00:00, 91.52batch/s, loss=0.076145]\u001b[0m\n"
     ]
    },
    {
     "name": "stdout",
     "output_type": "stream",
     "text": [
      "\t Loss: 9.154,\tTrain : 97.72%(97.72%),\tTest : 97.21%(97.21%),\tCurrent Time: 20250721-112653\n"
     ]
    },
    {
     "name": "stderr",
     "output_type": "stream",
     "text": [
      "Epoch 6/50: 100%|\u001b[34m█████████████████████\u001b[0m| 120/120 [00:01<00:00, 98.71batch/s, loss=0.060412]\u001b[0m\n"
     ]
    },
    {
     "name": "stdout",
     "output_type": "stream",
     "text": [
      "\t Loss: 7.289,\tTrain : 98.20%(98.20%),\tTest : 97.52%(97.52%),\tCurrent Time: 20250721-112654\n"
     ]
    },
    {
     "name": "stderr",
     "output_type": "stream",
     "text": [
      "Epoch 7/50: 100%|\u001b[34m████████████████████\u001b[0m| 120/120 [00:01<00:00, 108.06batch/s, loss=0.047549]\u001b[0m\n"
     ]
    },
    {
     "name": "stdout",
     "output_type": "stream",
     "text": [
      "\t Loss: 5.722,\tTrain : 98.61%(98.61%),\tTest : 97.63%(97.63%),\tCurrent Time: 20250721-112655\n"
     ]
    },
    {
     "name": "stderr",
     "output_type": "stream",
     "text": [
      "Epoch 8/50: 100%|\u001b[34m█████████████████████\u001b[0m| 120/120 [00:01<00:00, 97.91batch/s, loss=0.038914]\u001b[0m\n"
     ]
    },
    {
     "name": "stdout",
     "output_type": "stream",
     "text": [
      "\t Loss: 4.672,\tTrain : 98.91%(98.91%),\tTest : 97.70%(97.70%),\tCurrent Time: 20250721-112657\n"
     ]
    },
    {
     "name": "stderr",
     "output_type": "stream",
     "text": [
      "Epoch 9/50: 100%|\u001b[34m████████████████████\u001b[0m| 120/120 [00:01<00:00, 106.66batch/s, loss=0.031282]\u001b[0m\n"
     ]
    },
    {
     "name": "stdout",
     "output_type": "stream",
     "text": [
      "\t Loss: 3.762,\tTrain : 99.11%(99.11%),\tTest : 97.79%(97.79%),\tCurrent Time: 20250721-112658\n"
     ]
    },
    {
     "name": "stderr",
     "output_type": "stream",
     "text": [
      "Epoch 10/50: 100%|\u001b[34m███████████████████\u001b[0m| 120/120 [00:01<00:00, 100.97batch/s, loss=0.024507]\u001b[0m\n"
     ]
    },
    {
     "name": "stdout",
     "output_type": "stream",
     "text": [
      "\t Loss: 2.955,\tTrain : 99.38%(99.38%),\tTest : 97.97%(97.97%),\tCurrent Time: 20250721-112659\n"
     ]
    },
    {
     "name": "stderr",
     "output_type": "stream",
     "text": [
      "Epoch 11/50: 100%|\u001b[34m████████████████████\u001b[0m| 120/120 [00:01<00:00, 94.88batch/s, loss=0.020282]\u001b[0m\n"
     ]
    },
    {
     "name": "stdout",
     "output_type": "stream",
     "text": [
      "\t Loss: 2.431,\tTrain : 99.48%(99.48%),\tTest : 97.98%(97.98%),\tCurrent Time: 20250721-112700\n"
     ]
    },
    {
     "name": "stderr",
     "output_type": "stream",
     "text": [
      "Epoch 12/50: 100%|\u001b[34m████████████████████\u001b[0m| 120/120 [00:01<00:00, 95.12batch/s, loss=0.015525]\u001b[0m\n"
     ]
    },
    {
     "name": "stdout",
     "output_type": "stream",
     "text": [
      "\t Loss: 1.842,\tTrain : 99.69%(99.69%),\tTest : 97.91%(97.98%),\tCurrent Time: 20250721-112702\n"
     ]
    },
    {
     "name": "stderr",
     "output_type": "stream",
     "text": [
      "Epoch 13/50: 100%|\u001b[34m████████████████████\u001b[0m| 120/120 [00:01<00:00, 99.97batch/s, loss=0.013184]\u001b[0m\n"
     ]
    },
    {
     "name": "stdout",
     "output_type": "stream",
     "text": [
      "\t Loss: 1.591,\tTrain : 99.71%(99.71%),\tTest : 98.11%(98.11%),\tCurrent Time: 20250721-112703\n"
     ]
    },
    {
     "name": "stderr",
     "output_type": "stream",
     "text": [
      "Epoch 14/50: 100%|\u001b[34m████████████████████\u001b[0m| 120/120 [00:01<00:00, 94.48batch/s, loss=0.010066]\u001b[0m\n"
     ]
    },
    {
     "name": "stdout",
     "output_type": "stream",
     "text": [
      "\t Loss: 1.216,\tTrain : 99.83%(99.83%),\tTest : 98.20%(98.20%),\tCurrent Time: 20250721-112704\n"
     ]
    },
    {
     "name": "stderr",
     "output_type": "stream",
     "text": [
      "Epoch 15/50: 100%|\u001b[34m████████████████████\u001b[0m| 120/120 [00:01<00:00, 95.87batch/s, loss=0.008292]\u001b[0m\n"
     ]
    },
    {
     "name": "stdout",
     "output_type": "stream",
     "text": [
      "\t Loss: 0.999,\tTrain : 99.86%(99.86%),\tTest : 98.15%(98.20%),\tCurrent Time: 20250721-112706\n"
     ]
    },
    {
     "name": "stderr",
     "output_type": "stream",
     "text": [
      "Epoch 16/50: 100%|\u001b[34m████████████████████\u001b[0m| 120/120 [00:01<00:00, 99.66batch/s, loss=0.006916]\u001b[0m\n"
     ]
    },
    {
     "name": "stdout",
     "output_type": "stream",
     "text": [
      "\t Loss: 0.825,\tTrain : 99.88%(99.88%),\tTest : 98.12%(98.20%),\tCurrent Time: 20250721-112707\n"
     ]
    },
    {
     "name": "stderr",
     "output_type": "stream",
     "text": [
      "Epoch 17/50: 100%|\u001b[34m████████████████████\u001b[0m| 120/120 [00:01<00:00, 95.47batch/s, loss=0.005308]\u001b[0m\n"
     ]
    },
    {
     "name": "stdout",
     "output_type": "stream",
     "text": [
      "\t Loss: 0.640,\tTrain : 99.94%(99.94%),\tTest : 98.25%(98.25%),\tCurrent Time: 20250721-112708\n"
     ]
    },
    {
     "name": "stderr",
     "output_type": "stream",
     "text": [
      "Epoch 18/50: 100%|\u001b[34m████████████████████\u001b[0m| 120/120 [00:01<00:00, 86.02batch/s, loss=0.003879]\u001b[0m\n"
     ]
    },
    {
     "name": "stdout",
     "output_type": "stream",
     "text": [
      "\t Loss: 0.487,\tTrain : 99.95%(99.95%),\tTest : 98.12%(98.25%),\tCurrent Time: 20250721-112710\n"
     ]
    },
    {
     "name": "stderr",
     "output_type": "stream",
     "text": [
      "Epoch 19/50: 100%|\u001b[34m████████████████████\u001b[0m| 120/120 [00:01<00:00, 95.02batch/s, loss=0.003406]\u001b[0m\n"
     ]
    },
    {
     "name": "stdout",
     "output_type": "stream",
     "text": [
      "\t Loss: 0.410,\tTrain : 99.98%(99.98%),\tTest : 98.14%(98.25%),\tCurrent Time: 20250721-112711\n"
     ]
    },
    {
     "name": "stderr",
     "output_type": "stream",
     "text": [
      "Epoch 20/50: 100%|\u001b[34m████████████████████\u001b[0m| 120/120 [00:01<00:00, 96.13batch/s, loss=0.002802]\u001b[0m\n"
     ]
    },
    {
     "name": "stdout",
     "output_type": "stream",
     "text": [
      "\t Loss: 0.335,\tTrain : 99.98%(99.98%),\tTest : 98.17%(98.25%),\tCurrent Time: 20250721-112712\n"
     ]
    },
    {
     "name": "stderr",
     "output_type": "stream",
     "text": [
      "Epoch 21/50: 100%|\u001b[34m███████████████████\u001b[0m| 120/120 [00:01<00:00, 102.34batch/s, loss=0.002326]\u001b[0m\n"
     ]
    },
    {
     "name": "stdout",
     "output_type": "stream",
     "text": [
      "\t Loss: 0.287,\tTrain : 99.99%(99.99%),\tTest : 98.26%(98.26%),\tCurrent Time: 20250721-112713\n"
     ]
    },
    {
     "name": "stderr",
     "output_type": "stream",
     "text": [
      "Epoch 22/50: 100%|\u001b[34m███████████████████\u001b[0m| 120/120 [00:01<00:00, 103.02batch/s, loss=0.002923]\u001b[0m\n"
     ]
    },
    {
     "name": "stdout",
     "output_type": "stream",
     "text": [
      "\t Loss: 0.425,\tTrain : 99.94%(99.99%),\tTest : 97.85%(98.26%),\tCurrent Time: 20250721-112715\n"
     ]
    },
    {
     "name": "stderr",
     "output_type": "stream",
     "text": [
      "Epoch 23/50: 100%|\u001b[34m████████████████████\u001b[0m| 120/120 [00:01<00:00, 91.25batch/s, loss=0.009974]\u001b[0m\n"
     ]
    },
    {
     "name": "stdout",
     "output_type": "stream",
     "text": [
      "\t Loss: 1.201,\tTrain : 99.72%(99.99%),\tTest : 97.97%(98.26%),\tCurrent Time: 20250721-112716\n"
     ]
    },
    {
     "name": "stderr",
     "output_type": "stream",
     "text": [
      "Epoch 24/50: 100%|\u001b[34m████████████████████\u001b[0m| 120/120 [00:01<00:00, 98.40batch/s, loss=0.009082]\u001b[0m\n"
     ]
    },
    {
     "name": "stdout",
     "output_type": "stream",
     "text": [
      "\t Loss: 1.083,\tTrain : 99.76%(99.99%),\tTest : 97.98%(98.26%),\tCurrent Time: 20250721-112717\n"
     ]
    },
    {
     "name": "stderr",
     "output_type": "stream",
     "text": [
      "Epoch 25/50: 100%|\u001b[34m███████████████████\u001b[0m| 120/120 [00:01<00:00, 101.79batch/s, loss=0.005014]\u001b[0m\n"
     ]
    },
    {
     "name": "stdout",
     "output_type": "stream",
     "text": [
      "\t Loss: 0.608,\tTrain : 99.89%(99.99%),\tTest : 98.07%(98.26%),\tCurrent Time: 20250721-112718\n"
     ]
    },
    {
     "name": "stderr",
     "output_type": "stream",
     "text": [
      "Epoch 26/50: 100%|\u001b[34m███████████████████\u001b[0m| 120/120 [00:01<00:00, 103.19batch/s, loss=0.002977]\u001b[0m\n"
     ]
    },
    {
     "name": "stdout",
     "output_type": "stream",
     "text": [
      "\t Loss: 0.352,\tTrain : 99.95%(99.99%),\tTest : 98.22%(98.26%),\tCurrent Time: 20250721-112720\n"
     ]
    },
    {
     "name": "stderr",
     "output_type": "stream",
     "text": [
      "Epoch 27/50: 100%|\u001b[34m████████████████████\u001b[0m| 120/120 [00:01<00:00, 95.88batch/s, loss=0.001156]\u001b[0m\n"
     ]
    },
    {
     "name": "stdout",
     "output_type": "stream",
     "text": [
      "\t Loss: 0.143,\tTrain : 100.00%(100.00%),\tTest : 98.13%(98.26%),\tCurrent Time: 20250721-112721\n"
     ]
    },
    {
     "name": "stderr",
     "output_type": "stream",
     "text": [
      "Epoch 28/50: 100%|\u001b[34m████████████████████\u001b[0m| 120/120 [00:01<00:00, 96.25batch/s, loss=0.001087]\u001b[0m\n"
     ]
    },
    {
     "name": "stdout",
     "output_type": "stream",
     "text": [
      "\t Loss: 0.129,\tTrain : 99.99%(100.00%),\tTest : 98.16%(98.26%),\tCurrent Time: 20250721-112722\n"
     ]
    },
    {
     "name": "stderr",
     "output_type": "stream",
     "text": [
      "Epoch 29/50: 100%|\u001b[34m███████████████████\u001b[0m| 120/120 [00:01<00:00, 101.58batch/s, loss=0.000680]\u001b[0m\n"
     ]
    },
    {
     "name": "stdout",
     "output_type": "stream",
     "text": [
      "\t Loss: 0.083,\tTrain : 100.00%(100.00%),\tTest : 98.18%(98.26%),\tCurrent Time: 20250721-112723\n"
     ]
    },
    {
     "name": "stderr",
     "output_type": "stream",
     "text": [
      "Epoch 30/50: 100%|\u001b[34m████████████████████\u001b[0m| 120/120 [00:01<00:00, 94.26batch/s, loss=0.000682]\u001b[0m\n"
     ]
    },
    {
     "name": "stdout",
     "output_type": "stream",
     "text": [
      "\t Loss: 0.083,\tTrain : 100.00%(100.00%),\tTest : 98.22%(98.26%),\tCurrent Time: 20250721-112725\n"
     ]
    },
    {
     "name": "stderr",
     "output_type": "stream",
     "text": [
      "Epoch 31/50: 100%|\u001b[34m███████████████████\u001b[0m| 120/120 [00:01<00:00, 100.38batch/s, loss=0.000616]\u001b[0m\n"
     ]
    },
    {
     "name": "stdout",
     "output_type": "stream",
     "text": [
      "\t Loss: 0.076,\tTrain : 100.00%(100.00%),\tTest : 98.10%(98.26%),\tCurrent Time: 20250721-112726\n"
     ]
    },
    {
     "name": "stderr",
     "output_type": "stream",
     "text": [
      "Epoch 32/50: 100%|\u001b[34m███████████████████\u001b[0m| 120/120 [00:01<00:00, 102.62batch/s, loss=0.000594]\u001b[0m\n"
     ]
    },
    {
     "name": "stdout",
     "output_type": "stream",
     "text": [
      "\t Loss: 0.072,\tTrain : 100.00%(100.00%),\tTest : 98.11%(98.26%),\tCurrent Time: 20250721-112727\n"
     ]
    },
    {
     "name": "stderr",
     "output_type": "stream",
     "text": [
      "Epoch 33/50: 100%|\u001b[34m████████████████████\u001b[0m| 120/120 [00:01<00:00, 94.16batch/s, loss=0.000551]\u001b[0m\n"
     ]
    },
    {
     "name": "stdout",
     "output_type": "stream",
     "text": [
      "\t Loss: 0.067,\tTrain : 100.00%(100.00%),\tTest : 98.19%(98.26%),\tCurrent Time: 20250721-112729\n"
     ]
    },
    {
     "name": "stderr",
     "output_type": "stream",
     "text": [
      "Epoch 34/50: 100%|\u001b[34m████████████████████\u001b[0m| 120/120 [00:01<00:00, 99.81batch/s, loss=0.000560]\u001b[0m\n"
     ]
    },
    {
     "name": "stdout",
     "output_type": "stream",
     "text": [
      "\t Loss: 0.067,\tTrain : 100.00%(100.00%),\tTest : 98.16%(98.26%),\tCurrent Time: 20250721-112730\n"
     ]
    },
    {
     "name": "stderr",
     "output_type": "stream",
     "text": [
      "Epoch 35/50: 100%|\u001b[34m███████████████████\u001b[0m| 120/120 [00:01<00:00, 104.64batch/s, loss=0.000518]\u001b[0m\n"
     ]
    },
    {
     "name": "stdout",
     "output_type": "stream",
     "text": [
      "\t Loss: 0.064,\tTrain : 100.00%(100.00%),\tTest : 98.15%(98.26%),\tCurrent Time: 20250721-112731\n"
     ]
    },
    {
     "name": "stderr",
     "output_type": "stream",
     "text": [
      "Epoch 36/50: 100%|\u001b[34m████████████████████\u001b[0m| 120/120 [00:01<00:00, 98.17batch/s, loss=0.000513]\u001b[0m\n"
     ]
    },
    {
     "name": "stdout",
     "output_type": "stream",
     "text": [
      "\t Loss: 0.063,\tTrain : 100.00%(100.00%),\tTest : 98.15%(98.26%),\tCurrent Time: 20250721-112732\n"
     ]
    },
    {
     "name": "stderr",
     "output_type": "stream",
     "text": [
      "Epoch 37/50: 100%|\u001b[34m████████████████████\u001b[0m| 120/120 [00:01<00:00, 96.90batch/s, loss=0.000474]\u001b[0m\n"
     ]
    },
    {
     "name": "stdout",
     "output_type": "stream",
     "text": [
      "\t Loss: 0.058,\tTrain : 100.00%(100.00%),\tTest : 98.11%(98.26%),\tCurrent Time: 20250721-112734\n"
     ]
    },
    {
     "name": "stderr",
     "output_type": "stream",
     "text": [
      "Epoch 38/50: 100%|\u001b[34m███████████████████\u001b[0m| 120/120 [00:01<00:00, 103.78batch/s, loss=0.000501]\u001b[0m\n"
     ]
    },
    {
     "name": "stdout",
     "output_type": "stream",
     "text": [
      "\t Loss: 0.063,\tTrain : 100.00%(100.00%),\tTest : 98.18%(98.26%),\tCurrent Time: 20250721-112735\n"
     ]
    },
    {
     "name": "stderr",
     "output_type": "stream",
     "text": [
      "Epoch 39/50: 100%|\u001b[34m███████████████████\u001b[0m| 120/120 [00:01<00:00, 106.75batch/s, loss=0.008040]\u001b[0m\n"
     ]
    },
    {
     "name": "stdout",
     "output_type": "stream",
     "text": [
      "\t Loss: 1.371,\tTrain : 99.62%(100.00%),\tTest : 96.99%(98.26%),\tCurrent Time: 20250721-112736\n"
     ]
    },
    {
     "name": "stderr",
     "output_type": "stream",
     "text": [
      "Epoch 40/50: 100%|\u001b[34m███████████████████\u001b[0m| 120/120 [00:01<00:00, 101.01batch/s, loss=0.040206]\u001b[0m\n"
     ]
    },
    {
     "name": "stdout",
     "output_type": "stream",
     "text": [
      "\t Loss: 4.626,\tTrain : 98.67%(100.00%),\tTest : 97.84%(98.26%),\tCurrent Time: 20250721-112737\n"
     ]
    },
    {
     "name": "stderr",
     "output_type": "stream",
     "text": [
      "Epoch 41/50: 100%|\u001b[34m████████████████████\u001b[0m| 120/120 [00:01<00:00, 98.90batch/s, loss=0.010040]\u001b[0m\n"
     ]
    },
    {
     "name": "stdout",
     "output_type": "stream",
     "text": [
      "\t Loss: 1.156,\tTrain : 99.69%(100.00%),\tTest : 98.15%(98.26%),\tCurrent Time: 20250721-112738\n"
     ]
    },
    {
     "name": "stderr",
     "output_type": "stream",
     "text": [
      "Epoch 42/50: 100%|\u001b[34m███████████████████\u001b[0m| 120/120 [00:01<00:00, 103.99batch/s, loss=0.002859]\u001b[0m\n"
     ]
    },
    {
     "name": "stdout",
     "output_type": "stream",
     "text": [
      "\t Loss: 0.340,\tTrain : 99.93%(100.00%),\tTest : 98.13%(98.26%),\tCurrent Time: 20250721-112740\n"
     ]
    },
    {
     "name": "stderr",
     "output_type": "stream",
     "text": [
      "Epoch 43/50: 100%|\u001b[34m████████████████████\u001b[0m| 120/120 [00:01<00:00, 99.00batch/s, loss=0.001181]\u001b[0m\n"
     ]
    },
    {
     "name": "stdout",
     "output_type": "stream",
     "text": [
      "\t Loss: 0.139,\tTrain : 99.99%(100.00%),\tTest : 98.29%(98.29%),\tCurrent Time: 20250721-112741\n"
     ]
    },
    {
     "name": "stderr",
     "output_type": "stream",
     "text": [
      "Epoch 44/50: 100%|\u001b[34m████████████████████\u001b[0m| 120/120 [00:01<00:00, 89.23batch/s, loss=0.000572]\u001b[0m\n"
     ]
    },
    {
     "name": "stdout",
     "output_type": "stream",
     "text": [
      "\t Loss: 0.070,\tTrain : 100.00%(100.00%),\tTest : 98.20%(98.29%),\tCurrent Time: 20250721-112742\n"
     ]
    },
    {
     "name": "stderr",
     "output_type": "stream",
     "text": [
      "Epoch 45/50: 100%|\u001b[34m████████████████████\u001b[0m| 120/120 [00:01<00:00, 95.01batch/s, loss=0.000482]\u001b[0m\n"
     ]
    },
    {
     "name": "stdout",
     "output_type": "stream",
     "text": [
      "\t Loss: 0.058,\tTrain : 100.00%(100.00%),\tTest : 98.15%(98.29%),\tCurrent Time: 20250721-112744\n"
     ]
    },
    {
     "name": "stderr",
     "output_type": "stream",
     "text": [
      "Epoch 46/50: 100%|\u001b[34m███████████████████\u001b[0m| 120/120 [00:01<00:00, 101.66batch/s, loss=0.000462]\u001b[0m\n"
     ]
    },
    {
     "name": "stdout",
     "output_type": "stream",
     "text": [
      "\t Loss: 0.056,\tTrain : 100.00%(100.00%),\tTest : 98.13%(98.29%),\tCurrent Time: 20250721-112745\n"
     ]
    },
    {
     "name": "stderr",
     "output_type": "stream",
     "text": [
      "Epoch 47/50: 100%|\u001b[34m███████████████████\u001b[0m| 120/120 [00:01<00:00, 103.59batch/s, loss=0.000497]\u001b[0m\n"
     ]
    },
    {
     "name": "stdout",
     "output_type": "stream",
     "text": [
      "\t Loss: 0.060,\tTrain : 100.00%(100.00%),\tTest : 98.18%(98.29%),\tCurrent Time: 20250721-112746\n"
     ]
    },
    {
     "name": "stderr",
     "output_type": "stream",
     "text": [
      "Epoch 48/50: 100%|\u001b[34m████████████████████\u001b[0m| 120/120 [00:01<00:00, 93.91batch/s, loss=0.000420]\u001b[0m\n"
     ]
    },
    {
     "name": "stdout",
     "output_type": "stream",
     "text": [
      "\t Loss: 0.051,\tTrain : 100.00%(100.00%),\tTest : 98.15%(98.29%),\tCurrent Time: 20250721-112747\n"
     ]
    },
    {
     "name": "stderr",
     "output_type": "stream",
     "text": [
      "Epoch 49/50: 100%|\u001b[34m████████████████████\u001b[0m| 120/120 [00:01<00:00, 97.23batch/s, loss=0.000391]\u001b[0m\n"
     ]
    },
    {
     "name": "stdout",
     "output_type": "stream",
     "text": [
      "\t Loss: 0.048,\tTrain : 100.00%(100.00%),\tTest : 98.19%(98.29%),\tCurrent Time: 20250721-112749\n"
     ]
    },
    {
     "name": "stderr",
     "output_type": "stream",
     "text": [
      "Epoch 50/50: 100%|\u001b[34m███████████████████\u001b[0m| 120/120 [00:01<00:00, 100.55batch/s, loss=0.000391]\u001b[0m\n"
     ]
    },
    {
     "name": "stdout",
     "output_type": "stream",
     "text": [
      "\t Loss: 0.048,\tTrain : 100.00%(100.00%),\tTest : 98.13%(98.29%),\tCurrent Time: 20250721-112750\n",
      "EP_L2_MNIST_First_com_BP_FA_EP_512_t52-EP_b_scEP-s-EP_It2sta10- Time: 20250721-112750, Epochs: 50, Learning Rate: 0.001, Best: 100.00%  98.29%\n",
      "\n",
      "EP_L2_MNIST_First_com_BP_FA_EP_512_t52-EP_b_scEP-s-EP_It2sta10-\n"
     ]
    },
    {
     "name": "stderr",
     "output_type": "stream",
     "text": [
      "Epoch 1/50: 100%|\u001b[34m████████████████████\u001b[0m| 120/120 [00:01<00:00, 108.05batch/s, loss=0.370056]\u001b[0m\n"
     ]
    },
    {
     "name": "stdout",
     "output_type": "stream",
     "text": [
      "\t Loss: 43.374,\tTrain : 89.32%(89.32%),\tTest : 93.53%(93.53%),\tCurrent Time: 20250721-112751\n"
     ]
    },
    {
     "name": "stderr",
     "output_type": "stream",
     "text": [
      "Epoch 2/50: 100%|\u001b[34m█████████████████████\u001b[0m| 120/120 [00:01<00:00, 98.33batch/s, loss=0.187345]\u001b[0m\n"
     ]
    },
    {
     "name": "stdout",
     "output_type": "stream",
     "text": [
      "\t Loss: 22.283,\tTrain : 94.64%(94.64%),\tTest : 95.46%(95.46%),\tCurrent Time: 20250721-112753\n"
     ]
    },
    {
     "name": "stderr",
     "output_type": "stream",
     "text": [
      "Epoch 3/50: 100%|\u001b[34m████████████████████\u001b[0m| 120/120 [00:01<00:00, 107.56batch/s, loss=0.130664]\u001b[0m\n"
     ]
    },
    {
     "name": "stdout",
     "output_type": "stream",
     "text": [
      "\t Loss: 15.619,\tTrain : 96.20%(96.20%),\tTest : 96.21%(96.21%),\tCurrent Time: 20250721-112754\n"
     ]
    },
    {
     "name": "stderr",
     "output_type": "stream",
     "text": [
      "Epoch 4/50: 100%|\u001b[34m████████████████████\u001b[0m| 120/120 [00:01<00:00, 103.86batch/s, loss=0.097317]\u001b[0m\n"
     ]
    },
    {
     "name": "stdout",
     "output_type": "stream",
     "text": [
      "\t Loss: 11.614,\tTrain : 97.12%(97.12%),\tTest : 96.95%(96.95%),\tCurrent Time: 20250721-112755\n"
     ]
    },
    {
     "name": "stderr",
     "output_type": "stream",
     "text": [
      "Epoch 5/50: 100%|\u001b[34m████████████████████\u001b[0m| 120/120 [00:01<00:00, 106.76batch/s, loss=0.076071]\u001b[0m\n"
     ]
    },
    {
     "name": "stdout",
     "output_type": "stream",
     "text": [
      "\t Loss: 9.058,\tTrain : 97.76%(97.76%),\tTest : 97.30%(97.30%),\tCurrent Time: 20250721-112756\n"
     ]
    },
    {
     "name": "stderr",
     "output_type": "stream",
     "text": [
      "Epoch 6/50: 100%|\u001b[34m█████████████████████\u001b[0m| 120/120 [00:01<00:00, 99.22batch/s, loss=0.059543]\u001b[0m\n"
     ]
    },
    {
     "name": "stdout",
     "output_type": "stream",
     "text": [
      "\t Loss: 7.130,\tTrain : 98.23%(98.23%),\tTest : 97.41%(97.41%),\tCurrent Time: 20250721-112757\n"
     ]
    },
    {
     "name": "stderr",
     "output_type": "stream",
     "text": [
      "Epoch 7/50: 100%|\u001b[34m████████████████████\u001b[0m| 120/120 [00:01<00:00, 100.47batch/s, loss=0.046770]\u001b[0m\n"
     ]
    },
    {
     "name": "stdout",
     "output_type": "stream",
     "text": [
      "\t Loss: 5.636,\tTrain : 98.66%(98.66%),\tTest : 97.42%(97.42%),\tCurrent Time: 20250721-112759\n"
     ]
    },
    {
     "name": "stderr",
     "output_type": "stream",
     "text": [
      "Epoch 8/50: 100%|\u001b[34m████████████████████\u001b[0m| 120/120 [00:01<00:00, 104.94batch/s, loss=0.037058]\u001b[0m\n"
     ]
    },
    {
     "name": "stdout",
     "output_type": "stream",
     "text": [
      "\t Loss: 4.483,\tTrain : 98.92%(98.92%),\tTest : 97.62%(97.62%),\tCurrent Time: 20250721-112800\n"
     ]
    },
    {
     "name": "stderr",
     "output_type": "stream",
     "text": [
      "Epoch 9/50: 100%|\u001b[34m█████████████████████\u001b[0m| 120/120 [00:01<00:00, 97.95batch/s, loss=0.031245]\u001b[0m\n"
     ]
    },
    {
     "name": "stdout",
     "output_type": "stream",
     "text": [
      "\t Loss: 3.777,\tTrain : 99.11%(99.11%),\tTest : 97.74%(97.74%),\tCurrent Time: 20250721-112801\n"
     ]
    },
    {
     "name": "stderr",
     "output_type": "stream",
     "text": [
      "Epoch 10/50: 100%|\u001b[34m███████████████████\u001b[0m| 120/120 [00:01<00:00, 102.29batch/s, loss=0.024773]\u001b[0m\n"
     ]
    },
    {
     "name": "stdout",
     "output_type": "stream",
     "text": [
      "\t Loss: 3.014,\tTrain : 99.30%(99.30%),\tTest : 97.63%(97.74%),\tCurrent Time: 20250721-112802\n"
     ]
    },
    {
     "name": "stderr",
     "output_type": "stream",
     "text": [
      "Epoch 11/50: 100%|\u001b[34m███████████████████\u001b[0m| 120/120 [00:01<00:00, 100.72batch/s, loss=0.020700]\u001b[0m\n"
     ]
    },
    {
     "name": "stdout",
     "output_type": "stream",
     "text": [
      "\t Loss: 2.516,\tTrain : 99.46%(99.46%),\tTest : 97.69%(97.74%),\tCurrent Time: 20250721-112804\n"
     ]
    },
    {
     "name": "stderr",
     "output_type": "stream",
     "text": [
      "Epoch 12/50: 100%|\u001b[34m████████████████████\u001b[0m| 120/120 [00:01<00:00, 95.10batch/s, loss=0.015694]\u001b[0m\n"
     ]
    },
    {
     "name": "stdout",
     "output_type": "stream",
     "text": [
      "\t Loss: 1.893,\tTrain : 99.65%(99.65%),\tTest : 97.95%(97.95%),\tCurrent Time: 20250721-112805\n"
     ]
    },
    {
     "name": "stderr",
     "output_type": "stream",
     "text": [
      "Epoch 13/50: 100%|\u001b[34m███████████████████\u001b[0m| 120/120 [00:01<00:00, 106.11batch/s, loss=0.012479]\u001b[0m\n"
     ]
    },
    {
     "name": "stdout",
     "output_type": "stream",
     "text": [
      "\t Loss: 1.515,\tTrain : 99.76%(99.76%),\tTest : 97.95%(97.95%),\tCurrent Time: 20250721-112806\n"
     ]
    },
    {
     "name": "stderr",
     "output_type": "stream",
     "text": [
      "Epoch 14/50: 100%|\u001b[34m████████████████████\u001b[0m| 120/120 [00:01<00:00, 99.06batch/s, loss=0.010521]\u001b[0m\n"
     ]
    },
    {
     "name": "stdout",
     "output_type": "stream",
     "text": [
      "\t Loss: 1.277,\tTrain : 99.81%(99.81%),\tTest : 97.85%(97.95%),\tCurrent Time: 20250721-112807\n"
     ]
    },
    {
     "name": "stderr",
     "output_type": "stream",
     "text": [
      "Epoch 15/50: 100%|\u001b[34m████████████████████\u001b[0m| 120/120 [00:01<00:00, 98.86batch/s, loss=0.008249]\u001b[0m\n"
     ]
    },
    {
     "name": "stdout",
     "output_type": "stream",
     "text": [
      "\t Loss: 1.000,\tTrain : 99.86%(99.86%),\tTest : 97.91%(97.95%),\tCurrent Time: 20250721-112809\n"
     ]
    },
    {
     "name": "stderr",
     "output_type": "stream",
     "text": [
      "Epoch 16/50: 100%|\u001b[34m████████████████████\u001b[0m| 120/120 [00:01<00:00, 99.83batch/s, loss=0.006828]\u001b[0m\n"
     ]
    },
    {
     "name": "stdout",
     "output_type": "stream",
     "text": [
      "\t Loss: 0.817,\tTrain : 99.89%(99.89%),\tTest : 98.06%(98.06%),\tCurrent Time: 20250721-112810\n"
     ]
    },
    {
     "name": "stderr",
     "output_type": "stream",
     "text": [
      "Epoch 17/50: 100%|\u001b[34m███████████████████\u001b[0m| 120/120 [00:01<00:00, 101.23batch/s, loss=0.004661]\u001b[0m\n"
     ]
    },
    {
     "name": "stdout",
     "output_type": "stream",
     "text": [
      "\t Loss: 0.576,\tTrain : 99.95%(99.95%),\tTest : 97.91%(98.06%),\tCurrent Time: 20250721-112811\n"
     ]
    },
    {
     "name": "stderr",
     "output_type": "stream",
     "text": [
      "Epoch 18/50: 100%|\u001b[34m████████████████████\u001b[0m| 120/120 [00:01<00:00, 91.09batch/s, loss=0.004402]\u001b[0m\n"
     ]
    },
    {
     "name": "stdout",
     "output_type": "stream",
     "text": [
      "\t Loss: 0.529,\tTrain : 99.96%(99.96%),\tTest : 98.01%(98.06%),\tCurrent Time: 20250721-112812\n"
     ]
    },
    {
     "name": "stderr",
     "output_type": "stream",
     "text": [
      "Epoch 19/50: 100%|\u001b[34m████████████████████\u001b[0m| 120/120 [00:01<00:00, 98.64batch/s, loss=0.003492]\u001b[0m\n"
     ]
    },
    {
     "name": "stdout",
     "output_type": "stream",
     "text": [
      "\t Loss: 0.422,\tTrain : 99.97%(99.97%),\tTest : 98.08%(98.08%),\tCurrent Time: 20250721-112814\n"
     ]
    },
    {
     "name": "stderr",
     "output_type": "stream",
     "text": [
      "Epoch 20/50: 100%|\u001b[34m████████████████████\u001b[0m| 120/120 [00:01<00:00, 98.70batch/s, loss=0.002849]\u001b[0m\n"
     ]
    },
    {
     "name": "stdout",
     "output_type": "stream",
     "text": [
      "\t Loss: 0.346,\tTrain : 99.98%(99.98%),\tTest : 98.05%(98.08%),\tCurrent Time: 20250721-112815\n"
     ]
    },
    {
     "name": "stderr",
     "output_type": "stream",
     "text": [
      "Epoch 21/50: 100%|\u001b[34m████████████████████\u001b[0m| 120/120 [00:01<00:00, 98.55batch/s, loss=0.002479]\u001b[0m\n"
     ]
    },
    {
     "name": "stdout",
     "output_type": "stream",
     "text": [
      "\t Loss: 0.295,\tTrain : 99.99%(99.99%),\tTest : 98.05%(98.08%),\tCurrent Time: 20250721-112816\n"
     ]
    },
    {
     "name": "stderr",
     "output_type": "stream",
     "text": [
      "Epoch 22/50: 100%|\u001b[34m████████████████████\u001b[0m| 120/120 [00:01<00:00, 95.75batch/s, loss=0.002312]\u001b[0m\n"
     ]
    },
    {
     "name": "stdout",
     "output_type": "stream",
     "text": [
      "\t Loss: 0.284,\tTrain : 99.98%(99.99%),\tTest : 98.12%(98.12%),\tCurrent Time: 20250721-112817\n"
     ]
    },
    {
     "name": "stderr",
     "output_type": "stream",
     "text": [
      "Epoch 23/50: 100%|\u001b[34m███████████████████\u001b[0m| 120/120 [00:01<00:00, 101.64batch/s, loss=0.003813]\u001b[0m\n"
     ]
    },
    {
     "name": "stdout",
     "output_type": "stream",
     "text": [
      "\t Loss: 0.456,\tTrain : 99.93%(99.99%),\tTest : 98.00%(98.12%),\tCurrent Time: 20250721-112819\n"
     ]
    },
    {
     "name": "stderr",
     "output_type": "stream",
     "text": [
      "Epoch 24/50: 100%|\u001b[34m████████████████████\u001b[0m| 120/120 [00:01<00:00, 97.00batch/s, loss=0.004734]\u001b[0m\n"
     ]
    },
    {
     "name": "stdout",
     "output_type": "stream",
     "text": [
      "\t Loss: 0.567,\tTrain : 99.90%(99.99%),\tTest : 97.97%(98.12%),\tCurrent Time: 20250721-112820\n"
     ]
    },
    {
     "name": "stderr",
     "output_type": "stream",
     "text": [
      "Epoch 25/50: 100%|\u001b[34m████████████████████\u001b[0m| 120/120 [00:01<00:00, 90.71batch/s, loss=0.003105]\u001b[0m\n"
     ]
    },
    {
     "name": "stdout",
     "output_type": "stream",
     "text": [
      "\t Loss: 0.383,\tTrain : 99.95%(99.99%),\tTest : 98.05%(98.12%),\tCurrent Time: 20250721-112821\n"
     ]
    },
    {
     "name": "stderr",
     "output_type": "stream",
     "text": [
      "Epoch 26/50: 100%|\u001b[34m████████████████████\u001b[0m| 120/120 [00:01<00:00, 95.48batch/s, loss=0.002414]\u001b[0m\n"
     ]
    },
    {
     "name": "stdout",
     "output_type": "stream",
     "text": [
      "\t Loss: 0.296,\tTrain : 99.97%(99.99%),\tTest : 97.99%(98.12%),\tCurrent Time: 20250721-112823\n"
     ]
    },
    {
     "name": "stderr",
     "output_type": "stream",
     "text": [
      "Epoch 27/50: 100%|\u001b[34m███████████████████\u001b[0m| 120/120 [00:01<00:00, 102.91batch/s, loss=0.001944]\u001b[0m\n"
     ]
    },
    {
     "name": "stdout",
     "output_type": "stream",
     "text": [
      "\t Loss: 0.231,\tTrain : 99.98%(99.99%),\tTest : 98.17%(98.17%),\tCurrent Time: 20250721-112824\n"
     ]
    },
    {
     "name": "stderr",
     "output_type": "stream",
     "text": [
      "Epoch 28/50: 100%|\u001b[34m███████████████████\u001b[0m| 120/120 [00:01<00:00, 101.00batch/s, loss=0.001187]\u001b[0m\n"
     ]
    },
    {
     "name": "stdout",
     "output_type": "stream",
     "text": [
      "\t Loss: 0.141,\tTrain : 100.00%(100.00%),\tTest : 98.16%(98.17%),\tCurrent Time: 20250721-112825\n"
     ]
    },
    {
     "name": "stderr",
     "output_type": "stream",
     "text": [
      "Epoch 29/50: 100%|\u001b[34m███████████████████\u001b[0m| 120/120 [00:01<00:00, 105.21batch/s, loss=0.000761]\u001b[0m\n"
     ]
    },
    {
     "name": "stdout",
     "output_type": "stream",
     "text": [
      "\t Loss: 0.092,\tTrain : 100.00%(100.00%),\tTest : 98.22%(98.22%),\tCurrent Time: 20250721-112826\n"
     ]
    },
    {
     "name": "stderr",
     "output_type": "stream",
     "text": [
      "Epoch 30/50: 100%|\u001b[34m███████████████████\u001b[0m| 120/120 [00:01<00:00, 102.93batch/s, loss=0.000717]\u001b[0m\n"
     ]
    },
    {
     "name": "stdout",
     "output_type": "stream",
     "text": [
      "\t Loss: 0.087,\tTrain : 100.00%(100.00%),\tTest : 98.13%(98.22%),\tCurrent Time: 20250721-112827\n"
     ]
    },
    {
     "name": "stderr",
     "output_type": "stream",
     "text": [
      "Epoch 31/50: 100%|\u001b[34m███████████████████\u001b[0m| 120/120 [00:01<00:00, 104.96batch/s, loss=0.000703]\u001b[0m\n"
     ]
    },
    {
     "name": "stdout",
     "output_type": "stream",
     "text": [
      "\t Loss: 0.085,\tTrain : 100.00%(100.00%),\tTest : 98.13%(98.22%),\tCurrent Time: 20250721-112829\n"
     ]
    },
    {
     "name": "stderr",
     "output_type": "stream",
     "text": [
      "Epoch 32/50: 100%|\u001b[34m████████████████████\u001b[0m| 120/120 [00:01<00:00, 98.47batch/s, loss=0.000660]\u001b[0m\n"
     ]
    },
    {
     "name": "stdout",
     "output_type": "stream",
     "text": [
      "\t Loss: 0.081,\tTrain : 100.00%(100.00%),\tTest : 98.11%(98.22%),\tCurrent Time: 20250721-112830\n"
     ]
    },
    {
     "name": "stderr",
     "output_type": "stream",
     "text": [
      "Epoch 33/50: 100%|\u001b[34m███████████████████\u001b[0m| 120/120 [00:01<00:00, 108.50batch/s, loss=0.000596]\u001b[0m\n"
     ]
    },
    {
     "name": "stdout",
     "output_type": "stream",
     "text": [
      "\t Loss: 0.075,\tTrain : 100.00%(100.00%),\tTest : 98.13%(98.22%),\tCurrent Time: 20250721-112831\n"
     ]
    },
    {
     "name": "stderr",
     "output_type": "stream",
     "text": [
      "Epoch 34/50: 100%|\u001b[34m████████████████████\u001b[0m| 120/120 [00:01<00:00, 98.22batch/s, loss=0.000783]\u001b[0m\n"
     ]
    },
    {
     "name": "stdout",
     "output_type": "stream",
     "text": [
      "\t Loss: 0.094,\tTrain : 100.00%(100.00%),\tTest : 98.14%(98.22%),\tCurrent Time: 20250721-112832\n"
     ]
    },
    {
     "name": "stderr",
     "output_type": "stream",
     "text": [
      "Epoch 35/50: 100%|\u001b[34m████████████████████\u001b[0m| 120/120 [00:01<00:00, 98.71batch/s, loss=0.010917]\u001b[0m\n"
     ]
    },
    {
     "name": "stdout",
     "output_type": "stream",
     "text": [
      "\t Loss: 1.845,\tTrain : 99.47%(100.00%),\tTest : 97.16%(98.22%),\tCurrent Time: 20250721-112834\n"
     ]
    },
    {
     "name": "stderr",
     "output_type": "stream",
     "text": [
      "Epoch 36/50: 100%|\u001b[34m███████████████████\u001b[0m| 120/120 [00:01<00:00, 101.11batch/s, loss=0.033092]\u001b[0m\n"
     ]
    },
    {
     "name": "stdout",
     "output_type": "stream",
     "text": [
      "\t Loss: 3.848,\tTrain : 98.88%(100.00%),\tTest : 97.75%(98.22%),\tCurrent Time: 20250721-112835\n"
     ]
    },
    {
     "name": "stderr",
     "output_type": "stream",
     "text": [
      "Epoch 37/50: 100%|\u001b[34m████████████████████\u001b[0m| 120/120 [00:01<00:00, 98.65batch/s, loss=0.008116]\u001b[0m\n"
     ]
    },
    {
     "name": "stdout",
     "output_type": "stream",
     "text": [
      "\t Loss: 0.969,\tTrain : 99.76%(100.00%),\tTest : 98.11%(98.22%),\tCurrent Time: 20250721-112836\n"
     ]
    },
    {
     "name": "stderr",
     "output_type": "stream",
     "text": [
      "Epoch 38/50: 100%|\u001b[34m████████████████████\u001b[0m| 120/120 [00:01<00:00, 99.63batch/s, loss=0.003386]\u001b[0m\n"
     ]
    },
    {
     "name": "stdout",
     "output_type": "stream",
     "text": [
      "\t Loss: 0.399,\tTrain : 99.93%(100.00%),\tTest : 98.19%(98.22%),\tCurrent Time: 20250721-112837\n"
     ]
    },
    {
     "name": "stderr",
     "output_type": "stream",
     "text": [
      "Epoch 39/50: 100%|\u001b[34m███████████████████\u001b[0m| 120/120 [00:01<00:00, 103.48batch/s, loss=0.001641]\u001b[0m\n"
     ]
    },
    {
     "name": "stdout",
     "output_type": "stream",
     "text": [
      "\t Loss: 0.195,\tTrain : 99.97%(100.00%),\tTest : 98.25%(98.25%),\tCurrent Time: 20250721-112838\n"
     ]
    },
    {
     "name": "stderr",
     "output_type": "stream",
     "text": [
      "Epoch 40/50: 100%|\u001b[34m███████████████████\u001b[0m| 120/120 [00:01<00:00, 102.65batch/s, loss=0.000662]\u001b[0m\n"
     ]
    },
    {
     "name": "stdout",
     "output_type": "stream",
     "text": [
      "\t Loss: 0.078,\tTrain : 100.00%(100.00%),\tTest : 98.23%(98.25%),\tCurrent Time: 20250721-112840\n"
     ]
    },
    {
     "name": "stderr",
     "output_type": "stream",
     "text": [
      "Epoch 41/50: 100%|\u001b[34m████████████████████\u001b[0m| 120/120 [00:01<00:00, 95.96batch/s, loss=0.000477]\u001b[0m\n"
     ]
    },
    {
     "name": "stdout",
     "output_type": "stream",
     "text": [
      "\t Loss: 0.057,\tTrain : 100.00%(100.00%),\tTest : 98.25%(98.25%),\tCurrent Time: 20250721-112841\n"
     ]
    },
    {
     "name": "stderr",
     "output_type": "stream",
     "text": [
      "Epoch 42/50: 100%|\u001b[34m███████████████████\u001b[0m| 120/120 [00:01<00:00, 103.52batch/s, loss=0.000483]\u001b[0m\n"
     ]
    },
    {
     "name": "stdout",
     "output_type": "stream",
     "text": [
      "\t Loss: 0.058,\tTrain : 100.00%(100.00%),\tTest : 98.26%(98.26%),\tCurrent Time: 20250721-112842\n"
     ]
    },
    {
     "name": "stderr",
     "output_type": "stream",
     "text": [
      "Epoch 43/50: 100%|\u001b[34m████████████████████\u001b[0m| 120/120 [00:01<00:00, 96.22batch/s, loss=0.000425]\u001b[0m\n"
     ]
    },
    {
     "name": "stdout",
     "output_type": "stream",
     "text": [
      "\t Loss: 0.051,\tTrain : 100.00%(100.00%),\tTest : 98.28%(98.28%),\tCurrent Time: 20250721-112844\n"
     ]
    },
    {
     "name": "stderr",
     "output_type": "stream",
     "text": [
      "Epoch 44/50: 100%|\u001b[34m████████████████████\u001b[0m| 120/120 [00:01<00:00, 99.14batch/s, loss=0.000432]\u001b[0m\n"
     ]
    },
    {
     "name": "stdout",
     "output_type": "stream",
     "text": [
      "\t Loss: 0.052,\tTrain : 100.00%(100.00%),\tTest : 98.29%(98.29%),\tCurrent Time: 20250721-112845\n"
     ]
    },
    {
     "name": "stderr",
     "output_type": "stream",
     "text": [
      "Epoch 45/50: 100%|\u001b[34m███████████████████\u001b[0m| 120/120 [00:01<00:00, 101.33batch/s, loss=0.000434]\u001b[0m\n"
     ]
    },
    {
     "name": "stdout",
     "output_type": "stream",
     "text": [
      "\t Loss: 0.052,\tTrain : 100.00%(100.00%),\tTest : 98.28%(98.29%),\tCurrent Time: 20250721-112846\n"
     ]
    },
    {
     "name": "stderr",
     "output_type": "stream",
     "text": [
      "Epoch 46/50: 100%|\u001b[34m████████████████████\u001b[0m| 120/120 [00:01<00:00, 99.02batch/s, loss=0.000437]\u001b[0m\n"
     ]
    },
    {
     "name": "stdout",
     "output_type": "stream",
     "text": [
      "\t Loss: 0.053,\tTrain : 100.00%(100.00%),\tTest : 98.33%(98.33%),\tCurrent Time: 20250721-112847\n"
     ]
    },
    {
     "name": "stderr",
     "output_type": "stream",
     "text": [
      "Epoch 47/50: 100%|\u001b[34m████████████████████\u001b[0m| 120/120 [00:01<00:00, 94.90batch/s, loss=0.000450]\u001b[0m\n"
     ]
    },
    {
     "name": "stdout",
     "output_type": "stream",
     "text": [
      "\t Loss: 0.058,\tTrain : 100.00%(100.00%),\tTest : 98.29%(98.33%),\tCurrent Time: 20250721-112849\n"
     ]
    },
    {
     "name": "stderr",
     "output_type": "stream",
     "text": [
      "Epoch 48/50: 100%|\u001b[34m███████████████████\u001b[0m| 120/120 [00:01<00:00, 106.84batch/s, loss=0.001314]\u001b[0m\n"
     ]
    },
    {
     "name": "stdout",
     "output_type": "stream",
     "text": [
      "\t Loss: 0.175,\tTrain : 99.98%(100.00%),\tTest : 98.22%(98.33%),\tCurrent Time: 20250721-112850\n"
     ]
    },
    {
     "name": "stderr",
     "output_type": "stream",
     "text": [
      "Epoch 49/50: 100%|\u001b[34m████████████████████\u001b[0m| 120/120 [00:01<00:00, 96.96batch/s, loss=0.007162]\u001b[0m\n"
     ]
    },
    {
     "name": "stdout",
     "output_type": "stream",
     "text": [
      "\t Loss: 0.976,\tTrain : 99.72%(100.00%),\tTest : 97.22%(98.33%),\tCurrent Time: 20250721-112851\n"
     ]
    },
    {
     "name": "stderr",
     "output_type": "stream",
     "text": [
      "Epoch 50/50: 100%|\u001b[34m████████████████████\u001b[0m| 120/120 [00:01<00:00, 97.89batch/s, loss=0.020682]\u001b[0m\n"
     ]
    },
    {
     "name": "stdout",
     "output_type": "stream",
     "text": [
      "\t Loss: 2.438,\tTrain : 99.28%(100.00%),\tTest : 97.64%(98.33%),\tCurrent Time: 20250721-112852\n",
      "EP_L2_MNIST_First_com_BP_FA_EP_512_t52-EP_b_scEP-s-EP_It2sta10- Time: 20250721-112852, Epochs: 50, Learning Rate: 0.001, Best: 100.00%  98.33%\n",
      "\n",
      "EP_L2_MNIST_First_com_BP_FA_EP_512_t52-EP_b_scEP-s-EP_It2sta10-\n"
     ]
    },
    {
     "name": "stderr",
     "output_type": "stream",
     "text": [
      "Epoch 1/50: 100%|\u001b[34m████████████████████\u001b[0m| 120/120 [00:01<00:00, 109.41batch/s, loss=0.385814]\u001b[0m\n"
     ]
    },
    {
     "name": "stdout",
     "output_type": "stream",
     "text": [
      "\t Loss: 45.106,\tTrain : 88.89%(88.89%),\tTest : 93.12%(93.12%),\tCurrent Time: 20250721-112854\n"
     ]
    },
    {
     "name": "stderr",
     "output_type": "stream",
     "text": [
      "Epoch 2/50: 100%|\u001b[34m████████████████████\u001b[0m| 120/120 [00:01<00:00, 103.06batch/s, loss=0.199581]\u001b[0m\n"
     ]
    },
    {
     "name": "stdout",
     "output_type": "stream",
     "text": [
      "\t Loss: 23.820,\tTrain : 94.28%(94.28%),\tTest : 94.96%(94.96%),\tCurrent Time: 20250721-112855\n"
     ]
    },
    {
     "name": "stderr",
     "output_type": "stream",
     "text": [
      "Epoch 3/50: 100%|\u001b[34m████████████████████\u001b[0m| 120/120 [00:01<00:00, 104.54batch/s, loss=0.140618]\u001b[0m\n"
     ]
    },
    {
     "name": "stdout",
     "output_type": "stream",
     "text": [
      "\t Loss: 16.578,\tTrain : 95.94%(95.94%),\tTest : 96.37%(96.37%),\tCurrent Time: 20250721-112856\n"
     ]
    },
    {
     "name": "stderr",
     "output_type": "stream",
     "text": [
      "Epoch 4/50: 100%|\u001b[34m█████████████████████\u001b[0m| 120/120 [00:01<00:00, 93.48batch/s, loss=0.103212]\u001b[0m\n"
     ]
    },
    {
     "name": "stdout",
     "output_type": "stream",
     "text": [
      "\t Loss: 12.336,\tTrain : 97.01%(97.01%),\tTest : 96.58%(96.58%),\tCurrent Time: 20250721-112857\n"
     ]
    },
    {
     "name": "stderr",
     "output_type": "stream",
     "text": [
      "Epoch 5/50: 100%|\u001b[34m█████████████████████\u001b[0m| 120/120 [00:01<00:00, 96.08batch/s, loss=0.082947]\u001b[0m\n"
     ]
    },
    {
     "name": "stdout",
     "output_type": "stream",
     "text": [
      "\t Loss: 9.956,\tTrain : 97.54%(97.54%),\tTest : 97.36%(97.36%),\tCurrent Time: 20250721-112859\n"
     ]
    },
    {
     "name": "stderr",
     "output_type": "stream",
     "text": [
      "Epoch 6/50: 100%|\u001b[34m█████████████████████\u001b[0m| 120/120 [00:01<00:00, 95.25batch/s, loss=0.063690]\u001b[0m\n"
     ]
    },
    {
     "name": "stdout",
     "output_type": "stream",
     "text": [
      "\t Loss: 7.711,\tTrain : 98.10%(98.10%),\tTest : 97.34%(97.36%),\tCurrent Time: 20250721-112900\n"
     ]
    },
    {
     "name": "stderr",
     "output_type": "stream",
     "text": [
      "Epoch 7/50: 100%|\u001b[34m█████████████████████\u001b[0m| 120/120 [00:01<00:00, 98.59batch/s, loss=0.051992]\u001b[0m\n"
     ]
    },
    {
     "name": "stdout",
     "output_type": "stream",
     "text": [
      "\t Loss: 6.261,\tTrain : 98.43%(98.43%),\tTest : 97.62%(97.62%),\tCurrent Time: 20250721-112901\n"
     ]
    },
    {
     "name": "stderr",
     "output_type": "stream",
     "text": [
      "Epoch 8/50: 100%|\u001b[34m█████████████████████\u001b[0m| 120/120 [00:01<00:00, 98.20batch/s, loss=0.041864]\u001b[0m\n"
     ]
    },
    {
     "name": "stdout",
     "output_type": "stream",
     "text": [
      "\t Loss: 4.970,\tTrain : 98.78%(98.78%),\tTest : 97.72%(97.72%),\tCurrent Time: 20250721-112903\n"
     ]
    },
    {
     "name": "stderr",
     "output_type": "stream",
     "text": [
      "Epoch 9/50: 100%|\u001b[34m█████████████████████\u001b[0m| 120/120 [00:01<00:00, 93.87batch/s, loss=0.033357]\u001b[0m\n"
     ]
    },
    {
     "name": "stdout",
     "output_type": "stream",
     "text": [
      "\t Loss: 4.001,\tTrain : 99.07%(99.07%),\tTest : 97.66%(97.72%),\tCurrent Time: 20250721-112904\n"
     ]
    },
    {
     "name": "stderr",
     "output_type": "stream",
     "text": [
      "Epoch 10/50: 100%|\u001b[34m████████████████████\u001b[0m| 120/120 [00:01<00:00, 95.11batch/s, loss=0.028111]\u001b[0m\n"
     ]
    },
    {
     "name": "stdout",
     "output_type": "stream",
     "text": [
      "\t Loss: 3.316,\tTrain : 99.23%(99.23%),\tTest : 97.95%(97.95%),\tCurrent Time: 20250721-112905\n"
     ]
    },
    {
     "name": "stderr",
     "output_type": "stream",
     "text": [
      "Epoch 11/50: 100%|\u001b[34m████████████████████\u001b[0m| 120/120 [00:01<00:00, 97.60batch/s, loss=0.021416]\u001b[0m\n"
     ]
    },
    {
     "name": "stdout",
     "output_type": "stream",
     "text": [
      "\t Loss: 2.560,\tTrain : 99.49%(99.49%),\tTest : 97.93%(97.95%),\tCurrent Time: 20250721-112906\n"
     ]
    },
    {
     "name": "stderr",
     "output_type": "stream",
     "text": [
      "Epoch 12/50: 100%|\u001b[34m████████████████████\u001b[0m| 120/120 [00:01<00:00, 96.86batch/s, loss=0.016268]\u001b[0m\n"
     ]
    },
    {
     "name": "stdout",
     "output_type": "stream",
     "text": [
      "\t Loss: 1.996,\tTrain : 99.64%(99.64%),\tTest : 97.95%(97.95%),\tCurrent Time: 20250721-112908\n"
     ]
    },
    {
     "name": "stderr",
     "output_type": "stream",
     "text": [
      "Epoch 13/50: 100%|\u001b[34m███████████████████\u001b[0m| 120/120 [00:01<00:00, 100.60batch/s, loss=0.013719]\u001b[0m\n"
     ]
    },
    {
     "name": "stdout",
     "output_type": "stream",
     "text": [
      "\t Loss: 1.630,\tTrain : 99.73%(99.73%),\tTest : 98.01%(98.01%),\tCurrent Time: 20250721-112909\n"
     ]
    },
    {
     "name": "stderr",
     "output_type": "stream",
     "text": [
      "Epoch 14/50: 100%|\u001b[34m███████████████████\u001b[0m| 120/120 [00:01<00:00, 101.94batch/s, loss=0.010989]\u001b[0m\n"
     ]
    },
    {
     "name": "stdout",
     "output_type": "stream",
     "text": [
      "\t Loss: 1.334,\tTrain : 99.78%(99.78%),\tTest : 98.03%(98.03%),\tCurrent Time: 20250721-112910\n"
     ]
    },
    {
     "name": "stderr",
     "output_type": "stream",
     "text": [
      "Epoch 15/50: 100%|\u001b[34m████████████████████\u001b[0m| 120/120 [00:01<00:00, 96.71batch/s, loss=0.008733]\u001b[0m\n"
     ]
    },
    {
     "name": "stdout",
     "output_type": "stream",
     "text": [
      "\t Loss: 1.058,\tTrain : 99.84%(99.84%),\tTest : 98.04%(98.04%),\tCurrent Time: 20250721-112912\n"
     ]
    },
    {
     "name": "stderr",
     "output_type": "stream",
     "text": [
      "Epoch 16/50: 100%|\u001b[34m████████████████████\u001b[0m| 120/120 [00:01<00:00, 98.59batch/s, loss=0.007703]\u001b[0m\n"
     ]
    },
    {
     "name": "stdout",
     "output_type": "stream",
     "text": [
      "\t Loss: 0.919,\tTrain : 99.88%(99.88%),\tTest : 97.78%(98.04%),\tCurrent Time: 20250721-112913\n"
     ]
    },
    {
     "name": "stderr",
     "output_type": "stream",
     "text": [
      "Epoch 17/50: 100%|\u001b[34m███████████████████\u001b[0m| 120/120 [00:01<00:00, 107.83batch/s, loss=0.005915]\u001b[0m\n"
     ]
    },
    {
     "name": "stdout",
     "output_type": "stream",
     "text": [
      "\t Loss: 0.711,\tTrain : 99.92%(99.92%),\tTest : 98.08%(98.08%),\tCurrent Time: 20250721-112914\n"
     ]
    },
    {
     "name": "stderr",
     "output_type": "stream",
     "text": [
      "Epoch 18/50: 100%|\u001b[34m████████████████████\u001b[0m| 120/120 [00:01<00:00, 99.46batch/s, loss=0.004528]\u001b[0m\n"
     ]
    },
    {
     "name": "stdout",
     "output_type": "stream",
     "text": [
      "\t Loss: 0.542,\tTrain : 99.95%(99.95%),\tTest : 98.11%(98.11%),\tCurrent Time: 20250721-112915\n"
     ]
    },
    {
     "name": "stderr",
     "output_type": "stream",
     "text": [
      "Epoch 19/50: 100%|\u001b[34m███████████████████\u001b[0m| 120/120 [00:01<00:00, 111.56batch/s, loss=0.004734]\u001b[0m\n"
     ]
    },
    {
     "name": "stdout",
     "output_type": "stream",
     "text": [
      "\t Loss: 0.571,\tTrain : 99.92%(99.95%),\tTest : 97.98%(98.11%),\tCurrent Time: 20250721-112916\n"
     ]
    },
    {
     "name": "stderr",
     "output_type": "stream",
     "text": [
      "Epoch 20/50: 100%|\u001b[34m███████████████████\u001b[0m| 120/120 [00:01<00:00, 107.11batch/s, loss=0.003167]\u001b[0m\n"
     ]
    },
    {
     "name": "stdout",
     "output_type": "stream",
     "text": [
      "\t Loss: 0.392,\tTrain : 99.97%(99.97%),\tTest : 98.02%(98.11%),\tCurrent Time: 20250721-112917\n"
     ]
    },
    {
     "name": "stderr",
     "output_type": "stream",
     "text": [
      "Epoch 21/50: 100%|\u001b[34m███████████████████\u001b[0m| 120/120 [00:01<00:00, 116.39batch/s, loss=0.002783]\u001b[0m\n"
     ]
    },
    {
     "name": "stdout",
     "output_type": "stream",
     "text": [
      "\t Loss: 0.339,\tTrain : 99.98%(99.98%),\tTest : 98.07%(98.11%),\tCurrent Time: 20250721-112919\n"
     ]
    },
    {
     "name": "stderr",
     "output_type": "stream",
     "text": [
      "Epoch 22/50: 100%|\u001b[34m███████████████████\u001b[0m| 120/120 [00:01<00:00, 116.71batch/s, loss=0.002246]\u001b[0m\n"
     ]
    },
    {
     "name": "stdout",
     "output_type": "stream",
     "text": [
      "\t Loss: 0.266,\tTrain : 99.99%(99.99%),\tTest : 98.14%(98.14%),\tCurrent Time: 20250721-112920\n"
     ]
    },
    {
     "name": "stderr",
     "output_type": "stream",
     "text": [
      "Epoch 23/50: 100%|\u001b[34m███████████████████\u001b[0m| 120/120 [00:01<00:00, 106.77batch/s, loss=0.002199]\u001b[0m\n"
     ]
    },
    {
     "name": "stdout",
     "output_type": "stream",
     "text": [
      "\t Loss: 0.272,\tTrain : 99.98%(99.99%),\tTest : 97.97%(98.14%),\tCurrent Time: 20250721-112921\n"
     ]
    },
    {
     "name": "stderr",
     "output_type": "stream",
     "text": [
      "Epoch 24/50: 100%|\u001b[34m███████████████████\u001b[0m| 120/120 [00:01<00:00, 100.78batch/s, loss=0.002082]\u001b[0m\n"
     ]
    },
    {
     "name": "stdout",
     "output_type": "stream",
     "text": [
      "\t Loss: 0.246,\tTrain : 99.98%(99.99%),\tTest : 98.15%(98.15%),\tCurrent Time: 20250721-112922\n"
     ]
    },
    {
     "name": "stderr",
     "output_type": "stream",
     "text": [
      "Epoch 25/50: 100%|\u001b[34m████████████████████\u001b[0m| 120/120 [00:01<00:00, 98.44batch/s, loss=0.001531]\u001b[0m\n"
     ]
    },
    {
     "name": "stdout",
     "output_type": "stream",
     "text": [
      "\t Loss: 0.190,\tTrain : 99.99%(99.99%),\tTest : 98.12%(98.15%),\tCurrent Time: 20250721-112923\n"
     ]
    },
    {
     "name": "stderr",
     "output_type": "stream",
     "text": [
      "Epoch 26/50: 100%|\u001b[34m███████████████████\u001b[0m| 120/120 [00:01<00:00, 100.66batch/s, loss=0.001384]\u001b[0m\n"
     ]
    },
    {
     "name": "stdout",
     "output_type": "stream",
     "text": [
      "\t Loss: 0.167,\tTrain : 100.00%(100.00%),\tTest : 98.16%(98.16%),\tCurrent Time: 20250721-112924\n"
     ]
    },
    {
     "name": "stderr",
     "output_type": "stream",
     "text": [
      "Epoch 27/50: 100%|\u001b[34m████████████████████\u001b[0m| 120/120 [00:01<00:00, 98.67batch/s, loss=0.001059]\u001b[0m\n"
     ]
    },
    {
     "name": "stdout",
     "output_type": "stream",
     "text": [
      "\t Loss: 0.129,\tTrain : 100.00%(100.00%),\tTest : 98.08%(98.16%),\tCurrent Time: 20250721-112926\n"
     ]
    },
    {
     "name": "stderr",
     "output_type": "stream",
     "text": [
      "Epoch 28/50: 100%|\u001b[34m███████████████████\u001b[0m| 120/120 [00:01<00:00, 103.51batch/s, loss=0.001141]\u001b[0m\n"
     ]
    },
    {
     "name": "stdout",
     "output_type": "stream",
     "text": [
      "\t Loss: 0.140,\tTrain : 100.00%(100.00%),\tTest : 98.13%(98.16%),\tCurrent Time: 20250721-112927\n"
     ]
    },
    {
     "name": "stderr",
     "output_type": "stream",
     "text": [
      "Epoch 29/50: 100%|\u001b[34m████████████████████\u001b[0m| 120/120 [00:01<00:00, 95.92batch/s, loss=0.001593]\u001b[0m\n"
     ]
    },
    {
     "name": "stdout",
     "output_type": "stream",
     "text": [
      "\t Loss: 0.200,\tTrain : 99.98%(100.00%),\tTest : 97.99%(98.16%),\tCurrent Time: 20250721-112928\n"
     ]
    },
    {
     "name": "stderr",
     "output_type": "stream",
     "text": [
      "Epoch 30/50: 100%|\u001b[34m████████████████████\u001b[0m| 120/120 [00:01<00:00, 99.72batch/s, loss=0.013253]\u001b[0m\n"
     ]
    },
    {
     "name": "stdout",
     "output_type": "stream",
     "text": [
      "\t Loss: 1.743,\tTrain : 99.51%(100.00%),\tTest : 96.81%(98.16%),\tCurrent Time: 20250721-112930\n"
     ]
    },
    {
     "name": "stderr",
     "output_type": "stream",
     "text": [
      "Epoch 31/50: 100%|\u001b[34m████████████████████\u001b[0m| 120/120 [00:01<00:00, 96.86batch/s, loss=0.021771]\u001b[0m\n"
     ]
    },
    {
     "name": "stdout",
     "output_type": "stream",
     "text": [
      "\t Loss: 2.550,\tTrain : 99.25%(100.00%),\tTest : 97.91%(98.16%),\tCurrent Time: 20250721-112931\n"
     ]
    },
    {
     "name": "stderr",
     "output_type": "stream",
     "text": [
      "Epoch 32/50: 100%|\u001b[34m███████████████████\u001b[0m| 120/120 [00:01<00:00, 103.86batch/s, loss=0.010372]\u001b[0m\n"
     ]
    },
    {
     "name": "stdout",
     "output_type": "stream",
     "text": [
      "\t Loss: 1.209,\tTrain : 99.66%(100.00%),\tTest : 98.07%(98.16%),\tCurrent Time: 20250721-112932\n"
     ]
    },
    {
     "name": "stderr",
     "output_type": "stream",
     "text": [
      "Epoch 33/50: 100%|\u001b[34m███████████████████\u001b[0m| 120/120 [00:01<00:00, 105.74batch/s, loss=0.003386]\u001b[0m\n"
     ]
    },
    {
     "name": "stdout",
     "output_type": "stream",
     "text": [
      "\t Loss: 0.395,\tTrain : 99.92%(100.00%),\tTest : 98.20%(98.20%),\tCurrent Time: 20250721-112933\n"
     ]
    },
    {
     "name": "stderr",
     "output_type": "stream",
     "text": [
      "Epoch 34/50: 100%|\u001b[34m████████████████████\u001b[0m| 120/120 [00:01<00:00, 98.01batch/s, loss=0.001274]\u001b[0m\n"
     ]
    },
    {
     "name": "stdout",
     "output_type": "stream",
     "text": [
      "\t Loss: 0.153,\tTrain : 99.99%(100.00%),\tTest : 98.14%(98.20%),\tCurrent Time: 20250721-112934\n"
     ]
    },
    {
     "name": "stderr",
     "output_type": "stream",
     "text": [
      "Epoch 35/50: 100%|\u001b[34m███████████████████\u001b[0m| 120/120 [00:01<00:00, 100.98batch/s, loss=0.000732]\u001b[0m\n"
     ]
    },
    {
     "name": "stdout",
     "output_type": "stream",
     "text": [
      "\t Loss: 0.088,\tTrain : 100.00%(100.00%),\tTest : 98.21%(98.21%),\tCurrent Time: 20250721-112936\n"
     ]
    },
    {
     "name": "stderr",
     "output_type": "stream",
     "text": [
      "Epoch 36/50: 100%|\u001b[34m███████████████████\u001b[0m| 120/120 [00:01<00:00, 101.12batch/s, loss=0.000530]\u001b[0m\n"
     ]
    },
    {
     "name": "stdout",
     "output_type": "stream",
     "text": [
      "\t Loss: 0.064,\tTrain : 100.00%(100.00%),\tTest : 98.13%(98.21%),\tCurrent Time: 20250721-112937\n"
     ]
    },
    {
     "name": "stderr",
     "output_type": "stream",
     "text": [
      "Epoch 37/50: 100%|\u001b[34m███████████████████\u001b[0m| 120/120 [00:01<00:00, 102.28batch/s, loss=0.000471]\u001b[0m\n"
     ]
    },
    {
     "name": "stdout",
     "output_type": "stream",
     "text": [
      "\t Loss: 0.057,\tTrain : 100.00%(100.00%),\tTest : 98.13%(98.21%),\tCurrent Time: 20250721-112938\n"
     ]
    },
    {
     "name": "stderr",
     "output_type": "stream",
     "text": [
      "Epoch 38/50: 100%|\u001b[34m████████████████████\u001b[0m| 120/120 [00:01<00:00, 97.00batch/s, loss=0.000448]\u001b[0m\n"
     ]
    },
    {
     "name": "stdout",
     "output_type": "stream",
     "text": [
      "\t Loss: 0.055,\tTrain : 100.00%(100.00%),\tTest : 98.12%(98.21%),\tCurrent Time: 20250721-112939\n"
     ]
    },
    {
     "name": "stderr",
     "output_type": "stream",
     "text": [
      "Epoch 39/50: 100%|\u001b[34m████████████████████\u001b[0m| 120/120 [00:01<00:00, 99.04batch/s, loss=0.000470]\u001b[0m\n"
     ]
    },
    {
     "name": "stdout",
     "output_type": "stream",
     "text": [
      "\t Loss: 0.055,\tTrain : 100.00%(100.00%),\tTest : 98.09%(98.21%),\tCurrent Time: 20250721-112941\n"
     ]
    },
    {
     "name": "stderr",
     "output_type": "stream",
     "text": [
      "Epoch 40/50: 100%|\u001b[34m███████████████████\u001b[0m| 120/120 [00:01<00:00, 113.67batch/s, loss=0.000450]\u001b[0m\n"
     ]
    },
    {
     "name": "stdout",
     "output_type": "stream",
     "text": [
      "\t Loss: 0.055,\tTrain : 100.00%(100.00%),\tTest : 98.10%(98.21%),\tCurrent Time: 20250721-112942\n"
     ]
    },
    {
     "name": "stderr",
     "output_type": "stream",
     "text": [
      "Epoch 41/50: 100%|\u001b[34m████████████████████\u001b[0m| 120/120 [00:01<00:00, 97.12batch/s, loss=0.000430]\u001b[0m\n"
     ]
    },
    {
     "name": "stdout",
     "output_type": "stream",
     "text": [
      "\t Loss: 0.052,\tTrain : 100.00%(100.00%),\tTest : 98.11%(98.21%),\tCurrent Time: 20250721-112943\n"
     ]
    },
    {
     "name": "stderr",
     "output_type": "stream",
     "text": [
      "Epoch 42/50: 100%|\u001b[34m████████████████████\u001b[0m| 120/120 [00:01<00:00, 95.82batch/s, loss=0.000432]\u001b[0m\n"
     ]
    },
    {
     "name": "stdout",
     "output_type": "stream",
     "text": [
      "\t Loss: 0.052,\tTrain : 100.00%(100.00%),\tTest : 98.15%(98.21%),\tCurrent Time: 20250721-112944\n"
     ]
    },
    {
     "name": "stderr",
     "output_type": "stream",
     "text": [
      "Epoch 43/50: 100%|\u001b[34m███████████████████\u001b[0m| 120/120 [00:01<00:00, 105.28batch/s, loss=0.000447]\u001b[0m\n"
     ]
    },
    {
     "name": "stdout",
     "output_type": "stream",
     "text": [
      "\t Loss: 0.054,\tTrain : 100.00%(100.00%),\tTest : 98.12%(98.21%),\tCurrent Time: 20250721-112945\n"
     ]
    },
    {
     "name": "stderr",
     "output_type": "stream",
     "text": [
      "Epoch 44/50: 100%|\u001b[34m████████████████████\u001b[0m| 120/120 [00:01<00:00, 96.02batch/s, loss=0.000466]\u001b[0m\n"
     ]
    },
    {
     "name": "stdout",
     "output_type": "stream",
     "text": [
      "\t Loss: 0.058,\tTrain : 100.00%(100.00%),\tTest : 98.17%(98.21%),\tCurrent Time: 20250721-112947\n"
     ]
    },
    {
     "name": "stderr",
     "output_type": "stream",
     "text": [
      "Epoch 45/50: 100%|\u001b[34m███████████████████\u001b[0m| 120/120 [00:01<00:00, 105.07batch/s, loss=0.008711]\u001b[0m\n"
     ]
    },
    {
     "name": "stdout",
     "output_type": "stream",
     "text": [
      "\t Loss: 1.276,\tTrain : 99.63%(100.00%),\tTest : 97.50%(98.21%),\tCurrent Time: 20250721-112948\n"
     ]
    },
    {
     "name": "stderr",
     "output_type": "stream",
     "text": [
      "Epoch 46/50: 100%|\u001b[34m███████████████████\u001b[0m| 120/120 [00:01<00:00, 103.82batch/s, loss=0.025621]\u001b[0m\n"
     ]
    },
    {
     "name": "stdout",
     "output_type": "stream",
     "text": [
      "\t Loss: 3.031,\tTrain : 99.10%(100.00%),\tTest : 97.47%(98.21%),\tCurrent Time: 20250721-112949\n"
     ]
    },
    {
     "name": "stderr",
     "output_type": "stream",
     "text": [
      "Epoch 47/50: 100%|\u001b[34m████████████████████\u001b[0m| 120/120 [00:01<00:00, 96.53batch/s, loss=0.009153]\u001b[0m\n"
     ]
    },
    {
     "name": "stdout",
     "output_type": "stream",
     "text": [
      "\t Loss: 1.114,\tTrain : 99.68%(100.00%),\tTest : 98.02%(98.21%),\tCurrent Time: 20250721-112950\n"
     ]
    },
    {
     "name": "stderr",
     "output_type": "stream",
     "text": [
      "Epoch 48/50: 100%|\u001b[34m████████████████████\u001b[0m| 120/120 [00:01<00:00, 96.22batch/s, loss=0.003228]\u001b[0m\n"
     ]
    },
    {
     "name": "stdout",
     "output_type": "stream",
     "text": [
      "\t Loss: 0.371,\tTrain : 99.92%(100.00%),\tTest : 98.04%(98.21%),\tCurrent Time: 20250721-112952\n"
     ]
    },
    {
     "name": "stderr",
     "output_type": "stream",
     "text": [
      "Epoch 49/50: 100%|\u001b[34m███████████████████\u001b[0m| 120/120 [00:01<00:00, 100.63batch/s, loss=0.000790]\u001b[0m\n"
     ]
    },
    {
     "name": "stdout",
     "output_type": "stream",
     "text": [
      "\t Loss: 0.093,\tTrain : 100.00%(100.00%),\tTest : 98.18%(98.21%),\tCurrent Time: 20250721-112953\n"
     ]
    },
    {
     "name": "stderr",
     "output_type": "stream",
     "text": [
      "Epoch 50/50: 100%|\u001b[34m████████████████████\u001b[0m| 120/120 [00:01<00:00, 97.70batch/s, loss=0.000415]\u001b[0m\n"
     ]
    },
    {
     "name": "stdout",
     "output_type": "stream",
     "text": [
      "\t Loss: 0.049,\tTrain : 100.00%(100.00%),\tTest : 98.11%(98.21%),\tCurrent Time: 20250721-112954\n",
      "EP_L2_MNIST_First_com_BP_FA_EP_512_t52-EP_b_scEP-s-EP_It2sta10- Time: 20250721-112954, Epochs: 50, Learning Rate: 0.001, Best: 100.00%  98.21%\n",
      "\n",
      "BP_L3_MNIST_First_com_BP_FA_EP_512_t52-EP_b_scBP-EP_It2sta18-\n"
     ]
    },
    {
     "name": "stderr",
     "output_type": "stream",
     "text": [
      "Epoch 1/50: 100%|\u001b[34m████████████████████\u001b[0m| 120/120 [00:00<00:00, 175.13batch/s, loss=0.347157]\u001b[0m\n"
     ]
    },
    {
     "name": "stdout",
     "output_type": "stream",
     "text": [
      "\t Loss: 40.630,\tTrain : 89.98%(89.98%),\tTest : 94.23%(94.23%),\tCurrent Time: 20250721-112955\n"
     ]
    },
    {
     "name": "stderr",
     "output_type": "stream",
     "text": [
      "Epoch 2/50: 100%|\u001b[34m████████████████████\u001b[0m| 120/120 [00:00<00:00, 184.76batch/s, loss=0.156534]\u001b[0m\n"
     ]
    },
    {
     "name": "stdout",
     "output_type": "stream",
     "text": [
      "\t Loss: 18.570,\tTrain : 95.36%(95.36%),\tTest : 96.09%(96.09%),\tCurrent Time: 20250721-112956\n"
     ]
    },
    {
     "name": "stderr",
     "output_type": "stream",
     "text": [
      "Epoch 3/50: 100%|\u001b[34m████████████████████\u001b[0m| 120/120 [00:00<00:00, 188.13batch/s, loss=0.105002]\u001b[0m\n"
     ]
    },
    {
     "name": "stdout",
     "output_type": "stream",
     "text": [
      "\t Loss: 12.544,\tTrain : 96.77%(96.77%),\tTest : 96.78%(96.78%),\tCurrent Time: 20250721-112957\n"
     ]
    },
    {
     "name": "stderr",
     "output_type": "stream",
     "text": [
      "Epoch 4/50: 100%|\u001b[34m████████████████████\u001b[0m| 120/120 [00:00<00:00, 196.08batch/s, loss=0.077798]\u001b[0m\n"
     ]
    },
    {
     "name": "stdout",
     "output_type": "stream",
     "text": [
      "\t Loss: 9.431,\tTrain : 97.55%(97.55%),\tTest : 97.02%(97.02%),\tCurrent Time: 20250721-112957\n"
     ]
    },
    {
     "name": "stderr",
     "output_type": "stream",
     "text": [
      "Epoch 5/50: 100%|\u001b[34m████████████████████\u001b[0m| 120/120 [00:00<00:00, 182.99batch/s, loss=0.059172]\u001b[0m\n"
     ]
    },
    {
     "name": "stdout",
     "output_type": "stream",
     "text": [
      "\t Loss: 7.078,\tTrain : 98.19%(98.19%),\tTest : 97.34%(97.34%),\tCurrent Time: 20250721-112958\n"
     ]
    },
    {
     "name": "stderr",
     "output_type": "stream",
     "text": [
      "Epoch 6/50: 100%|\u001b[34m████████████████████\u001b[0m| 120/120 [00:00<00:00, 182.99batch/s, loss=0.043576]\u001b[0m\n"
     ]
    },
    {
     "name": "stdout",
     "output_type": "stream",
     "text": [
      "\t Loss: 5.281,\tTrain : 98.62%(98.62%),\tTest : 97.52%(97.52%),\tCurrent Time: 20250721-112959\n"
     ]
    },
    {
     "name": "stderr",
     "output_type": "stream",
     "text": [
      "Epoch 7/50: 100%|\u001b[34m████████████████████\u001b[0m| 120/120 [00:00<00:00, 171.00batch/s, loss=0.034474]\u001b[0m\n"
     ]
    },
    {
     "name": "stdout",
     "output_type": "stream",
     "text": [
      "\t Loss: 4.160,\tTrain : 99.00%(99.00%),\tTest : 97.59%(97.59%),\tCurrent Time: 20250721-112959\n"
     ]
    },
    {
     "name": "stderr",
     "output_type": "stream",
     "text": [
      "Epoch 8/50: 100%|\u001b[34m████████████████████\u001b[0m| 120/120 [00:00<00:00, 205.97batch/s, loss=0.026299]\u001b[0m\n"
     ]
    },
    {
     "name": "stdout",
     "output_type": "stream",
     "text": [
      "\t Loss: 3.206,\tTrain : 99.19%(99.19%),\tTest : 97.71%(97.71%),\tCurrent Time: 20250721-113000\n"
     ]
    },
    {
     "name": "stderr",
     "output_type": "stream",
     "text": [
      "Epoch 9/50: 100%|\u001b[34m████████████████████\u001b[0m| 120/120 [00:00<00:00, 180.37batch/s, loss=0.019103]\u001b[0m\n"
     ]
    },
    {
     "name": "stdout",
     "output_type": "stream",
     "text": [
      "\t Loss: 2.286,\tTrain : 99.46%(99.46%),\tTest : 97.87%(97.87%),\tCurrent Time: 20250721-113001\n"
     ]
    },
    {
     "name": "stderr",
     "output_type": "stream",
     "text": [
      "Epoch 10/50: 100%|\u001b[34m███████████████████\u001b[0m| 120/120 [00:00<00:00, 199.62batch/s, loss=0.015696]\u001b[0m\n"
     ]
    },
    {
     "name": "stdout",
     "output_type": "stream",
     "text": [
      "\t Loss: 1.902,\tTrain : 99.57%(99.57%),\tTest : 97.99%(97.99%),\tCurrent Time: 20250721-113001\n"
     ]
    },
    {
     "name": "stderr",
     "output_type": "stream",
     "text": [
      "Epoch 11/50: 100%|\u001b[34m███████████████████\u001b[0m| 120/120 [00:00<00:00, 192.76batch/s, loss=0.011076]\u001b[0m\n"
     ]
    },
    {
     "name": "stdout",
     "output_type": "stream",
     "text": [
      "\t Loss: 1.340,\tTrain : 99.73%(99.73%),\tTest : 97.87%(97.99%),\tCurrent Time: 20250721-113002\n"
     ]
    },
    {
     "name": "stderr",
     "output_type": "stream",
     "text": [
      "Epoch 12/50: 100%|\u001b[34m███████████████████\u001b[0m| 120/120 [00:00<00:00, 192.95batch/s, loss=0.007728]\u001b[0m\n"
     ]
    },
    {
     "name": "stdout",
     "output_type": "stream",
     "text": [
      "\t Loss: 0.932,\tTrain : 99.86%(99.86%),\tTest : 97.86%(97.99%),\tCurrent Time: 20250721-113003\n"
     ]
    },
    {
     "name": "stderr",
     "output_type": "stream",
     "text": [
      "Epoch 13/50: 100%|\u001b[34m███████████████████\u001b[0m| 120/120 [00:00<00:00, 212.92batch/s, loss=0.005651]\u001b[0m\n"
     ]
    },
    {
     "name": "stdout",
     "output_type": "stream",
     "text": [
      "\t Loss: 0.686,\tTrain : 99.89%(99.89%),\tTest : 98.02%(98.02%),\tCurrent Time: 20250721-113003\n"
     ]
    },
    {
     "name": "stderr",
     "output_type": "stream",
     "text": [
      "Epoch 14/50: 100%|\u001b[34m███████████████████\u001b[0m| 120/120 [00:00<00:00, 219.50batch/s, loss=0.003435]\u001b[0m\n"
     ]
    },
    {
     "name": "stdout",
     "output_type": "stream",
     "text": [
      "\t Loss: 0.412,\tTrain : 99.96%(99.96%),\tTest : 98.09%(98.09%),\tCurrent Time: 20250721-113004\n"
     ]
    },
    {
     "name": "stderr",
     "output_type": "stream",
     "text": [
      "Epoch 15/50: 100%|\u001b[34m███████████████████\u001b[0m| 120/120 [00:00<00:00, 192.26batch/s, loss=0.003222]\u001b[0m\n"
     ]
    },
    {
     "name": "stdout",
     "output_type": "stream",
     "text": [
      "\t Loss: 0.398,\tTrain : 99.94%(99.96%),\tTest : 97.97%(98.09%),\tCurrent Time: 20250721-113004\n"
     ]
    },
    {
     "name": "stderr",
     "output_type": "stream",
     "text": [
      "Epoch 16/50: 100%|\u001b[34m███████████████████\u001b[0m| 120/120 [00:00<00:00, 206.75batch/s, loss=0.008467]\u001b[0m\n"
     ]
    },
    {
     "name": "stdout",
     "output_type": "stream",
     "text": [
      "\t Loss: 1.096,\tTrain : 99.73%(99.96%),\tTest : 97.67%(98.09%),\tCurrent Time: 20250721-113005\n"
     ]
    },
    {
     "name": "stderr",
     "output_type": "stream",
     "text": [
      "Epoch 17/50: 100%|\u001b[34m███████████████████\u001b[0m| 120/120 [00:00<00:00, 222.47batch/s, loss=0.021934]\u001b[0m\n"
     ]
    },
    {
     "name": "stdout",
     "output_type": "stream",
     "text": [
      "\t Loss: 2.585,\tTrain : 99.28%(99.96%),\tTest : 97.69%(98.09%),\tCurrent Time: 20250721-113006\n"
     ]
    },
    {
     "name": "stderr",
     "output_type": "stream",
     "text": [
      "Epoch 18/50: 100%|\u001b[34m███████████████████\u001b[0m| 120/120 [00:00<00:00, 153.47batch/s, loss=0.006906]\u001b[0m\n"
     ]
    },
    {
     "name": "stdout",
     "output_type": "stream",
     "text": [
      "\t Loss: 0.834,\tTrain : 99.81%(99.96%),\tTest : 98.01%(98.09%),\tCurrent Time: 20250721-113006\n"
     ]
    },
    {
     "name": "stderr",
     "output_type": "stream",
     "text": [
      "Epoch 19/50: 100%|\u001b[34m███████████████████\u001b[0m| 120/120 [00:00<00:00, 167.09batch/s, loss=0.003181]\u001b[0m\n"
     ]
    },
    {
     "name": "stdout",
     "output_type": "stream",
     "text": [
      "\t Loss: 0.372,\tTrain : 99.93%(99.96%),\tTest : 98.13%(98.13%),\tCurrent Time: 20250721-113007\n"
     ]
    },
    {
     "name": "stderr",
     "output_type": "stream",
     "text": [
      "Epoch 20/50: 100%|\u001b[34m███████████████████\u001b[0m| 120/120 [00:00<00:00, 165.03batch/s, loss=0.001804]\u001b[0m\n"
     ]
    },
    {
     "name": "stdout",
     "output_type": "stream",
     "text": [
      "\t Loss: 0.212,\tTrain : 99.98%(99.98%),\tTest : 98.12%(98.13%),\tCurrent Time: 20250721-113008\n"
     ]
    },
    {
     "name": "stderr",
     "output_type": "stream",
     "text": [
      "Epoch 21/50: 100%|\u001b[34m███████████████████\u001b[0m| 120/120 [00:00<00:00, 197.91batch/s, loss=0.000565]\u001b[0m\n"
     ]
    },
    {
     "name": "stdout",
     "output_type": "stream",
     "text": [
      "\t Loss: 0.068,\tTrain : 100.00%(100.00%),\tTest : 98.20%(98.20%),\tCurrent Time: 20250721-113008\n"
     ]
    },
    {
     "name": "stderr",
     "output_type": "stream",
     "text": [
      "Epoch 22/50: 100%|\u001b[34m███████████████████\u001b[0m| 120/120 [00:00<00:00, 263.62batch/s, loss=0.000365]\u001b[0m\n"
     ]
    },
    {
     "name": "stdout",
     "output_type": "stream",
     "text": [
      "\t Loss: 0.043,\tTrain : 100.00%(100.00%),\tTest : 98.28%(98.28%),\tCurrent Time: 20250721-113009\n"
     ]
    },
    {
     "name": "stderr",
     "output_type": "stream",
     "text": [
      "Epoch 23/50: 100%|\u001b[34m███████████████████\u001b[0m| 120/120 [00:00<00:00, 231.86batch/s, loss=0.000279]\u001b[0m\n"
     ]
    },
    {
     "name": "stdout",
     "output_type": "stream",
     "text": [
      "\t Loss: 0.034,\tTrain : 100.00%(100.00%),\tTest : 98.26%(98.28%),\tCurrent Time: 20250721-113009\n"
     ]
    },
    {
     "name": "stderr",
     "output_type": "stream",
     "text": [
      "Epoch 24/50: 100%|\u001b[34m███████████████████\u001b[0m| 120/120 [00:00<00:00, 239.82batch/s, loss=0.000246]\u001b[0m\n"
     ]
    },
    {
     "name": "stdout",
     "output_type": "stream",
     "text": [
      "\t Loss: 0.029,\tTrain : 100.00%(100.00%),\tTest : 98.21%(98.28%),\tCurrent Time: 20250721-113010\n"
     ]
    },
    {
     "name": "stderr",
     "output_type": "stream",
     "text": [
      "Epoch 25/50: 100%|\u001b[34m███████████████████\u001b[0m| 120/120 [00:00<00:00, 274.74batch/s, loss=0.000215]\u001b[0m\n"
     ]
    },
    {
     "name": "stdout",
     "output_type": "stream",
     "text": [
      "\t Loss: 0.026,\tTrain : 100.00%(100.00%),\tTest : 98.25%(98.28%),\tCurrent Time: 20250721-113010\n"
     ]
    },
    {
     "name": "stderr",
     "output_type": "stream",
     "text": [
      "Epoch 26/50: 100%|\u001b[34m███████████████████\u001b[0m| 120/120 [00:00<00:00, 259.31batch/s, loss=0.000191]\u001b[0m\n"
     ]
    },
    {
     "name": "stdout",
     "output_type": "stream",
     "text": [
      "\t Loss: 0.023,\tTrain : 100.00%(100.00%),\tTest : 98.29%(98.29%),\tCurrent Time: 20250721-113011\n"
     ]
    },
    {
     "name": "stderr",
     "output_type": "stream",
     "text": [
      "Epoch 27/50: 100%|\u001b[34m███████████████████\u001b[0m| 120/120 [00:00<00:00, 257.69batch/s, loss=0.000178]\u001b[0m\n"
     ]
    },
    {
     "name": "stdout",
     "output_type": "stream",
     "text": [
      "\t Loss: 0.021,\tTrain : 100.00%(100.00%),\tTest : 98.26%(98.29%),\tCurrent Time: 20250721-113011\n"
     ]
    },
    {
     "name": "stderr",
     "output_type": "stream",
     "text": [
      "Epoch 28/50: 100%|\u001b[34m███████████████████\u001b[0m| 120/120 [00:00<00:00, 253.39batch/s, loss=0.000162]\u001b[0m\n"
     ]
    },
    {
     "name": "stdout",
     "output_type": "stream",
     "text": [
      "\t Loss: 0.019,\tTrain : 100.00%(100.00%),\tTest : 98.26%(98.29%),\tCurrent Time: 20250721-113012\n"
     ]
    },
    {
     "name": "stderr",
     "output_type": "stream",
     "text": [
      "Epoch 29/50: 100%|\u001b[34m███████████████████\u001b[0m| 120/120 [00:00<00:00, 289.84batch/s, loss=0.000145]\u001b[0m\n"
     ]
    },
    {
     "name": "stdout",
     "output_type": "stream",
     "text": [
      "\t Loss: 0.018,\tTrain : 100.00%(100.00%),\tTest : 98.27%(98.29%),\tCurrent Time: 20250721-113012\n"
     ]
    },
    {
     "name": "stderr",
     "output_type": "stream",
     "text": [
      "Epoch 30/50: 100%|\u001b[34m███████████████████\u001b[0m| 120/120 [00:00<00:00, 275.62batch/s, loss=0.000133]\u001b[0m\n"
     ]
    },
    {
     "name": "stdout",
     "output_type": "stream",
     "text": [
      "\t Loss: 0.016,\tTrain : 100.00%(100.00%),\tTest : 98.28%(98.29%),\tCurrent Time: 20250721-113013\n"
     ]
    },
    {
     "name": "stderr",
     "output_type": "stream",
     "text": [
      "Epoch 31/50: 100%|\u001b[34m███████████████████\u001b[0m| 120/120 [00:00<00:00, 232.14batch/s, loss=0.000122]\u001b[0m\n"
     ]
    },
    {
     "name": "stdout",
     "output_type": "stream",
     "text": [
      "\t Loss: 0.015,\tTrain : 100.00%(100.00%),\tTest : 98.26%(98.29%),\tCurrent Time: 20250721-113013\n"
     ]
    },
    {
     "name": "stderr",
     "output_type": "stream",
     "text": [
      "Epoch 32/50: 100%|\u001b[34m███████████████████\u001b[0m| 120/120 [00:00<00:00, 242.26batch/s, loss=0.000113]\u001b[0m\n"
     ]
    },
    {
     "name": "stdout",
     "output_type": "stream",
     "text": [
      "\t Loss: 0.014,\tTrain : 100.00%(100.00%),\tTest : 98.26%(98.29%),\tCurrent Time: 20250721-113014\n"
     ]
    },
    {
     "name": "stderr",
     "output_type": "stream",
     "text": [
      "Epoch 33/50: 100%|\u001b[34m███████████████████\u001b[0m| 120/120 [00:00<00:00, 209.77batch/s, loss=0.000104]\u001b[0m\n"
     ]
    },
    {
     "name": "stdout",
     "output_type": "stream",
     "text": [
      "\t Loss: 0.013,\tTrain : 100.00%(100.00%),\tTest : 98.27%(98.29%),\tCurrent Time: 20250721-113014\n"
     ]
    },
    {
     "name": "stderr",
     "output_type": "stream",
     "text": [
      "Epoch 34/50: 100%|\u001b[34m███████████████████\u001b[0m| 120/120 [00:00<00:00, 268.99batch/s, loss=0.000096]\u001b[0m\n"
     ]
    },
    {
     "name": "stdout",
     "output_type": "stream",
     "text": [
      "\t Loss: 0.012,\tTrain : 100.00%(100.00%),\tTest : 98.26%(98.29%),\tCurrent Time: 20250721-113015\n"
     ]
    },
    {
     "name": "stderr",
     "output_type": "stream",
     "text": [
      "Epoch 35/50: 100%|\u001b[34m███████████████████\u001b[0m| 120/120 [00:00<00:00, 292.14batch/s, loss=0.000090]\u001b[0m\n"
     ]
    },
    {
     "name": "stdout",
     "output_type": "stream",
     "text": [
      "\t Loss: 0.011,\tTrain : 100.00%(100.00%),\tTest : 98.29%(98.29%),\tCurrent Time: 20250721-113015\n"
     ]
    },
    {
     "name": "stderr",
     "output_type": "stream",
     "text": [
      "Epoch 36/50: 100%|\u001b[34m███████████████████\u001b[0m| 120/120 [00:00<00:00, 300.91batch/s, loss=0.000083]\u001b[0m\n"
     ]
    },
    {
     "name": "stdout",
     "output_type": "stream",
     "text": [
      "\t Loss: 0.010,\tTrain : 100.00%(100.00%),\tTest : 98.27%(98.29%),\tCurrent Time: 20250721-113016\n"
     ]
    },
    {
     "name": "stderr",
     "output_type": "stream",
     "text": [
      "Epoch 37/50: 100%|\u001b[34m███████████████████\u001b[0m| 120/120 [00:00<00:00, 279.95batch/s, loss=0.000076]\u001b[0m\n"
     ]
    },
    {
     "name": "stdout",
     "output_type": "stream",
     "text": [
      "\t Loss: 0.009,\tTrain : 100.00%(100.00%),\tTest : 98.28%(98.29%),\tCurrent Time: 20250721-113016\n"
     ]
    },
    {
     "name": "stderr",
     "output_type": "stream",
     "text": [
      "Epoch 38/50: 100%|\u001b[34m███████████████████\u001b[0m| 120/120 [00:00<00:00, 242.18batch/s, loss=0.000072]\u001b[0m\n"
     ]
    },
    {
     "name": "stdout",
     "output_type": "stream",
     "text": [
      "\t Loss: 0.009,\tTrain : 100.00%(100.00%),\tTest : 98.29%(98.29%),\tCurrent Time: 20250721-113017\n"
     ]
    },
    {
     "name": "stderr",
     "output_type": "stream",
     "text": [
      "Epoch 39/50: 100%|\u001b[34m███████████████████\u001b[0m| 120/120 [00:00<00:00, 269.13batch/s, loss=0.000067]\u001b[0m\n"
     ]
    },
    {
     "name": "stdout",
     "output_type": "stream",
     "text": [
      "\t Loss: 0.008,\tTrain : 100.00%(100.00%),\tTest : 98.26%(98.29%),\tCurrent Time: 20250721-113017\n"
     ]
    },
    {
     "name": "stderr",
     "output_type": "stream",
     "text": [
      "Epoch 40/50: 100%|\u001b[34m███████████████████\u001b[0m| 120/120 [00:00<00:00, 283.93batch/s, loss=0.000062]\u001b[0m\n"
     ]
    },
    {
     "name": "stdout",
     "output_type": "stream",
     "text": [
      "\t Loss: 0.007,\tTrain : 100.00%(100.00%),\tTest : 98.27%(98.29%),\tCurrent Time: 20250721-113017\n"
     ]
    },
    {
     "name": "stderr",
     "output_type": "stream",
     "text": [
      "Epoch 41/50: 100%|\u001b[34m███████████████████\u001b[0m| 120/120 [00:00<00:00, 282.07batch/s, loss=0.000058]\u001b[0m\n"
     ]
    },
    {
     "name": "stdout",
     "output_type": "stream",
     "text": [
      "\t Loss: 0.007,\tTrain : 100.00%(100.00%),\tTest : 98.26%(98.29%),\tCurrent Time: 20250721-113018\n"
     ]
    },
    {
     "name": "stderr",
     "output_type": "stream",
     "text": [
      "Epoch 42/50: 100%|\u001b[34m███████████████████\u001b[0m| 120/120 [00:00<00:00, 286.70batch/s, loss=0.000054]\u001b[0m\n"
     ]
    },
    {
     "name": "stdout",
     "output_type": "stream",
     "text": [
      "\t Loss: 0.006,\tTrain : 100.00%(100.00%),\tTest : 98.29%(98.29%),\tCurrent Time: 20250721-113018\n"
     ]
    },
    {
     "name": "stderr",
     "output_type": "stream",
     "text": [
      "Epoch 43/50: 100%|\u001b[34m███████████████████\u001b[0m| 120/120 [00:00<00:00, 290.31batch/s, loss=0.000050]\u001b[0m\n"
     ]
    },
    {
     "name": "stdout",
     "output_type": "stream",
     "text": [
      "\t Loss: 0.006,\tTrain : 100.00%(100.00%),\tTest : 98.26%(98.29%),\tCurrent Time: 20250721-113019\n"
     ]
    },
    {
     "name": "stderr",
     "output_type": "stream",
     "text": [
      "Epoch 44/50: 100%|\u001b[34m███████████████████\u001b[0m| 120/120 [00:00<00:00, 281.72batch/s, loss=0.000047]\u001b[0m\n"
     ]
    },
    {
     "name": "stdout",
     "output_type": "stream",
     "text": [
      "\t Loss: 0.006,\tTrain : 100.00%(100.00%),\tTest : 98.27%(98.29%),\tCurrent Time: 20250721-113019\n"
     ]
    },
    {
     "name": "stderr",
     "output_type": "stream",
     "text": [
      "Epoch 45/50: 100%|\u001b[34m███████████████████\u001b[0m| 120/120 [00:00<00:00, 234.16batch/s, loss=0.000044]\u001b[0m\n"
     ]
    },
    {
     "name": "stdout",
     "output_type": "stream",
     "text": [
      "\t Loss: 0.005,\tTrain : 100.00%(100.00%),\tTest : 98.31%(98.31%),\tCurrent Time: 20250721-113020\n"
     ]
    },
    {
     "name": "stderr",
     "output_type": "stream",
     "text": [
      "Epoch 46/50: 100%|\u001b[34m███████████████████\u001b[0m| 120/120 [00:00<00:00, 200.95batch/s, loss=0.000041]\u001b[0m\n"
     ]
    },
    {
     "name": "stdout",
     "output_type": "stream",
     "text": [
      "\t Loss: 0.005,\tTrain : 100.00%(100.00%),\tTest : 98.27%(98.31%),\tCurrent Time: 20250721-113020\n"
     ]
    },
    {
     "name": "stderr",
     "output_type": "stream",
     "text": [
      "Epoch 47/50: 100%|\u001b[34m███████████████████\u001b[0m| 120/120 [00:00<00:00, 268.36batch/s, loss=0.000038]\u001b[0m\n"
     ]
    },
    {
     "name": "stdout",
     "output_type": "stream",
     "text": [
      "\t Loss: 0.005,\tTrain : 100.00%(100.00%),\tTest : 98.26%(98.31%),\tCurrent Time: 20250721-113021\n"
     ]
    },
    {
     "name": "stderr",
     "output_type": "stream",
     "text": [
      "Epoch 48/50: 100%|\u001b[34m███████████████████\u001b[0m| 120/120 [00:00<00:00, 252.81batch/s, loss=0.000036]\u001b[0m\n"
     ]
    },
    {
     "name": "stdout",
     "output_type": "stream",
     "text": [
      "\t Loss: 0.004,\tTrain : 100.00%(100.00%),\tTest : 98.24%(98.31%),\tCurrent Time: 20250721-113021\n"
     ]
    },
    {
     "name": "stderr",
     "output_type": "stream",
     "text": [
      "Epoch 49/50: 100%|\u001b[34m███████████████████\u001b[0m| 120/120 [00:00<00:00, 298.85batch/s, loss=0.000033]\u001b[0m\n"
     ]
    },
    {
     "name": "stdout",
     "output_type": "stream",
     "text": [
      "\t Loss: 0.004,\tTrain : 100.00%(100.00%),\tTest : 98.28%(98.31%),\tCurrent Time: 20250721-113022\n"
     ]
    },
    {
     "name": "stderr",
     "output_type": "stream",
     "text": [
      "Epoch 50/50: 100%|\u001b[34m███████████████████\u001b[0m| 120/120 [00:00<00:00, 274.20batch/s, loss=0.000031]\u001b[0m\n"
     ]
    },
    {
     "name": "stdout",
     "output_type": "stream",
     "text": [
      "\t Loss: 0.004,\tTrain : 100.00%(100.00%),\tTest : 98.26%(98.31%),\tCurrent Time: 20250721-113022\n",
      "BP_L3_MNIST_First_com_BP_FA_EP_512_t52-EP_b_scBP-EP_It2sta18- Time: 20250721-113022, Epochs: 50, Learning Rate: 0.001, Best: 100.00%  98.31%\n",
      "\n",
      "BP_L3_MNIST_First_com_BP_FA_EP_512_t52-EP_b_scBP-EP_It2sta18-\n"
     ]
    },
    {
     "name": "stderr",
     "output_type": "stream",
     "text": [
      "Epoch 1/50: 100%|\u001b[34m████████████████████\u001b[0m| 120/120 [00:00<00:00, 289.24batch/s, loss=0.362091]\u001b[0m\n"
     ]
    },
    {
     "name": "stdout",
     "output_type": "stream",
     "text": [
      "\t Loss: 42.110,\tTrain : 89.34%(89.34%),\tTest : 94.33%(94.33%),\tCurrent Time: 20250721-113023\n"
     ]
    },
    {
     "name": "stderr",
     "output_type": "stream",
     "text": [
      "Epoch 2/50: 100%|\u001b[34m████████████████████\u001b[0m| 120/120 [00:00<00:00, 265.08batch/s, loss=0.164828]\u001b[0m\n"
     ]
    },
    {
     "name": "stdout",
     "output_type": "stream",
     "text": [
      "\t Loss: 19.786,\tTrain : 95.09%(95.09%),\tTest : 96.23%(96.23%),\tCurrent Time: 20250721-113023\n"
     ]
    },
    {
     "name": "stderr",
     "output_type": "stream",
     "text": [
      "Epoch 3/50: 100%|\u001b[34m████████████████████\u001b[0m| 120/120 [00:00<00:00, 307.15batch/s, loss=0.109037]\u001b[0m\n"
     ]
    },
    {
     "name": "stdout",
     "output_type": "stream",
     "text": [
      "\t Loss: 13.016,\tTrain : 96.78%(96.78%),\tTest : 96.93%(96.93%),\tCurrent Time: 20250721-113024\n"
     ]
    },
    {
     "name": "stderr",
     "output_type": "stream",
     "text": [
      "Epoch 4/50: 100%|\u001b[34m████████████████████\u001b[0m| 120/120 [00:00<00:00, 254.11batch/s, loss=0.078323]\u001b[0m\n"
     ]
    },
    {
     "name": "stdout",
     "output_type": "stream",
     "text": [
      "\t Loss: 9.415,\tTrain : 97.62%(97.62%),\tTest : 97.02%(97.02%),\tCurrent Time: 20250721-113024\n"
     ]
    },
    {
     "name": "stderr",
     "output_type": "stream",
     "text": [
      "Epoch 5/50: 100%|\u001b[34m████████████████████\u001b[0m| 120/120 [00:00<00:00, 287.02batch/s, loss=0.062914]\u001b[0m\n"
     ]
    },
    {
     "name": "stdout",
     "output_type": "stream",
     "text": [
      "\t Loss: 7.559,\tTrain : 98.04%(98.04%),\tTest : 97.32%(97.32%),\tCurrent Time: 20250721-113025\n"
     ]
    },
    {
     "name": "stderr",
     "output_type": "stream",
     "text": [
      "Epoch 6/50: 100%|\u001b[34m████████████████████\u001b[0m| 120/120 [00:00<00:00, 314.71batch/s, loss=0.048709]\u001b[0m\n"
     ]
    },
    {
     "name": "stdout",
     "output_type": "stream",
     "text": [
      "\t Loss: 5.826,\tTrain : 98.53%(98.53%),\tTest : 97.72%(97.72%),\tCurrent Time: 20250721-113025\n"
     ]
    },
    {
     "name": "stderr",
     "output_type": "stream",
     "text": [
      "Epoch 7/50: 100%|\u001b[34m████████████████████\u001b[0m| 120/120 [00:00<00:00, 264.96batch/s, loss=0.035178]\u001b[0m\n"
     ]
    },
    {
     "name": "stdout",
     "output_type": "stream",
     "text": [
      "\t Loss: 4.279,\tTrain : 98.95%(98.95%),\tTest : 97.64%(97.72%),\tCurrent Time: 20250721-113026\n"
     ]
    },
    {
     "name": "stderr",
     "output_type": "stream",
     "text": [
      "Epoch 8/50: 100%|\u001b[34m████████████████████\u001b[0m| 120/120 [00:00<00:00, 273.92batch/s, loss=0.026552]\u001b[0m\n"
     ]
    },
    {
     "name": "stdout",
     "output_type": "stream",
     "text": [
      "\t Loss: 3.252,\tTrain : 99.22%(99.22%),\tTest : 97.73%(97.73%),\tCurrent Time: 20250721-113026\n"
     ]
    },
    {
     "name": "stderr",
     "output_type": "stream",
     "text": [
      "Epoch 9/50: 100%|\u001b[34m████████████████████\u001b[0m| 120/120 [00:00<00:00, 250.10batch/s, loss=0.021415]\u001b[0m\n"
     ]
    },
    {
     "name": "stdout",
     "output_type": "stream",
     "text": [
      "\t Loss: 2.580,\tTrain : 99.37%(99.37%),\tTest : 97.83%(97.83%),\tCurrent Time: 20250721-113027\n"
     ]
    },
    {
     "name": "stderr",
     "output_type": "stream",
     "text": [
      "Epoch 10/50: 100%|\u001b[34m███████████████████\u001b[0m| 120/120 [00:00<00:00, 265.19batch/s, loss=0.014105]\u001b[0m\n"
     ]
    },
    {
     "name": "stdout",
     "output_type": "stream",
     "text": [
      "\t Loss: 1.727,\tTrain : 99.64%(99.64%),\tTest : 98.02%(98.02%),\tCurrent Time: 20250721-113027\n"
     ]
    },
    {
     "name": "stderr",
     "output_type": "stream",
     "text": [
      "Epoch 11/50: 100%|\u001b[34m███████████████████\u001b[0m| 120/120 [00:00<00:00, 306.91batch/s, loss=0.011483]\u001b[0m\n"
     ]
    },
    {
     "name": "stdout",
     "output_type": "stream",
     "text": [
      "\t Loss: 1.376,\tTrain : 99.72%(99.72%),\tTest : 98.09%(98.09%),\tCurrent Time: 20250721-113027\n"
     ]
    },
    {
     "name": "stderr",
     "output_type": "stream",
     "text": [
      "Epoch 12/50: 100%|\u001b[34m███████████████████\u001b[0m| 120/120 [00:00<00:00, 254.26batch/s, loss=0.008242]\u001b[0m\n"
     ]
    },
    {
     "name": "stdout",
     "output_type": "stream",
     "text": [
      "\t Loss: 1.003,\tTrain : 99.83%(99.83%),\tTest : 97.91%(98.09%),\tCurrent Time: 20250721-113028\n"
     ]
    },
    {
     "name": "stderr",
     "output_type": "stream",
     "text": [
      "Epoch 13/50: 100%|\u001b[34m███████████████████\u001b[0m| 120/120 [00:00<00:00, 263.64batch/s, loss=0.007291]\u001b[0m\n"
     ]
    },
    {
     "name": "stdout",
     "output_type": "stream",
     "text": [
      "\t Loss: 0.866,\tTrain : 99.85%(99.85%),\tTest : 98.17%(98.17%),\tCurrent Time: 20250721-113028\n"
     ]
    },
    {
     "name": "stderr",
     "output_type": "stream",
     "text": [
      "Epoch 14/50: 100%|\u001b[34m███████████████████\u001b[0m| 120/120 [00:00<00:00, 254.46batch/s, loss=0.004382]\u001b[0m\n"
     ]
    },
    {
     "name": "stdout",
     "output_type": "stream",
     "text": [
      "\t Loss: 0.539,\tTrain : 99.93%(99.93%),\tTest : 98.09%(98.17%),\tCurrent Time: 20250721-113029\n"
     ]
    },
    {
     "name": "stderr",
     "output_type": "stream",
     "text": [
      "Epoch 15/50: 100%|\u001b[34m███████████████████\u001b[0m| 120/120 [00:00<00:00, 273.39batch/s, loss=0.003166]\u001b[0m\n"
     ]
    },
    {
     "name": "stdout",
     "output_type": "stream",
     "text": [
      "\t Loss: 0.375,\tTrain : 99.97%(99.97%),\tTest : 98.11%(98.17%),\tCurrent Time: 20250721-113029\n"
     ]
    },
    {
     "name": "stderr",
     "output_type": "stream",
     "text": [
      "Epoch 16/50: 100%|\u001b[34m███████████████████\u001b[0m| 120/120 [00:00<00:00, 280.12batch/s, loss=0.001943]\u001b[0m\n"
     ]
    },
    {
     "name": "stdout",
     "output_type": "stream",
     "text": [
      "\t Loss: 0.233,\tTrain : 99.98%(99.98%),\tTest : 98.19%(98.19%),\tCurrent Time: 20250721-113030\n"
     ]
    },
    {
     "name": "stderr",
     "output_type": "stream",
     "text": [
      "Epoch 17/50: 100%|\u001b[34m███████████████████\u001b[0m| 120/120 [00:00<00:00, 299.10batch/s, loss=0.001134]\u001b[0m\n"
     ]
    },
    {
     "name": "stdout",
     "output_type": "stream",
     "text": [
      "\t Loss: 0.135,\tTrain : 100.00%(100.00%),\tTest : 98.30%(98.30%),\tCurrent Time: 20250721-113030\n"
     ]
    },
    {
     "name": "stderr",
     "output_type": "stream",
     "text": [
      "Epoch 18/50: 100%|\u001b[34m███████████████████\u001b[0m| 120/120 [00:00<00:00, 265.34batch/s, loss=0.000774]\u001b[0m\n"
     ]
    },
    {
     "name": "stdout",
     "output_type": "stream",
     "text": [
      "\t Loss: 0.093,\tTrain : 100.00%(100.00%),\tTest : 98.16%(98.30%),\tCurrent Time: 20250721-113031\n"
     ]
    },
    {
     "name": "stderr",
     "output_type": "stream",
     "text": [
      "Epoch 19/50: 100%|\u001b[34m███████████████████\u001b[0m| 120/120 [00:00<00:00, 274.68batch/s, loss=0.000616]\u001b[0m\n"
     ]
    },
    {
     "name": "stdout",
     "output_type": "stream",
     "text": [
      "\t Loss: 0.073,\tTrain : 100.00%(100.00%),\tTest : 98.33%(98.33%),\tCurrent Time: 20250721-113031\n"
     ]
    },
    {
     "name": "stderr",
     "output_type": "stream",
     "text": [
      "Epoch 20/50: 100%|\u001b[34m███████████████████\u001b[0m| 120/120 [00:00<00:00, 252.29batch/s, loss=0.000502]\u001b[0m\n"
     ]
    },
    {
     "name": "stdout",
     "output_type": "stream",
     "text": [
      "\t Loss: 0.061,\tTrain : 100.00%(100.00%),\tTest : 98.29%(98.33%),\tCurrent Time: 20250721-113032\n"
     ]
    },
    {
     "name": "stderr",
     "output_type": "stream",
     "text": [
      "Epoch 21/50: 100%|\u001b[34m███████████████████\u001b[0m| 120/120 [00:00<00:00, 284.89batch/s, loss=0.000469]\u001b[0m\n"
     ]
    },
    {
     "name": "stdout",
     "output_type": "stream",
     "text": [
      "\t Loss: 0.055,\tTrain : 100.00%(100.00%),\tTest : 98.25%(98.33%),\tCurrent Time: 20250721-113032\n"
     ]
    },
    {
     "name": "stderr",
     "output_type": "stream",
     "text": [
      "Epoch 22/50: 100%|\u001b[34m███████████████████\u001b[0m| 120/120 [00:00<00:00, 297.15batch/s, loss=0.000388]\u001b[0m\n"
     ]
    },
    {
     "name": "stdout",
     "output_type": "stream",
     "text": [
      "\t Loss: 0.047,\tTrain : 100.00%(100.00%),\tTest : 98.25%(98.33%),\tCurrent Time: 20250721-113032\n"
     ]
    },
    {
     "name": "stderr",
     "output_type": "stream",
     "text": [
      "Epoch 23/50: 100%|\u001b[34m███████████████████\u001b[0m| 120/120 [00:00<00:00, 278.42batch/s, loss=0.000340]\u001b[0m\n"
     ]
    },
    {
     "name": "stdout",
     "output_type": "stream",
     "text": [
      "\t Loss: 0.041,\tTrain : 100.00%(100.00%),\tTest : 98.24%(98.33%),\tCurrent Time: 20250721-113033\n"
     ]
    },
    {
     "name": "stderr",
     "output_type": "stream",
     "text": [
      "Epoch 24/50: 100%|\u001b[34m███████████████████\u001b[0m| 120/120 [00:00<00:00, 249.07batch/s, loss=0.000306]\u001b[0m\n"
     ]
    },
    {
     "name": "stdout",
     "output_type": "stream",
     "text": [
      "\t Loss: 0.037,\tTrain : 100.00%(100.00%),\tTest : 98.19%(98.33%),\tCurrent Time: 20250721-113033\n"
     ]
    },
    {
     "name": "stderr",
     "output_type": "stream",
     "text": [
      "Epoch 25/50: 100%|\u001b[34m███████████████████\u001b[0m| 120/120 [00:00<00:00, 258.23batch/s, loss=0.000272]\u001b[0m\n"
     ]
    },
    {
     "name": "stdout",
     "output_type": "stream",
     "text": [
      "\t Loss: 0.033,\tTrain : 100.00%(100.00%),\tTest : 98.27%(98.33%),\tCurrent Time: 20250721-113034\n"
     ]
    },
    {
     "name": "stderr",
     "output_type": "stream",
     "text": [
      "Epoch 26/50: 100%|\u001b[34m███████████████████\u001b[0m| 120/120 [00:00<00:00, 299.10batch/s, loss=0.000246]\u001b[0m\n"
     ]
    },
    {
     "name": "stdout",
     "output_type": "stream",
     "text": [
      "\t Loss: 0.030,\tTrain : 100.00%(100.00%),\tTest : 98.25%(98.33%),\tCurrent Time: 20250721-113034\n"
     ]
    },
    {
     "name": "stderr",
     "output_type": "stream",
     "text": [
      "Epoch 27/50: 100%|\u001b[34m███████████████████\u001b[0m| 120/120 [00:00<00:00, 266.27batch/s, loss=0.000219]\u001b[0m\n"
     ]
    },
    {
     "name": "stdout",
     "output_type": "stream",
     "text": [
      "\t Loss: 0.026,\tTrain : 100.00%(100.00%),\tTest : 98.28%(98.33%),\tCurrent Time: 20250721-113035\n"
     ]
    },
    {
     "name": "stderr",
     "output_type": "stream",
     "text": [
      "Epoch 28/50: 100%|\u001b[34m███████████████████\u001b[0m| 120/120 [00:00<00:00, 233.57batch/s, loss=0.000200]\u001b[0m\n"
     ]
    },
    {
     "name": "stdout",
     "output_type": "stream",
     "text": [
      "\t Loss: 0.024,\tTrain : 100.00%(100.00%),\tTest : 98.26%(98.33%),\tCurrent Time: 20250721-113035\n"
     ]
    },
    {
     "name": "stderr",
     "output_type": "stream",
     "text": [
      "Epoch 29/50: 100%|\u001b[34m███████████████████\u001b[0m| 120/120 [00:00<00:00, 260.33batch/s, loss=0.000180]\u001b[0m\n"
     ]
    },
    {
     "name": "stdout",
     "output_type": "stream",
     "text": [
      "\t Loss: 0.022,\tTrain : 100.00%(100.00%),\tTest : 98.28%(98.33%),\tCurrent Time: 20250721-113036\n"
     ]
    },
    {
     "name": "stderr",
     "output_type": "stream",
     "text": [
      "Epoch 30/50: 100%|\u001b[34m███████████████████\u001b[0m| 120/120 [00:00<00:00, 282.70batch/s, loss=0.000165]\u001b[0m\n"
     ]
    },
    {
     "name": "stdout",
     "output_type": "stream",
     "text": [
      "\t Loss: 0.020,\tTrain : 100.00%(100.00%),\tTest : 98.20%(98.33%),\tCurrent Time: 20250721-113036\n"
     ]
    },
    {
     "name": "stderr",
     "output_type": "stream",
     "text": [
      "Epoch 31/50: 100%|\u001b[34m███████████████████\u001b[0m| 120/120 [00:00<00:00, 255.97batch/s, loss=0.000150]\u001b[0m\n"
     ]
    },
    {
     "name": "stdout",
     "output_type": "stream",
     "text": [
      "\t Loss: 0.018,\tTrain : 100.00%(100.00%),\tTest : 98.29%(98.33%),\tCurrent Time: 20250721-113037\n"
     ]
    },
    {
     "name": "stderr",
     "output_type": "stream",
     "text": [
      "Epoch 32/50: 100%|\u001b[34m███████████████████\u001b[0m| 120/120 [00:00<00:00, 264.11batch/s, loss=0.000137]\u001b[0m\n"
     ]
    },
    {
     "name": "stdout",
     "output_type": "stream",
     "text": [
      "\t Loss: 0.016,\tTrain : 100.00%(100.00%),\tTest : 98.28%(98.33%),\tCurrent Time: 20250721-113037\n"
     ]
    },
    {
     "name": "stderr",
     "output_type": "stream",
     "text": [
      "Epoch 33/50: 100%|\u001b[34m███████████████████\u001b[0m| 120/120 [00:00<00:00, 303.56batch/s, loss=0.000126]\u001b[0m\n"
     ]
    },
    {
     "name": "stdout",
     "output_type": "stream",
     "text": [
      "\t Loss: 0.015,\tTrain : 100.00%(100.00%),\tTest : 98.25%(98.33%),\tCurrent Time: 20250721-113037\n"
     ]
    },
    {
     "name": "stderr",
     "output_type": "stream",
     "text": [
      "Epoch 34/50: 100%|\u001b[34m███████████████████\u001b[0m| 120/120 [00:00<00:00, 296.27batch/s, loss=0.000113]\u001b[0m\n"
     ]
    },
    {
     "name": "stdout",
     "output_type": "stream",
     "text": [
      "\t Loss: 0.014,\tTrain : 100.00%(100.00%),\tTest : 98.27%(98.33%),\tCurrent Time: 20250721-113038\n"
     ]
    },
    {
     "name": "stderr",
     "output_type": "stream",
     "text": [
      "Epoch 35/50: 100%|\u001b[34m███████████████████\u001b[0m| 120/120 [00:00<00:00, 285.68batch/s, loss=0.000103]\u001b[0m\n"
     ]
    },
    {
     "name": "stdout",
     "output_type": "stream",
     "text": [
      "\t Loss: 0.012,\tTrain : 100.00%(100.00%),\tTest : 98.28%(98.33%),\tCurrent Time: 20250721-113038\n"
     ]
    },
    {
     "name": "stderr",
     "output_type": "stream",
     "text": [
      "Epoch 36/50: 100%|\u001b[34m███████████████████\u001b[0m| 120/120 [00:00<00:00, 302.96batch/s, loss=0.000095]\u001b[0m\n"
     ]
    },
    {
     "name": "stdout",
     "output_type": "stream",
     "text": [
      "\t Loss: 0.011,\tTrain : 100.00%(100.00%),\tTest : 98.24%(98.33%),\tCurrent Time: 20250721-113039\n"
     ]
    },
    {
     "name": "stderr",
     "output_type": "stream",
     "text": [
      "Epoch 37/50: 100%|\u001b[34m███████████████████\u001b[0m| 120/120 [00:00<00:00, 258.86batch/s, loss=0.000087]\u001b[0m\n"
     ]
    },
    {
     "name": "stdout",
     "output_type": "stream",
     "text": [
      "\t Loss: 0.010,\tTrain : 100.00%(100.00%),\tTest : 98.27%(98.33%),\tCurrent Time: 20250721-113039\n"
     ]
    },
    {
     "name": "stderr",
     "output_type": "stream",
     "text": [
      "Epoch 38/50: 100%|\u001b[34m███████████████████\u001b[0m| 120/120 [00:00<00:00, 272.45batch/s, loss=0.000080]\u001b[0m\n"
     ]
    },
    {
     "name": "stdout",
     "output_type": "stream",
     "text": [
      "\t Loss: 0.009,\tTrain : 100.00%(100.00%),\tTest : 98.31%(98.33%),\tCurrent Time: 20250721-113040\n"
     ]
    },
    {
     "name": "stderr",
     "output_type": "stream",
     "text": [
      "Epoch 39/50: 100%|\u001b[34m███████████████████\u001b[0m| 120/120 [00:00<00:00, 258.31batch/s, loss=0.000073]\u001b[0m\n"
     ]
    },
    {
     "name": "stdout",
     "output_type": "stream",
     "text": [
      "\t Loss: 0.009,\tTrain : 100.00%(100.00%),\tTest : 98.25%(98.33%),\tCurrent Time: 20250721-113040\n"
     ]
    },
    {
     "name": "stderr",
     "output_type": "stream",
     "text": [
      "Epoch 40/50: 100%|\u001b[34m███████████████████\u001b[0m| 120/120 [00:00<00:00, 286.15batch/s, loss=0.000067]\u001b[0m\n"
     ]
    },
    {
     "name": "stdout",
     "output_type": "stream",
     "text": [
      "\t Loss: 0.008,\tTrain : 100.00%(100.00%),\tTest : 98.28%(98.33%),\tCurrent Time: 20250721-113041\n"
     ]
    },
    {
     "name": "stderr",
     "output_type": "stream",
     "text": [
      "Epoch 41/50: 100%|\u001b[34m███████████████████\u001b[0m| 120/120 [00:00<00:00, 246.62batch/s, loss=0.000061]\u001b[0m\n"
     ]
    },
    {
     "name": "stdout",
     "output_type": "stream",
     "text": [
      "\t Loss: 0.007,\tTrain : 100.00%(100.00%),\tTest : 98.29%(98.33%),\tCurrent Time: 20250721-113041\n"
     ]
    },
    {
     "name": "stderr",
     "output_type": "stream",
     "text": [
      "Epoch 42/50: 100%|\u001b[34m███████████████████\u001b[0m| 120/120 [00:00<00:00, 256.81batch/s, loss=0.000056]\u001b[0m\n"
     ]
    },
    {
     "name": "stdout",
     "output_type": "stream",
     "text": [
      "\t Loss: 0.007,\tTrain : 100.00%(100.00%),\tTest : 98.29%(98.33%),\tCurrent Time: 20250721-113042\n"
     ]
    },
    {
     "name": "stderr",
     "output_type": "stream",
     "text": [
      "Epoch 43/50: 100%|\u001b[34m███████████████████\u001b[0m| 120/120 [00:00<00:00, 271.16batch/s, loss=0.000053]\u001b[0m\n"
     ]
    },
    {
     "name": "stdout",
     "output_type": "stream",
     "text": [
      "\t Loss: 0.006,\tTrain : 100.00%(100.00%),\tTest : 98.27%(98.33%),\tCurrent Time: 20250721-113042\n"
     ]
    },
    {
     "name": "stderr",
     "output_type": "stream",
     "text": [
      "Epoch 44/50: 100%|\u001b[34m███████████████████\u001b[0m| 120/120 [00:00<00:00, 284.66batch/s, loss=0.000049]\u001b[0m\n"
     ]
    },
    {
     "name": "stdout",
     "output_type": "stream",
     "text": [
      "\t Loss: 0.006,\tTrain : 100.00%(100.00%),\tTest : 98.25%(98.33%),\tCurrent Time: 20250721-113042\n"
     ]
    },
    {
     "name": "stderr",
     "output_type": "stream",
     "text": [
      "Epoch 45/50: 100%|\u001b[34m███████████████████\u001b[0m| 120/120 [00:00<00:00, 256.07batch/s, loss=0.000044]\u001b[0m\n"
     ]
    },
    {
     "name": "stdout",
     "output_type": "stream",
     "text": [
      "\t Loss: 0.005,\tTrain : 100.00%(100.00%),\tTest : 98.29%(98.33%),\tCurrent Time: 20250721-113043\n"
     ]
    },
    {
     "name": "stderr",
     "output_type": "stream",
     "text": [
      "Epoch 46/50: 100%|\u001b[34m███████████████████\u001b[0m| 120/120 [00:00<00:00, 282.17batch/s, loss=0.000041]\u001b[0m\n"
     ]
    },
    {
     "name": "stdout",
     "output_type": "stream",
     "text": [
      "\t Loss: 0.005,\tTrain : 100.00%(100.00%),\tTest : 98.27%(98.33%),\tCurrent Time: 20250721-113043\n"
     ]
    },
    {
     "name": "stderr",
     "output_type": "stream",
     "text": [
      "Epoch 47/50: 100%|\u001b[34m███████████████████\u001b[0m| 120/120 [00:00<00:00, 272.03batch/s, loss=0.000038]\u001b[0m\n"
     ]
    },
    {
     "name": "stdout",
     "output_type": "stream",
     "text": [
      "\t Loss: 0.005,\tTrain : 100.00%(100.00%),\tTest : 98.27%(98.33%),\tCurrent Time: 20250721-113044\n"
     ]
    },
    {
     "name": "stderr",
     "output_type": "stream",
     "text": [
      "Epoch 48/50: 100%|\u001b[34m███████████████████\u001b[0m| 120/120 [00:00<00:00, 269.16batch/s, loss=0.000035]\u001b[0m\n"
     ]
    },
    {
     "name": "stdout",
     "output_type": "stream",
     "text": [
      "\t Loss: 0.004,\tTrain : 100.00%(100.00%),\tTest : 98.28%(98.33%),\tCurrent Time: 20250721-113044\n"
     ]
    },
    {
     "name": "stderr",
     "output_type": "stream",
     "text": [
      "Epoch 49/50: 100%|\u001b[34m███████████████████\u001b[0m| 120/120 [00:00<00:00, 285.14batch/s, loss=0.000032]\u001b[0m\n"
     ]
    },
    {
     "name": "stdout",
     "output_type": "stream",
     "text": [
      "\t Loss: 0.004,\tTrain : 100.00%(100.00%),\tTest : 98.32%(98.33%),\tCurrent Time: 20250721-113045\n"
     ]
    },
    {
     "name": "stderr",
     "output_type": "stream",
     "text": [
      "Epoch 50/50: 100%|\u001b[34m███████████████████\u001b[0m| 120/120 [00:00<00:00, 283.97batch/s, loss=0.000030]\u001b[0m\n"
     ]
    },
    {
     "name": "stdout",
     "output_type": "stream",
     "text": [
      "\t Loss: 0.004,\tTrain : 100.00%(100.00%),\tTest : 98.27%(98.33%),\tCurrent Time: 20250721-113045\n",
      "BP_L3_MNIST_First_com_BP_FA_EP_512_t52-EP_b_scBP-EP_It2sta18- Time: 20250721-113045, Epochs: 50, Learning Rate: 0.001, Best: 100.00%  98.33%\n",
      "\n",
      "BP_L3_MNIST_First_com_BP_FA_EP_512_t52-EP_b_scBP-EP_It2sta18-\n"
     ]
    },
    {
     "name": "stderr",
     "output_type": "stream",
     "text": [
      "Epoch 1/50: 100%|\u001b[34m████████████████████\u001b[0m| 120/120 [00:00<00:00, 277.24batch/s, loss=0.360905]\u001b[0m\n"
     ]
    },
    {
     "name": "stdout",
     "output_type": "stream",
     "text": [
      "\t Loss: 41.858,\tTrain : 89.52%(89.52%),\tTest : 93.98%(93.98%),\tCurrent Time: 20250721-113046\n"
     ]
    },
    {
     "name": "stderr",
     "output_type": "stream",
     "text": [
      "Epoch 2/50: 100%|\u001b[34m████████████████████\u001b[0m| 120/120 [00:00<00:00, 275.65batch/s, loss=0.164718]\u001b[0m\n"
     ]
    },
    {
     "name": "stdout",
     "output_type": "stream",
     "text": [
      "\t Loss: 19.392,\tTrain : 95.28%(95.28%),\tTest : 96.16%(96.16%),\tCurrent Time: 20250721-113046\n"
     ]
    },
    {
     "name": "stderr",
     "output_type": "stream",
     "text": [
      "Epoch 3/50: 100%|\u001b[34m████████████████████\u001b[0m| 120/120 [00:00<00:00, 277.83batch/s, loss=0.108704]\u001b[0m\n"
     ]
    },
    {
     "name": "stdout",
     "output_type": "stream",
     "text": [
      "\t Loss: 13.015,\tTrain : 96.68%(96.68%),\tTest : 96.84%(96.84%),\tCurrent Time: 20250721-113047\n"
     ]
    },
    {
     "name": "stderr",
     "output_type": "stream",
     "text": [
      "Epoch 4/50: 100%|\u001b[34m████████████████████\u001b[0m| 120/120 [00:00<00:00, 292.02batch/s, loss=0.078713]\u001b[0m\n"
     ]
    },
    {
     "name": "stdout",
     "output_type": "stream",
     "text": [
      "\t Loss: 9.468,\tTrain : 97.58%(97.58%),\tTest : 97.33%(97.33%),\tCurrent Time: 20250721-113047\n"
     ]
    },
    {
     "name": "stderr",
     "output_type": "stream",
     "text": [
      "Epoch 5/50: 100%|\u001b[34m████████████████████\u001b[0m| 120/120 [00:00<00:00, 303.96batch/s, loss=0.061114]\u001b[0m\n"
     ]
    },
    {
     "name": "stdout",
     "output_type": "stream",
     "text": [
      "\t Loss: 7.314,\tTrain : 98.09%(98.09%),\tTest : 97.44%(97.44%),\tCurrent Time: 20250721-113048\n"
     ]
    },
    {
     "name": "stderr",
     "output_type": "stream",
     "text": [
      "Epoch 6/50: 100%|\u001b[34m████████████████████\u001b[0m| 120/120 [00:00<00:00, 292.47batch/s, loss=0.046606]\u001b[0m\n"
     ]
    },
    {
     "name": "stdout",
     "output_type": "stream",
     "text": [
      "\t Loss: 5.597,\tTrain : 98.58%(98.58%),\tTest : 97.57%(97.57%),\tCurrent Time: 20250721-113048\n"
     ]
    },
    {
     "name": "stderr",
     "output_type": "stream",
     "text": [
      "Epoch 7/50: 100%|\u001b[34m████████████████████\u001b[0m| 120/120 [00:00<00:00, 303.99batch/s, loss=0.035103]\u001b[0m\n"
     ]
    },
    {
     "name": "stdout",
     "output_type": "stream",
     "text": [
      "\t Loss: 4.208,\tTrain : 98.96%(98.96%),\tTest : 97.75%(97.75%),\tCurrent Time: 20250721-113049\n"
     ]
    },
    {
     "name": "stderr",
     "output_type": "stream",
     "text": [
      "Epoch 8/50: 100%|\u001b[34m████████████████████\u001b[0m| 120/120 [00:00<00:00, 284.85batch/s, loss=0.025931]\u001b[0m\n"
     ]
    },
    {
     "name": "stdout",
     "output_type": "stream",
     "text": [
      "\t Loss: 3.169,\tTrain : 99.26%(99.26%),\tTest : 97.76%(97.76%),\tCurrent Time: 20250721-113049\n"
     ]
    },
    {
     "name": "stderr",
     "output_type": "stream",
     "text": [
      "Epoch 9/50: 100%|\u001b[34m████████████████████\u001b[0m| 120/120 [00:00<00:00, 273.24batch/s, loss=0.021812]\u001b[0m\n"
     ]
    },
    {
     "name": "stdout",
     "output_type": "stream",
     "text": [
      "\t Loss: 2.611,\tTrain : 99.37%(99.37%),\tTest : 97.83%(97.83%),\tCurrent Time: 20250721-113049\n"
     ]
    },
    {
     "name": "stderr",
     "output_type": "stream",
     "text": [
      "Epoch 10/50: 100%|\u001b[34m███████████████████\u001b[0m| 120/120 [00:00<00:00, 306.83batch/s, loss=0.015185]\u001b[0m\n"
     ]
    },
    {
     "name": "stdout",
     "output_type": "stream",
     "text": [
      "\t Loss: 1.851,\tTrain : 99.61%(99.61%),\tTest : 97.97%(97.97%),\tCurrent Time: 20250721-113050\n"
     ]
    },
    {
     "name": "stderr",
     "output_type": "stream",
     "text": [
      "Epoch 11/50: 100%|\u001b[34m███████████████████\u001b[0m| 120/120 [00:00<00:00, 280.63batch/s, loss=0.014080]\u001b[0m\n"
     ]
    },
    {
     "name": "stdout",
     "output_type": "stream",
     "text": [
      "\t Loss: 1.673,\tTrain : 99.64%(99.64%),\tTest : 97.96%(97.97%),\tCurrent Time: 20250721-113050\n"
     ]
    },
    {
     "name": "stderr",
     "output_type": "stream",
     "text": [
      "Epoch 12/50: 100%|\u001b[34m███████████████████\u001b[0m| 120/120 [00:00<00:00, 273.49batch/s, loss=0.008396]\u001b[0m\n"
     ]
    },
    {
     "name": "stdout",
     "output_type": "stream",
     "text": [
      "\t Loss: 1.066,\tTrain : 99.80%(99.80%),\tTest : 97.95%(97.97%),\tCurrent Time: 20250721-113051\n"
     ]
    },
    {
     "name": "stderr",
     "output_type": "stream",
     "text": [
      "Epoch 13/50: 100%|\u001b[34m███████████████████\u001b[0m| 120/120 [00:00<00:00, 274.53batch/s, loss=0.009072]\u001b[0m\n"
     ]
    },
    {
     "name": "stdout",
     "output_type": "stream",
     "text": [
      "\t Loss: 1.084,\tTrain : 99.77%(99.80%),\tTest : 97.91%(97.97%),\tCurrent Time: 20250721-113051\n"
     ]
    },
    {
     "name": "stderr",
     "output_type": "stream",
     "text": [
      "Epoch 14/50: 100%|\u001b[34m███████████████████\u001b[0m| 120/120 [00:00<00:00, 295.50batch/s, loss=0.005486]\u001b[0m\n"
     ]
    },
    {
     "name": "stdout",
     "output_type": "stream",
     "text": [
      "\t Loss: 0.666,\tTrain : 99.89%(99.89%),\tTest : 98.09%(98.09%),\tCurrent Time: 20250721-113052\n"
     ]
    },
    {
     "name": "stderr",
     "output_type": "stream",
     "text": [
      "Epoch 15/50: 100%|\u001b[34m███████████████████\u001b[0m| 120/120 [00:00<00:00, 297.99batch/s, loss=0.003773]\u001b[0m\n"
     ]
    },
    {
     "name": "stdout",
     "output_type": "stream",
     "text": [
      "\t Loss: 0.453,\tTrain : 99.93%(99.93%),\tTest : 97.96%(98.09%),\tCurrent Time: 20250721-113052\n"
     ]
    },
    {
     "name": "stderr",
     "output_type": "stream",
     "text": [
      "Epoch 16/50: 100%|\u001b[34m███████████████████\u001b[0m| 120/120 [00:00<00:00, 292.58batch/s, loss=0.001976]\u001b[0m\n"
     ]
    },
    {
     "name": "stdout",
     "output_type": "stream",
     "text": [
      "\t Loss: 0.241,\tTrain : 99.98%(99.98%),\tTest : 98.05%(98.09%),\tCurrent Time: 20250721-113052\n"
     ]
    },
    {
     "name": "stderr",
     "output_type": "stream",
     "text": [
      "Epoch 17/50: 100%|\u001b[34m███████████████████\u001b[0m| 120/120 [00:00<00:00, 281.35batch/s, loss=0.001326]\u001b[0m\n"
     ]
    },
    {
     "name": "stdout",
     "output_type": "stream",
     "text": [
      "\t Loss: 0.158,\tTrain : 99.99%(99.99%),\tTest : 98.09%(98.09%),\tCurrent Time: 20250721-113053\n"
     ]
    },
    {
     "name": "stderr",
     "output_type": "stream",
     "text": [
      "Epoch 18/50: 100%|\u001b[34m███████████████████\u001b[0m| 120/120 [00:00<00:00, 305.47batch/s, loss=0.000849]\u001b[0m\n"
     ]
    },
    {
     "name": "stdout",
     "output_type": "stream",
     "text": [
      "\t Loss: 0.104,\tTrain : 100.00%(100.00%),\tTest : 98.22%(98.22%),\tCurrent Time: 20250721-113053\n"
     ]
    },
    {
     "name": "stderr",
     "output_type": "stream",
     "text": [
      "Epoch 19/50: 100%|\u001b[34m███████████████████\u001b[0m| 120/120 [00:00<00:00, 282.36batch/s, loss=0.000686]\u001b[0m\n"
     ]
    },
    {
     "name": "stdout",
     "output_type": "stream",
     "text": [
      "\t Loss: 0.084,\tTrain : 100.00%(100.00%),\tTest : 98.21%(98.22%),\tCurrent Time: 20250721-113054\n"
     ]
    },
    {
     "name": "stderr",
     "output_type": "stream",
     "text": [
      "Epoch 20/50: 100%|\u001b[34m███████████████████\u001b[0m| 120/120 [00:00<00:00, 261.82batch/s, loss=0.000799]\u001b[0m\n"
     ]
    },
    {
     "name": "stdout",
     "output_type": "stream",
     "text": [
      "\t Loss: 0.094,\tTrain : 99.99%(100.00%),\tTest : 98.22%(98.22%),\tCurrent Time: 20250721-113054\n"
     ]
    },
    {
     "name": "stderr",
     "output_type": "stream",
     "text": [
      "Epoch 21/50: 100%|\u001b[34m███████████████████\u001b[0m| 120/120 [00:00<00:00, 277.97batch/s, loss=0.000580]\u001b[0m\n"
     ]
    },
    {
     "name": "stdout",
     "output_type": "stream",
     "text": [
      "\t Loss: 0.070,\tTrain : 100.00%(100.00%),\tTest : 98.25%(98.25%),\tCurrent Time: 20250721-113055\n"
     ]
    },
    {
     "name": "stderr",
     "output_type": "stream",
     "text": [
      "Epoch 22/50: 100%|\u001b[34m███████████████████\u001b[0m| 120/120 [00:00<00:00, 298.59batch/s, loss=0.000429]\u001b[0m\n"
     ]
    },
    {
     "name": "stdout",
     "output_type": "stream",
     "text": [
      "\t Loss: 0.052,\tTrain : 100.00%(100.00%),\tTest : 98.24%(98.25%),\tCurrent Time: 20250721-113055\n"
     ]
    },
    {
     "name": "stderr",
     "output_type": "stream",
     "text": [
      "Epoch 23/50: 100%|\u001b[34m███████████████████\u001b[0m| 120/120 [00:00<00:00, 274.24batch/s, loss=0.000351]\u001b[0m\n"
     ]
    },
    {
     "name": "stdout",
     "output_type": "stream",
     "text": [
      "\t Loss: 0.042,\tTrain : 100.00%(100.00%),\tTest : 98.21%(98.25%),\tCurrent Time: 20250721-113055\n"
     ]
    },
    {
     "name": "stderr",
     "output_type": "stream",
     "text": [
      "Epoch 24/50: 100%|\u001b[34m███████████████████\u001b[0m| 120/120 [00:00<00:00, 274.18batch/s, loss=0.000296]\u001b[0m\n"
     ]
    },
    {
     "name": "stdout",
     "output_type": "stream",
     "text": [
      "\t Loss: 0.036,\tTrain : 100.00%(100.00%),\tTest : 98.23%(98.25%),\tCurrent Time: 20250721-113056\n"
     ]
    },
    {
     "name": "stderr",
     "output_type": "stream",
     "text": [
      "Epoch 25/50: 100%|\u001b[34m███████████████████\u001b[0m| 120/120 [00:00<00:00, 251.73batch/s, loss=0.000263]\u001b[0m\n"
     ]
    },
    {
     "name": "stdout",
     "output_type": "stream",
     "text": [
      "\t Loss: 0.032,\tTrain : 100.00%(100.00%),\tTest : 98.24%(98.25%),\tCurrent Time: 20250721-113056\n"
     ]
    },
    {
     "name": "stderr",
     "output_type": "stream",
     "text": [
      "Epoch 26/50: 100%|\u001b[34m███████████████████\u001b[0m| 120/120 [00:00<00:00, 312.68batch/s, loss=0.000240]\u001b[0m\n"
     ]
    },
    {
     "name": "stdout",
     "output_type": "stream",
     "text": [
      "\t Loss: 0.029,\tTrain : 100.00%(100.00%),\tTest : 98.25%(98.25%),\tCurrent Time: 20250721-113057\n"
     ]
    },
    {
     "name": "stderr",
     "output_type": "stream",
     "text": [
      "Epoch 27/50: 100%|\u001b[34m███████████████████\u001b[0m| 120/120 [00:00<00:00, 298.93batch/s, loss=0.000216]\u001b[0m\n"
     ]
    },
    {
     "name": "stdout",
     "output_type": "stream",
     "text": [
      "\t Loss: 0.026,\tTrain : 100.00%(100.00%),\tTest : 98.22%(98.25%),\tCurrent Time: 20250721-113057\n"
     ]
    },
    {
     "name": "stderr",
     "output_type": "stream",
     "text": [
      "Epoch 28/50: 100%|\u001b[34m███████████████████\u001b[0m| 120/120 [00:00<00:00, 299.28batch/s, loss=0.000197]\u001b[0m\n"
     ]
    },
    {
     "name": "stdout",
     "output_type": "stream",
     "text": [
      "\t Loss: 0.024,\tTrain : 100.00%(100.00%),\tTest : 98.24%(98.25%),\tCurrent Time: 20250721-113058\n"
     ]
    },
    {
     "name": "stderr",
     "output_type": "stream",
     "text": [
      "Epoch 29/50: 100%|\u001b[34m███████████████████\u001b[0m| 120/120 [00:00<00:00, 279.16batch/s, loss=0.000178]\u001b[0m\n"
     ]
    },
    {
     "name": "stdout",
     "output_type": "stream",
     "text": [
      "\t Loss: 0.021,\tTrain : 100.00%(100.00%),\tTest : 98.23%(98.25%),\tCurrent Time: 20250721-113058\n"
     ]
    },
    {
     "name": "stderr",
     "output_type": "stream",
     "text": [
      "Epoch 30/50: 100%|\u001b[34m███████████████████\u001b[0m| 120/120 [00:00<00:00, 283.76batch/s, loss=0.000164]\u001b[0m\n"
     ]
    },
    {
     "name": "stdout",
     "output_type": "stream",
     "text": [
      "\t Loss: 0.020,\tTrain : 100.00%(100.00%),\tTest : 98.23%(98.25%),\tCurrent Time: 20250721-113058\n"
     ]
    },
    {
     "name": "stderr",
     "output_type": "stream",
     "text": [
      "Epoch 31/50: 100%|\u001b[34m███████████████████\u001b[0m| 120/120 [00:00<00:00, 249.58batch/s, loss=0.000148]\u001b[0m\n"
     ]
    },
    {
     "name": "stdout",
     "output_type": "stream",
     "text": [
      "\t Loss: 0.018,\tTrain : 100.00%(100.00%),\tTest : 98.21%(98.25%),\tCurrent Time: 20250721-113059\n"
     ]
    },
    {
     "name": "stderr",
     "output_type": "stream",
     "text": [
      "Epoch 32/50: 100%|\u001b[34m███████████████████\u001b[0m| 120/120 [00:00<00:00, 259.03batch/s, loss=0.000134]\u001b[0m\n"
     ]
    },
    {
     "name": "stdout",
     "output_type": "stream",
     "text": [
      "\t Loss: 0.016,\tTrain : 100.00%(100.00%),\tTest : 98.23%(98.25%),\tCurrent Time: 20250721-113059\n"
     ]
    },
    {
     "name": "stderr",
     "output_type": "stream",
     "text": [
      "Epoch 33/50: 100%|\u001b[34m███████████████████\u001b[0m| 120/120 [00:00<00:00, 270.13batch/s, loss=0.000125]\u001b[0m\n"
     ]
    },
    {
     "name": "stdout",
     "output_type": "stream",
     "text": [
      "\t Loss: 0.015,\tTrain : 100.00%(100.00%),\tTest : 98.22%(98.25%),\tCurrent Time: 20250721-113100\n"
     ]
    },
    {
     "name": "stderr",
     "output_type": "stream",
     "text": [
      "Epoch 34/50: 100%|\u001b[34m███████████████████\u001b[0m| 120/120 [00:00<00:00, 307.58batch/s, loss=0.000113]\u001b[0m\n"
     ]
    },
    {
     "name": "stdout",
     "output_type": "stream",
     "text": [
      "\t Loss: 0.014,\tTrain : 100.00%(100.00%),\tTest : 98.23%(98.25%),\tCurrent Time: 20250721-113100\n"
     ]
    },
    {
     "name": "stderr",
     "output_type": "stream",
     "text": [
      "Epoch 35/50: 100%|\u001b[34m███████████████████\u001b[0m| 120/120 [00:00<00:00, 312.42batch/s, loss=0.000104]\u001b[0m\n"
     ]
    },
    {
     "name": "stdout",
     "output_type": "stream",
     "text": [
      "\t Loss: 0.012,\tTrain : 100.00%(100.00%),\tTest : 98.27%(98.27%),\tCurrent Time: 20250721-113101\n"
     ]
    },
    {
     "name": "stderr",
     "output_type": "stream",
     "text": [
      "Epoch 36/50: 100%|\u001b[34m███████████████████\u001b[0m| 120/120 [00:00<00:00, 263.33batch/s, loss=0.000094]\u001b[0m\n"
     ]
    },
    {
     "name": "stdout",
     "output_type": "stream",
     "text": [
      "\t Loss: 0.011,\tTrain : 100.00%(100.00%),\tTest : 98.23%(98.27%),\tCurrent Time: 20250721-113101\n"
     ]
    },
    {
     "name": "stderr",
     "output_type": "stream",
     "text": [
      "Epoch 37/50: 100%|\u001b[34m███████████████████\u001b[0m| 120/120 [00:00<00:00, 301.91batch/s, loss=0.000088]\u001b[0m\n"
     ]
    },
    {
     "name": "stdout",
     "output_type": "stream",
     "text": [
      "\t Loss: 0.011,\tTrain : 100.00%(100.00%),\tTest : 98.20%(98.27%),\tCurrent Time: 20250721-113101\n"
     ]
    },
    {
     "name": "stderr",
     "output_type": "stream",
     "text": [
      "Epoch 38/50: 100%|\u001b[34m███████████████████\u001b[0m| 120/120 [00:00<00:00, 306.48batch/s, loss=0.000081]\u001b[0m\n"
     ]
    },
    {
     "name": "stdout",
     "output_type": "stream",
     "text": [
      "\t Loss: 0.010,\tTrain : 100.00%(100.00%),\tTest : 98.23%(98.27%),\tCurrent Time: 20250721-113102\n"
     ]
    },
    {
     "name": "stderr",
     "output_type": "stream",
     "text": [
      "Epoch 39/50: 100%|\u001b[34m███████████████████\u001b[0m| 120/120 [00:00<00:00, 307.91batch/s, loss=0.000074]\u001b[0m\n"
     ]
    },
    {
     "name": "stdout",
     "output_type": "stream",
     "text": [
      "\t Loss: 0.009,\tTrain : 100.00%(100.00%),\tTest : 98.28%(98.28%),\tCurrent Time: 20250721-113102\n"
     ]
    },
    {
     "name": "stderr",
     "output_type": "stream",
     "text": [
      "Epoch 40/50: 100%|\u001b[34m███████████████████\u001b[0m| 120/120 [00:00<00:00, 300.46batch/s, loss=0.000068]\u001b[0m\n"
     ]
    },
    {
     "name": "stdout",
     "output_type": "stream",
     "text": [
      "\t Loss: 0.008,\tTrain : 100.00%(100.00%),\tTest : 98.24%(98.28%),\tCurrent Time: 20250721-113103\n"
     ]
    },
    {
     "name": "stderr",
     "output_type": "stream",
     "text": [
      "Epoch 41/50: 100%|\u001b[34m███████████████████\u001b[0m| 120/120 [00:00<00:00, 301.11batch/s, loss=0.000063]\u001b[0m\n"
     ]
    },
    {
     "name": "stdout",
     "output_type": "stream",
     "text": [
      "\t Loss: 0.008,\tTrain : 100.00%(100.00%),\tTest : 98.23%(98.28%),\tCurrent Time: 20250721-113103\n"
     ]
    },
    {
     "name": "stderr",
     "output_type": "stream",
     "text": [
      "Epoch 42/50: 100%|\u001b[34m███████████████████\u001b[0m| 120/120 [00:00<00:00, 297.57batch/s, loss=0.000057]\u001b[0m\n"
     ]
    },
    {
     "name": "stdout",
     "output_type": "stream",
     "text": [
      "\t Loss: 0.007,\tTrain : 100.00%(100.00%),\tTest : 98.22%(98.28%),\tCurrent Time: 20250721-113104\n"
     ]
    },
    {
     "name": "stderr",
     "output_type": "stream",
     "text": [
      "Epoch 43/50: 100%|\u001b[34m███████████████████\u001b[0m| 120/120 [00:00<00:00, 304.54batch/s, loss=0.000054]\u001b[0m\n"
     ]
    },
    {
     "name": "stdout",
     "output_type": "stream",
     "text": [
      "\t Loss: 0.006,\tTrain : 100.00%(100.00%),\tTest : 98.23%(98.28%),\tCurrent Time: 20250721-113104\n"
     ]
    },
    {
     "name": "stderr",
     "output_type": "stream",
     "text": [
      "Epoch 44/50: 100%|\u001b[34m███████████████████\u001b[0m| 120/120 [00:00<00:00, 283.38batch/s, loss=0.000049]\u001b[0m\n"
     ]
    },
    {
     "name": "stdout",
     "output_type": "stream",
     "text": [
      "\t Loss: 0.006,\tTrain : 100.00%(100.00%),\tTest : 98.25%(98.28%),\tCurrent Time: 20250721-113104\n"
     ]
    },
    {
     "name": "stderr",
     "output_type": "stream",
     "text": [
      "Epoch 45/50: 100%|\u001b[34m███████████████████\u001b[0m| 120/120 [00:00<00:00, 292.77batch/s, loss=0.000045]\u001b[0m\n"
     ]
    },
    {
     "name": "stdout",
     "output_type": "stream",
     "text": [
      "\t Loss: 0.005,\tTrain : 100.00%(100.00%),\tTest : 98.28%(98.28%),\tCurrent Time: 20250721-113105\n"
     ]
    },
    {
     "name": "stderr",
     "output_type": "stream",
     "text": [
      "Epoch 46/50: 100%|\u001b[34m███████████████████\u001b[0m| 120/120 [00:00<00:00, 277.48batch/s, loss=0.000042]\u001b[0m\n"
     ]
    },
    {
     "name": "stdout",
     "output_type": "stream",
     "text": [
      "\t Loss: 0.005,\tTrain : 100.00%(100.00%),\tTest : 98.25%(98.28%),\tCurrent Time: 20250721-113105\n"
     ]
    },
    {
     "name": "stderr",
     "output_type": "stream",
     "text": [
      "Epoch 47/50: 100%|\u001b[34m███████████████████\u001b[0m| 120/120 [00:00<00:00, 307.42batch/s, loss=0.000039]\u001b[0m\n"
     ]
    },
    {
     "name": "stdout",
     "output_type": "stream",
     "text": [
      "\t Loss: 0.005,\tTrain : 100.00%(100.00%),\tTest : 98.23%(98.28%),\tCurrent Time: 20250721-113106\n"
     ]
    },
    {
     "name": "stderr",
     "output_type": "stream",
     "text": [
      "Epoch 48/50: 100%|\u001b[34m███████████████████\u001b[0m| 120/120 [00:00<00:00, 274.01batch/s, loss=0.000036]\u001b[0m\n"
     ]
    },
    {
     "name": "stdout",
     "output_type": "stream",
     "text": [
      "\t Loss: 0.004,\tTrain : 100.00%(100.00%),\tTest : 98.27%(98.28%),\tCurrent Time: 20250721-113106\n"
     ]
    },
    {
     "name": "stderr",
     "output_type": "stream",
     "text": [
      "Epoch 49/50: 100%|\u001b[34m███████████████████\u001b[0m| 120/120 [00:00<00:00, 274.27batch/s, loss=0.000033]\u001b[0m\n"
     ]
    },
    {
     "name": "stdout",
     "output_type": "stream",
     "text": [
      "\t Loss: 0.004,\tTrain : 100.00%(100.00%),\tTest : 98.25%(98.28%),\tCurrent Time: 20250721-113106\n"
     ]
    },
    {
     "name": "stderr",
     "output_type": "stream",
     "text": [
      "Epoch 50/50: 100%|\u001b[34m███████████████████\u001b[0m| 120/120 [00:00<00:00, 285.20batch/s, loss=0.000031]\u001b[0m\n"
     ]
    },
    {
     "name": "stdout",
     "output_type": "stream",
     "text": [
      "\t Loss: 0.004,\tTrain : 100.00%(100.00%),\tTest : 98.28%(98.28%),\tCurrent Time: 20250721-113107\n",
      "BP_L3_MNIST_First_com_BP_FA_EP_512_t52-EP_b_scBP-EP_It2sta18- Time: 20250721-113107, Epochs: 50, Learning Rate: 0.001, Best: 100.00%  98.28%\n",
      "\n",
      "BP_L3_MNIST_First_com_BP_FA_EP_512_t52-EP_b_scBP-EP_It2sta18-\n"
     ]
    },
    {
     "name": "stderr",
     "output_type": "stream",
     "text": [
      "Epoch 1/50: 100%|\u001b[34m████████████████████\u001b[0m| 120/120 [00:00<00:00, 276.34batch/s, loss=0.345547]\u001b[0m\n"
     ]
    },
    {
     "name": "stdout",
     "output_type": "stream",
     "text": [
      "\t Loss: 40.120,\tTrain : 90.08%(90.08%),\tTest : 94.44%(94.44%),\tCurrent Time: 20250721-113108\n"
     ]
    },
    {
     "name": "stderr",
     "output_type": "stream",
     "text": [
      "Epoch 2/50: 100%|\u001b[34m████████████████████\u001b[0m| 120/120 [00:00<00:00, 276.00batch/s, loss=0.159119]\u001b[0m\n"
     ]
    },
    {
     "name": "stdout",
     "output_type": "stream",
     "text": [
      "\t Loss: 18.927,\tTrain : 95.31%(95.31%),\tTest : 95.93%(95.93%),\tCurrent Time: 20250721-113108\n"
     ]
    },
    {
     "name": "stderr",
     "output_type": "stream",
     "text": [
      "Epoch 3/50: 100%|\u001b[34m████████████████████\u001b[0m| 120/120 [00:00<00:00, 282.85batch/s, loss=0.103803]\u001b[0m\n"
     ]
    },
    {
     "name": "stdout",
     "output_type": "stream",
     "text": [
      "\t Loss: 12.449,\tTrain : 96.84%(96.84%),\tTest : 96.26%(96.26%),\tCurrent Time: 20250721-113109\n"
     ]
    },
    {
     "name": "stderr",
     "output_type": "stream",
     "text": [
      "Epoch 4/50: 100%|\u001b[34m████████████████████\u001b[0m| 120/120 [00:00<00:00, 304.80batch/s, loss=0.076618]\u001b[0m\n"
     ]
    },
    {
     "name": "stdout",
     "output_type": "stream",
     "text": [
      "\t Loss: 9.143,\tTrain : 97.68%(97.68%),\tTest : 97.21%(97.21%),\tCurrent Time: 20250721-113109\n"
     ]
    },
    {
     "name": "stderr",
     "output_type": "stream",
     "text": [
      "Epoch 5/50: 100%|\u001b[34m████████████████████\u001b[0m| 120/120 [00:00<00:00, 294.04batch/s, loss=0.057555]\u001b[0m\n"
     ]
    },
    {
     "name": "stdout",
     "output_type": "stream",
     "text": [
      "\t Loss: 6.853,\tTrain : 98.17%(98.17%),\tTest : 97.49%(97.49%),\tCurrent Time: 20250721-113110\n"
     ]
    },
    {
     "name": "stderr",
     "output_type": "stream",
     "text": [
      "Epoch 6/50: 100%|\u001b[34m████████████████████\u001b[0m| 120/120 [00:00<00:00, 313.82batch/s, loss=0.044809]\u001b[0m\n"
     ]
    },
    {
     "name": "stdout",
     "output_type": "stream",
     "text": [
      "\t Loss: 5.295,\tTrain : 98.66%(98.66%),\tTest : 97.47%(97.49%),\tCurrent Time: 20250721-113110\n"
     ]
    },
    {
     "name": "stderr",
     "output_type": "stream",
     "text": [
      "Epoch 7/50: 100%|\u001b[34m████████████████████\u001b[0m| 120/120 [00:00<00:00, 254.49batch/s, loss=0.031769]\u001b[0m\n"
     ]
    },
    {
     "name": "stdout",
     "output_type": "stream",
     "text": [
      "\t Loss: 3.933,\tTrain : 99.05%(99.05%),\tTest : 97.60%(97.60%),\tCurrent Time: 20250721-113110\n"
     ]
    },
    {
     "name": "stderr",
     "output_type": "stream",
     "text": [
      "Epoch 8/50: 100%|\u001b[34m████████████████████\u001b[0m| 120/120 [00:00<00:00, 281.24batch/s, loss=0.025191]\u001b[0m\n"
     ]
    },
    {
     "name": "stdout",
     "output_type": "stream",
     "text": [
      "\t Loss: 3.013,\tTrain : 99.28%(99.28%),\tTest : 97.80%(97.80%),\tCurrent Time: 20250721-113111\n"
     ]
    },
    {
     "name": "stderr",
     "output_type": "stream",
     "text": [
      "Epoch 9/50: 100%|\u001b[34m████████████████████\u001b[0m| 120/120 [00:00<00:00, 281.73batch/s, loss=0.019181]\u001b[0m\n"
     ]
    },
    {
     "name": "stdout",
     "output_type": "stream",
     "text": [
      "\t Loss: 2.391,\tTrain : 99.42%(99.42%),\tTest : 97.69%(97.80%),\tCurrent Time: 20250721-113111\n"
     ]
    },
    {
     "name": "stderr",
     "output_type": "stream",
     "text": [
      "Epoch 10/50: 100%|\u001b[34m███████████████████\u001b[0m| 120/120 [00:00<00:00, 302.75batch/s, loss=0.015674]\u001b[0m\n"
     ]
    },
    {
     "name": "stdout",
     "output_type": "stream",
     "text": [
      "\t Loss: 1.910,\tTrain : 99.59%(99.59%),\tTest : 97.66%(97.80%),\tCurrent Time: 20250721-113112\n"
     ]
    },
    {
     "name": "stderr",
     "output_type": "stream",
     "text": [
      "Epoch 11/50: 100%|\u001b[34m███████████████████\u001b[0m| 120/120 [00:00<00:00, 309.10batch/s, loss=0.010914]\u001b[0m\n"
     ]
    },
    {
     "name": "stdout",
     "output_type": "stream",
     "text": [
      "\t Loss: 1.345,\tTrain : 99.73%(99.73%),\tTest : 98.11%(98.11%),\tCurrent Time: 20250721-113112\n"
     ]
    },
    {
     "name": "stderr",
     "output_type": "stream",
     "text": [
      "Epoch 12/50: 100%|\u001b[34m███████████████████\u001b[0m| 120/120 [00:00<00:00, 260.70batch/s, loss=0.010033]\u001b[0m\n"
     ]
    },
    {
     "name": "stdout",
     "output_type": "stream",
     "text": [
      "\t Loss: 1.223,\tTrain : 99.72%(99.73%),\tTest : 97.70%(98.11%),\tCurrent Time: 20250721-113113\n"
     ]
    },
    {
     "name": "stderr",
     "output_type": "stream",
     "text": [
      "Epoch 13/50: 100%|\u001b[34m███████████████████\u001b[0m| 120/120 [00:00<00:00, 280.42batch/s, loss=0.010160]\u001b[0m\n"
     ]
    },
    {
     "name": "stdout",
     "output_type": "stream",
     "text": [
      "\t Loss: 1.223,\tTrain : 99.72%(99.73%),\tTest : 97.96%(98.11%),\tCurrent Time: 20250721-113113\n"
     ]
    },
    {
     "name": "stderr",
     "output_type": "stream",
     "text": [
      "Epoch 14/50: 100%|\u001b[34m███████████████████\u001b[0m| 120/120 [00:00<00:00, 230.65batch/s, loss=0.007582]\u001b[0m\n"
     ]
    },
    {
     "name": "stdout",
     "output_type": "stream",
     "text": [
      "\t Loss: 0.929,\tTrain : 99.80%(99.80%),\tTest : 98.03%(98.11%),\tCurrent Time: 20250721-113114\n"
     ]
    },
    {
     "name": "stderr",
     "output_type": "stream",
     "text": [
      "Epoch 15/50: 100%|\u001b[34m███████████████████\u001b[0m| 120/120 [00:00<00:00, 264.35batch/s, loss=0.004509]\u001b[0m\n"
     ]
    },
    {
     "name": "stdout",
     "output_type": "stream",
     "text": [
      "\t Loss: 0.536,\tTrain : 99.92%(99.92%),\tTest : 98.17%(98.17%),\tCurrent Time: 20250721-113114\n"
     ]
    },
    {
     "name": "stderr",
     "output_type": "stream",
     "text": [
      "Epoch 16/50: 100%|\u001b[34m███████████████████\u001b[0m| 120/120 [00:00<00:00, 274.40batch/s, loss=0.002507]\u001b[0m\n"
     ]
    },
    {
     "name": "stdout",
     "output_type": "stream",
     "text": [
      "\t Loss: 0.301,\tTrain : 99.96%(99.96%),\tTest : 97.99%(98.17%),\tCurrent Time: 20250721-113114\n"
     ]
    },
    {
     "name": "stderr",
     "output_type": "stream",
     "text": [
      "Epoch 17/50: 100%|\u001b[34m███████████████████\u001b[0m| 120/120 [00:00<00:00, 242.98batch/s, loss=0.002941]\u001b[0m\n"
     ]
    },
    {
     "name": "stdout",
     "output_type": "stream",
     "text": [
      "\t Loss: 0.356,\tTrain : 99.94%(99.96%),\tTest : 98.23%(98.23%),\tCurrent Time: 20250721-113115\n"
     ]
    },
    {
     "name": "stderr",
     "output_type": "stream",
     "text": [
      "Epoch 18/50: 100%|\u001b[34m███████████████████\u001b[0m| 120/120 [00:00<00:00, 262.96batch/s, loss=0.004728]\u001b[0m\n"
     ]
    },
    {
     "name": "stdout",
     "output_type": "stream",
     "text": [
      "\t Loss: 0.552,\tTrain : 99.88%(99.96%),\tTest : 98.07%(98.23%),\tCurrent Time: 20250721-113115\n"
     ]
    },
    {
     "name": "stderr",
     "output_type": "stream",
     "text": [
      "Epoch 19/50: 100%|\u001b[34m███████████████████\u001b[0m| 120/120 [00:00<00:00, 274.77batch/s, loss=0.001766]\u001b[0m\n"
     ]
    },
    {
     "name": "stdout",
     "output_type": "stream",
     "text": [
      "\t Loss: 0.208,\tTrain : 99.98%(99.98%),\tTest : 98.23%(98.23%),\tCurrent Time: 20250721-113116\n"
     ]
    },
    {
     "name": "stderr",
     "output_type": "stream",
     "text": [
      "Epoch 20/50: 100%|\u001b[34m███████████████████\u001b[0m| 120/120 [00:00<00:00, 289.21batch/s, loss=0.000683]\u001b[0m\n"
     ]
    },
    {
     "name": "stdout",
     "output_type": "stream",
     "text": [
      "\t Loss: 0.083,\tTrain : 100.00%(100.00%),\tTest : 98.35%(98.35%),\tCurrent Time: 20250721-113116\n"
     ]
    },
    {
     "name": "stderr",
     "output_type": "stream",
     "text": [
      "Epoch 21/50: 100%|\u001b[34m███████████████████\u001b[0m| 120/120 [00:00<00:00, 297.50batch/s, loss=0.000506]\u001b[0m\n"
     ]
    },
    {
     "name": "stdout",
     "output_type": "stream",
     "text": [
      "\t Loss: 0.060,\tTrain : 100.00%(100.00%),\tTest : 98.30%(98.35%),\tCurrent Time: 20250721-113117\n"
     ]
    },
    {
     "name": "stderr",
     "output_type": "stream",
     "text": [
      "Epoch 22/50: 100%|\u001b[34m███████████████████\u001b[0m| 120/120 [00:00<00:00, 264.64batch/s, loss=0.000324]\u001b[0m\n"
     ]
    },
    {
     "name": "stdout",
     "output_type": "stream",
     "text": [
      "\t Loss: 0.039,\tTrain : 100.00%(100.00%),\tTest : 98.30%(98.35%),\tCurrent Time: 20250721-113117\n"
     ]
    },
    {
     "name": "stderr",
     "output_type": "stream",
     "text": [
      "Epoch 23/50: 100%|\u001b[34m███████████████████\u001b[0m| 120/120 [00:00<00:00, 285.01batch/s, loss=0.000272]\u001b[0m\n"
     ]
    },
    {
     "name": "stdout",
     "output_type": "stream",
     "text": [
      "\t Loss: 0.033,\tTrain : 100.00%(100.00%),\tTest : 98.36%(98.36%),\tCurrent Time: 20250721-113118\n"
     ]
    },
    {
     "name": "stderr",
     "output_type": "stream",
     "text": [
      "Epoch 24/50: 100%|\u001b[34m███████████████████\u001b[0m| 120/120 [00:00<00:00, 225.82batch/s, loss=0.000240]\u001b[0m\n"
     ]
    },
    {
     "name": "stdout",
     "output_type": "stream",
     "text": [
      "\t Loss: 0.029,\tTrain : 100.00%(100.00%),\tTest : 98.34%(98.36%),\tCurrent Time: 20250721-113118\n"
     ]
    },
    {
     "name": "stderr",
     "output_type": "stream",
     "text": [
      "Epoch 25/50: 100%|\u001b[34m███████████████████\u001b[0m| 120/120 [00:00<00:00, 252.09batch/s, loss=0.000217]\u001b[0m\n"
     ]
    },
    {
     "name": "stdout",
     "output_type": "stream",
     "text": [
      "\t Loss: 0.026,\tTrain : 100.00%(100.00%),\tTest : 98.39%(98.39%),\tCurrent Time: 20250721-113119\n"
     ]
    },
    {
     "name": "stderr",
     "output_type": "stream",
     "text": [
      "Epoch 26/50: 100%|\u001b[34m███████████████████\u001b[0m| 120/120 [00:00<00:00, 284.73batch/s, loss=0.000196]\u001b[0m\n"
     ]
    },
    {
     "name": "stdout",
     "output_type": "stream",
     "text": [
      "\t Loss: 0.023,\tTrain : 100.00%(100.00%),\tTest : 98.35%(98.39%),\tCurrent Time: 20250721-113119\n"
     ]
    },
    {
     "name": "stderr",
     "output_type": "stream",
     "text": [
      "Epoch 27/50: 100%|\u001b[34m███████████████████\u001b[0m| 120/120 [00:00<00:00, 256.80batch/s, loss=0.000179]\u001b[0m\n"
     ]
    },
    {
     "name": "stdout",
     "output_type": "stream",
     "text": [
      "\t Loss: 0.021,\tTrain : 100.00%(100.00%),\tTest : 98.36%(98.39%),\tCurrent Time: 20250721-113120\n"
     ]
    },
    {
     "name": "stderr",
     "output_type": "stream",
     "text": [
      "Epoch 28/50: 100%|\u001b[34m███████████████████\u001b[0m| 120/120 [00:00<00:00, 283.95batch/s, loss=0.000162]\u001b[0m\n"
     ]
    },
    {
     "name": "stdout",
     "output_type": "stream",
     "text": [
      "\t Loss: 0.019,\tTrain : 100.00%(100.00%),\tTest : 98.37%(98.39%),\tCurrent Time: 20250721-113120\n"
     ]
    },
    {
     "name": "stderr",
     "output_type": "stream",
     "text": [
      "Epoch 29/50: 100%|\u001b[34m███████████████████\u001b[0m| 120/120 [00:00<00:00, 295.00batch/s, loss=0.000147]\u001b[0m\n"
     ]
    },
    {
     "name": "stdout",
     "output_type": "stream",
     "text": [
      "\t Loss: 0.018,\tTrain : 100.00%(100.00%),\tTest : 98.33%(98.39%),\tCurrent Time: 20250721-113120\n"
     ]
    },
    {
     "name": "stderr",
     "output_type": "stream",
     "text": [
      "Epoch 30/50: 100%|\u001b[34m███████████████████\u001b[0m| 120/120 [00:00<00:00, 293.41batch/s, loss=0.000135]\u001b[0m\n"
     ]
    },
    {
     "name": "stdout",
     "output_type": "stream",
     "text": [
      "\t Loss: 0.016,\tTrain : 100.00%(100.00%),\tTest : 98.37%(98.39%),\tCurrent Time: 20250721-113121\n"
     ]
    },
    {
     "name": "stderr",
     "output_type": "stream",
     "text": [
      "Epoch 31/50: 100%|\u001b[34m███████████████████\u001b[0m| 120/120 [00:00<00:00, 294.88batch/s, loss=0.000123]\u001b[0m\n"
     ]
    },
    {
     "name": "stdout",
     "output_type": "stream",
     "text": [
      "\t Loss: 0.015,\tTrain : 100.00%(100.00%),\tTest : 98.37%(98.39%),\tCurrent Time: 20250721-113121\n"
     ]
    },
    {
     "name": "stderr",
     "output_type": "stream",
     "text": [
      "Epoch 32/50: 100%|\u001b[34m███████████████████\u001b[0m| 120/120 [00:00<00:00, 266.65batch/s, loss=0.000115]\u001b[0m\n"
     ]
    },
    {
     "name": "stdout",
     "output_type": "stream",
     "text": [
      "\t Loss: 0.014,\tTrain : 100.00%(100.00%),\tTest : 98.34%(98.39%),\tCurrent Time: 20250721-113122\n"
     ]
    },
    {
     "name": "stderr",
     "output_type": "stream",
     "text": [
      "Epoch 33/50: 100%|\u001b[34m███████████████████\u001b[0m| 120/120 [00:00<00:00, 270.08batch/s, loss=0.000106]\u001b[0m\n"
     ]
    },
    {
     "name": "stdout",
     "output_type": "stream",
     "text": [
      "\t Loss: 0.013,\tTrain : 100.00%(100.00%),\tTest : 98.37%(98.39%),\tCurrent Time: 20250721-113122\n"
     ]
    },
    {
     "name": "stderr",
     "output_type": "stream",
     "text": [
      "Epoch 34/50: 100%|\u001b[34m███████████████████\u001b[0m| 120/120 [00:00<00:00, 309.14batch/s, loss=0.000098]\u001b[0m\n"
     ]
    },
    {
     "name": "stdout",
     "output_type": "stream",
     "text": [
      "\t Loss: 0.012,\tTrain : 100.00%(100.00%),\tTest : 98.36%(98.39%),\tCurrent Time: 20250721-113123\n"
     ]
    },
    {
     "name": "stderr",
     "output_type": "stream",
     "text": [
      "Epoch 35/50: 100%|\u001b[34m███████████████████\u001b[0m| 120/120 [00:00<00:00, 260.57batch/s, loss=0.000088]\u001b[0m\n"
     ]
    },
    {
     "name": "stdout",
     "output_type": "stream",
     "text": [
      "\t Loss: 0.011,\tTrain : 100.00%(100.00%),\tTest : 98.37%(98.39%),\tCurrent Time: 20250721-113123\n"
     ]
    },
    {
     "name": "stderr",
     "output_type": "stream",
     "text": [
      "Epoch 36/50: 100%|\u001b[34m███████████████████\u001b[0m| 120/120 [00:00<00:00, 247.71batch/s, loss=0.000083]\u001b[0m\n"
     ]
    },
    {
     "name": "stdout",
     "output_type": "stream",
     "text": [
      "\t Loss: 0.010,\tTrain : 100.00%(100.00%),\tTest : 98.39%(98.39%),\tCurrent Time: 20250721-113123\n"
     ]
    },
    {
     "name": "stderr",
     "output_type": "stream",
     "text": [
      "Epoch 37/50: 100%|\u001b[34m███████████████████\u001b[0m| 120/120 [00:00<00:00, 263.12batch/s, loss=0.000077]\u001b[0m\n"
     ]
    },
    {
     "name": "stdout",
     "output_type": "stream",
     "text": [
      "\t Loss: 0.009,\tTrain : 100.00%(100.00%),\tTest : 98.33%(98.39%),\tCurrent Time: 20250721-113124\n"
     ]
    },
    {
     "name": "stderr",
     "output_type": "stream",
     "text": [
      "Epoch 38/50: 100%|\u001b[34m███████████████████\u001b[0m| 120/120 [00:00<00:00, 298.56batch/s, loss=0.000072]\u001b[0m\n"
     ]
    },
    {
     "name": "stdout",
     "output_type": "stream",
     "text": [
      "\t Loss: 0.009,\tTrain : 100.00%(100.00%),\tTest : 98.39%(98.39%),\tCurrent Time: 20250721-113124\n"
     ]
    },
    {
     "name": "stderr",
     "output_type": "stream",
     "text": [
      "Epoch 39/50: 100%|\u001b[34m███████████████████\u001b[0m| 120/120 [00:00<00:00, 290.76batch/s, loss=0.000065]\u001b[0m\n"
     ]
    },
    {
     "name": "stdout",
     "output_type": "stream",
     "text": [
      "\t Loss: 0.008,\tTrain : 100.00%(100.00%),\tTest : 98.39%(98.39%),\tCurrent Time: 20250721-113125\n"
     ]
    },
    {
     "name": "stderr",
     "output_type": "stream",
     "text": [
      "Epoch 40/50: 100%|\u001b[34m███████████████████\u001b[0m| 120/120 [00:00<00:00, 295.10batch/s, loss=0.000061]\u001b[0m\n"
     ]
    },
    {
     "name": "stdout",
     "output_type": "stream",
     "text": [
      "\t Loss: 0.007,\tTrain : 100.00%(100.00%),\tTest : 98.41%(98.41%),\tCurrent Time: 20250721-113125\n"
     ]
    },
    {
     "name": "stderr",
     "output_type": "stream",
     "text": [
      "Epoch 41/50: 100%|\u001b[34m███████████████████\u001b[0m| 120/120 [00:00<00:00, 261.37batch/s, loss=0.000057]\u001b[0m\n"
     ]
    },
    {
     "name": "stdout",
     "output_type": "stream",
     "text": [
      "\t Loss: 0.007,\tTrain : 100.00%(100.00%),\tTest : 98.42%(98.42%),\tCurrent Time: 20250721-113126\n"
     ]
    },
    {
     "name": "stderr",
     "output_type": "stream",
     "text": [
      "Epoch 42/50: 100%|\u001b[34m███████████████████\u001b[0m| 120/120 [00:00<00:00, 261.96batch/s, loss=0.000053]\u001b[0m\n"
     ]
    },
    {
     "name": "stdout",
     "output_type": "stream",
     "text": [
      "\t Loss: 0.006,\tTrain : 100.00%(100.00%),\tTest : 98.38%(98.42%),\tCurrent Time: 20250721-113126\n"
     ]
    },
    {
     "name": "stderr",
     "output_type": "stream",
     "text": [
      "Epoch 43/50: 100%|\u001b[34m███████████████████\u001b[0m| 120/120 [00:00<00:00, 232.96batch/s, loss=0.000049]\u001b[0m\n"
     ]
    },
    {
     "name": "stdout",
     "output_type": "stream",
     "text": [
      "\t Loss: 0.006,\tTrain : 100.00%(100.00%),\tTest : 98.38%(98.42%),\tCurrent Time: 20250721-113127\n"
     ]
    },
    {
     "name": "stderr",
     "output_type": "stream",
     "text": [
      "Epoch 44/50: 100%|\u001b[34m███████████████████\u001b[0m| 120/120 [00:00<00:00, 274.89batch/s, loss=0.000046]\u001b[0m\n"
     ]
    },
    {
     "name": "stdout",
     "output_type": "stream",
     "text": [
      "\t Loss: 0.005,\tTrain : 100.00%(100.00%),\tTest : 98.41%(98.42%),\tCurrent Time: 20250721-113127\n"
     ]
    },
    {
     "name": "stderr",
     "output_type": "stream",
     "text": [
      "Epoch 45/50: 100%|\u001b[34m███████████████████\u001b[0m| 120/120 [00:00<00:00, 264.83batch/s, loss=0.000042]\u001b[0m\n"
     ]
    },
    {
     "name": "stdout",
     "output_type": "stream",
     "text": [
      "\t Loss: 0.005,\tTrain : 100.00%(100.00%),\tTest : 98.40%(98.42%),\tCurrent Time: 20250721-113128\n"
     ]
    },
    {
     "name": "stderr",
     "output_type": "stream",
     "text": [
      "Epoch 46/50: 100%|\u001b[34m███████████████████\u001b[0m| 120/120 [00:00<00:00, 292.52batch/s, loss=0.000040]\u001b[0m\n"
     ]
    },
    {
     "name": "stdout",
     "output_type": "stream",
     "text": [
      "\t Loss: 0.005,\tTrain : 100.00%(100.00%),\tTest : 98.42%(98.42%),\tCurrent Time: 20250721-113128\n"
     ]
    },
    {
     "name": "stderr",
     "output_type": "stream",
     "text": [
      "Epoch 47/50: 100%|\u001b[34m███████████████████\u001b[0m| 120/120 [00:00<00:00, 273.50batch/s, loss=0.000036]\u001b[0m\n"
     ]
    },
    {
     "name": "stdout",
     "output_type": "stream",
     "text": [
      "\t Loss: 0.004,\tTrain : 100.00%(100.00%),\tTest : 98.40%(98.42%),\tCurrent Time: 20250721-113128\n"
     ]
    },
    {
     "name": "stderr",
     "output_type": "stream",
     "text": [
      "Epoch 48/50: 100%|\u001b[34m███████████████████\u001b[0m| 120/120 [00:00<00:00, 278.10batch/s, loss=0.000033]\u001b[0m\n"
     ]
    },
    {
     "name": "stdout",
     "output_type": "stream",
     "text": [
      "\t Loss: 0.004,\tTrain : 100.00%(100.00%),\tTest : 98.43%(98.43%),\tCurrent Time: 20250721-113129\n"
     ]
    },
    {
     "name": "stderr",
     "output_type": "stream",
     "text": [
      "Epoch 49/50: 100%|\u001b[34m███████████████████\u001b[0m| 120/120 [00:00<00:00, 280.39batch/s, loss=0.000031]\u001b[0m\n"
     ]
    },
    {
     "name": "stdout",
     "output_type": "stream",
     "text": [
      "\t Loss: 0.004,\tTrain : 100.00%(100.00%),\tTest : 98.37%(98.43%),\tCurrent Time: 20250721-113129\n"
     ]
    },
    {
     "name": "stderr",
     "output_type": "stream",
     "text": [
      "Epoch 50/50: 100%|\u001b[34m███████████████████\u001b[0m| 120/120 [00:00<00:00, 259.42batch/s, loss=0.000029]\u001b[0m\n"
     ]
    },
    {
     "name": "stdout",
     "output_type": "stream",
     "text": [
      "\t Loss: 0.004,\tTrain : 100.00%(100.00%),\tTest : 98.40%(98.43%),\tCurrent Time: 20250721-113130\n",
      "BP_L3_MNIST_First_com_BP_FA_EP_512_t52-EP_b_scBP-EP_It2sta18- Time: 20250721-113130, Epochs: 50, Learning Rate: 0.001, Best: 100.00%  98.43%\n",
      "\n",
      "BP_L3_MNIST_First_com_BP_FA_EP_512_t52-EP_b_scBP-EP_It2sta18-\n"
     ]
    },
    {
     "name": "stderr",
     "output_type": "stream",
     "text": [
      "Epoch 1/50: 100%|\u001b[34m████████████████████\u001b[0m| 120/120 [00:00<00:00, 260.65batch/s, loss=0.365472]\u001b[0m\n"
     ]
    },
    {
     "name": "stdout",
     "output_type": "stream",
     "text": [
      "\t Loss: 42.546,\tTrain : 89.32%(89.32%),\tTest : 93.35%(93.35%),\tCurrent Time: 20250721-113131\n"
     ]
    },
    {
     "name": "stderr",
     "output_type": "stream",
     "text": [
      "Epoch 2/50: 100%|\u001b[34m████████████████████\u001b[0m| 120/120 [00:00<00:00, 249.67batch/s, loss=0.166368]\u001b[0m\n"
     ]
    },
    {
     "name": "stdout",
     "output_type": "stream",
     "text": [
      "\t Loss: 19.527,\tTrain : 95.15%(95.15%),\tTest : 95.93%(95.93%),\tCurrent Time: 20250721-113131\n"
     ]
    },
    {
     "name": "stderr",
     "output_type": "stream",
     "text": [
      "Epoch 3/50: 100%|\u001b[34m████████████████████\u001b[0m| 120/120 [00:00<00:00, 264.99batch/s, loss=0.109394]\u001b[0m\n"
     ]
    },
    {
     "name": "stdout",
     "output_type": "stream",
     "text": [
      "\t Loss: 13.145,\tTrain : 96.70%(96.70%),\tTest : 96.82%(96.82%),\tCurrent Time: 20250721-113132\n"
     ]
    },
    {
     "name": "stderr",
     "output_type": "stream",
     "text": [
      "Epoch 4/50: 100%|\u001b[34m████████████████████\u001b[0m| 120/120 [00:00<00:00, 249.21batch/s, loss=0.080692]\u001b[0m\n"
     ]
    },
    {
     "name": "stdout",
     "output_type": "stream",
     "text": [
      "\t Loss: 9.620,\tTrain : 97.55%(97.55%),\tTest : 97.15%(97.15%),\tCurrent Time: 20250721-113132\n"
     ]
    },
    {
     "name": "stderr",
     "output_type": "stream",
     "text": [
      "Epoch 5/50: 100%|\u001b[34m████████████████████\u001b[0m| 120/120 [00:00<00:00, 299.21batch/s, loss=0.061852]\u001b[0m\n"
     ]
    },
    {
     "name": "stdout",
     "output_type": "stream",
     "text": [
      "\t Loss: 7.527,\tTrain : 98.07%(98.07%),\tTest : 97.30%(97.30%),\tCurrent Time: 20250721-113132\n"
     ]
    },
    {
     "name": "stderr",
     "output_type": "stream",
     "text": [
      "Epoch 6/50: 100%|\u001b[34m████████████████████\u001b[0m| 120/120 [00:00<00:00, 224.74batch/s, loss=0.046681]\u001b[0m\n"
     ]
    },
    {
     "name": "stdout",
     "output_type": "stream",
     "text": [
      "\t Loss: 5.619,\tTrain : 98.56%(98.56%),\tTest : 97.59%(97.59%),\tCurrent Time: 20250721-113133\n"
     ]
    },
    {
     "name": "stderr",
     "output_type": "stream",
     "text": [
      "Epoch 7/50: 100%|\u001b[34m████████████████████\u001b[0m| 120/120 [00:00<00:00, 263.15batch/s, loss=0.038260]\u001b[0m\n"
     ]
    },
    {
     "name": "stdout",
     "output_type": "stream",
     "text": [
      "\t Loss: 4.623,\tTrain : 98.75%(98.75%),\tTest : 97.75%(97.75%),\tCurrent Time: 20250721-113133\n"
     ]
    },
    {
     "name": "stderr",
     "output_type": "stream",
     "text": [
      "Epoch 8/50: 100%|\u001b[34m████████████████████\u001b[0m| 120/120 [00:00<00:00, 243.07batch/s, loss=0.027377]\u001b[0m\n"
     ]
    },
    {
     "name": "stdout",
     "output_type": "stream",
     "text": [
      "\t Loss: 3.366,\tTrain : 99.17%(99.17%),\tTest : 97.77%(97.77%),\tCurrent Time: 20250721-113134\n"
     ]
    },
    {
     "name": "stderr",
     "output_type": "stream",
     "text": [
      "Epoch 9/50: 100%|\u001b[34m████████████████████\u001b[0m| 120/120 [00:00<00:00, 295.25batch/s, loss=0.021601]\u001b[0m\n"
     ]
    },
    {
     "name": "stdout",
     "output_type": "stream",
     "text": [
      "\t Loss: 2.612,\tTrain : 99.37%(99.37%),\tTest : 97.78%(97.78%),\tCurrent Time: 20250721-113134\n"
     ]
    },
    {
     "name": "stderr",
     "output_type": "stream",
     "text": [
      "Epoch 10/50: 100%|\u001b[34m███████████████████\u001b[0m| 120/120 [00:00<00:00, 272.24batch/s, loss=0.014381]\u001b[0m\n"
     ]
    },
    {
     "name": "stdout",
     "output_type": "stream",
     "text": [
      "\t Loss: 1.811,\tTrain : 99.56%(99.56%),\tTest : 97.93%(97.93%),\tCurrent Time: 20250721-113135\n"
     ]
    },
    {
     "name": "stderr",
     "output_type": "stream",
     "text": [
      "Epoch 11/50: 100%|\u001b[34m███████████████████\u001b[0m| 120/120 [00:00<00:00, 292.34batch/s, loss=0.010931]\u001b[0m\n"
     ]
    },
    {
     "name": "stdout",
     "output_type": "stream",
     "text": [
      "\t Loss: 1.372,\tTrain : 99.70%(99.70%),\tTest : 98.04%(98.04%),\tCurrent Time: 20250721-113135\n"
     ]
    },
    {
     "name": "stderr",
     "output_type": "stream",
     "text": [
      "Epoch 12/50: 100%|\u001b[34m███████████████████\u001b[0m| 120/120 [00:00<00:00, 254.00batch/s, loss=0.009809]\u001b[0m\n"
     ]
    },
    {
     "name": "stdout",
     "output_type": "stream",
     "text": [
      "\t Loss: 1.172,\tTrain : 99.76%(99.76%),\tTest : 97.97%(98.04%),\tCurrent Time: 20250721-113136\n"
     ]
    },
    {
     "name": "stderr",
     "output_type": "stream",
     "text": [
      "Epoch 13/50: 100%|\u001b[34m███████████████████\u001b[0m| 120/120 [00:00<00:00, 288.68batch/s, loss=0.006721]\u001b[0m\n"
     ]
    },
    {
     "name": "stdout",
     "output_type": "stream",
     "text": [
      "\t Loss: 0.816,\tTrain : 99.85%(99.85%),\tTest : 98.20%(98.20%),\tCurrent Time: 20250721-113136\n"
     ]
    },
    {
     "name": "stderr",
     "output_type": "stream",
     "text": [
      "Epoch 14/50: 100%|\u001b[34m███████████████████\u001b[0m| 120/120 [00:00<00:00, 298.96batch/s, loss=0.005013]\u001b[0m\n"
     ]
    },
    {
     "name": "stdout",
     "output_type": "stream",
     "text": [
      "\t Loss: 0.609,\tTrain : 99.91%(99.91%),\tTest : 98.08%(98.20%),\tCurrent Time: 20250721-113137\n"
     ]
    },
    {
     "name": "stderr",
     "output_type": "stream",
     "text": [
      "Epoch 15/50: 100%|\u001b[34m███████████████████\u001b[0m| 120/120 [00:00<00:00, 295.99batch/s, loss=0.003805]\u001b[0m\n"
     ]
    },
    {
     "name": "stdout",
     "output_type": "stream",
     "text": [
      "\t Loss: 0.458,\tTrain : 99.94%(99.94%),\tTest : 98.12%(98.20%),\tCurrent Time: 20250721-113137\n"
     ]
    },
    {
     "name": "stderr",
     "output_type": "stream",
     "text": [
      "Epoch 16/50: 100%|\u001b[34m███████████████████\u001b[0m| 120/120 [00:00<00:00, 281.14batch/s, loss=0.002240]\u001b[0m\n"
     ]
    },
    {
     "name": "stdout",
     "output_type": "stream",
     "text": [
      "\t Loss: 0.264,\tTrain : 99.97%(99.97%),\tTest : 98.25%(98.25%),\tCurrent Time: 20250721-113137\n"
     ]
    },
    {
     "name": "stderr",
     "output_type": "stream",
     "text": [
      "Epoch 17/50: 100%|\u001b[34m███████████████████\u001b[0m| 120/120 [00:00<00:00, 237.23batch/s, loss=0.001034]\u001b[0m\n"
     ]
    },
    {
     "name": "stdout",
     "output_type": "stream",
     "text": [
      "\t Loss: 0.128,\tTrain : 100.00%(100.00%),\tTest : 98.24%(98.25%),\tCurrent Time: 20250721-113138\n"
     ]
    },
    {
     "name": "stderr",
     "output_type": "stream",
     "text": [
      "Epoch 18/50: 100%|\u001b[34m███████████████████\u001b[0m| 120/120 [00:00<00:00, 269.79batch/s, loss=0.002603]\u001b[0m\n"
     ]
    },
    {
     "name": "stdout",
     "output_type": "stream",
     "text": [
      "\t Loss: 0.326,\tTrain : 99.94%(100.00%),\tTest : 97.93%(98.25%),\tCurrent Time: 20250721-113138\n"
     ]
    },
    {
     "name": "stderr",
     "output_type": "stream",
     "text": [
      "Epoch 19/50: 100%|\u001b[34m███████████████████\u001b[0m| 120/120 [00:00<00:00, 301.91batch/s, loss=0.006716]\u001b[0m\n"
     ]
    },
    {
     "name": "stdout",
     "output_type": "stream",
     "text": [
      "\t Loss: 0.809,\tTrain : 99.82%(100.00%),\tTest : 98.09%(98.25%),\tCurrent Time: 20250721-113139\n"
     ]
    },
    {
     "name": "stderr",
     "output_type": "stream",
     "text": [
      "Epoch 20/50: 100%|\u001b[34m███████████████████\u001b[0m| 120/120 [00:00<00:00, 284.97batch/s, loss=0.020687]\u001b[0m\n"
     ]
    },
    {
     "name": "stdout",
     "output_type": "stream",
     "text": [
      "\t Loss: 2.493,\tTrain : 99.31%(100.00%),\tTest : 97.40%(98.25%),\tCurrent Time: 20250721-113139\n"
     ]
    },
    {
     "name": "stderr",
     "output_type": "stream",
     "text": [
      "Epoch 21/50: 100%|\u001b[34m███████████████████\u001b[0m| 120/120 [00:00<00:00, 299.61batch/s, loss=0.015004]\u001b[0m\n"
     ]
    },
    {
     "name": "stdout",
     "output_type": "stream",
     "text": [
      "\t Loss: 1.755,\tTrain : 99.50%(100.00%),\tTest : 97.71%(98.25%),\tCurrent Time: 20250721-113140\n"
     ]
    },
    {
     "name": "stderr",
     "output_type": "stream",
     "text": [
      "Epoch 22/50: 100%|\u001b[34m███████████████████\u001b[0m| 120/120 [00:00<00:00, 260.14batch/s, loss=0.010450]\u001b[0m\n"
     ]
    },
    {
     "name": "stdout",
     "output_type": "stream",
     "text": [
      "\t Loss: 1.232,\tTrain : 99.68%(100.00%),\tTest : 97.86%(98.25%),\tCurrent Time: 20250721-113140\n"
     ]
    },
    {
     "name": "stderr",
     "output_type": "stream",
     "text": [
      "Epoch 23/50: 100%|\u001b[34m███████████████████\u001b[0m| 120/120 [00:00<00:00, 250.67batch/s, loss=0.005782]\u001b[0m\n"
     ]
    },
    {
     "name": "stdout",
     "output_type": "stream",
     "text": [
      "\t Loss: 0.686,\tTrain : 99.84%(100.00%),\tTest : 98.19%(98.25%),\tCurrent Time: 20250721-113141\n"
     ]
    },
    {
     "name": "stderr",
     "output_type": "stream",
     "text": [
      "Epoch 24/50: 100%|\u001b[34m███████████████████\u001b[0m| 120/120 [00:00<00:00, 294.80batch/s, loss=0.002096]\u001b[0m\n"
     ]
    },
    {
     "name": "stdout",
     "output_type": "stream",
     "text": [
      "\t Loss: 0.259,\tTrain : 99.95%(100.00%),\tTest : 98.15%(98.25%),\tCurrent Time: 20250721-113141\n"
     ]
    },
    {
     "name": "stderr",
     "output_type": "stream",
     "text": [
      "Epoch 25/50: 100%|\u001b[34m███████████████████\u001b[0m| 120/120 [00:00<00:00, 266.18batch/s, loss=0.001283]\u001b[0m\n"
     ]
    },
    {
     "name": "stdout",
     "output_type": "stream",
     "text": [
      "\t Loss: 0.150,\tTrain : 99.98%(100.00%),\tTest : 98.32%(98.32%),\tCurrent Time: 20250721-113142\n"
     ]
    },
    {
     "name": "stderr",
     "output_type": "stream",
     "text": [
      "Epoch 26/50: 100%|\u001b[34m███████████████████\u001b[0m| 120/120 [00:00<00:00, 258.02batch/s, loss=0.000496]\u001b[0m\n"
     ]
    },
    {
     "name": "stdout",
     "output_type": "stream",
     "text": [
      "\t Loss: 0.059,\tTrain : 99.99%(100.00%),\tTest : 98.37%(98.37%),\tCurrent Time: 20250721-113142\n"
     ]
    },
    {
     "name": "stderr",
     "output_type": "stream",
     "text": [
      "Epoch 27/50: 100%|\u001b[34m███████████████████\u001b[0m| 120/120 [00:00<00:00, 241.84batch/s, loss=0.000202]\u001b[0m\n"
     ]
    },
    {
     "name": "stdout",
     "output_type": "stream",
     "text": [
      "\t Loss: 0.024,\tTrain : 100.00%(100.00%),\tTest : 98.39%(98.39%),\tCurrent Time: 20250721-113143\n"
     ]
    },
    {
     "name": "stderr",
     "output_type": "stream",
     "text": [
      "Epoch 28/50: 100%|\u001b[34m███████████████████\u001b[0m| 120/120 [00:00<00:00, 274.51batch/s, loss=0.000160]\u001b[0m\n"
     ]
    },
    {
     "name": "stdout",
     "output_type": "stream",
     "text": [
      "\t Loss: 0.019,\tTrain : 100.00%(100.00%),\tTest : 98.34%(98.39%),\tCurrent Time: 20250721-113143\n"
     ]
    },
    {
     "name": "stderr",
     "output_type": "stream",
     "text": [
      "Epoch 29/50: 100%|\u001b[34m███████████████████\u001b[0m| 120/120 [00:00<00:00, 301.81batch/s, loss=0.000139]\u001b[0m\n"
     ]
    },
    {
     "name": "stdout",
     "output_type": "stream",
     "text": [
      "\t Loss: 0.017,\tTrain : 100.00%(100.00%),\tTest : 98.39%(98.39%),\tCurrent Time: 20250721-113143\n"
     ]
    },
    {
     "name": "stderr",
     "output_type": "stream",
     "text": [
      "Epoch 30/50: 100%|\u001b[34m███████████████████\u001b[0m| 120/120 [00:00<00:00, 284.36batch/s, loss=0.000124]\u001b[0m\n"
     ]
    },
    {
     "name": "stdout",
     "output_type": "stream",
     "text": [
      "\t Loss: 0.015,\tTrain : 100.00%(100.00%),\tTest : 98.36%(98.39%),\tCurrent Time: 20250721-113144\n"
     ]
    },
    {
     "name": "stderr",
     "output_type": "stream",
     "text": [
      "Epoch 31/50: 100%|\u001b[34m███████████████████\u001b[0m| 120/120 [00:00<00:00, 256.81batch/s, loss=0.000110]\u001b[0m\n"
     ]
    },
    {
     "name": "stdout",
     "output_type": "stream",
     "text": [
      "\t Loss: 0.013,\tTrain : 100.00%(100.00%),\tTest : 98.41%(98.41%),\tCurrent Time: 20250721-113144\n"
     ]
    },
    {
     "name": "stderr",
     "output_type": "stream",
     "text": [
      "Epoch 32/50: 100%|\u001b[34m███████████████████\u001b[0m| 120/120 [00:00<00:00, 244.05batch/s, loss=0.000101]\u001b[0m\n"
     ]
    },
    {
     "name": "stdout",
     "output_type": "stream",
     "text": [
      "\t Loss: 0.012,\tTrain : 100.00%(100.00%),\tTest : 98.44%(98.44%),\tCurrent Time: 20250721-113145\n"
     ]
    },
    {
     "name": "stderr",
     "output_type": "stream",
     "text": [
      "Epoch 33/50: 100%|\u001b[34m███████████████████\u001b[0m| 120/120 [00:00<00:00, 263.47batch/s, loss=0.000093]\u001b[0m\n"
     ]
    },
    {
     "name": "stdout",
     "output_type": "stream",
     "text": [
      "\t Loss: 0.011,\tTrain : 100.00%(100.00%),\tTest : 98.40%(98.44%),\tCurrent Time: 20250721-113145\n"
     ]
    },
    {
     "name": "stderr",
     "output_type": "stream",
     "text": [
      "Epoch 34/50: 100%|\u001b[34m███████████████████\u001b[0m| 120/120 [00:00<00:00, 239.49batch/s, loss=0.000086]\u001b[0m\n"
     ]
    },
    {
     "name": "stdout",
     "output_type": "stream",
     "text": [
      "\t Loss: 0.010,\tTrain : 100.00%(100.00%),\tTest : 98.47%(98.47%),\tCurrent Time: 20250721-113146\n"
     ]
    },
    {
     "name": "stderr",
     "output_type": "stream",
     "text": [
      "Epoch 35/50: 100%|\u001b[34m███████████████████\u001b[0m| 120/120 [00:00<00:00, 263.72batch/s, loss=0.000080]\u001b[0m\n"
     ]
    },
    {
     "name": "stdout",
     "output_type": "stream",
     "text": [
      "\t Loss: 0.010,\tTrain : 100.00%(100.00%),\tTest : 98.42%(98.47%),\tCurrent Time: 20250721-113146\n"
     ]
    },
    {
     "name": "stderr",
     "output_type": "stream",
     "text": [
      "Epoch 36/50: 100%|\u001b[34m███████████████████\u001b[0m| 120/120 [00:00<00:00, 281.11batch/s, loss=0.000073]\u001b[0m\n"
     ]
    },
    {
     "name": "stdout",
     "output_type": "stream",
     "text": [
      "\t Loss: 0.009,\tTrain : 100.00%(100.00%),\tTest : 98.41%(98.47%),\tCurrent Time: 20250721-113147\n"
     ]
    },
    {
     "name": "stderr",
     "output_type": "stream",
     "text": [
      "Epoch 37/50: 100%|\u001b[34m███████████████████\u001b[0m| 120/120 [00:00<00:00, 292.72batch/s, loss=0.000069]\u001b[0m\n"
     ]
    },
    {
     "name": "stdout",
     "output_type": "stream",
     "text": [
      "\t Loss: 0.008,\tTrain : 100.00%(100.00%),\tTest : 98.44%(98.47%),\tCurrent Time: 20250721-113147\n"
     ]
    },
    {
     "name": "stderr",
     "output_type": "stream",
     "text": [
      "Epoch 38/50: 100%|\u001b[34m███████████████████\u001b[0m| 120/120 [00:00<00:00, 271.74batch/s, loss=0.000064]\u001b[0m\n"
     ]
    },
    {
     "name": "stdout",
     "output_type": "stream",
     "text": [
      "\t Loss: 0.008,\tTrain : 100.00%(100.00%),\tTest : 98.43%(98.47%),\tCurrent Time: 20250721-113148\n"
     ]
    },
    {
     "name": "stderr",
     "output_type": "stream",
     "text": [
      "Epoch 39/50: 100%|\u001b[34m███████████████████\u001b[0m| 120/120 [00:00<00:00, 275.66batch/s, loss=0.000059]\u001b[0m\n"
     ]
    },
    {
     "name": "stdout",
     "output_type": "stream",
     "text": [
      "\t Loss: 0.007,\tTrain : 100.00%(100.00%),\tTest : 98.42%(98.47%),\tCurrent Time: 20250721-113148\n"
     ]
    },
    {
     "name": "stderr",
     "output_type": "stream",
     "text": [
      "Epoch 40/50: 100%|\u001b[34m███████████████████\u001b[0m| 120/120 [00:00<00:00, 290.57batch/s, loss=0.000055]\u001b[0m\n"
     ]
    },
    {
     "name": "stdout",
     "output_type": "stream",
     "text": [
      "\t Loss: 0.007,\tTrain : 100.00%(100.00%),\tTest : 98.41%(98.47%),\tCurrent Time: 20250721-113148\n"
     ]
    },
    {
     "name": "stderr",
     "output_type": "stream",
     "text": [
      "Epoch 41/50: 100%|\u001b[34m███████████████████\u001b[0m| 120/120 [00:00<00:00, 272.68batch/s, loss=0.000051]\u001b[0m\n"
     ]
    },
    {
     "name": "stdout",
     "output_type": "stream",
     "text": [
      "\t Loss: 0.006,\tTrain : 100.00%(100.00%),\tTest : 98.44%(98.47%),\tCurrent Time: 20250721-113149\n"
     ]
    },
    {
     "name": "stderr",
     "output_type": "stream",
     "text": [
      "Epoch 42/50: 100%|\u001b[34m███████████████████\u001b[0m| 120/120 [00:00<00:00, 248.94batch/s, loss=0.000048]\u001b[0m\n"
     ]
    },
    {
     "name": "stdout",
     "output_type": "stream",
     "text": [
      "\t Loss: 0.006,\tTrain : 100.00%(100.00%),\tTest : 98.44%(98.47%),\tCurrent Time: 20250721-113149\n"
     ]
    },
    {
     "name": "stderr",
     "output_type": "stream",
     "text": [
      "Epoch 43/50: 100%|\u001b[34m███████████████████\u001b[0m| 120/120 [00:00<00:00, 260.03batch/s, loss=0.000046]\u001b[0m\n"
     ]
    },
    {
     "name": "stdout",
     "output_type": "stream",
     "text": [
      "\t Loss: 0.005,\tTrain : 100.00%(100.00%),\tTest : 98.43%(98.47%),\tCurrent Time: 20250721-113150\n"
     ]
    },
    {
     "name": "stderr",
     "output_type": "stream",
     "text": [
      "Epoch 44/50: 100%|\u001b[34m███████████████████\u001b[0m| 120/120 [00:00<00:00, 280.97batch/s, loss=0.000043]\u001b[0m\n"
     ]
    },
    {
     "name": "stdout",
     "output_type": "stream",
     "text": [
      "\t Loss: 0.005,\tTrain : 100.00%(100.00%),\tTest : 98.44%(98.47%),\tCurrent Time: 20250721-113150\n"
     ]
    },
    {
     "name": "stderr",
     "output_type": "stream",
     "text": [
      "Epoch 45/50: 100%|\u001b[34m███████████████████\u001b[0m| 120/120 [00:00<00:00, 248.47batch/s, loss=0.000040]\u001b[0m\n"
     ]
    },
    {
     "name": "stdout",
     "output_type": "stream",
     "text": [
      "\t Loss: 0.005,\tTrain : 100.00%(100.00%),\tTest : 98.46%(98.47%),\tCurrent Time: 20250721-113151\n"
     ]
    },
    {
     "name": "stderr",
     "output_type": "stream",
     "text": [
      "Epoch 46/50: 100%|\u001b[34m███████████████████\u001b[0m| 120/120 [00:00<00:00, 260.27batch/s, loss=0.000037]\u001b[0m\n"
     ]
    },
    {
     "name": "stdout",
     "output_type": "stream",
     "text": [
      "\t Loss: 0.005,\tTrain : 100.00%(100.00%),\tTest : 98.45%(98.47%),\tCurrent Time: 20250721-113151\n"
     ]
    },
    {
     "name": "stderr",
     "output_type": "stream",
     "text": [
      "Epoch 47/50: 100%|\u001b[34m███████████████████\u001b[0m| 120/120 [00:00<00:00, 279.00batch/s, loss=0.000035]\u001b[0m\n"
     ]
    },
    {
     "name": "stdout",
     "output_type": "stream",
     "text": [
      "\t Loss: 0.004,\tTrain : 100.00%(100.00%),\tTest : 98.44%(98.47%),\tCurrent Time: 20250721-113152\n"
     ]
    },
    {
     "name": "stderr",
     "output_type": "stream",
     "text": [
      "Epoch 48/50: 100%|\u001b[34m███████████████████\u001b[0m| 120/120 [00:00<00:00, 277.68batch/s, loss=0.000033]\u001b[0m\n"
     ]
    },
    {
     "name": "stdout",
     "output_type": "stream",
     "text": [
      "\t Loss: 0.004,\tTrain : 100.00%(100.00%),\tTest : 98.43%(98.47%),\tCurrent Time: 20250721-113152\n"
     ]
    },
    {
     "name": "stderr",
     "output_type": "stream",
     "text": [
      "Epoch 49/50: 100%|\u001b[34m███████████████████\u001b[0m| 120/120 [00:00<00:00, 239.98batch/s, loss=0.000031]\u001b[0m\n"
     ]
    },
    {
     "name": "stdout",
     "output_type": "stream",
     "text": [
      "\t Loss: 0.004,\tTrain : 100.00%(100.00%),\tTest : 98.45%(98.47%),\tCurrent Time: 20250721-113153\n"
     ]
    },
    {
     "name": "stderr",
     "output_type": "stream",
     "text": [
      "Epoch 50/50: 100%|\u001b[34m███████████████████\u001b[0m| 120/120 [00:00<00:00, 248.70batch/s, loss=0.000029]\u001b[0m\n"
     ]
    },
    {
     "name": "stdout",
     "output_type": "stream",
     "text": [
      "\t Loss: 0.004,\tTrain : 100.00%(100.00%),\tTest : 98.45%(98.47%),\tCurrent Time: 20250721-113153\n",
      "BP_L3_MNIST_First_com_BP_FA_EP_512_t52-EP_b_scBP-EP_It2sta18- Time: 20250721-113153, Epochs: 50, Learning Rate: 0.001, Best: 100.00%  98.47%\n",
      "\n",
      "BP_L2_MNIST_First_com_BP_FA_EP_512_t52-EP_b_scBP-EP_It2sta10-\n"
     ]
    },
    {
     "name": "stderr",
     "output_type": "stream",
     "text": [
      "Epoch 1/50: 100%|\u001b[34m████████████████████\u001b[0m| 120/120 [00:00<00:00, 323.80batch/s, loss=0.373842]\u001b[0m\n"
     ]
    },
    {
     "name": "stdout",
     "output_type": "stream",
     "text": [
      "\t Loss: 43.536,\tTrain : 89.25%(89.25%),\tTest : 93.34%(93.34%),\tCurrent Time: 20250721-113154\n"
     ]
    },
    {
     "name": "stderr",
     "output_type": "stream",
     "text": [
      "Epoch 2/50: 100%|\u001b[34m████████████████████\u001b[0m| 120/120 [00:00<00:00, 255.33batch/s, loss=0.188412]\u001b[0m\n"
     ]
    },
    {
     "name": "stdout",
     "output_type": "stream",
     "text": [
      "\t Loss: 22.502,\tTrain : 94.53%(94.53%),\tTest : 95.56%(95.56%),\tCurrent Time: 20250721-113154\n"
     ]
    },
    {
     "name": "stderr",
     "output_type": "stream",
     "text": [
      "Epoch 3/50: 100%|\u001b[34m████████████████████\u001b[0m| 120/120 [00:00<00:00, 288.68batch/s, loss=0.131346]\u001b[0m\n"
     ]
    },
    {
     "name": "stdout",
     "output_type": "stream",
     "text": [
      "\t Loss: 15.482,\tTrain : 96.18%(96.18%),\tTest : 96.34%(96.34%),\tCurrent Time: 20250721-113155\n"
     ]
    },
    {
     "name": "stderr",
     "output_type": "stream",
     "text": [
      "Epoch 4/50: 100%|\u001b[34m████████████████████\u001b[0m| 120/120 [00:00<00:00, 329.84batch/s, loss=0.098261]\u001b[0m\n"
     ]
    },
    {
     "name": "stdout",
     "output_type": "stream",
     "text": [
      "\t Loss: 11.596,\tTrain : 97.10%(97.10%),\tTest : 97.18%(97.18%),\tCurrent Time: 20250721-113155\n"
     ]
    },
    {
     "name": "stderr",
     "output_type": "stream",
     "text": [
      "Epoch 5/50: 100%|\u001b[34m████████████████████\u001b[0m| 120/120 [00:00<00:00, 383.70batch/s, loss=0.076376]\u001b[0m\n"
     ]
    },
    {
     "name": "stdout",
     "output_type": "stream",
     "text": [
      "\t Loss: 9.099,\tTrain : 97.73%(97.73%),\tTest : 97.33%(97.33%),\tCurrent Time: 20250721-113155\n"
     ]
    },
    {
     "name": "stderr",
     "output_type": "stream",
     "text": [
      "Epoch 6/50: 100%|\u001b[34m████████████████████\u001b[0m| 120/120 [00:00<00:00, 336.57batch/s, loss=0.059622]\u001b[0m\n"
     ]
    },
    {
     "name": "stdout",
     "output_type": "stream",
     "text": [
      "\t Loss: 7.106,\tTrain : 98.27%(98.27%),\tTest : 97.56%(97.56%),\tCurrent Time: 20250721-113156\n"
     ]
    },
    {
     "name": "stderr",
     "output_type": "stream",
     "text": [
      "Epoch 7/50: 100%|\u001b[34m████████████████████\u001b[0m| 120/120 [00:00<00:00, 376.32batch/s, loss=0.048916]\u001b[0m\n"
     ]
    },
    {
     "name": "stdout",
     "output_type": "stream",
     "text": [
      "\t Loss: 5.865,\tTrain : 98.54%(98.54%),\tTest : 97.74%(97.74%),\tCurrent Time: 20250721-113156\n"
     ]
    },
    {
     "name": "stderr",
     "output_type": "stream",
     "text": [
      "Epoch 8/50: 100%|\u001b[34m████████████████████\u001b[0m| 120/120 [00:00<00:00, 362.41batch/s, loss=0.037811]\u001b[0m\n"
     ]
    },
    {
     "name": "stdout",
     "output_type": "stream",
     "text": [
      "\t Loss: 4.527,\tTrain : 98.98%(98.98%),\tTest : 97.76%(97.76%),\tCurrent Time: 20250721-113157\n"
     ]
    },
    {
     "name": "stderr",
     "output_type": "stream",
     "text": [
      "Epoch 9/50: 100%|\u001b[34m████████████████████\u001b[0m| 120/120 [00:00<00:00, 310.62batch/s, loss=0.031710]\u001b[0m\n"
     ]
    },
    {
     "name": "stdout",
     "output_type": "stream",
     "text": [
      "\t Loss: 3.768,\tTrain : 99.12%(99.12%),\tTest : 97.89%(97.89%),\tCurrent Time: 20250721-113157\n"
     ]
    },
    {
     "name": "stderr",
     "output_type": "stream",
     "text": [
      "Epoch 10/50: 100%|\u001b[34m███████████████████\u001b[0m| 120/120 [00:00<00:00, 340.48batch/s, loss=0.024536]\u001b[0m\n"
     ]
    },
    {
     "name": "stdout",
     "output_type": "stream",
     "text": [
      "\t Loss: 3.000,\tTrain : 99.35%(99.35%),\tTest : 97.97%(97.97%),\tCurrent Time: 20250721-113157\n"
     ]
    },
    {
     "name": "stderr",
     "output_type": "stream",
     "text": [
      "Epoch 11/50: 100%|\u001b[34m███████████████████\u001b[0m| 120/120 [00:00<00:00, 347.08batch/s, loss=0.019886]\u001b[0m\n"
     ]
    },
    {
     "name": "stdout",
     "output_type": "stream",
     "text": [
      "\t Loss: 2.409,\tTrain : 99.50%(99.50%),\tTest : 97.88%(97.97%),\tCurrent Time: 20250721-113158\n"
     ]
    },
    {
     "name": "stderr",
     "output_type": "stream",
     "text": [
      "Epoch 12/50: 100%|\u001b[34m███████████████████\u001b[0m| 120/120 [00:00<00:00, 365.95batch/s, loss=0.015473]\u001b[0m\n"
     ]
    },
    {
     "name": "stdout",
     "output_type": "stream",
     "text": [
      "\t Loss: 1.883,\tTrain : 99.68%(99.68%),\tTest : 98.00%(98.00%),\tCurrent Time: 20250721-113158\n"
     ]
    },
    {
     "name": "stderr",
     "output_type": "stream",
     "text": [
      "Epoch 13/50: 100%|\u001b[34m███████████████████\u001b[0m| 120/120 [00:00<00:00, 350.94batch/s, loss=0.012231]\u001b[0m\n"
     ]
    },
    {
     "name": "stdout",
     "output_type": "stream",
     "text": [
      "\t Loss: 1.466,\tTrain : 99.76%(99.76%),\tTest : 98.11%(98.11%),\tCurrent Time: 20250721-113158\n"
     ]
    },
    {
     "name": "stderr",
     "output_type": "stream",
     "text": [
      "Epoch 14/50: 100%|\u001b[34m███████████████████\u001b[0m| 120/120 [00:00<00:00, 353.16batch/s, loss=0.008886]\u001b[0m\n"
     ]
    },
    {
     "name": "stdout",
     "output_type": "stream",
     "text": [
      "\t Loss: 1.092,\tTrain : 99.86%(99.86%),\tTest : 98.01%(98.11%),\tCurrent Time: 20250721-113159\n"
     ]
    },
    {
     "name": "stderr",
     "output_type": "stream",
     "text": [
      "Epoch 15/50: 100%|\u001b[34m███████████████████\u001b[0m| 120/120 [00:00<00:00, 309.06batch/s, loss=0.007122]\u001b[0m\n"
     ]
    },
    {
     "name": "stdout",
     "output_type": "stream",
     "text": [
      "\t Loss: 0.847,\tTrain : 99.92%(99.92%),\tTest : 98.03%(98.11%),\tCurrent Time: 20250721-113159\n"
     ]
    },
    {
     "name": "stderr",
     "output_type": "stream",
     "text": [
      "Epoch 16/50: 100%|\u001b[34m███████████████████\u001b[0m| 120/120 [00:00<00:00, 366.04batch/s, loss=0.005556]\u001b[0m\n"
     ]
    },
    {
     "name": "stdout",
     "output_type": "stream",
     "text": [
      "\t Loss: 0.680,\tTrain : 99.93%(99.93%),\tTest : 98.20%(98.20%),\tCurrent Time: 20250721-113159\n"
     ]
    },
    {
     "name": "stderr",
     "output_type": "stream",
     "text": [
      "Epoch 17/50: 100%|\u001b[34m███████████████████\u001b[0m| 120/120 [00:00<00:00, 317.91batch/s, loss=0.004463]\u001b[0m\n"
     ]
    },
    {
     "name": "stdout",
     "output_type": "stream",
     "text": [
      "\t Loss: 0.553,\tTrain : 99.95%(99.95%),\tTest : 98.01%(98.20%),\tCurrent Time: 20250721-113200\n"
     ]
    },
    {
     "name": "stderr",
     "output_type": "stream",
     "text": [
      "Epoch 18/50: 100%|\u001b[34m███████████████████\u001b[0m| 120/120 [00:00<00:00, 311.77batch/s, loss=0.003854]\u001b[0m\n"
     ]
    },
    {
     "name": "stdout",
     "output_type": "stream",
     "text": [
      "\t Loss: 0.462,\tTrain : 99.97%(99.97%),\tTest : 98.18%(98.20%),\tCurrent Time: 20250721-113200\n"
     ]
    },
    {
     "name": "stderr",
     "output_type": "stream",
     "text": [
      "Epoch 19/50: 100%|\u001b[34m███████████████████\u001b[0m| 120/120 [00:00<00:00, 337.38batch/s, loss=0.002734]\u001b[0m\n"
     ]
    },
    {
     "name": "stdout",
     "output_type": "stream",
     "text": [
      "\t Loss: 0.329,\tTrain : 99.99%(99.99%),\tTest : 98.13%(98.20%),\tCurrent Time: 20250721-113201\n"
     ]
    },
    {
     "name": "stderr",
     "output_type": "stream",
     "text": [
      "Epoch 20/50: 100%|\u001b[34m███████████████████\u001b[0m| 120/120 [00:00<00:00, 351.84batch/s, loss=0.002259]\u001b[0m\n"
     ]
    },
    {
     "name": "stdout",
     "output_type": "stream",
     "text": [
      "\t Loss: 0.269,\tTrain : 99.99%(99.99%),\tTest : 98.08%(98.20%),\tCurrent Time: 20250721-113201\n"
     ]
    },
    {
     "name": "stderr",
     "output_type": "stream",
     "text": [
      "Epoch 21/50: 100%|\u001b[34m███████████████████\u001b[0m| 120/120 [00:00<00:00, 317.39batch/s, loss=0.001708]\u001b[0m\n"
     ]
    },
    {
     "name": "stdout",
     "output_type": "stream",
     "text": [
      "\t Loss: 0.205,\tTrain : 100.00%(100.00%),\tTest : 98.19%(98.20%),\tCurrent Time: 20250721-113201\n"
     ]
    },
    {
     "name": "stderr",
     "output_type": "stream",
     "text": [
      "Epoch 22/50: 100%|\u001b[34m███████████████████\u001b[0m| 120/120 [00:00<00:00, 344.56batch/s, loss=0.001421]\u001b[0m\n"
     ]
    },
    {
     "name": "stdout",
     "output_type": "stream",
     "text": [
      "\t Loss: 0.171,\tTrain : 100.00%(100.00%),\tTest : 98.17%(98.20%),\tCurrent Time: 20250721-113202\n"
     ]
    },
    {
     "name": "stderr",
     "output_type": "stream",
     "text": [
      "Epoch 23/50: 100%|\u001b[34m███████████████████\u001b[0m| 120/120 [00:00<00:00, 346.54batch/s, loss=0.001289]\u001b[0m\n"
     ]
    },
    {
     "name": "stdout",
     "output_type": "stream",
     "text": [
      "\t Loss: 0.154,\tTrain : 100.00%(100.00%),\tTest : 98.19%(98.20%),\tCurrent Time: 20250721-113202\n"
     ]
    },
    {
     "name": "stderr",
     "output_type": "stream",
     "text": [
      "Epoch 24/50: 100%|\u001b[34m███████████████████\u001b[0m| 120/120 [00:00<00:00, 322.55batch/s, loss=0.001143]\u001b[0m\n"
     ]
    },
    {
     "name": "stdout",
     "output_type": "stream",
     "text": [
      "\t Loss: 0.138,\tTrain : 100.00%(100.00%),\tTest : 98.16%(98.20%),\tCurrent Time: 20250721-113202\n"
     ]
    },
    {
     "name": "stderr",
     "output_type": "stream",
     "text": [
      "Epoch 25/50: 100%|\u001b[34m███████████████████\u001b[0m| 120/120 [00:00<00:00, 384.99batch/s, loss=0.000995]\u001b[0m\n"
     ]
    },
    {
     "name": "stdout",
     "output_type": "stream",
     "text": [
      "\t Loss: 0.120,\tTrain : 100.00%(100.00%),\tTest : 98.14%(98.20%),\tCurrent Time: 20250721-113203\n"
     ]
    },
    {
     "name": "stderr",
     "output_type": "stream",
     "text": [
      "Epoch 26/50: 100%|\u001b[34m███████████████████\u001b[0m| 120/120 [00:00<00:00, 265.01batch/s, loss=0.000896]\u001b[0m\n"
     ]
    },
    {
     "name": "stdout",
     "output_type": "stream",
     "text": [
      "\t Loss: 0.107,\tTrain : 100.00%(100.00%),\tTest : 98.24%(98.24%),\tCurrent Time: 20250721-113203\n"
     ]
    },
    {
     "name": "stderr",
     "output_type": "stream",
     "text": [
      "Epoch 27/50: 100%|\u001b[34m███████████████████\u001b[0m| 120/120 [00:00<00:00, 380.26batch/s, loss=0.000784]\u001b[0m\n"
     ]
    },
    {
     "name": "stdout",
     "output_type": "stream",
     "text": [
      "\t Loss: 0.095,\tTrain : 100.00%(100.00%),\tTest : 98.19%(98.24%),\tCurrent Time: 20250721-113203\n"
     ]
    },
    {
     "name": "stderr",
     "output_type": "stream",
     "text": [
      "Epoch 28/50: 100%|\u001b[34m███████████████████\u001b[0m| 120/120 [00:00<00:00, 366.58batch/s, loss=0.000709]\u001b[0m\n"
     ]
    },
    {
     "name": "stdout",
     "output_type": "stream",
     "text": [
      "\t Loss: 0.084,\tTrain : 100.00%(100.00%),\tTest : 98.21%(98.24%),\tCurrent Time: 20250721-113204\n"
     ]
    },
    {
     "name": "stderr",
     "output_type": "stream",
     "text": [
      "Epoch 29/50: 100%|\u001b[34m███████████████████\u001b[0m| 120/120 [00:00<00:00, 384.67batch/s, loss=0.000607]\u001b[0m\n"
     ]
    },
    {
     "name": "stdout",
     "output_type": "stream",
     "text": [
      "\t Loss: 0.073,\tTrain : 100.00%(100.00%),\tTest : 98.18%(98.24%),\tCurrent Time: 20250721-113204\n"
     ]
    },
    {
     "name": "stderr",
     "output_type": "stream",
     "text": [
      "Epoch 30/50: 100%|\u001b[34m███████████████████\u001b[0m| 120/120 [00:00<00:00, 349.57batch/s, loss=0.000530]\u001b[0m\n"
     ]
    },
    {
     "name": "stdout",
     "output_type": "stream",
     "text": [
      "\t Loss: 0.064,\tTrain : 100.00%(100.00%),\tTest : 98.24%(98.24%),\tCurrent Time: 20250721-113204\n"
     ]
    },
    {
     "name": "stderr",
     "output_type": "stream",
     "text": [
      "Epoch 31/50: 100%|\u001b[34m███████████████████\u001b[0m| 120/120 [00:00<00:00, 366.51batch/s, loss=0.000470]\u001b[0m\n"
     ]
    },
    {
     "name": "stdout",
     "output_type": "stream",
     "text": [
      "\t Loss: 0.057,\tTrain : 100.00%(100.00%),\tTest : 98.22%(98.24%),\tCurrent Time: 20250721-113205\n"
     ]
    },
    {
     "name": "stderr",
     "output_type": "stream",
     "text": [
      "Epoch 32/50: 100%|\u001b[34m███████████████████\u001b[0m| 120/120 [00:00<00:00, 316.54batch/s, loss=0.000430]\u001b[0m\n"
     ]
    },
    {
     "name": "stdout",
     "output_type": "stream",
     "text": [
      "\t Loss: 0.051,\tTrain : 100.00%(100.00%),\tTest : 98.24%(98.24%),\tCurrent Time: 20250721-113205\n"
     ]
    },
    {
     "name": "stderr",
     "output_type": "stream",
     "text": [
      "Epoch 33/50: 100%|\u001b[34m███████████████████\u001b[0m| 120/120 [00:00<00:00, 317.41batch/s, loss=0.000398]\u001b[0m\n"
     ]
    },
    {
     "name": "stdout",
     "output_type": "stream",
     "text": [
      "\t Loss: 0.048,\tTrain : 100.00%(100.00%),\tTest : 98.18%(98.24%),\tCurrent Time: 20250721-113206\n"
     ]
    },
    {
     "name": "stderr",
     "output_type": "stream",
     "text": [
      "Epoch 34/50: 100%|\u001b[34m███████████████████\u001b[0m| 120/120 [00:00<00:00, 343.82batch/s, loss=0.000355]\u001b[0m\n"
     ]
    },
    {
     "name": "stdout",
     "output_type": "stream",
     "text": [
      "\t Loss: 0.043,\tTrain : 100.00%(100.00%),\tTest : 98.19%(98.24%),\tCurrent Time: 20250721-113206\n"
     ]
    },
    {
     "name": "stderr",
     "output_type": "stream",
     "text": [
      "Epoch 35/50: 100%|\u001b[34m███████████████████\u001b[0m| 120/120 [00:00<00:00, 357.29batch/s, loss=0.000318]\u001b[0m\n"
     ]
    },
    {
     "name": "stdout",
     "output_type": "stream",
     "text": [
      "\t Loss: 0.039,\tTrain : 100.00%(100.00%),\tTest : 98.25%(98.25%),\tCurrent Time: 20250721-113206\n"
     ]
    },
    {
     "name": "stderr",
     "output_type": "stream",
     "text": [
      "Epoch 36/50: 100%|\u001b[34m███████████████████\u001b[0m| 120/120 [00:00<00:00, 349.69batch/s, loss=0.000298]\u001b[0m\n"
     ]
    },
    {
     "name": "stdout",
     "output_type": "stream",
     "text": [
      "\t Loss: 0.036,\tTrain : 100.00%(100.00%),\tTest : 98.24%(98.25%),\tCurrent Time: 20250721-113207\n"
     ]
    },
    {
     "name": "stderr",
     "output_type": "stream",
     "text": [
      "Epoch 37/50: 100%|\u001b[34m███████████████████\u001b[0m| 120/120 [00:00<00:00, 365.05batch/s, loss=0.000271]\u001b[0m\n"
     ]
    },
    {
     "name": "stdout",
     "output_type": "stream",
     "text": [
      "\t Loss: 0.032,\tTrain : 100.00%(100.00%),\tTest : 98.23%(98.25%),\tCurrent Time: 20250721-113207\n"
     ]
    },
    {
     "name": "stderr",
     "output_type": "stream",
     "text": [
      "Epoch 38/50: 100%|\u001b[34m███████████████████\u001b[0m| 120/120 [00:00<00:00, 351.10batch/s, loss=0.000244]\u001b[0m\n"
     ]
    },
    {
     "name": "stdout",
     "output_type": "stream",
     "text": [
      "\t Loss: 0.029,\tTrain : 100.00%(100.00%),\tTest : 98.28%(98.28%),\tCurrent Time: 20250721-113207\n"
     ]
    },
    {
     "name": "stderr",
     "output_type": "stream",
     "text": [
      "Epoch 39/50: 100%|\u001b[34m███████████████████\u001b[0m| 120/120 [00:00<00:00, 384.26batch/s, loss=0.000224]\u001b[0m\n"
     ]
    },
    {
     "name": "stdout",
     "output_type": "stream",
     "text": [
      "\t Loss: 0.028,\tTrain : 100.00%(100.00%),\tTest : 98.23%(98.28%),\tCurrent Time: 20250721-113208\n"
     ]
    },
    {
     "name": "stderr",
     "output_type": "stream",
     "text": [
      "Epoch 40/50: 100%|\u001b[34m███████████████████\u001b[0m| 120/120 [00:00<00:00, 386.31batch/s, loss=0.001055]\u001b[0m\n"
     ]
    },
    {
     "name": "stdout",
     "output_type": "stream",
     "text": [
      "\t Loss: 0.419,\tTrain : 99.90%(100.00%),\tTest : 95.58%(98.28%),\tCurrent Time: 20250721-113208\n"
     ]
    },
    {
     "name": "stderr",
     "output_type": "stream",
     "text": [
      "Epoch 41/50: 100%|\u001b[34m███████████████████\u001b[0m| 120/120 [00:00<00:00, 327.59batch/s, loss=0.067142]\u001b[0m\n"
     ]
    },
    {
     "name": "stdout",
     "output_type": "stream",
     "text": [
      "\t Loss: 7.742,\tTrain : 98.05%(100.00%),\tTest : 97.77%(98.28%),\tCurrent Time: 20250721-113208\n"
     ]
    },
    {
     "name": "stderr",
     "output_type": "stream",
     "text": [
      "Epoch 42/50: 100%|\u001b[34m███████████████████\u001b[0m| 120/120 [00:00<00:00, 352.40batch/s, loss=0.010379]\u001b[0m\n"
     ]
    },
    {
     "name": "stdout",
     "output_type": "stream",
     "text": [
      "\t Loss: 1.214,\tTrain : 99.68%(100.00%),\tTest : 98.15%(98.28%),\tCurrent Time: 20250721-113209\n"
     ]
    },
    {
     "name": "stderr",
     "output_type": "stream",
     "text": [
      "Epoch 43/50: 100%|\u001b[34m███████████████████\u001b[0m| 120/120 [00:00<00:00, 295.23batch/s, loss=0.002702]\u001b[0m\n"
     ]
    },
    {
     "name": "stdout",
     "output_type": "stream",
     "text": [
      "\t Loss: 0.317,\tTrain : 99.96%(100.00%),\tTest : 98.20%(98.28%),\tCurrent Time: 20250721-113209\n"
     ]
    },
    {
     "name": "stderr",
     "output_type": "stream",
     "text": [
      "Epoch 44/50: 100%|\u001b[34m███████████████████\u001b[0m| 120/120 [00:00<00:00, 320.45batch/s, loss=0.000811]\u001b[0m\n"
     ]
    },
    {
     "name": "stdout",
     "output_type": "stream",
     "text": [
      "\t Loss: 0.098,\tTrain : 100.00%(100.00%),\tTest : 98.24%(98.28%),\tCurrent Time: 20250721-113209\n"
     ]
    },
    {
     "name": "stderr",
     "output_type": "stream",
     "text": [
      "Epoch 45/50: 100%|\u001b[34m███████████████████\u001b[0m| 120/120 [00:00<00:00, 357.63batch/s, loss=0.000506]\u001b[0m\n"
     ]
    },
    {
     "name": "stdout",
     "output_type": "stream",
     "text": [
      "\t Loss: 0.061,\tTrain : 100.00%(100.00%),\tTest : 98.20%(98.28%),\tCurrent Time: 20250721-113210\n"
     ]
    },
    {
     "name": "stderr",
     "output_type": "stream",
     "text": [
      "Epoch 46/50: 100%|\u001b[34m███████████████████\u001b[0m| 120/120 [00:00<00:00, 348.95batch/s, loss=0.000416]\u001b[0m\n"
     ]
    },
    {
     "name": "stdout",
     "output_type": "stream",
     "text": [
      "\t Loss: 0.050,\tTrain : 100.00%(100.00%),\tTest : 98.21%(98.28%),\tCurrent Time: 20250721-113210\n"
     ]
    },
    {
     "name": "stderr",
     "output_type": "stream",
     "text": [
      "Epoch 47/50: 100%|\u001b[34m███████████████████\u001b[0m| 120/120 [00:00<00:00, 348.83batch/s, loss=0.000354]\u001b[0m\n"
     ]
    },
    {
     "name": "stdout",
     "output_type": "stream",
     "text": [
      "\t Loss: 0.043,\tTrain : 100.00%(100.00%),\tTest : 98.26%(98.28%),\tCurrent Time: 20250721-113211\n"
     ]
    },
    {
     "name": "stderr",
     "output_type": "stream",
     "text": [
      "Epoch 48/50: 100%|\u001b[34m███████████████████\u001b[0m| 120/120 [00:00<00:00, 339.43batch/s, loss=0.000318]\u001b[0m\n"
     ]
    },
    {
     "name": "stdout",
     "output_type": "stream",
     "text": [
      "\t Loss: 0.038,\tTrain : 100.00%(100.00%),\tTest : 98.23%(98.28%),\tCurrent Time: 20250721-113211\n"
     ]
    },
    {
     "name": "stderr",
     "output_type": "stream",
     "text": [
      "Epoch 49/50: 100%|\u001b[34m███████████████████\u001b[0m| 120/120 [00:00<00:00, 376.11batch/s, loss=0.000289]\u001b[0m\n"
     ]
    },
    {
     "name": "stdout",
     "output_type": "stream",
     "text": [
      "\t Loss: 0.034,\tTrain : 100.00%(100.00%),\tTest : 98.24%(98.28%),\tCurrent Time: 20250721-113211\n"
     ]
    },
    {
     "name": "stderr",
     "output_type": "stream",
     "text": [
      "Epoch 50/50: 100%|\u001b[34m███████████████████\u001b[0m| 120/120 [00:00<00:00, 350.50batch/s, loss=0.000258]\u001b[0m\n"
     ]
    },
    {
     "name": "stdout",
     "output_type": "stream",
     "text": [
      "\t Loss: 0.031,\tTrain : 100.00%(100.00%),\tTest : 98.24%(98.28%),\tCurrent Time: 20250721-113212\n",
      "BP_L2_MNIST_First_com_BP_FA_EP_512_t52-EP_b_scBP-EP_It2sta10- Time: 20250721-113212, Epochs: 50, Learning Rate: 0.001, Best: 100.00%  98.28%\n",
      "\n",
      "BP_L2_MNIST_First_com_BP_FA_EP_512_t52-EP_b_scBP-EP_It2sta10-\n"
     ]
    },
    {
     "name": "stderr",
     "output_type": "stream",
     "text": [
      "Epoch 1/50: 100%|\u001b[34m████████████████████\u001b[0m| 120/120 [00:00<00:00, 282.08batch/s, loss=0.375351]\u001b[0m\n"
     ]
    },
    {
     "name": "stdout",
     "output_type": "stream",
     "text": [
      "\t Loss: 43.771,\tTrain : 89.25%(89.25%),\tTest : 93.29%(93.29%),\tCurrent Time: 20250721-113212\n"
     ]
    },
    {
     "name": "stderr",
     "output_type": "stream",
     "text": [
      "Epoch 2/50: 100%|\u001b[34m████████████████████\u001b[0m| 120/120 [00:00<00:00, 389.15batch/s, loss=0.192352]\u001b[0m\n"
     ]
    },
    {
     "name": "stdout",
     "output_type": "stream",
     "text": [
      "\t Loss: 22.759,\tTrain : 94.41%(94.41%),\tTest : 95.18%(95.18%),\tCurrent Time: 20250721-113213\n"
     ]
    },
    {
     "name": "stderr",
     "output_type": "stream",
     "text": [
      "Epoch 3/50: 100%|\u001b[34m████████████████████\u001b[0m| 120/120 [00:00<00:00, 368.13batch/s, loss=0.132422]\u001b[0m\n"
     ]
    },
    {
     "name": "stdout",
     "output_type": "stream",
     "text": [
      "\t Loss: 15.779,\tTrain : 96.24%(96.24%),\tTest : 96.37%(96.37%),\tCurrent Time: 20250721-113213\n"
     ]
    },
    {
     "name": "stderr",
     "output_type": "stream",
     "text": [
      "Epoch 4/50: 100%|\u001b[34m████████████████████\u001b[0m| 120/120 [00:00<00:00, 304.71batch/s, loss=0.098935]\u001b[0m\n"
     ]
    },
    {
     "name": "stdout",
     "output_type": "stream",
     "text": [
      "\t Loss: 11.864,\tTrain : 97.11%(97.11%),\tTest : 96.83%(96.83%),\tCurrent Time: 20250721-113213\n"
     ]
    },
    {
     "name": "stderr",
     "output_type": "stream",
     "text": [
      "Epoch 5/50: 100%|\u001b[34m████████████████████\u001b[0m| 120/120 [00:00<00:00, 308.08batch/s, loss=0.077831]\u001b[0m\n"
     ]
    },
    {
     "name": "stdout",
     "output_type": "stream",
     "text": [
      "\t Loss: 9.282,\tTrain : 97.69%(97.69%),\tTest : 97.45%(97.45%),\tCurrent Time: 20250721-113214\n"
     ]
    },
    {
     "name": "stderr",
     "output_type": "stream",
     "text": [
      "Epoch 6/50: 100%|\u001b[34m████████████████████\u001b[0m| 120/120 [00:00<00:00, 278.01batch/s, loss=0.060731]\u001b[0m\n"
     ]
    },
    {
     "name": "stdout",
     "output_type": "stream",
     "text": [
      "\t Loss: 7.310,\tTrain : 98.22%(98.22%),\tTest : 97.51%(97.51%),\tCurrent Time: 20250721-113214\n"
     ]
    },
    {
     "name": "stderr",
     "output_type": "stream",
     "text": [
      "Epoch 7/50: 100%|\u001b[34m████████████████████\u001b[0m| 120/120 [00:00<00:00, 322.91batch/s, loss=0.049277]\u001b[0m\n"
     ]
    },
    {
     "name": "stdout",
     "output_type": "stream",
     "text": [
      "\t Loss: 5.930,\tTrain : 98.52%(98.52%),\tTest : 97.60%(97.60%),\tCurrent Time: 20250721-113215\n"
     ]
    },
    {
     "name": "stderr",
     "output_type": "stream",
     "text": [
      "Epoch 8/50: 100%|\u001b[34m████████████████████\u001b[0m| 120/120 [00:00<00:00, 333.70batch/s, loss=0.039952]\u001b[0m\n"
     ]
    },
    {
     "name": "stdout",
     "output_type": "stream",
     "text": [
      "\t Loss: 4.758,\tTrain : 98.84%(98.84%),\tTest : 97.64%(97.64%),\tCurrent Time: 20250721-113215\n"
     ]
    },
    {
     "name": "stderr",
     "output_type": "stream",
     "text": [
      "Epoch 9/50: 100%|\u001b[34m████████████████████\u001b[0m| 120/120 [00:00<00:00, 340.72batch/s, loss=0.031116]\u001b[0m\n"
     ]
    },
    {
     "name": "stdout",
     "output_type": "stream",
     "text": [
      "\t Loss: 3.810,\tTrain : 99.14%(99.14%),\tTest : 97.80%(97.80%),\tCurrent Time: 20250721-113215\n"
     ]
    },
    {
     "name": "stderr",
     "output_type": "stream",
     "text": [
      "Epoch 10/50: 100%|\u001b[34m███████████████████\u001b[0m| 120/120 [00:00<00:00, 374.67batch/s, loss=0.023543]\u001b[0m\n"
     ]
    },
    {
     "name": "stdout",
     "output_type": "stream",
     "text": [
      "\t Loss: 2.855,\tTrain : 99.41%(99.41%),\tTest : 97.86%(97.86%),\tCurrent Time: 20250721-113216\n"
     ]
    },
    {
     "name": "stderr",
     "output_type": "stream",
     "text": [
      "Epoch 11/50: 100%|\u001b[34m███████████████████\u001b[0m| 120/120 [00:00<00:00, 372.95batch/s, loss=0.019656]\u001b[0m\n"
     ]
    },
    {
     "name": "stdout",
     "output_type": "stream",
     "text": [
      "\t Loss: 2.371,\tTrain : 99.53%(99.53%),\tTest : 97.74%(97.86%),\tCurrent Time: 20250721-113216\n"
     ]
    },
    {
     "name": "stderr",
     "output_type": "stream",
     "text": [
      "Epoch 12/50: 100%|\u001b[34m███████████████████\u001b[0m| 120/120 [00:00<00:00, 352.11batch/s, loss=0.015330]\u001b[0m\n"
     ]
    },
    {
     "name": "stdout",
     "output_type": "stream",
     "text": [
      "\t Loss: 1.878,\tTrain : 99.67%(99.67%),\tTest : 97.59%(97.86%),\tCurrent Time: 20250721-113216\n"
     ]
    },
    {
     "name": "stderr",
     "output_type": "stream",
     "text": [
      "Epoch 13/50: 100%|\u001b[34m███████████████████\u001b[0m| 120/120 [00:00<00:00, 327.40batch/s, loss=0.013666]\u001b[0m\n"
     ]
    },
    {
     "name": "stdout",
     "output_type": "stream",
     "text": [
      "\t Loss: 1.661,\tTrain : 99.70%(99.70%),\tTest : 97.92%(97.92%),\tCurrent Time: 20250721-113217\n"
     ]
    },
    {
     "name": "stderr",
     "output_type": "stream",
     "text": [
      "Epoch 14/50: 100%|\u001b[34m███████████████████\u001b[0m| 120/120 [00:00<00:00, 398.79batch/s, loss=0.009941]\u001b[0m\n"
     ]
    },
    {
     "name": "stdout",
     "output_type": "stream",
     "text": [
      "\t Loss: 1.183,\tTrain : 99.86%(99.86%),\tTest : 97.99%(97.99%),\tCurrent Time: 20250721-113217\n"
     ]
    },
    {
     "name": "stderr",
     "output_type": "stream",
     "text": [
      "Epoch 15/50: 100%|\u001b[34m███████████████████\u001b[0m| 120/120 [00:00<00:00, 312.84batch/s, loss=0.006990]\u001b[0m\n"
     ]
    },
    {
     "name": "stdout",
     "output_type": "stream",
     "text": [
      "\t Loss: 0.852,\tTrain : 99.91%(99.91%),\tTest : 98.20%(98.20%),\tCurrent Time: 20250721-113217\n"
     ]
    },
    {
     "name": "stderr",
     "output_type": "stream",
     "text": [
      "Epoch 16/50: 100%|\u001b[34m███████████████████\u001b[0m| 120/120 [00:00<00:00, 313.02batch/s, loss=0.005601]\u001b[0m\n"
     ]
    },
    {
     "name": "stdout",
     "output_type": "stream",
     "text": [
      "\t Loss: 0.687,\tTrain : 99.94%(99.94%),\tTest : 98.10%(98.20%),\tCurrent Time: 20250721-113218\n"
     ]
    },
    {
     "name": "stderr",
     "output_type": "stream",
     "text": [
      "Epoch 17/50: 100%|\u001b[34m███████████████████\u001b[0m| 120/120 [00:00<00:00, 371.40batch/s, loss=0.004791]\u001b[0m\n"
     ]
    },
    {
     "name": "stdout",
     "output_type": "stream",
     "text": [
      "\t Loss: 0.595,\tTrain : 99.94%(99.94%),\tTest : 98.08%(98.20%),\tCurrent Time: 20250721-113218\n"
     ]
    },
    {
     "name": "stderr",
     "output_type": "stream",
     "text": [
      "Epoch 18/50: 100%|\u001b[34m███████████████████\u001b[0m| 120/120 [00:00<00:00, 349.61batch/s, loss=0.004055]\u001b[0m\n"
     ]
    },
    {
     "name": "stdout",
     "output_type": "stream",
     "text": [
      "\t Loss: 0.484,\tTrain : 99.97%(99.97%),\tTest : 98.09%(98.20%),\tCurrent Time: 20250721-113219\n"
     ]
    },
    {
     "name": "stderr",
     "output_type": "stream",
     "text": [
      "Epoch 19/50: 100%|\u001b[34m███████████████████\u001b[0m| 120/120 [00:00<00:00, 284.62batch/s, loss=0.002959]\u001b[0m\n"
     ]
    },
    {
     "name": "stdout",
     "output_type": "stream",
     "text": [
      "\t Loss: 0.352,\tTrain : 99.98%(99.98%),\tTest : 98.09%(98.20%),\tCurrent Time: 20250721-113219\n"
     ]
    },
    {
     "name": "stderr",
     "output_type": "stream",
     "text": [
      "Epoch 20/50: 100%|\u001b[34m███████████████████\u001b[0m| 120/120 [00:00<00:00, 317.65batch/s, loss=0.002452]\u001b[0m\n"
     ]
    },
    {
     "name": "stdout",
     "output_type": "stream",
     "text": [
      "\t Loss: 0.297,\tTrain : 99.99%(99.99%),\tTest : 98.14%(98.20%),\tCurrent Time: 20250721-113219\n"
     ]
    },
    {
     "name": "stderr",
     "output_type": "stream",
     "text": [
      "Epoch 21/50: 100%|\u001b[34m███████████████████\u001b[0m| 120/120 [00:00<00:00, 333.39batch/s, loss=0.001904]\u001b[0m\n"
     ]
    },
    {
     "name": "stdout",
     "output_type": "stream",
     "text": [
      "\t Loss: 0.234,\tTrain : 100.00%(100.00%),\tTest : 98.13%(98.20%),\tCurrent Time: 20250721-113220\n"
     ]
    },
    {
     "name": "stderr",
     "output_type": "stream",
     "text": [
      "Epoch 22/50: 100%|\u001b[34m███████████████████\u001b[0m| 120/120 [00:00<00:00, 312.59batch/s, loss=0.001726]\u001b[0m\n"
     ]
    },
    {
     "name": "stdout",
     "output_type": "stream",
     "text": [
      "\t Loss: 0.212,\tTrain : 100.00%(100.00%),\tTest : 98.17%(98.20%),\tCurrent Time: 20250721-113220\n"
     ]
    },
    {
     "name": "stderr",
     "output_type": "stream",
     "text": [
      "Epoch 23/50: 100%|\u001b[34m███████████████████\u001b[0m| 120/120 [00:00<00:00, 281.12batch/s, loss=0.001340]\u001b[0m\n"
     ]
    },
    {
     "name": "stdout",
     "output_type": "stream",
     "text": [
      "\t Loss: 0.160,\tTrain : 100.00%(100.00%),\tTest : 98.17%(98.20%),\tCurrent Time: 20250721-113221\n"
     ]
    },
    {
     "name": "stderr",
     "output_type": "stream",
     "text": [
      "Epoch 24/50: 100%|\u001b[34m███████████████████\u001b[0m| 120/120 [00:00<00:00, 365.09batch/s, loss=0.001077]\u001b[0m\n"
     ]
    },
    {
     "name": "stdout",
     "output_type": "stream",
     "text": [
      "\t Loss: 0.129,\tTrain : 100.00%(100.00%),\tTest : 98.21%(98.21%),\tCurrent Time: 20250721-113221\n"
     ]
    },
    {
     "name": "stderr",
     "output_type": "stream",
     "text": [
      "Epoch 25/50: 100%|\u001b[34m███████████████████\u001b[0m| 120/120 [00:00<00:00, 375.85batch/s, loss=0.000938]\u001b[0m\n"
     ]
    },
    {
     "name": "stdout",
     "output_type": "stream",
     "text": [
      "\t Loss: 0.115,\tTrain : 100.00%(100.00%),\tTest : 98.15%(98.21%),\tCurrent Time: 20250721-113221\n"
     ]
    },
    {
     "name": "stderr",
     "output_type": "stream",
     "text": [
      "Epoch 26/50: 100%|\u001b[34m███████████████████\u001b[0m| 120/120 [00:00<00:00, 294.85batch/s, loss=0.000858]\u001b[0m\n"
     ]
    },
    {
     "name": "stdout",
     "output_type": "stream",
     "text": [
      "\t Loss: 0.103,\tTrain : 100.00%(100.00%),\tTest : 98.22%(98.22%),\tCurrent Time: 20250721-113222\n"
     ]
    },
    {
     "name": "stderr",
     "output_type": "stream",
     "text": [
      "Epoch 27/50: 100%|\u001b[34m███████████████████\u001b[0m| 120/120 [00:00<00:00, 359.49batch/s, loss=0.000746]\u001b[0m\n"
     ]
    },
    {
     "name": "stdout",
     "output_type": "stream",
     "text": [
      "\t Loss: 0.089,\tTrain : 100.00%(100.00%),\tTest : 98.26%(98.26%),\tCurrent Time: 20250721-113222\n"
     ]
    },
    {
     "name": "stderr",
     "output_type": "stream",
     "text": [
      "Epoch 28/50: 100%|\u001b[34m███████████████████\u001b[0m| 120/120 [00:00<00:00, 371.50batch/s, loss=0.000674]\u001b[0m\n"
     ]
    },
    {
     "name": "stdout",
     "output_type": "stream",
     "text": [
      "\t Loss: 0.081,\tTrain : 100.00%(100.00%),\tTest : 98.16%(98.26%),\tCurrent Time: 20250721-113222\n"
     ]
    },
    {
     "name": "stderr",
     "output_type": "stream",
     "text": [
      "Epoch 29/50: 100%|\u001b[34m███████████████████\u001b[0m| 120/120 [00:00<00:00, 333.99batch/s, loss=0.000612]\u001b[0m\n"
     ]
    },
    {
     "name": "stdout",
     "output_type": "stream",
     "text": [
      "\t Loss: 0.073,\tTrain : 100.00%(100.00%),\tTest : 98.22%(98.26%),\tCurrent Time: 20250721-113223\n"
     ]
    },
    {
     "name": "stderr",
     "output_type": "stream",
     "text": [
      "Epoch 30/50: 100%|\u001b[34m███████████████████\u001b[0m| 120/120 [00:00<00:00, 308.54batch/s, loss=0.000550]\u001b[0m\n"
     ]
    },
    {
     "name": "stdout",
     "output_type": "stream",
     "text": [
      "\t Loss: 0.066,\tTrain : 100.00%(100.00%),\tTest : 98.24%(98.26%),\tCurrent Time: 20250721-113223\n"
     ]
    },
    {
     "name": "stderr",
     "output_type": "stream",
     "text": [
      "Epoch 31/50: 100%|\u001b[34m███████████████████\u001b[0m| 120/120 [00:00<00:00, 337.41batch/s, loss=0.000495]\u001b[0m\n"
     ]
    },
    {
     "name": "stdout",
     "output_type": "stream",
     "text": [
      "\t Loss: 0.061,\tTrain : 100.00%(100.00%),\tTest : 98.15%(98.26%),\tCurrent Time: 20250721-113223\n"
     ]
    },
    {
     "name": "stderr",
     "output_type": "stream",
     "text": [
      "Epoch 32/50: 100%|\u001b[34m███████████████████\u001b[0m| 120/120 [00:00<00:00, 342.64batch/s, loss=0.000448]\u001b[0m\n"
     ]
    },
    {
     "name": "stdout",
     "output_type": "stream",
     "text": [
      "\t Loss: 0.055,\tTrain : 100.00%(100.00%),\tTest : 98.19%(98.26%),\tCurrent Time: 20250721-113224\n"
     ]
    },
    {
     "name": "stderr",
     "output_type": "stream",
     "text": [
      "Epoch 33/50: 100%|\u001b[34m███████████████████\u001b[0m| 120/120 [00:00<00:00, 314.08batch/s, loss=0.000422]\u001b[0m\n"
     ]
    },
    {
     "name": "stdout",
     "output_type": "stream",
     "text": [
      "\t Loss: 0.051,\tTrain : 100.00%(100.00%),\tTest : 98.18%(98.26%),\tCurrent Time: 20250721-113224\n"
     ]
    },
    {
     "name": "stderr",
     "output_type": "stream",
     "text": [
      "Epoch 34/50: 100%|\u001b[34m███████████████████\u001b[0m| 120/120 [00:00<00:00, 372.11batch/s, loss=0.000367]\u001b[0m\n"
     ]
    },
    {
     "name": "stdout",
     "output_type": "stream",
     "text": [
      "\t Loss: 0.044,\tTrain : 100.00%(100.00%),\tTest : 98.17%(98.26%),\tCurrent Time: 20250721-113224\n"
     ]
    },
    {
     "name": "stderr",
     "output_type": "stream",
     "text": [
      "Epoch 35/50: 100%|\u001b[34m███████████████████\u001b[0m| 120/120 [00:00<00:00, 315.80batch/s, loss=0.000334]\u001b[0m\n"
     ]
    },
    {
     "name": "stdout",
     "output_type": "stream",
     "text": [
      "\t Loss: 0.040,\tTrain : 100.00%(100.00%),\tTest : 98.12%(98.26%),\tCurrent Time: 20250721-113225\n"
     ]
    },
    {
     "name": "stderr",
     "output_type": "stream",
     "text": [
      "Epoch 36/50: 100%|\u001b[34m███████████████████\u001b[0m| 120/120 [00:00<00:00, 399.95batch/s, loss=0.000304]\u001b[0m\n"
     ]
    },
    {
     "name": "stdout",
     "output_type": "stream",
     "text": [
      "\t Loss: 0.036,\tTrain : 100.00%(100.00%),\tTest : 98.17%(98.26%),\tCurrent Time: 20250721-113225\n"
     ]
    },
    {
     "name": "stderr",
     "output_type": "stream",
     "text": [
      "Epoch 37/50: 100%|\u001b[34m███████████████████\u001b[0m| 120/120 [00:00<00:00, 363.41batch/s, loss=0.000288]\u001b[0m\n"
     ]
    },
    {
     "name": "stdout",
     "output_type": "stream",
     "text": [
      "\t Loss: 0.035,\tTrain : 100.00%(100.00%),\tTest : 98.17%(98.26%),\tCurrent Time: 20250721-113226\n"
     ]
    },
    {
     "name": "stderr",
     "output_type": "stream",
     "text": [
      "Epoch 38/50: 100%|\u001b[34m███████████████████\u001b[0m| 120/120 [00:00<00:00, 383.87batch/s, loss=0.000273]\u001b[0m\n"
     ]
    },
    {
     "name": "stdout",
     "output_type": "stream",
     "text": [
      "\t Loss: 0.033,\tTrain : 100.00%(100.00%),\tTest : 98.22%(98.26%),\tCurrent Time: 20250721-113226\n"
     ]
    },
    {
     "name": "stderr",
     "output_type": "stream",
     "text": [
      "Epoch 39/50: 100%|\u001b[34m███████████████████\u001b[0m| 120/120 [00:00<00:00, 295.30batch/s, loss=0.000244]\u001b[0m\n"
     ]
    },
    {
     "name": "stdout",
     "output_type": "stream",
     "text": [
      "\t Loss: 0.029,\tTrain : 100.00%(100.00%),\tTest : 98.20%(98.26%),\tCurrent Time: 20250721-113226\n"
     ]
    },
    {
     "name": "stderr",
     "output_type": "stream",
     "text": [
      "Epoch 40/50: 100%|\u001b[34m███████████████████\u001b[0m| 120/120 [00:00<00:00, 343.04batch/s, loss=0.000215]\u001b[0m\n"
     ]
    },
    {
     "name": "stdout",
     "output_type": "stream",
     "text": [
      "\t Loss: 0.026,\tTrain : 100.00%(100.00%),\tTest : 98.22%(98.26%),\tCurrent Time: 20250721-113227\n"
     ]
    },
    {
     "name": "stderr",
     "output_type": "stream",
     "text": [
      "Epoch 41/50: 100%|\u001b[34m███████████████████\u001b[0m| 120/120 [00:00<00:00, 289.29batch/s, loss=0.000193]\u001b[0m\n"
     ]
    },
    {
     "name": "stdout",
     "output_type": "stream",
     "text": [
      "\t Loss: 0.023,\tTrain : 100.00%(100.00%),\tTest : 98.20%(98.26%),\tCurrent Time: 20250721-113227\n"
     ]
    },
    {
     "name": "stderr",
     "output_type": "stream",
     "text": [
      "Epoch 42/50: 100%|\u001b[34m███████████████████\u001b[0m| 120/120 [00:00<00:00, 283.95batch/s, loss=0.000181]\u001b[0m\n"
     ]
    },
    {
     "name": "stdout",
     "output_type": "stream",
     "text": [
      "\t Loss: 0.022,\tTrain : 100.00%(100.00%),\tTest : 98.15%(98.26%),\tCurrent Time: 20250721-113227\n"
     ]
    },
    {
     "name": "stderr",
     "output_type": "stream",
     "text": [
      "Epoch 43/50: 100%|\u001b[34m███████████████████\u001b[0m| 120/120 [00:00<00:00, 360.45batch/s, loss=0.000164]\u001b[0m\n"
     ]
    },
    {
     "name": "stdout",
     "output_type": "stream",
     "text": [
      "\t Loss: 0.020,\tTrain : 100.00%(100.00%),\tTest : 98.22%(98.26%),\tCurrent Time: 20250721-113228\n"
     ]
    },
    {
     "name": "stderr",
     "output_type": "stream",
     "text": [
      "Epoch 44/50: 100%|\u001b[34m███████████████████\u001b[0m| 120/120 [00:00<00:00, 378.29batch/s, loss=0.000158]\u001b[0m\n"
     ]
    },
    {
     "name": "stdout",
     "output_type": "stream",
     "text": [
      "\t Loss: 0.019,\tTrain : 100.00%(100.00%),\tTest : 98.20%(98.26%),\tCurrent Time: 20250721-113228\n"
     ]
    },
    {
     "name": "stderr",
     "output_type": "stream",
     "text": [
      "Epoch 45/50: 100%|\u001b[34m███████████████████\u001b[0m| 120/120 [00:00<00:00, 365.11batch/s, loss=0.000153]\u001b[0m\n"
     ]
    },
    {
     "name": "stdout",
     "output_type": "stream",
     "text": [
      "\t Loss: 0.055,\tTrain : 99.99%(100.00%),\tTest : 97.67%(98.26%),\tCurrent Time: 20250721-113228\n"
     ]
    },
    {
     "name": "stderr",
     "output_type": "stream",
     "text": [
      "Epoch 46/50: 100%|\u001b[34m███████████████████\u001b[0m| 120/120 [00:00<00:00, 378.16batch/s, loss=0.064315]\u001b[0m\n"
     ]
    },
    {
     "name": "stdout",
     "output_type": "stream",
     "text": [
      "\t Loss: 7.477,\tTrain : 98.12%(100.00%),\tTest : 97.67%(98.26%),\tCurrent Time: 20250721-113229\n"
     ]
    },
    {
     "name": "stderr",
     "output_type": "stream",
     "text": [
      "Epoch 47/50: 100%|\u001b[34m███████████████████\u001b[0m| 120/120 [00:00<00:00, 384.40batch/s, loss=0.012154]\u001b[0m\n"
     ]
    },
    {
     "name": "stdout",
     "output_type": "stream",
     "text": [
      "\t Loss: 1.437,\tTrain : 99.62%(100.00%),\tTest : 97.91%(98.26%),\tCurrent Time: 20250721-113229\n"
     ]
    },
    {
     "name": "stderr",
     "output_type": "stream",
     "text": [
      "Epoch 48/50: 100%|\u001b[34m███████████████████\u001b[0m| 120/120 [00:00<00:00, 346.32batch/s, loss=0.002809]\u001b[0m\n"
     ]
    },
    {
     "name": "stdout",
     "output_type": "stream",
     "text": [
      "\t Loss: 0.328,\tTrain : 99.96%(100.00%),\tTest : 98.11%(98.26%),\tCurrent Time: 20250721-113229\n"
     ]
    },
    {
     "name": "stderr",
     "output_type": "stream",
     "text": [
      "Epoch 49/50: 100%|\u001b[34m███████████████████\u001b[0m| 120/120 [00:00<00:00, 339.43batch/s, loss=0.000729]\u001b[0m\n"
     ]
    },
    {
     "name": "stdout",
     "output_type": "stream",
     "text": [
      "\t Loss: 0.087,\tTrain : 100.00%(100.00%),\tTest : 98.19%(98.26%),\tCurrent Time: 20250721-113230\n"
     ]
    },
    {
     "name": "stderr",
     "output_type": "stream",
     "text": [
      "Epoch 50/50: 100%|\u001b[34m███████████████████\u001b[0m| 120/120 [00:00<00:00, 348.97batch/s, loss=0.000446]\u001b[0m\n"
     ]
    },
    {
     "name": "stdout",
     "output_type": "stream",
     "text": [
      "\t Loss: 0.053,\tTrain : 100.00%(100.00%),\tTest : 98.24%(98.26%),\tCurrent Time: 20250721-113230\n",
      "BP_L2_MNIST_First_com_BP_FA_EP_512_t52-EP_b_scBP-EP_It2sta10- Time: 20250721-113230, Epochs: 50, Learning Rate: 0.001, Best: 100.00%  98.26%\n",
      "\n",
      "BP_L2_MNIST_First_com_BP_FA_EP_512_t52-EP_b_scBP-EP_It2sta10-\n"
     ]
    },
    {
     "name": "stderr",
     "output_type": "stream",
     "text": [
      "Epoch 1/50: 100%|\u001b[34m████████████████████\u001b[0m| 120/120 [00:00<00:00, 339.07batch/s, loss=0.374502]\u001b[0m\n"
     ]
    },
    {
     "name": "stdout",
     "output_type": "stream",
     "text": [
      "\t Loss: 44.012,\tTrain : 89.13%(89.13%),\tTest : 93.51%(93.51%),\tCurrent Time: 20250721-113231\n"
     ]
    },
    {
     "name": "stderr",
     "output_type": "stream",
     "text": [
      "Epoch 2/50: 100%|\u001b[34m████████████████████\u001b[0m| 120/120 [00:00<00:00, 362.14batch/s, loss=0.193564]\u001b[0m\n"
     ]
    },
    {
     "name": "stdout",
     "output_type": "stream",
     "text": [
      "\t Loss: 22.999,\tTrain : 94.38%(94.38%),\tTest : 95.43%(95.43%),\tCurrent Time: 20250721-113231\n"
     ]
    },
    {
     "name": "stderr",
     "output_type": "stream",
     "text": [
      "Epoch 3/50: 100%|\u001b[34m████████████████████\u001b[0m| 120/120 [00:00<00:00, 345.88batch/s, loss=0.133810]\u001b[0m\n"
     ]
    },
    {
     "name": "stdout",
     "output_type": "stream",
     "text": [
      "\t Loss: 15.994,\tTrain : 96.10%(96.10%),\tTest : 96.62%(96.62%),\tCurrent Time: 20250721-113232\n"
     ]
    },
    {
     "name": "stderr",
     "output_type": "stream",
     "text": [
      "Epoch 4/50: 100%|\u001b[34m████████████████████\u001b[0m| 120/120 [00:00<00:00, 312.01batch/s, loss=0.100578]\u001b[0m\n"
     ]
    },
    {
     "name": "stdout",
     "output_type": "stream",
     "text": [
      "\t Loss: 11.984,\tTrain : 97.06%(97.06%),\tTest : 97.07%(97.07%),\tCurrent Time: 20250721-113232\n"
     ]
    },
    {
     "name": "stderr",
     "output_type": "stream",
     "text": [
      "Epoch 5/50: 100%|\u001b[34m████████████████████\u001b[0m| 120/120 [00:00<00:00, 332.92batch/s, loss=0.077899]\u001b[0m\n"
     ]
    },
    {
     "name": "stdout",
     "output_type": "stream",
     "text": [
      "\t Loss: 9.242,\tTrain : 97.70%(97.70%),\tTest : 97.43%(97.43%),\tCurrent Time: 20250721-113232\n"
     ]
    },
    {
     "name": "stderr",
     "output_type": "stream",
     "text": [
      "Epoch 6/50: 100%|\u001b[34m████████████████████\u001b[0m| 120/120 [00:00<00:00, 347.92batch/s, loss=0.061376]\u001b[0m\n"
     ]
    },
    {
     "name": "stdout",
     "output_type": "stream",
     "text": [
      "\t Loss: 7.282,\tTrain : 98.19%(98.19%),\tTest : 97.35%(97.43%),\tCurrent Time: 20250721-113233\n"
     ]
    },
    {
     "name": "stderr",
     "output_type": "stream",
     "text": [
      "Epoch 7/50: 100%|\u001b[34m████████████████████\u001b[0m| 120/120 [00:00<00:00, 322.42batch/s, loss=0.049156]\u001b[0m\n"
     ]
    },
    {
     "name": "stdout",
     "output_type": "stream",
     "text": [
      "\t Loss: 5.873,\tTrain : 98.56%(98.56%),\tTest : 97.61%(97.61%),\tCurrent Time: 20250721-113233\n"
     ]
    },
    {
     "name": "stderr",
     "output_type": "stream",
     "text": [
      "Epoch 8/50: 100%|\u001b[34m████████████████████\u001b[0m| 120/120 [00:00<00:00, 386.38batch/s, loss=0.038850]\u001b[0m\n"
     ]
    },
    {
     "name": "stdout",
     "output_type": "stream",
     "text": [
      "\t Loss: 4.709,\tTrain : 98.88%(98.88%),\tTest : 97.56%(97.61%),\tCurrent Time: 20250721-113233\n"
     ]
    },
    {
     "name": "stderr",
     "output_type": "stream",
     "text": [
      "Epoch 9/50: 100%|\u001b[34m████████████████████\u001b[0m| 120/120 [00:00<00:00, 379.26batch/s, loss=0.031892]\u001b[0m\n"
     ]
    },
    {
     "name": "stdout",
     "output_type": "stream",
     "text": [
      "\t Loss: 3.844,\tTrain : 99.13%(99.13%),\tTest : 97.99%(97.99%),\tCurrent Time: 20250721-113234\n"
     ]
    },
    {
     "name": "stderr",
     "output_type": "stream",
     "text": [
      "Epoch 10/50: 100%|\u001b[34m███████████████████\u001b[0m| 120/120 [00:00<00:00, 399.85batch/s, loss=0.024854]\u001b[0m\n"
     ]
    },
    {
     "name": "stdout",
     "output_type": "stream",
     "text": [
      "\t Loss: 3.058,\tTrain : 99.31%(99.31%),\tTest : 97.94%(97.99%),\tCurrent Time: 20250721-113234\n"
     ]
    },
    {
     "name": "stderr",
     "output_type": "stream",
     "text": [
      "Epoch 11/50: 100%|\u001b[34m███████████████████\u001b[0m| 120/120 [00:00<00:00, 299.50batch/s, loss=0.019566]\u001b[0m\n"
     ]
    },
    {
     "name": "stdout",
     "output_type": "stream",
     "text": [
      "\t Loss: 2.365,\tTrain : 99.55%(99.55%),\tTest : 97.97%(97.99%),\tCurrent Time: 20250721-113234\n"
     ]
    },
    {
     "name": "stderr",
     "output_type": "stream",
     "text": [
      "Epoch 12/50: 100%|\u001b[34m███████████████████\u001b[0m| 120/120 [00:00<00:00, 336.85batch/s, loss=0.016330]\u001b[0m\n"
     ]
    },
    {
     "name": "stdout",
     "output_type": "stream",
     "text": [
      "\t Loss: 1.993,\tTrain : 99.64%(99.64%),\tTest : 98.13%(98.13%),\tCurrent Time: 20250721-113235\n"
     ]
    },
    {
     "name": "stderr",
     "output_type": "stream",
     "text": [
      "Epoch 13/50: 100%|\u001b[34m███████████████████\u001b[0m| 120/120 [00:00<00:00, 364.69batch/s, loss=0.012261]\u001b[0m\n"
     ]
    },
    {
     "name": "stdout",
     "output_type": "stream",
     "text": [
      "\t Loss: 1.458,\tTrain : 99.78%(99.78%),\tTest : 98.08%(98.13%),\tCurrent Time: 20250721-113235\n"
     ]
    },
    {
     "name": "stderr",
     "output_type": "stream",
     "text": [
      "Epoch 14/50: 100%|\u001b[34m███████████████████\u001b[0m| 120/120 [00:00<00:00, 374.44batch/s, loss=0.010143]\u001b[0m\n"
     ]
    },
    {
     "name": "stdout",
     "output_type": "stream",
     "text": [
      "\t Loss: 1.205,\tTrain : 99.82%(99.82%),\tTest : 98.06%(98.13%),\tCurrent Time: 20250721-113236\n"
     ]
    },
    {
     "name": "stderr",
     "output_type": "stream",
     "text": [
      "Epoch 15/50: 100%|\u001b[34m███████████████████\u001b[0m| 120/120 [00:00<00:00, 379.19batch/s, loss=0.007445]\u001b[0m\n"
     ]
    },
    {
     "name": "stdout",
     "output_type": "stream",
     "text": [
      "\t Loss: 0.894,\tTrain : 99.90%(99.90%),\tTest : 98.20%(98.20%),\tCurrent Time: 20250721-113236\n"
     ]
    },
    {
     "name": "stderr",
     "output_type": "stream",
     "text": [
      "Epoch 16/50: 100%|\u001b[34m███████████████████\u001b[0m| 120/120 [00:00<00:00, 374.79batch/s, loss=0.006184]\u001b[0m\n"
     ]
    },
    {
     "name": "stdout",
     "output_type": "stream",
     "text": [
      "\t Loss: 0.746,\tTrain : 99.92%(99.92%),\tTest : 98.08%(98.20%),\tCurrent Time: 20250721-113236\n"
     ]
    },
    {
     "name": "stderr",
     "output_type": "stream",
     "text": [
      "Epoch 17/50: 100%|\u001b[34m███████████████████\u001b[0m| 120/120 [00:00<00:00, 334.33batch/s, loss=0.004929]\u001b[0m\n"
     ]
    },
    {
     "name": "stdout",
     "output_type": "stream",
     "text": [
      "\t Loss: 0.590,\tTrain : 99.95%(99.95%),\tTest : 98.17%(98.20%),\tCurrent Time: 20250721-113237\n"
     ]
    },
    {
     "name": "stderr",
     "output_type": "stream",
     "text": [
      "Epoch 18/50: 100%|\u001b[34m███████████████████\u001b[0m| 120/120 [00:00<00:00, 340.24batch/s, loss=0.004579]\u001b[0m\n"
     ]
    },
    {
     "name": "stdout",
     "output_type": "stream",
     "text": [
      "\t Loss: 0.551,\tTrain : 99.94%(99.95%),\tTest : 98.29%(98.29%),\tCurrent Time: 20250721-113237\n"
     ]
    },
    {
     "name": "stderr",
     "output_type": "stream",
     "text": [
      "Epoch 19/50: 100%|\u001b[34m███████████████████\u001b[0m| 120/120 [00:00<00:00, 360.77batch/s, loss=0.003595]\u001b[0m\n"
     ]
    },
    {
     "name": "stdout",
     "output_type": "stream",
     "text": [
      "\t Loss: 0.427,\tTrain : 99.96%(99.96%),\tTest : 98.17%(98.29%),\tCurrent Time: 20250721-113237\n"
     ]
    },
    {
     "name": "stderr",
     "output_type": "stream",
     "text": [
      "Epoch 20/50: 100%|\u001b[34m███████████████████\u001b[0m| 120/120 [00:00<00:00, 274.77batch/s, loss=0.002282]\u001b[0m\n"
     ]
    },
    {
     "name": "stdout",
     "output_type": "stream",
     "text": [
      "\t Loss: 0.276,\tTrain : 100.00%(100.00%),\tTest : 98.29%(98.29%),\tCurrent Time: 20250721-113238\n"
     ]
    },
    {
     "name": "stderr",
     "output_type": "stream",
     "text": [
      "Epoch 21/50: 100%|\u001b[34m███████████████████\u001b[0m| 120/120 [00:00<00:00, 384.33batch/s, loss=0.001886]\u001b[0m\n"
     ]
    },
    {
     "name": "stdout",
     "output_type": "stream",
     "text": [
      "\t Loss: 0.228,\tTrain : 100.00%(100.00%),\tTest : 98.33%(98.33%),\tCurrent Time: 20250721-113238\n"
     ]
    },
    {
     "name": "stderr",
     "output_type": "stream",
     "text": [
      "Epoch 22/50: 100%|\u001b[34m███████████████████\u001b[0m| 120/120 [00:00<00:00, 333.10batch/s, loss=0.001700]\u001b[0m\n"
     ]
    },
    {
     "name": "stdout",
     "output_type": "stream",
     "text": [
      "\t Loss: 0.205,\tTrain : 99.99%(100.00%),\tTest : 98.19%(98.33%),\tCurrent Time: 20250721-113238\n"
     ]
    },
    {
     "name": "stderr",
     "output_type": "stream",
     "text": [
      "Epoch 23/50: 100%|\u001b[34m███████████████████\u001b[0m| 120/120 [00:00<00:00, 392.19batch/s, loss=0.001397]\u001b[0m\n"
     ]
    },
    {
     "name": "stdout",
     "output_type": "stream",
     "text": [
      "\t Loss: 0.168,\tTrain : 100.00%(100.00%),\tTest : 98.17%(98.33%),\tCurrent Time: 20250721-113239\n"
     ]
    },
    {
     "name": "stderr",
     "output_type": "stream",
     "text": [
      "Epoch 24/50: 100%|\u001b[34m███████████████████\u001b[0m| 120/120 [00:00<00:00, 381.72batch/s, loss=0.001095]\u001b[0m\n"
     ]
    },
    {
     "name": "stdout",
     "output_type": "stream",
     "text": [
      "\t Loss: 0.133,\tTrain : 100.00%(100.00%),\tTest : 98.31%(98.33%),\tCurrent Time: 20250721-113239\n"
     ]
    },
    {
     "name": "stderr",
     "output_type": "stream",
     "text": [
      "Epoch 25/50: 100%|\u001b[34m███████████████████\u001b[0m| 120/120 [00:00<00:00, 314.32batch/s, loss=0.000961]\u001b[0m\n"
     ]
    },
    {
     "name": "stdout",
     "output_type": "stream",
     "text": [
      "\t Loss: 0.115,\tTrain : 100.00%(100.00%),\tTest : 98.28%(98.33%),\tCurrent Time: 20250721-113239\n"
     ]
    },
    {
     "name": "stderr",
     "output_type": "stream",
     "text": [
      "Epoch 26/50: 100%|\u001b[34m███████████████████\u001b[0m| 120/120 [00:00<00:00, 309.01batch/s, loss=0.000840]\u001b[0m\n"
     ]
    },
    {
     "name": "stdout",
     "output_type": "stream",
     "text": [
      "\t Loss: 0.101,\tTrain : 100.00%(100.00%),\tTest : 98.26%(98.33%),\tCurrent Time: 20250721-113240\n"
     ]
    },
    {
     "name": "stderr",
     "output_type": "stream",
     "text": [
      "Epoch 27/50: 100%|\u001b[34m███████████████████\u001b[0m| 120/120 [00:00<00:00, 377.75batch/s, loss=0.000745]\u001b[0m\n"
     ]
    },
    {
     "name": "stdout",
     "output_type": "stream",
     "text": [
      "\t Loss: 0.090,\tTrain : 100.00%(100.00%),\tTest : 98.32%(98.33%),\tCurrent Time: 20250721-113240\n"
     ]
    },
    {
     "name": "stderr",
     "output_type": "stream",
     "text": [
      "Epoch 28/50: 100%|\u001b[34m███████████████████\u001b[0m| 120/120 [00:00<00:00, 326.72batch/s, loss=0.000701]\u001b[0m\n"
     ]
    },
    {
     "name": "stdout",
     "output_type": "stream",
     "text": [
      "\t Loss: 0.084,\tTrain : 100.00%(100.00%),\tTest : 98.35%(98.35%),\tCurrent Time: 20250721-113241\n"
     ]
    },
    {
     "name": "stderr",
     "output_type": "stream",
     "text": [
      "Epoch 29/50: 100%|\u001b[34m███████████████████\u001b[0m| 120/120 [00:00<00:00, 390.24batch/s, loss=0.000612]\u001b[0m\n"
     ]
    },
    {
     "name": "stdout",
     "output_type": "stream",
     "text": [
      "\t Loss: 0.073,\tTrain : 100.00%(100.00%),\tTest : 98.31%(98.35%),\tCurrent Time: 20250721-113241\n"
     ]
    },
    {
     "name": "stderr",
     "output_type": "stream",
     "text": [
      "Epoch 30/50: 100%|\u001b[34m███████████████████\u001b[0m| 120/120 [00:00<00:00, 350.24batch/s, loss=0.000557]\u001b[0m\n"
     ]
    },
    {
     "name": "stdout",
     "output_type": "stream",
     "text": [
      "\t Loss: 0.067,\tTrain : 100.00%(100.00%),\tTest : 98.31%(98.35%),\tCurrent Time: 20250721-113241\n"
     ]
    },
    {
     "name": "stderr",
     "output_type": "stream",
     "text": [
      "Epoch 31/50: 100%|\u001b[34m███████████████████\u001b[0m| 120/120 [00:00<00:00, 365.72batch/s, loss=0.000520]\u001b[0m\n"
     ]
    },
    {
     "name": "stdout",
     "output_type": "stream",
     "text": [
      "\t Loss: 0.062,\tTrain : 100.00%(100.00%),\tTest : 98.30%(98.35%),\tCurrent Time: 20250721-113242\n"
     ]
    },
    {
     "name": "stderr",
     "output_type": "stream",
     "text": [
      "Epoch 32/50: 100%|\u001b[34m███████████████████\u001b[0m| 120/120 [00:00<00:00, 364.44batch/s, loss=0.000445]\u001b[0m\n"
     ]
    },
    {
     "name": "stdout",
     "output_type": "stream",
     "text": [
      "\t Loss: 0.054,\tTrain : 100.00%(100.00%),\tTest : 98.30%(98.35%),\tCurrent Time: 20250721-113242\n"
     ]
    },
    {
     "name": "stderr",
     "output_type": "stream",
     "text": [
      "Epoch 33/50: 100%|\u001b[34m███████████████████\u001b[0m| 120/120 [00:00<00:00, 314.12batch/s, loss=0.000411]\u001b[0m\n"
     ]
    },
    {
     "name": "stdout",
     "output_type": "stream",
     "text": [
      "\t Loss: 0.049,\tTrain : 100.00%(100.00%),\tTest : 98.29%(98.35%),\tCurrent Time: 20250721-113242\n"
     ]
    },
    {
     "name": "stderr",
     "output_type": "stream",
     "text": [
      "Epoch 34/50: 100%|\u001b[34m███████████████████\u001b[0m| 120/120 [00:00<00:00, 294.96batch/s, loss=0.000367]\u001b[0m\n"
     ]
    },
    {
     "name": "stdout",
     "output_type": "stream",
     "text": [
      "\t Loss: 0.044,\tTrain : 100.00%(100.00%),\tTest : 98.31%(98.35%),\tCurrent Time: 20250721-113243\n"
     ]
    },
    {
     "name": "stderr",
     "output_type": "stream",
     "text": [
      "Epoch 35/50: 100%|\u001b[34m███████████████████\u001b[0m| 120/120 [00:00<00:00, 349.13batch/s, loss=0.000334]\u001b[0m\n"
     ]
    },
    {
     "name": "stdout",
     "output_type": "stream",
     "text": [
      "\t Loss: 0.040,\tTrain : 100.00%(100.00%),\tTest : 98.33%(98.35%),\tCurrent Time: 20250721-113243\n"
     ]
    },
    {
     "name": "stderr",
     "output_type": "stream",
     "text": [
      "Epoch 36/50: 100%|\u001b[34m███████████████████\u001b[0m| 120/120 [00:00<00:00, 348.38batch/s, loss=0.000308]\u001b[0m\n"
     ]
    },
    {
     "name": "stdout",
     "output_type": "stream",
     "text": [
      "\t Loss: 0.037,\tTrain : 100.00%(100.00%),\tTest : 98.30%(98.35%),\tCurrent Time: 20250721-113243\n"
     ]
    },
    {
     "name": "stderr",
     "output_type": "stream",
     "text": [
      "Epoch 37/50: 100%|\u001b[34m███████████████████\u001b[0m| 120/120 [00:00<00:00, 339.38batch/s, loss=0.000281]\u001b[0m\n"
     ]
    },
    {
     "name": "stdout",
     "output_type": "stream",
     "text": [
      "\t Loss: 0.034,\tTrain : 100.00%(100.00%),\tTest : 98.31%(98.35%),\tCurrent Time: 20250721-113244\n"
     ]
    },
    {
     "name": "stderr",
     "output_type": "stream",
     "text": [
      "Epoch 38/50: 100%|\u001b[34m███████████████████\u001b[0m| 120/120 [00:00<00:00, 342.54batch/s, loss=0.000255]\u001b[0m\n"
     ]
    },
    {
     "name": "stdout",
     "output_type": "stream",
     "text": [
      "\t Loss: 0.031,\tTrain : 100.00%(100.00%),\tTest : 98.33%(98.35%),\tCurrent Time: 20250721-113244\n"
     ]
    },
    {
     "name": "stderr",
     "output_type": "stream",
     "text": [
      "Epoch 39/50: 100%|\u001b[34m███████████████████\u001b[0m| 120/120 [00:00<00:00, 326.61batch/s, loss=0.000237]\u001b[0m\n"
     ]
    },
    {
     "name": "stdout",
     "output_type": "stream",
     "text": [
      "\t Loss: 0.028,\tTrain : 100.00%(100.00%),\tTest : 98.30%(98.35%),\tCurrent Time: 20250721-113245\n"
     ]
    },
    {
     "name": "stderr",
     "output_type": "stream",
     "text": [
      "Epoch 40/50: 100%|\u001b[34m███████████████████\u001b[0m| 120/120 [00:00<00:00, 322.43batch/s, loss=0.000218]\u001b[0m\n"
     ]
    },
    {
     "name": "stdout",
     "output_type": "stream",
     "text": [
      "\t Loss: 0.026,\tTrain : 100.00%(100.00%),\tTest : 98.30%(98.35%),\tCurrent Time: 20250721-113245\n"
     ]
    },
    {
     "name": "stderr",
     "output_type": "stream",
     "text": [
      "Epoch 41/50: 100%|\u001b[34m███████████████████\u001b[0m| 120/120 [00:00<00:00, 328.14batch/s, loss=0.000201]\u001b[0m\n"
     ]
    },
    {
     "name": "stdout",
     "output_type": "stream",
     "text": [
      "\t Loss: 0.024,\tTrain : 100.00%(100.00%),\tTest : 98.29%(98.35%),\tCurrent Time: 20250721-113245\n"
     ]
    },
    {
     "name": "stderr",
     "output_type": "stream",
     "text": [
      "Epoch 42/50: 100%|\u001b[34m███████████████████\u001b[0m| 120/120 [00:00<00:00, 272.45batch/s, loss=0.000186]\u001b[0m\n"
     ]
    },
    {
     "name": "stdout",
     "output_type": "stream",
     "text": [
      "\t Loss: 0.022,\tTrain : 100.00%(100.00%),\tTest : 98.36%(98.36%),\tCurrent Time: 20250721-113246\n"
     ]
    },
    {
     "name": "stderr",
     "output_type": "stream",
     "text": [
      "Epoch 43/50: 100%|\u001b[34m███████████████████\u001b[0m| 120/120 [00:00<00:00, 349.50batch/s, loss=0.000168]\u001b[0m\n"
     ]
    },
    {
     "name": "stdout",
     "output_type": "stream",
     "text": [
      "\t Loss: 0.021,\tTrain : 100.00%(100.00%),\tTest : 98.31%(98.36%),\tCurrent Time: 20250721-113246\n"
     ]
    },
    {
     "name": "stderr",
     "output_type": "stream",
     "text": [
      "Epoch 44/50: 100%|\u001b[34m███████████████████\u001b[0m| 120/120 [00:00<00:00, 318.48batch/s, loss=0.000158]\u001b[0m\n"
     ]
    },
    {
     "name": "stdout",
     "output_type": "stream",
     "text": [
      "\t Loss: 0.019,\tTrain : 100.00%(100.00%),\tTest : 98.30%(98.36%),\tCurrent Time: 20250721-113246\n"
     ]
    },
    {
     "name": "stderr",
     "output_type": "stream",
     "text": [
      "Epoch 45/50: 100%|\u001b[34m███████████████████\u001b[0m| 120/120 [00:00<00:00, 345.02batch/s, loss=0.000146]\u001b[0m\n"
     ]
    },
    {
     "name": "stdout",
     "output_type": "stream",
     "text": [
      "\t Loss: 0.018,\tTrain : 100.00%(100.00%),\tTest : 98.31%(98.36%),\tCurrent Time: 20250721-113247\n"
     ]
    },
    {
     "name": "stderr",
     "output_type": "stream",
     "text": [
      "Epoch 46/50: 100%|\u001b[34m███████████████████\u001b[0m| 120/120 [00:00<00:00, 365.46batch/s, loss=0.000132]\u001b[0m\n"
     ]
    },
    {
     "name": "stdout",
     "output_type": "stream",
     "text": [
      "\t Loss: 0.016,\tTrain : 100.00%(100.00%),\tTest : 98.30%(98.36%),\tCurrent Time: 20250721-113247\n"
     ]
    },
    {
     "name": "stderr",
     "output_type": "stream",
     "text": [
      "Epoch 47/50: 100%|\u001b[34m███████████████████\u001b[0m| 120/120 [00:00<00:00, 311.38batch/s, loss=0.000122]\u001b[0m\n"
     ]
    },
    {
     "name": "stdout",
     "output_type": "stream",
     "text": [
      "\t Loss: 0.015,\tTrain : 100.00%(100.00%),\tTest : 98.37%(98.37%),\tCurrent Time: 20250721-113248\n"
     ]
    },
    {
     "name": "stderr",
     "output_type": "stream",
     "text": [
      "Epoch 48/50: 100%|\u001b[34m███████████████████\u001b[0m| 120/120 [00:00<00:00, 314.18batch/s, loss=0.000111]\u001b[0m\n"
     ]
    },
    {
     "name": "stdout",
     "output_type": "stream",
     "text": [
      "\t Loss: 0.013,\tTrain : 100.00%(100.00%),\tTest : 98.33%(98.37%),\tCurrent Time: 20250721-113248\n"
     ]
    },
    {
     "name": "stderr",
     "output_type": "stream",
     "text": [
      "Epoch 49/50: 100%|\u001b[34m███████████████████\u001b[0m| 120/120 [00:00<00:00, 346.65batch/s, loss=0.000105]\u001b[0m\n"
     ]
    },
    {
     "name": "stdout",
     "output_type": "stream",
     "text": [
      "\t Loss: 0.013,\tTrain : 100.00%(100.00%),\tTest : 98.34%(98.37%),\tCurrent Time: 20250721-113248\n"
     ]
    },
    {
     "name": "stderr",
     "output_type": "stream",
     "text": [
      "Epoch 50/50: 100%|\u001b[34m███████████████████\u001b[0m| 120/120 [00:00<00:00, 368.57batch/s, loss=0.000096]\u001b[0m\n"
     ]
    },
    {
     "name": "stdout",
     "output_type": "stream",
     "text": [
      "\t Loss: 0.012,\tTrain : 100.00%(100.00%),\tTest : 98.32%(98.37%),\tCurrent Time: 20250721-113249\n",
      "BP_L2_MNIST_First_com_BP_FA_EP_512_t52-EP_b_scBP-EP_It2sta10- Time: 20250721-113249, Epochs: 50, Learning Rate: 0.001, Best: 100.00%  98.37%\n",
      "\n",
      "BP_L2_MNIST_First_com_BP_FA_EP_512_t52-EP_b_scBP-EP_It2sta10-\n"
     ]
    },
    {
     "name": "stderr",
     "output_type": "stream",
     "text": [
      "Epoch 1/50: 100%|\u001b[34m████████████████████\u001b[0m| 120/120 [00:00<00:00, 324.59batch/s, loss=0.378233]\u001b[0m\n"
     ]
    },
    {
     "name": "stdout",
     "output_type": "stream",
     "text": [
      "\t Loss: 44.093,\tTrain : 89.17%(89.17%),\tTest : 92.97%(92.97%),\tCurrent Time: 20250721-113249\n"
     ]
    },
    {
     "name": "stderr",
     "output_type": "stream",
     "text": [
      "Epoch 2/50: 100%|\u001b[34m████████████████████\u001b[0m| 120/120 [00:00<00:00, 288.49batch/s, loss=0.192499]\u001b[0m\n"
     ]
    },
    {
     "name": "stdout",
     "output_type": "stream",
     "text": [
      "\t Loss: 22.827,\tTrain : 94.46%(94.46%),\tTest : 95.00%(95.00%),\tCurrent Time: 20250721-113250\n"
     ]
    },
    {
     "name": "stderr",
     "output_type": "stream",
     "text": [
      "Epoch 3/50: 100%|\u001b[34m████████████████████\u001b[0m| 120/120 [00:00<00:00, 340.25batch/s, loss=0.133472]\u001b[0m\n"
     ]
    },
    {
     "name": "stdout",
     "output_type": "stream",
     "text": [
      "\t Loss: 16.018,\tTrain : 96.04%(96.04%),\tTest : 95.96%(95.96%),\tCurrent Time: 20250721-113250\n"
     ]
    },
    {
     "name": "stderr",
     "output_type": "stream",
     "text": [
      "Epoch 4/50: 100%|\u001b[34m████████████████████\u001b[0m| 120/120 [00:00<00:00, 293.97batch/s, loss=0.099382]\u001b[0m\n"
     ]
    },
    {
     "name": "stdout",
     "output_type": "stream",
     "text": [
      "\t Loss: 11.771,\tTrain : 97.10%(97.10%),\tTest : 96.75%(96.75%),\tCurrent Time: 20250721-113251\n"
     ]
    },
    {
     "name": "stderr",
     "output_type": "stream",
     "text": [
      "Epoch 5/50: 100%|\u001b[34m████████████████████\u001b[0m| 120/120 [00:00<00:00, 336.80batch/s, loss=0.075935]\u001b[0m\n"
     ]
    },
    {
     "name": "stdout",
     "output_type": "stream",
     "text": [
      "\t Loss: 9.142,\tTrain : 97.74%(97.74%),\tTest : 96.84%(96.84%),\tCurrent Time: 20250721-113251\n"
     ]
    },
    {
     "name": "stderr",
     "output_type": "stream",
     "text": [
      "Epoch 6/50: 100%|\u001b[34m████████████████████\u001b[0m| 120/120 [00:00<00:00, 309.61batch/s, loss=0.060720]\u001b[0m\n"
     ]
    },
    {
     "name": "stdout",
     "output_type": "stream",
     "text": [
      "\t Loss: 7.368,\tTrain : 98.21%(98.21%),\tTest : 97.44%(97.44%),\tCurrent Time: 20250721-113251\n"
     ]
    },
    {
     "name": "stderr",
     "output_type": "stream",
     "text": [
      "Epoch 7/50: 100%|\u001b[34m████████████████████\u001b[0m| 120/120 [00:00<00:00, 384.18batch/s, loss=0.047517]\u001b[0m\n"
     ]
    },
    {
     "name": "stdout",
     "output_type": "stream",
     "text": [
      "\t Loss: 5.750,\tTrain : 98.60%(98.60%),\tTest : 97.61%(97.61%),\tCurrent Time: 20250721-113252\n"
     ]
    },
    {
     "name": "stderr",
     "output_type": "stream",
     "text": [
      "Epoch 8/50: 100%|\u001b[34m████████████████████\u001b[0m| 120/120 [00:00<00:00, 300.18batch/s, loss=0.038331]\u001b[0m\n"
     ]
    },
    {
     "name": "stdout",
     "output_type": "stream",
     "text": [
      "\t Loss: 4.568,\tTrain : 98.93%(98.93%),\tTest : 97.79%(97.79%),\tCurrent Time: 20250721-113252\n"
     ]
    },
    {
     "name": "stderr",
     "output_type": "stream",
     "text": [
      "Epoch 9/50: 100%|\u001b[34m████████████████████\u001b[0m| 120/120 [00:00<00:00, 312.51batch/s, loss=0.032041]\u001b[0m\n"
     ]
    },
    {
     "name": "stdout",
     "output_type": "stream",
     "text": [
      "\t Loss: 3.790,\tTrain : 99.11%(99.11%),\tTest : 97.87%(97.87%),\tCurrent Time: 20250721-113252\n"
     ]
    },
    {
     "name": "stderr",
     "output_type": "stream",
     "text": [
      "Epoch 10/50: 100%|\u001b[34m███████████████████\u001b[0m| 120/120 [00:00<00:00, 371.37batch/s, loss=0.025048]\u001b[0m\n"
     ]
    },
    {
     "name": "stdout",
     "output_type": "stream",
     "text": [
      "\t Loss: 3.092,\tTrain : 99.30%(99.30%),\tTest : 97.82%(97.87%),\tCurrent Time: 20250721-113253\n"
     ]
    },
    {
     "name": "stderr",
     "output_type": "stream",
     "text": [
      "Epoch 11/50: 100%|\u001b[34m███████████████████\u001b[0m| 120/120 [00:00<00:00, 305.45batch/s, loss=0.019049]\u001b[0m\n"
     ]
    },
    {
     "name": "stdout",
     "output_type": "stream",
     "text": [
      "\t Loss: 2.298,\tTrain : 99.59%(99.59%),\tTest : 97.99%(97.99%),\tCurrent Time: 20250721-113253\n"
     ]
    },
    {
     "name": "stderr",
     "output_type": "stream",
     "text": [
      "Epoch 12/50: 100%|\u001b[34m███████████████████\u001b[0m| 120/120 [00:00<00:00, 351.89batch/s, loss=0.016369]\u001b[0m\n"
     ]
    },
    {
     "name": "stdout",
     "output_type": "stream",
     "text": [
      "\t Loss: 1.976,\tTrain : 99.62%(99.62%),\tTest : 98.02%(98.02%),\tCurrent Time: 20250721-113254\n"
     ]
    },
    {
     "name": "stderr",
     "output_type": "stream",
     "text": [
      "Epoch 13/50: 100%|\u001b[34m███████████████████\u001b[0m| 120/120 [00:00<00:00, 340.42batch/s, loss=0.011736]\u001b[0m\n"
     ]
    },
    {
     "name": "stdout",
     "output_type": "stream",
     "text": [
      "\t Loss: 1.387,\tTrain : 99.80%(99.80%),\tTest : 98.13%(98.13%),\tCurrent Time: 20250721-113254\n"
     ]
    },
    {
     "name": "stderr",
     "output_type": "stream",
     "text": [
      "Epoch 14/50: 100%|\u001b[34m███████████████████\u001b[0m| 120/120 [00:00<00:00, 332.83batch/s, loss=0.009290]\u001b[0m\n"
     ]
    },
    {
     "name": "stdout",
     "output_type": "stream",
     "text": [
      "\t Loss: 1.156,\tTrain : 99.85%(99.85%),\tTest : 98.07%(98.13%),\tCurrent Time: 20250721-113254\n"
     ]
    },
    {
     "name": "stderr",
     "output_type": "stream",
     "text": [
      "Epoch 15/50: 100%|\u001b[34m███████████████████\u001b[0m| 120/120 [00:00<00:00, 379.64batch/s, loss=0.007377]\u001b[0m\n"
     ]
    },
    {
     "name": "stdout",
     "output_type": "stream",
     "text": [
      "\t Loss: 0.898,\tTrain : 99.91%(99.91%),\tTest : 98.01%(98.13%),\tCurrent Time: 20250721-113255\n"
     ]
    },
    {
     "name": "stderr",
     "output_type": "stream",
     "text": [
      "Epoch 16/50: 100%|\u001b[34m███████████████████\u001b[0m| 120/120 [00:00<00:00, 390.46batch/s, loss=0.005681]\u001b[0m\n"
     ]
    },
    {
     "name": "stdout",
     "output_type": "stream",
     "text": [
      "\t Loss: 0.696,\tTrain : 99.94%(99.94%),\tTest : 98.14%(98.14%),\tCurrent Time: 20250721-113255\n"
     ]
    },
    {
     "name": "stderr",
     "output_type": "stream",
     "text": [
      "Epoch 17/50: 100%|\u001b[34m███████████████████\u001b[0m| 120/120 [00:00<00:00, 326.77batch/s, loss=0.004636]\u001b[0m\n"
     ]
    },
    {
     "name": "stdout",
     "output_type": "stream",
     "text": [
      "\t Loss: 0.556,\tTrain : 99.97%(99.97%),\tTest : 98.13%(98.14%),\tCurrent Time: 20250721-113255\n"
     ]
    },
    {
     "name": "stderr",
     "output_type": "stream",
     "text": [
      "Epoch 18/50: 100%|\u001b[34m███████████████████\u001b[0m| 120/120 [00:00<00:00, 364.89batch/s, loss=0.003595]\u001b[0m\n"
     ]
    },
    {
     "name": "stdout",
     "output_type": "stream",
     "text": [
      "\t Loss: 0.439,\tTrain : 99.98%(99.98%),\tTest : 98.12%(98.14%),\tCurrent Time: 20250721-113256\n"
     ]
    },
    {
     "name": "stderr",
     "output_type": "stream",
     "text": [
      "Epoch 19/50: 100%|\u001b[34m███████████████████\u001b[0m| 120/120 [00:00<00:00, 362.51batch/s, loss=0.002769]\u001b[0m\n"
     ]
    },
    {
     "name": "stdout",
     "output_type": "stream",
     "text": [
      "\t Loss: 0.331,\tTrain : 99.99%(99.99%),\tTest : 98.19%(98.19%),\tCurrent Time: 20250721-113256\n"
     ]
    },
    {
     "name": "stderr",
     "output_type": "stream",
     "text": [
      "Epoch 20/50: 100%|\u001b[34m███████████████████\u001b[0m| 120/120 [00:00<00:00, 299.67batch/s, loss=0.002200]\u001b[0m\n"
     ]
    },
    {
     "name": "stdout",
     "output_type": "stream",
     "text": [
      "\t Loss: 0.266,\tTrain : 100.00%(100.00%),\tTest : 98.20%(98.20%),\tCurrent Time: 20250721-113256\n"
     ]
    },
    {
     "name": "stderr",
     "output_type": "stream",
     "text": [
      "Epoch 21/50: 100%|\u001b[34m███████████████████\u001b[0m| 120/120 [00:00<00:00, 364.23batch/s, loss=0.001879]\u001b[0m\n"
     ]
    },
    {
     "name": "stdout",
     "output_type": "stream",
     "text": [
      "\t Loss: 0.228,\tTrain : 100.00%(100.00%),\tTest : 98.17%(98.20%),\tCurrent Time: 20250721-113257\n"
     ]
    },
    {
     "name": "stderr",
     "output_type": "stream",
     "text": [
      "Epoch 22/50: 100%|\u001b[34m███████████████████\u001b[0m| 120/120 [00:00<00:00, 321.05batch/s, loss=0.001557]\u001b[0m\n"
     ]
    },
    {
     "name": "stdout",
     "output_type": "stream",
     "text": [
      "\t Loss: 0.186,\tTrain : 100.00%(100.00%),\tTest : 98.19%(98.20%),\tCurrent Time: 20250721-113257\n"
     ]
    },
    {
     "name": "stderr",
     "output_type": "stream",
     "text": [
      "Epoch 23/50: 100%|\u001b[34m███████████████████\u001b[0m| 120/120 [00:00<00:00, 344.79batch/s, loss=0.001433]\u001b[0m\n"
     ]
    },
    {
     "name": "stdout",
     "output_type": "stream",
     "text": [
      "\t Loss: 0.173,\tTrain : 100.00%(100.00%),\tTest : 98.23%(98.23%),\tCurrent Time: 20250721-113257\n"
     ]
    },
    {
     "name": "stderr",
     "output_type": "stream",
     "text": [
      "Epoch 24/50: 100%|\u001b[34m███████████████████\u001b[0m| 120/120 [00:00<00:00, 322.37batch/s, loss=0.001246]\u001b[0m\n"
     ]
    },
    {
     "name": "stdout",
     "output_type": "stream",
     "text": [
      "\t Loss: 0.154,\tTrain : 100.00%(100.00%),\tTest : 98.16%(98.23%),\tCurrent Time: 20250721-113258\n"
     ]
    },
    {
     "name": "stderr",
     "output_type": "stream",
     "text": [
      "Epoch 25/50: 100%|\u001b[34m███████████████████\u001b[0m| 120/120 [00:00<00:00, 327.43batch/s, loss=0.001126]\u001b[0m\n"
     ]
    },
    {
     "name": "stdout",
     "output_type": "stream",
     "text": [
      "\t Loss: 0.139,\tTrain : 100.00%(100.00%),\tTest : 98.19%(98.23%),\tCurrent Time: 20250721-113258\n"
     ]
    },
    {
     "name": "stderr",
     "output_type": "stream",
     "text": [
      "Epoch 26/50: 100%|\u001b[34m███████████████████\u001b[0m| 120/120 [00:00<00:00, 353.77batch/s, loss=0.001518]\u001b[0m\n"
     ]
    },
    {
     "name": "stdout",
     "output_type": "stream",
     "text": [
      "\t Loss: 0.184,\tTrain : 99.98%(100.00%),\tTest : 98.22%(98.23%),\tCurrent Time: 20250721-113259\n"
     ]
    },
    {
     "name": "stderr",
     "output_type": "stream",
     "text": [
      "Epoch 27/50: 100%|\u001b[34m███████████████████\u001b[0m| 120/120 [00:00<00:00, 335.91batch/s, loss=0.001080]\u001b[0m\n"
     ]
    },
    {
     "name": "stdout",
     "output_type": "stream",
     "text": [
      "\t Loss: 0.128,\tTrain : 99.99%(100.00%),\tTest : 98.15%(98.23%),\tCurrent Time: 20250721-113259\n"
     ]
    },
    {
     "name": "stderr",
     "output_type": "stream",
     "text": [
      "Epoch 28/50: 100%|\u001b[34m███████████████████\u001b[0m| 120/120 [00:00<00:00, 358.53batch/s, loss=0.000703]\u001b[0m\n"
     ]
    },
    {
     "name": "stdout",
     "output_type": "stream",
     "text": [
      "\t Loss: 0.084,\tTrain : 100.00%(100.00%),\tTest : 98.20%(98.23%),\tCurrent Time: 20250721-113259\n"
     ]
    },
    {
     "name": "stderr",
     "output_type": "stream",
     "text": [
      "Epoch 29/50: 100%|\u001b[34m███████████████████\u001b[0m| 120/120 [00:00<00:00, 316.49batch/s, loss=0.000615]\u001b[0m\n"
     ]
    },
    {
     "name": "stdout",
     "output_type": "stream",
     "text": [
      "\t Loss: 0.074,\tTrain : 100.00%(100.00%),\tTest : 98.24%(98.24%),\tCurrent Time: 20250721-113300\n"
     ]
    },
    {
     "name": "stderr",
     "output_type": "stream",
     "text": [
      "Epoch 30/50: 100%|\u001b[34m███████████████████\u001b[0m| 120/120 [00:00<00:00, 323.36batch/s, loss=0.000535]\u001b[0m\n"
     ]
    },
    {
     "name": "stdout",
     "output_type": "stream",
     "text": [
      "\t Loss: 0.064,\tTrain : 100.00%(100.00%),\tTest : 98.19%(98.24%),\tCurrent Time: 20250721-113300\n"
     ]
    },
    {
     "name": "stderr",
     "output_type": "stream",
     "text": [
      "Epoch 31/50: 100%|\u001b[34m███████████████████\u001b[0m| 120/120 [00:00<00:00, 265.98batch/s, loss=0.000469]\u001b[0m\n"
     ]
    },
    {
     "name": "stdout",
     "output_type": "stream",
     "text": [
      "\t Loss: 0.057,\tTrain : 100.00%(100.00%),\tTest : 98.22%(98.24%),\tCurrent Time: 20250721-113300\n"
     ]
    },
    {
     "name": "stderr",
     "output_type": "stream",
     "text": [
      "Epoch 32/50: 100%|\u001b[34m███████████████████\u001b[0m| 120/120 [00:00<00:00, 326.78batch/s, loss=0.000436]\u001b[0m\n"
     ]
    },
    {
     "name": "stdout",
     "output_type": "stream",
     "text": [
      "\t Loss: 0.052,\tTrain : 100.00%(100.00%),\tTest : 98.23%(98.24%),\tCurrent Time: 20250721-113301\n"
     ]
    },
    {
     "name": "stderr",
     "output_type": "stream",
     "text": [
      "Epoch 33/50: 100%|\u001b[34m███████████████████\u001b[0m| 120/120 [00:00<00:00, 311.24batch/s, loss=0.000385]\u001b[0m\n"
     ]
    },
    {
     "name": "stdout",
     "output_type": "stream",
     "text": [
      "\t Loss: 0.046,\tTrain : 100.00%(100.00%),\tTest : 98.19%(98.24%),\tCurrent Time: 20250721-113301\n"
     ]
    },
    {
     "name": "stderr",
     "output_type": "stream",
     "text": [
      "Epoch 34/50: 100%|\u001b[34m███████████████████\u001b[0m| 120/120 [00:00<00:00, 338.21batch/s, loss=0.000349]\u001b[0m\n"
     ]
    },
    {
     "name": "stdout",
     "output_type": "stream",
     "text": [
      "\t Loss: 0.042,\tTrain : 100.00%(100.00%),\tTest : 98.23%(98.24%),\tCurrent Time: 20250721-113302\n"
     ]
    },
    {
     "name": "stderr",
     "output_type": "stream",
     "text": [
      "Epoch 35/50: 100%|\u001b[34m███████████████████\u001b[0m| 120/120 [00:00<00:00, 321.10batch/s, loss=0.000322]\u001b[0m\n"
     ]
    },
    {
     "name": "stdout",
     "output_type": "stream",
     "text": [
      "\t Loss: 0.039,\tTrain : 100.00%(100.00%),\tTest : 98.21%(98.24%),\tCurrent Time: 20250721-113302\n"
     ]
    },
    {
     "name": "stderr",
     "output_type": "stream",
     "text": [
      "Epoch 36/50: 100%|\u001b[34m███████████████████\u001b[0m| 120/120 [00:00<00:00, 293.64batch/s, loss=0.000294]\u001b[0m\n"
     ]
    },
    {
     "name": "stdout",
     "output_type": "stream",
     "text": [
      "\t Loss: 0.035,\tTrain : 100.00%(100.00%),\tTest : 98.19%(98.24%),\tCurrent Time: 20250721-113302\n"
     ]
    },
    {
     "name": "stderr",
     "output_type": "stream",
     "text": [
      "Epoch 37/50: 100%|\u001b[34m███████████████████\u001b[0m| 120/120 [00:00<00:00, 347.22batch/s, loss=0.000269]\u001b[0m\n"
     ]
    },
    {
     "name": "stdout",
     "output_type": "stream",
     "text": [
      "\t Loss: 0.032,\tTrain : 100.00%(100.00%),\tTest : 98.22%(98.24%),\tCurrent Time: 20250721-113303\n"
     ]
    },
    {
     "name": "stderr",
     "output_type": "stream",
     "text": [
      "Epoch 38/50: 100%|\u001b[34m███████████████████\u001b[0m| 120/120 [00:00<00:00, 371.37batch/s, loss=0.000253]\u001b[0m\n"
     ]
    },
    {
     "name": "stdout",
     "output_type": "stream",
     "text": [
      "\t Loss: 0.030,\tTrain : 100.00%(100.00%),\tTest : 98.25%(98.25%),\tCurrent Time: 20250721-113303\n"
     ]
    },
    {
     "name": "stderr",
     "output_type": "stream",
     "text": [
      "Epoch 39/50: 100%|\u001b[34m███████████████████\u001b[0m| 120/120 [00:00<00:00, 323.46batch/s, loss=0.000229]\u001b[0m\n"
     ]
    },
    {
     "name": "stdout",
     "output_type": "stream",
     "text": [
      "\t Loss: 0.028,\tTrain : 100.00%(100.00%),\tTest : 98.26%(98.26%),\tCurrent Time: 20250721-113303\n"
     ]
    },
    {
     "name": "stderr",
     "output_type": "stream",
     "text": [
      "Epoch 40/50: 100%|\u001b[34m███████████████████\u001b[0m| 120/120 [00:00<00:00, 311.63batch/s, loss=0.000209]\u001b[0m\n"
     ]
    },
    {
     "name": "stdout",
     "output_type": "stream",
     "text": [
      "\t Loss: 0.025,\tTrain : 100.00%(100.00%),\tTest : 98.28%(98.28%),\tCurrent Time: 20250721-113304\n"
     ]
    },
    {
     "name": "stderr",
     "output_type": "stream",
     "text": [
      "Epoch 41/50: 100%|\u001b[34m███████████████████\u001b[0m| 120/120 [00:00<00:00, 334.42batch/s, loss=0.000191]\u001b[0m\n"
     ]
    },
    {
     "name": "stdout",
     "output_type": "stream",
     "text": [
      "\t Loss: 0.023,\tTrain : 100.00%(100.00%),\tTest : 98.29%(98.29%),\tCurrent Time: 20250721-113304\n"
     ]
    },
    {
     "name": "stderr",
     "output_type": "stream",
     "text": [
      "Epoch 42/50: 100%|\u001b[34m███████████████████\u001b[0m| 120/120 [00:00<00:00, 356.33batch/s, loss=0.000178]\u001b[0m\n"
     ]
    },
    {
     "name": "stdout",
     "output_type": "stream",
     "text": [
      "\t Loss: 0.021,\tTrain : 100.00%(100.00%),\tTest : 98.24%(98.29%),\tCurrent Time: 20250721-113305\n"
     ]
    },
    {
     "name": "stderr",
     "output_type": "stream",
     "text": [
      "Epoch 43/50: 100%|\u001b[34m███████████████████\u001b[0m| 120/120 [00:00<00:00, 298.82batch/s, loss=0.000164]\u001b[0m\n"
     ]
    },
    {
     "name": "stdout",
     "output_type": "stream",
     "text": [
      "\t Loss: 0.020,\tTrain : 100.00%(100.00%),\tTest : 98.24%(98.29%),\tCurrent Time: 20250721-113305\n"
     ]
    },
    {
     "name": "stderr",
     "output_type": "stream",
     "text": [
      "Epoch 44/50: 100%|\u001b[34m███████████████████\u001b[0m| 120/120 [00:00<00:00, 370.52batch/s, loss=0.000152]\u001b[0m\n"
     ]
    },
    {
     "name": "stdout",
     "output_type": "stream",
     "text": [
      "\t Loss: 0.018,\tTrain : 100.00%(100.00%),\tTest : 98.25%(98.29%),\tCurrent Time: 20250721-113305\n"
     ]
    },
    {
     "name": "stderr",
     "output_type": "stream",
     "text": [
      "Epoch 45/50: 100%|\u001b[34m███████████████████\u001b[0m| 120/120 [00:00<00:00, 373.47batch/s, loss=0.000139]\u001b[0m\n"
     ]
    },
    {
     "name": "stdout",
     "output_type": "stream",
     "text": [
      "\t Loss: 0.017,\tTrain : 100.00%(100.00%),\tTest : 98.26%(98.29%),\tCurrent Time: 20250721-113306\n"
     ]
    },
    {
     "name": "stderr",
     "output_type": "stream",
     "text": [
      "Epoch 46/50: 100%|\u001b[34m███████████████████\u001b[0m| 120/120 [00:00<00:00, 294.57batch/s, loss=0.000129]\u001b[0m\n"
     ]
    },
    {
     "name": "stdout",
     "output_type": "stream",
     "text": [
      "\t Loss: 0.015,\tTrain : 100.00%(100.00%),\tTest : 98.25%(98.29%),\tCurrent Time: 20250721-113306\n"
     ]
    },
    {
     "name": "stderr",
     "output_type": "stream",
     "text": [
      "Epoch 47/50: 100%|\u001b[34m███████████████████\u001b[0m| 120/120 [00:00<00:00, 369.38batch/s, loss=0.000119]\u001b[0m\n"
     ]
    },
    {
     "name": "stdout",
     "output_type": "stream",
     "text": [
      "\t Loss: 0.014,\tTrain : 100.00%(100.00%),\tTest : 98.29%(98.29%),\tCurrent Time: 20250721-113306\n"
     ]
    },
    {
     "name": "stderr",
     "output_type": "stream",
     "text": [
      "Epoch 48/50: 100%|\u001b[34m███████████████████\u001b[0m| 120/120 [00:00<00:00, 348.77batch/s, loss=0.000110]\u001b[0m\n"
     ]
    },
    {
     "name": "stdout",
     "output_type": "stream",
     "text": [
      "\t Loss: 0.013,\tTrain : 100.00%(100.00%),\tTest : 98.25%(98.29%),\tCurrent Time: 20250721-113307\n"
     ]
    },
    {
     "name": "stderr",
     "output_type": "stream",
     "text": [
      "Epoch 49/50: 100%|\u001b[34m███████████████████\u001b[0m| 120/120 [00:00<00:00, 301.30batch/s, loss=0.000105]\u001b[0m\n"
     ]
    },
    {
     "name": "stdout",
     "output_type": "stream",
     "text": [
      "\t Loss: 0.013,\tTrain : 100.00%(100.00%),\tTest : 98.23%(98.29%),\tCurrent Time: 20250721-113307\n"
     ]
    },
    {
     "name": "stderr",
     "output_type": "stream",
     "text": [
      "Epoch 50/50: 100%|\u001b[34m███████████████████\u001b[0m| 120/120 [00:00<00:00, 341.84batch/s, loss=0.000096]\u001b[0m\n"
     ]
    },
    {
     "name": "stdout",
     "output_type": "stream",
     "text": [
      "\t Loss: 0.012,\tTrain : 100.00%(100.00%),\tTest : 98.27%(98.29%),\tCurrent Time: 20250721-113308\n",
      "BP_L2_MNIST_First_com_BP_FA_EP_512_t52-EP_b_scBP-EP_It2sta10- Time: 20250721-113308, Epochs: 50, Learning Rate: 0.001, Best: 100.00%  98.29%\n",
      "\n",
      "BP_L2_MNIST_First_com_BP_FA_EP_512_t52-EP_b_scBP-EP_It2sta10-\n"
     ]
    },
    {
     "name": "stderr",
     "output_type": "stream",
     "text": [
      "Epoch 1/50: 100%|\u001b[34m████████████████████\u001b[0m| 120/120 [00:00<00:00, 364.38batch/s, loss=0.376774]\u001b[0m\n"
     ]
    },
    {
     "name": "stdout",
     "output_type": "stream",
     "text": [
      "\t Loss: 44.116,\tTrain : 89.00%(89.00%),\tTest : 93.23%(93.23%),\tCurrent Time: 20250721-113308\n"
     ]
    },
    {
     "name": "stderr",
     "output_type": "stream",
     "text": [
      "Epoch 2/50: 100%|\u001b[34m████████████████████\u001b[0m| 120/120 [00:00<00:00, 294.78batch/s, loss=0.191451]\u001b[0m\n"
     ]
    },
    {
     "name": "stdout",
     "output_type": "stream",
     "text": [
      "\t Loss: 22.848,\tTrain : 94.53%(94.53%),\tTest : 94.58%(94.58%),\tCurrent Time: 20250721-113309\n"
     ]
    },
    {
     "name": "stderr",
     "output_type": "stream",
     "text": [
      "Epoch 3/50: 100%|\u001b[34m████████████████████\u001b[0m| 120/120 [00:00<00:00, 343.95batch/s, loss=0.135896]\u001b[0m\n"
     ]
    },
    {
     "name": "stdout",
     "output_type": "stream",
     "text": [
      "\t Loss: 16.062,\tTrain : 96.06%(96.06%),\tTest : 96.48%(96.48%),\tCurrent Time: 20250721-113309\n"
     ]
    },
    {
     "name": "stderr",
     "output_type": "stream",
     "text": [
      "Epoch 4/50: 100%|\u001b[34m████████████████████\u001b[0m| 120/120 [00:00<00:00, 307.85batch/s, loss=0.097812]\u001b[0m\n"
     ]
    },
    {
     "name": "stdout",
     "output_type": "stream",
     "text": [
      "\t Loss: 11.766,\tTrain : 97.06%(97.06%),\tTest : 96.78%(96.78%),\tCurrent Time: 20250721-113309\n"
     ]
    },
    {
     "name": "stderr",
     "output_type": "stream",
     "text": [
      "Epoch 5/50: 100%|\u001b[34m████████████████████\u001b[0m| 120/120 [00:00<00:00, 349.71batch/s, loss=0.076413]\u001b[0m\n"
     ]
    },
    {
     "name": "stdout",
     "output_type": "stream",
     "text": [
      "\t Loss: 9.264,\tTrain : 97.66%(97.66%),\tTest : 97.31%(97.31%),\tCurrent Time: 20250721-113310\n"
     ]
    },
    {
     "name": "stderr",
     "output_type": "stream",
     "text": [
      "Epoch 6/50: 100%|\u001b[34m████████████████████\u001b[0m| 120/120 [00:00<00:00, 309.82batch/s, loss=0.061682]\u001b[0m\n"
     ]
    },
    {
     "name": "stdout",
     "output_type": "stream",
     "text": [
      "\t Loss: 7.318,\tTrain : 98.18%(98.18%),\tTest : 97.52%(97.52%),\tCurrent Time: 20250721-113310\n"
     ]
    },
    {
     "name": "stderr",
     "output_type": "stream",
     "text": [
      "Epoch 7/50: 100%|\u001b[34m████████████████████\u001b[0m| 120/120 [00:00<00:00, 352.36batch/s, loss=0.050175]\u001b[0m\n"
     ]
    },
    {
     "name": "stdout",
     "output_type": "stream",
     "text": [
      "\t Loss: 6.003,\tTrain : 98.50%(98.50%),\tTest : 97.62%(97.62%),\tCurrent Time: 20250721-113310\n"
     ]
    },
    {
     "name": "stderr",
     "output_type": "stream",
     "text": [
      "Epoch 8/50: 100%|\u001b[34m████████████████████\u001b[0m| 120/120 [00:00<00:00, 365.54batch/s, loss=0.038816]\u001b[0m\n"
     ]
    },
    {
     "name": "stdout",
     "output_type": "stream",
     "text": [
      "\t Loss: 4.667,\tTrain : 98.89%(98.89%),\tTest : 97.75%(97.75%),\tCurrent Time: 20250721-113311\n"
     ]
    },
    {
     "name": "stderr",
     "output_type": "stream",
     "text": [
      "Epoch 9/50: 100%|\u001b[34m████████████████████\u001b[0m| 120/120 [00:00<00:00, 344.58batch/s, loss=0.032215]\u001b[0m\n"
     ]
    },
    {
     "name": "stdout",
     "output_type": "stream",
     "text": [
      "\t Loss: 3.873,\tTrain : 99.10%(99.10%),\tTest : 98.00%(98.00%),\tCurrent Time: 20250721-113311\n"
     ]
    },
    {
     "name": "stderr",
     "output_type": "stream",
     "text": [
      "Epoch 10/50: 100%|\u001b[34m███████████████████\u001b[0m| 120/120 [00:00<00:00, 370.10batch/s, loss=0.025820]\u001b[0m\n"
     ]
    },
    {
     "name": "stdout",
     "output_type": "stream",
     "text": [
      "\t Loss: 3.065,\tTrain : 99.35%(99.35%),\tTest : 97.98%(98.00%),\tCurrent Time: 20250721-113311\n"
     ]
    },
    {
     "name": "stderr",
     "output_type": "stream",
     "text": [
      "Epoch 11/50: 100%|\u001b[34m███████████████████\u001b[0m| 120/120 [00:00<00:00, 279.78batch/s, loss=0.020266]\u001b[0m\n"
     ]
    },
    {
     "name": "stdout",
     "output_type": "stream",
     "text": [
      "\t Loss: 2.428,\tTrain : 99.52%(99.52%),\tTest : 98.00%(98.00%),\tCurrent Time: 20250721-113312\n"
     ]
    },
    {
     "name": "stderr",
     "output_type": "stream",
     "text": [
      "Epoch 12/50: 100%|\u001b[34m███████████████████\u001b[0m| 120/120 [00:00<00:00, 348.80batch/s, loss=0.016041]\u001b[0m\n"
     ]
    },
    {
     "name": "stdout",
     "output_type": "stream",
     "text": [
      "\t Loss: 1.966,\tTrain : 99.62%(99.62%),\tTest : 97.87%(98.00%),\tCurrent Time: 20250721-113312\n"
     ]
    },
    {
     "name": "stderr",
     "output_type": "stream",
     "text": [
      "Epoch 13/50: 100%|\u001b[34m███████████████████\u001b[0m| 120/120 [00:00<00:00, 367.26batch/s, loss=0.012576]\u001b[0m\n"
     ]
    },
    {
     "name": "stdout",
     "output_type": "stream",
     "text": [
      "\t Loss: 1.511,\tTrain : 99.73%(99.73%),\tTest : 97.95%(98.00%),\tCurrent Time: 20250721-113313\n"
     ]
    },
    {
     "name": "stderr",
     "output_type": "stream",
     "text": [
      "Epoch 14/50: 100%|\u001b[34m███████████████████\u001b[0m| 120/120 [00:00<00:00, 333.07batch/s, loss=0.010361]\u001b[0m\n"
     ]
    },
    {
     "name": "stdout",
     "output_type": "stream",
     "text": [
      "\t Loss: 1.239,\tTrain : 99.82%(99.82%),\tTest : 97.91%(98.00%),\tCurrent Time: 20250721-113313\n"
     ]
    },
    {
     "name": "stderr",
     "output_type": "stream",
     "text": [
      "Epoch 15/50: 100%|\u001b[34m███████████████████\u001b[0m| 120/120 [00:00<00:00, 302.33batch/s, loss=0.007689]\u001b[0m\n"
     ]
    },
    {
     "name": "stdout",
     "output_type": "stream",
     "text": [
      "\t Loss: 0.915,\tTrain : 99.89%(99.89%),\tTest : 98.01%(98.01%),\tCurrent Time: 20250721-113313\n"
     ]
    },
    {
     "name": "stderr",
     "output_type": "stream",
     "text": [
      "Epoch 16/50: 100%|\u001b[34m███████████████████\u001b[0m| 120/120 [00:00<00:00, 343.50batch/s, loss=0.005871]\u001b[0m\n"
     ]
    },
    {
     "name": "stdout",
     "output_type": "stream",
     "text": [
      "\t Loss: 0.717,\tTrain : 99.93%(99.93%),\tTest : 98.01%(98.01%),\tCurrent Time: 20250721-113314\n"
     ]
    },
    {
     "name": "stderr",
     "output_type": "stream",
     "text": [
      "Epoch 17/50: 100%|\u001b[34m███████████████████\u001b[0m| 120/120 [00:00<00:00, 344.40batch/s, loss=0.005063]\u001b[0m\n"
     ]
    },
    {
     "name": "stdout",
     "output_type": "stream",
     "text": [
      "\t Loss: 0.610,\tTrain : 99.95%(99.95%),\tTest : 98.14%(98.14%),\tCurrent Time: 20250721-113314\n"
     ]
    },
    {
     "name": "stderr",
     "output_type": "stream",
     "text": [
      "Epoch 18/50: 100%|\u001b[34m███████████████████\u001b[0m| 120/120 [00:00<00:00, 365.28batch/s, loss=0.004043]\u001b[0m\n"
     ]
    },
    {
     "name": "stdout",
     "output_type": "stream",
     "text": [
      "\t Loss: 0.487,\tTrain : 99.97%(99.97%),\tTest : 98.26%(98.26%),\tCurrent Time: 20250721-113314\n"
     ]
    },
    {
     "name": "stderr",
     "output_type": "stream",
     "text": [
      "Epoch 19/50: 100%|\u001b[34m███████████████████\u001b[0m| 120/120 [00:00<00:00, 328.27batch/s, loss=0.003002]\u001b[0m\n"
     ]
    },
    {
     "name": "stdout",
     "output_type": "stream",
     "text": [
      "\t Loss: 0.366,\tTrain : 99.98%(99.98%),\tTest : 98.07%(98.26%),\tCurrent Time: 20250721-113315\n"
     ]
    },
    {
     "name": "stderr",
     "output_type": "stream",
     "text": [
      "Epoch 20/50: 100%|\u001b[34m███████████████████\u001b[0m| 120/120 [00:00<00:00, 350.43batch/s, loss=0.002664]\u001b[0m\n"
     ]
    },
    {
     "name": "stdout",
     "output_type": "stream",
     "text": [
      "\t Loss: 0.315,\tTrain : 99.99%(99.99%),\tTest : 98.18%(98.26%),\tCurrent Time: 20250721-113315\n"
     ]
    },
    {
     "name": "stderr",
     "output_type": "stream",
     "text": [
      "Epoch 21/50: 100%|\u001b[34m███████████████████\u001b[0m| 120/120 [00:00<00:00, 356.20batch/s, loss=0.002199]\u001b[0m\n"
     ]
    },
    {
     "name": "stdout",
     "output_type": "stream",
     "text": [
      "\t Loss: 0.277,\tTrain : 99.98%(99.99%),\tTest : 98.03%(98.26%),\tCurrent Time: 20250721-113316\n"
     ]
    },
    {
     "name": "stderr",
     "output_type": "stream",
     "text": [
      "Epoch 22/50: 100%|\u001b[34m███████████████████\u001b[0m| 120/120 [00:00<00:00, 342.09batch/s, loss=0.002061]\u001b[0m\n"
     ]
    },
    {
     "name": "stdout",
     "output_type": "stream",
     "text": [
      "\t Loss: 0.248,\tTrain : 99.99%(99.99%),\tTest : 98.04%(98.26%),\tCurrent Time: 20250721-113316\n"
     ]
    },
    {
     "name": "stderr",
     "output_type": "stream",
     "text": [
      "Epoch 23/50: 100%|\u001b[34m███████████████████\u001b[0m| 120/120 [00:00<00:00, 326.47batch/s, loss=0.001460]\u001b[0m\n"
     ]
    },
    {
     "name": "stdout",
     "output_type": "stream",
     "text": [
      "\t Loss: 0.180,\tTrain : 100.00%(100.00%),\tTest : 98.13%(98.26%),\tCurrent Time: 20250721-113316\n"
     ]
    },
    {
     "name": "stderr",
     "output_type": "stream",
     "text": [
      "Epoch 24/50: 100%|\u001b[34m███████████████████\u001b[0m| 120/120 [00:00<00:00, 368.33batch/s, loss=0.001226]\u001b[0m\n"
     ]
    },
    {
     "name": "stdout",
     "output_type": "stream",
     "text": [
      "\t Loss: 0.148,\tTrain : 100.00%(100.00%),\tTest : 98.15%(98.26%),\tCurrent Time: 20250721-113317\n"
     ]
    },
    {
     "name": "stderr",
     "output_type": "stream",
     "text": [
      "Epoch 25/50: 100%|\u001b[34m███████████████████\u001b[0m| 120/120 [00:00<00:00, 315.47batch/s, loss=0.001005]\u001b[0m\n"
     ]
    },
    {
     "name": "stdout",
     "output_type": "stream",
     "text": [
      "\t Loss: 0.122,\tTrain : 100.00%(100.00%),\tTest : 98.15%(98.26%),\tCurrent Time: 20250721-113317\n"
     ]
    },
    {
     "name": "stderr",
     "output_type": "stream",
     "text": [
      "Epoch 26/50: 100%|\u001b[34m███████████████████\u001b[0m| 120/120 [00:00<00:00, 282.81batch/s, loss=0.000870]\u001b[0m\n"
     ]
    },
    {
     "name": "stdout",
     "output_type": "stream",
     "text": [
      "\t Loss: 0.104,\tTrain : 100.00%(100.00%),\tTest : 98.12%(98.26%),\tCurrent Time: 20250721-113317\n"
     ]
    },
    {
     "name": "stderr",
     "output_type": "stream",
     "text": [
      "Epoch 27/50: 100%|\u001b[34m███████████████████\u001b[0m| 120/120 [00:00<00:00, 325.99batch/s, loss=0.000762]\u001b[0m\n"
     ]
    },
    {
     "name": "stdout",
     "output_type": "stream",
     "text": [
      "\t Loss: 0.090,\tTrain : 100.00%(100.00%),\tTest : 98.15%(98.26%),\tCurrent Time: 20250721-113318\n"
     ]
    },
    {
     "name": "stderr",
     "output_type": "stream",
     "text": [
      "Epoch 28/50: 100%|\u001b[34m███████████████████\u001b[0m| 120/120 [00:00<00:00, 334.81batch/s, loss=0.000667]\u001b[0m\n"
     ]
    },
    {
     "name": "stdout",
     "output_type": "stream",
     "text": [
      "\t Loss: 0.080,\tTrain : 100.00%(100.00%),\tTest : 98.19%(98.26%),\tCurrent Time: 20250721-113318\n"
     ]
    },
    {
     "name": "stderr",
     "output_type": "stream",
     "text": [
      "Epoch 29/50: 100%|\u001b[34m███████████████████\u001b[0m| 120/120 [00:00<00:00, 291.84batch/s, loss=0.000615]\u001b[0m\n"
     ]
    },
    {
     "name": "stdout",
     "output_type": "stream",
     "text": [
      "\t Loss: 0.073,\tTrain : 100.00%(100.00%),\tTest : 98.16%(98.26%),\tCurrent Time: 20250721-113319\n"
     ]
    },
    {
     "name": "stderr",
     "output_type": "stream",
     "text": [
      "Epoch 30/50: 100%|\u001b[34m███████████████████\u001b[0m| 120/120 [00:00<00:00, 348.55batch/s, loss=0.000550]\u001b[0m\n"
     ]
    },
    {
     "name": "stdout",
     "output_type": "stream",
     "text": [
      "\t Loss: 0.066,\tTrain : 100.00%(100.00%),\tTest : 98.17%(98.26%),\tCurrent Time: 20250721-113319\n"
     ]
    },
    {
     "name": "stderr",
     "output_type": "stream",
     "text": [
      "Epoch 31/50: 100%|\u001b[34m███████████████████\u001b[0m| 120/120 [00:00<00:00, 296.75batch/s, loss=0.000513]\u001b[0m\n"
     ]
    },
    {
     "name": "stdout",
     "output_type": "stream",
     "text": [
      "\t Loss: 0.061,\tTrain : 100.00%(100.00%),\tTest : 98.18%(98.26%),\tCurrent Time: 20250721-113319\n"
     ]
    },
    {
     "name": "stderr",
     "output_type": "stream",
     "text": [
      "Epoch 32/50: 100%|\u001b[34m███████████████████\u001b[0m| 120/120 [00:00<00:00, 341.75batch/s, loss=0.000479]\u001b[0m\n"
     ]
    },
    {
     "name": "stdout",
     "output_type": "stream",
     "text": [
      "\t Loss: 0.058,\tTrain : 100.00%(100.00%),\tTest : 98.21%(98.26%),\tCurrent Time: 20250721-113320\n"
     ]
    },
    {
     "name": "stderr",
     "output_type": "stream",
     "text": [
      "Epoch 33/50: 100%|\u001b[34m███████████████████\u001b[0m| 120/120 [00:00<00:00, 301.53batch/s, loss=0.000410]\u001b[0m\n"
     ]
    },
    {
     "name": "stdout",
     "output_type": "stream",
     "text": [
      "\t Loss: 0.050,\tTrain : 100.00%(100.00%),\tTest : 98.13%(98.26%),\tCurrent Time: 20250721-113320\n"
     ]
    },
    {
     "name": "stderr",
     "output_type": "stream",
     "text": [
      "Epoch 34/50: 100%|\u001b[34m███████████████████\u001b[0m| 120/120 [00:00<00:00, 363.78batch/s, loss=0.000374]\u001b[0m\n"
     ]
    },
    {
     "name": "stdout",
     "output_type": "stream",
     "text": [
      "\t Loss: 0.045,\tTrain : 100.00%(100.00%),\tTest : 98.14%(98.26%),\tCurrent Time: 20250721-113320\n"
     ]
    },
    {
     "name": "stderr",
     "output_type": "stream",
     "text": [
      "Epoch 35/50: 100%|\u001b[34m███████████████████\u001b[0m| 120/120 [00:00<00:00, 342.10batch/s, loss=0.000339]\u001b[0m\n"
     ]
    },
    {
     "name": "stdout",
     "output_type": "stream",
     "text": [
      "\t Loss: 0.041,\tTrain : 100.00%(100.00%),\tTest : 98.13%(98.26%),\tCurrent Time: 20250721-113321\n"
     ]
    },
    {
     "name": "stderr",
     "output_type": "stream",
     "text": [
      "Epoch 36/50: 100%|\u001b[34m███████████████████\u001b[0m| 120/120 [00:00<00:00, 347.19batch/s, loss=0.000311]\u001b[0m\n"
     ]
    },
    {
     "name": "stdout",
     "output_type": "stream",
     "text": [
      "\t Loss: 0.037,\tTrain : 100.00%(100.00%),\tTest : 98.21%(98.26%),\tCurrent Time: 20250721-113321\n"
     ]
    },
    {
     "name": "stderr",
     "output_type": "stream",
     "text": [
      "Epoch 37/50: 100%|\u001b[34m███████████████████\u001b[0m| 120/120 [00:00<00:00, 326.59batch/s, loss=0.000285]\u001b[0m\n"
     ]
    },
    {
     "name": "stdout",
     "output_type": "stream",
     "text": [
      "\t Loss: 0.034,\tTrain : 100.00%(100.00%),\tTest : 98.16%(98.26%),\tCurrent Time: 20250721-113322\n"
     ]
    },
    {
     "name": "stderr",
     "output_type": "stream",
     "text": [
      "Epoch 38/50: 100%|\u001b[34m███████████████████\u001b[0m| 120/120 [00:00<00:00, 367.62batch/s, loss=0.000264]\u001b[0m\n"
     ]
    },
    {
     "name": "stdout",
     "output_type": "stream",
     "text": [
      "\t Loss: 0.032,\tTrain : 100.00%(100.00%),\tTest : 98.11%(98.26%),\tCurrent Time: 20250721-113322\n"
     ]
    },
    {
     "name": "stderr",
     "output_type": "stream",
     "text": [
      "Epoch 39/50: 100%|\u001b[34m███████████████████\u001b[0m| 120/120 [00:00<00:00, 374.18batch/s, loss=0.000239]\u001b[0m\n"
     ]
    },
    {
     "name": "stdout",
     "output_type": "stream",
     "text": [
      "\t Loss: 0.029,\tTrain : 100.00%(100.00%),\tTest : 98.17%(98.26%),\tCurrent Time: 20250721-113322\n"
     ]
    },
    {
     "name": "stderr",
     "output_type": "stream",
     "text": [
      "Epoch 40/50: 100%|\u001b[34m███████████████████\u001b[0m| 120/120 [00:00<00:00, 293.29batch/s, loss=0.000217]\u001b[0m\n"
     ]
    },
    {
     "name": "stdout",
     "output_type": "stream",
     "text": [
      "\t Loss: 0.026,\tTrain : 100.00%(100.00%),\tTest : 98.15%(98.26%),\tCurrent Time: 20250721-113323\n"
     ]
    },
    {
     "name": "stderr",
     "output_type": "stream",
     "text": [
      "Epoch 41/50: 100%|\u001b[34m███████████████████\u001b[0m| 120/120 [00:00<00:00, 330.74batch/s, loss=0.000206]\u001b[0m\n"
     ]
    },
    {
     "name": "stdout",
     "output_type": "stream",
     "text": [
      "\t Loss: 0.025,\tTrain : 100.00%(100.00%),\tTest : 98.16%(98.26%),\tCurrent Time: 20250721-113323\n"
     ]
    },
    {
     "name": "stderr",
     "output_type": "stream",
     "text": [
      "Epoch 42/50: 100%|\u001b[34m███████████████████\u001b[0m| 120/120 [00:00<00:00, 316.51batch/s, loss=0.000188]\u001b[0m\n"
     ]
    },
    {
     "name": "stdout",
     "output_type": "stream",
     "text": [
      "\t Loss: 0.022,\tTrain : 100.00%(100.00%),\tTest : 98.21%(98.26%),\tCurrent Time: 20250721-113323\n"
     ]
    },
    {
     "name": "stderr",
     "output_type": "stream",
     "text": [
      "Epoch 43/50: 100%|\u001b[34m███████████████████\u001b[0m| 120/120 [00:00<00:00, 370.72batch/s, loss=0.000172]\u001b[0m\n"
     ]
    },
    {
     "name": "stdout",
     "output_type": "stream",
     "text": [
      "\t Loss: 0.021,\tTrain : 100.00%(100.00%),\tTest : 98.15%(98.26%),\tCurrent Time: 20250721-113324\n"
     ]
    },
    {
     "name": "stderr",
     "output_type": "stream",
     "text": [
      "Epoch 44/50: 100%|\u001b[34m███████████████████\u001b[0m| 120/120 [00:00<00:00, 321.62batch/s, loss=0.000157]\u001b[0m\n"
     ]
    },
    {
     "name": "stdout",
     "output_type": "stream",
     "text": [
      "\t Loss: 0.019,\tTrain : 100.00%(100.00%),\tTest : 98.14%(98.26%),\tCurrent Time: 20250721-113324\n"
     ]
    },
    {
     "name": "stderr",
     "output_type": "stream",
     "text": [
      "Epoch 45/50: 100%|\u001b[34m███████████████████\u001b[0m| 120/120 [00:00<00:00, 328.66batch/s, loss=0.000142]\u001b[0m\n"
     ]
    },
    {
     "name": "stdout",
     "output_type": "stream",
     "text": [
      "\t Loss: 0.017,\tTrain : 100.00%(100.00%),\tTest : 98.19%(98.26%),\tCurrent Time: 20250721-113324\n"
     ]
    },
    {
     "name": "stderr",
     "output_type": "stream",
     "text": [
      "Epoch 46/50: 100%|\u001b[34m███████████████████\u001b[0m| 120/120 [00:00<00:00, 347.01batch/s, loss=0.000132]\u001b[0m\n"
     ]
    },
    {
     "name": "stdout",
     "output_type": "stream",
     "text": [
      "\t Loss: 0.016,\tTrain : 100.00%(100.00%),\tTest : 98.19%(98.26%),\tCurrent Time: 20250721-113325\n"
     ]
    },
    {
     "name": "stderr",
     "output_type": "stream",
     "text": [
      "Epoch 47/50: 100%|\u001b[34m███████████████████\u001b[0m| 120/120 [00:00<00:00, 383.44batch/s, loss=0.000123]\u001b[0m\n"
     ]
    },
    {
     "name": "stdout",
     "output_type": "stream",
     "text": [
      "\t Loss: 0.015,\tTrain : 100.00%(100.00%),\tTest : 98.15%(98.26%),\tCurrent Time: 20250721-113325\n"
     ]
    },
    {
     "name": "stderr",
     "output_type": "stream",
     "text": [
      "Epoch 48/50: 100%|\u001b[34m███████████████████\u001b[0m| 120/120 [00:00<00:00, 338.13batch/s, loss=0.000114]\u001b[0m\n"
     ]
    },
    {
     "name": "stdout",
     "output_type": "stream",
     "text": [
      "\t Loss: 0.014,\tTrain : 100.00%(100.00%),\tTest : 98.14%(98.26%),\tCurrent Time: 20250721-113326\n"
     ]
    },
    {
     "name": "stderr",
     "output_type": "stream",
     "text": [
      "Epoch 49/50: 100%|\u001b[34m███████████████████\u001b[0m| 120/120 [00:00<00:00, 373.99batch/s, loss=0.000105]\u001b[0m\n"
     ]
    },
    {
     "name": "stdout",
     "output_type": "stream",
     "text": [
      "\t Loss: 0.013,\tTrain : 100.00%(100.00%),\tTest : 98.15%(98.26%),\tCurrent Time: 20250721-113326\n"
     ]
    },
    {
     "name": "stderr",
     "output_type": "stream",
     "text": [
      "Epoch 50/50: 100%|\u001b[34m███████████████████\u001b[0m| 120/120 [00:00<00:00, 328.57batch/s, loss=0.057122]\u001b[0m"
     ]
    },
    {
     "name": "stdout",
     "output_type": "stream",
     "text": [
      "\t Loss: 6.860,\tTrain : 98.41%(100.00%),\tTest : 96.94%(98.26%),\tCurrent Time: 20250721-113326\n",
      "BP_L2_MNIST_First_com_BP_FA_EP_512_t52-EP_b_scBP-EP_It2sta10- Time: 20250721-113326, Epochs: 50, Learning Rate: 0.001, Best: 100.00%  98.26%\n",
      "\n"
     ]
    },
    {
     "name": "stderr",
     "output_type": "stream",
     "text": [
      "\n"
     ]
    }
   ],
   "source": [
    "current_time = time.strftime(\"%Y%m%d-%H%M%S\", time.localtime())\n",
    "print(f'Current Time: {current_time}')\n",
    "with open(res_path/\"res.txt\", \"a\") as f: \n",
    "    f.write(f\"===================================================================\")       \n",
    "    f.write(f\"Start Time: {current_time}\\r\\n\")\n",
    "\n",
    "for iM in range( len(M_range) ):\n",
    "    for iPara in range( len(ParaRange) ):\n",
    "        # if M_range[iM] == True and iPara>4: continue \n",
    "        # if M_range[iM] == False and iPara<2: continue\n",
    "        for  imultitest in range((multitest)):\n",
    "            if M_range[iM]=='EP-s':\n",
    "                config.EP_symm_W = True\n",
    "                config.train_tmethod = 'EP'\n",
    "            elif M_range[iM]=='EP-a':\n",
    "                config.EP_symm_W = False\n",
    "                config.train_tmethod = 'EP'\n",
    "            else:\n",
    "                config.train_tmethod = M_range[iM]\n",
    "            config.nL_hidd = ParaRange[iPara]\n",
    "            config.EP_b_sc = 0.1 if config.nL_hidd>4 else 0.01\n",
    "\n",
    "            #-----------------\n",
    "            config.EP_It2sta = 10 if config.nL_hidd==2 else 18\n",
    "            config.EP_It2sta2 = 5 if config.nL_hidd==2 else 10\n",
    "            # ---------------------------------\n",
    "            model = FNN_LN(config).to(device)\n",
    "\n",
    "            taskinfo = f'{config.train_tmethod}_L{config.nL_hidd}_{config.train_task}_{ParaName}-EP_b_sc{M_range[iM]}-EP_It2sta{config.EP_It2sta}-{Einfo}'\n",
    "            print(taskinfo)\n",
    "\n",
    "            ## Train\n",
    "\n",
    "            for epoch in range(config.train_n_epochs):\n",
    "                losssum = 0\n",
    "                train_correct = 0\n",
    "                train_total = 0\n",
    "                random.shuffle(train_loader_gpu)\n",
    "                with tqdm(total=len(train_loader_gpu), desc=f'Epoch {epoch + 1}/{config.train_n_epochs}: ', unit='batch', ncols=90, mininterval=1, colour='blue') as pbar:\n",
    "                    for i, (images, labels) in enumerate(train_loader_gpu):\n",
    "                        # \n",
    "                        images = images.view(-1, config.n_input)\n",
    "                        labels_one_hot = one_hot(labels, config.n_out, device=device)\n",
    "                        # \n",
    "                        outputs = model.forward(images)\n",
    "                        _, predicted = torch.max(outputs, 1)\n",
    "                        # \n",
    "                        loss = cross_entropy_loss(outputs, labels_one_hot)\n",
    "                        # loss = loss.to('cpu')\n",
    "                        losssum += loss.item()\n",
    "                        #\n",
    "                        outputs = model.backward(images, labels_one_hot, outputs)\n",
    "                        # \n",
    "                        model.update_weights_adam() if config.adam else model.update_weights() #model.update_weights_adam() model.update_weights()\n",
    "                        #  \n",
    "                        if i % 10 == 0: \n",
    "                            pbar.set_postfix({'loss': f'{losssum/(i+1):.6f}'})  \n",
    "                            pbar.update(10)\n",
    "\n",
    "                        train_total += labels.size(0)\n",
    "                        train_correct += (predicted == labels).sum().item()\n",
    "\n",
    "                train_accuracy = train_correct / train_total\n",
    "\n",
    "                # test set -------------------------------------------------------------\n",
    "                test_correct = 0\n",
    "                test_total = 0\n",
    "\n",
    "                for images, labels in test_loader_gpu:\n",
    "                    images = images.view(-1, config.n_input)\n",
    "                    # \n",
    "                    outputs = model.forward(images)\n",
    "\n",
    "                    _, predicted = torch.max(outputs, 1)\n",
    "                    test_total += labels.size(0)\n",
    "                    test_correct += (predicted == labels).sum().item()\n",
    "\n",
    "                test_accuracy = test_correct / test_total\n",
    "\n",
    "                res[iM][iPara][imultitest][0][epoch] = losssum\n",
    "                res[iM][iPara][imultitest][1][epoch] = train_accuracy\n",
    "                res[iM][iPara][imultitest][2][epoch] = test_accuracy\n",
    "\n",
    "                current_time = time.strftime(\"%Y%m%d-%H%M%S\", time.localtime())\n",
    "                print(f'\\t Loss: {res[iM][iPara][imultitest][0][epoch] :.3f},\\t'\n",
    "                    f'Train : {res[iM][iPara][imultitest][1][epoch] * 100:.2f}%({np.max(res[iM][iPara][imultitest][1]) * 100:.2f}%),\\t'\n",
    "                    f'Test : {res[iM][iPara][imultitest][2][epoch] * 100:.2f}%({np.max(res[iM][iPara][imultitest][2]) * 100:.2f}%),\\t'\n",
    "                    f'Current Time: {current_time}')\n",
    "                \n",
    "                # if 1-train_accuracy <1e-4:\n",
    "                #     break\n",
    "            \n",
    "            # best result\n",
    "            print(f\"{taskinfo} Time: {current_time}, Epochs: {config.train_n_epochs}, Learning Rate: {config.train_eta_global}, \"\n",
    "                f\"Best: {max(res[iM][iPara][imultitest][1]) * 100:.2f}%  {max(res[iM][iPara][imultitest][2]) * 100:.2f}%\\n\")\n",
    "            \n",
    "        # if config.save: \n",
    "        for attempt in range(5):\n",
    "            try:\n",
    "                with open(res_path/\"res.txt\", \"a\") as f:\n",
    "                    trainacct = np.max(res[iM][iPara][:,1,:], axis=-1)\n",
    "                    testacct = np.max(res[iM][iPara][:,2,:], axis=-1)\n",
    "                    f.write(f\"{taskinfo} Time: {current_time}: \"\n",
    "                            f\"train: {np.mean(trainacct) * 100:.2f}%+-{np.std(trainacct, ddof=1)*100:.2f}% ({np.min(trainacct) * 100:.2f}% {np.max(trainacct) * 100:.2f}%)\"\n",
    "                            f\"\\t test: {np.mean(testacct) * 100:.2f}%+-{np.std(testacct, ddof=1)*100:.2f}% ({np.min(testacct) * 100:.2f}% {np.max(testacct) * 100:.2f}%)\\n\")\n",
    "\n",
    "                    for attr_name in dir(config):\n",
    "                        if not attr_name.startswith('__') and not callable(getattr(config, attr_name)):  \n",
    "                            attr_value = getattr(config, attr_name)\n",
    "                            f.write(f'{attr_name}: {attr_value}  ')  \n",
    "                    f.write(f'\\n\\n')  \n",
    "\n",
    "                break  # \n",
    "            except PermissionError:\n",
    "                if attempt < 5 - 1:\n",
    "                    print(f\"Permission denied, retrying in {5} seconds...\")\n",
    "                    time.sleep(5)\n",
    "                else:\n",
    "                    raise  #"
   ]
  },
  {
   "cell_type": "code",
   "execution_count": 5,
   "id": "e2761998",
   "metadata": {},
   "outputs": [],
   "source": [
    "\n",
    "# ---------------------------\n",
    "current_time = time.strftime(\"%Y%m%d-%H%M%S\", time.localtime())\n",
    "if config.save: \n",
    "    save_dict = {\n",
    "        \"M_range\": M_range,\n",
    "        \"ParaRange\": ParaRange,\n",
    "        \"multitest\": multitest,\n",
    "        \"train_task\": config.train_task,\n",
    "        \"res\": res,\n",
    "    }\n",
    "    np.savez_compressed(res_path / f\"{taskinfo}_{current_time}_res\",  **save_dict)\n",
    "        \n",
    "\n"
   ]
  },
  {
   "cell_type": "code",
   "execution_count": 6,
   "id": "fba4b8e6",
   "metadata": {},
   "outputs": [
    {
     "name": "stdout",
     "output_type": "stream",
     "text": [
      "EP-s-3 Time: 20250721-113326: train: 100.00%+-0.00% (100.00% 100.00%)\t test: 98.36%+-0.06% (98.30% 98.45%)\n",
      "\n",
      "EP-s-2 Time: 20250721-113326: train: 100.00%+-0.00% (100.00% 100.00%)\t test: 98.30%+-0.07% (98.21% 98.41%)\n",
      "\n",
      "BP-3 Time: 20250721-113326: train: 100.00%+-0.00% (100.00% 100.00%)\t test: 98.36%+-0.08% (98.28% 98.47%)\n",
      "\n",
      "BP-2 Time: 20250721-113326: train: 100.00%+-0.00% (100.00% 100.00%)\t test: 98.29%+-0.05% (98.26% 98.37%)\n",
      "\n",
      "0\n"
     ]
    }
   ],
   "source": [
    "for iM in range( len(M_range) ):\n",
    "    for iPara in range( len(ParaRange) ):        \n",
    "        trainacct = np.max(res[iM][iPara][:,1,:], axis=-1)\n",
    "        \n",
    "        testacct = np.max(res[iM][iPara][:,2,:], axis=-1)\n",
    "        print(f\"{M_range[iM]}-{ParaRange[iPara]} Time: {current_time}: \"\n",
    "                f\"train: {np.mean(trainacct) * 100:.2f}%+-{np.std(trainacct, ddof=1)*100:.2f}% ({np.min(trainacct) * 100:.2f}% {np.max(trainacct) * 100:.2f}%)\"\n",
    "                f\"\\t test: {np.mean(testacct) * 100:.2f}%+-{np.std(testacct, ddof=1)*100:.2f}% ({np.min(testacct) * 100:.2f}% {np.max(testacct) * 100:.2f}%)\\n\")\n",
    "        \n",
    "\n",
    "\n",
    "print('0')\n"
   ]
  },
  {
   "cell_type": "code",
   "execution_count": null,
   "id": "1244fe1e",
   "metadata": {},
   "outputs": [],
   "source": []
  }
 ],
 "metadata": {
  "kernelspec": {
   "display_name": "torchgpu",
   "language": "python",
   "name": "python3"
  },
  "language_info": {
   "codemirror_mode": {
    "name": "ipython",
    "version": 3
   },
   "file_extension": ".py",
   "mimetype": "text/x-python",
   "name": "python",
   "nbconvert_exporter": "python",
   "pygments_lexer": "ipython3",
   "version": "3.9.20"
  }
 },
 "nbformat": 4,
 "nbformat_minor": 5
}
